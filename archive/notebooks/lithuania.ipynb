{
    "cells": [
        {
            "cell_type": "markdown",
            "id": "58031b04-3a42-4518-9b87-27f083e6245b",
            "metadata": {},
            "source": [
                "## Download buildings"
            ]
        },
        {
            "cell_type": "code",
            "execution_count": 1,
            "id": "dabbb93d-3d91-4136-9f54-03cb22dc0043",
            "metadata": {},
            "outputs": [],
            "source": [
                "import geopandas as gpd"
            ]
        },
        {
            "cell_type": "code",
            "execution_count": 2,
            "id": "2e3db84a-c0e7-4059-808a-3e82dfb6db51",
            "metadata": {},
            "outputs": [],
            "source": [
                "buildings_url = 'https://inspire-geoportal.lt/resources/atom/bu/data/BU_INSPIRE2.zip'"
            ]
        },
        {
            "cell_type": "code",
            "execution_count": 3,
            "id": "5514c22e-759c-4e02-86fe-b837ed6210a1",
            "metadata": {},
            "outputs": [
                {
                    "name": "stdout",
                    "output_type": "stream",
                    "text": [
                        "--2024-11-29 11:55:32--  https://inspire-geoportal.lt/resources/atom/bu/data/BU_INSPIRE2.zip\n",
                        "Resolving inspire-geoportal.lt (inspire-geoportal.lt)... 46.255.211.30\n",
                        "Connecting to inspire-geoportal.lt (inspire-geoportal.lt)|46.255.211.30|:443... connected.\n",
                        "HTTP request sent, awaiting response... 200 OK\n",
                        "Length: 342523846 (327M) [application/zip]\n",
                        "Saving to: ‘BU_INSPIRE2.zip’\n",
                        "\n",
                        "BU_INSPIRE2.zip     100%[===================>] 326,66M  3,19MB/s    in 81s     \n",
                        "\n",
                        "2024-11-29 11:56:54 (4,02 MB/s) - ‘BU_INSPIRE2.zip’ saved [342523846/342523846]\n",
                        "\n"
                    ]
                }
            ],
            "source": [
                "!wget https://inspire-geoportal.lt/resources/atom/bu/data/BU_INSPIRE2.zip"
            ]
        },
        {
            "cell_type": "code",
            "execution_count": 3,
            "id": "e38fcccf-4b30-49ce-af0f-b19588e3aa5f",
            "metadata": {},
            "outputs": [
                {
                    "name": "stdout",
                    "output_type": "stream",
                    "text": [
                        "Archive:  BU_INSPIRE2.zip\n",
                        "  inflating: BU_INSPIRE2.gml         \n"
                    ]
                }
            ],
            "source": [
                "!unzip BU_INSPIRE2.zip"
            ]
        },
        {
            "cell_type": "code",
            "execution_count": 4,
            "id": "7b29f71b-5997-4b75-ad59-bd614d903048",
            "metadata": {},
            "outputs": [
                {
                    "name": "stderr",
                    "output_type": "stream",
                    "text": [
                        "/home/krasen/urban_taxonomy/.pixi/envs/default/lib/python3.12/site-packages/pyogrio/raw.py:198: RuntimeWarning: Field with same name (description) already exists in (Building). Skipping newer ones\n",
                        "  return ogr_read(\n"
                    ]
                }
            ],
            "source": [
                "buildings = gpd.read_file('BU_INSPIRE2.gml')"
            ]
        },
        {
            "cell_type": "code",
            "execution_count": null,
            "id": "194e979e-ba21-4121-87ae-d11807925811",
            "metadata": {},
            "outputs": [],
            "source": []
        },
        {
            "cell_type": "markdown",
            "id": "60c5d1e8-1cd5-4557-b35c-2c98c5aac0d4",
            "metadata": {},
            "source": [
                "### Update region dict and save buildings"
            ]
        },
        {
            "cell_type": "code",
            "execution_count": null,
            "id": "36ab1de6-faf7-4ecc-958b-6493e57b0c6f",
            "metadata": {},
            "outputs": [],
            "source": []
        },
        {
            "cell_type": "code",
            "execution_count": 9,
            "id": "5c78289d-dd8d-44e3-9cfd-02c94de38b5d",
            "metadata": {},
            "outputs": [],
            "source": [
                "buildings = buildings.to_crs(epsg=3035)"
            ]
        },
        {
            "cell_type": "code",
            "execution_count": null,
            "id": "ca6dca36-d0fe-4a7a-836c-a707a071e479",
            "metadata": {},
            "outputs": [],
            "source": []
        },
        {
            "cell_type": "code",
            "execution_count": 23,
            "id": "4db6a7cc-1c4b-4d30-b0ff-53e4e57cac18",
            "metadata": {},
            "outputs": [],
            "source": [
                "# add to regions dir"
            ]
        },
        {
            "cell_type": "code",
            "execution_count": 10,
            "id": "e2538aef-7a89-4af6-a43e-64b25dce0925",
            "metadata": {},
            "outputs": [],
            "source": [
                "bounds = buildings.bounds"
            ]
        },
        {
            "cell_type": "code",
            "execution_count": 11,
            "id": "39488d21-b6d3-4f3c-be1a-aa1b6f3a94ae",
            "metadata": {},
            "outputs": [],
            "source": [
                "from shapely import box"
            ]
        },
        {
            "cell_type": "code",
            "execution_count": 15,
            "id": "233ada0c-773c-4843-894b-6745b66205e8",
            "metadata": {},
            "outputs": [],
            "source": [
                "lithuania_convex_hull = box(bounds.minx.min(), bounds.miny.min(), bounds.maxx.max(), bounds.maxy.max())"
            ]
        },
        {
            "cell_type": "code",
            "execution_count": 45,
            "id": "167e974f-356e-47ac-9cad-6a9236195377",
            "metadata": {},
            "outputs": [],
            "source": [
                "regions_datadir = '/data/uscuni-ulce/'\n",
                "region_hulls = gpd.read_parquet(\n",
                "        regions_datadir + \"regions/\" + \"cadastre_regions_hull.parquet\"\n",
                "    )"
            ]
        },
        {
            "cell_type": "code",
            "execution_count": 46,
            "id": "30ffb34a-3b09-4441-99c5-4620e5a9372e",
            "metadata": {},
            "outputs": [],
            "source": [
                "lithuania_region_id = region_hulls.index[-1] + 100"
            ]
        },
        {
            "cell_type": "code",
            "execution_count": 47,
            "id": "c8ae6725-3c60-44ab-92bd-7ea0ed4d6bce",
            "metadata": {},
            "outputs": [],
            "source": [
                "### add lithuania to the region_hulls\n",
                "region_hulls.loc[lithuania_region_id, 'convex_hull'] = lithuania_convex_hull"
            ]
        },
        {
            "cell_type": "code",
            "execution_count": 48,
            "id": "fe88a4e5-874a-42c1-a421-86c6450ea3d3",
            "metadata": {},
            "outputs": [
                {
                    "data": {
                        "text/html": [
                            "<div>\n",
                            "<style scoped>\n",
                            "    .dataframe tbody tr th:only-of-type {\n",
                            "        vertical-align: middle;\n",
                            "    }\n",
                            "\n",
                            "    .dataframe tbody tr th {\n",
                            "        vertical-align: top;\n",
                            "    }\n",
                            "\n",
                            "    .dataframe thead th {\n",
                            "        text-align: right;\n",
                            "    }\n",
                            "</style>\n",
                            "<table border=\"1\" class=\"dataframe\">\n",
                            "  <thead>\n",
                            "    <tr style=\"text-align: right;\">\n",
                            "      <th></th>\n",
                            "      <th>convex_hull</th>\n",
                            "    </tr>\n",
                            "    <tr>\n",
                            "      <th>labels</th>\n",
                            "      <th></th>\n",
                            "    </tr>\n",
                            "  </thead>\n",
                            "  <tbody>\n",
                            "    <tr>\n",
                            "      <th>4</th>\n",
                            "      <td>POLYGON ((4122200 3045600, 4121500 3045900, 40...</td>\n",
                            "    </tr>\n",
                            "    <tr>\n",
                            "      <th>10</th>\n",
                            "      <td>POLYGON ((4068900 3057300, 4051000 3064300, 40...</td>\n",
                            "    </tr>\n",
                            "    <tr>\n",
                            "      <th>132</th>\n",
                            "      <td>POLYGON ((4053100 3049800, 4050900 3053000, 40...</td>\n",
                            "    </tr>\n",
                            "    <tr>\n",
                            "      <th>134</th>\n",
                            "      <td>POLYGON ((4052500 3093600, 4052200 3093700, 40...</td>\n",
                            "    </tr>\n",
                            "    <tr>\n",
                            "      <th>286</th>\n",
                            "      <td>POLYGON ((4060600 3103900, 4057000 3104200, 40...</td>\n",
                            "    </tr>\n",
                            "    <tr>\n",
                            "      <th>...</th>\n",
                            "      <td>...</td>\n",
                            "    </tr>\n",
                            "    <tr>\n",
                            "      <th>137636</th>\n",
                            "      <td>POLYGON ((5221900 3158300, 5213500 3166400, 52...</td>\n",
                            "    </tr>\n",
                            "    <tr>\n",
                            "      <th>137863</th>\n",
                            "      <td>POLYGON ((5243700 3122100, 5235000 3122700, 52...</td>\n",
                            "    </tr>\n",
                            "    <tr>\n",
                            "      <th>138804</th>\n",
                            "      <td>POLYGON ((5290800 3173900, 5280100 3176400, 52...</td>\n",
                            "    </tr>\n",
                            "    <tr>\n",
                            "      <th>139096</th>\n",
                            "      <td>POLYGON ((5261500 3081000, 5261400 3081100, 52...</td>\n",
                            "    </tr>\n",
                            "    <tr>\n",
                            "      <th>139196</th>\n",
                            "      <td>POLYGON ((5378855.125 3507641.489, 5378855.125...</td>\n",
                            "    </tr>\n",
                            "  </tbody>\n",
                            "</table>\n",
                            "<p>829 rows × 1 columns</p>\n",
                            "</div>"
                        ],
                        "text/plain": [
                            "                                              convex_hull\n",
                            "labels                                                   \n",
                            "4       POLYGON ((4122200 3045600, 4121500 3045900, 40...\n",
                            "10      POLYGON ((4068900 3057300, 4051000 3064300, 40...\n",
                            "132     POLYGON ((4053100 3049800, 4050900 3053000, 40...\n",
                            "134     POLYGON ((4052500 3093600, 4052200 3093700, 40...\n",
                            "286     POLYGON ((4060600 3103900, 4057000 3104200, 40...\n",
                            "...                                                   ...\n",
                            "137636  POLYGON ((5221900 3158300, 5213500 3166400, 52...\n",
                            "137863  POLYGON ((5243700 3122100, 5235000 3122700, 52...\n",
                            "138804  POLYGON ((5290800 3173900, 5280100 3176400, 52...\n",
                            "139096  POLYGON ((5261500 3081000, 5261400 3081100, 52...\n",
                            "139196  POLYGON ((5378855.125 3507641.489, 5378855.125...\n",
                            "\n",
                            "[829 rows x 1 columns]"
                        ]
                    },
                    "execution_count": 48,
                    "metadata": {},
                    "output_type": "execute_result"
                }
            ],
            "source": [
                "region_hulls"
            ]
        },
        {
            "cell_type": "code",
            "execution_count": 49,
            "id": "e80d5035-3f82-43c8-85dc-b518700c08f6",
            "metadata": {},
            "outputs": [],
            "source": [
                "region_hulls.to_parquet(regions_datadir + \"regions/\" + \"cadastre_regions_hull.parquet\")"
            ]
        },
        {
            "cell_type": "code",
            "execution_count": 50,
            "id": "c445167c-e9eb-4a9c-a0a6-d85c961051df",
            "metadata": {},
            "outputs": [],
            "source": [
                "buildings.to_parquet(f'/data/uscuni-ulce/buildings_standardised/buildings_lithuania.pq')"
            ]
        },
        {
            "cell_type": "code",
            "execution_count": null,
            "id": "d8971f63-3bde-4838-8e31-bb6272544c5b",
            "metadata": {},
            "outputs": [],
            "source": [
                "buildings.to_parquet(f'/data/uscuni-ulce/buildings_in_regions/buildings_{lithuania_region_id}.pq')"
            ]
        },
        {
            "cell_type": "code",
            "execution_count": null,
            "id": "eac040b5-4fc8-4b91-8b4e-c9f7a722b512",
            "metadata": {},
            "outputs": [],
            "source": []
        },
        {
            "cell_type": "markdown",
            "id": "f2f78660-13f6-4a14-8592-ab0200467898",
            "metadata": {},
            "source": [
                "## Download Streets"
            ]
        },
        {
            "cell_type": "code",
            "execution_count": 63,
            "id": "1b41f445-8a7f-422d-8cb2-233607e6194c",
            "metadata": {},
            "outputs": [],
            "source": [
                "import datetime\n",
                "streets_dir = '/data/uscuni-ulce/overture_streets/'\n",
                "from core.generate_streets import read_overture_region_streets\n",
                "def process_and_save(region_hull, region_id):\n",
                "    print('Processing', region_id, datetime.datetime.now())\n",
                "    streets = read_overture_region_streets(region_hull, region_id)\n",
                "    streets.to_parquet(streets_dir + f'streets_{region_id}.pq')"
            ]
        },
        {
            "cell_type": "code",
            "execution_count": 64,
            "id": "576a8dac-1a61-481c-9cfc-08d6aa636d12",
            "metadata": {},
            "outputs": [],
            "source": [
                "region_hull = region_hulls.to_crs(epsg=4326).loc[lithuania_region_id].iloc[0]\n",
                "region_id = lithuania_region_id"
            ]
        },
        {
            "cell_type": "code",
            "execution_count": 66,
            "id": "88269eac-5c4e-4936-817a-c837bfda287a",
            "metadata": {},
            "outputs": [
                {
                    "name": "stdout",
                    "output_type": "stream",
                    "text": [
                        "Processing 139196 2024-11-29 12:27:27.560923\n",
                        "CPU times: user 14.1 s, sys: 5.13 s, total: 19.2 s\n",
                        "Wall time: 5min 9s\n"
                    ]
                }
            ],
            "source": [
                "%%time\n",
                "process_and_save(region_hull, region_id)"
            ]
        },
        {
            "cell_type": "code",
            "execution_count": 67,
            "id": "f0237cf1-09c7-4bf9-8db7-342da86a905c",
            "metadata": {},
            "outputs": [],
            "source": [
                "gdf = gpd.read_parquet(streets_dir + f'streets_{lithuania_region_id}.pq')"
            ]
        },
        {
            "cell_type": "code",
            "execution_count": null,
            "id": "3b8fd268-972c-4674-b812-d1f11be23880",
            "metadata": {},
            "outputs": [],
            "source": []
        },
        {
            "cell_type": "code",
            "execution_count": 69,
            "id": "364a231b-2bba-479e-b962-eec8e6e7cd17",
            "metadata": {},
            "outputs": [
                {
                    "data": {
                        "text/plain": [
                            "np.int64(139196)"
                        ]
                    },
                    "execution_count": 69,
                    "metadata": {},
                    "output_type": "execute_result"
                }
            ],
            "source": [
                "lithuania_region_id"
            ]
        },
        {
            "cell_type": "code",
            "execution_count": null,
            "id": "bedb988d-100e-4537-8c06-b22114ade31a",
            "metadata": {},
            "outputs": [],
            "source": []
        }
    ],
    "metadata": {
        "kernelspec": {
            "display_name": "Python 3 (ipykernel)",
            "language": "python",
            "name": "python3"
        },
        "language_info": {
            "codemirror_mode": {
                "name": "ipython",
                "version": 3
            },
            "file_extension": ".py",
            "mimetype": "text/x-python",
            "name": "python",
            "nbconvert_exporter": "python",
            "pygments_lexer": "ipython3",
            "version": "3.12.5"
        }
    },
    "nbformat": 4,
    "nbformat_minor": 5
}