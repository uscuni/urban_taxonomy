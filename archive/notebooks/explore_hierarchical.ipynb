{
 "cells": [
  {
   "cell_type": "code",
   "execution_count": null,
   "id": "27f054dd-c113-4c20-ba97-169b4ffaec11",
   "metadata": {},
   "outputs": [],
   "source": []
  },
  {
   "cell_type": "code",
   "execution_count": 1,
   "id": "55cc01cf-60c2-4919-9a23-3299e09aee78",
   "metadata": {},
   "outputs": [
    {
     "name": "stdout",
     "output_type": "stream",
     "text": [
      "CPU times: user 3.05 s, sys: 63.5 ms, total: 3.12 s\n",
      "Wall time: 802 ms\n"
     ]
    }
   ],
   "source": [
    "%%time\n",
    "\n",
    "import glob\n",
    "\n",
    "import geopandas as gpd\n",
    "import matplotlib.pyplot as plt\n",
    "import numba\n",
    "import numpy as np\n",
    "import pandas as pd\n",
    "from libpysal.graph import read_parquet\n",
    "from sklearn.preprocessing import StandardScaler\n",
    "from sklearn.neighbors import KDTree"
   ]
  },
  {
   "cell_type": "code",
   "execution_count": 2,
   "id": "0c27a7f8-4da5-48b4-acbd-7b505d622f74",
   "metadata": {},
   "outputs": [],
   "source": [
    "region_id = 69300\n",
    "\n",
    "tessellations_dir = '/data/uscuni-ulce/processed_data/tessellations/'\n",
    "chars_dir = \"/data/uscuni-ulce/processed_data/chars/\"\n",
    "graph_dir = \"/data/uscuni-ulce/processed_data/neigh_graphs/\"\n",
    "val_path = '../data/prague_validation/morphotopes.pq'"
   ]
  },
  {
   "cell_type": "code",
   "execution_count": 3,
   "id": "93b3f5aa-b423-46bb-b84b-70c59cbb892b",
   "metadata": {},
   "outputs": [],
   "source": [
    "region_id = 'freiburg'\n",
    "buildings_dir = streets_dir = enclosures_dir = tessellations_dir = graph_dir = '../data/freiburg/'\n",
    "chars_dir = '../data/freiburg/chars/'\n",
    "val_path = '../data/fbg_cluster_validation.pq'"
   ]
  },
  {
   "cell_type": "code",
   "execution_count": 4,
   "id": "d147570c-dace-435b-9621-51b5d865f66f",
   "metadata": {},
   "outputs": [],
   "source": [
    "# gpd.read_parquet('../data/fbg_cluster_validation.pq').explore()"
   ]
  },
  {
   "cell_type": "code",
   "execution_count": null,
   "id": "9b0a4af6-e08d-479f-aa1b-614655cff739",
   "metadata": {},
   "outputs": [],
   "source": []
  },
  {
   "cell_type": "code",
   "execution_count": 5,
   "id": "2b72f720-8ded-4b47-949f-1092e9ebd693",
   "metadata": {},
   "outputs": [],
   "source": [
    "graph = read_parquet(graph_dir + f\"tessellation_graph_{region_id}_knn1.parquet\")"
   ]
  },
  {
   "cell_type": "code",
   "execution_count": 6,
   "id": "b650aaab-81f2-4d37-8ff1-64b181afd919",
   "metadata": {},
   "outputs": [
    {
     "data": {
      "text/plain": [
       "count    36183.000000\n",
       "mean         6.885913\n",
       "std          2.030835\n",
       "min          1.000000\n",
       "25%          6.000000\n",
       "50%          7.000000\n",
       "75%          8.000000\n",
       "max         69.000000\n",
       "Name: cardinalities, dtype: float64"
      ]
     },
     "execution_count": 6,
     "metadata": {},
     "output_type": "execute_result"
    }
   ],
   "source": [
    "graph.cardinalities.describe()"
   ]
  },
  {
   "cell_type": "code",
   "execution_count": null,
   "id": "a6f1d619-f0e7-41d6-b35b-22e6379d132c",
   "metadata": {},
   "outputs": [],
   "source": []
  },
  {
   "cell_type": "code",
   "execution_count": 7,
   "id": "d89baa9c-25b8-4233-8534-a3dcf13674ca",
   "metadata": {},
   "outputs": [],
   "source": [
    "from core.cluster_validation import print_distance, generate_neigbhourhood_groups, generate_detailed_clusters"
   ]
  },
  {
   "cell_type": "code",
   "execution_count": null,
   "id": "8f540cb1-5286-4bbc-8b55-df992662be1d",
   "metadata": {},
   "outputs": [],
   "source": []
  },
  {
   "cell_type": "code",
   "execution_count": 8,
   "id": "0527419b-319b-46e8-bf5c-076fd26f7c7e",
   "metadata": {},
   "outputs": [],
   "source": [
    "tessellation = gpd.read_parquet(\n",
    "        tessellations_dir + f\"tessellation_{region_id}.parquet\"\n",
    ")"
   ]
  },
  {
   "cell_type": "code",
   "execution_count": null,
   "id": "e299f1d6-cb58-4141-a42a-fef4df31c927",
   "metadata": {},
   "outputs": [],
   "source": []
  },
  {
   "cell_type": "code",
   "execution_count": null,
   "id": "6ffd544f-27b4-4fac-8ee1-6f2c85592867",
   "metadata": {},
   "outputs": [],
   "source": []
  },
  {
   "cell_type": "code",
   "execution_count": null,
   "id": "08a8256e-ee74-4ad8-9567-2cb294b4b576",
   "metadata": {},
   "outputs": [],
   "source": []
  },
  {
   "cell_type": "code",
   "execution_count": 15,
   "id": "58ecc5b7-a417-4684-aac2-1f529333a5b3",
   "metadata": {},
   "outputs": [],
   "source": [
    "X_train = pd.read_parquet(chars_dir + f'primary_chars_{region_id}.parquet')\n",
    "\n",
    "\n",
    "\n",
    "X_train = X_train[X_train.index >= 0]\n",
    "\n",
    "\n",
    "\n",
    "# spatial_lag = 3\n",
    "\n",
    "# # lag = pd.read_parquet(f'/data/uscuni-ulce/processed_data/context_data/context_chars_{region_id}_lag_{spatial_lag}.parquet')\n",
    "\n",
    "# lag = pd.read_parquet(f'/data/uscuni-ulce/processed_data/context_data/unprocessed_context_chars_{region_id}_lag_{spatial_lag}_sw.parquet')\n",
    "\n",
    "\n",
    "# X_train = X_train.join(lag[[c for c in lag.columns if '_median' in c]], how='inner')\n",
    "\n",
    "# X_train = X_train.join(lag, how='inner')\n"
   ]
  },
  {
   "cell_type": "code",
   "execution_count": 16,
   "id": "74ee4975-74fb-4131-b3be-63a98259d325",
   "metadata": {},
   "outputs": [],
   "source": [
    "# for c in X_train.columns:\n",
    "#     X_train[c] = X_train[c].clip(*np.percentile(X_train[c], [5, 95]))"
   ]
  },
  {
   "cell_type": "code",
   "execution_count": null,
   "id": "96fe4f8a-a2fb-425f-8370-58b8c701827c",
   "metadata": {},
   "outputs": [],
   "source": []
  },
  {
   "cell_type": "code",
   "execution_count": 17,
   "id": "782f0a0b-22a4-4fa3-ba8a-72ae1af7388f",
   "metadata": {},
   "outputs": [],
   "source": [
    "to_drop = [\n",
    "    'stcSAl',\n",
    " # 'ltkOri',\n",
    " # 'stbOri',\n",
    " 'stcOri',\n",
    " # 'stbCeA',\n",
    "\n",
    "#not in barcelona\n",
    " # 'ltcBuA', 'midRea', 'midAre', 'likWBB'\n",
    "]\n",
    "\n",
    "\n",
    "all_drop = []\n",
    "for c in to_drop:\n",
    "    all_drop += X_train.columns[X_train.columns.str.contains(c)].tolist()\n",
    "\n",
    "\n",
    "X_train = X_train.drop(all_drop, axis=1)"
   ]
  },
  {
   "cell_type": "code",
   "execution_count": 18,
   "id": "be25ae62-906a-45dc-976d-a5d4a1dc5774",
   "metadata": {},
   "outputs": [],
   "source": [
    "\n",
    "# vals = StandardScaler().fit_transform(X_train)\n",
    "# X_train = pd.DataFrame(vals, columns=X_train.columns, index=X_train.index)\n",
    "\n",
    "# vals = np.nan_to_num(X_train)\n",
    "# X_train = pd.DataFrame(vals, columns=X_train.columns, index=X_train.index)"
   ]
  },
  {
   "cell_type": "code",
   "execution_count": 19,
   "id": "166755b5-25db-4869-a274-8e9feabb82e8",
   "metadata": {},
   "outputs": [],
   "source": [
    "# t1 = X_train[[c for c in X_train.columns if '_' not in c]]\n",
    "# X_train = X_train[[c for c in X_train.columns if '_median' in c]]\n",
    "\n",
    "# X_train = t1.join(t2)\n",
    "# X_train.shape"
   ]
  },
  {
   "cell_type": "code",
   "execution_count": null,
   "id": "c5eded4f-112b-40f3-9767-a036c5518c7c",
   "metadata": {},
   "outputs": [],
   "source": []
  },
  {
   "cell_type": "code",
   "execution_count": 20,
   "id": "b79a3116-6d66-4bfc-84cc-630dffe51a50",
   "metadata": {},
   "outputs": [],
   "source": [
    "# X_train = X_train.drop(stats.columns[stats.loc['std'] == 0], axis=1)"
   ]
  },
  {
   "cell_type": "code",
   "execution_count": null,
   "id": "32dcd749-ec43-4a23-a57a-bf9550b01531",
   "metadata": {},
   "outputs": [],
   "source": []
  },
  {
   "cell_type": "code",
   "execution_count": 21,
   "id": "e6641e97-9a5b-4d95-a2cc-8c1915e9f0d1",
   "metadata": {},
   "outputs": [
    {
     "data": {
      "text/plain": [
       "(36067, 62)"
      ]
     },
     "execution_count": 21,
     "metadata": {},
     "output_type": "execute_result"
    }
   ],
   "source": [
    "X_train.shape"
   ]
  },
  {
   "cell_type": "code",
   "execution_count": null,
   "id": "4018342c-6506-4f57-bacc-4132b939f79f",
   "metadata": {},
   "outputs": [],
   "source": []
  },
  {
   "cell_type": "code",
   "execution_count": null,
   "id": "20500f7e-b664-4ced-b9dd-5e3d8404ac95",
   "metadata": {},
   "outputs": [],
   "source": []
  },
  {
   "cell_type": "code",
   "execution_count": null,
   "id": "afe3c5df-3c8b-4295-b618-17c28e24b8d8",
   "metadata": {},
   "outputs": [],
   "source": []
  },
  {
   "cell_type": "code",
   "execution_count": null,
   "id": "b9f3ad69-68e4-4207-bbc1-3d8adf9ab292",
   "metadata": {},
   "outputs": [],
   "source": []
  },
  {
   "cell_type": "code",
   "execution_count": null,
   "id": "68db8a21-9347-4462-a5e9-0456eb288c60",
   "metadata": {},
   "outputs": [],
   "source": []
  },
  {
   "cell_type": "code",
   "execution_count": 22,
   "id": "dfd60071-2197-4622-88a4-6cab698c5f53",
   "metadata": {},
   "outputs": [],
   "source": [
    "from sklearn.cluster import AgglomerativeClustering\n",
    "from scipy.cluster.hierarchy import dendrogram\n",
    "from scipy.cluster.hierarchy import fcluster\n",
    "from sklearn.metrics import adjusted_rand_score\n",
    "from sklearn.metrics import davies_bouldin_score\n",
    "from core.cluster_validation import get_linkage_matrix"
   ]
  },
  {
   "cell_type": "code",
   "execution_count": 23,
   "id": "90aac486-be30-4303-ab79-05abc7975ff8",
   "metadata": {},
   "outputs": [],
   "source": [
    "q1 = read_parquet(graph_dir + f\"tessellation_graph_{region_id}_knn1.parquet\")\n",
    "\n",
    "# clustering_graph = q1.higher_order(k=3, lower_order=True, diagonal=True).subgraph(X_train.index.values)\n",
    "\n",
    "clustering_graph = q1.copy()"
   ]
  },
  {
   "cell_type": "code",
   "execution_count": 24,
   "id": "0de9e06b-024f-4010-a7c8-01797abb2a4e",
   "metadata": {},
   "outputs": [
    {
     "data": {
      "text/plain": [
       "component labels\n",
       "3     34505\n",
       "4       771\n",
       "21      614\n",
       "23       79\n",
       "9        18\n",
       "7        17\n",
       "24       16\n",
       "6         8\n",
       "22        7\n",
       "19        5\n",
       "8         4\n",
       "25        3\n",
       "26        2\n",
       "5         2\n",
       "28        2\n",
       "18        1\n",
       "27        1\n",
       "20        1\n",
       "0         1\n",
       "17        1\n",
       "16        1\n",
       "15        1\n",
       "1         1\n",
       "13        1\n",
       "12        1\n",
       "11        1\n",
       "10        1\n",
       "2         1\n",
       "14        1\n",
       "Name: count, dtype: int64"
      ]
     },
     "execution_count": 24,
     "metadata": {},
     "output_type": "execute_result"
    }
   ],
   "source": [
    "graph_labels = q1.subgraph(X_train.index.values).component_labels\n",
    "graph_labels.value_counts()"
   ]
  },
  {
   "cell_type": "code",
   "execution_count": null,
   "id": "a43d3b58-9a6a-4510-abad-397bc406a320",
   "metadata": {},
   "outputs": [],
   "source": []
  },
  {
   "cell_type": "code",
   "execution_count": 25,
   "id": "644f3109-b0a9-4930-8ac7-326927d131f9",
   "metadata": {},
   "outputs": [],
   "source": [
    "clustering_graph = clustering_graph.subgraph(graph_labels[graph_labels == 3].index.values)\n",
    "core_ids = clustering_graph.unique_ids"
   ]
  },
  {
   "cell_type": "code",
   "execution_count": null,
   "id": "30d2667a-4c13-4097-9287-b41c586cdee8",
   "metadata": {},
   "outputs": [],
   "source": []
  },
  {
   "cell_type": "code",
   "execution_count": 26,
   "id": "3f060da6-dc2c-44fa-a99a-da7bb92b89e3",
   "metadata": {},
   "outputs": [],
   "source": [
    "# clustering_graph = q1.subgraph(q1.component_labels[q1.component_labels == 25].index.values)\n",
    "# clustering_graph = clustering_graph.subgraph(clustering_graph.unique_ids[clustering_graph.unique_ids >= 0])\n",
    "# core_ids = clustering_graph.unique_ids"
   ]
  },
  {
   "cell_type": "code",
   "execution_count": null,
   "id": "66174554-4025-4ef2-b94e-566f957b76e8",
   "metadata": {},
   "outputs": [],
   "source": []
  },
  {
   "cell_type": "code",
   "execution_count": 27,
   "id": "f283e920-dcdc-436f-b4ee-bbfbc4d7bc9e",
   "metadata": {},
   "outputs": [],
   "source": [
    "training_data = X_train[X_train.index.isin(core_ids)]"
   ]
  },
  {
   "cell_type": "code",
   "execution_count": null,
   "id": "185ea153-7ce8-4488-bd56-890b9f21c98f",
   "metadata": {},
   "outputs": [],
   "source": []
  },
  {
   "cell_type": "code",
   "execution_count": null,
   "id": "e5b30ff9-fe24-42e9-b94d-0d4c15c77727",
   "metadata": {},
   "outputs": [],
   "source": []
  },
  {
   "cell_type": "code",
   "execution_count": null,
   "id": "8848209d-2e6d-4fc0-b89a-d660c149dd6c",
   "metadata": {},
   "outputs": [],
   "source": []
  },
  {
   "cell_type": "code",
   "execution_count": null,
   "id": "eef1bb50-88d3-4962-a558-f28baca7bddf",
   "metadata": {},
   "outputs": [],
   "source": []
  },
  {
   "cell_type": "code",
   "execution_count": null,
   "id": "23f88ad8-8d82-48e9-b17a-c3b0baeacc67",
   "metadata": {},
   "outputs": [],
   "source": []
  },
  {
   "cell_type": "code",
   "execution_count": 28,
   "id": "071c3bf9-f878-4e74-9758-c0504221e98a",
   "metadata": {},
   "outputs": [],
   "source": [
    "\n",
    "\n",
    "# training_data = training_data[[c for c in training_data.columns if '_' not in c]]\n"
   ]
  },
  {
   "cell_type": "code",
   "execution_count": 29,
   "id": "037b4752-f839-434d-ae12-de0e39f3254e",
   "metadata": {},
   "outputs": [],
   "source": [
    "# t1 = training_data[[c for c in training_data.columns if '_' not in c]]\n",
    "# t2 = training_data[[c for c in training_data.columns if '_median' in c]]\n",
    "\n",
    "# training_data = t1.join(t2)"
   ]
  },
  {
   "cell_type": "code",
   "execution_count": 30,
   "id": "41b52c0b-9cb7-4b62-8d26-5aa388aba9f6",
   "metadata": {},
   "outputs": [],
   "source": [
    "# training_data = X_train[X_train.index >=0]\n",
    "# clustering_graph = graph.subgraph(X_train.index)"
   ]
  },
  {
   "cell_type": "code",
   "execution_count": 31,
   "id": "e4a45525-224d-4351-95b7-26588ff97054",
   "metadata": {},
   "outputs": [
    {
     "data": {
      "text/plain": [
       "(34505, 62)"
      ]
     },
     "execution_count": 31,
     "metadata": {},
     "output_type": "execute_result"
    }
   ],
   "source": [
    "training_data.shape"
   ]
  },
  {
   "cell_type": "code",
   "execution_count": null,
   "id": "0872c9d9-617d-4b01-a0f8-46c6a164ad43",
   "metadata": {},
   "outputs": [],
   "source": []
  },
  {
   "cell_type": "code",
   "execution_count": null,
   "id": "d8f19118-9087-4757-a1d3-8a48c0ab237e",
   "metadata": {},
   "outputs": [],
   "source": []
  },
  {
   "cell_type": "code",
   "execution_count": null,
   "id": "36e341a0-9aaa-4a8c-9a6d-7f8285ee00d2",
   "metadata": {},
   "outputs": [],
   "source": []
  },
  {
   "cell_type": "code",
   "execution_count": 32,
   "id": "da6eb172-d94f-470c-a352-be000444e9ce",
   "metadata": {},
   "outputs": [],
   "source": [
    "vals = StandardScaler().fit_transform(training_data)\n",
    "training_data = pd.DataFrame(vals, columns=training_data.columns, index=training_data.index)\n",
    "\n",
    "vals = np.nan_to_num(training_data)\n",
    "training_data = pd.DataFrame(vals, columns=training_data.columns, index=training_data.index)\n",
    "\n",
    "stats = training_data.describe()\n",
    "training_data = training_data.drop(stats.columns[stats.loc['std'] == 0], axis=1)"
   ]
  },
  {
   "cell_type": "code",
   "execution_count": 81,
   "id": "05703d49-dba9-432b-8d7f-81a52a0d89ff",
   "metadata": {},
   "outputs": [],
   "source": [
    "training_data = training_data.clip(-10, 10)"
   ]
  },
  {
   "cell_type": "code",
   "execution_count": 102,
   "id": "b4f8c16c-bb62-4633-bc15-873c65680085",
   "metadata": {},
   "outputs": [
    {
     "name": "stdout",
     "output_type": "stream",
     "text": [
      "CPU times: user 840 ms, sys: 17.1 ms, total: 858 ms\n",
      "Wall time: 857 ms\n"
     ]
    }
   ],
   "source": [
    "%%time\n",
    "clusterer = AgglomerativeClustering(\n",
    "    linkage='ward',\n",
    "    # metric='cityblock',\n",
    "                                                  \n",
    "    connectivity = clustering_graph.transform('B').sparse, \n",
    "    \n",
    "                                    # connectivity=q1.subgraph(X_train.index.values).transform('B').sparse, \n",
    "                                    compute_full_tree=True,\n",
    "                                    compute_distances=True)\n",
    "model = clusterer.fit(training_data)"
   ]
  },
  {
   "cell_type": "code",
   "execution_count": 103,
   "id": "f406f50b-ccf8-4ec6-ab6e-ecacd9024fa1",
   "metadata": {},
   "outputs": [],
   "source": [
    "linkage_matrix = get_linkage_matrix(model)"
   ]
  },
  {
   "cell_type": "code",
   "execution_count": 104,
   "id": "442954ce-e3dd-453b-9990-fef4638c9ffd",
   "metadata": {
    "scrolled": true
   },
   "outputs": [],
   "source": [
    "# fix, ax = plt.subplots(figsize=(40,40))\n",
    "# # Plot the corresponding dendrogram\n",
    "# _ = dendrogram(linkage_matrix, truncate_mode=\"level\", p=5, ax=ax)"
   ]
  },
  {
   "cell_type": "code",
   "execution_count": 105,
   "id": "1cfc303c-d456-4bce-9255-970689c173c9",
   "metadata": {},
   "outputs": [],
   "source": [
    "from sklearn.metrics import calinski_harabasz_score"
   ]
  },
  {
   "cell_type": "code",
   "execution_count": 106,
   "id": "c0f1c3d0-1712-473b-8475-cc74496aae5b",
   "metadata": {},
   "outputs": [],
   "source": [
    "tess_groups = generate_detailed_clusters(tessellation,\n",
    "                                         include_random_sample=False, path=val_path)\n",
    "tess_groups = tess_groups[tess_groups.index.isin(training_data.index)]\n",
    "tess_groups_ilocs = (\n",
    "    pd.Series(np.arange(len(training_data)), index=training_data.index)\n",
    "    .loc[tess_groups.index]\n",
    "    .values\n",
    ")"
   ]
  },
  {
   "cell_type": "code",
   "execution_count": null,
   "id": "f1ebd180-0ae1-4c05-93a2-6b7e2caa0897",
   "metadata": {},
   "outputs": [],
   "source": []
  },
  {
   "cell_type": "code",
   "execution_count": 107,
   "id": "f47a5ece-84fd-4201-901a-dd781e98d786",
   "metadata": {},
   "outputs": [],
   "source": [
    "first = linkage_matrix[0, 2]\n",
    "last = linkage_matrix[-1, 2]\n",
    "step = ((last / 2) - first) / 25"
   ]
  },
  {
   "cell_type": "code",
   "execution_count": null,
   "id": "81218236-a6b6-4d26-8421-76ac74c6a890",
   "metadata": {},
   "outputs": [],
   "source": []
  },
  {
   "cell_type": "code",
   "execution_count": 108,
   "id": "f26d27b8-628f-45ab-8aee-185c2e5177d8",
   "metadata": {},
   "outputs": [
    {
     "data": {
      "text/html": [
       "<div>\n",
       "<style scoped>\n",
       "    .dataframe tbody tr th:only-of-type {\n",
       "        vertical-align: middle;\n",
       "    }\n",
       "\n",
       "    .dataframe tbody tr th {\n",
       "        vertical-align: top;\n",
       "    }\n",
       "\n",
       "    .dataframe thead th {\n",
       "        text-align: right;\n",
       "    }\n",
       "</style>\n",
       "<table border=\"1\" class=\"dataframe\">\n",
       "  <thead>\n",
       "    <tr style=\"text-align: right;\">\n",
       "      <th></th>\n",
       "      <th>rand</th>\n",
       "      <th>ssplits</th>\n",
       "      <th>db_score</th>\n",
       "      <th>ch_score</th>\n",
       "    </tr>\n",
       "    <tr>\n",
       "      <th>cutoff</th>\n",
       "      <th></th>\n",
       "      <th></th>\n",
       "      <th></th>\n",
       "      <th></th>\n",
       "    </tr>\n",
       "  </thead>\n",
       "  <tbody>\n",
       "    <tr>\n",
       "      <th>8.153495</th>\n",
       "      <td>0.019969</td>\n",
       "      <td>0.951775</td>\n",
       "      <td>1.338386</td>\n",
       "      <td>30.695407</td>\n",
       "    </tr>\n",
       "    <tr>\n",
       "      <th>16.288317</th>\n",
       "      <td>0.069819</td>\n",
       "      <td>0.765512</td>\n",
       "      <td>1.972226</td>\n",
       "      <td>54.799671</td>\n",
       "    </tr>\n",
       "    <tr>\n",
       "      <th>24.423138</th>\n",
       "      <td>0.145100</td>\n",
       "      <td>0.615186</td>\n",
       "      <td>2.385903</td>\n",
       "      <td>82.801149</td>\n",
       "    </tr>\n",
       "    <tr>\n",
       "      <th>32.557960</th>\n",
       "      <td>0.212995</td>\n",
       "      <td>0.500275</td>\n",
       "      <td>2.645692</td>\n",
       "      <td>113.474045</td>\n",
       "    </tr>\n",
       "    <tr>\n",
       "      <th>40.692782</th>\n",
       "      <td>0.299796</td>\n",
       "      <td>0.427011</td>\n",
       "      <td>2.830440</td>\n",
       "      <td>146.559833</td>\n",
       "    </tr>\n",
       "    <tr>\n",
       "      <th>48.827603</th>\n",
       "      <td>0.413360</td>\n",
       "      <td>0.378496</td>\n",
       "      <td>2.970606</td>\n",
       "      <td>177.881389</td>\n",
       "    </tr>\n",
       "    <tr>\n",
       "      <th>56.962425</th>\n",
       "      <td>0.513048</td>\n",
       "      <td>0.334183</td>\n",
       "      <td>3.181935</td>\n",
       "      <td>219.298974</td>\n",
       "    </tr>\n",
       "    <tr>\n",
       "      <th>65.097246</th>\n",
       "      <td>0.537052</td>\n",
       "      <td>0.298507</td>\n",
       "      <td>3.354519</td>\n",
       "      <td>262.941083</td>\n",
       "    </tr>\n",
       "    <tr>\n",
       "      <th>73.232068</th>\n",
       "      <td>0.565169</td>\n",
       "      <td>0.278394</td>\n",
       "      <td>3.492895</td>\n",
       "      <td>297.189184</td>\n",
       "    </tr>\n",
       "    <tr>\n",
       "      <th>81.366890</th>\n",
       "      <td>0.615627</td>\n",
       "      <td>0.262020</td>\n",
       "      <td>3.535989</td>\n",
       "      <td>323.282208</td>\n",
       "    </tr>\n",
       "    <tr>\n",
       "      <th>89.501711</th>\n",
       "      <td>0.651582</td>\n",
       "      <td>0.240951</td>\n",
       "      <td>3.803187</td>\n",
       "      <td>366.779636</td>\n",
       "    </tr>\n",
       "    <tr>\n",
       "      <th>97.636533</th>\n",
       "      <td>0.698257</td>\n",
       "      <td>0.217795</td>\n",
       "      <td>3.926467</td>\n",
       "      <td>415.198340</td>\n",
       "    </tr>\n",
       "    <tr>\n",
       "      <th>105.771354</th>\n",
       "      <td>0.697925</td>\n",
       "      <td>0.195914</td>\n",
       "      <td>4.058138</td>\n",
       "      <td>466.337011</td>\n",
       "    </tr>\n",
       "    <tr>\n",
       "      <th>113.906176</th>\n",
       "      <td>0.697925</td>\n",
       "      <td>0.194523</td>\n",
       "      <td>4.085752</td>\n",
       "      <td>473.968588</td>\n",
       "    </tr>\n",
       "    <tr>\n",
       "      <th>122.040998</th>\n",
       "      <td>0.696885</td>\n",
       "      <td>0.177511</td>\n",
       "      <td>4.174882</td>\n",
       "      <td>514.496099</td>\n",
       "    </tr>\n",
       "    <tr>\n",
       "      <th>130.175819</th>\n",
       "      <td>0.691452</td>\n",
       "      <td>0.166903</td>\n",
       "      <td>3.863847</td>\n",
       "      <td>559.248563</td>\n",
       "    </tr>\n",
       "    <tr>\n",
       "      <th>138.310641</th>\n",
       "      <td>0.727926</td>\n",
       "      <td>0.150094</td>\n",
       "      <td>3.921507</td>\n",
       "      <td>582.379816</td>\n",
       "    </tr>\n",
       "    <tr>\n",
       "      <th>146.445462</th>\n",
       "      <td>0.670773</td>\n",
       "      <td>0.140038</td>\n",
       "      <td>3.966844</td>\n",
       "      <td>606.640657</td>\n",
       "    </tr>\n",
       "    <tr>\n",
       "      <th>154.580284</th>\n",
       "      <td>0.647607</td>\n",
       "      <td>0.123460</td>\n",
       "      <td>4.460216</td>\n",
       "      <td>650.903490</td>\n",
       "    </tr>\n",
       "    <tr>\n",
       "      <th>162.715106</th>\n",
       "      <td>0.671845</td>\n",
       "      <td>0.117751</td>\n",
       "      <td>4.647030</td>\n",
       "      <td>685.408112</td>\n",
       "    </tr>\n",
       "    <tr>\n",
       "      <th>170.849927</th>\n",
       "      <td>0.671845</td>\n",
       "      <td>0.117403</td>\n",
       "      <td>4.907849</td>\n",
       "      <td>705.269673</td>\n",
       "    </tr>\n",
       "    <tr>\n",
       "      <th>178.984749</th>\n",
       "      <td>0.597098</td>\n",
       "      <td>0.108419</td>\n",
       "      <td>5.098708</td>\n",
       "      <td>783.004863</td>\n",
       "    </tr>\n",
       "    <tr>\n",
       "      <th>187.119570</th>\n",
       "      <td>0.597098</td>\n",
       "      <td>0.108419</td>\n",
       "      <td>5.098708</td>\n",
       "      <td>783.004863</td>\n",
       "    </tr>\n",
       "    <tr>\n",
       "      <th>195.254392</th>\n",
       "      <td>0.597098</td>\n",
       "      <td>0.108419</td>\n",
       "      <td>5.098708</td>\n",
       "      <td>783.004863</td>\n",
       "    </tr>\n",
       "    <tr>\n",
       "      <th>203.389214</th>\n",
       "      <td>0.600044</td>\n",
       "      <td>0.096334</td>\n",
       "      <td>4.318182</td>\n",
       "      <td>805.295421</td>\n",
       "    </tr>\n",
       "  </tbody>\n",
       "</table>\n",
       "</div>"
      ],
      "text/plain": [
       "                rand   ssplits  db_score    ch_score\n",
       "cutoff                                              \n",
       "8.153495    0.019969  0.951775  1.338386   30.695407\n",
       "16.288317   0.069819  0.765512  1.972226   54.799671\n",
       "24.423138   0.145100  0.615186  2.385903   82.801149\n",
       "32.557960   0.212995  0.500275  2.645692  113.474045\n",
       "40.692782   0.299796  0.427011  2.830440  146.559833\n",
       "48.827603   0.413360  0.378496  2.970606  177.881389\n",
       "56.962425   0.513048  0.334183  3.181935  219.298974\n",
       "65.097246   0.537052  0.298507  3.354519  262.941083\n",
       "73.232068   0.565169  0.278394  3.492895  297.189184\n",
       "81.366890   0.615627  0.262020  3.535989  323.282208\n",
       "89.501711   0.651582  0.240951  3.803187  366.779636\n",
       "97.636533   0.698257  0.217795  3.926467  415.198340\n",
       "105.771354  0.697925  0.195914  4.058138  466.337011\n",
       "113.906176  0.697925  0.194523  4.085752  473.968588\n",
       "122.040998  0.696885  0.177511  4.174882  514.496099\n",
       "130.175819  0.691452  0.166903  3.863847  559.248563\n",
       "138.310641  0.727926  0.150094  3.921507  582.379816\n",
       "146.445462  0.670773  0.140038  3.966844  606.640657\n",
       "154.580284  0.647607  0.123460  4.460216  650.903490\n",
       "162.715106  0.671845  0.117751  4.647030  685.408112\n",
       "170.849927  0.671845  0.117403  4.907849  705.269673\n",
       "178.984749  0.597098  0.108419  5.098708  783.004863\n",
       "187.119570  0.597098  0.108419  5.098708  783.004863\n",
       "195.254392  0.597098  0.108419  5.098708  783.004863\n",
       "203.389214  0.600044  0.096334  4.318182  805.295421"
      ]
     },
     "execution_count": 108,
     "metadata": {},
     "output_type": "execute_result"
    }
   ],
   "source": [
    "res = []\n",
    "i = 0\n",
    "for i in range(0, 25):\n",
    "\n",
    "    t = first + step *  (i + 1)\n",
    "    if t >= linkage_matrix[-1, 2]:\n",
    "        break\n",
    "    \n",
    "    r = fcluster(linkage_matrix, t=t, criterion='distance')\n",
    "    r = pd.Series(r, index=training_data.index)\n",
    "    ssplits = clustering_graph.describe(r, statistics=['nunique'])['nunique']\n",
    "\n",
    "    res.append((t,\n",
    "          adjusted_rand_score(tess_groups.values, r.iloc[tess_groups_ilocs]),\n",
    "          (ssplits > 1).sum() / ssplits.shape[0],\n",
    "          davies_bouldin_score(training_data, r),\n",
    "          calinski_harabasz_score(training_data, r)\n",
    "         ))\n",
    "pd.DataFrame(res, columns = ['cutoff', 'rand', 'ssplits', 'db_score', 'ch_score']).set_index('cutoff')"
   ]
  },
  {
   "cell_type": "code",
   "execution_count": 109,
   "id": "a5d11a1e-0d5b-46cf-ad3a-90e4a2d0b22c",
   "metadata": {},
   "outputs": [],
   "source": [
    "# res = []\n",
    "# for t in range(5, 25, 1):\n",
    "\n",
    "#     if t >= linkage_matrix[-1, 2]:\n",
    "#         break\n",
    "    \n",
    "#     r = fcluster(linkage_matrix, t=t, criterion='distance')\n",
    "#     r = pd.Series(r, index=training_data.index)\n",
    "#     ssplits = clustering_graph.describe(r, statistics=['nunique'])['nunique']\n",
    "\n",
    "#     res.append((t,\n",
    "#           adjusted_rand_score(tess_groups.values, r.iloc[tess_groups_ilocs]),\n",
    "#           (ssplits > 1).sum() / ssplits.shape[0],\n",
    "#           davies_bouldin_score(training_data, r),\n",
    "#           calinski_harabasz_score(training_data, r)\n",
    "#          ))\n",
    "# pd.DataFrame(res, columns = ['cutoff', 'rand', 'ssplits', 'db_score', 'ch_score']).set_index('cutoff')"
   ]
  },
  {
   "cell_type": "code",
   "execution_count": 110,
   "id": "f1aeac3f-7e47-4c47-8024-5690c419104f",
   "metadata": {},
   "outputs": [],
   "source": [
    "# try hdbscan extraction\n",
    "from fast_hdbscan.boruvka import parallel_boruvka\n",
    "from fast_hdbscan.cluster_trees import (\n",
    "    cluster_tree_from_condensed_tree,\n",
    "    condense_tree,\n",
    "    extract_eom_clusters,\n",
    "    get_cluster_label_vector,\n",
    "    mst_to_linkage_tree,\n",
    ")\n",
    "from fast_hdbscan.numba_kdtree import kdtree_to_numba\n",
    "from sklearn.neighbors import KDTree"
   ]
  },
  {
   "cell_type": "code",
   "execution_count": 111,
   "id": "7980bb91-f65a-4c5e-9872-d3db8fe15ffe",
   "metadata": {},
   "outputs": [
    {
     "data": {
      "text/html": [
       "<div>\n",
       "<style scoped>\n",
       "    .dataframe tbody tr th:only-of-type {\n",
       "        vertical-align: middle;\n",
       "    }\n",
       "\n",
       "    .dataframe tbody tr th {\n",
       "        vertical-align: top;\n",
       "    }\n",
       "\n",
       "    .dataframe thead th {\n",
       "        text-align: right;\n",
       "    }\n",
       "</style>\n",
       "<table border=\"1\" class=\"dataframe\">\n",
       "  <thead>\n",
       "    <tr style=\"text-align: right;\">\n",
       "      <th></th>\n",
       "      <th>rand</th>\n",
       "      <th>ssplits</th>\n",
       "      <th>db_score</th>\n",
       "      <th>ch_score</th>\n",
       "    </tr>\n",
       "    <tr>\n",
       "      <th>min__cluster_size</th>\n",
       "      <th></th>\n",
       "      <th></th>\n",
       "      <th></th>\n",
       "      <th></th>\n",
       "    </tr>\n",
       "  </thead>\n",
       "  <tbody>\n",
       "    <tr>\n",
       "      <th>25</th>\n",
       "      <td>0.129554</td>\n",
       "      <td>0.658165</td>\n",
       "      <td>2.834380</td>\n",
       "      <td>69.415176</td>\n",
       "    </tr>\n",
       "    <tr>\n",
       "      <th>50</th>\n",
       "      <td>0.238317</td>\n",
       "      <td>0.511578</td>\n",
       "      <td>3.182541</td>\n",
       "      <td>110.865773</td>\n",
       "    </tr>\n",
       "    <tr>\n",
       "      <th>75</th>\n",
       "      <td>0.315580</td>\n",
       "      <td>0.447703</td>\n",
       "      <td>3.357650</td>\n",
       "      <td>133.946125</td>\n",
       "    </tr>\n",
       "    <tr>\n",
       "      <th>100</th>\n",
       "      <td>0.361112</td>\n",
       "      <td>0.397276</td>\n",
       "      <td>3.501560</td>\n",
       "      <td>166.304860</td>\n",
       "    </tr>\n",
       "    <tr>\n",
       "      <th>125</th>\n",
       "      <td>0.384988</td>\n",
       "      <td>0.360614</td>\n",
       "      <td>3.664281</td>\n",
       "      <td>193.611601</td>\n",
       "    </tr>\n",
       "    <tr>\n",
       "      <th>150</th>\n",
       "      <td>0.443821</td>\n",
       "      <td>0.340849</td>\n",
       "      <td>3.769582</td>\n",
       "      <td>222.575212</td>\n",
       "    </tr>\n",
       "    <tr>\n",
       "      <th>175</th>\n",
       "      <td>0.503211</td>\n",
       "      <td>0.289175</td>\n",
       "      <td>3.881956</td>\n",
       "      <td>261.692665</td>\n",
       "    </tr>\n",
       "    <tr>\n",
       "      <th>200</th>\n",
       "      <td>0.500085</td>\n",
       "      <td>0.283292</td>\n",
       "      <td>3.926636</td>\n",
       "      <td>272.159069</td>\n",
       "    </tr>\n",
       "    <tr>\n",
       "      <th>225</th>\n",
       "      <td>0.498529</td>\n",
       "      <td>0.269410</td>\n",
       "      <td>4.029063</td>\n",
       "      <td>285.627994</td>\n",
       "    </tr>\n",
       "    <tr>\n",
       "      <th>250</th>\n",
       "      <td>0.616637</td>\n",
       "      <td>0.258021</td>\n",
       "      <td>3.987243</td>\n",
       "      <td>311.336160</td>\n",
       "    </tr>\n",
       "    <tr>\n",
       "      <th>275</th>\n",
       "      <td>0.709732</td>\n",
       "      <td>0.245993</td>\n",
       "      <td>4.089624</td>\n",
       "      <td>329.199715</td>\n",
       "    </tr>\n",
       "    <tr>\n",
       "      <th>300</th>\n",
       "      <td>0.737954</td>\n",
       "      <td>0.238922</td>\n",
       "      <td>4.163171</td>\n",
       "      <td>330.136260</td>\n",
       "    </tr>\n",
       "    <tr>\n",
       "      <th>325</th>\n",
       "      <td>0.739699</td>\n",
       "      <td>0.230575</td>\n",
       "      <td>4.272875</td>\n",
       "      <td>345.706206</td>\n",
       "    </tr>\n",
       "    <tr>\n",
       "      <th>350</th>\n",
       "      <td>0.729065</td>\n",
       "      <td>0.227677</td>\n",
       "      <td>4.331238</td>\n",
       "      <td>370.218631</td>\n",
       "    </tr>\n",
       "    <tr>\n",
       "      <th>375</th>\n",
       "      <td>0.745334</td>\n",
       "      <td>0.225359</td>\n",
       "      <td>4.368754</td>\n",
       "      <td>375.520515</td>\n",
       "    </tr>\n",
       "    <tr>\n",
       "      <th>400</th>\n",
       "      <td>0.745334</td>\n",
       "      <td>0.224924</td>\n",
       "      <td>4.310221</td>\n",
       "      <td>380.626284</td>\n",
       "    </tr>\n",
       "    <tr>\n",
       "      <th>425</th>\n",
       "      <td>0.745334</td>\n",
       "      <td>0.220171</td>\n",
       "      <td>4.330249</td>\n",
       "      <td>393.974498</td>\n",
       "    </tr>\n",
       "    <tr>\n",
       "      <th>450</th>\n",
       "      <td>0.745334</td>\n",
       "      <td>0.214751</td>\n",
       "      <td>4.236817</td>\n",
       "      <td>398.615862</td>\n",
       "    </tr>\n",
       "    <tr>\n",
       "      <th>475</th>\n",
       "      <td>0.745335</td>\n",
       "      <td>0.196783</td>\n",
       "      <td>4.379465</td>\n",
       "      <td>426.194384</td>\n",
       "    </tr>\n",
       "  </tbody>\n",
       "</table>\n",
       "</div>"
      ],
      "text/plain": [
       "                       rand   ssplits  db_score    ch_score\n",
       "min__cluster_size                                          \n",
       "25                 0.129554  0.658165  2.834380   69.415176\n",
       "50                 0.238317  0.511578  3.182541  110.865773\n",
       "75                 0.315580  0.447703  3.357650  133.946125\n",
       "100                0.361112  0.397276  3.501560  166.304860\n",
       "125                0.384988  0.360614  3.664281  193.611601\n",
       "150                0.443821  0.340849  3.769582  222.575212\n",
       "175                0.503211  0.289175  3.881956  261.692665\n",
       "200                0.500085  0.283292  3.926636  272.159069\n",
       "225                0.498529  0.269410  4.029063  285.627994\n",
       "250                0.616637  0.258021  3.987243  311.336160\n",
       "275                0.709732  0.245993  4.089624  329.199715\n",
       "300                0.737954  0.238922  4.163171  330.136260\n",
       "325                0.739699  0.230575  4.272875  345.706206\n",
       "350                0.729065  0.227677  4.331238  370.218631\n",
       "375                0.745334  0.225359  4.368754  375.520515\n",
       "400                0.745334  0.224924  4.310221  380.626284\n",
       "425                0.745334  0.220171  4.330249  393.974498\n",
       "450                0.745334  0.214751  4.236817  398.615862\n",
       "475                0.745335  0.196783  4.379465  426.194384"
      ]
     },
     "execution_count": 111,
     "metadata": {},
     "output_type": "execute_result"
    }
   ],
   "source": [
    "res = []\n",
    "\n",
    "for min_cluster_size in range(25, 500, 25):\n",
    "\n",
    "\n",
    "    condensed_tree = condense_tree(linkage_matrix, \n",
    "                                   min_cluster_size=min_cluster_size)\n",
    "    cluster_tree = cluster_tree_from_condensed_tree(condensed_tree)\n",
    "    selected_clusters = extract_eom_clusters(\n",
    "        condensed_tree, cluster_tree, allow_single_cluster=False\n",
    "    )\n",
    "    r = get_cluster_label_vector(condensed_tree, selected_clusters, 0)\n",
    "\n",
    "\n",
    "    r = pd.Series(r, index=training_data.index)\n",
    "    ssplits = clustering_graph.describe(r, statistics=['nunique'])['nunique']\n",
    "\n",
    "    res.append((min_cluster_size,\n",
    "          adjusted_rand_score(tess_groups.values, r.iloc[tess_groups_ilocs]),\n",
    "          (ssplits > 1).sum() / ssplits.shape[0],\n",
    "          davies_bouldin_score(training_data, r),\n",
    "          calinski_harabasz_score(training_data, r)\n",
    "         ))\n",
    "\n",
    "pd.DataFrame(res, columns = ['min__cluster_size', 'rand', 'ssplits', 'db_score', 'ch_score']).set_index('min__cluster_size')"
   ]
  },
  {
   "cell_type": "code",
   "execution_count": null,
   "id": "b2139127-55d2-4fae-95cf-b76e614cdb94",
   "metadata": {},
   "outputs": [],
   "source": []
  },
  {
   "cell_type": "code",
   "execution_count": 112,
   "id": "d32d6d94-ca5f-4811-9657-94d968dc4f49",
   "metadata": {},
   "outputs": [],
   "source": [
    "condensed_tree = condense_tree(linkage_matrix, \n",
    "                               min_cluster_size=275)\n",
    "cluster_tree = cluster_tree_from_condensed_tree(condensed_tree)\n",
    "selected_clusters = extract_eom_clusters(\n",
    "    condensed_tree, cluster_tree, allow_single_cluster=False\n",
    ")\n",
    "clusters = get_cluster_label_vector(condensed_tree, selected_clusters, 0)"
   ]
  },
  {
   "cell_type": "code",
   "execution_count": null,
   "id": "e9347a1b-efd8-42e1-be62-2805a79e0af3",
   "metadata": {},
   "outputs": [],
   "source": []
  },
  {
   "cell_type": "code",
   "execution_count": 113,
   "id": "8eccffeb-a185-4c49-8e17-11e2cf6adaab",
   "metadata": {},
   "outputs": [],
   "source": [
    "plotting = tessellation.loc[training_data.index].reset_index()"
   ]
  },
  {
   "cell_type": "code",
   "execution_count": null,
   "id": "5b50f565-c843-4382-92d5-3781522b26c5",
   "metadata": {},
   "outputs": [],
   "source": []
  },
  {
   "cell_type": "code",
   "execution_count": null,
   "id": "e03cadcf-7b97-4728-8532-e8ca3262247f",
   "metadata": {},
   "outputs": [],
   "source": []
  },
  {
   "cell_type": "code",
   "execution_count": 94,
   "id": "f29f4b98-effa-431c-9d91-c0a372034d72",
   "metadata": {},
   "outputs": [
    {
     "name": "stderr",
     "output_type": "stream",
     "text": [
      "/home/krasen/miniconda3/envs/urban_taxonomy/lib/python3.12/site-packages/lonboard/_geoarrow/ops/reproject.py:97: UserWarning: Input being reprojected to EPSG:4326 CRS\n",
      "  warnings.warn(\"Input being reprojected to EPSG:4326 CRS\")\n"
     ]
    },
    {
     "name": "stdout",
     "output_type": "stream",
     "text": [
      "CPU times: user 558 ms, sys: 42.4 ms, total: 600 ms\n",
      "Wall time: 599 ms\n"
     ]
    }
   ],
   "source": [
    "%%time\n",
    "import lonboard\n",
    "# plotting = tessellation[tessellation.index.isin(X_train.index)].copy()\n",
    "layer = lonboard.SolidPolygonLayer.from_geopandas(plotting, opacity=.08)"
   ]
  },
  {
   "cell_type": "code",
   "execution_count": 95,
   "id": "b05c20be-dbd5-4dd9-aff0-a013c206cd1a",
   "metadata": {},
   "outputs": [],
   "source": [
    "from sidecar import Sidecar\n",
    "sc = Sidecar(title='Clusters')\n",
    "m = lonboard.Map(layer, basemap_style=lonboard.basemap.CartoBasemap.Positron)\n",
    "with sc:\n",
    "    display(m)"
   ]
  },
  {
   "cell_type": "code",
   "execution_count": 96,
   "id": "fee4023b-700f-4129-a87a-6860401f5044",
   "metadata": {},
   "outputs": [],
   "source": [
    "from core.cluster_validation import get_color"
   ]
  },
  {
   "cell_type": "code",
   "execution_count": null,
   "id": "0bb3e9a7-dc02-49e5-a178-2ff77bb0f125",
   "metadata": {},
   "outputs": [],
   "source": []
  },
  {
   "cell_type": "code",
   "execution_count": null,
   "id": "90ad7974-cb0f-4c59-a6ea-9a37b9270344",
   "metadata": {},
   "outputs": [],
   "source": []
  },
  {
   "cell_type": "code",
   "execution_count": 114,
   "id": "a75a2b4c-7dff-48fa-b2a2-1581b3e2869e",
   "metadata": {},
   "outputs": [],
   "source": [
    "clusters = fcluster(linkage_matrix, t=130, criterion='distance')"
   ]
  },
  {
   "cell_type": "code",
   "execution_count": 116,
   "id": "eb966ce3-3fbc-4f8e-b1db-fb7e9f35a0ea",
   "metadata": {},
   "outputs": [],
   "source": [
    "\n",
    "\n",
    "condensed_tree = condense_tree(linkage_matrix, \n",
    "                               min_cluster_size=100)\n",
    "cluster_tree = cluster_tree_from_condensed_tree(condensed_tree)\n",
    "selected_clusters = extract_eom_clusters(\n",
    "    condensed_tree, cluster_tree, allow_single_cluster=False\n",
    ")\n",
    "clusters = get_cluster_label_vector(condensed_tree, selected_clusters, 0)"
   ]
  },
  {
   "cell_type": "code",
   "execution_count": 117,
   "id": "61ff965b-5a73-4ff1-ab4f-0557ce929c83",
   "metadata": {},
   "outputs": [],
   "source": [
    "# np.unique(clusters, return_counts=True)"
   ]
  },
  {
   "cell_type": "code",
   "execution_count": 118,
   "id": "961f94c0-f15b-45f9-95a1-a9ef0a953fa4",
   "metadata": {},
   "outputs": [],
   "source": [
    "layer.get_fill_color = get_color(clusters)"
   ]
  },
  {
   "cell_type": "code",
   "execution_count": null,
   "id": "61b07ad8-1f01-48df-9b5e-53f063beeb81",
   "metadata": {},
   "outputs": [],
   "source": []
  },
  {
   "cell_type": "code",
   "execution_count": 57,
   "id": "b420bdcb-7aee-46f3-acbb-f7f522f5a507",
   "metadata": {},
   "outputs": [],
   "source": [
    "from scipy.cluster.hierarchy import inconsistent"
   ]
  },
  {
   "cell_type": "code",
   "execution_count": 58,
   "id": "a54b0992-74e0-4329-a2ee-e13d007cca44",
   "metadata": {},
   "outputs": [
    {
     "name": "stdout",
     "output_type": "stream",
     "text": [
      "CPU times: user 141 ms, sys: 12 μs, total: 141 ms\n",
      "Wall time: 141 ms\n"
     ]
    }
   ],
   "source": [
    "%%time\n",
    "inc = inconsistent(linkage_matrix, d=10)"
   ]
  },
  {
   "cell_type": "code",
   "execution_count": 70,
   "id": "11646d5b-6b4f-4804-bcc9-2d2ab63bf0c5",
   "metadata": {},
   "outputs": [
    {
     "data": {
      "text/plain": [
       "(array([154210, 154515, 155511, ..., 166753, 166754, 166755]),)"
      ]
     },
     "execution_count": 70,
     "metadata": {},
     "output_type": "execute_result"
    }
   ],
   "source": [
    "np.where(inc[:, 3] > 5)"
   ]
  },
  {
   "cell_type": "code",
   "execution_count": null,
   "id": "295dfad6-1538-41ba-9740-ee53e1b6823b",
   "metadata": {},
   "outputs": [],
   "source": []
  },
  {
   "cell_type": "code",
   "execution_count": null,
   "id": "3b550b64-dea8-47dc-984a-358b72f81a8a",
   "metadata": {},
   "outputs": [],
   "source": []
  },
  {
   "cell_type": "code",
   "execution_count": null,
   "id": "b3743fa4-c39f-4234-99f4-d486edf5b169",
   "metadata": {},
   "outputs": [],
   "source": []
  },
  {
   "cell_type": "markdown",
   "id": "7b4ecc56-9514-4d17-9817-bdac8e3debae",
   "metadata": {},
   "source": [
    "----"
   ]
  },
  {
   "cell_type": "code",
   "execution_count": null,
   "id": "3fa4a9ff-3d80-45c1-962d-4d4755ff6a90",
   "metadata": {},
   "outputs": [],
   "source": []
  },
  {
   "cell_type": "code",
   "execution_count": null,
   "id": "242b2e14-4a20-4b60-93e4-a565ed17d663",
   "metadata": {},
   "outputs": [],
   "source": []
  },
  {
   "cell_type": "code",
   "execution_count": null,
   "id": "e1de9af2-7017-433c-a10d-b8224bb2d731",
   "metadata": {},
   "outputs": [],
   "source": []
  },
  {
   "cell_type": "code",
   "execution_count": 46,
   "id": "64c37601-6444-474f-b360-372c646e2cf7",
   "metadata": {},
   "outputs": [],
   "source": [
    "def percentile(n):\n",
    "    def percentile_(x):\n",
    "        return np.percentile(x, n)\n",
    "    percentile_.__name__ = 'percentile_%s' % n\n",
    "    return percentile_"
   ]
  },
  {
   "cell_type": "code",
   "execution_count": 47,
   "id": "920fc1fe-6e95-44f7-bb99-990f628850e1",
   "metadata": {},
   "outputs": [
    {
     "ename": "NameError",
     "evalue": "name 'region_cluster_labels' is not defined",
     "output_type": "error",
     "traceback": [
      "\u001b[0;31m---------------------------------------------------------------------------\u001b[0m",
      "\u001b[0;31mNameError\u001b[0m                                 Traceback (most recent call last)",
      "Cell \u001b[0;32mIn[47], line 3\u001b[0m\n\u001b[1;32m      1\u001b[0m \u001b[38;5;66;03m# component_data = X_train.loc[labels.groupby(labels).get_group(label).index.values]\u001b[39;00m\n\u001b[0;32m----> 3\u001b[0m component_data \u001b[38;5;241m=\u001b[39m X_train\u001b[38;5;241m.\u001b[39mloc[\u001b[43mregion_cluster_labels\u001b[49m\u001b[38;5;241m.\u001b[39mindex]\n",
      "\u001b[0;31mNameError\u001b[0m: name 'region_cluster_labels' is not defined"
     ]
    }
   ],
   "source": [
    "# component_data = X_train.loc[labels.groupby(labels).get_group(label).index.values]\n",
    "\n",
    "component_data = X_train.loc[region_cluster_labels.index]"
   ]
  },
  {
   "cell_type": "code",
   "execution_count": 81,
   "id": "65e5bda3-e2b5-40e0-9059-4aac85220700",
   "metadata": {},
   "outputs": [],
   "source": [
    "# component_data = component_data.groupby(results[label]).agg([np.min, np.median, np.max])"
   ]
  },
  {
   "cell_type": "code",
   "execution_count": 82,
   "id": "a03c94a3-af48-4d4a-a7bd-5cca23ced9d5",
   "metadata": {},
   "outputs": [],
   "source": [
    "# component_data = component_data.groupby(results[label]).agg([percentile(10), \n",
    "#                                                              'median', \n",
    "#                                                              percentile(90)])"
   ]
  },
  {
   "cell_type": "code",
   "execution_count": 83,
   "id": "91b7f9d7-2b08-44ea-95b9-7a66f69216eb",
   "metadata": {},
   "outputs": [
    {
     "name": "stdout",
     "output_type": "stream",
     "text": [
      "CPU times: user 1.36 s, sys: 0 ns, total: 1.36 s\n",
      "Wall time: 1.35 s\n"
     ]
    }
   ],
   "source": [
    "%%time\n",
    "component_data = component_data.groupby(region_cluster_labels.values).agg([percentile(10), \n",
    "                                                             'median', \n",
    "                                                             percentile(90)])"
   ]
  },
  {
   "cell_type": "code",
   "execution_count": 84,
   "id": "ac81abe6-bf92-4ddd-af46-eb93e33c8d73",
   "metadata": {},
   "outputs": [
    {
     "data": {
      "text/html": [
       "<div>\n",
       "<style scoped>\n",
       "    .dataframe tbody tr th:only-of-type {\n",
       "        vertical-align: middle;\n",
       "    }\n",
       "\n",
       "    .dataframe tbody tr th {\n",
       "        vertical-align: top;\n",
       "    }\n",
       "\n",
       "    .dataframe thead tr th {\n",
       "        text-align: left;\n",
       "    }\n",
       "</style>\n",
       "<table border=\"1\" class=\"dataframe\">\n",
       "  <thead>\n",
       "    <tr>\n",
       "      <th></th>\n",
       "      <th colspan=\"3\" halign=\"left\">sdbAre</th>\n",
       "      <th colspan=\"3\" halign=\"left\">sdbPer</th>\n",
       "      <th colspan=\"3\" halign=\"left\">sdbCoA</th>\n",
       "      <th>ssbCCo</th>\n",
       "      <th>...</th>\n",
       "      <th>ltkWNB</th>\n",
       "      <th colspan=\"3\" halign=\"left\">likWBB</th>\n",
       "      <th colspan=\"3\" halign=\"left\">sdsAre</th>\n",
       "      <th colspan=\"3\" halign=\"left\">likWCe</th>\n",
       "    </tr>\n",
       "    <tr>\n",
       "      <th></th>\n",
       "      <th>percentile_10</th>\n",
       "      <th>median</th>\n",
       "      <th>percentile_90</th>\n",
       "      <th>percentile_10</th>\n",
       "      <th>median</th>\n",
       "      <th>percentile_90</th>\n",
       "      <th>percentile_10</th>\n",
       "      <th>median</th>\n",
       "      <th>percentile_90</th>\n",
       "      <th>percentile_10</th>\n",
       "      <th>...</th>\n",
       "      <th>percentile_90</th>\n",
       "      <th>percentile_10</th>\n",
       "      <th>median</th>\n",
       "      <th>percentile_90</th>\n",
       "      <th>percentile_10</th>\n",
       "      <th>median</th>\n",
       "      <th>percentile_90</th>\n",
       "      <th>percentile_10</th>\n",
       "      <th>median</th>\n",
       "      <th>percentile_90</th>\n",
       "    </tr>\n",
       "  </thead>\n",
       "  <tbody>\n",
       "    <tr>\n",
       "      <th>0_1.0</th>\n",
       "      <td>158.469588</td>\n",
       "      <td>158.469588</td>\n",
       "      <td>158.469588</td>\n",
       "      <td>51.195015</td>\n",
       "      <td>51.195015</td>\n",
       "      <td>51.195015</td>\n",
       "      <td>0.0</td>\n",
       "      <td>0.0</td>\n",
       "      <td>0.0</td>\n",
       "      <td>0.595764</td>\n",
       "      <td>...</td>\n",
       "      <td>0.003107</td>\n",
       "      <td>0.006032</td>\n",
       "      <td>0.006032</td>\n",
       "      <td>0.006032</td>\n",
       "      <td>131150.244631</td>\n",
       "      <td>131150.244631</td>\n",
       "      <td>131150.244631</td>\n",
       "      <td>0.000038</td>\n",
       "      <td>0.000038</td>\n",
       "      <td>0.000038</td>\n",
       "    </tr>\n",
       "    <tr>\n",
       "      <th>10_1.0</th>\n",
       "      <td>24.995869</td>\n",
       "      <td>24.995869</td>\n",
       "      <td>24.995869</td>\n",
       "      <td>20.325831</td>\n",
       "      <td>20.325831</td>\n",
       "      <td>20.325831</td>\n",
       "      <td>0.0</td>\n",
       "      <td>0.0</td>\n",
       "      <td>0.0</td>\n",
       "      <td>0.595020</td>\n",
       "      <td>...</td>\n",
       "      <td>0.001542</td>\n",
       "      <td>0.000748</td>\n",
       "      <td>0.000748</td>\n",
       "      <td>0.000748</td>\n",
       "      <td>110517.333155</td>\n",
       "      <td>110517.333155</td>\n",
       "      <td>110517.333155</td>\n",
       "      <td>0.000030</td>\n",
       "      <td>0.000030</td>\n",
       "      <td>0.000030</td>\n",
       "    </tr>\n",
       "    <tr>\n",
       "      <th>11_1.0</th>\n",
       "      <td>6.378458</td>\n",
       "      <td>6.378458</td>\n",
       "      <td>6.378458</td>\n",
       "      <td>10.146418</td>\n",
       "      <td>10.146418</td>\n",
       "      <td>10.146418</td>\n",
       "      <td>0.0</td>\n",
       "      <td>0.0</td>\n",
       "      <td>0.0</td>\n",
       "      <td>0.624573</td>\n",
       "      <td>...</td>\n",
       "      <td>0.001567</td>\n",
       "      <td>0.000197</td>\n",
       "      <td>0.000197</td>\n",
       "      <td>0.000197</td>\n",
       "      <td>72872.139955</td>\n",
       "      <td>72872.139955</td>\n",
       "      <td>72872.139955</td>\n",
       "      <td>0.000031</td>\n",
       "      <td>0.000031</td>\n",
       "      <td>0.000031</td>\n",
       "    </tr>\n",
       "    <tr>\n",
       "      <th>12_1.0</th>\n",
       "      <td>117.428260</td>\n",
       "      <td>117.428260</td>\n",
       "      <td>117.428260</td>\n",
       "      <td>44.472631</td>\n",
       "      <td>44.472631</td>\n",
       "      <td>44.472631</td>\n",
       "      <td>0.0</td>\n",
       "      <td>0.0</td>\n",
       "      <td>0.0</td>\n",
       "      <td>0.643355</td>\n",
       "      <td>...</td>\n",
       "      <td>0.005650</td>\n",
       "      <td>0.006385</td>\n",
       "      <td>0.006385</td>\n",
       "      <td>0.006385</td>\n",
       "      <td>35802.256088</td>\n",
       "      <td>35802.256088</td>\n",
       "      <td>35802.256088</td>\n",
       "      <td>0.000054</td>\n",
       "      <td>0.000054</td>\n",
       "      <td>0.000054</td>\n",
       "    </tr>\n",
       "    <tr>\n",
       "      <th>13_1.0</th>\n",
       "      <td>134.018525</td>\n",
       "      <td>134.018525</td>\n",
       "      <td>134.018525</td>\n",
       "      <td>56.066456</td>\n",
       "      <td>56.066456</td>\n",
       "      <td>56.066456</td>\n",
       "      <td>0.0</td>\n",
       "      <td>0.0</td>\n",
       "      <td>0.0</td>\n",
       "      <td>0.392704</td>\n",
       "      <td>...</td>\n",
       "      <td>0.003085</td>\n",
       "      <td>0.004432</td>\n",
       "      <td>0.004432</td>\n",
       "      <td>0.004432</td>\n",
       "      <td>110936.743070</td>\n",
       "      <td>110936.743070</td>\n",
       "      <td>110936.743070</td>\n",
       "      <td>0.000033</td>\n",
       "      <td>0.000033</td>\n",
       "      <td>0.000033</td>\n",
       "    </tr>\n",
       "    <tr>\n",
       "      <th>...</th>\n",
       "      <td>...</td>\n",
       "      <td>...</td>\n",
       "      <td>...</td>\n",
       "      <td>...</td>\n",
       "      <td>...</td>\n",
       "      <td>...</td>\n",
       "      <td>...</td>\n",
       "      <td>...</td>\n",
       "      <td>...</td>\n",
       "      <td>...</td>\n",
       "      <td>...</td>\n",
       "      <td>...</td>\n",
       "      <td>...</td>\n",
       "      <td>...</td>\n",
       "      <td>...</td>\n",
       "      <td>...</td>\n",
       "      <td>...</td>\n",
       "      <td>...</td>\n",
       "      <td>...</td>\n",
       "      <td>...</td>\n",
       "      <td>...</td>\n",
       "    </tr>\n",
       "    <tr>\n",
       "      <th>5_1.0</th>\n",
       "      <td>71.601454</td>\n",
       "      <td>127.778758</td>\n",
       "      <td>183.956061</td>\n",
       "      <td>36.044147</td>\n",
       "      <td>51.116402</td>\n",
       "      <td>66.188657</td>\n",
       "      <td>0.0</td>\n",
       "      <td>0.0</td>\n",
       "      <td>0.0</td>\n",
       "      <td>0.429574</td>\n",
       "      <td>...</td>\n",
       "      <td>0.009315</td>\n",
       "      <td>0.007682</td>\n",
       "      <td>0.009550</td>\n",
       "      <td>0.011418</td>\n",
       "      <td>123988.920003</td>\n",
       "      <td>123988.920003</td>\n",
       "      <td>123988.920003</td>\n",
       "      <td>0.000067</td>\n",
       "      <td>0.000093</td>\n",
       "      <td>0.000119</td>\n",
       "    </tr>\n",
       "    <tr>\n",
       "      <th>6_1.0</th>\n",
       "      <td>16.593783</td>\n",
       "      <td>22.347574</td>\n",
       "      <td>104.627653</td>\n",
       "      <td>17.377131</td>\n",
       "      <td>19.745407</td>\n",
       "      <td>39.857137</td>\n",
       "      <td>0.0</td>\n",
       "      <td>0.0</td>\n",
       "      <td>0.0</td>\n",
       "      <td>0.437883</td>\n",
       "      <td>...</td>\n",
       "      <td>0.001357</td>\n",
       "      <td>0.009704</td>\n",
       "      <td>0.009704</td>\n",
       "      <td>0.009704</td>\n",
       "      <td>27294.158889</td>\n",
       "      <td>29342.595346</td>\n",
       "      <td>29342.595346</td>\n",
       "      <td>0.000187</td>\n",
       "      <td>0.000187</td>\n",
       "      <td>0.000187</td>\n",
       "    </tr>\n",
       "    <tr>\n",
       "      <th>7_1.0</th>\n",
       "      <td>18.271826</td>\n",
       "      <td>166.434128</td>\n",
       "      <td>565.836413</td>\n",
       "      <td>17.577434</td>\n",
       "      <td>52.009857</td>\n",
       "      <td>125.681820</td>\n",
       "      <td>0.0</td>\n",
       "      <td>0.0</td>\n",
       "      <td>0.0</td>\n",
       "      <td>0.291255</td>\n",
       "      <td>...</td>\n",
       "      <td>0.001766</td>\n",
       "      <td>0.028962</td>\n",
       "      <td>0.041850</td>\n",
       "      <td>0.041850</td>\n",
       "      <td>216162.254352</td>\n",
       "      <td>216162.254352</td>\n",
       "      <td>216162.254352</td>\n",
       "      <td>0.000114</td>\n",
       "      <td>0.000144</td>\n",
       "      <td>0.000144</td>\n",
       "    </tr>\n",
       "    <tr>\n",
       "      <th>8_1.0</th>\n",
       "      <td>55.468548</td>\n",
       "      <td>66.930641</td>\n",
       "      <td>155.223430</td>\n",
       "      <td>31.041228</td>\n",
       "      <td>40.410358</td>\n",
       "      <td>52.342059</td>\n",
       "      <td>0.0</td>\n",
       "      <td>0.0</td>\n",
       "      <td>0.0</td>\n",
       "      <td>0.293687</td>\n",
       "      <td>...</td>\n",
       "      <td>0.001209</td>\n",
       "      <td>0.007972</td>\n",
       "      <td>0.007972</td>\n",
       "      <td>0.007972</td>\n",
       "      <td>216162.254352</td>\n",
       "      <td>216162.254352</td>\n",
       "      <td>216162.254352</td>\n",
       "      <td>0.000084</td>\n",
       "      <td>0.000084</td>\n",
       "      <td>0.000084</td>\n",
       "    </tr>\n",
       "    <tr>\n",
       "      <th>9_1.0</th>\n",
       "      <td>14.158693</td>\n",
       "      <td>92.076144</td>\n",
       "      <td>2532.373037</td>\n",
       "      <td>15.417828</td>\n",
       "      <td>40.555035</td>\n",
       "      <td>344.754346</td>\n",
       "      <td>0.0</td>\n",
       "      <td>0.0</td>\n",
       "      <td>0.0</td>\n",
       "      <td>0.237455</td>\n",
       "      <td>...</td>\n",
       "      <td>0.001464</td>\n",
       "      <td>0.165478</td>\n",
       "      <td>0.165478</td>\n",
       "      <td>0.165478</td>\n",
       "      <td>96713.265454</td>\n",
       "      <td>96713.265454</td>\n",
       "      <td>96713.265454</td>\n",
       "      <td>0.000191</td>\n",
       "      <td>0.000191</td>\n",
       "      <td>0.000191</td>\n",
       "    </tr>\n",
       "  </tbody>\n",
       "</table>\n",
       "<p>215 rows × 189 columns</p>\n",
       "</div>"
      ],
      "text/plain": [
       "              sdbAre                                  sdbPer             \\\n",
       "       percentile_10      median percentile_90 percentile_10     median   \n",
       "0_1.0     158.469588  158.469588    158.469588     51.195015  51.195015   \n",
       "10_1.0     24.995869   24.995869     24.995869     20.325831  20.325831   \n",
       "11_1.0      6.378458    6.378458      6.378458     10.146418  10.146418   \n",
       "12_1.0    117.428260  117.428260    117.428260     44.472631  44.472631   \n",
       "13_1.0    134.018525  134.018525    134.018525     56.066456  56.066456   \n",
       "...              ...         ...           ...           ...        ...   \n",
       "5_1.0      71.601454  127.778758    183.956061     36.044147  51.116402   \n",
       "6_1.0      16.593783   22.347574    104.627653     17.377131  19.745407   \n",
       "7_1.0      18.271826  166.434128    565.836413     17.577434  52.009857   \n",
       "8_1.0      55.468548   66.930641    155.223430     31.041228  40.410358   \n",
       "9_1.0      14.158693   92.076144   2532.373037     15.417828  40.555035   \n",
       "\n",
       "                            sdbCoA                             ssbCCo  ...  \\\n",
       "       percentile_90 percentile_10 median percentile_90 percentile_10  ...   \n",
       "0_1.0      51.195015           0.0    0.0           0.0      0.595764  ...   \n",
       "10_1.0     20.325831           0.0    0.0           0.0      0.595020  ...   \n",
       "11_1.0     10.146418           0.0    0.0           0.0      0.624573  ...   \n",
       "12_1.0     44.472631           0.0    0.0           0.0      0.643355  ...   \n",
       "13_1.0     56.066456           0.0    0.0           0.0      0.392704  ...   \n",
       "...              ...           ...    ...           ...           ...  ...   \n",
       "5_1.0      66.188657           0.0    0.0           0.0      0.429574  ...   \n",
       "6_1.0      39.857137           0.0    0.0           0.0      0.437883  ...   \n",
       "7_1.0     125.681820           0.0    0.0           0.0      0.291255  ...   \n",
       "8_1.0      52.342059           0.0    0.0           0.0      0.293687  ...   \n",
       "9_1.0     344.754346           0.0    0.0           0.0      0.237455  ...   \n",
       "\n",
       "              ltkWNB        likWBB                                 sdsAre  \\\n",
       "       percentile_90 percentile_10    median percentile_90  percentile_10   \n",
       "0_1.0       0.003107      0.006032  0.006032      0.006032  131150.244631   \n",
       "10_1.0      0.001542      0.000748  0.000748      0.000748  110517.333155   \n",
       "11_1.0      0.001567      0.000197  0.000197      0.000197   72872.139955   \n",
       "12_1.0      0.005650      0.006385  0.006385      0.006385   35802.256088   \n",
       "13_1.0      0.003085      0.004432  0.004432      0.004432  110936.743070   \n",
       "...              ...           ...       ...           ...            ...   \n",
       "5_1.0       0.009315      0.007682  0.009550      0.011418  123988.920003   \n",
       "6_1.0       0.001357      0.009704  0.009704      0.009704   27294.158889   \n",
       "7_1.0       0.001766      0.028962  0.041850      0.041850  216162.254352   \n",
       "8_1.0       0.001209      0.007972  0.007972      0.007972  216162.254352   \n",
       "9_1.0       0.001464      0.165478  0.165478      0.165478   96713.265454   \n",
       "\n",
       "                                            likWCe                          \n",
       "               median  percentile_90 percentile_10    median percentile_90  \n",
       "0_1.0   131150.244631  131150.244631      0.000038  0.000038      0.000038  \n",
       "10_1.0  110517.333155  110517.333155      0.000030  0.000030      0.000030  \n",
       "11_1.0   72872.139955   72872.139955      0.000031  0.000031      0.000031  \n",
       "12_1.0   35802.256088   35802.256088      0.000054  0.000054      0.000054  \n",
       "13_1.0  110936.743070  110936.743070      0.000033  0.000033      0.000033  \n",
       "...               ...            ...           ...       ...           ...  \n",
       "5_1.0   123988.920003  123988.920003      0.000067  0.000093      0.000119  \n",
       "6_1.0    29342.595346   29342.595346      0.000187  0.000187      0.000187  \n",
       "7_1.0   216162.254352  216162.254352      0.000114  0.000144      0.000144  \n",
       "8_1.0   216162.254352  216162.254352      0.000084  0.000084      0.000084  \n",
       "9_1.0    96713.265454   96713.265454      0.000191  0.000191      0.000191  \n",
       "\n",
       "[215 rows x 189 columns]"
      ]
     },
     "execution_count": 84,
     "metadata": {},
     "output_type": "execute_result"
    }
   ],
   "source": [
    "component_data"
   ]
  },
  {
   "cell_type": "code",
   "execution_count": null,
   "id": "0f88214a-302e-4bad-ab0d-1ecbd2643035",
   "metadata": {},
   "outputs": [],
   "source": []
  },
  {
   "cell_type": "code",
   "execution_count": 85,
   "id": "c22a7a29-f8ad-4e88-831d-186a81485330",
   "metadata": {},
   "outputs": [],
   "source": [
    "vals = StandardScaler().fit_transform(component_data)\n",
    "component_data = pd.DataFrame(vals, columns=component_data.columns, index=component_data.index)\n",
    "\n",
    "# component_data = component_data[component_data.index >= 0]\n",
    "vals = np.nan_to_num(component_data)\n",
    "component_data = pd.DataFrame(vals, columns=component_data.columns, index=component_data.index)"
   ]
  },
  {
   "cell_type": "code",
   "execution_count": null,
   "id": "03b13715-0d48-4677-9c7e-2ce7373df35f",
   "metadata": {},
   "outputs": [],
   "source": []
  },
  {
   "cell_type": "code",
   "execution_count": null,
   "id": "ec64c009-c708-4217-9cb8-73f23ffef35f",
   "metadata": {},
   "outputs": [],
   "source": []
  },
  {
   "cell_type": "code",
   "execution_count": 86,
   "id": "50326dea-8a22-4ee0-967f-a396450e47f6",
   "metadata": {},
   "outputs": [
    {
     "name": "stdout",
     "output_type": "stream",
     "text": [
      "UMAP(min_dist=0, n_components=15, verbose=True)\n",
      "Mon Aug 26 16:13:54 2024 Construct fuzzy simplicial set\n",
      "Mon Aug 26 16:13:54 2024 Finding Nearest Neighbors\n",
      "Mon Aug 26 16:13:54 2024 Finished Nearest Neighbor Search\n",
      "Mon Aug 26 16:13:54 2024 Construct embedding\n"
     ]
    },
    {
     "data": {
      "application/vnd.jupyter.widget-view+json": {
       "model_id": "20f6cf4639df44eda55b36b3266ae4f0",
       "version_major": 2,
       "version_minor": 0
      },
      "text/plain": [
       "Epochs completed:   0%|            0/500 [00:00]"
      ]
     },
     "metadata": {},
     "output_type": "display_data"
    },
    {
     "name": "stdout",
     "output_type": "stream",
     "text": [
      "\tcompleted  0  /  500 epochs\n",
      "\tcompleted  50  /  500 epochs\n",
      "\tcompleted  100  /  500 epochs\n",
      "\tcompleted  150  /  500 epochs\n",
      "\tcompleted  200  /  500 epochs\n",
      "\tcompleted  250  /  500 epochs\n",
      "\tcompleted  300  /  500 epochs\n",
      "\tcompleted  350  /  500 epochs\n",
      "\tcompleted  400  /  500 epochs\n",
      "\tcompleted  450  /  500 epochs\n",
      "Mon Aug 26 16:13:55 2024 Finished embedding\n"
     ]
    }
   ],
   "source": [
    "import umap\n",
    "import umap.plot\n",
    "\n",
    "reducer = umap.UMAP(n_neighbors=15, n_components=15, min_dist=0, metric='euclidean', verbose=True)\n",
    "# reducer = umap.UMAP(n_neighbors=10, n_components=2, min_dist=0, metric='cosine', verbose=True)\n",
    "embedding = reducer.fit_transform(component_data)\n",
    "# umap.plot.points(reducer)"
   ]
  },
  {
   "cell_type": "code",
   "execution_count": null,
   "id": "f428bf21-4e77-49c5-a3d3-869b8fb9b60f",
   "metadata": {},
   "outputs": [],
   "source": []
  },
  {
   "cell_type": "code",
   "execution_count": null,
   "id": "98c9cca0-cbeb-48f4-bfc9-38eae668ad37",
   "metadata": {},
   "outputs": [],
   "source": []
  },
  {
   "cell_type": "code",
   "execution_count": null,
   "id": "f3a3bb72-de0d-4f59-8d0d-0bd75dba0b61",
   "metadata": {},
   "outputs": [],
   "source": []
  },
  {
   "cell_type": "code",
   "execution_count": 87,
   "id": "ac72cc77-6b59-4e43-b587-2a6ef719de35",
   "metadata": {},
   "outputs": [],
   "source": [
    "clusterer = AgglomerativeClustering(linkage='complete',\n",
    "                                    compute_full_tree=True,\n",
    "                                    compute_distances=True)\n",
    "model = clusterer.fit(embedding)\n",
    "linkage_matrix = get_linkage_matrix(model)"
   ]
  },
  {
   "cell_type": "code",
   "execution_count": 88,
   "id": "367f48be-82fe-4bee-9a86-c3fa0669c52c",
   "metadata": {},
   "outputs": [
    {
     "data": {
      "image/png": "[encoded data removed]",
      "text/plain": [
       "<Figure size 2000x1000 with 1 Axes>"
      ]
     },
     "metadata": {},
     "output_type": "display_data"
    }
   ],
   "source": [
    "fig,ax = plt.subplots(figsize=(20,10))\n",
    "_ = dendrogram(linkage_matrix, ax=ax)"
   ]
  },
  {
   "cell_type": "code",
   "execution_count": 56,
   "id": "ba227a6a-db4d-4dcd-b550-daa064272bb7",
   "metadata": {},
   "outputs": [],
   "source": [
    "clusters = fcluster(linkage_matrix, t=2, criterion='distance')"
   ]
  },
  {
   "cell_type": "code",
   "execution_count": null,
   "id": "36fa9425-43a1-402b-aee8-52600f84892f",
   "metadata": {},
   "outputs": [],
   "source": []
  },
  {
   "cell_type": "code",
   "execution_count": 57,
   "id": "aec600ae-3288-4f00-b3ff-80181c330a0e",
   "metadata": {},
   "outputs": [],
   "source": [
    "# from sklearn.cluster import KMeans, MiniBatchKMeans\n",
    "# from sklearn.metrics import adjusted_rand_score\n",
    "# clusters = KMeans(n_clusters=25, max_iter=5000, n_init=300).fit(embedding).labels_"
   ]
  },
  {
   "cell_type": "code",
   "execution_count": 58,
   "id": "0009caae-be65-4572-9f79-3d3f3d026f7b",
   "metadata": {},
   "outputs": [],
   "source": [
    "# morh_clusters = results[label]\n",
    "morh_clusters = region_cluster_labels.values"
   ]
  },
  {
   "cell_type": "code",
   "execution_count": 59,
   "id": "a322f9fe-d75b-45f5-b8db-db5e35255514",
   "metadata": {},
   "outputs": [],
   "source": [
    "clusters = pd.Series(clusters, index=component_data.index.values)\n",
    "clusters = clusters.loc[morh_clusters].values"
   ]
  },
  {
   "cell_type": "code",
   "execution_count": null,
   "id": "3674dd9b-ae1c-439f-95f5-d31302b2f2b3",
   "metadata": {},
   "outputs": [],
   "source": []
  },
  {
   "cell_type": "code",
   "execution_count": 60,
   "id": "94119a1c-d128-4f30-89f7-fe3c0b7eb680",
   "metadata": {},
   "outputs": [],
   "source": [
    "# assert clusters.shape == results[label].shape\n",
    "\n",
    "# for i in np.unique(results[label]):\n",
    "#     idxs = np.where(results[label] == i)[0]\n",
    "#     old_clusters = results[label][idxs]\n",
    "#     new_clusters = clusters[idxs]\n",
    "#     assert np.unique(old_clusters).shape[0] == 1\n",
    "#     assert np.unique(new_clusters).shape[0] == 1\n",
    "    "
   ]
  },
  {
   "cell_type": "code",
   "execution_count": null,
   "id": "6d25be23-75fc-419a-8500-409051f97088",
   "metadata": {},
   "outputs": [],
   "source": []
  },
  {
   "cell_type": "code",
   "execution_count": 61,
   "id": "860728c6-66b0-4854-acb1-e5a6cdddfe4d",
   "metadata": {},
   "outputs": [
    {
     "data": {
      "text/plain": [
       "(array([1, 2, 3, 4, 5, 6, 7, 8, 9], dtype=int32),\n",
       " array([7439, 6149, 3450, 3874,   18, 2750,  687, 4019, 7681]))"
      ]
     },
     "execution_count": 61,
     "metadata": {},
     "output_type": "execute_result"
    }
   ],
   "source": [
    "np.unique(clusters, return_counts=True)"
   ]
  },
  {
   "cell_type": "code",
   "execution_count": null,
   "id": "129c4a2e-6e54-4253-a922-e9bec0e55481",
   "metadata": {},
   "outputs": [],
   "source": []
  },
  {
   "cell_type": "code",
   "execution_count": null,
   "id": "6d087b3c-cd66-4a99-8be7-6fec6bafe425",
   "metadata": {},
   "outputs": [],
   "source": []
  },
  {
   "cell_type": "code",
   "execution_count": null,
   "id": "9e78f685-b209-45de-b702-2fc296654cde",
   "metadata": {},
   "outputs": [],
   "source": []
  },
  {
   "cell_type": "code",
   "execution_count": null,
   "id": "07c7fa25-4e40-4f0e-9393-54606eea4a1d",
   "metadata": {},
   "outputs": [],
   "source": []
  },
  {
   "cell_type": "code",
   "execution_count": 53,
   "id": "5e92bc9a-60c8-492f-8977-33ffe49a0f70",
   "metadata": {},
   "outputs": [
    {
     "name": "stderr",
     "output_type": "stream",
     "text": [
      "/home/krasen/miniconda3/envs/urban_taxonomy/lib/python3.12/site-packages/lonboard/_geoarrow/ops/reproject.py:97: UserWarning: Input being reprojected to EPSG:4326 CRS\n",
      "  warnings.warn(\"Input being reprojected to EPSG:4326 CRS\")\n"
     ]
    },
    {
     "name": "stdout",
     "output_type": "stream",
     "text": [
      "CPU times: user 597 ms, sys: 40.1 ms, total: 637 ms\n",
      "Wall time: 637 ms\n"
     ]
    }
   ],
   "source": [
    "%%time\n",
    "import lonboard\n",
    "# plotting = tessellation[tessellation.index.isin(X_train.index)].copy()\n",
    "layer = lonboard.SolidPolygonLayer.from_geopandas(tessellation[tessellation.index >= 0], opacity=.08)"
   ]
  },
  {
   "cell_type": "code",
   "execution_count": 54,
   "id": "867bcbb8-a9c8-4d6b-a91a-d9cff86240de",
   "metadata": {},
   "outputs": [],
   "source": [
    "from sidecar import Sidecar\n",
    "sc = Sidecar(title='Clusters')\n",
    "m = lonboard.Map(layer, basemap_style=lonboard.basemap.CartoBasemap.Positron)\n",
    "with sc:\n",
    "    display(m)"
   ]
  },
  {
   "cell_type": "code",
   "execution_count": null,
   "id": "db044e8e-37ba-40c3-9fc3-d83b9e176374",
   "metadata": {},
   "outputs": [],
   "source": []
  },
  {
   "cell_type": "code",
   "execution_count": 62,
   "id": "545e67b1-cb43-4d90-852b-ab2e6fe163e3",
   "metadata": {},
   "outputs": [],
   "source": [
    "from core.cluster_validation import get_color\n",
    "layer.get_fill_color = get_color(clusters)"
   ]
  },
  {
   "cell_type": "code",
   "execution_count": null,
   "id": "bc89cb54-6fba-4fdd-a1f9-32e179b1c276",
   "metadata": {},
   "outputs": [],
   "source": []
  }
 ],
 "metadata": {
  "kernelspec": {
   "display_name": "Python 3 (ipykernel)",
   "language": "python",
   "name": "python3"
  },
  "language_info": {
   "codemirror_mode": {
    "name": "ipython",
    "version": 3
   },
   "file_extension": ".py",
   "mimetype": "text/x-python",
   "name": "python",
   "nbconvert_exporter": "python",
   "pygments_lexer": "ipython3",
   "version": "3.12.4"
  }
 },
 "nbformat": 4,
 "nbformat_minor": 5
}
