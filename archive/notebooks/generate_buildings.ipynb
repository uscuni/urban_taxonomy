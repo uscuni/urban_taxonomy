{
 "cells": [
  {
   "cell_type": "code",
   "execution_count": 2,
   "id": "38919fd9-5887-4362-a883-d9f9cc62b3a1",
   "metadata": {},
   "outputs": [],
   "source": [
    "import glob\n",
    "\n",
    "import geopandas as gpd\n",
    "import numpy as np\n",
    "import pandas as pd\n",
    "\n",
    "regions_datadir = \"/data/uscuni-ulce/\"\n",
    "data_dir = \"/data/uscuni-ulce/processed_data/\"\n",
    "eubucco_files = glob.glob(regions_datadir + \"eubucco_raw/*\")\n",
    "graph_dir = data_dir + \"neigh_graphs/\"\n",
    "chars_dir = \"/data/uscuni-ulce/processed_data/chars/\""
   ]
  },
  {
   "cell_type": "code",
   "execution_count": null,
   "id": "73d551b0-a4e0-47cc-9c2f-921bcabb3b5c",
   "metadata": {},
   "outputs": [],
   "source": []
  },
  {
   "cell_type": "code",
   "execution_count": 3,
   "id": "4e7d4e08-90d6-4cd9-8207-159fc08a6899",
   "metadata": {},
   "outputs": [],
   "source": [
    "building_region_mapping = pd.read_parquet(\n",
    "    regions_datadir + \"regions/\" + \"id_to_region.parquet\", engine=\"pyarrow\"\n",
    ")\n",
    "typed_dict = pd.Series(\n",
    "    np.arange(building_region_mapping[\"id\"].values.shape[0]),\n",
    "    index=building_region_mapping[\"id\"].values,\n",
    ")\n",
    "region_ids = building_region_mapping.groupby(\"region\")[\"id\"].unique()\n",
    "del building_region_mapping  # its 2/3 gb\n",
    "region_hulls = gpd.read_parquet(regions_datadir + \"regions/\" + \"regions_hull.parquet\")"
   ]
  },
  {
   "cell_type": "code",
   "execution_count": null,
   "id": "698a407d-005d-4a81-8acb-5c8629359011",
   "metadata": {},
   "outputs": [],
   "source": []
  },
  {
   "cell_type": "code",
   "execution_count": null,
   "id": "bd5d8dad-0638-4234-ac7b-075b224ab82e",
   "metadata": {},
   "outputs": [],
   "source": []
  },
  {
   "cell_type": "code",
   "execution_count": 5,
   "id": "b63dfbb3-89a1-44df-af0a-d2ebd61bf24a",
   "metadata": {},
   "outputs": [],
   "source": [
    "for region_id, region_hull in region_hulls.iterrows():\n",
    "    region_hull = region_hull[\"convex_hull\"]\n",
    "    if region_id == 69300:\n",
    "        break"
   ]
  },
  {
   "cell_type": "code",
   "execution_count": 6,
   "id": "589242d7-a3d9-443d-b7df-408a45032c59",
   "metadata": {},
   "outputs": [],
   "source": []
  },
  {
   "cell_type": "code",
   "execution_count": null,
   "id": "c2a0f2be-ba19-417e-b919-da661b3587a0",
   "metadata": {},
   "outputs": [],
   "source": []
  },
  {
   "cell_type": "code",
   "execution_count": 8,
   "id": "4063f7a0-a1b3-4dd3-abc4-41f9baf986fa",
   "metadata": {},
   "outputs": [
    {
     "data": {
      "text/plain": [
       "(317934, 2)"
      ]
     },
     "execution_count": 8,
     "metadata": {},
     "output_type": "execute_result"
    }
   ],
   "source": [
    "# orig_buildings = read_region_buildings(typed_dict, region_ids, region_hull, region_id)\n",
    "orig_buildings.shape"
   ]
  },
  {
   "cell_type": "code",
   "execution_count": 20,
   "id": "ed451ba8-bb39-43b5-8bdf-5f0f830081a0",
   "metadata": {},
   "outputs": [],
   "source": [
    "buildings = orig_buildings.copy()"
   ]
  },
  {
   "cell_type": "code",
   "execution_count": 21,
   "id": "33e4999e-26a8-4057-9ddc-cc2832a4c48e",
   "metadata": {},
   "outputs": [
    {
     "data": {
      "text/plain": [
       "(317934, 2)"
      ]
     },
     "execution_count": 21,
     "metadata": {},
     "output_type": "execute_result"
    }
   ],
   "source": [
    "buildings[\"geometry\"] = buildings.make_valid()\n",
    "buildings.shape"
   ]
  },
  {
   "cell_type": "code",
   "execution_count": 22,
   "id": "1036e9a7-1525-4384-a8dd-496cf255d93f",
   "metadata": {},
   "outputs": [
    {
     "data": {
      "text/plain": [
       "(317936, 2)"
      ]
     },
     "execution_count": 22,
     "metadata": {},
     "output_type": "execute_result"
    }
   ],
   "source": [
    "## explode multipolygons\n",
    "buildings = buildings.explode(ignore_index=True)\n",
    "buildings.shape"
   ]
  },
  {
   "cell_type": "code",
   "execution_count": 23,
   "id": "4b064d2d-9d6d-4a6e-9f1a-ec2922a664a4",
   "metadata": {},
   "outputs": [
    {
     "data": {
      "text/plain": [
       "(317934, 2)"
      ]
     },
     "execution_count": 23,
     "metadata": {},
     "output_type": "execute_result"
    }
   ],
   "source": [
    "## keep only polygons\n",
    "buildings = buildings[buildings[\"geometry\"].geom_type == \"Polygon\"].reset_index(\n",
    "    drop=True\n",
    ")\n",
    "buildings.shape"
   ]
  },
  {
   "cell_type": "code",
   "execution_count": 24,
   "id": "faf9186d-c4cd-4d2b-8379-40e159fc7438",
   "metadata": {},
   "outputs": [
    {
     "data": {
      "text/plain": [
       "(317934, 2)"
      ]
     },
     "execution_count": 24,
     "metadata": {},
     "output_type": "execute_result"
    }
   ],
   "source": [
    "# set precision to speed up calc.\n",
    "buildings[\"geometry\"] = buildings.set_precision(0.001)\n",
    "buildings.shape"
   ]
  },
  {
   "cell_type": "code",
   "execution_count": 25,
   "id": "e14f463f-07e1-4f67-bbb3-1145169c215a",
   "metadata": {},
   "outputs": [],
   "source": [
    "import geoplanar"
   ]
  },
  {
   "cell_type": "code",
   "execution_count": 26,
   "id": "96f15b39-e8f1-4607-8b69-e1b8a36b5b78",
   "metadata": {},
   "outputs": [
    {
     "data": {
      "text/plain": [
       "(299209, 2)"
      ]
     },
     "execution_count": 26,
     "metadata": {},
     "output_type": "execute_result"
    }
   ],
   "source": [
    "## merge buildings that overlap either 1) at least .10 percent or 2) 500sqm\n",
    "buildings = geoplanar.merge_overlaps(buildings, merge_limit=30, overlap_limit=0.1)\n",
    "buildings.shape"
   ]
  },
  {
   "cell_type": "code",
   "execution_count": null,
   "id": "fe1461bc-c0a5-4bb6-bda4-819f4d684d6b",
   "metadata": {},
   "outputs": [],
   "source": []
  },
  {
   "cell_type": "code",
   "execution_count": 27,
   "id": "59e90664-bb1c-4fc4-a6bd-ee05ed8b59d6",
   "metadata": {},
   "outputs": [
    {
     "data": {
      "text/plain": [
       "(299209, 2)"
      ]
     },
     "execution_count": 27,
     "metadata": {},
     "output_type": "execute_result"
    }
   ],
   "source": [
    "## drop remaining overlaps\n",
    "buildings = geoplanar.trim_overlaps(buildings, largest=False)\n",
    "buildings.shape"
   ]
  },
  {
   "cell_type": "code",
   "execution_count": null,
   "id": "6fc49ca4-bdc7-4679-9883-fc190b2f5864",
   "metadata": {},
   "outputs": [],
   "source": []
  },
  {
   "cell_type": "code",
   "execution_count": 28,
   "id": "8bc5e41c-3f83-43d6-aefc-7438f25387af",
   "metadata": {},
   "outputs": [
    {
     "data": {
      "text/plain": [
       "(309771, 2)"
      ]
     },
     "execution_count": 28,
     "metadata": {},
     "output_type": "execute_result"
    }
   ],
   "source": [
    "## fix any multipolygons\n",
    "buildings = buildings.explode(ignore_index=True)\n",
    "buildings.shape"
   ]
  },
  {
   "cell_type": "code",
   "execution_count": null,
   "id": "d9b038be-0a6b-45a7-ba78-f07d2896c71f",
   "metadata": {},
   "outputs": [],
   "source": []
  },
  {
   "cell_type": "code",
   "execution_count": 29,
   "id": "dc70980e-c626-40ac-ac32-1514129db3f7",
   "metadata": {},
   "outputs": [
    {
     "data": {
      "text/plain": [
       "(304020, 2)"
      ]
     },
     "execution_count": 29,
     "metadata": {},
     "output_type": "execute_result"
    }
   ],
   "source": [
    "# drop non-polygons\n",
    "buildings = buildings[buildings.geom_type == \"Polygon\"].reset_index(drop=True)\n",
    "buildings.shape"
   ]
  },
  {
   "cell_type": "code",
   "execution_count": 30,
   "id": "28a3a9fe-28f2-497e-bc9a-1048f728cc6b",
   "metadata": {},
   "outputs": [],
   "source": [
    "# merge touching collapsing buildings\n",
    "shrink = buildings.buffer(-0.4, resolution=2)\n",
    "buildings = geoplanar.merge_touching(buildings, np.where(shrink.is_empty), largest=True)\n",
    "buildings.shape"
   ]
  },
  {
   "cell_type": "code",
   "execution_count": 31,
   "id": "24e027e1-bb5c-4d34-99ee-3cf9510c3f56",
   "metadata": {},
   "outputs": [
    {
     "data": {
      "text/plain": [
       "(299191, 2)"
      ]
     },
     "execution_count": 31,
     "metadata": {},
     "output_type": "execute_result"
    }
   ],
   "source": []
  },
  {
   "cell_type": "code",
   "execution_count": null,
   "id": "18689ea5-0b0f-4a40-bbc5-7664f69ad125",
   "metadata": {},
   "outputs": [],
   "source": []
  },
  {
   "cell_type": "code",
   "execution_count": 32,
   "id": "6c8bffca-cfd4-4a0d-9db7-53d8c0e2b90b",
   "metadata": {},
   "outputs": [
    {
     "data": {
      "text/plain": [
       "(299206, 2)"
      ]
     },
     "execution_count": 32,
     "metadata": {},
     "output_type": "execute_result"
    }
   ],
   "source": [
    "# drop non polygons\n",
    "buildings = buildings.explode()\n",
    "buildings = buildings[buildings.geom_type == \"Polygon\"].reset_index(drop=True)\n",
    "buildings.shape"
   ]
  },
  {
   "cell_type": "code",
   "execution_count": null,
   "id": "2a6eead9-5026-4d99-9bfd-570b3f877592",
   "metadata": {},
   "outputs": [],
   "source": []
  },
  {
   "cell_type": "code",
   "execution_count": 33,
   "id": "22b512a3-6884-4a88-9086-6066f84a744d",
   "metadata": {},
   "outputs": [
    {
     "data": {
      "text/plain": [
       "(299206, 2)"
      ]
     },
     "execution_count": 33,
     "metadata": {},
     "output_type": "execute_result"
    }
   ],
   "source": [
    "##finally snap nearby buildings\n",
    "buildings[\"geometry\"] = geoplanar.snap(buildings, threshold=0.5)\n",
    "buildings.shape"
   ]
  },
  {
   "cell_type": "code",
   "execution_count": null,
   "id": "37a7a250-4748-40b3-bbab-90eb90b6e7cf",
   "metadata": {},
   "outputs": [],
   "source": []
  },
  {
   "cell_type": "code",
   "execution_count": 34,
   "id": "754d230e-13c5-4368-ba5c-37189aed5336",
   "metadata": {},
   "outputs": [
    {
     "data": {
      "text/plain": [
       "(298875, 2)"
      ]
     },
     "execution_count": 34,
     "metadata": {},
     "output_type": "execute_result"
    }
   ],
   "source": [
    "## need one more pass to ensure only valid geometries\n",
    "buildings[\"geometry\"] = buildings.make_valid()\n",
    "buildings = buildings[buildings.geom_type == \"Polygon\"].reset_index(drop=True)\n",
    "buildings.shape"
   ]
  },
  {
   "cell_type": "code",
   "execution_count": null,
   "id": "8f427c29-71a3-447d-ad77-72a17af68693",
   "metadata": {},
   "outputs": [],
   "source": []
  },
  {
   "cell_type": "code",
   "execution_count": 35,
   "id": "4c690cec-697b-43aa-991b-8f0f5f59cabc",
   "metadata": {},
   "outputs": [
    {
     "data": {
      "text/plain": [
       "(298875, 2)"
      ]
     },
     "execution_count": 35,
     "metadata": {},
     "output_type": "execute_result"
    }
   ],
   "source": [
    "buildings[\"geometry\"] = buildings.normalize()\n",
    "buildings.shape"
   ]
  },
  {
   "cell_type": "code",
   "execution_count": null,
   "id": "228e8dd8-1f31-4480-bd2b-2787fb205240",
   "metadata": {},
   "outputs": [],
   "source": []
  },
  {
   "cell_type": "code",
   "execution_count": null,
   "id": "911fa077-edb6-46c2-9347-3e5481794a3c",
   "metadata": {},
   "outputs": [],
   "source": []
  },
  {
   "cell_type": "code",
   "execution_count": 36,
   "id": "84ccd7b8-8d4a-4a1f-8941-820181781a0a",
   "metadata": {},
   "outputs": [],
   "source": [
    "from lonboard import PolygonLayer"
   ]
  },
  {
   "cell_type": "code",
   "execution_count": null,
   "id": "8306c25e-bd2d-43d5-9ca2-6d27d3ca5502",
   "metadata": {},
   "outputs": [],
   "source": []
  },
  {
   "cell_type": "code",
   "execution_count": null,
   "id": "2e51757b-e9a5-403a-92c6-96e1206cc62d",
   "metadata": {},
   "outputs": [],
   "source": []
  },
  {
   "cell_type": "code",
   "execution_count": 40,
   "id": "9d2aa7b6-d860-4087-b3ec-c4863bb99fac",
   "metadata": {},
   "outputs": [
    {
     "name": "stderr",
     "output_type": "stream",
     "text": [
      "/home/krasen/miniconda3/envs/momepy/lib/python3.12/site-packages/lonboard/_geoarrow/ops/reproject.py:97: UserWarning: Input being reprojected to EPSG:4326 CRS\n",
      "  warnings.warn(\"Input being reprojected to EPSG:4326 CRS\")\n"
     ]
    }
   ],
   "source": [
    "layer = PolygonLayer.from_geopandas(gdf=buildings, get_line_color=[255, 255, 255, 255])"
   ]
  },
  {
   "cell_type": "code",
   "execution_count": 42,
   "id": "f8158d53-e67b-43c0-afa4-a3eb7a3c6f83",
   "metadata": {},
   "outputs": [],
   "source": [
    "# m = Map(layer)\n",
    "# m"
   ]
  },
  {
   "cell_type": "code",
   "execution_count": null,
   "id": "9ddf58a0-c082-4558-8157-50f67d6f0972",
   "metadata": {},
   "outputs": [],
   "source": []
  },
  {
   "cell_type": "code",
   "execution_count": 43,
   "id": "7e3747d8-e5f0-4d50-be4a-0b1f1f51202b",
   "metadata": {},
   "outputs": [],
   "source": [
    "buildings.to_parquet(data_dir + f\"buildings/buildings_{region_id}.parquet\")"
   ]
  },
  {
   "cell_type": "code",
   "execution_count": null,
   "id": "93c73d1a-1084-4832-9df8-d6a879f654e1",
   "metadata": {},
   "outputs": [],
   "source": []
  }
 ],
 "metadata": {
  "kernelspec": {
   "display_name": "Python 3 (ipykernel)",
   "language": "python",
   "name": "python3"
  },
  "language_info": {
   "codemirror_mode": {
    "name": "ipython",
    "version": 3
   },
   "file_extension": ".py",
   "mimetype": "text/x-python",
   "name": "python",
   "nbconvert_exporter": "python",
   "pygments_lexer": "ipython3",
   "version": "3.12.4"
  }
 },
 "nbformat": 4,
 "nbformat_minor": 5
}
