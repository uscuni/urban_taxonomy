{
 "cells": [
  {
   "cell_type": "markdown",
   "id": "4c0c136e-9130-4876-ba0e-79efa2338a1c",
   "metadata": {},
   "source": [
    "# Distance-based metric of cluster boundary detection\n",
    "\n",
    "This notebook implements a set of metrics evaluating the precision of cluster boundary detection as compared to manually drawn areas of expected morphotopes. It captures the distance to the nearest boundary determined by clustering to the discretised boundary of each target morphotope. It reports statistical summary per each morphotope."
   ]
  },
  {
   "cell_type": "code",
   "execution_count": 37,
   "id": "822b1d31-9e1b-4b3b-8da5-5490802a290f",
   "metadata": {},
   "outputs": [],
   "source": [
    "import geopandas as gpd\n",
    "import shapely\n",
    "import pandas as pd\n",
    "import matplotlib.pyplot as plt"
   ]
  },
  {
   "cell_type": "markdown",
   "id": "dcd80828-ba9c-4468-926a-7fee6d52bff9",
   "metadata": {},
   "source": [
    "Load the data and link them together."
   ]
  },
  {
   "cell_type": "code",
   "execution_count": null,
   "id": "6c79ea0d-fdd3-43e6-a3bb-9e0189f95961",
   "metadata": {},
   "outputs": [],
   "source": [
    "tessellation = gpd.read_parquet(\"/data/uscuni-ulce/processed_data/tessellations/tessellation_69300.parquet\")\n",
    "clusters = pd.read_csv(\"/data/uscuni-ulce/processed_data/clusters/clusters_69300.csv\", index_col=0)\n",
    "\n",
    "tessellation = tessellation[tessellation.index > -1]\n",
    "\n",
    "tessellation[\"cluster\"] = clusters.loc[:, \"0\"]"
   ]
  },
  {
   "cell_type": "markdown",
   "id": "a8b42a9e-96ac-49b4-abd3-fc2c7229925d",
   "metadata": {},
   "source": [
    "Load expected morphotopes."
   ]
  },
  {
   "cell_type": "code",
   "execution_count": 6,
   "id": "af265593-35a3-44d2-8c96-ecb28abe1852",
   "metadata": {},
   "outputs": [],
   "source": [
    "morphotopes = gpd.read_file('morphotopes.geojson').to_crs(tessellation.crs)"
   ]
  },
  {
   "cell_type": "markdown",
   "id": "6f72ce55-dd47-4fd8-87fa-b60b58f825a9",
   "metadata": {},
   "source": [
    "Generate boundaries of clusters."
   ]
  },
  {
   "cell_type": "code",
   "execution_count": 7,
   "id": "1e719730-480b-4062-b5b9-2ae5a247c731",
   "metadata": {},
   "outputs": [
    {
     "name": "stdout",
     "output_type": "stream",
     "text": [
      "CPU times: user 22.9 s, sys: 43.8 ms, total: 23 s\n",
      "Wall time: 23 s\n"
     ]
    }
   ],
   "source": [
    "%%time\n",
    "cluster_boundaries = tessellation.dissolve(\"cluster\")"
   ]
  },
  {
   "cell_type": "markdown",
   "id": "5bd71def-a6af-494b-bf76-7d93a62ee015",
   "metadata": {},
   "source": [
    "Due to the floating point issues, do a small buffer to avoid artifacts."
   ]
  },
  {
   "cell_type": "code",
   "execution_count": 8,
   "id": "0d391ff7-3efc-460b-878f-fe43fb72b657",
   "metadata": {},
   "outputs": [],
   "source": [
    "boundaries = cluster_boundaries.buffer(1e-6).boundary"
   ]
  },
  {
   "cell_type": "markdown",
   "id": "158c122b-3c4b-41b2-92b6-fbeb9f10a3f9",
   "metadata": {},
   "source": [
    "Get points along the morphotope boundary."
   ]
  },
  {
   "cell_type": "code",
   "execution_count": 9,
   "id": "e268f7be-1017-47ea-8b3b-bc90dcdc1bf1",
   "metadata": {},
   "outputs": [],
   "source": [
    "coords = morphotopes.segmentize(10).get_coordinates(index_parts=True)\n",
    "morphotopes_points = coords.set_geometry(gpd.points_from_xy(*coords.values.T), crs=morphotopes.crs)"
   ]
  },
  {
   "cell_type": "markdown",
   "id": "4354da7c-647c-48d0-941c-e4515e5c526c",
   "metadata": {},
   "source": [
    "Get the distance to the nearest from each point."
   ]
  },
  {
   "cell_type": "code",
   "execution_count": 16,
   "id": "ef4ab104-03fa-4952-9ec5-00f123f45440",
   "metadata": {},
   "outputs": [
    {
     "name": "stdout",
     "output_type": "stream",
     "text": [
      "CPU times: user 10.5 s, sys: 0 ns, total: 10.5 s\n",
      "Wall time: 10.5 s\n"
     ]
    }
   ],
   "source": [
    "%%time\n",
    "_, dist = boundaries.sindex.nearest(morphotopes_points.geometry, return_distance=True, max_distance=500, return_all=False)\n",
    "morphotopes_points[\"distance\"] = dist"
   ]
  },
  {
   "cell_type": "markdown",
   "id": "e9d8a0e5-441f-4221-abfa-16aa0d294505",
   "metadata": {},
   "source": [
    "Generate the indicators of boundary detection precision per morphotope."
   ]
  },
  {
   "cell_type": "code",
   "execution_count": 27,
   "id": "cbeebfcf-86b3-42f2-bd9a-6c9237b0a19c",
   "metadata": {},
   "outputs": [],
   "source": [
    "indicators = morphotopes_points.groupby(level=0)[\"distance\"].describe().set_geometry(morphotopes.geometry)"
   ]
  },
  {
   "cell_type": "markdown",
   "id": "fb3e9f68-b65d-429a-9e21-e94bd161e8dd",
   "metadata": {},
   "source": [
    "Explore the result."
   ]
  },
  {
   "cell_type": "code",
   "execution_count": null,
   "id": "ae9cfd6d-e519-4265-80c9-bbea550ae2d1",
   "metadata": {},
   "outputs": [],
   "source": [
    "m = cluster_boundaries.explore(prefer_canvas=True, opacity=.5, tiles=\"cartodb positron\")\n",
    "indicators.explore(\"mean\", m=m)\n",
    "boundaries.explore(m=m, color=\"red\")"
   ]
  },
  {
   "cell_type": "code",
   "execution_count": null,
   "id": "6449f152-71ff-40e3-8c5f-b9c380a66e0e",
   "metadata": {},
   "outputs": [],
   "source": [
    "f, axs = plt.subplots(1, 2, figsize=(40, 20))\n",
    "indicators.plot(\"mean\",ax=axs[0],  legend=True)\n",
    "indicators.plot(\"std\", ax=axs[1], legend=True)"
   ]
  },
  {
   "cell_type": "markdown",
   "id": "54c35738-bf12-478e-9a69-61247472edea",
   "metadata": {},
   "source": [
    "As a function:"
   ]
  },
  {
   "cell_type": "code",
   "execution_count": null,
   "id": "29f7cb01-a559-4518-ad63-d5b39d9571de",
   "metadata": {},
   "outputs": [],
   "source": [
    "def boundary_distance_metric(tessellation, clusters, morphotopes, segmentation_distance=10):\n",
    "    tessellation = tessellation[tessellation.index > -1]\n",
    "    tessellation[\"cluster\"] = clusters.loc[:, \"0\"]\n",
    "    cluster_boundaries = tessellation.dissolve(\"cluster\")\n",
    "    boundaries = cluster_boundaries.buffer(1e-6).boundary\n",
    "    coords = morphotopes.segmentize(10).get_coordinates(index_parts=True)\n",
    "    morphotopes_points = coords.set_geometry(gpd.points_from_xy(*coords.values.T), crs=morphotopes.crs)\n",
    "    _, dist = boundaries.sindex.nearest(morphotopes_points.geometry, return_distance=True, max_distance=500, return_all=False)\n",
    "    morphotopes_points[\"distance\"] = dist\n",
    "    return morphotopes_points.groupby(level=0)[\"distance\"].describe().set_geometry(morphotopes.geometry)"
   ]
  }
 ],
 "metadata": {
  "kernelspec": {
   "display_name": "Python 3 (ipykernel)",
   "language": "python",
   "name": "python3"
  },
  "language_info": {
   "codemirror_mode": {
    "name": "ipython",
    "version": 3
   },
   "file_extension": ".py",
   "mimetype": "text/x-python",
   "name": "python",
   "nbconvert_exporter": "python",
   "pygments_lexer": "ipython3",
   "version": "3.12.4"
  }
 },
 "nbformat": 4,
 "nbformat_minor": 5
}
