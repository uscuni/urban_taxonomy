{
 "cells": [
  {
   "cell_type": "code",
   "execution_count": 1,
   "id": "7ea4918a-bb38-415c-b50f-bf1f94101b01",
   "metadata": {},
   "outputs": [
    {
     "name": "stdout",
     "output_type": "stream",
     "text": [
      "CPU times: user 11.4 s, sys: 354 ms, total: 11.7 s\n",
      "Wall time: 9.32 s\n"
     ]
    }
   ],
   "source": [
    "%%time\n",
    "\n",
    "import glob\n",
    "\n",
    "import geopandas as gpd\n",
    "import matplotlib.pyplot as plt\n",
    "import numba\n",
    "import numpy as np\n",
    "import pandas as pd\n",
    "from libpysal.graph import read_parquet\n",
    "from sklearn.preprocessing import PowerTransformer, RobustScaler, StandardScaler\n",
    "\n",
    "from sklearn.neighbors import KDTree\n",
    "\n",
    "from sklearn.cluster import AgglomerativeClustering\n",
    "from scipy.cluster.hierarchy import dendrogram\n",
    "from scipy.cluster.hierarchy import fcluster\n",
    "from sklearn.metrics import adjusted_rand_score\n",
    "from sklearn.metrics import davies_bouldin_score\n",
    "from core.cluster_validation import get_linkage_matrix\n",
    "\n",
    "from fast_hdbscan.cluster_trees import (\n",
    "    cluster_tree_from_condensed_tree,\n",
    "    condense_tree,\n",
    "    extract_eom_clusters,\n",
    "    extract_leaves,\n",
    "    get_cluster_label_vector,\n",
    "    mst_to_linkage_tree,\n",
    ")\n",
    "from sklearn.neighbors import KDTree\n",
    "import shapely\n",
    "from core.cluster_validation import generate_detailed_clusters\n",
    "from core.generate_context import spatially_weighted_partial_lag\n",
    "from core.generate_clusters import cluster_data"
   ]
  },
  {
   "cell_type": "code",
   "execution_count": null,
   "id": "c4562cd1-1f86-45d0-b662-8a6a948a2671",
   "metadata": {},
   "outputs": [],
   "source": []
  },
  {
   "cell_type": "code",
   "execution_count": 2,
   "id": "f78cb85f-68e2-4e86-a4d1-3518bb62ad34",
   "metadata": {},
   "outputs": [],
   "source": [
    "region_id = 69300\n",
    "\n",
    "tessellations_dir = '/data/uscuni-ulce/processed_data/tessellations/'\n",
    "chars_dir = \"/data/uscuni-ulce/processed_data/chars/\"\n",
    "graph_dir = \"/data/uscuni-ulce/processed_data/neigh_graphs/\"\n",
    "cluster_dir = '/data/uscuni-ulce/processed_data/clusters/'\n",
    "val_path = '../data/prague_validation/morphotopes.pq'"
   ]
  },
  {
   "cell_type": "code",
   "execution_count": null,
   "id": "2f784d07-59fe-4a99-8a97-12839500f50c",
   "metadata": {},
   "outputs": [],
   "source": []
  },
  {
   "cell_type": "code",
   "execution_count": null,
   "id": "283342f8-5e50-41a6-af44-9c68e2ec60b4",
   "metadata": {},
   "outputs": [],
   "source": []
  },
  {
   "cell_type": "code",
   "execution_count": null,
   "id": "7c41f516-6ff7-4499-a073-5228b2564a5f",
   "metadata": {},
   "outputs": [],
   "source": []
  },
  {
   "cell_type": "code",
   "execution_count": null,
   "id": "026da533-bd10-4dd8-854e-2c59917beedd",
   "metadata": {},
   "outputs": [],
   "source": []
  },
  {
   "cell_type": "code",
   "execution_count": 3,
   "id": "5eb7d7f7-98b5-49dd-82ac-866aba13ac6b",
   "metadata": {},
   "outputs": [],
   "source": [
    "region_id = 'freiburg'\n",
    "buildings_dir = streets_dir = enclosures_dir = tessellations_dir = graph_dir = '../data/freiburg/'\n",
    "chars_dir = '../data/freiburg/chars/'\n",
    "cluster_dir = '/data/uscuni-ulce/processed_data/clusters/'\n",
    "val_path = '../data/fbg_cluster_validation.pq'"
   ]
  },
  {
   "cell_type": "code",
   "execution_count": 4,
   "id": "4b48fd6c-cf84-4137-96c7-41eaa42d2733",
   "metadata": {},
   "outputs": [],
   "source": [
    "X_train = pd.read_parquet(chars_dir + f'primary_chars_{region_id}.parquet')\n",
    "graph = read_parquet(graph_dir + f\"tessellation_graph_{region_id}_knn1.parquet\")\n",
    "tessellation = gpd.read_parquet(\n",
    "        tessellations_dir + f\"tessellation_{region_id}.parquet\"\n",
    ")\n",
    "morphotopes = gpd.read_parquet(val_path)"
   ]
  },
  {
   "cell_type": "code",
   "execution_count": null,
   "id": "a96bd6e1-fcca-464f-a71f-ee601322fe0b",
   "metadata": {},
   "outputs": [],
   "source": []
  },
  {
   "cell_type": "code",
   "execution_count": null,
   "id": "17373cf1-ab71-4b5d-8a71-5ad2c1967ee8",
   "metadata": {},
   "outputs": [],
   "source": []
  },
  {
   "cell_type": "code",
   "execution_count": 5,
   "id": "bab45e50-b879-48e0-84a7-c697ec86a512",
   "metadata": {},
   "outputs": [],
   "source": [
    "def boundary_distance_metric(tessellation, clusters, morphotopes, segmentation_distance=10):\n",
    "    cluster_boundaries = tessellation.dissolve(clusters)\n",
    "    boundaries = cluster_boundaries.buffer(1e-6).boundary\n",
    "    coords = morphotopes.segmentize(segmentation_distance).get_coordinates(index_parts=True)\n",
    "    morphotopes_points = coords.set_geometry(gpd.points_from_xy(*coords.values.T), crs=morphotopes.crs)\n",
    "    _, dist = boundaries.sindex.nearest(morphotopes_points.geometry, return_distance=True, max_distance=500, return_all=False)\n",
    "    morphotopes_points[\"distance\"] = dist\n",
    "    return morphotopes_points.groupby(level=0)[\"distance\"].describe().set_geometry(morphotopes.geometry)"
   ]
  },
  {
   "cell_type": "code",
   "execution_count": null,
   "id": "48510a2a-8807-4638-9fbb-43902309bd96",
   "metadata": {},
   "outputs": [],
   "source": []
  },
  {
   "cell_type": "code",
   "execution_count": null,
   "id": "4f6aac0e-6433-41bb-9357-8fe433e4d19e",
   "metadata": {},
   "outputs": [],
   "source": []
  },
  {
   "cell_type": "code",
   "execution_count": null,
   "id": "eab9475f-61ac-4d77-915e-24b49ddb8214",
   "metadata": {},
   "outputs": [],
   "source": []
  },
  {
   "cell_type": "code",
   "execution_count": 6,
   "id": "50c2e6f7-6f78-46f6-af78-53f8b229f149",
   "metadata": {},
   "outputs": [],
   "source": [
    "\n",
    "\n",
    "tess_groups = generate_detailed_clusters(tessellation,\n",
    "                                         include_random_sample=False, path=val_path)\n",
    "tess_groups = tess_groups[tess_groups.index.isin(X_train.index)]\n",
    "\n",
    "\n",
    "tess_groups_ilocs = (\n",
    "    pd.Series(np.arange(len(X_train[X_train.index >=0])), index=X_train[X_train.index >=0].index)\n",
    "    .loc[tess_groups.index]\n",
    "    .values\n",
    ")"
   ]
  },
  {
   "cell_type": "code",
   "execution_count": null,
   "id": "38135f01-a4fa-4bfd-a3c9-aa4caaaffc86",
   "metadata": {},
   "outputs": [],
   "source": []
  },
  {
   "cell_type": "code",
   "execution_count": 7,
   "id": "9c0075f8-1da2-41e3-893b-da0a2f465da0",
   "metadata": {},
   "outputs": [],
   "source": [
    "spatial_lags = [1, 2, 3, 4, 5]\n",
    "kernels = ['gaussian', 'inverse', 'weights']\n",
    "lag_types = ['_median', '_iqr', '_']\n",
    "cluster_sizes = [50, 75, 100, 150, 250]\n",
    "chars_to_drop = [\n",
    "    [],\n",
    "    ['stcSAl', 'stcOri'],\n",
    "    [\n",
    "       'stcSAl',\n",
    "       'ltkOri',\n",
    "         'stbOri',\n",
    "         'stcOri',\n",
    "         'stbCeA'\n",
    "    ]\n",
    "          \n",
    "]\n",
    "clips = [None, (-5,5), (-10, 10)]\n",
    "\n",
    "\n",
    "linkage = 'ward'\n",
    "metric = 'euclidean'\n",
    "centroids = shapely.get_coordinates(tessellation.representative_point())"
   ]
  },
  {
   "cell_type": "code",
   "execution_count": null,
   "id": "686218ed-f03c-47dd-8a35-c0cfb4278572",
   "metadata": {},
   "outputs": [],
   "source": []
  },
  {
   "cell_type": "code",
   "execution_count": null,
   "id": "085c5ee1-0616-4269-bdbc-7a726e51bf71",
   "metadata": {},
   "outputs": [],
   "source": []
  },
  {
   "cell_type": "code",
   "execution_count": null,
   "id": "9fbd4278-7697-4939-a9d4-af553004b196",
   "metadata": {},
   "outputs": [],
   "source": []
  },
  {
   "cell_type": "code",
   "execution_count": null,
   "id": "5dc3c999-6424-49df-a9b0-f66cb290f19a",
   "metadata": {},
   "outputs": [],
   "source": [
    "%%capture cap\n",
    "\n",
    "results = []\n",
    "\n",
    "for spatial_lag in spatial_lags:\n",
    "    \n",
    "    for kernel in kernels:\n",
    "\n",
    "        lag = spatially_weighted_partial_lag(X_train, graph, centroids, kernel=kernel, k=spatial_lag, n_splits=10)\n",
    "\n",
    "        for lag_type in lag_types:\n",
    "            \n",
    "            clustering_data = X_train.join(lag[[c for c in lag.columns if lag_type in c]], how='inner')\n",
    "            \n",
    "            for min_cluster_size in cluster_sizes:\n",
    "                \n",
    "                for to_drop in chars_to_drop:\n",
    "\n",
    "                    for clip in clips:\n",
    "                    \n",
    "                        try:\n",
    "                            region_cluster_labels = cluster_data(clustering_data, graph, to_drop, clip, min_cluster_size, linkage, metric)\n",
    "                            ars = adjusted_rand_score(tess_groups.values, region_cluster_labels.iloc[tess_groups_ilocs].values)\n",
    "                            bdm_df = boundary_distance_metric(tessellation[tessellation.index > -1], region_cluster_labels, morphotopes)\n",
    "                            results.append([spatial_lag, kernel, lag_type, clip, min_cluster_size, to_drop, ars, bdm_df['mean'].mean(), bdm_df['std'].mean()])\n",
    "                        except Exception as e:\n",
    "                            print(f\"spatial lag: {spatial_lag}, kernel: {kernel}, lag_type: {lag_type}, min_cluster_size: {min_cluster_size}, to_drop: {to_drop}\")\n",
    "                            print(e)"
   ]
  },
  {
   "cell_type": "code",
   "execution_count": null,
   "id": "c87daeed-57c3-4f17-a0ab-39d5450b186f",
   "metadata": {},
   "outputs": [],
   "source": [
    "results = pd.DataFrame(results, columns= ['spatial_lag', 'kernel', 'lag_type', 'clip', 'min_cluster_size', 'dropped_cols', 'ars', 'bdm_df_mean', 'bdm_df_std'])\n"
   ]
  },
  {
   "cell_type": "code",
   "execution_count": null,
   "id": "112e4137-923d-4ea1-960f-985580fd519f",
   "metadata": {},
   "outputs": [],
   "source": []
  },
  {
   "cell_type": "code",
   "execution_count": null,
   "id": "b210d6e3-b254-4f53-beaf-9f36e53e4135",
   "metadata": {
    "scrolled": true
   },
   "outputs": [],
   "source": [
    "results.to_parquet(f'../data/cluster_log_{region_id}.pq')"
   ]
  },
  {
   "cell_type": "code",
   "execution_count": null,
   "id": "568eb23f-bfc3-4486-8c44-f87e58b34c93",
   "metadata": {},
   "outputs": [],
   "source": [
    "# results = pd.read_parquet(f'../data/cluster_log_{region_id}.pq')"
   ]
  },
  {
   "cell_type": "code",
   "execution_count": null,
   "id": "355fc2cd-3f19-4a48-8f62-9d42594cdd30",
   "metadata": {},
   "outputs": [],
   "source": []
  },
  {
   "cell_type": "code",
   "execution_count": null,
   "id": "c9ed5415-96c8-4a40-8261-93a4d67f9e04",
   "metadata": {},
   "outputs": [],
   "source": [
    "# results[results.min_cluster_size == 100].sort_values('ars', ascending=False).iloc[:30]"
   ]
  },
  {
   "cell_type": "code",
   "execution_count": null,
   "id": "681d9005-4979-479c-b9b3-914550892341",
   "metadata": {},
   "outputs": [],
   "source": []
  },
  {
   "cell_type": "code",
   "execution_count": null,
   "id": "d7820e20-580c-459f-bfd7-bfdc6c90819e",
   "metadata": {},
   "outputs": [],
   "source": []
  }
 ],
 "metadata": {
  "kernelspec": {
   "display_name": "Python 3 (ipykernel)",
   "language": "python",
   "name": "python3"
  },
  "language_info": {
   "codemirror_mode": {
    "name": "ipython",
    "version": 3
   },
   "file_extension": ".py",
   "mimetype": "text/x-python",
   "name": "python",
   "nbconvert_exporter": "python",
   "pygments_lexer": "ipython3",
   "version": "3.12.5"
  }
 },
 "nbformat": 4,
 "nbformat_minor": 5
}
