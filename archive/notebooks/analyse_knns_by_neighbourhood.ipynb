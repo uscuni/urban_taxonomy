{
 "cells": [
  {
   "cell_type": "code",
   "execution_count": 8,
   "id": "ed1c2a0c-fc90-49fd-aea4-bae280913c99",
   "metadata": {},
   "outputs": [
    {
     "name": "stdout",
     "output_type": "stream",
     "text": [
      "CPU times: user 37 μs, sys: 2 μs, total: 39 μs\n",
      "Wall time: 40.8 μs\n"
     ]
    }
   ],
   "source": [
    "%%time\n",
    "\n",
    "import glob\n",
    "\n",
    "import geopandas as gpd\n",
    "import matplotlib.pyplot as plt\n",
    "import numba\n",
    "import numpy as np\n",
    "import pandas as pd\n",
    "from libpysal.graph import read_parquet\n",
    "from sklearn.preprocessing import PowerTransformer, RobustScaler, StandardScaler\n",
    "\n",
    "from fast_hdbscan.numba_kdtree import kdtree_to_numba\n",
    "from fast_hdbscan.numba_kdtree import parallel_tree_query\n",
    "from sklearn.neighbors import KDTree"
   ]
  },
  {
   "cell_type": "code",
   "execution_count": 9,
   "id": "ff3fae2f-d1b2-4882-8432-e5fd66fa309c",
   "metadata": {},
   "outputs": [],
   "source": [
    "region_id = 69300\n",
    "\n",
    "tessellations_dir = '/data/uscuni-ulce/processed_data/tessellations/'\n",
    "chars_dir = \"/data/uscuni-ulce/processed_data/chars/\"\n",
    "graph_dir = \"/data/uscuni-ulce/processed_data/neigh_graphs/\""
   ]
  },
  {
   "cell_type": "code",
   "execution_count": null,
   "id": "5b69d09c-513f-46aa-a953-1ad2f7b1de34",
   "metadata": {},
   "outputs": [],
   "source": []
  },
  {
   "cell_type": "code",
   "execution_count": 10,
   "id": "3f4404d8-de8b-42ce-a35c-63f798d1ed34",
   "metadata": {},
   "outputs": [],
   "source": [
    "graph = read_parquet(graph_dir + f\"tessellation_graph_{region_id}_knn1.parquet\")"
   ]
  },
  {
   "cell_type": "code",
   "execution_count": 11,
   "id": "152647b5-c772-40aa-9998-5c71571e0668",
   "metadata": {
    "scrolled": true
   },
   "outputs": [
    {
     "data": {
      "text/plain": [
       "count    304554.000000\n",
       "mean          6.751085\n",
       "std           2.060782\n",
       "min           1.000000\n",
       "25%           6.000000\n",
       "50%           7.000000\n",
       "75%           8.000000\n",
       "max          82.000000\n",
       "Name: cardinalities, dtype: float64"
      ]
     },
     "execution_count": 11,
     "metadata": {},
     "output_type": "execute_result"
    }
   ],
   "source": [
    "graph.cardinalities.describe()"
   ]
  },
  {
   "cell_type": "code",
   "execution_count": 12,
   "id": "961a5d5e-406d-4b87-baf7-aa7d69aaa0d6",
   "metadata": {},
   "outputs": [],
   "source": [
    "# graph2 = graph.higher_order(lower_order=True, k=2, diagonal=True)\n",
    "# graph2.cardinalities.describe()"
   ]
  },
  {
   "cell_type": "code",
   "execution_count": 13,
   "id": "8dc98e85-2cd7-4c91-aa33-640605c8901c",
   "metadata": {
    "scrolled": true
   },
   "outputs": [],
   "source": [
    "# graph3 = graph.higher_order(lower_order=True, k=3, diagonal=True)\n",
    "# graph3"
   ]
  },
  {
   "cell_type": "code",
   "execution_count": 14,
   "id": "233f66bf-2856-4932-9c34-948815f3533b",
   "metadata": {
    "scrolled": true
   },
   "outputs": [
    {
     "data": {
      "text/plain": [
       "component labels\n",
       "25     176892\n",
       "24      19069\n",
       "28       3958\n",
       "69       3867\n",
       "99       3368\n",
       "        ...  \n",
       "766         1\n",
       "798         1\n",
       "799         1\n",
       "800         1\n",
       "814         1\n",
       "Name: count, Length: 815, dtype: int64"
      ]
     },
     "execution_count": 14,
     "metadata": {},
     "output_type": "execute_result"
    }
   ],
   "source": [
    "graph.component_labels.value_counts()"
   ]
  },
  {
   "cell_type": "code",
   "execution_count": null,
   "id": "a4d16795-8684-45d7-853b-b2db4de44524",
   "metadata": {},
   "outputs": [],
   "source": []
  },
  {
   "cell_type": "code",
   "execution_count": null,
   "id": "dc8ec721-fcec-43a5-8c12-a28c2151c4a7",
   "metadata": {},
   "outputs": [],
   "source": []
  },
  {
   "cell_type": "code",
   "execution_count": null,
   "id": "f7fe8b92-7c81-4220-9017-62d53b621b85",
   "metadata": {},
   "outputs": [],
   "source": []
  },
  {
   "cell_type": "code",
   "execution_count": 15,
   "id": "550be3f4-8a6d-484b-b743-f4b072899500",
   "metadata": {},
   "outputs": [],
   "source": [
    "from core.cluster_validation import print_distance, generate_neigbhourhood_groups"
   ]
  },
  {
   "cell_type": "code",
   "execution_count": null,
   "id": "84bedbbc-a07a-4cd2-a85c-95794d3059df",
   "metadata": {},
   "outputs": [],
   "source": []
  },
  {
   "cell_type": "code",
   "execution_count": 16,
   "id": "a5fa6580-2978-4744-9fd1-e3a0548dd6b4",
   "metadata": {},
   "outputs": [],
   "source": [
    "tessellation = gpd.read_parquet(\n",
    "        tessellations_dir + f\"tessellation_{region_id}.parquet\"\n",
    ")"
   ]
  },
  {
   "cell_type": "code",
   "execution_count": null,
   "id": "cffc4858-663b-4899-b8e9-2412086f1dc2",
   "metadata": {},
   "outputs": [],
   "source": []
  },
  {
   "cell_type": "code",
   "execution_count": 17,
   "id": "dbe6bb41-0636-468b-96c9-e9c8edcbb6ca",
   "metadata": {},
   "outputs": [],
   "source": [
    "X_train = pd.read_parquet(chars_dir + f'primary_chars_{region_id}.parquet')\n",
    "\n",
    "\n",
    "\n",
    "X_train = X_train[X_train.index >= 0]\n",
    "\n",
    "\n",
    "\n",
    "spatial_lag = 3\n",
    "\n",
    "\n",
    "# lag = pd.read_parquet(f'/data/uscuni-ulce/processed_data/context_data/context_chars_{region_id}_lag_{spatial_lag}.parquet')\n",
    "\n",
    "lag = pd.read_parquet(f'/data/uscuni-ulce/processed_data/context_data/unprocessed_context_chars_{region_id}_lag_{spatial_lag}.parquet')\n",
    "\n",
    "\n",
    "\n",
    "# X_train = X_train.join(lag[[c for c in lag.columns if '_median' in c]], how='inner')\n",
    "X_train = X_train.join(lag, how='inner')\n"
   ]
  },
  {
   "cell_type": "code",
   "execution_count": 18,
   "id": "5f23eab9-cef1-4d32-a3a3-032870d37eb4",
   "metadata": {},
   "outputs": [],
   "source": [
    "vals = StandardScaler().fit_transform(X_train)\n",
    "X_train = pd.DataFrame(vals, columns=X_train.columns, index=X_train.index)\n",
    "\n",
    "vals = np.nan_to_num(X_train)\n",
    "X_train = pd.DataFrame(vals, columns=X_train.columns, index=X_train.index)\n",
    "\n",
    "\n",
    "# X_train = X_train.clip(-10, 10)"
   ]
  },
  {
   "cell_type": "code",
   "execution_count": 19,
   "id": "f3d70441-a194-4e97-98aa-49321f61e386",
   "metadata": {},
   "outputs": [
    {
     "data": {
      "text/plain": [
       "(299064, 248)"
      ]
     },
     "execution_count": 19,
     "metadata": {},
     "output_type": "execute_result"
    }
   ],
   "source": [
    "X_train.shape"
   ]
  },
  {
   "cell_type": "code",
   "execution_count": null,
   "id": "d8d0d452-a4c0-4c75-a513-848df6d4f244",
   "metadata": {},
   "outputs": [],
   "source": []
  },
  {
   "cell_type": "code",
   "execution_count": null,
   "id": "537eff6c-d45f-47c2-9030-1de06d8fea18",
   "metadata": {},
   "outputs": [],
   "source": []
  },
  {
   "cell_type": "code",
   "execution_count": 37,
   "id": "7c3fe630-a375-40c4-9dbd-282230c2c822",
   "metadata": {},
   "outputs": [],
   "source": []
  },
  {
   "cell_type": "code",
   "execution_count": null,
   "id": "d6e323d0-6fcf-4db3-a27a-8f1ef29d9b17",
   "metadata": {},
   "outputs": [],
   "source": []
  },
  {
   "cell_type": "code",
   "execution_count": null,
   "id": "012d5c6b-7a62-477a-a17f-713e238608b5",
   "metadata": {},
   "outputs": [],
   "source": []
  },
  {
   "cell_type": "code",
   "execution_count": 20,
   "id": "3c816a9f-8ad1-48da-81ef-e12ba165f622",
   "metadata": {},
   "outputs": [],
   "source": [
    "X_train = pd.read_parquet('../data/old_prague_data/old_prague_data.parquet')\n",
    "X_train = X_train.set_index('uID').sort_index()\n",
    "\n",
    "\n",
    "vals = np.nan_to_num(StandardScaler().fit_transform(X_train))\n",
    "X_train = pd.DataFrame(vals, columns=X_train.columns, index=X_train.index)\n",
    "# X_train = X_train.clip(-10, 10)\n",
    "\n"
   ]
  },
  {
   "cell_type": "code",
   "execution_count": 21,
   "id": "c27c1273-95b2-4a53-ba1b-a76778ab56c9",
   "metadata": {},
   "outputs": [],
   "source": [
    "tessellation = gpd.read_file('../data/old_prague_data/prg_geometry.gpkg', \n",
    "                             layer='tessellation').set_index('uID').sort_index().to_crs(epsg=3035)\n",
    "from libpysal.graph import Graph\n",
    "graph = Graph.build_fuzzy_contiguity(tessellation, buffer=.001)"
   ]
  },
  {
   "cell_type": "code",
   "execution_count": null,
   "id": "5c33003f-b013-417e-9f22-534facb2eeed",
   "metadata": {},
   "outputs": [],
   "source": []
  },
  {
   "cell_type": "code",
   "execution_count": 31,
   "id": "151dbd58-d57c-4686-80f6-7494a70c9a38",
   "metadata": {},
   "outputs": [],
   "source": [
    "tess_groups = generate_neigbhourhood_groups(tessellation[tessellation.index.isin(X_train.index)], buffer=200)\n",
    "tess_groups = tess_groups[tess_groups.index.isin(X_train.index)]\n",
    "tess_groups_ilocs = (\n",
    "    pd.Series(np.arange(len(X_train)), index=X_train.index)\n",
    "    .loc[tess_groups.index]\n",
    "    .values\n",
    ")"
   ]
  },
  {
   "cell_type": "code",
   "execution_count": 32,
   "id": "2a0561b3-e9df-46d4-9f9a-67de5f2f55b4",
   "metadata": {},
   "outputs": [
    {
     "data": {
      "text/html": [
       "<style type=\"text/css\">\n",
       "#T_40217_row0_col0, #T_40217_row1_col1, #T_40217_row2_col2, #T_40217_row3_col3, #T_40217_row4_col4, #T_40217_row5_col5, #T_40217_row6_col6, #T_40217_row7_col7, #T_40217_row8_col8 {\n",
       "  background-color: #f7fcfd;\n",
       "  color: #000000;\n",
       "}\n",
       "#T_40217_row0_col1 {\n",
       "  background-color: #8fd4c2;\n",
       "  color: #000000;\n",
       "}\n",
       "#T_40217_row0_col2 {\n",
       "  background-color: #4ab381;\n",
       "  color: #f1f1f1;\n",
       "}\n",
       "#T_40217_row0_col3 {\n",
       "  background-color: #5bbc96;\n",
       "  color: #f1f1f1;\n",
       "}\n",
       "#T_40217_row0_col4 {\n",
       "  background-color: #0c7735;\n",
       "  color: #f1f1f1;\n",
       "}\n",
       "#T_40217_row0_col5, #T_40217_row1_col5, #T_40217_row2_col5, #T_40217_row3_col5, #T_40217_row4_col5, #T_40217_row5_col7, #T_40217_row6_col5, #T_40217_row7_col5, #T_40217_row8_col5 {\n",
       "  background-color: #00441b;\n",
       "  color: #f1f1f1;\n",
       "}\n",
       "#T_40217_row0_col6 {\n",
       "  background-color: #94d6c5;\n",
       "  color: #000000;\n",
       "}\n",
       "#T_40217_row0_col7 {\n",
       "  background-color: #208843;\n",
       "  color: #f1f1f1;\n",
       "}\n",
       "#T_40217_row0_col8 {\n",
       "  background-color: #57ba92;\n",
       "  color: #f1f1f1;\n",
       "}\n",
       "#T_40217_row1_col0, #T_40217_row8_col1 {\n",
       "  background-color: #88d1bd;\n",
       "  color: #000000;\n",
       "}\n",
       "#T_40217_row1_col2, #T_40217_row1_col3 {\n",
       "  background-color: #6cc4a8;\n",
       "  color: #000000;\n",
       "}\n",
       "#T_40217_row1_col4 {\n",
       "  background-color: #17813d;\n",
       "  color: #f1f1f1;\n",
       "}\n",
       "#T_40217_row1_col6 {\n",
       "  background-color: #b7e4da;\n",
       "  color: #000000;\n",
       "}\n",
       "#T_40217_row1_col7 {\n",
       "  background-color: #2f9a59;\n",
       "  color: #f1f1f1;\n",
       "}\n",
       "#T_40217_row1_col8, #T_40217_row3_col6, #T_40217_row7_col3 {\n",
       "  background-color: #6dc5a9;\n",
       "  color: #000000;\n",
       "}\n",
       "#T_40217_row2_col0 {\n",
       "  background-color: #5ebe9b;\n",
       "  color: #000000;\n",
       "}\n",
       "#T_40217_row2_col1 {\n",
       "  background-color: #8ad2be;\n",
       "  color: #000000;\n",
       "}\n",
       "#T_40217_row2_col3, #T_40217_row2_col7 {\n",
       "  background-color: #85cfbb;\n",
       "  color: #000000;\n",
       "}\n",
       "#T_40217_row2_col4 {\n",
       "  background-color: #48b27f;\n",
       "  color: #f1f1f1;\n",
       "}\n",
       "#T_40217_row2_col6 {\n",
       "  background-color: #98d8c9;\n",
       "  color: #000000;\n",
       "}\n",
       "#T_40217_row2_col8 {\n",
       "  background-color: #ade0d4;\n",
       "  color: #000000;\n",
       "}\n",
       "#T_40217_row3_col0 {\n",
       "  background-color: #4db585;\n",
       "  color: #f1f1f1;\n",
       "}\n",
       "#T_40217_row3_col1, #T_40217_row7_col6 {\n",
       "  background-color: #64c1a2;\n",
       "  color: #000000;\n",
       "}\n",
       "#T_40217_row3_col2 {\n",
       "  background-color: #60bf9c;\n",
       "  color: #000000;\n",
       "}\n",
       "#T_40217_row3_col4, #T_40217_row6_col4 {\n",
       "  background-color: #268f4a;\n",
       "  color: #f1f1f1;\n",
       "}\n",
       "#T_40217_row3_col7 {\n",
       "  background-color: #43af78;\n",
       "  color: #f1f1f1;\n",
       "}\n",
       "#T_40217_row3_col8 {\n",
       "  background-color: #7dccb5;\n",
       "  color: #000000;\n",
       "}\n",
       "#T_40217_row4_col0 {\n",
       "  background-color: #2e9756;\n",
       "  color: #f1f1f1;\n",
       "}\n",
       "#T_40217_row4_col1, #T_40217_row6_col7 {\n",
       "  background-color: #3da96f;\n",
       "  color: #f1f1f1;\n",
       "}\n",
       "#T_40217_row4_col2 {\n",
       "  background-color: #4fb688;\n",
       "  color: #f1f1f1;\n",
       "}\n",
       "#T_40217_row4_col3 {\n",
       "  background-color: #51b689;\n",
       "  color: #f1f1f1;\n",
       "}\n",
       "#T_40217_row4_col6 {\n",
       "  background-color: #4eb586;\n",
       "  color: #f1f1f1;\n",
       "}\n",
       "#T_40217_row4_col7 {\n",
       "  background-color: #afe1d5;\n",
       "  color: #000000;\n",
       "}\n",
       "#T_40217_row4_col8 {\n",
       "  background-color: #35a063;\n",
       "  color: #f1f1f1;\n",
       "}\n",
       "#T_40217_row5_col0 {\n",
       "  background-color: #097532;\n",
       "  color: #f1f1f1;\n",
       "}\n",
       "#T_40217_row5_col1 {\n",
       "  background-color: #127c39;\n",
       "  color: #f1f1f1;\n",
       "}\n",
       "#T_40217_row5_col2 {\n",
       "  background-color: #005321;\n",
       "  color: #f1f1f1;\n",
       "}\n",
       "#T_40217_row5_col3 {\n",
       "  background-color: #1c8540;\n",
       "  color: #f1f1f1;\n",
       "}\n",
       "#T_40217_row5_col4 {\n",
       "  background-color: #00451c;\n",
       "  color: #f1f1f1;\n",
       "}\n",
       "#T_40217_row5_col6 {\n",
       "  background-color: #18823d;\n",
       "  color: #f1f1f1;\n",
       "}\n",
       "#T_40217_row5_col8 {\n",
       "  background-color: #005924;\n",
       "  color: #f1f1f1;\n",
       "}\n",
       "#T_40217_row6_col0 {\n",
       "  background-color: #87d0bc;\n",
       "  color: #000000;\n",
       "}\n",
       "#T_40217_row6_col1 {\n",
       "  background-color: #b4e2d8;\n",
       "  color: #000000;\n",
       "}\n",
       "#T_40217_row6_col2 {\n",
       "  background-color: #78cab1;\n",
       "  color: #000000;\n",
       "}\n",
       "#T_40217_row6_col3 {\n",
       "  background-color: #70c6ac;\n",
       "  color: #000000;\n",
       "}\n",
       "#T_40217_row6_col8 {\n",
       "  background-color: #62c09f;\n",
       "  color: #000000;\n",
       "}\n",
       "#T_40217_row7_col0 {\n",
       "  background-color: #3eaa70;\n",
       "  color: #f1f1f1;\n",
       "}\n",
       "#T_40217_row7_col1 {\n",
       "  background-color: #53b88c;\n",
       "  color: #f1f1f1;\n",
       "}\n",
       "#T_40217_row7_col2 {\n",
       "  background-color: #8dd3c0;\n",
       "  color: #000000;\n",
       "}\n",
       "#T_40217_row7_col4 {\n",
       "  background-color: #b0e1d6;\n",
       "  color: #000000;\n",
       "}\n",
       "#T_40217_row7_col8 {\n",
       "  background-color: #67c2a5;\n",
       "  color: #000000;\n",
       "}\n",
       "#T_40217_row8_col0 {\n",
       "  background-color: #68c3a6;\n",
       "  color: #000000;\n",
       "}\n",
       "#T_40217_row8_col2 {\n",
       "  background-color: #aadfd3;\n",
       "  color: #000000;\n",
       "}\n",
       "#T_40217_row8_col3 {\n",
       "  background-color: #9cd9ca;\n",
       "  color: #000000;\n",
       "}\n",
       "#T_40217_row8_col4 {\n",
       "  background-color: #2a9350;\n",
       "  color: #f1f1f1;\n",
       "}\n",
       "#T_40217_row8_col6 {\n",
       "  background-color: #82ceb8;\n",
       "  color: #000000;\n",
       "}\n",
       "#T_40217_row8_col7 {\n",
       "  background-color: #5cbd98;\n",
       "  color: #f1f1f1;\n",
       "}\n",
       "</style>\n",
       "<table id=\"T_40217\">\n",
       "  <thead>\n",
       "    <tr>\n",
       "      <th class=\"blank level0\" >&nbsp;</th>\n",
       "      <th id=\"T_40217_level0_col0\" class=\"col_heading level0 col0\" >holyne</th>\n",
       "      <th id=\"T_40217_level0_col1\" class=\"col_heading level0 col1\" >housing estate</th>\n",
       "      <th id=\"T_40217_level0_col2\" class=\"col_heading level0 col2\" >josefov</th>\n",
       "      <th id=\"T_40217_level0_col3\" class=\"col_heading level0 col3\" >karlin</th>\n",
       "      <th id=\"T_40217_level0_col4\" class=\"col_heading level0 col4\" >mala strana</th>\n",
       "      <th id=\"T_40217_level0_col5\" class=\"col_heading level0 col5\" >malesice</th>\n",
       "      <th id=\"T_40217_level0_col6\" class=\"col_heading level0 col6\" >nusle</th>\n",
       "      <th id=\"T_40217_level0_col7\" class=\"col_heading level0 col7\" >stare mesto</th>\n",
       "      <th id=\"T_40217_level0_col8\" class=\"col_heading level0 col8\" >vinohrady</th>\n",
       "    </tr>\n",
       "  </thead>\n",
       "  <tbody>\n",
       "    <tr>\n",
       "      <th id=\"T_40217_level0_row0\" class=\"row_heading level0 row0\" >holyne</th>\n",
       "      <td id=\"T_40217_row0_col0\" class=\"data row0 col0\" >0.000000</td>\n",
       "      <td id=\"T_40217_row0_col1\" class=\"data row0 col1\" >15.763196</td>\n",
       "      <td id=\"T_40217_row0_col2\" class=\"data row0 col2\" >23.477808</td>\n",
       "      <td id=\"T_40217_row0_col3\" class=\"data row0 col3\" >21.249741</td>\n",
       "      <td id=\"T_40217_row0_col4\" class=\"data row0 col4\" >32.822463</td>\n",
       "      <td id=\"T_40217_row0_col5\" class=\"data row0 col5\" >39.467277</td>\n",
       "      <td id=\"T_40217_row0_col6\" class=\"data row0 col6\" >15.415362</td>\n",
       "      <td id=\"T_40217_row0_col7\" class=\"data row0 col7\" >30.016826</td>\n",
       "      <td id=\"T_40217_row0_col8\" class=\"data row0 col8\" >21.632481</td>\n",
       "    </tr>\n",
       "    <tr>\n",
       "      <th id=\"T_40217_level0_row1\" class=\"row_heading level0 row1\" >housing estate</th>\n",
       "      <td id=\"T_40217_row1_col0\" class=\"data row1 col0\" >15.763196</td>\n",
       "      <td id=\"T_40217_row1_col1\" class=\"data row1 col1\" >0.000000</td>\n",
       "      <td id=\"T_40217_row1_col2\" class=\"data row1 col2\" >18.441437</td>\n",
       "      <td id=\"T_40217_row1_col3\" class=\"data row1 col3\" >18.438411</td>\n",
       "      <td id=\"T_40217_row1_col4\" class=\"data row1 col4\" >30.078778</td>\n",
       "      <td id=\"T_40217_row1_col5\" class=\"data row1 col5\" >37.963489</td>\n",
       "      <td id=\"T_40217_row1_col6\" class=\"data row1 col6\" >11.492449</td>\n",
       "      <td id=\"T_40217_row1_col7\" class=\"data row1 col7\" >26.420990</td>\n",
       "      <td id=\"T_40217_row1_col8\" class=\"data row1 col8\" >18.316329</td>\n",
       "    </tr>\n",
       "    <tr>\n",
       "      <th id=\"T_40217_level0_row2\" class=\"row_heading level0 row2\" >josefov</th>\n",
       "      <td id=\"T_40217_row2_col0\" class=\"data row2 col0\" >23.477808</td>\n",
       "      <td id=\"T_40217_row2_col1\" class=\"data row2 col1\" >18.441437</td>\n",
       "      <td id=\"T_40217_row2_col2\" class=\"data row2 col2\" >0.000000</td>\n",
       "      <td id=\"T_40217_row2_col3\" class=\"data row2 col3\" >18.926597</td>\n",
       "      <td id=\"T_40217_row2_col4\" class=\"data row2 col4\" >26.823233</td>\n",
       "      <td id=\"T_40217_row2_col5\" class=\"data row2 col5\" >44.633596</td>\n",
       "      <td id=\"T_40217_row2_col6\" class=\"data row2 col6\" >16.793108</td>\n",
       "      <td id=\"T_40217_row2_col7\" class=\"data row2 col7\" >18.867431</td>\n",
       "      <td id=\"T_40217_row2_col8\" class=\"data row2 col8\" >14.566036</td>\n",
       "    </tr>\n",
       "    <tr>\n",
       "      <th id=\"T_40217_level0_row3\" class=\"row_heading level0 row3\" >karlin</th>\n",
       "      <td id=\"T_40217_row3_col0\" class=\"data row3 col0\" >21.249741</td>\n",
       "      <td id=\"T_40217_row3_col1\" class=\"data row3 col1\" >18.438411</td>\n",
       "      <td id=\"T_40217_row3_col2\" class=\"data row3 col2\" >18.926597</td>\n",
       "      <td id=\"T_40217_row3_col3\" class=\"data row3 col3\" >0.000000</td>\n",
       "      <td id=\"T_40217_row3_col4\" class=\"data row3 col4\" >26.741073</td>\n",
       "      <td id=\"T_40217_row3_col5\" class=\"data row3 col5\" >36.398416</td>\n",
       "      <td id=\"T_40217_row3_col6\" class=\"data row3 col6\" >17.541798</td>\n",
       "      <td id=\"T_40217_row3_col7\" class=\"data row3 col7\" >22.532061</td>\n",
       "      <td id=\"T_40217_row3_col8\" class=\"data row3 col8\" >16.099393</td>\n",
       "    </tr>\n",
       "    <tr>\n",
       "      <th id=\"T_40217_level0_row4\" class=\"row_heading level0 row4\" >mala strana</th>\n",
       "      <td id=\"T_40217_row4_col0\" class=\"data row4 col0\" >32.822463</td>\n",
       "      <td id=\"T_40217_row4_col1\" class=\"data row4 col1\" >30.078778</td>\n",
       "      <td id=\"T_40217_row4_col2\" class=\"data row4 col2\" >26.823233</td>\n",
       "      <td id=\"T_40217_row4_col3\" class=\"data row4 col3\" >26.741073</td>\n",
       "      <td id=\"T_40217_row4_col4\" class=\"data row4 col4\" >0.000000</td>\n",
       "      <td id=\"T_40217_row4_col5\" class=\"data row4 col5\" >46.676410</td>\n",
       "      <td id=\"T_40217_row4_col6\" class=\"data row4 col6\" >27.125837</td>\n",
       "      <td id=\"T_40217_row4_col7\" class=\"data row4 col7\" >14.956300</td>\n",
       "      <td id=\"T_40217_row4_col8\" class=\"data row4 col8\" >31.536093</td>\n",
       "    </tr>\n",
       "    <tr>\n",
       "      <th id=\"T_40217_level0_row5\" class=\"row_heading level0 row5\" >malesice</th>\n",
       "      <td id=\"T_40217_row5_col0\" class=\"data row5 col0\" >39.467277</td>\n",
       "      <td id=\"T_40217_row5_col1\" class=\"data row5 col1\" >37.963489</td>\n",
       "      <td id=\"T_40217_row5_col2\" class=\"data row5 col2\" >44.633596</td>\n",
       "      <td id=\"T_40217_row5_col3\" class=\"data row5 col3\" >36.398416</td>\n",
       "      <td id=\"T_40217_row5_col4\" class=\"data row5 col4\" >46.676410</td>\n",
       "      <td id=\"T_40217_row5_col5\" class=\"data row5 col5\" >0.000000</td>\n",
       "      <td id=\"T_40217_row5_col6\" class=\"data row5 col6\" >36.855085</td>\n",
       "      <td id=\"T_40217_row5_col7\" class=\"data row5 col7\" >46.884005</td>\n",
       "      <td id=\"T_40217_row5_col8\" class=\"data row5 col8\" >43.836244</td>\n",
       "    </tr>\n",
       "    <tr>\n",
       "      <th id=\"T_40217_level0_row6\" class=\"row_heading level0 row6\" >nusle</th>\n",
       "      <td id=\"T_40217_row6_col0\" class=\"data row6 col0\" >15.415362</td>\n",
       "      <td id=\"T_40217_row6_col1\" class=\"data row6 col1\" >11.492449</td>\n",
       "      <td id=\"T_40217_row6_col2\" class=\"data row6 col2\" >16.793108</td>\n",
       "      <td id=\"T_40217_row6_col3\" class=\"data row6 col3\" >17.541798</td>\n",
       "      <td id=\"T_40217_row6_col4\" class=\"data row6 col4\" >27.125837</td>\n",
       "      <td id=\"T_40217_row6_col5\" class=\"data row6 col5\" >36.855085</td>\n",
       "      <td id=\"T_40217_row6_col6\" class=\"data row6 col6\" >0.000000</td>\n",
       "      <td id=\"T_40217_row6_col7\" class=\"data row6 col7\" >23.659463</td>\n",
       "      <td id=\"T_40217_row6_col8\" class=\"data row6 col8\" >18.981047</td>\n",
       "    </tr>\n",
       "    <tr>\n",
       "      <th id=\"T_40217_level0_row7\" class=\"row_heading level0 row7\" >stare mesto</th>\n",
       "      <td id=\"T_40217_row7_col0\" class=\"data row7 col0\" >30.016826</td>\n",
       "      <td id=\"T_40217_row7_col1\" class=\"data row7 col1\" >26.420990</td>\n",
       "      <td id=\"T_40217_row7_col2\" class=\"data row7 col2\" >18.867431</td>\n",
       "      <td id=\"T_40217_row7_col3\" class=\"data row7 col3\" >22.532061</td>\n",
       "      <td id=\"T_40217_row7_col4\" class=\"data row7 col4\" >14.956300</td>\n",
       "      <td id=\"T_40217_row7_col5\" class=\"data row7 col5\" >46.884005</td>\n",
       "      <td id=\"T_40217_row7_col6\" class=\"data row7 col6\" >23.659463</td>\n",
       "      <td id=\"T_40217_row7_col7\" class=\"data row7 col7\" >0.000000</td>\n",
       "      <td id=\"T_40217_row7_col8\" class=\"data row7 col8\" >23.308281</td>\n",
       "    </tr>\n",
       "    <tr>\n",
       "      <th id=\"T_40217_level0_row8\" class=\"row_heading level0 row8\" >vinohrady</th>\n",
       "      <td id=\"T_40217_row8_col0\" class=\"data row8 col0\" >21.632481</td>\n",
       "      <td id=\"T_40217_row8_col1\" class=\"data row8 col1\" >18.316329</td>\n",
       "      <td id=\"T_40217_row8_col2\" class=\"data row8 col2\" >14.566036</td>\n",
       "      <td id=\"T_40217_row8_col3\" class=\"data row8 col3\" >16.099393</td>\n",
       "      <td id=\"T_40217_row8_col4\" class=\"data row8 col4\" >31.536093</td>\n",
       "      <td id=\"T_40217_row8_col5\" class=\"data row8 col5\" >43.836244</td>\n",
       "      <td id=\"T_40217_row8_col6\" class=\"data row8 col6\" >18.981047</td>\n",
       "      <td id=\"T_40217_row8_col7\" class=\"data row8 col7\" >23.308281</td>\n",
       "      <td id=\"T_40217_row8_col8\" class=\"data row8 col8\" >0.000000</td>\n",
       "    </tr>\n",
       "  </tbody>\n",
       "</table>\n"
      ],
      "text/plain": [
       "<pandas.io.formats.style.Styler at 0x72e15535df10>"
      ]
     },
     "execution_count": 32,
     "metadata": {},
     "output_type": "execute_result"
    }
   ],
   "source": [
    "neighbourhoods = X_train.loc[tess_groups.index].groupby(tess_groups.values).mean()\n",
    "print_distance(neighbourhoods, metric='euclidean')"
   ]
  },
  {
   "cell_type": "code",
   "execution_count": 33,
   "id": "d066c0e7-77fc-4bc2-8674-78bcb9256368",
   "metadata": {},
   "outputs": [],
   "source": [
    "from scipy.spatial.distance import pdist"
   ]
  },
  {
   "cell_type": "code",
   "execution_count": 34,
   "id": "e623ab43-e178-48ff-ae09-0f5ab7a3e00c",
   "metadata": {},
   "outputs": [
    {
     "name": "stdout",
     "output_type": "stream",
     "text": [
      "holyne 16.06333030931265\n",
      "housing estate 14.699064820261995\n",
      "josefov 18.872078733066747\n",
      "karlin 15.524820487991727\n",
      "mala strana 27.194530697517518\n",
      "malesice 17.874748385021295\n",
      "nusle 15.404327013238294\n",
      "stare mesto 23.32865195772304\n",
      "vinohrady 11.416256476413336\n"
     ]
    }
   ],
   "source": [
    "for i, g in X_train.loc[tess_groups.index].groupby(tess_groups.values):\n",
    "    print(i, np.median(pdist(g)))"
   ]
  },
  {
   "cell_type": "code",
   "execution_count": null,
   "id": "da9afaff-3484-43eb-b428-f5e2b00d12f8",
   "metadata": {},
   "outputs": [],
   "source": []
  },
  {
   "cell_type": "code",
   "execution_count": null,
   "id": "345871df-3100-46ab-89e0-3c9acb37aea2",
   "metadata": {},
   "outputs": [],
   "source": []
  },
  {
   "cell_type": "code",
   "execution_count": 36,
   "id": "1df01893-cb94-4917-9faf-490a1ac404ad",
   "metadata": {},
   "outputs": [],
   "source": [
    "# tessellation.loc[tess_groups.index].explore(column=tess_groups.values, categorical=True)"
   ]
  },
  {
   "cell_type": "code",
   "execution_count": null,
   "id": "03d6dd3a-9616-4872-854f-44b2fcf77658",
   "metadata": {},
   "outputs": [],
   "source": []
  },
  {
   "cell_type": "code",
   "execution_count": null,
   "id": "7b5eb17a-b027-4908-bc56-53a2148f2313",
   "metadata": {},
   "outputs": [],
   "source": []
  },
  {
   "cell_type": "code",
   "execution_count": null,
   "id": "00f135c3-94dd-47b3-82ac-c369e1381b4f",
   "metadata": {},
   "outputs": [],
   "source": [
    "newgraph = graph.subgraph(X_train.index.values)"
   ]
  },
  {
   "cell_type": "code",
   "execution_count": null,
   "id": "cbf4a7ad-2ee0-4e6a-a6c9-b441ce85976e",
   "metadata": {},
   "outputs": [],
   "source": [
    "newgraph.component_labels.value_counts()"
   ]
  },
  {
   "cell_type": "code",
   "execution_count": null,
   "id": "bef03e19-72e9-43a1-adff-96812eca62fd",
   "metadata": {},
   "outputs": [],
   "source": [
    "main_comp = 0"
   ]
  },
  {
   "cell_type": "code",
   "execution_count": null,
   "id": "bd080f2a-027a-4d3e-b083-0d1dd48af11c",
   "metadata": {},
   "outputs": [],
   "source": [
    "import lonboard\n",
    "from sidecar import Sidecar\n",
    "from libpysal.graph import Graph\n",
    "from lonboard.colormap import apply_continuous_cmap\n",
    "from core.cluster_validation import get_color"
   ]
  },
  {
   "cell_type": "code",
   "execution_count": null,
   "id": "71d093c1-4e10-4836-b95e-7e763f617f92",
   "metadata": {},
   "outputs": [],
   "source": [
    "plotting = tessellation.loc[newgraph.component_labels[newgraph.component_labels == main_comp].index]"
   ]
  },
  {
   "cell_type": "code",
   "execution_count": null,
   "id": "54df277f-b600-4510-8423-7acd72d67c85",
   "metadata": {},
   "outputs": [],
   "source": [
    "%%time\n",
    "layer = lonboard.PolygonLayer.from_geopandas(plotting, opacity=.15)"
   ]
  },
  {
   "cell_type": "markdown",
   "id": "4c6a65c4-302e-4c92-acc7-4924b84fc2cb",
   "metadata": {},
   "source": [
    "Create a Sidecar view (assumes JupyterLab) for more comfortable experience."
   ]
  },
  {
   "cell_type": "code",
   "execution_count": null,
   "id": "ec116363-5d7d-48c8-bb13-e7f869056a75",
   "metadata": {},
   "outputs": [],
   "source": [
    "\n",
    "\n",
    "sc = Sidecar(title='buildings')"
   ]
  },
  {
   "cell_type": "markdown",
   "id": "e66b4f84-ad69-4932-9f1c-9decf2c57d42",
   "metadata": {},
   "source": [
    "Create a Map object"
   ]
  },
  {
   "cell_type": "code",
   "execution_count": null,
   "id": "53016a65-0503-4310-b8ea-10f3d6e81ce5",
   "metadata": {},
   "outputs": [],
   "source": [
    "m = lonboard.Map(layer, basemap_style=lonboard.basemap.CartoBasemap.Positron)"
   ]
  },
  {
   "cell_type": "markdown",
   "id": "5da6c4d6-98f2-47aa-bb4e-664d51d1692e",
   "metadata": {},
   "source": [
    "Display map within the sidecar plugin"
   ]
  },
  {
   "cell_type": "code",
   "execution_count": null,
   "id": "48b30b04-9a50-4eea-bb1a-764ad56a4db1",
   "metadata": {},
   "outputs": [],
   "source": [
    "with sc:\n",
    "    display(m)"
   ]
  },
  {
   "cell_type": "code",
   "execution_count": null,
   "id": "bf05f18c-dcc6-4ddd-9270-ee520ca1af97",
   "metadata": {},
   "outputs": [],
   "source": []
  },
  {
   "cell_type": "code",
   "execution_count": null,
   "id": "a7eb7d6f-8ae4-42d9-b64e-23878bbf775e",
   "metadata": {},
   "outputs": [],
   "source": []
  },
  {
   "cell_type": "code",
   "execution_count": null,
   "id": "40319454-12fe-4926-bbb3-e23a9ddc934d",
   "metadata": {},
   "outputs": [],
   "source": [
    "plot_data = X_train.loc[newgraph.component_labels[newgraph.component_labels == main_comp].index]\n",
    "plot_graph = newgraph.higher_order(k=3, lower_order=True, diagonal=True).subgraph(plot_data.index)"
   ]
  },
  {
   "cell_type": "code",
   "execution_count": null,
   "id": "52293240-be7d-47cb-84cf-daffd2e2ecd7",
   "metadata": {},
   "outputs": [],
   "source": []
  },
  {
   "cell_type": "code",
   "execution_count": null,
   "id": "9b033437-7ab4-435d-85a2-9de23c51a6bd",
   "metadata": {},
   "outputs": [],
   "source": [
    "focals = plot_graph._adjacency.index.get_level_values(0).values\n",
    "neighbours = plot_graph._adjacency.index.get_level_values(1).values\n",
    "fvals = plot_data.loc[focals].values\n",
    "nvals = plot_data.loc[neighbours].values"
   ]
  },
  {
   "cell_type": "code",
   "execution_count": null,
   "id": "8e9fc49d-71d5-4501-836f-ee55cb9f6645",
   "metadata": {},
   "outputs": [],
   "source": []
  },
  {
   "cell_type": "code",
   "execution_count": null,
   "id": "a88b0ff2-2633-48b8-9609-a9a80804c5c7",
   "metadata": {},
   "outputs": [],
   "source": [
    "distances = np.sqrt(np.sum(np.pow(fvals - nvals, 2), axis=1))"
   ]
  },
  {
   "cell_type": "code",
   "execution_count": null,
   "id": "41e2e13a-900d-4656-8259-160ba5ffd0d8",
   "metadata": {},
   "outputs": [],
   "source": []
  },
  {
   "cell_type": "code",
   "execution_count": null,
   "id": "63c06e75-60e0-4eb5-ba03-cb1fd9338e5b",
   "metadata": {},
   "outputs": [],
   "source": [
    "# %%time\n",
    "# from scipy.spatial.distance import cosine\n",
    "# distances = [cosine(fvals[i], nvals[i]) for i in range(fvals.shape[0])]\n",
    "# distances = np.array(distances)"
   ]
  },
  {
   "cell_type": "code",
   "execution_count": null,
   "id": "c2e1ddf3-b4e5-490f-9269-c256a0f49b0a",
   "metadata": {},
   "outputs": [],
   "source": [
    "pd.Series(distances).describe().iloc[1:]"
   ]
  },
  {
   "cell_type": "code",
   "execution_count": null,
   "id": "8ac99ccb-66ce-401e-b70c-0ba01f20f080",
   "metadata": {},
   "outputs": [],
   "source": [
    "threshold = 8\n"
   ]
  },
  {
   "cell_type": "code",
   "execution_count": null,
   "id": "1b3cc242-91fb-4c8a-8143-236dcd5afe90",
   "metadata": {},
   "outputs": [],
   "source": [
    "new_focals = focals[np.where(distances <= threshold)]\n",
    "new_neighbours = neighbours[np.where(distances <= threshold)]\n",
    "new_distances = distances[np.where(distances <= threshold)]\n",
    "\n",
    "subgraph = Graph.from_arrays(new_focals, new_neighbours, new_distances)"
   ]
  },
  {
   "cell_type": "code",
   "execution_count": null,
   "id": "1ff79f51-9e04-4bcd-8807-9e13ef7071cf",
   "metadata": {},
   "outputs": [],
   "source": []
  },
  {
   "cell_type": "code",
   "execution_count": null,
   "id": "b00ec168-8bdf-4369-94a9-2bd00bbb5ceb",
   "metadata": {},
   "outputs": [],
   "source": [
    "# tessellation.loc[subgraph.component_labels[subgraph.component_labels == 78865].index].explore()"
   ]
  },
  {
   "cell_type": "code",
   "execution_count": null,
   "id": "99c88fa1-5091-4647-9828-99aef67336b1",
   "metadata": {},
   "outputs": [],
   "source": [
    "ntop = 100\n",
    "\n",
    "top_components = subgraph.component_labels.value_counts()\n",
    "\n",
    "labels = subgraph.component_labels.copy()\n",
    "top_labels = top_components[:ntop].index.values\n",
    "labels[~labels.isin(top_labels)] = -1\n",
    "repl_dict = dict(zip(top_labels.tolist(), np.arange(ntop).tolist()))\n",
    "labels = labels.replace(repl_dict)"
   ]
  },
  {
   "cell_type": "code",
   "execution_count": null,
   "id": "a094911e-e81e-4d18-a859-43895b21cc29",
   "metadata": {},
   "outputs": [],
   "source": []
  },
  {
   "cell_type": "code",
   "execution_count": null,
   "id": "4717c36b-b7d7-4b9e-8afe-7a4450bc6c9f",
   "metadata": {},
   "outputs": [],
   "source": [
    "layer.get_fill_color = get_color(labels)"
   ]
  },
  {
   "cell_type": "code",
   "execution_count": null,
   "id": "ebd213d1-5d73-4af4-9516-621b7602e9fc",
   "metadata": {},
   "outputs": [],
   "source": []
  },
  {
   "cell_type": "code",
   "execution_count": null,
   "id": "958b08e0-bdd9-48c3-9a12-1299490b03d7",
   "metadata": {},
   "outputs": [],
   "source": []
  },
  {
   "cell_type": "markdown",
   "id": "dc797436-80a9-41e3-a8b6-795518e404bd",
   "metadata": {},
   "source": [
    "### Hierarchical"
   ]
  },
  {
   "cell_type": "code",
   "execution_count": null,
   "id": "fb271eee-4b50-4f37-9faf-e6ec31da0996",
   "metadata": {},
   "outputs": [],
   "source": [
    "# embedding = X_train[[c for c in X_train.columns if '_median' in c]]\n",
    "embedding = X_train"
   ]
  },
  {
   "cell_type": "code",
   "execution_count": null,
   "id": "6a2311af-19eb-4ddb-999c-0ab4cf93413e",
   "metadata": {},
   "outputs": [],
   "source": [
    "from sklearn.cluster import AgglomerativeClustering\n",
    "from scipy.cluster.hierarchy import dendrogram\n",
    "from scipy.cluster.hierarchy import fcluster\n",
    "from sklearn.metrics import adjusted_rand_score\n",
    "from sklearn.metrics import davies_bouldin_score"
   ]
  },
  {
   "cell_type": "code",
   "execution_count": null,
   "id": "d7410c22-b9a1-444e-8a00-572aa86c975a",
   "metadata": {},
   "outputs": [],
   "source": []
  },
  {
   "cell_type": "code",
   "execution_count": null,
   "id": "359723e5-560b-4305-84e9-4ccf78f160db",
   "metadata": {},
   "outputs": [],
   "source": [
    "clustering_graph = graph.subgraph(X_train.index.values).transform('B').sparse"
   ]
  },
  {
   "cell_type": "code",
   "execution_count": null,
   "id": "5e1dd338-fe77-47a4-a221-810a37b3a453",
   "metadata": {},
   "outputs": [],
   "source": [
    "clusterer = AgglomerativeClustering(linkage='ward',\n",
    "                                    connectivity=clustering_graph, \n",
    "                                    compute_full_tree=True, compute_distances=True)"
   ]
  },
  {
   "cell_type": "code",
   "execution_count": null,
   "id": "119416e5-5345-4aaa-bc67-32991a522101",
   "metadata": {},
   "outputs": [],
   "source": [
    "%%time\n",
    "model = clusterer.fit(embedding)"
   ]
  },
  {
   "cell_type": "code",
   "execution_count": null,
   "id": "0c40c253-acff-4cb6-b2da-bd47001346ac",
   "metadata": {},
   "outputs": [],
   "source": []
  },
  {
   "cell_type": "code",
   "execution_count": null,
   "id": "31431bb9-83a0-451a-b96d-01fbd855b057",
   "metadata": {},
   "outputs": [],
   "source": [
    "def get_linkage_matrix(model):\n",
    "    # Create linkage matrix and then plot the dendrogram\n",
    "\n",
    "    # create the counts of samples under each node\n",
    "    counts = np.zeros(model.children_.shape[0])\n",
    "    n_samples = len(model.labels_)\n",
    "    for i, merge in enumerate(model.children_):\n",
    "        current_count = 0\n",
    "        for child_idx in merge:\n",
    "            if child_idx < n_samples:\n",
    "                current_count += 1  # leaf node\n",
    "            else:\n",
    "                current_count += counts[child_idx - n_samples]\n",
    "        counts[i] = current_count\n",
    "\n",
    "    linkage_matrix = np.column_stack(\n",
    "        [model.children_, model.distances_, counts]\n",
    "    ).astype(float)\n",
    "    return linkage_matrix"
   ]
  },
  {
   "cell_type": "code",
   "execution_count": null,
   "id": "bc6140ff-8f9a-44c4-958f-083852760bbc",
   "metadata": {},
   "outputs": [],
   "source": [
    "linkage_matrix = get_linkage_matrix(model)"
   ]
  },
  {
   "cell_type": "code",
   "execution_count": null,
   "id": "9e86e31d-1d8b-46bc-9e15-8a324d899b82",
   "metadata": {},
   "outputs": [],
   "source": []
  },
  {
   "cell_type": "code",
   "execution_count": null,
   "id": "50d69ffe-b1cd-4269-a742-0dbd42b97e52",
   "metadata": {},
   "outputs": [],
   "source": [
    "fix, ax = plt.subplots(figsize=(40,40))\n",
    "# Plot the corresponding dendrogram\n",
    "_ = dendrogram(linkage_matrix, truncate_mode=\"level\", p=5, ax=ax)"
   ]
  },
  {
   "cell_type": "code",
   "execution_count": null,
   "id": "bf19d613-6ad2-49b0-a79a-af148372e4ff",
   "metadata": {},
   "outputs": [],
   "source": []
  },
  {
   "cell_type": "code",
   "execution_count": null,
   "id": "8db71623-0f24-4705-b2a2-8ac77802d292",
   "metadata": {},
   "outputs": [],
   "source": [
    "%%time\n",
    "import lonboard\n",
    "plotting = tessellation[tessellation.index.isin(X_train.index)].copy()\n",
    "layer = lonboard.PolygonLayer.from_geopandas(plotting, opacity=.15)"
   ]
  },
  {
   "cell_type": "code",
   "execution_count": null,
   "id": "d926ef67-1a75-434f-99a0-78bb58c6b7f2",
   "metadata": {},
   "outputs": [],
   "source": [
    "from sidecar import Sidecar\n",
    "sc = Sidecar(title='Clusters')\n",
    "m = lonboard.Map(layer, basemap_style=lonboard.basemap.CartoBasemap.Positron)\n",
    "with sc:\n",
    "    display(m)"
   ]
  },
  {
   "cell_type": "code",
   "execution_count": null,
   "id": "27af98ad-a773-4061-99bb-dac9a6d42a4a",
   "metadata": {},
   "outputs": [],
   "source": [
    "from core.cluster_validation import get_color"
   ]
  },
  {
   "cell_type": "code",
   "execution_count": null,
   "id": "8dfdfce2-bbe2-48bf-927f-f59789709a25",
   "metadata": {},
   "outputs": [],
   "source": [
    "for t in range(100, 1250, 100):\n",
    "    r = fcluster(linkage_matrix, t=t, criterion='distance')\n",
    "    # r = pd.Series(r, index=X_train.index)\n",
    "    # # ssplits = graph.describe(r, statistics=['nunique'])['nunique']\n",
    "    print(t, ' - ', \n",
    "          adjusted_rand_score(tess_groups.values, r[tess_groups_ilocs]),\n",
    "          # (ssplits > 1).sum() / ssplits.shape[0],\n",
    "          davies_bouldin_score(X_train, r)\n",
    "         )"
   ]
  },
  {
   "cell_type": "code",
   "execution_count": null,
   "id": "2eb5eb26-c9c7-4b18-bc47-ea8bef94c8f3",
   "metadata": {},
   "outputs": [],
   "source": [
    "clusters = fcluster(linkage_matrix, t=350, criterion='distance')"
   ]
  },
  {
   "cell_type": "code",
   "execution_count": null,
   "id": "27c9cf0a-d8ff-4734-af5b-2fd2b691ff7c",
   "metadata": {},
   "outputs": [],
   "source": [
    "np.unique(clusters, return_counts=True)"
   ]
  },
  {
   "cell_type": "code",
   "execution_count": null,
   "id": "2cc02dfa-8dfb-427f-9ee3-9c63e0cbca7b",
   "metadata": {},
   "outputs": [],
   "source": [
    "layer.get_fill_color = get_color(clusters)"
   ]
  },
  {
   "cell_type": "code",
   "execution_count": null,
   "id": "2b302a51-4bab-4fc5-8363-ad8a169b8361",
   "metadata": {},
   "outputs": [],
   "source": []
  },
  {
   "cell_type": "code",
   "execution_count": null,
   "id": "0d409086-cb38-4502-a198-aed15e57e61f",
   "metadata": {},
   "outputs": [],
   "source": []
  },
  {
   "cell_type": "code",
   "execution_count": null,
   "id": "e74e32ec-5fb4-43f9-8271-8d28d0dacf88",
   "metadata": {},
   "outputs": [],
   "source": []
  },
  {
   "cell_type": "code",
   "execution_count": null,
   "id": "b814bf2a-cd2f-48b3-a4ff-8fece3fc4f3c",
   "metadata": {},
   "outputs": [],
   "source": []
  },
  {
   "cell_type": "code",
   "execution_count": null,
   "id": "4efb2dc8-f51e-43f7-90f4-2979175ff6e9",
   "metadata": {},
   "outputs": [],
   "source": []
  },
  {
   "cell_type": "code",
   "execution_count": null,
   "id": "384aa961-67d7-470c-a4ec-6250b023b1d4",
   "metadata": {},
   "outputs": [],
   "source": [
    "sklearn_tree = KDTree(X_train.values)\n",
    "numba_tree = kdtree_to_numba(sklearn_tree)"
   ]
  },
  {
   "cell_type": "code",
   "execution_count": null,
   "id": "eef2ad6f-c5bf-4f91-97eb-1943c2037321",
   "metadata": {},
   "outputs": [],
   "source": []
  },
  {
   "cell_type": "code",
   "execution_count": null,
   "id": "533ee842-9af8-4c16-b48b-9a9126df8cd6",
   "metadata": {},
   "outputs": [],
   "source": [
    "from core.cluster_validation import generate_neigbhourhood_groups"
   ]
  },
  {
   "cell_type": "code",
   "execution_count": null,
   "id": "cc90cd4b-3d1a-4b5b-b555-479b58eb0a31",
   "metadata": {},
   "outputs": [],
   "source": [
    "groups = generate_neigbhourhood_groups(tessellation)"
   ]
  },
  {
   "cell_type": "code",
   "execution_count": null,
   "id": "45d07a35-bce2-4316-913d-328a44f850da",
   "metadata": {},
   "outputs": [],
   "source": []
  },
  {
   "cell_type": "code",
   "execution_count": null,
   "id": "9684ea1d-4722-4eb8-a6ba-e125cd253634",
   "metadata": {},
   "outputs": [],
   "source": [
    "karlins = groups[groups == 'karlin'].index.values"
   ]
  },
  {
   "cell_type": "code",
   "execution_count": null,
   "id": "670fb2f2-2b92-4a61-82dc-6d34e7d351eb",
   "metadata": {},
   "outputs": [],
   "source": [
    "tess_id = 261793"
   ]
  },
  {
   "cell_type": "code",
   "execution_count": null,
   "id": "4044c895-1116-4a8a-ab21-0759fee6be4e",
   "metadata": {},
   "outputs": [],
   "source": [
    "# tessellation.loc[graph[tess_id].index.values].explore()"
   ]
  },
  {
   "cell_type": "code",
   "execution_count": null,
   "id": "9e46c938-cbcf-44f2-b682-4b470932f2d9",
   "metadata": {},
   "outputs": [],
   "source": [
    "graph[tess_id].index.values"
   ]
  },
  {
   "cell_type": "code",
   "execution_count": null,
   "id": "8ec34135-ef51-49d8-afda-2994108b7a85",
   "metadata": {},
   "outputs": [],
   "source": []
  },
  {
   "cell_type": "code",
   "execution_count": null,
   "id": "24bff199-aa4b-4fee-b041-6ac261863069",
   "metadata": {},
   "outputs": [],
   "source": []
  },
  {
   "cell_type": "code",
   "execution_count": null,
   "id": "25c22e10-c496-4113-bbc4-f88bd5bc5471",
   "metadata": {},
   "outputs": [],
   "source": []
  },
  {
   "cell_type": "code",
   "execution_count": null,
   "id": "57a860ba-44da-4124-9d0f-3699c8752234",
   "metadata": {},
   "outputs": [],
   "source": [
    "xilocs = np.where(X_train.index.isin(graph[tess_id].index.values))[0]"
   ]
  },
  {
   "cell_type": "code",
   "execution_count": null,
   "id": "67569de9-f4d6-4fe7-9fdb-1420908ba492",
   "metadata": {},
   "outputs": [],
   "source": [
    "num_neighbours = 15"
   ]
  },
  {
   "cell_type": "code",
   "execution_count": null,
   "id": "c01fd3bf-56d1-4387-ac30-e07f2589edba",
   "metadata": {},
   "outputs": [],
   "source": [
    "nn_dists, nn_inds = parallel_tree_query(numba_tree, np.ascontiguousarray(X_train.iloc[xilocs].values), k=num_neighbours)"
   ]
  },
  {
   "cell_type": "code",
   "execution_count": null,
   "id": "76551796-6e11-49d2-8a5b-79c3a6db6c53",
   "metadata": {},
   "outputs": [],
   "source": []
  },
  {
   "cell_type": "code",
   "execution_count": null,
   "id": "ccf59195-127e-460b-8c36-7bc124b8094d",
   "metadata": {},
   "outputs": [],
   "source": []
  },
  {
   "cell_type": "code",
   "execution_count": null,
   "id": "178cfc37-0d7f-41ca-a436-bc349b282358",
   "metadata": {},
   "outputs": [],
   "source": [
    "neigh_ids = nn_inds[3]\n",
    "neigh_dists = nn_dists[3]"
   ]
  },
  {
   "cell_type": "code",
   "execution_count": null,
   "id": "fb8f044f-fb2d-44c4-8e88-0e27f62dbaf3",
   "metadata": {},
   "outputs": [],
   "source": [
    "neighbours = tessellation.loc[X_train.iloc[neigh_ids].index].reset_index()\n",
    "neighbours['nn_dists'] = neigh_dists\n",
    "neighbours['nn_order'] = np.arange(num_neighbours)"
   ]
  },
  {
   "cell_type": "code",
   "execution_count": null,
   "id": "6d7d3fd6-10a7-4a30-a01c-9346ac3080a2",
   "metadata": {},
   "outputs": [],
   "source": [
    "intersection = np.intersect1d(X_train.iloc[neigh_ids].index, graph[tess_id].index.values)\n",
    "union = np.union1d(X_train.iloc[neigh_ids].index, graph[tess_id].index.values)\n",
    "\n",
    "print('graph intersection: ', intersection.shape[0] / graph[tess_id].index.values.shape[0],\n",
    "      'total intersection: ', intersection.shape[0]/union.shape[0])"
   ]
  },
  {
   "cell_type": "code",
   "execution_count": null,
   "id": "9492a895-7911-4f0d-873b-ce1c6586e55b",
   "metadata": {},
   "outputs": [],
   "source": []
  },
  {
   "cell_type": "code",
   "execution_count": null,
   "id": "fdacd056-293e-47e2-820e-b2ff467e65d6",
   "metadata": {},
   "outputs": [],
   "source": [
    "from scipy.spatial.distance import pdist, cdist"
   ]
  },
  {
   "cell_type": "code",
   "execution_count": null,
   "id": "f8b4e11b-03c9-40b1-9119-5b22101d43cd",
   "metadata": {},
   "outputs": [],
   "source": []
  },
  {
   "cell_type": "code",
   "execution_count": null,
   "id": "762a5159-44d8-423a-aa97-b2ca929e1a1d",
   "metadata": {},
   "outputs": [],
   "source": []
  },
  {
   "cell_type": "code",
   "execution_count": null,
   "id": "04b7810f-eaf6-4e7a-b40e-e93a4ae5bdca",
   "metadata": {},
   "outputs": [],
   "source": []
  },
  {
   "cell_type": "code",
   "execution_count": null,
   "id": "87b9497e-8098-4e08-b821-ae69137e07d7",
   "metadata": {},
   "outputs": [],
   "source": [
    "pdist(X_train.iloc[neigh_ids].values)"
   ]
  },
  {
   "cell_type": "code",
   "execution_count": null,
   "id": "0c0f634a-6978-4987-bb79-0aafe2518be2",
   "metadata": {},
   "outputs": [],
   "source": []
  },
  {
   "cell_type": "code",
   "execution_count": null,
   "id": "53621161-ef21-442d-8fe9-4be1b1ff7321",
   "metadata": {},
   "outputs": [],
   "source": []
  },
  {
   "cell_type": "code",
   "execution_count": null,
   "id": "a9c53cc6-4a48-4c43-96d1-8b7310d5a725",
   "metadata": {},
   "outputs": [],
   "source": [
    "# m = neighbours.explore()\n",
    "# m = tessellation.loc[[tess_id]].explore(color='red', m=m)\n",
    "# m"
   ]
  },
  {
   "cell_type": "code",
   "execution_count": null,
   "id": "1c536f4c-9b79-436c-a957-d52e84977a35",
   "metadata": {},
   "outputs": [],
   "source": []
  },
  {
   "cell_type": "code",
   "execution_count": null,
   "id": "01d8b4d6-fcfb-4fe5-bc86-9281fec7c9d0",
   "metadata": {},
   "outputs": [],
   "source": []
  },
  {
   "cell_type": "code",
   "execution_count": null,
   "id": "1b380796-7dd2-487a-982e-6ae566b39fc8",
   "metadata": {},
   "outputs": [],
   "source": []
  }
 ],
 "metadata": {
  "kernelspec": {
   "display_name": "Python 3 (ipykernel)",
   "language": "python",
   "name": "python3"
  },
  "language_info": {
   "codemirror_mode": {
    "name": "ipython",
    "version": 3
   },
   "file_extension": ".py",
   "mimetype": "text/x-python",
   "name": "python",
   "nbconvert_exporter": "python",
   "pygments_lexer": "ipython3",
   "version": "3.12.4"
  }
 },
 "nbformat": 4,
 "nbformat_minor": 5
}
