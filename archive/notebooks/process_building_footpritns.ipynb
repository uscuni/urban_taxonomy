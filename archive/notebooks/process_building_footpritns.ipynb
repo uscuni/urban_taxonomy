{
    "cells": [
        {
            "cell_type": "code",
            "execution_count": 1,
            "id": "4254b00d-e38b-4b20-a42f-8fca076cbfa4",
            "metadata": {},
            "outputs": [],
            "source": [
                "import geopandas as gpd\n",
                "from glob import glob\n",
                "import pandas as pd\n",
                "DATADIR = '/data/uscuni-ulce/buildings_raw/'"
            ]
        },
        {
            "cell_type": "code",
            "execution_count": null,
            "id": "f9330982-88ae-4f00-b735-b35bdf6b1956",
            "metadata": {},
            "outputs": [],
            "source": []
        },
        {
            "cell_type": "code",
            "execution_count": 2,
            "id": "4160e510-012a-4aa0-9202-dbf1618ed597",
            "metadata": {},
            "outputs": [],
            "source": [
                "regions = [\n",
                "    \n",
                "# \"buildings_austria*\",\n",
                "# \"buildings_slovakia*\",\n",
                "# \"buildings_poland*\",\n",
                "# \"buildings_czechia*\",\n",
                "# \"buildings_germany\"\n",
                "]"
            ]
        },
        {
            "cell_type": "code",
            "execution_count": 3,
            "id": "0abbd08e-1da1-46bc-8c32-4324cb405f04",
            "metadata": {},
            "outputs": [],
            "source": [
                "eubucco_regions = [\n",
                "    # '/data/uscuni-ulce/eubucco_raw/v0_1-AUT*',\n",
                "    # '/data/uscuni-ulce/eubucco_raw/v0_1-SVK*',\n",
                "    # '/data/uscuni-ulce/eubucco_raw/v0_1-POL*',\n",
                "    # '/data/uscuni-ulce/eubucco_raw/v0_1-CZE*',\n",
                "]\n"
            ]
        },
        {
            "cell_type": "code",
            "execution_count": null,
            "id": "af5f6c40-6223-4cdd-b2ab-8309ce6809ea",
            "metadata": {},
            "outputs": [],
            "source": []
        },
        {
            "cell_type": "code",
            "execution_count": null,
            "id": "3549d7f3-1efa-4766-b075-7e92f1dc1bcf",
            "metadata": {},
            "outputs": [],
            "source": []
        },
        {
            "cell_type": "code",
            "execution_count": 9,
            "id": "04b3d09e-4ef6-49d0-845f-1e7c028a46fd",
            "metadata": {},
            "outputs": [
                {
                    "name": "stdout",
                    "output_type": "stream",
                    "text": [
                        "(4274434, 36) (4044659, 7)\n"
                    ]
                }
            ],
            "source": [
                "for region, eubucco_region in zip(regions, eubucco_regions):\n",
                "    \n",
                "    files = glob(DATADIR + region)\n",
                "    frames = []\n",
                "    for f in files:\n",
                "        gdf = gpd.read_parquet(f)\n",
                "        if gdf.shape[0]:\n",
                "            frames.append(gdf.to_crs(epsg=3035))\n",
                "    gdf = pd.concat(frames, ignore_index=True)\n",
                "\n",
                "\n",
                "    files = glob(eubucco_region)\n",
                "    frames = []\n",
                "    for f in files:\n",
                "        gdf1 = gpd.read_file(f)\n",
                "        if gdf1.shape[0]:\n",
                "            frames.append(gdf1)\n",
                "    eubucco_gdf = pd.concat(frames, ignore_index=True)\n",
                "\n",
                "    print(gdf.shape, eubucco_gdf.shape)\n",
                "    break"
            ]
        },
        {
            "cell_type": "code",
            "execution_count": 11,
            "id": "cd910743-8ab0-46ae-b57b-e76f315e98b0",
            "metadata": {},
            "outputs": [],
            "source": [
                "gdf.to_parquet('/data/uscuni-ulce/buildings_standardised/buildings_czechia.pq')"
            ]
        },
        {
            "cell_type": "code",
            "execution_count": 10,
            "id": "f73f34f7-82ec-4ba3-a824-197386ac8c68",
            "metadata": {},
            "outputs": [
                {
                    "data": {
                        "text/plain": [
                            "'/data/uscuni-ulce/buildings_raw/buildings_czechia*'"
                        ]
                    },
                    "execution_count": 10,
                    "metadata": {},
                    "output_type": "execute_result"
                }
            ],
            "source": [
                "DATADIR + region"
            ]
        },
        {
            "cell_type": "code",
            "execution_count": null,
            "id": "a6526c5d-6069-42ff-9d7c-e36ae5d43aef",
            "metadata": {},
            "outputs": [],
            "source": []
        },
        {
            "cell_type": "code",
            "execution_count": 50,
            "id": "ea35cc63-5e6d-48ef-8e87-4e3fe4329914",
            "metadata": {},
            "outputs": [],
            "source": [
                "# (4427904, 30) (4135733, 7)\n",
                "# (3563020, 31) (3488125, 7)\n",
                "# (15387645, 14) (14404767, 7)\n",
                "# (4274434, 36) (4044659, 7)"
            ]
        },
        {
            "cell_type": "code",
            "execution_count": 14,
            "id": "d89591bf-4539-4dc4-ac9b-940bf592ab66",
            "metadata": {},
            "outputs": [],
            "source": [
                "ger_regions = ['bavaria', 'brandeburg', 'bw', 'hessen', 'mv',\n",
                "       'nrw', 'rlp', 'saarland', 'sachsen', 'sachsen-anhalt', 'sg', \n",
                "       'th', 'ni', 'bremen', 'hamburg', 'berlin']\n",
                "# bayern - no function\n",
                "# bb -function\n",
                "# bw - function\n",
                "# hessen - function"
            ]
        },
        {
            "cell_type": "markdown",
            "id": "0bc2091d-9e6a-49f6-b9cf-cea3595d74dd",
            "metadata": {},
            "source": [
                "###### germany"
            ]
        },
        {
            "cell_type": "code",
            "execution_count": 69,
            "id": "16468266-79a1-4a01-95cf-9875f3b2061e",
            "metadata": {},
            "outputs": [
                {
                    "name": "stderr",
                    "output_type": "stream",
                    "text": [
                        "/tmp/ipykernel_245062/807000398.py:6: FutureWarning: The behavior of DataFrame concatenation with empty or all-NA entries is deprecated. In a future version, this will no longer exclude empty or all-NA columns when determining the result dtypes. To retain the old behavior, exclude the relevant entries before the concat operation.\n",
                        "  gdf = pd.concat(frames, ignore_index=True)\n"
                    ]
                }
            ],
            "source": [
                "files = glob('/data/uscuni-ulce/buildings_standardised/buildings_germany*')\n",
                "for f in files:\n",
                "    gdf = gpd.read_parquet(f)\n",
                "    if gdf.shape[0]:\n",
                "        frames.append(gdf.to_crs(epsg=3035))\n",
                "gdf = pd.concat(frames, ignore_index=True)"
            ]
        },
        {
            "cell_type": "code",
            "execution_count": 73,
            "id": "7de17be9-39d1-4d5e-b406-fae8081423f3",
            "metadata": {},
            "outputs": [
                {
                    "data": {
                        "text/plain": [
                            "(60512650, 61)"
                        ]
                    },
                    "execution_count": 73,
                    "metadata": {},
                    "output_type": "execute_result"
                }
            ],
            "source": [
                "gdf.shape"
            ]
        },
        {
            "cell_type": "code",
            "execution_count": 3,
            "id": "816accbd-48f9-45b6-85fd-5d1a5b5e7935",
            "metadata": {},
            "outputs": [],
            "source": [
                "files = glob('/data/uscuni-ulce/eubucco_raw/v0_1-DEU*')\n",
                "frames = []\n",
                "for f in files:\n",
                "    gdf1 = gpd.read_file(f)\n",
                "    if gdf1.shape[0]:\n",
                "        frames.append(gdf1)\n",
                "eubucco_gdf = pd.concat(frames, ignore_index=True)"
            ]
        },
        {
            "cell_type": "code",
            "execution_count": 4,
            "id": "c38ea605-3e0a-4711-ac2a-a5329fd437aa",
            "metadata": {},
            "outputs": [
                {
                    "data": {
                        "text/plain": [
                            "(43644887, 7)"
                        ]
                    },
                    "execution_count": 4,
                    "metadata": {},
                    "output_type": "execute_result"
                }
            ],
            "source": [
                "eubucco_gdf.shape"
            ]
        },
        {
            "cell_type": "code",
            "execution_count": null,
            "id": "56b2a439-6bb1-46eb-a167-6e74361ce1fa",
            "metadata": {},
            "outputs": [],
            "source": []
        },
        {
            "cell_type": "code",
            "execution_count": 29,
            "id": "c70690a2-6144-470c-8486-02f027110b5e",
            "metadata": {},
            "outputs": [],
            "source": [
                "ger_regions = ['bavaria', 'brandeburg', 'bw', 'hessen', 'mv',\n",
                "       'nrw', 'rlp', 'saarland', 'sachsen', 'sachsen-anhalt', 'sg', \n",
                "       'th', 'ni', 'bremen', 'hamburg', 'berlin']\n",
                "# bayern - no function\n",
                "# bb -function\n",
                "# bw - function\n",
                "# hessen - function"
            ]
        },
        {
            "cell_type": "code",
            "execution_count": 16,
            "id": "fc497cd4-9e89-4f5a-a961-b22e22a8452b",
            "metadata": {},
            "outputs": [],
            "source": [
                "for r in ger_regions:\n",
                "\n",
                "    gdf = gpd.read_parquet(f'/data/uscuni-ulce/buildings_standardised/buildings_germany_{r}.pq')\n",
                "    break"
            ]
        },
        {
            "cell_type": "code",
            "execution_count": 23,
            "id": "e5a760ae-0b93-40aa-9d2a-1d4d581a6367",
            "metadata": {},
            "outputs": [
                {
                    "data": {
                        "text/plain": [
                            "array([9571224, 9571179, 9571136, ..., 9779130, 9779452, 9779180],\n",
                            "      dtype=int32)"
                        ]
                    },
                    "execution_count": 23,
                    "metadata": {},
                    "output_type": "execute_result"
                }
            ],
            "source": [
                "gdf['ags'].unique()"
            ]
        },
        {
            "cell_type": "code",
            "execution_count": null,
            "id": "e4ca9e06-ec95-4e63-be3c-bdb131136ecb",
            "metadata": {},
            "outputs": [],
            "source": []
        },
        {
            "cell_type": "code",
            "execution_count": null,
            "id": "beb828fb-e3f3-47cb-bae3-9e6ea137b0b9",
            "metadata": {},
            "outputs": [],
            "source": []
        },
        {
            "cell_type": "code",
            "execution_count": null,
            "id": "fd9fc447-19d0-4a47-9460-2d6ceb13b865",
            "metadata": {},
            "outputs": [],
            "source": []
        },
        {
            "cell_type": "code",
            "execution_count": null,
            "id": "126480d9-8aca-4571-94bc-7f369699260a",
            "metadata": {},
            "outputs": [],
            "source": []
        },
        {
            "cell_type": "code",
            "execution_count": null,
            "id": "e0613332-ab2b-45eb-8b05-9f0397816852",
            "metadata": {},
            "outputs": [],
            "source": [
                "# bad - hessen(waiting), mv(continue from where it broke)\n",
                "## sh(schesig hollstein is sg)"
            ]
        },
        {
            "cell_type": "code",
            "execution_count": 4,
            "id": "fcbed339-eb25-4d42-957f-5e3d1feaf9b0",
            "metadata": {},
            "outputs": [
                {
                    "data": {
                        "text/plain": [
                            "16"
                        ]
                    },
                    "execution_count": 4,
                    "metadata": {},
                    "output_type": "execute_result"
                }
            ],
            "source": [
                "ger_eubucco = '/data/uscuni-ulce/eubucco_raw/v0_1-DEU_*'\n",
                "\n",
                "len(ger_regions)"
            ]
        },
        {
            "cell_type": "code",
            "execution_count": null,
            "id": "ed8d4477-5061-435f-8035-b952a010d709",
            "metadata": {},
            "outputs": [],
            "source": []
        },
        {
            "cell_type": "code",
            "execution_count": 9,
            "id": "a6b00802-b7a1-40f5-b705-d9c65844b79d",
            "metadata": {},
            "outputs": [
                {
                    "data": {
                        "text/plain": [
                            "'bavaria'"
                        ]
                    },
                    "execution_count": 9,
                    "metadata": {},
                    "output_type": "execute_result"
                }
            ],
            "source": [
                "region = ger_regions[0]\n",
                "region"
            ]
        },
        {
            "cell_type": "code",
            "execution_count": 10,
            "id": "2cede520-e7de-410f-a496-a5ece7f775aa",
            "metadata": {},
            "outputs": [],
            "source": [
                "files = glob(f'{DATADIR}buildings_germany_{region}*')"
            ]
        },
        {
            "cell_type": "code",
            "execution_count": 11,
            "id": "aec7dce4-4685-4fc1-b337-3a1899010c0f",
            "metadata": {},
            "outputs": [
                {
                    "data": {
                        "text/plain": [
                            "['/data/uscuni-ulce/buildings_raw/buildings_germany_bavaria_mittelfranken.pq',\n",
                            " '/data/uscuni-ulce/buildings_raw/buildings_germany_bavaria_niederbayern.pq',\n",
                            " '/data/uscuni-ulce/buildings_raw/buildings_germany_bavaria_oberbayern.pq',\n",
                            " '/data/uscuni-ulce/buildings_raw/buildings_germany_bavaria_overfranken.pq',\n",
                            " '/data/uscuni-ulce/buildings_raw/buildings_germany_bavaria_overpfalz.pq',\n",
                            " '/data/uscuni-ulce/buildings_raw/buildings_germany_bavaria_schwaben.pq',\n",
                            " '/data/uscuni-ulce/buildings_raw/buildings_germany_bavaria_unterfranken.pq']"
                        ]
                    },
                    "execution_count": 11,
                    "metadata": {},
                    "output_type": "execute_result"
                }
            ],
            "source": [
                "sorted(files)[:10]"
            ]
        },
        {
            "cell_type": "code",
            "execution_count": 12,
            "id": "27e11644-629f-4ce5-9382-3e08dc617795",
            "metadata": {},
            "outputs": [
                {
                    "data": {
                        "text/plain": [
                            "7"
                        ]
                    },
                    "execution_count": 12,
                    "metadata": {},
                    "output_type": "execute_result"
                }
            ],
            "source": [
                "len(files)"
            ]
        },
        {
            "cell_type": "code",
            "execution_count": null,
            "id": "30c6ea65-db15-4c23-95a1-8d738005c94d",
            "metadata": {},
            "outputs": [],
            "source": []
        },
        {
            "cell_type": "code",
            "execution_count": 13,
            "id": "c5219cd8-ffc7-4525-a2ff-52357e77ce9c",
            "metadata": {},
            "outputs": [],
            "source": [
                "frames = []\n",
                "for f in files:\n",
                "    gdf = gpd.read_parquet(f)\n",
                "    if gdf.shape[0]:\n",
                "        frames.append(gdf.to_crs(epsg=3035))\n"
            ]
        },
        {
            "cell_type": "code",
            "execution_count": 59,
            "id": "0e2d9ecf-19f5-4526-af3b-7da65b1c92ba",
            "metadata": {},
            "outputs": [],
            "source": [
                "gdf = pd.concat(frames, ignore_index=True)\n",
                "# if 'gml_id' in gdf.columns:\n",
                "#     gdf = gdf[~gdf['gml_id'].duplicated()]\n",
                "# if 'oid' in gdf.columns:\n",
                "#     gdf = gdf[~gdf['oid'].duplicated()]"
            ]
        },
        {
            "cell_type": "code",
            "execution_count": 60,
            "id": "1d2525fa-56a4-4ea0-88d7-3833d0d5a83d",
            "metadata": {},
            "outputs": [
                {
                    "data": {
                        "text/plain": [
                            "(1400000, 13)"
                        ]
                    },
                    "execution_count": 60,
                    "metadata": {},
                    "output_type": "execute_result"
                }
            ],
            "source": [
                "gdf.shape"
            ]
        },
        {
            "cell_type": "code",
            "execution_count": 64,
            "id": "5b12ae94-ef68-4592-89bc-8f9a385ec2db",
            "metadata": {},
            "outputs": [
                {
                    "data": {
                        "text/plain": [
                            "(array(['Bauteil', 'Gebäude',\n",
                            "        'Sonstiges Bauwerk oder sonstige Einrichtung', 'Turm'],\n",
                            "       dtype=object),\n",
                            " array([  69560, 1313565,   16748,     127]))"
                        ]
                    },
                    "execution_count": 64,
                    "metadata": {},
                    "output_type": "execute_result"
                }
            ],
            "source": [
                "import numpy as np\n",
                "np.unique(gdf['gebnutzbez'], return_counts=True)"
            ]
        },
        {
            "cell_type": "code",
            "execution_count": null,
            "id": "d58066a6-a271-410d-8ab7-97dca6bd7eeb",
            "metadata": {},
            "outputs": [],
            "source": []
        },
        {
            "cell_type": "code",
            "execution_count": 13,
            "id": "c11088b1-7e74-42bd-ae48-b9a09b635cfc",
            "metadata": {},
            "outputs": [],
            "source": [
                "gdf.to_parquet(f'/data/uscuni-ulce/buildings_standardised/buildings_germany_{region}.pq')"
            ]
        },
        {
            "cell_type": "code",
            "execution_count": null,
            "id": "ee7b72d2-b4e8-4f7d-90ee-f74d9f7b278b",
            "metadata": {},
            "outputs": [],
            "source": []
        },
        {
            "cell_type": "code",
            "execution_count": null,
            "id": "a8c34b50-812d-4974-b2c9-9e3ed2ec4957",
            "metadata": {},
            "outputs": [],
            "source": []
        },
        {
            "cell_type": "code",
            "execution_count": null,
            "id": "8c812029-3b2e-416d-ab81-23ba49af5c28",
            "metadata": {},
            "outputs": [],
            "source": []
        },
        {
            "cell_type": "code",
            "execution_count": 20,
            "id": "460cc435-6c9b-4bb6-acd3-de068af25cbc",
            "metadata": {},
            "outputs": [],
            "source": [
                "import requests\n",
                "import re\n",
                "def get_size(url, params):\n",
                "    params = params.copy()\n",
                "    params['resultType'] = 'hits'\n",
                "    response = requests.get(url, params=params)\n",
                "    if response.status_code == 200:\n",
                "        size = re.findall(r'numberMatched=\"[0-9]+\"', str(response.content))\n",
                "        size = int(size[0].split('=')[-1][1:-1])\n",
                "        return size\n",
                "\n",
                "    return 'unknown'"
            ]
        },
        {
            "cell_type": "code",
            "execution_count": 21,
            "id": "03c0852d-88ba-4bf4-9fad-61d9cde44bdf",
            "metadata": {},
            "outputs": [
                {
                    "name": "stdout",
                    "output_type": "stream",
                    "text": [
                        "4997363\n"
                    ]
                }
            ],
            "source": [
                "params = {\n",
                "        \"SERVICE\": \"WFS\",\n",
                "        \"REQUEST\": \"GetFeature\",\n",
                "        \"TYPENAMES\": \"bu-core2d:Building\",\n",
                "        \"SRSNAME\": \"EPSG:4326\",\n",
                "        \"VERSION\": '2.0.0',\n",
                "    }\n",
                "url = 'https://inspire-hessen.de/ows/services/org.2.29e99e26-ab08-474a-92c4-9e8f6bc679ea_wfs?'\n",
                "\n",
                "size = get_size(url, params)\n",
                "print(size)"
            ]
        },
        {
            "cell_type": "code",
            "execution_count": null,
            "id": "333ee874-187d-4e63-85fb-5b42b93045bc",
            "metadata": {},
            "outputs": [],
            "source": []
        },
        {
            "cell_type": "code",
            "execution_count": 134,
            "id": "abe806f3-bc5f-47a9-ac69-c655b13b8642",
            "metadata": {},
            "outputs": [],
            "source": [
                "response = requests.get('https://www.geodaten-mv.de/dienste/inspire_au_alkis_download?SERVICE=WFS&REQUEST=Getfeature&typenames=au:AdministrativeUnit&VERSION=2.0.0')"
            ]
        },
        {
            "cell_type": "code",
            "execution_count": 135,
            "id": "650220f8-5f45-4320-b640-77cc8e03c0ad",
            "metadata": {},
            "outputs": [],
            "source": [
                "from io import BytesIO"
            ]
        },
        {
            "cell_type": "code",
            "execution_count": 143,
            "id": "314612b1-432f-44d7-b6c2-e81898d6af73",
            "metadata": {},
            "outputs": [
                {
                    "name": "stderr",
                    "output_type": "stream",
                    "text": [
                        "/home/krasen/miniconda3/envs/urban_taxonomy/lib/python3.12/site-packages/pyogrio/raw.py:196: RuntimeWarning: Field with same name (identifier) already exists in (AdministrativeUnit). Skipping newer ones\n",
                        "  return ogr_read(\n"
                    ]
                }
            ],
            "source": [
                "r = gpd.read_file(BytesIO(response.content))"
            ]
        },
        {
            "cell_type": "code",
            "execution_count": 145,
            "id": "3ea1127b-abe8-4fe9-9c07-b949b7209f7d",
            "metadata": {},
            "outputs": [
                {
                    "data": {
                        "text/plain": [
                            "array([      13,    13076,    13075,    13072,    13071,    13074,\n",
                            "          13073,    13004,    13003, 13076146, 13076147, 13076048,\n",
                            "       13076129, 13076153, 13076133, 13076044, 13076051, 13076056,\n",
                            "       13076085, 13076082, 13074084, 13076088, 13004000, 13076090,\n",
                            "       13076072, 13076089, 13076162, 13076075, 13076164, 13076077,\n",
                            "       13076118, 13076138, 13076107, 13076110, 13076105, 13076131,\n",
                            "       13076106, 13076136, 13076143, 13076145, 13076111, 13076141,\n",
                            "       13076097, 13076121, 13076115, 13076142, 13076094, 13076119,\n",
                            "       13076078, 13076023, 13076116, 13076024, 13076103, 13076130,\n",
                            "       13076102, 13076099, 13076032, 13076109, 13076098, 13076122,\n",
                            "       13076033, 13076112, 13076062, 13076113, 13076114, 13076026,\n",
                            "       13076101, 13076025, 13076080, 13076029, 13076108, 13076104,\n",
                            "       13076006, 13076079, 13076005, 13076087, 13076011, 13076020,\n",
                            "       13076007, 13076093, 13076015, 13076076, 13076073, 13076152,\n",
                            "       13076016, 13076148, 13076092, 13076014, 13076017, 13076071,\n",
                            "       13076018, 13076096, 13076120, 13076163, 13076100, 13076161,\n",
                            "       13076035, 13076125, 13076159, 13076038, 13076126, 13076156,\n",
                            "       13076068, 13076040, 13076128, 13076154, 13076117, 13076158,\n",
                            "       13076054, 13076086, 13076160, 13076055, 13076058, 13076057,\n",
                            "       13076050, 13076049, 13076053, 13076069, 13076067, 13076070,\n",
                            "       13076001, 13076155, 13076063, 13076060, 13076064, 13076065,\n",
                            "       13076010, 13076009, 13076140, 13076012, 13076013, 13076134,\n",
                            "       13076135, 13076002, 13076008, 13076151, 13076004, 13076030,\n",
                            "       13076027, 13076021, 13076019, 13076039, 13076037, 13076036,\n",
                            "       13076034, 13076046, 13076041, 13075027, 13075095, 13075089,\n",
                            "       13075093, 13075056, 13075111, 13075026, 13075103, 13075088,\n",
                            "       13075054, 13075110, 13075053, 13075050, 13075087, 13075109,\n",
                            "       13075004, 13075113, 13075002, 13075115, 13075117, 13075127,\n",
                            "       13075025, 13075104, 13075021, 13075023, 13075105, 13075022,\n",
                            "       13075107, 13075108, 13075032, 13075155, 13075119, 13075124,\n",
                            "       13075118, 13075125, 13075139, 13075138, 13075149, 13075126,\n",
                            "       13075143, 13075130, 13075029, 13075131, 13075097, 13075031,\n",
                            "       13075082, 13075098, 13075142, 13075059, 13075114, 13075116,\n",
                            "       13075076, 13075122, 13075120, 13075060, 13075121, 13075081,\n",
                            "       13075140, 13075123, 13075072, 13075094, 13075141, 13075154,\n",
                            "       13075070, 13075092, 13075009, 13075010, 13075074, 13075073,\n",
                            "       13075015, 13075036, 13075020, 13075013, 13075034, 13075040,\n",
                            "       13075018, 13075102, 13075129, 13075145, 13075101, 13075144,\n",
                            "       13075061, 13075134, 13075147, 13075106, 13075146, 13075065,\n",
                            "       13075137, 13075150, 13075069, 13075091, 13075068, 13075090,\n",
                            "       13075152, 13074005, 13074002, 13074048, 13074024, 13074089,\n",
                            "       13074060, 13074054, 13074092, 13074047, 13074070, 13074001,\n",
                            "       13074066, 13074032, 13074064, 13074067, 13074062, 13074033,\n",
                            "       13074008, 13074081, 13075012, 13075051, 13075048, 13075011,\n",
                            "       13075045, 13075001, 13075042, 13075037, 13075038, 13075035,\n",
                            "       13075033, 13075007, 13075008, 13075016, 13075055, 13075017,\n",
                            "       13075063, 13075085, 13075043, 13075084, 13075041, 13075046,\n",
                            "       13075078, 13075071, 13075044, 13075079, 13075006, 13075075,\n",
                            "       13075067, 13074039, 13074057, 13074042, 13074043, 13074012,\n",
                            "       13074090, 13074036, 13074009, 13074022, 13074003, 13074044,\n",
                            "       13074015, 13074014, 13074072, 13074075, 13074038, 13074071,\n",
                            "       13074079, 13074088, 13074016, 13074068, 13074065, 13074061,\n",
                            "       13074091, 13074019, 13074025, 13074031, 13074034, 13074052,\n",
                            "       13074006, 13074056, 13074013, 13074046, 13074074, 13074021,\n",
                            "       13074077, 13074085, 13074082, 13074040, 13074078, 13074069,\n",
                            "       13074080, 13074007, 13074030, 13074037, 13074073, 13074018,\n",
                            "       13074050, 13074076, 13074004, 13074020, 13074023, 13074027,\n",
                            "       13074087, 13074017, 13074026, 13074049, 13074028, 13074053,\n",
                            "       13073061, 13073060, 13073042, 13073037, 13073039, 13073029,\n",
                            "       13073044, 13073065, 13073025, 13073043, 13073032, 13073046,\n",
                            "       13073086, 13073012, 13073022, 13073057, 13073095, 13073101,\n",
                            "       13073106, 13073062, 13073083, 13073092, 13073078, 13073079,\n",
                            "       13073080, 13073081, 13073016, 13073035, 13073036, 13073033,\n",
                            "       13073034, 13073041, 13073019, 13073013, 13073045, 13073020,\n",
                            "       13073085, 13073009, 13073024, 13073088, 13073087, 13073015,\n",
                            "       13073023, 13073049, 13073052, 13073055, 13073018, 13073048,\n",
                            "       13073001, 13073014, 13073051, 13073063, 13073050, 13073064,\n",
                            "       13073053, 13073059, 13073054, 13073100, 13073066, 13073074,\n",
                            "       13073102, 13073073, 13073094, 13073005, 13073076, 13073096,\n",
                            "       13073007, 13073077, 13073097, 13073082, 13073098, 13073068,\n",
                            "       13073072, 13073089, 13073104, 13073071, 13073090, 13073070,\n",
                            "       13073093, 13073069, 13073099, 13073021, 13073028, 13073027,\n",
                            "       13073004, 13073003, 13073010, 13073038, 13072029, 13072081,\n",
                            "       13072094, 13072092, 13072101, 13072096, 13072120, 13072119,\n",
                            "       13072121, 13072080, 13072026, 13072077, 13072027, 13072076,\n",
                            "       13072028, 13072072, 13072031, 13072064, 13072033, 13072057,\n",
                            "       13072107, 13072118, 13072108, 13072102, 13072098, 13072097,\n",
                            "       13072087, 13072088, 13071041, 13071070, 13071048, 13071044,\n",
                            "       13071072, 13071074, 13071012, 13071065, 13071025, 13071032,\n",
                            "       13071042, 13071033, 13071039, 13071018, 13071057, 13071161,\n",
                            "       13071166, 13071022, 13071059, 13071071, 13071023, 13071034,\n",
                            "       13071073, 13071069, 13071013, 13071020, 13071003, 13071056,\n",
                            "       13071063, 13071047, 13071167, 13071001, 13071053, 13071045,\n",
                            "       13071162, 13071075, 13071159, 13071066, 13071153, 13071058,\n",
                            "       13071147, 13071054, 13071132, 13071130, 13071119, 13071105,\n",
                            "       13071100, 13071099, 13071083, 13071080, 13071026, 13071028,\n",
                            "       13071068, 13071127, 13071137, 13071128, 13071138, 13071123,\n",
                            "       13071124, 13071125, 13071133, 13071131, 13071143, 13071135,\n",
                            "       13071144, 13071060, 13071170, 13071027, 13071011, 13071029,\n",
                            "       13071064, 13071015, 13071140, 13071155, 13071154, 13071014,\n",
                            "       13071117, 13071050, 13071145, 13071016, 13071141, 13071156,\n",
                            "       13071006, 13071004, 13071104, 13071111, 13071008, 13071007,\n",
                            "       13071108, 13071055, 13071173, 13071002, 13071172, 13071067,\n",
                            "       13071174, 13071090, 13071043, 13071036, 13071077, 13071037,\n",
                            "       13071171, 13071035, 13071142, 13071146, 13071136, 13071139,\n",
                            "       13076165, 13071096, 13071113, 13071092, 13071089, 13071103,\n",
                            "       13071101, 13071120, 13071122, 13071112, 13071118, 13071115,\n",
                            "       13071102, 13071088, 13071169, 13071087, 13071078, 13071049,\n",
                            "       13071163, 13071081, 13071097, 13071076, 13071079, 13071150,\n",
                            "       13071148, 13071158, 13071157, 13071160, 13072006, 13072007,\n",
                            "       13072014, 13072008, 13072015, 13072048, 13072004, 13072117,\n",
                            "       13072019, 13072046, 13072003, 13072012, 13072009, 13072010,\n",
                            "       13072086, 13072099, 13072013, 13072039, 13072084, 13072114,\n",
                            "       13072079, 13072082, 13072113, 13072090, 13072041, 13072063,\n",
                            "       13072089, 13072116, 13072040, 13072043, 13072032, 13072034,\n",
                            "       13072042, 13072021, 13072045, 13072037, 13072058, 13072030,\n",
                            "       13072044, 13072066, 13072103, 13072053, 13072067, 13072104,\n",
                            "       13072055, 13072056, 13072069, 13072059, 13072071, 13072109,\n",
                            "       13072061, 13072073, 13072111, 13072062, 13072078, 13072112,\n",
                            "       13072038, 13072050, 13072049, 13072091, 13072074, 13072001,\n",
                            "       13072110, 13072024, 13072011, 13072002, 13072093, 13072095,\n",
                            "       13072047, 13072051, 13072018, 13072022, 13072020, 13072083,\n",
                            "       13072023, 13072005, 13071019, 13071021, 13071009, 13071010,\n",
                            "       13075128, 13074093, 13076166, 13076167, 13076003, 13076168,\n",
                            "       13071175, 13071176, 13074094, 13075156, 13076169, 13003000,\n",
                            "       13075005, 13075083, 13075058, 13075039, 13075133, 13075066,\n",
                            "       13075135, 13075148, 13075151, 13074035, 13075049, 13074010,\n",
                            "       13073084, 13073011, 13073017, 13073067, 13073002, 13073075,\n",
                            "       13073103, 13073031, 13073040, 13073006, 13072035, 13071005,\n",
                            "       13071164, 13071110, 13071107, 13071109, 13071093, 13072085,\n",
                            "       13072036, 13072106, 13072060, 13072075, 13075136, 13075080,\n",
                            "       13073105, 13073107, 13071084, 13075003, 13072017, 13072105,\n",
                            "       13073030], dtype=int32)"
                        ]
                    },
                    "execution_count": 145,
                    "metadata": {},
                    "output_type": "execute_result"
                }
            ],
            "source": [
                "r.nationalCode.values"
            ]
        },
        {
            "cell_type": "code",
            "execution_count": 153,
            "id": "82d5d37d-597d-468c-98ee-c4ffbb02b2dd",
            "metadata": {},
            "outputs": [
                {
                    "data": {
                        "text/plain": [
                            "'https://www.geodaten-mv.de/dienste/alkis_wfs_einfach?SERVICE=wfs&VERSION=2.0.0&REQUEST=GetFeature&CRS=urn%3Aogc%3Adef%3Acrs%3AEPSG%3A%3A25833&OUTPUTFORMAT=application%2Fx-zip-shapefile&STOREDQUERY_ID=http%3A%2F%2Frepository.gdi-de.org%2Fquery%2Fadv%2Fprodukt%2Falkis-vereinfacht%2F2.0%2Fflst-by-gemarkung&GEMARKUNGSNUMMER=13076146'"
                        ]
                    },
                    "execution_count": 153,
                    "metadata": {},
                    "output_type": "execute_result"
                }
            ],
            "source": [
                "code = 13076146\n",
                "dl_url = f'https://www.geodaten-mv.de/dienste/alkis_wfs_einfach?SERVICE=wfs&VERSION=2.0.0&REQUEST=GetFeature&CRS=urn%3Aogc%3Adef%3Acrs%3AEPSG%3A%3A25833&OUTPUTFORMAT=application%2Fx-zip-shapefile&STOREDQUERY_ID=http%3A%2F%2Frepository.gdi-de.org%2Fquery%2Fadv%2Fprodukt%2Falkis-vereinfacht%2F2.0%2Fflst-by-gemarkung&GEMARKUNGSNUMMER={code}'\n",
                "dl_url"
            ]
        },
        {
            "cell_type": "code",
            "execution_count": 154,
            "id": "9ae8df43-cd8d-46eb-bc70-a0d805128ab8",
            "metadata": {},
            "outputs": [],
            "source": [
                "!wget https://www.geodaten-mv.de/dienste/alkis_wfs_einfach?SERVICE=wfs&VERSION=2.0.0&REQUEST=GetFeature&CRS=urn%3Aogc%3Adef%3Acrs%3AEPSG%3A%3A25833&OUTPUTFORMAT=application%2Fx-zip-shapefile&STOREDQUERY_ID=http%3A%2F%2Frepository.gdi-de.org%2Fquery%2Fadv%2Fprodukt%2Falkis-vereinfacht%2F2.0%2Fflst-by-gemarkung&GEMARKUNGSNUMMER=13076146"
            ]
        },
        {
            "cell_type": "code",
            "execution_count": 147,
            "id": "3be36421-2795-46c6-b75e-1ca3712e7f30",
            "metadata": {},
            "outputs": [],
            "source": [
                "response = requests.get(dl_url)"
            ]
        },
        {
            "cell_type": "code",
            "execution_count": 148,
            "id": "12650cec-e030-43c3-aadc-f8912565b043",
            "metadata": {},
            "outputs": [
                {
                    "data": {
                        "text/plain": [
                            "200"
                        ]
                    },
                    "execution_count": 148,
                    "metadata": {},
                    "output_type": "execute_result"
                }
            ],
            "source": [
                "response.status_code"
            ]
        },
        {
            "cell_type": "code",
            "execution_count": null,
            "id": "844a900d-4afa-43a3-8cd1-ef4d885621df",
            "metadata": {},
            "outputs": [],
            "source": []
        },
        {
            "cell_type": "code",
            "execution_count": 152,
            "id": "2e51d95c-65c0-4657-ace8-e79545b5c178",
            "metadata": {},
            "outputs": [
                {
                    "ename": "DataSourceError",
                    "evalue": "'/vsizip//vsimem/371cb5c32a3141618558500fc084cb07.zip' not recognized as being in a supported file format. It might help to specify the correct driver explicitly by prefixing the file path with '<DRIVER>:', e.g. 'CSV:path'.",
                    "output_type": "error",
                    "traceback": [
                        "\u001b[0;31m---------------------------------------------------------------------------\u001b[0m",
                        "\u001b[0;31mDataSourceError\u001b[0m                           Traceback (most recent call last)",
                        "Cell \u001b[0;32mIn[152], line 1\u001b[0m\n\u001b[0;32m----> 1\u001b[0m gdf \u001b[38;5;241m=\u001b[39m \u001b[43mgpd\u001b[49m\u001b[38;5;241;43m.\u001b[39;49m\u001b[43mread_file\u001b[49m\u001b[43m(\u001b[49m\u001b[43mBytesIO\u001b[49m\u001b[43m(\u001b[49m\u001b[43mresponse\u001b[49m\u001b[38;5;241;43m.\u001b[39;49m\u001b[43mcontent\u001b[49m\u001b[43m)\u001b[49m\u001b[43m)\u001b[49m\n",
                        "File \u001b[0;32m~/geopandas/geopandas/io/file.py:294\u001b[0m, in \u001b[0;36m_read_file\u001b[0;34m(filename, bbox, mask, columns, rows, engine, **kwargs)\u001b[0m\n\u001b[1;32m    291\u001b[0m             from_bytes \u001b[38;5;241m=\u001b[39m \u001b[38;5;28;01mTrue\u001b[39;00m\n\u001b[1;32m    293\u001b[0m \u001b[38;5;28;01mif\u001b[39;00m engine \u001b[38;5;241m==\u001b[39m \u001b[38;5;124m\"\u001b[39m\u001b[38;5;124mpyogrio\u001b[39m\u001b[38;5;124m\"\u001b[39m:\n\u001b[0;32m--> 294\u001b[0m     \u001b[38;5;28;01mreturn\u001b[39;00m \u001b[43m_read_file_pyogrio\u001b[49m\u001b[43m(\u001b[49m\n\u001b[1;32m    295\u001b[0m \u001b[43m        \u001b[49m\u001b[43mfilename\u001b[49m\u001b[43m,\u001b[49m\u001b[43m \u001b[49m\u001b[43mbbox\u001b[49m\u001b[38;5;241;43m=\u001b[39;49m\u001b[43mbbox\u001b[49m\u001b[43m,\u001b[49m\u001b[43m \u001b[49m\u001b[43mmask\u001b[49m\u001b[38;5;241;43m=\u001b[39;49m\u001b[43mmask\u001b[49m\u001b[43m,\u001b[49m\u001b[43m \u001b[49m\u001b[43mcolumns\u001b[49m\u001b[38;5;241;43m=\u001b[39;49m\u001b[43mcolumns\u001b[49m\u001b[43m,\u001b[49m\u001b[43m \u001b[49m\u001b[43mrows\u001b[49m\u001b[38;5;241;43m=\u001b[39;49m\u001b[43mrows\u001b[49m\u001b[43m,\u001b[49m\u001b[43m \u001b[49m\u001b[38;5;241;43m*\u001b[39;49m\u001b[38;5;241;43m*\u001b[39;49m\u001b[43mkwargs\u001b[49m\n\u001b[1;32m    296\u001b[0m \u001b[43m    \u001b[49m\u001b[43m)\u001b[49m\n\u001b[1;32m    298\u001b[0m \u001b[38;5;28;01melif\u001b[39;00m engine \u001b[38;5;241m==\u001b[39m \u001b[38;5;124m\"\u001b[39m\u001b[38;5;124mfiona\u001b[39m\u001b[38;5;124m\"\u001b[39m:\n\u001b[1;32m    299\u001b[0m     \u001b[38;5;28;01mif\u001b[39;00m pd\u001b[38;5;241m.\u001b[39mapi\u001b[38;5;241m.\u001b[39mtypes\u001b[38;5;241m.\u001b[39mis_file_like(filename):\n",
                        "File \u001b[0;32m~/geopandas/geopandas/io/file.py:547\u001b[0m, in \u001b[0;36m_read_file_pyogrio\u001b[0;34m(path_or_bytes, bbox, mask, rows, **kwargs)\u001b[0m\n\u001b[1;32m    538\u001b[0m     warnings\u001b[38;5;241m.\u001b[39mwarn(\n\u001b[1;32m    539\u001b[0m         \u001b[38;5;124m\"\u001b[39m\u001b[38;5;124mThe \u001b[39m\u001b[38;5;124m'\u001b[39m\u001b[38;5;124minclude_fields\u001b[39m\u001b[38;5;124m'\u001b[39m\u001b[38;5;124m and \u001b[39m\u001b[38;5;124m'\u001b[39m\u001b[38;5;124mignore_fields\u001b[39m\u001b[38;5;124m'\u001b[39m\u001b[38;5;124m keywords are deprecated, and \u001b[39m\u001b[38;5;124m\"\u001b[39m\n\u001b[1;32m    540\u001b[0m         \u001b[38;5;124m\"\u001b[39m\u001b[38;5;124mwill be removed in a future release. You can use the \u001b[39m\u001b[38;5;124m'\u001b[39m\u001b[38;5;124mcolumns\u001b[39m\u001b[38;5;124m'\u001b[39m\u001b[38;5;124m keyword \u001b[39m\u001b[38;5;124m\"\u001b[39m\n\u001b[0;32m   (...)\u001b[0m\n\u001b[1;32m    543\u001b[0m         stacklevel\u001b[38;5;241m=\u001b[39m\u001b[38;5;241m3\u001b[39m,\n\u001b[1;32m    544\u001b[0m     )\n\u001b[1;32m    545\u001b[0m     kwargs[\u001b[38;5;124m\"\u001b[39m\u001b[38;5;124mcolumns\u001b[39m\u001b[38;5;124m\"\u001b[39m] \u001b[38;5;241m=\u001b[39m kwargs\u001b[38;5;241m.\u001b[39mpop(\u001b[38;5;124m\"\u001b[39m\u001b[38;5;124minclude_fields\u001b[39m\u001b[38;5;124m\"\u001b[39m)\n\u001b[0;32m--> 547\u001b[0m \u001b[38;5;28;01mreturn\u001b[39;00m \u001b[43mpyogrio\u001b[49m\u001b[38;5;241;43m.\u001b[39;49m\u001b[43mread_dataframe\u001b[49m\u001b[43m(\u001b[49m\u001b[43mpath_or_bytes\u001b[49m\u001b[43m,\u001b[49m\u001b[43m \u001b[49m\u001b[43mbbox\u001b[49m\u001b[38;5;241;43m=\u001b[39;49m\u001b[43mbbox\u001b[49m\u001b[43m,\u001b[49m\u001b[43m \u001b[49m\u001b[38;5;241;43m*\u001b[39;49m\u001b[38;5;241;43m*\u001b[39;49m\u001b[43mkwargs\u001b[49m\u001b[43m)\u001b[49m\n",
                        "File \u001b[0;32m~/miniconda3/envs/urban_taxonomy/lib/python3.12/site-packages/pyogrio/geopandas.py:261\u001b[0m, in \u001b[0;36mread_dataframe\u001b[0;34m(path_or_buffer, layer, encoding, columns, read_geometry, force_2d, skip_features, max_features, where, bbox, mask, fids, sql, sql_dialect, fid_as_index, use_arrow, on_invalid, arrow_to_pandas_kwargs, **kwargs)\u001b[0m\n\u001b[1;32m    256\u001b[0m \u001b[38;5;28;01mif\u001b[39;00m \u001b[38;5;129;01mnot\u001b[39;00m use_arrow:\n\u001b[1;32m    257\u001b[0m     \u001b[38;5;66;03m# For arrow, datetimes are read as is.\u001b[39;00m\n\u001b[1;32m    258\u001b[0m     \u001b[38;5;66;03m# For numpy IO, datetimes are read as string values to preserve timezone info\u001b[39;00m\n\u001b[1;32m    259\u001b[0m     \u001b[38;5;66;03m# as numpy does not directly support timezones.\u001b[39;00m\n\u001b[1;32m    260\u001b[0m     kwargs[\u001b[38;5;124m\"\u001b[39m\u001b[38;5;124mdatetime_as_string\u001b[39m\u001b[38;5;124m\"\u001b[39m] \u001b[38;5;241m=\u001b[39m \u001b[38;5;28;01mTrue\u001b[39;00m\n\u001b[0;32m--> 261\u001b[0m result \u001b[38;5;241m=\u001b[39m \u001b[43mread_func\u001b[49m\u001b[43m(\u001b[49m\n\u001b[1;32m    262\u001b[0m \u001b[43m    \u001b[49m\u001b[43mpath_or_buffer\u001b[49m\u001b[43m,\u001b[49m\n\u001b[1;32m    263\u001b[0m \u001b[43m    \u001b[49m\u001b[43mlayer\u001b[49m\u001b[38;5;241;43m=\u001b[39;49m\u001b[43mlayer\u001b[49m\u001b[43m,\u001b[49m\n\u001b[1;32m    264\u001b[0m \u001b[43m    \u001b[49m\u001b[43mencoding\u001b[49m\u001b[38;5;241;43m=\u001b[39;49m\u001b[43mencoding\u001b[49m\u001b[43m,\u001b[49m\n\u001b[1;32m    265\u001b[0m \u001b[43m    \u001b[49m\u001b[43mcolumns\u001b[49m\u001b[38;5;241;43m=\u001b[39;49m\u001b[43mcolumns\u001b[49m\u001b[43m,\u001b[49m\n\u001b[1;32m    266\u001b[0m \u001b[43m    \u001b[49m\u001b[43mread_geometry\u001b[49m\u001b[38;5;241;43m=\u001b[39;49m\u001b[43mread_geometry\u001b[49m\u001b[43m,\u001b[49m\n\u001b[1;32m    267\u001b[0m \u001b[43m    \u001b[49m\u001b[43mforce_2d\u001b[49m\u001b[38;5;241;43m=\u001b[39;49m\u001b[43mgdal_force_2d\u001b[49m\u001b[43m,\u001b[49m\n\u001b[1;32m    268\u001b[0m \u001b[43m    \u001b[49m\u001b[43mskip_features\u001b[49m\u001b[38;5;241;43m=\u001b[39;49m\u001b[43mskip_features\u001b[49m\u001b[43m,\u001b[49m\n\u001b[1;32m    269\u001b[0m \u001b[43m    \u001b[49m\u001b[43mmax_features\u001b[49m\u001b[38;5;241;43m=\u001b[39;49m\u001b[43mmax_features\u001b[49m\u001b[43m,\u001b[49m\n\u001b[1;32m    270\u001b[0m \u001b[43m    \u001b[49m\u001b[43mwhere\u001b[49m\u001b[38;5;241;43m=\u001b[39;49m\u001b[43mwhere\u001b[49m\u001b[43m,\u001b[49m\n\u001b[1;32m    271\u001b[0m \u001b[43m    \u001b[49m\u001b[43mbbox\u001b[49m\u001b[38;5;241;43m=\u001b[39;49m\u001b[43mbbox\u001b[49m\u001b[43m,\u001b[49m\n\u001b[1;32m    272\u001b[0m \u001b[43m    \u001b[49m\u001b[43mmask\u001b[49m\u001b[38;5;241;43m=\u001b[39;49m\u001b[43mmask\u001b[49m\u001b[43m,\u001b[49m\n\u001b[1;32m    273\u001b[0m \u001b[43m    \u001b[49m\u001b[43mfids\u001b[49m\u001b[38;5;241;43m=\u001b[39;49m\u001b[43mfids\u001b[49m\u001b[43m,\u001b[49m\n\u001b[1;32m    274\u001b[0m \u001b[43m    \u001b[49m\u001b[43msql\u001b[49m\u001b[38;5;241;43m=\u001b[39;49m\u001b[43msql\u001b[49m\u001b[43m,\u001b[49m\n\u001b[1;32m    275\u001b[0m \u001b[43m    \u001b[49m\u001b[43msql_dialect\u001b[49m\u001b[38;5;241;43m=\u001b[39;49m\u001b[43msql_dialect\u001b[49m\u001b[43m,\u001b[49m\n\u001b[1;32m    276\u001b[0m \u001b[43m    \u001b[49m\u001b[43mreturn_fids\u001b[49m\u001b[38;5;241;43m=\u001b[39;49m\u001b[43mfid_as_index\u001b[49m\u001b[43m,\u001b[49m\n\u001b[1;32m    277\u001b[0m \u001b[43m    \u001b[49m\u001b[38;5;241;43m*\u001b[39;49m\u001b[38;5;241;43m*\u001b[39;49m\u001b[43mkwargs\u001b[49m\u001b[43m,\u001b[49m\n\u001b[1;32m    278\u001b[0m \u001b[43m\u001b[49m\u001b[43m)\u001b[49m\n\u001b[1;32m    280\u001b[0m \u001b[38;5;28;01mif\u001b[39;00m use_arrow:\n\u001b[1;32m    281\u001b[0m     meta, table \u001b[38;5;241m=\u001b[39m result\n",
                        "File \u001b[0;32m~/miniconda3/envs/urban_taxonomy/lib/python3.12/site-packages/pyogrio/raw.py:196\u001b[0m, in \u001b[0;36mread\u001b[0;34m(path_or_buffer, layer, encoding, columns, read_geometry, force_2d, skip_features, max_features, where, bbox, mask, fids, sql, sql_dialect, return_fids, datetime_as_string, **kwargs)\u001b[0m\n\u001b[1;32m     56\u001b[0m \u001b[38;5;250m\u001b[39m\u001b[38;5;124;03m\"\"\"Read OGR data source into numpy arrays.\u001b[39;00m\n\u001b[1;32m     57\u001b[0m \n\u001b[1;32m     58\u001b[0m \u001b[38;5;124;03mIMPORTANT: non-linear geometry types (e.g., MultiSurface) are converted\u001b[39;00m\n\u001b[0;32m   (...)\u001b[0m\n\u001b[1;32m    191\u001b[0m \n\u001b[1;32m    192\u001b[0m \u001b[38;5;124;03m\"\"\"\u001b[39;00m\n\u001b[1;32m    194\u001b[0m dataset_kwargs \u001b[38;5;241m=\u001b[39m _preprocess_options_key_value(kwargs) \u001b[38;5;28;01mif\u001b[39;00m kwargs \u001b[38;5;28;01melse\u001b[39;00m {}\n\u001b[0;32m--> 196\u001b[0m \u001b[38;5;28;01mreturn\u001b[39;00m \u001b[43mogr_read\u001b[49m\u001b[43m(\u001b[49m\n\u001b[1;32m    197\u001b[0m \u001b[43m    \u001b[49m\u001b[43mget_vsi_path_or_buffer\u001b[49m\u001b[43m(\u001b[49m\u001b[43mpath_or_buffer\u001b[49m\u001b[43m)\u001b[49m\u001b[43m,\u001b[49m\n\u001b[1;32m    198\u001b[0m \u001b[43m    \u001b[49m\u001b[43mlayer\u001b[49m\u001b[38;5;241;43m=\u001b[39;49m\u001b[43mlayer\u001b[49m\u001b[43m,\u001b[49m\n\u001b[1;32m    199\u001b[0m \u001b[43m    \u001b[49m\u001b[43mencoding\u001b[49m\u001b[38;5;241;43m=\u001b[39;49m\u001b[43mencoding\u001b[49m\u001b[43m,\u001b[49m\n\u001b[1;32m    200\u001b[0m \u001b[43m    \u001b[49m\u001b[43mcolumns\u001b[49m\u001b[38;5;241;43m=\u001b[39;49m\u001b[43mcolumns\u001b[49m\u001b[43m,\u001b[49m\n\u001b[1;32m    201\u001b[0m \u001b[43m    \u001b[49m\u001b[43mread_geometry\u001b[49m\u001b[38;5;241;43m=\u001b[39;49m\u001b[43mread_geometry\u001b[49m\u001b[43m,\u001b[49m\n\u001b[1;32m    202\u001b[0m \u001b[43m    \u001b[49m\u001b[43mforce_2d\u001b[49m\u001b[38;5;241;43m=\u001b[39;49m\u001b[43mforce_2d\u001b[49m\u001b[43m,\u001b[49m\n\u001b[1;32m    203\u001b[0m \u001b[43m    \u001b[49m\u001b[43mskip_features\u001b[49m\u001b[38;5;241;43m=\u001b[39;49m\u001b[43mskip_features\u001b[49m\u001b[43m,\u001b[49m\n\u001b[1;32m    204\u001b[0m \u001b[43m    \u001b[49m\u001b[43mmax_features\u001b[49m\u001b[38;5;241;43m=\u001b[39;49m\u001b[43mmax_features\u001b[49m\u001b[43m \u001b[49m\u001b[38;5;129;43;01mor\u001b[39;49;00m\u001b[43m \u001b[49m\u001b[38;5;241;43m0\u001b[39;49m\u001b[43m,\u001b[49m\n\u001b[1;32m    205\u001b[0m \u001b[43m    \u001b[49m\u001b[43mwhere\u001b[49m\u001b[38;5;241;43m=\u001b[39;49m\u001b[43mwhere\u001b[49m\u001b[43m,\u001b[49m\n\u001b[1;32m    206\u001b[0m \u001b[43m    \u001b[49m\u001b[43mbbox\u001b[49m\u001b[38;5;241;43m=\u001b[39;49m\u001b[43mbbox\u001b[49m\u001b[43m,\u001b[49m\n\u001b[1;32m    207\u001b[0m \u001b[43m    \u001b[49m\u001b[43mmask\u001b[49m\u001b[38;5;241;43m=\u001b[39;49m\u001b[43m_mask_to_wkb\u001b[49m\u001b[43m(\u001b[49m\u001b[43mmask\u001b[49m\u001b[43m)\u001b[49m\u001b[43m,\u001b[49m\n\u001b[1;32m    208\u001b[0m \u001b[43m    \u001b[49m\u001b[43mfids\u001b[49m\u001b[38;5;241;43m=\u001b[39;49m\u001b[43mfids\u001b[49m\u001b[43m,\u001b[49m\n\u001b[1;32m    209\u001b[0m \u001b[43m    \u001b[49m\u001b[43msql\u001b[49m\u001b[38;5;241;43m=\u001b[39;49m\u001b[43msql\u001b[49m\u001b[43m,\u001b[49m\n\u001b[1;32m    210\u001b[0m \u001b[43m    \u001b[49m\u001b[43msql_dialect\u001b[49m\u001b[38;5;241;43m=\u001b[39;49m\u001b[43msql_dialect\u001b[49m\u001b[43m,\u001b[49m\n\u001b[1;32m    211\u001b[0m \u001b[43m    \u001b[49m\u001b[43mreturn_fids\u001b[49m\u001b[38;5;241;43m=\u001b[39;49m\u001b[43mreturn_fids\u001b[49m\u001b[43m,\u001b[49m\n\u001b[1;32m    212\u001b[0m \u001b[43m    \u001b[49m\u001b[43mdataset_kwargs\u001b[49m\u001b[38;5;241;43m=\u001b[39;49m\u001b[43mdataset_kwargs\u001b[49m\u001b[43m,\u001b[49m\n\u001b[1;32m    213\u001b[0m \u001b[43m    \u001b[49m\u001b[43mdatetime_as_string\u001b[49m\u001b[38;5;241;43m=\u001b[39;49m\u001b[43mdatetime_as_string\u001b[49m\u001b[43m,\u001b[49m\n\u001b[1;32m    214\u001b[0m \u001b[43m\u001b[49m\u001b[43m)\u001b[49m\n",
                        "File \u001b[0;32m~/miniconda3/envs/urban_taxonomy/lib/python3.12/site-packages/pyogrio/_io.pyx:1239\u001b[0m, in \u001b[0;36mpyogrio._io.ogr_read\u001b[0;34m()\u001b[0m\n",
                        "File \u001b[0;32m~/miniconda3/envs/urban_taxonomy/lib/python3.12/site-packages/pyogrio/_io.pyx:215\u001b[0m, in \u001b[0;36mpyogrio._io.ogr_open\u001b[0;34m()\u001b[0m\n",
                        "\u001b[0;31mDataSourceError\u001b[0m: '/vsizip//vsimem/371cb5c32a3141618558500fc084cb07.zip' not recognized as being in a supported file format. It might help to specify the correct driver explicitly by prefixing the file path with '<DRIVER>:', e.g. 'CSV:path'."
                    ]
                }
            ],
            "source": [
                "gdf = gpd.read_file(BytesIO(response.content))"
            ]
        },
        {
            "cell_type": "code",
            "execution_count": 6,
            "id": "256550ab-05f5-421a-a320-03d99298418e",
            "metadata": {},
            "outputs": [],
            "source": [
                "gdf = gpd.read_parquet(files[0])"
            ]
        },
        {
            "cell_type": "code",
            "execution_count": 18,
            "id": "d27adf0e-6c2e-4ffc-9357-7f5b49e8f0b5",
            "metadata": {},
            "outputs": [],
            "source": [
                "new_gdf = gdf.set_crs(epsg=25832).to_crs(epsg=3035)"
            ]
        },
        {
            "cell_type": "code",
            "execution_count": 21,
            "id": "0d6de034-2f67-4d23-9b34-1f210aaea07b",
            "metadata": {},
            "outputs": [],
            "source": [
                "# new_gdf.iloc[100000:101000].explore()"
            ]
        },
        {
            "cell_type": "code",
            "execution_count": null,
            "id": "521c517c-1533-4978-9ade-5655a002a922",
            "metadata": {},
            "outputs": [],
            "source": []
        },
        {
            "cell_type": "code",
            "execution_count": null,
            "id": "23122b4e-3478-4f8f-9a82-dbdbaade0f35",
            "metadata": {},
            "outputs": [],
            "source": []
        },
        {
            "cell_type": "code",
            "execution_count": 37,
            "id": "0ef4f9ce-47cb-4c23-8423-4893c6344dbc",
            "metadata": {},
            "outputs": [
                {
                    "ename": "KeyboardInterrupt",
                    "evalue": "",
                    "output_type": "error",
                    "traceback": [
                        "\u001b[0;31m---------------------------------------------------------------------------\u001b[0m",
                        "\u001b[0;31mKeyboardInterrupt\u001b[0m                         Traceback (most recent call last)",
                        "Cell \u001b[0;32mIn[37], line 3\u001b[0m\n\u001b[1;32m      1\u001b[0m frames \u001b[38;5;241m=\u001b[39m []\n\u001b[1;32m      2\u001b[0m \u001b[38;5;28;01mfor\u001b[39;00m f \u001b[38;5;129;01min\u001b[39;00m files:\n\u001b[0;32m----> 3\u001b[0m     frames\u001b[38;5;241m.\u001b[39mappend(\u001b[43mgpd\u001b[49m\u001b[38;5;241;43m.\u001b[39;49m\u001b[43mread_parquet\u001b[49m\u001b[43m(\u001b[49m\u001b[43mf\u001b[49m\u001b[43m)\u001b[49m\u001b[38;5;241;43m.\u001b[39;49m\u001b[43mto_crs\u001b[49m\u001b[43m(\u001b[49m\u001b[43mepsg\u001b[49m\u001b[38;5;241;43m=\u001b[39;49m\u001b[38;5;241;43m3035\u001b[39;49m\u001b[43m)\u001b[49m)\n\u001b[1;32m      4\u001b[0m gdf \u001b[38;5;241m=\u001b[39m pd\u001b[38;5;241m.\u001b[39mconcat(frames, ignore_index\u001b[38;5;241m=\u001b[39m\u001b[38;5;28;01mTrue\u001b[39;00m)\n",
                        "File \u001b[0;32m~/geopandas/geopandas/geodataframe.py:1702\u001b[0m, in \u001b[0;36mGeoDataFrame.to_crs\u001b[0;34m(self, crs, epsg, inplace)\u001b[0m\n\u001b[1;32m   1700\u001b[0m \u001b[38;5;28;01melse\u001b[39;00m:\n\u001b[1;32m   1701\u001b[0m     df \u001b[38;5;241m=\u001b[39m \u001b[38;5;28mself\u001b[39m\u001b[38;5;241m.\u001b[39mcopy()\n\u001b[0;32m-> 1702\u001b[0m geom \u001b[38;5;241m=\u001b[39m \u001b[43mdf\u001b[49m\u001b[38;5;241;43m.\u001b[39;49m\u001b[43mgeometry\u001b[49m\u001b[38;5;241;43m.\u001b[39;49m\u001b[43mto_crs\u001b[49m\u001b[43m(\u001b[49m\u001b[43mcrs\u001b[49m\u001b[38;5;241;43m=\u001b[39;49m\u001b[43mcrs\u001b[49m\u001b[43m,\u001b[49m\u001b[43m \u001b[49m\u001b[43mepsg\u001b[49m\u001b[38;5;241;43m=\u001b[39;49m\u001b[43mepsg\u001b[49m\u001b[43m)\u001b[49m\n\u001b[1;32m   1703\u001b[0m df\u001b[38;5;241m.\u001b[39mgeometry \u001b[38;5;241m=\u001b[39m geom\n\u001b[1;32m   1704\u001b[0m \u001b[38;5;28;01mif\u001b[39;00m \u001b[38;5;129;01mnot\u001b[39;00m inplace:\n",
                        "File \u001b[0;32m~/geopandas/geopandas/geoseries.py:1203\u001b[0m, in \u001b[0;36mGeoSeries.to_crs\u001b[0;34m(self, crs, epsg)\u001b[0m\n\u001b[1;32m   1124\u001b[0m \u001b[38;5;28;01mdef\u001b[39;00m \u001b[38;5;21mto_crs\u001b[39m(\n\u001b[1;32m   1125\u001b[0m     \u001b[38;5;28mself\u001b[39m, crs: Optional[Any] \u001b[38;5;241m=\u001b[39m \u001b[38;5;28;01mNone\u001b[39;00m, epsg: Optional[\u001b[38;5;28mint\u001b[39m] \u001b[38;5;241m=\u001b[39m \u001b[38;5;28;01mNone\u001b[39;00m\n\u001b[1;32m   1126\u001b[0m ) \u001b[38;5;241m-\u001b[39m\u001b[38;5;241m>\u001b[39m GeoSeries:\n\u001b[1;32m   1127\u001b[0m \u001b[38;5;250m    \u001b[39m\u001b[38;5;124;03m\"\"\"Returns a ``GeoSeries`` with all geometries transformed to a new\u001b[39;00m\n\u001b[1;32m   1128\u001b[0m \u001b[38;5;124;03m    coordinate reference system.\u001b[39;00m\n\u001b[1;32m   1129\u001b[0m \n\u001b[0;32m   (...)\u001b[0m\n\u001b[1;32m   1200\u001b[0m \n\u001b[1;32m   1201\u001b[0m \u001b[38;5;124;03m    \"\"\"\u001b[39;00m\n\u001b[1;32m   1202\u001b[0m     \u001b[38;5;28;01mreturn\u001b[39;00m GeoSeries(\n\u001b[0;32m-> 1203\u001b[0m         \u001b[38;5;28;43mself\u001b[39;49m\u001b[38;5;241;43m.\u001b[39;49m\u001b[43mvalues\u001b[49m\u001b[38;5;241;43m.\u001b[39;49m\u001b[43mto_crs\u001b[49m\u001b[43m(\u001b[49m\u001b[43mcrs\u001b[49m\u001b[38;5;241;43m=\u001b[39;49m\u001b[43mcrs\u001b[49m\u001b[43m,\u001b[49m\u001b[43m \u001b[49m\u001b[43mepsg\u001b[49m\u001b[38;5;241;43m=\u001b[39;49m\u001b[43mepsg\u001b[49m\u001b[43m)\u001b[49m, index\u001b[38;5;241m=\u001b[39m\u001b[38;5;28mself\u001b[39m\u001b[38;5;241m.\u001b[39mindex, name\u001b[38;5;241m=\u001b[39m\u001b[38;5;28mself\u001b[39m\u001b[38;5;241m.\u001b[39mname\n\u001b[1;32m   1204\u001b[0m     )\n",
                        "File \u001b[0;32m~/geopandas/geopandas/_compat.py:90\u001b[0m, in \u001b[0;36mrequires_pyproj.<locals>.wrapper\u001b[0;34m(*args, **kwargs)\u001b[0m\n\u001b[1;32m     84\u001b[0m \u001b[38;5;28;01mif\u001b[39;00m \u001b[38;5;129;01mnot\u001b[39;00m HAS_PYPROJ:\n\u001b[1;32m     85\u001b[0m     \u001b[38;5;28;01mraise\u001b[39;00m \u001b[38;5;167;01mImportError\u001b[39;00m(\n\u001b[1;32m     86\u001b[0m         \u001b[38;5;124mf\u001b[39m\u001b[38;5;124m\"\u001b[39m\u001b[38;5;124mThe \u001b[39m\u001b[38;5;124m'\u001b[39m\u001b[38;5;124mpyproj\u001b[39m\u001b[38;5;124m'\u001b[39m\u001b[38;5;124m package is required for \u001b[39m\u001b[38;5;132;01m{\u001b[39;00mfunc\u001b[38;5;241m.\u001b[39m\u001b[38;5;18m__name__\u001b[39m\u001b[38;5;132;01m}\u001b[39;00m\u001b[38;5;124m to work. \u001b[39m\u001b[38;5;124m\"\u001b[39m\n\u001b[1;32m     87\u001b[0m         \u001b[38;5;124m\"\u001b[39m\u001b[38;5;124mInstall it and initialize the object with a CRS before using it.\u001b[39m\u001b[38;5;124m\"\u001b[39m\n\u001b[1;32m     88\u001b[0m         \u001b[38;5;124mf\u001b[39m\u001b[38;5;124m\"\u001b[39m\u001b[38;5;130;01m\\n\u001b[39;00m\u001b[38;5;124mImporting pyproj resulted in: \u001b[39m\u001b[38;5;132;01m{\u001b[39;00mpyproj_import_error\u001b[38;5;132;01m}\u001b[39;00m\u001b[38;5;124m\"\u001b[39m\n\u001b[1;32m     89\u001b[0m     )\n\u001b[0;32m---> 90\u001b[0m \u001b[38;5;28;01mreturn\u001b[39;00m \u001b[43mfunc\u001b[49m\u001b[43m(\u001b[49m\u001b[38;5;241;43m*\u001b[39;49m\u001b[43margs\u001b[49m\u001b[43m,\u001b[49m\u001b[43m \u001b[49m\u001b[38;5;241;43m*\u001b[39;49m\u001b[38;5;241;43m*\u001b[39;49m\u001b[43mkwargs\u001b[49m\u001b[43m)\u001b[49m\n",
                        "File \u001b[0;32m~/geopandas/geopandas/array.py:1019\u001b[0m, in \u001b[0;36mGeometryArray.to_crs\u001b[0;34m(self, crs, epsg)\u001b[0m\n\u001b[1;32m   1015\u001b[0m     \u001b[38;5;28;01mreturn\u001b[39;00m \u001b[38;5;28mself\u001b[39m\n\u001b[1;32m   1017\u001b[0m transformer \u001b[38;5;241m=\u001b[39m TransformerFromCRS(\u001b[38;5;28mself\u001b[39m\u001b[38;5;241m.\u001b[39mcrs, crs, always_xy\u001b[38;5;241m=\u001b[39m\u001b[38;5;28;01mTrue\u001b[39;00m)\n\u001b[0;32m-> 1019\u001b[0m new_data \u001b[38;5;241m=\u001b[39m \u001b[43mtransform\u001b[49m\u001b[43m(\u001b[49m\u001b[38;5;28;43mself\u001b[39;49m\u001b[38;5;241;43m.\u001b[39;49m\u001b[43m_data\u001b[49m\u001b[43m,\u001b[49m\u001b[43m \u001b[49m\u001b[43mtransformer\u001b[49m\u001b[38;5;241;43m.\u001b[39;49m\u001b[43mtransform\u001b[49m\u001b[43m)\u001b[49m\n\u001b[1;32m   1020\u001b[0m \u001b[38;5;28;01mreturn\u001b[39;00m GeometryArray(new_data, crs\u001b[38;5;241m=\u001b[39mcrs)\n",
                        "File \u001b[0;32m~/geopandas/geopandas/array.py:1749\u001b[0m, in \u001b[0;36mtransform\u001b[0;34m(data, func)\u001b[0m\n\u001b[1;32m   1746\u001b[0m result \u001b[38;5;241m=\u001b[39m np\u001b[38;5;241m.\u001b[39mempty_like(data)\n\u001b[1;32m   1748\u001b[0m coords \u001b[38;5;241m=\u001b[39m shapely\u001b[38;5;241m.\u001b[39mget_coordinates(data[\u001b[38;5;241m~\u001b[39mhas_z], include_z\u001b[38;5;241m=\u001b[39m\u001b[38;5;28;01mFalse\u001b[39;00m)\n\u001b[0;32m-> 1749\u001b[0m new_coords_z \u001b[38;5;241m=\u001b[39m \u001b[43mfunc\u001b[49m\u001b[43m(\u001b[49m\u001b[43mcoords\u001b[49m\u001b[43m[\u001b[49m\u001b[43m:\u001b[49m\u001b[43m,\u001b[49m\u001b[43m \u001b[49m\u001b[38;5;241;43m0\u001b[39;49m\u001b[43m]\u001b[49m\u001b[43m,\u001b[49m\u001b[43m \u001b[49m\u001b[43mcoords\u001b[49m\u001b[43m[\u001b[49m\u001b[43m:\u001b[49m\u001b[43m,\u001b[49m\u001b[43m \u001b[49m\u001b[38;5;241;43m1\u001b[39;49m\u001b[43m]\u001b[49m\u001b[43m)\u001b[49m\n\u001b[1;32m   1750\u001b[0m result[\u001b[38;5;241m~\u001b[39mhas_z] \u001b[38;5;241m=\u001b[39m shapely\u001b[38;5;241m.\u001b[39mset_coordinates(\n\u001b[1;32m   1751\u001b[0m     data[\u001b[38;5;241m~\u001b[39mhas_z]\u001b[38;5;241m.\u001b[39mcopy(), np\u001b[38;5;241m.\u001b[39marray(new_coords_z)\u001b[38;5;241m.\u001b[39mT\n\u001b[1;32m   1752\u001b[0m )\n\u001b[1;32m   1754\u001b[0m coords_z \u001b[38;5;241m=\u001b[39m shapely\u001b[38;5;241m.\u001b[39mget_coordinates(data[has_z], include_z\u001b[38;5;241m=\u001b[39m\u001b[38;5;28;01mTrue\u001b[39;00m)\n",
                        "File \u001b[0;32m~/miniconda3/envs/urban_taxonomy/lib/python3.12/site-packages/pyproj/transformer.py:843\u001b[0m, in \u001b[0;36mTransformer.transform\u001b[0;34m(self, xx, yy, zz, tt, radians, errcheck, direction, inplace)\u001b[0m\n\u001b[1;32m    841\u001b[0m     intime \u001b[38;5;241m=\u001b[39m \u001b[38;5;28;01mNone\u001b[39;00m\n\u001b[1;32m    842\u001b[0m \u001b[38;5;66;03m# call pj_transform.  inx,iny,inz buffers modified in place.\u001b[39;00m\n\u001b[0;32m--> 843\u001b[0m \u001b[38;5;28;43mself\u001b[39;49m\u001b[38;5;241;43m.\u001b[39;49m\u001b[43m_transformer\u001b[49m\u001b[38;5;241;43m.\u001b[39;49m\u001b[43m_transform\u001b[49m\u001b[43m(\u001b[49m\n\u001b[1;32m    844\u001b[0m \u001b[43m    \u001b[49m\u001b[43minx\u001b[49m\u001b[38;5;241;43m=\u001b[39;49m\u001b[43minx\u001b[49m\u001b[43m,\u001b[49m\n\u001b[1;32m    845\u001b[0m \u001b[43m    \u001b[49m\u001b[43miny\u001b[49m\u001b[38;5;241;43m=\u001b[39;49m\u001b[43miny\u001b[49m\u001b[43m,\u001b[49m\n\u001b[1;32m    846\u001b[0m \u001b[43m    \u001b[49m\u001b[43minz\u001b[49m\u001b[38;5;241;43m=\u001b[39;49m\u001b[43minz\u001b[49m\u001b[43m,\u001b[49m\n\u001b[1;32m    847\u001b[0m \u001b[43m    \u001b[49m\u001b[43mintime\u001b[49m\u001b[38;5;241;43m=\u001b[39;49m\u001b[43mintime\u001b[49m\u001b[43m,\u001b[49m\n\u001b[1;32m    848\u001b[0m \u001b[43m    \u001b[49m\u001b[43mdirection\u001b[49m\u001b[38;5;241;43m=\u001b[39;49m\u001b[43mdirection\u001b[49m\u001b[43m,\u001b[49m\n\u001b[1;32m    849\u001b[0m \u001b[43m    \u001b[49m\u001b[43mradians\u001b[49m\u001b[38;5;241;43m=\u001b[39;49m\u001b[43mradians\u001b[49m\u001b[43m,\u001b[49m\n\u001b[1;32m    850\u001b[0m \u001b[43m    \u001b[49m\u001b[43merrcheck\u001b[49m\u001b[38;5;241;43m=\u001b[39;49m\u001b[43merrcheck\u001b[49m\u001b[43m,\u001b[49m\n\u001b[1;32m    851\u001b[0m \u001b[43m\u001b[49m\u001b[43m)\u001b[49m\n\u001b[1;32m    852\u001b[0m \u001b[38;5;66;03m# if inputs were lists, tuples or floats, convert back.\u001b[39;00m\n\u001b[1;32m    853\u001b[0m outx \u001b[38;5;241m=\u001b[39m _convertback(x_data_type, inx)\n",
                        "\u001b[0;31mKeyboardInterrupt\u001b[0m: "
                    ]
                }
            ],
            "source": [
                "frames = []\n",
                "for f in files:\n",
                "    frames.append(gpd.read_parquet(f).to_crs(epsg=3035))\n",
                "gdf = pd.concat(frames, ignore_index=True)"
            ]
        },
        {
            "cell_type": "code",
            "execution_count": null,
            "id": "2085bae9-25d0-4995-8963-bf0b0d475918",
            "metadata": {},
            "outputs": [],
            "source": [
                "gdf"
            ]
        },
        {
            "cell_type": "code",
            "execution_count": 10,
            "id": "c1852b1a-a1b4-454d-8bd4-cae83aa9c13b",
            "metadata": {},
            "outputs": [
                {
                    "data": {
                        "text/html": [
                            "<div>\n",
                            "<style scoped>\n",
                            "    .dataframe tbody tr th:only-of-type {\n",
                            "        vertical-align: middle;\n",
                            "    }\n",
                            "\n",
                            "    .dataframe tbody tr th {\n",
                            "        vertical-align: top;\n",
                            "    }\n",
                            "\n",
                            "    .dataframe thead th {\n",
                            "        text-align: right;\n",
                            "    }\n",
                            "</style>\n",
                            "<table border=\"1\" class=\"dataframe\">\n",
                            "  <thead>\n",
                            "    <tr style=\"text-align: right;\">\n",
                            "      <th></th>\n",
                            "      <th>gml_id</th>\n",
                            "      <th>identifier</th>\n",
                            "      <th>beginLifespanVersion</th>\n",
                            "      <th>localId</th>\n",
                            "      <th>namespace</th>\n",
                            "      <th>percentage</th>\n",
                            "      <th>referenceGeometry</th>\n",
                            "      <th>horizontalGeometryEstimatedAccuracy</th>\n",
                            "      <th>numberOfFloorsAboveGround</th>\n",
                            "      <th>end</th>\n",
                            "      <th>dateOfRenovation|DateOfEvent|end</th>\n",
                            "      <th>geometry</th>\n",
                            "    </tr>\n",
                            "  </thead>\n",
                            "  <tbody>\n",
                            "    <tr>\n",
                            "      <th>0</th>\n",
                            "      <td>Building_DEHHALKA3wT000D2</td>\n",
                            "      <td>https://registry.gdi-de.org/id/de.hh/e33c193f-...</td>\n",
                            "      <td>2018-05-24T08:48:56Z</td>\n",
                            "      <td>Building_DEHHALKA3wT000D2</td>\n",
                            "      <td>https://registry.gdi-de.org/id/de.hh/e33c193f-...</td>\n",
                            "      <td>None</td>\n",
                            "      <td>True</td>\n",
                            "      <td>None</td>\n",
                            "      <td>NaN</td>\n",
                            "      <td>None</td>\n",
                            "      <td>None</td>\n",
                            "      <td>MULTIPOLYGON (((581432.726 5919754.877, 581422...</td>\n",
                            "    </tr>\n",
                            "    <tr>\n",
                            "      <th>1</th>\n",
                            "      <td>Building_DEHHALKA3wT000D0</td>\n",
                            "      <td>https://registry.gdi-de.org/id/de.hh/e33c193f-...</td>\n",
                            "      <td>2018-05-24T08:48:56Z</td>\n",
                            "      <td>Building_DEHHALKA3wT000D0</td>\n",
                            "      <td>https://registry.gdi-de.org/id/de.hh/e33c193f-...</td>\n",
                            "      <td>None</td>\n",
                            "      <td>True</td>\n",
                            "      <td>None</td>\n",
                            "      <td>NaN</td>\n",
                            "      <td>None</td>\n",
                            "      <td>None</td>\n",
                            "      <td>MULTIPOLYGON (((581308.145 5919081.784, 581298...</td>\n",
                            "    </tr>\n",
                            "    <tr>\n",
                            "      <th>2</th>\n",
                            "      <td>Building_DEHHALKA3xh000Id</td>\n",
                            "      <td>https://registry.gdi-de.org/id/de.hh/e33c193f-...</td>\n",
                            "      <td>2018-05-31T10:07:45Z</td>\n",
                            "      <td>Building_DEHHALKA3xh000Id</td>\n",
                            "      <td>https://registry.gdi-de.org/id/de.hh/e33c193f-...</td>\n",
                            "      <td>None</td>\n",
                            "      <td>True</td>\n",
                            "      <td>None</td>\n",
                            "      <td>NaN</td>\n",
                            "      <td>None</td>\n",
                            "      <td>None</td>\n",
                            "      <td>MULTIPOLYGON (((581781.689 5918892.378, 581780...</td>\n",
                            "    </tr>\n",
                            "    <tr>\n",
                            "      <th>3</th>\n",
                            "      <td>Building_DEHHALKA3D1000Ih</td>\n",
                            "      <td>https://registry.gdi-de.org/id/de.hh/e33c193f-...</td>\n",
                            "      <td>2017-08-15T09:52:04Z</td>\n",
                            "      <td>Building_DEHHALKA3D1000Ih</td>\n",
                            "      <td>https://registry.gdi-de.org/id/de.hh/e33c193f-...</td>\n",
                            "      <td>None</td>\n",
                            "      <td>True</td>\n",
                            "      <td>None</td>\n",
                            "      <td>NaN</td>\n",
                            "      <td>None</td>\n",
                            "      <td>None</td>\n",
                            "      <td>MULTIPOLYGON (((580328.395 5918984.083, 580319...</td>\n",
                            "    </tr>\n",
                            "    <tr>\n",
                            "      <th>4</th>\n",
                            "      <td>Building_DEHHALKA3xh000Is</td>\n",
                            "      <td>https://registry.gdi-de.org/id/de.hh/e33c193f-...</td>\n",
                            "      <td>2018-05-31T10:07:45Z</td>\n",
                            "      <td>Building_DEHHALKA3xh000Is</td>\n",
                            "      <td>https://registry.gdi-de.org/id/de.hh/e33c193f-...</td>\n",
                            "      <td>None</td>\n",
                            "      <td>True</td>\n",
                            "      <td>None</td>\n",
                            "      <td>NaN</td>\n",
                            "      <td>None</td>\n",
                            "      <td>None</td>\n",
                            "      <td>MULTIPOLYGON (((581781.426 5918910.251, 581770...</td>\n",
                            "    </tr>\n",
                            "    <tr>\n",
                            "      <th>...</th>\n",
                            "      <td>...</td>\n",
                            "      <td>...</td>\n",
                            "      <td>...</td>\n",
                            "      <td>...</td>\n",
                            "      <td>...</td>\n",
                            "      <td>...</td>\n",
                            "      <td>...</td>\n",
                            "      <td>...</td>\n",
                            "      <td>...</td>\n",
                            "      <td>...</td>\n",
                            "      <td>...</td>\n",
                            "      <td>...</td>\n",
                            "    </tr>\n",
                            "    <tr>\n",
                            "      <th>454566</th>\n",
                            "      <td>Building_DEHHALKAn0007tva</td>\n",
                            "      <td>https://registry.gdi-de.org/id/de.hh/e33c193f-...</td>\n",
                            "      <td>2012-04-02T07:54:53Z</td>\n",
                            "      <td>Building_DEHHALKAn0007tva</td>\n",
                            "      <td>https://registry.gdi-de.org/id/de.hh/e33c193f-...</td>\n",
                            "      <td>None</td>\n",
                            "      <td>True</td>\n",
                            "      <td>None</td>\n",
                            "      <td>1.0</td>\n",
                            "      <td>None</td>\n",
                            "      <td>None</td>\n",
                            "      <td>MULTIPOLYGON (((462544.986 5977856.458, 462550...</td>\n",
                            "    </tr>\n",
                            "    <tr>\n",
                            "      <th>454567</th>\n",
                            "      <td>Building_DEHHALKA4YR00007</td>\n",
                            "      <td>https://registry.gdi-de.org/id/de.hh/e33c193f-...</td>\n",
                            "      <td>2019-01-11T05:21:25Z</td>\n",
                            "      <td>Building_DEHHALKA4YR00007</td>\n",
                            "      <td>https://registry.gdi-de.org/id/de.hh/e33c193f-...</td>\n",
                            "      <td>None</td>\n",
                            "      <td>True</td>\n",
                            "      <td>None</td>\n",
                            "      <td>1.0</td>\n",
                            "      <td>2017-12-31T23:00:00Z</td>\n",
                            "      <td>None</td>\n",
                            "      <td>MULTIPOLYGON (((463420.799 5979454.284, 463415...</td>\n",
                            "    </tr>\n",
                            "    <tr>\n",
                            "      <th>454568</th>\n",
                            "      <td>Building_DEHHALKA4YR00003</td>\n",
                            "      <td>https://registry.gdi-de.org/id/de.hh/e33c193f-...</td>\n",
                            "      <td>2019-07-03T13:37:37Z</td>\n",
                            "      <td>Building_DEHHALKA4YR00003</td>\n",
                            "      <td>https://registry.gdi-de.org/id/de.hh/e33c193f-...</td>\n",
                            "      <td>None</td>\n",
                            "      <td>True</td>\n",
                            "      <td>None</td>\n",
                            "      <td>1.0</td>\n",
                            "      <td>2017-12-31T23:00:00Z</td>\n",
                            "      <td>None</td>\n",
                            "      <td>MULTIPOLYGON (((463423.607 5979446.542, 463420...</td>\n",
                            "    </tr>\n",
                            "    <tr>\n",
                            "      <th>454569</th>\n",
                            "      <td>Building_DEHHALKAn0007tvb</td>\n",
                            "      <td>https://registry.gdi-de.org/id/de.hh/e33c193f-...</td>\n",
                            "      <td>2012-04-02T07:54:53Z</td>\n",
                            "      <td>Building_DEHHALKAn0007tvb</td>\n",
                            "      <td>https://registry.gdi-de.org/id/de.hh/e33c193f-...</td>\n",
                            "      <td>None</td>\n",
                            "      <td>True</td>\n",
                            "      <td>None</td>\n",
                            "      <td>1.0</td>\n",
                            "      <td>None</td>\n",
                            "      <td>None</td>\n",
                            "      <td>MULTIPOLYGON (((463251.829 5979353.284, 463242...</td>\n",
                            "    </tr>\n",
                            "    <tr>\n",
                            "      <th>454570</th>\n",
                            "      <td>Building_DEHHALKA4YR00005</td>\n",
                            "      <td>https://registry.gdi-de.org/id/de.hh/e33c193f-...</td>\n",
                            "      <td>2019-01-11T05:21:25Z</td>\n",
                            "      <td>Building_DEHHALKA4YR00005</td>\n",
                            "      <td>https://registry.gdi-de.org/id/de.hh/e33c193f-...</td>\n",
                            "      <td>None</td>\n",
                            "      <td>True</td>\n",
                            "      <td>None</td>\n",
                            "      <td>1.0</td>\n",
                            "      <td>2017-12-31T23:00:00Z</td>\n",
                            "      <td>None</td>\n",
                            "      <td>MULTIPOLYGON (((463418.131 5979449.839, 463412...</td>\n",
                            "    </tr>\n",
                            "  </tbody>\n",
                            "</table>\n",
                            "<p>454571 rows × 12 columns</p>\n",
                            "</div>"
                        ],
                        "text/plain": [
                            "                           gml_id  \\\n",
                            "0       Building_DEHHALKA3wT000D2   \n",
                            "1       Building_DEHHALKA3wT000D0   \n",
                            "2       Building_DEHHALKA3xh000Id   \n",
                            "3       Building_DEHHALKA3D1000Ih   \n",
                            "4       Building_DEHHALKA3xh000Is   \n",
                            "...                           ...   \n",
                            "454566  Building_DEHHALKAn0007tva   \n",
                            "454567  Building_DEHHALKA4YR00007   \n",
                            "454568  Building_DEHHALKA4YR00003   \n",
                            "454569  Building_DEHHALKAn0007tvb   \n",
                            "454570  Building_DEHHALKA4YR00005   \n",
                            "\n",
                            "                                               identifier  \\\n",
                            "0       https://registry.gdi-de.org/id/de.hh/e33c193f-...   \n",
                            "1       https://registry.gdi-de.org/id/de.hh/e33c193f-...   \n",
                            "2       https://registry.gdi-de.org/id/de.hh/e33c193f-...   \n",
                            "3       https://registry.gdi-de.org/id/de.hh/e33c193f-...   \n",
                            "4       https://registry.gdi-de.org/id/de.hh/e33c193f-...   \n",
                            "...                                                   ...   \n",
                            "454566  https://registry.gdi-de.org/id/de.hh/e33c193f-...   \n",
                            "454567  https://registry.gdi-de.org/id/de.hh/e33c193f-...   \n",
                            "454568  https://registry.gdi-de.org/id/de.hh/e33c193f-...   \n",
                            "454569  https://registry.gdi-de.org/id/de.hh/e33c193f-...   \n",
                            "454570  https://registry.gdi-de.org/id/de.hh/e33c193f-...   \n",
                            "\n",
                            "        beginLifespanVersion                    localId  \\\n",
                            "0       2018-05-24T08:48:56Z  Building_DEHHALKA3wT000D2   \n",
                            "1       2018-05-24T08:48:56Z  Building_DEHHALKA3wT000D0   \n",
                            "2       2018-05-31T10:07:45Z  Building_DEHHALKA3xh000Id   \n",
                            "3       2017-08-15T09:52:04Z  Building_DEHHALKA3D1000Ih   \n",
                            "4       2018-05-31T10:07:45Z  Building_DEHHALKA3xh000Is   \n",
                            "...                      ...                        ...   \n",
                            "454566  2012-04-02T07:54:53Z  Building_DEHHALKAn0007tva   \n",
                            "454567  2019-01-11T05:21:25Z  Building_DEHHALKA4YR00007   \n",
                            "454568  2019-07-03T13:37:37Z  Building_DEHHALKA4YR00003   \n",
                            "454569  2012-04-02T07:54:53Z  Building_DEHHALKAn0007tvb   \n",
                            "454570  2019-01-11T05:21:25Z  Building_DEHHALKA4YR00005   \n",
                            "\n",
                            "                                                namespace percentage  \\\n",
                            "0       https://registry.gdi-de.org/id/de.hh/e33c193f-...       None   \n",
                            "1       https://registry.gdi-de.org/id/de.hh/e33c193f-...       None   \n",
                            "2       https://registry.gdi-de.org/id/de.hh/e33c193f-...       None   \n",
                            "3       https://registry.gdi-de.org/id/de.hh/e33c193f-...       None   \n",
                            "4       https://registry.gdi-de.org/id/de.hh/e33c193f-...       None   \n",
                            "...                                                   ...        ...   \n",
                            "454566  https://registry.gdi-de.org/id/de.hh/e33c193f-...       None   \n",
                            "454567  https://registry.gdi-de.org/id/de.hh/e33c193f-...       None   \n",
                            "454568  https://registry.gdi-de.org/id/de.hh/e33c193f-...       None   \n",
                            "454569  https://registry.gdi-de.org/id/de.hh/e33c193f-...       None   \n",
                            "454570  https://registry.gdi-de.org/id/de.hh/e33c193f-...       None   \n",
                            "\n",
                            "        referenceGeometry horizontalGeometryEstimatedAccuracy  \\\n",
                            "0                    True                                None   \n",
                            "1                    True                                None   \n",
                            "2                    True                                None   \n",
                            "3                    True                                None   \n",
                            "4                    True                                None   \n",
                            "...                   ...                                 ...   \n",
                            "454566               True                                None   \n",
                            "454567               True                                None   \n",
                            "454568               True                                None   \n",
                            "454569               True                                None   \n",
                            "454570               True                                None   \n",
                            "\n",
                            "        numberOfFloorsAboveGround                   end  \\\n",
                            "0                             NaN                  None   \n",
                            "1                             NaN                  None   \n",
                            "2                             NaN                  None   \n",
                            "3                             NaN                  None   \n",
                            "4                             NaN                  None   \n",
                            "...                           ...                   ...   \n",
                            "454566                        1.0                  None   \n",
                            "454567                        1.0  2017-12-31T23:00:00Z   \n",
                            "454568                        1.0  2017-12-31T23:00:00Z   \n",
                            "454569                        1.0                  None   \n",
                            "454570                        1.0  2017-12-31T23:00:00Z   \n",
                            "\n",
                            "       dateOfRenovation|DateOfEvent|end  \\\n",
                            "0                                  None   \n",
                            "1                                  None   \n",
                            "2                                  None   \n",
                            "3                                  None   \n",
                            "4                                  None   \n",
                            "...                                 ...   \n",
                            "454566                             None   \n",
                            "454567                             None   \n",
                            "454568                             None   \n",
                            "454569                             None   \n",
                            "454570                             None   \n",
                            "\n",
                            "                                                 geometry  \n",
                            "0       MULTIPOLYGON (((581432.726 5919754.877, 581422...  \n",
                            "1       MULTIPOLYGON (((581308.145 5919081.784, 581298...  \n",
                            "2       MULTIPOLYGON (((581781.689 5918892.378, 581780...  \n",
                            "3       MULTIPOLYGON (((580328.395 5918984.083, 580319...  \n",
                            "4       MULTIPOLYGON (((581781.426 5918910.251, 581770...  \n",
                            "...                                                   ...  \n",
                            "454566  MULTIPOLYGON (((462544.986 5977856.458, 462550...  \n",
                            "454567  MULTIPOLYGON (((463420.799 5979454.284, 463415...  \n",
                            "454568  MULTIPOLYGON (((463423.607 5979446.542, 463420...  \n",
                            "454569  MULTIPOLYGON (((463251.829 5979353.284, 463242...  \n",
                            "454570  MULTIPOLYGON (((463418.131 5979449.839, 463412...  \n",
                            "\n",
                            "[454571 rows x 12 columns]"
                        ]
                    },
                    "execution_count": 10,
                    "metadata": {},
                    "output_type": "execute_result"
                }
            ],
            "source": [
                "gpd.read_parquet(f)"
            ]
        },
        {
            "cell_type": "code",
            "execution_count": null,
            "id": "f13a8e5a-d324-4aec-af67-0a87f5b094d0",
            "metadata": {},
            "outputs": [],
            "source": []
        },
        {
            "cell_type": "code",
            "execution_count": null,
            "id": "4f5db05d-bd6d-45c4-810f-3a60e51ed790",
            "metadata": {},
            "outputs": [],
            "source": []
        },
        {
            "cell_type": "code",
            "execution_count": null,
            "id": "76bc247b-4f40-4f6c-9d97-a3b7b1677c91",
            "metadata": {},
            "outputs": [],
            "source": []
        },
        {
            "cell_type": "code",
            "execution_count": null,
            "id": "0a09fb93-f6e5-448d-ad50-8e596fa6b831",
            "metadata": {},
            "outputs": [],
            "source": []
        }
    ],
    "metadata": {
        "kernelspec": {
            "display_name": "Python 3 (ipykernel)",
            "language": "python",
            "name": "python3"
        },
        "language_info": {
            "codemirror_mode": {
                "name": "ipython",
                "version": 3
            },
            "file_extension": ".py",
            "mimetype": "text/x-python",
            "name": "python",
            "nbconvert_exporter": "python",
            "pygments_lexer": "ipython3",
            "version": "3.12.5"
        }
    },
    "nbformat": 4,
    "nbformat_minor": 5
}