{
 "cells": [
  {
   "cell_type": "code",
   "execution_count": 5,
   "id": "6a3ae759-1dab-4454-b02a-193a56017b89",
   "metadata": {},
   "outputs": [],
   "source": [
    "import geopandas as gpd\n",
    "import lonboard\n",
    "from core.utils import used_keys\n",
    "from lonboard.colormap import apply_continuous_cmap\n",
    "import matplotlib as mpl\n",
    "from mapclassify import classify\n",
    "from sidecar import Sidecar"
   ]
  },
  {
   "cell_type": "code",
   "execution_count": 6,
   "id": "4934239e-9b65-4e6a-b3af-a73f94035282",
   "metadata": {},
   "outputs": [],
   "source": [
    "streets = gpd.read_parquet('/data/uscuni-ulce/overture_streets/streets_69333.pq')"
   ]
  },
  {
   "cell_type": "code",
   "execution_count": 21,
   "id": "f6dbdf31-4ef4-42dc-80cd-efd88c61242d",
   "metadata": {},
   "outputs": [],
   "source": [
    "streets = gpd.read_parquet('/data/uscuni-ulce/processed_data/streets/streets_69333.parquet')"
   ]
  },
  {
   "cell_type": "code",
   "execution_count": 22,
   "id": "deb99382-544b-4754-8a60-6c7550ba81f2",
   "metadata": {},
   "outputs": [],
   "source": [
    "streets.geometry = streets.make_valid()"
   ]
  },
  {
   "cell_type": "code",
   "execution_count": null,
   "id": "aeecb0b8-742a-492d-b4b9-295d59755779",
   "metadata": {},
   "outputs": [],
   "source": []
  },
  {
   "cell_type": "code",
   "execution_count": 23,
   "id": "031b7695-f2fe-4417-a0c3-11c557bee379",
   "metadata": {},
   "outputs": [],
   "source": [
    "layer = lonboard.PathLayer.from_geopandas(streets.to_crs(epsg=4326), width_min_pixels=1)"
   ]
  },
  {
   "cell_type": "code",
   "execution_count": 24,
   "id": "dc22ca5c-9e6b-419e-8a72-a27188c437f2",
   "metadata": {},
   "outputs": [],
   "source": [
    "sc = Sidecar(title='streets')"
   ]
  },
  {
   "cell_type": "code",
   "execution_count": 25,
   "id": "52447e92-3cef-4e82-982f-f0f4c87006e8",
   "metadata": {},
   "outputs": [],
   "source": [
    "m = lonboard.Map(layer)"
   ]
  },
  {
   "cell_type": "code",
   "execution_count": 26,
   "id": "2e8d13e9-c47f-4f73-930f-a9d884701d6e",
   "metadata": {},
   "outputs": [],
   "source": [
    "with sc:\n",
    "    display(m)"
   ]
  },
  {
   "cell_type": "code",
   "execution_count": null,
   "id": "20251c52-c257-4685-9fb6-ebd110c4ec09",
   "metadata": {},
   "outputs": [],
   "source": []
  },
  {
   "cell_type": "code",
   "execution_count": null,
   "id": "64923cbe-4876-41eb-bac5-f281c607aa8b",
   "metadata": {},
   "outputs": [],
   "source": []
  },
  {
   "cell_type": "code",
   "execution_count": null,
   "id": "4e33eef0-181a-4c9e-a6ad-1113b6fa72d3",
   "metadata": {},
   "outputs": [],
   "source": []
  }
 ],
 "metadata": {
  "kernelspec": {
   "display_name": "Python 3 (ipykernel)",
   "language": "python",
   "name": "python3"
  },
  "language_info": {
   "codemirror_mode": {
    "name": "ipython",
    "version": 3
   },
   "file_extension": ".py",
   "mimetype": "text/x-python",
   "name": "python",
   "nbconvert_exporter": "python",
   "pygments_lexer": "ipython3",
   "version": "3.12.8"
  }
 },
 "nbformat": 4,
 "nbformat_minor": 5
}
