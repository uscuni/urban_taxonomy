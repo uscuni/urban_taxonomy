{
 "cells": [
  {
   "cell_type": "code",
   "execution_count": 1,
   "id": "809f82c2-c458-477c-8611-1298522d1ce5",
   "metadata": {},
   "outputs": [],
   "source": [
    "import geopandas as gpd\n",
    "import momepy as mm\n",
    "from libpysal.graph import Graph, read_parquet"
   ]
  },
  {
   "cell_type": "code",
   "execution_count": 2,
   "id": "68cf4132-4ab1-40e7-ab1a-3019284b78a1",
   "metadata": {},
   "outputs": [],
   "source": [
    "region_id = 69333\n",
    "\n",
    "\n",
    "buildings_dir = '/data/uscuni-ulce/processed_data/buildings/'\n",
    "graph_dir = '/data/uscuni-ulce/processed_data/neigh_graphs/'"
   ]
  },
  {
   "cell_type": "code",
   "execution_count": 26,
   "id": "cff35c0f-6950-4843-addb-a56a4246815b",
   "metadata": {},
   "outputs": [],
   "source": [
    "buildings_dir = '/data/uscuni-ulce/processed_data/simplified_buildings/'"
   ]
  },
  {
   "cell_type": "code",
   "execution_count": null,
   "id": "5cd0eaea-bc16-4ff0-92b1-61494b0bbd80",
   "metadata": {},
   "outputs": [],
   "source": []
  },
  {
   "cell_type": "code",
   "execution_count": 31,
   "id": "912486b8-4f9b-4beb-b40b-ad76267fd93e",
   "metadata": {},
   "outputs": [],
   "source": [
    "buildings.reset_index(drop=True).to_parquet(f'/data/uscuni-ulce/processed_data/buildings/buildings_{region_id}.parquet')"
   ]
  },
  {
   "cell_type": "code",
   "execution_count": null,
   "id": "44b6ac2a-c8c0-4b02-b1e0-e2527a31a228",
   "metadata": {},
   "outputs": [],
   "source": []
  },
  {
   "cell_type": "code",
   "execution_count": 27,
   "id": "5fb9b729-0dd2-4b0f-9860-b096f5212b28",
   "metadata": {},
   "outputs": [],
   "source": [
    "buildings = gpd.read_parquet(buildings_dir + f\"buildings_{region_id}.parquet\")"
   ]
  },
  {
   "cell_type": "code",
   "execution_count": null,
   "id": "800eff6c-5c96-42c5-af3c-7658a270c97e",
   "metadata": {},
   "outputs": [],
   "source": []
  },
  {
   "cell_type": "code",
   "execution_count": null,
   "id": "62d5df2c-2943-4c88-8e81-14ef54131133",
   "metadata": {},
   "outputs": [],
   "source": []
  },
  {
   "cell_type": "code",
   "execution_count": null,
   "id": "22ce5df8-736f-4246-9321-8ba0ce889c02",
   "metadata": {},
   "outputs": [],
   "source": []
  },
  {
   "cell_type": "code",
   "execution_count": 7,
   "id": "3038aef2-bd9a-4039-8d5a-0f946eab3754",
   "metadata": {},
   "outputs": [],
   "source": [
    "buildings = gpd.read_parquet(buildings_dir + f\"buildings_{region_id}.parquet\")\n",
    "buildings_q1 = read_parquet(graph_dir + f\"building_graph_{region_id}.parquet\")"
   ]
  },
  {
   "cell_type": "code",
   "execution_count": null,
   "id": "822ea7c9-aa58-4b0d-8120-4920162810fc",
   "metadata": {},
   "outputs": [],
   "source": []
  },
  {
   "cell_type": "code",
   "execution_count": null,
   "id": "29cec7ca-bf2d-4b22-bf9d-47bd125ac18d",
   "metadata": {},
   "outputs": [],
   "source": []
  },
  {
   "cell_type": "code",
   "execution_count": 8,
   "id": "8f4f2042-0406-4f5c-91fc-140a77cfc9de",
   "metadata": {},
   "outputs": [],
   "source": [
    "# connected buildings count\n"
   ]
  },
  {
   "cell_type": "code",
   "execution_count": 9,
   "id": "69b319fe-c479-4c81-a2ec-00243054241f",
   "metadata": {},
   "outputs": [
    {
     "data": {
      "text/plain": [
       "focal   neighbor\n",
       "0       0           1\n",
       "1       1           1\n",
       "        3           1\n",
       "2       2           1\n",
       "        19          1\n",
       "                   ..\n",
       "457120  457120      1\n",
       "457121  457121      1\n",
       "457122  457122      1\n",
       "457123  457123      1\n",
       "457124  457124      1\n",
       "Name: weight, Length: 653007, dtype: int64"
      ]
     },
     "execution_count": 9,
     "metadata": {},
     "output_type": "execute_result"
    }
   ],
   "source": [
    "buildings_q1._adjacency"
   ]
  },
  {
   "cell_type": "code",
   "execution_count": 10,
   "id": "3234c3fb-4f11-4a91-a096-2d0fd30cd2b8",
   "metadata": {},
   "outputs": [],
   "source": [
    "from shapely import GeometryCollection\n",
    "from shapely import unary_union"
   ]
  },
  {
   "cell_type": "code",
   "execution_count": null,
   "id": "f0cb2b3e-ff38-46bf-990d-80bfd1177411",
   "metadata": {},
   "outputs": [],
   "source": []
  },
  {
   "cell_type": "code",
   "execution_count": 8,
   "id": "55e589dd-15f6-4ef0-82ad-8caf07ebf6f8",
   "metadata": {},
   "outputs": [],
   "source": [
    "connected_buildings = buildings.geometry.groupby(buildings_q1.component_labels).apply( lambda x: unary_union(x.values))"
   ]
  },
  {
   "cell_type": "code",
   "execution_count": 9,
   "id": "b4ecf6af-056d-4726-8bda-cd8f16f2d3fe",
   "metadata": {},
   "outputs": [],
   "source": [
    "connected_buildings = connected_buildings.set_crs(epsg=3035).buffer(.1).normalize().make_valid()"
   ]
  },
  {
   "cell_type": "code",
   "execution_count": 10,
   "id": "4446550e-e921-4fda-bc27-e6486ca56db4",
   "metadata": {},
   "outputs": [
    {
     "data": {
      "text/plain": [
       "np.True_"
      ]
     },
     "execution_count": 10,
     "metadata": {},
     "output_type": "execute_result"
    }
   ],
   "source": [
    "connected_buildings.is_valid.all()"
   ]
  },
  {
   "cell_type": "code",
   "execution_count": null,
   "id": "d9ac7259-be6a-4d4e-acd7-ce71f27ea921",
   "metadata": {},
   "outputs": [],
   "source": []
  },
  {
   "cell_type": "code",
   "execution_count": 11,
   "id": "ac7d5003-7230-4bc6-a455-ac4f28247147",
   "metadata": {},
   "outputs": [
    {
     "data": {
      "text/plain": [
       "component labels\n",
       "0          50.265274\n",
       "1          92.868932\n",
       "2          87.794672\n",
       "3          66.110550\n",
       "4         104.499251\n",
       "             ...    \n",
       "367097     25.337530\n",
       "367098     15.981284\n",
       "367099     36.778758\n",
       "367100     43.070813\n",
       "367101     23.713898\n",
       "Length: 367102, dtype: float64"
      ]
     },
     "execution_count": 11,
     "metadata": {},
     "output_type": "execute_result"
    }
   ],
   "source": [
    "connected_buildings.length"
   ]
  },
  {
   "cell_type": "code",
   "execution_count": 12,
   "id": "5277605f-d9e7-479c-8a48-67b1c1ddd9a6",
   "metadata": {},
   "outputs": [
    {
     "data": {
      "text/plain": [
       "focal\n",
       "0              0\n",
       "1              1\n",
       "2              2\n",
       "3              1\n",
       "4              3\n",
       "           ...  \n",
       "457120    367097\n",
       "457121    367098\n",
       "457122    367099\n",
       "457123    367100\n",
       "457124    367101\n",
       "Name: component labels, Length: 457125, dtype: int32"
      ]
     },
     "execution_count": 12,
     "metadata": {},
     "output_type": "execute_result"
    }
   ],
   "source": [
    "buildings_q1.component_labels"
   ]
  },
  {
   "cell_type": "code",
   "execution_count": null,
   "id": "d8e5164a-cf9e-4c7a-b41c-c778c2e40e3d",
   "metadata": {},
   "outputs": [],
   "source": []
  },
  {
   "cell_type": "code",
   "execution_count": 13,
   "id": "d992d8b2-ecba-416e-8cfe-e73697fef031",
   "metadata": {},
   "outputs": [],
   "source": [
    "import pandas as pd\n",
    "\n",
    "\n",
    "comps = buildings_q1.component_labels\n",
    "cardinalities = comps.value_counts()\n",
    "lens = connected_buildings.length\n",
    "areas = connected_buildings.area"
   ]
  },
  {
   "cell_type": "code",
   "execution_count": null,
   "id": "83577faa-9a49-4736-978f-020a7a908540",
   "metadata": {},
   "outputs": [],
   "source": []
  },
  {
   "cell_type": "code",
   "execution_count": 14,
   "id": "0880291f-488a-46df-acaf-e9632be3305f",
   "metadata": {},
   "outputs": [
    {
     "name": "stdout",
     "output_type": "stream",
     "text": [
      "CPU times: user 58.8 s, sys: 10.8 ms, total: 58.8 s\n",
      "Wall time: 58.8 s\n"
     ]
    }
   ],
   "source": [
    "%%time\n",
    "elos = mm.elongation(connected_buildings)\n",
    "eris = mm.equivalent_rectangular_index(connected_buildings)\n",
    "ccos = mm.circular_compactness(connected_buildings)\n",
    "lals = mm.longest_axis_length(connected_buildings)"
   ]
  },
  {
   "cell_type": "code",
   "execution_count": 18,
   "id": "dd4b15d5-cc6b-44a3-bdbc-c8aad6ab5c2f",
   "metadata": {},
   "outputs": [],
   "source": []
  },
  {
   "cell_type": "code",
   "execution_count": 15,
   "id": "0f887c66-d759-4ffc-a009-be1ff62f0c6a",
   "metadata": {},
   "outputs": [],
   "source": [
    "buildings.loc[comps.index.values, 'mibCou'] = cardinalities.loc[comps.values].values\n",
    "\n",
    "buildings.loc[comps.index.values, 'mibLen'] = lens.loc[comps.values].values\n",
    "\n",
    "buildings.loc[comps.index.values, 'mibAre'] = areas.loc[comps.values].values"
   ]
  },
  {
   "cell_type": "code",
   "execution_count": null,
   "id": "91edeca4-a5fd-44c7-8ca9-baaa65432dee",
   "metadata": {},
   "outputs": [],
   "source": []
  },
  {
   "cell_type": "code",
   "execution_count": 16,
   "id": "572d090a-939d-49e6-96a5-9ec12398dc5b",
   "metadata": {},
   "outputs": [],
   "source": [
    "buildings.loc[comps.index.values, 'mibElo'] = elos.loc[comps.values].values\n",
    "\n",
    "buildings.loc[comps.index.values, 'mibERI'] = eris.loc[comps.values].values\n",
    "\n",
    "buildings.loc[comps.index.values, 'mibCCo'] = ccos.loc[comps.values].values\n",
    "\n",
    "buildings.loc[comps.index.values, 'mibLAL'] = lals.loc[comps.values].values\n"
   ]
  },
  {
   "cell_type": "code",
   "execution_count": 41,
   "id": "a70bdb13-e961-45de-a81a-c3316daa2973",
   "metadata": {},
   "outputs": [],
   "source": [
    "fr = mm.facade_ratio(connected_buildings)\n",
    "buildings.loc[comps.index.values, 'mibFR'] = fr.loc[comps.values].values"
   ]
  },
  {
   "cell_type": "code",
   "execution_count": 42,
   "id": "db408175-ebf1-4b3e-88b1-e4e63e6f9e36",
   "metadata": {},
   "outputs": [],
   "source": [
    "sco = mm.square_compactness(connected_buildings)\n",
    "buildings.loc[comps.index.values, 'mibSCO'] = sco.loc[comps.values].values\n"
   ]
  },
  {
   "cell_type": "code",
   "execution_count": 55,
   "id": "973091db-15a5-4e7a-9681-ff4a13245077",
   "metadata": {},
   "outputs": [],
   "source": [
    "# fd =  mm.fractal_dimension(connected_buildings)\n",
    "# buildings.loc[comps.index.values, 'mibFD'] = fd.loc[comps.values].values\n"
   ]
  },
  {
   "cell_type": "code",
   "execution_count": 45,
   "id": "1e4fa975-1ad6-4ecd-8b45-c0d7188e5303",
   "metadata": {},
   "outputs": [],
   "source": [
    "# sq =  mm.squareness(connected_buildings)\n",
    "# buildings.loc[comps.index.values, 'mibSqu'] = sq.loc[comps.values].values"
   ]
  },
  {
   "cell_type": "code",
   "execution_count": null,
   "id": "6c8b3082-5b40-47a2-a147-1c6d4ab19a23",
   "metadata": {},
   "outputs": [],
   "source": []
  },
  {
   "cell_type": "code",
   "execution_count": null,
   "id": "82eabe46-f0a8-4c28-bca4-4930a33a0687",
   "metadata": {},
   "outputs": [],
   "source": []
  },
  {
   "cell_type": "code",
   "execution_count": 14,
   "id": "0e98b600-93ef-44fc-a5b0-920cbf5484dc",
   "metadata": {},
   "outputs": [],
   "source": [
    "plotting = buildings[buildings.area > 1_000]"
   ]
  },
  {
   "cell_type": "code",
   "execution_count": 15,
   "id": "fc3ffba2-f743-402d-aa70-06729e8ae62f",
   "metadata": {},
   "outputs": [
    {
     "name": "stderr",
     "output_type": "stream",
     "text": [
      "/home/krasen/urban_taxonomy/.pixi/envs/default/lib/python3.12/site-packages/lonboard/_geoarrow/ops/reproject.py:97: UserWarning: Input being reprojected to EPSG:4326 CRS\n",
      "  warnings.warn(\"Input being reprojected to EPSG:4326 CRS\")\n"
     ]
    }
   ],
   "source": [
    "import lonboard\n",
    "\n",
    "\n",
    "layer = lonboard.PolygonLayer.from_geopandas(plotting, opacity=.3)"
   ]
  },
  {
   "cell_type": "code",
   "execution_count": 16,
   "id": "953d9f31-1233-4870-bd88-97d1ea8da4fd",
   "metadata": {},
   "outputs": [],
   "source": [
    "from sidecar import Sidecar\n",
    "sc = Sidecar(title='buildings')\n",
    "m = lonboard.Map(layer)\n",
    "with sc:\n",
    "    display(m)"
   ]
  },
  {
   "cell_type": "code",
   "execution_count": null,
   "id": "92418a7f-71cc-44f9-b211-5e1b4e2e4106",
   "metadata": {},
   "outputs": [],
   "source": []
  },
  {
   "cell_type": "code",
   "execution_count": 58,
   "id": "881ea733-c83d-4c2f-99a7-5ba16bea3b5a",
   "metadata": {},
   "outputs": [],
   "source": [
    "column = 'mibSCO'"
   ]
  },
  {
   "cell_type": "code",
   "execution_count": 59,
   "id": "d438f2db-c5d7-4b25-9ec1-ca886d1374b0",
   "metadata": {},
   "outputs": [],
   "source": [
    "from mapclassify import classify\n",
    "import matplotlib as mpl\n",
    "from lonboard.colormap import apply_continuous_cmap\n",
    "import numpy as np\n",
    "\n",
    "classifier = classify(plotting[column], 'quantiles', k=20)\n",
    "normalizer = mpl.colors.Normalize(0, classifier.bins.shape[0])\n",
    "vals = normalizer(classifier.yb)\n",
    "layer.get_fill_color = apply_continuous_cmap(vals, mpl.colormaps['viridis'])"
   ]
  },
  {
   "cell_type": "code",
   "execution_count": null,
   "id": "3341963e-90cd-421b-a1cb-69ca8cdf1710",
   "metadata": {},
   "outputs": [],
   "source": []
  },
  {
   "cell_type": "code",
   "execution_count": null,
   "id": "a866be02-58e2-4f31-bc08-4d5fc6bd3edf",
   "metadata": {},
   "outputs": [],
   "source": []
  },
  {
   "cell_type": "code",
   "execution_count": null,
   "id": "590ffb08-0d64-485b-8965-e78e28d1a6a2",
   "metadata": {},
   "outputs": [],
   "source": []
  },
  {
   "cell_type": "code",
   "execution_count": null,
   "id": "eaffcf62-2587-4653-b2c1-537f4836aa48",
   "metadata": {},
   "outputs": [],
   "source": []
  },
  {
   "cell_type": "code",
   "execution_count": 34,
   "id": "ac854fa2-016b-4a81-8a9b-ea2b73cd3095",
   "metadata": {},
   "outputs": [
    {
     "data": {
      "text/plain": [
       "neighbor\n",
       "178869    1\n",
       "179235    1\n",
       "Name: weight, dtype: int64"
      ]
     },
     "execution_count": 34,
     "metadata": {},
     "output_type": "execute_result"
    }
   ],
   "source": [
    "buildings_q1[179235]"
   ]
  },
  {
   "cell_type": "code",
   "execution_count": null,
   "id": "c8de63b9-08f3-4889-8b1a-e83847a57bbc",
   "metadata": {},
   "outputs": [],
   "source": []
  },
  {
   "cell_type": "code",
   "execution_count": 70,
   "id": "14d51d87-0fd8-49c2-b810-aa02d023f337",
   "metadata": {},
   "outputs": [
    {
     "data": {
      "text/plain": [
       "focal\n",
       "0         0.506705\n",
       "1         0.658297\n",
       "2         0.753207\n",
       "3         0.658297\n",
       "4         0.304004\n",
       "            ...   \n",
       "457120    0.280867\n",
       "457121    0.719019\n",
       "457122    0.477450\n",
       "457123    0.582264\n",
       "457124    0.793982\n",
       "Name: elongation, Length: 457125, dtype: float64"
      ]
     },
     "execution_count": 70,
     "metadata": {},
     "output_type": "execute_result"
    }
   ],
   "source": [
    "### add connected buildings buildings shapes\n",
    "buildings = gpd.read_parquet(buildings_dir + f\"buildings_{region_id}.parquet\")\n",
    "buildings_q1 = read_parquet(graph_dir + f\"building_graph_{region_id}.parquet\")\n",
    "\n",
    "connected_buildings = buildings_q1.apply(\n",
    "    buildings.geometry.values, lambda x: GeometryCollection(x.values)\n",
    ")\n",
    "connected_buildings = gpd.GeoSeries(connected_buildings)\n",
    "\n",
    "buildings['mibCou'] = buildings_q1.cardinalities\n",
    "buildings['mibElo'] = mm.elongation(connected_buildings)\n",
    "buildings['mibERI'] = mm.equivalent_rectangular_index(connected_buildings)\n",
    "buildings['mibCCo'] = mm.circular_compactness(connected_buildings)\n",
    "buildings['mibLAL'] = mm.longest_axis_length(connected_buildings)\n"
   ]
  },
  {
   "cell_type": "code",
   "execution_count": null,
   "id": "52873952-e832-47b7-a580-8d105ccb253a",
   "metadata": {},
   "outputs": [],
   "source": []
  },
  {
   "cell_type": "code",
   "execution_count": null,
   "id": "dff11260-363b-412d-8d06-564a4d90b3b0",
   "metadata": {},
   "outputs": [],
   "source": []
  },
  {
   "cell_type": "code",
   "execution_count": null,
   "id": "26f8bc47-3d69-474c-9164-899f46ced0c0",
   "metadata": {},
   "outputs": [],
   "source": []
  },
  {
   "cell_type": "code",
   "execution_count": null,
   "id": "c000359e-78f4-429e-829e-45cf321fe90e",
   "metadata": {},
   "outputs": [],
   "source": []
  }
 ],
 "metadata": {
  "kernelspec": {
   "display_name": "Python 3 (ipykernel)",
   "language": "python",
   "name": "python3"
  },
  "language_info": {
   "codemirror_mode": {
    "name": "ipython",
    "version": 3
   },
   "file_extension": ".py",
   "mimetype": "text/x-python",
   "name": "python",
   "nbconvert_exporter": "python",
   "pygments_lexer": "ipython3",
   "version": "3.12.5"
  }
 },
 "nbformat": 4,
 "nbformat_minor": 5
}
