{
 "cells": [
  {
   "cell_type": "code",
   "execution_count": 1,
   "id": "a9842b2c-efa3-421d-aa94-4b2cc706993b",
   "metadata": {},
   "outputs": [],
   "source": [
    "\n",
    "import numpy as np\n",
    "import pandas as pd"
   ]
  },
  {
   "cell_type": "code",
   "execution_count": 2,
   "id": "7455277a-b25f-4bc1-9eb2-30eebf30688c",
   "metadata": {},
   "outputs": [],
   "source": [
    "import glob"
   ]
  },
  {
   "cell_type": "code",
   "execution_count": null,
   "id": "bc64bca0-d6be-4a76-8724-7debfa7040f0",
   "metadata": {},
   "outputs": [],
   "source": []
  },
  {
   "cell_type": "code",
   "execution_count": null,
   "id": "7f940ddb-4111-4d6d-988c-370944c91b4a",
   "metadata": {},
   "outputs": [],
   "source": []
  },
  {
   "cell_type": "code",
   "execution_count": 3,
   "id": "412be963-e248-4f53-bf63-73557c3c1b84",
   "metadata": {},
   "outputs": [],
   "source": [
    "centroid_files = glob.glob(\"/data/uscuni-ulce/centroids/*.parquet\")"
   ]
  },
  {
   "cell_type": "code",
   "execution_count": 21,
   "id": "4854bf7b-52b0-4983-9bf6-eccb4e20ca53",
   "metadata": {},
   "outputs": [],
   "source": [
    "res = None\n",
    "\n",
    "for f in centroid_files:\n",
    "    df = pd.read_parquet(f)\n",
    "    res = pd.concat((res, df)).reset_index(drop=True)"
   ]
  },
  {
   "cell_type": "code",
   "execution_count": null,
   "id": "20a04ce8-8688-45bd-990d-1f87ff4c620a",
   "metadata": {},
   "outputs": [],
   "source": []
  },
  {
   "cell_type": "code",
   "execution_count": 24,
   "id": "96db2d92-d2c3-4a59-afcd-0decd4e585bd",
   "metadata": {},
   "outputs": [
    {
     "data": {
      "text/plain": [
       "14804"
      ]
     },
     "execution_count": 24,
     "metadata": {},
     "output_type": "execute_result"
    }
   ],
   "source": [
    "import gc\n",
    "\n",
    "data = res.iloc[:, [1, 2]].values\n",
    "ids = res['id']\n",
    "del res\n",
    "del df\n",
    "gc.collect()"
   ]
  },
  {
   "cell_type": "code",
   "execution_count": null,
   "id": "5f7ea7e3-f4e8-42b4-bb41-c805fd9107e4",
   "metadata": {},
   "outputs": [],
   "source": []
  },
  {
   "cell_type": "code",
   "execution_count": 6,
   "id": "a2ac9676-6d0a-4497-aaf5-43b0837b8412",
   "metadata": {},
   "outputs": [],
   "source": [
    "from fast_hdbscan.boruvka import parallel_boruvka\n",
    "from fast_hdbscan.numba_kdtree import kdtree_to_numba\n",
    "from sklearn.neighbors import KDTree"
   ]
  },
  {
   "cell_type": "code",
   "execution_count": null,
   "id": "fe39b240-68ec-4eff-9928-fdcce367ebcd",
   "metadata": {},
   "outputs": [],
   "source": []
  },
  {
   "cell_type": "code",
   "execution_count": null,
   "id": "bdb7b9bb-aa4a-436e-8364-22d0fc215595",
   "metadata": {},
   "outputs": [],
   "source": []
  },
  {
   "cell_type": "code",
   "execution_count": null,
   "id": "a6a7a8cb-dbfb-44d3-9f8d-a11d2ccd6daa",
   "metadata": {},
   "outputs": [],
   "source": []
  },
  {
   "cell_type": "code",
   "execution_count": 7,
   "id": "dc5cd2d5-3199-4fbc-8680-95dc08a70ab1",
   "metadata": {},
   "outputs": [
    {
     "name": "stdout",
     "output_type": "stream",
     "text": [
      "CPU times: user 20.3 s, sys: 236 ms, total: 20.6 s\n",
      "Wall time: 20.4 s\n"
     ]
    }
   ],
   "source": [
    "%%time\n",
    "sklearn_tree = KDTree(data)"
   ]
  },
  {
   "cell_type": "code",
   "execution_count": 8,
   "id": "ef0a8dac-3e05-426d-abf0-796a44f07995",
   "metadata": {},
   "outputs": [
    {
     "name": "stdout",
     "output_type": "stream",
     "text": [
      "CPU times: user 9 μs, sys: 0 ns, total: 9 μs\n",
      "Wall time: 11 μs\n"
     ]
    }
   ],
   "source": [
    "%%time\n",
    "numba_tree = kdtree_to_numba(sklearn_tree)"
   ]
  },
  {
   "cell_type": "code",
   "execution_count": 9,
   "id": "c0e406fa-4e3a-40e3-bb65-79f671af6db1",
   "metadata": {},
   "outputs": [
    {
     "name": "stdout",
     "output_type": "stream",
     "text": [
      "CPU times: user 49min 52s, sys: 7.5 s, total: 50min\n",
      "Wall time: 3min 24s\n"
     ]
    }
   ],
   "source": [
    "%%time\n",
    "edges = parallel_boruvka(numba_tree, min_samples=1)"
   ]
  },
  {
   "cell_type": "code",
   "execution_count": 10,
   "id": "ceef3ba9-6757-48dc-84d9-cb541d637d95",
   "metadata": {},
   "outputs": [],
   "source": [
    "sorted_mst = edges[np.argsort(edges.T[2])]"
   ]
  },
  {
   "cell_type": "code",
   "execution_count": 17,
   "id": "f43ac06f-ace0-46f7-af20-25da96eb2df4",
   "metadata": {},
   "outputs": [],
   "source": [
    "# np.save('../data/sorted_mst_eubucco_centroids.npy', sorted_mst)"
   ]
  },
  {
   "cell_type": "code",
   "execution_count": null,
   "id": "a18fd07e-a700-48ac-9f70-6ae49225ace8",
   "metadata": {},
   "outputs": [],
   "source": []
  },
  {
   "cell_type": "code",
   "execution_count": 11,
   "id": "de7e37d1-9324-4b60-a8dd-2b83995a88f8",
   "metadata": {},
   "outputs": [],
   "source": [
    "from fast_hdbscan.cluster_trees import get_cluster_labelling_at_cut, mst_to_linkage_tree"
   ]
  },
  {
   "cell_type": "code",
   "execution_count": 12,
   "id": "4bcd333a-e7af-42e1-bcf3-d91c6cde018c",
   "metadata": {},
   "outputs": [
    {
     "name": "stdout",
     "output_type": "stream",
     "text": [
      "CPU times: user 6.57 s, sys: 1.19 s, total: 7.76 s\n",
      "Wall time: 7.67 s\n"
     ]
    }
   ],
   "source": [
    "%%time\n",
    "linkage_tree = mst_to_linkage_tree(sorted_mst)"
   ]
  },
  {
   "cell_type": "code",
   "execution_count": null,
   "id": "3800fd68-c4e0-4e32-a731-8fe36085927a",
   "metadata": {},
   "outputs": [],
   "source": []
  },
  {
   "cell_type": "code",
   "execution_count": null,
   "id": "23ecf46e-5b4c-4ad4-be7a-3e14fe22501b",
   "metadata": {},
   "outputs": [],
   "source": []
  },
  {
   "cell_type": "code",
   "execution_count": 74,
   "id": "bba48ea0-b6d6-4791-9256-ab5627f47243",
   "metadata": {},
   "outputs": [
    {
     "name": "stdout",
     "output_type": "stream",
     "text": [
      "CPU times: user 6.73 s, sys: 1.23 s, total: 7.96 s\n",
      "Wall time: 6.26 s\n"
     ]
    }
   ],
   "source": [
    "%%time\n",
    "epsilon = 400\n",
    "clusters = get_cluster_labelling_at_cut(linkage_tree, epsilon, 2)"
   ]
  },
  {
   "cell_type": "code",
   "execution_count": 75,
   "id": "8384de70-4dcc-47a9-b4a7-c98c9d37f230",
   "metadata": {},
   "outputs": [
    {
     "data": {
      "text/plain": [
       "array([ 486607,  518308,  589589,  730388,  754610,  810908, 1636365,\n",
       "       2231215, 3989463, 4478821])"
      ]
     },
     "execution_count": 75,
     "metadata": {},
     "output_type": "execute_result"
    }
   ],
   "source": [
    "vals, counts = np.unique(clusters, return_counts=True)\n",
    "idxs = np.argsort(counts)[-10:]\n",
    "counts[idxs]"
   ]
  },
  {
   "cell_type": "code",
   "execution_count": 79,
   "id": "a0267be8-1d28-4801-af88-777e3c754736",
   "metadata": {},
   "outputs": [],
   "source": [
    "clusters = pd.Series(clusters, index=ids, name=f'cluster_{epsilon}m')"
   ]
  },
  {
   "cell_type": "code",
   "execution_count": null,
   "id": "b93f326b-a4ca-423d-a1d2-3d1721368d33",
   "metadata": {},
   "outputs": [],
   "source": []
  },
  {
   "cell_type": "code",
   "execution_count": null,
   "id": "53ccb5e2-9096-45ec-bb54-a89b5d5f23a5",
   "metadata": {},
   "outputs": [],
   "source": []
  },
  {
   "cell_type": "code",
   "execution_count": 81,
   "id": "a0c0b648-eddc-4150-a972-c342dab05fbf",
   "metadata": {},
   "outputs": [],
   "source": [
    "import geopandas as gpd"
   ]
  },
  {
   "cell_type": "code",
   "execution_count": 82,
   "id": "9f198e36-d8ec-48d2-9cd7-031eb3d8974a",
   "metadata": {},
   "outputs": [
    {
     "name": "stdout",
     "output_type": "stream",
     "text": [
      "CPU times: user 7.31 s, sys: 3.08 s, total: 10.4 s\n",
      "Wall time: 10.4 s\n"
     ]
    }
   ],
   "source": [
    "%%time\n",
    "grid_cores = gpd.GeoDataFrame(\n",
    "    clusters,\n",
    "    geometry=gpd.points_from_xy(data[:, 0], data[:, 1]),\n",
    "    crs=3035,\n",
    ")"
   ]
  },
  {
   "cell_type": "code",
   "execution_count": 84,
   "id": "cdf02467-9f83-4268-b692-1221abb04ecd",
   "metadata": {},
   "outputs": [
    {
     "name": "stdout",
     "output_type": "stream",
     "text": [
      "CPU times: user 27.2 s, sys: 896 ms, total: 28.1 s\n",
      "Wall time: 28.1 s\n"
     ]
    }
   ],
   "source": [
    "%%time\n",
    "grid_cores_dissolved = grid_cores.dissolve(f\"cluster_{epsilon}m\")"
   ]
  },
  {
   "cell_type": "code",
   "execution_count": null,
   "id": "6a160628-a061-411a-b4c4-0c80d52bc138",
   "metadata": {},
   "outputs": [],
   "source": []
  },
  {
   "cell_type": "code",
   "execution_count": 88,
   "id": "b1f7f0c8-5736-49cb-8a06-4ca7f48ee2cb",
   "metadata": {},
   "outputs": [
    {
     "name": "stdout",
     "output_type": "stream",
     "text": [
      "CPU times: user 8.61 s, sys: 8.05 ms, total: 8.61 s\n",
      "Wall time: 8.61 s\n"
     ]
    }
   ],
   "source": [
    "%%time\n",
    "convex_hulls = grid_cores_dissolved.convex_hull\n"
   ]
  },
  {
   "cell_type": "code",
   "execution_count": 100,
   "id": "e3eb0179-a769-43ef-96e6-75c4ef3150f5",
   "metadata": {},
   "outputs": [
    {
     "name": "stdout",
     "output_type": "stream",
     "text": [
      "CPU times: user 2min 51s, sys: 56 ms, total: 2min 51s\n",
      "Wall time: 2min 51s\n"
     ]
    }
   ],
   "source": [
    "%%time\n",
    "convex_hulls = grid_cores_dissolved.concave_hull(ratio=.02, allow_holes=False)\n"
   ]
  },
  {
   "cell_type": "code",
   "execution_count": null,
   "id": "00395586-0b5a-4bbc-b737-a1795342bcee",
   "metadata": {},
   "outputs": [],
   "source": []
  },
  {
   "cell_type": "code",
   "execution_count": null,
   "id": "240cd8ea-5cf1-4499-a8cc-e8ed1b6fb40f",
   "metadata": {},
   "outputs": [],
   "source": []
  },
  {
   "cell_type": "code",
   "execution_count": 101,
   "id": "a7bf824b-da71-4c15-ad7f-fdd4e1abe8b8",
   "metadata": {},
   "outputs": [],
   "source": [
    "convex_hulls = convex_hulls.to_frame().reset_index()\n",
    "convex_hulls.columns = ['region_id', 'geometry']\n",
    "convex_hulls = convex_hulls.set_geometry('geometry')"
   ]
  },
  {
   "cell_type": "code",
   "execution_count": null,
   "id": "068b89b8-ecc0-45ac-92e7-dc4060628f6a",
   "metadata": {},
   "outputs": [],
   "source": []
  },
  {
   "cell_type": "code",
   "execution_count": null,
   "id": "f520b7ce-1f50-4971-83a9-a97b5f70ba20",
   "metadata": {},
   "outputs": [],
   "source": []
  },
  {
   "cell_type": "code",
   "execution_count": 102,
   "id": "e96f33dc-cf2a-46f6-86f2-40d6e36f2516",
   "metadata": {},
   "outputs": [],
   "source": [
    "import lonboard"
   ]
  },
  {
   "cell_type": "code",
   "execution_count": 103,
   "id": "48505070-ba3a-4aba-aedc-8762583511fa",
   "metadata": {},
   "outputs": [],
   "source": [
    "layer = lonboard.PolygonLayer.from_geopandas(\n",
    "    convex_hulls[convex_hulls.geom_type == 'Polygon'].to_crs(4326), opacity=0.15)"
   ]
  },
  {
   "cell_type": "code",
   "execution_count": 105,
   "id": "2ca71719-21fd-4f05-8284-972080736a9a",
   "metadata": {},
   "outputs": [],
   "source": [
    "# m = lonboard.Map([layer], basemap_style=lonboard.basemap.CartoBasemap.Positron)\n",
    "# m"
   ]
  },
  {
   "cell_type": "code",
   "execution_count": null,
   "id": "b2122581-c296-49bc-8a08-eb62ddd34d8b",
   "metadata": {},
   "outputs": [],
   "source": []
  },
  {
   "cell_type": "code",
   "execution_count": null,
   "id": "41cdc184-d4f7-4659-aa41-2cd7abe641d6",
   "metadata": {},
   "outputs": [],
   "source": []
  },
  {
   "cell_type": "code",
   "execution_count": null,
   "id": "79b7bd28-7bf0-4ede-b430-0037c07e3df0",
   "metadata": {},
   "outputs": [],
   "source": [
    "clusters.to_frame().to_parquet(f'../data/id_to_region_mst_{epsilon}m.parquet')"
   ]
  },
  {
   "cell_type": "code",
   "execution_count": null,
   "id": "10f90243-0d88-44f2-afd1-bfac4548616d",
   "metadata": {},
   "outputs": [],
   "source": []
  },
  {
   "cell_type": "code",
   "execution_count": 50,
   "id": "a66b2e0c-0fdf-4c57-97fe-5fd9ced2f2da",
   "metadata": {},
   "outputs": [],
   "source": [
    "data[[\"x_100\", \"y_100\"]] = np.around(data[[\"x\", \"y\"]], decimals=-2).astype(int)\n",
    "grid = data[[\"id\", \"x_100\", \"y_100\"]].groupby([\"x_100\", \"y_100\"]).count().reset_index()"
   ]
  },
  {
   "cell_type": "code",
   "execution_count": null,
   "id": "1f06ba0c-6ce0-4419-b5c8-78d31d0bf45f",
   "metadata": {},
   "outputs": [],
   "source": []
  },
  {
   "cell_type": "code",
   "execution_count": null,
   "id": "f503ac27-f519-4ff3-a72f-fbba10cad348",
   "metadata": {},
   "outputs": [],
   "source": []
  },
  {
   "cell_type": "code",
   "execution_count": null,
   "id": "e64e0683-3687-4a8e-89cb-ac456b2d921f",
   "metadata": {},
   "outputs": [],
   "source": []
  },
  {
   "cell_type": "code",
   "execution_count": null,
   "id": "0d63ee56-0e6f-4a8b-9721-7837dc8e3d70",
   "metadata": {},
   "outputs": [],
   "source": []
  },
  {
   "cell_type": "code",
   "execution_count": null,
   "id": "8b15685d-8b16-4a12-930b-474991353dbd",
   "metadata": {},
   "outputs": [],
   "source": []
  },
  {
   "cell_type": "code",
   "execution_count": 94,
   "id": "31532fe6-fa9a-4348-9296-fcb1f5598576",
   "metadata": {},
   "outputs": [],
   "source": [
    "dists = ((data.iloc[[0], [1, 2]].values - data.iloc[1:, [1, 2]].values) ** 2).sum(\n",
    "    axis=1\n",
    ") ** (1 / 2)"
   ]
  },
  {
   "cell_type": "code",
   "execution_count": 95,
   "id": "ee0ea156-2708-4a93-93fe-fac297c5962c",
   "metadata": {},
   "outputs": [],
   "source": [
    "dist_grid = ((data.iloc[[0], [3, 4]].values - data.iloc[1:, [3, 4]].values) ** 2).sum(\n",
    "    axis=1\n",
    ") ** (1 / 2)"
   ]
  },
  {
   "cell_type": "code",
   "execution_count": 96,
   "id": "9d33d44c-4ff7-46f9-b81b-9fca9e661ca7",
   "metadata": {},
   "outputs": [
    {
     "data": {
      "text/plain": [
       "mean    179092.288873\n",
       "std     124926.395093\n",
       "min         50.632440\n",
       "25%      83659.753069\n",
       "50%     154873.615802\n",
       "75%     240605.405899\n",
       "max     529213.354645\n",
       "dtype: float64"
      ]
     },
     "execution_count": 96,
     "metadata": {},
     "output_type": "execute_result"
    }
   ],
   "source": [
    "pd.Series(dists).describe().iloc[1:]"
   ]
  },
  {
   "cell_type": "code",
   "execution_count": 97,
   "id": "7b94d051-8ca6-4df2-aaf3-ec34883e60a8",
   "metadata": {},
   "outputs": [
    {
     "data": {
      "text/plain": [
       "mean    179116.726038\n",
       "std     124927.318729\n",
       "min          0.000000\n",
       "25%      83696.176735\n",
       "50%     154898.224651\n",
       "75%     240624.022076\n",
       "max     529251.868206\n",
       "dtype: float64"
      ]
     },
     "execution_count": 97,
     "metadata": {},
     "output_type": "execute_result"
    }
   ],
   "source": [
    "pd.Series(dist_grid).describe().iloc[1:]"
   ]
  },
  {
   "cell_type": "code",
   "execution_count": null,
   "id": "89e92a24-c52b-4b0a-8899-0d84dfae7f62",
   "metadata": {},
   "outputs": [],
   "source": []
  },
  {
   "cell_type": "code",
   "execution_count": null,
   "id": "984f3c13-bd7c-483e-b523-7ca305d844c7",
   "metadata": {},
   "outputs": [],
   "source": []
  },
  {
   "cell_type": "code",
   "execution_count": null,
   "id": "6e27d053-2c7f-4235-81ba-36d4e1a7c42f",
   "metadata": {},
   "outputs": [],
   "source": []
  },
  {
   "cell_type": "code",
   "execution_count": null,
   "id": "6b35e160-6645-4c2c-b86b-55bef2bc9951",
   "metadata": {},
   "outputs": [],
   "source": []
  },
  {
   "cell_type": "code",
   "execution_count": null,
   "id": "f26d1d32-71eb-4467-a866-b20fbcc48ff5",
   "metadata": {},
   "outputs": [],
   "source": []
  },
  {
   "cell_type": "code",
   "execution_count": null,
   "id": "aa6448c7-6e13-417e-9e71-3d44494b20fb",
   "metadata": {},
   "outputs": [],
   "source": []
  },
  {
   "cell_type": "code",
   "execution_count": null,
   "id": "881e0fd2-95b4-4f23-945a-eb176397bc7d",
   "metadata": {},
   "outputs": [],
   "source": []
  }
 ],
 "metadata": {
  "kernelspec": {
   "display_name": "Python 3 (ipykernel)",
   "language": "python",
   "name": "python3"
  },
  "language_info": {
   "codemirror_mode": {
    "name": "ipython",
    "version": 3
   },
   "file_extension": ".py",
   "mimetype": "text/x-python",
   "name": "python",
   "nbconvert_exporter": "python",
   "pygments_lexer": "ipython3",
   "version": "3.12.4"
  }
 },
 "nbformat": 4,
 "nbformat_minor": 5
}
