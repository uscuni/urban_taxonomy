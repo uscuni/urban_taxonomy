{
 "cells": [
  {
   "cell_type": "code",
   "execution_count": 1,
   "id": "cdc64e78-b8c0-40fd-b50b-28544c8f5ec6",
   "metadata": {},
   "outputs": [
    {
     "name": "stdout",
     "output_type": "stream",
     "text": [
      "--2024-12-09 14:39:55--  https://zenodo.org/records/11391077/files/Croatia_Czech_Republic_Czechia.rar?download=1\n",
      "Resolving zenodo.org (zenodo.org)... 188.185.45.92, 188.185.48.194, 188.185.43.25, ...\n",
      "Connecting to zenodo.org (zenodo.org)|188.185.45.92|:443... connected.\n",
      "HTTP request sent, awaiting response... 200 OK\n",
      "Length: 870770851 (830M) [application/octet-stream]\n",
      "Saving to: ‘Croatia_Czech_Republic_Czechia.rar?download=1’\n",
      "\n",
      "Croatia_Czech_Repub 100%[===================>] 830,43M  3,41MB/s    in 3m 11s  \n",
      "\n",
      "2024-12-09 14:43:06 (4,35 MB/s) - ‘Croatia_Czech_Republic_Czechia.rar?download=1’ saved [870770851/870770851]\n",
      "\n"
     ]
    }
   ],
   "source": [
    "# !wget https://zenodo.org/records/11391077/files/Croatia_Czech_Republic_Czechia.rar?download=1"
   ]
  },
  {
   "cell_type": "code",
   "execution_count": 4,
   "id": "6945792c-7694-4307-81a4-ff4634ad40a8",
   "metadata": {},
   "outputs": [
    {
     "name": "stdout",
     "output_type": "stream",
     "text": [
      "\n",
      "UNRAR 6.11 beta 1 freeware      Copyright (c) 1993-2022 Alexander Roshal\n",
      "\n",
      "\n",
      "Extracting from Croatia_Czech_Republic_Czechia.rar?download=1\n",
      "\n",
      "Extracting  Czech_Republic.shx                                           0  OK \n",
      "Extracting  Czechia.cpg                                                  0  OK \n",
      "Extracting  Czechia.dbf                                                      2  OK \n",
      "Extracting  Czechia.prj                                                  2  OK \n",
      "Extracting  Czechia.shp                                                               1 1 1 1 1 1 1 1 1 1 2 2 2 2 24  OK \n",
      "Extracting  Czechia.shx                                                 24  OK \n",
      "Extracting  Croatia.cpg                                                 24  OK \n",
      "Extracting  Croatia.dbf                                                 2 2 27  OK \n",
      "Extracting  Croatia.prj                                                 27  OK \n",
      "Extracting  Croatia.shp                                                 2 2 2 3 3 3 3 3 3 3 3 3 3 4 4 4 4 4 4 4 4 4 4 50  OK \n",
      "Extracting  Croatia.shx                                                 50  OK \n",
      "Extracting  Czech_Republic.cpg                                          50  OK \n",
      "Extracting  Czech_Republic.dbf                                          5 5 5 5 55  OK \n",
      "Extracting  Czech_Republic.prj                                          55  OK \n",
      "Extracting  Czech_Republic.shp                                          5 5 5 5 5 6 6 6 6 6 6 6 6 6 6 7 7 7 7 7 7 7 7 7 7 8 8 8 8 8 8 8 8 8 8 9 9 9 9 9 9 9 9 9 9100  OK \n",
      "All OK\n"
     ]
    }
   ],
   "source": [
    "# !unrar e -r Croatia_Czech_Republic_Czechia.rar\\?download\\=1"
   ]
  },
  {
   "cell_type": "code",
   "execution_count": 1,
   "id": "e3c48acc-7461-467e-bb50-c6ae00504364",
   "metadata": {},
   "outputs": [],
   "source": [
    "import geopandas as gpd"
   ]
  },
  {
   "cell_type": "code",
   "execution_count": 2,
   "id": "dc72ef58-d412-48de-98c5-398f714e8828",
   "metadata": {},
   "outputs": [],
   "source": [
    "gdf = gpd.read_file('../data/building_heights/Czech_Republic.shp')"
   ]
  },
  {
   "cell_type": "code",
   "execution_count": 3,
   "id": "2a34a311-e299-4a92-8e1c-dd20f5c95e8c",
   "metadata": {},
   "outputs": [],
   "source": [
    "gdf = gdf.to_crs(epsg=3035)\n"
   ]
  },
  {
   "cell_type": "code",
   "execution_count": null,
   "id": "26c5e356-6110-49b5-8c88-702fcd40ed8e",
   "metadata": {},
   "outputs": [],
   "source": []
  },
  {
   "cell_type": "code",
   "execution_count": 32,
   "id": "07564c38-c039-4db9-b9f7-6106acaa571c",
   "metadata": {},
   "outputs": [],
   "source": [
    "prague_central = gdf[gdf.FID == 10595].geometry.iloc[0].buffer(1_000)\n",
    "\n",
    "industry = gdf[gdf.FID == 3381].geometry.iloc[0].buffer(500)\n",
    "\n",
    "blocks = gdf[gdf.FID == 3665].geometry.iloc[0].buffer(500)"
   ]
  },
  {
   "cell_type": "code",
   "execution_count": 33,
   "id": "fbff5b88-d7d5-4561-9caf-e0c1d25d1ec0",
   "metadata": {},
   "outputs": [],
   "source": [
    "import shapely\n",
    "interest = shapely.unary_union((prague_central, industry, blocks))"
   ]
  },
  {
   "cell_type": "code",
   "execution_count": 34,
   "id": "8486baa9-f9b5-43f8-a43b-c59e06694911",
   "metadata": {},
   "outputs": [
    {
     "data": {
      "text/plain": [
       "(13547,)"
      ]
     },
     "execution_count": 34,
     "metadata": {},
     "output_type": "execute_result"
    }
   ],
   "source": [
    "blg_idxs = gdf.sindex.query(interest)\n",
    "blg_idxs.shape"
   ]
  },
  {
   "cell_type": "code",
   "execution_count": null,
   "id": "b7b5e327-945f-48b3-a470-336bc98e53cd",
   "metadata": {},
   "outputs": [],
   "source": []
  },
  {
   "cell_type": "code",
   "execution_count": 35,
   "id": "c4847a68-e153-4d66-9382-b4ca689c1acf",
   "metadata": {},
   "outputs": [],
   "source": [
    "# gdf.head(10_000).explore(prefeer_canvas=True, tiles='cartodbpositron')"
   ]
  },
  {
   "cell_type": "code",
   "execution_count": null,
   "id": "200a4db6-3aa7-4ffc-a8ce-e19a754b206b",
   "metadata": {},
   "outputs": [],
   "source": []
  },
  {
   "cell_type": "code",
   "execution_count": 38,
   "id": "6fde68de-6302-4d56-a252-fd8fb14d92bc",
   "metadata": {},
   "outputs": [],
   "source": [
    "# gdf.iloc[blg_idxs].explore(prefeer_canvas=True, tiles='cartodbpositron', column='Height')"
   ]
  },
  {
   "cell_type": "code",
   "execution_count": null,
   "id": "624c7aa5-57d7-4b4e-bbe7-1b03b8107d32",
   "metadata": {},
   "outputs": [],
   "source": []
  },
  {
   "cell_type": "code",
   "execution_count": null,
   "id": "71677cf1-c581-44b4-a081-18e13c5c04cf",
   "metadata": {},
   "outputs": [],
   "source": []
  }
 ],
 "metadata": {
  "kernelspec": {
   "display_name": "Python 3 (ipykernel)",
   "language": "python",
   "name": "python3"
  },
  "language_info": {
   "codemirror_mode": {
    "name": "ipython",
    "version": 3
   },
   "file_extension": ".py",
   "mimetype": "text/x-python",
   "name": "python",
   "nbconvert_exporter": "python",
   "pygments_lexer": "ipython3",
   "version": "3.12.5"
  }
 },
 "nbformat": 4,
 "nbformat_minor": 5
}
