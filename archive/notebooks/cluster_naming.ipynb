{
 "cells": [
  {
   "cell_type": "code",
   "execution_count": 1,
   "id": "571d4410-8585-46da-9a0c-c5ce83a4f699",
   "metadata": {},
   "outputs": [],
   "source": [
    "import numpy as np\n",
    "import pandas as pd\n",
    "import geopandas as gpd\n",
    "import matplotlib.pyplot as plt\n",
    "from scipy.cluster.hierarchy import dendrogram, fcluster"
   ]
  },
  {
   "cell_type": "code",
   "execution_count": 2,
   "id": "135b474b-e750-423e-a67e-c9beed2782ec",
   "metadata": {},
   "outputs": [],
   "source": [
    "v = 'v6'"
   ]
  },
  {
   "cell_type": "code",
   "execution_count": 3,
   "id": "63a19d27-4896-400d-b2c6-8bab8a9d9f8c",
   "metadata": {},
   "outputs": [],
   "source": [
    "linkage_matrix = np.load(f'/data/uscuni-ulce/processed_data/clusters/kmeans_linkage_{v}.npy')\n",
    "cdata = pd.read_parquet(f'/data/uscuni-ulce/processed_data/clusters/cdata_{v}.pq')\n",
    "# regional_ward_morphotopes_data = pd.read_parquet(f'/data/uscuni-ulce/processed_data/clusters/cluster_input_data_{v}.pq')"
   ]
  },
  {
   "cell_type": "code",
   "execution_count": 4,
   "id": "1ee0c51e-58f1-42ab-8665-ba892fafe716",
   "metadata": {},
   "outputs": [],
   "source": [
    "from scipy.cluster.hierarchy import is_valid_linkage\n",
    "assert is_valid_linkage(linkage_matrix)"
   ]
  },
  {
   "cell_type": "code",
   "execution_count": 5,
   "id": "d00c1df0-9d79-4e05-8dd9-15feb0c7b7f8",
   "metadata": {},
   "outputs": [
    {
     "data": {
      "image/png": "[encoded data removed]",
      "text/plain": [
       "<Figure size 1000x1000 with 1 Axes>"
      ]
     },
     "metadata": {},
     "output_type": "display_data"
    }
   ],
   "source": [
    "## final dendrogram\n",
    "\n",
    "fig,ax = plt.subplots(figsize=(10,10))\n",
    "_ = dendrogram(linkage_matrix, ax=ax, no_labels=True)"
   ]
  },
  {
   "cell_type": "code",
   "execution_count": null,
   "id": "fc3f13cd-3f97-4350-8441-5a31bb74a20c",
   "metadata": {},
   "outputs": [],
   "source": []
  },
  {
   "cell_type": "code",
   "execution_count": 12,
   "id": "9052803f-d347-40f2-950f-b62b110c48da",
   "metadata": {},
   "outputs": [
    {
     "ename": "NameError",
     "evalue": "name 'regional_ward_morphotopes_data' is not defined",
     "output_type": "error",
     "traceback": [
      "\u001b[0;31m---------------------------------------------------------------------------\u001b[0m",
      "\u001b[0;31mNameError\u001b[0m                                 Traceback (most recent call last)",
      "Cell \u001b[0;32mIn[12], line 3\u001b[0m\n\u001b[1;32m      1\u001b[0m final_cutoff \u001b[38;5;241m=\u001b[39m (\u001b[38;5;241m1\u001b[39m\u001b[38;5;241m/\u001b[39m\u001b[38;5;241m4\u001b[39m) \u001b[38;5;241m-\u001b[39m\u001b[38;5;241m0.00001\u001b[39m\n\u001b[1;32m      2\u001b[0m clusters \u001b[38;5;241m=\u001b[39m fcluster(linkage_matrix, t\u001b[38;5;241m=\u001b[39mfinal_cutoff, criterion\u001b[38;5;241m=\u001b[39m\u001b[38;5;124m'\u001b[39m\u001b[38;5;124mdistance\u001b[39m\u001b[38;5;124m'\u001b[39m)\n\u001b[0;32m----> 3\u001b[0m final_clusters \u001b[38;5;241m=\u001b[39m pd\u001b[38;5;241m.\u001b[39mSeries(clusters, \u001b[43mregional_ward_morphotopes_data\u001b[49m\u001b[38;5;241m.\u001b[39mindex)\n\u001b[1;32m      4\u001b[0m final_clusters\u001b[38;5;241m.\u001b[39mvalue_counts()\n",
      "\u001b[0;31mNameError\u001b[0m: name 'regional_ward_morphotopes_data' is not defined"
     ]
    }
   ],
   "source": [
    "final_cutoff = (1/4) -0.00001\n",
    "clusters = fcluster(linkage_matrix, t=final_cutoff, criterion='distance')\n",
    "final_clusters = pd.Series(clusters, regional_ward_morphotopes_data.index)\n",
    "final_clusters.value_counts()"
   ]
  },
  {
   "cell_type": "code",
   "execution_count": 65,
   "id": "2001532d-11a3-4e99-96ec-716fb5c397d7",
   "metadata": {},
   "outputs": [
    {
     "data": {
      "text/plain": [
       "np.float64(6.49013643890673)"
      ]
     },
     "execution_count": 65,
     "metadata": {},
     "output_type": "execute_result"
    }
   ],
   "source": [
    "x, y = regional_ward_morphotopes_data[final_clusters == 1].mean(), regional_ward_morphotopes_data[final_clusters == 2].mean()\n",
    "((x - y) ** 2).sum()**(.5)"
   ]
  },
  {
   "cell_type": "code",
   "execution_count": 63,
   "id": "68c9f32a-d63c-42cd-a432-fdb3e7600ae6",
   "metadata": {},
   "outputs": [
    {
     "data": {
      "text/plain": [
       "array([[8.38600000e+03, 8.38700000e+03, 5.88235294e-02, 2.00000000e+00],\n",
       "       [2.03950000e+04, 6.64940000e+04, 6.25000000e-02, 3.00000000e+00],\n",
       "       [2.03940000e+04, 6.64950000e+04, 6.66666667e-02, 4.00000000e+00],\n",
       "       ...,\n",
       "       [1.30460000e+05, 1.32983000e+05, 3.33333333e-01, 1.53280000e+04],\n",
       "       [1.17657000e+05, 1.32984000e+05, 5.00000000e-01, 1.99470000e+04],\n",
       "       [1.13039000e+05, 1.32985000e+05, 1.00000000e+00, 6.64940000e+04]])"
      ]
     },
     "execution_count": 63,
     "metadata": {},
     "output_type": "execute_result"
    }
   ],
   "source": [
    "linkage_matrix"
   ]
  },
  {
   "cell_type": "code",
   "execution_count": null,
   "id": "c1cbca39-1453-4799-88cb-891ee5700d53",
   "metadata": {},
   "outputs": [],
   "source": []
  },
  {
   "cell_type": "code",
   "execution_count": null,
   "id": "9eaeb121-1524-4e39-abfb-3d90f6418c3b",
   "metadata": {},
   "outputs": [],
   "source": []
  },
  {
   "cell_type": "code",
   "execution_count": null,
   "id": "6f205b83-aaf5-48c8-a2fc-ad6cea59fdcb",
   "metadata": {},
   "outputs": [],
   "source": []
  },
  {
   "cell_type": "code",
   "execution_count": null,
   "id": "7d73d39a-28b5-4b8a-9d15-853ed1767c92",
   "metadata": {},
   "outputs": [],
   "source": []
  },
  {
   "cell_type": "code",
   "execution_count": 7,
   "id": "733dc337-be9e-41f1-9a0c-25447c8b5fb1",
   "metadata": {},
   "outputs": [],
   "source": [
    "total_median = regional_ward_morphotopes_data.median()"
   ]
  },
  {
   "cell_type": "code",
   "execution_count": 8,
   "id": "6c031ba9-f974-4cb9-beae-4651b29ddbbd",
   "metadata": {},
   "outputs": [],
   "source": [
    "cluster_medians = regional_ward_morphotopes_data.groupby(final_clusters).median()"
   ]
  },
  {
   "cell_type": "code",
   "execution_count": 123,
   "id": "f08a990b-8063-4739-9d6f-4b019b4cee03",
   "metadata": {},
   "outputs": [
    {
     "data": {
      "text/html": [
       "<style type=\"text/css\">\n",
       "#T_d9f71_row0_col0, #T_d9f71_row0_col1, #T_d9f71_row0_col5, #T_d9f71_row0_col7, #T_d9f71_row0_col10, #T_d9f71_row0_col11, #T_d9f71_row0_col12, #T_d9f71_row0_col13, #T_d9f71_row0_col14, #T_d9f71_row0_col17, #T_d9f71_row0_col22, #T_d9f71_row0_col23, #T_d9f71_row0_col26, #T_d9f71_row0_col27, #T_d9f71_row0_col28, #T_d9f71_row0_col31, #T_d9f71_row0_col32, #T_d9f71_row0_col39, #T_d9f71_row0_col40, #T_d9f71_row0_col41, #T_d9f71_row0_col44, #T_d9f71_row0_col49, #T_d9f71_row0_col50, #T_d9f71_row0_col51, #T_d9f71_row0_col53, #T_d9f71_row0_col54, #T_d9f71_row0_col55, #T_d9f71_row0_col56, #T_d9f71_row0_col57, #T_d9f71_row0_col58, #T_d9f71_row1_col3, #T_d9f71_row1_col6, #T_d9f71_row1_col15, #T_d9f71_row1_col16, #T_d9f71_row1_col18, #T_d9f71_row1_col19, #T_d9f71_row1_col20, #T_d9f71_row1_col21, #T_d9f71_row1_col24, #T_d9f71_row1_col29, #T_d9f71_row1_col30, #T_d9f71_row1_col33, #T_d9f71_row1_col35, #T_d9f71_row1_col36, #T_d9f71_row1_col37, #T_d9f71_row1_col38, #T_d9f71_row1_col42, #T_d9f71_row1_col43, #T_d9f71_row1_col45, #T_d9f71_row1_col46, #T_d9f71_row1_col47, #T_d9f71_row1_col52 {\n",
       "  background-color: #00441b;\n",
       "  color: #f1f1f1;\n",
       "}\n",
       "#T_d9f71_row0_col2, #T_d9f71_row0_col3, #T_d9f71_row0_col4, #T_d9f71_row0_col6, #T_d9f71_row0_col8, #T_d9f71_row0_col9, #T_d9f71_row0_col15, #T_d9f71_row0_col16, #T_d9f71_row0_col18, #T_d9f71_row0_col19, #T_d9f71_row0_col20, #T_d9f71_row0_col21, #T_d9f71_row0_col24, #T_d9f71_row0_col25, #T_d9f71_row0_col29, #T_d9f71_row0_col30, #T_d9f71_row0_col33, #T_d9f71_row0_col34, #T_d9f71_row0_col35, #T_d9f71_row0_col36, #T_d9f71_row0_col37, #T_d9f71_row0_col38, #T_d9f71_row0_col42, #T_d9f71_row0_col43, #T_d9f71_row0_col45, #T_d9f71_row0_col46, #T_d9f71_row0_col47, #T_d9f71_row0_col48, #T_d9f71_row0_col52, #T_d9f71_row0_col59, #T_d9f71_row1_col0, #T_d9f71_row1_col1, #T_d9f71_row1_col2, #T_d9f71_row1_col4, #T_d9f71_row1_col5, #T_d9f71_row1_col7, #T_d9f71_row1_col8, #T_d9f71_row1_col9, #T_d9f71_row1_col10, #T_d9f71_row1_col11, #T_d9f71_row1_col12, #T_d9f71_row1_col13, #T_d9f71_row1_col14, #T_d9f71_row1_col17, #T_d9f71_row1_col22, #T_d9f71_row1_col23, #T_d9f71_row1_col25, #T_d9f71_row1_col26, #T_d9f71_row1_col27, #T_d9f71_row1_col28, #T_d9f71_row1_col31, #T_d9f71_row1_col32, #T_d9f71_row1_col34, #T_d9f71_row1_col39, #T_d9f71_row1_col40, #T_d9f71_row1_col41, #T_d9f71_row1_col44, #T_d9f71_row1_col48, #T_d9f71_row1_col49, #T_d9f71_row1_col50, #T_d9f71_row1_col51, #T_d9f71_row1_col53, #T_d9f71_row1_col54, #T_d9f71_row1_col55, #T_d9f71_row1_col56, #T_d9f71_row1_col57, #T_d9f71_row1_col58, #T_d9f71_row1_col59 {\n",
       "  background-color: #f7fcfd;\n",
       "  color: #000000;\n",
       "}\n",
       "</style>\n",
       "<table id=\"T_d9f71\">\n",
       "  <thead>\n",
       "    <tr>\n",
       "      <th class=\"blank level0\" >&nbsp;</th>\n",
       "      <th id=\"T_d9f71_level0_col0\" class=\"col_heading level0 col0\" >sdbAre</th>\n",
       "      <th id=\"T_d9f71_level0_col1\" class=\"col_heading level0 col1\" >sdbPer</th>\n",
       "      <th id=\"T_d9f71_level0_col2\" class=\"col_heading level0 col2\" >sdbCoA</th>\n",
       "      <th id=\"T_d9f71_level0_col3\" class=\"col_heading level0 col3\" >ssbCCo</th>\n",
       "      <th id=\"T_d9f71_level0_col4\" class=\"col_heading level0 col4\" >ssbCor</th>\n",
       "      <th id=\"T_d9f71_level0_col5\" class=\"col_heading level0 col5\" >ssbSqu</th>\n",
       "      <th id=\"T_d9f71_level0_col6\" class=\"col_heading level0 col6\" >ssbERI</th>\n",
       "      <th id=\"T_d9f71_level0_col7\" class=\"col_heading level0 col7\" >ssbElo</th>\n",
       "      <th id=\"T_d9f71_level0_col8\" class=\"col_heading level0 col8\" >mtbSWR</th>\n",
       "      <th id=\"T_d9f71_level0_col9\" class=\"col_heading level0 col9\" >libNCo</th>\n",
       "      <th id=\"T_d9f71_level0_col10\" class=\"col_heading level0 col10\" >ldbPWL</th>\n",
       "      <th id=\"T_d9f71_level0_col11\" class=\"col_heading level0 col11\" >ltcBuA</th>\n",
       "      <th id=\"T_d9f71_level0_col12\" class=\"col_heading level0 col12\" >mtbAli</th>\n",
       "      <th id=\"T_d9f71_level0_col13\" class=\"col_heading level0 col13\" >mtbNDi</th>\n",
       "      <th id=\"T_d9f71_level0_col14\" class=\"col_heading level0 col14\" >ltbIBD</th>\n",
       "      <th id=\"T_d9f71_level0_col15\" class=\"col_heading level0 col15\" >stbSAl</th>\n",
       "      <th id=\"T_d9f71_level0_col16\" class=\"col_heading level0 col16\" >sdsLen</th>\n",
       "      <th id=\"T_d9f71_level0_col17\" class=\"col_heading level0 col17\" >sssLin</th>\n",
       "      <th id=\"T_d9f71_level0_col18\" class=\"col_heading level0 col18\" >ldsMSL</th>\n",
       "      <th id=\"T_d9f71_level0_col19\" class=\"col_heading level0 col19\" >ldsRea</th>\n",
       "      <th id=\"T_d9f71_level0_col20\" class=\"col_heading level0 col20\" >ldsAre</th>\n",
       "      <th id=\"T_d9f71_level0_col21\" class=\"col_heading level0 col21\" >sisBpM</th>\n",
       "      <th id=\"T_d9f71_level0_col22\" class=\"col_heading level0 col22\" >sdsSPW</th>\n",
       "      <th id=\"T_d9f71_level0_col23\" class=\"col_heading level0 col23\" >sdsSPO</th>\n",
       "      <th id=\"T_d9f71_level0_col24\" class=\"col_heading level0 col24\" >sdsSWD</th>\n",
       "      <th id=\"T_d9f71_level0_col25\" class=\"col_heading level0 col25\" >mtdDeg</th>\n",
       "      <th id=\"T_d9f71_level0_col26\" class=\"col_heading level0 col26\" >lcdMes</th>\n",
       "      <th id=\"T_d9f71_level0_col27\" class=\"col_heading level0 col27\" >linP3W</th>\n",
       "      <th id=\"T_d9f71_level0_col28\" class=\"col_heading level0 col28\" >linP4W</th>\n",
       "      <th id=\"T_d9f71_level0_col29\" class=\"col_heading level0 col29\" >linPDE</th>\n",
       "      <th id=\"T_d9f71_level0_col30\" class=\"col_heading level0 col30\" >lcnClo</th>\n",
       "      <th id=\"T_d9f71_level0_col31\" class=\"col_heading level0 col31\" >lddNDe</th>\n",
       "      <th id=\"T_d9f71_level0_col32\" class=\"col_heading level0 col32\" >linWID</th>\n",
       "      <th id=\"T_d9f71_level0_col33\" class=\"col_heading level0 col33\" >ldsCDL</th>\n",
       "      <th id=\"T_d9f71_level0_col34\" class=\"col_heading level0 col34\" >xcnSCl</th>\n",
       "      <th id=\"T_d9f71_level0_col35\" class=\"col_heading level0 col35\" >mtdMDi</th>\n",
       "      <th id=\"T_d9f71_level0_col36\" class=\"col_heading level0 col36\" >sddAre</th>\n",
       "      <th id=\"T_d9f71_level0_col37\" class=\"col_heading level0 col37\" >midRea</th>\n",
       "      <th id=\"T_d9f71_level0_col38\" class=\"col_heading level0 col38\" >midAre</th>\n",
       "      <th id=\"T_d9f71_level0_col39\" class=\"col_heading level0 col39\" >sdcLAL</th>\n",
       "      <th id=\"T_d9f71_level0_col40\" class=\"col_heading level0 col40\" >sdcAre</th>\n",
       "      <th id=\"T_d9f71_level0_col41\" class=\"col_heading level0 col41\" >sscCCo</th>\n",
       "      <th id=\"T_d9f71_level0_col42\" class=\"col_heading level0 col42\" >sscERI</th>\n",
       "      <th id=\"T_d9f71_level0_col43\" class=\"col_heading level0 col43\" >mtcWNe</th>\n",
       "      <th id=\"T_d9f71_level0_col44\" class=\"col_heading level0 col44\" >mdcAre</th>\n",
       "      <th id=\"T_d9f71_level0_col45\" class=\"col_heading level0 col45\" >ltcWRB</th>\n",
       "      <th id=\"T_d9f71_level0_col46\" class=\"col_heading level0 col46\" >sicCAR</th>\n",
       "      <th id=\"T_d9f71_level0_col47\" class=\"col_heading level0 col47\" >sdsAre</th>\n",
       "      <th id=\"T_d9f71_level0_col48\" class=\"col_heading level0 col48\" >mibCou</th>\n",
       "      <th id=\"T_d9f71_level0_col49\" class=\"col_heading level0 col49\" >mibAre</th>\n",
       "      <th id=\"T_d9f71_level0_col50\" class=\"col_heading level0 col50\" >mibLen</th>\n",
       "      <th id=\"T_d9f71_level0_col51\" class=\"col_heading level0 col51\" >mibElo</th>\n",
       "      <th id=\"T_d9f71_level0_col52\" class=\"col_heading level0 col52\" >mibERI</th>\n",
       "      <th id=\"T_d9f71_level0_col53\" class=\"col_heading level0 col53\" >mibCCo</th>\n",
       "      <th id=\"T_d9f71_level0_col54\" class=\"col_heading level0 col54\" >mibLAL</th>\n",
       "      <th id=\"T_d9f71_level0_col55\" class=\"col_heading level0 col55\" >mibFR</th>\n",
       "      <th id=\"T_d9f71_level0_col56\" class=\"col_heading level0 col56\" >mibSCo</th>\n",
       "      <th id=\"T_d9f71_level0_col57\" class=\"col_heading level0 col57\" >micBAD</th>\n",
       "      <th id=\"T_d9f71_level0_col58\" class=\"col_heading level0 col58\" >midBAD</th>\n",
       "      <th id=\"T_d9f71_level0_col59\" class=\"col_heading level0 col59\" >limLPS</th>\n",
       "    </tr>\n",
       "  </thead>\n",
       "  <tbody>\n",
       "    <tr>\n",
       "      <th id=\"T_d9f71_level0_row0\" class=\"row_heading level0 row0\" >13</th>\n",
       "      <td id=\"T_d9f71_row0_col0\" class=\"data row0 col0\" >0.579361</td>\n",
       "      <td id=\"T_d9f71_row0_col1\" class=\"data row0 col1\" >0.687935</td>\n",
       "      <td id=\"T_d9f71_row0_col2\" class=\"data row0 col2\" >-0.003878</td>\n",
       "      <td id=\"T_d9f71_row0_col3\" class=\"data row0 col3\" >0.024296</td>\n",
       "      <td id=\"T_d9f71_row0_col4\" class=\"data row0 col4\" >-0.544985</td>\n",
       "      <td id=\"T_d9f71_row0_col5\" class=\"data row0 col5\" >-0.083408</td>\n",
       "      <td id=\"T_d9f71_row0_col6\" class=\"data row0 col6\" >0.323543</td>\n",
       "      <td id=\"T_d9f71_row0_col7\" class=\"data row0 col7\" >0.107070</td>\n",
       "      <td id=\"T_d9f71_row0_col8\" class=\"data row0 col8\" >-0.930174</td>\n",
       "      <td id=\"T_d9f71_row0_col9\" class=\"data row0 col9\" >-0.073819</td>\n",
       "      <td id=\"T_d9f71_row0_col10\" class=\"data row0 col10\" >-0.196306</td>\n",
       "      <td id=\"T_d9f71_row0_col11\" class=\"data row0 col11\" >1.474222</td>\n",
       "      <td id=\"T_d9f71_row0_col12\" class=\"data row0 col12\" >0.685555</td>\n",
       "      <td id=\"T_d9f71_row0_col13\" class=\"data row0 col13\" >1.550450</td>\n",
       "      <td id=\"T_d9f71_row0_col14\" class=\"data row0 col14\" >1.572326</td>\n",
       "      <td id=\"T_d9f71_row0_col15\" class=\"data row0 col15\" >0.179882</td>\n",
       "      <td id=\"T_d9f71_row0_col16\" class=\"data row0 col16\" >-0.055388</td>\n",
       "      <td id=\"T_d9f71_row0_col17\" class=\"data row0 col17\" >0.228541</td>\n",
       "      <td id=\"T_d9f71_row0_col18\" class=\"data row0 col18\" >0.167371</td>\n",
       "      <td id=\"T_d9f71_row0_col19\" class=\"data row0 col19\" >-0.642883</td>\n",
       "      <td id=\"T_d9f71_row0_col20\" class=\"data row0 col20\" >0.137852</td>\n",
       "      <td id=\"T_d9f71_row0_col21\" class=\"data row0 col21\" >-0.368416</td>\n",
       "      <td id=\"T_d9f71_row0_col22\" class=\"data row0 col22\" >0.673262</td>\n",
       "      <td id=\"T_d9f71_row0_col23\" class=\"data row0 col23\" >1.221049</td>\n",
       "      <td id=\"T_d9f71_row0_col24\" class=\"data row0 col24\" >0.055180</td>\n",
       "      <td id=\"T_d9f71_row0_col25\" class=\"data row0 col25\" >0.155092</td>\n",
       "      <td id=\"T_d9f71_row0_col26\" class=\"data row0 col26\" >-0.351275</td>\n",
       "      <td id=\"T_d9f71_row0_col27\" class=\"data row0 col27\" >0.047357</td>\n",
       "      <td id=\"T_d9f71_row0_col28\" class=\"data row0 col28\" >-0.382673</td>\n",
       "      <td id=\"T_d9f71_row0_col29\" class=\"data row0 col29\" >0.106707</td>\n",
       "      <td id=\"T_d9f71_row0_col30\" class=\"data row0 col30\" >-0.503887</td>\n",
       "      <td id=\"T_d9f71_row0_col31\" class=\"data row0 col31\" >-0.382388</td>\n",
       "      <td id=\"T_d9f71_row0_col32\" class=\"data row0 col32\" >-0.793739</td>\n",
       "      <td id=\"T_d9f71_row0_col33\" class=\"data row0 col33\" >0.000220</td>\n",
       "      <td id=\"T_d9f71_row0_col34\" class=\"data row0 col34\" >-0.543954</td>\n",
       "      <td id=\"T_d9f71_row0_col35\" class=\"data row0 col35\" >0.002748</td>\n",
       "      <td id=\"T_d9f71_row0_col36\" class=\"data row0 col36\" >0.004899</td>\n",
       "      <td id=\"T_d9f71_row0_col37\" class=\"data row0 col37\" >-0.623647</td>\n",
       "      <td id=\"T_d9f71_row0_col38\" class=\"data row0 col38\" >0.080736</td>\n",
       "      <td id=\"T_d9f71_row0_col39\" class=\"data row0 col39\" >1.471969</td>\n",
       "      <td id=\"T_d9f71_row0_col40\" class=\"data row0 col40\" >1.248103</td>\n",
       "      <td id=\"T_d9f71_row0_col41\" class=\"data row0 col41\" >0.090844</td>\n",
       "      <td id=\"T_d9f71_row0_col42\" class=\"data row0 col42\" >-0.031338</td>\n",
       "      <td id=\"T_d9f71_row0_col43\" class=\"data row0 col43\" >-1.339553</td>\n",
       "      <td id=\"T_d9f71_row0_col44\" class=\"data row0 col44\" >1.300852</td>\n",
       "      <td id=\"T_d9f71_row0_col45\" class=\"data row0 col45\" >-0.932679</td>\n",
       "      <td id=\"T_d9f71_row0_col46\" class=\"data row0 col46\" >-1.108890</td>\n",
       "      <td id=\"T_d9f71_row0_col47\" class=\"data row0 col47\" >-0.016950</td>\n",
       "      <td id=\"T_d9f71_row0_col48\" class=\"data row0 col48\" >-0.390899</td>\n",
       "      <td id=\"T_d9f71_row0_col49\" class=\"data row0 col49\" >-0.041018</td>\n",
       "      <td id=\"T_d9f71_row0_col50\" class=\"data row0 col50\" >-0.164391</td>\n",
       "      <td id=\"T_d9f71_row0_col51\" class=\"data row0 col51\" >0.327332</td>\n",
       "      <td id=\"T_d9f71_row0_col52\" class=\"data row0 col52\" >0.592984</td>\n",
       "      <td id=\"T_d9f71_row0_col53\" class=\"data row0 col53\" >0.670466</td>\n",
       "      <td id=\"T_d9f71_row0_col54\" class=\"data row0 col54\" >-0.306300</td>\n",
       "      <td id=\"T_d9f71_row0_col55\" class=\"data row0 col55\" >-0.179646</td>\n",
       "      <td id=\"T_d9f71_row0_col56\" class=\"data row0 col56\" >-0.179646</td>\n",
       "      <td id=\"T_d9f71_row0_col57\" class=\"data row0 col57\" >-0.076793</td>\n",
       "      <td id=\"T_d9f71_row0_col58\" class=\"data row0 col58\" >-0.130233</td>\n",
       "      <td id=\"T_d9f71_row0_col59\" class=\"data row0 col59\" >2.000000</td>\n",
       "    </tr>\n",
       "    <tr>\n",
       "      <th id=\"T_d9f71_level0_row1\" class=\"row_heading level0 row1\" >14</th>\n",
       "      <td id=\"T_d9f71_row1_col0\" class=\"data row1 col0\" >-0.084857</td>\n",
       "      <td id=\"T_d9f71_row1_col1\" class=\"data row1 col1\" >-0.028952</td>\n",
       "      <td id=\"T_d9f71_row1_col2\" class=\"data row1 col2\" >-0.003878</td>\n",
       "      <td id=\"T_d9f71_row1_col3\" class=\"data row1 col3\" >0.212590</td>\n",
       "      <td id=\"T_d9f71_row1_col4\" class=\"data row1 col4\" >-0.544985</td>\n",
       "      <td id=\"T_d9f71_row1_col5\" class=\"data row1 col5\" >-0.110829</td>\n",
       "      <td id=\"T_d9f71_row1_col6\" class=\"data row1 col6\" >0.456868</td>\n",
       "      <td id=\"T_d9f71_row1_col7\" class=\"data row1 col7\" >-0.000840</td>\n",
       "      <td id=\"T_d9f71_row1_col8\" class=\"data row1 col8\" >-0.930174</td>\n",
       "      <td id=\"T_d9f71_row1_col9\" class=\"data row1 col9\" >-0.073819</td>\n",
       "      <td id=\"T_d9f71_row1_col10\" class=\"data row1 col10\" >-0.220010</td>\n",
       "      <td id=\"T_d9f71_row1_col11\" class=\"data row1 col11\" >0.514866</td>\n",
       "      <td id=\"T_d9f71_row1_col12\" class=\"data row1 col12\" >0.309467</td>\n",
       "      <td id=\"T_d9f71_row1_col13\" class=\"data row1 col13\" >0.435865</td>\n",
       "      <td id=\"T_d9f71_row1_col14\" class=\"data row1 col14\" >0.511138</td>\n",
       "      <td id=\"T_d9f71_row1_col15\" class=\"data row1 col15\" >0.341090</td>\n",
       "      <td id=\"T_d9f71_row1_col16\" class=\"data row1 col16\" >0.170532</td>\n",
       "      <td id=\"T_d9f71_row1_col17\" class=\"data row1 col17\" >0.168638</td>\n",
       "      <td id=\"T_d9f71_row1_col18\" class=\"data row1 col18\" >0.633537</td>\n",
       "      <td id=\"T_d9f71_row1_col19\" class=\"data row1 col19\" >0.065257</td>\n",
       "      <td id=\"T_d9f71_row1_col20\" class=\"data row1 col20\" >0.360786</td>\n",
       "      <td id=\"T_d9f71_row1_col21\" class=\"data row1 col21\" >-0.212346</td>\n",
       "      <td id=\"T_d9f71_row1_col22\" class=\"data row1 col22\" >0.386629</td>\n",
       "      <td id=\"T_d9f71_row1_col23\" class=\"data row1 col23\" >0.973350</td>\n",
       "      <td id=\"T_d9f71_row1_col24\" class=\"data row1 col24\" >0.458467</td>\n",
       "      <td id=\"T_d9f71_row1_col25\" class=\"data row1 col25\" >0.155092</td>\n",
       "      <td id=\"T_d9f71_row1_col26\" class=\"data row1 col26\" >-0.476799</td>\n",
       "      <td id=\"T_d9f71_row1_col27\" class=\"data row1 col27\" >-0.020520</td>\n",
       "      <td id=\"T_d9f71_row1_col28\" class=\"data row1 col28\" >-0.394231</td>\n",
       "      <td id=\"T_d9f71_row1_col29\" class=\"data row1 col29\" >0.218375</td>\n",
       "      <td id=\"T_d9f71_row1_col30\" class=\"data row1 col30\" >-0.474004</td>\n",
       "      <td id=\"T_d9f71_row1_col31\" class=\"data row1 col31\" >-0.496654</td>\n",
       "      <td id=\"T_d9f71_row1_col32\" class=\"data row1 col32\" >-1.020671</td>\n",
       "      <td id=\"T_d9f71_row1_col33\" class=\"data row1 col33\" >0.195975</td>\n",
       "      <td id=\"T_d9f71_row1_col34\" class=\"data row1 col34\" >-0.543954</td>\n",
       "      <td id=\"T_d9f71_row1_col35\" class=\"data row1 col35\" >0.293612</td>\n",
       "      <td id=\"T_d9f71_row1_col36\" class=\"data row1 col36\" >0.261736</td>\n",
       "      <td id=\"T_d9f71_row1_col37\" class=\"data row1 col37\" >-0.013977</td>\n",
       "      <td id=\"T_d9f71_row1_col38\" class=\"data row1 col38\" >0.314173</td>\n",
       "      <td id=\"T_d9f71_row1_col39\" class=\"data row1 col39\" >0.396738</td>\n",
       "      <td id=\"T_d9f71_row1_col40\" class=\"data row1 col40\" >0.188168</td>\n",
       "      <td id=\"T_d9f71_row1_col41\" class=\"data row1 col41\" >0.034587</td>\n",
       "      <td id=\"T_d9f71_row1_col42\" class=\"data row1 col42\" >0.033610</td>\n",
       "      <td id=\"T_d9f71_row1_col43\" class=\"data row1 col43\" >-0.752757</td>\n",
       "      <td id=\"T_d9f71_row1_col44\" class=\"data row1 col44\" >0.222982</td>\n",
       "      <td id=\"T_d9f71_row1_col45\" class=\"data row1 col45\" >-0.785102</td>\n",
       "      <td id=\"T_d9f71_row1_col46\" class=\"data row1 col46\" >-0.844991</td>\n",
       "      <td id=\"T_d9f71_row1_col47\" class=\"data row1 col47\" >0.201868</td>\n",
       "      <td id=\"T_d9f71_row1_col48\" class=\"data row1 col48\" >-0.390899</td>\n",
       "      <td id=\"T_d9f71_row1_col49\" class=\"data row1 col49\" >-0.044567</td>\n",
       "      <td id=\"T_d9f71_row1_col50\" class=\"data row1 col50\" >-0.181853</td>\n",
       "      <td id=\"T_d9f71_row1_col51\" class=\"data row1 col51\" >0.228609</td>\n",
       "      <td id=\"T_d9f71_row1_col52\" class=\"data row1 col52\" >0.654075</td>\n",
       "      <td id=\"T_d9f71_row1_col53\" class=\"data row1 col53\" >0.514493</td>\n",
       "      <td id=\"T_d9f71_row1_col54\" class=\"data row1 col54\" >-0.347399</td>\n",
       "      <td id=\"T_d9f71_row1_col55\" class=\"data row1 col55\" >-0.408944</td>\n",
       "      <td id=\"T_d9f71_row1_col56\" class=\"data row1 col56\" >-0.408944</td>\n",
       "      <td id=\"T_d9f71_row1_col57\" class=\"data row1 col57\" >-0.125415</td>\n",
       "      <td id=\"T_d9f71_row1_col58\" class=\"data row1 col58\" >-0.154590</td>\n",
       "      <td id=\"T_d9f71_row1_col59\" class=\"data row1 col59\" >2.000000</td>\n",
       "    </tr>\n",
       "  </tbody>\n",
       "</table>\n"
      ],
      "text/plain": [
       "<pandas.io.formats.style.Styler at 0x75f3eba0fbf0>"
      ]
     },
     "execution_count": 123,
     "metadata": {},
     "output_type": "execute_result"
    }
   ],
   "source": [
    "cluster_medians.loc[[13, 14]].style.background_gradient(axis=0, cmap=\"BuGn\")"
   ]
  },
  {
   "cell_type": "code",
   "execution_count": null,
   "id": "d8521346-99bb-4cbd-9dcb-0192d420985c",
   "metadata": {},
   "outputs": [],
   "source": []
  },
  {
   "cell_type": "code",
   "execution_count": null,
   "id": "1f077d78-c63a-4ece-b52a-5e9d07f2055d",
   "metadata": {},
   "outputs": [],
   "source": []
  },
  {
   "cell_type": "code",
   "execution_count": 10,
   "id": "b8e11a57-a1f5-4bab-bc74-0f8e91e0d874",
   "metadata": {},
   "outputs": [],
   "source": [
    "from core.utils import used_keys\n",
    "new_keys = used_keys.copy()\n",
    "new_keys['limLPS'] = 'building structure optimised for sunlight'"
   ]
  },
  {
   "cell_type": "code",
   "execution_count": 11,
   "id": "635364d9-9e92-462a-912f-b33ba8f62025",
   "metadata": {},
   "outputs": [],
   "source": [
    "results = {}\n",
    "for i, row_data in cluster_medians.iterrows():\n",
    "    diffs = row_data - total_median\n",
    "    top_diffs = ((diffs) ** 2).sort_values().iloc[-20:]\n",
    "    top_diffs = diaffs.loc[top_diffs.index].sort_values(ascending=False)\n",
    "    top_diffs.index = [new_keys[k] for k in top_diffs.index]\n",
    "    results[i] = top_diffs"
   ]
  },
  {
   "cell_type": "code",
   "execution_count": 134,
   "id": "75f4069e-577b-4ada-a8a0-2e7f0f9d24f0",
   "metadata": {},
   "outputs": [
    {
     "data": {
      "text/plain": [
       "ssbElo    0.620655\n",
       "ssbCCo    0.415312\n",
       "mibElo    0.354008\n",
       "mtbAli    0.304933\n",
       "sdsSWD    0.205764\n",
       "ltbIBD    0.203568\n",
       "linP4W   -0.273769\n",
       "sscERI   -0.373046\n",
       "sscCCo   -0.396430\n",
       "ltcBuA   -0.479678\n",
       "ldsCDL   -0.831073\n",
       "ldsMSL   -0.963013\n",
       "sdsAre   -1.327308\n",
       "sddAre   -1.351840\n",
       "sdsLen   -1.489417\n",
       "mtdMDi   -1.572736\n",
       "ldsAre   -1.819915\n",
       "midAre   -1.858163\n",
       "ldsRea   -1.925960\n",
       "midRea   -2.119777\n",
       "dtype: float64"
      ]
     },
     "execution_count": 134,
     "metadata": {},
     "output_type": "execute_result"
    }
   ],
   "source": [
    "diffs = cluster_medians.loc[12] - cluster_medians.loc[11]\n",
    "top_diffs = ((diffs) ** 2).sort_values().iloc[-20:]\n",
    "top_diffs = diffs.loc[top_diffs.index].sort_values(ascending=False)\n",
    "top_diffs"
   ]
  },
  {
   "cell_type": "code",
   "execution_count": 137,
   "id": "76f523f5-47a3-46cc-8d44-2e680485528c",
   "metadata": {},
   "outputs": [
    {
     "data": {
      "text/plain": [
       "'reached ETCs by local street network'"
      ]
     },
     "execution_count": 137,
     "metadata": {},
     "output_type": "execute_result"
    }
   ],
   "source": [
    "new_keys['ldsRea']"
   ]
  },
  {
   "cell_type": "code",
   "execution_count": 150,
   "id": "ca7004dc-7442-4630-a7e8-003b9af4d265",
   "metadata": {
    "scrolled": true
   },
   "outputs": [
    {
     "data": {
      "text/plain": [
       "total area of tess cells in node neigbhorhood            3.416564\n",
       "area covered by node-attached ETCs                       3.300345\n",
       "reached total ETC area by local street network           3.297136\n",
       "area covered by edge-attached ETCs                       2.994977\n",
       "area of ETC                                              2.994198\n",
       "longest axis length of ETC                               2.964738\n",
       "area covered by neighbouring cells                       2.815241\n",
       "mean distance to neighbouring nodes of street network    2.802832\n",
       "mean inter-building distance                             2.768114\n",
       "mean segment length within 3 steps                       2.757124\n",
       "mean distance between neighbouring buildings             2.675855\n",
       "length of street segment                                 2.453655\n",
       "openness of street profile                               2.045215\n",
       "width of street profile                                  1.514996\n",
       "local cul-de-sac length of street network                1.363555\n",
       "level of building adjacency                              1.343098\n",
       "reached ETCs by local street network                     1.339602\n",
       "local degree weighted node density of street network    -1.317301\n",
       "covered area ratio of ETC                               -1.338165\n",
       "perimeter-weighted neighbours of ETC                    -1.762419\n",
       "dtype: float64"
      ]
     },
     "execution_count": 150,
     "metadata": {},
     "output_type": "execute_result"
    }
   ],
   "source": [
    "results[9]"
   ]
  },
  {
   "cell_type": "code",
   "execution_count": 1,
   "id": "4ad17b08-22a6-4049-9da3-61d9868c02d0",
   "metadata": {},
   "outputs": [],
   "source": [
    "cluster_descriptions = {\n",
    "    \"1 - Dense Connected Developments\": \"In this cluster, buildings frequently share walls forming row-like structures and occupy larger portions of the area. The density of blocks and local street connectivity are moderately high, while inter-building distances remain relatively small. Overall, this configuration yields a dense, tightly arranged environment.\",\n",
    "    \"2 - Large Interconnected Blocks\": \"This cluster is characterized by a high count of connected buildings forming enclosed blocks with courtyards. The covered area ratio is notably high, while street corridors are relatively narrow, resulting in consolidated building formations.\",\n",
    "    \"3 - Extensive Courtyard Complexes\": \"Developments in this cluster exhibit multiple courtyards, numerous connected buildings, and large perimeter walls. Building sizes vary significantly, creating expansive connected areas distinguished by substantial adjacency and courtyard presence.\",\n",
    "    \"4 - Massive Connected Aggregations\": \"This cluster displays very large connected building areas, lengthy perimeter walls, and considerable variability in building sizes. The overall formation covers vast stretches of the built environment with substantial coverage.\",\n",
    "    \"5 - Dense Standalone Buildings\": \"This cluster features a well-connected street layout with a notable proportion of multi-way intersections. Shared walls between buildings are less prevalent, reflecting a pattern of standalone structures within a street network robust network.\",\n",
    "    \"6 - Compact Development\": \"Development in this cluster is characterised by a moderate number of buildings and relatively dense local street connectivity. Shared walls appear regularly, and Inter-building distances are relatively small, suggesting a compact layout.\",\n",
    "    \"7 - Cul-de-Sac Layout\": \"This cluster is distinguished by a significant presence of cul-de-sacs and relatively modest building coverage. Although local node density is moderate, the overall street network is not highly interconnected.\",\n",
    "    \"8 - Aligned Winding Streets\": \"Here, buildings exhibit a consistent alignment along streets of varying width. However, the overall street connectivity is lower than average, leading to a moderately ordered but less connected layout.\",\n",
    "    \"9 - Sparse Rural Development\": \"Developments in this cluster have greater distances between buildings and street nodes. Streets are often wider, and adjacency is comparatively low.\",\n",
    "    \"10 - Large Wide-Spaced Complexes\": \"This cluster is defined by substantial building footprints, relatively wide streets, and significant spacing between structures. Buildings in this cluster stand out for their size as well as their strong compactness, squareness and rectangularity.\",\n",
    "    \"11 - Dispersed Linear Development\": \"This cluster exhibits long street segments, considerable distances between intersections, and minimal shared walls. The result is a dispersed layout with moderate development density, typically forming long linear villages.\",\n",
    "    \"12 - Linear Development\": \"This cluster is characterized by lengthy street segments and higher distances between street intersections, albeit shorter than in the case of Dispersed Linear Development. Buildings are isolated, relatively small and far apart from each other. Overall the total built-up area in the development is low to moderate.\",\n",
    "    \"13 - Sparse Open Layout\": \"Greater distances between buildings, fewer shared walls, and a lower coverage ratio are defining traits of this cluster. Streets remain relatively open, leading to a loosely structured environment. Overall the total built-up area in the development is low.\",\n",
    "    \"14 - Sparse Road-Linked Development\": \"With larger spacing between buildings, fewer shared walls, and moderate to long street segments, this cluster highlights a relatively open pattern. Compared to other sparse development, there are fewer streets relative to the number of buildings, leading to a higher granularity.\",\n",
    "    \"15 - Large Utilitarian Development\": \"This cluster consists of buildings with substantial footprints, wide street profiles, and notable variation in size. The design does not emphasize sunlight exposure, creating broad but less refined configurations, typical for industrial and other service areas.\",\n",
    "    \"16 - Extensive Wide-Spaced Developments\": \"This cluster is marked by large building footprints, broad street profiles, and fewer shared walls. The resulting environment is spacious, with significant open areas between structures, typical for modernist housing.\",\n",
    "}"
   ]
  },
  {
   "cell_type": "code",
   "execution_count": null,
   "id": "2c6a47b5-7a35-4127-8ed1-eb688134bc2e",
   "metadata": {},
   "outputs": [],
   "source": []
  },
  {
   "cell_type": "code",
   "execution_count": null,
   "id": "b5e39fc5-5e36-4623-a0a5-6cb0b9f6abdc",
   "metadata": {},
   "outputs": [],
   "source": []
  },
  {
   "cell_type": "code",
   "execution_count": null,
   "id": "fd77b6f5-d803-4a43-9718-9628d930e8f8",
   "metadata": {},
   "outputs": [],
   "source": []
  },
  {
   "cell_type": "markdown",
   "id": "4058d96d-9c90-469b-b3b3-2cfd6bf3fe9f",
   "metadata": {},
   "source": [
    "### Distances"
   ]
  },
  {
   "cell_type": "code",
   "execution_count": null,
   "id": "cfc7875a-49ba-42dc-bf44-bdc39a017f88",
   "metadata": {},
   "outputs": [],
   "source": []
  },
  {
   "cell_type": "code",
   "execution_count": 46,
   "id": "7d2f78a1-52ea-4603-8a8b-4de98f8595d7",
   "metadata": {},
   "outputs": [],
   "source": [
    "from core.interactive_dendrogram import get_original_observations\n",
    "\n",
    "n = linkage_matrix.shape[0] + 1\n",
    "links_to_calculate = linkage_matrix[linkage_matrix[:, 2] >= 1/7]"
   ]
  },
  {
   "cell_type": "code",
   "execution_count": 66,
   "id": "28e29cc2-2d89-4325-b032-0f9d267e90fd",
   "metadata": {},
   "outputs": [],
   "source": [
    "results = {}\n",
    "for link in links_to_calculate:\n",
    "    left, right, dist = int(link[0]), int(link[1]), link[2]\n",
    "    left_obs, right_obs = get_original_observations(linkage_matrix, left, n), get_original_observations(linkage_matrix, right, n)\n",
    "    x = regional_ward_morphotopes_data.iloc[left_obs].median()\n",
    "    y = regional_ward_morphotopes_data.iloc[right_obs].median()\n",
    "    cluster_dists = ((x - y) ** 2).sum()**(.5)\n",
    "    results[(left, right)] = cluster_dists\n",
    "    "
   ]
  },
  {
   "cell_type": "code",
   "execution_count": 67,
   "id": "cbc7894d-72c7-4bf0-910c-4e661d7d6e7e",
   "metadata": {},
   "outputs": [],
   "source": [
    "# i = -2\n",
    "# left, right, dist = int(links_to_calculate[i, 0]), int(links_to_calculate[i, 1]), links_to_calculate[i, 2]\n",
    "# should be np.float64(7.051120220030015)"
   ]
  },
  {
   "cell_type": "code",
   "execution_count": null,
   "id": "30a0e750-262e-4e67-b9c0-931e4ce90024",
   "metadata": {},
   "outputs": [],
   "source": []
  },
  {
   "cell_type": "code",
   "execution_count": 68,
   "id": "e2880319-0f79-45d0-ae97-2874d97b474c",
   "metadata": {},
   "outputs": [
    {
     "data": {
      "text/plain": [
       "{(71103, 73469): np.float64(4.631438099471403),\n",
       " (74381, 76531): np.float64(4.313397652797818),\n",
       " (73470, 76532): np.float64(4.819816205185427),\n",
       " (15926, 47679): np.float64(159.28181365313333),\n",
       " (76533, 76534): np.float64(192.5852492621677),\n",
       " (76716, 77488): np.float64(9.583827364827894),\n",
       " (77498, 77505): np.float64(29.70576043090057),\n",
       " (77489, 77506): np.float64(44.57460352347593),\n",
       " (62099, 77507): np.float64(260.8929653501374),\n",
       " (76535, 77508): np.float64(8.711251926335793),\n",
       " (3022, 56359): np.float64(36.31404485621644),\n",
       " (48005, 59033): np.float64(31.675686613502833),\n",
       " (33905, 77511): np.float64(37.27722321802809),\n",
       " (77510, 77512): np.float64(66.18677059304397),\n",
       " (17995, 39891): np.float64(70.0318506889132),\n",
       " (62200, 77514): np.float64(116.40725374095372),\n",
       " (77513, 77515): np.float64(150.74890001434284),\n",
       " (77509, 77516): np.float64(107.30869032035186),\n",
       " (78226, 78414): np.float64(2.8875428878430864),\n",
       " (78746, 79700): np.float64(2.8091897475135124),\n",
       " (78415, 79701): np.float64(2.6403310673188987),\n",
       " (81666, 82759): np.float64(2.5840142955132923),\n",
       " (48982, 82762): np.float64(17.561937773883024),\n",
       " (82760, 82763): np.float64(46.72755390176838),\n",
       " (79702, 82764): np.float64(3.1990793008936063),\n",
       " (83808, 84423): np.float64(2.3794735188177127),\n",
       " (84748, 86690): np.float64(2.8895674427491516),\n",
       " (84424, 86691): np.float64(2.312072337161048),\n",
       " (88803, 91963): np.float64(2.0502763321587207),\n",
       " (92140, 92979): np.float64(3.5794149508325797),\n",
       " (91964, 92980): np.float64(2.8161085177324012),\n",
       " (86692, 92981): np.float64(2.4418501492688067),\n",
       " (82765, 92982): np.float64(3.0801860300935027),\n",
       " (93016, 93032): np.float64(18.334822884330443),\n",
       " (94161, 94643): np.float64(3.627474941935225),\n",
       " (93033, 94644): np.float64(10.160406434561892),\n",
       " (95351, 98074): np.float64(3.2059717402885113),\n",
       " (100323, 101176): np.float64(2.429813645593507),\n",
       " (98075, 101177): np.float64(2.3634009008291583),\n",
       " (94645, 101178): np.float64(4.725097928778128),\n",
       " (102184, 103432): np.float64(3.0887169218174924),\n",
       " (104276, 107356): np.float64(2.3829910429207772),\n",
       " (103433, 107357): np.float64(3.1311273283591032),\n",
       " (107498, 107770): np.float64(4.75473203123838),\n",
       " (110968, 113033): np.float64(2.388473370535076),\n",
       " (107771, 113034): np.float64(5.866309955164124),\n",
       " (107358, 113035): np.float64(2.2422495067649812),\n",
       " (101179, 113036): np.float64(2.4985987260633395),\n",
       " (92983, 113037): np.float64(2.808362238955476),\n",
       " (77517, 113038): np.float64(4.755188830215059),\n",
       " (44687, 113056): np.float64(63.81758825470277),\n",
       " (113105, 113205): np.float64(10.444343281092115),\n",
       " (113057, 113206): np.float64(25.421546000728753),\n",
       " (113390, 114156): np.float64(5.44835685371373),\n",
       " (114221, 114535): np.float64(7.045403552435647),\n",
       " (114157, 114536): np.float64(5.906223976257677),\n",
       " (113207, 114537): np.float64(10.83557581729635),\n",
       " (114543, 114546): np.float64(15.082155556324862),\n",
       " (5437, 114547): np.float64(32.13119009791716),\n",
       " (8093, 20440): np.float64(22.527258814647634),\n",
       " (114548, 114549): np.float64(24.24470785856998),\n",
       " (114538, 114550): np.float64(48.024770469171095),\n",
       " (114634, 114725): np.float64(5.13206115488033),\n",
       " (114956, 115154): np.float64(3.29602207688789),\n",
       " (114726, 115155): np.float64(4.4241764207346),\n",
       " (115233, 115246): np.float64(9.925416302958483),\n",
       " (115267, 115330): np.float64(8.308187144866801),\n",
       " (115247, 115331): np.float64(6.8657072933151655),\n",
       " (115156, 115332): np.float64(6.173213676723175),\n",
       " (115845, 116276): np.float64(2.8329103185869235),\n",
       " (116467, 116829): np.float64(3.5231763773899862),\n",
       " (116277, 116830): np.float64(3.5987690910140464),\n",
       " (117417, 117648): np.float64(4.755914686358812),\n",
       " (117651, 117652): np.float64(17.03585478801904),\n",
       " (117649, 117653): np.float64(47.116614721747574),\n",
       " (116831, 117654): np.float64(3.831218182993025),\n",
       " (115333, 117655): np.float64(5.148468470791915),\n",
       " (114551, 117656): np.float64(5.463531573630248),\n",
       " (118425, 119370): np.float64(3.0401445178307793),\n",
       " (120155, 120843): np.float64(3.3705784868671627),\n",
       " (119371, 120844): np.float64(4.020519042858473),\n",
       " (121284, 121890): np.float64(3.1970603595771325),\n",
       " (122655, 123313): np.float64(2.892072863373453),\n",
       " (121891, 123314): np.float64(3.1890910904716137),\n",
       " (120845, 123315): np.float64(4.033217699600431),\n",
       " (124390, 125813): np.float64(2.2088961585311044),\n",
       " (126735, 128009): np.float64(2.417359790242391),\n",
       " (125814, 128010): np.float64(2.651510415863105),\n",
       " (128183, 129977): np.float64(6.938461061077382),\n",
       " (130399, 130456): np.float64(10.934156341028388),\n",
       " (129978, 130457): np.float64(4.908823391356148),\n",
       " (128011, 130458): np.float64(3.041735197831662),\n",
       " (123316, 130459): np.float64(3.2287688922485143),\n",
       " (130491, 131054): np.float64(13.525687725836654),\n",
       " (132096, 132098): np.float64(48.14728584830609),\n",
       " (131055, 132099): np.float64(5.754713602443375),\n",
       " (41550, 132100): np.float64(174.96508492690774),\n",
       " (132226, 132263): np.float64(8.07558492703528),\n",
       " (132490, 132977): np.float64(3.7699047395408085),\n",
       " (132264, 132978): np.float64(6.141643256093842),\n",
       " (23651, 45360): np.float64(49.96050001513898),\n",
       " (42136, 132980): np.float64(114.80627223690261),\n",
       " (132979, 132981): np.float64(63.88822628573055),\n",
       " (132101, 132982): np.float64(7.9318068063941825),\n",
       " (130460, 132983): np.float64(8.848165748916442),\n",
       " (117657, 132984): np.float64(6.494931677031307),\n",
       " (113039, 132985): np.float64(5.615978532068529)}"
      ]
     },
     "execution_count": 68,
     "metadata": {},
     "output_type": "execute_result"
    }
   ],
   "source": [
    "results"
   ]
  },
  {
   "cell_type": "code",
   "execution_count": null,
   "id": "d12ab54f-eade-498d-93e1-d33f9980306c",
   "metadata": {},
   "outputs": [],
   "source": []
  },
  {
   "cell_type": "code",
   "execution_count": null,
   "id": "c03208cc-6a8c-4826-8533-b2a2d0285bea",
   "metadata": {},
   "outputs": [],
   "source": []
  },
  {
   "cell_type": "code",
   "execution_count": null,
   "id": "0dea0c46-3f6d-4c07-8dc3-a036693b57b6",
   "metadata": {},
   "outputs": [],
   "source": []
  },
  {
   "cell_type": "code",
   "execution_count": null,
   "id": "4564e764-e8e7-48c4-853c-207a7fed73ca",
   "metadata": {},
   "outputs": [],
   "source": []
  },
  {
   "cell_type": "code",
   "execution_count": null,
   "id": "a53af964-2ebf-40aa-8558-60a8702f2ce3",
   "metadata": {},
   "outputs": [],
   "source": []
  },
  {
   "cell_type": "code",
   "execution_count": null,
   "id": "1e59f43c-3562-421f-b147-0ab9f1d619fc",
   "metadata": {},
   "outputs": [],
   "source": []
  },
  {
   "cell_type": "markdown",
   "id": "dd26aa70-1928-470f-879d-01eb1bfb1a06",
   "metadata": {},
   "source": [
    "### Plotting"
   ]
  },
  {
   "cell_type": "code",
   "execution_count": null,
   "id": "292552be-e914-48c1-85c5-d99a8244c45b",
   "metadata": {},
   "outputs": [],
   "source": [
    "import lonboard\n",
    "from sidecar import Sidecar\n",
    "from core.cluster_validation import get_color\n",
    "\n",
    "regional_clusters = pd.read_parquet(f'/data/uscuni-ulce/processed_data/clusters/final_clusters_{v}.pq')[0]\n",
    "final_colors = pd.DataFrame(get_color(final_clusters.values), final_clusters.values).drop_duplicates()\n",
    "final_colors.loc[-1] = [255,255,255]"
   ]
  },
  {
   "cell_type": "code",
   "execution_count": null,
   "id": "27109ad0-d962-4b2f-be96-7ce639c74b9f",
   "metadata": {},
   "outputs": [],
   "source": [
    "final_colors[final_colors != 6] = [255,255,255]"
   ]
  },
  {
   "cell_type": "code",
   "execution_count": null,
   "id": "7e2ab636-2756-4f1e-af03-8d603290ed0d",
   "metadata": {},
   "outputs": [],
   "source": [
    "region_id = 69333"
   ]
  },
  {
   "cell_type": "code",
   "execution_count": null,
   "id": "f38a6699-a083-4106-a07b-a446fcdf6b5b",
   "metadata": {},
   "outputs": [],
   "source": [
    "etcs = gpd.read_parquet(f\"/data/uscuni-ulce/processed_data/clusters/clusters_{region_id}_{v}.pq\")\n",
    "etcs['final'] = etcs['morph'].map(lambda x: final_clusters.loc[regional_clusters.loc[x]] if x in regional_clusters else -1)\n",
    "etcs['regional'] = etcs['morph'].map(lambda x: regional_clusters.loc[x] if x in regional_clusters else \"-1\")"
   ]
  },
  {
   "cell_type": "code",
   "execution_count": null,
   "id": "d023be12-941c-4f47-a76c-ba27b136daf4",
   "metadata": {},
   "outputs": [],
   "source": [
    "\n",
    "layer = lonboard.SolidPolygonLayer.from_geopandas(etcs, opacity=.7)\n",
    "\n",
    "\n",
    "sc = Sidecar(title=f'Final Clusters')\n",
    "m = lonboard.Map(layer, basemap_style=lonboard.basemap.CartoBasemap.DarkMatter)\n",
    "with sc:\n",
    "    display(m)\n",
    "\n",
    "layer.get_fill_color = final_colors.loc[etcs.final].values.astype('uint8')"
   ]
  },
  {
   "cell_type": "code",
   "execution_count": null,
   "id": "78273cfb-7ce4-4a2f-b21f-71c4a99d47be",
   "metadata": {},
   "outputs": [],
   "source": []
  },
  {
   "cell_type": "code",
   "execution_count": null,
   "id": "542fffca-1bcc-4fa3-83e0-50984202174a",
   "metadata": {},
   "outputs": [],
   "source": [
    "target = 9\n",
    "final_colors[final_colors.index != target] = [0,0,0]\n",
    "final_colors[final_colors.index == target] = [255,255,255]\n",
    "\n",
    "layer.get_fill_color = final_colors.loc[etcs.final].values.astype('uint8')"
   ]
  },
  {
   "cell_type": "code",
   "execution_count": null,
   "id": "7979eab1-b095-410c-a5a9-98a77758d9a2",
   "metadata": {},
   "outputs": [],
   "source": []
  }
 ],
 "metadata": {
  "kernelspec": {
   "display_name": "Python 3 (ipykernel)",
   "language": "python",
   "name": "python3"
  },
  "language_info": {
   "codemirror_mode": {
    "name": "ipython",
    "version": 3
   },
   "file_extension": ".py",
   "mimetype": "text/x-python",
   "name": "python",
   "nbconvert_exporter": "python",
   "pygments_lexer": "ipython3",
   "version": "3.12.8"
  }
 },
 "nbformat": 4,
 "nbformat_minor": 5
}
