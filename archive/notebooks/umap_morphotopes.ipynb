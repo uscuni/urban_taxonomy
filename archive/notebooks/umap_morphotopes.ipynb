{
 "cells": [
  {
   "cell_type": "code",
   "execution_count": 1,
   "id": "97477e38-1f41-445e-9976-97e3ff257896",
   "metadata": {},
   "outputs": [
    {
     "name": "stderr",
     "output_type": "stream",
     "text": [
      "/home/krasen/urban_taxonomy/.pixi/envs/default/lib/python3.12/site-packages/sklearn/utils/deprecation.py:151: FutureWarning: 'force_all_finite' was renamed to 'ensure_all_finite' in 1.6 and will be removed in 1.8.\n",
      "  warnings.warn(\n",
      "/home/krasen/urban_taxonomy/.pixi/envs/default/lib/python3.12/site-packages/sklearn/utils/deprecation.py:151: FutureWarning: 'force_all_finite' was renamed to 'ensure_all_finite' in 1.6 and will be removed in 1.8.\n",
      "  warnings.warn(\n"
     ]
    }
   ],
   "source": [
    "import momepy as mm\n",
    "import numpy as np\n",
    "import numba\n",
    "import geopandas as gpd\n",
    "import pandas as pd\n",
    "import shapely\n",
    "from sklearn.preprocessing import StandardScaler\n",
    "from collections import namedtuple\n",
    "from core.cluster_validation import get_linkage_matrix\n",
    "from libpysal.graph import read_parquet, Graph\n",
    "from core.generate_context import spatially_weighted_partial_lag\n",
    "from core.generate_clusters import preprocess_clustering_data\n",
    "from sklearn.cluster import AgglomerativeClustering\n",
    "from core.cluster_validation import get_linkage_matrix\n",
    "from scipy.cluster.hierarchy import fcluster\n",
    "from core.utils import used_keys"
   ]
  },
  {
   "cell_type": "code",
   "execution_count": null,
   "id": "d0b2c247-3af5-4e10-8ee0-acf420650679",
   "metadata": {},
   "outputs": [],
   "source": []
  },
  {
   "cell_type": "code",
   "execution_count": 2,
   "id": "f38308e4-ff47-4f9c-a8e7-bd37f8e2fee0",
   "metadata": {},
   "outputs": [],
   "source": [
    "regions_datadir = \"/data/uscuni-ulce/\"\n",
    "morphotopes_dir = '/data/uscuni-ulce/processed_data/morphotopes/'\n",
    "model_params = '_75_0_None_None_False'\n",
    "clip = None\n",
    "to_drop = [\n",
    "        'stcSAl','stbOri','stcOri','stbCeA',\n",
    "        'ldkAre', 'ldkPer', 'lskCCo', 'lskERI','lskCWA', 'ltkOri', 'ltkWNB', 'likWBB', 'likWCe',\n",
    "          'licBAD', 'misBAD',\n",
    "    'ssbCCM','ssbCCD'    \n",
    "]\n",
    "\n",
    "\n",
    "linkage = 'complete'\n",
    "metric = 'euclidean'\n",
    "\n",
    "morphotope_stat_columns = ['percentile_25', 'percentile_75', 'mean', 'std']\n",
    "\n",
    "\n",
    "regions_datadir = \"/data/uscuni-ulce/\"\n",
    "region_hulls = gpd.read_parquet(\n",
    "        regions_datadir + \"regions/\" + \"cadastre_regions_hull.parquet\"\n",
    ")"
   ]
  },
  {
   "cell_type": "code",
   "execution_count": 3,
   "id": "fb82b33f-dd94-41d7-b3c8-1a2c59b84441",
   "metadata": {},
   "outputs": [],
   "source": [
    "def preprocess_data(data, scalar, drop_columns=morphotope_stat_columns):\n",
    "    component_data = data.drop(columns=drop_columns, level=1)\n",
    "    component_data = component_data.drop(columns=to_drop, level=0)\n",
    "    component_data.columns =  component_data.columns.get_level_values(0)\n",
    "    \n",
    "    component_data = component_data[component_data.index.str[-2:] != '-1']\n",
    "    \n",
    "    vals = scalar.fit_transform(component_data)\n",
    "    component_data = pd.DataFrame(vals, columns=component_data.columns, index=component_data.index)\n",
    "    component_data = component_data.drop(component_data.columns[component_data.std() == 0], axis=1)\n",
    "    \n",
    "    # component_data = component_data[component_data.index >= 0]\n",
    "    vals = np.nan_to_num(component_data)\n",
    "    component_data = pd.DataFrame(vals, columns=component_data.columns, index=component_data.index)\n",
    "    return component_data\n",
    "\n",
    "def read_region_morphotope_data(region_id, scalar, read_extra=False):\n",
    "    print('processing' , region_id)\n",
    "    data = pd.read_parquet(f'{morphotopes_dir}data_morphotopes_{region_id}{model_params}.pq')\n",
    "    \n",
    "    data.index = str(region_id) + '_' + data.index\n",
    "    data = data.iloc[:, :-1]\n",
    "    component_data = preprocess_data(data, scalar)\n",
    "\n",
    "\n",
    "    if read_extra:\n",
    "        extra_chars = pd.read_parquet(f'{morphotopes_dir}morph_chars_{region_id}.pq')\n",
    "        vals = scalar.fit_transform(extra_chars)\n",
    "        extra_chars = pd.DataFrame(vals, columns=extra_chars.columns, index=extra_chars.index).fillna(0)\n",
    "        extra_chars = extra_chars.drop(component_data.columns[component_data.std() == 0], axis=1)\n",
    "        extra_chars = extra_chars[['limLPS']]\n",
    "        extra_chars['limLPS2'] = extra_chars['limLPS']\n",
    "\n",
    "        merged_data = pd.merge(component_data, extra_chars, how='inner', left_index=True, right_index=True)\n",
    "        pd.testing.assert_index_equal(merged_data.index, component_data.index)\n",
    "        component_data = merged_data\n",
    "    \n",
    "    return component_data\n",
    "\n",
    "def get_morphotope_linkage(region_data):\n",
    "    \n",
    "    clusterer = AgglomerativeClustering(linkage=linkage,\n",
    "                                        metric=metric,\n",
    "                                        compute_full_tree=True,\n",
    "                                        compute_distances=True)\n",
    "    model = clusterer.fit(region_data)\n",
    "    linkage_matrix = get_linkage_matrix(model)\n",
    "    return linkage_matrix\n",
    "\n",
    "\n",
    "def get_all_clusters(cutoff):\n",
    "    \n",
    "    all_clusters = []\n",
    "    \n",
    "    for region_id, _ in region_hulls.iterrows():\n",
    "        data = read_region_morphotope_data(region_id, scalar=StandardScaler())\n",
    "        region_index = data.index\n",
    "        linkage_matrix = np.load(f'/data/uscuni-ulce/processed_data/morphotope_linkage/{linkage}_{metric}_{region_id}.npy')\n",
    "        clusters = fcluster(linkage_matrix, t=cutoff, criterion='distance')\n",
    "        clusters = pd.Series(clusters, region_index).astype(str)\n",
    "        clusters = str(region_id) + '_' +clusters\n",
    "        all_clusters.append(clusters)\n",
    "    \n",
    "    all_clusters = pd.concat(all_clusters)\n",
    "    \n",
    "    return all_clusters\n",
    "\n",
    "\n",
    "def read_morphotopes_data(model_params):\n",
    "    \n",
    "    data = []\n",
    "    for region_id, _ in region_hulls.iterrows():\n",
    "        region_morphotope_data = pd.read_parquet(f'{morphotopes_dir}data_morphotopes_{region_id}{model_params}.pq')\n",
    "        region_morphotope_data.index = str(region_id) + '_' + region_morphotope_data.index.str[:]\n",
    "        data.append(region_morphotope_data)\n",
    "    \n",
    "    data = pd.concat(data)\n",
    "    return data\n",
    "\n",
    "def read_morphotopes_chars():\n",
    "    \n",
    "    data = []\n",
    "    for region_id, _ in region_hulls.iterrows():\n",
    "        extra_chars = pd.read_parquet(f'{morphotopes_dir}morph_chars_{region_id}.pq')\n",
    "        data.append(extra_chars)\n",
    "    \n",
    "    data = pd.concat(data)\n",
    "    return data \n",
    "\n",
    "def morphotopes_to_etcs(region_id, etcs=True, model_params='_100_0_None_None_False'):\n",
    "\n",
    "\n",
    "    if etcs:\n",
    "        etcs = gpd.read_parquet(f'/data/uscuni-ulce/processed_data/tessellations/tessellation_{region_id}.parquet')\n",
    "\n",
    "    else:\n",
    "        etcs = gpd.read_parquet(f'/data/uscuni-ulce/processed_data/buildings/buildings_{region_id}.parquet')\n",
    "        \n",
    "    etcs['label'] = -1\n",
    "    \n",
    "    morphotopes = pd.read_parquet(f'/data/uscuni-ulce/processed_data/morphotopes/tessellation_labels_morphotopes_{region_id}{model_params}.pq')\n",
    "    morphotopes.loc[:, 'morphotope_label'] =  morphotopes.values[:, 0]\n",
    "\n",
    "    morph_dict = pd.Series(np.arange(np.unique(morphotopes.values).shape[0]),\n",
    "                       np.unique(morphotopes.values))\n",
    "    etcs.loc[morphotopes.index, 'label'] = morphotopes.map(lambda x: morph_dict.loc[x]).values\n",
    "    etcs['morph'] = str(region_id) + '_' + '-1'\n",
    "    etcs.loc[morphotopes.index, 'morph'] = str(region_id) + '_' + morphotopes.values\n",
    "    return etcs"
   ]
  },
  {
   "cell_type": "code",
   "execution_count": 4,
   "id": "df0fb1cd-e37b-4952-a235-53274759a815",
   "metadata": {},
   "outputs": [],
   "source": [
    "# read morphotopes data\n",
    "morphotopes_data = read_morphotopes_data(model_params)\n",
    "morphotopes_data = morphotopes_data[~morphotopes_data.index.str.endswith('-1')]\n",
    "morphotopes_data = morphotopes_data.iloc[:, :-1]"
   ]
  },
  {
   "cell_type": "code",
   "execution_count": 22,
   "id": "251cf907-d2f0-426a-b317-a4ec3df8e25e",
   "metadata": {},
   "outputs": [
    {
     "name": "stdout",
     "output_type": "stream",
     "text": [
      "CPU times: user 25.1 s, sys: 7.38 s, total: 32.5 s\n",
      "Wall time: 14.9 s\n"
     ]
    }
   ],
   "source": [
    "%%time\n",
    "\n",
    "\n",
    "\n",
    "## drop unwanted columns\n",
    "component_data = morphotopes_data.drop(columns=morphotope_stat_columns, level=1)\n",
    "component_data = component_data.drop(columns=to_drop, level=0)\n",
    "component_data.columns = component_data.columns.get_level_values(0)\n",
    "\n",
    "# add morphotope variables\n",
    "morph_chars_data = read_morphotopes_chars()\n",
    "morph_chars_data = morph_chars_data[['limLPS']]\n",
    "merged_data = pd.merge(component_data, morph_chars_data, how='inner', left_index=True, right_index=True)\n",
    "pd.testing.assert_index_equal(merged_data.index, component_data.index)\n",
    "grouped_data = merged_data"
   ]
  },
  {
   "cell_type": "code",
   "execution_count": 4,
   "id": "f3afdf0d-328f-427b-b929-2dc2e3e957f2",
   "metadata": {},
   "outputs": [],
   "source": [
    "# # drop industrial data\n",
    "# grouped_data = grouped_data[grouped_data['limLPS'] == 1]"
   ]
  },
  {
   "cell_type": "code",
   "execution_count": 5,
   "id": "8f675192-1702-4d41-a5c7-67dea03ce54f",
   "metadata": {},
   "outputs": [],
   "source": [
    "# clipped_data = grouped_data.copy()\n",
    "# target = 100\n",
    "\n",
    "# for col in grouped_data.columns:\n",
    "#     sorted_col = grouped_data[col].sort_values()\n",
    "#     top = sorted_col.iloc[target]\n",
    "#     bottom = sorted_col.iloc[-target]\n",
    "#     clipped_data[col] = grouped_data[col].clip(bottom, top)"
   ]
  },
  {
   "cell_type": "code",
   "execution_count": null,
   "id": "048c012d-0ccb-40d3-8937-715ac5fb481a",
   "metadata": {},
   "outputs": [],
   "source": []
  },
  {
   "cell_type": "code",
   "execution_count": null,
   "id": "550d8b5a-db03-4214-9037-20f33ec4e9bd",
   "metadata": {},
   "outputs": [],
   "source": []
  },
  {
   "cell_type": "code",
   "execution_count": 77,
   "id": "624d041a-5142-4253-a813-008d1afc77e3",
   "metadata": {},
   "outputs": [],
   "source": [
    "# standardise\n",
    "from sklearn.preprocessing import StandardScaler\n",
    "scalar = StandardScaler()\n",
    "vals = scalar.fit_transform(clipped_data)\n",
    "vals = np.nan_to_num(vals, 0)\n",
    "regional_ward_morphotopes_data = pd.DataFrame(vals, index=grouped_data.index, columns=grouped_data.columns)\n",
    "\n",
    "# regional_ward_morphotopes_data.loc[grouped_data['limLPS'] == 1, 'limLPS'] = 2"
   ]
  },
  {
   "cell_type": "code",
   "execution_count": 9,
   "id": "7eaab1e8-6430-4dcd-a299-63366efcb30b",
   "metadata": {},
   "outputs": [],
   "source": [
    "### Limit to prague\n",
    "# regional_ward_morphotopes_data = regional_ward_morphotopes_data[regional_ward_morphotopes_data.index.str.startswith('69333')]"
   ]
  },
  {
   "cell_type": "code",
   "execution_count": null,
   "id": "f8481c49-c456-4b4f-8f44-854cdf3ce397",
   "metadata": {},
   "outputs": [],
   "source": []
  },
  {
   "cell_type": "code",
   "execution_count": 79,
   "id": "d894dcee-dac6-4f9f-9a6f-927bf8329b00",
   "metadata": {},
   "outputs": [
    {
     "name": "stderr",
     "output_type": "stream",
     "text": [
      "/home/krasen/urban_taxonomy/.pixi/envs/default/lib/python3.12/site-packages/sklearn/utils/deprecation.py:151: FutureWarning: 'force_all_finite' was renamed to 'ensure_all_finite' in 1.6 and will be removed in 1.8.\n",
      "  warnings.warn(\n",
      "/home/krasen/urban_taxonomy/.pixi/envs/default/lib/python3.12/site-packages/umap/umap_.py:1952: UserWarning: n_jobs value 1 overridden to 1 by setting random_state. Use no seed for parallelism.\n",
      "  warn(\n"
     ]
    },
    {
     "name": "stdout",
     "output_type": "stream",
     "text": [
      "UMAP(min_dist=0, n_components=20, n_jobs=1, n_neighbors=25, random_state=1, verbose=True)\n",
      "Fri Apr 25 23:51:45 2025 Construct fuzzy simplicial set\n",
      "Fri Apr 25 23:51:45 2025 Finding Nearest Neighbors\n",
      "Fri Apr 25 23:51:45 2025 Building RP forest with 41 trees\n",
      "Fri Apr 25 23:51:57 2025 NN descent for 19 iterations\n",
      "\t 1  /  19\n",
      "\t 2  /  19\n",
      "\t 3  /  19\n",
      "\t 4  /  19\n",
      "\tStopping threshold met -- exiting after 4 iterations\n",
      "Fri Apr 25 23:52:40 2025 Finished Nearest Neighbor Search\n",
      "Fri Apr 25 23:52:42 2025 Construct embedding\n"
     ]
    },
    {
     "data": {
      "application/vnd.jupyter.widget-view+json": {
       "model_id": "a6fa5840d7cb490b93f80a14f7c2a1eb",
       "version_major": 2,
       "version_minor": 0
      },
      "text/plain": [
       "Epochs completed:   0%|            0/200 [00:00]"
      ]
     },
     "metadata": {},
     "output_type": "display_data"
    },
    {
     "name": "stdout",
     "output_type": "stream",
     "text": [
      "\tcompleted  0  /  200 epochs\n",
      "\tcompleted  20  /  200 epochs\n",
      "\tcompleted  40  /  200 epochs\n",
      "\tcompleted  60  /  200 epochs\n",
      "\tcompleted  80  /  200 epochs\n",
      "\tcompleted  100  /  200 epochs\n",
      "\tcompleted  120  /  200 epochs\n",
      "\tcompleted  140  /  200 epochs\n",
      "\tcompleted  160  /  200 epochs\n",
      "\tcompleted  180  /  200 epochs\n",
      "Sat Apr 26 00:03:34 2025 Finished embedding\n",
      "CPU times: user 55min 21s, sys: 5.56 s, total: 55min 26s\n",
      "Wall time: 11min 49s\n"
     ]
    }
   ],
   "source": [
    "%%time\n",
    "import umap\n",
    "reducer = umap.UMAP(n_neighbors=25, n_components=20, \n",
    "                    min_dist=0,\n",
    "                    metric='euclidean', verbose=True, random_state=1)\n",
    "embedding = reducer.fit_transform(regional_ward_morphotopes_data)\n",
    "embedding = pd.DataFrame(embedding, index=regional_ward_morphotopes_data.index)"
   ]
  },
  {
   "cell_type": "code",
   "execution_count": 82,
   "id": "2d1837c2-531d-4103-91d4-d54a55695234",
   "metadata": {},
   "outputs": [],
   "source": [
    "embedding.to_parquet('../data/morphotope_embedding_no_industry.pq')"
   ]
  },
  {
   "cell_type": "code",
   "execution_count": null,
   "id": "eff58d2b-5980-473a-ad62-2b90776c38e3",
   "metadata": {},
   "outputs": [],
   "source": []
  },
  {
   "cell_type": "markdown",
   "id": "4f8ec83c-eea5-4b3a-b50c-57937587c7d9",
   "metadata": {},
   "source": [
    "### Final ward clustering"
   ]
  },
  {
   "cell_type": "code",
   "execution_count": 9,
   "id": "f3575a26-67c8-4cf4-93d9-53264feeb7a0",
   "metadata": {},
   "outputs": [],
   "source": [
    "linkage = 'complete'\n",
    "metric = 'euclidean'"
   ]
  },
  {
   "cell_type": "code",
   "execution_count": 12,
   "id": "f6431035-2495-430c-a5a5-4e64b5ed6474",
   "metadata": {},
   "outputs": [],
   "source": [
    "%%time\n",
    "linkage_matrix = get_morphotope_linkage(embedding)"
   ]
  },
  {
   "cell_type": "code",
   "execution_count": 13,
   "id": "ef002fb4-3909-4e91-bda9-9fade24c2569",
   "metadata": {},
   "outputs": [],
   "source": [
    "## final dendrogram\n",
    "import matplotlib.pyplot as plt\n",
    "from scipy.cluster.hierarchy import dendrogram\n",
    "fig,ax = plt.subplots(figsize=(10,10))\n",
    "_ = dendrogram(linkage_matrix,ax=ax, no_labels=True)"
   ]
  },
  {
   "cell_type": "code",
   "execution_count": null,
   "id": "5d0fcf55-4c31-4e6a-a499-dc987ab276be",
   "metadata": {},
   "outputs": [],
   "source": [
    "np.save('../data/umap_complete_linkage_morphotopes.npy', linkage_matrix)"
   ]
  },
  {
   "cell_type": "code",
   "execution_count": null,
   "id": "fbb248d0-8c14-4b34-ad48-5cc69f31ba3c",
   "metadata": {},
   "outputs": [],
   "source": []
  },
  {
   "cell_type": "markdown",
   "id": "129b4610-7a48-48ee-a2b5-350eb55b4eae",
   "metadata": {},
   "source": [
    "### Divisive kmeans"
   ]
  },
  {
   "cell_type": "code",
   "execution_count": 6,
   "id": "9d90ad9d-f853-4579-9821-1ad0dc4b914b",
   "metadata": {},
   "outputs": [],
   "source": [
    "embedding = pd.read_parquet('../data/morphotope_embedding.pq')"
   ]
  },
  {
   "cell_type": "code",
   "execution_count": 7,
   "id": "e20ac188-b6d8-441f-af9a-39355271cba0",
   "metadata": {},
   "outputs": [],
   "source": [
    "from sklearn.cluster import KMeans"
   ]
  },
  {
   "cell_type": "code",
   "execution_count": 8,
   "id": "8eb6d0c5-4c81-495e-b1c4-6357785460fa",
   "metadata": {},
   "outputs": [],
   "source": [
    "class DivisiveClustering:\n",
    "    def __init__(self):\n",
    "        self.labels_ = None\n",
    "        self.linkage_matrix = None\n",
    "        self.current_id = 0\n",
    "\n",
    "    def fit(self, X):\n",
    "        n_samples = X.shape[0]\n",
    "        self.labels_ = np.zeros(n_samples, dtype=int)\n",
    "        self.linkage_matrix = []\n",
    "        self.current_id = n_samples\n",
    "        \n",
    "        # Start with all points in one cluster, initial recursion_level is 1\n",
    "        self._recursive_split(X, np.arange(n_samples), 1)\n",
    "        \n",
    "        self.linkage_matrix = np.array(self.linkage_matrix)\n",
    "        return self\n",
    "\n",
    "    def _recursive_split(self, X, indices, recursion_level):\n",
    "        if len(indices) <= 1:\n",
    "            return indices[0], 1\n",
    "        \n",
    "        kmeans = KMeans(n_clusters=2, random_state=123, n_init=500)\n",
    "        kmeans.fit(X[indices])\n",
    "        \n",
    "        mask0 = kmeans.labels_ == 0\n",
    "        mask1 = kmeans.labels_ == 1\n",
    "        indices0 = indices[mask0]\n",
    "        indices1 = indices[mask1]\n",
    "        \n",
    "        id0, size0 = self._recursive_split(X, indices0, recursion_level + 1)\n",
    "        id1, size1 = self._recursive_split(X, indices1, recursion_level + 1)\n",
    "        \n",
    "        # Use 1/recursion_level as distance\n",
    "        distance = 1.0 / recursion_level\n",
    "        \n",
    "        self.linkage_matrix.append([float(min(id0, id1)), float(max(id0, id1)), \n",
    "                                  float(distance), float(size0 + size1)])\n",
    "        \n",
    "        current_cluster = self.current_id\n",
    "        self.current_id += 1\n",
    "        return current_cluster, size0 + size1"
   ]
  },
  {
   "cell_type": "code",
   "execution_count": 9,
   "id": "327aaeb7-7fff-4de6-9ec9-40aad204f1d1",
   "metadata": {},
   "outputs": [],
   "source": [
    "clusterer = DivisiveClustering()"
   ]
  },
  {
   "cell_type": "code",
   "execution_count": null,
   "id": "7e32a0b2-459d-41c6-bd5e-79bdaa8e3189",
   "metadata": {
    "scrolled": true
   },
   "outputs": [],
   "source": []
  },
  {
   "cell_type": "code",
   "execution_count": null,
   "id": "e4832828-02ad-4ea7-8d53-f667c4d68fdd",
   "metadata": {
    "scrolled": true
   },
   "outputs": [],
   "source": [
    "%%time\n",
    "start = np.datetime64('now')\n",
    "clusterer.fit(embedding.values)\n",
    "end = np.datetime64('now')"
   ]
  },
  {
   "cell_type": "code",
   "execution_count": null,
   "id": "ff465758-bfd0-40df-8de9-0a971e0c45ad",
   "metadata": {},
   "outputs": [],
   "source": [
    "np.save('../data/kmeans_linkage_umap_embedded_morphotopes.npy', clusterer.linkage_matrix)"
   ]
  },
  {
   "cell_type": "code",
   "execution_count": null,
   "id": "9d9914a8-155a-4fb3-b929-01ea29073733",
   "metadata": {},
   "outputs": [],
   "source": [
    "# np.save('/data/uscuni-ulce/processed_data/clusters/kmeans_linkage.npy', clusterer.linkage_matrix)"
   ]
  },
  {
   "cell_type": "code",
   "execution_count": 5,
   "id": "77990798-0acc-4008-8d54-805d8b1b2403",
   "metadata": {},
   "outputs": [],
   "source": [
    "linkage_matrix = np.load('../data/kmeans_linkage_umap_embedded_morphotopes.npy')\n",
    "\n",
    "# linkage_matrix = clusterer.linkage_matrix"
   ]
  },
  {
   "cell_type": "code",
   "execution_count": null,
   "id": "77a0981e-dc8c-4a4e-a673-98ec8066bda1",
   "metadata": {},
   "outputs": [],
   "source": []
  },
  {
   "cell_type": "code",
   "execution_count": 6,
   "id": "34a2a0ce-22b6-4615-8c3d-723658f4d9d4",
   "metadata": {},
   "outputs": [],
   "source": [
    "final_cutoff = 1/5"
   ]
  },
  {
   "cell_type": "code",
   "execution_count": 7,
   "id": "311489b8-3264-44d4-95da-3e857e167142",
   "metadata": {
    "scrolled": true
   },
   "outputs": [
    {
     "data": {
      "text/plain": [
       "11    193779\n",
       "12    121648\n",
       "9     102341\n",
       "10     70372\n",
       "1       4849\n",
       "8       4698\n",
       "7       4333\n",
       "3       3799\n",
       "13      3111\n",
       "16      3106\n",
       "2       3052\n",
       "15      2949\n",
       "14      1998\n",
       "5       1680\n",
       "6       1592\n",
       "4        288\n",
       "Name: count, dtype: int64"
      ]
     },
     "execution_count": 7,
     "metadata": {},
     "output_type": "execute_result"
    }
   ],
   "source": [
    "clusters = fcluster(linkage_matrix, t=final_cutoff, criterion='distance')\n",
    "final_clusters = pd.Series(clusters, morphotopes_data.index)\n",
    "# clusters_description = regional_ward_morphotopes_data.groupby(final_clusters).mean()\n",
    "# clusters_description = grouped_data.groupby(final_clusters).mean()\n",
    "final_clusters.value_counts()"
   ]
  },
  {
   "cell_type": "code",
   "execution_count": 8,
   "id": "d817354c-1136-4c33-821d-2675d930e9f2",
   "metadata": {},
   "outputs": [],
   "source": [
    "from core.cluster_validation import get_color\n",
    "final_colors = pd.DataFrame(get_color(final_clusters.values), final_clusters.values).drop_duplicates()\n",
    "final_colors.loc[-1] = [255,255,255]"
   ]
  },
  {
   "cell_type": "code",
   "execution_count": null,
   "id": "0a340f46-cd51-4865-b66a-e3699c491710",
   "metadata": {},
   "outputs": [],
   "source": []
  },
  {
   "cell_type": "code",
   "execution_count": 9,
   "id": "be9b23aa-ec05-4200-aa56-3d640e70a578",
   "metadata": {},
   "outputs": [],
   "source": [
    "region_id = 69333 \n",
    "\n",
    "# region_id = 99886 # bratislava\n",
    "\n",
    "# region_id = 151676 # vilnius\n",
    "\n",
    "# region_id = 8707 # mainz/frankfurt\n",
    "# region_id = 5883 #  freiburg\n",
    "# region_id = 38679 #munich\n",
    "# region_id = 55763 # berlin\n",
    "\n",
    "# region_id = 86873 # vienna\n",
    "\n",
    "# region_id = 107131 # krakow\n",
    "\n",
    "\n",
    "# region_id= 66593\n",
    "\n",
    "# region_id = 91011"
   ]
  },
  {
   "cell_type": "code",
   "execution_count": 10,
   "id": "f973e1a2-33d5-4ac7-ac12-17cb367adc5a",
   "metadata": {},
   "outputs": [],
   "source": [
    "# etcs=False to read buildings, etcs=True for tessellation cells.\n",
    "\n",
    "\n",
    "etcs = morphotopes_to_etcs(region_id, etcs=False, model_params=model_params)"
   ]
  },
  {
   "cell_type": "code",
   "execution_count": 11,
   "id": "56341c79-77b8-4ee1-8b16-4ec7bf9fc895",
   "metadata": {},
   "outputs": [],
   "source": [
    "# etcs = morphotopes_to_etcs(69333, etcs=False, model_params=model_params)\n",
    "# etcs2 = morphotopes_to_etcs(91011, etcs=False, model_params=model_params)\n",
    "# etcs3 = morphotopes_to_etcs(93167, etcs=False, model_params=model_params)\n",
    "\n",
    "# etcs = pd.concat((etcs, etcs2, etcs3), ignore_index=True)"
   ]
  },
  {
   "cell_type": "code",
   "execution_count": 12,
   "id": "8c1cfa94-df93-45fa-a883-85cde27c14b8",
   "metadata": {},
   "outputs": [],
   "source": [
    "\n",
    "\n",
    "# direct kmeans\n",
    "etcs['final'] = etcs['morph'].map(lambda x: final_clusters.loc[x] if x in morphotopes_data.index else -1)\n",
    "etcs['regional'] = etcs['morph']\n"
   ]
  },
  {
   "cell_type": "code",
   "execution_count": null,
   "id": "2148cb7c-e514-40be-8e43-3df4396a0c6e",
   "metadata": {},
   "outputs": [],
   "source": []
  },
  {
   "cell_type": "code",
   "execution_count": null,
   "id": "b57c71c0-c2a3-406d-8518-a0e68dfee35a",
   "metadata": {},
   "outputs": [],
   "source": []
  },
  {
   "cell_type": "code",
   "execution_count": 13,
   "id": "9ceefdbb-ab83-4d26-8e64-f550dab207d3",
   "metadata": {},
   "outputs": [],
   "source": [
    "# ## can run this to change colors on an exisitng layer\n",
    "# layer.get_fill_color = get_color(etcs.final)"
   ]
  },
  {
   "cell_type": "code",
   "execution_count": null,
   "id": "360c3921-2cf0-46e4-92eb-fb058a3430fa",
   "metadata": {},
   "outputs": [],
   "source": []
  },
  {
   "cell_type": "code",
   "execution_count": 14,
   "id": "90d11701-0988-4e5c-9186-190bb00ffcca",
   "metadata": {},
   "outputs": [],
   "source": [
    "etcs['geometry'] = etcs.simplify(1).to_crs(epsg=4326).make_valid()\n",
    "etcs = etcs[etcs['geometry'].geom_type == 'Polygon']"
   ]
  },
  {
   "cell_type": "code",
   "execution_count": null,
   "id": "882a2bd6-f4b3-4ba8-8bb7-6a16b65c849a",
   "metadata": {},
   "outputs": [],
   "source": []
  },
  {
   "cell_type": "code",
   "execution_count": 15,
   "id": "fac713e9-a1fb-4811-8b31-f65d2f25c08c",
   "metadata": {},
   "outputs": [
    {
     "name": "stdout",
     "output_type": "stream",
     "text": [
      "CPU times: user 1.07 s, sys: 115 ms, total: 1.18 s\n",
      "Wall time: 1.18 s\n"
     ]
    }
   ],
   "source": [
    "%%time\n",
    "import lonboard\n",
    "# plotting = tessellation[tessellation.index.isin(X_train.index)].copy()\n",
    "layer = lonboard.SolidPolygonLayer.from_geopandas(etcs, opacity=.7)"
   ]
  },
  {
   "cell_type": "code",
   "execution_count": 16,
   "id": "3bc5c928-a71a-4a3b-a2d0-069339537308",
   "metadata": {},
   "outputs": [],
   "source": [
    "from sidecar import Sidecar\n",
    "sc = Sidecar(title=f'Final Clusters - {final_cutoff}')\n",
    "m = lonboard.Map(layer, basemap_style=lonboard.basemap.CartoBasemap.DarkMatter)\n",
    "with sc:\n",
    "    display(m)"
   ]
  },
  {
   "cell_type": "code",
   "execution_count": 17,
   "id": "b5ba47ba-7be1-4f1f-a0df-154bf7660588",
   "metadata": {},
   "outputs": [],
   "source": [
    "from core.cluster_validation import get_color\n",
    "layer.get_fill_color = final_colors.loc[etcs.final].values.astype('uint8')"
   ]
  },
  {
   "cell_type": "code",
   "execution_count": null,
   "id": "86e1097d-a2f5-41f2-af1c-5a2b57abd26f",
   "metadata": {},
   "outputs": [],
   "source": []
  },
  {
   "cell_type": "code",
   "execution_count": null,
   "id": "98c786d3-4b7d-4ac5-aa1a-764bce6f3cd8",
   "metadata": {},
   "outputs": [],
   "source": []
  },
  {
   "cell_type": "code",
   "execution_count": null,
   "id": "4a8010ab-8a83-4864-b7cb-be12b0b9e8ef",
   "metadata": {},
   "outputs": [],
   "source": []
  },
  {
   "cell_type": "code",
   "execution_count": null,
   "id": "03d88ac3-ba2d-4b64-b27c-b0e335c75cd7",
   "metadata": {},
   "outputs": [],
   "source": []
  }
 ],
 "metadata": {
  "kernelspec": {
   "display_name": "Python 3 (ipykernel)",
   "language": "python",
   "name": "python3"
  },
  "language_info": {
   "codemirror_mode": {
    "name": "ipython",
    "version": 3
   },
   "file_extension": ".py",
   "mimetype": "text/x-python",
   "name": "python",
   "nbconvert_exporter": "python",
   "pygments_lexer": "ipython3",
   "version": "3.12.8"
  }
 },
 "nbformat": 4,
 "nbformat_minor": 5
}
