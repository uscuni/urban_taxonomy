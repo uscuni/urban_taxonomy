{
 "cells": [
  {
   "cell_type": "code",
   "execution_count": 27,
   "id": "44d3fc39-2b19-448b-8ec7-99138d62fa6f",
   "metadata": {},
   "outputs": [],
   "source": [
    "import geopandas as gpd\n",
    "import pandas as pd\n",
    "import numpy as np"
   ]
  },
  {
   "cell_type": "code",
   "execution_count": 28,
   "id": "3bdccef5-5b90-4172-9505-4f99c6e9fb43",
   "metadata": {},
   "outputs": [],
   "source": [
    "region_id = 69300\n",
    "\n",
    "buildings_dir = '/data/uscuni-ulce/processed_data/buildings/'\n",
    "chars_dir = \"/data/uscuni-ulce/processed_data/chars/\"\n",
    "graph_dir = \"/data/uscuni-ulce/processed_data/neigh_graphs/\"\n",
    "cluster_dir = '/data/uscuni-ulce/processed_data/clusters/'"
   ]
  },
  {
   "cell_type": "code",
   "execution_count": 29,
   "id": "3e345ce2-f378-4231-80d7-e9a274d2cd60",
   "metadata": {},
   "outputs": [],
   "source": [
    "## need to intersect with buildings\n",
    "gdf = gpd.read_file('../data/prague_validation/use.geojson')\n",
    "gdf = gdf.to_crs(epsg=3035)\n",
    "buildings = gpd.read_parquet(buildings_dir + f'buildings_{region_id}.parquet')"
   ]
  },
  {
   "cell_type": "code",
   "execution_count": 30,
   "id": "ccd55e3b-1372-4661-94a4-ea88c0ed70b9",
   "metadata": {},
   "outputs": [],
   "source": [
    "# gdf[['ROK_PUVODNI', 'geometry']].iloc[:1000].explore()"
   ]
  },
  {
   "cell_type": "code",
   "execution_count": 31,
   "id": "38bb5505-fa59-4904-a476-b2e72aced8e2",
   "metadata": {},
   "outputs": [],
   "source": [
    "r = buildings.sjoin(gdf).sort_values('Shape_Area')"
   ]
  },
  {
   "cell_type": "code",
   "execution_count": 45,
   "id": "2157b6ae-60c0-4ea0-ac83-e9fe2fc0640c",
   "metadata": {},
   "outputs": [],
   "source": [
    "## drop duplciated intersections and keep the area with the smallest value\n",
    "## it has the highest chance to be a building and not a road or something\n",
    "r = r[~r.index.duplicated()]"
   ]
  },
  {
   "cell_type": "code",
   "execution_count": 51,
   "id": "4de59800-87ad-4331-a77b-fb65a8697744",
   "metadata": {},
   "outputs": [
    {
     "data": {
      "text/plain": [
       "array(['ZL', 'ZHB', 'BRR', 'RAZ', 'NZO', 'TVC', 'ZSO', 'BD', 'IX', 'LRO',\n",
       "       'XO', 'RAS', 'VM', 'ZSZ', 'XP', 'ZHV', 'ZSP', 'SLU', 'SLK', 'NNS',\n",
       "       'OSZ', 'RPU', 'PLP', 'DSO', 'OKC', 'PO', 'XS', 'RSL', 'VC', 'VN',\n",
       "       'PND', 'SAM', 'SLR', 'BQ', 'PRS', 'TEP', 'DPG', 'PRR', 'VPM',\n",
       "       'SOS', 'DPV', 'TOL', 'DOB', 'XD', 'TVV', 'SQ', 'OBA', 'ND', 'NNO',\n",
       "       'VPP', 'RAP', 'PRZ', 'TI', 'DHO', 'VPN', 'NNK', 'DLP', 'DLO', 'XZ',\n",
       "       'DK', 'RPH', 'TVD', 'BRV', 'PT', 'ZA', 'HY', 'OQ', 'OBH', 'OBP',\n",
       "       'SOL', 'RAG', 'TET', 'TEE', 'OKK', 'DZP', 'OPP', 'LRR', 'OVY',\n",
       "       'OUM', 'DZO', 'OKU', 'OSS', 'OZA', 'RPP', 'OUO', 'NZK', 'PNP',\n",
       "       'NZS', 'TVK', 'SLZ', 'RSM', 'DV', 'OSQ', 'OUS', 'OVV', 'ZSV', 'RV',\n",
       "       'SAK', 'SLP', 'OVK', 'OZN', 'OVU', 'OKM', 'DOS', 'DZT', 'OBQ',\n",
       "       'DZV', 'TOS', 'SOK', 'DHG', 'DAO', 'DHM', 'DPR', 'SSY', 'DHA',\n",
       "       'OBZ', 'DHT', 'OPA', 'OUZ', 'OBV', 'DAP', 'TQ', 'OZH', 'SSM'],\n",
       "      dtype=object)"
      ]
     },
     "execution_count": 51,
     "metadata": {},
     "output_type": "execute_result"
    }
   ],
   "source": [
    "r.KOD.unique()"
   ]
  },
  {
   "cell_type": "code",
   "execution_count": 53,
   "id": "f6d4fee3-4515-4d72-af06-0512e9d43a6a",
   "metadata": {},
   "outputs": [],
   "source": [
    "r[['geometry', 'KOD']].to_parquet('../data/prague_validation/landuse.pq')"
   ]
  },
  {
   "cell_type": "code",
   "execution_count": null,
   "id": "f6225249-3e22-4210-95a4-a51c63f270bf",
   "metadata": {},
   "outputs": [],
   "source": []
  },
  {
   "cell_type": "code",
   "execution_count": null,
   "id": "70f59092-0d8b-4206-b0ab-083e1cef25d5",
   "metadata": {},
   "outputs": [],
   "source": []
  },
  {
   "cell_type": "code",
   "execution_count": 54,
   "id": "cd625bb3-60ef-4127-a5e0-bd98a3c4f23c",
   "metadata": {},
   "outputs": [],
   "source": [
    "region_id = 69300\n",
    "\n",
    "buildings_dir = '/data/uscuni-ulce/processed_data/buildings/'\n",
    "chars_dir = \"/data/uscuni-ulce/processed_data/chars/\"\n",
    "graph_dir = \"/data/uscuni-ulce/processed_data/neigh_graphs/\"\n",
    "cluster_dir = '/data/uscuni-ulce/processed_data/clusters/'"
   ]
  },
  {
   "cell_type": "code",
   "execution_count": 55,
   "id": "d1702aef-0500-44a9-af0f-c24e13dd0942",
   "metadata": {},
   "outputs": [],
   "source": [
    "## need to intersect with buildings\n",
    "gdf = gpd.read_file('../data/prague_validation/origin.geojson')\n",
    "gdf = gdf.to_crs(epsg=3035)\n",
    "buildings = gpd.read_parquet(buildings_dir + f'buildings_{region_id}.parquet')"
   ]
  },
  {
   "cell_type": "code",
   "execution_count": 56,
   "id": "81fa1c0c-aee6-4a00-890b-3e6ada887bde",
   "metadata": {},
   "outputs": [],
   "source": [
    "# gdf[['ROK_PUVODNI', 'geometry']].iloc[:1000].explore()"
   ]
  },
  {
   "cell_type": "code",
   "execution_count": 57,
   "id": "de249e61-b16d-4db0-9638-2893519fb9b0",
   "metadata": {},
   "outputs": [],
   "source": [
    "r = buildings.sjoin(gdf).sort_values('Shape_Area')"
   ]
  },
  {
   "cell_type": "code",
   "execution_count": 58,
   "id": "9cdf744c-a02c-43ed-831b-216f70883670",
   "metadata": {},
   "outputs": [],
   "source": [
    "## drop duplciated intersections and keep the area with the smallest value\n",
    "## it has the highest chance to be a building and not a road or something\n",
    "r = r[~r.index.duplicated()]"
   ]
  },
  {
   "cell_type": "code",
   "execution_count": 60,
   "id": "61ece44b-22e3-484c-8ea6-d8c5a80583df",
   "metadata": {},
   "outputs": [],
   "source": [
    "r[['geometry', 'ROK_PUVODNI']].to_parquet('../data/prague_validation/year.pq')"
   ]
  },
  {
   "cell_type": "code",
   "execution_count": null,
   "id": "c906ec89-11fd-4429-bc3c-f57ab8c15977",
   "metadata": {},
   "outputs": [],
   "source": []
  },
  {
   "cell_type": "code",
   "execution_count": null,
   "id": "17fc496b-d9a0-4e5d-bbe8-e1f2052a1dd7",
   "metadata": {},
   "outputs": [],
   "source": []
  },
  {
   "cell_type": "code",
   "execution_count": null,
   "id": "abfcc656-4e3b-4979-8bca-85df74d52dd7",
   "metadata": {},
   "outputs": [],
   "source": []
  },
  {
   "cell_type": "code",
   "execution_count": null,
   "id": "a5374596-7a5d-4841-b48f-1c5547beeff7",
   "metadata": {},
   "outputs": [],
   "source": []
  },
  {
   "cell_type": "code",
   "execution_count": null,
   "id": "005e0a63-4202-4a1c-9044-e0581c746f6e",
   "metadata": {},
   "outputs": [],
   "source": []
  },
  {
   "cell_type": "code",
   "execution_count": 63,
   "id": "e2242a30-032b-4285-b90f-0ecc15162d3e",
   "metadata": {},
   "outputs": [],
   "source": [
    "# gpd.read_parquet('../data/prague_validation/morphotopes.pq').explore()"
   ]
  },
  {
   "cell_type": "code",
   "execution_count": null,
   "id": "98805301-7b36-4271-81b6-96a8f70160dd",
   "metadata": {},
   "outputs": [],
   "source": []
  },
  {
   "cell_type": "code",
   "execution_count": null,
   "id": "f9bf1a03-2692-493a-bbee-4691a06c199e",
   "metadata": {},
   "outputs": [],
   "source": []
  },
  {
   "cell_type": "code",
   "execution_count": null,
   "id": "4bcd2533-6d6d-49a5-a686-2173fec7c2ac",
   "metadata": {},
   "outputs": [],
   "source": []
  },
  {
   "cell_type": "code",
   "execution_count": null,
   "id": "7b9ad806-6c29-4ff1-a4bf-3f9e18cacdb7",
   "metadata": {},
   "outputs": [],
   "source": []
  },
  {
   "cell_type": "code",
   "execution_count": null,
   "id": "c119d468-b751-4819-b143-cd7196aae282",
   "metadata": {},
   "outputs": [],
   "source": []
  },
  {
   "cell_type": "code",
   "execution_count": null,
   "id": "7809a2e3-b98e-43c9-8aa2-88aa9675b51e",
   "metadata": {},
   "outputs": [],
   "source": []
  },
  {
   "cell_type": "code",
   "execution_count": null,
   "id": "170f4665-6b76-450d-a23e-8522f20aefa8",
   "metadata": {},
   "outputs": [],
   "source": []
  },
  {
   "cell_type": "code",
   "execution_count": null,
   "id": "abbb488d-d5fd-415a-8e7b-7366eba6d9d5",
   "metadata": {},
   "outputs": [],
   "source": []
  },
  {
   "cell_type": "code",
   "execution_count": null,
   "id": "b323e1e1-742b-4cce-b156-650df4916c15",
   "metadata": {},
   "outputs": [],
   "source": []
  },
  {
   "cell_type": "code",
   "execution_count": null,
   "id": "9f171bf1-181d-4471-8acc-3c5570fc631b",
   "metadata": {},
   "outputs": [],
   "source": []
  },
  {
   "cell_type": "code",
   "execution_count": null,
   "id": "10879f17-413a-472b-a618-5ac8b11ddd78",
   "metadata": {},
   "outputs": [],
   "source": []
  },
  {
   "cell_type": "code",
   "execution_count": null,
   "id": "d9bfdd7d-ad2a-471e-9edb-2d643e57ec8a",
   "metadata": {},
   "outputs": [],
   "source": []
  },
  {
   "cell_type": "code",
   "execution_count": null,
   "id": "a17fc6e7-fe6b-47ce-9e75-8d2c7dc973b1",
   "metadata": {},
   "outputs": [],
   "source": []
  },
  {
   "cell_type": "markdown",
   "id": "0a8cea5e-7b9b-485a-b388-325aec63af7d",
   "metadata": {},
   "source": [
    "----"
   ]
  },
  {
   "cell_type": "code",
   "execution_count": 13,
   "id": "c1cd3226-a655-4d8f-b5b8-b86290809766",
   "metadata": {},
   "outputs": [],
   "source": [
    "old = gpd.read_parquet('../data/prague_validation/prague_clusters.parquet')"
   ]
  },
  {
   "cell_type": "code",
   "execution_count": 5,
   "id": "597d12c7-e9bd-4151-99ec-e3b5877031d3",
   "metadata": {},
   "outputs": [],
   "source": [
    "import geopandas as gpd\n",
    "new  = gpd.read_parquet('../data/prague_validation/morphotopes.pq')"
   ]
  },
  {
   "cell_type": "code",
   "execution_count": 24,
   "id": "d0d95ea2-3273-462d-9220-2c7da7544acd",
   "metadata": {},
   "outputs": [],
   "source": [
    "pd.concat((new.to_crs(epsg=3035), old[old.cluster.isin(['karlin IT offices', 'housing blocks', 'housing houses'])]), ignore_index=True).to_parquet('../data/prague_validation/morphotopes.pq')"
   ]
  },
  {
   "cell_type": "code",
   "execution_count": null,
   "id": "3321f0a5-ed8a-42c2-87db-0aaac446c91d",
   "metadata": {},
   "outputs": [],
   "source": []
  }
 ],
 "metadata": {
  "kernelspec": {
   "display_name": "Python 3 (ipykernel)",
   "language": "python",
   "name": "python3"
  },
  "language_info": {
   "codemirror_mode": {
    "name": "ipython",
    "version": 3
   },
   "file_extension": ".py",
   "mimetype": "text/x-python",
   "name": "python",
   "nbconvert_exporter": "python",
   "pygments_lexer": "ipython3",
   "version": "3.12.4"
  }
 },
 "nbformat": 4,
 "nbformat_minor": 5
}
