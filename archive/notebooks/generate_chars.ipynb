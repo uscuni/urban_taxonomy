{
 "cells": [
  {
   "cell_type": "code",
   "execution_count": 4,
   "id": "7f1c42ea-1b12-4177-86e2-30d7d8b3260b",
   "metadata": {},
   "outputs": [],
   "source": [
    "# import momepy as mm\n",
    "# import numpy as np\n",
    "# import pandas as pd\n",
    "# from libpysal.graph import Graph\n",
    "# import geopandas as gpd\n",
    "# import pytest"
   ]
  },
  {
   "cell_type": "code",
   "execution_count": 5,
   "id": "5624982c-1abc-4ff8-abd3-9ca5f1eb1c23",
   "metadata": {},
   "outputs": [],
   "source": [
    "# %%time\n",
    "# new_file_path = './data/new_geometry.gpkg'\n",
    "# new_df_streets = gpd.read_file(new_file_path, layer='streets')\n",
    "# new_df_buildings = gpd.read_file(new_file_path, layer=\"buildings\")\n",
    "# new_df_blocks = gpd.read_file(new_file_path, layer=\"blocks\")\n",
    "# new_df_tessellation = gpd.read_file(new_file_path, layer=\"tessellation\")\n",
    "\n",
    "\n",
    "# buildings = new_df_buildings\n",
    "# streets = new_df_streets\n",
    "# blocks = new_df_blocks\n",
    "# tessellation = new_df_tessellation"
   ]
  },
  {
   "cell_type": "code",
   "execution_count": null,
   "id": "b62ae653-8bc9-4094-9b4a-c8ad22fe524e",
   "metadata": {},
   "outputs": [],
   "source": []
  },
  {
   "cell_type": "code",
   "execution_count": 50,
   "id": "8cbf812c-d5a5-4744-95af-8ff28e68c867",
   "metadata": {},
   "outputs": [],
   "source": [
    "import gc\n",
    "import glob\n",
    "\n",
    "import geopandas as gpd\n",
    "import momepy as mm\n",
    "import numpy as np\n",
    "import pandas as pd\n",
    "import shapely\n",
    "from libpysal.graph import Graph, read_parquet\n",
    "from utils import lazy_higher_order, partial_apply\n",
    "\n",
    "regions_datadir = \"/data/uscuni-ulce/\"\n",
    "data_dir = \"/data/uscuni-ulce/processed_data/\"\n",
    "eubucco_files = glob.glob(regions_datadir + \"eubucco_raw/*\")\n",
    "graph_dir = data_dir + \"neigh_graphs/\"\n",
    "chars_dir = \"/data/uscuni-ulce/processed_data/chars/\""
   ]
  },
  {
   "cell_type": "code",
   "execution_count": 51,
   "id": "e46581f4-b017-406e-b4d0-277f5f6f0d02",
   "metadata": {},
   "outputs": [
    {
     "name": "stdout",
     "output_type": "stream",
     "text": [
      "Missing buildings for regions [ 34392  55713  62929  66000 107685 115457]\n",
      "Missing enclosures for regions [ 55713  62929 115457]\n",
      "Missing tessellations for regions [ 34392  55713  62929  66000 107685 115457]\n",
      "Missing nodes for regions [  3607   8754  16501  55713  62929 107685 115457]\n",
      "Missing streets for regions [  3607   8754  16501  55713  62929 107685 115457]\n"
     ]
    }
   ],
   "source": [
    "def check_available():\n",
    "    elements = [\"buildings\", \"enclosures\", \"tessellations\", \"nodes\", \"streets\"]\n",
    "    for el in elements:\n",
    "        el_ids = [\n",
    "            int(re.findall(r\"\\d+\", f)[0])\n",
    "            for f in glob.glob(chars_dir + f\"{el}/*.parquet\")\n",
    "        ]\n",
    "        missing = np.setdiff1d(region_hulls.index.values, el_ids)\n",
    "        print(f\"Missing {el} for regions {missing}\")\n",
    "\n",
    "\n",
    "check_available()\n",
    "\n",
    "problem_regions = [66000, 34392]"
   ]
  },
  {
   "cell_type": "code",
   "execution_count": null,
   "id": "f270eb71-ea17-47f2-af82-a2610a9d39c3",
   "metadata": {},
   "outputs": [],
   "source": []
  },
  {
   "cell_type": "code",
   "execution_count": 13,
   "id": "36b44bbc-3c64-4c9e-8861-b30f356b26e4",
   "metadata": {},
   "outputs": [],
   "source": [
    "building_region_mapping = pd.read_parquet(\n",
    "    regions_datadir + \"regions/\" + \"id_to_region.parquet\", engine=\"pyarrow\"\n",
    ")\n",
    "counts = building_region_mapping.groupby(\"region\")[\"id\"].size()\n",
    "del building_region_mapping"
   ]
  },
  {
   "cell_type": "code",
   "execution_count": 22,
   "id": "b67ff446-5ae7-4a57-9e0f-ee7022f96019",
   "metadata": {},
   "outputs": [],
   "source": [
    "large_regions = counts[counts > 6e5].index"
   ]
  },
  {
   "cell_type": "code",
   "execution_count": 23,
   "id": "f0e4df2c-affd-4d67-a5ab-ddc57d222ac3",
   "metadata": {},
   "outputs": [
    {
     "data": {
      "text/plain": [
       "Index([4, 226, 3607, 8754, 16501, 55713, 62929, 107685, 115457], dtype='int64', name='region')"
      ]
     },
     "execution_count": 23,
     "metadata": {},
     "output_type": "execute_result"
    }
   ],
   "source": [
    "large_regions"
   ]
  },
  {
   "cell_type": "code",
   "execution_count": null,
   "id": "b1b6d38d-b5e0-4903-a38c-fbc4a82eb9c5",
   "metadata": {},
   "outputs": [],
   "source": []
  },
  {
   "cell_type": "code",
   "execution_count": 52,
   "id": "c2bdae16-553d-404f-9879-10281c986111",
   "metadata": {},
   "outputs": [],
   "source": [
    "region_hulls = gpd.read_parquet(regions_datadir + \"regions/\" + \"regions_hull.parquet\")"
   ]
  },
  {
   "cell_type": "code",
   "execution_count": 54,
   "id": "2c22df07-0757-43b0-9806-53000947c46b",
   "metadata": {},
   "outputs": [
    {
     "data": {
      "text/plain": [
       "34392"
      ]
     },
     "execution_count": 54,
     "metadata": {},
     "output_type": "execute_result"
    }
   ],
   "source": [
    "# 12199 - hills, small test\n",
    "# 69300 - prague medium\n",
    "# 226 - germany somewhere, largest cluster\n",
    "\n",
    "for region_id, region_hull in region_hulls.iterrows():\n",
    "    if region_id != 34392:\n",
    "        continue\n",
    "\n",
    "    break\n",
    "region_id"
   ]
  },
  {
   "cell_type": "markdown",
   "id": "6e60337d-95cc-4423-bbb6-33785931ef7f",
   "metadata": {
    "jp-MarkdownHeadingCollapsed": true
   },
   "source": [
    "### Streets & Nodes"
   ]
  },
  {
   "cell_type": "code",
   "execution_count": null,
   "id": "f0bf7d54-2dfb-4691-bcaf-f5cb2bc0d5f1",
   "metadata": {},
   "outputs": [],
   "source": []
  },
  {
   "cell_type": "code",
   "execution_count": null,
   "id": "189b5c24-6ca0-4599-b770-2f4eef4b0a41",
   "metadata": {},
   "outputs": [],
   "source": []
  },
  {
   "cell_type": "code",
   "execution_count": 57,
   "id": "37110a5c-4ff2-47cd-b529-3d1bf2b4f14a",
   "metadata": {},
   "outputs": [],
   "source": [
    "streets = gpd.read_parquet(data_dir + f\"/streets/streets_{region_id}.parquet\")\n",
    "\n",
    "graph = mm.gdf_to_nx(streets)\n",
    "graph = mm.node_degree(graph)\n",
    "graph = mm.subgraph(\n",
    "    graph,\n",
    "    radius=5,\n",
    "    meshedness=True,\n",
    "    cds_length=False,\n",
    "    mode=\"sum\",\n",
    "    degree=\"degree\",\n",
    "    length=\"mm_len\",\n",
    "    mean_node_degree=False,\n",
    "    proportion={0: True, 3: True, 4: True},\n",
    "    cyclomatic=False,\n",
    "    edge_node_ratio=False,\n",
    "    gamma=False,\n",
    "    local_closeness=True,\n",
    "    closeness_weight=\"mm_len\",\n",
    "    verbose=False,\n",
    ")\n",
    "graph = mm.cds_length(graph, radius=3, name=\"ldsCDL\", verbose=False)\n",
    "graph = mm.clustering(graph, name=\"xcnSCl\")\n",
    "graph = mm.mean_node_dist(graph, name=\"mtdMDi\", verbose=False)\n",
    "\n",
    "nodes, edges = mm.nx_to_gdf(graph, spatial_weights=False)\n",
    "\n",
    "edges[\"sdsLen\"] = streets.geometry.length\n",
    "street_orientation = mm.orientation(streets)\n",
    "edges[\"sssLin\"] = mm.linearity(streets)"
   ]
  },
  {
   "cell_type": "code",
   "execution_count": null,
   "id": "15f1921b-14f7-421f-a36d-6852d0749156",
   "metadata": {},
   "outputs": [],
   "source": [
    "str_q1 = read_parquet(graph_dir + f\"street_graph_{region_id}_knn1.parquet\")\n",
    "\n",
    "\n",
    "def mean_edge_length(partical_focals, partial_higher, y):\n",
    "    return partial_higher.describe(\n",
    "        y.loc[partial_higher.unique_ids], statistics=[\"mean\"]\n",
    "    )[\"mean\"]\n",
    "\n",
    "\n",
    "edges[\"ldsMSL\"] = partial_apply(\n",
    "    str_q1,\n",
    "    higher_order_k=3,\n",
    "    n_splits=10,\n",
    "    func=mean_edge_length,\n",
    "    y=edges.geometry.length,\n",
    ")"
   ]
  },
  {
   "cell_type": "code",
   "execution_count": null,
   "id": "576b04b3-0574-4693-8f2c-5c5ba4295f3c",
   "metadata": {},
   "outputs": [],
   "source": []
  },
  {
   "cell_type": "code",
   "execution_count": null,
   "id": "d36bf754-ff67-49c4-b754-2b4acedfd400",
   "metadata": {},
   "outputs": [],
   "source": [
    "edges_w3 = str_q1.higher_order(k=3, diagonal=True, lower_order=True)"
   ]
  },
  {
   "cell_type": "code",
   "execution_count": null,
   "id": "d2b63faf-40fe-472a-86fa-eb43b48e2700",
   "metadata": {},
   "outputs": [],
   "source": [
    "r = edges_w3.describe(edges.geometry.length, statistics=[\"mean\"])[\"mean\"]\n",
    "assert np.allclose(edges[\"ldsMSL\"].values, r.values)"
   ]
  },
  {
   "cell_type": "code",
   "execution_count": 10,
   "id": "92874abc-e2b6-4fca-92c2-184fa01a5559",
   "metadata": {},
   "outputs": [
    {
     "name": "stderr",
     "output_type": "stream",
     "text": [
      "/tmp/ipykernel_143189/2063099429.py:4: UserWarning: Some objects were not attached to the network. Set larger `min_size``. 1521 affected elements.\n",
      "  tess_nid = mm.get_network_id(tessellation, edges, network_id=edges.index, verbose=False)\n"
     ]
    }
   ],
   "source": [
    "## tesselation street interactions\n",
    "tessellation = gpd.read_parquet(\n",
    "    data_dir + f\"/tessellations/tessellation_{region_id}.parquet\"\n",
    ")\n",
    "# tessellation to street\n",
    "tess_nid = mm.get_network_id(tessellation, edges, network_id=edges.index, verbose=False)\n",
    "streets[\"sdsAre\"] = mm.describe_agg(\n",
    "    tessellation.geometry.area, tess_nid, streets.index, statistics=[\"sum\", \"count\"]\n",
    ")[\"sum\"]"
   ]
  },
  {
   "cell_type": "code",
   "execution_count": null,
   "id": "779ab905-160f-486c-8246-8cebcefc76eb",
   "metadata": {},
   "outputs": [],
   "source": []
  },
  {
   "cell_type": "code",
   "execution_count": 11,
   "id": "e12ff98c-ff6a-45e7-a8db-60a7664e8764",
   "metadata": {},
   "outputs": [],
   "source": [
    "from utils import partial_describe_reached_agg"
   ]
  },
  {
   "cell_type": "code",
   "execution_count": 12,
   "id": "4a05998c-8681-442e-a429-e2ace5e96a68",
   "metadata": {},
   "outputs": [],
   "source": [
    "res = partial_describe_reached_agg(\n",
    "    tessellation.geometry.area,\n",
    "    tess_nid,\n",
    "    str_q1,\n",
    "    higher_order=3,\n",
    "    n_splits=10,\n",
    "    q=None,\n",
    "    statistics=[\"sum\", \"count\"],\n",
    ")\n",
    "\n",
    "edges[\"ldsRea\"] = res[\"count\"]\n",
    "edges[\"ldsAre\"] = res[\"sum\"]"
   ]
  },
  {
   "cell_type": "code",
   "execution_count": null,
   "id": "87fca985-be15-4945-8ad9-545c4c443e23",
   "metadata": {},
   "outputs": [],
   "source": []
  },
  {
   "cell_type": "code",
   "execution_count": 13,
   "id": "803e7432-fa62-47b0-bd49-2a81b274bcfa",
   "metadata": {},
   "outputs": [],
   "source": [
    "from pandas.testing import assert_frame_equal"
   ]
  },
  {
   "cell_type": "code",
   "execution_count": 14,
   "id": "9622a4d1-be1d-4a80-bac7-29058c2bfdaa",
   "metadata": {},
   "outputs": [],
   "source": [
    "expected_res = mm.describe_reached_agg(\n",
    "    tessellation.geometry.area, tess_nid, graph=edges_w3, statistics=[\"sum\", \"count\"]\n",
    ")"
   ]
  },
  {
   "cell_type": "code",
   "execution_count": 15,
   "id": "e4266d25-8f22-4aa2-99bd-e2d77fb2c9c2",
   "metadata": {},
   "outputs": [],
   "source": [
    "assert_frame_equal(expected_res, res, check_names=False)"
   ]
  },
  {
   "cell_type": "code",
   "execution_count": null,
   "id": "fa2c2b68-e44e-434c-8807-61906e35f68f",
   "metadata": {},
   "outputs": [],
   "source": []
  },
  {
   "cell_type": "code",
   "execution_count": null,
   "id": "4c3bab1c-b506-4012-b28c-f005fb1377e8",
   "metadata": {},
   "outputs": [],
   "source": []
  },
  {
   "cell_type": "code",
   "execution_count": 16,
   "id": "a05b12b5-0fa4-4a1f-9043-a9c4489e3d38",
   "metadata": {},
   "outputs": [
    {
     "name": "stdout",
     "output_type": "stream",
     "text": [
      "CPU times: user 1min 1s, sys: 808 ms, total: 1min 2s\n",
      "Wall time: 1min 2s\n"
     ]
    }
   ],
   "source": [
    "%%time\n",
    "## street building interactions\n",
    "buildings = gpd.read_parquet(data_dir + f\"/buildings/buildings_{region_id}.parquet\")\n",
    "\n",
    "profile = mm.street_profile(streets, buildings, height=None, distance=3)\n",
    "edges[\"sdsSPW\"] = profile[\"width\"]\n",
    "edges[\"sdsSPO\"] = profile[\"openness\"]\n",
    "edges[\"sdsSWD\"] = profile[\"width_deviation\"]"
   ]
  },
  {
   "cell_type": "code",
   "execution_count": null,
   "id": "045a081b-6de5-48cc-827a-becf4c6acf6f",
   "metadata": {},
   "outputs": [],
   "source": []
  },
  {
   "cell_type": "code",
   "execution_count": 21,
   "id": "9ed91aa5-7338-4898-856f-5ab98e852fca",
   "metadata": {},
   "outputs": [],
   "source": [
    "node_graph = read_parquet(graph_dir + f\"nodes_graph_{region_id}_knn1.parquet\")\n",
    "higher_order = 5\n",
    "graph = node_graph\n",
    "n_splits = 2"
   ]
  },
  {
   "cell_type": "code",
   "execution_count": 22,
   "id": "db556777-3fc8-4b1e-a0e8-e66dee5cbab3",
   "metadata": {},
   "outputs": [],
   "source": [
    "res = pd.Series(np.nan, index=graph.unique_ids)\n",
    "\n",
    "for partial_higher in lazy_higher_order(graph, k=higher_order, n_splits=n_splits):\n",
    "    partial_focals = np.setdiff1d(partial_higher.unique_ids, partial_higher.isolates)\n",
    "    break"
   ]
  },
  {
   "cell_type": "code",
   "execution_count": 28,
   "id": "de17b444-78e9-4c6c-aebc-3f2c55d46a01",
   "metadata": {},
   "outputs": [],
   "source": [
    "def partial_node_density(partial_focals, partial_higher, nodes, edges, weighted):\n",
    "    return mm.node_density(\n",
    "        nodes.loc[partial_higher.unique_ids], edges, partial_higher, weighted\n",
    "    )"
   ]
  },
  {
   "cell_type": "code",
   "execution_count": 35,
   "id": "2b04fc55-c79b-4f36-a07d-56bb7959fda6",
   "metadata": {},
   "outputs": [
    {
     "name": "stdout",
     "output_type": "stream",
     "text": [
      "CPU times: user 1min 1s, sys: 4.01 ms, total: 1min 1s\n",
      "Wall time: 1min 1s\n"
     ]
    }
   ],
   "source": [
    "%%time\n",
    "res = partial_apply(\n",
    "    node_graph,\n",
    "    higher_order_k=higher_order,\n",
    "    n_splits=n_splits,\n",
    "    func=partial_node_density,\n",
    "    nodes=nodes,\n",
    "    edges=edges,\n",
    "    weighted=False,\n",
    ")"
   ]
  },
  {
   "cell_type": "code",
   "execution_count": 38,
   "id": "5b86b1b6-9f9c-4043-8ae3-e86f180dd161",
   "metadata": {},
   "outputs": [
    {
     "name": "stdout",
     "output_type": "stream",
     "text": [
      "CPU times: user 662 ms, sys: 15 µs, total: 662 ms\n",
      "Wall time: 662 ms\n"
     ]
    }
   ],
   "source": [
    "%%time\n",
    "nodes5 = node_graph.higher_order(k=5, lower_order=True, diagonal=True)"
   ]
  },
  {
   "cell_type": "code",
   "execution_count": 39,
   "id": "581b88c3-32d5-482c-a687-183b6761ed0b",
   "metadata": {},
   "outputs": [
    {
     "name": "stdout",
     "output_type": "stream",
     "text": [
      "CPU times: user 50.7 s, sys: 0 ns, total: 50.7 s\n",
      "Wall time: 50.7 s\n"
     ]
    }
   ],
   "source": [
    "%%time\n",
    "expected_res = mm.node_density(nodes, edges, nodes5, False)"
   ]
  },
  {
   "cell_type": "code",
   "execution_count": 40,
   "id": "90313186-c4ef-488f-ab3d-b823ce72d3f2",
   "metadata": {},
   "outputs": [],
   "source": [
    "from pandas.testing import assert_series_equal"
   ]
  },
  {
   "cell_type": "code",
   "execution_count": 41,
   "id": "9af02d2b-f89a-4d42-98ff-f513c625e742",
   "metadata": {},
   "outputs": [],
   "source": [
    "assert_series_equal(res, expected_res)"
   ]
  },
  {
   "cell_type": "code",
   "execution_count": null,
   "id": "0b5b2f09-7c38-4a99-b72b-c35a54978fc2",
   "metadata": {},
   "outputs": [],
   "source": []
  },
  {
   "cell_type": "code",
   "execution_count": null,
   "id": "ee2f0a0f-07ee-4a51-92a7-d4dbd6b976c6",
   "metadata": {},
   "outputs": [],
   "source": []
  },
  {
   "cell_type": "markdown",
   "id": "bfc301f4-daef-4f1c-b43d-aeb624206e47",
   "metadata": {
    "jp-MarkdownHeadingCollapsed": true
   },
   "source": [
    "### Enclosures"
   ]
  },
  {
   "cell_type": "code",
   "execution_count": 42,
   "id": "0e430c41-65ae-41db-9555-0b6b3a8559ea",
   "metadata": {},
   "outputs": [
    {
     "name": "stdout",
     "output_type": "stream",
     "text": [
      "Processing enclosures\n"
     ]
    }
   ],
   "source": [
    "print(\"Processing enclosures\")\n",
    "enclosures = gpd.read_parquet(data_dir + f\"/enclosures/enclosure_{region_id}.parquet\")\n",
    "enclosures[\"ldkAre\"] = enclosures.geometry.area\n",
    "enclosures[\"ldkPer\"] = enclosures.geometry.length\n",
    "enclosures[\"lskCCo\"] = mm.circular_compactness(enclosures)\n",
    "enclosures[\"lskERI\"] = mm.equivalent_rectangular_index(enclosures)\n",
    "enclosures[\"lskCWA\"] = mm.compactness_weighted_axis(enclosures)\n",
    "enclosures[\"ltkOri\"] = mm.orientation(enclosures)\n",
    "\n",
    "blo_q1 = read_parquet(graph_dir + f\"enclosure_graph_{region_id}_knn1.parquet\")\n",
    "enclosures[\"ltkWNB\"] = mm.neighbors(enclosures, blo_q1, weighted=True)"
   ]
  },
  {
   "cell_type": "code",
   "execution_count": 44,
   "id": "088dbe26-0c0e-486d-bbf0-e7f656103258",
   "metadata": {},
   "outputs": [],
   "source": [
    "# ## buildings enclosures interactions\n",
    "# buildings = gpd.read_parquet(data_dir + f'/buildings/buildings_{region_id}.parquet')\n",
    "# tessellation = gpd.read_parquet(data_dir + f'/tessellations/tessellation_{region_id}.parquet')"
   ]
  },
  {
   "cell_type": "code",
   "execution_count": 46,
   "id": "6cc7576e-5eb4-4bdc-a770-0576dace633f",
   "metadata": {},
   "outputs": [],
   "source": [
    "beid = buildings.merge(\n",
    "    tessellation[\"enclosure_index\"], left_index=True, right_index=True\n",
    ")[\"enclosure_index\"]\n",
    "\n",
    "res = mm.describe_agg(\n",
    "    buildings.geometry.area,\n",
    "    beid,\n",
    "    result_index=enclosures.index,\n",
    "    statistics=[\"count\", \"sum\"],\n",
    ")\n",
    "\n",
    "enclosures[\"likWBB\"] = res[\"sum\"] / enclosures.geometry.area"
   ]
  },
  {
   "cell_type": "code",
   "execution_count": null,
   "id": "e9124e37-9e0e-4453-a74b-bc23cfb831cc",
   "metadata": {},
   "outputs": [],
   "source": []
  },
  {
   "cell_type": "markdown",
   "id": "9d6c5a8d-fe49-465d-9195-112a4d52b8d3",
   "metadata": {},
   "source": [
    "### Buildings"
   ]
  },
  {
   "cell_type": "code",
   "execution_count": 144,
   "id": "f0f5eea9-7afc-4c31-9fa3-1dce6b320bf3",
   "metadata": {},
   "outputs": [
    {
     "name": "stderr",
     "output_type": "stream",
     "text": [
      "/home/krasen/momepy/momepy/functional/_shape.py:547: RuntimeWarning: invalid value encountered in arccos\n",
      "  angles = np.arccos(cosine_angle)\n",
      "/home/krasen/momepy/momepy/functional/_shape.py:544: RuntimeWarning: invalid value encountered in divide\n",
      "  cosine_angle = np.sum(ba * bc, axis=1) / (\n",
      "/home/krasen/momepy/momepy/functional/_shape.py:547: RuntimeWarning: invalid value encountered in arccos\n",
      "  angles = np.arccos(cosine_angle)\n",
      "/home/krasen/momepy/momepy/functional/_shape.py:544: RuntimeWarning: invalid value encountered in divide\n",
      "  cosine_angle = np.sum(ba * bc, axis=1) / (\n",
      "/home/krasen/momepy/momepy/functional/_shape.py:547: RuntimeWarning: invalid value encountered in arccos\n",
      "  angles = np.arccos(cosine_angle)\n",
      "/home/krasen/momepy/momepy/functional/_shape.py:544: RuntimeWarning: invalid value encountered in divide\n",
      "  cosine_angle = np.sum(ba * bc, axis=1) / (\n"
     ]
    },
    {
     "name": "stdout",
     "output_type": "stream",
     "text": [
      "CPU times: user 3min 7s, sys: 1.51 s, total: 3min 8s\n",
      "Wall time: 3min 8s\n"
     ]
    }
   ],
   "source": [
    "%%time\n",
    "buildings = gpd.read_parquet(data_dir + f\"/buildings/buildings_{region_id}.parquet\")\n",
    "\n",
    "buildings[\"sdbAre\"] = buildings.geometry.area\n",
    "buildings[\"sdbPer\"] = buildings.geometry.length\n",
    "buildings[\"sdbCoA\"] = mm.courtyard_area(buildings.geometry)\n",
    "buildings[\"ssbCCo\"] = mm.circular_compactness(buildings)\n",
    "buildings[\"ssbCor\"] = mm.corners(buildings.geometry)\n",
    "buildings[\"ssbSqu\"] = mm.squareness(buildings.geometry)\n",
    "buildings[\"ssbERI\"] = mm.equivalent_rectangular_index(buildings.geometry)\n",
    "buildings[\"ssbElo\"] = mm.elongation(buildings.geometry)\n",
    "\n",
    "cencon = mm.centroid_corner_distance(buildings)\n",
    "buildings[\"ssbCCM\"] = cencon[\"mean\"]\n",
    "buildings[\"ssbCCD\"] = cencon[\"std\"]\n",
    "buildings[\"stbOri\"] = mm.orientation(buildings)\n",
    "# buildings[\"mtbSWR\"] = mm.shared_walls(buildings) /  buildings.geometry.length\n",
    "\n",
    "buildings_q1 = read_parquet(graph_dir + f\"building_graph_{region_id}_knn1.parquet\")\n",
    "buildings[\"libNCo\"] = mm.courtyards(buildings, buildings_q1)\n",
    "buildings[\"ldbPWL\"] = mm.perimeter_wall(buildings, buildings_q1)"
   ]
  },
  {
   "cell_type": "code",
   "execution_count": 61,
   "id": "a9c4b726-c65e-486e-9b74-6b14f0d8ef38",
   "metadata": {},
   "outputs": [
    {
     "data": {
      "text/plain": [
       "True"
      ]
     },
     "execution_count": 61,
     "metadata": {},
     "output_type": "execute_result"
    }
   ],
   "source": [
    "buildings.is_valid.all()"
   ]
  },
  {
   "cell_type": "code",
   "execution_count": null,
   "id": "969d6072-90d6-447c-886b-e40f3fab9ba3",
   "metadata": {},
   "outputs": [],
   "source": []
  },
  {
   "cell_type": "code",
   "execution_count": 96,
   "id": "124c9b8f-4f80-48bc-b882-dd1188014a68",
   "metadata": {},
   "outputs": [],
   "source": [
    "# buildings.iloc[85_250:85_300].explore()"
   ]
  },
  {
   "cell_type": "code",
   "execution_count": 134,
   "id": "e84808f5-199f-4c7e-923f-37fd717ca59b",
   "metadata": {},
   "outputs": [],
   "source": [
    "buildings.iloc[85_280:85_290].to_parquet(\"problem_buildings.parquet\")"
   ]
  },
  {
   "cell_type": "code",
   "execution_count": 135,
   "id": "acef2c5b-c9cf-4cba-97d3-b95d9e3e4e3c",
   "metadata": {},
   "outputs": [],
   "source": [
    "# buildings.set_precision(0).iloc[85_280:85_290].explore()"
   ]
  },
  {
   "cell_type": "code",
   "execution_count": 125,
   "id": "bb04f3da-8492-4b2c-af1d-a1f679047290",
   "metadata": {},
   "outputs": [
    {
     "data": {
      "text/plain": [
       "0.0"
      ]
     },
     "execution_count": 125,
     "metadata": {},
     "output_type": "execute_result"
    }
   ],
   "source": [
    "mm.shared_walls(buildings.iloc[85_280:85_290].set_precision(1e-20)).sum()"
   ]
  },
  {
   "cell_type": "code",
   "execution_count": 142,
   "id": "2d892bea-1ebd-462b-a969-b7ada561d2ed",
   "metadata": {},
   "outputs": [],
   "source": [
    "problem_buildings = buildings.iloc[85_280:85_290]\n",
    "problem_buildings.loc[:, \"geometry\"] = problem_buildings.make_valid()"
   ]
  },
  {
   "cell_type": "code",
   "execution_count": null,
   "id": "4441aa06-5dfc-4e80-aac0-3fd012dab364",
   "metadata": {},
   "outputs": [],
   "source": [
    "problem_buildings"
   ]
  },
  {
   "cell_type": "code",
   "execution_count": 143,
   "id": "a5f8c960-659e-4a26-8dcf-dbcf946ee0d5",
   "metadata": {},
   "outputs": [
    {
     "ename": "GEOSException",
     "evalue": "TopologyException: side location conflict at 4393635.0975778354 2932538.141627443. This can occur if the input geometry is invalid.",
     "output_type": "error",
     "traceback": [
      "\u001b[0;31m---------------------------------------------------------------------------\u001b[0m",
      "\u001b[0;31mGEOSException\u001b[0m                             Traceback (most recent call last)",
      "Cell \u001b[0;32mIn[143], line 1\u001b[0m\n\u001b[0;32m----> 1\u001b[0m \u001b[43mmm\u001b[49m\u001b[38;5;241;43m.\u001b[39;49m\u001b[43mshared_walls\u001b[49m\u001b[43m(\u001b[49m\u001b[43mproblem_buildings\u001b[49m\u001b[43m)\u001b[49m\u001b[38;5;241m.\u001b[39msum()\n",
      "File \u001b[0;32m~/momepy/momepy/functional/_distribution.py:93\u001b[0m, in \u001b[0;36mshared_walls\u001b[0;34m(geometry)\u001b[0m\n\u001b[1;32m     76\u001b[0m \u001b[38;5;250m\u001b[39m\u001b[38;5;124;03m\"\"\"Calculate the length of shared walls of adjacent elements (typically buildings).\u001b[39;00m\n\u001b[1;32m     77\u001b[0m \n\u001b[1;32m     78\u001b[0m \u001b[38;5;124;03mNote that data needs to be topologically correct. Overlapping polygons will lead to\u001b[39;00m\n\u001b[0;32m   (...)\u001b[0m\n\u001b[1;32m     90\u001b[0m \u001b[38;5;124;03mSeries\u001b[39;00m\n\u001b[1;32m     91\u001b[0m \u001b[38;5;124;03m\"\"\"\u001b[39;00m\n\u001b[1;32m     92\u001b[0m \u001b[38;5;28;01mif\u001b[39;00m GPD_GE_013:\n\u001b[0;32m---> 93\u001b[0m     inp, res \u001b[38;5;241m=\u001b[39m \u001b[43mgeometry\u001b[49m\u001b[38;5;241;43m.\u001b[39;49m\u001b[43msindex\u001b[49m\u001b[38;5;241;43m.\u001b[39;49m\u001b[43mquery\u001b[49m\u001b[43m(\u001b[49m\u001b[43mgeometry\u001b[49m\u001b[38;5;241;43m.\u001b[39;49m\u001b[43mgeometry\u001b[49m\u001b[43m,\u001b[49m\u001b[43m \u001b[49m\u001b[43mpredicate\u001b[49m\u001b[38;5;241;43m=\u001b[39;49m\u001b[38;5;124;43m\"\u001b[39;49m\u001b[38;5;124;43mtouches\u001b[39;49m\u001b[38;5;124;43m\"\u001b[39;49m\u001b[43m)\u001b[49m\n\u001b[1;32m     94\u001b[0m \u001b[38;5;28;01melse\u001b[39;00m:\n\u001b[1;32m     95\u001b[0m     inp, res \u001b[38;5;241m=\u001b[39m geometry\u001b[38;5;241m.\u001b[39msindex\u001b[38;5;241m.\u001b[39mquery_bulk(geometry\u001b[38;5;241m.\u001b[39mgeometry, predicate\u001b[38;5;241m=\u001b[39m\u001b[38;5;124m\"\u001b[39m\u001b[38;5;124mtouches\u001b[39m\u001b[38;5;124m\"\u001b[39m)\n",
      "File \u001b[0;32m~/miniconda3/envs/momepy/lib/python3.12/site-packages/geopandas/sindex.py:212\u001b[0m, in \u001b[0;36mSpatialIndex.query\u001b[0;34m(self, geometry, predicate, sort, distance, output_format)\u001b[0m\n\u001b[1;32m    205\u001b[0m     \u001b[38;5;28;01mraise\u001b[39;00m \u001b[38;5;167;01mValueError\u001b[39;00m(\n\u001b[1;32m    206\u001b[0m         \u001b[38;5;124m\"\u001b[39m\u001b[38;5;124m'\u001b[39m\u001b[38;5;124mdistance\u001b[39m\u001b[38;5;124m'\u001b[39m\u001b[38;5;124m parameter is only supported in combination with \u001b[39m\u001b[38;5;124m\"\u001b[39m\n\u001b[1;32m    207\u001b[0m         \u001b[38;5;124m\"\u001b[39m\u001b[38;5;124m'\u001b[39m\u001b[38;5;124mdwithin\u001b[39m\u001b[38;5;124m'\u001b[39m\u001b[38;5;124m predicate\u001b[39m\u001b[38;5;124m\"\u001b[39m\n\u001b[1;32m    208\u001b[0m     )\n\u001b[1;32m    210\u001b[0m geometry \u001b[38;5;241m=\u001b[39m \u001b[38;5;28mself\u001b[39m\u001b[38;5;241m.\u001b[39m_as_geometry_array(geometry)\n\u001b[0;32m--> 212\u001b[0m indices \u001b[38;5;241m=\u001b[39m \u001b[38;5;28;43mself\u001b[39;49m\u001b[38;5;241;43m.\u001b[39;49m\u001b[43m_tree\u001b[49m\u001b[38;5;241;43m.\u001b[39;49m\u001b[43mquery\u001b[49m\u001b[43m(\u001b[49m\u001b[43mgeometry\u001b[49m\u001b[43m,\u001b[49m\u001b[43m \u001b[49m\u001b[43mpredicate\u001b[49m\u001b[38;5;241;43m=\u001b[39;49m\u001b[43mpredicate\u001b[49m\u001b[43m,\u001b[49m\u001b[43m \u001b[49m\u001b[38;5;241;43m*\u001b[39;49m\u001b[38;5;241;43m*\u001b[39;49m\u001b[43mkwargs\u001b[49m\u001b[43m)\u001b[49m\n\u001b[1;32m    214\u001b[0m \u001b[38;5;28;01mif\u001b[39;00m output_format \u001b[38;5;241m!=\u001b[39m \u001b[38;5;124m\"\u001b[39m\u001b[38;5;124mtuple\u001b[39m\u001b[38;5;124m\"\u001b[39m:\n\u001b[1;32m    215\u001b[0m     sort \u001b[38;5;241m=\u001b[39m \u001b[38;5;28;01mTrue\u001b[39;00m\n",
      "File \u001b[0;32m~/miniconda3/envs/momepy/lib/python3.12/site-packages/shapely/strtree.py:269\u001b[0m, in \u001b[0;36mSTRtree.query\u001b[0;34m(self, geometry, predicate, distance)\u001b[0m\n\u001b[1;32m    266\u001b[0m     \u001b[38;5;28;01mreturn\u001b[39;00m indices[\u001b[38;5;241m1\u001b[39m] \u001b[38;5;28;01mif\u001b[39;00m is_scalar \u001b[38;5;28;01melse\u001b[39;00m indices\n\u001b[1;32m    268\u001b[0m predicate \u001b[38;5;241m=\u001b[39m BinaryPredicate\u001b[38;5;241m.\u001b[39mget_value(predicate)\n\u001b[0;32m--> 269\u001b[0m indices \u001b[38;5;241m=\u001b[39m \u001b[38;5;28;43mself\u001b[39;49m\u001b[38;5;241;43m.\u001b[39;49m\u001b[43m_tree\u001b[49m\u001b[38;5;241;43m.\u001b[39;49m\u001b[43mquery\u001b[49m\u001b[43m(\u001b[49m\u001b[43mgeometry\u001b[49m\u001b[43m,\u001b[49m\u001b[43m \u001b[49m\u001b[43mpredicate\u001b[49m\u001b[43m)\u001b[49m\n\u001b[1;32m    270\u001b[0m \u001b[38;5;28;01mreturn\u001b[39;00m indices[\u001b[38;5;241m1\u001b[39m] \u001b[38;5;28;01mif\u001b[39;00m is_scalar \u001b[38;5;28;01melse\u001b[39;00m indices\n",
      "\u001b[0;31mGEOSException\u001b[0m: TopologyException: side location conflict at 4393635.0975778354 2932538.141627443. This can occur if the input geometry is invalid."
     ]
    }
   ],
   "source": [
    "mm.shared_walls(problem_buildings).sum()"
   ]
  },
  {
   "cell_type": "code",
   "execution_count": null,
   "id": "d86040e1-a1dd-423f-ae1e-0e43ce815813",
   "metadata": {},
   "outputs": [],
   "source": []
  },
  {
   "cell_type": "code",
   "execution_count": 145,
   "id": "1db7f51e-c4dd-42d4-9430-2fd58b85dc4c",
   "metadata": {},
   "outputs": [],
   "source": [
    "queen_1 = read_parquet(graph_dir + f\"tessellation_graph_{region_id}_knn1.parquet\")\n",
    "bgraph = queen_1.subgraph(buildings_q1.unique_ids)"
   ]
  },
  {
   "cell_type": "code",
   "execution_count": 146,
   "id": "bc9892ee-1627-46a9-8a78-9614ed0c0382",
   "metadata": {},
   "outputs": [],
   "source": [
    "buildings[\"ltcBuA\"] = mm.building_adjacency(buildings_q1, bgraph)"
   ]
  },
  {
   "cell_type": "code",
   "execution_count": 147,
   "id": "e07ee4c9-fd4a-4371-823c-5d5fcd27aaa2",
   "metadata": {},
   "outputs": [],
   "source": [
    "buildings[\"mtbAli\"] = mm.alignment(buildings[\"stbOri\"], bgraph)\n",
    "buildings[\"mtbNDi\"] = mm.neighbor_distance(buildings, bgraph)"
   ]
  },
  {
   "cell_type": "code",
   "execution_count": null,
   "id": "4a6fda88-4f13-4926-b315-ce711dbf69f5",
   "metadata": {},
   "outputs": [],
   "source": []
  },
  {
   "cell_type": "code",
   "execution_count": 148,
   "id": "4ce91a7d-9e99-481a-a74f-2bd70fa29583",
   "metadata": {},
   "outputs": [],
   "source": [
    "def partial_mean_intb_dist(partial_focals, partial_higher, buildings, bgraph):\n",
    "    pos_unique_higher = partial_higher.unique_ids\n",
    "    pos_unique_higher = pos_unique_higher[pos_unique_higher >= 0]\n",
    "    partial_buildings = buildings.loc[pos_unique_higher]\n",
    "    partial_bgraph = bgraph.subgraph(partial_buildings.index.values)\n",
    "    partial_bgraph3 = partial_higher.subgraph(partial_buildings.index.values)\n",
    "\n",
    "    res = pd.Series(np.nan, index=partial_higher.unique_ids)\n",
    "    mibd = mm.mean_interbuilding_distance(\n",
    "        buildings.loc[pos_unique_higher], partial_bgraph, partial_bgraph3\n",
    "    )\n",
    "    res.loc[mibd.index] = mibd.values\n",
    "    return res"
   ]
  },
  {
   "cell_type": "code",
   "execution_count": 149,
   "id": "a5a9478f-b881-421d-b170-25535096a1db",
   "metadata": {},
   "outputs": [
    {
     "name": "stdout",
     "output_type": "stream",
     "text": [
      "CPU times: user 3min 6s, sys: 110 ms, total: 3min 6s\n",
      "Wall time: 3min 6s\n"
     ]
    }
   ],
   "source": [
    "%%time\n",
    "res = partial_apply(\n",
    "    graph=queen_1,\n",
    "    higher_order_k=3,\n",
    "    n_splits=20,\n",
    "    func=partial_mean_intb_dist,\n",
    "    buildings=buildings,\n",
    "    bgraph=bgraph,\n",
    ")\n",
    "buildings[\"ltbIBD\"] = res[res.index >= 0]"
   ]
  },
  {
   "cell_type": "code",
   "execution_count": 82,
   "id": "046db33f-a8aa-4439-ba31-b223fa190001",
   "metadata": {},
   "outputs": [],
   "source": [
    "# # higher = queen_1.higher_order(k=3, lower_order=True, diagonal=True)\n",
    "\n",
    "# bgraph3 = higher.subgraph(buildings.index.values)\n",
    "# expected_res = mm.mean_interbuilding_distance(buildings, bgraph, bgraph3)"
   ]
  },
  {
   "cell_type": "code",
   "execution_count": null,
   "id": "4d8398a6-2ccf-42f9-abb1-a8feac37f5c0",
   "metadata": {},
   "outputs": [],
   "source": []
  },
  {
   "cell_type": "code",
   "execution_count": 83,
   "id": "e1fdb40f-dd16-4f05-853b-e8f69e8833f9",
   "metadata": {},
   "outputs": [],
   "source": [
    "assert_series_equal(expected_res, buildings[\"ltbIBD\"], check_names=False)"
   ]
  },
  {
   "cell_type": "code",
   "execution_count": 84,
   "id": "0423e484-affd-4047-93e6-889a6ddef8e2",
   "metadata": {},
   "outputs": [
    {
     "data": {
      "text/plain": [
       "2710"
      ]
     },
     "execution_count": 84,
     "metadata": {},
     "output_type": "execute_result"
    }
   ],
   "source": [
    "del bgraph\n",
    "gc.collect()"
   ]
  },
  {
   "cell_type": "code",
   "execution_count": 150,
   "id": "09394676-22d4-4139-887d-a28eb44a2857",
   "metadata": {},
   "outputs": [],
   "source": [
    "tessellation = gpd.read_parquet(\n",
    "    data_dir + f\"/tessellations/tessellation_{region_id}.parquet\"\n",
    ")\n",
    "tessellation[\"stcOri\"] = mm.orientation(tessellation)\n",
    "buildings[\"stbCeA\"] = mm.cell_alignment(\n",
    "    buildings[\"stbOri\"], tessellation[tessellation.index >= 0][\"stcOri\"]\n",
    ")"
   ]
  },
  {
   "cell_type": "code",
   "execution_count": 151,
   "id": "410d45a9-e529-4886-8452-223021e33a0c",
   "metadata": {},
   "outputs": [
    {
     "name": "stderr",
     "output_type": "stream",
     "text": [
      "/tmp/ipykernel_6977/3981283296.py:5: UserWarning: Some objects were not attached to the network. Set larger `min_size``. 2524 affected elements.\n",
      "  tess_nid = mm.get_network_id(tessellation, edges, network_id=edges.index, verbose=False)\n"
     ]
    }
   ],
   "source": [
    "## building streets interactions\n",
    "streets = gpd.read_parquet(data_dir + f\"/streets/streets_{region_id}.parquet\")\n",
    "graph = mm.gdf_to_nx(streets)\n",
    "nodes, edges = mm.nx_to_gdf(graph, spatial_weights=False)\n",
    "tess_nid = mm.get_network_id(tessellation, edges, network_id=edges.index, verbose=False)\n",
    "blg_nid = tess_nid[tess_nid.index >= 0]\n",
    "street_orientation = mm.orientation(streets)\n",
    "buildings[\"nID\"] = blg_nid\n",
    "edges[\"nID\"] = edges.index.values\n",
    "buildings[\"stbSAl\"] = mm.street_alignment(\n",
    "    buildings[\"stbOri\"][~blg_nid.isna()], street_orientation, blg_nid[~blg_nid.isna()]\n",
    ")\n",
    "\n",
    "buildings[\"nodeID\"] = mm.get_node_id(\n",
    "    buildings, nodes, edges, \"nodeID\", \"nID\", verbose=False\n",
    ")"
   ]
  },
  {
   "cell_type": "code",
   "execution_count": null,
   "id": "e311dc47-6d7b-4d8b-aaa1-237c760f412e",
   "metadata": {},
   "outputs": [],
   "source": []
  },
  {
   "cell_type": "code",
   "execution_count": null,
   "id": "8bb0bfc4-08ff-4fdf-94f4-1d85f71bee02",
   "metadata": {},
   "outputs": [],
   "source": []
  },
  {
   "cell_type": "markdown",
   "id": "587c1ffa-88ef-4104-9fd6-6a0020ce9e57",
   "metadata": {
    "jp-MarkdownHeadingCollapsed": true
   },
   "source": [
    "### Tessellations"
   ]
  },
  {
   "cell_type": "code",
   "execution_count": 152,
   "id": "3f49dd83-f93a-4d00-b48e-e3b6e66321bf",
   "metadata": {},
   "outputs": [],
   "source": [
    "tessellation = gpd.read_parquet(\n",
    "    data_dir + f\"/tessellations/tessellation_{region_id}.parquet\"\n",
    ")\n",
    "\n",
    "tessellation[\"stcOri\"] = mm.orientation(tessellation)\n",
    "tessellation[\"sdcLAL\"] = mm.longest_axis_length(tessellation)\n",
    "tessellation[\"sdcAre\"] = tessellation.geometry.area\n",
    "tessellation[\"sscCCo\"] = mm.circular_compactness(tessellation)\n",
    "tessellation[\"sscERI\"] = mm.equivalent_rectangular_index(tessellation.geometry)\n",
    "\n",
    "queen_1 = read_parquet(graph_dir + f\"tessellation_graph_{region_id}_knn1.parquet\")\n",
    "tessellation[\"mtcWNe\"] = mm.neighbors(tessellation, queen_1, weighted=True)\n",
    "tessellation[\"mdcAre\"] = queen_1.describe(\n",
    "    tessellation.geometry.area, statistics=[\"sum\"]\n",
    ")[\"sum\"]"
   ]
  },
  {
   "cell_type": "code",
   "execution_count": null,
   "id": "b7ca2248-37c5-479e-bbc4-8e34131dca98",
   "metadata": {},
   "outputs": [],
   "source": []
  },
  {
   "cell_type": "code",
   "execution_count": 153,
   "id": "8cd36415-9dc9-453e-876c-d702b44a71ca",
   "metadata": {},
   "outputs": [],
   "source": [
    "def partial_block_count(partial_focal, partial_higher, y):\n",
    "    return partial_higher.describe(\n",
    "        y.loc[partial_higher.unique_ids], statistics=[\"nunique\"]\n",
    "    )[\"nunique\"]"
   ]
  },
  {
   "cell_type": "code",
   "execution_count": 154,
   "id": "844797e4-4419-486a-8935-335e3e79b4ff",
   "metadata": {},
   "outputs": [],
   "source": [
    "def partial_block_count(partial_focal, partial_higher, y):\n",
    "    return partial_higher.describe(\n",
    "        y.loc[partial_higher.unique_ids], statistics=[\"nunique\"]\n",
    "    )[\"nunique\"]\n",
    "\n",
    "\n",
    "tessellation[\"ltcWRB\"] = partial_apply(\n",
    "    queen_1,\n",
    "    higher_order_k=3,\n",
    "    n_splits=10,\n",
    "    func=partial_block_count,\n",
    "    y=tessellation[\"enclosure_index\"],\n",
    ")"
   ]
  },
  {
   "cell_type": "code",
   "execution_count": 156,
   "id": "fe948960-cf5a-483b-be19-5c67f07aa141",
   "metadata": {},
   "outputs": [],
   "source": [
    "# expected_res = higher.describe(tessellation['enclosure_index'], statistics=['nunique'])['nunique']"
   ]
  },
  {
   "cell_type": "code",
   "execution_count": 157,
   "id": "6106d3f5-0e88-4841-9e93-02ed868f5eee",
   "metadata": {},
   "outputs": [],
   "source": [
    "# assert_series_equal(expected_res, tessellation['ltcWRB'], check_names=False, check_dtype=False)"
   ]
  },
  {
   "cell_type": "code",
   "execution_count": 158,
   "id": "e3988a0c-b295-4c3c-a571-050755737155",
   "metadata": {},
   "outputs": [],
   "source": [
    "buildings = gpd.read_parquet(data_dir + f\"/buildings/buildings_{region_id}.parquet\")"
   ]
  },
  {
   "cell_type": "code",
   "execution_count": 159,
   "id": "9512b4f6-e1f8-4f29-ba7c-96ca9b442062",
   "metadata": {},
   "outputs": [],
   "source": [
    "tessellation[\"sicCAR\"] = buildings.geometry.area / tessellation.geometry.area"
   ]
  },
  {
   "cell_type": "code",
   "execution_count": 160,
   "id": "a11ef254-e630-49bb-be1c-e1e06782dfc1",
   "metadata": {},
   "outputs": [
    {
     "name": "stderr",
     "output_type": "stream",
     "text": [
      "/tmp/ipykernel_6977/3449097053.py:5: UserWarning: Some objects were not attached to the network. Set larger `min_size``. 2524 affected elements.\n",
      "  tess_nid = mm.get_network_id(tessellation, edges, network_id=edges.index, verbose=False)\n"
     ]
    }
   ],
   "source": [
    "streets = gpd.read_parquet(data_dir + f\"/streets/streets_{region_id}.parquet\")\n",
    "street_orientation = mm.orientation(streets)\n",
    "graph = mm.gdf_to_nx(streets)\n",
    "nodes, edges = mm.nx_to_gdf(graph, spatial_weights=False)\n",
    "tess_nid = mm.get_network_id(tessellation, edges, network_id=edges.index, verbose=False)"
   ]
  },
  {
   "cell_type": "code",
   "execution_count": 161,
   "id": "396b237b-2741-487c-9df1-551217eb9cc7",
   "metadata": {},
   "outputs": [],
   "source": [
    "tessellation[\"stcSAl\"] = mm.street_alignment(\n",
    "    tessellation[\"stcOri\"][~tess_nid.isna()],\n",
    "    street_orientation,\n",
    "    tess_nid[~tess_nid.isna()].astype(int).values,\n",
    ")"
   ]
  },
  {
   "cell_type": "code",
   "execution_count": 162,
   "id": "f4b71929-81d2-4f5d-a699-9e8fbda781f5",
   "metadata": {},
   "outputs": [],
   "source": [
    "edges[\"nID\"] = edges.index.values\n",
    "buildings[\"nID\"] = tess_nid[tess_nid.index >= 0]\n",
    "tessellation[\"nodeID\"] = mm.get_node_id(\n",
    "    buildings, nodes, edges, \"nodeID\", \"nID\", verbose=False\n",
    ")"
   ]
  },
  {
   "cell_type": "code",
   "execution_count": null,
   "id": "9de1ea73-f930-41e4-8bd5-a77ffa1131c2",
   "metadata": {},
   "outputs": [],
   "source": []
  },
  {
   "cell_type": "code",
   "execution_count": null,
   "id": "a101afbc-a598-413c-827a-977a0102ae5e",
   "metadata": {},
   "outputs": [],
   "source": []
  },
  {
   "cell_type": "code",
   "execution_count": null,
   "id": "630920ff-d092-4bf8-a203-18cc89ce5630",
   "metadata": {},
   "outputs": [],
   "source": []
  },
  {
   "cell_type": "code",
   "execution_count": null,
   "id": "c620374e-2b5d-4d5e-a5b1-449ad21270e6",
   "metadata": {},
   "outputs": [],
   "source": []
  },
  {
   "cell_type": "code",
   "execution_count": null,
   "id": "92537eda-033e-40c1-90c6-c96b76d6ad15",
   "metadata": {},
   "outputs": [],
   "source": []
  },
  {
   "cell_type": "markdown",
   "id": "99c381b4-a2ac-4e44-959b-2095a5098342",
   "metadata": {},
   "source": [
    "### Merging data"
   ]
  },
  {
   "cell_type": "code",
   "execution_count": null,
   "id": "2f6e7cdd-6be9-43d8-92f1-270a788752a2",
   "metadata": {},
   "outputs": [],
   "source": []
  },
  {
   "cell_type": "code",
   "execution_count": 148,
   "id": "937c2101-fd72-471b-90b2-26c25e6472b6",
   "metadata": {},
   "outputs": [],
   "source": [
    "region_id = 10"
   ]
  },
  {
   "cell_type": "code",
   "execution_count": 149,
   "id": "c5d0e81a-62ef-49e5-b3f0-41fae3f35886",
   "metadata": {},
   "outputs": [],
   "source": [
    "tessellation = gpd.read_parquet(chars_dir + f\"tessellations/chars_{region_id}.parquet\")\n",
    "buildings = gpd.read_parquet(chars_dir + f\"buildings/chars_{region_id}.parquet\")\n",
    "enclosures = gpd.read_parquet(chars_dir + f\"enclosures/chars_{region_id}.parquet\")\n",
    "streets = gpd.read_parquet(chars_dir + f\"streets/chars_{region_id}.parquet\")\n",
    "nodes = gpd.read_parquet(chars_dir + f\"nodes/chars_{region_id}.parquet\")"
   ]
  },
  {
   "cell_type": "code",
   "execution_count": 150,
   "id": "421db684-c337-4181-866b-e953d41dd1ee",
   "metadata": {},
   "outputs": [],
   "source": [
    "merged = pd.merge(\n",
    "    tessellation.drop(columns=[\"geometry\"]),\n",
    "    buildings.drop(columns=[\"nodeID\", \"geometry\"]),\n",
    "    right_index=True,\n",
    "    left_index=True,\n",
    ")\n",
    "\n",
    "merged = merged.merge(\n",
    "    enclosures.drop(columns=\"geometry\"),\n",
    "    right_on=\"eID\",\n",
    "    left_on=\"enclosure_index\",\n",
    "    how=\"left\",\n",
    ")\n",
    "\n",
    "merged = merged.merge(streets.drop(columns=\"geometry\"), on=\"nID\", how=\"left\")\n",
    "merged = merged.merge(nodes.drop(columns=\"geometry\"), on=\"nodeID\", how=\"left\")"
   ]
  },
  {
   "cell_type": "code",
   "execution_count": 151,
   "id": "bb3b57dd-1686-4845-a168-e10c5373bee7",
   "metadata": {},
   "outputs": [],
   "source": [
    "primary = merged.drop(\n",
    "    columns=[\n",
    "        \"nID\",\n",
    "        \"eID\",\n",
    "        \"nodeID\",\n",
    "        \"mm_len\",\n",
    "        \"cdsbool\",\n",
    "        \"node_start\",\n",
    "        \"node_end\",\n",
    "        \"x\",\n",
    "        \"y\",\n",
    "        \"enclosure_index\",\n",
    "        \"id\",  ## maybe keep\n",
    "    ]\n",
    ")"
   ]
  },
  {
   "cell_type": "code",
   "execution_count": 152,
   "id": "02f43370-2a28-4ffb-832f-b0b9b1822ad5",
   "metadata": {},
   "outputs": [],
   "source": [
    "primary.to_parquet(chars_dir + f\"primary_chars/chars_{region_id}.parquet\")"
   ]
  },
  {
   "cell_type": "code",
   "execution_count": null,
   "id": "d90da811-fcae-4cd9-ba7c-91351ef562b1",
   "metadata": {},
   "outputs": [],
   "source": []
  },
  {
   "cell_type": "code",
   "execution_count": null,
   "id": "6fc87d27-71ca-4557-8980-83574e76c91b",
   "metadata": {},
   "outputs": [],
   "source": []
  },
  {
   "cell_type": "code",
   "execution_count": null,
   "id": "62c9189e-bdcb-46a4-8ee7-26fbfbaf2c1f",
   "metadata": {},
   "outputs": [],
   "source": []
  },
  {
   "cell_type": "code",
   "execution_count": null,
   "id": "0b48b9ac-0a9d-4677-9e84-7de306fded23",
   "metadata": {},
   "outputs": [],
   "source": []
  },
  {
   "cell_type": "code",
   "execution_count": null,
   "id": "d32ee11f-9c92-4993-adb5-7d71b81b9fbe",
   "metadata": {},
   "outputs": [],
   "source": []
  },
  {
   "cell_type": "code",
   "execution_count": null,
   "id": "6b720389-b99f-40df-9982-57056d6e1f36",
   "metadata": {},
   "outputs": [],
   "source": []
  },
  {
   "cell_type": "code",
   "execution_count": 169,
   "id": "5b392bb6-3fe1-4e73-85e0-c1c3507d9a29",
   "metadata": {},
   "outputs": [],
   "source": [
    "## context lag"
   ]
  },
  {
   "cell_type": "code",
   "execution_count": null,
   "id": "839d5a9b-6efb-4faa-a08c-1ca002b53837",
   "metadata": {},
   "outputs": [],
   "source": []
  },
  {
   "cell_type": "code",
   "execution_count": null,
   "id": "e73cbcc3-60dd-4d54-ab93-52827f04abf2",
   "metadata": {},
   "outputs": [],
   "source": []
  },
  {
   "cell_type": "code",
   "execution_count": 170,
   "id": "e65db55a-4f8e-4b81-afcc-9b53369c2749",
   "metadata": {},
   "outputs": [
    {
     "data": {
      "text/plain": [
       "<libpysal.graph.base.Graph at 0x75c488f65730>"
      ]
     },
     "execution_count": 170,
     "metadata": {},
     "output_type": "execute_result"
    }
   ],
   "source": [
    "queen_3"
   ]
  },
  {
   "cell_type": "code",
   "execution_count": null,
   "id": "c815066c-4188-4ad9-a83e-f9855b646024",
   "metadata": {},
   "outputs": [],
   "source": [
    "import scipy as sp\n",
    "\n",
    "skewness = pd.DataFrame(index=chars)\n",
    "for c in chars:\n",
    "    skewness.loc[c, \"skewness\"] = sp.stats.skew(primary[c])\n",
    "headtail = list(skewness.loc[skewness.skewness >= 1].index)\n",
    "to_invert = skewness.loc[skewness.skewness <= -1].index"
   ]
  },
  {
   "cell_type": "code",
   "execution_count": 193,
   "id": "856cae1c-5830-483b-b57a-309ce3279ef9",
   "metadata": {},
   "outputs": [],
   "source": [
    "gdf = primary.reset_index(drop=True)\n",
    "for inv in to_invert:\n",
    "    gdf[inv + \"_r\"] = gdf[inv].max() - gdf[inv]\n",
    "inverted = [x for x in gdf.columns if \"_r\" in x]\n",
    "headtail = headtail + inverted\n",
    "natural = [x for x in chars if x not in headtail]"
   ]
  },
  {
   "cell_type": "code",
   "execution_count": null,
   "id": "a397dfa6-ecf2-4262-9f0e-c91b2ac58c8a",
   "metadata": {},
   "outputs": [],
   "source": []
  },
  {
   "cell_type": "code",
   "execution_count": null,
   "id": "29e60481-40c3-4a36-9304-9be0a02a2f4d",
   "metadata": {},
   "outputs": [],
   "source": []
  },
  {
   "cell_type": "code",
   "execution_count": null,
   "id": "f09fd773-1929-4b79-b379-c55c461980e2",
   "metadata": {},
   "outputs": [],
   "source": [
    "## compute all functions once, for each neighbour set\n",
    "## if its still slow manually loop over it"
   ]
  },
  {
   "cell_type": "code",
   "execution_count": 196,
   "id": "c7af35a8-edff-42e9-8280-fc5bf2b107cf",
   "metadata": {},
   "outputs": [
    {
     "name": "stderr",
     "output_type": "stream",
     "text": [
      "/home/krasen/miniconda3/envs/momepy/lib/python3.12/site-packages/inequality/gini.py:43: RuntimeWarning: invalid value encountered in scalar divide\n",
      "  return (r_x - n_x_sum - x_sum) / n_x_sum\n"
     ]
    },
    {
     "ename": "ValueError",
     "evalue": "Values contain negative numbers. Normalise data beforeusing momepy.Gini.",
     "output_type": "error",
     "traceback": [
      "\u001b[0;31m---------------------------------------------------------------------------\u001b[0m",
      "\u001b[0;31mValueError\u001b[0m                                Traceback (most recent call last)",
      "File \u001b[0;32m<timed exec>:4\u001b[0m\n",
      "File \u001b[0;32m~/momepy/momepy/functional/_diversity.py:598\u001b[0m, in \u001b[0;36mgini\u001b[0;34m(data, graph, rng)\u001b[0m\n\u001b[1;32m    595\u001b[0m     \u001b[38;5;28;01mraise\u001b[39;00m \u001b[38;5;167;01mImportError\u001b[39;00m(\u001b[38;5;124m\"\u001b[39m\u001b[38;5;124mThe \u001b[39m\u001b[38;5;124m'\u001b[39m\u001b[38;5;124minequality\u001b[39m\u001b[38;5;124m'\u001b[39m\u001b[38;5;124m package is required.\u001b[39m\u001b[38;5;124m\"\u001b[39m) \u001b[38;5;28;01mfrom\u001b[39;00m \u001b[38;5;21;01merr\u001b[39;00m\n\u001b[1;32m    597\u001b[0m \u001b[38;5;28;01mif\u001b[39;00m data\u001b[38;5;241m.\u001b[39mmin() \u001b[38;5;241m<\u001b[39m \u001b[38;5;241m0\u001b[39m:\n\u001b[0;32m--> 598\u001b[0m     \u001b[38;5;28;01mraise\u001b[39;00m \u001b[38;5;167;01mValueError\u001b[39;00m(\n\u001b[1;32m    599\u001b[0m         \u001b[38;5;124m\"\u001b[39m\u001b[38;5;124mValues contain negative numbers. Normalise data before\u001b[39m\u001b[38;5;124m\"\u001b[39m\n\u001b[1;32m    600\u001b[0m         \u001b[38;5;124m\"\u001b[39m\u001b[38;5;124musing momepy.Gini.\u001b[39m\u001b[38;5;124m\"\u001b[39m\n\u001b[1;32m    601\u001b[0m     )\n\u001b[1;32m    602\u001b[0m \u001b[38;5;28;01mif\u001b[39;00m rng:\n\u001b[1;32m    603\u001b[0m     \u001b[38;5;28;01mfrom\u001b[39;00m \u001b[38;5;21;01mmomepy\u001b[39;00m \u001b[38;5;28;01mimport\u001b[39;00m limit_range\n",
      "\u001b[0;31mValueError\u001b[0m: Values contain negative numbers. Normalise data beforeusing momepy.Gini."
     ]
    }
   ],
   "source": [
    "%%time\n",
    "\n",
    "res = {}\n",
    "\n",
    "for c in primary.columns:\n",
    "    gini = mm.gini(primary[c], queen_3)\n",
    "    theil = mm.theil(primary[c], queen_3)\n",
    "    vals_range = mm.values_range(primary[c], queen_3)\n",
    "\n",
    "    res[c + \"_gini\"] = gini\n",
    "    res[c + \"_theil\"] = theil\n",
    "    res[c + \"_range\"] = vals_range"
   ]
  },
  {
   "cell_type": "code",
   "execution_count": null,
   "id": "5e60d706-3916-4fcd-8c6f-fc8b4288e617",
   "metadata": {},
   "outputs": [],
   "source": []
  },
  {
   "cell_type": "code",
   "execution_count": null,
   "id": "e653bcac-f0f2-47c4-a236-990c60b1060a",
   "metadata": {},
   "outputs": [],
   "source": []
  },
  {
   "cell_type": "code",
   "execution_count": null,
   "id": "d79f88b9-28b1-42a4-ae82-eedeaa30f724",
   "metadata": {},
   "outputs": [],
   "source": []
  },
  {
   "cell_type": "code",
   "execution_count": null,
   "id": "9fa98229-3e9b-4a87-b3ec-16656119b7d9",
   "metadata": {},
   "outputs": [],
   "source": []
  },
  {
   "cell_type": "markdown",
   "id": "0f8d41a2-9796-46a8-8c19-c571930d7d22",
   "metadata": {
    "jp-MarkdownHeadingCollapsed": true
   },
   "source": [
    "### Tessellation fixing"
   ]
  },
  {
   "cell_type": "code",
   "execution_count": 83,
   "id": "ca0d6589-4f9d-47e7-8bca-ca48f9acbae8",
   "metadata": {},
   "outputs": [],
   "source": [
    "region_id = 10\n",
    "n_workers = -1"
   ]
  },
  {
   "cell_type": "code",
   "execution_count": 76,
   "id": "02ae9cce-ebe3-450d-97f4-d9ebbd1a99c3",
   "metadata": {},
   "outputs": [],
   "source": [
    "buildings = gpd.read_parquet(data_dir + f\"/buildings/buildings_{region_id}.parquet\")\n",
    "streets = gpd.read_parquet(data_dir + f\"/streets/streets_{region_id}.parquet\")\n",
    "enclosures = gpd.read_parquet(data_dir + f\"/enclosures/enclosure_{region_id}.parquet\")"
   ]
  },
  {
   "cell_type": "code",
   "execution_count": null,
   "id": "2f4484c3-0e0d-4dfb-a69c-f94d1863d15c",
   "metadata": {},
   "outputs": [],
   "source": []
  },
  {
   "cell_type": "code",
   "execution_count": null,
   "id": "29edd792-27aa-44cc-a2f7-f33e80d1fac5",
   "metadata": {},
   "outputs": [],
   "source": []
  },
  {
   "cell_type": "code",
   "execution_count": 7,
   "id": "17fef8ce-3503-4028-b1b2-163529444989",
   "metadata": {},
   "outputs": [
    {
     "name": "stdout",
     "output_type": "stream",
     "text": [
      "CPU times: user 31.7 s, sys: 1.28 s, total: 32.9 s\n",
      "Wall time: 52.8 s\n"
     ]
    }
   ],
   "source": [
    "%%time\n",
    "tesselations = mm.enclosed_tessellation(buildings, enclosures.geometry, n_jobs=-1)"
   ]
  },
  {
   "cell_type": "code",
   "execution_count": 8,
   "id": "9c9d38a2-0a76-4cf0-8002-3871c8851b54",
   "metadata": {},
   "outputs": [
    {
     "data": {
      "text/plain": [
       "(4, 2)"
      ]
     },
     "execution_count": 8,
     "metadata": {},
     "output_type": "execute_result"
    }
   ],
   "source": [
    "problem_buildings = buildings[\n",
    "    ~np.isin(buildings.index.values, tesselations.index.values)\n",
    "]\n",
    "problem_buildings.shape"
   ]
  },
  {
   "cell_type": "code",
   "execution_count": 59,
   "id": "c7fab57a-2e65-4d91-94b1-58e6a43d6df1",
   "metadata": {},
   "outputs": [
    {
     "name": "stdout",
     "output_type": "stream",
     "text": [
      "Collapsed features  : 0\n",
      "Split features      : 2\n",
      "Overlapping features: 0\n"
     ]
    },
    {
     "data": {
      "text/html": [
       "<div>\n",
       "<style scoped>\n",
       "    .dataframe tbody tr th:only-of-type {\n",
       "        vertical-align: middle;\n",
       "    }\n",
       "\n",
       "    .dataframe tbody tr th {\n",
       "        vertical-align: top;\n",
       "    }\n",
       "\n",
       "    .dataframe thead th {\n",
       "        text-align: right;\n",
       "    }\n",
       "</style>\n",
       "<table border=\"1\" class=\"dataframe\">\n",
       "  <thead>\n",
       "    <tr style=\"text-align: right;\">\n",
       "      <th></th>\n",
       "      <th>id</th>\n",
       "      <th>geometry</th>\n",
       "    </tr>\n",
       "  </thead>\n",
       "  <tbody>\n",
       "    <tr>\n",
       "      <th>24618</th>\n",
       "      <td>v0.1-DEU.10.47.1.1_1-71112</td>\n",
       "      <td>POLYGON ((4052371.706 3075630.179, 4052371.707...</td>\n",
       "    </tr>\n",
       "    <tr>\n",
       "      <th>45001</th>\n",
       "      <td>v0.1-DEU.10.47.1.1_1-6152</td>\n",
       "      <td>POLYGON ((4044792.222 3079260.545, 4044792.4 3...</td>\n",
       "    </tr>\n",
       "  </tbody>\n",
       "</table>\n",
       "</div>"
      ],
      "text/plain": [
       "                               id  \\\n",
       "24618  v0.1-DEU.10.47.1.1_1-71112   \n",
       "45001   v0.1-DEU.10.47.1.1_1-6152   \n",
       "\n",
       "                                                geometry  \n",
       "24618  POLYGON ((4052371.706 3075630.179, 4052371.707...  \n",
       "45001  POLYGON ((4044792.222 3079260.545, 4044792.4 3...  "
      ]
     },
     "execution_count": 59,
     "metadata": {},
     "output_type": "execute_result"
    }
   ],
   "source": [
    "problems = mm.CheckTessellationInput(problem_buildings)\n",
    "problems.split"
   ]
  },
  {
   "cell_type": "code",
   "execution_count": 21,
   "id": "2faf8b89-df18-4b32-8016-2a5d557a23e8",
   "metadata": {},
   "outputs": [
    {
     "data": {
      "text/html": [
       "<div>\n",
       "<style scoped>\n",
       "    .dataframe tbody tr th:only-of-type {\n",
       "        vertical-align: middle;\n",
       "    }\n",
       "\n",
       "    .dataframe tbody tr th {\n",
       "        vertical-align: top;\n",
       "    }\n",
       "\n",
       "    .dataframe thead th {\n",
       "        text-align: right;\n",
       "    }\n",
       "</style>\n",
       "<table border=\"1\" class=\"dataframe\">\n",
       "  <thead>\n",
       "    <tr style=\"text-align: right;\">\n",
       "      <th></th>\n",
       "      <th>id</th>\n",
       "      <th>geometry</th>\n",
       "    </tr>\n",
       "  </thead>\n",
       "  <tbody>\n",
       "    <tr>\n",
       "      <th>24618</th>\n",
       "      <td>v0.1-DEU.10.47.1.1_1-71112</td>\n",
       "      <td>POLYGON ((4052371.706 3075630.179, 4052371.707...</td>\n",
       "    </tr>\n",
       "    <tr>\n",
       "      <th>24624</th>\n",
       "      <td>v0.1-DEU.10.47.1.1_1-71412</td>\n",
       "      <td>POLYGON ((4052382.985 3075622.32, 4052382.986 ...</td>\n",
       "    </tr>\n",
       "    <tr>\n",
       "      <th>45001</th>\n",
       "      <td>v0.1-DEU.10.47.1.1_1-6152</td>\n",
       "      <td>POLYGON ((4044792.222 3079260.545, 4044792.4 3...</td>\n",
       "    </tr>\n",
       "    <tr>\n",
       "      <th>105660</th>\n",
       "      <td>v0.1-DEU.10.9.2.1_1-1292</td>\n",
       "      <td>POLYGON ((4073046.554 3082946.121, 4073046.554...</td>\n",
       "    </tr>\n",
       "  </tbody>\n",
       "</table>\n",
       "</div>"
      ],
      "text/plain": [
       "                                id  \\\n",
       "24618   v0.1-DEU.10.47.1.1_1-71112   \n",
       "24624   v0.1-DEU.10.47.1.1_1-71412   \n",
       "45001    v0.1-DEU.10.47.1.1_1-6152   \n",
       "105660    v0.1-DEU.10.9.2.1_1-1292   \n",
       "\n",
       "                                                 geometry  \n",
       "24618   POLYGON ((4052371.706 3075630.179, 4052371.707...  \n",
       "24624   POLYGON ((4052382.985 3075622.32, 4052382.986 ...  \n",
       "45001   POLYGON ((4044792.222 3079260.545, 4044792.4 3...  \n",
       "105660  POLYGON ((4073046.554 3082946.121, 4073046.554...  "
      ]
     },
     "execution_count": 21,
     "metadata": {},
     "output_type": "execute_result"
    }
   ],
   "source": [
    "problem_buildings"
   ]
  },
  {
   "cell_type": "code",
   "execution_count": null,
   "id": "e20025f6-8b4d-4e7e-9b11-750c7084fbf1",
   "metadata": {},
   "outputs": [],
   "source": []
  },
  {
   "cell_type": "code",
   "execution_count": 65,
   "id": "a7819cc1-745a-4b07-b690-c7c30c24b4d8",
   "metadata": {},
   "outputs": [
    {
     "data": {
      "text/plain": [
       "array([1079])"
      ]
     },
     "execution_count": 65,
     "metadata": {},
     "output_type": "execute_result"
    }
   ],
   "source": [
    "inp[res == 105660]"
   ]
  },
  {
   "cell_type": "code",
   "execution_count": null,
   "id": "b8bd082a-f565-4568-9892-01a8274d7003",
   "metadata": {},
   "outputs": [],
   "source": []
  },
  {
   "cell_type": "code",
   "execution_count": 12,
   "id": "c83cb859-7768-4a06-8f0a-38c0f9547127",
   "metadata": {
    "scrolled": true
   },
   "outputs": [
    {
     "name": "stdout",
     "output_type": "stream",
     "text": [
      "CPU times: user 1.21 s, sys: 0 ns, total: 1.21 s\n",
      "Wall time: 1.21 s\n"
     ]
    }
   ],
   "source": [
    "%%time\n",
    "inp, res = buildings.geometry.sindex.query(enclosures.geometry, predicate=\"intersects\")"
   ]
  },
  {
   "cell_type": "code",
   "execution_count": 17,
   "id": "ba2f3740-6f06-4732-a7ed-c4cfcf2bc433",
   "metadata": {},
   "outputs": [],
   "source": [
    "# find out which enclosures contain one and multiple buildings\n",
    "unique, counts = np.unique(inp, return_counts=True)\n",
    "splits = unique[counts > 1]\n",
    "single = unique[counts == 1]\n",
    "altered = unique[counts > 0]"
   ]
  },
  {
   "cell_type": "code",
   "execution_count": 66,
   "id": "adba96d8-9bae-46f0-8aa8-b56b0276e5d8",
   "metadata": {},
   "outputs": [
    {
     "data": {
      "text/plain": [
       "(array([452]),)"
      ]
     },
     "execution_count": 66,
     "metadata": {},
     "output_type": "execute_result"
    }
   ],
   "source": [
    "np.where(splits == 1079)"
   ]
  },
  {
   "cell_type": "code",
   "execution_count": 18,
   "id": "11f57fea-f93d-41e7-99ff-7cf0ea26b6f4",
   "metadata": {},
   "outputs": [],
   "source": [
    "# prepare input for parallel processing\n",
    "tuples = [\n",
    "    (\n",
    "        enclosures.index[i],  # enclosure index\n",
    "        enclosures.geometry.iloc[i],  # enclosure geometry\n",
    "        buildings.iloc[res[inp == i]],  # buildings within the enclosure\n",
    "    )\n",
    "    for i in splits\n",
    "]"
   ]
  },
  {
   "cell_type": "code",
   "execution_count": 67,
   "id": "e6e9b02c-911c-4ca2-af60-ae7ce8886836",
   "metadata": {},
   "outputs": [
    {
     "data": {
      "text/plain": [
       "(1079,\n",
       " <POLYGON ((4072934.523 3082912.177, 4072936.229 3082925.284, 4072936.623 308...>,\n",
       "                               id  \\\n",
       " 105657  v0.1-DEU.10.9.2.1_1-1432   \n",
       " 105659  v0.1-DEU.10.9.2.1_1-1577   \n",
       " 105661  v0.1-DEU.10.9.2.1_1-1716   \n",
       " 105660  v0.1-DEU.10.9.2.1_1-1292   \n",
       " 105663  v0.1-DEU.10.9.2.1_1-1054   \n",
       " 105665   v0.1-DEU.10.9.2.1_1-879   \n",
       " 105664  v0.1-DEU.10.9.2.1_1-1809   \n",
       " 105667  v0.1-DEU.10.9.2.1_1-1471   \n",
       " 105666  v0.1-DEU.10.9.2.1_1-1460   \n",
       " 105670  v0.1-DEU.10.9.2.1_1-1256   \n",
       " 105705  v0.1-DEU.10.9.2.1_1-1280   \n",
       " 88664   v0.1-DEU.10.9.2.1_1-2191   \n",
       " 105722  v0.1-DEU.10.9.2.1_1-2226   \n",
       " 88662   v0.1-DEU.10.9.2.1_1-1626   \n",
       " 105721  v0.1-DEU.10.9.2.1_1-2158   \n",
       " 88663    v0.1-DEU.10.9.2.1_1-892   \n",
       " \n",
       "                                                  geometry  \n",
       " 105657  POLYGON ((4072992.406 3082940.332, 4072992.407...  \n",
       " 105659  POLYGON ((4072949.456 3082929.05, 4072949.455 ...  \n",
       " 105661  POLYGON ((4073055.989 3082956.858, 4073055.989...  \n",
       " 105660  POLYGON ((4073046.554 3082946.121, 4073046.554...  \n",
       " 105663  POLYGON ((4072986.016 3082962.354, 4072986.016...  \n",
       " 105665  POLYGON ((4072943.25 3082972.495, 4072943.25 3...  \n",
       " 105664  POLYGON ((4073001.785 3082973.655, 4073001.786...  \n",
       " 105667  POLYGON ((4073021.842 3083016.659, 4073021.843...  \n",
       " 105666  POLYGON ((4073084.168 3083018, 4073084.169 308...  \n",
       " 105670  POLYGON ((4072922.28 3083121.02, 4072922.708 3...  \n",
       " 105705  POLYGON ((4072958.429 3083180.303, 4072958.43 ...  \n",
       " 88664   POLYGON ((4072868.637 3083305.442, 4072868.636...  \n",
       " 105722  POLYGON ((4072928.542 3083409.645, 4072928.541...  \n",
       " 88662   POLYGON ((4072813.65 3083388.266, 4072813.649 ...  \n",
       " 105721  POLYGON ((4072895.519 3083476.001, 4072896.593...  \n",
       " 88663   POLYGON ((4072823.502 3083299.394, 4072823.502...  )"
      ]
     },
     "execution_count": 67,
     "metadata": {},
     "output_type": "execute_result"
    }
   ],
   "source": [
    "tuples[452]"
   ]
  },
  {
   "cell_type": "code",
   "execution_count": 68,
   "id": "e886ee25-8dcf-4e6b-ae44-e714cdeb8afe",
   "metadata": {},
   "outputs": [],
   "source": [
    "threshold = 0.05\n",
    "shrink = 0.4\n",
    "segment = 0.5\n",
    "enclosure_id = \"eID\""
   ]
  },
  {
   "cell_type": "code",
   "execution_count": 69,
   "id": "6f311232-6e37-4aee-8a87-b095131eb1dc",
   "metadata": {},
   "outputs": [],
   "source": [
    "from libpysal.cg import voronoi_frames\n",
    "\n",
    "\n",
    "def _tess(ix, poly, blg, threshold, shrink, segment, enclosure_id):\n",
    "    \"\"\"Generate tessellation for a single enclosure. Helper for enclosed_tessellation\"\"\"\n",
    "    # check if threshold is set and filter buildings based on the threshold\n",
    "    if threshold:\n",
    "        blg = blg[\n",
    "            shapely.area(shapely.intersection(blg.geometry.array, poly))\n",
    "            > (shapely.area(blg.geometry.array) * threshold)\n",
    "        ]\n",
    "    print(blg.shape)\n",
    "    if len(blg) >= 1:\n",
    "        tess = voronoi_frames(\n",
    "            blg,\n",
    "            clip=poly,\n",
    "            shrink=shrink,\n",
    "            segment=segment,\n",
    "            return_input=False,\n",
    "            as_gdf=True,\n",
    "        )\n",
    "        tess[enclosure_id] = ix\n",
    "        return tess\n",
    "\n",
    "    return gpd.GeoDataFrame(\n",
    "        {enclosure_id: ix},\n",
    "        geometry=[poly],\n",
    "        index=[-1],\n",
    "        crs=blg.crs,\n",
    "    )"
   ]
  },
  {
   "cell_type": "code",
   "execution_count": null,
   "id": "fdffe7e2-9219-47b5-a691-1f073ed7e91b",
   "metadata": {},
   "outputs": [],
   "source": []
  },
  {
   "cell_type": "code",
   "execution_count": null,
   "id": "72c56634-7520-4958-a318-4446f205adec",
   "metadata": {},
   "outputs": [],
   "source": [
    "105660"
   ]
  },
  {
   "cell_type": "code",
   "execution_count": 70,
   "id": "73fa98f3-5b28-45e5-9855-3a73051688fd",
   "metadata": {},
   "outputs": [
    {
     "name": "stdout",
     "output_type": "stream",
     "text": [
      "(15, 2)\n"
     ]
    },
    {
     "data": {
      "text/plain": [
       "(14, 2)"
      ]
     },
     "execution_count": 70,
     "metadata": {},
     "output_type": "execute_result"
    }
   ],
   "source": [
    "r = _tess(*tuples[452], threshold, shrink, segment, enclosure_id)\n",
    "r.shape"
   ]
  },
  {
   "cell_type": "code",
   "execution_count": 78,
   "id": "994e1cf8-26e3-4611-b061-14bde4b8cab2",
   "metadata": {},
   "outputs": [],
   "source": [
    "# # m = r.explore()\n",
    "# m = tuples[452][2].loc[[105660]].reset_index().explore( color='r')\n",
    "# m"
   ]
  },
  {
   "cell_type": "code",
   "execution_count": null,
   "id": "0c95f046-eee7-4c43-846e-1c92a51e4c05",
   "metadata": {},
   "outputs": [],
   "source": []
  },
  {
   "cell_type": "code",
   "execution_count": null,
   "id": "60a96b91-512d-4941-a027-6f487323166c",
   "metadata": {},
   "outputs": [],
   "source": []
  },
  {
   "cell_type": "code",
   "execution_count": null,
   "id": "61755de2-eaa1-4496-9318-f68d5e54a5fb",
   "metadata": {},
   "outputs": [],
   "source": []
  },
  {
   "cell_type": "code",
   "execution_count": 5,
   "id": "39d1aa5f-726b-45a0-bf3f-5d7e64e0a9df",
   "metadata": {},
   "outputs": [
    {
     "name": "stdout",
     "output_type": "stream",
     "text": [
      "CPU times: user 17.5 s, sys: 795 ms, total: 18.2 s\n",
      "Wall time: 18.2 s\n"
     ]
    }
   ],
   "source": [
    "%%time\n",
    "gabriel = Graph.build_triangulation(\n",
    "    buildings.representative_point(), \"gabriel\", kernel=\"identity\"\n",
    ")\n",
    "max_dist = gabriel.aggregate(\"max\")\n",
    "buffer = np.clip(max_dist / 2 + max_dist * 0.1, min_buffer, max_buffer).values"
   ]
  },
  {
   "cell_type": "code",
   "execution_count": 6,
   "id": "44a3039a-b7d1-4871-b573-2e6da127147e",
   "metadata": {},
   "outputs": [
    {
     "name": "stdout",
     "output_type": "stream",
     "text": [
      "CPU times: user 1min 33s, sys: 289 ms, total: 1min 33s\n",
      "Wall time: 1min 33s\n"
     ]
    }
   ],
   "source": [
    "%%time\n",
    "buffered_buildings = buildings.buffer(buffer, resolution=2).union_all()"
   ]
  },
  {
   "cell_type": "code",
   "execution_count": 7,
   "id": "d75dcdbc-be7b-45d4-8673-38ad6c09ebd9",
   "metadata": {
    "scrolled": true
   },
   "outputs": [
    {
     "name": "stdout",
     "output_type": "stream",
     "text": [
      "CPU times: user 4.58 s, sys: 19.8 ms, total: 4.6 s\n",
      "Wall time: 4.59 s\n"
     ]
    }
   ],
   "source": [
    "%%time\n",
    "enclosures = mm.enclosures(streets, limit=buffered_buildings)"
   ]
  },
  {
   "cell_type": "code",
   "execution_count": 8,
   "id": "bc1099c6-4685-4c5f-9a23-c87f5b9e2caa",
   "metadata": {},
   "outputs": [
    {
     "name": "stdout",
     "output_type": "stream",
     "text": [
      "CPU times: user 1min 15s, sys: 3.07 s, total: 1min 18s\n",
      "Wall time: 2min 15s\n"
     ]
    }
   ],
   "source": [
    "%%time\n",
    "tesselations = mm.enclosed_tessellation(\n",
    "    buildings.geometry, enclosures.geometry, n_jobs=-1\n",
    ")"
   ]
  },
  {
   "cell_type": "code",
   "execution_count": null,
   "id": "cd197c43-6034-4af5-bb8f-1447edeb6899",
   "metadata": {},
   "outputs": [],
   "source": []
  },
  {
   "cell_type": "code",
   "execution_count": null,
   "id": "1af88eba-2534-48fc-a369-342fd6a1f4c1",
   "metadata": {},
   "outputs": [],
   "source": []
  },
  {
   "cell_type": "code",
   "execution_count": 9,
   "id": "351cc603-76ed-4d3f-bf0f-a5a07e8a9cd4",
   "metadata": {},
   "outputs": [
    {
     "data": {
      "text/plain": [
       "((542350, 2), 543453)"
      ]
     },
     "execution_count": 9,
     "metadata": {},
     "output_type": "execute_result"
    }
   ],
   "source": [
    "buildings.shape, (tesselations.index.values >= 0).sum()"
   ]
  },
  {
   "cell_type": "code",
   "execution_count": 10,
   "id": "e47175d8-570c-409a-aba0-7ed5529af9fe",
   "metadata": {},
   "outputs": [
    {
     "data": {
      "text/plain": [
       "(0, 2)"
      ]
     },
     "execution_count": 10,
     "metadata": {},
     "output_type": "execute_result"
    }
   ],
   "source": [
    "problem_buildings = buildings[\n",
    "    ~np.isin(buildings.index.values, tesselations.index.values)\n",
    "]\n",
    "problem_buildings.shape"
   ]
  },
  {
   "cell_type": "code",
   "execution_count": null,
   "id": "7476dc1b-e290-4bd9-b93f-c1c677232816",
   "metadata": {},
   "outputs": [],
   "source": []
  },
  {
   "cell_type": "code",
   "execution_count": 55,
   "id": "994a3d31-918a-4033-9691-623f2e1ceec0",
   "metadata": {},
   "outputs": [],
   "source": [
    "t2 = tesselations.dissolve(by=tesselations.index.values)"
   ]
  },
  {
   "cell_type": "code",
   "execution_count": 62,
   "id": "2fe6a0c8-e274-428e-92e4-918a51402311",
   "metadata": {},
   "outputs": [],
   "source": [
    "t2 = t2.explode()"
   ]
  },
  {
   "cell_type": "code",
   "execution_count": 70,
   "id": "8221fdcb-b624-4539-8947-5c09393539bd",
   "metadata": {},
   "outputs": [],
   "source": [
    "t2 = t2.sort_index()"
   ]
  },
  {
   "cell_type": "code",
   "execution_count": 71,
   "id": "1c7bf798-1ee4-47df-b3cd-076648c7813c",
   "metadata": {},
   "outputs": [],
   "source": [
    "dup_indxs = t2.index.duplicated(keep=False)\n",
    "duplicates = t2[dup_indxs].sort_index()\n",
    "dup_building_indxs = duplicates.index.unique()"
   ]
  },
  {
   "cell_type": "code",
   "execution_count": 102,
   "id": "3953cf96-48c7-4a38-8ff8-c369cb301257",
   "metadata": {},
   "outputs": [],
   "source": [
    "intersection_area = duplicates.intersection(\n",
    "    buildings.loc[dup_building_indxs], align=True\n",
    ").area"
   ]
  },
  {
   "cell_type": "code",
   "execution_count": 111,
   "id": "6c170ec8-d1a3-4348-82bd-b154286b882f",
   "metadata": {},
   "outputs": [],
   "source": [
    "## sort by buildingid and area\n",
    "intersection_area = (\n",
    "    intersection_area.reset_index().sort_values([\"index\", 0]).set_index(\"index\")\n",
    ")"
   ]
  },
  {
   "cell_type": "code",
   "execution_count": 141,
   "id": "a5f52436-d8c7-4bb5-989b-c70f2565800b",
   "metadata": {},
   "outputs": [],
   "source": [
    "to_keep = intersection_area.index.duplicated(keep=\"first\")"
   ]
  },
  {
   "cell_type": "code",
   "execution_count": 138,
   "id": "98891aef-e013-45eb-9b57-5c8767512341",
   "metadata": {},
   "outputs": [],
   "source": [
    "to_keep = np.where(dup_indxs)[0][to_keep]"
   ]
  },
  {
   "cell_type": "code",
   "execution_count": 140,
   "id": "574d85f2-40c5-40a6-bf59-e1aeb54c702b",
   "metadata": {},
   "outputs": [],
   "source": [
    "dup_indxs[to_keep] = False"
   ]
  },
  {
   "cell_type": "code",
   "execution_count": null,
   "id": "e28f7c96-9a07-46ab-8e65-c0db734a5ae0",
   "metadata": {},
   "outputs": [],
   "source": []
  },
  {
   "cell_type": "code",
   "execution_count": 144,
   "id": "3f8314ea-82c9-4a41-8781-0d77a51fe336",
   "metadata": {},
   "outputs": [],
   "source": [
    "# m = duplicates[to_keep].explore()\n",
    "# m = buildings.loc[dup_building_indxs].explore(m=m, color='r')\n",
    "# m"
   ]
  },
  {
   "cell_type": "code",
   "execution_count": null,
   "id": "5634a65f-2e49-4161-ba72-39e6282999cf",
   "metadata": {},
   "outputs": [],
   "source": []
  },
  {
   "cell_type": "code",
   "execution_count": null,
   "id": "6cc96b88-bb48-4176-ab28-e5bcb16ae063",
   "metadata": {},
   "outputs": [],
   "source": []
  },
  {
   "cell_type": "code",
   "execution_count": null,
   "id": "457e804c-82b4-44b2-8a9c-aca33fb69cc3",
   "metadata": {},
   "outputs": [],
   "source": []
  },
  {
   "cell_type": "code",
   "execution_count": null,
   "id": "14ffc4eb-4491-40b0-94fc-27db9ff18a3a",
   "metadata": {},
   "outputs": [],
   "source": [
    "# m = buildings.loc[[715, 717]].explore()\n",
    "# # m = tesselations.loc[[717]].explore(m=m, color='r')\n",
    "# m = enclosures.iloc[[36344]].explore(m=m, color='red')\n",
    "# m = enclosures.iloc[[29810]].explore(m=m, color='green')\n",
    "# m"
   ]
  },
  {
   "cell_type": "code",
   "execution_count": null,
   "id": "e57fcfa4-21bf-4dba-8354-739e3858e1b6",
   "metadata": {},
   "outputs": [],
   "source": [
    "intersection_area[to_keep]"
   ]
  },
  {
   "cell_type": "code",
   "execution_count": null,
   "id": "e0f7fb52-f230-477f-8e60-a78d979dabea",
   "metadata": {},
   "outputs": [],
   "source": []
  },
  {
   "cell_type": "code",
   "execution_count": null,
   "id": "49558bd1-f8d0-49bc-85fe-a8e0d947515a",
   "metadata": {},
   "outputs": [],
   "source": []
  },
  {
   "cell_type": "code",
   "execution_count": null,
   "id": "747d6350-1424-4c60-8968-e692f9f91453",
   "metadata": {},
   "outputs": [],
   "source": []
  },
  {
   "cell_type": "code",
   "execution_count": 59,
   "id": "fcc34ccc-b218-4d62-b644-1bbd4a9e665a",
   "metadata": {},
   "outputs": [],
   "source": [
    "# m = duplicates.loc[[714]].explore()\n",
    "# m = buildings.loc[[714]].explore(m=m, color='r')\n",
    "# m"
   ]
  },
  {
   "cell_type": "code",
   "execution_count": null,
   "id": "59920b83-9d10-4bbf-aeb0-fedd296fbb9c",
   "metadata": {},
   "outputs": [],
   "source": []
  },
  {
   "cell_type": "code",
   "execution_count": null,
   "id": "731e819d-0f4f-4e7c-9131-dfeb7d63aedf",
   "metadata": {},
   "outputs": [],
   "source": []
  },
  {
   "cell_type": "code",
   "execution_count": 31,
   "id": "0c61038d-f31a-441e-b814-bd38baae037c",
   "metadata": {},
   "outputs": [
    {
     "data": {
      "text/plain": [
       "714       11754.783100\n",
       "714       11754.783100\n",
       "714       11754.783100\n",
       "797          92.486634\n",
       "797          92.486634\n",
       "              ...     \n",
       "540876      469.636678\n",
       "541193     3256.125494\n",
       "541193     3256.125494\n",
       "542300      501.820042\n",
       "542300      501.820042\n",
       "Length: 1890, dtype: float64"
      ]
     },
     "execution_count": 31,
     "metadata": {},
     "output_type": "execute_result"
    }
   ],
   "source": [
    "duplicates[\"geometry\"]"
   ]
  },
  {
   "cell_type": "code",
   "execution_count": null,
   "id": "0e5f052e-9909-448f-ac80-fbbde0e3bbba",
   "metadata": {},
   "outputs": [],
   "source": []
  },
  {
   "cell_type": "code",
   "execution_count": null,
   "id": "4a592c4d-63a4-4704-b4d7-94f3d825b1e8",
   "metadata": {},
   "outputs": [],
   "source": []
  },
  {
   "cell_type": "code",
   "execution_count": 11,
   "id": "0d059314-d93d-4a5b-a8a9-75af44ea26ac",
   "metadata": {},
   "outputs": [],
   "source": [
    "t2 = tesselations[~tesselations.index.duplicated()].sort_index()"
   ]
  },
  {
   "cell_type": "code",
   "execution_count": 68,
   "id": "d030c663-2267-445d-b1fe-6d0f8b035f59",
   "metadata": {},
   "outputs": [],
   "source": [
    "# buildings_graph.adjacency.loc[problem_buildings.index]"
   ]
  },
  {
   "cell_type": "code",
   "execution_count": 12,
   "id": "038a6152-9bd9-4e5b-be30-7efce7aee597",
   "metadata": {},
   "outputs": [
    {
     "name": "stdout",
     "output_type": "stream",
     "text": [
      "CPU times: user 7min 7s, sys: 113 ms, total: 7min 8s\n",
      "Wall time: 7min 8s\n"
     ]
    }
   ],
   "source": [
    "%%time\n",
    "queen_1 = Graph.build_contiguity(t2, rook=False, strict=True).assign_self_weight()"
   ]
  },
  {
   "cell_type": "code",
   "execution_count": null,
   "id": "c78364a0-fc1f-49de-967e-1af69579f784",
   "metadata": {},
   "outputs": [],
   "source": [
    "%%time\n",
    "queen_3 = graph.higher_order(k=3, lower=True).assign_self_weight()"
   ]
  },
  {
   "cell_type": "code",
   "execution_count": null,
   "id": "334691f3-a543-4de8-9593-5f9b83dc3722",
   "metadata": {},
   "outputs": [],
   "source": []
  },
  {
   "cell_type": "code",
   "execution_count": 6,
   "id": "38d96e3d-2179-407d-aa07-51808adbe31a",
   "metadata": {},
   "outputs": [],
   "source": [
    "# bgraph = Graph.from_adjacency(queen_1.adjacency[queen_1.adjacency.index.get_level_values(0) >= 0 ].to_frame().reset_index())\n",
    "# bgraph3 = Graph.from_adjacency(queen_3.adjacency[queen_3.adjacency.index.get_level_values(0) >= 0 ].to_frame().reset_index())"
   ]
  },
  {
   "cell_type": "code",
   "execution_count": null,
   "id": "39392256-92da-424f-824d-436dd8c1bbda",
   "metadata": {},
   "outputs": [],
   "source": []
  },
  {
   "cell_type": "code",
   "execution_count": null,
   "id": "9fc6443b-475b-495f-8385-523dcb734d4d",
   "metadata": {},
   "outputs": [],
   "source": []
  },
  {
   "cell_type": "code",
   "execution_count": 7,
   "id": "fb80d1c3-0768-493c-a52a-bf763a9b52dd",
   "metadata": {},
   "outputs": [],
   "source": []
  },
  {
   "cell_type": "code",
   "execution_count": null,
   "id": "9c04275e-7a2a-45b6-ba31-825d26503c82",
   "metadata": {},
   "outputs": [],
   "source": []
  },
  {
   "cell_type": "code",
   "execution_count": null,
   "id": "93a64375-2b29-43c9-8808-962a483bb832",
   "metadata": {
    "scrolled": true
   },
   "outputs": [],
   "source": []
  },
  {
   "cell_type": "code",
   "execution_count": null,
   "id": "f4f66804-374d-43ae-ae4f-2e4b33b9c1a3",
   "metadata": {},
   "outputs": [],
   "source": []
  },
  {
   "cell_type": "code",
   "execution_count": null,
   "id": "d1c41921-ac68-44fe-ad14-76befd28ce95",
   "metadata": {},
   "outputs": [],
   "source": []
  },
  {
   "cell_type": "code",
   "execution_count": null,
   "id": "4d5b09c0-7113-4a03-ac34-9f982389973f",
   "metadata": {},
   "outputs": [],
   "source": []
  },
  {
   "cell_type": "code",
   "execution_count": null,
   "id": "932d4718-977b-40b6-b2ff-d8e04bba3d4f",
   "metadata": {},
   "outputs": [],
   "source": []
  },
  {
   "cell_type": "code",
   "execution_count": null,
   "id": "58d1843a-6529-402e-93ee-86681899cbf5",
   "metadata": {},
   "outputs": [],
   "source": []
  },
  {
   "cell_type": "code",
   "execution_count": null,
   "id": "d54b849a-de9b-4063-9057-eac5af6a1f25",
   "metadata": {},
   "outputs": [],
   "source": []
  },
  {
   "cell_type": "code",
   "execution_count": null,
   "id": "3a54fa54-0073-4212-bf99-a15f028a0d40",
   "metadata": {},
   "outputs": [],
   "source": []
  },
  {
   "cell_type": "code",
   "execution_count": null,
   "id": "76249e24-3720-4f14-b9fc-b1186ad8819c",
   "metadata": {},
   "outputs": [],
   "source": []
  },
  {
   "cell_type": "code",
   "execution_count": null,
   "id": "283b987a-8d1d-4cd9-be2b-7651b86a5484",
   "metadata": {},
   "outputs": [],
   "source": []
  },
  {
   "cell_type": "code",
   "execution_count": null,
   "id": "e0395958-e14d-45f4-a526-27c9e3835afa",
   "metadata": {},
   "outputs": [],
   "source": []
  },
  {
   "cell_type": "code",
   "execution_count": null,
   "id": "55a71100-397f-4874-afdd-c540b90be6d6",
   "metadata": {},
   "outputs": [],
   "source": []
  }
 ],
 "metadata": {
  "kernelspec": {
   "display_name": "Python 3 (ipykernel)",
   "language": "python",
   "name": "python3"
  },
  "language_info": {
   "codemirror_mode": {
    "name": "ipython",
    "version": 3
   },
   "file_extension": ".py",
   "mimetype": "text/x-python",
   "name": "python",
   "nbconvert_exporter": "python",
   "pygments_lexer": "ipython3",
   "version": "3.12.4"
  }
 },
 "nbformat": 4,
 "nbformat_minor": 5
}
