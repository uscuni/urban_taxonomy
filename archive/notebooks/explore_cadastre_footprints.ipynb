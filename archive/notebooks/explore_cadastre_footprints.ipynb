{
    "cells": [
        {
            "cell_type": "code",
            "execution_count": null,
            "id": "8d020cd2-a88f-48d4-8425-1562ebcb1321",
            "metadata": {},
            "outputs": [],
            "source": []
        },
        {
            "cell_type": "code",
            "execution_count": 3,
            "id": "2acc88ee-1b46-4421-b315-ea9362802508",
            "metadata": {},
            "outputs": [],
            "source": [
                "import geopandas as gpd\n",
                "from glob import glob\n",
                "import pandas as pd\n",
                "import lonboard\n",
                "from sidecar import Sidecar\n",
                "\n",
                "DATADIR = '/data/uscuni-ulce/buildings_standardised/'"
            ]
        },
        {
            "cell_type": "code",
            "execution_count": 4,
            "id": "7dbd6f7e-2660-418e-913a-7ca8e2778b4b",
            "metadata": {},
            "outputs": [],
            "source": [
                "regions = [\n",
                "\"buildings_austria.pq\",\n",
                "\"buildings_slovakia.pq\",\n",
                "\"buildings_poland.pq\",\n",
                "\"buildings_czechia.pq\",\n",
                "]"
            ]
        },
        {
            "cell_type": "code",
            "execution_count": null,
            "id": "e44edfc1-ab8c-4181-b098-469ffbb4ebfd",
            "metadata": {},
            "outputs": [],
            "source": []
        },
        {
            "cell_type": "code",
            "execution_count": null,
            "id": "2a2bb4a5-c637-4447-b355-f8957166705f",
            "metadata": {},
            "outputs": [],
            "source": []
        },
        {
            "cell_type": "code",
            "execution_count": null,
            "id": "bb03bd21-a13d-4e56-a733-e9e1da846bac",
            "metadata": {},
            "outputs": [],
            "source": []
        },
        {
            "cell_type": "markdown",
            "id": "5ccbc6c0-525c-4e16-a90c-e3672bbb392c",
            "metadata": {},
            "source": [
                "### Germany"
            ]
        },
        {
            "cell_type": "code",
            "execution_count": 5,
            "id": "57eee369-1d09-432b-a1f7-b07c2428c943",
            "metadata": {},
            "outputs": [],
            "source": [
                "ger_regions = ['bavaria', 'brandeburg', 'bw', 'hessen', 'mv',\n",
                "       'nrw', 'rlp', 'saarland', 'sachsen', 'sachsen-anhalt', 'sh', \n",
                "       'th', 'ni', 'bremen', 'hamburg', 'berlin']"
            ]
        },
        {
            "cell_type": "code",
            "execution_count": null,
            "id": "32d4a4c7-8fc9-4a0c-8ff8-35befb21fc53",
            "metadata": {},
            "outputs": [],
            "source": []
        },
        {
            "cell_type": "markdown",
            "id": "0ce1b4de-6aac-46e6-b552-8ae1eaa22a66",
            "metadata": {},
            "source": [
                "#### Bavaria"
            ]
        },
        {
            "cell_type": "code",
            "execution_count": 6,
            "id": "3dc6361e-8371-4ea8-a107-ee5bd17df246",
            "metadata": {},
            "outputs": [],
            "source": [
                "bavaria = gpd.read_parquet(f'/data/uscuni-ulce/buildings_standardised/buildings_germany_{ger_regions[0]}.pq')"
            ]
        },
        {
            "cell_type": "code",
            "execution_count": 7,
            "id": "d3a9b48d-52ad-4eb3-8b23-716d83a61858",
            "metadata": {},
            "outputs": [
                {
                    "data": {
                        "text/plain": [
                            "(10131375, 2)"
                        ]
                    },
                    "execution_count": 7,
                    "metadata": {},
                    "output_type": "execute_result"
                }
            ],
            "source": [
                "bavaria.shape"
            ]
        },
        {
            "cell_type": "code",
            "execution_count": 8,
            "id": "f2c87b35-cfad-46fa-a1b7-2b73a4f85679",
            "metadata": {},
            "outputs": [
                {
                    "data": {
                        "text/plain": [
                            "Index(['ags', 'geometry'], dtype='object')"
                        ]
                    },
                    "execution_count": 8,
                    "metadata": {},
                    "output_type": "execute_result"
                }
            ],
            "source": [
                "bavaria.columns"
            ]
        },
        {
            "cell_type": "code",
            "execution_count": 9,
            "id": "774d9457-b9e3-4c6c-a047-4d5a64487abc",
            "metadata": {},
            "outputs": [],
            "source": [
                "bavaria['currentUse'] = None\n",
                "bavaria['buildingNature'] = None\n",
                "bavaria['heightAboveGround'] = None"
            ]
        },
        {
            "cell_type": "code",
            "execution_count": null,
            "id": "079a667b-dc88-4184-8620-a105a3e84a66",
            "metadata": {},
            "outputs": [],
            "source": []
        },
        {
            "cell_type": "code",
            "execution_count": 10,
            "id": "8ec4dcda-a7e3-4b66-9a5c-684943f76e9a",
            "metadata": {},
            "outputs": [],
            "source": [
                "# centroids = bavaria.geometry.representative_point().to_frame().reset_index()"
            ]
        },
        {
            "cell_type": "code",
            "execution_count": 11,
            "id": "76fa0c2c-31f6-49dc-ac14-d7f154b525b2",
            "metadata": {},
            "outputs": [],
            "source": [
                "\n",
                "# layer = lonboard.ScatterplotLayer.from_geopandas(centroids)\n",
                "# sc = Sidecar(title='Final Clusters')\n",
                "# m = lonboard.Map(layer, basemap_style=lonboard.basemap.CartoBasemap.Positron)\n",
                "# with sc:\n",
                "#     display(m)"
            ]
        },
        {
            "cell_type": "code",
            "execution_count": null,
            "id": "cf61c8e6-0ff1-4f4b-8a14-2fd9c3974be7",
            "metadata": {},
            "outputs": [],
            "source": []
        },
        {
            "cell_type": "markdown",
            "id": "d2e93fe7-466e-48f3-8db8-d002e1e3a2e9",
            "metadata": {},
            "source": [
                "#### Brandenburg"
            ]
        },
        {
            "cell_type": "code",
            "execution_count": 12,
            "id": "09fa176b-4440-43e5-86cf-48ba61398a44",
            "metadata": {},
            "outputs": [],
            "source": [
                "bb = gpd.read_parquet(f'/data/uscuni-ulce/buildings_standardised/buildings_germany_{ger_regions[1]}.pq')"
            ]
        },
        {
            "cell_type": "code",
            "execution_count": 13,
            "id": "c3f522b2-4218-49a3-978a-957ce5ee25a2",
            "metadata": {},
            "outputs": [
                {
                    "data": {
                        "text/plain": [
                            "(2482380, 13)"
                        ]
                    },
                    "execution_count": 13,
                    "metadata": {},
                    "output_type": "execute_result"
                }
            ],
            "source": [
                "bb.shape"
            ]
        },
        {
            "cell_type": "code",
            "execution_count": 14,
            "id": "bf1ad8af-0932-476c-a71a-63258d3c15ad",
            "metadata": {},
            "outputs": [
                {
                    "data": {
                        "text/plain": [
                            "Index(['gml_id', 'identifier', 'oid', 'aktualit', 'gebnutzbez', 'funktion',\n",
                            "       'gfkzshh', 'gmdschl', 'lagebeztxt', 'anzahlgs', 'rellage', 'name',\n",
                            "       'geometry'],\n",
                            "      dtype='object')"
                        ]
                    },
                    "execution_count": 14,
                    "metadata": {},
                    "output_type": "execute_result"
                }
            ],
            "source": [
                "bb.columns"
            ]
        },
        {
            "cell_type": "code",
            "execution_count": 15,
            "id": "b6019cad-76a1-4cb9-8cbb-751f171a4edb",
            "metadata": {},
            "outputs": [],
            "source": [
                "bb['currentUse'] = bb['funktion']\n",
                "bb['buildingNature'] =  bb['gebnutzbez']\n",
                "bb['heightAboveGround'] = None"
            ]
        },
        {
            "cell_type": "code",
            "execution_count": 16,
            "id": "7308f2f2-7d6d-4708-8275-d271b2a2cda3",
            "metadata": {},
            "outputs": [],
            "source": [
                "# centroids = bb.geometry.representative_point().to_frame().reset_index()\n",
                "# centroids['currentUse'] = bb['currentUse']\n",
                "# centroids['buildingNature'] = bb['buildingNature']\n",
                "\n",
                "\n",
                "# layer = lonboard.ScatterplotLayer.from_geopandas(centroids)\n",
                "# sc = Sidecar(title='Final Clusters')\n",
                "# m = lonboard.Map(layer, basemap_style=lonboard.basemap.CartoBasemap.Positron)\n",
                "# with sc:\n",
                "#     display(m)"
            ]
        },
        {
            "cell_type": "markdown",
            "id": "4ae860e2-9f1c-43ae-affc-a20c63a06739",
            "metadata": {},
            "source": [
                "#### BW"
            ]
        },
        {
            "cell_type": "code",
            "execution_count": 17,
            "id": "43d69340-405b-4c2e-8b80-fc1aedc2f408",
            "metadata": {},
            "outputs": [],
            "source": [
                "bw = gpd.read_parquet(f'/data/uscuni-ulce/buildings_standardised/buildings_germany_{ger_regions[2]}.pq')"
            ]
        },
        {
            "cell_type": "code",
            "execution_count": 18,
            "id": "740b6130-aa43-4d23-bc3d-d95ce6aab062",
            "metadata": {},
            "outputs": [
                {
                    "data": {
                        "text/plain": [
                            "(6434424, 24)"
                        ]
                    },
                    "execution_count": 18,
                    "metadata": {},
                    "output_type": "execute_result"
                }
            ],
            "source": [
                "bw.shape"
            ]
        },
        {
            "cell_type": "code",
            "execution_count": 19,
            "id": "8874cf12-524c-4e12-a8e4-207dadf389c2",
            "metadata": {},
            "outputs": [
                {
                    "data": {
                        "text/plain": [
                            "Index(['gml_id', 'identifier', 'beginLifespanVersion',\n",
                            "       'conditionOfConstruction', 'end', 'endLifespanVersion',\n",
                            "       'heightAboveGround', 'localId', 'namespace', 'language', 'nativeness',\n",
                            "       'nameStatus', 'sourceOfName', 'pronunciation', 'text', 'script',\n",
                            "       'transliterationScheme', 'grammaticalGender', 'grammaticalNumber',\n",
                            "       'percentage', 'numberOfFloorsAboveGround', 'referenceGeometry',\n",
                            "       'horizontalGeometryEstimatedAccuracy', 'geometry'],\n",
                            "      dtype='object')"
                        ]
                    },
                    "execution_count": 19,
                    "metadata": {},
                    "output_type": "execute_result"
                }
            ],
            "source": [
                "bw.columns"
            ]
        },
        {
            "cell_type": "code",
            "execution_count": null,
            "id": "1bb11a98-cbed-4e55-9f57-44879bd05793",
            "metadata": {},
            "outputs": [],
            "source": []
        },
        {
            "cell_type": "code",
            "execution_count": 20,
            "id": "53f4e1dd-3b27-4137-aafc-73d331eb2ac2",
            "metadata": {},
            "outputs": [],
            "source": [
                "bw['currentUse'] = None\n",
                "bw['buildingNature'] =  None\n",
                "bw['heightAboveGround'] = None"
            ]
        },
        {
            "cell_type": "code",
            "execution_count": 21,
            "id": "6911f74d-c21d-4746-8eb8-514dc14a6f68",
            "metadata": {},
            "outputs": [],
            "source": [
                "# centroids = bw.geometry.representative_point().to_frame().reset_index()\n",
                "\n",
                "# layer = lonboard.ScatterplotLayer.from_geopandas(centroids)\n",
                "# sc = Sidecar(title='Final Clusters')\n",
                "# m = lonboard.Map(layer, basemap_style=lonboard.basemap.CartoBasemap.Positron)\n",
                "# with sc:\n",
                "#     display(m)"
            ]
        },
        {
            "cell_type": "markdown",
            "id": "d998a919-f8b9-4bf5-bb5e-c045b3060276",
            "metadata": {},
            "source": [
                "#### Hessen"
            ]
        },
        {
            "cell_type": "code",
            "execution_count": 22,
            "id": "fa954182-ee45-4e09-9c27-fff528d68938",
            "metadata": {},
            "outputs": [],
            "source": [
                "hessen = gpd.read_parquet(f'/data/uscuni-ulce/buildings_standardised/buildings_germany_{ger_regions[3]}.pq')"
            ]
        },
        {
            "cell_type": "code",
            "execution_count": 23,
            "id": "7fe0f073-b549-4299-97ea-562fa28aaaa1",
            "metadata": {},
            "outputs": [
                {
                    "data": {
                        "text/plain": [
                            "(5211807, 13)"
                        ]
                    },
                    "execution_count": 23,
                    "metadata": {},
                    "output_type": "execute_result"
                }
            ],
            "source": [
                "hessen.shape"
            ]
        },
        {
            "cell_type": "code",
            "execution_count": 24,
            "id": "53bd370c-1368-4d14-b94f-c04483090864",
            "metadata": {},
            "outputs": [
                {
                    "data": {
                        "text/plain": [
                            "Index(['gml_id', 'identifier', 'oid', 'aktualit', 'gebnutzbez', 'funktion',\n",
                            "       'gmdschl', 'rellage', 'gfkzshh', 'lagebeztxt', 'name', 'anzahlgs',\n",
                            "       'geometry'],\n",
                            "      dtype='object')"
                        ]
                    },
                    "execution_count": 24,
                    "metadata": {},
                    "output_type": "execute_result"
                }
            ],
            "source": [
                "hessen.columns"
            ]
        },
        {
            "cell_type": "code",
            "execution_count": null,
            "id": "1c727d2f-a074-47f9-aef5-d8663eccdc8b",
            "metadata": {},
            "outputs": [],
            "source": []
        },
        {
            "cell_type": "code",
            "execution_count": 25,
            "id": "93fef395-433c-4de2-8d1e-7f94e26b0205",
            "metadata": {},
            "outputs": [],
            "source": [
                "hessen['currentUse'] = hessen['funktion']\n",
                "hessen['buildingNature'] =  hessen['gebnutzbez']\n",
                "hessen['heightAboveGround'] = None"
            ]
        },
        {
            "cell_type": "code",
            "execution_count": 26,
            "id": "100b3d5c-cc8a-4744-8cfc-5d80bb599165",
            "metadata": {},
            "outputs": [],
            "source": [
                "# centroids = hessen.geometry.representative_point().to_frame().reset_index()\n",
                "# centroids['currentUse'] = hessen['currentUse']\n",
                "# centroids['buildingNature'] = hessen['buildingNature']\n",
                "\n",
                "# layer = lonboard.ScatterplotLayer.from_geopandas(centroids)\n",
                "# sc = Sidecar(title='Final Clusters')\n",
                "# m = lonboard.Map(layer, basemap_style=lonboard.basemap.CartoBasemap.Positron)\n",
                "# with sc:\n",
                "#     display(m)"
            ]
        },
        {
            "cell_type": "code",
            "execution_count": null,
            "id": "b4fd7964-83eb-4b42-90e2-b9f5b91fe508",
            "metadata": {},
            "outputs": [],
            "source": []
        },
        {
            "cell_type": "markdown",
            "id": "e43fa8c9-d8a2-46be-b19a-0a105188b2e6",
            "metadata": {},
            "source": [
                "#### MV"
            ]
        },
        {
            "cell_type": "code",
            "execution_count": 27,
            "id": "150bb416-91f9-410b-9642-c2d42e0730f9",
            "metadata": {},
            "outputs": [],
            "source": [
                "mv = gpd.read_parquet(f'/data/uscuni-ulce/buildings_standardised/buildings_germany_{ger_regions[4]}.pq')"
            ]
        },
        {
            "cell_type": "code",
            "execution_count": 28,
            "id": "65804d76-292c-4511-b7e1-586686f96283",
            "metadata": {},
            "outputs": [
                {
                    "data": {
                        "text/plain": [
                            "(1511902, 13)"
                        ]
                    },
                    "execution_count": 28,
                    "metadata": {},
                    "output_type": "execute_result"
                }
            ],
            "source": [
                "mv.shape"
            ]
        },
        {
            "cell_type": "code",
            "execution_count": 29,
            "id": "01493485-4556-4a71-af91-193c0eececcd",
            "metadata": {},
            "outputs": [
                {
                    "data": {
                        "text/plain": [
                            "Index(['gml_id', 'identifier', 'oid', 'aktualit', 'gebnutzbez', 'funktion',\n",
                            "       'gfkzshh', 'gmdschl', 'lagebeztxt', 'name', 'rellage', 'anzahlgs',\n",
                            "       'geometry'],\n",
                            "      dtype='object')"
                        ]
                    },
                    "execution_count": 29,
                    "metadata": {},
                    "output_type": "execute_result"
                }
            ],
            "source": [
                "mv.columns"
            ]
        },
        {
            "cell_type": "code",
            "execution_count": null,
            "id": "e9f93c13-08fe-464b-98fb-9fee97a5f4f0",
            "metadata": {},
            "outputs": [],
            "source": []
        },
        {
            "cell_type": "code",
            "execution_count": 30,
            "id": "a1c6c577-21ac-4699-80e1-51fbcf51c450",
            "metadata": {},
            "outputs": [],
            "source": [
                "mv['currentUse'] = mv['funktion']\n",
                "mv['buildingNature'] =  mv['gebnutzbez']\n",
                "mv['heightAboveGround'] = None"
            ]
        },
        {
            "cell_type": "code",
            "execution_count": 31,
            "id": "ba904788-2580-4318-95b6-ac0b58bec883",
            "metadata": {},
            "outputs": [],
            "source": [
                "# centroids = mv.geometry.representative_point().to_frame().reset_index()\n",
                "# centroids['currentUse'] = mv['currentUse']\n",
                "# centroids['buildingNature'] = mv['buildingNature']\n",
                "\n",
                "# layer = lonboard.ScatterplotLayer.from_geopandas(centroids)\n",
                "# sc = Sidecar(title='Final Clusters')\n",
                "# m = lonboard.Map(layer, basemap_style=lonboard.basemap.CartoBasemap.Positron)\n",
                "# with sc:\n",
                "#     display(m)"
            ]
        },
        {
            "cell_type": "markdown",
            "id": "9f4430f8-87e0-45bb-9d24-226b2edecafa",
            "metadata": {},
            "source": [
                "#### NRW"
            ]
        },
        {
            "cell_type": "code",
            "execution_count": null,
            "id": "364225d8-da87-4b90-a59f-be6c363cc5df",
            "metadata": {},
            "outputs": [],
            "source": []
        },
        {
            "cell_type": "code",
            "execution_count": 32,
            "id": "105e2507-cab4-45d7-9556-ffb278c57981",
            "metadata": {},
            "outputs": [],
            "source": [
                "## Has gardenhouses, sheds, and garages"
            ]
        },
        {
            "cell_type": "code",
            "execution_count": 33,
            "id": "bd779c95-7b8c-41bc-89d6-289a26eb2ea0",
            "metadata": {},
            "outputs": [],
            "source": [
                "nrw = gpd.read_parquet(f'/data/uscuni-ulce/buildings_standardised/buildings_germany_{ger_regions[5]}.pq')"
            ]
        },
        {
            "cell_type": "code",
            "execution_count": 34,
            "id": "b816bf93-a1dc-432d-8ce7-84184534f25d",
            "metadata": {},
            "outputs": [
                {
                    "data": {
                        "text/plain": [
                            "(12646244, 11)"
                        ]
                    },
                    "execution_count": 34,
                    "metadata": {},
                    "output_type": "execute_result"
                }
            ],
            "source": [
                "nrw.shape"
            ]
        },
        {
            "cell_type": "code",
            "execution_count": 35,
            "id": "33283917-9e7a-4952-ab91-e4146351f75d",
            "metadata": {},
            "outputs": [
                {
                    "data": {
                        "text/plain": [
                            "Index(['id', 'aktualit', 'gebnutzbez', 'funktion', 'fktkurz', 'name',\n",
                            "       'rellage', 'gmdschl', 'anzahlgs', 'lagebeztxt', 'geometry'],\n",
                            "      dtype='object')"
                        ]
                    },
                    "execution_count": 35,
                    "metadata": {},
                    "output_type": "execute_result"
                }
            ],
            "source": [
                "nrw.columns"
            ]
        },
        {
            "cell_type": "code",
            "execution_count": null,
            "id": "3fb31c82-f0cd-46d5-863b-3b5d95148713",
            "metadata": {},
            "outputs": [],
            "source": []
        },
        {
            "cell_type": "code",
            "execution_count": 36,
            "id": "3345a24f-3f08-4e43-9cbb-cc6a2e7b66b5",
            "metadata": {},
            "outputs": [],
            "source": [
                "nrw['currentUse'] = nrw['funktion']\n",
                "nrw['buildingNature'] =  nrw['gebnutzbez']\n",
                "nrw['heightAboveGround'] = None"
            ]
        },
        {
            "cell_type": "code",
            "execution_count": 37,
            "id": "f4758a67-4150-486a-88f3-b85a7ae674b8",
            "metadata": {},
            "outputs": [],
            "source": [
                "# centroids = nrw.geometry.representative_point().to_frame().reset_index()\n",
                "# centroids['currentUse'] = nrw['currentUse']\n",
                "# centroids['buildingNature'] = nrw['buildingNature']\n",
                "\n",
                "# layer = lonboard.ScatterplotLayer.from_geopandas(centroids)\n",
                "# sc = Sidecar(title='Final Clusters')\n",
                "# m = lonboard.Map(layer, basemap_style=lonboard.basemap.CartoBasemap.Positron)\n",
                "# with sc:\n",
                "#     display(m)"
            ]
        },
        {
            "cell_type": "markdown",
            "id": "2a997fd2-345d-4639-8f57-126ce2c9f605",
            "metadata": {},
            "source": [
                "#### RLP"
            ]
        },
        {
            "cell_type": "code",
            "execution_count": 38,
            "id": "4a5b11c5-acf6-478a-bc77-5f4f6af0b048",
            "metadata": {},
            "outputs": [],
            "source": [
                "rlp = gpd.read_parquet(f'/data/uscuni-ulce/buildings_standardised/buildings_germany_{ger_regions[6]}.pq')"
            ]
        },
        {
            "cell_type": "code",
            "execution_count": 39,
            "id": "bb4537e4-651b-41e9-891b-8fa9d6e1cd12",
            "metadata": {},
            "outputs": [
                {
                    "data": {
                        "text/plain": [
                            "(3320444, 13)"
                        ]
                    },
                    "execution_count": 39,
                    "metadata": {},
                    "output_type": "execute_result"
                }
            ],
            "source": [
                "rlp.shape"
            ]
        },
        {
            "cell_type": "code",
            "execution_count": 40,
            "id": "6168c6bf-717e-4d44-91d9-8026a56a0b20",
            "metadata": {},
            "outputs": [
                {
                    "data": {
                        "text/plain": [
                            "Index(['gml_id', 'oid', 'timePosition', 'gebnutzbez', 'funktion', 'gfkzshh',\n",
                            "       'gmdschl', 'lagebeztxt', 'gid', 'anzahlgs', 'name', 'geometry',\n",
                            "       'rellage'],\n",
                            "      dtype='object')"
                        ]
                    },
                    "execution_count": 40,
                    "metadata": {},
                    "output_type": "execute_result"
                }
            ],
            "source": [
                "rlp.columns"
            ]
        },
        {
            "cell_type": "code",
            "execution_count": null,
            "id": "1d4bf228-e8c0-4e1a-b9ba-51140621b6bb",
            "metadata": {},
            "outputs": [],
            "source": []
        },
        {
            "cell_type": "code",
            "execution_count": 41,
            "id": "7556d47c-1791-4893-a5c7-093502f06f31",
            "metadata": {},
            "outputs": [],
            "source": [
                "rlp['currentUse'] = rlp['funktion']\n",
                "rlp['buildingNature'] =  rlp['gebnutzbez']\n",
                "rlp['heightAboveGround'] = None"
            ]
        },
        {
            "cell_type": "code",
            "execution_count": 42,
            "id": "1ee980e7-25e2-42ac-b40c-2d0ef20c1a3e",
            "metadata": {},
            "outputs": [],
            "source": [
                "# centroids = rlp.geometry.representative_point().to_frame().reset_index()\n",
                "# centroids['currentUse'] = rlp['currentUse']\n",
                "# centroids['buildingNature'] = rlp['buildingNature']\n",
                "\n",
                "# layer = lonboard.ScatterplotLayer.from_geopandas(centroids)\n",
                "# sc = Sidecar(title='Final Clusters')\n",
                "# m = lonboard.Map(layer, basemap_style=lonboard.basemap.CartoBasemap.Positron)\n",
                "# with sc:\n",
                "#     display(m)"
            ]
        },
        {
            "cell_type": "markdown",
            "id": "c1ab4d2a-c813-41fd-89cc-b11e94e0af30",
            "metadata": {},
            "source": [
                "#### Saarland"
            ]
        },
        {
            "cell_type": "code",
            "execution_count": 43,
            "id": "c4bd2aed-6565-4161-86c3-21a2bff927a4",
            "metadata": {},
            "outputs": [],
            "source": [
                "## lots of random buildings, doesnt look like official data"
            ]
        },
        {
            "cell_type": "code",
            "execution_count": 44,
            "id": "69c8e114-f73d-4384-b63a-c6f223c6ddc4",
            "metadata": {},
            "outputs": [],
            "source": [
                "saarland = gpd.read_parquet(f'/data/uscuni-ulce/buildings_standardised/buildings_germany_{ger_regions[7]}.pq')"
            ]
        },
        {
            "cell_type": "code",
            "execution_count": 45,
            "id": "f0be222e-321c-44a5-860a-0e0c3b0756cb",
            "metadata": {},
            "outputs": [
                {
                    "data": {
                        "text/plain": [
                            "(622841, 16)"
                        ]
                    },
                    "execution_count": 45,
                    "metadata": {},
                    "output_type": "execute_result"
                }
            ],
            "source": [
                "saarland.shape"
            ]
        },
        {
            "cell_type": "code",
            "execution_count": 46,
            "id": "1a6cb28e-b1fa-47e7-98be-abdd7cc803e2",
            "metadata": {},
            "outputs": [
                {
                    "data": {
                        "text/plain": [
                            "Index(['gml_id', 'identifier', 'beginLifespanVersion', 'localId', 'namespace',\n",
                            "       'percentage', 'referenceGeometry',\n",
                            "       'horizontalGeometryEstimatedAccuracy', 'language', 'nativeness',\n",
                            "       'nameStatus', 'sourceOfName', 'pronunciation', 'text', 'script',\n",
                            "       'geometry'],\n",
                            "      dtype='object')"
                        ]
                    },
                    "execution_count": 46,
                    "metadata": {},
                    "output_type": "execute_result"
                }
            ],
            "source": [
                "saarland.columns"
            ]
        },
        {
            "cell_type": "code",
            "execution_count": 47,
            "id": "ab5bfabf-5278-40a5-934b-a9752baca64f",
            "metadata": {},
            "outputs": [],
            "source": [
                "saarland['currentUse'] = None\n",
                "saarland['buildingNature'] =  None\n",
                "saarland['heightAboveGround'] = None"
            ]
        },
        {
            "cell_type": "code",
            "execution_count": 48,
            "id": "c244f9e5-b67b-4f70-84d0-d376e581c618",
            "metadata": {},
            "outputs": [],
            "source": [
                "# centroids = saarland.geometry.representative_point().to_frame().reset_index()\n",
                "# centroids['currentUse'] = saarland['currentUse']\n",
                "# centroids['buildingNature'] = saarland['buildingNature']\n",
                "\n",
                "# layer = lonboard.ScatterplotLayer.from_geopandas(centroids)\n",
                "# sc = Sidecar(title='Final Clusters')\n",
                "# m = lonboard.Map(layer, basemap_style=lonboard.basemap.CartoBasemap.Positron)\n",
                "# with sc:\n",
                "#     display(m)"
            ]
        },
        {
            "cell_type": "code",
            "execution_count": null,
            "id": "29088439-1a85-414f-ad37-f1d5859b16cb",
            "metadata": {},
            "outputs": [],
            "source": []
        },
        {
            "cell_type": "markdown",
            "id": "c91a7f88-41a8-439c-a401-4bd108a18df4",
            "metadata": {},
            "source": [
                "#### Sachsen"
            ]
        },
        {
            "cell_type": "code",
            "execution_count": 49,
            "id": "58ad4cd7-5cc4-47d2-9bfd-f3d52c707648",
            "metadata": {},
            "outputs": [],
            "source": [
                "sachsen = gpd.read_parquet(f'/data/uscuni-ulce/buildings_standardised/buildings_germany_{ger_regions[8]}.pq')"
            ]
        },
        {
            "cell_type": "code",
            "execution_count": 50,
            "id": "d6975f64-50bc-464b-b807-4b98aab9ff42",
            "metadata": {},
            "outputs": [
                {
                    "data": {
                        "text/plain": [
                            "(4018680, 12)"
                        ]
                    },
                    "execution_count": 50,
                    "metadata": {},
                    "output_type": "execute_result"
                }
            ],
            "source": [
                "sachsen.shape"
            ]
        },
        {
            "cell_type": "code",
            "execution_count": 51,
            "id": "16b34413-f808-4283-905a-fde15141900c",
            "metadata": {},
            "outputs": [
                {
                    "data": {
                        "text/plain": [
                            "Index(['gml_id', 'identifier', 'oid', 'aktualit', 'gebnutzbez', 'funktion',\n",
                            "       'gfkzshh', 'gmdschl', 'lagebeztxt', 'geometry', 'name', 'rellage'],\n",
                            "      dtype='object')"
                        ]
                    },
                    "execution_count": 51,
                    "metadata": {},
                    "output_type": "execute_result"
                }
            ],
            "source": [
                "sachsen.columns"
            ]
        },
        {
            "cell_type": "code",
            "execution_count": null,
            "id": "f568867b-ec55-41fa-acf5-c7d5699c3578",
            "metadata": {},
            "outputs": [],
            "source": []
        },
        {
            "cell_type": "code",
            "execution_count": 52,
            "id": "3edda33c-e713-4e54-9bf6-b4a9611e29f1",
            "metadata": {},
            "outputs": [],
            "source": [
                "sachsen['currentUse'] = sachsen['funktion']\n",
                "sachsen['buildingNature'] =  sachsen['gebnutzbez']\n",
                "sachsen['heightAboveGround'] = None"
            ]
        },
        {
            "cell_type": "code",
            "execution_count": 53,
            "id": "501c621b-6b47-4225-8d2d-58d36e730060",
            "metadata": {},
            "outputs": [],
            "source": [
                "# centroids = sachsen.geometry.representative_point().to_frame().reset_index()\n",
                "# centroids['currentUse'] = sachsen['currentUse']\n",
                "# centroids['buildingNature'] = sachsen['buildingNature']\n",
                "\n",
                "# layer = lonboard.ScatterplotLayer.from_geopandas(centroids)\n",
                "# sc = Sidecar(title='Final Clusters')\n",
                "# m = lonboard.Map(layer, basemap_style=lonboard.basemap.CartoBasemap.Positron)\n",
                "# with sc:\n",
                "#     display(m)"
            ]
        },
        {
            "cell_type": "code",
            "execution_count": null,
            "id": "d4d0241c-e738-43b9-aff7-56576e24593c",
            "metadata": {},
            "outputs": [],
            "source": []
        },
        {
            "cell_type": "code",
            "execution_count": null,
            "id": "c0812cf4-059c-47bb-bfd6-a79a5399fff2",
            "metadata": {},
            "outputs": [],
            "source": []
        },
        {
            "cell_type": "markdown",
            "id": "0ae91a3a-74e1-4166-ab67-0eaf3d07fd11",
            "metadata": {},
            "source": [
                "#### sachsen-anhalt"
            ]
        },
        {
            "cell_type": "code",
            "execution_count": 54,
            "id": "a13d76ff-b71e-4094-a8eb-168ce5b5f5b8",
            "metadata": {},
            "outputs": [],
            "source": [
                "sa = gpd.read_parquet(f'/data/uscuni-ulce/buildings_standardised/buildings_{ger_regions[9]}.pq')"
            ]
        },
        {
            "cell_type": "code",
            "execution_count": 55,
            "id": "3daaede2-a723-4974-a1fb-0bb9e30dc4b3",
            "metadata": {},
            "outputs": [
                {
                    "data": {
                        "text/plain": [
                            "(1739119, 12)"
                        ]
                    },
                    "execution_count": 55,
                    "metadata": {},
                    "output_type": "execute_result"
                }
            ],
            "source": [
                "sa.shape"
            ]
        },
        {
            "cell_type": "code",
            "execution_count": 56,
            "id": "0555b7a4-7388-4697-9997-495cac713c2a",
            "metadata": {},
            "outputs": [
                {
                    "data": {
                        "text/plain": [
                            "Index(['gml_id', 'identifier', 'oid', 'aktualit', 'gebnutzbez', 'funktion',\n",
                            "       'gfkzshh', 'gmdschl', 'lagebeztxt', 'name', 'rellage', 'geometry'],\n",
                            "      dtype='object')"
                        ]
                    },
                    "execution_count": 56,
                    "metadata": {},
                    "output_type": "execute_result"
                }
            ],
            "source": [
                "sa.columns"
            ]
        },
        {
            "cell_type": "code",
            "execution_count": null,
            "id": "fd765f8e-6e82-4ecb-8066-11e9eb211c4d",
            "metadata": {},
            "outputs": [],
            "source": []
        },
        {
            "cell_type": "code",
            "execution_count": 57,
            "id": "4b70fed6-2564-45da-95ca-81a7e2b74bff",
            "metadata": {},
            "outputs": [],
            "source": [
                "sa['currentUse'] = sa['funktion']\n",
                "sa['buildingNature'] =  sa['gebnutzbez']\n",
                "sa['heightAboveGround'] = None"
            ]
        },
        {
            "cell_type": "code",
            "execution_count": 58,
            "id": "320ec0cc-c038-468d-a256-7db95374f603",
            "metadata": {},
            "outputs": [],
            "source": [
                "# centroids = sa.geometry.representative_point().to_frame().reset_index()\n",
                "# centroids['currentUse'] = sa['currentUse']\n",
                "# centroids['buildingNature'] = sa['buildingNature']\n",
                "\n",
                "# layer = lonboard.ScatterplotLayer.from_geopandas(centroids)\n",
                "# sc = Sidecar(title='Final Clusters')\n",
                "# m = lonboard.Map(layer, basemap_style=lonboard.basemap.CartoBasemap.Positron)\n",
                "# with sc:\n",
                "#     display(m)"
            ]
        },
        {
            "cell_type": "code",
            "execution_count": null,
            "id": "f1134601-44c3-442c-95ce-9c54dd8697a7",
            "metadata": {},
            "outputs": [],
            "source": []
        },
        {
            "cell_type": "markdown",
            "id": "5bdff49a-ca1a-44f3-a7c9-e5e6a97261a7",
            "metadata": {},
            "source": [
                "#### schlesig holsten"
            ]
        },
        {
            "cell_type": "code",
            "execution_count": 59,
            "id": "ebdb654d-e0e3-46bb-a8a9-e2a6e9347fd4",
            "metadata": {},
            "outputs": [],
            "source": [
                "sh = gpd.read_parquet(f'/data/uscuni-ulce/buildings_standardised/buildings_germany_{ger_regions[10]}.pq')"
            ]
        },
        {
            "cell_type": "code",
            "execution_count": 60,
            "id": "301581f4-c094-41f6-8cc4-208342873366",
            "metadata": {},
            "outputs": [
                {
                    "data": {
                        "text/plain": [
                            "(2539436, 13)"
                        ]
                    },
                    "execution_count": 60,
                    "metadata": {},
                    "output_type": "execute_result"
                }
            ],
            "source": [
                "sh.shape"
            ]
        },
        {
            "cell_type": "code",
            "execution_count": 61,
            "id": "65438f71-771c-420c-b2c3-3472cac09ffe",
            "metadata": {},
            "outputs": [
                {
                    "data": {
                        "text/plain": [
                            "Index(['gml_id', 'identifier', 'oid', 'aktualit', 'gebnutzbez', 'funktion',\n",
                            "       'gfkzshh', 'gmdschl', 'lagebeztxt', 'name', 'anzahlgs', 'rellage',\n",
                            "       'geometry'],\n",
                            "      dtype='object')"
                        ]
                    },
                    "execution_count": 61,
                    "metadata": {},
                    "output_type": "execute_result"
                }
            ],
            "source": [
                "sh.columns"
            ]
        },
        {
            "cell_type": "code",
            "execution_count": null,
            "id": "a9e76496-e6f2-4061-99e8-4a7421e537b8",
            "metadata": {},
            "outputs": [],
            "source": []
        },
        {
            "cell_type": "code",
            "execution_count": 62,
            "id": "e0ba3954-c2e2-4ccf-bea7-da2fbd54ee23",
            "metadata": {},
            "outputs": [],
            "source": [
                "sh['currentUse'] = sh['funktion']\n",
                "sh['buildingNature'] =  sh['gebnutzbez']\n",
                "sh['heightAboveGround'] = None"
            ]
        },
        {
            "cell_type": "code",
            "execution_count": 63,
            "id": "46ef614d-ab0c-48a3-910a-fdcf1e5ae78c",
            "metadata": {},
            "outputs": [],
            "source": [
                "# centroids = sh.geometry.representative_point().to_frame().reset_index()\n",
                "# centroids['currentUse'] = sh['currentUse']\n",
                "# centroids['buildingNature'] = sh['buildingNature']\n",
                "\n",
                "# layer = lonboard.ScatterplotLayer.from_geopandas(centroids)\n",
                "# sc = Sidecar(title='Final Clusters')\n",
                "# m = lonboard.Map(layer, basemap_style=lonboard.basemap.CartoBasemap.Positron)\n",
                "# with sc:\n",
                "#     display(m)"
            ]
        },
        {
            "cell_type": "code",
            "execution_count": null,
            "id": "d09125c9-2ec1-40f7-84a8-328074c255cd",
            "metadata": {},
            "outputs": [],
            "source": []
        },
        {
            "cell_type": "markdown",
            "id": "e70ad84c-72df-405f-a6df-dd702c9011cb",
            "metadata": {},
            "source": [
                "#### Thuringia"
            ]
        },
        {
            "cell_type": "code",
            "execution_count": 64,
            "id": "fa6b25f8-77a4-4e07-8fcd-43a2d801d41e",
            "metadata": {},
            "outputs": [],
            "source": [
                "th = gpd.read_parquet(f'/data/uscuni-ulce/buildings_standardised/buildings_germany_{ger_regions[11]}.pq')"
            ]
        },
        {
            "cell_type": "code",
            "execution_count": 65,
            "id": "b9474795-a581-4b7a-a0f8-6982dce1bafe",
            "metadata": {},
            "outputs": [
                {
                    "data": {
                        "text/plain": [
                            "(2322175, 11)"
                        ]
                    },
                    "execution_count": 65,
                    "metadata": {},
                    "output_type": "execute_result"
                }
            ],
            "source": [
                "th.shape"
            ]
        },
        {
            "cell_type": "code",
            "execution_count": 66,
            "id": "9b689ebc-e69c-4575-ab3f-247260151051",
            "metadata": {},
            "outputs": [
                {
                    "data": {
                        "text/plain": [
                            "Index(['oid', 'aktualit', 'gebnutzbez', 'funktion', 'gfkzshh', 'rellage',\n",
                            "       'name', 'anzahlgs', 'gmdschl', 'lagebeztxt', 'geometry'],\n",
                            "      dtype='object')"
                        ]
                    },
                    "execution_count": 66,
                    "metadata": {},
                    "output_type": "execute_result"
                }
            ],
            "source": [
                "th.columns"
            ]
        },
        {
            "cell_type": "code",
            "execution_count": null,
            "id": "c95489fd-d8e7-42fc-a4aa-0401d9db7096",
            "metadata": {},
            "outputs": [],
            "source": []
        },
        {
            "cell_type": "code",
            "execution_count": 67,
            "id": "024231d7-5b53-436a-84fc-e9a0a13dd2a5",
            "metadata": {},
            "outputs": [],
            "source": [
                "th['currentUse'] = th['funktion']\n",
                "th['buildingNature'] =  th['gebnutzbez']\n",
                "th['heightAboveGround'] = None"
            ]
        },
        {
            "cell_type": "code",
            "execution_count": 68,
            "id": "92314847-c950-456b-be35-cf4af6a59754",
            "metadata": {},
            "outputs": [],
            "source": [
                "# centroids = th.geometry.representative_point().to_frame().reset_index()\n",
                "# centroids['currentUse'] = th['currentUse']\n",
                "# centroids['buildingNature'] = th['buildingNature']\n",
                "\n",
                "# layer = lonboard.ScatterplotLayer.from_geopandas(centroids)\n",
                "# sc = Sidecar(title='Final Clusters')\n",
                "# m = lonboard.Map(layer, basemap_style=lonboard.basemap.CartoBasemap.Positron)\n",
                "# with sc:\n",
                "#     display(m)"
            ]
        },
        {
            "cell_type": "code",
            "execution_count": null,
            "id": "25746b32-b97c-4491-a770-0c2886ed57bf",
            "metadata": {},
            "outputs": [],
            "source": []
        },
        {
            "cell_type": "markdown",
            "id": "7c4861b6-e155-4138-bbc2-a54f337524f7",
            "metadata": {},
            "source": [
                "#### niedersaxony"
            ]
        },
        {
            "cell_type": "code",
            "execution_count": 69,
            "id": "72c101cf-4f62-4c84-918b-ddf8dfe1767d",
            "metadata": {},
            "outputs": [],
            "source": [
                "ni = gpd.read_parquet(f'/data/uscuni-ulce/buildings_standardised/buildings_germany_{ger_regions[12]}.pq')"
            ]
        },
        {
            "cell_type": "code",
            "execution_count": 70,
            "id": "10549736-2ce5-4694-8f16-c67f7c491202",
            "metadata": {},
            "outputs": [
                {
                    "data": {
                        "text/plain": [
                            "(6442316, 10)"
                        ]
                    },
                    "execution_count": 70,
                    "metadata": {},
                    "output_type": "execute_result"
                }
            ],
            "source": [
                "ni.shape"
            ]
        },
        {
            "cell_type": "code",
            "execution_count": 71,
            "id": "d0f6f626-e11e-4dec-bd68-608629699b0d",
            "metadata": {},
            "outputs": [
                {
                    "data": {
                        "text/plain": [
                            "Index(['objid', 'gfk', 'gfk__bez', 'baw', 'baw__bez', 'ofl', 'ofl__bez', 'bez',\n",
                            "       'hnr', 'geometry'],\n",
                            "      dtype='object')"
                        ]
                    },
                    "execution_count": 71,
                    "metadata": {},
                    "output_type": "execute_result"
                }
            ],
            "source": [
                "ni.columns"
            ]
        },
        {
            "cell_type": "code",
            "execution_count": 72,
            "id": "ff839ad6-502b-427d-b2f1-2c7a626190c0",
            "metadata": {},
            "outputs": [],
            "source": [
                "ni['currentUse'] = None\n",
                "ni['buildingNature'] =  ni['gfk__bez']\n",
                "ni['heightAboveGround'] = None"
            ]
        },
        {
            "cell_type": "code",
            "execution_count": 73,
            "id": "2ab05806-1335-42f8-90b8-f0e4797e11f8",
            "metadata": {
                "scrolled": true
            },
            "outputs": [],
            "source": [
                "# centroids = ni.geometry.representative_point().to_frame().reset_index()\n",
                "# centroids['currentUse'] = ni['currentUse']\n",
                "# centroids['buildingNature'] = ni['buildingNature']\n",
                "\n",
                "# layer = lonboard.ScatterplotLayer.from_geopandas(centroids)\n",
                "# sc = Sidecar(title='Final Clusters')\n",
                "# m = lonboard.Map(layer, basemap_style=lonboard.basemap.CartoBasemap.Positron)\n",
                "# with sc:\n",
                "#     display(m)"
            ]
        },
        {
            "cell_type": "code",
            "execution_count": null,
            "id": "0800a2ea-d9d1-440f-a552-63dab5e4bc4c",
            "metadata": {},
            "outputs": [],
            "source": []
        },
        {
            "cell_type": "markdown",
            "id": "c4fa4339-d2ae-40ef-8016-d2e4a7849ffd",
            "metadata": {},
            "source": [
                "#### bremen"
            ]
        },
        {
            "cell_type": "code",
            "execution_count": 74,
            "id": "956dbf2f-ebc1-4f63-b7f7-24f53b5827a1",
            "metadata": {},
            "outputs": [],
            "source": [
                "## great data"
            ]
        },
        {
            "cell_type": "code",
            "execution_count": 75,
            "id": "5478d038-6e92-4e4b-b5b6-07db9ff11aab",
            "metadata": {},
            "outputs": [],
            "source": [
                "bremen = gpd.read_parquet(f'/data/uscuni-ulce/buildings_standardised/buildings_germany_{ger_regions[13]}.pq').to_crs(epsg=3035)"
            ]
        },
        {
            "cell_type": "code",
            "execution_count": 76,
            "id": "45e97114-d92b-42ac-9c16-17da17fe13a9",
            "metadata": {},
            "outputs": [
                {
                    "data": {
                        "text/plain": [
                            "(322244, 11)"
                        ]
                    },
                    "execution_count": 76,
                    "metadata": {},
                    "output_type": "execute_result"
                }
            ],
            "source": [
                "bremen.shape"
            ]
        },
        {
            "cell_type": "code",
            "execution_count": 77,
            "id": "8facd1b7-c60c-448e-af08-b1e1d3bf7304",
            "metadata": {},
            "outputs": [
                {
                    "data": {
                        "text/plain": [
                            "Index(['OID', 'AKTUALIT', 'GEBNUTZBEZ', 'FUNKTION', 'GFKZSHH', 'RELLAGE',\n",
                            "       'NAME', 'ANZAHLGS', 'GMDSCHL', 'LAGEBEZTXT', 'geometry'],\n",
                            "      dtype='object')"
                        ]
                    },
                    "execution_count": 77,
                    "metadata": {},
                    "output_type": "execute_result"
                }
            ],
            "source": [
                "bremen.columns"
            ]
        },
        {
            "cell_type": "code",
            "execution_count": null,
            "id": "59691421-926d-4c5e-9950-7d9c7ae90160",
            "metadata": {},
            "outputs": [],
            "source": []
        },
        {
            "cell_type": "code",
            "execution_count": 78,
            "id": "69055369-7508-40d6-99b7-af373b41f699",
            "metadata": {},
            "outputs": [],
            "source": [
                "bremen['currentUse'] = bremen['FUNKTION']\n",
                "bremen['buildingNature'] =  bremen['GEBNUTZBEZ']\n",
                "bremen['heightAboveGround'] = None"
            ]
        },
        {
            "cell_type": "code",
            "execution_count": 79,
            "id": "b7a14908-8f8f-4215-82b6-c6a69a9caec0",
            "metadata": {},
            "outputs": [],
            "source": [
                "# centroids = bremen.geometry.representative_point().to_frame().reset_index()\n",
                "# centroids['currentUse'] = bremen['currentUse']\n",
                "# centroids['buildingNature'] = bremen['buildingNature']\n",
                "\n",
                "# layer = lonboard.ScatterplotLayer.from_geopandas(centroids)\n",
                "# sc = Sidecar(title='Final Clusters')\n",
                "# m = lonboard.Map(layer, basemap_style=lonboard.basemap.CartoBasemap.Positron)\n",
                "# with sc:\n",
                "#     display(m)"
            ]
        },
        {
            "cell_type": "code",
            "execution_count": null,
            "id": "026d9e44-113c-4404-8188-574fe6b7d042",
            "metadata": {},
            "outputs": [],
            "source": []
        },
        {
            "cell_type": "code",
            "execution_count": null,
            "id": "03f93693-92f6-4721-a7d2-bb206ee44d29",
            "metadata": {},
            "outputs": [],
            "source": []
        },
        {
            "cell_type": "code",
            "execution_count": null,
            "id": "ee2012be-5a58-4d44-b68a-89159b1d599b",
            "metadata": {},
            "outputs": [],
            "source": []
        },
        {
            "cell_type": "markdown",
            "id": "2a65aaf4-6217-4c5a-875c-a533140e23c9",
            "metadata": {},
            "source": [
                "#### hamburg"
            ]
        },
        {
            "cell_type": "code",
            "execution_count": null,
            "id": "9b51f8be-61b5-4f49-87f0-e142b92c8dcc",
            "metadata": {},
            "outputs": [],
            "source": []
        },
        {
            "cell_type": "code",
            "execution_count": 80,
            "id": "65a832d9-c441-4358-bf1d-23393f290af8",
            "metadata": {},
            "outputs": [],
            "source": [
                "## industrial areas might a problem, cannot plot! - has lots of road structures and other random buildings, , some are cleaned using the streets"
            ]
        },
        {
            "cell_type": "code",
            "execution_count": 81,
            "id": "a4dd6d49-83cc-464b-ace1-3db396d99c3b",
            "metadata": {},
            "outputs": [],
            "source": [
                "hamburg = gpd.read_parquet(f'/data/uscuni-ulce/buildings_standardised/buildings_germany_{ger_regions[14]}.pq').to_crs(epsg=3035)"
            ]
        },
        {
            "cell_type": "code",
            "execution_count": 82,
            "id": "30cf0bb6-d2c0-4b61-a4b1-37fa8558d519",
            "metadata": {},
            "outputs": [
                {
                    "data": {
                        "text/plain": [
                            "(454571, 12)"
                        ]
                    },
                    "execution_count": 82,
                    "metadata": {},
                    "output_type": "execute_result"
                }
            ],
            "source": [
                "hamburg.shape"
            ]
        },
        {
            "cell_type": "code",
            "execution_count": 83,
            "id": "60bf117f-7cf3-43ec-9399-645ee351636d",
            "metadata": {},
            "outputs": [
                {
                    "data": {
                        "text/plain": [
                            "Index(['gml_id', 'identifier', 'beginLifespanVersion', 'localId', 'namespace',\n",
                            "       'percentage', 'referenceGeometry',\n",
                            "       'horizontalGeometryEstimatedAccuracy', 'numberOfFloorsAboveGround',\n",
                            "       'end', 'dateOfRenovation|DateOfEvent|end', 'geometry'],\n",
                            "      dtype='object')"
                        ]
                    },
                    "execution_count": 83,
                    "metadata": {},
                    "output_type": "execute_result"
                }
            ],
            "source": [
                "hamburg.columns"
            ]
        },
        {
            "cell_type": "code",
            "execution_count": 84,
            "id": "f0e012f9-6f92-4663-a5b8-6ba31949d11e",
            "metadata": {},
            "outputs": [],
            "source": [
                "hamburg['currentUse'] = None\n",
                "hamburg['buildingNature'] =  None\n",
                "hamburg['heightAboveGround'] = None"
            ]
        },
        {
            "cell_type": "code",
            "execution_count": 85,
            "id": "75fe5de7-3f72-4266-8b72-2129eb548879",
            "metadata": {},
            "outputs": [],
            "source": [
                "# centroids = hamburg.sample(50_000, random_state=123).geometry.representative_point().to_frame()"
            ]
        },
        {
            "cell_type": "code",
            "execution_count": 86,
            "id": "5c1e3aae-2de5-42ce-8c7f-fafbc39c67d3",
            "metadata": {},
            "outputs": [],
            "source": [
                "# centroids.explore(prefer_canvas=True)"
            ]
        },
        {
            "cell_type": "code",
            "execution_count": null,
            "id": "6b092024-89da-4576-8a7f-51098a258b0e",
            "metadata": {},
            "outputs": [],
            "source": []
        },
        {
            "cell_type": "code",
            "execution_count": null,
            "id": "b8005e87-fff9-42a1-a26e-c3baca49b483",
            "metadata": {},
            "outputs": [],
            "source": []
        },
        {
            "cell_type": "code",
            "execution_count": null,
            "id": "641a04c5-b62c-4cdf-a0f8-4f8be0602f89",
            "metadata": {},
            "outputs": [],
            "source": []
        },
        {
            "cell_type": "raw",
            "id": "661ec110-3776-4d53-8c60-33273d6df0a7",
            "metadata": {},
            "source": []
        },
        {
            "cell_type": "code",
            "execution_count": null,
            "id": "f9cc346a-b207-4348-8297-f8a8ad9c2c9c",
            "metadata": {},
            "outputs": [],
            "source": []
        },
        {
            "cell_type": "markdown",
            "id": "d21456a7-290e-453a-976f-fbdcfe62def7",
            "metadata": {},
            "source": [
                "#### berlin"
            ]
        },
        {
            "cell_type": "code",
            "execution_count": 87,
            "id": "c1a00d66-c3f4-499c-9f4e-0905afa6ad57",
            "metadata": {},
            "outputs": [],
            "source": [
                "# lots of random structures, some are cleaned using the streets"
            ]
        },
        {
            "cell_type": "code",
            "execution_count": 88,
            "id": "b4f02e6c-7722-485d-914b-175ad34c946b",
            "metadata": {},
            "outputs": [],
            "source": [
                "berlin = gpd.read_parquet(f'/data/uscuni-ulce/buildings_standardised/buildings_germany_{ger_regions[15]}.pq')"
            ]
        },
        {
            "cell_type": "code",
            "execution_count": 89,
            "id": "31ac4788-ee3c-4280-b899-06b0b2276bc0",
            "metadata": {},
            "outputs": [
                {
                    "data": {
                        "text/plain": [
                            "(651811, 12)"
                        ]
                    },
                    "execution_count": 89,
                    "metadata": {},
                    "output_type": "execute_result"
                }
            ],
            "source": [
                "berlin.shape"
            ]
        },
        {
            "cell_type": "code",
            "execution_count": 90,
            "id": "54d6f726-698e-411c-899f-2bb7f92335ca",
            "metadata": {},
            "outputs": [
                {
                    "data": {
                        "text/plain": [
                            "Index(['gml_id', 'identifier', 'lowerCorner', 'upperCorner',\n",
                            "       'beginLifespanVersion', 'localId', 'namespace', 'percentage',\n",
                            "       'numberOfFloorsAboveGround', 'referenceGeometry',\n",
                            "       'horizontalGeometryEstimatedAccuracy', 'geometry'],\n",
                            "      dtype='object')"
                        ]
                    },
                    "execution_count": 90,
                    "metadata": {},
                    "output_type": "execute_result"
                }
            ],
            "source": [
                "berlin.columns"
            ]
        },
        {
            "cell_type": "code",
            "execution_count": null,
            "id": "9b494eea-b39f-46cb-a49b-93ba72b2149c",
            "metadata": {},
            "outputs": [],
            "source": []
        },
        {
            "cell_type": "code",
            "execution_count": 91,
            "id": "ff6c61e1-a373-43ed-a67d-512337a264b8",
            "metadata": {},
            "outputs": [],
            "source": [
                "berlin['currentUse'] = None\n",
                "berlin['buildingNature'] =  None\n",
                "berlin['heightAboveGround'] = None"
            ]
        },
        {
            "cell_type": "code",
            "execution_count": 92,
            "id": "be14bec4-ea5b-4fef-bf4a-6edb32d5f00a",
            "metadata": {},
            "outputs": [],
            "source": [
                "# centroids = berlin.geometry.representative_point().to_frame().reset_index()\n",
                "# centroids['currentUse'] = berlin['currentUse']\n",
                "# centroids['buildingNature'] = berlin['buildingNature']\n",
                "\n",
                "# layer = lonboard.ScatterplotLayer.from_geopandas(centroids)\n",
                "# sc = Sidecar(title='Final Clusters')\n",
                "# m = lonboard.Map(layer, basemap_style=lonboard.basemap.CartoBasemap.Positron)\n",
                "# with sc:\n",
                "#     display(m)"
            ]
        },
        {
            "cell_type": "code",
            "execution_count": null,
            "id": "cfe82c1e-2362-42c3-b918-9b30e9107f74",
            "metadata": {},
            "outputs": [],
            "source": []
        },
        {
            "cell_type": "code",
            "execution_count": null,
            "id": "c355d610-a5e4-464c-a584-7c860588f978",
            "metadata": {},
            "outputs": [],
            "source": []
        },
        {
            "cell_type": "markdown",
            "id": "bf651711-6191-44df-958b-6a2fcc5b722a",
            "metadata": {},
            "source": [
                "#### Merge germany"
            ]
        },
        {
            "cell_type": "code",
            "execution_count": 93,
            "id": "45745e80-6a51-45e4-9f44-52bb90d3c692",
            "metadata": {},
            "outputs": [
                {
                    "name": "stdout",
                    "output_type": "stream",
                    "text": [
                        "bavaria,brandeburg,bw,hessen,mv,nrw,rlp,saarland,sachsen,sachsen-anhalt,sh,th,ni,bremen,hamburg,berlin\n"
                    ]
                }
            ],
            "source": [
                "print(','.join(['bavaria', 'brandeburg', 'bw', 'hessen', 'mv',\n",
                "       'nrw', 'rlp', 'saarland', 'sachsen', 'sachsen-anhalt', 'sh', \n",
                "       'th', 'ni', 'bremen', 'hamburg', 'berlin']))"
            ]
        },
        {
            "cell_type": "code",
            "execution_count": 94,
            "id": "b960b706-aa19-4348-ab59-b1fac7ee5ce3",
            "metadata": {},
            "outputs": [],
            "source": [
                "subset = ['currentUse', 'buildingNature', 'heightAboveGround', 'geometry']"
            ]
        },
        {
            "cell_type": "code",
            "execution_count": 95,
            "id": "a7d6df11-d27a-45b9-b5d1-d0619af584c9",
            "metadata": {},
            "outputs": [],
            "source": [
                "all_gdfs = [bavaria,bb,bw,hessen,mv,nrw,rlp,saarland,sachsen,sa,sh,th,ni,bremen,hamburg,berlin]"
            ]
        },
        {
            "cell_type": "code",
            "execution_count": 96,
            "id": "74719fbc-1364-4438-8936-d26df2b51556",
            "metadata": {},
            "outputs": [
                {
                    "name": "stdout",
                    "output_type": "stream",
                    "text": [
                        "CPU times: user 23.2 s, sys: 1.04 s, total: 24.2 s\n",
                        "Wall time: 24.2 s\n"
                    ]
                }
            ],
            "source": [
                "%%time\n",
                "all_germany = pd.concat((gdf[subset] for gdf in all_gdfs), ignore_index=True)"
            ]
        },
        {
            "cell_type": "code",
            "execution_count": 97,
            "id": "94d5b432-4607-4ded-a293-2f55ac836c23",
            "metadata": {},
            "outputs": [],
            "source": [
                "all_germany.to_parquet('/data/uscuni-ulce/buildings_standardised/merged_germany.pq')"
            ]
        },
        {
            "cell_type": "code",
            "execution_count": 98,
            "id": "047dd033-8a14-4952-a534-9eb6420a5884",
            "metadata": {},
            "outputs": [
                {
                    "data": {
                        "text/plain": [
                            "(60851769, 4)"
                        ]
                    },
                    "execution_count": 98,
                    "metadata": {},
                    "output_type": "execute_result"
                }
            ],
            "source": [
                "all_germany.shape"
            ]
        },
        {
            "cell_type": "markdown",
            "id": "c4b0a277-4a31-4df0-8404-a395d949f016",
            "metadata": {},
            "source": [
                "### Austria"
            ]
        },
        {
            "cell_type": "code",
            "execution_count": 99,
            "id": "f03812f3-52b4-417d-9311-658b1060013f",
            "metadata": {},
            "outputs": [],
            "source": [
                "austria = gpd.read_parquet(DATADIR + regions[0]).to_crs(epsg=3035)"
            ]
        },
        {
            "cell_type": "code",
            "execution_count": 100,
            "id": "aeb23114-2a6e-4418-bedd-506f986d2061",
            "metadata": {},
            "outputs": [
                {
                    "data": {
                        "text/plain": [
                            "(4427904, 30)"
                        ]
                    },
                    "execution_count": 100,
                    "metadata": {},
                    "output_type": "execute_result"
                }
            ],
            "source": [
                "austria.shape"
            ]
        },
        {
            "cell_type": "code",
            "execution_count": 101,
            "id": "647d576f-0e39-4b06-87f5-bce93be0e22c",
            "metadata": {},
            "outputs": [
                {
                    "data": {
                        "text/plain": [
                            "Index(['F_CODE', 'F_NAME', 'BAUWERKSFUNKTION', 'AGWR_OBJEKTNUMMER', 'AGWR_TYP',\n",
                            "       'VERIFIKATION_LB', 'DEL_FLAG', 'BEFLIEGUNGSJAHR', 'ALS_DATUM',\n",
                            "       'ERFASS_ART', 'HOEHE_BODEN_MIN', 'ERFASS_ART_HOEHE_BODEN_MIN',\n",
                            "       'HOEHE_BODEN_MEDIAN', 'ERFASS_ART_HOEHE_BODEN_MEDIAN',\n",
                            "       'HOEHE_BODEN_MAX', 'ERFASS_ART_HOEHE_BODEN_MAX', 'HOEHE_OBJEKT_MEDIAN',\n",
                            "       'ERFASS_ART_HOEHE_OBJEKT_MEDIAN', 'HOEHE_OBJEKT_MAX',\n",
                            "       'ERFASS_ART_HOEHE_OBJEKT_MAX', 'HOEHE_OBJEKT_TRAUFE',\n",
                            "       'ERFASS_ART_HOEHE_OBJEKT_TRAUFE', 'DATENQUELLE', 'DATENQUELLE_EXT_ID',\n",
                            "       'ERSTELL_DAT', 'BEARB_DAT', 'OBJECTID', 'GLOBALID', 'SHAPE_AREA',\n",
                            "       'geometry'],\n",
                            "      dtype='object')"
                        ]
                    },
                    "execution_count": 101,
                    "metadata": {},
                    "output_type": "execute_result"
                }
            ],
            "source": [
                "austria.columns"
            ]
        },
        {
            "cell_type": "code",
            "execution_count": 102,
            "id": "5a19d27c-fafd-4c87-ab6b-42eb3b26169e",
            "metadata": {},
            "outputs": [
                {
                    "data": {
                        "text/plain": [
                            "\"\\n'F_CODE', 'F_NAME', 'STRUCTURE FUNCTION', 'AGWR_OBJECT NUMBER', 'AGWR_TYPE',\\n'VERIFICATION_LB', 'DEL_FLAG', 'FLIGHT_YEAR', 'AS_DATE',\\n'RECORD_TYPE', 'GROUND_HEIGHT_MIN', 'RECORD_TYPE_GROUND_MIN',\\n'GROUND_HEIGHT_MEDIAN', 'RECORD_TYPE_GROUND_HEIGHT_MEDIAN',\\n'GROUND_HEIGHT_MAX', 'GROUND_TYPE_GROUND_MAX', 'OBJECT_HEIGHT_MEDIAN',\\n'OBJECT_TYPE_HEIGHT_MEDIAN', 'HEIGHT_OBJECT_MAX',\\n'RECORD_TYPE_HEIGHT_OBJECT_MAX', 'HEIGHT_OBJECT_EAVES',\\n'RECORD_TYPE_HEIGHT_OBJECT_EAVES', 'DATA SOURCE', 'DATA SOURCE_EXT_ID',\\n'CREATE_DATE', 'EDIT_DATE', 'OBJECTID', 'GLOBALID', 'SHAPE_AREA',\\n'geometry'\\n\""
                        ]
                    },
                    "execution_count": 102,
                    "metadata": {},
                    "output_type": "execute_result"
                }
            ],
            "source": [
                "\"\"\"\n",
                "'F_CODE', 'F_NAME', 'STRUCTURE FUNCTION', 'AGWR_OBJECT NUMBER', 'AGWR_TYPE',\n",
                "'VERIFICATION_LB', 'DEL_FLAG', 'FLIGHT_YEAR', 'AS_DATE',\n",
                "'RECORD_TYPE', 'GROUND_HEIGHT_MIN', 'RECORD_TYPE_GROUND_MIN',\n",
                "'GROUND_HEIGHT_MEDIAN', 'RECORD_TYPE_GROUND_HEIGHT_MEDIAN',\n",
                "'GROUND_HEIGHT_MAX', 'GROUND_TYPE_GROUND_MAX', 'OBJECT_HEIGHT_MEDIAN',\n",
                "'OBJECT_TYPE_HEIGHT_MEDIAN', 'HEIGHT_OBJECT_MAX',\n",
                "'RECORD_TYPE_HEIGHT_OBJECT_MAX', 'HEIGHT_OBJECT_EAVES',\n",
                "'RECORD_TYPE_HEIGHT_OBJECT_EAVES', 'DATA SOURCE', 'DATA SOURCE_EXT_ID',\n",
                "'CREATE_DATE', 'EDIT_DATE', 'OBJECTID', 'GLOBALID', 'SHAPE_AREA',\n",
                "'geometry'\n",
                "\"\"\""
            ]
        },
        {
            "cell_type": "code",
            "execution_count": 103,
            "id": "408de570-c21f-45f5-8fa2-4e2d9da265bd",
            "metadata": {},
            "outputs": [
                {
                    "data": {
                        "text/plain": [
                            "array(['Nein', 'Ja'], dtype=object)"
                        ]
                    },
                    "execution_count": 103,
                    "metadata": {},
                    "output_type": "execute_result"
                }
            ],
            "source": [
                "austria['BAUWERKSFUNKTION'].unique()"
            ]
        },
        {
            "cell_type": "code",
            "execution_count": 104,
            "id": "f3094f8b-b479-48c9-a6d8-ec70990fe13b",
            "metadata": {},
            "outputs": [
                {
                    "data": {
                        "text/plain": [
                            "array(['Keine eindeutige Zuordnung', 'AGWR Aktiv',\n",
                            "       'AGWR Aktiv (1 m Distanz)', 'AGWR Bauvorhaben'], dtype=object)"
                        ]
                    },
                    "execution_count": 104,
                    "metadata": {},
                    "output_type": "execute_result"
                }
            ],
            "source": [
                "austria['AGWR_TYP'].unique()"
            ]
        },
        {
            "cell_type": "code",
            "execution_count": 105,
            "id": "abde78fc-7a34-410a-9d77-deb62aafedee",
            "metadata": {},
            "outputs": [
                {
                    "data": {
                        "text/plain": [
                            "array([2015.,   nan, 2020., 2019., 2013., 2017., 2016., 2018.])"
                        ]
                    },
                    "execution_count": 105,
                    "metadata": {},
                    "output_type": "execute_result"
                }
            ],
            "source": [
                "austria['BEFLIEGUNGSJAHR'].unique()"
            ]
        },
        {
            "cell_type": "code",
            "execution_count": 106,
            "id": "2bc60726-3e7e-4f63-8609-bc9a32c935f7",
            "metadata": {},
            "outputs": [],
            "source": [
                "austria['currentUse'] = austria['BAUWERKSFUNKTION']\n",
                "austria['buildingNature'] = austria['AGWR_TYP']\n",
                "austria['heightAboveGround'] = austria['HOEHE_OBJEKT_MEDIAN']"
            ]
        },
        {
            "cell_type": "code",
            "execution_count": null,
            "id": "b6b71d34-4d4d-47ba-bd1f-b8326e3eff2d",
            "metadata": {},
            "outputs": [],
            "source": []
        },
        {
            "cell_type": "code",
            "execution_count": 107,
            "id": "ba26dd76-f2f1-46d3-9ff3-dcd3985bc2ec",
            "metadata": {},
            "outputs": [],
            "source": [
                "# centroids = austria.geometry.representative_point().to_frame().reset_index()\n",
                "# centroids['currentUse'] = austria['BAUWERKSFUNKTION']\n",
                "# centroids['buildingNature'] = austria['AGWR_TYP']"
            ]
        },
        {
            "cell_type": "code",
            "execution_count": 108,
            "id": "34a737c6-8506-460a-98c9-dc29f0431096",
            "metadata": {},
            "outputs": [],
            "source": [
                "# layer = lonboard.ScatterplotLayer.from_geopandas(centroids)\n",
                "# sc = Sidecar(title='Final Clusters')\n",
                "# m = lonboard.Map(layer, basemap_style=lonboard.basemap.CartoBasemap.Positron)\n",
                "# with sc:\n",
                "#     display(m)"
            ]
        },
        {
            "cell_type": "code",
            "execution_count": null,
            "id": "f9bfaa11-66ba-4b46-af7a-5dfe70267b39",
            "metadata": {},
            "outputs": [],
            "source": []
        },
        {
            "cell_type": "code",
            "execution_count": null,
            "id": "fa9d3849-b46a-4736-87b9-a56d4c3f333c",
            "metadata": {},
            "outputs": [],
            "source": []
        },
        {
            "cell_type": "code",
            "execution_count": null,
            "id": "def2dafe-5dc8-46c7-bdb2-5dafef3f09b7",
            "metadata": {},
            "outputs": [],
            "source": []
        },
        {
            "cell_type": "code",
            "execution_count": null,
            "id": "0ffe6f09-df4c-48fb-8d73-b701adc4fa4a",
            "metadata": {},
            "outputs": [],
            "source": []
        },
        {
            "cell_type": "markdown",
            "id": "38194a7d-6007-40fd-86e6-006d47593af6",
            "metadata": {},
            "source": [
                "### Slovakia"
            ]
        },
        {
            "cell_type": "code",
            "execution_count": 109,
            "id": "8a95e92c-24c2-4cc7-a863-5df6586b63e6",
            "metadata": {},
            "outputs": [],
            "source": [
                "slovakia = gpd.read_parquet(DATADIR + regions[1]).to_crs(epsg=3035)"
            ]
        },
        {
            "cell_type": "code",
            "execution_count": 110,
            "id": "a03db6ce-89ed-4d3a-9808-8f68c4051b07",
            "metadata": {},
            "outputs": [
                {
                    "data": {
                        "text/plain": [
                            "(3563020, 31)"
                        ]
                    },
                    "execution_count": 110,
                    "metadata": {},
                    "output_type": "execute_result"
                }
            ],
            "source": [
                "slovakia.shape"
            ]
        },
        {
            "cell_type": "code",
            "execution_count": 111,
            "id": "e4bdb349-1c4c-4b56-af3c-ca26f3e2accb",
            "metadata": {
                "scrolled": true
            },
            "outputs": [
                {
                    "data": {
                        "text/plain": [
                            "Index(['id', 'localId', 'namespace', 'versionId', 'beginLifeSpanVersion',\n",
                            "       'endLifeSpanVersion', 'geographicalName', 'conditionOfConstruction',\n",
                            "       'dateOfConstruction', 'anyPoint', 'elevation', 'informationSystem',\n",
                            "       'reference', 'heightAboveGround', 'heightAboveGround_uom', 'status',\n",
                            "       'heightReference', 'lowReference', 'buildingNature', 'currentUse',\n",
                            "       'percentage', 'numberOfDwellings', 'numberOfBuildingUnits',\n",
                            "       'numberOfFloorsAboveGround', 'horizontalGeometryReference',\n",
                            "       'verticalGeometryReference', 'horizontalGeometryEstimatedAccuracy',\n",
                            "       'horizontalGeometryEstimatedAccuracy_uom',\n",
                            "       'verticalGeometryEstimatedAccuracy',\n",
                            "       'verticalGeometryEstimatedAccuracy_uom', 'geometry'],\n",
                            "      dtype='object')"
                        ]
                    },
                    "execution_count": 111,
                    "metadata": {},
                    "output_type": "execute_result"
                }
            ],
            "source": [
                "slovakia.columns"
            ]
        },
        {
            "cell_type": "code",
            "execution_count": 112,
            "id": "2eb79114-fbf6-4b15-948d-b52e6029c01d",
            "metadata": {},
            "outputs": [
                {
                    "data": {
                        "text/plain": [
                            "array(['http://inspire.ec.europa.eu/codelist/BuildingNatureValue/storageTank',\n",
                            "       None,\n",
                            "       'http://inspire.ec.europa.eu/codelist/BuildingNatureValue/shed',\n",
                            "       'http://inspire.ec.europa.eu/codelist/BuildingNatureValue/stadium',\n",
                            "       'http://inspire.ec.europa.eu/codelist/BuildingNatureValue/greenhouse',\n",
                            "       'http://inspire.ec.europa.eu/codelist/BuildingNatureValue/church',\n",
                            "       'http://inspire.ec.europa.eu/codelist/BuildingNatureValue/chapel',\n",
                            "       'http://inspire.ec.europa.eu/codelist/BuildingNatureValue/castle',\n",
                            "       'http://inspire.ec.europa.eu/codelist/BuildingNatureValue/synagogue',\n",
                            "       'http://inspire.ec.europa.eu/codelist/BuildingNatureValue/template',\n",
                            "       'http://inspire.ec.europa.eu/codelist/BuildingNatureValue/mosque',\n",
                            "       'http://inspire.ec.europa.eu/codelist/BuildingNatureValue/silo',\n",
                            "       'http://inspire.ec.europa.eu/codelist/BuildingNatureValue/tower',\n",
                            "       'http://inspire.ec.europa.eu/codelist/BuildingNatureValue/transformer'],\n",
                            "      dtype=object)"
                        ]
                    },
                    "execution_count": 112,
                    "metadata": {},
                    "output_type": "execute_result"
                }
            ],
            "source": [
                "slovakia['buildingNature'].unique()"
            ]
        },
        {
            "cell_type": "code",
            "execution_count": 113,
            "id": "019449ae-67e5-4706-ad36-61dda02ccf4d",
            "metadata": {},
            "outputs": [
                {
                    "data": {
                        "text/plain": [
                            "array(['http://inspire.ec.europa.eu/codelist/CurrentUseValue/industrial',\n",
                            "       None,\n",
                            "       'http://inspire.ec.europa.eu/codelist/CurrentUseValue/ancillary',\n",
                            "       'http://inspire.ec.europa.eu/codelist/CurrentUseValue/individualResidence',\n",
                            "       'http://inspire.ec.europa.eu/codelist/CurrentUseValue/publicServices',\n",
                            "       'http://inspire.ec.europa.eu/codelist/CurrentUseValue/agriculture',\n",
                            "       'http://inspire.ec.europa.eu/codelist/CurrentUseValue/office',\n",
                            "       'http://inspire.ec.europa.eu/codelist/CurrentUseValue/commerceAndServices',\n",
                            "       'http://inspire.ec.europa.eu/codelist/CurrentUseValue/trade',\n",
                            "       'http://inspire.ec.europa.eu/codelist/CurrentUseValue/residential',\n",
                            "       'http://inspire.ec.europa.eu/codelist/CurrentUseValue/residenceForCommunities'],\n",
                            "      dtype=object)"
                        ]
                    },
                    "execution_count": 113,
                    "metadata": {},
                    "output_type": "execute_result"
                }
            ],
            "source": [
                "slovakia['currentUse'].unique()"
            ]
        },
        {
            "cell_type": "code",
            "execution_count": 114,
            "id": "752980fd-219d-411b-ad33-0677292b8890",
            "metadata": {},
            "outputs": [
                {
                    "data": {
                        "text/plain": [
                            "np.int64(214809)"
                        ]
                    },
                    "execution_count": 114,
                    "metadata": {},
                    "output_type": "execute_result"
                }
            ],
            "source": [
                "slovakia['heightAboveGround'].isna().sum()"
            ]
        },
        {
            "cell_type": "code",
            "execution_count": null,
            "id": "01f23e27-64ea-4158-b64b-14e0deb3ca0c",
            "metadata": {},
            "outputs": [],
            "source": []
        },
        {
            "cell_type": "code",
            "execution_count": null,
            "id": "1dcfeed2-ab10-4385-b062-c3a0752e2787",
            "metadata": {},
            "outputs": [],
            "source": []
        },
        {
            "cell_type": "code",
            "execution_count": null,
            "id": "f148c012-bf31-4d10-854b-d195db48b722",
            "metadata": {},
            "outputs": [],
            "source": []
        },
        {
            "cell_type": "code",
            "execution_count": 115,
            "id": "61baa97d-5354-4b9f-b0b4-66493db8b878",
            "metadata": {},
            "outputs": [],
            "source": [
                "# centroids = slovakia.geometry.representative_point().to_frame().reset_index()\n",
                "# centroids['currentUse'] = slovakia['currentUse']\n",
                "# centroids['buildingNature'] = slovakia['buildingNature']"
            ]
        },
        {
            "cell_type": "code",
            "execution_count": 116,
            "id": "614a87db-10f8-42e7-8211-5e5bd413c23d",
            "metadata": {},
            "outputs": [],
            "source": [
                "\n",
                "# layer = lonboard.ScatterplotLayer.from_geopandas(centroids)\n",
                "# sc = Sidecar(title='Final Clusters')\n",
                "# m = lonboard.Map(layer, basemap_style=lonboard.basemap.CartoBasemap.Positron)\n",
                "# with sc:\n",
                "#     display(m)"
            ]
        },
        {
            "cell_type": "code",
            "execution_count": null,
            "id": "b7f0fd3a-6c33-439d-b5d8-47dd95614b19",
            "metadata": {},
            "outputs": [],
            "source": []
        },
        {
            "cell_type": "code",
            "execution_count": null,
            "id": "6909e8ef-82aa-4209-afb2-7c040ab624c8",
            "metadata": {},
            "outputs": [],
            "source": []
        },
        {
            "cell_type": "code",
            "execution_count": null,
            "id": "e29e0e84-f926-429e-9b90-cbf5cf415434",
            "metadata": {},
            "outputs": [],
            "source": []
        },
        {
            "cell_type": "markdown",
            "id": "e2d6717a-1fb7-4384-8f15-8f04199bc068",
            "metadata": {},
            "source": [
                "### Poland"
            ]
        },
        {
            "cell_type": "code",
            "execution_count": null,
            "id": "acc06400-e51a-4bc4-8382-7dcd46b2b7be",
            "metadata": {},
            "outputs": [],
            "source": []
        },
        {
            "cell_type": "code",
            "execution_count": 117,
            "id": "8e8a2190-eab8-433c-b7a4-919db18ca48b",
            "metadata": {},
            "outputs": [],
            "source": [
                "poland = gpd.read_parquet(DATADIR + regions[2])"
            ]
        },
        {
            "cell_type": "code",
            "execution_count": 118,
            "id": "1330f2ef-201d-4c17-af27-4d25cf68ab5b",
            "metadata": {},
            "outputs": [
                {
                    "data": {
                        "text/plain": [
                            "(15387645, 14)"
                        ]
                    },
                    "execution_count": 118,
                    "metadata": {},
                    "output_type": "execute_result"
                }
            ],
            "source": [
                "poland.shape"
            ]
        },
        {
            "cell_type": "code",
            "execution_count": 119,
            "id": "4d2abdc7-259a-40f5-a92d-7fa5c979f146",
            "metadata": {},
            "outputs": [
                {
                    "data": {
                        "text/plain": [
                            "Index(['gml_id', 'identifier', 'beginLifespanVersion', 'localId', 'namespace',\n",
                            "       'versionId', 'percentage', 'numberOfFloorsAboveGround',\n",
                            "       'referenceGeometry', 'horizontalGeometryEstimatedAccuracy',\n",
                            "       'horizontalGeometryEstimatedAccuracy_uom',\n",
                            "       'horizontalGeometryEstimatedAccuracy_', 'geometry',\n",
                            "       'geometry2D|BuildingGeometry2D|horizontalGeometryEstimatedAccuracy'],\n",
                            "      dtype='object')"
                        ]
                    },
                    "execution_count": 119,
                    "metadata": {},
                    "output_type": "execute_result"
                }
            ],
            "source": [
                "poland.columns"
            ]
        },
        {
            "cell_type": "code",
            "execution_count": 120,
            "id": "2aed1177-9afb-4ef5-8f74-864968f13345",
            "metadata": {},
            "outputs": [],
            "source": [
                "poland['currentUse'] = None\n",
                "poland['buildingNature'] = None\n",
                "poland['heightAboveGround'] = None"
            ]
        },
        {
            "cell_type": "code",
            "execution_count": null,
            "id": "45e29653-0179-4824-a85d-512eaf4d4b66",
            "metadata": {},
            "outputs": [],
            "source": []
        },
        {
            "cell_type": "code",
            "execution_count": 121,
            "id": "8718bd8f-8125-43ab-b19f-b8e7c7528878",
            "metadata": {},
            "outputs": [],
            "source": [
                "# centroids = poland.geometry.representative_point().to_frame().reset_index()"
            ]
        },
        {
            "cell_type": "code",
            "execution_count": 122,
            "id": "6aed23ff-4945-4efe-a8c7-967547e665fa",
            "metadata": {},
            "outputs": [],
            "source": [
                "\n",
                "# layer = lonboard.ScatterplotLayer.from_geopandas(centroids)\n",
                "# sc = Sidecar(title='Final Clusters')\n",
                "# m = lonboard.Map(layer, basemap_style=lonboard.basemap.CartoBasemap.Positron)\n",
                "# with sc:\n",
                "#     display(m)"
            ]
        },
        {
            "cell_type": "code",
            "execution_count": 123,
            "id": "69e6360e-3145-4555-a227-7f74b7b00fb9",
            "metadata": {},
            "outputs": [],
            "source": [
                "# sc = Sidecar(title='Final Clusters')\n",
                "# m = lonboard.Map(layer, basemap_style=lonboard.basemap.CartoBasemap.Positron)\n",
                "# with sc:\n",
                "#     display(m)"
            ]
        },
        {
            "cell_type": "code",
            "execution_count": null,
            "id": "2bb180d9-36f8-421f-8e12-8ea81bbf5084",
            "metadata": {},
            "outputs": [],
            "source": []
        },
        {
            "cell_type": "code",
            "execution_count": null,
            "id": "577d764f-36fa-4090-8505-6e807a3840d5",
            "metadata": {},
            "outputs": [],
            "source": []
        },
        {
            "cell_type": "markdown",
            "id": "ad8688f4-6447-40cb-969f-50f687f052e6",
            "metadata": {},
            "source": [
                "### Czechia"
            ]
        },
        {
            "cell_type": "code",
            "execution_count": 124,
            "id": "b7cfdb7c-514b-4516-a0cf-dd2a2e09dfdf",
            "metadata": {},
            "outputs": [],
            "source": [
                "czechia = gpd.read_parquet(DATADIR + regions[3])"
            ]
        },
        {
            "cell_type": "code",
            "execution_count": 125,
            "id": "3050bfbc-12bb-4724-96d4-4ed068d26305",
            "metadata": {},
            "outputs": [
                {
                    "data": {
                        "text/plain": [
                            "(4274434, 36)"
                        ]
                    },
                    "execution_count": 125,
                    "metadata": {},
                    "output_type": "execute_result"
                }
            ],
            "source": [
                "czechia.shape"
            ]
        },
        {
            "cell_type": "code",
            "execution_count": 126,
            "id": "2e0bfefd-8dec-43c7-8362-0c8cab8429d7",
            "metadata": {},
            "outputs": [
                {
                    "data": {
                        "text/plain": [
                            "Index(['gml_id', 'beginLifespanVersion', 'anyPoint', 'elevation',\n",
                            "       'endLifespanVersion', 'heightAboveGround', 'localId', 'namespace',\n",
                            "       'language', 'sourceOfName', 'pronunciation', 'text', 'script',\n",
                            "       'buildingNature', 'percentage', 'numberOfBuildingUnits',\n",
                            "       'numberOfFloorsAboveGround', 'referenceGeometry',\n",
                            "       'horizontalGeometryEstimatedAccuracy',\n",
                            "       'horizontalGeometryEstimatedAccuracy_uom',\n",
                            "       'buildingInfo|address|AddressRepresentation|adminUnit|GeographicalName|language',\n",
                            "       'buildingInfo|address|AddressRepresentation|adminUnit|GeographicalName|sourceOfName',\n",
                            "       'buildingInfo|address|AddressRepresentation|adminUnit|GeographicalName|spelling|SpellingOfName|text',\n",
                            "       'buildingInfo|address|AddressRepresentation|adminUnit|GeographicalName|spelling|SpellingOfName|script',\n",
                            "       'buildingInfo|address|AddressRepresentation|addressArea|GeographicalName|language',\n",
                            "       'buildingInfo|address|AddressRepresentation|addressArea|GeographicalName|sourceOfName',\n",
                            "       'buildingInfo|address|AddressRepresentation|addressArea|GeographicalName|spelling|SpellingOfName|text',\n",
                            "       'buildingInfo|address|AddressRepresentation|addressArea|GeographicalName|spelling|SpellingOfName|script',\n",
                            "       'value', 'value_uom', 'officialValue', 'floorDistribution',\n",
                            "       'dateOfConstruction', 'addressArea', 'officialArea', 'geometry'],\n",
                            "      dtype='object')"
                        ]
                    },
                    "execution_count": 126,
                    "metadata": {},
                    "output_type": "execute_result"
                }
            ],
            "source": [
                "czechia.columns"
            ]
        },
        {
            "cell_type": "code",
            "execution_count": 127,
            "id": "7416b6dc-fdc8-4269-9c06-417b7da50df3",
            "metadata": {},
            "outputs": [
                {
                    "data": {
                        "text/plain": [
                            "array([None], dtype=object)"
                        ]
                    },
                    "execution_count": 127,
                    "metadata": {},
                    "output_type": "execute_result"
                }
            ],
            "source": [
                "czechia['buildingNature'].unique()"
            ]
        },
        {
            "cell_type": "code",
            "execution_count": 128,
            "id": "13cf5621-9376-4cb3-8a76-87341a6232d8",
            "metadata": {},
            "outputs": [
                {
                    "data": {
                        "text/plain": [
                            "array([None], dtype=object)"
                        ]
                    },
                    "execution_count": 128,
                    "metadata": {},
                    "output_type": "execute_result"
                }
            ],
            "source": [
                "czechia['heightAboveGround'].unique()"
            ]
        },
        {
            "cell_type": "code",
            "execution_count": 129,
            "id": "90af7990-2b00-41e8-94e3-0eed24e5eaab",
            "metadata": {},
            "outputs": [],
            "source": [
                "czechia['currentUse'] = None\n"
            ]
        },
        {
            "cell_type": "code",
            "execution_count": 130,
            "id": "444fe2d7-a27d-4607-b38c-4b7f835c9830",
            "metadata": {},
            "outputs": [],
            "source": [
                "# centroids = czechia.geometry.representative_point().to_frame().reset_index()\n",
                "# centroids['buildingNature'] = czechia['buildingNature']"
            ]
        },
        {
            "cell_type": "code",
            "execution_count": 131,
            "id": "72bfea22-c3bc-4c5f-89c5-75ef4f1eecb5",
            "metadata": {},
            "outputs": [],
            "source": [
                "\n",
                "# layer = lonboard.ScatterplotLayer.from_geopandas(centroids)\n",
                "# sc = Sidecar(title='Final Clusters')\n",
                "# m = lonboard.Map(layer, basemap_style=lonboard.basemap.CartoBasemap.Positron)\n",
                "# with sc:\n",
                "#     display(m)"
            ]
        },
        {
            "cell_type": "code",
            "execution_count": null,
            "id": "22826eb2-600e-4344-8379-09d40757e7e0",
            "metadata": {},
            "outputs": [],
            "source": []
        },
        {
            "cell_type": "code",
            "execution_count": null,
            "id": "a8e4482e-ab8a-4ce7-963e-a7d816d84678",
            "metadata": {},
            "outputs": [],
            "source": []
        },
        {
            "cell_type": "markdown",
            "id": "0cb63bb1-0024-47f6-9b32-8502b08a7067",
            "metadata": {},
            "source": [
                "### Merge all data"
            ]
        },
        {
            "cell_type": "code",
            "execution_count": null,
            "id": "5f4651e2-afc0-41b9-ad81-9636afd24e1c",
            "metadata": {},
            "outputs": [],
            "source": []
        },
        {
            "cell_type": "code",
            "execution_count": 132,
            "id": "c9f58beb-6d5c-434d-a692-2c995793c40c",
            "metadata": {},
            "outputs": [],
            "source": [
                "subset = ['currentUse', 'buildingNature', 'heightAboveGround', 'geometry']"
            ]
        },
        {
            "cell_type": "code",
            "execution_count": 133,
            "id": "fa16737f-d366-4f87-9e6a-fc46b47c59c1",
            "metadata": {},
            "outputs": [],
            "source": [
                "all_gdfs = [all_germany, poland, austria, czechia, slovakia]"
            ]
        },
        {
            "cell_type": "code",
            "execution_count": 134,
            "id": "f4a03a02-9399-4f72-8d94-dda0bd1352d1",
            "metadata": {},
            "outputs": [
                {
                    "name": "stderr",
                    "output_type": "stream",
                    "text": [
                        "<timed exec>:1: FutureWarning: The behavior of DataFrame concatenation with empty or all-NA entries is deprecated. In a future version, this will no longer exclude empty or all-NA columns when determining the result dtypes. To retain the old behavior, exclude the relevant entries before the concat operation.\n"
                    ]
                },
                {
                    "name": "stdout",
                    "output_type": "stream",
                    "text": [
                        "CPU times: user 29.1 s, sys: 1.36 s, total: 30.4 s\n",
                        "Wall time: 30.3 s\n"
                    ]
                }
            ],
            "source": [
                "%%time\n",
                "all_buildings = pd.concat((gdf[subset] for gdf in all_gdfs), ignore_index=True)"
            ]
        },
        {
            "cell_type": "code",
            "execution_count": 135,
            "id": "8a265780-df00-4136-ba81-69b2bc45573a",
            "metadata": {},
            "outputs": [
                {
                    "data": {
                        "text/plain": [
                            "(88504772, 4)"
                        ]
                    },
                    "execution_count": 135,
                    "metadata": {},
                    "output_type": "execute_result"
                }
            ],
            "source": [
                "all_buildings.shape"
            ]
        },
        {
            "cell_type": "code",
            "execution_count": null,
            "id": "2d233065-7aeb-4db1-ad3b-d25a115f755c",
            "metadata": {},
            "outputs": [],
            "source": []
        },
        {
            "cell_type": "code",
            "execution_count": 136,
            "id": "049c6ebf-2093-4bb3-8839-6612114aa75a",
            "metadata": {},
            "outputs": [],
            "source": [
                "all_buildings.to_parquet('/data/uscuni-ulce/buildings_standardised/merged_ce_buildings.pq')"
            ]
        },
        {
            "cell_type": "code",
            "execution_count": null,
            "id": "22c1c67b-f55f-4487-9924-359aaa22268e",
            "metadata": {},
            "outputs": [],
            "source": []
        },
        {
            "cell_type": "code",
            "execution_count": null,
            "id": "8ee68272-eeb5-4aad-adc7-f5301a1ce6ae",
            "metadata": {},
            "outputs": [],
            "source": []
        },
        {
            "cell_type": "code",
            "execution_count": null,
            "id": "802eac3f-37c1-485d-8ba4-4b0ebfd79d72",
            "metadata": {},
            "outputs": [],
            "source": []
        },
        {
            "cell_type": "code",
            "execution_count": null,
            "id": "42a888c1-c9ab-4986-a0e8-56bdc39a256d",
            "metadata": {},
            "outputs": [],
            "source": []
        }
    ],
    "metadata": {
        "kernelspec": {
            "display_name": "Python 3 (ipykernel)",
            "language": "python",
            "name": "python3"
        },
        "language_info": {
            "codemirror_mode": {
                "name": "ipython",
                "version": 3
            },
            "file_extension": ".py",
            "mimetype": "text/x-python",
            "name": "python",
            "nbconvert_exporter": "python",
            "pygments_lexer": "ipython3",
            "version": "3.12.5"
        }
    },
    "nbformat": 4,
    "nbformat_minor": 5
}