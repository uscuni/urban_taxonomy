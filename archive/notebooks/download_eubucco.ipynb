{
 "cells": [
  {
   "cell_type": "markdown",
   "metadata": {},
   "source": [
    "# Download data from EUBUCCO database\n",
    "\n",
    "Using the EUBUCCO database of buildings v0.1 retrieved via API. The same is available from https://eubucco.com and DOI 10.5281/zenodo.7225259."
   ]
  },
  {
   "cell_type": "code",
   "execution_count": 1,
   "metadata": {},
   "outputs": [
    {
     "name": "stderr",
     "output_type": "stream",
     "text": [
      "/tmp/ipykernel_773/3649037064.py:8: UserWarning: Shapely 2.0 is installed, but because PyGEOS is also installed, GeoPandas will still use PyGEOS by default for now. To force to use and test Shapely 2.0, you have to set the environment variable USE_PYGEOS=0. You can do this before starting the Python process, or in your code before importing geopandas:\n",
      "\n",
      "import os\n",
      "os.environ['USE_PYGEOS'] = '0'\n",
      "import geopandas\n",
      "\n",
      "In a future release, GeoPandas will switch to using Shapely by default. If you are using PyGEOS directly (calling PyGEOS functions on geometries from GeoPandas), this will then stop working and you are encouraged to migrate from PyGEOS to Shapely 2.0 (https://shapely.readthedocs.io/en/latest/migration_pygeos.html).\n",
      "  import geopandas\n"
     ]
    },
    {
     "data": {
      "text/plain": [
       "'1.0'"
      ]
     },
     "execution_count": 1,
     "metadata": {},
     "output_type": "execute_result"
    }
   ],
   "source": [
    "import os\n",
    "import pathlib\n",
    "import shutil\n",
    "import zipfile\n",
    "\n",
    "import geopandas\n",
    "import pooch\n",
    "import requests\n",
    "\n",
    "os.getenv(\"DOCKER_ENV_VERSION\")"
   ]
  },
  {
   "cell_type": "markdown",
   "metadata": {},
   "source": [
    "Query API to get all available countries."
   ]
  },
  {
   "cell_type": "code",
   "execution_count": 2,
   "metadata": {},
   "outputs": [],
   "source": [
    "r = requests.get(\"https://api.eubucco.com/v0.1/countries\")"
   ]
  },
  {
   "cell_type": "markdown",
   "metadata": {},
   "source": [
    "Retrieve each file, extract, copy to a storage and save Parquets with x, y coordinates of centroids as an input for DBSCAN."
   ]
  },
  {
   "cell_type": "code",
   "execution_count": 3,
   "metadata": {},
   "outputs": [],
   "source": [
    "def parse_country(country):\n",
    "    subset = [file for file in r.json() if country in file[\"name\"]]\n",
    "    for s, file in enumerate(subset):\n",
    "        path = pooch.retrieve(\n",
    "            file[\"gpkg\"][\"download_link\"],\n",
    "            known_hash=None,\n",
    "            processor=pooch.Unzip(),\n",
    "            progressbar=True,\n",
    "        )\n",
    "        for i, part in enumerate(path):\n",
    "            copied = False\n",
    "            if part.endswith(\"zip\"):\n",
    "                with zipfile.ZipFile(part, \"r\") as zip_ref:\n",
    "                    zip_ref.extractall(\"/data/uscuni-ulce/eubucco_raw/\")\n",
    "                    part = \"/data/uscuni-ulce/eubucco_raw/\" + pathlib.Path(part).stem\n",
    "                    copied = True\n",
    "            df = geopandas.read_file(part, engine=\"pyogrio\", columns=[\"id\", \"geometry\"])\n",
    "            centroid = df.centroid\n",
    "            df[\"x\"] = centroid.x\n",
    "            df[\"y\"] = centroid.y\n",
    "            df[[\"id\", \"x\", \"y\"]].to_parquet(\n",
    "                f\"/data/uscuni-ulce/centroids/{pathlib.Path(part).stem}.parquet\",\n",
    "            )\n",
    "\n",
    "            if not copied:\n",
    "                shutil.copy2(part, \"/data/uscuni-ulce/eubucco_raw/\")"
   ]
  },
  {
   "cell_type": "markdown",
   "metadata": {},
   "source": [
    "Calls are split due to possible memory issues."
   ]
  },
  {
   "cell_type": "code",
   "execution_count": null,
   "metadata": {},
   "outputs": [],
   "source": [
    "parse_country(\"Austria\")"
   ]
  },
  {
   "cell_type": "code",
   "execution_count": null,
   "metadata": {},
   "outputs": [],
   "source": [
    "parse_country(\"Slovakia\")"
   ]
  },
  {
   "cell_type": "code",
   "execution_count": null,
   "metadata": {},
   "outputs": [],
   "source": [
    "parse_country(\"Czechia\")"
   ]
  },
  {
   "cell_type": "code",
   "execution_count": null,
   "metadata": {},
   "outputs": [],
   "source": [
    "parse_country(\"Poland\")"
   ]
  },
  {
   "cell_type": "code",
   "execution_count": null,
   "metadata": {},
   "outputs": [],
   "source": [
    "parse_country(\"Germany\")"
   ]
  }
 ],
 "metadata": {
  "kernelspec": {
   "display_name": "Python 3 (ipykernel)",
   "language": "python",
   "name": "python3"
  },
  "language_info": {
   "codemirror_mode": {
    "name": "ipython",
    "version": 3
   },
   "file_extension": ".py",
   "mimetype": "text/x-python",
   "name": "python",
   "nbconvert_exporter": "python",
   "pygments_lexer": "ipython3",
   "version": "3.10.8"
  },
  "vscode": {
   "interpreter": {
    "hash": "e638ee48dcbef6755393250e3bbdd6f6e4a0a82f0e0239da8ed839fd1ec7be98"
   }
  }
 },
 "nbformat": 4,
 "nbformat_minor": 4
}
