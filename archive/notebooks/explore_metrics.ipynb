{
 "cells": [
  {
   "cell_type": "code",
   "execution_count": 1,
   "id": "1d002b3a-6682-48f0-8354-76c1c21a850e",
   "metadata": {},
   "outputs": [
    {
     "name": "stdout",
     "output_type": "stream",
     "text": [
      "CPU times: user 11 s, sys: 395 ms, total: 11.4 s\n",
      "Wall time: 9.07 s\n"
     ]
    }
   ],
   "source": [
    "%%time\n",
    "\n",
    "import glob\n",
    "\n",
    "import geopandas as gpd\n",
    "import matplotlib.pyplot as plt\n",
    "import numba\n",
    "import numpy as np\n",
    "import pandas as pd\n",
    "from libpysal.graph import read_parquet\n",
    "from sklearn.preprocessing import PowerTransformer, RobustScaler, StandardScaler\n",
    "\n",
    "from fast_hdbscan.numba_kdtree import kdtree_to_numba\n",
    "from fast_hdbscan.numba_kdtree import parallel_tree_query\n",
    "from sklearn.neighbors import KDTree"
   ]
  },
  {
   "cell_type": "code",
   "execution_count": 2,
   "id": "c59411f6-89ce-4b32-a3a5-b9bb57e907e5",
   "metadata": {},
   "outputs": [],
   "source": [
    "region_id = 69300\n",
    "\n",
    "tessellations_dir = '/data/uscuni-ulce/processed_data/tessellations/'\n",
    "chars_dir = \"/data/uscuni-ulce/processed_data/chars/\"\n",
    "graph_dir = \"/data/uscuni-ulce/processed_data/neigh_graphs/\""
   ]
  },
  {
   "cell_type": "code",
   "execution_count": 3,
   "id": "4eb97e71-5717-445c-9cb0-fa06e2243f23",
   "metadata": {},
   "outputs": [],
   "source": [
    "X_train = pd.read_parquet(chars_dir + f'primary_chars_{region_id}.parquet')\n",
    "X_train = X_train[X_train.index >= 0]\n"
   ]
  },
  {
   "cell_type": "code",
   "execution_count": 7,
   "id": "d233a376-2761-4ea3-98e6-dff1cab32815",
   "metadata": {},
   "outputs": [
    {
     "data": {
      "text/plain": [
       "0         127.597664\n",
       "1          52.955441\n",
       "2          42.766552\n",
       "3         125.082615\n",
       "4          17.892685\n",
       "             ...    \n",
       "299059     75.225865\n",
       "299060     99.143049\n",
       "299061    208.004116\n",
       "299062     75.241771\n",
       "299063    116.559504\n",
       "Name: sdbAre, Length: 299064, dtype: float64"
      ]
     },
     "execution_count": 7,
     "metadata": {},
     "output_type": "execute_result"
    }
   ],
   "source": [
    "X_train['sdbAre']"
   ]
  },
  {
   "cell_type": "code",
   "execution_count": null,
   "id": "b8ec8f10-77fe-42f0-9b94-fb48f05ea93e",
   "metadata": {},
   "outputs": [],
   "source": []
  },
  {
   "cell_type": "code",
   "execution_count": null,
   "id": "74f0c7bb-ac20-4922-afac-4f4c7ca41619",
   "metadata": {},
   "outputs": [],
   "source": []
  },
  {
   "cell_type": "code",
   "execution_count": null,
   "id": "5638a382-56c4-4886-a1a8-2d1b3fdca573",
   "metadata": {},
   "outputs": [],
   "source": []
  },
  {
   "cell_type": "code",
   "execution_count": 13,
   "id": "927091ae-f3ad-4712-b8d3-824b5fb31a4b",
   "metadata": {},
   "outputs": [],
   "source": [
    "from fast_hdbscan.boruvka import parallel_boruvka\n",
    "from fast_hdbscan.cluster_trees import (\n",
    "    cluster_tree_from_condensed_tree,\n",
    "    condense_tree,\n",
    "    extract_eom_clusters,\n",
    "    get_cluster_label_vector,\n",
    "    mst_to_linkage_tree,\n",
    ")\n",
    "from fast_hdbscan.numba_kdtree import kdtree_to_numba\n",
    "from sklearn.neighbors import KDTree"
   ]
  },
  {
   "cell_type": "code",
   "execution_count": null,
   "id": "2d1a6a93-78f4-4ec1-a4b9-21190fba1a2a",
   "metadata": {},
   "outputs": [],
   "source": []
  },
  {
   "cell_type": "code",
   "execution_count": 36,
   "id": "b2511259-e267-440b-beb7-a3368fe1353d",
   "metadata": {},
   "outputs": [],
   "source": [
    "min_cluster_size = 1000"
   ]
  },
  {
   "cell_type": "code",
   "execution_count": 50,
   "id": "530c0130-d0a0-4ef4-bc3f-62288ed80744",
   "metadata": {},
   "outputs": [],
   "source": [
    "vals = np.nan_to_num(X_train)\n",
    "X_train = pd.DataFrame(vals, columns=X_train.columns, index=X_train.index)"
   ]
  },
  {
   "cell_type": "code",
   "execution_count": 51,
   "id": "e3a353eb-6df2-4124-b588-d3c92a717f8b",
   "metadata": {},
   "outputs": [
    {
     "name": "stdout",
     "output_type": "stream",
     "text": [
      "sdbAre 11\n",
      "sdbPer 4\n",
      "sdbCoA 1\n",
      "ssbCCo 46\n",
      "ssbCor 16\n",
      "ssbSqu 37\n",
      "ssbERI 16\n",
      "ssbElo 7\n",
      "ssbCCM 3\n",
      "ssbCCD 11\n",
      "stbOri 43\n",
      "mtbSWR 5\n",
      "libNCo 6\n",
      "ldbPWL 26\n",
      "ltcBuA 27\n",
      "mtbAli 3\n",
      "mtbNDi 5\n",
      "ltbIBD 3\n",
      "stbCeA 45\n",
      "stbSAl 28\n",
      "sdsLen 22\n",
      "sssLin 59\n",
      "ldsMSL 24\n",
      "ldsRea 129\n",
      "ldsAre 52\n",
      "sisBpM 10\n",
      "sdsSPW 30\n",
      "sdsSPO 77\n",
      "sdsSWD 59\n",
      "mtdDeg 6\n",
      "lcdMes 123\n",
      "linP3W 111\n",
      "linP4W 107\n",
      "linPDE 122\n",
      "lcnClo 16\n",
      "lddNDe 61\n",
      "linWID 55\n",
      "ldsCDL 52\n",
      "xcnSCl 21\n",
      "mtdMDi 43\n",
      "sddAre 62\n",
      "midRea 94\n",
      "midAre 20\n",
      "stcOri 4\n",
      "sdcLAL 3\n",
      "sdcAre 3\n",
      "sscCCo 3\n",
      "sscERI 3\n",
      "mtcWNe 3\n",
      "mdcAre 4\n",
      "ltcWRB 4\n",
      "sicCAR 3\n",
      "stcSAl 55\n",
      "ldkAre 58\n",
      "ldkPer 70\n",
      "lskCCo 85\n",
      "lskERI 73\n",
      "lskCWA 71\n",
      "ltkOri 81\n",
      "ltkWNB 71\n",
      "likWBB 74\n",
      "sdsAre 53\n",
      "likWCe 87\n"
     ]
    }
   ],
   "source": [
    "res = []\n",
    "for i in range(X_train.shape[1]):\n",
    "    sklearn_tree = KDTree(X_train.iloc[:, [i]])\n",
    "    numba_tree = kdtree_to_numba(sklearn_tree)\n",
    "    edges = parallel_boruvka(numba_tree, min_samples=min_cluster_size)\n",
    "    sorted_mst = edges[np.argsort(edges.T[2])]\n",
    "    linkage_tree = mst_to_linkage_tree(sorted_mst)\n",
    "    \n",
    "    condensed_tree = condense_tree(linkage_tree, min_cluster_size=min_cluster_size)\n",
    "    cluster_tree = cluster_tree_from_condensed_tree(condensed_tree)\n",
    "    selected_clusters = extract_eom_clusters(\n",
    "        condensed_tree, cluster_tree, allow_single_cluster=False\n",
    "    )\n",
    "    clusters = get_cluster_label_vector(condensed_tree, selected_clusters, 0)\n",
    "    res.append(clusters)\n",
    "\n",
    "    print(X_train.columns[i], np.unique(clusters).shape[0])\n"
   ]
  },
  {
   "cell_type": "code",
   "execution_count": null,
   "id": "c1ed3df3-a649-4bc4-b1bf-fa95efb27cb8",
   "metadata": {},
   "outputs": [],
   "source": []
  },
  {
   "cell_type": "code",
   "execution_count": null,
   "id": "80ae3cd5-d4ef-4d56-be3c-251942ce7546",
   "metadata": {},
   "outputs": [],
   "source": []
  },
  {
   "cell_type": "code",
   "execution_count": null,
   "id": "5b98d0b0-c994-4ea1-8b36-b1721ee78a2d",
   "metadata": {},
   "outputs": [],
   "source": []
  },
  {
   "cell_type": "code",
   "execution_count": null,
   "id": "c935ce1a-6ffc-4761-9e66-b8b113e35842",
   "metadata": {},
   "outputs": [],
   "source": []
  },
  {
   "cell_type": "code",
   "execution_count": null,
   "id": "7c05d3b5-873d-49cb-b131-4be3305a4e70",
   "metadata": {},
   "outputs": [],
   "source": []
  },
  {
   "cell_type": "code",
   "execution_count": null,
   "id": "808d35a2-6437-49b6-9692-0833479f0dc2",
   "metadata": {},
   "outputs": [],
   "source": []
  },
  {
   "cell_type": "code",
   "execution_count": null,
   "id": "34bb0642-b1cb-413b-a953-7b72c1c102ae",
   "metadata": {},
   "outputs": [],
   "source": []
  },
  {
   "cell_type": "code",
   "execution_count": null,
   "id": "50cc47b8-d74c-4647-9283-c420288f1dd0",
   "metadata": {},
   "outputs": [],
   "source": []
  },
  {
   "cell_type": "code",
   "execution_count": null,
   "id": "cb600af1-305b-4af3-a008-d06451c4d99d",
   "metadata": {},
   "outputs": [],
   "source": []
  },
  {
   "cell_type": "code",
   "execution_count": null,
   "id": "6ad53376-c6c3-44c3-80ef-f41968c0ddba",
   "metadata": {},
   "outputs": [],
   "source": []
  },
  {
   "cell_type": "code",
   "execution_count": 55,
   "id": "759e2770-b6f3-41e3-aeb0-1176ac33712c",
   "metadata": {},
   "outputs": [],
   "source": [
    "from core.cluster_validation import get_feature_importance, generate_detailed_clusters"
   ]
  },
  {
   "cell_type": "code",
   "execution_count": 56,
   "id": "d58978a4-26aa-4647-b2aa-653684250b82",
   "metadata": {},
   "outputs": [],
   "source": [
    "tessellation = gpd.read_parquet(\n",
    "        tessellations_dir + f\"tessellation_{region_id}.parquet\"\n",
    ")"
   ]
  },
  {
   "cell_type": "code",
   "execution_count": 57,
   "id": "1e52fb2e-b734-4fdc-a192-67d3864d9de6",
   "metadata": {},
   "outputs": [
    {
     "data": {
      "text/plain": [
       "4.3201251547917"
      ]
     },
     "execution_count": 57,
     "metadata": {},
     "output_type": "execute_result"
    }
   ],
   "source": [
    "tess_groups = generate_detailed_clusters(tessellation,\n",
    "                                         include_random_sample=False)\n",
    "tess_groups = tess_groups[tess_groups.index.isin(X_train.index)]\n",
    "tess_groups_ilocs = (\n",
    "    pd.Series(np.arange(len(X_train)), index=X_train.index)\n",
    "    .loc[tess_groups.index]\n",
    "    .values\n",
    ")\n",
    "\n",
    "from sklearn.metrics import davies_bouldin_score\n",
    "def check_score(data, example_clusters):\n",
    "    groups = example_clusters[example_clusters.index.isin(data.index)]\n",
    "    groups_ilocs = (\n",
    "        pd.Series(np.arange(len(data)), index=data.index).loc[groups.index].values\n",
    "    )\n",
    "    return davies_bouldin_score(data.iloc[groups_ilocs], groups.values)\n",
    "\n",
    "check_score(X_train, tess_groups)"
   ]
  },
  {
   "cell_type": "code",
   "execution_count": 58,
   "id": "a4cdf59f-23a9-4628-bd7d-a35d2291a390",
   "metadata": {
    "scrolled": true
   },
   "outputs": [
    {
     "name": "stderr",
     "output_type": "stream",
     "text": [
      "[Parallel(n_jobs=-1)]: Using backend ThreadingBackend with 20 concurrent workers.\n",
      "[Parallel(n_jobs=-1)]: Done   4 out of  10 | elapsed:    0.0s remaining:    0.0s\n",
      "[Parallel(n_jobs=-1)]: Done  10 out of  10 | elapsed:    0.0s finished\n",
      "[Parallel(n_jobs=-1)]: Using backend ThreadingBackend with 20 concurrent workers.\n",
      "[Parallel(n_jobs=-1)]: Done   4 out of  10 | elapsed:    0.0s remaining:    0.0s\n",
      "[Parallel(n_jobs=-1)]: Done  10 out of  10 | elapsed:    0.0s finished\n",
      "[Parallel(n_jobs=-1)]: Using backend ThreadingBackend with 20 concurrent workers.\n",
      "[Parallel(n_jobs=-1)]: Done   4 out of  10 | elapsed:    0.0s remaining:    0.0s\n",
      "[Parallel(n_jobs=-1)]: Done  10 out of  10 | elapsed:    0.0s finished\n",
      "[Parallel(n_jobs=-1)]: Using backend ThreadingBackend with 20 concurrent workers.\n",
      "[Parallel(n_jobs=-1)]: Done   4 out of  10 | elapsed:    0.0s remaining:    0.0s\n",
      "[Parallel(n_jobs=-1)]: Done  10 out of  10 | elapsed:    0.0s finished\n",
      "[Parallel(n_jobs=-1)]: Using backend ThreadingBackend with 20 concurrent workers.\n",
      "[Parallel(n_jobs=-1)]: Done   4 out of  10 | elapsed:    0.0s remaining:    0.0s\n",
      "[Parallel(n_jobs=-1)]: Done  10 out of  10 | elapsed:    0.0s finished\n",
      "[Parallel(n_jobs=-1)]: Using backend ThreadingBackend with 20 concurrent workers.\n",
      "[Parallel(n_jobs=-1)]: Done   4 out of  10 | elapsed:    0.0s remaining:    0.0s\n",
      "[Parallel(n_jobs=-1)]: Done  10 out of  10 | elapsed:    0.0s finished\n",
      "[Parallel(n_jobs=-1)]: Using backend ThreadingBackend with 20 concurrent workers.\n",
      "[Parallel(n_jobs=-1)]: Done   4 out of  10 | elapsed:    0.0s remaining:    0.0s\n",
      "[Parallel(n_jobs=-1)]: Done  10 out of  10 | elapsed:    0.0s finished\n",
      "[Parallel(n_jobs=-1)]: Using backend ThreadingBackend with 20 concurrent workers.\n",
      "[Parallel(n_jobs=-1)]: Done   4 out of  10 | elapsed:    0.0s remaining:    0.0s\n",
      "[Parallel(n_jobs=-1)]: Done  10 out of  10 | elapsed:    0.0s finished\n",
      "[Parallel(n_jobs=-1)]: Using backend ThreadingBackend with 20 concurrent workers.\n",
      "[Parallel(n_jobs=-1)]: Done   4 out of  10 | elapsed:    0.0s remaining:    0.0s\n",
      "[Parallel(n_jobs=-1)]: Done  10 out of  10 | elapsed:    0.0s finished\n",
      "[Parallel(n_jobs=-1)]: Using backend ThreadingBackend with 20 concurrent workers.\n",
      "[Parallel(n_jobs=-1)]: Done   4 out of  10 | elapsed:    0.0s remaining:    0.0s\n",
      "[Parallel(n_jobs=-1)]: Done  10 out of  10 | elapsed:    0.0s finished\n",
      "[Parallel(n_jobs=-1)]: Using backend ThreadingBackend with 20 concurrent workers.\n",
      "[Parallel(n_jobs=-1)]: Done   4 out of  10 | elapsed:    0.0s remaining:    0.0s\n",
      "[Parallel(n_jobs=-1)]: Done  10 out of  10 | elapsed:    0.0s finished\n",
      "[Parallel(n_jobs=-1)]: Using backend ThreadingBackend with 20 concurrent workers.\n",
      "[Parallel(n_jobs=-1)]: Done   4 out of  10 | elapsed:    0.0s remaining:    0.0s\n",
      "[Parallel(n_jobs=-1)]: Done  10 out of  10 | elapsed:    0.0s finished\n",
      "[Parallel(n_jobs=-1)]: Using backend ThreadingBackend with 20 concurrent workers.\n",
      "[Parallel(n_jobs=-1)]: Done   4 out of  10 | elapsed:    0.0s remaining:    0.0s\n",
      "[Parallel(n_jobs=-1)]: Done  10 out of  10 | elapsed:    0.0s finished\n",
      "[Parallel(n_jobs=-1)]: Using backend ThreadingBackend with 20 concurrent workers.\n",
      "[Parallel(n_jobs=-1)]: Done   4 out of  10 | elapsed:    0.0s remaining:    0.0s\n",
      "[Parallel(n_jobs=-1)]: Done  10 out of  10 | elapsed:    0.0s finished\n",
      "[Parallel(n_jobs=-1)]: Using backend ThreadingBackend with 20 concurrent workers.\n",
      "[Parallel(n_jobs=-1)]: Done   4 out of  10 | elapsed:    0.0s remaining:    0.0s\n",
      "[Parallel(n_jobs=-1)]: Done  10 out of  10 | elapsed:    0.0s finished\n",
      "[Parallel(n_jobs=-1)]: Using backend ThreadingBackend with 20 concurrent workers.\n",
      "[Parallel(n_jobs=-1)]: Done   4 out of  10 | elapsed:    0.0s remaining:    0.0s\n",
      "[Parallel(n_jobs=-1)]: Done  10 out of  10 | elapsed:    0.0s finished\n",
      "[Parallel(n_jobs=-1)]: Using backend ThreadingBackend with 20 concurrent workers.\n",
      "[Parallel(n_jobs=-1)]: Done   4 out of  10 | elapsed:    0.0s remaining:    0.0s\n",
      "[Parallel(n_jobs=-1)]: Done  10 out of  10 | elapsed:    0.0s finished\n",
      "[Parallel(n_jobs=-1)]: Using backend ThreadingBackend with 20 concurrent workers.\n",
      "[Parallel(n_jobs=-1)]: Done   4 out of  10 | elapsed:    0.0s remaining:    0.0s\n",
      "[Parallel(n_jobs=-1)]: Done  10 out of  10 | elapsed:    0.0s finished\n",
      "[Parallel(n_jobs=-1)]: Using backend ThreadingBackend with 20 concurrent workers.\n",
      "[Parallel(n_jobs=-1)]: Done   4 out of  10 | elapsed:    0.0s remaining:    0.0s\n",
      "[Parallel(n_jobs=-1)]: Done  10 out of  10 | elapsed:    0.0s finished\n",
      "[Parallel(n_jobs=-1)]: Using backend ThreadingBackend with 20 concurrent workers.\n",
      "[Parallel(n_jobs=-1)]: Done   4 out of  10 | elapsed:    0.0s remaining:    0.0s\n",
      "[Parallel(n_jobs=-1)]: Done  10 out of  10 | elapsed:    0.0s finished\n"
     ]
    }
   ],
   "source": [
    "imps = get_feature_importance(X_train.iloc[tess_groups_ilocs], tess_groups.values) "
   ]
  },
  {
   "cell_type": "code",
   "execution_count": 70,
   "id": "ef50290d-7d6a-4b52-b969-560be0ecf939",
   "metadata": {},
   "outputs": [
    {
     "data": {
      "text/plain": [
       "cluster_commie blocks vn_vals        0.904575\n",
       "cluster_fancy commie blocks_vals     0.920511\n",
       "cluster_holyne_vals                  0.863776\n",
       "cluster_housing blocks_vals          0.832241\n",
       "cluster_housing houses_vals          0.820851\n",
       "cluster_josefov_vals                 0.830666\n",
       "cluster_karlin IT offices_vals       0.888425\n",
       "cluster_karlin old_vals              0.916720\n",
       "cluster_karlin river offices_vals    0.914667\n",
       "cluster_karlin square_vals           0.836318\n",
       "cluster_mala strana_vals             0.855983\n",
       "cluster_malesice_vals                0.934919\n",
       "cluster_prague castle_vals           0.813969\n",
       "cluster_row houses1_vals             0.903431\n",
       "cluster_row houses2_vals             0.983296\n",
       "cluster_smickov_vals                 0.836964\n",
       "cluster_stare mesto_vals             0.833912\n",
       "cluster_vinohrady blocks_vals        0.925373\n",
       "cluster_vinohrady squares_vals       0.960631\n",
       "cluster_vinohrady villas_vals        0.885074\n",
       "dtype: float64"
      ]
     },
     "execution_count": 70,
     "metadata": {},
     "output_type": "execute_result"
    }
   ],
   "source": [
    "cutoff = 25\n",
    "imps.iloc[:cutoff, 1::2].sum(axis=0)"
   ]
  },
  {
   "cell_type": "code",
   "execution_count": 73,
   "id": "11d3f68d-ee3c-435e-88fb-356b93855d6d",
   "metadata": {},
   "outputs": [
    {
     "data": {
      "text/plain": [
       "['sdbCoA', 'ssbERI', 'mtdDeg', 'sscERI']"
      ]
     },
     "execution_count": 73,
     "metadata": {},
     "output_type": "execute_result"
    }
   ],
   "source": [
    "un = np.unique(imps.iloc[:cutoff, 0::2].values)\n",
    "[c for c in X_train.columns if c not in un]"
   ]
  },
  {
   "cell_type": "code",
   "execution_count": null,
   "id": "f1b4844e-9801-4313-8438-aa126507d327",
   "metadata": {},
   "outputs": [],
   "source": []
  },
  {
   "cell_type": "code",
   "execution_count": null,
   "id": "76dfc083-19a6-4781-a625-5182f14fc2d3",
   "metadata": {},
   "outputs": [],
   "source": []
  },
  {
   "cell_type": "code",
   "execution_count": null,
   "id": "b84a2a73-75b7-4960-8867-2d92cbacaf62",
   "metadata": {},
   "outputs": [],
   "source": []
  },
  {
   "cell_type": "code",
   "execution_count": null,
   "id": "0fbbd7ad-dcea-48bc-86ac-07cce4583c70",
   "metadata": {},
   "outputs": [],
   "source": []
  }
 ],
 "metadata": {
  "kernelspec": {
   "display_name": "Python 3 (ipykernel)",
   "language": "python",
   "name": "python3"
  },
  "language_info": {
   "codemirror_mode": {
    "name": "ipython",
    "version": 3
   },
   "file_extension": ".py",
   "mimetype": "text/x-python",
   "name": "python",
   "nbconvert_exporter": "python",
   "pygments_lexer": "ipython3",
   "version": "3.12.4"
  }
 },
 "nbformat": 4,
 "nbformat_minor": 5
}
