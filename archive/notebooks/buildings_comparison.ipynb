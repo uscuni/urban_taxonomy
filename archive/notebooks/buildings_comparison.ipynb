{
 "cells": [
  {
   "cell_type": "code",
   "execution_count": null,
   "id": "8da3a11f-8f8a-4023-bb2d-a0feee467e05",
   "metadata": {},
   "outputs": [],
   "source": []
  },
  {
   "cell_type": "code",
   "execution_count": 1,
   "id": "68290813-d660-40db-805a-5724ece19d09",
   "metadata": {},
   "outputs": [],
   "source": [
    "import geopandas as gpd\n",
    "import pandas as pd\n",
    "import numpy as np\n",
    "import momepy as mm"
   ]
  },
  {
   "cell_type": "code",
   "execution_count": null,
   "id": "c086b300-9947-4e10-b52c-8a621d035504",
   "metadata": {},
   "outputs": [],
   "source": []
  },
  {
   "cell_type": "code",
   "execution_count": null,
   "id": "e5bcacfc-bc65-473b-bf16-6c1e776fd1e5",
   "metadata": {},
   "outputs": [],
   "source": []
  },
  {
   "cell_type": "code",
   "execution_count": null,
   "id": "9fd8e1c3-e6d6-4636-bc21-1dd7641933ca",
   "metadata": {},
   "outputs": [],
   "source": []
  },
  {
   "cell_type": "markdown",
   "id": "f98f0aa1-a127-451f-83d3-9c3524ff3129",
   "metadata": {},
   "source": [
    "## Cadastre"
   ]
  },
  {
   "cell_type": "code",
   "execution_count": 2,
   "id": "43b93c13-4679-453b-825b-7180c11ee70d",
   "metadata": {},
   "outputs": [],
   "source": [
    "\n",
    "region_id = 5883\n",
    "val_path = '../data/freiburg_morphotopes.pq'"
   ]
  },
  {
   "cell_type": "code",
   "execution_count": 3,
   "id": "e0b54658-91b7-4a11-8e2b-561321a200c8",
   "metadata": {},
   "outputs": [],
   "source": [
    "\n",
    "etcs = gpd.read_parquet(f'/data/uscuni-ulce/processed_data/chars/tessellations_chars_{region_id}.parquet')\n",
    "tess = gpd.read_parquet(f'/data/uscuni-ulce/processed_data/chars/tessellations_chars_{region_id}.parquet')\n",
    "buildings = gpd.read_parquet(f'/data/uscuni-ulce/processed_data/chars/buildings_chars_{region_id}.parquet')\n",
    "streets = gpd.read_parquet(f'/data/uscuni-ulce/processed_data/chars/streets_chars_{region_id}.parquet')\n",
    "nodes = gpd.read_parquet(f'/data/uscuni-ulce/processed_data/chars/nodes_chars_{region_id}.parquet')\n",
    "primary = pd.read_parquet(f'/data/uscuni-ulce/processed_data/chars/primary_chars_{region_id}.parquet')"
   ]
  },
  {
   "cell_type": "code",
   "execution_count": null,
   "id": "11466e0a-908e-4d7d-805f-7a246db49638",
   "metadata": {},
   "outputs": [],
   "source": []
  },
  {
   "cell_type": "code",
   "execution_count": null,
   "id": "85f3b71f-69ad-47cf-8409-5fd8fb377915",
   "metadata": {},
   "outputs": [],
   "source": []
  },
  {
   "cell_type": "code",
   "execution_count": null,
   "id": "b52eb4e1-4ba3-445a-aa87-d671850b9a64",
   "metadata": {},
   "outputs": [],
   "source": []
  },
  {
   "cell_type": "code",
   "execution_count": 4,
   "id": "d6e3097d-f7d6-4d61-853c-64070313d01f",
   "metadata": {},
   "outputs": [],
   "source": [
    "### for freiburg\n",
    "from core.cluster_validation import generate_detailed_clusters\n",
    "from core.utils import used_keys\n",
    "\n",
    "morphotopes = generate_detailed_clusters(etcs, path = val_path)\n",
    "morphotope_etcs = primary.loc[morphotopes.index]\n",
    "morphotope_etcs['mlabel'] = morphotopes.values"
   ]
  },
  {
   "cell_type": "code",
   "execution_count": null,
   "id": "77aad91f-5608-4729-aaa1-1687b060b244",
   "metadata": {},
   "outputs": [],
   "source": []
  },
  {
   "cell_type": "code",
   "execution_count": 5,
   "id": "940af059-f9f5-4371-a6f7-92981c7a7fcc",
   "metadata": {},
   "outputs": [],
   "source": [
    "# morphotope_etcs['types'] = morphotope_etcs['mlabel']\n",
    "\n",
    "morphotope_etcs['types'] = morphotope_etcs['mlabel'].str.split('_').str[-1]"
   ]
  },
  {
   "cell_type": "code",
   "execution_count": 6,
   "id": "297e3b52-239f-42fd-9cd9-1aff81d2cdfd",
   "metadata": {},
   "outputs": [],
   "source": [
    "# morphotope_etcs['types'] = morphotope_etcs['mlabel']\n",
    "morphotopes = generate_detailed_clusters(etcs, path = val_path)\n",
    "morphotope_etcs = buildings.loc[morphotopes.index]\n",
    "morphotope_etcs['mlabel'] = morphotopes.values\n",
    "morphotope_etcs['types'] = morphotope_etcs['mlabel'].str.split('_').str[-1]"
   ]
  },
  {
   "cell_type": "code",
   "execution_count": null,
   "id": "f47e4971-aad5-4ca2-b72d-d2bae40d8fd4",
   "metadata": {},
   "outputs": [],
   "source": [
    "morphotope_etcs[morphotope_etcs.index >= 0].explore(column='types', prefer_canvas=True, tiles='cartodbpositron')"
   ]
  },
  {
   "cell_type": "code",
   "execution_count": null,
   "id": "af3b55d2-2e99-4f09-83fd-6876fe988490",
   "metadata": {},
   "outputs": [],
   "source": []
  },
  {
   "cell_type": "code",
   "execution_count": null,
   "id": "ca67d5c7-7b99-453c-aa69-9a4a38e1f1cf",
   "metadata": {},
   "outputs": [],
   "source": []
  },
  {
   "cell_type": "code",
   "execution_count": null,
   "id": "3745e9f0-2895-42b1-a9d9-63ea7f8b6300",
   "metadata": {},
   "outputs": [],
   "source": []
  },
  {
   "cell_type": "code",
   "execution_count": null,
   "id": "503afc2a-1aca-4b9b-accc-fd2234a9caac",
   "metadata": {},
   "outputs": [],
   "source": []
  },
  {
   "cell_type": "code",
   "execution_count": null,
   "id": "0f5df8de-fce3-4d32-8df3-ae7c22eef69d",
   "metadata": {},
   "outputs": [],
   "source": []
  }
 ],
 "metadata": {
  "kernelspec": {
   "display_name": "Python 3 (ipykernel)",
   "language": "python",
   "name": "python3"
  },
  "language_info": {
   "codemirror_mode": {
    "name": "ipython",
    "version": 3
   },
   "file_extension": ".py",
   "mimetype": "text/x-python",
   "name": "python",
   "nbconvert_exporter": "python",
   "pygments_lexer": "ipython3",
   "version": "3.12.8"
  }
 },
 "nbformat": 4,
 "nbformat_minor": 5
}
