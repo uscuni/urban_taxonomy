{
 "cells": [
  {
   "cell_type": "code",
   "execution_count": 16,
   "id": "45d99973-31b0-4180-b94e-400faab29abd",
   "metadata": {},
   "outputs": [],
   "source": [
    "import datetime\n",
    "import gc\n",
    "import glob\n",
    "\n",
    "import geopandas as gpd\n",
    "import momepy as mm\n",
    "import numpy as np\n",
    "import pandas as pd\n",
    "import shapely\n",
    "from libpysal.graph import Graph\n",
    "from shapely import coverage_simplify"
   ]
  },
  {
   "cell_type": "code",
   "execution_count": 17,
   "id": "42299567-15c6-4a56-817f-429368ca8957",
   "metadata": {},
   "outputs": [],
   "source": [
    "regions_datadir = \"/data/uscuni-ulce/\""
   ]
  },
  {
   "cell_type": "code",
   "execution_count": 18,
   "id": "002e997f-c2eb-4bdd-baf0-6cf471985d7d",
   "metadata": {},
   "outputs": [],
   "source": [
    "tesselation_files = glob.glob(regions_datadir + \"tesselations/*.parquet\")"
   ]
  },
  {
   "cell_type": "code",
   "execution_count": null,
   "id": "694bf8d3-0412-4636-b87a-20a28ea304ce",
   "metadata": {},
   "outputs": [],
   "source": [
    "building_region_mapping = pd.read_parquet(\n",
    "    regions_datadir + \"regions/\" + \"id_to_region.parquet\", engine=\"pyarrow\"\n",
    ")\n",
    "typed_dict = pd.Series(\n",
    "    np.arange(building_region_mapping[\"id\"].values.shape[0]),\n",
    "    index=building_region_mapping[\"id\"].values,\n",
    ")\n",
    "region_ids = building_region_mapping.groupby(\"region\")[\"id\"].unique()\n",
    "del building_region_mapping  # its 2/3 gb\n",
    "region_hulls = gpd.read_parquet(regions_datadir + \"regions/\" + \"regions_hull.parquet\")"
   ]
  },
  {
   "cell_type": "code",
   "execution_count": 19,
   "id": "bfb2ecdc-f976-4592-9085-1c68fc044b8b",
   "metadata": {},
   "outputs": [],
   "source": [
    "def process_tessellation_graph(region_id):\n",
    "    ## tessellation graphs\n",
    "    tessellation = gpd.read_parquet(\n",
    "        f\"/data/uscuni-ulce/tesselations/tesselation_{region_id}.parquet\"\n",
    "    )\n",
    "    simplified_tessellation = coverage_simplify(\n",
    "        tessellation.geometry, 1\n",
    "    )  # wont be needed in the end...\n",
    "\n",
    "    del tessellation\n",
    "    gc.collect()\n",
    "\n",
    "    inputdf = gpd.GeoDataFrame(\n",
    "        {\"geometry\": simplified_tessellation.geoms},\n",
    "        index=tesselation.index,\n",
    "        crs=tesselation.crs,\n",
    "    )\n",
    "\n",
    "    del simplified_tessellation\n",
    "    gc.collect()\n",
    "    print(\"Simplified\", region_id)\n",
    "\n",
    "    graph = Graph.build_contiguity(inputdf, rook=False)\n",
    "    graph.to_parquet(\n",
    "        regions_datadir\n",
    "        + \"neigh_graphs/\"\n",
    "        + f\"tessellation_graph_{region_id}_knn1.parquet\"\n",
    "    )\n",
    "    print(\"Build graph knn=1\", region_id)\n",
    "\n",
    "    gc.collect()\n",
    "\n",
    "    graph3 = graph.higher_order(k=3, lower_order=True)\n",
    "    graph3.to_parquet(\n",
    "        regions_datadir\n",
    "        + \"neigh_graphs/\"\n",
    "        + f\"tessellation_graph_{region_id}_knn3.parquet\"\n",
    "    )\n",
    "    print(\"Build graph knn=3\", region_id)\n",
    "\n",
    "    del graph\n",
    "    del graph3\n",
    "    gc.collect()\n",
    "\n",
    "    buildings, streets = read_data(typed_dict, region_ids, region_hull, region_id)\n",
    "\n",
    "\n",
    "for region_id, region_hull in region_hulls.iterrows():\n",
    "    print(\n",
    "        datetime.datetime.now(),\n",
    "        \"----Processing tesselation------\",\n",
    "        region_id,\n",
    "    )\n",
    "    region_hull = region_hull[\"convex_hull\"]\n",
    "\n",
    "    process_tessellation_graph(region_id)\n",
    "\n",
    "    break"
   ]
  },
  {
   "cell_type": "code",
   "execution_count": 23,
   "id": "d1e4d802-dbf6-4181-a8e8-e1b68dc19a84",
   "metadata": {},
   "outputs": [],
   "source": [
    "inputdf = gpd.GeoDataFrame(\n",
    "    {\"geometry\": simplified_tessellation.geoms},\n",
    "    index=tesselation.index,\n",
    "    crs=tesselation.crs,\n",
    ")"
   ]
  },
  {
   "cell_type": "code",
   "execution_count": 24,
   "id": "4f291662-dae6-4f0d-a08e-ea246705db4c",
   "metadata": {},
   "outputs": [
    {
     "name": "stdout",
     "output_type": "stream",
     "text": [
      "CPU times: user 34.4 s, sys: 676 ms, total: 35.1 s\n",
      "Wall time: 35.1 s\n"
     ]
    }
   ],
   "source": [
    "%%time\n",
    "graph = Graph.build_contiguity(inputdf, rook=False)"
   ]
  },
  {
   "cell_type": "code",
   "execution_count": null,
   "id": "811f72e7-6b89-4a5b-a2c0-c50053093be7",
   "metadata": {},
   "outputs": [],
   "source": [
    "graph.to_parquet(\"data/tessellation_226_simplified.parquet\")"
   ]
  },
  {
   "cell_type": "code",
   "execution_count": null,
   "id": "39a7a49c-0f2d-49ab-99fd-0b25f4c06f87",
   "metadata": {},
   "outputs": [],
   "source": []
  },
  {
   "cell_type": "code",
   "execution_count": 64,
   "id": "b8d3aa1d-859b-4a50-9e19-763090d08c2d",
   "metadata": {},
   "outputs": [],
   "source": [
    "tesselation = gpd.read_parquet(\"/data/uscuni-ulce/tesselations/tesselation_226.parquet\")"
   ]
  },
  {
   "cell_type": "code",
   "execution_count": 65,
   "id": "494a94fe-0c2e-44e6-96e0-5ff30e305a27",
   "metadata": {},
   "outputs": [],
   "source": [
    "# tesselation[tesselation.area > 50_000].reset_index().explore()"
   ]
  },
  {
   "cell_type": "code",
   "execution_count": 66,
   "id": "ec12353d-ef7e-4897-a6d7-6d50bb3d9c3c",
   "metadata": {},
   "outputs": [],
   "source": []
  },
  {
   "cell_type": "code",
   "execution_count": 67,
   "id": "71b2f8f7-70bf-4608-8638-0a82cb8f7c95",
   "metadata": {},
   "outputs": [],
   "source": []
  },
  {
   "cell_type": "code",
   "execution_count": 68,
   "id": "94e5fd2c-b60d-4eda-988b-1909b8174991",
   "metadata": {},
   "outputs": [
    {
     "name": "stdout",
     "output_type": "stream",
     "text": [
      "CPU times: user 16min 55s, sys: 16.9 s, total: 17min 12s\n",
      "Wall time: 17min 12s\n"
     ]
    }
   ],
   "source": [
    "%%time\n",
    "res = coverage_simplify(tesselation.geometry, 1)"
   ]
  },
  {
   "cell_type": "code",
   "execution_count": 72,
   "id": "5cc3bfaa-1641-4333-8114-dcc6fcdbadfd",
   "metadata": {},
   "outputs": [],
   "source": [
    "res = gpd.GeoDataFrame(\n",
    "    {\"geometry\": res.geoms}, index=tesselation.index, crs=tesselation.crs\n",
    ")"
   ]
  },
  {
   "cell_type": "code",
   "execution_count": 75,
   "id": "d6149d59-b7d4-4e27-9df5-99c49e7f1fe4",
   "metadata": {},
   "outputs": [
    {
     "data": {
      "text/plain": [
       "(91535874, 2)"
      ]
     },
     "execution_count": 75,
     "metadata": {},
     "output_type": "execute_result"
    }
   ],
   "source": [
    "shapely.get_coordinates(res).shape"
   ]
  },
  {
   "cell_type": "code",
   "execution_count": 77,
   "id": "33d6ade9-8b43-471e-8d3a-56dbafd41bd7",
   "metadata": {},
   "outputs": [
    {
     "data": {
      "text/plain": [
       "(833311885, 2)"
      ]
     },
     "execution_count": 77,
     "metadata": {},
     "output_type": "execute_result"
    }
   ],
   "source": [
    "shapely.get_coordinates(tesselation.geometry).shape"
   ]
  },
  {
   "cell_type": "code",
   "execution_count": 78,
   "id": "c0e5426b-68b7-4bbb-9d5f-954c8ed466c0",
   "metadata": {},
   "outputs": [
    {
     "data": {
      "text/plain": [
       "0.10984587601315683"
      ]
     },
     "execution_count": 78,
     "metadata": {},
     "output_type": "execute_result"
    }
   ],
   "source": [
    "91535874 / 833311885"
   ]
  },
  {
   "cell_type": "code",
   "execution_count": 63,
   "id": "d12c99a4-ede8-4d8f-b8da-d835032cde13",
   "metadata": {},
   "outputs": [],
   "source": [
    "# m = tesselation.iloc[:1].explore()\n",
    "# m = res.iloc[:1].explore(m=m, color='r')\n",
    "# m"
   ]
  },
  {
   "cell_type": "code",
   "execution_count": null,
   "id": "12bd7125-b740-4b92-b685-f5f20809ccc4",
   "metadata": {},
   "outputs": [],
   "source": [
    "simplified_tessellation = coverage_simplify(\n",
    "    tessellation.geometry, 1\n",
    ")  # wont be needed in the end...\n",
    "tessellation = gpd.GeoDataFrame(\n",
    "    {\"geometry\": simplified_tessellation.geoms},\n",
    "    index=tesselation.index,\n",
    "    crs=tesselation.crs,\n",
    ")"
   ]
  },
  {
   "cell_type": "code",
   "execution_count": null,
   "id": "c2b6e45c-ce8a-401a-a562-1d17b3499d43",
   "metadata": {},
   "outputs": [],
   "source": []
  },
  {
   "cell_type": "code",
   "execution_count": null,
   "id": "82e5837a-b312-4028-a9cb-408780fa0b11",
   "metadata": {},
   "outputs": [],
   "source": []
  },
  {
   "cell_type": "code",
   "execution_count": null,
   "id": "979a5463-9945-4095-b5c7-bdf492116111",
   "metadata": {},
   "outputs": [],
   "source": []
  },
  {
   "cell_type": "code",
   "execution_count": null,
   "id": "796d0f14-d1ab-4de4-81f6-b8cc0a396a74",
   "metadata": {},
   "outputs": [],
   "source": []
  },
  {
   "cell_type": "code",
   "execution_count": 79,
   "id": "9fe5ccba-1199-4756-b8d4-12a002afffa9",
   "metadata": {},
   "outputs": [],
   "source": [
    "res.to_parquet(\"data/tessellation_226_simplified.parquet\")"
   ]
  },
  {
   "cell_type": "code",
   "execution_count": 81,
   "id": "fd9e11ff-9e7b-4017-952b-53e9f886bfae",
   "metadata": {},
   "outputs": [
    {
     "name": "stdout",
     "output_type": "stream",
     "text": [
      "CPU times: user 3min 27s, sys: 4.38 s, total: 3min 32s\n",
      "Wall time: 3min 31s\n"
     ]
    }
   ],
   "source": [
    "graph = Graph.build_contiguity(res, rook=False)"
   ]
  },
  {
   "cell_type": "code",
   "execution_count": 82,
   "id": "c81e8147-3442-418a-97b5-30fc59aa0bd2",
   "metadata": {},
   "outputs": [],
   "source": [
    "graph.to_parquet(\"data/tess_contiguity.parquet\")"
   ]
  },
  {
   "cell_type": "code",
   "execution_count": null,
   "id": "6c07fb6b-db09-4907-b0c9-8d7bdc80cd6f",
   "metadata": {},
   "outputs": [],
   "source": [
    "from libpysal.graph import read_parquet"
   ]
  },
  {
   "cell_type": "code",
   "execution_count": 20,
   "id": "04f5dae1-7a98-4d79-a6a6-66b254effe68",
   "metadata": {},
   "outputs": [],
   "source": [
    "graph = read_parquet(\"data/tess_contiguity.parquet\")"
   ]
  },
  {
   "cell_type": "code",
   "execution_count": 21,
   "id": "f61664f8-cb51-4769-9a3a-540f44185bc0",
   "metadata": {},
   "outputs": [
    {
     "name": "stdout",
     "output_type": "stream",
     "text": [
      "CPU times: user 10min 34s, sys: 46.6 s, total: 11min 21s\n",
      "Wall time: 11min 19s\n"
     ]
    }
   ],
   "source": [
    "%%time\n",
    "graph3 = graph.higher_order(k=3, lower_order=True)"
   ]
  },
  {
   "cell_type": "code",
   "execution_count": null,
   "id": "2ed0be1b-346c-4253-9162-876a4cddddf2",
   "metadata": {},
   "outputs": [],
   "source": []
  },
  {
   "cell_type": "code",
   "execution_count": null,
   "id": "9da82a74-aed4-4846-9160-7176034cc63d",
   "metadata": {},
   "outputs": [],
   "source": []
  },
  {
   "cell_type": "code",
   "execution_count": null,
   "id": "1bd7df74-ee78-4c1f-a1f5-5bc70ba8530d",
   "metadata": {},
   "outputs": [],
   "source": []
  },
  {
   "cell_type": "code",
   "execution_count": null,
   "id": "22746ed5-40d2-46ea-ae15-1c017a63f10c",
   "metadata": {},
   "outputs": [],
   "source": []
  },
  {
   "cell_type": "code",
   "execution_count": 22,
   "id": "bdd8773a-045b-4f13-a0d8-16c45d6bede0",
   "metadata": {},
   "outputs": [],
   "source": [
    "region_hulls = gpd.read_parquet(regions_datadir + \"regions/\" + \"regions_hull.parquet\")"
   ]
  },
  {
   "cell_type": "code",
   "execution_count": 26,
   "id": "b92ff533-4afc-4e65-867d-91e220e9a59d",
   "metadata": {},
   "outputs": [],
   "source": [
    "read_mask = region_hulls.loc[226, \"convex_hull\"].buffer(100)"
   ]
  },
  {
   "cell_type": "code",
   "execution_count": 27,
   "id": "2a9c2e04-b812-49ec-8c96-5e744c83259c",
   "metadata": {},
   "outputs": [],
   "source": [
    "streets = gpd.read_parquet(\n",
    "    regions_datadir + \"streets/central_europe_streets_eubucco_crs.parquet\"\n",
    ")"
   ]
  },
  {
   "cell_type": "code",
   "execution_count": 28,
   "id": "fa35be56-a9ac-4963-9a94-c5e0bef1728f",
   "metadata": {},
   "outputs": [
    {
     "name": "stdout",
     "output_type": "stream",
     "text": [
      "CPU times: user 52.4 s, sys: 160 ms, total: 52.6 s\n",
      "Wall time: 52.5 s\n"
     ]
    }
   ],
   "source": [
    "%%time\n",
    "streets = streets[streets.intersects(read_mask)]"
   ]
  },
  {
   "cell_type": "code",
   "execution_count": null,
   "id": "089724ac-48d6-44f4-ac9d-509da59fafa1",
   "metadata": {},
   "outputs": [],
   "source": []
  },
  {
   "cell_type": "code",
   "execution_count": 32,
   "id": "e2866c00-bf5f-4536-9db4-d8e53a35537f",
   "metadata": {},
   "outputs": [
    {
     "name": "stdout",
     "output_type": "stream",
     "text": [
      "CPU times: user 27.8 s, sys: 388 ms, total: 28.2 s\n",
      "Wall time: 28 s\n"
     ]
    }
   ],
   "source": [
    "%%time\n",
    "graph = mm.gdf_to_nx(streets)"
   ]
  },
  {
   "cell_type": "code",
   "execution_count": 33,
   "id": "428d1d69-10db-43d0-94b2-c50a0e19e8b0",
   "metadata": {},
   "outputs": [
    {
     "name": "stdout",
     "output_type": "stream",
     "text": [
      "CPU times: user 10.8 s, sys: 180 ms, total: 11 s\n",
      "Wall time: 11 s\n"
     ]
    }
   ],
   "source": [
    "%%time\n",
    "graph = mm.node_degree(graph)"
   ]
  },
  {
   "cell_type": "code",
   "execution_count": 34,
   "id": "08bcdf35-5c21-4e9f-b7c7-cf85f4ae5ada",
   "metadata": {},
   "outputs": [
    {
     "name": "stdout",
     "output_type": "stream",
     "text": [
      "CPU times: user 3min 46s, sys: 225 ms, total: 3min 47s\n",
      "Wall time: 3min 46s\n"
     ]
    }
   ],
   "source": [
    "%%time\n",
    "graph = mm.subgraph(\n",
    "    graph,\n",
    "    radius=5,\n",
    "    meshedness=True,\n",
    "    cds_length=False,\n",
    "    mode=\"sum\",\n",
    "    degree=\"degree\",\n",
    "    length=\"mm_len\",\n",
    "    mean_node_degree=False,\n",
    "    proportion={0: True, 3: True, 4: True},\n",
    "    cyclomatic=False,\n",
    "    edge_node_ratio=False,\n",
    "    gamma=False,\n",
    "    local_closeness=True,\n",
    "    closeness_weight=\"mm_len\",\n",
    "    verbose=False,\n",
    ")"
   ]
  },
  {
   "cell_type": "code",
   "execution_count": 35,
   "id": "0468bb40-e1a2-4d12-869b-5a42ee725c56",
   "metadata": {},
   "outputs": [
    {
     "name": "stdout",
     "output_type": "stream",
     "text": [
      "CPU times: user 2min 1s, sys: 260 ms, total: 2min 2s\n",
      "Wall time: 2min 1s\n"
     ]
    }
   ],
   "source": [
    "%%time\n",
    "graph = mm.cds_length(graph, radius=3, name=\"ldsCDL\", verbose=False)"
   ]
  },
  {
   "cell_type": "code",
   "execution_count": 36,
   "id": "800aab81-9d2e-4806-b57c-77cf2c5462cc",
   "metadata": {},
   "outputs": [
    {
     "name": "stdout",
     "output_type": "stream",
     "text": [
      "CPU times: user 13.9 s, sys: 39.6 ms, total: 14 s\n",
      "Wall time: 14 s\n"
     ]
    }
   ],
   "source": [
    "%%time\n",
    "graph = mm.clustering(graph, name=\"xcnSCl\")"
   ]
  },
  {
   "cell_type": "code",
   "execution_count": 37,
   "id": "ebf6fb52-53ca-43b2-b3c1-c22c955aa7fe",
   "metadata": {},
   "outputs": [
    {
     "name": "stdout",
     "output_type": "stream",
     "text": [
      "CPU times: user 19.9 s, sys: 344 ms, total: 20.3 s\n",
      "Wall time: 20.3 s\n"
     ]
    }
   ],
   "source": [
    "%%time\n",
    "graph = mm.mean_node_dist(graph, name=\"mtdMDi\", verbose=False)"
   ]
  },
  {
   "cell_type": "code",
   "execution_count": 38,
   "id": "1e9a0f67-417c-4121-b189-b916a8ffda6a",
   "metadata": {},
   "outputs": [
    {
     "name": "stderr",
     "output_type": "stream",
     "text": [
      "/home/krasen/miniconda3/envs/momepy/lib/python3.12/site-packages/libpysal/weights/weights.py:1685: UserWarning: The weights matrix is not fully connected: \n",
      " There are 600063 disconnected components.\n",
      "  w = W(neighbors, weights, ids, silence_warnings=silence_warnings)\n"
     ]
    },
    {
     "name": "stdout",
     "output_type": "stream",
     "text": [
      "CPU times: user 26.9 s, sys: 12.4 ms, total: 26.9 s\n",
      "Wall time: 26.9 s\n"
     ]
    }
   ],
   "source": [
    "%%time\n",
    "nodes, edges, sw = mm.nx_to_gdf(graph, spatial_weights=True)"
   ]
  },
  {
   "cell_type": "code",
   "execution_count": null,
   "id": "2cfeb707-f8ee-43ab-acb8-72e2ff4380cb",
   "metadata": {},
   "outputs": [],
   "source": []
  },
  {
   "cell_type": "code",
   "execution_count": null,
   "id": "ecc1f893-2194-4d68-a5b2-3d666b042c94",
   "metadata": {},
   "outputs": [],
   "source": []
  },
  {
   "cell_type": "code",
   "execution_count": null,
   "id": "beed8e35-80cd-4cf1-bca5-569765a2d045",
   "metadata": {},
   "outputs": [],
   "source": [
    "## tess 1, 3\n",
    "## buildings 1\n",
    "## edges 1 3\n",
    "## enclosures 1\n",
    "## nodes 1, 5 - from nx.graph\n",
    "\n",
    "\n",
    "##context 10... numba maybe..."
   ]
  },
  {
   "cell_type": "code",
   "execution_count": null,
   "id": "19218c55-00d7-4859-8b7f-bfffb8baccf9",
   "metadata": {},
   "outputs": [],
   "source": []
  },
  {
   "cell_type": "code",
   "execution_count": null,
   "id": "31d08b64-98ce-43f4-b2d4-9f264286f57b",
   "metadata": {},
   "outputs": [],
   "source": []
  },
  {
   "cell_type": "code",
   "execution_count": null,
   "id": "a8a5870f-202a-42e3-81f9-97226da90e4f",
   "metadata": {},
   "outputs": [],
   "source": []
  },
  {
   "cell_type": "code",
   "execution_count": null,
   "id": "585b69a3-f013-4660-9f89-d955c20d58cb",
   "metadata": {},
   "outputs": [],
   "source": [
    "enclosures[\"ldeAre\"] = momepy.Area(enclosures).series\n",
    "enclosures[\"ldePer\"] = momepy.Perimeter(enclosures).series\n",
    "enclosures[\"lseCCo\"] = momepy.CircularCompactness(enclosures, \"ldeAre\").series\n",
    "enclosures[\"lseERI\"] = momepy.EquivalentRectangularIndex(\n",
    "    enclosures, \"ldeAre\", \"ldePer\"\n",
    ").series\n",
    "enclosures[\"lseCWA\"] = momepy.CompactnessWeightedAxis(\n",
    "    enclosures, \"ldeAre\", \"ldePer\"\n",
    ").series\n",
    "enclosures[\"lteOri\"] = momepy.Orientation(enclosures).series\n",
    "\n",
    "blo_q1 = libpysal.weights.contiguity.Queen.from_dataframe(enclosures, ids=\"eID\")\n",
    "\n",
    "\n",
    "### thats mm.node_density...\n",
    "inp, res = enclosures.sindex.query_bulk(enclosures.geometry, predicate=\"intersects\")\n",
    "indices, counts = np.unique(inp, return_counts=True)\n",
    "enclosures[\"neighbors\"] = counts - 1\n",
    "enclosures[\"lteWNB\"] = enclosures[\"neighbors\"] / enclosures[\"ldePer\"]"
   ]
  },
  {
   "cell_type": "code",
   "execution_count": null,
   "id": "578c3e78-0f40-425c-9302-a13d25c28fa6",
   "metadata": {},
   "outputs": [],
   "source": []
  },
  {
   "cell_type": "code",
   "execution_count": null,
   "id": "6f579def-9dc3-42e3-9035-7283fb792c6d",
   "metadata": {},
   "outputs": [],
   "source": [
    "# Measure weighted cells within enclosure\n",
    "encl_counts = tess.groupby(\"eID\").count()\n",
    "merged = enclosures[[\"eID\", \"ldeAre\"]].merge(\n",
    "    encl_counts[[\"tessellation\"]], how=\"left\", on=\"eID\"\n",
    ")\n",
    "enclosures[\"lieWCe\"] = merged[\"tessellation\"] / merged[\"ldeAre\"]"
   ]
  },
  {
   "cell_type": "code",
   "execution_count": null,
   "id": "0ab64565-8486-4529-9128-cfaf6a8ac518",
   "metadata": {},
   "outputs": [],
   "source": []
  },
  {
   "cell_type": "code",
   "execution_count": null,
   "id": "f2a734fd-e706-480a-9b87-0dba99b9faa1",
   "metadata": {},
   "outputs": [],
   "source": [
    "tess[\"ltcWRE\"] = momepy.BlocksCount(tess, \"eID\", queen_3, \"tID\").series"
   ]
  },
  {
   "cell_type": "code",
   "execution_count": null,
   "id": "27d899df-e103-42b2-a79a-405e049edef7",
   "metadata": {},
   "outputs": [],
   "source": []
  },
  {
   "cell_type": "code",
   "execution_count": null,
   "id": "ef0d5dac-63b4-480e-9617-3e6ff47d14ae",
   "metadata": {},
   "outputs": [],
   "source": [
    "# get node id\n",
    "%time links = momepy.get_network_ratio(tess, edges)\n",
    "tess[[\"edgeID_keys2\", \"edgeID_values2\"]] = links\n",
    "%time tess['nodeID'] = momepy.get_node_id(tess, nodes, edges, node_id='nodeID', edge_keys='edgeID_keys2', edge_values='edgeID_values2')"
   ]
  },
  {
   "cell_type": "code",
   "execution_count": null,
   "id": "f181e3d3-08b6-40cd-b6af-4ed47fb6e013",
   "metadata": {},
   "outputs": [],
   "source": [
    "%%time\n",
    "nodes[\"sddAre\"] = momepy.Reached(\n",
    "    nodes, tess, \"nodeID\", \"nodeID\", mode=\"sum\", values=\"sdcAre\"\n",
    ").series"
   ]
  },
  {
   "cell_type": "code",
   "execution_count": null,
   "id": "656779b2-7a79-4046-a6e1-c77d77dd1c15",
   "metadata": {},
   "outputs": [],
   "source": []
  },
  {
   "cell_type": "code",
   "execution_count": null,
   "id": "f501032d-b279-4f88-9d9c-051c0a29167e",
   "metadata": {},
   "outputs": [],
   "source": []
  },
  {
   "cell_type": "code",
   "execution_count": null,
   "id": "3dba1c24-e932-495b-8aa4-5349d54461e7",
   "metadata": {},
   "outputs": [],
   "source": []
  },
  {
   "cell_type": "code",
   "execution_count": null,
   "id": "b57b54d7-a924-483f-816c-5f7d4e1efe95",
   "metadata": {},
   "outputs": [],
   "source": []
  },
  {
   "cell_type": "code",
   "execution_count": null,
   "id": "69ca8114-7345-4a5b-8231-e16194af3757",
   "metadata": {},
   "outputs": [],
   "source": []
  },
  {
   "cell_type": "code",
   "execution_count": 10,
   "id": "02a49044-00a2-4218-8ed5-269a60a9a6d1",
   "metadata": {
    "scrolled": true
   },
   "outputs": [
    {
     "name": "stdout",
     "output_type": "stream",
     "text": [
      "/data/uscuni-ulce/tesselations/tesselation_1554.parquet 3\n",
      "/data/uscuni-ulce/tesselations/tesselation_13224.parquet 4\n",
      "/data/uscuni-ulce/tesselations/tesselation_32541.parquet 4\n",
      "/data/uscuni-ulce/tesselations/tesselation_100115.parquet 81\n",
      "/data/uscuni-ulce/tesselations/tesselation_120665.parquet 12\n",
      "/data/uscuni-ulce/tesselations/tesselation_99170.parquet 13\n",
      "/data/uscuni-ulce/tesselations/tesselation_37812.parquet 9\n",
      "/data/uscuni-ulce/tesselations/tesselation_104389.parquet 23\n",
      "/data/uscuni-ulce/tesselations/tesselation_8191.parquet 3\n",
      "/data/uscuni-ulce/tesselations/tesselation_108009.parquet 6\n",
      "/data/uscuni-ulce/tesselations/tesselation_42925.parquet 6\n",
      "/data/uscuni-ulce/tesselations/tesselation_8754.parquet 210\n",
      "/data/uscuni-ulce/tesselations/tesselation_35468.parquet 3\n",
      "/data/uscuni-ulce/tesselations/tesselation_113651.parquet 42\n",
      "/data/uscuni-ulce/tesselations/tesselation_46214.parquet 31\n",
      "/data/uscuni-ulce/tesselations/tesselation_56119.parquet 10\n",
      "/data/uscuni-ulce/tesselations/tesselation_5287.parquet 4\n",
      "/data/uscuni-ulce/tesselations/tesselation_113224.parquet 19\n",
      "/data/uscuni-ulce/tesselations/tesselation_116071.parquet 1\n",
      "/data/uscuni-ulce/tesselations/tesselation_8886.parquet 1\n",
      "/data/uscuni-ulce/tesselations/tesselation_6370.parquet 26\n",
      "/data/uscuni-ulce/tesselations/tesselation_105945.parquet 10\n",
      "/data/uscuni-ulce/tesselations/tesselation_53726.parquet 28\n",
      "/data/uscuni-ulce/tesselations/tesselation_226.parquet 2695\n",
      "/data/uscuni-ulce/tesselations/tesselation_136678.parquet 15\n",
      "/data/uscuni-ulce/tesselations/tesselation_32935.parquet 16\n",
      "/data/uscuni-ulce/tesselations/tesselation_14040.parquet 4\n",
      "/data/uscuni-ulce/tesselations/tesselation_499.parquet 19\n",
      "/data/uscuni-ulce/tesselations/tesselation_53731.parquet 12\n",
      "/data/uscuni-ulce/tesselations/tesselation_26949.parquet 24\n",
      "/data/uscuni-ulce/tesselations/tesselation_20544.parquet 132\n",
      "/data/uscuni-ulce/tesselations/tesselation_52843.parquet 141\n",
      "/data/uscuni-ulce/tesselations/tesselation_121634.parquet 18\n",
      "/data/uscuni-ulce/tesselations/tesselation_73491.parquet 11\n",
      "/data/uscuni-ulce/tesselations/tesselation_103187.parquet 14\n",
      "/data/uscuni-ulce/tesselations/tesselation_104125.parquet 26\n",
      "/data/uscuni-ulce/tesselations/tesselation_75543.parquet 19\n",
      "/data/uscuni-ulce/tesselations/tesselation_106693.parquet 9\n",
      "/data/uscuni-ulce/tesselations/tesselation_121259.parquet 10\n",
      "/data/uscuni-ulce/tesselations/tesselation_109745.parquet 9\n",
      "/data/uscuni-ulce/tesselations/tesselation_6452.parquet 4\n",
      "/data/uscuni-ulce/tesselations/tesselation_104341.parquet 14\n",
      "/data/uscuni-ulce/tesselations/tesselation_70005.parquet 30\n",
      "/data/uscuni-ulce/tesselations/tesselation_54816.parquet 11\n",
      "/data/uscuni-ulce/tesselations/tesselation_29406.parquet 3\n",
      "/data/uscuni-ulce/tesselations/tesselation_105899.parquet 19\n",
      "/data/uscuni-ulce/tesselations/tesselation_22000.parquet 6\n",
      "/data/uscuni-ulce/tesselations/tesselation_7927.parquet 67\n",
      "/data/uscuni-ulce/tesselations/tesselation_31138.parquet 51\n",
      "/data/uscuni-ulce/tesselations/tesselation_1916.parquet 2\n",
      "/data/uscuni-ulce/tesselations/tesselation_106909.parquet 3\n",
      "/data/uscuni-ulce/tesselations/tesselation_67448.parquet 18\n",
      "/data/uscuni-ulce/tesselations/tesselation_102355.parquet 3\n",
      "/data/uscuni-ulce/tesselations/tesselation_8645.parquet 3\n",
      "/data/uscuni-ulce/tesselations/tesselation_139433.parquet 18\n",
      "/data/uscuni-ulce/tesselations/tesselation_52440.parquet 1\n",
      "/data/uscuni-ulce/tesselations/tesselation_34617.parquet 2\n",
      "/data/uscuni-ulce/tesselations/tesselation_12578.parquet 4\n",
      "/data/uscuni-ulce/tesselations/tesselation_8882.parquet 3\n",
      "/data/uscuni-ulce/tesselations/tesselation_114871.parquet 15\n",
      "/data/uscuni-ulce/tesselations/tesselation_6880.parquet 8\n",
      "/data/uscuni-ulce/tesselations/tesselation_17140.parquet 105\n",
      "/data/uscuni-ulce/tesselations/tesselation_16501.parquet 558\n",
      "/data/uscuni-ulce/tesselations/tesselation_12191.parquet 9\n",
      "/data/uscuni-ulce/tesselations/tesselation_17466.parquet 3\n",
      "/data/uscuni-ulce/tesselations/tesselation_71745.parquet 14\n",
      "/data/uscuni-ulce/tesselations/tesselation_742.parquet 65\n",
      "/data/uscuni-ulce/tesselations/tesselation_84247.parquet 18\n",
      "/data/uscuni-ulce/tesselations/tesselation_23167.parquet 7\n",
      "/data/uscuni-ulce/tesselations/tesselation_112869.parquet 2\n",
      "/data/uscuni-ulce/tesselations/tesselation_10740.parquet 17\n",
      "/data/uscuni-ulce/tesselations/tesselation_61193.parquet 48\n",
      "/data/uscuni-ulce/tesselations/tesselation_7538.parquet 0\n",
      "/data/uscuni-ulce/tesselations/tesselation_68356.parquet 6\n",
      "/data/uscuni-ulce/tesselations/tesselation_6072.parquet 6\n",
      "/data/uscuni-ulce/tesselations/tesselation_124399.parquet 14\n",
      "/data/uscuni-ulce/tesselations/tesselation_12993.parquet 10\n",
      "/data/uscuni-ulce/tesselations/tesselation_15504.parquet 41\n",
      "/data/uscuni-ulce/tesselations/tesselation_45161.parquet 11\n",
      "/data/uscuni-ulce/tesselations/tesselation_65009.parquet 7\n",
      "/data/uscuni-ulce/tesselations/tesselation_3328.parquet 4\n",
      "/data/uscuni-ulce/tesselations/tesselation_80338.parquet 289\n",
      "/data/uscuni-ulce/tesselations/tesselation_127978.parquet 24\n",
      "/data/uscuni-ulce/tesselations/tesselation_98802.parquet 20\n",
      "/data/uscuni-ulce/tesselations/tesselation_82013.parquet 22\n",
      "/data/uscuni-ulce/tesselations/tesselation_13175.parquet 11\n",
      "/data/uscuni-ulce/tesselations/tesselation_101770.parquet 50\n",
      "/data/uscuni-ulce/tesselations/tesselation_13472.parquet 26\n",
      "/data/uscuni-ulce/tesselations/tesselation_55713.parquet 407\n",
      "/data/uscuni-ulce/tesselations/tesselation_7313.parquet 6\n",
      "/data/uscuni-ulce/tesselations/tesselation_45355.parquet 11\n",
      "/data/uscuni-ulce/tesselations/tesselation_86810.parquet 314\n",
      "/data/uscuni-ulce/tesselations/tesselation_119090.parquet 14\n",
      "/data/uscuni-ulce/tesselations/tesselation_110051.parquet 20\n",
      "/data/uscuni-ulce/tesselations/tesselation_77369.parquet 21\n",
      "/data/uscuni-ulce/tesselations/tesselation_62411.parquet 21\n",
      "/data/uscuni-ulce/tesselations/tesselation_57697.parquet 14\n",
      "/data/uscuni-ulce/tesselations/tesselation_41955.parquet 15\n",
      "/data/uscuni-ulce/tesselations/tesselation_98106.parquet 10\n",
      "/data/uscuni-ulce/tesselations/tesselation_57623.parquet 12\n",
      "/data/uscuni-ulce/tesselations/tesselation_100620.parquet 11\n",
      "/data/uscuni-ulce/tesselations/tesselation_11415.parquet 14\n",
      "/data/uscuni-ulce/tesselations/tesselation_15618.parquet 13\n",
      "/data/uscuni-ulce/tesselations/tesselation_11482.parquet 3\n",
      "/data/uscuni-ulce/tesselations/tesselation_7763.parquet 6\n",
      "/data/uscuni-ulce/tesselations/tesselation_22763.parquet 6\n",
      "/data/uscuni-ulce/tesselations/tesselation_128583.parquet 7\n",
      "/data/uscuni-ulce/tesselations/tesselation_13637.parquet 12\n",
      "/data/uscuni-ulce/tesselations/tesselation_48762.parquet 7\n",
      "/data/uscuni-ulce/tesselations/tesselation_3507.parquet 6\n",
      "/data/uscuni-ulce/tesselations/tesselation_86815.parquet 27\n",
      "/data/uscuni-ulce/tesselations/tesselation_17987.parquet 11\n",
      "/data/uscuni-ulce/tesselations/tesselation_29116.parquet 13\n",
      "/data/uscuni-ulce/tesselations/tesselation_16026.parquet 33\n",
      "/data/uscuni-ulce/tesselations/tesselation_103210.parquet 19\n",
      "/data/uscuni-ulce/tesselations/tesselation_15854.parquet 5\n",
      "/data/uscuni-ulce/tesselations/tesselation_1623.parquet 7\n",
      "/data/uscuni-ulce/tesselations/tesselation_16486.parquet 21\n",
      "/data/uscuni-ulce/tesselations/tesselation_38416.parquet 12\n",
      "/data/uscuni-ulce/tesselations/tesselation_36545.parquet 4\n",
      "/data/uscuni-ulce/tesselations/tesselation_17350.parquet 3\n",
      "/data/uscuni-ulce/tesselations/tesselation_104016.parquet 50\n",
      "/data/uscuni-ulce/tesselations/tesselation_117473.parquet 6\n",
      "/data/uscuni-ulce/tesselations/tesselation_15025.parquet 5\n",
      "/data/uscuni-ulce/tesselations/tesselation_13750.parquet 10\n",
      "/data/uscuni-ulce/tesselations/tesselation_36763.parquet 5\n",
      "/data/uscuni-ulce/tesselations/tesselation_12305.parquet 7\n",
      "/data/uscuni-ulce/tesselations/tesselation_139662.parquet 24\n",
      "/data/uscuni-ulce/tesselations/tesselation_49473.parquet 2\n",
      "/data/uscuni-ulce/tesselations/tesselation_47318.parquet 2\n",
      "/data/uscuni-ulce/tesselations/tesselation_109370.parquet 31\n",
      "/data/uscuni-ulce/tesselations/tesselation_91536.parquet 37\n",
      "/data/uscuni-ulce/tesselations/tesselation_8398.parquet 16\n",
      "/data/uscuni-ulce/tesselations/tesselation_111598.parquet 24\n",
      "/data/uscuni-ulce/tesselations/tesselation_13146.parquet 21\n",
      "/data/uscuni-ulce/tesselations/tesselation_53459.parquet 10\n",
      "/data/uscuni-ulce/tesselations/tesselation_1114.parquet 63\n",
      "/data/uscuni-ulce/tesselations/tesselation_65748.parquet 17\n",
      "/data/uscuni-ulce/tesselations/tesselation_35900.parquet 12\n",
      "/data/uscuni-ulce/tesselations/tesselation_110409.parquet 550\n",
      "/data/uscuni-ulce/tesselations/tesselation_29671.parquet 24\n",
      "/data/uscuni-ulce/tesselations/tesselation_23810.parquet 3\n",
      "/data/uscuni-ulce/tesselations/tesselation_87557.parquet 22\n",
      "/data/uscuni-ulce/tesselations/tesselation_102887.parquet 2\n",
      "/data/uscuni-ulce/tesselations/tesselation_43341.parquet 5\n",
      "/data/uscuni-ulce/tesselations/tesselation_130925.parquet 50\n",
      "/data/uscuni-ulce/tesselations/tesselation_105606.parquet 18\n",
      "/data/uscuni-ulce/tesselations/tesselation_88888.parquet 17\n",
      "/data/uscuni-ulce/tesselations/tesselation_26079.parquet 4\n",
      "/data/uscuni-ulce/tesselations/tesselation_75373.parquet 172\n",
      "/data/uscuni-ulce/tesselations/tesselation_110933.parquet 7\n",
      "/data/uscuni-ulce/tesselations/tesselation_88905.parquet 11\n",
      "/data/uscuni-ulce/tesselations/tesselation_33453.parquet 4\n",
      "/data/uscuni-ulce/tesselations/tesselation_23336.parquet 2\n",
      "/data/uscuni-ulce/tesselations/tesselation_50774.parquet 17\n",
      "/data/uscuni-ulce/tesselations/tesselation_87327.parquet 48\n",
      "/data/uscuni-ulce/tesselations/tesselation_6810.parquet 3\n",
      "/data/uscuni-ulce/tesselations/tesselation_92186.parquet 19\n",
      "/data/uscuni-ulce/tesselations/tesselation_38318.parquet 9\n",
      "/data/uscuni-ulce/tesselations/tesselation_68191.parquet 60\n",
      "/data/uscuni-ulce/tesselations/tesselation_15195.parquet 1\n",
      "/data/uscuni-ulce/tesselations/tesselation_48485.parquet 23\n",
      "/data/uscuni-ulce/tesselations/tesselation_15264.parquet 2\n",
      "/data/uscuni-ulce/tesselations/tesselation_110144.parquet 18\n",
      "/data/uscuni-ulce/tesselations/tesselation_19143.parquet 8\n",
      "/data/uscuni-ulce/tesselations/tesselation_70016.parquet 9\n",
      "/data/uscuni-ulce/tesselations/tesselation_66000.parquet 13\n",
      "/data/uscuni-ulce/tesselations/tesselation_131903.parquet 8\n",
      "/data/uscuni-ulce/tesselations/tesselation_111621.parquet 159\n",
      "/data/uscuni-ulce/tesselations/tesselation_11568.parquet 2\n",
      "/data/uscuni-ulce/tesselations/tesselation_61198.parquet 28\n",
      "/data/uscuni-ulce/tesselations/tesselation_40907.parquet 18\n",
      "/data/uscuni-ulce/tesselations/tesselation_100660.parquet 79\n",
      "/data/uscuni-ulce/tesselations/tesselation_40114.parquet 18\n",
      "/data/uscuni-ulce/tesselations/tesselation_10275.parquet 2\n",
      "/data/uscuni-ulce/tesselations/tesselation_132987.parquet 13\n",
      "/data/uscuni-ulce/tesselations/tesselation_131275.parquet 29\n",
      "/data/uscuni-ulce/tesselations/tesselation_12918.parquet 31\n",
      "/data/uscuni-ulce/tesselations/tesselation_34561.parquet 3\n",
      "/data/uscuni-ulce/tesselations/tesselation_110692.parquet 36\n",
      "/data/uscuni-ulce/tesselations/tesselation_67297.parquet 12\n",
      "/data/uscuni-ulce/tesselations/tesselation_7367.parquet 16\n",
      "/data/uscuni-ulce/tesselations/tesselation_43496.parquet 14\n",
      "/data/uscuni-ulce/tesselations/tesselation_16096.parquet 12\n",
      "/data/uscuni-ulce/tesselations/tesselation_43219.parquet 4\n",
      "/data/uscuni-ulce/tesselations/tesselation_31743.parquet 1\n",
      "/data/uscuni-ulce/tesselations/tesselation_118236.parquet 38\n",
      "/data/uscuni-ulce/tesselations/tesselation_130620.parquet 24\n",
      "/data/uscuni-ulce/tesselations/tesselation_79385.parquet 21\n",
      "/data/uscuni-ulce/tesselations/tesselation_76202.parquet 17\n",
      "/data/uscuni-ulce/tesselations/tesselation_71390.parquet 14\n",
      "/data/uscuni-ulce/tesselations/tesselation_110147.parquet 462\n",
      "/data/uscuni-ulce/tesselations/tesselation_120694.parquet 27\n",
      "/data/uscuni-ulce/tesselations/tesselation_64223.parquet 10\n",
      "/data/uscuni-ulce/tesselations/tesselation_78749.parquet 12\n",
      "/data/uscuni-ulce/tesselations/tesselation_18792.parquet 4\n",
      "/data/uscuni-ulce/tesselations/tesselation_19942.parquet 10\n",
      "/data/uscuni-ulce/tesselations/tesselation_53752.parquet 17\n",
      "/data/uscuni-ulce/tesselations/tesselation_22199.parquet 27\n",
      "/data/uscuni-ulce/tesselations/tesselation_102641.parquet 138\n",
      "/data/uscuni-ulce/tesselations/tesselation_60279.parquet 140\n",
      "/data/uscuni-ulce/tesselations/tesselation_19646.parquet 21\n",
      "/data/uscuni-ulce/tesselations/tesselation_15866.parquet 9\n",
      "/data/uscuni-ulce/tesselations/tesselation_58804.parquet 0\n",
      "/data/uscuni-ulce/tesselations/tesselation_10796.parquet 4\n",
      "/data/uscuni-ulce/tesselations/tesselation_64456.parquet 16\n",
      "/data/uscuni-ulce/tesselations/tesselation_15417.parquet 7\n",
      "/data/uscuni-ulce/tesselations/tesselation_11230.parquet 2\n",
      "/data/uscuni-ulce/tesselations/tesselation_31840.parquet 7\n",
      "/data/uscuni-ulce/tesselations/tesselation_109954.parquet 5\n",
      "/data/uscuni-ulce/tesselations/tesselation_60642.parquet 18\n",
      "/data/uscuni-ulce/tesselations/tesselation_51851.parquet 14\n",
      "/data/uscuni-ulce/tesselations/tesselation_49173.parquet 15\n",
      "/data/uscuni-ulce/tesselations/tesselation_64680.parquet 11\n",
      "/data/uscuni-ulce/tesselations/tesselation_28791.parquet 32\n",
      "/data/uscuni-ulce/tesselations/tesselation_25903.parquet 19\n",
      "/data/uscuni-ulce/tesselations/tesselation_5737.parquet 12\n",
      "/data/uscuni-ulce/tesselations/tesselation_127220.parquet 15\n",
      "/data/uscuni-ulce/tesselations/tesselation_41773.parquet 5\n",
      "/data/uscuni-ulce/tesselations/tesselation_43678.parquet 5\n",
      "/data/uscuni-ulce/tesselations/tesselation_56593.parquet 10\n",
      "/data/uscuni-ulce/tesselations/tesselation_56826.parquet 5\n",
      "/data/uscuni-ulce/tesselations/tesselation_74253.parquet 20\n",
      "/data/uscuni-ulce/tesselations/tesselation_120619.parquet 12\n",
      "/data/uscuni-ulce/tesselations/tesselation_50135.parquet 14\n",
      "/data/uscuni-ulce/tesselations/tesselation_21350.parquet 7\n",
      "/data/uscuni-ulce/tesselations/tesselation_140891.parquet 21\n",
      "/data/uscuni-ulce/tesselations/tesselation_4682.parquet 2\n",
      "/data/uscuni-ulce/tesselations/tesselation_268.parquet 2\n",
      "/data/uscuni-ulce/tesselations/tesselation_29036.parquet 6\n",
      "/data/uscuni-ulce/tesselations/tesselation_62237.parquet 5\n",
      "/data/uscuni-ulce/tesselations/tesselation_8096.parquet 29\n",
      "/data/uscuni-ulce/tesselations/tesselation_18546.parquet 6\n",
      "/data/uscuni-ulce/tesselations/tesselation_29489.parquet 0\n",
      "/data/uscuni-ulce/tesselations/tesselation_35054.parquet 25\n",
      "/data/uscuni-ulce/tesselations/tesselation_38978.parquet 9\n",
      "/data/uscuni-ulce/tesselations/tesselation_4256.parquet 16\n",
      "/data/uscuni-ulce/tesselations/tesselation_90229.parquet 21\n",
      "/data/uscuni-ulce/tesselations/tesselation_66009.parquet 3\n",
      "/data/uscuni-ulce/tesselations/tesselation_40268.parquet 2\n",
      "/data/uscuni-ulce/tesselations/tesselation_12790.parquet 0\n",
      "/data/uscuni-ulce/tesselations/tesselation_47295.parquet 10\n",
      "/data/uscuni-ulce/tesselations/tesselation_6355.parquet 2\n",
      "/data/uscuni-ulce/tesselations/tesselation_75983.parquet 69\n",
      "/data/uscuni-ulce/tesselations/tesselation_22078.parquet 14\n",
      "/data/uscuni-ulce/tesselations/tesselation_83544.parquet 23\n",
      "/data/uscuni-ulce/tesselations/tesselation_31002.parquet 34\n",
      "/data/uscuni-ulce/tesselations/tesselation_16471.parquet 12\n",
      "/data/uscuni-ulce/tesselations/tesselation_132220.parquet 263\n",
      "/data/uscuni-ulce/tesselations/tesselation_73507.parquet 4\n",
      "/data/uscuni-ulce/tesselations/tesselation_7003.parquet 24\n",
      "/data/uscuni-ulce/tesselations/tesselation_3312.parquet 24\n",
      "/data/uscuni-ulce/tesselations/tesselation_14355.parquet 168\n",
      "/data/uscuni-ulce/tesselations/tesselation_39491.parquet 6\n",
      "/data/uscuni-ulce/tesselations/tesselation_25292.parquet 21\n",
      "/data/uscuni-ulce/tesselations/tesselation_10681.parquet 19\n",
      "/data/uscuni-ulce/tesselations/tesselation_122263.parquet 29\n",
      "/data/uscuni-ulce/tesselations/tesselation_135893.parquet 50\n",
      "/data/uscuni-ulce/tesselations/tesselation_108082.parquet 5\n",
      "/data/uscuni-ulce/tesselations/tesselation_2844.parquet 12\n",
      "/data/uscuni-ulce/tesselations/tesselation_44015.parquet 6\n",
      "/data/uscuni-ulce/tesselations/tesselation_39486.parquet 8\n",
      "/data/uscuni-ulce/tesselations/tesselation_80246.parquet 32\n",
      "/data/uscuni-ulce/tesselations/tesselation_45727.parquet 8\n",
      "/data/uscuni-ulce/tesselations/tesselation_4240.parquet 4\n",
      "/data/uscuni-ulce/tesselations/tesselation_1734.parquet 34\n",
      "/data/uscuni-ulce/tesselations/tesselation_64097.parquet 11\n",
      "/data/uscuni-ulce/tesselations/tesselation_21062.parquet 14\n",
      "/data/uscuni-ulce/tesselations/tesselation_28924.parquet 4\n",
      "/data/uscuni-ulce/tesselations/tesselation_8739.parquet 4\n",
      "/data/uscuni-ulce/tesselations/tesselation_18735.parquet 3\n",
      "/data/uscuni-ulce/tesselations/tesselation_882.parquet 12\n",
      "/data/uscuni-ulce/tesselations/tesselation_93184.parquet 67\n",
      "/data/uscuni-ulce/tesselations/tesselation_106122.parquet 38\n",
      "/data/uscuni-ulce/tesselations/tesselation_38828.parquet 4\n",
      "/data/uscuni-ulce/tesselations/tesselation_40587.parquet 5\n",
      "/data/uscuni-ulce/tesselations/tesselation_8826.parquet 17\n",
      "/data/uscuni-ulce/tesselations/tesselation_58062.parquet 2\n",
      "/data/uscuni-ulce/tesselations/tesselation_5062.parquet 22\n",
      "/data/uscuni-ulce/tesselations/tesselation_115578.parquet 28\n",
      "/data/uscuni-ulce/tesselations/tesselation_101641.parquet 19\n",
      "/data/uscuni-ulce/tesselations/tesselation_4592.parquet 10\n",
      "/data/uscuni-ulce/tesselations/tesselation_35023.parquet 6\n",
      "/data/uscuni-ulce/tesselations/tesselation_55783.parquet 25\n",
      "/data/uscuni-ulce/tesselations/tesselation_84903.parquet 15\n",
      "/data/uscuni-ulce/tesselations/tesselation_4.parquet 248\n",
      "/data/uscuni-ulce/tesselations/tesselation_74443.parquet 14\n",
      "/data/uscuni-ulce/tesselations/tesselation_44302.parquet 32\n",
      "/data/uscuni-ulce/tesselations/tesselation_126660.parquet 26\n",
      "/data/uscuni-ulce/tesselations/tesselation_35538.parquet 4\n",
      "/data/uscuni-ulce/tesselations/tesselation_19881.parquet 9\n",
      "/data/uscuni-ulce/tesselations/tesselation_7301.parquet 15\n",
      "/data/uscuni-ulce/tesselations/tesselation_69300.parquet 197\n",
      "/data/uscuni-ulce/tesselations/tesselation_118651.parquet 24\n",
      "/data/uscuni-ulce/tesselations/tesselation_32945.parquet 4\n",
      "/data/uscuni-ulce/tesselations/tesselation_135681.parquet 10\n",
      "/data/uscuni-ulce/tesselations/tesselation_36493.parquet 4\n",
      "/data/uscuni-ulce/tesselations/tesselation_8820.parquet 6\n",
      "/data/uscuni-ulce/tesselations/tesselation_46417.parquet 15\n",
      "/data/uscuni-ulce/tesselations/tesselation_71219.parquet 10\n",
      "/data/uscuni-ulce/tesselations/tesselation_27080.parquet 12\n",
      "/data/uscuni-ulce/tesselations/tesselation_22566.parquet 4\n",
      "/data/uscuni-ulce/tesselations/tesselation_126154.parquet 55\n",
      "/data/uscuni-ulce/tesselations/tesselation_94160.parquet 105\n",
      "/data/uscuni-ulce/tesselations/tesselation_27042.parquet 31\n",
      "/data/uscuni-ulce/tesselations/tesselation_28971.parquet 1\n",
      "/data/uscuni-ulce/tesselations/tesselation_109111.parquet 9\n",
      "/data/uscuni-ulce/tesselations/tesselation_47409.parquet 29\n",
      "/data/uscuni-ulce/tesselations/tesselation_91803.parquet 33\n",
      "/data/uscuni-ulce/tesselations/tesselation_42255.parquet 7\n",
      "/data/uscuni-ulce/tesselations/tesselation_86433.parquet 20\n",
      "/data/uscuni-ulce/tesselations/tesselation_98941.parquet 15\n",
      "/data/uscuni-ulce/tesselations/tesselation_122183.parquet 4\n",
      "/data/uscuni-ulce/tesselations/tesselation_124884.parquet 3\n",
      "/data/uscuni-ulce/tesselations/tesselation_32126.parquet 4\n",
      "/data/uscuni-ulce/tesselations/tesselation_103746.parquet 6\n",
      "/data/uscuni-ulce/tesselations/tesselation_16097.parquet 11\n",
      "/data/uscuni-ulce/tesselations/tesselation_44764.parquet 67\n",
      "/data/uscuni-ulce/tesselations/tesselation_122087.parquet 9\n",
      "/data/uscuni-ulce/tesselations/tesselation_40812.parquet 33\n",
      "/data/uscuni-ulce/tesselations/tesselation_124.parquet 0\n",
      "/data/uscuni-ulce/tesselations/tesselation_107685.parquet 3960\n",
      "/data/uscuni-ulce/tesselations/tesselation_111415.parquet 5\n",
      "/data/uscuni-ulce/tesselations/tesselation_27466.parquet 14\n",
      "/data/uscuni-ulce/tesselations/tesselation_24283.parquet 25\n",
      "/data/uscuni-ulce/tesselations/tesselation_49705.parquet 24\n",
      "/data/uscuni-ulce/tesselations/tesselation_105532.parquet 16\n",
      "/data/uscuni-ulce/tesselations/tesselation_10745.parquet 16\n",
      "/data/uscuni-ulce/tesselations/tesselation_11964.parquet 10\n",
      "/data/uscuni-ulce/tesselations/tesselation_2024.parquet 16\n",
      "/data/uscuni-ulce/tesselations/tesselation_3254.parquet 10\n",
      "/data/uscuni-ulce/tesselations/tesselation_22463.parquet 16\n",
      "/data/uscuni-ulce/tesselations/tesselation_69354.parquet 11\n",
      "/data/uscuni-ulce/tesselations/tesselation_32247.parquet 3\n",
      "/data/uscuni-ulce/tesselations/tesselation_56858.parquet 7\n",
      "/data/uscuni-ulce/tesselations/tesselation_5901.parquet 5\n",
      "/data/uscuni-ulce/tesselations/tesselation_45695.parquet 4\n",
      "/data/uscuni-ulce/tesselations/tesselation_3922.parquet 91\n",
      "/data/uscuni-ulce/tesselations/tesselation_27270.parquet 4\n",
      "/data/uscuni-ulce/tesselations/tesselation_133389.parquet 3\n",
      "/data/uscuni-ulce/tesselations/tesselation_126091.parquet 7\n",
      "/data/uscuni-ulce/tesselations/tesselation_47668.parquet 15\n",
      "/data/uscuni-ulce/tesselations/tesselation_9756.parquet 49\n",
      "/data/uscuni-ulce/tesselations/tesselation_12199.parquet 1\n",
      "/data/uscuni-ulce/tesselations/tesselation_10367.parquet 141\n",
      "/data/uscuni-ulce/tesselations/tesselation_41248.parquet 4\n",
      "/data/uscuni-ulce/tesselations/tesselation_3000.parquet 27\n",
      "/data/uscuni-ulce/tesselations/tesselation_24292.parquet 17\n",
      "/data/uscuni-ulce/tesselations/tesselation_57303.parquet 6\n",
      "/data/uscuni-ulce/tesselations/tesselation_3591.parquet 8\n",
      "/data/uscuni-ulce/tesselations/tesselation_73572.parquet 4\n",
      "/data/uscuni-ulce/tesselations/tesselation_115177.parquet 30\n",
      "/data/uscuni-ulce/tesselations/tesselation_115732.parquet 13\n",
      "/data/uscuni-ulce/tesselations/tesselation_67187.parquet 14\n",
      "/data/uscuni-ulce/tesselations/tesselation_68246.parquet 74\n",
      "/data/uscuni-ulce/tesselations/tesselation_44146.parquet 4\n",
      "/data/uscuni-ulce/tesselations/tesselation_133951.parquet 24\n",
      "/data/uscuni-ulce/tesselations/tesselation_6346.parquet 5\n",
      "/data/uscuni-ulce/tesselations/tesselation_55206.parquet 40\n",
      "/data/uscuni-ulce/tesselations/tesselation_47895.parquet 36\n",
      "/data/uscuni-ulce/tesselations/tesselation_1681.parquet 4\n",
      "/data/uscuni-ulce/tesselations/tesselation_19321.parquet 16\n",
      "/data/uscuni-ulce/tesselations/tesselation_73525.parquet 28\n",
      "/data/uscuni-ulce/tesselations/tesselation_130774.parquet 12\n",
      "/data/uscuni-ulce/tesselations/tesselation_34676.parquet 7\n",
      "/data/uscuni-ulce/tesselations/tesselation_39959.parquet 3\n",
      "/data/uscuni-ulce/tesselations/tesselation_39867.parquet 58\n",
      "/data/uscuni-ulce/tesselations/tesselation_48507.parquet 18\n",
      "/data/uscuni-ulce/tesselations/tesselation_63733.parquet 18\n",
      "/data/uscuni-ulce/tesselations/tesselation_65387.parquet 12\n",
      "/data/uscuni-ulce/tesselations/tesselation_5212.parquet 5\n",
      "/data/uscuni-ulce/tesselations/tesselation_39390.parquet 144\n",
      "/data/uscuni-ulce/tesselations/tesselation_374.parquet 1\n",
      "/data/uscuni-ulce/tesselations/tesselation_82434.parquet 23\n",
      "/data/uscuni-ulce/tesselations/tesselation_85197.parquet 21\n",
      "/data/uscuni-ulce/tesselations/tesselation_30945.parquet 0\n",
      "/data/uscuni-ulce/tesselations/tesselation_111618.parquet 3\n",
      "/data/uscuni-ulce/tesselations/tesselation_45290.parquet 6\n",
      "/data/uscuni-ulce/tesselations/tesselation_6689.parquet 0\n",
      "/data/uscuni-ulce/tesselations/tesselation_45110.parquet 42\n",
      "/data/uscuni-ulce/tesselations/tesselation_32333.parquet 11\n",
      "/data/uscuni-ulce/tesselations/tesselation_112292.parquet 7\n",
      "/data/uscuni-ulce/tesselations/tesselation_70039.parquet 32\n",
      "/data/uscuni-ulce/tesselations/tesselation_85522.parquet 16\n",
      "/data/uscuni-ulce/tesselations/tesselation_114118.parquet 16\n",
      "/data/uscuni-ulce/tesselations/tesselation_8068.parquet 2\n",
      "/data/uscuni-ulce/tesselations/tesselation_85090.parquet 20\n",
      "/data/uscuni-ulce/tesselations/tesselation_8174.parquet 4\n",
      "/data/uscuni-ulce/tesselations/tesselation_35289.parquet 8\n",
      "/data/uscuni-ulce/tesselations/tesselation_68290.parquet 11\n",
      "/data/uscuni-ulce/tesselations/tesselation_48251.parquet 5\n",
      "/data/uscuni-ulce/tesselations/tesselation_36363.parquet 3\n",
      "/data/uscuni-ulce/tesselations/tesselation_8054.parquet 23\n",
      "/data/uscuni-ulce/tesselations/tesselation_41107.parquet 10\n",
      "/data/uscuni-ulce/tesselations/tesselation_45043.parquet 3\n",
      "/data/uscuni-ulce/tesselations/tesselation_12371.parquet 3\n",
      "/data/uscuni-ulce/tesselations/tesselation_60417.parquet 35\n",
      "/data/uscuni-ulce/tesselations/tesselation_7499.parquet 2\n",
      "/data/uscuni-ulce/tesselations/tesselation_113540.parquet 29\n",
      "/data/uscuni-ulce/tesselations/tesselation_11622.parquet 9\n",
      "/data/uscuni-ulce/tesselations/tesselation_100473.parquet 16\n",
      "/data/uscuni-ulce/tesselations/tesselation_118153.parquet 48\n",
      "/data/uscuni-ulce/tesselations/tesselation_42062.parquet 17\n",
      "/data/uscuni-ulce/tesselations/tesselation_106928.parquet 8\n",
      "/data/uscuni-ulce/tesselations/tesselation_34964.parquet 10\n",
      "/data/uscuni-ulce/tesselations/tesselation_34392.parquet 159\n",
      "/data/uscuni-ulce/tesselations/tesselation_1725.parquet 0\n",
      "/data/uscuni-ulce/tesselations/tesselation_105054.parquet 20\n",
      "/data/uscuni-ulce/tesselations/tesselation_2419.parquet 2\n",
      "/data/uscuni-ulce/tesselations/tesselation_24928.parquet 6\n",
      "/data/uscuni-ulce/tesselations/tesselation_102496.parquet 5\n",
      "/data/uscuni-ulce/tesselations/tesselation_13348.parquet 13\n",
      "/data/uscuni-ulce/tesselations/tesselation_84374.parquet 2\n",
      "/data/uscuni-ulce/tesselations/tesselation_14387.parquet 23\n",
      "/data/uscuni-ulce/tesselations/tesselation_86507.parquet 12\n",
      "/data/uscuni-ulce/tesselations/tesselation_1118.parquet 2\n",
      "/data/uscuni-ulce/tesselations/tesselation_62858.parquet 6\n",
      "/data/uscuni-ulce/tesselations/tesselation_11717.parquet 20\n",
      "/data/uscuni-ulce/tesselations/tesselation_18686.parquet 1\n",
      "/data/uscuni-ulce/tesselations/tesselation_104534.parquet 8\n",
      "/data/uscuni-ulce/tesselations/tesselation_109380.parquet 4\n",
      "/data/uscuni-ulce/tesselations/tesselation_115457.parquet 848\n",
      "/data/uscuni-ulce/tesselations/tesselation_116891.parquet 7\n",
      "/data/uscuni-ulce/tesselations/tesselation_12867.parquet 12\n",
      "/data/uscuni-ulce/tesselations/tesselation_16820.parquet 5\n",
      "/data/uscuni-ulce/tesselations/tesselation_103481.parquet 17\n",
      "/data/uscuni-ulce/tesselations/tesselation_26814.parquet 23\n",
      "/data/uscuni-ulce/tesselations/tesselation_11027.parquet 11\n",
      "/data/uscuni-ulce/tesselations/tesselation_29464.parquet 3\n",
      "/data/uscuni-ulce/tesselations/tesselation_9694.parquet 9\n",
      "/data/uscuni-ulce/tesselations/tesselation_49553.parquet 4\n",
      "/data/uscuni-ulce/tesselations/tesselation_28262.parquet 29\n",
      "/data/uscuni-ulce/tesselations/tesselation_30082.parquet 28\n",
      "/data/uscuni-ulce/tesselations/tesselation_136526.parquet 13\n",
      "/data/uscuni-ulce/tesselations/tesselation_30292.parquet 3\n",
      "/data/uscuni-ulce/tesselations/tesselation_2907.parquet 10\n",
      "/data/uscuni-ulce/tesselations/tesselation_89901.parquet 7\n",
      "/data/uscuni-ulce/tesselations/tesselation_82730.parquet 21\n",
      "/data/uscuni-ulce/tesselations/tesselation_297.parquet 0\n",
      "/data/uscuni-ulce/tesselations/tesselation_10274.parquet 4\n",
      "/data/uscuni-ulce/tesselations/tesselation_49136.parquet 336\n",
      "/data/uscuni-ulce/tesselations/tesselation_58708.parquet 22\n",
      "/data/uscuni-ulce/tesselations/tesselation_105151.parquet 16\n",
      "/data/uscuni-ulce/tesselations/tesselation_108940.parquet 35\n",
      "/data/uscuni-ulce/tesselations/tesselation_112422.parquet 11\n",
      "/data/uscuni-ulce/tesselations/tesselation_38028.parquet 35\n",
      "/data/uscuni-ulce/tesselations/tesselation_21623.parquet 4\n",
      "/data/uscuni-ulce/tesselations/tesselation_90756.parquet 243\n",
      "/data/uscuni-ulce/tesselations/tesselation_14545.parquet 20\n",
      "/data/uscuni-ulce/tesselations/tesselation_115717.parquet 11\n",
      "/data/uscuni-ulce/tesselations/tesselation_14235.parquet 2\n",
      "/data/uscuni-ulce/tesselations/tesselation_48024.parquet 13\n",
      "/data/uscuni-ulce/tesselations/tesselation_25361.parquet 18\n",
      "/data/uscuni-ulce/tesselations/tesselation_136206.parquet 3\n",
      "/data/uscuni-ulce/tesselations/tesselation_8968.parquet 18\n",
      "/data/uscuni-ulce/tesselations/tesselation_18986.parquet 4\n",
      "/data/uscuni-ulce/tesselations/tesselation_25953.parquet 24\n",
      "/data/uscuni-ulce/tesselations/tesselation_19389.parquet 3\n",
      "/data/uscuni-ulce/tesselations/tesselation_38039.parquet 9\n",
      "/data/uscuni-ulce/tesselations/tesselation_2932.parquet 2\n",
      "/data/uscuni-ulce/tesselations/tesselation_21371.parquet 44\n",
      "/data/uscuni-ulce/tesselations/tesselation_91005.parquet 37\n",
      "/data/uscuni-ulce/tesselations/tesselation_46139.parquet 10\n",
      "/data/uscuni-ulce/tesselations/tesselation_5088.parquet 11\n",
      "/data/uscuni-ulce/tesselations/tesselation_106715.parquet 51\n",
      "/data/uscuni-ulce/tesselations/tesselation_134795.parquet 4\n",
      "/data/uscuni-ulce/tesselations/tesselation_32168.parquet 22\n",
      "/data/uscuni-ulce/tesselations/tesselation_27408.parquet 4\n",
      "/data/uscuni-ulce/tesselations/tesselation_122276.parquet 88\n",
      "/data/uscuni-ulce/tesselations/tesselation_51584.parquet 3\n",
      "/data/uscuni-ulce/tesselations/tesselation_42028.parquet 15\n",
      "/data/uscuni-ulce/tesselations/tesselation_20520.parquet 3\n",
      "/data/uscuni-ulce/tesselations/tesselation_66396.parquet 15\n",
      "/data/uscuni-ulce/tesselations/tesselation_23614.parquet 5\n",
      "/data/uscuni-ulce/tesselations/tesselation_20349.parquet 5\n",
      "/data/uscuni-ulce/tesselations/tesselation_25690.parquet 4\n",
      "/data/uscuni-ulce/tesselations/tesselation_7528.parquet 21\n",
      "/data/uscuni-ulce/tesselations/tesselation_2605.parquet 11\n",
      "/data/uscuni-ulce/tesselations/tesselation_21856.parquet 24\n",
      "/data/uscuni-ulce/tesselations/tesselation_113752.parquet 19\n",
      "/data/uscuni-ulce/tesselations/tesselation_125143.parquet 17\n",
      "/data/uscuni-ulce/tesselations/tesselation_106580.parquet 4\n",
      "/data/uscuni-ulce/tesselations/tesselation_21537.parquet 7\n",
      "/data/uscuni-ulce/tesselations/tesselation_60019.parquet 2\n",
      "/data/uscuni-ulce/tesselations/tesselation_82463.parquet 30\n",
      "/data/uscuni-ulce/tesselations/tesselation_4974.parquet 7\n",
      "/data/uscuni-ulce/tesselations/tesselation_31006.parquet 6\n",
      "/data/uscuni-ulce/tesselations/tesselation_17196.parquet 3\n",
      "/data/uscuni-ulce/tesselations/tesselation_118708.parquet 10\n",
      "/data/uscuni-ulce/tesselations/tesselation_1085.parquet 8\n",
      "/data/uscuni-ulce/tesselations/tesselation_126417.parquet 15\n",
      "/data/uscuni-ulce/tesselations/tesselation_14429.parquet 8\n",
      "/data/uscuni-ulce/tesselations/tesselation_33324.parquet 26\n",
      "/data/uscuni-ulce/tesselations/tesselation_128021.parquet 17\n",
      "/data/uscuni-ulce/tesselations/tesselation_130546.parquet 18\n",
      "/data/uscuni-ulce/tesselations/tesselation_50156.parquet 4\n",
      "/data/uscuni-ulce/tesselations/tesselation_19564.parquet 6\n",
      "/data/uscuni-ulce/tesselations/tesselation_35845.parquet 8\n",
      "/data/uscuni-ulce/tesselations/tesselation_61722.parquet 31\n",
      "/data/uscuni-ulce/tesselations/tesselation_5518.parquet 15\n",
      "/data/uscuni-ulce/tesselations/tesselation_55334.parquet 26\n",
      "/data/uscuni-ulce/tesselations/tesselation_23240.parquet 8\n",
      "/data/uscuni-ulce/tesselations/tesselation_116545.parquet 8\n",
      "/data/uscuni-ulce/tesselations/tesselation_48867.parquet 7\n",
      "/data/uscuni-ulce/tesselations/tesselation_72401.parquet 25\n",
      "/data/uscuni-ulce/tesselations/tesselation_30223.parquet 9\n",
      "/data/uscuni-ulce/tesselations/tesselation_62929.parquet 287\n",
      "/data/uscuni-ulce/tesselations/tesselation_48110.parquet 4\n",
      "/data/uscuni-ulce/tesselations/tesselation_25651.parquet 20\n",
      "/data/uscuni-ulce/tesselations/tesselation_34864.parquet 94\n",
      "/data/uscuni-ulce/tesselations/tesselation_28904.parquet 1\n",
      "/data/uscuni-ulce/tesselations/tesselation_25386.parquet 5\n",
      "/data/uscuni-ulce/tesselations/tesselation_113880.parquet 52\n",
      "/data/uscuni-ulce/tesselations/tesselation_139342.parquet 13\n",
      "/data/uscuni-ulce/tesselations/tesselation_49288.parquet 5\n",
      "/data/uscuni-ulce/tesselations/tesselation_89981.parquet 48\n",
      "/data/uscuni-ulce/tesselations/tesselation_16445.parquet 6\n",
      "/data/uscuni-ulce/tesselations/tesselation_134749.parquet 36\n",
      "/data/uscuni-ulce/tesselations/tesselation_39717.parquet 3\n",
      "/data/uscuni-ulce/tesselations/tesselation_57900.parquet 13\n",
      "/data/uscuni-ulce/tesselations/tesselation_38168.parquet 1\n",
      "/data/uscuni-ulce/tesselations/tesselation_10018.parquet 32\n",
      "/data/uscuni-ulce/tesselations/tesselation_3879.parquet 9\n",
      "/data/uscuni-ulce/tesselations/tesselation_36962.parquet 2\n",
      "/data/uscuni-ulce/tesselations/tesselation_39008.parquet 7\n",
      "/data/uscuni-ulce/tesselations/tesselation_18845.parquet 76\n",
      "/data/uscuni-ulce/tesselations/tesselation_133425.parquet 37\n",
      "/data/uscuni-ulce/tesselations/tesselation_15827.parquet 12\n",
      "/data/uscuni-ulce/tesselations/tesselation_111363.parquet 69\n",
      "/data/uscuni-ulce/tesselations/tesselation_77745.parquet 17\n",
      "/data/uscuni-ulce/tesselations/tesselation_66315.parquet 8\n",
      "/data/uscuni-ulce/tesselations/tesselation_70891.parquet 14\n",
      "/data/uscuni-ulce/tesselations/tesselation_27263.parquet 9\n",
      "/data/uscuni-ulce/tesselations/tesselation_54510.parquet 9\n",
      "/data/uscuni-ulce/tesselations/tesselation_43538.parquet 15\n",
      "/data/uscuni-ulce/tesselations/tesselation_17308.parquet 7\n",
      "/data/uscuni-ulce/tesselations/tesselation_23790.parquet 42\n",
      "/data/uscuni-ulce/tesselations/tesselation_23820.parquet 30\n",
      "/data/uscuni-ulce/tesselations/tesselation_48279.parquet 96\n",
      "/data/uscuni-ulce/tesselations/tesselation_97908.parquet 177\n",
      "/data/uscuni-ulce/tesselations/tesselation_2383.parquet 3\n",
      "/data/uscuni-ulce/tesselations/tesselation_16593.parquet 3\n",
      "/data/uscuni-ulce/tesselations/tesselation_85070.parquet 15\n",
      "/data/uscuni-ulce/tesselations/tesselation_35142.parquet 28\n",
      "/data/uscuni-ulce/tesselations/tesselation_53165.parquet 8\n",
      "/data/uscuni-ulce/tesselations/tesselation_115034.parquet 5\n",
      "/data/uscuni-ulce/tesselations/tesselation_12699.parquet 5\n",
      "/data/uscuni-ulce/tesselations/tesselation_27614.parquet 5\n",
      "/data/uscuni-ulce/tesselations/tesselation_37034.parquet 4\n",
      "/data/uscuni-ulce/tesselations/tesselation_27993.parquet 3\n",
      "/data/uscuni-ulce/tesselations/tesselation_63649.parquet 3\n",
      "/data/uscuni-ulce/tesselations/tesselation_138334.parquet 9\n",
      "/data/uscuni-ulce/tesselations/tesselation_110873.parquet 7\n",
      "/data/uscuni-ulce/tesselations/tesselation_7093.parquet 14\n",
      "/data/uscuni-ulce/tesselations/tesselation_125375.parquet 5\n",
      "/data/uscuni-ulce/tesselations/tesselation_104480.parquet 19\n",
      "/data/uscuni-ulce/tesselations/tesselation_18144.parquet 11\n",
      "/data/uscuni-ulce/tesselations/tesselation_25692.parquet 67\n",
      "/data/uscuni-ulce/tesselations/tesselation_56134.parquet 6\n",
      "/data/uscuni-ulce/tesselations/tesselation_58519.parquet 8\n",
      "/data/uscuni-ulce/tesselations/tesselation_109082.parquet 2\n",
      "/data/uscuni-ulce/tesselations/tesselation_25063.parquet 1\n",
      "/data/uscuni-ulce/tesselations/tesselation_11871.parquet 16\n",
      "/data/uscuni-ulce/tesselations/tesselation_117762.parquet 23\n",
      "/data/uscuni-ulce/tesselations/tesselation_4976.parquet 9\n",
      "/data/uscuni-ulce/tesselations/tesselation_22884.parquet 9\n",
      "/data/uscuni-ulce/tesselations/tesselation_3607.parquet 679\n",
      "/data/uscuni-ulce/tesselations/tesselation_3155.parquet 0\n",
      "/data/uscuni-ulce/tesselations/tesselation_125102.parquet 217\n",
      "/data/uscuni-ulce/tesselations/tesselation_124975.parquet 114\n",
      "/data/uscuni-ulce/tesselations/tesselation_7506.parquet 2\n",
      "/data/uscuni-ulce/tesselations/tesselation_6886.parquet 1\n",
      "/data/uscuni-ulce/tesselations/tesselation_10.parquet 38\n",
      "/data/uscuni-ulce/tesselations/tesselation_96998.parquet 30\n",
      "/data/uscuni-ulce/tesselations/tesselation_103243.parquet 26\n",
      "/data/uscuni-ulce/tesselations/tesselation_121122.parquet 45\n",
      "/data/uscuni-ulce/tesselations/tesselation_33476.parquet 71\n",
      "/data/uscuni-ulce/tesselations/tesselation_12178.parquet 21\n",
      "/data/uscuni-ulce/tesselations/tesselation_2219.parquet 13\n",
      "/data/uscuni-ulce/tesselations/tesselation_138269.parquet 14\n",
      "/data/uscuni-ulce/tesselations/tesselation_15928.parquet 5\n",
      "/data/uscuni-ulce/tesselations/tesselation_104313.parquet 24\n",
      "/data/uscuni-ulce/tesselations/tesselation_55935.parquet 4\n",
      "/data/uscuni-ulce/tesselations/tesselation_60277.parquet 11\n",
      "/data/uscuni-ulce/tesselations/tesselation_67852.parquet 22\n",
      "/data/uscuni-ulce/tesselations/tesselation_26085.parquet 1\n",
      "/data/uscuni-ulce/tesselations/tesselation_26765.parquet 19\n",
      "/data/uscuni-ulce/tesselations/tesselation_68043.parquet 19\n",
      "/data/uscuni-ulce/tesselations/tesselation_140600.parquet 19\n",
      "/data/uscuni-ulce/tesselations/tesselation_113032.parquet 5\n",
      "/data/uscuni-ulce/tesselations/tesselation_44812.parquet 13\n",
      "/data/uscuni-ulce/tesselations/tesselation_38962.parquet 16\n",
      "/data/uscuni-ulce/tesselations/tesselation_53679.parquet 20\n",
      "/data/uscuni-ulce/tesselations/tesselation_126276.parquet 59\n",
      "/data/uscuni-ulce/tesselations/tesselation_108722.parquet 25\n",
      "/data/uscuni-ulce/tesselations/tesselation_50113.parquet 2\n",
      "/data/uscuni-ulce/tesselations/tesselation_108870.parquet 13\n",
      "/data/uscuni-ulce/tesselations/tesselation_119768.parquet 11\n",
      "/data/uscuni-ulce/tesselations/tesselation_129074.parquet 34\n",
      "/data/uscuni-ulce/tesselations/tesselation_139276.parquet 31\n",
      "/data/uscuni-ulce/tesselations/tesselation_40865.parquet 4\n",
      "/data/uscuni-ulce/tesselations/tesselation_3182.parquet 25\n",
      "/data/uscuni-ulce/tesselations/tesselation_106893.parquet 17\n",
      "/data/uscuni-ulce/tesselations/tesselation_45122.parquet 11\n"
     ]
    }
   ],
   "source": [
    "for tf in tesselation_files:\n",
    "    tesselations = gpd.read_parquet(tf)\n",
    "    tarea = tesselations.area\n",
    "    print(tf, (tarea > 50_000).sum())"
   ]
  },
  {
   "cell_type": "code",
   "execution_count": 11,
   "id": "798fb828-6b26-4c63-9571-427fccf69b6d",
   "metadata": {},
   "outputs": [],
   "source": [
    "# tesselations.reset_index().explore()"
   ]
  },
  {
   "cell_type": "code",
   "execution_count": null,
   "id": "68d28214-bfea-4673-9d74-412abff4af5d",
   "metadata": {},
   "outputs": [],
   "source": []
  },
  {
   "cell_type": "code",
   "execution_count": null,
   "id": "b9735334-b0d6-49eb-888e-9c3026173433",
   "metadata": {},
   "outputs": [],
   "source": []
  },
  {
   "cell_type": "code",
   "execution_count": null,
   "id": "49a0024b-658a-4d50-a6ef-c340da33a9e1",
   "metadata": {},
   "outputs": [],
   "source": []
  },
  {
   "cell_type": "code",
   "execution_count": null,
   "id": "52f4dca0-c112-4754-b3ef-c3cccd7ab8e0",
   "metadata": {},
   "outputs": [],
   "source": []
  },
  {
   "cell_type": "code",
   "execution_count": 20,
   "id": "2d1850d7-911d-43c4-95b0-6344141c890e",
   "metadata": {},
   "outputs": [
    {
     "name": "stdout",
     "output_type": "stream",
     "text": [
      "/home/krasen/notebooks\n"
     ]
    }
   ],
   "source": [
    "!pwd"
   ]
  },
  {
   "cell_type": "code",
   "execution_count": 21,
   "id": "ce593a4c-3f5d-4309-8063-572a0a707739",
   "metadata": {},
   "outputs": [],
   "source": [
    "import geopandas as gpd\n",
    "from libpysal.graph import Graph\n",
    "\n",
    "buildings = gpd.read_parquet(\"data/buffer_problem_buildings.parquet\")\n",
    "gabriel = Graph.build_triangulation(buildings.centroid, \"gabriel\", kernel=\"identity\")"
   ]
  },
  {
   "cell_type": "code",
   "execution_count": null,
   "id": "be31b40f-8ecd-497f-89eb-60ff49c5e9e1",
   "metadata": {},
   "outputs": [],
   "source": []
  },
  {
   "cell_type": "code",
   "execution_count": null,
   "id": "1f5b599a-62ac-4fca-acc4-7ef09fd7dd66",
   "metadata": {},
   "outputs": [],
   "source": []
  },
  {
   "cell_type": "code",
   "execution_count": null,
   "id": "a934d9bd-e225-4bf7-96c3-9a06939ca56f",
   "metadata": {},
   "outputs": [],
   "source": []
  },
  {
   "cell_type": "code",
   "execution_count": null,
   "id": "bfd5f749-e530-4022-bcab-034e91a09718",
   "metadata": {},
   "outputs": [],
   "source": []
  }
 ],
 "metadata": {
  "kernelspec": {
   "display_name": "Python 3 (ipykernel)",
   "language": "python",
   "name": "python3"
  },
  "language_info": {
   "codemirror_mode": {
    "name": "ipython",
    "version": 3
   },
   "file_extension": ".py",
   "mimetype": "text/x-python",
   "name": "python",
   "nbconvert_exporter": "python",
   "pygments_lexer": "ipython3",
   "version": "3.12.3"
  }
 },
 "nbformat": 4,
 "nbformat_minor": 5
}
