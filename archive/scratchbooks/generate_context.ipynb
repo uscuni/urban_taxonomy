{
 "cells": [
  {
   "cell_type": "code",
   "execution_count": 4,
   "id": "8cbf812c-d5a5-4744-95af-8ff28e68c867",
   "metadata": {},
   "outputs": [],
   "source": [
    "import glob\n",
    "import re\n",
    "\n",
    "import geopandas as gpd\n",
    "import matplotlib.pyplot as plt\n",
    "import numba\n",
    "import numpy as np\n",
    "import pandas as pd\n",
    "from libpysal.graph import read_parquet\n",
    "\n",
    "from core.utils import (\n",
    "    char_units,\n",
    "    used_keys,\n",
    ")\n",
    "\n",
    "regions_datadir = \"/data/uscuni-ulce/\"\n",
    "data_dir = \"/data/uscuni-ulce/processed_data/\"\n",
    "eubucco_files = glob.glob(regions_datadir + \"eubucco_raw/*\")\n",
    "graph_dir = data_dir + \"neigh_graphs/\"\n",
    "chars_dir = \"/data/uscuni-ulce/processed_data/chars/\""
   ]
  },
  {
   "cell_type": "code",
   "execution_count": 2,
   "id": "36b44bbc-3c64-4c9e-8861-b30f356b26e4",
   "metadata": {},
   "outputs": [],
   "source": [
    "# building_region_mapping = pd.read_parquet(regions_datadir + 'regions/' +'id_to_region.parquet', engine='pyarrow')\n",
    "# counts = building_region_mapping.groupby('region')['id'].size()\n",
    "# del building_region_mapping\n",
    "# large_regions = counts[counts > 6e5].index\n",
    "# large_regions"
   ]
  },
  {
   "cell_type": "code",
   "execution_count": 5,
   "id": "b67ff446-5ae7-4a57-9e0f-ee7022f96019",
   "metadata": {},
   "outputs": [
    {
     "data": {
      "text/plain": [
       "sdbAre                                     area of building\n",
       "sdbPer                                perimeter of building\n",
       "sdbCoA                           courtyard area of building\n",
       "ssbCCo                     circular compactness of building\n",
       "ssbCor                                  corners of building\n",
       "                                ...                        \n",
       "lskERI            equivalent rectangular index of enclosure\n",
       "lskCWA               compactness-weighted axis of enclosure\n",
       "ltkOri                             orientation of enclosure\n",
       "ltkWNB           perimeter-weighted neighbours of enclosure\n",
       "likWBB    total of building areas within the enclosure, ...\n",
       "Length: 61, dtype: object"
      ]
     },
     "execution_count": 5,
     "metadata": {},
     "output_type": "execute_result"
    }
   ],
   "source": []
  },
  {
   "cell_type": "code",
   "execution_count": 3,
   "id": "c2bdae16-553d-404f-9879-10281c986111",
   "metadata": {},
   "outputs": [],
   "source": [
    "region_hulls = gpd.read_parquet(regions_datadir + \"regions/\" + \"regions_hull.parquet\")"
   ]
  },
  {
   "cell_type": "code",
   "execution_count": 4,
   "id": "229a9024-b8f6-4ea7-b46b-a7ee68da41e8",
   "metadata": {},
   "outputs": [
    {
     "name": "stdout",
     "output_type": "stream",
     "text": [
      "Missing buildings for regions []\n",
      "Missing enclosures for regions []\n",
      "Missing tessellations for regions []\n",
      "Missing nodes for regions []\n",
      "Missing streets for regions []\n"
     ]
    }
   ],
   "source": [
    "def check_available():\n",
    "    elements = [\"buildings\", \"enclosures\", \"tessellations\", \"nodes\", \"streets\"]\n",
    "    for el in elements:\n",
    "        el_ids = [\n",
    "            int(re.findall(r\"\\d+\", f)[0])\n",
    "            for f in glob.glob(chars_dir + f\"{el}/*.parquet\")\n",
    "        ]\n",
    "        missing = np.setdiff1d(region_hulls.index.values, el_ids)\n",
    "        print(f\"Missing {el} for regions {missing}\")\n",
    "\n",
    "\n",
    "check_available()"
   ]
  },
  {
   "cell_type": "code",
   "execution_count": null,
   "id": "081b937b-b95f-481d-957d-7ca6a3ca7c68",
   "metadata": {},
   "outputs": [],
   "source": []
  },
  {
   "cell_type": "code",
   "execution_count": 5,
   "id": "2c22df07-0757-43b0-9806-53000947c46b",
   "metadata": {},
   "outputs": [
    {
     "data": {
      "text/plain": [
       "69300"
      ]
     },
     "execution_count": 5,
     "metadata": {},
     "output_type": "execute_result"
    }
   ],
   "source": [
    "# 12199 - hills, small test\n",
    "# 69300 - prague medium\n",
    "# 226 - germany somewhere, largest cluster\n",
    "\n",
    "for region_id, region_hull in region_hulls.iterrows():\n",
    "    if region_id != 69300:\n",
    "        continue\n",
    "\n",
    "    break\n",
    "region_id"
   ]
  },
  {
   "cell_type": "code",
   "execution_count": null,
   "id": "f0bf7d54-2dfb-4691-bcaf-f5cb2bc0d5f1",
   "metadata": {},
   "outputs": [],
   "source": []
  },
  {
   "cell_type": "code",
   "execution_count": null,
   "id": "189b5c24-6ca0-4599-b770-2f4eef4b0a41",
   "metadata": {},
   "outputs": [],
   "source": []
  },
  {
   "cell_type": "markdown",
   "id": "99c381b4-a2ac-4e44-959b-2095a5098342",
   "metadata": {},
   "source": [
    "### Merging data"
   ]
  },
  {
   "cell_type": "code",
   "execution_count": 6,
   "id": "c5d0e81a-62ef-49e5-b3f0-41fae3f35886",
   "metadata": {},
   "outputs": [],
   "source": [
    "tessellation = gpd.read_parquet(chars_dir + f\"tessellations/chars_{region_id}.parquet\")\n",
    "buildings = gpd.read_parquet(chars_dir + f\"buildings/chars_{region_id}.parquet\")\n",
    "enclosures = gpd.read_parquet(chars_dir + f\"enclosures/chars_{region_id}.parquet\")\n",
    "streets = gpd.read_parquet(chars_dir + f\"streets/chars_{region_id}.parquet\")\n",
    "nodes = gpd.read_parquet(chars_dir + f\"nodes/chars_{region_id}.parquet\")"
   ]
  },
  {
   "cell_type": "code",
   "execution_count": 7,
   "id": "fe7fb5a6-2203-49c2-bd27-4a39993e889a",
   "metadata": {},
   "outputs": [
    {
     "data": {
      "text/plain": [
       "count    322947.000000\n",
       "mean          0.172802\n",
       "std           0.564929\n",
       "min           0.000000\n",
       "25%           0.000000\n",
       "50%           0.000000\n",
       "75%           0.000000\n",
       "max           3.000000\n",
       "dtype: float64"
      ]
     },
     "execution_count": 7,
     "metadata": {},
     "output_type": "execute_result"
    }
   ],
   "source": [
    "tessellation.isna().sum(axis=1).describe()"
   ]
  },
  {
   "cell_type": "code",
   "execution_count": 8,
   "id": "93f34bcd-27f3-49bb-b09a-ba744adab3b7",
   "metadata": {},
   "outputs": [
    {
     "data": {
      "text/plain": [
       "count    298860.000000\n",
       "mean          0.036519\n",
       "std           0.328973\n",
       "min           0.000000\n",
       "25%           0.000000\n",
       "50%           0.000000\n",
       "75%           0.000000\n",
       "max           3.000000\n",
       "dtype: float64"
      ]
     },
     "execution_count": 8,
     "metadata": {},
     "output_type": "execute_result"
    }
   ],
   "source": [
    "buildings.isna().sum(axis=1).describe()"
   ]
  },
  {
   "cell_type": "code",
   "execution_count": 9,
   "id": "68e9646e-1812-47ee-9890-dfcc8c414498",
   "metadata": {},
   "outputs": [
    {
     "data": {
      "text/plain": [
       "count    38062.000000\n",
       "mean         0.650649\n",
       "std          0.476771\n",
       "min          0.000000\n",
       "25%          0.000000\n",
       "50%          1.000000\n",
       "75%          1.000000\n",
       "max          1.000000\n",
       "dtype: float64"
      ]
     },
     "execution_count": 9,
     "metadata": {},
     "output_type": "execute_result"
    }
   ],
   "source": [
    "enclosures.isna().sum(axis=1).describe()"
   ]
  },
  {
   "cell_type": "code",
   "execution_count": 10,
   "id": "0fb6d0b6-2b0a-4476-9855-46b982c763d4",
   "metadata": {},
   "outputs": [
    {
     "data": {
      "text/plain": [
       "count    83094.000000\n",
       "mean         0.891400\n",
       "std          0.709006\n",
       "min          0.000000\n",
       "25%          0.000000\n",
       "50%          1.000000\n",
       "75%          1.000000\n",
       "max          3.000000\n",
       "dtype: float64"
      ]
     },
     "execution_count": 10,
     "metadata": {},
     "output_type": "execute_result"
    }
   ],
   "source": [
    "streets.isna().sum(axis=1).describe()"
   ]
  },
  {
   "cell_type": "code",
   "execution_count": 11,
   "id": "20c0e2ad-6bea-4ef1-8c92-12619559d5c8",
   "metadata": {},
   "outputs": [
    {
     "data": {
      "text/plain": [
       "count    104666.000000\n",
       "mean          0.964028\n",
       "std           0.869168\n",
       "min           0.000000\n",
       "25%           0.000000\n",
       "50%           1.000000\n",
       "75%           2.000000\n",
       "max           2.000000\n",
       "dtype: float64"
      ]
     },
     "execution_count": 11,
     "metadata": {},
     "output_type": "execute_result"
    }
   ],
   "source": [
    "nodes.isna().sum(axis=1).describe()"
   ]
  },
  {
   "cell_type": "code",
   "execution_count": 12,
   "id": "421db684-c337-4181-866b-e953d41dd1ee",
   "metadata": {},
   "outputs": [],
   "source": [
    "merged = pd.merge(\n",
    "    tessellation.drop(columns=[\"geometry\"]),\n",
    "    buildings.drop(columns=[\"nodeID\", \"geometry\"]),\n",
    "    right_index=True,\n",
    "    left_index=True,\n",
    "    how=\"left\",\n",
    ")\n",
    "\n",
    "merged = merged.merge(\n",
    "    enclosures.drop(columns=\"geometry\"),\n",
    "    right_on=\"eID\",\n",
    "    left_on=\"enclosure_index\",\n",
    "    how=\"left\",\n",
    ")\n",
    "\n",
    "merged = merged.merge(streets.drop(columns=\"geometry\"), on=\"nID\", how=\"left\")\n",
    "merged = merged.merge(nodes.drop(columns=\"geometry\"), on=\"nodeID\", how=\"left\")\n",
    "\n",
    "merged = merged.drop(\n",
    "    columns=[\n",
    "        \"nID\",\n",
    "        \"eID\",\n",
    "        \"nodeID\",\n",
    "        \"mm_len\",\n",
    "        \"cdsbool\",\n",
    "        \"node_start\",\n",
    "        \"node_end\",\n",
    "        \"x\",\n",
    "        \"y\",\n",
    "        \"enclosure_index\",\n",
    "        \"id\",\n",
    "        \"osm_id\",\n",
    "        \"index\",  ## maybe keep\n",
    "    ]\n",
    ")\n",
    "merged = merged.set_index(tessellation.index)"
   ]
  },
  {
   "cell_type": "code",
   "execution_count": 14,
   "id": "bb3b57dd-1686-4845-a168-e10c5373bee7",
   "metadata": {
    "scrolled": true
   },
   "outputs": [],
   "source": [
    "# for c in merged.columns:\n",
    "#     sns.histplot(data=merged, x=c)\n",
    "#     plt.savefig(f'../data/plots/primary_{c}.png')\n",
    "#     plt.figure()"
   ]
  },
  {
   "cell_type": "code",
   "execution_count": null,
   "id": "e559a6fe-a695-415c-b5fc-005be65d67e7",
   "metadata": {},
   "outputs": [],
   "source": []
  },
  {
   "cell_type": "code",
   "execution_count": 23,
   "id": "af5a25c2-92e1-409c-9c9f-2737b80d0b66",
   "metadata": {},
   "outputs": [
    {
     "data": {
      "text/plain": [
       "-24087     45\n",
       "-24086     45\n",
       "-24085     45\n",
       "-24084     45\n",
       "-24083     45\n",
       "           ..\n",
       " 298855     0\n",
       " 298856     0\n",
       " 298857     0\n",
       " 298858     0\n",
       " 298859     0\n",
       "Length: 322947, dtype: int64"
      ]
     },
     "execution_count": 23,
     "metadata": {},
     "output_type": "execute_result"
    }
   ],
   "source": [
    "merged.isna().sum(axis=1)"
   ]
  },
  {
   "cell_type": "code",
   "execution_count": 24,
   "id": "02f43370-2a28-4ffb-832f-b0b9b1822ad5",
   "metadata": {},
   "outputs": [],
   "source": [
    "# merged.to_parquet(chars_dir + f'primary_chars/chars_{region_id}.parquet')"
   ]
  },
  {
   "cell_type": "code",
   "execution_count": 25,
   "id": "d90da811-fcae-4cd9-ba7c-91351ef562b1",
   "metadata": {},
   "outputs": [
    {
     "ename": "NameError",
     "evalue": "name 'used_keys' is not defined",
     "output_type": "error",
     "traceback": [
      "\u001b[0;31m---------------------------------------------------------------------------\u001b[0m",
      "\u001b[0;31mNameError\u001b[0m                                 Traceback (most recent call last)",
      "Cell \u001b[0;32mIn[25], line 1\u001b[0m\n\u001b[0;32m----> 1\u001b[0m used_keys \u001b[38;5;241m=\u001b[39m pd\u001b[38;5;241m.\u001b[39mSeries(\u001b[43mused_keys\u001b[49m)\n\u001b[1;32m      3\u001b[0m char_units \u001b[38;5;241m=\u001b[39m pd\u001b[38;5;241m.\u001b[39mSeries(char_units)\n\u001b[1;32m      4\u001b[0m char_units\u001b[38;5;241m.\u001b[39mvalue_counts()\n",
      "\u001b[0;31mNameError\u001b[0m: name 'used_keys' is not defined"
     ]
    }
   ],
   "source": [
    "used_keys = pd.Series(used_keys)\n",
    "\n",
    "char_units = pd.Series(char_units)\n",
    "char_units.value_counts()"
   ]
  },
  {
   "cell_type": "code",
   "execution_count": null,
   "id": "9200b8e8-3748-4c7b-99c8-8094d5d680a9",
   "metadata": {},
   "outputs": [],
   "source": []
  },
  {
   "cell_type": "code",
   "execution_count": 17,
   "id": "c6e49251-5e5a-4503-a021-8ceb8d1e18ad",
   "metadata": {},
   "outputs": [],
   "source": [
    "# selected_cols = char_units[char_units == 'degrees'].index.values\n",
    "\n",
    "selected_cols = list(used_keys.keys())"
   ]
  },
  {
   "cell_type": "code",
   "execution_count": 18,
   "id": "49e9e57f-363a-4768-ad3d-4ce87f365b90",
   "metadata": {},
   "outputs": [
    {
     "data": {
      "text/plain": [
       "sdbAre                                     area of building\n",
       "sdbPer                                perimeter of building\n",
       "sdbCoA                           courtyard area of building\n",
       "ssbCCo                     circular compactness of building\n",
       "ssbCor                                  corners of building\n",
       "                                ...                        \n",
       "lskERI            equivalent rectangular index of enclosure\n",
       "lskCWA               compactness-weighted axis of enclosure\n",
       "ltkOri                             orientation of enclosure\n",
       "ltkWNB           perimeter-weighted neighbours of enclosure\n",
       "likWBB    total of building areas within the enclosure, ...\n",
       "Length: 61, dtype: object"
      ]
     },
     "execution_count": 18,
     "metadata": {},
     "output_type": "execute_result"
    }
   ],
   "source": [
    "used_keys[selected_cols]"
   ]
  },
  {
   "cell_type": "code",
   "execution_count": 19,
   "id": "772ba756-1b99-4597-baa8-de20cccbf6b4",
   "metadata": {},
   "outputs": [],
   "source": [
    "from sklearn.preprocessing import StandardScaler"
   ]
  },
  {
   "cell_type": "code",
   "execution_count": null,
   "id": "7b55e48b-5c47-4331-8c9c-b390a9844530",
   "metadata": {},
   "outputs": [],
   "source": []
  },
  {
   "cell_type": "code",
   "execution_count": 20,
   "id": "6fc87d27-71ca-4557-8980-83574e76c91b",
   "metadata": {},
   "outputs": [],
   "source": [
    "# X_train = np.nan_to_num(StandardScaler().fit_transform(merged[selected_cols]))\n",
    "# X_train = pd.DataFrame(X_train, columns=selected_cols)"
   ]
  },
  {
   "cell_type": "code",
   "execution_count": null,
   "id": "7c56a00f-d87c-40e8-89ac-18ac17fd08d2",
   "metadata": {},
   "outputs": [],
   "source": []
  },
  {
   "cell_type": "code",
   "execution_count": null,
   "id": "bd361c79-c571-4621-9863-ef6800b1f0e7",
   "metadata": {},
   "outputs": [],
   "source": []
  },
  {
   "cell_type": "markdown",
   "id": "66a6f1c8-4a8c-4643-b575-c98794a82ddf",
   "metadata": {},
   "source": [
    "### Context"
   ]
  },
  {
   "cell_type": "code",
   "execution_count": null,
   "id": "a3d7764b-2a0e-495e-8122-d859f845e368",
   "metadata": {},
   "outputs": [],
   "source": []
  },
  {
   "cell_type": "code",
   "execution_count": null,
   "id": "6dac1ac5-c03e-453d-baa0-63fc301cec32",
   "metadata": {},
   "outputs": [],
   "source": []
  },
  {
   "cell_type": "code",
   "execution_count": 27,
   "id": "86597d3d-2a31-4c08-b0cc-2526467f9ccf",
   "metadata": {},
   "outputs": [],
   "source": [
    "# align indices"
   ]
  },
  {
   "cell_type": "code",
   "execution_count": 28,
   "id": "e10bda83-c3aa-428f-b4f1-abd5614d8e84",
   "metadata": {},
   "outputs": [],
   "source": [
    "# tessellation = gpd.read_parquet(data_dir + f'/tessellations/tessellation_{region_id}.parquet')\n",
    "# missing = np.setdiff1d(tessellation.index.values, merged.index.values)\n",
    "# buff = pd.DataFrame(np.full((missing.shape[0], merged.shape[1]), np.nan), columns=merged.columns, index=missing)\n",
    "# primary = pd.concat((merged, buff), axis=0).sort_index()"
   ]
  },
  {
   "cell_type": "code",
   "execution_count": 29,
   "id": "f249c8da-15de-46c4-bd86-9b92fda33222",
   "metadata": {},
   "outputs": [],
   "source": [
    "# subset = ['sdbAre', 'sdbCoA', 'ldsAre', 'sddAre', 'midAre', 'sdcAre',\n",
    "#        'mdcAre', 'ldkAre']\n",
    "# primary = primary.loc[:, primary.columns.isin(subset)]"
   ]
  },
  {
   "cell_type": "code",
   "execution_count": null,
   "id": "ad98158e-bcd4-4e32-8e12-025fada835cf",
   "metadata": {},
   "outputs": [],
   "source": []
  },
  {
   "cell_type": "code",
   "execution_count": 32,
   "id": "4e641276-6b9f-42a6-b236-afa042563fa2",
   "metadata": {},
   "outputs": [
    {
     "data": {
      "text/plain": [
       "(322947, 61)"
      ]
     },
     "execution_count": 32,
     "metadata": {},
     "output_type": "execute_result"
    }
   ],
   "source": [
    "primary = merged\n",
    "primary.shape"
   ]
  },
  {
   "cell_type": "code",
   "execution_count": 33,
   "id": "57d0d369-1176-451d-875e-c368affc781c",
   "metadata": {},
   "outputs": [],
   "source": [
    "@numba.njit(parallel=True)\n",
    "def numba_limit_range(rows, cols, partial_vals, output_vals):\n",
    "    # print(partial_vals)\n",
    "    ngroups = int(rows[-1]) + 1\n",
    "    nrows = rows.shape[0]\n",
    "    result = np.empty((ngroups, partial_vals.shape[1] * output_vals))\n",
    "\n",
    "    istart = 0\n",
    "    for g in range(ngroups):\n",
    "        # # find focal start\n",
    "        # istart = 0\n",
    "        # while istart < nrows and rows[istart] != g:\n",
    "        #     istart += 1\n",
    "\n",
    "        # find neighbors\n",
    "        iend = istart + 1\n",
    "        while iend < nrows and rows[iend - 1] == rows[iend]:\n",
    "            iend += 1\n",
    "\n",
    "        ## for every column apply iqr and percentiles\n",
    "        for c in numba.prange(partial_vals.shape[1]):\n",
    "            col_vals = partial_vals[cols[istart:iend], c]\n",
    "            res_index = output_vals * c\n",
    "\n",
    "            if np.isnan(col_vals).all():\n",
    "                result[g, res_index] = np.nan\n",
    "                result[g, res_index + 1] = np.nan\n",
    "                result[g, res_index + 2] = np.nan\n",
    "                continue\n",
    "\n",
    "            lower, med, higher = np.nanpercentile(col_vals, (15, 50, 85))\n",
    "            result[g, res_index] = lower\n",
    "            result[g, res_index + 1] = med\n",
    "            result[g, res_index + 2] = higher\n",
    "\n",
    "        # # go to next group\n",
    "        istart = iend\n",
    "    return result"
   ]
  },
  {
   "cell_type": "code",
   "execution_count": 34,
   "id": "93115ad8-c2a8-4930-aecf-e5c1b91311ff",
   "metadata": {},
   "outputs": [],
   "source": [
    "def parallel_higher_order_context(df, graph, k, n_splits, output_vals):\n",
    "    A = graph.transform(\"B\").sparse\n",
    "    ids = graph.unique_ids.values\n",
    "    rows = np.arange(A.shape[0])\n",
    "    values = df.values\n",
    "\n",
    "    final_result = pd.DataFrame(\n",
    "        np.empty((values.shape[0], values.shape[1] * output_vals)), index=ids\n",
    "    )\n",
    "\n",
    "    for source in np.array_split(rows, n_splits):\n",
    "        Q = A[source, :].copy()\n",
    "        for _ in range(1, k):\n",
    "            next_step = Q @ A\n",
    "            Q += next_step\n",
    "\n",
    "        sparray = Q.tocoo(copy=False)\n",
    "        sorter = sparray.row.argsort()\n",
    "        unique_tail = np.unique(sparray.col)\n",
    "        partial_vals = values[unique_tail, :]\n",
    "\n",
    "        cols_dict = pd.Series(np.arange(len(unique_tail)), index=unique_tail)\n",
    "        columns_to_pass = cols_dict.loc[sparray.col].values\n",
    "        rows_to_pass = sparray.row[sorter]\n",
    "\n",
    "        partial_res = numba_limit_range(\n",
    "            rows_to_pass, columns_to_pass, partial_vals, output_vals\n",
    "        )\n",
    "\n",
    "        final_result.iloc[source, :] = partial_res\n",
    "\n",
    "    return final_result"
   ]
  },
  {
   "cell_type": "code",
   "execution_count": null,
   "id": "a0d9f116-cbd1-41bd-aac1-698cbb3c259b",
   "metadata": {},
   "outputs": [],
   "source": []
  },
  {
   "cell_type": "code",
   "execution_count": 35,
   "id": "221a8322-fb79-42a5-bee0-7dfdac0d51fc",
   "metadata": {},
   "outputs": [],
   "source": [
    "graph = read_parquet(graph_dir + f\"tessellation_graph_{region_id}_knn1.parquet\")"
   ]
  },
  {
   "cell_type": "code",
   "execution_count": 29,
   "id": "9a2f0c1a-66d3-454f-ad41-6cecc56fcfe5",
   "metadata": {},
   "outputs": [],
   "source": [
    "# higher = graph.higher_order(k=2, lower_order=True, diagonal=True)"
   ]
  },
  {
   "cell_type": "code",
   "execution_count": 36,
   "id": "8b7d68b0-1ba6-412b-ad60-8380a9e2aabe",
   "metadata": {},
   "outputs": [
    {
     "name": "stdout",
     "output_type": "stream",
     "text": [
      "CPU times: user 19min 47s, sys: 27.5 s, total: 20min 14s\n",
      "Wall time: 2min 23s\n"
     ]
    }
   ],
   "source": [
    "%%time\n",
    "context = parallel_higher_order_context(primary, graph, k=7, n_splits=30, output_vals=3)"
   ]
  },
  {
   "cell_type": "code",
   "execution_count": null,
   "id": "1c59579c-b0e8-4fc6-b229-3626652ad33a",
   "metadata": {},
   "outputs": [],
   "source": []
  },
  {
   "cell_type": "code",
   "execution_count": 40,
   "id": "092228f8-0aa7-4adb-9b1d-8a21e82658f1",
   "metadata": {},
   "outputs": [],
   "source": [
    "context.columns = np.concatenate(\n",
    "    [(c + \"_lower\", c + \"_median\", c + \"_higher\") for c in primary.columns]\n",
    ")"
   ]
  },
  {
   "cell_type": "code",
   "execution_count": 44,
   "id": "0b9beff1-341b-478e-8950-8d999c6a064f",
   "metadata": {},
   "outputs": [
    {
     "data": {
      "text/plain": [
       "Index(['stcOri', 'sdcLAL', 'sdcAre', 'sscCCo', 'sscERI', 'mtcWNe', 'mdcAre',\n",
       "       'ltcWRB', 'sicCAR', 'stcSAl', 'sdbAre', 'sdbPer', 'sdbCoA', 'ssbCCo',\n",
       "       'ssbCor', 'ssbSqu', 'ssbERI', 'ssbElo', 'ssbCCM', 'ssbCCD', 'stbOri',\n",
       "       'mtbSWR', 'libNCo', 'ldbPWL', 'ltcBuA', 'mtbAli', 'mtbNDi', 'ltbIBD',\n",
       "       'stbCeA', 'stbSAl', 'ldkAre', 'ldkPer', 'lskCCo', 'lskERI', 'lskCWA',\n",
       "       'ltkOri', 'ltkWNB', 'likWBB', 'sdsLen', 'sssLin', 'ldsMSL', 'ldsRea',\n",
       "       'ldsAre', 'sisBpM', 'sdsSPW', 'sdsSPO', 'sdsSWD', 'mtdDeg', 'lcdMes',\n",
       "       'linP3W', 'linP4W', 'linPDE', 'lcnClo', 'lddNDe', 'linWID', 'ldsCDL',\n",
       "       'xcnSCl', 'mtdMDi', 'sddAre', 'midRea', 'midAre'],\n",
       "      dtype='object')"
      ]
     },
     "execution_count": 44,
     "metadata": {},
     "output_type": "execute_result"
    }
   ],
   "source": [
    "primary.columns"
   ]
  },
  {
   "cell_type": "code",
   "execution_count": null,
   "id": "55a392b6-bb17-4e8a-9004-8a6fd539ad1c",
   "metadata": {},
   "outputs": [],
   "source": []
  },
  {
   "cell_type": "code",
   "execution_count": null,
   "id": "edff8219-0064-4cdf-b6de-2966ebcd7a47",
   "metadata": {},
   "outputs": [],
   "source": []
  },
  {
   "cell_type": "code",
   "execution_count": null,
   "id": "655efdab-842c-4443-8cb2-edecfacf95e0",
   "metadata": {},
   "outputs": [],
   "source": []
  },
  {
   "cell_type": "code",
   "execution_count": 195,
   "id": "99c4ade4-832b-421a-84fb-938b40b97bbd",
   "metadata": {},
   "outputs": [],
   "source": [
    "# context.dropna(axis=0, how='all').shape[0], context.shape"
   ]
  },
  {
   "cell_type": "code",
   "execution_count": 196,
   "id": "2fabf923-ee87-46a8-9f7c-b81e85f2e705",
   "metadata": {},
   "outputs": [],
   "source": [
    "desc = context.describe()"
   ]
  },
  {
   "cell_type": "code",
   "execution_count": 197,
   "id": "9f779838-92ed-4056-81ab-dbdba106f92f",
   "metadata": {},
   "outputs": [
    {
     "data": {
      "text/plain": [
       "Index(['sdbCoA_lower', 'sdbCoA_median'], dtype='object')"
      ]
     },
     "execution_count": 197,
     "metadata": {},
     "output_type": "execute_result"
    }
   ],
   "source": [
    "desc = context.describe()\n",
    "desc.columns[desc.loc[\"max\"] == desc.loc[\"min\"]]"
   ]
  },
  {
   "cell_type": "code",
   "execution_count": 170,
   "id": "f08676ca-a3d6-4b77-ab4f-4a1fa24d9dfa",
   "metadata": {},
   "outputs": [],
   "source": [
    "# context = primary"
   ]
  },
  {
   "cell_type": "code",
   "execution_count": null,
   "id": "23f2ffd9-b65d-4ae6-b8e3-83d75f1e11be",
   "metadata": {},
   "outputs": [],
   "source": []
  },
  {
   "cell_type": "code",
   "execution_count": 32,
   "id": "1d055ae4-94f1-419e-9290-d6331ce590e8",
   "metadata": {},
   "outputs": [],
   "source": [
    "X = np.nan_to_num(StandardScaler().fit_transform(context))\n",
    "X = pd.DataFrame(X, columns=context.columns, index=context.index)"
   ]
  },
  {
   "cell_type": "code",
   "execution_count": 199,
   "id": "37064e2c-8f92-4820-92c7-d9297622e599",
   "metadata": {},
   "outputs": [],
   "source": [
    "# X_train = X[X.index >=0]"
   ]
  },
  {
   "cell_type": "code",
   "execution_count": null,
   "id": "d93d754e-654a-4652-b9e6-a334554917c8",
   "metadata": {},
   "outputs": [],
   "source": []
  },
  {
   "cell_type": "code",
   "execution_count": null,
   "id": "11296812-4482-46fe-ac0e-7b48459e08e0",
   "metadata": {},
   "outputs": [],
   "source": []
  },
  {
   "cell_type": "code",
   "execution_count": null,
   "id": "907aaa12-96b1-4e99-9620-376c4caf1c13",
   "metadata": {},
   "outputs": [],
   "source": []
  },
  {
   "cell_type": "code",
   "execution_count": 200,
   "id": "24ef413a-7e1f-4824-8f4e-7012fd0044ae",
   "metadata": {},
   "outputs": [],
   "source": [
    "# corrs = X.corr().abs()\n",
    "# upper = corrs.where(np.triu(np.ones(corrs.shape), k=1).astype(bool))\n",
    "# to_drop = [column for column in upper.columns if any(upper[column] > .85)]\n",
    "# to_drop"
   ]
  },
  {
   "cell_type": "code",
   "execution_count": null,
   "id": "d8305fca-bff0-4c0c-a0f4-6985be8007f9",
   "metadata": {},
   "outputs": [],
   "source": []
  },
  {
   "cell_type": "code",
   "execution_count": 201,
   "id": "ae633f22-71be-4fea-b706-4b2c22e52dd1",
   "metadata": {},
   "outputs": [],
   "source": [
    "# fig, ax = plt.subplots(figsize=(40, 40))\n",
    "# sns.heatmap(corrs.round(1), cmap=\"vlag\", center=0, annot=True, cbar=False)"
   ]
  },
  {
   "cell_type": "code",
   "execution_count": null,
   "id": "361ce941-47b5-4d14-8c97-748bfce6afab",
   "metadata": {},
   "outputs": [],
   "source": []
  },
  {
   "cell_type": "code",
   "execution_count": null,
   "id": "1638a2cd-3340-4210-8765-c1b7ec38f42f",
   "metadata": {},
   "outputs": [],
   "source": []
  },
  {
   "cell_type": "code",
   "execution_count": null,
   "id": "4d89fdd9-1ca5-41d8-aff7-8528056899db",
   "metadata": {},
   "outputs": [],
   "source": []
  },
  {
   "cell_type": "code",
   "execution_count": 202,
   "id": "1ecd55d2-f28f-49d3-9a18-018c6b28e3f9",
   "metadata": {},
   "outputs": [],
   "source": [
    "# X = X.drop(to_drop, axis=1)"
   ]
  },
  {
   "cell_type": "code",
   "execution_count": null,
   "id": "97543e92-d56c-4e3f-a093-d60f3d37fadd",
   "metadata": {},
   "outputs": [],
   "source": []
  },
  {
   "cell_type": "code",
   "execution_count": null,
   "id": "23888702-ebea-4528-8a03-270a0e36bf1b",
   "metadata": {},
   "outputs": [],
   "source": []
  },
  {
   "cell_type": "code",
   "execution_count": null,
   "id": "c45160f9-32e7-4dca-8e10-08951356de57",
   "metadata": {},
   "outputs": [],
   "source": []
  },
  {
   "cell_type": "code",
   "execution_count": 203,
   "id": "49430494-a3d9-4b57-9752-49befd14bbb6",
   "metadata": {},
   "outputs": [],
   "source": [
    "# X_train = X[X.index >=0]"
   ]
  },
  {
   "cell_type": "code",
   "execution_count": null,
   "id": "0200d74c-d431-4e25-b814-bf293015ea73",
   "metadata": {},
   "outputs": [],
   "source": []
  },
  {
   "cell_type": "code",
   "execution_count": 204,
   "id": "61c994b1-56eb-429d-bd46-d6eb1d7ed9f3",
   "metadata": {},
   "outputs": [],
   "source": [
    "# X = X.loc[:, X.columns.str.endswith('_median') | X.columns.str.endswith('_iqr')]\n",
    "\n",
    "# X = X.loc[:, X.columns.str.endswith('_median')]"
   ]
  },
  {
   "cell_type": "code",
   "execution_count": null,
   "id": "b2a31280-502d-4783-bace-e82db015e7e7",
   "metadata": {},
   "outputs": [],
   "source": []
  },
  {
   "cell_type": "code",
   "execution_count": 205,
   "id": "53e9c490-5df2-41d2-bf1c-cfddd0f948f4",
   "metadata": {},
   "outputs": [],
   "source": [
    "# X = np.nan_to_num(StandardScaler().fit_transform(primary))\n",
    "# X = pd.DataFrame(X, columns=primary.columns, index=primary.index)"
   ]
  },
  {
   "cell_type": "code",
   "execution_count": null,
   "id": "85c22a8e-71ba-4225-a4a7-973450f3e473",
   "metadata": {},
   "outputs": [],
   "source": []
  },
  {
   "cell_type": "code",
   "execution_count": null,
   "id": "4f9e2fb1-a587-403b-8ff4-8bdf080d2428",
   "metadata": {},
   "outputs": [],
   "source": []
  },
  {
   "cell_type": "code",
   "execution_count": null,
   "id": "29d65c99-4e33-4c4a-b6be-3d724f8cf88c",
   "metadata": {},
   "outputs": [],
   "source": []
  },
  {
   "cell_type": "code",
   "execution_count": 33,
   "id": "6635a45c-2907-40a8-8834-5a687f05218e",
   "metadata": {},
   "outputs": [],
   "source": [
    "X_train = X"
   ]
  },
  {
   "cell_type": "code",
   "execution_count": null,
   "id": "2e881e54-2411-4ecb-98da-c961b2c43bd4",
   "metadata": {},
   "outputs": [],
   "source": []
  },
  {
   "cell_type": "code",
   "execution_count": null,
   "id": "8dd53521-1a88-4c0a-bc4a-ff451f8b998b",
   "metadata": {},
   "outputs": [],
   "source": []
  },
  {
   "cell_type": "code",
   "execution_count": 34,
   "id": "eb9c878d-c80e-4036-a0bb-98f19360fed8",
   "metadata": {},
   "outputs": [
    {
     "data": {
      "text/plain": [
       "(322947, 183)"
      ]
     },
     "execution_count": 34,
     "metadata": {},
     "output_type": "execute_result"
    }
   ],
   "source": [
    "X_train.shape"
   ]
  },
  {
   "cell_type": "code",
   "execution_count": null,
   "id": "6a2aa9aa-374b-4702-bc04-da87b6796e26",
   "metadata": {},
   "outputs": [],
   "source": []
  },
  {
   "cell_type": "code",
   "execution_count": null,
   "id": "9d882f7e-bdd3-424c-a38f-fe282c4caf94",
   "metadata": {},
   "outputs": [],
   "source": []
  },
  {
   "cell_type": "code",
   "execution_count": null,
   "id": "118c40c5-a68d-47e8-8e05-ca161e0203c6",
   "metadata": {},
   "outputs": [],
   "source": [
    "%%time\n",
    "X_train = X_train.drop_duplicates()"
   ]
  },
  {
   "cell_type": "markdown",
   "id": "b94b3730-bf34-40db-a5bb-6d1772e37590",
   "metadata": {},
   "source": [
    "### Kmeans\n"
   ]
  },
  {
   "cell_type": "code",
   "execution_count": 225,
   "id": "73416bd8-244a-456c-a415-8f421499d97d",
   "metadata": {},
   "outputs": [],
   "source": [
    "X_train = embedding"
   ]
  },
  {
   "cell_type": "code",
   "execution_count": 226,
   "id": "72d04042-1660-4eeb-988d-18c8c2beba51",
   "metadata": {},
   "outputs": [],
   "source": [
    "from sklearn.cluster import KMeans"
   ]
  },
  {
   "cell_type": "code",
   "execution_count": 227,
   "id": "1d5a160e-be77-462c-a2b0-539244a63822",
   "metadata": {},
   "outputs": [
    {
     "name": "stdout",
     "output_type": "stream",
     "text": [
      "2  -  -0.0009554646448578733 0.14714488755120808\n",
      "3  -  0.14286740198367093 0.20113517078653773\n",
      "4  -  0.1549476192636282 0.2385902330722998\n",
      "5  -  0.21227837614220357 0.2573084747652091\n",
      "6  -  0.18332345837420588 0.27126432510597714\n",
      "7  -  0.21384276704633665 0.2820091222398722\n",
      "8  -  0.26292909563868067 0.288768745335922\n",
      "9  -  0.21364422100509506 0.2942835821357684\n",
      "10  -  0.2570480820034711 0.3057219915342146\n",
      "11  -  0.30196594771317725 0.3129646660287911\n",
      "12  -  0.2709142878402248 0.31334862996095336\n",
      "13  -  0.2622852070371841 0.31886656324412366\n",
      "14  -  0.28699018397071524 0.31685075260027185\n",
      "15  -  0.30442345835074874 0.32068110247192266\n",
      "16  -  0.2907231918521774 0.3244897769603062\n",
      "17  -  0.28665966496693923 0.32435972466070284\n",
      "18  -  0.4286596717870844 0.33148473278897156\n",
      "19  -  0.2971439588467953 0.3267223414368302\n",
      "20  -  0.2900653147321691 0.3300108067268004\n",
      "21  -  0.3321748056466855 0.3358074235091207\n",
      "22  -  0.46708003052701613 0.33477319807894174\n",
      "23  -  0.3990064421844456 0.3380616633689119\n",
      "24  -  0.49578746202832824 0.3361944839246068\n",
      "25  -  0.4029089630896695 0.3428302476877011\n",
      "26  -  0.392022436625438 0.33666514938983794\n",
      "27  -  0.2932005357976026 0.3442391476000706\n",
      "28  -  0.28650198269747246 0.341269620092461\n",
      "29  -  0.4532778799169127 0.3461651602275296\n"
     ]
    }
   ],
   "source": [
    "for k in range(2, 30):\n",
    "    kmeans_label = KMeans(n_clusters=k).fit(X_train).labels_\n",
    "    ssplits = graph.describe(kmeans_label, statistics=[\"nunique\"])[\"nunique\"]\n",
    "    print(\n",
    "        k,\n",
    "        \" - \",\n",
    "        adjusted_rand_score(tess_groups, kmeans_label[tess_groups_ilocs]),\n",
    "        (ssplits > 1).sum() / ssplits.shape[0],\n",
    "    )"
   ]
  },
  {
   "cell_type": "code",
   "execution_count": 228,
   "id": "17694298-85c4-4e85-8d5b-c41405158fdb",
   "metadata": {},
   "outputs": [],
   "source": [
    "kmeans_label = KMeans(n_clusters=24).fit(X_train).labels_"
   ]
  },
  {
   "cell_type": "code",
   "execution_count": 229,
   "id": "de84a59b-e118-416e-b6be-bbfc257f8ff2",
   "metadata": {},
   "outputs": [],
   "source": [
    "clrs, clrs_counts = np.unique(kmeans_label, return_counts=True)"
   ]
  },
  {
   "cell_type": "code",
   "execution_count": 230,
   "id": "e7b9bb21-0588-4116-878f-64ebff0662eb",
   "metadata": {},
   "outputs": [
    {
     "data": {
      "text/plain": [
       "array([20855, 13527, 13499,  7439,  7946,  9003,  8412, 16814, 10257,\n",
       "       20778, 10512, 19304, 16167, 10784, 12956, 18217, 19488, 13514,\n",
       "        2420, 19717, 16295, 11680,  2830, 20533])"
      ]
     },
     "execution_count": 230,
     "metadata": {},
     "output_type": "execute_result"
    }
   ],
   "source": [
    "clrs_counts"
   ]
  },
  {
   "cell_type": "code",
   "execution_count": 231,
   "id": "66f9aeb8-5229-4d99-989e-4fc552d1d79c",
   "metadata": {},
   "outputs": [],
   "source": []
  },
  {
   "cell_type": "code",
   "execution_count": 285,
   "id": "b39f7394-e1b9-4e0e-a939-95f43613467b",
   "metadata": {},
   "outputs": [],
   "source": [
    "def pprint_cluster_percentiles(X_train, labels):\n",
    "    cluster_stats = X_train.groupby(labels).describe()\n",
    "    cluster_stats = cluster_stats.loc[:, (slice(None), [\"25%\", \"50%\", \"75%\"])].T\n",
    "    counts = X_train.groupby(labels).size()\n",
    "    cluster_stats.loc[(\"count\", \"count\"), :] = counts.values\n",
    "    extended_col_names = {}\n",
    "    for c in X_train.columns.values:\n",
    "        if \"_\" in c:\n",
    "            orig_key = c.split(\"_\")[0]\n",
    "            attach = c.split(\"_\")[1]\n",
    "            extended_col_names[c] = used_keys[orig_key] + \" (\" + attach + \")\"\n",
    "        else:\n",
    "            extended_col_names[c] = used_keys[c]\n",
    "    cluster_stats = cluster_stats.rename(extended_col_names, axis=0)\n",
    "    f = {\n",
    "        k: \"{:.4f}\" for k in cluster_stats.columns.values\n",
    "    }  # column col A to 2 decimals\n",
    "    return cluster_stats.style.format(f).background_gradient(axis=1, cmap=\"BuGn\")"
   ]
  },
  {
   "cell_type": "code",
   "execution_count": null,
   "id": "35fc52c6-219c-47fc-b865-a3469ab298b3",
   "metadata": {},
   "outputs": [],
   "source": []
  },
  {
   "cell_type": "code",
   "execution_count": null,
   "id": "a239bec2-1340-4ba2-9bd9-4e1eb4d71417",
   "metadata": {},
   "outputs": [],
   "source": []
  },
  {
   "cell_type": "code",
   "execution_count": 233,
   "id": "b2a802a4-851e-4066-9fa7-c551d3db3a6c",
   "metadata": {
    "scrolled": true
   },
   "outputs": [],
   "source": [
    "# pprint_cluster_percentiles(X_train, kmeans_label)"
   ]
  },
  {
   "cell_type": "code",
   "execution_count": null,
   "id": "84b106d2-6d1d-4189-9a31-6944ce641c6f",
   "metadata": {},
   "outputs": [],
   "source": []
  },
  {
   "cell_type": "code",
   "execution_count": null,
   "id": "fcd8ebad-50ba-4faf-843b-893f4dc66f77",
   "metadata": {},
   "outputs": [],
   "source": []
  },
  {
   "cell_type": "code",
   "execution_count": 234,
   "id": "977be6c6-a624-4a3f-99c1-226cab3aed45",
   "metadata": {},
   "outputs": [],
   "source": [
    "from lonboard import PolygonLayer\n",
    "from lonboard.colormap import apply_categorical_cmap\n",
    "from palettable.colorbrewer.qualitative import Set3_12"
   ]
  },
  {
   "cell_type": "code",
   "execution_count": null,
   "id": "91060d5c-238c-4414-a38b-1071a1317479",
   "metadata": {},
   "outputs": [],
   "source": []
  },
  {
   "cell_type": "code",
   "execution_count": null,
   "id": "2ee0861b-289f-4080-a908-3bba90238ac7",
   "metadata": {},
   "outputs": [],
   "source": []
  },
  {
   "cell_type": "code",
   "execution_count": null,
   "id": "0156889f-aed7-4ced-a46b-b0073f2d88bd",
   "metadata": {},
   "outputs": [],
   "source": []
  },
  {
   "cell_type": "code",
   "execution_count": 235,
   "id": "c1d39fdf-b32a-4490-95aa-899e3b7d5a67",
   "metadata": {},
   "outputs": [],
   "source": [
    "plotting = tessellation.copy()\n",
    "plotting[\"label\"] = kmeans_label"
   ]
  },
  {
   "cell_type": "code",
   "execution_count": 236,
   "id": "32d01953-fa89-4192-8558-6a04eb639a12",
   "metadata": {},
   "outputs": [],
   "source": [
    "# plotting['centroid_x'] = plotting.geometry.centroid.x\n",
    "# plotting['centroid_y'] = plotting.geometry.centroid.y\n",
    "# plotting = plotting[['label', 'centroid_x', 'centroid_y', 'geometry', 'enclosure_index']]"
   ]
  },
  {
   "cell_type": "code",
   "execution_count": 237,
   "id": "ae382892-cf7a-4466-b9f2-9221bdfc223a",
   "metadata": {},
   "outputs": [],
   "source": [
    "plotting = plotting[[\"label\", \"geometry\", \"enclosure_index\"]]"
   ]
  },
  {
   "cell_type": "code",
   "execution_count": null,
   "id": "0c5dfe2b-a36d-4b00-aa75-cef3ec1455fd",
   "metadata": {},
   "outputs": [],
   "source": []
  },
  {
   "cell_type": "code",
   "execution_count": 238,
   "id": "e0103109-dbd0-490e-b3c9-5f522c57c191",
   "metadata": {},
   "outputs": [],
   "source": [
    "import glasbey\n",
    "\n",
    "\n",
    "def hex_to_rgb(hexa):\n",
    "    return tuple(int(hexa[i : i + 2], 16) for i in (0, 2, 4))\n",
    "\n",
    "\n",
    "# gb_cols = [hex_to_rgb(c[1:]) for c in Set3_12.hex_colors]\n",
    "\n",
    "\n",
    "gb_cols = glasbey.extend_palette(\n",
    "    Set3_12.hex_colors, palette_size=plotting[\"label\"].unique().shape[0] + 1\n",
    ")\n",
    "gb_cols = [hex_to_rgb(c[1:]) for c in gb_cols]\n",
    "\n",
    "colors = apply_categorical_cmap(\n",
    "    kmeans_label, cmap=dict(zip(np.unique(kmeans_label), gb_cols, strict=False))\n",
    ")"
   ]
  },
  {
   "cell_type": "code",
   "execution_count": 239,
   "id": "9809be0c-ac97-428f-af75-1d874f7e99f3",
   "metadata": {},
   "outputs": [
    {
     "name": "stderr",
     "output_type": "stream",
     "text": [
      "/home/krasen/miniconda3/envs/momepy/lib/python3.12/site-packages/lonboard/_geoarrow/ops/reproject.py:97: UserWarning: Input being reprojected to EPSG:4326 CRS\n",
      "  warnings.warn(\"Input being reprojected to EPSG:4326 CRS\")\n"
     ]
    }
   ],
   "source": [
    "layer = PolygonLayer.from_geopandas(gdf=plotting, get_fill_color=colors, opacity=0.15)"
   ]
  },
  {
   "cell_type": "code",
   "execution_count": 241,
   "id": "fb99b933-a617-4599-b2ae-9439f8ccd395",
   "metadata": {},
   "outputs": [],
   "source": [
    "# m = Map(layer, basemap_style=CartoBasemap.Positron)\n",
    "# m"
   ]
  },
  {
   "cell_type": "code",
   "execution_count": null,
   "id": "062fa8e4-adb3-48e9-af0b-c8f6db43d4d5",
   "metadata": {},
   "outputs": [],
   "source": []
  },
  {
   "cell_type": "code",
   "execution_count": null,
   "id": "c7db6cd1-c7c1-4b8e-919d-e092f9266f73",
   "metadata": {},
   "outputs": [],
   "source": [
    "malesice"
   ]
  },
  {
   "cell_type": "code",
   "execution_count": null,
   "id": "9bcc7e46-b519-4e48-8212-71de339bc312",
   "metadata": {},
   "outputs": [],
   "source": []
  },
  {
   "cell_type": "code",
   "execution_count": null,
   "id": "a2c9b2c4-116a-45d3-8009-d870fb2be6d4",
   "metadata": {},
   "outputs": [],
   "source": []
  },
  {
   "cell_type": "markdown",
   "id": "f00911a9-acde-432a-9e03-3e4b86e41e26",
   "metadata": {},
   "source": [
    "### Sklearn agglomerative"
   ]
  },
  {
   "cell_type": "code",
   "execution_count": 80,
   "id": "692516d8-0abe-43a2-a1ce-33078294c902",
   "metadata": {},
   "outputs": [
    {
     "data": {
      "text/plain": [
       "False"
      ]
     },
     "execution_count": 80,
     "metadata": {},
     "output_type": "execute_result"
    }
   ],
   "source": [
    "X_train.duplicated().any()"
   ]
  },
  {
   "cell_type": "code",
   "execution_count": 95,
   "id": "b6f5bc40-0bfa-4f9c-8826-d6e929c31589",
   "metadata": {},
   "outputs": [],
   "source": [
    "from cluster_validation import (\n",
    "    generate_enc_groups,\n",
    "    get_tess_groups_original_ilocs,\n",
    "    pprint_cluster_percentiles,\n",
    ")\n",
    "\n",
    "tess_groups = generate_enc_groups(tessellation, enclosures, include_random_sample=True)\n",
    "tess_groups_ilocs = get_tess_groups_original_ilocs(tessellation, tess_groups)"
   ]
  },
  {
   "cell_type": "code",
   "execution_count": null,
   "id": "1fd02c8f-750f-41ca-9eef-3ba3af9f8d16",
   "metadata": {},
   "outputs": [],
   "source": []
  },
  {
   "cell_type": "code",
   "execution_count": 112,
   "id": "2498ca54-160c-4370-8c9c-f3863b12f952",
   "metadata": {},
   "outputs": [],
   "source": [
    "from scipy.cluster.hierarchy import dendrogram, fcluster\n",
    "from sklearn.cluster import AgglomerativeClustering\n",
    "from sklearn.metrics import adjusted_rand_score, davies_bouldin_score"
   ]
  },
  {
   "cell_type": "code",
   "execution_count": 84,
   "id": "45b6dbdd-9c5b-415a-92e7-6f9d25c8b1de",
   "metadata": {},
   "outputs": [],
   "source": [
    "clusterer = AgglomerativeClustering(\n",
    "    linkage=\"single\",\n",
    "    # connectivity=graph.higher_order(k=3, lower_order=True).subgraph(buildings.index).transform('B').sparse,\n",
    "    connectivity=graph.subgraph(X_train.index.values).transform(\"B\").sparse,\n",
    "    # connectivity=graph.higher_order(k=3, lower_order=True).transform('B').sparse,\n",
    "    compute_full_tree=True,\n",
    "    compute_distances=True,\n",
    ")"
   ]
  },
  {
   "cell_type": "code",
   "execution_count": null,
   "id": "013bbb4a-cfad-4736-bbbd-21b30a47bed3",
   "metadata": {},
   "outputs": [],
   "source": []
  },
  {
   "cell_type": "code",
   "execution_count": 85,
   "id": "f8f2da66-d993-45c9-ac1f-102fd450f76a",
   "metadata": {},
   "outputs": [
    {
     "name": "stderr",
     "output_type": "stream",
     "text": [
      "/home/krasen/miniconda3/envs/momepy/lib/python3.12/site-packages/sklearn/cluster/_agglomerative.py:593: UserWarning: the number of connected components of the connectivity matrix is 180 > 1. Completing it to avoid stopping the tree early.\n",
      "  connectivity, n_connected_components = _fix_connectivity(\n"
     ]
    },
    {
     "name": "stdout",
     "output_type": "stream",
     "text": [
      "CPU times: user 8min 27s, sys: 32 s, total: 8min 59s\n",
      "Wall time: 32 s\n"
     ]
    }
   ],
   "source": [
    "%%time\n",
    "model = clusterer.fit(X_train)"
   ]
  },
  {
   "cell_type": "code",
   "execution_count": 341,
   "id": "96d47f3f-b4a1-48f3-b35e-718da27872b5",
   "metadata": {},
   "outputs": [],
   "source": [
    "# tessellation.iloc[np.where(graph.cardinalities == 1)].explore()"
   ]
  },
  {
   "cell_type": "code",
   "execution_count": null,
   "id": "9cc35ced-a8d8-4f58-90d3-f090766d9df1",
   "metadata": {},
   "outputs": [],
   "source": []
  },
  {
   "cell_type": "code",
   "execution_count": 86,
   "id": "b0f40f69-dccf-486a-8037-56df29a65c99",
   "metadata": {},
   "outputs": [],
   "source": [
    "# tessellation[tessellation.enclosure_index == 36744]"
   ]
  },
  {
   "cell_type": "code",
   "execution_count": 87,
   "id": "4162e522-52ea-4f23-b6be-e71eaa48306f",
   "metadata": {},
   "outputs": [],
   "source": [
    "# tessellation[tessellation.enclosure_index == 15509].explore()"
   ]
  },
  {
   "cell_type": "code",
   "execution_count": null,
   "id": "c2f79759-cd66-4f82-9e6e-826414a15210",
   "metadata": {},
   "outputs": [],
   "source": []
  },
  {
   "cell_type": "code",
   "execution_count": 88,
   "id": "08ea1bf5-92ce-43c6-95b7-204e6110d664",
   "metadata": {},
   "outputs": [],
   "source": [
    "def get_linkage_matrix(model):\n",
    "    # Create linkage matrix and then plot the dendrogram\n",
    "\n",
    "    # create the counts of samples under each node\n",
    "    counts = np.zeros(model.children_.shape[0])\n",
    "    n_samples = len(model.labels_)\n",
    "    for i, merge in enumerate(model.children_):\n",
    "        current_count = 0\n",
    "        for child_idx in merge:\n",
    "            if child_idx < n_samples:\n",
    "                current_count += 1  # leaf node\n",
    "            else:\n",
    "                current_count += counts[child_idx - n_samples]\n",
    "        counts[i] = current_count\n",
    "\n",
    "    linkage_matrix = np.column_stack(\n",
    "        [model.children_, model.distances_, counts]\n",
    "    ).astype(float)\n",
    "    return linkage_matrix"
   ]
  },
  {
   "cell_type": "code",
   "execution_count": 89,
   "id": "a8a9e1fe-d7bc-4d88-8326-6e3241e7b1ec",
   "metadata": {},
   "outputs": [],
   "source": [
    "linkage_matrix = get_linkage_matrix(model)"
   ]
  },
  {
   "cell_type": "code",
   "execution_count": 110,
   "id": "f2cf2d78-c48a-4b62-9a7a-19f37f7ec801",
   "metadata": {},
   "outputs": [],
   "source": [
    "tess_groups = tess_groups[tess_groups.index.isin(X_train.index)]"
   ]
  },
  {
   "cell_type": "code",
   "execution_count": null,
   "id": "d204361f-18a7-4388-845f-19bde4b9c3cb",
   "metadata": {},
   "outputs": [],
   "source": []
  },
  {
   "cell_type": "code",
   "execution_count": 113,
   "id": "d65520bf-d376-4f7b-b1d5-d86b6075a396",
   "metadata": {},
   "outputs": [
    {
     "name": "stdout",
     "output_type": "stream",
     "text": [
      "25  -  -7.517984782354125e-05 0.6700091121837655\n",
      "75  -  -4.3772357334593385e-06 0.3686072576764354\n",
      "125  -  0.0 0.37573411614791535\n",
      "175  -  0.0 0.05591956782468782\n",
      "225  -  0.0 0.03264023829374794\n",
      "275  -  0.0 0.01322153462460506\n",
      "325  -  0.0 0.01322153462460506\n",
      "375  -  0.0 0.01322153462460506\n",
      "425  -  0.0 0.01322153462460506\n",
      "475  -  0.0 0.01322153462460506\n",
      "525  -  0.0 0.01322153462460506\n",
      "575  -  0.0 0.01322153462460506\n",
      "625  -  0.0 0.01322153462460506\n"
     ]
    },
    {
     "ename": "ValueError",
     "evalue": "Number of labels is 1. Valid values are 2 to n_samples - 1 (inclusive)",
     "output_type": "error",
     "traceback": [
      "\u001b[0;31m---------------------------------------------------------------------------\u001b[0m",
      "\u001b[0;31mValueError\u001b[0m                                Traceback (most recent call last)",
      "Cell \u001b[0;32mIn[113], line 8\u001b[0m\n\u001b[1;32m      3\u001b[0m r \u001b[38;5;241m=\u001b[39m pd\u001b[38;5;241m.\u001b[39mSeries(r, index\u001b[38;5;241m=\u001b[39mX_train\u001b[38;5;241m.\u001b[39mindex)\n\u001b[1;32m      4\u001b[0m \u001b[38;5;66;03m# ssplits = graph.describe(r, statistics=['nunique'])['nunique']\u001b[39;00m\n\u001b[1;32m      5\u001b[0m \u001b[38;5;28mprint\u001b[39m(t, \u001b[38;5;124m'\u001b[39m\u001b[38;5;124m - \u001b[39m\u001b[38;5;124m'\u001b[39m, \n\u001b[1;32m      6\u001b[0m       adjusted_rand_score(tess_groups, r\u001b[38;5;241m.\u001b[39mloc[tess_groups\u001b[38;5;241m.\u001b[39mindex]),\n\u001b[1;32m      7\u001b[0m       \u001b[38;5;66;03m# (ssplits > 1).sum() / ssplits.shape[0],\u001b[39;00m\n\u001b[0;32m----> 8\u001b[0m       \u001b[43mdavies_bouldin_score\u001b[49m\u001b[43m(\u001b[49m\u001b[43mX_train\u001b[49m\u001b[43m,\u001b[49m\u001b[43m \u001b[49m\u001b[43mr\u001b[49m\u001b[43m)\u001b[49m\n\u001b[1;32m      9\u001b[0m      )\n",
      "File \u001b[0;32m~/miniconda3/envs/momepy/lib/python3.12/site-packages/sklearn/utils/_param_validation.py:213\u001b[0m, in \u001b[0;36mvalidate_params.<locals>.decorator.<locals>.wrapper\u001b[0;34m(*args, **kwargs)\u001b[0m\n\u001b[1;32m    207\u001b[0m \u001b[38;5;28;01mtry\u001b[39;00m:\n\u001b[1;32m    208\u001b[0m     \u001b[38;5;28;01mwith\u001b[39;00m config_context(\n\u001b[1;32m    209\u001b[0m         skip_parameter_validation\u001b[38;5;241m=\u001b[39m(\n\u001b[1;32m    210\u001b[0m             prefer_skip_nested_validation \u001b[38;5;129;01mor\u001b[39;00m global_skip_validation\n\u001b[1;32m    211\u001b[0m         )\n\u001b[1;32m    212\u001b[0m     ):\n\u001b[0;32m--> 213\u001b[0m         \u001b[38;5;28;01mreturn\u001b[39;00m \u001b[43mfunc\u001b[49m\u001b[43m(\u001b[49m\u001b[38;5;241;43m*\u001b[39;49m\u001b[43margs\u001b[49m\u001b[43m,\u001b[49m\u001b[43m \u001b[49m\u001b[38;5;241;43m*\u001b[39;49m\u001b[38;5;241;43m*\u001b[39;49m\u001b[43mkwargs\u001b[49m\u001b[43m)\u001b[49m\n\u001b[1;32m    214\u001b[0m \u001b[38;5;28;01mexcept\u001b[39;00m InvalidParameterError \u001b[38;5;28;01mas\u001b[39;00m e:\n\u001b[1;32m    215\u001b[0m     \u001b[38;5;66;03m# When the function is just a wrapper around an estimator, we allow\u001b[39;00m\n\u001b[1;32m    216\u001b[0m     \u001b[38;5;66;03m# the function to delegate validation to the estimator, but we replace\u001b[39;00m\n\u001b[1;32m    217\u001b[0m     \u001b[38;5;66;03m# the name of the estimator by the name of the function in the error\u001b[39;00m\n\u001b[1;32m    218\u001b[0m     \u001b[38;5;66;03m# message to avoid confusion.\u001b[39;00m\n\u001b[1;32m    219\u001b[0m     msg \u001b[38;5;241m=\u001b[39m re\u001b[38;5;241m.\u001b[39msub(\n\u001b[1;32m    220\u001b[0m         \u001b[38;5;124mr\u001b[39m\u001b[38;5;124m\"\u001b[39m\u001b[38;5;124mparameter of \u001b[39m\u001b[38;5;124m\\\u001b[39m\u001b[38;5;124mw+ must be\u001b[39m\u001b[38;5;124m\"\u001b[39m,\n\u001b[1;32m    221\u001b[0m         \u001b[38;5;124mf\u001b[39m\u001b[38;5;124m\"\u001b[39m\u001b[38;5;124mparameter of \u001b[39m\u001b[38;5;132;01m{\u001b[39;00mfunc\u001b[38;5;241m.\u001b[39m\u001b[38;5;18m__qualname__\u001b[39m\u001b[38;5;132;01m}\u001b[39;00m\u001b[38;5;124m must be\u001b[39m\u001b[38;5;124m\"\u001b[39m,\n\u001b[1;32m    222\u001b[0m         \u001b[38;5;28mstr\u001b[39m(e),\n\u001b[1;32m    223\u001b[0m     )\n",
      "File \u001b[0;32m~/miniconda3/envs/momepy/lib/python3.12/site-packages/sklearn/metrics/cluster/_unsupervised.py:446\u001b[0m, in \u001b[0;36mdavies_bouldin_score\u001b[0;34m(X, labels)\u001b[0m\n\u001b[1;32m    444\u001b[0m n_samples, _ \u001b[38;5;241m=\u001b[39m X\u001b[38;5;241m.\u001b[39mshape\n\u001b[1;32m    445\u001b[0m n_labels \u001b[38;5;241m=\u001b[39m \u001b[38;5;28mlen\u001b[39m(le\u001b[38;5;241m.\u001b[39mclasses_)\n\u001b[0;32m--> 446\u001b[0m \u001b[43mcheck_number_of_labels\u001b[49m\u001b[43m(\u001b[49m\u001b[43mn_labels\u001b[49m\u001b[43m,\u001b[49m\u001b[43m \u001b[49m\u001b[43mn_samples\u001b[49m\u001b[43m)\u001b[49m\n\u001b[1;32m    448\u001b[0m intra_dists \u001b[38;5;241m=\u001b[39m np\u001b[38;5;241m.\u001b[39mzeros(n_labels)\n\u001b[1;32m    449\u001b[0m centroids \u001b[38;5;241m=\u001b[39m np\u001b[38;5;241m.\u001b[39mzeros((n_labels, \u001b[38;5;28mlen\u001b[39m(X[\u001b[38;5;241m0\u001b[39m])), dtype\u001b[38;5;241m=\u001b[39m\u001b[38;5;28mfloat\u001b[39m)\n",
      "File \u001b[0;32m~/miniconda3/envs/momepy/lib/python3.12/site-packages/sklearn/metrics/cluster/_unsupervised.py:37\u001b[0m, in \u001b[0;36mcheck_number_of_labels\u001b[0;34m(n_labels, n_samples)\u001b[0m\n\u001b[1;32m     26\u001b[0m \u001b[38;5;250m\u001b[39m\u001b[38;5;124;03m\"\"\"Check that number of labels are valid.\u001b[39;00m\n\u001b[1;32m     27\u001b[0m \n\u001b[1;32m     28\u001b[0m \u001b[38;5;124;03mParameters\u001b[39;00m\n\u001b[0;32m   (...)\u001b[0m\n\u001b[1;32m     34\u001b[0m \u001b[38;5;124;03m    Number of samples.\u001b[39;00m\n\u001b[1;32m     35\u001b[0m \u001b[38;5;124;03m\"\"\"\u001b[39;00m\n\u001b[1;32m     36\u001b[0m \u001b[38;5;28;01mif\u001b[39;00m \u001b[38;5;129;01mnot\u001b[39;00m \u001b[38;5;241m1\u001b[39m \u001b[38;5;241m<\u001b[39m n_labels \u001b[38;5;241m<\u001b[39m n_samples:\n\u001b[0;32m---> 37\u001b[0m     \u001b[38;5;28;01mraise\u001b[39;00m \u001b[38;5;167;01mValueError\u001b[39;00m(\n\u001b[1;32m     38\u001b[0m         \u001b[38;5;124m\"\u001b[39m\u001b[38;5;124mNumber of labels is \u001b[39m\u001b[38;5;132;01m%d\u001b[39;00m\u001b[38;5;124m. Valid values are 2 to n_samples - 1 (inclusive)\u001b[39m\u001b[38;5;124m\"\u001b[39m\n\u001b[1;32m     39\u001b[0m         \u001b[38;5;241m%\u001b[39m n_labels\n\u001b[1;32m     40\u001b[0m     )\n",
      "\u001b[0;31mValueError\u001b[0m: Number of labels is 1. Valid values are 2 to n_samples - 1 (inclusive)"
     ]
    }
   ],
   "source": [
    "for t in range(25, 1500, 50):\n",
    "    r = fcluster(linkage_matrix, t=t, criterion=\"distance\")\n",
    "    r = pd.Series(r, index=X_train.index)\n",
    "    # ssplits = graph.describe(r, statistics=['nunique'])['nunique']\n",
    "    print(\n",
    "        t,\n",
    "        \" - \",\n",
    "        adjusted_rand_score(tess_groups, r.loc[tess_groups.index]),\n",
    "        # (ssplits > 1).sum() / ssplits.shape[0],\n",
    "        davies_bouldin_score(X_train, r),\n",
    "    )"
   ]
  },
  {
   "cell_type": "code",
   "execution_count": null,
   "id": "4dee3191-d864-48eb-8ecb-abcaf0da30f3",
   "metadata": {},
   "outputs": [],
   "source": []
  },
  {
   "cell_type": "code",
   "execution_count": 94,
   "id": "d8954925-fe52-46a4-b599-2d660346c92d",
   "metadata": {},
   "outputs": [
    {
     "data": {
      "image/png": "[encoded data removed]",
      "text/plain": [
       "<Figure size 4000x4000 with 1 Axes>"
      ]
     },
     "metadata": {},
     "output_type": "display_data"
    }
   ],
   "source": [
    "fix, ax = plt.subplots(figsize=(40, 40))\n",
    "# Plot the corresponding dendrogram\n",
    "_ = dendrogram(linkage_matrix, truncate_mode=\"level\", p=4, ax=ax)"
   ]
  },
  {
   "cell_type": "code",
   "execution_count": null,
   "id": "26fec5f6-2963-4988-bb1e-071406844cd0",
   "metadata": {},
   "outputs": [],
   "source": []
  },
  {
   "cell_type": "code",
   "execution_count": null,
   "id": "d93f2b25-6f38-4dee-8070-d3a3663a2246",
   "metadata": {},
   "outputs": [],
   "source": []
  },
  {
   "cell_type": "code",
   "execution_count": 278,
   "id": "98a17e75-f4b8-4a9e-a4d5-2861a2a0e956",
   "metadata": {},
   "outputs": [],
   "source": [
    "r = fcluster(linkage_matrix, t=1250, criterion=\"distance\")"
   ]
  },
  {
   "cell_type": "code",
   "execution_count": 279,
   "id": "6502b261-9da0-4900-abd6-e1e4d1253211",
   "metadata": {},
   "outputs": [],
   "source": [
    "clrs, counts = np.unique(r, return_counts=True)\n",
    "sorter = np.argsort(counts)[::-1]"
   ]
  },
  {
   "cell_type": "code",
   "execution_count": 280,
   "id": "40be0510-5bce-4d6c-9a8c-49fab59f3338",
   "metadata": {},
   "outputs": [
    {
     "data": {
      "text/plain": [
       "(array([2, 1, 4, 3], dtype=int32), array([123308, 106700,  53613,  39326]))"
      ]
     },
     "execution_count": 280,
     "metadata": {},
     "output_type": "execute_result"
    }
   ],
   "source": [
    "clrs[sorter][:15], counts[sorter][:15]"
   ]
  },
  {
   "cell_type": "code",
   "execution_count": 281,
   "id": "5e561312-5a73-4401-8b99-5a21675c8cb0",
   "metadata": {},
   "outputs": [
    {
     "data": {
      "text/plain": [
       "4"
      ]
     },
     "execution_count": 281,
     "metadata": {},
     "output_type": "execute_result"
    }
   ],
   "source": [
    "clrs[-1]"
   ]
  },
  {
   "cell_type": "code",
   "execution_count": 290,
   "id": "5396dc40-76ee-498a-89e1-29ef84ebd954",
   "metadata": {},
   "outputs": [
    {
     "data": {
      "text/html": [
       "<style type=\"text/css\">\n",
       "#T_393c2_row0_col0 {\n",
       "  background-color: #59bb93;\n",
       "  color: #f1f1f1;\n",
       "}\n",
       "#T_393c2_row0_col1, #T_393c2_row1_col1, #T_393c2_row2_col1, #T_393c2_row3_col0, #T_393c2_row4_col0, #T_393c2_row5_col0, #T_393c2_row6_col1 {\n",
       "  background-color: #00441b;\n",
       "  color: #f1f1f1;\n",
       "}\n",
       "#T_393c2_row0_col2, #T_393c2_row1_col2, #T_393c2_row2_col2, #T_393c2_row3_col3, #T_393c2_row4_col3, #T_393c2_row5_col3, #T_393c2_row6_col2 {\n",
       "  background-color: #f7fcfd;\n",
       "  color: #000000;\n",
       "}\n",
       "#T_393c2_row0_col3 {\n",
       "  background-color: #7dccb5;\n",
       "  color: #000000;\n",
       "}\n",
       "#T_393c2_row1_col0 {\n",
       "  background-color: #40ad75;\n",
       "  color: #f1f1f1;\n",
       "}\n",
       "#T_393c2_row1_col3 {\n",
       "  background-color: #8cd2bf;\n",
       "  color: #000000;\n",
       "}\n",
       "#T_393c2_row2_col0 {\n",
       "  background-color: #258d48;\n",
       "  color: #f1f1f1;\n",
       "}\n",
       "#T_393c2_row2_col3 {\n",
       "  background-color: #8dd3c0;\n",
       "  color: #000000;\n",
       "}\n",
       "#T_393c2_row3_col1 {\n",
       "  background-color: #98d8c9;\n",
       "  color: #000000;\n",
       "}\n",
       "#T_393c2_row3_col2 {\n",
       "  background-color: #7acbb3;\n",
       "  color: #000000;\n",
       "}\n",
       "#T_393c2_row4_col1 {\n",
       "  background-color: #87d0bc;\n",
       "  color: #000000;\n",
       "}\n",
       "#T_393c2_row4_col2 {\n",
       "  background-color: #6cc4a8;\n",
       "  color: #000000;\n",
       "}\n",
       "#T_393c2_row5_col1 {\n",
       "  background-color: #7fcdb6;\n",
       "  color: #000000;\n",
       "}\n",
       "#T_393c2_row5_col2 {\n",
       "  background-color: #95d6c6;\n",
       "  color: #000000;\n",
       "}\n",
       "#T_393c2_row6_col0 {\n",
       "  background-color: #147e3a;\n",
       "  color: #f1f1f1;\n",
       "}\n",
       "#T_393c2_row6_col3 {\n",
       "  background-color: #dcf2f2;\n",
       "  color: #000000;\n",
       "}\n",
       "</style>\n",
       "<table id=\"T_393c2\">\n",
       "  <thead>\n",
       "    <tr>\n",
       "      <th class=\"blank\" >&nbsp;</th>\n",
       "      <th class=\"blank level0\" >&nbsp;</th>\n",
       "      <th id=\"T_393c2_level0_col0\" class=\"col_heading level0 col0\" >1</th>\n",
       "      <th id=\"T_393c2_level0_col1\" class=\"col_heading level0 col1\" >2</th>\n",
       "      <th id=\"T_393c2_level0_col2\" class=\"col_heading level0 col2\" >3</th>\n",
       "      <th id=\"T_393c2_level0_col3\" class=\"col_heading level0 col3\" >4</th>\n",
       "    </tr>\n",
       "  </thead>\n",
       "  <tbody>\n",
       "    <tr>\n",
       "      <th id=\"T_393c2_level0_row0\" class=\"row_heading level0 row0\" rowspan=\"3\">area of building</th>\n",
       "      <th id=\"T_393c2_level1_row0\" class=\"row_heading level1 row0\" >25%</th>\n",
       "      <td id=\"T_393c2_row0_col0\" class=\"data row0 col0\" >3.7544</td>\n",
       "      <td id=\"T_393c2_row0_col1\" class=\"data row0 col1\" >6.9471</td>\n",
       "      <td id=\"T_393c2_row0_col2\" class=\"data row0 col2\" >-0.0803</td>\n",
       "      <td id=\"T_393c2_row0_col3\" class=\"data row0 col3\" >3.0453</td>\n",
       "    </tr>\n",
       "    <tr>\n",
       "      <th id=\"T_393c2_level1_row1\" class=\"row_heading level1 row1\" >50%</th>\n",
       "      <td id=\"T_393c2_row1_col0\" class=\"data row1 col0\" >7.7618</td>\n",
       "      <td id=\"T_393c2_row1_col1\" class=\"data row1 col1\" >11.3221</td>\n",
       "      <td id=\"T_393c2_row1_col2\" class=\"data row1 col2\" >1.8061</td>\n",
       "      <td id=\"T_393c2_row1_col3\" class=\"data row1 col3\" >5.6902</td>\n",
       "    </tr>\n",
       "    <tr>\n",
       "      <th id=\"T_393c2_level1_row2\" class=\"row_heading level1 row2\" >75%</th>\n",
       "      <td id=\"T_393c2_row2_col0\" class=\"data row2 col0\" >11.8910</td>\n",
       "      <td id=\"T_393c2_row2_col1\" class=\"data row2 col1\" >14.8156</td>\n",
       "      <td id=\"T_393c2_row2_col2\" class=\"data row2 col2\" >3.6197</td>\n",
       "      <td id=\"T_393c2_row2_col3\" class=\"data row2 col3\" >8.1478</td>\n",
       "    </tr>\n",
       "    <tr>\n",
       "      <th id=\"T_393c2_level0_row3\" class=\"row_heading level0 row3\" rowspan=\"3\">perimeter of building</th>\n",
       "      <th id=\"T_393c2_level1_row3\" class=\"row_heading level1 row3\" >25%</th>\n",
       "      <td id=\"T_393c2_row3_col0\" class=\"data row3 col0\" >6.2655</td>\n",
       "      <td id=\"T_393c2_row3_col1\" class=\"data row3 col1\" >-3.8714</td>\n",
       "      <td id=\"T_393c2_row3_col2\" class=\"data row3 col2\" >-2.6849</td>\n",
       "      <td id=\"T_393c2_row3_col3\" class=\"data row3 col3\" >-10.0386</td>\n",
       "    </tr>\n",
       "    <tr>\n",
       "      <th id=\"T_393c2_level1_row4\" class=\"row_heading level1 row4\" >50%</th>\n",
       "      <td id=\"T_393c2_row4_col0\" class=\"data row4 col0\" >8.9887</td>\n",
       "      <td id=\"T_393c2_row4_col1\" class=\"data row4 col1\" >-0.8951</td>\n",
       "      <td id=\"T_393c2_row4_col2\" class=\"data row4 col2\" >0.2662</td>\n",
       "      <td id=\"T_393c2_row4_col3\" class=\"data row4 col3\" >-8.0241</td>\n",
       "    </tr>\n",
       "    <tr>\n",
       "      <th id=\"T_393c2_level1_row5\" class=\"row_heading level1 row5\" >75%</th>\n",
       "      <td id=\"T_393c2_row5_col0\" class=\"data row5 col0\" >12.4083</td>\n",
       "      <td id=\"T_393c2_row5_col1\" class=\"data row5 col1\" >2.7067</td>\n",
       "      <td id=\"T_393c2_row5_col2\" class=\"data row5 col2\" >1.7312</td>\n",
       "      <td id=\"T_393c2_row5_col3\" class=\"data row5 col3\" >-4.9098</td>\n",
       "    </tr>\n",
       "    <tr>\n",
       "      <th id=\"T_393c2_level0_row6\" class=\"row_heading level0 row6\" >count</th>\n",
       "      <th id=\"T_393c2_level1_row6\" class=\"row_heading level1 row6\" >count</th>\n",
       "      <td id=\"T_393c2_row6_col0\" class=\"data row6 col0\" >106700.0000</td>\n",
       "      <td id=\"T_393c2_row6_col1\" class=\"data row6 col1\" >123308.0000</td>\n",
       "      <td id=\"T_393c2_row6_col2\" class=\"data row6 col2\" >39326.0000</td>\n",
       "      <td id=\"T_393c2_row6_col3\" class=\"data row6 col3\" >53613.0000</td>\n",
       "    </tr>\n",
       "  </tbody>\n",
       "</table>\n"
      ],
      "text/plain": [
       "<pandas.io.formats.style.Styler at 0x7390f97e1d00>"
      ]
     },
     "execution_count": 290,
     "metadata": {},
     "output_type": "execute_result"
    }
   ],
   "source": [
    "pprint_cluster_percentiles(\n",
    "    pd.DataFrame(X_train, columns=used_keys.iloc[[0, 1]].index.values), r\n",
    ")"
   ]
  },
  {
   "cell_type": "code",
   "execution_count": null,
   "id": "d58089f6-2280-47fc-a290-8b5cf0e3a777",
   "metadata": {},
   "outputs": [],
   "source": []
  },
  {
   "cell_type": "code",
   "execution_count": null,
   "id": "84b08567-4926-4733-bf72-ed6878ade258",
   "metadata": {},
   "outputs": [],
   "source": []
  },
  {
   "cell_type": "code",
   "execution_count": 292,
   "id": "674e6db7-ce84-44ff-9abd-83f5ab382c3c",
   "metadata": {},
   "outputs": [],
   "source": [
    "plotting = tessellation.copy()\n",
    "plotting[\"label\"] = r"
   ]
  },
  {
   "cell_type": "code",
   "execution_count": null,
   "id": "535801ba-7a97-4150-8666-21d110cdbb10",
   "metadata": {},
   "outputs": [],
   "source": []
  },
  {
   "cell_type": "code",
   "execution_count": null,
   "id": "46b6f860-17f1-4f44-b8dc-f8cbfc9e2023",
   "metadata": {},
   "outputs": [],
   "source": []
  },
  {
   "cell_type": "code",
   "execution_count": 293,
   "id": "1a944c03-10c5-448a-b110-4c80e46b071d",
   "metadata": {},
   "outputs": [],
   "source": [
    "import glasbey\n",
    "\n",
    "\n",
    "def hex_to_rgb(hexa):\n",
    "    return tuple(int(hexa[i : i + 2], 16) for i in (0, 2, 4))\n",
    "\n",
    "\n",
    "# gb_cols = glasbey.extend_palette(Set3_12.hex_colors, palette_size=plotting['label'].unique().shape[0] + 1)\n",
    "# gb_cols = [hex_to_rgb(c[1:]) for c in gb_cols]\n",
    "\n",
    "gb_cols = [hex_to_rgb(c[1:]) for c in Set3_12.hex_colors]\n",
    "\n",
    "\n",
    "colors = apply_categorical_cmap(\n",
    "    plotting[\"label\"], cmap=dict(zip(np.unique(plotting[\"label\"]), gb_cols, strict=False))\n",
    ")"
   ]
  },
  {
   "cell_type": "code",
   "execution_count": 294,
   "id": "14c4b76f-b02f-4ac9-a51a-c14b5cbfd803",
   "metadata": {},
   "outputs": [
    {
     "name": "stderr",
     "output_type": "stream",
     "text": [
      "/home/krasen/miniconda3/envs/momepy/lib/python3.12/site-packages/lonboard/_geoarrow/ops/reproject.py:97: UserWarning: Input being reprojected to EPSG:4326 CRS\n",
      "  warnings.warn(\"Input being reprojected to EPSG:4326 CRS\")\n"
     ]
    }
   ],
   "source": [
    "layer = PolygonLayer.from_geopandas(\n",
    "    gdf=plotting[[\"geometry\", \"label\"]], get_fill_color=colors, opacity=0.15\n",
    ")"
   ]
  },
  {
   "cell_type": "code",
   "execution_count": 297,
   "id": "d72a9eae-4ccd-4f78-ba2f-577e1b10a852",
   "metadata": {},
   "outputs": [],
   "source": [
    "# m = Map(layer, basemap_style=CartoBasemap.Positron)\n",
    "# m"
   ]
  },
  {
   "cell_type": "markdown",
   "id": "e29bf1d6-d9af-49ee-99fe-c350eb890e86",
   "metadata": {},
   "source": [
    "### HDBSCAN"
   ]
  },
  {
   "cell_type": "code",
   "execution_count": 311,
   "id": "308f2b67-cc1b-46b6-844f-5d31bfc6a012",
   "metadata": {},
   "outputs": [],
   "source": [
    "from fast_hdbscan.boruvka import parallel_boruvka\n",
    "from fast_hdbscan.numba_kdtree import kdtree_to_numba\n",
    "from sklearn.neighbors import KDTree"
   ]
  },
  {
   "cell_type": "code",
   "execution_count": 312,
   "id": "5c05395d-59e5-435c-84c0-de0523364b62",
   "metadata": {},
   "outputs": [],
   "source": [
    "min_cluster_size = 25"
   ]
  },
  {
   "cell_type": "code",
   "execution_count": 485,
   "id": "2abf9727-307e-4f27-aa75-0596d5bb9c5a",
   "metadata": {},
   "outputs": [
    {
     "name": "stdout",
     "output_type": "stream",
     "text": [
      "CPU times: user 1.39 s, sys: 218 µs, total: 1.39 s\n",
      "Wall time: 1.38 s\n"
     ]
    }
   ],
   "source": [
    "%%time\n",
    "sklearn_tree = KDTree(X_train)"
   ]
  },
  {
   "cell_type": "code",
   "execution_count": 486,
   "id": "64e3a76a-2d82-43f8-a27f-a8cc062a3806",
   "metadata": {},
   "outputs": [
    {
     "name": "stdout",
     "output_type": "stream",
     "text": [
      "CPU times: user 10 µs, sys: 0 ns, total: 10 µs\n",
      "Wall time: 12.2 µs\n"
     ]
    }
   ],
   "source": [
    "%%time\n",
    "numba_tree = kdtree_to_numba(sklearn_tree)"
   ]
  },
  {
   "cell_type": "code",
   "execution_count": 487,
   "id": "f04002ff-4836-4578-8415-465970656ef8",
   "metadata": {},
   "outputs": [
    {
     "name": "stdout",
     "output_type": "stream",
     "text": [
      "CPU times: user 5h 30min 35s, sys: 1.02 s, total: 5h 30min 36s\n",
      "Wall time: 18min 45s\n"
     ]
    }
   ],
   "source": [
    "%%time\n",
    "edges = parallel_boruvka(numba_tree, min_samples=min_cluster_size)"
   ]
  },
  {
   "cell_type": "code",
   "execution_count": 488,
   "id": "cb387077-027e-4249-90f3-139773c9a554",
   "metadata": {},
   "outputs": [],
   "source": [
    "sorted_mst = edges[np.argsort(edges.T[2])]"
   ]
  },
  {
   "cell_type": "code",
   "execution_count": null,
   "id": "1c0f247e-f46b-4520-acf9-c46bc1999ed4",
   "metadata": {},
   "outputs": [],
   "source": []
  },
  {
   "cell_type": "code",
   "execution_count": 313,
   "id": "8ce5e406-6359-4bba-a0d1-5bf88d70a9fb",
   "metadata": {},
   "outputs": [],
   "source": [
    "from fast_hdbscan.boruvka import parallel_boruvka\n",
    "from fast_hdbscan.cluster_trees import (\n",
    "    cluster_tree_from_condensed_tree,\n",
    "    condense_tree,\n",
    "    extract_eom_clusters,\n",
    "    get_cluster_label_vector,\n",
    "    get_point_membership_strength_vector,\n",
    "    mst_to_linkage_tree,\n",
    ")\n",
    "from fast_hdbscan.numba_kdtree import kdtree_to_numba\n",
    "from sklearn.neighbors import KDTree"
   ]
  },
  {
   "cell_type": "code",
   "execution_count": null,
   "id": "1f483dbf-e2e8-45e7-abf4-ae6f858891c0",
   "metadata": {},
   "outputs": [],
   "source": []
  },
  {
   "cell_type": "code",
   "execution_count": null,
   "id": "86133af2-d14b-4516-8a45-44b54c570fc3",
   "metadata": {},
   "outputs": [],
   "source": []
  },
  {
   "cell_type": "code",
   "execution_count": 490,
   "id": "dffec7fc-f571-403f-9281-9aad0fe2a2f7",
   "metadata": {},
   "outputs": [
    {
     "name": "stdout",
     "output_type": "stream",
     "text": [
      "CPU times: user 19.1 ms, sys: 0 ns, total: 19.1 ms\n",
      "Wall time: 19.1 ms\n"
     ]
    }
   ],
   "source": [
    "%%time\n",
    "linkage_tree = mst_to_linkage_tree(sorted_mst)"
   ]
  },
  {
   "cell_type": "code",
   "execution_count": null,
   "id": "2a0e32a8-c030-4abb-8a77-07e3302e1186",
   "metadata": {},
   "outputs": [],
   "source": []
  },
  {
   "cell_type": "code",
   "execution_count": null,
   "id": "d8fad96d-de98-4b07-98f7-ab0bd5051bcb",
   "metadata": {},
   "outputs": [],
   "source": []
  },
  {
   "cell_type": "code",
   "execution_count": null,
   "id": "ad46ff1c-4c48-4837-b6b6-8f85f2ea61a4",
   "metadata": {},
   "outputs": [],
   "source": []
  },
  {
   "cell_type": "code",
   "execution_count": 314,
   "id": "57d52dc9-d947-4bc6-8f2e-baabd6a3035c",
   "metadata": {},
   "outputs": [
    {
     "name": "stdout",
     "output_type": "stream",
     "text": [
      "CPU times: user 123 ms, sys: 15 µs, total: 123 ms\n",
      "Wall time: 122 ms\n"
     ]
    }
   ],
   "source": [
    "%%time\n",
    "linkage_tree = mst_to_linkage_tree(linkage_matrix[:, :3])"
   ]
  },
  {
   "cell_type": "code",
   "execution_count": null,
   "id": "8e9b4f32-0ed7-4194-9676-e4ee4bf6869c",
   "metadata": {},
   "outputs": [],
   "source": []
  },
  {
   "cell_type": "code",
   "execution_count": 315,
   "id": "859fd685-24bc-458a-87a0-a69aad2c1d64",
   "metadata": {},
   "outputs": [
    {
     "name": "stdout",
     "output_type": "stream",
     "text": [
      "25  -  0.033707987702162295 0.7778366109609317 10.265763981661781\n",
      "125  -  0.10136861486580426 0.47933561853802636 9.181071376294895\n",
      "225  -  0.12039112317194026 0.3935630304662994 8.57678991613816\n",
      "325  -  0.14417552312561174 0.33819481215183916 7.466703397555889\n",
      "425  -  0.16940838904747443 0.3030930771922328 6.90106827590262\n",
      "525  -  0.1740336822342479 0.2821144026728844 6.792668647496288\n",
      "625  -  0.1785190415906218 0.2673070194180469 6.945164261695872\n",
      "725  -  0.1967727619709728 0.25328614292747725 6.377978049358575\n",
      "825  -  0.19853845387808128 0.2419561104453672 6.387575818858608\n",
      "925  -  0.23086843897914805 0.22782066407181364 6.67680169180266\n",
      "1025  -  0.23331051650106233 0.2170263232047364 6.793321101668001\n",
      "1125  -  0.1894376624485858 0.21173443320420998 5.893711192150676\n"
     ]
    }
   ],
   "source": [
    "for mcs in range(25, 1200, 100):\n",
    "    condensed_tree = condense_tree(linkage_tree, min_cluster_size=mcs)\n",
    "    cluster_tree = cluster_tree_from_condensed_tree(condensed_tree)\n",
    "    selected_clusters = extract_eom_clusters(\n",
    "        condensed_tree, cluster_tree, allow_single_cluster=False\n",
    "    )\n",
    "    clusters = get_cluster_label_vector(condensed_tree, selected_clusters, 0)\n",
    "\n",
    "    ssplits = graph.describe(clusters, statistics=[\"nunique\"])[\"nunique\"]\n",
    "    print(\n",
    "        mcs,\n",
    "        \" - \",\n",
    "        adjusted_rand_score(tess_groups, clusters[blg_groups_locs]),\n",
    "        (ssplits > 1).sum() / ssplits.shape[0],\n",
    "        davies_bouldin_score(X_train, clusters),\n",
    "    )"
   ]
  },
  {
   "cell_type": "code",
   "execution_count": 329,
   "id": "0eb559ea-ea7c-4320-bb12-9e68b3d57a39",
   "metadata": {},
   "outputs": [],
   "source": [
    "mcs = 125\n",
    "condensed_tree = condense_tree(linkage_tree, min_cluster_size=mcs)"
   ]
  },
  {
   "cell_type": "code",
   "execution_count": 330,
   "id": "4f6fc51a-4562-4f0a-8237-9d8d22d838ce",
   "metadata": {},
   "outputs": [],
   "source": [
    "cluster_tree = cluster_tree_from_condensed_tree(condensed_tree)"
   ]
  },
  {
   "cell_type": "code",
   "execution_count": 331,
   "id": "fee4127a-47d2-439a-b283-f942e8938cbe",
   "metadata": {},
   "outputs": [],
   "source": [
    "selected_clusters = extract_eom_clusters(\n",
    "    condensed_tree, cluster_tree, allow_single_cluster=False\n",
    ")"
   ]
  },
  {
   "cell_type": "code",
   "execution_count": 332,
   "id": "93e264d5-8f03-4b34-986f-6d8cf02a977e",
   "metadata": {},
   "outputs": [],
   "source": [
    "# selected_clusters = extract_leaves(condensed_tree, False)"
   ]
  },
  {
   "cell_type": "code",
   "execution_count": 333,
   "id": "a3808b7f-b25f-497f-b180-9069269c3642",
   "metadata": {},
   "outputs": [],
   "source": [
    "clusters = get_cluster_label_vector(condensed_tree, selected_clusters, 0)"
   ]
  },
  {
   "cell_type": "code",
   "execution_count": 334,
   "id": "fb076c27-bb3b-461f-93b7-6913f292b82c",
   "metadata": {},
   "outputs": [],
   "source": [
    "membership_strengths = get_point_membership_strength_vector(\n",
    "    condensed_tree, selected_clusters, clusters\n",
    ")"
   ]
  },
  {
   "cell_type": "code",
   "execution_count": 335,
   "id": "fba34e04-1dff-4fe8-9cda-e1a83c596a76",
   "metadata": {},
   "outputs": [
    {
     "data": {
      "text/plain": [
       "(array([  -1,    0,    1, ..., 1234, 1235, 1236]),\n",
       " array([36831,   215,   142, ...,   234,   270,   136]))"
      ]
     },
     "execution_count": 335,
     "metadata": {},
     "output_type": "execute_result"
    }
   ],
   "source": [
    "np.unique(clusters, return_counts=True)"
   ]
  },
  {
   "cell_type": "code",
   "execution_count": 336,
   "id": "c7fc194a-4a92-42b6-a06b-30b9b4ae1f0e",
   "metadata": {},
   "outputs": [],
   "source": [
    "plotting = tessellation.copy()\n",
    "plotting[\"label\"] = clusters + 1"
   ]
  },
  {
   "cell_type": "code",
   "execution_count": 337,
   "id": "79c02b11-42fa-4f0f-b832-8bed8191329a",
   "metadata": {},
   "outputs": [],
   "source": [
    "import glasbey\n",
    "\n",
    "\n",
    "def hex_to_rgb(hexa):\n",
    "    return tuple(int(hexa[i : i + 2], 16) for i in (0, 2, 4))\n",
    "\n",
    "\n",
    "gb_cols = glasbey.extend_palette(\n",
    "    Set3_12.hex_colors, palette_size=plotting[\"label\"].unique().shape[0] + 1\n",
    ")\n",
    "gb_cols = [hex_to_rgb(c[1:]) for c in gb_cols]\n",
    "\n",
    "# gb_cols = [hex_to_rgb(c[1:]) for c in Set3_12.hex_colors]\n",
    "\n",
    "\n",
    "colors = apply_categorical_cmap(\n",
    "    plotting[\"label\"], cmap=dict(zip(np.unique(plotting[\"label\"]), gb_cols, strict=False))\n",
    ")"
   ]
  },
  {
   "cell_type": "code",
   "execution_count": null,
   "id": "68370faa-c543-4081-8ea4-f78a6fe14edc",
   "metadata": {},
   "outputs": [],
   "source": []
  },
  {
   "cell_type": "code",
   "execution_count": 338,
   "id": "bdf280a4-8cf4-45e5-b0ba-7e96e72f28e0",
   "metadata": {},
   "outputs": [
    {
     "name": "stderr",
     "output_type": "stream",
     "text": [
      "/home/krasen/miniconda3/envs/momepy/lib/python3.12/site-packages/lonboard/_geoarrow/ops/reproject.py:97: UserWarning: Input being reprojected to EPSG:4326 CRS\n",
      "  warnings.warn(\"Input being reprojected to EPSG:4326 CRS\")\n"
     ]
    }
   ],
   "source": [
    "layer = PolygonLayer.from_geopandas(\n",
    "    gdf=plotting[[\"geometry\", \"label\"]], get_fill_color=colors, opacity=0.15\n",
    ")"
   ]
  },
  {
   "cell_type": "code",
   "execution_count": null,
   "id": "537ad9c7-dccd-4971-8054-10bfaa8d9d32",
   "metadata": {},
   "outputs": [],
   "source": []
  },
  {
   "cell_type": "code",
   "execution_count": 340,
   "id": "1ad65f1c-55e1-4c57-878e-91f415be1e8e",
   "metadata": {},
   "outputs": [],
   "source": [
    "# m = Map(layer, basemap_style=CartoBasemap.Positron)\n",
    "# m"
   ]
  },
  {
   "cell_type": "code",
   "execution_count": null,
   "id": "42ddfb8c-2578-4c34-9483-a32875435b4e",
   "metadata": {},
   "outputs": [],
   "source": []
  },
  {
   "cell_type": "code",
   "execution_count": 3,
   "id": "b5c9c02c-27aa-436e-bc7f-11577204f8e5",
   "metadata": {},
   "outputs": [],
   "source": []
  },
  {
   "cell_type": "code",
   "execution_count": null,
   "id": "77177272-28fe-4242-bf6c-ae1f9044f7d0",
   "metadata": {},
   "outputs": [],
   "source": []
  },
  {
   "cell_type": "code",
   "execution_count": 849,
   "id": "1ef722fb-f639-4c63-9180-0c1a9dd5f3e0",
   "metadata": {
    "scrolled": true
   },
   "outputs": [
    {
     "name": "stdout",
     "output_type": "stream",
     "text": [
      "25 -- 2 : 0.7107610446787609\n",
      "50 -- 2 : 1.0207205020632597\n",
      "100 -- 2 : 0.9903180010914597\n"
     ]
    },
    {
     "data": {
      "image/png": "[encoded data removed]",
      "text/plain": [
       "<Figure size 1000x1000 with 1 Axes>"
      ]
     },
     "metadata": {},
     "output_type": "display_data"
    },
    {
     "data": {
      "image/png": "[encoded data removed]",
      "text/plain": [
       "<Figure size 1000x1000 with 1 Axes>"
      ]
     },
     "metadata": {},
     "output_type": "display_data"
    },
    {
     "data": {
      "image/png": "[encoded data removed]",
      "text/plain": [
       "<Figure size 1000x1000 with 1 Axes>"
      ]
     },
     "metadata": {},
     "output_type": "display_data"
    }
   ],
   "source": [
    "for nn in [25, 50, 100]:\n",
    "    show_nn(nn, 2)"
   ]
  },
  {
   "cell_type": "code",
   "execution_count": null,
   "id": "3d4cafec-0040-43aa-a3d0-73c1790a84d7",
   "metadata": {},
   "outputs": [],
   "source": []
  },
  {
   "cell_type": "markdown",
   "id": "2cc33824-40a9-47ab-bcc7-765aaa1c2300",
   "metadata": {},
   "source": [
    "### Admin regions"
   ]
  },
  {
   "cell_type": "code",
   "execution_count": 109,
   "id": "b2814278-1bd8-4558-8d54-ce82c529c584",
   "metadata": {},
   "outputs": [],
   "source": [
    "import geopandas as gpd"
   ]
  },
  {
   "cell_type": "code",
   "execution_count": 110,
   "id": "36c612f6-82de-4908-92d2-3da3e14982f3",
   "metadata": {},
   "outputs": [],
   "source": [
    "czech_admin = gpd.read_file(\"data/MAP_CUR_MAP_MESTSKECASTI_P.zip\")"
   ]
  },
  {
   "cell_type": "code",
   "execution_count": 24,
   "id": "61a8b901-e3e0-4378-9d80-e0436a5dd83f",
   "metadata": {},
   "outputs": [],
   "source": [
    "czech_admin.explore()"
   ]
  },
  {
   "cell_type": "code",
   "execution_count": 697,
   "id": "0605d6c9-5f17-4716-ab0c-9cddf89f08f0",
   "metadata": {},
   "outputs": [],
   "source": [
    "admin_id, tess_id = tessellation.sindex.query(\n",
    "    czech_admin.geometry.to_crs(tessellation.crs), predicate=\"intersects\"\n",
    ")"
   ]
  },
  {
   "cell_type": "code",
   "execution_count": null,
   "id": "9a9a2fb8-bf15-4033-b5a2-a40796fa1efd",
   "metadata": {},
   "outputs": [],
   "source": []
  },
  {
   "cell_type": "code",
   "execution_count": 113,
   "id": "d301c37c-2e83-49c7-aea8-2013e9690849",
   "metadata": {},
   "outputs": [],
   "source": [
    "# czech_admin.explore()"
   ]
  },
  {
   "cell_type": "code",
   "execution_count": 18,
   "id": "9da15730-5a62-401e-bf64-148399c65e6c",
   "metadata": {},
   "outputs": [],
   "source": []
  },
  {
   "cell_type": "code",
   "execution_count": null,
   "id": "c9020399-321a-4cc0-9022-377d45c5fe3e",
   "metadata": {},
   "outputs": [],
   "source": []
  }
 ],
 "metadata": {
  "kernelspec": {
   "display_name": "Python 3 (ipykernel)",
   "language": "python",
   "name": "python3"
  },
  "language_info": {
   "codemirror_mode": {
    "name": "ipython",
    "version": 3
   },
   "file_extension": ".py",
   "mimetype": "text/x-python",
   "name": "python",
   "nbconvert_exporter": "python",
   "pygments_lexer": "ipython3",
   "version": "3.12.3"
  }
 },
 "nbformat": 4,
 "nbformat_minor": 5
}
