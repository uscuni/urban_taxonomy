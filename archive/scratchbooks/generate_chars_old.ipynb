{
 "cells": [
  {
   "cell_type": "code",
   "execution_count": 14,
   "id": "f10de565-f458-4cad-8679-adc6bbc3a8d9",
   "metadata": {},
   "outputs": [],
   "source": [
    "import geopandas as gpd\n",
    "import libpysal\n",
    "import momepy as mm"
   ]
  },
  {
   "cell_type": "code",
   "execution_count": 2,
   "id": "18ded158-298b-415e-be59-cc288a8162fa",
   "metadata": {},
   "outputs": [
    {
     "name": "stdout",
     "output_type": "stream",
     "text": [
      "CPU times: user 22.5 s, sys: 332 ms, total: 22.8 s\n",
      "Wall time: 22.8 s\n"
     ]
    }
   ],
   "source": [
    "%%time\n",
    "test_file_path = \"./prg_geometry.gpkg\"\n",
    "old_df_streets = gpd.read_file(test_file_path, layer=\"edges\")\n",
    "old_df_buildings = gpd.read_file(test_file_path, layer=\"buildings\")\n",
    "old_df_blocks = gpd.read_file(test_file_path, layer=\"blocks\")\n",
    "old_df_tessellation = gpd.read_file(test_file_path, layer=\"tessellation\")"
   ]
  },
  {
   "cell_type": "code",
   "execution_count": 6,
   "id": "361b88a2-80f0-4158-86ec-2e5c2f8f3f5b",
   "metadata": {},
   "outputs": [],
   "source": [
    "buildings = old_df_buildings\n",
    "streets = old_df_streets\n",
    "blocks = old_df_blocks\n",
    "tessellation = old_df_tessellation"
   ]
  },
  {
   "cell_type": "code",
   "execution_count": 20,
   "id": "be519bac-02fe-46cf-9a81-47241775abde",
   "metadata": {},
   "outputs": [
    {
     "name": "stdout",
     "output_type": "stream",
     "text": [
      "CPU times: user 1min 40s, sys: 2.01 s, total: 1min 42s\n",
      "Wall time: 1min 42s\n"
     ]
    }
   ],
   "source": [
    "%%time\n",
    "limit = mm.buffered_limit(old_df_buildings, 100)\n",
    "extended = mm.extend_lines(\n",
    "    old_df_streets,\n",
    "    tolerance=120,\n",
    "    target=gpd.GeoSeries([limit.boundary]),\n",
    "    barrier=old_df_buildings,\n",
    ")\n",
    "blocks = mm.Blocks(old_df_tessellation, extended, old_df_buildings, \"bID\", \"uID\")\n",
    "old_df_buildings[\"bID\"] = blocks.buildings_id\n",
    "old_df_tessellation[\"bID\"] = blocks.tessellation_id\n",
    "blocks = blocks.blocks"
   ]
  },
  {
   "cell_type": "code",
   "execution_count": 34,
   "id": "8522634f-da14-400f-80d0-85b46dd86ff9",
   "metadata": {},
   "outputs": [],
   "source": []
  },
  {
   "cell_type": "code",
   "execution_count": 29,
   "id": "1422c34b-26c6-4762-bd68-3a09697122a0",
   "metadata": {},
   "outputs": [
    {
     "name": "stderr",
     "output_type": "stream",
     "text": [
      "/tmp/ipykernel_27409/323208979.py:2: UserWarning: Some objects were not attached to the network. Set larger `min_size``. 91 affected elements.\n",
      "  old_df_buildings['nID'] = mm.get_network_id(old_df_buildings,\n"
     ]
    }
   ],
   "source": [
    "old_df_streets[\"nID\"] = mm.unique_id(old_df_streets)\n",
    "old_df_buildings[\"nID\"] = mm.get_network_id(\n",
    "    old_df_buildings, old_df_streets, \"nID\", min_size=300, verbose=False\n",
    ")\n",
    "old_df_tessellation[\"nID\"] = buildings[\"nID\"]"
   ]
  },
  {
   "cell_type": "code",
   "execution_count": 7,
   "id": "b5473628-e06d-47c2-943c-abbfae904a7f",
   "metadata": {},
   "outputs": [],
   "source": [
    "buildings[\"sdbAre\"] = mm.Area(buildings).series\n",
    "buildings[\"sdbPer\"] = mm.Perimeter(buildings).series\n",
    "buildings[\"sdbCoA\"] = mm.CourtyardArea(buildings, \"sdbAre\").series"
   ]
  },
  {
   "cell_type": "code",
   "execution_count": 8,
   "id": "977f55fc-c73c-409f-93f0-9295c66c2cc3",
   "metadata": {},
   "outputs": [
    {
     "name": "stderr",
     "output_type": "stream",
     "text": [
      "/home/krasen/momepy/momepy/shape.py:826: RuntimeWarning: invalid value encountered in arccos\n",
      "  angle = np.arccos(cosine_angle)\n",
      "/home/krasen/momepy/momepy/shape.py:948: RuntimeWarning: invalid value encountered in arccos\n",
      "  angle = np.degrees(np.arccos(cosine_angle))\n"
     ]
    }
   ],
   "source": [
    "buildings[\"ssbCCo\"] = mm.CircularCompactness(buildings, \"sdbAre\").series\n",
    "buildings[\"ssbCor\"] = mm.Corners(buildings, verbose=False).series\n",
    "buildings[\"ssbSqu\"] = mm.Squareness(buildings, verbose=False).series\n",
    "buildings[\"ssbERI\"] = mm.EquivalentRectangularIndex(\n",
    "    buildings, \"sdbAre\", \"sdbPer\"\n",
    ").series\n",
    "buildings[\"ssbElo\"] = mm.Elongation(buildings).series"
   ]
  },
  {
   "cell_type": "code",
   "execution_count": 9,
   "id": "c0bc0c8b-407c-4a5f-bf3c-8ce25a820272",
   "metadata": {},
   "outputs": [
    {
     "name": "stderr",
     "output_type": "stream",
     "text": [
      "/home/krasen/momepy/momepy/shape.py:1166: RuntimeWarning: invalid value encountered in arccos\n",
      "  angle = np.arccos(cosine_angle)\n"
     ]
    }
   ],
   "source": [
    "cencon = mm.CentroidCorners(buildings, verbose=False)\n",
    "buildings[\"ssbCCM\"] = cencon.mean\n",
    "buildings[\"ssbCCD\"] = cencon.std"
   ]
  },
  {
   "cell_type": "code",
   "execution_count": 10,
   "id": "9d39ec54-2395-4d37-97c3-7f8b732d3d14",
   "metadata": {},
   "outputs": [],
   "source": [
    "buildings[\"stbOri\"] = mm.Orientation(buildings, verbose=False).series\n",
    "\n",
    "tessellation[\"stcOri\"] = mm.Orientation(tessellation, verbose=False).series\n",
    "buildings[\"stbCeA\"] = mm.CellAlignment(\n",
    "    buildings, tessellation, \"stbOri\", \"stcOri\", \"uID\", \"uID\"\n",
    ").series"
   ]
  },
  {
   "cell_type": "code",
   "execution_count": 11,
   "id": "767ec8b5-0525-419c-b4dc-e3590d85d088",
   "metadata": {},
   "outputs": [],
   "source": [
    "tessellation[\"sdcLAL\"] = mm.LongestAxisLength(tessellation).series\n",
    "tessellation[\"sdcAre\"] = mm.Area(tessellation).series\n",
    "tessellation[\"sscCCo\"] = mm.CircularCompactness(tessellation, \"sdcAre\").series\n",
    "tessellation[\"sscERI\"] = mm.EquivalentRectangularIndex(tessellation, \"sdcAre\").series"
   ]
  },
  {
   "cell_type": "code",
   "execution_count": 22,
   "id": "6f3a7524-3326-475b-b693-7a82b8580f95",
   "metadata": {},
   "outputs": [],
   "source": [
    "buildings[\"mtbSWR\"] = mm.SharedWallsRatio(buildings, \"sdbPer\").series"
   ]
  },
  {
   "cell_type": "code",
   "execution_count": 15,
   "id": "f0460639-f33e-4dd1-a551-7fd9c4c62675",
   "metadata": {},
   "outputs": [],
   "source": [
    "queen_1 = libpysal.weights.contiguity.Queen.from_dataframe(\n",
    "    tessellation, ids=\"uID\", silence_warnings=True\n",
    ")\n",
    "\n",
    "buildings[\"mtbAli\"] = mm.Alignment(\n",
    "    buildings, queen_1, \"uID\", \"stbOri\", verbose=False\n",
    ").series\n",
    "buildings[\"mtbNDi\"] = mm.NeighborDistance(\n",
    "    buildings, queen_1, \"uID\", verbose=False\n",
    ").series\n",
    "tessellation[\"mtcWNe\"] = mm.Neighbors(\n",
    "    tessellation, queen_1, \"uID\", weighted=True, verbose=False\n",
    ").series\n",
    "tessellation[\"mdcAre\"] = mm.CoveredArea(\n",
    "    tessellation, queen_1, \"uID\", verbose=False\n",
    ").series"
   ]
  },
  {
   "cell_type": "code",
   "execution_count": 21,
   "id": "ca770221-138e-403f-9956-3e96ab9a9789",
   "metadata": {},
   "outputs": [],
   "source": [
    "buildings_q1 = libpysal.weights.contiguity.Queen.from_dataframe(\n",
    "    buildings, silence_warnings=True\n",
    ")\n",
    "\n",
    "buildings[\"libNCo\"] = mm.Courtyards(\n",
    "    buildings, spatial_weights=buildings_q1, verbose=False\n",
    ").series\n",
    "buildings[\"ldbPWL\"] = mm.PerimeterWall(buildings, buildings_q1, verbose=False).series\n",
    "\n",
    "blocks[\"ldkAre\"] = mm.Area(blocks).series\n",
    "blocks[\"ldkPer\"] = mm.Perimeter(blocks).series\n",
    "blocks[\"lskCCo\"] = mm.CircularCompactness(blocks, \"ldkAre\").series\n",
    "blocks[\"lskERI\"] = mm.EquivalentRectangularIndex(blocks, \"ldkAre\", \"ldkPer\").series\n",
    "blocks[\"lskCWA\"] = mm.CompactnessWeightedAxis(blocks, \"ldkAre\", \"ldkPer\").series\n",
    "blocks[\"ltkOri\"] = mm.Orientation(blocks, verbose=False).series\n",
    "\n",
    "blo_q1 = libpysal.weights.contiguity.Queen.from_dataframe(\n",
    "    blocks, ids=\"bID\", silence_warnings=True\n",
    ")\n",
    "\n",
    "blocks[\"ltkWNB\"] = mm.Neighbors(\n",
    "    blocks, blo_q1, \"bID\", weighted=True, verbose=False\n",
    ").series"
   ]
  },
  {
   "cell_type": "code",
   "execution_count": 23,
   "id": "67b5ca6e-8759-414d-a45e-d2f3f0706d98",
   "metadata": {},
   "outputs": [],
   "source": [
    "blocks[\"likWBB\"] = mm.Count(blocks, buildings, \"bID\", \"bID\", weighted=True).series"
   ]
  },
  {
   "cell_type": "code",
   "execution_count": 24,
   "id": "4937d8ef-702c-4361-aeb1-155a45b2a961",
   "metadata": {},
   "outputs": [],
   "source": [
    "queen_3 = mm.sw_high(k=3, weights=queen_1)\n",
    "\n",
    "buildings[\"ltbIBD\"] = mm.MeanInterbuildingDistance(\n",
    "    buildings, queen_1, \"uID\", queen_3, verbose=False\n",
    ").series\n",
    "buildings[\"ltcBuA\"] = mm.BuildingAdjacency(\n",
    "    buildings, queen_3, \"uID\", buildings_q1, verbose=False\n",
    ").series"
   ]
  },
  {
   "cell_type": "code",
   "execution_count": 27,
   "id": "7d1f71f6-1ab5-4005-95c1-da793af2b5dd",
   "metadata": {},
   "outputs": [],
   "source": [
    "tessellation[\"ltcWRB\"] = mm.BlocksCount(\n",
    "    tessellation, \"bID\", queen_3, \"uID\", verbose=False\n",
    ").series\n",
    "tessellation[\"sicCAR\"] = mm.AreaRatio(\n",
    "    tessellation, buildings, \"sdcAre\", \"sdbAre\", \"uID\"\n",
    ").series"
   ]
  },
  {
   "cell_type": "code",
   "execution_count": 35,
   "id": "ff1a54f2-4f44-4927-b453-124fd0a485d6",
   "metadata": {},
   "outputs": [],
   "source": [
    "streets[\"sdsLen\"] = mm.Perimeter(streets).series\n",
    "tessellation[\"stcSAl\"] = mm.StreetAlignment(\n",
    "    tessellation, streets, \"stcOri\", \"nID\"\n",
    ").series\n",
    "buildings[\"stbSAl\"] = mm.StreetAlignment(buildings, streets, \"stbOri\", \"nID\").series"
   ]
  },
  {
   "cell_type": "code",
   "execution_count": 37,
   "id": "ed1563e4-02b6-4316-8555-dd029493537e",
   "metadata": {},
   "outputs": [
    {
     "name": "stdout",
     "output_type": "stream",
     "text": [
      "CPU times: user 50.8 s, sys: 56 ms, total: 50.9 s\n",
      "Wall time: 50.8 s\n"
     ]
    }
   ],
   "source": [
    "%%time\n",
    "profile = mm.StreetProfile(streets, buildings, distance=3)"
   ]
  },
  {
   "cell_type": "code",
   "execution_count": 41,
   "id": "075c9f39-5c75-4b47-a299-f13050f81a48",
   "metadata": {},
   "outputs": [],
   "source": [
    "streets[\"sdsSPW\"] = profile.w\n",
    "streets[\"sdsSPO\"] = profile.o\n",
    "streets[\"sdsSWD\"] = profile.wd"
   ]
  },
  {
   "cell_type": "code",
   "execution_count": 42,
   "id": "bdbfa315-6ebb-4b11-97cb-7de4ca92aaea",
   "metadata": {},
   "outputs": [
    {
     "data": {
      "application/vnd.jupyter.widget-view+json": {
       "model_id": "c0fd34bb5543489ba9177f0adbac2665",
       "version_major": 2,
       "version_minor": 0
      },
      "text/plain": [
       "  0%|          | 0/22503 [00:00<?, ?it/s]"
      ]
     },
     "metadata": {},
     "output_type": "display_data"
    }
   ],
   "source": [
    "streets[\"sssLin\"] = mm.Linearity(streets).series\n",
    "streets[\"sdsAre\"] = mm.Reached(\n",
    "    streets, tessellation, \"nID\", \"nID\", mode=\"sum\", values=\"sdcAre\"\n",
    ").series\n",
    "streets[\"sisBpM\"] = mm.Count(streets, buildings, \"nID\", \"nID\", weighted=True).series"
   ]
  },
  {
   "cell_type": "code",
   "execution_count": 43,
   "id": "8ac3940f-169e-43c0-a42d-f599d7d48372",
   "metadata": {},
   "outputs": [
    {
     "name": "stderr",
     "output_type": "stream",
     "text": [
      "/tmp/ipykernel_27409/2635604695.py:1: FutureWarning: `use_index` defaults to False but will default to True in future. Set True/False directly to control this behavior and silence this warning\n",
      "  str_q1 = libpysal.weights.contiguity.Queen.from_dataframe(streets, silence_warnings=True)\n"
     ]
    }
   ],
   "source": [
    "str_q1 = libpysal.weights.contiguity.Queen.from_dataframe(\n",
    "    streets, silence_warnings=True\n",
    ")\n",
    "\n",
    "streets[\"misRea\"] = mm.Reached(\n",
    "    streets,\n",
    "    tessellation,\n",
    "    \"nID\",\n",
    "    \"nID\",\n",
    "    spatial_weights=str_q1,\n",
    "    mode=\"count\",\n",
    "    verbose=False,\n",
    ").series\n",
    "streets[\"mdsAre\"] = mm.Reached(\n",
    "    streets,\n",
    "    tessellation,\n",
    "    \"nID\",\n",
    "    \"nID\",\n",
    "    spatial_weights=str_q1,\n",
    "    mode=\"sum\",\n",
    "    verbose=False,\n",
    ").series"
   ]
  },
  {
   "cell_type": "code",
   "execution_count": 44,
   "id": "78a6b1aa-219b-4552-93c1-3f6ff00c11d4",
   "metadata": {},
   "outputs": [
    {
     "name": "stderr",
     "output_type": "stream",
     "text": [
      "/home/krasen/miniconda3/envs/momepy/lib/python3.12/site-packages/libpysal/weights/weights.py:1685: UserWarning: The weights matrix is not fully connected: \n",
      " There are 28 disconnected components.\n",
      "  w = W(neighbors, weights, ids, silence_warnings=silence_warnings)\n"
     ]
    }
   ],
   "source": [
    "graph = mm.gdf_to_nx(streets)\n",
    "graph = mm.node_degree(graph)\n",
    "graph = mm.subgraph(\n",
    "    graph,\n",
    "    radius=5,\n",
    "    meshedness=True,\n",
    "    cds_length=False,\n",
    "    mode=\"sum\",\n",
    "    degree=\"degree\",\n",
    "    length=\"mm_len\",\n",
    "    mean_node_degree=False,\n",
    "    proportion={0: True, 3: True, 4: True},\n",
    "    cyclomatic=False,\n",
    "    edge_node_ratio=False,\n",
    "    gamma=False,\n",
    "    local_closeness=True,\n",
    "    closeness_weight=\"mm_len\",\n",
    "    verbose=False,\n",
    ")\n",
    "graph = mm.cds_length(graph, radius=3, name=\"ldsCDL\", verbose=False)\n",
    "graph = mm.clustering(graph, name=\"xcnSCl\")\n",
    "graph = mm.mean_node_dist(graph, name=\"mtdMDi\", verbose=False)\n",
    "\n",
    "nodes, edges, sw = mm.nx_to_gdf(graph, spatial_weights=True)"
   ]
  },
  {
   "cell_type": "code",
   "execution_count": 45,
   "id": "18552868-bdc1-474d-b26b-b9cc5a2928b3",
   "metadata": {},
   "outputs": [
    {
     "data": {
      "application/vnd.jupyter.widget-view+json": {
       "model_id": "cf929f9aaa1f4b34990ac4acbb95f9db",
       "version_major": 2,
       "version_minor": 0
      },
      "text/plain": [
       "  0%|          | 0/140408 [00:00<?, ?it/s]"
      ]
     },
     "metadata": {},
     "output_type": "display_data"
    }
   ],
   "source": [
    "edges_w3 = mm.sw_high(k=3, gdf=edges)\n",
    "edges[\"ldsMSL\"] = mm.SegmentsLength(\n",
    "    edges, spatial_weights=edges_w3, mean=True, verbose=False\n",
    ").series\n",
    "\n",
    "edges[\"ldsRea\"] = mm.Reached(\n",
    "    edges, tessellation, \"nID\", \"nID\", spatial_weights=edges_w3, verbose=False\n",
    ").series\n",
    "edges[\"ldsRea\"] = mm.Reached(\n",
    "    edges,\n",
    "    tessellation,\n",
    "    \"nID\",\n",
    "    \"nID\",\n",
    "    spatial_weights=edges_w3,\n",
    "    mode=\"sum\",\n",
    "    values=\"sdcAre\",\n",
    "    verbose=False,\n",
    ").series\n",
    "\n",
    "nodes_w5 = mm.sw_high(k=5, weights=sw)\n",
    "nodes[\"lddNDe\"] = mm.NodeDensity(nodes, edges, nodes_w5, verbose=False).series\n",
    "nodes[\"linWID\"] = mm.NodeDensity(\n",
    "    nodes, edges, nodes_w5, weighted=True, node_degree=\"degree\", verbose=False\n",
    ").series\n",
    "\n",
    "buildings[\"nodeID\"] = mm.get_node_id(buildings, nodes, edges, \"nodeID\", \"nID\")\n",
    "tessellation = tessellation.merge(buildings[[\"uID\", \"nodeID\"]], on=\"uID\", how=\"left\")\n",
    "\n",
    "nodes_w3 = mm.sw_high(k=3, weights=sw)\n",
    "\n",
    "nodes[\"lddRea\"] = mm.Reached(\n",
    "    nodes, tessellation, \"nodeID\", \"nodeID\", nodes_w3, verbose=False\n",
    ").series\n",
    "nodes[\"lddARe\"] = mm.Reached(\n",
    "    nodes,\n",
    "    tessellation,\n",
    "    \"nodeID\",\n",
    "    \"nodeID\",\n",
    "    nodes_w3,\n",
    "    mode=\"sum\",\n",
    "    values=\"sdcAre\",\n",
    "    verbose=False,\n",
    ").series\n",
    "\n",
    "nodes[\"sddAre\"] = mm.Reached(\n",
    "    nodes, tessellation, \"nodeID\", \"nodeID\", mode=\"sum\", values=\"sdcAre\", verbose=False\n",
    ").series\n",
    "nodes[\"midRea\"] = mm.Reached(\n",
    "    nodes, tessellation, \"nodeID\", \"nodeID\", spatial_weights=sw, verbose=False\n",
    ").series\n",
    "nodes[\"midAre\"] = mm.Reached(\n",
    "    nodes,\n",
    "    tessellation,\n",
    "    \"nodeID\",\n",
    "    \"nodeID\",\n",
    "    spatial_weights=sw,\n",
    "    mode=\"sum\",\n",
    "    values=\"sdcAre\",\n",
    "    verbose=False,\n",
    ").series\n",
    "\n",
    "nodes.rename(\n",
    "    columns={\n",
    "        \"degree\": \"mtdDeg\",\n",
    "        \"meshedness\": \"lcdMes\",\n",
    "        \"local_closeness\": \"lcnClo\",\n",
    "        \"proportion_3\": \"linP3W\",\n",
    "        \"proportion_4\": \"linP4W\",\n",
    "        \"proportion_0\": \"linPDE\",\n",
    "    },\n",
    "    inplace=True,\n",
    ")"
   ]
  },
  {
   "cell_type": "code",
   "execution_count": 46,
   "id": "62f78d98-4632-496e-952c-139f5bf842a7",
   "metadata": {},
   "outputs": [],
   "source": [
    "merged = tessellation.merge(\n",
    "    buildings.drop(columns=[\"nID\", \"bID\", \"nodeID\", \"geometry\"]), on=\"uID\"\n",
    ")\n",
    "merged = merged.merge(blocks.drop(columns=\"geometry\"), on=\"bID\", how=\"left\")\n",
    "merged = merged.merge(edges.drop(columns=\"geometry\"), on=\"nID\", how=\"left\")\n",
    "merged = merged.merge(nodes.drop(columns=\"geometry\"), on=\"nodeID\", how=\"left\")"
   ]
  },
  {
   "cell_type": "code",
   "execution_count": 48,
   "id": "bec6bac1-1306-4869-b305-4e5f81218a58",
   "metadata": {},
   "outputs": [],
   "source": [
    "primary = merged.drop(\n",
    "    columns=[\n",
    "        \"nID\",\n",
    "        \"bID\",\n",
    "        \"nodeID\",\n",
    "        \"mm_len\",\n",
    "        \"cdsbool\",\n",
    "        \"node_start\",\n",
    "        \"node_end\",\n",
    "        \"geometry\",\n",
    "    ]\n",
    ")"
   ]
  },
  {
   "cell_type": "code",
   "execution_count": 49,
   "id": "d2656db9-af4d-4a09-a1f7-fa18591bc753",
   "metadata": {},
   "outputs": [],
   "source": [
    "primary.to_parquet(\"./data/old_primary.parquet\")"
   ]
  },
  {
   "cell_type": "code",
   "execution_count": null,
   "id": "ef39a1ca-6332-45e2-9bc3-c7e1ea29d44d",
   "metadata": {},
   "outputs": [],
   "source": []
  }
 ],
 "metadata": {
  "kernelspec": {
   "display_name": "Python 3 (ipykernel)",
   "language": "python",
   "name": "python3"
  },
  "language_info": {
   "codemirror_mode": {
    "name": "ipython",
    "version": 3
   },
   "file_extension": ".py",
   "mimetype": "text/x-python",
   "name": "python",
   "nbconvert_exporter": "python",
   "pygments_lexer": "ipython3",
   "version": "3.12.3"
  }
 },
 "nbformat": 4,
 "nbformat_minor": 5
}
