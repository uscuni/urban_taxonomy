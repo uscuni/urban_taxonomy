{
 "cells": [
  {
   "cell_type": "code",
   "execution_count": 1,
   "id": "fe816513-a535-461f-b2ba-a69b378ccb63",
   "metadata": {},
   "outputs": [],
   "source": [
    "import momepy as mm\n",
    "import numpy as np\n",
    "import pandas as pd\n",
    "from libpysal.graph import Graph\n",
    "import geopandas as gpd\n",
    "import pytest\n",
    "import glob\n",
    "import shapely\n",
    "import gc\n",
    "from shapely import coverage_simplify\n",
    "import datetime\n",
    "from libpysal.graph import read_parquet\n",
    "from utils import lazy_higher_order, partial_apply\n",
    "import re\n",
    "import numba\n",
    "import matplotlib.pyplot as plt\n",
    "import seaborn as sns\n",
    "from utils import used_keys, char_units, standardize_features\n",
    "\n",
    "\n",
    "regions_datadir = '/data/uscuni-ulce/'\n",
    "data_dir = '/data/uscuni-ulce/processed_data/'\n",
    "eubucco_files = glob.glob(regions_datadir + 'eubucco_raw/*')\n",
    "graph_dir = data_dir + 'neigh_graphs/'\n",
    "chars_dir = '/data/uscuni-ulce/processed_data/chars/'"
   ]
  },
  {
   "cell_type": "code",
   "execution_count": 2,
   "id": "d4ee1733-2f90-4d9f-bebd-a5ae74b03c8a",
   "metadata": {},
   "outputs": [],
   "source": [
    "region_hulls = gpd.read_parquet(regions_datadir + 'regions/' + 'regions_hull.parquet')"
   ]
  },
  {
   "cell_type": "code",
   "execution_count": 3,
   "id": "66f490b7-5bc2-4000-9511-693c5233197d",
   "metadata": {},
   "outputs": [
    {
     "name": "stdout",
     "output_type": "stream",
     "text": [
      "Missing buildings for regions []\n",
      "Missing enclosures for regions []\n",
      "Missing tessellations for regions []\n",
      "Missing nodes for regions []\n",
      "Missing streets for regions []\n"
     ]
    }
   ],
   "source": [
    "def check_available():\n",
    "    elements = ['buildings', 'enclosures', 'tessellations', 'nodes', 'streets']\n",
    "    for el in elements:\n",
    "\n",
    "        el_ids = [int(re.findall(r'\\d+', f)[0]) for f in glob.glob(chars_dir + f'{el}/*.parquet')]\n",
    "        missing = np.setdiff1d(region_hulls.index.values, el_ids)\n",
    "        print(f'Missing {el} for regions {missing}')\n",
    "check_available()"
   ]
  },
  {
   "cell_type": "code",
   "execution_count": 4,
   "id": "634f6d18-da27-4178-9653-b07aea75c19e",
   "metadata": {},
   "outputs": [
    {
     "data": {
      "text/plain": [
       "69300"
      ]
     },
     "execution_count": 4,
     "metadata": {},
     "output_type": "execute_result"
    }
   ],
   "source": [
    "# 12199 - hills, small test\n",
    "# 69300 - prague medium\n",
    "# 226 - germany somewhere, largest cluster\n",
    "\n",
    "for region_id, region_hull in region_hulls.iterrows():\n",
    "\n",
    "    if region_id != 69300: continue\n",
    "\n",
    "    break\n",
    "region_id"
   ]
  },
  {
   "cell_type": "code",
   "execution_count": 6,
   "id": "5ed96ad0-7061-4562-a4de-15bb12c51b07",
   "metadata": {},
   "outputs": [],
   "source": [
    "@numba.njit(parallel=True)\n",
    "def numba_limit_range(rows, cols, partial_vals, output_vals):\n",
    "    # print(partial_vals)\n",
    "    ngroups = int(rows[-1])+1\n",
    "    nrows = rows.shape[0]\n",
    "    result = np.empty((ngroups, partial_vals.shape[1]*output_vals))\n",
    "\n",
    "    istart = 0\n",
    "    for g in range(ngroups):\n",
    "\n",
    "        # # find focal start\n",
    "        # istart = 0\n",
    "        # while istart < nrows and rows[istart] != g:\n",
    "        #     istart += 1\n",
    "\n",
    "        # find neighbors\n",
    "        iend = istart + 1\n",
    "        while iend < nrows and rows[iend-1] == rows[iend]:\n",
    "            iend += 1\n",
    "\n",
    "        ## for every column apply iqr and percentiles\n",
    "        for c in numba.prange(partial_vals.shape[1]):\n",
    "\n",
    "            col_vals = partial_vals[cols[istart:iend], c]\n",
    "            res_index = output_vals*c\n",
    "\n",
    "            if np.isnan(col_vals).all():\n",
    "                result[g, res_index] = np.nan\n",
    "                result[g, res_index+1] = np.nan\n",
    "                result[g, res_index+2] = np.nan\n",
    "                result[g, res_index+3] = np.nan\n",
    "                continue\n",
    "\n",
    "            lower, med, higher = np.nanpercentile(col_vals, (10, 50, 90))\n",
    "            result[g, res_index] = lower\n",
    "            result[g, res_index+1] = med\n",
    "            result[g, res_index+2] = higher\n",
    "            # result[g, res_index+3] = higher - lower\n",
    "\n",
    "            # ## this might be undesired\n",
    "            # if np.isfinite(col_vals).sum() > 3:\n",
    "\n",
    "            #     mask = np.logical_and(lower <= col_vals, col_vals <= higher)\n",
    "            #     col_vals = col_vals[mask]\n",
    "            #     result[g, res_index] = lower\n",
    "            #     result[g, res_index+1] = higher\n",
    "            #     result[g, res_index+2] = np.nanmax(col_vals) - np.nanmin(col_vals)\n",
    "\n",
    "            # else:\n",
    "\n",
    "            #     result[g, res_index] = lower\n",
    "            #     result[g, res_index+1] = higher\n",
    "            #     result[g, res_index+2] = np.nanmax(col_vals) - np.nanmin(col_vals)\n",
    "\n",
    "        # # go to next group\n",
    "        istart = iend\n",
    "    return result"
   ]
  },
  {
   "cell_type": "code",
   "execution_count": 79,
   "id": "8b80917a-c232-4230-944d-7654e1c4567f",
   "metadata": {},
   "outputs": [],
   "source": [
    "def parallel_higher_order_context(df, graph, k, n_splits, output_vals):\n",
    "    A = graph.transform(\"B\").sparse\n",
    "    ids = graph.unique_ids.values\n",
    "    rows = np.arange(A.shape[0])\n",
    "    values = df.values\n",
    "\n",
    "    final_result = pd.DataFrame(np.empty((values.shape[0], values.shape[1]*output_vals)),\n",
    "                                index=ids)\n",
    "\n",
    "    for source in np.array_split(rows, n_splits):\n",
    "        Q = A[source, :].copy()\n",
    "        for _ in range(1, k):\n",
    "            next_step = Q @ A\n",
    "            Q += next_step\n",
    "\n",
    "        sparray = Q.tocoo(copy=False)\n",
    "        sorter = sparray.row.argsort()\n",
    "        unique_tail = np.unique(sparray.col)\n",
    "        partial_vals = values[unique_tail, :]\n",
    "\n",
    "        cols_dict = pd.Series(np.arange(len(unique_tail)), index=unique_tail)\n",
    "        columns_to_pass = cols_dict.loc[sparray.col].values\n",
    "        rows_to_pass = sparray.row[sorter]\n",
    "\n",
    "        partial_res = numba_limit_range(rows_to_pass, columns_to_pass, partial_vals, output_vals)\n",
    "\n",
    "        final_result.iloc[source, :] = partial_res\n",
    "\n",
    "    return final_result"
   ]
  },
  {
   "cell_type": "code",
   "execution_count": 68,
   "id": "c955e945-632d-4681-9bce-74827ac084fa",
   "metadata": {},
   "outputs": [],
   "source": [
    "A = graph.transform(\"B\").sparse\n",
    "ids = graph.unique_ids.values\n",
    "rows = np.arange(A.shape[0])\n",
    "values = tessellation.drop(columns='geometry').values"
   ]
  },
  {
   "cell_type": "code",
   "execution_count": 69,
   "id": "f35476dd-a44b-454d-8022-4fef3a6003e3",
   "metadata": {},
   "outputs": [],
   "source": [
    "source=[0]"
   ]
  },
  {
   "cell_type": "code",
   "execution_count": 70,
   "id": "b7549685-6605-4dea-bab5-125bea885d97",
   "metadata": {},
   "outputs": [],
   "source": [
    "Q = A[source, :].copy()\n",
    "for _ in range(1, k):\n",
    "    next_step = Q @ A\n",
    "    Q += next_step"
   ]
  },
  {
   "cell_type": "code",
   "execution_count": 71,
   "id": "2913cdcb-afc1-4fca-aa4f-74220061cbfe",
   "metadata": {},
   "outputs": [],
   "source": [
    "assert np.allclose(sorted(Q.tocoo().col + ids[0]), higher[ids[0]].index.values)\n",
    "sparray = Q.tocoo(copy=False)"
   ]
  },
  {
   "cell_type": "code",
   "execution_count": 72,
   "id": "a7861bd9-63c9-4c32-90e7-fd28adf89318",
   "metadata": {},
   "outputs": [],
   "source": [
    "sorter = sparray.row.argsort()\n",
    "unique_tail = np.unique(sparray.col)\n",
    "partial_vals = values[unique_tail, :]"
   ]
  },
  {
   "cell_type": "code",
   "execution_count": 74,
   "id": "c07d4c13-8f5b-4551-9497-986fdd13c1c2",
   "metadata": {},
   "outputs": [
    {
     "data": {
      "text/plain": [
       "array([2.000e+00, 4.042e+03, 1.072e+03, 1.072e+03, 1.072e+03, 1.072e+03,\n",
       "       1.072e+03, 1.072e+03, 1.072e+03, 1.072e+03])"
      ]
     },
     "execution_count": 74,
     "metadata": {},
     "output_type": "execute_result"
    }
   ],
   "source": [
    "np.allclose(partial_vals[:, 0],"
   ]
  },
  {
   "cell_type": "code",
   "execution_count": null,
   "id": "84d49d04-f370-4d2a-8901-eed33c4bf0cc",
   "metadata": {},
   "outputs": [],
   "source": []
  },
  {
   "cell_type": "code",
   "execution_count": null,
   "id": "a9f915d0-4a6b-4209-ac52-6e694adb6e20",
   "metadata": {},
   "outputs": [],
   "source": []
  },
  {
   "cell_type": "code",
   "execution_count": 41,
   "id": "c6b75420-a719-4e26-be46-d111cf621ffe",
   "metadata": {},
   "outputs": [],
   "source": [
    "k=2"
   ]
  },
  {
   "cell_type": "code",
   "execution_count": null,
   "id": "96001d64-74dd-409e-9078-3fa319638249",
   "metadata": {},
   "outputs": [],
   "source": []
  },
  {
   "cell_type": "code",
   "execution_count": 42,
   "id": "091b30ba-c8c1-464b-b8a9-0f6817638e8e",
   "metadata": {},
   "outputs": [],
   "source": [
    "tessellation = gpd.read_parquet(chars_dir +  f'tessellations/chars_{region_id}.parquet')"
   ]
  },
  {
   "cell_type": "code",
   "execution_count": 43,
   "id": "4338b2d9-a30a-40b6-bbd8-c4f1038ac823",
   "metadata": {},
   "outputs": [],
   "source": [
    "graph = read_parquet(graph_dir + f'tessellation_graph_{region_id}_knn1.parquet')"
   ]
  },
  {
   "cell_type": "code",
   "execution_count": 44,
   "id": "63883bf8-3f02-4f3b-ba20-eca79a2d1073",
   "metadata": {},
   "outputs": [],
   "source": []
  },
  {
   "cell_type": "code",
   "execution_count": null,
   "id": "12e308c1-5949-4012-a320-3ede1894862d",
   "metadata": {},
   "outputs": [],
   "source": []
  },
  {
   "cell_type": "code",
   "execution_count": 84,
   "id": "3ad3ec76-e836-454f-b5ba-40622b5909cd",
   "metadata": {},
   "outputs": [
    {
     "name": "stdout",
     "output_type": "stream",
     "text": [
      "CPU times: user 1min 26s, sys: 10 s, total: 1min 36s\n",
      "Wall time: 10.4 s\n"
     ]
    }
   ],
   "source": [
    "%%time\n",
    "context = parallel_higher_order_context(tessellation.drop(columns='geometry'), graph, k=k, n_splits=5, output_vals=3)"
   ]
  },
  {
   "cell_type": "code",
   "execution_count": 87,
   "id": "e6f86cc6-dfb9-490d-8655-8dbd43e209c1",
   "metadata": {},
   "outputs": [],
   "source": [
    "context.columns = np.concatenate([(c+'_lower', c+'_median', c+'_higher') for c in tessellation.drop(columns='geometry').columns])"
   ]
  },
  {
   "cell_type": "code",
   "execution_count": null,
   "id": "484524b8-491a-44b3-8158-fdaa2a755f36",
   "metadata": {},
   "outputs": [],
   "source": []
  },
  {
   "cell_type": "code",
   "execution_count": null,
   "id": "96f6b75b-098a-4e13-90c5-da58f888dcf4",
   "metadata": {},
   "outputs": [],
   "source": [
    "higher = graph.higher_order(k=k, lower_order=True, diagonal=True)"
   ]
  },
  {
   "cell_type": "code",
   "execution_count": 90,
   "id": "0f2d36a9-5558-45ce-bff5-544e75aecf7e",
   "metadata": {},
   "outputs": [],
   "source": [
    "from pandas.testing import assert_series_equal"
   ]
  },
  {
   "cell_type": "code",
   "execution_count": 92,
   "id": "84a155fa-cc5c-4900-8f43-d1a7f0dee98c",
   "metadata": {},
   "outputs": [],
   "source": [
    "assert_series_equal(\n",
    "    higher.describe(tessellation['sdcAre'], statistics=['median'])['median'],\n",
    "    context['sdcAre_median'],\n",
    "    check_names=False\n",
    ")"
   ]
  },
  {
   "cell_type": "code",
   "execution_count": null,
   "id": "0761bf1e-358d-4f33-a25e-561828db146f",
   "metadata": {},
   "outputs": [],
   "source": []
  },
  {
   "cell_type": "code",
   "execution_count": null,
   "id": "8b9fcfb5-d624-4024-aaab-d1f0efc2d960",
   "metadata": {},
   "outputs": [],
   "source": []
  },
  {
   "cell_type": "code",
   "execution_count": null,
   "id": "bcbe8d29-85d2-4e3a-b94a-aa1ae2abb306",
   "metadata": {},
   "outputs": [],
   "source": []
  }
 ],
 "metadata": {
  "kernelspec": {
   "display_name": "Python 3 (ipykernel)",
   "language": "python",
   "name": "python3"
  },
  "language_info": {
   "codemirror_mode": {
    "name": "ipython",
    "version": 3
   },
   "file_extension": ".py",
   "mimetype": "text/x-python",
   "name": "python",
   "nbconvert_exporter": "python",
   "pygments_lexer": "ipython3",
   "version": "3.12.3"
  }
 },
 "nbformat": 4,
 "nbformat_minor": 5
}
