{
 "cells": [
  {
   "cell_type": "code",
   "execution_count": 2,
   "id": "076af89d-f50d-4f82-87a2-93e2ee383da7",
   "metadata": {},
   "outputs": [],
   "source": [
    "import glob\n",
    "\n",
    "import geopandas as gpd\n",
    "import momepy as mm\n",
    "import numpy as np\n",
    "from libpysal.graph import Graph\n",
    "from shapely import coverage_simplify\n",
    "\n",
    "regions_datadir = \"/data/uscuni-ulce/\"\n",
    "data_dir = \"/data/uscuni-ulce/processed_data/\"\n",
    "eubucco_files = glob.glob(regions_datadir + \"eubucco_raw/*\")\n",
    "graph_dir = data_dir + \"neigh_graphs/\""
   ]
  },
  {
   "cell_type": "code",
   "execution_count": 3,
   "id": "9af49ea1-1aa2-44b7-b67b-a0ef734224be",
   "metadata": {},
   "outputs": [],
   "source": [
    "def generate_enclosures(buildings, streets):\n",
    "    ## generate additional_boundaries\n",
    "    min_buffer: float = 0\n",
    "    max_buffer: float = 100\n",
    "\n",
    "    gabriel = Graph.build_triangulation(\n",
    "        buildings.representative_point(), \"gabriel\", kernel=\"identity\"\n",
    "    )\n",
    "    max_dist = gabriel.aggregate(\"max\")\n",
    "    buffer = np.clip(max_dist / 2 + max_dist * 0.1, min_buffer, max_buffer).values\n",
    "    # buffer = 100\n",
    "    buffered_buildings = buildings.buffer(buffer, resolution=2).union_all()\n",
    "\n",
    "    enclosures = mm.enclosures(streets, limit=buffered_buildings)\n",
    "    return enclosures\n",
    "\n",
    "\n",
    "def generate_tess(buildings, enclosures, n_workers=1):\n",
    "    tesselations = mm.enclosed_tessellation(\n",
    "        buildings, enclosures.geometry, n_jobs=n_workers\n",
    "    )\n",
    "\n",
    "    # deal with split buildings\n",
    "    tesselations = tesselations.dissolve(by=tesselations.index.values)\n",
    "\n",
    "    # drop empty spaces with no buildings and a positive index,\n",
    "    # leave negatives in the geodataframe\n",
    "    tesselations = tesselations.explode()\n",
    "    inp, res = buildings.geometry.centroid.sindex.query(tesselations.geometry)\n",
    "    to_keep = np.append(np.unique(inp), np.where(tesselations.index.values < 0)[0])\n",
    "    tesselations = tesselations.iloc[to_keep]\n",
    "\n",
    "    ### drop any remaining duplicates\n",
    "    ## sometimes -1s have multiple tesselation cells\n",
    "    tesselations = tesselations[~tesselations.index.duplicated()].sort_index()\n",
    "\n",
    "    # simplification will be moved to momepy in the end\n",
    "    simplified_tessellation = coverage_simplify(tesselations.geometry, 1)\n",
    "    tesselations = gpd.GeoDataFrame(\n",
    "        {\n",
    "            \"geometry\": simplified_tessellation.geoms,\n",
    "            \"eID\": tesselations[\"enclosure_index\"],\n",
    "        },\n",
    "        index=tesselations.index,\n",
    "        crs=tesselations.crs,\n",
    "    )\n",
    "    return tesselations"
   ]
  },
  {
   "cell_type": "code",
   "execution_count": 4,
   "id": "d159ec1c-16d2-4f30-afb9-af826c1b7edb",
   "metadata": {},
   "outputs": [],
   "source": [
    "region_hulls = gpd.read_parquet(regions_datadir + \"regions/\" + \"regions_hull.parquet\")"
   ]
  },
  {
   "cell_type": "code",
   "execution_count": 5,
   "id": "bf84cd90-12c6-4bdf-81c1-afa1bf8c8150",
   "metadata": {},
   "outputs": [],
   "source": [
    "# 12199 - hills, small test\n",
    "# 69300 - prague medium\n",
    "# 226 - germany somewhere, largest cluster\n",
    "\n",
    "for region_id, region_hull in region_hulls.iterrows():\n",
    "    if region_id < 106928:\n",
    "        continue\n",
    "\n",
    "    break"
   ]
  },
  {
   "cell_type": "code",
   "execution_count": 6,
   "id": "174c5cfa-f527-4823-98ef-af26cf577fba",
   "metadata": {},
   "outputs": [],
   "source": [
    "buildings = gpd.read_parquet(data_dir + f\"/buildings/buildings_{region_id}.parquet\")\n",
    "streets = gpd.read_parquet(data_dir + f\"/streets/streets_{region_id}.parquet\")"
   ]
  },
  {
   "cell_type": "code",
   "execution_count": 7,
   "id": "a93df428-dde6-49ca-9b54-c2eb5a5214a3",
   "metadata": {},
   "outputs": [],
   "source": [
    "enclosures = generate_enclosures(buildings, streets)"
   ]
  },
  {
   "cell_type": "code",
   "execution_count": 8,
   "id": "2fc91d56-8218-452a-a8d9-f5181c5f4568",
   "metadata": {},
   "outputs": [
    {
     "name": "stdout",
     "output_type": "stream",
     "text": [
      "CPU times: user 10.3 s, sys: 418 ms, total: 10.7 s\n",
      "Wall time: 14.9 s\n"
     ]
    }
   ],
   "source": [
    "%%time\n",
    "tessellation = generate_tess(buildings, enclosures, n_workers=-1)"
   ]
  },
  {
   "cell_type": "code",
   "execution_count": null,
   "id": "4b1b5def-91ee-4387-a42c-2e9f88baede2",
   "metadata": {},
   "outputs": [],
   "source": []
  },
  {
   "cell_type": "code",
   "execution_count": 9,
   "id": "afa00052-fa7c-4bb6-ae79-1f4f2b1cff3e",
   "metadata": {},
   "outputs": [],
   "source": [
    "k = 5\n",
    "n_splits = 10"
   ]
  },
  {
   "cell_type": "code",
   "execution_count": null,
   "id": "1d91895a-2320-4819-992d-aa186f3b3549",
   "metadata": {},
   "outputs": [],
   "source": []
  },
  {
   "cell_type": "code",
   "execution_count": 10,
   "id": "80c6df95-4068-44f4-8f46-c0cd52661256",
   "metadata": {},
   "outputs": [],
   "source": [
    "buildings_q1 = Graph.build_contiguity(buildings, rook=False).assign_self_weight()"
   ]
  },
  {
   "cell_type": "code",
   "execution_count": 11,
   "id": "3fde2c9b-2856-4c73-aefc-e02bd459728a",
   "metadata": {},
   "outputs": [],
   "source": [
    "blo_q1 = Graph.build_contiguity(\n",
    "    enclosures, rook=False, strict=True\n",
    ").assign_self_weight()\n",
    "blo_q5 = blo_q1.higher_order(k=k, lower_order=True, diagonal=True)"
   ]
  },
  {
   "cell_type": "code",
   "execution_count": null,
   "id": "a91ff0bb-8e12-42f9-8823-2eb0e0ed6618",
   "metadata": {},
   "outputs": [],
   "source": []
  },
  {
   "cell_type": "code",
   "execution_count": 12,
   "id": "7d57d6c4-b336-409b-86b3-1877b1939c11",
   "metadata": {},
   "outputs": [],
   "source": [
    "# m = enclosures.explore()\n",
    "# m = blo_q1.explore(enclosures, m=m)\n",
    "# m"
   ]
  },
  {
   "cell_type": "code",
   "execution_count": null,
   "id": "c7d2d50d-7815-44b9-ada4-bfc5fdc0fdec",
   "metadata": {},
   "outputs": [],
   "source": []
  },
  {
   "cell_type": "code",
   "execution_count": 13,
   "id": "3ebadc6c-919c-4c6b-9a5b-40b4f6572c5f",
   "metadata": {},
   "outputs": [],
   "source": [
    "street_q1 = Graph.build_contiguity(\n",
    "    streets, rook=False, strict=True\n",
    ").assign_self_weight()\n",
    "street_q5 = street_q1.higher_order(k=k, lower_order=True, diagonal=True)"
   ]
  },
  {
   "cell_type": "code",
   "execution_count": 14,
   "id": "a21d909c-91c8-4291-9c1b-f22e4129d611",
   "metadata": {},
   "outputs": [],
   "source": [
    "# m = streets.loc[street_q5[0].index.values].explore(color='red')\n",
    "# m = streets.loc[[0]].explore(m=m)\n",
    "# m"
   ]
  },
  {
   "cell_type": "code",
   "execution_count": null,
   "id": "2f32776a-e22c-489b-a0f2-af65b06b8ab1",
   "metadata": {},
   "outputs": [],
   "source": []
  },
  {
   "cell_type": "code",
   "execution_count": 19,
   "id": "690924c9-05ed-41b5-b07a-d036817bbf7d",
   "metadata": {},
   "outputs": [],
   "source": [
    "sorted_streets = streets.sort_values(\"geometry\").index.values\n",
    "partial_higher = next(\n",
    "    lazy_higher_order(street_q1, k=k, n_splits=n_splits, iteration_order=sorted_streets)\n",
    ")\n",
    "street_focals = np.setdiff1d(partial_higher.unique_ids, partial_higher.isolates)\n",
    "street_neighbours = partial_higher.isolates\n",
    "street_all = partial_higher.unique_ids"
   ]
  },
  {
   "cell_type": "code",
   "execution_count": null,
   "id": "16bf497e-5bc2-46ef-9fa4-10247e922fe2",
   "metadata": {},
   "outputs": [],
   "source": []
  },
  {
   "cell_type": "code",
   "execution_count": null,
   "id": "79a2f62e-8d00-496e-a1fa-5e69914204bc",
   "metadata": {},
   "outputs": [],
   "source": []
  },
  {
   "cell_type": "code",
   "execution_count": null,
   "id": "ce2ba19e-64e0-4e13-ab3b-24cc8ebef348",
   "metadata": {},
   "outputs": [],
   "source": []
  },
  {
   "cell_type": "code",
   "execution_count": 23,
   "id": "b003d84d-da07-43bd-85db-b961c1736768",
   "metadata": {},
   "outputs": [],
   "source": [
    "# m = streets.loc[street_neighbours].explore(color='red')\n",
    "# m = streets.loc[street_focals].explore(m=m)\n",
    "# m = region_hulls.loc[[region_id]].explore(m=m, color='r')\n",
    "# m"
   ]
  },
  {
   "cell_type": "code",
   "execution_count": null,
   "id": "55b23874-2cb7-47dc-bea2-ad86e3b6b05b",
   "metadata": {},
   "outputs": [],
   "source": []
  },
  {
   "cell_type": "code",
   "execution_count": 104,
   "id": "2fdf2d13-099e-44c9-b023-0c8ab5f1ca85",
   "metadata": {},
   "outputs": [],
   "source": [
    "# ns = np.unique(np.concatenate([street_q5[f].index.values for f in street_focals]))\n",
    "# m = streets.loc[ns].explore(color='red')\n",
    "# m = streets.loc[street_focals].explore(m=m)\n",
    "# m"
   ]
  },
  {
   "cell_type": "code",
   "execution_count": 106,
   "id": "10fd8e52-efc5-486e-90bc-448257033b6d",
   "metadata": {},
   "outputs": [],
   "source": [
    "# streets.explore()"
   ]
  },
  {
   "cell_type": "code",
   "execution_count": null,
   "id": "31b2686a-23a2-4236-b0e9-9f75efeb21d7",
   "metadata": {},
   "outputs": [],
   "source": []
  },
  {
   "cell_type": "code",
   "execution_count": 33,
   "id": "a70af960-7746-4ed6-81d3-464decc72c38",
   "metadata": {},
   "outputs": [],
   "source": [
    "# m = enclosures.dissolve(labels).loc[[6]].reset_index().explore()\n",
    "# m = enclosures.loc[[1082]].reset_index().explore(color='r')\n",
    "# m"
   ]
  },
  {
   "cell_type": "code",
   "execution_count": null,
   "id": "94a932e3-cba3-4954-9a94-92daf2d79dd4",
   "metadata": {},
   "outputs": [],
   "source": []
  },
  {
   "cell_type": "code",
   "execution_count": 34,
   "id": "932ecbd8-0ae9-4c0d-8870-ef2a0406bc67",
   "metadata": {},
   "outputs": [],
   "source": [
    "# enclosures.loc[blo_q1[2587].index.values].explore()"
   ]
  },
  {
   "cell_type": "code",
   "execution_count": null,
   "id": "0d380b4a-771b-426f-b807-58133180e9fe",
   "metadata": {},
   "outputs": [],
   "source": []
  },
  {
   "cell_type": "markdown",
   "id": "190da2fd-f5c5-4768-a80e-6e9cee4869cd",
   "metadata": {},
   "source": [
    "## Setup with enclosure graph"
   ]
  },
  {
   "cell_type": "code",
   "execution_count": 68,
   "id": "fb873842-21f3-4f4e-97e9-e79ed4ff2c99",
   "metadata": {},
   "outputs": [],
   "source": [
    "sorted_enclosures = enclosures.sort_values(by=\"geometry\").index.values"
   ]
  },
  {
   "cell_type": "code",
   "execution_count": 18,
   "id": "bacd620b-acb7-4738-962c-dc5ad3f936ff",
   "metadata": {},
   "outputs": [],
   "source": [
    "from utils import lazy_higher_order"
   ]
  },
  {
   "cell_type": "code",
   "execution_count": 80,
   "id": "c1de86c4-fc11-46b5-a89a-e3363d2d7f85",
   "metadata": {},
   "outputs": [],
   "source": [
    "partial_higher = next(\n",
    "    lazy_higher_order(blo_q1, k=k, n_splits=n_splits, iteration_order=sorted_enclosures)\n",
    ")"
   ]
  },
  {
   "cell_type": "code",
   "execution_count": 81,
   "id": "1045db5e-75ff-4606-9a87-98660c08e04e",
   "metadata": {},
   "outputs": [],
   "source": [
    "partial_higher = next(\n",
    "    lazy_higher_order(blo_q1, k=k, n_splits=n_splits, iteration_order=sorted_enclosures)\n",
    ")\n",
    "\n",
    "enclosure_focals = np.setdiff1d(partial_higher.unique_ids, partial_higher.isolates)\n",
    "enclosure_neighbours = partial_higher.isolates\n",
    "enclosure_all = partial_higher.unique_ids"
   ]
  },
  {
   "cell_type": "code",
   "execution_count": null,
   "id": "47924c5f-8ee5-4b57-9411-c298b6157a98",
   "metadata": {},
   "outputs": [],
   "source": []
  },
  {
   "cell_type": "code",
   "execution_count": 82,
   "id": "b820a855-d20f-4e95-b1c6-11224a8f8adc",
   "metadata": {},
   "outputs": [],
   "source": [
    "inp, res = buildings.sindex.query(enclosures.geometry, predicate=\"intersects\")"
   ]
  },
  {
   "cell_type": "code",
   "execution_count": null,
   "id": "88dfad4d-ca3c-46b2-bdd6-cc9d9482b541",
   "metadata": {},
   "outputs": [],
   "source": []
  },
  {
   "cell_type": "code",
   "execution_count": 83,
   "id": "825abfbb-24c9-4d8f-9a8a-76e0f2c170c2",
   "metadata": {},
   "outputs": [],
   "source": [
    "focal_geometries = enclosures.loc[enclosure_focals]"
   ]
  },
  {
   "cell_type": "code",
   "execution_count": 85,
   "id": "1789f551-59f7-4d77-b60c-8ec2c79c24e0",
   "metadata": {},
   "outputs": [],
   "source": [
    "# focal_geometries.explore()"
   ]
  },
  {
   "cell_type": "code",
   "execution_count": 38,
   "id": "73e4a50a-ea85-4048-aa72-e4b1b86686bc",
   "metadata": {},
   "outputs": [],
   "source": [
    "neighbours_indices = blo_q5[0].index"
   ]
  },
  {
   "cell_type": "code",
   "execution_count": 39,
   "id": "24c7686d-2fdf-4797-bf21-73f6bf652c4b",
   "metadata": {},
   "outputs": [],
   "source": [
    "neighbours_geometry = enclosures.loc[neighbours_indices]"
   ]
  },
  {
   "cell_type": "code",
   "execution_count": 40,
   "id": "8b264772-d40d-4d51-90bf-b59828fcabe5",
   "metadata": {},
   "outputs": [],
   "source": [
    "neighbours_buildings_idxs = np.unique(res[np.isin(inp, neighbours_indices)])"
   ]
  },
  {
   "cell_type": "code",
   "execution_count": 41,
   "id": "b561b07b-9d86-4593-a8a4-b99a8314a553",
   "metadata": {},
   "outputs": [],
   "source": [
    "focal_buildings_idxs = np.unique(res[np.isin(inp, focal)])"
   ]
  },
  {
   "cell_type": "code",
   "execution_count": null,
   "id": "2b54bdec-0e9f-4095-b75a-d51fa5f81e3b",
   "metadata": {},
   "outputs": [],
   "source": []
  },
  {
   "cell_type": "code",
   "execution_count": null,
   "id": "2f77191f-b8a4-4619-a86e-1d17bbac7182",
   "metadata": {},
   "outputs": [],
   "source": []
  },
  {
   "cell_type": "code",
   "execution_count": null,
   "id": "f4c7f045-aa88-4af4-a0e7-ad4b16bddd69",
   "metadata": {},
   "outputs": [],
   "source": []
  },
  {
   "cell_type": "code",
   "execution_count": null,
   "id": "610a5be8-9dde-442e-a7d9-210fe57724c4",
   "metadata": {},
   "outputs": [],
   "source": []
  },
  {
   "cell_type": "markdown",
   "id": "2af68cea-7d3f-4bbe-b62f-ca40be64c14c",
   "metadata": {},
   "source": [
    "## Generate elements locally"
   ]
  },
  {
   "cell_type": "code",
   "execution_count": null,
   "id": "19c2f4ba-adc9-4572-b5ae-c90f67f2745f",
   "metadata": {},
   "outputs": [],
   "source": []
  },
  {
   "cell_type": "code",
   "execution_count": 42,
   "id": "34b21ee3-51ff-47e1-ac45-15ddfcb7dc41",
   "metadata": {},
   "outputs": [],
   "source": [
    "neighbours_buildings = buildings.iloc[neighbours_buildings_idxs]"
   ]
  },
  {
   "cell_type": "code",
   "execution_count": 43,
   "id": "57a6bfb6-6435-44a8-8ae2-91df859e3e0b",
   "metadata": {},
   "outputs": [],
   "source": [
    "_, interecting_streets = streets.sindex.query(neighbours_geometry.geometry)\n",
    "neighbours_streets = streets.iloc[np.unique(interecting_streets)]"
   ]
  },
  {
   "cell_type": "code",
   "execution_count": 44,
   "id": "72a43d2f-2ba0-4fd4-b27a-d63bcb686766",
   "metadata": {},
   "outputs": [],
   "source": [
    "interecting_streets = streets.sindex.query(focal_geometry.geometry)\n",
    "focal_streets = streets.iloc[np.unique(interecting_streets)]"
   ]
  },
  {
   "cell_type": "code",
   "execution_count": null,
   "id": "abae6425-b12f-45d9-9ac9-c1ffa5dce038",
   "metadata": {},
   "outputs": [],
   "source": []
  },
  {
   "cell_type": "code",
   "execution_count": 45,
   "id": "a1952b0e-74df-4e08-8e93-30b07e32010a",
   "metadata": {},
   "outputs": [],
   "source": [
    "# neighbours_geometry.geometry.buffer(100, resolution=2).explore()"
   ]
  },
  {
   "cell_type": "code",
   "execution_count": null,
   "id": "a1a0c042-9320-46a0-9951-a76f6426d4ee",
   "metadata": {},
   "outputs": [],
   "source": []
  },
  {
   "cell_type": "code",
   "execution_count": 46,
   "id": "33e29e25-a303-48ef-901d-2a4aefd1f89d",
   "metadata": {},
   "outputs": [],
   "source": [
    "neighbours_enclosures = generate_enclosures(neighbours_buildings, neighbours_streets)"
   ]
  },
  {
   "cell_type": "code",
   "execution_count": null,
   "id": "df72b476-dcf9-4b3f-ad34-cdff3b9f75f6",
   "metadata": {},
   "outputs": [],
   "source": []
  },
  {
   "cell_type": "code",
   "execution_count": 52,
   "id": "d0160cb5-0c32-4349-82da-5918de6dadd7",
   "metadata": {},
   "outputs": [],
   "source": [
    "# m = neighbours_enclosures.explore()\n",
    "# m = enclosures.explore(m=m, color='r')\n",
    "# m"
   ]
  },
  {
   "cell_type": "code",
   "execution_count": 48,
   "id": "49b971cc-200b-4dfa-ba77-ae0eaebea395",
   "metadata": {},
   "outputs": [],
   "source": [
    "# m = neighbours_enclosures.explore()\n",
    "# m = enclosures.loc[neighbours_indices].explore(m=m, color='r')\n",
    "# m"
   ]
  },
  {
   "cell_type": "code",
   "execution_count": null,
   "id": "31cc77ba-e7b7-4db8-b499-90cd73033635",
   "metadata": {},
   "outputs": [],
   "source": []
  },
  {
   "cell_type": "code",
   "execution_count": null,
   "id": "68824fce-c32c-4089-aba2-d1c4a626cd63",
   "metadata": {},
   "outputs": [],
   "source": []
  },
  {
   "cell_type": "code",
   "execution_count": 53,
   "id": "fa6d0cd9-6d28-4b40-bf80-89e0adb3f83f",
   "metadata": {},
   "outputs": [],
   "source": [
    "neighbours_tesselations = generate_tess(buildings, neighbours_enclosures)"
   ]
  },
  {
   "cell_type": "code",
   "execution_count": 54,
   "id": "17606520-8271-4872-b9b3-0409666798e1",
   "metadata": {},
   "outputs": [],
   "source": [
    "# neighbours_tesselations.explore()"
   ]
  },
  {
   "cell_type": "code",
   "execution_count": null,
   "id": "82eca5a0-2a28-4498-b6be-b478812b3b16",
   "metadata": {},
   "outputs": [],
   "source": []
  },
  {
   "cell_type": "code",
   "execution_count": null,
   "id": "f474c4df-6eb6-48c7-9c8a-398647d6d06e",
   "metadata": {},
   "outputs": [],
   "source": []
  },
  {
   "cell_type": "code",
   "execution_count": null,
   "id": "f949cd4a-10ed-44d0-8088-ada8c01dcde0",
   "metadata": {},
   "outputs": [],
   "source": []
  },
  {
   "cell_type": "code",
   "execution_count": null,
   "id": "9d55cb9b-9ba8-41f0-8158-cfa93a1a1e83",
   "metadata": {},
   "outputs": [],
   "source": []
  },
  {
   "cell_type": "code",
   "execution_count": 56,
   "id": "07e3565f-0a78-4ed6-8923-d51aebd7046a",
   "metadata": {},
   "outputs": [],
   "source": [
    "# m = neighbours_tesselations[neighbours_tesselations.index >= 0].reset_index().explore()\n",
    "# m = tessellation.loc[tessellation.index.isin(neighbours_buildings_idxs) & (tessellation.index >= 0)].reset_index().explore(m=m, color='r')\n",
    "# m = neighbours_buildings.explore(m=m, color='green')\n",
    "# m = neighbours_tesselations.loc[[18402]].explore(m=m, color='red')\n",
    "# m"
   ]
  },
  {
   "cell_type": "code",
   "execution_count": null,
   "id": "c7bcb649-ee54-4f29-b01a-44d5637b1c2a",
   "metadata": {},
   "outputs": [],
   "source": []
  },
  {
   "cell_type": "code",
   "execution_count": 57,
   "id": "5353ab2f-93c6-4ba1-9a6d-f73ebdc1ff22",
   "metadata": {},
   "outputs": [],
   "source": [
    "from pandas.testing import assert_frame_equal"
   ]
  },
  {
   "cell_type": "markdown",
   "id": "0a3aed86-a5b8-48b8-bc9b-959bab5891d2",
   "metadata": {},
   "source": [
    "## test farthest reaching building char"
   ]
  },
  {
   "cell_type": "code",
   "execution_count": 62,
   "id": "4fb11b9f-1948-44c6-a3c5-1565d46fcece",
   "metadata": {},
   "outputs": [],
   "source": [
    "queen_1 = Graph.build_contiguity(tessellation, rook=False, strict=True)\n",
    "neigh_queen_1 = Graph.build_contiguity(neighbours_tesselations, rook=False, strict=True)"
   ]
  },
  {
   "cell_type": "code",
   "execution_count": 63,
   "id": "78899076-fc41-4699-8eb7-2024872cde89",
   "metadata": {},
   "outputs": [
    {
     "data": {
      "text/plain": [
       "((182119,), (6159,))"
      ]
     },
     "execution_count": 63,
     "metadata": {},
     "output_type": "execute_result"
    }
   ],
   "source": [
    "queen_1.adjacency.shape, neigh_queen_1.adjacency.shape"
   ]
  },
  {
   "cell_type": "code",
   "execution_count": 64,
   "id": "330aa5db-b67a-44bf-bd97-533c3b58b540",
   "metadata": {},
   "outputs": [],
   "source": [
    "different_ids = []\n",
    "for i in focal_buildings_idxs:\n",
    "    if sorted(queen_1[i].index) != sorted(neigh_queen_1[i].index):\n",
    "        different_ids.append(i)"
   ]
  },
  {
   "cell_type": "code",
   "execution_count": 65,
   "id": "2a1dfcfc-6bdb-4516-8cd2-8efc5ec9e709",
   "metadata": {},
   "outputs": [
    {
     "data": {
      "text/plain": [
       "Index([18401, 18405, 18427, 18428], dtype='int64', name='neighbor')"
      ]
     },
     "execution_count": 65,
     "metadata": {},
     "output_type": "execute_result"
    }
   ],
   "source": [
    "queen_1[different_ids[0]].index"
   ]
  },
  {
   "cell_type": "code",
   "execution_count": 66,
   "id": "581c8705-ad91-44a3-b582-e39ff9ebcaf5",
   "metadata": {},
   "outputs": [
    {
     "data": {
      "text/plain": [
       "Index([18401, 18427, 18428], dtype='int64', name='neighbor')"
      ]
     },
     "execution_count": 66,
     "metadata": {},
     "output_type": "execute_result"
    }
   ],
   "source": [
    "neigh_queen_1[different_ids[0]].index"
   ]
  },
  {
   "cell_type": "code",
   "execution_count": 67,
   "id": "7f1a72c6-438e-4a6d-8b73-6b7f6d275c37",
   "metadata": {},
   "outputs": [
    {
     "ename": "KeyError",
     "evalue": "'[15748 25219] not in index'",
     "output_type": "error",
     "traceback": [
      "\u001b[0;31m---------------------------------------------------------------------------\u001b[0m",
      "\u001b[0;31mKeyError\u001b[0m                                  Traceback (most recent call last)",
      "Cell \u001b[0;32mIn[67], line 1\u001b[0m\n\u001b[0;32m----> 1\u001b[0m bgraph \u001b[38;5;241m=\u001b[39m \u001b[43mqueen_1\u001b[49m\u001b[38;5;241;43m.\u001b[39;49m\u001b[43msubgraph\u001b[49m\u001b[43m(\u001b[49m\u001b[43mbuildings\u001b[49m\u001b[38;5;241;43m.\u001b[39;49m\u001b[43mindex\u001b[49m\u001b[38;5;241;43m.\u001b[39;49m\u001b[43mvalues\u001b[49m\u001b[43m)\u001b[49m\n\u001b[1;32m      2\u001b[0m bgraph3 \u001b[38;5;241m=\u001b[39m bgraph\u001b[38;5;241m.\u001b[39mhigher_order(k\u001b[38;5;241m=\u001b[39m\u001b[38;5;241m3\u001b[39m, lower_order\u001b[38;5;241m=\u001b[39m\u001b[38;5;28;01mTrue\u001b[39;00m)\u001b[38;5;241m.\u001b[39massign_self_weight()\n\u001b[1;32m      3\u001b[0m vals \u001b[38;5;241m=\u001b[39m mm\u001b[38;5;241m.\u001b[39mmean_interbuilding_distance(buildings, bgraph, bgraph3)\n",
      "File \u001b[0;32m~/miniconda3/envs/momepy/lib/python3.12/site-packages/libpysal/graph/base.py:1909\u001b[0m, in \u001b[0;36mGraph.subgraph\u001b[0;34m(self, ids)\u001b[0m\n\u001b[1;32m   1883\u001b[0m \u001b[38;5;28;01mdef\u001b[39;00m \u001b[38;5;21msubgraph\u001b[39m(\u001b[38;5;28mself\u001b[39m, ids):\n\u001b[1;32m   1884\u001b[0m \u001b[38;5;250m    \u001b[39m\u001b[38;5;124;03m\"\"\"Returns a subset of Graph containing only nodes specified in ids\u001b[39;00m\n\u001b[1;32m   1885\u001b[0m \n\u001b[1;32m   1886\u001b[0m \u001b[38;5;124;03m    The resulting subgraph contains only the nodes in ``ids`` and the edges\u001b[39;00m\n\u001b[0;32m   (...)\u001b[0m\n\u001b[1;32m   1907\u001b[0m \u001b[38;5;124;03m    Graphs in ``libpysal`` are immutable.\u001b[39;00m\n\u001b[1;32m   1908\u001b[0m \u001b[38;5;124;03m    \"\"\"\u001b[39;00m\n\u001b[0;32m-> 1909\u001b[0m     masked_adj \u001b[38;5;241m=\u001b[39m \u001b[38;5;28;43mself\u001b[39;49m\u001b[38;5;241;43m.\u001b[39;49m\u001b[43m_adjacency\u001b[49m\u001b[43m[\u001b[49m\u001b[43mids\u001b[49m\u001b[43m]\u001b[49m\n\u001b[1;32m   1910\u001b[0m     filtered_adj \u001b[38;5;241m=\u001b[39m masked_adj[\n\u001b[1;32m   1911\u001b[0m         masked_adj\u001b[38;5;241m.\u001b[39mindex\u001b[38;5;241m.\u001b[39mget_level_values(\u001b[38;5;124m\"\u001b[39m\u001b[38;5;124mneighbor\u001b[39m\u001b[38;5;124m\"\u001b[39m)\u001b[38;5;241m.\u001b[39misin(ids)\n\u001b[1;32m   1912\u001b[0m     ]\n\u001b[1;32m   1913\u001b[0m     \u001b[38;5;28;01mreturn\u001b[39;00m Graph\u001b[38;5;241m.\u001b[39mfrom_arrays(\n\u001b[1;32m   1914\u001b[0m         \u001b[38;5;241m*\u001b[39m_resolve_islands(\n\u001b[1;32m   1915\u001b[0m             filtered_adj\u001b[38;5;241m.\u001b[39mindex\u001b[38;5;241m.\u001b[39mget_level_values(\u001b[38;5;124m\"\u001b[39m\u001b[38;5;124mfocal\u001b[39m\u001b[38;5;124m\"\u001b[39m),\n\u001b[0;32m   (...)\u001b[0m\n\u001b[1;32m   1919\u001b[0m         )\n\u001b[1;32m   1920\u001b[0m     )\n",
      "File \u001b[0;32m~/miniconda3/envs/momepy/lib/python3.12/site-packages/pandas/core/series.py:1153\u001b[0m, in \u001b[0;36mSeries.__getitem__\u001b[0;34m(self, key)\u001b[0m\n\u001b[1;32m   1150\u001b[0m     key \u001b[38;5;241m=\u001b[39m np\u001b[38;5;241m.\u001b[39masarray(key, dtype\u001b[38;5;241m=\u001b[39m\u001b[38;5;28mbool\u001b[39m)\n\u001b[1;32m   1151\u001b[0m     \u001b[38;5;28;01mreturn\u001b[39;00m \u001b[38;5;28mself\u001b[39m\u001b[38;5;241m.\u001b[39m_get_rows_with_mask(key)\n\u001b[0;32m-> 1153\u001b[0m \u001b[38;5;28;01mreturn\u001b[39;00m \u001b[38;5;28;43mself\u001b[39;49m\u001b[38;5;241;43m.\u001b[39;49m\u001b[43m_get_with\u001b[49m\u001b[43m(\u001b[49m\u001b[43mkey\u001b[49m\u001b[43m)\u001b[49m\n",
      "File \u001b[0;32m~/miniconda3/envs/momepy/lib/python3.12/site-packages/pandas/core/series.py:1180\u001b[0m, in \u001b[0;36mSeries._get_with\u001b[0;34m(self, key)\u001b[0m\n\u001b[1;32m   1176\u001b[0m \u001b[38;5;28;01mif\u001b[39;00m key_type \u001b[38;5;241m==\u001b[39m \u001b[38;5;124m\"\u001b[39m\u001b[38;5;124minteger\u001b[39m\u001b[38;5;124m\"\u001b[39m:\n\u001b[1;32m   1177\u001b[0m     \u001b[38;5;66;03m# We need to decide whether to treat this as a positional indexer\u001b[39;00m\n\u001b[1;32m   1178\u001b[0m     \u001b[38;5;66;03m#  (i.e. self.iloc) or label-based (i.e. self.loc)\u001b[39;00m\n\u001b[1;32m   1179\u001b[0m     \u001b[38;5;28;01mif\u001b[39;00m \u001b[38;5;129;01mnot\u001b[39;00m \u001b[38;5;28mself\u001b[39m\u001b[38;5;241m.\u001b[39mindex\u001b[38;5;241m.\u001b[39m_should_fallback_to_positional:\n\u001b[0;32m-> 1180\u001b[0m         \u001b[38;5;28;01mreturn\u001b[39;00m \u001b[38;5;28;43mself\u001b[39;49m\u001b[38;5;241;43m.\u001b[39;49m\u001b[43mloc\u001b[49m\u001b[43m[\u001b[49m\u001b[43mkey\u001b[49m\u001b[43m]\u001b[49m\n\u001b[1;32m   1181\u001b[0m     \u001b[38;5;28;01melse\u001b[39;00m:\n\u001b[1;32m   1182\u001b[0m         warnings\u001b[38;5;241m.\u001b[39mwarn(\n\u001b[1;32m   1183\u001b[0m             \u001b[38;5;66;03m# GH#50617\u001b[39;00m\n\u001b[1;32m   1184\u001b[0m             \u001b[38;5;124m\"\u001b[39m\u001b[38;5;124mSeries.__getitem__ treating keys as positions is deprecated. \u001b[39m\u001b[38;5;124m\"\u001b[39m\n\u001b[0;32m   (...)\u001b[0m\n\u001b[1;32m   1189\u001b[0m             stacklevel\u001b[38;5;241m=\u001b[39mfind_stack_level(),\n\u001b[1;32m   1190\u001b[0m         )\n",
      "File \u001b[0;32m~/miniconda3/envs/momepy/lib/python3.12/site-packages/pandas/core/indexing.py:1191\u001b[0m, in \u001b[0;36m_LocationIndexer.__getitem__\u001b[0;34m(self, key)\u001b[0m\n\u001b[1;32m   1189\u001b[0m maybe_callable \u001b[38;5;241m=\u001b[39m com\u001b[38;5;241m.\u001b[39mapply_if_callable(key, \u001b[38;5;28mself\u001b[39m\u001b[38;5;241m.\u001b[39mobj)\n\u001b[1;32m   1190\u001b[0m maybe_callable \u001b[38;5;241m=\u001b[39m \u001b[38;5;28mself\u001b[39m\u001b[38;5;241m.\u001b[39m_check_deprecated_callable_usage(key, maybe_callable)\n\u001b[0;32m-> 1191\u001b[0m \u001b[38;5;28;01mreturn\u001b[39;00m \u001b[38;5;28;43mself\u001b[39;49m\u001b[38;5;241;43m.\u001b[39;49m\u001b[43m_getitem_axis\u001b[49m\u001b[43m(\u001b[49m\u001b[43mmaybe_callable\u001b[49m\u001b[43m,\u001b[49m\u001b[43m \u001b[49m\u001b[43maxis\u001b[49m\u001b[38;5;241;43m=\u001b[39;49m\u001b[43maxis\u001b[49m\u001b[43m)\u001b[49m\n",
      "File \u001b[0;32m~/miniconda3/envs/momepy/lib/python3.12/site-packages/pandas/core/indexing.py:1420\u001b[0m, in \u001b[0;36m_LocIndexer._getitem_axis\u001b[0;34m(self, key, axis)\u001b[0m\n\u001b[1;32m   1417\u001b[0m     \u001b[38;5;28;01mif\u001b[39;00m \u001b[38;5;28mhasattr\u001b[39m(key, \u001b[38;5;124m\"\u001b[39m\u001b[38;5;124mndim\u001b[39m\u001b[38;5;124m\"\u001b[39m) \u001b[38;5;129;01mand\u001b[39;00m key\u001b[38;5;241m.\u001b[39mndim \u001b[38;5;241m>\u001b[39m \u001b[38;5;241m1\u001b[39m:\n\u001b[1;32m   1418\u001b[0m         \u001b[38;5;28;01mraise\u001b[39;00m \u001b[38;5;167;01mValueError\u001b[39;00m(\u001b[38;5;124m\"\u001b[39m\u001b[38;5;124mCannot index with multidimensional key\u001b[39m\u001b[38;5;124m\"\u001b[39m)\n\u001b[0;32m-> 1420\u001b[0m     \u001b[38;5;28;01mreturn\u001b[39;00m \u001b[38;5;28;43mself\u001b[39;49m\u001b[38;5;241;43m.\u001b[39;49m\u001b[43m_getitem_iterable\u001b[49m\u001b[43m(\u001b[49m\u001b[43mkey\u001b[49m\u001b[43m,\u001b[49m\u001b[43m \u001b[49m\u001b[43maxis\u001b[49m\u001b[38;5;241;43m=\u001b[39;49m\u001b[43maxis\u001b[49m\u001b[43m)\u001b[49m\n\u001b[1;32m   1422\u001b[0m \u001b[38;5;66;03m# nested tuple slicing\u001b[39;00m\n\u001b[1;32m   1423\u001b[0m \u001b[38;5;28;01mif\u001b[39;00m is_nested_tuple(key, labels):\n",
      "File \u001b[0;32m~/miniconda3/envs/momepy/lib/python3.12/site-packages/pandas/core/indexing.py:1360\u001b[0m, in \u001b[0;36m_LocIndexer._getitem_iterable\u001b[0;34m(self, key, axis)\u001b[0m\n\u001b[1;32m   1357\u001b[0m \u001b[38;5;28mself\u001b[39m\u001b[38;5;241m.\u001b[39m_validate_key(key, axis)\n\u001b[1;32m   1359\u001b[0m \u001b[38;5;66;03m# A collection of keys\u001b[39;00m\n\u001b[0;32m-> 1360\u001b[0m keyarr, indexer \u001b[38;5;241m=\u001b[39m \u001b[38;5;28;43mself\u001b[39;49m\u001b[38;5;241;43m.\u001b[39;49m\u001b[43m_get_listlike_indexer\u001b[49m\u001b[43m(\u001b[49m\u001b[43mkey\u001b[49m\u001b[43m,\u001b[49m\u001b[43m \u001b[49m\u001b[43maxis\u001b[49m\u001b[43m)\u001b[49m\n\u001b[1;32m   1361\u001b[0m \u001b[38;5;28;01mreturn\u001b[39;00m \u001b[38;5;28mself\u001b[39m\u001b[38;5;241m.\u001b[39mobj\u001b[38;5;241m.\u001b[39m_reindex_with_indexers(\n\u001b[1;32m   1362\u001b[0m     {axis: [keyarr, indexer]}, copy\u001b[38;5;241m=\u001b[39m\u001b[38;5;28;01mTrue\u001b[39;00m, allow_dups\u001b[38;5;241m=\u001b[39m\u001b[38;5;28;01mTrue\u001b[39;00m\n\u001b[1;32m   1363\u001b[0m )\n",
      "File \u001b[0;32m~/miniconda3/envs/momepy/lib/python3.12/site-packages/pandas/core/indexing.py:1558\u001b[0m, in \u001b[0;36m_LocIndexer._get_listlike_indexer\u001b[0;34m(self, key, axis)\u001b[0m\n\u001b[1;32m   1555\u001b[0m ax \u001b[38;5;241m=\u001b[39m \u001b[38;5;28mself\u001b[39m\u001b[38;5;241m.\u001b[39mobj\u001b[38;5;241m.\u001b[39m_get_axis(axis)\n\u001b[1;32m   1556\u001b[0m axis_name \u001b[38;5;241m=\u001b[39m \u001b[38;5;28mself\u001b[39m\u001b[38;5;241m.\u001b[39mobj\u001b[38;5;241m.\u001b[39m_get_axis_name(axis)\n\u001b[0;32m-> 1558\u001b[0m keyarr, indexer \u001b[38;5;241m=\u001b[39m \u001b[43max\u001b[49m\u001b[38;5;241;43m.\u001b[39;49m\u001b[43m_get_indexer_strict\u001b[49m\u001b[43m(\u001b[49m\u001b[43mkey\u001b[49m\u001b[43m,\u001b[49m\u001b[43m \u001b[49m\u001b[43maxis_name\u001b[49m\u001b[43m)\u001b[49m\n\u001b[1;32m   1560\u001b[0m \u001b[38;5;28;01mreturn\u001b[39;00m keyarr, indexer\n",
      "File \u001b[0;32m~/miniconda3/envs/momepy/lib/python3.12/site-packages/pandas/core/indexes/multi.py:2763\u001b[0m, in \u001b[0;36mMultiIndex._get_indexer_strict\u001b[0;34m(self, key, axis_name)\u001b[0m\n\u001b[1;32m   2760\u001b[0m \u001b[38;5;28;01mif\u001b[39;00m \u001b[38;5;28mlen\u001b[39m(keyarr) \u001b[38;5;129;01mand\u001b[39;00m \u001b[38;5;129;01mnot\u001b[39;00m \u001b[38;5;28misinstance\u001b[39m(keyarr[\u001b[38;5;241m0\u001b[39m], \u001b[38;5;28mtuple\u001b[39m):\n\u001b[1;32m   2761\u001b[0m     indexer \u001b[38;5;241m=\u001b[39m \u001b[38;5;28mself\u001b[39m\u001b[38;5;241m.\u001b[39m_get_indexer_level_0(keyarr)\n\u001b[0;32m-> 2763\u001b[0m     \u001b[38;5;28;43mself\u001b[39;49m\u001b[38;5;241;43m.\u001b[39;49m\u001b[43m_raise_if_missing\u001b[49m\u001b[43m(\u001b[49m\u001b[43mkey\u001b[49m\u001b[43m,\u001b[49m\u001b[43m \u001b[49m\u001b[43mindexer\u001b[49m\u001b[43m,\u001b[49m\u001b[43m \u001b[49m\u001b[43maxis_name\u001b[49m\u001b[43m)\u001b[49m\n\u001b[1;32m   2764\u001b[0m     \u001b[38;5;28;01mreturn\u001b[39;00m \u001b[38;5;28mself\u001b[39m[indexer], indexer\n\u001b[1;32m   2766\u001b[0m \u001b[38;5;28;01mreturn\u001b[39;00m \u001b[38;5;28msuper\u001b[39m()\u001b[38;5;241m.\u001b[39m_get_indexer_strict(key, axis_name)\n",
      "File \u001b[0;32m~/miniconda3/envs/momepy/lib/python3.12/site-packages/pandas/core/indexes/multi.py:2781\u001b[0m, in \u001b[0;36mMultiIndex._raise_if_missing\u001b[0;34m(self, key, indexer, axis_name)\u001b[0m\n\u001b[1;32m   2779\u001b[0m cmask \u001b[38;5;241m=\u001b[39m check \u001b[38;5;241m==\u001b[39m \u001b[38;5;241m-\u001b[39m\u001b[38;5;241m1\u001b[39m\n\u001b[1;32m   2780\u001b[0m \u001b[38;5;28;01mif\u001b[39;00m cmask\u001b[38;5;241m.\u001b[39many():\n\u001b[0;32m-> 2781\u001b[0m     \u001b[38;5;28;01mraise\u001b[39;00m \u001b[38;5;167;01mKeyError\u001b[39;00m(\u001b[38;5;124mf\u001b[39m\u001b[38;5;124m\"\u001b[39m\u001b[38;5;132;01m{\u001b[39;00mkeyarr[cmask]\u001b[38;5;132;01m}\u001b[39;00m\u001b[38;5;124m not in index\u001b[39m\u001b[38;5;124m\"\u001b[39m)\n\u001b[1;32m   2782\u001b[0m \u001b[38;5;66;03m# We get here when levels still contain values which are not\u001b[39;00m\n\u001b[1;32m   2783\u001b[0m \u001b[38;5;66;03m# actually in Index anymore\u001b[39;00m\n\u001b[1;32m   2784\u001b[0m \u001b[38;5;28;01mraise\u001b[39;00m \u001b[38;5;167;01mKeyError\u001b[39;00m(\u001b[38;5;124mf\u001b[39m\u001b[38;5;124m\"\u001b[39m\u001b[38;5;132;01m{\u001b[39;00mkeyarr\u001b[38;5;132;01m}\u001b[39;00m\u001b[38;5;124m not in index\u001b[39m\u001b[38;5;124m\"\u001b[39m)\n",
      "\u001b[0;31mKeyError\u001b[0m: '[15748 25219] not in index'"
     ]
    }
   ],
   "source": [
    "bgraph = queen_1.subgraph(buildings.index.values)\n",
    "bgraph3 = bgraph.higher_order(k=3, lower_order=True).assign_self_weight()\n",
    "vals = mm.mean_interbuilding_distance(buildings, bgraph, bgraph3)"
   ]
  },
  {
   "cell_type": "code",
   "execution_count": 34,
   "id": "4a7d52d8-5322-46ac-b7f4-7dd87b33ca6f",
   "metadata": {},
   "outputs": [],
   "source": [
    "neigh_bgraph = neigh_queen_1.subgraph(neighbours_buildings.index.values)\n",
    "neigh_bgraph3 = neigh_bgraph.higher_order(k=3, lower_order=True).assign_self_weight()\n",
    "neigh_vals = mm.mean_interbuilding_distance(\n",
    "    neighbours_buildings, neigh_bgraph, neigh_bgraph3\n",
    ")"
   ]
  },
  {
   "cell_type": "code",
   "execution_count": null,
   "id": "095ed447-89f4-45cd-bbdc-c55d76be2db3",
   "metadata": {},
   "outputs": [],
   "source": []
  },
  {
   "cell_type": "code",
   "execution_count": 35,
   "id": "ae2b204a-69d0-408d-b031-0186c0bb4f0c",
   "metadata": {},
   "outputs": [],
   "source": [
    "neigh_vals = neigh_vals.loc[focal_buildings_idxs]\n",
    "vals = vals.loc[focal_buildings_idxs]"
   ]
  },
  {
   "cell_type": "code",
   "execution_count": 36,
   "id": "551016a0-1222-428f-9c91-85f36767c28d",
   "metadata": {},
   "outputs": [],
   "source": [
    "from pandas.testing import assert_series_equal\n",
    "\n",
    "assert_series_equal(\n",
    "    neigh_vals.loc[focal_buildings_idxs],\n",
    "    vals.loc[focal_buildings_idxs],\n",
    "    check_exact=False,\n",
    ")"
   ]
  },
  {
   "cell_type": "code",
   "execution_count": null,
   "id": "637cd02e-929f-4eaa-81b2-67abe150b33d",
   "metadata": {},
   "outputs": [],
   "source": []
  },
  {
   "cell_type": "markdown",
   "id": "fae6726c-395f-4bfe-944a-f7feee6fc60d",
   "metadata": {},
   "source": [
    "### test fartherst reaching node chars"
   ]
  },
  {
   "cell_type": "code",
   "execution_count": 37,
   "id": "1f8742a8-4f34-4383-ae1c-e6334e71a584",
   "metadata": {},
   "outputs": [
    {
     "name": "stderr",
     "output_type": "stream",
     "text": [
      "/home/krasen/miniconda3/envs/momepy/lib/python3.12/site-packages/libpysal/weights/weights.py:1685: UserWarning: The weights matrix is not fully connected: \n",
      " There are 2256 disconnected components.\n",
      "  w = W(neighbors, weights, ids, silence_warnings=silence_warnings)\n"
     ]
    }
   ],
   "source": [
    "graph = mm.gdf_to_nx(streets)\n",
    "graph = mm.node_degree(graph)\n",
    "graph = mm.subgraph(\n",
    "    graph,\n",
    "    radius=5,\n",
    "    meshedness=True,\n",
    "    cds_length=False,\n",
    "    mode=\"sum\",\n",
    "    degree=\"degree\",\n",
    "    length=\"mm_len\",\n",
    "    mean_node_degree=False,\n",
    "    proportion={0: True, 3: True, 4: True},\n",
    "    cyclomatic=False,\n",
    "    edge_node_ratio=False,\n",
    "    gamma=False,\n",
    "    local_closeness=True,\n",
    "    closeness_weight=\"mm_len\",\n",
    "    verbose=False,\n",
    ")\n",
    "graph = mm.cds_length(graph, radius=3, name=\"ldsCDL\", verbose=False)\n",
    "graph = mm.clustering(graph, name=\"xcnSCl\")\n",
    "graph = mm.mean_node_dist(graph, name=\"mtdMDi\", verbose=False)\n",
    "nodes, edges, w = mm.nx_to_gdf(graph, spatial_weights=True)\n",
    "nodes_w5 = Graph.from_W(w).higher_order(k=5, lower_order=True).assign_self_weight()\n",
    "nodes[\"lddNDe\"] = mm.node_density(nodes, edges, nodes_w5)\n",
    "nodes[\"linWID\"] = mm.node_density(\n",
    "    nodes,\n",
    "    edges,\n",
    "    nodes_w5,\n",
    "    weighted=True,\n",
    ")\n",
    "nodes_old = nodes"
   ]
  },
  {
   "cell_type": "code",
   "execution_count": null,
   "id": "e6a4fa57-ffc0-42f2-9cdc-e637e2eed8e4",
   "metadata": {},
   "outputs": [],
   "source": []
  },
  {
   "cell_type": "code",
   "execution_count": 38,
   "id": "90ee368e-ea1e-45c9-8643-d97e9e36fa32",
   "metadata": {},
   "outputs": [
    {
     "name": "stderr",
     "output_type": "stream",
     "text": [
      "/home/krasen/miniconda3/envs/momepy/lib/python3.12/site-packages/libpysal/weights/weights.py:1685: UserWarning: The weights matrix is not fully connected: \n",
      " There are 77 disconnected components.\n",
      "  w = W(neighbors, weights, ids, silence_warnings=silence_warnings)\n"
     ]
    }
   ],
   "source": [
    "graph = mm.gdf_to_nx(neighbours_streets)\n",
    "graph = mm.node_degree(graph)\n",
    "graph = mm.subgraph(\n",
    "    graph,\n",
    "    radius=5,\n",
    "    meshedness=True,\n",
    "    cds_length=False,\n",
    "    mode=\"sum\",\n",
    "    degree=\"degree\",\n",
    "    length=\"mm_len\",\n",
    "    mean_node_degree=False,\n",
    "    proportion={0: True, 3: True, 4: True},\n",
    "    cyclomatic=False,\n",
    "    edge_node_ratio=False,\n",
    "    gamma=False,\n",
    "    local_closeness=True,\n",
    "    closeness_weight=\"mm_len\",\n",
    "    verbose=False,\n",
    ")\n",
    "graph = mm.cds_length(graph, radius=3, name=\"ldsCDL\", verbose=False)\n",
    "graph = mm.clustering(graph, name=\"xcnSCl\")\n",
    "graph = mm.mean_node_dist(graph, name=\"mtdMDi\", verbose=False)\n",
    "nodes, edges, w = mm.nx_to_gdf(graph, spatial_weights=True)\n",
    "nodes_w5 = Graph.from_W(w).higher_order(k=5, lower_order=True).assign_self_weight()\n",
    "nodes[\"lddNDe\"] = mm.node_density(nodes, edges, nodes_w5)\n",
    "nodes[\"linWID\"] = mm.node_density(\n",
    "    nodes,\n",
    "    edges,\n",
    "    nodes_w5,\n",
    "    weighted=True,\n",
    ")\n",
    "nodes_new = nodes"
   ]
  },
  {
   "cell_type": "code",
   "execution_count": null,
   "id": "024c9a96-2db9-4554-ba87-f0ef840fed50",
   "metadata": {},
   "outputs": [],
   "source": []
  },
  {
   "cell_type": "code",
   "execution_count": 39,
   "id": "c6740bb4-762f-4616-b0c3-31066cae8ab7",
   "metadata": {},
   "outputs": [],
   "source": [
    "n1 = nodes_old.iloc[nodes_old.sindex.query(focal_geometry.geometry)]\n",
    "n1 = n1.sort_values([\"x\", \"y\"]).reset_index(drop=True)\n",
    "n2 = nodes_new.iloc[nodes_new.sindex.query(focal_geometry.geometry)]\n",
    "n2 = n2.sort_values([\"x\", \"y\"]).reset_index(drop=True)"
   ]
  },
  {
   "cell_type": "code",
   "execution_count": 40,
   "id": "ee7b1517-ca5d-4799-b4e1-241f584a6ef4",
   "metadata": {},
   "outputs": [],
   "source": [
    "assert_frame_equal(\n",
    "    n1.loc[:, ~n1.columns.isin([\"local_closeness\", \"geometry\", \"nodeID\"])],\n",
    "    n2.loc[:, ~n2.columns.isin([\"local_closeness\", \"geometry\", \"nodeID\"])],\n",
    ")"
   ]
  },
  {
   "cell_type": "code",
   "execution_count": null,
   "id": "362350b4-9a38-40f2-a164-ebab34d7bd12",
   "metadata": {},
   "outputs": [],
   "source": []
  },
  {
   "cell_type": "code",
   "execution_count": null,
   "id": "edfdf024-9b2e-4737-8753-3ad505897cc0",
   "metadata": {},
   "outputs": [],
   "source": []
  },
  {
   "cell_type": "code",
   "execution_count": 41,
   "id": "cf995f48-0215-4bc9-a182-1ee5bcacc1fa",
   "metadata": {},
   "outputs": [],
   "source": [
    "# n1 = nodes_old.iloc[nodes_old.sindex.query(focal_geometry.geometry)]\n",
    "# n1['geometry'] = n1.buffer(10)\n",
    "\n",
    "# n2 = nodes_new.iloc[nodes_new.sindex.query(focal_geometry.geometry)]\n",
    "# n2['geometry'] = n2.buffer(5)\n",
    "\n",
    "# m = n1.explore()\n",
    "# m = n2.explore(m=m, color='r')\n",
    "# m"
   ]
  },
  {
   "cell_type": "code",
   "execution_count": null,
   "id": "852924de-ab30-47b2-a899-f007d04220a9",
   "metadata": {},
   "outputs": [],
   "source": []
  },
  {
   "cell_type": "markdown",
   "id": "6c5fdcf8-ea15-43f2-a197-cf50dd4b1073",
   "metadata": {},
   "source": [
    "### test fartherst reaching enclosure chars"
   ]
  },
  {
   "cell_type": "code",
   "execution_count": 42,
   "id": "451273bf-ae16-40c0-bcbe-9975e0676456",
   "metadata": {},
   "outputs": [],
   "source": [
    "beid = buildings.merge(tessellation[\"eID\"], left_index=True, right_index=True)[\"eID\"]\n",
    "beid = neighbours_buildings.merge(\n",
    "    neighbours_tesselations[\"eID\"], left_index=True, right_index=True\n",
    ")[\"eID\"]"
   ]
  },
  {
   "cell_type": "code",
   "execution_count": 43,
   "id": "e668a5c8-77de-4ae9-ab7a-36089546574f",
   "metadata": {},
   "outputs": [],
   "source": [
    "old_vals = mm.count(enclosures, buildings, beid, weighted=False)\n",
    "new_vals = mm.count(neighbours_enclosures, neighbours_buildings, beid, weighted=False)\n",
    "assert old_vals[focal] == new_vals[focal]"
   ]
  },
  {
   "cell_type": "code",
   "execution_count": 44,
   "id": "e5d4005d-af31-4f8d-a94a-5767114486cd",
   "metadata": {},
   "outputs": [
    {
     "ename": "AssertionError",
     "evalue": "",
     "output_type": "error",
     "traceback": [
      "\u001b[0;31m---------------------------------------------------------------------------\u001b[0m",
      "\u001b[0;31mAssertionError\u001b[0m                            Traceback (most recent call last)",
      "Cell \u001b[0;32mIn[44], line 3\u001b[0m\n\u001b[1;32m      1\u001b[0m old_vals \u001b[38;5;241m=\u001b[39m mm\u001b[38;5;241m.\u001b[39mcount(enclosures, buildings, beid, weighted\u001b[38;5;241m=\u001b[39m\u001b[38;5;28;01mTrue\u001b[39;00m)\n\u001b[1;32m      2\u001b[0m new_vals \u001b[38;5;241m=\u001b[39m mm\u001b[38;5;241m.\u001b[39mcount(neighbours_enclosures, neighbours_buildings, beid, weighted\u001b[38;5;241m=\u001b[39m\u001b[38;5;28;01mTrue\u001b[39;00m)\n\u001b[0;32m----> 3\u001b[0m \u001b[38;5;28;01massert\u001b[39;00m old_vals[focal] \u001b[38;5;241m==\u001b[39m new_vals[focal]\n",
      "\u001b[0;31mAssertionError\u001b[0m: "
     ]
    }
   ],
   "source": [
    "old_vals = mm.count(enclosures, buildings, beid, weighted=True)\n",
    "new_vals = mm.count(neighbours_enclosures, neighbours_buildings, beid, weighted=True)\n",
    "assert old_vals[focal] == new_vals[focal]"
   ]
  },
  {
   "cell_type": "code",
   "execution_count": null,
   "id": "2568c3ee-dd4e-4082-af21-e9b2fca1fc3d",
   "metadata": {},
   "outputs": [],
   "source": []
  },
  {
   "cell_type": "code",
   "execution_count": null,
   "id": "0372af5a-4d03-4fb1-b0f3-bd0fc5a223c9",
   "metadata": {},
   "outputs": [],
   "source": []
  },
  {
   "cell_type": "code",
   "execution_count": null,
   "id": "337c585b-3abf-4235-a36e-7639654276eb",
   "metadata": {},
   "outputs": [],
   "source": []
  },
  {
   "cell_type": "markdown",
   "id": "9467efca-0a5a-4fb9-a194-61485337462a",
   "metadata": {},
   "source": [
    "### test fartherst reaching edges chars"
   ]
  },
  {
   "cell_type": "code",
   "execution_count": null,
   "id": "25987dcc-c888-4995-a117-9f0af49173d4",
   "metadata": {},
   "outputs": [],
   "source": []
  },
  {
   "cell_type": "code",
   "execution_count": 45,
   "id": "b68221a6-ded5-4d9b-997a-57ab1f430244",
   "metadata": {},
   "outputs": [
    {
     "name": "stderr",
     "output_type": "stream",
     "text": [
      "/tmp/ipykernel_76058/2348687176.py:6: UserWarning: Some objects were not attached to the network. Set larger `min_size``. 800 affected elements.\n",
      "  tess_nid = mm.get_network_id(tess, edges_old, network_id=edges_old.index, verbose=False)\n"
     ]
    }
   ],
   "source": [
    "graph = mm.gdf_to_nx(streets)\n",
    "nodes, edges_old = mm.nx_to_gdf(graph, spatial_weights=False)\n",
    "edges_w3_old = (\n",
    "    Graph.build_contiguity(edges_old, rook=False, strict=True)\n",
    "    .higher_order(k=3, lower_order=True)\n",
    "    .assign_self_weight()\n",
    ")\n",
    "\n",
    "tess = tessellation[tessellation.index > -1]\n",
    "tess_nid = mm.get_network_id(tess, edges_old, network_id=edges_old.index, verbose=False)\n",
    "res_old = mm.describe_reached(tess.geometry.area, tess_nid, graph=edges_w3_old)\n",
    "interecting_streets_old = np.unique(edges_old.sindex.query(focal_geometry.geometry))"
   ]
  },
  {
   "cell_type": "code",
   "execution_count": null,
   "id": "24eda146-a4be-4a2e-8c10-36e32e1fb091",
   "metadata": {},
   "outputs": [],
   "source": []
  },
  {
   "cell_type": "code",
   "execution_count": 46,
   "id": "24626e82-53fb-434a-8726-dc4ffe98297a",
   "metadata": {},
   "outputs": [],
   "source": [
    "# focal_streets_old.explore()"
   ]
  },
  {
   "cell_type": "code",
   "execution_count": 47,
   "id": "c0ef6320-5e52-470c-9573-a1efcd674700",
   "metadata": {},
   "outputs": [
    {
     "name": "stderr",
     "output_type": "stream",
     "text": [
      "/tmp/ipykernel_76058/3218485757.py:7: UserWarning: Some objects were not attached to the network. Set larger `min_size``. 5 affected elements.\n",
      "  tess_nid = mm.get_network_id(tess, edges, network_id=edges.index, verbose=False)\n"
     ]
    }
   ],
   "source": [
    "graph = mm.gdf_to_nx(neighbours_streets)\n",
    "nodes, edges = mm.nx_to_gdf(graph, spatial_weights=False)\n",
    "tess = neighbours_tesselations[neighbours_tesselations.index > -1]\n",
    "\n",
    "edges_w3_new = (\n",
    "    Graph.build_contiguity(edges, rook=False, strict=True)\n",
    "    .higher_order(k=3, lower_order=True)\n",
    "    .assign_self_weight()\n",
    ")\n",
    "\n",
    "tess_nid = mm.get_network_id(tess, edges, network_id=edges.index, verbose=False)\n",
    "res_new = mm.describe_reached(tess.geometry.area, tess_nid, graph=edges_w3_new)\n",
    "interecting_streets = np.unique(edges.sindex.query(focal_geometry.geometry))\n",
    "focal_streets_new = res_new.iloc[interecting_streets]"
   ]
  },
  {
   "cell_type": "code",
   "execution_count": 48,
   "id": "90f75d71-9306-4830-8e0b-9bc70b58ebe3",
   "metadata": {},
   "outputs": [
    {
     "name": "stderr",
     "output_type": "stream",
     "text": [
      "/tmp/ipykernel_76058/4073697458.py:2: SettingWithCopyWarning: \n",
      "A value is trying to be set on a copy of a slice from a DataFrame.\n",
      "Try using .loc[row_indexer,col_indexer] = value instead\n",
      "\n",
      "See the caveats in the documentation: https://pandas.pydata.org/pandas-docs/stable/user_guide/indexing.html#returning-a-view-versus-a-copy\n",
      "  focal_streets_old['osm_id'] = edges_old.iloc[interecting_streets_old]['osm_id']\n",
      "/tmp/ipykernel_76058/4073697458.py:3: SettingWithCopyWarning: \n",
      "A value is trying to be set on a copy of a slice from a DataFrame.\n",
      "Try using .loc[row_indexer,col_indexer] = value instead\n",
      "\n",
      "See the caveats in the documentation: https://pandas.pydata.org/pandas-docs/stable/user_guide/indexing.html#returning-a-view-versus-a-copy\n",
      "  focal_streets_old['geometry'] = edges_old.iloc[interecting_streets_old]['geometry']\n"
     ]
    }
   ],
   "source": [
    "focal_streets_old = res_old.iloc[interecting_streets_old]\n",
    "focal_streets_old[\"osm_id\"] = edges_old.iloc[interecting_streets_old][\"osm_id\"]\n",
    "focal_streets_old[\"geometry\"] = edges_old.iloc[interecting_streets_old][\"geometry\"]\n",
    "focal_streets_old = gpd.GeoDataFrame(focal_streets_old)\n",
    "focal_streets_old = focal_streets_old.set_index(\"osm_id\")"
   ]
  },
  {
   "cell_type": "code",
   "execution_count": null,
   "id": "f259e078-c4c8-4ab9-b9a0-991bcaa5a045",
   "metadata": {},
   "outputs": [],
   "source": []
  },
  {
   "cell_type": "code",
   "execution_count": null,
   "id": "f411cbf4-9078-4eb9-8002-aead21cc71e6",
   "metadata": {},
   "outputs": [],
   "source": []
  },
  {
   "cell_type": "code",
   "execution_count": 49,
   "id": "9e3fc712-0688-4e6a-9577-c34155130384",
   "metadata": {},
   "outputs": [
    {
     "name": "stderr",
     "output_type": "stream",
     "text": [
      "/tmp/ipykernel_76058/850304018.py:2: SettingWithCopyWarning: \n",
      "A value is trying to be set on a copy of a slice from a DataFrame.\n",
      "Try using .loc[row_indexer,col_indexer] = value instead\n",
      "\n",
      "See the caveats in the documentation: https://pandas.pydata.org/pandas-docs/stable/user_guide/indexing.html#returning-a-view-versus-a-copy\n",
      "  focal_streets_new['osm_id'] = edges.iloc[interecting_streets]['osm_id']\n",
      "/tmp/ipykernel_76058/850304018.py:3: SettingWithCopyWarning: \n",
      "A value is trying to be set on a copy of a slice from a DataFrame.\n",
      "Try using .loc[row_indexer,col_indexer] = value instead\n",
      "\n",
      "See the caveats in the documentation: https://pandas.pydata.org/pandas-docs/stable/user_guide/indexing.html#returning-a-view-versus-a-copy\n",
      "  focal_streets_new['geometry'] = edges.iloc[interecting_streets]['geometry']\n"
     ]
    }
   ],
   "source": [
    "focal_streets_new = res_new.iloc[interecting_streets]\n",
    "focal_streets_new[\"osm_id\"] = edges.iloc[interecting_streets][\"osm_id\"]\n",
    "focal_streets_new[\"geometry\"] = edges.iloc[interecting_streets][\"geometry\"]\n",
    "focal_streets_new = gpd.GeoDataFrame(focal_streets_new)\n",
    "focal_streets_new = focal_streets_new.set_index(\"osm_id\")"
   ]
  },
  {
   "cell_type": "code",
   "execution_count": null,
   "id": "32332e56-3f52-4915-966f-06134ad5105f",
   "metadata": {},
   "outputs": [],
   "source": []
  },
  {
   "cell_type": "code",
   "execution_count": null,
   "id": "cf6c9169-7a82-4ca4-8d08-c8d607fa0e32",
   "metadata": {},
   "outputs": [],
   "source": []
  },
  {
   "cell_type": "code",
   "execution_count": 50,
   "id": "f3349045-7b19-403b-9054-43032af5e0f3",
   "metadata": {},
   "outputs": [],
   "source": [
    "r1 = (\n",
    "    Graph.build_contiguity(edges_old.set_index(\"osm_id\"), rook=False, strict=True)\n",
    "    .higher_order(k=3, lower_order=True)\n",
    "    .assign_self_weight()\n",
    ")"
   ]
  },
  {
   "cell_type": "code",
   "execution_count": 51,
   "id": "8fd79ccc-5b4f-4eed-9e28-11a640c7aa7d",
   "metadata": {},
   "outputs": [],
   "source": [
    "r2 = (\n",
    "    Graph.build_contiguity(edges.set_index(\"osm_id\"), rook=False, strict=True)\n",
    "    .higher_order(k=3, lower_order=True)\n",
    "    .assign_self_weight()\n",
    ")"
   ]
  },
  {
   "cell_type": "code",
   "execution_count": 55,
   "id": "b5126356-5727-40c0-a2f6-c3fc2292127d",
   "metadata": {},
   "outputs": [
    {
     "data": {
      "text/plain": [
       "array(['42399700'], dtype=object)"
      ]
     },
     "execution_count": 55,
     "metadata": {},
     "output_type": "execute_result"
    }
   ],
   "source": [
    "effect_size1 = np.concatenate([r1[f].index.values for f in focal_streets_old.index])\n",
    "effect_size2 = np.concatenate([r2[f].index.values for f in focal_streets_old.index])\n",
    "np.setdiff1d(effect_size1, effect_size2)"
   ]
  },
  {
   "cell_type": "code",
   "execution_count": 56,
   "id": "faf7a200-4d64-48c7-96e3-6d630ee12b3b",
   "metadata": {},
   "outputs": [
    {
     "data": {
      "text/plain": [
       "(array([1123]),)"
      ]
     },
     "execution_count": 56,
     "metadata": {},
     "output_type": "execute_result"
    }
   ],
   "source": [
    "np.where(streets[\"osm_id\"] == \"42399700\")"
   ]
  },
  {
   "cell_type": "code",
   "execution_count": 57,
   "id": "cb354cdb-d227-4183-8a07-6c52dab864e6",
   "metadata": {},
   "outputs": [],
   "source": [
    "# m = neighbours_streets.explore()\n",
    "# m = neighbours_geometry.explore(m=m, color='r')\n",
    "# m = streets.iloc[[1123]].explore(m=m, color='red')\n",
    "# m"
   ]
  },
  {
   "cell_type": "code",
   "execution_count": null,
   "id": "d7785091-9ad3-4b8e-b19d-8c3af5e48bfc",
   "metadata": {},
   "outputs": [],
   "source": []
  },
  {
   "cell_type": "code",
   "execution_count": null,
   "id": "281b4cb3-23a6-4b95-aa9c-54204836937d",
   "metadata": {},
   "outputs": [],
   "source": []
  },
  {
   "cell_type": "code",
   "execution_count": null,
   "id": "56760817-0194-4618-8551-bd5fcd2bba62",
   "metadata": {},
   "outputs": [],
   "source": []
  },
  {
   "cell_type": "code",
   "execution_count": null,
   "id": "0047b9f5-684f-4ba7-b5d0-aaadad528ae8",
   "metadata": {},
   "outputs": [],
   "source": []
  },
  {
   "cell_type": "code",
   "execution_count": null,
   "id": "11c7d774-bd63-408d-8d72-c6bace870dd4",
   "metadata": {},
   "outputs": [],
   "source": []
  },
  {
   "cell_type": "code",
   "execution_count": null,
   "id": "ddc40373-f108-4043-9796-14d128f31cfc",
   "metadata": {},
   "outputs": [],
   "source": []
  },
  {
   "cell_type": "markdown",
   "id": "533b1767-606d-42e1-8139-2f91338e1203",
   "metadata": {},
   "source": [
    "### test fartherst reaching tesselation chars"
   ]
  },
  {
   "cell_type": "code",
   "execution_count": 58,
   "id": "4235b8f8-4944-4dc5-9426-4cceb728f783",
   "metadata": {},
   "outputs": [],
   "source": [
    "queen_3 = (\n",
    "    Graph.build_contiguity(tessellation, rook=False, strict=True)\n",
    "    .higher_order(k=3, lower_order=True)\n",
    "    .assign_self_weight()\n",
    ")\n",
    "neigh_queen_3 = (\n",
    "    Graph.build_contiguity(neighbours_tesselations, rook=False, strict=True)\n",
    "    .higher_order(k=3, lower_order=True)\n",
    "    .assign_self_weight()\n",
    ")"
   ]
  },
  {
   "cell_type": "code",
   "execution_count": 59,
   "id": "48e59ab5-c516-4524-8cb8-b3f97efac10a",
   "metadata": {},
   "outputs": [],
   "source": [
    "vals_old = mm.block_counts(tessellation[\"eID\"], queen_3).loc[focal_buildings_idxs]\n",
    "vals_new = mm.block_counts(neighbours_tesselations[\"eID\"], neigh_queen_3).loc[\n",
    "    focal_buildings_idxs\n",
    "]"
   ]
  },
  {
   "cell_type": "code",
   "execution_count": 60,
   "id": "c9480658-69eb-4215-aef9-b9b75aa4b45c",
   "metadata": {},
   "outputs": [],
   "source": [
    "assert_series_equal(vals_old, vals_new)"
   ]
  },
  {
   "cell_type": "code",
   "execution_count": 57,
   "id": "77b016d2-0edb-49a0-a012-5a89551bffba",
   "metadata": {},
   "outputs": [],
   "source": [
    "# m = tessellation.loc[focal_buildings_idxs].reset_index().explore()\n",
    "# m = neighbours_tesselations.loc[focal_buildings_idxs].reset_index().explore(m=m, color='r')\n",
    "# m"
   ]
  },
  {
   "cell_type": "code",
   "execution_count": null,
   "id": "0cc7c14e-c40e-4dc7-aa4e-526d6d33bcca",
   "metadata": {},
   "outputs": [],
   "source": []
  },
  {
   "cell_type": "code",
   "execution_count": null,
   "id": "8e7fe109-c691-4d24-9c83-057da1109441",
   "metadata": {},
   "outputs": [],
   "source": []
  },
  {
   "cell_type": "code",
   "execution_count": null,
   "id": "22ecd30c-2382-4962-96f8-d8da23e895d9",
   "metadata": {},
   "outputs": [],
   "source": []
  },
  {
   "cell_type": "markdown",
   "id": "02a03d95-d475-409b-9058-dcdd8d93e170",
   "metadata": {},
   "source": [
    "### Hilbert stuff"
   ]
  },
  {
   "cell_type": "code",
   "execution_count": 122,
   "id": "c8cae5bc-7dc4-439a-9aed-f1610a01d753",
   "metadata": {},
   "outputs": [],
   "source": [
    "sorted_enclosures = enclosures.sort_values(by=\"geometry\")"
   ]
  },
  {
   "cell_type": "code",
   "execution_count": 123,
   "id": "69019f6f-a522-4ae3-ac1f-5ff034489a4f",
   "metadata": {},
   "outputs": [
    {
     "ename": "AssertionError",
     "evalue": "",
     "output_type": "error",
     "traceback": [
      "\u001b[0;31m---------------------------------------------------------------------------\u001b[0m",
      "\u001b[0;31mAssertionError\u001b[0m                            Traceback (most recent call last)",
      "Cell \u001b[0;32mIn[123], line 5\u001b[0m\n\u001b[1;32m      3\u001b[0m focal \u001b[38;5;241m=\u001b[39m np\u001b[38;5;241m.\u001b[39mwhere(sorted_enclosures\u001b[38;5;241m.\u001b[39mindex \u001b[38;5;241m==\u001b[39m i)[\u001b[38;5;241m0\u001b[39m][\u001b[38;5;241m0\u001b[39m]\n\u001b[1;32m      4\u001b[0m neighbours \u001b[38;5;241m=\u001b[39m sorted_enclosures\u001b[38;5;241m.\u001b[39miloc[focal \u001b[38;5;241m-\u001b[39m \u001b[38;5;241m100\u001b[39m: focal \u001b[38;5;241m+\u001b[39m \u001b[38;5;241m1000\u001b[39m, ]\u001b[38;5;241m.\u001b[39mindex\n\u001b[0;32m----> 5\u001b[0m \u001b[38;5;28;01massert\u001b[39;00m np\u001b[38;5;241m.\u001b[39misin(blo_q1[i]\u001b[38;5;241m.\u001b[39mindex, neighbours)\u001b[38;5;241m.\u001b[39mall()\n",
      "\u001b[0;31mAssertionError\u001b[0m: "
     ]
    }
   ],
   "source": [
    "for i in enclosures.index:\n",
    "    focal = np.where(sorted_enclosures.index == i)[0][0]\n",
    "    neighbours = sorted_enclosures.iloc[focal - 100 : focal + 1000,].index\n",
    "    assert np.isin(blo_q1[i].index, neighbours).all()"
   ]
  },
  {
   "cell_type": "code",
   "execution_count": null,
   "id": "45e2ea61-de8f-46af-8836-a351e396e585",
   "metadata": {},
   "outputs": [],
   "source": []
  },
  {
   "cell_type": "code",
   "execution_count": null,
   "id": "dd692330-d08f-4c47-8481-bc4e24bbae5d",
   "metadata": {},
   "outputs": [],
   "source": []
  },
  {
   "cell_type": "code",
   "execution_count": null,
   "id": "8762bef6-83b1-499e-bede-5c44b58df015",
   "metadata": {},
   "outputs": [],
   "source": []
  },
  {
   "cell_type": "code",
   "execution_count": 145,
   "id": "c7b428c3-347d-4975-914a-df24ff7ba9bd",
   "metadata": {},
   "outputs": [],
   "source": [
    "# m = sorted_enclosures.iloc[focal - 100: focal + 100, ].explore()\n",
    "# m = sorted_enclosures.iloc[[focal], ].explore(m=m, color='red')\n",
    "# m = enclosures.loc[blo_q1[i].index].explore(color='r', m=m)\n",
    "# m"
   ]
  },
  {
   "cell_type": "code",
   "execution_count": null,
   "id": "5b8a971e-10a3-44b5-80bb-2207c2934392",
   "metadata": {},
   "outputs": [],
   "source": []
  },
  {
   "cell_type": "code",
   "execution_count": null,
   "id": "c9eba7d8-1b54-4024-92f6-a291fd4778dd",
   "metadata": {},
   "outputs": [],
   "source": []
  },
  {
   "cell_type": "markdown",
   "id": "67cc878d-1e07-4501-b776-9318d1f420df",
   "metadata": {},
   "source": [
    "### numba bsf"
   ]
  },
  {
   "cell_type": "code",
   "execution_count": 514,
   "id": "cb2d2803-520c-4c9c-85ca-321853b5fa33",
   "metadata": {},
   "outputs": [],
   "source": [
    "from numba.typed import List"
   ]
  },
  {
   "cell_type": "code",
   "execution_count": 515,
   "id": "f099efb3-0e78-44d9-a375-f718652c9057",
   "metadata": {},
   "outputs": [],
   "source": [
    "aggregations = (\n",
    "    blo_q1.adjacency.index.to_frame()\n",
    "    .reset_index(drop=True)\n",
    "    .groupby(\"focal\")[\"neighbor\"]\n",
    "    .unique()\n",
    ")\n",
    "numba_graph = list(aggregations)"
   ]
  },
  {
   "cell_type": "code",
   "execution_count": 516,
   "id": "ba0ce648-8f88-4c32-bf0b-82232f6a30b0",
   "metadata": {},
   "outputs": [],
   "source": [
    "@numba.jit()\n",
    "def numba_process_subgraph(start, graph, weights, visited, max_limit=8000):\n",
    "    stack = [start]\n",
    "    current_weight = weights[start]\n",
    "    current_list = [start]\n",
    "    current_list.pop()\n",
    "    lists = [current_list]\n",
    "    lists.pop()\n",
    "\n",
    "    while len(stack):\n",
    "        current = stack.pop()\n",
    "        # the index has not been processed and there is space in the current list\n",
    "        if (current not in visited) and (\n",
    "            current_weight + weights[current] <= max_limit\n",
    "        ):\n",
    "            visited.add(current)\n",
    "            current_weight += weights[current]\n",
    "            current_list.append(current)\n",
    "\n",
    "            for v in graph[current]:\n",
    "                if v not in visited:\n",
    "                    stack.append(v)\n",
    "\n",
    "        # the index has not been processed, but the current list has reached max capacity\n",
    "        elif current not in visited:\n",
    "            # reset everything\n",
    "            lists.append(current_list)\n",
    "            current_weight = 0\n",
    "            current_list = [start]\n",
    "            current_list.pop()\n",
    "            stack = [current]  ### reinsert into stack\n",
    "\n",
    "        # if the current index has been processed continue\n",
    "        else:\n",
    "            continue\n",
    "\n",
    "    # # ### the graph disconnects\n",
    "    lists.append(current_list)\n",
    "    return lists, visited"
   ]
  },
  {
   "cell_type": "code",
   "execution_count": 517,
   "id": "fc0a3f87-efbc-4188-9735-5c3a67648c07",
   "metadata": {},
   "outputs": [],
   "source": [
    "@numba.jit\n",
    "def group_geoms(ids, numba_graph, weights):\n",
    "    groups = List([[0, 1, 2]])\n",
    "    groups.pop()\n",
    "    visited = set([ids.max() + 1])\n",
    "    for s in ids:\n",
    "        sub_list, visited = numba_process_subgraph(s, numba_graph, weights, visited)\n",
    "        for l in sub_list:\n",
    "            groups.append(l)\n",
    "    return groups"
   ]
  },
  {
   "cell_type": "code",
   "execution_count": 521,
   "id": "0355e877-c8d5-447e-9a1b-94521877eb1d",
   "metadata": {},
   "outputs": [],
   "source": [
    "groups = group_geoms(enclosures.index.values, numba_graph, weights.values)"
   ]
  },
  {
   "cell_type": "code",
   "execution_count": null,
   "id": "c5e95f4b-d586-4de0-8623-79a7446c7db3",
   "metadata": {},
   "outputs": [],
   "source": []
  }
 ],
 "metadata": {
  "kernelspec": {
   "display_name": "Python 3 (ipykernel)",
   "language": "python",
   "name": "python3"
  },
  "language_info": {
   "codemirror_mode": {
    "name": "ipython",
    "version": 3
   },
   "file_extension": ".py",
   "mimetype": "text/x-python",
   "name": "python",
   "nbconvert_exporter": "python",
   "pygments_lexer": "ipython3",
   "version": "3.12.3"
  }
 },
 "nbformat": 4,
 "nbformat_minor": 5
}
