{
 "cells": [
  {
   "cell_type": "code",
   "execution_count": 5,
   "id": "8cbf812c-d5a5-4744-95af-8ff28e68c867",
   "metadata": {},
   "outputs": [],
   "source": [
    "import glob\n",
    "import re\n",
    "\n",
    "import geopandas as gpd\n",
    "import momepy as mm\n",
    "import numpy as np\n",
    "import pandas as pd\n",
    "import shapely\n",
    "\n",
    "regions_datadir = \"/data/uscuni-ulce/\"\n",
    "data_dir = \"/data/uscuni-ulce/processed_data/\"\n",
    "eubucco_files = glob.glob(regions_datadir + \"eubucco_raw/*\")\n",
    "graph_dir = data_dir + \"neigh_graphs/\"\n",
    "chars_dir = \"/data/uscuni-ulce/processed_data/chars/\""
   ]
  },
  {
   "cell_type": "code",
   "execution_count": null,
   "id": "e46581f4-b017-406e-b4d0-277f5f6f0d02",
   "metadata": {},
   "outputs": [],
   "source": []
  },
  {
   "cell_type": "code",
   "execution_count": 123,
   "id": "36b44bbc-3c64-4c9e-8861-b30f356b26e4",
   "metadata": {},
   "outputs": [],
   "source": [
    "# building_region_mapping = pd.read_parquet(regions_datadir + 'regions/' +'id_to_region.parquet', engine='pyarrow')\n",
    "# counts = building_region_mapping.groupby('region')['id'].size()\n",
    "# del building_region_mapping\n",
    "# large_regions = counts[counts > 6e5].index\n",
    "# large_regions"
   ]
  },
  {
   "cell_type": "code",
   "execution_count": null,
   "id": "b67ff446-5ae7-4a57-9e0f-ee7022f96019",
   "metadata": {},
   "outputs": [],
   "source": []
  },
  {
   "cell_type": "code",
   "execution_count": 8,
   "id": "c2bdae16-553d-404f-9879-10281c986111",
   "metadata": {},
   "outputs": [],
   "source": [
    "region_hulls = gpd.read_parquet(regions_datadir + \"regions/\" + \"regions_hull.parquet\")"
   ]
  },
  {
   "cell_type": "code",
   "execution_count": 9,
   "id": "229a9024-b8f6-4ea7-b46b-a7ee68da41e8",
   "metadata": {},
   "outputs": [
    {
     "name": "stdout",
     "output_type": "stream",
     "text": [
      "Missing buildings for regions []\n",
      "Missing enclosures for regions []\n",
      "Missing tessellations for regions []\n",
      "Missing nodes for regions []\n",
      "Missing streets for regions []\n"
     ]
    }
   ],
   "source": [
    "def check_available():\n",
    "    elements = [\"buildings\", \"enclosures\", \"tessellations\", \"nodes\", \"streets\"]\n",
    "    for el in elements:\n",
    "        el_ids = [\n",
    "            int(re.findall(r\"\\d+\", f)[0])\n",
    "            for f in glob.glob(chars_dir + f\"{el}/*.parquet\")\n",
    "        ]\n",
    "        missing = np.setdiff1d(region_hulls.index.values, el_ids)\n",
    "        print(f\"Missing {el} for regions {missing}\")\n",
    "\n",
    "\n",
    "check_available()"
   ]
  },
  {
   "cell_type": "code",
   "execution_count": null,
   "id": "081b937b-b95f-481d-957d-7ca6a3ca7c68",
   "metadata": {},
   "outputs": [],
   "source": []
  },
  {
   "cell_type": "code",
   "execution_count": 10,
   "id": "2c22df07-0757-43b0-9806-53000947c46b",
   "metadata": {},
   "outputs": [
    {
     "data": {
      "text/plain": [
       "69300"
      ]
     },
     "execution_count": 10,
     "metadata": {},
     "output_type": "execute_result"
    }
   ],
   "source": [
    "# 12199 - hills, small test\n",
    "# 69300 - prague medium\n",
    "# 226 - germany somewhere, largest cluster\n",
    "\n",
    "for region_id, region_hull in region_hulls.iterrows():\n",
    "    if region_id != 69300:\n",
    "        continue\n",
    "\n",
    "    break\n",
    "region_id"
   ]
  },
  {
   "cell_type": "code",
   "execution_count": null,
   "id": "f0bf7d54-2dfb-4691-bcaf-f5cb2bc0d5f1",
   "metadata": {},
   "outputs": [],
   "source": []
  },
  {
   "cell_type": "code",
   "execution_count": null,
   "id": "189b5c24-6ca0-4599-b770-2f4eef4b0a41",
   "metadata": {},
   "outputs": [],
   "source": []
  },
  {
   "cell_type": "markdown",
   "id": "99c381b4-a2ac-4e44-959b-2095a5098342",
   "metadata": {},
   "source": [
    "### Merging data"
   ]
  },
  {
   "cell_type": "code",
   "execution_count": null,
   "id": "2f6e7cdd-6be9-43d8-92f1-270a788752a2",
   "metadata": {},
   "outputs": [],
   "source": []
  },
  {
   "cell_type": "code",
   "execution_count": 11,
   "id": "c5d0e81a-62ef-49e5-b3f0-41fae3f35886",
   "metadata": {},
   "outputs": [],
   "source": [
    "tessellation = gpd.read_parquet(chars_dir + f\"tessellations/chars_{region_id}.parquet\")\n",
    "buildings = gpd.read_parquet(chars_dir + f\"buildings/chars_{region_id}.parquet\")\n",
    "enclosures = gpd.read_parquet(chars_dir + f\"enclosures/chars_{region_id}.parquet\")\n",
    "streets = gpd.read_parquet(chars_dir + f\"streets/chars_{region_id}.parquet\")\n",
    "nodes = gpd.read_parquet(chars_dir + f\"nodes/chars_{region_id}.parquet\")"
   ]
  },
  {
   "cell_type": "code",
   "execution_count": 12,
   "id": "421db684-c337-4181-866b-e953d41dd1ee",
   "metadata": {},
   "outputs": [],
   "source": [
    "merged = pd.merge(\n",
    "    tessellation.drop(columns=[\"geometry\"]),\n",
    "    buildings.drop(columns=[\"nodeID\", \"geometry\"]),\n",
    "    right_index=True,\n",
    "    left_index=True,\n",
    ")\n",
    "\n",
    "merged = merged.merge(\n",
    "    enclosures.drop(columns=\"geometry\"),\n",
    "    right_on=\"eID\",\n",
    "    left_on=\"enclosure_index\",\n",
    "    how=\"left\",\n",
    ")\n",
    "\n",
    "merged = merged.merge(streets.drop(columns=\"geometry\"), on=\"nID\", how=\"left\")\n",
    "merged = merged.merge(nodes.drop(columns=\"geometry\"), on=\"nodeID\", how=\"left\")"
   ]
  },
  {
   "cell_type": "code",
   "execution_count": 13,
   "id": "bb3b57dd-1686-4845-a168-e10c5373bee7",
   "metadata": {},
   "outputs": [],
   "source": [
    "primary = merged.drop(\n",
    "    columns=[\n",
    "        \"nID\",\n",
    "        \"eID\",\n",
    "        \"nodeID\",\n",
    "        \"mm_len\",\n",
    "        \"cdsbool\",\n",
    "        \"node_start\",\n",
    "        \"node_end\",\n",
    "        \"x\",\n",
    "        \"y\",\n",
    "        \"enclosure_index\",\n",
    "        \"id\",  ## maybe keep\n",
    "    ]\n",
    ")"
   ]
  },
  {
   "cell_type": "code",
   "execution_count": 14,
   "id": "02f43370-2a28-4ffb-832f-b0b9b1822ad5",
   "metadata": {},
   "outputs": [],
   "source": [
    "# primary.to_parquet(chars_dir + f'primary_chars/chars_{region_id}.parquet')"
   ]
  },
  {
   "cell_type": "code",
   "execution_count": null,
   "id": "d90da811-fcae-4cd9-ba7c-91351ef562b1",
   "metadata": {},
   "outputs": [],
   "source": []
  },
  {
   "cell_type": "code",
   "execution_count": null,
   "id": "b4a0c7f1-2ca4-4b13-9cb8-e62b5174674f",
   "metadata": {},
   "outputs": [],
   "source": []
  },
  {
   "cell_type": "code",
   "execution_count": null,
   "id": "4b5461c7-134a-4ee1-b64d-89ba9a30f2d9",
   "metadata": {},
   "outputs": [],
   "source": []
  },
  {
   "cell_type": "code",
   "execution_count": null,
   "id": "6fc87d27-71ca-4557-8980-83574e76c91b",
   "metadata": {},
   "outputs": [],
   "source": []
  },
  {
   "cell_type": "code",
   "execution_count": 11,
   "id": "62c9189e-bdcb-46a4-8ee7-26fbfbaf2c1f",
   "metadata": {},
   "outputs": [],
   "source": [
    "primary = primary.drop(columns=[\"osm_id\"])"
   ]
  },
  {
   "cell_type": "markdown",
   "id": "fe754caf-6aa0-43cc-9d12-5d28ab40f831",
   "metadata": {},
   "source": [
    "### Checks"
   ]
  },
  {
   "cell_type": "code",
   "execution_count": 221,
   "id": "e6b8c2f5-b45f-4d76-88c1-be68941c87fa",
   "metadata": {},
   "outputs": [],
   "source": [
    "assert (buildings.index == primary.index).all()"
   ]
  },
  {
   "cell_type": "code",
   "execution_count": 222,
   "id": "d32ee11f-9c92-4993-adb5-7d71b81b9fbe",
   "metadata": {},
   "outputs": [],
   "source": [
    "stats = primary.describe()"
   ]
  },
  {
   "cell_type": "code",
   "execution_count": 223,
   "id": "67c91ca4-55f0-414a-a47d-790ee7b07904",
   "metadata": {},
   "outputs": [],
   "source": [
    "assert not (\n",
    "    stats.loc[\"max\"] == stats.loc[\"min\"]\n",
    ").any()  ### there should be at least some data in any of the columns"
   ]
  },
  {
   "cell_type": "code",
   "execution_count": 224,
   "id": "5ec79c20-f279-4755-9d16-83a548ad0c92",
   "metadata": {},
   "outputs": [
    {
     "name": "stdout",
     "output_type": "stream",
     "text": [
      "enclosure_index\n",
      "geometry\n",
      "ltcWRB\n",
      "nodeID\n"
     ]
    }
   ],
   "source": [
    "for c in tessellation.columns:\n",
    "    if c not in char_names:\n",
    "        print(c)"
   ]
  },
  {
   "cell_type": "code",
   "execution_count": null,
   "id": "dce97af6-1a33-4769-8b66-4fac1e2adb93",
   "metadata": {},
   "outputs": [],
   "source": []
  },
  {
   "cell_type": "code",
   "execution_count": 18,
   "id": "bd361c79-c571-4621-9863-ef6800b1f0e7",
   "metadata": {},
   "outputs": [
    {
     "name": "stdout",
     "output_type": "stream",
     "text": [
      "CPU times: user 25.7 s, sys: 372 ms, total: 26.1 s\n",
      "Wall time: 26.1 s\n"
     ]
    }
   ],
   "source": [
    "%%time\n",
    "res = mm.buffered_limit(buildings, buffer=\"adaptive\", max_buffer=200)"
   ]
  },
  {
   "cell_type": "code",
   "execution_count": 22,
   "id": "35c35672-4f1a-4aa7-9a28-aa11af856cc1",
   "metadata": {},
   "outputs": [],
   "source": [
    "polygons = [p for p in res.geoms]"
   ]
  },
  {
   "cell_type": "code",
   "execution_count": 26,
   "id": "18a6ed9a-6099-432d-97e5-471389b9490c",
   "metadata": {},
   "outputs": [],
   "source": [
    "# gpd.GeoDataFrame({'geometry': polygons}, crs=buildings.crs).explore()"
   ]
  },
  {
   "cell_type": "code",
   "execution_count": null,
   "id": "d55b325c-e37d-49eb-aa97-0e2db5a63ad9",
   "metadata": {},
   "outputs": [],
   "source": []
  },
  {
   "cell_type": "code",
   "execution_count": 225,
   "id": "368aa58a-e519-43f8-b5fa-3dc061ad903d",
   "metadata": {},
   "outputs": [],
   "source": [
    "# !conda install -c conda-forge lonboard -y\n",
    "# !conda update -c conda-forge ipywidgets -y\n",
    "# !conda install -c conda-forge jupyter_contrib_nbextensions -y\n",
    "# !jupyter nbextension enable --py widgetsnbextension\n",
    "\n",
    "## all of this then restart jupyterlab"
   ]
  },
  {
   "cell_type": "code",
   "execution_count": 227,
   "id": "65505016-f0a9-44f1-977e-be3a97019e07",
   "metadata": {},
   "outputs": [
    {
     "data": {
      "text/plain": [
       "Index(['enclosure_index', 'geometry', 'stcOri', 'sdcLAL', 'sdcAre', 'sscCCo',\n",
       "       'sscERI', 'mtcWNe', 'mdcAre', 'ltcWRB', 'sicCAR', 'stcSAl', 'nodeID'],\n",
       "      dtype='object')"
      ]
     },
     "execution_count": 227,
     "metadata": {},
     "output_type": "execute_result"
    }
   ],
   "source": [
    "tessellation.columns"
   ]
  },
  {
   "cell_type": "code",
   "execution_count": 228,
   "id": "cbb5d613-f0a7-4faf-9925-338f6d9d58be",
   "metadata": {},
   "outputs": [],
   "source": [
    "from lonboard import PolygonLayer\n",
    "from lonboard.colormap import apply_continuous_cmap\n",
    "from palettable.colorbrewer.sequential import Oranges_9"
   ]
  },
  {
   "cell_type": "code",
   "execution_count": 229,
   "id": "200e32c6-e5e5-4bcc-95c5-31ed0896755e",
   "metadata": {},
   "outputs": [],
   "source": [
    "# plotting = enclosures.copy()\n",
    "# plotting['geometry'] = nodes.buffer(5).to_crs('EPSG:4326')\n",
    "\n",
    "\n",
    "plotting = tessellation.to_crs(\"EPSG:4326\")"
   ]
  },
  {
   "cell_type": "code",
   "execution_count": null,
   "id": "13b8f178-5b17-4966-997f-7a8b5ba23a90",
   "metadata": {},
   "outputs": [],
   "source": []
  },
  {
   "cell_type": "code",
   "execution_count": 230,
   "id": "43cb3ef0-98e1-4987-a19d-415fa4e99ef9",
   "metadata": {},
   "outputs": [],
   "source": [
    "# colors = apply_categorical_cmap(plotting_buildings['sdbCoA'], Set3_9)"
   ]
  },
  {
   "cell_type": "code",
   "execution_count": 231,
   "id": "e0b686ed-f875-43b4-88e6-48f35570eb0f",
   "metadata": {},
   "outputs": [
    {
     "data": {
      "text/plain": [
       "Index(['enclosure_index', 'geometry', 'stcOri', 'sdcLAL', 'sdcAre', 'sscCCo',\n",
       "       'sscERI', 'mtcWNe', 'mdcAre', 'ltcWRB', 'sicCAR', 'stcSAl', 'nodeID'],\n",
       "      dtype='object')"
      ]
     },
     "execution_count": 231,
     "metadata": {},
     "output_type": "execute_result"
    }
   ],
   "source": [
    "plotting.columns"
   ]
  },
  {
   "cell_type": "code",
   "execution_count": 253,
   "id": "f1a92b5d-1b29-4c78-a6d1-e9d3fbceedef",
   "metadata": {},
   "outputs": [
    {
     "data": {
      "text/plain": [
       "{'stcOri': 'degrees',\n",
       " 'sdcLAL': 'metres',\n",
       " 'sdcAre': 'area',\n",
       " 'sscCCo': 'ratio',\n",
       " 'sscERI': 'ratio',\n",
       " 'mtcWNe': 'ratio',\n",
       " 'mdcAre': 'area',\n",
       " 'ltcWRB': 'count',\n",
       " 'sicCAR': 'ratio',\n",
       " 'stcSAl': 'degree'}"
      ]
     },
     "execution_count": 253,
     "metadata": {},
     "output_type": "execute_result"
    }
   ],
   "source": []
  },
  {
   "cell_type": "code",
   "execution_count": 255,
   "id": "9c0ba703-7872-468a-8b42-36393862b884",
   "metadata": {},
   "outputs": [],
   "source": [
    "col = \"stcSAl\""
   ]
  },
  {
   "cell_type": "code",
   "execution_count": 256,
   "id": "f585f866-6476-4b15-bfbe-c37522398998",
   "metadata": {},
   "outputs": [
    {
     "data": {
      "text/plain": [
       "count    270879.000000\n",
       "mean         14.954598\n",
       "std          10.620680\n",
       "min           0.000087\n",
       "25%           5.993527\n",
       "50%          13.026315\n",
       "75%          22.439168\n",
       "max          44.952705\n",
       "Name: stcSAl, dtype: float64"
      ]
     },
     "execution_count": 256,
     "metadata": {},
     "output_type": "execute_result"
    }
   ],
   "source": [
    "plotting[col].describe()"
   ]
  },
  {
   "cell_type": "code",
   "execution_count": 257,
   "id": "0a83f884-099b-4be3-aa07-237eb9398b3d",
   "metadata": {},
   "outputs": [
    {
     "data": {
      "text/plain": [
       "'street alignment of ETC'"
      ]
     },
     "execution_count": 257,
     "metadata": {},
     "output_type": "execute_result"
    }
   ],
   "source": [
    "char_names[col]"
   ]
  },
  {
   "cell_type": "code",
   "execution_count": null,
   "id": "24d05198-b328-4636-b793-34663679e5be",
   "metadata": {},
   "outputs": [],
   "source": []
  },
  {
   "cell_type": "code",
   "execution_count": 199,
   "id": "39b88dcc-9fe4-45e9-8239-536ea3b46e36",
   "metadata": {},
   "outputs": [],
   "source": [
    "# normaliser = LogNorm(1, plotting[col].max(), clip=True)\n",
    "# colors = apply_continuous_cmap(normaliser(plotting[col]), Oranges_9)"
   ]
  },
  {
   "cell_type": "code",
   "execution_count": 258,
   "id": "f3c5cc9f-dd8f-4a88-973d-54efa6ffba55",
   "metadata": {},
   "outputs": [],
   "source": [
    "colors = apply_continuous_cmap(plotting[col], Oranges_9)"
   ]
  },
  {
   "cell_type": "code",
   "execution_count": 259,
   "id": "c86973e0-7dcf-4c18-aa7f-156a081dd32b",
   "metadata": {},
   "outputs": [],
   "source": [
    "layer = PolygonLayer.from_geopandas(gdf=plotting, get_fill_color=colors, opacity=0.1)"
   ]
  },
  {
   "cell_type": "code",
   "execution_count": 263,
   "id": "0e146e5e-acf8-495e-a358-e9eaf9661ec6",
   "metadata": {},
   "outputs": [],
   "source": [
    "# m = Map(layer)\n",
    "# m"
   ]
  },
  {
   "cell_type": "code",
   "execution_count": null,
   "id": "da0ee6b9-0f5d-4319-a826-cffc04eb94ca",
   "metadata": {},
   "outputs": [],
   "source": []
  },
  {
   "cell_type": "code",
   "execution_count": null,
   "id": "0236919d-82b1-46ab-9214-b4b0c313c9d7",
   "metadata": {},
   "outputs": [],
   "source": []
  },
  {
   "cell_type": "code",
   "execution_count": null,
   "id": "88b334e5-e150-4dea-ad0f-348825f61bb2",
   "metadata": {},
   "outputs": [],
   "source": []
  },
  {
   "cell_type": "code",
   "execution_count": null,
   "id": "74fafc1b-060e-475c-8d9d-a9e364439843",
   "metadata": {},
   "outputs": [],
   "source": []
  },
  {
   "cell_type": "code",
   "execution_count": 16,
   "id": "c13a016f-79bd-4185-a35a-3ec9d4c82a41",
   "metadata": {},
   "outputs": [],
   "source": [
    "squares = np.around(\n",
    "    shapely.get_coordinates(tessellation.representative_point()), decimals=-3\n",
    ")"
   ]
  },
  {
   "cell_type": "code",
   "execution_count": 17,
   "id": "d320eba7-3f4e-4537-805e-b574e476b4f3",
   "metadata": {},
   "outputs": [],
   "source": [
    "building_vals = pd.Series(0, index=tessellation.index)\n",
    "building_vals.loc[buildings.index.values] = 1"
   ]
  },
  {
   "cell_type": "code",
   "execution_count": null,
   "id": "a323a8a4-463b-4671-817c-67ea96af9224",
   "metadata": {},
   "outputs": [],
   "source": []
  },
  {
   "cell_type": "code",
   "execution_count": 18,
   "id": "d12ac5c1-4fe2-409d-a9d3-77a49c972f08",
   "metadata": {},
   "outputs": [],
   "source": [
    "r = building_vals.groupby([squares[:, 0], squares[:, 1]]).sum().reset_index()\n",
    "r.columns = [\"x\", \"y\", \"vals\"]\n",
    "r = gpd.GeoDataFrame(\n",
    "    {\"geometry\": gpd.points_from_xy(r[\"x\"], r[\"y\"]), \"vals\": r[\"vals\"]},\n",
    "    crs=tessellation.crs,\n",
    ")\n",
    "r[\"geometry\"] = r.buffer(500, cap_style=3)"
   ]
  },
  {
   "cell_type": "code",
   "execution_count": 20,
   "id": "401e81ce-4f26-4671-9f5d-582bc7b87154",
   "metadata": {},
   "outputs": [],
   "source": [
    "# r.explore(column='vals', opacity=.1)"
   ]
  },
  {
   "cell_type": "code",
   "execution_count": null,
   "id": "d8b07651-803e-4c43-9622-d152d28d0b4a",
   "metadata": {},
   "outputs": [],
   "source": []
  },
  {
   "cell_type": "code",
   "execution_count": null,
   "id": "684a8bb9-ba4a-4d6a-baa5-f1b94bc17e4c",
   "metadata": {},
   "outputs": [],
   "source": [
    "### bubenec is all negative - no buildings..."
   ]
  },
  {
   "cell_type": "code",
   "execution_count": 161,
   "id": "911655e8-a076-41eb-8ca2-90fe8cef0dc9",
   "metadata": {},
   "outputs": [
    {
     "name": "stdout",
     "output_type": "stream",
     "text": [
      "CPU times: user 26.8 s, sys: 1.55 ms, total: 26.8 s\n",
      "Wall time: 26.9 s\n"
     ]
    }
   ],
   "source": [
    "%%time\n",
    "r = tessellation.dissolve(tessellation.index > 0)"
   ]
  },
  {
   "cell_type": "code",
   "execution_count": 164,
   "id": "e8429a42-7b0f-4322-ad53-433b1cdecf3b",
   "metadata": {},
   "outputs": [],
   "source": [
    "# r.explore(column=r.index.values.astype(int), categorial=True, prefer_canvas=True)"
   ]
  },
  {
   "cell_type": "code",
   "execution_count": null,
   "id": "c6318aa9-112b-42f1-a235-2ba7b1206a23",
   "metadata": {},
   "outputs": [],
   "source": []
  },
  {
   "cell_type": "code",
   "execution_count": null,
   "id": "43132e63-6de1-40f5-ad6c-dc9ac02f48d4",
   "metadata": {},
   "outputs": [],
   "source": []
  },
  {
   "cell_type": "code",
   "execution_count": null,
   "id": "d07f3d2b-30c0-49cf-b354-a35e73fd994c",
   "metadata": {},
   "outputs": [],
   "source": []
  },
  {
   "cell_type": "code",
   "execution_count": 328,
   "id": "c1172c12-79c8-47af-868b-f977de842762",
   "metadata": {},
   "outputs": [],
   "source": [
    "test_file_path = mm.datasets.get_path(\"bubenec\")\n",
    "df_tessellation = gpd.read_file(test_file_path, layer=\"tessellation\")\n",
    "buffer_pol = df_tessellation.dissolve().buffer(2000).to_crs(buildings.crs)"
   ]
  },
  {
   "cell_type": "code",
   "execution_count": null,
   "id": "969be82f-ee37-4d38-990a-fce2d059e670",
   "metadata": {},
   "outputs": [],
   "source": []
  },
  {
   "cell_type": "code",
   "execution_count": 329,
   "id": "e37eb15f-2ea9-4d51-b616-21e31b75a041",
   "metadata": {},
   "outputs": [],
   "source": [
    "_, ints = buildings.geometry.sindex.query(buffer_pol, predicate=\"intersects\")"
   ]
  },
  {
   "cell_type": "code",
   "execution_count": 330,
   "id": "1902140a-a4a3-4a6a-a4f8-eeac58bc4153",
   "metadata": {},
   "outputs": [
    {
     "data": {
      "text/plain": [
       "(551,)"
      ]
     },
     "execution_count": 330,
     "metadata": {},
     "output_type": "execute_result"
    }
   ],
   "source": [
    "ints.shape"
   ]
  },
  {
   "cell_type": "code",
   "execution_count": 331,
   "id": "7293e39a-3d93-4401-8ad0-ecd2434dff42",
   "metadata": {},
   "outputs": [],
   "source": [
    "# m = buffer_pol.explore()\n",
    "# m = buildings.iloc[ints].explore(color='green', m=m)\n",
    "# m"
   ]
  },
  {
   "cell_type": "code",
   "execution_count": 332,
   "id": "f074bb43-7b53-40a0-9dff-dc8d73a4c49e",
   "metadata": {},
   "outputs": [],
   "source": [
    "building_region_mapping = pd.read_parquet(\n",
    "    regions_datadir + \"regions/\" + \"id_to_region.parquet\", engine=\"pyarrow\"\n",
    ")\n",
    "typed_dict = pd.Series(\n",
    "    np.arange(building_region_mapping[\"id\"].values.shape[0]),\n",
    "    index=building_region_mapping[\"id\"].values,\n",
    ")\n",
    "region_ids = building_region_mapping.groupby(\"region\")[\"id\"].unique()\n",
    "del building_region_mapping  # its 2/3 gb\n",
    "region_hulls = gpd.read_parquet(regions_datadir + \"regions/\" + \"regions_hull.parquet\")"
   ]
  },
  {
   "cell_type": "code",
   "execution_count": null,
   "id": "861efc79-1760-4c23-9e46-fca89611e3ed",
   "metadata": {},
   "outputs": [],
   "source": []
  },
  {
   "cell_type": "code",
   "execution_count": 333,
   "id": "4cbc0e34-7607-485c-a564-2dfe073ef80f",
   "metadata": {},
   "outputs": [
    {
     "ename": "TypeError",
     "evalue": "'Polygon' object is not subscriptable",
     "output_type": "error",
     "traceback": [
      "\u001b[0;31m---------------------------------------------------------------------------\u001b[0m",
      "\u001b[0;31mTypeError\u001b[0m                                 Traceback (most recent call last)",
      "Cell \u001b[0;32mIn[333], line 2\u001b[0m\n\u001b[1;32m      1\u001b[0m \u001b[38;5;28;01mfrom\u001b[39;00m \u001b[38;5;21;01mgenerate_buildings\u001b[39;00m \u001b[38;5;28;01mimport\u001b[39;00m read_region_buildings\n\u001b[0;32m----> 2\u001b[0m region_hull \u001b[38;5;241m=\u001b[39m \u001b[43mregion_hull\u001b[49m\u001b[43m[\u001b[49m\u001b[38;5;124;43m'\u001b[39;49m\u001b[38;5;124;43mconvex_hull\u001b[39;49m\u001b[38;5;124;43m'\u001b[39;49m\u001b[43m]\u001b[49m\n\u001b[1;32m      3\u001b[0m unprocessed_buildings \u001b[38;5;241m=\u001b[39m read_region_buildings(typed_dict, region_ids, region_hull, region_id)\n",
      "\u001b[0;31mTypeError\u001b[0m: 'Polygon' object is not subscriptable"
     ]
    }
   ],
   "source": [
    "from generate_buildings import read_region_buildings\n",
    "\n",
    "region_hull = region_hull[\"convex_hull\"]\n",
    "unprocessed_buildings = read_region_buildings(\n",
    "    typed_dict, region_ids, region_hull, region_id\n",
    ")"
   ]
  },
  {
   "cell_type": "code",
   "execution_count": null,
   "id": "e2682e99-4964-4600-8913-fe07c2f423db",
   "metadata": {},
   "outputs": [],
   "source": []
  },
  {
   "cell_type": "code",
   "execution_count": null,
   "id": "115c9dda-e416-48ce-be3f-8616d656f37b",
   "metadata": {},
   "outputs": [],
   "source": []
  },
  {
   "cell_type": "code",
   "execution_count": 334,
   "id": "654986a6-47e6-4476-bc9b-b13bfad76739",
   "metadata": {},
   "outputs": [],
   "source": [
    "_, ints = unprocessed_buildings.geometry.sindex.query(\n",
    "    buffer_pol, predicate=\"intersects\"\n",
    ")"
   ]
  },
  {
   "cell_type": "code",
   "execution_count": 335,
   "id": "e33d8a5f-de91-473b-b41a-363e54bee1ef",
   "metadata": {},
   "outputs": [
    {
     "data": {
      "text/plain": [
       "(916,)"
      ]
     },
     "execution_count": 335,
     "metadata": {},
     "output_type": "execute_result"
    }
   ],
   "source": [
    "ints.shape"
   ]
  },
  {
   "cell_type": "code",
   "execution_count": 337,
   "id": "5171dd73-0fa7-4df2-93d6-5f446ea341f6",
   "metadata": {},
   "outputs": [],
   "source": [
    "# m = buffer_pol.explore()\n",
    "# m = unprocessed_buildings.iloc[ints].explore(color='green', m=m)\n",
    "# m"
   ]
  },
  {
   "cell_type": "code",
   "execution_count": null,
   "id": "02efc2ed-bfe6-4018-aa58-6b98d27a4aa6",
   "metadata": {},
   "outputs": [],
   "source": []
  },
  {
   "cell_type": "code",
   "execution_count": null,
   "id": "a9fd0946-1562-42a0-9039-96f3d6e4bca0",
   "metadata": {},
   "outputs": [],
   "source": []
  },
  {
   "cell_type": "code",
   "execution_count": null,
   "id": "32026df5-66fa-498d-b50a-ec0bcbce81bd",
   "metadata": {},
   "outputs": [],
   "source": []
  },
  {
   "cell_type": "code",
   "execution_count": null,
   "id": "c5443843-a66a-4b71-a435-8f8dd88c83ee",
   "metadata": {},
   "outputs": [],
   "source": []
  },
  {
   "cell_type": "code",
   "execution_count": 2,
   "id": "3dacb31d-7d31-41e9-b543-b22c5a0d94e1",
   "metadata": {},
   "outputs": [],
   "source": [
    "building_units = {\n",
    "    \"sdbAre\": \"area\",  # higher-larger building\n",
    "    \"sdbPer\": \"metres\",  # higher - larger building\n",
    "    \"sdbCoA\": \"area\",  # higher - larger holes in the polygon\n",
    "    \"ssbCCo\": \"ratio\",  # higher - more like a circle\n",
    "    \"ssbCor\": \"count\",  # higher - more corners\n",
    "    \"ssbSqu\": \"degrees\",  # difference from min. square - lower - more squarelike\n",
    "    \"ssbERI\": \"ratio\",  # higher - more rectangular\n",
    "    \"ssbElo\": \"ratio\",  # higher - more elongated\n",
    "    \"ssbCCM\": \"metres\",  # higher - less square-like and larger building\n",
    "    \"ssbCCD\": \"ratio\",  # higher - less square-like\n",
    "    \"stbOri\": \"degrees\",  # lower value- more, proper gridlike\n",
    "    \"mtbSWR\": \"ratio\",  # higher - more shared walls\n",
    "    \"libNCo\": \"count-neighbourhood\",  # higher more courtyards\n",
    "    \"ldbPWL\": \"metres-neighbourhood\",  # higher more touching buildings\n",
    "    \"ltcBuA\": \"ratio-neigbhourhood\",  # lower more clustered\n",
    "    \"mtbAli\": \"degrees\",  # lower -> more gridlike\n",
    "    \"mtbNDi\": \"metres-neighbourhood\",  # higher - closest building are futher apart\n",
    "    \"ltbIBD\": \"metres-neighbourhood\",  # higher - neighbourhood buildings are futher apart,\n",
    "    \"stbCeA\": \"degrees\",  # lower the more the teselation resembles the building,\n",
    "    \"stbSAl\": \"degrees\",  # lower the more the building resembles the street, ,\n",
    "}\n",
    "\n",
    "street_units = {\n",
    "    \"sdsLen\": \"metres\",\n",
    "    \"sssLin\": \"ratio\",  # higher - more linear, most are linear...\n",
    "    \"ldsMSL\": \"metres-neighbourhood\",  ## higher - in larger network\n",
    "    \"ldsRea\": \"count-neighbourhood\",  ## higher - more tess cells(denser area)\n",
    "    \"ldsAre\": \"area-neigbourhood\",  ## higher - denser area\n",
    "    \"sisBpM\": \"ratio\",  ## higher - more buildings, denser are\n",
    "    \"sdsSPW\": \"metres\",  ## street width, higher - wider, has a fixed max - 50\n",
    "    \"sdsSPO\": \"ratio\",  ## higher - less buildings on the street\n",
    "    \"sdsSWD\": \"ratio\",  ## higher  - higher - street changes width more\n",
    "}\n",
    "\n",
    "nodes_units = {\n",
    "    \"mtdDeg\": \"count\",  ## higher - more streets go through the point\n",
    "    \"lcdMes\": \"ratio\",  ## higher - more neigbhourhood connections\n",
    "    \"linP3W\": \"ratio\",  ## higher - more 3ways\n",
    "    \"linP4W\": \"ratio\",  ## higher - more 4ways\n",
    "    \"linPDE\": \"ratio\",  ## higher - more deadends\n",
    "    \"lcnClo\": \"ratio\",  ## higher - nodes are closer together\n",
    "    \"lddNDe\": \"ratio\",  ##higher - more nodes or shorter paths\n",
    "    \"linWID\": \"ratio\",  ##higher - more node degrees or shorter paths\n",
    "    \"ldsCDL\": \"metres\",  ##higher - more or longer culdesacs\n",
    "    \"xcnSCl\": \"ratio\",  ##higher - more gridlike connections around node\n",
    "    \"mtdMDi\": \"metres\",  ## higher - node further apart from dense areas, or less neighbours...\n",
    "    \"sddAre\": \"area\",  ## higher - more or larger attached tess cells\n",
    "    \"midRea\": \"count\",  ## higher - denser area with more tess cells\n",
    "    \"midAre\": \"area\",  ## higher - node in denser area or more tess cells.\n",
    "}\n",
    "\n",
    "\n",
    "enclosure_units = {\n",
    "    \"ldkAre\": \"area\",\n",
    "    \"ldkPer\": \"metres\",\n",
    "    \"lskCCo\": \"count\",\n",
    "    \"lskERI\": \"ratio\",  # higher = more rectangular\n",
    "    \"lskCWA\": \"metres\",  # higher more compact or larger\n",
    "    \"ltkOri\": \"degrees\",  # \\\\more left leaning ?\n",
    "    \"ltkWNB\": \"ratio\",\n",
    "    \"likWBB\": \"ratio\",\n",
    "}\n",
    "\n",
    "\n",
    "tess_units = {\n",
    "    \"stcOri\": \"degrees\",  # higher more off-cardinal axis the polygon is\n",
    "    \"sdcLAL\": \"metres\",  ## higher larger or more elongated ETC\n",
    "    \"sdcAre\": \"area\",\n",
    "    \"sscCCo\": \"ratio\",  # higher - more circular\n",
    "    \"sscERI\": \"ratio\",  # higher - more rectangular\n",
    "    \"mtcWNe\": \"ratio\",  # higher - more neighbours or smaller neigbhourhood area\n",
    "    \"mdcAre\": \"area\",  # sum of tess areas in neighbourhood\n",
    "    \"ltcWRB\": \"count\",  # higher - more unique enclosures around cell\n",
    "    \"sicCAR\": \"ratio\",  # higher - building area more similar to tess area -> typically more tess in neighbourhood\n",
    "    \"stcSAl\": \"degrees\",  # higher - follows street more\n",
    "}"
   ]
  },
  {
   "cell_type": "code",
   "execution_count": 3,
   "id": "628e2566-e80e-47a9-b64d-8bbdbddf2509",
   "metadata": {},
   "outputs": [],
   "source": [
    "char_units = {\n",
    "    **building_units,\n",
    "    **street_units,\n",
    "    **nodes_units,\n",
    "    **tess_units,\n",
    "    **enclosure_units,\n",
    "}"
   ]
  },
  {
   "cell_type": "code",
   "execution_count": 4,
   "id": "4f523e4f-71c1-47a6-bcc3-913a367dfc7d",
   "metadata": {},
   "outputs": [
    {
     "data": {
      "text/plain": [
       "{'sdbAre': 'area',\n",
       " 'sdbPer': 'metres',\n",
       " 'sdbCoA': 'area',\n",
       " 'ssbCCo': 'ratio',\n",
       " 'ssbCor': 'count',\n",
       " 'ssbSqu': 'degrees',\n",
       " 'ssbERI': 'ratio',\n",
       " 'ssbElo': 'ratio',\n",
       " 'ssbCCM': 'metres',\n",
       " 'ssbCCD': 'ratio',\n",
       " 'stbOri': 'degrees',\n",
       " 'mtbSWR': 'ratio',\n",
       " 'libNCo': 'count-neighbourhood',\n",
       " 'ldbPWL': 'metres-neighbourhood',\n",
       " 'ltcBuA': 'ratio-neigbhourhood',\n",
       " 'mtbAli': 'degrees',\n",
       " 'mtbNDi': 'metres-neighbourhood',\n",
       " 'ltbIBD': 'metres-neighbourhood',\n",
       " 'stbCeA': 'degrees',\n",
       " 'stbSAl': 'degrees',\n",
       " 'sdsLen': 'metres',\n",
       " 'sssLin': 'ratio',\n",
       " 'ldsMSL': 'metres-neighbourhood',\n",
       " 'ldsRea': 'count-neighbourhood',\n",
       " 'ldsAre': 'area-neigbourhood',\n",
       " 'sisBpM': 'ratio',\n",
       " 'sdsSPW': 'metres',\n",
       " 'sdsSPO': 'ratio',\n",
       " 'sdsSWD': 'ratio',\n",
       " 'mtdDeg': 'count',\n",
       " 'lcdMes': 'ratio',\n",
       " 'linP3W': 'ratio',\n",
       " 'linP4W': 'ratio',\n",
       " 'linPDE': 'ratio',\n",
       " 'lcnClo': 'ratio',\n",
       " 'lddNDe': 'ratio',\n",
       " 'linWID': 'ratio',\n",
       " 'ldsCDL': 'metres',\n",
       " 'xcnSCl': 'ratio',\n",
       " 'mtdMDi': 'metres',\n",
       " 'sddAre': 'area',\n",
       " 'midRea': 'count',\n",
       " 'midAre': 'area',\n",
       " 'stcOri': 'degrees',\n",
       " 'sdcLAL': 'metres',\n",
       " 'sdcAre': 'area',\n",
       " 'sscCCo': 'ratio',\n",
       " 'sscERI': 'ratio',\n",
       " 'mtcWNe': 'ratio',\n",
       " 'mdcAre': 'area',\n",
       " 'ltcWRB': 'count',\n",
       " 'sicCAR': 'ratio',\n",
       " 'stcSAl': 'degrees',\n",
       " 'ldkAre': 'area',\n",
       " 'ldkPer': 'metres',\n",
       " 'lskCCo': 'count',\n",
       " 'lskERI': 'ratio',\n",
       " 'lskCWA': 'metres',\n",
       " 'ltkOri': 'degrees',\n",
       " 'ltkWNB': 'ratio',\n",
       " 'likWBB': 'ratio'}"
      ]
     },
     "execution_count": 4,
     "metadata": {},
     "output_type": "execute_result"
    }
   ],
   "source": [
    "char_units"
   ]
  },
  {
   "cell_type": "code",
   "execution_count": 73,
   "id": "83d696ac-223e-4be2-89eb-6eb0e52ab325",
   "metadata": {},
   "outputs": [],
   "source": [
    "import numpy as np\n",
    "import pandas as pd"
   ]
  },
  {
   "cell_type": "code",
   "execution_count": 74,
   "id": "b40a2fc4-fdc7-4857-b5b2-20772f9c4756",
   "metadata": {},
   "outputs": [
    {
     "data": {
      "text/plain": [
       "array(['area', 'area-neigbourhood', 'count', 'count-neighbourhood',\n",
       "       'degrees', 'metres', 'metres-neighbourhood', 'ratio',\n",
       "       'ratio-neigbhourhood'], dtype='<U20')"
      ]
     },
     "execution_count": 74,
     "metadata": {},
     "output_type": "execute_result"
    }
   ],
   "source": [
    "np.unique(list(char_units.values()))"
   ]
  },
  {
   "cell_type": "code",
   "execution_count": 75,
   "id": "2089b390-7ee3-4de8-ada7-0a684b339927",
   "metadata": {},
   "outputs": [],
   "source": [
    "char_units = pd.Series(char_units)"
   ]
  },
  {
   "cell_type": "code",
   "execution_count": null,
   "id": "8dce1ba0-429c-4c15-82ac-f9e22b2f6a9f",
   "metadata": {},
   "outputs": [],
   "source": []
  },
  {
   "cell_type": "code",
   "execution_count": 76,
   "id": "b45b34a8-72c2-411f-a0f3-0ee23ab94e99",
   "metadata": {},
   "outputs": [
    {
     "data": {
      "text/plain": [
       "area                     7\n",
       "area-neigbourhood        1\n",
       "count                    5\n",
       "count-neighbourhood      2\n",
       "degrees                  8\n",
       "metres                   9\n",
       "metres-neighbourhood     4\n",
       "ratio                   24\n",
       "ratio-neigbhourhood      1\n",
       "dtype: int64"
      ]
     },
     "execution_count": 76,
     "metadata": {},
     "output_type": "execute_result"
    }
   ],
   "source": [
    "char_units.groupby(char_units).count()"
   ]
  },
  {
   "cell_type": "code",
   "execution_count": 77,
   "id": "9e260fc2-ff49-4021-af98-8d6a30769279",
   "metadata": {},
   "outputs": [
    {
     "data": {
      "text/plain": [
       "area        8\n",
       "count       7\n",
       "degrees     8\n",
       "metres     13\n",
       "ratio      25\n",
       "dtype: int64"
      ]
     },
     "execution_count": 77,
     "metadata": {},
     "output_type": "execute_result"
    }
   ],
   "source": [
    "agg_chars = char_units.str.split(\"-\").str[0]\n",
    "agg_chars.groupby(agg_chars).size()"
   ]
  },
  {
   "cell_type": "code",
   "execution_count": 87,
   "id": "7b8ee0e2-85bf-4419-b9d4-32b0034c6a90",
   "metadata": {},
   "outputs": [
    {
     "data": {
      "text/plain": [
       "array(['sdbAre', 'sdbCoA', 'ldsAre', 'sddAre', 'midAre', 'sdcAre',\n",
       "       'mdcAre', 'ldkAre'], dtype=object)"
      ]
     },
     "execution_count": 87,
     "metadata": {},
     "output_type": "execute_result"
    }
   ],
   "source": [
    "agg_chars[agg_chars == \"area\"].index.values"
   ]
  },
  {
   "cell_type": "code",
   "execution_count": null,
   "id": "fc77acaa-fc09-4812-a918-17ee1892bb00",
   "metadata": {},
   "outputs": [],
   "source": []
  },
  {
   "cell_type": "code",
   "execution_count": null,
   "id": "bff85e09-aacf-4c0e-9c88-8eed6528dc8a",
   "metadata": {},
   "outputs": [],
   "source": []
  },
  {
   "cell_type": "code",
   "execution_count": null,
   "id": "81ba9719-1d36-4ce2-8e6c-fa84b956225f",
   "metadata": {},
   "outputs": [],
   "source": []
  },
  {
   "cell_type": "code",
   "execution_count": 88,
   "id": "d29c81a2-e164-48f4-a98a-4976e9ae8027",
   "metadata": {},
   "outputs": [
    {
     "data": {
      "text/plain": [
       "{'sdbAre': 'area of building',\n",
       " 'sdbPer': 'perimeter of building',\n",
       " 'sdbCoA': 'courtyard area of building',\n",
       " 'ssbCCo': 'circular compactness of building',\n",
       " 'ssbCor': 'corners of building',\n",
       " 'ssbSqu': 'squareness of building',\n",
       " 'ssbERI': 'equivalent rectangular index of building',\n",
       " 'ssbElo': 'elongation of building',\n",
       " 'ssbCCM': 'centroid - corner mean distance of building',\n",
       " 'ssbCCD': 'centroid - corner distance deviation of building',\n",
       " 'stbOri': 'orientation of building',\n",
       " 'mtbSWR': 'shared walls ratio of buildings',\n",
       " 'libNCo': 'number of courtyards within adjacent buildings',\n",
       " 'ldbPWL': 'perimeter wall length of adjacent buildings',\n",
       " 'ltcBuA': 'level of building adjacency',\n",
       " 'mtbAli': 'alignment of neighbouring buildings',\n",
       " 'mtbNDi': 'mean distance between neighbouring buildings',\n",
       " 'ltbIBD': 'mean inter-building distance',\n",
       " 'stbCeA': 'cell alignment of building',\n",
       " 'stbSAl': 'street alignment of building',\n",
       " 'sdsLen': 'length of street segment',\n",
       " 'sssLin': 'linearity of street segment',\n",
       " 'ldsMSL': 'mean segment length within 3 steps',\n",
       " 'ldsRea': 'reached ETCs by local street network',\n",
       " 'ldsAre': 'reached total ETC area by local street network',\n",
       " 'sisBpM': 'buildings per meter of street segment',\n",
       " 'sdsSPW': 'width of street profile',\n",
       " 'sdsSPO': 'openness of street profile',\n",
       " 'sdsSWD': 'width deviation of street profile',\n",
       " 'mtdDeg': 'node degree of junction',\n",
       " 'lcdMes': 'local meshedness of street network',\n",
       " 'linP3W': 'local proportion of 3-way intersections of street network',\n",
       " 'linP4W': 'local proportion of 4-way intersections of street network',\n",
       " 'linPDE': 'local proportion of cul-de-sacs of street network',\n",
       " 'lcnClo': 'local closeness of street network',\n",
       " 'lddNDe': 'local node density of street network',\n",
       " 'linWID': 'local degree weighted node density of street network',\n",
       " 'ldsCDL': 'local cul-de-sac length of street network',\n",
       " 'xcnSCl': 'square clustering of street network',\n",
       " 'mtdMDi': 'mean distance to neighbouring nodes of street network',\n",
       " 'sddAre': 'area covered by node-attached ETCs',\n",
       " 'midRea': 'number of tess cells in node neigbhorhood',\n",
       " 'midAre': 'total area of tess cells in node neigbhorhood',\n",
       " 'stcOri': 'orientation of ETC',\n",
       " 'sdcLAL': 'longest axis length of ETC',\n",
       " 'sdcAre': 'area of ETC',\n",
       " 'sscCCo': 'circular compactness of ETC',\n",
       " 'sscERI': 'equivalent rectangular index of ETC',\n",
       " 'mtcWNe': 'perimeter-weighted neighbours of ETC',\n",
       " 'mdcAre': 'area covered by neighbouring cells',\n",
       " 'ltcWRB': 'number of unique enclosures in ETC neigbhourhood',\n",
       " 'sicCAR': 'covered area ratio of ETC',\n",
       " 'stcSAl': 'street alignment of ETC',\n",
       " 'ldkAre': 'area of enclosure',\n",
       " 'ldkPer': 'perimeter of enclosure',\n",
       " 'lskCCo': 'circular compactness of enclosure',\n",
       " 'lskERI': 'equivalent rectangular index of enclosure',\n",
       " 'lskCWA': 'compactness-weighted axis of enclosure',\n",
       " 'ltkOri': 'orientation of enclosure',\n",
       " 'ltkWNB': 'perimeter-weighted neighbours of enclosure',\n",
       " 'likWBB': 'total of building areas within the enclosure, normalised by enclosure area'}"
      ]
     },
     "execution_count": 88,
     "metadata": {},
     "output_type": "execute_result"
    }
   ],
   "source": [
    "used = {c: char_names[c] for c in char_units.index}\n",
    "used"
   ]
  },
  {
   "cell_type": "code",
   "execution_count": null,
   "id": "d74b6a35-eec9-44b1-a253-77648d46155d",
   "metadata": {},
   "outputs": [],
   "source": []
  },
  {
   "cell_type": "code",
   "execution_count": null,
   "id": "aec13d3d-f4a3-4d53-af69-595e712e3e98",
   "metadata": {},
   "outputs": [],
   "source": []
  },
  {
   "cell_type": "code",
   "execution_count": null,
   "id": "0d6944c6-fbe9-4ba8-b37d-e2db892e3505",
   "metadata": {},
   "outputs": [],
   "source": []
  },
  {
   "cell_type": "code",
   "execution_count": null,
   "id": "24e7edc9-d3fe-4456-a861-8e67ba640d83",
   "metadata": {},
   "outputs": [],
   "source": []
  }
 ],
 "metadata": {
  "kernelspec": {
   "display_name": "Python 3 (ipykernel)",
   "language": "python",
   "name": "python3"
  },
  "language_info": {
   "codemirror_mode": {
    "name": "ipython",
    "version": 3
   },
   "file_extension": ".py",
   "mimetype": "text/x-python",
   "name": "python",
   "nbconvert_exporter": "python",
   "pygments_lexer": "ipython3",
   "version": "3.12.3"
  }
 },
 "nbformat": 4,
 "nbformat_minor": 5
}
