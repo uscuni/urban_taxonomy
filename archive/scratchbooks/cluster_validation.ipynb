{
 "cells": [
  {
   "cell_type": "code",
   "execution_count": 6,
   "id": "8c45b931-29e2-4be7-ae70-df1144a5ca1d",
   "metadata": {},
   "outputs": [],
   "source": [
    "import glob\n",
    "\n",
    "import geopandas as gpd\n",
    "import matplotlib.pyplot as plt\n",
    "import numpy as np\n",
    "import pandas as pd\n",
    "\n",
    "regions_datadir = \"/data/uscuni-ulce/\"\n",
    "data_dir = \"/data/uscuni-ulce/processed_data/\"\n",
    "eubucco_files = glob.glob(regions_datadir + \"eubucco_raw/*\")\n",
    "graph_dir = data_dir + \"neigh_graphs/\"\n",
    "chars_dir = \"/data/uscuni-ulce/processed_data/chars/\""
   ]
  },
  {
   "cell_type": "code",
   "execution_count": null,
   "id": "e4026937-c738-40ab-a20f-646e851a6cfc",
   "metadata": {},
   "outputs": [],
   "source": []
  },
  {
   "cell_type": "code",
   "execution_count": null,
   "id": "811c0ffa-da14-4cce-8344-69565253f70a",
   "metadata": {},
   "outputs": [],
   "source": []
  },
  {
   "cell_type": "code",
   "execution_count": null,
   "id": "5522d8ed-c654-439e-b5c1-65752a6035e6",
   "metadata": {},
   "outputs": [],
   "source": []
  },
  {
   "cell_type": "code",
   "execution_count": 63,
   "id": "2af2f4d7-f9a2-4d40-bf16-b8e900f599c4",
   "metadata": {},
   "outputs": [],
   "source": [
    "focus_areas = {\n",
    "    3103: \"karlin\",\n",
    "    13295: \"vinohrady\",\n",
    "    909: \"mala strani\",\n",
    "    4429: \"holyne\",\n",
    "    4406: \"housing estate\",\n",
    "    2265: \"stare mesto\",\n",
    "    1544: \"nusle\",\n",
    "    18215: \"malesice\",\n",
    "}\n",
    "\n",
    "\n",
    "def generate_enc_groups(\n",
    "    tessellation, enclosures, include_random_sample=False, random_sample_size=1000\n",
    "):\n",
    "    buffers = enclosures.loc[list(focus_areas.keys())].buffer(500)\n",
    "    group_dict = pd.Series(focus_areas).reset_index(drop=True).to_dict()\n",
    "    areas, tids = tessellation.sindex.query(buffers, predicate=\"intersects\")\n",
    "    tess_groups = pd.Series(areas, index=tessellation.index[tids]).replace(group_dict)\n",
    "\n",
    "    if include_random_sample:\n",
    "        random_sample_index = (\n",
    "            tessellation[~tessellation.index.isin(tess_groups_ilocs)]\n",
    "            .sample(random_sample_size, random_state=1)\n",
    "            .index\n",
    "        )\n",
    "        random_sample = pd.Series(\"random\", index=random_sample_index)\n",
    "        tess_groups = pd.concat((tess_groups, random_sample))\n",
    "\n",
    "    return tess_groups[tess_groups.index.drop_duplicates()]\n",
    "\n",
    "\n",
    "def get_tess_groups_original_ilocs(tessellation, tess_groups):\n",
    "    return (\n",
    "        pd.Series(np.arange(0, len(tessellation)), index=tessellation.index)\n",
    "        .loc[tess_groups.index]\n",
    "        .values\n",
    "    )"
   ]
  },
  {
   "cell_type": "code",
   "execution_count": 64,
   "id": "ebb3aa8b-2337-4070-a455-ed5a4f98ad5d",
   "metadata": {},
   "outputs": [],
   "source": [
    "def print_dendro(tess_groups, X_train):\n",
    "    groups = tess_groups.groupby(tess_groups).apply(\n",
    "        lambda group: X_train.loc[group.index.values].mean()\n",
    "    )\n",
    "    groups = groups.to_frame().unstack(level=1)\n",
    "    clusterer = AgglomerativeClustering(\n",
    "        linkage=\"single\", compute_full_tree=True, compute_distances=True\n",
    "    )\n",
    "\n",
    "    group_model = clusterer.fit(groups)\n",
    "    lm = get_linkage_matrix(group_model)\n",
    "    fix, ax = plt.subplots(figsize=(10, 10))\n",
    "    # # Plot the corresponding dendrogram\n",
    "    r = dendrogram(lm, ax=ax, labels=groups.index.values)\n",
    "    return r"
   ]
  },
  {
   "cell_type": "code",
   "execution_count": null,
   "id": "261f7b42-6394-4557-b9f4-9217f43584d6",
   "metadata": {},
   "outputs": [],
   "source": []
  },
  {
   "cell_type": "code",
   "execution_count": 65,
   "id": "197e472a-f3cc-4a3a-85bb-d93487c431d4",
   "metadata": {},
   "outputs": [],
   "source": [
    "region_id = 69300"
   ]
  },
  {
   "cell_type": "code",
   "execution_count": 66,
   "id": "ae11eb7a-f0f8-496a-aa9e-cb785da015bc",
   "metadata": {},
   "outputs": [],
   "source": [
    "tessellation = gpd.read_parquet(chars_dir + f\"tessellations/chars_{region_id}.parquet\")\n",
    "enclosures = gpd.read_parquet(chars_dir + f\"enclosures/chars_{region_id}.parquet\")"
   ]
  },
  {
   "cell_type": "code",
   "execution_count": 67,
   "id": "530ae222-7ddd-4ded-a9e0-9e5fc63a54b4",
   "metadata": {},
   "outputs": [],
   "source": [
    "tess_groups = generate_enc_groups(tessellation, enclosures, include_random_sample=True)\n",
    "tess_groups_ilocs = get_tess_groups_original_ilocs(tessellation, tess_groups)"
   ]
  },
  {
   "cell_type": "code",
   "execution_count": 68,
   "id": "48dc272b-47c2-4a3d-a18d-0f2490095173",
   "metadata": {},
   "outputs": [],
   "source": []
  },
  {
   "cell_type": "code",
   "execution_count": null,
   "id": "4ecb9cf9-0d39-4078-8450-c0184033ca71",
   "metadata": {},
   "outputs": [],
   "source": []
  },
  {
   "cell_type": "code",
   "execution_count": null,
   "id": "91e5b8b9-ff38-48cf-96cd-c564e2253717",
   "metadata": {},
   "outputs": [],
   "source": []
  },
  {
   "cell_type": "code",
   "execution_count": 69,
   "id": "71d7cbf1-6052-4e15-8346-7447e30429a8",
   "metadata": {},
   "outputs": [],
   "source": [
    "plotting = gpd.GeoDataFrame(\n",
    "    tess_groups.to_frame(), geometry=tessellation.iloc[tess_groups_ilocs].geometry\n",
    ")\n",
    "plotting.columns = [\"neighbourhood\", \"geometry\"]\n",
    "plotting.explore(column=\"neighbourhood\", categorical=True)"
   ]
  },
  {
   "cell_type": "code",
   "execution_count": 70,
   "id": "26e6c2c1-76c3-4ae4-9a95-b6fea4d67c08",
   "metadata": {},
   "outputs": [],
   "source": []
  },
  {
   "cell_type": "code",
   "execution_count": null,
   "id": "c5b4a489-d785-4b42-86f6-321731df3610",
   "metadata": {},
   "outputs": [],
   "source": []
  },
  {
   "cell_type": "code",
   "execution_count": null,
   "id": "fb9e74f1-87b0-4641-aff5-2d484dba8047",
   "metadata": {},
   "outputs": [],
   "source": []
  }
 ],
 "metadata": {
  "kernelspec": {
   "display_name": "Python 3 (ipykernel)",
   "language": "python",
   "name": "python3"
  },
  "language_info": {
   "codemirror_mode": {
    "name": "ipython",
    "version": 3
   },
   "file_extension": ".py",
   "mimetype": "text/x-python",
   "name": "python",
   "nbconvert_exporter": "python",
   "pygments_lexer": "ipython3",
   "version": "3.12.3"
  }
 },
 "nbformat": 4,
 "nbformat_minor": 5
}
