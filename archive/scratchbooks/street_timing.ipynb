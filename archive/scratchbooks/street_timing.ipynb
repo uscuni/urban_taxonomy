{
 "cells": [
  {
   "cell_type": "code",
   "execution_count": null,
   "id": "373f5069-95ee-485c-8acb-a0b46ed16fd0",
   "metadata": {},
   "outputs": [],
   "source": []
  },
  {
   "cell_type": "code",
   "execution_count": 1,
   "id": "9b207ad9-f31c-4722-a618-264917322191",
   "metadata": {},
   "outputs": [],
   "source": [
    "import glob\n",
    "\n",
    "import geopandas as gpd\n",
    "import momepy as mm\n",
    "import numpy as np\n",
    "\n",
    "regions_datadir = \"/data/uscuni-ulce/\"\n",
    "data_dir = \"/data/uscuni-ulce/processed_data/\"\n",
    "eubucco_files = glob.glob(regions_datadir + \"eubucco_raw/*\")\n",
    "graph_dir = data_dir + \"neigh_graphs/\""
   ]
  },
  {
   "cell_type": "code",
   "execution_count": 2,
   "id": "9f0cb924-e11b-427d-8b27-54a5a59acca8",
   "metadata": {},
   "outputs": [],
   "source": [
    "region_hulls = gpd.read_parquet(regions_datadir + \"regions/\" + \"regions_hull.parquet\")"
   ]
  },
  {
   "cell_type": "code",
   "execution_count": 3,
   "id": "07ab8323-e930-4ee6-a417-baf9896aeacd",
   "metadata": {},
   "outputs": [
    {
     "data": {
      "text/plain": [
       "226"
      ]
     },
     "execution_count": 3,
     "metadata": {},
     "output_type": "execute_result"
    }
   ],
   "source": [
    "# 12199 - hills, small test\n",
    "# 69300 - prague medium\n",
    "# 226 - germany somewhere, largest cluster\n",
    "# 106928 + 1 - big one in poland\n",
    "# 106928 - small test\n",
    "for region_id, region_hull in region_hulls.iterrows():\n",
    "    if region_id < 226:\n",
    "        continue\n",
    "    break\n",
    "region_id"
   ]
  },
  {
   "cell_type": "code",
   "execution_count": 6,
   "id": "637c682e-a63b-4dbd-84ab-4be914c6ab42",
   "metadata": {},
   "outputs": [
    {
     "name": "stdout",
     "output_type": "stream",
     "text": [
      "CPU times: user 8 µs, sys: 5 µs, total: 13 µs\n",
      "Wall time: 13.4 µs\n"
     ]
    },
    {
     "data": {
      "text/plain": [
       "((1313900, 2), (3642166, 3))"
      ]
     },
     "execution_count": 6,
     "metadata": {},
     "output_type": "execute_result"
    }
   ],
   "source": [
    "%%time\n",
    "df_streets = gpd.read_parquet(data_dir + f\"streets/streets_{region_id}.parquet\")\n",
    "df_buildings = gpd.read_parquet(data_dir + f\"buildings/buildings_{region_id}.parquet\")\n",
    "df_streets.shape, df_buildings.shape"
   ]
  },
  {
   "cell_type": "code",
   "execution_count": null,
   "id": "289d7b67-a8c0-4031-b994-bb11637e88c4",
   "metadata": {},
   "outputs": [],
   "source": []
  },
  {
   "cell_type": "code",
   "execution_count": null,
   "id": "557d423a-f781-4a9c-ad38-61b9f6ff02c7",
   "metadata": {},
   "outputs": [],
   "source": []
  },
  {
   "cell_type": "code",
   "execution_count": 9,
   "id": "af26c662-db6f-4fda-9ddc-8b9829781a90",
   "metadata": {},
   "outputs": [],
   "source": []
  },
  {
   "cell_type": "code",
   "execution_count": null,
   "id": "36e448ed-2e53-43f2-b9b2-d2ca546416d9",
   "metadata": {},
   "outputs": [],
   "source": [
    "%%time\n",
    "start = np.datetime64(\"now\")\n",
    "res = mm.street_profile(df_streets, df_buildings)\n",
    "end = np.datetime64(\"now\")"
   ]
  },
  {
   "cell_type": "code",
   "execution_count": 13,
   "id": "87029199-ef48-4386-bb17-ec91308588c9",
   "metadata": {},
   "outputs": [
    {
     "data": {
      "text/plain": [
       "numpy.timedelta64(409,'s')"
      ]
     },
     "execution_count": 13,
     "metadata": {},
     "output_type": "execute_result"
    }
   ],
   "source": [
    "end - start"
   ]
  },
  {
   "cell_type": "code",
   "execution_count": 15,
   "id": "5aaf3848-f896-4791-8412-f6f64c7dd6e0",
   "metadata": {},
   "outputs": [],
   "source": [
    "res10 = res.copy()"
   ]
  },
  {
   "cell_type": "code",
   "execution_count": 16,
   "id": "985ca1cf-9bc9-4fbd-b8f3-decf3d887d97",
   "metadata": {},
   "outputs": [
    {
     "name": "stdout",
     "output_type": "stream",
     "text": [
      "CPU times: user 15min 44s, sys: 7.31 s, total: 15min 51s\n",
      "Wall time: 15min 51s\n"
     ]
    }
   ],
   "source": [
    "%%time\n",
    "start = np.datetime64(\"now\")\n",
    "res = mm.street_profile(df_streets, df_buildings, distance=3)\n",
    "end = np.datetime64(\"now\")"
   ]
  },
  {
   "cell_type": "code",
   "execution_count": 17,
   "id": "fbb79234-adfe-4935-bf7c-7dfe0b140c00",
   "metadata": {},
   "outputs": [
    {
     "data": {
      "text/plain": [
       "numpy.timedelta64(952,'s')"
      ]
     },
     "execution_count": 17,
     "metadata": {},
     "output_type": "execute_result"
    }
   ],
   "source": [
    "end - start"
   ]
  },
  {
   "cell_type": "code",
   "execution_count": null,
   "id": "823ddac7-bf05-468f-826f-b5be80bef4bf",
   "metadata": {},
   "outputs": [],
   "source": []
  },
  {
   "cell_type": "code",
   "execution_count": null,
   "id": "e94c34c2-a563-4356-a34c-5d4423293aee",
   "metadata": {},
   "outputs": [],
   "source": []
  },
  {
   "cell_type": "code",
   "execution_count": 14,
   "id": "f3fc3ef1-da5b-4b5b-bc69-4b23a156706d",
   "metadata": {},
   "outputs": [
    {
     "name": "stdout",
     "output_type": "stream",
     "text": [
      "CPU times: user 29 s, sys: 915 ms, total: 29.9 s\n",
      "Wall time: 29.8 s\n"
     ]
    }
   ],
   "source": [
    "%%time\n",
    "graph = mm.gdf_to_nx(df_streets)\n",
    "graph = mm.node_degree(graph)"
   ]
  },
  {
   "cell_type": "code",
   "execution_count": 15,
   "id": "045b42ff-811a-4221-bdbb-e9f651f05151",
   "metadata": {},
   "outputs": [
    {
     "data": {
      "application/vnd.jupyter.widget-view+json": {
       "model_id": "522e8e8b763d41b6a2a707f603e7c275",
       "version_major": 2,
       "version_minor": 0
      },
      "text/plain": [
       "  0%|          | 0/1847875 [00:00<?, ?it/s]"
      ]
     },
     "metadata": {},
     "output_type": "display_data"
    },
    {
     "name": "stdout",
     "output_type": "stream",
     "text": [
      "CPU times: user 3min 57s, sys: 1.28 s, total: 3min 58s\n",
      "Wall time: 3min 57s\n"
     ]
    }
   ],
   "source": [
    "%%time\n",
    "graph = mm.subgraph(\n",
    "    graph,\n",
    "    radius=5,\n",
    "    meshedness=True,\n",
    "    cds_length=False,\n",
    "    mode=\"sum\",\n",
    "    degree=\"degree\",\n",
    "    length=\"mm_len\",\n",
    "    mean_node_degree=False,\n",
    "    proportion={0: True, 3: True, 4: True},\n",
    "    cyclomatic=False,\n",
    "    edge_node_ratio=False,\n",
    "    gamma=False,\n",
    "    local_closeness=True,\n",
    "    closeness_weight=\"mm_len\",\n",
    "    verbose=True,\n",
    ")"
   ]
  },
  {
   "cell_type": "code",
   "execution_count": 16,
   "id": "83f2b24b-8f87-4a06-9520-9de79dde0575",
   "metadata": {},
   "outputs": [
    {
     "name": "stdout",
     "output_type": "stream",
     "text": [
      "CPU times: user 2min 38s, sys: 900 ms, total: 2min 39s\n",
      "Wall time: 2min 39s\n"
     ]
    }
   ],
   "source": [
    "%%time\n",
    "graph = mm.cds_length(graph, radius=3, name=\"ldsCDL\", verbose=False)\n",
    "graph = mm.clustering(graph, name=\"xcnSCl\")\n",
    "graph = mm.mean_node_dist(graph, name=\"mtdMDi\", verbose=False)"
   ]
  },
  {
   "cell_type": "code",
   "execution_count": 17,
   "id": "c2167eca-538a-4cea-affd-942dcbd093c6",
   "metadata": {},
   "outputs": [],
   "source": [
    "nodes, edges = mm.nx_to_gdf(graph, spatial_weights=False)"
   ]
  },
  {
   "cell_type": "code",
   "execution_count": null,
   "id": "9edb0254-a89e-4a16-9c5c-8bf67d6a1583",
   "metadata": {},
   "outputs": [],
   "source": []
  },
  {
   "cell_type": "code",
   "execution_count": 18,
   "id": "bc3621ba-d151-4575-89e0-cb66c8cd75ce",
   "metadata": {},
   "outputs": [
    {
     "data": {
      "text/plain": [
       "'1.0.0-alpha1+39.ge829498'"
      ]
     },
     "execution_count": 18,
     "metadata": {},
     "output_type": "execute_result"
    }
   ],
   "source": [
    "gpd.__version__"
   ]
  },
  {
   "cell_type": "code",
   "execution_count": null,
   "id": "2f10f83b-8215-406f-8648-ef3b76096f32",
   "metadata": {},
   "outputs": [],
   "source": []
  },
  {
   "cell_type": "code",
   "execution_count": null,
   "id": "74b4f18c-7126-478f-a58d-47254a51557f",
   "metadata": {},
   "outputs": [],
   "source": []
  },
  {
   "cell_type": "code",
   "execution_count": null,
   "id": "b02d2c5b-d540-4746-9441-396a39c18cd7",
   "metadata": {},
   "outputs": [],
   "source": []
  },
  {
   "cell_type": "code",
   "execution_count": null,
   "id": "a50903ed-9dcc-410f-85db-6f2c9b20a302",
   "metadata": {},
   "outputs": [],
   "source": []
  },
  {
   "cell_type": "code",
   "execution_count": null,
   "id": "670ae317-df75-44a8-b28d-b0c7aeac5a56",
   "metadata": {},
   "outputs": [],
   "source": []
  }
 ],
 "metadata": {
  "kernelspec": {
   "display_name": "Python 3 (ipykernel)",
   "language": "python",
   "name": "python3"
  },
  "language_info": {
   "codemirror_mode": {
    "name": "ipython",
    "version": 3
   },
   "file_extension": ".py",
   "mimetype": "text/x-python",
   "name": "python",
   "nbconvert_exporter": "python",
   "pygments_lexer": "ipython3",
   "version": "3.12.3"
  }
 },
 "nbformat": 4,
 "nbformat_minor": 5
}
