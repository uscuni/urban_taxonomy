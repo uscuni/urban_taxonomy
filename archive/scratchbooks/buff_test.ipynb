{
 "cells": [
  {
   "cell_type": "code",
   "execution_count": 1,
   "id": "c03a3174-19fc-4959-a632-6a6b1a230f36",
   "metadata": {},
   "outputs": [],
   "source": [
    "import glob\n",
    "\n",
    "import geopandas as gpd\n",
    "import momepy as mm\n",
    "import numpy as np\n",
    "import pandas as pd\n",
    "from libpysal.graph import Graph, read_parquet\n",
    "from shapely import coverage_simplify\n",
    "\n",
    "regions_datadir = \"/data/uscuni-ulce/\"\n",
    "data_dir = \"/data/uscuni-ulce/processed_data/\"\n",
    "eubucco_files = glob.glob(regions_datadir + \"eubucco_raw/*\")\n",
    "graph_dir = data_dir + \"neigh_graphs/\""
   ]
  },
  {
   "cell_type": "code",
   "execution_count": 2,
   "id": "405e5489-28dc-452a-a7de-5dea78d4cc76",
   "metadata": {},
   "outputs": [],
   "source": [
    "region_hulls = gpd.read_parquet(regions_datadir + \"regions/\" + \"regions_hull.parquet\")"
   ]
  },
  {
   "cell_type": "code",
   "execution_count": 3,
   "id": "df49f51e-7124-47fe-acc4-801042239a89",
   "metadata": {},
   "outputs": [
    {
     "data": {
      "text/plain": [
       "106928"
      ]
     },
     "execution_count": 3,
     "metadata": {},
     "output_type": "execute_result"
    }
   ],
   "source": [
    "# 12199 - hills, small test\n",
    "# 69300 - prague medium\n",
    "# 226 - germany somewhere, largest cluster\n",
    "# 106928 + 1 - big one in poland\n",
    "for region_id, region_hull in region_hulls.iterrows():\n",
    "    if region_id < 106928:\n",
    "        continue\n",
    "    break\n",
    "region_id"
   ]
  },
  {
   "cell_type": "code",
   "execution_count": 4,
   "id": "8ce0ec4b-b37d-45fe-ba5d-b8bcbec3dbb6",
   "metadata": {},
   "outputs": [
    {
     "name": "stdout",
     "output_type": "stream",
     "text": [
      "CPU times: user 125 ms, sys: 59.8 ms, total: 184 ms\n",
      "Wall time: 183 ms\n"
     ]
    }
   ],
   "source": [
    "%%time\n",
    "buildings = gpd.read_parquet(data_dir + f\"/buildings/buildings_{region_id}.parquet\")"
   ]
  },
  {
   "cell_type": "code",
   "execution_count": 5,
   "id": "2819f26f-c7f5-4db1-8996-3b1ff38b95df",
   "metadata": {},
   "outputs": [
    {
     "name": "stdout",
     "output_type": "stream",
     "text": [
      "CPU times: user 5.26 s, sys: 114 ms, total: 5.38 s\n",
      "Wall time: 5.38 s\n"
     ]
    }
   ],
   "source": [
    "%%time\n",
    "buff_lim = mm.buffered_limit(buildings, \"adaptive\")"
   ]
  },
  {
   "cell_type": "code",
   "execution_count": null,
   "id": "4aefb369-fc48-4ecb-be51-350018ec3628",
   "metadata": {},
   "outputs": [],
   "source": []
  },
  {
   "cell_type": "code",
   "execution_count": null,
   "id": "36bf6ec0-d420-4d26-97f1-5dfec33fced7",
   "metadata": {},
   "outputs": [],
   "source": []
  },
  {
   "cell_type": "code",
   "execution_count": null,
   "id": "a918f53a-101b-49e1-8e67-a3ac6f02b800",
   "metadata": {},
   "outputs": [],
   "source": []
  },
  {
   "cell_type": "code",
   "execution_count": null,
   "id": "5e394cee-bb4e-4eac-ad8f-d24abaf90110",
   "metadata": {},
   "outputs": [],
   "source": []
  },
  {
   "cell_type": "code",
   "execution_count": null,
   "id": "e328fe12-7af8-4721-b842-dbfd9ececa67",
   "metadata": {},
   "outputs": [],
   "source": []
  },
  {
   "cell_type": "code",
   "execution_count": 4,
   "id": "4693c039-6c82-48d8-b0ae-ecb4507f7571",
   "metadata": {},
   "outputs": [],
   "source": [
    "tessellation = gpd.read_parquet(\n",
    "    data_dir + f\"/tessellations/tessellation_{region_id}.parquet\"\n",
    ")"
   ]
  },
  {
   "cell_type": "code",
   "execution_count": 5,
   "id": "f177631f-4af9-4592-a072-9bfe629679d9",
   "metadata": {},
   "outputs": [],
   "source": [
    "blo_q1 = read_parquet(graph_dir + f\"enclosure_graph_{region_id}_knn1.parquet\")"
   ]
  },
  {
   "cell_type": "code",
   "execution_count": 6,
   "id": "dc33ee6d-4344-4aa9-aa17-7245372c9a11",
   "metadata": {},
   "outputs": [],
   "source": [
    "blo_q2 = blo_q1.higher_order(k=2, lower_order=True, diagonal=True)"
   ]
  },
  {
   "cell_type": "code",
   "execution_count": 7,
   "id": "35b14cf6-8620-487a-bdaf-060ec37913a6",
   "metadata": {},
   "outputs": [],
   "source": [
    "blo_q3 = blo_q1.higher_order(k=3, lower_order=True, diagonal=True)"
   ]
  },
  {
   "cell_type": "code",
   "execution_count": null,
   "id": "9069a5e0-1909-49f3-819c-88b8aa55317f",
   "metadata": {},
   "outputs": [],
   "source": []
  },
  {
   "cell_type": "code",
   "execution_count": 8,
   "id": "4ad3b32b-475a-48f8-9255-5be39680e1bc",
   "metadata": {},
   "outputs": [],
   "source": []
  },
  {
   "cell_type": "code",
   "execution_count": 9,
   "id": "5d974b98-d972-4ed5-8a6a-6943ac12d777",
   "metadata": {},
   "outputs": [],
   "source": [
    "base = blo_q1.sparse.copy()"
   ]
  },
  {
   "cell_type": "code",
   "execution_count": null,
   "id": "d5e9cc3f-0bcc-4408-8988-166631b4a4ff",
   "metadata": {},
   "outputs": [],
   "source": []
  },
  {
   "cell_type": "code",
   "execution_count": null,
   "id": "22981483-edd6-4bca-b043-3b7486aa090e",
   "metadata": {},
   "outputs": [],
   "source": []
  },
  {
   "cell_type": "code",
   "execution_count": 103,
   "id": "7ec0ff8a-39b5-4c2b-8c27-7e5612e4a5a0",
   "metadata": {},
   "outputs": [],
   "source": [
    "source = blo_q1.unique_ids[:100]\n",
    "k = 2"
   ]
  },
  {
   "cell_type": "code",
   "execution_count": 104,
   "id": "e799b0f5-97aa-4c6f-8705-4f04da1c739b",
   "metadata": {},
   "outputs": [],
   "source": [
    "base = blo_q1.sparse.copy()\n",
    "lil = base.tolil(copy=False)\n",
    "\n",
    "for i in range(2, k + 1):\n",
    "    res = base[source, :] @ base\n",
    "    base = base.tolil(copy=False)\n",
    "    base[source] = res\n",
    "    base = base.tocsr(copy=False)\n",
    "    # padding = sp.sparse.csr_matrix((base.shape[0] - res.shape[0], base.shape[1]))\n",
    "    # res = sp.sparse.vstack((res, padding))\n",
    "    # base = base + res"
   ]
  },
  {
   "cell_type": "code",
   "execution_count": null,
   "id": "eb2c751e-095c-4b63-8358-6fe07282567e",
   "metadata": {},
   "outputs": [],
   "source": []
  },
  {
   "cell_type": "code",
   "execution_count": null,
   "id": "9be20c29-64f1-4942-9f67-0f26e7ffcc38",
   "metadata": {},
   "outputs": [],
   "source": []
  },
  {
   "cell_type": "code",
   "execution_count": null,
   "id": "25f38c29-56d2-4d39-9af4-16f89fccc500",
   "metadata": {},
   "outputs": [],
   "source": []
  },
  {
   "cell_type": "code",
   "execution_count": 105,
   "id": "97b2c0c1-8be4-422a-8cc9-45335cd26417",
   "metadata": {},
   "outputs": [],
   "source": [
    "wtk = base[source, :].tocoo(copy=False)"
   ]
  },
  {
   "cell_type": "code",
   "execution_count": null,
   "id": "a3b6dec9-edcb-4a8d-a1db-ea15aafc9d25",
   "metadata": {},
   "outputs": [],
   "source": []
  },
  {
   "cell_type": "code",
   "execution_count": 106,
   "id": "234983ed-1c65-4b1e-8f94-fc9292e6cf04",
   "metadata": {},
   "outputs": [],
   "source": [
    "indices = pd.DataFrame({\"neighbor\": wtk.col, \"focal\": wtk.row}).sort_values(\n",
    "    [\"focal\", \"neighbor\"]\n",
    ")\n",
    "indices = indices.set_index(\"focal\")[\"neighbor\"]"
   ]
  },
  {
   "cell_type": "code",
   "execution_count": null,
   "id": "8c570ace-33b3-4195-b737-c5ca4bf9822e",
   "metadata": {},
   "outputs": [],
   "source": []
  },
  {
   "cell_type": "code",
   "execution_count": 108,
   "id": "d727fef1-acca-4554-aa4d-54af95e2aac1",
   "metadata": {},
   "outputs": [],
   "source": [
    "for s in source:\n",
    "    assert (indices[s] == blo_q2[s].index.values).all()"
   ]
  },
  {
   "cell_type": "code",
   "execution_count": null,
   "id": "df90d1ef-9113-425e-ad03-18fa3e043bb4",
   "metadata": {},
   "outputs": [],
   "source": []
  },
  {
   "cell_type": "code",
   "execution_count": null,
   "id": "8cd23c25-6c3c-4e29-acab-b99942dbfdb0",
   "metadata": {},
   "outputs": [],
   "source": []
  },
  {
   "cell_type": "code",
   "execution_count": null,
   "id": "6ced18c5-ace4-46a7-b81a-1fcc0f251f33",
   "metadata": {},
   "outputs": [],
   "source": []
  },
  {
   "cell_type": "code",
   "execution_count": null,
   "id": "832ffdf8-6b0a-408b-aa48-d5c7ebf5c95a",
   "metadata": {},
   "outputs": [],
   "source": []
  },
  {
   "cell_type": "code",
   "execution_count": 258,
   "id": "9d9260e0-d969-4ecd-af17-95220c3b85d5",
   "metadata": {},
   "outputs": [
    {
     "ename": "ValueError",
     "evalue": "operands could not be broadcast together with shapes (39,) (71,) ",
     "output_type": "error",
     "traceback": [
      "\u001b[0;31m---------------------------------------------------------------------------\u001b[0m",
      "\u001b[0;31mValueError\u001b[0m                                Traceback (most recent call last)",
      "Cell \u001b[0;32mIn[258], line 1\u001b[0m\n\u001b[0;32m----> 1\u001b[0m (\u001b[43mblo_q2\u001b[49m\u001b[43m[\u001b[49m\u001b[38;5;241;43m0\u001b[39;49m\u001b[43m]\u001b[49m\u001b[38;5;241;43m.\u001b[39;49m\u001b[43mindex\u001b[49m\u001b[38;5;241;43m.\u001b[39;49m\u001b[43mvalues\u001b[49m\u001b[43m \u001b[49m\u001b[38;5;241;43m==\u001b[39;49m\u001b[43m \u001b[49m\u001b[43mwtk\u001b[49m\u001b[38;5;241;43m.\u001b[39;49m\u001b[43mrow\u001b[49m)\u001b[38;5;241m.\u001b[39mall()\n",
      "\u001b[0;31mValueError\u001b[0m: operands could not be broadcast together with shapes (39,) (71,) "
     ]
    }
   ],
   "source": [
    "(blo_q2[0].index.values == wtk.row).all()"
   ]
  },
  {
   "cell_type": "code",
   "execution_count": 259,
   "id": "ea81d8df-ed07-4d45-8e10-db36adcccbe4",
   "metadata": {},
   "outputs": [
    {
     "ename": "ValueError",
     "evalue": "operands could not be broadcast together with shapes (70,) (71,) ",
     "output_type": "error",
     "traceback": [
      "\u001b[0;31m---------------------------------------------------------------------------\u001b[0m",
      "\u001b[0;31mValueError\u001b[0m                                Traceback (most recent call last)",
      "Cell \u001b[0;32mIn[259], line 1\u001b[0m\n\u001b[0;32m----> 1\u001b[0m (\u001b[43mblo_q3\u001b[49m\u001b[43m[\u001b[49m\u001b[38;5;241;43m0\u001b[39;49m\u001b[43m]\u001b[49m\u001b[38;5;241;43m.\u001b[39;49m\u001b[43mindex\u001b[49m\u001b[38;5;241;43m.\u001b[39;49m\u001b[43mvalues\u001b[49m\u001b[43m \u001b[49m\u001b[38;5;241;43m==\u001b[39;49m\u001b[43m \u001b[49m\u001b[43mwtk\u001b[49m\u001b[38;5;241;43m.\u001b[39;49m\u001b[43mrow\u001b[49m)\u001b[38;5;241m.\u001b[39mall()\n",
      "\u001b[0;31mValueError\u001b[0m: operands could not be broadcast together with shapes (70,) (71,) "
     ]
    }
   ],
   "source": [
    "(blo_q3[0].index.values == wtk.row).all()"
   ]
  },
  {
   "cell_type": "code",
   "execution_count": 260,
   "id": "97bd7706-92c0-4036-a697-4943775d6b5b",
   "metadata": {},
   "outputs": [
    {
     "data": {
      "text/plain": [
       "<2910x2910 sparse array of type '<class 'numpy.float64'>'\n",
       "\twith 71 stored elements in COOrdinate format>"
      ]
     },
     "execution_count": 260,
     "metadata": {},
     "output_type": "execute_result"
    }
   ],
   "source": []
  },
  {
   "cell_type": "code",
   "execution_count": null,
   "id": "cb704062-dceb-4f29-9084-13f844d3f9d9",
   "metadata": {},
   "outputs": [],
   "source": []
  },
  {
   "cell_type": "code",
   "execution_count": null,
   "id": "3ea70c00-abda-43b3-bfc7-8ea2267e5a85",
   "metadata": {},
   "outputs": [],
   "source": []
  },
  {
   "cell_type": "code",
   "execution_count": null,
   "id": "854e90a1-711d-431f-968c-13966e253023",
   "metadata": {},
   "outputs": [],
   "source": []
  },
  {
   "cell_type": "code",
   "execution_count": 229,
   "id": "0c57ad3b-3bc8-4ee5-bc85-078457db91c7",
   "metadata": {},
   "outputs": [],
   "source": [
    "vals = tessellation[tessellation.index > -1].groupby(\"eID\").count()\n",
    "weights = pd.Series(\n",
    "    0, index=blo_q1.unique_ids\n",
    ")  ## min should be 1 otherwise i get infinite loops\n",
    "weights[vals.index.values] = vals.values[:, 0]"
   ]
  },
  {
   "cell_type": "code",
   "execution_count": 230,
   "id": "a5f9b093-b479-448a-8a08-981c1d48ff1a",
   "metadata": {},
   "outputs": [],
   "source": [
    "dens = (weights / enclosures.area).sort_values(ascending=False)"
   ]
  },
  {
   "cell_type": "code",
   "execution_count": 231,
   "id": "25821909-0f59-4ebb-9e73-a5a708be6968",
   "metadata": {},
   "outputs": [],
   "source": [
    "weights = weights.iloc[dens.index.values]"
   ]
  },
  {
   "cell_type": "code",
   "execution_count": null,
   "id": "78b5b095-de68-42fd-bff3-8b93e1f76618",
   "metadata": {},
   "outputs": [],
   "source": []
  },
  {
   "cell_type": "code",
   "execution_count": 235,
   "id": "ba820909-ec6a-4127-8530-9948f2375d13",
   "metadata": {},
   "outputs": [],
   "source": [
    "import heapq"
   ]
  },
  {
   "cell_type": "code",
   "execution_count": 253,
   "id": "34f73a08-0ca6-43d8-83ad-197608c1b86a",
   "metadata": {},
   "outputs": [],
   "source": [
    "def process_subgraph(start, graph, weights, dens, visited, max_limit=8000):\n",
    "    stack = []\n",
    "    heapq.heappush(stack, (1, -dens.loc[start], start))\n",
    "    current_weight = weights[start]\n",
    "    current_list = []\n",
    "    lists = []\n",
    "\n",
    "    while len(stack):\n",
    "        i, density, current = heapq.heappop(stack)\n",
    "        weight = weights.loc[current]\n",
    "\n",
    "        # assert current_weight <= max_limit\n",
    "\n",
    "        # the index has not been processed and there is space in the current partition\n",
    "        if (current not in visited) and (current_weight + weight <= max_limit):\n",
    "            current_weight += weight\n",
    "            current_list.append(current)\n",
    "            visited.add(current)\n",
    "\n",
    "            for v in graph[current].index:\n",
    "                if v not in visited:\n",
    "                    heapq.heappush(stack, (i + 1, -dens.loc[v], v))\n",
    "\n",
    "        # the index has not been processed, but the current list has reached max capacity\n",
    "        elif (current not in visited) and (current_weight + weight > max_limit):\n",
    "            # save the partition order and reset everything\n",
    "            lists.append(current_list)\n",
    "\n",
    "            current_weight = 0\n",
    "            current_list = []\n",
    "            stack = []\n",
    "            ### reinsert into stack\n",
    "            heapq.heappush(stack, (i, -density, current))\n",
    "\n",
    "        # if the current index has been processed continue\n",
    "        else:\n",
    "            continue\n",
    "\n",
    "    ### the graph disconnects\n",
    "    lists.append(current_list)\n",
    "    return lists, visited"
   ]
  },
  {
   "cell_type": "code",
   "execution_count": 254,
   "id": "b15e1833-77fa-41c8-ae21-e4a684a447a4",
   "metadata": {},
   "outputs": [
    {
     "data": {
      "text/plain": [
       "numpy.datetime64('2024-05-31T16:05:37')"
      ]
     },
     "execution_count": 254,
     "metadata": {},
     "output_type": "execute_result"
    }
   ],
   "source": [
    "start_time = np.datetime64(\"now\")\n",
    "start_time"
   ]
  },
  {
   "cell_type": "code",
   "execution_count": 270,
   "id": "2d3b0c71-3caa-4641-a73a-8101cef4b17b",
   "metadata": {},
   "outputs": [
    {
     "name": "stdout",
     "output_type": "stream",
     "text": [
      "CPU times: user 27.5 s, sys: 12 ms, total: 27.5 s\n",
      "Wall time: 27.5 s\n"
     ]
    }
   ],
   "source": [
    "%%time\n",
    "i = 0\n",
    "groups = []\n",
    "visited = set()\n",
    "for start in weights.index:\n",
    "    if start not in visited:\n",
    "        sub_list, visited = process_subgraph(\n",
    "            start, blo_q1, weights, dens, visited, max_limit=100_000\n",
    "        )\n",
    "        for l in sub_list:\n",
    "            groups.append(l)"
   ]
  },
  {
   "cell_type": "code",
   "execution_count": 271,
   "id": "476c85f6-9df2-41ed-acfa-3943c237d6e4",
   "metadata": {},
   "outputs": [],
   "source": [
    "end = np.datetime64(\"now\")"
   ]
  },
  {
   "cell_type": "code",
   "execution_count": 272,
   "id": "eeb1f0bb-bb02-4db5-9916-f01a52f7e33b",
   "metadata": {},
   "outputs": [
    {
     "data": {
      "text/plain": [
       "numpy.timedelta64(-237,'s')"
      ]
     },
     "execution_count": 272,
     "metadata": {},
     "output_type": "execute_result"
    }
   ],
   "source": [
    "start_time - end"
   ]
  },
  {
   "cell_type": "code",
   "execution_count": 273,
   "id": "26278249-d57d-4cc8-b04d-6c8792eeb695",
   "metadata": {},
   "outputs": [],
   "source": [
    "labels = pd.Series(-1, index=weights.index, name=\"labels\")\n",
    "for cluster_label, locs in enumerate(groups):\n",
    "    labels[locs] = cluster_label"
   ]
  },
  {
   "cell_type": "code",
   "execution_count": 274,
   "id": "27678bac-9271-418a-b271-397b87bf394e",
   "metadata": {},
   "outputs": [],
   "source": [
    "# labels.to_frame().to_parquet('data/largest_groups.parquet')"
   ]
  },
  {
   "cell_type": "code",
   "execution_count": 275,
   "id": "f0092d11-cd70-4c98-bcbb-4e2a3db2ba7f",
   "metadata": {},
   "outputs": [],
   "source": [
    "_, cnts = np.unique(np.concatenate(groups), return_counts=True)\n",
    "assert (cnts == 1).all()"
   ]
  },
  {
   "cell_type": "code",
   "execution_count": 276,
   "id": "fef59c9b-3e6a-4eb9-83e7-f004261466ea",
   "metadata": {},
   "outputs": [],
   "source": [
    "assert not (labels == -1).any()"
   ]
  },
  {
   "cell_type": "code",
   "execution_count": 277,
   "id": "181cb96e-2e58-4e2a-ae48-9bbd86ca0afc",
   "metadata": {},
   "outputs": [
    {
     "data": {
      "text/plain": [
       "labels\n",
       "9       36357\n",
       "18      15440\n",
       "5       15128\n",
       "12      14754\n",
       "29      13708\n",
       "        ...  \n",
       "8196        1\n",
       "8197        1\n",
       "8198        1\n",
       "8199        1\n",
       "8472        1\n",
       "Name: count, Length: 16945, dtype: int64"
      ]
     },
     "execution_count": 277,
     "metadata": {},
     "output_type": "execute_result"
    }
   ],
   "source": [
    "labels.value_counts()"
   ]
  },
  {
   "cell_type": "code",
   "execution_count": 278,
   "id": "3379204e-c6b0-4423-aeab-81cb524d14b4",
   "metadata": {},
   "outputs": [
    {
     "data": {
      "text/plain": [
       "labels\n",
       "15    99998\n",
       "19    99998\n",
       "2     99997\n",
       "30    99996\n",
       "26    99996\n",
       "29    99995\n",
       "9     99992\n",
       "11    99992\n",
       "14    99983\n",
       "22    99978\n",
       "10    99974\n",
       "21    99965\n",
       "25    99958\n",
       "3     99953\n",
       "8     99951\n",
       "28    99946\n",
       "5     99943\n",
       "18    99937\n",
       "0     99896\n",
       "16    99883\n",
       "dtype: int64"
      ]
     },
     "execution_count": 278,
     "metadata": {},
     "output_type": "execute_result"
    }
   ],
   "source": [
    "weights.groupby(labels).sum().sort_values(ascending=False).iloc[:20]"
   ]
  },
  {
   "cell_type": "code",
   "execution_count": 279,
   "id": "d91825ad-9350-4098-93af-80aae90936ce",
   "metadata": {},
   "outputs": [
    {
     "data": {
      "text/plain": [
       "704"
      ]
     },
     "execution_count": 279,
     "metadata": {},
     "output_type": "execute_result"
    }
   ],
   "source": [
    "weights.max()"
   ]
  },
  {
   "cell_type": "code",
   "execution_count": null,
   "id": "283a8202-2b56-469b-bb13-fe7da85fdd14",
   "metadata": {},
   "outputs": [],
   "source": []
  },
  {
   "cell_type": "code",
   "execution_count": null,
   "id": "4b0af907-596c-43e0-9b65-6094e0435475",
   "metadata": {},
   "outputs": [],
   "source": []
  },
  {
   "cell_type": "code",
   "execution_count": 280,
   "id": "01049851-0c3f-4c1b-a522-0ca8d16507ca",
   "metadata": {},
   "outputs": [],
   "source": [
    "enclosures = gpd.read_parquet(data_dir + f\"/enclosures/enclosure_{region_id}.parquet\")"
   ]
  },
  {
   "cell_type": "code",
   "execution_count": 281,
   "id": "d0131088-63b1-458e-9b63-2493bf479880",
   "metadata": {},
   "outputs": [],
   "source": [
    "partitions = enclosures.dissolve(labels)\n",
    "simplified = coverage_simplify(partitions.geometry, 0.1)"
   ]
  },
  {
   "cell_type": "code",
   "execution_count": null,
   "id": "d7a769ae-20e4-435f-91d3-4bb3ba1f3858",
   "metadata": {},
   "outputs": [],
   "source": []
  },
  {
   "cell_type": "code",
   "execution_count": 293,
   "id": "e69c05e2-56eb-4642-803d-d89fe5a547db",
   "metadata": {},
   "outputs": [],
   "source": [
    "parititons = gpd.GeoDataFrame(\n",
    "    {\"geometry\": simplified.geoms}, index=partitions.index, crs=partitions.crs\n",
    ")"
   ]
  },
  {
   "cell_type": "code",
   "execution_count": 295,
   "id": "d304fb50-7db8-4f3a-b1fd-88dbbd09b6d3",
   "metadata": {},
   "outputs": [],
   "source": [
    "# partitions.loc[weights.groupby(labels).sum().sort_values(ascending=False).iloc[:30].index].explore()"
   ]
  },
  {
   "cell_type": "code",
   "execution_count": null,
   "id": "b3d1e77d-2fa2-4bd2-8407-8d3274900978",
   "metadata": {},
   "outputs": [],
   "source": []
  },
  {
   "cell_type": "code",
   "execution_count": null,
   "id": "3c988f61-56d8-421d-927c-ed5851d4201b",
   "metadata": {},
   "outputs": [],
   "source": []
  },
  {
   "cell_type": "code",
   "execution_count": null,
   "id": "c7b78084-88a4-46fd-b1be-6af7fb91c09c",
   "metadata": {},
   "outputs": [],
   "source": []
  },
  {
   "cell_type": "code",
   "execution_count": 306,
   "id": "e5687b9b-3826-41db-b4a8-3c5d52f57368",
   "metadata": {},
   "outputs": [],
   "source": [
    "test_enclosures = enclosures.sort_values(\"geometry\")"
   ]
  },
  {
   "cell_type": "code",
   "execution_count": 307,
   "id": "cfe90b55-ad85-4f7f-9ea2-4a6e662a4cd3",
   "metadata": {},
   "outputs": [],
   "source": [
    "test_enclosures[\"part_id\"] = -1"
   ]
  },
  {
   "cell_type": "code",
   "execution_count": null,
   "id": "0a562022-6d4b-4cc5-b2ad-20cf1c828deb",
   "metadata": {},
   "outputs": [],
   "source": []
  },
  {
   "cell_type": "code",
   "execution_count": 314,
   "id": "044da744-0a46-4f17-a5fb-338b47fc1c59",
   "metadata": {},
   "outputs": [],
   "source": [
    "part_index = []\n",
    "npartitions = 100\n",
    "step = int(enclosures.shape[0] / 100)\n",
    "new_partitions = []\n",
    "for start in range(0, enclosures.shape[0], step):\n",
    "    end = min(start + step, enclosures.shape[0])\n",
    "    test_enclosures.iloc[start:end, -1] = start"
   ]
  },
  {
   "cell_type": "code",
   "execution_count": 315,
   "id": "e3b4a57b-cf54-4fe1-8b96-9ee4d4d04999",
   "metadata": {},
   "outputs": [],
   "source": [
    "r = test_enclosures.dissolve(by=\"part_id\")"
   ]
  },
  {
   "cell_type": "code",
   "execution_count": null,
   "id": "53b6d887-7ae9-45bd-8862-a1d01c3d319c",
   "metadata": {},
   "outputs": [],
   "source": []
  },
  {
   "cell_type": "code",
   "execution_count": 318,
   "id": "eb6521ea-a104-4155-8ee1-f1e71f6b25b8",
   "metadata": {},
   "outputs": [],
   "source": [
    "# r.explore()"
   ]
  },
  {
   "cell_type": "code",
   "execution_count": null,
   "id": "a72dea82-1946-4033-b43e-022d34fb2b35",
   "metadata": {},
   "outputs": [],
   "source": []
  },
  {
   "cell_type": "code",
   "execution_count": null,
   "id": "f62a56cc-05ad-4195-918b-74f8f7b11ead",
   "metadata": {},
   "outputs": [],
   "source": []
  },
  {
   "cell_type": "code",
   "execution_count": null,
   "id": "aa159e7d-1461-478e-891e-bea062594fd1",
   "metadata": {},
   "outputs": [],
   "source": []
  },
  {
   "cell_type": "code",
   "execution_count": null,
   "id": "bc94d133-a54d-4eef-8162-8dc7c36b4476",
   "metadata": {},
   "outputs": [],
   "source": []
  },
  {
   "cell_type": "code",
   "execution_count": null,
   "id": "55449700-5e49-496c-b500-c72d7e40e7e8",
   "metadata": {},
   "outputs": [],
   "source": []
  },
  {
   "cell_type": "code",
   "execution_count": null,
   "id": "aaa4f58f-0140-4c3c-ace5-1b6ba9a0fc87",
   "metadata": {},
   "outputs": [],
   "source": []
  },
  {
   "cell_type": "code",
   "execution_count": null,
   "id": "b2c413d7-3b87-4ee1-b2e7-b28b7bc0498f",
   "metadata": {},
   "outputs": [],
   "source": []
  },
  {
   "cell_type": "code",
   "execution_count": null,
   "id": "e1f18b17-2daa-4100-a1a9-747b30846b2e",
   "metadata": {},
   "outputs": [],
   "source": []
  },
  {
   "cell_type": "code",
   "execution_count": null,
   "id": "f3b93924-411c-4651-861c-5124c20d034d",
   "metadata": {},
   "outputs": [],
   "source": []
  },
  {
   "cell_type": "code",
   "execution_count": null,
   "id": "df7100c9-6ee2-4a04-bcd6-ff44b6dd3c9e",
   "metadata": {},
   "outputs": [],
   "source": []
  },
  {
   "cell_type": "code",
   "execution_count": null,
   "id": "b4883fbd-a7ed-47e7-b91f-687a51de00b0",
   "metadata": {},
   "outputs": [],
   "source": []
  },
  {
   "cell_type": "code",
   "execution_count": null,
   "id": "7174ab14-386c-47d0-8710-9c81adae9aed",
   "metadata": {},
   "outputs": [],
   "source": []
  },
  {
   "cell_type": "code",
   "execution_count": null,
   "id": "ef1565ad-de72-44b1-878d-e18aa0fbe918",
   "metadata": {},
   "outputs": [],
   "source": []
  },
  {
   "cell_type": "code",
   "execution_count": null,
   "id": "ad7aa589-2eea-4445-96c6-eb1aecb0d3bb",
   "metadata": {},
   "outputs": [],
   "source": []
  },
  {
   "cell_type": "code",
   "execution_count": null,
   "id": "654fc42b-8667-4e5e-8e80-56c3cb914a79",
   "metadata": {},
   "outputs": [],
   "source": [
    "res = blo_q1.higher_order(k=5, lower_order=True).assign_self_weight()"
   ]
  },
  {
   "cell_type": "code",
   "execution_count": null,
   "id": "bbf2eec2-5b94-463c-9b0a-53f602a37313",
   "metadata": {},
   "outputs": [],
   "source": [
    "res.to_parquet(\"data/enclusres_knn3.parquet\")"
   ]
  },
  {
   "cell_type": "code",
   "execution_count": null,
   "id": "c99d08aa-0246-4d69-9f32-7e4a9dba0b54",
   "metadata": {},
   "outputs": [],
   "source": [
    "res.adjacency.shape"
   ]
  },
  {
   "cell_type": "code",
   "execution_count": null,
   "id": "76395209-8606-4b6f-97dd-c14c251835c3",
   "metadata": {},
   "outputs": [],
   "source": []
  },
  {
   "cell_type": "code",
   "execution_count": null,
   "id": "2817e30f-edad-41e7-8fee-7bda21a62617",
   "metadata": {},
   "outputs": [],
   "source": []
  },
  {
   "cell_type": "code",
   "execution_count": null,
   "id": "63f45a8f-cad2-43f9-908b-a37cf0c3019a",
   "metadata": {},
   "outputs": [],
   "source": []
  },
  {
   "cell_type": "code",
   "execution_count": 43,
   "id": "785bb5de-1df5-4c0d-93b4-caefa8676d1e",
   "metadata": {},
   "outputs": [
    {
     "name": "stdout",
     "output_type": "stream",
     "text": [
      "CPU times: user 4.29 s, sys: 36.1 ms, total: 4.33 s\n",
      "Wall time: 4.32 s\n"
     ]
    }
   ],
   "source": [
    "%%time\n",
    "min_buffer: float = 0\n",
    "max_buffer: float = 100\n",
    "\n",
    "gabriel = Graph.build_triangulation(\n",
    "    buildings.representative_point(), \"gabriel\", kernel=\"identity\"\n",
    ")\n",
    "max_dist = gabriel.aggregate(\"max\")\n",
    "buffer = np.clip(max_dist / 2 + max_dist * 0.1, min_buffer, max_buffer).values\n",
    "buffered_buildings = buildings.buffer(buffer, resolution=2).union_all()"
   ]
  },
  {
   "cell_type": "code",
   "execution_count": null,
   "id": "6c3a0ebb-c9dc-483c-bbf8-be5a0331ccbe",
   "metadata": {},
   "outputs": [],
   "source": []
  },
  {
   "cell_type": "code",
   "execution_count": 44,
   "id": "90c8365f-751c-418c-a1df-13f87708c305",
   "metadata": {},
   "outputs": [],
   "source": [
    "res = gpd.GeoDataFrame(\n",
    "    {\"geometry\": [geom for geom in buffered_buildings.geoms]}, crs=buildings.crs\n",
    ")"
   ]
  },
  {
   "cell_type": "code",
   "execution_count": 45,
   "id": "b5f4d0fd-baa5-4de6-98f0-8a211d4dd570",
   "metadata": {},
   "outputs": [],
   "source": [
    "res.to_parquet(\"data/gabriel_clusters.parquet\")"
   ]
  },
  {
   "cell_type": "code",
   "execution_count": 47,
   "id": "4613cc0c-eb51-4a0f-994a-cf827a1a26c7",
   "metadata": {},
   "outputs": [],
   "source": [
    "# res.explore()"
   ]
  },
  {
   "cell_type": "code",
   "execution_count": null,
   "id": "cab91cb9-4af9-4b25-be7a-7fc4d30371a5",
   "metadata": {},
   "outputs": [],
   "source": []
  },
  {
   "cell_type": "code",
   "execution_count": null,
   "id": "db0252ad-5334-49d6-8bdb-a31418a42fb8",
   "metadata": {},
   "outputs": [],
   "source": []
  },
  {
   "cell_type": "code",
   "execution_count": null,
   "id": "80f37bb5-5c33-40f5-851f-4bf351b810e5",
   "metadata": {},
   "outputs": [],
   "source": []
  },
  {
   "cell_type": "code",
   "execution_count": null,
   "id": "82eeeedf-face-4ca1-9cb7-016cf2609703",
   "metadata": {},
   "outputs": [],
   "source": []
  },
  {
   "cell_type": "code",
   "execution_count": null,
   "id": "8f5278d4-8ddd-4748-a24c-f17d1e418688",
   "metadata": {},
   "outputs": [],
   "source": []
  },
  {
   "cell_type": "code",
   "execution_count": null,
   "id": "b74d9f12-5e67-467d-b9be-bd619297b7c7",
   "metadata": {},
   "outputs": [],
   "source": []
  }
 ],
 "metadata": {
  "kernelspec": {
   "display_name": "Python 3 (ipykernel)",
   "language": "python",
   "name": "python3"
  },
  "language_info": {
   "codemirror_mode": {
    "name": "ipython",
    "version": 3
   },
   "file_extension": ".py",
   "mimetype": "text/x-python",
   "name": "python",
   "nbconvert_exporter": "python",
   "pygments_lexer": "ipython3",
   "version": "3.12.3"
  }
 },
 "nbformat": 4,
 "nbformat_minor": 5
}
