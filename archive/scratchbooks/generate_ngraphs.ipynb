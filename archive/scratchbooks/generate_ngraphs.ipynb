{
 "cells": [
  {
   "cell_type": "markdown",
   "id": "c697d4a8-6fdf-4054-8a3a-6cd8aca52d4f",
   "metadata": {},
   "source": [
    "merge all into momepy\n",
    "\n",
    "for each region\n",
    "\n",
    "1. generate clean buildings\n",
    "2. generate clean 3streets\n",
    "3. generate elements, including nodes...\n",
    "4. generate ngraphs\n",
    "5. generate primary chars\n",
    "6. generate context data\n",
    "\n",
    "Clustering\n",
    "\n",
    "7. generate regional clusters (to figure out)\n",
    "8. generate final merged classification\n",
    "9. finally evaluate clusters (to figure out)\n",
    "\n",
    "Prediction model\n",
    "\n",
    "10. generate prediction model data - first 6 steps are the same (TBC)\n",
    "11. replace clustering steps with modeling steps (TBC)"
   ]
  },
  {
   "cell_type": "code",
   "execution_count": 1,
   "id": "45d99973-31b0-4180-b94e-400faab29abd",
   "metadata": {},
   "outputs": [],
   "source": [
    "import datetime\n",
    "import gc\n",
    "import glob\n",
    "\n",
    "import geopandas as gpd\n",
    "import momepy as mm\n",
    "import numpy as np\n",
    "import pandas as pd\n",
    "from libpysal.graph import Graph\n",
    "\n",
    "regions_datadir = \"/data/uscuni-ulce/\"\n",
    "data_dir = \"/data/uscuni-ulce/processed_data/\"\n",
    "eubucco_files = glob.glob(regions_datadir + \"eubucco_raw/*\")"
   ]
  },
  {
   "cell_type": "code",
   "execution_count": 2,
   "id": "a8e419e3-7ba0-4aa3-9b76-e51a72314436",
   "metadata": {},
   "outputs": [],
   "source": [
    "def read_region_buildings(typed_dict, region_ids, region_hull, region_id):\n",
    "    typed_region_buildings = typed_dict.loc[region_ids[region_id]].values\n",
    "    read_mask = region_hull.buffer(100)\n",
    "\n",
    "    res = None\n",
    "    for filepath in eubucco_files:\n",
    "        gdf = gpd.read_file(\n",
    "            filepath,\n",
    "            engine=\"pyogrio\",\n",
    "            columns=[\"id\", \"geometry\"],\n",
    "            bbox=read_mask.bounds,\n",
    "        )\n",
    "        typed_gdf_buildings = typed_dict.loc[gdf[\"id\"].values].values\n",
    "        to_keep = np.isin(\n",
    "            typed_gdf_buildings, typed_region_buildings, assume_unique=True\n",
    "        )\n",
    "\n",
    "        res = pd.concat((res, gdf[to_keep]))\n",
    "    buildings = res\n",
    "\n",
    "    return buildings"
   ]
  },
  {
   "cell_type": "code",
   "execution_count": null,
   "id": "7df564dd-cdc1-4fbc-a9e9-24618f92fd8e",
   "metadata": {},
   "outputs": [],
   "source": []
  },
  {
   "cell_type": "code",
   "execution_count": null,
   "id": "3df28731-f24c-46b5-a8e3-9de45416e3a1",
   "metadata": {},
   "outputs": [],
   "source": []
  },
  {
   "cell_type": "code",
   "execution_count": null,
   "id": "38be6536-267d-43bc-8cb9-d308e71892d5",
   "metadata": {},
   "outputs": [],
   "source": []
  },
  {
   "cell_type": "code",
   "execution_count": null,
   "id": "a8cb2ba8-b142-4947-953b-d7699bf2fe7b",
   "metadata": {},
   "outputs": [],
   "source": []
  },
  {
   "cell_type": "code",
   "execution_count": null,
   "id": "a1874082-5ff0-47de-9212-4977f21b95ba",
   "metadata": {},
   "outputs": [],
   "source": []
  },
  {
   "cell_type": "code",
   "execution_count": null,
   "id": "97c94fe1-99f2-4e53-baab-c626e6e761b9",
   "metadata": {},
   "outputs": [],
   "source": []
  },
  {
   "cell_type": "code",
   "execution_count": 3,
   "id": "3b3cd26d-d2f6-4661-ba50-92682cd993ac",
   "metadata": {},
   "outputs": [],
   "source": [
    "building_region_mapping = pd.read_parquet(\n",
    "    regions_datadir + \"regions/\" + \"id_to_region.parquet\", engine=\"pyarrow\"\n",
    ")\n",
    "typed_dict = pd.Series(\n",
    "    np.arange(building_region_mapping[\"id\"].values.shape[0]),\n",
    "    index=building_region_mapping[\"id\"].values,\n",
    ")\n",
    "region_ids = building_region_mapping.groupby(\"region\")[\"id\"].unique()\n",
    "del building_region_mapping  # its 2/3 gb"
   ]
  },
  {
   "cell_type": "code",
   "execution_count": 164,
   "id": "223112d9-64fb-48b2-9ad1-1a15577db81d",
   "metadata": {},
   "outputs": [],
   "source": [
    "region_hulls = gpd.read_parquet(regions_datadir + \"regions/\" + \"regions_hull.parquet\")"
   ]
  },
  {
   "cell_type": "code",
   "execution_count": 165,
   "id": "ac4ac174-2935-4cb5-8605-98b6b8ace666",
   "metadata": {},
   "outputs": [
    {
     "name": "stdout",
     "output_type": "stream",
     "text": [
      "---- Processing region:  12199 2024-05-22 17:49:44.331497\n"
     ]
    }
   ],
   "source": [
    "for region_id, region_hull in region_hulls.iterrows():\n",
    "    region_hull = region_hull[\"convex_hull\"]\n",
    "\n",
    "    if region_id != 12199:\n",
    "        continue\n",
    "\n",
    "    n_workers = -1\n",
    "\n",
    "    print(\"----\", \"Processing region: \", region_id, datetime.datetime.now())\n",
    "    buildings = read_region_buildings(typed_dict, region_ids, region_hull, region_id)\n",
    "\n",
    "    break"
   ]
  },
  {
   "cell_type": "code",
   "execution_count": 175,
   "id": "eaac5f0a-cf6c-41fb-9480-af344dcb37a6",
   "metadata": {},
   "outputs": [],
   "source": [
    "buildings = gpd.read_parquet(data_dir + f\"/buildings/buildings_{region_id}.parquet\")"
   ]
  },
  {
   "cell_type": "code",
   "execution_count": 176,
   "id": "cac6576d-fbbe-4af4-a8a8-0428daf6fd61",
   "metadata": {},
   "outputs": [],
   "source": [
    "tessellation = gpd.read_parquet(\n",
    "    data_dir + f\"tessellations/tessellation_{region_id}.parquet\"\n",
    ")  #"
   ]
  },
  {
   "cell_type": "code",
   "execution_count": 177,
   "id": "b73c495d-9820-4613-ab25-e4007ccf22f0",
   "metadata": {},
   "outputs": [
    {
     "data": {
      "text/plain": [
       "Polygon    7884\n",
       "Name: count, dtype: int64"
      ]
     },
     "execution_count": 177,
     "metadata": {},
     "output_type": "execute_result"
    }
   ],
   "source": [
    "buildings.geom_type.value_counts()"
   ]
  },
  {
   "cell_type": "code",
   "execution_count": 178,
   "id": "ae4c2e60-70f9-47c3-8735-84463e97a9f8",
   "metadata": {},
   "outputs": [
    {
     "data": {
      "text/plain": [
       "Polygon         8425\n",
       "MultiPolygon     107\n",
       "Name: count, dtype: int64"
      ]
     },
     "execution_count": 178,
     "metadata": {},
     "output_type": "execute_result"
    }
   ],
   "source": [
    "tessellation.geom_type.value_counts()"
   ]
  },
  {
   "cell_type": "code",
   "execution_count": null,
   "id": "65409324-d27a-4f68-a211-eec78699ecae",
   "metadata": {},
   "outputs": [],
   "source": []
  },
  {
   "cell_type": "code",
   "execution_count": null,
   "id": "b7b10da1-3a62-49b6-82e2-c3a8ba08168b",
   "metadata": {},
   "outputs": [],
   "source": []
  },
  {
   "cell_type": "code",
   "execution_count": null,
   "id": "c6e74017-1629-4e87-90e7-59af5ff00360",
   "metadata": {},
   "outputs": [],
   "source": []
  },
  {
   "cell_type": "code",
   "execution_count": null,
   "id": "6e25a77d-3b8a-4b01-943a-9028dd2bc22f",
   "metadata": {},
   "outputs": [],
   "source": []
  },
  {
   "cell_type": "code",
   "execution_count": null,
   "id": "c1b0d2d8-2e7f-4ae9-9887-372ad4b2f3a7",
   "metadata": {},
   "outputs": [],
   "source": []
  },
  {
   "cell_type": "markdown",
   "id": "a8bc4c69-346c-46e4-bb2d-7484549cd806",
   "metadata": {},
   "source": [
    "### generate graphs"
   ]
  },
  {
   "cell_type": "code",
   "execution_count": null,
   "id": "8c9c53e7-858e-4826-88a4-da39e96e91e2",
   "metadata": {},
   "outputs": [],
   "source": []
  },
  {
   "cell_type": "code",
   "execution_count": 21,
   "id": "bfb2ecdc-f976-4592-9085-1c68fc044b8b",
   "metadata": {},
   "outputs": [],
   "source": [
    "def process_tessellation_graph(region_id):\n",
    "    ## tessellation graphs\n",
    "    tessellation = gpd.read_parquet(\n",
    "        data_dir + f\"tessellations/tessellation_{region_id}.parquet\"\n",
    "    )\n",
    "\n",
    "    graph = Graph.build_contiguity(tessellation, rook=False).assign_self_weight()\n",
    "    graph.to_parquet(\n",
    "        data_dir + \"neigh_graphs/\" + f\"tessellation_graph_{region_id}_knn1.parquet\"\n",
    "    )\n",
    "    print(\"Build graph knn=1\")\n",
    "\n",
    "    graph3 = graph.higher_order(k=3, lower_order=True)\n",
    "    graph3.to_parquet(\n",
    "        data_dir + \"neigh_graphs/\" + f\"tessellation_graph_{region_id}_knn3.parquet\"\n",
    "    )\n",
    "    print(\"Build graph knn=3\")\n",
    "\n",
    "    del graph\n",
    "    del graph3\n",
    "    gc.collect()"
   ]
  },
  {
   "cell_type": "code",
   "execution_count": 22,
   "id": "8346eff7-5597-49e0-b3f8-de17c0a03faf",
   "metadata": {},
   "outputs": [],
   "source": [
    "def process_buildings_graph(region_id):\n",
    "    buildings = gpd.read_parquet(data_dir + f\"/buildings/buildings_{region_id}.parquet\")\n",
    "    graph = Graph.build_contiguity(\n",
    "        buildings.set_index(\"id\"), rook=False\n",
    "    ).assign_self_weight()\n",
    "    graph.to_parquet(\n",
    "        data_dir + \"neigh_graphs/\" + f\"building_graph_{region_id}_knn1.parquet\"\n",
    "    )\n",
    "    print(\"Build graph knn=1\")\n",
    "\n",
    "    del buildings\n",
    "    del graph\n",
    "    gc.collect()"
   ]
  },
  {
   "cell_type": "code",
   "execution_count": 27,
   "id": "ac0be316-9b5c-403b-a144-477328f0f768",
   "metadata": {},
   "outputs": [],
   "source": [
    "def process_edges_graph(region_id):\n",
    "    streets = gpd.read_parquet(data_dir + f\"/streets/streets_{region_id}.parquet\")\n",
    "\n",
    "    graph = Graph.build_contiguity(\n",
    "        streets.set_index(\"osm_id\"), rook=False\n",
    "    ).assign_self_weight()\n",
    "    graph.to_parquet(\n",
    "        data_dir + \"neigh_graphs/\" + f\"street_graph_{region_id}_knn1.parquet\"\n",
    "    )\n",
    "    print(\"Build graph knn=1\")\n",
    "\n",
    "    graph3 = graph.higher_order(k=3, lower_order=True)\n",
    "    graph3.to_parquet(\n",
    "        data_dir + \"neigh_graphs/\" + f\"street_graph_{region_id}_knn3.parquet\"\n",
    "    )\n",
    "    print(\"Build graph knn=3\")\n",
    "\n",
    "    del streets\n",
    "    del graph\n",
    "    del graph3\n",
    "    gc.collect()"
   ]
  },
  {
   "cell_type": "code",
   "execution_count": 28,
   "id": "b7620647-7cbc-4ba3-bae6-6b5568a96a96",
   "metadata": {},
   "outputs": [],
   "source": [
    "def process_enclosure_graph(region_id):\n",
    "    ## tessellation graphs\n",
    "    inputdf = gpd.read_parquet(data_dir + f\"enclosures/enclosure_{region_id}.parquet\")\n",
    "\n",
    "    graph = Graph.build_contiguity(inputdf, rook=False).assign_self_weight()\n",
    "    graph.to_parquet(\n",
    "        data_dir + \"neigh_graphs/\" + f\"enclosure_graph_{region_id}_knn1.parquet\"\n",
    "    )\n",
    "\n",
    "    del inputdf\n",
    "    del graph\n",
    "    gc.collect()\n",
    "    print(\"Build graph knn=1\")"
   ]
  },
  {
   "cell_type": "code",
   "execution_count": 42,
   "id": "f9cf8d60-b4c8-4493-95b5-4f593567e68b",
   "metadata": {},
   "outputs": [],
   "source": [
    "def process_nodes_graph(region_id):\n",
    "    ## tessellation graphs\n",
    "    inputdf = gpd.read_parquet(data_dir + f\"streets/streets_{region_id}.parquet\")\n",
    "\n",
    "    nx_graph = mm.gdf_to_nx(streets)\n",
    "    nx_graph = mm.node_degree(nx_graph)\n",
    "    _, _, w = mm.nx_to_gdf(nx_graph, spatial_weights=True)\n",
    "\n",
    "    graph = Graph.from_W(w)\n",
    "    graph.to_parquet(\n",
    "        data_dir + \"neigh_graphs/\" + f\"nodes_graph_{region_id}_knn1.parquet\"\n",
    "    )\n",
    "    print(\"Build graph knn=1\")\n",
    "\n",
    "    graph5 = graph.higher_order(k=5, lower_order=True).assign_self_weight()\n",
    "    graph5.to_parquet(\n",
    "        data_dir + \"neigh_graphs/\" + f\"nodes_graph_{region_id}_knn5.parquet\"\n",
    "    )\n",
    "    del graph\n",
    "    del graph5\n",
    "    del inputdf\n",
    "    del nx_graph\n",
    "    gc.collect()\n",
    "    print(\"Build graph knn=5\")"
   ]
  },
  {
   "cell_type": "code",
   "execution_count": null,
   "id": "2dbbc361-030c-4ca9-8ea7-823c1ebec397",
   "metadata": {},
   "outputs": [],
   "source": []
  },
  {
   "cell_type": "code",
   "execution_count": 4,
   "id": "b744fb84-1670-466f-8f90-e4953df5b73c",
   "metadata": {},
   "outputs": [],
   "source": [
    "for region_id, region_hull in region_hulls.iterrows():\n",
    "    if region_id != 12199:\n",
    "        continue\n",
    "\n",
    "    break\n",
    "    print(\n",
    "        datetime.datetime.now(),\n",
    "        \"----Processing ------\",\n",
    "        region_id,\n",
    "    )\n",
    "    region_hull = region_hull[\"convex_hull\"]\n",
    "\n",
    "    process_tessellation_graph(region_id)\n",
    "    process_buildings_graph(region_id)\n",
    "    process_edges_graph(region_id)\n",
    "    process_enclosure_graph(region_id)\n",
    "    process_nodes_graph(region_id)"
   ]
  },
  {
   "cell_type": "code",
   "execution_count": null,
   "id": "1c31b361-6383-4398-a631-f18e8539ba42",
   "metadata": {},
   "outputs": [],
   "source": []
  },
  {
   "cell_type": "code",
   "execution_count": null,
   "id": "eccc3408-bffe-4000-b8d4-1ba10e1eecf4",
   "metadata": {},
   "outputs": [],
   "source": []
  },
  {
   "cell_type": "code",
   "execution_count": 5,
   "id": "4a11b1fc-63fd-4061-beb0-eeb9bfce3847",
   "metadata": {},
   "outputs": [],
   "source": [
    "from scipy import sparse\n",
    "\n",
    "graph = read_parquet(graph_dir + f\"tessellation_graph_{region_id}_knn1.parquet\")"
   ]
  },
  {
   "cell_type": "code",
   "execution_count": 6,
   "id": "36ab9524-02e8-48ce-9401-be329326b2cf",
   "metadata": {},
   "outputs": [],
   "source": [
    "def mem_higher_order(graph, k):\n",
    "    # find neighbour levels\n",
    "    binary = graph.transform(\"B\")\n",
    "    sp = sparse.csr_matrix(binary.sparse)\n",
    "    wk = sum(sp**x for x in range(2, k + 1))\n",
    "\n",
    "    ## extract focals and neighbours\n",
    "    ids = graph.unique_ids.values\n",
    "    sparray = wk.tocoo(copy=False)\n",
    "    sorter = sparray.row.argsort()\n",
    "    head = ids[sparray.row][sorter]\n",
    "    tail = ids[sparray.col][sorter]\n",
    "\n",
    "    # clear up memory\n",
    "    del sorter\n",
    "    del sparray\n",
    "    del wk\n",
    "    del sp\n",
    "    del graph\n",
    "    # del ids\n",
    "    del binary\n",
    "    gc.collect()\n",
    "\n",
    "    adjacency = pd.Series(\n",
    "        1,\n",
    "        index=pd.MultiIndex.from_arrays([head, tail], names=[\"focal\", \"neighbor\"]),\n",
    "        name=\"weight\",\n",
    "    )\n",
    "\n",
    "    # clear more mem\n",
    "    del head\n",
    "    del tail\n",
    "    gc.collect()\n",
    "\n",
    "    adjacency = adjacency.reindex(ids, level=1, copy=False)\n",
    "\n",
    "    return Graph(adjacency, is_sorted=True)"
   ]
  },
  {
   "cell_type": "code",
   "execution_count": null,
   "id": "85b12e84-fd2e-4bf4-817d-7fb1f0e3d56f",
   "metadata": {},
   "outputs": [],
   "source": []
  },
  {
   "cell_type": "code",
   "execution_count": null,
   "id": "ac1728b2-239b-409d-b83c-40d35d098409",
   "metadata": {},
   "outputs": [],
   "source": []
  },
  {
   "cell_type": "code",
   "execution_count": 7,
   "id": "42e9bf0f-d26b-41ed-9ee9-e58088e39efa",
   "metadata": {},
   "outputs": [],
   "source": [
    "new_g3 = mem_higher_order(graph, 3)"
   ]
  },
  {
   "cell_type": "code",
   "execution_count": 8,
   "id": "19c7fdd0-2c11-44b0-b538-748d4258ad21",
   "metadata": {},
   "outputs": [],
   "source": [
    "old_g3 = graph.higher_order(k=3, lower_order=True).assign_self_weight()"
   ]
  },
  {
   "cell_type": "code",
   "execution_count": null,
   "id": "06242b30-02ae-40bc-aff2-2d6e1723513a",
   "metadata": {},
   "outputs": [],
   "source": []
  },
  {
   "cell_type": "code",
   "execution_count": null,
   "id": "cef260b7-4b2f-4e70-bb2b-c72472829b2f",
   "metadata": {},
   "outputs": [],
   "source": []
  },
  {
   "cell_type": "code",
   "execution_count": 9,
   "id": "babf2b72-c145-4054-889d-82ba05bfc047",
   "metadata": {},
   "outputs": [],
   "source": [
    "old_g3 = np.stack(old_g3.adjacency.index)\n",
    "new_g3 = np.stack(new_g3.adjacency.index)"
   ]
  },
  {
   "cell_type": "code",
   "execution_count": 10,
   "id": "ae2b9e58-de54-4f60-b08b-fa270d4e6d58",
   "metadata": {},
   "outputs": [],
   "source": [
    "assert (old_g3 == new_g3).all()"
   ]
  },
  {
   "cell_type": "code",
   "execution_count": null,
   "id": "c6f79bfc-4604-4f93-bec4-8f74659fb938",
   "metadata": {},
   "outputs": [],
   "source": []
  },
  {
   "cell_type": "markdown",
   "id": "b12a2282-de78-4aa1-b6d7-2e6a77cbd86d",
   "metadata": {},
   "source": [
    "## generate chars"
   ]
  },
  {
   "cell_type": "code",
   "execution_count": 1,
   "id": "bea16e8c-da1c-46c4-8285-3da073e65644",
   "metadata": {},
   "outputs": [],
   "source": [
    "import datetime\n",
    "import glob\n",
    "\n",
    "import geopandas as gpd\n",
    "import numpy as np\n",
    "import pandas as pd\n",
    "from libpysal.graph import read_parquet\n",
    "\n",
    "regions_datadir = \"/data/uscuni-ulce/\"\n",
    "data_dir = \"/data/uscuni-ulce/processed_data/\"\n",
    "graph_dir = data_dir + \"neigh_graphs/\"\n",
    "eubucco_files = glob.glob(regions_datadir + \"eubucco_raw/*\")"
   ]
  },
  {
   "cell_type": "code",
   "execution_count": 2,
   "id": "3ec00dac-d3ed-4198-a105-449faeb381ef",
   "metadata": {},
   "outputs": [],
   "source": [
    "region_hulls = gpd.read_parquet(regions_datadir + \"regions/\" + \"regions_hull.parquet\")"
   ]
  },
  {
   "cell_type": "code",
   "execution_count": 3,
   "id": "115b9a8a-644b-4542-b33a-c7dddec61621",
   "metadata": {},
   "outputs": [],
   "source": [
    "for region_id, region_hull in region_hulls.iterrows():\n",
    "    if region_id < 107685:\n",
    "        continue\n",
    "\n",
    "    break"
   ]
  },
  {
   "cell_type": "code",
   "execution_count": null,
   "id": "41a1dfa3-5538-4f9e-80f1-f8d5b4525f1f",
   "metadata": {},
   "outputs": [],
   "source": []
  },
  {
   "cell_type": "code",
   "execution_count": null,
   "id": "66fb2ee8-a687-4ead-a8a8-139734b5b74b",
   "metadata": {},
   "outputs": [],
   "source": []
  },
  {
   "cell_type": "code",
   "execution_count": 4,
   "id": "6ddd4c95-511b-4b0d-831e-c89a2f80f43b",
   "metadata": {},
   "outputs": [],
   "source": [
    "graph = read_parquet(\n",
    "    data_dir + \"neigh_graphs/\" + f\"tessellation_graph_{region_id}_knn1.parquet\"\n",
    ")"
   ]
  },
  {
   "cell_type": "code",
   "execution_count": 5,
   "id": "0376b47d-f7a5-460b-a751-ac1efb86dce6",
   "metadata": {},
   "outputs": [
    {
     "data": {
      "text/plain": [
       "(3021332,)"
      ]
     },
     "execution_count": 5,
     "metadata": {},
     "output_type": "execute_result"
    }
   ],
   "source": [
    "graph.unique_ids.shape"
   ]
  },
  {
   "cell_type": "code",
   "execution_count": 6,
   "id": "2bdb65dc-c349-4734-a24b-a1782a817e1a",
   "metadata": {},
   "outputs": [],
   "source": [
    "binary = graph.transform(\"B\")"
   ]
  },
  {
   "cell_type": "code",
   "execution_count": 7,
   "id": "71b1b3da-e7f2-4bf6-a730-4a189884ce47",
   "metadata": {},
   "outputs": [],
   "source": [
    "sp = sparse.csr_matrix(binary.sparse)"
   ]
  },
  {
   "cell_type": "code",
   "execution_count": 8,
   "id": "10cf8d6a-35e6-4e7c-bc44-905f38fb811b",
   "metadata": {},
   "outputs": [],
   "source": [
    "k = 3"
   ]
  },
  {
   "cell_type": "code",
   "execution_count": 9,
   "id": "36d6c5dc-8345-4daf-85c0-3d63c4b3ab34",
   "metadata": {},
   "outputs": [],
   "source": [
    "wk = sum(sp**x for x in range(2, k + 1))"
   ]
  },
  {
   "cell_type": "code",
   "execution_count": 10,
   "id": "3ae48889-5a16-4ce5-a960-2a0f78625641",
   "metadata": {},
   "outputs": [
    {
     "name": "stdout",
     "output_type": "stream",
     "text": [
      "CPU times: user 977 ms, sys: 568 ms, total: 1.54 s\n",
      "Wall time: 1.54 s\n"
     ]
    }
   ],
   "source": [
    "%%time\n",
    "sparray = wk.tocoo(copy=False)"
   ]
  },
  {
   "cell_type": "code",
   "execution_count": 11,
   "id": "0f141247-9194-439d-9e72-15b5ca5c535c",
   "metadata": {},
   "outputs": [
    {
     "name": "stdout",
     "output_type": "stream",
     "text": [
      "CPU times: user 16.6 s, sys: 1.16 s, total: 17.7 s\n",
      "Wall time: 17.7 s\n"
     ]
    }
   ],
   "source": [
    "%%time\n",
    "sorter = sparray.row.argsort()"
   ]
  },
  {
   "cell_type": "code",
   "execution_count": 12,
   "id": "b1fe0be6-f456-4023-9b0c-1f45fd428690",
   "metadata": {},
   "outputs": [],
   "source": [
    "ids = graph.unique_ids.values"
   ]
  },
  {
   "cell_type": "code",
   "execution_count": 13,
   "id": "981e0981-1e81-48ad-80ba-c8d9599d8286",
   "metadata": {},
   "outputs": [
    {
     "name": "stdout",
     "output_type": "stream",
     "text": [
      "CPU times: user 8.86 s, sys: 3.92 s, total: 12.8 s\n",
      "Wall time: 12.8 s\n"
     ]
    }
   ],
   "source": [
    "%%time\n",
    "head = ids[sparray.row][sorter]\n",
    "tail = ids[sparray.col][sorter]"
   ]
  },
  {
   "cell_type": "code",
   "execution_count": 14,
   "id": "ee90188f-3d96-4c1b-b581-9396a9471f9e",
   "metadata": {},
   "outputs": [
    {
     "data": {
      "text/plain": [
       "69"
      ]
     },
     "execution_count": 14,
     "metadata": {},
     "output_type": "execute_result"
    }
   ],
   "source": [
    "del sorter\n",
    "del sparray\n",
    "del wk\n",
    "del sp\n",
    "del graph\n",
    "del binary\n",
    "\n",
    "gc.collect()"
   ]
  },
  {
   "cell_type": "code",
   "execution_count": null,
   "id": "85d8e60b-7ba6-4db5-bc98-7024f71edacd",
   "metadata": {},
   "outputs": [],
   "source": []
  },
  {
   "cell_type": "code",
   "execution_count": 15,
   "id": "70e738c7-8f2a-4dbf-8915-cf6614e35bdd",
   "metadata": {},
   "outputs": [
    {
     "name": "stdout",
     "output_type": "stream",
     "text": [
      "CPU times: user 16.8 s, sys: 6.11 s, total: 22.9 s\n",
      "Wall time: 22.9 s\n"
     ]
    }
   ],
   "source": [
    "%%time\n",
    "adjacency = pd.Series(\n",
    "    1,\n",
    "    index=pd.MultiIndex.from_arrays([head, tail], names=[\"focal\", \"neighbor\"]),\n",
    "    name=\"weight\",\n",
    ")"
   ]
  },
  {
   "cell_type": "code",
   "execution_count": 16,
   "id": "012a4e2d-61a6-4bb1-a819-177a05d6aca0",
   "metadata": {},
   "outputs": [
    {
     "data": {
      "text/plain": [
       "0"
      ]
     },
     "execution_count": 16,
     "metadata": {},
     "output_type": "execute_result"
    }
   ],
   "source": [
    "del head\n",
    "del tail\n",
    "gc.collect()"
   ]
  },
  {
   "cell_type": "code",
   "execution_count": 17,
   "id": "fc8a9ebc-bcda-4e06-94fe-0fa8b465a0b4",
   "metadata": {},
   "outputs": [
    {
     "name": "stdout",
     "output_type": "stream",
     "text": [
      "CPU times: user 11min 33s, sys: 23 s, total: 11min 56s\n",
      "Wall time: 11min 56s\n"
     ]
    }
   ],
   "source": [
    "%%time\n",
    "adjacency = adjacency.reindex(ids, level=1)"
   ]
  },
  {
   "cell_type": "code",
   "execution_count": null,
   "id": "8d11d669-55d1-4281-b538-97744cedb819",
   "metadata": {},
   "outputs": [],
   "source": []
  },
  {
   "cell_type": "code",
   "execution_count": 19,
   "id": "007fa46e-2d8c-4508-9305-e17a1cc0abee",
   "metadata": {},
   "outputs": [],
   "source": [
    "g = Graph(adjacency, is_sorted=True)"
   ]
  },
  {
   "cell_type": "code",
   "execution_count": null,
   "id": "bc54fcbd-6a73-4f26-8cdf-3a62f9c7fafe",
   "metadata": {},
   "outputs": [],
   "source": []
  },
  {
   "cell_type": "code",
   "execution_count": null,
   "id": "1e32d39d-13a1-4596-a5c8-75ff31269e51",
   "metadata": {},
   "outputs": [],
   "source": []
  },
  {
   "cell_type": "code",
   "execution_count": null,
   "id": "6ffea358-7712-4425-911e-985d65886f2a",
   "metadata": {},
   "outputs": [],
   "source": []
  },
  {
   "cell_type": "code",
   "execution_count": null,
   "id": "b3cc5b08-3551-4c8f-b840-29f254a4f8ee",
   "metadata": {},
   "outputs": [],
   "source": []
  },
  {
   "cell_type": "code",
   "execution_count": null,
   "id": "01b36bd5-cbc5-4391-819f-964b03fb18c8",
   "metadata": {},
   "outputs": [],
   "source": []
  },
  {
   "cell_type": "code",
   "execution_count": null,
   "id": "bcd44bc9-14f8-4ece-8893-3bd7533a9bca",
   "metadata": {},
   "outputs": [],
   "source": []
  },
  {
   "cell_type": "code",
   "execution_count": 75,
   "id": "1d3c5a93-6692-451f-abd4-11a9a8254c7c",
   "metadata": {},
   "outputs": [],
   "source": [
    "k = 3\n",
    "graph3 = mem_higher_order(graph, k)\n",
    "graph3.to_parquet(\n",
    "    data_dir + \"neigh_graphs/\" + f\"tessellation_graph_{region_id}_knn{k}.parquet\"\n",
    ")\n",
    "print(\"Built tess graph knn=\", k)"
   ]
  },
  {
   "cell_type": "code",
   "execution_count": 76,
   "id": "df02f9fd-2352-4bed-93e1-06feab1cf1bc",
   "metadata": {},
   "outputs": [],
   "source": []
  },
  {
   "cell_type": "code",
   "execution_count": null,
   "id": "e37b04a3-9aad-438f-9192-5753822af61e",
   "metadata": {},
   "outputs": [],
   "source": []
  },
  {
   "cell_type": "code",
   "execution_count": null,
   "id": "7f099541-eda5-4669-9c7e-4a6394eb2ef4",
   "metadata": {},
   "outputs": [],
   "source": []
  },
  {
   "cell_type": "code",
   "execution_count": null,
   "id": "45543ee5-35d5-48ee-9f0e-4b6b061cfb55",
   "metadata": {},
   "outputs": [],
   "source": []
  },
  {
   "cell_type": "code",
   "execution_count": 15,
   "id": "ec9cc41a-667b-479f-859d-8304ddcbcbdf",
   "metadata": {},
   "outputs": [],
   "source": [
    "buildings = gpd.read_parquet(data_dir + f\"/buildings/buildings_{region_id}.parquet\")\n",
    "streets = gpd.read_parquet(data_dir + f\"/streets/streets_{region_id}.parquet\")\n",
    "tessellation = gpd.read_parquet(\n",
    "    data_dir + f\"/tessellations/tessellation_{region_id}.parquet\"\n",
    ")\n",
    "enclosures = gpd.read_parquet(data_dir + f\"/enclosures/enclosure_{region_id}.parquet\")"
   ]
  },
  {
   "cell_type": "code",
   "execution_count": 16,
   "id": "9da379f8-3ce4-4af3-9a17-28f44aefeaa4",
   "metadata": {},
   "outputs": [],
   "source": [
    "# tess[tess.index >= 0].explore()"
   ]
  },
  {
   "cell_type": "code",
   "execution_count": 17,
   "id": "ee1c7b8b-a413-46c5-abef-9682570e3aa6",
   "metadata": {},
   "outputs": [],
   "source": [
    "# tess.explore()"
   ]
  },
  {
   "cell_type": "code",
   "execution_count": null,
   "id": "e9ad8937-cb70-4ef7-81ea-a8bb5d48ce17",
   "metadata": {},
   "outputs": [],
   "source": []
  },
  {
   "cell_type": "code",
   "execution_count": 18,
   "id": "4357000b-c2b6-42dd-9a4b-7ca93afeefad",
   "metadata": {},
   "outputs": [],
   "source": [
    "buildings_q1 = read_parquet(\n",
    "    data_dir + \"neigh_graphs/\" + f\"building_graph_{region_id}_knn1.parquet\"\n",
    ")"
   ]
  },
  {
   "cell_type": "code",
   "execution_count": null,
   "id": "7743d4f7-e536-4bc5-8f73-e799324c7817",
   "metadata": {},
   "outputs": [],
   "source": []
  },
  {
   "cell_type": "code",
   "execution_count": 19,
   "id": "e0a0a536-bb7e-4ca1-8113-5ece0fa74f8c",
   "metadata": {},
   "outputs": [
    {
     "name": "stderr",
     "output_type": "stream",
     "text": [
      "/home/krasen/momepy/momepy/functional/_shape.py:537: RuntimeWarning: invalid value encountered in arccos\n",
      "  angles = np.arccos(cosine_angle)\n",
      "/home/krasen/momepy/momepy/functional/_shape.py:537: RuntimeWarning: invalid value encountered in arccos\n",
      "  angles = np.arccos(cosine_angle)\n",
      "/home/krasen/momepy/momepy/functional/_shape.py:537: RuntimeWarning: invalid value encountered in arccos\n",
      "  angles = np.arccos(cosine_angle)\n"
     ]
    }
   ],
   "source": [
    "buildings[\"sdbAre\"] = buildings.geometry.area\n",
    "buildings[\"sdbPer\"] = buildings.geometry.length\n",
    "buildings[\"sdbCoA\"] = mm.courtyard_area(buildings.geometry)\n",
    "\n",
    "buildings[\"ssbCCo\"] = mm.circular_compactness(buildings)\n",
    "buildings[\"ssbCor\"] = mm.corners(buildings.geometry)\n",
    "buildings[\"ssbSqu\"] = mm.squareness(buildings.geometry)\n",
    "\n",
    "buildings[\"ssbERI\"] = mm.equivalent_rectangular_index(buildings.geometry)\n",
    "buildings[\"ssbElo\"] = mm.elongation(buildings.geometry)\n",
    "\n",
    "cencon = mm.centroid_corner_distance(buildings)\n",
    "buildings[\"ssbCCM\"] = cencon[\"mean\"]\n",
    "buildings[\"ssbCCD\"] = cencon[\"std\"]\n",
    "\n",
    "buildings[\"stbOri\"] = mm.orientation(buildings)\n",
    "buildings[\"mtbSWR\"] = mm.shared_walls_ratio(\n",
    "    mm.shared_walls(buildings), buildings.geometry.length\n",
    ")\n",
    "\n",
    "buildings[\"libNCo\"] = mm.courtyards(buildings, buildings_q1)\n",
    "buildings[\"ldbPWL\"] = mm.perimeter_wall(buildings, buildings_q1)"
   ]
  },
  {
   "cell_type": "code",
   "execution_count": null,
   "id": "a8c3f9c9-e571-4e44-a6da-86fe68c883e9",
   "metadata": {},
   "outputs": [],
   "source": []
  },
  {
   "cell_type": "code",
   "execution_count": 37,
   "id": "cf673d7f-ef4f-4693-8d47-0b7dc8feb778",
   "metadata": {},
   "outputs": [],
   "source": [
    "tessellation = gpd.read_parquet(\n",
    "    data_dir + f\"tessellations/tessellation_{region_id}.parquet\"\n",
    ")  #\n",
    "tessellation = tessellation[~tessellation.index.duplicated()].sort_index()"
   ]
  },
  {
   "cell_type": "code",
   "execution_count": 53,
   "id": "e4de8c23-c04f-4ffc-8a0b-4508da3e2947",
   "metadata": {},
   "outputs": [],
   "source": [
    "queen_1 = read_parquet(\n",
    "    data_dir + \"neigh_graphs/\" + f\"tessellation_graph_{region_id}_knn1.parquet\"\n",
    ")\n",
    "queen_3 = read_parquet(\n",
    "    data_dir + \"neigh_graphs/\" + f\"tessellation_graph_{region_id}_knn3.parquet\"\n",
    ")"
   ]
  },
  {
   "cell_type": "code",
   "execution_count": 39,
   "id": "b53ca724-10d1-42fe-875a-78d20cf2b6ef",
   "metadata": {},
   "outputs": [],
   "source": [
    "tessellation[\"stcOri\"] = mm.orientation(tessellation)\n",
    "tessellation[\"sdcLAL\"] = mm.longest_axis_length(tessellation)\n",
    "tessellation[\"sdcAre\"] = tessellation.geometry.area\n",
    "tessellation[\"sscCCo\"] = mm.circular_compactness(tessellation)\n",
    "tessellation[\"sscERI\"] = mm.equivalent_rectangular_index(tessellation.geometry)"
   ]
  },
  {
   "cell_type": "code",
   "execution_count": 40,
   "id": "04cc29d5-e164-47dd-bec0-96ff89d9c64b",
   "metadata": {},
   "outputs": [],
   "source": [
    "tessellation[\"mtcWNe\"] = mm.neighbors(tessellation, queen_1, weighted=True)\n",
    "tessellation[\"mdcAre\"] = mm.covered_area(tessellation.geometry.area, queen_1)"
   ]
  },
  {
   "cell_type": "code",
   "execution_count": 54,
   "id": "2cfeb707-f8ee-43ab-acb8-72e2ff4380cb",
   "metadata": {},
   "outputs": [
    {
     "ename": "ValueError",
     "evalue": "cannot set using a list-like indexer with a different length than the value",
     "output_type": "error",
     "traceback": [
      "\u001b[0;31m---------------------------------------------------------------------------\u001b[0m",
      "\u001b[0;31mValueError\u001b[0m                                Traceback (most recent call last)",
      "Cell \u001b[0;32mIn[54], line 1\u001b[0m\n\u001b[0;32m----> 1\u001b[0m tess[\u001b[38;5;124m'\u001b[39m\u001b[38;5;124mltcWRE\u001b[39m\u001b[38;5;124m'\u001b[39m] \u001b[38;5;241m=\u001b[39m \u001b[43mmm\u001b[49m\u001b[38;5;241;43m.\u001b[39;49m\u001b[43mblock_counts\u001b[49m\u001b[43m(\u001b[49m\u001b[43mtess\u001b[49m\u001b[43m[\u001b[49m\u001b[38;5;124;43m'\u001b[39;49m\u001b[38;5;124;43meID\u001b[39;49m\u001b[38;5;124;43m'\u001b[39;49m\u001b[43m]\u001b[49m\u001b[43m,\u001b[49m\u001b[43m \u001b[49m\u001b[43mqueen_3\u001b[49m\u001b[43m)\u001b[49m\n",
      "File \u001b[0;32m~/momepy/momepy/functional/_intensity.py:264\u001b[0m, in \u001b[0;36mblock_counts\u001b[0;34m(group_key, graph, areas)\u001b[0m\n\u001b[1;32m    261\u001b[0m     stats \u001b[38;5;241m=\u001b[39m graph\u001b[38;5;241m.\u001b[39mapply(group_key, \u001b[38;5;28;01mlambda\u001b[39;00m x: x\u001b[38;5;241m.\u001b[39munique()\u001b[38;5;241m.\u001b[39mshape[\u001b[38;5;241m0\u001b[39m])\n\u001b[1;32m    263\u001b[0m results \u001b[38;5;241m=\u001b[39m pd\u001b[38;5;241m.\u001b[39mSeries(np\u001b[38;5;241m.\u001b[39mnan, group_key\u001b[38;5;241m.\u001b[39mindex)\n\u001b[0;32m--> 264\u001b[0m \u001b[43mresults\u001b[49m\u001b[38;5;241;43m.\u001b[39;49m\u001b[43mloc\u001b[49m\u001b[43m[\u001b[49m\u001b[43mstats\u001b[49m\u001b[38;5;241;43m.\u001b[39;49m\u001b[43mindex\u001b[49m\u001b[38;5;241;43m.\u001b[39;49m\u001b[43mvalues\u001b[49m\u001b[43m]\u001b[49m \u001b[38;5;241m=\u001b[39m stats\u001b[38;5;241m.\u001b[39mvalues\n\u001b[1;32m    266\u001b[0m \u001b[38;5;28;01mreturn\u001b[39;00m results\n",
      "File \u001b[0;32m~/miniconda3/envs/momepy/lib/python3.12/site-packages/pandas/core/indexing.py:911\u001b[0m, in \u001b[0;36m_LocationIndexer.__setitem__\u001b[0;34m(self, key, value)\u001b[0m\n\u001b[1;32m    908\u001b[0m \u001b[38;5;28mself\u001b[39m\u001b[38;5;241m.\u001b[39m_has_valid_setitem_indexer(key)\n\u001b[1;32m    910\u001b[0m iloc \u001b[38;5;241m=\u001b[39m \u001b[38;5;28mself\u001b[39m \u001b[38;5;28;01mif\u001b[39;00m \u001b[38;5;28mself\u001b[39m\u001b[38;5;241m.\u001b[39mname \u001b[38;5;241m==\u001b[39m \u001b[38;5;124m\"\u001b[39m\u001b[38;5;124miloc\u001b[39m\u001b[38;5;124m\"\u001b[39m \u001b[38;5;28;01melse\u001b[39;00m \u001b[38;5;28mself\u001b[39m\u001b[38;5;241m.\u001b[39mobj\u001b[38;5;241m.\u001b[39miloc\n\u001b[0;32m--> 911\u001b[0m \u001b[43miloc\u001b[49m\u001b[38;5;241;43m.\u001b[39;49m\u001b[43m_setitem_with_indexer\u001b[49m\u001b[43m(\u001b[49m\u001b[43mindexer\u001b[49m\u001b[43m,\u001b[49m\u001b[43m \u001b[49m\u001b[43mvalue\u001b[49m\u001b[43m,\u001b[49m\u001b[43m \u001b[49m\u001b[38;5;28;43mself\u001b[39;49m\u001b[38;5;241;43m.\u001b[39;49m\u001b[43mname\u001b[49m\u001b[43m)\u001b[49m\n",
      "File \u001b[0;32m~/miniconda3/envs/momepy/lib/python3.12/site-packages/pandas/core/indexing.py:1944\u001b[0m, in \u001b[0;36m_iLocIndexer._setitem_with_indexer\u001b[0;34m(self, indexer, value, name)\u001b[0m\n\u001b[1;32m   1942\u001b[0m     \u001b[38;5;28mself\u001b[39m\u001b[38;5;241m.\u001b[39m_setitem_with_indexer_split_path(indexer, value, name)\n\u001b[1;32m   1943\u001b[0m \u001b[38;5;28;01melse\u001b[39;00m:\n\u001b[0;32m-> 1944\u001b[0m     \u001b[38;5;28;43mself\u001b[39;49m\u001b[38;5;241;43m.\u001b[39;49m\u001b[43m_setitem_single_block\u001b[49m\u001b[43m(\u001b[49m\u001b[43mindexer\u001b[49m\u001b[43m,\u001b[49m\u001b[43m \u001b[49m\u001b[43mvalue\u001b[49m\u001b[43m,\u001b[49m\u001b[43m \u001b[49m\u001b[43mname\u001b[49m\u001b[43m)\u001b[49m\n",
      "File \u001b[0;32m~/miniconda3/envs/momepy/lib/python3.12/site-packages/pandas/core/indexing.py:2218\u001b[0m, in \u001b[0;36m_iLocIndexer._setitem_single_block\u001b[0;34m(self, indexer, value, name)\u001b[0m\n\u001b[1;32m   2215\u001b[0m \u001b[38;5;28mself\u001b[39m\u001b[38;5;241m.\u001b[39mobj\u001b[38;5;241m.\u001b[39m_check_is_chained_assignment_possible()\n\u001b[1;32m   2217\u001b[0m \u001b[38;5;66;03m# actually do the set\u001b[39;00m\n\u001b[0;32m-> 2218\u001b[0m \u001b[38;5;28mself\u001b[39m\u001b[38;5;241m.\u001b[39mobj\u001b[38;5;241m.\u001b[39m_mgr \u001b[38;5;241m=\u001b[39m \u001b[38;5;28;43mself\u001b[39;49m\u001b[38;5;241;43m.\u001b[39;49m\u001b[43mobj\u001b[49m\u001b[38;5;241;43m.\u001b[39;49m\u001b[43m_mgr\u001b[49m\u001b[38;5;241;43m.\u001b[39;49m\u001b[43msetitem\u001b[49m\u001b[43m(\u001b[49m\u001b[43mindexer\u001b[49m\u001b[38;5;241;43m=\u001b[39;49m\u001b[43mindexer\u001b[49m\u001b[43m,\u001b[49m\u001b[43m \u001b[49m\u001b[43mvalue\u001b[49m\u001b[38;5;241;43m=\u001b[39;49m\u001b[43mvalue\u001b[49m\u001b[43m)\u001b[49m\n\u001b[1;32m   2219\u001b[0m \u001b[38;5;28mself\u001b[39m\u001b[38;5;241m.\u001b[39mobj\u001b[38;5;241m.\u001b[39m_maybe_update_cacher(clear\u001b[38;5;241m=\u001b[39m\u001b[38;5;28;01mTrue\u001b[39;00m, inplace\u001b[38;5;241m=\u001b[39m\u001b[38;5;28;01mTrue\u001b[39;00m)\n",
      "File \u001b[0;32m~/miniconda3/envs/momepy/lib/python3.12/site-packages/pandas/core/internals/managers.py:415\u001b[0m, in \u001b[0;36mBaseBlockManager.setitem\u001b[0;34m(self, indexer, value, warn)\u001b[0m\n\u001b[1;32m    411\u001b[0m     \u001b[38;5;66;03m# No need to split if we either set all columns or on a single block\u001b[39;00m\n\u001b[1;32m    412\u001b[0m     \u001b[38;5;66;03m# manager\u001b[39;00m\n\u001b[1;32m    413\u001b[0m     \u001b[38;5;28mself\u001b[39m \u001b[38;5;241m=\u001b[39m \u001b[38;5;28mself\u001b[39m\u001b[38;5;241m.\u001b[39mcopy()\n\u001b[0;32m--> 415\u001b[0m \u001b[38;5;28;01mreturn\u001b[39;00m \u001b[38;5;28;43mself\u001b[39;49m\u001b[38;5;241;43m.\u001b[39;49m\u001b[43mapply\u001b[49m\u001b[43m(\u001b[49m\u001b[38;5;124;43m\"\u001b[39;49m\u001b[38;5;124;43msetitem\u001b[39;49m\u001b[38;5;124;43m\"\u001b[39;49m\u001b[43m,\u001b[49m\u001b[43m \u001b[49m\u001b[43mindexer\u001b[49m\u001b[38;5;241;43m=\u001b[39;49m\u001b[43mindexer\u001b[49m\u001b[43m,\u001b[49m\u001b[43m \u001b[49m\u001b[43mvalue\u001b[49m\u001b[38;5;241;43m=\u001b[39;49m\u001b[43mvalue\u001b[49m\u001b[43m)\u001b[49m\n",
      "File \u001b[0;32m~/miniconda3/envs/momepy/lib/python3.12/site-packages/pandas/core/internals/managers.py:363\u001b[0m, in \u001b[0;36mBaseBlockManager.apply\u001b[0;34m(self, f, align_keys, **kwargs)\u001b[0m\n\u001b[1;32m    361\u001b[0m         applied \u001b[38;5;241m=\u001b[39m b\u001b[38;5;241m.\u001b[39mapply(f, \u001b[38;5;241m*\u001b[39m\u001b[38;5;241m*\u001b[39mkwargs)\n\u001b[1;32m    362\u001b[0m     \u001b[38;5;28;01melse\u001b[39;00m:\n\u001b[0;32m--> 363\u001b[0m         applied \u001b[38;5;241m=\u001b[39m \u001b[38;5;28;43mgetattr\u001b[39;49m\u001b[43m(\u001b[49m\u001b[43mb\u001b[49m\u001b[43m,\u001b[49m\u001b[43m \u001b[49m\u001b[43mf\u001b[49m\u001b[43m)\u001b[49m\u001b[43m(\u001b[49m\u001b[38;5;241;43m*\u001b[39;49m\u001b[38;5;241;43m*\u001b[39;49m\u001b[43mkwargs\u001b[49m\u001b[43m)\u001b[49m\n\u001b[1;32m    364\u001b[0m     result_blocks \u001b[38;5;241m=\u001b[39m extend_blocks(applied, result_blocks)\n\u001b[1;32m    366\u001b[0m out \u001b[38;5;241m=\u001b[39m \u001b[38;5;28mtype\u001b[39m(\u001b[38;5;28mself\u001b[39m)\u001b[38;5;241m.\u001b[39mfrom_blocks(result_blocks, \u001b[38;5;28mself\u001b[39m\u001b[38;5;241m.\u001b[39maxes)\n",
      "File \u001b[0;32m~/miniconda3/envs/momepy/lib/python3.12/site-packages/pandas/core/internals/blocks.py:1403\u001b[0m, in \u001b[0;36mBlock.setitem\u001b[0;34m(self, indexer, value, using_cow)\u001b[0m\n\u001b[1;32m   1400\u001b[0m     values \u001b[38;5;241m=\u001b[39m values\u001b[38;5;241m.\u001b[39mT\n\u001b[1;32m   1402\u001b[0m \u001b[38;5;66;03m# length checking\u001b[39;00m\n\u001b[0;32m-> 1403\u001b[0m \u001b[43mcheck_setitem_lengths\u001b[49m\u001b[43m(\u001b[49m\u001b[43mindexer\u001b[49m\u001b[43m,\u001b[49m\u001b[43m \u001b[49m\u001b[43mvalue\u001b[49m\u001b[43m,\u001b[49m\u001b[43m \u001b[49m\u001b[43mvalues\u001b[49m\u001b[43m)\u001b[49m\n\u001b[1;32m   1405\u001b[0m \u001b[38;5;28;01mif\u001b[39;00m \u001b[38;5;28mself\u001b[39m\u001b[38;5;241m.\u001b[39mdtype \u001b[38;5;241m!=\u001b[39m _dtype_obj:\n\u001b[1;32m   1406\u001b[0m     \u001b[38;5;66;03m# GH48933: extract_array would convert a pd.Series value to np.ndarray\u001b[39;00m\n\u001b[1;32m   1407\u001b[0m     value \u001b[38;5;241m=\u001b[39m extract_array(value, extract_numpy\u001b[38;5;241m=\u001b[39m\u001b[38;5;28;01mTrue\u001b[39;00m)\n",
      "File \u001b[0;32m~/miniconda3/envs/momepy/lib/python3.12/site-packages/pandas/core/indexers/utils.py:166\u001b[0m, in \u001b[0;36mcheck_setitem_lengths\u001b[0;34m(indexer, value, values)\u001b[0m\n\u001b[1;32m    160\u001b[0m         indexer \u001b[38;5;241m=\u001b[39m np\u001b[38;5;241m.\u001b[39marray(indexer)\n\u001b[1;32m    161\u001b[0m     \u001b[38;5;28;01mif\u001b[39;00m \u001b[38;5;129;01mnot\u001b[39;00m (\n\u001b[1;32m    162\u001b[0m         \u001b[38;5;28misinstance\u001b[39m(indexer, np\u001b[38;5;241m.\u001b[39mndarray)\n\u001b[1;32m    163\u001b[0m         \u001b[38;5;129;01mand\u001b[39;00m indexer\u001b[38;5;241m.\u001b[39mdtype \u001b[38;5;241m==\u001b[39m np\u001b[38;5;241m.\u001b[39mbool_\n\u001b[1;32m    164\u001b[0m         \u001b[38;5;129;01mand\u001b[39;00m indexer\u001b[38;5;241m.\u001b[39msum() \u001b[38;5;241m==\u001b[39m \u001b[38;5;28mlen\u001b[39m(value)\n\u001b[1;32m    165\u001b[0m     ):\n\u001b[0;32m--> 166\u001b[0m         \u001b[38;5;28;01mraise\u001b[39;00m \u001b[38;5;167;01mValueError\u001b[39;00m(\n\u001b[1;32m    167\u001b[0m             \u001b[38;5;124m\"\u001b[39m\u001b[38;5;124mcannot set using a list-like indexer \u001b[39m\u001b[38;5;124m\"\u001b[39m\n\u001b[1;32m    168\u001b[0m             \u001b[38;5;124m\"\u001b[39m\u001b[38;5;124mwith a different length than the value\u001b[39m\u001b[38;5;124m\"\u001b[39m\n\u001b[1;32m    169\u001b[0m         )\n\u001b[1;32m    170\u001b[0m \u001b[38;5;28;01mif\u001b[39;00m \u001b[38;5;129;01mnot\u001b[39;00m \u001b[38;5;28mlen\u001b[39m(indexer):\n\u001b[1;32m    171\u001b[0m     no_op \u001b[38;5;241m=\u001b[39m \u001b[38;5;28;01mTrue\u001b[39;00m\n",
      "\u001b[0;31mValueError\u001b[0m: cannot set using a list-like indexer with a different length than the value"
     ]
    }
   ],
   "source": [
    "tess[\"ltcWRE\"] = mm.block_counts(tess[\"eID\"], queen_3)"
   ]
  },
  {
   "cell_type": "code",
   "execution_count": null,
   "id": "ecc1f893-2194-4d68-a5b2-3d666b042c94",
   "metadata": {},
   "outputs": [],
   "source": []
  },
  {
   "cell_type": "code",
   "execution_count": 42,
   "id": "31d08b64-98ce-43f4-b2d4-9f264286f57b",
   "metadata": {},
   "outputs": [],
   "source": [
    "enclosures = gpd.read_parquet(data_dir + f\"enclosures/enclosure_{region_id}.parquet\")"
   ]
  },
  {
   "cell_type": "code",
   "execution_count": 43,
   "id": "a8a5870f-202a-42e3-81f9-97226da90e4f",
   "metadata": {},
   "outputs": [],
   "source": [
    "blo_q1 = read_parquet(\n",
    "    data_dir + \"neigh_graphs/\" + f\"enclosure_graph_{region_id}_knn1.parquet\"\n",
    ")"
   ]
  },
  {
   "cell_type": "code",
   "execution_count": 44,
   "id": "585b69a3-f013-4660-9f89-d955c20d58cb",
   "metadata": {},
   "outputs": [],
   "source": [
    "enclosures[\"ldeAre\"] = enclosures.area\n",
    "enclosures[\"ldePer\"] = enclosures.length\n",
    "enclosures[\"lseCCo\"] = mm.circular_compactness(enclosures)\n",
    "enclosures[\"lseERI\"] = mm.equivalent_rectangular_index(enclosures)\n",
    "enclosures[\"lseCWA\"] = mm.compactness_weighted_axis(enclosures.geometry)\n",
    "enclosures[\"lteOri\"] = mm.orientation(enclosures)"
   ]
  },
  {
   "cell_type": "code",
   "execution_count": 45,
   "id": "578c3e78-0f40-425c-9302-a13d25c28fa6",
   "metadata": {},
   "outputs": [],
   "source": [
    "### thats mm.block_counts...\n",
    "inp, res = enclosures.sindex.query(enclosures.geometry, predicate=\"intersects\")\n",
    "indices, counts = np.unique(inp, return_counts=True)\n",
    "enclosures[\"neighbors\"] = counts - 1\n",
    "enclosures[\"lteWNB\"] = enclosures[\"neighbors\"] / enclosures[\"ldePer\"]"
   ]
  },
  {
   "cell_type": "code",
   "execution_count": null,
   "id": "b80755b1-52ca-4e0c-b364-d7dd944cfc51",
   "metadata": {},
   "outputs": [],
   "source": []
  },
  {
   "cell_type": "code",
   "execution_count": 52,
   "id": "f2a734fd-e706-480a-9b87-0dba99b9faa1",
   "metadata": {},
   "outputs": [
    {
     "ename": "NameError",
     "evalue": "name 'queen_3' is not defined",
     "output_type": "error",
     "traceback": [
      "\u001b[0;31m---------------------------------------------------------------------------\u001b[0m",
      "\u001b[0;31mNameError\u001b[0m                                 Traceback (most recent call last)",
      "Cell \u001b[0;32mIn[52], line 1\u001b[0m\n\u001b[0;32m----> 1\u001b[0m tess[\u001b[38;5;124m'\u001b[39m\u001b[38;5;124mltcWRE\u001b[39m\u001b[38;5;124m'\u001b[39m] \u001b[38;5;241m=\u001b[39m mm\u001b[38;5;241m.\u001b[39mblock_counts(tess[\u001b[38;5;124m'\u001b[39m\u001b[38;5;124meID\u001b[39m\u001b[38;5;124m'\u001b[39m], \u001b[43mqueen_3\u001b[49m)\n",
      "\u001b[0;31mNameError\u001b[0m: name 'queen_3' is not defined"
     ]
    }
   ],
   "source": []
  },
  {
   "cell_type": "code",
   "execution_count": null,
   "id": "27d899df-e103-42b2-a79a-405e049edef7",
   "metadata": {},
   "outputs": [],
   "source": []
  },
  {
   "cell_type": "code",
   "execution_count": null,
   "id": "d956071e-18eb-4dad-b600-2dddbd69f001",
   "metadata": {},
   "outputs": [],
   "source": []
  },
  {
   "cell_type": "code",
   "execution_count": null,
   "id": "802b610b-67a0-4754-9856-d74c8c9b39ae",
   "metadata": {},
   "outputs": [],
   "source": []
  },
  {
   "cell_type": "code",
   "execution_count": null,
   "id": "942ceec8-2151-4256-9f17-cb57a52c7078",
   "metadata": {},
   "outputs": [],
   "source": []
  },
  {
   "cell_type": "code",
   "execution_count": null,
   "id": "14e0891c-190a-4cfa-91c1-47453700d2b1",
   "metadata": {},
   "outputs": [],
   "source": []
  },
  {
   "cell_type": "code",
   "execution_count": null,
   "id": "089724ac-48d6-44f4-ac9d-509da59fafa1",
   "metadata": {},
   "outputs": [],
   "source": [
    "streets = gpd.read_parquet()"
   ]
  },
  {
   "cell_type": "code",
   "execution_count": 32,
   "id": "e2866c00-bf5f-4536-9db4-d8e53a35537f",
   "metadata": {},
   "outputs": [
    {
     "name": "stdout",
     "output_type": "stream",
     "text": [
      "CPU times: user 27.8 s, sys: 388 ms, total: 28.2 s\n",
      "Wall time: 28 s\n"
     ]
    }
   ],
   "source": [
    "%%time\n",
    "graph = mm.gdf_to_nx(streets)"
   ]
  },
  {
   "cell_type": "code",
   "execution_count": 33,
   "id": "428d1d69-10db-43d0-94b2-c50a0e19e8b0",
   "metadata": {},
   "outputs": [
    {
     "name": "stdout",
     "output_type": "stream",
     "text": [
      "CPU times: user 10.8 s, sys: 180 ms, total: 11 s\n",
      "Wall time: 11 s\n"
     ]
    }
   ],
   "source": [
    "%%time\n",
    "graph = mm.node_degree(graph)"
   ]
  },
  {
   "cell_type": "code",
   "execution_count": 34,
   "id": "08bcdf35-5c21-4e9f-b7c7-cf85f4ae5ada",
   "metadata": {},
   "outputs": [
    {
     "name": "stdout",
     "output_type": "stream",
     "text": [
      "CPU times: user 3min 46s, sys: 225 ms, total: 3min 47s\n",
      "Wall time: 3min 46s\n"
     ]
    }
   ],
   "source": [
    "%%time\n",
    "graph = mm.subgraph(\n",
    "    graph,\n",
    "    radius=5,\n",
    "    meshedness=True,\n",
    "    cds_length=False,\n",
    "    mode=\"sum\",\n",
    "    degree=\"degree\",\n",
    "    length=\"mm_len\",\n",
    "    mean_node_degree=False,\n",
    "    proportion={0: True, 3: True, 4: True},\n",
    "    cyclomatic=False,\n",
    "    edge_node_ratio=False,\n",
    "    gamma=False,\n",
    "    local_closeness=True,\n",
    "    closeness_weight=\"mm_len\",\n",
    "    verbose=False,\n",
    ")"
   ]
  },
  {
   "cell_type": "code",
   "execution_count": 35,
   "id": "0468bb40-e1a2-4d12-869b-5a42ee725c56",
   "metadata": {},
   "outputs": [
    {
     "name": "stdout",
     "output_type": "stream",
     "text": [
      "CPU times: user 2min 1s, sys: 260 ms, total: 2min 2s\n",
      "Wall time: 2min 1s\n"
     ]
    }
   ],
   "source": [
    "%%time\n",
    "graph = mm.cds_length(graph, radius=3, name=\"ldsCDL\", verbose=False)"
   ]
  },
  {
   "cell_type": "code",
   "execution_count": 36,
   "id": "800aab81-9d2e-4806-b57c-77cf2c5462cc",
   "metadata": {},
   "outputs": [
    {
     "name": "stdout",
     "output_type": "stream",
     "text": [
      "CPU times: user 13.9 s, sys: 39.6 ms, total: 14 s\n",
      "Wall time: 14 s\n"
     ]
    }
   ],
   "source": [
    "%%time\n",
    "graph = mm.clustering(graph, name=\"xcnSCl\")"
   ]
  },
  {
   "cell_type": "code",
   "execution_count": 37,
   "id": "ebf6fb52-53ca-43b2-b3c1-c22c955aa7fe",
   "metadata": {},
   "outputs": [
    {
     "name": "stdout",
     "output_type": "stream",
     "text": [
      "CPU times: user 19.9 s, sys: 344 ms, total: 20.3 s\n",
      "Wall time: 20.3 s\n"
     ]
    }
   ],
   "source": [
    "%%time\n",
    "graph = mm.mean_node_dist(graph, name=\"mtdMDi\", verbose=False)"
   ]
  },
  {
   "cell_type": "code",
   "execution_count": 38,
   "id": "1e9a0f67-417c-4121-b189-b916a8ffda6a",
   "metadata": {},
   "outputs": [
    {
     "name": "stderr",
     "output_type": "stream",
     "text": [
      "/home/krasen/miniconda3/envs/momepy/lib/python3.12/site-packages/libpysal/weights/weights.py:1685: UserWarning: The weights matrix is not fully connected: \n",
      " There are 600063 disconnected components.\n",
      "  w = W(neighbors, weights, ids, silence_warnings=silence_warnings)\n"
     ]
    },
    {
     "name": "stdout",
     "output_type": "stream",
     "text": [
      "CPU times: user 26.9 s, sys: 12.4 ms, total: 26.9 s\n",
      "Wall time: 26.9 s\n"
     ]
    }
   ],
   "source": [
    "%%time\n",
    "nodes, edges, sw = mm.nx_to_gdf(graph, spatial_weights=True)"
   ]
  },
  {
   "cell_type": "code",
   "execution_count": null,
   "id": "ef0d5dac-63b4-480e-9617-3e6ff47d14ae",
   "metadata": {},
   "outputs": [],
   "source": [
    "# get node id\n",
    "%time links = momepy.get_network_ratio(tess, edges)\n",
    "tess[[\"edgeID_keys2\", \"edgeID_values2\"]] = links\n",
    "%time tess['nodeID'] = momepy.get_node_id(tess, nodes, edges, node_id='nodeID', edge_keys='edgeID_keys2', edge_values='edgeID_values2')"
   ]
  },
  {
   "cell_type": "code",
   "execution_count": null,
   "id": "f181e3d3-08b6-40cd-b6af-4ed47fb6e013",
   "metadata": {},
   "outputs": [],
   "source": [
    "%%time\n",
    "nodes[\"sddAre\"] = momepy.Reached(\n",
    "    nodes, tess, \"nodeID\", \"nodeID\", mode=\"sum\", values=\"sdcAre\"\n",
    ").series"
   ]
  },
  {
   "cell_type": "code",
   "execution_count": null,
   "id": "656779b2-7a79-4046-a6e1-c77d77dd1c15",
   "metadata": {},
   "outputs": [],
   "source": []
  },
  {
   "cell_type": "code",
   "execution_count": null,
   "id": "f501032d-b279-4f88-9d9c-051c0a29167e",
   "metadata": {},
   "outputs": [],
   "source": []
  },
  {
   "cell_type": "code",
   "execution_count": null,
   "id": "3dba1c24-e932-495b-8aa4-5349d54461e7",
   "metadata": {},
   "outputs": [],
   "source": []
  },
  {
   "cell_type": "code",
   "execution_count": null,
   "id": "b57b54d7-a924-483f-816c-5f7d4e1efe95",
   "metadata": {},
   "outputs": [],
   "source": []
  },
  {
   "cell_type": "code",
   "execution_count": null,
   "id": "69ca8114-7345-4a5b-8231-e16194af3757",
   "metadata": {},
   "outputs": [],
   "source": []
  },
  {
   "cell_type": "code",
   "execution_count": 10,
   "id": "02a49044-00a2-4218-8ed5-269a60a9a6d1",
   "metadata": {
    "scrolled": true
   },
   "outputs": [
    {
     "name": "stdout",
     "output_type": "stream",
     "text": [
      "/data/uscuni-ulce/tesselations/tesselation_1554.parquet 3\n",
      "/data/uscuni-ulce/tesselations/tesselation_13224.parquet 4\n",
      "/data/uscuni-ulce/tesselations/tesselation_32541.parquet 4\n",
      "/data/uscuni-ulce/tesselations/tesselation_100115.parquet 81\n",
      "/data/uscuni-ulce/tesselations/tesselation_120665.parquet 12\n",
      "/data/uscuni-ulce/tesselations/tesselation_99170.parquet 13\n",
      "/data/uscuni-ulce/tesselations/tesselation_37812.parquet 9\n",
      "/data/uscuni-ulce/tesselations/tesselation_104389.parquet 23\n",
      "/data/uscuni-ulce/tesselations/tesselation_8191.parquet 3\n",
      "/data/uscuni-ulce/tesselations/tesselation_108009.parquet 6\n",
      "/data/uscuni-ulce/tesselations/tesselation_42925.parquet 6\n",
      "/data/uscuni-ulce/tesselations/tesselation_8754.parquet 210\n",
      "/data/uscuni-ulce/tesselations/tesselation_35468.parquet 3\n",
      "/data/uscuni-ulce/tesselations/tesselation_113651.parquet 42\n",
      "/data/uscuni-ulce/tesselations/tesselation_46214.parquet 31\n",
      "/data/uscuni-ulce/tesselations/tesselation_56119.parquet 10\n",
      "/data/uscuni-ulce/tesselations/tesselation_5287.parquet 4\n",
      "/data/uscuni-ulce/tesselations/tesselation_113224.parquet 19\n",
      "/data/uscuni-ulce/tesselations/tesselation_116071.parquet 1\n",
      "/data/uscuni-ulce/tesselations/tesselation_8886.parquet 1\n",
      "/data/uscuni-ulce/tesselations/tesselation_6370.parquet 26\n",
      "/data/uscuni-ulce/tesselations/tesselation_105945.parquet 10\n",
      "/data/uscuni-ulce/tesselations/tesselation_53726.parquet 28\n",
      "/data/uscuni-ulce/tesselations/tesselation_226.parquet 2695\n",
      "/data/uscuni-ulce/tesselations/tesselation_136678.parquet 15\n",
      "/data/uscuni-ulce/tesselations/tesselation_32935.parquet 16\n",
      "/data/uscuni-ulce/tesselations/tesselation_14040.parquet 4\n",
      "/data/uscuni-ulce/tesselations/tesselation_499.parquet 19\n",
      "/data/uscuni-ulce/tesselations/tesselation_53731.parquet 12\n",
      "/data/uscuni-ulce/tesselations/tesselation_26949.parquet 24\n",
      "/data/uscuni-ulce/tesselations/tesselation_20544.parquet 132\n",
      "/data/uscuni-ulce/tesselations/tesselation_52843.parquet 141\n",
      "/data/uscuni-ulce/tesselations/tesselation_121634.parquet 18\n",
      "/data/uscuni-ulce/tesselations/tesselation_73491.parquet 11\n",
      "/data/uscuni-ulce/tesselations/tesselation_103187.parquet 14\n",
      "/data/uscuni-ulce/tesselations/tesselation_104125.parquet 26\n",
      "/data/uscuni-ulce/tesselations/tesselation_75543.parquet 19\n",
      "/data/uscuni-ulce/tesselations/tesselation_106693.parquet 9\n",
      "/data/uscuni-ulce/tesselations/tesselation_121259.parquet 10\n",
      "/data/uscuni-ulce/tesselations/tesselation_109745.parquet 9\n",
      "/data/uscuni-ulce/tesselations/tesselation_6452.parquet 4\n",
      "/data/uscuni-ulce/tesselations/tesselation_104341.parquet 14\n",
      "/data/uscuni-ulce/tesselations/tesselation_70005.parquet 30\n",
      "/data/uscuni-ulce/tesselations/tesselation_54816.parquet 11\n",
      "/data/uscuni-ulce/tesselations/tesselation_29406.parquet 3\n",
      "/data/uscuni-ulce/tesselations/tesselation_105899.parquet 19\n",
      "/data/uscuni-ulce/tesselations/tesselation_22000.parquet 6\n",
      "/data/uscuni-ulce/tesselations/tesselation_7927.parquet 67\n",
      "/data/uscuni-ulce/tesselations/tesselation_31138.parquet 51\n",
      "/data/uscuni-ulce/tesselations/tesselation_1916.parquet 2\n",
      "/data/uscuni-ulce/tesselations/tesselation_106909.parquet 3\n",
      "/data/uscuni-ulce/tesselations/tesselation_67448.parquet 18\n",
      "/data/uscuni-ulce/tesselations/tesselation_102355.parquet 3\n",
      "/data/uscuni-ulce/tesselations/tesselation_8645.parquet 3\n",
      "/data/uscuni-ulce/tesselations/tesselation_139433.parquet 18\n",
      "/data/uscuni-ulce/tesselations/tesselation_52440.parquet 1\n",
      "/data/uscuni-ulce/tesselations/tesselation_34617.parquet 2\n",
      "/data/uscuni-ulce/tesselations/tesselation_12578.parquet 4\n",
      "/data/uscuni-ulce/tesselations/tesselation_8882.parquet 3\n",
      "/data/uscuni-ulce/tesselations/tesselation_114871.parquet 15\n",
      "/data/uscuni-ulce/tesselations/tesselation_6880.parquet 8\n",
      "/data/uscuni-ulce/tesselations/tesselation_17140.parquet 105\n",
      "/data/uscuni-ulce/tesselations/tesselation_16501.parquet 558\n",
      "/data/uscuni-ulce/tesselations/tesselation_12191.parquet 9\n",
      "/data/uscuni-ulce/tesselations/tesselation_17466.parquet 3\n",
      "/data/uscuni-ulce/tesselations/tesselation_71745.parquet 14\n",
      "/data/uscuni-ulce/tesselations/tesselation_742.parquet 65\n",
      "/data/uscuni-ulce/tesselations/tesselation_84247.parquet 18\n",
      "/data/uscuni-ulce/tesselations/tesselation_23167.parquet 7\n",
      "/data/uscuni-ulce/tesselations/tesselation_112869.parquet 2\n",
      "/data/uscuni-ulce/tesselations/tesselation_10740.parquet 17\n",
      "/data/uscuni-ulce/tesselations/tesselation_61193.parquet 48\n",
      "/data/uscuni-ulce/tesselations/tesselation_7538.parquet 0\n",
      "/data/uscuni-ulce/tesselations/tesselation_68356.parquet 6\n",
      "/data/uscuni-ulce/tesselations/tesselation_6072.parquet 6\n",
      "/data/uscuni-ulce/tesselations/tesselation_124399.parquet 14\n",
      "/data/uscuni-ulce/tesselations/tesselation_12993.parquet 10\n",
      "/data/uscuni-ulce/tesselations/tesselation_15504.parquet 41\n",
      "/data/uscuni-ulce/tesselations/tesselation_45161.parquet 11\n",
      "/data/uscuni-ulce/tesselations/tesselation_65009.parquet 7\n",
      "/data/uscuni-ulce/tesselations/tesselation_3328.parquet 4\n",
      "/data/uscuni-ulce/tesselations/tesselation_80338.parquet 289\n",
      "/data/uscuni-ulce/tesselations/tesselation_127978.parquet 24\n",
      "/data/uscuni-ulce/tesselations/tesselation_98802.parquet 20\n",
      "/data/uscuni-ulce/tesselations/tesselation_82013.parquet 22\n",
      "/data/uscuni-ulce/tesselations/tesselation_13175.parquet 11\n",
      "/data/uscuni-ulce/tesselations/tesselation_101770.parquet 50\n",
      "/data/uscuni-ulce/tesselations/tesselation_13472.parquet 26\n",
      "/data/uscuni-ulce/tesselations/tesselation_55713.parquet 407\n",
      "/data/uscuni-ulce/tesselations/tesselation_7313.parquet 6\n",
      "/data/uscuni-ulce/tesselations/tesselation_45355.parquet 11\n",
      "/data/uscuni-ulce/tesselations/tesselation_86810.parquet 314\n",
      "/data/uscuni-ulce/tesselations/tesselation_119090.parquet 14\n",
      "/data/uscuni-ulce/tesselations/tesselation_110051.parquet 20\n",
      "/data/uscuni-ulce/tesselations/tesselation_77369.parquet 21\n",
      "/data/uscuni-ulce/tesselations/tesselation_62411.parquet 21\n",
      "/data/uscuni-ulce/tesselations/tesselation_57697.parquet 14\n",
      "/data/uscuni-ulce/tesselations/tesselation_41955.parquet 15\n",
      "/data/uscuni-ulce/tesselations/tesselation_98106.parquet 10\n",
      "/data/uscuni-ulce/tesselations/tesselation_57623.parquet 12\n",
      "/data/uscuni-ulce/tesselations/tesselation_100620.parquet 11\n",
      "/data/uscuni-ulce/tesselations/tesselation_11415.parquet 14\n",
      "/data/uscuni-ulce/tesselations/tesselation_15618.parquet 13\n",
      "/data/uscuni-ulce/tesselations/tesselation_11482.parquet 3\n",
      "/data/uscuni-ulce/tesselations/tesselation_7763.parquet 6\n",
      "/data/uscuni-ulce/tesselations/tesselation_22763.parquet 6\n",
      "/data/uscuni-ulce/tesselations/tesselation_128583.parquet 7\n",
      "/data/uscuni-ulce/tesselations/tesselation_13637.parquet 12\n",
      "/data/uscuni-ulce/tesselations/tesselation_48762.parquet 7\n",
      "/data/uscuni-ulce/tesselations/tesselation_3507.parquet 6\n",
      "/data/uscuni-ulce/tesselations/tesselation_86815.parquet 27\n",
      "/data/uscuni-ulce/tesselations/tesselation_17987.parquet 11\n",
      "/data/uscuni-ulce/tesselations/tesselation_29116.parquet 13\n",
      "/data/uscuni-ulce/tesselations/tesselation_16026.parquet 33\n",
      "/data/uscuni-ulce/tesselations/tesselation_103210.parquet 19\n",
      "/data/uscuni-ulce/tesselations/tesselation_15854.parquet 5\n",
      "/data/uscuni-ulce/tesselations/tesselation_1623.parquet 7\n",
      "/data/uscuni-ulce/tesselations/tesselation_16486.parquet 21\n",
      "/data/uscuni-ulce/tesselations/tesselation_38416.parquet 12\n",
      "/data/uscuni-ulce/tesselations/tesselation_36545.parquet 4\n",
      "/data/uscuni-ulce/tesselations/tesselation_17350.parquet 3\n",
      "/data/uscuni-ulce/tesselations/tesselation_104016.parquet 50\n",
      "/data/uscuni-ulce/tesselations/tesselation_117473.parquet 6\n",
      "/data/uscuni-ulce/tesselations/tesselation_15025.parquet 5\n",
      "/data/uscuni-ulce/tesselations/tesselation_13750.parquet 10\n",
      "/data/uscuni-ulce/tesselations/tesselation_36763.parquet 5\n",
      "/data/uscuni-ulce/tesselations/tesselation_12305.parquet 7\n",
      "/data/uscuni-ulce/tesselations/tesselation_139662.parquet 24\n",
      "/data/uscuni-ulce/tesselations/tesselation_49473.parquet 2\n",
      "/data/uscuni-ulce/tesselations/tesselation_47318.parquet 2\n",
      "/data/uscuni-ulce/tesselations/tesselation_109370.parquet 31\n",
      "/data/uscuni-ulce/tesselations/tesselation_91536.parquet 37\n",
      "/data/uscuni-ulce/tesselations/tesselation_8398.parquet 16\n",
      "/data/uscuni-ulce/tesselations/tesselation_111598.parquet 24\n",
      "/data/uscuni-ulce/tesselations/tesselation_13146.parquet 21\n",
      "/data/uscuni-ulce/tesselations/tesselation_53459.parquet 10\n",
      "/data/uscuni-ulce/tesselations/tesselation_1114.parquet 63\n",
      "/data/uscuni-ulce/tesselations/tesselation_65748.parquet 17\n",
      "/data/uscuni-ulce/tesselations/tesselation_35900.parquet 12\n",
      "/data/uscuni-ulce/tesselations/tesselation_110409.parquet 550\n",
      "/data/uscuni-ulce/tesselations/tesselation_29671.parquet 24\n",
      "/data/uscuni-ulce/tesselations/tesselation_23810.parquet 3\n",
      "/data/uscuni-ulce/tesselations/tesselation_87557.parquet 22\n",
      "/data/uscuni-ulce/tesselations/tesselation_102887.parquet 2\n",
      "/data/uscuni-ulce/tesselations/tesselation_43341.parquet 5\n",
      "/data/uscuni-ulce/tesselations/tesselation_130925.parquet 50\n",
      "/data/uscuni-ulce/tesselations/tesselation_105606.parquet 18\n",
      "/data/uscuni-ulce/tesselations/tesselation_88888.parquet 17\n",
      "/data/uscuni-ulce/tesselations/tesselation_26079.parquet 4\n",
      "/data/uscuni-ulce/tesselations/tesselation_75373.parquet 172\n",
      "/data/uscuni-ulce/tesselations/tesselation_110933.parquet 7\n",
      "/data/uscuni-ulce/tesselations/tesselation_88905.parquet 11\n",
      "/data/uscuni-ulce/tesselations/tesselation_33453.parquet 4\n",
      "/data/uscuni-ulce/tesselations/tesselation_23336.parquet 2\n",
      "/data/uscuni-ulce/tesselations/tesselation_50774.parquet 17\n",
      "/data/uscuni-ulce/tesselations/tesselation_87327.parquet 48\n",
      "/data/uscuni-ulce/tesselations/tesselation_6810.parquet 3\n",
      "/data/uscuni-ulce/tesselations/tesselation_92186.parquet 19\n",
      "/data/uscuni-ulce/tesselations/tesselation_38318.parquet 9\n",
      "/data/uscuni-ulce/tesselations/tesselation_68191.parquet 60\n",
      "/data/uscuni-ulce/tesselations/tesselation_15195.parquet 1\n",
      "/data/uscuni-ulce/tesselations/tesselation_48485.parquet 23\n",
      "/data/uscuni-ulce/tesselations/tesselation_15264.parquet 2\n",
      "/data/uscuni-ulce/tesselations/tesselation_110144.parquet 18\n",
      "/data/uscuni-ulce/tesselations/tesselation_19143.parquet 8\n",
      "/data/uscuni-ulce/tesselations/tesselation_70016.parquet 9\n",
      "/data/uscuni-ulce/tesselations/tesselation_66000.parquet 13\n",
      "/data/uscuni-ulce/tesselations/tesselation_131903.parquet 8\n",
      "/data/uscuni-ulce/tesselations/tesselation_111621.parquet 159\n",
      "/data/uscuni-ulce/tesselations/tesselation_11568.parquet 2\n",
      "/data/uscuni-ulce/tesselations/tesselation_61198.parquet 28\n",
      "/data/uscuni-ulce/tesselations/tesselation_40907.parquet 18\n",
      "/data/uscuni-ulce/tesselations/tesselation_100660.parquet 79\n",
      "/data/uscuni-ulce/tesselations/tesselation_40114.parquet 18\n",
      "/data/uscuni-ulce/tesselations/tesselation_10275.parquet 2\n",
      "/data/uscuni-ulce/tesselations/tesselation_132987.parquet 13\n",
      "/data/uscuni-ulce/tesselations/tesselation_131275.parquet 29\n",
      "/data/uscuni-ulce/tesselations/tesselation_12918.parquet 31\n",
      "/data/uscuni-ulce/tesselations/tesselation_34561.parquet 3\n",
      "/data/uscuni-ulce/tesselations/tesselation_110692.parquet 36\n",
      "/data/uscuni-ulce/tesselations/tesselation_67297.parquet 12\n",
      "/data/uscuni-ulce/tesselations/tesselation_7367.parquet 16\n",
      "/data/uscuni-ulce/tesselations/tesselation_43496.parquet 14\n",
      "/data/uscuni-ulce/tesselations/tesselation_16096.parquet 12\n",
      "/data/uscuni-ulce/tesselations/tesselation_43219.parquet 4\n",
      "/data/uscuni-ulce/tesselations/tesselation_31743.parquet 1\n",
      "/data/uscuni-ulce/tesselations/tesselation_118236.parquet 38\n",
      "/data/uscuni-ulce/tesselations/tesselation_130620.parquet 24\n",
      "/data/uscuni-ulce/tesselations/tesselation_79385.parquet 21\n",
      "/data/uscuni-ulce/tesselations/tesselation_76202.parquet 17\n",
      "/data/uscuni-ulce/tesselations/tesselation_71390.parquet 14\n",
      "/data/uscuni-ulce/tesselations/tesselation_110147.parquet 462\n",
      "/data/uscuni-ulce/tesselations/tesselation_120694.parquet 27\n",
      "/data/uscuni-ulce/tesselations/tesselation_64223.parquet 10\n",
      "/data/uscuni-ulce/tesselations/tesselation_78749.parquet 12\n",
      "/data/uscuni-ulce/tesselations/tesselation_18792.parquet 4\n",
      "/data/uscuni-ulce/tesselations/tesselation_19942.parquet 10\n",
      "/data/uscuni-ulce/tesselations/tesselation_53752.parquet 17\n",
      "/data/uscuni-ulce/tesselations/tesselation_22199.parquet 27\n",
      "/data/uscuni-ulce/tesselations/tesselation_102641.parquet 138\n",
      "/data/uscuni-ulce/tesselations/tesselation_60279.parquet 140\n",
      "/data/uscuni-ulce/tesselations/tesselation_19646.parquet 21\n",
      "/data/uscuni-ulce/tesselations/tesselation_15866.parquet 9\n",
      "/data/uscuni-ulce/tesselations/tesselation_58804.parquet 0\n",
      "/data/uscuni-ulce/tesselations/tesselation_10796.parquet 4\n",
      "/data/uscuni-ulce/tesselations/tesselation_64456.parquet 16\n",
      "/data/uscuni-ulce/tesselations/tesselation_15417.parquet 7\n",
      "/data/uscuni-ulce/tesselations/tesselation_11230.parquet 2\n",
      "/data/uscuni-ulce/tesselations/tesselation_31840.parquet 7\n",
      "/data/uscuni-ulce/tesselations/tesselation_109954.parquet 5\n",
      "/data/uscuni-ulce/tesselations/tesselation_60642.parquet 18\n",
      "/data/uscuni-ulce/tesselations/tesselation_51851.parquet 14\n",
      "/data/uscuni-ulce/tesselations/tesselation_49173.parquet 15\n",
      "/data/uscuni-ulce/tesselations/tesselation_64680.parquet 11\n",
      "/data/uscuni-ulce/tesselations/tesselation_28791.parquet 32\n",
      "/data/uscuni-ulce/tesselations/tesselation_25903.parquet 19\n",
      "/data/uscuni-ulce/tesselations/tesselation_5737.parquet 12\n",
      "/data/uscuni-ulce/tesselations/tesselation_127220.parquet 15\n",
      "/data/uscuni-ulce/tesselations/tesselation_41773.parquet 5\n",
      "/data/uscuni-ulce/tesselations/tesselation_43678.parquet 5\n",
      "/data/uscuni-ulce/tesselations/tesselation_56593.parquet 10\n",
      "/data/uscuni-ulce/tesselations/tesselation_56826.parquet 5\n",
      "/data/uscuni-ulce/tesselations/tesselation_74253.parquet 20\n",
      "/data/uscuni-ulce/tesselations/tesselation_120619.parquet 12\n",
      "/data/uscuni-ulce/tesselations/tesselation_50135.parquet 14\n",
      "/data/uscuni-ulce/tesselations/tesselation_21350.parquet 7\n",
      "/data/uscuni-ulce/tesselations/tesselation_140891.parquet 21\n",
      "/data/uscuni-ulce/tesselations/tesselation_4682.parquet 2\n",
      "/data/uscuni-ulce/tesselations/tesselation_268.parquet 2\n",
      "/data/uscuni-ulce/tesselations/tesselation_29036.parquet 6\n",
      "/data/uscuni-ulce/tesselations/tesselation_62237.parquet 5\n",
      "/data/uscuni-ulce/tesselations/tesselation_8096.parquet 29\n",
      "/data/uscuni-ulce/tesselations/tesselation_18546.parquet 6\n",
      "/data/uscuni-ulce/tesselations/tesselation_29489.parquet 0\n",
      "/data/uscuni-ulce/tesselations/tesselation_35054.parquet 25\n",
      "/data/uscuni-ulce/tesselations/tesselation_38978.parquet 9\n",
      "/data/uscuni-ulce/tesselations/tesselation_4256.parquet 16\n",
      "/data/uscuni-ulce/tesselations/tesselation_90229.parquet 21\n",
      "/data/uscuni-ulce/tesselations/tesselation_66009.parquet 3\n",
      "/data/uscuni-ulce/tesselations/tesselation_40268.parquet 2\n",
      "/data/uscuni-ulce/tesselations/tesselation_12790.parquet 0\n",
      "/data/uscuni-ulce/tesselations/tesselation_47295.parquet 10\n",
      "/data/uscuni-ulce/tesselations/tesselation_6355.parquet 2\n",
      "/data/uscuni-ulce/tesselations/tesselation_75983.parquet 69\n",
      "/data/uscuni-ulce/tesselations/tesselation_22078.parquet 14\n",
      "/data/uscuni-ulce/tesselations/tesselation_83544.parquet 23\n",
      "/data/uscuni-ulce/tesselations/tesselation_31002.parquet 34\n",
      "/data/uscuni-ulce/tesselations/tesselation_16471.parquet 12\n",
      "/data/uscuni-ulce/tesselations/tesselation_132220.parquet 263\n",
      "/data/uscuni-ulce/tesselations/tesselation_73507.parquet 4\n",
      "/data/uscuni-ulce/tesselations/tesselation_7003.parquet 24\n",
      "/data/uscuni-ulce/tesselations/tesselation_3312.parquet 24\n",
      "/data/uscuni-ulce/tesselations/tesselation_14355.parquet 168\n",
      "/data/uscuni-ulce/tesselations/tesselation_39491.parquet 6\n",
      "/data/uscuni-ulce/tesselations/tesselation_25292.parquet 21\n",
      "/data/uscuni-ulce/tesselations/tesselation_10681.parquet 19\n",
      "/data/uscuni-ulce/tesselations/tesselation_122263.parquet 29\n",
      "/data/uscuni-ulce/tesselations/tesselation_135893.parquet 50\n",
      "/data/uscuni-ulce/tesselations/tesselation_108082.parquet 5\n",
      "/data/uscuni-ulce/tesselations/tesselation_2844.parquet 12\n",
      "/data/uscuni-ulce/tesselations/tesselation_44015.parquet 6\n",
      "/data/uscuni-ulce/tesselations/tesselation_39486.parquet 8\n",
      "/data/uscuni-ulce/tesselations/tesselation_80246.parquet 32\n",
      "/data/uscuni-ulce/tesselations/tesselation_45727.parquet 8\n",
      "/data/uscuni-ulce/tesselations/tesselation_4240.parquet 4\n",
      "/data/uscuni-ulce/tesselations/tesselation_1734.parquet 34\n",
      "/data/uscuni-ulce/tesselations/tesselation_64097.parquet 11\n",
      "/data/uscuni-ulce/tesselations/tesselation_21062.parquet 14\n",
      "/data/uscuni-ulce/tesselations/tesselation_28924.parquet 4\n",
      "/data/uscuni-ulce/tesselations/tesselation_8739.parquet 4\n",
      "/data/uscuni-ulce/tesselations/tesselation_18735.parquet 3\n",
      "/data/uscuni-ulce/tesselations/tesselation_882.parquet 12\n",
      "/data/uscuni-ulce/tesselations/tesselation_93184.parquet 67\n",
      "/data/uscuni-ulce/tesselations/tesselation_106122.parquet 38\n",
      "/data/uscuni-ulce/tesselations/tesselation_38828.parquet 4\n",
      "/data/uscuni-ulce/tesselations/tesselation_40587.parquet 5\n",
      "/data/uscuni-ulce/tesselations/tesselation_8826.parquet 17\n",
      "/data/uscuni-ulce/tesselations/tesselation_58062.parquet 2\n",
      "/data/uscuni-ulce/tesselations/tesselation_5062.parquet 22\n",
      "/data/uscuni-ulce/tesselations/tesselation_115578.parquet 28\n",
      "/data/uscuni-ulce/tesselations/tesselation_101641.parquet 19\n",
      "/data/uscuni-ulce/tesselations/tesselation_4592.parquet 10\n",
      "/data/uscuni-ulce/tesselations/tesselation_35023.parquet 6\n",
      "/data/uscuni-ulce/tesselations/tesselation_55783.parquet 25\n",
      "/data/uscuni-ulce/tesselations/tesselation_84903.parquet 15\n",
      "/data/uscuni-ulce/tesselations/tesselation_4.parquet 248\n",
      "/data/uscuni-ulce/tesselations/tesselation_74443.parquet 14\n",
      "/data/uscuni-ulce/tesselations/tesselation_44302.parquet 32\n",
      "/data/uscuni-ulce/tesselations/tesselation_126660.parquet 26\n",
      "/data/uscuni-ulce/tesselations/tesselation_35538.parquet 4\n",
      "/data/uscuni-ulce/tesselations/tesselation_19881.parquet 9\n",
      "/data/uscuni-ulce/tesselations/tesselation_7301.parquet 15\n",
      "/data/uscuni-ulce/tesselations/tesselation_69300.parquet 197\n",
      "/data/uscuni-ulce/tesselations/tesselation_118651.parquet 24\n",
      "/data/uscuni-ulce/tesselations/tesselation_32945.parquet 4\n",
      "/data/uscuni-ulce/tesselations/tesselation_135681.parquet 10\n",
      "/data/uscuni-ulce/tesselations/tesselation_36493.parquet 4\n",
      "/data/uscuni-ulce/tesselations/tesselation_8820.parquet 6\n",
      "/data/uscuni-ulce/tesselations/tesselation_46417.parquet 15\n",
      "/data/uscuni-ulce/tesselations/tesselation_71219.parquet 10\n",
      "/data/uscuni-ulce/tesselations/tesselation_27080.parquet 12\n",
      "/data/uscuni-ulce/tesselations/tesselation_22566.parquet 4\n",
      "/data/uscuni-ulce/tesselations/tesselation_126154.parquet 55\n",
      "/data/uscuni-ulce/tesselations/tesselation_94160.parquet 105\n",
      "/data/uscuni-ulce/tesselations/tesselation_27042.parquet 31\n",
      "/data/uscuni-ulce/tesselations/tesselation_28971.parquet 1\n",
      "/data/uscuni-ulce/tesselations/tesselation_109111.parquet 9\n",
      "/data/uscuni-ulce/tesselations/tesselation_47409.parquet 29\n",
      "/data/uscuni-ulce/tesselations/tesselation_91803.parquet 33\n",
      "/data/uscuni-ulce/tesselations/tesselation_42255.parquet 7\n",
      "/data/uscuni-ulce/tesselations/tesselation_86433.parquet 20\n",
      "/data/uscuni-ulce/tesselations/tesselation_98941.parquet 15\n",
      "/data/uscuni-ulce/tesselations/tesselation_122183.parquet 4\n",
      "/data/uscuni-ulce/tesselations/tesselation_124884.parquet 3\n",
      "/data/uscuni-ulce/tesselations/tesselation_32126.parquet 4\n",
      "/data/uscuni-ulce/tesselations/tesselation_103746.parquet 6\n",
      "/data/uscuni-ulce/tesselations/tesselation_16097.parquet 11\n",
      "/data/uscuni-ulce/tesselations/tesselation_44764.parquet 67\n",
      "/data/uscuni-ulce/tesselations/tesselation_122087.parquet 9\n",
      "/data/uscuni-ulce/tesselations/tesselation_40812.parquet 33\n",
      "/data/uscuni-ulce/tesselations/tesselation_124.parquet 0\n",
      "/data/uscuni-ulce/tesselations/tesselation_107685.parquet 3960\n",
      "/data/uscuni-ulce/tesselations/tesselation_111415.parquet 5\n",
      "/data/uscuni-ulce/tesselations/tesselation_27466.parquet 14\n",
      "/data/uscuni-ulce/tesselations/tesselation_24283.parquet 25\n",
      "/data/uscuni-ulce/tesselations/tesselation_49705.parquet 24\n",
      "/data/uscuni-ulce/tesselations/tesselation_105532.parquet 16\n",
      "/data/uscuni-ulce/tesselations/tesselation_10745.parquet 16\n",
      "/data/uscuni-ulce/tesselations/tesselation_11964.parquet 10\n",
      "/data/uscuni-ulce/tesselations/tesselation_2024.parquet 16\n",
      "/data/uscuni-ulce/tesselations/tesselation_3254.parquet 10\n",
      "/data/uscuni-ulce/tesselations/tesselation_22463.parquet 16\n",
      "/data/uscuni-ulce/tesselations/tesselation_69354.parquet 11\n",
      "/data/uscuni-ulce/tesselations/tesselation_32247.parquet 3\n",
      "/data/uscuni-ulce/tesselations/tesselation_56858.parquet 7\n",
      "/data/uscuni-ulce/tesselations/tesselation_5901.parquet 5\n",
      "/data/uscuni-ulce/tesselations/tesselation_45695.parquet 4\n",
      "/data/uscuni-ulce/tesselations/tesselation_3922.parquet 91\n",
      "/data/uscuni-ulce/tesselations/tesselation_27270.parquet 4\n",
      "/data/uscuni-ulce/tesselations/tesselation_133389.parquet 3\n",
      "/data/uscuni-ulce/tesselations/tesselation_126091.parquet 7\n",
      "/data/uscuni-ulce/tesselations/tesselation_47668.parquet 15\n",
      "/data/uscuni-ulce/tesselations/tesselation_9756.parquet 49\n",
      "/data/uscuni-ulce/tesselations/tesselation_12199.parquet 1\n",
      "/data/uscuni-ulce/tesselations/tesselation_10367.parquet 141\n",
      "/data/uscuni-ulce/tesselations/tesselation_41248.parquet 4\n",
      "/data/uscuni-ulce/tesselations/tesselation_3000.parquet 27\n",
      "/data/uscuni-ulce/tesselations/tesselation_24292.parquet 17\n",
      "/data/uscuni-ulce/tesselations/tesselation_57303.parquet 6\n",
      "/data/uscuni-ulce/tesselations/tesselation_3591.parquet 8\n",
      "/data/uscuni-ulce/tesselations/tesselation_73572.parquet 4\n",
      "/data/uscuni-ulce/tesselations/tesselation_115177.parquet 30\n",
      "/data/uscuni-ulce/tesselations/tesselation_115732.parquet 13\n",
      "/data/uscuni-ulce/tesselations/tesselation_67187.parquet 14\n",
      "/data/uscuni-ulce/tesselations/tesselation_68246.parquet 74\n",
      "/data/uscuni-ulce/tesselations/tesselation_44146.parquet 4\n",
      "/data/uscuni-ulce/tesselations/tesselation_133951.parquet 24\n",
      "/data/uscuni-ulce/tesselations/tesselation_6346.parquet 5\n",
      "/data/uscuni-ulce/tesselations/tesselation_55206.parquet 40\n",
      "/data/uscuni-ulce/tesselations/tesselation_47895.parquet 36\n",
      "/data/uscuni-ulce/tesselations/tesselation_1681.parquet 4\n",
      "/data/uscuni-ulce/tesselations/tesselation_19321.parquet 16\n",
      "/data/uscuni-ulce/tesselations/tesselation_73525.parquet 28\n",
      "/data/uscuni-ulce/tesselations/tesselation_130774.parquet 12\n",
      "/data/uscuni-ulce/tesselations/tesselation_34676.parquet 7\n",
      "/data/uscuni-ulce/tesselations/tesselation_39959.parquet 3\n",
      "/data/uscuni-ulce/tesselations/tesselation_39867.parquet 58\n",
      "/data/uscuni-ulce/tesselations/tesselation_48507.parquet 18\n",
      "/data/uscuni-ulce/tesselations/tesselation_63733.parquet 18\n",
      "/data/uscuni-ulce/tesselations/tesselation_65387.parquet 12\n",
      "/data/uscuni-ulce/tesselations/tesselation_5212.parquet 5\n",
      "/data/uscuni-ulce/tesselations/tesselation_39390.parquet 144\n",
      "/data/uscuni-ulce/tesselations/tesselation_374.parquet 1\n",
      "/data/uscuni-ulce/tesselations/tesselation_82434.parquet 23\n",
      "/data/uscuni-ulce/tesselations/tesselation_85197.parquet 21\n",
      "/data/uscuni-ulce/tesselations/tesselation_30945.parquet 0\n",
      "/data/uscuni-ulce/tesselations/tesselation_111618.parquet 3\n",
      "/data/uscuni-ulce/tesselations/tesselation_45290.parquet 6\n",
      "/data/uscuni-ulce/tesselations/tesselation_6689.parquet 0\n",
      "/data/uscuni-ulce/tesselations/tesselation_45110.parquet 42\n",
      "/data/uscuni-ulce/tesselations/tesselation_32333.parquet 11\n",
      "/data/uscuni-ulce/tesselations/tesselation_112292.parquet 7\n",
      "/data/uscuni-ulce/tesselations/tesselation_70039.parquet 32\n",
      "/data/uscuni-ulce/tesselations/tesselation_85522.parquet 16\n",
      "/data/uscuni-ulce/tesselations/tesselation_114118.parquet 16\n",
      "/data/uscuni-ulce/tesselations/tesselation_8068.parquet 2\n",
      "/data/uscuni-ulce/tesselations/tesselation_85090.parquet 20\n",
      "/data/uscuni-ulce/tesselations/tesselation_8174.parquet 4\n",
      "/data/uscuni-ulce/tesselations/tesselation_35289.parquet 8\n",
      "/data/uscuni-ulce/tesselations/tesselation_68290.parquet 11\n",
      "/data/uscuni-ulce/tesselations/tesselation_48251.parquet 5\n",
      "/data/uscuni-ulce/tesselations/tesselation_36363.parquet 3\n",
      "/data/uscuni-ulce/tesselations/tesselation_8054.parquet 23\n",
      "/data/uscuni-ulce/tesselations/tesselation_41107.parquet 10\n",
      "/data/uscuni-ulce/tesselations/tesselation_45043.parquet 3\n",
      "/data/uscuni-ulce/tesselations/tesselation_12371.parquet 3\n",
      "/data/uscuni-ulce/tesselations/tesselation_60417.parquet 35\n",
      "/data/uscuni-ulce/tesselations/tesselation_7499.parquet 2\n",
      "/data/uscuni-ulce/tesselations/tesselation_113540.parquet 29\n",
      "/data/uscuni-ulce/tesselations/tesselation_11622.parquet 9\n",
      "/data/uscuni-ulce/tesselations/tesselation_100473.parquet 16\n",
      "/data/uscuni-ulce/tesselations/tesselation_118153.parquet 48\n",
      "/data/uscuni-ulce/tesselations/tesselation_42062.parquet 17\n",
      "/data/uscuni-ulce/tesselations/tesselation_106928.parquet 8\n",
      "/data/uscuni-ulce/tesselations/tesselation_34964.parquet 10\n",
      "/data/uscuni-ulce/tesselations/tesselation_34392.parquet 159\n",
      "/data/uscuni-ulce/tesselations/tesselation_1725.parquet 0\n",
      "/data/uscuni-ulce/tesselations/tesselation_105054.parquet 20\n",
      "/data/uscuni-ulce/tesselations/tesselation_2419.parquet 2\n",
      "/data/uscuni-ulce/tesselations/tesselation_24928.parquet 6\n",
      "/data/uscuni-ulce/tesselations/tesselation_102496.parquet 5\n",
      "/data/uscuni-ulce/tesselations/tesselation_13348.parquet 13\n",
      "/data/uscuni-ulce/tesselations/tesselation_84374.parquet 2\n",
      "/data/uscuni-ulce/tesselations/tesselation_14387.parquet 23\n",
      "/data/uscuni-ulce/tesselations/tesselation_86507.parquet 12\n",
      "/data/uscuni-ulce/tesselations/tesselation_1118.parquet 2\n",
      "/data/uscuni-ulce/tesselations/tesselation_62858.parquet 6\n",
      "/data/uscuni-ulce/tesselations/tesselation_11717.parquet 20\n",
      "/data/uscuni-ulce/tesselations/tesselation_18686.parquet 1\n",
      "/data/uscuni-ulce/tesselations/tesselation_104534.parquet 8\n",
      "/data/uscuni-ulce/tesselations/tesselation_109380.parquet 4\n",
      "/data/uscuni-ulce/tesselations/tesselation_115457.parquet 848\n",
      "/data/uscuni-ulce/tesselations/tesselation_116891.parquet 7\n",
      "/data/uscuni-ulce/tesselations/tesselation_12867.parquet 12\n",
      "/data/uscuni-ulce/tesselations/tesselation_16820.parquet 5\n",
      "/data/uscuni-ulce/tesselations/tesselation_103481.parquet 17\n",
      "/data/uscuni-ulce/tesselations/tesselation_26814.parquet 23\n",
      "/data/uscuni-ulce/tesselations/tesselation_11027.parquet 11\n",
      "/data/uscuni-ulce/tesselations/tesselation_29464.parquet 3\n",
      "/data/uscuni-ulce/tesselations/tesselation_9694.parquet 9\n",
      "/data/uscuni-ulce/tesselations/tesselation_49553.parquet 4\n",
      "/data/uscuni-ulce/tesselations/tesselation_28262.parquet 29\n",
      "/data/uscuni-ulce/tesselations/tesselation_30082.parquet 28\n",
      "/data/uscuni-ulce/tesselations/tesselation_136526.parquet 13\n",
      "/data/uscuni-ulce/tesselations/tesselation_30292.parquet 3\n",
      "/data/uscuni-ulce/tesselations/tesselation_2907.parquet 10\n",
      "/data/uscuni-ulce/tesselations/tesselation_89901.parquet 7\n",
      "/data/uscuni-ulce/tesselations/tesselation_82730.parquet 21\n",
      "/data/uscuni-ulce/tesselations/tesselation_297.parquet 0\n",
      "/data/uscuni-ulce/tesselations/tesselation_10274.parquet 4\n",
      "/data/uscuni-ulce/tesselations/tesselation_49136.parquet 336\n",
      "/data/uscuni-ulce/tesselations/tesselation_58708.parquet 22\n",
      "/data/uscuni-ulce/tesselations/tesselation_105151.parquet 16\n",
      "/data/uscuni-ulce/tesselations/tesselation_108940.parquet 35\n",
      "/data/uscuni-ulce/tesselations/tesselation_112422.parquet 11\n",
      "/data/uscuni-ulce/tesselations/tesselation_38028.parquet 35\n",
      "/data/uscuni-ulce/tesselations/tesselation_21623.parquet 4\n",
      "/data/uscuni-ulce/tesselations/tesselation_90756.parquet 243\n",
      "/data/uscuni-ulce/tesselations/tesselation_14545.parquet 20\n",
      "/data/uscuni-ulce/tesselations/tesselation_115717.parquet 11\n",
      "/data/uscuni-ulce/tesselations/tesselation_14235.parquet 2\n",
      "/data/uscuni-ulce/tesselations/tesselation_48024.parquet 13\n",
      "/data/uscuni-ulce/tesselations/tesselation_25361.parquet 18\n",
      "/data/uscuni-ulce/tesselations/tesselation_136206.parquet 3\n",
      "/data/uscuni-ulce/tesselations/tesselation_8968.parquet 18\n",
      "/data/uscuni-ulce/tesselations/tesselation_18986.parquet 4\n",
      "/data/uscuni-ulce/tesselations/tesselation_25953.parquet 24\n",
      "/data/uscuni-ulce/tesselations/tesselation_19389.parquet 3\n",
      "/data/uscuni-ulce/tesselations/tesselation_38039.parquet 9\n",
      "/data/uscuni-ulce/tesselations/tesselation_2932.parquet 2\n",
      "/data/uscuni-ulce/tesselations/tesselation_21371.parquet 44\n",
      "/data/uscuni-ulce/tesselations/tesselation_91005.parquet 37\n",
      "/data/uscuni-ulce/tesselations/tesselation_46139.parquet 10\n",
      "/data/uscuni-ulce/tesselations/tesselation_5088.parquet 11\n",
      "/data/uscuni-ulce/tesselations/tesselation_106715.parquet 51\n",
      "/data/uscuni-ulce/tesselations/tesselation_134795.parquet 4\n",
      "/data/uscuni-ulce/tesselations/tesselation_32168.parquet 22\n",
      "/data/uscuni-ulce/tesselations/tesselation_27408.parquet 4\n",
      "/data/uscuni-ulce/tesselations/tesselation_122276.parquet 88\n",
      "/data/uscuni-ulce/tesselations/tesselation_51584.parquet 3\n",
      "/data/uscuni-ulce/tesselations/tesselation_42028.parquet 15\n",
      "/data/uscuni-ulce/tesselations/tesselation_20520.parquet 3\n",
      "/data/uscuni-ulce/tesselations/tesselation_66396.parquet 15\n",
      "/data/uscuni-ulce/tesselations/tesselation_23614.parquet 5\n",
      "/data/uscuni-ulce/tesselations/tesselation_20349.parquet 5\n",
      "/data/uscuni-ulce/tesselations/tesselation_25690.parquet 4\n",
      "/data/uscuni-ulce/tesselations/tesselation_7528.parquet 21\n",
      "/data/uscuni-ulce/tesselations/tesselation_2605.parquet 11\n",
      "/data/uscuni-ulce/tesselations/tesselation_21856.parquet 24\n",
      "/data/uscuni-ulce/tesselations/tesselation_113752.parquet 19\n",
      "/data/uscuni-ulce/tesselations/tesselation_125143.parquet 17\n",
      "/data/uscuni-ulce/tesselations/tesselation_106580.parquet 4\n",
      "/data/uscuni-ulce/tesselations/tesselation_21537.parquet 7\n",
      "/data/uscuni-ulce/tesselations/tesselation_60019.parquet 2\n",
      "/data/uscuni-ulce/tesselations/tesselation_82463.parquet 30\n",
      "/data/uscuni-ulce/tesselations/tesselation_4974.parquet 7\n",
      "/data/uscuni-ulce/tesselations/tesselation_31006.parquet 6\n",
      "/data/uscuni-ulce/tesselations/tesselation_17196.parquet 3\n",
      "/data/uscuni-ulce/tesselations/tesselation_118708.parquet 10\n",
      "/data/uscuni-ulce/tesselations/tesselation_1085.parquet 8\n",
      "/data/uscuni-ulce/tesselations/tesselation_126417.parquet 15\n",
      "/data/uscuni-ulce/tesselations/tesselation_14429.parquet 8\n",
      "/data/uscuni-ulce/tesselations/tesselation_33324.parquet 26\n",
      "/data/uscuni-ulce/tesselations/tesselation_128021.parquet 17\n",
      "/data/uscuni-ulce/tesselations/tesselation_130546.parquet 18\n",
      "/data/uscuni-ulce/tesselations/tesselation_50156.parquet 4\n",
      "/data/uscuni-ulce/tesselations/tesselation_19564.parquet 6\n",
      "/data/uscuni-ulce/tesselations/tesselation_35845.parquet 8\n",
      "/data/uscuni-ulce/tesselations/tesselation_61722.parquet 31\n",
      "/data/uscuni-ulce/tesselations/tesselation_5518.parquet 15\n",
      "/data/uscuni-ulce/tesselations/tesselation_55334.parquet 26\n",
      "/data/uscuni-ulce/tesselations/tesselation_23240.parquet 8\n",
      "/data/uscuni-ulce/tesselations/tesselation_116545.parquet 8\n",
      "/data/uscuni-ulce/tesselations/tesselation_48867.parquet 7\n",
      "/data/uscuni-ulce/tesselations/tesselation_72401.parquet 25\n",
      "/data/uscuni-ulce/tesselations/tesselation_30223.parquet 9\n",
      "/data/uscuni-ulce/tesselations/tesselation_62929.parquet 287\n",
      "/data/uscuni-ulce/tesselations/tesselation_48110.parquet 4\n",
      "/data/uscuni-ulce/tesselations/tesselation_25651.parquet 20\n",
      "/data/uscuni-ulce/tesselations/tesselation_34864.parquet 94\n",
      "/data/uscuni-ulce/tesselations/tesselation_28904.parquet 1\n",
      "/data/uscuni-ulce/tesselations/tesselation_25386.parquet 5\n",
      "/data/uscuni-ulce/tesselations/tesselation_113880.parquet 52\n",
      "/data/uscuni-ulce/tesselations/tesselation_139342.parquet 13\n",
      "/data/uscuni-ulce/tesselations/tesselation_49288.parquet 5\n",
      "/data/uscuni-ulce/tesselations/tesselation_89981.parquet 48\n",
      "/data/uscuni-ulce/tesselations/tesselation_16445.parquet 6\n",
      "/data/uscuni-ulce/tesselations/tesselation_134749.parquet 36\n",
      "/data/uscuni-ulce/tesselations/tesselation_39717.parquet 3\n",
      "/data/uscuni-ulce/tesselations/tesselation_57900.parquet 13\n",
      "/data/uscuni-ulce/tesselations/tesselation_38168.parquet 1\n",
      "/data/uscuni-ulce/tesselations/tesselation_10018.parquet 32\n",
      "/data/uscuni-ulce/tesselations/tesselation_3879.parquet 9\n",
      "/data/uscuni-ulce/tesselations/tesselation_36962.parquet 2\n",
      "/data/uscuni-ulce/tesselations/tesselation_39008.parquet 7\n",
      "/data/uscuni-ulce/tesselations/tesselation_18845.parquet 76\n",
      "/data/uscuni-ulce/tesselations/tesselation_133425.parquet 37\n",
      "/data/uscuni-ulce/tesselations/tesselation_15827.parquet 12\n",
      "/data/uscuni-ulce/tesselations/tesselation_111363.parquet 69\n",
      "/data/uscuni-ulce/tesselations/tesselation_77745.parquet 17\n",
      "/data/uscuni-ulce/tesselations/tesselation_66315.parquet 8\n",
      "/data/uscuni-ulce/tesselations/tesselation_70891.parquet 14\n",
      "/data/uscuni-ulce/tesselations/tesselation_27263.parquet 9\n",
      "/data/uscuni-ulce/tesselations/tesselation_54510.parquet 9\n",
      "/data/uscuni-ulce/tesselations/tesselation_43538.parquet 15\n",
      "/data/uscuni-ulce/tesselations/tesselation_17308.parquet 7\n",
      "/data/uscuni-ulce/tesselations/tesselation_23790.parquet 42\n",
      "/data/uscuni-ulce/tesselations/tesselation_23820.parquet 30\n",
      "/data/uscuni-ulce/tesselations/tesselation_48279.parquet 96\n",
      "/data/uscuni-ulce/tesselations/tesselation_97908.parquet 177\n",
      "/data/uscuni-ulce/tesselations/tesselation_2383.parquet 3\n",
      "/data/uscuni-ulce/tesselations/tesselation_16593.parquet 3\n",
      "/data/uscuni-ulce/tesselations/tesselation_85070.parquet 15\n",
      "/data/uscuni-ulce/tesselations/tesselation_35142.parquet 28\n",
      "/data/uscuni-ulce/tesselations/tesselation_53165.parquet 8\n",
      "/data/uscuni-ulce/tesselations/tesselation_115034.parquet 5\n",
      "/data/uscuni-ulce/tesselations/tesselation_12699.parquet 5\n",
      "/data/uscuni-ulce/tesselations/tesselation_27614.parquet 5\n",
      "/data/uscuni-ulce/tesselations/tesselation_37034.parquet 4\n",
      "/data/uscuni-ulce/tesselations/tesselation_27993.parquet 3\n",
      "/data/uscuni-ulce/tesselations/tesselation_63649.parquet 3\n",
      "/data/uscuni-ulce/tesselations/tesselation_138334.parquet 9\n",
      "/data/uscuni-ulce/tesselations/tesselation_110873.parquet 7\n",
      "/data/uscuni-ulce/tesselations/tesselation_7093.parquet 14\n",
      "/data/uscuni-ulce/tesselations/tesselation_125375.parquet 5\n",
      "/data/uscuni-ulce/tesselations/tesselation_104480.parquet 19\n",
      "/data/uscuni-ulce/tesselations/tesselation_18144.parquet 11\n",
      "/data/uscuni-ulce/tesselations/tesselation_25692.parquet 67\n",
      "/data/uscuni-ulce/tesselations/tesselation_56134.parquet 6\n",
      "/data/uscuni-ulce/tesselations/tesselation_58519.parquet 8\n",
      "/data/uscuni-ulce/tesselations/tesselation_109082.parquet 2\n",
      "/data/uscuni-ulce/tesselations/tesselation_25063.parquet 1\n",
      "/data/uscuni-ulce/tesselations/tesselation_11871.parquet 16\n",
      "/data/uscuni-ulce/tesselations/tesselation_117762.parquet 23\n",
      "/data/uscuni-ulce/tesselations/tesselation_4976.parquet 9\n",
      "/data/uscuni-ulce/tesselations/tesselation_22884.parquet 9\n",
      "/data/uscuni-ulce/tesselations/tesselation_3607.parquet 679\n",
      "/data/uscuni-ulce/tesselations/tesselation_3155.parquet 0\n",
      "/data/uscuni-ulce/tesselations/tesselation_125102.parquet 217\n",
      "/data/uscuni-ulce/tesselations/tesselation_124975.parquet 114\n",
      "/data/uscuni-ulce/tesselations/tesselation_7506.parquet 2\n",
      "/data/uscuni-ulce/tesselations/tesselation_6886.parquet 1\n",
      "/data/uscuni-ulce/tesselations/tesselation_10.parquet 38\n",
      "/data/uscuni-ulce/tesselations/tesselation_96998.parquet 30\n",
      "/data/uscuni-ulce/tesselations/tesselation_103243.parquet 26\n",
      "/data/uscuni-ulce/tesselations/tesselation_121122.parquet 45\n",
      "/data/uscuni-ulce/tesselations/tesselation_33476.parquet 71\n",
      "/data/uscuni-ulce/tesselations/tesselation_12178.parquet 21\n",
      "/data/uscuni-ulce/tesselations/tesselation_2219.parquet 13\n",
      "/data/uscuni-ulce/tesselations/tesselation_138269.parquet 14\n",
      "/data/uscuni-ulce/tesselations/tesselation_15928.parquet 5\n",
      "/data/uscuni-ulce/tesselations/tesselation_104313.parquet 24\n",
      "/data/uscuni-ulce/tesselations/tesselation_55935.parquet 4\n",
      "/data/uscuni-ulce/tesselations/tesselation_60277.parquet 11\n",
      "/data/uscuni-ulce/tesselations/tesselation_67852.parquet 22\n",
      "/data/uscuni-ulce/tesselations/tesselation_26085.parquet 1\n",
      "/data/uscuni-ulce/tesselations/tesselation_26765.parquet 19\n",
      "/data/uscuni-ulce/tesselations/tesselation_68043.parquet 19\n",
      "/data/uscuni-ulce/tesselations/tesselation_140600.parquet 19\n",
      "/data/uscuni-ulce/tesselations/tesselation_113032.parquet 5\n",
      "/data/uscuni-ulce/tesselations/tesselation_44812.parquet 13\n",
      "/data/uscuni-ulce/tesselations/tesselation_38962.parquet 16\n",
      "/data/uscuni-ulce/tesselations/tesselation_53679.parquet 20\n",
      "/data/uscuni-ulce/tesselations/tesselation_126276.parquet 59\n",
      "/data/uscuni-ulce/tesselations/tesselation_108722.parquet 25\n",
      "/data/uscuni-ulce/tesselations/tesselation_50113.parquet 2\n",
      "/data/uscuni-ulce/tesselations/tesselation_108870.parquet 13\n",
      "/data/uscuni-ulce/tesselations/tesselation_119768.parquet 11\n",
      "/data/uscuni-ulce/tesselations/tesselation_129074.parquet 34\n",
      "/data/uscuni-ulce/tesselations/tesselation_139276.parquet 31\n",
      "/data/uscuni-ulce/tesselations/tesselation_40865.parquet 4\n",
      "/data/uscuni-ulce/tesselations/tesselation_3182.parquet 25\n",
      "/data/uscuni-ulce/tesselations/tesselation_106893.parquet 17\n",
      "/data/uscuni-ulce/tesselations/tesselation_45122.parquet 11\n"
     ]
    }
   ],
   "source": [
    "for tf in tesselation_files:\n",
    "    tesselations = gpd.read_parquet(tf)\n",
    "    tarea = tesselations.area\n",
    "    print(tf, (tarea > 50_000).sum())"
   ]
  },
  {
   "cell_type": "code",
   "execution_count": 11,
   "id": "798fb828-6b26-4c63-9571-427fccf69b6d",
   "metadata": {},
   "outputs": [],
   "source": [
    "# tesselations.reset_index().explore()"
   ]
  },
  {
   "cell_type": "code",
   "execution_count": null,
   "id": "68d28214-bfea-4673-9d74-412abff4af5d",
   "metadata": {},
   "outputs": [],
   "source": []
  },
  {
   "cell_type": "code",
   "execution_count": null,
   "id": "b9735334-b0d6-49eb-888e-9c3026173433",
   "metadata": {},
   "outputs": [],
   "source": []
  },
  {
   "cell_type": "code",
   "execution_count": null,
   "id": "49a0024b-658a-4d50-a6ef-c340da33a9e1",
   "metadata": {},
   "outputs": [],
   "source": []
  },
  {
   "cell_type": "code",
   "execution_count": null,
   "id": "52f4dca0-c112-4754-b3ef-c3cccd7ab8e0",
   "metadata": {},
   "outputs": [],
   "source": []
  },
  {
   "cell_type": "code",
   "execution_count": null,
   "id": "ec78911f-f9d8-43ce-ba4f-d067957943fe",
   "metadata": {},
   "outputs": [],
   "source": []
  },
  {
   "cell_type": "code",
   "execution_count": 7,
   "id": "ce0b7973-fc53-48b3-a31c-9fc23630a364",
   "metadata": {},
   "outputs": [],
   "source": [
    "region_id = 4\n",
    "buildings = gpd.read_parquet(data_dir + f\"/buildings/buildings_{region_id}.parquet\")\n",
    "s = 500_000\n",
    "e = s + 3_000\n",
    "problem_buildings = buildings.iloc[s:e].reset_index()"
   ]
  },
  {
   "cell_type": "code",
   "execution_count": 9,
   "id": "6b88119c-1e61-4265-8048-1f5f88bc119e",
   "metadata": {},
   "outputs": [],
   "source": [
    "problem_buildings.to_parquet(\"data/buffer_problem_buildings.parquet\")"
   ]
  }
 ],
 "metadata": {
  "kernelspec": {
   "display_name": "Python 3 (ipykernel)",
   "language": "python",
   "name": "python3"
  },
  "language_info": {
   "codemirror_mode": {
    "name": "ipython",
    "version": 3
   },
   "file_extension": ".py",
   "mimetype": "text/x-python",
   "name": "python",
   "nbconvert_exporter": "python",
   "pygments_lexer": "ipython3",
   "version": "3.12.3"
  }
 },
 "nbformat": 4,
 "nbformat_minor": 5
}
