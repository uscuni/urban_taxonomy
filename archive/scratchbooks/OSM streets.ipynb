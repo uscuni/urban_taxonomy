{
 "cells": [
  {
   "cell_type": "code",
   "execution_count": 1,
   "id": "8d3f4da6-f7f1-4ef0-a853-ca9e971a8554",
   "metadata": {},
   "outputs": [],
   "source": [
    "import momepy as mm\n",
    "import numpy as np\n",
    "import pandas as pd\n",
    "from libpysal.graph import Graph\n",
    "import geopandas as gpd\n",
    "import pytest\n",
    "import urllib.request"
   ]
  },
  {
   "cell_type": "markdown",
   "id": "ff81f3d4-1b25-431a-bf06-9e1a6551d9a2",
   "metadata": {},
   "source": [
    "## Download data"
   ]
  },
  {
   "cell_type": "code",
   "execution_count": 2,
   "id": "578e00f8-727d-4a02-a327-e0aa4c119016",
   "metadata": {},
   "outputs": [],
   "source": [
    "# countries = ['slovakia', 'czech-republic', 'germany', 'austria', 'poland']\n",
    "# countries = ['germany', 'austria', 'poland']\n"
   ]
  },
  {
   "cell_type": "code",
   "execution_count": 3,
   "id": "bfc039ce-77ab-4867-ba87-140213205584",
   "metadata": {},
   "outputs": [],
   "source": [
    "for country in countries:\n",
    "    urllib.request.urlretrieve(f'https://download.geofabrik.de/europe/{country}-latest.osm.pbf',\n",
    "                               f'data/osm/{country}-latest.osm.pbf')"
   ]
  },
  {
   "cell_type": "code",
   "execution_count": 25,
   "id": "752fd123-b577-422f-80f2-642188cad2ab",
   "metadata": {},
   "outputs": [
    {
     "name": "stdout",
     "output_type": "stream",
     "text": [
      "0...10...20...30...40...50...60...70...80.Warning 1: One or several characters couldn't be converted correctly from UTF-8 to ISO-8859-1.  This warning will not be emitted anymore.\n",
      "Warning 1: Value '\"abutters\"=>\"residential\",\"cycleway:right\"=>\"lane\",\"cycleway:right:lane\"=>\"advisory\",\"lanes\"=>\"1\",\"lit\"=>\"yes\",\"maxspeed\"=>\"50\",\"maxspeed:type\"=>\"SK:urban\",\"oneway\"=>\"yes\",\"sidewalk:left\"=>\"no\",\"sidewalk:right\"=>\"separate\",\"surface\"=>\"asphalt\",\"turn:lanes\"=>\"through;right\"' of field other_tags has been truncated to 254 characters.  This warning will not be emitted any more for that layer.\n",
      "..90...100 - done.\n"
     ]
    }
   ],
   "source": [
    "!ogr2ogr -where \"highway='living_street' OR highway='motorway' OR highway='motorway_link' OR highway='pedestrian' OR highway='primary' OR highway='primary_link' OR highway='residential' OR highway='secondary' OR highway='secondary_link' OR highway='service' OR highway='tertiary' OR highway='tertiary_link' OR highway='trunk' OR highway='trunk_link' OR highway='unclassified'\" data/slovakia_streets/output-streets.shp data/osm/slovakia-latest.osm.pbf lines"
   ]
  },
  {
   "cell_type": "code",
   "execution_count": 4,
   "id": "8dd2ca8c-8bb3-495c-b598-e0288eaf1d3b",
   "metadata": {},
   "outputs": [
    {
     "name": "stdout",
     "output_type": "stream",
     "text": [
      "0...10...20...30...40...50...60..Warning 1: Value '\"cycleway:left\"=>\"shared_lane\",\"cycleway:left:lane\"=>\"pictogram\",\"cycleway:left:oneway\"=>\"-1\",\"cycleway:right\"=>\"no\",\"lanes\"=>\"1\",\"lit\"=>\"yes\",\"maxspeed\"=>\"30\",\"oneway\"=>\"yes\",\"oneway:bicycle\"=>\"no\",\"sidewalk\"=>\"both\",\"source:maxspeed\"=>\"AT:zone30\",\"surface\"=>\"asphalt\"' of field other_tags has been truncated to 254 characters.  This warning will not be emitted any more for that layer.\n",
      "Warning 1: One or several characters couldn't be converted correctly from UTF-8 to ISO-8859-1.  This warning will not be emitted anymore.\n",
      ".70...80...90...100 - done.\n"
     ]
    }
   ],
   "source": [
    "!ogr2ogr -where \"highway='living_street' OR highway='motorway' OR highway='motorway_link' OR highway='pedestrian' OR highway='primary' OR highway='primary_link' OR highway='residential' OR highway='secondary' OR highway='secondary_link' OR highway='service' OR highway='tertiary' OR highway='tertiary_link' OR highway='trunk' OR highway='trunk_link' OR highway='unclassified'\" data/austria_streets/output-streets.shp data/osm/austria-latest.osm.pbf lines"
   ]
  },
  {
   "cell_type": "code",
   "execution_count": 6,
   "id": "bf0bd6fa-67d9-4da7-9dc5-3d7c3e4b5637",
   "metadata": {},
   "outputs": [
    {
     "name": "stdout",
     "output_type": "stream",
     "text": [
      "0...10...20...30...40...50..Warning 1: Value '\"cycleway:both\"=>\"no\",\"hazmat:backward\"=>\"no\",\"incline\"=>\"up\",\"lane_markings\"=>\"no\",\"lit\"=>\"yes\",\"maxspeed\"=>\"50\",\"name:etymology:wikidata\"=>\"Q15836089\",\"parking:lane:both\"=>\"no\",\"postal_code\"=>\"01217\",\"sidewalk\"=>\"right\",\"sidewalk:right:surface\"=>\"asphalt\",\"smoothness\"=>\"excellent\",\"source:maxspeed\"=>\"DE:urban\",\"surface\"=>\"asphalt\",\"wikidata\"=>\"Q95248350\",\"zone:traffic\"=>\"DE:urban\"' of field other_tags has been truncated to 254 characters.  This warning will not be emitted any more for that layer.\n",
      "Warning 1: One or several characters couldn't be converted correctly from UTF-8 to ISO-8859-1.  This warning will not be emitted anymore.\n",
      ".60..Warning 1: 2GB file size limit reached for data/germany_streets/output-streets.dbf. Going on, but might cause compatibility issues with third party software\n",
      ".70...80...90...100 - done.\n"
     ]
    }
   ],
   "source": [
    "!ogr2ogr -where \"highway='living_street' OR highway='motorway' OR highway='motorway_link' OR highway='pedestrian' OR highway='primary' OR highway='primary_link' OR highway='residential' OR highway='secondary' OR highway='secondary_link' OR highway='service' OR highway='tertiary' OR highway='tertiary_link' OR highway='trunk' OR highway='trunk_link' OR highway='unclassified'\" data/germany_streets/output-streets.shp data/osm/germany-latest.osm.pbf lines"
   ]
  },
  {
   "cell_type": "code",
   "execution_count": 7,
   "id": "221f3199-828c-40c0-9e3d-9ba6affb6c68",
   "metadata": {},
   "outputs": [
    {
     "name": "stdout",
     "output_type": "stream",
     "text": [
      "0...10...20...30...40...50...60.Warning 1: One or several characters couldn't be converted correctly from UTF-8 to ISO-8859-1.  This warning will not be emitted anymore.\n",
      "Warning 1: Value '\"bicycle\"=>\"no\",\"emergency\"=>\"yes\",\"lit\"=>\"yes\",\"maxspeed\"=>\"20\",\"motor_vehicle:conditional\"=>\"delivery @ (19:00-10:00)\",\"name:de\"=>\"Floriangasse\",\"name:hu\"=>\"Flórián utca\",\"name:pl\"=>\"Floriańska\",\"name:ru\"=>\"Флорианская улица\",\"oneway\"=>\"yes\",\"sidewalk\"=>\"both\",\"smoothness\"=>\"excellent\",\"source:bicycle\"=>\"sign\",\"source:maxspeed\"=>\"PL:living_street\",\"surface\"=>\"sett\",\"tourism\"=>\"attraction\",\"wheelchair\"=>\"yes\",\"wikidata\"=>\"Q9365137\",\"wikipedia\"=>\"pl:Ulica Floriańska w Krakowie\"' of field other_tags has been truncated to 254 characters.  This warning will not be emitted any more for that layer.\n",
      "..70...80...90...Warning 1: 2GB file size limit reached for data/poland_streets/output-streets.dbf. Going on, but might cause compatibility issues with third party software\n",
      "100 - done.\n"
     ]
    }
   ],
   "source": [
    "!ogr2ogr -where \"highway='living_street' OR highway='motorway' OR highway='motorway_link' OR highway='pedestrian' OR highway='primary' OR highway='primary_link' OR highway='residential' OR highway='secondary' OR highway='secondary_link' OR highway='service' OR highway='tertiary' OR highway='tertiary_link' OR highway='trunk' OR highway='trunk_link' OR highway='unclassified'\" data/poland_streets/output-streets.shp data/osm/poland-latest.osm.pbf lines"
   ]
  },
  {
   "cell_type": "code",
   "execution_count": 5,
   "id": "5693ef71-6381-419c-b002-ce319dd94f13",
   "metadata": {},
   "outputs": [
    {
     "name": "stdout",
     "output_type": "stream",
     "text": [
      "0...10...20...30...40...50...60..Warning 1: One or several characters couldn't be converted correctly from UTF-8 to ISO-8859-1.  This warning will not be emitted anymore.\n",
      "Warning 1: Value '\"bicycle\"=>\"no\",\"foot\"=>\"no\",\"horse\"=>\"no\",\"lanes\"=>\"3\",\"lit\"=>\"yes\",\"maxheight\"=>\"default\",\"maxspeed\"=>\"80\",\"maxweight\"=>\"12\",\"motorroad\"=>\"yes\",\"name:ru\"=>\"Южный объезд\",\"oneway\"=>\"yes\",\"placement\"=>\"right_of:1\",\"ref\"=>\"MO\",\"shoulder\"=>\"no\",\"surface\"=>\"asphalt\",\"toll\"=>\"no\"' of field other_tags has been truncated to 254 characters.  This warning will not be emitted any more for that layer.\n",
      ".70...80...90...100 - done.\n"
     ]
    }
   ],
   "source": [
    "!ogr2ogr -where \"highway='living_street' OR highway='motorway' OR highway='motorway_link' OR highway='pedestrian' OR highway='primary' OR highway='primary_link' OR highway='residential' OR highway='secondary' OR highway='secondary_link' OR highway='service' OR highway='tertiary' OR highway='tertiary_link' OR highway='trunk' OR highway='trunk_link' OR highway='unclassified'\" data/czech-republic_streets/output-streets.shp data/osm/czech-republic-latest.osm.pbf lines"
   ]
  },
  {
   "cell_type": "code",
   "execution_count": null,
   "id": "3dad789d-c1cc-4249-b4c3-62f61a0a3c97",
   "metadata": {},
   "outputs": [],
   "source": []
  },
  {
   "cell_type": "code",
   "execution_count": null,
   "id": "ac2a3ed5-1b0b-4e27-b8f8-3d120d80a5b4",
   "metadata": {},
   "outputs": [],
   "source": []
  },
  {
   "cell_type": "code",
   "execution_count": null,
   "id": "0f11cb13-2a5d-4f7b-b1f5-0b7c49a6559c",
   "metadata": {},
   "outputs": [],
   "source": []
  },
  {
   "cell_type": "markdown",
   "id": "78ed7c62-0a4c-4dbe-b04a-1dc60f6b10d5",
   "metadata": {},
   "source": [
    "## merge together"
   ]
  },
  {
   "cell_type": "code",
   "execution_count": 27,
   "id": "8e9bd65d-f597-4e68-a2eb-f14e5547097c",
   "metadata": {},
   "outputs": [],
   "source": [
    "countries = ['slovakia', 'czech-republic', 'germany', 'austria', 'poland']"
   ]
  },
  {
   "cell_type": "code",
   "execution_count": 28,
   "id": "6dee58ce-cfd3-419e-aef4-5caf50c0a86c",
   "metadata": {},
   "outputs": [],
   "source": [
    "res = None"
   ]
  },
  {
   "cell_type": "code",
   "execution_count": 29,
   "id": "10cd57f2-4e06-4a47-92e0-41f7ab3cb9a4",
   "metadata": {},
   "outputs": [],
   "source": [
    "for country in countries:\n",
    "    gdf = gpd.read_file(f'data/{country}_streets/', engine='pyogrio', columns=['osm_id', 'geometry'])\n",
    "    res = pd.concat((res, gdf), axis=0, ignore_index=True)"
   ]
  },
  {
   "cell_type": "code",
   "execution_count": null,
   "id": "13ec0d7c-a63d-4283-b28d-78de729e178a",
   "metadata": {},
   "outputs": [],
   "source": []
  },
  {
   "cell_type": "code",
   "execution_count": 82,
   "id": "741e9e47-29af-4f05-80fd-014827d38846",
   "metadata": {},
   "outputs": [],
   "source": [
    "res = res.drop_duplicates('osm_id', keep='first') ## drop duplicates for now"
   ]
  },
  {
   "cell_type": "code",
   "execution_count": 83,
   "id": "e799faea-574f-42e5-bb65-5ed6d3a4a0fd",
   "metadata": {},
   "outputs": [],
   "source": [
    "res.to_file('data/central_europe_streets.gpkg', driver='GPKG')"
   ]
  },
  {
   "cell_type": "code",
   "execution_count": null,
   "id": "e79eac80-41c8-4e21-a26d-b28d0da340bf",
   "metadata": {},
   "outputs": [],
   "source": []
  },
  {
   "cell_type": "code",
   "execution_count": null,
   "id": "641919f2-29d6-4df9-9200-693de6db58d9",
   "metadata": {},
   "outputs": [],
   "source": []
  },
  {
   "cell_type": "code",
   "execution_count": null,
   "id": "fc88e364-984f-42c1-b576-33df11ffd194",
   "metadata": {},
   "outputs": [],
   "source": []
  },
  {
   "cell_type": "code",
   "execution_count": null,
   "id": "f7b2ac75-1ec3-4eba-b738-a48cfa19206c",
   "metadata": {},
   "outputs": [],
   "source": []
  },
  {
   "cell_type": "markdown",
   "id": "e76afb88-fe0a-42b3-8ad7-5aff9e2dfa52",
   "metadata": {},
   "source": [
    "### There are some duplicates"
   ]
  },
  {
   "cell_type": "code",
   "execution_count": 32,
   "id": "80eca60c-8d33-4bcd-a928-cce681b47297",
   "metadata": {},
   "outputs": [
    {
     "data": {
      "text/plain": [
       "(12267564, 2)"
      ]
     },
     "execution_count": 32,
     "metadata": {},
     "output_type": "execute_result"
    }
   ],
   "source": [
    "res.drop_duplicates('osm_id').shape"
   ]
  },
  {
   "cell_type": "code",
   "execution_count": 33,
   "id": "265ace5f-02b9-4d8d-ac6d-56932836507e",
   "metadata": {},
   "outputs": [
    {
     "data": {
      "text/plain": [
       "(12314335, 2)"
      ]
     },
     "execution_count": 33,
     "metadata": {},
     "output_type": "execute_result"
    }
   ],
   "source": [
    "res.shape"
   ]
  },
  {
   "cell_type": "code",
   "execution_count": 35,
   "id": "6991436c-a1db-4a53-9daa-eebc17be122d",
   "metadata": {},
   "outputs": [],
   "source": [
    "indx = res['osm_id'].duplicated(keep=False)"
   ]
  },
  {
   "cell_type": "code",
   "execution_count": 52,
   "id": "549af5d7-c0c3-40e0-99a2-1bbab66ad161",
   "metadata": {},
   "outputs": [],
   "source": [
    "duplicates = res[indx]"
   ]
  },
  {
   "cell_type": "code",
   "execution_count": 58,
   "id": "2ade8ae0-829b-4b20-9129-1ae96e2317a6",
   "metadata": {},
   "outputs": [],
   "source": [
    "import shapely"
   ]
  },
  {
   "cell_type": "code",
   "execution_count": 63,
   "id": "b1cc5635-ac94-410a-8e64-a9e7260ecb7b",
   "metadata": {},
   "outputs": [],
   "source": [
    "# duplicates.groupby('osm_id').apply(lambda x: np.all([shapely.equals(a.geometry, b.geometry) for a, b in zip(x.iloc[0:], x.iloc[1:])]))"
   ]
  },
  {
   "cell_type": "code",
   "execution_count": 69,
   "id": "25da25bc-0453-4d2d-a8d7-32b6a24d3ad8",
   "metadata": {},
   "outputs": [
    {
     "name": "stderr",
     "output_type": "stream",
     "text": [
      "/tmp/ipykernel_47570/1461196379.py:1: DeprecationWarning: DataFrameGroupBy.apply operated on the grouping columns. This behavior is deprecated, and in a future version of pandas the grouping columns will be excluded from the operation. Either pass `include_groups=False` to exclude the groupings or explicitly select the grouping columns after groupby to silence this warning.\n",
      "  equal_geoms = duplicates.groupby('osm_id').apply(lambda x: np.all(\n"
     ]
    }
   ],
   "source": [
    "equal_geoms = duplicates.groupby('osm_id').apply(lambda x: np.all(\n",
    "    [shapely.equals(a.geometry, b.geometry) for ((_, a), (_, b)) in zip(x.iloc[0:].iterrows(),\n",
    "                                                              x.iloc[1:].iterrows())]))"
   ]
  },
  {
   "cell_type": "code",
   "execution_count": 73,
   "id": "a06bd8da-02d5-4a5f-bc68-0334b35bfdea",
   "metadata": {},
   "outputs": [],
   "source": [
    "different = equal_geoms[~equal_geoms].index.values"
   ]
  },
  {
   "cell_type": "code",
   "execution_count": null,
   "id": "3d5c0307-a49e-403e-9b36-0c36b776c0e8",
   "metadata": {},
   "outputs": [],
   "source": [
    "different"
   ]
  },
  {
   "cell_type": "code",
   "execution_count": 80,
   "id": "f3a1d8fd-80e4-4983-bffe-4a869f350804",
   "metadata": {},
   "outputs": [],
   "source": [
    "# res[res['osm_id'].isin(different)].buffer(.1).explore()"
   ]
  },
  {
   "cell_type": "code",
   "execution_count": null,
   "id": "6d787c1e-b956-4c76-ba1a-f3a0f4418915",
   "metadata": {},
   "outputs": [],
   "source": []
  },
  {
   "cell_type": "code",
   "execution_count": null,
   "id": "8d612ce0-1263-4631-aa60-90564a438a0e",
   "metadata": {},
   "outputs": [],
   "source": []
  },
  {
   "cell_type": "code",
   "execution_count": null,
   "id": "6d08842a-4632-4ab7-9252-477715df6037",
   "metadata": {},
   "outputs": [],
   "source": []
  },
  {
   "cell_type": "code",
   "execution_count": null,
   "id": "bb9f2120-5122-4036-a5ea-dd3b4f80bbfe",
   "metadata": {},
   "outputs": [],
   "source": []
  },
  {
   "cell_type": "code",
   "execution_count": null,
   "id": "2c0b2ea3-f9f2-4ed4-9f58-316381a615ee",
   "metadata": {},
   "outputs": [],
   "source": []
  },
  {
   "cell_type": "code",
   "execution_count": null,
   "id": "1950e1d8-9703-49e7-8df5-b4b2a6f391ed",
   "metadata": {},
   "outputs": [],
   "source": []
  },
  {
   "cell_type": "code",
   "execution_count": null,
   "id": "4955f5e5-b8d8-444a-82b1-47d70a7e04cc",
   "metadata": {},
   "outputs": [],
   "source": []
  },
  {
   "cell_type": "code",
   "execution_count": 23,
   "id": "18024633-387d-4c08-b598-a3b6030f76ae",
   "metadata": {},
   "outputs": [],
   "source": [
    "query = \"living_street|motorway|motorway_link|pedestrian|primary|primary_link|residential|secondary|secondary_link|service|tertiary|tertiary_link|trunk|trunk_link|unclassified\""
   ]
  },
  {
   "cell_type": "code",
   "execution_count": 24,
   "id": "c34c6656-c424-417f-91e1-db71c8ddddaa",
   "metadata": {},
   "outputs": [
    {
     "data": {
      "text/plain": [
       "\"highway='living_street' OR highway='motorway' OR highway='motorway_link' OR highway='pedestrian' OR highway='primary' OR highway='primary_link' OR highway='residential' OR highway='secondary' OR highway='secondary_link' OR highway='service' OR highway='tertiary' OR highway='tertiary_link' OR highway='trunk' OR highway='trunk_link' OR highway='unclassified'\""
      ]
     },
     "execution_count": 24,
     "metadata": {},
     "output_type": "execute_result"
    }
   ],
   "source": [
    "' OR '.join(map(lambda s: f\"highway='{s}'\", query.split('|')))"
   ]
  },
  {
   "cell_type": "code",
   "execution_count": null,
   "id": "72270dbe-e089-4307-abfc-2d3ef553dd28",
   "metadata": {},
   "outputs": [],
   "source": []
  },
  {
   "cell_type": "code",
   "execution_count": null,
   "id": "06cd4d26-21d8-46fb-b5a6-2d5a265b0f28",
   "metadata": {},
   "outputs": [],
   "source": []
  },
  {
   "cell_type": "code",
   "execution_count": 55,
   "id": "886c34c4-384b-41c8-a002-9161c1fc6073",
   "metadata": {},
   "outputs": [],
   "source": []
  },
  {
   "cell_type": "code",
   "execution_count": 56,
   "id": "c9406e7f-438f-4693-a4f5-f75c4e34f786",
   "metadata": {},
   "outputs": [
    {
     "data": {
      "text/html": [
       "<div>\n",
       "<style scoped>\n",
       "    .dataframe tbody tr th:only-of-type {\n",
       "        vertical-align: middle;\n",
       "    }\n",
       "\n",
       "    .dataframe tbody tr th {\n",
       "        vertical-align: top;\n",
       "    }\n",
       "\n",
       "    .dataframe thead th {\n",
       "        text-align: right;\n",
       "    }\n",
       "</style>\n",
       "<table border=\"1\" class=\"dataframe\">\n",
       "  <thead>\n",
       "    <tr style=\"text-align: right;\">\n",
       "      <th></th>\n",
       "      <th>osm_id</th>\n",
       "      <th>osm_way_id</th>\n",
       "      <th>name</th>\n",
       "      <th>type</th>\n",
       "      <th>aeroway</th>\n",
       "      <th>amenity</th>\n",
       "      <th>admin_leve</th>\n",
       "      <th>barrier</th>\n",
       "      <th>boundary</th>\n",
       "      <th>building</th>\n",
       "      <th>...</th>\n",
       "      <th>man_made</th>\n",
       "      <th>military</th>\n",
       "      <th>natural</th>\n",
       "      <th>office</th>\n",
       "      <th>place</th>\n",
       "      <th>shop</th>\n",
       "      <th>sport</th>\n",
       "      <th>tourism</th>\n",
       "      <th>other_tags</th>\n",
       "      <th>geometry</th>\n",
       "    </tr>\n",
       "  </thead>\n",
       "  <tbody>\n",
       "  </tbody>\n",
       "</table>\n",
       "<p>0 rows × 26 columns</p>\n",
       "</div>"
      ],
      "text/plain": [
       "Empty GeoDataFrame\n",
       "Columns: [osm_id, osm_way_id, name, type, aeroway, amenity, admin_leve, barrier, boundary, building, craft, geological, historic, land_area, landuse, leisure, man_made, military, natural, office, place, shop, sport, tourism, other_tags, geometry]\n",
       "Index: []\n",
       "\n",
       "[0 rows x 26 columns]"
      ]
     },
     "execution_count": 56,
     "metadata": {},
     "output_type": "execute_result"
    }
   ],
   "source": [
    "streets"
   ]
  },
  {
   "cell_type": "code",
   "execution_count": 49,
   "id": "13d2e76d-d4b6-4de6-8d96-53e192a6ec89",
   "metadata": {},
   "outputs": [
    {
     "name": "stdout",
     "output_type": "stream",
     "text": [
      "/bin/bash: line 1: osmfilter: command not found\n"
     ]
    }
   ],
   "source": [
    "data/slovakia_streets/output-streets.shp data/osm/slovakia-latest.osm.pbf lines"
   ]
  },
  {
   "cell_type": "code",
   "execution_count": null,
   "id": "898f76da-6968-4efd-a1ee-6513f1763c1f",
   "metadata": {},
   "outputs": [],
   "source": []
  },
  {
   "cell_type": "code",
   "execution_count": 13,
   "id": "d9f8e6ce-e64c-4fea-b802-961b3a49d15b",
   "metadata": {},
   "outputs": [],
   "source": []
  },
  {
   "cell_type": "code",
   "execution_count": null,
   "id": "f8ccabd7-e7b1-426c-8880-cb143688c648",
   "metadata": {},
   "outputs": [],
   "source": []
  }
 ],
 "metadata": {
  "kernelspec": {
   "display_name": "Python 3 (ipykernel)",
   "language": "python",
   "name": "python3"
  },
  "language_info": {
   "codemirror_mode": {
    "name": "ipython",
    "version": 3
   },
   "file_extension": ".py",
   "mimetype": "text/x-python",
   "name": "python",
   "nbconvert_exporter": "python",
   "pygments_lexer": "ipython3",
   "version": "3.12.4"
  }
 },
 "nbformat": 4,
 "nbformat_minor": 5
}
