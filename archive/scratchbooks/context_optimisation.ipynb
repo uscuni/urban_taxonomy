{
 "cells": [
  {
   "cell_type": "markdown",
   "id": "8f401e66-e1b6-43db-bc28-ef2a664a7f92",
   "metadata": {},
   "source": [
    "### What to do with duplicates"
   ]
  },
  {
   "cell_type": "code",
   "execution_count": 88,
   "id": "efa7dcc5-f190-46ed-8f99-ca1098be7184",
   "metadata": {},
   "outputs": [],
   "source": [
    "from sklearn.metrics import davies_bouldin_score"
   ]
  },
  {
   "cell_type": "code",
   "execution_count": null,
   "id": "3150467a-01f5-4724-87e4-7ffa6e459743",
   "metadata": {},
   "outputs": [],
   "source": []
  },
  {
   "cell_type": "code",
   "execution_count": null,
   "id": "2c8c985d-525c-4d98-a2d4-f42401702fcd",
   "metadata": {},
   "outputs": [],
   "source": [
    "def gen_context(k):\n",
    "    context = parallel_higher_order_context(\n",
    "        primary, graph, k=k, n_splits=10, output_vals=3\n",
    "    )\n",
    "    context.columns = np.concatenate(\n",
    "        [(c + \"_lower\", c + \"_median\", c + \"_higher\") for c in primary.columns]\n",
    "    )\n",
    "\n",
    "    X = np.nan_to_num(StandardScaler().fit_transform(context))\n",
    "    X = pd.DataFrame(X, columns=context.columns, index=context.index)\n",
    "    return X"
   ]
  },
  {
   "cell_type": "code",
   "execution_count": null,
   "id": "1a42761b-f0cc-4136-98ab-cc5ac85b0957",
   "metadata": {},
   "outputs": [],
   "source": [
    "## raw data - # 0 5.213501953342362\n",
    "\n",
    "\n",
    "## for k, median\n",
    "\n",
    "# 1 4.407185909157248\n",
    "# 2 3.7449028665445314\n",
    "# 3 3.177338031439238\n",
    "# 4 2.7487112832582965\n",
    "# 5 2.4225430803200343\n",
    "# 6 2.1902310199847537\n",
    "# 7 2.076683384739847\n",
    "# 8 1.9575866085010756\n",
    "# 9 1.8318809221235526\n",
    "# 10 1.733115537010764\n",
    "\n",
    "\n",
    "## for k, percentiles - 25, 50, 75\n",
    "\n",
    "# 1 4.532244959188208\n",
    "# 2 3.8979737259386553\n",
    "# 3 3.3197095713276923\n",
    "# 4 2.8871373693927187\n",
    "# 5 2.5305537746283555\n",
    "# 6 2.2578865657313405\n",
    "# 7 2.0991688885079234\n",
    "# 8 1.9524610359013925\n",
    "# 9 1.8212752724853354\n",
    "# 10 1.7831617536150095\n",
    "\n",
    "\n",
    "### conclusion - topological steps matter more than any statistics we compute\n",
    "## basically we are doing a convolution and the 'bandwidth' is more important the the 'shape' of the kernel"
   ]
  },
  {
   "cell_type": "code",
   "execution_count": 89,
   "id": "bcdb6b92-bc51-4b99-b9b2-90b12b39453c",
   "metadata": {},
   "outputs": [
    {
     "data": {
      "text/plain": [
       "5.213501953342362"
      ]
     },
     "execution_count": 89,
     "metadata": {},
     "output_type": "execute_result"
    }
   ],
   "source": [
    "davies_bouldin_score(X_train.iloc[tess_groups_ilocs], tess_groups.values)"
   ]
  },
  {
   "cell_type": "code",
   "execution_count": null,
   "id": "d30167b1-da56-4174-a7e5-55c25c592b86",
   "metadata": {},
   "outputs": [],
   "source": []
  },
  {
   "cell_type": "code",
   "execution_count": 123,
   "id": "982cf272-02f8-4f95-877a-9d123fade511",
   "metadata": {},
   "outputs": [
    {
     "name": "stdout",
     "output_type": "stream",
     "text": [
      "1 4.407185909157248\n",
      "2 3.7449028665445314\n",
      "3 3.177338031439238\n",
      "4 2.7487112832582965\n",
      "5 2.4225430803200343\n",
      "6 2.1902310199847537\n",
      "7 2.076683384739847\n",
      "8 1.9575866085010756\n",
      "9 1.8318809221235526\n",
      "10 1.733115537010764\n"
     ]
    }
   ],
   "source": [
    "for k in [1, 2, 3, 4, 5, 6, 7, 8, 9, 10]:\n",
    "    X_train = gen_context(k)\n",
    "    X_train = X_train.loc[:, X_train.columns.str.endswith(\"_median\")]\n",
    "    print(k, davies_bouldin_score(X_train.iloc[tess_groups_ilocs], tess_groups.values))"
   ]
  },
  {
   "cell_type": "code",
   "execution_count": null,
   "id": "93ecb1c8-7903-4975-a5b3-a976cc380a52",
   "metadata": {},
   "outputs": [],
   "source": []
  }
 ],
 "metadata": {
  "kernelspec": {
   "display_name": "Python 3 (ipykernel)",
   "language": "python",
   "name": "python3"
  },
  "language_info": {
   "codemirror_mode": {
    "name": "ipython",
    "version": 3
   },
   "file_extension": ".py",
   "mimetype": "text/x-python",
   "name": "python",
   "nbconvert_exporter": "python",
   "pygments_lexer": "ipython3",
   "version": "3.12.3"
  }
 },
 "nbformat": 4,
 "nbformat_minor": 5
}
