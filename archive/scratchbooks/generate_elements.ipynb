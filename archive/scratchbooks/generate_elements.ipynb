{
 "cells": [
  {
   "cell_type": "code",
   "execution_count": 28,
   "id": "cc484c7d-18c3-4c53-b995-eabd3ad2b211",
   "metadata": {},
   "outputs": [],
   "source": [
    "def generate_tess(buildings, enclosures, n_workers=1):\n",
    "    tessellation = mm.enclosed_tessellation(\n",
    "        buildings, enclosures.geometry, simplify=True, n_jobs=n_workers\n",
    "    )\n",
    "    # deal with split buildings\n",
    "    tessellation = tessellation.dissolve(by=tessellation.index.values)\n",
    "\n",
    "    # drop empty spaces with no buildings and a positive index,\n",
    "    # leave negatives in the geodataframe\n",
    "    tessellation = tessellation.explode()\n",
    "    inp, res = buildings.geometry.centroid.sindex.query(tessellation.geometry)\n",
    "    to_keep = np.append(np.unique(inp), np.where(tessellation.index.values < 0)[0])\n",
    "    tessellation = tessellation.iloc[to_keep]\n",
    "\n",
    "    ### drop any remaining duplicates\n",
    "    ## sometimes -1s have multiple tesselation cells\n",
    "    tessellation = tessellation[~tessellation.index.duplicated()].sort_index()\n",
    "    return tessellation"
   ]
  },
  {
   "cell_type": "code",
   "execution_count": 29,
   "id": "7f9d64ac-e399-4afb-8510-1bec9a462001",
   "metadata": {},
   "outputs": [],
   "source": [
    "import datetime\n",
    "import glob\n",
    "\n",
    "import geopandas as gpd\n",
    "import momepy as mm\n",
    "import numpy as np\n",
    "import shapely\n",
    "from libpysal.graph import Graph\n",
    "\n",
    "regions_datadir = \"/data/uscuni-ulce/\"\n",
    "data_dir = \"/data/uscuni-ulce/processed_data/\"\n",
    "eubucco_files = glob.glob(regions_datadir + \"eubucco_raw/*\")\n",
    "graph_dir = data_dir + \"neigh_graphs/\""
   ]
  },
  {
   "cell_type": "code",
   "execution_count": 30,
   "id": "87b9cf22-707d-4ae1-bff5-2582941e08cd",
   "metadata": {},
   "outputs": [],
   "source": [
    "region_hulls = gpd.read_parquet(regions_datadir + \"regions/\" + \"regions_hull.parquet\")"
   ]
  },
  {
   "cell_type": "code",
   "execution_count": 31,
   "id": "c546cc91-857b-4572-a228-21f68dce836a",
   "metadata": {},
   "outputs": [
    {
     "data": {
      "text/plain": [
       "10"
      ]
     },
     "execution_count": 31,
     "metadata": {},
     "output_type": "execute_result"
    }
   ],
   "source": [
    "# 12199 - hills, small test\n",
    "# 69300 - prague medium\n",
    "# 226 - germany somewhere, largest cluster\n",
    "# 106928 + 1 - big one in poland\n",
    "for region_id, region_hull in region_hulls.iterrows():\n",
    "    if region_id < 10:\n",
    "        continue\n",
    "    break\n",
    "region_id"
   ]
  },
  {
   "cell_type": "code",
   "execution_count": 32,
   "id": "ae8c3b56-bd18-4d3f-8bd3-e7774b44e1a1",
   "metadata": {},
   "outputs": [
    {
     "name": "stdout",
     "output_type": "stream",
     "text": [
      "CPU times: user 1min 15s, sys: 1.97 s, total: 1min 17s\n",
      "Wall time: 1min 39s\n"
     ]
    }
   ],
   "source": [
    "%%time\n",
    "buildings = gpd.read_parquet(data_dir + f\"/buildings/buildings_{region_id}.parquet\")\n",
    "streets = gpd.read_parquet(data_dir + f\"/streets/streets_{region_id}.parquet\")\n",
    "buildings_limit = mm.buffered_limit(buildings, buffer=\"adaptive\")\n",
    "enclosures = mm.enclosures(streets, limit=buildings_limit)\n",
    "tesselations = generate_tess(buildings, enclosures, n_workers=-1)\n",
    "\n",
    "\n",
    "### there are some edge cases for long and narrow buildings and\n",
    "## completely wrong polygons that are dropped by voronoi_frames\n",
    "## region 10 has this problem\n",
    "tesselation_coverage = np.isin(buildings.index.values, tesselations.index.values)"
   ]
  },
  {
   "cell_type": "code",
   "execution_count": 34,
   "id": "8ac7704d-b28c-49a8-b5ce-6921a80cd1c3",
   "metadata": {},
   "outputs": [],
   "source": [
    "assert tesselation_coverage.all()"
   ]
  },
  {
   "cell_type": "code",
   "execution_count": null,
   "id": "8b163c8c-852b-4e80-a9ed-0616cfeaa0d5",
   "metadata": {},
   "outputs": [],
   "source": []
  },
  {
   "cell_type": "code",
   "execution_count": null,
   "id": "cbe658e3-4851-4d8d-b83b-85deb6864220",
   "metadata": {},
   "outputs": [],
   "source": []
  },
  {
   "cell_type": "code",
   "execution_count": 14,
   "id": "6f94d022-b808-47f4-acfc-3aec63253053",
   "metadata": {},
   "outputs": [
    {
     "name": "stdout",
     "output_type": "stream",
     "text": [
      "---- Processing region:  12199 2024-06-14 17:13:51.993366\n"
     ]
    }
   ],
   "source": [
    "print(\"----\", \"Processing region: \", region_id, datetime.datetime.now())\n",
    "buildings = gpd.read_parquet(data_dir + f\"/buildings/buildings_{region_id}.parquet\")\n",
    "streets = gpd.read_parquet(data_dir + f\"/streets/streets_{region_id}.parquet\")"
   ]
  },
  {
   "cell_type": "code",
   "execution_count": 15,
   "id": "5833f380-dddf-470b-a725-48540845b5ab",
   "metadata": {},
   "outputs": [],
   "source": [
    "buildings_limit = mm.buffered_limit(buildings, buffer=\"adaptive\")\n",
    "enclosures = mm.enclosures(streets, limit=buildings_limit)"
   ]
  },
  {
   "cell_type": "code",
   "execution_count": null,
   "id": "cb44224a-5a95-4e38-ad9c-72135d47b065",
   "metadata": {},
   "outputs": [],
   "source": []
  },
  {
   "cell_type": "code",
   "execution_count": 16,
   "id": "2b0d0544-7c0f-457a-9534-1abf72356309",
   "metadata": {},
   "outputs": [],
   "source": [
    "n_workers = -1\n",
    "tessellation = mm.enclosed_tessellation(\n",
    "    buildings, enclosures.geometry, simplify=True, n_jobs=n_workers\n",
    ")\n",
    "# deal with split buildings\n",
    "tessellation = tessellation.dissolve(by=tessellation.index.values)\n",
    "\n",
    "# drop empty spaces with no buildings and a positive index,\n",
    "# leave negatives in the geodataframe\n",
    "tessellation = tessellation.explode()\n",
    "inp, res = buildings.geometry.centroid.sindex.query(tessellation.geometry)\n",
    "to_keep = np.append(np.unique(inp), np.where(tessellation.index.values < 0)[0])\n",
    "tessellation = tessellation.iloc[to_keep]\n",
    "\n",
    "### drop any remaining duplicates\n",
    "## sometimes -1s have multiple tesselation cells\n",
    "tessellation = tessellation[~tessellation.index.duplicated()].sort_index()"
   ]
  },
  {
   "cell_type": "code",
   "execution_count": null,
   "id": "bc472ac8-bfaf-454e-8c54-359edafbb284",
   "metadata": {},
   "outputs": [],
   "source": []
  },
  {
   "cell_type": "code",
   "execution_count": 17,
   "id": "1e0a97ad-ef85-466a-8144-f3772ba23556",
   "metadata": {},
   "outputs": [],
   "source": [
    "graph = Graph.build_fuzzy_contiguity(tessellation, buffer=1e-6).assign_self_weight()"
   ]
  },
  {
   "cell_type": "code",
   "execution_count": null,
   "id": "87c533c3-5269-40e5-8536-b9d58ee73e5a",
   "metadata": {},
   "outputs": [],
   "source": []
  },
  {
   "cell_type": "code",
   "execution_count": 26,
   "id": "d1a05575-8ebc-4fb6-923e-351764be020a",
   "metadata": {},
   "outputs": [],
   "source": [
    "graph.to_parquet(\n",
    "    data_dir + \"neigh_graphs/\" + f\"enclosure_graph_{region_id}_knn1.parquet\"\n",
    ")"
   ]
  },
  {
   "cell_type": "code",
   "execution_count": null,
   "id": "906eee2a-041a-423d-9beb-b4104fc751bd",
   "metadata": {},
   "outputs": [],
   "source": []
  },
  {
   "cell_type": "code",
   "execution_count": null,
   "id": "82069aa4-2445-4731-8290-57a523171e2a",
   "metadata": {},
   "outputs": [],
   "source": []
  },
  {
   "cell_type": "code",
   "execution_count": 21,
   "id": "f857b8b2-883a-4c8f-a0ce-9889871ffb04",
   "metadata": {},
   "outputs": [],
   "source": [
    "subgraph = graph.subgraph(tessellation.index[tessellation.index >= 0].values)"
   ]
  },
  {
   "cell_type": "code",
   "execution_count": 24,
   "id": "a8262be7-9ff5-4668-8970-0f307f15202f",
   "metadata": {},
   "outputs": [],
   "source": [
    "# m = enclosures.explore()\n",
    "# m = subgraph.explore(tessellation, m=m)\n",
    "# m"
   ]
  },
  {
   "cell_type": "code",
   "execution_count": null,
   "id": "a6adb9b5-6e58-4c6e-9bbb-3050526a93e5",
   "metadata": {},
   "outputs": [],
   "source": []
  },
  {
   "cell_type": "code",
   "execution_count": null,
   "id": "132d40c8-2c3c-4be7-b0a3-0a5d11259e0e",
   "metadata": {},
   "outputs": [],
   "source": []
  },
  {
   "cell_type": "code",
   "execution_count": null,
   "id": "0f62826a-cb63-4163-9fe2-19151b34ea29",
   "metadata": {},
   "outputs": [],
   "source": []
  },
  {
   "cell_type": "code",
   "execution_count": null,
   "id": "96ff0c9b-df8a-47a2-962a-aba5ccc0392b",
   "metadata": {},
   "outputs": [],
   "source": []
  },
  {
   "cell_type": "code",
   "execution_count": null,
   "id": "2a46255a-8145-481e-9f82-fa8c58786817",
   "metadata": {},
   "outputs": [],
   "source": [
    "\n",
    "shapely.__version__"
   ]
  },
  {
   "cell_type": "code",
   "execution_count": null,
   "id": "be01592b-8aa5-490a-9d70-da8a9b56e93e",
   "metadata": {},
   "outputs": [],
   "source": [
    "from packaging.version import Version"
   ]
  },
  {
   "cell_type": "code",
   "execution_count": null,
   "id": "638543e8-29d3-4750-a205-16cfd4ce8d8c",
   "metadata": {},
   "outputs": [],
   "source": [
    "Version(shapely.__version__) >= Version(\"2.1.0dev\")"
   ]
  },
  {
   "cell_type": "code",
   "execution_count": null,
   "id": "18251ee2-cda4-477e-942a-a4bf27f23b34",
   "metadata": {},
   "outputs": [],
   "source": []
  },
  {
   "cell_type": "code",
   "execution_count": null,
   "id": "08ee1dc8-9039-4af7-88ca-1e5987a3e1ba",
   "metadata": {},
   "outputs": [],
   "source": []
  },
  {
   "cell_type": "code",
   "execution_count": 1,
   "id": "7f1c42ea-1b12-4177-86e2-30d7d8b3260b",
   "metadata": {},
   "outputs": [],
   "source": [
    "import geopandas as gpd\n",
    "import momepy as mm\n",
    "import numpy as np\n",
    "from libpysal.graph import Graph"
   ]
  },
  {
   "cell_type": "code",
   "execution_count": 2,
   "id": "171f0ac4-cb67-4f11-ac1f-6e324b3b3719",
   "metadata": {},
   "outputs": [
    {
     "data": {
      "text/plain": [
       "['buildings', 'nodes', 'edges', 'tessellation', 'blocks']"
      ]
     },
     "execution_count": 2,
     "metadata": {},
     "output_type": "execute_result"
    }
   ],
   "source": [
    "test_file_path = \"./prg_geometry.gpkg\"\n",
    "import fiona\n",
    "\n",
    "fiona.listlayers(test_file_path)"
   ]
  },
  {
   "cell_type": "code",
   "execution_count": 3,
   "id": "cd8683cb-d2b6-4407-a509-dce00bf67062",
   "metadata": {},
   "outputs": [
    {
     "name": "stdout",
     "output_type": "stream",
     "text": [
      "CPU times: user 6.9 s, sys: 32.2 ms, total: 6.94 s\n",
      "Wall time: 6.93 s\n"
     ]
    }
   ],
   "source": [
    "%%time\n",
    "# example data\n",
    "df_streets = gpd.read_file(test_file_path, layer=\"edges\")\n",
    "df_buildings = gpd.read_file(test_file_path, layer=\"buildings\")"
   ]
  },
  {
   "cell_type": "code",
   "execution_count": null,
   "id": "b28f685d-8471-457a-b45a-17dea45cfe54",
   "metadata": {},
   "outputs": [],
   "source": []
  },
  {
   "cell_type": "code",
   "execution_count": null,
   "id": "e54132e4-d80a-4eab-9872-6f2620dc5473",
   "metadata": {},
   "outputs": [],
   "source": []
  },
  {
   "cell_type": "code",
   "execution_count": 4,
   "id": "0f4cb7af-ed67-4f63-b619-163235f709f4",
   "metadata": {},
   "outputs": [
    {
     "name": "stdout",
     "output_type": "stream",
     "text": [
      "Collapsed features  : 0\n",
      "Split features      : 291\n",
      "Overlapping features: 0\n",
      "CPU times: user 4.09 s, sys: 60 ms, total: 4.15 s\n",
      "Wall time: 4.15 s\n"
     ]
    },
    {
     "data": {
      "text/plain": [
       "<momepy.preprocessing.CheckTessellationInput at 0x71116247fa40>"
      ]
     },
     "execution_count": 4,
     "metadata": {},
     "output_type": "execute_result"
    }
   ],
   "source": [
    "%%time\n",
    "check = mm.CheckTessellationInput(df_buildings)\n",
    "check"
   ]
  },
  {
   "cell_type": "code",
   "execution_count": 5,
   "id": "881d9146-49ab-4b38-8b9c-d0837aaafc6e",
   "metadata": {},
   "outputs": [],
   "source": [
    "limit = mm.buffered_limit(df_buildings, 100)"
   ]
  },
  {
   "cell_type": "code",
   "execution_count": 6,
   "id": "8c962d1c-9d62-4dbf-9882-b02c54f69048",
   "metadata": {},
   "outputs": [
    {
     "name": "stdout",
     "output_type": "stream",
     "text": [
      "CPU times: user 2min 39s, sys: 4.04 s, total: 2min 43s\n",
      "Wall time: 2min 43s\n"
     ]
    }
   ],
   "source": [
    "%%time\n",
    "tessellation = mm.morphological_tessellation(df_buildings, limit)"
   ]
  },
  {
   "cell_type": "code",
   "execution_count": 7,
   "id": "f01411bb-72d1-4181-a4f0-3c8508fa9d7f",
   "metadata": {},
   "outputs": [],
   "source": [
    "tessellation = tessellation.rename(\"geometry\").to_frame()"
   ]
  },
  {
   "cell_type": "code",
   "execution_count": 8,
   "id": "3520ee72-a8e7-4886-8dbd-0e810fde8c63",
   "metadata": {},
   "outputs": [
    {
     "name": "stdout",
     "output_type": "stream",
     "text": [
      "CPU times: user 2.45 s, sys: 48 µs, total: 2.45 s\n",
      "Wall time: 2.45 s\n"
     ]
    }
   ],
   "source": [
    "%%time\n",
    "extended = mm.extend_lines(\n",
    "    df_streets,\n",
    "    tolerance=120,\n",
    "    target=gpd.GeoSeries([limit.boundary]),\n",
    "    barrier=df_buildings,\n",
    ")"
   ]
  },
  {
   "cell_type": "code",
   "execution_count": null,
   "id": "ec63f2b5-18b9-43ba-b3e5-33579aaae744",
   "metadata": {},
   "outputs": [],
   "source": []
  },
  {
   "cell_type": "code",
   "execution_count": 9,
   "id": "fa636ca1-715d-4fb7-9447-fa53330af116",
   "metadata": {},
   "outputs": [
    {
     "name": "stdout",
     "output_type": "stream",
     "text": [
      "CPU times: user 1min 28s, sys: 1.24 s, total: 1min 30s\n",
      "Wall time: 1min 30s\n"
     ]
    }
   ],
   "source": [
    "%%time\n",
    "(blocks_df, buildings_bid, tessellation_bid) = mm.generate_blocks(\n",
    "    tessellation, edges=extended, buildings=df_buildings\n",
    ")"
   ]
  },
  {
   "cell_type": "code",
   "execution_count": null,
   "id": "16ed0cfa-3275-4db3-a6b7-841dc8148c26",
   "metadata": {},
   "outputs": [],
   "source": [
    "(blocks_df, buildings_bid, tessellation_bid) = mm.generate_blocks(\n",
    "    tessellation, df_streets, buildings=df_buildings\n",
    ")"
   ]
  },
  {
   "cell_type": "code",
   "execution_count": null,
   "id": "e57181b5-6248-4670-9bd1-00a071157097",
   "metadata": {},
   "outputs": [],
   "source": [
    "blocks_df"
   ]
  },
  {
   "cell_type": "code",
   "execution_count": null,
   "id": "46429689-f68d-4142-940a-65570624be83",
   "metadata": {},
   "outputs": [],
   "source": []
  },
  {
   "cell_type": "code",
   "execution_count": null,
   "id": "19df5906-7407-4616-a30f-5c24dc91bbdb",
   "metadata": {},
   "outputs": [],
   "source": []
  },
  {
   "cell_type": "code",
   "execution_count": 36,
   "id": "04ddc60e-2941-425f-afbe-bf7f741691d8",
   "metadata": {},
   "outputs": [],
   "source": [
    "df_buildings[\"bID\"] = buildings_bid  # get block ID\n",
    "tessellation[\"bID\"] = tessellation_bid  # get block ID"
   ]
  },
  {
   "cell_type": "code",
   "execution_count": 29,
   "id": "04bf540a-09d6-4245-8334-e4a372cf3296",
   "metadata": {},
   "outputs": [
    {
     "name": "stdout",
     "output_type": "stream",
     "text": [
      "CPU times: user 1min, sys: 11.9 ms, total: 1min 1s\n",
      "Wall time: 1min\n"
     ]
    },
    {
     "name": "stderr",
     "output_type": "stream",
     "text": [
      "<timed exec>:2: UserWarning: Some objects were not attached to the network. Set larger `min_size``. 91 affected elements.\n"
     ]
    }
   ],
   "source": [
    "%%time\n",
    "df_streets[\"nID\"] = range(len(df_streets))\n",
    "df_buildings[\"nID\"] = mm.get_network_id(\n",
    "    df_buildings, df_streets, \"nID\", min_size=300, verbose=False\n",
    ")"
   ]
  },
  {
   "cell_type": "code",
   "execution_count": 37,
   "id": "db27d8b3-cb3c-43fa-a9a3-da320501ca51",
   "metadata": {},
   "outputs": [],
   "source": [
    "tessellation = tessellation.merge(\n",
    "    df_buildings[[\"nID\"]], right_index=True, left_index=True, how=\"left\"\n",
    ")"
   ]
  },
  {
   "cell_type": "code",
   "execution_count": null,
   "id": "6c37f751-69e1-46c1-babc-64aec0ea3552",
   "metadata": {},
   "outputs": [],
   "source": []
  },
  {
   "cell_type": "code",
   "execution_count": null,
   "id": "3ab6df1f-c64e-4d8d-b287-7ec3673e2810",
   "metadata": {},
   "outputs": [],
   "source": [
    "### save to file"
   ]
  },
  {
   "cell_type": "code",
   "execution_count": 39,
   "id": "8a6a8215-de60-409c-a7be-50a9612657b1",
   "metadata": {},
   "outputs": [],
   "source": [
    "path = \"./data/new_geometry.gpkg\"\n",
    "tessellation.to_file(path, layer=\"tessellation\", driver=\"GPKG\")\n",
    "df_buildings.to_file(path, layer=\"buildings\", driver=\"GPKG\")\n",
    "blocks_df.to_file(path, layer=\"blocks\", driver=\"GPKG\")\n",
    "df_streets.to_file(path, layer=\"streets\", driver=\"GPKG\")"
   ]
  },
  {
   "cell_type": "code",
   "execution_count": null,
   "id": "02d6c4c3-b95d-46d3-8175-3bcd9a7f64e6",
   "metadata": {},
   "outputs": [],
   "source": []
  },
  {
   "cell_type": "code",
   "execution_count": null,
   "id": "10265dcd-dac8-45a1-aa42-156f2502a5f5",
   "metadata": {},
   "outputs": [],
   "source": []
  },
  {
   "cell_type": "code",
   "execution_count": null,
   "id": "f9ab8311-7a23-4f63-9adf-aec619e63fac",
   "metadata": {},
   "outputs": [],
   "source": [
    "## compare to oo version - does not work - the two tessalation functions return different results"
   ]
  },
  {
   "cell_type": "code",
   "execution_count": 22,
   "id": "188a1bf3-a451-4d0d-b23a-133ca58b7dd2",
   "metadata": {},
   "outputs": [
    {
     "name": "stdout",
     "output_type": "stream",
     "text": [
      "CPU times: user 23.4 s, sys: 80 ms, total: 23.5 s\n",
      "Wall time: 23.5 s\n"
     ]
    }
   ],
   "source": [
    "%%time\n",
    "test_file_path = \"./prg_geometry.gpkg\"\n",
    "old_df_streets = gpd.read_file(test_file_path, layer=\"edges\")\n",
    "old_df_buildings = gpd.read_file(test_file_path, layer=\"buildings\")\n",
    "old_df_blocks = gpd.read_file(test_file_path, layer=\"blocks\")\n",
    "old_df_tessellation = gpd.read_file(test_file_path, layer=\"tessellation\")"
   ]
  },
  {
   "cell_type": "code",
   "execution_count": 23,
   "id": "545bb9e6-2f33-4027-ad06-7d86982bf2b2",
   "metadata": {},
   "outputs": [],
   "source": [
    "old_df_streets[\"nID\"] = mm.unique_id(old_df_streets)"
   ]
  },
  {
   "cell_type": "code",
   "execution_count": 24,
   "id": "117eea6f-b95f-4f0f-a4ec-0e2a79ee9548",
   "metadata": {},
   "outputs": [
    {
     "name": "stderr",
     "output_type": "stream",
     "text": [
      "/tmp/ipykernel_25116/3319197684.py:1: UserWarning: Some objects were not attached to the network. Set larger `min_size``. 91 affected elements.\n",
      "  old_df_buildings['nID'] = mm.get_network_id(old_df_buildings,\n"
     ]
    }
   ],
   "source": [
    "old_df_buildings[\"nID\"] = mm.get_network_id(\n",
    "    old_df_buildings, old_df_streets, \"nID\", min_size=300, verbose=False\n",
    ")"
   ]
  },
  {
   "cell_type": "code",
   "execution_count": 25,
   "id": "62f55377-2a00-458a-87fa-d8b5ad631ddf",
   "metadata": {},
   "outputs": [
    {
     "name": "stdout",
     "output_type": "stream",
     "text": [
      "CPU times: user 1min 41s, sys: 1.48 s, total: 1min 42s\n",
      "Wall time: 1min 42s\n"
     ]
    }
   ],
   "source": [
    "%%time\n",
    "limit = mm.buffered_limit(old_df_buildings, 100)\n",
    "extended = mm.extend_lines(\n",
    "    old_df_streets,\n",
    "    tolerance=120,\n",
    "    target=gpd.GeoSeries([limit.boundary]),\n",
    "    barrier=old_df_buildings,\n",
    ")\n",
    "blocks = mm.Blocks(old_df_tessellation, extended, old_df_buildings, \"bID\", \"uID\")\n",
    "old_df_buildings[\"bID\"] = blocks.buildings_id\n",
    "old_df_tessellation[\"bID\"] = blocks.tessellation_id\n",
    "blocks = blocks.blocks"
   ]
  },
  {
   "cell_type": "code",
   "execution_count": 26,
   "id": "58047410-4d12-431c-9bf7-0796a4aad0a7",
   "metadata": {},
   "outputs": [
    {
     "data": {
      "text/plain": [
       "(7220, 2)"
      ]
     },
     "execution_count": 26,
     "metadata": {},
     "output_type": "execute_result"
    }
   ],
   "source": [
    "blocks.shape"
   ]
  },
  {
   "cell_type": "code",
   "execution_count": 27,
   "id": "8784c9f4-d5b6-4a80-8129-315136666826",
   "metadata": {},
   "outputs": [
    {
     "name": "stdout",
     "output_type": "stream",
     "text": [
      "CPU times: user 24.3 s, sys: 92.4 ms, total: 24.4 s\n",
      "Wall time: 24.3 s\n"
     ]
    }
   ],
   "source": [
    "%%time\n",
    "new_file_path = \"./data/new_geometry.gpkg\"\n",
    "new_df_streets = gpd.read_file(new_file_path, layer=\"streets\")\n",
    "new_df_buildings = gpd.read_file(new_file_path, layer=\"buildings\")\n",
    "new_df_blocks = gpd.read_file(new_file_path, layer=\"blocks\")\n",
    "new_df_tessellation = gpd.read_file(new_file_path, layer=\"tessellation\")"
   ]
  },
  {
   "cell_type": "code",
   "execution_count": 28,
   "id": "8c875744-6e81-4bab-9a7b-0a9ad150133c",
   "metadata": {},
   "outputs": [],
   "source": [
    "from geopandas.testing import assert_geodataframe_equal"
   ]
  },
  {
   "cell_type": "code",
   "execution_count": null,
   "id": "90c97cbb-1c08-4e99-b8cb-7c098ed51460",
   "metadata": {},
   "outputs": [],
   "source": []
  },
  {
   "cell_type": "code",
   "execution_count": null,
   "id": "09c3471c-d840-427d-a6e8-88eacff7943b",
   "metadata": {},
   "outputs": [],
   "source": []
  },
  {
   "cell_type": "code",
   "execution_count": 37,
   "id": "533b70ee-a6ad-4718-ba1a-22701f772e5f",
   "metadata": {},
   "outputs": [
    {
     "ename": "AssertionError",
     "evalue": "GeoDataFrame.columns are different\n\nGeoDataFrame.columns values are different (50.0 %)\n[left]:  Index(['uID', 'bID', 'nID', 'geometry'], dtype='object')\n[right]: Index(['uID', 'geometry', 'nID', 'bID'], dtype='object')",
     "output_type": "error",
     "traceback": [
      "\u001b[0;31m---------------------------------------------------------------------------\u001b[0m",
      "\u001b[0;31mAssertionError\u001b[0m                            Traceback (most recent call last)",
      "Cell \u001b[0;32mIn[37], line 2\u001b[0m\n\u001b[1;32m      1\u001b[0m assert_geodataframe_equal(new_df_streets, old_df_streets)\n\u001b[0;32m----> 2\u001b[0m \u001b[43massert_geodataframe_equal\u001b[49m\u001b[43m(\u001b[49m\u001b[43mnew_df_buildings\u001b[49m\u001b[43m,\u001b[49m\u001b[43m \u001b[49m\u001b[43mold_df_buildings\u001b[49m\u001b[43m)\u001b[49m\n\u001b[1;32m      3\u001b[0m assert_geodataframe_equal(new_df_blocks, old_df_blocks)\n\u001b[1;32m      4\u001b[0m assert_geodataframe_equal(new_df_tessellation, old_df_tessellation)\n",
      "File \u001b[0;32m~/miniconda3/envs/momepy/lib/python3.12/site-packages/geopandas/testing.py:328\u001b[0m, in \u001b[0;36massert_geodataframe_equal\u001b[0;34m(left, right, check_dtype, check_index_type, check_column_type, check_frame_type, check_like, check_less_precise, check_geom_type, check_crs, normalize)\u001b[0m\n\u001b[1;32m    325\u001b[0m     left, right \u001b[38;5;241m=\u001b[39m left\u001b[38;5;241m.\u001b[39mreindex_like(right), right\n\u001b[1;32m    327\u001b[0m \u001b[38;5;66;03m# column comparison\u001b[39;00m\n\u001b[0;32m--> 328\u001b[0m \u001b[43massert_index_equal\u001b[49m\u001b[43m(\u001b[49m\n\u001b[1;32m    329\u001b[0m \u001b[43m    \u001b[49m\u001b[43mleft\u001b[49m\u001b[38;5;241;43m.\u001b[39;49m\u001b[43mcolumns\u001b[49m\u001b[43m,\u001b[49m\u001b[43m \u001b[49m\u001b[43mright\u001b[49m\u001b[38;5;241;43m.\u001b[39;49m\u001b[43mcolumns\u001b[49m\u001b[43m,\u001b[49m\u001b[43m \u001b[49m\u001b[43mexact\u001b[49m\u001b[38;5;241;43m=\u001b[39;49m\u001b[43mcheck_column_type\u001b[49m\u001b[43m,\u001b[49m\u001b[43m \u001b[49m\u001b[43mobj\u001b[49m\u001b[38;5;241;43m=\u001b[39;49m\u001b[38;5;124;43m\"\u001b[39;49m\u001b[38;5;124;43mGeoDataFrame.columns\u001b[39;49m\u001b[38;5;124;43m\"\u001b[39;49m\n\u001b[1;32m    330\u001b[0m \u001b[43m\u001b[49m\u001b[43m)\u001b[49m\n\u001b[1;32m    332\u001b[0m \u001b[38;5;66;03m# geometry comparison\u001b[39;00m\n\u001b[1;32m    333\u001b[0m \u001b[38;5;28;01mfor\u001b[39;00m col, dtype \u001b[38;5;129;01min\u001b[39;00m left\u001b[38;5;241m.\u001b[39mdtypes\u001b[38;5;241m.\u001b[39mitems():\n",
      "    \u001b[0;31m[... skipping hidden 1 frame]\u001b[0m\n",
      "File \u001b[0;32m~/miniconda3/envs/momepy/lib/python3.12/site-packages/pandas/_testing/asserters.py:614\u001b[0m, in \u001b[0;36mraise_assert_detail\u001b[0;34m(obj, message, left, right, diff, first_diff, index_values)\u001b[0m\n\u001b[1;32m    611\u001b[0m \u001b[38;5;28;01mif\u001b[39;00m first_diff \u001b[38;5;129;01mis\u001b[39;00m \u001b[38;5;129;01mnot\u001b[39;00m \u001b[38;5;28;01mNone\u001b[39;00m:\n\u001b[1;32m    612\u001b[0m     msg \u001b[38;5;241m+\u001b[39m\u001b[38;5;241m=\u001b[39m \u001b[38;5;124mf\u001b[39m\u001b[38;5;124m\"\u001b[39m\u001b[38;5;130;01m\\n\u001b[39;00m\u001b[38;5;132;01m{\u001b[39;00mfirst_diff\u001b[38;5;132;01m}\u001b[39;00m\u001b[38;5;124m\"\u001b[39m\n\u001b[0;32m--> 614\u001b[0m \u001b[38;5;28;01mraise\u001b[39;00m \u001b[38;5;167;01mAssertionError\u001b[39;00m(msg)\n",
      "\u001b[0;31mAssertionError\u001b[0m: GeoDataFrame.columns are different\n\nGeoDataFrame.columns values are different (50.0 %)\n[left]:  Index(['uID', 'bID', 'nID', 'geometry'], dtype='object')\n[right]: Index(['uID', 'geometry', 'nID', 'bID'], dtype='object')"
     ]
    }
   ],
   "source": [
    "assert_geodataframe_equal(new_df_streets, old_df_streets)\n",
    "assert_geodataframe_equal(new_df_buildings, old_df_buildings)\n",
    "assert_geodataframe_equal(new_df_blocks, old_df_blocks)\n",
    "assert_geodataframe_equal(new_df_tessellation, old_df_tessellation)"
   ]
  }
 ],
 "metadata": {
  "kernelspec": {
   "display_name": "Python 3 (ipykernel)",
   "language": "python",
   "name": "python3"
  },
  "language_info": {
   "codemirror_mode": {
    "name": "ipython",
    "version": 3
   },
   "file_extension": ".py",
   "mimetype": "text/x-python",
   "name": "python",
   "nbconvert_exporter": "python",
   "pygments_lexer": "ipython3",
   "version": "3.12.3"
  }
 },
 "nbformat": 4,
 "nbformat_minor": 5
}
