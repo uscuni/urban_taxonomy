{
 "cells": [
  {
   "cell_type": "markdown",
   "metadata": {},
   "source": [
    "# Visualize data on an interactive map\n",
    "\n",
    "This notebook uses `lonboard` for interactive visualisation of data."
   ]
  },
  {
   "cell_type": "code",
   "execution_count": 1,
   "metadata": {},
   "outputs": [],
   "source": [
    "import geopandas as gpd\n",
    "import numpy as np\n",
    "import lonboard\n",
    "from core.utils import used_keys\n",
    "from lonboard.colormap import apply_continuous_cmap\n",
    "import matplotlib as mpl\n",
    "from mapclassify import classify\n",
    "from sidecar import Sidecar"
   ]
  },
  {
   "cell_type": "markdown",
   "metadata": {},
   "source": [
    "Define data path"
   ]
  },
  {
   "cell_type": "code",
   "execution_count": 2,
   "metadata": {},
   "outputs": [],
   "source": [
    "chars_dir = \"/data/uscuni-ulce/processed_data/chars/\""
   ]
  },
  {
   "cell_type": "markdown",
   "metadata": {},
   "source": [
    "Define region"
   ]
  },
  {
   "cell_type": "code",
   "execution_count": 3,
   "metadata": {},
   "outputs": [],
   "source": [
    "region = 69333"
   ]
  },
  {
   "cell_type": "markdown",
   "metadata": {
    "jp-MarkdownHeadingCollapsed": true
   },
   "source": [
    "## Buildings\n",
    "Load building data and ensure the geometries are all valid Polygons."
   ]
  },
  {
   "cell_type": "code",
   "execution_count": null,
   "metadata": {},
   "outputs": [],
   "source": []
  },
  {
   "cell_type": "code",
   "execution_count": 5,
   "metadata": {},
   "outputs": [],
   "source": [
    "buildings = gpd.read_parquet(f\"{chars_dir}buildings_chars_{region}.parquet\").to_crs(4326).reset_index()\n",
    "\n",
    "buildings.geometry = buildings.make_valid()\n",
    "\n",
    "buildings = buildings[buildings.geom_type.str.contains(\"Polygon\")]"
   ]
  },
  {
   "cell_type": "markdown",
   "metadata": {},
   "source": [
    "Create a lonboard layer"
   ]
  },
  {
   "cell_type": "code",
   "execution_count": 6,
   "metadata": {},
   "outputs": [
    {
     "name": "stdout",
     "output_type": "stream",
     "text": [
      "CPU times: user 1.69 s, sys: 259 ms, total: 1.95 s\n",
      "Wall time: 1.91 s\n"
     ]
    }
   ],
   "source": [
    "%%time\n",
    "layer = lonboard.PolygonLayer.from_geopandas(buildings, opacity=.3)"
   ]
  },
  {
   "cell_type": "markdown",
   "metadata": {},
   "source": [
    "Create a Sidecar view (assumes JupyterLab) for more comfortable experience."
   ]
  },
  {
   "cell_type": "code",
   "execution_count": 7,
   "metadata": {},
   "outputs": [],
   "source": [
    "sc = Sidecar(title='buildings')"
   ]
  },
  {
   "cell_type": "markdown",
   "metadata": {},
   "source": [
    "Create a Map object"
   ]
  },
  {
   "cell_type": "code",
   "execution_count": 8,
   "metadata": {},
   "outputs": [],
   "source": [
    "m = lonboard.Map(layer)"
   ]
  },
  {
   "cell_type": "markdown",
   "metadata": {},
   "source": [
    "Display map within the sidecar plugin"
   ]
  },
  {
   "cell_type": "code",
   "execution_count": 9,
   "metadata": {},
   "outputs": [],
   "source": [
    "with sc:\n",
    "    display(m)"
   ]
  },
  {
   "cell_type": "markdown",
   "metadata": {},
   "source": [
    "List avaialable columns"
   ]
  },
  {
   "cell_type": "code",
   "execution_count": 10,
   "metadata": {},
   "outputs": [
    {
     "data": {
      "text/plain": [
       "Index(['index', 'gml_id', 'description', 'beginLifespanVersion',\n",
       "       'conditionOfConstruction', 'localId', 'namespace', 'versionId',\n",
       "       'referenceGeometry', 'horizontalGeometryEstimatedAccuracy', 'x', 'y',\n",
       "       'id', 'iid', 'geometry', 'ssbCCo', 'ssbCor', 'ssbSqu', 'ssbCCM',\n",
       "       'ssbCCD', 'sdbAre', 'sdbPer', 'sdbCoA', 'ssbERI', 'ssbElo', 'stbOri',\n",
       "       'mtbSWR', 'libNCo', 'ldbPWL', 'mibCou', 'mibLen', 'mibAre', 'mibElo',\n",
       "       'mibERI', 'mibCCo', 'mibLAL', 'mibFR', 'mibSCo', 'ltcBuA', 'mtbAli',\n",
       "       'mtbNDi', 'ltbIBD', 'stbCeA', 'nID', 'stbSAl', 'nodeID'],\n",
       "      dtype='object')"
      ]
     },
     "execution_count": 10,
     "metadata": {},
     "output_type": "execute_result"
    }
   ],
   "source": [
    "buildings.columns"
   ]
  },
  {
   "cell_type": "markdown",
   "metadata": {},
   "source": [
    "Specify a column and pass its values into a choropleth representation within the map. "
   ]
  },
  {
   "cell_type": "code",
   "execution_count": 11,
   "metadata": {},
   "outputs": [],
   "source": [
    "# buildings.explore()"
   ]
  },
  {
   "cell_type": "code",
   "execution_count": 16,
   "metadata": {},
   "outputs": [
    {
     "data": {
      "text/plain": [
       "'shared walls ratio of buildings'"
      ]
     },
     "execution_count": 16,
     "metadata": {},
     "output_type": "execute_result"
    }
   ],
   "source": [
    "column = 'mtbSWR'\n",
    "used_keys[column]"
   ]
  },
  {
   "cell_type": "code",
   "execution_count": 17,
   "metadata": {},
   "outputs": [
    {
     "name": "stderr",
     "output_type": "stream",
     "text": [
      "/home/krasen/urban_taxonomy/.pixi/envs/default/lib/python3.12/site-packages/mapclassify/classifiers.py:1653: UserWarning: Not enough unique values in array to form 50 classes. Setting k to 4.\n",
      "  self.bins = quantile(y, k=k)\n"
     ]
    }
   ],
   "source": [
    "classifier = classify(buildings[column], 'quantiles', k=50)\n",
    "normalizer = mpl.colors.Normalize(0, classifier.bins.shape[0])\n",
    "vals = normalizer(classifier.yb)\n",
    "layer.get_fill_color = apply_continuous_cmap(vals, mpl.colormaps['viridis'])"
   ]
  },
  {
   "cell_type": "code",
   "execution_count": null,
   "metadata": {},
   "outputs": [],
   "source": []
  },
  {
   "cell_type": "code",
   "execution_count": 13,
   "metadata": {},
   "outputs": [
    {
     "data": {
      "text/plain": [
       "mean    0.698909\n",
       "std     0.189620\n",
       "min     0.038621\n",
       "25%     0.569519\n",
       "50%     0.718208\n",
       "75%     0.852572\n",
       "max     0.999996\n",
       "Name: mibElo, dtype: float64"
      ]
     },
     "execution_count": 13,
     "metadata": {},
     "output_type": "execute_result"
    }
   ],
   "source": [
    "buildings[column].describe().iloc[1:]"
   ]
  },
  {
   "cell_type": "markdown",
   "metadata": {},
   "source": [
    "## Tessellation"
   ]
  },
  {
   "cell_type": "markdown",
   "metadata": {},
   "source": [
    "Load tessellation data and ensure the geometries are all valid Polygons."
   ]
  },
  {
   "cell_type": "code",
   "execution_count": 4,
   "metadata": {},
   "outputs": [],
   "source": [
    "tess = gpd.read_parquet(f\"{chars_dir}tessellations_chars_{region}.parquet\").to_crs(4326)\n",
    "\n",
    "tess.geometry = tess.make_valid()\n",
    "\n",
    "tess = tess[tess.geom_type.str.contains(\"Polygon\")]"
   ]
  },
  {
   "cell_type": "markdown",
   "metadata": {},
   "source": [
    "Create a lonboard layer"
   ]
  },
  {
   "cell_type": "code",
   "execution_count": 5,
   "metadata": {},
   "outputs": [
    {
     "name": "stdout",
     "output_type": "stream",
     "text": [
      "CPU times: user 4.89 s, sys: 341 ms, total: 5.23 s\n",
      "Wall time: 5.24 s\n"
     ]
    }
   ],
   "source": [
    "%%time\n",
    "layer = lonboard.SolidPolygonLayer.from_geopandas(tess, opacity=.2)"
   ]
  },
  {
   "cell_type": "markdown",
   "metadata": {},
   "source": [
    "Create a Sidecar view (assumes JupyterLab) for more comfortable experience."
   ]
  },
  {
   "cell_type": "code",
   "execution_count": 14,
   "metadata": {},
   "outputs": [],
   "source": [
    "sc = Sidecar(title='tess')"
   ]
  },
  {
   "cell_type": "markdown",
   "metadata": {},
   "source": [
    "Create a Map object"
   ]
  },
  {
   "cell_type": "code",
   "execution_count": 7,
   "metadata": {},
   "outputs": [],
   "source": [
    "m = lonboard.Map(layer)"
   ]
  },
  {
   "cell_type": "markdown",
   "metadata": {},
   "source": [
    "Display map within the sidecar plugin"
   ]
  },
  {
   "cell_type": "code",
   "execution_count": 15,
   "metadata": {},
   "outputs": [],
   "source": [
    "with sc:\n",
    "    display(m)"
   ]
  },
  {
   "cell_type": "markdown",
   "metadata": {},
   "source": [
    "List avaialable columns"
   ]
  },
  {
   "cell_type": "code",
   "execution_count": 9,
   "metadata": {},
   "outputs": [
    {
     "data": {
      "text/plain": [
       "Index(['enclosure_index', 'geometry', 'stcOri', 'sdcLAL', 'sdcAre', 'sscCCo',\n",
       "       'sscERI', 'mtcWNe', 'mdcAre', 'ltcWRB', 'sicCAR', 'barea', 'micBAD',\n",
       "       'licBAD', 'stcSAl', 'nID', 'nodeID'],\n",
       "      dtype='object')"
      ]
     },
     "execution_count": 9,
     "metadata": {},
     "output_type": "execute_result"
    }
   ],
   "source": [
    "tess.columns"
   ]
  },
  {
   "cell_type": "code",
   "execution_count": 12,
   "metadata": {},
   "outputs": [
    {
     "ename": "KeyError",
     "evalue": "'barea'",
     "output_type": "error",
     "traceback": [
      "\u001b[0;31m---------------------------------------------------------------------------\u001b[0m",
      "\u001b[0;31mKeyError\u001b[0m                                  Traceback (most recent call last)",
      "Cell \u001b[0;32mIn[12], line 2\u001b[0m\n\u001b[1;32m      1\u001b[0m column \u001b[38;5;241m=\u001b[39m \u001b[38;5;124m'\u001b[39m\u001b[38;5;124mbarea\u001b[39m\u001b[38;5;124m'\u001b[39m\n\u001b[0;32m----> 2\u001b[0m \u001b[43mused_keys\u001b[49m\u001b[43m[\u001b[49m\u001b[43mcolumn\u001b[49m\u001b[43m]\u001b[49m\n",
      "\u001b[0;31mKeyError\u001b[0m: 'barea'"
     ]
    }
   ],
   "source": [
    "column = 'barea'\n",
    "used_keys[column]"
   ]
  },
  {
   "cell_type": "markdown",
   "metadata": {},
   "source": [
    "Specify a column and pass its values into a choropleth representation within the map. "
   ]
  },
  {
   "cell_type": "code",
   "execution_count": 13,
   "metadata": {},
   "outputs": [],
   "source": [
    "\n",
    "classifier = classify(tess[column], 'quantiles', k=40)\n",
    "normalizer = mpl.colors.Normalize(0, classifier.bins.shape[0])\n",
    "vals = normalizer(classifier.yb)\n",
    "layer.get_fill_color = apply_continuous_cmap(vals, mpl.colormaps['viridis'])"
   ]
  },
  {
   "cell_type": "markdown",
   "metadata": {
    "jp-MarkdownHeadingCollapsed": true
   },
   "source": [
    "## Enclosures"
   ]
  },
  {
   "cell_type": "markdown",
   "metadata": {},
   "source": [
    "Load data and ensure the geometries are all valid Polygons."
   ]
  },
  {
   "cell_type": "code",
   "execution_count": 35,
   "metadata": {},
   "outputs": [],
   "source": [
    "enc = gpd.read_parquet(f\"{chars_dir}enclosures_chars_{region}.parquet\").to_crs(4326)\n",
    "\n",
    "enc.geometry = enc.make_valid()\n",
    "\n",
    "enc = enc[enc.geom_type.str.contains(\"Polygon\")]"
   ]
  },
  {
   "cell_type": "markdown",
   "metadata": {},
   "source": [
    "Create a lonboard layer"
   ]
  },
  {
   "cell_type": "code",
   "execution_count": 36,
   "metadata": {},
   "outputs": [
    {
     "name": "stdout",
     "output_type": "stream",
     "text": [
      "CPU times: user 168 ms, sys: 31.9 ms, total: 200 ms\n",
      "Wall time: 200 ms\n"
     ]
    }
   ],
   "source": [
    "%%time\n",
    "layer = lonboard.SolidPolygonLayer.from_geopandas(enc, opacity=.3)"
   ]
  },
  {
   "cell_type": "markdown",
   "metadata": {},
   "source": [
    "Create a Sidecar view (assumes JupyterLab) for more comfortable experience."
   ]
  },
  {
   "cell_type": "code",
   "execution_count": 37,
   "metadata": {},
   "outputs": [],
   "source": [
    "sc = Sidecar(title='enclosures')"
   ]
  },
  {
   "cell_type": "markdown",
   "metadata": {},
   "source": [
    "Create a Map object"
   ]
  },
  {
   "cell_type": "code",
   "execution_count": 38,
   "metadata": {},
   "outputs": [],
   "source": [
    "m = lonboard.Map(layer)"
   ]
  },
  {
   "cell_type": "markdown",
   "metadata": {},
   "source": [
    "Display map within the sidecar plugin"
   ]
  },
  {
   "cell_type": "code",
   "execution_count": 39,
   "metadata": {},
   "outputs": [],
   "source": [
    "with sc:\n",
    "    display(m)"
   ]
  },
  {
   "cell_type": "markdown",
   "metadata": {},
   "source": [
    "List avaialable columns"
   ]
  },
  {
   "cell_type": "code",
   "execution_count": 40,
   "metadata": {},
   "outputs": [
    {
     "data": {
      "text/plain": [
       "Index(['eID', 'geometry', 'ldkAre', 'ldkPer', 'lskCCo', 'lskERI', 'lskCWA',\n",
       "       'ltkOri', 'ltkWNB', 'likWCe', 'likWBB'],\n",
       "      dtype='object')"
      ]
     },
     "execution_count": 40,
     "metadata": {},
     "output_type": "execute_result"
    }
   ],
   "source": [
    "enc.columns"
   ]
  },
  {
   "cell_type": "code",
   "execution_count": 41,
   "metadata": {},
   "outputs": [
    {
     "data": {
      "text/plain": [
       "'perimeter of enclosure'"
      ]
     },
     "execution_count": 41,
     "metadata": {},
     "output_type": "execute_result"
    }
   ],
   "source": [
    "column = 'ldkPer'\n",
    "used_keys[column]"
   ]
  },
  {
   "cell_type": "markdown",
   "metadata": {},
   "source": [
    "Specify a column and pass its values into a choropleth representation within the map. "
   ]
  },
  {
   "cell_type": "code",
   "execution_count": 42,
   "metadata": {},
   "outputs": [],
   "source": [
    "\n",
    "classifier = classify(enc[column], 'quantiles', k=20)\n",
    "normalizer = mpl.colors.Normalize(0, classifier.bins.shape[0])\n",
    "vals = normalizer(classifier.yb)\n",
    "layer.get_fill_color = apply_continuous_cmap(vals, mpl.colormaps['viridis'])"
   ]
  },
  {
   "cell_type": "markdown",
   "metadata": {},
   "source": [
    "## Streets"
   ]
  },
  {
   "cell_type": "markdown",
   "metadata": {},
   "source": [
    "Load data and ensure the geometries are all valid Polygons."
   ]
  },
  {
   "cell_type": "code",
   "execution_count": 18,
   "metadata": {},
   "outputs": [],
   "source": [
    "streets = gpd.read_parquet(f\"{chars_dir}streets_chars_{region}.parquet\")\n",
    "\n",
    "streets.geometry = streets.make_valid()"
   ]
  },
  {
   "cell_type": "code",
   "execution_count": null,
   "metadata": {},
   "outputs": [],
   "source": []
  },
  {
   "cell_type": "markdown",
   "metadata": {},
   "source": [
    "Create a lonboard layer"
   ]
  },
  {
   "cell_type": "code",
   "execution_count": 19,
   "metadata": {},
   "outputs": [
    {
     "name": "stdout",
     "output_type": "stream",
     "text": [
      "CPU times: user 118 ms, sys: 9.98 ms, total: 128 ms\n",
      "Wall time: 127 ms\n"
     ]
    }
   ],
   "source": [
    "%%time\n",
    "layer = lonboard.PathLayer.from_geopandas(streets.to_crs(4326), width_min_pixels=1)"
   ]
  },
  {
   "cell_type": "markdown",
   "metadata": {},
   "source": [
    "Create a Sidecar view (assumes JupyterLab) for more comfortable experience."
   ]
  },
  {
   "cell_type": "code",
   "execution_count": 20,
   "metadata": {},
   "outputs": [],
   "source": [
    "sc = Sidecar(title='streets')"
   ]
  },
  {
   "cell_type": "markdown",
   "metadata": {},
   "source": [
    "Create a Map object"
   ]
  },
  {
   "cell_type": "code",
   "execution_count": 21,
   "metadata": {},
   "outputs": [],
   "source": [
    "m = lonboard.Map(layer)"
   ]
  },
  {
   "cell_type": "markdown",
   "metadata": {},
   "source": [
    "Display map within the sidecar plugin"
   ]
  },
  {
   "cell_type": "code",
   "execution_count": 22,
   "metadata": {},
   "outputs": [],
   "source": [
    "with sc:\n",
    "    display(m)"
   ]
  },
  {
   "cell_type": "code",
   "execution_count": null,
   "metadata": {},
   "outputs": [],
   "source": []
  },
  {
   "cell_type": "markdown",
   "metadata": {},
   "source": [
    "List avaialable columns"
   ]
  },
  {
   "cell_type": "code",
   "execution_count": 23,
   "metadata": {},
   "outputs": [],
   "source": [
    "assert np.allclose(streets['sdsLen'] , streets.geometry.length)\n",
    "\n",
    "if 'mm_len' in streets.columns:\n",
    "    assert np.allclose(streets['mm_len'] , streets.geometry.length)"
   ]
  },
  {
   "cell_type": "code",
   "execution_count": 24,
   "metadata": {},
   "outputs": [
    {
     "data": {
      "text/plain": [
       "Index(['geometry', '_status', 'mm_len', 'cdsbool', 'node_start', 'node_end',\n",
       "       'sdsLen', 'sssLin', 'ldsMSL', 'sdsAre', 'ldsRea', 'ldsAre', 'sisBpM',\n",
       "       'misBAD', 'sdsSPW', 'sdsSPO', 'sdsSWD', 'nID'],\n",
       "      dtype='object')"
      ]
     },
     "execution_count": 24,
     "metadata": {},
     "output_type": "execute_result"
    }
   ],
   "source": [
    "streets.columns"
   ]
  },
  {
   "cell_type": "code",
   "execution_count": 25,
   "metadata": {},
   "outputs": [
    {
     "data": {
      "text/html": [
       "<div>\n",
       "<style scoped>\n",
       "    .dataframe tbody tr th:only-of-type {\n",
       "        vertical-align: middle;\n",
       "    }\n",
       "\n",
       "    .dataframe tbody tr th {\n",
       "        vertical-align: top;\n",
       "    }\n",
       "\n",
       "    .dataframe thead th {\n",
       "        text-align: right;\n",
       "    }\n",
       "</style>\n",
       "<table border=\"1\" class=\"dataframe\">\n",
       "  <thead>\n",
       "    <tr style=\"text-align: right;\">\n",
       "      <th></th>\n",
       "      <th>sdsLen</th>\n",
       "      <th>sssLin</th>\n",
       "      <th>ldsMSL</th>\n",
       "      <th>sdsAre</th>\n",
       "      <th>ldsRea</th>\n",
       "      <th>ldsAre</th>\n",
       "      <th>sisBpM</th>\n",
       "      <th>sdsSPW</th>\n",
       "      <th>sdsSPO</th>\n",
       "      <th>sdsSWD</th>\n",
       "    </tr>\n",
       "  </thead>\n",
       "  <tbody>\n",
       "    <tr>\n",
       "      <th>count</th>\n",
       "      <td>24155.000000</td>\n",
       "      <td>24155.000000</td>\n",
       "      <td>24155.000000</td>\n",
       "      <td>1.968500e+04</td>\n",
       "      <td>24155.000000</td>\n",
       "      <td>2.245400e+04</td>\n",
       "      <td>19046.000000</td>\n",
       "      <td>24155.000000</td>\n",
       "      <td>24155.000000</td>\n",
       "      <td>17632.000000</td>\n",
       "    </tr>\n",
       "    <tr>\n",
       "      <th>mean</th>\n",
       "      <td>386.031895</td>\n",
       "      <td>0.957977</td>\n",
       "      <td>399.593607</td>\n",
       "      <td>5.395904e+04</td>\n",
       "      <td>264.258456</td>\n",
       "      <td>9.260281e+05</td>\n",
       "      <td>0.063553</td>\n",
       "      <td>36.597900</td>\n",
       "      <td>0.821258</td>\n",
       "      <td>3.913480</td>\n",
       "    </tr>\n",
       "    <tr>\n",
       "      <th>std</th>\n",
       "      <td>629.662917</td>\n",
       "      <td>0.099379</td>\n",
       "      <td>349.484916</td>\n",
       "      <td>9.218028e+04</td>\n",
       "      <td>175.471539</td>\n",
       "      <td>9.230841e+05</td>\n",
       "      <td>0.052849</td>\n",
       "      <td>11.300294</td>\n",
       "      <td>0.183244</td>\n",
       "      <td>1.956093</td>\n",
       "    </tr>\n",
       "    <tr>\n",
       "      <th>min</th>\n",
       "      <td>1.779955</td>\n",
       "      <td>0.000000</td>\n",
       "      <td>22.997029</td>\n",
       "      <td>2.226503e-01</td>\n",
       "      <td>0.000000</td>\n",
       "      <td>3.801642e+03</td>\n",
       "      <td>0.000167</td>\n",
       "      <td>0.000000</td>\n",
       "      <td>0.050000</td>\n",
       "      <td>0.000000</td>\n",
       "    </tr>\n",
       "    <tr>\n",
       "      <th>25%</th>\n",
       "      <td>98.983143</td>\n",
       "      <td>0.970070</td>\n",
       "      <td>169.476379</td>\n",
       "      <td>8.441501e+03</td>\n",
       "      <td>147.000000</td>\n",
       "      <td>3.116659e+05</td>\n",
       "      <td>0.025527</td>\n",
       "      <td>26.756167</td>\n",
       "      <td>0.687500</td>\n",
       "      <td>2.555375</td>\n",
       "    </tr>\n",
       "    <tr>\n",
       "      <th>50%</th>\n",
       "      <td>193.610800</td>\n",
       "      <td>0.997328</td>\n",
       "      <td>250.932766</td>\n",
       "      <td>2.240300e+04</td>\n",
       "      <td>242.000000</td>\n",
       "      <td>6.098273e+05</td>\n",
       "      <td>0.052691</td>\n",
       "      <td>37.182577</td>\n",
       "      <td>0.869919</td>\n",
       "      <td>4.062591</td>\n",
       "    </tr>\n",
       "    <tr>\n",
       "      <th>75%</th>\n",
       "      <td>377.847408</td>\n",
       "      <td>0.999998</td>\n",
       "      <td>504.787106</td>\n",
       "      <td>5.820301e+04</td>\n",
       "      <td>354.000000</td>\n",
       "      <td>1.195124e+06</td>\n",
       "      <td>0.089664</td>\n",
       "      <td>50.000000</td>\n",
       "      <td>1.000000</td>\n",
       "      <td>5.386908</td>\n",
       "    </tr>\n",
       "    <tr>\n",
       "      <th>max</th>\n",
       "      <td>16951.254801</td>\n",
       "      <td>1.000000</td>\n",
       "      <td>6126.390497</td>\n",
       "      <td>1.758182e+06</td>\n",
       "      <td>1377.000000</td>\n",
       "      <td>8.037908e+06</td>\n",
       "      <td>1.846862</td>\n",
       "      <td>50.000000</td>\n",
       "      <td>1.000000</td>\n",
       "      <td>11.008117</td>\n",
       "    </tr>\n",
       "  </tbody>\n",
       "</table>\n",
       "</div>"
      ],
      "text/plain": [
       "             sdsLen        sssLin        ldsMSL        sdsAre        ldsRea  \\\n",
       "count  24155.000000  24155.000000  24155.000000  1.968500e+04  24155.000000   \n",
       "mean     386.031895      0.957977    399.593607  5.395904e+04    264.258456   \n",
       "std      629.662917      0.099379    349.484916  9.218028e+04    175.471539   \n",
       "min        1.779955      0.000000     22.997029  2.226503e-01      0.000000   \n",
       "25%       98.983143      0.970070    169.476379  8.441501e+03    147.000000   \n",
       "50%      193.610800      0.997328    250.932766  2.240300e+04    242.000000   \n",
       "75%      377.847408      0.999998    504.787106  5.820301e+04    354.000000   \n",
       "max    16951.254801      1.000000   6126.390497  1.758182e+06   1377.000000   \n",
       "\n",
       "             ldsAre        sisBpM        sdsSPW        sdsSPO        sdsSWD  \n",
       "count  2.245400e+04  19046.000000  24155.000000  24155.000000  17632.000000  \n",
       "mean   9.260281e+05      0.063553     36.597900      0.821258      3.913480  \n",
       "std    9.230841e+05      0.052849     11.300294      0.183244      1.956093  \n",
       "min    3.801642e+03      0.000167      0.000000      0.050000      0.000000  \n",
       "25%    3.116659e+05      0.025527     26.756167      0.687500      2.555375  \n",
       "50%    6.098273e+05      0.052691     37.182577      0.869919      4.062591  \n",
       "75%    1.195124e+06      0.089664     50.000000      1.000000      5.386908  \n",
       "max    8.037908e+06      1.846862     50.000000      1.000000     11.008117  "
      ]
     },
     "execution_count": 25,
     "metadata": {},
     "output_type": "execute_result"
    }
   ],
   "source": [
    "streets[['sdsLen', 'sssLin', 'ldsMSL', 'sdsAre', 'ldsRea', 'ldsAre',\n",
    "       'sisBpM', 'sdsSPW', 'sdsSPO', 'sdsSWD']].describe()"
   ]
  },
  {
   "cell_type": "markdown",
   "metadata": {},
   "source": [
    "Specify a column and pass its values into a choropleth representation within the map. "
   ]
  },
  {
   "cell_type": "code",
   "execution_count": 29,
   "metadata": {},
   "outputs": [
    {
     "data": {
      "text/plain": [
       "'width of street profile'"
      ]
     },
     "execution_count": 29,
     "metadata": {},
     "output_type": "execute_result"
    }
   ],
   "source": [
    "column = 'sdsSPW'\n",
    "used_keys[column]"
   ]
  },
  {
   "cell_type": "code",
   "execution_count": 30,
   "metadata": {},
   "outputs": [],
   "source": [
    "streets[column] = streets[column].fillna(0)"
   ]
  },
  {
   "cell_type": "code",
   "execution_count": 31,
   "metadata": {},
   "outputs": [],
   "source": [
    "classifier = classify(streets[column].astype(int), 'equalinterval', k=50)\n",
    "normalizer = mpl.colors.Normalize(0, classifier.bins.shape[0])\n",
    "vals = normalizer(classifier.yb)\n",
    "layer.get_color = apply_continuous_cmap(vals, mpl.colormaps['viridis'])"
   ]
  },
  {
   "cell_type": "markdown",
   "metadata": {
    "jp-MarkdownHeadingCollapsed": true
   },
   "source": [
    "## Nodes"
   ]
  },
  {
   "cell_type": "markdown",
   "metadata": {},
   "source": [
    "Load data and ensure the geometries are all valid Polygons."
   ]
  },
  {
   "cell_type": "code",
   "execution_count": 32,
   "metadata": {},
   "outputs": [],
   "source": [
    "nodes = gpd.read_parquet(f\"{chars_dir}nodes_chars_{region}.parquet\").to_crs(4326)"
   ]
  },
  {
   "cell_type": "markdown",
   "metadata": {},
   "source": [
    "Create a lonboard layer"
   ]
  },
  {
   "cell_type": "code",
   "execution_count": 33,
   "metadata": {},
   "outputs": [
    {
     "name": "stdout",
     "output_type": "stream",
     "text": [
      "CPU times: user 33.8 ms, sys: 2.97 ms, total: 36.8 ms\n",
      "Wall time: 36.5 ms\n"
     ]
    }
   ],
   "source": [
    "%%time\n",
    "layer = lonboard.ScatterplotLayer.from_geopandas(nodes, radius_min_pixels=2)"
   ]
  },
  {
   "cell_type": "markdown",
   "metadata": {},
   "source": [
    "Create a Sidecar view (assumes JupyterLab) for more comfortable experience."
   ]
  },
  {
   "cell_type": "code",
   "execution_count": 34,
   "metadata": {},
   "outputs": [],
   "source": [
    "sc = Sidecar(title='nodes')"
   ]
  },
  {
   "cell_type": "markdown",
   "metadata": {},
   "source": [
    "Create a Map object"
   ]
  },
  {
   "cell_type": "code",
   "execution_count": 35,
   "metadata": {},
   "outputs": [],
   "source": [
    "m = lonboard.Map(layer, basemap_style=lonboard.basemap.CartoBasemap.Positron)"
   ]
  },
  {
   "cell_type": "markdown",
   "metadata": {},
   "source": [
    "Display map within the sidecar plugin"
   ]
  },
  {
   "cell_type": "code",
   "execution_count": 36,
   "metadata": {},
   "outputs": [],
   "source": [
    "with sc:\n",
    "    display(m)"
   ]
  },
  {
   "cell_type": "markdown",
   "metadata": {},
   "source": [
    "List avaialable columns"
   ]
  },
  {
   "cell_type": "code",
   "execution_count": 37,
   "metadata": {},
   "outputs": [
    {
     "data": {
      "text/plain": [
       "Index(['x', 'y', 'mtdDeg', 'lcdMes', 'linP3W', 'linP4W', 'linPDE', 'lcnClo',\n",
       "       'lddNDe', 'linWID', 'ldsCDL', 'xcnSCl', 'mtdMDi', 'nodeID', 'geometry',\n",
       "       'midBAD', 'sddAre', 'midRea', 'midAre'],\n",
       "      dtype='object')"
      ]
     },
     "execution_count": 37,
     "metadata": {},
     "output_type": "execute_result"
    }
   ],
   "source": [
    "nodes.columns"
   ]
  },
  {
   "cell_type": "markdown",
   "metadata": {},
   "source": [
    "Specify a column and pass its values into a choropleth representation within the map. "
   ]
  },
  {
   "cell_type": "code",
   "execution_count": 38,
   "metadata": {},
   "outputs": [
    {
     "data": {
      "text/html": [
       "<div>\n",
       "<style scoped>\n",
       "    .dataframe tbody tr th:only-of-type {\n",
       "        vertical-align: middle;\n",
       "    }\n",
       "\n",
       "    .dataframe tbody tr th {\n",
       "        vertical-align: top;\n",
       "    }\n",
       "\n",
       "    .dataframe thead th {\n",
       "        text-align: right;\n",
       "    }\n",
       "</style>\n",
       "<table border=\"1\" class=\"dataframe\">\n",
       "  <thead>\n",
       "    <tr style=\"text-align: right;\">\n",
       "      <th></th>\n",
       "      <th>mtdDeg</th>\n",
       "      <th>lcdMes</th>\n",
       "      <th>linP3W</th>\n",
       "      <th>linP4W</th>\n",
       "      <th>linPDE</th>\n",
       "      <th>lcnClo</th>\n",
       "      <th>lddNDe</th>\n",
       "      <th>linWID</th>\n",
       "      <th>ldsCDL</th>\n",
       "      <th>xcnSCl</th>\n",
       "      <th>mtdMDi</th>\n",
       "      <th>nodeID</th>\n",
       "      <th>sddAre</th>\n",
       "      <th>midRea</th>\n",
       "      <th>midAre</th>\n",
       "    </tr>\n",
       "  </thead>\n",
       "  <tbody>\n",
       "    <tr>\n",
       "      <th>count</th>\n",
       "      <td>19496.000000</td>\n",
       "      <td>19496.000000</td>\n",
       "      <td>19496.000000</td>\n",
       "      <td>19496.000000</td>\n",
       "      <td>19496.000000</td>\n",
       "      <td>1.949600e+04</td>\n",
       "      <td>19496.000000</td>\n",
       "      <td>19496.000000</td>\n",
       "      <td>19496.000000</td>\n",
       "      <td>19496.000000</td>\n",
       "      <td>19496.000000</td>\n",
       "      <td>19496.00000</td>\n",
       "      <td>1.711600e+04</td>\n",
       "      <td>19496.000000</td>\n",
       "      <td>1.765900e+04</td>\n",
       "    </tr>\n",
       "    <tr>\n",
       "      <th>mean</th>\n",
       "      <td>2.477944</td>\n",
       "      <td>0.085284</td>\n",
       "      <td>0.682505</td>\n",
       "      <td>0.104283</td>\n",
       "      <td>0.212255</td>\n",
       "      <td>1.887256e-06</td>\n",
       "      <td>0.003526</td>\n",
       "      <td>0.005831</td>\n",
       "      <td>882.309517</td>\n",
       "      <td>0.021187</td>\n",
       "      <td>386.081412</td>\n",
       "      <td>9747.50000</td>\n",
       "      <td>6.205794e+04</td>\n",
       "      <td>44.577247</td>\n",
       "      <td>1.552534e+05</td>\n",
       "    </tr>\n",
       "    <tr>\n",
       "      <th>std</th>\n",
       "      <td>1.014198</td>\n",
       "      <td>0.054032</td>\n",
       "      <td>0.118264</td>\n",
       "      <td>0.083171</td>\n",
       "      <td>0.110212</td>\n",
       "      <td>1.405456e-06</td>\n",
       "      <td>0.002425</td>\n",
       "      <td>0.003555</td>\n",
       "      <td>1289.245276</td>\n",
       "      <td>0.047371</td>\n",
       "      <td>518.177763</td>\n",
       "      <td>5628.15476</td>\n",
       "      <td>9.149249e+04</td>\n",
       "      <td>41.710329</td>\n",
       "      <td>1.992186e+05</td>\n",
       "    </tr>\n",
       "    <tr>\n",
       "      <th>min</th>\n",
       "      <td>1.000000</td>\n",
       "      <td>-1.000000</td>\n",
       "      <td>0.000000</td>\n",
       "      <td>0.000000</td>\n",
       "      <td>0.000000</td>\n",
       "      <td>0.000000e+00</td>\n",
       "      <td>0.000286</td>\n",
       "      <td>0.000000</td>\n",
       "      <td>0.000000</td>\n",
       "      <td>0.000000</td>\n",
       "      <td>3.099139</td>\n",
       "      <td>0.00000</td>\n",
       "      <td>6.428662e+00</td>\n",
       "      <td>0.000000</td>\n",
       "      <td>2.219230e+02</td>\n",
       "    </tr>\n",
       "    <tr>\n",
       "      <th>25%</th>\n",
       "      <td>1.000000</td>\n",
       "      <td>0.047059</td>\n",
       "      <td>0.622951</td>\n",
       "      <td>0.045455</td>\n",
       "      <td>0.142857</td>\n",
       "      <td>7.424187e-07</td>\n",
       "      <td>0.001678</td>\n",
       "      <td>0.002700</td>\n",
       "      <td>229.506759</td>\n",
       "      <td>0.000000</td>\n",
       "      <td>133.671630</td>\n",
       "      <td>4873.75000</td>\n",
       "      <td>1.330871e+04</td>\n",
       "      <td>14.000000</td>\n",
       "      <td>3.685127e+04</td>\n",
       "    </tr>\n",
       "    <tr>\n",
       "      <th>50%</th>\n",
       "      <td>3.000000</td>\n",
       "      <td>0.081081</td>\n",
       "      <td>0.695652</td>\n",
       "      <td>0.090909</td>\n",
       "      <td>0.200000</td>\n",
       "      <td>1.530668e-06</td>\n",
       "      <td>0.003297</td>\n",
       "      <td>0.005482</td>\n",
       "      <td>500.392489</td>\n",
       "      <td>0.000000</td>\n",
       "      <td>210.929432</td>\n",
       "      <td>9747.50000</td>\n",
       "      <td>3.054813e+04</td>\n",
       "      <td>35.000000</td>\n",
       "      <td>8.467917e+04</td>\n",
       "    </tr>\n",
       "    <tr>\n",
       "      <th>75%</th>\n",
       "      <td>3.000000</td>\n",
       "      <td>0.117647</td>\n",
       "      <td>0.760000</td>\n",
       "      <td>0.146341</td>\n",
       "      <td>0.266667</td>\n",
       "      <td>2.713025e-06</td>\n",
       "      <td>0.004740</td>\n",
       "      <td>0.008229</td>\n",
       "      <td>993.203161</td>\n",
       "      <td>0.000000</td>\n",
       "      <td>395.362400</td>\n",
       "      <td>14621.25000</td>\n",
       "      <td>7.022078e+04</td>\n",
       "      <td>63.000000</td>\n",
       "      <td>1.880395e+05</td>\n",
       "    </tr>\n",
       "    <tr>\n",
       "      <th>max</th>\n",
       "      <td>5.000000</td>\n",
       "      <td>0.352941</td>\n",
       "      <td>1.000000</td>\n",
       "      <td>0.550000</td>\n",
       "      <td>1.000000</td>\n",
       "      <td>9.021213e-06</td>\n",
       "      <td>0.062490</td>\n",
       "      <td>0.048315</td>\n",
       "      <td>26019.573144</td>\n",
       "      <td>0.500000</td>\n",
       "      <td>16951.254801</td>\n",
       "      <td>19495.00000</td>\n",
       "      <td>1.280031e+06</td>\n",
       "      <td>457.000000</td>\n",
       "      <td>2.196893e+06</td>\n",
       "    </tr>\n",
       "  </tbody>\n",
       "</table>\n",
       "</div>"
      ],
      "text/plain": [
       "             mtdDeg        lcdMes        linP3W        linP4W        linPDE  \\\n",
       "count  19496.000000  19496.000000  19496.000000  19496.000000  19496.000000   \n",
       "mean       2.477944      0.085284      0.682505      0.104283      0.212255   \n",
       "std        1.014198      0.054032      0.118264      0.083171      0.110212   \n",
       "min        1.000000     -1.000000      0.000000      0.000000      0.000000   \n",
       "25%        1.000000      0.047059      0.622951      0.045455      0.142857   \n",
       "50%        3.000000      0.081081      0.695652      0.090909      0.200000   \n",
       "75%        3.000000      0.117647      0.760000      0.146341      0.266667   \n",
       "max        5.000000      0.352941      1.000000      0.550000      1.000000   \n",
       "\n",
       "             lcnClo        lddNDe        linWID        ldsCDL        xcnSCl  \\\n",
       "count  1.949600e+04  19496.000000  19496.000000  19496.000000  19496.000000   \n",
       "mean   1.887256e-06      0.003526      0.005831    882.309517      0.021187   \n",
       "std    1.405456e-06      0.002425      0.003555   1289.245276      0.047371   \n",
       "min    0.000000e+00      0.000286      0.000000      0.000000      0.000000   \n",
       "25%    7.424187e-07      0.001678      0.002700    229.506759      0.000000   \n",
       "50%    1.530668e-06      0.003297      0.005482    500.392489      0.000000   \n",
       "75%    2.713025e-06      0.004740      0.008229    993.203161      0.000000   \n",
       "max    9.021213e-06      0.062490      0.048315  26019.573144      0.500000   \n",
       "\n",
       "             mtdMDi       nodeID        sddAre        midRea        midAre  \n",
       "count  19496.000000  19496.00000  1.711600e+04  19496.000000  1.765900e+04  \n",
       "mean     386.081412   9747.50000  6.205794e+04     44.577247  1.552534e+05  \n",
       "std      518.177763   5628.15476  9.149249e+04     41.710329  1.992186e+05  \n",
       "min        3.099139      0.00000  6.428662e+00      0.000000  2.219230e+02  \n",
       "25%      133.671630   4873.75000  1.330871e+04     14.000000  3.685127e+04  \n",
       "50%      210.929432   9747.50000  3.054813e+04     35.000000  8.467917e+04  \n",
       "75%      395.362400  14621.25000  7.022078e+04     63.000000  1.880395e+05  \n",
       "max    16951.254801  19495.00000  1.280031e+06    457.000000  2.196893e+06  "
      ]
     },
     "execution_count": 38,
     "metadata": {},
     "output_type": "execute_result"
    }
   ],
   "source": [
    "nodes[['mtdDeg', 'lcdMes', 'linP3W', 'linP4W', 'linPDE', 'lcnClo',\n",
    "       'lddNDe', 'linWID', 'ldsCDL', 'xcnSCl', 'mtdMDi', 'nodeID', 'geometry',\n",
    "       'sddAre', 'midRea', 'midAre']].describe()"
   ]
  },
  {
   "cell_type": "code",
   "execution_count": 39,
   "metadata": {},
   "outputs": [
    {
     "data": {
      "text/plain": [
       "'mean distance to neighbouring nodes of street network'"
      ]
     },
     "execution_count": 39,
     "metadata": {},
     "output_type": "execute_result"
    }
   ],
   "source": [
    "column = 'mtdMDi'\n",
    "used_keys[column]"
   ]
  },
  {
   "cell_type": "code",
   "execution_count": 40,
   "metadata": {},
   "outputs": [],
   "source": [
    "\n",
    "classifier = classify(nodes[column], 'quantiles', k=20)\n",
    "normalizer = mpl.colors.Normalize(0, classifier.bins.shape[0])\n",
    "vals = normalizer(classifier.yb)\n",
    "layer.get_fill_color = apply_continuous_cmap(vals, mpl.colormaps['viridis'])"
   ]
  },
  {
   "cell_type": "code",
   "execution_count": null,
   "metadata": {},
   "outputs": [],
   "source": []
  },
  {
   "cell_type": "markdown",
   "metadata": {},
   "source": [
    "## Visualize merged data"
   ]
  },
  {
   "cell_type": "code",
   "execution_count": 6,
   "metadata": {},
   "outputs": [],
   "source": [
    "import pandas as pd\n",
    "\n",
    "primary = pd.read_parquet(chars_dir + f'primary_chars_{region}.parquet')"
   ]
  },
  {
   "cell_type": "code",
   "execution_count": 7,
   "metadata": {},
   "outputs": [],
   "source": [
    "tess = gpd.read_parquet(f\"{chars_dir}tessellations_chars_{region}.parquet\").to_crs(4326)\n",
    "tess.geometry = tess.make_valid()\n",
    "tess = tess[tess.geom_type.str.contains(\"Polygon\")]\n",
    "tess = tess[['enclosure_index','geometry']]"
   ]
  },
  {
   "cell_type": "code",
   "execution_count": 8,
   "metadata": {},
   "outputs": [],
   "source": [
    "tess = tess.join(primary)"
   ]
  },
  {
   "cell_type": "code",
   "execution_count": null,
   "metadata": {},
   "outputs": [],
   "source": []
  },
  {
   "cell_type": "markdown",
   "metadata": {},
   "source": [
    "Create a lonboard layer"
   ]
  },
  {
   "cell_type": "code",
   "execution_count": 9,
   "metadata": {},
   "outputs": [
    {
     "name": "stdout",
     "output_type": "stream",
     "text": [
      "CPU times: user 5.93 s, sys: 436 ms, total: 6.36 s\n",
      "Wall time: 6.36 s\n"
     ]
    }
   ],
   "source": [
    "%%time\n",
    "layer = lonboard.SolidPolygonLayer.from_geopandas(tess, opacity=.2)"
   ]
  },
  {
   "cell_type": "markdown",
   "metadata": {},
   "source": [
    "Create a Sidecar view (assumes JupyterLab) for more comfortable experience."
   ]
  },
  {
   "cell_type": "code",
   "execution_count": 10,
   "metadata": {},
   "outputs": [],
   "source": [
    "sc = Sidecar(title='tess')"
   ]
  },
  {
   "cell_type": "markdown",
   "metadata": {},
   "source": [
    "Create a Map object"
   ]
  },
  {
   "cell_type": "code",
   "execution_count": 11,
   "metadata": {},
   "outputs": [],
   "source": [
    "m = lonboard.Map(layer)"
   ]
  },
  {
   "cell_type": "markdown",
   "metadata": {},
   "source": [
    "Display map within the sidecar plugin"
   ]
  },
  {
   "cell_type": "code",
   "execution_count": 12,
   "metadata": {},
   "outputs": [],
   "source": [
    "with sc:\n",
    "    display(m)"
   ]
  },
  {
   "cell_type": "markdown",
   "metadata": {},
   "source": [
    "List avaialable columns"
   ]
  },
  {
   "cell_type": "code",
   "execution_count": 13,
   "metadata": {},
   "outputs": [
    {
     "data": {
      "text/plain": [
       "Index(['enclosure_index', 'geometry', 'sdbAre', 'sdbPer', 'sdbCoA', 'ssbCCo',\n",
       "       'ssbCor', 'ssbSqu', 'ssbERI', 'ssbElo', 'ssbCCM', 'ssbCCD', 'stbOri',\n",
       "       'mtbSWR', 'libNCo', 'ldbPWL', 'ltcBuA', 'mtbAli', 'mtbNDi', 'ltbIBD',\n",
       "       'stbCeA', 'stbSAl', 'sdsLen', 'sssLin', 'ldsMSL', 'ldsRea', 'ldsAre',\n",
       "       'sisBpM', 'sdsSPW', 'sdsSPO', 'sdsSWD', 'mtdDeg', 'lcdMes', 'linP3W',\n",
       "       'linP4W', 'linPDE', 'lcnClo', 'lddNDe', 'linWID', 'ldsCDL', 'xcnSCl',\n",
       "       'mtdMDi', 'sddAre', 'midRea', 'midAre', 'stcOri', 'sdcLAL', 'sdcAre',\n",
       "       'sscCCo', 'sscERI', 'mtcWNe', 'mdcAre', 'ltcWRB', 'sicCAR', 'stcSAl',\n",
       "       'ldkAre', 'ldkPer', 'lskCCo', 'lskERI', 'lskCWA', 'ltkOri', 'ltkWNB',\n",
       "       'likWBB', 'sdsAre', 'likWCe', 'mibCou', 'mibAre', 'mibLen', 'mibElo',\n",
       "       'mibERI', 'mibCCo', 'mibLAL', 'mibFR', 'mibSCo', 'micBAD', 'licBAD',\n",
       "       'misBAD', 'midBAD'],\n",
       "      dtype='object')"
      ]
     },
     "execution_count": 13,
     "metadata": {},
     "output_type": "execute_result"
    }
   ],
   "source": [
    "tess.columns"
   ]
  },
  {
   "cell_type": "code",
   "execution_count": null,
   "metadata": {},
   "outputs": [],
   "source": []
  },
  {
   "cell_type": "code",
   "execution_count": 36,
   "metadata": {},
   "outputs": [],
   "source": [
    "graph_dir = '/data/uscuni-ulce/processed_data/neigh_graphs/'\n",
    "from libpysal.graph import read_parquet, Graph\n",
    "graph = read_parquet(graph_dir + f'tessellation_graph_{region}.parquet')\n",
    "graph3 = graph.higher_order(k=3, lower_order=True, diagonal=True)"
   ]
  },
  {
   "cell_type": "code",
   "execution_count": null,
   "metadata": {},
   "outputs": [],
   "source": []
  },
  {
   "cell_type": "code",
   "execution_count": 45,
   "metadata": {},
   "outputs": [],
   "source": [
    "tess['mibElo3'] = graph3.describe(tess['mibElo'])['median']"
   ]
  },
  {
   "cell_type": "code",
   "execution_count": 50,
   "metadata": {},
   "outputs": [],
   "source": [
    "tess['mibERI3'] = graph3.describe(tess['mibERI'])['median']"
   ]
  },
  {
   "cell_type": "code",
   "execution_count": 51,
   "metadata": {},
   "outputs": [
    {
     "ename": "KeyError",
     "evalue": "'mibERI3'",
     "output_type": "error",
     "traceback": [
      "\u001b[0;31m---------------------------------------------------------------------------\u001b[0m",
      "\u001b[0;31mKeyError\u001b[0m                                  Traceback (most recent call last)",
      "Cell \u001b[0;32mIn[51], line 2\u001b[0m\n\u001b[1;32m      1\u001b[0m column \u001b[38;5;241m=\u001b[39m \u001b[38;5;124m'\u001b[39m\u001b[38;5;124mmibERI3\u001b[39m\u001b[38;5;124m'\u001b[39m\n\u001b[0;32m----> 2\u001b[0m \u001b[43mused_keys\u001b[49m\u001b[43m[\u001b[49m\u001b[43mcolumn\u001b[49m\u001b[43m]\u001b[49m\n",
      "\u001b[0;31mKeyError\u001b[0m: 'mibERI3'"
     ]
    }
   ],
   "source": [
    "column = 'mibERI3'\n",
    "used_keys[column]"
   ]
  },
  {
   "cell_type": "code",
   "execution_count": 52,
   "metadata": {},
   "outputs": [
    {
     "data": {
      "text/plain": [
       "count    441409.000000\n",
       "mean          0.935969\n",
       "std           0.113091\n",
       "min           0.112392\n",
       "25%           0.931576\n",
       "50%           0.963585\n",
       "75%           0.992682\n",
       "max           1.126041\n",
       "Name: mibERI3, dtype: float64"
      ]
     },
     "execution_count": 52,
     "metadata": {},
     "output_type": "execute_result"
    }
   ],
   "source": [
    "tess[column].describe()"
   ]
  },
  {
   "cell_type": "markdown",
   "metadata": {},
   "source": [
    "Specify a column and pass its values into a choropleth representation within the map. "
   ]
  },
  {
   "cell_type": "code",
   "execution_count": 53,
   "metadata": {},
   "outputs": [],
   "source": [
    "\n",
    "classifier = classify(tess[column], 'quantiles', k=100)\n",
    "normalizer = mpl.colors.Normalize(0, classifier.bins.shape[0])\n",
    "vals = normalizer(classifier.yb)\n",
    "layer.get_fill_color = apply_continuous_cmap(vals, mpl.colormaps['viridis'])"
   ]
  },
  {
   "cell_type": "code",
   "execution_count": 24,
   "metadata": {},
   "outputs": [],
   "source": [
    "## ldsAre and sdsAre, ldsRea seperate atleast somewhat apartments and industrial, \n",
    "# maybe add sdsRea or \n",
    "#the same stuff except for connected buildings\n",
    "# or reached unique streets\n",
    "# mtdMDi has potential, but we have to change it to something like distance to nearest 8 nodes or something\n",
    "# square clustering does nothing, looks weird on the graph, probably something with grids...\n",
    "# ldsCDL okish\n",
    "# linWID oksih\n",
    "# lddNDe okish\n",
    "# 'local closeness of street network' suprisingly ok, but not enough variability to do anything\n",
    "#meshedness bad\n",
    "# degree useless\n",
    "\n",
    "# ldbPWL - miht make thigs worse\n",
    "# street profile is not great for this\n",
    "# mtbNDi meh\n",
    "# ltbIBD meh\n",
    "\n",
    "\n",
    "# midrea and mid area are meh, stds might be more usefull\n",
    "# cell area, lal not usefull\n",
    "# mtcWNe not useful\n",
    "# mdcAre - meh\n",
    "# ltcWRB - meh\n"
   ]
  },
  {
   "cell_type": "code",
   "execution_count": null,
   "metadata": {},
   "outputs": [],
   "source": []
  }
 ],
 "metadata": {
  "kernelspec": {
   "display_name": "Python 3 (ipykernel)",
   "language": "python",
   "name": "python3"
  },
  "language_info": {
   "codemirror_mode": {
    "name": "ipython",
    "version": 3
   },
   "file_extension": ".py",
   "mimetype": "text/x-python",
   "name": "python",
   "nbconvert_exporter": "python",
   "pygments_lexer": "ipython3",
   "version": "3.12.8"
  }
 },
 "nbformat": 4,
 "nbformat_minor": 4
}
