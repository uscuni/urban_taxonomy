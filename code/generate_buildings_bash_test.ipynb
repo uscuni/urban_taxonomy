{
 "cells": [
  {
   "cell_type": "code",
   "execution_count": 7,
   "id": "9e4b9f70",
   "metadata": {},
   "outputs": [],
   "source": [
    "import datetime\n",
    "import geopandas as gpd\n",
    "import geoplanar\n",
    "import numpy as np\n",
    "import pandas as pd\n"
   ]
  },
  {
   "cell_type": "code",
   "execution_count": null,
   "id": "e3362729",
   "metadata": {},
   "outputs": [],
   "source": []
  },
  {
   "cell_type": "code",
   "execution_count": 10,
   "id": "b242b772",
   "metadata": {},
   "outputs": [],
   "source": [
    "REGION_ID = 0  # dortmund region id\n",
    "regions_datadir = \"D:/Work/Github_Morphotopes/data/\" #for cadaster_region_hull.parquet\n",
    "input_buildings_dir = \"D:/Work/Github_Morphotopes/data/\"\n",
    "buildings_dir = \"D:/Work/Github_Morphotopes/data/simplified_buildings/\"\n"
   ]
  },
  {
   "cell_type": "code",
   "execution_count": null,
   "id": "889a029a",
   "metadata": {},
   "outputs": [],
   "source": []
  },
  {
   "cell_type": "code",
   "execution_count": 12,
   "id": "4d78301d",
   "metadata": {},
   "outputs": [
    {
     "name": "stdout",
     "output_type": "stream",
     "text": [
      "---- Processing region: 0 2025-08-13 21:08:21.686087\n",
      "Final polygons: 1046 , dropped fraction: 0.10291595197255576\n",
      "Wrote: D:/Work/Github_Morphotopes/data/simplified_buildings/buildings_0.parquet\n"
     ]
    }
   ],
   "source": [
    "# --------------------\n",
    "# PIPELINE\n",
    "# --------------------\n",
    "def process_single_region_buildings(region_id: int):\n",
    "    print(\"----\", \"Processing region:\", region_id, datetime.datetime.now())\n",
    "\n",
    "    # Load pre-split buildings for this region\n",
    "    in_path = f\"{input_buildings_dir}buildings_{region_id}.parquet\"\n",
    "    buildings = gpd.read_parquet(in_path)\n",
    "\n",
    "    # Run cleaning / simplification\n",
    "    buildings = process_region_buildings(\n",
    "        buildings,\n",
    "        simplify=True,\n",
    "        simplification_tolerance=0.1,  # meters (EPSG:25832)\n",
    "        merge_limit=25,\n",
    "    )\n",
    "\n",
    "    # Save output\n",
    "    out_path = f\"{buildings_dir}buildings_{region_id}.parquet\"\n",
    "    buildings.to_parquet(out_path)\n",
    "    print(\"Wrote:\", out_path)\n",
    "\n",
    "\n",
    "def process_region_buildings(\n",
    "    buildings: gpd.GeoDataFrame,\n",
    "    simplify: bool,\n",
    "    simplification_tolerance: float = 0.1,\n",
    "    merge_limit: int = 25,\n",
    ") -> gpd.GeoDataFrame:\n",
    "    \"\"\"\n",
    "    Pass the region buildings through the geoplanar simplification pipeline.\n",
    "    Assumes / enforces EPSG:25832 for metric operations.\n",
    "    \"\"\"\n",
    "    # Ensure metric CRS (EPSG:25832)\n",
    "    if buildings.crs is None:\n",
    "        # If you *know* they are 25832 but CRS is missing:\n",
    "        buildings = buildings.set_crs(epsg=25832)\n",
    "    elif buildings.crs.to_epsg() != 25832:\n",
    "        buildings = buildings.to_crs(25832)\n",
    "\n",
    "    initial_shape = buildings.shape\n",
    "\n",
    "    # Fix invalids\n",
    "    buildings[\"geometry\"] = buildings.make_valid()\n",
    "\n",
    "    # Explode multipolygons -> keep only Polygons\n",
    "    buildings = buildings.explode(ignore_index=True)\n",
    "    buildings = buildings[buildings.geometry.geom_type == \"Polygon\"].reset_index(drop=True)\n",
    "\n",
    "    # Simplify (tolerance in meters) + normalize\n",
    "    if simplify:\n",
    "        buildings[\"geometry\"] = buildings.simplify(simplification_tolerance).normalize()\n",
    "\n",
    "    # Drop very large polygons (area in m²)\n",
    "    buildings = buildings[buildings.area < 200_000].reset_index(drop=True)\n",
    "\n",
    "    # Merge overlaps, then trim remaining overlaps\n",
    "    buildings = geoplanar.merge_overlaps(\n",
    "        buildings, merge_limit=merge_limit, overlap_limit=0.1\n",
    "    )\n",
    "    buildings = geoplanar.trim_overlaps(buildings, largest=False)\n",
    "\n",
    "    # Clean any multipolygons that may have emerged\n",
    "    buildings = buildings.explode(ignore_index=True)\n",
    "    buildings = buildings[buildings.geom_type == \"Polygon\"].reset_index(drop=True)\n",
    "\n",
    "    # Merge touching after slight shrink (0.5 m)\n",
    "    shrink = buildings.buffer(-0.5, resolution=2)\n",
    "    buildings = geoplanar.merge_touching(\n",
    "        buildings, np.where(shrink.is_empty), largest=True\n",
    "    )\n",
    "\n",
    "    # Clean again\n",
    "    buildings = buildings.explode(ignore_index=True)\n",
    "    buildings = buildings[buildings.geom_type == \"Polygon\"].reset_index(drop=True)\n",
    "\n",
    "    # Final validity pass\n",
    "    if simplify:\n",
    "        buildings[\"geometry\"] = buildings.simplify(simplification_tolerance)\n",
    "        buildings[\"geometry\"] = buildings.make_valid()\n",
    "        buildings = buildings[buildings.geom_type == \"Polygon\"].reset_index(drop=True)\n",
    "\n",
    "    print(\n",
    "        \"Final polygons:\",\n",
    "        buildings.shape[0],\n",
    "        \", dropped fraction:\",\n",
    "        1 - (buildings.shape[0] / initial_shape[0]),\n",
    "    )\n",
    "\n",
    "    buildings[\"geometry\"] = buildings.normalize()\n",
    "    return buildings\n",
    "\n",
    "# --------------------\n",
    "# ENTRY POINT\n",
    "# --------------------\n",
    "if __name__ == \"__main__\":\n",
    "    process_single_region_buildings(REGION_ID)"
   ]
  },
  {
   "cell_type": "code",
   "execution_count": 13,
   "id": "d1b6afd9",
   "metadata": {},
   "outputs": [],
   "source": [
    "gdf = gpd.read_parquet('D:/Work/Github_Morphotopes/data/simplified_buildings/buildings_0.parquet')\n"
   ]
  },
  {
   "cell_type": "code",
   "execution_count": 18,
   "id": "37164071",
   "metadata": {},
   "outputs": [
    {
     "data": {
      "text/plain": [
       "1046"
      ]
     },
     "execution_count": 18,
     "metadata": {},
     "output_type": "execute_result"
    }
   ],
   "source": [
    "gdf.shape[0]"
   ]
  },
  {
   "cell_type": "code",
   "execution_count": 19,
   "id": "4d8303ba",
   "metadata": {},
   "outputs": [],
   "source": [
    "gdf.to_file('D:/Work/Github_Morphotopes/data/simplified_buildings/buildings_0.gpkg', driver=\"GPKG\")  "
   ]
  }
 ],
 "metadata": {
  "kernelspec": {
   "display_name": "default",
   "language": "python",
   "name": "python3"
  },
  "language_info": {
   "codemirror_mode": {
    "name": "ipython",
    "version": 3
   },
   "file_extension": ".py",
   "mimetype": "text/x-python",
   "name": "python",
   "nbconvert_exporter": "python",
   "pygments_lexer": "ipython3",
   "version": "3.12.11"
  }
 },
 "nbformat": 4,
 "nbformat_minor": 5
}
