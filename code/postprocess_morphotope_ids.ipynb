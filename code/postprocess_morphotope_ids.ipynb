{
 "cells": [
  {
   "cell_type": "markdown",
   "id": "1ac20b7b-091a-4bef-9766-933c3179b67c",
   "metadata": {},
   "source": [
    "# Post-process morphotope IDs to ensure IDs allocated to noise are unique per contiguity group"
   ]
  },
  {
   "cell_type": "code",
   "execution_count": 1,
   "id": "2b1d5c8c-db95-432c-9a5b-8fae4c6ea68f",
   "metadata": {},
   "outputs": [],
   "source": [
    "import geopandas as gpd\n",
    "\n",
    "from libpysal import graph"
   ]
  },
  {
   "cell_type": "code",
   "execution_count": 20,
   "id": "c167bf69-f274-4804-a45b-3de84fcef2e7",
   "metadata": {},
   "outputs": [],
   "source": [
    "v = 'v10'\n",
    "\n",
    "region_hulls = gpd.read_parquet('/data/uscuni-ulce/regions/cadastre_regions_hull.parquet')"
   ]
  },
  {
   "cell_type": "code",
   "execution_count": 21,
   "id": "670d0864-d19f-4dae-8b27-7450420ac846",
   "metadata": {},
   "outputs": [
    {
     "data": {
      "text/html": [
       "<div>\n",
       "<style scoped>\n",
       "    .dataframe tbody tr th:only-of-type {\n",
       "        vertical-align: middle;\n",
       "    }\n",
       "\n",
       "    .dataframe tbody tr th {\n",
       "        vertical-align: top;\n",
       "    }\n",
       "\n",
       "    .dataframe thead th {\n",
       "        text-align: right;\n",
       "    }\n",
       "</style>\n",
       "<table border=\"1\" class=\"dataframe\">\n",
       "  <thead>\n",
       "    <tr style=\"text-align: right;\">\n",
       "      <th></th>\n",
       "      <th>convex_hull</th>\n",
       "    </tr>\n",
       "    <tr>\n",
       "      <th>labels</th>\n",
       "      <th></th>\n",
       "    </tr>\n",
       "  </thead>\n",
       "  <tbody>\n",
       "    <tr>\n",
       "      <th>4</th>\n",
       "      <td>POLYGON ((4122200 3045600, 4121500 3045900, 40...</td>\n",
       "    </tr>\n",
       "    <tr>\n",
       "      <th>10</th>\n",
       "      <td>POLYGON ((4068900 3057300, 4051000 3064300, 40...</td>\n",
       "    </tr>\n",
       "    <tr>\n",
       "      <th>132</th>\n",
       "      <td>POLYGON ((4053100 3049800, 4050900 3053000, 40...</td>\n",
       "    </tr>\n",
       "    <tr>\n",
       "      <th>134</th>\n",
       "      <td>POLYGON ((4052500 3093600, 4052200 3093700, 40...</td>\n",
       "    </tr>\n",
       "    <tr>\n",
       "      <th>286</th>\n",
       "      <td>POLYGON ((4060600 3103900, 4057000 3104200, 40...</td>\n",
       "    </tr>\n",
       "    <tr>\n",
       "      <th>...</th>\n",
       "      <td>...</td>\n",
       "    </tr>\n",
       "    <tr>\n",
       "      <th>149997</th>\n",
       "      <td>POLYGON ((5253200 3642300, 5245600 3647000, 52...</td>\n",
       "    </tr>\n",
       "    <tr>\n",
       "      <th>150044</th>\n",
       "      <td>POLYGON ((5265700 3578300, 5263400 3578400, 52...</td>\n",
       "    </tr>\n",
       "    <tr>\n",
       "      <th>151676</th>\n",
       "      <td>POLYGON ((5285400 3549200, 5284800 3549900, 52...</td>\n",
       "    </tr>\n",
       "    <tr>\n",
       "      <th>152081</th>\n",
       "      <td>POLYGON ((5269700 3664900, 5269300 3665300, 52...</td>\n",
       "    </tr>\n",
       "    <tr>\n",
       "      <th>152511</th>\n",
       "      <td>POLYGON ((5298200 3650100, 5279200 3651600, 52...</td>\n",
       "    </tr>\n",
       "  </tbody>\n",
       "</table>\n",
       "<p>847 rows × 1 columns</p>\n",
       "</div>"
      ],
      "text/plain": [
       "                                              convex_hull\n",
       "labels                                                   \n",
       "4       POLYGON ((4122200 3045600, 4121500 3045900, 40...\n",
       "10      POLYGON ((4068900 3057300, 4051000 3064300, 40...\n",
       "132     POLYGON ((4053100 3049800, 4050900 3053000, 40...\n",
       "134     POLYGON ((4052500 3093600, 4052200 3093700, 40...\n",
       "286     POLYGON ((4060600 3103900, 4057000 3104200, 40...\n",
       "...                                                   ...\n",
       "149997  POLYGON ((5253200 3642300, 5245600 3647000, 52...\n",
       "150044  POLYGON ((5265700 3578300, 5263400 3578400, 52...\n",
       "151676  POLYGON ((5285400 3549200, 5284800 3549900, 52...\n",
       "152081  POLYGON ((5269700 3664900, 5269300 3665300, 52...\n",
       "152511  POLYGON ((5298200 3650100, 5279200 3651600, 52...\n",
       "\n",
       "[847 rows x 1 columns]"
      ]
     },
     "execution_count": 21,
     "metadata": {},
     "output_type": "execute_result"
    }
   ],
   "source": [
    "region_hulls"
   ]
  },
  {
   "cell_type": "code",
   "execution_count": 113,
   "id": "c434138a-12bf-4714-878d-e1e45f6b1b71",
   "metadata": {},
   "outputs": [
    {
     "name": "stdout",
     "output_type": "stream",
     "text": [
      "CPU times: user 6min 5s, sys: 38.3 s, total: 6min 43s\n",
      "Wall time: 6min 26s\n"
     ]
    }
   ],
   "source": [
    "%%time\n",
    "\n",
    "for region in region_hulls.index:\n",
    "    df = gpd.read_parquet(f'/data/uscuni-ulce/processed_data/clusters/clusters_{region}_{v}.pq')\n",
    "    w = graph.read_parquet(f'/data/uscuni-ulce/processed_data/neigh_graphs/tessellation_graph_{region}.parquet')\n",
    "    noise = df[df.morph.str.endswith('-1')]\n",
    "    noise_labels = w.subgraph(noise.index).component_labels\n",
    "    df['unique_morph'] = df['morph']\n",
    "    df.loc[noise.index, 'unique_morph'] = df.loc[noise.index, 'unique_morph'].str[:-1] + (noise_labels + 1).astype('str')\n",
    "    df.to_parquet(f'/data/uscuni-ulce/processed_data/clusters/clusters_{region}_{v}.pq')"
   ]
  },
  {
   "cell_type": "code",
   "execution_count": 80,
   "id": "c49d1afe-f021-4eb7-a3d5-8b9dd9386146",
   "metadata": {},
   "outputs": [],
   "source": [
    "region = 69333"
   ]
  },
  {
   "cell_type": "code",
   "execution_count": 183,
   "id": "e5fa01e8-743a-40a9-baf7-513f462fc09e",
   "metadata": {},
   "outputs": [
    {
     "name": "stdout",
     "output_type": "stream",
     "text": [
      "CPU times: user 4min 11s, sys: 52.9 s, total: 5min 4s\n",
      "Wall time: 5min 3s\n"
     ]
    }
   ],
   "source": [
    "%%time\n",
    "\n",
    "for region in region_hulls.index:\n",
    "    buildings = gpd.read_parquet(f'/data/uscuni-ulce/processed_data/clusters/clusters_{region}_{v}.pq', columns=['morph', 'unique_morph', 'geometry'])\n",
    "    buildings_noise = buildings[buildings.morph.str.endswith('-1')]\n",
    "    join_data = buildings_noise.representative_point().to_frame('geometry').dissolve(buildings_noise.unique_morph).representative_point()\n",
    "    \n",
    "    mtopes = gpd.read_parquet(f'/data/uscuni-ulce/processed_data/morphotope_clusters/{v}/{region}_clusters.pq').reset_index()\n",
    "    mtopes_noise = mtopes[mtopes.morph.str.endswith('-1')].copy()\n",
    "    joined = mtopes_noise.reset_index().sjoin(join_data.to_frame(), how='left')\n",
    "    cleaned = joined.groupby('index', as_index=False).first()\n",
    "    mtopes['unique_morph'] = mtopes.morph.copy()\n",
    "    mtopes.loc[cleaned['index'], 'unique_morph'] = cleaned.unique_morph.values\n",
    "    mtopes.to_parquet(f'/data/uscuni-ulce/processed_data/morphotope_clusters/{v}/{region}_clusters.pq')"
   ]
  }
 ],
 "metadata": {
  "kernelspec": {
   "display_name": "Python 3 (ipykernel)",
   "language": "python",
   "name": "python3"
  },
  "language_info": {
   "codemirror_mode": {
    "name": "ipython",
    "version": 3
   },
   "file_extension": ".py",
   "mimetype": "text/x-python",
   "name": "python",
   "nbconvert_exporter": "python",
   "pygments_lexer": "ipython3",
   "version": "3.12.10"
  }
 },
 "nbformat": 4,
 "nbformat_minor": 5
}
