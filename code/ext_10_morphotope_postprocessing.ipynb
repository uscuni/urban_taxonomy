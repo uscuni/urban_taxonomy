{
 "cells": [
  {
   "cell_type": "markdown",
   "id": "65758d7f",
   "metadata": {},
   "source": [
    "# Post-process morphotopes\n",
    "\n",
    "This ensures that a morphotope boundary does not split a connected component of buildings."
   ]
  },
  {
   "cell_type": "code",
   "execution_count": 1,
   "id": "09f9d086-9dfd-4b46-8758-ee479459e9fc",
   "metadata": {},
   "outputs": [],
   "source": [
    "import geopandas as gpd\n",
    "import pandas as pd\n",
    "import numpy as np\n",
    "from libpysal.graph import read_parquet"
   ]
  },
  {
   "cell_type": "code",
   "execution_count": 2,
   "id": "3a335549-f8c4-4d04-9555-47d8bdf86ed7",
   "metadata": {},
   "outputs": [],
   "source": [
    "country = \"fr_sp_nl_be\""
   ]
  },
  {
   "cell_type": "code",
   "execution_count": 3,
   "id": "ec6c8760-ac31-4457-be0d-a00bcd670627",
   "metadata": {},
   "outputs": [],
   "source": [
    "clusters_dir = \"/data/uscuni-ulce/processed_data/clusters/\"\n",
    "chars_dir = \"/data/uscuni-ulce/processed_data/chars/\"\n",
    "regions_datadir = \"/data/uscuni-ulce/\"\n",
    "region_hulls = gpd.read_parquet(\n",
    "    regions_datadir + \"regions/\" + f\"{country}_regions_hull.parquet\"\n",
    ")\n",
    "graph_dir = \"/data/uscuni-ulce/processed_data/neigh_graphs/\"\n",
    "morphotopes_dir = \"/data/uscuni-ulce/processed_data/morphotopes/\""
   ]
  },
  {
   "cell_type": "code",
   "execution_count": 4,
   "id": "0ca2854d-1175-4a35-aff2-c96ec09b9b9d",
   "metadata": {},
   "outputs": [],
   "source": [
    "input_model_params = \"_75_0_None_None_False\""
   ]
  },
  {
   "cell_type": "code",
   "execution_count": 5,
   "id": "9999f803-c9ac-40ea-a185-f24687b4e19f",
   "metadata": {},
   "outputs": [],
   "source": [
    "output_model_params = \"_post_processing_v1\""
   ]
  },
  {
   "cell_type": "markdown",
   "id": "40cdd8ea-56e1-4463-b77d-cc2eaec63f1d",
   "metadata": {},
   "source": [
    "# 1. Change morphotope boundaries so that adjacent buildings are always in the majority morphotope."
   ]
  },
  {
   "cell_type": "code",
   "execution_count": 6,
   "id": "bab4c2f3-32dc-48f2-a8dc-086ec1f82efa",
   "metadata": {},
   "outputs": [],
   "source": [
    "def post_process_morphotope_labels(region_id, input_model_params, output_model_params):\n",
    "    ## read data\n",
    "    bq1 = read_parquet(graph_dir + f\"building_graph_{region_id}.parquet\")\n",
    "    region_morphotope_labels = pd.read_parquet(\n",
    "        f\"{morphotopes_dir}tessellation_labels_morphotopes_{region_id}{input_model_params}.pq\"\n",
    "    ).morphotope_label\n",
    "    region_morphotope_labels = region_morphotope_labels.loc[bq1.unique_ids]\n",
    "\n",
    "    # assign mode of non-noise clusters to whole adjacent structure\n",
    "    # if its only noise, assign the most common noise cluster\n",
    "    def non_noise_mode(x):\n",
    "        non_noise = x[~x.str.endswith(\"-1\")]\n",
    "        if non_noise.shape[0]:\n",
    "            return pd.Series.mode(non_noise)[0]\n",
    "        else:\n",
    "            return pd.Series.mode(x)[0]\n",
    "\n",
    "    component_morphotopes = region_morphotope_labels.groupby(bq1.component_labels).agg(\n",
    "        non_noise_mode\n",
    "    )\n",
    "\n",
    "    aggregated_morphotope_labels = bq1.component_labels.map(\n",
    "        component_morphotopes.to_dict()\n",
    "    )\n",
    "    aggregated_morphotope_labels.name = \"morphotope_label\"\n",
    "    assert (aggregated_morphotope_labels.index == region_morphotope_labels.index).all()\n",
    "    aggregated_morphotope_labels.to_frame().to_parquet(\n",
    "        f\"{morphotopes_dir}tessellation_labels_morphotopes_{region_id}{output_model_params}.pq\"\n",
    "    )"
   ]
  },
  {
   "cell_type": "code",
   "execution_count": 7,
   "id": "c8d5df6a-a7fa-483d-a71c-4cd33bbaeddc",
   "metadata": {},
   "outputs": [
    {
     "name": "stdout",
     "output_type": "stream",
     "text": [
      "CPU times: user 1.17 s, sys: 68.6 ms, total: 1.24 s\n",
      "Wall time: 6min 58s\n"
     ]
    }
   ],
   "source": [
    "%%time\n",
    "from joblib import Parallel, delayed\n",
    "\n",
    "n_jobs = -1\n",
    "new = Parallel(n_jobs=n_jobs)(\n",
    "    delayed(post_process_morphotope_labels)(\n",
    "        region_id, input_model_params, output_model_params\n",
    "    )\n",
    "    for region_id, _ in region_hulls.iterrows()\n",
    ")"
   ]
  },
  {
   "cell_type": "markdown",
   "id": "1cab745e-5888-435a-aec4-52d8536d13b1",
   "metadata": {},
   "source": [
    "# 2. Generate new morphotope data based on the new morphotope boundaries"
   ]
  },
  {
   "cell_type": "code",
   "execution_count": 8,
   "id": "d8710bb7-902e-46a9-bd86-b6cc61ef326f",
   "metadata": {},
   "outputs": [],
   "source": [
    "def percentile(n):\n",
    "    def percentile_(x):\n",
    "        return np.percentile(x, n)\n",
    "\n",
    "    percentile_.__name__ = \"percentile_%s\" % n\n",
    "    return percentile_\n",
    "\n",
    "\n",
    "def post_process_morphotope_data(region_id, input_model_params, output_model_params):\n",
    "    ## read data\n",
    "    new_morphotope_labels = pd.read_parquet(\n",
    "        f\"{morphotopes_dir}tessellation_labels_morphotopes_{region_id}{output_model_params}.pq\"\n",
    "    ).morphotope_label\n",
    "    X_train = pd.read_parquet(chars_dir + f\"primary_chars_{region_id}.parquet\")\n",
    "    component_data = X_train.loc[new_morphotope_labels.index]\n",
    "\n",
    "    # get morphotope stats\n",
    "    component_data = component_data.groupby(new_morphotope_labels.values).agg(\n",
    "        [percentile(25), \"median\", percentile(75), \"std\", \"mean\"]\n",
    "    )\n",
    "\n",
    "    # save sizes for clustering\n",
    "    component_data[(\"Size\", \"Size\")] = (\n",
    "        X_train.loc[new_morphotope_labels.index]\n",
    "        .groupby(new_morphotope_labels.values)\n",
    "        .size()\n",
    "    )\n",
    "\n",
    "    # store morphotopes data\n",
    "    component_data.to_parquet(\n",
    "        morphotopes_dir + f\"data_morphotopes_{region_id}{output_model_params}.pq\"\n",
    "    )"
   ]
  },
  {
   "cell_type": "code",
   "execution_count": 9,
   "id": "747ef4e6-00f0-4fb8-a552-09654f8abef2",
   "metadata": {},
   "outputs": [
    {
     "name": "stderr",
     "output_type": "stream",
     "text": [
      "/home/martin/dev/urban_taxonomy/.pixi/envs/default/lib/python3.12/site-packages/joblib/externals/loky/process_executor.py:782: UserWarning: A worker stopped while some jobs were given to the executor. This can be caused by a too short worker timeout or by a memory leak.\n",
      "  warnings.warn(\n"
     ]
    },
    {
     "name": "stdout",
     "output_type": "stream",
     "text": [
      "CPU times: user 1.63 s, sys: 140 ms, total: 1.77 s\n",
      "Wall time: 11min 16s\n"
     ]
    }
   ],
   "source": [
    "%%time\n",
    "from joblib import Parallel, delayed\n",
    "\n",
    "n_jobs = -1\n",
    "new = Parallel(n_jobs=n_jobs)(\n",
    "    delayed(post_process_morphotope_data)(\n",
    "        region_id, input_model_params, output_model_params\n",
    "    )\n",
    "    for region_id, _ in region_hulls.iterrows()\n",
    ")"
   ]
  },
  {
   "cell_type": "markdown",
   "id": "1980c222-d68c-4e09-8c02-f9481a0743da",
   "metadata": {},
   "source": [
    "### Plotting"
   ]
  },
  {
   "cell_type": "code",
   "execution_count": 11,
   "id": "5076d8b3-7ccf-43be-a6ca-3e7b1c932c05",
   "metadata": {},
   "outputs": [],
   "source": [
    "region_id = 523438"
   ]
  },
  {
   "cell_type": "code",
   "execution_count": 12,
   "id": "e55b0b69-5454-45f6-a595-4e7c1b7ba141",
   "metadata": {},
   "outputs": [],
   "source": [
    "from lonboard import SolidPolygonLayer, Map\n",
    "from lonboard.basemap import CartoBasemap\n",
    "from core.cluster_validation import get_color"
   ]
  },
  {
   "cell_type": "code",
   "execution_count": 13,
   "id": "a6e734f0-f934-440b-9d4e-f1649274984c",
   "metadata": {},
   "outputs": [],
   "source": [
    "buildings = gpd.read_parquet(\n",
    "    f\"/data/uscuni-ulce/processed_data/buildings/buildings_{region_id}.parquet\"\n",
    ")\n",
    "region_morphotope_labels = pd.read_parquet(\n",
    "    f\"{morphotopes_dir}tessellation_labels_morphotopes_{region_id}{output_model_params}.pq\"\n",
    ").morphotope_label"
   ]
  },
  {
   "cell_type": "code",
   "execution_count": 14,
   "id": "6d8176f0-7b2c-424c-ab3f-4a7dae445304",
   "metadata": {},
   "outputs": [],
   "source": [
    "buildings[\"morph\"] = region_morphotope_labels"
   ]
  },
  {
   "cell_type": "code",
   "execution_count": 15,
   "id": "53ca6a59-82f9-4347-a6e1-5e828a099aea",
   "metadata": {},
   "outputs": [
    {
     "name": "stderr",
     "output_type": "stream",
     "text": [
      "/home/martin/dev/urban_taxonomy/.pixi/envs/default/lib/python3.12/site-packages/lonboard/_geoarrow/ops/reproject.py:97: UserWarning: Input being reprojected to EPSG:4326 CRS\n",
      "  warnings.warn(\"Input being reprojected to EPSG:4326 CRS\")\n"
     ]
    }
   ],
   "source": [
    "layer = SolidPolygonLayer.from_geopandas(\n",
    "    gdf=buildings[\n",
    "        [\n",
    "            \"geometry\",\n",
    "            \"morph\",\n",
    "        ]\n",
    "    ],\n",
    "    opacity=0.15,\n",
    ")"
   ]
  },
  {
   "cell_type": "code",
   "execution_count": null,
   "id": "8d932726-0d08-4e64-a5d4-e642f5eee745",
   "metadata": {},
   "outputs": [],
   "source": [
    "m = Map(layer, basemap_style=CartoBasemap.Positron)\n",
    "m"
   ]
  },
  {
   "cell_type": "code",
   "execution_count": 17,
   "id": "47f92c6d-08ed-4ff0-93c4-17c26e17c68e",
   "metadata": {},
   "outputs": [],
   "source": [
    "factors, idx = buildings[\"morph\"].factorize()"
   ]
  },
  {
   "cell_type": "code",
   "execution_count": 18,
   "id": "f7bb176e-cadc-4897-8e1a-faab8c42e0ac",
   "metadata": {},
   "outputs": [
    {
     "name": "stderr",
     "output_type": "stream",
     "text": [
      "/home/martin/dev/urban_taxonomy/.pixi/envs/default/lib/python3.12/site-packages/colorspacious/comparison.py:11: SyntaxWarning: invalid escape sequence '\\D'\n",
      "  \"\"\"Computes the :math:`\\Delta E` distance between pairs of colors.\n"
     ]
    }
   ],
   "source": [
    "layer.get_fill_color = get_color(factors)"
   ]
  },
  {
   "cell_type": "code",
   "execution_count": null,
   "id": "c7788fe6-0dff-4cc6-9454-5835229f1290",
   "metadata": {},
   "outputs": [],
   "source": []
  }
 ],
 "metadata": {
  "kernelspec": {
   "display_name": "Python 3 (ipykernel)",
   "language": "python",
   "name": "python3"
  },
  "language_info": {
   "codemirror_mode": {
    "name": "ipython",
    "version": 3
   },
   "file_extension": ".py",
   "mimetype": "text/x-python",
   "name": "python",
   "nbconvert_exporter": "python",
   "pygments_lexer": "ipython3",
   "version": "3.12.10"
  }
 },
 "nbformat": 4,
 "nbformat_minor": 5
}
