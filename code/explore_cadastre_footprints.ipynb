{
 "cells": [
  {
   "cell_type": "code",
   "execution_count": null,
   "id": "8d020cd2-a88f-48d4-8425-1562ebcb1321",
   "metadata": {},
   "outputs": [],
   "source": []
  },
  {
   "cell_type": "code",
   "execution_count": 1,
   "id": "2acc88ee-1b46-4421-b315-ea9362802508",
   "metadata": {},
   "outputs": [],
   "source": [
    "import geopandas as gpd\n",
    "from glob import glob\n",
    "import pandas as pd\n",
    "import lonboard\n",
    "from sidecar import Sidecar\n",
    "import os\n",
    "\n",
    "DATADIR = 'D:/Work/Github_Morphotopes/data'\n",
    "OUTPUT_DIR = \"D:/Work/Github_Morphotopes/data\"\n",
    "os.makedirs(OUTPUT_DIR, exist_ok=True)"
   ]
  },
  {
   "cell_type": "code",
   "execution_count": null,
   "id": "bb03bd21-a13d-4e56-a733-e9e1da846bac",
   "metadata": {},
   "outputs": [],
   "source": []
  },
  {
   "cell_type": "markdown",
   "id": "9f4430f8-87e0-45bb-9d24-226b2edecafa",
   "metadata": {},
   "source": [
    "#### Dortmund_2011"
   ]
  },
  {
   "cell_type": "code",
   "execution_count": 2,
   "id": "105e2507-cab4-45d7-9556-ffb278c57981",
   "metadata": {},
   "outputs": [],
   "source": [
    "## Has gardenhouses, sheds, and garages"
   ]
  },
  {
   "cell_type": "code",
   "execution_count": 3,
   "id": "bd779c95-7b8c-41bc-89d6-289a26eb2ea0",
   "metadata": {},
   "outputs": [],
   "source": [
    "filepath = os.path.join(DATADIR, 'dort_test_buildings.gpkg')\n",
    "dort_11 = gpd.read_file(filepath)"
   ]
  },
  {
   "cell_type": "code",
   "execution_count": 4,
   "id": "b816bf93-a1dc-432d-8ce7-84184534f25d",
   "metadata": {},
   "outputs": [
    {
     "data": {
      "text/plain": [
       "(1166, 30)"
      ]
     },
     "execution_count": 4,
     "metadata": {},
     "output_type": "execute_result"
    }
   ],
   "source": [
    "dort_11.shape"
   ]
  },
  {
   "cell_type": "code",
   "execution_count": 5,
   "id": "33283917-9e7a-4952-ab91-e4146351f75d",
   "metadata": {},
   "outputs": [
    {
     "data": {
      "text/plain": [
       "Index(['OBJ_NAME', 'OBJ_ID', 'OBJ_FOLIE', 'OBJ_OSKA', 'ELGEO_ID', 'SCHLUESSEL',\n",
       "       'NAME', 'UUID', 'MI_UUID', 'GEBAEUDEFU', 'GFK', 'BAUWEISE', 'BAW',\n",
       "       'LAGEZURERD', 'OFL', 'AX12003', 'MI_AX12003', 'BEG', 'ENDE', 'LAN23',\n",
       "       'RBZ', 'KRS', 'GEM', 'LAG', 'HNR_PNR', 'LNR', 'DPL', 'DPL_TEXT',\n",
       "       'OFL_GFK', 'geometry'],\n",
       "      dtype='object')"
      ]
     },
     "execution_count": 5,
     "metadata": {},
     "output_type": "execute_result"
    }
   ],
   "source": [
    "dort_11.columns"
   ]
  },
  {
   "cell_type": "markdown",
   "id": "4def95c2",
   "metadata": {},
   "source": [
    "#### Adding attribute columns\n",
    "\n"
   ]
  },
  {
   "cell_type": "code",
   "execution_count": 6,
   "id": "3345a24f-3f08-4e43-9cbb-cc6a2e7b66b5",
   "metadata": {},
   "outputs": [],
   "source": [
    "dort_11['currentUse'] = dort_11['GEBAEUDEFU']\n",
    "dort_11['buildingNature'] =  dort_11['BAUWEISE']\n",
    "dort_11['heightAboveGround'] = None"
   ]
  },
  {
   "cell_type": "code",
   "execution_count": 7,
   "id": "29088439-1a85-414f-ad37-f1d5859b16cb",
   "metadata": {},
   "outputs": [
    {
     "data": {
      "text/plain": [
       "Index(['OBJ_NAME', 'OBJ_ID', 'OBJ_FOLIE', 'OBJ_OSKA', 'ELGEO_ID', 'SCHLUESSEL',\n",
       "       'NAME', 'UUID', 'MI_UUID', 'GEBAEUDEFU', 'GFK', 'BAUWEISE', 'BAW',\n",
       "       'LAGEZURERD', 'OFL', 'AX12003', 'MI_AX12003', 'BEG', 'ENDE', 'LAN23',\n",
       "       'RBZ', 'KRS', 'GEM', 'LAG', 'HNR_PNR', 'LNR', 'DPL', 'DPL_TEXT',\n",
       "       'OFL_GFK', 'geometry', 'currentUse', 'buildingNature',\n",
       "       'heightAboveGround'],\n",
       "      dtype='object')"
      ]
     },
     "execution_count": 7,
     "metadata": {},
     "output_type": "execute_result"
    }
   ],
   "source": [
    "dort_11.columns"
   ]
  },
  {
   "cell_type": "markdown",
   "id": "bf651711-6191-44df-958b-6a2fcc5b722a",
   "metadata": {},
   "source": [
    "#### Creating a subset of only required attributes\n"
   ]
  },
  {
   "cell_type": "code",
   "execution_count": 8,
   "id": "b960b706-aa19-4348-ab59-b1fac7ee5ce3",
   "metadata": {},
   "outputs": [],
   "source": [
    "subset = ['currentUse', 'buildingNature', 'heightAboveGround', 'geometry']"
   ]
  },
  {
   "cell_type": "markdown",
   "id": "0cb63bb1-0024-47f6-9b32-8502b08a7067",
   "metadata": {},
   "source": [
    "### Creating a geopackage for subset\n"
   ]
  },
  {
   "cell_type": "code",
   "execution_count": 9,
   "id": "e3b379eb",
   "metadata": {},
   "outputs": [],
   "source": [
    "dort_11_subset = dort_11[subset]\n",
    "\n",
    "# Save as a single GeoPackage\n",
    "output_path = os.path.join(OUTPUT_DIR, \"dort_11_subset.gpkg\")\n",
    "dort_11_subset.to_file(output_path, driver=\"GPKG\")\n",
    "\n",
    "# Save as a Parquet\n",
    "output_path = os.path.join(OUTPUT_DIR, \"dort_11_subset.parquet\")\n",
    "dort_11_subset.to_parquet(output_path)"
   ]
  },
  {
   "cell_type": "code",
   "execution_count": 10,
   "id": "4b7dd3f5",
   "metadata": {},
   "outputs": [
    {
     "data": {
      "text/plain": [
       "(1166, 4)"
      ]
     },
     "execution_count": 10,
     "metadata": {},
     "output_type": "execute_result"
    }
   ],
   "source": [
    "dort_11_subset.shape"
   ]
  }
 ],
 "metadata": {
  "kernelspec": {
   "display_name": "default",
   "language": "python",
   "name": "python3"
  },
  "language_info": {
   "codemirror_mode": {
    "name": "ipython",
    "version": 3
   },
   "file_extension": ".py",
   "mimetype": "text/x-python",
   "name": "python",
   "nbconvert_exporter": "python",
   "pygments_lexer": "ipython3",
   "version": "3.12.11"
  }
 },
 "nbformat": 4,
 "nbformat_minor": 5
}
