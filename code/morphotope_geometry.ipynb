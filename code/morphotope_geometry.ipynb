{
 "cells": [
  {
   "cell_type": "markdown",
   "id": "7d2fd753-4cd8-4c80-862f-e1717750a018",
   "metadata": {},
   "source": [
    "# Generate morphotope geometry with cluster information\n",
    "\n",
    "Dissolves enclosed tessellation cells into morphotopes for visualisation purposes and links cluster information we have on buildings to each morphotope. To be displayed on the interactive map."
   ]
  },
  {
   "cell_type": "code",
   "execution_count": 1,
   "id": "529c7f6f-5205-434b-9b13-826c3a35b202",
   "metadata": {},
   "outputs": [],
   "source": [
    "import os\n",
    "\n",
    "import geopandas as gpd\n",
    "import pandas as pd\n",
    "\n",
    "from libpysal import graph\n",
    "from tqdm.auto import tqdm"
   ]
  },
  {
   "cell_type": "code",
   "execution_count": 2,
   "id": "3800b16b-f398-48e0-8fd8-4868739a0995",
   "metadata": {},
   "outputs": [],
   "source": [
    "folder = \"/data/uscuni-ulce/processed_data/tessellations/\"\n",
    "clusters_folder = \"/data/uscuni-ulce/processed_data/clusters/\"\n",
    "morphotope_folder = \"/data/uscuni-ulce/processed_data/morphotope_clusters/\""
   ]
  },
  {
   "cell_type": "code",
   "execution_count": 3,
   "id": "244c4e9b-df4f-4e2d-9a2e-857df96b0ea3",
   "metadata": {},
   "outputs": [],
   "source": [
    "# os.mkdir(morphotope_folder)"
   ]
  },
  {
   "cell_type": "code",
   "execution_count": 4,
   "id": "778f09a3-a8f7-4801-8b41-eaec25407513",
   "metadata": {},
   "outputs": [],
   "source": [
    "regions = gpd.read_parquet(\"/data/uscuni-ulce/regions/cadastre_regions_hull.parquet\")"
   ]
  },
  {
   "cell_type": "code",
   "execution_count": 5,
   "id": "05cffb45-1640-4b80-9456-66c9b436dd03",
   "metadata": {},
   "outputs": [],
   "source": [
    "def generate_morphotope_geometry(region_id):\n",
    "    tess = gpd.read_parquet(f\"{folder}tessellation_{region_id}.parquet\")\n",
    "    blg = gpd.read_parquet(f\"{clusters_folder}{region_id}_clusters.pq\")\n",
    "    tess_w_data = tess.join(blg[[\"morph\", \"final\", \"regional\", \"final_without_noise\"]], how=\"inner\")\n",
    "\n",
    "    morphotopes = tess_w_data[~tess_w_data[\"morph\"].str.contains(\"-1\")].dissolve(\"morph\")\n",
    "    morphotopes.geometry = morphotopes.buffer(.01)\n",
    "\n",
    "    noise = tess_w_data[tess_w_data[\"morph\"].str.contains(\"-1\")]\n",
    "    contig = graph.Graph.build_fuzzy_contiguity(noise, buffer=0.1)\n",
    "    noise_morphotopes = noise.dissolve(contig.component_labels)\n",
    "    noise_morphotopes.geometry = noise_morphotopes.buffer(.01)\n",
    "    complete_morphotopes = pd.concat([morphotopes, noise_morphotopes.set_index(\"morph\")])\n",
    "\n",
    "    complete_morphotopes.to_parquet(f\"{morphotope_folder}{region_id}_clusters.pq\")"
   ]
  },
  {
   "cell_type": "code",
   "execution_count": 6,
   "id": "d2b3bda1-aaf1-48a9-850a-e0a8c6b88943",
   "metadata": {},
   "outputs": [
    {
     "data": {
      "application/vnd.jupyter.widget-view+json": {
       "model_id": "0986c6bf483641889e2339a9b89153a2",
       "version_major": 2,
       "version_minor": 0
      },
      "text/plain": [
       "  0%|          | 0/847 [00:00<?, ?it/s]"
      ]
     },
     "metadata": {},
     "output_type": "display_data"
    }
   ],
   "source": [
    "for region in tqdm(regions.index[::-1]):\n",
    "    generate_morphotope_geometry(region)"
   ]
  }
 ],
 "metadata": {
  "kernelspec": {
   "display_name": "Python 3 (ipykernel)",
   "language": "python",
   "name": "python3"
  },
  "language_info": {
   "codemirror_mode": {
    "name": "ipython",
    "version": 3
   },
   "file_extension": ".py",
   "mimetype": "text/x-python",
   "name": "python",
   "nbconvert_exporter": "python",
   "pygments_lexer": "ipython3",
   "version": "3.12.5"
  }
 },
 "nbformat": 4,
 "nbformat_minor": 5
}
