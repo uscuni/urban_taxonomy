{
 "cells": [
  {
   "cell_type": "markdown",
   "id": "7d2fd753-4cd8-4c80-862f-e1717750a018",
   "metadata": {},
   "source": [
    "# Generate morphotope geometry with cluster information\n",
    "\n",
    "Dissolves enclosed tessellation cells into morphotopes for visualisation purposes and links cluster information we have on buildings to each morphotope. To be displayed on the interactive map."
   ]
  },
  {
   "cell_type": "code",
   "execution_count": 1,
   "id": "529c7f6f-5205-434b-9b13-826c3a35b202",
   "metadata": {},
   "outputs": [],
   "source": [
    "import os\n",
    "\n",
    "import geopandas as gpd\n",
    "import pandas as pd\n",
    "import numpy as np\n",
    "from libpysal import graph\n",
    "from tqdm.auto import tqdm"
   ]
  },
  {
   "cell_type": "code",
   "execution_count": 2,
   "id": "3800b16b-f398-48e0-8fd8-4868739a0995",
   "metadata": {},
   "outputs": [],
   "source": [
    "folder = \"/data/uscuni-ulce/processed_data/tessellations/\"\n",
    "clusters_folder = \"/data/uscuni-ulce/processed_data/clusters/\"\n",
    "morphotope_folder = \"/data/uscuni-ulce/processed_data/morphotope_clusters/\""
   ]
  },
  {
   "cell_type": "code",
   "execution_count": 3,
   "id": "d94873b8-0f48-453b-b045-d185b15d73a9",
   "metadata": {},
   "outputs": [],
   "source": [
    "v = \"v7\""
   ]
  },
  {
   "cell_type": "code",
   "execution_count": 4,
   "id": "244c4e9b-df4f-4e2d-9a2e-857df96b0ea3",
   "metadata": {},
   "outputs": [],
   "source": [
    "# os.mkdir(morphotope_folder)"
   ]
  },
  {
   "cell_type": "code",
   "execution_count": 33,
   "id": "778f09a3-a8f7-4801-8b41-eaec25407513",
   "metadata": {},
   "outputs": [],
   "source": [
    "regions = region_hulls = gpd.read_parquet(\"/data/uscuni-ulce/regions/cadastre_regions_hull.parquet\")"
   ]
  },
  {
   "cell_type": "code",
   "execution_count": 6,
   "id": "744091b6-bf96-43c4-83af-33d3d4f8b758",
   "metadata": {},
   "outputs": [],
   "source": [
    "model_params = '_post_processing_v1'"
   ]
  },
  {
   "cell_type": "code",
   "execution_count": 12,
   "id": "ed9ec9ec-e194-445e-86af-2825505045b8",
   "metadata": {},
   "outputs": [],
   "source": [
    "def morphotopes_to_etcs(region_id, etcs=True, model_params='_100_0_None_None_False'):\n",
    "\n",
    "\n",
    "    if etcs:\n",
    "        etcs = gpd.read_parquet(f'/data/uscuni-ulce/processed_data/tessellations/tessellation_{region_id}.parquet')\n",
    "\n",
    "    else:\n",
    "        etcs = gpd.read_parquet(f'/data/uscuni-ulce/processed_data/buildings/buildings_{region_id}.parquet')\n",
    "        \n",
    "    etcs['label'] = -1\n",
    "    \n",
    "    morphotopes = pd.read_parquet(f'/data/uscuni-ulce/processed_data/morphotopes/tessellation_labels_morphotopes_{region_id}{model_params}.pq')\n",
    "    morphotopes.loc[:, 'morphotope_label'] =  morphotopes.values[:, 0]\n",
    "\n",
    "    morph_dict = pd.Series(np.arange(np.unique(morphotopes.values).shape[0]),\n",
    "                       np.unique(morphotopes.values))\n",
    "    etcs.loc[morphotopes.index, 'label'] = morphotopes.map(lambda x: morph_dict.loc[x]).values\n",
    "    etcs['morph'] = str(region_id) + '_' + '-1'\n",
    "    etcs.loc[morphotopes.index, 'morph'] = str(region_id) + '_' + morphotopes.values\n",
    "    return etcs"
   ]
  },
  {
   "cell_type": "code",
   "execution_count": 13,
   "id": "7df89fdd-5742-40e5-b7a8-abbd5dfaf6ef",
   "metadata": {},
   "outputs": [],
   "source": [
    "region_id = 69333"
   ]
  },
  {
   "cell_type": "code",
   "execution_count": 64,
   "id": "28de5e08-c628-4208-a081-dd7557975c47",
   "metadata": {},
   "outputs": [],
   "source": [
    "def generate_morphotope_geometry(region_id):\n",
    "\n",
    "    # read data\n",
    "    etcs = gpd.read_parquet(f'/data/uscuni-ulce/processed_data/tessellations/tessellation_{region_id}.parquet')\n",
    "    labels = pd.read_parquet(f'/data/uscuni-ulce/processed_data/morphotopes/tessellation_labels_morphotopes_{region_id}{model_params}.pq').morphotope_label\n",
    "    etcs['label'] = labels\n",
    "    etcs.label = etcs.label.fillna('-1_-1')\n",
    "\n",
    "    # generate dissolved tesselation cells into morphotopes\n",
    "    morph_geometries = etcs[~etcs[\"label\"].str.contains(\"-1\")].dissolve(\"label\")\n",
    "    morph_geometries.geometry = morph_geometries.buffer(.01)\n",
    "\n",
    "    # dissolve noise etcs into contiguous geometries\n",
    "    noise = etcs[etcs[\"label\"].str.contains(\"-1\")]\n",
    "    contig = graph.Graph.build_fuzzy_contiguity(noise, buffer=0.1)\n",
    "    noise_morphotopes = noise.dissolve(contig.component_labels)\n",
    "    noise_morphotopes.geometry = noise_morphotopes.buffer(.01)\n",
    "\n",
    "    complete_morphotopes = pd.concat([morph_geometries, noise_morphotopes.set_index(noise_morphotopes.index.astype(str) + '_-1')])\n",
    "    complete_morphotopes.to_parquet(f'/data/uscuni-ulce/processed_data/morphtope_geometries/geoms_{region_id}{model_params}_clusters.pq')"
   ]
  },
  {
   "cell_type": "code",
   "execution_count": 65,
   "id": "f39ef2ae-3b0d-428f-91b4-b7f717d4eb0d",
   "metadata": {},
   "outputs": [
    {
     "name": "stdout",
     "output_type": "stream",
     "text": [
      "CPU times: user 38.7 s, sys: 668 ms, total: 39.3 s\n",
      "Wall time: 39.3 s\n"
     ]
    }
   ],
   "source": [
    "%%time\n",
    "generate_morphotope_geometry(region_id)"
   ]
  },
  {
   "cell_type": "code",
   "execution_count": 66,
   "id": "69e57e36-3f9d-45a1-bd13-a639c006a494",
   "metadata": {},
   "outputs": [
    {
     "name": "stderr",
     "output_type": "stream",
     "text": [
      "/home/krasen/urban_taxonomy/.pixi/envs/default/lib/python3.12/site-packages/joblib/externals/loky/process_executor.py:752: UserWarning: A worker stopped while some jobs were given to the executor. This can be caused by a too short worker timeout or by a memory leak.\n",
      "  warnings.warn(\n"
     ]
    },
    {
     "name": "stdout",
     "output_type": "stream",
     "text": [
      "CPU times: user 4.66 s, sys: 5.6 s, total: 10.3 s\n",
      "Wall time: 20min 53s\n"
     ]
    }
   ],
   "source": [
    "%%time\n",
    "\n",
    "from joblib import Parallel, delayed\n",
    "n_jobs = -1\n",
    "new = Parallel(n_jobs=n_jobs)(\n",
    "    delayed(generate_morphotope_geometry)(region_id) for region_id, _ in regions.iterrows()\n",
    ")"
   ]
  },
  {
   "cell_type": "code",
   "execution_count": 16,
   "id": "36b7dd03-55ca-413b-a84a-85b48b21c45a",
   "metadata": {},
   "outputs": [],
   "source": []
  },
  {
   "cell_type": "code",
   "execution_count": 18,
   "id": "daf21e05-33b2-4133-b96b-66c981f8a85c",
   "metadata": {},
   "outputs": [],
   "source": [
    "# read all morphotope geometries\n",
    "geoms = []\n",
    "for region_id in regions.index:\n",
    "    region_morphotopes = gpd.read_parquet(f'/data/uscuni-ulce/processed_data/morphtope_geometries/geoms_{region_id}{model_params}_clusters.pq')\n",
    "    region_morphotopes = region_morphotopes[region_morphotopes.label.isna()]\n",
    "    region_morphotopes.index = str(region_id) + '_' + region_morphotopes.index\n",
    "    geoms.append(region_morphotopes)\n",
    "\n",
    "morphotopes = pd.concat(geoms)"
   ]
  },
  {
   "cell_type": "code",
   "execution_count": null,
   "id": "0c848792-b378-404a-bf36-5a92128e2b61",
   "metadata": {},
   "outputs": [],
   "source": []
  },
  {
   "cell_type": "code",
   "execution_count": 23,
   "id": "6b67806c-5e07-47b6-aaf9-3c3e1af0dadd",
   "metadata": {},
   "outputs": [
    {
     "name": "stdout",
     "output_type": "stream",
     "text": [
      "CPU times: user 5min 3s, sys: 7.92 s, total: 5min 11s\n",
      "Wall time: 5min 11s\n"
     ]
    }
   ],
   "source": [
    "%%time\n",
    "contig = graph.Graph.build_fuzzy_contiguity(morphotopes, buffer=0.1)"
   ]
  },
  {
   "cell_type": "code",
   "execution_count": null,
   "id": "c16ea83e-e071-4437-99d8-5453c7c6575e",
   "metadata": {},
   "outputs": [],
   "source": [
    "contig = contig.assign_self_weight()"
   ]
  },
  {
   "cell_type": "code",
   "execution_count": 25,
   "id": "533c5d3b-f52b-416c-b55d-d8102d853e35",
   "metadata": {},
   "outputs": [],
   "source": [
    "# contig.to_parquet('/data/uscuni-ulce/processed_data/morphtope_geometries/graph.pq')"
   ]
  },
  {
   "cell_type": "code",
   "execution_count": null,
   "id": "0520e4b5-a23a-4b14-94ef-ca7e293c4512",
   "metadata": {},
   "outputs": [],
   "source": []
  },
  {
   "cell_type": "code",
   "execution_count": 64,
   "id": "a611db16-6263-46e8-a07e-b7cd2ae07124",
   "metadata": {},
   "outputs": [],
   "source": [
    "morphotopes_dir = '/data/uscuni-ulce/processed_data/morphotopes/'\n",
    "\n",
    "def read_morphotopes_chars():\n",
    "    \n",
    "    data = []\n",
    "    for region_id, _ in region_hulls.iterrows():\n",
    "        extra_chars = pd.read_parquet(f'{morphotopes_dir}morph_chars_{region_id}.pq')\n",
    "        data.append(extra_chars)\n",
    "    \n",
    "    data = pd.concat(data)\n",
    "    return data"
   ]
  },
  {
   "cell_type": "code",
   "execution_count": 65,
   "id": "13da5d84-91cf-4080-a28b-a332d34633eb",
   "metadata": {},
   "outputs": [],
   "source": [
    "morph_chars_data = read_morphotopes_chars()"
   ]
  },
  {
   "cell_type": "code",
   "execution_count": 66,
   "id": "c4ae180d-ba39-49f0-9e2b-5dc567780b83",
   "metadata": {},
   "outputs": [],
   "source": [
    "contig = read_parquet('/data/uscuni-ulce/processed_data/morphtope_geometries/graph.pq')\n",
    "contig = contig.assign_self_weight()\n",
    "\n",
    "connected_area = morph_chars_data['limAre'].loc[contig.unique_ids]\n",
    "connected_per = morph_chars_data['limPer'].loc[contig.unique_ids]\n",
    "\n",
    "res_area = contig.lag(connected_area)\n",
    "res_perim = contig.lag(connected_per)\n",
    "\n",
    "\n",
    "morph_chars_data['limAre_lag'] = pd.Series(connected_area, index = contig.unique_ids)\n",
    "morph_chars_data['limPer_lag'] = pd.Series(connected_per, index = contig.unique_ids)\n",
    "\n",
    "del contig"
   ]
  },
  {
   "cell_type": "code",
   "execution_count": null,
   "id": "98fccc2d-ec0e-45f9-98e8-cff31f3161d3",
   "metadata": {},
   "outputs": [],
   "source": []
  },
  {
   "cell_type": "code",
   "execution_count": 63,
   "id": "8f6c482f-d530-4475-be8a-d7fd6bbf0edb",
   "metadata": {},
   "outputs": [
    {
     "data": {
      "text/html": [
       "<div>\n",
       "<style scoped>\n",
       "    .dataframe tbody tr th:only-of-type {\n",
       "        vertical-align: middle;\n",
       "    }\n",
       "\n",
       "    .dataframe tbody tr th {\n",
       "        vertical-align: top;\n",
       "    }\n",
       "\n",
       "    .dataframe thead th {\n",
       "        text-align: right;\n",
       "    }\n",
       "</style>\n",
       "<table border=\"1\" class=\"dataframe\">\n",
       "  <thead>\n",
       "    <tr style=\"text-align: right;\">\n",
       "      <th></th>\n",
       "      <th>limMFR</th>\n",
       "      <th>limMTC</th>\n",
       "      <th>limLMFR</th>\n",
       "      <th>limLPS</th>\n",
       "      <th>limAre</th>\n",
       "      <th>limPer</th>\n",
       "      <th>limLAL</th>\n",
       "      <th>limAre_min</th>\n",
       "      <th>limPer_min</th>\n",
       "      <th>limLAL_min</th>\n",
       "    </tr>\n",
       "    <tr>\n",
       "      <th>morph</th>\n",
       "      <th></th>\n",
       "      <th></th>\n",
       "      <th></th>\n",
       "      <th></th>\n",
       "      <th></th>\n",
       "      <th></th>\n",
       "      <th></th>\n",
       "      <th></th>\n",
       "      <th></th>\n",
       "      <th></th>\n",
       "    </tr>\n",
       "  </thead>\n",
       "  <tbody>\n",
       "    <tr>\n",
       "      <th>4_0_0</th>\n",
       "      <td>0.892466</td>\n",
       "      <td>0.872093</td>\n",
       "      <td>0.970569</td>\n",
       "      <td>1.0</td>\n",
       "      <td>614.044020</td>\n",
       "      <td>314.022821</td>\n",
       "      <td>114.156656</td>\n",
       "      <td>139.115433</td>\n",
       "      <td>145.378683</td>\n",
       "      <td>51.441497</td>\n",
       "    </tr>\n",
       "    <tr>\n",
       "      <th>4_0_1</th>\n",
       "      <td>0.418164</td>\n",
       "      <td>0.846847</td>\n",
       "      <td>0.402235</td>\n",
       "      <td>1.0</td>\n",
       "      <td>61033.640680</td>\n",
       "      <td>5198.670759</td>\n",
       "      <td>1510.251963</td>\n",
       "      <td>112.460908</td>\n",
       "      <td>139.004412</td>\n",
       "      <td>50.386449</td>\n",
       "    </tr>\n",
       "    <tr>\n",
       "      <th>4_0_10</th>\n",
       "      <td>0.596141</td>\n",
       "      <td>0.800000</td>\n",
       "      <td>0.557893</td>\n",
       "      <td>1.0</td>\n",
       "      <td>20246.639736</td>\n",
       "      <td>2552.897249</td>\n",
       "      <td>770.168562</td>\n",
       "      <td>155.044988</td>\n",
       "      <td>161.727346</td>\n",
       "      <td>56.688064</td>\n",
       "    </tr>\n",
       "    <tr>\n",
       "      <th>4_0_100</th>\n",
       "      <td>0.914915</td>\n",
       "      <td>0.847458</td>\n",
       "      <td>0.956665</td>\n",
       "      <td>1.0</td>\n",
       "      <td>3750.118216</td>\n",
       "      <td>1439.972862</td>\n",
       "      <td>406.897033</td>\n",
       "      <td>275.980107</td>\n",
       "      <td>217.070679</td>\n",
       "      <td>79.450764</td>\n",
       "    </tr>\n",
       "    <tr>\n",
       "      <th>4_0_101</th>\n",
       "      <td>0.905944</td>\n",
       "      <td>0.867925</td>\n",
       "      <td>0.900318</td>\n",
       "      <td>1.0</td>\n",
       "      <td>4898.520489</td>\n",
       "      <td>1836.033362</td>\n",
       "      <td>461.959483</td>\n",
       "      <td>306.247418</td>\n",
       "      <td>254.026300</td>\n",
       "      <td>88.405634</td>\n",
       "    </tr>\n",
       "    <tr>\n",
       "      <th>...</th>\n",
       "      <td>...</td>\n",
       "      <td>...</td>\n",
       "      <td>...</td>\n",
       "      <td>...</td>\n",
       "      <td>...</td>\n",
       "      <td>...</td>\n",
       "      <td>...</td>\n",
       "      <td>...</td>\n",
       "      <td>...</td>\n",
       "      <td>...</td>\n",
       "    </tr>\n",
       "    <tr>\n",
       "      <th>152511_809_0</th>\n",
       "      <td>0.852618</td>\n",
       "      <td>0.833333</td>\n",
       "      <td>0.853045</td>\n",
       "      <td>1.0</td>\n",
       "      <td>2635.238937</td>\n",
       "      <td>740.117223</td>\n",
       "      <td>256.057881</td>\n",
       "      <td>163.541837</td>\n",
       "      <td>162.753077</td>\n",
       "      <td>58.160159</td>\n",
       "    </tr>\n",
       "    <tr>\n",
       "      <th>152511_8_0</th>\n",
       "      <td>0.932091</td>\n",
       "      <td>0.896774</td>\n",
       "      <td>0.940105</td>\n",
       "      <td>1.0</td>\n",
       "      <td>3297.389888</td>\n",
       "      <td>1050.999677</td>\n",
       "      <td>353.692176</td>\n",
       "      <td>228.043315</td>\n",
       "      <td>193.571876</td>\n",
       "      <td>69.613051</td>\n",
       "    </tr>\n",
       "    <tr>\n",
       "      <th>152511_8_1</th>\n",
       "      <td>0.860286</td>\n",
       "      <td>0.821053</td>\n",
       "      <td>0.869738</td>\n",
       "      <td>1.0</td>\n",
       "      <td>4457.811003</td>\n",
       "      <td>1177.861708</td>\n",
       "      <td>392.034372</td>\n",
       "      <td>201.021874</td>\n",
       "      <td>181.386676</td>\n",
       "      <td>65.108655</td>\n",
       "    </tr>\n",
       "    <tr>\n",
       "      <th>152511_8_2</th>\n",
       "      <td>0.903059</td>\n",
       "      <td>0.879195</td>\n",
       "      <td>0.912246</td>\n",
       "      <td>1.0</td>\n",
       "      <td>2557.651710</td>\n",
       "      <td>825.129001</td>\n",
       "      <td>302.090125</td>\n",
       "      <td>207.655549</td>\n",
       "      <td>185.992686</td>\n",
       "      <td>66.850173</td>\n",
       "    </tr>\n",
       "    <tr>\n",
       "      <th>152511_901_0</th>\n",
       "      <td>0.944756</td>\n",
       "      <td>0.852273</td>\n",
       "      <td>0.959678</td>\n",
       "      <td>1.0</td>\n",
       "      <td>6956.336951</td>\n",
       "      <td>1241.179350</td>\n",
       "      <td>400.051959</td>\n",
       "      <td>160.565859</td>\n",
       "      <td>161.678572</td>\n",
       "      <td>57.889101</td>\n",
       "    </tr>\n",
       "  </tbody>\n",
       "</table>\n",
       "<p>523590 rows × 10 columns</p>\n",
       "</div>"
      ],
      "text/plain": [
       "                limMFR    limMTC   limLMFR  limLPS        limAre       limPer  \\\n",
       "morph                                                                           \n",
       "4_0_0         0.892466  0.872093  0.970569     1.0    614.044020   314.022821   \n",
       "4_0_1         0.418164  0.846847  0.402235     1.0  61033.640680  5198.670759   \n",
       "4_0_10        0.596141  0.800000  0.557893     1.0  20246.639736  2552.897249   \n",
       "4_0_100       0.914915  0.847458  0.956665     1.0   3750.118216  1439.972862   \n",
       "4_0_101       0.905944  0.867925  0.900318     1.0   4898.520489  1836.033362   \n",
       "...                ...       ...       ...     ...           ...          ...   \n",
       "152511_809_0  0.852618  0.833333  0.853045     1.0   2635.238937   740.117223   \n",
       "152511_8_0    0.932091  0.896774  0.940105     1.0   3297.389888  1050.999677   \n",
       "152511_8_1    0.860286  0.821053  0.869738     1.0   4457.811003  1177.861708   \n",
       "152511_8_2    0.903059  0.879195  0.912246     1.0   2557.651710   825.129001   \n",
       "152511_901_0  0.944756  0.852273  0.959678     1.0   6956.336951  1241.179350   \n",
       "\n",
       "                   limLAL  limAre_min  limPer_min  limLAL_min  \n",
       "morph                                                          \n",
       "4_0_0          114.156656  139.115433  145.378683   51.441497  \n",
       "4_0_1         1510.251963  112.460908  139.004412   50.386449  \n",
       "4_0_10         770.168562  155.044988  161.727346   56.688064  \n",
       "4_0_100        406.897033  275.980107  217.070679   79.450764  \n",
       "4_0_101        461.959483  306.247418  254.026300   88.405634  \n",
       "...                   ...         ...         ...         ...  \n",
       "152511_809_0   256.057881  163.541837  162.753077   58.160159  \n",
       "152511_8_0     353.692176  228.043315  193.571876   69.613051  \n",
       "152511_8_1     392.034372  201.021874  181.386676   65.108655  \n",
       "152511_8_2     302.090125  207.655549  185.992686   66.850173  \n",
       "152511_901_0   400.051959  160.565859  161.678572   57.889101  \n",
       "\n",
       "[523590 rows x 10 columns]"
      ]
     },
     "execution_count": 63,
     "metadata": {},
     "output_type": "execute_result"
    }
   ],
   "source": []
  },
  {
   "cell_type": "code",
   "execution_count": null,
   "id": "85854cac-a22b-4bd7-9134-1452d369516e",
   "metadata": {},
   "outputs": [],
   "source": []
  },
  {
   "cell_type": "code",
   "execution_count": 53,
   "id": "b22fc59f-d6d2-4357-a052-cbc21356460c",
   "metadata": {},
   "outputs": [],
   "source": []
  },
  {
   "cell_type": "code",
   "execution_count": 28,
   "id": "8185433c-265b-45d7-bbb6-039c731dea1b",
   "metadata": {},
   "outputs": [
    {
     "data": {
      "text/plain": [
       "\u001b[0;31mSignature:\u001b[0m \u001b[0mcontig\u001b[0m\u001b[0;34m.\u001b[0m\u001b[0mlag\u001b[0m\u001b[0;34m(\u001b[0m\u001b[0my\u001b[0m\u001b[0;34m,\u001b[0m \u001b[0mcategorical\u001b[0m\u001b[0;34m=\u001b[0m\u001b[0;32mFalse\u001b[0m\u001b[0;34m,\u001b[0m \u001b[0mties\u001b[0m\u001b[0;34m=\u001b[0m\u001b[0;34m'raise'\u001b[0m\u001b[0;34m)\u001b[0m\u001b[0;34m\u001b[0m\u001b[0;34m\u001b[0m\u001b[0m\n",
       "\u001b[0;31mDocstring:\u001b[0m\n",
       "Spatial lag operator\n",
       "\n",
       "Constructs spatial lag based on neighbor relations of the graph.\n",
       "\n",
       "\n",
       "Parameters\n",
       "----------\n",
       "y : array\n",
       "    numpy array with dimensionality conforming to w\n",
       "categorical : bool\n",
       "    True if y is categorical, False if y is continuous.\n",
       "ties : {'raise', 'random', 'tryself'}, optional\n",
       "    Policy on how to break ties when a focal unit has multiple\n",
       "    modes for a categorical lag.\n",
       "    - 'raise': This will raise an exception if ties are\n",
       "    encountered to alert the user (Default).\n",
       "    - 'random': modal label ties Will be broken randomly.\n",
       "    - 'tryself': check if focal label breaks the tie between label\n",
       "    modes.  If the focal label does not break the modal tie, the\n",
       "    tie will be be broken randomly. If the focal unit has a\n",
       "    self-weight, focal label is not used to break any tie,\n",
       "    rather any tie will be broken randomly.\n",
       "\n",
       "\n",
       "Returns\n",
       "-------\n",
       "numpy.ndarray\n",
       "    array of numeric|categorical values for the spatial lag\n",
       "\n",
       "Examples\n",
       "--------\n",
       ">>> import numpy as np\n",
       ">>> import pandas as pd\n",
       ">>> import geopandas as gpd\n",
       ">>> from geodatasets import get_path\n",
       ">>> aus = gpd.read_file(get_path(\"abs.australia_states_territories\")).set_index(\n",
       "...     \"STE_NAME21\"\n",
       "... )\n",
       ">>> aus = aus[aus.geometry.notna()]\n",
       ">>> contiguity = graph.Graph.build_contiguity(aus)\n",
       "\n",
       "Spatial lag operator for continuous variables.\n",
       "\n",
       ">>> y = np.arange(9)\n",
       ">>> contiguity.lag(y)\n",
       "array([21.,  3.,  9., 13.,  9.,  0.,  9.,  0.,  0.])\n",
       "\n",
       "You can also perform transformation of weights.\n",
       "\n",
       ">>> contiguity_r = contiguity.transform(\"r\")\n",
       ">>> contiguity_r.lag(y)\n",
       "array([4.2, 1.5, 3. , 2.6, 4.5, 0. , 3. , 0. , 0. ])\n",
       "\u001b[0;31mFile:\u001b[0m      ~/urban_taxonomy/.pixi/envs/default/lib/python3.12/site-packages/libpysal/graph/base.py\n",
       "\u001b[0;31mType:\u001b[0m      method"
      ]
     },
     "metadata": {},
     "output_type": "display_data"
    }
   ],
   "source": [
    "contig.lag?"
   ]
  },
  {
   "cell_type": "code",
   "execution_count": null,
   "id": "76bdc291-38ea-4107-b068-b5d3ac574c9e",
   "metadata": {},
   "outputs": [],
   "source": []
  },
  {
   "cell_type": "code",
   "execution_count": 10,
   "id": "05cffb45-1640-4b80-9456-66c9b436dd03",
   "metadata": {},
   "outputs": [],
   "source": [
    "def generate_morphotope_geometry(region_id):\n",
    "    tess = gpd.read_parquet(f\"{folder}tessellation_{region_id}.parquet\")\n",
    "    blg = gpd.read_parquet(f\"{clusters_folder}clusters_{region_id}_{v}.pq\")\n",
    "    tess_w_data = tess.join(blg[[\"morph\", \"final\", \"regional\", \"final_without_noise\"]], how=\"inner\")\n",
    "\n",
    "    morphotopes = tess_w_data[~tess_w_data[\"morph\"].str.contains(\"-1\")].dissolve(\"morph\")\n",
    "    morphotopes.geometry = morphotopes.buffer(.01)\n",
    "\n",
    "    noise = tess_w_data[tess_w_data[\"morph\"].str.contains(\"-1\")]\n",
    "    contig = graph.Graph.build_fuzzy_contiguity(noise, buffer=0.1)\n",
    "    noise_morphotopes = noise.dissolve(contig.component_labels)\n",
    "    noise_morphotopes.geometry = noise_morphotopes.buffer(.01)\n",
    "    complete_morphotopes = pd.concat([morphotopes, noise_morphotopes.set_index(\"morph\")])\n",
    "\n",
    "    complete_morphotopes.to_parquet(f\"{morphotope_folder}{region_id}_clusters.pq\")"
   ]
  },
  {
   "cell_type": "code",
   "execution_count": 11,
   "id": "d2b3bda1-aaf1-48a9-850a-e0a8c6b88943",
   "metadata": {},
   "outputs": [
    {
     "data": {
      "application/vnd.jupyter.widget-view+json": {
       "model_id": "6b640b203fbb413b9f9205ba3f205bd8",
       "version_major": 2,
       "version_minor": 0
      },
      "text/plain": [
       "  0%|          | 0/847 [00:00<?, ?it/s]"
      ]
     },
     "metadata": {},
     "output_type": "display_data"
    }
   ],
   "source": [
    "for region in tqdm(regions.index[::-1]):\n",
    "    generate_morphotope_geometry(region)"
   ]
  },
  {
   "cell_type": "code",
   "execution_count": null,
   "id": "7896ba4f-c0b5-488c-87bf-47b9fb02dc67",
   "metadata": {},
   "outputs": [],
   "source": []
  },
  {
   "cell_type": "code",
   "execution_count": null,
   "id": "0c155e94-29d2-44a3-b21b-c2011c385736",
   "metadata": {},
   "outputs": [],
   "source": []
  },
  {
   "cell_type": "code",
   "execution_count": null,
   "id": "06c1fe84-5130-4021-985b-1ca97be017d3",
   "metadata": {},
   "outputs": [],
   "source": []
  },
  {
   "cell_type": "code",
   "execution_count": null,
   "id": "d421e6ca-0898-407f-a7cf-59f21c0ae960",
   "metadata": {},
   "outputs": [],
   "source": []
  }
 ],
 "metadata": {
  "kernelspec": {
   "display_name": "Python 3 (ipykernel)",
   "language": "python",
   "name": "python3"
  },
  "language_info": {
   "codemirror_mode": {
    "name": "ipython",
    "version": 3
   },
   "file_extension": ".py",
   "mimetype": "text/x-python",
   "name": "python",
   "nbconvert_exporter": "python",
   "pygments_lexer": "ipython3",
   "version": "3.12.8"
  }
 },
 "nbformat": 4,
 "nbformat_minor": 5
}
