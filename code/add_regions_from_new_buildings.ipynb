{
 "cells": [
  {
   "cell_type": "code",
   "execution_count": 7,
   "id": "41698e71-f078-44d4-b373-89b81d59491f",
   "metadata": {},
   "outputs": [],
   "source": [
    "import dask.dataframe as dd\n",
    "import geopandas as gpd\n",
    "import numpy as np\n",
    "import pandas as pd\n",
    "from sklearn.cluster import DBSCAN"
   ]
  },
  {
   "cell_type": "code",
   "execution_count": 32,
   "id": "c635135f-ee49-40db-87d9-44323d5525a0",
   "metadata": {},
   "outputs": [],
   "source": [
    "country = \"belgium\"\n",
    "regions_v = \"2\""
   ]
  },
  {
   "cell_type": "code",
   "execution_count": 8,
   "id": "e48f5f21-e9f3-4e41-a205-5a5ec1161152",
   "metadata": {},
   "outputs": [],
   "source": [
    "# read the new data\n",
    "gdf = gpd.read_parquet(f'/data/uscuni-ulce/extension/{country}/buildings.parquet')"
   ]
  },
  {
   "cell_type": "code",
   "execution_count": null,
   "id": "2629ac2c-7971-41e7-97aa-bf256aabc215",
   "metadata": {},
   "outputs": [],
   "source": []
  },
  {
   "cell_type": "markdown",
   "id": "0d925469-dc97-4e53-9d40-9a3a0667d1c0",
   "metadata": {},
   "source": [
    "## Split the buildings into regions"
   ]
  },
  {
   "cell_type": "markdown",
   "id": "2b3d161f-534f-4b15-b9ad-1b9dde7c19a1",
   "metadata": {},
   "source": [
    "Assign building centroids to a grid, then cluster the grid points based on distances. This results in a split of the buildings into contiguous regions where all the 400m neighbours of a building are within the same region."
   ]
  },
  {
   "cell_type": "code",
   "execution_count": 16,
   "id": "33b0eb84-d99e-49cf-b10d-4f2ca60c090b",
   "metadata": {},
   "outputs": [],
   "source": [
    "cents = gdf.centroid\n",
    "gdf['x'], gdf['y'] = cents.x, cents.y\n",
    "gdf['id'] = gdf.index.values\n",
    "data = gdf[[\"x\", \"y\", 'id']]"
   ]
  },
  {
   "cell_type": "code",
   "execution_count": 17,
   "id": "e5739061-58c4-41c8-a103-9331b310b9e6",
   "metadata": {},
   "outputs": [],
   "source": [
    "data[[\"x_100\", \"y_100\"]] = np.around(data[[\"x\", \"y\"]], decimals=-2)\n",
    "grid = data[[\"id\", \"x_100\", \"y_100\"]].groupby([\"x_100\", \"y_100\"]).count().reset_index()"
   ]
  },
  {
   "cell_type": "code",
   "execution_count": 18,
   "id": "f480b082-6bbc-4d87-b12f-04053c4c8147",
   "metadata": {},
   "outputs": [],
   "source": [
    "dbscan = DBSCAN(400, n_jobs=-1).fit(grid[[\"x_100\", \"y_100\"]], sample_weight=grid[\"id\"])\n",
    "grid[\"labels\"] = dbscan.labels_"
   ]
  },
  {
   "cell_type": "markdown",
   "id": "b605a962-361f-4b20-b739-820bdbaa0302",
   "metadata": {},
   "source": [
    "Merge the results back into the dataframe. Then split the dataset into cores and non-cores. Cores are regions with more than 10_000 buildings."
   ]
  },
  {
   "cell_type": "code",
   "execution_count": 19,
   "id": "2e621fb3-c843-4105-bb78-911ff1de0d9e",
   "metadata": {},
   "outputs": [],
   "source": [
    "# %%time\n",
    "data = pd.merge(data, grid, \"left\", on=[\"x_100\", \"y_100\"])\n",
    "\n",
    "counts = data.labels.value_counts()\n",
    "\n",
    "index = counts[counts > 10000].index\n",
    "if -1 in index:\n",
    "    index = index.drop(-1)\n",
    "    \n",
    "data[\"core\"] = data.labels.isin(index)\n",
    "grid[\"core\"] = grid.labels.isin(index)\n",
    "\n",
    "\n",
    "cores = data[data.core]\n",
    "grid_cores = grid[grid.core]\n",
    "grid_cores = gpd.GeoDataFrame(\n",
    "    grid_cores[\"labels\"],\n",
    "    geometry=gpd.points_from_xy(grid_cores[\"x_100\"], grid_cores[\"y_100\"]),\n",
    "    crs=3035,\n",
    ")\n",
    "grid_cores_dissolved = grid_cores.dissolve(\"labels\")\n",
    "\n",
    "grid_non_cores = grid[~grid.core]\n",
    "grid_non_cores = gpd.GeoDataFrame(\n",
    "    grid_non_cores[\"labels\"],\n",
    "    geometry=gpd.points_from_xy(grid_non_cores[\"x_100\"], grid_non_cores[\"y_100\"]),\n",
    "    crs=3035,\n",
    ")\n",
    "\n",
    "grid_non_cores_clustered = grid_non_cores[grid_non_cores.labels != -1]\n",
    "grid_non_cores_outliers = grid_non_cores[grid_non_cores.labels == -1]\n",
    "\n",
    "grid_non_cores_clustered_dissolved = grid_non_cores_clustered.dissolve(\"labels\")"
   ]
  },
  {
   "cell_type": "markdown",
   "id": "b369778e-d8b4-4496-ac33-50b03a5f541b",
   "metadata": {},
   "source": [
    "Assign the non-core regions to the geographically nearest core region."
   ]
  },
  {
   "cell_type": "code",
   "execution_count": 20,
   "id": "f03742bd-49f6-4403-b799-488c96a0e6e7",
   "metadata": {},
   "outputs": [
    {
     "name": "stdout",
     "output_type": "stream",
     "text": [
      "CPU times: user 257 ms, sys: 995 μs, total: 258 ms\n",
      "Wall time: 257 ms\n"
     ]
    }
   ],
   "source": [
    "%%time\n",
    "nearest = grid_cores.sindex.nearest(\n",
    "    grid_non_cores_clustered_dissolved.geometry, return_all=False\n",
    ")"
   ]
  },
  {
   "cell_type": "code",
   "execution_count": 21,
   "id": "dd525b40-994c-4242-ae5b-ac5d7c6e0d14",
   "metadata": {},
   "outputs": [],
   "source": [
    "grid_non_cores_clustered_dissolved[\"nearest_core\"] = grid_cores.labels.values[\n",
    "    nearest[1]\n",
    "]"
   ]
  },
  {
   "cell_type": "code",
   "execution_count": 22,
   "id": "261b3c68-de2a-4173-a079-775e25d89b00",
   "metadata": {},
   "outputs": [],
   "source": [
    "nearest_outliers = grid_cores.sindex.nearest(\n",
    "    grid_non_cores_outliers.geometry, return_all=False\n",
    ")"
   ]
  },
  {
   "cell_type": "code",
   "execution_count": 23,
   "id": "36703548-4ecb-4985-b1e1-bd570f0dc6f1",
   "metadata": {},
   "outputs": [
    {
     "name": "stderr",
     "output_type": "stream",
     "text": [
      "/home/martin/dev/urban_taxonomy/.pixi/envs/default/lib/python3.12/site-packages/geopandas/geodataframe.py:1819: SettingWithCopyWarning: \n",
      "A value is trying to be set on a copy of a slice from a DataFrame.\n",
      "Try using .loc[row_indexer,col_indexer] = value instead\n",
      "\n",
      "See the caveats in the documentation: https://pandas.pydata.org/pandas-docs/stable/user_guide/indexing.html#returning-a-view-versus-a-copy\n",
      "  super().__setitem__(key, value)\n"
     ]
    }
   ],
   "source": [
    "grid_non_cores_outliers[\"nearest_core\"] = grid_cores.labels.values[nearest_outliers[1]]"
   ]
  },
  {
   "cell_type": "code",
   "execution_count": 24,
   "id": "75ccb53e-6b72-45b9-abdc-ca6eb60f5c63",
   "metadata": {},
   "outputs": [],
   "source": [
    "grid_non_cores = pd.concat(\n",
    "    [\n",
    "        grid_non_cores_clustered_dissolved.reset_index().explode(ignore_index=True),\n",
    "        grid_non_cores_outliers,\n",
    "    ],\n",
    "    ignore_index=True,\n",
    ")"
   ]
  },
  {
   "cell_type": "markdown",
   "id": "d289ae5d-9d42-4a10-8b85-f291f67f230f",
   "metadata": {},
   "source": [
    "Update the region labels based on the assignment"
   ]
  },
  {
   "cell_type": "code",
   "execution_count": 25,
   "id": "c05dce8a-bb8d-4d37-a48a-257cd0429c32",
   "metadata": {},
   "outputs": [],
   "source": [
    "grid_non_cores[\"x_100\"] = grid_non_cores.geometry.x\n",
    "grid_non_cores[\"y_100\"] = grid_non_cores.geometry.y\n",
    "\n",
    "data = pd.merge(\n",
    "    data,\n",
    "    grid_non_cores[[\"x_100\", \"y_100\", \"nearest_core\"]],\n",
    "    \"left\",\n",
    "    on=[\"x_100\", \"y_100\"],\n",
    ")\n",
    "\n",
    "data[\"region\"] = data.labels\n",
    "data.loc[~data.core, \"region\"] = data.loc[~data.core, \"nearest_core\"]\n",
    "\n",
    "data = data.rename(\n",
    "    columns={\n",
    "        \"id_x\": \"id\",\n",
    "        \"id_y\": \"weight\",\n",
    "        \"labels\": \"dbscan_cluster\",\n",
    "    }\n",
    ")"
   ]
  },
  {
   "cell_type": "code",
   "execution_count": null,
   "id": "8ef0d100-7efa-4634-8bb0-0a27eb99383d",
   "metadata": {},
   "outputs": [],
   "source": []
  },
  {
   "cell_type": "code",
   "execution_count": 26,
   "id": "ef300b55-2bcd-4888-b834-5db4d598ab63",
   "metadata": {},
   "outputs": [],
   "source": [
    "additional_region_hulls = pd.concat(\n",
    "    [\n",
    "        grid_cores,\n",
    "        grid_non_cores[[\"nearest_core\", \"geometry\"]].rename(\n",
    "            columns={\"nearest_core\": \"labels\"}\n",
    "        ),\n",
    "    ]\n",
    ").dissolve(\"labels\").convex_hull.to_frame(\"convex_hull\")"
   ]
  },
  {
   "cell_type": "code",
   "execution_count": null,
   "id": "6d76de00-534a-43e8-86ad-a122e68ccd5a",
   "metadata": {},
   "outputs": [],
   "source": []
  },
  {
   "cell_type": "code",
   "execution_count": null,
   "id": "b224287c-09cb-4317-a8af-988681915c0c",
   "metadata": {},
   "outputs": [],
   "source": []
  },
  {
   "cell_type": "code",
   "execution_count": 27,
   "id": "d176a800-696f-4b26-979e-91f7145c131c",
   "metadata": {},
   "outputs": [
    {
     "data": {
      "text/html": [
       "<div>\n",
       "<style scoped>\n",
       "    .dataframe tbody tr th:only-of-type {\n",
       "        vertical-align: middle;\n",
       "    }\n",
       "\n",
       "    .dataframe tbody tr th {\n",
       "        vertical-align: top;\n",
       "    }\n",
       "\n",
       "    .dataframe thead th {\n",
       "        text-align: right;\n",
       "    }\n",
       "</style>\n",
       "<table border=\"1\" class=\"dataframe\">\n",
       "  <thead>\n",
       "    <tr style=\"text-align: right;\">\n",
       "      <th></th>\n",
       "      <th>x</th>\n",
       "      <th>y</th>\n",
       "      <th>id</th>\n",
       "      <th>x_100</th>\n",
       "      <th>y_100</th>\n",
       "      <th>weight</th>\n",
       "      <th>dbscan_cluster</th>\n",
       "      <th>core</th>\n",
       "      <th>nearest_core</th>\n",
       "      <th>region</th>\n",
       "    </tr>\n",
       "  </thead>\n",
       "  <tbody>\n",
       "    <tr>\n",
       "      <th>0</th>\n",
       "      <td>3.947173e+06</td>\n",
       "      <td>3.096840e+06</td>\n",
       "      <td>0</td>\n",
       "      <td>3947200.0</td>\n",
       "      <td>3096800.0</td>\n",
       "      <td>3</td>\n",
       "      <td>1</td>\n",
       "      <td>True</td>\n",
       "      <td>NaN</td>\n",
       "      <td>1</td>\n",
       "    </tr>\n",
       "    <tr>\n",
       "      <th>1</th>\n",
       "      <td>3.883326e+06</td>\n",
       "      <td>3.124409e+06</td>\n",
       "      <td>1</td>\n",
       "      <td>3883300.0</td>\n",
       "      <td>3124400.0</td>\n",
       "      <td>1</td>\n",
       "      <td>1</td>\n",
       "      <td>True</td>\n",
       "      <td>NaN</td>\n",
       "      <td>1</td>\n",
       "    </tr>\n",
       "    <tr>\n",
       "      <th>2</th>\n",
       "      <td>3.926935e+06</td>\n",
       "      <td>3.091201e+06</td>\n",
       "      <td>2</td>\n",
       "      <td>3926900.0</td>\n",
       "      <td>3091200.0</td>\n",
       "      <td>3</td>\n",
       "      <td>1</td>\n",
       "      <td>True</td>\n",
       "      <td>NaN</td>\n",
       "      <td>1</td>\n",
       "    </tr>\n",
       "    <tr>\n",
       "      <th>3</th>\n",
       "      <td>3.926531e+06</td>\n",
       "      <td>3.096822e+06</td>\n",
       "      <td>3</td>\n",
       "      <td>3926500.0</td>\n",
       "      <td>3096800.0</td>\n",
       "      <td>1</td>\n",
       "      <td>1</td>\n",
       "      <td>True</td>\n",
       "      <td>NaN</td>\n",
       "      <td>1</td>\n",
       "    </tr>\n",
       "    <tr>\n",
       "      <th>4</th>\n",
       "      <td>3.928839e+06</td>\n",
       "      <td>3.099783e+06</td>\n",
       "      <td>4</td>\n",
       "      <td>3928800.0</td>\n",
       "      <td>3099800.0</td>\n",
       "      <td>1</td>\n",
       "      <td>1</td>\n",
       "      <td>True</td>\n",
       "      <td>NaN</td>\n",
       "      <td>1</td>\n",
       "    </tr>\n",
       "    <tr>\n",
       "      <th>...</th>\n",
       "      <td>...</td>\n",
       "      <td>...</td>\n",
       "      <td>...</td>\n",
       "      <td>...</td>\n",
       "      <td>...</td>\n",
       "      <td>...</td>\n",
       "      <td>...</td>\n",
       "      <td>...</td>\n",
       "      <td>...</td>\n",
       "      <td>...</td>\n",
       "    </tr>\n",
       "    <tr>\n",
       "      <th>7003881</th>\n",
       "      <td>3.924990e+06</td>\n",
       "      <td>3.126907e+06</td>\n",
       "      <td>7003881</td>\n",
       "      <td>3925000.0</td>\n",
       "      <td>3126900.0</td>\n",
       "      <td>16</td>\n",
       "      <td>1</td>\n",
       "      <td>True</td>\n",
       "      <td>NaN</td>\n",
       "      <td>1</td>\n",
       "    </tr>\n",
       "    <tr>\n",
       "      <th>7003882</th>\n",
       "      <td>3.924993e+06</td>\n",
       "      <td>3.126915e+06</td>\n",
       "      <td>7003882</td>\n",
       "      <td>3925000.0</td>\n",
       "      <td>3126900.0</td>\n",
       "      <td>16</td>\n",
       "      <td>1</td>\n",
       "      <td>True</td>\n",
       "      <td>NaN</td>\n",
       "      <td>1</td>\n",
       "    </tr>\n",
       "    <tr>\n",
       "      <th>7003883</th>\n",
       "      <td>3.924996e+06</td>\n",
       "      <td>3.126920e+06</td>\n",
       "      <td>7003883</td>\n",
       "      <td>3925000.0</td>\n",
       "      <td>3126900.0</td>\n",
       "      <td>16</td>\n",
       "      <td>1</td>\n",
       "      <td>True</td>\n",
       "      <td>NaN</td>\n",
       "      <td>1</td>\n",
       "    </tr>\n",
       "    <tr>\n",
       "      <th>7003884</th>\n",
       "      <td>3.924999e+06</td>\n",
       "      <td>3.126927e+06</td>\n",
       "      <td>7003884</td>\n",
       "      <td>3925000.0</td>\n",
       "      <td>3126900.0</td>\n",
       "      <td>16</td>\n",
       "      <td>1</td>\n",
       "      <td>True</td>\n",
       "      <td>NaN</td>\n",
       "      <td>1</td>\n",
       "    </tr>\n",
       "    <tr>\n",
       "      <th>7003885</th>\n",
       "      <td>3.925013e+06</td>\n",
       "      <td>3.126919e+06</td>\n",
       "      <td>7003885</td>\n",
       "      <td>3925000.0</td>\n",
       "      <td>3126900.0</td>\n",
       "      <td>16</td>\n",
       "      <td>1</td>\n",
       "      <td>True</td>\n",
       "      <td>NaN</td>\n",
       "      <td>1</td>\n",
       "    </tr>\n",
       "  </tbody>\n",
       "</table>\n",
       "<p>7003886 rows × 10 columns</p>\n",
       "</div>"
      ],
      "text/plain": [
       "                    x             y       id      x_100      y_100  weight  \\\n",
       "0        3.947173e+06  3.096840e+06        0  3947200.0  3096800.0       3   \n",
       "1        3.883326e+06  3.124409e+06        1  3883300.0  3124400.0       1   \n",
       "2        3.926935e+06  3.091201e+06        2  3926900.0  3091200.0       3   \n",
       "3        3.926531e+06  3.096822e+06        3  3926500.0  3096800.0       1   \n",
       "4        3.928839e+06  3.099783e+06        4  3928800.0  3099800.0       1   \n",
       "...               ...           ...      ...        ...        ...     ...   \n",
       "7003881  3.924990e+06  3.126907e+06  7003881  3925000.0  3126900.0      16   \n",
       "7003882  3.924993e+06  3.126915e+06  7003882  3925000.0  3126900.0      16   \n",
       "7003883  3.924996e+06  3.126920e+06  7003883  3925000.0  3126900.0      16   \n",
       "7003884  3.924999e+06  3.126927e+06  7003884  3925000.0  3126900.0      16   \n",
       "7003885  3.925013e+06  3.126919e+06  7003885  3925000.0  3126900.0      16   \n",
       "\n",
       "         dbscan_cluster  core  nearest_core  region  \n",
       "0                     1  True           NaN       1  \n",
       "1                     1  True           NaN       1  \n",
       "2                     1  True           NaN       1  \n",
       "3                     1  True           NaN       1  \n",
       "4                     1  True           NaN       1  \n",
       "...                 ...   ...           ...     ...  \n",
       "7003881               1  True           NaN       1  \n",
       "7003882               1  True           NaN       1  \n",
       "7003883               1  True           NaN       1  \n",
       "7003884               1  True           NaN       1  \n",
       "7003885               1  True           NaN       1  \n",
       "\n",
       "[7003886 rows x 10 columns]"
      ]
     },
     "execution_count": 27,
     "metadata": {},
     "output_type": "execute_result"
    }
   ],
   "source": [
    "data"
   ]
  },
  {
   "cell_type": "code",
   "execution_count": null,
   "id": "35bcf200-bb2f-4448-8342-c2867311348a",
   "metadata": {},
   "outputs": [],
   "source": []
  },
  {
   "cell_type": "code",
   "execution_count": null,
   "id": "976def18-3273-4101-ab31-dfd697980ffc",
   "metadata": {},
   "outputs": [],
   "source": []
  },
  {
   "cell_type": "markdown",
   "id": "9a272cc4-fe50-4b7f-a4a3-272cd16f4aa5",
   "metadata": {},
   "source": [
    "## Adjust the new region numbers and add to the existing cadastre regions_hull.parquet"
   ]
  },
  {
   "cell_type": "code",
   "execution_count": 28,
   "id": "6ed3d139-aeff-4e26-a1c4-7b5687c1c199",
   "metadata": {},
   "outputs": [],
   "source": [
    "regions_datadir = '/data/uscuni-ulce/'\n",
    "region_hulls = gpd.read_parquet(\n",
    "        regions_datadir + \"regions/\" + \"cadastre_regions_hull.parquet\"\n",
    "    )"
   ]
  },
  {
   "cell_type": "code",
   "execution_count": 29,
   "id": "ef463b8a-28d6-46cf-973b-076603883113",
   "metadata": {},
   "outputs": [
    {
     "data": {
      "text/html": [
       "<div>\n",
       "<style scoped>\n",
       "    .dataframe tbody tr th:only-of-type {\n",
       "        vertical-align: middle;\n",
       "    }\n",
       "\n",
       "    .dataframe tbody tr th {\n",
       "        vertical-align: top;\n",
       "    }\n",
       "\n",
       "    .dataframe thead th {\n",
       "        text-align: right;\n",
       "    }\n",
       "</style>\n",
       "<table border=\"1\" class=\"dataframe\">\n",
       "  <thead>\n",
       "    <tr style=\"text-align: right;\">\n",
       "      <th></th>\n",
       "      <th>convex_hull</th>\n",
       "    </tr>\n",
       "    <tr>\n",
       "      <th>labels</th>\n",
       "      <th></th>\n",
       "    </tr>\n",
       "  </thead>\n",
       "  <tbody>\n",
       "    <tr>\n",
       "      <th>4</th>\n",
       "      <td>POLYGON ((4122200 3045600, 4121500 3045900, 40...</td>\n",
       "    </tr>\n",
       "    <tr>\n",
       "      <th>10</th>\n",
       "      <td>POLYGON ((4068900 3057300, 4051000 3064300, 40...</td>\n",
       "    </tr>\n",
       "    <tr>\n",
       "      <th>132</th>\n",
       "      <td>POLYGON ((4053100 3049800, 4050900 3053000, 40...</td>\n",
       "    </tr>\n",
       "    <tr>\n",
       "      <th>134</th>\n",
       "      <td>POLYGON ((4052500 3093600, 4052200 3093700, 40...</td>\n",
       "    </tr>\n",
       "    <tr>\n",
       "      <th>286</th>\n",
       "      <td>POLYGON ((4060600 3103900, 4057000 3104200, 40...</td>\n",
       "    </tr>\n",
       "    <tr>\n",
       "      <th>...</th>\n",
       "      <td>...</td>\n",
       "    </tr>\n",
       "    <tr>\n",
       "      <th>149997</th>\n",
       "      <td>POLYGON ((5253200 3642300, 5245600 3647000, 52...</td>\n",
       "    </tr>\n",
       "    <tr>\n",
       "      <th>150044</th>\n",
       "      <td>POLYGON ((5265700 3578300, 5263400 3578400, 52...</td>\n",
       "    </tr>\n",
       "    <tr>\n",
       "      <th>151676</th>\n",
       "      <td>POLYGON ((5285400 3549200, 5284800 3549900, 52...</td>\n",
       "    </tr>\n",
       "    <tr>\n",
       "      <th>152081</th>\n",
       "      <td>POLYGON ((5269700 3664900, 5269300 3665300, 52...</td>\n",
       "    </tr>\n",
       "    <tr>\n",
       "      <th>152511</th>\n",
       "      <td>POLYGON ((5298200 3650100, 5279200 3651600, 52...</td>\n",
       "    </tr>\n",
       "  </tbody>\n",
       "</table>\n",
       "<p>847 rows × 1 columns</p>\n",
       "</div>"
      ],
      "text/plain": [
       "                                              convex_hull\n",
       "labels                                                   \n",
       "4       POLYGON ((4122200 3045600, 4121500 3045900, 40...\n",
       "10      POLYGON ((4068900 3057300, 4051000 3064300, 40...\n",
       "132     POLYGON ((4053100 3049800, 4050900 3053000, 40...\n",
       "134     POLYGON ((4052500 3093600, 4052200 3093700, 40...\n",
       "286     POLYGON ((4060600 3103900, 4057000 3104200, 40...\n",
       "...                                                   ...\n",
       "149997  POLYGON ((5253200 3642300, 5245600 3647000, 52...\n",
       "150044  POLYGON ((5265700 3578300, 5263400 3578400, 52...\n",
       "151676  POLYGON ((5285400 3549200, 5284800 3549900, 52...\n",
       "152081  POLYGON ((5269700 3664900, 5269300 3665300, 52...\n",
       "152511  POLYGON ((5298200 3650100, 5279200 3651600, 52...\n",
       "\n",
       "[847 rows x 1 columns]"
      ]
     },
     "execution_count": 29,
     "metadata": {},
     "output_type": "execute_result"
    }
   ],
   "source": [
    "region_hulls"
   ]
  },
  {
   "cell_type": "code",
   "execution_count": 30,
   "id": "5cb94ccc-539f-4f26-a8b6-1d063577a8e7",
   "metadata": {},
   "outputs": [],
   "source": [
    "buffer = region_hulls.index.max() + 1000"
   ]
  },
  {
   "cell_type": "code",
   "execution_count": 31,
   "id": "6ef884c2-dc9f-4db7-af31-95741bfa5040",
   "metadata": {},
   "outputs": [],
   "source": [
    "additional_region_hulls.index = additional_region_hulls.index + buffer\n",
    "data['region'] = data['region'] + buffer"
   ]
  },
  {
   "cell_type": "code",
   "execution_count": 33,
   "id": "cfee25d3-1076-45e3-ad3e-7193706144a1",
   "metadata": {},
   "outputs": [],
   "source": [
    "additional_region_hulls.to_parquet(regions_datadir + \"regions/\" + f\"{country}_regions_hull.parquet\")"
   ]
  },
  {
   "cell_type": "code",
   "execution_count": 34,
   "id": "c1765dd0-01df-406a-a51d-20291d56c012",
   "metadata": {},
   "outputs": [],
   "source": [
    "region_hulls = pd.concat((region_hulls, additional_region_hulls))"
   ]
  },
  {
   "cell_type": "code",
   "execution_count": 35,
   "id": "96ad5451-dcff-48b8-83f2-5a791c00c28a",
   "metadata": {},
   "outputs": [],
   "source": [
    "region_hulls.to_parquet(regions_datadir + \"regions/\" + f\"region_hulls_v{regions_v}.parquet\")"
   ]
  },
  {
   "cell_type": "code",
   "execution_count": 36,
   "id": "b5c75588-d12b-4d7a-bf50-33fdc7a86de0",
   "metadata": {},
   "outputs": [
    {
     "data": {
      "text/plain": [
       "Index([153512, 153650, 153752, 153804, 154059, 154947, 155610, 155668, 155971], dtype='int64', name='labels')"
      ]
     },
     "execution_count": 36,
     "metadata": {},
     "output_type": "execute_result"
    }
   ],
   "source": [
    "additional_region_hulls.index"
   ]
  },
  {
   "cell_type": "code",
   "execution_count": 37,
   "id": "0139dab9-6ab0-4048-9a91-80b5c1372587",
   "metadata": {},
   "outputs": [
    {
     "data": {
      "text/plain": [
       "Index([153512, 153650, 153752, 153804, 154059, 154947, 155610, 155668, 155971], dtype='int64', name='region')"
      ]
     },
     "execution_count": 37,
     "metadata": {},
     "output_type": "execute_result"
    }
   ],
   "source": [
    "data['region'].value_counts().index.sort_values()"
   ]
  },
  {
   "cell_type": "markdown",
   "id": "2050f122-b088-4d80-9e23-ac9d4c3d1366",
   "metadata": {},
   "source": [
    "## Assign buildings to regions"
   ]
  },
  {
   "cell_type": "code",
   "execution_count": 38,
   "id": "c14fe4b0-c3f5-4e68-a92e-7639790e1f65",
   "metadata": {},
   "outputs": [],
   "source": [
    "region_mapping = data"
   ]
  },
  {
   "cell_type": "code",
   "execution_count": 40,
   "id": "003369bd-f9e4-483b-a7e2-df04af0a4eb7",
   "metadata": {},
   "outputs": [
    {
     "name": "stdout",
     "output_type": "stream",
     "text": [
      "CPU times: user 7.14 s, sys: 1.65 s, total: 8.79 s\n",
      "Wall time: 8.91 s\n"
     ]
    }
   ],
   "source": [
    "%%time\n",
    "for region_id, group in region_mapping.groupby('region'):\n",
    "\n",
    "    region_id = int(region_id)\n",
    "    \n",
    "    buildings = gdf.iloc[group.id].copy()\n",
    "    buildings['iid'] = buildings.index.values\n",
    "    buildings.to_parquet(f'/data/uscuni-ulce/regions/buildings/buildings_{region_id}.pq')"
   ]
  },
  {
   "cell_type": "code",
   "execution_count": null,
   "id": "945c8a6e-5db4-45fe-ab52-381d147dfdb1",
   "metadata": {},
   "outputs": [],
   "source": []
  },
  {
   "cell_type": "code",
   "execution_count": null,
   "id": "cd7f002d-2d57-48fa-be58-7dd6393177bc",
   "metadata": {},
   "outputs": [],
   "source": []
  },
  {
   "cell_type": "markdown",
   "id": "bd004800-ac83-4ed5-86cb-da01386275c7",
   "metadata": {},
   "source": [
    "## Check existing region ids"
   ]
  },
  {
   "cell_type": "code",
   "execution_count": 45,
   "id": "ae99bba0-6e46-48e1-a0a8-9171dbfd5d33",
   "metadata": {},
   "outputs": [],
   "source": [
    "region_name = 153650\n",
    "regions_datadir = \"/data/uscuni-ulce/\"\n",
    "region_hulls = gpd.read_parquet(\n",
    "        regions_datadir + \"regions/\" + f\"region_hulls_v{regions_v}.parquet\"\n",
    "    )\n",
    "region_id, region_hull = region_hulls.loc[region_name].name, region_hulls.loc[region_name].convex_hull"
   ]
  },
  {
   "cell_type": "code",
   "execution_count": 46,
   "id": "8f629542-ce97-4223-bdf4-ebbeba601333",
   "metadata": {},
   "outputs": [
    {
     "data": {
      "text/html": [
       "<div style=\"width:100%;\"><div style=\"position:relative;width:100%;height:0;padding-bottom:60%;\"><span style=\"color:#565656\">Make this Notebook Trusted to load map: File -> Trust Notebook</span><iframe srcdoc=\"&lt;!DOCTYPE html&gt;\n",
       "&lt;html&gt;\n",
       "&lt;head&gt;\n",
       "    \n",
       "    &lt;meta http-equiv=&quot;content-type&quot; content=&quot;text/html; charset=UTF-8&quot; /&gt;\n",
       "    \n",
       "        &lt;script&gt;\n",
       "            L_NO_TOUCH = false;\n",
       "            L_DISABLE_3D = false;\n",
       "        &lt;/script&gt;\n",
       "    \n",
       "    &lt;style&gt;html, body {width: 100%;height: 100%;margin: 0;padding: 0;}&lt;/style&gt;\n",
       "    &lt;style&gt;#map {position:absolute;top:0;bottom:0;right:0;left:0;}&lt;/style&gt;\n",
       "    &lt;script src=&quot;https://cdn.jsdelivr.net/npm/leaflet@1.9.3/dist/leaflet.js&quot;&gt;&lt;/script&gt;\n",
       "    &lt;script src=&quot;https://code.jquery.com/jquery-3.7.1.min.js&quot;&gt;&lt;/script&gt;\n",
       "    &lt;script src=&quot;https://cdn.jsdelivr.net/npm/bootstrap@5.2.2/dist/js/bootstrap.bundle.min.js&quot;&gt;&lt;/script&gt;\n",
       "    &lt;script src=&quot;https://cdnjs.cloudflare.com/ajax/libs/Leaflet.awesome-markers/2.0.2/leaflet.awesome-markers.js&quot;&gt;&lt;/script&gt;\n",
       "    &lt;link rel=&quot;stylesheet&quot; href=&quot;https://cdn.jsdelivr.net/npm/leaflet@1.9.3/dist/leaflet.css&quot;/&gt;\n",
       "    &lt;link rel=&quot;stylesheet&quot; href=&quot;https://cdn.jsdelivr.net/npm/bootstrap@5.2.2/dist/css/bootstrap.min.css&quot;/&gt;\n",
       "    &lt;link rel=&quot;stylesheet&quot; href=&quot;https://netdna.bootstrapcdn.com/bootstrap/3.0.0/css/bootstrap-glyphicons.css&quot;/&gt;\n",
       "    &lt;link rel=&quot;stylesheet&quot; href=&quot;https://cdn.jsdelivr.net/npm/@fortawesome/fontawesome-free@6.2.0/css/all.min.css&quot;/&gt;\n",
       "    &lt;link rel=&quot;stylesheet&quot; href=&quot;https://cdnjs.cloudflare.com/ajax/libs/Leaflet.awesome-markers/2.0.2/leaflet.awesome-markers.css&quot;/&gt;\n",
       "    &lt;link rel=&quot;stylesheet&quot; href=&quot;https://cdn.jsdelivr.net/gh/python-visualization/folium/folium/templates/leaflet.awesome.rotate.min.css&quot;/&gt;\n",
       "    \n",
       "            &lt;meta name=&quot;viewport&quot; content=&quot;width=device-width,\n",
       "                initial-scale=1.0, maximum-scale=1.0, user-scalable=no&quot; /&gt;\n",
       "            &lt;style&gt;\n",
       "                #map_d3bb2f95e4562bc123d0dbfb04717a91 {\n",
       "                    position: relative;\n",
       "                    width: 100.0%;\n",
       "                    height: 100.0%;\n",
       "                    left: 0.0%;\n",
       "                    top: 0.0%;\n",
       "                }\n",
       "                .leaflet-container { font-size: 1rem; }\n",
       "            &lt;/style&gt;\n",
       "        \n",
       "    \n",
       "                    &lt;style&gt;\n",
       "                        .foliumtooltip {\n",
       "                            \n",
       "                        }\n",
       "                       .foliumtooltip table{\n",
       "                            margin: auto;\n",
       "                        }\n",
       "                        .foliumtooltip tr{\n",
       "                            text-align: left;\n",
       "                        }\n",
       "                        .foliumtooltip th{\n",
       "                            padding: 2px; padding-right: 8px;\n",
       "                        }\n",
       "                    &lt;/style&gt;\n",
       "            \n",
       "&lt;/head&gt;\n",
       "&lt;body&gt;\n",
       "    \n",
       "    \n",
       "            &lt;div class=&quot;folium-map&quot; id=&quot;map_d3bb2f95e4562bc123d0dbfb04717a91&quot; &gt;&lt;/div&gt;\n",
       "        \n",
       "&lt;/body&gt;\n",
       "&lt;script&gt;\n",
       "    \n",
       "    \n",
       "            var map_d3bb2f95e4562bc123d0dbfb04717a91 = L.map(\n",
       "                &quot;map_d3bb2f95e4562bc123d0dbfb04717a91&quot;,\n",
       "                {\n",
       "                    center: [50.60363215099481, 3.4300418848332144],\n",
       "                    crs: L.CRS.EPSG3857,\n",
       "                    zoom: 10,\n",
       "                    zoomControl: true,\n",
       "                    preferCanvas: false,\n",
       "                }\n",
       "            );\n",
       "            L.control.scale().addTo(map_d3bb2f95e4562bc123d0dbfb04717a91);\n",
       "\n",
       "            \n",
       "\n",
       "        \n",
       "    \n",
       "            var tile_layer_ab1008c18fe4efb8edf42626268f7449 = L.tileLayer(\n",
       "                &quot;https://tile.openstreetmap.org/{z}/{x}/{y}.png&quot;,\n",
       "                {&quot;attribution&quot;: &quot;\\u0026copy; \\u003ca href=\\&quot;https://www.openstreetmap.org/copyright\\&quot;\\u003eOpenStreetMap\\u003c/a\\u003e contributors&quot;, &quot;detectRetina&quot;: false, &quot;maxNativeZoom&quot;: 19, &quot;maxZoom&quot;: 19, &quot;minZoom&quot;: 0, &quot;noWrap&quot;: false, &quot;opacity&quot;: 1, &quot;subdomains&quot;: &quot;abc&quot;, &quot;tms&quot;: false}\n",
       "            );\n",
       "        \n",
       "    \n",
       "            tile_layer_ab1008c18fe4efb8edf42626268f7449.addTo(map_d3bb2f95e4562bc123d0dbfb04717a91);\n",
       "        \n",
       "    \n",
       "            map_d3bb2f95e4562bc123d0dbfb04717a91.fitBounds(\n",
       "                [[50.48765681987406, 3.239162960804675], [50.719607482115556, 3.620920808861754]],\n",
       "                {}\n",
       "            );\n",
       "        \n",
       "    \n",
       "        function geo_json_2c781d19397931acb0232c0711a5f70a_styler(feature) {\n",
       "            switch(feature.id) {\n",
       "                default:\n",
       "                    return {&quot;fillOpacity&quot;: 0.5, &quot;weight&quot;: 2};\n",
       "            }\n",
       "        }\n",
       "        function geo_json_2c781d19397931acb0232c0711a5f70a_highlighter(feature) {\n",
       "            switch(feature.id) {\n",
       "                default:\n",
       "                    return {&quot;fillOpacity&quot;: 0.75};\n",
       "            }\n",
       "        }\n",
       "        function geo_json_2c781d19397931acb0232c0711a5f70a_pointToLayer(feature, latlng) {\n",
       "            var opts = {&quot;bubblingMouseEvents&quot;: true, &quot;color&quot;: &quot;#3388ff&quot;, &quot;dashArray&quot;: null, &quot;dashOffset&quot;: null, &quot;fill&quot;: true, &quot;fillColor&quot;: &quot;#3388ff&quot;, &quot;fillOpacity&quot;: 0.2, &quot;fillRule&quot;: &quot;evenodd&quot;, &quot;lineCap&quot;: &quot;round&quot;, &quot;lineJoin&quot;: &quot;round&quot;, &quot;opacity&quot;: 1.0, &quot;radius&quot;: 2, &quot;stroke&quot;: true, &quot;weight&quot;: 3};\n",
       "            \n",
       "            let style = geo_json_2c781d19397931acb0232c0711a5f70a_styler(feature)\n",
       "            Object.assign(opts, style)\n",
       "            \n",
       "            return new L.CircleMarker(latlng, opts)\n",
       "        }\n",
       "\n",
       "        function geo_json_2c781d19397931acb0232c0711a5f70a_onEachFeature(feature, layer) {\n",
       "            layer.on({\n",
       "                mouseout: function(e) {\n",
       "                    if(typeof e.target.setStyle === &quot;function&quot;){\n",
       "                            geo_json_2c781d19397931acb0232c0711a5f70a.resetStyle(e.target);\n",
       "                    }\n",
       "                },\n",
       "                mouseover: function(e) {\n",
       "                    if(typeof e.target.setStyle === &quot;function&quot;){\n",
       "                        const highlightStyle = geo_json_2c781d19397931acb0232c0711a5f70a_highlighter(e.target.feature)\n",
       "                        e.target.setStyle(highlightStyle);\n",
       "                    }\n",
       "                },\n",
       "            });\n",
       "        };\n",
       "        var geo_json_2c781d19397931acb0232c0711a5f70a = L.geoJson(null, {\n",
       "                onEachFeature: geo_json_2c781d19397931acb0232c0711a5f70a_onEachFeature,\n",
       "            \n",
       "                style: geo_json_2c781d19397931acb0232c0711a5f70a_styler,\n",
       "                pointToLayer: geo_json_2c781d19397931acb0232c0711a5f70a_pointToLayer,\n",
       "        });\n",
       "\n",
       "        function geo_json_2c781d19397931acb0232c0711a5f70a_add (data) {\n",
       "            geo_json_2c781d19397931acb0232c0711a5f70a\n",
       "                .addData(data);\n",
       "        }\n",
       "            geo_json_2c781d19397931acb0232c0711a5f70a_add({&quot;bbox&quot;: [3.239162960804675, 50.48765681987406, 3.620920808861754, 50.719607482115556], &quot;features&quot;: [{&quot;bbox&quot;: [3.239162960804675, 50.48765681987406, 3.620920808861754, 50.719607482115556], &quot;geometry&quot;: {&quot;coordinates&quot;: [[[3.5807260169622515, 50.48948529372234], [3.5003012545543024, 50.48765681987406], [3.376621517522273, 50.49139760150138], [3.3707516896285927, 50.49286226769607], [3.327612139677308, 50.50749823536345], [3.298751977413948, 50.52115068467166], [3.287636704476671, 50.52952186920865], [3.2823959272449597, 50.53643217904831], [3.275362946015609, 50.545943723858976], [3.243029993941122, 50.64238160615084], [3.239292405377861, 50.65840098033973], [3.239162960804675, 50.65929554569886], [3.2392775846571706, 50.6683241017924], [3.2417080981475825, 50.67117359781428], [3.3387365148946095, 50.70841090751637], [3.37349853938859, 50.714027147716195], [3.439693619797097, 50.71872329325015], [3.4552172579790774, 50.719607482115556], [3.4643118406482722, 50.71561469362929], [3.591965499244921, 50.593830193843544], [3.6195833009967977, 50.5160058043981], [3.620920808861754, 50.50615982620721], [3.6175567994373137, 50.49965952568267], [3.616273501084619, 50.49868618638952], [3.606804747647709, 50.495452724902606], [3.5959325900269885, 50.492139992618426], [3.5863443291643393, 50.48979992312433], [3.5807260169622515, 50.48948529372234]]], &quot;type&quot;: &quot;Polygon&quot;}, &quot;id&quot;: &quot;0&quot;, &quot;properties&quot;: {}, &quot;type&quot;: &quot;Feature&quot;}], &quot;type&quot;: &quot;FeatureCollection&quot;});\n",
       "\n",
       "        \n",
       "    \n",
       "    geo_json_2c781d19397931acb0232c0711a5f70a.bindTooltip(\n",
       "    function(layer){\n",
       "    let div = L.DomUtil.create(&#x27;div&#x27;);\n",
       "    \n",
       "    return div\n",
       "    }\n",
       "    ,{&quot;className&quot;: &quot;foliumtooltip&quot;, &quot;sticky&quot;: true});\n",
       "                     \n",
       "    \n",
       "            geo_json_2c781d19397931acb0232c0711a5f70a.addTo(map_d3bb2f95e4562bc123d0dbfb04717a91);\n",
       "        \n",
       "&lt;/script&gt;\n",
       "&lt;/html&gt;\" style=\"position:absolute;width:100%;height:100%;left:0;top:0;border:none !important;\" allowfullscreen webkitallowfullscreen mozallowfullscreen></iframe></div></div>"
      ],
      "text/plain": [
       "<folium.folium.Map at 0x78d6ac1f7f20>"
      ]
     },
     "execution_count": 46,
     "metadata": {},
     "output_type": "execute_result"
    }
   ],
   "source": [
    "gpd.GeoSeries([region_hull], name='geometry', crs='epsg:3035').explore()"
   ]
  },
  {
   "cell_type": "code",
   "execution_count": null,
   "id": "93baba32-0d1f-4b28-b653-a468820f68b3",
   "metadata": {},
   "outputs": [],
   "source": []
  },
  {
   "cell_type": "code",
   "execution_count": null,
   "id": "8cb3b803-beb3-4742-9996-4823a247e891",
   "metadata": {},
   "outputs": [],
   "source": []
  },
  {
   "cell_type": "code",
   "execution_count": null,
   "id": "95f4c129-fd7e-4a4a-b3a9-1b78feee924b",
   "metadata": {},
   "outputs": [],
   "source": []
  }
 ],
 "metadata": {
  "kernelspec": {
   "display_name": "Python 3 (ipykernel)",
   "language": "python",
   "name": "python3"
  },
  "language_info": {
   "codemirror_mode": {
    "name": "ipython",
    "version": 3
   },
   "file_extension": ".py",
   "mimetype": "text/x-python",
   "name": "python",
   "nbconvert_exporter": "python",
   "pygments_lexer": "ipython3",
   "version": "3.12.10"
  }
 },
 "nbformat": 4,
 "nbformat_minor": 5
}
