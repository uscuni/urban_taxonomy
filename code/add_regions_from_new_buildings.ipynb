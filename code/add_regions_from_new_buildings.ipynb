{
 "cells": [
  {
   "cell_type": "code",
   "execution_count": 1,
   "id": "41698e71-f078-44d4-b373-89b81d59491f",
   "metadata": {},
   "outputs": [],
   "source": [
    "import dask.dataframe as dd\n",
    "import geopandas as gpd\n",
    "import numpy as np\n",
    "import pandas as pd\n",
    "from sklearn.cluster import DBSCAN"
   ]
  },
  {
   "cell_type": "code",
   "execution_count": null,
   "id": "c635135f-ee49-40db-87d9-44323d5525a0",
   "metadata": {},
   "outputs": [],
   "source": []
  },
  {
   "cell_type": "code",
   "execution_count": 2,
   "id": "e48f5f21-e9f3-4e41-a205-5a5ec1161152",
   "metadata": {},
   "outputs": [],
   "source": [
    "\n",
    "gdf = gpd.read_parquet('/data/uscuni-ulce/cadastre_buildings_standardised/buildings_lithuania.pq')\n"
   ]
  },
  {
   "cell_type": "code",
   "execution_count": null,
   "id": "2629ac2c-7971-41e7-97aa-bf256aabc215",
   "metadata": {},
   "outputs": [],
   "source": []
  },
  {
   "cell_type": "code",
   "execution_count": 3,
   "id": "33b0eb84-d99e-49cf-b10d-4f2ca60c090b",
   "metadata": {},
   "outputs": [],
   "source": [
    "cents = gdf.centroid\n",
    "gdf['x'], gdf['y'] = cents.x, cents.y\n",
    "gdf['id'] = gdf.index.values\n",
    "data = gdf[[\"x\", \"y\", 'id']]"
   ]
  },
  {
   "cell_type": "code",
   "execution_count": 4,
   "id": "e5739061-58c4-41c8-a103-9331b310b9e6",
   "metadata": {},
   "outputs": [
    {
     "name": "stderr",
     "output_type": "stream",
     "text": [
      "/tmp/ipykernel_521548/4289293720.py:1: SettingWithCopyWarning: \n",
      "A value is trying to be set on a copy of a slice from a DataFrame.\n",
      "Try using .loc[row_indexer,col_indexer] = value instead\n",
      "\n",
      "See the caveats in the documentation: https://pandas.pydata.org/pandas-docs/stable/user_guide/indexing.html#returning-a-view-versus-a-copy\n",
      "  data[[\"x_100\", \"y_100\"]] = np.around(data[[\"x\", \"y\"]], decimals=-2)\n",
      "/tmp/ipykernel_521548/4289293720.py:1: SettingWithCopyWarning: \n",
      "A value is trying to be set on a copy of a slice from a DataFrame.\n",
      "Try using .loc[row_indexer,col_indexer] = value instead\n",
      "\n",
      "See the caveats in the documentation: https://pandas.pydata.org/pandas-docs/stable/user_guide/indexing.html#returning-a-view-versus-a-copy\n",
      "  data[[\"x_100\", \"y_100\"]] = np.around(data[[\"x\", \"y\"]], decimals=-2)\n"
     ]
    }
   ],
   "source": [
    "data[[\"x_100\", \"y_100\"]] = np.around(data[[\"x\", \"y\"]], decimals=-2)\n",
    "grid = data[[\"id\", \"x_100\", \"y_100\"]].groupby([\"x_100\", \"y_100\"]).count().reset_index()"
   ]
  },
  {
   "cell_type": "code",
   "execution_count": 5,
   "id": "f480b082-6bbc-4d87-b12f-04053c4c8147",
   "metadata": {},
   "outputs": [],
   "source": [
    "dbscan = DBSCAN(400, n_jobs=-1).fit(grid[[\"x_100\", \"y_100\"]], sample_weight=grid[\"id\"])\n",
    "grid[\"labels\"] = dbscan.labels_"
   ]
  },
  {
   "cell_type": "code",
   "execution_count": null,
   "id": "8a51e463-7986-42eb-a112-7b177f6b24f4",
   "metadata": {},
   "outputs": [],
   "source": []
  },
  {
   "cell_type": "code",
   "execution_count": 6,
   "id": "2e621fb3-c843-4105-bb78-911ff1de0d9e",
   "metadata": {},
   "outputs": [
    {
     "name": "stdout",
     "output_type": "stream",
     "text": [
      "CPU times: user 664 ms, sys: 38 ms, total: 702 ms\n",
      "Wall time: 701 ms\n"
     ]
    }
   ],
   "source": [
    "%%time\n",
    "data = pd.merge(data, grid, \"left\", on=[\"x_100\", \"y_100\"])\n",
    "\n",
    "counts = data.labels.value_counts()\n",
    "data[\"core\"] = data.labels.isin(counts[counts > 10000].index.drop(-1))\n",
    "\n",
    "cores = data[data.core]\n",
    "\n",
    "grid[\"core\"] = grid.labels.isin(counts[counts > 10000].index.drop(-1))\n",
    "grid_cores = grid[grid.core]\n",
    "grid_cores = gpd.GeoDataFrame(\n",
    "    grid_cores[\"labels\"],\n",
    "    geometry=gpd.points_from_xy(grid_cores[\"x_100\"], grid_cores[\"y_100\"]),\n",
    "    crs=3035,\n",
    ")\n",
    "grid_cores_dissolved = grid_cores.dissolve(\"labels\")\n",
    "\n",
    "grid_non_cores = grid[~grid.core]\n",
    "grid_non_cores = gpd.GeoDataFrame(\n",
    "    grid_non_cores[\"labels\"],\n",
    "    geometry=gpd.points_from_xy(grid_non_cores[\"x_100\"], grid_non_cores[\"y_100\"]),\n",
    "    crs=3035,\n",
    ")\n",
    "\n",
    "grid_non_cores_clustered = grid_non_cores[grid_non_cores.labels != -1]\n",
    "grid_non_cores_outliers = grid_non_cores[grid_non_cores.labels == -1]\n",
    "\n",
    "grid_non_cores_clustered_dissolved = grid_non_cores_clustered.dissolve(\"labels\")"
   ]
  },
  {
   "cell_type": "code",
   "execution_count": null,
   "id": "a1d55036-9db5-4890-88d3-730780c81a3b",
   "metadata": {},
   "outputs": [],
   "source": []
  },
  {
   "cell_type": "code",
   "execution_count": 7,
   "id": "f03742bd-49f6-4403-b799-488c96a0e6e7",
   "metadata": {},
   "outputs": [
    {
     "name": "stdout",
     "output_type": "stream",
     "text": [
      "CPU times: user 361 ms, sys: 78 μs, total: 361 ms\n",
      "Wall time: 360 ms\n"
     ]
    }
   ],
   "source": [
    "%%time\n",
    "nearest = grid_cores.sindex.nearest(\n",
    "    grid_non_cores_clustered_dissolved.geometry, return_all=False\n",
    ")"
   ]
  },
  {
   "cell_type": "code",
   "execution_count": null,
   "id": "2b0c88d6-feb0-4c79-9ed1-6262512423e3",
   "metadata": {},
   "outputs": [],
   "source": []
  },
  {
   "cell_type": "code",
   "execution_count": 8,
   "id": "dd525b40-994c-4242-ae5b-ac5d7c6e0d14",
   "metadata": {},
   "outputs": [],
   "source": [
    "grid_non_cores_clustered_dissolved[\"nearest_core\"] = grid_cores.labels.values[\n",
    "    nearest[1]\n",
    "]"
   ]
  },
  {
   "cell_type": "code",
   "execution_count": 9,
   "id": "261b3c68-de2a-4173-a079-775e25d89b00",
   "metadata": {},
   "outputs": [],
   "source": [
    "nearest_outliers = grid_cores.sindex.nearest(\n",
    "    grid_non_cores_outliers.geometry, return_all=False\n",
    ")"
   ]
  },
  {
   "cell_type": "code",
   "execution_count": 10,
   "id": "36703548-4ecb-4985-b1e1-bd570f0dc6f1",
   "metadata": {},
   "outputs": [
    {
     "name": "stderr",
     "output_type": "stream",
     "text": [
      "/home/krasen/urban_taxonomy/.pixi/envs/default/lib/python3.12/site-packages/geopandas/geodataframe.py:1819: SettingWithCopyWarning: \n",
      "A value is trying to be set on a copy of a slice from a DataFrame.\n",
      "Try using .loc[row_indexer,col_indexer] = value instead\n",
      "\n",
      "See the caveats in the documentation: https://pandas.pydata.org/pandas-docs/stable/user_guide/indexing.html#returning-a-view-versus-a-copy\n",
      "  super().__setitem__(key, value)\n"
     ]
    }
   ],
   "source": [
    "grid_non_cores_outliers[\"nearest_core\"] = grid_cores.labels.values[nearest_outliers[1]]"
   ]
  },
  {
   "cell_type": "code",
   "execution_count": 11,
   "id": "75ccb53e-6b72-45b9-abdc-ca6eb60f5c63",
   "metadata": {},
   "outputs": [],
   "source": [
    "grid_non_cores = pd.concat(\n",
    "    [\n",
    "        grid_non_cores_clustered_dissolved.reset_index().explode(ignore_index=True),\n",
    "        grid_non_cores_outliers,\n",
    "    ],\n",
    "    ignore_index=True,\n",
    ")"
   ]
  },
  {
   "cell_type": "code",
   "execution_count": 12,
   "id": "c05dce8a-bb8d-4d37-a48a-257cd0429c32",
   "metadata": {},
   "outputs": [],
   "source": [
    "grid_non_cores[\"x_100\"] = grid_non_cores.geometry.x\n",
    "grid_non_cores[\"y_100\"] = grid_non_cores.geometry.y\n",
    "\n",
    "data = pd.merge(\n",
    "    data,\n",
    "    grid_non_cores[[\"x_100\", \"y_100\", \"nearest_core\"]],\n",
    "    \"left\",\n",
    "    on=[\"x_100\", \"y_100\"],\n",
    ")\n",
    "\n",
    "data[\"region\"] = data.labels\n",
    "data.loc[~data.core, \"region\"] = data.loc[~data.core, \"nearest_core\"]\n",
    "\n",
    "data = data.rename(\n",
    "    columns={\n",
    "        \"id_x\": \"id\",\n",
    "        \"id_y\": \"weight\",\n",
    "        \"labels\": \"dbscan_cluster\",\n",
    "    }\n",
    ")"
   ]
  },
  {
   "cell_type": "code",
   "execution_count": null,
   "id": "8ef0d100-7efa-4634-8bb0-0a27eb99383d",
   "metadata": {},
   "outputs": [],
   "source": []
  },
  {
   "cell_type": "code",
   "execution_count": 13,
   "id": "ef300b55-2bcd-4888-b834-5db4d598ab63",
   "metadata": {},
   "outputs": [],
   "source": [
    "additional_region_hulls = pd.concat(\n",
    "    [\n",
    "        grid_cores,\n",
    "        grid_non_cores[[\"nearest_core\", \"geometry\"]].rename(\n",
    "            columns={\"nearest_core\": \"labels\"}\n",
    "        ),\n",
    "    ]\n",
    ").dissolve(\"labels\").convex_hull.to_frame(\"convex_hull\")"
   ]
  },
  {
   "cell_type": "code",
   "execution_count": null,
   "id": "6d76de00-534a-43e8-86ad-a122e68ccd5a",
   "metadata": {},
   "outputs": [],
   "source": []
  },
  {
   "cell_type": "code",
   "execution_count": null,
   "id": "b224287c-09cb-4317-a8af-988681915c0c",
   "metadata": {},
   "outputs": [],
   "source": []
  },
  {
   "cell_type": "code",
   "execution_count": 14,
   "id": "d176a800-696f-4b26-979e-91f7145c131c",
   "metadata": {},
   "outputs": [
    {
     "data": {
      "text/html": [
       "<div>\n",
       "<style scoped>\n",
       "    .dataframe tbody tr th:only-of-type {\n",
       "        vertical-align: middle;\n",
       "    }\n",
       "\n",
       "    .dataframe tbody tr th {\n",
       "        vertical-align: top;\n",
       "    }\n",
       "\n",
       "    .dataframe thead th {\n",
       "        text-align: right;\n",
       "    }\n",
       "</style>\n",
       "<table border=\"1\" class=\"dataframe\">\n",
       "  <thead>\n",
       "    <tr style=\"text-align: right;\">\n",
       "      <th></th>\n",
       "      <th>x</th>\n",
       "      <th>y</th>\n",
       "      <th>id</th>\n",
       "      <th>x_100</th>\n",
       "      <th>y_100</th>\n",
       "      <th>weight</th>\n",
       "      <th>dbscan_cluster</th>\n",
       "      <th>core</th>\n",
       "      <th>nearest_core</th>\n",
       "      <th>region</th>\n",
       "    </tr>\n",
       "  </thead>\n",
       "  <tbody>\n",
       "    <tr>\n",
       "      <th>0</th>\n",
       "      <td>5.212683e+06</td>\n",
       "      <td>3.752221e+06</td>\n",
       "      <td>0</td>\n",
       "      <td>5212700.0</td>\n",
       "      <td>3752200.0</td>\n",
       "      <td>22</td>\n",
       "      <td>8003</td>\n",
       "      <td>False</td>\n",
       "      <td>8038.0</td>\n",
       "      <td>8038</td>\n",
       "    </tr>\n",
       "    <tr>\n",
       "      <th>1</th>\n",
       "      <td>5.192402e+06</td>\n",
       "      <td>3.547890e+06</td>\n",
       "      <td>1</td>\n",
       "      <td>5192400.0</td>\n",
       "      <td>3547900.0</td>\n",
       "      <td>1</td>\n",
       "      <td>7125</td>\n",
       "      <td>False</td>\n",
       "      <td>6310.0</td>\n",
       "      <td>6310</td>\n",
       "    </tr>\n",
       "    <tr>\n",
       "      <th>2</th>\n",
       "      <td>5.221373e+06</td>\n",
       "      <td>3.530085e+06</td>\n",
       "      <td>2</td>\n",
       "      <td>5221400.0</td>\n",
       "      <td>3530100.0</td>\n",
       "      <td>7</td>\n",
       "      <td>8795</td>\n",
       "      <td>False</td>\n",
       "      <td>8422.0</td>\n",
       "      <td>8422</td>\n",
       "    </tr>\n",
       "    <tr>\n",
       "      <th>3</th>\n",
       "      <td>5.215968e+06</td>\n",
       "      <td>3.543845e+06</td>\n",
       "      <td>3</td>\n",
       "      <td>5216000.0</td>\n",
       "      <td>3543800.0</td>\n",
       "      <td>24</td>\n",
       "      <td>8148</td>\n",
       "      <td>False</td>\n",
       "      <td>8422.0</td>\n",
       "      <td>8422</td>\n",
       "    </tr>\n",
       "    <tr>\n",
       "      <th>4</th>\n",
       "      <td>5.230448e+06</td>\n",
       "      <td>3.745754e+06</td>\n",
       "      <td>4</td>\n",
       "      <td>5230400.0</td>\n",
       "      <td>3745800.0</td>\n",
       "      <td>1</td>\n",
       "      <td>9249</td>\n",
       "      <td>False</td>\n",
       "      <td>8038.0</td>\n",
       "      <td>8038</td>\n",
       "    </tr>\n",
       "    <tr>\n",
       "      <th>...</th>\n",
       "      <td>...</td>\n",
       "      <td>...</td>\n",
       "      <td>...</td>\n",
       "      <td>...</td>\n",
       "      <td>...</td>\n",
       "      <td>...</td>\n",
       "      <td>...</td>\n",
       "      <td>...</td>\n",
       "      <td>...</td>\n",
       "      <td>...</td>\n",
       "    </tr>\n",
       "    <tr>\n",
       "      <th>2053124</th>\n",
       "      <td>5.196465e+06</td>\n",
       "      <td>3.539743e+06</td>\n",
       "      <td>2053124</td>\n",
       "      <td>5196500.0</td>\n",
       "      <td>3539700.0</td>\n",
       "      <td>11</td>\n",
       "      <td>7170</td>\n",
       "      <td>False</td>\n",
       "      <td>8422.0</td>\n",
       "      <td>8422</td>\n",
       "    </tr>\n",
       "    <tr>\n",
       "      <th>2053125</th>\n",
       "      <td>5.141297e+06</td>\n",
       "      <td>3.555753e+06</td>\n",
       "      <td>2053125</td>\n",
       "      <td>5141300.0</td>\n",
       "      <td>3555800.0</td>\n",
       "      <td>11</td>\n",
       "      <td>4295</td>\n",
       "      <td>False</td>\n",
       "      <td>6310.0</td>\n",
       "      <td>6310</td>\n",
       "    </tr>\n",
       "    <tr>\n",
       "      <th>2053126</th>\n",
       "      <td>5.201475e+06</td>\n",
       "      <td>3.748615e+06</td>\n",
       "      <td>2053126</td>\n",
       "      <td>5201500.0</td>\n",
       "      <td>3748600.0</td>\n",
       "      <td>7</td>\n",
       "      <td>7714</td>\n",
       "      <td>False</td>\n",
       "      <td>8038.0</td>\n",
       "      <td>8038</td>\n",
       "    </tr>\n",
       "    <tr>\n",
       "      <th>2053127</th>\n",
       "      <td>5.198955e+06</td>\n",
       "      <td>3.745027e+06</td>\n",
       "      <td>2053127</td>\n",
       "      <td>5199000.0</td>\n",
       "      <td>3745000.0</td>\n",
       "      <td>17</td>\n",
       "      <td>7432</td>\n",
       "      <td>False</td>\n",
       "      <td>8038.0</td>\n",
       "      <td>8038</td>\n",
       "    </tr>\n",
       "    <tr>\n",
       "      <th>2053128</th>\n",
       "      <td>5.212572e+06</td>\n",
       "      <td>3.752260e+06</td>\n",
       "      <td>2053128</td>\n",
       "      <td>5212600.0</td>\n",
       "      <td>3752300.0</td>\n",
       "      <td>21</td>\n",
       "      <td>8003</td>\n",
       "      <td>False</td>\n",
       "      <td>8038.0</td>\n",
       "      <td>8038</td>\n",
       "    </tr>\n",
       "  </tbody>\n",
       "</table>\n",
       "<p>2053129 rows × 10 columns</p>\n",
       "</div>"
      ],
      "text/plain": [
       "                    x             y       id      x_100      y_100  weight  \\\n",
       "0        5.212683e+06  3.752221e+06        0  5212700.0  3752200.0      22   \n",
       "1        5.192402e+06  3.547890e+06        1  5192400.0  3547900.0       1   \n",
       "2        5.221373e+06  3.530085e+06        2  5221400.0  3530100.0       7   \n",
       "3        5.215968e+06  3.543845e+06        3  5216000.0  3543800.0      24   \n",
       "4        5.230448e+06  3.745754e+06        4  5230400.0  3745800.0       1   \n",
       "...               ...           ...      ...        ...        ...     ...   \n",
       "2053124  5.196465e+06  3.539743e+06  2053124  5196500.0  3539700.0      11   \n",
       "2053125  5.141297e+06  3.555753e+06  2053125  5141300.0  3555800.0      11   \n",
       "2053126  5.201475e+06  3.748615e+06  2053126  5201500.0  3748600.0       7   \n",
       "2053127  5.198955e+06  3.745027e+06  2053127  5199000.0  3745000.0      17   \n",
       "2053128  5.212572e+06  3.752260e+06  2053128  5212600.0  3752300.0      21   \n",
       "\n",
       "         dbscan_cluster   core  nearest_core  region  \n",
       "0                  8003  False        8038.0    8038  \n",
       "1                  7125  False        6310.0    6310  \n",
       "2                  8795  False        8422.0    8422  \n",
       "3                  8148  False        8422.0    8422  \n",
       "4                  9249  False        8038.0    8038  \n",
       "...                 ...    ...           ...     ...  \n",
       "2053124            7170  False        8422.0    8422  \n",
       "2053125            4295  False        6310.0    6310  \n",
       "2053126            7714  False        8038.0    8038  \n",
       "2053127            7432  False        8038.0    8038  \n",
       "2053128            8003  False        8038.0    8038  \n",
       "\n",
       "[2053129 rows x 10 columns]"
      ]
     },
     "execution_count": 14,
     "metadata": {},
     "output_type": "execute_result"
    }
   ],
   "source": [
    "data"
   ]
  },
  {
   "cell_type": "code",
   "execution_count": null,
   "id": "35bcf200-bb2f-4448-8342-c2867311348a",
   "metadata": {},
   "outputs": [],
   "source": []
  },
  {
   "cell_type": "code",
   "execution_count": 15,
   "id": "6ed3d139-aeff-4e26-a1c4-7b5687c1c199",
   "metadata": {},
   "outputs": [],
   "source": [
    "regions_datadir = '/data/uscuni-ulce/'\n",
    "region_hulls = gpd.read_parquet(\n",
    "        regions_datadir + \"regions/\" + \"cadastre_regions_hull.parquet\"\n",
    "    )"
   ]
  },
  {
   "cell_type": "code",
   "execution_count": null,
   "id": "ef463b8a-28d6-46cf-973b-076603883113",
   "metadata": {},
   "outputs": [],
   "source": []
  },
  {
   "cell_type": "code",
   "execution_count": 19,
   "id": "5cb94ccc-539f-4f26-a8b6-1d063577a8e7",
   "metadata": {},
   "outputs": [],
   "source": [
    "buffer = 139096 + 500"
   ]
  },
  {
   "cell_type": "code",
   "execution_count": 20,
   "id": "6ef884c2-dc9f-4db7-af31-95741bfa5040",
   "metadata": {},
   "outputs": [],
   "source": [
    "additional_region_hulls.index = additional_region_hulls.index + buffer\n",
    "data['region'] = data['region'] + buffer"
   ]
  },
  {
   "cell_type": "code",
   "execution_count": 36,
   "id": "cfee25d3-1076-45e3-ad3e-7193706144a1",
   "metadata": {},
   "outputs": [],
   "source": [
    "additional_region_hulls.to_parquet(regions_datadir + \"regions/\" + \"lithuatia_cadastre_regions_hull.parquet\")"
   ]
  },
  {
   "cell_type": "code",
   "execution_count": 37,
   "id": "c1765dd0-01df-406a-a51d-20291d56c012",
   "metadata": {},
   "outputs": [],
   "source": [
    "region_hulls = pd.concat((region_hulls, additional_region_hulls))"
   ]
  },
  {
   "cell_type": "code",
   "execution_count": 41,
   "id": "96ad5451-dcff-48b8-83f2-5a791c00c28a",
   "metadata": {},
   "outputs": [],
   "source": [
    "region_hulls.to_parquet(regions_datadir + \"regions/\" + \"cadastre_regions_hull.parquet\")"
   ]
  },
  {
   "cell_type": "code",
   "execution_count": 46,
   "id": "b5c75588-d12b-4d7a-bf50-33fdc7a86de0",
   "metadata": {},
   "outputs": [
    {
     "data": {
      "text/plain": [
       "Index([139621, 139674, 139764, 140420, 141272, 141366, 142100, 143701, 145906,\n",
       "       146285, 147112, 147634, 148018, 148085, 149997, 150044, 151676, 152081,\n",
       "       152511],\n",
       "      dtype='int64', name='labels')"
      ]
     },
     "execution_count": 46,
     "metadata": {},
     "output_type": "execute_result"
    }
   ],
   "source": [
    "additional_region_hulls.index"
   ]
  },
  {
   "cell_type": "code",
   "execution_count": 29,
   "id": "0139dab9-6ab0-4048-9a91-80b5c1372587",
   "metadata": {},
   "outputs": [
    {
     "data": {
      "text/plain": [
       "Index([139621, 139674, 139764, 140420, 141272, 141366, 142100, 143701, 145906,\n",
       "       146285, 147112, 147634, 148018, 148085, 149997, 150044, 151676, 152081,\n",
       "       152511],\n",
       "      dtype='int64', name='region')"
      ]
     },
     "execution_count": 29,
     "metadata": {},
     "output_type": "execute_result"
    }
   ],
   "source": [
    "data['region'].value_counts().index.sort_values()"
   ]
  },
  {
   "cell_type": "markdown",
   "id": "2050f122-b088-4d80-9e23-ac9d4c3d1366",
   "metadata": {},
   "source": [
    "### Assign buildings to regions"
   ]
  },
  {
   "cell_type": "code",
   "execution_count": 30,
   "id": "44eda871-34c0-45fb-8dff-ab620757113d",
   "metadata": {},
   "outputs": [],
   "source": [
    "# 107134 - krakow\n",
    "# 86876 = vienna\n",
    "# 69336 = prague\n",
    "# 4 - rhineruhr\n",
    "#55765 - berlin\n",
    "#bratislava - 99889\n",
    "# hamburg - 16242\n",
    "# freiburg - 5883"
   ]
  },
  {
   "cell_type": "code",
   "execution_count": 31,
   "id": "c14fe4b0-c3f5-4e68-a92e-7639790e1f65",
   "metadata": {},
   "outputs": [],
   "source": [
    "region_mapping = data"
   ]
  },
  {
   "cell_type": "code",
   "execution_count": null,
   "id": "e9bcab36-d256-4f42-84dc-9f97ec3070d9",
   "metadata": {},
   "outputs": [],
   "source": []
  },
  {
   "cell_type": "code",
   "execution_count": null,
   "id": "36d3ffd0-51c4-4aaa-8f20-eac8ec91d5e0",
   "metadata": {},
   "outputs": [],
   "source": []
  },
  {
   "cell_type": "code",
   "execution_count": null,
   "id": "9b5ddda9-9f8e-494a-8d14-9c8c8e9c8668",
   "metadata": {},
   "outputs": [],
   "source": []
  },
  {
   "cell_type": "code",
   "execution_count": 32,
   "id": "003369bd-f9e4-483b-a7e2-df04af0a4eb7",
   "metadata": {
    "scrolled": true
   },
   "outputs": [
    {
     "name": "stderr",
     "output_type": "stream",
     "text": [
      "/home/krasen/urban_taxonomy/.pixi/envs/default/lib/python3.12/site-packages/geopandas/geodataframe.py:1819: SettingWithCopyWarning: \n",
      "A value is trying to be set on a copy of a slice from a DataFrame.\n",
      "Try using .loc[row_indexer,col_indexer] = value instead\n",
      "\n",
      "See the caveats in the documentation: https://pandas.pydata.org/pandas-docs/stable/user_guide/indexing.html#returning-a-view-versus-a-copy\n",
      "  super().__setitem__(key, value)\n",
      "/home/krasen/urban_taxonomy/.pixi/envs/default/lib/python3.12/site-packages/geopandas/geodataframe.py:1819: SettingWithCopyWarning: \n",
      "A value is trying to be set on a copy of a slice from a DataFrame.\n",
      "Try using .loc[row_indexer,col_indexer] = value instead\n",
      "\n",
      "See the caveats in the documentation: https://pandas.pydata.org/pandas-docs/stable/user_guide/indexing.html#returning-a-view-versus-a-copy\n",
      "  super().__setitem__(key, value)\n",
      "/home/krasen/urban_taxonomy/.pixi/envs/default/lib/python3.12/site-packages/geopandas/geodataframe.py:1819: SettingWithCopyWarning: \n",
      "A value is trying to be set on a copy of a slice from a DataFrame.\n",
      "Try using .loc[row_indexer,col_indexer] = value instead\n",
      "\n",
      "See the caveats in the documentation: https://pandas.pydata.org/pandas-docs/stable/user_guide/indexing.html#returning-a-view-versus-a-copy\n",
      "  super().__setitem__(key, value)\n",
      "/home/krasen/urban_taxonomy/.pixi/envs/default/lib/python3.12/site-packages/geopandas/geodataframe.py:1819: SettingWithCopyWarning: \n",
      "A value is trying to be set on a copy of a slice from a DataFrame.\n",
      "Try using .loc[row_indexer,col_indexer] = value instead\n",
      "\n",
      "See the caveats in the documentation: https://pandas.pydata.org/pandas-docs/stable/user_guide/indexing.html#returning-a-view-versus-a-copy\n",
      "  super().__setitem__(key, value)\n",
      "/home/krasen/urban_taxonomy/.pixi/envs/default/lib/python3.12/site-packages/geopandas/geodataframe.py:1819: SettingWithCopyWarning: \n",
      "A value is trying to be set on a copy of a slice from a DataFrame.\n",
      "Try using .loc[row_indexer,col_indexer] = value instead\n",
      "\n",
      "See the caveats in the documentation: https://pandas.pydata.org/pandas-docs/stable/user_guide/indexing.html#returning-a-view-versus-a-copy\n",
      "  super().__setitem__(key, value)\n",
      "/home/krasen/urban_taxonomy/.pixi/envs/default/lib/python3.12/site-packages/geopandas/geodataframe.py:1819: SettingWithCopyWarning: \n",
      "A value is trying to be set on a copy of a slice from a DataFrame.\n",
      "Try using .loc[row_indexer,col_indexer] = value instead\n",
      "\n",
      "See the caveats in the documentation: https://pandas.pydata.org/pandas-docs/stable/user_guide/indexing.html#returning-a-view-versus-a-copy\n",
      "  super().__setitem__(key, value)\n",
      "/home/krasen/urban_taxonomy/.pixi/envs/default/lib/python3.12/site-packages/geopandas/geodataframe.py:1819: SettingWithCopyWarning: \n",
      "A value is trying to be set on a copy of a slice from a DataFrame.\n",
      "Try using .loc[row_indexer,col_indexer] = value instead\n",
      "\n",
      "See the caveats in the documentation: https://pandas.pydata.org/pandas-docs/stable/user_guide/indexing.html#returning-a-view-versus-a-copy\n",
      "  super().__setitem__(key, value)\n",
      "/home/krasen/urban_taxonomy/.pixi/envs/default/lib/python3.12/site-packages/geopandas/geodataframe.py:1819: SettingWithCopyWarning: \n",
      "A value is trying to be set on a copy of a slice from a DataFrame.\n",
      "Try using .loc[row_indexer,col_indexer] = value instead\n",
      "\n",
      "See the caveats in the documentation: https://pandas.pydata.org/pandas-docs/stable/user_guide/indexing.html#returning-a-view-versus-a-copy\n",
      "  super().__setitem__(key, value)\n",
      "/home/krasen/urban_taxonomy/.pixi/envs/default/lib/python3.12/site-packages/geopandas/geodataframe.py:1819: SettingWithCopyWarning: \n",
      "A value is trying to be set on a copy of a slice from a DataFrame.\n",
      "Try using .loc[row_indexer,col_indexer] = value instead\n",
      "\n",
      "See the caveats in the documentation: https://pandas.pydata.org/pandas-docs/stable/user_guide/indexing.html#returning-a-view-versus-a-copy\n",
      "  super().__setitem__(key, value)\n",
      "/home/krasen/urban_taxonomy/.pixi/envs/default/lib/python3.12/site-packages/geopandas/geodataframe.py:1819: SettingWithCopyWarning: \n",
      "A value is trying to be set on a copy of a slice from a DataFrame.\n",
      "Try using .loc[row_indexer,col_indexer] = value instead\n",
      "\n",
      "See the caveats in the documentation: https://pandas.pydata.org/pandas-docs/stable/user_guide/indexing.html#returning-a-view-versus-a-copy\n",
      "  super().__setitem__(key, value)\n",
      "/home/krasen/urban_taxonomy/.pixi/envs/default/lib/python3.12/site-packages/geopandas/geodataframe.py:1819: SettingWithCopyWarning: \n",
      "A value is trying to be set on a copy of a slice from a DataFrame.\n",
      "Try using .loc[row_indexer,col_indexer] = value instead\n",
      "\n",
      "See the caveats in the documentation: https://pandas.pydata.org/pandas-docs/stable/user_guide/indexing.html#returning-a-view-versus-a-copy\n",
      "  super().__setitem__(key, value)\n",
      "/home/krasen/urban_taxonomy/.pixi/envs/default/lib/python3.12/site-packages/geopandas/geodataframe.py:1819: SettingWithCopyWarning: \n",
      "A value is trying to be set on a copy of a slice from a DataFrame.\n",
      "Try using .loc[row_indexer,col_indexer] = value instead\n",
      "\n",
      "See the caveats in the documentation: https://pandas.pydata.org/pandas-docs/stable/user_guide/indexing.html#returning-a-view-versus-a-copy\n",
      "  super().__setitem__(key, value)\n",
      "/home/krasen/urban_taxonomy/.pixi/envs/default/lib/python3.12/site-packages/geopandas/geodataframe.py:1819: SettingWithCopyWarning: \n",
      "A value is trying to be set on a copy of a slice from a DataFrame.\n",
      "Try using .loc[row_indexer,col_indexer] = value instead\n",
      "\n",
      "See the caveats in the documentation: https://pandas.pydata.org/pandas-docs/stable/user_guide/indexing.html#returning-a-view-versus-a-copy\n",
      "  super().__setitem__(key, value)\n",
      "/home/krasen/urban_taxonomy/.pixi/envs/default/lib/python3.12/site-packages/geopandas/geodataframe.py:1819: SettingWithCopyWarning: \n",
      "A value is trying to be set on a copy of a slice from a DataFrame.\n",
      "Try using .loc[row_indexer,col_indexer] = value instead\n",
      "\n",
      "See the caveats in the documentation: https://pandas.pydata.org/pandas-docs/stable/user_guide/indexing.html#returning-a-view-versus-a-copy\n",
      "  super().__setitem__(key, value)\n",
      "/home/krasen/urban_taxonomy/.pixi/envs/default/lib/python3.12/site-packages/geopandas/geodataframe.py:1819: SettingWithCopyWarning: \n",
      "A value is trying to be set on a copy of a slice from a DataFrame.\n",
      "Try using .loc[row_indexer,col_indexer] = value instead\n",
      "\n",
      "See the caveats in the documentation: https://pandas.pydata.org/pandas-docs/stable/user_guide/indexing.html#returning-a-view-versus-a-copy\n",
      "  super().__setitem__(key, value)\n",
      "/home/krasen/urban_taxonomy/.pixi/envs/default/lib/python3.12/site-packages/geopandas/geodataframe.py:1819: SettingWithCopyWarning: \n",
      "A value is trying to be set on a copy of a slice from a DataFrame.\n",
      "Try using .loc[row_indexer,col_indexer] = value instead\n",
      "\n",
      "See the caveats in the documentation: https://pandas.pydata.org/pandas-docs/stable/user_guide/indexing.html#returning-a-view-versus-a-copy\n",
      "  super().__setitem__(key, value)\n",
      "/home/krasen/urban_taxonomy/.pixi/envs/default/lib/python3.12/site-packages/geopandas/geodataframe.py:1819: SettingWithCopyWarning: \n",
      "A value is trying to be set on a copy of a slice from a DataFrame.\n",
      "Try using .loc[row_indexer,col_indexer] = value instead\n",
      "\n",
      "See the caveats in the documentation: https://pandas.pydata.org/pandas-docs/stable/user_guide/indexing.html#returning-a-view-versus-a-copy\n",
      "  super().__setitem__(key, value)\n",
      "/home/krasen/urban_taxonomy/.pixi/envs/default/lib/python3.12/site-packages/geopandas/geodataframe.py:1819: SettingWithCopyWarning: \n",
      "A value is trying to be set on a copy of a slice from a DataFrame.\n",
      "Try using .loc[row_indexer,col_indexer] = value instead\n",
      "\n",
      "See the caveats in the documentation: https://pandas.pydata.org/pandas-docs/stable/user_guide/indexing.html#returning-a-view-versus-a-copy\n",
      "  super().__setitem__(key, value)\n"
     ]
    },
    {
     "name": "stdout",
     "output_type": "stream",
     "text": [
      "CPU times: user 3.43 s, sys: 616 ms, total: 4.05 s\n",
      "Wall time: 4.03 s\n"
     ]
    },
    {
     "name": "stderr",
     "output_type": "stream",
     "text": [
      "/home/krasen/urban_taxonomy/.pixi/envs/default/lib/python3.12/site-packages/geopandas/geodataframe.py:1819: SettingWithCopyWarning: \n",
      "A value is trying to be set on a copy of a slice from a DataFrame.\n",
      "Try using .loc[row_indexer,col_indexer] = value instead\n",
      "\n",
      "See the caveats in the documentation: https://pandas.pydata.org/pandas-docs/stable/user_guide/indexing.html#returning-a-view-versus-a-copy\n",
      "  super().__setitem__(key, value)\n"
     ]
    }
   ],
   "source": [
    "%%time\n",
    "for region_id, group in region_mapping.groupby('region'):\n",
    "\n",
    "    region_id = int(region_id)\n",
    "    \n",
    "    buildings = gdf.iloc[group.id]\n",
    "    buildings['iid'] = buildings.index.values\n",
    "    buildings.to_parquet(f'/data/uscuni-ulce/regions/buildings/buildings_{region_id}.pq')"
   ]
  },
  {
   "cell_type": "code",
   "execution_count": null,
   "id": "945c8a6e-5db4-45fe-ab52-381d147dfdb1",
   "metadata": {},
   "outputs": [],
   "source": []
  },
  {
   "cell_type": "code",
   "execution_count": null,
   "id": "cd7f002d-2d57-48fa-be58-7dd6393177bc",
   "metadata": {},
   "outputs": [],
   "source": []
  },
  {
   "cell_type": "code",
   "execution_count": 6,
   "id": "ae99bba0-6e46-48e1-a0a8-9171dbfd5d33",
   "metadata": {},
   "outputs": [],
   "source": [
    "region_name = 69333\n",
    "regions_datadir = \"/data/uscuni-ulce/\"\n",
    "region_hulls = gpd.read_parquet(\n",
    "        regions_datadir + \"regions/\" + \"cadastre_regions_hull.parquet\"\n",
    "    )\n",
    "region_id, region_hull = region_hulls.loc[region_name].name, region_hulls.loc[region_name].convex_hull"
   ]
  },
  {
   "cell_type": "code",
   "execution_count": 8,
   "id": "8f629542-ce97-4223-bdf4-ebbeba601333",
   "metadata": {},
   "outputs": [],
   "source": [
    "# gpd.GeoSeries([region_hull], name='geometry', crs='epsg:3035').explore()"
   ]
  },
  {
   "cell_type": "code",
   "execution_count": null,
   "id": "93baba32-0d1f-4b28-b653-a468820f68b3",
   "metadata": {},
   "outputs": [],
   "source": []
  },
  {
   "cell_type": "code",
   "execution_count": null,
   "id": "8cb3b803-beb3-4742-9996-4823a247e891",
   "metadata": {},
   "outputs": [],
   "source": []
  },
  {
   "cell_type": "code",
   "execution_count": null,
   "id": "95f4c129-fd7e-4a4a-b3a9-1b78feee924b",
   "metadata": {},
   "outputs": [],
   "source": []
  }
 ],
 "metadata": {
  "kernelspec": {
   "display_name": "Python 3 (ipykernel)",
   "language": "python",
   "name": "python3"
  },
  "language_info": {
   "codemirror_mode": {
    "name": "ipython",
    "version": 3
   },
   "file_extension": ".py",
   "mimetype": "text/x-python",
   "name": "python",
   "nbconvert_exporter": "python",
   "pygments_lexer": "ipython3",
   "version": "3.12.5"
  }
 },
 "nbformat": 4,
 "nbformat_minor": 5
}
