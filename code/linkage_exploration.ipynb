{
 "cells": [
  {
   "cell_type": "code",
   "execution_count": 1,
   "id": "daabd5d8-c694-400e-a4ca-8cba90695df9",
   "metadata": {},
   "outputs": [],
   "source": [
    "import numpy as np\n",
    "from scipy.cluster.hierarchy import fcluster\n",
    "from scipy.cluster.hierarchy import dendrogram\n",
    "import pandas as pd\n",
    "import geopandas as gpd\n",
    "import matplotlib.pyplot as plt\n",
    "\n",
    "from core.cluster_validation import morphotopes_to_etcs"
   ]
  },
  {
   "cell_type": "code",
   "execution_count": 2,
   "id": "a58416c8-fae0-4563-8245-31827b2930ce",
   "metadata": {},
   "outputs": [],
   "source": [
    "regions_datadir = \"/data/uscuni-ulce/\"\n",
    "model_params = '_75_0_None_None_False'"
   ]
  },
  {
   "cell_type": "code",
   "execution_count": 3,
   "id": "fe09df4c-2dcb-4560-bf3e-e6be797d5236",
   "metadata": {},
   "outputs": [],
   "source": [
    "v = 'v3'\n",
    "regional_clusters = pd.read_parquet(f'/data/uscuni-ulce/processed_data/clusters/regional_clusters_{v}.pq')[0]\n",
    "final_clusters = pd.read_parquet(f'/data/uscuni-ulce/processed_data/clusters/final_clusters_{v}.pq')\n",
    "cdata = pd.read_parquet(f'/data/uscuni-ulce/processed_data/clusters/cdata_{v}.pq')\n",
    "regional_ward_morphotopes_data = pd.read_parquet(f'/data/uscuni-ulce/processed_data/clusters/cluster_input_data_{v}.pq')\n",
    "linkage_matrix = np.load(f'/data/uscuni-ulce/processed_data/clusters/kmeans_linkage_{v}.npy')"
   ]
  },
  {
   "cell_type": "code",
   "execution_count": null,
   "id": "1a48dd50-fd60-4325-a6cc-8912d66cf696",
   "metadata": {},
   "outputs": [],
   "source": []
  },
  {
   "cell_type": "code",
   "execution_count": 4,
   "id": "0f63cf4a-fc57-433d-bf0a-7da8a08e5c0b",
   "metadata": {},
   "outputs": [
    {
     "data": {
      "image/png": "[encoded data removed]",
      "text/plain": [
       "<Figure size 1000x1000 with 1 Axes>"
      ]
     },
     "metadata": {},
     "output_type": "display_data"
    }
   ],
   "source": [
    "## final dendrogram\n",
    "fig,ax = plt.subplots(figsize=(10,10))\n",
    "_ = dendrogram(linkage_matrix,ax=ax, no_labels=True)"
   ]
  },
  {
   "cell_type": "code",
   "execution_count": null,
   "id": "b6a638cc-72ee-4827-9c8d-4615b69c698f",
   "metadata": {},
   "outputs": [],
   "source": []
  },
  {
   "cell_type": "code",
   "execution_count": 5,
   "id": "e80d3860-5b18-4ed6-b406-702da4216a59",
   "metadata": {
    "scrolled": true
   },
   "outputs": [
    {
     "data": {
      "text/plain": [
       "1     4611\n",
       "50    3198\n",
       "33    3161\n",
       "47    3081\n",
       "41    2724\n",
       "      ... \n",
       "27       1\n",
       "13       1\n",
       "15       1\n",
       "11       1\n",
       "19       1\n",
       "Name: count, Length: 108, dtype: int64"
      ]
     },
     "execution_count": 5,
     "metadata": {},
     "output_type": "execute_result"
    }
   ],
   "source": [
    "final_cutoff = 1/7 -0.00001\n",
    "clusters = fcluster(linkage_matrix, t=final_cutoff, criterion='distance')\n",
    "final_clusters = pd.Series(clusters, regional_ward_morphotopes_data.index)\n",
    "final_clusters.value_counts()"
   ]
  },
  {
   "cell_type": "code",
   "execution_count": null,
   "id": "f9385326-ce96-4f47-b508-49b92a395fc8",
   "metadata": {},
   "outputs": [],
   "source": []
  },
  {
   "cell_type": "markdown",
   "id": "fe1ea0dd-3397-408a-a586-531693e0cdb9",
   "metadata": {},
   "source": [
    "### Plotting"
   ]
  },
  {
   "cell_type": "code",
   "execution_count": 6,
   "id": "427ed86c-21e0-4bcd-a4f7-19a96bea7d9f",
   "metadata": {},
   "outputs": [],
   "source": [
    "from core.cluster_validation import get_color\n",
    "final_colors = pd.DataFrame(get_color(final_clusters.values), final_clusters.values).drop_duplicates()\n",
    "final_colors.loc[-1] = [255,255,255]"
   ]
  },
  {
   "cell_type": "code",
   "execution_count": null,
   "id": "95c359af-f321-45db-9852-cd73355caeef",
   "metadata": {},
   "outputs": [],
   "source": [
    "\n"
   ]
  },
  {
   "cell_type": "code",
   "execution_count": 7,
   "id": "e8a36b9b-3c9d-4637-8cda-52387c099f71",
   "metadata": {},
   "outputs": [],
   "source": [
    "region_id = 69333 \n",
    "\n",
    "# region_id = 99886 # bratislava\n",
    "\n",
    "# region_id = 151676 # vilnius\n",
    "\n",
    "# region_id = 8707 # mainz/frankfurt\n",
    "# region_id = 5883 #  freiburg\n",
    "# region_id = 38679 #munich\n",
    "# region_id = 55763 # berlin\n",
    "\n",
    "# region_id = 86873 # vienna\n",
    "\n",
    "# region_id = 107131 # krakow\n",
    "\n",
    "\n",
    "# region_id= 66593"
   ]
  },
  {
   "cell_type": "code",
   "execution_count": 8,
   "id": "a28211cf-01f3-4f7f-8032-e5342981645f",
   "metadata": {},
   "outputs": [],
   "source": [
    "etcs = morphotopes_to_etcs(region_id, etcs=False, model_params=model_params)"
   ]
  },
  {
   "cell_type": "code",
   "execution_count": 9,
   "id": "b7016460-2d0a-4938-9d3d-9859c9fc91eb",
   "metadata": {},
   "outputs": [
    {
     "data": {
      "text/plain": [
       "4_0_0               4_164\n",
       "4_0_1               4_712\n",
       "4_0_10              4_734\n",
       "4_0_100             4_903\n",
       "4_0_101            4_1837\n",
       "                  ...    \n",
       "152511_809_0    152511_10\n",
       "152511_8_0      152511_20\n",
       "152511_8_1      152511_39\n",
       "152511_8_2      152511_20\n",
       "152511_901_0    152511_31\n",
       "Name: 0, Length: 523595, dtype: object"
      ]
     },
     "execution_count": 9,
     "metadata": {},
     "output_type": "execute_result"
    }
   ],
   "source": [
    "regional_clusters"
   ]
  },
  {
   "cell_type": "code",
   "execution_count": null,
   "id": "b5a784de-0eeb-4e81-9512-9d2b1eff3137",
   "metadata": {},
   "outputs": [],
   "source": []
  },
  {
   "cell_type": "code",
   "execution_count": 10,
   "id": "3d5387c1-fea8-409a-b31a-93152062422c",
   "metadata": {},
   "outputs": [],
   "source": [
    "\n",
    "\n",
    "\n",
    "## relabel\n",
    "### regional_clusters = morphotopes -> regional_clusters\n",
    "### final_clusters = regional_clusters -> final_clusters\n",
    "etcs['final'] = etcs['morph'].map(lambda x: final_clusters.loc[regional_clusters.loc[x]] if x in regional_clusters else -1)\n",
    "etcs['regional'] = etcs['morph'].map(lambda x: regional_clusters.loc[x] if x in regional_clusters else \"-1\")"
   ]
  },
  {
   "cell_type": "code",
   "execution_count": null,
   "id": "dd654759-9852-4bec-993c-d9fa632320f5",
   "metadata": {},
   "outputs": [],
   "source": []
  },
  {
   "cell_type": "code",
   "execution_count": 11,
   "id": "4bdac07e-bf3e-4a3b-8dc1-38e019866be2",
   "metadata": {},
   "outputs": [],
   "source": [
    "etcs['geometry'] = etcs.simplify(1).to_crs(epsg=4326).make_valid()\n",
    "etcs = etcs[etcs['geometry'].geom_type == 'Polygon']"
   ]
  },
  {
   "cell_type": "code",
   "execution_count": null,
   "id": "254a5ed7-51bb-4830-8e0f-6158e03911b7",
   "metadata": {},
   "outputs": [],
   "source": []
  },
  {
   "cell_type": "code",
   "execution_count": 12,
   "id": "6e8c7266-a62f-4099-95bd-5fc250d3315f",
   "metadata": {},
   "outputs": [
    {
     "name": "stdout",
     "output_type": "stream",
     "text": [
      "CPU times: user 1.03 s, sys: 114 ms, total: 1.15 s\n",
      "Wall time: 1.14 s\n"
     ]
    }
   ],
   "source": [
    "%%time\n",
    "import lonboard\n",
    "# plotting = tessellation[tessellation.index.isin(X_train.index)].copy()\n",
    "layer = lonboard.SolidPolygonLayer.from_geopandas(etcs, opacity=.7)"
   ]
  },
  {
   "cell_type": "code",
   "execution_count": 13,
   "id": "95c2dd9c-f375-4681-b1a2-9325ba8851b1",
   "metadata": {},
   "outputs": [],
   "source": [
    "from sidecar import Sidecar\n",
    "sc = Sidecar(title=f'Final Clusters - {final_cutoff}')\n",
    "m = lonboard.Map(layer, basemap_style=lonboard.basemap.CartoBasemap.DarkMatter)\n",
    "with sc:\n",
    "    display(m)"
   ]
  },
  {
   "cell_type": "code",
   "execution_count": 14,
   "id": "0141e2f2-ff34-4388-aee0-0e4bab25604c",
   "metadata": {},
   "outputs": [],
   "source": [
    "from core.cluster_validation import get_color\n",
    "layer.get_fill_color = final_colors.loc[etcs.final].values.astype('uint8')"
   ]
  },
  {
   "cell_type": "code",
   "execution_count": null,
   "id": "21261b03-435f-4f5a-8745-0d7d5ec91cb3",
   "metadata": {},
   "outputs": [],
   "source": []
  },
  {
   "cell_type": "markdown",
   "id": "7c33ec75-80b4-4c35-8db5-61877a55190b",
   "metadata": {},
   "source": [
    "### Interactive dendro"
   ]
  },
  {
   "cell_type": "code",
   "execution_count": 38,
   "id": "9070e6ec-ffcc-4bef-a793-64a297ac05d2",
   "metadata": {},
   "outputs": [],
   "source": [
    "from core import interactive_dendrogram\n",
    "import jscatter\n",
    "import seaborn as sns\n",
    "\n",
    "\n",
    "def get_subcluster_children(focus):\n",
    "    if focus < n:\n",
    "        return [focus]\n",
    "    child, parent = linkage_matrix[focus - n, 0].astype(int), linkage_matrix[focus - n, 1].astype(int)\n",
    "    children_ids = interactive_dendrogram.get_children(linkage_matrix, child, parent)\n",
    "    children_morphotopes = regional_ward_morphotopes_data.iloc[children_ids].index\n",
    "    return children_morphotopes"
   ]
  },
  {
   "cell_type": "code",
   "execution_count": 16,
   "id": "44876355-d93e-4602-b608-fa998ea057da",
   "metadata": {},
   "outputs": [],
   "source": [
    "scatter_df, lines = interactive_dendrogram.get_dendrogram_scatter_data(linkage_matrix)"
   ]
  },
  {
   "cell_type": "code",
   "execution_count": 17,
   "id": "ebd15891-ce5a-4d00-bb15-1d8a41308220",
   "metadata": {},
   "outputs": [
    {
     "data": {
      "text/plain": [
       "<jscatter.jscatter.Scatter at 0x728ac01703b0>"
      ]
     },
     "execution_count": 17,
     "metadata": {},
     "output_type": "execute_result"
    }
   ],
   "source": [
    "scatter = jscatter.Scatter(data=scatter_df, x='x', y='y', annotations=lines, height=640, width=1280)\n",
    "scatter.axes(grid=True)"
   ]
  },
  {
   "cell_type": "code",
   "execution_count": 18,
   "id": "6800c36d-7238-4549-824f-01e157d2f1e9",
   "metadata": {},
   "outputs": [
    {
     "data": {
      "application/vnd.jupyter.widget-view+json": {
       "model_id": "38dd07722f8147199c7f12ecf0f37d8e",
       "version_major": 2,
       "version_minor": 0
      },
      "text/plain": [
       "HBox(children=(VBox(children=(Button(button_style='primary', icon='arrows', layout=Layout(width='36px'), style…"
      ]
     },
     "execution_count": 18,
     "metadata": {},
     "output_type": "execute_result"
    }
   ],
   "source": [
    "scatter.show()"
   ]
  },
  {
   "cell_type": "code",
   "execution_count": 49,
   "id": "fdd9a0ab-e50a-45a5-82d5-beedaa0c0fea",
   "metadata": {},
   "outputs": [],
   "source": [
    "focus = scatter_df.loc[scatter.selection()[0], 'node_id']\n",
    "\n",
    "n = linkage_matrix.shape[0] + 1\n",
    "\n",
    "left, right = linkage_matrix[focus - n, 0].astype(int), linkage_matrix[focus - n, 1].astype(int)\n",
    "left_children = get_subcluster_children(left)\n",
    "right_children = get_subcluster_children(right)\n",
    "\n",
    "# branch = np.union1d(left_children, right_children)\n",
    "\n",
    "cluster_colors = np.full((etcs.shape[0], 3), 0) # everything black\n",
    "cluster_colors[etcs.regional.isin(left_children)] = [141,211,199] # left blue - 1\n",
    "cluster_colors[etcs.regional.isin(right_children)] = [255,255,179] # right yellow - 2\n",
    "layer.get_fill_color = cluster_colors.astype('uint8')"
   ]
  },
  {
   "cell_type": "code",
   "execution_count": 31,
   "id": "97304af8-b606-464d-982b-6a7ed57e883b",
   "metadata": {},
   "outputs": [
    {
     "data": {
      "text/plain": [
       "np.int64(62099)"
      ]
     },
     "execution_count": 31,
     "metadata": {},
     "output_type": "execute_result"
    }
   ],
   "source": []
  },
  {
   "cell_type": "code",
   "execution_count": 219,
   "id": "8515a45a-f5d1-4ad4-bd34-bff774bce9c2",
   "metadata": {},
   "outputs": [
    {
     "data": {
      "text/plain": [
       "sdbAre    4.059986\n",
       "sdbPer    3.234200\n",
       "ssbCCo   -2.078855\n",
       "ssbCor    2.014940\n",
       "ssbERI   -1.706823\n",
       "sdcAre    1.059056\n",
       "ssbElo   -1.002316\n",
       "mdcAre    0.832123\n",
       "limLPS   -0.827982\n",
       "sdsSWD   -0.715818\n",
       "mibFR     0.709644\n",
       "mibSCo    0.709644\n",
       "sdcLAL    0.615772\n",
       "linP4W    0.589773\n",
       "mibCCo   -0.581242\n",
       "mibLAL    0.567260\n",
       "micBAD    0.531227\n",
       "mibElo   -0.477596\n",
       "lcdMes    0.404891\n",
       "sdsSPW    0.374064\n",
       "dtype: float64"
      ]
     },
     "execution_count": 219,
     "metadata": {},
     "output_type": "execute_result"
    }
   ],
   "source": [
    "# top 20 differences between the right sub-branch and the left sub-branch of the selected node.\n",
    "\n",
    "left_data = regional_ward_morphotopes_data.loc[left_children].mean()\n",
    "right_data = regional_ward_morphotopes_data.loc[right_children].mean()\n",
    "\n",
    "diffs = (left_data - right_data)\n",
    "diffs = diffs[(diffs ** 2).sort_values(ascending=False).index].head(20)\n",
    "diffs"
   ]
  }
 ],
 "metadata": {
  "kernelspec": {
   "display_name": "Python 3 (ipykernel)",
   "language": "python",
   "name": "python3"
  },
  "language_info": {
   "codemirror_mode": {
    "name": "ipython",
    "version": 3
   },
   "file_extension": ".py",
   "mimetype": "text/x-python",
   "name": "python",
   "nbconvert_exporter": "python",
   "pygments_lexer": "ipython3",
   "version": "3.12.8"
  }
 },
 "nbformat": 4,
 "nbformat_minor": 5
}
