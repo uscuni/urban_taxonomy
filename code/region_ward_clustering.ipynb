{
 "cells": [
  {
   "cell_type": "code",
   "execution_count": 1,
   "id": "4fb58956-1f6c-4dd0-ba41-f79164bbd775",
   "metadata": {},
   "outputs": [],
   "source": [
    "import momepy as mm\n",
    "import numpy as np\n",
    "import numba\n",
    "import geopandas as gpd\n",
    "import pandas as pd\n",
    "import shapely\n",
    "from sklearn.preprocessing import StandardScaler\n",
    "from collections import namedtuple\n",
    "from core.cluster_validation import get_linkage_matrix\n",
    "from libpysal.graph import read_parquet, Graph\n",
    "from core.generate_context import spatially_weighted_partial_lag\n",
    "from core.generate_clusters import preprocess_clustering_data\n",
    "from sklearn.cluster import AgglomerativeClustering\n",
    "from core.cluster_validation import get_linkage_matrix\n",
    "from scipy.cluster.hierarchy import fcluster\n",
    "from core.utils import used_keys"
   ]
  },
  {
   "cell_type": "code",
   "execution_count": null,
   "id": "89b7014a-e313-440c-a658-53f4fbe2671d",
   "metadata": {},
   "outputs": [],
   "source": []
  },
  {
   "cell_type": "code",
   "execution_count": 2,
   "id": "89415dbe-7081-4be6-8824-3a5adb7b1966",
   "metadata": {},
   "outputs": [],
   "source": [
    "regions_datadir = \"/data/uscuni-ulce/\"\n",
    "morphotopes_dir = '/data/uscuni-ulce/processed_data/morphotopes/'\n",
    "model_params = '_75_0_None_None_False'\n",
    "clip = None\n",
    "to_drop = [\n",
    "        'stcSAl','stbOri','stcOri','stbCeA',\n",
    "        'ldkAre', 'ldkPer', 'lskCCo', 'lskERI','lskCWA', 'ltkOri', 'ltkWNB', 'likWBB', 'likWCe',\n",
    "          # 'licBAD',\n",
    "    # 'misBAD',\n",
    "    # 'ssbCCM','ssbCCD'    \n",
    "]\n",
    "\n",
    "\n",
    "linkage = 'ward'\n",
    "metric = 'euclidean'\n",
    "\n",
    "morphotope_stat_columns = ['percentile_25', 'percentile_75', 'mean', 'std']"
   ]
  },
  {
   "cell_type": "code",
   "execution_count": 3,
   "id": "86302c5f-263c-4390-bb69-3b16ce654a95",
   "metadata": {},
   "outputs": [],
   "source": [
    "def preprocess_data(data, scalar, drop_columns=morphotope_stat_columns):\n",
    "    component_data = data.drop(columns=drop_columns, level=1)\n",
    "    component_data = component_data.drop(columns=to_drop, level=0)\n",
    "    component_data.columns =  component_data.columns.get_level_values(0)\n",
    "    \n",
    "    component_data = component_data[component_data.index.str[-2:] != '-1']\n",
    "    \n",
    "    vals = scalar.fit_transform(component_data)\n",
    "    component_data = pd.DataFrame(vals, columns=component_data.columns, index=component_data.index)\n",
    "    component_data = component_data.drop(component_data.columns[component_data.std() == 0], axis=1)\n",
    "    \n",
    "    # component_data = component_data[component_data.index >= 0]\n",
    "    vals = np.nan_to_num(component_data)\n",
    "    component_data = pd.DataFrame(vals, columns=component_data.columns, index=component_data.index)\n",
    "    return component_data\n",
    "\n",
    "def read_region_morphotope_data(region_id, scalar):\n",
    "    print('processing' , region_id)\n",
    "    data = pd.read_parquet(f'{morphotopes_dir}data_morphotopes_{region_id}{model_params}.pq')\n",
    "    data.index = str(region_id) + '_' + data.index\n",
    "    data = data.iloc[:, :-1]\n",
    "    component_data = preprocess_data(data, scalar)\n",
    "\n",
    "    return component_data\n",
    "\n",
    "def get_morphotope_linkage(region_data):\n",
    "    \n",
    "    clusterer = AgglomerativeClustering(linkage=linkage,\n",
    "                                        metric=metric,\n",
    "                                        compute_full_tree=True,\n",
    "                                        compute_distances=True)\n",
    "    model = clusterer.fit(region_data)\n",
    "    linkage_matrix = get_linkage_matrix(model)\n",
    "    return linkage_matrix\n",
    "\n",
    "\n",
    "def get_all_clusters(cutoff):\n",
    "    \n",
    "    all_clusters = []\n",
    "    \n",
    "    for region_id, _ in region_hulls.iterrows():\n",
    "        data = read_region_morphotope_data(region_id, scalar=StandardScaler())\n",
    "        region_index = data.index\n",
    "        linkage_matrix = np.load(f'/data/uscuni-ulce/processed_data/morphotope_linkage/{linkage}_{metric}_{region_id}.npy')\n",
    "        clusters = fcluster(linkage_matrix, t=cutoff, criterion='distance')\n",
    "        clusters = pd.Series(clusters, region_index).astype(str)\n",
    "        clusters = str(region_id) + '_' +clusters\n",
    "        all_clusters.append(clusters)\n",
    "    \n",
    "    all_clusters = pd.concat(all_clusters)\n",
    "    \n",
    "    return all_clusters\n",
    "\n",
    "\n",
    "def read_morphotopes_data(model_params):\n",
    "\n",
    "    ### primary chars\n",
    "    # region_hulls = gpd.read_parquet(\n",
    "    #         regions_datadir + \"regions/\" + \"cadastre_regions_hull.parquet\"\n",
    "    # )\n",
    "    \n",
    "    data = []\n",
    "    for region_id, _ in region_hulls.iterrows():\n",
    "        region_morphotope_data = pd.read_parquet(f'{morphotopes_dir}data_morphotopes_{region_id}{model_params}.pq')\n",
    "        region_morphotope_data.index = str(region_id) + '_' + region_morphotope_data.index.str[:]\n",
    "        data.append(region_morphotope_data)\n",
    "    \n",
    "    data = pd.concat(data)\n",
    "    return data\n",
    "\n",
    "def morphotopes_to_etcs(region_id, etcs=True, model_params='_100_0_None_None_False'):\n",
    "\n",
    "\n",
    "    if etcs:\n",
    "        etcs = gpd.read_parquet(f'/data/uscuni-ulce/processed_data/tessellations/tessellation_{region_id}.parquet')\n",
    "\n",
    "    else:\n",
    "        etcs = gpd.read_parquet(f'/data/uscuni-ulce/processed_data/buildings/buildings_{region_id}.parquet')\n",
    "        \n",
    "    etcs['label'] = -1\n",
    "    \n",
    "    morphotopes = pd.read_parquet(f'/data/uscuni-ulce/processed_data/morphotopes/tessellation_labels_morphotopes_{region_id}{model_params}.pq')\n",
    "    morphotopes.loc[:, 'morphotope_label'] =  morphotopes.values[:, 0]\n",
    "\n",
    "    morph_dict = pd.Series(np.arange(np.unique(morphotopes.values).shape[0]),\n",
    "                       np.unique(morphotopes.values))\n",
    "    etcs.loc[morphotopes.index, 'label'] = morphotopes.map(lambda x: morph_dict.loc[x]).values\n",
    "    etcs['morph'] = str(region_id) + '_' + '-1'\n",
    "    etcs.loc[morphotopes.index, 'morph'] = str(region_id) + '_' + morphotopes.values\n",
    "    return etcs"
   ]
  },
  {
   "cell_type": "code",
   "execution_count": null,
   "id": "048e45cb-4b25-45aa-9221-a1381e46c6dc",
   "metadata": {},
   "outputs": [],
   "source": []
  },
  {
   "cell_type": "code",
   "execution_count": null,
   "id": "6735cf4e-7ad3-4c01-a2e3-88a9c4cd514a",
   "metadata": {},
   "outputs": [],
   "source": []
  },
  {
   "cell_type": "code",
   "execution_count": 4,
   "id": "0cc41cce-654b-4c19-8506-52152f53faf7",
   "metadata": {},
   "outputs": [],
   "source": [
    "region_hulls = gpd.read_parquet(\n",
    "        regions_datadir + \"regions/\" + \"cadastre_regions_hull.parquet\"\n",
    ")"
   ]
  },
  {
   "cell_type": "code",
   "execution_count": 5,
   "id": "c0724c7f-edf9-415a-9bb1-f0ff18166251",
   "metadata": {},
   "outputs": [],
   "source": [
    "region_hulls = region_hulls.iloc[: -1] # drop lithuania for now"
   ]
  },
  {
   "cell_type": "code",
   "execution_count": 6,
   "id": "a0ea5365-6769-406b-8759-3d82369c1793",
   "metadata": {},
   "outputs": [],
   "source": [
    "from sklearn.preprocessing import StandardScaler, QuantileTransformer\n",
    "scalar = QuantileTransformer(subsample=None)"
   ]
  },
  {
   "cell_type": "code",
   "execution_count": 7,
   "id": "3c76470d-0dc1-4609-83b5-11530ac3b6b0",
   "metadata": {
    "scrolled": true
   },
   "outputs": [],
   "source": [
    "# %%time\n",
    "\n",
    "# ## generate and save linkage matricies for each region\n",
    "# for region_id, _ in region_hulls.iterrows():\n",
    "#     data = read_region_morphotope_data(region_id, scalar)\n",
    "#     linkage_matrix = get_morphotope_linkage(data)\n",
    "#     np.save(f'/data/uscuni-ulce/processed_data/morphotope_linkage/{linkage}_{metric}_{region_id}', linkage_matrix)"
   ]
  },
  {
   "cell_type": "code",
   "execution_count": 8,
   "id": "d73c6907-32dd-4380-ab9c-31a7ce780b17",
   "metadata": {},
   "outputs": [
    {
     "data": {
      "text/html": [
       "<div>\n",
       "<style scoped>\n",
       "    .dataframe tbody tr th:only-of-type {\n",
       "        vertical-align: middle;\n",
       "    }\n",
       "\n",
       "    .dataframe tbody tr th {\n",
       "        vertical-align: top;\n",
       "    }\n",
       "\n",
       "    .dataframe thead th {\n",
       "        text-align: right;\n",
       "    }\n",
       "</style>\n",
       "<table border=\"1\" class=\"dataframe\">\n",
       "  <thead>\n",
       "    <tr style=\"text-align: right;\">\n",
       "      <th></th>\n",
       "      <th>convex_hull</th>\n",
       "    </tr>\n",
       "    <tr>\n",
       "      <th>labels</th>\n",
       "      <th></th>\n",
       "    </tr>\n",
       "  </thead>\n",
       "  <tbody>\n",
       "    <tr>\n",
       "      <th>4</th>\n",
       "      <td>POLYGON ((4122200 3045600, 4121500 3045900, 40...</td>\n",
       "    </tr>\n",
       "    <tr>\n",
       "      <th>10</th>\n",
       "      <td>POLYGON ((4068900 3057300, 4051000 3064300, 40...</td>\n",
       "    </tr>\n",
       "    <tr>\n",
       "      <th>132</th>\n",
       "      <td>POLYGON ((4053100 3049800, 4050900 3053000, 40...</td>\n",
       "    </tr>\n",
       "    <tr>\n",
       "      <th>134</th>\n",
       "      <td>POLYGON ((4052500 3093600, 4052200 3093700, 40...</td>\n",
       "    </tr>\n",
       "    <tr>\n",
       "      <th>286</th>\n",
       "      <td>POLYGON ((4060600 3103900, 4057000 3104200, 40...</td>\n",
       "    </tr>\n",
       "    <tr>\n",
       "      <th>...</th>\n",
       "      <td>...</td>\n",
       "    </tr>\n",
       "    <tr>\n",
       "      <th>137537</th>\n",
       "      <td>POLYGON ((5243100 3191600, 5230300 3192500, 52...</td>\n",
       "    </tr>\n",
       "    <tr>\n",
       "      <th>137636</th>\n",
       "      <td>POLYGON ((5221900 3158300, 5213500 3166400, 52...</td>\n",
       "    </tr>\n",
       "    <tr>\n",
       "      <th>137863</th>\n",
       "      <td>POLYGON ((5243700 3122100, 5235000 3122700, 52...</td>\n",
       "    </tr>\n",
       "    <tr>\n",
       "      <th>138804</th>\n",
       "      <td>POLYGON ((5290800 3173900, 5280100 3176400, 52...</td>\n",
       "    </tr>\n",
       "    <tr>\n",
       "      <th>139096</th>\n",
       "      <td>POLYGON ((5261500 3081000, 5261400 3081100, 52...</td>\n",
       "    </tr>\n",
       "  </tbody>\n",
       "</table>\n",
       "<p>828 rows × 1 columns</p>\n",
       "</div>"
      ],
      "text/plain": [
       "                                              convex_hull\n",
       "labels                                                   \n",
       "4       POLYGON ((4122200 3045600, 4121500 3045900, 40...\n",
       "10      POLYGON ((4068900 3057300, 4051000 3064300, 40...\n",
       "132     POLYGON ((4053100 3049800, 4050900 3053000, 40...\n",
       "134     POLYGON ((4052500 3093600, 4052200 3093700, 40...\n",
       "286     POLYGON ((4060600 3103900, 4057000 3104200, 40...\n",
       "...                                                   ...\n",
       "137537  POLYGON ((5243100 3191600, 5230300 3192500, 52...\n",
       "137636  POLYGON ((5221900 3158300, 5213500 3166400, 52...\n",
       "137863  POLYGON ((5243700 3122100, 5235000 3122700, 52...\n",
       "138804  POLYGON ((5290800 3173900, 5280100 3176400, 52...\n",
       "139096  POLYGON ((5261500 3081000, 5261400 3081100, 52...\n",
       "\n",
       "[828 rows x 1 columns]"
      ]
     },
     "execution_count": 8,
     "metadata": {},
     "output_type": "execute_result"
    }
   ],
   "source": [
    "region_hulls"
   ]
  },
  {
   "cell_type": "markdown",
   "id": "0e84ab65-ad35-4650-b884-69659445f825",
   "metadata": {},
   "source": [
    "### Setup regional cutoff to merge regional morphotopes"
   ]
  },
  {
   "cell_type": "code",
   "execution_count": 9,
   "id": "f2afa8b6-2f25-482b-85bc-8f673e617bf4",
   "metadata": {},
   "outputs": [],
   "source": [
    "regional_cutoff = 5"
   ]
  },
  {
   "cell_type": "code",
   "execution_count": 10,
   "id": "772709a9-0793-4624-a88c-13cac9cc47b6",
   "metadata": {
    "scrolled": true
   },
   "outputs": [
    {
     "name": "stdout",
     "output_type": "stream",
     "text": [
      "processing 4\n",
      "processing 10\n",
      "processing 132\n",
      "processing 134\n",
      "processing 286\n",
      "processing 313\n",
      "processing 400\n",
      "processing 523\n",
      "processing 765\n",
      "processing 801\n",
      "processing 832\n",
      "processing 913\n",
      "processing 960\n",
      "processing 1124\n",
      "processing 1154\n",
      "processing 1387\n",
      "processing 1478\n",
      "processing 1515\n",
      "processing 1605\n",
      "processing 1718\n",
      "processing 1736\n",
      "processing 1782\n",
      "processing 1970\n",
      "processing 1981\n",
      "processing 2096\n",
      "processing 2322\n",
      "processing 2350\n",
      "processing 2478\n",
      "processing 2514\n",
      "processing 2625\n",
      "processing 2728\n",
      "processing 2975\n",
      "processing 3039\n",
      "processing 3109\n",
      "processing 3150\n",
      "processing 3221\n",
      "processing 3250\n",
      "processing 3526\n",
      "processing 3610\n",
      "processing 3612\n",
      "processing 3701\n",
      "processing 3705\n",
      "processing 3752\n",
      "processing 3759\n",
      "processing 3981\n",
      "processing 4070\n",
      "processing 4214\n",
      "processing 4215\n",
      "processing 4235\n",
      "processing 4284\n",
      "processing 4356\n",
      "processing 4382\n",
      "processing 4723\n",
      "processing 4805\n",
      "processing 5096\n",
      "processing 5191\n",
      "processing 5246\n",
      "processing 5310\n",
      "processing 5408\n",
      "processing 5427\n",
      "processing 5662\n",
      "processing 5671\n",
      "processing 5766\n",
      "processing 5883\n",
      "processing 6254\n",
      "processing 6529\n",
      "processing 6560\n",
      "processing 6576\n",
      "processing 6741\n",
      "processing 6749\n",
      "processing 6811\n",
      "processing 6873\n",
      "processing 6996\n",
      "processing 7068\n",
      "processing 7094\n",
      "processing 7280\n",
      "processing 7485\n",
      "processing 7528\n",
      "processing 7534\n",
      "processing 7681\n",
      "processing 7688\n",
      "processing 7712\n",
      "processing 7727\n",
      "processing 7805\n",
      "processing 7914\n",
      "processing 7937\n",
      "processing 7963\n",
      "processing 8046\n",
      "processing 8216\n",
      "processing 8238\n",
      "processing 8256\n",
      "processing 8265\n",
      "processing 8345\n",
      "processing 8374\n",
      "processing 8396\n",
      "processing 8592\n",
      "processing 8707\n",
      "processing 8731\n",
      "processing 8757\n",
      "processing 8759\n",
      "processing 8813\n",
      "processing 9016\n",
      "processing 9064\n",
      "processing 9074\n",
      "processing 9150\n",
      "processing 9169\n",
      "processing 9194\n",
      "processing 9284\n",
      "processing 9824\n",
      "processing 9924\n",
      "processing 9954\n",
      "processing 9972\n",
      "processing 10019\n",
      "processing 10086\n",
      "processing 10095\n",
      "processing 10124\n",
      "processing 10179\n",
      "processing 10222\n",
      "processing 10263\n",
      "processing 10277\n",
      "processing 10455\n",
      "processing 10510\n",
      "processing 10511\n",
      "processing 10563\n",
      "processing 10579\n",
      "processing 10602\n",
      "processing 10666\n",
      "processing 10794\n",
      "processing 10847\n",
      "processing 10908\n",
      "processing 10926\n",
      "processing 10970\n",
      "processing 11002\n",
      "processing 11019\n",
      "processing 11057\n",
      "processing 11141\n",
      "processing 11210\n",
      "processing 11256\n",
      "processing 11261\n",
      "processing 11305\n",
      "processing 11309\n",
      "processing 11311\n",
      "processing 11318\n",
      "processing 11367\n",
      "processing 11444\n",
      "processing 11455\n",
      "processing 11471\n",
      "processing 11667\n",
      "processing 11678\n",
      "processing 11735\n",
      "processing 11757\n",
      "processing 11799\n",
      "processing 11877\n",
      "processing 11905\n",
      "processing 12027\n",
      "processing 12084\n",
      "processing 12100\n",
      "processing 12115\n",
      "processing 12154\n",
      "processing 12191\n",
      "processing 12381\n",
      "processing 12440\n",
      "processing 12483\n",
      "processing 12552\n",
      "processing 12667\n",
      "processing 12707\n",
      "processing 12755\n",
      "processing 12756\n",
      "processing 12844\n",
      "processing 12919\n",
      "processing 12965\n",
      "processing 13076\n",
      "processing 13137\n",
      "processing 13172\n",
      "processing 13191\n",
      "processing 13196\n",
      "processing 13229\n",
      "processing 13301\n",
      "processing 13395\n",
      "processing 13442\n",
      "processing 13482\n",
      "processing 13506\n",
      "processing 13553\n",
      "processing 13555\n",
      "processing 13614\n",
      "processing 13616\n",
      "processing 13655\n",
      "processing 13677\n",
      "processing 13779\n",
      "processing 13810\n",
      "processing 13881\n",
      "processing 13897\n",
      "processing 13965\n",
      "processing 14084\n",
      "processing 14245\n",
      "processing 14319\n",
      "processing 14321\n",
      "processing 14327\n",
      "processing 14364\n",
      "processing 14383\n",
      "processing 14550\n",
      "processing 14552\n",
      "processing 14623\n",
      "processing 14679\n",
      "processing 14702\n",
      "processing 14735\n",
      "processing 14789\n",
      "processing 14933\n",
      "processing 15019\n",
      "processing 15139\n",
      "processing 15265\n",
      "processing 15331\n",
      "processing 15347\n",
      "processing 15484\n",
      "processing 15509\n",
      "processing 15545\n",
      "processing 15555\n",
      "processing 15613\n",
      "processing 15626\n",
      "processing 15653\n",
      "processing 15690\n",
      "processing 15716\n",
      "processing 15794\n",
      "processing 15802\n",
      "processing 15933\n",
      "processing 15970\n",
      "processing 16217\n",
      "processing 16242\n",
      "processing 16256\n",
      "processing 16291\n",
      "processing 16318\n",
      "processing 16429\n",
      "processing 16509\n",
      "processing 16510\n",
      "processing 16566\n",
      "processing 16632\n",
      "processing 16685\n",
      "processing 16688\n",
      "processing 16745\n",
      "processing 16921\n",
      "processing 17171\n",
      "processing 17268\n",
      "processing 17389\n",
      "processing 17393\n",
      "processing 17458\n",
      "processing 17677\n",
      "processing 17690\n",
      "processing 17959\n",
      "processing 18008\n",
      "processing 18164\n",
      "processing 18454\n",
      "processing 18489\n",
      "processing 18516\n",
      "processing 18557\n",
      "processing 18893\n",
      "processing 19124\n",
      "processing 19151\n",
      "processing 19244\n",
      "processing 19254\n",
      "processing 19376\n",
      "processing 19386\n",
      "processing 19393\n",
      "processing 19542\n",
      "processing 19878\n",
      "processing 19940\n",
      "processing 20123\n",
      "processing 20149\n",
      "processing 20243\n",
      "processing 20496\n",
      "processing 20554\n",
      "processing 20783\n",
      "processing 20968\n",
      "processing 20970\n",
      "processing 21174\n",
      "processing 21304\n",
      "processing 21484\n",
      "processing 21523\n",
      "processing 21569\n",
      "processing 21591\n",
      "processing 21894\n",
      "processing 21904\n",
      "processing 22040\n",
      "processing 22105\n",
      "processing 22345\n",
      "processing 22602\n",
      "processing 22704\n",
      "processing 22884\n",
      "processing 22912\n",
      "processing 22976\n",
      "processing 23258\n",
      "processing 23337\n",
      "processing 23401\n",
      "processing 23631\n",
      "processing 23642\n",
      "processing 23661\n",
      "processing 23812\n",
      "processing 23984\n",
      "processing 24116\n",
      "processing 24232\n",
      "processing 24257\n",
      "processing 24276\n",
      "processing 24389\n",
      "processing 24402\n",
      "processing 24596\n",
      "processing 24735\n",
      "processing 24743\n",
      "processing 25202\n",
      "processing 25361\n",
      "processing 25491\n",
      "processing 25532\n",
      "processing 25656\n",
      "processing 25697\n",
      "processing 25765\n",
      "processing 25934\n",
      "processing 26072\n",
      "processing 26265\n",
      "processing 26300\n",
      "processing 26315\n",
      "processing 26429\n",
      "processing 26435\n",
      "processing 26468\n",
      "processing 26780\n",
      "processing 26888\n",
      "processing 27053\n",
      "processing 27166\n",
      "processing 27178\n",
      "processing 27297\n",
      "processing 27411\n",
      "processing 27578\n",
      "processing 27587\n",
      "processing 27717\n",
      "processing 27773\n",
      "processing 27926\n",
      "processing 28040\n",
      "processing 28235\n",
      "processing 28307\n",
      "processing 28566\n",
      "processing 28835\n",
      "processing 29096\n",
      "processing 29215\n",
      "processing 29249\n",
      "processing 29278\n",
      "processing 29344\n",
      "processing 29374\n",
      "processing 29694\n",
      "processing 29729\n",
      "processing 29787\n",
      "processing 29800\n",
      "processing 29984\n",
      "processing 30124\n",
      "processing 30213\n",
      "processing 30523\n",
      "processing 30585\n",
      "processing 30615\n",
      "processing 30640\n",
      "processing 30729\n",
      "processing 30754\n",
      "processing 30775\n",
      "processing 30841\n",
      "processing 31212\n",
      "processing 31237\n",
      "processing 31287\n",
      "processing 31291\n",
      "processing 31298\n",
      "processing 31736\n",
      "processing 32023\n",
      "processing 32045\n",
      "processing 32108\n",
      "processing 32261\n",
      "processing 32386\n",
      "processing 32427\n",
      "processing 32503\n",
      "processing 32593\n",
      "processing 32685\n",
      "processing 32793\n",
      "processing 32970\n",
      "processing 33122\n",
      "processing 33287\n",
      "processing 33427\n",
      "processing 33492\n",
      "processing 33528\n",
      "processing 33692\n",
      "processing 33722\n",
      "processing 34053\n",
      "processing 34152\n",
      "processing 34266\n",
      "processing 34436\n",
      "processing 34522\n",
      "processing 34767\n",
      "processing 34839\n",
      "processing 34900\n",
      "processing 34978\n",
      "processing 35055\n",
      "processing 35141\n",
      "processing 35180\n",
      "processing 35211\n",
      "processing 35246\n",
      "processing 35368\n",
      "processing 35540\n",
      "processing 35679\n",
      "processing 35755\n",
      "processing 35812\n",
      "processing 36012\n",
      "processing 36122\n",
      "processing 36330\n",
      "processing 36580\n",
      "processing 36689\n",
      "processing 36704\n",
      "processing 36752\n",
      "processing 36842\n",
      "processing 36953\n",
      "processing 37105\n",
      "processing 37163\n",
      "processing 37236\n",
      "processing 37434\n",
      "processing 37496\n",
      "processing 37628\n",
      "processing 37635\n",
      "processing 37698\n",
      "processing 37811\n",
      "processing 38018\n",
      "processing 38243\n",
      "processing 38248\n",
      "processing 38375\n",
      "processing 38512\n",
      "processing 38615\n",
      "processing 38679\n",
      "processing 38844\n",
      "processing 38924\n",
      "processing 38935\n",
      "processing 39030\n",
      "processing 39078\n",
      "processing 39161\n",
      "processing 39171\n",
      "processing 39293\n",
      "processing 39396\n",
      "processing 39490\n",
      "processing 39680\n",
      "processing 39911\n",
      "processing 39947\n",
      "processing 40064\n",
      "processing 40130\n",
      "processing 40294\n",
      "processing 40447\n",
      "processing 40766\n",
      "processing 40885\n",
      "processing 40890\n",
      "processing 40941\n",
      "processing 41002\n",
      "processing 41095\n",
      "processing 41185\n",
      "processing 41289\n",
      "processing 41303\n",
      "processing 41428\n",
      "processing 41630\n",
      "processing 42084\n",
      "processing 42154\n",
      "processing 42226\n",
      "processing 42366\n",
      "processing 42418\n",
      "processing 42499\n",
      "processing 42528\n",
      "processing 42595\n",
      "processing 43070\n",
      "processing 43097\n",
      "processing 43376\n",
      "processing 43422\n",
      "processing 43455\n",
      "processing 43495\n",
      "processing 43508\n",
      "processing 43619\n",
      "processing 43651\n",
      "processing 43662\n",
      "processing 43706\n",
      "processing 43715\n",
      "processing 43852\n",
      "processing 44065\n",
      "processing 44194\n",
      "processing 44323\n",
      "processing 44390\n",
      "processing 44478\n",
      "processing 44913\n",
      "processing 44933\n",
      "processing 44960\n",
      "processing 45014\n",
      "processing 45181\n",
      "processing 45303\n",
      "processing 45441\n",
      "processing 45512\n",
      "processing 45801\n",
      "processing 45865\n",
      "processing 45888\n",
      "processing 46115\n",
      "processing 46185\n",
      "processing 46281\n",
      "processing 46352\n",
      "processing 46355\n",
      "processing 46461\n",
      "processing 46545\n",
      "processing 47004\n",
      "processing 47090\n",
      "processing 47149\n",
      "processing 47443\n",
      "processing 47446\n",
      "processing 47465\n",
      "processing 47505\n",
      "processing 47539\n",
      "processing 47554\n",
      "processing 47774\n",
      "processing 47813\n",
      "processing 47919\n",
      "processing 48152\n",
      "processing 48227\n",
      "processing 48254\n",
      "processing 48357\n",
      "processing 48405\n",
      "processing 48597\n",
      "processing 48965\n",
      "processing 49045\n",
      "processing 49393\n",
      "processing 49434\n",
      "processing 49571\n",
      "processing 49643\n",
      "processing 49714\n",
      "processing 50280\n",
      "processing 50285\n",
      "processing 50528\n",
      "processing 50880\n",
      "processing 50896\n",
      "processing 50966\n",
      "processing 51019\n",
      "processing 51277\n",
      "processing 51289\n",
      "processing 51570\n",
      "processing 51677\n",
      "processing 52381\n",
      "processing 52492\n",
      "processing 53232\n",
      "processing 53380\n",
      "processing 53410\n",
      "processing 53525\n",
      "processing 53605\n",
      "processing 53616\n",
      "processing 53744\n",
      "processing 54871\n",
      "processing 55392\n",
      "processing 55763\n",
      "processing 55811\n",
      "processing 55835\n",
      "processing 56160\n",
      "processing 56178\n",
      "processing 56184\n",
      "processing 56404\n",
      "processing 56937\n",
      "processing 57109\n",
      "processing 57313\n",
      "processing 57652\n",
      "processing 57717\n",
      "processing 57876\n",
      "processing 57908\n",
      "processing 58077\n",
      "processing 58523\n",
      "processing 58571\n",
      "processing 58713\n",
      "processing 58795\n",
      "processing 59194\n",
      "processing 59226\n",
      "processing 59718\n",
      "processing 59768\n",
      "processing 60009\n",
      "processing 60045\n",
      "processing 60202\n",
      "processing 60273\n",
      "processing 60613\n",
      "processing 60914\n",
      "processing 61183\n",
      "processing 61187\n",
      "processing 61711\n",
      "processing 61875\n",
      "processing 62193\n",
      "processing 62222\n",
      "processing 62393\n",
      "processing 62844\n",
      "processing 62954\n",
      "processing 63485\n",
      "processing 63655\n",
      "processing 63726\n",
      "processing 63739\n",
      "processing 63756\n",
      "processing 64097\n",
      "processing 64220\n",
      "processing 64463\n",
      "processing 65007\n",
      "processing 65441\n",
      "processing 65626\n",
      "processing 66007\n",
      "processing 66047\n",
      "processing 66540\n",
      "processing 66593\n",
      "processing 66793\n",
      "processing 67156\n",
      "processing 67279\n",
      "processing 67459\n",
      "processing 67803\n",
      "processing 68059\n",
      "processing 68265\n",
      "processing 68363\n",
      "processing 69333\n",
      "processing 69394\n",
      "processing 70073\n",
      "processing 70108\n",
      "processing 70368\n",
      "processing 70973\n",
      "processing 71306\n",
      "processing 71477\n",
      "processing 71506\n",
      "processing 71843\n",
      "processing 72032\n",
      "processing 72110\n",
      "processing 72396\n",
      "processing 72507\n",
      "processing 73611\n",
      "processing 73625\n",
      "processing 73735\n",
      "processing 74378\n",
      "processing 74568\n",
      "processing 75472\n",
      "processing 75642\n",
      "processing 76038\n",
      "processing 76305\n",
      "processing 76512\n",
      "processing 77205\n",
      "processing 77846\n",
      "processing 78792\n",
      "processing 78820\n",
      "processing 78938\n",
      "processing 79988\n",
      "processing 80313\n",
      "processing 80404\n",
      "processing 82064\n",
      "processing 82514\n",
      "processing 82773\n",
      "processing 83538\n",
      "processing 83542\n",
      "processing 84297\n",
      "processing 84420\n",
      "processing 84554\n",
      "processing 84962\n",
      "processing 85104\n",
      "processing 85156\n",
      "processing 85262\n",
      "processing 86502\n",
      "processing 86568\n",
      "processing 86863\n",
      "processing 86873\n",
      "processing 87615\n",
      "processing 87947\n",
      "processing 88930\n",
      "processing 88950\n",
      "processing 89122\n",
      "processing 89586\n",
      "processing 89921\n",
      "processing 89971\n",
      "processing 90075\n",
      "processing 90196\n",
      "processing 90770\n",
      "processing 91011\n",
      "processing 91479\n",
      "processing 91702\n",
      "processing 92178\n",
      "processing 93167\n",
      "processing 93504\n",
      "processing 93793\n",
      "processing 95256\n",
      "processing 96465\n",
      "processing 96727\n",
      "processing 96895\n",
      "processing 97745\n",
      "processing 97978\n",
      "processing 98107\n",
      "processing 98628\n",
      "processing 98660\n",
      "processing 98716\n",
      "processing 98958\n",
      "processing 99661\n",
      "processing 99865\n",
      "processing 99886\n",
      "processing 100210\n",
      "processing 100342\n",
      "processing 100348\n",
      "processing 101313\n",
      "processing 101429\n",
      "processing 101574\n",
      "processing 101992\n",
      "processing 102031\n",
      "processing 102127\n",
      "processing 102262\n",
      "processing 102474\n",
      "processing 102679\n",
      "processing 102801\n",
      "processing 102814\n",
      "processing 102939\n",
      "processing 103039\n",
      "processing 103283\n",
      "processing 103305\n",
      "processing 103561\n",
      "processing 103713\n",
      "processing 103852\n",
      "processing 103882\n",
      "processing 103928\n",
      "processing 104018\n",
      "processing 104066\n",
      "processing 104568\n",
      "processing 105038\n",
      "processing 105090\n",
      "processing 105385\n",
      "processing 105388\n",
      "processing 105426\n",
      "processing 105457\n",
      "processing 105589\n",
      "processing 106034\n",
      "processing 106124\n",
      "processing 106363\n",
      "processing 106370\n",
      "processing 106384\n",
      "processing 106559\n",
      "processing 107131\n",
      "processing 107442\n",
      "processing 108050\n",
      "processing 108101\n",
      "processing 108127\n",
      "processing 108129\n",
      "processing 108263\n",
      "processing 108748\n",
      "processing 108755\n",
      "processing 108884\n",
      "processing 109404\n",
      "processing 109488\n",
      "processing 109491\n",
      "processing 109636\n",
      "processing 109727\n",
      "processing 109756\n",
      "processing 110016\n",
      "processing 110179\n",
      "processing 110237\n",
      "processing 110657\n",
      "processing 110691\n",
      "processing 110906\n",
      "processing 110908\n",
      "processing 111555\n",
      "processing 111689\n",
      "processing 111911\n",
      "processing 112253\n",
      "processing 112437\n",
      "processing 112696\n",
      "processing 112843\n",
      "processing 112949\n",
      "processing 113068\n",
      "processing 113301\n",
      "processing 114014\n",
      "processing 114180\n",
      "processing 114311\n",
      "processing 114591\n",
      "processing 114680\n",
      "processing 114822\n",
      "processing 115151\n",
      "processing 115595\n",
      "processing 115950\n",
      "processing 116316\n",
      "processing 116523\n",
      "processing 116801\n",
      "processing 116866\n",
      "processing 117182\n",
      "processing 117638\n",
      "processing 117720\n",
      "processing 118096\n",
      "processing 118747\n",
      "processing 119562\n",
      "processing 119609\n",
      "processing 120057\n",
      "processing 120193\n",
      "processing 120545\n",
      "processing 120961\n",
      "processing 120982\n",
      "processing 121071\n",
      "processing 121143\n",
      "processing 123228\n",
      "processing 123690\n",
      "processing 123904\n",
      "processing 123941\n",
      "processing 124160\n",
      "processing 124904\n",
      "processing 125016\n",
      "processing 125141\n",
      "processing 125667\n",
      "processing 126588\n",
      "processing 127101\n",
      "processing 127183\n",
      "processing 127626\n",
      "processing 128286\n",
      "processing 129032\n",
      "processing 129104\n",
      "processing 129395\n",
      "processing 129730\n",
      "processing 130341\n",
      "processing 130658\n",
      "processing 131130\n",
      "processing 131395\n",
      "processing 131786\n",
      "processing 131824\n",
      "processing 132225\n",
      "processing 133057\n",
      "processing 133100\n",
      "processing 133948\n",
      "processing 134023\n",
      "processing 134189\n",
      "processing 134454\n",
      "processing 134755\n",
      "processing 134905\n",
      "processing 135687\n",
      "processing 136169\n",
      "processing 136533\n",
      "processing 137469\n",
      "processing 137537\n",
      "processing 137636\n",
      "processing 137863\n",
      "processing 138804\n",
      "processing 139096\n"
     ]
    }
   ],
   "source": [
    "regional_clusters = get_all_clusters(cutoff=regional_cutoff)"
   ]
  },
  {
   "cell_type": "code",
   "execution_count": null,
   "id": "cec2ab84-4a8e-43a5-b81f-652b9749a5ef",
   "metadata": {},
   "outputs": [],
   "source": []
  },
  {
   "cell_type": "code",
   "execution_count": 11,
   "id": "e62f67c2-b73f-4ece-ad6b-4a325a3a81ed",
   "metadata": {
    "scrolled": true
   },
   "outputs": [],
   "source": [
    "# %%time\n",
    "\n",
    "# ## generate and save linkage matricies for each region\n",
    "# morphotopes_data = []\n",
    "# for region_id, _ in region_hulls.iterrows():\n",
    "#     data = read_region_morphotope_data(region_id)\n",
    "#     morphotopes_data.append(data)\n",
    "\n",
    "# morphotopes_data = pd.concat(morphotopes_data)\n",
    "\n",
    "# regional_ward_morphotopes_data = morphotopes_data.groupby(regional_clusters).agg('median').fillna(0)"
   ]
  },
  {
   "cell_type": "code",
   "execution_count": 12,
   "id": "ce7358cd-4909-40f2-ba03-035d4c550803",
   "metadata": {
    "scrolled": true
   },
   "outputs": [
    {
     "data": {
      "text/plain": [
       "(20891,)"
      ]
     },
     "execution_count": 12,
     "metadata": {},
     "output_type": "execute_result"
    }
   ],
   "source": [
    "np.unique(regional_clusters).shape"
   ]
  },
  {
   "cell_type": "code",
   "execution_count": null,
   "id": "39d8eb87-ca67-4454-b0ce-77ef54e445cc",
   "metadata": {},
   "outputs": [],
   "source": []
  },
  {
   "cell_type": "code",
   "execution_count": null,
   "id": "8c89e081-4a46-4a3e-8d7f-69587b15fafa",
   "metadata": {},
   "outputs": [],
   "source": []
  },
  {
   "cell_type": "code",
   "execution_count": null,
   "id": "9d7de0e8-0e44-4b87-bfc2-bee0d52efb54",
   "metadata": {},
   "outputs": [],
   "source": []
  },
  {
   "cell_type": "code",
   "execution_count": 13,
   "id": "afd59bca-7a2e-4d42-9b12-04402c7c6c13",
   "metadata": {},
   "outputs": [],
   "source": [
    "## have to make sure thansformation is the same everywhere - mean vs meadians, etc"
   ]
  },
  {
   "cell_type": "code",
   "execution_count": 14,
   "id": "06ccb7ae-d841-48be-8011-7a2ae64895ed",
   "metadata": {},
   "outputs": [],
   "source": [
    "# %%time\n",
    "morphotopes_data = read_morphotopes_data(model_params)\n",
    "morphotopes_data = morphotopes_data.loc[regional_clusters.index]\n",
    "morphotopes_data = morphotopes_data.iloc[:, :-1]"
   ]
  },
  {
   "cell_type": "code",
   "execution_count": 15,
   "id": "25675011-615e-49db-8bc4-3005b9abf77b",
   "metadata": {},
   "outputs": [],
   "source": [
    "component_data = morphotopes_data.drop(columns=morphotope_stat_columns, level=1)\n",
    "component_data = component_data.drop(columns=to_drop, level=0)\n",
    "component_data.columns =  component_data.columns.get_level_values(0)"
   ]
  },
  {
   "cell_type": "code",
   "execution_count": 16,
   "id": "d1ebfdea-9d32-496e-9073-329ed2d7217f",
   "metadata": {},
   "outputs": [],
   "source": [
    "grouped_data = component_data.groupby(regional_clusters).agg('median').fillna(0)"
   ]
  },
  {
   "cell_type": "code",
   "execution_count": null,
   "id": "956e86ca-cacb-457e-a14e-9408e10720b8",
   "metadata": {},
   "outputs": [],
   "source": []
  },
  {
   "cell_type": "code",
   "execution_count": 17,
   "id": "4877da71-469e-40b9-8a6b-f79746f21cab",
   "metadata": {},
   "outputs": [],
   "source": [
    "vals = scalar.fit_transform(grouped_data)\n",
    "regional_ward_morphotopes_data = pd.DataFrame(vals, index=grouped_data.index, columns=grouped_data.columns)"
   ]
  },
  {
   "cell_type": "code",
   "execution_count": 18,
   "id": "1d5597b5-8ddc-4015-894c-a783a3ae7e93",
   "metadata": {},
   "outputs": [
    {
     "data": {
      "text/plain": [
       "(np.float64(0.0), np.float64(1.0))"
      ]
     },
     "execution_count": 18,
     "metadata": {},
     "output_type": "execute_result"
    }
   ],
   "source": [
    "stats = regional_ward_morphotopes_data.describe()\n",
    "stats.loc['min', ].min(), stats.loc['max', ].max()"
   ]
  },
  {
   "cell_type": "code",
   "execution_count": 19,
   "id": "bea50a55-3708-41c0-b09e-5badf4044d62",
   "metadata": {},
   "outputs": [],
   "source": [
    "# from sklearn.preprocessing import RobustScaler\n"
   ]
  },
  {
   "cell_type": "code",
   "execution_count": null,
   "id": "29a0462e-e476-4fc7-a4bb-0b0420b57568",
   "metadata": {},
   "outputs": [],
   "source": []
  },
  {
   "cell_type": "code",
   "execution_count": 20,
   "id": "4cde1258-e67b-4f1e-8df1-7d2b418977f8",
   "metadata": {
    "scrolled": true
   },
   "outputs": [],
   "source": [
    "# import umap\n",
    "# n_neighbors = 30\n",
    "# umap_metric = 'euclidean'\n",
    "# reducer = umap.UMAP(n_neighbors=n_neighbors, n_components=10, \n",
    "#                     min_dist=0, negative_sample_rate=50, \n",
    "#                     metric=umap_metric, verbose=True, random_state=1)\n",
    "# embedding = reducer.fit_transform(regional_ward_morphotopes_data)"
   ]
  },
  {
   "cell_type": "code",
   "execution_count": null,
   "id": "00cf2fb4-4f94-4f6b-a6be-7cd51963410e",
   "metadata": {},
   "outputs": [],
   "source": []
  },
  {
   "cell_type": "code",
   "execution_count": null,
   "id": "e194cf11-efef-41c3-98e3-69f8b0eef442",
   "metadata": {},
   "outputs": [],
   "source": []
  },
  {
   "cell_type": "code",
   "execution_count": 21,
   "id": "244349e7-758d-468f-bae0-f451fe03fb61",
   "metadata": {},
   "outputs": [],
   "source": [
    "# region_id = 4\n",
    "# data = read_region_morphotope_data(region_id)\n",
    "# linkage_matrix = get_morphotope_linkage(data)"
   ]
  },
  {
   "cell_type": "markdown",
   "id": "cf306442-cad5-40df-9d23-52bc0a78fe5e",
   "metadata": {},
   "source": [
    "### Final ward clustering"
   ]
  },
  {
   "cell_type": "code",
   "execution_count": 22,
   "id": "a1eefb1a-043e-47ba-b628-013310ec11b2",
   "metadata": {},
   "outputs": [],
   "source": [
    "\n",
    "linkage = 'ward'\n",
    "metric = 'euclidean'"
   ]
  },
  {
   "cell_type": "code",
   "execution_count": 23,
   "id": "ad40f219-7f32-4ca2-83c7-f5ba956dc969",
   "metadata": {},
   "outputs": [
    {
     "name": "stdout",
     "output_type": "stream",
     "text": [
      "CPU times: user 10.5 s, sys: 562 ms, total: 11.1 s\n",
      "Wall time: 11 s\n"
     ]
    }
   ],
   "source": [
    "%%time\n",
    "# linkage_matrix = get_morphotope_linkage(embedding)\n",
    "\n",
    "\n",
    "linkage_matrix = get_morphotope_linkage(regional_ward_morphotopes_data)"
   ]
  },
  {
   "cell_type": "code",
   "execution_count": 28,
   "id": "8ebe4e6e-081d-42ee-a62b-e2763c984c0f",
   "metadata": {},
   "outputs": [
    {
     "data": {
      "image/png": "[encoded data removed]",
      "text/plain": [
       "<Figure size 1000x1000 with 1 Axes>"
      ]
     },
     "metadata": {},
     "output_type": "display_data"
    }
   ],
   "source": [
    "## final dendrogram\n",
    "import matplotlib.pyplot as plt\n",
    "from scipy.cluster.hierarchy import dendrogram\n",
    "fig,ax = plt.subplots(figsize=(10,10))\n",
    "_ = dendrogram(linkage_matrix,ax=ax, no_labels=True)"
   ]
  },
  {
   "cell_type": "code",
   "execution_count": null,
   "id": "36c4e622-3132-4df9-b92a-1f6587967bf6",
   "metadata": {},
   "outputs": [],
   "source": []
  },
  {
   "cell_type": "code",
   "execution_count": null,
   "id": "dfe44a88-9bb3-4266-b734-904972f81533",
   "metadata": {},
   "outputs": [],
   "source": []
  },
  {
   "cell_type": "code",
   "execution_count": null,
   "id": "8b2f3e1c-42d1-4965-8c82-c0eaaf9ae941",
   "metadata": {},
   "outputs": [],
   "source": []
  },
  {
   "cell_type": "code",
   "execution_count": 99,
   "id": "8e590d62-2287-4ac7-be92-3aae380dcb86",
   "metadata": {},
   "outputs": [],
   "source": [
    "final_cutoff = 50"
   ]
  },
  {
   "cell_type": "code",
   "execution_count": 100,
   "id": "f46f3459-8a19-42ee-ae8d-41c0207c3d85",
   "metadata": {
    "scrolled": true
   },
   "outputs": [
    {
     "data": {
      "text/plain": [
       "7     2809\n",
       "2     2525\n",
       "12    2323\n",
       "3     1986\n",
       "5     1908\n",
       "1     1871\n",
       "8     1375\n",
       "11    1337\n",
       "4     1289\n",
       "6     1259\n",
       "10    1194\n",
       "9     1015\n",
       "Name: count, dtype: int64"
      ]
     },
     "execution_count": 100,
     "metadata": {},
     "output_type": "execute_result"
    }
   ],
   "source": [
    "clusters = fcluster(linkage_matrix, t=final_cutoff, criterion='distance')\n",
    "final_clusters = pd.Series(clusters, regional_ward_morphotopes_data.index)\n",
    "# clusters_description = regional_ward_morphotopes_data.groupby(final_clusters).mean()\n",
    "# clusters_description = grouped_data.groupby(final_clusters).mean()\n",
    "final_clusters.value_counts()"
   ]
  },
  {
   "cell_type": "code",
   "execution_count": null,
   "id": "f314839d-2904-4531-8470-6024b4d9fbd9",
   "metadata": {},
   "outputs": [],
   "source": []
  },
  {
   "cell_type": "markdown",
   "id": "c8363ec8-d01c-4a38-8414-18122ae8ffcd",
   "metadata": {},
   "source": [
    "### Plotting"
   ]
  },
  {
   "cell_type": "code",
   "execution_count": 101,
   "id": "a3684835-8efa-4698-853b-ac672f221792",
   "metadata": {},
   "outputs": [],
   "source": [
    "from core.cluster_validation import get_color\n",
    "final_colors = pd.DataFrame(get_color(final_clusters.values), final_clusters.values).drop_duplicates()\n",
    "final_colors.loc[-1] = [255,255,255]"
   ]
  },
  {
   "cell_type": "code",
   "execution_count": null,
   "id": "ac74c1d4-68b6-4df3-84ff-8644047448ba",
   "metadata": {},
   "outputs": [],
   "source": []
  },
  {
   "cell_type": "code",
   "execution_count": 102,
   "id": "84b39fd3-545e-44c4-b4c3-d0910e45d6db",
   "metadata": {},
   "outputs": [],
   "source": [
    "region_id = 69333 \n",
    "\n",
    "\n",
    "# region_id = 5883\n",
    "# region_id = 86873\n",
    "# region_id = 38679\n",
    "# region_id = 55763\n",
    "# region_id = 107131\n",
    "# region_id = 99886"
   ]
  },
  {
   "cell_type": "code",
   "execution_count": 103,
   "id": "96a2f1b7-cc7f-42fa-af4d-4639d52f5f4e",
   "metadata": {},
   "outputs": [],
   "source": [
    "# etcs=False to read buildings, etcs=True for tessellation cells.\n",
    "etcs = morphotopes_to_etcs(region_id, etcs=False, model_params=model_params)"
   ]
  },
  {
   "cell_type": "code",
   "execution_count": null,
   "id": "7953b3fb-7791-44ef-bf95-d012b5a89f36",
   "metadata": {},
   "outputs": [],
   "source": []
  },
  {
   "cell_type": "code",
   "execution_count": 104,
   "id": "f035b610-8863-4f6d-883c-71ad9ec6fbe3",
   "metadata": {},
   "outputs": [],
   "source": [
    "\n",
    "\n",
    "\n",
    "## relabel\n",
    "### regional_clusters = morphotopes -> regional_clusters\n",
    "### final_clusters = regional_clusters -> final_clusters\n",
    "etcs['final'] = etcs['morph'].map(lambda x: final_clusters.loc[regional_clusters.loc[x]] if x in regional_clusters else -1)\n",
    "etcs['regional'] = etcs['morph'].map(lambda x: regional_clusters.loc[x] if x in regional_clusters else \"-1\")\n"
   ]
  },
  {
   "cell_type": "code",
   "execution_count": 105,
   "id": "64f510f5-bcd6-4991-b0b4-a093d825cb87",
   "metadata": {},
   "outputs": [],
   "source": [
    "# ## can run this to change colors on an exisitng layer\n",
    "# layer.get_fill_color = get_color(etcs.final)"
   ]
  },
  {
   "cell_type": "code",
   "execution_count": null,
   "id": "527b448b-2787-4c05-8244-ad871b750dfe",
   "metadata": {},
   "outputs": [],
   "source": []
  },
  {
   "cell_type": "code",
   "execution_count": 106,
   "id": "72996a2c-49c4-47d4-a5f9-607ea6148316",
   "metadata": {},
   "outputs": [],
   "source": [
    "\n",
    "etcs['geometry'] = etcs.simplify(1).to_crs(epsg=4326).make_valid()\n",
    "etcs = etcs[etcs['geometry'].geom_type == 'Polygon']"
   ]
  },
  {
   "cell_type": "code",
   "execution_count": null,
   "id": "170e1f90-5051-41e9-9960-292327a51846",
   "metadata": {},
   "outputs": [],
   "source": []
  },
  {
   "cell_type": "code",
   "execution_count": 107,
   "id": "20df0ab1-9891-4a43-99a6-5d6d64946953",
   "metadata": {},
   "outputs": [
    {
     "name": "stdout",
     "output_type": "stream",
     "text": [
      "CPU times: user 1.09 s, sys: 147 ms, total: 1.24 s\n",
      "Wall time: 1.24 s\n"
     ]
    }
   ],
   "source": [
    "%%time\n",
    "import lonboard\n",
    "# plotting = tessellation[tessellation.index.isin(X_train.index)].copy()\n",
    "layer = lonboard.SolidPolygonLayer.from_geopandas(etcs, opacity=.7)"
   ]
  },
  {
   "cell_type": "code",
   "execution_count": 260,
   "id": "c2546eda-acf3-400e-a606-9c6e66fb0f98",
   "metadata": {},
   "outputs": [],
   "source": [
    "from sidecar import Sidecar\n",
    "sc = Sidecar(title=f'Final Clusters - {final_cutoff}')\n",
    "m = lonboard.Map(layer, basemap_style=lonboard.basemap.CartoBasemap.DarkMatter)\n",
    "with sc:\n",
    "    display(m)"
   ]
  },
  {
   "cell_type": "code",
   "execution_count": 126,
   "id": "2132ca43-075c-49c1-bf38-eba5ef11637b",
   "metadata": {},
   "outputs": [],
   "source": [
    "from core.cluster_validation import get_color\n",
    "layer.get_fill_color = final_colors.loc[etcs.final].values.astype('uint8')"
   ]
  },
  {
   "cell_type": "code",
   "execution_count": null,
   "id": "76bfac0e-d24b-4fab-9318-ef918eec08e4",
   "metadata": {},
   "outputs": [],
   "source": []
  },
  {
   "cell_type": "code",
   "execution_count": 110,
   "id": "25ef0cac-a5f6-4a86-b373-fb0b28a0be7f",
   "metadata": {},
   "outputs": [
    {
     "data": {
      "text/plain": [
       "(12,)"
      ]
     },
     "execution_count": 110,
     "metadata": {},
     "output_type": "execute_result"
    }
   ],
   "source": [
    "etcs.final.value_counts().shape"
   ]
  },
  {
   "cell_type": "code",
   "execution_count": null,
   "id": "6c9d3074-7bbe-4b58-90dd-b021c2d50bfc",
   "metadata": {},
   "outputs": [],
   "source": []
  },
  {
   "cell_type": "code",
   "execution_count": 149,
   "id": "ff0d62f8-94b4-4f24-8322-cfb130ce7daa",
   "metadata": {},
   "outputs": [],
   "source": [
    "grouping = pd.DataFrame()\n",
    "grouping[final_cutoff] = final_clusters"
   ]
  },
  {
   "cell_type": "code",
   "execution_count": null,
   "id": "ea3a7c0d-b6fd-468f-8e70-b089cc85147c",
   "metadata": {},
   "outputs": [],
   "source": []
  },
  {
   "cell_type": "markdown",
   "id": "24bf692f-b863-4b5f-a1c6-f3b5d011316b",
   "metadata": {},
   "source": [
    "### Interactive dendro"
   ]
  },
  {
   "cell_type": "code",
   "execution_count": 44,
   "id": "07c637cd-f1a7-4b67-bbb8-ff2d6981deb1",
   "metadata": {},
   "outputs": [],
   "source": [
    "from core import interactive_dendrogram\n",
    "import jscatter\n",
    "import ipywidgets\n",
    "\n",
    "scatter_df = interactive_dendrogram.get_dendrogram_scatter_data(linkage_matrix)"
   ]
  },
  {
   "cell_type": "code",
   "execution_count": 45,
   "id": "c8945a1d-9038-49b6-82ca-9be0d916ae60",
   "metadata": {},
   "outputs": [],
   "source": [
    "# selected_node = scatter.selection()[0]\n",
    "\n",
    "\n",
    "\n",
    "# children_ids = interactive_dendrogram.get_children(\n",
    "#     linkage_matrix, scatter_df.loc[selected_node, 'child'].astype(int), scatter_df.loc[selected_node, 'parent'].astype(int))\n",
    "# children_morphotopes = regional_ward_morphotopes_data.iloc[children_ids].index\n",
    "\n",
    "\n",
    "# idxs = children_morphotopes\n",
    "# cluster_colors = np.full((etcs.shape[0], 3), 0)\n",
    "# cluster_colors[etcs.regional.isin(idxs)] = [255, 255, 255]\n",
    "# layer.get_fill_color = cluster_colors.astype('uint8')\n",
    "\n",
    "def get_subcluster_children(focus):\n",
    "    child, parent = linkage_matrix[focus - n, 0].astype(int), linkage_matrix[focus - n, 1].astype(int)\n",
    "    children_ids = interactive_dendrogram.get_children(linkage_matrix, child, parent)\n",
    "    children_morphotopes = regional_ward_morphotopes_data.iloc[children_ids].index\n",
    "    return children_morphotopes\n"
   ]
  },
  {
   "cell_type": "code",
   "execution_count": 218,
   "id": "db97e05e-1c6d-4334-bd3a-2358751552d9",
   "metadata": {},
   "outputs": [
    {
     "data": {
      "application/vnd.jupyter.widget-view+json": {
       "model_id": "98a4b7f600a0408090958269a2d6ea94",
       "version_major": 2,
       "version_minor": 0
      },
      "text/plain": [
       "HBox(children=(VBox(children=(Button(button_style='primary', icon='arrows', layout=Layout(width='36px'), style…"
      ]
     },
     "execution_count": 218,
     "metadata": {},
     "output_type": "execute_result"
    }
   ],
   "source": [
    "scatter = jscatter.Scatter(data=scatter_df, x='x', y='y', connect='group1', height=640, width=1280)\n",
    "scatter.axes(grid=True)\n",
    "scatter.connect(by='group1', order='order1')\n",
    "click_history = dict()\n",
    "# output = ipywidgets.Output()\n",
    "\n",
    "# @output.capture(clear_output=True)\n",
    "# def selection_change_handler(change):\n",
    "#     display(scatter_df.loc[change.new].style.hide(axis='index'))\n",
    "            \n",
    "# scatter.widget.observe(selection_change_handler, names=[\"selection\"])\n",
    "\n",
    "# ipywidgets.HBox([scatter.show(), output])\n",
    "scatter.show()"
   ]
  },
  {
   "cell_type": "code",
   "execution_count": 241,
   "id": "154d24bd-0ea1-4184-87f4-d6dda1427449",
   "metadata": {},
   "outputs": [],
   "source": [
    "selected_node = scatter.selection()[0]\n",
    "\n",
    "n = linkage_matrix.shape[0] + 1\n",
    "\n",
    "left = scatter_df.loc[selected_node, 'child'].astype(int)\n",
    "right = scatter_df.loc[selected_node, 'parent'].astype(int)\n",
    "\n",
    "left_children = get_subcluster_children(left)\n",
    "right_children = get_subcluster_children(right)\n",
    "\n",
    "cluster_colors = np.full((etcs.shape[0], 3), 0) # everything black\n",
    "cluster_colors[etcs.regional.isin(left_children)] = [141,211,199] # left blue - 1\n",
    "cluster_colors[etcs.regional.isin(right_children)] = [255,255,179] # right yellow - 2\n",
    "layer.get_fill_color = cluster_colors.astype('uint8')"
   ]
  },
  {
   "cell_type": "code",
   "execution_count": 242,
   "id": "318b5f55-b82e-4609-99da-13551ede30da",
   "metadata": {},
   "outputs": [
    {
     "data": {
      "text/plain": [
       "mibCou    0.595999\n",
       "mtbSWR    0.550844\n",
       "ltcBuA   -0.370371\n",
       "sscERI   -0.333876\n",
       "sscCCo   -0.297764\n",
       "sdsSWD    0.286972\n",
       "ssbCCD   -0.248843\n",
       "mibERI   -0.247981\n",
       "ssbERI    0.225213\n",
       "midRea    0.213447\n",
       "ldsRea    0.186805\n",
       "ssbCCo    0.180264\n",
       "linWID   -0.178422\n",
       "sdbAre   -0.177039\n",
       "sssLin   -0.171587\n",
       "stbSAl    0.169844\n",
       "lddNDe   -0.168780\n",
       "sdbPer   -0.165964\n",
       "mtbNDi   -0.163384\n",
       "ldsMSL    0.155310\n",
       "dtype: float64"
      ]
     },
     "execution_count": 242,
     "metadata": {},
     "output_type": "execute_result"
    }
   ],
   "source": [
    "left_data = regional_ward_morphotopes_data.loc[left_children].mean()\n",
    "right_data = regional_ward_morphotopes_data.loc[right_children].mean()\n",
    "# assert np.isclose(pd.DataFrame({1:left_data, 2: right_data}).T.values, clusters_description.values).all()\n",
    "\n",
    "diffs = (left_data - right_data)\n",
    "diffs = diffs[(diffs ** 2).sort_values(ascending=False).index].head(20)\n",
    "diffs"
   ]
  },
  {
   "cell_type": "code",
   "execution_count": 243,
   "id": "c3dd4054-751e-4423-acac-6b5e3774386d",
   "metadata": {},
   "outputs": [
    {
     "data": {
      "text/plain": [
       "np.uint32(35908)"
      ]
     },
     "execution_count": 243,
     "metadata": {},
     "output_type": "execute_result"
    }
   ],
   "source": [
    "selected_node"
   ]
  },
  {
   "cell_type": "code",
   "execution_count": 240,
   "id": "8f79878f-5801-4cae-a0e1-d041f79c1618",
   "metadata": {},
   "outputs": [
    {
     "data": {
      "text/plain": [
       "'local node density of street network'"
      ]
     },
     "execution_count": 240,
     "metadata": {},
     "output_type": "execute_result"
    }
   ],
   "source": [
    "used_keys['lddNDe']"
   ]
  },
  {
   "cell_type": "code",
   "execution_count": null,
   "id": "93cb6169-ca63-43d5-b9fb-71d5113d526d",
   "metadata": {},
   "outputs": [],
   "source": [
    "# ## save for cutting...\n",
    "# click_history[selected_node] = diffs"
   ]
  },
  {
   "cell_type": "code",
   "execution_count": null,
   "id": "8f84cf37-0af1-4942-ba5e-95e56a3f3d63",
   "metadata": {},
   "outputs": [],
   "source": []
  },
  {
   "cell_type": "code",
   "execution_count": null,
   "id": "2456a99d-3a2a-4a00-b9b1-e1b3f130ef56",
   "metadata": {},
   "outputs": [],
   "source": []
  },
  {
   "cell_type": "code",
   "execution_count": null,
   "id": "b17afeef-675b-4023-94d5-d19634681572",
   "metadata": {},
   "outputs": [],
   "source": []
  },
  {
   "cell_type": "code",
   "execution_count": 244,
   "id": "1e78fc65-d213-4fda-8e94-4fe6c15d3aae",
   "metadata": {},
   "outputs": [],
   "source": [
    "## assign clusters"
   ]
  },
  {
   "cell_type": "code",
   "execution_count": 292,
   "id": "7fb98fef-5ede-42bc-9407-b0f50f9b7697",
   "metadata": {},
   "outputs": [],
   "source": [
    "final_cutoff = 50\n",
    "clusters = fcluster(linkage_matrix, t=final_cutoff, criterion='distance')\n",
    "final_clusters = pd.Series(clusters, regional_ward_morphotopes_data.index)\n",
    "\n",
    "grouping = pd.DataFrame()\n",
    "grouping[final_cutoff] = final_clusters.astype(str)"
   ]
  },
  {
   "cell_type": "code",
   "execution_count": 293,
   "id": "4fc308bf-d171-4023-a96a-6061b62b2a7c",
   "metadata": {},
   "outputs": [],
   "source": [
    "# for selected_node in click_history.keys():\n",
    "for selected_node in [6421, 6887, 28557, 15017, 35908]:\n",
    "\n",
    "    left = scatter_df.loc[selected_node, 'child'].astype(int)\n",
    "    right = scatter_df.loc[selected_node, 'parent'].astype(int)\n",
    "    \n",
    "    left_children = get_subcluster_children(left)\n",
    "    right_children = get_subcluster_children(right)\n",
    "    \n",
    "    grouping.loc[left_children, round(scatter_df.loc[selected_node, 'dist'], 2)] = str(selected_node) + '1'\n",
    "    grouping.loc[right_children, round(scatter_df.loc[selected_node, 'dist'], 2)] = str(selected_node) + '2'"
   ]
  },
  {
   "cell_type": "code",
   "execution_count": 294,
   "id": "a649535b-141d-4462-bb34-3b340ecac1fc",
   "metadata": {},
   "outputs": [],
   "source": [
    "ordered_columns = grouping.columns.sort_values()\n",
    "grouping = grouping[ordered_columns]\n",
    "\n",
    "# forward cluster breakdowns to higher levels\n",
    "for i, col in enumerate(ordered_columns[:-1]):\n",
    "    grouping.iloc[grouping[col].notna().values, i + 1] = grouping.loc[grouping[col].notna(), col]  "
   ]
  },
  {
   "cell_type": "code",
   "execution_count": null,
   "id": "09c3d3ad-72f8-4760-b252-57d7983ea89c",
   "metadata": {},
   "outputs": [],
   "source": []
  },
  {
   "cell_type": "code",
   "execution_count": 295,
   "id": "31ca3561-832a-4322-9f3b-14ef1fd6cdd8",
   "metadata": {},
   "outputs": [],
   "source": [
    "merged_clusters = grouping[50.00]\n",
    "merged_clusters = pd.Series(merged_clusters.factorize()[0], merged_clusters.index)"
   ]
  },
  {
   "cell_type": "code",
   "execution_count": 296,
   "id": "9c198691-4e1b-4b09-9f30-d9e4a21e2f03",
   "metadata": {},
   "outputs": [],
   "source": [
    "layer.get_fill_color = get_color(etcs['regional'].map(merged_clusters.to_dict()).fillna(-1).astype(int))"
   ]
  },
  {
   "cell_type": "code",
   "execution_count": null,
   "id": "9926731a-b552-474a-9f9a-bac0c10de2cb",
   "metadata": {},
   "outputs": [],
   "source": []
  },
  {
   "cell_type": "code",
   "execution_count": null,
   "id": "b8dc93f2-365d-4b60-8f00-6cde0052cc16",
   "metadata": {},
   "outputs": [],
   "source": []
  },
  {
   "cell_type": "code",
   "execution_count": null,
   "id": "36e72701-6ba6-4ce3-993d-b25c9afdbbda",
   "metadata": {},
   "outputs": [],
   "source": []
  },
  {
   "cell_type": "code",
   "execution_count": null,
   "id": "c12f8f3f-2cda-4b47-aaf2-e33c8ffe8d65",
   "metadata": {},
   "outputs": [],
   "source": []
  },
  {
   "cell_type": "code",
   "execution_count": null,
   "id": "55709922-a78a-43a3-a471-263e2190810a",
   "metadata": {},
   "outputs": [],
   "source": []
  },
  {
   "cell_type": "code",
   "execution_count": 183,
   "id": "59545974-c24b-41f6-af31-7d205e44d4fa",
   "metadata": {},
   "outputs": [
    {
     "data": {
      "text/plain": [
       "Index(['100210_10', '100342_18', '100342_19', '101313_1', '101574_1',\n",
       "       '101992_10', '102127_13', '102262_42', '102801_8', '102939_2',\n",
       "       ...\n",
       "       '97745_1', '97745_2', '97978_10', '98107_9', '98660_19', '98716_12',\n",
       "       '98958_2', '99865_28', '99886_6', '99886_7'],\n",
       "      dtype='object', length=233)"
      ]
     },
     "execution_count": 183,
     "metadata": {},
     "output_type": "execute_result"
    }
   ],
   "source": [
    "left_children"
   ]
  },
  {
   "cell_type": "code",
   "execution_count": 184,
   "id": "18a84195-6352-4abf-beb7-da6584b80d1d",
   "metadata": {},
   "outputs": [
    {
     "data": {
      "text/plain": [
       "Index(['100210_11', '100342_14', '100342_15', '102127_12', '102262_44',\n",
       "       '102801_7', '102814_9', '102939_1', '103561_13', '103561_15',\n",
       "       ...\n",
       "       '96465_3', '96727_6', '97745_3', '97745_5', '97745_6', '97745_7',\n",
       "       '98107_7', '98628_9', '98716_2', '98958_5'],\n",
       "      dtype='object', length=223)"
      ]
     },
     "execution_count": 184,
     "metadata": {},
     "output_type": "execute_result"
    }
   ],
   "source": [
    "right_children"
   ]
  },
  {
   "cell_type": "code",
   "execution_count": null,
   "id": "55e40510-05f9-4bd1-898b-30795bde8f5b",
   "metadata": {},
   "outputs": [],
   "source": []
  },
  {
   "cell_type": "code",
   "execution_count": 55,
   "id": "49e3f4d2-c3c0-4764-a4cf-3f83dea309ee",
   "metadata": {
    "scrolled": true
   },
   "outputs": [
    {
     "data": {
      "text/plain": [
       "349    180\n",
       "291    158\n",
       "31     156\n",
       "251    154\n",
       "15     142\n",
       "      ... \n",
       "322     19\n",
       "111     19\n",
       "152     17\n",
       "313     17\n",
       "149     16\n",
       "Name: count, Length: 360, dtype: int64"
      ]
     },
     "execution_count": 55,
     "metadata": {},
     "output_type": "execute_result"
    }
   ],
   "source": [
    "clusters = fcluster(linkage_matrix, t=final_cutoff, criterion='distance')\n",
    "final_clusters = pd.Series(clusters, regional_ward_morphotopes_data.index)\n",
    "clusters_description = regional_ward_morphotopes_data.groupby(final_clusters).mean()\n",
    "# clusters_description = grouped_data.groupby(final_clusters).mean()\n",
    "final_clusters.value_counts()"
   ]
  },
  {
   "cell_type": "code",
   "execution_count": 147,
   "id": "21c888bc-42c3-44f5-988e-2324b1a41cb8",
   "metadata": {},
   "outputs": [],
   "source": []
  },
  {
   "cell_type": "code",
   "execution_count": 56,
   "id": "58b160e8-ef89-4e68-a801-3aeb9ccfe105",
   "metadata": {},
   "outputs": [],
   "source": [
    "multiple_clusters = pd.DataFrame()"
   ]
  },
  {
   "cell_type": "code",
   "execution_count": 57,
   "id": "fc79919b-d8ae-4c5f-9635-d11d594520ac",
   "metadata": {},
   "outputs": [],
   "source": [
    "multiple_clusters[selected_node] = final_clusters"
   ]
  },
  {
   "cell_type": "code",
   "execution_count": null,
   "id": "6b41a340-0fb3-4dc9-a5bc-8fb61f615154",
   "metadata": {},
   "outputs": [],
   "source": []
  },
  {
   "cell_type": "code",
   "execution_count": null,
   "id": "81b5e2ed-20dd-44ba-ac6e-59ca53aacb9f",
   "metadata": {},
   "outputs": [],
   "source": []
  },
  {
   "cell_type": "code",
   "execution_count": null,
   "id": "e10e6cae-1f7c-4293-bbd8-af901fa406e2",
   "metadata": {},
   "outputs": [],
   "source": []
  },
  {
   "cell_type": "code",
   "execution_count": null,
   "id": "658a4c25-b864-48bb-a3ba-5707a211d7f4",
   "metadata": {},
   "outputs": [],
   "source": []
  },
  {
   "cell_type": "code",
   "execution_count": null,
   "id": "4e45304b-3362-4474-a7ee-18da8241bb27",
   "metadata": {},
   "outputs": [],
   "source": []
  },
  {
   "cell_type": "code",
   "execution_count": null,
   "id": "a94c62f3-f4b4-42a9-8c2a-096532e62309",
   "metadata": {},
   "outputs": [],
   "source": []
  },
  {
   "cell_type": "code",
   "execution_count": null,
   "id": "a1f9ecad-e616-44c4-a6b6-096342f493e2",
   "metadata": {},
   "outputs": [],
   "source": []
  },
  {
   "cell_type": "code",
   "execution_count": null,
   "id": "7cee7f49-6044-4966-bd57-21d8d0c32533",
   "metadata": {},
   "outputs": [],
   "source": []
  },
  {
   "cell_type": "code",
   "execution_count": 523,
   "id": "8b42b502-f9d9-4113-b2dc-5fe3f67ca0c0",
   "metadata": {},
   "outputs": [],
   "source": [
    "from sklearn.neighbors import KDTree"
   ]
  },
  {
   "cell_type": "code",
   "execution_count": 524,
   "id": "f54789ea-b9c6-43a5-85cc-2d0b9e538843",
   "metadata": {},
   "outputs": [],
   "source": [
    "tree = KDTree(regional_ward_morphotopes_data.values)"
   ]
  },
  {
   "cell_type": "code",
   "execution_count": 527,
   "id": "85940f8e-2742-4ccb-90e8-c096bb334dd4",
   "metadata": {},
   "outputs": [],
   "source": [
    "dists, idxs = tree.query(regional_ward_morphotopes_data.loc[['69333_66']], k=100)"
   ]
  },
  {
   "cell_type": "code",
   "execution_count": 528,
   "id": "f2f35f17-1a41-496a-b24d-f0affa4589a9",
   "metadata": {},
   "outputs": [
    {
     "data": {
      "text/plain": [
       "Index(['69333_66', '62954_18', '114311_66', '35141_1', '97745_5', '78792_11',\n",
       "       '1154_19', '109491_60', '105385_4', '107131_445', '97745_3',\n",
       "       '105090_15', '78938_32', '93793_17', '72396_10', '61183_2', '116866_31',\n",
       "       '107131_447', '86873_39', '67156_11', '62954_16', '83538_29',\n",
       "       '80404_68', '18557_91', '51289_3', '130658_17', '64220_42', '75642_5',\n",
       "       '62193_4', '90196_6', '87947_3', '93167_16', '73611_9', '107131_441',\n",
       "       '114311_65', '84554_38', '108884_27', '1154_18', '61187_17',\n",
       "       '109491_63', '110908_2', '103561_13', '107131_456', '90770_55',\n",
       "       '67803_4', '93504_7', '82514_3', '120961_8', '114311_64', '78938_31',\n",
       "       '53525_2', '86863_4', '116866_32', '97745_6', '90075_1', '93793_10',\n",
       "       '103713_6', '88950_2', '96465_1', '97978_10', '84962_7', '128286_16',\n",
       "       '93167_15', '109491_59', '80313_11', '102814_9', '84420_6', '55763_24',\n",
       "       '85156_4', '89921_2', '72507_21', '76038_20', '129730_34', '82773_14',\n",
       "       '96727_11', '75472_39', '68265_18', '89586_12', '91011_11', '67279_3',\n",
       "       '90196_7', '64220_7', '93167_14', '93793_45', '87947_4', '69333_64',\n",
       "       '56184_8', '55763_23', '109491_62', '102801_8', '87615_8', '86863_5',\n",
       "       '63756_2', '93793_18', '105385_2', '64463_13', '131824_5', '98716_2',\n",
       "       '4_895', '102262_42'],\n",
       "      dtype='object')"
      ]
     },
     "execution_count": 528,
     "metadata": {},
     "output_type": "execute_result"
    }
   ],
   "source": [
    "regional_ward_morphotopes_data.iloc[idxs[0]].index"
   ]
  },
  {
   "cell_type": "code",
   "execution_count": null,
   "id": "8efa7e4b-607f-43a2-a07c-ea2be5a0a209",
   "metadata": {},
   "outputs": [],
   "source": []
  },
  {
   "cell_type": "code",
   "execution_count": 139,
   "id": "06ee9724-6e58-4dd9-92f6-ff67a4a784dd",
   "metadata": {},
   "outputs": [],
   "source": [
    "# etcs[etcs.regional == '69333_64'].explore()"
   ]
  },
  {
   "cell_type": "code",
   "execution_count": null,
   "id": "dad21d25-bd56-4036-9481-d9c4407e75f3",
   "metadata": {},
   "outputs": [],
   "source": []
  }
 ],
 "metadata": {
  "kernelspec": {
   "display_name": "Python 3 (ipykernel)",
   "language": "python",
   "name": "python3"
  },
  "language_info": {
   "codemirror_mode": {
    "name": "ipython",
    "version": 3
   },
   "file_extension": ".py",
   "mimetype": "text/x-python",
   "name": "python",
   "nbconvert_exporter": "python",
   "pygments_lexer": "ipython3",
   "version": "3.12.5"
  }
 },
 "nbformat": 4,
 "nbformat_minor": 5
}
