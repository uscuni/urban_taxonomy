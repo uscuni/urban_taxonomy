{
 "cells": [
  {
   "cell_type": "code",
   "execution_count": 1,
   "id": "4fb58956-1f6c-4dd0-ba41-f79164bbd775",
   "metadata": {},
   "outputs": [],
   "source": [
    "import momepy as mm\n",
    "import numpy as np\n",
    "import numba\n",
    "import geopandas as gpd\n",
    "import pandas as pd\n",
    "import shapely\n",
    "from sklearn.preprocessing import StandardScaler\n",
    "from collections import namedtuple\n",
    "from core.cluster_validation import get_linkage_matrix\n",
    "from libpysal.graph import read_parquet, Graph\n",
    "from core.generate_context import spatially_weighted_partial_lag\n",
    "from core.generate_clusters import preprocess_clustering_data\n",
    "from sklearn.cluster import AgglomerativeClustering\n",
    "from core.cluster_validation import get_linkage_matrix\n",
    "from scipy.cluster.hierarchy import fcluster\n",
    "from core.utils import used_keys"
   ]
  },
  {
   "cell_type": "code",
   "execution_count": null,
   "id": "89b7014a-e313-440c-a658-53f4fbe2671d",
   "metadata": {},
   "outputs": [],
   "source": []
  },
  {
   "cell_type": "code",
   "execution_count": 2,
   "id": "89415dbe-7081-4be6-8824-3a5adb7b1966",
   "metadata": {},
   "outputs": [],
   "source": [
    "regions_datadir = \"/data/uscuni-ulce/\"\n",
    "morphotopes_dir = '/data/uscuni-ulce/processed_data/morphotopes/'\n",
    "model_params = '_75_0_None_None_False'\n",
    "clip = None\n",
    "to_drop = [\n",
    "        'stcSAl','stbOri','stcOri','stbCeA',\n",
    "        'ldkAre', 'ldkPer', 'lskCCo', 'lskERI','lskCWA', 'ltkOri', 'ltkWNB', 'likWBB', 'likWCe',\n",
    "          # 'licBAD',\n",
    "    # 'misBAD',\n",
    "    # 'ssbCCM','ssbCCD'    \n",
    "]\n",
    "\n",
    "\n",
    "linkage = 'ward'\n",
    "metric = 'euclidean'\n",
    "\n",
    "morphotope_stat_columns = ['percentile_25', 'percentile_75', 'mean', 'std']"
   ]
  },
  {
   "cell_type": "code",
   "execution_count": 3,
   "id": "86302c5f-263c-4390-bb69-3b16ce654a95",
   "metadata": {},
   "outputs": [],
   "source": [
    "def preprocess_data(data, scalar, drop_columns=morphotope_stat_columns):\n",
    "    component_data = data.drop(columns=drop_columns, level=1)\n",
    "    component_data = component_data.drop(columns=to_drop, level=0)\n",
    "    component_data.columns =  component_data.columns.get_level_values(0)\n",
    "    \n",
    "    component_data = component_data[component_data.index.str[-2:] != '-1']\n",
    "    \n",
    "    vals = scalar.fit_transform(component_data)\n",
    "    component_data = pd.DataFrame(vals, columns=component_data.columns, index=component_data.index)\n",
    "    component_data = component_data.drop(component_data.columns[component_data.std() == 0], axis=1)\n",
    "    \n",
    "    # component_data = component_data[component_data.index >= 0]\n",
    "    vals = np.nan_to_num(component_data)\n",
    "    component_data = pd.DataFrame(vals, columns=component_data.columns, index=component_data.index)\n",
    "    return component_data\n",
    "\n",
    "def read_region_morphotope_data(region_id, scalar):\n",
    "    print('processing' , region_id)\n",
    "    data = pd.read_parquet(f'{morphotopes_dir}data_morphotopes_{region_id}{model_params}.pq')\n",
    "    data.index = str(region_id) + '_' + data.index\n",
    "    data = data.iloc[:, :-1]\n",
    "    component_data = preprocess_data(data, scalar)\n",
    "\n",
    "    return component_data\n",
    "\n",
    "def get_morphotope_linkage(region_data):\n",
    "    \n",
    "    clusterer = AgglomerativeClustering(linkage=linkage,\n",
    "                                        metric=metric,\n",
    "                                        compute_full_tree=True,\n",
    "                                        compute_distances=True)\n",
    "    model = clusterer.fit(region_data)\n",
    "    linkage_matrix = get_linkage_matrix(model)\n",
    "    return linkage_matrix\n",
    "\n",
    "\n",
    "def get_all_clusters(cutoff):\n",
    "    \n",
    "    all_clusters = []\n",
    "    \n",
    "    for region_id, _ in region_hulls.iterrows():\n",
    "        data = read_region_morphotope_data(region_id, scalar=StandardScaler())\n",
    "        region_index = data.index\n",
    "        linkage_matrix = np.load(f'/data/uscuni-ulce/processed_data/morphotope_linkage/{linkage}_{metric}_{region_id}.npy')\n",
    "        clusters = fcluster(linkage_matrix, t=cutoff, criterion='distance')\n",
    "        clusters = pd.Series(clusters, region_index).astype(str)\n",
    "        clusters = str(region_id) + '_' +clusters\n",
    "        all_clusters.append(clusters)\n",
    "    \n",
    "    all_clusters = pd.concat(all_clusters)\n",
    "    \n",
    "    return all_clusters\n",
    "\n",
    "\n",
    "def read_morphotopes_data(model_params):\n",
    "    \n",
    "    data = []\n",
    "    for region_id, _ in region_hulls.iterrows():\n",
    "        region_morphotope_data = pd.read_parquet(f'{morphotopes_dir}data_morphotopes_{region_id}{model_params}.pq')\n",
    "        region_morphotope_data.index = str(region_id) + '_' + region_morphotope_data.index.str[:]\n",
    "        data.append(region_morphotope_data)\n",
    "    \n",
    "    data = pd.concat(data)\n",
    "    return data\n",
    "\n",
    "def morphotopes_to_etcs(region_id, etcs=True, model_params='_100_0_None_None_False'):\n",
    "\n",
    "\n",
    "    if etcs:\n",
    "        etcs = gpd.read_parquet(f'/data/uscuni-ulce/processed_data/tessellations/tessellation_{region_id}.parquet')\n",
    "\n",
    "    else:\n",
    "        etcs = gpd.read_parquet(f'/data/uscuni-ulce/processed_data/buildings/buildings_{region_id}.parquet')\n",
    "        \n",
    "    etcs['label'] = -1\n",
    "    \n",
    "    morphotopes = pd.read_parquet(f'/data/uscuni-ulce/processed_data/morphotopes/tessellation_labels_morphotopes_{region_id}{model_params}.pq')\n",
    "    morphotopes.loc[:, 'morphotope_label'] =  morphotopes.values[:, 0]\n",
    "\n",
    "    morph_dict = pd.Series(np.arange(np.unique(morphotopes.values).shape[0]),\n",
    "                       np.unique(morphotopes.values))\n",
    "    etcs.loc[morphotopes.index, 'label'] = morphotopes.map(lambda x: morph_dict.loc[x]).values\n",
    "    etcs['morph'] = str(region_id) + '_' + '-1'\n",
    "    etcs.loc[morphotopes.index, 'morph'] = str(region_id) + '_' + morphotopes.values\n",
    "    return etcs"
   ]
  },
  {
   "cell_type": "code",
   "execution_count": null,
   "id": "048e45cb-4b25-45aa-9221-a1381e46c6dc",
   "metadata": {},
   "outputs": [],
   "source": []
  },
  {
   "cell_type": "code",
   "execution_count": null,
   "id": "6735cf4e-7ad3-4c01-a2e3-88a9c4cd514a",
   "metadata": {},
   "outputs": [],
   "source": []
  },
  {
   "cell_type": "code",
   "execution_count": 4,
   "id": "0cc41cce-654b-4c19-8506-52152f53faf7",
   "metadata": {},
   "outputs": [],
   "source": [
    "region_hulls = gpd.read_parquet(\n",
    "        regions_datadir + \"regions/\" + \"cadastre_regions_hull.parquet\"\n",
    ")"
   ]
  },
  {
   "cell_type": "code",
   "execution_count": 5,
   "id": "a0ea5365-6769-406b-8759-3d82369c1793",
   "metadata": {},
   "outputs": [],
   "source": [
    "from sklearn.preprocessing import StandardScaler, QuantileTransformer\n",
    "scalar = QuantileTransformer(subsample=None)"
   ]
  },
  {
   "cell_type": "code",
   "execution_count": 6,
   "id": "3c76470d-0dc1-4609-83b5-11530ac3b6b0",
   "metadata": {
    "scrolled": true
   },
   "outputs": [
    {
     "name": "stdout",
     "output_type": "stream",
     "text": [
      "processing 4\n",
      "processing 10\n",
      "processing 132\n",
      "processing 134\n",
      "processing 286\n",
      "processing 313\n",
      "processing 400\n",
      "processing 523\n",
      "processing 765\n"
     ]
    },
    {
     "name": "stderr",
     "output_type": "stream",
     "text": [
      "/home/krasen/urban_taxonomy/.pixi/envs/default/lib/python3.12/site-packages/sklearn/preprocessing/_data.py:2785: UserWarning: n_quantiles (1000) is greater than the total number of samples (184). n_quantiles is set to n_samples.\n",
      "  warnings.warn(\n",
      "/home/krasen/urban_taxonomy/.pixi/envs/default/lib/python3.12/site-packages/sklearn/preprocessing/_data.py:2785: UserWarning: n_quantiles (1000) is greater than the total number of samples (161). n_quantiles is set to n_samples.\n",
      "  warnings.warn(\n",
      "/home/krasen/urban_taxonomy/.pixi/envs/default/lib/python3.12/site-packages/sklearn/preprocessing/_data.py:2785: UserWarning: n_quantiles (1000) is greater than the total number of samples (96). n_quantiles is set to n_samples.\n",
      "  warnings.warn(\n",
      "/home/krasen/urban_taxonomy/.pixi/envs/default/lib/python3.12/site-packages/sklearn/preprocessing/_data.py:2785: UserWarning: n_quantiles (1000) is greater than the total number of samples (297). n_quantiles is set to n_samples.\n",
      "  warnings.warn(\n",
      "/home/krasen/urban_taxonomy/.pixi/envs/default/lib/python3.12/site-packages/sklearn/preprocessing/_data.py:2785: UserWarning: n_quantiles (1000) is greater than the total number of samples (174). n_quantiles is set to n_samples.\n",
      "  warnings.warn(\n",
      "/home/krasen/urban_taxonomy/.pixi/envs/default/lib/python3.12/site-packages/sklearn/preprocessing/_data.py:2785: UserWarning: n_quantiles (1000) is greater than the total number of samples (496). n_quantiles is set to n_samples.\n",
      "  warnings.warn(\n",
      "/home/krasen/urban_taxonomy/.pixi/envs/default/lib/python3.12/site-packages/sklearn/preprocessing/_data.py:2785: UserWarning: n_quantiles (1000) is greater than the total number of samples (749). n_quantiles is set to n_samples.\n",
      "  warnings.warn(\n"
     ]
    },
    {
     "name": "stdout",
     "output_type": "stream",
     "text": [
      "processing 801\n",
      "processing 832\n",
      "processing 913\n",
      "processing 960\n",
      "processing 1124\n",
      "processing 1154\n"
     ]
    },
    {
     "name": "stderr",
     "output_type": "stream",
     "text": [
      "/home/krasen/urban_taxonomy/.pixi/envs/default/lib/python3.12/site-packages/sklearn/preprocessing/_data.py:2785: UserWarning: n_quantiles (1000) is greater than the total number of samples (635). n_quantiles is set to n_samples.\n",
      "  warnings.warn(\n",
      "/home/krasen/urban_taxonomy/.pixi/envs/default/lib/python3.12/site-packages/sklearn/preprocessing/_data.py:2785: UserWarning: n_quantiles (1000) is greater than the total number of samples (182). n_quantiles is set to n_samples.\n",
      "  warnings.warn(\n",
      "/home/krasen/urban_taxonomy/.pixi/envs/default/lib/python3.12/site-packages/sklearn/preprocessing/_data.py:2785: UserWarning: n_quantiles (1000) is greater than the total number of samples (201). n_quantiles is set to n_samples.\n",
      "  warnings.warn(\n",
      "/home/krasen/urban_taxonomy/.pixi/envs/default/lib/python3.12/site-packages/sklearn/preprocessing/_data.py:2785: UserWarning: n_quantiles (1000) is greater than the total number of samples (342). n_quantiles is set to n_samples.\n",
      "  warnings.warn(\n",
      "/home/krasen/urban_taxonomy/.pixi/envs/default/lib/python3.12/site-packages/sklearn/preprocessing/_data.py:2785: UserWarning: n_quantiles (1000) is greater than the total number of samples (406). n_quantiles is set to n_samples.\n",
      "  warnings.warn(\n"
     ]
    },
    {
     "name": "stdout",
     "output_type": "stream",
     "text": [
      "processing 1387\n",
      "processing 1478\n",
      "processing 1515\n",
      "processing 1605\n",
      "processing 1718\n",
      "processing 1736\n",
      "processing 1782\n",
      "processing 1970\n"
     ]
    },
    {
     "name": "stderr",
     "output_type": "stream",
     "text": [
      "/home/krasen/urban_taxonomy/.pixi/envs/default/lib/python3.12/site-packages/sklearn/preprocessing/_data.py:2785: UserWarning: n_quantiles (1000) is greater than the total number of samples (186). n_quantiles is set to n_samples.\n",
      "  warnings.warn(\n",
      "/home/krasen/urban_taxonomy/.pixi/envs/default/lib/python3.12/site-packages/sklearn/preprocessing/_data.py:2785: UserWarning: n_quantiles (1000) is greater than the total number of samples (257). n_quantiles is set to n_samples.\n",
      "  warnings.warn(\n",
      "/home/krasen/urban_taxonomy/.pixi/envs/default/lib/python3.12/site-packages/sklearn/preprocessing/_data.py:2785: UserWarning: n_quantiles (1000) is greater than the total number of samples (68). n_quantiles is set to n_samples.\n",
      "  warnings.warn(\n",
      "/home/krasen/urban_taxonomy/.pixi/envs/default/lib/python3.12/site-packages/sklearn/preprocessing/_data.py:2785: UserWarning: n_quantiles (1000) is greater than the total number of samples (591). n_quantiles is set to n_samples.\n",
      "  warnings.warn(\n",
      "/home/krasen/urban_taxonomy/.pixi/envs/default/lib/python3.12/site-packages/sklearn/preprocessing/_data.py:2785: UserWarning: n_quantiles (1000) is greater than the total number of samples (231). n_quantiles is set to n_samples.\n",
      "  warnings.warn(\n",
      "/home/krasen/urban_taxonomy/.pixi/envs/default/lib/python3.12/site-packages/sklearn/preprocessing/_data.py:2785: UserWarning: n_quantiles (1000) is greater than the total number of samples (165). n_quantiles is set to n_samples.\n",
      "  warnings.warn(\n",
      "/home/krasen/urban_taxonomy/.pixi/envs/default/lib/python3.12/site-packages/sklearn/preprocessing/_data.py:2785: UserWarning: n_quantiles (1000) is greater than the total number of samples (123). n_quantiles is set to n_samples.\n",
      "  warnings.warn(\n",
      "/home/krasen/urban_taxonomy/.pixi/envs/default/lib/python3.12/site-packages/sklearn/preprocessing/_data.py:2785: UserWarning: n_quantiles (1000) is greater than the total number of samples (71). n_quantiles is set to n_samples.\n",
      "  warnings.warn(\n"
     ]
    },
    {
     "name": "stdout",
     "output_type": "stream",
     "text": [
      "processing 1981\n",
      "processing 2096\n",
      "processing 2322\n",
      "processing 2350\n",
      "processing 2478\n",
      "processing 2514\n"
     ]
    },
    {
     "name": "stderr",
     "output_type": "stream",
     "text": [
      "/home/krasen/urban_taxonomy/.pixi/envs/default/lib/python3.12/site-packages/sklearn/preprocessing/_data.py:2785: UserWarning: n_quantiles (1000) is greater than the total number of samples (109). n_quantiles is set to n_samples.\n",
      "  warnings.warn(\n",
      "/home/krasen/urban_taxonomy/.pixi/envs/default/lib/python3.12/site-packages/sklearn/preprocessing/_data.py:2785: UserWarning: n_quantiles (1000) is greater than the total number of samples (484). n_quantiles is set to n_samples.\n",
      "  warnings.warn(\n",
      "/home/krasen/urban_taxonomy/.pixi/envs/default/lib/python3.12/site-packages/sklearn/preprocessing/_data.py:2785: UserWarning: n_quantiles (1000) is greater than the total number of samples (94). n_quantiles is set to n_samples.\n",
      "  warnings.warn(\n",
      "/home/krasen/urban_taxonomy/.pixi/envs/default/lib/python3.12/site-packages/sklearn/preprocessing/_data.py:2785: UserWarning: n_quantiles (1000) is greater than the total number of samples (931). n_quantiles is set to n_samples.\n",
      "  warnings.warn(\n",
      "/home/krasen/urban_taxonomy/.pixi/envs/default/lib/python3.12/site-packages/sklearn/preprocessing/_data.py:2785: UserWarning: n_quantiles (1000) is greater than the total number of samples (155). n_quantiles is set to n_samples.\n",
      "  warnings.warn(\n",
      "/home/krasen/urban_taxonomy/.pixi/envs/default/lib/python3.12/site-packages/sklearn/preprocessing/_data.py:2785: UserWarning: n_quantiles (1000) is greater than the total number of samples (210). n_quantiles is set to n_samples.\n",
      "  warnings.warn(\n"
     ]
    },
    {
     "name": "stdout",
     "output_type": "stream",
     "text": [
      "processing 2625\n",
      "processing 2728\n",
      "processing 2975\n",
      "processing 3039\n",
      "processing 3109\n",
      "processing 3150\n"
     ]
    },
    {
     "name": "stderr",
     "output_type": "stream",
     "text": [
      "/home/krasen/urban_taxonomy/.pixi/envs/default/lib/python3.12/site-packages/sklearn/preprocessing/_data.py:2785: UserWarning: n_quantiles (1000) is greater than the total number of samples (257). n_quantiles is set to n_samples.\n",
      "  warnings.warn(\n",
      "/home/krasen/urban_taxonomy/.pixi/envs/default/lib/python3.12/site-packages/sklearn/preprocessing/_data.py:2785: UserWarning: n_quantiles (1000) is greater than the total number of samples (271). n_quantiles is set to n_samples.\n",
      "  warnings.warn(\n",
      "/home/krasen/urban_taxonomy/.pixi/envs/default/lib/python3.12/site-packages/sklearn/preprocessing/_data.py:2785: UserWarning: n_quantiles (1000) is greater than the total number of samples (202). n_quantiles is set to n_samples.\n",
      "  warnings.warn(\n",
      "/home/krasen/urban_taxonomy/.pixi/envs/default/lib/python3.12/site-packages/sklearn/preprocessing/_data.py:2785: UserWarning: n_quantiles (1000) is greater than the total number of samples (127). n_quantiles is set to n_samples.\n",
      "  warnings.warn(\n",
      "/home/krasen/urban_taxonomy/.pixi/envs/default/lib/python3.12/site-packages/sklearn/preprocessing/_data.py:2785: UserWarning: n_quantiles (1000) is greater than the total number of samples (710). n_quantiles is set to n_samples.\n",
      "  warnings.warn(\n",
      "/home/krasen/urban_taxonomy/.pixi/envs/default/lib/python3.12/site-packages/sklearn/preprocessing/_data.py:2785: UserWarning: n_quantiles (1000) is greater than the total number of samples (532). n_quantiles is set to n_samples.\n",
      "  warnings.warn(\n"
     ]
    },
    {
     "name": "stdout",
     "output_type": "stream",
     "text": [
      "processing 3221\n",
      "processing 3250\n",
      "processing 3526\n",
      "processing 3610\n",
      "processing 3612\n",
      "processing 3701\n",
      "processing 3705\n"
     ]
    },
    {
     "name": "stderr",
     "output_type": "stream",
     "text": [
      "/home/krasen/urban_taxonomy/.pixi/envs/default/lib/python3.12/site-packages/sklearn/preprocessing/_data.py:2785: UserWarning: n_quantiles (1000) is greater than the total number of samples (512). n_quantiles is set to n_samples.\n",
      "  warnings.warn(\n",
      "/home/krasen/urban_taxonomy/.pixi/envs/default/lib/python3.12/site-packages/sklearn/preprocessing/_data.py:2785: UserWarning: n_quantiles (1000) is greater than the total number of samples (162). n_quantiles is set to n_samples.\n",
      "  warnings.warn(\n",
      "/home/krasen/urban_taxonomy/.pixi/envs/default/lib/python3.12/site-packages/sklearn/preprocessing/_data.py:2785: UserWarning: n_quantiles (1000) is greater than the total number of samples (152). n_quantiles is set to n_samples.\n",
      "  warnings.warn(\n",
      "/home/krasen/urban_taxonomy/.pixi/envs/default/lib/python3.12/site-packages/sklearn/preprocessing/_data.py:2785: UserWarning: n_quantiles (1000) is greater than the total number of samples (217). n_quantiles is set to n_samples.\n",
      "  warnings.warn(\n",
      "/home/krasen/urban_taxonomy/.pixi/envs/default/lib/python3.12/site-packages/sklearn/preprocessing/_data.py:2785: UserWarning: n_quantiles (1000) is greater than the total number of samples (286). n_quantiles is set to n_samples.\n",
      "  warnings.warn(\n",
      "/home/krasen/urban_taxonomy/.pixi/envs/default/lib/python3.12/site-packages/sklearn/preprocessing/_data.py:2785: UserWarning: n_quantiles (1000) is greater than the total number of samples (304). n_quantiles is set to n_samples.\n",
      "  warnings.warn(\n"
     ]
    },
    {
     "name": "stdout",
     "output_type": "stream",
     "text": [
      "processing 3752\n",
      "processing 3759\n",
      "processing 3981\n",
      "processing 4070\n",
      "processing 4214\n"
     ]
    },
    {
     "name": "stderr",
     "output_type": "stream",
     "text": [
      "/home/krasen/urban_taxonomy/.pixi/envs/default/lib/python3.12/site-packages/sklearn/preprocessing/_data.py:2785: UserWarning: n_quantiles (1000) is greater than the total number of samples (114). n_quantiles is set to n_samples.\n",
      "  warnings.warn(\n",
      "/home/krasen/urban_taxonomy/.pixi/envs/default/lib/python3.12/site-packages/sklearn/preprocessing/_data.py:2785: UserWarning: n_quantiles (1000) is greater than the total number of samples (314). n_quantiles is set to n_samples.\n",
      "  warnings.warn(\n",
      "/home/krasen/urban_taxonomy/.pixi/envs/default/lib/python3.12/site-packages/sklearn/preprocessing/_data.py:2785: UserWarning: n_quantiles (1000) is greater than the total number of samples (157). n_quantiles is set to n_samples.\n",
      "  warnings.warn(\n"
     ]
    },
    {
     "name": "stdout",
     "output_type": "stream",
     "text": [
      "processing 4215\n",
      "processing 4235\n",
      "processing 4284\n",
      "processing 4356\n",
      "processing 4382\n",
      "processing 4723\n",
      "processing 4805\n"
     ]
    },
    {
     "name": "stderr",
     "output_type": "stream",
     "text": [
      "/home/krasen/urban_taxonomy/.pixi/envs/default/lib/python3.12/site-packages/sklearn/preprocessing/_data.py:2785: UserWarning: n_quantiles (1000) is greater than the total number of samples (264). n_quantiles is set to n_samples.\n",
      "  warnings.warn(\n",
      "/home/krasen/urban_taxonomy/.pixi/envs/default/lib/python3.12/site-packages/sklearn/preprocessing/_data.py:2785: UserWarning: n_quantiles (1000) is greater than the total number of samples (501). n_quantiles is set to n_samples.\n",
      "  warnings.warn(\n",
      "/home/krasen/urban_taxonomy/.pixi/envs/default/lib/python3.12/site-packages/sklearn/preprocessing/_data.py:2785: UserWarning: n_quantiles (1000) is greater than the total number of samples (64). n_quantiles is set to n_samples.\n",
      "  warnings.warn(\n",
      "/home/krasen/urban_taxonomy/.pixi/envs/default/lib/python3.12/site-packages/sklearn/preprocessing/_data.py:2785: UserWarning: n_quantiles (1000) is greater than the total number of samples (195). n_quantiles is set to n_samples.\n",
      "  warnings.warn(\n",
      "/home/krasen/urban_taxonomy/.pixi/envs/default/lib/python3.12/site-packages/sklearn/preprocessing/_data.py:2785: UserWarning: n_quantiles (1000) is greater than the total number of samples (313). n_quantiles is set to n_samples.\n",
      "  warnings.warn(\n",
      "/home/krasen/urban_taxonomy/.pixi/envs/default/lib/python3.12/site-packages/sklearn/preprocessing/_data.py:2785: UserWarning: n_quantiles (1000) is greater than the total number of samples (526). n_quantiles is set to n_samples.\n",
      "  warnings.warn(\n",
      "/home/krasen/urban_taxonomy/.pixi/envs/default/lib/python3.12/site-packages/sklearn/preprocessing/_data.py:2785: UserWarning: n_quantiles (1000) is greater than the total number of samples (82). n_quantiles is set to n_samples.\n",
      "  warnings.warn(\n"
     ]
    },
    {
     "name": "stdout",
     "output_type": "stream",
     "text": [
      "processing 5096\n",
      "processing 5191\n",
      "processing 5246\n",
      "processing 5310\n",
      "processing 5408\n",
      "processing 5427\n"
     ]
    },
    {
     "name": "stderr",
     "output_type": "stream",
     "text": [
      "/home/krasen/urban_taxonomy/.pixi/envs/default/lib/python3.12/site-packages/sklearn/preprocessing/_data.py:2785: UserWarning: n_quantiles (1000) is greater than the total number of samples (176). n_quantiles is set to n_samples.\n",
      "  warnings.warn(\n",
      "/home/krasen/urban_taxonomy/.pixi/envs/default/lib/python3.12/site-packages/sklearn/preprocessing/_data.py:2785: UserWarning: n_quantiles (1000) is greater than the total number of samples (907). n_quantiles is set to n_samples.\n",
      "  warnings.warn(\n",
      "/home/krasen/urban_taxonomy/.pixi/envs/default/lib/python3.12/site-packages/sklearn/preprocessing/_data.py:2785: UserWarning: n_quantiles (1000) is greater than the total number of samples (234). n_quantiles is set to n_samples.\n",
      "  warnings.warn(\n",
      "/home/krasen/urban_taxonomy/.pixi/envs/default/lib/python3.12/site-packages/sklearn/preprocessing/_data.py:2785: UserWarning: n_quantiles (1000) is greater than the total number of samples (153). n_quantiles is set to n_samples.\n",
      "  warnings.warn(\n",
      "/home/krasen/urban_taxonomy/.pixi/envs/default/lib/python3.12/site-packages/sklearn/preprocessing/_data.py:2785: UserWarning: n_quantiles (1000) is greater than the total number of samples (143). n_quantiles is set to n_samples.\n",
      "  warnings.warn(\n",
      "/home/krasen/urban_taxonomy/.pixi/envs/default/lib/python3.12/site-packages/sklearn/preprocessing/_data.py:2785: UserWarning: n_quantiles (1000) is greater than the total number of samples (173). n_quantiles is set to n_samples.\n",
      "  warnings.warn(\n"
     ]
    },
    {
     "name": "stdout",
     "output_type": "stream",
     "text": [
      "processing 5662\n",
      "processing 5671\n",
      "processing 5766\n",
      "processing 5883\n",
      "processing 6254\n"
     ]
    },
    {
     "name": "stderr",
     "output_type": "stream",
     "text": [
      "/home/krasen/urban_taxonomy/.pixi/envs/default/lib/python3.12/site-packages/sklearn/preprocessing/_data.py:2785: UserWarning: n_quantiles (1000) is greater than the total number of samples (575). n_quantiles is set to n_samples.\n",
      "  warnings.warn(\n",
      "/home/krasen/urban_taxonomy/.pixi/envs/default/lib/python3.12/site-packages/sklearn/preprocessing/_data.py:2785: UserWarning: n_quantiles (1000) is greater than the total number of samples (470). n_quantiles is set to n_samples.\n",
      "  warnings.warn(\n",
      "/home/krasen/urban_taxonomy/.pixi/envs/default/lib/python3.12/site-packages/sklearn/preprocessing/_data.py:2785: UserWarning: n_quantiles (1000) is greater than the total number of samples (710). n_quantiles is set to n_samples.\n",
      "  warnings.warn(\n",
      "/home/krasen/urban_taxonomy/.pixi/envs/default/lib/python3.12/site-packages/sklearn/preprocessing/_data.py:2785: UserWarning: n_quantiles (1000) is greater than the total number of samples (453). n_quantiles is set to n_samples.\n",
      "  warnings.warn(\n",
      "/home/krasen/urban_taxonomy/.pixi/envs/default/lib/python3.12/site-packages/sklearn/preprocessing/_data.py:2785: UserWarning: n_quantiles (1000) is greater than the total number of samples (169). n_quantiles is set to n_samples.\n",
      "  warnings.warn(\n"
     ]
    },
    {
     "name": "stdout",
     "output_type": "stream",
     "text": [
      "processing 6529\n",
      "processing 6560\n",
      "processing 6576\n",
      "processing 6741\n"
     ]
    },
    {
     "name": "stderr",
     "output_type": "stream",
     "text": [
      "/home/krasen/urban_taxonomy/.pixi/envs/default/lib/python3.12/site-packages/sklearn/preprocessing/_data.py:2785: UserWarning: n_quantiles (1000) is greater than the total number of samples (126). n_quantiles is set to n_samples.\n",
      "  warnings.warn(\n",
      "/home/krasen/urban_taxonomy/.pixi/envs/default/lib/python3.12/site-packages/sklearn/preprocessing/_data.py:2785: UserWarning: n_quantiles (1000) is greater than the total number of samples (137). n_quantiles is set to n_samples.\n",
      "  warnings.warn(\n",
      "/home/krasen/urban_taxonomy/.pixi/envs/default/lib/python3.12/site-packages/sklearn/preprocessing/_data.py:2785: UserWarning: n_quantiles (1000) is greater than the total number of samples (53). n_quantiles is set to n_samples.\n",
      "  warnings.warn(\n"
     ]
    },
    {
     "name": "stdout",
     "output_type": "stream",
     "text": [
      "processing 6749\n",
      "processing 6811\n",
      "processing 6873\n",
      "processing 6996\n",
      "processing 7068\n",
      "processing 7094\n",
      "processing 7280\n"
     ]
    },
    {
     "name": "stderr",
     "output_type": "stream",
     "text": [
      "/home/krasen/urban_taxonomy/.pixi/envs/default/lib/python3.12/site-packages/sklearn/preprocessing/_data.py:2785: UserWarning: n_quantiles (1000) is greater than the total number of samples (401). n_quantiles is set to n_samples.\n",
      "  warnings.warn(\n",
      "/home/krasen/urban_taxonomy/.pixi/envs/default/lib/python3.12/site-packages/sklearn/preprocessing/_data.py:2785: UserWarning: n_quantiles (1000) is greater than the total number of samples (174). n_quantiles is set to n_samples.\n",
      "  warnings.warn(\n",
      "/home/krasen/urban_taxonomy/.pixi/envs/default/lib/python3.12/site-packages/sklearn/preprocessing/_data.py:2785: UserWarning: n_quantiles (1000) is greater than the total number of samples (169). n_quantiles is set to n_samples.\n",
      "  warnings.warn(\n",
      "/home/krasen/urban_taxonomy/.pixi/envs/default/lib/python3.12/site-packages/sklearn/preprocessing/_data.py:2785: UserWarning: n_quantiles (1000) is greater than the total number of samples (89). n_quantiles is set to n_samples.\n",
      "  warnings.warn(\n",
      "/home/krasen/urban_taxonomy/.pixi/envs/default/lib/python3.12/site-packages/sklearn/preprocessing/_data.py:2785: UserWarning: n_quantiles (1000) is greater than the total number of samples (154). n_quantiles is set to n_samples.\n",
      "  warnings.warn(\n",
      "/home/krasen/urban_taxonomy/.pixi/envs/default/lib/python3.12/site-packages/sklearn/preprocessing/_data.py:2785: UserWarning: n_quantiles (1000) is greater than the total number of samples (184). n_quantiles is set to n_samples.\n",
      "  warnings.warn(\n"
     ]
    },
    {
     "name": "stdout",
     "output_type": "stream",
     "text": [
      "processing 7485\n",
      "processing 7528\n",
      "processing 7534\n",
      "processing 7681\n",
      "processing 7688\n",
      "processing 7712\n"
     ]
    },
    {
     "name": "stderr",
     "output_type": "stream",
     "text": [
      "/home/krasen/urban_taxonomy/.pixi/envs/default/lib/python3.12/site-packages/sklearn/preprocessing/_data.py:2785: UserWarning: n_quantiles (1000) is greater than the total number of samples (76). n_quantiles is set to n_samples.\n",
      "  warnings.warn(\n",
      "/home/krasen/urban_taxonomy/.pixi/envs/default/lib/python3.12/site-packages/sklearn/preprocessing/_data.py:2785: UserWarning: n_quantiles (1000) is greater than the total number of samples (502). n_quantiles is set to n_samples.\n",
      "  warnings.warn(\n",
      "/home/krasen/urban_taxonomy/.pixi/envs/default/lib/python3.12/site-packages/sklearn/preprocessing/_data.py:2785: UserWarning: n_quantiles (1000) is greater than the total number of samples (174). n_quantiles is set to n_samples.\n",
      "  warnings.warn(\n",
      "/home/krasen/urban_taxonomy/.pixi/envs/default/lib/python3.12/site-packages/sklearn/preprocessing/_data.py:2785: UserWarning: n_quantiles (1000) is greater than the total number of samples (215). n_quantiles is set to n_samples.\n",
      "  warnings.warn(\n",
      "/home/krasen/urban_taxonomy/.pixi/envs/default/lib/python3.12/site-packages/sklearn/preprocessing/_data.py:2785: UserWarning: n_quantiles (1000) is greater than the total number of samples (104). n_quantiles is set to n_samples.\n",
      "  warnings.warn(\n",
      "/home/krasen/urban_taxonomy/.pixi/envs/default/lib/python3.12/site-packages/sklearn/preprocessing/_data.py:2785: UserWarning: n_quantiles (1000) is greater than the total number of samples (597). n_quantiles is set to n_samples.\n",
      "  warnings.warn(\n",
      "/home/krasen/urban_taxonomy/.pixi/envs/default/lib/python3.12/site-packages/sklearn/preprocessing/_data.py:2785: UserWarning: n_quantiles (1000) is greater than the total number of samples (62). n_quantiles is set to n_samples.\n",
      "  warnings.warn(\n"
     ]
    },
    {
     "name": "stdout",
     "output_type": "stream",
     "text": [
      "processing 7727\n",
      "processing 7805\n",
      "processing 7914\n",
      "processing 7937\n",
      "processing 7963\n",
      "processing 8046\n",
      "processing 8216\n"
     ]
    },
    {
     "name": "stderr",
     "output_type": "stream",
     "text": [
      "/home/krasen/urban_taxonomy/.pixi/envs/default/lib/python3.12/site-packages/sklearn/preprocessing/_data.py:2785: UserWarning: n_quantiles (1000) is greater than the total number of samples (320). n_quantiles is set to n_samples.\n",
      "  warnings.warn(\n",
      "/home/krasen/urban_taxonomy/.pixi/envs/default/lib/python3.12/site-packages/sklearn/preprocessing/_data.py:2785: UserWarning: n_quantiles (1000) is greater than the total number of samples (130). n_quantiles is set to n_samples.\n",
      "  warnings.warn(\n",
      "/home/krasen/urban_taxonomy/.pixi/envs/default/lib/python3.12/site-packages/sklearn/preprocessing/_data.py:2785: UserWarning: n_quantiles (1000) is greater than the total number of samples (350). n_quantiles is set to n_samples.\n",
      "  warnings.warn(\n",
      "/home/krasen/urban_taxonomy/.pixi/envs/default/lib/python3.12/site-packages/sklearn/preprocessing/_data.py:2785: UserWarning: n_quantiles (1000) is greater than the total number of samples (452). n_quantiles is set to n_samples.\n",
      "  warnings.warn(\n",
      "/home/krasen/urban_taxonomy/.pixi/envs/default/lib/python3.12/site-packages/sklearn/preprocessing/_data.py:2785: UserWarning: n_quantiles (1000) is greater than the total number of samples (78). n_quantiles is set to n_samples.\n",
      "  warnings.warn(\n",
      "/home/krasen/urban_taxonomy/.pixi/envs/default/lib/python3.12/site-packages/sklearn/preprocessing/_data.py:2785: UserWarning: n_quantiles (1000) is greater than the total number of samples (655). n_quantiles is set to n_samples.\n",
      "  warnings.warn(\n"
     ]
    },
    {
     "name": "stdout",
     "output_type": "stream",
     "text": [
      "processing 8238\n",
      "processing 8256\n",
      "processing 8265\n",
      "processing 8345\n",
      "processing 8374\n",
      "processing 8396\n",
      "processing 8592\n",
      "processing 8707\n"
     ]
    },
    {
     "name": "stderr",
     "output_type": "stream",
     "text": [
      "/home/krasen/urban_taxonomy/.pixi/envs/default/lib/python3.12/site-packages/sklearn/preprocessing/_data.py:2785: UserWarning: n_quantiles (1000) is greater than the total number of samples (183). n_quantiles is set to n_samples.\n",
      "  warnings.warn(\n",
      "/home/krasen/urban_taxonomy/.pixi/envs/default/lib/python3.12/site-packages/sklearn/preprocessing/_data.py:2785: UserWarning: n_quantiles (1000) is greater than the total number of samples (71). n_quantiles is set to n_samples.\n",
      "  warnings.warn(\n",
      "/home/krasen/urban_taxonomy/.pixi/envs/default/lib/python3.12/site-packages/sklearn/preprocessing/_data.py:2785: UserWarning: n_quantiles (1000) is greater than the total number of samples (232). n_quantiles is set to n_samples.\n",
      "  warnings.warn(\n",
      "/home/krasen/urban_taxonomy/.pixi/envs/default/lib/python3.12/site-packages/sklearn/preprocessing/_data.py:2785: UserWarning: n_quantiles (1000) is greater than the total number of samples (112). n_quantiles is set to n_samples.\n",
      "  warnings.warn(\n",
      "/home/krasen/urban_taxonomy/.pixi/envs/default/lib/python3.12/site-packages/sklearn/preprocessing/_data.py:2785: UserWarning: n_quantiles (1000) is greater than the total number of samples (205). n_quantiles is set to n_samples.\n",
      "  warnings.warn(\n",
      "/home/krasen/urban_taxonomy/.pixi/envs/default/lib/python3.12/site-packages/sklearn/preprocessing/_data.py:2785: UserWarning: n_quantiles (1000) is greater than the total number of samples (419). n_quantiles is set to n_samples.\n",
      "  warnings.warn(\n",
      "/home/krasen/urban_taxonomy/.pixi/envs/default/lib/python3.12/site-packages/sklearn/preprocessing/_data.py:2785: UserWarning: n_quantiles (1000) is greater than the total number of samples (459). n_quantiles is set to n_samples.\n",
      "  warnings.warn(\n"
     ]
    },
    {
     "name": "stdout",
     "output_type": "stream",
     "text": [
      "processing 8731\n",
      "processing 8757\n",
      "processing 8759\n",
      "processing 8813\n",
      "processing 9016\n",
      "processing 9064\n",
      "processing 9074\n",
      "processing 9150\n"
     ]
    },
    {
     "name": "stderr",
     "output_type": "stream",
     "text": [
      "/home/krasen/urban_taxonomy/.pixi/envs/default/lib/python3.12/site-packages/sklearn/preprocessing/_data.py:2785: UserWarning: n_quantiles (1000) is greater than the total number of samples (442). n_quantiles is set to n_samples.\n",
      "  warnings.warn(\n",
      "/home/krasen/urban_taxonomy/.pixi/envs/default/lib/python3.12/site-packages/sklearn/preprocessing/_data.py:2785: UserWarning: n_quantiles (1000) is greater than the total number of samples (250). n_quantiles is set to n_samples.\n",
      "  warnings.warn(\n",
      "/home/krasen/urban_taxonomy/.pixi/envs/default/lib/python3.12/site-packages/sklearn/preprocessing/_data.py:2785: UserWarning: n_quantiles (1000) is greater than the total number of samples (220). n_quantiles is set to n_samples.\n",
      "  warnings.warn(\n",
      "/home/krasen/urban_taxonomy/.pixi/envs/default/lib/python3.12/site-packages/sklearn/preprocessing/_data.py:2785: UserWarning: n_quantiles (1000) is greater than the total number of samples (184). n_quantiles is set to n_samples.\n",
      "  warnings.warn(\n",
      "/home/krasen/urban_taxonomy/.pixi/envs/default/lib/python3.12/site-packages/sklearn/preprocessing/_data.py:2785: UserWarning: n_quantiles (1000) is greater than the total number of samples (150). n_quantiles is set to n_samples.\n",
      "  warnings.warn(\n",
      "/home/krasen/urban_taxonomy/.pixi/envs/default/lib/python3.12/site-packages/sklearn/preprocessing/_data.py:2785: UserWarning: n_quantiles (1000) is greater than the total number of samples (134). n_quantiles is set to n_samples.\n",
      "  warnings.warn(\n",
      "/home/krasen/urban_taxonomy/.pixi/envs/default/lib/python3.12/site-packages/sklearn/preprocessing/_data.py:2785: UserWarning: n_quantiles (1000) is greater than the total number of samples (287). n_quantiles is set to n_samples.\n",
      "  warnings.warn(\n",
      "/home/krasen/urban_taxonomy/.pixi/envs/default/lib/python3.12/site-packages/sklearn/preprocessing/_data.py:2785: UserWarning: n_quantiles (1000) is greater than the total number of samples (291). n_quantiles is set to n_samples.\n",
      "  warnings.warn(\n"
     ]
    },
    {
     "name": "stdout",
     "output_type": "stream",
     "text": [
      "processing 9169\n",
      "processing 9194\n",
      "processing 9284\n",
      "processing 9824\n",
      "processing 9924\n",
      "processing 9954\n"
     ]
    },
    {
     "name": "stderr",
     "output_type": "stream",
     "text": [
      "/home/krasen/urban_taxonomy/.pixi/envs/default/lib/python3.12/site-packages/sklearn/preprocessing/_data.py:2785: UserWarning: n_quantiles (1000) is greater than the total number of samples (522). n_quantiles is set to n_samples.\n",
      "  warnings.warn(\n",
      "/home/krasen/urban_taxonomy/.pixi/envs/default/lib/python3.12/site-packages/sklearn/preprocessing/_data.py:2785: UserWarning: n_quantiles (1000) is greater than the total number of samples (891). n_quantiles is set to n_samples.\n",
      "  warnings.warn(\n",
      "/home/krasen/urban_taxonomy/.pixi/envs/default/lib/python3.12/site-packages/sklearn/preprocessing/_data.py:2785: UserWarning: n_quantiles (1000) is greater than the total number of samples (193). n_quantiles is set to n_samples.\n",
      "  warnings.warn(\n",
      "/home/krasen/urban_taxonomy/.pixi/envs/default/lib/python3.12/site-packages/sklearn/preprocessing/_data.py:2785: UserWarning: n_quantiles (1000) is greater than the total number of samples (94). n_quantiles is set to n_samples.\n",
      "  warnings.warn(\n",
      "/home/krasen/urban_taxonomy/.pixi/envs/default/lib/python3.12/site-packages/sklearn/preprocessing/_data.py:2785: UserWarning: n_quantiles (1000) is greater than the total number of samples (240). n_quantiles is set to n_samples.\n",
      "  warnings.warn(\n",
      "/home/krasen/urban_taxonomy/.pixi/envs/default/lib/python3.12/site-packages/sklearn/preprocessing/_data.py:2785: UserWarning: n_quantiles (1000) is greater than the total number of samples (335). n_quantiles is set to n_samples.\n",
      "  warnings.warn(\n"
     ]
    },
    {
     "name": "stdout",
     "output_type": "stream",
     "text": [
      "processing 9972\n",
      "processing 10019\n",
      "processing 10086\n",
      "processing 10095\n",
      "processing 10124\n"
     ]
    },
    {
     "name": "stderr",
     "output_type": "stream",
     "text": [
      "/home/krasen/urban_taxonomy/.pixi/envs/default/lib/python3.12/site-packages/sklearn/preprocessing/_data.py:2785: UserWarning: n_quantiles (1000) is greater than the total number of samples (175). n_quantiles is set to n_samples.\n",
      "  warnings.warn(\n",
      "/home/krasen/urban_taxonomy/.pixi/envs/default/lib/python3.12/site-packages/sklearn/preprocessing/_data.py:2785: UserWarning: n_quantiles (1000) is greater than the total number of samples (84). n_quantiles is set to n_samples.\n",
      "  warnings.warn(\n",
      "/home/krasen/urban_taxonomy/.pixi/envs/default/lib/python3.12/site-packages/sklearn/preprocessing/_data.py:2785: UserWarning: n_quantiles (1000) is greater than the total number of samples (222). n_quantiles is set to n_samples.\n",
      "  warnings.warn(\n",
      "/home/krasen/urban_taxonomy/.pixi/envs/default/lib/python3.12/site-packages/sklearn/preprocessing/_data.py:2785: UserWarning: n_quantiles (1000) is greater than the total number of samples (150). n_quantiles is set to n_samples.\n",
      "  warnings.warn(\n",
      "/home/krasen/urban_taxonomy/.pixi/envs/default/lib/python3.12/site-packages/sklearn/preprocessing/_data.py:2785: UserWarning: n_quantiles (1000) is greater than the total number of samples (199). n_quantiles is set to n_samples.\n",
      "  warnings.warn(\n",
      "/home/krasen/urban_taxonomy/.pixi/envs/default/lib/python3.12/site-packages/sklearn/preprocessing/_data.py:2785: UserWarning: n_quantiles (1000) is greater than the total number of samples (183). n_quantiles is set to n_samples.\n",
      "  warnings.warn(\n",
      "/home/krasen/urban_taxonomy/.pixi/envs/default/lib/python3.12/site-packages/sklearn/preprocessing/_data.py:2785: UserWarning: n_quantiles (1000) is greater than the total number of samples (275). n_quantiles is set to n_samples.\n",
      "  warnings.warn(\n",
      "/home/krasen/urban_taxonomy/.pixi/envs/default/lib/python3.12/site-packages/sklearn/preprocessing/_data.py:2785: UserWarning: n_quantiles (1000) is greater than the total number of samples (290). n_quantiles is set to n_samples.\n",
      "  warnings.warn(\n",
      "/home/krasen/urban_taxonomy/.pixi/envs/default/lib/python3.12/site-packages/sklearn/preprocessing/_data.py:2785: UserWarning: n_quantiles (1000) is greater than the total number of samples (270). n_quantiles is set to n_samples.\n",
      "  warnings.warn(\n"
     ]
    },
    {
     "name": "stdout",
     "output_type": "stream",
     "text": [
      "processing 10179\n",
      "processing 10222\n",
      "processing 10263\n",
      "processing 10277\n",
      "processing 10455\n",
      "processing 10510\n",
      "processing 10511\n",
      "processing 10563\n"
     ]
    },
    {
     "name": "stderr",
     "output_type": "stream",
     "text": [
      "/home/krasen/urban_taxonomy/.pixi/envs/default/lib/python3.12/site-packages/sklearn/preprocessing/_data.py:2785: UserWarning: n_quantiles (1000) is greater than the total number of samples (181). n_quantiles is set to n_samples.\n",
      "  warnings.warn(\n",
      "/home/krasen/urban_taxonomy/.pixi/envs/default/lib/python3.12/site-packages/sklearn/preprocessing/_data.py:2785: UserWarning: n_quantiles (1000) is greater than the total number of samples (163). n_quantiles is set to n_samples.\n",
      "  warnings.warn(\n",
      "/home/krasen/urban_taxonomy/.pixi/envs/default/lib/python3.12/site-packages/sklearn/preprocessing/_data.py:2785: UserWarning: n_quantiles (1000) is greater than the total number of samples (171). n_quantiles is set to n_samples.\n",
      "  warnings.warn(\n"
     ]
    },
    {
     "name": "stdout",
     "output_type": "stream",
     "text": [
      "processing 10579\n",
      "processing 10602\n",
      "processing 10666\n",
      "processing 10794\n",
      "processing 10847\n",
      "processing 10908\n",
      "processing 10926\n",
      "processing 10970\n",
      "processing 11002\n"
     ]
    },
    {
     "name": "stderr",
     "output_type": "stream",
     "text": [
      "/home/krasen/urban_taxonomy/.pixi/envs/default/lib/python3.12/site-packages/sklearn/preprocessing/_data.py:2785: UserWarning: n_quantiles (1000) is greater than the total number of samples (204). n_quantiles is set to n_samples.\n",
      "  warnings.warn(\n",
      "/home/krasen/urban_taxonomy/.pixi/envs/default/lib/python3.12/site-packages/sklearn/preprocessing/_data.py:2785: UserWarning: n_quantiles (1000) is greater than the total number of samples (209). n_quantiles is set to n_samples.\n",
      "  warnings.warn(\n",
      "/home/krasen/urban_taxonomy/.pixi/envs/default/lib/python3.12/site-packages/sklearn/preprocessing/_data.py:2785: UserWarning: n_quantiles (1000) is greater than the total number of samples (243). n_quantiles is set to n_samples.\n",
      "  warnings.warn(\n",
      "/home/krasen/urban_taxonomy/.pixi/envs/default/lib/python3.12/site-packages/sklearn/preprocessing/_data.py:2785: UserWarning: n_quantiles (1000) is greater than the total number of samples (54). n_quantiles is set to n_samples.\n",
      "  warnings.warn(\n",
      "/home/krasen/urban_taxonomy/.pixi/envs/default/lib/python3.12/site-packages/sklearn/preprocessing/_data.py:2785: UserWarning: n_quantiles (1000) is greater than the total number of samples (424). n_quantiles is set to n_samples.\n",
      "  warnings.warn(\n",
      "/home/krasen/urban_taxonomy/.pixi/envs/default/lib/python3.12/site-packages/sklearn/preprocessing/_data.py:2785: UserWarning: n_quantiles (1000) is greater than the total number of samples (272). n_quantiles is set to n_samples.\n",
      "  warnings.warn(\n",
      "/home/krasen/urban_taxonomy/.pixi/envs/default/lib/python3.12/site-packages/sklearn/preprocessing/_data.py:2785: UserWarning: n_quantiles (1000) is greater than the total number of samples (65). n_quantiles is set to n_samples.\n",
      "  warnings.warn(\n",
      "/home/krasen/urban_taxonomy/.pixi/envs/default/lib/python3.12/site-packages/sklearn/preprocessing/_data.py:2785: UserWarning: n_quantiles (1000) is greater than the total number of samples (179). n_quantiles is set to n_samples.\n",
      "  warnings.warn(\n"
     ]
    },
    {
     "name": "stdout",
     "output_type": "stream",
     "text": [
      "processing 11019\n",
      "processing 11057\n",
      "processing 11141\n",
      "processing 11210\n",
      "processing 11256\n",
      "processing 11261\n",
      "processing 11305\n",
      "processing 11309\n"
     ]
    },
    {
     "name": "stderr",
     "output_type": "stream",
     "text": [
      "/home/krasen/urban_taxonomy/.pixi/envs/default/lib/python3.12/site-packages/sklearn/preprocessing/_data.py:2785: UserWarning: n_quantiles (1000) is greater than the total number of samples (348). n_quantiles is set to n_samples.\n",
      "  warnings.warn(\n",
      "/home/krasen/urban_taxonomy/.pixi/envs/default/lib/python3.12/site-packages/sklearn/preprocessing/_data.py:2785: UserWarning: n_quantiles (1000) is greater than the total number of samples (165). n_quantiles is set to n_samples.\n",
      "  warnings.warn(\n",
      "/home/krasen/urban_taxonomy/.pixi/envs/default/lib/python3.12/site-packages/sklearn/preprocessing/_data.py:2785: UserWarning: n_quantiles (1000) is greater than the total number of samples (110). n_quantiles is set to n_samples.\n",
      "  warnings.warn(\n",
      "/home/krasen/urban_taxonomy/.pixi/envs/default/lib/python3.12/site-packages/sklearn/preprocessing/_data.py:2785: UserWarning: n_quantiles (1000) is greater than the total number of samples (164). n_quantiles is set to n_samples.\n",
      "  warnings.warn(\n",
      "/home/krasen/urban_taxonomy/.pixi/envs/default/lib/python3.12/site-packages/sklearn/preprocessing/_data.py:2785: UserWarning: n_quantiles (1000) is greater than the total number of samples (116). n_quantiles is set to n_samples.\n",
      "  warnings.warn(\n",
      "/home/krasen/urban_taxonomy/.pixi/envs/default/lib/python3.12/site-packages/sklearn/preprocessing/_data.py:2785: UserWarning: n_quantiles (1000) is greater than the total number of samples (478). n_quantiles is set to n_samples.\n",
      "  warnings.warn(\n",
      "/home/krasen/urban_taxonomy/.pixi/envs/default/lib/python3.12/site-packages/sklearn/preprocessing/_data.py:2785: UserWarning: n_quantiles (1000) is greater than the total number of samples (140). n_quantiles is set to n_samples.\n",
      "  warnings.warn(\n",
      "/home/krasen/urban_taxonomy/.pixi/envs/default/lib/python3.12/site-packages/sklearn/preprocessing/_data.py:2785: UserWarning: n_quantiles (1000) is greater than the total number of samples (106). n_quantiles is set to n_samples.\n",
      "  warnings.warn(\n"
     ]
    },
    {
     "name": "stdout",
     "output_type": "stream",
     "text": [
      "processing 11311\n",
      "processing 11318\n",
      "processing 11367\n",
      "processing 11444\n",
      "processing 11455\n",
      "processing 11471\n",
      "processing 11667\n",
      "processing 11678\n"
     ]
    },
    {
     "name": "stderr",
     "output_type": "stream",
     "text": [
      "/home/krasen/urban_taxonomy/.pixi/envs/default/lib/python3.12/site-packages/sklearn/preprocessing/_data.py:2785: UserWarning: n_quantiles (1000) is greater than the total number of samples (114). n_quantiles is set to n_samples.\n",
      "  warnings.warn(\n",
      "/home/krasen/urban_taxonomy/.pixi/envs/default/lib/python3.12/site-packages/sklearn/preprocessing/_data.py:2785: UserWarning: n_quantiles (1000) is greater than the total number of samples (510). n_quantiles is set to n_samples.\n",
      "  warnings.warn(\n",
      "/home/krasen/urban_taxonomy/.pixi/envs/default/lib/python3.12/site-packages/sklearn/preprocessing/_data.py:2785: UserWarning: n_quantiles (1000) is greater than the total number of samples (73). n_quantiles is set to n_samples.\n",
      "  warnings.warn(\n",
      "/home/krasen/urban_taxonomy/.pixi/envs/default/lib/python3.12/site-packages/sklearn/preprocessing/_data.py:2785: UserWarning: n_quantiles (1000) is greater than the total number of samples (178). n_quantiles is set to n_samples.\n",
      "  warnings.warn(\n",
      "/home/krasen/urban_taxonomy/.pixi/envs/default/lib/python3.12/site-packages/sklearn/preprocessing/_data.py:2785: UserWarning: n_quantiles (1000) is greater than the total number of samples (190). n_quantiles is set to n_samples.\n",
      "  warnings.warn(\n",
      "/home/krasen/urban_taxonomy/.pixi/envs/default/lib/python3.12/site-packages/sklearn/preprocessing/_data.py:2785: UserWarning: n_quantiles (1000) is greater than the total number of samples (145). n_quantiles is set to n_samples.\n",
      "  warnings.warn(\n",
      "/home/krasen/urban_taxonomy/.pixi/envs/default/lib/python3.12/site-packages/sklearn/preprocessing/_data.py:2785: UserWarning: n_quantiles (1000) is greater than the total number of samples (399). n_quantiles is set to n_samples.\n",
      "  warnings.warn(\n",
      "/home/krasen/urban_taxonomy/.pixi/envs/default/lib/python3.12/site-packages/sklearn/preprocessing/_data.py:2785: UserWarning: n_quantiles (1000) is greater than the total number of samples (147). n_quantiles is set to n_samples.\n",
      "  warnings.warn(\n"
     ]
    },
    {
     "name": "stdout",
     "output_type": "stream",
     "text": [
      "processing 11735\n",
      "processing 11757\n",
      "processing 11799\n",
      "processing 11877\n",
      "processing 11905\n",
      "processing 12027\n",
      "processing 12084\n"
     ]
    },
    {
     "name": "stderr",
     "output_type": "stream",
     "text": [
      "/home/krasen/urban_taxonomy/.pixi/envs/default/lib/python3.12/site-packages/sklearn/preprocessing/_data.py:2785: UserWarning: n_quantiles (1000) is greater than the total number of samples (159). n_quantiles is set to n_samples.\n",
      "  warnings.warn(\n",
      "/home/krasen/urban_taxonomy/.pixi/envs/default/lib/python3.12/site-packages/sklearn/preprocessing/_data.py:2785: UserWarning: n_quantiles (1000) is greater than the total number of samples (235). n_quantiles is set to n_samples.\n",
      "  warnings.warn(\n",
      "/home/krasen/urban_taxonomy/.pixi/envs/default/lib/python3.12/site-packages/sklearn/preprocessing/_data.py:2785: UserWarning: n_quantiles (1000) is greater than the total number of samples (80). n_quantiles is set to n_samples.\n",
      "  warnings.warn(\n",
      "/home/krasen/urban_taxonomy/.pixi/envs/default/lib/python3.12/site-packages/sklearn/preprocessing/_data.py:2785: UserWarning: n_quantiles (1000) is greater than the total number of samples (863). n_quantiles is set to n_samples.\n",
      "  warnings.warn(\n",
      "/home/krasen/urban_taxonomy/.pixi/envs/default/lib/python3.12/site-packages/sklearn/preprocessing/_data.py:2785: UserWarning: n_quantiles (1000) is greater than the total number of samples (150). n_quantiles is set to n_samples.\n",
      "  warnings.warn(\n",
      "/home/krasen/urban_taxonomy/.pixi/envs/default/lib/python3.12/site-packages/sklearn/preprocessing/_data.py:2785: UserWarning: n_quantiles (1000) is greater than the total number of samples (188). n_quantiles is set to n_samples.\n",
      "  warnings.warn(\n"
     ]
    },
    {
     "name": "stdout",
     "output_type": "stream",
     "text": [
      "processing 12100\n",
      "processing 12115\n",
      "processing 12154\n",
      "processing 12191\n",
      "processing 12381\n"
     ]
    },
    {
     "name": "stderr",
     "output_type": "stream",
     "text": [
      "/home/krasen/urban_taxonomy/.pixi/envs/default/lib/python3.12/site-packages/sklearn/preprocessing/_data.py:2785: UserWarning: n_quantiles (1000) is greater than the total number of samples (341). n_quantiles is set to n_samples.\n",
      "  warnings.warn(\n",
      "/home/krasen/urban_taxonomy/.pixi/envs/default/lib/python3.12/site-packages/sklearn/preprocessing/_data.py:2785: UserWarning: n_quantiles (1000) is greater than the total number of samples (123). n_quantiles is set to n_samples.\n",
      "  warnings.warn(\n",
      "/home/krasen/urban_taxonomy/.pixi/envs/default/lib/python3.12/site-packages/sklearn/preprocessing/_data.py:2785: UserWarning: n_quantiles (1000) is greater than the total number of samples (115). n_quantiles is set to n_samples.\n",
      "  warnings.warn(\n",
      "/home/krasen/urban_taxonomy/.pixi/envs/default/lib/python3.12/site-packages/sklearn/preprocessing/_data.py:2785: UserWarning: n_quantiles (1000) is greater than the total number of samples (185). n_quantiles is set to n_samples.\n",
      "  warnings.warn(\n"
     ]
    },
    {
     "name": "stdout",
     "output_type": "stream",
     "text": [
      "processing 12440\n",
      "processing 12483\n",
      "processing 12552\n",
      "processing 12667\n",
      "processing 12707\n",
      "processing 12755\n",
      "processing 12756\n"
     ]
    },
    {
     "name": "stderr",
     "output_type": "stream",
     "text": [
      "/home/krasen/urban_taxonomy/.pixi/envs/default/lib/python3.12/site-packages/sklearn/preprocessing/_data.py:2785: UserWarning: n_quantiles (1000) is greater than the total number of samples (138). n_quantiles is set to n_samples.\n",
      "  warnings.warn(\n",
      "/home/krasen/urban_taxonomy/.pixi/envs/default/lib/python3.12/site-packages/sklearn/preprocessing/_data.py:2785: UserWarning: n_quantiles (1000) is greater than the total number of samples (164). n_quantiles is set to n_samples.\n",
      "  warnings.warn(\n",
      "/home/krasen/urban_taxonomy/.pixi/envs/default/lib/python3.12/site-packages/sklearn/preprocessing/_data.py:2785: UserWarning: n_quantiles (1000) is greater than the total number of samples (209). n_quantiles is set to n_samples.\n",
      "  warnings.warn(\n",
      "/home/krasen/urban_taxonomy/.pixi/envs/default/lib/python3.12/site-packages/sklearn/preprocessing/_data.py:2785: UserWarning: n_quantiles (1000) is greater than the total number of samples (369). n_quantiles is set to n_samples.\n",
      "  warnings.warn(\n",
      "/home/krasen/urban_taxonomy/.pixi/envs/default/lib/python3.12/site-packages/sklearn/preprocessing/_data.py:2785: UserWarning: n_quantiles (1000) is greater than the total number of samples (164). n_quantiles is set to n_samples.\n",
      "  warnings.warn(\n",
      "/home/krasen/urban_taxonomy/.pixi/envs/default/lib/python3.12/site-packages/sklearn/preprocessing/_data.py:2785: UserWarning: n_quantiles (1000) is greater than the total number of samples (212). n_quantiles is set to n_samples.\n",
      "  warnings.warn(\n",
      "/home/krasen/urban_taxonomy/.pixi/envs/default/lib/python3.12/site-packages/sklearn/preprocessing/_data.py:2785: UserWarning: n_quantiles (1000) is greater than the total number of samples (341). n_quantiles is set to n_samples.\n",
      "  warnings.warn(\n",
      "/home/krasen/urban_taxonomy/.pixi/envs/default/lib/python3.12/site-packages/sklearn/preprocessing/_data.py:2785: UserWarning: n_quantiles (1000) is greater than the total number of samples (193). n_quantiles is set to n_samples.\n",
      "  warnings.warn(\n"
     ]
    },
    {
     "name": "stdout",
     "output_type": "stream",
     "text": [
      "processing 12844\n",
      "processing 12919\n",
      "processing 12965\n",
      "processing 13076\n",
      "processing 13137\n",
      "processing 13172\n",
      "processing 13191\n"
     ]
    },
    {
     "name": "stderr",
     "output_type": "stream",
     "text": [
      "/home/krasen/urban_taxonomy/.pixi/envs/default/lib/python3.12/site-packages/sklearn/preprocessing/_data.py:2785: UserWarning: n_quantiles (1000) is greater than the total number of samples (528). n_quantiles is set to n_samples.\n",
      "  warnings.warn(\n",
      "/home/krasen/urban_taxonomy/.pixi/envs/default/lib/python3.12/site-packages/sklearn/preprocessing/_data.py:2785: UserWarning: n_quantiles (1000) is greater than the total number of samples (264). n_quantiles is set to n_samples.\n",
      "  warnings.warn(\n",
      "/home/krasen/urban_taxonomy/.pixi/envs/default/lib/python3.12/site-packages/sklearn/preprocessing/_data.py:2785: UserWarning: n_quantiles (1000) is greater than the total number of samples (161). n_quantiles is set to n_samples.\n",
      "  warnings.warn(\n",
      "/home/krasen/urban_taxonomy/.pixi/envs/default/lib/python3.12/site-packages/sklearn/preprocessing/_data.py:2785: UserWarning: n_quantiles (1000) is greater than the total number of samples (421). n_quantiles is set to n_samples.\n",
      "  warnings.warn(\n",
      "/home/krasen/urban_taxonomy/.pixi/envs/default/lib/python3.12/site-packages/sklearn/preprocessing/_data.py:2785: UserWarning: n_quantiles (1000) is greater than the total number of samples (157). n_quantiles is set to n_samples.\n",
      "  warnings.warn(\n",
      "/home/krasen/urban_taxonomy/.pixi/envs/default/lib/python3.12/site-packages/sklearn/preprocessing/_data.py:2785: UserWarning: n_quantiles (1000) is greater than the total number of samples (247). n_quantiles is set to n_samples.\n",
      "  warnings.warn(\n",
      "/home/krasen/urban_taxonomy/.pixi/envs/default/lib/python3.12/site-packages/sklearn/preprocessing/_data.py:2785: UserWarning: n_quantiles (1000) is greater than the total number of samples (103). n_quantiles is set to n_samples.\n",
      "  warnings.warn(\n"
     ]
    },
    {
     "name": "stdout",
     "output_type": "stream",
     "text": [
      "processing 13196\n",
      "processing 13229\n",
      "processing 13301\n",
      "processing 13395\n",
      "processing 13442\n",
      "processing 13482\n",
      "processing 13506\n",
      "processing 13553\n"
     ]
    },
    {
     "name": "stderr",
     "output_type": "stream",
     "text": [
      "/home/krasen/urban_taxonomy/.pixi/envs/default/lib/python3.12/site-packages/sklearn/preprocessing/_data.py:2785: UserWarning: n_quantiles (1000) is greater than the total number of samples (384). n_quantiles is set to n_samples.\n",
      "  warnings.warn(\n",
      "/home/krasen/urban_taxonomy/.pixi/envs/default/lib/python3.12/site-packages/sklearn/preprocessing/_data.py:2785: UserWarning: n_quantiles (1000) is greater than the total number of samples (255). n_quantiles is set to n_samples.\n",
      "  warnings.warn(\n",
      "/home/krasen/urban_taxonomy/.pixi/envs/default/lib/python3.12/site-packages/sklearn/preprocessing/_data.py:2785: UserWarning: n_quantiles (1000) is greater than the total number of samples (402). n_quantiles is set to n_samples.\n",
      "  warnings.warn(\n",
      "/home/krasen/urban_taxonomy/.pixi/envs/default/lib/python3.12/site-packages/sklearn/preprocessing/_data.py:2785: UserWarning: n_quantiles (1000) is greater than the total number of samples (157). n_quantiles is set to n_samples.\n",
      "  warnings.warn(\n",
      "/home/krasen/urban_taxonomy/.pixi/envs/default/lib/python3.12/site-packages/sklearn/preprocessing/_data.py:2785: UserWarning: n_quantiles (1000) is greater than the total number of samples (405). n_quantiles is set to n_samples.\n",
      "  warnings.warn(\n",
      "/home/krasen/urban_taxonomy/.pixi/envs/default/lib/python3.12/site-packages/sklearn/preprocessing/_data.py:2785: UserWarning: n_quantiles (1000) is greater than the total number of samples (158). n_quantiles is set to n_samples.\n",
      "  warnings.warn(\n",
      "/home/krasen/urban_taxonomy/.pixi/envs/default/lib/python3.12/site-packages/sklearn/preprocessing/_data.py:2785: UserWarning: n_quantiles (1000) is greater than the total number of samples (142). n_quantiles is set to n_samples.\n",
      "  warnings.warn(\n",
      "/home/krasen/urban_taxonomy/.pixi/envs/default/lib/python3.12/site-packages/sklearn/preprocessing/_data.py:2785: UserWarning: n_quantiles (1000) is greater than the total number of samples (76). n_quantiles is set to n_samples.\n",
      "  warnings.warn(\n"
     ]
    },
    {
     "name": "stdout",
     "output_type": "stream",
     "text": [
      "processing 13555\n",
      "processing 13614\n",
      "processing 13616\n",
      "processing 13655\n",
      "processing 13677\n",
      "processing 13779\n",
      "processing 13810\n"
     ]
    },
    {
     "name": "stderr",
     "output_type": "stream",
     "text": [
      "/home/krasen/urban_taxonomy/.pixi/envs/default/lib/python3.12/site-packages/sklearn/preprocessing/_data.py:2785: UserWarning: n_quantiles (1000) is greater than the total number of samples (475). n_quantiles is set to n_samples.\n",
      "  warnings.warn(\n",
      "/home/krasen/urban_taxonomy/.pixi/envs/default/lib/python3.12/site-packages/sklearn/preprocessing/_data.py:2785: UserWarning: n_quantiles (1000) is greater than the total number of samples (373). n_quantiles is set to n_samples.\n",
      "  warnings.warn(\n",
      "/home/krasen/urban_taxonomy/.pixi/envs/default/lib/python3.12/site-packages/sklearn/preprocessing/_data.py:2785: UserWarning: n_quantiles (1000) is greater than the total number of samples (183). n_quantiles is set to n_samples.\n",
      "  warnings.warn(\n",
      "/home/krasen/urban_taxonomy/.pixi/envs/default/lib/python3.12/site-packages/sklearn/preprocessing/_data.py:2785: UserWarning: n_quantiles (1000) is greater than the total number of samples (225). n_quantiles is set to n_samples.\n",
      "  warnings.warn(\n",
      "/home/krasen/urban_taxonomy/.pixi/envs/default/lib/python3.12/site-packages/sklearn/preprocessing/_data.py:2785: UserWarning: n_quantiles (1000) is greater than the total number of samples (187). n_quantiles is set to n_samples.\n",
      "  warnings.warn(\n",
      "/home/krasen/urban_taxonomy/.pixi/envs/default/lib/python3.12/site-packages/sklearn/preprocessing/_data.py:2785: UserWarning: n_quantiles (1000) is greater than the total number of samples (375). n_quantiles is set to n_samples.\n",
      "  warnings.warn(\n",
      "/home/krasen/urban_taxonomy/.pixi/envs/default/lib/python3.12/site-packages/sklearn/preprocessing/_data.py:2785: UserWarning: n_quantiles (1000) is greater than the total number of samples (198). n_quantiles is set to n_samples.\n",
      "  warnings.warn(\n"
     ]
    },
    {
     "name": "stdout",
     "output_type": "stream",
     "text": [
      "processing 13881\n",
      "processing 13897\n",
      "processing 13965\n",
      "processing 14084\n",
      "processing 14245\n",
      "processing 14319\n",
      "processing 14321\n"
     ]
    },
    {
     "name": "stderr",
     "output_type": "stream",
     "text": [
      "/home/krasen/urban_taxonomy/.pixi/envs/default/lib/python3.12/site-packages/sklearn/preprocessing/_data.py:2785: UserWarning: n_quantiles (1000) is greater than the total number of samples (341). n_quantiles is set to n_samples.\n",
      "  warnings.warn(\n",
      "/home/krasen/urban_taxonomy/.pixi/envs/default/lib/python3.12/site-packages/sklearn/preprocessing/_data.py:2785: UserWarning: n_quantiles (1000) is greater than the total number of samples (114). n_quantiles is set to n_samples.\n",
      "  warnings.warn(\n",
      "/home/krasen/urban_taxonomy/.pixi/envs/default/lib/python3.12/site-packages/sklearn/preprocessing/_data.py:2785: UserWarning: n_quantiles (1000) is greater than the total number of samples (172). n_quantiles is set to n_samples.\n",
      "  warnings.warn(\n",
      "/home/krasen/urban_taxonomy/.pixi/envs/default/lib/python3.12/site-packages/sklearn/preprocessing/_data.py:2785: UserWarning: n_quantiles (1000) is greater than the total number of samples (490). n_quantiles is set to n_samples.\n",
      "  warnings.warn(\n",
      "/home/krasen/urban_taxonomy/.pixi/envs/default/lib/python3.12/site-packages/sklearn/preprocessing/_data.py:2785: UserWarning: n_quantiles (1000) is greater than the total number of samples (482). n_quantiles is set to n_samples.\n",
      "  warnings.warn(\n",
      "/home/krasen/urban_taxonomy/.pixi/envs/default/lib/python3.12/site-packages/sklearn/preprocessing/_data.py:2785: UserWarning: n_quantiles (1000) is greater than the total number of samples (373). n_quantiles is set to n_samples.\n",
      "  warnings.warn(\n",
      "/home/krasen/urban_taxonomy/.pixi/envs/default/lib/python3.12/site-packages/sklearn/preprocessing/_data.py:2785: UserWarning: n_quantiles (1000) is greater than the total number of samples (225). n_quantiles is set to n_samples.\n",
      "  warnings.warn(\n"
     ]
    },
    {
     "name": "stdout",
     "output_type": "stream",
     "text": [
      "processing 14327\n",
      "processing 14364\n",
      "processing 14383\n",
      "processing 14550\n",
      "processing 14552\n",
      "processing 14623\n",
      "processing 14679\n"
     ]
    },
    {
     "name": "stderr",
     "output_type": "stream",
     "text": [
      "/home/krasen/urban_taxonomy/.pixi/envs/default/lib/python3.12/site-packages/sklearn/preprocessing/_data.py:2785: UserWarning: n_quantiles (1000) is greater than the total number of samples (162). n_quantiles is set to n_samples.\n",
      "  warnings.warn(\n",
      "/home/krasen/urban_taxonomy/.pixi/envs/default/lib/python3.12/site-packages/sklearn/preprocessing/_data.py:2785: UserWarning: n_quantiles (1000) is greater than the total number of samples (221). n_quantiles is set to n_samples.\n",
      "  warnings.warn(\n",
      "/home/krasen/urban_taxonomy/.pixi/envs/default/lib/python3.12/site-packages/sklearn/preprocessing/_data.py:2785: UserWarning: n_quantiles (1000) is greater than the total number of samples (228). n_quantiles is set to n_samples.\n",
      "  warnings.warn(\n",
      "/home/krasen/urban_taxonomy/.pixi/envs/default/lib/python3.12/site-packages/sklearn/preprocessing/_data.py:2785: UserWarning: n_quantiles (1000) is greater than the total number of samples (117). n_quantiles is set to n_samples.\n",
      "  warnings.warn(\n",
      "/home/krasen/urban_taxonomy/.pixi/envs/default/lib/python3.12/site-packages/sklearn/preprocessing/_data.py:2785: UserWarning: n_quantiles (1000) is greater than the total number of samples (134). n_quantiles is set to n_samples.\n",
      "  warnings.warn(\n"
     ]
    },
    {
     "name": "stdout",
     "output_type": "stream",
     "text": [
      "processing 14702\n",
      "processing 14735\n",
      "processing 14789\n",
      "processing 14933\n",
      "processing 15019\n",
      "processing 15139\n"
     ]
    },
    {
     "name": "stderr",
     "output_type": "stream",
     "text": [
      "/home/krasen/urban_taxonomy/.pixi/envs/default/lib/python3.12/site-packages/sklearn/preprocessing/_data.py:2785: UserWarning: n_quantiles (1000) is greater than the total number of samples (89). n_quantiles is set to n_samples.\n",
      "  warnings.warn(\n",
      "/home/krasen/urban_taxonomy/.pixi/envs/default/lib/python3.12/site-packages/sklearn/preprocessing/_data.py:2785: UserWarning: n_quantiles (1000) is greater than the total number of samples (121). n_quantiles is set to n_samples.\n",
      "  warnings.warn(\n",
      "/home/krasen/urban_taxonomy/.pixi/envs/default/lib/python3.12/site-packages/sklearn/preprocessing/_data.py:2785: UserWarning: n_quantiles (1000) is greater than the total number of samples (286). n_quantiles is set to n_samples.\n",
      "  warnings.warn(\n",
      "/home/krasen/urban_taxonomy/.pixi/envs/default/lib/python3.12/site-packages/sklearn/preprocessing/_data.py:2785: UserWarning: n_quantiles (1000) is greater than the total number of samples (416). n_quantiles is set to n_samples.\n",
      "  warnings.warn(\n",
      "/home/krasen/urban_taxonomy/.pixi/envs/default/lib/python3.12/site-packages/sklearn/preprocessing/_data.py:2785: UserWarning: n_quantiles (1000) is greater than the total number of samples (463). n_quantiles is set to n_samples.\n",
      "  warnings.warn(\n",
      "/home/krasen/urban_taxonomy/.pixi/envs/default/lib/python3.12/site-packages/sklearn/preprocessing/_data.py:2785: UserWarning: n_quantiles (1000) is greater than the total number of samples (148). n_quantiles is set to n_samples.\n",
      "  warnings.warn(\n",
      "/home/krasen/urban_taxonomy/.pixi/envs/default/lib/python3.12/site-packages/sklearn/preprocessing/_data.py:2785: UserWarning: n_quantiles (1000) is greater than the total number of samples (312). n_quantiles is set to n_samples.\n",
      "  warnings.warn(\n"
     ]
    },
    {
     "name": "stdout",
     "output_type": "stream",
     "text": [
      "processing 15265\n",
      "processing 15331\n",
      "processing 15347\n",
      "processing 15484\n",
      "processing 15509\n",
      "processing 15545\n",
      "processing 15555\n",
      "processing 15613\n",
      "processing 15626\n"
     ]
    },
    {
     "name": "stderr",
     "output_type": "stream",
     "text": [
      "/home/krasen/urban_taxonomy/.pixi/envs/default/lib/python3.12/site-packages/sklearn/preprocessing/_data.py:2785: UserWarning: n_quantiles (1000) is greater than the total number of samples (126). n_quantiles is set to n_samples.\n",
      "  warnings.warn(\n",
      "/home/krasen/urban_taxonomy/.pixi/envs/default/lib/python3.12/site-packages/sklearn/preprocessing/_data.py:2785: UserWarning: n_quantiles (1000) is greater than the total number of samples (123). n_quantiles is set to n_samples.\n",
      "  warnings.warn(\n",
      "/home/krasen/urban_taxonomy/.pixi/envs/default/lib/python3.12/site-packages/sklearn/preprocessing/_data.py:2785: UserWarning: n_quantiles (1000) is greater than the total number of samples (130). n_quantiles is set to n_samples.\n",
      "  warnings.warn(\n",
      "/home/krasen/urban_taxonomy/.pixi/envs/default/lib/python3.12/site-packages/sklearn/preprocessing/_data.py:2785: UserWarning: n_quantiles (1000) is greater than the total number of samples (196). n_quantiles is set to n_samples.\n",
      "  warnings.warn(\n",
      "/home/krasen/urban_taxonomy/.pixi/envs/default/lib/python3.12/site-packages/sklearn/preprocessing/_data.py:2785: UserWarning: n_quantiles (1000) is greater than the total number of samples (53). n_quantiles is set to n_samples.\n",
      "  warnings.warn(\n",
      "/home/krasen/urban_taxonomy/.pixi/envs/default/lib/python3.12/site-packages/sklearn/preprocessing/_data.py:2785: UserWarning: n_quantiles (1000) is greater than the total number of samples (76). n_quantiles is set to n_samples.\n",
      "  warnings.warn(\n",
      "/home/krasen/urban_taxonomy/.pixi/envs/default/lib/python3.12/site-packages/sklearn/preprocessing/_data.py:2785: UserWarning: n_quantiles (1000) is greater than the total number of samples (328). n_quantiles is set to n_samples.\n",
      "  warnings.warn(\n",
      "/home/krasen/urban_taxonomy/.pixi/envs/default/lib/python3.12/site-packages/sklearn/preprocessing/_data.py:2785: UserWarning: n_quantiles (1000) is greater than the total number of samples (209). n_quantiles is set to n_samples.\n",
      "  warnings.warn(\n",
      "/home/krasen/urban_taxonomy/.pixi/envs/default/lib/python3.12/site-packages/sklearn/preprocessing/_data.py:2785: UserWarning: n_quantiles (1000) is greater than the total number of samples (143). n_quantiles is set to n_samples.\n",
      "  warnings.warn(\n"
     ]
    },
    {
     "name": "stdout",
     "output_type": "stream",
     "text": [
      "processing 15653\n",
      "processing 15690\n",
      "processing 15716\n",
      "processing 15794\n",
      "processing 15802\n",
      "processing 15933\n",
      "processing 15970\n",
      "processing 16217\n"
     ]
    },
    {
     "name": "stderr",
     "output_type": "stream",
     "text": [
      "/home/krasen/urban_taxonomy/.pixi/envs/default/lib/python3.12/site-packages/sklearn/preprocessing/_data.py:2785: UserWarning: n_quantiles (1000) is greater than the total number of samples (153). n_quantiles is set to n_samples.\n",
      "  warnings.warn(\n",
      "/home/krasen/urban_taxonomy/.pixi/envs/default/lib/python3.12/site-packages/sklearn/preprocessing/_data.py:2785: UserWarning: n_quantiles (1000) is greater than the total number of samples (95). n_quantiles is set to n_samples.\n",
      "  warnings.warn(\n",
      "/home/krasen/urban_taxonomy/.pixi/envs/default/lib/python3.12/site-packages/sklearn/preprocessing/_data.py:2785: UserWarning: n_quantiles (1000) is greater than the total number of samples (234). n_quantiles is set to n_samples.\n",
      "  warnings.warn(\n",
      "/home/krasen/urban_taxonomy/.pixi/envs/default/lib/python3.12/site-packages/sklearn/preprocessing/_data.py:2785: UserWarning: n_quantiles (1000) is greater than the total number of samples (651). n_quantiles is set to n_samples.\n",
      "  warnings.warn(\n",
      "/home/krasen/urban_taxonomy/.pixi/envs/default/lib/python3.12/site-packages/sklearn/preprocessing/_data.py:2785: UserWarning: n_quantiles (1000) is greater than the total number of samples (140). n_quantiles is set to n_samples.\n",
      "  warnings.warn(\n",
      "/home/krasen/urban_taxonomy/.pixi/envs/default/lib/python3.12/site-packages/sklearn/preprocessing/_data.py:2785: UserWarning: n_quantiles (1000) is greater than the total number of samples (172). n_quantiles is set to n_samples.\n",
      "  warnings.warn(\n"
     ]
    },
    {
     "name": "stdout",
     "output_type": "stream",
     "text": [
      "processing 16242\n",
      "processing 16256\n",
      "processing 16291\n",
      "processing 16318\n",
      "processing 16429\n",
      "processing 16509\n",
      "processing 16510\n"
     ]
    },
    {
     "name": "stderr",
     "output_type": "stream",
     "text": [
      "/home/krasen/urban_taxonomy/.pixi/envs/default/lib/python3.12/site-packages/sklearn/preprocessing/_data.py:2785: UserWarning: n_quantiles (1000) is greater than the total number of samples (164). n_quantiles is set to n_samples.\n",
      "  warnings.warn(\n",
      "/home/krasen/urban_taxonomy/.pixi/envs/default/lib/python3.12/site-packages/sklearn/preprocessing/_data.py:2785: UserWarning: n_quantiles (1000) is greater than the total number of samples (187). n_quantiles is set to n_samples.\n",
      "  warnings.warn(\n",
      "/home/krasen/urban_taxonomy/.pixi/envs/default/lib/python3.12/site-packages/sklearn/preprocessing/_data.py:2785: UserWarning: n_quantiles (1000) is greater than the total number of samples (105). n_quantiles is set to n_samples.\n",
      "  warnings.warn(\n",
      "/home/krasen/urban_taxonomy/.pixi/envs/default/lib/python3.12/site-packages/sklearn/preprocessing/_data.py:2785: UserWarning: n_quantiles (1000) is greater than the total number of samples (408). n_quantiles is set to n_samples.\n",
      "  warnings.warn(\n",
      "/home/krasen/urban_taxonomy/.pixi/envs/default/lib/python3.12/site-packages/sklearn/preprocessing/_data.py:2785: UserWarning: n_quantiles (1000) is greater than the total number of samples (349). n_quantiles is set to n_samples.\n",
      "  warnings.warn(\n",
      "/home/krasen/urban_taxonomy/.pixi/envs/default/lib/python3.12/site-packages/sklearn/preprocessing/_data.py:2785: UserWarning: n_quantiles (1000) is greater than the total number of samples (715). n_quantiles is set to n_samples.\n",
      "  warnings.warn(\n"
     ]
    },
    {
     "name": "stdout",
     "output_type": "stream",
     "text": [
      "processing 16566\n",
      "processing 16632\n",
      "processing 16685\n",
      "processing 16688\n"
     ]
    },
    {
     "name": "stderr",
     "output_type": "stream",
     "text": [
      "/home/krasen/urban_taxonomy/.pixi/envs/default/lib/python3.12/site-packages/sklearn/preprocessing/_data.py:2785: UserWarning: n_quantiles (1000) is greater than the total number of samples (128). n_quantiles is set to n_samples.\n",
      "  warnings.warn(\n",
      "/home/krasen/urban_taxonomy/.pixi/envs/default/lib/python3.12/site-packages/sklearn/preprocessing/_data.py:2785: UserWarning: n_quantiles (1000) is greater than the total number of samples (131). n_quantiles is set to n_samples.\n",
      "  warnings.warn(\n",
      "/home/krasen/urban_taxonomy/.pixi/envs/default/lib/python3.12/site-packages/sklearn/preprocessing/_data.py:2785: UserWarning: n_quantiles (1000) is greater than the total number of samples (365). n_quantiles is set to n_samples.\n",
      "  warnings.warn(\n"
     ]
    },
    {
     "name": "stdout",
     "output_type": "stream",
     "text": [
      "processing 16745\n",
      "processing 16921\n",
      "processing 17171\n",
      "processing 17268\n",
      "processing 17389\n",
      "processing 17393\n",
      "processing 17458\n"
     ]
    },
    {
     "name": "stderr",
     "output_type": "stream",
     "text": [
      "/home/krasen/urban_taxonomy/.pixi/envs/default/lib/python3.12/site-packages/sklearn/preprocessing/_data.py:2785: UserWarning: n_quantiles (1000) is greater than the total number of samples (245). n_quantiles is set to n_samples.\n",
      "  warnings.warn(\n",
      "/home/krasen/urban_taxonomy/.pixi/envs/default/lib/python3.12/site-packages/sklearn/preprocessing/_data.py:2785: UserWarning: n_quantiles (1000) is greater than the total number of samples (595). n_quantiles is set to n_samples.\n",
      "  warnings.warn(\n",
      "/home/krasen/urban_taxonomy/.pixi/envs/default/lib/python3.12/site-packages/sklearn/preprocessing/_data.py:2785: UserWarning: n_quantiles (1000) is greater than the total number of samples (136). n_quantiles is set to n_samples.\n",
      "  warnings.warn(\n",
      "/home/krasen/urban_taxonomy/.pixi/envs/default/lib/python3.12/site-packages/sklearn/preprocessing/_data.py:2785: UserWarning: n_quantiles (1000) is greater than the total number of samples (378). n_quantiles is set to n_samples.\n",
      "  warnings.warn(\n",
      "/home/krasen/urban_taxonomy/.pixi/envs/default/lib/python3.12/site-packages/sklearn/preprocessing/_data.py:2785: UserWarning: n_quantiles (1000) is greater than the total number of samples (89). n_quantiles is set to n_samples.\n",
      "  warnings.warn(\n",
      "/home/krasen/urban_taxonomy/.pixi/envs/default/lib/python3.12/site-packages/sklearn/preprocessing/_data.py:2785: UserWarning: n_quantiles (1000) is greater than the total number of samples (301). n_quantiles is set to n_samples.\n",
      "  warnings.warn(\n",
      "/home/krasen/urban_taxonomy/.pixi/envs/default/lib/python3.12/site-packages/sklearn/preprocessing/_data.py:2785: UserWarning: n_quantiles (1000) is greater than the total number of samples (93). n_quantiles is set to n_samples.\n",
      "  warnings.warn(\n"
     ]
    },
    {
     "name": "stdout",
     "output_type": "stream",
     "text": [
      "processing 17677\n",
      "processing 17690\n",
      "processing 17959\n",
      "processing 18008\n",
      "processing 18164\n",
      "processing 18454\n",
      "processing 18489\n"
     ]
    },
    {
     "name": "stderr",
     "output_type": "stream",
     "text": [
      "/home/krasen/urban_taxonomy/.pixi/envs/default/lib/python3.12/site-packages/sklearn/preprocessing/_data.py:2785: UserWarning: n_quantiles (1000) is greater than the total number of samples (359). n_quantiles is set to n_samples.\n",
      "  warnings.warn(\n",
      "/home/krasen/urban_taxonomy/.pixi/envs/default/lib/python3.12/site-packages/sklearn/preprocessing/_data.py:2785: UserWarning: n_quantiles (1000) is greater than the total number of samples (490). n_quantiles is set to n_samples.\n",
      "  warnings.warn(\n",
      "/home/krasen/urban_taxonomy/.pixi/envs/default/lib/python3.12/site-packages/sklearn/preprocessing/_data.py:2785: UserWarning: n_quantiles (1000) is greater than the total number of samples (211). n_quantiles is set to n_samples.\n",
      "  warnings.warn(\n",
      "/home/krasen/urban_taxonomy/.pixi/envs/default/lib/python3.12/site-packages/sklearn/preprocessing/_data.py:2785: UserWarning: n_quantiles (1000) is greater than the total number of samples (278). n_quantiles is set to n_samples.\n",
      "  warnings.warn(\n",
      "/home/krasen/urban_taxonomy/.pixi/envs/default/lib/python3.12/site-packages/sklearn/preprocessing/_data.py:2785: UserWarning: n_quantiles (1000) is greater than the total number of samples (93). n_quantiles is set to n_samples.\n",
      "  warnings.warn(\n",
      "/home/krasen/urban_taxonomy/.pixi/envs/default/lib/python3.12/site-packages/sklearn/preprocessing/_data.py:2785: UserWarning: n_quantiles (1000) is greater than the total number of samples (182). n_quantiles is set to n_samples.\n",
      "  warnings.warn(\n",
      "/home/krasen/urban_taxonomy/.pixi/envs/default/lib/python3.12/site-packages/sklearn/preprocessing/_data.py:2785: UserWarning: n_quantiles (1000) is greater than the total number of samples (570). n_quantiles is set to n_samples.\n",
      "  warnings.warn(\n"
     ]
    },
    {
     "name": "stdout",
     "output_type": "stream",
     "text": [
      "processing 18516\n",
      "processing 18557\n"
     ]
    },
    {
     "name": "stderr",
     "output_type": "stream",
     "text": [
      "/home/krasen/urban_taxonomy/.pixi/envs/default/lib/python3.12/site-packages/sklearn/preprocessing/_data.py:2785: UserWarning: n_quantiles (1000) is greater than the total number of samples (161). n_quantiles is set to n_samples.\n",
      "  warnings.warn(\n"
     ]
    },
    {
     "name": "stdout",
     "output_type": "stream",
     "text": [
      "processing 18893\n",
      "processing 19124\n",
      "processing 19151\n",
      "processing 19244\n",
      "processing 19254\n",
      "processing 19376\n",
      "processing 19386\n"
     ]
    },
    {
     "name": "stderr",
     "output_type": "stream",
     "text": [
      "/home/krasen/urban_taxonomy/.pixi/envs/default/lib/python3.12/site-packages/sklearn/preprocessing/_data.py:2785: UserWarning: n_quantiles (1000) is greater than the total number of samples (406). n_quantiles is set to n_samples.\n",
      "  warnings.warn(\n",
      "/home/krasen/urban_taxonomy/.pixi/envs/default/lib/python3.12/site-packages/sklearn/preprocessing/_data.py:2785: UserWarning: n_quantiles (1000) is greater than the total number of samples (512). n_quantiles is set to n_samples.\n",
      "  warnings.warn(\n",
      "/home/krasen/urban_taxonomy/.pixi/envs/default/lib/python3.12/site-packages/sklearn/preprocessing/_data.py:2785: UserWarning: n_quantiles (1000) is greater than the total number of samples (96). n_quantiles is set to n_samples.\n",
      "  warnings.warn(\n",
      "/home/krasen/urban_taxonomy/.pixi/envs/default/lib/python3.12/site-packages/sklearn/preprocessing/_data.py:2785: UserWarning: n_quantiles (1000) is greater than the total number of samples (169). n_quantiles is set to n_samples.\n",
      "  warnings.warn(\n",
      "/home/krasen/urban_taxonomy/.pixi/envs/default/lib/python3.12/site-packages/sklearn/preprocessing/_data.py:2785: UserWarning: n_quantiles (1000) is greater than the total number of samples (313). n_quantiles is set to n_samples.\n",
      "  warnings.warn(\n",
      "/home/krasen/urban_taxonomy/.pixi/envs/default/lib/python3.12/site-packages/sklearn/preprocessing/_data.py:2785: UserWarning: n_quantiles (1000) is greater than the total number of samples (261). n_quantiles is set to n_samples.\n",
      "  warnings.warn(\n"
     ]
    },
    {
     "name": "stdout",
     "output_type": "stream",
     "text": [
      "processing 19393\n",
      "processing 19542\n",
      "processing 19878\n",
      "processing 19940\n",
      "processing 20123\n"
     ]
    },
    {
     "name": "stderr",
     "output_type": "stream",
     "text": [
      "/home/krasen/urban_taxonomy/.pixi/envs/default/lib/python3.12/site-packages/sklearn/preprocessing/_data.py:2785: UserWarning: n_quantiles (1000) is greater than the total number of samples (679). n_quantiles is set to n_samples.\n",
      "  warnings.warn(\n",
      "/home/krasen/urban_taxonomy/.pixi/envs/default/lib/python3.12/site-packages/sklearn/preprocessing/_data.py:2785: UserWarning: n_quantiles (1000) is greater than the total number of samples (309). n_quantiles is set to n_samples.\n",
      "  warnings.warn(\n",
      "/home/krasen/urban_taxonomy/.pixi/envs/default/lib/python3.12/site-packages/sklearn/preprocessing/_data.py:2785: UserWarning: n_quantiles (1000) is greater than the total number of samples (553). n_quantiles is set to n_samples.\n",
      "  warnings.warn(\n",
      "/home/krasen/urban_taxonomy/.pixi/envs/default/lib/python3.12/site-packages/sklearn/preprocessing/_data.py:2785: UserWarning: n_quantiles (1000) is greater than the total number of samples (142). n_quantiles is set to n_samples.\n",
      "  warnings.warn(\n",
      "/home/krasen/urban_taxonomy/.pixi/envs/default/lib/python3.12/site-packages/sklearn/preprocessing/_data.py:2785: UserWarning: n_quantiles (1000) is greater than the total number of samples (268). n_quantiles is set to n_samples.\n",
      "  warnings.warn(\n",
      "/home/krasen/urban_taxonomy/.pixi/envs/default/lib/python3.12/site-packages/sklearn/preprocessing/_data.py:2785: UserWarning: n_quantiles (1000) is greater than the total number of samples (269). n_quantiles is set to n_samples.\n",
      "  warnings.warn(\n"
     ]
    },
    {
     "name": "stdout",
     "output_type": "stream",
     "text": [
      "processing 20149\n",
      "processing 20243\n",
      "processing 20496\n",
      "processing 20554\n",
      "processing 20783\n"
     ]
    },
    {
     "name": "stderr",
     "output_type": "stream",
     "text": [
      "/home/krasen/urban_taxonomy/.pixi/envs/default/lib/python3.12/site-packages/sklearn/preprocessing/_data.py:2785: UserWarning: n_quantiles (1000) is greater than the total number of samples (313). n_quantiles is set to n_samples.\n",
      "  warnings.warn(\n",
      "/home/krasen/urban_taxonomy/.pixi/envs/default/lib/python3.12/site-packages/sklearn/preprocessing/_data.py:2785: UserWarning: n_quantiles (1000) is greater than the total number of samples (408). n_quantiles is set to n_samples.\n",
      "  warnings.warn(\n",
      "/home/krasen/urban_taxonomy/.pixi/envs/default/lib/python3.12/site-packages/sklearn/preprocessing/_data.py:2785: UserWarning: n_quantiles (1000) is greater than the total number of samples (850). n_quantiles is set to n_samples.\n",
      "  warnings.warn(\n",
      "/home/krasen/urban_taxonomy/.pixi/envs/default/lib/python3.12/site-packages/sklearn/preprocessing/_data.py:2785: UserWarning: n_quantiles (1000) is greater than the total number of samples (349). n_quantiles is set to n_samples.\n",
      "  warnings.warn(\n",
      "/home/krasen/urban_taxonomy/.pixi/envs/default/lib/python3.12/site-packages/sklearn/preprocessing/_data.py:2785: UserWarning: n_quantiles (1000) is greater than the total number of samples (340). n_quantiles is set to n_samples.\n",
      "  warnings.warn(\n"
     ]
    },
    {
     "name": "stdout",
     "output_type": "stream",
     "text": [
      "processing 20968\n",
      "processing 20970\n",
      "processing 21174\n",
      "processing 21304\n",
      "processing 21484\n",
      "processing 21523\n",
      "processing 21569\n",
      "processing 21591\n"
     ]
    },
    {
     "name": "stderr",
     "output_type": "stream",
     "text": [
      "/home/krasen/urban_taxonomy/.pixi/envs/default/lib/python3.12/site-packages/sklearn/preprocessing/_data.py:2785: UserWarning: n_quantiles (1000) is greater than the total number of samples (323). n_quantiles is set to n_samples.\n",
      "  warnings.warn(\n",
      "/home/krasen/urban_taxonomy/.pixi/envs/default/lib/python3.12/site-packages/sklearn/preprocessing/_data.py:2785: UserWarning: n_quantiles (1000) is greater than the total number of samples (247). n_quantiles is set to n_samples.\n",
      "  warnings.warn(\n",
      "/home/krasen/urban_taxonomy/.pixi/envs/default/lib/python3.12/site-packages/sklearn/preprocessing/_data.py:2785: UserWarning: n_quantiles (1000) is greater than the total number of samples (493). n_quantiles is set to n_samples.\n",
      "  warnings.warn(\n",
      "/home/krasen/urban_taxonomy/.pixi/envs/default/lib/python3.12/site-packages/sklearn/preprocessing/_data.py:2785: UserWarning: n_quantiles (1000) is greater than the total number of samples (189). n_quantiles is set to n_samples.\n",
      "  warnings.warn(\n",
      "/home/krasen/urban_taxonomy/.pixi/envs/default/lib/python3.12/site-packages/sklearn/preprocessing/_data.py:2785: UserWarning: n_quantiles (1000) is greater than the total number of samples (410). n_quantiles is set to n_samples.\n",
      "  warnings.warn(\n",
      "/home/krasen/urban_taxonomy/.pixi/envs/default/lib/python3.12/site-packages/sklearn/preprocessing/_data.py:2785: UserWarning: n_quantiles (1000) is greater than the total number of samples (479). n_quantiles is set to n_samples.\n",
      "  warnings.warn(\n"
     ]
    },
    {
     "name": "stdout",
     "output_type": "stream",
     "text": [
      "processing 21894\n",
      "processing 21904\n",
      "processing 22040\n",
      "processing 22105\n",
      "processing 22345\n"
     ]
    },
    {
     "name": "stderr",
     "output_type": "stream",
     "text": [
      "/home/krasen/urban_taxonomy/.pixi/envs/default/lib/python3.12/site-packages/sklearn/preprocessing/_data.py:2785: UserWarning: n_quantiles (1000) is greater than the total number of samples (494). n_quantiles is set to n_samples.\n",
      "  warnings.warn(\n",
      "/home/krasen/urban_taxonomy/.pixi/envs/default/lib/python3.12/site-packages/sklearn/preprocessing/_data.py:2785: UserWarning: n_quantiles (1000) is greater than the total number of samples (159). n_quantiles is set to n_samples.\n",
      "  warnings.warn(\n",
      "/home/krasen/urban_taxonomy/.pixi/envs/default/lib/python3.12/site-packages/sklearn/preprocessing/_data.py:2785: UserWarning: n_quantiles (1000) is greater than the total number of samples (354). n_quantiles is set to n_samples.\n",
      "  warnings.warn(\n",
      "/home/krasen/urban_taxonomy/.pixi/envs/default/lib/python3.12/site-packages/sklearn/preprocessing/_data.py:2785: UserWarning: n_quantiles (1000) is greater than the total number of samples (449). n_quantiles is set to n_samples.\n",
      "  warnings.warn(\n"
     ]
    },
    {
     "name": "stdout",
     "output_type": "stream",
     "text": [
      "processing 22602\n",
      "processing 22704\n",
      "processing 22884\n",
      "processing 22912\n",
      "processing 22976\n",
      "processing 23258\n",
      "processing 23337\n"
     ]
    },
    {
     "name": "stderr",
     "output_type": "stream",
     "text": [
      "/home/krasen/urban_taxonomy/.pixi/envs/default/lib/python3.12/site-packages/sklearn/preprocessing/_data.py:2785: UserWarning: n_quantiles (1000) is greater than the total number of samples (188). n_quantiles is set to n_samples.\n",
      "  warnings.warn(\n",
      "/home/krasen/urban_taxonomy/.pixi/envs/default/lib/python3.12/site-packages/sklearn/preprocessing/_data.py:2785: UserWarning: n_quantiles (1000) is greater than the total number of samples (482). n_quantiles is set to n_samples.\n",
      "  warnings.warn(\n",
      "/home/krasen/urban_taxonomy/.pixi/envs/default/lib/python3.12/site-packages/sklearn/preprocessing/_data.py:2785: UserWarning: n_quantiles (1000) is greater than the total number of samples (172). n_quantiles is set to n_samples.\n",
      "  warnings.warn(\n",
      "/home/krasen/urban_taxonomy/.pixi/envs/default/lib/python3.12/site-packages/sklearn/preprocessing/_data.py:2785: UserWarning: n_quantiles (1000) is greater than the total number of samples (323). n_quantiles is set to n_samples.\n",
      "  warnings.warn(\n",
      "/home/krasen/urban_taxonomy/.pixi/envs/default/lib/python3.12/site-packages/sklearn/preprocessing/_data.py:2785: UserWarning: n_quantiles (1000) is greater than the total number of samples (504). n_quantiles is set to n_samples.\n",
      "  warnings.warn(\n",
      "/home/krasen/urban_taxonomy/.pixi/envs/default/lib/python3.12/site-packages/sklearn/preprocessing/_data.py:2785: UserWarning: n_quantiles (1000) is greater than the total number of samples (352). n_quantiles is set to n_samples.\n",
      "  warnings.warn(\n",
      "/home/krasen/urban_taxonomy/.pixi/envs/default/lib/python3.12/site-packages/sklearn/preprocessing/_data.py:2785: UserWarning: n_quantiles (1000) is greater than the total number of samples (186). n_quantiles is set to n_samples.\n",
      "  warnings.warn(\n"
     ]
    },
    {
     "name": "stdout",
     "output_type": "stream",
     "text": [
      "processing 23401\n",
      "processing 23631\n"
     ]
    },
    {
     "name": "stderr",
     "output_type": "stream",
     "text": [
      "/home/krasen/urban_taxonomy/.pixi/envs/default/lib/python3.12/site-packages/sklearn/preprocessing/_data.py:2785: UserWarning: n_quantiles (1000) is greater than the total number of samples (458). n_quantiles is set to n_samples.\n",
      "  warnings.warn(\n",
      "/home/krasen/urban_taxonomy/.pixi/envs/default/lib/python3.12/site-packages/sklearn/preprocessing/_data.py:2785: UserWarning: n_quantiles (1000) is greater than the total number of samples (160). n_quantiles is set to n_samples.\n",
      "  warnings.warn(\n",
      "/home/krasen/urban_taxonomy/.pixi/envs/default/lib/python3.12/site-packages/sklearn/preprocessing/_data.py:2785: UserWarning: n_quantiles (1000) is greater than the total number of samples (169). n_quantiles is set to n_samples.\n",
      "  warnings.warn(\n",
      "/home/krasen/urban_taxonomy/.pixi/envs/default/lib/python3.12/site-packages/sklearn/preprocessing/_data.py:2785: UserWarning: n_quantiles (1000) is greater than the total number of samples (203). n_quantiles is set to n_samples.\n",
      "  warnings.warn(\n",
      "/home/krasen/urban_taxonomy/.pixi/envs/default/lib/python3.12/site-packages/sklearn/preprocessing/_data.py:2785: UserWarning: n_quantiles (1000) is greater than the total number of samples (102). n_quantiles is set to n_samples.\n",
      "  warnings.warn(\n",
      "/home/krasen/urban_taxonomy/.pixi/envs/default/lib/python3.12/site-packages/sklearn/preprocessing/_data.py:2785: UserWarning: n_quantiles (1000) is greater than the total number of samples (196). n_quantiles is set to n_samples.\n",
      "  warnings.warn(\n",
      "/home/krasen/urban_taxonomy/.pixi/envs/default/lib/python3.12/site-packages/sklearn/preprocessing/_data.py:2785: UserWarning: n_quantiles (1000) is greater than the total number of samples (679). n_quantiles is set to n_samples.\n",
      "  warnings.warn(\n"
     ]
    },
    {
     "name": "stdout",
     "output_type": "stream",
     "text": [
      "processing 23642\n",
      "processing 23661\n",
      "processing 23812\n",
      "processing 23984\n",
      "processing 24116\n",
      "processing 24232\n",
      "processing 24257\n"
     ]
    },
    {
     "name": "stderr",
     "output_type": "stream",
     "text": [
      "/home/krasen/urban_taxonomy/.pixi/envs/default/lib/python3.12/site-packages/sklearn/preprocessing/_data.py:2785: UserWarning: n_quantiles (1000) is greater than the total number of samples (567). n_quantiles is set to n_samples.\n",
      "  warnings.warn(\n",
      "/home/krasen/urban_taxonomy/.pixi/envs/default/lib/python3.12/site-packages/sklearn/preprocessing/_data.py:2785: UserWarning: n_quantiles (1000) is greater than the total number of samples (113). n_quantiles is set to n_samples.\n",
      "  warnings.warn(\n",
      "/home/krasen/urban_taxonomy/.pixi/envs/default/lib/python3.12/site-packages/sklearn/preprocessing/_data.py:2785: UserWarning: n_quantiles (1000) is greater than the total number of samples (111). n_quantiles is set to n_samples.\n",
      "  warnings.warn(\n",
      "/home/krasen/urban_taxonomy/.pixi/envs/default/lib/python3.12/site-packages/sklearn/preprocessing/_data.py:2785: UserWarning: n_quantiles (1000) is greater than the total number of samples (146). n_quantiles is set to n_samples.\n",
      "  warnings.warn(\n",
      "/home/krasen/urban_taxonomy/.pixi/envs/default/lib/python3.12/site-packages/sklearn/preprocessing/_data.py:2785: UserWarning: n_quantiles (1000) is greater than the total number of samples (850). n_quantiles is set to n_samples.\n",
      "  warnings.warn(\n",
      "/home/krasen/urban_taxonomy/.pixi/envs/default/lib/python3.12/site-packages/sklearn/preprocessing/_data.py:2785: UserWarning: n_quantiles (1000) is greater than the total number of samples (691). n_quantiles is set to n_samples.\n",
      "  warnings.warn(\n"
     ]
    },
    {
     "name": "stdout",
     "output_type": "stream",
     "text": [
      "processing 24276\n",
      "processing 24389\n",
      "processing 24402\n",
      "processing 24596\n",
      "processing 24735\n",
      "processing 24743\n",
      "processing 25202\n",
      "processing 25361\n",
      "processing 25491\n",
      "processing 25532\n",
      "processing 25656\n"
     ]
    },
    {
     "name": "stderr",
     "output_type": "stream",
     "text": [
      "/home/krasen/urban_taxonomy/.pixi/envs/default/lib/python3.12/site-packages/sklearn/preprocessing/_data.py:2785: UserWarning: n_quantiles (1000) is greater than the total number of samples (618). n_quantiles is set to n_samples.\n",
      "  warnings.warn(\n",
      "/home/krasen/urban_taxonomy/.pixi/envs/default/lib/python3.12/site-packages/sklearn/preprocessing/_data.py:2785: UserWarning: n_quantiles (1000) is greater than the total number of samples (116). n_quantiles is set to n_samples.\n",
      "  warnings.warn(\n",
      "/home/krasen/urban_taxonomy/.pixi/envs/default/lib/python3.12/site-packages/sklearn/preprocessing/_data.py:2785: UserWarning: n_quantiles (1000) is greater than the total number of samples (138). n_quantiles is set to n_samples.\n",
      "  warnings.warn(\n",
      "/home/krasen/urban_taxonomy/.pixi/envs/default/lib/python3.12/site-packages/sklearn/preprocessing/_data.py:2785: UserWarning: n_quantiles (1000) is greater than the total number of samples (407). n_quantiles is set to n_samples.\n",
      "  warnings.warn(\n",
      "/home/krasen/urban_taxonomy/.pixi/envs/default/lib/python3.12/site-packages/sklearn/preprocessing/_data.py:2785: UserWarning: n_quantiles (1000) is greater than the total number of samples (204). n_quantiles is set to n_samples.\n",
      "  warnings.warn(\n",
      "/home/krasen/urban_taxonomy/.pixi/envs/default/lib/python3.12/site-packages/sklearn/preprocessing/_data.py:2785: UserWarning: n_quantiles (1000) is greater than the total number of samples (505). n_quantiles is set to n_samples.\n",
      "  warnings.warn(\n"
     ]
    },
    {
     "name": "stdout",
     "output_type": "stream",
     "text": [
      "processing 25697\n",
      "processing 25765\n",
      "processing 25934\n"
     ]
    },
    {
     "name": "stderr",
     "output_type": "stream",
     "text": [
      "/home/krasen/urban_taxonomy/.pixi/envs/default/lib/python3.12/site-packages/sklearn/preprocessing/_data.py:2785: UserWarning: n_quantiles (1000) is greater than the total number of samples (443). n_quantiles is set to n_samples.\n",
      "  warnings.warn(\n",
      "/home/krasen/urban_taxonomy/.pixi/envs/default/lib/python3.12/site-packages/sklearn/preprocessing/_data.py:2785: UserWarning: n_quantiles (1000) is greater than the total number of samples (725). n_quantiles is set to n_samples.\n",
      "  warnings.warn(\n"
     ]
    },
    {
     "name": "stdout",
     "output_type": "stream",
     "text": [
      "processing 26072\n",
      "processing 26265\n",
      "processing 26300\n",
      "processing 26315\n",
      "processing 26429\n",
      "processing 26435\n"
     ]
    },
    {
     "name": "stderr",
     "output_type": "stream",
     "text": [
      "/home/krasen/urban_taxonomy/.pixi/envs/default/lib/python3.12/site-packages/sklearn/preprocessing/_data.py:2785: UserWarning: n_quantiles (1000) is greater than the total number of samples (111). n_quantiles is set to n_samples.\n",
      "  warnings.warn(\n",
      "/home/krasen/urban_taxonomy/.pixi/envs/default/lib/python3.12/site-packages/sklearn/preprocessing/_data.py:2785: UserWarning: n_quantiles (1000) is greater than the total number of samples (528). n_quantiles is set to n_samples.\n",
      "  warnings.warn(\n",
      "/home/krasen/urban_taxonomy/.pixi/envs/default/lib/python3.12/site-packages/sklearn/preprocessing/_data.py:2785: UserWarning: n_quantiles (1000) is greater than the total number of samples (462). n_quantiles is set to n_samples.\n",
      "  warnings.warn(\n",
      "/home/krasen/urban_taxonomy/.pixi/envs/default/lib/python3.12/site-packages/sklearn/preprocessing/_data.py:2785: UserWarning: n_quantiles (1000) is greater than the total number of samples (533). n_quantiles is set to n_samples.\n",
      "  warnings.warn(\n",
      "/home/krasen/urban_taxonomy/.pixi/envs/default/lib/python3.12/site-packages/sklearn/preprocessing/_data.py:2785: UserWarning: n_quantiles (1000) is greater than the total number of samples (259). n_quantiles is set to n_samples.\n",
      "  warnings.warn(\n",
      "/home/krasen/urban_taxonomy/.pixi/envs/default/lib/python3.12/site-packages/sklearn/preprocessing/_data.py:2785: UserWarning: n_quantiles (1000) is greater than the total number of samples (251). n_quantiles is set to n_samples.\n",
      "  warnings.warn(\n"
     ]
    },
    {
     "name": "stdout",
     "output_type": "stream",
     "text": [
      "processing 26468\n",
      "processing 26780\n",
      "processing 26888\n",
      "processing 27053\n",
      "processing 27166\n"
     ]
    },
    {
     "name": "stderr",
     "output_type": "stream",
     "text": [
      "/home/krasen/urban_taxonomy/.pixi/envs/default/lib/python3.12/site-packages/sklearn/preprocessing/_data.py:2785: UserWarning: n_quantiles (1000) is greater than the total number of samples (900). n_quantiles is set to n_samples.\n",
      "  warnings.warn(\n",
      "/home/krasen/urban_taxonomy/.pixi/envs/default/lib/python3.12/site-packages/sklearn/preprocessing/_data.py:2785: UserWarning: n_quantiles (1000) is greater than the total number of samples (223). n_quantiles is set to n_samples.\n",
      "  warnings.warn(\n",
      "/home/krasen/urban_taxonomy/.pixi/envs/default/lib/python3.12/site-packages/sklearn/preprocessing/_data.py:2785: UserWarning: n_quantiles (1000) is greater than the total number of samples (290). n_quantiles is set to n_samples.\n",
      "  warnings.warn(\n",
      "/home/krasen/urban_taxonomy/.pixi/envs/default/lib/python3.12/site-packages/sklearn/preprocessing/_data.py:2785: UserWarning: n_quantiles (1000) is greater than the total number of samples (488). n_quantiles is set to n_samples.\n",
      "  warnings.warn(\n",
      "/home/krasen/urban_taxonomy/.pixi/envs/default/lib/python3.12/site-packages/sklearn/preprocessing/_data.py:2785: UserWarning: n_quantiles (1000) is greater than the total number of samples (609). n_quantiles is set to n_samples.\n",
      "  warnings.warn(\n"
     ]
    },
    {
     "name": "stdout",
     "output_type": "stream",
     "text": [
      "processing 27178\n",
      "processing 27297\n",
      "processing 27411\n",
      "processing 27578\n"
     ]
    },
    {
     "name": "stderr",
     "output_type": "stream",
     "text": [
      "/home/krasen/urban_taxonomy/.pixi/envs/default/lib/python3.12/site-packages/sklearn/preprocessing/_data.py:2785: UserWarning: n_quantiles (1000) is greater than the total number of samples (915). n_quantiles is set to n_samples.\n",
      "  warnings.warn(\n",
      "/home/krasen/urban_taxonomy/.pixi/envs/default/lib/python3.12/site-packages/sklearn/preprocessing/_data.py:2785: UserWarning: n_quantiles (1000) is greater than the total number of samples (572). n_quantiles is set to n_samples.\n",
      "  warnings.warn(\n",
      "/home/krasen/urban_taxonomy/.pixi/envs/default/lib/python3.12/site-packages/sklearn/preprocessing/_data.py:2785: UserWarning: n_quantiles (1000) is greater than the total number of samples (510). n_quantiles is set to n_samples.\n",
      "  warnings.warn(\n",
      "/home/krasen/urban_taxonomy/.pixi/envs/default/lib/python3.12/site-packages/sklearn/preprocessing/_data.py:2785: UserWarning: n_quantiles (1000) is greater than the total number of samples (357). n_quantiles is set to n_samples.\n",
      "  warnings.warn(\n"
     ]
    },
    {
     "name": "stdout",
     "output_type": "stream",
     "text": [
      "processing 27587\n",
      "processing 27717\n",
      "processing 27773\n",
      "processing 27926\n",
      "processing 28040\n",
      "processing 28235\n"
     ]
    },
    {
     "name": "stderr",
     "output_type": "stream",
     "text": [
      "/home/krasen/urban_taxonomy/.pixi/envs/default/lib/python3.12/site-packages/sklearn/preprocessing/_data.py:2785: UserWarning: n_quantiles (1000) is greater than the total number of samples (482). n_quantiles is set to n_samples.\n",
      "  warnings.warn(\n",
      "/home/krasen/urban_taxonomy/.pixi/envs/default/lib/python3.12/site-packages/sklearn/preprocessing/_data.py:2785: UserWarning: n_quantiles (1000) is greater than the total number of samples (465). n_quantiles is set to n_samples.\n",
      "  warnings.warn(\n",
      "/home/krasen/urban_taxonomy/.pixi/envs/default/lib/python3.12/site-packages/sklearn/preprocessing/_data.py:2785: UserWarning: n_quantiles (1000) is greater than the total number of samples (471). n_quantiles is set to n_samples.\n",
      "  warnings.warn(\n",
      "/home/krasen/urban_taxonomy/.pixi/envs/default/lib/python3.12/site-packages/sklearn/preprocessing/_data.py:2785: UserWarning: n_quantiles (1000) is greater than the total number of samples (529). n_quantiles is set to n_samples.\n",
      "  warnings.warn(\n",
      "/home/krasen/urban_taxonomy/.pixi/envs/default/lib/python3.12/site-packages/sklearn/preprocessing/_data.py:2785: UserWarning: n_quantiles (1000) is greater than the total number of samples (140). n_quantiles is set to n_samples.\n",
      "  warnings.warn(\n",
      "/home/krasen/urban_taxonomy/.pixi/envs/default/lib/python3.12/site-packages/sklearn/preprocessing/_data.py:2785: UserWarning: n_quantiles (1000) is greater than the total number of samples (198). n_quantiles is set to n_samples.\n",
      "  warnings.warn(\n"
     ]
    },
    {
     "name": "stdout",
     "output_type": "stream",
     "text": [
      "processing 28307\n",
      "processing 28566\n",
      "processing 28835\n",
      "processing 29096\n",
      "processing 29215\n",
      "processing 29249\n"
     ]
    },
    {
     "name": "stderr",
     "output_type": "stream",
     "text": [
      "/home/krasen/urban_taxonomy/.pixi/envs/default/lib/python3.12/site-packages/sklearn/preprocessing/_data.py:2785: UserWarning: n_quantiles (1000) is greater than the total number of samples (397). n_quantiles is set to n_samples.\n",
      "  warnings.warn(\n",
      "/home/krasen/urban_taxonomy/.pixi/envs/default/lib/python3.12/site-packages/sklearn/preprocessing/_data.py:2785: UserWarning: n_quantiles (1000) is greater than the total number of samples (419). n_quantiles is set to n_samples.\n",
      "  warnings.warn(\n",
      "/home/krasen/urban_taxonomy/.pixi/envs/default/lib/python3.12/site-packages/sklearn/preprocessing/_data.py:2785: UserWarning: n_quantiles (1000) is greater than the total number of samples (181). n_quantiles is set to n_samples.\n",
      "  warnings.warn(\n",
      "/home/krasen/urban_taxonomy/.pixi/envs/default/lib/python3.12/site-packages/sklearn/preprocessing/_data.py:2785: UserWarning: n_quantiles (1000) is greater than the total number of samples (737). n_quantiles is set to n_samples.\n",
      "  warnings.warn(\n",
      "/home/krasen/urban_taxonomy/.pixi/envs/default/lib/python3.12/site-packages/sklearn/preprocessing/_data.py:2785: UserWarning: n_quantiles (1000) is greater than the total number of samples (148). n_quantiles is set to n_samples.\n",
      "  warnings.warn(\n",
      "/home/krasen/urban_taxonomy/.pixi/envs/default/lib/python3.12/site-packages/sklearn/preprocessing/_data.py:2785: UserWarning: n_quantiles (1000) is greater than the total number of samples (254). n_quantiles is set to n_samples.\n",
      "  warnings.warn(\n"
     ]
    },
    {
     "name": "stdout",
     "output_type": "stream",
     "text": [
      "processing 29278\n",
      "processing 29344\n",
      "processing 29374\n",
      "processing 29694\n",
      "processing 29729\n",
      "processing 29787\n"
     ]
    },
    {
     "name": "stderr",
     "output_type": "stream",
     "text": [
      "/home/krasen/urban_taxonomy/.pixi/envs/default/lib/python3.12/site-packages/sklearn/preprocessing/_data.py:2785: UserWarning: n_quantiles (1000) is greater than the total number of samples (157). n_quantiles is set to n_samples.\n",
      "  warnings.warn(\n",
      "/home/krasen/urban_taxonomy/.pixi/envs/default/lib/python3.12/site-packages/sklearn/preprocessing/_data.py:2785: UserWarning: n_quantiles (1000) is greater than the total number of samples (502). n_quantiles is set to n_samples.\n",
      "  warnings.warn(\n",
      "/home/krasen/urban_taxonomy/.pixi/envs/default/lib/python3.12/site-packages/sklearn/preprocessing/_data.py:2785: UserWarning: n_quantiles (1000) is greater than the total number of samples (324). n_quantiles is set to n_samples.\n",
      "  warnings.warn(\n",
      "/home/krasen/urban_taxonomy/.pixi/envs/default/lib/python3.12/site-packages/sklearn/preprocessing/_data.py:2785: UserWarning: n_quantiles (1000) is greater than the total number of samples (407). n_quantiles is set to n_samples.\n",
      "  warnings.warn(\n",
      "/home/krasen/urban_taxonomy/.pixi/envs/default/lib/python3.12/site-packages/sklearn/preprocessing/_data.py:2785: UserWarning: n_quantiles (1000) is greater than the total number of samples (387). n_quantiles is set to n_samples.\n",
      "  warnings.warn(\n",
      "/home/krasen/urban_taxonomy/.pixi/envs/default/lib/python3.12/site-packages/sklearn/preprocessing/_data.py:2785: UserWarning: n_quantiles (1000) is greater than the total number of samples (535). n_quantiles is set to n_samples.\n",
      "  warnings.warn(\n"
     ]
    },
    {
     "name": "stdout",
     "output_type": "stream",
     "text": [
      "processing 29800\n",
      "processing 29984\n",
      "processing 30124\n",
      "processing 30213\n"
     ]
    },
    {
     "name": "stderr",
     "output_type": "stream",
     "text": [
      "/home/krasen/urban_taxonomy/.pixi/envs/default/lib/python3.12/site-packages/sklearn/preprocessing/_data.py:2785: UserWarning: n_quantiles (1000) is greater than the total number of samples (147). n_quantiles is set to n_samples.\n",
      "  warnings.warn(\n",
      "/home/krasen/urban_taxonomy/.pixi/envs/default/lib/python3.12/site-packages/sklearn/preprocessing/_data.py:2785: UserWarning: n_quantiles (1000) is greater than the total number of samples (958). n_quantiles is set to n_samples.\n",
      "  warnings.warn(\n",
      "/home/krasen/urban_taxonomy/.pixi/envs/default/lib/python3.12/site-packages/sklearn/preprocessing/_data.py:2785: UserWarning: n_quantiles (1000) is greater than the total number of samples (106). n_quantiles is set to n_samples.\n",
      "  warnings.warn(\n"
     ]
    },
    {
     "name": "stdout",
     "output_type": "stream",
     "text": [
      "processing 30523\n",
      "processing 30585\n",
      "processing 30615\n",
      "processing 30640\n",
      "processing 30729\n"
     ]
    },
    {
     "name": "stderr",
     "output_type": "stream",
     "text": [
      "/home/krasen/urban_taxonomy/.pixi/envs/default/lib/python3.12/site-packages/sklearn/preprocessing/_data.py:2785: UserWarning: n_quantiles (1000) is greater than the total number of samples (551). n_quantiles is set to n_samples.\n",
      "  warnings.warn(\n",
      "/home/krasen/urban_taxonomy/.pixi/envs/default/lib/python3.12/site-packages/sklearn/preprocessing/_data.py:2785: UserWarning: n_quantiles (1000) is greater than the total number of samples (643). n_quantiles is set to n_samples.\n",
      "  warnings.warn(\n",
      "/home/krasen/urban_taxonomy/.pixi/envs/default/lib/python3.12/site-packages/sklearn/preprocessing/_data.py:2785: UserWarning: n_quantiles (1000) is greater than the total number of samples (344). n_quantiles is set to n_samples.\n",
      "  warnings.warn(\n",
      "/home/krasen/urban_taxonomy/.pixi/envs/default/lib/python3.12/site-packages/sklearn/preprocessing/_data.py:2785: UserWarning: n_quantiles (1000) is greater than the total number of samples (462). n_quantiles is set to n_samples.\n",
      "  warnings.warn(\n",
      "/home/krasen/urban_taxonomy/.pixi/envs/default/lib/python3.12/site-packages/sklearn/preprocessing/_data.py:2785: UserWarning: n_quantiles (1000) is greater than the total number of samples (384). n_quantiles is set to n_samples.\n",
      "  warnings.warn(\n"
     ]
    },
    {
     "name": "stdout",
     "output_type": "stream",
     "text": [
      "processing 30754\n",
      "processing 30775\n",
      "processing 30841\n",
      "processing 31212\n"
     ]
    },
    {
     "name": "stderr",
     "output_type": "stream",
     "text": [
      "/home/krasen/urban_taxonomy/.pixi/envs/default/lib/python3.12/site-packages/sklearn/preprocessing/_data.py:2785: UserWarning: n_quantiles (1000) is greater than the total number of samples (357). n_quantiles is set to n_samples.\n",
      "  warnings.warn(\n",
      "/home/krasen/urban_taxonomy/.pixi/envs/default/lib/python3.12/site-packages/sklearn/preprocessing/_data.py:2785: UserWarning: n_quantiles (1000) is greater than the total number of samples (470). n_quantiles is set to n_samples.\n",
      "  warnings.warn(\n",
      "/home/krasen/urban_taxonomy/.pixi/envs/default/lib/python3.12/site-packages/sklearn/preprocessing/_data.py:2785: UserWarning: n_quantiles (1000) is greater than the total number of samples (470). n_quantiles is set to n_samples.\n",
      "  warnings.warn(\n"
     ]
    },
    {
     "name": "stdout",
     "output_type": "stream",
     "text": [
      "processing 31237\n",
      "processing 31287\n",
      "processing 31291\n",
      "processing 31298\n",
      "processing 31736\n",
      "processing 32023\n"
     ]
    },
    {
     "name": "stderr",
     "output_type": "stream",
     "text": [
      "/home/krasen/urban_taxonomy/.pixi/envs/default/lib/python3.12/site-packages/sklearn/preprocessing/_data.py:2785: UserWarning: n_quantiles (1000) is greater than the total number of samples (97). n_quantiles is set to n_samples.\n",
      "  warnings.warn(\n",
      "/home/krasen/urban_taxonomy/.pixi/envs/default/lib/python3.12/site-packages/sklearn/preprocessing/_data.py:2785: UserWarning: n_quantiles (1000) is greater than the total number of samples (808). n_quantiles is set to n_samples.\n",
      "  warnings.warn(\n",
      "/home/krasen/urban_taxonomy/.pixi/envs/default/lib/python3.12/site-packages/sklearn/preprocessing/_data.py:2785: UserWarning: n_quantiles (1000) is greater than the total number of samples (174). n_quantiles is set to n_samples.\n",
      "  warnings.warn(\n",
      "/home/krasen/urban_taxonomy/.pixi/envs/default/lib/python3.12/site-packages/sklearn/preprocessing/_data.py:2785: UserWarning: n_quantiles (1000) is greater than the total number of samples (291). n_quantiles is set to n_samples.\n",
      "  warnings.warn(\n",
      "/home/krasen/urban_taxonomy/.pixi/envs/default/lib/python3.12/site-packages/sklearn/preprocessing/_data.py:2785: UserWarning: n_quantiles (1000) is greater than the total number of samples (457). n_quantiles is set to n_samples.\n",
      "  warnings.warn(\n",
      "/home/krasen/urban_taxonomy/.pixi/envs/default/lib/python3.12/site-packages/sklearn/preprocessing/_data.py:2785: UserWarning: n_quantiles (1000) is greater than the total number of samples (302). n_quantiles is set to n_samples.\n",
      "  warnings.warn(\n"
     ]
    },
    {
     "name": "stdout",
     "output_type": "stream",
     "text": [
      "processing 32045\n",
      "processing 32108\n",
      "processing 32261\n",
      "processing 32386\n",
      "processing 32427\n",
      "processing 32503\n"
     ]
    },
    {
     "name": "stderr",
     "output_type": "stream",
     "text": [
      "/home/krasen/urban_taxonomy/.pixi/envs/default/lib/python3.12/site-packages/sklearn/preprocessing/_data.py:2785: UserWarning: n_quantiles (1000) is greater than the total number of samples (305). n_quantiles is set to n_samples.\n",
      "  warnings.warn(\n",
      "/home/krasen/urban_taxonomy/.pixi/envs/default/lib/python3.12/site-packages/sklearn/preprocessing/_data.py:2785: UserWarning: n_quantiles (1000) is greater than the total number of samples (537). n_quantiles is set to n_samples.\n",
      "  warnings.warn(\n",
      "/home/krasen/urban_taxonomy/.pixi/envs/default/lib/python3.12/site-packages/sklearn/preprocessing/_data.py:2785: UserWarning: n_quantiles (1000) is greater than the total number of samples (107). n_quantiles is set to n_samples.\n",
      "  warnings.warn(\n",
      "/home/krasen/urban_taxonomy/.pixi/envs/default/lib/python3.12/site-packages/sklearn/preprocessing/_data.py:2785: UserWarning: n_quantiles (1000) is greater than the total number of samples (228). n_quantiles is set to n_samples.\n",
      "  warnings.warn(\n",
      "/home/krasen/urban_taxonomy/.pixi/envs/default/lib/python3.12/site-packages/sklearn/preprocessing/_data.py:2785: UserWarning: n_quantiles (1000) is greater than the total number of samples (782). n_quantiles is set to n_samples.\n",
      "  warnings.warn(\n",
      "/home/krasen/urban_taxonomy/.pixi/envs/default/lib/python3.12/site-packages/sklearn/preprocessing/_data.py:2785: UserWarning: n_quantiles (1000) is greater than the total number of samples (322). n_quantiles is set to n_samples.\n",
      "  warnings.warn(\n"
     ]
    },
    {
     "name": "stdout",
     "output_type": "stream",
     "text": [
      "processing 32593\n",
      "processing 32685\n",
      "processing 32793\n",
      "processing 32970\n",
      "processing 33122\n",
      "processing 33287\n"
     ]
    },
    {
     "name": "stderr",
     "output_type": "stream",
     "text": [
      "/home/krasen/urban_taxonomy/.pixi/envs/default/lib/python3.12/site-packages/sklearn/preprocessing/_data.py:2785: UserWarning: n_quantiles (1000) is greater than the total number of samples (148). n_quantiles is set to n_samples.\n",
      "  warnings.warn(\n",
      "/home/krasen/urban_taxonomy/.pixi/envs/default/lib/python3.12/site-packages/sklearn/preprocessing/_data.py:2785: UserWarning: n_quantiles (1000) is greater than the total number of samples (196). n_quantiles is set to n_samples.\n",
      "  warnings.warn(\n",
      "/home/krasen/urban_taxonomy/.pixi/envs/default/lib/python3.12/site-packages/sklearn/preprocessing/_data.py:2785: UserWarning: n_quantiles (1000) is greater than the total number of samples (284). n_quantiles is set to n_samples.\n",
      "  warnings.warn(\n",
      "/home/krasen/urban_taxonomy/.pixi/envs/default/lib/python3.12/site-packages/sklearn/preprocessing/_data.py:2785: UserWarning: n_quantiles (1000) is greater than the total number of samples (652). n_quantiles is set to n_samples.\n",
      "  warnings.warn(\n",
      "/home/krasen/urban_taxonomy/.pixi/envs/default/lib/python3.12/site-packages/sklearn/preprocessing/_data.py:2785: UserWarning: n_quantiles (1000) is greater than the total number of samples (497). n_quantiles is set to n_samples.\n",
      "  warnings.warn(\n",
      "/home/krasen/urban_taxonomy/.pixi/envs/default/lib/python3.12/site-packages/sklearn/preprocessing/_data.py:2785: UserWarning: n_quantiles (1000) is greater than the total number of samples (476). n_quantiles is set to n_samples.\n",
      "  warnings.warn(\n"
     ]
    },
    {
     "name": "stdout",
     "output_type": "stream",
     "text": [
      "processing 33427\n",
      "processing 33492\n",
      "processing 33528\n",
      "processing 33692\n",
      "processing 33722\n"
     ]
    },
    {
     "name": "stderr",
     "output_type": "stream",
     "text": [
      "/home/krasen/urban_taxonomy/.pixi/envs/default/lib/python3.12/site-packages/sklearn/preprocessing/_data.py:2785: UserWarning: n_quantiles (1000) is greater than the total number of samples (909). n_quantiles is set to n_samples.\n",
      "  warnings.warn(\n",
      "/home/krasen/urban_taxonomy/.pixi/envs/default/lib/python3.12/site-packages/sklearn/preprocessing/_data.py:2785: UserWarning: n_quantiles (1000) is greater than the total number of samples (490). n_quantiles is set to n_samples.\n",
      "  warnings.warn(\n",
      "/home/krasen/urban_taxonomy/.pixi/envs/default/lib/python3.12/site-packages/sklearn/preprocessing/_data.py:2785: UserWarning: n_quantiles (1000) is greater than the total number of samples (215). n_quantiles is set to n_samples.\n",
      "  warnings.warn(\n",
      "/home/krasen/urban_taxonomy/.pixi/envs/default/lib/python3.12/site-packages/sklearn/preprocessing/_data.py:2785: UserWarning: n_quantiles (1000) is greater than the total number of samples (505). n_quantiles is set to n_samples.\n",
      "  warnings.warn(\n"
     ]
    },
    {
     "name": "stdout",
     "output_type": "stream",
     "text": [
      "processing 34053\n",
      "processing 34152\n",
      "processing 34266\n"
     ]
    },
    {
     "name": "stderr",
     "output_type": "stream",
     "text": [
      "/home/krasen/urban_taxonomy/.pixi/envs/default/lib/python3.12/site-packages/sklearn/preprocessing/_data.py:2785: UserWarning: n_quantiles (1000) is greater than the total number of samples (273). n_quantiles is set to n_samples.\n",
      "  warnings.warn(\n",
      "/home/krasen/urban_taxonomy/.pixi/envs/default/lib/python3.12/site-packages/sklearn/preprocessing/_data.py:2785: UserWarning: n_quantiles (1000) is greater than the total number of samples (142). n_quantiles is set to n_samples.\n",
      "  warnings.warn(\n"
     ]
    },
    {
     "name": "stdout",
     "output_type": "stream",
     "text": [
      "processing 34436\n",
      "processing 34522\n",
      "processing 34767\n",
      "processing 34839\n",
      "processing 34900\n",
      "processing 34978\n",
      "processing 35055\n"
     ]
    },
    {
     "name": "stderr",
     "output_type": "stream",
     "text": [
      "/home/krasen/urban_taxonomy/.pixi/envs/default/lib/python3.12/site-packages/sklearn/preprocessing/_data.py:2785: UserWarning: n_quantiles (1000) is greater than the total number of samples (119). n_quantiles is set to n_samples.\n",
      "  warnings.warn(\n",
      "/home/krasen/urban_taxonomy/.pixi/envs/default/lib/python3.12/site-packages/sklearn/preprocessing/_data.py:2785: UserWarning: n_quantiles (1000) is greater than the total number of samples (293). n_quantiles is set to n_samples.\n",
      "  warnings.warn(\n",
      "/home/krasen/urban_taxonomy/.pixi/envs/default/lib/python3.12/site-packages/sklearn/preprocessing/_data.py:2785: UserWarning: n_quantiles (1000) is greater than the total number of samples (219). n_quantiles is set to n_samples.\n",
      "  warnings.warn(\n",
      "/home/krasen/urban_taxonomy/.pixi/envs/default/lib/python3.12/site-packages/sklearn/preprocessing/_data.py:2785: UserWarning: n_quantiles (1000) is greater than the total number of samples (329). n_quantiles is set to n_samples.\n",
      "  warnings.warn(\n",
      "/home/krasen/urban_taxonomy/.pixi/envs/default/lib/python3.12/site-packages/sklearn/preprocessing/_data.py:2785: UserWarning: n_quantiles (1000) is greater than the total number of samples (111). n_quantiles is set to n_samples.\n",
      "  warnings.warn(\n",
      "/home/krasen/urban_taxonomy/.pixi/envs/default/lib/python3.12/site-packages/sklearn/preprocessing/_data.py:2785: UserWarning: n_quantiles (1000) is greater than the total number of samples (308). n_quantiles is set to n_samples.\n",
      "  warnings.warn(\n",
      "/home/krasen/urban_taxonomy/.pixi/envs/default/lib/python3.12/site-packages/sklearn/preprocessing/_data.py:2785: UserWarning: n_quantiles (1000) is greater than the total number of samples (941). n_quantiles is set to n_samples.\n",
      "  warnings.warn(\n"
     ]
    },
    {
     "name": "stdout",
     "output_type": "stream",
     "text": [
      "processing 35141\n",
      "processing 35180\n",
      "processing 35211\n",
      "processing 35246\n",
      "processing 35368\n"
     ]
    },
    {
     "name": "stderr",
     "output_type": "stream",
     "text": [
      "/home/krasen/urban_taxonomy/.pixi/envs/default/lib/python3.12/site-packages/sklearn/preprocessing/_data.py:2785: UserWarning: n_quantiles (1000) is greater than the total number of samples (487). n_quantiles is set to n_samples.\n",
      "  warnings.warn(\n",
      "/home/krasen/urban_taxonomy/.pixi/envs/default/lib/python3.12/site-packages/sklearn/preprocessing/_data.py:2785: UserWarning: n_quantiles (1000) is greater than the total number of samples (286). n_quantiles is set to n_samples.\n",
      "  warnings.warn(\n",
      "/home/krasen/urban_taxonomy/.pixi/envs/default/lib/python3.12/site-packages/sklearn/preprocessing/_data.py:2785: UserWarning: n_quantiles (1000) is greater than the total number of samples (250). n_quantiles is set to n_samples.\n",
      "  warnings.warn(\n",
      "/home/krasen/urban_taxonomy/.pixi/envs/default/lib/python3.12/site-packages/sklearn/preprocessing/_data.py:2785: UserWarning: n_quantiles (1000) is greater than the total number of samples (439). n_quantiles is set to n_samples.\n",
      "  warnings.warn(\n",
      "/home/krasen/urban_taxonomy/.pixi/envs/default/lib/python3.12/site-packages/sklearn/preprocessing/_data.py:2785: UserWarning: n_quantiles (1000) is greater than the total number of samples (857). n_quantiles is set to n_samples.\n",
      "  warnings.warn(\n"
     ]
    },
    {
     "name": "stdout",
     "output_type": "stream",
     "text": [
      "processing 35540\n",
      "processing 35679\n",
      "processing 35755\n",
      "processing 35812\n",
      "processing 36012\n",
      "processing 36122\n"
     ]
    },
    {
     "name": "stderr",
     "output_type": "stream",
     "text": [
      "/home/krasen/urban_taxonomy/.pixi/envs/default/lib/python3.12/site-packages/sklearn/preprocessing/_data.py:2785: UserWarning: n_quantiles (1000) is greater than the total number of samples (284). n_quantiles is set to n_samples.\n",
      "  warnings.warn(\n",
      "/home/krasen/urban_taxonomy/.pixi/envs/default/lib/python3.12/site-packages/sklearn/preprocessing/_data.py:2785: UserWarning: n_quantiles (1000) is greater than the total number of samples (218). n_quantiles is set to n_samples.\n",
      "  warnings.warn(\n",
      "/home/krasen/urban_taxonomy/.pixi/envs/default/lib/python3.12/site-packages/sklearn/preprocessing/_data.py:2785: UserWarning: n_quantiles (1000) is greater than the total number of samples (256). n_quantiles is set to n_samples.\n",
      "  warnings.warn(\n",
      "/home/krasen/urban_taxonomy/.pixi/envs/default/lib/python3.12/site-packages/sklearn/preprocessing/_data.py:2785: UserWarning: n_quantiles (1000) is greater than the total number of samples (392). n_quantiles is set to n_samples.\n",
      "  warnings.warn(\n",
      "/home/krasen/urban_taxonomy/.pixi/envs/default/lib/python3.12/site-packages/sklearn/preprocessing/_data.py:2785: UserWarning: n_quantiles (1000) is greater than the total number of samples (177). n_quantiles is set to n_samples.\n",
      "  warnings.warn(\n",
      "/home/krasen/urban_taxonomy/.pixi/envs/default/lib/python3.12/site-packages/sklearn/preprocessing/_data.py:2785: UserWarning: n_quantiles (1000) is greater than the total number of samples (690). n_quantiles is set to n_samples.\n",
      "  warnings.warn(\n",
      "/home/krasen/urban_taxonomy/.pixi/envs/default/lib/python3.12/site-packages/sklearn/preprocessing/_data.py:2785: UserWarning: n_quantiles (1000) is greater than the total number of samples (269). n_quantiles is set to n_samples.\n",
      "  warnings.warn(\n"
     ]
    },
    {
     "name": "stdout",
     "output_type": "stream",
     "text": [
      "processing 36330\n",
      "processing 36580\n",
      "processing 36689\n",
      "processing 36704\n",
      "processing 36752\n",
      "processing 36842\n",
      "processing 36953\n"
     ]
    },
    {
     "name": "stderr",
     "output_type": "stream",
     "text": [
      "/home/krasen/urban_taxonomy/.pixi/envs/default/lib/python3.12/site-packages/sklearn/preprocessing/_data.py:2785: UserWarning: n_quantiles (1000) is greater than the total number of samples (214). n_quantiles is set to n_samples.\n",
      "  warnings.warn(\n",
      "/home/krasen/urban_taxonomy/.pixi/envs/default/lib/python3.12/site-packages/sklearn/preprocessing/_data.py:2785: UserWarning: n_quantiles (1000) is greater than the total number of samples (428). n_quantiles is set to n_samples.\n",
      "  warnings.warn(\n",
      "/home/krasen/urban_taxonomy/.pixi/envs/default/lib/python3.12/site-packages/sklearn/preprocessing/_data.py:2785: UserWarning: n_quantiles (1000) is greater than the total number of samples (398). n_quantiles is set to n_samples.\n",
      "  warnings.warn(\n",
      "/home/krasen/urban_taxonomy/.pixi/envs/default/lib/python3.12/site-packages/sklearn/preprocessing/_data.py:2785: UserWarning: n_quantiles (1000) is greater than the total number of samples (139). n_quantiles is set to n_samples.\n",
      "  warnings.warn(\n",
      "/home/krasen/urban_taxonomy/.pixi/envs/default/lib/python3.12/site-packages/sklearn/preprocessing/_data.py:2785: UserWarning: n_quantiles (1000) is greater than the total number of samples (264). n_quantiles is set to n_samples.\n",
      "  warnings.warn(\n",
      "/home/krasen/urban_taxonomy/.pixi/envs/default/lib/python3.12/site-packages/sklearn/preprocessing/_data.py:2785: UserWarning: n_quantiles (1000) is greater than the total number of samples (698). n_quantiles is set to n_samples.\n",
      "  warnings.warn(\n"
     ]
    },
    {
     "name": "stdout",
     "output_type": "stream",
     "text": [
      "processing 37105\n",
      "processing 37163\n",
      "processing 37236\n",
      "processing 37434\n",
      "processing 37496\n",
      "processing 37628\n",
      "processing 37635\n",
      "processing 37698\n"
     ]
    },
    {
     "name": "stderr",
     "output_type": "stream",
     "text": [
      "/home/krasen/urban_taxonomy/.pixi/envs/default/lib/python3.12/site-packages/sklearn/preprocessing/_data.py:2785: UserWarning: n_quantiles (1000) is greater than the total number of samples (182). n_quantiles is set to n_samples.\n",
      "  warnings.warn(\n",
      "/home/krasen/urban_taxonomy/.pixi/envs/default/lib/python3.12/site-packages/sklearn/preprocessing/_data.py:2785: UserWarning: n_quantiles (1000) is greater than the total number of samples (307). n_quantiles is set to n_samples.\n",
      "  warnings.warn(\n",
      "/home/krasen/urban_taxonomy/.pixi/envs/default/lib/python3.12/site-packages/sklearn/preprocessing/_data.py:2785: UserWarning: n_quantiles (1000) is greater than the total number of samples (127). n_quantiles is set to n_samples.\n",
      "  warnings.warn(\n",
      "/home/krasen/urban_taxonomy/.pixi/envs/default/lib/python3.12/site-packages/sklearn/preprocessing/_data.py:2785: UserWarning: n_quantiles (1000) is greater than the total number of samples (161). n_quantiles is set to n_samples.\n",
      "  warnings.warn(\n",
      "/home/krasen/urban_taxonomy/.pixi/envs/default/lib/python3.12/site-packages/sklearn/preprocessing/_data.py:2785: UserWarning: n_quantiles (1000) is greater than the total number of samples (262). n_quantiles is set to n_samples.\n",
      "  warnings.warn(\n",
      "/home/krasen/urban_taxonomy/.pixi/envs/default/lib/python3.12/site-packages/sklearn/preprocessing/_data.py:2785: UserWarning: n_quantiles (1000) is greater than the total number of samples (290). n_quantiles is set to n_samples.\n",
      "  warnings.warn(\n",
      "/home/krasen/urban_taxonomy/.pixi/envs/default/lib/python3.12/site-packages/sklearn/preprocessing/_data.py:2785: UserWarning: n_quantiles (1000) is greater than the total number of samples (243). n_quantiles is set to n_samples.\n",
      "  warnings.warn(\n",
      "/home/krasen/urban_taxonomy/.pixi/envs/default/lib/python3.12/site-packages/sklearn/preprocessing/_data.py:2785: UserWarning: n_quantiles (1000) is greater than the total number of samples (543). n_quantiles is set to n_samples.\n",
      "  warnings.warn(\n"
     ]
    },
    {
     "name": "stdout",
     "output_type": "stream",
     "text": [
      "processing 37811\n",
      "processing 38018\n",
      "processing 38243\n",
      "processing 38248\n",
      "processing 38375\n"
     ]
    },
    {
     "name": "stderr",
     "output_type": "stream",
     "text": [
      "/home/krasen/urban_taxonomy/.pixi/envs/default/lib/python3.12/site-packages/sklearn/preprocessing/_data.py:2785: UserWarning: n_quantiles (1000) is greater than the total number of samples (125). n_quantiles is set to n_samples.\n",
      "  warnings.warn(\n",
      "/home/krasen/urban_taxonomy/.pixi/envs/default/lib/python3.12/site-packages/sklearn/preprocessing/_data.py:2785: UserWarning: n_quantiles (1000) is greater than the total number of samples (464). n_quantiles is set to n_samples.\n",
      "  warnings.warn(\n",
      "/home/krasen/urban_taxonomy/.pixi/envs/default/lib/python3.12/site-packages/sklearn/preprocessing/_data.py:2785: UserWarning: n_quantiles (1000) is greater than the total number of samples (829). n_quantiles is set to n_samples.\n",
      "  warnings.warn(\n",
      "/home/krasen/urban_taxonomy/.pixi/envs/default/lib/python3.12/site-packages/sklearn/preprocessing/_data.py:2785: UserWarning: n_quantiles (1000) is greater than the total number of samples (401). n_quantiles is set to n_samples.\n",
      "  warnings.warn(\n",
      "/home/krasen/urban_taxonomy/.pixi/envs/default/lib/python3.12/site-packages/sklearn/preprocessing/_data.py:2785: UserWarning: n_quantiles (1000) is greater than the total number of samples (476). n_quantiles is set to n_samples.\n",
      "  warnings.warn(\n"
     ]
    },
    {
     "name": "stdout",
     "output_type": "stream",
     "text": [
      "processing 38512\n",
      "processing 38615\n",
      "processing 38679\n"
     ]
    },
    {
     "name": "stderr",
     "output_type": "stream",
     "text": [
      "/home/krasen/urban_taxonomy/.pixi/envs/default/lib/python3.12/site-packages/sklearn/preprocessing/_data.py:2785: UserWarning: n_quantiles (1000) is greater than the total number of samples (114). n_quantiles is set to n_samples.\n",
      "  warnings.warn(\n",
      "/home/krasen/urban_taxonomy/.pixi/envs/default/lib/python3.12/site-packages/sklearn/preprocessing/_data.py:2785: UserWarning: n_quantiles (1000) is greater than the total number of samples (483). n_quantiles is set to n_samples.\n",
      "  warnings.warn(\n"
     ]
    },
    {
     "name": "stdout",
     "output_type": "stream",
     "text": [
      "processing 38844\n",
      "processing 38924\n",
      "processing 38935\n",
      "processing 39030\n",
      "processing 39078\n",
      "processing 39161\n",
      "processing 39171\n",
      "processing 39293\n"
     ]
    },
    {
     "name": "stderr",
     "output_type": "stream",
     "text": [
      "/home/krasen/urban_taxonomy/.pixi/envs/default/lib/python3.12/site-packages/sklearn/preprocessing/_data.py:2785: UserWarning: n_quantiles (1000) is greater than the total number of samples (180). n_quantiles is set to n_samples.\n",
      "  warnings.warn(\n",
      "/home/krasen/urban_taxonomy/.pixi/envs/default/lib/python3.12/site-packages/sklearn/preprocessing/_data.py:2785: UserWarning: n_quantiles (1000) is greater than the total number of samples (112). n_quantiles is set to n_samples.\n",
      "  warnings.warn(\n",
      "/home/krasen/urban_taxonomy/.pixi/envs/default/lib/python3.12/site-packages/sklearn/preprocessing/_data.py:2785: UserWarning: n_quantiles (1000) is greater than the total number of samples (438). n_quantiles is set to n_samples.\n",
      "  warnings.warn(\n",
      "/home/krasen/urban_taxonomy/.pixi/envs/default/lib/python3.12/site-packages/sklearn/preprocessing/_data.py:2785: UserWarning: n_quantiles (1000) is greater than the total number of samples (350). n_quantiles is set to n_samples.\n",
      "  warnings.warn(\n",
      "/home/krasen/urban_taxonomy/.pixi/envs/default/lib/python3.12/site-packages/sklearn/preprocessing/_data.py:2785: UserWarning: n_quantiles (1000) is greater than the total number of samples (243). n_quantiles is set to n_samples.\n",
      "  warnings.warn(\n",
      "/home/krasen/urban_taxonomy/.pixi/envs/default/lib/python3.12/site-packages/sklearn/preprocessing/_data.py:2785: UserWarning: n_quantiles (1000) is greater than the total number of samples (201). n_quantiles is set to n_samples.\n",
      "  warnings.warn(\n",
      "/home/krasen/urban_taxonomy/.pixi/envs/default/lib/python3.12/site-packages/sklearn/preprocessing/_data.py:2785: UserWarning: n_quantiles (1000) is greater than the total number of samples (123). n_quantiles is set to n_samples.\n",
      "  warnings.warn(\n",
      "/home/krasen/urban_taxonomy/.pixi/envs/default/lib/python3.12/site-packages/sklearn/preprocessing/_data.py:2785: UserWarning: n_quantiles (1000) is greater than the total number of samples (138). n_quantiles is set to n_samples.\n",
      "  warnings.warn(\n"
     ]
    },
    {
     "name": "stdout",
     "output_type": "stream",
     "text": [
      "processing 39396\n",
      "processing 39490\n",
      "processing 39680\n",
      "processing 39911\n",
      "processing 39947\n"
     ]
    },
    {
     "name": "stderr",
     "output_type": "stream",
     "text": [
      "/home/krasen/urban_taxonomy/.pixi/envs/default/lib/python3.12/site-packages/sklearn/preprocessing/_data.py:2785: UserWarning: n_quantiles (1000) is greater than the total number of samples (103). n_quantiles is set to n_samples.\n",
      "  warnings.warn(\n",
      "/home/krasen/urban_taxonomy/.pixi/envs/default/lib/python3.12/site-packages/sklearn/preprocessing/_data.py:2785: UserWarning: n_quantiles (1000) is greater than the total number of samples (410). n_quantiles is set to n_samples.\n",
      "  warnings.warn(\n",
      "/home/krasen/urban_taxonomy/.pixi/envs/default/lib/python3.12/site-packages/sklearn/preprocessing/_data.py:2785: UserWarning: n_quantiles (1000) is greater than the total number of samples (212). n_quantiles is set to n_samples.\n",
      "  warnings.warn(\n",
      "/home/krasen/urban_taxonomy/.pixi/envs/default/lib/python3.12/site-packages/sklearn/preprocessing/_data.py:2785: UserWarning: n_quantiles (1000) is greater than the total number of samples (219). n_quantiles is set to n_samples.\n",
      "  warnings.warn(\n",
      "/home/krasen/urban_taxonomy/.pixi/envs/default/lib/python3.12/site-packages/sklearn/preprocessing/_data.py:2785: UserWarning: n_quantiles (1000) is greater than the total number of samples (963). n_quantiles is set to n_samples.\n",
      "  warnings.warn(\n"
     ]
    },
    {
     "name": "stdout",
     "output_type": "stream",
     "text": [
      "processing 40064\n",
      "processing 40130\n",
      "processing 40294\n",
      "processing 40447\n",
      "processing 40766\n",
      "processing 40885\n"
     ]
    },
    {
     "name": "stderr",
     "output_type": "stream",
     "text": [
      "/home/krasen/urban_taxonomy/.pixi/envs/default/lib/python3.12/site-packages/sklearn/preprocessing/_data.py:2785: UserWarning: n_quantiles (1000) is greater than the total number of samples (256). n_quantiles is set to n_samples.\n",
      "  warnings.warn(\n",
      "/home/krasen/urban_taxonomy/.pixi/envs/default/lib/python3.12/site-packages/sklearn/preprocessing/_data.py:2785: UserWarning: n_quantiles (1000) is greater than the total number of samples (292). n_quantiles is set to n_samples.\n",
      "  warnings.warn(\n",
      "/home/krasen/urban_taxonomy/.pixi/envs/default/lib/python3.12/site-packages/sklearn/preprocessing/_data.py:2785: UserWarning: n_quantiles (1000) is greater than the total number of samples (634). n_quantiles is set to n_samples.\n",
      "  warnings.warn(\n",
      "/home/krasen/urban_taxonomy/.pixi/envs/default/lib/python3.12/site-packages/sklearn/preprocessing/_data.py:2785: UserWarning: n_quantiles (1000) is greater than the total number of samples (352). n_quantiles is set to n_samples.\n",
      "  warnings.warn(\n",
      "/home/krasen/urban_taxonomy/.pixi/envs/default/lib/python3.12/site-packages/sklearn/preprocessing/_data.py:2785: UserWarning: n_quantiles (1000) is greater than the total number of samples (245). n_quantiles is set to n_samples.\n",
      "  warnings.warn(\n",
      "/home/krasen/urban_taxonomy/.pixi/envs/default/lib/python3.12/site-packages/sklearn/preprocessing/_data.py:2785: UserWarning: n_quantiles (1000) is greater than the total number of samples (391). n_quantiles is set to n_samples.\n",
      "  warnings.warn(\n"
     ]
    },
    {
     "name": "stdout",
     "output_type": "stream",
     "text": [
      "processing 40890\n",
      "processing 40941\n",
      "processing 41002\n",
      "processing 41095\n",
      "processing 41185\n"
     ]
    },
    {
     "name": "stderr",
     "output_type": "stream",
     "text": [
      "/home/krasen/urban_taxonomy/.pixi/envs/default/lib/python3.12/site-packages/sklearn/preprocessing/_data.py:2785: UserWarning: n_quantiles (1000) is greater than the total number of samples (775). n_quantiles is set to n_samples.\n",
      "  warnings.warn(\n",
      "/home/krasen/urban_taxonomy/.pixi/envs/default/lib/python3.12/site-packages/sklearn/preprocessing/_data.py:2785: UserWarning: n_quantiles (1000) is greater than the total number of samples (296). n_quantiles is set to n_samples.\n",
      "  warnings.warn(\n",
      "/home/krasen/urban_taxonomy/.pixi/envs/default/lib/python3.12/site-packages/sklearn/preprocessing/_data.py:2785: UserWarning: n_quantiles (1000) is greater than the total number of samples (810). n_quantiles is set to n_samples.\n",
      "  warnings.warn(\n",
      "/home/krasen/urban_taxonomy/.pixi/envs/default/lib/python3.12/site-packages/sklearn/preprocessing/_data.py:2785: UserWarning: n_quantiles (1000) is greater than the total number of samples (198). n_quantiles is set to n_samples.\n",
      "  warnings.warn(\n",
      "/home/krasen/urban_taxonomy/.pixi/envs/default/lib/python3.12/site-packages/sklearn/preprocessing/_data.py:2785: UserWarning: n_quantiles (1000) is greater than the total number of samples (150). n_quantiles is set to n_samples.\n",
      "  warnings.warn(\n"
     ]
    },
    {
     "name": "stdout",
     "output_type": "stream",
     "text": [
      "processing 41289\n",
      "processing 41303\n",
      "processing 41428\n",
      "processing 41630\n",
      "processing 42084\n",
      "processing 42154\n",
      "processing 42226\n"
     ]
    },
    {
     "name": "stderr",
     "output_type": "stream",
     "text": [
      "/home/krasen/urban_taxonomy/.pixi/envs/default/lib/python3.12/site-packages/sklearn/preprocessing/_data.py:2785: UserWarning: n_quantiles (1000) is greater than the total number of samples (539). n_quantiles is set to n_samples.\n",
      "  warnings.warn(\n",
      "/home/krasen/urban_taxonomy/.pixi/envs/default/lib/python3.12/site-packages/sklearn/preprocessing/_data.py:2785: UserWarning: n_quantiles (1000) is greater than the total number of samples (90). n_quantiles is set to n_samples.\n",
      "  warnings.warn(\n",
      "/home/krasen/urban_taxonomy/.pixi/envs/default/lib/python3.12/site-packages/sklearn/preprocessing/_data.py:2785: UserWarning: n_quantiles (1000) is greater than the total number of samples (303). n_quantiles is set to n_samples.\n",
      "  warnings.warn(\n",
      "/home/krasen/urban_taxonomy/.pixi/envs/default/lib/python3.12/site-packages/sklearn/preprocessing/_data.py:2785: UserWarning: n_quantiles (1000) is greater than the total number of samples (134). n_quantiles is set to n_samples.\n",
      "  warnings.warn(\n",
      "/home/krasen/urban_taxonomy/.pixi/envs/default/lib/python3.12/site-packages/sklearn/preprocessing/_data.py:2785: UserWarning: n_quantiles (1000) is greater than the total number of samples (477). n_quantiles is set to n_samples.\n",
      "  warnings.warn(\n",
      "/home/krasen/urban_taxonomy/.pixi/envs/default/lib/python3.12/site-packages/sklearn/preprocessing/_data.py:2785: UserWarning: n_quantiles (1000) is greater than the total number of samples (180). n_quantiles is set to n_samples.\n",
      "  warnings.warn(\n",
      "/home/krasen/urban_taxonomy/.pixi/envs/default/lib/python3.12/site-packages/sklearn/preprocessing/_data.py:2785: UserWarning: n_quantiles (1000) is greater than the total number of samples (690). n_quantiles is set to n_samples.\n",
      "  warnings.warn(\n"
     ]
    },
    {
     "name": "stdout",
     "output_type": "stream",
     "text": [
      "processing 42366\n",
      "processing 42418\n",
      "processing 42499\n",
      "processing 42528\n",
      "processing 42595\n",
      "processing 43070\n",
      "processing 43097\n"
     ]
    },
    {
     "name": "stderr",
     "output_type": "stream",
     "text": [
      "/home/krasen/urban_taxonomy/.pixi/envs/default/lib/python3.12/site-packages/sklearn/preprocessing/_data.py:2785: UserWarning: n_quantiles (1000) is greater than the total number of samples (175). n_quantiles is set to n_samples.\n",
      "  warnings.warn(\n",
      "/home/krasen/urban_taxonomy/.pixi/envs/default/lib/python3.12/site-packages/sklearn/preprocessing/_data.py:2785: UserWarning: n_quantiles (1000) is greater than the total number of samples (294). n_quantiles is set to n_samples.\n",
      "  warnings.warn(\n",
      "/home/krasen/urban_taxonomy/.pixi/envs/default/lib/python3.12/site-packages/sklearn/preprocessing/_data.py:2785: UserWarning: n_quantiles (1000) is greater than the total number of samples (79). n_quantiles is set to n_samples.\n",
      "  warnings.warn(\n",
      "/home/krasen/urban_taxonomy/.pixi/envs/default/lib/python3.12/site-packages/sklearn/preprocessing/_data.py:2785: UserWarning: n_quantiles (1000) is greater than the total number of samples (167). n_quantiles is set to n_samples.\n",
      "  warnings.warn(\n",
      "/home/krasen/urban_taxonomy/.pixi/envs/default/lib/python3.12/site-packages/sklearn/preprocessing/_data.py:2785: UserWarning: n_quantiles (1000) is greater than the total number of samples (345). n_quantiles is set to n_samples.\n",
      "  warnings.warn(\n",
      "/home/krasen/urban_taxonomy/.pixi/envs/default/lib/python3.12/site-packages/sklearn/preprocessing/_data.py:2785: UserWarning: n_quantiles (1000) is greater than the total number of samples (694). n_quantiles is set to n_samples.\n",
      "  warnings.warn(\n",
      "/home/krasen/urban_taxonomy/.pixi/envs/default/lib/python3.12/site-packages/sklearn/preprocessing/_data.py:2785: UserWarning: n_quantiles (1000) is greater than the total number of samples (113). n_quantiles is set to n_samples.\n",
      "  warnings.warn(\n"
     ]
    },
    {
     "name": "stdout",
     "output_type": "stream",
     "text": [
      "processing 43376\n",
      "processing 43422\n",
      "processing 43455\n",
      "processing 43495\n",
      "processing 43508\n",
      "processing 43619\n",
      "processing 43651\n",
      "processing 43662\n"
     ]
    },
    {
     "name": "stderr",
     "output_type": "stream",
     "text": [
      "/home/krasen/urban_taxonomy/.pixi/envs/default/lib/python3.12/site-packages/sklearn/preprocessing/_data.py:2785: UserWarning: n_quantiles (1000) is greater than the total number of samples (367). n_quantiles is set to n_samples.\n",
      "  warnings.warn(\n",
      "/home/krasen/urban_taxonomy/.pixi/envs/default/lib/python3.12/site-packages/sklearn/preprocessing/_data.py:2785: UserWarning: n_quantiles (1000) is greater than the total number of samples (312). n_quantiles is set to n_samples.\n",
      "  warnings.warn(\n",
      "/home/krasen/urban_taxonomy/.pixi/envs/default/lib/python3.12/site-packages/sklearn/preprocessing/_data.py:2785: UserWarning: n_quantiles (1000) is greater than the total number of samples (318). n_quantiles is set to n_samples.\n",
      "  warnings.warn(\n",
      "/home/krasen/urban_taxonomy/.pixi/envs/default/lib/python3.12/site-packages/sklearn/preprocessing/_data.py:2785: UserWarning: n_quantiles (1000) is greater than the total number of samples (337). n_quantiles is set to n_samples.\n",
      "  warnings.warn(\n",
      "/home/krasen/urban_taxonomy/.pixi/envs/default/lib/python3.12/site-packages/sklearn/preprocessing/_data.py:2785: UserWarning: n_quantiles (1000) is greater than the total number of samples (105). n_quantiles is set to n_samples.\n",
      "  warnings.warn(\n",
      "/home/krasen/urban_taxonomy/.pixi/envs/default/lib/python3.12/site-packages/sklearn/preprocessing/_data.py:2785: UserWarning: n_quantiles (1000) is greater than the total number of samples (238). n_quantiles is set to n_samples.\n",
      "  warnings.warn(\n",
      "/home/krasen/urban_taxonomy/.pixi/envs/default/lib/python3.12/site-packages/sklearn/preprocessing/_data.py:2785: UserWarning: n_quantiles (1000) is greater than the total number of samples (143). n_quantiles is set to n_samples.\n",
      "  warnings.warn(\n",
      "/home/krasen/urban_taxonomy/.pixi/envs/default/lib/python3.12/site-packages/sklearn/preprocessing/_data.py:2785: UserWarning: n_quantiles (1000) is greater than the total number of samples (231). n_quantiles is set to n_samples.\n",
      "  warnings.warn(\n"
     ]
    },
    {
     "name": "stdout",
     "output_type": "stream",
     "text": [
      "processing 43706\n",
      "processing 43715\n",
      "processing 43852\n",
      "processing 44065\n",
      "processing 44194\n",
      "processing 44323\n",
      "processing 44390\n",
      "processing 44478\n"
     ]
    },
    {
     "name": "stderr",
     "output_type": "stream",
     "text": [
      "/home/krasen/urban_taxonomy/.pixi/envs/default/lib/python3.12/site-packages/sklearn/preprocessing/_data.py:2785: UserWarning: n_quantiles (1000) is greater than the total number of samples (216). n_quantiles is set to n_samples.\n",
      "  warnings.warn(\n",
      "/home/krasen/urban_taxonomy/.pixi/envs/default/lib/python3.12/site-packages/sklearn/preprocessing/_data.py:2785: UserWarning: n_quantiles (1000) is greater than the total number of samples (135). n_quantiles is set to n_samples.\n",
      "  warnings.warn(\n",
      "/home/krasen/urban_taxonomy/.pixi/envs/default/lib/python3.12/site-packages/sklearn/preprocessing/_data.py:2785: UserWarning: n_quantiles (1000) is greater than the total number of samples (336). n_quantiles is set to n_samples.\n",
      "  warnings.warn(\n",
      "/home/krasen/urban_taxonomy/.pixi/envs/default/lib/python3.12/site-packages/sklearn/preprocessing/_data.py:2785: UserWarning: n_quantiles (1000) is greater than the total number of samples (337). n_quantiles is set to n_samples.\n",
      "  warnings.warn(\n",
      "/home/krasen/urban_taxonomy/.pixi/envs/default/lib/python3.12/site-packages/sklearn/preprocessing/_data.py:2785: UserWarning: n_quantiles (1000) is greater than the total number of samples (178). n_quantiles is set to n_samples.\n",
      "  warnings.warn(\n",
      "/home/krasen/urban_taxonomy/.pixi/envs/default/lib/python3.12/site-packages/sklearn/preprocessing/_data.py:2785: UserWarning: n_quantiles (1000) is greater than the total number of samples (194). n_quantiles is set to n_samples.\n",
      "  warnings.warn(\n",
      "/home/krasen/urban_taxonomy/.pixi/envs/default/lib/python3.12/site-packages/sklearn/preprocessing/_data.py:2785: UserWarning: n_quantiles (1000) is greater than the total number of samples (420). n_quantiles is set to n_samples.\n",
      "  warnings.warn(\n",
      "/home/krasen/urban_taxonomy/.pixi/envs/default/lib/python3.12/site-packages/sklearn/preprocessing/_data.py:2785: UserWarning: n_quantiles (1000) is greater than the total number of samples (809). n_quantiles is set to n_samples.\n",
      "  warnings.warn(\n",
      "/home/krasen/urban_taxonomy/.pixi/envs/default/lib/python3.12/site-packages/sklearn/preprocessing/_data.py:2785: UserWarning: n_quantiles (1000) is greater than the total number of samples (986). n_quantiles is set to n_samples.\n",
      "  warnings.warn(\n",
      "/home/krasen/urban_taxonomy/.pixi/envs/default/lib/python3.12/site-packages/sklearn/preprocessing/_data.py:2785: UserWarning: n_quantiles (1000) is greater than the total number of samples (426). n_quantiles is set to n_samples.\n",
      "  warnings.warn(\n"
     ]
    },
    {
     "name": "stdout",
     "output_type": "stream",
     "text": [
      "processing 44913\n",
      "processing 44933\n",
      "processing 44960\n",
      "processing 45014\n"
     ]
    },
    {
     "name": "stderr",
     "output_type": "stream",
     "text": [
      "/home/krasen/urban_taxonomy/.pixi/envs/default/lib/python3.12/site-packages/sklearn/preprocessing/_data.py:2785: UserWarning: n_quantiles (1000) is greater than the total number of samples (540). n_quantiles is set to n_samples.\n",
      "  warnings.warn(\n",
      "/home/krasen/urban_taxonomy/.pixi/envs/default/lib/python3.12/site-packages/sklearn/preprocessing/_data.py:2785: UserWarning: n_quantiles (1000) is greater than the total number of samples (148). n_quantiles is set to n_samples.\n",
      "  warnings.warn(\n",
      "/home/krasen/urban_taxonomy/.pixi/envs/default/lib/python3.12/site-packages/sklearn/preprocessing/_data.py:2785: UserWarning: n_quantiles (1000) is greater than the total number of samples (311). n_quantiles is set to n_samples.\n",
      "  warnings.warn(\n",
      "/home/krasen/urban_taxonomy/.pixi/envs/default/lib/python3.12/site-packages/sklearn/preprocessing/_data.py:2785: UserWarning: n_quantiles (1000) is greater than the total number of samples (390). n_quantiles is set to n_samples.\n",
      "  warnings.warn(\n",
      "/home/krasen/urban_taxonomy/.pixi/envs/default/lib/python3.12/site-packages/sklearn/preprocessing/_data.py:2785: UserWarning: n_quantiles (1000) is greater than the total number of samples (219). n_quantiles is set to n_samples.\n",
      "  warnings.warn(\n",
      "/home/krasen/urban_taxonomy/.pixi/envs/default/lib/python3.12/site-packages/sklearn/preprocessing/_data.py:2785: UserWarning: n_quantiles (1000) is greater than the total number of samples (569). n_quantiles is set to n_samples.\n",
      "  warnings.warn(\n"
     ]
    },
    {
     "name": "stdout",
     "output_type": "stream",
     "text": [
      "processing 45181\n",
      "processing 45303\n",
      "processing 45441\n",
      "processing 45512\n",
      "processing 45801\n",
      "processing 45865\n"
     ]
    },
    {
     "name": "stderr",
     "output_type": "stream",
     "text": [
      "/home/krasen/urban_taxonomy/.pixi/envs/default/lib/python3.12/site-packages/sklearn/preprocessing/_data.py:2785: UserWarning: n_quantiles (1000) is greater than the total number of samples (210). n_quantiles is set to n_samples.\n",
      "  warnings.warn(\n",
      "/home/krasen/urban_taxonomy/.pixi/envs/default/lib/python3.12/site-packages/sklearn/preprocessing/_data.py:2785: UserWarning: n_quantiles (1000) is greater than the total number of samples (441). n_quantiles is set to n_samples.\n",
      "  warnings.warn(\n",
      "/home/krasen/urban_taxonomy/.pixi/envs/default/lib/python3.12/site-packages/sklearn/preprocessing/_data.py:2785: UserWarning: n_quantiles (1000) is greater than the total number of samples (549). n_quantiles is set to n_samples.\n",
      "  warnings.warn(\n",
      "/home/krasen/urban_taxonomy/.pixi/envs/default/lib/python3.12/site-packages/sklearn/preprocessing/_data.py:2785: UserWarning: n_quantiles (1000) is greater than the total number of samples (83). n_quantiles is set to n_samples.\n",
      "  warnings.warn(\n",
      "/home/krasen/urban_taxonomy/.pixi/envs/default/lib/python3.12/site-packages/sklearn/preprocessing/_data.py:2785: UserWarning: n_quantiles (1000) is greater than the total number of samples (651). n_quantiles is set to n_samples.\n",
      "  warnings.warn(\n",
      "/home/krasen/urban_taxonomy/.pixi/envs/default/lib/python3.12/site-packages/sklearn/preprocessing/_data.py:2785: UserWarning: n_quantiles (1000) is greater than the total number of samples (213). n_quantiles is set to n_samples.\n",
      "  warnings.warn(\n"
     ]
    },
    {
     "name": "stdout",
     "output_type": "stream",
     "text": [
      "processing 45888\n",
      "processing 46115\n",
      "processing 46185\n",
      "processing 46281\n",
      "processing 46352\n",
      "processing 46355\n",
      "processing 46461\n",
      "processing 46545\n",
      "processing 47004\n",
      "processing 47090\n",
      "processing 47149\n"
     ]
    },
    {
     "name": "stderr",
     "output_type": "stream",
     "text": [
      "/home/krasen/urban_taxonomy/.pixi/envs/default/lib/python3.12/site-packages/sklearn/preprocessing/_data.py:2785: UserWarning: n_quantiles (1000) is greater than the total number of samples (221). n_quantiles is set to n_samples.\n",
      "  warnings.warn(\n",
      "/home/krasen/urban_taxonomy/.pixi/envs/default/lib/python3.12/site-packages/sklearn/preprocessing/_data.py:2785: UserWarning: n_quantiles (1000) is greater than the total number of samples (145). n_quantiles is set to n_samples.\n",
      "  warnings.warn(\n",
      "/home/krasen/urban_taxonomy/.pixi/envs/default/lib/python3.12/site-packages/sklearn/preprocessing/_data.py:2785: UserWarning: n_quantiles (1000) is greater than the total number of samples (839). n_quantiles is set to n_samples.\n",
      "  warnings.warn(\n",
      "/home/krasen/urban_taxonomy/.pixi/envs/default/lib/python3.12/site-packages/sklearn/preprocessing/_data.py:2785: UserWarning: n_quantiles (1000) is greater than the total number of samples (122). n_quantiles is set to n_samples.\n",
      "  warnings.warn(\n",
      "/home/krasen/urban_taxonomy/.pixi/envs/default/lib/python3.12/site-packages/sklearn/preprocessing/_data.py:2785: UserWarning: n_quantiles (1000) is greater than the total number of samples (528). n_quantiles is set to n_samples.\n",
      "  warnings.warn(\n",
      "/home/krasen/urban_taxonomy/.pixi/envs/default/lib/python3.12/site-packages/sklearn/preprocessing/_data.py:2785: UserWarning: n_quantiles (1000) is greater than the total number of samples (587). n_quantiles is set to n_samples.\n",
      "  warnings.warn(\n"
     ]
    },
    {
     "name": "stdout",
     "output_type": "stream",
     "text": [
      "processing 47443\n",
      "processing 47446\n",
      "processing 47465\n",
      "processing 47505\n",
      "processing 47539\n"
     ]
    },
    {
     "name": "stderr",
     "output_type": "stream",
     "text": [
      "/home/krasen/urban_taxonomy/.pixi/envs/default/lib/python3.12/site-packages/sklearn/preprocessing/_data.py:2785: UserWarning: n_quantiles (1000) is greater than the total number of samples (370). n_quantiles is set to n_samples.\n",
      "  warnings.warn(\n",
      "/home/krasen/urban_taxonomy/.pixi/envs/default/lib/python3.12/site-packages/sklearn/preprocessing/_data.py:2785: UserWarning: n_quantiles (1000) is greater than the total number of samples (173). n_quantiles is set to n_samples.\n",
      "  warnings.warn(\n",
      "/home/krasen/urban_taxonomy/.pixi/envs/default/lib/python3.12/site-packages/sklearn/preprocessing/_data.py:2785: UserWarning: n_quantiles (1000) is greater than the total number of samples (350). n_quantiles is set to n_samples.\n",
      "  warnings.warn(\n",
      "/home/krasen/urban_taxonomy/.pixi/envs/default/lib/python3.12/site-packages/sklearn/preprocessing/_data.py:2785: UserWarning: n_quantiles (1000) is greater than the total number of samples (452). n_quantiles is set to n_samples.\n",
      "  warnings.warn(\n"
     ]
    },
    {
     "name": "stdout",
     "output_type": "stream",
     "text": [
      "processing 47554\n",
      "processing 47774\n",
      "processing 47813\n",
      "processing 47919\n"
     ]
    },
    {
     "name": "stderr",
     "output_type": "stream",
     "text": [
      "/home/krasen/urban_taxonomy/.pixi/envs/default/lib/python3.12/site-packages/sklearn/preprocessing/_data.py:2785: UserWarning: n_quantiles (1000) is greater than the total number of samples (79). n_quantiles is set to n_samples.\n",
      "  warnings.warn(\n",
      "/home/krasen/urban_taxonomy/.pixi/envs/default/lib/python3.12/site-packages/sklearn/preprocessing/_data.py:2785: UserWarning: n_quantiles (1000) is greater than the total number of samples (267). n_quantiles is set to n_samples.\n",
      "  warnings.warn(\n",
      "/home/krasen/urban_taxonomy/.pixi/envs/default/lib/python3.12/site-packages/sklearn/preprocessing/_data.py:2785: UserWarning: n_quantiles (1000) is greater than the total number of samples (290). n_quantiles is set to n_samples.\n",
      "  warnings.warn(\n"
     ]
    },
    {
     "name": "stdout",
     "output_type": "stream",
     "text": [
      "processing 48152\n",
      "processing 48227\n",
      "processing 48254\n",
      "processing 48357\n"
     ]
    },
    {
     "name": "stderr",
     "output_type": "stream",
     "text": [
      "/home/krasen/urban_taxonomy/.pixi/envs/default/lib/python3.12/site-packages/sklearn/preprocessing/_data.py:2785: UserWarning: n_quantiles (1000) is greater than the total number of samples (520). n_quantiles is set to n_samples.\n",
      "  warnings.warn(\n",
      "/home/krasen/urban_taxonomy/.pixi/envs/default/lib/python3.12/site-packages/sklearn/preprocessing/_data.py:2785: UserWarning: n_quantiles (1000) is greater than the total number of samples (86). n_quantiles is set to n_samples.\n",
      "  warnings.warn(\n",
      "/home/krasen/urban_taxonomy/.pixi/envs/default/lib/python3.12/site-packages/sklearn/preprocessing/_data.py:2785: UserWarning: n_quantiles (1000) is greater than the total number of samples (174). n_quantiles is set to n_samples.\n",
      "  warnings.warn(\n"
     ]
    },
    {
     "name": "stdout",
     "output_type": "stream",
     "text": [
      "processing 48405\n",
      "processing 48597\n",
      "processing 48965\n"
     ]
    },
    {
     "name": "stderr",
     "output_type": "stream",
     "text": [
      "/home/krasen/urban_taxonomy/.pixi/envs/default/lib/python3.12/site-packages/sklearn/preprocessing/_data.py:2785: UserWarning: n_quantiles (1000) is greater than the total number of samples (371). n_quantiles is set to n_samples.\n",
      "  warnings.warn(\n",
      "/home/krasen/urban_taxonomy/.pixi/envs/default/lib/python3.12/site-packages/sklearn/preprocessing/_data.py:2785: UserWarning: n_quantiles (1000) is greater than the total number of samples (356). n_quantiles is set to n_samples.\n",
      "  warnings.warn(\n",
      "/home/krasen/urban_taxonomy/.pixi/envs/default/lib/python3.12/site-packages/sklearn/preprocessing/_data.py:2785: UserWarning: n_quantiles (1000) is greater than the total number of samples (319). n_quantiles is set to n_samples.\n",
      "  warnings.warn(\n",
      "/home/krasen/urban_taxonomy/.pixi/envs/default/lib/python3.12/site-packages/sklearn/preprocessing/_data.py:2785: UserWarning: n_quantiles (1000) is greater than the total number of samples (201). n_quantiles is set to n_samples.\n",
      "  warnings.warn(\n",
      "/home/krasen/urban_taxonomy/.pixi/envs/default/lib/python3.12/site-packages/sklearn/preprocessing/_data.py:2785: UserWarning: n_quantiles (1000) is greater than the total number of samples (156). n_quantiles is set to n_samples.\n",
      "  warnings.warn(\n",
      "/home/krasen/urban_taxonomy/.pixi/envs/default/lib/python3.12/site-packages/sklearn/preprocessing/_data.py:2785: UserWarning: n_quantiles (1000) is greater than the total number of samples (217). n_quantiles is set to n_samples.\n",
      "  warnings.warn(\n",
      "/home/krasen/urban_taxonomy/.pixi/envs/default/lib/python3.12/site-packages/sklearn/preprocessing/_data.py:2785: UserWarning: n_quantiles (1000) is greater than the total number of samples (270). n_quantiles is set to n_samples.\n",
      "  warnings.warn(\n"
     ]
    },
    {
     "name": "stdout",
     "output_type": "stream",
     "text": [
      "processing 49045\n",
      "processing 49393\n",
      "processing 49434\n",
      "processing 49571\n",
      "processing 49643\n",
      "processing 49714\n",
      "processing 50280\n"
     ]
    },
    {
     "name": "stderr",
     "output_type": "stream",
     "text": [
      "/home/krasen/urban_taxonomy/.pixi/envs/default/lib/python3.12/site-packages/sklearn/preprocessing/_data.py:2785: UserWarning: n_quantiles (1000) is greater than the total number of samples (132). n_quantiles is set to n_samples.\n",
      "  warnings.warn(\n",
      "/home/krasen/urban_taxonomy/.pixi/envs/default/lib/python3.12/site-packages/sklearn/preprocessing/_data.py:2785: UserWarning: n_quantiles (1000) is greater than the total number of samples (550). n_quantiles is set to n_samples.\n",
      "  warnings.warn(\n",
      "/home/krasen/urban_taxonomy/.pixi/envs/default/lib/python3.12/site-packages/sklearn/preprocessing/_data.py:2785: UserWarning: n_quantiles (1000) is greater than the total number of samples (511). n_quantiles is set to n_samples.\n",
      "  warnings.warn(\n",
      "/home/krasen/urban_taxonomy/.pixi/envs/default/lib/python3.12/site-packages/sklearn/preprocessing/_data.py:2785: UserWarning: n_quantiles (1000) is greater than the total number of samples (87). n_quantiles is set to n_samples.\n",
      "  warnings.warn(\n",
      "/home/krasen/urban_taxonomy/.pixi/envs/default/lib/python3.12/site-packages/sklearn/preprocessing/_data.py:2785: UserWarning: n_quantiles (1000) is greater than the total number of samples (415). n_quantiles is set to n_samples.\n",
      "  warnings.warn(\n",
      "/home/krasen/urban_taxonomy/.pixi/envs/default/lib/python3.12/site-packages/sklearn/preprocessing/_data.py:2785: UserWarning: n_quantiles (1000) is greater than the total number of samples (176). n_quantiles is set to n_samples.\n",
      "  warnings.warn(\n"
     ]
    },
    {
     "name": "stdout",
     "output_type": "stream",
     "text": [
      "processing 50285\n",
      "processing 50528\n",
      "processing 50880\n",
      "processing 50896\n",
      "processing 50966\n",
      "processing 51019\n",
      "processing 51277\n"
     ]
    },
    {
     "name": "stderr",
     "output_type": "stream",
     "text": [
      "/home/krasen/urban_taxonomy/.pixi/envs/default/lib/python3.12/site-packages/sklearn/preprocessing/_data.py:2785: UserWarning: n_quantiles (1000) is greater than the total number of samples (206). n_quantiles is set to n_samples.\n",
      "  warnings.warn(\n",
      "/home/krasen/urban_taxonomy/.pixi/envs/default/lib/python3.12/site-packages/sklearn/preprocessing/_data.py:2785: UserWarning: n_quantiles (1000) is greater than the total number of samples (416). n_quantiles is set to n_samples.\n",
      "  warnings.warn(\n",
      "/home/krasen/urban_taxonomy/.pixi/envs/default/lib/python3.12/site-packages/sklearn/preprocessing/_data.py:2785: UserWarning: n_quantiles (1000) is greater than the total number of samples (196). n_quantiles is set to n_samples.\n",
      "  warnings.warn(\n"
     ]
    },
    {
     "name": "stdout",
     "output_type": "stream",
     "text": [
      "processing 51289\n",
      "processing 51570\n",
      "processing 51677\n",
      "processing 52381\n",
      "processing 52492\n",
      "processing 53232\n",
      "processing 53380\n"
     ]
    },
    {
     "name": "stderr",
     "output_type": "stream",
     "text": [
      "/home/krasen/urban_taxonomy/.pixi/envs/default/lib/python3.12/site-packages/sklearn/preprocessing/_data.py:2785: UserWarning: n_quantiles (1000) is greater than the total number of samples (454). n_quantiles is set to n_samples.\n",
      "  warnings.warn(\n",
      "/home/krasen/urban_taxonomy/.pixi/envs/default/lib/python3.12/site-packages/sklearn/preprocessing/_data.py:2785: UserWarning: n_quantiles (1000) is greater than the total number of samples (167). n_quantiles is set to n_samples.\n",
      "  warnings.warn(\n",
      "/home/krasen/urban_taxonomy/.pixi/envs/default/lib/python3.12/site-packages/sklearn/preprocessing/_data.py:2785: UserWarning: n_quantiles (1000) is greater than the total number of samples (597). n_quantiles is set to n_samples.\n",
      "  warnings.warn(\n",
      "/home/krasen/urban_taxonomy/.pixi/envs/default/lib/python3.12/site-packages/sklearn/preprocessing/_data.py:2785: UserWarning: n_quantiles (1000) is greater than the total number of samples (233). n_quantiles is set to n_samples.\n",
      "  warnings.warn(\n",
      "/home/krasen/urban_taxonomy/.pixi/envs/default/lib/python3.12/site-packages/sklearn/preprocessing/_data.py:2785: UserWarning: n_quantiles (1000) is greater than the total number of samples (161). n_quantiles is set to n_samples.\n",
      "  warnings.warn(\n"
     ]
    },
    {
     "name": "stdout",
     "output_type": "stream",
     "text": [
      "processing 53410\n",
      "processing 53525\n",
      "processing 53605\n",
      "processing 53616\n",
      "processing 53744\n",
      "processing 54871\n"
     ]
    },
    {
     "name": "stderr",
     "output_type": "stream",
     "text": [
      "/home/krasen/urban_taxonomy/.pixi/envs/default/lib/python3.12/site-packages/sklearn/preprocessing/_data.py:2785: UserWarning: n_quantiles (1000) is greater than the total number of samples (309). n_quantiles is set to n_samples.\n",
      "  warnings.warn(\n",
      "/home/krasen/urban_taxonomy/.pixi/envs/default/lib/python3.12/site-packages/sklearn/preprocessing/_data.py:2785: UserWarning: n_quantiles (1000) is greater than the total number of samples (417). n_quantiles is set to n_samples.\n",
      "  warnings.warn(\n",
      "/home/krasen/urban_taxonomy/.pixi/envs/default/lib/python3.12/site-packages/sklearn/preprocessing/_data.py:2785: UserWarning: n_quantiles (1000) is greater than the total number of samples (788). n_quantiles is set to n_samples.\n",
      "  warnings.warn(\n",
      "/home/krasen/urban_taxonomy/.pixi/envs/default/lib/python3.12/site-packages/sklearn/preprocessing/_data.py:2785: UserWarning: n_quantiles (1000) is greater than the total number of samples (447). n_quantiles is set to n_samples.\n",
      "  warnings.warn(\n",
      "/home/krasen/urban_taxonomy/.pixi/envs/default/lib/python3.12/site-packages/sklearn/preprocessing/_data.py:2785: UserWarning: n_quantiles (1000) is greater than the total number of samples (395). n_quantiles is set to n_samples.\n",
      "  warnings.warn(\n"
     ]
    },
    {
     "name": "stdout",
     "output_type": "stream",
     "text": [
      "processing 55392\n",
      "processing 55763\n"
     ]
    },
    {
     "name": "stderr",
     "output_type": "stream",
     "text": [
      "/home/krasen/urban_taxonomy/.pixi/envs/default/lib/python3.12/site-packages/sklearn/preprocessing/_data.py:2785: UserWarning: n_quantiles (1000) is greater than the total number of samples (812). n_quantiles is set to n_samples.\n",
      "  warnings.warn(\n"
     ]
    },
    {
     "name": "stdout",
     "output_type": "stream",
     "text": [
      "processing 55811\n",
      "processing 55835\n",
      "processing 56160\n",
      "processing 56178\n",
      "processing 56184\n",
      "processing 56404\n",
      "processing 56937\n"
     ]
    },
    {
     "name": "stderr",
     "output_type": "stream",
     "text": [
      "/home/krasen/urban_taxonomy/.pixi/envs/default/lib/python3.12/site-packages/sklearn/preprocessing/_data.py:2785: UserWarning: n_quantiles (1000) is greater than the total number of samples (314). n_quantiles is set to n_samples.\n",
      "  warnings.warn(\n",
      "/home/krasen/urban_taxonomy/.pixi/envs/default/lib/python3.12/site-packages/sklearn/preprocessing/_data.py:2785: UserWarning: n_quantiles (1000) is greater than the total number of samples (427). n_quantiles is set to n_samples.\n",
      "  warnings.warn(\n",
      "/home/krasen/urban_taxonomy/.pixi/envs/default/lib/python3.12/site-packages/sklearn/preprocessing/_data.py:2785: UserWarning: n_quantiles (1000) is greater than the total number of samples (138). n_quantiles is set to n_samples.\n",
      "  warnings.warn(\n",
      "/home/krasen/urban_taxonomy/.pixi/envs/default/lib/python3.12/site-packages/sklearn/preprocessing/_data.py:2785: UserWarning: n_quantiles (1000) is greater than the total number of samples (338). n_quantiles is set to n_samples.\n",
      "  warnings.warn(\n",
      "/home/krasen/urban_taxonomy/.pixi/envs/default/lib/python3.12/site-packages/sklearn/preprocessing/_data.py:2785: UserWarning: n_quantiles (1000) is greater than the total number of samples (300). n_quantiles is set to n_samples.\n",
      "  warnings.warn(\n",
      "/home/krasen/urban_taxonomy/.pixi/envs/default/lib/python3.12/site-packages/sklearn/preprocessing/_data.py:2785: UserWarning: n_quantiles (1000) is greater than the total number of samples (273). n_quantiles is set to n_samples.\n",
      "  warnings.warn(\n",
      "/home/krasen/urban_taxonomy/.pixi/envs/default/lib/python3.12/site-packages/sklearn/preprocessing/_data.py:2785: UserWarning: n_quantiles (1000) is greater than the total number of samples (317). n_quantiles is set to n_samples.\n",
      "  warnings.warn(\n"
     ]
    },
    {
     "name": "stdout",
     "output_type": "stream",
     "text": [
      "processing 57109\n",
      "processing 57313\n",
      "processing 57652\n",
      "processing 57717\n",
      "processing 57876\n",
      "processing 57908\n"
     ]
    },
    {
     "name": "stderr",
     "output_type": "stream",
     "text": [
      "/home/krasen/urban_taxonomy/.pixi/envs/default/lib/python3.12/site-packages/sklearn/preprocessing/_data.py:2785: UserWarning: n_quantiles (1000) is greater than the total number of samples (245). n_quantiles is set to n_samples.\n",
      "  warnings.warn(\n",
      "/home/krasen/urban_taxonomy/.pixi/envs/default/lib/python3.12/site-packages/sklearn/preprocessing/_data.py:2785: UserWarning: n_quantiles (1000) is greater than the total number of samples (227). n_quantiles is set to n_samples.\n",
      "  warnings.warn(\n",
      "/home/krasen/urban_taxonomy/.pixi/envs/default/lib/python3.12/site-packages/sklearn/preprocessing/_data.py:2785: UserWarning: n_quantiles (1000) is greater than the total number of samples (273). n_quantiles is set to n_samples.\n",
      "  warnings.warn(\n",
      "/home/krasen/urban_taxonomy/.pixi/envs/default/lib/python3.12/site-packages/sklearn/preprocessing/_data.py:2785: UserWarning: n_quantiles (1000) is greater than the total number of samples (968). n_quantiles is set to n_samples.\n",
      "  warnings.warn(\n",
      "/home/krasen/urban_taxonomy/.pixi/envs/default/lib/python3.12/site-packages/sklearn/preprocessing/_data.py:2785: UserWarning: n_quantiles (1000) is greater than the total number of samples (143). n_quantiles is set to n_samples.\n",
      "  warnings.warn(\n",
      "/home/krasen/urban_taxonomy/.pixi/envs/default/lib/python3.12/site-packages/sklearn/preprocessing/_data.py:2785: UserWarning: n_quantiles (1000) is greater than the total number of samples (331). n_quantiles is set to n_samples.\n",
      "  warnings.warn(\n"
     ]
    },
    {
     "name": "stdout",
     "output_type": "stream",
     "text": [
      "processing 58077\n",
      "processing 58523\n",
      "processing 58571\n",
      "processing 58713\n",
      "processing 58795\n",
      "processing 59194\n",
      "processing 59226\n"
     ]
    },
    {
     "name": "stderr",
     "output_type": "stream",
     "text": [
      "/home/krasen/urban_taxonomy/.pixi/envs/default/lib/python3.12/site-packages/sklearn/preprocessing/_data.py:2785: UserWarning: n_quantiles (1000) is greater than the total number of samples (210). n_quantiles is set to n_samples.\n",
      "  warnings.warn(\n",
      "/home/krasen/urban_taxonomy/.pixi/envs/default/lib/python3.12/site-packages/sklearn/preprocessing/_data.py:2785: UserWarning: n_quantiles (1000) is greater than the total number of samples (426). n_quantiles is set to n_samples.\n",
      "  warnings.warn(\n",
      "/home/krasen/urban_taxonomy/.pixi/envs/default/lib/python3.12/site-packages/sklearn/preprocessing/_data.py:2785: UserWarning: n_quantiles (1000) is greater than the total number of samples (155). n_quantiles is set to n_samples.\n",
      "  warnings.warn(\n",
      "/home/krasen/urban_taxonomy/.pixi/envs/default/lib/python3.12/site-packages/sklearn/preprocessing/_data.py:2785: UserWarning: n_quantiles (1000) is greater than the total number of samples (583). n_quantiles is set to n_samples.\n",
      "  warnings.warn(\n",
      "/home/krasen/urban_taxonomy/.pixi/envs/default/lib/python3.12/site-packages/sklearn/preprocessing/_data.py:2785: UserWarning: n_quantiles (1000) is greater than the total number of samples (162). n_quantiles is set to n_samples.\n",
      "  warnings.warn(\n",
      "/home/krasen/urban_taxonomy/.pixi/envs/default/lib/python3.12/site-packages/sklearn/preprocessing/_data.py:2785: UserWarning: n_quantiles (1000) is greater than the total number of samples (96). n_quantiles is set to n_samples.\n",
      "  warnings.warn(\n",
      "/home/krasen/urban_taxonomy/.pixi/envs/default/lib/python3.12/site-packages/sklearn/preprocessing/_data.py:2785: UserWarning: n_quantiles (1000) is greater than the total number of samples (448). n_quantiles is set to n_samples.\n",
      "  warnings.warn(\n"
     ]
    },
    {
     "name": "stdout",
     "output_type": "stream",
     "text": [
      "processing 59718\n",
      "processing 59768\n",
      "processing 60009\n",
      "processing 60045\n",
      "processing 60202\n",
      "processing 60273\n"
     ]
    },
    {
     "name": "stderr",
     "output_type": "stream",
     "text": [
      "/home/krasen/urban_taxonomy/.pixi/envs/default/lib/python3.12/site-packages/sklearn/preprocessing/_data.py:2785: UserWarning: n_quantiles (1000) is greater than the total number of samples (148). n_quantiles is set to n_samples.\n",
      "  warnings.warn(\n",
      "/home/krasen/urban_taxonomy/.pixi/envs/default/lib/python3.12/site-packages/sklearn/preprocessing/_data.py:2785: UserWarning: n_quantiles (1000) is greater than the total number of samples (261). n_quantiles is set to n_samples.\n",
      "  warnings.warn(\n",
      "/home/krasen/urban_taxonomy/.pixi/envs/default/lib/python3.12/site-packages/sklearn/preprocessing/_data.py:2785: UserWarning: n_quantiles (1000) is greater than the total number of samples (181). n_quantiles is set to n_samples.\n",
      "  warnings.warn(\n",
      "/home/krasen/urban_taxonomy/.pixi/envs/default/lib/python3.12/site-packages/sklearn/preprocessing/_data.py:2785: UserWarning: n_quantiles (1000) is greater than the total number of samples (406). n_quantiles is set to n_samples.\n",
      "  warnings.warn(\n",
      "/home/krasen/urban_taxonomy/.pixi/envs/default/lib/python3.12/site-packages/sklearn/preprocessing/_data.py:2785: UserWarning: n_quantiles (1000) is greater than the total number of samples (89). n_quantiles is set to n_samples.\n",
      "  warnings.warn(\n"
     ]
    },
    {
     "name": "stdout",
     "output_type": "stream",
     "text": [
      "processing 60613\n",
      "processing 60914\n",
      "processing 61183\n",
      "processing 61187\n"
     ]
    },
    {
     "name": "stderr",
     "output_type": "stream",
     "text": [
      "/home/krasen/urban_taxonomy/.pixi/envs/default/lib/python3.12/site-packages/sklearn/preprocessing/_data.py:2785: UserWarning: n_quantiles (1000) is greater than the total number of samples (241). n_quantiles is set to n_samples.\n",
      "  warnings.warn(\n",
      "/home/krasen/urban_taxonomy/.pixi/envs/default/lib/python3.12/site-packages/sklearn/preprocessing/_data.py:2785: UserWarning: n_quantiles (1000) is greater than the total number of samples (181). n_quantiles is set to n_samples.\n",
      "  warnings.warn(\n",
      "/home/krasen/urban_taxonomy/.pixi/envs/default/lib/python3.12/site-packages/sklearn/preprocessing/_data.py:2785: UserWarning: n_quantiles (1000) is greater than the total number of samples (408). n_quantiles is set to n_samples.\n",
      "  warnings.warn(\n"
     ]
    },
    {
     "name": "stdout",
     "output_type": "stream",
     "text": [
      "processing 61711\n",
      "processing 61875\n",
      "processing 62193\n",
      "processing 62222\n",
      "processing 62393\n"
     ]
    },
    {
     "name": "stderr",
     "output_type": "stream",
     "text": [
      "/home/krasen/urban_taxonomy/.pixi/envs/default/lib/python3.12/site-packages/sklearn/preprocessing/_data.py:2785: UserWarning: n_quantiles (1000) is greater than the total number of samples (778). n_quantiles is set to n_samples.\n",
      "  warnings.warn(\n",
      "/home/krasen/urban_taxonomy/.pixi/envs/default/lib/python3.12/site-packages/sklearn/preprocessing/_data.py:2785: UserWarning: n_quantiles (1000) is greater than the total number of samples (181). n_quantiles is set to n_samples.\n",
      "  warnings.warn(\n",
      "/home/krasen/urban_taxonomy/.pixi/envs/default/lib/python3.12/site-packages/sklearn/preprocessing/_data.py:2785: UserWarning: n_quantiles (1000) is greater than the total number of samples (611). n_quantiles is set to n_samples.\n",
      "  warnings.warn(\n",
      "/home/krasen/urban_taxonomy/.pixi/envs/default/lib/python3.12/site-packages/sklearn/preprocessing/_data.py:2785: UserWarning: n_quantiles (1000) is greater than the total number of samples (300). n_quantiles is set to n_samples.\n",
      "  warnings.warn(\n",
      "/home/krasen/urban_taxonomy/.pixi/envs/default/lib/python3.12/site-packages/sklearn/preprocessing/_data.py:2785: UserWarning: n_quantiles (1000) is greater than the total number of samples (740). n_quantiles is set to n_samples.\n",
      "  warnings.warn(\n"
     ]
    },
    {
     "name": "stdout",
     "output_type": "stream",
     "text": [
      "processing 62844\n",
      "processing 62954\n"
     ]
    },
    {
     "name": "stderr",
     "output_type": "stream",
     "text": [
      "/home/krasen/urban_taxonomy/.pixi/envs/default/lib/python3.12/site-packages/sklearn/preprocessing/_data.py:2785: UserWarning: n_quantiles (1000) is greater than the total number of samples (401). n_quantiles is set to n_samples.\n",
      "  warnings.warn(\n"
     ]
    },
    {
     "name": "stdout",
     "output_type": "stream",
     "text": [
      "processing 63485\n",
      "processing 63655\n",
      "processing 63726\n",
      "processing 63739\n",
      "processing 63756\n",
      "processing 64097\n",
      "processing 64220\n"
     ]
    },
    {
     "name": "stderr",
     "output_type": "stream",
     "text": [
      "/home/krasen/urban_taxonomy/.pixi/envs/default/lib/python3.12/site-packages/sklearn/preprocessing/_data.py:2785: UserWarning: n_quantiles (1000) is greater than the total number of samples (126). n_quantiles is set to n_samples.\n",
      "  warnings.warn(\n",
      "/home/krasen/urban_taxonomy/.pixi/envs/default/lib/python3.12/site-packages/sklearn/preprocessing/_data.py:2785: UserWarning: n_quantiles (1000) is greater than the total number of samples (226). n_quantiles is set to n_samples.\n",
      "  warnings.warn(\n",
      "/home/krasen/urban_taxonomy/.pixi/envs/default/lib/python3.12/site-packages/sklearn/preprocessing/_data.py:2785: UserWarning: n_quantiles (1000) is greater than the total number of samples (617). n_quantiles is set to n_samples.\n",
      "  warnings.warn(\n",
      "/home/krasen/urban_taxonomy/.pixi/envs/default/lib/python3.12/site-packages/sklearn/preprocessing/_data.py:2785: UserWarning: n_quantiles (1000) is greater than the total number of samples (241). n_quantiles is set to n_samples.\n",
      "  warnings.warn(\n",
      "/home/krasen/urban_taxonomy/.pixi/envs/default/lib/python3.12/site-packages/sklearn/preprocessing/_data.py:2785: UserWarning: n_quantiles (1000) is greater than the total number of samples (195). n_quantiles is set to n_samples.\n",
      "  warnings.warn(\n",
      "/home/krasen/urban_taxonomy/.pixi/envs/default/lib/python3.12/site-packages/sklearn/preprocessing/_data.py:2785: UserWarning: n_quantiles (1000) is greater than the total number of samples (429). n_quantiles is set to n_samples.\n",
      "  warnings.warn(\n"
     ]
    },
    {
     "name": "stdout",
     "output_type": "stream",
     "text": [
      "processing 64463\n",
      "processing 65007\n",
      "processing 65441\n",
      "processing 65626\n",
      "processing 66007\n",
      "processing 66047\n"
     ]
    },
    {
     "name": "stderr",
     "output_type": "stream",
     "text": [
      "/home/krasen/urban_taxonomy/.pixi/envs/default/lib/python3.12/site-packages/sklearn/preprocessing/_data.py:2785: UserWarning: n_quantiles (1000) is greater than the total number of samples (388). n_quantiles is set to n_samples.\n",
      "  warnings.warn(\n",
      "/home/krasen/urban_taxonomy/.pixi/envs/default/lib/python3.12/site-packages/sklearn/preprocessing/_data.py:2785: UserWarning: n_quantiles (1000) is greater than the total number of samples (392). n_quantiles is set to n_samples.\n",
      "  warnings.warn(\n",
      "/home/krasen/urban_taxonomy/.pixi/envs/default/lib/python3.12/site-packages/sklearn/preprocessing/_data.py:2785: UserWarning: n_quantiles (1000) is greater than the total number of samples (194). n_quantiles is set to n_samples.\n",
      "  warnings.warn(\n",
      "/home/krasen/urban_taxonomy/.pixi/envs/default/lib/python3.12/site-packages/sklearn/preprocessing/_data.py:2785: UserWarning: n_quantiles (1000) is greater than the total number of samples (256). n_quantiles is set to n_samples.\n",
      "  warnings.warn(\n",
      "/home/krasen/urban_taxonomy/.pixi/envs/default/lib/python3.12/site-packages/sklearn/preprocessing/_data.py:2785: UserWarning: n_quantiles (1000) is greater than the total number of samples (335). n_quantiles is set to n_samples.\n",
      "  warnings.warn(\n",
      "/home/krasen/urban_taxonomy/.pixi/envs/default/lib/python3.12/site-packages/sklearn/preprocessing/_data.py:2785: UserWarning: n_quantiles (1000) is greater than the total number of samples (493). n_quantiles is set to n_samples.\n",
      "  warnings.warn(\n"
     ]
    },
    {
     "name": "stdout",
     "output_type": "stream",
     "text": [
      "processing 66540\n",
      "processing 66593\n",
      "processing 66793\n",
      "processing 67156\n",
      "processing 67279\n",
      "processing 67459\n",
      "processing 67803\n"
     ]
    },
    {
     "name": "stderr",
     "output_type": "stream",
     "text": [
      "/home/krasen/urban_taxonomy/.pixi/envs/default/lib/python3.12/site-packages/sklearn/preprocessing/_data.py:2785: UserWarning: n_quantiles (1000) is greater than the total number of samples (205). n_quantiles is set to n_samples.\n",
      "  warnings.warn(\n",
      "/home/krasen/urban_taxonomy/.pixi/envs/default/lib/python3.12/site-packages/sklearn/preprocessing/_data.py:2785: UserWarning: n_quantiles (1000) is greater than the total number of samples (160). n_quantiles is set to n_samples.\n",
      "  warnings.warn(\n",
      "/home/krasen/urban_taxonomy/.pixi/envs/default/lib/python3.12/site-packages/sklearn/preprocessing/_data.py:2785: UserWarning: n_quantiles (1000) is greater than the total number of samples (317). n_quantiles is set to n_samples.\n",
      "  warnings.warn(\n",
      "/home/krasen/urban_taxonomy/.pixi/envs/default/lib/python3.12/site-packages/sklearn/preprocessing/_data.py:2785: UserWarning: n_quantiles (1000) is greater than the total number of samples (278). n_quantiles is set to n_samples.\n",
      "  warnings.warn(\n",
      "/home/krasen/urban_taxonomy/.pixi/envs/default/lib/python3.12/site-packages/sklearn/preprocessing/_data.py:2785: UserWarning: n_quantiles (1000) is greater than the total number of samples (475). n_quantiles is set to n_samples.\n",
      "  warnings.warn(\n",
      "/home/krasen/urban_taxonomy/.pixi/envs/default/lib/python3.12/site-packages/sklearn/preprocessing/_data.py:2785: UserWarning: n_quantiles (1000) is greater than the total number of samples (256). n_quantiles is set to n_samples.\n",
      "  warnings.warn(\n",
      "/home/krasen/urban_taxonomy/.pixi/envs/default/lib/python3.12/site-packages/sklearn/preprocessing/_data.py:2785: UserWarning: n_quantiles (1000) is greater than the total number of samples (654). n_quantiles is set to n_samples.\n",
      "  warnings.warn(\n"
     ]
    },
    {
     "name": "stdout",
     "output_type": "stream",
     "text": [
      "processing 68059\n",
      "processing 68265\n"
     ]
    },
    {
     "name": "stderr",
     "output_type": "stream",
     "text": [
      "/home/krasen/urban_taxonomy/.pixi/envs/default/lib/python3.12/site-packages/sklearn/preprocessing/_data.py:2785: UserWarning: n_quantiles (1000) is greater than the total number of samples (703). n_quantiles is set to n_samples.\n",
      "  warnings.warn(\n"
     ]
    },
    {
     "name": "stdout",
     "output_type": "stream",
     "text": [
      "processing 68363\n",
      "processing 69333\n"
     ]
    },
    {
     "name": "stderr",
     "output_type": "stream",
     "text": [
      "/home/krasen/urban_taxonomy/.pixi/envs/default/lib/python3.12/site-packages/sklearn/preprocessing/_data.py:2785: UserWarning: n_quantiles (1000) is greater than the total number of samples (242). n_quantiles is set to n_samples.\n",
      "  warnings.warn(\n"
     ]
    },
    {
     "name": "stdout",
     "output_type": "stream",
     "text": [
      "processing 69394\n",
      "processing 70073\n",
      "processing 70108\n",
      "processing 70368\n",
      "processing 70973\n",
      "processing 71306\n"
     ]
    },
    {
     "name": "stderr",
     "output_type": "stream",
     "text": [
      "/home/krasen/urban_taxonomy/.pixi/envs/default/lib/python3.12/site-packages/sklearn/preprocessing/_data.py:2785: UserWarning: n_quantiles (1000) is greater than the total number of samples (334). n_quantiles is set to n_samples.\n",
      "  warnings.warn(\n",
      "/home/krasen/urban_taxonomy/.pixi/envs/default/lib/python3.12/site-packages/sklearn/preprocessing/_data.py:2785: UserWarning: n_quantiles (1000) is greater than the total number of samples (629). n_quantiles is set to n_samples.\n",
      "  warnings.warn(\n",
      "/home/krasen/urban_taxonomy/.pixi/envs/default/lib/python3.12/site-packages/sklearn/preprocessing/_data.py:2785: UserWarning: n_quantiles (1000) is greater than the total number of samples (569). n_quantiles is set to n_samples.\n",
      "  warnings.warn(\n",
      "/home/krasen/urban_taxonomy/.pixi/envs/default/lib/python3.12/site-packages/sklearn/preprocessing/_data.py:2785: UserWarning: n_quantiles (1000) is greater than the total number of samples (298). n_quantiles is set to n_samples.\n",
      "  warnings.warn(\n",
      "/home/krasen/urban_taxonomy/.pixi/envs/default/lib/python3.12/site-packages/sklearn/preprocessing/_data.py:2785: UserWarning: n_quantiles (1000) is greater than the total number of samples (309). n_quantiles is set to n_samples.\n",
      "  warnings.warn(\n",
      "/home/krasen/urban_taxonomy/.pixi/envs/default/lib/python3.12/site-packages/sklearn/preprocessing/_data.py:2785: UserWarning: n_quantiles (1000) is greater than the total number of samples (257). n_quantiles is set to n_samples.\n",
      "  warnings.warn(\n"
     ]
    },
    {
     "name": "stdout",
     "output_type": "stream",
     "text": [
      "processing 71477\n",
      "processing 71506\n",
      "processing 71843\n",
      "processing 72032\n",
      "processing 72110\n",
      "processing 72396\n",
      "processing 72507\n"
     ]
    },
    {
     "name": "stderr",
     "output_type": "stream",
     "text": [
      "/home/krasen/urban_taxonomy/.pixi/envs/default/lib/python3.12/site-packages/sklearn/preprocessing/_data.py:2785: UserWarning: n_quantiles (1000) is greater than the total number of samples (247). n_quantiles is set to n_samples.\n",
      "  warnings.warn(\n",
      "/home/krasen/urban_taxonomy/.pixi/envs/default/lib/python3.12/site-packages/sklearn/preprocessing/_data.py:2785: UserWarning: n_quantiles (1000) is greater than the total number of samples (157). n_quantiles is set to n_samples.\n",
      "  warnings.warn(\n",
      "/home/krasen/urban_taxonomy/.pixi/envs/default/lib/python3.12/site-packages/sklearn/preprocessing/_data.py:2785: UserWarning: n_quantiles (1000) is greater than the total number of samples (264). n_quantiles is set to n_samples.\n",
      "  warnings.warn(\n",
      "/home/krasen/urban_taxonomy/.pixi/envs/default/lib/python3.12/site-packages/sklearn/preprocessing/_data.py:2785: UserWarning: n_quantiles (1000) is greater than the total number of samples (134). n_quantiles is set to n_samples.\n",
      "  warnings.warn(\n",
      "/home/krasen/urban_taxonomy/.pixi/envs/default/lib/python3.12/site-packages/sklearn/preprocessing/_data.py:2785: UserWarning: n_quantiles (1000) is greater than the total number of samples (220). n_quantiles is set to n_samples.\n",
      "  warnings.warn(\n",
      "/home/krasen/urban_taxonomy/.pixi/envs/default/lib/python3.12/site-packages/sklearn/preprocessing/_data.py:2785: UserWarning: n_quantiles (1000) is greater than the total number of samples (355). n_quantiles is set to n_samples.\n",
      "  warnings.warn(\n",
      "/home/krasen/urban_taxonomy/.pixi/envs/default/lib/python3.12/site-packages/sklearn/preprocessing/_data.py:2785: UserWarning: n_quantiles (1000) is greater than the total number of samples (672). n_quantiles is set to n_samples.\n",
      "  warnings.warn(\n"
     ]
    },
    {
     "name": "stdout",
     "output_type": "stream",
     "text": [
      "processing 73611\n",
      "processing 73625\n",
      "processing 73735\n",
      "processing 74378\n",
      "processing 74568\n",
      "processing 75472\n"
     ]
    },
    {
     "name": "stderr",
     "output_type": "stream",
     "text": [
      "/home/krasen/urban_taxonomy/.pixi/envs/default/lib/python3.12/site-packages/sklearn/preprocessing/_data.py:2785: UserWarning: n_quantiles (1000) is greater than the total number of samples (274). n_quantiles is set to n_samples.\n",
      "  warnings.warn(\n",
      "/home/krasen/urban_taxonomy/.pixi/envs/default/lib/python3.12/site-packages/sklearn/preprocessing/_data.py:2785: UserWarning: n_quantiles (1000) is greater than the total number of samples (285). n_quantiles is set to n_samples.\n",
      "  warnings.warn(\n",
      "/home/krasen/urban_taxonomy/.pixi/envs/default/lib/python3.12/site-packages/sklearn/preprocessing/_data.py:2785: UserWarning: n_quantiles (1000) is greater than the total number of samples (112). n_quantiles is set to n_samples.\n",
      "  warnings.warn(\n",
      "/home/krasen/urban_taxonomy/.pixi/envs/default/lib/python3.12/site-packages/sklearn/preprocessing/_data.py:2785: UserWarning: n_quantiles (1000) is greater than the total number of samples (540). n_quantiles is set to n_samples.\n",
      "  warnings.warn(\n",
      "/home/krasen/urban_taxonomy/.pixi/envs/default/lib/python3.12/site-packages/sklearn/preprocessing/_data.py:2785: UserWarning: n_quantiles (1000) is greater than the total number of samples (550). n_quantiles is set to n_samples.\n",
      "  warnings.warn(\n",
      "/home/krasen/urban_taxonomy/.pixi/envs/default/lib/python3.12/site-packages/sklearn/preprocessing/_data.py:2785: UserWarning: n_quantiles (1000) is greater than the total number of samples (980). n_quantiles is set to n_samples.\n",
      "  warnings.warn(\n"
     ]
    },
    {
     "name": "stdout",
     "output_type": "stream",
     "text": [
      "processing 75642\n",
      "processing 76038\n",
      "processing 76305\n",
      "processing 76512\n"
     ]
    },
    {
     "name": "stderr",
     "output_type": "stream",
     "text": [
      "/home/krasen/urban_taxonomy/.pixi/envs/default/lib/python3.12/site-packages/sklearn/preprocessing/_data.py:2785: UserWarning: n_quantiles (1000) is greater than the total number of samples (319). n_quantiles is set to n_samples.\n",
      "  warnings.warn(\n",
      "/home/krasen/urban_taxonomy/.pixi/envs/default/lib/python3.12/site-packages/sklearn/preprocessing/_data.py:2785: UserWarning: n_quantiles (1000) is greater than the total number of samples (947). n_quantiles is set to n_samples.\n",
      "  warnings.warn(\n",
      "/home/krasen/urban_taxonomy/.pixi/envs/default/lib/python3.12/site-packages/sklearn/preprocessing/_data.py:2785: UserWarning: n_quantiles (1000) is greater than the total number of samples (293). n_quantiles is set to n_samples.\n",
      "  warnings.warn(\n",
      "/home/krasen/urban_taxonomy/.pixi/envs/default/lib/python3.12/site-packages/sklearn/preprocessing/_data.py:2785: UserWarning: n_quantiles (1000) is greater than the total number of samples (426). n_quantiles is set to n_samples.\n",
      "  warnings.warn(\n"
     ]
    },
    {
     "name": "stdout",
     "output_type": "stream",
     "text": [
      "processing 77205\n",
      "processing 77846\n",
      "processing 78792\n",
      "processing 78820\n",
      "processing 78938\n"
     ]
    },
    {
     "name": "stderr",
     "output_type": "stream",
     "text": [
      "/home/krasen/urban_taxonomy/.pixi/envs/default/lib/python3.12/site-packages/sklearn/preprocessing/_data.py:2785: UserWarning: n_quantiles (1000) is greater than the total number of samples (554). n_quantiles is set to n_samples.\n",
      "  warnings.warn(\n",
      "/home/krasen/urban_taxonomy/.pixi/envs/default/lib/python3.12/site-packages/sklearn/preprocessing/_data.py:2785: UserWarning: n_quantiles (1000) is greater than the total number of samples (518). n_quantiles is set to n_samples.\n",
      "  warnings.warn(\n",
      "/home/krasen/urban_taxonomy/.pixi/envs/default/lib/python3.12/site-packages/sklearn/preprocessing/_data.py:2785: UserWarning: n_quantiles (1000) is greater than the total number of samples (547). n_quantiles is set to n_samples.\n",
      "  warnings.warn(\n",
      "/home/krasen/urban_taxonomy/.pixi/envs/default/lib/python3.12/site-packages/sklearn/preprocessing/_data.py:2785: UserWarning: n_quantiles (1000) is greater than the total number of samples (196). n_quantiles is set to n_samples.\n",
      "  warnings.warn(\n",
      "/home/krasen/urban_taxonomy/.pixi/envs/default/lib/python3.12/site-packages/sklearn/preprocessing/_data.py:2785: UserWarning: n_quantiles (1000) is greater than the total number of samples (878). n_quantiles is set to n_samples.\n",
      "  warnings.warn(\n"
     ]
    },
    {
     "name": "stdout",
     "output_type": "stream",
     "text": [
      "processing 79988\n",
      "processing 80313\n",
      "processing 80404\n"
     ]
    },
    {
     "name": "stderr",
     "output_type": "stream",
     "text": [
      "/home/krasen/urban_taxonomy/.pixi/envs/default/lib/python3.12/site-packages/sklearn/preprocessing/_data.py:2785: UserWarning: n_quantiles (1000) is greater than the total number of samples (294). n_quantiles is set to n_samples.\n",
      "  warnings.warn(\n",
      "/home/krasen/urban_taxonomy/.pixi/envs/default/lib/python3.12/site-packages/sklearn/preprocessing/_data.py:2785: UserWarning: n_quantiles (1000) is greater than the total number of samples (311). n_quantiles is set to n_samples.\n",
      "  warnings.warn(\n"
     ]
    },
    {
     "name": "stdout",
     "output_type": "stream",
     "text": [
      "processing 82064\n",
      "processing 82514\n",
      "processing 82773\n",
      "processing 83538\n"
     ]
    },
    {
     "name": "stderr",
     "output_type": "stream",
     "text": [
      "/home/krasen/urban_taxonomy/.pixi/envs/default/lib/python3.12/site-packages/sklearn/preprocessing/_data.py:2785: UserWarning: n_quantiles (1000) is greater than the total number of samples (361). n_quantiles is set to n_samples.\n",
      "  warnings.warn(\n",
      "/home/krasen/urban_taxonomy/.pixi/envs/default/lib/python3.12/site-packages/sklearn/preprocessing/_data.py:2785: UserWarning: n_quantiles (1000) is greater than the total number of samples (899). n_quantiles is set to n_samples.\n",
      "  warnings.warn(\n",
      "/home/krasen/urban_taxonomy/.pixi/envs/default/lib/python3.12/site-packages/sklearn/preprocessing/_data.py:2785: UserWarning: n_quantiles (1000) is greater than the total number of samples (217). n_quantiles is set to n_samples.\n",
      "  warnings.warn(\n",
      "/home/krasen/urban_taxonomy/.pixi/envs/default/lib/python3.12/site-packages/sklearn/preprocessing/_data.py:2785: UserWarning: n_quantiles (1000) is greater than the total number of samples (725). n_quantiles is set to n_samples.\n",
      "  warnings.warn(\n"
     ]
    },
    {
     "name": "stdout",
     "output_type": "stream",
     "text": [
      "processing 83542\n",
      "processing 84297\n",
      "processing 84420\n",
      "processing 84554\n",
      "processing 84962\n",
      "processing 85104\n"
     ]
    },
    {
     "name": "stderr",
     "output_type": "stream",
     "text": [
      "/home/krasen/urban_taxonomy/.pixi/envs/default/lib/python3.12/site-packages/sklearn/preprocessing/_data.py:2785: UserWarning: n_quantiles (1000) is greater than the total number of samples (166). n_quantiles is set to n_samples.\n",
      "  warnings.warn(\n",
      "/home/krasen/urban_taxonomy/.pixi/envs/default/lib/python3.12/site-packages/sklearn/preprocessing/_data.py:2785: UserWarning: n_quantiles (1000) is greater than the total number of samples (366). n_quantiles is set to n_samples.\n",
      "  warnings.warn(\n",
      "/home/krasen/urban_taxonomy/.pixi/envs/default/lib/python3.12/site-packages/sklearn/preprocessing/_data.py:2785: UserWarning: n_quantiles (1000) is greater than the total number of samples (105). n_quantiles is set to n_samples.\n",
      "  warnings.warn(\n",
      "/home/krasen/urban_taxonomy/.pixi/envs/default/lib/python3.12/site-packages/sklearn/preprocessing/_data.py:2785: UserWarning: n_quantiles (1000) is greater than the total number of samples (890). n_quantiles is set to n_samples.\n",
      "  warnings.warn(\n",
      "/home/krasen/urban_taxonomy/.pixi/envs/default/lib/python3.12/site-packages/sklearn/preprocessing/_data.py:2785: UserWarning: n_quantiles (1000) is greater than the total number of samples (400). n_quantiles is set to n_samples.\n",
      "  warnings.warn(\n",
      "/home/krasen/urban_taxonomy/.pixi/envs/default/lib/python3.12/site-packages/sklearn/preprocessing/_data.py:2785: UserWarning: n_quantiles (1000) is greater than the total number of samples (493). n_quantiles is set to n_samples.\n",
      "  warnings.warn(\n",
      "/home/krasen/urban_taxonomy/.pixi/envs/default/lib/python3.12/site-packages/sklearn/preprocessing/_data.py:2785: UserWarning: n_quantiles (1000) is greater than the total number of samples (373). n_quantiles is set to n_samples.\n",
      "  warnings.warn(\n",
      "/home/krasen/urban_taxonomy/.pixi/envs/default/lib/python3.12/site-packages/sklearn/preprocessing/_data.py:2785: UserWarning: n_quantiles (1000) is greater than the total number of samples (809). n_quantiles is set to n_samples.\n",
      "  warnings.warn(\n",
      "/home/krasen/urban_taxonomy/.pixi/envs/default/lib/python3.12/site-packages/sklearn/preprocessing/_data.py:2785: UserWarning: n_quantiles (1000) is greater than the total number of samples (342). n_quantiles is set to n_samples.\n",
      "  warnings.warn(\n",
      "/home/krasen/urban_taxonomy/.pixi/envs/default/lib/python3.12/site-packages/sklearn/preprocessing/_data.py:2785: UserWarning: n_quantiles (1000) is greater than the total number of samples (451). n_quantiles is set to n_samples.\n",
      "  warnings.warn(\n"
     ]
    },
    {
     "name": "stdout",
     "output_type": "stream",
     "text": [
      "processing 85156\n",
      "processing 85262\n",
      "processing 86502\n",
      "processing 86568\n",
      "processing 86863\n"
     ]
    },
    {
     "name": "stderr",
     "output_type": "stream",
     "text": [
      "/home/krasen/urban_taxonomy/.pixi/envs/default/lib/python3.12/site-packages/sklearn/preprocessing/_data.py:2785: UserWarning: n_quantiles (1000) is greater than the total number of samples (734). n_quantiles is set to n_samples.\n",
      "  warnings.warn(\n"
     ]
    },
    {
     "name": "stdout",
     "output_type": "stream",
     "text": [
      "processing 86873\n",
      "processing 87615\n",
      "processing 87947\n",
      "processing 88930\n",
      "processing 88950\n"
     ]
    },
    {
     "name": "stderr",
     "output_type": "stream",
     "text": [
      "/home/krasen/urban_taxonomy/.pixi/envs/default/lib/python3.12/site-packages/sklearn/preprocessing/_data.py:2785: UserWarning: n_quantiles (1000) is greater than the total number of samples (846). n_quantiles is set to n_samples.\n",
      "  warnings.warn(\n",
      "/home/krasen/urban_taxonomy/.pixi/envs/default/lib/python3.12/site-packages/sklearn/preprocessing/_data.py:2785: UserWarning: n_quantiles (1000) is greater than the total number of samples (367). n_quantiles is set to n_samples.\n",
      "  warnings.warn(\n",
      "/home/krasen/urban_taxonomy/.pixi/envs/default/lib/python3.12/site-packages/sklearn/preprocessing/_data.py:2785: UserWarning: n_quantiles (1000) is greater than the total number of samples (717). n_quantiles is set to n_samples.\n",
      "  warnings.warn(\n",
      "/home/krasen/urban_taxonomy/.pixi/envs/default/lib/python3.12/site-packages/sklearn/preprocessing/_data.py:2785: UserWarning: n_quantiles (1000) is greater than the total number of samples (343). n_quantiles is set to n_samples.\n",
      "  warnings.warn(\n"
     ]
    },
    {
     "name": "stdout",
     "output_type": "stream",
     "text": [
      "processing 89122\n",
      "processing 89586\n",
      "processing 89921\n",
      "processing 89971\n",
      "processing 90075\n"
     ]
    },
    {
     "name": "stderr",
     "output_type": "stream",
     "text": [
      "/home/krasen/urban_taxonomy/.pixi/envs/default/lib/python3.12/site-packages/sklearn/preprocessing/_data.py:2785: UserWarning: n_quantiles (1000) is greater than the total number of samples (197). n_quantiles is set to n_samples.\n",
      "  warnings.warn(\n",
      "/home/krasen/urban_taxonomy/.pixi/envs/default/lib/python3.12/site-packages/sklearn/preprocessing/_data.py:2785: UserWarning: n_quantiles (1000) is greater than the total number of samples (321). n_quantiles is set to n_samples.\n",
      "  warnings.warn(\n",
      "/home/krasen/urban_taxonomy/.pixi/envs/default/lib/python3.12/site-packages/sklearn/preprocessing/_data.py:2785: UserWarning: n_quantiles (1000) is greater than the total number of samples (194). n_quantiles is set to n_samples.\n",
      "  warnings.warn(\n",
      "/home/krasen/urban_taxonomy/.pixi/envs/default/lib/python3.12/site-packages/sklearn/preprocessing/_data.py:2785: UserWarning: n_quantiles (1000) is greater than the total number of samples (721). n_quantiles is set to n_samples.\n",
      "  warnings.warn(\n"
     ]
    },
    {
     "name": "stdout",
     "output_type": "stream",
     "text": [
      "processing 90196\n",
      "processing 90770\n"
     ]
    },
    {
     "name": "stderr",
     "output_type": "stream",
     "text": [
      "/home/krasen/urban_taxonomy/.pixi/envs/default/lib/python3.12/site-packages/sklearn/preprocessing/_data.py:2785: UserWarning: n_quantiles (1000) is greater than the total number of samples (440). n_quantiles is set to n_samples.\n",
      "  warnings.warn(\n"
     ]
    },
    {
     "name": "stdout",
     "output_type": "stream",
     "text": [
      "processing 91011\n",
      "processing 91479\n",
      "processing 91702\n",
      "processing 92178\n",
      "processing 93167\n"
     ]
    },
    {
     "name": "stderr",
     "output_type": "stream",
     "text": [
      "/home/krasen/urban_taxonomy/.pixi/envs/default/lib/python3.12/site-packages/sklearn/preprocessing/_data.py:2785: UserWarning: n_quantiles (1000) is greater than the total number of samples (578). n_quantiles is set to n_samples.\n",
      "  warnings.warn(\n",
      "/home/krasen/urban_taxonomy/.pixi/envs/default/lib/python3.12/site-packages/sklearn/preprocessing/_data.py:2785: UserWarning: n_quantiles (1000) is greater than the total number of samples (481). n_quantiles is set to n_samples.\n",
      "  warnings.warn(\n",
      "/home/krasen/urban_taxonomy/.pixi/envs/default/lib/python3.12/site-packages/sklearn/preprocessing/_data.py:2785: UserWarning: n_quantiles (1000) is greater than the total number of samples (440). n_quantiles is set to n_samples.\n",
      "  warnings.warn(\n",
      "/home/krasen/urban_taxonomy/.pixi/envs/default/lib/python3.12/site-packages/sklearn/preprocessing/_data.py:2785: UserWarning: n_quantiles (1000) is greater than the total number of samples (332). n_quantiles is set to n_samples.\n",
      "  warnings.warn(\n"
     ]
    },
    {
     "name": "stdout",
     "output_type": "stream",
     "text": [
      "processing 93504\n",
      "processing 93793\n"
     ]
    },
    {
     "name": "stderr",
     "output_type": "stream",
     "text": [
      "/home/krasen/urban_taxonomy/.pixi/envs/default/lib/python3.12/site-packages/sklearn/preprocessing/_data.py:2785: UserWarning: n_quantiles (1000) is greater than the total number of samples (630). n_quantiles is set to n_samples.\n",
      "  warnings.warn(\n"
     ]
    },
    {
     "name": "stdout",
     "output_type": "stream",
     "text": [
      "processing 95256\n",
      "processing 96465\n",
      "processing 96727\n",
      "processing 96895\n",
      "processing 97745\n"
     ]
    },
    {
     "name": "stderr",
     "output_type": "stream",
     "text": [
      "/home/krasen/urban_taxonomy/.pixi/envs/default/lib/python3.12/site-packages/sklearn/preprocessing/_data.py:2785: UserWarning: n_quantiles (1000) is greater than the total number of samples (326). n_quantiles is set to n_samples.\n",
      "  warnings.warn(\n",
      "/home/krasen/urban_taxonomy/.pixi/envs/default/lib/python3.12/site-packages/sklearn/preprocessing/_data.py:2785: UserWarning: n_quantiles (1000) is greater than the total number of samples (703). n_quantiles is set to n_samples.\n",
      "  warnings.warn(\n",
      "/home/krasen/urban_taxonomy/.pixi/envs/default/lib/python3.12/site-packages/sklearn/preprocessing/_data.py:2785: UserWarning: n_quantiles (1000) is greater than the total number of samples (300). n_quantiles is set to n_samples.\n",
      "  warnings.warn(\n",
      "/home/krasen/urban_taxonomy/.pixi/envs/default/lib/python3.12/site-packages/sklearn/preprocessing/_data.py:2785: UserWarning: n_quantiles (1000) is greater than the total number of samples (426). n_quantiles is set to n_samples.\n",
      "  warnings.warn(\n"
     ]
    },
    {
     "name": "stdout",
     "output_type": "stream",
     "text": [
      "processing 97978\n",
      "processing 98107\n",
      "processing 98628\n",
      "processing 98660\n",
      "processing 98716\n"
     ]
    },
    {
     "name": "stderr",
     "output_type": "stream",
     "text": [
      "/home/krasen/urban_taxonomy/.pixi/envs/default/lib/python3.12/site-packages/sklearn/preprocessing/_data.py:2785: UserWarning: n_quantiles (1000) is greater than the total number of samples (471). n_quantiles is set to n_samples.\n",
      "  warnings.warn(\n",
      "/home/krasen/urban_taxonomy/.pixi/envs/default/lib/python3.12/site-packages/sklearn/preprocessing/_data.py:2785: UserWarning: n_quantiles (1000) is greater than the total number of samples (566). n_quantiles is set to n_samples.\n",
      "  warnings.warn(\n",
      "/home/krasen/urban_taxonomy/.pixi/envs/default/lib/python3.12/site-packages/sklearn/preprocessing/_data.py:2785: UserWarning: n_quantiles (1000) is greater than the total number of samples (477). n_quantiles is set to n_samples.\n",
      "  warnings.warn(\n",
      "/home/krasen/urban_taxonomy/.pixi/envs/default/lib/python3.12/site-packages/sklearn/preprocessing/_data.py:2785: UserWarning: n_quantiles (1000) is greater than the total number of samples (409). n_quantiles is set to n_samples.\n",
      "  warnings.warn(\n",
      "/home/krasen/urban_taxonomy/.pixi/envs/default/lib/python3.12/site-packages/sklearn/preprocessing/_data.py:2785: UserWarning: n_quantiles (1000) is greater than the total number of samples (463). n_quantiles is set to n_samples.\n",
      "  warnings.warn(\n"
     ]
    },
    {
     "name": "stdout",
     "output_type": "stream",
     "text": [
      "processing 98958\n",
      "processing 99661\n",
      "processing 99865\n",
      "processing 99886\n"
     ]
    },
    {
     "name": "stderr",
     "output_type": "stream",
     "text": [
      "/home/krasen/urban_taxonomy/.pixi/envs/default/lib/python3.12/site-packages/sklearn/preprocessing/_data.py:2785: UserWarning: n_quantiles (1000) is greater than the total number of samples (194). n_quantiles is set to n_samples.\n",
      "  warnings.warn(\n",
      "/home/krasen/urban_taxonomy/.pixi/envs/default/lib/python3.12/site-packages/sklearn/preprocessing/_data.py:2785: UserWarning: n_quantiles (1000) is greater than the total number of samples (474). n_quantiles is set to n_samples.\n",
      "  warnings.warn(\n",
      "/home/krasen/urban_taxonomy/.pixi/envs/default/lib/python3.12/site-packages/sklearn/preprocessing/_data.py:2785: UserWarning: n_quantiles (1000) is greater than the total number of samples (952). n_quantiles is set to n_samples.\n",
      "  warnings.warn(\n"
     ]
    },
    {
     "name": "stdout",
     "output_type": "stream",
     "text": [
      "processing 100210\n",
      "processing 100342\n",
      "processing 100348\n",
      "processing 101313\n"
     ]
    },
    {
     "name": "stderr",
     "output_type": "stream",
     "text": [
      "/home/krasen/urban_taxonomy/.pixi/envs/default/lib/python3.12/site-packages/sklearn/preprocessing/_data.py:2785: UserWarning: n_quantiles (1000) is greater than the total number of samples (454). n_quantiles is set to n_samples.\n",
      "  warnings.warn(\n",
      "/home/krasen/urban_taxonomy/.pixi/envs/default/lib/python3.12/site-packages/sklearn/preprocessing/_data.py:2785: UserWarning: n_quantiles (1000) is greater than the total number of samples (168). n_quantiles is set to n_samples.\n",
      "  warnings.warn(\n",
      "/home/krasen/urban_taxonomy/.pixi/envs/default/lib/python3.12/site-packages/sklearn/preprocessing/_data.py:2785: UserWarning: n_quantiles (1000) is greater than the total number of samples (171). n_quantiles is set to n_samples.\n",
      "  warnings.warn(\n"
     ]
    },
    {
     "name": "stdout",
     "output_type": "stream",
     "text": [
      "processing 101429\n",
      "processing 101574\n",
      "processing 101992\n",
      "processing 102031\n",
      "processing 102127\n",
      "processing 102262\n"
     ]
    },
    {
     "name": "stderr",
     "output_type": "stream",
     "text": [
      "/home/krasen/urban_taxonomy/.pixi/envs/default/lib/python3.12/site-packages/sklearn/preprocessing/_data.py:2785: UserWarning: n_quantiles (1000) is greater than the total number of samples (387). n_quantiles is set to n_samples.\n",
      "  warnings.warn(\n",
      "/home/krasen/urban_taxonomy/.pixi/envs/default/lib/python3.12/site-packages/sklearn/preprocessing/_data.py:2785: UserWarning: n_quantiles (1000) is greater than the total number of samples (320). n_quantiles is set to n_samples.\n",
      "  warnings.warn(\n",
      "/home/krasen/urban_taxonomy/.pixi/envs/default/lib/python3.12/site-packages/sklearn/preprocessing/_data.py:2785: UserWarning: n_quantiles (1000) is greater than the total number of samples (278). n_quantiles is set to n_samples.\n",
      "  warnings.warn(\n",
      "/home/krasen/urban_taxonomy/.pixi/envs/default/lib/python3.12/site-packages/sklearn/preprocessing/_data.py:2785: UserWarning: n_quantiles (1000) is greater than the total number of samples (166). n_quantiles is set to n_samples.\n",
      "  warnings.warn(\n",
      "/home/krasen/urban_taxonomy/.pixi/envs/default/lib/python3.12/site-packages/sklearn/preprocessing/_data.py:2785: UserWarning: n_quantiles (1000) is greater than the total number of samples (307). n_quantiles is set to n_samples.\n",
      "  warnings.warn(\n"
     ]
    },
    {
     "name": "stdout",
     "output_type": "stream",
     "text": [
      "processing 102474\n",
      "processing 102679\n",
      "processing 102801\n",
      "processing 102814\n",
      "processing 102939\n",
      "processing 103039\n"
     ]
    },
    {
     "name": "stderr",
     "output_type": "stream",
     "text": [
      "/home/krasen/urban_taxonomy/.pixi/envs/default/lib/python3.12/site-packages/sklearn/preprocessing/_data.py:2785: UserWarning: n_quantiles (1000) is greater than the total number of samples (346). n_quantiles is set to n_samples.\n",
      "  warnings.warn(\n",
      "/home/krasen/urban_taxonomy/.pixi/envs/default/lib/python3.12/site-packages/sklearn/preprocessing/_data.py:2785: UserWarning: n_quantiles (1000) is greater than the total number of samples (200). n_quantiles is set to n_samples.\n",
      "  warnings.warn(\n",
      "/home/krasen/urban_taxonomy/.pixi/envs/default/lib/python3.12/site-packages/sklearn/preprocessing/_data.py:2785: UserWarning: n_quantiles (1000) is greater than the total number of samples (387). n_quantiles is set to n_samples.\n",
      "  warnings.warn(\n",
      "/home/krasen/urban_taxonomy/.pixi/envs/default/lib/python3.12/site-packages/sklearn/preprocessing/_data.py:2785: UserWarning: n_quantiles (1000) is greater than the total number of samples (768). n_quantiles is set to n_samples.\n",
      "  warnings.warn(\n",
      "/home/krasen/urban_taxonomy/.pixi/envs/default/lib/python3.12/site-packages/sklearn/preprocessing/_data.py:2785: UserWarning: n_quantiles (1000) is greater than the total number of samples (263). n_quantiles is set to n_samples.\n",
      "  warnings.warn(\n",
      "/home/krasen/urban_taxonomy/.pixi/envs/default/lib/python3.12/site-packages/sklearn/preprocessing/_data.py:2785: UserWarning: n_quantiles (1000) is greater than the total number of samples (354). n_quantiles is set to n_samples.\n",
      "  warnings.warn(\n"
     ]
    },
    {
     "name": "stdout",
     "output_type": "stream",
     "text": [
      "processing 103283\n",
      "processing 103305\n",
      "processing 103561\n",
      "processing 103713\n",
      "processing 103852\n"
     ]
    },
    {
     "name": "stderr",
     "output_type": "stream",
     "text": [
      "/home/krasen/urban_taxonomy/.pixi/envs/default/lib/python3.12/site-packages/sklearn/preprocessing/_data.py:2785: UserWarning: n_quantiles (1000) is greater than the total number of samples (287). n_quantiles is set to n_samples.\n",
      "  warnings.warn(\n",
      "/home/krasen/urban_taxonomy/.pixi/envs/default/lib/python3.12/site-packages/sklearn/preprocessing/_data.py:2785: UserWarning: n_quantiles (1000) is greater than the total number of samples (127). n_quantiles is set to n_samples.\n",
      "  warnings.warn(\n",
      "/home/krasen/urban_taxonomy/.pixi/envs/default/lib/python3.12/site-packages/sklearn/preprocessing/_data.py:2785: UserWarning: n_quantiles (1000) is greater than the total number of samples (328). n_quantiles is set to n_samples.\n",
      "  warnings.warn(\n",
      "/home/krasen/urban_taxonomy/.pixi/envs/default/lib/python3.12/site-packages/sklearn/preprocessing/_data.py:2785: UserWarning: n_quantiles (1000) is greater than the total number of samples (373). n_quantiles is set to n_samples.\n",
      "  warnings.warn(\n",
      "/home/krasen/urban_taxonomy/.pixi/envs/default/lib/python3.12/site-packages/sklearn/preprocessing/_data.py:2785: UserWarning: n_quantiles (1000) is greater than the total number of samples (347). n_quantiles is set to n_samples.\n",
      "  warnings.warn(\n",
      "/home/krasen/urban_taxonomy/.pixi/envs/default/lib/python3.12/site-packages/sklearn/preprocessing/_data.py:2785: UserWarning: n_quantiles (1000) is greater than the total number of samples (368). n_quantiles is set to n_samples.\n",
      "  warnings.warn(\n",
      "/home/krasen/urban_taxonomy/.pixi/envs/default/lib/python3.12/site-packages/sklearn/preprocessing/_data.py:2785: UserWarning: n_quantiles (1000) is greater than the total number of samples (460). n_quantiles is set to n_samples.\n",
      "  warnings.warn(\n",
      "/home/krasen/urban_taxonomy/.pixi/envs/default/lib/python3.12/site-packages/sklearn/preprocessing/_data.py:2785: UserWarning: n_quantiles (1000) is greater than the total number of samples (218). n_quantiles is set to n_samples.\n",
      "  warnings.warn(\n",
      "/home/krasen/urban_taxonomy/.pixi/envs/default/lib/python3.12/site-packages/sklearn/preprocessing/_data.py:2785: UserWarning: n_quantiles (1000) is greater than the total number of samples (666). n_quantiles is set to n_samples.\n",
      "  warnings.warn(\n"
     ]
    },
    {
     "name": "stdout",
     "output_type": "stream",
     "text": [
      "processing 103882\n",
      "processing 103928\n",
      "processing 104018\n",
      "processing 104066\n",
      "processing 104568\n",
      "processing 105038\n",
      "processing 105090\n",
      "processing 105385\n"
     ]
    },
    {
     "name": "stderr",
     "output_type": "stream",
     "text": [
      "/home/krasen/urban_taxonomy/.pixi/envs/default/lib/python3.12/site-packages/sklearn/preprocessing/_data.py:2785: UserWarning: n_quantiles (1000) is greater than the total number of samples (270). n_quantiles is set to n_samples.\n",
      "  warnings.warn(\n",
      "/home/krasen/urban_taxonomy/.pixi/envs/default/lib/python3.12/site-packages/sklearn/preprocessing/_data.py:2785: UserWarning: n_quantiles (1000) is greater than the total number of samples (301). n_quantiles is set to n_samples.\n",
      "  warnings.warn(\n"
     ]
    },
    {
     "name": "stdout",
     "output_type": "stream",
     "text": [
      "processing 105388\n",
      "processing 105426\n",
      "processing 105457\n",
      "processing 105589\n",
      "processing 106034\n"
     ]
    },
    {
     "name": "stderr",
     "output_type": "stream",
     "text": [
      "/home/krasen/urban_taxonomy/.pixi/envs/default/lib/python3.12/site-packages/sklearn/preprocessing/_data.py:2785: UserWarning: n_quantiles (1000) is greater than the total number of samples (499). n_quantiles is set to n_samples.\n",
      "  warnings.warn(\n",
      "/home/krasen/urban_taxonomy/.pixi/envs/default/lib/python3.12/site-packages/sklearn/preprocessing/_data.py:2785: UserWarning: n_quantiles (1000) is greater than the total number of samples (718). n_quantiles is set to n_samples.\n",
      "  warnings.warn(\n",
      "/home/krasen/urban_taxonomy/.pixi/envs/default/lib/python3.12/site-packages/sklearn/preprocessing/_data.py:2785: UserWarning: n_quantiles (1000) is greater than the total number of samples (319). n_quantiles is set to n_samples.\n",
      "  warnings.warn(\n",
      "/home/krasen/urban_taxonomy/.pixi/envs/default/lib/python3.12/site-packages/sklearn/preprocessing/_data.py:2785: UserWarning: n_quantiles (1000) is greater than the total number of samples (252). n_quantiles is set to n_samples.\n",
      "  warnings.warn(\n",
      "/home/krasen/urban_taxonomy/.pixi/envs/default/lib/python3.12/site-packages/sklearn/preprocessing/_data.py:2785: UserWarning: n_quantiles (1000) is greater than the total number of samples (235). n_quantiles is set to n_samples.\n",
      "  warnings.warn(\n",
      "/home/krasen/urban_taxonomy/.pixi/envs/default/lib/python3.12/site-packages/sklearn/preprocessing/_data.py:2785: UserWarning: n_quantiles (1000) is greater than the total number of samples (360). n_quantiles is set to n_samples.\n",
      "  warnings.warn(\n"
     ]
    },
    {
     "name": "stdout",
     "output_type": "stream",
     "text": [
      "processing 106124\n",
      "processing 106363\n",
      "processing 106370\n",
      "processing 106384\n",
      "processing 106559\n",
      "processing 107131\n"
     ]
    },
    {
     "name": "stderr",
     "output_type": "stream",
     "text": [
      "/home/krasen/urban_taxonomy/.pixi/envs/default/lib/python3.12/site-packages/sklearn/preprocessing/_data.py:2785: UserWarning: n_quantiles (1000) is greater than the total number of samples (160). n_quantiles is set to n_samples.\n",
      "  warnings.warn(\n",
      "/home/krasen/urban_taxonomy/.pixi/envs/default/lib/python3.12/site-packages/sklearn/preprocessing/_data.py:2785: UserWarning: n_quantiles (1000) is greater than the total number of samples (289). n_quantiles is set to n_samples.\n",
      "  warnings.warn(\n",
      "/home/krasen/urban_taxonomy/.pixi/envs/default/lib/python3.12/site-packages/sklearn/preprocessing/_data.py:2785: UserWarning: n_quantiles (1000) is greater than the total number of samples (376). n_quantiles is set to n_samples.\n",
      "  warnings.warn(\n",
      "/home/krasen/urban_taxonomy/.pixi/envs/default/lib/python3.12/site-packages/sklearn/preprocessing/_data.py:2785: UserWarning: n_quantiles (1000) is greater than the total number of samples (536). n_quantiles is set to n_samples.\n",
      "  warnings.warn(\n"
     ]
    },
    {
     "name": "stdout",
     "output_type": "stream",
     "text": [
      "processing 107442\n",
      "processing 108050\n",
      "processing 108101\n",
      "processing 108127\n",
      "processing 108129\n"
     ]
    },
    {
     "name": "stderr",
     "output_type": "stream",
     "text": [
      "/home/krasen/urban_taxonomy/.pixi/envs/default/lib/python3.12/site-packages/sklearn/preprocessing/_data.py:2785: UserWarning: n_quantiles (1000) is greater than the total number of samples (771). n_quantiles is set to n_samples.\n",
      "  warnings.warn(\n",
      "/home/krasen/urban_taxonomy/.pixi/envs/default/lib/python3.12/site-packages/sklearn/preprocessing/_data.py:2785: UserWarning: n_quantiles (1000) is greater than the total number of samples (94). n_quantiles is set to n_samples.\n",
      "  warnings.warn(\n",
      "/home/krasen/urban_taxonomy/.pixi/envs/default/lib/python3.12/site-packages/sklearn/preprocessing/_data.py:2785: UserWarning: n_quantiles (1000) is greater than the total number of samples (199). n_quantiles is set to n_samples.\n",
      "  warnings.warn(\n",
      "/home/krasen/urban_taxonomy/.pixi/envs/default/lib/python3.12/site-packages/sklearn/preprocessing/_data.py:2785: UserWarning: n_quantiles (1000) is greater than the total number of samples (787). n_quantiles is set to n_samples.\n",
      "  warnings.warn(\n",
      "/home/krasen/urban_taxonomy/.pixi/envs/default/lib/python3.12/site-packages/sklearn/preprocessing/_data.py:2785: UserWarning: n_quantiles (1000) is greater than the total number of samples (310). n_quantiles is set to n_samples.\n",
      "  warnings.warn(\n"
     ]
    },
    {
     "name": "stdout",
     "output_type": "stream",
     "text": [
      "processing 108263\n",
      "processing 108748\n",
      "processing 108755\n",
      "processing 108884\n"
     ]
    },
    {
     "name": "stderr",
     "output_type": "stream",
     "text": [
      "/home/krasen/urban_taxonomy/.pixi/envs/default/lib/python3.12/site-packages/sklearn/preprocessing/_data.py:2785: UserWarning: n_quantiles (1000) is greater than the total number of samples (403). n_quantiles is set to n_samples.\n",
      "  warnings.warn(\n",
      "/home/krasen/urban_taxonomy/.pixi/envs/default/lib/python3.12/site-packages/sklearn/preprocessing/_data.py:2785: UserWarning: n_quantiles (1000) is greater than the total number of samples (547). n_quantiles is set to n_samples.\n",
      "  warnings.warn(\n",
      "/home/krasen/urban_taxonomy/.pixi/envs/default/lib/python3.12/site-packages/sklearn/preprocessing/_data.py:2785: UserWarning: n_quantiles (1000) is greater than the total number of samples (380). n_quantiles is set to n_samples.\n",
      "  warnings.warn(\n"
     ]
    },
    {
     "name": "stdout",
     "output_type": "stream",
     "text": [
      "processing 109404\n",
      "processing 109488\n",
      "processing 109491\n"
     ]
    },
    {
     "name": "stderr",
     "output_type": "stream",
     "text": [
      "/home/krasen/urban_taxonomy/.pixi/envs/default/lib/python3.12/site-packages/sklearn/preprocessing/_data.py:2785: UserWarning: n_quantiles (1000) is greater than the total number of samples (966). n_quantiles is set to n_samples.\n",
      "  warnings.warn(\n",
      "/home/krasen/urban_taxonomy/.pixi/envs/default/lib/python3.12/site-packages/sklearn/preprocessing/_data.py:2785: UserWarning: n_quantiles (1000) is greater than the total number of samples (371). n_quantiles is set to n_samples.\n",
      "  warnings.warn(\n"
     ]
    },
    {
     "name": "stdout",
     "output_type": "stream",
     "text": [
      "processing 109636\n",
      "processing 109727\n",
      "processing 109756\n",
      "processing 110016\n",
      "processing 110179\n",
      "processing 110237\n",
      "processing 110657\n"
     ]
    },
    {
     "name": "stderr",
     "output_type": "stream",
     "text": [
      "/home/krasen/urban_taxonomy/.pixi/envs/default/lib/python3.12/site-packages/sklearn/preprocessing/_data.py:2785: UserWarning: n_quantiles (1000) is greater than the total number of samples (124). n_quantiles is set to n_samples.\n",
      "  warnings.warn(\n",
      "/home/krasen/urban_taxonomy/.pixi/envs/default/lib/python3.12/site-packages/sklearn/preprocessing/_data.py:2785: UserWarning: n_quantiles (1000) is greater than the total number of samples (277). n_quantiles is set to n_samples.\n",
      "  warnings.warn(\n",
      "/home/krasen/urban_taxonomy/.pixi/envs/default/lib/python3.12/site-packages/sklearn/preprocessing/_data.py:2785: UserWarning: n_quantiles (1000) is greater than the total number of samples (113). n_quantiles is set to n_samples.\n",
      "  warnings.warn(\n",
      "/home/krasen/urban_taxonomy/.pixi/envs/default/lib/python3.12/site-packages/sklearn/preprocessing/_data.py:2785: UserWarning: n_quantiles (1000) is greater than the total number of samples (452). n_quantiles is set to n_samples.\n",
      "  warnings.warn(\n",
      "/home/krasen/urban_taxonomy/.pixi/envs/default/lib/python3.12/site-packages/sklearn/preprocessing/_data.py:2785: UserWarning: n_quantiles (1000) is greater than the total number of samples (290). n_quantiles is set to n_samples.\n",
      "  warnings.warn(\n",
      "/home/krasen/urban_taxonomy/.pixi/envs/default/lib/python3.12/site-packages/sklearn/preprocessing/_data.py:2785: UserWarning: n_quantiles (1000) is greater than the total number of samples (387). n_quantiles is set to n_samples.\n",
      "  warnings.warn(\n",
      "/home/krasen/urban_taxonomy/.pixi/envs/default/lib/python3.12/site-packages/sklearn/preprocessing/_data.py:2785: UserWarning: n_quantiles (1000) is greater than the total number of samples (304). n_quantiles is set to n_samples.\n",
      "  warnings.warn(\n"
     ]
    },
    {
     "name": "stdout",
     "output_type": "stream",
     "text": [
      "processing 110691\n",
      "processing 110906\n",
      "processing 110908\n",
      "processing 111555\n"
     ]
    },
    {
     "name": "stderr",
     "output_type": "stream",
     "text": [
      "/home/krasen/urban_taxonomy/.pixi/envs/default/lib/python3.12/site-packages/sklearn/preprocessing/_data.py:2785: UserWarning: n_quantiles (1000) is greater than the total number of samples (381). n_quantiles is set to n_samples.\n",
      "  warnings.warn(\n",
      "/home/krasen/urban_taxonomy/.pixi/envs/default/lib/python3.12/site-packages/sklearn/preprocessing/_data.py:2785: UserWarning: n_quantiles (1000) is greater than the total number of samples (183). n_quantiles is set to n_samples.\n",
      "  warnings.warn(\n",
      "/home/krasen/urban_taxonomy/.pixi/envs/default/lib/python3.12/site-packages/sklearn/preprocessing/_data.py:2785: UserWarning: n_quantiles (1000) is greater than the total number of samples (515). n_quantiles is set to n_samples.\n",
      "  warnings.warn(\n"
     ]
    },
    {
     "name": "stdout",
     "output_type": "stream",
     "text": [
      "processing 111689\n",
      "processing 111911\n",
      "processing 112253\n",
      "processing 112437\n",
      "processing 112696\n"
     ]
    },
    {
     "name": "stderr",
     "output_type": "stream",
     "text": [
      "/home/krasen/urban_taxonomy/.pixi/envs/default/lib/python3.12/site-packages/sklearn/preprocessing/_data.py:2785: UserWarning: n_quantiles (1000) is greater than the total number of samples (558). n_quantiles is set to n_samples.\n",
      "  warnings.warn(\n",
      "/home/krasen/urban_taxonomy/.pixi/envs/default/lib/python3.12/site-packages/sklearn/preprocessing/_data.py:2785: UserWarning: n_quantiles (1000) is greater than the total number of samples (128). n_quantiles is set to n_samples.\n",
      "  warnings.warn(\n",
      "/home/krasen/urban_taxonomy/.pixi/envs/default/lib/python3.12/site-packages/sklearn/preprocessing/_data.py:2785: UserWarning: n_quantiles (1000) is greater than the total number of samples (219). n_quantiles is set to n_samples.\n",
      "  warnings.warn(\n",
      "/home/krasen/urban_taxonomy/.pixi/envs/default/lib/python3.12/site-packages/sklearn/preprocessing/_data.py:2785: UserWarning: n_quantiles (1000) is greater than the total number of samples (801). n_quantiles is set to n_samples.\n",
      "  warnings.warn(\n",
      "/home/krasen/urban_taxonomy/.pixi/envs/default/lib/python3.12/site-packages/sklearn/preprocessing/_data.py:2785: UserWarning: n_quantiles (1000) is greater than the total number of samples (326). n_quantiles is set to n_samples.\n",
      "  warnings.warn(\n"
     ]
    },
    {
     "name": "stdout",
     "output_type": "stream",
     "text": [
      "processing 112843\n",
      "processing 112949\n",
      "processing 113068\n",
      "processing 113301\n"
     ]
    },
    {
     "name": "stderr",
     "output_type": "stream",
     "text": [
      "/home/krasen/urban_taxonomy/.pixi/envs/default/lib/python3.12/site-packages/sklearn/preprocessing/_data.py:2785: UserWarning: n_quantiles (1000) is greater than the total number of samples (641). n_quantiles is set to n_samples.\n",
      "  warnings.warn(\n",
      "/home/krasen/urban_taxonomy/.pixi/envs/default/lib/python3.12/site-packages/sklearn/preprocessing/_data.py:2785: UserWarning: n_quantiles (1000) is greater than the total number of samples (600). n_quantiles is set to n_samples.\n",
      "  warnings.warn(\n",
      "/home/krasen/urban_taxonomy/.pixi/envs/default/lib/python3.12/site-packages/sklearn/preprocessing/_data.py:2785: UserWarning: n_quantiles (1000) is greater than the total number of samples (682). n_quantiles is set to n_samples.\n",
      "  warnings.warn(\n",
      "/home/krasen/urban_taxonomy/.pixi/envs/default/lib/python3.12/site-packages/sklearn/preprocessing/_data.py:2785: UserWarning: n_quantiles (1000) is greater than the total number of samples (357). n_quantiles is set to n_samples.\n",
      "  warnings.warn(\n"
     ]
    },
    {
     "name": "stdout",
     "output_type": "stream",
     "text": [
      "processing 114014\n",
      "processing 114180\n",
      "processing 114311\n"
     ]
    },
    {
     "name": "stderr",
     "output_type": "stream",
     "text": [
      "/home/krasen/urban_taxonomy/.pixi/envs/default/lib/python3.12/site-packages/sklearn/preprocessing/_data.py:2785: UserWarning: n_quantiles (1000) is greater than the total number of samples (491). n_quantiles is set to n_samples.\n",
      "  warnings.warn(\n",
      "/home/krasen/urban_taxonomy/.pixi/envs/default/lib/python3.12/site-packages/sklearn/preprocessing/_data.py:2785: UserWarning: n_quantiles (1000) is greater than the total number of samples (112). n_quantiles is set to n_samples.\n",
      "  warnings.warn(\n"
     ]
    },
    {
     "name": "stdout",
     "output_type": "stream",
     "text": [
      "processing 114591\n",
      "processing 114680\n",
      "processing 114822\n",
      "processing 115151\n",
      "processing 115595\n",
      "processing 115950\n",
      "processing 116316\n"
     ]
    },
    {
     "name": "stderr",
     "output_type": "stream",
     "text": [
      "/home/krasen/urban_taxonomy/.pixi/envs/default/lib/python3.12/site-packages/sklearn/preprocessing/_data.py:2785: UserWarning: n_quantiles (1000) is greater than the total number of samples (141). n_quantiles is set to n_samples.\n",
      "  warnings.warn(\n",
      "/home/krasen/urban_taxonomy/.pixi/envs/default/lib/python3.12/site-packages/sklearn/preprocessing/_data.py:2785: UserWarning: n_quantiles (1000) is greater than the total number of samples (307). n_quantiles is set to n_samples.\n",
      "  warnings.warn(\n",
      "/home/krasen/urban_taxonomy/.pixi/envs/default/lib/python3.12/site-packages/sklearn/preprocessing/_data.py:2785: UserWarning: n_quantiles (1000) is greater than the total number of samples (434). n_quantiles is set to n_samples.\n",
      "  warnings.warn(\n",
      "/home/krasen/urban_taxonomy/.pixi/envs/default/lib/python3.12/site-packages/sklearn/preprocessing/_data.py:2785: UserWarning: n_quantiles (1000) is greater than the total number of samples (90). n_quantiles is set to n_samples.\n",
      "  warnings.warn(\n",
      "/home/krasen/urban_taxonomy/.pixi/envs/default/lib/python3.12/site-packages/sklearn/preprocessing/_data.py:2785: UserWarning: n_quantiles (1000) is greater than the total number of samples (208). n_quantiles is set to n_samples.\n",
      "  warnings.warn(\n",
      "/home/krasen/urban_taxonomy/.pixi/envs/default/lib/python3.12/site-packages/sklearn/preprocessing/_data.py:2785: UserWarning: n_quantiles (1000) is greater than the total number of samples (426). n_quantiles is set to n_samples.\n",
      "  warnings.warn(\n",
      "/home/krasen/urban_taxonomy/.pixi/envs/default/lib/python3.12/site-packages/sklearn/preprocessing/_data.py:2785: UserWarning: n_quantiles (1000) is greater than the total number of samples (168). n_quantiles is set to n_samples.\n",
      "  warnings.warn(\n",
      "/home/krasen/urban_taxonomy/.pixi/envs/default/lib/python3.12/site-packages/sklearn/preprocessing/_data.py:2785: UserWarning: n_quantiles (1000) is greater than the total number of samples (90). n_quantiles is set to n_samples.\n",
      "  warnings.warn(\n"
     ]
    },
    {
     "name": "stdout",
     "output_type": "stream",
     "text": [
      "processing 116523\n",
      "processing 116801\n",
      "processing 116866\n",
      "processing 117182\n",
      "processing 117638\n"
     ]
    },
    {
     "name": "stderr",
     "output_type": "stream",
     "text": [
      "/home/krasen/urban_taxonomy/.pixi/envs/default/lib/python3.12/site-packages/sklearn/preprocessing/_data.py:2785: UserWarning: n_quantiles (1000) is greater than the total number of samples (312). n_quantiles is set to n_samples.\n",
      "  warnings.warn(\n",
      "/home/krasen/urban_taxonomy/.pixi/envs/default/lib/python3.12/site-packages/sklearn/preprocessing/_data.py:2785: UserWarning: n_quantiles (1000) is greater than the total number of samples (953). n_quantiles is set to n_samples.\n",
      "  warnings.warn(\n",
      "/home/krasen/urban_taxonomy/.pixi/envs/default/lib/python3.12/site-packages/sklearn/preprocessing/_data.py:2785: UserWarning: n_quantiles (1000) is greater than the total number of samples (267). n_quantiles is set to n_samples.\n",
      "  warnings.warn(\n",
      "/home/krasen/urban_taxonomy/.pixi/envs/default/lib/python3.12/site-packages/sklearn/preprocessing/_data.py:2785: UserWarning: n_quantiles (1000) is greater than the total number of samples (408). n_quantiles is set to n_samples.\n",
      "  warnings.warn(\n"
     ]
    },
    {
     "name": "stdout",
     "output_type": "stream",
     "text": [
      "processing 117720\n",
      "processing 118096\n",
      "processing 118747\n",
      "processing 119562\n",
      "processing 119609\n",
      "processing 120057\n"
     ]
    },
    {
     "name": "stderr",
     "output_type": "stream",
     "text": [
      "/home/krasen/urban_taxonomy/.pixi/envs/default/lib/python3.12/site-packages/sklearn/preprocessing/_data.py:2785: UserWarning: n_quantiles (1000) is greater than the total number of samples (431). n_quantiles is set to n_samples.\n",
      "  warnings.warn(\n",
      "/home/krasen/urban_taxonomy/.pixi/envs/default/lib/python3.12/site-packages/sklearn/preprocessing/_data.py:2785: UserWarning: n_quantiles (1000) is greater than the total number of samples (245). n_quantiles is set to n_samples.\n",
      "  warnings.warn(\n",
      "/home/krasen/urban_taxonomy/.pixi/envs/default/lib/python3.12/site-packages/sklearn/preprocessing/_data.py:2785: UserWarning: n_quantiles (1000) is greater than the total number of samples (382). n_quantiles is set to n_samples.\n",
      "  warnings.warn(\n",
      "/home/krasen/urban_taxonomy/.pixi/envs/default/lib/python3.12/site-packages/sklearn/preprocessing/_data.py:2785: UserWarning: n_quantiles (1000) is greater than the total number of samples (360). n_quantiles is set to n_samples.\n",
      "  warnings.warn(\n",
      "/home/krasen/urban_taxonomy/.pixi/envs/default/lib/python3.12/site-packages/sklearn/preprocessing/_data.py:2785: UserWarning: n_quantiles (1000) is greater than the total number of samples (202). n_quantiles is set to n_samples.\n",
      "  warnings.warn(\n",
      "/home/krasen/urban_taxonomy/.pixi/envs/default/lib/python3.12/site-packages/sklearn/preprocessing/_data.py:2785: UserWarning: n_quantiles (1000) is greater than the total number of samples (714). n_quantiles is set to n_samples.\n",
      "  warnings.warn(\n"
     ]
    },
    {
     "name": "stdout",
     "output_type": "stream",
     "text": [
      "processing 120193\n",
      "processing 120545\n",
      "processing 120961\n"
     ]
    },
    {
     "name": "stderr",
     "output_type": "stream",
     "text": [
      "/home/krasen/urban_taxonomy/.pixi/envs/default/lib/python3.12/site-packages/sklearn/preprocessing/_data.py:2785: UserWarning: n_quantiles (1000) is greater than the total number of samples (863). n_quantiles is set to n_samples.\n",
      "  warnings.warn(\n",
      "/home/krasen/urban_taxonomy/.pixi/envs/default/lib/python3.12/site-packages/sklearn/preprocessing/_data.py:2785: UserWarning: n_quantiles (1000) is greater than the total number of samples (431). n_quantiles is set to n_samples.\n",
      "  warnings.warn(\n"
     ]
    },
    {
     "name": "stdout",
     "output_type": "stream",
     "text": [
      "processing 120982\n",
      "processing 121071\n",
      "processing 121143\n",
      "processing 123228\n"
     ]
    },
    {
     "name": "stderr",
     "output_type": "stream",
     "text": [
      "/home/krasen/urban_taxonomy/.pixi/envs/default/lib/python3.12/site-packages/sklearn/preprocessing/_data.py:2785: UserWarning: n_quantiles (1000) is greater than the total number of samples (220). n_quantiles is set to n_samples.\n",
      "  warnings.warn(\n",
      "/home/krasen/urban_taxonomy/.pixi/envs/default/lib/python3.12/site-packages/sklearn/preprocessing/_data.py:2785: UserWarning: n_quantiles (1000) is greater than the total number of samples (132). n_quantiles is set to n_samples.\n",
      "  warnings.warn(\n",
      "/home/krasen/urban_taxonomy/.pixi/envs/default/lib/python3.12/site-packages/sklearn/preprocessing/_data.py:2785: UserWarning: n_quantiles (1000) is greater than the total number of samples (255). n_quantiles is set to n_samples.\n",
      "  warnings.warn(\n"
     ]
    },
    {
     "name": "stdout",
     "output_type": "stream",
     "text": [
      "processing 123690\n",
      "processing 123904\n",
      "processing 123941\n",
      "processing 124160\n"
     ]
    },
    {
     "name": "stderr",
     "output_type": "stream",
     "text": [
      "/home/krasen/urban_taxonomy/.pixi/envs/default/lib/python3.12/site-packages/sklearn/preprocessing/_data.py:2785: UserWarning: n_quantiles (1000) is greater than the total number of samples (547). n_quantiles is set to n_samples.\n",
      "  warnings.warn(\n",
      "/home/krasen/urban_taxonomy/.pixi/envs/default/lib/python3.12/site-packages/sklearn/preprocessing/_data.py:2785: UserWarning: n_quantiles (1000) is greater than the total number of samples (283). n_quantiles is set to n_samples.\n",
      "  warnings.warn(\n",
      "/home/krasen/urban_taxonomy/.pixi/envs/default/lib/python3.12/site-packages/sklearn/preprocessing/_data.py:2785: UserWarning: n_quantiles (1000) is greater than the total number of samples (236). n_quantiles is set to n_samples.\n",
      "  warnings.warn(\n"
     ]
    },
    {
     "name": "stdout",
     "output_type": "stream",
     "text": [
      "processing 124904\n",
      "processing 125016\n",
      "processing 125141\n",
      "processing 125667\n"
     ]
    },
    {
     "name": "stderr",
     "output_type": "stream",
     "text": [
      "/home/krasen/urban_taxonomy/.pixi/envs/default/lib/python3.12/site-packages/sklearn/preprocessing/_data.py:2785: UserWarning: n_quantiles (1000) is greater than the total number of samples (546). n_quantiles is set to n_samples.\n",
      "  warnings.warn(\n",
      "/home/krasen/urban_taxonomy/.pixi/envs/default/lib/python3.12/site-packages/sklearn/preprocessing/_data.py:2785: UserWarning: n_quantiles (1000) is greater than the total number of samples (678). n_quantiles is set to n_samples.\n",
      "  warnings.warn(\n",
      "/home/krasen/urban_taxonomy/.pixi/envs/default/lib/python3.12/site-packages/sklearn/preprocessing/_data.py:2785: UserWarning: n_quantiles (1000) is greater than the total number of samples (846). n_quantiles is set to n_samples.\n",
      "  warnings.warn(\n",
      "/home/krasen/urban_taxonomy/.pixi/envs/default/lib/python3.12/site-packages/sklearn/preprocessing/_data.py:2785: UserWarning: n_quantiles (1000) is greater than the total number of samples (401). n_quantiles is set to n_samples.\n",
      "  warnings.warn(\n"
     ]
    },
    {
     "name": "stdout",
     "output_type": "stream",
     "text": [
      "processing 126588\n",
      "processing 127101\n",
      "processing 127183\n",
      "processing 127626\n",
      "processing 128286\n"
     ]
    },
    {
     "name": "stderr",
     "output_type": "stream",
     "text": [
      "/home/krasen/urban_taxonomy/.pixi/envs/default/lib/python3.12/site-packages/sklearn/preprocessing/_data.py:2785: UserWarning: n_quantiles (1000) is greater than the total number of samples (252). n_quantiles is set to n_samples.\n",
      "  warnings.warn(\n",
      "/home/krasen/urban_taxonomy/.pixi/envs/default/lib/python3.12/site-packages/sklearn/preprocessing/_data.py:2785: UserWarning: n_quantiles (1000) is greater than the total number of samples (502). n_quantiles is set to n_samples.\n",
      "  warnings.warn(\n",
      "/home/krasen/urban_taxonomy/.pixi/envs/default/lib/python3.12/site-packages/sklearn/preprocessing/_data.py:2785: UserWarning: n_quantiles (1000) is greater than the total number of samples (289). n_quantiles is set to n_samples.\n",
      "  warnings.warn(\n",
      "/home/krasen/urban_taxonomy/.pixi/envs/default/lib/python3.12/site-packages/sklearn/preprocessing/_data.py:2785: UserWarning: n_quantiles (1000) is greater than the total number of samples (700). n_quantiles is set to n_samples.\n",
      "  warnings.warn(\n",
      "/home/krasen/urban_taxonomy/.pixi/envs/default/lib/python3.12/site-packages/sklearn/preprocessing/_data.py:2785: UserWarning: n_quantiles (1000) is greater than the total number of samples (461). n_quantiles is set to n_samples.\n",
      "  warnings.warn(\n"
     ]
    },
    {
     "name": "stdout",
     "output_type": "stream",
     "text": [
      "processing 129032\n",
      "processing 129104\n",
      "processing 129395\n"
     ]
    },
    {
     "name": "stderr",
     "output_type": "stream",
     "text": [
      "/home/krasen/urban_taxonomy/.pixi/envs/default/lib/python3.12/site-packages/sklearn/preprocessing/_data.py:2785: UserWarning: n_quantiles (1000) is greater than the total number of samples (388). n_quantiles is set to n_samples.\n",
      "  warnings.warn(\n"
     ]
    },
    {
     "name": "stdout",
     "output_type": "stream",
     "text": [
      "processing 129730\n",
      "processing 130341\n",
      "processing 130658\n"
     ]
    },
    {
     "name": "stderr",
     "output_type": "stream",
     "text": [
      "/home/krasen/urban_taxonomy/.pixi/envs/default/lib/python3.12/site-packages/sklearn/preprocessing/_data.py:2785: UserWarning: n_quantiles (1000) is greater than the total number of samples (961). n_quantiles is set to n_samples.\n",
      "  warnings.warn(\n",
      "/home/krasen/urban_taxonomy/.pixi/envs/default/lib/python3.12/site-packages/sklearn/preprocessing/_data.py:2785: UserWarning: n_quantiles (1000) is greater than the total number of samples (251). n_quantiles is set to n_samples.\n",
      "  warnings.warn(\n"
     ]
    },
    {
     "name": "stdout",
     "output_type": "stream",
     "text": [
      "processing 131130\n",
      "processing 131395\n",
      "processing 131786\n",
      "processing 131824\n",
      "processing 132225\n"
     ]
    },
    {
     "name": "stderr",
     "output_type": "stream",
     "text": [
      "/home/krasen/urban_taxonomy/.pixi/envs/default/lib/python3.12/site-packages/sklearn/preprocessing/_data.py:2785: UserWarning: n_quantiles (1000) is greater than the total number of samples (827). n_quantiles is set to n_samples.\n",
      "  warnings.warn(\n",
      "/home/krasen/urban_taxonomy/.pixi/envs/default/lib/python3.12/site-packages/sklearn/preprocessing/_data.py:2785: UserWarning: n_quantiles (1000) is greater than the total number of samples (196). n_quantiles is set to n_samples.\n",
      "  warnings.warn(\n",
      "/home/krasen/urban_taxonomy/.pixi/envs/default/lib/python3.12/site-packages/sklearn/preprocessing/_data.py:2785: UserWarning: n_quantiles (1000) is greater than the total number of samples (317). n_quantiles is set to n_samples.\n",
      "  warnings.warn(\n",
      "/home/krasen/urban_taxonomy/.pixi/envs/default/lib/python3.12/site-packages/sklearn/preprocessing/_data.py:2785: UserWarning: n_quantiles (1000) is greater than the total number of samples (185). n_quantiles is set to n_samples.\n",
      "  warnings.warn(\n",
      "/home/krasen/urban_taxonomy/.pixi/envs/default/lib/python3.12/site-packages/sklearn/preprocessing/_data.py:2785: UserWarning: n_quantiles (1000) is greater than the total number of samples (382). n_quantiles is set to n_samples.\n",
      "  warnings.warn(\n"
     ]
    },
    {
     "name": "stdout",
     "output_type": "stream",
     "text": [
      "processing 133057\n",
      "processing 133100\n",
      "processing 133948\n",
      "processing 134023\n"
     ]
    },
    {
     "name": "stderr",
     "output_type": "stream",
     "text": [
      "/home/krasen/urban_taxonomy/.pixi/envs/default/lib/python3.12/site-packages/sklearn/preprocessing/_data.py:2785: UserWarning: n_quantiles (1000) is greater than the total number of samples (528). n_quantiles is set to n_samples.\n",
      "  warnings.warn(\n",
      "/home/krasen/urban_taxonomy/.pixi/envs/default/lib/python3.12/site-packages/sklearn/preprocessing/_data.py:2785: UserWarning: n_quantiles (1000) is greater than the total number of samples (403). n_quantiles is set to n_samples.\n",
      "  warnings.warn(\n",
      "/home/krasen/urban_taxonomy/.pixi/envs/default/lib/python3.12/site-packages/sklearn/preprocessing/_data.py:2785: UserWarning: n_quantiles (1000) is greater than the total number of samples (281). n_quantiles is set to n_samples.\n",
      "  warnings.warn(\n"
     ]
    },
    {
     "name": "stdout",
     "output_type": "stream",
     "text": [
      "processing 134189\n",
      "processing 134454\n",
      "processing 134755\n",
      "processing 134905\n",
      "processing 135687\n"
     ]
    },
    {
     "name": "stderr",
     "output_type": "stream",
     "text": [
      "/home/krasen/urban_taxonomy/.pixi/envs/default/lib/python3.12/site-packages/sklearn/preprocessing/_data.py:2785: UserWarning: n_quantiles (1000) is greater than the total number of samples (243). n_quantiles is set to n_samples.\n",
      "  warnings.warn(\n",
      "/home/krasen/urban_taxonomy/.pixi/envs/default/lib/python3.12/site-packages/sklearn/preprocessing/_data.py:2785: UserWarning: n_quantiles (1000) is greater than the total number of samples (502). n_quantiles is set to n_samples.\n",
      "  warnings.warn(\n",
      "/home/krasen/urban_taxonomy/.pixi/envs/default/lib/python3.12/site-packages/sklearn/preprocessing/_data.py:2785: UserWarning: n_quantiles (1000) is greater than the total number of samples (864). n_quantiles is set to n_samples.\n",
      "  warnings.warn(\n",
      "/home/krasen/urban_taxonomy/.pixi/envs/default/lib/python3.12/site-packages/sklearn/preprocessing/_data.py:2785: UserWarning: n_quantiles (1000) is greater than the total number of samples (394). n_quantiles is set to n_samples.\n",
      "  warnings.warn(\n",
      "/home/krasen/urban_taxonomy/.pixi/envs/default/lib/python3.12/site-packages/sklearn/preprocessing/_data.py:2785: UserWarning: n_quantiles (1000) is greater than the total number of samples (645). n_quantiles is set to n_samples.\n",
      "  warnings.warn(\n"
     ]
    },
    {
     "name": "stdout",
     "output_type": "stream",
     "text": [
      "processing 136169\n",
      "processing 136533\n",
      "processing 137469\n",
      "processing 137537\n",
      "processing 137636\n",
      "processing 137863\n"
     ]
    },
    {
     "name": "stderr",
     "output_type": "stream",
     "text": [
      "/home/krasen/urban_taxonomy/.pixi/envs/default/lib/python3.12/site-packages/sklearn/preprocessing/_data.py:2785: UserWarning: n_quantiles (1000) is greater than the total number of samples (603). n_quantiles is set to n_samples.\n",
      "  warnings.warn(\n",
      "/home/krasen/urban_taxonomy/.pixi/envs/default/lib/python3.12/site-packages/sklearn/preprocessing/_data.py:2785: UserWarning: n_quantiles (1000) is greater than the total number of samples (402). n_quantiles is set to n_samples.\n",
      "  warnings.warn(\n",
      "/home/krasen/urban_taxonomy/.pixi/envs/default/lib/python3.12/site-packages/sklearn/preprocessing/_data.py:2785: UserWarning: n_quantiles (1000) is greater than the total number of samples (272). n_quantiles is set to n_samples.\n",
      "  warnings.warn(\n",
      "/home/krasen/urban_taxonomy/.pixi/envs/default/lib/python3.12/site-packages/sklearn/preprocessing/_data.py:2785: UserWarning: n_quantiles (1000) is greater than the total number of samples (261). n_quantiles is set to n_samples.\n",
      "  warnings.warn(\n",
      "/home/krasen/urban_taxonomy/.pixi/envs/default/lib/python3.12/site-packages/sklearn/preprocessing/_data.py:2785: UserWarning: n_quantiles (1000) is greater than the total number of samples (357). n_quantiles is set to n_samples.\n",
      "  warnings.warn(\n",
      "/home/krasen/urban_taxonomy/.pixi/envs/default/lib/python3.12/site-packages/sklearn/preprocessing/_data.py:2785: UserWarning: n_quantiles (1000) is greater than the total number of samples (901). n_quantiles is set to n_samples.\n",
      "  warnings.warn(\n"
     ]
    },
    {
     "name": "stdout",
     "output_type": "stream",
     "text": [
      "processing 138804\n",
      "processing 139096\n",
      "processing 139621\n",
      "processing 139674\n",
      "processing 139764\n",
      "processing 140420\n",
      "processing 141272\n"
     ]
    },
    {
     "name": "stderr",
     "output_type": "stream",
     "text": [
      "/home/krasen/urban_taxonomy/.pixi/envs/default/lib/python3.12/site-packages/sklearn/preprocessing/_data.py:2785: UserWarning: n_quantiles (1000) is greater than the total number of samples (375). n_quantiles is set to n_samples.\n",
      "  warnings.warn(\n",
      "/home/krasen/urban_taxonomy/.pixi/envs/default/lib/python3.12/site-packages/sklearn/preprocessing/_data.py:2785: UserWarning: n_quantiles (1000) is greater than the total number of samples (489). n_quantiles is set to n_samples.\n",
      "  warnings.warn(\n",
      "/home/krasen/urban_taxonomy/.pixi/envs/default/lib/python3.12/site-packages/sklearn/preprocessing/_data.py:2785: UserWarning: n_quantiles (1000) is greater than the total number of samples (391). n_quantiles is set to n_samples.\n",
      "  warnings.warn(\n",
      "/home/krasen/urban_taxonomy/.pixi/envs/default/lib/python3.12/site-packages/sklearn/preprocessing/_data.py:2785: UserWarning: n_quantiles (1000) is greater than the total number of samples (250). n_quantiles is set to n_samples.\n",
      "  warnings.warn(\n",
      "/home/krasen/urban_taxonomy/.pixi/envs/default/lib/python3.12/site-packages/sklearn/preprocessing/_data.py:2785: UserWarning: n_quantiles (1000) is greater than the total number of samples (267). n_quantiles is set to n_samples.\n",
      "  warnings.warn(\n",
      "/home/krasen/urban_taxonomy/.pixi/envs/default/lib/python3.12/site-packages/sklearn/preprocessing/_data.py:2785: UserWarning: n_quantiles (1000) is greater than the total number of samples (252). n_quantiles is set to n_samples.\n",
      "  warnings.warn(\n",
      "/home/krasen/urban_taxonomy/.pixi/envs/default/lib/python3.12/site-packages/sklearn/preprocessing/_data.py:2785: UserWarning: n_quantiles (1000) is greater than the total number of samples (309). n_quantiles is set to n_samples.\n",
      "  warnings.warn(\n"
     ]
    },
    {
     "name": "stdout",
     "output_type": "stream",
     "text": [
      "processing 141366\n",
      "processing 142100\n",
      "processing 143701\n",
      "processing 145906\n"
     ]
    },
    {
     "name": "stderr",
     "output_type": "stream",
     "text": [
      "/home/krasen/urban_taxonomy/.pixi/envs/default/lib/python3.12/site-packages/sklearn/preprocessing/_data.py:2785: UserWarning: n_quantiles (1000) is greater than the total number of samples (203). n_quantiles is set to n_samples.\n",
      "  warnings.warn(\n",
      "/home/krasen/urban_taxonomy/.pixi/envs/default/lib/python3.12/site-packages/sklearn/preprocessing/_data.py:2785: UserWarning: n_quantiles (1000) is greater than the total number of samples (430). n_quantiles is set to n_samples.\n",
      "  warnings.warn(\n",
      "/home/krasen/urban_taxonomy/.pixi/envs/default/lib/python3.12/site-packages/sklearn/preprocessing/_data.py:2785: UserWarning: n_quantiles (1000) is greater than the total number of samples (907). n_quantiles is set to n_samples.\n",
      "  warnings.warn(\n",
      "/home/krasen/urban_taxonomy/.pixi/envs/default/lib/python3.12/site-packages/sklearn/preprocessing/_data.py:2785: UserWarning: n_quantiles (1000) is greater than the total number of samples (482). n_quantiles is set to n_samples.\n",
      "  warnings.warn(\n"
     ]
    },
    {
     "name": "stdout",
     "output_type": "stream",
     "text": [
      "processing 146285\n",
      "processing 147112\n",
      "processing 147634\n"
     ]
    },
    {
     "name": "stderr",
     "output_type": "stream",
     "text": [
      "/home/krasen/urban_taxonomy/.pixi/envs/default/lib/python3.12/site-packages/sklearn/preprocessing/_data.py:2785: UserWarning: n_quantiles (1000) is greater than the total number of samples (281). n_quantiles is set to n_samples.\n",
      "  warnings.warn(\n",
      "/home/krasen/urban_taxonomy/.pixi/envs/default/lib/python3.12/site-packages/sklearn/preprocessing/_data.py:2785: UserWarning: n_quantiles (1000) is greater than the total number of samples (897). n_quantiles is set to n_samples.\n",
      "  warnings.warn(\n",
      "/home/krasen/urban_taxonomy/.pixi/envs/default/lib/python3.12/site-packages/sklearn/preprocessing/_data.py:2785: UserWarning: n_quantiles (1000) is greater than the total number of samples (716). n_quantiles is set to n_samples.\n",
      "  warnings.warn(\n",
      "/home/krasen/urban_taxonomy/.pixi/envs/default/lib/python3.12/site-packages/sklearn/preprocessing/_data.py:2785: UserWarning: n_quantiles (1000) is greater than the total number of samples (144). n_quantiles is set to n_samples.\n",
      "  warnings.warn(\n"
     ]
    },
    {
     "name": "stdout",
     "output_type": "stream",
     "text": [
      "processing 148018\n",
      "processing 148085\n",
      "processing 149997\n",
      "processing 150044\n",
      "processing 151676\n"
     ]
    },
    {
     "name": "stderr",
     "output_type": "stream",
     "text": [
      "/home/krasen/urban_taxonomy/.pixi/envs/default/lib/python3.12/site-packages/sklearn/preprocessing/_data.py:2785: UserWarning: n_quantiles (1000) is greater than the total number of samples (206). n_quantiles is set to n_samples.\n",
      "  warnings.warn(\n",
      "/home/krasen/urban_taxonomy/.pixi/envs/default/lib/python3.12/site-packages/sklearn/preprocessing/_data.py:2785: UserWarning: n_quantiles (1000) is greater than the total number of samples (246). n_quantiles is set to n_samples.\n",
      "  warnings.warn(\n"
     ]
    },
    {
     "name": "stdout",
     "output_type": "stream",
     "text": [
      "processing 152081\n",
      "processing 152511\n",
      "CPU times: user 2min 36s, sys: 12.6 s, total: 2min 48s\n",
      "Wall time: 2min 32s\n"
     ]
    },
    {
     "name": "stderr",
     "output_type": "stream",
     "text": [
      "/home/krasen/urban_taxonomy/.pixi/envs/default/lib/python3.12/site-packages/sklearn/preprocessing/_data.py:2785: UserWarning: n_quantiles (1000) is greater than the total number of samples (698). n_quantiles is set to n_samples.\n",
      "  warnings.warn(\n",
      "/home/krasen/urban_taxonomy/.pixi/envs/default/lib/python3.12/site-packages/sklearn/preprocessing/_data.py:2785: UserWarning: n_quantiles (1000) is greater than the total number of samples (258). n_quantiles is set to n_samples.\n",
      "  warnings.warn(\n"
     ]
    }
   ],
   "source": [
    "# %%time\n",
    "\n",
    "# ## generate and save linkage matricies for each region\n",
    "# for region_id, _ in region_hulls.iterrows():\n",
    "#     data = read_region_morphotope_data(region_id, scalar)\n",
    "#     linkage_matrix = get_morphotope_linkage(data)\n",
    "#     np.save(f'/data/uscuni-ulce/processed_data/morphotope_linkage/{linkage}_{metric}_{region_id}', linkage_matrix)"
   ]
  },
  {
   "cell_type": "code",
   "execution_count": null,
   "id": "d73c6907-32dd-4380-ab9c-31a7ce780b17",
   "metadata": {},
   "outputs": [],
   "source": []
  },
  {
   "cell_type": "markdown",
   "id": "0e84ab65-ad35-4650-b884-69659445f825",
   "metadata": {},
   "source": [
    "### Setup regional cutoff to merge regional morphotopes"
   ]
  },
  {
   "cell_type": "code",
   "execution_count": 7,
   "id": "f2afa8b6-2f25-482b-85bc-8f673e617bf4",
   "metadata": {},
   "outputs": [],
   "source": [
    "regional_cutoff = 5"
   ]
  },
  {
   "cell_type": "code",
   "execution_count": 8,
   "id": "772709a9-0793-4624-a88c-13cac9cc47b6",
   "metadata": {
    "scrolled": true
   },
   "outputs": [
    {
     "name": "stdout",
     "output_type": "stream",
     "text": [
      "processing 4\n",
      "processing 10\n",
      "processing 132\n",
      "processing 134\n",
      "processing 286\n",
      "processing 313\n",
      "processing 400\n",
      "processing 523\n",
      "processing 765\n",
      "processing 801\n",
      "processing 832\n",
      "processing 913\n",
      "processing 960\n",
      "processing 1124\n",
      "processing 1154\n",
      "processing 1387\n",
      "processing 1478\n",
      "processing 1515\n",
      "processing 1605\n",
      "processing 1718\n",
      "processing 1736\n",
      "processing 1782\n",
      "processing 1970\n",
      "processing 1981\n",
      "processing 2096\n",
      "processing 2322\n",
      "processing 2350\n",
      "processing 2478\n",
      "processing 2514\n",
      "processing 2625\n",
      "processing 2728\n",
      "processing 2975\n",
      "processing 3039\n",
      "processing 3109\n",
      "processing 3150\n",
      "processing 3221\n",
      "processing 3250\n",
      "processing 3526\n",
      "processing 3610\n",
      "processing 3612\n",
      "processing 3701\n",
      "processing 3705\n",
      "processing 3752\n",
      "processing 3759\n",
      "processing 3981\n",
      "processing 4070\n",
      "processing 4214\n",
      "processing 4215\n",
      "processing 4235\n",
      "processing 4284\n",
      "processing 4356\n",
      "processing 4382\n",
      "processing 4723\n",
      "processing 4805\n",
      "processing 5096\n",
      "processing 5191\n",
      "processing 5246\n",
      "processing 5310\n",
      "processing 5408\n",
      "processing 5427\n",
      "processing 5662\n",
      "processing 5671\n",
      "processing 5766\n",
      "processing 5883\n",
      "processing 6254\n",
      "processing 6529\n",
      "processing 6560\n",
      "processing 6576\n",
      "processing 6741\n",
      "processing 6749\n",
      "processing 6811\n",
      "processing 6873\n",
      "processing 6996\n",
      "processing 7068\n",
      "processing 7094\n",
      "processing 7280\n",
      "processing 7485\n",
      "processing 7528\n",
      "processing 7534\n",
      "processing 7681\n",
      "processing 7688\n",
      "processing 7712\n",
      "processing 7727\n",
      "processing 7805\n",
      "processing 7914\n",
      "processing 7937\n",
      "processing 7963\n",
      "processing 8046\n",
      "processing 8216\n",
      "processing 8238\n",
      "processing 8256\n",
      "processing 8265\n",
      "processing 8345\n",
      "processing 8374\n",
      "processing 8396\n",
      "processing 8592\n",
      "processing 8707\n",
      "processing 8731\n",
      "processing 8757\n",
      "processing 8759\n",
      "processing 8813\n",
      "processing 9016\n",
      "processing 9064\n",
      "processing 9074\n",
      "processing 9150\n",
      "processing 9169\n",
      "processing 9194\n",
      "processing 9284\n",
      "processing 9824\n",
      "processing 9924\n",
      "processing 9954\n",
      "processing 9972\n",
      "processing 10019\n",
      "processing 10086\n",
      "processing 10095\n",
      "processing 10124\n",
      "processing 10179\n",
      "processing 10222\n",
      "processing 10263\n",
      "processing 10277\n",
      "processing 10455\n",
      "processing 10510\n",
      "processing 10511\n",
      "processing 10563\n",
      "processing 10579\n",
      "processing 10602\n",
      "processing 10666\n",
      "processing 10794\n",
      "processing 10847\n",
      "processing 10908\n",
      "processing 10926\n",
      "processing 10970\n",
      "processing 11002\n",
      "processing 11019\n",
      "processing 11057\n",
      "processing 11141\n",
      "processing 11210\n",
      "processing 11256\n",
      "processing 11261\n",
      "processing 11305\n",
      "processing 11309\n",
      "processing 11311\n",
      "processing 11318\n",
      "processing 11367\n",
      "processing 11444\n",
      "processing 11455\n",
      "processing 11471\n",
      "processing 11667\n",
      "processing 11678\n",
      "processing 11735\n",
      "processing 11757\n",
      "processing 11799\n",
      "processing 11877\n",
      "processing 11905\n",
      "processing 12027\n",
      "processing 12084\n",
      "processing 12100\n",
      "processing 12115\n",
      "processing 12154\n",
      "processing 12191\n",
      "processing 12381\n",
      "processing 12440\n",
      "processing 12483\n",
      "processing 12552\n",
      "processing 12667\n",
      "processing 12707\n",
      "processing 12755\n",
      "processing 12756\n",
      "processing 12844\n",
      "processing 12919\n",
      "processing 12965\n",
      "processing 13076\n",
      "processing 13137\n",
      "processing 13172\n",
      "processing 13191\n",
      "processing 13196\n",
      "processing 13229\n",
      "processing 13301\n",
      "processing 13395\n",
      "processing 13442\n",
      "processing 13482\n",
      "processing 13506\n",
      "processing 13553\n",
      "processing 13555\n",
      "processing 13614\n",
      "processing 13616\n",
      "processing 13655\n",
      "processing 13677\n",
      "processing 13779\n",
      "processing 13810\n",
      "processing 13881\n",
      "processing 13897\n",
      "processing 13965\n",
      "processing 14084\n",
      "processing 14245\n",
      "processing 14319\n",
      "processing 14321\n",
      "processing 14327\n",
      "processing 14364\n",
      "processing 14383\n",
      "processing 14550\n",
      "processing 14552\n",
      "processing 14623\n",
      "processing 14679\n",
      "processing 14702\n",
      "processing 14735\n",
      "processing 14789\n",
      "processing 14933\n",
      "processing 15019\n",
      "processing 15139\n",
      "processing 15265\n",
      "processing 15331\n",
      "processing 15347\n",
      "processing 15484\n",
      "processing 15509\n",
      "processing 15545\n",
      "processing 15555\n",
      "processing 15613\n",
      "processing 15626\n",
      "processing 15653\n",
      "processing 15690\n",
      "processing 15716\n",
      "processing 15794\n",
      "processing 15802\n",
      "processing 15933\n",
      "processing 15970\n",
      "processing 16217\n",
      "processing 16242\n",
      "processing 16256\n",
      "processing 16291\n",
      "processing 16318\n",
      "processing 16429\n",
      "processing 16509\n",
      "processing 16510\n",
      "processing 16566\n",
      "processing 16632\n",
      "processing 16685\n",
      "processing 16688\n",
      "processing 16745\n",
      "processing 16921\n",
      "processing 17171\n",
      "processing 17268\n",
      "processing 17389\n",
      "processing 17393\n",
      "processing 17458\n",
      "processing 17677\n",
      "processing 17690\n",
      "processing 17959\n",
      "processing 18008\n",
      "processing 18164\n",
      "processing 18454\n",
      "processing 18489\n",
      "processing 18516\n",
      "processing 18557\n",
      "processing 18893\n",
      "processing 19124\n",
      "processing 19151\n",
      "processing 19244\n",
      "processing 19254\n",
      "processing 19376\n",
      "processing 19386\n",
      "processing 19393\n",
      "processing 19542\n",
      "processing 19878\n",
      "processing 19940\n",
      "processing 20123\n",
      "processing 20149\n",
      "processing 20243\n",
      "processing 20496\n",
      "processing 20554\n",
      "processing 20783\n",
      "processing 20968\n",
      "processing 20970\n",
      "processing 21174\n",
      "processing 21304\n",
      "processing 21484\n",
      "processing 21523\n",
      "processing 21569\n",
      "processing 21591\n",
      "processing 21894\n",
      "processing 21904\n",
      "processing 22040\n",
      "processing 22105\n",
      "processing 22345\n",
      "processing 22602\n",
      "processing 22704\n",
      "processing 22884\n",
      "processing 22912\n",
      "processing 22976\n",
      "processing 23258\n",
      "processing 23337\n",
      "processing 23401\n",
      "processing 23631\n",
      "processing 23642\n",
      "processing 23661\n",
      "processing 23812\n",
      "processing 23984\n",
      "processing 24116\n",
      "processing 24232\n",
      "processing 24257\n",
      "processing 24276\n",
      "processing 24389\n",
      "processing 24402\n",
      "processing 24596\n",
      "processing 24735\n",
      "processing 24743\n",
      "processing 25202\n",
      "processing 25361\n",
      "processing 25491\n",
      "processing 25532\n",
      "processing 25656\n",
      "processing 25697\n",
      "processing 25765\n",
      "processing 25934\n",
      "processing 26072\n",
      "processing 26265\n",
      "processing 26300\n",
      "processing 26315\n",
      "processing 26429\n",
      "processing 26435\n",
      "processing 26468\n",
      "processing 26780\n",
      "processing 26888\n",
      "processing 27053\n",
      "processing 27166\n",
      "processing 27178\n",
      "processing 27297\n",
      "processing 27411\n",
      "processing 27578\n",
      "processing 27587\n",
      "processing 27717\n",
      "processing 27773\n",
      "processing 27926\n",
      "processing 28040\n",
      "processing 28235\n",
      "processing 28307\n",
      "processing 28566\n",
      "processing 28835\n",
      "processing 29096\n",
      "processing 29215\n",
      "processing 29249\n",
      "processing 29278\n",
      "processing 29344\n",
      "processing 29374\n",
      "processing 29694\n",
      "processing 29729\n",
      "processing 29787\n",
      "processing 29800\n",
      "processing 29984\n",
      "processing 30124\n",
      "processing 30213\n",
      "processing 30523\n",
      "processing 30585\n",
      "processing 30615\n",
      "processing 30640\n",
      "processing 30729\n",
      "processing 30754\n",
      "processing 30775\n",
      "processing 30841\n",
      "processing 31212\n",
      "processing 31237\n",
      "processing 31287\n",
      "processing 31291\n",
      "processing 31298\n",
      "processing 31736\n",
      "processing 32023\n",
      "processing 32045\n",
      "processing 32108\n",
      "processing 32261\n",
      "processing 32386\n",
      "processing 32427\n",
      "processing 32503\n",
      "processing 32593\n",
      "processing 32685\n",
      "processing 32793\n",
      "processing 32970\n",
      "processing 33122\n",
      "processing 33287\n",
      "processing 33427\n",
      "processing 33492\n",
      "processing 33528\n",
      "processing 33692\n",
      "processing 33722\n",
      "processing 34053\n",
      "processing 34152\n",
      "processing 34266\n",
      "processing 34436\n",
      "processing 34522\n",
      "processing 34767\n",
      "processing 34839\n",
      "processing 34900\n",
      "processing 34978\n",
      "processing 35055\n",
      "processing 35141\n",
      "processing 35180\n",
      "processing 35211\n",
      "processing 35246\n",
      "processing 35368\n",
      "processing 35540\n",
      "processing 35679\n",
      "processing 35755\n",
      "processing 35812\n",
      "processing 36012\n",
      "processing 36122\n",
      "processing 36330\n",
      "processing 36580\n",
      "processing 36689\n",
      "processing 36704\n",
      "processing 36752\n",
      "processing 36842\n",
      "processing 36953\n",
      "processing 37105\n",
      "processing 37163\n",
      "processing 37236\n",
      "processing 37434\n",
      "processing 37496\n",
      "processing 37628\n",
      "processing 37635\n",
      "processing 37698\n",
      "processing 37811\n",
      "processing 38018\n",
      "processing 38243\n",
      "processing 38248\n",
      "processing 38375\n",
      "processing 38512\n",
      "processing 38615\n",
      "processing 38679\n",
      "processing 38844\n",
      "processing 38924\n",
      "processing 38935\n",
      "processing 39030\n",
      "processing 39078\n",
      "processing 39161\n",
      "processing 39171\n",
      "processing 39293\n",
      "processing 39396\n",
      "processing 39490\n",
      "processing 39680\n",
      "processing 39911\n",
      "processing 39947\n",
      "processing 40064\n",
      "processing 40130\n",
      "processing 40294\n",
      "processing 40447\n",
      "processing 40766\n",
      "processing 40885\n",
      "processing 40890\n",
      "processing 40941\n",
      "processing 41002\n",
      "processing 41095\n",
      "processing 41185\n",
      "processing 41289\n",
      "processing 41303\n",
      "processing 41428\n",
      "processing 41630\n",
      "processing 42084\n",
      "processing 42154\n",
      "processing 42226\n",
      "processing 42366\n",
      "processing 42418\n",
      "processing 42499\n",
      "processing 42528\n",
      "processing 42595\n",
      "processing 43070\n",
      "processing 43097\n",
      "processing 43376\n",
      "processing 43422\n",
      "processing 43455\n",
      "processing 43495\n",
      "processing 43508\n",
      "processing 43619\n",
      "processing 43651\n",
      "processing 43662\n",
      "processing 43706\n",
      "processing 43715\n",
      "processing 43852\n",
      "processing 44065\n",
      "processing 44194\n",
      "processing 44323\n",
      "processing 44390\n",
      "processing 44478\n",
      "processing 44913\n",
      "processing 44933\n",
      "processing 44960\n",
      "processing 45014\n",
      "processing 45181\n",
      "processing 45303\n",
      "processing 45441\n",
      "processing 45512\n",
      "processing 45801\n",
      "processing 45865\n",
      "processing 45888\n",
      "processing 46115\n",
      "processing 46185\n",
      "processing 46281\n",
      "processing 46352\n",
      "processing 46355\n",
      "processing 46461\n",
      "processing 46545\n",
      "processing 47004\n",
      "processing 47090\n",
      "processing 47149\n",
      "processing 47443\n",
      "processing 47446\n",
      "processing 47465\n",
      "processing 47505\n",
      "processing 47539\n",
      "processing 47554\n",
      "processing 47774\n",
      "processing 47813\n",
      "processing 47919\n",
      "processing 48152\n",
      "processing 48227\n",
      "processing 48254\n",
      "processing 48357\n",
      "processing 48405\n",
      "processing 48597\n",
      "processing 48965\n",
      "processing 49045\n",
      "processing 49393\n",
      "processing 49434\n",
      "processing 49571\n",
      "processing 49643\n",
      "processing 49714\n",
      "processing 50280\n",
      "processing 50285\n",
      "processing 50528\n",
      "processing 50880\n",
      "processing 50896\n",
      "processing 50966\n",
      "processing 51019\n",
      "processing 51277\n",
      "processing 51289\n",
      "processing 51570\n",
      "processing 51677\n",
      "processing 52381\n",
      "processing 52492\n",
      "processing 53232\n",
      "processing 53380\n",
      "processing 53410\n",
      "processing 53525\n",
      "processing 53605\n",
      "processing 53616\n",
      "processing 53744\n",
      "processing 54871\n",
      "processing 55392\n",
      "processing 55763\n",
      "processing 55811\n",
      "processing 55835\n",
      "processing 56160\n",
      "processing 56178\n",
      "processing 56184\n",
      "processing 56404\n",
      "processing 56937\n",
      "processing 57109\n",
      "processing 57313\n",
      "processing 57652\n",
      "processing 57717\n",
      "processing 57876\n",
      "processing 57908\n",
      "processing 58077\n",
      "processing 58523\n",
      "processing 58571\n",
      "processing 58713\n",
      "processing 58795\n",
      "processing 59194\n",
      "processing 59226\n",
      "processing 59718\n",
      "processing 59768\n",
      "processing 60009\n",
      "processing 60045\n",
      "processing 60202\n",
      "processing 60273\n",
      "processing 60613\n",
      "processing 60914\n",
      "processing 61183\n",
      "processing 61187\n",
      "processing 61711\n",
      "processing 61875\n",
      "processing 62193\n",
      "processing 62222\n",
      "processing 62393\n",
      "processing 62844\n",
      "processing 62954\n",
      "processing 63485\n",
      "processing 63655\n",
      "processing 63726\n",
      "processing 63739\n",
      "processing 63756\n",
      "processing 64097\n",
      "processing 64220\n",
      "processing 64463\n",
      "processing 65007\n",
      "processing 65441\n",
      "processing 65626\n",
      "processing 66007\n",
      "processing 66047\n",
      "processing 66540\n",
      "processing 66593\n",
      "processing 66793\n",
      "processing 67156\n",
      "processing 67279\n",
      "processing 67459\n",
      "processing 67803\n",
      "processing 68059\n",
      "processing 68265\n",
      "processing 68363\n",
      "processing 69333\n",
      "processing 69394\n",
      "processing 70073\n",
      "processing 70108\n",
      "processing 70368\n",
      "processing 70973\n",
      "processing 71306\n",
      "processing 71477\n",
      "processing 71506\n",
      "processing 71843\n",
      "processing 72032\n",
      "processing 72110\n",
      "processing 72396\n",
      "processing 72507\n",
      "processing 73611\n",
      "processing 73625\n",
      "processing 73735\n",
      "processing 74378\n",
      "processing 74568\n",
      "processing 75472\n",
      "processing 75642\n",
      "processing 76038\n",
      "processing 76305\n",
      "processing 76512\n",
      "processing 77205\n",
      "processing 77846\n",
      "processing 78792\n",
      "processing 78820\n",
      "processing 78938\n",
      "processing 79988\n",
      "processing 80313\n",
      "processing 80404\n",
      "processing 82064\n",
      "processing 82514\n",
      "processing 82773\n",
      "processing 83538\n",
      "processing 83542\n",
      "processing 84297\n",
      "processing 84420\n",
      "processing 84554\n",
      "processing 84962\n",
      "processing 85104\n",
      "processing 85156\n",
      "processing 85262\n",
      "processing 86502\n",
      "processing 86568\n",
      "processing 86863\n",
      "processing 86873\n",
      "processing 87615\n",
      "processing 87947\n",
      "processing 88930\n",
      "processing 88950\n",
      "processing 89122\n",
      "processing 89586\n",
      "processing 89921\n",
      "processing 89971\n",
      "processing 90075\n",
      "processing 90196\n",
      "processing 90770\n",
      "processing 91011\n",
      "processing 91479\n",
      "processing 91702\n",
      "processing 92178\n",
      "processing 93167\n",
      "processing 93504\n",
      "processing 93793\n",
      "processing 95256\n",
      "processing 96465\n",
      "processing 96727\n",
      "processing 96895\n",
      "processing 97745\n",
      "processing 97978\n",
      "processing 98107\n",
      "processing 98628\n",
      "processing 98660\n",
      "processing 98716\n",
      "processing 98958\n",
      "processing 99661\n",
      "processing 99865\n",
      "processing 99886\n",
      "processing 100210\n",
      "processing 100342\n",
      "processing 100348\n",
      "processing 101313\n",
      "processing 101429\n",
      "processing 101574\n",
      "processing 101992\n",
      "processing 102031\n",
      "processing 102127\n",
      "processing 102262\n",
      "processing 102474\n",
      "processing 102679\n",
      "processing 102801\n",
      "processing 102814\n",
      "processing 102939\n",
      "processing 103039\n",
      "processing 103283\n",
      "processing 103305\n",
      "processing 103561\n",
      "processing 103713\n",
      "processing 103852\n",
      "processing 103882\n",
      "processing 103928\n",
      "processing 104018\n",
      "processing 104066\n",
      "processing 104568\n",
      "processing 105038\n",
      "processing 105090\n",
      "processing 105385\n",
      "processing 105388\n",
      "processing 105426\n",
      "processing 105457\n",
      "processing 105589\n",
      "processing 106034\n",
      "processing 106124\n",
      "processing 106363\n",
      "processing 106370\n",
      "processing 106384\n",
      "processing 106559\n",
      "processing 107131\n",
      "processing 107442\n",
      "processing 108050\n",
      "processing 108101\n",
      "processing 108127\n",
      "processing 108129\n",
      "processing 108263\n",
      "processing 108748\n",
      "processing 108755\n",
      "processing 108884\n",
      "processing 109404\n",
      "processing 109488\n",
      "processing 109491\n",
      "processing 109636\n",
      "processing 109727\n",
      "processing 109756\n",
      "processing 110016\n",
      "processing 110179\n",
      "processing 110237\n",
      "processing 110657\n",
      "processing 110691\n",
      "processing 110906\n",
      "processing 110908\n",
      "processing 111555\n",
      "processing 111689\n",
      "processing 111911\n",
      "processing 112253\n",
      "processing 112437\n",
      "processing 112696\n",
      "processing 112843\n",
      "processing 112949\n",
      "processing 113068\n",
      "processing 113301\n",
      "processing 114014\n",
      "processing 114180\n",
      "processing 114311\n",
      "processing 114591\n",
      "processing 114680\n",
      "processing 114822\n",
      "processing 115151\n",
      "processing 115595\n",
      "processing 115950\n",
      "processing 116316\n",
      "processing 116523\n",
      "processing 116801\n",
      "processing 116866\n",
      "processing 117182\n",
      "processing 117638\n",
      "processing 117720\n",
      "processing 118096\n",
      "processing 118747\n",
      "processing 119562\n",
      "processing 119609\n",
      "processing 120057\n",
      "processing 120193\n",
      "processing 120545\n",
      "processing 120961\n",
      "processing 120982\n",
      "processing 121071\n",
      "processing 121143\n",
      "processing 123228\n",
      "processing 123690\n",
      "processing 123904\n",
      "processing 123941\n",
      "processing 124160\n",
      "processing 124904\n",
      "processing 125016\n",
      "processing 125141\n",
      "processing 125667\n",
      "processing 126588\n",
      "processing 127101\n",
      "processing 127183\n",
      "processing 127626\n",
      "processing 128286\n",
      "processing 129032\n",
      "processing 129104\n",
      "processing 129395\n",
      "processing 129730\n",
      "processing 130341\n",
      "processing 130658\n",
      "processing 131130\n",
      "processing 131395\n",
      "processing 131786\n",
      "processing 131824\n",
      "processing 132225\n",
      "processing 133057\n",
      "processing 133100\n",
      "processing 133948\n",
      "processing 134023\n",
      "processing 134189\n",
      "processing 134454\n",
      "processing 134755\n",
      "processing 134905\n",
      "processing 135687\n",
      "processing 136169\n",
      "processing 136533\n",
      "processing 137469\n",
      "processing 137537\n",
      "processing 137636\n",
      "processing 137863\n",
      "processing 138804\n",
      "processing 139096\n",
      "processing 139621\n",
      "processing 139674\n",
      "processing 139764\n",
      "processing 140420\n",
      "processing 141272\n",
      "processing 141366\n",
      "processing 142100\n",
      "processing 143701\n",
      "processing 145906\n",
      "processing 146285\n",
      "processing 147112\n",
      "processing 147634\n",
      "processing 148018\n",
      "processing 148085\n",
      "processing 149997\n",
      "processing 150044\n",
      "processing 151676\n",
      "processing 152081\n",
      "processing 152511\n"
     ]
    }
   ],
   "source": [
    "regional_clusters = get_all_clusters(cutoff=regional_cutoff)"
   ]
  },
  {
   "cell_type": "code",
   "execution_count": 11,
   "id": "cec2ab84-4a8e-43a5-b81f-652b9749a5ef",
   "metadata": {},
   "outputs": [
    {
     "data": {
      "text/plain": [
       "array(['10019_1', '10019_10', '10019_11', ..., '99886_7', '99886_8',\n",
       "       '99886_9'], dtype=object)"
      ]
     },
     "execution_count": 11,
     "metadata": {},
     "output_type": "execute_result"
    }
   ],
   "source": [
    "np.unique(regional_clusters).shape"
   ]
  },
  {
   "cell_type": "code",
   "execution_count": 12,
   "id": "afd59bca-7a2e-4d42-9b12-04402c7c6c13",
   "metadata": {},
   "outputs": [],
   "source": [
    "## might be useful to use courtyard mean, because mean is zero"
   ]
  },
  {
   "cell_type": "code",
   "execution_count": 13,
   "id": "06ccb7ae-d841-48be-8011-7a2ae64895ed",
   "metadata": {},
   "outputs": [],
   "source": [
    "# %%time\n",
    "morphotopes_data = read_morphotopes_data(model_params)\n",
    "morphotopes_data = morphotopes_data.loc[regional_clusters.index]\n",
    "morphotopes_data = morphotopes_data.iloc[:, :-1]"
   ]
  },
  {
   "cell_type": "code",
   "execution_count": 14,
   "id": "25675011-615e-49db-8bc4-3005b9abf77b",
   "metadata": {},
   "outputs": [],
   "source": [
    "component_data = morphotopes_data.drop(columns=morphotope_stat_columns, level=1)\n",
    "component_data = component_data.drop(columns=to_drop, level=0)\n",
    "component_data.columns =  component_data.columns.get_level_values(0)"
   ]
  },
  {
   "cell_type": "code",
   "execution_count": 15,
   "id": "d1ebfdea-9d32-496e-9073-329ed2d7217f",
   "metadata": {},
   "outputs": [],
   "source": [
    "grouped_data = component_data.groupby(regional_clusters).agg('median').fillna(0)"
   ]
  },
  {
   "cell_type": "code",
   "execution_count": null,
   "id": "956e86ca-cacb-457e-a14e-9408e10720b8",
   "metadata": {},
   "outputs": [],
   "source": []
  },
  {
   "cell_type": "code",
   "execution_count": 16,
   "id": "4877da71-469e-40b9-8a6b-f79746f21cab",
   "metadata": {},
   "outputs": [],
   "source": [
    "vals = scalar.fit_transform(grouped_data)\n",
    "regional_ward_morphotopes_data = pd.DataFrame(vals, index=grouped_data.index, columns=grouped_data.columns)"
   ]
  },
  {
   "cell_type": "code",
   "execution_count": 17,
   "id": "1d5597b5-8ddc-4015-894c-a783a3ae7e93",
   "metadata": {},
   "outputs": [
    {
     "data": {
      "text/plain": [
       "(np.float64(0.0), np.float64(1.0))"
      ]
     },
     "execution_count": 17,
     "metadata": {},
     "output_type": "execute_result"
    }
   ],
   "source": [
    "stats = regional_ward_morphotopes_data.describe()\n",
    "stats.loc['min', ].min(), stats.loc['max', ].max()"
   ]
  },
  {
   "cell_type": "code",
   "execution_count": 18,
   "id": "bea50a55-3708-41c0-b09e-5badf4044d62",
   "metadata": {},
   "outputs": [],
   "source": [
    "# from sklearn.preprocessing import RobustScaler\n"
   ]
  },
  {
   "cell_type": "code",
   "execution_count": null,
   "id": "29a0462e-e476-4fc7-a4bb-0b0420b57568",
   "metadata": {},
   "outputs": [],
   "source": []
  },
  {
   "cell_type": "code",
   "execution_count": 234,
   "id": "4cde1258-e67b-4f1e-8df1-7d2b418977f8",
   "metadata": {
    "scrolled": true
   },
   "outputs": [
    {
     "name": "stderr",
     "output_type": "stream",
     "text": [
      "/home/krasen/urban_taxonomy/.pixi/envs/default/lib/python3.12/site-packages/umap/umap_.py:1945: UserWarning: n_jobs value 1 overridden to 1 by setting random_state. Use no seed for parallelism.\n",
      "  warn(f\"n_jobs value {self.n_jobs} overridden to 1 by setting random_state. Use no seed for parallelism.\")\n"
     ]
    },
    {
     "name": "stdout",
     "output_type": "stream",
     "text": [
      "UMAP(min_dist=0, n_components=15, n_jobs=1, n_neighbors=30, random_state=1, verbose=True)\n",
      "Sun Dec  1 14:23:16 2024 Construct fuzzy simplicial set\n",
      "Sun Dec  1 14:23:16 2024 Finding Nearest Neighbors\n",
      "Sun Dec  1 14:23:16 2024 Building RP forest with 12 trees\n",
      "Sun Dec  1 14:23:16 2024 NN descent for 14 iterations\n",
      "\t 1  /  14\n",
      "\t 2  /  14\n",
      "\t 3  /  14\n",
      "\tStopping threshold met -- exiting after 3 iterations\n",
      "Sun Dec  1 14:23:18 2024 Finished Nearest Neighbor Search\n",
      "Sun Dec  1 14:23:18 2024 Construct embedding\n"
     ]
    },
    {
     "data": {
      "application/vnd.jupyter.widget-view+json": {
       "model_id": "18b14051cb3248ca9d0cba2d491d4b51",
       "version_major": 2,
       "version_minor": 0
      },
      "text/plain": [
       "Epochs completed:   0%|            0/200 [00:00]"
      ]
     },
     "metadata": {},
     "output_type": "display_data"
    },
    {
     "name": "stdout",
     "output_type": "stream",
     "text": [
      "\tcompleted  0  /  200 epochs\n",
      "\tcompleted  20  /  200 epochs\n",
      "\tcompleted  40  /  200 epochs\n",
      "\tcompleted  60  /  200 epochs\n",
      "\tcompleted  80  /  200 epochs\n",
      "\tcompleted  100  /  200 epochs\n",
      "\tcompleted  120  /  200 epochs\n",
      "\tcompleted  140  /  200 epochs\n",
      "\tcompleted  160  /  200 epochs\n",
      "\tcompleted  180  /  200 epochs\n",
      "Sun Dec  1 14:23:31 2024 Finished embedding\n"
     ]
    }
   ],
   "source": [
    "import umap\n",
    "n_neighbors = 30\n",
    "umap_metric = 'euclidean'\n",
    "reducer = umap.UMAP(n_neighbors=n_neighbors, n_components=15, \n",
    "                    min_dist=0, metric=umap_metric, verbose=True, random_state=1)\n",
    "embedding = reducer.fit_transform(regional_ward_morphotopes_data)"
   ]
  },
  {
   "cell_type": "code",
   "execution_count": null,
   "id": "601ce7a0-9f3b-4dc3-a9ed-bf37b4deb67b",
   "metadata": {},
   "outputs": [],
   "source": []
  },
  {
   "cell_type": "code",
   "execution_count": null,
   "id": "71606862-2da2-41b0-a9f6-fe4de6eff4e7",
   "metadata": {},
   "outputs": [],
   "source": []
  },
  {
   "cell_type": "code",
   "execution_count": null,
   "id": "00cf2fb4-4f94-4f6b-a6be-7cd51963410e",
   "metadata": {},
   "outputs": [],
   "source": []
  },
  {
   "cell_type": "code",
   "execution_count": null,
   "id": "e194cf11-efef-41c3-98e3-69f8b0eef442",
   "metadata": {},
   "outputs": [],
   "source": []
  },
  {
   "cell_type": "code",
   "execution_count": 235,
   "id": "244349e7-758d-468f-bae0-f451fe03fb61",
   "metadata": {},
   "outputs": [],
   "source": [
    "# region_id = 4\n",
    "# data = read_region_morphotope_data(region_id)\n",
    "# linkage_matrix = get_morphotope_linkage(data)"
   ]
  },
  {
   "cell_type": "markdown",
   "id": "cf306442-cad5-40df-9d23-52bc0a78fe5e",
   "metadata": {},
   "source": [
    "### Final ward clustering"
   ]
  },
  {
   "cell_type": "code",
   "execution_count": 236,
   "id": "a1eefb1a-043e-47ba-b628-013310ec11b2",
   "metadata": {},
   "outputs": [],
   "source": [
    "linkage = 'ward'\n",
    "metric = 'euclidean'"
   ]
  },
  {
   "cell_type": "code",
   "execution_count": 237,
   "id": "ad40f219-7f32-4ca2-83c7-f5ba956dc969",
   "metadata": {},
   "outputs": [
    {
     "name": "stdout",
     "output_type": "stream",
     "text": [
      "CPU times: user 6.92 s, sys: 579 ms, total: 7.49 s\n",
      "Wall time: 7.43 s\n"
     ]
    }
   ],
   "source": [
    "%%time\n",
    "# linkage_matrix = get_morphotope_linkage(embedding)\n",
    "\n",
    "\n",
    "linkage_matrix = get_morphotope_linkage(regional_ward_morphotopes_data)"
   ]
  },
  {
   "cell_type": "code",
   "execution_count": 238,
   "id": "8ebe4e6e-081d-42ee-a62b-e2763c984c0f",
   "metadata": {},
   "outputs": [
    {
     "data": {
      "image/png": "[encoded data removed]",
      "text/plain": [
       "<Figure size 1000x1000 with 1 Axes>"
      ]
     },
     "metadata": {},
     "output_type": "display_data"
    }
   ],
   "source": [
    "## final dendrogram\n",
    "import matplotlib.pyplot as plt\n",
    "from scipy.cluster.hierarchy import dendrogram\n",
    "fig,ax = plt.subplots(figsize=(10,10))\n",
    "_ = dendrogram(linkage_matrix,ax=ax, no_labels=True)"
   ]
  },
  {
   "cell_type": "code",
   "execution_count": null,
   "id": "36c4e622-3132-4df9-b92a-1f6587967bf6",
   "metadata": {},
   "outputs": [],
   "source": []
  },
  {
   "cell_type": "code",
   "execution_count": null,
   "id": "dfe44a88-9bb3-4266-b734-904972f81533",
   "metadata": {},
   "outputs": [],
   "source": []
  },
  {
   "cell_type": "code",
   "execution_count": null,
   "id": "8b2f3e1c-42d1-4965-8c82-c0eaaf9ae941",
   "metadata": {},
   "outputs": [],
   "source": []
  },
  {
   "cell_type": "code",
   "execution_count": 265,
   "id": "8e590d62-2287-4ac7-be92-3aae380dcb86",
   "metadata": {},
   "outputs": [],
   "source": [
    "final_cutoff = 5"
   ]
  },
  {
   "cell_type": "code",
   "execution_count": null,
   "id": "f46f3459-8a19-42ee-ae8d-41c0207c3d85",
   "metadata": {
    "scrolled": true
   },
   "outputs": [],
   "source": [
    "clusters = fcluster(linkage_matrix, t=final_cutoff, criterion='distance')\n",
    "final_clusters = pd.Series(clusters, regional_ward_morphotopes_data.index)\n",
    "# clusters_description = regional_ward_morphotopes_data.groupby(final_clusters).mean()\n",
    "# clusters_description = grouped_data.groupby(final_clusters).mean()\n",
    "final_clusters.value_counts()"
   ]
  },
  {
   "cell_type": "code",
   "execution_count": null,
   "id": "f314839d-2904-4531-8470-6024b4d9fbd9",
   "metadata": {},
   "outputs": [],
   "source": []
  },
  {
   "cell_type": "code",
   "execution_count": null,
   "id": "76ce4e78-eeea-4a18-b3d0-b5c0e758f296",
   "metadata": {},
   "outputs": [],
   "source": []
  },
  {
   "cell_type": "code",
   "execution_count": null,
   "id": "1bcfa7bc-ae47-4ce8-8ac0-f0e18e3e7ae8",
   "metadata": {},
   "outputs": [],
   "source": []
  },
  {
   "cell_type": "code",
   "execution_count": null,
   "id": "4ea1bf4e-0baf-48ec-8a5b-8a55e813d19e",
   "metadata": {},
   "outputs": [],
   "source": []
  },
  {
   "cell_type": "markdown",
   "id": "c8363ec8-d01c-4a38-8414-18122ae8ffcd",
   "metadata": {},
   "source": [
    "### Plotting"
   ]
  },
  {
   "cell_type": "code",
   "execution_count": 278,
   "id": "a3684835-8efa-4698-853b-ac672f221792",
   "metadata": {},
   "outputs": [],
   "source": [
    "from core.cluster_validation import get_color\n",
    "final_colors = pd.DataFrame(get_color(final_clusters.values), final_clusters.values).drop_duplicates()\n",
    "final_colors.loc[-1] = [255,255,255]"
   ]
  },
  {
   "cell_type": "code",
   "execution_count": null,
   "id": "ac74c1d4-68b6-4df3-84ff-8644047448ba",
   "metadata": {},
   "outputs": [],
   "source": []
  },
  {
   "cell_type": "code",
   "execution_count": 279,
   "id": "84b39fd3-545e-44c4-b4c3-d0910e45d6db",
   "metadata": {},
   "outputs": [],
   "source": [
    "region_id = 69333 \n",
    "\n",
    "# region_id = 5883\n",
    "# region_id = 86873\n",
    "# region_id = 38679\n",
    "# region_id = 55763\n",
    "# region_id = 107131\n",
    "# region_id = 99886\n",
    "\n",
    "# region_id = 151676"
   ]
  },
  {
   "cell_type": "code",
   "execution_count": 280,
   "id": "96a2f1b7-cc7f-42fa-af4d-4639d52f5f4e",
   "metadata": {},
   "outputs": [],
   "source": [
    "# etcs=False to read buildings, etcs=True for tessellation cells.\n",
    "etcs = morphotopes_to_etcs(region_id, etcs=False, model_params=model_params)"
   ]
  },
  {
   "cell_type": "code",
   "execution_count": null,
   "id": "7953b3fb-7791-44ef-bf95-d012b5a89f36",
   "metadata": {},
   "outputs": [],
   "source": []
  },
  {
   "cell_type": "code",
   "execution_count": 281,
   "id": "f035b610-8863-4f6d-883c-71ad9ec6fbe3",
   "metadata": {},
   "outputs": [],
   "source": [
    "\n",
    "\n",
    "\n",
    "## relabel\n",
    "### regional_clusters = morphotopes -> regional_clusters\n",
    "### final_clusters = regional_clusters -> final_clusters\n",
    "etcs['final'] = etcs['morph'].map(lambda x: final_clusters.loc[regional_clusters.loc[x]] if x in regional_clusters else -1)\n",
    "etcs['regional'] = etcs['morph'].map(lambda x: regional_clusters.loc[x] if x in regional_clusters else \"-1\")\n"
   ]
  },
  {
   "cell_type": "code",
   "execution_count": 282,
   "id": "64f510f5-bcd6-4991-b0b4-a093d825cb87",
   "metadata": {},
   "outputs": [],
   "source": [
    "# ## can run this to change colors on an exisitng layer\n",
    "# layer.get_fill_color = get_color(etcs.final)"
   ]
  },
  {
   "cell_type": "code",
   "execution_count": null,
   "id": "527b448b-2787-4c05-8244-ad871b750dfe",
   "metadata": {},
   "outputs": [],
   "source": []
  },
  {
   "cell_type": "code",
   "execution_count": 283,
   "id": "72996a2c-49c4-47d4-a5f9-607ea6148316",
   "metadata": {},
   "outputs": [],
   "source": [
    "\n",
    "\n",
    "\n",
    "etcs['geometry'] = etcs.simplify(1).to_crs(epsg=4326).make_valid()\n",
    "etcs = etcs[etcs['geometry'].geom_type == 'Polygon']"
   ]
  },
  {
   "cell_type": "code",
   "execution_count": null,
   "id": "170e1f90-5051-41e9-9960-292327a51846",
   "metadata": {},
   "outputs": [],
   "source": []
  },
  {
   "cell_type": "code",
   "execution_count": 284,
   "id": "20df0ab1-9891-4a43-99a6-5d6d64946953",
   "metadata": {},
   "outputs": [
    {
     "name": "stdout",
     "output_type": "stream",
     "text": [
      "CPU times: user 1.04 s, sys: 114 ms, total: 1.16 s\n",
      "Wall time: 1.16 s\n"
     ]
    }
   ],
   "source": [
    "%%time\n",
    "import lonboard\n",
    "# plotting = tessellation[tessellation.index.isin(X_train.index)].copy()\n",
    "layer = lonboard.SolidPolygonLayer.from_geopandas(etcs, opacity=.7)"
   ]
  },
  {
   "cell_type": "code",
   "execution_count": 285,
   "id": "c2546eda-acf3-400e-a606-9c6e66fb0f98",
   "metadata": {},
   "outputs": [],
   "source": [
    "from sidecar import Sidecar\n",
    "sc = Sidecar(title=f'Final Clusters - {final_cutoff}')\n",
    "m = lonboard.Map(layer, basemap_style=lonboard.basemap.CartoBasemap.DarkMatter)\n",
    "with sc:\n",
    "    display(m)"
   ]
  },
  {
   "cell_type": "code",
   "execution_count": 286,
   "id": "2132ca43-075c-49c1-bf38-eba5ef11637b",
   "metadata": {},
   "outputs": [],
   "source": [
    "from core.cluster_validation import get_color\n",
    "layer.get_fill_color = final_colors.loc[etcs.final].values.astype('uint8')"
   ]
  },
  {
   "cell_type": "code",
   "execution_count": 276,
   "id": "76bfac0e-d24b-4fab-9318-ef918eec08e4",
   "metadata": {},
   "outputs": [],
   "source": [
    "# colorcodes = etcs['regional'].map(merged_clusters.to_dict()).fillna(-1)\n",
    "# layer.get_fill_color = merged_colors.loc[colorcodes].values.astype('uint8')\n",
    "# colorcodes.nunique()"
   ]
  },
  {
   "cell_type": "code",
   "execution_count": 251,
   "id": "25ef0cac-a5f6-4a86-b373-fb0b28a0be7f",
   "metadata": {},
   "outputs": [
    {
     "data": {
      "text/plain": [
       "(14,)"
      ]
     },
     "execution_count": 251,
     "metadata": {},
     "output_type": "execute_result"
    }
   ],
   "source": [
    "etcs.final.value_counts().shape"
   ]
  },
  {
   "cell_type": "code",
   "execution_count": null,
   "id": "6c9d3074-7bbe-4b58-90dd-b021c2d50bfc",
   "metadata": {},
   "outputs": [],
   "source": []
  },
  {
   "cell_type": "code",
   "execution_count": null,
   "id": "ff0d62f8-94b4-4f24-8322-cfb130ce7daa",
   "metadata": {},
   "outputs": [],
   "source": []
  },
  {
   "cell_type": "code",
   "execution_count": null,
   "id": "ea3a7c0d-b6fd-468f-8e70-b089cc85147c",
   "metadata": {},
   "outputs": [],
   "source": []
  },
  {
   "cell_type": "markdown",
   "id": "24bf692f-b863-4b5f-a1c6-f3b5d011316b",
   "metadata": {},
   "source": [
    "### Interactive dendro"
   ]
  },
  {
   "cell_type": "code",
   "execution_count": 49,
   "id": "07c637cd-f1a7-4b67-bbb8-ff2d6981deb1",
   "metadata": {},
   "outputs": [],
   "source": [
    "from core import interactive_dendrogram\n",
    "import jscatter\n",
    "import ipywidgets\n",
    "\n",
    "scatter_df = interactive_dendrogram.get_dendrogram_scatter_data(linkage_matrix)"
   ]
  },
  {
   "cell_type": "code",
   "execution_count": 50,
   "id": "c8945a1d-9038-49b6-82ca-9be0d916ae60",
   "metadata": {},
   "outputs": [],
   "source": [
    "# selected_node = scatter.selection()[0]\n",
    "\n",
    "\n",
    "\n",
    "# children_ids = interactive_dendrogram.get_children(\n",
    "#     linkage_matrix, scatter_df.loc[selected_node, 'child'].astype(int), scatter_df.loc[selected_node, 'parent'].astype(int))\n",
    "# children_morphotopes = regional_ward_morphotopes_data.iloc[children_ids].index\n",
    "\n",
    "\n",
    "# idxs = children_morphotopes\n",
    "# cluster_colors = np.full((etcs.shape[0], 3), 0)\n",
    "# cluster_colors[etcs.regional.isin(idxs)] = [255, 255, 255]\n",
    "# layer.get_fill_color = cluster_colors.astype('uint8')\n",
    "\n",
    "def get_subcluster_children(focus):\n",
    "    child, parent = linkage_matrix[focus - n, 0].astype(int), linkage_matrix[focus - n, 1].astype(int)\n",
    "    children_ids = interactive_dendrogram.get_children(linkage_matrix, child, parent)\n",
    "    children_morphotopes = regional_ward_morphotopes_data.iloc[children_ids].index\n",
    "    return children_morphotopes\n"
   ]
  },
  {
   "cell_type": "code",
   "execution_count": 51,
   "id": "db97e05e-1c6d-4334-bd3a-2358751552d9",
   "metadata": {},
   "outputs": [
    {
     "data": {
      "application/vnd.jupyter.widget-view+json": {
       "model_id": "5056249fc7124efcadc44923b23977ee",
       "version_major": 2,
       "version_minor": 0
      },
      "text/plain": [
       "HBox(children=(VBox(children=(Button(button_style='primary', icon='arrows', layout=Layout(width='36px'), style…"
      ]
     },
     "execution_count": 51,
     "metadata": {},
     "output_type": "execute_result"
    }
   ],
   "source": [
    "scatter = jscatter.Scatter(data=scatter_df, x='x', y='y', connect='group1', height=640, width=1280)\n",
    "scatter.axes(grid=True)\n",
    "scatter.connect(by='group1', order='order1')\n",
    "click_history = dict()\n",
    "# output = ipywidgets.Output()\n",
    "\n",
    "# @output.capture(clear_output=True)\n",
    "# def selection_change_handler(change):\n",
    "#     display(scatter_df.loc[change.new].style.hide(axis='index'))\n",
    "            \n",
    "# scatter.widget.observe(selection_change_handler, names=[\"selection\"])\n",
    "\n",
    "# ipywidgets.HBox([scatter.show(), output])\n",
    "scatter.show()"
   ]
  },
  {
   "cell_type": "code",
   "execution_count": 139,
   "id": "154d24bd-0ea1-4184-87f4-d6dda1427449",
   "metadata": {},
   "outputs": [],
   "source": [
    "selected_node = scatter.selection()[0]\n",
    "\n",
    "n = linkage_matrix.shape[0] + 1\n",
    "\n",
    "left = scatter_df.loc[selected_node, 'child'].astype(int)\n",
    "right = scatter_df.loc[selected_node, 'parent'].astype(int)\n",
    "\n",
    "left_children = get_subcluster_children(left)\n",
    "right_children = get_subcluster_children(right)\n",
    "\n",
    "cluster_colors = np.full((etcs.shape[0], 3), 0) # everything black\n",
    "cluster_colors[etcs.regional.isin(left_children)] = [141,211,199] # left blue - 1\n",
    "cluster_colors[etcs.regional.isin(right_children)] = [255,255,179] # right yellow - 2\n",
    "layer.get_fill_color = cluster_colors.astype('uint8')"
   ]
  },
  {
   "cell_type": "code",
   "execution_count": 125,
   "id": "318b5f55-b82e-4609-99da-13551ede30da",
   "metadata": {},
   "outputs": [
    {
     "data": {
      "text/plain": [
       "ssbCor   -0.229274\n",
       "mtbAli   -0.175955\n",
       "stbSAl   -0.167685\n",
       "linP3W   -0.163674\n",
       "ssbERI    0.157657\n",
       "sdsLen   -0.154290\n",
       "mtdMDi   -0.146396\n",
       "ldsAre   -0.135896\n",
       "sscERI    0.135614\n",
       "sssLin    0.135501\n",
       "ssbCCD   -0.134681\n",
       "midAre   -0.131671\n",
       "mibERI    0.127515\n",
       "xcnSCl    0.126449\n",
       "mibCCo   -0.121692\n",
       "linWID    0.121122\n",
       "ldsMSL   -0.119231\n",
       "mibElo   -0.117451\n",
       "lddNDe    0.113887\n",
       "sdsAre   -0.113224\n",
       "dtype: float64"
      ]
     },
     "execution_count": 125,
     "metadata": {},
     "output_type": "execute_result"
    }
   ],
   "source": [
    "left_data = regional_ward_morphotopes_data.loc[left_children].mean()\n",
    "right_data = regional_ward_morphotopes_data.loc[right_children].mean()\n",
    "# assert np.isclose(pd.DataFrame({1:left_data, 2: right_data}).T.values, clusters_description.values).all()\n",
    "\n",
    "diffs = (left_data - right_data)\n",
    "diffs = diffs[(diffs ** 2).sort_values(ascending=False).index].head(20)\n",
    "diffs"
   ]
  },
  {
   "cell_type": "code",
   "execution_count": 126,
   "id": "c3dd4054-751e-4423-acac-6b5e3774386d",
   "metadata": {},
   "outputs": [
    {
     "data": {
      "text/plain": [
       "np.uint32(11822)"
      ]
     },
     "execution_count": 126,
     "metadata": {},
     "output_type": "execute_result"
    }
   ],
   "source": [
    "selected_node"
   ]
  },
  {
   "cell_type": "code",
   "execution_count": 127,
   "id": "8f79878f-5801-4cae-a0e1-d041f79c1618",
   "metadata": {},
   "outputs": [
    {
     "data": {
      "text/plain": [
       "'local node density of street network'"
      ]
     },
     "execution_count": 127,
     "metadata": {},
     "output_type": "execute_result"
    }
   ],
   "source": [
    "used_keys['lddNDe']"
   ]
  },
  {
   "cell_type": "code",
   "execution_count": 128,
   "id": "93cb6169-ca63-43d5-b9fb-71d5113d526d",
   "metadata": {},
   "outputs": [],
   "source": [
    "## save for cutting...\n",
    "click_history[selected_node] = diffs"
   ]
  },
  {
   "cell_type": "code",
   "execution_count": null,
   "id": "8f84cf37-0af1-4942-ba5e-95e56a3f3d63",
   "metadata": {},
   "outputs": [],
   "source": []
  },
  {
   "cell_type": "code",
   "execution_count": null,
   "id": "2456a99d-3a2a-4a00-b9b1-e1b3f130ef56",
   "metadata": {},
   "outputs": [],
   "source": []
  },
  {
   "cell_type": "code",
   "execution_count": null,
   "id": "b17afeef-675b-4023-94d5-d19634681572",
   "metadata": {},
   "outputs": [],
   "source": []
  },
  {
   "cell_type": "code",
   "execution_count": 129,
   "id": "1e78fc65-d213-4fda-8e94-4fe6c15d3aae",
   "metadata": {},
   "outputs": [],
   "source": [
    "## assign clusters"
   ]
  },
  {
   "cell_type": "code",
   "execution_count": 130,
   "id": "7fb98fef-5ede-42bc-9407-b0f50f9b7697",
   "metadata": {},
   "outputs": [],
   "source": [
    "final_cutoff = 120\n",
    "clusters = fcluster(linkage_matrix, t=final_cutoff, criterion='distance')\n",
    "final_clusters = pd.Series(clusters, regional_ward_morphotopes_data.index)\n",
    "\n",
    "grouping = pd.DataFrame()\n",
    "grouping[final_cutoff] = final_clusters.astype(str)"
   ]
  },
  {
   "cell_type": "code",
   "execution_count": 165,
   "id": "4fc308bf-d171-4023-a96a-6061b62b2a7c",
   "metadata": {},
   "outputs": [
    {
     "data": {
      "text/plain": [
       "dict_keys([np.uint32(21299), np.uint32(21304), np.uint32(13098), np.uint32(13097), np.uint32(33132), np.uint32(11822)])"
      ]
     },
     "execution_count": 165,
     "metadata": {},
     "output_type": "execute_result"
    }
   ],
   "source": [
    "# for selected_node in [6421, 6887, 28557, 15017, 35908]: - hierarchy without lithuania\n",
    "\n",
    "\n",
    "for selected_node in click_history.keys():\n",
    "    left = scatter_df.loc[selected_node, 'child'].astype(int)\n",
    "    right = scatter_df.loc[selected_node, 'parent'].astype(int)\n",
    "    \n",
    "    left_children = get_subcluster_children(left)\n",
    "    right_children = get_subcluster_children(right)\n",
    "    \n",
    "    grouping.loc[left_children, round(scatter_df.loc[selected_node, 'dist'], 2)] = str(selected_node) + '1'\n",
    "    grouping.loc[right_children, round(scatter_df.loc[selected_node, 'dist'], 2)] = str(selected_node) + '2'\n",
    "\n",
    "click_history.keys()"
   ]
  },
  {
   "cell_type": "code",
   "execution_count": 132,
   "id": "a649535b-141d-4462-bb34-3b340ecac1fc",
   "metadata": {},
   "outputs": [],
   "source": [
    "ordered_columns = grouping.columns.sort_values()\n",
    "grouping = grouping[ordered_columns]\n",
    "\n",
    "# forward cluster breakdowns to higher levels\n",
    "for i, col in enumerate(ordered_columns[:-1]):\n",
    "    grouping.iloc[grouping[col].notna().values, i + 1] = grouping.loc[grouping[col].notna(), col]  "
   ]
  },
  {
   "cell_type": "code",
   "execution_count": null,
   "id": "09c3d3ad-72f8-4760-b252-57d7983ea89c",
   "metadata": {},
   "outputs": [],
   "source": []
  },
  {
   "cell_type": "code",
   "execution_count": 134,
   "id": "31ca3561-832a-4322-9f3b-14ef1fd6cdd8",
   "metadata": {},
   "outputs": [],
   "source": [
    "merged_clusters = grouping[120.00]\n",
    "merged_clusters = pd.Series(merged_clusters.factorize()[0], merged_clusters.index)"
   ]
  },
  {
   "cell_type": "code",
   "execution_count": 135,
   "id": "b46cd10b-d4af-42a9-a702-72814896342f",
   "metadata": {},
   "outputs": [],
   "source": [
    "merged_colors = pd.DataFrame(get_color(merged_clusters.values), merged_clusters.values).drop_duplicates()\n",
    "merged_colors.loc[-1] = [255,255,255]"
   ]
  },
  {
   "cell_type": "code",
   "execution_count": 140,
   "id": "00c38861-b0af-4fc8-9a74-8eaa7a1cfdcc",
   "metadata": {},
   "outputs": [],
   "source": [
    "colorcodes = etcs['regional'].map(merged_clusters.to_dict()).fillna(-1)\n",
    "layer.get_fill_color = merged_colors.loc[colorcodes].values.astype('uint8')"
   ]
  },
  {
   "cell_type": "code",
   "execution_count": 204,
   "id": "9c198691-4e1b-4b09-9f30-d9e4a21e2f03",
   "metadata": {},
   "outputs": [
    {
     "data": {
      "text/plain": [
       "dict_keys([np.uint32(21299), np.uint32(21304), np.uint32(13098), np.uint32(13097), np.uint32(33132), np.uint32(11822)])"
      ]
     },
     "execution_count": 204,
     "metadata": {},
     "output_type": "execute_result"
    }
   ],
   "source": [
    "click_history.keys()"
   ]
  },
  {
   "cell_type": "code",
   "execution_count": 141,
   "id": "9926731a-b552-474a-9f9a-bac0c10de2cb",
   "metadata": {},
   "outputs": [
    {
     "data": {
      "text/plain": [
       "13"
      ]
     },
     "execution_count": 141,
     "metadata": {},
     "output_type": "execute_result"
    }
   ],
   "source": [
    "merged_clusters.nunique()"
   ]
  },
  {
   "cell_type": "code",
   "execution_count": null,
   "id": "b8dc93f2-365d-4b60-8f00-6cde0052cc16",
   "metadata": {},
   "outputs": [],
   "source": []
  },
  {
   "cell_type": "code",
   "execution_count": null,
   "id": "302897d2-583e-40e7-9037-d3eb50bf6b01",
   "metadata": {},
   "outputs": [],
   "source": []
  },
  {
   "cell_type": "code",
   "execution_count": null,
   "id": "36e72701-6ba6-4ce3-993d-b25c9afdbbda",
   "metadata": {},
   "outputs": [],
   "source": []
  },
  {
   "cell_type": "code",
   "execution_count": null,
   "id": "c12f8f3f-2cda-4b47-aaf2-e33c8ffe8d65",
   "metadata": {},
   "outputs": [],
   "source": []
  },
  {
   "cell_type": "code",
   "execution_count": null,
   "id": "55709922-a78a-43a3-a471-263e2190810a",
   "metadata": {},
   "outputs": [],
   "source": []
  },
  {
   "cell_type": "code",
   "execution_count": 183,
   "id": "59545974-c24b-41f6-af31-7d205e44d4fa",
   "metadata": {},
   "outputs": [
    {
     "data": {
      "text/plain": [
       "Index(['100210_10', '100342_18', '100342_19', '101313_1', '101574_1',\n",
       "       '101992_10', '102127_13', '102262_42', '102801_8', '102939_2',\n",
       "       ...\n",
       "       '97745_1', '97745_2', '97978_10', '98107_9', '98660_19', '98716_12',\n",
       "       '98958_2', '99865_28', '99886_6', '99886_7'],\n",
       "      dtype='object', length=233)"
      ]
     },
     "execution_count": 183,
     "metadata": {},
     "output_type": "execute_result"
    }
   ],
   "source": [
    "left_children"
   ]
  },
  {
   "cell_type": "code",
   "execution_count": 184,
   "id": "18a84195-6352-4abf-beb7-da6584b80d1d",
   "metadata": {},
   "outputs": [
    {
     "data": {
      "text/plain": [
       "Index(['100210_11', '100342_14', '100342_15', '102127_12', '102262_44',\n",
       "       '102801_7', '102814_9', '102939_1', '103561_13', '103561_15',\n",
       "       ...\n",
       "       '96465_3', '96727_6', '97745_3', '97745_5', '97745_6', '97745_7',\n",
       "       '98107_7', '98628_9', '98716_2', '98958_5'],\n",
       "      dtype='object', length=223)"
      ]
     },
     "execution_count": 184,
     "metadata": {},
     "output_type": "execute_result"
    }
   ],
   "source": [
    "right_children"
   ]
  },
  {
   "cell_type": "code",
   "execution_count": null,
   "id": "55e40510-05f9-4bd1-898b-30795bde8f5b",
   "metadata": {},
   "outputs": [],
   "source": []
  },
  {
   "cell_type": "code",
   "execution_count": 55,
   "id": "49e3f4d2-c3c0-4764-a4cf-3f83dea309ee",
   "metadata": {
    "scrolled": true
   },
   "outputs": [
    {
     "data": {
      "text/plain": [
       "349    180\n",
       "291    158\n",
       "31     156\n",
       "251    154\n",
       "15     142\n",
       "      ... \n",
       "322     19\n",
       "111     19\n",
       "152     17\n",
       "313     17\n",
       "149     16\n",
       "Name: count, Length: 360, dtype: int64"
      ]
     },
     "execution_count": 55,
     "metadata": {},
     "output_type": "execute_result"
    }
   ],
   "source": [
    "clusters = fcluster(linkage_matrix, t=final_cutoff, criterion='distance')\n",
    "final_clusters = pd.Series(clusters, regional_ward_morphotopes_data.index)\n",
    "clusters_description = regional_ward_morphotopes_data.groupby(final_clusters).mean()\n",
    "# clusters_description = grouped_data.groupby(final_clusters).mean()\n",
    "final_clusters.value_counts()"
   ]
  },
  {
   "cell_type": "code",
   "execution_count": 147,
   "id": "21c888bc-42c3-44f5-988e-2324b1a41cb8",
   "metadata": {},
   "outputs": [],
   "source": []
  },
  {
   "cell_type": "code",
   "execution_count": 56,
   "id": "58b160e8-ef89-4e68-a801-3aeb9ccfe105",
   "metadata": {},
   "outputs": [],
   "source": [
    "multiple_clusters = pd.DataFrame()"
   ]
  },
  {
   "cell_type": "code",
   "execution_count": 57,
   "id": "fc79919b-d8ae-4c5f-9635-d11d594520ac",
   "metadata": {},
   "outputs": [],
   "source": [
    "multiple_clusters[selected_node] = final_clusters"
   ]
  },
  {
   "cell_type": "code",
   "execution_count": null,
   "id": "6b41a340-0fb3-4dc9-a5bc-8fb61f615154",
   "metadata": {},
   "outputs": [],
   "source": []
  },
  {
   "cell_type": "code",
   "execution_count": null,
   "id": "81b5e2ed-20dd-44ba-ac6e-59ca53aacb9f",
   "metadata": {},
   "outputs": [],
   "source": []
  },
  {
   "cell_type": "code",
   "execution_count": null,
   "id": "e10e6cae-1f7c-4293-bbd8-af901fa406e2",
   "metadata": {},
   "outputs": [],
   "source": []
  },
  {
   "cell_type": "code",
   "execution_count": null,
   "id": "658a4c25-b864-48bb-a3ba-5707a211d7f4",
   "metadata": {},
   "outputs": [],
   "source": []
  },
  {
   "cell_type": "code",
   "execution_count": null,
   "id": "4e45304b-3362-4474-a7ee-18da8241bb27",
   "metadata": {},
   "outputs": [],
   "source": []
  },
  {
   "cell_type": "code",
   "execution_count": null,
   "id": "a94c62f3-f4b4-42a9-8c2a-096532e62309",
   "metadata": {},
   "outputs": [],
   "source": []
  },
  {
   "cell_type": "code",
   "execution_count": null,
   "id": "a1f9ecad-e616-44c4-a6b6-096342f493e2",
   "metadata": {},
   "outputs": [],
   "source": []
  },
  {
   "cell_type": "code",
   "execution_count": null,
   "id": "7cee7f49-6044-4966-bd57-21d8d0c32533",
   "metadata": {},
   "outputs": [],
   "source": []
  },
  {
   "cell_type": "code",
   "execution_count": 523,
   "id": "8b42b502-f9d9-4113-b2dc-5fe3f67ca0c0",
   "metadata": {},
   "outputs": [],
   "source": [
    "from sklearn.neighbors import KDTree"
   ]
  },
  {
   "cell_type": "code",
   "execution_count": 524,
   "id": "f54789ea-b9c6-43a5-85cc-2d0b9e538843",
   "metadata": {},
   "outputs": [],
   "source": [
    "tree = KDTree(regional_ward_morphotopes_data.values)"
   ]
  },
  {
   "cell_type": "code",
   "execution_count": 527,
   "id": "85940f8e-2742-4ccb-90e8-c096bb334dd4",
   "metadata": {},
   "outputs": [],
   "source": [
    "dists, idxs = tree.query(regional_ward_morphotopes_data.loc[['69333_66']], k=100)"
   ]
  },
  {
   "cell_type": "code",
   "execution_count": 528,
   "id": "f2f35f17-1a41-496a-b24d-f0affa4589a9",
   "metadata": {},
   "outputs": [
    {
     "data": {
      "text/plain": [
       "Index(['69333_66', '62954_18', '114311_66', '35141_1', '97745_5', '78792_11',\n",
       "       '1154_19', '109491_60', '105385_4', '107131_445', '97745_3',\n",
       "       '105090_15', '78938_32', '93793_17', '72396_10', '61183_2', '116866_31',\n",
       "       '107131_447', '86873_39', '67156_11', '62954_16', '83538_29',\n",
       "       '80404_68', '18557_91', '51289_3', '130658_17', '64220_42', '75642_5',\n",
       "       '62193_4', '90196_6', '87947_3', '93167_16', '73611_9', '107131_441',\n",
       "       '114311_65', '84554_38', '108884_27', '1154_18', '61187_17',\n",
       "       '109491_63', '110908_2', '103561_13', '107131_456', '90770_55',\n",
       "       '67803_4', '93504_7', '82514_3', '120961_8', '114311_64', '78938_31',\n",
       "       '53525_2', '86863_4', '116866_32', '97745_6', '90075_1', '93793_10',\n",
       "       '103713_6', '88950_2', '96465_1', '97978_10', '84962_7', '128286_16',\n",
       "       '93167_15', '109491_59', '80313_11', '102814_9', '84420_6', '55763_24',\n",
       "       '85156_4', '89921_2', '72507_21', '76038_20', '129730_34', '82773_14',\n",
       "       '96727_11', '75472_39', '68265_18', '89586_12', '91011_11', '67279_3',\n",
       "       '90196_7', '64220_7', '93167_14', '93793_45', '87947_4', '69333_64',\n",
       "       '56184_8', '55763_23', '109491_62', '102801_8', '87615_8', '86863_5',\n",
       "       '63756_2', '93793_18', '105385_2', '64463_13', '131824_5', '98716_2',\n",
       "       '4_895', '102262_42'],\n",
       "      dtype='object')"
      ]
     },
     "execution_count": 528,
     "metadata": {},
     "output_type": "execute_result"
    }
   ],
   "source": [
    "regional_ward_morphotopes_data.iloc[idxs[0]].index"
   ]
  },
  {
   "cell_type": "code",
   "execution_count": null,
   "id": "8efa7e4b-607f-43a2-a07c-ea2be5a0a209",
   "metadata": {},
   "outputs": [],
   "source": []
  },
  {
   "cell_type": "code",
   "execution_count": 139,
   "id": "06ee9724-6e58-4dd9-92f6-ff67a4a784dd",
   "metadata": {},
   "outputs": [],
   "source": [
    "# etcs[etcs.regional == '69333_64'].explore()"
   ]
  },
  {
   "cell_type": "code",
   "execution_count": null,
   "id": "dad21d25-bd56-4036-9481-d9c4407e75f3",
   "metadata": {},
   "outputs": [],
   "source": []
  }
 ],
 "metadata": {
  "kernelspec": {
   "display_name": "Python 3 (ipykernel)",
   "language": "python",
   "name": "python3"
  },
  "language_info": {
   "codemirror_mode": {
    "name": "ipython",
    "version": 3
   },
   "file_extension": ".py",
   "mimetype": "text/x-python",
   "name": "python",
   "nbconvert_exporter": "python",
   "pygments_lexer": "ipython3",
   "version": "3.12.5"
  }
 },
 "nbformat": 4,
 "nbformat_minor": 5
}
