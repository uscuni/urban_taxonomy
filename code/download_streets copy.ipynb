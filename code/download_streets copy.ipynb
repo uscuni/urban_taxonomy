{
 "cells": [
  {
   "cell_type": "markdown",
   "id": "bf35d469",
   "metadata": {},
   "source": [
    "# Download street network\n",
    "\n",
    "Download street network data from Overture Maps."
   ]
  },
  {
   "cell_type": "code",
   "execution_count": 4,
   "id": "4ae802cb-91a5-4cf6-bf4f-21c79c2e82e8",
   "metadata": {},
   "outputs": [],
   "source": [
    "from core.generate_streets import read_overture_region_streets\n",
    "\n",
    "import glob\n",
    "\n",
    "import geopandas as gpd\n",
    "import datetime"
   ]
  },
  {
   "cell_type": "code",
   "execution_count": null,
   "id": "ef1818de-b68c-41c8-a26f-e39852eac21e",
   "metadata": {},
   "outputs": [],
   "source": [
    "regions_v = \"2\""
   ]
  },
  {
   "cell_type": "markdown",
   "id": "ec4ecd0b-c82c-40c7-a7a3-bf764e259c42",
   "metadata": {},
   "source": [
    "## Run sequentially for all streets"
   ]
  },
  {
   "cell_type": "code",
   "execution_count": 6,
   "id": "68d21052-7ee4-467d-bd32-b669c7ca9a7e",
   "metadata": {},
   "outputs": [],
   "source": [
    "streets_dir = \"/data/uscuni-ulce/overture_streets/\"\n",
    "regions_datadir = \"/data/uscuni-ulce/\""
   ]
  },
  {
   "cell_type": "code",
   "execution_count": 7,
   "id": "0933fcf8-d211-49c8-93ce-d759de99cbce",
   "metadata": {},
   "outputs": [
    {
     "data": {
      "text/plain": [
       "(856, 1)"
      ]
     },
     "execution_count": 7,
     "metadata": {},
     "output_type": "execute_result"
    }
   ],
   "source": [
    "region_hulls = gpd.read_parquet(\n",
    "    regions_datadir + \"regions/\" + f\"region_hulls_v{regions_v}.parquet\"\n",
    ")\n",
    "region_hulls.shape"
   ]
  },
  {
   "cell_type": "markdown",
   "id": "4bb53de5-f10a-4723-bc7e-d2f2555255a1",
   "metadata": {},
   "source": [
    "## Run in parallel for all non-procesed streets in region_hulls"
   ]
  },
  {
   "cell_type": "code",
   "execution_count": 8,
   "id": "b7a4d373-6fa3-4c62-8dbd-ad2cdae89586",
   "metadata": {},
   "outputs": [],
   "source": [
    "def process_and_save(region_hull, region_id):\n",
    "    print(\"Processing\", region_id, datetime.datetime.now())\n",
    "    streets = read_overture_region_streets(region_hull, region_id)\n",
    "    streets.to_parquet(streets_dir + f\"streets_{region_id}.pq\")"
   ]
  },
  {
   "cell_type": "code",
   "execution_count": null,
   "id": "511667ed-559e-4086-80a4-681a51e6f5d6",
   "metadata": {},
   "outputs": [],
   "source": []
  },
  {
   "cell_type": "code",
   "execution_count": 9,
   "id": "cae70fac-9fad-4f28-8c7c-901c58e66af0",
   "metadata": {},
   "outputs": [],
   "source": [
    "downloaded_streets = glob.glob(streets_dir + \"*.pq\")\n",
    "downloaded_streets = [int(s.split(\"_\")[-1][:-3]) for s in downloaded_streets]"
   ]
  },
  {
   "cell_type": "code",
   "execution_count": 10,
   "id": "a350eeaf-0056-4377-9ecd-3ab5641d4c13",
   "metadata": {},
   "outputs": [
    {
     "data": {
      "text/html": [
       "<div>\n",
       "<style scoped>\n",
       "    .dataframe tbody tr th:only-of-type {\n",
       "        vertical-align: middle;\n",
       "    }\n",
       "\n",
       "    .dataframe tbody tr th {\n",
       "        vertical-align: top;\n",
       "    }\n",
       "\n",
       "    .dataframe thead th {\n",
       "        text-align: right;\n",
       "    }\n",
       "</style>\n",
       "<table border=\"1\" class=\"dataframe\">\n",
       "  <thead>\n",
       "    <tr style=\"text-align: right;\">\n",
       "      <th></th>\n",
       "      <th>convex_hull</th>\n",
       "    </tr>\n",
       "    <tr>\n",
       "      <th>labels</th>\n",
       "      <th></th>\n",
       "    </tr>\n",
       "  </thead>\n",
       "  <tbody>\n",
       "    <tr>\n",
       "      <th>153512</th>\n",
       "      <td>POLYGON ((3960400 2975800, 3953200 2976800, 39...</td>\n",
       "    </tr>\n",
       "    <tr>\n",
       "      <th>153650</th>\n",
       "      <td>POLYGON ((3866100 3061900, 3860400 3062200, 38...</td>\n",
       "    </tr>\n",
       "    <tr>\n",
       "      <th>153752</th>\n",
       "      <td>POLYGON ((3863100 3136800, 3861000 3140800, 38...</td>\n",
       "    </tr>\n",
       "    <tr>\n",
       "      <th>153804</th>\n",
       "      <td>POLYGON ((3871800 3135900, 3870200 3136600, 38...</td>\n",
       "    </tr>\n",
       "    <tr>\n",
       "      <th>154059</th>\n",
       "      <td>POLYGON ((3908500 2998500, 3905000 2999000, 39...</td>\n",
       "    </tr>\n",
       "    <tr>\n",
       "      <th>154947</th>\n",
       "      <td>POLYGON ((3976100 3073900, 3975200 3074300, 39...</td>\n",
       "    </tr>\n",
       "    <tr>\n",
       "      <th>155610</th>\n",
       "      <td>POLYGON ((4008200 3082200, 4007700 3082300, 40...</td>\n",
       "    </tr>\n",
       "    <tr>\n",
       "      <th>155668</th>\n",
       "      <td>POLYGON ((3992700 2941700, 3963300 2974900, 39...</td>\n",
       "    </tr>\n",
       "    <tr>\n",
       "      <th>155971</th>\n",
       "      <td>POLYGON ((4044900 3009300, 4030900 3009600, 40...</td>\n",
       "    </tr>\n",
       "  </tbody>\n",
       "</table>\n",
       "</div>"
      ],
      "text/plain": [
       "                                              convex_hull\n",
       "labels                                                   \n",
       "153512  POLYGON ((3960400 2975800, 3953200 2976800, 39...\n",
       "153650  POLYGON ((3866100 3061900, 3860400 3062200, 38...\n",
       "153752  POLYGON ((3863100 3136800, 3861000 3140800, 38...\n",
       "153804  POLYGON ((3871800 3135900, 3870200 3136600, 38...\n",
       "154059  POLYGON ((3908500 2998500, 3905000 2999000, 39...\n",
       "154947  POLYGON ((3976100 3073900, 3975200 3074300, 39...\n",
       "155610  POLYGON ((4008200 3082200, 4007700 3082300, 40...\n",
       "155668  POLYGON ((3992700 2941700, 3963300 2974900, 39...\n",
       "155971  POLYGON ((4044900 3009300, 4030900 3009600, 40..."
      ]
     },
     "execution_count": 10,
     "metadata": {},
     "output_type": "execute_result"
    }
   ],
   "source": [
    "region_hulls = region_hulls.loc[~region_hulls.index.isin(downloaded_streets),]\n",
    "region_hulls"
   ]
  },
  {
   "cell_type": "code",
   "execution_count": 11,
   "id": "c257cdc5-8b3b-43f1-a04f-e313718f9086",
   "metadata": {},
   "outputs": [
    {
     "name": "stdout",
     "output_type": "stream",
     "text": [
      "Processing 154947 2025-05-22 11:23:29.469840\n",
      "Processing 153752 2025-05-22 11:23:29.440707\n",
      "Processing 153804 2025-05-22 11:23:29.440341\n",
      "Processing 155610 2025-05-22 11:23:29.455326\n",
      "Processing 154059 2025-05-22 11:23:29.464036\n",
      "Processing 155668 2025-05-22 11:23:29.450969\n",
      "Processing 155971 2025-05-22 11:23:29.478108\n",
      "Processing 153650 2025-05-22 11:23:29.729198\n"
     ]
    }
   ],
   "source": [
    "%%capture cap\n",
    "\n",
    "from joblib import Parallel, delayed\n",
    "\n",
    "n_jobs = -1\n",
    "new = Parallel(n_jobs=n_jobs)(\n",
    "    delayed(process_and_save)(region_hull.iloc[0], region_id)\n",
    "    for region_id, region_hull in region_hulls.to_crs(epsg=4326).iterrows()\n",
    ")"
   ]
  },
  {
   "cell_type": "code",
   "execution_count": null,
   "id": "344b1f6f-5993-4ad7-ba27-56d8370ee765",
   "metadata": {},
   "outputs": [],
   "source": []
  },
  {
   "cell_type": "code",
   "execution_count": 12,
   "id": "ecaed315-2000-4a15-8d26-925a50d1f2f5",
   "metadata": {},
   "outputs": [],
   "source": [
    "gdf = gpd.read_parquet(streets_dir + f\"streets_{153804}.pq\")"
   ]
  },
  {
   "cell_type": "code",
   "execution_count": null,
   "id": "791480b3-b12c-49b8-b453-25c7734f34ef",
   "metadata": {},
   "outputs": [
    {
     "name": "stdout",
     "output_type": "stream",
     "text": [
      "Processing 153512 2025-05-22 11:23:29.496504\n"
     ]
    }
   ],
   "source": [
    "gdf.explore()"
   ]
  },
  {
   "cell_type": "code",
   "execution_count": 21,
   "id": "ff0990ab-c6b2-4e98-94ad-ba55a22e5390",
   "metadata": {},
   "outputs": [
    {
     "data": {
      "text/plain": [
       "'/home/krasen/urban_taxonomy/.pixi/envs/default/lib/python3.12/site-packages/joblib/externals/loky/process_executor.py:752: UserWarning: A worker stopped while some jobs were given to the executor. This can be caused by a too short worker timeout or by a memory leak.\\n  warnings.warn(\\n'"
      ]
     },
     "execution_count": 21,
     "metadata": {},
     "output_type": "execute_result"
    }
   ],
   "source": [
    "cap.stderr"
   ]
  }
 ],
 "metadata": {
  "kernelspec": {
   "display_name": "Python 3 (ipykernel)",
   "language": "python",
   "name": "python3"
  },
  "language_info": {
   "codemirror_mode": {
    "name": "ipython",
    "version": 3
   },
   "file_extension": ".py",
   "mimetype": "text/x-python",
   "name": "python",
   "nbconvert_exporter": "python",
   "pygments_lexer": "ipython3",
   "version": "3.12.10"
  }
 },
 "nbformat": 4,
 "nbformat_minor": 5
}
