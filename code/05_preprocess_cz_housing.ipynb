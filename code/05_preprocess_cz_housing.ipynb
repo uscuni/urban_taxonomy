{
 "cells": [
  {
   "cell_type": "markdown",
   "id": "6f972f14",
   "metadata": {},
   "source": [
    "# Pre-process Czech housing estates\n",
    "\n",
    "The data is extremely heterogenous. We use additional data to pre-process it prior morphological assessment."
   ]
  },
  {
   "cell_type": "code",
   "execution_count": 1,
   "id": "38aae768-83fc-42e2-868b-c77f2802ad61",
   "metadata": {},
   "outputs": [],
   "source": [
    "import geopandas as gpd\n",
    "import pandas as pd\n",
    "import numpy as np"
   ]
  },
  {
   "cell_type": "markdown",
   "id": "5d4edae6-8921-4bc4-9496-0d967ef9df26",
   "metadata": {},
   "source": [
    "### Generate a GeoDataFrame that covers the socialist housing developments"
   ]
  },
  {
   "cell_type": "code",
   "execution_count": 2,
   "id": "1c247e76-ee4b-467e-8f85-78f26eb3b571",
   "metadata": {},
   "outputs": [
    {
     "name": "stdout",
     "output_type": "stream",
     "text": [
      "HEs_delimitation.xlsx  ZSJ_2013.sbn\t ZSJ_2016.cpg  ZSJ_2016.shp\n",
      "prague\t\t       ZSJ_2013.sbx\t ZSJ_2016.dbf  ZSJ_2016.shp.xml\n",
      "ZSJ_2013.cpg\t       ZSJ_2013.shp\t ZSJ_2016.prj  ZSJ_2016.shx\n",
      "ZSJ_2013.dbf\t       ZSJ_2013.shp.xml  ZSJ_2016.sbn\n",
      "ZSJ_2013.prj\t       ZSJ_2013.shx\t ZSJ_2016.sbx\n"
     ]
    }
   ],
   "source": [
    "!ls /data/uscuni-ulce/additional_data/housing_estates_locations"
   ]
  },
  {
   "cell_type": "code",
   "execution_count": 3,
   "id": "f34b1e6a-cf84-477d-b363-95c044a1bfe2",
   "metadata": {},
   "outputs": [
    {
     "data": {
      "text/plain": [
       "Index(['MUNICIPALITY CODE', 'MUNICIPALITY NAME', 'BSU CODE_2014',\n",
       "       'BSU CODE6_2014', 'BSU NAME_CURRENT', 'poznámky', 'SOC HE',\n",
       "       'SOC&POSTSOC HE', 'Unnamed: 8', 'BSU CODE_1974', 'BSU NAME_1974',\n",
       "       'DELIMITATION OK?', 'BSU CODE_1980', 'ZSJ1980', 'DELIMITATION OK?.1',\n",
       "       'BSU CODE_1992', 'BSU NAME_1992', 'DELIMITATION OK?.2', 'BSU CODE_2001',\n",
       "       'BSU NAME_2001', 'DELIMITATION OK?.3', 'BSU CODE_2014.1',\n",
       "       'BSU NAME_2014', 'DELIMITATION OK?.4'],\n",
       "      dtype='object')"
      ]
     },
     "execution_count": 3,
     "metadata": {},
     "output_type": "execute_result"
    }
   ],
   "source": [
    "xcl = pd.read_excel(\n",
    "    \"/data/uscuni-ulce/additional_data/housing_estates_locations/HEs_delimitation.xlsx\"\n",
    ")\n",
    "xcl.columns"
   ]
  },
  {
   "cell_type": "code",
   "execution_count": 5,
   "id": "44eb4e96-b666-4756-98ca-5b72fe99a8a9",
   "metadata": {},
   "outputs": [
    {
     "data": {
      "text/html": [
       "<div>\n",
       "<style scoped>\n",
       "    .dataframe tbody tr th:only-of-type {\n",
       "        vertical-align: middle;\n",
       "    }\n",
       "\n",
       "    .dataframe tbody tr th {\n",
       "        vertical-align: top;\n",
       "    }\n",
       "\n",
       "    .dataframe thead th {\n",
       "        text-align: right;\n",
       "    }\n",
       "</style>\n",
       "<table border=\"1\" class=\"dataframe\">\n",
       "  <thead>\n",
       "    <tr style=\"text-align: right;\">\n",
       "      <th></th>\n",
       "      <th>KOD_ZSJ</th>\n",
       "      <th>KOD_UTJ</th>\n",
       "      <th>KOD_KU</th>\n",
       "      <th>KOD_MOaMC</th>\n",
       "      <th>KOD_OBEC</th>\n",
       "      <th>KOD_ZUJ</th>\n",
       "      <th>KOD_OKRES</th>\n",
       "      <th>KOD_LAU1</th>\n",
       "      <th>KOD_KRAJ</th>\n",
       "      <th>KOD_CZNUTS</th>\n",
       "    </tr>\n",
       "  </thead>\n",
       "  <tbody>\n",
       "    <tr>\n",
       "      <th>0</th>\n",
       "      <td>000019</td>\n",
       "      <td>600016</td>\n",
       "      <td>600016</td>\n",
       "      <td>None</td>\n",
       "      <td>554979</td>\n",
       "      <td>554979</td>\n",
       "      <td>40436</td>\n",
       "      <td>CZ0412</td>\n",
       "      <td>3051</td>\n",
       "      <td>CZ041</td>\n",
       "    </tr>\n",
       "    <tr>\n",
       "      <th>1</th>\n",
       "      <td>000027</td>\n",
       "      <td>600024</td>\n",
       "      <td>600024</td>\n",
       "      <td>None</td>\n",
       "      <td>554979</td>\n",
       "      <td>554979</td>\n",
       "      <td>40436</td>\n",
       "      <td>CZ0412</td>\n",
       "      <td>3051</td>\n",
       "      <td>CZ041</td>\n",
       "    </tr>\n",
       "    <tr>\n",
       "      <th>2</th>\n",
       "      <td>000035</td>\n",
       "      <td>600032</td>\n",
       "      <td>600032</td>\n",
       "      <td>None</td>\n",
       "      <td>535826</td>\n",
       "      <td>535826</td>\n",
       "      <td>40282</td>\n",
       "      <td>CZ0311</td>\n",
       "      <td>3034</td>\n",
       "      <td>CZ031</td>\n",
       "    </tr>\n",
       "    <tr>\n",
       "      <th>3</th>\n",
       "      <td>000043</td>\n",
       "      <td>600041</td>\n",
       "      <td>600041</td>\n",
       "      <td>None</td>\n",
       "      <td>581291</td>\n",
       "      <td>581291</td>\n",
       "      <td>40703</td>\n",
       "      <td>CZ0641</td>\n",
       "      <td>3115</td>\n",
       "      <td>CZ064</td>\n",
       "    </tr>\n",
       "    <tr>\n",
       "      <th>4</th>\n",
       "      <td>000051</td>\n",
       "      <td>600059</td>\n",
       "      <td>600059</td>\n",
       "      <td>None</td>\n",
       "      <td>547786</td>\n",
       "      <td>547786</td>\n",
       "      <td>40584</td>\n",
       "      <td>CZ0523</td>\n",
       "      <td>3085</td>\n",
       "      <td>CZ052</td>\n",
       "    </tr>\n",
       "    <tr>\n",
       "      <th>...</th>\n",
       "      <td>...</td>\n",
       "      <td>...</td>\n",
       "      <td>...</td>\n",
       "      <td>...</td>\n",
       "      <td>...</td>\n",
       "      <td>...</td>\n",
       "      <td>...</td>\n",
       "      <td>...</td>\n",
       "      <td>...</td>\n",
       "      <td>...</td>\n",
       "    </tr>\n",
       "    <tr>\n",
       "      <th>22500</th>\n",
       "      <td>391883</td>\n",
       "      <td>991881</td>\n",
       "      <td>991881</td>\n",
       "      <td>None</td>\n",
       "      <td>592935</td>\n",
       "      <td>592935</td>\n",
       "      <td>40754</td>\n",
       "      <td>CZ0646</td>\n",
       "      <td>3115</td>\n",
       "      <td>CZ064</td>\n",
       "    </tr>\n",
       "    <tr>\n",
       "      <th>22501</th>\n",
       "      <td>391891</td>\n",
       "      <td>991899</td>\n",
       "      <td>991899</td>\n",
       "      <td>None</td>\n",
       "      <td>592935</td>\n",
       "      <td>592935</td>\n",
       "      <td>40754</td>\n",
       "      <td>CZ0646</td>\n",
       "      <td>3115</td>\n",
       "      <td>CZ064</td>\n",
       "    </tr>\n",
       "    <tr>\n",
       "      <th>22502</th>\n",
       "      <td>391905</td>\n",
       "      <td>991902</td>\n",
       "      <td>991902</td>\n",
       "      <td>None</td>\n",
       "      <td>592935</td>\n",
       "      <td>592935</td>\n",
       "      <td>40754</td>\n",
       "      <td>CZ0646</td>\n",
       "      <td>3115</td>\n",
       "      <td>CZ064</td>\n",
       "    </tr>\n",
       "    <tr>\n",
       "      <th>22503</th>\n",
       "      <td>392316</td>\n",
       "      <td>990833</td>\n",
       "      <td>990833</td>\n",
       "      <td>None</td>\n",
       "      <td>555177</td>\n",
       "      <td>555177</td>\n",
       "      <td>40436</td>\n",
       "      <td>CZ0412</td>\n",
       "      <td>3051</td>\n",
       "      <td>CZ041</td>\n",
       "    </tr>\n",
       "    <tr>\n",
       "      <th>22504</th>\n",
       "      <td>392391</td>\n",
       "      <td>992399</td>\n",
       "      <td>992399</td>\n",
       "      <td>None</td>\n",
       "      <td>555690</td>\n",
       "      <td>555690</td>\n",
       "      <td>40436</td>\n",
       "      <td>CZ0412</td>\n",
       "      <td>3051</td>\n",
       "      <td>CZ041</td>\n",
       "    </tr>\n",
       "  </tbody>\n",
       "</table>\n",
       "<p>22505 rows × 10 columns</p>\n",
       "</div>"
      ],
      "text/plain": [
       "      KOD_ZSJ KOD_UTJ  KOD_KU KOD_MOaMC KOD_OBEC KOD_ZUJ KOD_OKRES KOD_LAU1  \\\n",
       "0      000019  600016  600016      None   554979  554979     40436   CZ0412   \n",
       "1      000027  600024  600024      None   554979  554979     40436   CZ0412   \n",
       "2      000035  600032  600032      None   535826  535826     40282   CZ0311   \n",
       "3      000043  600041  600041      None   581291  581291     40703   CZ0641   \n",
       "4      000051  600059  600059      None   547786  547786     40584   CZ0523   \n",
       "...       ...     ...     ...       ...      ...     ...       ...      ...   \n",
       "22500  391883  991881  991881      None   592935  592935     40754   CZ0646   \n",
       "22501  391891  991899  991899      None   592935  592935     40754   CZ0646   \n",
       "22502  391905  991902  991902      None   592935  592935     40754   CZ0646   \n",
       "22503  392316  990833  990833      None   555177  555177     40436   CZ0412   \n",
       "22504  392391  992399  992399      None   555690  555690     40436   CZ0412   \n",
       "\n",
       "      KOD_KRAJ KOD_CZNUTS  \n",
       "0         3051      CZ041  \n",
       "1         3051      CZ041  \n",
       "2         3034      CZ031  \n",
       "3         3115      CZ064  \n",
       "4         3085      CZ052  \n",
       "...        ...        ...  \n",
       "22500     3115      CZ064  \n",
       "22501     3115      CZ064  \n",
       "22502     3115      CZ064  \n",
       "22503     3051      CZ041  \n",
       "22504     3051      CZ041  \n",
       "\n",
       "[22505 rows x 10 columns]"
      ]
     },
     "execution_count": 5,
     "metadata": {},
     "output_type": "execute_result"
    }
   ],
   "source": [
    "estates = gpd.read_file(\n",
    "    \"/data/uscuni-ulce/additional_data/housing_estates_locations/ZSJ_2016.shp\"\n",
    ")\n",
    "estates[\n",
    "    [\n",
    "        \"KOD_ZSJ\",\n",
    "        \"KOD_UTJ\",\n",
    "        \"KOD_KU\",\n",
    "        \"KOD_MOaMC\",\n",
    "        \"KOD_OBEC\",\n",
    "        \"KOD_ZUJ\",\n",
    "        \"KOD_OKRES\",\n",
    "        \"KOD_LAU1\",\n",
    "        \"KOD_KRAJ\",\n",
    "        \"KOD_CZNUTS\",\n",
    "    ]\n",
    "]"
   ]
  },
  {
   "cell_type": "code",
   "execution_count": 6,
   "id": "4f9b0a86-8e5b-461a-8ca5-1f345c795396",
   "metadata": {},
   "outputs": [],
   "source": [
    "# estates = gpd.read_file('/data/uscuni-ulce/additional_data/housing_estates_locations/ZSJ_2013.shp')\n",
    "# estates[['KOD_ZSJ', 'KOD_UTJ', 'KOD_KU']]"
   ]
  },
  {
   "cell_type": "code",
   "execution_count": 7,
   "id": "213f7496-1e41-40f3-8e89-91ac75baefdb",
   "metadata": {},
   "outputs": [],
   "source": [
    "estates[\"merge\"] = estates[\"KOD_ZSJ\"].astype(np.int64)"
   ]
  },
  {
   "cell_type": "code",
   "execution_count": 10,
   "id": "60af4894-7403-4017-9ca4-cb5cf8b5bf8e",
   "metadata": {},
   "outputs": [],
   "source": [
    "merged = pd.merge(\n",
    "    estates,\n",
    "    xcl[[\"BSU CODE6_2014\", \"SOC HE\", \"SOC&POSTSOC HE\"]],\n",
    "    left_on=\"merge\",\n",
    "    right_on=\"BSU CODE6_2014\",\n",
    ")"
   ]
  },
  {
   "cell_type": "code",
   "execution_count": 11,
   "id": "2da52e21-d7db-4317-977b-53603c929215",
   "metadata": {},
   "outputs": [
    {
     "data": {
      "text/plain": [
       "(428, 28)"
      ]
     },
     "execution_count": 11,
     "metadata": {},
     "output_type": "execute_result"
    }
   ],
   "source": [
    "merged[merged[\"SOC HE\"] == \"yes\"].shape"
   ]
  },
  {
   "cell_type": "code",
   "execution_count": 12,
   "id": "caf3cb39-e4c1-4089-b9b8-a2d44aaf4d77",
   "metadata": {},
   "outputs": [],
   "source": [
    "merged = merged[merged[\"SOC&POSTSOC HE\"] == \"yes\"]"
   ]
  },
  {
   "cell_type": "code",
   "execution_count": 14,
   "id": "41ed75ad-be82-460e-b9dc-98c30d490889",
   "metadata": {},
   "outputs": [],
   "source": [
    "cz_soc_housing = merged.to_crs(epsg=3035)"
   ]
  },
  {
   "cell_type": "markdown",
   "id": "17bf91a7-511a-4ccb-a790-649caed2eb57",
   "metadata": {},
   "source": [
    "### Process all buildings, in all regions that have socialist housing"
   ]
  },
  {
   "cell_type": "code",
   "execution_count": null,
   "id": "12504c00-ae8c-4e86-af76-8c0e9e9384e9",
   "metadata": {},
   "outputs": [],
   "source": [
    "from libpysal.graph import Graph\n",
    "\n",
    "regions_datadir = \"/data/uscuni-ulce/\"\n",
    "simplfied_buildings_dir = \"/data/uscuni-ulce/processed_data/buildings/\"\n",
    "buildings_dir = \"/data/uscuni-ulce/processed_data/buildings/\""
   ]
  },
  {
   "cell_type": "code",
   "execution_count": 16,
   "id": "58de833e-65db-4380-98b8-a49c9618810a",
   "metadata": {},
   "outputs": [],
   "source": [
    "region_hulls = gpd.read_parquet(\n",
    "    regions_datadir + \"regions/\" + \"cadastre_regions_hull.parquet\"\n",
    ")\n",
    "inp, _ = cz_soc_housing.sindex.query(region_hulls.geometry, predicate=\"intersects\")\n",
    "czech_regions = region_hulls.iloc[np.unique(inp)]"
   ]
  },
  {
   "cell_type": "code",
   "execution_count": 18,
   "id": "c40f4c41-3ae0-4d73-9f3c-720a347f0a1c",
   "metadata": {},
   "outputs": [
    {
     "name": "stdout",
     "output_type": "stream",
     "text": [
      "CPU times: user 14.1 s, sys: 2.13 s, total: 16.2 s\n",
      "Wall time: 16 s\n"
     ]
    }
   ],
   "source": [
    "%%time\n",
    "for region_id, _ in czech_regions.iterrows():\n",
    "    ## read region building polygons\n",
    "    buildings = gpd.read_parquet(\n",
    "        simplfied_buildings_dir + f\"buildings_{region_id}.parquet\"\n",
    "    )\n",
    "    buildings[\"area\"] = buildings.area\n",
    "    buildings[\"perimeter\"] = buildings.length\n",
    "\n",
    "    ### mark buildings in socialist housing\n",
    "    _, blg_ix = buildings.sindex.query(cz_soc_housing.geometry, predicate=\"intersects\")\n",
    "    relevant = pd.Series(0, index=buildings.index, dtype=bool)\n",
    "    relevant.iloc[np.unique(blg_ix)] = True\n",
    "\n",
    "    # create a contiguity graph for the  buildings in socialist housing polygons\n",
    "    contig = Graph.build_fuzzy_contiguity(buildings[relevant], buffer=1e-3)\n",
    "\n",
    "    # get potetial socialist housing buildings\n",
    "    min_area = 180\n",
    "    min_perimeter = 55\n",
    "    mask = (\n",
    "        (buildings[\"area\"] > min_area)\n",
    "        & (buildings[\"perimeter\"] > min_perimeter)\n",
    "        & relevant\n",
    "    )\n",
    "    masked = buildings[mask].copy()\n",
    "\n",
    "    ## merge potential socialist housing buildings, based on buffered graph contiguity\n",
    "    masked.geometry = masked.buffer(1e-3)\n",
    "    subgraph = contig.subgraph(masked.index)\n",
    "    merged = masked.dissolve(subgraph.component_labels).explode()\n",
    "\n",
    "    # add the rest of the data to the merged subset and save\n",
    "    fixed = pd.concat(\n",
    "        [buildings[~relevant], merged, buildings[(relevant) & (~mask)]],\n",
    "        ignore_index=True,\n",
    "    )\n",
    "    assert not fixed.index.duplicated().any()\n",
    "    fixed.drop(columns=[\"area\", \"perimeter\"]).to_parquet(\n",
    "        buildings_dir + f\"buildings_{region_id}.parquet\"\n",
    "    )"
   ]
  }
 ],
 "metadata": {
  "kernelspec": {
   "display_name": "Python 3 (ipykernel)",
   "language": "python",
   "name": "python3"
  },
  "language_info": {
   "codemirror_mode": {
    "name": "ipython",
    "version": 3
   },
   "file_extension": ".py",
   "mimetype": "text/x-python",
   "name": "python",
   "nbconvert_exporter": "python",
   "pygments_lexer": "ipython3",
   "version": "3.12.5"
  }
 },
 "nbformat": 4,
 "nbformat_minor": 5
}
