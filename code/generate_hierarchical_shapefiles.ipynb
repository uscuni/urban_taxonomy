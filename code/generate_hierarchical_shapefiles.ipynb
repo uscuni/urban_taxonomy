{
 "cells": [
  {
   "cell_type": "code",
   "execution_count": 2,
   "id": "51016203-730d-4834-a438-bf1383bdc7a4",
   "metadata": {},
   "outputs": [],
   "source": [
    "import numpy as np\n",
    "from scipy.cluster.hierarchy import fcluster\n",
    "from scipy.cluster.hierarchy import dendrogram\n",
    "import pandas as pd\n",
    "import geopandas as gpd\n",
    "import matplotlib.pyplot as plt\n",
    "\n",
    "from core.cluster_validation import morphotopes_to_etcs"
   ]
  },
  {
   "cell_type": "code",
   "execution_count": 3,
   "id": "5bada729-7198-4f29-a43f-b3e166598f2a",
   "metadata": {},
   "outputs": [],
   "source": [
    "regions_datadir = \"/data/uscuni-ulce/\"\n",
    "linkage_dir = '/data/uscuni-ulce/processed_data/morphotope_linkage/'\n",
    "\n",
    "model_params = '_75_0_None_None_False'"
   ]
  },
  {
   "cell_type": "code",
   "execution_count": 4,
   "id": "42ac8cb9-9326-42aa-8e68-a0f9dbadef6a",
   "metadata": {},
   "outputs": [],
   "source": [
    "linkage_matrix = np.load(f'{linkage_dir}complete_euclidean_full.npy')\n",
    "regional_clusters = pd.read_parquet(f'{linkage_dir}regional_clusters_2.5.pq').regional_cluster\n",
    "regional_clusters_data = pd.read_parquet(f'{linkage_dir}regional_clusters_2.5_data.pq')\n",
    "embedding = pd.read_parquet(f'{linkage_dir}regional_clusters_2.5_embedding.pq')\n",
    "regional_ward_morphotopes_data = pd.read_parquet(f'{linkage_dir}regional_clusters_2.5_embedding_input.pq')"
   ]
  },
  {
   "cell_type": "code",
   "execution_count": 10,
   "id": "de1aa08b-18c1-4ebf-9230-ec9dea9d74fe",
   "metadata": {},
   "outputs": [],
   "source": [
    "# lithuanian regions\n",
    "region_ids = [139621, 139674, 139764, 140420, 141272, 141366, 142100, 143701, 145906,\n",
    "       146285, 147112, 147634, 148018, 148085, 149997, 150044, 151676, 152081,\n",
    "       152511]"
   ]
  },
  {
   "cell_type": "code",
   "execution_count": null,
   "id": "1b7bb193-8e1c-4845-8f62-2829741697d8",
   "metadata": {},
   "outputs": [],
   "source": []
  },
  {
   "cell_type": "code",
   "execution_count": 4,
   "id": "22648eb8-ae27-4e18-9af8-9c90fd1ce105",
   "metadata": {},
   "outputs": [
    {
     "data": {
      "image/png": "[encoded data removed]",
      "text/plain": [
       "<Figure size 1000x1000 with 1 Axes>"
      ]
     },
     "metadata": {},
     "output_type": "display_data"
    }
   ],
   "source": [
    "## final dendrogram\n",
    "fig,ax = plt.subplots(figsize=(10,10))\n",
    "_ = dendrogram(linkage_matrix,ax=ax, no_labels=True)"
   ]
  },
  {
   "cell_type": "code",
   "execution_count": 5,
   "id": "550ff0ea-8a08-4ebb-85c8-91da9d760a12",
   "metadata": {},
   "outputs": [],
   "source": [
    "cluster_matrix = pd.DataFrame()\n",
    "\n",
    "for cut in [10.0, 8.0, 6.0, 4.0, 2.5, 2.0, 1.5, 1.0, 0.5, 0.3]:\n",
    "    clusters = fcluster(linkage_matrix, t=cut, criterion='distance')\n",
    "    cluster_matrix[f'cut_at_level_{cut}'] = clusters\n",
    "\n",
    "cluster_matrix.index = regional_ward_morphotopes_data.index"
   ]
  },
  {
   "cell_type": "code",
   "execution_count": 6,
   "id": "bebc30a0-2aa0-4930-81d6-ad39886c2f22",
   "metadata": {},
   "outputs": [],
   "source": []
  },
  {
   "cell_type": "code",
   "execution_count": 7,
   "id": "202f3bce-d00f-46f6-a4d4-06e364ae546b",
   "metadata": {
    "scrolled": true
   },
   "outputs": [
    {
     "name": "stdout",
     "output_type": "stream",
     "text": [
      "139621\n",
      "139674\n",
      "139764\n",
      "140420\n",
      "141272\n",
      "141366\n",
      "142100\n",
      "143701\n",
      "145906\n",
      "146285\n",
      "147112\n",
      "147634\n",
      "148018\n",
      "148085\n",
      "149997\n",
      "150044\n",
      "151676\n",
      "152081\n",
      "152511\n",
      "CPU times: user 1min 40s, sys: 2.66 s, total: 1min 43s\n",
      "Wall time: 1min 43s\n"
     ]
    }
   ],
   "source": [
    "%%time\n",
    "\n",
    "all_buildings = []\n",
    "\n",
    "for region_id in region_ids:\n",
    "    print(region_id)\n",
    "    \n",
    "    buildings = morphotopes_to_etcs(region_id, etcs=True, model_params=model_params)\n",
    "    for cluster_column in cluster_matrix.columns:\n",
    "        buildings[cluster_column] = buildings['morph'].map(lambda x: cluster_matrix[cluster_column].loc[regional_clusters.loc[x]] if x in regional_clusters else -1)\n",
    "    \n",
    "    buildings.index = str(region_id) + '_' + buildings.index.astype(str)\n",
    "    buildings = buildings[['geometry', 'morph', 'cut_at_level_10.0',\n",
    "       'cut_at_level_8.0', 'cut_at_level_6.0', 'cut_at_level_4.0',\n",
    "       'cut_at_level_2.5', 'cut_at_level_2.0', 'cut_at_level_1.5',\n",
    "       'cut_at_level_1.0', 'cut_at_level_0.5', 'cut_at_level_0.3']]\n",
    "    all_buildings.append(buildings)\n",
    "\n",
    "all_buildings = pd.concat(all_buildings)"
   ]
  },
  {
   "cell_type": "code",
   "execution_count": null,
   "id": "c5e32e60-0c78-4cda-bfdb-3b3c834ba616",
   "metadata": {},
   "outputs": [],
   "source": []
  },
  {
   "cell_type": "code",
   "execution_count": null,
   "id": "1e94f900-3177-4a4e-a40f-d1e2b7584ec4",
   "metadata": {},
   "outputs": [],
   "source": []
  },
  {
   "cell_type": "code",
   "execution_count": 8,
   "id": "db289160-f5e3-48d2-ba58-f33999676af8",
   "metadata": {},
   "outputs": [],
   "source": [
    "# map at the end for teh whole dataset\n",
    "all_buildings['cut_at_level_0.0'] = all_buildings['morph'].map(lambda x: regional_clusters.loc[x] if x in regional_clusters else \"-1\").factorize()[0]\n",
    "all_buildings['cut_at_level_morphotope'] = all_buildings['morph'].factorize()[0]"
   ]
  },
  {
   "cell_type": "code",
   "execution_count": null,
   "id": "f1d17e29-a3fe-4c3a-ad00-22d220a861b7",
   "metadata": {},
   "outputs": [],
   "source": []
  },
  {
   "cell_type": "code",
   "execution_count": null,
   "id": "34be5c4d-e2f2-430d-94f4-7ca9cf4a3da9",
   "metadata": {},
   "outputs": [],
   "source": []
  },
  {
   "cell_type": "markdown",
   "id": "0d7551c6-8ca1-4163-8ddd-b11db7b6f947",
   "metadata": {},
   "source": [
    " #### Noise assignment"
   ]
  },
  {
   "cell_type": "code",
   "execution_count": 9,
   "id": "4c34c1f2-438f-4cb0-a795-e3247566f507",
   "metadata": {},
   "outputs": [],
   "source": [
    "to_drop = [\n",
    "        'stcSAl','stbOri','stcOri','stbCeA',\n",
    "        'ldkAre', 'ldkPer', 'lskCCo', 'lskERI','lskCWA', 'ltkOri', 'ltkWNB', 'likWBB', 'likWCe',\n",
    "          'licBAD', 'misBAD',\n",
    "    'ssbCCM','ssbCCD'    \n",
    "]\n",
    "chars_dir = '/data/uscuni-ulce/processed_data/chars/'\n",
    "graph_dir = '/data/uscuni-ulce/processed_data/neigh_graphs/'"
   ]
  },
  {
   "cell_type": "code",
   "execution_count": 10,
   "id": "31634824-760e-409d-b3e8-884a0546eca0",
   "metadata": {},
   "outputs": [
    {
     "name": "stdout",
     "output_type": "stream",
     "text": [
      "CPU times: user 3.57 s, sys: 1.02 s, total: 4.58 s\n",
      "Wall time: 985 ms\n"
     ]
    }
   ],
   "source": [
    "%%time\n",
    "\n",
    "# read all characters for noise assignment\n",
    "all_chars = []\n",
    "\n",
    "for region_id in region_ids:\n",
    "    chars = pd.read_parquet(f'{chars_dir}primary_chars_{region_id}.parquet')\n",
    "    chars = chars.drop(columns=to_drop)\n",
    "    chars.index = str(region_id) + '_' + chars.index.astype(str)\n",
    "    all_chars.append(chars)\n",
    "    \n",
    "all_chars = pd.concat(all_chars)"
   ]
  },
  {
   "cell_type": "code",
   "execution_count": 11,
   "id": "72ba5b8a-2d80-422e-8cdd-2efe74174dfd",
   "metadata": {},
   "outputs": [],
   "source": [
    "# make sure there are characters for all buildings\n",
    "all_chars= all_chars.loc[all_buildings.index]\n",
    "assert (all_chars.index == all_buildings.index).all()"
   ]
  },
  {
   "cell_type": "code",
   "execution_count": null,
   "id": "6c9e7882-c173-4318-bcaa-84957b6fa372",
   "metadata": {},
   "outputs": [],
   "source": []
  },
  {
   "cell_type": "code",
   "execution_count": 12,
   "id": "9c7e0561-30c8-4a35-af66-fb98ea49272e",
   "metadata": {
    "scrolled": true
   },
   "outputs": [
    {
     "name": "stdout",
     "output_type": "stream",
     "text": [
      "139621\n",
      "139674\n",
      "139764\n",
      "140420\n",
      "141272\n",
      "141366\n",
      "142100\n",
      "143701\n",
      "145906\n",
      "146285\n",
      "147112\n",
      "147634\n",
      "148018\n",
      "148085\n",
      "149997\n",
      "150044\n",
      "151676\n",
      "152081\n",
      "152511\n",
      "CPU times: user 16.9 s, sys: 388 ms, total: 17.3 s\n",
      "Wall time: 17.1 s\n"
     ]
    }
   ],
   "source": [
    "%%time\n",
    "\n",
    "# get morphotopes and noise groups values\n",
    "is_noise = all_buildings.morph.str.split('_').str[-1] == '-1'\n",
    "\n",
    "from libpysal.graph import read_parquet\n",
    "\n",
    "all_noise_groups = []\n",
    "bid_to_ngroup = []\n",
    "\n",
    "for region_id in region_ids:\n",
    "    print(region_id)\n",
    "    tq1 = read_parquet(graph_dir + f\"tessellation_graph_{region_id}.parquet\")\n",
    "    is_region_noise = is_noise & is_noise.index.str.startswith(str(region_id))\n",
    "    noise_graph = tq1.subgraph(all_chars[is_region_noise].index.str.split('_').str[-1].astype(int))\n",
    "    \n",
    "    noise_groups = all_chars[is_region_noise].groupby(noise_graph.component_labels.values).median()\n",
    "    noise_groups.index = str(region_id) + '_' + noise_groups.index.astype(str)\n",
    "    \n",
    "    region_bid_to_ngroup = str(region_id) + '_' + noise_graph.component_labels.astype(str)\n",
    "    region_bid_to_ngroup.index = str(region_id) + '_' + region_bid_to_ngroup.index.astype(str)\n",
    "\n",
    "    all_noise_groups.append(noise_groups)\n",
    "    bid_to_ngroup.append(region_bid_to_ngroup)\n",
    "\n",
    "all_noise_groups = pd.concat(all_noise_groups)\n",
    "bid_to_ngroup = pd.concat(bid_to_ngroup)"
   ]
  },
  {
   "cell_type": "code",
   "execution_count": null,
   "id": "2889426e-1948-4937-a7a1-a3ace34e534b",
   "metadata": {},
   "outputs": [],
   "source": []
  },
  {
   "cell_type": "code",
   "execution_count": null,
   "id": "4af259e8-b527-4fcc-a5d5-abfac4894102",
   "metadata": {},
   "outputs": [],
   "source": []
  },
  {
   "cell_type": "code",
   "execution_count": 13,
   "id": "ce6cbf2a-fd8c-42ed-8797-73215f86ed3f",
   "metadata": {},
   "outputs": [
    {
     "data": {
      "text/plain": [
       "Index(['geometry', 'morph', 'cut_at_level_10.0', 'cut_at_level_8.0',\n",
       "       'cut_at_level_6.0', 'cut_at_level_4.0', 'cut_at_level_2.5',\n",
       "       'cut_at_level_2.0', 'cut_at_level_1.5', 'cut_at_level_1.0',\n",
       "       'cut_at_level_0.5', 'cut_at_level_0.3', 'cut_at_level_0.0',\n",
       "       'cut_at_level_morphotope'],\n",
       "      dtype='object')"
      ]
     },
     "execution_count": 13,
     "metadata": {},
     "output_type": "execute_result"
    }
   ],
   "source": [
    "all_buildings.columns\n"
   ]
  },
  {
   "cell_type": "code",
   "execution_count": 14,
   "id": "33bd6579-9f7b-4623-9754-f6d6d114a20e",
   "metadata": {},
   "outputs": [],
   "source": [
    "from sklearn.preprocessing import QuantileTransformer\n",
    "from sklearn.neighbors import KNeighborsClassifier\n",
    "\n",
    "cluster_cols = ['cut_at_level_10.0', 'cut_at_level_8.0',\n",
    "       'cut_at_level_6.0', 'cut_at_level_4.0', 'cut_at_level_2.5',\n",
    "       'cut_at_level_2.0', 'cut_at_level_1.5', 'cut_at_level_1.0',\n",
    "       'cut_at_level_0.5', 'cut_at_level_0.3']"
   ]
  },
  {
   "cell_type": "code",
   "execution_count": null,
   "id": "ce79e199-f98a-4f82-9bf8-4a04d1bdcfb1",
   "metadata": {},
   "outputs": [],
   "source": []
  },
  {
   "cell_type": "code",
   "execution_count": 15,
   "id": "3e021821-591b-40e1-b00f-4ef3bb010418",
   "metadata": {},
   "outputs": [
    {
     "name": "stdout",
     "output_type": "stream",
     "text": [
      "CPU times: user 1min 10s, sys: 1.39 s, total: 1min 11s\n",
      "Wall time: 35.7 s\n"
     ]
    }
   ],
   "source": [
    "%%time\n",
    "\n",
    "for col in cluster_cols:\n",
    "\n",
    "    ## the noise data stays the same for every clusters, but the actual tree data (clustered buildings) change at every cut\n",
    "    clusters = all_buildings[[col, 'morph']]\n",
    "    cluster_morph_medians = all_chars[~is_noise].groupby(clusters[~is_noise].morph.values).median()\n",
    "\n",
    "    ## aggreate morphotope medians and noise in the same dataframe and normalise\n",
    "    ## cannot use individual tess cells as takes too much time\n",
    "    all_data = pd.concat((cluster_morph_medians, all_noise_groups))\n",
    "    scalar = QuantileTransformer(subsample=None, output_distribution='uniform')\n",
    "    vals = scalar.fit_transform(all_data)\n",
    "    all_data = pd.DataFrame(vals, index=all_data.index, columns=all_data.columns).fillna(0)\n",
    "\n",
    "    # morph -> final dictinary for final cluster assignment\n",
    "    morph_to_final = pd.Series(clusters.loc[~is_noise, col].values,\n",
    "                               clusters.loc[~is_noise, 'morph'].values)\n",
    "    morph_to_final = morph_to_final[~morph_to_final.index.duplicated()]\n",
    "\n",
    "    # setup the knn classifier tree and make predictions\n",
    "    query_data = all_data.loc[all_noise_groups.index]\n",
    "    tree_data = all_data.loc[cluster_morph_medians.index]\n",
    "    tree = KNeighborsClassifier(n_neighbors=15, n_jobs=-1)\n",
    "    tree = tree.fit(X=tree_data.values, y=morph_to_final.loc[tree_data.index].values)\n",
    "    predictions = tree.predict(query_data.values)\n",
    "\n",
    "    #map noise group clusters to building ids\n",
    "    bid_to_prediction = bid_to_ngroup.map(pd.Series(predictions, query_data.index).to_dict())\n",
    "    # assign new clusters, but make sure existing clusters are not changed\n",
    "    new_clusters = all_buildings[col].copy()\n",
    "    new_clusters.loc[bid_to_prediction.index.values] = bid_to_prediction.values.astype(int)\n",
    "    pd.testing.assert_series_equal(all_buildings.loc[~is_noise, col], new_clusters[~is_noise])\n",
    "    all_buildings[col] = new_clusters"
   ]
  },
  {
   "cell_type": "code",
   "execution_count": null,
   "id": "b9b6eb34-64ef-497a-b988-48fd83cdf39b",
   "metadata": {},
   "outputs": [],
   "source": []
  },
  {
   "cell_type": "code",
   "execution_count": null,
   "id": "ce6b66e2-4a80-41bf-935e-cc1a11a742eb",
   "metadata": {},
   "outputs": [],
   "source": []
  },
  {
   "cell_type": "code",
   "execution_count": null,
   "id": "ac847636-f443-4810-9e83-17d22da05202",
   "metadata": {},
   "outputs": [],
   "source": []
  },
  {
   "cell_type": "code",
   "execution_count": null,
   "id": "4dac8cf9-6bd2-4d4e-a7ab-defa9737cbda",
   "metadata": {},
   "outputs": [],
   "source": []
  },
  {
   "cell_type": "code",
   "execution_count": 21,
   "id": "c65f56bf-78e8-4326-8b9d-caa370d2c39b",
   "metadata": {},
   "outputs": [],
   "source": [
    "# %%time\n",
    "all_buildings.columns = ['geometry', 'morph', 'level_10.0', 'level_8.0', 'level_6.0', 'level_4.0',\n",
    "       'level_2.5', 'level_2.0', 'level_1.5', 'level_1.0', 'level_0.5',\n",
    "       'level_0.3', 'level_0.0', 'level_morph']"
   ]
  },
  {
   "cell_type": "markdown",
   "id": "cc8ed1a0-4eb5-4c67-81ec-108c88eea8c5",
   "metadata": {},
   "source": [
    "# Plotting"
   ]
  },
  {
   "cell_type": "code",
   "execution_count": null,
   "id": "180632a2-51ad-4398-8b2e-38686570420b",
   "metadata": {},
   "outputs": [],
   "source": [
    "# all_buildings = gpd.read_file('/data/uscuni-ulce/processed_data/outputs/lithuania/lithuania_tess').set_index('index')"
   ]
  },
  {
   "cell_type": "code",
   "execution_count": 23,
   "id": "0eaa57d3-22c6-490b-9cc3-7ef7921236e6",
   "metadata": {},
   "outputs": [],
   "source": [
    "etcs = all_buildings[all_buildings.index.str.startswith('151676')].copy()\n",
    "etcs['geometry'] = etcs.simplify(1).to_crs(epsg=4326).make_valid()\n",
    "etcs = etcs[etcs['geometry'].geom_type == 'Polygon']"
   ]
  },
  {
   "cell_type": "code",
   "execution_count": 28,
   "id": "b1d9608a-6778-4ab6-9bac-4dc1c52f9d0e",
   "metadata": {},
   "outputs": [
    {
     "name": "stdout",
     "output_type": "stream",
     "text": [
      "CPU times: user 945 ms, sys: 141 ms, total: 1.09 s\n",
      "Wall time: 1.08 s\n"
     ]
    }
   ],
   "source": [
    "%%time\n",
    "import lonboard\n",
    "# plotting = tessellation[tessellation.index.isin(X_train.index)].copy()\n",
    "layer = lonboard.PolygonLayer.from_geopandas(etcs, opacity=.07)"
   ]
  },
  {
   "cell_type": "code",
   "execution_count": 32,
   "id": "2d57dc42-5cd6-409b-9871-ce1c5411aae8",
   "metadata": {},
   "outputs": [],
   "source": [
    "from sidecar import Sidecar\n",
    "sc = Sidecar(title=f'Hierarchical Clusters')\n",
    "m = lonboard.Map(layer, basemap_style=lonboard.basemap.CartoBasemap.Positron)\n",
    "with sc:\n",
    "    display(m)\n",
    "    "
   ]
  },
  {
   "cell_type": "code",
   "execution_count": 30,
   "id": "439c87f2-320e-43f2-acf1-7f3e367ab15d",
   "metadata": {},
   "outputs": [
    {
     "data": {
      "text/plain": [
       "array([65])"
      ]
     },
     "execution_count": 30,
     "metadata": {},
     "output_type": "execute_result"
    }
   ],
   "source": [
    "from core.cluster_validation import get_color\n",
    "col = 'level_1.0'\n",
    "layer.get_fill_color = get_color(etcs[col])\n",
    "np.unique(etcs[col].nunique())"
   ]
  },
  {
   "cell_type": "code",
   "execution_count": 33,
   "id": "3331f1e0-9400-4244-aad7-4b176696344e",
   "metadata": {},
   "outputs": [],
   "source": [
    "layer.get_line_color = [0, 0, 0]"
   ]
  },
  {
   "cell_type": "code",
   "execution_count": 48,
   "id": "735d5352-6ca0-40f2-9939-8788555847ac",
   "metadata": {},
   "outputs": [],
   "source": []
  },
  {
   "cell_type": "code",
   "execution_count": 34,
   "id": "a9aaa174-2d61-48fb-a044-13a7724aab2a",
   "metadata": {},
   "outputs": [
    {
     "name": "stderr",
     "output_type": "stream",
     "text": [
      "<timed eval>:1: UserWarning: Column names longer than 10 characters will be truncated when saved to ESRI Shapefile.\n"
     ]
    },
    {
     "name": "stdout",
     "output_type": "stream",
     "text": [
      "CPU times: user 16.3 s, sys: 2.33 s, total: 18.6 s\n",
      "Wall time: 18.4 s\n"
     ]
    },
    {
     "name": "stderr",
     "output_type": "stream",
     "text": [
      "/home/krasen/urban_taxonomy/.pixi/envs/default/lib/python3.12/site-packages/pyogrio/raw.py:723: RuntimeWarning: Normalized/laundered field name: 'level_morph' to 'level_morp'\n",
      "  ogr_write(\n"
     ]
    }
   ],
   "source": [
    "%%time\n",
    "\n",
    "all_buildings.to_file('/data/uscuni-ulce/processed_data/outputs/lithuania/lithuania_tess')"
   ]
  },
  {
   "cell_type": "code",
   "execution_count": null,
   "id": "9adce7ea-e5a5-422f-84c3-7fe802706561",
   "metadata": {},
   "outputs": [],
   "source": []
  },
  {
   "cell_type": "code",
   "execution_count": null,
   "id": "e3d3c68a-67ff-4565-9b48-902ca774bf12",
   "metadata": {},
   "outputs": [],
   "source": []
  },
  {
   "cell_type": "markdown",
   "id": "bbd9455e-5608-4a8e-9abd-facfcb720b79",
   "metadata": {},
   "source": [
    "## Grid aggregation"
   ]
  },
  {
   "cell_type": "code",
   "execution_count": 44,
   "id": "b0af18fa-d675-44d2-a8ed-ea84dbef3918",
   "metadata": {},
   "outputs": [],
   "source": [
    "# load data\n",
    "all_buildings = gpd.read_file('/data/uscuni-ulce/processed_data/outputs/lithuania/lithuania_tess').set_index('index')\n",
    "centroids = all_buildings.centroid\n",
    "regions = gpd.read_parquet('/data/uscuni-ulce/regions/cadastre_regions_hull.parquet')\n",
    "lithuania_bounds = regions.loc[region_ids].to_crs(epsg=4326).union_all().exterior"
   ]
  },
  {
   "cell_type": "code",
   "execution_count": null,
   "id": "942693ae-9d8e-432a-8304-27d0a8862126",
   "metadata": {},
   "outputs": [],
   "source": []
  },
  {
   "cell_type": "code",
   "execution_count": 66,
   "id": "1e2c6b15-2848-442e-8bb0-8ee4e5e6d2b6",
   "metadata": {},
   "outputs": [],
   "source": [
    "import h3\n",
    "from shapely import Polygon\n",
    "import shapely\n",
    "\n",
    "def assign_hexagons(shape, centroids, h3_resolution = 9):\n",
    "    '''Split `shape` intoh3 hexagons and assign all `centroids` to them.'''\n",
    "    \n",
    "    ## split region hull into hexagons\n",
    "    bounds = shape\n",
    "    poly = h3.geo_to_cells(bounds, res=h3_resolution)\n",
    "    res = [shapely.geometry.shape(h3.cells_to_geo([p])) for p in poly]\n",
    "    hexagons = gpd.GeoSeries(res, index=poly,name='geometry', crs='epsg:4326').to_crs(epsg=3035)\n",
    "\n",
    "    # assign hexagons to tessellation cells\n",
    "    inp, res = centroids.sindex.query(hexagons, predicate='intersects')\n",
    "    # polygons should be assigned to only one h3 grid\n",
    "    duplicated = pd.Series(res).duplicated()\n",
    "    inp = inp[~duplicated]\n",
    "    res = res[~duplicated]\n",
    "    \n",
    "    hex_assignments = pd.Series(hexagons.index[inp].values, centroids.index[res], name='hexagons').sort_index()\n",
    "    return hexagons, hex_assignments"
   ]
  },
  {
   "cell_type": "code",
   "execution_count": 67,
   "id": "7168c290-f4bc-47b6-800a-aa81340360f4",
   "metadata": {},
   "outputs": [],
   "source": [
    "hexagons, hex_assignments = assign_hexagons(Polygon(lithuania_bounds.coords), centroids)"
   ]
  },
  {
   "cell_type": "code",
   "execution_count": 70,
   "id": "9b1a0957-6086-4a2b-9743-af23ef7bf209",
   "metadata": {},
   "outputs": [
    {
     "data": {
      "text/plain": [
       "((760770,), (2097059,), (2097323,))"
      ]
     },
     "execution_count": 70,
     "metadata": {},
     "output_type": "execute_result"
    }
   ],
   "source": [
    "hexagons.shape, hex_assignments.index.shape, centroids.shape"
   ]
  },
  {
   "cell_type": "code",
   "execution_count": null,
   "id": "dbdb885f-3c70-45c6-b9ad-ec38535ba9bd",
   "metadata": {},
   "outputs": [],
   "source": []
  },
  {
   "cell_type": "code",
   "execution_count": 153,
   "id": "91951fcf-219b-49ac-8a51-682b35a65ace",
   "metadata": {},
   "outputs": [],
   "source": [
    "grid_results = hexagons.to_frame()"
   ]
  },
  {
   "cell_type": "code",
   "execution_count": 154,
   "id": "b10a682c-9e29-4d94-87c4-2ed758706e5e",
   "metadata": {},
   "outputs": [],
   "source": [
    "positive = hex_assignments[~hex_assignments.index.str.split('_').str[-1].str.startswith('-')]"
   ]
  },
  {
   "cell_type": "code",
   "execution_count": 155,
   "id": "b64f7451-6005-4b81-b9eb-d4c6c6c74d7d",
   "metadata": {},
   "outputs": [],
   "source": [
    "cluster_cols = ['level_10.0', 'level_8.0', 'level_6.0', 'level_4.0',\n",
    "       'level_2.5', 'level_2.0', 'level_1.5', 'level_1.0', 'level_0.5',\n",
    "       'level_0.3', 'level_0.0', 'level_morp']"
   ]
  },
  {
   "cell_type": "code",
   "execution_count": 156,
   "id": "92e0828b-2e1b-4406-b48d-301d1993d31d",
   "metadata": {},
   "outputs": [
    {
     "name": "stdout",
     "output_type": "stream",
     "text": [
      "CPU times: user 1min 36s, sys: 277 ms, total: 1min 36s\n",
      "Wall time: 1min 36s\n"
     ]
    }
   ],
   "source": [
    "%%time\n",
    "\n",
    "for col in cluster_cols:\n",
    "    \n",
    "    # assign the most common building cluster within the hexagon, as the hexagons cluster\n",
    "    res = all_buildings[col].groupby(positive).agg(lambda x: pd.Series.mode(x)[0])\n",
    "    \n",
    "    grid_results[col] = res\n",
    "\n",
    "# drop all empty hexagons\n",
    "to_plot = grid_results[~grid_results[cluster_cols].isna().all(axis=1)]"
   ]
  },
  {
   "cell_type": "code",
   "execution_count": null,
   "id": "37072ce0-cfe3-4b6d-b891-86d66654ed99",
   "metadata": {},
   "outputs": [],
   "source": []
  },
  {
   "cell_type": "markdown",
   "id": "23eb2680-94fe-4ab3-895b-9268a0d40444",
   "metadata": {},
   "source": [
    "##### Plot grid results"
   ]
  },
  {
   "cell_type": "code",
   "execution_count": 161,
   "id": "e0e23308-f490-40b5-8af3-2b9d2e84c244",
   "metadata": {},
   "outputs": [
    {
     "name": "stderr",
     "output_type": "stream",
     "text": [
      "/home/krasen/urban_taxonomy/.pixi/envs/default/lib/python3.12/site-packages/lonboard/_geoarrow/ops/reproject.py:97: UserWarning: Input being reprojected to EPSG:4326 CRS\n",
      "  warnings.warn(\"Input being reprojected to EPSG:4326 CRS\")\n"
     ]
    },
    {
     "name": "stdout",
     "output_type": "stream",
     "text": [
      "CPU times: user 801 ms, sys: 72.1 ms, total: 873 ms\n",
      "Wall time: 871 ms\n"
     ]
    }
   ],
   "source": [
    "%%time\n",
    "import lonboard\n",
    "# plotting = tessellation[tessellation.index.isin(X_train.index)].copy()\n",
    "layer = lonboard.PolygonLayer.from_geopandas(to_plot, opacity=.05)"
   ]
  },
  {
   "cell_type": "code",
   "execution_count": 162,
   "id": "c531a4db-7841-4ec0-a0ad-b1a2f28463db",
   "metadata": {},
   "outputs": [],
   "source": [
    "from sidecar import Sidecar\n",
    "sc = Sidecar(title=f'Hierarchical Clusters')\n",
    "m = lonboard.Map(layer, basemap_style=lonboard.basemap.CartoBasemap.Positron)\n",
    "with sc:\n",
    "    display(m)\n",
    "    "
   ]
  },
  {
   "cell_type": "code",
   "execution_count": 168,
   "id": "0a7f0ab7-6a86-4079-8837-62f0af52d899",
   "metadata": {},
   "outputs": [
    {
     "data": {
      "text/plain": [
       "array([21])"
      ]
     },
     "execution_count": 168,
     "metadata": {},
     "output_type": "execute_result"
    }
   ],
   "source": [
    "from core.cluster_validation import get_color\n",
    "col = 'level_2.5'\n",
    "layer.get_fill_color = get_color(to_plot[col])\n",
    "np.unique(to_plot[col].nunique())"
   ]
  },
  {
   "cell_type": "code",
   "execution_count": 76,
   "id": "1842c35f-8bf3-4f6e-8a5d-0f8dad25c79c",
   "metadata": {},
   "outputs": [],
   "source": [
    "layer.get_line_color = [244,244,244]"
   ]
  },
  {
   "cell_type": "code",
   "execution_count": null,
   "id": "c835d983-0947-4c69-83b9-16bfe93c132e",
   "metadata": {},
   "outputs": [],
   "source": []
  },
  {
   "cell_type": "code",
   "execution_count": null,
   "id": "a9a886d4-219a-4ce9-8fd5-ae47e3fc089a",
   "metadata": {},
   "outputs": [],
   "source": []
  },
  {
   "cell_type": "code",
   "execution_count": null,
   "id": "1d2f8064-17b1-4a10-8e5d-f0e15ca16984",
   "metadata": {},
   "outputs": [],
   "source": []
  },
  {
   "cell_type": "code",
   "execution_count": 167,
   "id": "c8d41eac-6380-4b66-8a46-e01f8c1322e0",
   "metadata": {},
   "outputs": [],
   "source": [
    "all_buildings.to_file('/data/uscuni-ulce/processed_data/outputs/lithuania/lithuania_grid')"
   ]
  },
  {
   "cell_type": "code",
   "execution_count": null,
   "id": "33eff510-263e-4d76-a20d-235c6ab2f54f",
   "metadata": {},
   "outputs": [],
   "source": []
  }
 ],
 "metadata": {
  "kernelspec": {
   "display_name": "Python 3 (ipykernel)",
   "language": "python",
   "name": "python3"
  },
  "language_info": {
   "codemirror_mode": {
    "name": "ipython",
    "version": 3
   },
   "file_extension": ".py",
   "mimetype": "text/x-python",
   "name": "python",
   "nbconvert_exporter": "python",
   "pygments_lexer": "ipython3",
   "version": "3.12.5"
  }
 },
 "nbformat": 4,
 "nbformat_minor": 5
}
