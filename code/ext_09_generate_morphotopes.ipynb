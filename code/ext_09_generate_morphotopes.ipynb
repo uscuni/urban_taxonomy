{
 "cells": [
  {
   "cell_type": "code",
   "execution_count": 1,
   "id": "098de00a-4c78-4d97-b1f7-59e627ad15dc",
   "metadata": {},
   "outputs": [],
   "source": [
    "import geopandas as gpd\n",
    "\n",
    "from joblib import Parallel, delayed\n",
    "\n",
    "from core.generate_clusters import process_single_region_morphotopes"
   ]
  },
  {
   "cell_type": "code",
   "execution_count": 6,
   "id": "ad0b74f3-ccf5-468e-96b6-cfa9a25cbf13",
   "metadata": {},
   "outputs": [],
   "source": [
    "country = 'fr_sp_nl_be'\n",
    "tessellations_dir = '/data/uscuni-ulce/processed_data/tessellations/'\n",
    "chars_dir = \"/data/uscuni-ulce/processed_data/chars/\"\n",
    "buildings_dir = \"/data/uscuni-ulce/processed_data/buildings/\"\n",
    "streets_dir = \"/data/uscuni-ulce/processed_data/streets/\"\n",
    "enclosures_dir = \"/data/uscuni-ulce/processed_data/enclosures/\"\n",
    "graph_dir = \"/data/uscuni-ulce/processed_data/neigh_graphs/\"\n",
    "morphotopes_dir = '/data/uscuni-ulce/processed_data/morphotopes/'\n",
    "regions_datadir = \"/data/uscuni-ulce/\""
   ]
  },
  {
   "cell_type": "code",
   "execution_count": 7,
   "id": "edc3a508-e562-4ebb-9955-61cc5a8088df",
   "metadata": {},
   "outputs": [],
   "source": [
    "region_hulls = gpd.read_parquet(regions_datadir + \"regions/\" + f\"{country}_regions_hull.parquet\")"
   ]
  },
  {
   "cell_type": "code",
   "execution_count": null,
   "id": "e27983aa-d2ad-4b48-aecf-a69519b65e67",
   "metadata": {},
   "outputs": [],
   "source": [
    "n_jobs = -1\n",
    "new = Parallel(n_jobs=n_jobs)(\n",
    "    delayed(process_single_region_morphotopes)(region_id, graph_dir,\n",
    "            buildings_dir,\n",
    "            streets_dir,\n",
    "            enclosures_dir,\n",
    "            tessellations_dir,\n",
    "            chars_dir, morphotopes_dir) for region_id, _ in region_hulls.iterrows()\n",
    ")"
   ]
  },
  {
   "cell_type": "code",
   "execution_count": 9,
   "id": "de38e453-b2b1-4689-b825-5ccdafd9f0ed",
   "metadata": {},
   "outputs": [
    {
     "data": {
      "text/html": [
       "<div>\n",
       "<style scoped>\n",
       "    .dataframe tbody tr th:only-of-type {\n",
       "        vertical-align: middle;\n",
       "    }\n",
       "\n",
       "    .dataframe tbody tr th {\n",
       "        vertical-align: top;\n",
       "    }\n",
       "\n",
       "    .dataframe thead th {\n",
       "        text-align: right;\n",
       "    }\n",
       "</style>\n",
       "<table border=\"1\" class=\"dataframe\">\n",
       "  <thead>\n",
       "    <tr style=\"text-align: right;\">\n",
       "      <th></th>\n",
       "      <th>convex_hull</th>\n",
       "    </tr>\n",
       "    <tr>\n",
       "      <th>labels</th>\n",
       "      <th></th>\n",
       "    </tr>\n",
       "  </thead>\n",
       "  <tbody>\n",
       "    <tr>\n",
       "      <th>157023</th>\n",
       "      <td>POLYGON ((1561900 1019000, 1561500 1019200, 15...</td>\n",
       "    </tr>\n",
       "    <tr>\n",
       "      <th>157095</th>\n",
       "      <td>POLYGON ((1602000 1102800, 1602000 1103200, 16...</td>\n",
       "    </tr>\n",
       "    <tr>\n",
       "      <th>157215</th>\n",
       "      <td>POLYGON ((1694200 1032400, 1646700 1032500, 16...</td>\n",
       "    </tr>\n",
       "    <tr>\n",
       "      <th>157294</th>\n",
       "      <td>POLYGON ((1708000 1011300, 1698500 1011500, 16...</td>\n",
       "    </tr>\n",
       "    <tr>\n",
       "      <th>157358</th>\n",
       "      <td>POLYGON ((1707700 1037200, 1707900 1039400, 17...</td>\n",
       "    </tr>\n",
       "    <tr>\n",
       "      <th>...</th>\n",
       "      <td>...</td>\n",
       "    </tr>\n",
       "    <tr>\n",
       "      <th>530756</th>\n",
       "      <td>POLYGON ((4164800 2843200, 4146900 2851600, 41...</td>\n",
       "    </tr>\n",
       "    <tr>\n",
       "      <th>531053</th>\n",
       "      <td>POLYGON ((4203400 2086900, 4201600 2117000, 42...</td>\n",
       "    </tr>\n",
       "    <tr>\n",
       "      <th>531165</th>\n",
       "      <td>POLYGON ((4258700 2026300, 4245100 2032800, 42...</td>\n",
       "    </tr>\n",
       "    <tr>\n",
       "      <th>532628</th>\n",
       "      <td>POLYGON ((4277300 2161300, 4216000 2161400, 42...</td>\n",
       "    </tr>\n",
       "    <tr>\n",
       "      <th>532663</th>\n",
       "      <td>POLYGON ((4276900 2103000, 4275400 2103600, 42...</td>\n",
       "    </tr>\n",
       "  </tbody>\n",
       "</table>\n",
       "<p>695 rows × 1 columns</p>\n",
       "</div>"
      ],
      "text/plain": [
       "                                              convex_hull\n",
       "labels                                                   \n",
       "157023  POLYGON ((1561900 1019000, 1561500 1019200, 15...\n",
       "157095  POLYGON ((1602000 1102800, 1602000 1103200, 16...\n",
       "157215  POLYGON ((1694200 1032400, 1646700 1032500, 16...\n",
       "157294  POLYGON ((1708000 1011300, 1698500 1011500, 16...\n",
       "157358  POLYGON ((1707700 1037200, 1707900 1039400, 17...\n",
       "...                                                   ...\n",
       "530756  POLYGON ((4164800 2843200, 4146900 2851600, 41...\n",
       "531053  POLYGON ((4203400 2086900, 4201600 2117000, 42...\n",
       "531165  POLYGON ((4258700 2026300, 4245100 2032800, 42...\n",
       "532628  POLYGON ((4277300 2161300, 4216000 2161400, 42...\n",
       "532663  POLYGON ((4276900 2103000, 4275400 2103600, 42...\n",
       "\n",
       "[695 rows x 1 columns]"
      ]
     },
     "execution_count": 9,
     "metadata": {},
     "output_type": "execute_result"
    }
   ],
   "source": [
    "region_hulls"
   ]
  },
  {
   "cell_type": "code",
   "execution_count": null,
   "id": "e6b1c635-f597-44b3-a85c-94ec72a57430",
   "metadata": {},
   "outputs": [],
   "source": []
  }
 ],
 "metadata": {
  "kernelspec": {
   "display_name": "Python 3 (ipykernel)",
   "language": "python",
   "name": "python3"
  },
  "language_info": {
   "codemirror_mode": {
    "name": "ipython",
    "version": 3
   },
   "file_extension": ".py",
   "mimetype": "text/x-python",
   "name": "python",
   "nbconvert_exporter": "python",
   "pygments_lexer": "ipython3",
   "version": "3.12.10"
  }
 },
 "nbformat": 4,
 "nbformat_minor": 5
}
