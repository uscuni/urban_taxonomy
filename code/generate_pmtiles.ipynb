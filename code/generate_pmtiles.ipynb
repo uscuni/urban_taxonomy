{
 "cells": [
  {
   "cell_type": "markdown",
   "id": "bbb52208-cb36-4655-a7cd-99ec53ed8098",
   "metadata": {},
   "source": [
    "# Generate PMTiles \n",
    "\n",
    "Take all the Parquet files, generate their FlatGeoBuff versions and generate regional PMTiles from those. Then merge all PMTiles to a single file for the final application."
   ]
  },
  {
   "cell_type": "code",
   "execution_count": 2,
   "id": "e40c0bca-9c99-46a1-9b30-b614cb94d97e",
   "metadata": {},
   "outputs": [],
   "source": [
    "import os\n",
    "import tempfile\n",
    "\n",
    "import geopandas as gpd\n",
    "from tqdm.auto import tqdm"
   ]
  },
  {
   "cell_type": "code",
   "execution_count": 3,
   "id": "f54f1bb5-5974-4143-8eff-c8d7e428f7b8",
   "metadata": {},
   "outputs": [],
   "source": [
    "pmtiles_destination = \"/data/uscuni-ulce/pmtiles/\""
   ]
  },
  {
   "cell_type": "code",
   "execution_count": 4,
   "id": "25802e4d-e644-4e14-b067-7ce941143bd0",
   "metadata": {},
   "outputs": [],
   "source": [
    "# os.mkdir(pmtiles_destination)\n",
    "# os.mkdir(pmtiles_destination + \"regions\")"
   ]
  },
  {
   "cell_type": "code",
   "execution_count": 5,
   "id": "09cf15d5-6cd6-4328-8ef4-43e98ebc7b88",
   "metadata": {},
   "outputs": [],
   "source": [
    "regions = gpd.read_parquet(\"/data/uscuni-ulce/regions/cadastre_regions_hull.parquet\")"
   ]
  },
  {
   "cell_type": "code",
   "execution_count": 6,
   "id": "e840204d-12f5-4530-87a8-a5e2841b738e",
   "metadata": {},
   "outputs": [],
   "source": [
    "v = \"v3\""
   ]
  },
  {
   "cell_type": "code",
   "execution_count": 10,
   "id": "81a14184-a03a-42b9-9555-e0d6c25b9007",
   "metadata": {},
   "outputs": [],
   "source": [
    "blg = gpd.read_parquet(f\"{folder}clusters_{69333}_{v}.pq\")"
   ]
  },
  {
   "cell_type": "code",
   "execution_count": 11,
   "id": "e1e11f63-a408-4485-9cfd-5b17bbcd0b33",
   "metadata": {},
   "outputs": [
    {
     "data": {
      "text/html": [
       "<div>\n",
       "<style scoped>\n",
       "    .dataframe tbody tr th:only-of-type {\n",
       "        vertical-align: middle;\n",
       "    }\n",
       "\n",
       "    .dataframe tbody tr th {\n",
       "        vertical-align: top;\n",
       "    }\n",
       "\n",
       "    .dataframe thead th {\n",
       "        text-align: right;\n",
       "    }\n",
       "</style>\n",
       "<table border=\"1\" class=\"dataframe\">\n",
       "  <thead>\n",
       "    <tr style=\"text-align: right;\">\n",
       "      <th></th>\n",
       "      <th>currentUse</th>\n",
       "      <th>buildingNature</th>\n",
       "      <th>heightAboveGround</th>\n",
       "      <th>iid</th>\n",
       "      <th>geometry</th>\n",
       "      <th>label</th>\n",
       "      <th>morph</th>\n",
       "      <th>final</th>\n",
       "      <th>regional</th>\n",
       "      <th>final_without_noise</th>\n",
       "    </tr>\n",
       "  </thead>\n",
       "  <tbody>\n",
       "    <tr>\n",
       "      <th>0</th>\n",
       "      <td>None</td>\n",
       "      <td>None</td>\n",
       "      <td>NaN</td>\n",
       "      <td>80677517</td>\n",
       "      <td>POLYGON ((4616718.204 3026081.581, 4616720.974...</td>\n",
       "      <td>0</td>\n",
       "      <td>69333_0_-1</td>\n",
       "      <td>-1</td>\n",
       "      <td>-1</td>\n",
       "      <td>84</td>\n",
       "    </tr>\n",
       "    <tr>\n",
       "      <th>1</th>\n",
       "      <td>None</td>\n",
       "      <td>None</td>\n",
       "      <td>NaN</td>\n",
       "      <td>80677518</td>\n",
       "      <td>POLYGON ((4617480.926 3025927.323, 4617486.098...</td>\n",
       "      <td>1775</td>\n",
       "      <td>69333_1_0</td>\n",
       "      <td>84</td>\n",
       "      <td>69333_148</td>\n",
       "      <td>84</td>\n",
       "    </tr>\n",
       "    <tr>\n",
       "      <th>2</th>\n",
       "      <td>None</td>\n",
       "      <td>None</td>\n",
       "      <td>NaN</td>\n",
       "      <td>80677519</td>\n",
       "      <td>POLYGON ((4617331.885 3025855.863, 4617331.941...</td>\n",
       "      <td>1775</td>\n",
       "      <td>69333_1_0</td>\n",
       "      <td>84</td>\n",
       "      <td>69333_148</td>\n",
       "      <td>84</td>\n",
       "    </tr>\n",
       "    <tr>\n",
       "      <th>3</th>\n",
       "      <td>None</td>\n",
       "      <td>None</td>\n",
       "      <td>NaN</td>\n",
       "      <td>80677520</td>\n",
       "      <td>POLYGON ((4617495.899 3025921.454, 4617499.35 ...</td>\n",
       "      <td>1775</td>\n",
       "      <td>69333_1_0</td>\n",
       "      <td>84</td>\n",
       "      <td>69333_148</td>\n",
       "      <td>84</td>\n",
       "    </tr>\n",
       "    <tr>\n",
       "      <th>4</th>\n",
       "      <td>None</td>\n",
       "      <td>None</td>\n",
       "      <td>NaN</td>\n",
       "      <td>80677521</td>\n",
       "      <td>POLYGON ((4617561.862 3026075.057, 4617564.522...</td>\n",
       "      <td>1775</td>\n",
       "      <td>69333_1_0</td>\n",
       "      <td>84</td>\n",
       "      <td>69333_148</td>\n",
       "      <td>84</td>\n",
       "    </tr>\n",
       "    <tr>\n",
       "      <th>...</th>\n",
       "      <td>...</td>\n",
       "      <td>...</td>\n",
       "      <td>...</td>\n",
       "      <td>...</td>\n",
       "      <td>...</td>\n",
       "      <td>...</td>\n",
       "      <td>...</td>\n",
       "      <td>...</td>\n",
       "      <td>...</td>\n",
       "      <td>...</td>\n",
       "    </tr>\n",
       "    <tr>\n",
       "      <th>446822</th>\n",
       "      <td>None</td>\n",
       "      <td>None</td>\n",
       "      <td>NaN</td>\n",
       "      <td>82307932</td>\n",
       "      <td>POLYGON ((4643444.536 3006455.727, 4643447.422...</td>\n",
       "      <td>5749</td>\n",
       "      <td>69333_849_640</td>\n",
       "      <td>3</td>\n",
       "      <td>69333_63</td>\n",
       "      <td>3</td>\n",
       "    </tr>\n",
       "    <tr>\n",
       "      <th>446823</th>\n",
       "      <td>None</td>\n",
       "      <td>None</td>\n",
       "      <td>NaN</td>\n",
       "      <td>82308166</td>\n",
       "      <td>POLYGON ((4640285.807 3000016.398, 4640291.15 ...</td>\n",
       "      <td>5146</td>\n",
       "      <td>69333_849_-1</td>\n",
       "      <td>-1</td>\n",
       "      <td>-1</td>\n",
       "      <td>3</td>\n",
       "    </tr>\n",
       "    <tr>\n",
       "      <th>446824</th>\n",
       "      <td>None</td>\n",
       "      <td>None</td>\n",
       "      <td>NaN</td>\n",
       "      <td>82308213</td>\n",
       "      <td>POLYGON ((4644217.544 3009263.369, 4644217.737...</td>\n",
       "      <td>5578</td>\n",
       "      <td>69333_849_487</td>\n",
       "      <td>83</td>\n",
       "      <td>69333_178</td>\n",
       "      <td>83</td>\n",
       "    </tr>\n",
       "    <tr>\n",
       "      <th>446825</th>\n",
       "      <td>None</td>\n",
       "      <td>None</td>\n",
       "      <td>NaN</td>\n",
       "      <td>82308225</td>\n",
       "      <td>POLYGON ((4637968.015 3010358.876, 4637978.019...</td>\n",
       "      <td>5602</td>\n",
       "      <td>69333_849_508</td>\n",
       "      <td>81</td>\n",
       "      <td>69333_110</td>\n",
       "      <td>81</td>\n",
       "    </tr>\n",
       "    <tr>\n",
       "      <th>446826</th>\n",
       "      <td>None</td>\n",
       "      <td>None</td>\n",
       "      <td>NaN</td>\n",
       "      <td>82308267</td>\n",
       "      <td>POLYGON ((4644096.486 3004382.941, 4644102.181...</td>\n",
       "      <td>5439</td>\n",
       "      <td>69333_849_361</td>\n",
       "      <td>94</td>\n",
       "      <td>69333_103</td>\n",
       "      <td>94</td>\n",
       "    </tr>\n",
       "  </tbody>\n",
       "</table>\n",
       "<p>446827 rows × 10 columns</p>\n",
       "</div>"
      ],
      "text/plain": [
       "       currentUse buildingNature  heightAboveGround       iid  \\\n",
       "0            None           None                NaN  80677517   \n",
       "1            None           None                NaN  80677518   \n",
       "2            None           None                NaN  80677519   \n",
       "3            None           None                NaN  80677520   \n",
       "4            None           None                NaN  80677521   \n",
       "...           ...            ...                ...       ...   \n",
       "446822       None           None                NaN  82307932   \n",
       "446823       None           None                NaN  82308166   \n",
       "446824       None           None                NaN  82308213   \n",
       "446825       None           None                NaN  82308225   \n",
       "446826       None           None                NaN  82308267   \n",
       "\n",
       "                                                 geometry  label  \\\n",
       "0       POLYGON ((4616718.204 3026081.581, 4616720.974...      0   \n",
       "1       POLYGON ((4617480.926 3025927.323, 4617486.098...   1775   \n",
       "2       POLYGON ((4617331.885 3025855.863, 4617331.941...   1775   \n",
       "3       POLYGON ((4617495.899 3025921.454, 4617499.35 ...   1775   \n",
       "4       POLYGON ((4617561.862 3026075.057, 4617564.522...   1775   \n",
       "...                                                   ...    ...   \n",
       "446822  POLYGON ((4643444.536 3006455.727, 4643447.422...   5749   \n",
       "446823  POLYGON ((4640285.807 3000016.398, 4640291.15 ...   5146   \n",
       "446824  POLYGON ((4644217.544 3009263.369, 4644217.737...   5578   \n",
       "446825  POLYGON ((4637968.015 3010358.876, 4637978.019...   5602   \n",
       "446826  POLYGON ((4644096.486 3004382.941, 4644102.181...   5439   \n",
       "\n",
       "                morph  final   regional  final_without_noise  \n",
       "0          69333_0_-1     -1         -1                   84  \n",
       "1           69333_1_0     84  69333_148                   84  \n",
       "2           69333_1_0     84  69333_148                   84  \n",
       "3           69333_1_0     84  69333_148                   84  \n",
       "4           69333_1_0     84  69333_148                   84  \n",
       "...               ...    ...        ...                  ...  \n",
       "446822  69333_849_640      3   69333_63                    3  \n",
       "446823   69333_849_-1     -1         -1                    3  \n",
       "446824  69333_849_487     83  69333_178                   83  \n",
       "446825  69333_849_508     81  69333_110                   81  \n",
       "446826  69333_849_361     94  69333_103                   94  \n",
       "\n",
       "[446827 rows x 10 columns]"
      ]
     },
     "execution_count": 11,
     "metadata": {},
     "output_type": "execute_result"
    }
   ],
   "source": [
    "blg"
   ]
  },
  {
   "cell_type": "markdown",
   "id": "f784479e-499c-46c9-88e7-b5825f19e070",
   "metadata": {},
   "source": [
    "## Buildings"
   ]
  },
  {
   "cell_type": "code",
   "execution_count": 7,
   "id": "c5a00394-d3b5-4d39-97aa-ab62d6b8c065",
   "metadata": {},
   "outputs": [],
   "source": [
    "folder = \"/data/uscuni-ulce/processed_data/clusters/\""
   ]
  },
  {
   "cell_type": "code",
   "execution_count": 9,
   "id": "38574937-dbcc-4e52-9ccb-01963f2fc84c",
   "metadata": {},
   "outputs": [
    {
     "data": {
      "application/vnd.jupyter.widget-view+json": {
       "model_id": "66aeaef452b74ba8a3cd7b01969ee5f7",
       "version_major": 2,
       "version_minor": 0
      },
      "text/plain": [
       "  0%|          | 0/847 [00:00<?, ?it/s]"
      ]
     },
     "metadata": {},
     "output_type": "display_data"
    }
   ],
   "source": [
    "for region in tqdm(regions.index[::-1]):\n",
    "    # Create a temporary directory\n",
    "    with tempfile.TemporaryDirectory() as temp_dir:\n",
    "        # Define the file path\n",
    "        file_path = f\"{temp_dir}/region.fgb\"\n",
    "        gpd.read_parquet(f\"{folder}clusters_{region}_{v}.pq\").to_crs(4326).to_file(file_path)\n",
    "        os.system(f\"\"\"tippecanoe -o {pmtiles_destination}regions/{region}.pmtiles -l buildings -pf -pk -A '<a href=\"https://uscuni.org/\", target=\"_blank\">Charles University</a>' -q --force {file_path}\"\"\")"
   ]
  },
  {
   "cell_type": "code",
   "execution_count": 12,
   "id": "ec898b31-c92a-475f-abe5-9b7ad9ca8ba6",
   "metadata": {},
   "outputs": [
    {
     "name": "stderr",
     "output_type": "stream",
     "text": [
      "14/9389/5130  \r"
     ]
    },
    {
     "data": {
      "text/plain": [
       "0"
      ]
     },
     "execution_count": 12,
     "metadata": {},
     "output_type": "execute_result"
    }
   ],
   "source": [
    "os.system(f\"tile-join -o {pmtiles_destination}complete.pmtiles -f -pk {pmtiles_destination}regions/*.pmtiles\")"
   ]
  },
  {
   "cell_type": "markdown",
   "id": "7f3301e9-210b-4d98-8a62-15f823c03c65",
   "metadata": {},
   "source": [
    "## Morphotopes"
   ]
  },
  {
   "cell_type": "code",
   "execution_count": 13,
   "id": "72664217-3c7d-483e-8932-d4a5e0479eb9",
   "metadata": {},
   "outputs": [],
   "source": [
    "folder = \"/data/uscuni-ulce/processed_data/morphotope_clusters/\""
   ]
  },
  {
   "cell_type": "code",
   "execution_count": 14,
   "id": "0936aa61-d368-45f3-b8de-42e30fa2991b",
   "metadata": {},
   "outputs": [],
   "source": [
    "# os.mkdir(pmtiles_destination + \"morphotopes\")"
   ]
  },
  {
   "cell_type": "code",
   "execution_count": 15,
   "id": "d2a0db3b-8f18-488d-b78b-538bf6d0fb2c",
   "metadata": {},
   "outputs": [
    {
     "data": {
      "application/vnd.jupyter.widget-view+json": {
       "model_id": "3ed2fe19c0174c08afa52e516517195b",
       "version_major": 2,
       "version_minor": 0
      },
      "text/plain": [
       "  0%|          | 0/847 [00:00<?, ?it/s]"
      ]
     },
     "metadata": {},
     "output_type": "display_data"
    }
   ],
   "source": [
    "for region in tqdm(regions.index[::-1]):\n",
    "    # Create a temporary directory\n",
    "    with tempfile.TemporaryDirectory() as temp_dir:\n",
    "        # Define the file path\n",
    "        file_path = f\"{temp_dir}/region.fgb\"\n",
    "        gpd.read_parquet(f\"{folder}{region}_clusters.pq\").to_crs(4326).to_file(file_path)\n",
    "        os.system(f\"\"\"tippecanoe -o {pmtiles_destination}morphotopes/{region}.pmtiles -z 12 -l morphotopes --coalesce-densest-as-needed -A '<a href=\"https://uscuni.org/\", target=\"_blank\">Charles University</a>' -q --force {file_path}\"\"\")"
   ]
  },
  {
   "cell_type": "code",
   "execution_count": 16,
   "id": "e84f59dc-2e02-4dee-b3e9-5944a17a409c",
   "metadata": {},
   "outputs": [
    {
     "name": "stderr",
     "output_type": "stream",
     "text": [
      "12/2320/1292  \r"
     ]
    },
    {
     "data": {
      "text/plain": [
       "0"
      ]
     },
     "execution_count": 16,
     "metadata": {},
     "output_type": "execute_result"
    }
   ],
   "source": [
    "os.system(f\"tile-join -o {pmtiles_destination}morphotopes.pmtiles -f -pk {pmtiles_destination}morphotopes/*.pmtiles\")"
   ]
  },
  {
   "cell_type": "markdown",
   "id": "263c94d2-b841-4cdb-8203-90de860c26f4",
   "metadata": {},
   "source": [
    "## 250m grid"
   ]
  },
  {
   "cell_type": "code",
   "execution_count": 17,
   "id": "ab787e29-1051-4ea2-9c73-44ccff4bbc21",
   "metadata": {},
   "outputs": [],
   "source": [
    "folder = \"/data/uscuni-ulce/grid_250/\""
   ]
  },
  {
   "cell_type": "code",
   "execution_count": 18,
   "id": "cc112217-1de5-495c-a509-5b0bca03d668",
   "metadata": {},
   "outputs": [
    {
     "ename": "FileExistsError",
     "evalue": "[Errno 17] File exists: '/data/uscuni-ulce/pmtiles/grid_250'",
     "output_type": "error",
     "traceback": [
      "\u001b[0;31m---------------------------------------------------------------------------\u001b[0m",
      "\u001b[0;31mFileExistsError\u001b[0m                           Traceback (most recent call last)",
      "Cell \u001b[0;32mIn[18], line 1\u001b[0m\n\u001b[0;32m----> 1\u001b[0m \u001b[43mos\u001b[49m\u001b[38;5;241;43m.\u001b[39;49m\u001b[43mmkdir\u001b[49m\u001b[43m(\u001b[49m\u001b[43mpmtiles_destination\u001b[49m\u001b[43m \u001b[49m\u001b[38;5;241;43m+\u001b[39;49m\u001b[43m \u001b[49m\u001b[38;5;124;43m\"\u001b[39;49m\u001b[38;5;124;43mgrid_250\u001b[39;49m\u001b[38;5;124;43m\"\u001b[39;49m\u001b[43m)\u001b[49m\n",
      "\u001b[0;31mFileExistsError\u001b[0m: [Errno 17] File exists: '/data/uscuni-ulce/pmtiles/grid_250'"
     ]
    }
   ],
   "source": [
    "# os.mkdir(pmtiles_destination + \"grid_250\")"
   ]
  },
  {
   "cell_type": "code",
   "execution_count": null,
   "id": "65c85195-a97c-465b-88d4-99160e2a934d",
   "metadata": {},
   "outputs": [
    {
     "data": {
      "application/vnd.jupyter.widget-view+json": {
       "model_id": "d575c1513c7f46508b22e162833c629e",
       "version_major": 2,
       "version_minor": 0
      },
      "text/plain": [
       "  0%|          | 0/847 [00:00<?, ?it/s]"
      ]
     },
     "metadata": {},
     "output_type": "display_data"
    }
   ],
   "source": [
    "for region in tqdm(regions.index[::-1]):\n",
    "    # Create a temporary directory\n",
    "    with tempfile.TemporaryDirectory() as temp_dir:\n",
    "        # Define the file path\n",
    "        file_path = f\"{temp_dir}/region.fgb\"\n",
    "        gpd.read_parquet(f\"{folder}{region}_clusters.pq\").to_crs(4326).to_file(file_path)\n",
    "        os.system(f\"\"\"tippecanoe -o {pmtiles_destination}grid_250/{region}.pmtiles -z 11 -l grid --coalesce-densest-as-needed -A '<a href=\"https://uscuni.org/\", target=\"_blank\">Charles University</a>' -q --force {file_path}\"\"\")"
   ]
  },
  {
   "cell_type": "code",
   "execution_count": null,
   "id": "fbddefb5-166b-4645-b588-00b21d760342",
   "metadata": {},
   "outputs": [],
   "source": [
    "os.system(f\"tile-join -o {pmtiles_destination}grid_250.pmtiles -f -pk {pmtiles_destination}grid_250/*.pmtiles\")"
   ]
  },
  {
   "cell_type": "markdown",
   "id": "0d5d4860-c7a3-4c0c-931c-673b842014ef",
   "metadata": {},
   "source": [
    "## H3"
   ]
  },
  {
   "cell_type": "code",
   "execution_count": 21,
   "id": "148a9b0c-7ac6-46f6-ba12-bb0c4676786b",
   "metadata": {},
   "outputs": [],
   "source": [
    "folder = \"/data/uscuni-ulce/h3/\""
   ]
  },
  {
   "cell_type": "code",
   "execution_count": 18,
   "id": "7e103ec7-a0ce-412a-b68a-b9273b606aa2",
   "metadata": {},
   "outputs": [],
   "source": [
    "# os.mkdir(pmtiles_destination + \"h3\")"
   ]
  },
  {
   "cell_type": "code",
   "execution_count": 22,
   "id": "4f9a2a0a-d5b2-438a-a7e7-abeffe741d69",
   "metadata": {},
   "outputs": [
    {
     "data": {
      "application/vnd.jupyter.widget-view+json": {
       "model_id": "f8328a04be444ac584a77fb1dc903189",
       "version_major": 2,
       "version_minor": 0
      },
      "text/plain": [
       "  0%|          | 0/847 [00:00<?, ?it/s]"
      ]
     },
     "metadata": {},
     "output_type": "display_data"
    }
   ],
   "source": [
    "for region in tqdm(regions.index[::-1]):\n",
    "    # Create a temporary directory\n",
    "    with tempfile.TemporaryDirectory() as temp_dir:\n",
    "        # Define the file path\n",
    "        file_path = f\"{temp_dir}/region.fgb\"\n",
    "        gpd.read_parquet(f\"{folder}{region}_clusters.pq\").to_crs(4326).to_file(file_path)\n",
    "        os.system(f\"\"\"tippecanoe -o {pmtiles_destination}h3/{region}.pmtiles -z 12 -l h3 --coalesce-densest-as-needed -A '<a href=\"https://uscuni.org/\", target=\"_blank\">Charles University</a>' -q --force {file_path}\"\"\")"
   ]
  },
  {
   "cell_type": "code",
   "execution_count": 23,
   "id": "f2b78873-0f9d-4ea0-aae9-56dc5bf099cf",
   "metadata": {},
   "outputs": [
    {
     "name": "stderr",
     "output_type": "stream",
     "text": [
      "12/2320/1307  \r"
     ]
    },
    {
     "data": {
      "text/plain": [
       "0"
      ]
     },
     "execution_count": 23,
     "metadata": {},
     "output_type": "execute_result"
    }
   ],
   "source": [
    "os.system(f\"tile-join -o {pmtiles_destination}h3.pmtiles -f -pk {pmtiles_destination}h3/*.pmtiles\")"
   ]
  },
  {
   "cell_type": "code",
   "execution_count": 24,
   "id": "4f206e4f-86b6-45a1-8954-1037c171799f",
   "metadata": {},
   "outputs": [
    {
     "name": "stdout",
     "output_type": "stream",
     "text": [
      "upload: ../../../../../data/uscuni-ulce/pmtiles/h3.pmtiles to s3://uscuni-public/h3.pmtiles\n"
     ]
    },
    {
     "data": {
      "text/plain": [
       "0"
      ]
     },
     "execution_count": 24,
     "metadata": {},
     "output_type": "execute_result"
    }
   ],
   "source": [
    "os.system(\"aws s3 --profile uscuni cp /data/uscuni-ulce/pmtiles/h3.pmtiles s3://uscuni-public\")"
   ]
  },
  {
   "cell_type": "code",
   "execution_count": null,
   "id": "4c98afce-3a43-43ec-8d63-e0c90fec5973",
   "metadata": {},
   "outputs": [],
   "source": []
  }
 ],
 "metadata": {
  "kernelspec": {
   "display_name": "Python 3 (ipykernel)",
   "language": "python",
   "name": "python3"
  },
  "language_info": {
   "codemirror_mode": {
    "name": "ipython",
    "version": 3
   },
   "file_extension": ".py",
   "mimetype": "text/x-python",
   "name": "python",
   "nbconvert_exporter": "python",
   "pygments_lexer": "ipython3",
   "version": "3.12.8"
  }
 },
 "nbformat": 4,
 "nbformat_minor": 5
}
