{
 "cells": [
  {
   "cell_type": "markdown",
   "id": "bbb52208-cb36-4655-a7cd-99ec53ed8098",
   "metadata": {},
   "source": [
    "# Generate PMTiles \n",
    "\n",
    "Take all the Parquet files, generate their FlatGeoBuff versions and generate regional PMTiles from those. Then merge all PMTiles to a single file for the final application."
   ]
  },
  {
   "cell_type": "code",
   "execution_count": 1,
   "id": "e40c0bca-9c99-46a1-9b30-b614cb94d97e",
   "metadata": {},
   "outputs": [],
   "source": [
    "import os\n",
    "import tempfile\n",
    "from pathlib import Path\n",
    "\n",
    "import geopandas as gpd\n",
    "from tqdm.auto import tqdm\n",
    "from glob import glob"
   ]
  },
  {
   "cell_type": "code",
   "execution_count": null,
   "id": "f54f1bb5-5974-4143-8eff-c8d7e428f7b8",
   "metadata": {},
   "outputs": [],
   "source": [
    "pmtiles_destination = \"/data/uscuni-ulce/pmtiles/\""
   ]
  },
  {
   "cell_type": "code",
   "execution_count": 4,
   "id": "25802e4d-e644-4e14-b067-7ce941143bd0",
   "metadata": {
    "collapsed": true,
    "jupyter": {
     "outputs_hidden": true
    }
   },
   "outputs": [
    {
     "ename": "FileExistsError",
     "evalue": "[Errno 17] File exists: '/data/uscuni-ulce/pmtiles_v10/nuts1'",
     "output_type": "error",
     "traceback": [
      "\u001b[31m---------------------------------------------------------------------------\u001b[39m",
      "\u001b[31mFileExistsError\u001b[39m                           Traceback (most recent call last)",
      "\u001b[36mCell\u001b[39m\u001b[36m \u001b[39m\u001b[32mIn[4]\u001b[39m\u001b[32m, line 2\u001b[39m\n\u001b[32m      1\u001b[39m \u001b[38;5;66;03m# os.mkdir(pmtiles_destination)\u001b[39;00m\n\u001b[32m----> \u001b[39m\u001b[32m2\u001b[39m \u001b[43mos\u001b[49m\u001b[43m.\u001b[49m\u001b[43mmkdir\u001b[49m\u001b[43m(\u001b[49m\u001b[43mpmtiles_destination\u001b[49m\u001b[43m \u001b[49m\u001b[43m+\u001b[49m\u001b[43m \u001b[49m\u001b[33;43m\"\u001b[39;49m\u001b[33;43mnuts1\u001b[39;49m\u001b[33;43m\"\u001b[39;49m\u001b[43m)\u001b[49m\n",
      "\u001b[31mFileExistsError\u001b[39m: [Errno 17] File exists: '/data/uscuni-ulce/pmtiles_v10/nuts1'"
     ]
    }
   ],
   "source": [
    "# os.mkdir(pmtiles_destination)\n",
    "os.mkdir(pmtiles_destination + \"nuts1\")"
   ]
  },
  {
   "cell_type": "code",
   "execution_count": 5,
   "id": "09cf15d5-6cd6-4328-8ef4-43e98ebc7b88",
   "metadata": {},
   "outputs": [],
   "source": [
    "regions = glob('/data/uscuni-ulce/data_product/***.parquet')"
   ]
  },
  {
   "cell_type": "code",
   "execution_count": 6,
   "id": "dcfdc306-017c-494c-bd47-3f05d21bdff7",
   "metadata": {},
   "outputs": [],
   "source": [
    "regions = [r for r in regions if len(r) == 42]"
   ]
  },
  {
   "cell_type": "markdown",
   "id": "f784479e-499c-46c9-88e7-b5825f19e070",
   "metadata": {},
   "source": [
    "## Buildings"
   ]
  },
  {
   "cell_type": "code",
   "execution_count": 7,
   "id": "c5a00394-d3b5-4d39-97aa-ab62d6b8c065",
   "metadata": {},
   "outputs": [],
   "source": [
    "folder = f\"/data/uscuni-ulce/processed_data/clusters/{v}/\""
   ]
  },
  {
   "cell_type": "code",
   "execution_count": 8,
   "id": "38574937-dbcc-4e52-9ccb-01963f2fc84c",
   "metadata": {},
   "outputs": [
    {
     "data": {
      "application/vnd.jupyter.widget-view+json": {
       "model_id": "9c1e6ff2188e4864926551c2bd4184e9",
       "version_major": 2,
       "version_minor": 0
      },
      "text/plain": [
       "  0%|          | 0/29 [00:00<?, ?it/s]"
      ]
     },
     "metadata": {},
     "output_type": "display_data"
    }
   ],
   "source": [
    "for region in tqdm(regions):\n",
    "    # Create a temporary directory\n",
    "    with tempfile.TemporaryDirectory() as temp_dir:\n",
    "        # Define the file path\n",
    "        file_path = f\"{temp_dir}/region.fgb\"\n",
    "        gpd.read_parquet(region).to_crs(4326).to_file(file_path)\n",
    "        os.system(f\"\"\"pixi run tippecanoe -o {pmtiles_destination}nuts1/{Path(region).stem}.pmtiles -l buildings -pf -pk -A '<a href=\"https://uscuni.org/\", target=\"_blank\">Charles University</a>' -q --force {file_path}\"\"\")"
   ]
  },
  {
   "cell_type": "code",
   "execution_count": 9,
   "id": "ec898b31-c92a-475f-abe5-9b7ad9ca8ba6",
   "metadata": {},
   "outputs": [
    {
     "name": "stderr",
     "output_type": "stream",
     "text": [
      "14/9384/5162  "
     ]
    },
    {
     "data": {
      "text/plain": [
       "0"
      ]
     },
     "execution_count": 9,
     "metadata": {},
     "output_type": "execute_result"
    }
   ],
   "source": [
    "os.system(f\"pixi run tile-join -o {pmtiles_destination}complete.pmtiles -f -pk {pmtiles_destination}nuts1/*.pmtiles\")"
   ]
  },
  {
   "cell_type": "code",
   "execution_count": null,
   "id": "148a9b0c-7ac6-46f6-ba12-bb0c4676786b",
   "metadata": {},
   "outputs": [],
   "source": [
    "folder = \"/data/uscuni-ulce/grids/h3/\""
   ]
  },
  {
   "cell_type": "code",
   "execution_count": null,
   "id": "7e103ec7-a0ce-412a-b68a-b9273b606aa2",
   "metadata": {},
   "outputs": [],
   "source": [
    "# os.mkdir(pmtiles_destination + \"h3\")"
   ]
  },
  {
   "cell_type": "code",
   "execution_count": null,
   "id": "4f9a2a0a-d5b2-438a-a7e7-abeffe741d69",
   "metadata": {},
   "outputs": [],
   "source": [
    "for region in tqdm(regions.index[::-1]):\n",
    "    # Create a temporary directory\n",
    "    with tempfile.TemporaryDirectory() as temp_dir:\n",
    "        # Define the file path\n",
    "        file_path = f\"{temp_dir}/region.fgb\"\n",
    "        gpd.read_parquet(f\"{folder}{region}_clusters.pq\").to_crs(4326).to_file(file_path)\n",
    "        os.system(f\"\"\"pixi run tippecanoe -o {pmtiles_destination}h3/{region}.pmtiles -z 12 -l h3 --coalesce-densest-as-needed -A '<a href=\"https://uscuni.org/\", target=\"_blank\">Charles University</a>' -q --force {file_path}\"\"\")"
   ]
  },
  {
   "cell_type": "code",
   "execution_count": null,
   "id": "f2b78873-0f9d-4ea0-aae9-56dc5bf099cf",
   "metadata": {},
   "outputs": [],
   "source": [
    "os.system(f\"pixi run tile-join -o {pmtiles_destination}h3.pmtiles -f -pk {pmtiles_destination}h3/*.pmtiles\")"
   ]
  },
  {
   "cell_type": "code",
   "execution_count": null,
   "id": "4f206e4f-86b6-45a1-8954-1037c171799f",
   "metadata": {},
   "outputs": [],
   "source": [
    "os.system(\"aws s3 --profile uscuni cp /data/uscuni-ulce/pmtiles/h3.pmtiles s3://uscuni-public\")"
   ]
  },
  {
   "cell_type": "code",
   "execution_count": null,
   "id": "4c98afce-3a43-43ec-8d63-e0c90fec5973",
   "metadata": {},
   "outputs": [],
   "source": []
  }
 ],
 "metadata": {
  "kernelspec": {
   "display_name": "Python 3 (ipykernel)",
   "language": "python",
   "name": "python3"
  },
  "language_info": {
   "codemirror_mode": {
    "name": "ipython",
    "version": 3
   },
   "file_extension": ".py",
   "mimetype": "text/x-python",
   "name": "python",
   "nbconvert_exporter": "python",
   "pygments_lexer": "ipython3",
   "version": "3.12.10"
  }
 },
 "nbformat": 4,
 "nbformat_minor": 5
}
