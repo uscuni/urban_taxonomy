{
 "cells": [
  {
   "cell_type": "markdown",
   "id": "bbb52208-cb36-4655-a7cd-99ec53ed8098",
   "metadata": {},
   "source": [
    "# Generate PMTiles \n",
    "\n",
    "Take all the Parquet files, generate their FlatGeoBuff versions and generate regional PMTiles from those. Then merge all PMTiles to a single file for the final application."
   ]
  },
  {
   "cell_type": "code",
   "execution_count": 9,
   "id": "e40c0bca-9c99-46a1-9b30-b614cb94d97e",
   "metadata": {},
   "outputs": [],
   "source": [
    "import os\n",
    "import tempfile\n",
    "\n",
    "import geopandas as gpd\n",
    "from tqdm.auto import tqdm"
   ]
  },
  {
   "cell_type": "code",
   "execution_count": 10,
   "id": "f54f1bb5-5974-4143-8eff-c8d7e428f7b8",
   "metadata": {},
   "outputs": [],
   "source": [
    "pmtiles_destination = \"/data/uscuni-ulce/pmtiles/\""
   ]
  },
  {
   "cell_type": "code",
   "execution_count": 3,
   "id": "25802e4d-e644-4e14-b067-7ce941143bd0",
   "metadata": {},
   "outputs": [],
   "source": [
    "# os.mkdir(pmtiles_destination)\n",
    "# os.mkdir(pmtiles_destination + \"regions\")"
   ]
  },
  {
   "cell_type": "code",
   "execution_count": 11,
   "id": "09cf15d5-6cd6-4328-8ef4-43e98ebc7b88",
   "metadata": {},
   "outputs": [],
   "source": [
    "regions = gpd.read_parquet(\"/data/uscuni-ulce/regions/cadastre_regions_hull.parquet\")"
   ]
  },
  {
   "cell_type": "markdown",
   "id": "f784479e-499c-46c9-88e7-b5825f19e070",
   "metadata": {},
   "source": [
    "## Buildings"
   ]
  },
  {
   "cell_type": "code",
   "execution_count": null,
   "id": "c5a00394-d3b5-4d39-97aa-ab62d6b8c065",
   "metadata": {},
   "outputs": [],
   "source": [
    "folder = \"/data/uscuni-ulce/processed_data/clusters/\""
   ]
  },
  {
   "cell_type": "code",
   "execution_count": 4,
   "id": "a136eb23-90f4-47fc-bb51-4f9bbd0846fa",
   "metadata": {
    "scrolled": true
   },
   "outputs": [],
   "source": [
    "# os.mkdir(folder + \"fgb\")"
   ]
  },
  {
   "cell_type": "code",
   "execution_count": 15,
   "id": "38574937-dbcc-4e52-9ccb-01963f2fc84c",
   "metadata": {},
   "outputs": [
    {
     "data": {
      "application/vnd.jupyter.widget-view+json": {
       "model_id": "d85a580ffa864ac993666373ee3e4d75",
       "version_major": 2,
       "version_minor": 0
      },
      "text/plain": [
       "  0%|          | 0/847 [00:00<?, ?it/s]"
      ]
     },
     "metadata": {},
     "output_type": "display_data"
    }
   ],
   "source": [
    "for region in tqdm(regions.index[::-1]):\n",
    "    # Create a temporary directory\n",
    "    with tempfile.TemporaryDirectory() as temp_dir:\n",
    "        # Define the file path\n",
    "        file_path = f\"{temp_dir}/region.fgb\"\n",
    "        gpd.read_parquet(f\"{folder}{region}_clusters.pq\").to_crs(4326).to_file(file_path)\n",
    "        os.system(f\"\"\"tippecanoe -o {pmtiles_destination}regions/{region}.pmtiles -l buildings -pf -pk -A '<a href=\"https://uscuni.org/\", target=\"_blank\">Charles University</a>' -q --force {file_path}\"\"\")"
   ]
  },
  {
   "cell_type": "code",
   "execution_count": 7,
   "id": "ec898b31-c92a-475f-abe5-9b7ad9ca8ba6",
   "metadata": {},
   "outputs": [
    {
     "name": "stderr",
     "output_type": "stream",
     "text": [
      "14/9389/5130  \r"
     ]
    },
    {
     "data": {
      "text/plain": [
       "0"
      ]
     },
     "execution_count": 7,
     "metadata": {},
     "output_type": "execute_result"
    }
   ],
   "source": [
    "os.system(f\"tile-join -o {pmtiles_destination}complete.pmtiles -f -pk {pmtiles_destination}regions/*.pmtiles\")"
   ]
  },
  {
   "cell_type": "markdown",
   "id": "7f3301e9-210b-4d98-8a62-15f823c03c65",
   "metadata": {},
   "source": [
    "## Morphotopes"
   ]
  },
  {
   "cell_type": "code",
   "execution_count": 12,
   "id": "72664217-3c7d-483e-8932-d4a5e0479eb9",
   "metadata": {},
   "outputs": [],
   "source": [
    "folder = \"/data/uscuni-ulce/processed_data/morphotope_clusters/\""
   ]
  },
  {
   "cell_type": "code",
   "execution_count": 14,
   "id": "0936aa61-d368-45f3-b8de-42e30fa2991b",
   "metadata": {},
   "outputs": [],
   "source": [
    "# os.mkdir(pmtiles_destination + \"morphotopes\")"
   ]
  },
  {
   "cell_type": "code",
   "execution_count": 15,
   "id": "d2a0db3b-8f18-488d-b78b-538bf6d0fb2c",
   "metadata": {},
   "outputs": [
    {
     "data": {
      "application/vnd.jupyter.widget-view+json": {
       "model_id": "d85a580ffa864ac993666373ee3e4d75",
       "version_major": 2,
       "version_minor": 0
      },
      "text/plain": [
       "  0%|          | 0/847 [00:00<?, ?it/s]"
      ]
     },
     "metadata": {},
     "output_type": "display_data"
    }
   ],
   "source": [
    "for region in tqdm(regions.index[::-1]):\n",
    "    # Create a temporary directory\n",
    "    with tempfile.TemporaryDirectory() as temp_dir:\n",
    "        # Define the file path\n",
    "        file_path = f\"{temp_dir}/region.fgb\"\n",
    "        gpd.read_parquet(f\"{folder}{region}_clusters.pq\").to_crs(4326).to_file(file_path)\n",
    "        os.system(f\"\"\"tippecanoe -o {pmtiles_destination}morphotopes/{region}.pmtiles -z 12 -l morphotopes --coalesce-densest-as-needed -A '<a href=\"https://uscuni.org/\", target=\"_blank\">Charles University</a>' -q --force {file_path}\"\"\")"
   ]
  },
  {
   "cell_type": "code",
   "execution_count": 21,
   "id": "e84f59dc-2e02-4dee-b3e9-5944a17a409c",
   "metadata": {},
   "outputs": [
    {
     "name": "stderr",
     "output_type": "stream",
     "text": [
      "12/2320/1292  \r"
     ]
    },
    {
     "data": {
      "text/plain": [
       "0"
      ]
     },
     "execution_count": 21,
     "metadata": {},
     "output_type": "execute_result"
    }
   ],
   "source": [
    "os.system(f\"tile-join -o {pmtiles_destination}morphotopes.pmtiles -f -pk {pmtiles_destination}morphotopes/*.pmtiles\")"
   ]
  },
  {
   "cell_type": "markdown",
   "id": "0d5d4860-c7a3-4c0c-931c-673b842014ef",
   "metadata": {},
   "source": [
    "## H3"
   ]
  },
  {
   "cell_type": "code",
   "execution_count": 27,
   "id": "148a9b0c-7ac6-46f6-ba12-bb0c4676786b",
   "metadata": {},
   "outputs": [],
   "source": [
    "folder = \"/data/uscuni-ulce/h3/\""
   ]
  },
  {
   "cell_type": "code",
   "execution_count": 18,
   "id": "7e103ec7-a0ce-412a-b68a-b9273b606aa2",
   "metadata": {},
   "outputs": [],
   "source": [
    "os.mkdir(pmtiles_destination + \"h3\")"
   ]
  },
  {
   "cell_type": "code",
   "execution_count": 28,
   "id": "4f9a2a0a-d5b2-438a-a7e7-abeffe741d69",
   "metadata": {},
   "outputs": [
    {
     "data": {
      "application/vnd.jupyter.widget-view+json": {
       "model_id": "ed52d85e9c8d4ef09eec20f46a949dbb",
       "version_major": 2,
       "version_minor": 0
      },
      "text/plain": [
       "  0%|          | 0/847 [00:00<?, ?it/s]"
      ]
     },
     "metadata": {},
     "output_type": "display_data"
    }
   ],
   "source": [
    "for region in tqdm(regions.index[::-1]):\n",
    "    # Create a temporary directory\n",
    "    with tempfile.TemporaryDirectory() as temp_dir:\n",
    "        # Define the file path\n",
    "        file_path = f\"{temp_dir}/region.fgb\"\n",
    "        gpd.read_parquet(f\"{folder}{region}_clusters.pq\").to_crs(4326).to_file(file_path)\n",
    "        os.system(f\"\"\"tippecanoe -o {pmtiles_destination}h3/{region}.pmtiles -z 12 -l h3 --coalesce-densest-as-needed -A '<a href=\"https://uscuni.org/\", target=\"_blank\">Charles University</a>' -q --force {file_path}\"\"\")"
   ]
  },
  {
   "cell_type": "code",
   "execution_count": 22,
   "id": "f2b78873-0f9d-4ea0-aae9-56dc5bf099cf",
   "metadata": {},
   "outputs": [
    {
     "name": "stderr",
     "output_type": "stream",
     "text": [
      "12/2320/1307  \r"
     ]
    },
    {
     "data": {
      "text/plain": [
       "0"
      ]
     },
     "execution_count": 22,
     "metadata": {},
     "output_type": "execute_result"
    }
   ],
   "source": [
    "os.system(f\"tile-join -o {pmtiles_destination}h3.pmtiles -f -pk {pmtiles_destination}h3/*.pmtiles\")"
   ]
  },
  {
   "cell_type": "markdown",
   "id": "263c94d2-b841-4cdb-8203-90de860c26f4",
   "metadata": {},
   "source": [
    "## 250m grid"
   ]
  },
  {
   "cell_type": "code",
   "execution_count": 29,
   "id": "ab787e29-1051-4ea2-9c73-44ccff4bbc21",
   "metadata": {},
   "outputs": [],
   "source": [
    "folder = \"/data/uscuni-ulce/grid_250/\""
   ]
  },
  {
   "cell_type": "code",
   "execution_count": 24,
   "id": "cc112217-1de5-495c-a509-5b0bca03d668",
   "metadata": {},
   "outputs": [],
   "source": [
    "os.mkdir(pmtiles_destination + \"grid_250\")"
   ]
  },
  {
   "cell_type": "code",
   "execution_count": 30,
   "id": "65c85195-a97c-465b-88d4-99160e2a934d",
   "metadata": {},
   "outputs": [
    {
     "data": {
      "application/vnd.jupyter.widget-view+json": {
       "model_id": "5535ced17cb44df5a335b504fe14e379",
       "version_major": 2,
       "version_minor": 0
      },
      "text/plain": [
       "  0%|          | 0/847 [00:00<?, ?it/s]"
      ]
     },
     "metadata": {},
     "output_type": "display_data"
    }
   ],
   "source": [
    "for region in tqdm(regions.index[::-1]):\n",
    "    # Create a temporary directory\n",
    "    with tempfile.TemporaryDirectory() as temp_dir:\n",
    "        # Define the file path\n",
    "        file_path = f\"{temp_dir}/region.fgb\"\n",
    "        gpd.read_parquet(f\"{folder}{region}_clusters.pq\").to_crs(4326).to_file(file_path)\n",
    "        os.system(f\"\"\"tippecanoe -o {pmtiles_destination}grid_250/{region}.pmtiles -z 11 -l grid --coalesce-densest-as-needed -A '<a href=\"https://uscuni.org/\", target=\"_blank\">Charles University</a>' -q --force {file_path}\"\"\")"
   ]
  },
  {
   "cell_type": "code",
   "execution_count": 31,
   "id": "fbddefb5-166b-4645-b588-00b21d760342",
   "metadata": {},
   "outputs": [
    {
     "name": "stderr",
     "output_type": "stream",
     "text": [
      "11/1147/686  \r"
     ]
    },
    {
     "data": {
      "text/plain": [
       "0"
      ]
     },
     "execution_count": 31,
     "metadata": {},
     "output_type": "execute_result"
    }
   ],
   "source": [
    "os.system(f\"tile-join -o {pmtiles_destination}grid_250.pmtiles -f -pk {pmtiles_destination}grid_250/*.pmtiles\")"
   ]
  }
 ],
 "metadata": {
  "kernelspec": {
   "display_name": "Python 3 (ipykernel)",
   "language": "python",
   "name": "python3"
  },
  "language_info": {
   "codemirror_mode": {
    "name": "ipython",
    "version": 3
   },
   "file_extension": ".py",
   "mimetype": "text/x-python",
   "name": "python",
   "nbconvert_exporter": "python",
   "pygments_lexer": "ipython3",
   "version": "3.12.5"
  }
 },
 "nbformat": 4,
 "nbformat_minor": 5
}
