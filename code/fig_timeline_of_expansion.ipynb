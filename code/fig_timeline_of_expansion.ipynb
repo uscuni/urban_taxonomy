{
 "cells": [
  {
   "cell_type": "markdown",
   "id": "7b82ed7c-cca9-4749-8080-575c7d356ecd",
   "metadata": {},
   "source": [
    "This requires geopandas plotting v2 (not publicly available yet)"
   ]
  },
  {
   "cell_type": "code",
   "execution_count": null,
   "id": "d66371ae-758b-4410-8374-a26011689c54",
   "metadata": {},
   "outputs": [],
   "source": [
    "import geopandas as gpd\n",
    "import shapely\n",
    "\n",
    "countries = gpd.read_file('https://naciscdn.org/naturalearth/50m/cultural/ne_50m_admin_0_countries.zip')\n",
    "\n",
    "europe = countries[(countries.CONTINENT == 'Europe') & (countries.SOVEREIGNT != 'Russia')]\n",
    "europe = europe.clip(shapely.box(-25, 35, 42, 72)).to_crs(3035)\n",
    "\n",
    "done = europe[europe.SOVEREIGNT.isin([\"Czechia\", \"Germany\", \"Lithuania\", \"Slovakia\", \"Austria\", \"Poland\"])]\n",
    "\n",
    "soon = europe[europe.SOVEREIGNT.isin([\"France\", \"Spain\", \"Belgium\", \"Netherlands\"])]"
   ]
  },
  {
   "cell_type": "code",
   "execution_count": null,
   "id": "b6b694f6-5f9c-4ac4-a552-4edc082080c2",
   "metadata": {},
   "outputs": [],
   "source": [
    "ax = europe.plot(color='lightgray', figsize=(8, 8), edgecolor='w')\n",
    "done.plot(ax=ax, color=\"#4069BC\", label='Available now', edgecolor='w')\n",
    "soon.plot(ax=ax, color=\"#ECBF43\", label='End of 2025',  edgecolor='w')\n",
    "ax.set_axis_off()\n",
    "plt.legend(frameon=False)\n",
    "plt.savefig('timeline.svg', bbox_inches='tight')"
   ]
  }
 ],
 "metadata": {
  "kernelspec": {
   "display_name": "Python 3 (ipykernel)",
   "language": "python",
   "name": "python3"
  },
  "language_info": {
   "codemirror_mode": {
    "name": "ipython",
    "version": 3
   },
   "file_extension": ".py",
   "mimetype": "text/x-python",
   "name": "python",
   "nbconvert_exporter": "python",
   "pygments_lexer": "ipython3",
   "version": "3.12.10"
  }
 },
 "nbformat": 4,
 "nbformat_minor": 5
}
