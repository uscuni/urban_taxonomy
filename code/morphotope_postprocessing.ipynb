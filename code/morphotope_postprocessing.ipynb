{
 "cells": [
  {
   "cell_type": "code",
   "execution_count": 15,
   "id": "09f9d086-9dfd-4b46-8758-ee479459e9fc",
   "metadata": {},
   "outputs": [],
   "source": [
    "import geopandas as gpd\n",
    "import pandas as pd\n",
    "import numpy as np\n",
    "from scipy.spatial import KDTree\n",
    "from sklearn.preprocessing import QuantileTransformer, StandardScaler\n",
    "from sklearn.neighbors import KNeighborsClassifier\n",
    "from libpysal.graph import read_parquet"
   ]
  },
  {
   "cell_type": "code",
   "execution_count": 16,
   "id": "ec6c8760-ac31-4457-be0d-a00bcd670627",
   "metadata": {},
   "outputs": [],
   "source": [
    "clusters_dir = '/data/uscuni-ulce/processed_data/clusters/'\n",
    "chars_dir = '/data/uscuni-ulce/processed_data/chars/'\n",
    "regions_datadir = \"/data/uscuni-ulce/\"\n",
    "region_hulls = gpd.read_parquet(\n",
    "        regions_datadir + \"regions/\" + \"cadastre_regions_hull.parquet\"\n",
    ")\n",
    "graph_dir = '/data/uscuni-ulce/processed_data/neigh_graphs/'\n",
    "morphotopes_dir = '/data/uscuni-ulce/processed_data/morphotopes/'"
   ]
  },
  {
   "cell_type": "code",
   "execution_count": 17,
   "id": "86d3c2f9-ccbf-485a-937b-c14d48d6467c",
   "metadata": {},
   "outputs": [],
   "source": [
    "region_id = 69333"
   ]
  },
  {
   "cell_type": "code",
   "execution_count": null,
   "id": "deba26b6-1a60-46a2-be82-ccc3c438ff4d",
   "metadata": {},
   "outputs": [],
   "source": []
  },
  {
   "cell_type": "code",
   "execution_count": 18,
   "id": "0ca2854d-1175-4a35-aff2-c96ec09b9b9d",
   "metadata": {},
   "outputs": [],
   "source": [
    "input_model_params = '_75_0_None_None_False'"
   ]
  },
  {
   "cell_type": "code",
   "execution_count": 19,
   "id": "9999f803-c9ac-40ea-a185-f24687b4e19f",
   "metadata": {},
   "outputs": [],
   "source": [
    "output_model_params = '_post_processing_v1'"
   ]
  },
  {
   "cell_type": "code",
   "execution_count": null,
   "id": "39055fb7-d5dc-4845-95c7-a5c78a732e3b",
   "metadata": {},
   "outputs": [],
   "source": []
  },
  {
   "cell_type": "markdown",
   "id": "40cdd8ea-56e1-4463-b77d-cc2eaec63f1d",
   "metadata": {},
   "source": [
    "# 1. Change morphotope boundaries so that adjacent buildings are always in the majority morphotope."
   ]
  },
  {
   "cell_type": "code",
   "execution_count": 125,
   "id": "bab4c2f3-32dc-48f2-a8dc-086ec1f82efa",
   "metadata": {},
   "outputs": [],
   "source": [
    "def post_process_morphotope_labels(region_id, input_model_params, output_model_params):\n",
    "    \n",
    "    ## read data\n",
    "    bq1 = read_parquet(graph_dir + f\"building_graph_{region_id}.parquet\")\n",
    "    region_morphotope_labels = pd.read_parquet(f'{morphotopes_dir}tessellation_labels_morphotopes_{region_id}{input_model_params}.pq').morphotope_label\n",
    "    region_morphotope_labels = region_morphotope_labels.loc[bq1.unique_ids]\n",
    "    \n",
    "    # assign mode of non-noise clusters to whole adjacent structure\n",
    "    # if its only noise, assign the most common noise cluster\n",
    "    def non_noise_mode(x):\n",
    "        non_noise = x[~x.str.endswith('-1')]\n",
    "        if non_noise.shape[0]:\n",
    "            return pd.Series.mode(non_noise)[0]\n",
    "        else:\n",
    "            return pd.Series.mode(x)[0]\n",
    "            \n",
    "    component_morphotopes = region_morphotope_labels.groupby(bq1.component_labels).agg(non_noise_mode)\n",
    "    \n",
    "    aggregated_morphotope_labels = bq1.component_labels.map(component_morphotopes.to_dict())\n",
    "    aggregated_morphotope_labels.name = 'morphotope_label'\n",
    "    assert (aggregated_morphotope_labels.index == region_morphotope_labels.index).all()\n",
    "    aggregated_morphotope_labels.to_frame().to_parquet(f'{morphotopes_dir}tessellation_labels_morphotopes_{region_id}{output_model_params}.pq')"
   ]
  },
  {
   "cell_type": "code",
   "execution_count": 126,
   "id": "c8d5df6a-a7fa-483d-a71c-4cd33bbaeddc",
   "metadata": {},
   "outputs": [
    {
     "name": "stdout",
     "output_type": "stream",
     "text": [
      "CPU times: user 2.77 s, sys: 1.55 s, total: 4.32 s\n",
      "Wall time: 15min 3s\n"
     ]
    }
   ],
   "source": [
    "%%time\n",
    "from joblib import Parallel, delayed\n",
    "n_jobs = -1\n",
    "new = Parallel(n_jobs=n_jobs)(\n",
    "    delayed(post_process_morphotope_labels)(region_id, input_model_params, output_model_params) for region_id, _ in region_hulls.iterrows()\n",
    ")"
   ]
  },
  {
   "cell_type": "code",
   "execution_count": null,
   "id": "757ba9d4-ccf4-48f6-91ac-b4f0eb484932",
   "metadata": {},
   "outputs": [],
   "source": []
  },
  {
   "cell_type": "code",
   "execution_count": null,
   "id": "990bdcbd-88e3-4be5-852a-5c8e21d80aca",
   "metadata": {},
   "outputs": [],
   "source": []
  },
  {
   "cell_type": "markdown",
   "id": "1cab745e-5888-435a-aec4-52d8536d13b1",
   "metadata": {},
   "source": [
    "# 2. Generate new morphotope data based on the new morphotope boundaries"
   ]
  },
  {
   "cell_type": "code",
   "execution_count": 23,
   "id": "d8710bb7-902e-46a9-bd86-b6cc61ef326f",
   "metadata": {},
   "outputs": [],
   "source": [
    "def percentile(n):\n",
    "    def percentile_(x):\n",
    "        return np.percentile(x, n)\n",
    "    percentile_.__name__ = 'percentile_%s' % n\n",
    "    return percentile_\n",
    "\n",
    "def post_process_morphotope_data(region_id, input_model_params, output_model_params):\n",
    "    ## read data\n",
    "    new_morphotope_labels = pd.read_parquet(f'{morphotopes_dir}tessellation_labels_morphotopes_{region_id}{output_model_params}.pq').morphotope_label\n",
    "    X_train = pd.read_parquet(chars_dir + f'primary_chars_{region_id}.parquet')\n",
    "    component_data = X_train.loc[new_morphotope_labels.index]\n",
    "    \n",
    "    \n",
    "    # get morphotope stats\n",
    "    component_data = component_data.groupby(new_morphotope_labels.values).agg([percentile(25), 'median', percentile(75), 'std', 'mean'])\n",
    "    \n",
    "    # save sizes for clustering\n",
    "    component_data[('Size', 'Size')] = X_train.loc[new_morphotope_labels.index].groupby(new_morphotope_labels.values).size()\n",
    "    \n",
    "    # store morphotopes data\n",
    "    component_data.to_parquet(morphotopes_dir + f'data_morphotopes_{region_id}_{output_model_params}.pq')"
   ]
  },
  {
   "cell_type": "code",
   "execution_count": 24,
   "id": "e84909eb-d49f-497d-8554-63fc66293dee",
   "metadata": {},
   "outputs": [],
   "source": [
    "%%time\n",
    "post_process_morphotope_data(region_id, input_model_params, output_model_params)"
   ]
  },
  {
   "cell_type": "code",
   "execution_count": 25,
   "id": "747ef4e6-00f0-4fb8-a552-09654f8abef2",
   "metadata": {},
   "outputs": [
    {
     "name": "stderr",
     "output_type": "stream",
     "text": [
      "/home/krasen/urban_taxonomy/.pixi/envs/default/lib/python3.12/site-packages/joblib/externals/loky/process_executor.py:752: UserWarning: A worker stopped while some jobs were given to the executor. This can be caused by a too short worker timeout or by a memory leak.\n",
      "  warnings.warn(\n"
     ]
    },
    {
     "name": "stdout",
     "output_type": "stream",
     "text": [
      "CPU times: user 3.12 s, sys: 1.37 s, total: 4.49 s\n",
      "Wall time: 18min 25s\n"
     ]
    }
   ],
   "source": [
    "%%time\n",
    "from joblib import Parallel, delayed\n",
    "n_jobs = -1\n",
    "new = Parallel(n_jobs=n_jobs)(\n",
    "    delayed(post_process_morphotope_data)(region_id, input_model_params, output_model_params) for region_id, _ in region_hulls.iterrows()\n",
    ")"
   ]
  },
  {
   "cell_type": "code",
   "execution_count": null,
   "id": "09d0f90a-e574-4d72-b49d-68136c348212",
   "metadata": {},
   "outputs": [],
   "source": []
  },
  {
   "cell_type": "code",
   "execution_count": null,
   "id": "1fa34187-1d5d-4fc5-ae91-16de3f5f188b",
   "metadata": {},
   "outputs": [],
   "source": []
  },
  {
   "cell_type": "markdown",
   "id": "1980c222-d68c-4e09-8c02-f9481a0743da",
   "metadata": {},
   "source": [
    "### Plotting"
   ]
  },
  {
   "cell_type": "code",
   "execution_count": 110,
   "id": "e55b0b69-5454-45f6-a595-4e7c1b7ba141",
   "metadata": {},
   "outputs": [],
   "source": [
    "\n",
    "from lonboard import SolidPolygonLayer, Map\n",
    "from lonboard.basemap import CartoBasemap\n",
    "from lonboard.colormap import apply_categorical_cmap\n",
    "from palettable.colorbrewer.qualitative import Set3_12\n",
    "from core.cluster_validation import get_color"
   ]
  },
  {
   "cell_type": "code",
   "execution_count": 111,
   "id": "a6e734f0-f934-440b-9d4e-f1649274984c",
   "metadata": {},
   "outputs": [],
   "source": [
    "buildings = gpd.read_parquet(f'/data/uscuni-ulce/processed_data/buildings/buildings_{region_id}.parquet')"
   ]
  },
  {
   "cell_type": "code",
   "execution_count": 112,
   "id": "6d8176f0-7b2c-424c-ab3f-4a7dae445304",
   "metadata": {},
   "outputs": [],
   "source": [
    "buildings['morph'] = region_morphotope_labels\n",
    "buildings['new_morph'] = aggregated_morphotope_labels\n",
    "buildings['component_label'] = bq1.component_labels"
   ]
  },
  {
   "cell_type": "code",
   "execution_count": 113,
   "id": "53ca6a59-82f9-4347-a6e1-5e828a099aea",
   "metadata": {},
   "outputs": [
    {
     "name": "stderr",
     "output_type": "stream",
     "text": [
      "/home/krasen/urban_taxonomy/.pixi/envs/default/lib/python3.12/site-packages/lonboard/_geoarrow/ops/reproject.py:97: UserWarning: Input being reprojected to EPSG:4326 CRS\n",
      "  warnings.warn(\"Input being reprojected to EPSG:4326 CRS\")\n"
     ]
    }
   ],
   "source": [
    "layer = SolidPolygonLayer.from_geopandas(\n",
    "    gdf=buildings[[\"geometry\", \"morph\", 'new_morph', 'component_label']], opacity=0.15\n",
    ")"
   ]
  },
  {
   "cell_type": "code",
   "execution_count": 114,
   "id": "8d932726-0d08-4e64-a5d4-e642f5eee745",
   "metadata": {},
   "outputs": [
    {
     "data": {
      "application/vnd.jupyter.widget-view+json": {
       "model_id": "7c9bc74c3fc94de6bf4e90a8ecbe2fee",
       "version_major": 2,
       "version_minor": 1
      },
      "text/plain": [
       "Map(basemap_style=<CartoBasemap.Positron: 'https://basemaps.cartocdn.com/gl/positron-gl-style/style.json'>, la…"
      ]
     },
     "execution_count": 114,
     "metadata": {},
     "output_type": "execute_result"
    }
   ],
   "source": [
    "m = Map(layer, basemap_style=CartoBasemap.Positron)\n",
    "m"
   ]
  },
  {
   "cell_type": "code",
   "execution_count": 115,
   "id": "47f92c6d-08ed-4ff0-93c4-17c26e17c68e",
   "metadata": {},
   "outputs": [],
   "source": [
    "factors, idx = buildings['new_morph'].factorize()"
   ]
  },
  {
   "cell_type": "code",
   "execution_count": 116,
   "id": "f7bb176e-cadc-4897-8e1a-faab8c42e0ac",
   "metadata": {},
   "outputs": [],
   "source": [
    "layer.get_fill_color = get_color(factors)"
   ]
  },
  {
   "cell_type": "code",
   "execution_count": null,
   "id": "95018100-afd0-4619-8dbd-b46e6782b645",
   "metadata": {},
   "outputs": [],
   "source": []
  }
 ],
 "metadata": {
  "kernelspec": {
   "display_name": "Python 3 (ipykernel)",
   "language": "python",
   "name": "python3"
  },
  "language_info": {
   "codemirror_mode": {
    "name": "ipython",
    "version": 3
   },
   "file_extension": ".py",
   "mimetype": "text/x-python",
   "name": "python",
   "nbconvert_exporter": "python",
   "pygments_lexer": "ipython3",
   "version": "3.12.8"
  }
 },
 "nbformat": 4,
 "nbformat_minor": 5
}
