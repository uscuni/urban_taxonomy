{
 "cells": [
  {
   "cell_type": "code",
   "execution_count": 1,
   "id": "09f9d086-9dfd-4b46-8758-ee479459e9fc",
   "metadata": {},
   "outputs": [],
   "source": [
    "import geopandas as gpd\n",
    "import pandas as pd\n",
    "import numpy as np\n",
    "from scipy.spatial import KDTree\n",
    "from sklearn.preprocessing import QuantileTransformer, StandardScaler\n",
    "from sklearn.neighbors import KNeighborsClassifier\n",
    "from libpysal.graph import read_parquet"
   ]
  },
  {
   "cell_type": "code",
   "execution_count": 2,
   "id": "3a335549-f8c4-4d04-9555-47d8bdf86ed7",
   "metadata": {},
   "outputs": [],
   "source": [
    "country = \"belgium\""
   ]
  },
  {
   "cell_type": "code",
   "execution_count": 8,
   "id": "ec6c8760-ac31-4457-be0d-a00bcd670627",
   "metadata": {},
   "outputs": [],
   "source": [
    "clusters_dir = '/data/uscuni-ulce/processed_data/clusters/'\n",
    "chars_dir = '/data/uscuni-ulce/processed_data/chars/'\n",
    "regions_datadir = \"/data/uscuni-ulce/\"\n",
    "region_hulls = gpd.read_parquet(regions_datadir + \"regions/\" + f\"{country}_regions_hull.parquet\")\n",
    "graph_dir = '/data/uscuni-ulce/processed_data/neigh_graphs/'\n",
    "morphotopes_dir = '/data/uscuni-ulce/processed_data/morphotopes/'"
   ]
  },
  {
   "cell_type": "code",
   "execution_count": 4,
   "id": "0ca2854d-1175-4a35-aff2-c96ec09b9b9d",
   "metadata": {},
   "outputs": [],
   "source": [
    "input_model_params = '_75_0_None_None_False'"
   ]
  },
  {
   "cell_type": "code",
   "execution_count": 5,
   "id": "9999f803-c9ac-40ea-a185-f24687b4e19f",
   "metadata": {},
   "outputs": [],
   "source": [
    "output_model_params = '_post_processing_v1'"
   ]
  },
  {
   "cell_type": "code",
   "execution_count": null,
   "id": "39055fb7-d5dc-4845-95c7-a5c78a732e3b",
   "metadata": {},
   "outputs": [],
   "source": []
  },
  {
   "cell_type": "markdown",
   "id": "40cdd8ea-56e1-4463-b77d-cc2eaec63f1d",
   "metadata": {},
   "source": [
    "# 1. Change morphotope boundaries so that adjacent buildings are always in the majority morphotope."
   ]
  },
  {
   "cell_type": "code",
   "execution_count": 6,
   "id": "bab4c2f3-32dc-48f2-a8dc-086ec1f82efa",
   "metadata": {},
   "outputs": [],
   "source": [
    "def post_process_morphotope_labels(region_id, input_model_params, output_model_params):\n",
    "    \n",
    "    ## read data\n",
    "    bq1 = read_parquet(graph_dir + f\"building_graph_{region_id}.parquet\")\n",
    "    region_morphotope_labels = pd.read_parquet(f'{morphotopes_dir}tessellation_labels_morphotopes_{region_id}{input_model_params}.pq').morphotope_label\n",
    "    region_morphotope_labels = region_morphotope_labels.loc[bq1.unique_ids]\n",
    "    \n",
    "    # assign mode of non-noise clusters to whole adjacent structure\n",
    "    # if its only noise, assign the most common noise cluster\n",
    "    def non_noise_mode(x):\n",
    "        non_noise = x[~x.str.endswith('-1')]\n",
    "        if non_noise.shape[0]:\n",
    "            return pd.Series.mode(non_noise)[0]\n",
    "        else:\n",
    "            return pd.Series.mode(x)[0]\n",
    "            \n",
    "    component_morphotopes = region_morphotope_labels.groupby(bq1.component_labels).agg(non_noise_mode)\n",
    "    \n",
    "    aggregated_morphotope_labels = bq1.component_labels.map(component_morphotopes.to_dict())\n",
    "    aggregated_morphotope_labels.name = 'morphotope_label'\n",
    "    assert (aggregated_morphotope_labels.index == region_morphotope_labels.index).all()\n",
    "    aggregated_morphotope_labels.to_frame().to_parquet(f'{morphotopes_dir}tessellation_labels_morphotopes_{region_id}{output_model_params}.pq')"
   ]
  },
  {
   "cell_type": "code",
   "execution_count": null,
   "id": "454902db-e4ac-406b-a08e-7274c5683742",
   "metadata": {},
   "outputs": [],
   "source": []
  },
  {
   "cell_type": "code",
   "execution_count": null,
   "id": "2d8ea6e2-2f68-4a59-a9b8-a06ddc78679c",
   "metadata": {},
   "outputs": [],
   "source": []
  },
  {
   "cell_type": "code",
   "execution_count": null,
   "id": "e92eb5ec-388f-44e6-956b-f486f1f1d902",
   "metadata": {},
   "outputs": [],
   "source": []
  },
  {
   "cell_type": "code",
   "execution_count": 9,
   "id": "da9f185c-e1dd-4b96-bf7c-1451c8c3ebd5",
   "metadata": {},
   "outputs": [
    {
     "data": {
      "text/plain": [
       "Index([153512, 153650, 153752, 153804, 154059, 154947, 155610, 155668, 155971], dtype='int64', name='labels')"
      ]
     },
     "execution_count": 9,
     "metadata": {},
     "output_type": "execute_result"
    }
   ],
   "source": [
    "region_hulls.index"
   ]
  },
  {
   "cell_type": "code",
   "execution_count": null,
   "id": "b384e14c-86a6-4f08-a5dd-ac601a4532d0",
   "metadata": {},
   "outputs": [],
   "source": []
  },
  {
   "cell_type": "code",
   "execution_count": 10,
   "id": "c8d5df6a-a7fa-483d-a71c-4cd33bbaeddc",
   "metadata": {},
   "outputs": [
    {
     "name": "stdout",
     "output_type": "stream",
     "text": [
      "CPU times: user 962 ms, sys: 484 ms, total: 1.45 s\n",
      "Wall time: 7min 20s\n"
     ]
    }
   ],
   "source": [
    "%%time\n",
    "from joblib import Parallel, delayed\n",
    "n_jobs = -1\n",
    "new = Parallel(n_jobs=n_jobs)(\n",
    "    delayed(post_process_morphotope_labels)(region_id, input_model_params, output_model_params) for region_id, _ in region_hulls.iterrows()\n",
    ")"
   ]
  },
  {
   "cell_type": "code",
   "execution_count": null,
   "id": "757ba9d4-ccf4-48f6-91ac-b4f0eb484932",
   "metadata": {},
   "outputs": [],
   "source": []
  },
  {
   "cell_type": "code",
   "execution_count": null,
   "id": "990bdcbd-88e3-4be5-852a-5c8e21d80aca",
   "metadata": {},
   "outputs": [],
   "source": []
  },
  {
   "cell_type": "markdown",
   "id": "1cab745e-5888-435a-aec4-52d8536d13b1",
   "metadata": {},
   "source": [
    "# 2. Generate new morphotope data based on the new morphotope boundaries"
   ]
  },
  {
   "cell_type": "code",
   "execution_count": 11,
   "id": "d8710bb7-902e-46a9-bd86-b6cc61ef326f",
   "metadata": {},
   "outputs": [],
   "source": [
    "def percentile(n):\n",
    "    def percentile_(x):\n",
    "        return np.percentile(x, n)\n",
    "    percentile_.__name__ = 'percentile_%s' % n\n",
    "    return percentile_\n",
    "\n",
    "def post_process_morphotope_data(region_id, input_model_params, output_model_params):\n",
    "    ## read data\n",
    "    new_morphotope_labels = pd.read_parquet(f'{morphotopes_dir}tessellation_labels_morphotopes_{region_id}{output_model_params}.pq').morphotope_label\n",
    "    X_train = pd.read_parquet(chars_dir + f'primary_chars_{region_id}.parquet')\n",
    "    component_data = X_train.loc[new_morphotope_labels.index]\n",
    "    \n",
    "    \n",
    "    # get morphotope stats\n",
    "    component_data = component_data.groupby(new_morphotope_labels.values).agg([percentile(25), 'median', percentile(75), 'std', 'mean'])\n",
    "    \n",
    "    # save sizes for clustering\n",
    "    component_data[('Size', 'Size')] = X_train.loc[new_morphotope_labels.index].groupby(new_morphotope_labels.values).size()\n",
    "    \n",
    "    # store morphotopes data\n",
    "    component_data.to_parquet(morphotopes_dir + f'data_morphotopes_{region_id}{output_model_params}.pq')"
   ]
  },
  {
   "cell_type": "code",
   "execution_count": 12,
   "id": "747ef4e6-00f0-4fb8-a552-09654f8abef2",
   "metadata": {},
   "outputs": [
    {
     "name": "stdout",
     "output_type": "stream",
     "text": [
      "CPU times: user 878 ms, sys: 562 ms, total: 1.44 s\n",
      "Wall time: 7min 10s\n"
     ]
    }
   ],
   "source": [
    "%%time\n",
    "from joblib import Parallel, delayed\n",
    "n_jobs = -1\n",
    "new = Parallel(n_jobs=n_jobs)(\n",
    "    delayed(post_process_morphotope_data)(region_id, input_model_params, output_model_params) for region_id, _ in region_hulls.iterrows()\n",
    ")"
   ]
  },
  {
   "cell_type": "code",
   "execution_count": null,
   "id": "09d0f90a-e574-4d72-b49d-68136c348212",
   "metadata": {},
   "outputs": [],
   "source": []
  },
  {
   "cell_type": "code",
   "execution_count": null,
   "id": "1fa34187-1d5d-4fc5-ae91-16de3f5f188b",
   "metadata": {},
   "outputs": [],
   "source": []
  },
  {
   "cell_type": "markdown",
   "id": "1980c222-d68c-4e09-8c02-f9481a0743da",
   "metadata": {},
   "source": [
    "### Plotting"
   ]
  },
  {
   "cell_type": "code",
   "execution_count": 13,
   "id": "5076d8b3-7ccf-43be-a6ca-3e7b1c932c05",
   "metadata": {},
   "outputs": [],
   "source": [
    "region_id = 153512"
   ]
  },
  {
   "cell_type": "code",
   "execution_count": 18,
   "id": "e55b0b69-5454-45f6-a595-4e7c1b7ba141",
   "metadata": {},
   "outputs": [],
   "source": [
    "\n",
    "from lonboard import SolidPolygonLayer, Map\n",
    "from lonboard.basemap import CartoBasemap\n",
    "from lonboard.colormap import apply_categorical_cmap\n",
    "from palettable.colorbrewer.qualitative import Set3_12\n",
    "from core.cluster_validation import get_color"
   ]
  },
  {
   "cell_type": "code",
   "execution_count": 17,
   "id": "a6e734f0-f934-440b-9d4e-f1649274984c",
   "metadata": {},
   "outputs": [],
   "source": [
    "buildings = gpd.read_parquet(f'/data/uscuni-ulce/processed_data/buildings/buildings_{region_id}.parquet')\n",
    "region_morphotope_labels = pd.read_parquet(f'{morphotopes_dir}tessellation_labels_morphotopes_{region_id}{output_model_params}.pq').morphotope_label"
   ]
  },
  {
   "cell_type": "code",
   "execution_count": 21,
   "id": "6d8176f0-7b2c-424c-ab3f-4a7dae445304",
   "metadata": {},
   "outputs": [],
   "source": [
    "buildings['morph'] = region_morphotope_labels"
   ]
  },
  {
   "cell_type": "code",
   "execution_count": 23,
   "id": "53ca6a59-82f9-4347-a6e1-5e828a099aea",
   "metadata": {},
   "outputs": [
    {
     "name": "stderr",
     "output_type": "stream",
     "text": [
      "/home/martin/dev/urban_taxonomy/.pixi/envs/default/lib/python3.12/site-packages/lonboard/_geoarrow/ops/reproject.py:97: UserWarning: Input being reprojected to EPSG:4326 CRS\n",
      "  warnings.warn(\"Input being reprojected to EPSG:4326 CRS\")\n"
     ]
    }
   ],
   "source": [
    "layer = SolidPolygonLayer.from_geopandas(\n",
    "    gdf=buildings[[\"geometry\", \"morph\",]], opacity=0.15\n",
    ")"
   ]
  },
  {
   "cell_type": "code",
   "execution_count": 24,
   "id": "8d932726-0d08-4e64-a5d4-e642f5eee745",
   "metadata": {},
   "outputs": [
    {
     "data": {
      "application/vnd.jupyter.widget-view+json": {
       "model_id": "ef07bfda2e394e1c852e4529271a1324",
       "version_major": 2,
       "version_minor": 1
      },
      "text/plain": [
       "Map(basemap_style=<CartoBasemap.Positron: 'https://basemaps.cartocdn.com/gl/positron-gl-style/style.json'>, la…"
      ]
     },
     "execution_count": 24,
     "metadata": {},
     "output_type": "execute_result"
    }
   ],
   "source": [
    "m = Map(layer, basemap_style=CartoBasemap.Positron)\n",
    "m"
   ]
  },
  {
   "cell_type": "code",
   "execution_count": 25,
   "id": "47f92c6d-08ed-4ff0-93c4-17c26e17c68e",
   "metadata": {},
   "outputs": [],
   "source": [
    "factors, idx = buildings['morph'].factorize()"
   ]
  },
  {
   "cell_type": "code",
   "execution_count": 26,
   "id": "f7bb176e-cadc-4897-8e1a-faab8c42e0ac",
   "metadata": {},
   "outputs": [
    {
     "name": "stderr",
     "output_type": "stream",
     "text": [
      "/home/martin/dev/urban_taxonomy/.pixi/envs/default/lib/python3.12/site-packages/colorspacious/comparison.py:11: SyntaxWarning: invalid escape sequence '\\D'\n",
      "  \"\"\"Computes the :math:`\\Delta E` distance between pairs of colors.\n"
     ]
    }
   ],
   "source": [
    "layer.get_fill_color = get_color(factors)"
   ]
  },
  {
   "cell_type": "code",
   "execution_count": null,
   "id": "95018100-afd0-4619-8dbd-b46e6782b645",
   "metadata": {},
   "outputs": [],
   "source": []
  },
  {
   "cell_type": "code",
   "execution_count": null,
   "id": "8ac7f8dc-bf77-4a27-b2ea-28d3d9f12379",
   "metadata": {},
   "outputs": [],
   "source": []
  },
  {
   "cell_type": "code",
   "execution_count": null,
   "id": "085ac0c3-a495-4b1d-9591-79f5ba48bfd3",
   "metadata": {},
   "outputs": [],
   "source": []
  },
  {
   "cell_type": "markdown",
   "id": "ff63064e-84af-42da-9257-8ac6aa6d0b0e",
   "metadata": {},
   "source": [
    "# Experiments"
   ]
  },
  {
   "cell_type": "code",
   "execution_count": 108,
   "id": "ded64d50-f756-4242-afaa-cfbe7d335d6d",
   "metadata": {},
   "outputs": [],
   "source": [
    "from libpysal.graph import Graph\n",
    "\n",
    "output_model_params = '_post_processing_v2'"
   ]
  },
  {
   "cell_type": "code",
   "execution_count": 109,
   "id": "9a3823eb-8676-4ed1-9763-b88313414a6b",
   "metadata": {},
   "outputs": [],
   "source": [
    "def relabel_morphotopes_geography(group):\n",
    "\n",
    "    # extract morph info\n",
    "    gc = group.morph.iloc[0].split('_')[0]\n",
    "    morph_number = group.morph.iloc[0].split('_')[1]\n",
    "\n",
    "    # gropu the buildings with no 100m distances between them\n",
    "    focal, neighbor = group.sindex.query(group.geometry, predicate='dwithin', distance=100)\n",
    "    geom_graph = Graph.from_adjacency(pd.DataFrame({'focal': group.index[focal],\n",
    "                                                    'neighbor': group.index[neighbor], 'weight': 1}))\n",
    "    value_counts = geom_graph.component_labels.value_counts()\n",
    "    \n",
    "    # return new morphotope labels\n",
    "    comp_labels = geom_graph.component_labels.map(lambda x: f'{gc}_{morph_number}_{str(x)}'  if value_counts[x] > 75 else f'{gc}_-1')\n",
    "    \n",
    "    return comp_labels"
   ]
  },
  {
   "cell_type": "code",
   "execution_count": 110,
   "id": "7dec436f-0cd6-4389-8c8a-833a58c03bd0",
   "metadata": {},
   "outputs": [],
   "source": [
    "def post_process_morphotope_labels(region_id, input_model_params, output_model_params):\n",
    "    \n",
    "    ## read data\n",
    "    bq1 = read_parquet(graph_dir + f\"building_graph_{region_id}.parquet\")\n",
    "    region_morphotope_labels = pd.read_parquet(f'{morphotopes_dir}tessellation_labels_morphotopes_{region_id}{input_model_params}.pq').morphotope_label\n",
    "    region_morphotope_labels = region_morphotope_labels.loc[bq1.unique_ids]\n",
    "    \n",
    "    # assign mode of non-noise clusters to whole adjacent structure\n",
    "    # if its only noise, assign the most common noise cluster\n",
    "    def non_noise_mode(x):\n",
    "        non_noise = x[~x.str.endswith('-1')]\n",
    "        if non_noise.shape[0]:\n",
    "            return pd.Series.mode(non_noise)[0]\n",
    "        else:\n",
    "            return pd.Series.mode(x)[0]\n",
    "            \n",
    "    component_morphotopes = region_morphotope_labels.groupby(bq1.component_labels).agg(non_noise_mode)\n",
    "    \n",
    "    aggregated_morphotope_labels = bq1.component_labels.map(component_morphotopes.to_dict())\n",
    "    aggregated_morphotope_labels.name = 'morphotope_label'\n",
    "\n",
    "    del bq1\n",
    "    \n",
    "    # read buildings geometries\n",
    "    buildings = gpd.read_parquet(f'/data/uscuni-ulce/processed_data/chars/buildings_chars_{region_id}.parquet', columns=['geometry'])\n",
    "    buildings['morph'] = aggregated_morphotope_labels\n",
    "\n",
    "    # tighten morphotopes based on geographic distances\n",
    "    res = []\n",
    "    groups = buildings.groupby('morph')\n",
    "    for key, group in groups:\n",
    "    \n",
    "        # if noise leave unchanged\n",
    "        if key.split('_')[-1] == '-1':\n",
    "            res.append(group.morph)\n",
    "            continue\n",
    "        else:\n",
    "            res.append(relabel_morphotopes_geography(group))\n",
    "    \n",
    "    aggregated_morphotope_labels = pd.concat(res).sort_index()\n",
    "    aggregated_morphotope_labels.name = 'morphotope_label'\n",
    "\n",
    "    \n",
    "    assert (aggregated_morphotope_labels.index == region_morphotope_labels.index).all()\n",
    "    aggregated_morphotope_labels.to_frame().to_parquet(f'{morphotopes_dir}tessellation_labels_morphotopes_{region_id}{output_model_params}.pq')"
   ]
  },
  {
   "cell_type": "code",
   "execution_count": null,
   "id": "79d2cdeb-f5a7-41eb-bd2e-70173d904ea9",
   "metadata": {},
   "outputs": [],
   "source": []
  },
  {
   "cell_type": "code",
   "execution_count": null,
   "id": "21bd713f-6c43-4030-9977-214ac6c9d4b5",
   "metadata": {},
   "outputs": [],
   "source": []
  },
  {
   "cell_type": "code",
   "execution_count": null,
   "id": "53841ef0-60a5-45dc-a360-dc5e15a0dec0",
   "metadata": {},
   "outputs": [],
   "source": []
  },
  {
   "cell_type": "code",
   "execution_count": null,
   "id": "0d43a360-9549-40c8-9301-ee8079faf4cf",
   "metadata": {},
   "outputs": [],
   "source": []
  },
  {
   "cell_type": "code",
   "execution_count": null,
   "id": "d24865c7-37e0-4b4f-8761-91bb1289473c",
   "metadata": {},
   "outputs": [],
   "source": []
  },
  {
   "cell_type": "code",
   "execution_count": null,
   "id": "ebc8b3fd-172e-4a66-86f3-cfc9de1c7295",
   "metadata": {},
   "outputs": [],
   "source": []
  },
  {
   "cell_type": "code",
   "execution_count": null,
   "id": "bbc53d23-2fbe-441b-9985-d37b02a8c5b8",
   "metadata": {},
   "outputs": [],
   "source": []
  },
  {
   "cell_type": "code",
   "execution_count": 64,
   "id": "bda7d32e-a601-4f68-9b25-3d50d591925e",
   "metadata": {},
   "outputs": [],
   "source": [
    "## read data\n",
    "bq1 = read_parquet(graph_dir + f\"building_graph_{region_id}.parquet\")\n",
    "region_morphotope_labels = pd.read_parquet(f'{morphotopes_dir}tessellation_labels_morphotopes_{region_id}{input_model_params}.pq').morphotope_label\n",
    "region_morphotope_labels = region_morphotope_labels.loc[bq1.unique_ids]\n",
    "\n",
    "# assign mode of non-noise clusters to whole adjacent structure\n",
    "# if its only noise, assign the most common noise cluster\n",
    "def non_noise_mode(x):\n",
    "    non_noise = x[~x.str.endswith('-1')]\n",
    "    if non_noise.shape[0]:\n",
    "        return pd.Series.mode(non_noise)[0]\n",
    "    else:\n",
    "        return pd.Series.mode(x)[0]\n",
    "        \n",
    "component_morphotopes = region_morphotope_labels.groupby(bq1.component_labels).agg(non_noise_mode)\n",
    "\n",
    "aggregated_morphotope_labels = bq1.component_labels.map(component_morphotopes.to_dict())\n",
    "aggregated_morphotope_labels.name = 'morphotope_label'"
   ]
  },
  {
   "cell_type": "code",
   "execution_count": null,
   "id": "8cf52a47-d5b2-40e8-a479-c6786e33df2a",
   "metadata": {},
   "outputs": [],
   "source": []
  },
  {
   "cell_type": "code",
   "execution_count": 67,
   "id": "e5bb81e3-b96a-45bc-925a-b8c836c9a475",
   "metadata": {},
   "outputs": [],
   "source": []
  },
  {
   "cell_type": "code",
   "execution_count": 99,
   "id": "35f7805d-02f9-40a3-a746-520ed04954b1",
   "metadata": {},
   "outputs": [
    {
     "name": "stdout",
     "output_type": "stream",
     "text": [
      "CPU times: user 22.4 s, sys: 15.6 ms, total: 22.4 s\n",
      "Wall time: 22.4 s\n"
     ]
    }
   ],
   "source": [
    "%%time\n",
    "\n",
    "buildings = gpd.read_parquet(f'/data/uscuni-ulce/processed_data/chars/buildings_chars_{region_id}.parquet', columns=['geometry'])\n",
    "buildings['morph'] = aggregated_morphotope_labels\n",
    "\n",
    "res = []\n",
    "groups = buildings.groupby('morph')\n",
    "for key, group in groups:\n",
    "\n",
    "    # if noise leave unchanged\n",
    "    if key.split('_')[-1] == '-1':\n",
    "        res.append(group.morph)\n",
    "        continue\n",
    "    else:\n",
    "        res.append(relabel_morphotopes_geography(group))\n",
    "\n",
    "aggregated_morphotope_labels = pd.concat(res).sort_index()\n",
    "aggregated_morphotope_labels.name = 'morphotope_label'"
   ]
  },
  {
   "cell_type": "code",
   "execution_count": 105,
   "id": "9b06e339-5511-41c6-be64-2d3ea8210870",
   "metadata": {},
   "outputs": [],
   "source": []
  },
  {
   "cell_type": "code",
   "execution_count": null,
   "id": "ba057e8e-69a1-4db7-8ddf-a7408805a8f6",
   "metadata": {},
   "outputs": [],
   "source": []
  },
  {
   "cell_type": "code",
   "execution_count": 103,
   "id": "0ba01a07-ced6-49b0-b175-43005ce4cc5b",
   "metadata": {},
   "outputs": [
    {
     "data": {
      "text/plain": [
       "focal\n",
       "0            0_-1\n",
       "1             1_0\n",
       "2             1_0\n",
       "3             1_0\n",
       "4             1_0\n",
       "           ...   \n",
       "446822    849_640\n",
       "446823     849_-1\n",
       "446824    849_487\n",
       "446825    849_508\n",
       "446826    849_361\n",
       "Name: morphotope_label, Length: 446827, dtype: object"
      ]
     },
     "execution_count": 103,
     "metadata": {},
     "output_type": "execute_result"
    }
   ],
   "source": [
    "aggregated_morphotope_labels"
   ]
  },
  {
   "cell_type": "code",
   "execution_count": 95,
   "id": "57fafffe-85d1-4264-b64c-bc91d8c959af",
   "metadata": {},
   "outputs": [],
   "source": [
    "def relabel_morphotopes_geography(group):\n",
    "\n",
    "    # extract morph info\n",
    "    gc = group.morph.iloc[0].split('_')[0]\n",
    "    morph_number = group.morph.iloc[0].split('_')[1]\n",
    "\n",
    "    # gropu the buildings with no 100m distances between them\n",
    "    focal, neighbor = group.sindex.query(group.geometry, predicate='dwithin', distance=100)\n",
    "    geom_graph = Graph.from_adjacency(pd.DataFrame({'focal': group.index[focal],\n",
    "                                                    'neighbor': group.index[neighbor], 'weight': 1}))\n",
    "    value_counts = geom_graph.component_labels.value_counts()\n",
    "    \n",
    "    # return new morphotope labels\n",
    "    comp_labels = geom_graph.component_labels.map(lambda x: f'{gc}_{morph_number}_{str(x)}'  if value_counts[x] > 75 else f'{gc}_-1')\n",
    "    \n",
    "    return comp_labels"
   ]
  },
  {
   "cell_type": "code",
   "execution_count": 72,
   "id": "ca895a31-3dde-4fae-8d90-9bd36c48e569",
   "metadata": {},
   "outputs": [
    {
     "name": "stdout",
     "output_type": "stream",
     "text": [
      "0    POLYGON ((4616718.204 3026081.581, 4616720.974...\n",
      "Name: geometry, dtype: geometry\n"
     ]
    },
    {
     "ename": "AttributeError",
     "evalue": "'GeoSeries' object has no attribute 'morph'",
     "output_type": "error",
     "traceback": [
      "\u001b[0;31m---------------------------------------------------------------------------\u001b[0m",
      "\u001b[0;31mAttributeError\u001b[0m                            Traceback (most recent call last)",
      "\u001b[0;32m<timed exec>\u001b[0m in \u001b[0;36m?\u001b[0;34m()\u001b[0m\n\u001b[0;32m----> 1\u001b[0;31m \u001b[0;34m'Could not get source, probably due dynamically evaluated source code.'\u001b[0m\u001b[0;34m\u001b[0m\u001b[0;34m\u001b[0m\u001b[0m\n\u001b[0m",
      "\u001b[0;32m~/urban_taxonomy/.pixi/envs/default/lib/python3.12/site-packages/pandas/core/groupby/generic.py\u001b[0m in \u001b[0;36m?\u001b[0;34m(self, func, engine, engine_kwargs, *args, **kwargs)\u001b[0m\n\u001b[1;32m   1812\u001b[0m     \u001b[0;34m@\u001b[0m\u001b[0mSubstitution\u001b[0m\u001b[0;34m(\u001b[0m\u001b[0mklass\u001b[0m\u001b[0;34m=\u001b[0m\u001b[0;34m\"DataFrame\"\u001b[0m\u001b[0;34m,\u001b[0m \u001b[0mexample\u001b[0m\u001b[0;34m=\u001b[0m\u001b[0m__examples_dataframe_doc\u001b[0m\u001b[0;34m)\u001b[0m\u001b[0;34m\u001b[0m\u001b[0;34m\u001b[0m\u001b[0m\n\u001b[1;32m   1813\u001b[0m     \u001b[0;34m@\u001b[0m\u001b[0mAppender\u001b[0m\u001b[0;34m(\u001b[0m\u001b[0m_transform_template\u001b[0m\u001b[0;34m)\u001b[0m\u001b[0;34m\u001b[0m\u001b[0;34m\u001b[0m\u001b[0m\n\u001b[1;32m   1814\u001b[0m     \u001b[0;32mdef\u001b[0m \u001b[0mtransform\u001b[0m\u001b[0;34m(\u001b[0m\u001b[0mself\u001b[0m\u001b[0;34m,\u001b[0m \u001b[0mfunc\u001b[0m\u001b[0;34m,\u001b[0m \u001b[0;34m*\u001b[0m\u001b[0margs\u001b[0m\u001b[0;34m,\u001b[0m \u001b[0mengine\u001b[0m\u001b[0;34m=\u001b[0m\u001b[0;32mNone\u001b[0m\u001b[0;34m,\u001b[0m \u001b[0mengine_kwargs\u001b[0m\u001b[0;34m=\u001b[0m\u001b[0;32mNone\u001b[0m\u001b[0;34m,\u001b[0m \u001b[0;34m**\u001b[0m\u001b[0mkwargs\u001b[0m\u001b[0;34m)\u001b[0m\u001b[0;34m:\u001b[0m\u001b[0;34m\u001b[0m\u001b[0;34m\u001b[0m\u001b[0m\n\u001b[0;32m-> 1815\u001b[0;31m         return self._transform(\n\u001b[0m\u001b[1;32m   1816\u001b[0m             \u001b[0mfunc\u001b[0m\u001b[0;34m,\u001b[0m \u001b[0;34m*\u001b[0m\u001b[0margs\u001b[0m\u001b[0;34m,\u001b[0m \u001b[0mengine\u001b[0m\u001b[0;34m=\u001b[0m\u001b[0mengine\u001b[0m\u001b[0;34m,\u001b[0m \u001b[0mengine_kwargs\u001b[0m\u001b[0;34m=\u001b[0m\u001b[0mengine_kwargs\u001b[0m\u001b[0;34m,\u001b[0m \u001b[0;34m**\u001b[0m\u001b[0mkwargs\u001b[0m\u001b[0;34m\u001b[0m\u001b[0;34m\u001b[0m\u001b[0m\n\u001b[1;32m   1817\u001b[0m         \u001b[0;34m)\u001b[0m\u001b[0;34m\u001b[0m\u001b[0;34m\u001b[0m\u001b[0m\n",
      "\u001b[0;32m~/urban_taxonomy/.pixi/envs/default/lib/python3.12/site-packages/pandas/core/groupby/groupby.py\u001b[0m in \u001b[0;36m?\u001b[0;34m(self, func, engine, engine_kwargs, *args, **kwargs)\u001b[0m\n\u001b[1;32m   2017\u001b[0m         \u001b[0;32mif\u001b[0m \u001b[0morig_func\u001b[0m \u001b[0;34m!=\u001b[0m \u001b[0mfunc\u001b[0m\u001b[0;34m:\u001b[0m\u001b[0;34m\u001b[0m\u001b[0;34m\u001b[0m\u001b[0m\n\u001b[1;32m   2018\u001b[0m             \u001b[0mwarn_alias_replacement\u001b[0m\u001b[0;34m(\u001b[0m\u001b[0mself\u001b[0m\u001b[0;34m,\u001b[0m \u001b[0morig_func\u001b[0m\u001b[0;34m,\u001b[0m \u001b[0mfunc\u001b[0m\u001b[0;34m)\u001b[0m\u001b[0;34m\u001b[0m\u001b[0;34m\u001b[0m\u001b[0m\n\u001b[1;32m   2019\u001b[0m \u001b[0;34m\u001b[0m\u001b[0m\n\u001b[1;32m   2020\u001b[0m         \u001b[0;32mif\u001b[0m \u001b[0;32mnot\u001b[0m \u001b[0misinstance\u001b[0m\u001b[0;34m(\u001b[0m\u001b[0mfunc\u001b[0m\u001b[0;34m,\u001b[0m \u001b[0mstr\u001b[0m\u001b[0;34m)\u001b[0m\u001b[0;34m:\u001b[0m\u001b[0;34m\u001b[0m\u001b[0;34m\u001b[0m\u001b[0m\n\u001b[0;32m-> 2021\u001b[0;31m             \u001b[0;32mreturn\u001b[0m \u001b[0mself\u001b[0m\u001b[0;34m.\u001b[0m\u001b[0m_transform_general\u001b[0m\u001b[0;34m(\u001b[0m\u001b[0mfunc\u001b[0m\u001b[0;34m,\u001b[0m \u001b[0mengine\u001b[0m\u001b[0;34m,\u001b[0m \u001b[0mengine_kwargs\u001b[0m\u001b[0;34m,\u001b[0m \u001b[0;34m*\u001b[0m\u001b[0margs\u001b[0m\u001b[0;34m,\u001b[0m \u001b[0;34m**\u001b[0m\u001b[0mkwargs\u001b[0m\u001b[0;34m)\u001b[0m\u001b[0;34m\u001b[0m\u001b[0;34m\u001b[0m\u001b[0m\n\u001b[0m\u001b[1;32m   2022\u001b[0m \u001b[0;34m\u001b[0m\u001b[0m\n\u001b[1;32m   2023\u001b[0m         \u001b[0;32melif\u001b[0m \u001b[0mfunc\u001b[0m \u001b[0;32mnot\u001b[0m \u001b[0;32min\u001b[0m \u001b[0mbase\u001b[0m\u001b[0;34m.\u001b[0m\u001b[0mtransform_kernel_allowlist\u001b[0m\u001b[0;34m:\u001b[0m\u001b[0;34m\u001b[0m\u001b[0;34m\u001b[0m\u001b[0m\n\u001b[1;32m   2024\u001b[0m             \u001b[0mmsg\u001b[0m \u001b[0;34m=\u001b[0m \u001b[0;34mf\"\u001b[0m\u001b[0;34m'\u001b[0m\u001b[0;34m{\u001b[0m\u001b[0mfunc\u001b[0m\u001b[0;34m}\u001b[0m\u001b[0;34m' is not a valid function name for transform(name)\u001b[0m\u001b[0;34m\"\u001b[0m\u001b[0;34m\u001b[0m\u001b[0;34m\u001b[0m\u001b[0m\n",
      "\u001b[0;32m~/urban_taxonomy/.pixi/envs/default/lib/python3.12/site-packages/pandas/core/groupby/generic.py\u001b[0m in \u001b[0;36m?\u001b[0;34m(self, func, engine, engine_kwargs, *args, **kwargs)\u001b[0m\n\u001b[1;32m   1729\u001b[0m             \u001b[0;31m# 2023-02-27 No tests broken by disabling this pinning\u001b[0m\u001b[0;34m\u001b[0m\u001b[0;34m\u001b[0m\u001b[0m\n\u001b[1;32m   1730\u001b[0m             \u001b[0mobject\u001b[0m\u001b[0;34m.\u001b[0m\u001b[0m__setattr__\u001b[0m\u001b[0;34m(\u001b[0m\u001b[0mgroup\u001b[0m\u001b[0;34m,\u001b[0m \u001b[0;34m\"name\"\u001b[0m\u001b[0;34m,\u001b[0m \u001b[0mname\u001b[0m\u001b[0;34m)\u001b[0m\u001b[0;34m\u001b[0m\u001b[0;34m\u001b[0m\u001b[0m\n\u001b[1;32m   1731\u001b[0m             \u001b[0;32mtry\u001b[0m\u001b[0;34m:\u001b[0m\u001b[0;34m\u001b[0m\u001b[0;34m\u001b[0m\u001b[0m\n\u001b[1;32m   1732\u001b[0m                 \u001b[0mpath\u001b[0m\u001b[0;34m,\u001b[0m \u001b[0mres\u001b[0m \u001b[0;34m=\u001b[0m \u001b[0mself\u001b[0m\u001b[0;34m.\u001b[0m\u001b[0m_choose_path\u001b[0m\u001b[0;34m(\u001b[0m\u001b[0mfast_path\u001b[0m\u001b[0;34m,\u001b[0m \u001b[0mslow_path\u001b[0m\u001b[0;34m,\u001b[0m \u001b[0mgroup\u001b[0m\u001b[0;34m)\u001b[0m\u001b[0;34m\u001b[0m\u001b[0;34m\u001b[0m\u001b[0m\n\u001b[0;32m-> 1733\u001b[0;31m             \u001b[0;32mexcept\u001b[0m \u001b[0mValueError\u001b[0m \u001b[0;32mas\u001b[0m \u001b[0merr\u001b[0m\u001b[0;34m:\u001b[0m\u001b[0;34m\u001b[0m\u001b[0;34m\u001b[0m\u001b[0m\n\u001b[0m\u001b[1;32m   1734\u001b[0m                 \u001b[0;31m# e.g. test_transform_with_non_scalar_group\u001b[0m\u001b[0;34m\u001b[0m\u001b[0;34m\u001b[0m\u001b[0m\n\u001b[1;32m   1735\u001b[0m                 \u001b[0mmsg\u001b[0m \u001b[0;34m=\u001b[0m \u001b[0;34m\"transform must return a scalar value for each group\"\u001b[0m\u001b[0;34m\u001b[0m\u001b[0;34m\u001b[0m\u001b[0m\n\u001b[1;32m   1736\u001b[0m                 \u001b[0;32mraise\u001b[0m \u001b[0mValueError\u001b[0m\u001b[0;34m(\u001b[0m\u001b[0mmsg\u001b[0m\u001b[0;34m)\u001b[0m \u001b[0;32mfrom\u001b[0m \u001b[0merr\u001b[0m\u001b[0;34m\u001b[0m\u001b[0;34m\u001b[0m\u001b[0m\n",
      "\u001b[0;32m~/urban_taxonomy/.pixi/envs/default/lib/python3.12/site-packages/pandas/core/groupby/generic.py\u001b[0m in \u001b[0;36m?\u001b[0;34m(self, fast_path, slow_path, group)\u001b[0m\n\u001b[1;32m   1832\u001b[0m     \u001b[0;32mdef\u001b[0m \u001b[0m_choose_path\u001b[0m\u001b[0;34m(\u001b[0m\u001b[0mself\u001b[0m\u001b[0;34m,\u001b[0m \u001b[0mfast_path\u001b[0m\u001b[0;34m:\u001b[0m \u001b[0mCallable\u001b[0m\u001b[0;34m,\u001b[0m \u001b[0mslow_path\u001b[0m\u001b[0;34m:\u001b[0m \u001b[0mCallable\u001b[0m\u001b[0;34m,\u001b[0m \u001b[0mgroup\u001b[0m\u001b[0;34m:\u001b[0m \u001b[0mDataFrame\u001b[0m\u001b[0;34m)\u001b[0m\u001b[0;34m:\u001b[0m\u001b[0;34m\u001b[0m\u001b[0;34m\u001b[0m\u001b[0m\n\u001b[1;32m   1833\u001b[0m         \u001b[0mpath\u001b[0m \u001b[0;34m=\u001b[0m \u001b[0mslow_path\u001b[0m\u001b[0;34m\u001b[0m\u001b[0;34m\u001b[0m\u001b[0m\n\u001b[0;32m-> 1834\u001b[0;31m         \u001b[0mres\u001b[0m \u001b[0;34m=\u001b[0m \u001b[0mslow_path\u001b[0m\u001b[0;34m(\u001b[0m\u001b[0mgroup\u001b[0m\u001b[0;34m)\u001b[0m\u001b[0;34m\u001b[0m\u001b[0;34m\u001b[0m\u001b[0m\n\u001b[0m\u001b[1;32m   1835\u001b[0m \u001b[0;34m\u001b[0m\u001b[0m\n\u001b[1;32m   1836\u001b[0m         \u001b[0;32mif\u001b[0m \u001b[0mself\u001b[0m\u001b[0;34m.\u001b[0m\u001b[0mngroups\u001b[0m \u001b[0;34m==\u001b[0m \u001b[0;36m1\u001b[0m\u001b[0;34m:\u001b[0m\u001b[0;34m\u001b[0m\u001b[0;34m\u001b[0m\u001b[0m\n\u001b[1;32m   1837\u001b[0m             \u001b[0;31m# no need to evaluate multiple paths when only\u001b[0m\u001b[0;34m\u001b[0m\u001b[0;34m\u001b[0m\u001b[0m\n",
      "\u001b[0;32m~/urban_taxonomy/.pixi/envs/default/lib/python3.12/site-packages/pandas/core/groupby/generic.py\u001b[0m in \u001b[0;36m?\u001b[0;34m(group)\u001b[0m\n\u001b[0;32m-> 1827\u001b[0;31m             slow_path = lambda group: group.apply(\n\u001b[0m\u001b[1;32m   1828\u001b[0m                 \u001b[0;32mlambda\u001b[0m \u001b[0mx\u001b[0m\u001b[0;34m:\u001b[0m \u001b[0mfunc\u001b[0m\u001b[0;34m(\u001b[0m\u001b[0mx\u001b[0m\u001b[0;34m,\u001b[0m \u001b[0;34m*\u001b[0m\u001b[0margs\u001b[0m\u001b[0;34m,\u001b[0m \u001b[0;34m**\u001b[0m\u001b[0mkwargs\u001b[0m\u001b[0;34m)\u001b[0m\u001b[0;34m,\u001b[0m \u001b[0maxis\u001b[0m\u001b[0;34m=\u001b[0m\u001b[0mself\u001b[0m\u001b[0;34m.\u001b[0m\u001b[0maxis\u001b[0m\u001b[0;34m\u001b[0m\u001b[0;34m\u001b[0m\u001b[0m\n\u001b[1;32m   1829\u001b[0m             \u001b[0;34m)\u001b[0m\u001b[0;34m\u001b[0m\u001b[0;34m\u001b[0m\u001b[0m\n",
      "\u001b[0;32m~/urban_taxonomy/.pixi/envs/default/lib/python3.12/site-packages/geopandas/geodataframe.py\u001b[0m in \u001b[0;36m?\u001b[0;34m(self, func, axis, raw, result_type, args, **kwargs)\u001b[0m\n\u001b[1;32m   1832\u001b[0m     \u001b[0;34m@\u001b[0m\u001b[0mdoc\u001b[0m\u001b[0;34m(\u001b[0m\u001b[0mpd\u001b[0m\u001b[0;34m.\u001b[0m\u001b[0mDataFrame\u001b[0m\u001b[0;34m)\u001b[0m\u001b[0;34m\u001b[0m\u001b[0;34m\u001b[0m\u001b[0m\n\u001b[1;32m   1833\u001b[0m     \u001b[0;32mdef\u001b[0m \u001b[0mapply\u001b[0m\u001b[0;34m(\u001b[0m\u001b[0mself\u001b[0m\u001b[0;34m,\u001b[0m \u001b[0mfunc\u001b[0m\u001b[0;34m,\u001b[0m \u001b[0maxis\u001b[0m\u001b[0;34m=\u001b[0m\u001b[0;36m0\u001b[0m\u001b[0;34m,\u001b[0m \u001b[0mraw\u001b[0m\u001b[0;34m=\u001b[0m\u001b[0;32mFalse\u001b[0m\u001b[0;34m,\u001b[0m \u001b[0mresult_type\u001b[0m\u001b[0;34m=\u001b[0m\u001b[0;32mNone\u001b[0m\u001b[0;34m,\u001b[0m \u001b[0margs\u001b[0m\u001b[0;34m=\u001b[0m\u001b[0;34m(\u001b[0m\u001b[0;34m)\u001b[0m\u001b[0;34m,\u001b[0m \u001b[0;34m**\u001b[0m\u001b[0mkwargs\u001b[0m\u001b[0;34m)\u001b[0m\u001b[0;34m:\u001b[0m\u001b[0;34m\u001b[0m\u001b[0;34m\u001b[0m\u001b[0m\n\u001b[0;32m-> 1834\u001b[0;31m         result = super().apply(\n\u001b[0m\u001b[1;32m   1835\u001b[0m             \u001b[0mfunc\u001b[0m\u001b[0;34m,\u001b[0m \u001b[0maxis\u001b[0m\u001b[0;34m=\u001b[0m\u001b[0maxis\u001b[0m\u001b[0;34m,\u001b[0m \u001b[0mraw\u001b[0m\u001b[0;34m=\u001b[0m\u001b[0mraw\u001b[0m\u001b[0;34m,\u001b[0m \u001b[0mresult_type\u001b[0m\u001b[0;34m=\u001b[0m\u001b[0mresult_type\u001b[0m\u001b[0;34m,\u001b[0m \u001b[0margs\u001b[0m\u001b[0;34m=\u001b[0m\u001b[0margs\u001b[0m\u001b[0;34m,\u001b[0m \u001b[0;34m**\u001b[0m\u001b[0mkwargs\u001b[0m\u001b[0;34m\u001b[0m\u001b[0;34m\u001b[0m\u001b[0m\n\u001b[1;32m   1836\u001b[0m         \u001b[0;34m)\u001b[0m\u001b[0;34m\u001b[0m\u001b[0;34m\u001b[0m\u001b[0m\n\u001b[1;32m   1837\u001b[0m         \u001b[0;31m# Reconstruct gdf if it was lost by apply\u001b[0m\u001b[0;34m\u001b[0m\u001b[0;34m\u001b[0m\u001b[0m\n",
      "\u001b[0;32m~/urban_taxonomy/.pixi/envs/default/lib/python3.12/site-packages/pandas/core/frame.py\u001b[0m in \u001b[0;36m?\u001b[0;34m(self, func, axis, raw, result_type, args, by_row, engine, engine_kwargs, **kwargs)\u001b[0m\n\u001b[1;32m  10370\u001b[0m             \u001b[0mengine_kwargs\u001b[0m\u001b[0;34m=\u001b[0m\u001b[0mengine_kwargs\u001b[0m\u001b[0;34m,\u001b[0m\u001b[0;34m\u001b[0m\u001b[0;34m\u001b[0m\u001b[0m\n\u001b[1;32m  10371\u001b[0m             \u001b[0margs\u001b[0m\u001b[0;34m=\u001b[0m\u001b[0margs\u001b[0m\u001b[0;34m,\u001b[0m\u001b[0;34m\u001b[0m\u001b[0;34m\u001b[0m\u001b[0m\n\u001b[1;32m  10372\u001b[0m             \u001b[0mkwargs\u001b[0m\u001b[0;34m=\u001b[0m\u001b[0mkwargs\u001b[0m\u001b[0;34m,\u001b[0m\u001b[0;34m\u001b[0m\u001b[0;34m\u001b[0m\u001b[0m\n\u001b[1;32m  10373\u001b[0m         \u001b[0;34m)\u001b[0m\u001b[0;34m\u001b[0m\u001b[0;34m\u001b[0m\u001b[0m\n\u001b[0;32m> 10374\u001b[0;31m         \u001b[0;32mreturn\u001b[0m \u001b[0mop\u001b[0m\u001b[0;34m.\u001b[0m\u001b[0mapply\u001b[0m\u001b[0;34m(\u001b[0m\u001b[0;34m)\u001b[0m\u001b[0;34m.\u001b[0m\u001b[0m__finalize__\u001b[0m\u001b[0;34m(\u001b[0m\u001b[0mself\u001b[0m\u001b[0;34m,\u001b[0m \u001b[0mmethod\u001b[0m\u001b[0;34m=\u001b[0m\u001b[0;34m\"apply\"\u001b[0m\u001b[0;34m)\u001b[0m\u001b[0;34m\u001b[0m\u001b[0;34m\u001b[0m\u001b[0m\n\u001b[0m",
      "\u001b[0;32m~/urban_taxonomy/.pixi/envs/default/lib/python3.12/site-packages/pandas/core/apply.py\u001b[0m in \u001b[0;36m?\u001b[0;34m(self)\u001b[0m\n\u001b[1;32m    912\u001b[0m         \u001b[0;31m# raw\u001b[0m\u001b[0;34m\u001b[0m\u001b[0;34m\u001b[0m\u001b[0m\n\u001b[1;32m    913\u001b[0m         \u001b[0;32melif\u001b[0m \u001b[0mself\u001b[0m\u001b[0;34m.\u001b[0m\u001b[0mraw\u001b[0m\u001b[0;34m:\u001b[0m\u001b[0;34m\u001b[0m\u001b[0;34m\u001b[0m\u001b[0m\n\u001b[1;32m    914\u001b[0m             \u001b[0;32mreturn\u001b[0m \u001b[0mself\u001b[0m\u001b[0;34m.\u001b[0m\u001b[0mapply_raw\u001b[0m\u001b[0;34m(\u001b[0m\u001b[0mengine\u001b[0m\u001b[0;34m=\u001b[0m\u001b[0mself\u001b[0m\u001b[0;34m.\u001b[0m\u001b[0mengine\u001b[0m\u001b[0;34m,\u001b[0m \u001b[0mengine_kwargs\u001b[0m\u001b[0;34m=\u001b[0m\u001b[0mself\u001b[0m\u001b[0;34m.\u001b[0m\u001b[0mengine_kwargs\u001b[0m\u001b[0;34m)\u001b[0m\u001b[0;34m\u001b[0m\u001b[0;34m\u001b[0m\u001b[0m\n\u001b[1;32m    915\u001b[0m \u001b[0;34m\u001b[0m\u001b[0m\n\u001b[0;32m--> 916\u001b[0;31m         \u001b[0;32mreturn\u001b[0m \u001b[0mself\u001b[0m\u001b[0;34m.\u001b[0m\u001b[0mapply_standard\u001b[0m\u001b[0;34m(\u001b[0m\u001b[0;34m)\u001b[0m\u001b[0;34m\u001b[0m\u001b[0;34m\u001b[0m\u001b[0m\n\u001b[0m",
      "\u001b[0;32m~/urban_taxonomy/.pixi/envs/default/lib/python3.12/site-packages/pandas/core/apply.py\u001b[0m in \u001b[0;36m?\u001b[0;34m(self)\u001b[0m\n\u001b[1;32m   1061\u001b[0m     \u001b[0;32mdef\u001b[0m \u001b[0mapply_standard\u001b[0m\u001b[0;34m(\u001b[0m\u001b[0mself\u001b[0m\u001b[0;34m)\u001b[0m\u001b[0;34m:\u001b[0m\u001b[0;34m\u001b[0m\u001b[0;34m\u001b[0m\u001b[0m\n\u001b[1;32m   1062\u001b[0m         \u001b[0;32mif\u001b[0m \u001b[0mself\u001b[0m\u001b[0;34m.\u001b[0m\u001b[0mengine\u001b[0m \u001b[0;34m==\u001b[0m \u001b[0;34m\"python\"\u001b[0m\u001b[0;34m:\u001b[0m\u001b[0;34m\u001b[0m\u001b[0;34m\u001b[0m\u001b[0m\n\u001b[0;32m-> 1063\u001b[0;31m             \u001b[0mresults\u001b[0m\u001b[0;34m,\u001b[0m \u001b[0mres_index\u001b[0m \u001b[0;34m=\u001b[0m \u001b[0mself\u001b[0m\u001b[0;34m.\u001b[0m\u001b[0mapply_series_generator\u001b[0m\u001b[0;34m(\u001b[0m\u001b[0;34m)\u001b[0m\u001b[0;34m\u001b[0m\u001b[0;34m\u001b[0m\u001b[0m\n\u001b[0m\u001b[1;32m   1064\u001b[0m         \u001b[0;32melse\u001b[0m\u001b[0;34m:\u001b[0m\u001b[0;34m\u001b[0m\u001b[0;34m\u001b[0m\u001b[0m\n\u001b[1;32m   1065\u001b[0m             \u001b[0mresults\u001b[0m\u001b[0;34m,\u001b[0m \u001b[0mres_index\u001b[0m \u001b[0;34m=\u001b[0m \u001b[0mself\u001b[0m\u001b[0;34m.\u001b[0m\u001b[0mapply_series_numba\u001b[0m\u001b[0;34m(\u001b[0m\u001b[0;34m)\u001b[0m\u001b[0;34m\u001b[0m\u001b[0;34m\u001b[0m\u001b[0m\n\u001b[1;32m   1066\u001b[0m \u001b[0;34m\u001b[0m\u001b[0m\n",
      "\u001b[0;32m~/urban_taxonomy/.pixi/envs/default/lib/python3.12/site-packages/pandas/core/apply.py\u001b[0m in \u001b[0;36m?\u001b[0;34m(self)\u001b[0m\n\u001b[1;32m   1077\u001b[0m \u001b[0;34m\u001b[0m\u001b[0m\n\u001b[1;32m   1078\u001b[0m         \u001b[0;32mwith\u001b[0m \u001b[0moption_context\u001b[0m\u001b[0;34m(\u001b[0m\u001b[0;34m\"mode.chained_assignment\"\u001b[0m\u001b[0;34m,\u001b[0m \u001b[0;32mNone\u001b[0m\u001b[0;34m)\u001b[0m\u001b[0;34m:\u001b[0m\u001b[0;34m\u001b[0m\u001b[0;34m\u001b[0m\u001b[0m\n\u001b[1;32m   1079\u001b[0m             \u001b[0;32mfor\u001b[0m \u001b[0mi\u001b[0m\u001b[0;34m,\u001b[0m \u001b[0mv\u001b[0m \u001b[0;32min\u001b[0m \u001b[0menumerate\u001b[0m\u001b[0;34m(\u001b[0m\u001b[0mseries_gen\u001b[0m\u001b[0;34m)\u001b[0m\u001b[0;34m:\u001b[0m\u001b[0;34m\u001b[0m\u001b[0;34m\u001b[0m\u001b[0m\n\u001b[1;32m   1080\u001b[0m                 \u001b[0;31m# ignore SettingWithCopy here in case the user mutates\u001b[0m\u001b[0;34m\u001b[0m\u001b[0;34m\u001b[0m\u001b[0m\n\u001b[0;32m-> 1081\u001b[0;31m                 \u001b[0mresults\u001b[0m\u001b[0;34m[\u001b[0m\u001b[0mi\u001b[0m\u001b[0;34m]\u001b[0m \u001b[0;34m=\u001b[0m \u001b[0mself\u001b[0m\u001b[0;34m.\u001b[0m\u001b[0mfunc\u001b[0m\u001b[0;34m(\u001b[0m\u001b[0mv\u001b[0m\u001b[0;34m,\u001b[0m \u001b[0;34m*\u001b[0m\u001b[0mself\u001b[0m\u001b[0;34m.\u001b[0m\u001b[0margs\u001b[0m\u001b[0;34m,\u001b[0m \u001b[0;34m**\u001b[0m\u001b[0mself\u001b[0m\u001b[0;34m.\u001b[0m\u001b[0mkwargs\u001b[0m\u001b[0;34m)\u001b[0m\u001b[0;34m\u001b[0m\u001b[0;34m\u001b[0m\u001b[0m\n\u001b[0m\u001b[1;32m   1082\u001b[0m                 \u001b[0;32mif\u001b[0m \u001b[0misinstance\u001b[0m\u001b[0;34m(\u001b[0m\u001b[0mresults\u001b[0m\u001b[0;34m[\u001b[0m\u001b[0mi\u001b[0m\u001b[0;34m]\u001b[0m\u001b[0;34m,\u001b[0m \u001b[0mABCSeries\u001b[0m\u001b[0;34m)\u001b[0m\u001b[0;34m:\u001b[0m\u001b[0;34m\u001b[0m\u001b[0;34m\u001b[0m\u001b[0m\n\u001b[1;32m   1083\u001b[0m                     \u001b[0;31m# If we have a view on v, we need to make a copy because\u001b[0m\u001b[0;34m\u001b[0m\u001b[0;34m\u001b[0m\u001b[0m\n\u001b[1;32m   1084\u001b[0m                     \u001b[0;31m#  series_generator will swap out the underlying data\u001b[0m\u001b[0;34m\u001b[0m\u001b[0;34m\u001b[0m\u001b[0m\n",
      "\u001b[0;32m~/urban_taxonomy/.pixi/envs/default/lib/python3.12/site-packages/pandas/core/groupby/generic.py\u001b[0m in \u001b[0;36m?\u001b[0;34m(x)\u001b[0m\n\u001b[0;32m-> 1828\u001b[0;31m                 \u001b[0;32mlambda\u001b[0m \u001b[0mx\u001b[0m\u001b[0;34m:\u001b[0m \u001b[0mfunc\u001b[0m\u001b[0;34m(\u001b[0m\u001b[0mx\u001b[0m\u001b[0;34m,\u001b[0m \u001b[0;34m*\u001b[0m\u001b[0margs\u001b[0m\u001b[0;34m,\u001b[0m \u001b[0;34m**\u001b[0m\u001b[0mkwargs\u001b[0m\u001b[0;34m)\u001b[0m\u001b[0;34m,\u001b[0m \u001b[0maxis\u001b[0m\u001b[0;34m=\u001b[0m\u001b[0mself\u001b[0m\u001b[0;34m.\u001b[0m\u001b[0maxis\u001b[0m\u001b[0;34m\u001b[0m\u001b[0;34m\u001b[0m\u001b[0m\n\u001b[0m",
      "\u001b[0;32m/tmp/ipykernel_46749/1846713608.py\u001b[0m in \u001b[0;36m?\u001b[0;34m(group)\u001b[0m\n\u001b[1;32m      1\u001b[0m \u001b[0;32mdef\u001b[0m \u001b[0mrelabel_morphotopes_geography\u001b[0m\u001b[0;34m(\u001b[0m\u001b[0mgroup\u001b[0m\u001b[0;34m)\u001b[0m\u001b[0;34m:\u001b[0m\u001b[0;34m\u001b[0m\u001b[0;34m\u001b[0m\u001b[0m\n\u001b[1;32m      2\u001b[0m \u001b[0;34m\u001b[0m\u001b[0m\n\u001b[1;32m      3\u001b[0m     \u001b[0;31m# extract morph info\u001b[0m\u001b[0;34m\u001b[0m\u001b[0;34m\u001b[0m\u001b[0m\n\u001b[1;32m      4\u001b[0m     \u001b[0mprint\u001b[0m\u001b[0;34m(\u001b[0m\u001b[0mgroup\u001b[0m\u001b[0;34m)\u001b[0m\u001b[0;34m\u001b[0m\u001b[0;34m\u001b[0m\u001b[0m\n\u001b[0;32m----> 5\u001b[0;31m     \u001b[0mgc\u001b[0m \u001b[0;34m=\u001b[0m \u001b[0mgroup\u001b[0m\u001b[0;34m.\u001b[0m\u001b[0mmorph\u001b[0m\u001b[0;34m.\u001b[0m\u001b[0miloc\u001b[0m\u001b[0;34m[\u001b[0m\u001b[0;36m0\u001b[0m\u001b[0;34m]\u001b[0m\u001b[0;34m.\u001b[0m\u001b[0msplit\u001b[0m\u001b[0;34m(\u001b[0m\u001b[0;34m'_'\u001b[0m\u001b[0;34m)\u001b[0m\u001b[0;34m[\u001b[0m\u001b[0;36m0\u001b[0m\u001b[0;34m]\u001b[0m\u001b[0;34m\u001b[0m\u001b[0;34m\u001b[0m\u001b[0m\n\u001b[0m\u001b[1;32m      6\u001b[0m     \u001b[0mmorph_number\u001b[0m \u001b[0;34m=\u001b[0m \u001b[0mgroup\u001b[0m\u001b[0;34m.\u001b[0m\u001b[0mmorph\u001b[0m\u001b[0;34m.\u001b[0m\u001b[0miloc\u001b[0m\u001b[0;34m[\u001b[0m\u001b[0;36m0\u001b[0m\u001b[0;34m]\u001b[0m\u001b[0;34m.\u001b[0m\u001b[0msplit\u001b[0m\u001b[0;34m(\u001b[0m\u001b[0;34m'_'\u001b[0m\u001b[0;34m)\u001b[0m\u001b[0;34m[\u001b[0m\u001b[0;36m1\u001b[0m\u001b[0;34m]\u001b[0m\u001b[0;34m\u001b[0m\u001b[0;34m\u001b[0m\u001b[0m\n\u001b[1;32m      7\u001b[0m \u001b[0;34m\u001b[0m\u001b[0m\n\u001b[1;32m      8\u001b[0m     \u001b[0;31m# gropu the buildings with no 100m distances between them\u001b[0m\u001b[0;34m\u001b[0m\u001b[0;34m\u001b[0m\u001b[0m\n",
      "\u001b[0;32m~/urban_taxonomy/.pixi/envs/default/lib/python3.12/site-packages/pandas/core/generic.py\u001b[0m in \u001b[0;36m?\u001b[0;34m(self, name)\u001b[0m\n\u001b[1;32m   6295\u001b[0m             \u001b[0;32mand\u001b[0m \u001b[0mname\u001b[0m \u001b[0;32mnot\u001b[0m \u001b[0;32min\u001b[0m \u001b[0mself\u001b[0m\u001b[0;34m.\u001b[0m\u001b[0m_accessors\u001b[0m\u001b[0;34m\u001b[0m\u001b[0;34m\u001b[0m\u001b[0m\n\u001b[1;32m   6296\u001b[0m             \u001b[0;32mand\u001b[0m \u001b[0mself\u001b[0m\u001b[0;34m.\u001b[0m\u001b[0m_info_axis\u001b[0m\u001b[0;34m.\u001b[0m\u001b[0m_can_hold_identifiers_and_holds_name\u001b[0m\u001b[0;34m(\u001b[0m\u001b[0mname\u001b[0m\u001b[0;34m)\u001b[0m\u001b[0;34m\u001b[0m\u001b[0;34m\u001b[0m\u001b[0m\n\u001b[1;32m   6297\u001b[0m         \u001b[0;34m)\u001b[0m\u001b[0;34m:\u001b[0m\u001b[0;34m\u001b[0m\u001b[0;34m\u001b[0m\u001b[0m\n\u001b[1;32m   6298\u001b[0m             \u001b[0;32mreturn\u001b[0m \u001b[0mself\u001b[0m\u001b[0;34m[\u001b[0m\u001b[0mname\u001b[0m\u001b[0;34m]\u001b[0m\u001b[0;34m\u001b[0m\u001b[0;34m\u001b[0m\u001b[0m\n\u001b[0;32m-> 6299\u001b[0;31m         \u001b[0;32mreturn\u001b[0m \u001b[0mobject\u001b[0m\u001b[0;34m.\u001b[0m\u001b[0m__getattribute__\u001b[0m\u001b[0;34m(\u001b[0m\u001b[0mself\u001b[0m\u001b[0;34m,\u001b[0m \u001b[0mname\u001b[0m\u001b[0;34m)\u001b[0m\u001b[0;34m\u001b[0m\u001b[0;34m\u001b[0m\u001b[0m\n\u001b[0m",
      "\u001b[0;31mAttributeError\u001b[0m: 'GeoSeries' object has no attribute 'morph'"
     ]
    }
   ],
   "source": [
    "%%time\n",
    "res = buildings.groupby('morph').transform(relabel_morphotopes_geography)"
   ]
  },
  {
   "cell_type": "code",
   "execution_count": null,
   "id": "074ed243-284b-4f53-87f5-ccdb099091d0",
   "metadata": {},
   "outputs": [],
   "source": []
  },
  {
   "cell_type": "code",
   "execution_count": null,
   "id": "adf48d01-8f6a-4512-a21b-46fb98cce154",
   "metadata": {},
   "outputs": [],
   "source": []
  },
  {
   "cell_type": "code",
   "execution_count": null,
   "id": "9fd7c1f3-a2a0-46ee-83b3-b8a158cd3e98",
   "metadata": {},
   "outputs": [],
   "source": []
  },
  {
   "cell_type": "code",
   "execution_count": null,
   "id": "a6982501-fbc1-4385-942f-93665c03c49a",
   "metadata": {},
   "outputs": [],
   "source": []
  },
  {
   "cell_type": "code",
   "execution_count": null,
   "id": "ffc32b39-8630-4ea9-95d3-7ed3ecb33e7e",
   "metadata": {},
   "outputs": [],
   "source": []
  }
 ],
 "metadata": {
  "kernelspec": {
   "display_name": "Python 3 (ipykernel)",
   "language": "python",
   "name": "python3"
  },
  "language_info": {
   "codemirror_mode": {
    "name": "ipython",
    "version": 3
   },
   "file_extension": ".py",
   "mimetype": "text/x-python",
   "name": "python",
   "nbconvert_exporter": "python",
   "pygments_lexer": "ipython3",
   "version": "3.12.10"
  }
 },
 "nbformat": 4,
 "nbformat_minor": 5
}
