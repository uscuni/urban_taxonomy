{
 "cells": [
  {
   "cell_type": "code",
   "execution_count": null,
   "id": "bfe789b9-613a-4af3-b157-b69f05f502f1",
   "metadata": {},
   "outputs": [],
   "source": [
    "import json"
   ]
  },
  {
   "cell_type": "code",
   "execution_count": null,
   "id": "5e654d9e-146f-44d1-929d-e37bd4000413",
   "metadata": {},
   "outputs": [],
   "source": [
    "mapping = {\n",
    "    1: {\n",
    "        1: \"Incoherent Fabric\",\n",
    "        2: \"Coherent Fabric\",\n",
    "    },\n",
    "    2: {\n",
    "        1: \"Incoherent Large-Scale Fabric\",\n",
    "        2: \"Incoherent Small-Scale Fabric\",\n",
    "        3: \"Coherent Interconnected Fabric\",\n",
    "        4: \"Coherent Dense Fabric\",\n",
    "    },\n",
    "    3: {\n",
    "        1: \"Incoherent Large-Scale Homogeneous Fabric\",\n",
    "        2: \"Incoherent Large-Scale Heterogeneous Fabric\",\n",
    "        3: \"Incoherent Small-Scale Linear Fabric\",\n",
    "        4: \"Incoherent Small-Scale Sparse Fabric\",\n",
    "        5: \"Incoherent Small-Scale Compact Fabric\",\n",
    "        6: \"Coherent Interconnected Fabric\",\n",
    "        7: \"Coherent Dense Disjoint Fabric\",\n",
    "        8: \"Coherent Dense Adjacent Fabric\",\n",
    "    },\n",
    "}"
   ]
  },
  {
   "cell_type": "code",
   "execution_count": 3,
   "id": "94bd0d54-421b-48a9-9748-04a1a828e4ad",
   "metadata": {},
   "outputs": [],
   "source": [
    "with open(\"/data/uscuni-ulce/data_product/label_name.json\", \"w\") as f:\n",
    "    json.dump(mapping, f, indent=4)"
   ]
  },
  {
   "cell_type": "code",
   "execution_count": null,
   "id": "f6c29d65-376d-4f21-91ed-f7b5dc639b6b",
   "metadata": {},
   "outputs": [],
   "source": [
    "pens = {\n",
    "    1: {\n",
    "        \"Incoherent Fabric\": \"Incoherent fabric covers a wide morphological variety, with a common theme of partial or complete breakage of the traditional structural roles of streets, plots, and buildings. Common for modernist period, post-modern, and industrial developments, this branch has less typically less connected street networks and may showcase buildings facing open spaces and internal parts of blocks rather than streets. At the same time, it contains less defined village developments.\",\n",
    "        \"Coherent Fabric\": \"In coherent fabric, all streets, plots, and buildings take their traditional structural roles in defining the spatial arrangement of the urban form. It is common for traditional European development with densely connected street networks and legible plot structure, facilitating direct relation between buildings and streets.\",\n",
    "    },\n",
    "    2: {\n",
    "        \"Incoherent Large-Scale Fabric\": \"Incoherent large-scale fabric captures typically urban development composed of buildings larger than the average, that may or may not be far from each other, creating large open spaces. Streets tend to be of an utilitarian use, rather than a structural one, typical for modernist housing estates or industrial zones.\",\n",
    "        \"Incoherent Small-Scale Fabric\": \"Incoherent small-scale fabric is mostly non-urban development capturing various kinds of villages and small towns, which show high variation of morphological properties. Buildings tend to be smaller, but distances between them vary, as well as the relations between buildings and streets.\",\n",
    "        \"Coherent Interconnected Fabric\": \"Coherent interconnected fabric is typical for historical city and town centres, where buildings form intensive development. In this branch, the built-up density and local street connectivity are high, while inter-building distances remain relatively small. Buildings frequently share walls, forming larger structures with courtyards along relatively short and narrow streets.\",\n",
    "        \"Coherent Dense Fabric\": \"Coherent dense fabric captures morphology typical for urban residential areas with lower density, where blocks are defined by streets more than buildings. The street networks are well defined and connected with buildings being either adjacent (e.g. row houses) or disjoint (e.g. urban villas).\",\n",
    "    },\n",
    "    3: {\n",
    "        \"Incoherent Large-Scale Homogeneous Fabric\": \"Incoherent large-scale homogeneous fabric consists of the large buildings with moderate variations in size and shape, as well as low to moderate street connectivity and wide streets. The resulting environment is spacious, with significant open areas between structures, typical of modernist housing, with areas showing a relatively high degree of homogeneity caused by underlying planning principles.\",\n",
    "        \"Incoherent Large-Scale Heterogeneous Fabric\": \"Incoherent large-scale heterogeneous fabric consists of the largest buildings with notable variations in size and shape, as well as low to moderate street connectivity and wide streets. The design does not emphasise sunlight exposure, creating broad but less refined configurations, typical of industrial and other service areas.\",\n",
    "        \"Incoherent Small-Scale Linear Fabric\": \"Incoherent small-scale linear fabric has a moderate built-up area and low local street connectivity, typically forming long linear villages. Its streets are long, linear, wide, and there are minimal shared walls between structures.\",\n",
    "        \"Incoherent Small-Scale Sparse Fabric\": \"Incoherent small-scale sparse fabric is characterised by low built-up density, low street connectivity, large distances between buildings, few shared walls, and large open spaces around buildings. The streets are few, open, and wide. The buildings are small to moderate in size, and their layout is more typical of rural areas.\",\n",
    "        \"Incoherent Small-Scale Compact Fabric\": \"Incoherent small-scale compact fabric has low to moderate built-up area and street connectivity. Buildings exhibit a consistent alignment among themselves and also along streets of varying length, width, and linearity. There is also a significant number of shared walls between structures, typical for more traditional villages.\",\n",
    "        \"Coherent Interconnected Fabric\": \"Coherent interconnected fabric is typical for historical city and town centres, where buildings form intensive development. In this branch, the built-up density and local street connectivity are high, while inter-building distances remain relatively small. Buildings frequently share walls, forming larger structures with courtyards along relatively short and narrow streets.\",\n",
    "        \"Coherent Dense Disjoint Fabric\": \"The coherent dense disjoint fabric has moderate to high built-up density and local street connectivity, with longer and wider streets compared to other dense developments. Shared walls between buildings are less common, and distances within buildings are moderate, reflecting a pattern of standalone structures within a robust street network.\",\n",
    "        \"Coherent Dense Adjacent Fabric\": \"In coherent dense adjacent fabric, the built-up density and local street connectivity are high, while inter-building distances remain relatively small. Buildings frequently share walls, forming larger structures along relatively short and narrow streets.\",\n",
    "    },\n",
    "}"
   ]
  },
  {
   "cell_type": "code",
   "execution_count": 9,
   "id": "a2304a7e-14e9-4595-aef8-df4980a0e71a",
   "metadata": {},
   "outputs": [],
   "source": [
    "with open(\"/data/uscuni-ulce/data_product/pen_portraits.json\", \"w\") as f:\n",
    "    json.dump(pens, f, indent=4)"
   ]
  }
 ],
 "metadata": {
  "kernelspec": {
   "display_name": "default",
   "language": "python",
   "name": "python3"
  },
  "language_info": {
   "codemirror_mode": {
    "name": "ipython",
    "version": 3
   },
   "file_extension": ".py",
   "mimetype": "text/x-python",
   "name": "python",
   "nbconvert_exporter": "python",
   "pygments_lexer": "ipython3",
   "version": "3.12.10"
  }
 },
 "nbformat": 4,
 "nbformat_minor": 5
}
