{
 "cells": [
  {
   "cell_type": "markdown",
   "id": "362a45bf-826c-4347-9768-bb8b4d6613b3",
   "metadata": {},
   "source": [
    "# Download building data for Belgium\n",
    "\n",
    "## OSM"
   ]
  },
  {
   "cell_type": "code",
   "execution_count": 1,
   "id": "b7ff4628-347f-4e38-a5de-d0b0ba4dcd4e",
   "metadata": {},
   "outputs": [],
   "source": [
    "import os\n",
    "\n",
    "import pyogrio\n",
    "import httpx"
   ]
  },
  {
   "cell_type": "code",
   "execution_count": 3,
   "id": "f7d06396-8d35-41a0-b7dc-da90f5e20f49",
   "metadata": {},
   "outputs": [],
   "source": [
    "datadir = \"/data/uscuni-ulce/extension/\"\n",
    "country = \"belgium_inspire\""
   ]
  },
  {
   "cell_type": "code",
   "execution_count": 4,
   "id": "d204db7b-020c-40ad-ad93-dd6302aa8221",
   "metadata": {},
   "outputs": [],
   "source": [
    "# os.mkdir(datadir)\n",
    "os.mkdir(datadir + country)"
   ]
  },
  {
   "cell_type": "code",
   "execution_count": 11,
   "id": "6df92e86-d3ba-4b40-8f75-25321bf10b53",
   "metadata": {},
   "outputs": [],
   "source": [
    "path = \"https://download.geofabrik.de/europe/belgium-latest.osm.pbf\""
   ]
  },
  {
   "cell_type": "code",
   "execution_count": 12,
   "id": "9f92e9b6-8744-43e3-9a90-77d0f2da0c59",
   "metadata": {},
   "outputs": [
    {
     "name": "stdout",
     "output_type": "stream",
     "text": [
      "CPU times: user 5.03 s, sys: 2.77 s, total: 7.79 s\n",
      "Wall time: 1min 31s\n"
     ]
    }
   ],
   "source": [
    "%%time\n",
    "r = httpx.get(path)\n",
    "with open(f\"{datadir}{country}/belgium-latest.osm.pbf\", \"wb\") as f:\n",
    "    f.write(r.content)"
   ]
  },
  {
   "cell_type": "code",
   "execution_count": 14,
   "id": "27f1f869-bbc9-4647-b320-f2a0c5815ed4",
   "metadata": {},
   "outputs": [
    {
     "name": "stderr",
     "output_type": "stream",
     "text": [
      "/home/martin/dev/urban_taxonomy/.pixi/envs/default/lib/python3.12/site-packages/pyogrio/raw.py:198: RuntimeWarning: Non closed ring detected. To avoid accepting it, set the OGR_GEOMETRY_ACCEPT_UNCLOSED_RING configuration option to NO\n",
      "  return ogr_read(\n"
     ]
    }
   ],
   "source": [
    "osm = pyogrio.read_dataframe(\n",
    "    f\"{datadir}{country}/belgium-latest.osm.pbf\", layer=\"multipolygons\"\n",
    ")"
   ]
  },
  {
   "cell_type": "code",
   "execution_count": 17,
   "id": "17c8a28d-6027-457a-ba57-20ed34824520",
   "metadata": {},
   "outputs": [],
   "source": [
    "buildings = osm[osm.building.notna()]"
   ]
  },
  {
   "cell_type": "code",
   "execution_count": 21,
   "id": "af545e43-0f04-4cca-a445-d51fafc6392f",
   "metadata": {},
   "outputs": [],
   "source": [
    "buildings = buildings.to_crs(3035)"
   ]
  },
  {
   "cell_type": "code",
   "execution_count": 25,
   "id": "87ecda25-9fa0-4de7-aa28-b9b6be913ae6",
   "metadata": {},
   "outputs": [],
   "source": [
    "buildings[[\"geometry\"]].reset_index(drop=True).to_parquet(\n",
    "    f\"{datadir}{country}/buildings.parquet\"\n",
    ")"
   ]
  },
  {
   "cell_type": "markdown",
   "id": "f0eaa0eb-c417-4796-aaa4-f97e5e7ce5ea",
   "metadata": {},
   "source": [
    "## INSPIRE"
   ]
  },
  {
   "cell_type": "code",
   "execution_count": 2,
   "id": "64245c3b-f5ff-41bc-851e-d337e440f123",
   "metadata": {},
   "outputs": [],
   "source": [
    "flanders_url = 'https://geo.api.vlaanderen.be/bu-core2d/wfs?request=GetFeature&version=2.0.0&service=WFS&typeName=bu-core2d:Building&outputFormat=gml32&count=1&srsName=epsg:4258'"
   ]
  },
  {
   "cell_type": "code",
   "execution_count": 12,
   "id": "52a0e6e3-7347-4e7e-97d2-35bb7accfbfc",
   "metadata": {},
   "outputs": [
    {
     "name": "stdout",
     "output_type": "stream",
     "text": [
      "CPU times: user 5.03 s, sys: 2.77 s, total: 7.79 s\n",
      "Wall time: 1min 31s\n"
     ]
    }
   ],
   "source": [
    "%%time\n",
    "r = httpx.get(flanders_url)\n",
    "with open(f\"{datadir}{country}/belgium-latest.osm.pbf\", \"wb\") as f:\n",
    "    f.write(r.content)"
   ]
  },
  {
   "cell_type": "code",
   "execution_count": null,
   "id": "b2a5559b-add8-495a-a8bd-d6c64c6e0c84",
   "metadata": {},
   "outputs": [],
   "source": []
  }
 ],
 "metadata": {
  "kernelspec": {
   "display_name": "Python 3 (ipykernel)",
   "language": "python",
   "name": "python3"
  },
  "language_info": {
   "codemirror_mode": {
    "name": "ipython",
    "version": 3
   },
   "file_extension": ".py",
   "mimetype": "text/x-python",
   "name": "python",
   "nbconvert_exporter": "python",
   "pygments_lexer": "ipython3",
   "version": "3.12.10"
  }
 },
 "nbformat": 4,
 "nbformat_minor": 5
}
