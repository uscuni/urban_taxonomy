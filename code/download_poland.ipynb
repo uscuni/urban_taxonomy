{
 "cells": [
  {
   "cell_type": "markdown",
   "id": "2f96e9b6-8013-4221-90b4-d374003bfcdb",
   "metadata": {},
   "source": [
    "# Download data from Geoportal (Poland)\n",
    "\n",
    "This notebook downloads building datasets of all districts (powiats) in Poland. The direct download links are constructed manually."
   ]
  },
  {
   "cell_type": "code",
   "execution_count": 1,
   "id": "100b85f2-c6e3-41f4-94be-714d1b9b94ae",
   "metadata": {},
   "outputs": [
    {
     "data": {
      "text/plain": [
       "'24.7'"
      ]
     },
     "execution_count": 1,
     "metadata": {},
     "output_type": "execute_result"
    }
   ],
   "source": [
    "import os\n",
    "import httpx\n",
    "import pyogrio\n",
    "import pandas as pd\n",
    "\n",
    "os.getenv(\"DOCKER_ENV_VERSION\")"
   ]
  },
  {
   "cell_type": "markdown",
   "id": "9c91082e-9dad-42f9-ac39-59db167b037f",
   "metadata": {},
   "source": [
    "Codes of Polish administrative units (voivodeships and powiats):"
   ]
  },
  {
   "cell_type": "code",
   "execution_count": 2,
   "id": "63252a93-2242-4756-8522-31457a0dc915",
   "metadata": {},
   "outputs": [],
   "source": [
    "wojs = range(2, 33, 2)\n",
    "pows = range(1, 39)"
   ]
  },
  {
   "cell_type": "markdown",
   "id": "3537b128-2f24-4d3d-bf55-388914131d0f",
   "metadata": {},
   "source": [
    "Fetch and dump the building datasets by combining the codes of voivodeships and powiats:"
   ]
  },
  {
   "cell_type": "code",
   "execution_count": null,
   "id": "8680c19a-a453-4db7-9ff2-49ddfce90897",
   "metadata": {},
   "outputs": [],
   "source": [
    "for woj in wojs:\n",
    "    for powiat in pows:\n",
    "        woj_code = \"{:02d}\".format(woj)\n",
    "        teryt_code = \"{:02d}{:02d}\".format(woj, powiat)\n",
    "        url_building = f\"https://opendata.geoportal.gov.pl/InneDane/Budynki3D/LOD1/2022/{woj_code}/{teryt_code}.zip\"\n",
    "        r = httpx.get(url_building, verify=False, timeout=None)\n",
    "        \n",
    "        if r.status_code != 200:\n",
    "            continue\n",
    "            \n",
    "        with open(f\"/data/buildings_raw/czechia/{teryt_code}.zip\", \"wb\") as f:\n",
    "            f.write(r.content)"
   ]
  },
  {
   "cell_type": "code",
   "execution_count": null,
   "id": "f15c35a3-2152-480a-9e2c-e57e5e05216a",
   "metadata": {},
   "outputs": [],
   "source": []
  }
 ],
 "metadata": {
  "kernelspec": {
   "display_name": "Python 3 (ipykernel)",
   "language": "python",
   "name": "python3"
  },
  "language_info": {
   "codemirror_mode": {
    "name": "ipython",
    "version": 3
   },
   "file_extension": ".py",
   "mimetype": "text/x-python",
   "name": "python",
   "nbconvert_exporter": "python",
   "pygments_lexer": "ipython3",
   "version": "3.11.9"
  }
 },
 "nbformat": 4,
 "nbformat_minor": 5
}
