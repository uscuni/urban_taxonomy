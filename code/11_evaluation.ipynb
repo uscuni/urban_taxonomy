{
 "cells": [
  {
   "cell_type": "markdown",
   "id": "ba27cc43",
   "metadata": {},
   "source": [
    "# Cluster evaluation\n",
    "\n",
    "Evaluation through the comparison to existing data."
   ]
  },
  {
   "cell_type": "code",
   "execution_count": 53,
   "id": "61980924-0d16-4e5f-a5b5-3f0a1de910e1",
   "metadata": {},
   "outputs": [],
   "source": [
    "import geopandas as gpd\n",
    "import numpy as np\n",
    "import pandas as pd\n",
    "import rioxarray\n",
    "import dataframe_image as dfi\n",
    "from core.utils import get_cluster_names\n",
    "\n",
    "from matplotlib import rcParams\n",
    "\n",
    "rcParams[\"font.family\"] = \"sans-serif\"\n",
    "rcParams[\"font.sans-serif\"] = [\"Lato\"]\n",
    "\n",
    "v = \"v10\"\n",
    "\n",
    "regions = gpd.read_parquet(\"/data/uscuni-ulce/regions/cadastre_regions_hull.parquet\")"
   ]
  },
  {
   "cell_type": "markdown",
   "id": "a12c6592-f714-4070-879f-632960fb33f5",
   "metadata": {
    "jp-MarkdownHeadingCollapsed": true
   },
   "source": [
    "## CORINE Land Cover"
   ]
  },
  {
   "cell_type": "code",
   "execution_count": 2,
   "id": "dd9b2371-2193-437f-a970-ebf94b51a556",
   "metadata": {},
   "outputs": [],
   "source": [
    "# !wget https://copernicus-fme.eea.europa.eu/clmsdatadownload/results/146146.zip"
   ]
  },
  {
   "cell_type": "code",
   "execution_count": 3,
   "id": "0cd10a4d-6023-4e1a-b423-09124d68c74f",
   "metadata": {},
   "outputs": [],
   "source": [
    "# !mv 146146.zip /data/uscuni-ulce/validation/"
   ]
  },
  {
   "cell_type": "code",
   "execution_count": 4,
   "id": "7af232ef-c4fd-420a-9e51-a98a92af65ca",
   "metadata": {},
   "outputs": [
    {
     "name": "stderr",
     "output_type": "stream",
     "text": [
      "/home/krasen/urban_taxonomy/.pixi/envs/default/lib/python3.12/site-packages/pyogrio/geopandas.py:265: UserWarning: More than one layer found in 'U2018_CLC2018_V2020_20u1.gpkg': 'U2018_CLC2018_V2020_20u1' (default), 'U2018_CLC2018_V2020_20u1_FR_REU', 'U2018_CLC2018_V2020_20u1_FR_GLP', 'U2018_CLC2018_V2020_20u1_FR_GUF', 'U2018_CLC2018_V2020_20u1_FR_MTQ', 'U2018_CLC2018_V2020_20u1_FR_MYT'. Specify layer parameter to avoid this warning.\n",
      "  result = read_func(\n"
     ]
    }
   ],
   "source": [
    "corrine = gpd.read_file(\n",
    "    \"/data/uscuni-ulce/validation/Results/u2018_clc2018_v2020_20u1_geoPackage/DATA/U2018_CLC2018_V2020_20u1.gpkg\"\n",
    ")"
   ]
  },
  {
   "cell_type": "code",
   "execution_count": null,
   "id": "b91d4f20-88df-41f4-a341-c98cf4dc4f11",
   "metadata": {
    "scrolled": true
   },
   "outputs": [
    {
     "name": "stdout",
     "output_type": "stream",
     "text": [
      "4\n",
      "10\n",
      "132\n",
      "134\n",
      "286\n",
      "313\n",
      "400\n",
      "523\n",
      "765\n",
      "801\n",
      "832\n",
      "913\n",
      "960\n",
      "1124\n",
      "1154\n",
      "1387\n",
      "1478\n",
      "1515\n",
      "1605\n",
      "1718\n",
      "1736\n",
      "1782\n",
      "1970\n",
      "1981\n",
      "2096\n",
      "2322\n",
      "2350\n",
      "2478\n",
      "2514\n",
      "2625\n",
      "2728\n",
      "2975\n",
      "3039\n",
      "3109\n",
      "3150\n",
      "3221\n",
      "3250\n",
      "3526\n",
      "3610\n",
      "3612\n",
      "3701\n",
      "3705\n",
      "3752\n",
      "3759\n",
      "3981\n",
      "4070\n",
      "4214\n",
      "4215\n",
      "4235\n",
      "4284\n",
      "4356\n",
      "4382\n",
      "4723\n",
      "4805\n",
      "5096\n",
      "5191\n",
      "5246\n",
      "5310\n",
      "5408\n",
      "5427\n",
      "5662\n",
      "5671\n",
      "5766\n",
      "5883\n",
      "6254\n",
      "6529\n",
      "6560\n",
      "6576\n",
      "6741\n",
      "6749\n",
      "6811\n",
      "6873\n",
      "6996\n",
      "7068\n",
      "7094\n",
      "7280\n",
      "7485\n",
      "7528\n",
      "7534\n",
      "7681\n",
      "7688\n",
      "7712\n",
      "7727\n",
      "7805\n",
      "7914\n",
      "7937\n",
      "7963\n",
      "8046\n",
      "8216\n",
      "8238\n",
      "8256\n",
      "8265\n",
      "8345\n",
      "8374\n",
      "8396\n",
      "8592\n",
      "8707\n",
      "8731\n",
      "8757\n",
      "8759\n",
      "8813\n",
      "9016\n",
      "9064\n",
      "9074\n",
      "9150\n",
      "9169\n",
      "9194\n",
      "9284\n",
      "9824\n",
      "9924\n",
      "9954\n",
      "9972\n",
      "10019\n",
      "10086\n",
      "10095\n",
      "10124\n",
      "10179\n",
      "10222\n",
      "10263\n",
      "10277\n",
      "10455\n",
      "10510\n",
      "10511\n",
      "10563\n",
      "10579\n",
      "10602\n",
      "10666\n",
      "10794\n",
      "10847\n",
      "10908\n",
      "10926\n",
      "10970\n",
      "11002\n",
      "11019\n",
      "11057\n",
      "11141\n",
      "11210\n",
      "11256\n",
      "11261\n",
      "11305\n",
      "11309\n",
      "11311\n",
      "11318\n",
      "11367\n",
      "11444\n",
      "11455\n",
      "11471\n",
      "11667\n",
      "11678\n",
      "11735\n",
      "11757\n",
      "11799\n",
      "11877\n",
      "11905\n",
      "12027\n",
      "12084\n",
      "12100\n",
      "12115\n",
      "12154\n",
      "12191\n",
      "12381\n",
      "12440\n",
      "12483\n",
      "12552\n",
      "12667\n",
      "12707\n",
      "12755\n",
      "12756\n",
      "12844\n",
      "12919\n",
      "12965\n",
      "13076\n",
      "13137\n",
      "13172\n",
      "13191\n",
      "13196\n",
      "13229\n",
      "13301\n",
      "13395\n",
      "13442\n",
      "13482\n",
      "13506\n",
      "13553\n",
      "13555\n",
      "13614\n",
      "13616\n",
      "13655\n",
      "13677\n",
      "13779\n",
      "13810\n",
      "13881\n",
      "13897\n",
      "13965\n",
      "14084\n",
      "14245\n",
      "14319\n",
      "14321\n",
      "14327\n",
      "14364\n",
      "14383\n",
      "14550\n",
      "14552\n",
      "14623\n",
      "14679\n",
      "14702\n",
      "14735\n",
      "14789\n",
      "14933\n",
      "15019\n",
      "15139\n",
      "15265\n",
      "15331\n",
      "15347\n",
      "15484\n",
      "15509\n",
      "15545\n",
      "15555\n",
      "15613\n",
      "15626\n",
      "15653\n",
      "15690\n",
      "15716\n",
      "15794\n",
      "15802\n",
      "15933\n",
      "15970\n",
      "16217\n",
      "16242\n",
      "16256\n",
      "16291\n",
      "16318\n",
      "16429\n",
      "16509\n",
      "16510\n",
      "16566\n",
      "16632\n",
      "16685\n",
      "16688\n",
      "16745\n",
      "16921\n",
      "17171\n",
      "17268\n",
      "17389\n",
      "17393\n",
      "17458\n",
      "17677\n",
      "17690\n",
      "17959\n",
      "18008\n",
      "18164\n",
      "18454\n",
      "18489\n",
      "18516\n",
      "18557\n",
      "18893\n",
      "19124\n",
      "19151\n",
      "19244\n",
      "19254\n",
      "19376\n",
      "19386\n",
      "19393\n",
      "19542\n",
      "19878\n",
      "19940\n",
      "20123\n",
      "20149\n",
      "20243\n",
      "20496\n",
      "20554\n",
      "20783\n",
      "20968\n",
      "20970\n",
      "21174\n",
      "21304\n",
      "21484\n",
      "21523\n",
      "21569\n",
      "21591\n",
      "21894\n",
      "21904\n",
      "22040\n",
      "22105\n",
      "22345\n",
      "22602\n",
      "22704\n",
      "22884\n",
      "22912\n",
      "22976\n",
      "23258\n",
      "23337\n",
      "23401\n",
      "23631\n",
      "23642\n",
      "23661\n",
      "23812\n",
      "23984\n",
      "24116\n",
      "24232\n",
      "24257\n",
      "24276\n",
      "24389\n",
      "24402\n",
      "24596\n",
      "24735\n",
      "24743\n",
      "25202\n",
      "25361\n",
      "25491\n",
      "25532\n",
      "25656\n",
      "25697\n",
      "25765\n",
      "25934\n",
      "26072\n",
      "26265\n",
      "26300\n",
      "26315\n",
      "26429\n",
      "26435\n",
      "26468\n",
      "26780\n",
      "26888\n",
      "27053\n",
      "27166\n",
      "27178\n",
      "27297\n",
      "27411\n",
      "27578\n",
      "27587\n",
      "27717\n",
      "27773\n",
      "27926\n",
      "28040\n",
      "28235\n",
      "28307\n",
      "28566\n",
      "28835\n",
      "29096\n",
      "29215\n",
      "29249\n",
      "29278\n",
      "29344\n",
      "29374\n",
      "29694\n",
      "29729\n",
      "29787\n",
      "29800\n",
      "29984\n",
      "30124\n",
      "30213\n",
      "30523\n",
      "30585\n",
      "30615\n",
      "30640\n",
      "30729\n",
      "30754\n",
      "30775\n",
      "30841\n",
      "31212\n",
      "31237\n",
      "31287\n",
      "31291\n",
      "31298\n",
      "31736\n",
      "32023\n",
      "32045\n",
      "32108\n",
      "32261\n",
      "32386\n",
      "32427\n",
      "32503\n",
      "32593\n",
      "32685\n",
      "32793\n",
      "32970\n",
      "33122\n",
      "33287\n",
      "33427\n",
      "33492\n",
      "33528\n",
      "33692\n",
      "33722\n",
      "34053\n",
      "34152\n",
      "34266\n",
      "34436\n",
      "34522\n",
      "34767\n",
      "34839\n",
      "34900\n",
      "34978\n",
      "35055\n",
      "35141\n",
      "35180\n",
      "35211\n",
      "35246\n",
      "35368\n",
      "35540\n",
      "35679\n",
      "35755\n",
      "35812\n",
      "36012\n",
      "36122\n",
      "36330\n",
      "36580\n",
      "36689\n",
      "36704\n",
      "36752\n",
      "36842\n",
      "36953\n",
      "37105\n",
      "37163\n",
      "37236\n",
      "37434\n",
      "37496\n",
      "37628\n",
      "37635\n",
      "37698\n",
      "37811\n",
      "38018\n",
      "38243\n",
      "38248\n",
      "38375\n",
      "38512\n",
      "38615\n",
      "38679\n",
      "38844\n",
      "38924\n",
      "38935\n",
      "39030\n",
      "39078\n",
      "39161\n",
      "39171\n",
      "39293\n",
      "39396\n",
      "39490\n",
      "39680\n",
      "39911\n",
      "39947\n",
      "40064\n",
      "40130\n",
      "40294\n",
      "40447\n",
      "40766\n",
      "40885\n",
      "40890\n",
      "40941\n",
      "41002\n",
      "41095\n",
      "41185\n",
      "41289\n",
      "41303\n",
      "41428\n",
      "41630\n",
      "42084\n",
      "42154\n",
      "42226\n",
      "42366\n",
      "42418\n",
      "42499\n",
      "42528\n",
      "42595\n",
      "43070\n",
      "43097\n",
      "43376\n",
      "43422\n",
      "43455\n",
      "43495\n",
      "43508\n",
      "43619\n",
      "43651\n",
      "43662\n",
      "43706\n",
      "43715\n",
      "43852\n",
      "44065\n",
      "44194\n",
      "44323\n",
      "44390\n",
      "44478\n",
      "44913\n",
      "44933\n",
      "44960\n",
      "45014\n",
      "45181\n",
      "45303\n",
      "45441\n",
      "45512\n",
      "45801\n",
      "45865\n",
      "45888\n",
      "46115\n",
      "46185\n",
      "46281\n",
      "46352\n",
      "46355\n",
      "46461\n",
      "46545\n",
      "47004\n",
      "47090\n",
      "47149\n",
      "47443\n",
      "47446\n",
      "47465\n",
      "47505\n",
      "47539\n",
      "47554\n",
      "47774\n",
      "47813\n",
      "47919\n",
      "48152\n",
      "48227\n",
      "48254\n",
      "48357\n",
      "48405\n",
      "48597\n",
      "48965\n",
      "49045\n",
      "49393\n",
      "49434\n",
      "49571\n",
      "49643\n",
      "49714\n",
      "50280\n",
      "50285\n",
      "50528\n",
      "50880\n",
      "50896\n",
      "50966\n",
      "51019\n",
      "51277\n",
      "51289\n",
      "51570\n",
      "51677\n",
      "52381\n",
      "52492\n",
      "53232\n",
      "53380\n",
      "53410\n",
      "53525\n",
      "53605\n",
      "53616\n",
      "53744\n",
      "54871\n",
      "55392\n",
      "55763\n",
      "55811\n",
      "55835\n",
      "56160\n",
      "56178\n",
      "56184\n",
      "56404\n",
      "56937\n",
      "57109\n",
      "57313\n",
      "57652\n",
      "57717\n",
      "57876\n",
      "57908\n",
      "58077\n",
      "58523\n",
      "58571\n",
      "58713\n",
      "58795\n",
      "59194\n",
      "59226\n",
      "59718\n",
      "59768\n",
      "60009\n",
      "60045\n",
      "60202\n",
      "60273\n",
      "60613\n",
      "60914\n",
      "61183\n",
      "61187\n",
      "61711\n",
      "61875\n",
      "62193\n",
      "62222\n",
      "62393\n",
      "62844\n",
      "62954\n",
      "63485\n",
      "63655\n",
      "63726\n",
      "63739\n",
      "63756\n",
      "64097\n",
      "64220\n",
      "64463\n",
      "65007\n",
      "65441\n",
      "65626\n",
      "66007\n",
      "66047\n",
      "66540\n",
      "66593\n",
      "66793\n",
      "67156\n",
      "67279\n",
      "67459\n",
      "67803\n",
      "68059\n",
      "68265\n",
      "68363\n",
      "69333\n",
      "69394\n",
      "70073\n",
      "70108\n",
      "70368\n",
      "70973\n",
      "71306\n",
      "71477\n",
      "71506\n",
      "71843\n",
      "72032\n",
      "72110\n",
      "72396\n",
      "72507\n",
      "73611\n",
      "73625\n",
      "73735\n",
      "74378\n",
      "74568\n",
      "75472\n",
      "75642\n",
      "76038\n",
      "76305\n",
      "76512\n",
      "77205\n",
      "77846\n",
      "78792\n",
      "78820\n",
      "78938\n",
      "79988\n",
      "80313\n",
      "80404\n",
      "82064\n",
      "82514\n",
      "82773\n",
      "83538\n",
      "83542\n",
      "84297\n",
      "84420\n",
      "84554\n",
      "84962\n",
      "85104\n",
      "85156\n",
      "85262\n",
      "86502\n",
      "86568\n",
      "86863\n",
      "86873\n",
      "87615\n",
      "87947\n",
      "88930\n",
      "88950\n",
      "89122\n",
      "89586\n",
      "89921\n",
      "89971\n",
      "90075\n",
      "90196\n",
      "90770\n",
      "91011\n",
      "91479\n",
      "91702\n",
      "92178\n",
      "93167\n",
      "93504\n",
      "93793\n",
      "95256\n",
      "96465\n",
      "96727\n",
      "96895\n",
      "97745\n",
      "97978\n",
      "98107\n",
      "98628\n",
      "98660\n",
      "98716\n",
      "98958\n",
      "99661\n",
      "99865\n",
      "99886\n",
      "100210\n",
      "100342\n",
      "100348\n",
      "101313\n",
      "101429\n",
      "101574\n",
      "101992\n",
      "102031\n",
      "102127\n",
      "102262\n",
      "102474\n",
      "102679\n",
      "102801\n",
      "102814\n",
      "102939\n",
      "103039\n",
      "103283\n",
      "103305\n",
      "103561\n",
      "103713\n",
      "103852\n",
      "103882\n",
      "103928\n",
      "104018\n",
      "104066\n",
      "104568\n",
      "105038\n",
      "105090\n",
      "105385\n",
      "105388\n",
      "105426\n",
      "105457\n",
      "105589\n",
      "106034\n",
      "106124\n",
      "106363\n",
      "106370\n",
      "106384\n",
      "106559\n",
      "107131\n",
      "107442\n",
      "108050\n",
      "108101\n",
      "108127\n",
      "108129\n",
      "108263\n",
      "108748\n",
      "108755\n",
      "108884\n",
      "109404\n",
      "109488\n",
      "109491\n",
      "109636\n",
      "109727\n",
      "109756\n",
      "110016\n",
      "110179\n",
      "110237\n",
      "110657\n",
      "110691\n",
      "110906\n",
      "110908\n",
      "111555\n",
      "111689\n",
      "111911\n",
      "112253\n",
      "112437\n",
      "112696\n",
      "112843\n",
      "112949\n",
      "113068\n",
      "113301\n",
      "114014\n",
      "114180\n",
      "114311\n",
      "114591\n",
      "114680\n",
      "114822\n",
      "115151\n",
      "115595\n",
      "115950\n",
      "116316\n",
      "116523\n",
      "116801\n",
      "116866\n",
      "117182\n",
      "117638\n",
      "117720\n",
      "118096\n",
      "118747\n",
      "119562\n",
      "119609\n",
      "120057\n",
      "120193\n",
      "120545\n",
      "120961\n",
      "120982\n",
      "121071\n",
      "121143\n",
      "123228\n",
      "123690\n",
      "123904\n",
      "123941\n",
      "124160\n",
      "124904\n",
      "125016\n",
      "125141\n",
      "125667\n",
      "126588\n",
      "127101\n",
      "127183\n",
      "127626\n",
      "128286\n",
      "129032\n",
      "129104\n",
      "129395\n",
      "129730\n",
      "130341\n",
      "130658\n",
      "131130\n",
      "131395\n",
      "131786\n",
      "131824\n",
      "132225\n",
      "133057\n",
      "133100\n",
      "133948\n",
      "134023\n",
      "134189\n",
      "134454\n",
      "134755\n",
      "134905\n",
      "135687\n",
      "136169\n",
      "136533\n",
      "137469\n",
      "137537\n",
      "137636\n",
      "137863\n",
      "138804\n",
      "139096\n",
      "139621\n",
      "139674\n",
      "139764\n",
      "140420\n",
      "141272\n",
      "141366\n",
      "142100\n",
      "143701\n",
      "145906\n",
      "146285\n",
      "147112\n",
      "147634\n",
      "148018\n",
      "148085\n",
      "149997\n",
      "150044\n",
      "151676\n",
      "152081\n",
      "152511\n",
      "CPU times: user 5min 10s, sys: 28.3 s, total: 5min 39s\n",
      "Wall time: 5min 27s\n"
     ]
    }
   ],
   "source": [
    "%%time\n",
    "results = []\n",
    "for region_id, region_hull in regions.iterrows():\n",
    "    print(region_id)\n",
    "    # setup regional data\n",
    "    buildings = gpd.read_parquet(\n",
    "        f\"/data/uscuni-ulce/processed_data/clusters/clusters_{region_id}_{v}.pq\"\n",
    "    )\n",
    "    regional_corrine = corrine[corrine.intersects(region_hull.convex_hull)].explode()\n",
    "\n",
    "    ## spatially join buildings and corrine areas\n",
    "    inp, res = buildings.centroid.sindex.query(\n",
    "        regional_corrine.geometry, predicate=\"intersects\"\n",
    "    )\n",
    "    assert (pd.Series(res).value_counts() == 1).all()\n",
    "    buildings[\"Code_18\"] = \"\"\n",
    "    buildings.iloc[res, -1] = regional_corrine.iloc[inp, 0]\n",
    "\n",
    "    results.append(buildings)"
   ]
  },
  {
   "cell_type": "code",
   "execution_count": 6,
   "id": "dbc6a63b-9e3d-4748-bf4c-039534e028d6",
   "metadata": {},
   "outputs": [
    {
     "name": "stdout",
     "output_type": "stream",
     "text": [
      "CPU times: user 16.5 s, sys: 5.28 s, total: 21.8 s\n",
      "Wall time: 21.8 s\n"
     ]
    }
   ],
   "source": [
    "%%time\n",
    "all_data = pd.concat(results, ignore_index=True)"
   ]
  },
  {
   "cell_type": "code",
   "execution_count": 7,
   "id": "0f26b233-06e7-4bb5-8385-c91f287ace80",
   "metadata": {},
   "outputs": [
    {
     "name": "stdout",
     "output_type": "stream",
     "text": [
      "CPU times: user 262 ms, sys: 207 ms, total: 469 ms\n",
      "Wall time: 478 ms\n"
     ]
    }
   ],
   "source": [
    "%%time\n",
    "cluster_mapping = pd.read_parquet(\n",
    "    f\"/data/uscuni-ulce/processed_data/clusters/cluster_mapping_{v}.pq\"\n",
    ")\n",
    "all_data[\"map_label\"] = all_data[\"final_without_noise\"].map(\n",
    "    cluster_mapping[3].to_dict()\n",
    ")"
   ]
  },
  {
   "cell_type": "code",
   "execution_count": 8,
   "id": "9cafc961-b6a7-43ea-bc60-90c43d9030de",
   "metadata": {},
   "outputs": [],
   "source": [
    "corrine_legend = {\n",
    "    \"111\": \"Continuous urban fabric\",\n",
    "    \"112\": \"Discontinuous urban fabric\",\n",
    "    \"121\": \"Industrial or commercial units\",\n",
    "    \"122\": \"Road and rail networks and associated land\",\n",
    "    \"123\": \"Port areas\",\n",
    "    \"124\": \"Airports\",\n",
    "    \"131\": \"Mineral extraction sites\",\n",
    "    \"132\": \"Dump sites\",\n",
    "    \"133\": \"Construction sites\",\n",
    "    \"141\": \"Green urban areas\",\n",
    "    \"142\": \"Sport and leisure facilities\",\n",
    "    \"211\": \"Non-irrigated arable land\",\n",
    "    \"212\": \"Permanently irrigated land\",\n",
    "    \"213\": \"Rice fields\",\n",
    "    \"221\": \"Vineyards\",\n",
    "    \"222\": \"Fruit trees and berry plantations\",\n",
    "    \"223\": \"Olive groves\",\n",
    "    \"231\": \"Pastures\",\n",
    "    \"241\": \"Annual crops associated with permanent crops\",\n",
    "    \"242\": \"Complex cultivation patterns\",\n",
    "    \"243\": \"Land principally occupied by agriculture, with significant areas of natural vegetation\",\n",
    "    \"244\": \"Agro-forestry areas\",\n",
    "}"
   ]
  },
  {
   "cell_type": "code",
   "execution_count": 9,
   "id": "37c9fd2a-e868-42e9-9f78-c9b06494351f",
   "metadata": {},
   "outputs": [],
   "source": [
    "himoc_corrine_cross_tab = pd.crosstab(\n",
    "    all_data.map_label, all_data.Code_18, normalize=\"index\"\n",
    ")\n",
    "\n",
    "# drop non-urban columns\n",
    "relevant_corrine_columns = himoc_corrine_cross_tab.columns[\n",
    "    himoc_corrine_cross_tab.columns.str.startswith(\"1\")\n",
    "    | himoc_corrine_cross_tab.columns.str.startswith(\"2\")\n",
    "]\n",
    "himoc_corrine_cross_tab = himoc_corrine_cross_tab.loc[:, relevant_corrine_columns]\n",
    "\n",
    "# map keys to names\n",
    "himoc_corrine_cross_tab.index = himoc_corrine_cross_tab.index.map(\n",
    "    get_cluster_names(3)\n",
    ").values\n",
    "himoc_corrine_cross_tab.columns = himoc_corrine_cross_tab.columns.map(\n",
    "    corrine_legend\n",
    ").values"
   ]
  },
  {
   "cell_type": "code",
   "execution_count": null,
   "id": "b3597983-50a5-44d9-b77d-8ee706d6b565",
   "metadata": {},
   "outputs": [],
   "source": [
    "# focus only on relative classes\n",
    "himoc_corrine_cross_tab = himoc_corrine_cross_tab[\n",
    "    [\n",
    "        \"Continuous urban fabric\",\n",
    "        \"Discontinuous urban fabric\",\n",
    "        \"Industrial or commercial units\",\n",
    "        \"Non-irrigated arable land\",\n",
    "        \"Pastures\",\n",
    "        \"Complex cultivation patterns\",\n",
    "        \"Land principally occupied by agriculture, with significant areas of natural vegetation\",\n",
    "    ]\n",
    "]"
   ]
  },
  {
   "cell_type": "code",
   "execution_count": 11,
   "id": "010bf1f2-c913-4eda-a3e3-428dad1ad229",
   "metadata": {},
   "outputs": [
    {
     "data": {
      "text/html": [
       "<style type=\"text/css\">\n",
       "#T_c2e9b_row0_col0, #T_c2e9b_row3_col2, #T_c2e9b_row4_col5, #T_c2e9b_row6_col4 {\n",
       "  background-color: #f1fafc;\n",
       "  color: #000000;\n",
       "}\n",
       "#T_c2e9b_row0_col1, #T_c2e9b_row1_col2, #T_c2e9b_row2_col1, #T_c2e9b_row3_col1, #T_c2e9b_row4_col1, #T_c2e9b_row5_col1, #T_c2e9b_row6_col1, #T_c2e9b_row7_col1 {\n",
       "  background-color: #00441b;\n",
       "  color: #f1f1f1;\n",
       "}\n",
       "#T_c2e9b_row0_col2 {\n",
       "  background-color: #9cd9ca;\n",
       "  color: #000000;\n",
       "}\n",
       "#T_c2e9b_row0_col3, #T_c2e9b_row5_col2 {\n",
       "  background-color: #ecf8fb;\n",
       "  color: #000000;\n",
       "}\n",
       "#T_c2e9b_row0_col4, #T_c2e9b_row6_col3 {\n",
       "  background-color: #f3fafc;\n",
       "  color: #000000;\n",
       "}\n",
       "#T_c2e9b_row0_col5, #T_c2e9b_row0_col6, #T_c2e9b_row1_col0, #T_c2e9b_row1_col6, #T_c2e9b_row2_col0, #T_c2e9b_row3_col0, #T_c2e9b_row4_col0, #T_c2e9b_row5_col5, #T_c2e9b_row5_col6, #T_c2e9b_row6_col5, #T_c2e9b_row6_col6, #T_c2e9b_row7_col5, #T_c2e9b_row7_col6 {\n",
       "  background-color: #f7fcfd;\n",
       "  color: #000000;\n",
       "}\n",
       "#T_c2e9b_row1_col1 {\n",
       "  background-color: #0e7936;\n",
       "  color: #f1f1f1;\n",
       "}\n",
       "#T_c2e9b_row1_col3 {\n",
       "  background-color: #84cfb9;\n",
       "  color: #000000;\n",
       "}\n",
       "#T_c2e9b_row1_col4 {\n",
       "  background-color: #ccece6;\n",
       "  color: #000000;\n",
       "}\n",
       "#T_c2e9b_row1_col5, #T_c2e9b_row5_col3, #T_c2e9b_row5_col4, #T_c2e9b_row6_col2 {\n",
       "  background-color: #f6fcfd;\n",
       "  color: #000000;\n",
       "}\n",
       "#T_c2e9b_row2_col2 {\n",
       "  background-color: #f2fafc;\n",
       "  color: #000000;\n",
       "}\n",
       "#T_c2e9b_row2_col3 {\n",
       "  background-color: #005221;\n",
       "  color: #f1f1f1;\n",
       "}\n",
       "#T_c2e9b_row2_col4 {\n",
       "  background-color: #80cdb7;\n",
       "  color: #000000;\n",
       "}\n",
       "#T_c2e9b_row2_col5 {\n",
       "  background-color: #7dccb5;\n",
       "  color: #000000;\n",
       "}\n",
       "#T_c2e9b_row2_col6 {\n",
       "  background-color: #d4efec;\n",
       "  color: #000000;\n",
       "}\n",
       "#T_c2e9b_row3_col3 {\n",
       "  background-color: #51b689;\n",
       "  color: #f1f1f1;\n",
       "}\n",
       "#T_c2e9b_row3_col4 {\n",
       "  background-color: #94d6c5;\n",
       "  color: #000000;\n",
       "}\n",
       "#T_c2e9b_row3_col5 {\n",
       "  background-color: #a0dbcd;\n",
       "  color: #000000;\n",
       "}\n",
       "#T_c2e9b_row3_col6 {\n",
       "  background-color: #daf1f1;\n",
       "  color: #000000;\n",
       "}\n",
       "#T_c2e9b_row4_col2, #T_c2e9b_row4_col6, #T_c2e9b_row7_col2 {\n",
       "  background-color: #f4fbfc;\n",
       "  color: #000000;\n",
       "}\n",
       "#T_c2e9b_row4_col3 {\n",
       "  background-color: #e5f5f9;\n",
       "  color: #000000;\n",
       "}\n",
       "#T_c2e9b_row4_col4 {\n",
       "  background-color: #dff3f4;\n",
       "  color: #000000;\n",
       "}\n",
       "#T_c2e9b_row5_col0 {\n",
       "  background-color: #005b25;\n",
       "  color: #f1f1f1;\n",
       "}\n",
       "#T_c2e9b_row6_col0, #T_c2e9b_row7_col4 {\n",
       "  background-color: #f5fbfd;\n",
       "  color: #000000;\n",
       "}\n",
       "#T_c2e9b_row7_col0 {\n",
       "  background-color: #ebf7fa;\n",
       "  color: #000000;\n",
       "}\n",
       "#T_c2e9b_row7_col3 {\n",
       "  background-color: #f5fbfc;\n",
       "  color: #000000;\n",
       "}\n",
       "</style>\n",
       "<table id=\"T_c2e9b\">\n",
       "  <thead>\n",
       "    <tr>\n",
       "      <th class=\"blank level0\" >&nbsp;</th>\n",
       "      <th id=\"T_c2e9b_level0_col0\" class=\"col_heading level0 col0\" >Continuous urban fabric</th>\n",
       "      <th id=\"T_c2e9b_level0_col1\" class=\"col_heading level0 col1\" >Discontinuous urban fabric</th>\n",
       "      <th id=\"T_c2e9b_level0_col2\" class=\"col_heading level0 col2\" >Industrial or commercial units</th>\n",
       "      <th id=\"T_c2e9b_level0_col3\" class=\"col_heading level0 col3\" >Non-irrigated arable land</th>\n",
       "      <th id=\"T_c2e9b_level0_col4\" class=\"col_heading level0 col4\" >Pastures</th>\n",
       "      <th id=\"T_c2e9b_level0_col5\" class=\"col_heading level0 col5\" >Complex cultivation patterns</th>\n",
       "      <th id=\"T_c2e9b_level0_col6\" class=\"col_heading level0 col6\" >Land principally occupied by agriculture, with significant areas of natural vegetation</th>\n",
       "    </tr>\n",
       "  </thead>\n",
       "  <tbody>\n",
       "    <tr>\n",
       "      <th id=\"T_c2e9b_level0_row0\" class=\"row_heading level0 row0\" >Incoherent Large-Scale Homogeneous Fabric</th>\n",
       "      <td id=\"T_c2e9b_row0_col0\" class=\"data row0 col0\" >0.03</td>\n",
       "      <td id=\"T_c2e9b_row0_col1\" class=\"data row0 col1\" >0.61</td>\n",
       "      <td id=\"T_c2e9b_row0_col2\" class=\"data row0 col2\" >0.23</td>\n",
       "      <td id=\"T_c2e9b_row0_col3\" class=\"data row0 col3\" >0.05</td>\n",
       "      <td id=\"T_c2e9b_row0_col4\" class=\"data row0 col4\" >0.02</td>\n",
       "      <td id=\"T_c2e9b_row0_col5\" class=\"data row0 col5\" >0.01</td>\n",
       "      <td id=\"T_c2e9b_row0_col6\" class=\"data row0 col6\" >0.01</td>\n",
       "    </tr>\n",
       "    <tr>\n",
       "      <th id=\"T_c2e9b_level0_row1\" class=\"row_heading level0 row1\" >Incoherent Large-Scale Heterogeneous Fabric</th>\n",
       "      <td id=\"T_c2e9b_row1_col0\" class=\"data row1 col0\" >0.01</td>\n",
       "      <td id=\"T_c2e9b_row1_col1\" class=\"data row1 col1\" >0.30</td>\n",
       "      <td id=\"T_c2e9b_row1_col2\" class=\"data row1 col2\" >0.36</td>\n",
       "      <td id=\"T_c2e9b_row1_col3\" class=\"data row1 col3\" >0.16</td>\n",
       "      <td id=\"T_c2e9b_row1_col4\" class=\"data row1 col4\" >0.10</td>\n",
       "      <td id=\"T_c2e9b_row1_col5\" class=\"data row1 col5\" >0.01</td>\n",
       "      <td id=\"T_c2e9b_row1_col6\" class=\"data row1 col6\" >0.01</td>\n",
       "    </tr>\n",
       "    <tr>\n",
       "      <th id=\"T_c2e9b_level0_row2\" class=\"row_heading level0 row2\" >Incoherent Small-Scale Linear Fabric</th>\n",
       "      <td id=\"T_c2e9b_row2_col0\" class=\"data row2 col0\" >0.00</td>\n",
       "      <td id=\"T_c2e9b_row2_col1\" class=\"data row2 col1\" >0.29</td>\n",
       "      <td id=\"T_c2e9b_row2_col2\" class=\"data row2 col2\" >0.01</td>\n",
       "      <td id=\"T_c2e9b_row2_col3\" class=\"data row2 col3\" >0.28</td>\n",
       "      <td id=\"T_c2e9b_row2_col4\" class=\"data row2 col4\" >0.13</td>\n",
       "      <td id=\"T_c2e9b_row2_col5\" class=\"data row2 col5\" >0.13</td>\n",
       "      <td id=\"T_c2e9b_row2_col6\" class=\"data row2 col6\" >0.06</td>\n",
       "    </tr>\n",
       "    <tr>\n",
       "      <th id=\"T_c2e9b_level0_row3\" class=\"row_heading level0 row3\" >Incoherent Small-Scale Sparse Fabric</th>\n",
       "      <td id=\"T_c2e9b_row3_col0\" class=\"data row3 col0\" >0.00</td>\n",
       "      <td id=\"T_c2e9b_row3_col1\" class=\"data row3 col1\" >0.36</td>\n",
       "      <td id=\"T_c2e9b_row3_col2\" class=\"data row3 col2\" >0.01</td>\n",
       "      <td id=\"T_c2e9b_row3_col3\" class=\"data row3 col3\" >0.21</td>\n",
       "      <td id=\"T_c2e9b_row3_col4\" class=\"data row3 col4\" >0.14</td>\n",
       "      <td id=\"T_c2e9b_row3_col5\" class=\"data row3 col5\" >0.13</td>\n",
       "      <td id=\"T_c2e9b_row3_col6\" class=\"data row3 col6\" >0.07</td>\n",
       "    </tr>\n",
       "    <tr>\n",
       "      <th id=\"T_c2e9b_level0_row4\" class=\"row_heading level0 row4\" >Incoherent Small-Scale Compact Fabric</th>\n",
       "      <td id=\"T_c2e9b_row4_col0\" class=\"data row4 col0\" >0.00</td>\n",
       "      <td id=\"T_c2e9b_row4_col1\" class=\"data row4 col1\" >0.68</td>\n",
       "      <td id=\"T_c2e9b_row4_col2\" class=\"data row4 col2\" >0.02</td>\n",
       "      <td id=\"T_c2e9b_row4_col3\" class=\"data row4 col3\" >0.08</td>\n",
       "      <td id=\"T_c2e9b_row4_col4\" class=\"data row4 col4\" >0.11</td>\n",
       "      <td id=\"T_c2e9b_row4_col5\" class=\"data row4 col5\" >0.03</td>\n",
       "      <td id=\"T_c2e9b_row4_col6\" class=\"data row4 col6\" >0.02</td>\n",
       "    </tr>\n",
       "    <tr>\n",
       "      <th id=\"T_c2e9b_level0_row5\" class=\"row_heading level0 row5\" >Coherent Interconnected Fabric</th>\n",
       "      <td id=\"T_c2e9b_row5_col0\" class=\"data row5 col0\" >0.46</td>\n",
       "      <td id=\"T_c2e9b_row5_col1\" class=\"data row5 col1\" >0.49</td>\n",
       "      <td id=\"T_c2e9b_row5_col2\" class=\"data row5 col2\" >0.04</td>\n",
       "      <td id=\"T_c2e9b_row5_col3\" class=\"data row5 col3\" >0.00</td>\n",
       "      <td id=\"T_c2e9b_row5_col4\" class=\"data row5 col4\" >0.00</td>\n",
       "      <td id=\"T_c2e9b_row5_col5\" class=\"data row5 col5\" >0.00</td>\n",
       "      <td id=\"T_c2e9b_row5_col6\" class=\"data row5 col6\" >0.00</td>\n",
       "    </tr>\n",
       "    <tr>\n",
       "      <th id=\"T_c2e9b_level0_row6\" class=\"row_heading level0 row6\" >Coherent Dense Disjoint Fabric</th>\n",
       "      <td id=\"T_c2e9b_row6_col0\" class=\"data row6 col0\" >0.01</td>\n",
       "      <td id=\"T_c2e9b_row6_col1\" class=\"data row6 col1\" >0.88</td>\n",
       "      <td id=\"T_c2e9b_row6_col2\" class=\"data row6 col2\" >0.01</td>\n",
       "      <td id=\"T_c2e9b_row6_col3\" class=\"data row6 col3\" >0.03</td>\n",
       "      <td id=\"T_c2e9b_row6_col4\" class=\"data row6 col4\" >0.04</td>\n",
       "      <td id=\"T_c2e9b_row6_col5\" class=\"data row6 col5\" >0.00</td>\n",
       "      <td id=\"T_c2e9b_row6_col6\" class=\"data row6 col6\" >0.00</td>\n",
       "    </tr>\n",
       "    <tr>\n",
       "      <th id=\"T_c2e9b_level0_row7\" class=\"row_heading level0 row7\" >Coherent Dense Adjacent Fabric</th>\n",
       "      <td id=\"T_c2e9b_row7_col0\" class=\"data row7 col0\" >0.07</td>\n",
       "      <td id=\"T_c2e9b_row7_col1\" class=\"data row7 col1\" >0.85</td>\n",
       "      <td id=\"T_c2e9b_row7_col2\" class=\"data row7 col2\" >0.03</td>\n",
       "      <td id=\"T_c2e9b_row7_col3\" class=\"data row7 col3\" >0.02</td>\n",
       "      <td id=\"T_c2e9b_row7_col4\" class=\"data row7 col4\" >0.02</td>\n",
       "      <td id=\"T_c2e9b_row7_col5\" class=\"data row7 col5\" >0.00</td>\n",
       "      <td id=\"T_c2e9b_row7_col6\" class=\"data row7 col6\" >0.00</td>\n",
       "    </tr>\n",
       "  </tbody>\n",
       "</table>\n"
      ],
      "text/plain": [
       "<pandas.io.formats.style.Styler at 0x7473b2c1d2e0>"
      ]
     },
     "execution_count": 11,
     "metadata": {},
     "output_type": "execute_result"
    }
   ],
   "source": [
    "f = {k: \"{:.2f}\" for k in himoc_corrine_cross_tab.columns.values}\n",
    "styled_table = himoc_corrine_cross_tab.style.format(f).background_gradient(\n",
    "    axis=1, cmap=\"BuGn\"\n",
    ")\n",
    "styled_table"
   ]
  },
  {
   "cell_type": "code",
   "execution_count": 12,
   "id": "75f917d7-3748-4885-9a4f-db2ff6351f96",
   "metadata": {},
   "outputs": [],
   "source": [
    "await dfi.export_async(styled_table, \"../data/corine.png\", dpi=300)"
   ]
  },
  {
   "cell_type": "markdown",
   "id": "56244f70-ef6a-4cd0-8caf-80183c00afe2",
   "metadata": {},
   "source": [
    "1. The clusters broadly follow the higher level patterns that are described by the corrine land cover classification\n",
    "    - the Large Utilitarian Development\t, Massive Connected Aggregations, Extensive Courtyard Complexes\t, Large Wide-Spaced Complexes are mostly industrial units.\n",
    "    - Large Interconnected Blocks\tis the most urban cluster and half of it is contiguous urban fabric\n",
    "    - Other types of clusters mostly fall within the Discontinuous urban fabric\tcluster, which is expected\n",
    "    - The sparse development captures some aggriculture and developed land patterns\n",
    "2. We split the classes into different sub classes, providing more information\n",
    "   - Discontinuous urban fabric is split into various classes based on the density, street characteristics and overall distances between buildings.\n",
    "   - Similarly for the less developed clusters such as Linear Development, Sparse Road-Linked Development, Sparse Rural Development\t which contain lots of villages."
   ]
  },
  {
   "cell_type": "markdown",
   "id": "675f8234-91ad-43df-9397-4fdb5136c0b7",
   "metadata": {
    "jp-MarkdownHeadingCollapsed": true
   },
   "source": [
    "## Urban atlas"
   ]
  },
  {
   "cell_type": "code",
   "execution_count": 1,
   "id": "5cb22db1-794d-4915-b61c-49c9f736c7eb",
   "metadata": {},
   "outputs": [],
   "source": [
    "# !wget https://copernicus-fme.eea.europa.eu/clmsdatadownload/results/145772.zip"
   ]
  },
  {
   "cell_type": "code",
   "execution_count": 2,
   "id": "ecb5b3d5-c8f2-4aca-8bda-e6f3abae29ca",
   "metadata": {},
   "outputs": [],
   "source": [
    "# !mv 145772.zip /data/uscuni-ulce/validation/"
   ]
  },
  {
   "cell_type": "markdown",
   "id": "695afcfb-2c9a-4c8c-acfc-cd4b39d881c3",
   "metadata": {
    "jp-MarkdownHeadingCollapsed": true
   },
   "source": [
    "### Generate data"
   ]
  },
  {
   "cell_type": "code",
   "execution_count": 5,
   "id": "838c6084-0918-4f81-8ae4-41a7321ee98f",
   "metadata": {
    "scrolled": true
   },
   "outputs": [
    {
     "data": {
      "text/plain": [
       "['/data/uscuni-ulce/validation/Results/AT003L3_LINZ_UA2018_v013.zip',\n",
       " '/data/uscuni-ulce/validation/Results/AT005L3_INNSBRUCK_UA2018_v013.zip',\n",
       " '/data/uscuni-ulce/validation/Results/AT004L3_SALZBURG_UA2018_v013.zip',\n",
       " '/data/uscuni-ulce/validation/Results/AT001L3_WIEN_UA2018_v013.zip',\n",
       " '/data/uscuni-ulce/validation/Results/AT002L3_GRAZ_UA2018_v013.zip',\n",
       " '/data/uscuni-ulce/validation/Results/AT006L2_KLAGENFURT_UA2018_v013.zip',\n",
       " '/data/uscuni-ulce/validation/Results/CZ004L2_PLZEN_UA2018_v013.zip',\n",
       " '/data/uscuni-ulce/validation/Results/CZ001L2_PRAHA_UA2018_v013.zip',\n",
       " '/data/uscuni-ulce/validation/Results/CZ011L2_ZLIN_UA2018_v013.zip',\n",
       " '/data/uscuni-ulce/validation/Results/CZ014L2_JIHLAVA_UA2018_v013.zip',\n",
       " '/data/uscuni-ulce/validation/Results/CZ013L2_KARLOVY_VARY_UA2018_v013.zip',\n",
       " '/data/uscuni-ulce/validation/Results/CZ016L2_MOST_UA2018_v013.zip',\n",
       " '/data/uscuni-ulce/validation/Results/CZ003L2_OSTRAVA_UA2018_v013.zip',\n",
       " '/data/uscuni-ulce/validation/Results/CZ009L2_HRADEC_KRALOVE_UA2018_v013.zip',\n",
       " '/data/uscuni-ulce/validation/Results/CZ008L2_CESKE_BUDEJOVICE_UA2018_v013.zip',\n",
       " '/data/uscuni-ulce/validation/Results/CZ002L2_BRNO_UA2018_v013.zip',\n",
       " '/data/uscuni-ulce/validation/Results/CZ007L2_LIBEREC_UA2018_v013.zip',\n",
       " '/data/uscuni-ulce/validation/Results/CZ005L2_USTI_NAD_LABEM_UA2018_v013.zip',\n",
       " '/data/uscuni-ulce/validation/Results/CZ010L2_PARDUBICE_UA2018_v013.zip',\n",
       " '/data/uscuni-ulce/validation/Results/CZ006L2_OLOMOUC_UA2018_v013.zip',\n",
       " '/data/uscuni-ulce/validation/Results/CZ018L2_CHOMUTOV_JIRKOV_UA2018_v013.zip',\n",
       " '/data/uscuni-ulce/validation/Results/SK005L1_PRESOV_UA2018_v013.zip',\n",
       " '/data/uscuni-ulce/validation/Results/SK004L1_NITRA_UA2018_v013.zip',\n",
       " '/data/uscuni-ulce/validation/Results/SK008L1_TRENCIN_UA2018_v013.zip',\n",
       " '/data/uscuni-ulce/validation/Results/SK007L1_TRNAVA_UA2018_v013.zip',\n",
       " '/data/uscuni-ulce/validation/Results/SK003L1_BANSKA_BYSTRICA_UA2018_v013.zip',\n",
       " '/data/uscuni-ulce/validation/Results/SK001L1_BRATISLAVA_UA2018_v013.zip',\n",
       " '/data/uscuni-ulce/validation/Results/SK002L1_KOSICE_UA2018_v013.zip',\n",
       " '/data/uscuni-ulce/validation/Results/SK006L1_ZILINA_UA2018_v013.zip',\n",
       " '/data/uscuni-ulce/validation/Results/PL511L2_WALBRZYCH_UA2018_v013.zip',\n",
       " '/data/uscuni-ulce/validation/Results/PL032L1_PIOTRKOW_TRYBUNALSKI_UA2018_v013.zip',\n",
       " '/data/uscuni-ulce/validation/Results/PL042L1_CHELM_UA2018_v013.zip',\n",
       " '/data/uscuni-ulce/validation/Results/PL051L1_TCZEW_UA2018_v013.zip',\n",
       " '/data/uscuni-ulce/validation/Results/PL037L1_GNIEZNO_UA2018_v013.zip',\n",
       " '/data/uscuni-ulce/validation/Results/PL017L2_GORZOW_WIELKOPOLSKI_UA2018_v013.zip',\n",
       " '/data/uscuni-ulce/validation/Results/PL002L2_LODZ_UA2018_v013.zip',\n",
       " '/data/uscuni-ulce/validation/Results/PL052L1_ELK_UA2018_v013.zip',\n",
       " '/data/uscuni-ulce/validation/Results/PL043L1_PABIANICE_UA2018_v013.zip',\n",
       " '/data/uscuni-ulce/validation/Results/PL005L2_POZNAN_UA2018_v013.zip',\n",
       " '/data/uscuni-ulce/validation/Results/PL004L2_WROCLAW_UA2018_v013.zip',\n",
       " '/data/uscuni-ulce/validation/Results/PL024L2_CZESTOCHOWA_UA2018_v013.zip',\n",
       " '/data/uscuni-ulce/validation/Results/PL506L2_BIELSKO_BIALA_UA2018_v013.zip',\n",
       " '/data/uscuni-ulce/validation/Results/PL016L2_OPOLE_UA2018_v013.zip',\n",
       " '/data/uscuni-ulce/validation/Results/PL049L1_SWIDNICA_UA2018_v013.zip',\n",
       " '/data/uscuni-ulce/validation/Results/PL047L1_LOMZA_UA2018_v013.zip',\n",
       " '/data/uscuni-ulce/validation/Results/PL517L2_GRUDZIADZ_UA2018_v013.zip',\n",
       " '/data/uscuni-ulce/validation/Results/PL513L2_WLOCLAWEK_UA2018_v013.zip',\n",
       " '/data/uscuni-ulce/validation/Results/PL045L1_STALOWA_WOLA_UA2018_v013.zip',\n",
       " '/data/uscuni-ulce/validation/Results/PL044L1_GLOGOW_UA2018_v013.zip',\n",
       " '/data/uscuni-ulce/validation/Results/PL011L2_BIALYSTOK_UA2018_v013.zip',\n",
       " '/data/uscuni-ulce/validation/Results/PL019L2_JELENIA_GORA_UA2018_v013.zip',\n",
       " '/data/uscuni-ulce/validation/Results/PL025L2_RADOM_UA2018_v013.zip',\n",
       " '/data/uscuni-ulce/validation/Results/PL026L2_PLOCK_UA2018_v013.zip',\n",
       " '/data/uscuni-ulce/validation/Results/PL001L2_WARSZAWA_UA2018_v013.zip',\n",
       " '/data/uscuni-ulce/validation/Results/PL040L1_PRZEMYSL_UA2018_v013.zip',\n",
       " '/data/uscuni-ulce/validation/Results/PL018L2_ZIELONA_GORA_UA2018_v013.zip',\n",
       " '/data/uscuni-ulce/validation/Results/PL035L1_INOWROCLAW_UA2018_v013.zip',\n",
       " '/data/uscuni-ulce/validation/Results/PL048L1_LESZNO_UA2018_v013.zip',\n",
       " '/data/uscuni-ulce/validation/Results/PL014L2_OLSZTYN_UA2018_v013.zip',\n",
       " '/data/uscuni-ulce/validation/Results/PL508L1_RYBNIK_UA2018_v013.zip',\n",
       " '/data/uscuni-ulce/validation/Results/PL031L1_SIEDLCE_UA2018_v013.zip',\n",
       " '/data/uscuni-ulce/validation/Results/PL015L2_RZESZOW_UA2018_v013.zip',\n",
       " '/data/uscuni-ulce/validation/Results/PL012L2_KIELCE_UA2018_v013.zip',\n",
       " '/data/uscuni-ulce/validation/Results/PL010L2_KATOWICE_UA2018_v013.zip',\n",
       " '/data/uscuni-ulce/validation/Results/PL036L1_OSTROWIEC_SWIETOKRZYSKI_UA2018_v013.zip',\n",
       " '/data/uscuni-ulce/validation/Results/PL041L1_ZAMOSC_UA2018_v013.zip',\n",
       " '/data/uscuni-ulce/validation/Results/PL006L2_GDANSK_UA2018_v013.zip',\n",
       " '/data/uscuni-ulce/validation/Results/PL028L2_KOSZALIN_UA2018_v013.zip',\n",
       " '/data/uscuni-ulce/validation/Results/PL009L2_LUBLIN_UA2018_v013.zip',\n",
       " '/data/uscuni-ulce/validation/Results/PL029L1_SLUPSK_UA2018_v013.zip',\n",
       " '/data/uscuni-ulce/validation/Results/PL038L1_STARGARD_SZCZECINSKI_UA2018_v013.zip',\n",
       " '/data/uscuni-ulce/validation/Results/PL030L1_JASTRZEBIE_ZDROJ_UA2018_v013.zip',\n",
       " '/data/uscuni-ulce/validation/Results/PL027L2_KALISZ_UA2018_v013.zip',\n",
       " '/data/uscuni-ulce/validation/Results/PL021L2_SUWALKI_UA2018_v013.zip',\n",
       " '/data/uscuni-ulce/validation/Results/PL514L2_TARNOW_UA2018_v013.zip',\n",
       " '/data/uscuni-ulce/validation/Results/PL516L2_LEGNICA_UA2018_v013.zip',\n",
       " '/data/uscuni-ulce/validation/Results/PL013L2_TORUN_UA2018_v013.zip',\n",
       " '/data/uscuni-ulce/validation/Results/PL007L2_SZCZECIN_UA2018_v013.zip',\n",
       " '/data/uscuni-ulce/validation/Results/PL034L1_PILA_UA2018_v013.zip',\n",
       " '/data/uscuni-ulce/validation/Results/PL046L1_TOMASZOW_MAZOWIECKI_UA2018_v013.zip',\n",
       " '/data/uscuni-ulce/validation/Results/PL039L1_OSTROW_WIELKOPOLSKI_UA2018_v013.zip',\n",
       " '/data/uscuni-ulce/validation/Results/PL022L2_KONIN_UA2018_v013.zip',\n",
       " '/data/uscuni-ulce/validation/Results/PL020L2_NOWY_SACZ_UA2018_v013.zip',\n",
       " '/data/uscuni-ulce/validation/Results/PL512L2_ELBLAG_UA2018_v013.zip',\n",
       " '/data/uscuni-ulce/validation/Results/PL033L1_LUBIN_UA2018_v013.zip',\n",
       " '/data/uscuni-ulce/validation/Results/PL003L2_KRAKOW_UA2018_v013.zip',\n",
       " '/data/uscuni-ulce/validation/Results/PL008L2_BYDGOSZCZ_UA2018_v013.zip',\n",
       " '/data/uscuni-ulce/validation/Results/DE505L0_CHEMNITZ_UA2018_v013.zip',\n",
       " '/data/uscuni-ulce/validation/Results/DE053L1_MARBURG_UA2018_v013.zip',\n",
       " '/data/uscuni-ulce/validation/Results/DE029L0_FRANKFURT_ODER_UA2018_v013.zip',\n",
       " '/data/uscuni-ulce/validation/Results/DE542L1_HILDESHEIM_UA2018_v013.zip',\n",
       " '/data/uscuni-ulce/validation/Results/DE044L1_KAISERSLAUTERN_UA2018_v013.zip',\n",
       " '/data/uscuni-ulce/validation/Results/DE533L1_PFORZHEIM_UA2018_v013.zip',\n",
       " '/data/uscuni-ulce/validation/Results/DE548L1_DUREN_UA2018_v013.zip',\n",
       " '/data/uscuni-ulce/validation/Results/DE056L0_BRANDENBURG_AN_DER_HAVEL_UA2018_v013.zip',\n",
       " '/data/uscuni-ulce/validation/Results/DE510L1_LUBECK_UA2018_v013.zip',\n",
       " '/data/uscuni-ulce/validation/Results/DE028L1_REGENSBURG_UA2018_v013.zip',\n",
       " '/data/uscuni-ulce/validation/Results/DE033L1_AUGSBURG_UA2018_v013.zip',\n",
       " '/data/uscuni-ulce/validation/Results/DE069L1_ROSENHEIM_UA2018_v013.zip',\n",
       " '/data/uscuni-ulce/validation/Results/DE513L1_KASSEL_UA2018_v013.zip',\n",
       " '/data/uscuni-ulce/validation/Results/DE534L1_INGOLSTADT_UA2018_v013.zip',\n",
       " '/data/uscuni-ulce/validation/Results/DE081L1_PASSAU_UA2018_v013.zip',\n",
       " '/data/uscuni-ulce/validation/Results/DE084L1_MANNHEIM_LUDWIGSHAFEN_UA2018_v013.zip',\n",
       " '/data/uscuni-ulce/validation/Results/DE059L1_BAYREUTH_UA2018_v013.zip',\n",
       " '/data/uscuni-ulce/validation/Results/DE523L1_PADERBORN_UA2018_v013.zip',\n",
       " '/data/uscuni-ulce/validation/Results/DE014L1_NURNBERG_UA2018_v013.zip',\n",
       " '/data/uscuni-ulce/validation/Results/DE018L1_HALLE_AN_DER_SAALE_UA2018_v013.zip',\n",
       " '/data/uscuni-ulce/validation/Results/DE530L0_REMSCHEID_UA2018_v013.zip',\n",
       " '/data/uscuni-ulce/validation/Results/DE054L1_KONSTANZ_UA2018_v013.zip',\n",
       " '/data/uscuni-ulce/validation/Results/DE043L2_ROSTOCK_UA2018_v013.zip',\n",
       " '/data/uscuni-ulce/validation/Results/DE524L2_WURZBURG_UA2018_v013.zip',\n",
       " '/data/uscuni-ulce/validation/Results/DE031L1_SCHWERIN_UA2018_v013.zip',\n",
       " '/data/uscuni-ulce/validation/Results/DE020L1_WIESBADEN_UA2018_v013.zip',\n",
       " '/data/uscuni-ulce/validation/Results/DE030L1_WEIMAR_UA2018_v013.zip',\n",
       " '/data/uscuni-ulce/validation/Results/DE001L1_BERLIN_UA2018_v013.zip',\n",
       " '/data/uscuni-ulce/validation/Results/DE003L1_MUNCHEN_UA2018_v013.zip',\n",
       " '/data/uscuni-ulce/validation/Results/DE066L1_KEMPTEN_ALLGAU_UA2018_v013.zip',\n",
       " '/data/uscuni-ulce/validation/Results/DE036L0_MONCHENGLADBACH_UA2018_v013.zip',\n",
       " '/data/uscuni-ulce/validation/Results/DE063L1_PLAUEN_UA2018_v013.zip',\n",
       " '/data/uscuni-ulce/validation/Results/DE007L1_STUTTGART_UA2018_v013.zip',\n",
       " '/data/uscuni-ulce/validation/Results/DE532L1_ULM_UA2018_v013.zip',\n",
       " '/data/uscuni-ulce/validation/Results/DE064L1_NEUBRANDENBURG_UA2018_v013.zip',\n",
       " '/data/uscuni-ulce/validation/Results/DE504L1_MUNSTER_UA2018_v013.zip',\n",
       " '/data/uscuni-ulce/validation/Results/DE507L1_AACHEN_UA2018_v013.zip',\n",
       " '/data/uscuni-ulce/validation/Results/DE544L1_ZWICKAU_UA2018_v013.zip',\n",
       " '/data/uscuni-ulce/validation/Results/DE517L1_OSNABRUCK_UA2018_v013.zip',\n",
       " '/data/uscuni-ulce/validation/Results/DE527L1_BREMERHAVEN_UA2018_v013.zip',\n",
       " '/data/uscuni-ulce/validation/Results/DE535L1_GERA_UA2018_v013.zip',\n",
       " '/data/uscuni-ulce/validation/Results/DE005L1_FRANKFURT_AM_MAIN_UA2018_v013.zip',\n",
       " '/data/uscuni-ulce/validation/Results/DE060L1_CELLE_UA2018_v013.zip',\n",
       " '/data/uscuni-ulce/validation/Results/DE027L1_FREIBURG_IM_BREISGAU_UA2018_v013.zip',\n",
       " '/data/uscuni-ulce/validation/Results/DE039L1_KIEL_UA2018_v013.zip',\n",
       " '/data/uscuni-ulce/validation/Results/DE019L2_MAGDEBURG_UA2018_v013.zip',\n",
       " '/data/uscuni-ulce/validation/Results/DE012L1_BREMEN_UA2018_v013.zip',\n",
       " '/data/uscuni-ulce/validation/Results/DE034L1_BONN_UA2018_v013.zip',\n",
       " '/data/uscuni-ulce/validation/Results/DE079L1_WETZLAR_UA2018_v013.zip',\n",
       " '/data/uscuni-ulce/validation/Results/DE038L1_RUHRGEBIET_UA2018_v013.zip',\n",
       " '/data/uscuni-ulce/validation/Results/DE529L1_HEILBRONN_UA2018_v013.zip',\n",
       " '/data/uscuni-ulce/validation/Results/DE037L1_MAINZ_UA2018_v013.zip',\n",
       " '/data/uscuni-ulce/validation/Results/DE062L1_BAMBERG_UA2018_v013.zip',\n",
       " '/data/uscuni-ulce/validation/Results/DE017L0_BIELEFELD_UA2018_v013.zip',\n",
       " '/data/uscuni-ulce/validation/Results/DE522L1_HEIDELBERG_UA2018_v013.zip',\n",
       " '/data/uscuni-ulce/validation/Results/DE042L1_KOBLENZ_UA2018_v013.zip',\n",
       " '/data/uscuni-ulce/validation/Results/DE051L1_VILLINGEN_SCHWENNINGEN_UA2018_v013.zip',\n",
       " '/data/uscuni-ulce/validation/Results/DE546L0_WUPPERTAL_UA2018_v013.zip',\n",
       " '/data/uscuni-ulce/validation/Results/DE050L1_TUBINGEN_UA2018_v013.zip',\n",
       " '/data/uscuni-ulce/validation/Results/DE073L1_OFFENBURG_UA2018_v013.zip',\n",
       " '/data/uscuni-ulce/validation/Results/DE537L1_REUTLINGEN_UA2018_v013.zip',\n",
       " '/data/uscuni-ulce/validation/Results/DE072L1_FRIEDRICHSHAFEN_UA2018_v013.zip',\n",
       " '/data/uscuni-ulce/validation/Results/DE009L2_DRESDEN_UA2018_v013.zip',\n",
       " '/data/uscuni-ulce/validation/Results/DE055L0_NEUMUNSTER_UA2018_v013.zip',\n",
       " '/data/uscuni-ulce/validation/Results/DE013L1_HANNOVER_UA2018_v013.zip',\n",
       " '/data/uscuni-ulce/validation/Results/DE520L1_OLDENBURG_OLDENBURG_UA2018_v013.zip',\n",
       " '/data/uscuni-ulce/validation/Results/DE540L2_SIEGEN_UA2018_v013.zip',\n",
       " '/data/uscuni-ulce/validation/Results/DE026L1_TRIER_UA2018_v013.zip',\n",
       " '/data/uscuni-ulce/validation/Results/DE040L1_SAARBRUCKEN_UA2018_v013.zip',\n",
       " '/data/uscuni-ulce/validation/Results/DE004L1_KOLN_UA2018_v013.zip',\n",
       " '/data/uscuni-ulce/validation/Results/DE011L1_DUSSELDORF_UA2018_v013.zip',\n",
       " '/data/uscuni-ulce/validation/Results/DE061L1_ASCHAFFENBURG_UA2018_v013.zip',\n",
       " '/data/uscuni-ulce/validation/Results/DE002L1_HAMBURG_UA2018_v013.zip',\n",
       " '/data/uscuni-ulce/validation/Results/DE082L0_DESSAU_ROSSLAU_UA2018_v013.zip',\n",
       " '/data/uscuni-ulce/validation/Results/DE032L1_ERFURT_UA2018_v013.zip',\n",
       " '/data/uscuni-ulce/validation/Results/DE539L1_COTTBUS_UA2018_v013.zip',\n",
       " '/data/uscuni-ulce/validation/Results/DE045L1_ISERLOHN_UA2018_v013.zip',\n",
       " '/data/uscuni-ulce/validation/Results/DE057L1_GIESSEN_UA2018_v013.zip',\n",
       " '/data/uscuni-ulce/validation/Results/DE547L2_JENA_UA2018_v013.zip',\n",
       " '/data/uscuni-ulce/validation/Results/DE083L1_BRAUNSCHWEIG_SALZGITTER_WOLFSBURG_UA2018_v013.zip',\n",
       " '/data/uscuni-ulce/validation/Results/DE074L1_GORLITZ_UA2018_v013.zip',\n",
       " '/data/uscuni-ulce/validation/Results/DE021L1_GOTTINGEN_UA2018_v013.zip',\n",
       " '/data/uscuni-ulce/validation/Results/DE549L1_BOCHOLT_UA2018_v013.zip',\n",
       " '/data/uscuni-ulce/validation/Results/DE508L0_KREFELD_UA2018_v013.zip',\n",
       " '/data/uscuni-ulce/validation/Results/DE071L1_STRALSUND_UA2018_v013.zip',\n",
       " '/data/uscuni-ulce/validation/Results/DE067L1_LANDSHUT_UA2018_v013.zip',\n",
       " '/data/uscuni-ulce/validation/Results/DE077L1_SCHWEINFURT_UA2018_v013.zip',\n",
       " '/data/uscuni-ulce/validation/Results/DE058L1_LUNEBURG_UA2018_v013.zip',\n",
       " '/data/uscuni-ulce/validation/Results/DE048L1_WILHELMSHAVEN_UA2018_v013.zip',\n",
       " '/data/uscuni-ulce/validation/Results/DE516L0_SOLINGEN_UA2018_v013.zip',\n",
       " '/data/uscuni-ulce/validation/Results/DE052L1_FLENSBURG_UA2018_v013.zip',\n",
       " '/data/uscuni-ulce/validation/Results/DE078L1_GREIFSWALD_UA2018_v013.zip',\n",
       " '/data/uscuni-ulce/validation/Results/DE025L1_DARMSTADT_UA2018_v013.zip',\n",
       " '/data/uscuni-ulce/validation/Results/DE065L1_FULDA_UA2018_v013.zip',\n",
       " '/data/uscuni-ulce/validation/Results/DE008L2_LEIPZIG_UA2018_v013.zip',\n",
       " '/data/uscuni-ulce/validation/Results/DE035L1_KARLSRUHE_UA2018_v013.zip',\n",
       " '/data/uscuni-ulce/validation/Results/LT001L1_VILNIUS_UA2018_v013.zip',\n",
       " '/data/uscuni-ulce/validation/Results/LT501L0_KLAIPEDA_UA2018_v013.zip',\n",
       " '/data/uscuni-ulce/validation/Results/LT004L0_ALYTUS_UA2018_v013.zip',\n",
       " '/data/uscuni-ulce/validation/Results/LT002L1_KAUNAS_UA2018_v013.zip',\n",
       " '/data/uscuni-ulce/validation/Results/LT003L1_PANEVEZYS_UA2018_v013.zip',\n",
       " '/data/uscuni-ulce/validation/Results/LT502L0_SIAULIAI_UA2018_v013.zip']"
      ]
     },
     "execution_count": 5,
     "metadata": {},
     "output_type": "execute_result"
    }
   ],
   "source": [
    "from glob import glob\n",
    "\n",
    "furl = \"/data/uscuni-ulce/validation/Results/\"\n",
    "files = (\n",
    "    glob(furl + \"AT*\")\n",
    "    + glob(furl + \"CZ*\")\n",
    "    + glob(furl + \"SK*\")\n",
    "    + glob(furl + \"PL*\")\n",
    "    + glob(furl + \"DE*\")\n",
    "    + glob(furl + \"LT*\")\n",
    ")\n",
    "files"
   ]
  },
  {
   "cell_type": "code",
   "execution_count": 6,
   "id": "f36377f6-db65-4a4a-9646-ac4e22498da2",
   "metadata": {},
   "outputs": [
    {
     "name": "stdout",
     "output_type": "stream",
     "text": [
      "CPU times: user 41.6 s, sys: 1.38 s, total: 42.9 s\n",
      "Wall time: 43.2 s\n"
     ]
    }
   ],
   "source": [
    "%%time\n",
    "\n",
    "# read the boundaries of the available functinal areas\n",
    "\n",
    "urban_atlast_regions = []\n",
    "\n",
    "for f in files:\n",
    "    zipname = f.split(\"/\")[-1][:-4]\n",
    "    gpkg_path = f + \"!\" + zipname + \"/Data/\" + zipname + \".gpkg\"\n",
    "\n",
    "    data = gpd.read_file(gpkg_path, layer=zipname[:-5] + \"_Boundary\")\n",
    "    data[\"filepath\"] = gpkg_path\n",
    "    urban_atlast_regions.append(data)\n",
    "\n",
    "urban_atlast_regions = pd.concat(urban_atlast_regions, ignore_index=True)"
   ]
  },
  {
   "cell_type": "code",
   "execution_count": null,
   "id": "70839d4a-afb7-4fcc-a894-c0d7a51ddd4f",
   "metadata": {
    "scrolled": true
   },
   "outputs": [
    {
     "name": "stdout",
     "output_type": "stream",
     "text": [
      "Linz\n"
     ]
    },
    {
     "name": "stderr",
     "output_type": "stream",
     "text": [
      "/home/krasen/urban_taxonomy/.pixi/envs/default/lib/python3.12/site-packages/pyogrio/geopandas.py:265: UserWarning: More than one layer found in 'AT003L3_LINZ_UA2018_v013.gpkg': 'AT003L3_LINZ_UA2018' (default), 'AT003L3_LINZ_UA2018_Boundary', 'AT003L3_LINZ_UA2018_UrbanCore'. Specify layer parameter to avoid this warning.\n",
      "  result = read_func(\n"
     ]
    },
    {
     "name": "stdout",
     "output_type": "stream",
     "text": [
      "Innsbruck\n"
     ]
    },
    {
     "name": "stderr",
     "output_type": "stream",
     "text": [
      "/home/krasen/urban_taxonomy/.pixi/envs/default/lib/python3.12/site-packages/pyogrio/geopandas.py:265: UserWarning: More than one layer found in 'AT005L3_INNSBRUCK_UA2018_v013.gpkg': 'AT005L3_INNSBRUCK_UA2018' (default), 'AT005L3_INNSBRUCK_UA2018_Boundary', 'AT005L3_INNSBRUCK_UA2018_UrbanCore'. Specify layer parameter to avoid this warning.\n",
      "  result = read_func(\n"
     ]
    },
    {
     "name": "stdout",
     "output_type": "stream",
     "text": [
      "Salzburg\n"
     ]
    },
    {
     "name": "stderr",
     "output_type": "stream",
     "text": [
      "/home/krasen/urban_taxonomy/.pixi/envs/default/lib/python3.12/site-packages/pyogrio/geopandas.py:265: UserWarning: More than one layer found in 'AT004L3_SALZBURG_UA2018_v013.gpkg': 'AT004L3_SALZBURG_UA2018' (default), 'AT004L3_SALZBURG_UA2018_Boundary', 'AT004L3_SALZBURG_UA2018_UrbanCore'. Specify layer parameter to avoid this warning.\n",
      "  result = read_func(\n"
     ]
    },
    {
     "name": "stdout",
     "output_type": "stream",
     "text": [
      "Wien\n"
     ]
    },
    {
     "name": "stderr",
     "output_type": "stream",
     "text": [
      "/home/krasen/urban_taxonomy/.pixi/envs/default/lib/python3.12/site-packages/pyogrio/geopandas.py:265: UserWarning: More than one layer found in 'AT001L3_WIEN_UA2018_v013.gpkg': 'AT001L3_WIEN_UA2018' (default), 'AT001L3_WIEN_UA2018_Boundary', 'AT001L3_WIEN_UA2018_UrbanCore'. Specify layer parameter to avoid this warning.\n",
      "  result = read_func(\n"
     ]
    },
    {
     "name": "stdout",
     "output_type": "stream",
     "text": [
      "Graz\n"
     ]
    },
    {
     "name": "stderr",
     "output_type": "stream",
     "text": [
      "/home/krasen/urban_taxonomy/.pixi/envs/default/lib/python3.12/site-packages/pyogrio/geopandas.py:265: UserWarning: More than one layer found in 'AT002L3_GRAZ_UA2018_v013.gpkg': 'AT002L3_GRAZ_UA2018' (default), 'AT002L3_GRAZ_UA2018_Boundary', 'AT002L3_GRAZ_UA2018_UrbanCore'. Specify layer parameter to avoid this warning.\n",
      "  result = read_func(\n"
     ]
    },
    {
     "name": "stdout",
     "output_type": "stream",
     "text": [
      "Klagenfurt\n"
     ]
    },
    {
     "name": "stderr",
     "output_type": "stream",
     "text": [
      "/home/krasen/urban_taxonomy/.pixi/envs/default/lib/python3.12/site-packages/pyogrio/geopandas.py:265: UserWarning: More than one layer found in 'AT006L2_KLAGENFURT_UA2018_v013.gpkg': 'AT006L2_KLAGENFURT_UA2018' (default), 'AT006L2_KLAGENFURT_UA2018_Boundary', 'AT006L2_KLAGENFURT_UA2018_UrbanCore'. Specify layer parameter to avoid this warning.\n",
      "  result = read_func(\n"
     ]
    },
    {
     "name": "stdout",
     "output_type": "stream",
     "text": [
      "Plzeň\n"
     ]
    },
    {
     "name": "stderr",
     "output_type": "stream",
     "text": [
      "/home/krasen/urban_taxonomy/.pixi/envs/default/lib/python3.12/site-packages/pyogrio/geopandas.py:265: UserWarning: More than one layer found in 'CZ004L2_PLZEN_UA2018_v013.gpkg': 'CZ004L2_PLZEN_UA2018' (default), 'CZ004L2_PLZEN_UA2018_Boundary', 'CZ004L2_PLZEN_UA2018_UrbanCore'. Specify layer parameter to avoid this warning.\n",
      "  result = read_func(\n"
     ]
    },
    {
     "name": "stdout",
     "output_type": "stream",
     "text": [
      "Praha\n"
     ]
    },
    {
     "name": "stderr",
     "output_type": "stream",
     "text": [
      "/home/krasen/urban_taxonomy/.pixi/envs/default/lib/python3.12/site-packages/pyogrio/geopandas.py:265: UserWarning: More than one layer found in 'CZ001L2_PRAHA_UA2018_v013.gpkg': 'CZ001L2_PRAHA_UA2018' (default), 'CZ001L2_PRAHA_UA2018_Boundary', 'CZ001L2_PRAHA_UA2018_UrbanCore'. Specify layer parameter to avoid this warning.\n",
      "  result = read_func(\n"
     ]
    },
    {
     "name": "stdout",
     "output_type": "stream",
     "text": [
      "Zlín\n"
     ]
    },
    {
     "name": "stderr",
     "output_type": "stream",
     "text": [
      "/home/krasen/urban_taxonomy/.pixi/envs/default/lib/python3.12/site-packages/pyogrio/geopandas.py:265: UserWarning: More than one layer found in 'CZ011L2_ZLIN_UA2018_v013.gpkg': 'CZ011L2_ZLIN_UA2018' (default), 'CZ011L2_ZLIN_UA2018_Boundary', 'CZ011L2_ZLIN_UA2018_UrbanCore'. Specify layer parameter to avoid this warning.\n",
      "  result = read_func(\n"
     ]
    },
    {
     "name": "stdout",
     "output_type": "stream",
     "text": [
      "Jihlava\n"
     ]
    },
    {
     "name": "stderr",
     "output_type": "stream",
     "text": [
      "/home/krasen/urban_taxonomy/.pixi/envs/default/lib/python3.12/site-packages/pyogrio/geopandas.py:265: UserWarning: More than one layer found in 'CZ014L2_JIHLAVA_UA2018_v013.gpkg': 'CZ014L2_JIHLAVA_UA2018' (default), 'CZ014L2_JIHLAVA_UA2018_Boundary', 'CZ014L2_JIHLAVA_UA2018_UrbanCore'. Specify layer parameter to avoid this warning.\n",
      "  result = read_func(\n"
     ]
    },
    {
     "name": "stdout",
     "output_type": "stream",
     "text": [
      "Karlovy Vary\n"
     ]
    },
    {
     "name": "stderr",
     "output_type": "stream",
     "text": [
      "/home/krasen/urban_taxonomy/.pixi/envs/default/lib/python3.12/site-packages/pyogrio/geopandas.py:265: UserWarning: More than one layer found in 'CZ013L2_KARLOVY_VARY_UA2018_v013.gpkg': 'CZ013L2_KARLOVY_VARY_UA2018' (default), 'CZ013L2_KARLOVY_VARY_UA2018_Boundary', 'CZ013L2_KARLOVY_VARY_UA2018_UrbanCore'. Specify layer parameter to avoid this warning.\n",
      "  result = read_func(\n"
     ]
    },
    {
     "name": "stdout",
     "output_type": "stream",
     "text": [
      "Most\n"
     ]
    },
    {
     "name": "stderr",
     "output_type": "stream",
     "text": [
      "/home/krasen/urban_taxonomy/.pixi/envs/default/lib/python3.12/site-packages/pyogrio/geopandas.py:265: UserWarning: More than one layer found in 'CZ016L2_MOST_UA2018_v013.gpkg': 'CZ016L2_MOST_UA2018' (default), 'CZ016L2_MOST_UA2018_Boundary', 'CZ016L2_MOST_UA2018_UrbanCore'. Specify layer parameter to avoid this warning.\n",
      "  result = read_func(\n"
     ]
    },
    {
     "name": "stdout",
     "output_type": "stream",
     "text": [
      "Ostrava\n"
     ]
    },
    {
     "name": "stderr",
     "output_type": "stream",
     "text": [
      "/home/krasen/urban_taxonomy/.pixi/envs/default/lib/python3.12/site-packages/pyogrio/geopandas.py:265: UserWarning: More than one layer found in 'CZ003L2_OSTRAVA_UA2018_v013.gpkg': 'CZ003L2_OSTRAVA_UA2018' (default), 'CZ003L2_OSTRAVA_UA2018_Boundary', 'CZ003L2_OSTRAVA_UA2018_UrbanCore'. Specify layer parameter to avoid this warning.\n",
      "  result = read_func(\n"
     ]
    },
    {
     "name": "stdout",
     "output_type": "stream",
     "text": [
      "Hradec Králové\n"
     ]
    },
    {
     "name": "stderr",
     "output_type": "stream",
     "text": [
      "/home/krasen/urban_taxonomy/.pixi/envs/default/lib/python3.12/site-packages/pyogrio/geopandas.py:265: UserWarning: More than one layer found in 'CZ009L2_HRADEC_KRALOVE_UA2018_v013.gpkg': 'CZ009L2_HRADEC_KRALOVE_UA2018' (default), 'CZ009L2_HRADEC_KRALOVE_UA2018_Boundary', 'CZ009L2_HRADEC_KRALOVE_UA2018_UrbanCore'. Specify layer parameter to avoid this warning.\n",
      "  result = read_func(\n"
     ]
    },
    {
     "name": "stdout",
     "output_type": "stream",
     "text": [
      "České Budějovice\n"
     ]
    },
    {
     "name": "stderr",
     "output_type": "stream",
     "text": [
      "/home/krasen/urban_taxonomy/.pixi/envs/default/lib/python3.12/site-packages/pyogrio/geopandas.py:265: UserWarning: More than one layer found in 'CZ008L2_CESKE_BUDEJOVICE_UA2018_v013.gpkg': 'CZ008L2_CESKE_BUDEJOVICE_UA2018' (default), 'CZ008L2_CESKE_BUDEJOVICE_UA2018_Boundary', 'CZ008L2_CESKE_BUDEJOVICE_UA2018_UrbanCore'. Specify layer parameter to avoid this warning.\n",
      "  result = read_func(\n"
     ]
    },
    {
     "name": "stdout",
     "output_type": "stream",
     "text": [
      "Brno\n"
     ]
    },
    {
     "name": "stderr",
     "output_type": "stream",
     "text": [
      "/home/krasen/urban_taxonomy/.pixi/envs/default/lib/python3.12/site-packages/pyogrio/geopandas.py:265: UserWarning: More than one layer found in 'CZ002L2_BRNO_UA2018_v013.gpkg': 'CZ002L2_BRNO_UA2018' (default), 'CZ002L2_BRNO_UA2018_Boundary', 'CZ002L2_BRNO_UA2018_UrbanCore'. Specify layer parameter to avoid this warning.\n",
      "  result = read_func(\n"
     ]
    },
    {
     "name": "stdout",
     "output_type": "stream",
     "text": [
      "Liberec\n"
     ]
    },
    {
     "name": "stderr",
     "output_type": "stream",
     "text": [
      "/home/krasen/urban_taxonomy/.pixi/envs/default/lib/python3.12/site-packages/pyogrio/geopandas.py:265: UserWarning: More than one layer found in 'CZ007L2_LIBEREC_UA2018_v013.gpkg': 'CZ007L2_LIBEREC_UA2018' (default), 'CZ007L2_LIBEREC_UA2018_Boundary', 'CZ007L2_LIBEREC_UA2018_UrbanCore'. Specify layer parameter to avoid this warning.\n",
      "  result = read_func(\n"
     ]
    },
    {
     "name": "stdout",
     "output_type": "stream",
     "text": [
      "Ústí nad Labem\n"
     ]
    },
    {
     "name": "stderr",
     "output_type": "stream",
     "text": [
      "/home/krasen/urban_taxonomy/.pixi/envs/default/lib/python3.12/site-packages/pyogrio/geopandas.py:265: UserWarning: More than one layer found in 'CZ005L2_USTI_NAD_LABEM_UA2018_v013.gpkg': 'CZ005L2_USTI_NAD_LABEM_UA2018' (default), 'CZ005L2_USTI_NAD_LABEM_UA2018_Boundary', 'CZ005L2_USTI_NAD_LABEM_UA2018_UrbanCore'. Specify layer parameter to avoid this warning.\n",
      "  result = read_func(\n"
     ]
    },
    {
     "name": "stdout",
     "output_type": "stream",
     "text": [
      "Pardubice\n"
     ]
    },
    {
     "name": "stderr",
     "output_type": "stream",
     "text": [
      "/home/krasen/urban_taxonomy/.pixi/envs/default/lib/python3.12/site-packages/pyogrio/geopandas.py:265: UserWarning: More than one layer found in 'CZ010L2_PARDUBICE_UA2018_v013.gpkg': 'CZ010L2_PARDUBICE_UA2018' (default), 'CZ010L2_PARDUBICE_UA2018_Boundary', 'CZ010L2_PARDUBICE_UA2018_UrbanCore'. Specify layer parameter to avoid this warning.\n",
      "  result = read_func(\n"
     ]
    },
    {
     "name": "stdout",
     "output_type": "stream",
     "text": [
      "Olomouc\n"
     ]
    },
    {
     "name": "stderr",
     "output_type": "stream",
     "text": [
      "/home/krasen/urban_taxonomy/.pixi/envs/default/lib/python3.12/site-packages/pyogrio/geopandas.py:265: UserWarning: More than one layer found in 'CZ006L2_OLOMOUC_UA2018_v013.gpkg': 'CZ006L2_OLOMOUC_UA2018' (default), 'CZ006L2_OLOMOUC_UA2018_Boundary', 'CZ006L2_OLOMOUC_UA2018_UrbanCore'. Specify layer parameter to avoid this warning.\n",
      "  result = read_func(\n"
     ]
    },
    {
     "name": "stdout",
     "output_type": "stream",
     "text": [
      "Chomutov-Jirkov\n"
     ]
    },
    {
     "name": "stderr",
     "output_type": "stream",
     "text": [
      "/home/krasen/urban_taxonomy/.pixi/envs/default/lib/python3.12/site-packages/pyogrio/geopandas.py:265: UserWarning: More than one layer found in 'CZ018L2_CHOMUTOV_JIRKOV_UA2018_v013.gpkg': 'CZ018L2_CHOMUTOV_JIRKOV_UA2018' (default), 'CZ018L2_CHOMUTOV_JIRKOV_UA2018_Boundary', 'CZ018L2_CHOMUTOV_JIRKOV_UA2018_UrbanCore'. Specify layer parameter to avoid this warning.\n",
      "  result = read_func(\n"
     ]
    },
    {
     "name": "stdout",
     "output_type": "stream",
     "text": [
      "Prešov\n"
     ]
    },
    {
     "name": "stderr",
     "output_type": "stream",
     "text": [
      "/home/krasen/urban_taxonomy/.pixi/envs/default/lib/python3.12/site-packages/pyogrio/geopandas.py:265: UserWarning: More than one layer found in 'SK005L1_PRESOV_UA2018_v013.gpkg': 'SK005L1_PRESOV_UA2018' (default), 'SK005L1_PRESOV_UA2018_Boundary', 'SK005L1_PRESOV_UA2018_UrbanCore'. Specify layer parameter to avoid this warning.\n",
      "  result = read_func(\n"
     ]
    },
    {
     "name": "stdout",
     "output_type": "stream",
     "text": [
      "Nitra\n"
     ]
    },
    {
     "name": "stderr",
     "output_type": "stream",
     "text": [
      "/home/krasen/urban_taxonomy/.pixi/envs/default/lib/python3.12/site-packages/pyogrio/geopandas.py:265: UserWarning: More than one layer found in 'SK004L1_NITRA_UA2018_v013.gpkg': 'SK004L1_NITRA_UA2018' (default), 'SK004L1_NITRA_UA2018_Boundary', 'SK004L1_NITRA_UA2018_UrbanCore'. Specify layer parameter to avoid this warning.\n",
      "  result = read_func(\n"
     ]
    },
    {
     "name": "stdout",
     "output_type": "stream",
     "text": [
      "Trenčín\n"
     ]
    },
    {
     "name": "stderr",
     "output_type": "stream",
     "text": [
      "/home/krasen/urban_taxonomy/.pixi/envs/default/lib/python3.12/site-packages/pyogrio/geopandas.py:265: UserWarning: More than one layer found in 'SK008L1_TRENCIN_UA2018_v013.gpkg': 'SK008L1_TRENCIN_UA2018' (default), 'SK008L1_TRENCIN_UA2018_Boundary', 'SK008L1_TRENCIN_UA2018_UrbanCore'. Specify layer parameter to avoid this warning.\n",
      "  result = read_func(\n"
     ]
    },
    {
     "name": "stdout",
     "output_type": "stream",
     "text": [
      "Trnava\n"
     ]
    },
    {
     "name": "stderr",
     "output_type": "stream",
     "text": [
      "/home/krasen/urban_taxonomy/.pixi/envs/default/lib/python3.12/site-packages/pyogrio/geopandas.py:265: UserWarning: More than one layer found in 'SK007L1_TRNAVA_UA2018_v013.gpkg': 'SK007L1_TRNAVA_UA2018' (default), 'SK007L1_TRNAVA_UA2018_Boundary', 'SK007L1_TRNAVA_UA2018_UrbanCore'. Specify layer parameter to avoid this warning.\n",
      "  result = read_func(\n"
     ]
    },
    {
     "name": "stdout",
     "output_type": "stream",
     "text": [
      "Banská Bystrica\n"
     ]
    },
    {
     "name": "stderr",
     "output_type": "stream",
     "text": [
      "/home/krasen/urban_taxonomy/.pixi/envs/default/lib/python3.12/site-packages/pyogrio/geopandas.py:265: UserWarning: More than one layer found in 'SK003L1_BANSKA_BYSTRICA_UA2018_v013.gpkg': 'SK003L1_BANSKA_BYSTRICA_UA2018' (default), 'SK003L1_BANSKA_BYSTRICA_UA2018_Boundary', 'SK003L1_BANSKA_BYSTRICA_UA2018_UrbanCore'. Specify layer parameter to avoid this warning.\n",
      "  result = read_func(\n"
     ]
    },
    {
     "name": "stdout",
     "output_type": "stream",
     "text": [
      "Bratislava\n"
     ]
    },
    {
     "name": "stderr",
     "output_type": "stream",
     "text": [
      "/home/krasen/urban_taxonomy/.pixi/envs/default/lib/python3.12/site-packages/pyogrio/geopandas.py:265: UserWarning: More than one layer found in 'SK001L1_BRATISLAVA_UA2018_v013.gpkg': 'SK001L1_BRATISLAVA_UA2018' (default), 'SK001L1_BRATISLAVA_UA2018_Boundary', 'SK001L1_BRATISLAVA_UA2018_UrbanCore'. Specify layer parameter to avoid this warning.\n",
      "  result = read_func(\n"
     ]
    },
    {
     "name": "stdout",
     "output_type": "stream",
     "text": [
      "Košice\n"
     ]
    },
    {
     "name": "stderr",
     "output_type": "stream",
     "text": [
      "/home/krasen/urban_taxonomy/.pixi/envs/default/lib/python3.12/site-packages/pyogrio/geopandas.py:265: UserWarning: More than one layer found in 'SK002L1_KOSICE_UA2018_v013.gpkg': 'SK002L1_KOSICE_UA2018' (default), 'SK002L1_KOSICE_UA2018_Boundary', 'SK002L1_KOSICE_UA2018_UrbanCore'. Specify layer parameter to avoid this warning.\n",
      "  result = read_func(\n"
     ]
    },
    {
     "name": "stdout",
     "output_type": "stream",
     "text": [
      "Žilina\n"
     ]
    },
    {
     "name": "stderr",
     "output_type": "stream",
     "text": [
      "/home/krasen/urban_taxonomy/.pixi/envs/default/lib/python3.12/site-packages/pyogrio/geopandas.py:265: UserWarning: More than one layer found in 'SK006L1_ZILINA_UA2018_v013.gpkg': 'SK006L1_ZILINA_UA2018' (default), 'SK006L1_ZILINA_UA2018_Boundary', 'SK006L1_ZILINA_UA2018_UrbanCore'. Specify layer parameter to avoid this warning.\n",
      "  result = read_func(\n"
     ]
    },
    {
     "name": "stdout",
     "output_type": "stream",
     "text": [
      "Wałbrzych\n"
     ]
    },
    {
     "name": "stderr",
     "output_type": "stream",
     "text": [
      "/home/krasen/urban_taxonomy/.pixi/envs/default/lib/python3.12/site-packages/pyogrio/geopandas.py:265: UserWarning: More than one layer found in 'PL511L2_WALBRZYCH_UA2018_v013.gpkg': 'PL511L2_WALBRZYCH_UA2018' (default), 'PL511L2_WALBRZYCH_UA2018_Boundary', 'PL511L2_WALBRZYCH_UA2018_UrbanCore'. Specify layer parameter to avoid this warning.\n",
      "  result = read_func(\n"
     ]
    },
    {
     "name": "stdout",
     "output_type": "stream",
     "text": [
      "Piotrków Trybunalski\n"
     ]
    },
    {
     "name": "stderr",
     "output_type": "stream",
     "text": [
      "/home/krasen/urban_taxonomy/.pixi/envs/default/lib/python3.12/site-packages/pyogrio/geopandas.py:265: UserWarning: More than one layer found in 'PL032L1_PIOTRKOW_TRYBUNALSKI_UA2018_v013.gpkg': 'PL032L1_PIOTRKOW_TRYBUNALSKI_UA2018' (default), 'PL032L1_PIOTRKOW_TRYBUNALSKI_UA2018_Boundary', 'PL032L1_PIOTRKOW_TRYBUNALSKI_UA2018_UrbanCore'. Specify layer parameter to avoid this warning.\n",
      "  result = read_func(\n"
     ]
    },
    {
     "name": "stdout",
     "output_type": "stream",
     "text": [
      "Chełm\n"
     ]
    },
    {
     "name": "stderr",
     "output_type": "stream",
     "text": [
      "/home/krasen/urban_taxonomy/.pixi/envs/default/lib/python3.12/site-packages/pyogrio/geopandas.py:265: UserWarning: More than one layer found in 'PL042L1_CHELM_UA2018_v013.gpkg': 'PL042L1_CHELM_UA2018' (default), 'PL042L1_CHELM_UA2018_Boundary', 'PL042L1_CHELM_UA2018_UrbanCore'. Specify layer parameter to avoid this warning.\n",
      "  result = read_func(\n"
     ]
    },
    {
     "name": "stdout",
     "output_type": "stream",
     "text": [
      "Tczew\n"
     ]
    },
    {
     "name": "stderr",
     "output_type": "stream",
     "text": [
      "/home/krasen/urban_taxonomy/.pixi/envs/default/lib/python3.12/site-packages/pyogrio/geopandas.py:265: UserWarning: More than one layer found in 'PL051L1_TCZEW_UA2018_v013.gpkg': 'PL051L1_TCZEW_UA2018' (default), 'PL051L1_TCZEW_UA2018_Boundary', 'PL051L1_TCZEW_UA2018_UrbanCore'. Specify layer parameter to avoid this warning.\n",
      "  result = read_func(\n"
     ]
    },
    {
     "name": "stdout",
     "output_type": "stream",
     "text": [
      "Gniezno\n"
     ]
    },
    {
     "name": "stderr",
     "output_type": "stream",
     "text": [
      "/home/krasen/urban_taxonomy/.pixi/envs/default/lib/python3.12/site-packages/pyogrio/geopandas.py:265: UserWarning: More than one layer found in 'PL037L1_GNIEZNO_UA2018_v013.gpkg': 'PL037L1_GNIEZNO_UA2018' (default), 'PL037L1_GNIEZNO_UA2018_Boundary', 'PL037L1_GNIEZNO_UA2018_UrbanCore'. Specify layer parameter to avoid this warning.\n",
      "  result = read_func(\n"
     ]
    },
    {
     "name": "stdout",
     "output_type": "stream",
     "text": [
      "Gorzów Wielkopolski\n"
     ]
    },
    {
     "name": "stderr",
     "output_type": "stream",
     "text": [
      "/home/krasen/urban_taxonomy/.pixi/envs/default/lib/python3.12/site-packages/pyogrio/geopandas.py:265: UserWarning: More than one layer found in 'PL017L2_GORZOW_WIELKOPOLSKI_UA2018_v013.gpkg': 'PL017L2_GORZOW_WIELKOPOLSKI_UA2018' (default), 'PL017L2_GORZOW_WIELKOPOLSKI_UA2018_Boundary', 'PL017L2_GORZOW_WIELKOPOLSKI_UA2018_UrbanCore'. Specify layer parameter to avoid this warning.\n",
      "  result = read_func(\n"
     ]
    },
    {
     "name": "stdout",
     "output_type": "stream",
     "text": [
      "Łódź\n"
     ]
    },
    {
     "name": "stderr",
     "output_type": "stream",
     "text": [
      "/home/krasen/urban_taxonomy/.pixi/envs/default/lib/python3.12/site-packages/pyogrio/geopandas.py:265: UserWarning: More than one layer found in 'PL002L2_LODZ_UA2018_v013.gpkg': 'PL002L2_LODZ_UA2018' (default), 'PL002L2_LODZ_UA2018_Boundary', 'PL002L2_LODZ_UA2018_UrbanCore'. Specify layer parameter to avoid this warning.\n",
      "  result = read_func(\n"
     ]
    },
    {
     "name": "stdout",
     "output_type": "stream",
     "text": [
      "Ełk\n"
     ]
    },
    {
     "name": "stderr",
     "output_type": "stream",
     "text": [
      "/home/krasen/urban_taxonomy/.pixi/envs/default/lib/python3.12/site-packages/pyogrio/geopandas.py:265: UserWarning: More than one layer found in 'PL052L1_ELK_UA2018_v013.gpkg': 'PL052L1_ELK_UA2018' (default), 'PL052L1_ELK_UA2018_Boundary', 'PL052L1_ELK_UA2018_UrbanCore'. Specify layer parameter to avoid this warning.\n",
      "  result = read_func(\n"
     ]
    },
    {
     "name": "stdout",
     "output_type": "stream",
     "text": [
      "Pabianice\n"
     ]
    },
    {
     "name": "stderr",
     "output_type": "stream",
     "text": [
      "/home/krasen/urban_taxonomy/.pixi/envs/default/lib/python3.12/site-packages/pyogrio/geopandas.py:265: UserWarning: More than one layer found in 'PL043L1_PABIANICE_UA2018_v013.gpkg': 'PL043L1_PABIANICE_UA2018' (default), 'PL043L1_PABIANICE_UA2018_Boundary', 'PL043L1_PABIANICE_UA2018_UrbanCore'. Specify layer parameter to avoid this warning.\n",
      "  result = read_func(\n"
     ]
    },
    {
     "name": "stdout",
     "output_type": "stream",
     "text": [
      "Poznań\n"
     ]
    },
    {
     "name": "stderr",
     "output_type": "stream",
     "text": [
      "/home/krasen/urban_taxonomy/.pixi/envs/default/lib/python3.12/site-packages/pyogrio/geopandas.py:265: UserWarning: More than one layer found in 'PL005L2_POZNAN_UA2018_v013.gpkg': 'PL005L2_POZNAN_UA2018' (default), 'PL005L2_POZNAN_UA2018_Boundary', 'PL005L2_POZNAN_UA2018_UrbanCore'. Specify layer parameter to avoid this warning.\n",
      "  result = read_func(\n"
     ]
    },
    {
     "name": "stdout",
     "output_type": "stream",
     "text": [
      "Wrocław\n"
     ]
    },
    {
     "name": "stderr",
     "output_type": "stream",
     "text": [
      "/home/krasen/urban_taxonomy/.pixi/envs/default/lib/python3.12/site-packages/pyogrio/geopandas.py:265: UserWarning: More than one layer found in 'PL004L2_WROCLAW_UA2018_v013.gpkg': 'PL004L2_WROCLAW_UA2018' (default), 'PL004L2_WROCLAW_UA2018_Boundary', 'PL004L2_WROCLAW_UA2018_UrbanCore'. Specify layer parameter to avoid this warning.\n",
      "  result = read_func(\n"
     ]
    },
    {
     "name": "stdout",
     "output_type": "stream",
     "text": [
      "Częstochowa\n"
     ]
    },
    {
     "name": "stderr",
     "output_type": "stream",
     "text": [
      "/home/krasen/urban_taxonomy/.pixi/envs/default/lib/python3.12/site-packages/pyogrio/geopandas.py:265: UserWarning: More than one layer found in 'PL024L2_CZESTOCHOWA_UA2018_v013.gpkg': 'PL024L2_CZESTOCHOWA_UA2018' (default), 'PL024L2_CZESTOCHOWA_UA2018_Boundary', 'PL024L2_CZESTOCHOWA_UA2018_UrbanCore'. Specify layer parameter to avoid this warning.\n",
      "  result = read_func(\n"
     ]
    },
    {
     "name": "stdout",
     "output_type": "stream",
     "text": [
      "Bielsko-Biała\n"
     ]
    },
    {
     "name": "stderr",
     "output_type": "stream",
     "text": [
      "/home/krasen/urban_taxonomy/.pixi/envs/default/lib/python3.12/site-packages/pyogrio/geopandas.py:265: UserWarning: More than one layer found in 'PL506L2_BIELSKO_BIALA_UA2018_v013.gpkg': 'PL506L2_BIELSKO_BIALA_UA2018' (default), 'PL506L2_BIELSKO_BIALA_UA2018_Boundary', 'PL506L2_BIELSKO_BIALA_UA2018_UrbanCore'. Specify layer parameter to avoid this warning.\n",
      "  result = read_func(\n"
     ]
    },
    {
     "name": "stdout",
     "output_type": "stream",
     "text": [
      "Opole\n"
     ]
    },
    {
     "name": "stderr",
     "output_type": "stream",
     "text": [
      "/home/krasen/urban_taxonomy/.pixi/envs/default/lib/python3.12/site-packages/pyogrio/geopandas.py:265: UserWarning: More than one layer found in 'PL016L2_OPOLE_UA2018_v013.gpkg': 'PL016L2_OPOLE_UA2018' (default), 'PL016L2_OPOLE_UA2018_Boundary', 'PL016L2_OPOLE_UA2018_UrbanCore'. Specify layer parameter to avoid this warning.\n",
      "  result = read_func(\n"
     ]
    },
    {
     "name": "stdout",
     "output_type": "stream",
     "text": [
      "Świdnica\n"
     ]
    },
    {
     "name": "stderr",
     "output_type": "stream",
     "text": [
      "/home/krasen/urban_taxonomy/.pixi/envs/default/lib/python3.12/site-packages/pyogrio/geopandas.py:265: UserWarning: More than one layer found in 'PL049L1_SWIDNICA_UA2018_v013.gpkg': 'PL049L1_SWIDNICA_UA2018' (default), 'PL049L1_SWIDNICA_UA2018_Boundary', 'PL049L1_SWIDNICA_UA2018_UrbanCore'. Specify layer parameter to avoid this warning.\n",
      "  result = read_func(\n"
     ]
    },
    {
     "name": "stdout",
     "output_type": "stream",
     "text": [
      "Łomża\n"
     ]
    },
    {
     "name": "stderr",
     "output_type": "stream",
     "text": [
      "/home/krasen/urban_taxonomy/.pixi/envs/default/lib/python3.12/site-packages/pyogrio/geopandas.py:265: UserWarning: More than one layer found in 'PL047L1_LOMZA_UA2018_v013.gpkg': 'PL047L1_LOMZA_UA2018' (default), 'PL047L1_LOMZA_UA2018_Boundary', 'PL047L1_LOMZA_UA2018_UrbanCore'. Specify layer parameter to avoid this warning.\n",
      "  result = read_func(\n"
     ]
    },
    {
     "name": "stdout",
     "output_type": "stream",
     "text": [
      "Grudziądz\n"
     ]
    },
    {
     "name": "stderr",
     "output_type": "stream",
     "text": [
      "/home/krasen/urban_taxonomy/.pixi/envs/default/lib/python3.12/site-packages/pyogrio/geopandas.py:265: UserWarning: More than one layer found in 'PL517L2_GRUDZIADZ_UA2018_v013.gpkg': 'PL517L2_GRUDZIADZ_UA2018' (default), 'PL517L2_GRUDZIADZ_UA2018_Boundary', 'PL517L2_GRUDZIADZ_UA2018_UrbanCore'. Specify layer parameter to avoid this warning.\n",
      "  result = read_func(\n"
     ]
    },
    {
     "name": "stdout",
     "output_type": "stream",
     "text": [
      "Włocławek\n"
     ]
    },
    {
     "name": "stderr",
     "output_type": "stream",
     "text": [
      "/home/krasen/urban_taxonomy/.pixi/envs/default/lib/python3.12/site-packages/pyogrio/geopandas.py:265: UserWarning: More than one layer found in 'PL513L2_WLOCLAWEK_UA2018_v013.gpkg': 'PL513L2_WLOCLAWEK_UA2018' (default), 'PL513L2_WLOCLAWEK_UA2018_Boundary', 'PL513L2_WLOCLAWEK_UA2018_UrbanCore'. Specify layer parameter to avoid this warning.\n",
      "  result = read_func(\n"
     ]
    },
    {
     "name": "stdout",
     "output_type": "stream",
     "text": [
      "Stalowa Wola\n"
     ]
    },
    {
     "name": "stderr",
     "output_type": "stream",
     "text": [
      "/home/krasen/urban_taxonomy/.pixi/envs/default/lib/python3.12/site-packages/pyogrio/geopandas.py:265: UserWarning: More than one layer found in 'PL045L1_STALOWA_WOLA_UA2018_v013.gpkg': 'PL045L1_STALOWA_WOLA_UA2018' (default), 'PL045L1_STALOWA_WOLA_UA2018_Boundary', 'PL045L1_STALOWA_WOLA_UA2018_UrbanCore'. Specify layer parameter to avoid this warning.\n",
      "  result = read_func(\n"
     ]
    },
    {
     "name": "stdout",
     "output_type": "stream",
     "text": [
      "Głogów\n"
     ]
    },
    {
     "name": "stderr",
     "output_type": "stream",
     "text": [
      "/home/krasen/urban_taxonomy/.pixi/envs/default/lib/python3.12/site-packages/pyogrio/geopandas.py:265: UserWarning: More than one layer found in 'PL044L1_GLOGOW_UA2018_v013.gpkg': 'PL044L1_GLOGOW_UA2018' (default), 'PL044L1_GLOGOW_UA2018_Boundary', 'PL044L1_GLOGOW_UA2018_UrbanCore'. Specify layer parameter to avoid this warning.\n",
      "  result = read_func(\n"
     ]
    },
    {
     "name": "stdout",
     "output_type": "stream",
     "text": [
      "Białystok\n"
     ]
    },
    {
     "name": "stderr",
     "output_type": "stream",
     "text": [
      "/home/krasen/urban_taxonomy/.pixi/envs/default/lib/python3.12/site-packages/pyogrio/geopandas.py:265: UserWarning: More than one layer found in 'PL011L2_BIALYSTOK_UA2018_v013.gpkg': 'PL011L2_BIALYSTOK_UA2018' (default), 'PL011L2_BIALYSTOK_UA2018_Boundary', 'PL011L2_BIALYSTOK_UA2018_UrbanCore'. Specify layer parameter to avoid this warning.\n",
      "  result = read_func(\n"
     ]
    },
    {
     "name": "stdout",
     "output_type": "stream",
     "text": [
      "Jelenia Góra\n"
     ]
    },
    {
     "name": "stderr",
     "output_type": "stream",
     "text": [
      "/home/krasen/urban_taxonomy/.pixi/envs/default/lib/python3.12/site-packages/pyogrio/geopandas.py:265: UserWarning: More than one layer found in 'PL019L2_JELENIA_GORA_UA2018_v013.gpkg': 'PL019L2_JELENIA_GORA_UA2018' (default), 'PL019L2_JELENIA_GORA_UA2018_Boundary', 'PL019L2_JELENIA_GORA_UA2018_UrbanCore'. Specify layer parameter to avoid this warning.\n",
      "  result = read_func(\n"
     ]
    },
    {
     "name": "stdout",
     "output_type": "stream",
     "text": [
      "Radom\n"
     ]
    },
    {
     "name": "stderr",
     "output_type": "stream",
     "text": [
      "/home/krasen/urban_taxonomy/.pixi/envs/default/lib/python3.12/site-packages/pyogrio/geopandas.py:265: UserWarning: More than one layer found in 'PL025L2_RADOM_UA2018_v013.gpkg': 'PL025L2_RADOM_UA2018' (default), 'PL025L2_RADOM_UA2018_Boundary', 'PL025L2_RADOM_UA2018_UrbanCore'. Specify layer parameter to avoid this warning.\n",
      "  result = read_func(\n"
     ]
    },
    {
     "name": "stdout",
     "output_type": "stream",
     "text": [
      "Płock\n"
     ]
    },
    {
     "name": "stderr",
     "output_type": "stream",
     "text": [
      "/home/krasen/urban_taxonomy/.pixi/envs/default/lib/python3.12/site-packages/pyogrio/geopandas.py:265: UserWarning: More than one layer found in 'PL026L2_PLOCK_UA2018_v013.gpkg': 'PL026L2_PLOCK_UA2018' (default), 'PL026L2_PLOCK_UA2018_Boundary', 'PL026L2_PLOCK_UA2018_UrbanCore'. Specify layer parameter to avoid this warning.\n",
      "  result = read_func(\n"
     ]
    },
    {
     "name": "stdout",
     "output_type": "stream",
     "text": [
      "Warszawa\n"
     ]
    },
    {
     "name": "stderr",
     "output_type": "stream",
     "text": [
      "/home/krasen/urban_taxonomy/.pixi/envs/default/lib/python3.12/site-packages/pyogrio/geopandas.py:265: UserWarning: More than one layer found in 'PL001L2_WARSZAWA_UA2018_v013.gpkg': 'PL001L2_WARSZAWA_UA2018' (default), 'PL001L2_WARSZAWA_UA2018_Boundary', 'PL001L2_WARSZAWA_UA2018_UrbanCore'. Specify layer parameter to avoid this warning.\n",
      "  result = read_func(\n"
     ]
    },
    {
     "name": "stdout",
     "output_type": "stream",
     "text": [
      "Przemyśl\n"
     ]
    },
    {
     "name": "stderr",
     "output_type": "stream",
     "text": [
      "/home/krasen/urban_taxonomy/.pixi/envs/default/lib/python3.12/site-packages/pyogrio/geopandas.py:265: UserWarning: More than one layer found in 'PL040L1_PRZEMYSL_UA2018_v013.gpkg': 'PL040L1_PRZEMYSL_UA2018' (default), 'PL040L1_PRZEMYSL_UA2018_Boundary', 'PL040L1_PRZEMYSL_UA2018_UrbanCore'. Specify layer parameter to avoid this warning.\n",
      "  result = read_func(\n"
     ]
    },
    {
     "name": "stdout",
     "output_type": "stream",
     "text": [
      "Zielona Góra\n"
     ]
    },
    {
     "name": "stderr",
     "output_type": "stream",
     "text": [
      "/home/krasen/urban_taxonomy/.pixi/envs/default/lib/python3.12/site-packages/pyogrio/geopandas.py:265: UserWarning: More than one layer found in 'PL018L2_ZIELONA_GORA_UA2018_v013.gpkg': 'PL018L2_ZIELONA_GORA_UA2018' (default), 'PL018L2_ZIELONA_GORA_UA2018_Boundary', 'PL018L2_ZIELONA_GORA_UA2018_UrbanCore'. Specify layer parameter to avoid this warning.\n",
      "  result = read_func(\n"
     ]
    },
    {
     "name": "stdout",
     "output_type": "stream",
     "text": [
      "Inowrocław\n"
     ]
    },
    {
     "name": "stderr",
     "output_type": "stream",
     "text": [
      "/home/krasen/urban_taxonomy/.pixi/envs/default/lib/python3.12/site-packages/pyogrio/geopandas.py:265: UserWarning: More than one layer found in 'PL035L1_INOWROCLAW_UA2018_v013.gpkg': 'PL035L1_INOWROCLAW_UA2018' (default), 'PL035L1_INOWROCLAW_UA2018_Boundary', 'PL035L1_INOWROCLAW_UA2018_UrbanCore'. Specify layer parameter to avoid this warning.\n",
      "  result = read_func(\n"
     ]
    },
    {
     "name": "stdout",
     "output_type": "stream",
     "text": [
      "Leszno\n"
     ]
    },
    {
     "name": "stderr",
     "output_type": "stream",
     "text": [
      "/home/krasen/urban_taxonomy/.pixi/envs/default/lib/python3.12/site-packages/pyogrio/geopandas.py:265: UserWarning: More than one layer found in 'PL048L1_LESZNO_UA2018_v013.gpkg': 'PL048L1_LESZNO_UA2018' (default), 'PL048L1_LESZNO_UA2018_Boundary', 'PL048L1_LESZNO_UA2018_UrbanCore'. Specify layer parameter to avoid this warning.\n",
      "  result = read_func(\n"
     ]
    },
    {
     "name": "stdout",
     "output_type": "stream",
     "text": [
      "Olsztyn\n"
     ]
    },
    {
     "name": "stderr",
     "output_type": "stream",
     "text": [
      "/home/krasen/urban_taxonomy/.pixi/envs/default/lib/python3.12/site-packages/pyogrio/geopandas.py:265: UserWarning: More than one layer found in 'PL014L2_OLSZTYN_UA2018_v013.gpkg': 'PL014L2_OLSZTYN_UA2018' (default), 'PL014L2_OLSZTYN_UA2018_Boundary', 'PL014L2_OLSZTYN_UA2018_UrbanCore'. Specify layer parameter to avoid this warning.\n",
      "  result = read_func(\n"
     ]
    },
    {
     "name": "stdout",
     "output_type": "stream",
     "text": [
      "Rybnik\n"
     ]
    },
    {
     "name": "stderr",
     "output_type": "stream",
     "text": [
      "/home/krasen/urban_taxonomy/.pixi/envs/default/lib/python3.12/site-packages/pyogrio/geopandas.py:265: UserWarning: More than one layer found in 'PL508L1_RYBNIK_UA2018_v013.gpkg': 'PL508L1_RYBNIK_UA2018' (default), 'PL508L1_RYBNIK_UA2018_Boundary', 'PL508L1_RYBNIK_UA2018_UrbanCore'. Specify layer parameter to avoid this warning.\n",
      "  result = read_func(\n"
     ]
    },
    {
     "name": "stdout",
     "output_type": "stream",
     "text": [
      "Siedlce\n"
     ]
    },
    {
     "name": "stderr",
     "output_type": "stream",
     "text": [
      "/home/krasen/urban_taxonomy/.pixi/envs/default/lib/python3.12/site-packages/pyogrio/geopandas.py:265: UserWarning: More than one layer found in 'PL031L1_SIEDLCE_UA2018_v013.gpkg': 'PL031L1_SIEDLCE_UA2018' (default), 'PL031L1_SIEDLCE_UA2018_Boundary', 'PL031L1_SIEDLCE_UA2018_UrbanCore'. Specify layer parameter to avoid this warning.\n",
      "  result = read_func(\n"
     ]
    },
    {
     "name": "stdout",
     "output_type": "stream",
     "text": [
      "Rzeszów\n"
     ]
    },
    {
     "name": "stderr",
     "output_type": "stream",
     "text": [
      "/home/krasen/urban_taxonomy/.pixi/envs/default/lib/python3.12/site-packages/pyogrio/geopandas.py:265: UserWarning: More than one layer found in 'PL015L2_RZESZOW_UA2018_v013.gpkg': 'PL015L2_RZESZOW_UA2018' (default), 'PL015L2_RZESZOW_UA2018_Boundary', 'PL015L2_RZESZOW_UA2018_UrbanCore'. Specify layer parameter to avoid this warning.\n",
      "  result = read_func(\n"
     ]
    },
    {
     "name": "stdout",
     "output_type": "stream",
     "text": [
      "Kielce\n"
     ]
    },
    {
     "name": "stderr",
     "output_type": "stream",
     "text": [
      "/home/krasen/urban_taxonomy/.pixi/envs/default/lib/python3.12/site-packages/pyogrio/geopandas.py:265: UserWarning: More than one layer found in 'PL012L2_KIELCE_UA2018_v013.gpkg': 'PL012L2_KIELCE_UA2018' (default), 'PL012L2_KIELCE_UA2018_Boundary', 'PL012L2_KIELCE_UA2018_UrbanCore'. Specify layer parameter to avoid this warning.\n",
      "  result = read_func(\n"
     ]
    },
    {
     "name": "stdout",
     "output_type": "stream",
     "text": [
      "Katowice\n"
     ]
    },
    {
     "name": "stderr",
     "output_type": "stream",
     "text": [
      "/home/krasen/urban_taxonomy/.pixi/envs/default/lib/python3.12/site-packages/pyogrio/geopandas.py:265: UserWarning: More than one layer found in 'PL010L2_KATOWICE_UA2018_v013.gpkg': 'PL010L2_KATOWICE_UA2018' (default), 'PL010L2_KATOWICE_UA2018_Boundary', 'PL010L2_KATOWICE_UA2018_UrbanCore'. Specify layer parameter to avoid this warning.\n",
      "  result = read_func(\n"
     ]
    },
    {
     "name": "stdout",
     "output_type": "stream",
     "text": [
      "Ostrowiec Świętokrzyski\n"
     ]
    },
    {
     "name": "stderr",
     "output_type": "stream",
     "text": [
      "/home/krasen/urban_taxonomy/.pixi/envs/default/lib/python3.12/site-packages/pyogrio/geopandas.py:265: UserWarning: More than one layer found in 'PL036L1_OSTROWIEC_SWIETOKRZYSKI_UA2018_v013.gpkg': 'PL036L1_OSTROWIEC_SWIETOKRZYSKI_UA2018' (default), 'PL036L1_OSTROWIEC_SWIETOKRZYSKI_UA2018_Boundary', 'PL036L1_OSTROWIEC_SWIETOKRZYSKI_UA2018_UrbanCore'. Specify layer parameter to avoid this warning.\n",
      "  result = read_func(\n"
     ]
    },
    {
     "name": "stdout",
     "output_type": "stream",
     "text": [
      "Zamość\n"
     ]
    },
    {
     "name": "stderr",
     "output_type": "stream",
     "text": [
      "/home/krasen/urban_taxonomy/.pixi/envs/default/lib/python3.12/site-packages/pyogrio/geopandas.py:265: UserWarning: More than one layer found in 'PL041L1_ZAMOSC_UA2018_v013.gpkg': 'PL041L1_ZAMOSC_UA2018' (default), 'PL041L1_ZAMOSC_UA2018_Boundary', 'PL041L1_ZAMOSC_UA2018_UrbanCore'. Specify layer parameter to avoid this warning.\n",
      "  result = read_func(\n"
     ]
    },
    {
     "name": "stdout",
     "output_type": "stream",
     "text": [
      "Gdańsk\n"
     ]
    },
    {
     "name": "stderr",
     "output_type": "stream",
     "text": [
      "/home/krasen/urban_taxonomy/.pixi/envs/default/lib/python3.12/site-packages/pyogrio/geopandas.py:265: UserWarning: More than one layer found in 'PL006L2_GDANSK_UA2018_v013.gpkg': 'PL006L2_GDANSK_UA2018' (default), 'PL006L2_GDANSK_UA2018_Boundary', 'PL006L2_GDANSK_UA2018_UrbanCore'. Specify layer parameter to avoid this warning.\n",
      "  result = read_func(\n"
     ]
    },
    {
     "name": "stdout",
     "output_type": "stream",
     "text": [
      "Koszalin\n"
     ]
    },
    {
     "name": "stderr",
     "output_type": "stream",
     "text": [
      "/home/krasen/urban_taxonomy/.pixi/envs/default/lib/python3.12/site-packages/pyogrio/geopandas.py:265: UserWarning: More than one layer found in 'PL028L2_KOSZALIN_UA2018_v013.gpkg': 'PL028L2_KOSZALIN_UA2018' (default), 'PL028L2_KOSZALIN_UA2018_Boundary', 'PL028L2_KOSZALIN_UA2018_UrbanCore'. Specify layer parameter to avoid this warning.\n",
      "  result = read_func(\n"
     ]
    },
    {
     "name": "stdout",
     "output_type": "stream",
     "text": [
      "Lublin\n"
     ]
    },
    {
     "name": "stderr",
     "output_type": "stream",
     "text": [
      "/home/krasen/urban_taxonomy/.pixi/envs/default/lib/python3.12/site-packages/pyogrio/geopandas.py:265: UserWarning: More than one layer found in 'PL009L2_LUBLIN_UA2018_v013.gpkg': 'PL009L2_LUBLIN_UA2018' (default), 'PL009L2_LUBLIN_UA2018_Boundary', 'PL009L2_LUBLIN_UA2018_UrbanCore'. Specify layer parameter to avoid this warning.\n",
      "  result = read_func(\n"
     ]
    },
    {
     "name": "stdout",
     "output_type": "stream",
     "text": [
      "Słupsk\n"
     ]
    },
    {
     "name": "stderr",
     "output_type": "stream",
     "text": [
      "/home/krasen/urban_taxonomy/.pixi/envs/default/lib/python3.12/site-packages/pyogrio/geopandas.py:265: UserWarning: More than one layer found in 'PL029L1_SLUPSK_UA2018_v013.gpkg': 'PL029L1_SLUPSK_UA2018' (default), 'PL029L1_SLUPSK_UA2018_Boundary', 'PL029L1_SLUPSK_UA2018_UrbanCore'. Specify layer parameter to avoid this warning.\n",
      "  result = read_func(\n"
     ]
    },
    {
     "name": "stdout",
     "output_type": "stream",
     "text": [
      "Stargard Szczeciński\n"
     ]
    },
    {
     "name": "stderr",
     "output_type": "stream",
     "text": [
      "/home/krasen/urban_taxonomy/.pixi/envs/default/lib/python3.12/site-packages/pyogrio/geopandas.py:265: UserWarning: More than one layer found in 'PL038L1_STARGARD_SZCZECINSKI_UA2018_v013.gpkg': 'PL038L1_STARGARD_SZCZECINSKI_UA2018' (default), 'PL038L1_STARGARD_SZCZECINSKI_UA2018_Boundary', 'PL038L1_STARGARD_SZCZECINSKI_UA2018_UrbanCore'. Specify layer parameter to avoid this warning.\n",
      "  result = read_func(\n"
     ]
    },
    {
     "name": "stdout",
     "output_type": "stream",
     "text": [
      "Jastrzębie-Zdrój\n"
     ]
    },
    {
     "name": "stderr",
     "output_type": "stream",
     "text": [
      "/home/krasen/urban_taxonomy/.pixi/envs/default/lib/python3.12/site-packages/pyogrio/geopandas.py:265: UserWarning: More than one layer found in 'PL030L1_JASTRZEBIE_ZDROJ_UA2018_v013.gpkg': 'PL030L1_JASTRZEBIE_ZDROJ_UA2018' (default), 'PL030L1_JASTRZEBIE_ZDROJ_UA2018_Boundary', 'PL030L1_JASTRZEBIE_ZDROJ_UA2018_UrbanCore'. Specify layer parameter to avoid this warning.\n",
      "  result = read_func(\n"
     ]
    },
    {
     "name": "stdout",
     "output_type": "stream",
     "text": [
      "Kalisz\n"
     ]
    },
    {
     "name": "stderr",
     "output_type": "stream",
     "text": [
      "/home/krasen/urban_taxonomy/.pixi/envs/default/lib/python3.12/site-packages/pyogrio/geopandas.py:265: UserWarning: More than one layer found in 'PL027L2_KALISZ_UA2018_v013.gpkg': 'PL027L2_KALISZ_UA2018' (default), 'PL027L2_KALISZ_UA2018_Boundary', 'PL027L2_KALISZ_UA2018_UrbanCore'. Specify layer parameter to avoid this warning.\n",
      "  result = read_func(\n"
     ]
    },
    {
     "name": "stdout",
     "output_type": "stream",
     "text": [
      "Suwałki\n"
     ]
    },
    {
     "name": "stderr",
     "output_type": "stream",
     "text": [
      "/home/krasen/urban_taxonomy/.pixi/envs/default/lib/python3.12/site-packages/pyogrio/geopandas.py:265: UserWarning: More than one layer found in 'PL021L2_SUWALKI_UA2018_v013.gpkg': 'PL021L2_SUWALKI_UA2018' (default), 'PL021L2_SUWALKI_UA2018_Boundary', 'PL021L2_SUWALKI_UA2018_UrbanCore'. Specify layer parameter to avoid this warning.\n",
      "  result = read_func(\n"
     ]
    },
    {
     "name": "stdout",
     "output_type": "stream",
     "text": [
      "Tarnów\n"
     ]
    },
    {
     "name": "stderr",
     "output_type": "stream",
     "text": [
      "/home/krasen/urban_taxonomy/.pixi/envs/default/lib/python3.12/site-packages/pyogrio/geopandas.py:265: UserWarning: More than one layer found in 'PL514L2_TARNOW_UA2018_v013.gpkg': 'PL514L2_TARNOW_UA2018' (default), 'PL514L2_TARNOW_UA2018_Boundary', 'PL514L2_TARNOW_UA2018_UrbanCore'. Specify layer parameter to avoid this warning.\n",
      "  result = read_func(\n"
     ]
    },
    {
     "name": "stdout",
     "output_type": "stream",
     "text": [
      "Legnica\n"
     ]
    },
    {
     "name": "stderr",
     "output_type": "stream",
     "text": [
      "/home/krasen/urban_taxonomy/.pixi/envs/default/lib/python3.12/site-packages/pyogrio/geopandas.py:265: UserWarning: More than one layer found in 'PL516L2_LEGNICA_UA2018_v013.gpkg': 'PL516L2_LEGNICA_UA2018' (default), 'PL516L2_LEGNICA_UA2018_Boundary', 'PL516L2_LEGNICA_UA2018_UrbanCore'. Specify layer parameter to avoid this warning.\n",
      "  result = read_func(\n"
     ]
    },
    {
     "name": "stdout",
     "output_type": "stream",
     "text": [
      "Toruń\n"
     ]
    },
    {
     "name": "stderr",
     "output_type": "stream",
     "text": [
      "/home/krasen/urban_taxonomy/.pixi/envs/default/lib/python3.12/site-packages/pyogrio/geopandas.py:265: UserWarning: More than one layer found in 'PL013L2_TORUN_UA2018_v013.gpkg': 'PL013L2_TORUN_UA2018' (default), 'PL013L2_TORUN_UA2018_Boundary', 'PL013L2_TORUN_UA2018_UrbanCore'. Specify layer parameter to avoid this warning.\n",
      "  result = read_func(\n"
     ]
    },
    {
     "name": "stdout",
     "output_type": "stream",
     "text": [
      "Szczecin\n"
     ]
    },
    {
     "name": "stderr",
     "output_type": "stream",
     "text": [
      "/home/krasen/urban_taxonomy/.pixi/envs/default/lib/python3.12/site-packages/pyogrio/geopandas.py:265: UserWarning: More than one layer found in 'PL007L2_SZCZECIN_UA2018_v013.gpkg': 'PL007L2_SZCZECIN_UA2018' (default), 'PL007L2_SZCZECIN_UA2018_Boundary', 'PL007L2_SZCZECIN_UA2018_UrbanCore'. Specify layer parameter to avoid this warning.\n",
      "  result = read_func(\n"
     ]
    },
    {
     "name": "stdout",
     "output_type": "stream",
     "text": [
      "Piła\n"
     ]
    },
    {
     "name": "stderr",
     "output_type": "stream",
     "text": [
      "/home/krasen/urban_taxonomy/.pixi/envs/default/lib/python3.12/site-packages/pyogrio/geopandas.py:265: UserWarning: More than one layer found in 'PL034L1_PILA_UA2018_v013.gpkg': 'PL034L1_PILA_UA2018' (default), 'PL034L1_PILA_UA2018_Boundary', 'PL034L1_PILA_UA2018_UrbanCore'. Specify layer parameter to avoid this warning.\n",
      "  result = read_func(\n"
     ]
    },
    {
     "name": "stdout",
     "output_type": "stream",
     "text": [
      "Tomaszów Mazowiecki\n"
     ]
    },
    {
     "name": "stderr",
     "output_type": "stream",
     "text": [
      "/home/krasen/urban_taxonomy/.pixi/envs/default/lib/python3.12/site-packages/pyogrio/geopandas.py:265: UserWarning: More than one layer found in 'PL046L1_TOMASZOW_MAZOWIECKI_UA2018_v013.gpkg': 'PL046L1_TOMASZOW_MAZOWIECKI_UA2018' (default), 'PL046L1_TOMASZOW_MAZOWIECKI_UA2018_Boundary', 'PL046L1_TOMASZOW_MAZOWIECKI_UA2018_UrbanCore'. Specify layer parameter to avoid this warning.\n",
      "  result = read_func(\n"
     ]
    },
    {
     "name": "stdout",
     "output_type": "stream",
     "text": [
      "Ostrów Wielkopolski\n"
     ]
    },
    {
     "name": "stderr",
     "output_type": "stream",
     "text": [
      "/home/krasen/urban_taxonomy/.pixi/envs/default/lib/python3.12/site-packages/pyogrio/geopandas.py:265: UserWarning: More than one layer found in 'PL039L1_OSTROW_WIELKOPOLSKI_UA2018_v013.gpkg': 'PL039L1_OSTROW_WIELKOPOLSKI_UA2018' (default), 'PL039L1_OSTROW_WIELKOPOLSKI_UA2018_Boundary', 'PL039L1_OSTROW_WIELKOPOLSKI_UA2018_UrbanCore'. Specify layer parameter to avoid this warning.\n",
      "  result = read_func(\n"
     ]
    },
    {
     "name": "stdout",
     "output_type": "stream",
     "text": [
      "Konin\n"
     ]
    },
    {
     "name": "stderr",
     "output_type": "stream",
     "text": [
      "/home/krasen/urban_taxonomy/.pixi/envs/default/lib/python3.12/site-packages/pyogrio/geopandas.py:265: UserWarning: More than one layer found in 'PL022L2_KONIN_UA2018_v013.gpkg': 'PL022L2_KONIN_UA2018' (default), 'PL022L2_KONIN_UA2018_Boundary', 'PL022L2_KONIN_UA2018_UrbanCore'. Specify layer parameter to avoid this warning.\n",
      "  result = read_func(\n"
     ]
    },
    {
     "name": "stdout",
     "output_type": "stream",
     "text": [
      "Nowy Sącz\n"
     ]
    },
    {
     "name": "stderr",
     "output_type": "stream",
     "text": [
      "/home/krasen/urban_taxonomy/.pixi/envs/default/lib/python3.12/site-packages/pyogrio/geopandas.py:265: UserWarning: More than one layer found in 'PL020L2_NOWY_SACZ_UA2018_v013.gpkg': 'PL020L2_NOWY_SACZ_UA2018' (default), 'PL020L2_NOWY_SACZ_UA2018_Boundary', 'PL020L2_NOWY_SACZ_UA2018_UrbanCore'. Specify layer parameter to avoid this warning.\n",
      "  result = read_func(\n"
     ]
    },
    {
     "name": "stdout",
     "output_type": "stream",
     "text": [
      "Elbląg\n"
     ]
    },
    {
     "name": "stderr",
     "output_type": "stream",
     "text": [
      "/home/krasen/urban_taxonomy/.pixi/envs/default/lib/python3.12/site-packages/pyogrio/geopandas.py:265: UserWarning: More than one layer found in 'PL512L2_ELBLAG_UA2018_v013.gpkg': 'PL512L2_ELBLAG_UA2018' (default), 'PL512L2_ELBLAG_UA2018_Boundary', 'PL512L2_ELBLAG_UA2018_UrbanCore'. Specify layer parameter to avoid this warning.\n",
      "  result = read_func(\n"
     ]
    },
    {
     "name": "stdout",
     "output_type": "stream",
     "text": [
      "Lubin\n"
     ]
    },
    {
     "name": "stderr",
     "output_type": "stream",
     "text": [
      "/home/krasen/urban_taxonomy/.pixi/envs/default/lib/python3.12/site-packages/pyogrio/geopandas.py:265: UserWarning: More than one layer found in 'PL033L1_LUBIN_UA2018_v013.gpkg': 'PL033L1_LUBIN_UA2018' (default), 'PL033L1_LUBIN_UA2018_Boundary', 'PL033L1_LUBIN_UA2018_UrbanCore'. Specify layer parameter to avoid this warning.\n",
      "  result = read_func(\n"
     ]
    },
    {
     "name": "stdout",
     "output_type": "stream",
     "text": [
      "Kraków\n"
     ]
    },
    {
     "name": "stderr",
     "output_type": "stream",
     "text": [
      "/home/krasen/urban_taxonomy/.pixi/envs/default/lib/python3.12/site-packages/pyogrio/geopandas.py:265: UserWarning: More than one layer found in 'PL003L2_KRAKOW_UA2018_v013.gpkg': 'PL003L2_KRAKOW_UA2018' (default), 'PL003L2_KRAKOW_UA2018_Boundary', 'PL003L2_KRAKOW_UA2018_UrbanCore'. Specify layer parameter to avoid this warning.\n",
      "  result = read_func(\n"
     ]
    },
    {
     "name": "stdout",
     "output_type": "stream",
     "text": [
      "Bydgoszcz\n"
     ]
    },
    {
     "name": "stderr",
     "output_type": "stream",
     "text": [
      "/home/krasen/urban_taxonomy/.pixi/envs/default/lib/python3.12/site-packages/pyogrio/geopandas.py:265: UserWarning: More than one layer found in 'PL008L2_BYDGOSZCZ_UA2018_v013.gpkg': 'PL008L2_BYDGOSZCZ_UA2018' (default), 'PL008L2_BYDGOSZCZ_UA2018_Boundary', 'PL008L2_BYDGOSZCZ_UA2018_UrbanCore'. Specify layer parameter to avoid this warning.\n",
      "  result = read_func(\n"
     ]
    },
    {
     "name": "stdout",
     "output_type": "stream",
     "text": [
      "Chemnitz\n"
     ]
    },
    {
     "name": "stderr",
     "output_type": "stream",
     "text": [
      "/home/krasen/urban_taxonomy/.pixi/envs/default/lib/python3.12/site-packages/pyogrio/geopandas.py:265: UserWarning: More than one layer found in 'DE505L0_CHEMNITZ_UA2018_v013.gpkg': 'DE505L0_CHEMNITZ_UA2018' (default), 'DE505L0_CHEMNITZ_UA2018_Boundary', 'DE505L0_CHEMNITZ_UA2018_UrbanCore'. Specify layer parameter to avoid this warning.\n",
      "  result = read_func(\n"
     ]
    },
    {
     "name": "stdout",
     "output_type": "stream",
     "text": [
      "Marburg\n"
     ]
    },
    {
     "name": "stderr",
     "output_type": "stream",
     "text": [
      "/home/krasen/urban_taxonomy/.pixi/envs/default/lib/python3.12/site-packages/pyogrio/geopandas.py:265: UserWarning: More than one layer found in 'DE053L1_MARBURG_UA2018_v013.gpkg': 'DE053L1_MARBURG_UA2018' (default), 'DE053L1_MARBURG_UA2018_Boundary', 'DE053L1_MARBURG_UA2018_UrbanCore'. Specify layer parameter to avoid this warning.\n",
      "  result = read_func(\n"
     ]
    },
    {
     "name": "stdout",
     "output_type": "stream",
     "text": [
      "Frankfurt (Oder)\n"
     ]
    },
    {
     "name": "stderr",
     "output_type": "stream",
     "text": [
      "/home/krasen/urban_taxonomy/.pixi/envs/default/lib/python3.12/site-packages/pyogrio/geopandas.py:265: UserWarning: More than one layer found in 'DE029L0_FRANKFURT_ODER_UA2018_v013.gpkg': 'DE029L0_FRANKFURT_ODER_UA2018' (default), 'DE029L0_FRANKFURT_ODER_UA2018_Boundary', 'DE029L0_FRANKFURT_ODER_UA2018_UrbanCore'. Specify layer parameter to avoid this warning.\n",
      "  result = read_func(\n"
     ]
    },
    {
     "name": "stdout",
     "output_type": "stream",
     "text": [
      "Hildesheim\n"
     ]
    },
    {
     "name": "stderr",
     "output_type": "stream",
     "text": [
      "/home/krasen/urban_taxonomy/.pixi/envs/default/lib/python3.12/site-packages/pyogrio/geopandas.py:265: UserWarning: More than one layer found in 'DE542L1_HILDESHEIM_UA2018_v013.gpkg': 'DE542L1_HILDESHEIM_UA2018' (default), 'DE542L1_HILDESHEIM_UA2018_Boundary', 'DE542L1_HILDESHEIM_UA2018_UrbanCore'. Specify layer parameter to avoid this warning.\n",
      "  result = read_func(\n"
     ]
    },
    {
     "name": "stdout",
     "output_type": "stream",
     "text": [
      "Kaiserslautern\n"
     ]
    },
    {
     "name": "stderr",
     "output_type": "stream",
     "text": [
      "/home/krasen/urban_taxonomy/.pixi/envs/default/lib/python3.12/site-packages/pyogrio/geopandas.py:265: UserWarning: More than one layer found in 'DE044L1_KAISERSLAUTERN_UA2018_v013.gpkg': 'DE044L1_KAISERSLAUTERN_UA2018' (default), 'DE044L1_KAISERSLAUTERN_UA2018_Boundary', 'DE044L1_KAISERSLAUTERN_UA2018_UrbanCore'. Specify layer parameter to avoid this warning.\n",
      "  result = read_func(\n"
     ]
    },
    {
     "name": "stdout",
     "output_type": "stream",
     "text": [
      "Pforzheim\n"
     ]
    },
    {
     "name": "stderr",
     "output_type": "stream",
     "text": [
      "/home/krasen/urban_taxonomy/.pixi/envs/default/lib/python3.12/site-packages/pyogrio/geopandas.py:265: UserWarning: More than one layer found in 'DE533L1_PFORZHEIM_UA2018_v013.gpkg': 'DE533L1_PFORZHEIM_UA2018' (default), 'DE533L1_PFORZHEIM_UA2018_Boundary', 'DE533L1_PFORZHEIM_UA2018_UrbanCore'. Specify layer parameter to avoid this warning.\n",
      "  result = read_func(\n"
     ]
    },
    {
     "name": "stdout",
     "output_type": "stream",
     "text": [
      "Düren\n"
     ]
    },
    {
     "name": "stderr",
     "output_type": "stream",
     "text": [
      "/home/krasen/urban_taxonomy/.pixi/envs/default/lib/python3.12/site-packages/pyogrio/geopandas.py:265: UserWarning: More than one layer found in 'DE548L1_DUREN_UA2018_v013.gpkg': 'DE548L1_DUREN_UA2018' (default), 'DE548L1_DUREN_UA2018_Boundary'. Specify layer parameter to avoid this warning.\n",
      "  result = read_func(\n"
     ]
    },
    {
     "name": "stdout",
     "output_type": "stream",
     "text": [
      "Brandenburg an der Havel\n"
     ]
    },
    {
     "name": "stderr",
     "output_type": "stream",
     "text": [
      "/home/krasen/urban_taxonomy/.pixi/envs/default/lib/python3.12/site-packages/pyogrio/geopandas.py:265: UserWarning: More than one layer found in 'DE056L0_BRANDENBURG_AN_DER_HAVEL_UA2018_v013.gpkg': 'DE056L0_BRANDENBURG_AN_DER_HAVEL_UA2018' (default), 'DE056L0_BRANDENBURG_AN_DER_HAVEL_UA2018_Boundary', 'DE056L0_BRANDENBURG_AN_DER_HAVEL_UA2018_UrbanCore'. Specify layer parameter to avoid this warning.\n",
      "  result = read_func(\n"
     ]
    },
    {
     "name": "stdout",
     "output_type": "stream",
     "text": [
      "Lübeck\n"
     ]
    },
    {
     "name": "stderr",
     "output_type": "stream",
     "text": [
      "/home/krasen/urban_taxonomy/.pixi/envs/default/lib/python3.12/site-packages/pyogrio/geopandas.py:265: UserWarning: More than one layer found in 'DE510L1_LUBECK_UA2018_v013.gpkg': 'DE510L1_LUBECK_UA2018' (default), 'DE510L1_LUBECK_UA2018_Boundary', 'DE510L1_LUBECK_UA2018_UrbanCore'. Specify layer parameter to avoid this warning.\n",
      "  result = read_func(\n"
     ]
    },
    {
     "name": "stdout",
     "output_type": "stream",
     "text": [
      "Regensburg\n"
     ]
    },
    {
     "name": "stderr",
     "output_type": "stream",
     "text": [
      "/home/krasen/urban_taxonomy/.pixi/envs/default/lib/python3.12/site-packages/pyogrio/geopandas.py:265: UserWarning: More than one layer found in 'DE028L1_REGENSBURG_UA2018_v013.gpkg': 'DE028L1_REGENSBURG_UA2018' (default), 'DE028L1_REGENSBURG_UA2018_Boundary', 'DE028L1_REGENSBURG_UA2018_UrbanCore'. Specify layer parameter to avoid this warning.\n",
      "  result = read_func(\n"
     ]
    },
    {
     "name": "stdout",
     "output_type": "stream",
     "text": [
      "Augsburg\n"
     ]
    },
    {
     "name": "stderr",
     "output_type": "stream",
     "text": [
      "/home/krasen/urban_taxonomy/.pixi/envs/default/lib/python3.12/site-packages/pyogrio/geopandas.py:265: UserWarning: More than one layer found in 'DE033L1_AUGSBURG_UA2018_v013.gpkg': 'DE033L1_AUGSBURG_UA2018' (default), 'DE033L1_AUGSBURG_UA2018_Boundary', 'DE033L1_AUGSBURG_UA2018_UrbanCore'. Specify layer parameter to avoid this warning.\n",
      "  result = read_func(\n"
     ]
    },
    {
     "name": "stdout",
     "output_type": "stream",
     "text": [
      "Rosenheim\n"
     ]
    },
    {
     "name": "stderr",
     "output_type": "stream",
     "text": [
      "/home/krasen/urban_taxonomy/.pixi/envs/default/lib/python3.12/site-packages/pyogrio/geopandas.py:265: UserWarning: More than one layer found in 'DE069L1_ROSENHEIM_UA2018_v013.gpkg': 'DE069L1_ROSENHEIM_UA2018' (default), 'DE069L1_ROSENHEIM_UA2018_Boundary', 'DE069L1_ROSENHEIM_UA2018_UrbanCore'. Specify layer parameter to avoid this warning.\n",
      "  result = read_func(\n"
     ]
    },
    {
     "name": "stdout",
     "output_type": "stream",
     "text": [
      "Kassel\n"
     ]
    },
    {
     "name": "stderr",
     "output_type": "stream",
     "text": [
      "/home/krasen/urban_taxonomy/.pixi/envs/default/lib/python3.12/site-packages/pyogrio/geopandas.py:265: UserWarning: More than one layer found in 'DE513L1_KASSEL_UA2018_v013.gpkg': 'DE513L1_KASSEL_UA2018' (default), 'DE513L1_KASSEL_UA2018_Boundary', 'DE513L1_KASSEL_UA2018_UrbanCore'. Specify layer parameter to avoid this warning.\n",
      "  result = read_func(\n"
     ]
    },
    {
     "name": "stdout",
     "output_type": "stream",
     "text": [
      "Ingolstadt\n"
     ]
    },
    {
     "name": "stderr",
     "output_type": "stream",
     "text": [
      "/home/krasen/urban_taxonomy/.pixi/envs/default/lib/python3.12/site-packages/pyogrio/geopandas.py:265: UserWarning: More than one layer found in 'DE534L1_INGOLSTADT_UA2018_v013.gpkg': 'DE534L1_INGOLSTADT_UA2018' (default), 'DE534L1_INGOLSTADT_UA2018_Boundary', 'DE534L1_INGOLSTADT_UA2018_UrbanCore'. Specify layer parameter to avoid this warning.\n",
      "  result = read_func(\n"
     ]
    },
    {
     "name": "stdout",
     "output_type": "stream",
     "text": [
      "Passau\n"
     ]
    },
    {
     "name": "stderr",
     "output_type": "stream",
     "text": [
      "/home/krasen/urban_taxonomy/.pixi/envs/default/lib/python3.12/site-packages/pyogrio/geopandas.py:265: UserWarning: More than one layer found in 'DE081L1_PASSAU_UA2018_v013.gpkg': 'DE081L1_PASSAU_UA2018' (default), 'DE081L1_PASSAU_UA2018_Boundary', 'DE081L1_PASSAU_UA2018_UrbanCore'. Specify layer parameter to avoid this warning.\n",
      "  result = read_func(\n"
     ]
    },
    {
     "name": "stdout",
     "output_type": "stream",
     "text": [
      "Mannheim-Ludwigshafen\n"
     ]
    },
    {
     "name": "stderr",
     "output_type": "stream",
     "text": [
      "/home/krasen/urban_taxonomy/.pixi/envs/default/lib/python3.12/site-packages/pyogrio/geopandas.py:265: UserWarning: More than one layer found in 'DE084L1_MANNHEIM_LUDWIGSHAFEN_UA2018_v013.gpkg': 'DE084L1_MANNHEIM_LUDWIGSHAFEN_UA2018' (default), 'DE084L1_MANNHEIM_LUDWIGSHAFEN_UA2018_Boundary'. Specify layer parameter to avoid this warning.\n",
      "  result = read_func(\n"
     ]
    },
    {
     "name": "stdout",
     "output_type": "stream",
     "text": [
      "Bayreuth\n"
     ]
    },
    {
     "name": "stderr",
     "output_type": "stream",
     "text": [
      "/home/krasen/urban_taxonomy/.pixi/envs/default/lib/python3.12/site-packages/pyogrio/geopandas.py:265: UserWarning: More than one layer found in 'DE059L1_BAYREUTH_UA2018_v013.gpkg': 'DE059L1_BAYREUTH_UA2018' (default), 'DE059L1_BAYREUTH_UA2018_Boundary', 'DE059L1_BAYREUTH_UA2018_UrbanCore'. Specify layer parameter to avoid this warning.\n",
      "  result = read_func(\n"
     ]
    },
    {
     "name": "stdout",
     "output_type": "stream",
     "text": [
      "Paderborn\n"
     ]
    },
    {
     "name": "stderr",
     "output_type": "stream",
     "text": [
      "/home/krasen/urban_taxonomy/.pixi/envs/default/lib/python3.12/site-packages/pyogrio/geopandas.py:265: UserWarning: More than one layer found in 'DE523L1_PADERBORN_UA2018_v013.gpkg': 'DE523L1_PADERBORN_UA2018' (default), 'DE523L1_PADERBORN_UA2018_Boundary', 'DE523L1_PADERBORN_UA2018_UrbanCore'. Specify layer parameter to avoid this warning.\n",
      "  result = read_func(\n"
     ]
    },
    {
     "name": "stdout",
     "output_type": "stream",
     "text": [
      "Nürnberg\n"
     ]
    },
    {
     "name": "stderr",
     "output_type": "stream",
     "text": [
      "/home/krasen/urban_taxonomy/.pixi/envs/default/lib/python3.12/site-packages/pyogrio/geopandas.py:265: UserWarning: More than one layer found in 'DE014L1_NURNBERG_UA2018_v013.gpkg': 'DE014L1_NURNBERG_UA2018' (default), 'DE014L1_NURNBERG_UA2018_Boundary', 'DE014L1_NURNBERG_UA2018_UrbanCore'. Specify layer parameter to avoid this warning.\n",
      "  result = read_func(\n"
     ]
    },
    {
     "name": "stdout",
     "output_type": "stream",
     "text": [
      "Halle an der Saale\n"
     ]
    },
    {
     "name": "stderr",
     "output_type": "stream",
     "text": [
      "/home/krasen/urban_taxonomy/.pixi/envs/default/lib/python3.12/site-packages/pyogrio/geopandas.py:265: UserWarning: More than one layer found in 'DE018L1_HALLE_AN_DER_SAALE_UA2018_v013.gpkg': 'DE018L1_HALLE_AN_DER_SAALE_UA2018' (default), 'DE018L1_HALLE_AN_DER_SAALE_UA2018_Boundary', 'DE018L1_HALLE_AN_DER_SAALE_UA2018_UrbanCore'. Specify layer parameter to avoid this warning.\n",
      "  result = read_func(\n"
     ]
    },
    {
     "name": "stdout",
     "output_type": "stream",
     "text": [
      "Remscheid\n"
     ]
    },
    {
     "name": "stderr",
     "output_type": "stream",
     "text": [
      "/home/krasen/urban_taxonomy/.pixi/envs/default/lib/python3.12/site-packages/pyogrio/geopandas.py:265: UserWarning: More than one layer found in 'DE530L0_REMSCHEID_UA2018_v013.gpkg': 'DE530L0_REMSCHEID_UA2018' (default), 'DE530L0_REMSCHEID_UA2018_Boundary', 'DE530L0_REMSCHEID_UA2018_UrbanCore'. Specify layer parameter to avoid this warning.\n",
      "  result = read_func(\n"
     ]
    },
    {
     "name": "stdout",
     "output_type": "stream",
     "text": [
      "Konstanz\n"
     ]
    },
    {
     "name": "stderr",
     "output_type": "stream",
     "text": [
      "/home/krasen/urban_taxonomy/.pixi/envs/default/lib/python3.12/site-packages/pyogrio/geopandas.py:265: UserWarning: More than one layer found in 'DE054L1_KONSTANZ_UA2018_v013.gpkg': 'DE054L1_KONSTANZ_UA2018' (default), 'DE054L1_KONSTANZ_UA2018_Boundary', 'DE054L1_KONSTANZ_UA2018_UrbanCore'. Specify layer parameter to avoid this warning.\n",
      "  result = read_func(\n"
     ]
    },
    {
     "name": "stdout",
     "output_type": "stream",
     "text": [
      "Rostock\n"
     ]
    },
    {
     "name": "stderr",
     "output_type": "stream",
     "text": [
      "/home/krasen/urban_taxonomy/.pixi/envs/default/lib/python3.12/site-packages/pyogrio/geopandas.py:265: UserWarning: More than one layer found in 'DE043L2_ROSTOCK_UA2018_v013.gpkg': 'DE043L2_ROSTOCK_UA2018' (default), 'DE043L2_ROSTOCK_UA2018_Boundary', 'DE043L2_ROSTOCK_UA2018_UrbanCore'. Specify layer parameter to avoid this warning.\n",
      "  result = read_func(\n"
     ]
    },
    {
     "name": "stdout",
     "output_type": "stream",
     "text": [
      "Würzburg\n"
     ]
    },
    {
     "name": "stderr",
     "output_type": "stream",
     "text": [
      "/home/krasen/urban_taxonomy/.pixi/envs/default/lib/python3.12/site-packages/pyogrio/geopandas.py:265: UserWarning: More than one layer found in 'DE524L2_WURZBURG_UA2018_v013.gpkg': 'DE524L2_WURZBURG_UA2018' (default), 'DE524L2_WURZBURG_UA2018_Boundary', 'DE524L2_WURZBURG_UA2018_UrbanCore'. Specify layer parameter to avoid this warning.\n",
      "  result = read_func(\n"
     ]
    },
    {
     "name": "stdout",
     "output_type": "stream",
     "text": [
      "Schwerin\n"
     ]
    },
    {
     "name": "stderr",
     "output_type": "stream",
     "text": [
      "/home/krasen/urban_taxonomy/.pixi/envs/default/lib/python3.12/site-packages/pyogrio/geopandas.py:265: UserWarning: More than one layer found in 'DE031L1_SCHWERIN_UA2018_v013.gpkg': 'DE031L1_SCHWERIN_UA2018' (default), 'DE031L1_SCHWERIN_UA2018_Boundary', 'DE031L1_SCHWERIN_UA2018_UrbanCore'. Specify layer parameter to avoid this warning.\n",
      "  result = read_func(\n"
     ]
    },
    {
     "name": "stdout",
     "output_type": "stream",
     "text": [
      "Wiesbaden\n"
     ]
    },
    {
     "name": "stderr",
     "output_type": "stream",
     "text": [
      "/home/krasen/urban_taxonomy/.pixi/envs/default/lib/python3.12/site-packages/pyogrio/geopandas.py:265: UserWarning: More than one layer found in 'DE020L1_WIESBADEN_UA2018_v013.gpkg': 'DE020L1_WIESBADEN_UA2018' (default), 'DE020L1_WIESBADEN_UA2018_Boundary', 'DE020L1_WIESBADEN_UA2018_UrbanCore'. Specify layer parameter to avoid this warning.\n",
      "  result = read_func(\n"
     ]
    },
    {
     "name": "stdout",
     "output_type": "stream",
     "text": [
      "Weimar\n"
     ]
    },
    {
     "name": "stderr",
     "output_type": "stream",
     "text": [
      "/home/krasen/urban_taxonomy/.pixi/envs/default/lib/python3.12/site-packages/pyogrio/geopandas.py:265: UserWarning: More than one layer found in 'DE030L1_WEIMAR_UA2018_v013.gpkg': 'DE030L1_WEIMAR_UA2018' (default), 'DE030L1_WEIMAR_UA2018_Boundary', 'DE030L1_WEIMAR_UA2018_UrbanCore'. Specify layer parameter to avoid this warning.\n",
      "  result = read_func(\n"
     ]
    },
    {
     "name": "stdout",
     "output_type": "stream",
     "text": [
      "Berlin\n"
     ]
    },
    {
     "name": "stderr",
     "output_type": "stream",
     "text": [
      "/home/krasen/urban_taxonomy/.pixi/envs/default/lib/python3.12/site-packages/pyogrio/geopandas.py:265: UserWarning: More than one layer found in 'DE001L1_BERLIN_UA2018_v013.gpkg': 'DE001L1_BERLIN_UA2018' (default), 'DE001L1_BERLIN_UA2018_Boundary', 'DE001L1_BERLIN_UA2018_UrbanCore'. Specify layer parameter to avoid this warning.\n",
      "  result = read_func(\n"
     ]
    },
    {
     "name": "stdout",
     "output_type": "stream",
     "text": [
      "München\n"
     ]
    },
    {
     "name": "stderr",
     "output_type": "stream",
     "text": [
      "/home/krasen/urban_taxonomy/.pixi/envs/default/lib/python3.12/site-packages/pyogrio/geopandas.py:265: UserWarning: More than one layer found in 'DE003L1_MUNCHEN_UA2018_v013.gpkg': 'DE003L1_MUNCHEN_UA2018' (default), 'DE003L1_MUNCHEN_UA2018_Boundary', 'DE003L1_MUNCHEN_UA2018_UrbanCore'. Specify layer parameter to avoid this warning.\n",
      "  result = read_func(\n"
     ]
    },
    {
     "name": "stdout",
     "output_type": "stream",
     "text": [
      "Kempten (Allgäu)\n"
     ]
    },
    {
     "name": "stderr",
     "output_type": "stream",
     "text": [
      "/home/krasen/urban_taxonomy/.pixi/envs/default/lib/python3.12/site-packages/pyogrio/geopandas.py:265: UserWarning: More than one layer found in 'DE066L1_KEMPTEN_ALLGAU_UA2018_v013.gpkg': 'DE066L1_KEMPTEN_ALLGAU_UA2018' (default), 'DE066L1_KEMPTEN_ALLGAU_UA2018_Boundary', 'DE066L1_KEMPTEN_ALLGAU_UA2018_UrbanCore'. Specify layer parameter to avoid this warning.\n",
      "  result = read_func(\n"
     ]
    },
    {
     "name": "stdout",
     "output_type": "stream",
     "text": [
      "Mönchengladbach\n"
     ]
    },
    {
     "name": "stderr",
     "output_type": "stream",
     "text": [
      "/home/krasen/urban_taxonomy/.pixi/envs/default/lib/python3.12/site-packages/pyogrio/geopandas.py:265: UserWarning: More than one layer found in 'DE036L0_MONCHENGLADBACH_UA2018_v013.gpkg': 'DE036L0_MONCHENGLADBACH_UA2018' (default), 'DE036L0_MONCHENGLADBACH_UA2018_Boundary', 'DE036L0_MONCHENGLADBACH_UA2018_UrbanCore'. Specify layer parameter to avoid this warning.\n",
      "  result = read_func(\n"
     ]
    },
    {
     "name": "stdout",
     "output_type": "stream",
     "text": [
      "Plauen\n"
     ]
    },
    {
     "name": "stderr",
     "output_type": "stream",
     "text": [
      "/home/krasen/urban_taxonomy/.pixi/envs/default/lib/python3.12/site-packages/pyogrio/geopandas.py:265: UserWarning: More than one layer found in 'DE063L1_PLAUEN_UA2018_v013.gpkg': 'DE063L1_PLAUEN_UA2018' (default), 'DE063L1_PLAUEN_UA2018_Boundary', 'DE063L1_PLAUEN_UA2018_UrbanCore'. Specify layer parameter to avoid this warning.\n",
      "  result = read_func(\n"
     ]
    },
    {
     "name": "stdout",
     "output_type": "stream",
     "text": [
      "Stuttgart\n"
     ]
    },
    {
     "name": "stderr",
     "output_type": "stream",
     "text": [
      "/home/krasen/urban_taxonomy/.pixi/envs/default/lib/python3.12/site-packages/pyogrio/geopandas.py:265: UserWarning: More than one layer found in 'DE007L1_STUTTGART_UA2018_v013.gpkg': 'DE007L1_STUTTGART_UA2018' (default), 'DE007L1_STUTTGART_UA2018_Boundary', 'DE007L1_STUTTGART_UA2018_UrbanCore'. Specify layer parameter to avoid this warning.\n",
      "  result = read_func(\n"
     ]
    },
    {
     "name": "stdout",
     "output_type": "stream",
     "text": [
      "Ulm\n"
     ]
    },
    {
     "name": "stderr",
     "output_type": "stream",
     "text": [
      "/home/krasen/urban_taxonomy/.pixi/envs/default/lib/python3.12/site-packages/pyogrio/geopandas.py:265: UserWarning: More than one layer found in 'DE532L1_ULM_UA2018_v013.gpkg': 'DE532L1_ULM_UA2018' (default), 'DE532L1_ULM_UA2018_Boundary', 'DE532L1_ULM_UA2018_UrbanCore'. Specify layer parameter to avoid this warning.\n",
      "  result = read_func(\n"
     ]
    },
    {
     "name": "stdout",
     "output_type": "stream",
     "text": [
      "Neubrandenburg\n"
     ]
    },
    {
     "name": "stderr",
     "output_type": "stream",
     "text": [
      "/home/krasen/urban_taxonomy/.pixi/envs/default/lib/python3.12/site-packages/pyogrio/geopandas.py:265: UserWarning: More than one layer found in 'DE064L1_NEUBRANDENBURG_UA2018_v013.gpkg': 'DE064L1_NEUBRANDENBURG_UA2018' (default), 'DE064L1_NEUBRANDENBURG_UA2018_Boundary', 'DE064L1_NEUBRANDENBURG_UA2018_UrbanCore'. Specify layer parameter to avoid this warning.\n",
      "  result = read_func(\n"
     ]
    },
    {
     "name": "stdout",
     "output_type": "stream",
     "text": [
      "Münster\n"
     ]
    },
    {
     "name": "stderr",
     "output_type": "stream",
     "text": [
      "/home/krasen/urban_taxonomy/.pixi/envs/default/lib/python3.12/site-packages/pyogrio/geopandas.py:265: UserWarning: More than one layer found in 'DE504L1_MUNSTER_UA2018_v013.gpkg': 'DE504L1_MUNSTER_UA2018' (default), 'DE504L1_MUNSTER_UA2018_Boundary', 'DE504L1_MUNSTER_UA2018_UrbanCore'. Specify layer parameter to avoid this warning.\n",
      "  result = read_func(\n"
     ]
    },
    {
     "name": "stdout",
     "output_type": "stream",
     "text": [
      "Aachen\n"
     ]
    },
    {
     "name": "stderr",
     "output_type": "stream",
     "text": [
      "/home/krasen/urban_taxonomy/.pixi/envs/default/lib/python3.12/site-packages/pyogrio/geopandas.py:265: UserWarning: More than one layer found in 'DE507L1_AACHEN_UA2018_v013.gpkg': 'DE507L1_AACHEN_UA2018' (default), 'DE507L1_AACHEN_UA2018_Boundary', 'DE507L1_AACHEN_UA2018_UrbanCore'. Specify layer parameter to avoid this warning.\n",
      "  result = read_func(\n"
     ]
    },
    {
     "name": "stdout",
     "output_type": "stream",
     "text": [
      "Zwickau\n"
     ]
    },
    {
     "name": "stderr",
     "output_type": "stream",
     "text": [
      "/home/krasen/urban_taxonomy/.pixi/envs/default/lib/python3.12/site-packages/pyogrio/geopandas.py:265: UserWarning: More than one layer found in 'DE544L1_ZWICKAU_UA2018_v013.gpkg': 'DE544L1_ZWICKAU_UA2018' (default), 'DE544L1_ZWICKAU_UA2018_Boundary', 'DE544L1_ZWICKAU_UA2018_UrbanCore'. Specify layer parameter to avoid this warning.\n",
      "  result = read_func(\n"
     ]
    },
    {
     "name": "stdout",
     "output_type": "stream",
     "text": [
      "Osnabrück\n"
     ]
    },
    {
     "name": "stderr",
     "output_type": "stream",
     "text": [
      "/home/krasen/urban_taxonomy/.pixi/envs/default/lib/python3.12/site-packages/pyogrio/geopandas.py:265: UserWarning: More than one layer found in 'DE517L1_OSNABRUCK_UA2018_v013.gpkg': 'DE517L1_OSNABRUCK_UA2018' (default), 'DE517L1_OSNABRUCK_UA2018_Boundary', 'DE517L1_OSNABRUCK_UA2018_UrbanCore'. Specify layer parameter to avoid this warning.\n",
      "  result = read_func(\n"
     ]
    },
    {
     "name": "stdout",
     "output_type": "stream",
     "text": [
      "Bremerhaven\n"
     ]
    },
    {
     "name": "stderr",
     "output_type": "stream",
     "text": [
      "/home/krasen/urban_taxonomy/.pixi/envs/default/lib/python3.12/site-packages/pyogrio/geopandas.py:265: UserWarning: More than one layer found in 'DE527L1_BREMERHAVEN_UA2018_v013.gpkg': 'DE527L1_BREMERHAVEN_UA2018' (default), 'DE527L1_BREMERHAVEN_UA2018_Boundary', 'DE527L1_BREMERHAVEN_UA2018_UrbanCore'. Specify layer parameter to avoid this warning.\n",
      "  result = read_func(\n"
     ]
    },
    {
     "name": "stdout",
     "output_type": "stream",
     "text": [
      "Gera\n"
     ]
    },
    {
     "name": "stderr",
     "output_type": "stream",
     "text": [
      "/home/krasen/urban_taxonomy/.pixi/envs/default/lib/python3.12/site-packages/pyogrio/geopandas.py:265: UserWarning: More than one layer found in 'DE535L1_GERA_UA2018_v013.gpkg': 'DE535L1_GERA_UA2018' (default), 'DE535L1_GERA_UA2018_Boundary', 'DE535L1_GERA_UA2018_UrbanCore'. Specify layer parameter to avoid this warning.\n",
      "  result = read_func(\n"
     ]
    },
    {
     "name": "stdout",
     "output_type": "stream",
     "text": [
      "Frankfurt am Main\n"
     ]
    },
    {
     "name": "stderr",
     "output_type": "stream",
     "text": [
      "/home/krasen/urban_taxonomy/.pixi/envs/default/lib/python3.12/site-packages/pyogrio/geopandas.py:265: UserWarning: More than one layer found in 'DE005L1_FRANKFURT_AM_MAIN_UA2018_v013.gpkg': 'DE005L1_FRANKFURT_AM_MAIN_UA2018' (default), 'DE005L1_FRANKFURT_AM_MAIN_UA2018_Boundary', 'DE005L1_FRANKFURT_AM_MAIN_UA2018_UrbanCore'. Specify layer parameter to avoid this warning.\n",
      "  result = read_func(\n"
     ]
    },
    {
     "name": "stdout",
     "output_type": "stream",
     "text": [
      "Celle\n"
     ]
    },
    {
     "name": "stderr",
     "output_type": "stream",
     "text": [
      "/home/krasen/urban_taxonomy/.pixi/envs/default/lib/python3.12/site-packages/pyogrio/geopandas.py:265: UserWarning: More than one layer found in 'DE060L1_CELLE_UA2018_v013.gpkg': 'DE060L1_CELLE_UA2018' (default), 'DE060L1_CELLE_UA2018_Boundary', 'DE060L1_CELLE_UA2018_UrbanCore'. Specify layer parameter to avoid this warning.\n",
      "  result = read_func(\n"
     ]
    },
    {
     "name": "stdout",
     "output_type": "stream",
     "text": [
      "Freiburg im Breisgau\n"
     ]
    },
    {
     "name": "stderr",
     "output_type": "stream",
     "text": [
      "/home/krasen/urban_taxonomy/.pixi/envs/default/lib/python3.12/site-packages/pyogrio/geopandas.py:265: UserWarning: More than one layer found in 'DE027L1_FREIBURG_IM_BREISGAU_UA2018_v013.gpkg': 'DE027L1_FREIBURG_IM_BREISGAU_UA2018' (default), 'DE027L1_FREIBURG_IM_BREISGAU_UA2018_Boundary', 'DE027L1_FREIBURG_IM_BREISGAU_UA2018_UrbanCore'. Specify layer parameter to avoid this warning.\n",
      "  result = read_func(\n"
     ]
    },
    {
     "name": "stdout",
     "output_type": "stream",
     "text": [
      "Kiel\n"
     ]
    },
    {
     "name": "stderr",
     "output_type": "stream",
     "text": [
      "/home/krasen/urban_taxonomy/.pixi/envs/default/lib/python3.12/site-packages/pyogrio/geopandas.py:265: UserWarning: More than one layer found in 'DE039L1_KIEL_UA2018_v013.gpkg': 'DE039L1_KIEL_UA2018' (default), 'DE039L1_KIEL_UA2018_Boundary', 'DE039L1_KIEL_UA2018_UrbanCore'. Specify layer parameter to avoid this warning.\n",
      "  result = read_func(\n"
     ]
    },
    {
     "name": "stdout",
     "output_type": "stream",
     "text": [
      "Magdeburg\n"
     ]
    },
    {
     "name": "stderr",
     "output_type": "stream",
     "text": [
      "/home/krasen/urban_taxonomy/.pixi/envs/default/lib/python3.12/site-packages/pyogrio/geopandas.py:265: UserWarning: More than one layer found in 'DE019L2_MAGDEBURG_UA2018_v013.gpkg': 'DE019L2_MAGDEBURG_UA2018' (default), 'DE019L2_MAGDEBURG_UA2018_Boundary', 'DE019L2_MAGDEBURG_UA2018_UrbanCore'. Specify layer parameter to avoid this warning.\n",
      "  result = read_func(\n"
     ]
    },
    {
     "name": "stdout",
     "output_type": "stream",
     "text": [
      "Bremen\n"
     ]
    },
    {
     "name": "stderr",
     "output_type": "stream",
     "text": [
      "/home/krasen/urban_taxonomy/.pixi/envs/default/lib/python3.12/site-packages/pyogrio/geopandas.py:265: UserWarning: More than one layer found in 'DE012L1_BREMEN_UA2018_v013.gpkg': 'DE012L1_BREMEN_UA2018' (default), 'DE012L1_BREMEN_UA2018_Boundary', 'DE012L1_BREMEN_UA2018_UrbanCore'. Specify layer parameter to avoid this warning.\n",
      "  result = read_func(\n"
     ]
    },
    {
     "name": "stdout",
     "output_type": "stream",
     "text": [
      "Bonn\n"
     ]
    },
    {
     "name": "stderr",
     "output_type": "stream",
     "text": [
      "/home/krasen/urban_taxonomy/.pixi/envs/default/lib/python3.12/site-packages/pyogrio/geopandas.py:265: UserWarning: More than one layer found in 'DE034L1_BONN_UA2018_v013.gpkg': 'DE034L1_BONN_UA2018' (default), 'DE034L1_BONN_UA2018_Boundary', 'DE034L1_BONN_UA2018_UrbanCore'. Specify layer parameter to avoid this warning.\n",
      "  result = read_func(\n"
     ]
    },
    {
     "name": "stdout",
     "output_type": "stream",
     "text": [
      "Wetzlar\n"
     ]
    },
    {
     "name": "stderr",
     "output_type": "stream",
     "text": [
      "/home/krasen/urban_taxonomy/.pixi/envs/default/lib/python3.12/site-packages/pyogrio/geopandas.py:265: UserWarning: More than one layer found in 'DE079L1_WETZLAR_UA2018_v013.gpkg': 'DE079L1_WETZLAR_UA2018' (default), 'DE079L1_WETZLAR_UA2018_Boundary', 'DE079L1_WETZLAR_UA2018_UrbanCore'. Specify layer parameter to avoid this warning.\n",
      "  result = read_func(\n"
     ]
    },
    {
     "name": "stdout",
     "output_type": "stream",
     "text": [
      "Ruhrgebiet\n"
     ]
    },
    {
     "name": "stderr",
     "output_type": "stream",
     "text": [
      "/home/krasen/urban_taxonomy/.pixi/envs/default/lib/python3.12/site-packages/pyogrio/geopandas.py:265: UserWarning: More than one layer found in 'DE038L1_RUHRGEBIET_UA2018_v013.gpkg': 'DE038L1_RUHRGEBIET_UA2018' (default), 'DE038L1_RUHRGEBIET_UA2018_Boundary'. Specify layer parameter to avoid this warning.\n",
      "  result = read_func(\n"
     ]
    },
    {
     "name": "stdout",
     "output_type": "stream",
     "text": [
      "Heilbronn\n"
     ]
    },
    {
     "name": "stderr",
     "output_type": "stream",
     "text": [
      "/home/krasen/urban_taxonomy/.pixi/envs/default/lib/python3.12/site-packages/pyogrio/geopandas.py:265: UserWarning: More than one layer found in 'DE529L1_HEILBRONN_UA2018_v013.gpkg': 'DE529L1_HEILBRONN_UA2018' (default), 'DE529L1_HEILBRONN_UA2018_Boundary', 'DE529L1_HEILBRONN_UA2018_UrbanCore'. Specify layer parameter to avoid this warning.\n",
      "  result = read_func(\n"
     ]
    },
    {
     "name": "stdout",
     "output_type": "stream",
     "text": [
      "Mainz\n"
     ]
    },
    {
     "name": "stderr",
     "output_type": "stream",
     "text": [
      "/home/krasen/urban_taxonomy/.pixi/envs/default/lib/python3.12/site-packages/pyogrio/geopandas.py:265: UserWarning: More than one layer found in 'DE037L1_MAINZ_UA2018_v013.gpkg': 'DE037L1_MAINZ_UA2018' (default), 'DE037L1_MAINZ_UA2018_Boundary', 'DE037L1_MAINZ_UA2018_UrbanCore'. Specify layer parameter to avoid this warning.\n",
      "  result = read_func(\n"
     ]
    },
    {
     "name": "stdout",
     "output_type": "stream",
     "text": [
      "Bamberg\n"
     ]
    },
    {
     "name": "stderr",
     "output_type": "stream",
     "text": [
      "/home/krasen/urban_taxonomy/.pixi/envs/default/lib/python3.12/site-packages/pyogrio/geopandas.py:265: UserWarning: More than one layer found in 'DE062L1_BAMBERG_UA2018_v013.gpkg': 'DE062L1_BAMBERG_UA2018' (default), 'DE062L1_BAMBERG_UA2018_Boundary', 'DE062L1_BAMBERG_UA2018_UrbanCore'. Specify layer parameter to avoid this warning.\n",
      "  result = read_func(\n"
     ]
    },
    {
     "name": "stdout",
     "output_type": "stream",
     "text": [
      "Bielefeld\n"
     ]
    },
    {
     "name": "stderr",
     "output_type": "stream",
     "text": [
      "/home/krasen/urban_taxonomy/.pixi/envs/default/lib/python3.12/site-packages/pyogrio/geopandas.py:265: UserWarning: More than one layer found in 'DE017L0_BIELEFELD_UA2018_v013.gpkg': 'DE017L0_BIELEFELD_UA2018' (default), 'DE017L0_BIELEFELD_UA2018_Boundary', 'DE017L0_BIELEFELD_UA2018_UrbanCore'. Specify layer parameter to avoid this warning.\n",
      "  result = read_func(\n"
     ]
    },
    {
     "name": "stdout",
     "output_type": "stream",
     "text": [
      "Heidelberg\n"
     ]
    },
    {
     "name": "stderr",
     "output_type": "stream",
     "text": [
      "/home/krasen/urban_taxonomy/.pixi/envs/default/lib/python3.12/site-packages/pyogrio/geopandas.py:265: UserWarning: More than one layer found in 'DE522L1_HEIDELBERG_UA2018_v013.gpkg': 'DE522L1_HEIDELBERG_UA2018' (default), 'DE522L1_HEIDELBERG_UA2018_Boundary', 'DE522L1_HEIDELBERG_UA2018_UrbanCore'. Specify layer parameter to avoid this warning.\n",
      "  result = read_func(\n"
     ]
    },
    {
     "name": "stdout",
     "output_type": "stream",
     "text": [
      "Koblenz\n"
     ]
    },
    {
     "name": "stderr",
     "output_type": "stream",
     "text": [
      "/home/krasen/urban_taxonomy/.pixi/envs/default/lib/python3.12/site-packages/pyogrio/geopandas.py:265: UserWarning: More than one layer found in 'DE042L1_KOBLENZ_UA2018_v013.gpkg': 'DE042L1_KOBLENZ_UA2018' (default), 'DE042L1_KOBLENZ_UA2018_Boundary', 'DE042L1_KOBLENZ_UA2018_UrbanCore'. Specify layer parameter to avoid this warning.\n",
      "  result = read_func(\n"
     ]
    },
    {
     "name": "stdout",
     "output_type": "stream",
     "text": [
      "Villingen-Schwenningen\n"
     ]
    },
    {
     "name": "stderr",
     "output_type": "stream",
     "text": [
      "/home/krasen/urban_taxonomy/.pixi/envs/default/lib/python3.12/site-packages/pyogrio/geopandas.py:265: UserWarning: More than one layer found in 'DE051L1_VILLINGEN_SCHWENNINGEN_UA2018_v013.gpkg': 'DE051L1_VILLINGEN_SCHWENNINGEN_UA2018' (default), 'DE051L1_VILLINGEN_SCHWENNINGEN_UA2018_Boundary', 'DE051L1_VILLINGEN_SCHWENNINGEN_UA2018_UrbanCore'. Specify layer parameter to avoid this warning.\n",
      "  result = read_func(\n"
     ]
    },
    {
     "name": "stdout",
     "output_type": "stream",
     "text": [
      "Wuppertal\n"
     ]
    },
    {
     "name": "stderr",
     "output_type": "stream",
     "text": [
      "/home/krasen/urban_taxonomy/.pixi/envs/default/lib/python3.12/site-packages/pyogrio/geopandas.py:265: UserWarning: More than one layer found in 'DE546L0_WUPPERTAL_UA2018_v013.gpkg': 'DE546L0_WUPPERTAL_UA2018' (default), 'DE546L0_WUPPERTAL_UA2018_Boundary', 'DE546L0_WUPPERTAL_UA2018_UrbanCore'. Specify layer parameter to avoid this warning.\n",
      "  result = read_func(\n"
     ]
    },
    {
     "name": "stdout",
     "output_type": "stream",
     "text": [
      "Tübingen\n"
     ]
    },
    {
     "name": "stderr",
     "output_type": "stream",
     "text": [
      "/home/krasen/urban_taxonomy/.pixi/envs/default/lib/python3.12/site-packages/pyogrio/geopandas.py:265: UserWarning: More than one layer found in 'DE050L1_TUBINGEN_UA2018_v013.gpkg': 'DE050L1_TUBINGEN_UA2018' (default), 'DE050L1_TUBINGEN_UA2018_Boundary', 'DE050L1_TUBINGEN_UA2018_UrbanCore'. Specify layer parameter to avoid this warning.\n",
      "  result = read_func(\n"
     ]
    },
    {
     "name": "stdout",
     "output_type": "stream",
     "text": [
      "Offenburg\n"
     ]
    },
    {
     "name": "stderr",
     "output_type": "stream",
     "text": [
      "/home/krasen/urban_taxonomy/.pixi/envs/default/lib/python3.12/site-packages/pyogrio/geopandas.py:265: UserWarning: More than one layer found in 'DE073L1_OFFENBURG_UA2018_v013.gpkg': 'DE073L1_OFFENBURG_UA2018' (default), 'DE073L1_OFFENBURG_UA2018_Boundary', 'DE073L1_OFFENBURG_UA2018_UrbanCore'. Specify layer parameter to avoid this warning.\n",
      "  result = read_func(\n"
     ]
    },
    {
     "name": "stdout",
     "output_type": "stream",
     "text": [
      "Reutlingen\n"
     ]
    },
    {
     "name": "stderr",
     "output_type": "stream",
     "text": [
      "/home/krasen/urban_taxonomy/.pixi/envs/default/lib/python3.12/site-packages/pyogrio/geopandas.py:265: UserWarning: More than one layer found in 'DE537L1_REUTLINGEN_UA2018_v013.gpkg': 'DE537L1_REUTLINGEN_UA2018' (default), 'DE537L1_REUTLINGEN_UA2018_Boundary', 'DE537L1_REUTLINGEN_UA2018_UrbanCore'. Specify layer parameter to avoid this warning.\n",
      "  result = read_func(\n"
     ]
    },
    {
     "name": "stdout",
     "output_type": "stream",
     "text": [
      "Friedrichshafen\n"
     ]
    },
    {
     "name": "stderr",
     "output_type": "stream",
     "text": [
      "/home/krasen/urban_taxonomy/.pixi/envs/default/lib/python3.12/site-packages/pyogrio/geopandas.py:265: UserWarning: More than one layer found in 'DE072L1_FRIEDRICHSHAFEN_UA2018_v013.gpkg': 'DE072L1_FRIEDRICHSHAFEN_UA2018' (default), 'DE072L1_FRIEDRICHSHAFEN_UA2018_Boundary', 'DE072L1_FRIEDRICHSHAFEN_UA2018_UrbanCore'. Specify layer parameter to avoid this warning.\n",
      "  result = read_func(\n"
     ]
    },
    {
     "name": "stdout",
     "output_type": "stream",
     "text": [
      "Dresden\n"
     ]
    },
    {
     "name": "stderr",
     "output_type": "stream",
     "text": [
      "/home/krasen/urban_taxonomy/.pixi/envs/default/lib/python3.12/site-packages/pyogrio/geopandas.py:265: UserWarning: More than one layer found in 'DE009L2_DRESDEN_UA2018_v013.gpkg': 'DE009L2_DRESDEN_UA2018' (default), 'DE009L2_DRESDEN_UA2018_Boundary', 'DE009L2_DRESDEN_UA2018_UrbanCore'. Specify layer parameter to avoid this warning.\n",
      "  result = read_func(\n"
     ]
    },
    {
     "name": "stdout",
     "output_type": "stream",
     "text": [
      "Neumünster\n"
     ]
    },
    {
     "name": "stderr",
     "output_type": "stream",
     "text": [
      "/home/krasen/urban_taxonomy/.pixi/envs/default/lib/python3.12/site-packages/pyogrio/geopandas.py:265: UserWarning: More than one layer found in 'DE055L0_NEUMUNSTER_UA2018_v013.gpkg': 'DE055L0_NEUMUNSTER_UA2018' (default), 'DE055L0_NEUMUNSTER_UA2018_Boundary', 'DE055L0_NEUMUNSTER_UA2018_UrbanCore'. Specify layer parameter to avoid this warning.\n",
      "  result = read_func(\n"
     ]
    },
    {
     "name": "stdout",
     "output_type": "stream",
     "text": [
      "Hannover\n"
     ]
    },
    {
     "name": "stderr",
     "output_type": "stream",
     "text": [
      "/home/krasen/urban_taxonomy/.pixi/envs/default/lib/python3.12/site-packages/pyogrio/geopandas.py:265: UserWarning: More than one layer found in 'DE013L1_HANNOVER_UA2018_v013.gpkg': 'DE013L1_HANNOVER_UA2018' (default), 'DE013L1_HANNOVER_UA2018_Boundary', 'DE013L1_HANNOVER_UA2018_UrbanCore'. Specify layer parameter to avoid this warning.\n",
      "  result = read_func(\n"
     ]
    },
    {
     "name": "stdout",
     "output_type": "stream",
     "text": [
      "Oldenburg (Oldenburg)\n"
     ]
    },
    {
     "name": "stderr",
     "output_type": "stream",
     "text": [
      "/home/krasen/urban_taxonomy/.pixi/envs/default/lib/python3.12/site-packages/pyogrio/geopandas.py:265: UserWarning: More than one layer found in 'DE520L1_OLDENBURG_OLDENBURG_UA2018_v013.gpkg': 'DE520L1_OLDENBURG_OLDENBURG_UA2018' (default), 'DE520L1_OLDENBURG_OLDENBURG_UA2018_Boundary', 'DE520L1_OLDENBURG_OLDENBURG_UA2018_UrbanCore'. Specify layer parameter to avoid this warning.\n",
      "  result = read_func(\n"
     ]
    },
    {
     "name": "stdout",
     "output_type": "stream",
     "text": [
      "Siegen\n"
     ]
    },
    {
     "name": "stderr",
     "output_type": "stream",
     "text": [
      "/home/krasen/urban_taxonomy/.pixi/envs/default/lib/python3.12/site-packages/pyogrio/geopandas.py:265: UserWarning: More than one layer found in 'DE540L2_SIEGEN_UA2018_v013.gpkg': 'DE540L2_SIEGEN_UA2018' (default), 'DE540L2_SIEGEN_UA2018_Boundary', 'DE540L2_SIEGEN_UA2018_UrbanCore'. Specify layer parameter to avoid this warning.\n",
      "  result = read_func(\n"
     ]
    },
    {
     "name": "stdout",
     "output_type": "stream",
     "text": [
      "Trier\n"
     ]
    },
    {
     "name": "stderr",
     "output_type": "stream",
     "text": [
      "/home/krasen/urban_taxonomy/.pixi/envs/default/lib/python3.12/site-packages/pyogrio/geopandas.py:265: UserWarning: More than one layer found in 'DE026L1_TRIER_UA2018_v013.gpkg': 'DE026L1_TRIER_UA2018' (default), 'DE026L1_TRIER_UA2018_Boundary', 'DE026L1_TRIER_UA2018_UrbanCore'. Specify layer parameter to avoid this warning.\n",
      "  result = read_func(\n"
     ]
    },
    {
     "name": "stdout",
     "output_type": "stream",
     "text": [
      "Saarbrücken\n"
     ]
    },
    {
     "name": "stderr",
     "output_type": "stream",
     "text": [
      "/home/krasen/urban_taxonomy/.pixi/envs/default/lib/python3.12/site-packages/pyogrio/geopandas.py:265: UserWarning: More than one layer found in 'DE040L1_SAARBRUCKEN_UA2018_v013.gpkg': 'DE040L1_SAARBRUCKEN_UA2018' (default), 'DE040L1_SAARBRUCKEN_UA2018_Boundary', 'DE040L1_SAARBRUCKEN_UA2018_UrbanCore'. Specify layer parameter to avoid this warning.\n",
      "  result = read_func(\n"
     ]
    },
    {
     "name": "stdout",
     "output_type": "stream",
     "text": [
      "Köln\n"
     ]
    },
    {
     "name": "stderr",
     "output_type": "stream",
     "text": [
      "/home/krasen/urban_taxonomy/.pixi/envs/default/lib/python3.12/site-packages/pyogrio/geopandas.py:265: UserWarning: More than one layer found in 'DE004L1_KOLN_UA2018_v013.gpkg': 'DE004L1_KOLN_UA2018' (default), 'DE004L1_KOLN_UA2018_Boundary', 'DE004L1_KOLN_UA2018_UrbanCore'. Specify layer parameter to avoid this warning.\n",
      "  result = read_func(\n"
     ]
    },
    {
     "name": "stdout",
     "output_type": "stream",
     "text": [
      "Düsseldorf\n"
     ]
    },
    {
     "name": "stderr",
     "output_type": "stream",
     "text": [
      "/home/krasen/urban_taxonomy/.pixi/envs/default/lib/python3.12/site-packages/pyogrio/geopandas.py:265: UserWarning: More than one layer found in 'DE011L1_DUSSELDORF_UA2018_v013.gpkg': 'DE011L1_DUSSELDORF_UA2018' (default), 'DE011L1_DUSSELDORF_UA2018_Boundary', 'DE011L1_DUSSELDORF_UA2018_UrbanCore'. Specify layer parameter to avoid this warning.\n",
      "  result = read_func(\n"
     ]
    },
    {
     "name": "stdout",
     "output_type": "stream",
     "text": [
      "Aschaffenburg\n"
     ]
    },
    {
     "name": "stderr",
     "output_type": "stream",
     "text": [
      "/home/krasen/urban_taxonomy/.pixi/envs/default/lib/python3.12/site-packages/pyogrio/geopandas.py:265: UserWarning: More than one layer found in 'DE061L1_ASCHAFFENBURG_UA2018_v013.gpkg': 'DE061L1_ASCHAFFENBURG_UA2018' (default), 'DE061L1_ASCHAFFENBURG_UA2018_Boundary', 'DE061L1_ASCHAFFENBURG_UA2018_UrbanCore'. Specify layer parameter to avoid this warning.\n",
      "  result = read_func(\n"
     ]
    },
    {
     "name": "stdout",
     "output_type": "stream",
     "text": [
      "Hamburg\n"
     ]
    },
    {
     "name": "stderr",
     "output_type": "stream",
     "text": [
      "/home/krasen/urban_taxonomy/.pixi/envs/default/lib/python3.12/site-packages/pyogrio/geopandas.py:265: UserWarning: More than one layer found in 'DE002L1_HAMBURG_UA2018_v013.gpkg': 'DE002L1_HAMBURG_UA2018' (default), 'DE002L1_HAMBURG_UA2018_Boundary', 'DE002L1_HAMBURG_UA2018_UrbanCore'. Specify layer parameter to avoid this warning.\n",
      "  result = read_func(\n"
     ]
    },
    {
     "name": "stdout",
     "output_type": "stream",
     "text": [
      "Dessau-Roßlau\n"
     ]
    },
    {
     "name": "stderr",
     "output_type": "stream",
     "text": [
      "/home/krasen/urban_taxonomy/.pixi/envs/default/lib/python3.12/site-packages/pyogrio/geopandas.py:265: UserWarning: More than one layer found in 'DE082L0_DESSAU_ROSSLAU_UA2018_v013.gpkg': 'DE082L0_DESSAU_ROSSLAU_UA2018' (default), 'DE082L0_DESSAU_ROSSLAU_UA2018_Boundary', 'DE082L0_DESSAU_ROSSLAU_UA2018_UrbanCore'. Specify layer parameter to avoid this warning.\n",
      "  result = read_func(\n"
     ]
    },
    {
     "name": "stdout",
     "output_type": "stream",
     "text": [
      "Erfurt\n"
     ]
    },
    {
     "name": "stderr",
     "output_type": "stream",
     "text": [
      "/home/krasen/urban_taxonomy/.pixi/envs/default/lib/python3.12/site-packages/pyogrio/geopandas.py:265: UserWarning: More than one layer found in 'DE032L1_ERFURT_UA2018_v013.gpkg': 'DE032L1_ERFURT_UA2018' (default), 'DE032L1_ERFURT_UA2018_Boundary', 'DE032L1_ERFURT_UA2018_UrbanCore'. Specify layer parameter to avoid this warning.\n",
      "  result = read_func(\n"
     ]
    },
    {
     "name": "stdout",
     "output_type": "stream",
     "text": [
      "Cottbus\n"
     ]
    },
    {
     "name": "stderr",
     "output_type": "stream",
     "text": [
      "/home/krasen/urban_taxonomy/.pixi/envs/default/lib/python3.12/site-packages/pyogrio/geopandas.py:265: UserWarning: More than one layer found in 'DE539L1_COTTBUS_UA2018_v013.gpkg': 'DE539L1_COTTBUS_UA2018' (default), 'DE539L1_COTTBUS_UA2018_Boundary', 'DE539L1_COTTBUS_UA2018_UrbanCore'. Specify layer parameter to avoid this warning.\n",
      "  result = read_func(\n"
     ]
    },
    {
     "name": "stdout",
     "output_type": "stream",
     "text": [
      "Iserlohn\n"
     ]
    },
    {
     "name": "stderr",
     "output_type": "stream",
     "text": [
      "/home/krasen/urban_taxonomy/.pixi/envs/default/lib/python3.12/site-packages/pyogrio/geopandas.py:265: UserWarning: More than one layer found in 'DE045L1_ISERLOHN_UA2018_v013.gpkg': 'DE045L1_ISERLOHN_UA2018' (default), 'DE045L1_ISERLOHN_UA2018_Boundary', 'DE045L1_ISERLOHN_UA2018_UrbanCore'. Specify layer parameter to avoid this warning.\n",
      "  result = read_func(\n"
     ]
    },
    {
     "name": "stdout",
     "output_type": "stream",
     "text": [
      "Gießen\n"
     ]
    },
    {
     "name": "stderr",
     "output_type": "stream",
     "text": [
      "/home/krasen/urban_taxonomy/.pixi/envs/default/lib/python3.12/site-packages/pyogrio/geopandas.py:265: UserWarning: More than one layer found in 'DE057L1_GIESSEN_UA2018_v013.gpkg': 'DE057L1_GIESSEN_UA2018' (default), 'DE057L1_GIESSEN_UA2018_Boundary', 'DE057L1_GIESSEN_UA2018_UrbanCore'. Specify layer parameter to avoid this warning.\n",
      "  result = read_func(\n"
     ]
    },
    {
     "name": "stdout",
     "output_type": "stream",
     "text": [
      "Jena\n"
     ]
    },
    {
     "name": "stderr",
     "output_type": "stream",
     "text": [
      "/home/krasen/urban_taxonomy/.pixi/envs/default/lib/python3.12/site-packages/pyogrio/geopandas.py:265: UserWarning: More than one layer found in 'DE547L2_JENA_UA2018_v013.gpkg': 'DE547L2_JENA_UA2018' (default), 'DE547L2_JENA_UA2018_Boundary', 'DE547L2_JENA_UA2018_UrbanCore'. Specify layer parameter to avoid this warning.\n",
      "  result = read_func(\n"
     ]
    },
    {
     "name": "stdout",
     "output_type": "stream",
     "text": [
      "Braunschweig-Salzgitter-Wolfsburg\n"
     ]
    },
    {
     "name": "stderr",
     "output_type": "stream",
     "text": [
      "/home/krasen/urban_taxonomy/.pixi/envs/default/lib/python3.12/site-packages/pyogrio/geopandas.py:265: UserWarning: More than one layer found in 'DE083L1_BRAUNSCHWEIG_SALZGITTER_WOLFSBURG_UA2018_v013.gpkg': 'DE083L1_BRAUNSCHWEIG_SALZGITTER_WOLFSBURG_UA2018' (default), 'DE083L1_BRAUNSCHWEIG_SALZGITTER_WOLFSBURG_UA2018_Boundary'. Specify layer parameter to avoid this warning.\n",
      "  result = read_func(\n"
     ]
    },
    {
     "name": "stdout",
     "output_type": "stream",
     "text": [
      "Görlitz\n"
     ]
    },
    {
     "name": "stderr",
     "output_type": "stream",
     "text": [
      "/home/krasen/urban_taxonomy/.pixi/envs/default/lib/python3.12/site-packages/pyogrio/geopandas.py:265: UserWarning: More than one layer found in 'DE074L1_GORLITZ_UA2018_v013.gpkg': 'DE074L1_GORLITZ_UA2018' (default), 'DE074L1_GORLITZ_UA2018_Boundary', 'DE074L1_GORLITZ_UA2018_UrbanCore'. Specify layer parameter to avoid this warning.\n",
      "  result = read_func(\n"
     ]
    },
    {
     "name": "stdout",
     "output_type": "stream",
     "text": [
      "Göttingen\n"
     ]
    },
    {
     "name": "stderr",
     "output_type": "stream",
     "text": [
      "/home/krasen/urban_taxonomy/.pixi/envs/default/lib/python3.12/site-packages/pyogrio/geopandas.py:265: UserWarning: More than one layer found in 'DE021L1_GOTTINGEN_UA2018_v013.gpkg': 'DE021L1_GOTTINGEN_UA2018' (default), 'DE021L1_GOTTINGEN_UA2018_Boundary', 'DE021L1_GOTTINGEN_UA2018_UrbanCore'. Specify layer parameter to avoid this warning.\n",
      "  result = read_func(\n"
     ]
    },
    {
     "name": "stdout",
     "output_type": "stream",
     "text": [
      "Bocholt\n"
     ]
    },
    {
     "name": "stderr",
     "output_type": "stream",
     "text": [
      "/home/krasen/urban_taxonomy/.pixi/envs/default/lib/python3.12/site-packages/pyogrio/geopandas.py:265: UserWarning: More than one layer found in 'DE549L1_BOCHOLT_UA2018_v013.gpkg': 'DE549L1_BOCHOLT_UA2018' (default), 'DE549L1_BOCHOLT_UA2018_Boundary'. Specify layer parameter to avoid this warning.\n",
      "  result = read_func(\n"
     ]
    },
    {
     "name": "stdout",
     "output_type": "stream",
     "text": [
      "Krefeld\n"
     ]
    },
    {
     "name": "stderr",
     "output_type": "stream",
     "text": [
      "/home/krasen/urban_taxonomy/.pixi/envs/default/lib/python3.12/site-packages/pyogrio/geopandas.py:265: UserWarning: More than one layer found in 'DE508L0_KREFELD_UA2018_v013.gpkg': 'DE508L0_KREFELD_UA2018' (default), 'DE508L0_KREFELD_UA2018_Boundary', 'DE508L0_KREFELD_UA2018_UrbanCore'. Specify layer parameter to avoid this warning.\n",
      "  result = read_func(\n"
     ]
    },
    {
     "name": "stdout",
     "output_type": "stream",
     "text": [
      "Stralsund\n"
     ]
    },
    {
     "name": "stderr",
     "output_type": "stream",
     "text": [
      "/home/krasen/urban_taxonomy/.pixi/envs/default/lib/python3.12/site-packages/pyogrio/geopandas.py:265: UserWarning: More than one layer found in 'DE071L1_STRALSUND_UA2018_v013.gpkg': 'DE071L1_STRALSUND_UA2018' (default), 'DE071L1_STRALSUND_UA2018_Boundary', 'DE071L1_STRALSUND_UA2018_UrbanCore'. Specify layer parameter to avoid this warning.\n",
      "  result = read_func(\n"
     ]
    },
    {
     "name": "stdout",
     "output_type": "stream",
     "text": [
      "Landshut\n"
     ]
    },
    {
     "name": "stderr",
     "output_type": "stream",
     "text": [
      "/home/krasen/urban_taxonomy/.pixi/envs/default/lib/python3.12/site-packages/pyogrio/geopandas.py:265: UserWarning: More than one layer found in 'DE067L1_LANDSHUT_UA2018_v013.gpkg': 'DE067L1_LANDSHUT_UA2018' (default), 'DE067L1_LANDSHUT_UA2018_Boundary', 'DE067L1_LANDSHUT_UA2018_UrbanCore'. Specify layer parameter to avoid this warning.\n",
      "  result = read_func(\n"
     ]
    },
    {
     "name": "stdout",
     "output_type": "stream",
     "text": [
      "Schweinfurt\n"
     ]
    },
    {
     "name": "stderr",
     "output_type": "stream",
     "text": [
      "/home/krasen/urban_taxonomy/.pixi/envs/default/lib/python3.12/site-packages/pyogrio/geopandas.py:265: UserWarning: More than one layer found in 'DE077L1_SCHWEINFURT_UA2018_v013.gpkg': 'DE077L1_SCHWEINFURT_UA2018' (default), 'DE077L1_SCHWEINFURT_UA2018_Boundary', 'DE077L1_SCHWEINFURT_UA2018_UrbanCore'. Specify layer parameter to avoid this warning.\n",
      "  result = read_func(\n"
     ]
    },
    {
     "name": "stdout",
     "output_type": "stream",
     "text": [
      "Lüneburg\n"
     ]
    },
    {
     "name": "stderr",
     "output_type": "stream",
     "text": [
      "/home/krasen/urban_taxonomy/.pixi/envs/default/lib/python3.12/site-packages/pyogrio/geopandas.py:265: UserWarning: More than one layer found in 'DE058L1_LUNEBURG_UA2018_v013.gpkg': 'DE058L1_LUNEBURG_UA2018' (default), 'DE058L1_LUNEBURG_UA2018_Boundary', 'DE058L1_LUNEBURG_UA2018_UrbanCore'. Specify layer parameter to avoid this warning.\n",
      "  result = read_func(\n"
     ]
    },
    {
     "name": "stdout",
     "output_type": "stream",
     "text": [
      "Wilhelmshaven\n"
     ]
    },
    {
     "name": "stderr",
     "output_type": "stream",
     "text": [
      "/home/krasen/urban_taxonomy/.pixi/envs/default/lib/python3.12/site-packages/pyogrio/geopandas.py:265: UserWarning: More than one layer found in 'DE048L1_WILHELMSHAVEN_UA2018_v013.gpkg': 'DE048L1_WILHELMSHAVEN_UA2018' (default), 'DE048L1_WILHELMSHAVEN_UA2018_Boundary', 'DE048L1_WILHELMSHAVEN_UA2018_UrbanCore'. Specify layer parameter to avoid this warning.\n",
      "  result = read_func(\n"
     ]
    },
    {
     "name": "stdout",
     "output_type": "stream",
     "text": [
      "Solingen\n"
     ]
    },
    {
     "name": "stderr",
     "output_type": "stream",
     "text": [
      "/home/krasen/urban_taxonomy/.pixi/envs/default/lib/python3.12/site-packages/pyogrio/geopandas.py:265: UserWarning: More than one layer found in 'DE516L0_SOLINGEN_UA2018_v013.gpkg': 'DE516L0_SOLINGEN_UA2018' (default), 'DE516L0_SOLINGEN_UA2018_Boundary', 'DE516L0_SOLINGEN_UA2018_UrbanCore'. Specify layer parameter to avoid this warning.\n",
      "  result = read_func(\n"
     ]
    },
    {
     "name": "stdout",
     "output_type": "stream",
     "text": [
      "Flensburg\n"
     ]
    },
    {
     "name": "stderr",
     "output_type": "stream",
     "text": [
      "/home/krasen/urban_taxonomy/.pixi/envs/default/lib/python3.12/site-packages/pyogrio/geopandas.py:265: UserWarning: More than one layer found in 'DE052L1_FLENSBURG_UA2018_v013.gpkg': 'DE052L1_FLENSBURG_UA2018' (default), 'DE052L1_FLENSBURG_UA2018_Boundary', 'DE052L1_FLENSBURG_UA2018_UrbanCore'. Specify layer parameter to avoid this warning.\n",
      "  result = read_func(\n"
     ]
    },
    {
     "name": "stdout",
     "output_type": "stream",
     "text": [
      "Greifswald\n"
     ]
    },
    {
     "name": "stderr",
     "output_type": "stream",
     "text": [
      "/home/krasen/urban_taxonomy/.pixi/envs/default/lib/python3.12/site-packages/pyogrio/geopandas.py:265: UserWarning: More than one layer found in 'DE078L1_GREIFSWALD_UA2018_v013.gpkg': 'DE078L1_GREIFSWALD_UA2018' (default), 'DE078L1_GREIFSWALD_UA2018_Boundary', 'DE078L1_GREIFSWALD_UA2018_UrbanCore'. Specify layer parameter to avoid this warning.\n",
      "  result = read_func(\n"
     ]
    },
    {
     "name": "stdout",
     "output_type": "stream",
     "text": [
      "Darmstadt\n"
     ]
    },
    {
     "name": "stderr",
     "output_type": "stream",
     "text": [
      "/home/krasen/urban_taxonomy/.pixi/envs/default/lib/python3.12/site-packages/pyogrio/geopandas.py:265: UserWarning: More than one layer found in 'DE025L1_DARMSTADT_UA2018_v013.gpkg': 'DE025L1_DARMSTADT_UA2018' (default), 'DE025L1_DARMSTADT_UA2018_Boundary', 'DE025L1_DARMSTADT_UA2018_UrbanCore'. Specify layer parameter to avoid this warning.\n",
      "  result = read_func(\n"
     ]
    },
    {
     "name": "stdout",
     "output_type": "stream",
     "text": [
      "Fulda\n"
     ]
    },
    {
     "name": "stderr",
     "output_type": "stream",
     "text": [
      "/home/krasen/urban_taxonomy/.pixi/envs/default/lib/python3.12/site-packages/pyogrio/geopandas.py:265: UserWarning: More than one layer found in 'DE065L1_FULDA_UA2018_v013.gpkg': 'DE065L1_FULDA_UA2018' (default), 'DE065L1_FULDA_UA2018_Boundary', 'DE065L1_FULDA_UA2018_UrbanCore'. Specify layer parameter to avoid this warning.\n",
      "  result = read_func(\n"
     ]
    },
    {
     "name": "stdout",
     "output_type": "stream",
     "text": [
      "Leipzig\n"
     ]
    },
    {
     "name": "stderr",
     "output_type": "stream",
     "text": [
      "/home/krasen/urban_taxonomy/.pixi/envs/default/lib/python3.12/site-packages/pyogrio/geopandas.py:265: UserWarning: More than one layer found in 'DE008L2_LEIPZIG_UA2018_v013.gpkg': 'DE008L2_LEIPZIG_UA2018' (default), 'DE008L2_LEIPZIG_UA2018_Boundary', 'DE008L2_LEIPZIG_UA2018_UrbanCore'. Specify layer parameter to avoid this warning.\n",
      "  result = read_func(\n"
     ]
    },
    {
     "name": "stdout",
     "output_type": "stream",
     "text": [
      "Karlsruhe\n"
     ]
    },
    {
     "name": "stderr",
     "output_type": "stream",
     "text": [
      "/home/krasen/urban_taxonomy/.pixi/envs/default/lib/python3.12/site-packages/pyogrio/geopandas.py:265: UserWarning: More than one layer found in 'DE035L1_KARLSRUHE_UA2018_v013.gpkg': 'DE035L1_KARLSRUHE_UA2018' (default), 'DE035L1_KARLSRUHE_UA2018_Boundary', 'DE035L1_KARLSRUHE_UA2018_UrbanCore'. Specify layer parameter to avoid this warning.\n",
      "  result = read_func(\n"
     ]
    },
    {
     "name": "stdout",
     "output_type": "stream",
     "text": [
      "Vilnius\n"
     ]
    },
    {
     "name": "stderr",
     "output_type": "stream",
     "text": [
      "/home/krasen/urban_taxonomy/.pixi/envs/default/lib/python3.12/site-packages/pyogrio/geopandas.py:265: UserWarning: More than one layer found in 'LT001L1_VILNIUS_UA2018_v013.gpkg': 'LT001L1_VILNIUS_UA2018' (default), 'LT001L1_VILNIUS_UA2018_Boundary', 'LT001L1_VILNIUS_UA2018_UrbanCore'. Specify layer parameter to avoid this warning.\n",
      "  result = read_func(\n"
     ]
    },
    {
     "name": "stdout",
     "output_type": "stream",
     "text": [
      "Klaipėda\n"
     ]
    },
    {
     "name": "stderr",
     "output_type": "stream",
     "text": [
      "/home/krasen/urban_taxonomy/.pixi/envs/default/lib/python3.12/site-packages/pyogrio/geopandas.py:265: UserWarning: More than one layer found in 'LT501L0_KLAIPEDA_UA2018_v013.gpkg': 'LT501L0_KLAIPEDA_UA2018' (default), 'LT501L0_KLAIPEDA_UA2018_Boundary', 'LT501L0_KLAIPEDA_UA2018_UrbanCore'. Specify layer parameter to avoid this warning.\n",
      "  result = read_func(\n"
     ]
    },
    {
     "name": "stdout",
     "output_type": "stream",
     "text": [
      "Alytus\n"
     ]
    },
    {
     "name": "stderr",
     "output_type": "stream",
     "text": [
      "/home/krasen/urban_taxonomy/.pixi/envs/default/lib/python3.12/site-packages/pyogrio/geopandas.py:265: UserWarning: More than one layer found in 'LT004L0_ALYTUS_UA2018_v013.gpkg': 'LT004L0_ALYTUS_UA2018' (default), 'LT004L0_ALYTUS_UA2018_Boundary', 'LT004L0_ALYTUS_UA2018_UrbanCore'. Specify layer parameter to avoid this warning.\n",
      "  result = read_func(\n"
     ]
    },
    {
     "name": "stdout",
     "output_type": "stream",
     "text": [
      "Kaunas\n"
     ]
    },
    {
     "name": "stderr",
     "output_type": "stream",
     "text": [
      "/home/krasen/urban_taxonomy/.pixi/envs/default/lib/python3.12/site-packages/pyogrio/geopandas.py:265: UserWarning: More than one layer found in 'LT002L1_KAUNAS_UA2018_v013.gpkg': 'LT002L1_KAUNAS_UA2018' (default), 'LT002L1_KAUNAS_UA2018_Boundary', 'LT002L1_KAUNAS_UA2018_UrbanCore'. Specify layer parameter to avoid this warning.\n",
      "  result = read_func(\n"
     ]
    },
    {
     "name": "stdout",
     "output_type": "stream",
     "text": [
      "Panevėžys\n"
     ]
    },
    {
     "name": "stderr",
     "output_type": "stream",
     "text": [
      "/home/krasen/urban_taxonomy/.pixi/envs/default/lib/python3.12/site-packages/pyogrio/geopandas.py:265: UserWarning: More than one layer found in 'LT003L1_PANEVEZYS_UA2018_v013.gpkg': 'LT003L1_PANEVEZYS_UA2018' (default), 'LT003L1_PANEVEZYS_UA2018_Boundary', 'LT003L1_PANEVEZYS_UA2018_UrbanCore'. Specify layer parameter to avoid this warning.\n",
      "  result = read_func(\n"
     ]
    },
    {
     "name": "stdout",
     "output_type": "stream",
     "text": [
      "Šiauliai\n",
      "CPU times: user 55min 40s, sys: 1min 41s, total: 57min 22s\n",
      "Wall time: 55min 57s\n"
     ]
    },
    {
     "name": "stderr",
     "output_type": "stream",
     "text": [
      "/home/krasen/urban_taxonomy/.pixi/envs/default/lib/python3.12/site-packages/pyogrio/geopandas.py:265: UserWarning: More than one layer found in 'LT502L0_SIAULIAI_UA2018_v013.gpkg': 'LT502L0_SIAULIAI_UA2018' (default), 'LT502L0_SIAULIAI_UA2018_Boundary', 'LT502L0_SIAULIAI_UA2018_UrbanCore'. Specify layer parameter to avoid this warning.\n",
      "  result = read_func(\n"
     ]
    }
   ],
   "source": [
    "%%time\n",
    "\n",
    "results = []\n",
    "\n",
    "for _, row in urban_atlast_regions.iterrows():\n",
    "    print(row.fua_name)\n",
    "\n",
    "    # read all buildings data that intersects with the urban atlast fua\n",
    "    buildings_data = []\n",
    "    region_intersections = regions[regions.intersects(row[\"geometry\"])]\n",
    "    for region_id in region_intersections.index:\n",
    "        buildings = gpd.read_parquet(\n",
    "            f\"/data/uscuni-ulce/processed_data/clusters/clusters_{region_id}_{v}.pq\"\n",
    "        )\n",
    "        buildings_within_fua = buildings.centroid.within(row[\"geometry\"])\n",
    "        buildings_data.append(buildings[buildings_within_fua])\n",
    "    buildings_data = pd.concat(buildings_data, ignore_index=True)\n",
    "\n",
    "    # read urban atlast data\n",
    "    urban_atlas_data = gpd.read_file(row[\"filepath\"])\n",
    "\n",
    "    ## spatially join buildings and urban atlas areas\n",
    "    inp, res = buildings_data.centroid.sindex.query(\n",
    "        urban_atlas_data.geometry, predicate=\"intersects\"\n",
    "    )\n",
    "    buildings_data[\"class_2018\"] = \"\"\n",
    "    buildings_data.iloc[res, -1] = urban_atlas_data.iloc[inp, 4]\n",
    "    buildings_data[\"fua_name\"] = row.fua_name\n",
    "\n",
    "    results.append(buildings_data)"
   ]
  },
  {
   "cell_type": "code",
   "execution_count": 9,
   "id": "1cbf5de8-ecdd-417b-8a58-af5e16d406ca",
   "metadata": {},
   "outputs": [
    {
     "name": "stdout",
     "output_type": "stream",
     "text": [
      "CPU times: user 8.51 s, sys: 1.81 s, total: 10.3 s\n",
      "Wall time: 10.3 s\n"
     ]
    }
   ],
   "source": [
    "%%time\n",
    "all_data = pd.concat(results)"
   ]
  },
  {
   "cell_type": "code",
   "execution_count": 10,
   "id": "02089bca-16e1-4aaa-8ef4-68bd011f57bc",
   "metadata": {},
   "outputs": [],
   "source": [
    "all_data.to_parquet(\"../data/urban_atlast_validation.pq\")"
   ]
  },
  {
   "cell_type": "markdown",
   "id": "65955c45-08e9-4805-96ee-289545c14dcd",
   "metadata": {},
   "source": [
    "### Generate table"
   ]
  },
  {
   "cell_type": "code",
   "execution_count": 3,
   "id": "c3ceb18f-545e-4b33-99f2-cfc6689941b6",
   "metadata": {},
   "outputs": [],
   "source": [
    "v = \"v10\""
   ]
  },
  {
   "cell_type": "code",
   "execution_count": 4,
   "id": "b80877d1-c157-4c0f-a693-f85a237b345a",
   "metadata": {},
   "outputs": [],
   "source": [
    "all_data = gpd.read_parquet(\"../data/urban_atlast_validation.pq\")"
   ]
  },
  {
   "cell_type": "code",
   "execution_count": 5,
   "id": "7de52488-f22b-4873-a6b3-6fef08ae2205",
   "metadata": {},
   "outputs": [],
   "source": [
    "cluster_mapping = pd.read_parquet(\n",
    "    f\"/data/uscuni-ulce/processed_data/clusters/cluster_mapping_{v}.pq\"\n",
    ")"
   ]
  },
  {
   "cell_type": "code",
   "execution_count": 6,
   "id": "e47ff593-6ba1-47a3-8ae0-12aa00308e0f",
   "metadata": {},
   "outputs": [],
   "source": [
    "all_data[\"map_label\"] = all_data[\"final_without_noise\"].map(\n",
    "    cluster_mapping[3].to_dict()\n",
    ")"
   ]
  },
  {
   "cell_type": "code",
   "execution_count": 15,
   "id": "5a8d651e-5810-4be2-87a1-1cfb7f8fbbcc",
   "metadata": {},
   "outputs": [],
   "source": [
    "himoc_urbanatlas_tab = pd.crosstab(\n",
    "    all_data.map_label, all_data.class_2018, normalize=\"index\"\n",
    ")\n",
    "himoc_urbanatlas_tab.index = himoc_urbanatlas_tab.index.map(get_cluster_names(3)).values"
   ]
  },
  {
   "cell_type": "code",
   "execution_count": 16,
   "id": "f49ad9ad-a76e-41d3-9d9a-cd7f9b664f20",
   "metadata": {},
   "outputs": [],
   "source": [
    "himoc_urbanatlas_tab.columns.name = \"\""
   ]
  },
  {
   "cell_type": "code",
   "execution_count": 18,
   "id": "5632e710-5674-4886-a902-e0134320332d",
   "metadata": {},
   "outputs": [],
   "source": [
    "selected_cols = [\n",
    "    \"Continuous urban fabric (S.L. : > 80%)\",\n",
    "    \"Discontinuous dense urban fabric (S.L. : 50% -  80%)\",\n",
    "    \"Discontinuous low density urban fabric (S.L. : 10% - 30%)\",\n",
    "    \"Discontinuous medium density urban fabric (S.L. : 30% - 50%)\",\n",
    "    \"Discontinuous very low density urban fabric (S.L. : < 10%)\",\n",
    "    \"Industrial, commercial, public, military and private units\",\n",
    "    \"Isolated structures\",\n",
    "]"
   ]
  },
  {
   "cell_type": "code",
   "execution_count": 19,
   "id": "f342260a-f602-48f3-8ae1-508446c2bdcf",
   "metadata": {},
   "outputs": [
    {
     "data": {
      "text/html": [
       "<style type=\"text/css\">\n",
       "#T_81c4e_row0_col0 {\n",
       "  background-color: #74c8ae;\n",
       "  color: #000000;\n",
       "}\n",
       "#T_81c4e_row0_col1 {\n",
       "  background-color: #3ca86d;\n",
       "  color: #f1f1f1;\n",
       "}\n",
       "#T_81c4e_row0_col2, #T_81c4e_row5_col3, #T_81c4e_row7_col2 {\n",
       "  background-color: #f4fbfc;\n",
       "  color: #000000;\n",
       "}\n",
       "#T_81c4e_row0_col3, #T_81c4e_row3_col4, #T_81c4e_row7_col5 {\n",
       "  background-color: #e2f4f7;\n",
       "  color: #000000;\n",
       "}\n",
       "#T_81c4e_row0_col4, #T_81c4e_row1_col4, #T_81c4e_row2_col0, #T_81c4e_row3_col0, #T_81c4e_row4_col6, #T_81c4e_row5_col2, #T_81c4e_row5_col4, #T_81c4e_row5_col6, #T_81c4e_row6_col6, #T_81c4e_row7_col4, #T_81c4e_row7_col6 {\n",
       "  background-color: #f7fcfd;\n",
       "  color: #000000;\n",
       "}\n",
       "#T_81c4e_row0_col5, #T_81c4e_row1_col5, #T_81c4e_row2_col1, #T_81c4e_row3_col1, #T_81c4e_row4_col1, #T_81c4e_row5_col0, #T_81c4e_row6_col1, #T_81c4e_row7_col1 {\n",
       "  background-color: #00441b;\n",
       "  color: #f1f1f1;\n",
       "}\n",
       "#T_81c4e_row0_col6, #T_81c4e_row6_col4 {\n",
       "  background-color: #f5fbfd;\n",
       "  color: #000000;\n",
       "}\n",
       "#T_81c4e_row1_col0 {\n",
       "  background-color: #ecf8fa;\n",
       "  color: #000000;\n",
       "}\n",
       "#T_81c4e_row1_col1, #T_81c4e_row5_col1 {\n",
       "  background-color: #c7eae3;\n",
       "  color: #000000;\n",
       "}\n",
       "#T_81c4e_row1_col2 {\n",
       "  background-color: #f2fafc;\n",
       "  color: #000000;\n",
       "}\n",
       "#T_81c4e_row1_col3 {\n",
       "  background-color: #e7f6f9;\n",
       "  color: #000000;\n",
       "}\n",
       "#T_81c4e_row1_col6, #T_81c4e_row2_col4 {\n",
       "  background-color: #ecf8fb;\n",
       "  color: #000000;\n",
       "}\n",
       "#T_81c4e_row2_col2 {\n",
       "  background-color: #c2e8e0;\n",
       "  color: #000000;\n",
       "}\n",
       "#T_81c4e_row2_col3 {\n",
       "  background-color: #5ebe9b;\n",
       "  color: #000000;\n",
       "}\n",
       "#T_81c4e_row2_col5 {\n",
       "  background-color: #8ad2be;\n",
       "  color: #000000;\n",
       "}\n",
       "#T_81c4e_row2_col6 {\n",
       "  background-color: #006227;\n",
       "  color: #f1f1f1;\n",
       "}\n",
       "#T_81c4e_row3_col2 {\n",
       "  background-color: #a8ded2;\n",
       "  color: #000000;\n",
       "}\n",
       "#T_81c4e_row3_col3 {\n",
       "  background-color: #4db585;\n",
       "  color: #f1f1f1;\n",
       "}\n",
       "#T_81c4e_row3_col5 {\n",
       "  background-color: #b0e1d6;\n",
       "  color: #000000;\n",
       "}\n",
       "#T_81c4e_row3_col6 {\n",
       "  background-color: #57ba92;\n",
       "  color: #f1f1f1;\n",
       "}\n",
       "#T_81c4e_row4_col0 {\n",
       "  background-color: #e1f4f6;\n",
       "  color: #000000;\n",
       "}\n",
       "#T_81c4e_row4_col2 {\n",
       "  background-color: #b8e4db;\n",
       "  color: #000000;\n",
       "}\n",
       "#T_81c4e_row4_col3 {\n",
       "  background-color: #41ae77;\n",
       "  color: #f1f1f1;\n",
       "}\n",
       "#T_81c4e_row4_col4 {\n",
       "  background-color: #eff9fb;\n",
       "  color: #000000;\n",
       "}\n",
       "#T_81c4e_row4_col5, #T_81c4e_row7_col3 {\n",
       "  background-color: #dcf2f2;\n",
       "  color: #000000;\n",
       "}\n",
       "#T_81c4e_row5_col5 {\n",
       "  background-color: #e5f5f9;\n",
       "  color: #000000;\n",
       "}\n",
       "#T_81c4e_row6_col0 {\n",
       "  background-color: #c5e9e2;\n",
       "  color: #000000;\n",
       "}\n",
       "#T_81c4e_row6_col2 {\n",
       "  background-color: #e9f7fa;\n",
       "  color: #000000;\n",
       "}\n",
       "#T_81c4e_row6_col3 {\n",
       "  background-color: #97d7c7;\n",
       "  color: #000000;\n",
       "}\n",
       "#T_81c4e_row6_col5 {\n",
       "  background-color: #edf8fb;\n",
       "  color: #000000;\n",
       "}\n",
       "#T_81c4e_row7_col0 {\n",
       "  background-color: #228a44;\n",
       "  color: #f1f1f1;\n",
       "}\n",
       "</style>\n",
       "<table id=\"T_81c4e\">\n",
       "  <thead>\n",
       "    <tr>\n",
       "      <th class=\"index_name level0\" ></th>\n",
       "      <th id=\"T_81c4e_level0_col0\" class=\"col_heading level0 col0\" >Continuous urban fabric (S.L. : > 80%)</th>\n",
       "      <th id=\"T_81c4e_level0_col1\" class=\"col_heading level0 col1\" >Discontinuous dense urban fabric (S.L. : 50% -  80%)</th>\n",
       "      <th id=\"T_81c4e_level0_col2\" class=\"col_heading level0 col2\" >Discontinuous low density urban fabric (S.L. : 10% - 30%)</th>\n",
       "      <th id=\"T_81c4e_level0_col3\" class=\"col_heading level0 col3\" >Discontinuous medium density urban fabric (S.L. : 30% - 50%)</th>\n",
       "      <th id=\"T_81c4e_level0_col4\" class=\"col_heading level0 col4\" >Discontinuous very low density urban fabric (S.L. : < 10%)</th>\n",
       "      <th id=\"T_81c4e_level0_col5\" class=\"col_heading level0 col5\" >Industrial, commercial, public, military and private units</th>\n",
       "      <th id=\"T_81c4e_level0_col6\" class=\"col_heading level0 col6\" >Isolated structures</th>\n",
       "    </tr>\n",
       "  </thead>\n",
       "  <tbody>\n",
       "    <tr>\n",
       "      <th id=\"T_81c4e_level0_row0\" class=\"row_heading level0 row0\" >Incoherent Large-Scale Homogeneous Fabric</th>\n",
       "      <td id=\"T_81c4e_row0_col0\" class=\"data row0 col0\" >0.19</td>\n",
       "      <td id=\"T_81c4e_row0_col1\" class=\"data row0 col1\" >0.26</td>\n",
       "      <td id=\"T_81c4e_row0_col2\" class=\"data row0 col2\" >0.01</td>\n",
       "      <td id=\"T_81c4e_row0_col3\" class=\"data row0 col3\" >0.06</td>\n",
       "      <td id=\"T_81c4e_row0_col4\" class=\"data row0 col4\" >0.00</td>\n",
       "      <td id=\"T_81c4e_row0_col5\" class=\"data row0 col5\" >0.39</td>\n",
       "      <td id=\"T_81c4e_row0_col6\" class=\"data row0 col6\" >0.01</td>\n",
       "    </tr>\n",
       "    <tr>\n",
       "      <th id=\"T_81c4e_level0_row1\" class=\"row_heading level0 row1\" >Incoherent Large-Scale Heterogeneous Fabric</th>\n",
       "      <td id=\"T_81c4e_row1_col0\" class=\"data row1 col0\" >0.05</td>\n",
       "      <td id=\"T_81c4e_row1_col1\" class=\"data row1 col1\" >0.14</td>\n",
       "      <td id=\"T_81c4e_row1_col2\" class=\"data row1 col2\" >0.03</td>\n",
       "      <td id=\"T_81c4e_row1_col3\" class=\"data row1 col3\" >0.07</td>\n",
       "      <td id=\"T_81c4e_row1_col4\" class=\"data row1 col4\" >0.02</td>\n",
       "      <td id=\"T_81c4e_row1_col5\" class=\"data row1 col5\" >0.51</td>\n",
       "      <td id=\"T_81c4e_row1_col6\" class=\"data row1 col6\" >0.05</td>\n",
       "    </tr>\n",
       "    <tr>\n",
       "      <th id=\"T_81c4e_level0_row2\" class=\"row_heading level0 row2\" >Incoherent Small-Scale Linear Fabric</th>\n",
       "      <td id=\"T_81c4e_row2_col0\" class=\"data row2 col0\" >0.04</td>\n",
       "      <td id=\"T_81c4e_row2_col1\" class=\"data row2 col1\" >0.22</td>\n",
       "      <td id=\"T_81c4e_row2_col2\" class=\"data row2 col2\" >0.09</td>\n",
       "      <td id=\"T_81c4e_row2_col3\" class=\"data row2 col3\" >0.13</td>\n",
       "      <td id=\"T_81c4e_row2_col4\" class=\"data row2 col4\" >0.05</td>\n",
       "      <td id=\"T_81c4e_row2_col5\" class=\"data row2 col5\" >0.11</td>\n",
       "      <td id=\"T_81c4e_row2_col6\" class=\"data row2 col6\" >0.20</td>\n",
       "    </tr>\n",
       "    <tr>\n",
       "      <th id=\"T_81c4e_level0_row3\" class=\"row_heading level0 row3\" >Incoherent Small-Scale Sparse Fabric</th>\n",
       "      <td id=\"T_81c4e_row3_col0\" class=\"data row3 col0\" >0.04</td>\n",
       "      <td id=\"T_81c4e_row3_col1\" class=\"data row3 col1\" >0.23</td>\n",
       "      <td id=\"T_81c4e_row3_col2\" class=\"data row3 col2\" >0.10</td>\n",
       "      <td id=\"T_81c4e_row3_col3\" class=\"data row3 col3\" >0.15</td>\n",
       "      <td id=\"T_81c4e_row3_col4\" class=\"data row3 col4\" >0.07</td>\n",
       "      <td id=\"T_81c4e_row3_col5\" class=\"data row3 col5\" >0.10</td>\n",
       "      <td id=\"T_81c4e_row3_col6\" class=\"data row3 col6\" >0.14</td>\n",
       "    </tr>\n",
       "    <tr>\n",
       "      <th id=\"T_81c4e_level0_row4\" class=\"row_heading level0 row4\" >Incoherent Small-Scale Compact Fabric</th>\n",
       "      <td id=\"T_81c4e_row4_col0\" class=\"data row4 col0\" >0.06</td>\n",
       "      <td id=\"T_81c4e_row4_col1\" class=\"data row4 col1\" >0.34</td>\n",
       "      <td id=\"T_81c4e_row4_col2\" class=\"data row4 col2\" >0.11</td>\n",
       "      <td id=\"T_81c4e_row4_col3\" class=\"data row4 col3\" >0.22</td>\n",
       "      <td id=\"T_81c4e_row4_col4\" class=\"data row4 col4\" >0.03</td>\n",
       "      <td id=\"T_81c4e_row4_col5\" class=\"data row4 col5\" >0.07</td>\n",
       "      <td id=\"T_81c4e_row4_col6\" class=\"data row4 col6\" >0.02</td>\n",
       "    </tr>\n",
       "    <tr>\n",
       "      <th id=\"T_81c4e_level0_row5\" class=\"row_heading level0 row5\" >Coherent Interconnected Fabric</th>\n",
       "      <td id=\"T_81c4e_row5_col0\" class=\"data row5 col0\" >0.69</td>\n",
       "      <td id=\"T_81c4e_row5_col1\" class=\"data row5 col1\" >0.18</td>\n",
       "      <td id=\"T_81c4e_row5_col2\" class=\"data row5 col2\" >0.00</td>\n",
       "      <td id=\"T_81c4e_row5_col3\" class=\"data row5 col3\" >0.02</td>\n",
       "      <td id=\"T_81c4e_row5_col4\" class=\"data row5 col4\" >0.00</td>\n",
       "      <td id=\"T_81c4e_row5_col5\" class=\"data row5 col5\" >0.09</td>\n",
       "      <td id=\"T_81c4e_row5_col6\" class=\"data row5 col6\" >0.00</td>\n",
       "    </tr>\n",
       "    <tr>\n",
       "      <th id=\"T_81c4e_level0_row6\" class=\"row_heading level0 row6\" >Coherent Dense Disjoint Fabric</th>\n",
       "      <td id=\"T_81c4e_row6_col0\" class=\"data row6 col0\" >0.14</td>\n",
       "      <td id=\"T_81c4e_row6_col1\" class=\"data row6 col1\" >0.51</td>\n",
       "      <td id=\"T_81c4e_row6_col2\" class=\"data row6 col2\" >0.05</td>\n",
       "      <td id=\"T_81c4e_row6_col3\" class=\"data row6 col3\" >0.20</td>\n",
       "      <td id=\"T_81c4e_row6_col4\" class=\"data row6 col4\" >0.01</td>\n",
       "      <td id=\"T_81c4e_row6_col5\" class=\"data row6 col5\" >0.04</td>\n",
       "      <td id=\"T_81c4e_row6_col6\" class=\"data row6 col6\" >0.00</td>\n",
       "    </tr>\n",
       "    <tr>\n",
       "      <th id=\"T_81c4e_level0_row7\" class=\"row_heading level0 row7\" >Coherent Dense Adjacent Fabric</th>\n",
       "      <td id=\"T_81c4e_row7_col0\" class=\"data row7 col0\" >0.34</td>\n",
       "      <td id=\"T_81c4e_row7_col1\" class=\"data row7 col1\" >0.46</td>\n",
       "      <td id=\"T_81c4e_row7_col2\" class=\"data row7 col2\" >0.01</td>\n",
       "      <td id=\"T_81c4e_row7_col3\" class=\"data row7 col3\" >0.08</td>\n",
       "      <td id=\"T_81c4e_row7_col4\" class=\"data row7 col4\" >0.00</td>\n",
       "      <td id=\"T_81c4e_row7_col5\" class=\"data row7 col5\" >0.07</td>\n",
       "      <td id=\"T_81c4e_row7_col6\" class=\"data row7 col6\" >0.00</td>\n",
       "    </tr>\n",
       "  </tbody>\n",
       "</table>\n"
      ],
      "text/plain": [
       "<pandas.io.formats.style.Styler at 0x7fe5fcfcf740>"
      ]
     },
     "execution_count": 19,
     "metadata": {},
     "output_type": "execute_result"
    }
   ],
   "source": [
    "styled_df = himoc_urbanatlas_tab[selected_cols]\n",
    "f = {k: \"{:.2f}\" for k in styled_df.columns.values}\n",
    "styled_df = styled_df.style.format(f).background_gradient(axis=1, cmap=\"BuGn\")\n",
    "styled_df"
   ]
  },
  {
   "cell_type": "markdown",
   "id": "a7fec9af-de2e-412c-96d0-68bc08994ac0",
   "metadata": {},
   "source": [
    "1. The Large Interconnected Blocks\tis mainly continuous urban fabric reflecting the fact that they are mainly many interconnected buildings.\n",
    "2. Dense connected developments is split between continugus and discontiguous because they are buildings with more space between them...\n",
    "3. Sparse rural is reflected in the standalone structyres and lower density spread,\n",
    "4. Large Utilitarian Development, Extensive Courtyard Complexes\t, Massive Connected Aggregations, Large Wide-Spaced Complexes\tis reflected in the large number of industrial\n",
    "5. The disperesed and road linked clusters are more discontinous low and median density\n",
    "\n",
    "\n",
    "Overall these relationships highlight that our clusters extend the available classifications, note that each of our clusters can be arbitralily broken down into subclusters based on the hierarchy."
   ]
  },
  {
   "cell_type": "code",
   "execution_count": 20,
   "id": "b93dc190-89c9-44bc-8c28-a36697d6afdb",
   "metadata": {},
   "outputs": [],
   "source": [
    "await dfi.export_async(styled_df, \"../data/urban_atlas.png\", dpi=300)"
   ]
  },
  {
   "cell_type": "markdown",
   "id": "b3142753-0bbc-4a36-b206-431eb251c015",
   "metadata": {
    "jp-MarkdownHeadingCollapsed": true
   },
   "source": [
    "## LCZ"
   ]
  },
  {
   "cell_type": "code",
   "execution_count": 1,
   "id": "e9f52981-8bfb-4f68-a982-c328fa41f3a1",
   "metadata": {},
   "outputs": [],
   "source": [
    "# !wget https://zenodo.org/records/8419340/files/lcz_filter_v3.tif?download=1"
   ]
  },
  {
   "cell_type": "code",
   "execution_count": 2,
   "id": "c8395101-c128-45ee-a0f1-45cd69292a5c",
   "metadata": {},
   "outputs": [],
   "source": [
    "# !mv lcz_filter_v3.tif /data/uscuni-ulce/validation/"
   ]
  },
  {
   "cell_type": "code",
   "execution_count": 7,
   "id": "ce071d6e-d106-4d74-8c81-a596a32764c8",
   "metadata": {},
   "outputs": [],
   "source": [
    "furl = \"/data/uscuni-ulce/validation/lcz_filter_v3.tif\""
   ]
  },
  {
   "cell_type": "code",
   "execution_count": 8,
   "id": "156603ed-8329-421e-9c82-19d3e5eb4318",
   "metadata": {},
   "outputs": [],
   "source": [
    "lczs = rioxarray.open_rasterio(furl).squeeze()"
   ]
  },
  {
   "cell_type": "markdown",
   "id": "390a9bce-bb9e-4777-9a34-0b9822b40ee0",
   "metadata": {
    "jp-MarkdownHeadingCollapsed": true
   },
   "source": [
    "#### Prague plot to verify spatial join"
   ]
  },
  {
   "cell_type": "code",
   "execution_count": null,
   "id": "8207a133-c98d-45ff-9c7d-cf6a1c151910",
   "metadata": {},
   "outputs": [
    {
     "name": "stdout",
     "output_type": "stream",
     "text": [
      "69333\n",
      "CPU times: user 2.2 s, sys: 426 ms, total: 2.62 s\n",
      "Wall time: 2.59 s\n"
     ]
    }
   ],
   "source": [
    "%%time\n",
    "\n",
    "results = []\n",
    "\n",
    "for region_id in regions.index:\n",
    "    if region_id != 69333:\n",
    "        continue\n",
    "\n",
    "    print(region_id)\n",
    "    buildings = gpd.read_parquet(\n",
    "        f\"/data/uscuni-ulce/processed_data/clusters/clusters_{region_id}_{v}.pq\"\n",
    "    )\n",
    "\n",
    "    # setup geometry list to burn into the raster\n",
    "    buildings[\"num_index\"] = np.arange(1, buildings.shape[0] + 1)\n",
    "    buildings[\"geometry\"] = buildings.representative_point()\n",
    "    building_utm = buildings.to_crs(lczs.rio.crs)\n",
    "    minx, miny, maxx, maxy = building_utm.total_bounds\n",
    "\n",
    "    # read only the region part of the raster data\n",
    "    region_lczs = rioxarray.open_rasterio(\n",
    "        filename=furl, chunks=\"auto\", parse_coordinates=True, masked=True\n",
    "    ).rio.clip_box(minx, miny, maxx, maxy)\n",
    "\n",
    "    # extract building classification from lcz raster\n",
    "    aggregated_iterative = region_lczs.xvec.extract_points(\n",
    "        building_utm.geometry,\n",
    "        x_coords=\"x\",\n",
    "        y_coords=\"y\",\n",
    "    )\n",
    "\n",
    "    # append to the building dataframe and store in the  results array\n",
    "    res = aggregated_iterative.to_pandas()\n",
    "    res = gpd.GeoDataFrame(res.T.reset_index(), crs=building_utm.crs)\n",
    "    res.columns = [\"geometry\", \"label\"]\n",
    "    building_utm[\"lcz\"] = res[\"label\"].values\n",
    "    results.append(building_utm)\n",
    "\n",
    "all_data = pd.concat(results, ignore_index=True)"
   ]
  },
  {
   "cell_type": "code",
   "execution_count": 8,
   "id": "23ca0792-009d-44cd-8c72-80abdd9b98fd",
   "metadata": {},
   "outputs": [],
   "source": [
    "import lonboard\n",
    "from sidecar import Sidecar\n",
    "from core.cluster_validation import get_color\n",
    "\n",
    "v = \"v3\"\n",
    "final_clusters = pd.read_parquet(\n",
    "    f\"/data/uscuni-ulce/processed_data/clusters/final_clusters_{v}.pq\"\n",
    ")[0]\n",
    "\n",
    "final_colors = pd.DataFrame(\n",
    "    get_color(final_clusters.values), final_clusters.values\n",
    ").drop_duplicates()\n",
    "final_colors.loc[-1] = [255, 255, 255]\n",
    "\n",
    "etcs = all_data.copy()\n",
    "etcs[\"geometry\"] = all_data.to_crs(epsg=3035).buffer(10).to_crs(epsg=4326)\n",
    "\n",
    "\n",
    "layer = lonboard.SolidPolygonLayer.from_geopandas(etcs, opacity=0.7)\n",
    "\n",
    "\n",
    "sc = Sidecar(title=\"Final Clusters\")\n",
    "m = lonboard.Map(layer, basemap_style=lonboard.basemap.CartoBasemap.DarkMatter)\n",
    "with sc:\n",
    "    display(m)"
   ]
  },
  {
   "cell_type": "code",
   "execution_count": 9,
   "id": "c26ded92-8d5c-4a1f-8c64-c57b2378b602",
   "metadata": {},
   "outputs": [],
   "source": [
    "from core.cluster_validation import get_color\n",
    "\n",
    "layer.get_fill_color = final_colors.loc[etcs.lcz].values.astype(\"uint8\")"
   ]
  },
  {
   "cell_type": "code",
   "execution_count": 10,
   "id": "b1448625-0cb4-47b4-9dd1-83d6f75aecfd",
   "metadata": {
    "scrolled": true
   },
   "outputs": [
    {
     "data": {
      "text/plain": [
       "<matplotlib.collections.QuadMesh at 0x759a019e3860>"
      ]
     },
     "execution_count": 10,
     "metadata": {},
     "output_type": "execute_result"
    },
    {
     "data": {
      "image/png": "[encoded data removed]",
      "text/plain": [
       "<Figure size 640x480 with 2 Axes>"
      ]
     },
     "metadata": {},
     "output_type": "display_data"
    }
   ],
   "source": [
    "region_lczs.plot(levels=[1, 2, 3, 4, 5, 6, 7, 8, 9, 18], cmap=\"tab10\")"
   ]
  },
  {
   "cell_type": "markdown",
   "id": "2dd2dcf4-51c7-4c6a-9c21-79d045ada7cd",
   "metadata": {},
   "source": [
    "#### Generate spatial join"
   ]
  },
  {
   "cell_type": "code",
   "execution_count": null,
   "id": "4f4a9bd0-ecce-487b-b05c-f3a490f6d98b",
   "metadata": {
    "scrolled": true
   },
   "outputs": [
    {
     "name": "stdout",
     "output_type": "stream",
     "text": [
      "4\n",
      "10\n",
      "132\n",
      "134\n",
      "286\n",
      "313\n",
      "400\n",
      "523\n",
      "765\n",
      "801\n",
      "832\n",
      "913\n",
      "960\n",
      "1124\n",
      "1154\n",
      "1387\n",
      "1478\n",
      "1515\n",
      "1605\n",
      "1718\n",
      "1736\n",
      "1782\n",
      "1970\n",
      "1981\n",
      "2096\n",
      "2322\n",
      "2350\n",
      "2478\n",
      "2514\n",
      "2625\n",
      "2728\n",
      "2975\n",
      "3039\n",
      "3109\n",
      "3150\n",
      "3221\n",
      "3250\n",
      "3526\n",
      "3610\n",
      "3612\n",
      "3701\n",
      "3705\n",
      "3752\n",
      "3759\n",
      "3981\n",
      "4070\n",
      "4214\n",
      "4215\n",
      "4235\n",
      "4284\n",
      "4356\n",
      "4382\n",
      "4723\n",
      "4805\n",
      "5096\n",
      "5191\n",
      "5246\n",
      "5310\n",
      "5408\n",
      "5427\n",
      "5662\n",
      "5671\n",
      "5766\n",
      "5883\n",
      "6254\n",
      "6529\n",
      "6560\n",
      "6576\n",
      "6741\n",
      "6749\n",
      "6811\n",
      "6873\n",
      "6996\n",
      "7068\n",
      "7094\n",
      "7280\n",
      "7485\n",
      "7528\n",
      "7534\n",
      "7681\n",
      "7688\n",
      "7712\n",
      "7727\n",
      "7805\n",
      "7914\n",
      "7937\n",
      "7963\n",
      "8046\n",
      "8216\n",
      "8238\n",
      "8256\n",
      "8265\n",
      "8345\n",
      "8374\n",
      "8396\n",
      "8592\n",
      "8707\n",
      "8731\n",
      "8757\n",
      "8759\n",
      "8813\n",
      "9016\n",
      "9064\n",
      "9074\n",
      "9150\n",
      "9169\n",
      "9194\n",
      "9284\n",
      "9824\n",
      "9924\n",
      "9954\n",
      "9972\n",
      "10019\n",
      "10086\n",
      "10095\n",
      "10124\n",
      "10179\n",
      "10222\n",
      "10263\n",
      "10277\n",
      "10455\n",
      "10510\n",
      "10511\n",
      "10563\n",
      "10579\n",
      "10602\n",
      "10666\n",
      "10794\n",
      "10847\n",
      "10908\n",
      "10926\n",
      "10970\n",
      "11002\n",
      "11019\n",
      "11057\n",
      "11141\n",
      "11210\n",
      "11256\n",
      "11261\n",
      "11305\n",
      "11309\n",
      "11311\n",
      "11318\n",
      "11367\n",
      "11444\n",
      "11455\n",
      "11471\n",
      "11667\n",
      "11678\n",
      "11735\n",
      "11757\n",
      "11799\n",
      "11877\n",
      "11905\n",
      "12027\n",
      "12084\n",
      "12100\n",
      "12115\n",
      "12154\n",
      "12191\n",
      "12381\n",
      "12440\n",
      "12483\n",
      "12552\n",
      "12667\n",
      "12707\n",
      "12755\n",
      "12756\n",
      "12844\n",
      "12919\n",
      "12965\n",
      "13076\n",
      "13137\n",
      "13172\n",
      "13191\n",
      "13196\n",
      "13229\n",
      "13301\n",
      "13395\n",
      "13442\n",
      "13482\n",
      "13506\n",
      "13553\n",
      "13555\n",
      "13614\n",
      "13616\n",
      "13655\n",
      "13677\n",
      "13779\n",
      "13810\n",
      "13881\n",
      "13897\n",
      "13965\n",
      "14084\n",
      "14245\n",
      "14319\n",
      "14321\n",
      "14327\n",
      "14364\n",
      "14383\n",
      "14550\n",
      "14552\n",
      "14623\n",
      "14679\n",
      "14702\n",
      "14735\n",
      "14789\n",
      "14933\n",
      "15019\n",
      "15139\n",
      "15265\n",
      "15331\n",
      "15347\n",
      "15484\n",
      "15509\n",
      "15545\n",
      "15555\n",
      "15613\n",
      "15626\n",
      "15653\n",
      "15690\n",
      "15716\n",
      "15794\n",
      "15802\n",
      "15933\n",
      "15970\n",
      "16217\n",
      "16242\n",
      "16256\n",
      "16291\n",
      "16318\n",
      "16429\n",
      "16509\n",
      "16510\n",
      "16566\n",
      "16632\n",
      "16685\n",
      "16688\n",
      "16745\n",
      "16921\n",
      "17171\n",
      "17268\n",
      "17389\n",
      "17393\n",
      "17458\n",
      "17677\n",
      "17690\n",
      "17959\n",
      "18008\n",
      "18164\n",
      "18454\n",
      "18489\n",
      "18516\n",
      "18557\n",
      "18893\n",
      "19124\n",
      "19151\n",
      "19244\n",
      "19254\n",
      "19376\n",
      "19386\n",
      "19393\n",
      "19542\n",
      "19878\n",
      "19940\n",
      "20123\n",
      "20149\n",
      "20243\n",
      "20496\n",
      "20554\n",
      "20783\n",
      "20968\n",
      "20970\n",
      "21174\n",
      "21304\n",
      "21484\n",
      "21523\n",
      "21569\n",
      "21591\n",
      "21894\n",
      "21904\n",
      "22040\n",
      "22105\n",
      "22345\n",
      "22602\n",
      "22704\n",
      "22884\n",
      "22912\n",
      "22976\n",
      "23258\n",
      "23337\n",
      "23401\n",
      "23631\n",
      "23642\n",
      "23661\n",
      "23812\n",
      "23984\n",
      "24116\n",
      "24232\n",
      "24257\n",
      "24276\n",
      "24389\n",
      "24402\n",
      "24596\n",
      "24735\n",
      "24743\n",
      "25202\n",
      "25361\n",
      "25491\n",
      "25532\n",
      "25656\n",
      "25697\n",
      "25765\n",
      "25934\n",
      "26072\n",
      "26265\n",
      "26300\n",
      "26315\n",
      "26429\n",
      "26435\n",
      "26468\n",
      "26780\n",
      "26888\n",
      "27053\n",
      "27166\n",
      "27178\n",
      "27297\n",
      "27411\n",
      "27578\n",
      "27587\n",
      "27717\n",
      "27773\n",
      "27926\n",
      "28040\n",
      "28235\n",
      "28307\n",
      "28566\n",
      "28835\n",
      "29096\n",
      "29215\n",
      "29249\n",
      "29278\n",
      "29344\n",
      "29374\n",
      "29694\n",
      "29729\n",
      "29787\n",
      "29800\n",
      "29984\n",
      "30124\n",
      "30213\n",
      "30523\n",
      "30585\n",
      "30615\n",
      "30640\n",
      "30729\n",
      "30754\n",
      "30775\n",
      "30841\n",
      "31212\n",
      "31237\n",
      "31287\n",
      "31291\n",
      "31298\n",
      "31736\n",
      "32023\n",
      "32045\n",
      "32108\n",
      "32261\n",
      "32386\n",
      "32427\n",
      "32503\n",
      "32593\n",
      "32685\n",
      "32793\n",
      "32970\n",
      "33122\n",
      "33287\n",
      "33427\n",
      "33492\n",
      "33528\n",
      "33692\n",
      "33722\n",
      "34053\n",
      "34152\n",
      "34266\n",
      "34436\n",
      "34522\n",
      "34767\n",
      "34839\n",
      "34900\n",
      "34978\n",
      "35055\n",
      "35141\n",
      "35180\n",
      "35211\n",
      "35246\n",
      "35368\n",
      "35540\n",
      "35679\n",
      "35755\n",
      "35812\n",
      "36012\n",
      "36122\n",
      "36330\n",
      "36580\n",
      "36689\n",
      "36704\n",
      "36752\n",
      "36842\n",
      "36953\n",
      "37105\n",
      "37163\n",
      "37236\n",
      "37434\n",
      "37496\n",
      "37628\n",
      "37635\n",
      "37698\n",
      "37811\n",
      "38018\n",
      "38243\n",
      "38248\n",
      "38375\n",
      "38512\n",
      "38615\n",
      "38679\n",
      "38844\n",
      "38924\n",
      "38935\n",
      "39030\n",
      "39078\n",
      "39161\n",
      "39171\n",
      "39293\n",
      "39396\n",
      "39490\n",
      "39680\n",
      "39911\n",
      "39947\n",
      "40064\n",
      "40130\n",
      "40294\n",
      "40447\n",
      "40766\n",
      "40885\n",
      "40890\n",
      "40941\n",
      "41002\n",
      "41095\n",
      "41185\n",
      "41289\n",
      "41303\n",
      "41428\n",
      "41630\n",
      "42084\n",
      "42154\n",
      "42226\n",
      "42366\n",
      "42418\n",
      "42499\n",
      "42528\n",
      "42595\n",
      "43070\n",
      "43097\n",
      "43376\n",
      "43422\n",
      "43455\n",
      "43495\n",
      "43508\n",
      "43619\n",
      "43651\n",
      "43662\n",
      "43706\n",
      "43715\n",
      "43852\n",
      "44065\n",
      "44194\n",
      "44323\n",
      "44390\n",
      "44478\n",
      "44913\n",
      "44933\n",
      "44960\n",
      "45014\n",
      "45181\n",
      "45303\n",
      "45441\n",
      "45512\n",
      "45801\n",
      "45865\n",
      "45888\n",
      "46115\n",
      "46185\n",
      "46281\n",
      "46352\n",
      "46355\n",
      "46461\n",
      "46545\n",
      "47004\n",
      "47090\n",
      "47149\n",
      "47443\n",
      "47446\n",
      "47465\n",
      "47505\n",
      "47539\n",
      "47554\n",
      "47774\n",
      "47813\n",
      "47919\n",
      "48152\n",
      "48227\n",
      "48254\n",
      "48357\n",
      "48405\n",
      "48597\n",
      "48965\n",
      "49045\n",
      "49393\n",
      "49434\n",
      "49571\n",
      "49643\n",
      "49714\n",
      "50280\n",
      "50285\n",
      "50528\n",
      "50880\n",
      "50896\n",
      "50966\n",
      "51019\n",
      "51277\n",
      "51289\n",
      "51570\n",
      "51677\n",
      "52381\n",
      "52492\n",
      "53232\n",
      "53380\n",
      "53410\n",
      "53525\n",
      "53605\n",
      "53616\n",
      "53744\n",
      "54871\n",
      "55392\n",
      "55763\n",
      "55811\n",
      "55835\n",
      "56160\n",
      "56178\n",
      "56184\n",
      "56404\n",
      "56937\n",
      "57109\n",
      "57313\n",
      "57652\n",
      "57717\n",
      "57876\n",
      "57908\n",
      "58077\n",
      "58523\n",
      "58571\n",
      "58713\n",
      "58795\n",
      "59194\n",
      "59226\n",
      "59718\n",
      "59768\n",
      "60009\n",
      "60045\n",
      "60202\n",
      "60273\n",
      "60613\n",
      "60914\n",
      "61183\n",
      "61187\n",
      "61711\n",
      "61875\n",
      "62193\n",
      "62222\n",
      "62393\n",
      "62844\n",
      "62954\n",
      "63485\n",
      "63655\n",
      "63726\n",
      "63739\n",
      "63756\n",
      "64097\n",
      "64220\n",
      "64463\n",
      "65007\n",
      "65441\n",
      "65626\n",
      "66007\n",
      "66047\n",
      "66540\n",
      "66593\n",
      "66793\n",
      "67156\n",
      "67279\n",
      "67459\n",
      "67803\n",
      "68059\n",
      "68265\n",
      "68363\n",
      "69333\n",
      "69394\n",
      "70073\n",
      "70108\n",
      "70368\n",
      "70973\n",
      "71306\n",
      "71477\n",
      "71506\n",
      "71843\n",
      "72032\n",
      "72110\n",
      "72396\n",
      "72507\n",
      "73611\n",
      "73625\n",
      "73735\n",
      "74378\n",
      "74568\n",
      "75472\n",
      "75642\n",
      "76038\n",
      "76305\n",
      "76512\n",
      "77205\n",
      "77846\n",
      "78792\n",
      "78820\n",
      "78938\n",
      "79988\n",
      "80313\n",
      "80404\n",
      "82064\n",
      "82514\n",
      "82773\n",
      "83538\n",
      "83542\n",
      "84297\n",
      "84420\n",
      "84554\n",
      "84962\n",
      "85104\n",
      "85156\n",
      "85262\n",
      "86502\n",
      "86568\n",
      "86863\n",
      "86873\n",
      "87615\n",
      "87947\n",
      "88930\n",
      "88950\n",
      "89122\n",
      "89586\n",
      "89921\n",
      "89971\n",
      "90075\n",
      "90196\n",
      "90770\n",
      "91011\n",
      "91479\n",
      "91702\n",
      "92178\n",
      "93167\n",
      "93504\n",
      "93793\n",
      "95256\n",
      "96465\n",
      "96727\n",
      "96895\n",
      "97745\n",
      "97978\n",
      "98107\n",
      "98628\n",
      "98660\n",
      "98716\n",
      "98958\n",
      "99661\n",
      "99865\n",
      "99886\n",
      "100210\n",
      "100342\n",
      "100348\n",
      "101313\n",
      "101429\n",
      "101574\n",
      "101992\n",
      "102031\n",
      "102127\n",
      "102262\n",
      "102474\n",
      "102679\n",
      "102801\n",
      "102814\n",
      "102939\n",
      "103039\n",
      "103283\n",
      "103305\n",
      "103561\n",
      "103713\n",
      "103852\n",
      "103882\n",
      "103928\n",
      "104018\n",
      "104066\n",
      "104568\n",
      "105038\n",
      "105090\n",
      "105385\n",
      "105388\n",
      "105426\n",
      "105457\n",
      "105589\n",
      "106034\n",
      "106124\n",
      "106363\n",
      "106370\n",
      "106384\n",
      "106559\n",
      "107131\n",
      "107442\n",
      "108050\n",
      "108101\n",
      "108127\n",
      "108129\n",
      "108263\n",
      "108748\n",
      "108755\n",
      "108884\n",
      "109404\n",
      "109488\n",
      "109491\n",
      "109636\n",
      "109727\n",
      "109756\n",
      "110016\n",
      "110179\n",
      "110237\n",
      "110657\n",
      "110691\n",
      "110906\n",
      "110908\n",
      "111555\n",
      "111689\n",
      "111911\n",
      "112253\n",
      "112437\n",
      "112696\n",
      "112843\n",
      "112949\n",
      "113068\n",
      "113301\n",
      "114014\n",
      "114180\n",
      "114311\n",
      "114591\n",
      "114680\n",
      "114822\n",
      "115151\n",
      "115595\n",
      "115950\n",
      "116316\n",
      "116523\n",
      "116801\n",
      "116866\n",
      "117182\n",
      "117638\n",
      "117720\n",
      "118096\n",
      "118747\n",
      "119562\n",
      "119609\n",
      "120057\n",
      "120193\n",
      "120545\n",
      "120961\n",
      "120982\n",
      "121071\n",
      "121143\n",
      "123228\n",
      "123690\n",
      "123904\n",
      "123941\n",
      "124160\n",
      "124904\n",
      "125016\n",
      "125141\n",
      "125667\n",
      "126588\n",
      "127101\n",
      "127183\n",
      "127626\n",
      "128286\n",
      "129032\n",
      "129104\n",
      "129395\n",
      "129730\n",
      "130341\n",
      "130658\n",
      "131130\n",
      "131395\n",
      "131786\n",
      "131824\n",
      "132225\n",
      "133057\n",
      "133100\n",
      "133948\n",
      "134023\n",
      "134189\n",
      "134454\n",
      "134755\n",
      "134905\n",
      "135687\n",
      "136169\n",
      "136533\n",
      "137469\n",
      "137537\n",
      "137636\n",
      "137863\n",
      "138804\n",
      "139096\n",
      "139621\n",
      "139674\n",
      "139764\n",
      "140420\n",
      "141272\n",
      "141366\n",
      "142100\n",
      "143701\n",
      "145906\n",
      "146285\n",
      "147112\n",
      "147634\n",
      "148018\n",
      "148085\n",
      "149997\n",
      "150044\n",
      "151676\n",
      "152081\n",
      "152511\n",
      "CPU times: user 10min 18s, sys: 3min 49s, total: 14min 7s\n",
      "Wall time: 13min 53s\n"
     ]
    }
   ],
   "source": [
    "%%time\n",
    "\n",
    "results = []\n",
    "\n",
    "for region_id in regions.index:\n",
    "    print(region_id)\n",
    "    buildings = gpd.read_parquet(\n",
    "        f\"/data/uscuni-ulce/processed_data/clusters/clusters_{region_id}_{v}.pq\"\n",
    "    )\n",
    "\n",
    "    # setup geometry list to burn into the raster\n",
    "    buildings[\"num_index\"] = np.arange(1, buildings.shape[0] + 1)\n",
    "    buildings[\"geometry\"] = buildings.representative_point()\n",
    "    building_utm = buildings.to_crs(lczs.rio.crs)\n",
    "    minx, miny, maxx, maxy = building_utm.total_bounds\n",
    "\n",
    "    # read only the region part of the raster data\n",
    "    region_lczs = rioxarray.open_rasterio(\n",
    "        filename=furl, chunks=\"auto\", parse_coordinates=True, masked=True\n",
    "    ).rio.clip_box(minx, miny, maxx, maxy)\n",
    "\n",
    "    # extract building classification from lcz raster\n",
    "    aggregated_iterative = region_lczs.xvec.extract_points(\n",
    "        building_utm.geometry,\n",
    "        x_coords=\"x\",\n",
    "        y_coords=\"y\",\n",
    "    )\n",
    "\n",
    "    # append to the building dataframe and store in the  results array\n",
    "    res = aggregated_iterative.to_pandas()\n",
    "    res = gpd.GeoDataFrame(res.T.reset_index(), crs=building_utm.crs)\n",
    "    res.columns = [\"geometry\", \"label\"]\n",
    "    building_utm[\"lcz\"] = res[\"label\"].values\n",
    "    results.append(building_utm)"
   ]
  },
  {
   "cell_type": "code",
   "execution_count": 11,
   "id": "91d3c7b8-40e8-4903-be8e-c8db3f556e85",
   "metadata": {},
   "outputs": [],
   "source": [
    "all_data = pd.concat(results, ignore_index=True)"
   ]
  },
  {
   "cell_type": "code",
   "execution_count": 12,
   "id": "93df7d88-37ba-4b0f-9729-705ac2a0d9c7",
   "metadata": {},
   "outputs": [],
   "source": [
    "del results"
   ]
  },
  {
   "cell_type": "markdown",
   "id": "232c1e03-6988-4bae-b51b-d1f446d99338",
   "metadata": {},
   "source": [
    "### Crossstab"
   ]
  },
  {
   "cell_type": "code",
   "execution_count": 13,
   "id": "9da8ecf5-e663-46dd-8744-fa6fb0aea9f3",
   "metadata": {},
   "outputs": [],
   "source": [
    "cluster_mapping = pd.read_parquet(\n",
    "    f\"/data/uscuni-ulce/processed_data/clusters/cluster_mapping_{v}.pq\"\n",
    ")"
   ]
  },
  {
   "cell_type": "code",
   "execution_count": 14,
   "id": "2bb56751-9e08-4049-91b0-a079d58bf943",
   "metadata": {},
   "outputs": [
    {
     "data": {
      "text/html": [
       "<div>\n",
       "<style scoped>\n",
       "    .dataframe tbody tr th:only-of-type {\n",
       "        vertical-align: middle;\n",
       "    }\n",
       "\n",
       "    .dataframe tbody tr th {\n",
       "        vertical-align: top;\n",
       "    }\n",
       "\n",
       "    .dataframe thead th {\n",
       "        text-align: right;\n",
       "    }\n",
       "</style>\n",
       "<table border=\"1\" class=\"dataframe\">\n",
       "  <thead>\n",
       "    <tr style=\"text-align: right;\">\n",
       "      <th></th>\n",
       "      <th>1</th>\n",
       "      <th>2</th>\n",
       "      <th>3</th>\n",
       "      <th>4</th>\n",
       "      <th>5</th>\n",
       "      <th>6</th>\n",
       "    </tr>\n",
       "    <tr>\n",
       "      <th>7</th>\n",
       "      <th></th>\n",
       "      <th></th>\n",
       "      <th></th>\n",
       "      <th></th>\n",
       "      <th></th>\n",
       "      <th></th>\n",
       "    </tr>\n",
       "  </thead>\n",
       "  <tbody>\n",
       "    <tr>\n",
       "      <th>4</th>\n",
       "      <td>1</td>\n",
       "      <td>1</td>\n",
       "      <td>1</td>\n",
       "      <td>1</td>\n",
       "      <td>2</td>\n",
       "      <td>3</td>\n",
       "    </tr>\n",
       "    <tr>\n",
       "      <th>6</th>\n",
       "      <td>1</td>\n",
       "      <td>1</td>\n",
       "      <td>1</td>\n",
       "      <td>1</td>\n",
       "      <td>2</td>\n",
       "      <td>4</td>\n",
       "    </tr>\n",
       "    <tr>\n",
       "      <th>88</th>\n",
       "      <td>2</td>\n",
       "      <td>4</td>\n",
       "      <td>7</td>\n",
       "      <td>13</td>\n",
       "      <td>20</td>\n",
       "      <td>48</td>\n",
       "    </tr>\n",
       "    <tr>\n",
       "      <th>3</th>\n",
       "      <td>1</td>\n",
       "      <td>1</td>\n",
       "      <td>1</td>\n",
       "      <td>1</td>\n",
       "      <td>2</td>\n",
       "      <td>3</td>\n",
       "    </tr>\n",
       "    <tr>\n",
       "      <th>103</th>\n",
       "      <td>2</td>\n",
       "      <td>4</td>\n",
       "      <td>8</td>\n",
       "      <td>17</td>\n",
       "      <td>24</td>\n",
       "      <td>55</td>\n",
       "    </tr>\n",
       "    <tr>\n",
       "      <th>...</th>\n",
       "      <td>...</td>\n",
       "      <td>...</td>\n",
       "      <td>...</td>\n",
       "      <td>...</td>\n",
       "      <td>...</td>\n",
       "      <td>...</td>\n",
       "    </tr>\n",
       "    <tr>\n",
       "      <th>20</th>\n",
       "      <td>1</td>\n",
       "      <td>2</td>\n",
       "      <td>3</td>\n",
       "      <td>4</td>\n",
       "      <td>6</td>\n",
       "      <td>10</td>\n",
       "    </tr>\n",
       "    <tr>\n",
       "      <th>63</th>\n",
       "      <td>2</td>\n",
       "      <td>3</td>\n",
       "      <td>6</td>\n",
       "      <td>10</td>\n",
       "      <td>15</td>\n",
       "      <td>32</td>\n",
       "    </tr>\n",
       "    <tr>\n",
       "      <th>61</th>\n",
       "      <td>2</td>\n",
       "      <td>3</td>\n",
       "      <td>6</td>\n",
       "      <td>9</td>\n",
       "      <td>14</td>\n",
       "      <td>30</td>\n",
       "    </tr>\n",
       "    <tr>\n",
       "      <th>11</th>\n",
       "      <td>1</td>\n",
       "      <td>1</td>\n",
       "      <td>2</td>\n",
       "      <td>2</td>\n",
       "      <td>3</td>\n",
       "      <td>7</td>\n",
       "    </tr>\n",
       "    <tr>\n",
       "      <th>46</th>\n",
       "      <td>1</td>\n",
       "      <td>2</td>\n",
       "      <td>5</td>\n",
       "      <td>7</td>\n",
       "      <td>11</td>\n",
       "      <td>22</td>\n",
       "    </tr>\n",
       "  </tbody>\n",
       "</table>\n",
       "<p>110 rows × 6 columns</p>\n",
       "</div>"
      ],
      "text/plain": [
       "     1  2  3   4   5   6\n",
       "7                       \n",
       "4    1  1  1   1   2   3\n",
       "6    1  1  1   1   2   4\n",
       "88   2  4  7  13  20  48\n",
       "3    1  1  1   1   2   3\n",
       "103  2  4  8  17  24  55\n",
       "..  .. .. ..  ..  ..  ..\n",
       "20   1  2  3   4   6  10\n",
       "63   2  3  6  10  15  32\n",
       "61   2  3  6   9  14  30\n",
       "11   1  1  2   2   3   7\n",
       "46   1  2  5   7  11  22\n",
       "\n",
       "[110 rows x 6 columns]"
      ]
     },
     "execution_count": 14,
     "metadata": {},
     "output_type": "execute_result"
    }
   ],
   "source": [
    "cluster_mapping"
   ]
  },
  {
   "cell_type": "code",
   "execution_count": 15,
   "id": "065a3fe9-a6da-4245-838f-5390f7fcb67c",
   "metadata": {},
   "outputs": [],
   "source": [
    "all_data[\"map_label\"] = all_data[\"final_without_noise\"].map(\n",
    "    cluster_mapping[3].to_dict()\n",
    ")"
   ]
  },
  {
   "cell_type": "code",
   "execution_count": 16,
   "id": "84b01e79-b882-4160-b57c-0456db1b60be",
   "metadata": {},
   "outputs": [],
   "source": [
    "lcz_names = {\n",
    "    \"1\": \"Compact high-rise\",\n",
    "    \"2\": \"Compact mid-rise\",\n",
    "    \"3\": \"Compact low-rise\",\n",
    "    \"4\": \"Open high-rise\",\n",
    "    \"5\": \"Open mid-rise\",\n",
    "    \"6\": \"Open low-rise\",\n",
    "    \"7\": \"Lightweight low-rise\",\n",
    "    \"8\": \"Large low-rise\",\n",
    "    \"9\": \"Sparsely built\",\n",
    "    \"10\": \"Heavy industry\",\n",
    "    \"11\": \"Dense trees\",\n",
    "    \"12\": \"Scattered trees\",\n",
    "    \"13\": \"Bush, scrub\",\n",
    "    \"14\": \"Low plants\",\n",
    "    \"15\": \"Bare rock or paved\",\n",
    "    \"16\": \"Bare soil or sand\",\n",
    "    \"17\": \"Water\",\n",
    "}\n",
    "\n",
    "lcz_names = {float(k): v for k, v in lcz_names.items()}"
   ]
  },
  {
   "cell_type": "code",
   "execution_count": 17,
   "id": "e3c236a8-42a0-4040-bc02-efeab11a0f0f",
   "metadata": {},
   "outputs": [
    {
     "data": {
      "text/plain": [
       "lcz\n",
       "6.0     4.703750e-01\n",
       "9.0     2.774260e-01\n",
       "14.0    1.024760e-01\n",
       "12.0    5.933093e-02\n",
       "11.0    3.232364e-02\n",
       "5.0     3.119549e-02\n",
       "8.0     1.802161e-02\n",
       "2.0     5.205505e-03\n",
       "4.0     1.362793e-03\n",
       "3.0     1.245510e-03\n",
       "10.0    3.347574e-04\n",
       "1.0     2.384158e-04\n",
       "17.0    1.937229e-04\n",
       "15.0    1.333361e-04\n",
       "16.0    3.132588e-05\n",
       "7.0     1.633748e-06\n",
       "13.0    7.673665e-07\n",
       "Name: count, dtype: float64"
      ]
     },
     "execution_count": 17,
     "metadata": {},
     "output_type": "execute_result"
    }
   ],
   "source": [
    "all_data.lcz.value_counts() / all_data.shape[0]"
   ]
  },
  {
   "cell_type": "code",
   "execution_count": 18,
   "id": "b6ba4f9e-43cd-406f-8843-a9289b0e5b01",
   "metadata": {},
   "outputs": [],
   "source": [
    "himoc_lcz_tab = pd.crosstab(all_data.map_label, all_data.lcz, normalize=\"index\")\n",
    "himoc_lcz_tab.index = himoc_lcz_tab.index.map(get_cluster_names(3)).values\n",
    "himoc_lcz_tab.columns = himoc_lcz_tab.columns.map(lcz_names).values"
   ]
  },
  {
   "cell_type": "code",
   "execution_count": 19,
   "id": "2ffc5ec8-d424-45dc-89de-513eb5ebeef6",
   "metadata": {},
   "outputs": [
    {
     "data": {
      "text/plain": [
       "Index(['Compact high-rise', 'Compact mid-rise', 'Compact low-rise',\n",
       "       'Open high-rise', 'Open mid-rise', 'Open low-rise',\n",
       "       'Lightweight low-rise', 'Large low-rise', 'Sparsely built',\n",
       "       'Heavy industry', 'Dense trees', 'Scattered trees', 'Bush, scrub',\n",
       "       'Low plants', 'Bare rock or paved', 'Bare soil or sand', 'Water'],\n",
       "      dtype='object')"
      ]
     },
     "execution_count": 19,
     "metadata": {},
     "output_type": "execute_result"
    }
   ],
   "source": [
    "himoc_lcz_tab.columns"
   ]
  },
  {
   "cell_type": "code",
   "execution_count": 20,
   "id": "f545bdca-6fef-4979-8dc1-d67081605691",
   "metadata": {},
   "outputs": [],
   "source": [
    "selected_cols = [\n",
    "    \"Compact high-rise\",\n",
    "    \"Compact mid-rise\",\n",
    "    \"Open mid-rise\",\n",
    "    \"Open low-rise\",\n",
    "    \"Large low-rise\",\n",
    "    \"Sparsely built\",\n",
    "    \"Heavy industry\",\n",
    "    \"Dense trees\",\n",
    "    \"Scattered trees\",\n",
    "    \"Low plants\",\n",
    "]"
   ]
  },
  {
   "cell_type": "code",
   "execution_count": 21,
   "id": "b20a60f7-c4c2-445b-aef5-209501ea3952",
   "metadata": {},
   "outputs": [
    {
     "data": {
      "text/html": [
       "<style type=\"text/css\">\n",
       "#T_2fbe9_row0_col0, #T_2fbe9_row0_col6, #T_2fbe9_row0_col9, #T_2fbe9_row0_col12, #T_2fbe9_row0_col14, #T_2fbe9_row0_col15, #T_2fbe9_row0_col16, #T_2fbe9_row1_col6, #T_2fbe9_row1_col12, #T_2fbe9_row1_col14, #T_2fbe9_row1_col15, #T_2fbe9_row1_col16, #T_2fbe9_row2_col0, #T_2fbe9_row2_col1, #T_2fbe9_row2_col2, #T_2fbe9_row2_col3, #T_2fbe9_row2_col4, #T_2fbe9_row2_col6, #T_2fbe9_row2_col9, #T_2fbe9_row2_col12, #T_2fbe9_row2_col14, #T_2fbe9_row2_col15, #T_2fbe9_row2_col16, #T_2fbe9_row3_col0, #T_2fbe9_row3_col1, #T_2fbe9_row3_col2, #T_2fbe9_row3_col3, #T_2fbe9_row3_col4, #T_2fbe9_row3_col6, #T_2fbe9_row3_col9, #T_2fbe9_row3_col12, #T_2fbe9_row3_col14, #T_2fbe9_row3_col15, #T_2fbe9_row3_col16, #T_2fbe9_row4_col0, #T_2fbe9_row4_col1, #T_2fbe9_row4_col2, #T_2fbe9_row4_col3, #T_2fbe9_row4_col6, #T_2fbe9_row4_col9, #T_2fbe9_row4_col12, #T_2fbe9_row4_col14, #T_2fbe9_row4_col15, #T_2fbe9_row4_col16, #T_2fbe9_row5_col6, #T_2fbe9_row5_col10, #T_2fbe9_row5_col11, #T_2fbe9_row5_col12, #T_2fbe9_row5_col13, #T_2fbe9_row5_col14, #T_2fbe9_row5_col15, #T_2fbe9_row5_col16, #T_2fbe9_row6_col0, #T_2fbe9_row6_col1, #T_2fbe9_row6_col2, #T_2fbe9_row6_col3, #T_2fbe9_row6_col6, #T_2fbe9_row6_col9, #T_2fbe9_row6_col12, #T_2fbe9_row6_col14, #T_2fbe9_row6_col15, #T_2fbe9_row6_col16, #T_2fbe9_row7_col0, #T_2fbe9_row7_col3, #T_2fbe9_row7_col6, #T_2fbe9_row7_col9, #T_2fbe9_row7_col12, #T_2fbe9_row7_col14, #T_2fbe9_row7_col15, #T_2fbe9_row7_col16 {\n",
       "  background-color: #f7fcfd;\n",
       "  color: #000000;\n",
       "}\n",
       "#T_2fbe9_row0_col1, #T_2fbe9_row0_col3, #T_2fbe9_row1_col1, #T_2fbe9_row4_col7 {\n",
       "  background-color: #f5fbfd;\n",
       "  color: #000000;\n",
       "}\n",
       "#T_2fbe9_row0_col2, #T_2fbe9_row1_col0, #T_2fbe9_row1_col2, #T_2fbe9_row2_col7, #T_2fbe9_row3_col7, #T_2fbe9_row5_col9, #T_2fbe9_row6_col7, #T_2fbe9_row7_col1, #T_2fbe9_row7_col2, #T_2fbe9_row7_col10, #T_2fbe9_row7_col11 {\n",
       "  background-color: #f6fcfd;\n",
       "  color: #000000;\n",
       "}\n",
       "#T_2fbe9_row0_col4 {\n",
       "  background-color: #c4e9e1;\n",
       "  color: #000000;\n",
       "}\n",
       "#T_2fbe9_row0_col5, #T_2fbe9_row1_col5, #T_2fbe9_row2_col13, #T_2fbe9_row3_col8, #T_2fbe9_row4_col8, #T_2fbe9_row5_col5, #T_2fbe9_row6_col5, #T_2fbe9_row7_col5 {\n",
       "  background-color: #00441b;\n",
       "  color: #f1f1f1;\n",
       "}\n",
       "#T_2fbe9_row0_col7 {\n",
       "  background-color: #d6f0ee;\n",
       "  color: #000000;\n",
       "}\n",
       "#T_2fbe9_row0_col8 {\n",
       "  background-color: #dcf2f2;\n",
       "  color: #000000;\n",
       "}\n",
       "#T_2fbe9_row0_col10, #T_2fbe9_row6_col10, #T_2fbe9_row7_col7 {\n",
       "  background-color: #f4fbfc;\n",
       "  color: #000000;\n",
       "}\n",
       "#T_2fbe9_row0_col11, #T_2fbe9_row6_col4 {\n",
       "  background-color: #f2fafc;\n",
       "  color: #000000;\n",
       "}\n",
       "#T_2fbe9_row0_col13 {\n",
       "  background-color: #ebf7fa;\n",
       "  color: #000000;\n",
       "}\n",
       "#T_2fbe9_row1_col3, #T_2fbe9_row1_col9, #T_2fbe9_row4_col4, #T_2fbe9_row5_col0, #T_2fbe9_row7_col13 {\n",
       "  background-color: #f5fbfc;\n",
       "  color: #000000;\n",
       "}\n",
       "#T_2fbe9_row1_col4 {\n",
       "  background-color: #dff3f5;\n",
       "  color: #000000;\n",
       "}\n",
       "#T_2fbe9_row1_col7 {\n",
       "  background-color: #03702e;\n",
       "  color: #f1f1f1;\n",
       "}\n",
       "#T_2fbe9_row1_col8 {\n",
       "  background-color: #38a367;\n",
       "  color: #f1f1f1;\n",
       "}\n",
       "#T_2fbe9_row1_col10, #T_2fbe9_row7_col4, #T_2fbe9_row7_col8 {\n",
       "  background-color: #e8f6fa;\n",
       "  color: #000000;\n",
       "}\n",
       "#T_2fbe9_row1_col11 {\n",
       "  background-color: #daf1f1;\n",
       "  color: #000000;\n",
       "}\n",
       "#T_2fbe9_row1_col13 {\n",
       "  background-color: #64c1a2;\n",
       "  color: #000000;\n",
       "}\n",
       "#T_2fbe9_row2_col5, #T_2fbe9_row4_col10, #T_2fbe9_row5_col3 {\n",
       "  background-color: #e9f7fa;\n",
       "  color: #000000;\n",
       "}\n",
       "#T_2fbe9_row2_col8 {\n",
       "  background-color: #00471c;\n",
       "  color: #f1f1f1;\n",
       "}\n",
       "#T_2fbe9_row2_col10 {\n",
       "  background-color: #dbf1f1;\n",
       "  color: #000000;\n",
       "}\n",
       "#T_2fbe9_row2_col11 {\n",
       "  background-color: #9cd9ca;\n",
       "  color: #000000;\n",
       "}\n",
       "#T_2fbe9_row3_col5 {\n",
       "  background-color: #cdece6;\n",
       "  color: #000000;\n",
       "}\n",
       "#T_2fbe9_row3_col10 {\n",
       "  background-color: #dbf2f2;\n",
       "  color: #000000;\n",
       "}\n",
       "#T_2fbe9_row3_col11 {\n",
       "  background-color: #8dd3c0;\n",
       "  color: #000000;\n",
       "}\n",
       "#T_2fbe9_row3_col13 {\n",
       "  background-color: #51b689;\n",
       "  color: #f1f1f1;\n",
       "}\n",
       "#T_2fbe9_row4_col5 {\n",
       "  background-color: #19833e;\n",
       "  color: #f1f1f1;\n",
       "}\n",
       "#T_2fbe9_row4_col11 {\n",
       "  background-color: #def2f4;\n",
       "  color: #000000;\n",
       "}\n",
       "#T_2fbe9_row4_col13 {\n",
       "  background-color: #d4efec;\n",
       "  color: #000000;\n",
       "}\n",
       "#T_2fbe9_row5_col1 {\n",
       "  background-color: #3ca86d;\n",
       "  color: #f1f1f1;\n",
       "}\n",
       "#T_2fbe9_row5_col2 {\n",
       "  background-color: #ecf8fa;\n",
       "  color: #000000;\n",
       "}\n",
       "#T_2fbe9_row5_col4 {\n",
       "  background-color: #006529;\n",
       "  color: #f1f1f1;\n",
       "}\n",
       "#T_2fbe9_row5_col7 {\n",
       "  background-color: #e7f6f9;\n",
       "  color: #000000;\n",
       "}\n",
       "#T_2fbe9_row5_col8 {\n",
       "  background-color: #eef8fb;\n",
       "  color: #000000;\n",
       "}\n",
       "#T_2fbe9_row6_col8 {\n",
       "  background-color: #acdfd4;\n",
       "  color: #000000;\n",
       "}\n",
       "#T_2fbe9_row6_col11 {\n",
       "  background-color: #f3fafc;\n",
       "  color: #000000;\n",
       "}\n",
       "#T_2fbe9_row6_col13 {\n",
       "  background-color: #f1fafc;\n",
       "  color: #000000;\n",
       "}\n",
       "</style>\n",
       "<table id=\"T_2fbe9\">\n",
       "  <thead>\n",
       "    <tr>\n",
       "      <th class=\"blank level0\" >&nbsp;</th>\n",
       "      <th id=\"T_2fbe9_level0_col0\" class=\"col_heading level0 col0\" >Compact high-rise</th>\n",
       "      <th id=\"T_2fbe9_level0_col1\" class=\"col_heading level0 col1\" >Compact mid-rise</th>\n",
       "      <th id=\"T_2fbe9_level0_col2\" class=\"col_heading level0 col2\" >Compact low-rise</th>\n",
       "      <th id=\"T_2fbe9_level0_col3\" class=\"col_heading level0 col3\" >Open high-rise</th>\n",
       "      <th id=\"T_2fbe9_level0_col4\" class=\"col_heading level0 col4\" >Open mid-rise</th>\n",
       "      <th id=\"T_2fbe9_level0_col5\" class=\"col_heading level0 col5\" >Open low-rise</th>\n",
       "      <th id=\"T_2fbe9_level0_col6\" class=\"col_heading level0 col6\" >Lightweight low-rise</th>\n",
       "      <th id=\"T_2fbe9_level0_col7\" class=\"col_heading level0 col7\" >Large low-rise</th>\n",
       "      <th id=\"T_2fbe9_level0_col8\" class=\"col_heading level0 col8\" >Sparsely built</th>\n",
       "      <th id=\"T_2fbe9_level0_col9\" class=\"col_heading level0 col9\" >Heavy industry</th>\n",
       "      <th id=\"T_2fbe9_level0_col10\" class=\"col_heading level0 col10\" >Dense trees</th>\n",
       "      <th id=\"T_2fbe9_level0_col11\" class=\"col_heading level0 col11\" >Scattered trees</th>\n",
       "      <th id=\"T_2fbe9_level0_col12\" class=\"col_heading level0 col12\" >Bush, scrub</th>\n",
       "      <th id=\"T_2fbe9_level0_col13\" class=\"col_heading level0 col13\" >Low plants</th>\n",
       "      <th id=\"T_2fbe9_level0_col14\" class=\"col_heading level0 col14\" >Bare rock or paved</th>\n",
       "      <th id=\"T_2fbe9_level0_col15\" class=\"col_heading level0 col15\" >Bare soil or sand</th>\n",
       "      <th id=\"T_2fbe9_level0_col16\" class=\"col_heading level0 col16\" >Water</th>\n",
       "    </tr>\n",
       "  </thead>\n",
       "  <tbody>\n",
       "    <tr>\n",
       "      <th id=\"T_2fbe9_level0_row0\" class=\"row_heading level0 row0\" >Incoherent Large-Scale Homogeneous Fabric</th>\n",
       "      <td id=\"T_2fbe9_row0_col0\" class=\"data row0 col0\" >0.00</td>\n",
       "      <td id=\"T_2fbe9_row0_col1\" class=\"data row0 col1\" >0.01</td>\n",
       "      <td id=\"T_2fbe9_row0_col2\" class=\"data row0 col2\" >0.00</td>\n",
       "      <td id=\"T_2fbe9_row0_col3\" class=\"data row0 col3\" >0.01</td>\n",
       "      <td id=\"T_2fbe9_row0_col4\" class=\"data row0 col4\" >0.15</td>\n",
       "      <td id=\"T_2fbe9_row0_col5\" class=\"data row0 col5\" >0.55</td>\n",
       "      <td id=\"T_2fbe9_row0_col6\" class=\"data row0 col6\" >0.00</td>\n",
       "      <td id=\"T_2fbe9_row0_col7\" class=\"data row0 col7\" >0.11</td>\n",
       "      <td id=\"T_2fbe9_row0_col8\" class=\"data row0 col8\" >0.09</td>\n",
       "      <td id=\"T_2fbe9_row0_col9\" class=\"data row0 col9\" >0.00</td>\n",
       "      <td id=\"T_2fbe9_row0_col10\" class=\"data row0 col10\" >0.01</td>\n",
       "      <td id=\"T_2fbe9_row0_col11\" class=\"data row0 col11\" >0.02</td>\n",
       "      <td id=\"T_2fbe9_row0_col12\" class=\"data row0 col12\" >0.00</td>\n",
       "      <td id=\"T_2fbe9_row0_col13\" class=\"data row0 col13\" >0.05</td>\n",
       "      <td id=\"T_2fbe9_row0_col14\" class=\"data row0 col14\" >0.00</td>\n",
       "      <td id=\"T_2fbe9_row0_col15\" class=\"data row0 col15\" >0.00</td>\n",
       "      <td id=\"T_2fbe9_row0_col16\" class=\"data row0 col16\" >0.00</td>\n",
       "    </tr>\n",
       "    <tr>\n",
       "      <th id=\"T_2fbe9_level0_row1\" class=\"row_heading level0 row1\" >Incoherent Large-Scale Heterogeneous Fabric</th>\n",
       "      <td id=\"T_2fbe9_row1_col0\" class=\"data row1 col0\" >0.00</td>\n",
       "      <td id=\"T_2fbe9_row1_col1\" class=\"data row1 col1\" >0.00</td>\n",
       "      <td id=\"T_2fbe9_row1_col2\" class=\"data row1 col2\" >0.00</td>\n",
       "      <td id=\"T_2fbe9_row1_col3\" class=\"data row1 col3\" >0.00</td>\n",
       "      <td id=\"T_2fbe9_row1_col4\" class=\"data row1 col4\" >0.04</td>\n",
       "      <td id=\"T_2fbe9_row1_col5\" class=\"data row1 col5\" >0.28</td>\n",
       "      <td id=\"T_2fbe9_row1_col6\" class=\"data row1 col6\" >0.00</td>\n",
       "      <td id=\"T_2fbe9_row1_col7\" class=\"data row1 col7\" >0.24</td>\n",
       "      <td id=\"T_2fbe9_row1_col8\" class=\"data row1 col8\" >0.19</td>\n",
       "      <td id=\"T_2fbe9_row1_col9\" class=\"data row1 col9\" >0.00</td>\n",
       "      <td id=\"T_2fbe9_row1_col10\" class=\"data row1 col10\" >0.03</td>\n",
       "      <td id=\"T_2fbe9_row1_col11\" class=\"data row1 col11\" >0.05</td>\n",
       "      <td id=\"T_2fbe9_row1_col12\" class=\"data row1 col12\" >0.00</td>\n",
       "      <td id=\"T_2fbe9_row1_col13\" class=\"data row1 col13\" >0.14</td>\n",
       "      <td id=\"T_2fbe9_row1_col14\" class=\"data row1 col14\" >0.00</td>\n",
       "      <td id=\"T_2fbe9_row1_col15\" class=\"data row1 col15\" >0.00</td>\n",
       "      <td id=\"T_2fbe9_row1_col16\" class=\"data row1 col16\" >0.00</td>\n",
       "    </tr>\n",
       "    <tr>\n",
       "      <th id=\"T_2fbe9_level0_row2\" class=\"row_heading level0 row2\" >Incoherent Small-Scale Linear Fabric</th>\n",
       "      <td id=\"T_2fbe9_row2_col0\" class=\"data row2 col0\" >0.00</td>\n",
       "      <td id=\"T_2fbe9_row2_col1\" class=\"data row2 col1\" >0.00</td>\n",
       "      <td id=\"T_2fbe9_row2_col2\" class=\"data row2 col2\" >0.00</td>\n",
       "      <td id=\"T_2fbe9_row2_col3\" class=\"data row2 col3\" >0.00</td>\n",
       "      <td id=\"T_2fbe9_row2_col4\" class=\"data row2 col4\" >0.00</td>\n",
       "      <td id=\"T_2fbe9_row2_col5\" class=\"data row2 col5\" >0.04</td>\n",
       "      <td id=\"T_2fbe9_row2_col6\" class=\"data row2 col6\" >0.00</td>\n",
       "      <td id=\"T_2fbe9_row2_col7\" class=\"data row2 col7\" >0.00</td>\n",
       "      <td id=\"T_2fbe9_row2_col8\" class=\"data row2 col8\" >0.37</td>\n",
       "      <td id=\"T_2fbe9_row2_col9\" class=\"data row2 col9\" >0.00</td>\n",
       "      <td id=\"T_2fbe9_row2_col10\" class=\"data row2 col10\" >0.07</td>\n",
       "      <td id=\"T_2fbe9_row2_col11\" class=\"data row2 col11\" >0.14</td>\n",
       "      <td id=\"T_2fbe9_row2_col12\" class=\"data row2 col12\" >0.00</td>\n",
       "      <td id=\"T_2fbe9_row2_col13\" class=\"data row2 col13\" >0.38</td>\n",
       "      <td id=\"T_2fbe9_row2_col14\" class=\"data row2 col14\" >0.00</td>\n",
       "      <td id=\"T_2fbe9_row2_col15\" class=\"data row2 col15\" >0.00</td>\n",
       "      <td id=\"T_2fbe9_row2_col16\" class=\"data row2 col16\" >0.00</td>\n",
       "    </tr>\n",
       "    <tr>\n",
       "      <th id=\"T_2fbe9_level0_row3\" class=\"row_heading level0 row3\" >Incoherent Small-Scale Sparse Fabric</th>\n",
       "      <td id=\"T_2fbe9_row3_col0\" class=\"data row3 col0\" >0.00</td>\n",
       "      <td id=\"T_2fbe9_row3_col1\" class=\"data row3 col1\" >0.00</td>\n",
       "      <td id=\"T_2fbe9_row3_col2\" class=\"data row3 col2\" >0.00</td>\n",
       "      <td id=\"T_2fbe9_row3_col3\" class=\"data row3 col3\" >0.00</td>\n",
       "      <td id=\"T_2fbe9_row3_col4\" class=\"data row3 col4\" >0.00</td>\n",
       "      <td id=\"T_2fbe9_row3_col5\" class=\"data row3 col5\" >0.10</td>\n",
       "      <td id=\"T_2fbe9_row3_col6\" class=\"data row3 col6\" >0.00</td>\n",
       "      <td id=\"T_2fbe9_row3_col7\" class=\"data row3 col7\" >0.00</td>\n",
       "      <td id=\"T_2fbe9_row3_col8\" class=\"data row3 col8\" >0.41</td>\n",
       "      <td id=\"T_2fbe9_row3_col9\" class=\"data row3 col9\" >0.00</td>\n",
       "      <td id=\"T_2fbe9_row3_col10\" class=\"data row3 col10\" >0.07</td>\n",
       "      <td id=\"T_2fbe9_row3_col11\" class=\"data row3 col11\" >0.17</td>\n",
       "      <td id=\"T_2fbe9_row3_col12\" class=\"data row3 col12\" >0.00</td>\n",
       "      <td id=\"T_2fbe9_row3_col13\" class=\"data row3 col13\" >0.24</td>\n",
       "      <td id=\"T_2fbe9_row3_col14\" class=\"data row3 col14\" >0.00</td>\n",
       "      <td id=\"T_2fbe9_row3_col15\" class=\"data row3 col15\" >0.00</td>\n",
       "      <td id=\"T_2fbe9_row3_col16\" class=\"data row3 col16\" >0.00</td>\n",
       "    </tr>\n",
       "    <tr>\n",
       "      <th id=\"T_2fbe9_level0_row4\" class=\"row_heading level0 row4\" >Incoherent Small-Scale Compact Fabric</th>\n",
       "      <td id=\"T_2fbe9_row4_col0\" class=\"data row4 col0\" >0.00</td>\n",
       "      <td id=\"T_2fbe9_row4_col1\" class=\"data row4 col1\" >0.00</td>\n",
       "      <td id=\"T_2fbe9_row4_col2\" class=\"data row4 col2\" >0.00</td>\n",
       "      <td id=\"T_2fbe9_row4_col3\" class=\"data row4 col3\" >0.00</td>\n",
       "      <td id=\"T_2fbe9_row4_col4\" class=\"data row4 col4\" >0.01</td>\n",
       "      <td id=\"T_2fbe9_row4_col5\" class=\"data row4 col5\" >0.34</td>\n",
       "      <td id=\"T_2fbe9_row4_col6\" class=\"data row4 col6\" >0.00</td>\n",
       "      <td id=\"T_2fbe9_row4_col7\" class=\"data row4 col7\" >0.01</td>\n",
       "      <td id=\"T_2fbe9_row4_col8\" class=\"data row4 col8\" >0.44</td>\n",
       "      <td id=\"T_2fbe9_row4_col9\" class=\"data row4 col9\" >0.00</td>\n",
       "      <td id=\"T_2fbe9_row4_col10\" class=\"data row4 col10\" >0.04</td>\n",
       "      <td id=\"T_2fbe9_row4_col11\" class=\"data row4 col11\" >0.07</td>\n",
       "      <td id=\"T_2fbe9_row4_col12\" class=\"data row4 col12\" >0.00</td>\n",
       "      <td id=\"T_2fbe9_row4_col13\" class=\"data row4 col13\" >0.09</td>\n",
       "      <td id=\"T_2fbe9_row4_col14\" class=\"data row4 col14\" >0.00</td>\n",
       "      <td id=\"T_2fbe9_row4_col15\" class=\"data row4 col15\" >0.00</td>\n",
       "      <td id=\"T_2fbe9_row4_col16\" class=\"data row4 col16\" >0.00</td>\n",
       "    </tr>\n",
       "    <tr>\n",
       "      <th id=\"T_2fbe9_level0_row5\" class=\"row_heading level0 row5\" >Coherent Interconnected Fabric</th>\n",
       "      <td id=\"T_2fbe9_row5_col0\" class=\"data row5 col0\" >0.01</td>\n",
       "      <td id=\"T_2fbe9_row5_col1\" class=\"data row5 col1\" >0.22</td>\n",
       "      <td id=\"T_2fbe9_row5_col2\" class=\"data row5 col2\" >0.03</td>\n",
       "      <td id=\"T_2fbe9_row5_col3\" class=\"data row5 col3\" >0.03</td>\n",
       "      <td id=\"T_2fbe9_row5_col4\" class=\"data row5 col4\" >0.31</td>\n",
       "      <td id=\"T_2fbe9_row5_col5\" class=\"data row5 col5\" >0.34</td>\n",
       "      <td id=\"T_2fbe9_row5_col6\" class=\"data row5 col6\" >0.00</td>\n",
       "      <td id=\"T_2fbe9_row5_col7\" class=\"data row5 col7\" >0.04</td>\n",
       "      <td id=\"T_2fbe9_row5_col8\" class=\"data row5 col8\" >0.02</td>\n",
       "      <td id=\"T_2fbe9_row5_col9\" class=\"data row5 col9\" >0.00</td>\n",
       "      <td id=\"T_2fbe9_row5_col10\" class=\"data row5 col10\" >0.00</td>\n",
       "      <td id=\"T_2fbe9_row5_col11\" class=\"data row5 col11\" >0.00</td>\n",
       "      <td id=\"T_2fbe9_row5_col12\" class=\"data row5 col12\" >0.00</td>\n",
       "      <td id=\"T_2fbe9_row5_col13\" class=\"data row5 col13\" >0.00</td>\n",
       "      <td id=\"T_2fbe9_row5_col14\" class=\"data row5 col14\" >0.00</td>\n",
       "      <td id=\"T_2fbe9_row5_col15\" class=\"data row5 col15\" >0.00</td>\n",
       "      <td id=\"T_2fbe9_row5_col16\" class=\"data row5 col16\" >0.00</td>\n",
       "    </tr>\n",
       "    <tr>\n",
       "      <th id=\"T_2fbe9_level0_row6\" class=\"row_heading level0 row6\" >Coherent Dense Disjoint Fabric</th>\n",
       "      <td id=\"T_2fbe9_row6_col0\" class=\"data row6 col0\" >0.00</td>\n",
       "      <td id=\"T_2fbe9_row6_col1\" class=\"data row6 col1\" >0.00</td>\n",
       "      <td id=\"T_2fbe9_row6_col2\" class=\"data row6 col2\" >0.00</td>\n",
       "      <td id=\"T_2fbe9_row6_col3\" class=\"data row6 col3\" >0.00</td>\n",
       "      <td id=\"T_2fbe9_row6_col4\" class=\"data row6 col4\" >0.02</td>\n",
       "      <td id=\"T_2fbe9_row6_col5\" class=\"data row6 col5\" >0.68</td>\n",
       "      <td id=\"T_2fbe9_row6_col6\" class=\"data row6 col6\" >0.00</td>\n",
       "      <td id=\"T_2fbe9_row6_col7\" class=\"data row6 col7\" >0.01</td>\n",
       "      <td id=\"T_2fbe9_row6_col8\" class=\"data row6 col8\" >0.23</td>\n",
       "      <td id=\"T_2fbe9_row6_col9\" class=\"data row6 col9\" >0.00</td>\n",
       "      <td id=\"T_2fbe9_row6_col10\" class=\"data row6 col10\" >0.02</td>\n",
       "      <td id=\"T_2fbe9_row6_col11\" class=\"data row6 col11\" >0.02</td>\n",
       "      <td id=\"T_2fbe9_row6_col12\" class=\"data row6 col12\" >0.00</td>\n",
       "      <td id=\"T_2fbe9_row6_col13\" class=\"data row6 col13\" >0.03</td>\n",
       "      <td id=\"T_2fbe9_row6_col14\" class=\"data row6 col14\" >0.00</td>\n",
       "      <td id=\"T_2fbe9_row6_col15\" class=\"data row6 col15\" >0.00</td>\n",
       "      <td id=\"T_2fbe9_row6_col16\" class=\"data row6 col16\" >0.00</td>\n",
       "    </tr>\n",
       "    <tr>\n",
       "      <th id=\"T_2fbe9_level0_row7\" class=\"row_heading level0 row7\" >Coherent Dense Adjacent Fabric</th>\n",
       "      <td id=\"T_2fbe9_row7_col0\" class=\"data row7 col0\" >0.00</td>\n",
       "      <td id=\"T_2fbe9_row7_col1\" class=\"data row7 col1\" >0.01</td>\n",
       "      <td id=\"T_2fbe9_row7_col2\" class=\"data row7 col2\" >0.01</td>\n",
       "      <td id=\"T_2fbe9_row7_col3\" class=\"data row7 col3\" >0.00</td>\n",
       "      <td id=\"T_2fbe9_row7_col4\" class=\"data row7 col4\" >0.08</td>\n",
       "      <td id=\"T_2fbe9_row7_col5\" class=\"data row7 col5\" >0.78</td>\n",
       "      <td id=\"T_2fbe9_row7_col6\" class=\"data row7 col6\" >0.00</td>\n",
       "      <td id=\"T_2fbe9_row7_col7\" class=\"data row7 col7\" >0.02</td>\n",
       "      <td id=\"T_2fbe9_row7_col8\" class=\"data row7 col8\" >0.08</td>\n",
       "      <td id=\"T_2fbe9_row7_col9\" class=\"data row7 col9\" >0.00</td>\n",
       "      <td id=\"T_2fbe9_row7_col10\" class=\"data row7 col10\" >0.01</td>\n",
       "      <td id=\"T_2fbe9_row7_col11\" class=\"data row7 col11\" >0.00</td>\n",
       "      <td id=\"T_2fbe9_row7_col12\" class=\"data row7 col12\" >0.00</td>\n",
       "      <td id=\"T_2fbe9_row7_col13\" class=\"data row7 col13\" >0.01</td>\n",
       "      <td id=\"T_2fbe9_row7_col14\" class=\"data row7 col14\" >0.00</td>\n",
       "      <td id=\"T_2fbe9_row7_col15\" class=\"data row7 col15\" >0.00</td>\n",
       "      <td id=\"T_2fbe9_row7_col16\" class=\"data row7 col16\" >0.00</td>\n",
       "    </tr>\n",
       "  </tbody>\n",
       "</table>\n"
      ],
      "text/plain": [
       "<pandas.io.formats.style.Styler at 0x7b26a1d210a0>"
      ]
     },
     "execution_count": 21,
     "metadata": {},
     "output_type": "execute_result"
    }
   ],
   "source": [
    "styled_df = himoc_lcz_tab[selected_cols]\n",
    "\n",
    "f = {k: \"{:.2f}\" for k in himoc_lcz_tab.columns.values}\n",
    "styled_df = himoc_lcz_tab.style.format(f).background_gradient(axis=1, cmap=\"BuGn\")\n",
    "styled_df"
   ]
  },
  {
   "cell_type": "markdown",
   "id": "4b6e14ed-dad2-470c-b5ff-7dd100cc6bde",
   "metadata": {},
   "source": [
    "in all cases more than 70% of the buildings are assigned to 1 or 2 classes."
   ]
  },
  {
   "cell_type": "code",
   "execution_count": 22,
   "id": "20fac1b0-9ffd-4c7c-9c61-753d8b619697",
   "metadata": {},
   "outputs": [],
   "source": [
    "await dfi.export_async(styled_df, \"../data/lcz.png\", dpi=300)"
   ]
  },
  {
   "cell_type": "code",
   "execution_count": 23,
   "id": "f766734d-9956-477b-a9ce-19db932b3b55",
   "metadata": {},
   "outputs": [
    {
     "data": {
      "text/plain": [
       "map_label\n",
       "7    0.427676\n",
       "5    0.158930\n",
       "4    0.145220\n",
       "3    0.091386\n",
       "8    0.088947\n",
       "1    0.040571\n",
       "2    0.029568\n",
       "6    0.017703\n",
       "Name: count, dtype: float64"
      ]
     },
     "execution_count": 23,
     "metadata": {},
     "output_type": "execute_result"
    }
   ],
   "source": [
    "all_data.map_label.value_counts() / all_data.shape[0]"
   ]
  },
  {
   "cell_type": "code",
   "execution_count": 94,
   "id": "a49fe57c-9031-4bc3-98c1-698b0c7eda7b",
   "metadata": {},
   "outputs": [],
   "source": [
    "# building_utm.iloc[160_000: 190_000].explore(column='lcz', categorical=True, prefer_canvas=True, tiles='cartodb positron')"
   ]
  }
 ],
 "metadata": {
  "kernelspec": {
   "display_name": "Python 3 (ipykernel)",
   "language": "python",
   "name": "python3"
  },
  "language_info": {
   "codemirror_mode": {
    "name": "ipython",
    "version": 3
   },
   "file_extension": ".py",
   "mimetype": "text/x-python",
   "name": "python",
   "nbconvert_exporter": "python",
   "pygments_lexer": "ipython3",
   "version": "3.12.10"
  }
 },
 "nbformat": 4,
 "nbformat_minor": 5
}
