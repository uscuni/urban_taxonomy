{
 "cells": [
  {
   "cell_type": "code",
   "execution_count": 11,
   "id": "0fbdfe95",
   "metadata": {},
   "outputs": [
    {
     "name": "stdout",
     "output_type": "stream",
     "text": [
      "core spec: ModuleSpec(name='core', loader=<_frozen_importlib_external.SourceFileLoader object at 0x000001CDF21C0230>, origin='d:\\\\Work\\\\Github_Morphotopes\\\\urban_taxonomy\\\\src\\\\core\\\\__init__.py', submodule_search_locations=['d:\\\\Work\\\\Github_Morphotopes\\\\urban_taxonomy\\\\src\\\\core'])\n"
     ]
    }
   ],
   "source": [
    "import sys\n",
    "from pathlib import Path\n",
    "\n",
    "proj_root = Path.cwd().parent        # .../urban_taxonomy\n",
    "src = proj_root / \"src\"              # .../urban_taxonomy/src\n",
    "if str(src) not in sys.path:\n",
    "    sys.path.insert(0, str(src))\n",
    "\n",
    "import importlib.util\n",
    "print(\"core spec:\", importlib.util.find_spec(\"core\"))"
   ]
  },
  {
   "cell_type": "code",
   "execution_count": null,
   "id": "bed2c2ed",
   "metadata": {},
   "outputs": [],
   "source": []
  },
  {
   "cell_type": "code",
   "execution_count": 12,
   "id": "4ae802cb-91a5-4cf6-bf4f-21c79c2e82e8",
   "metadata": {},
   "outputs": [
    {
     "name": "stdout",
     "output_type": "stream",
     "text": [
      "Reading streets…\n"
     ]
    },
    {
     "ename": "FileNotFoundError",
     "evalue": "[WinError 2] Failed to open local file 'D:/Work/Github_Morphotopes/data/overture_streets/streets_0.parquet'. Detail: [Windows error 2] The system cannot find the file specified.\r\n",
     "output_type": "error",
     "traceback": [
      "\u001b[31m---------------------------------------------------------------------------\u001b[39m",
      "\u001b[31mFileNotFoundError\u001b[39m                         Traceback (most recent call last)",
      "\u001b[36mFile \u001b[39m\u001b[32mc:\\Users\\Itrat\\Miniconda3_new\\Lib\\site-packages\\geopandas\\io\\arrow.py:650\u001b[39m, in \u001b[36m_read_parquet_schema_and_metadata\u001b[39m\u001b[34m(path, filesystem)\u001b[39m\n\u001b[32m    649\u001b[39m \u001b[38;5;28;01mtry\u001b[39;00m:\n\u001b[32m--> \u001b[39m\u001b[32m650\u001b[39m     schema = \u001b[43mparquet\u001b[49m\u001b[43m.\u001b[49m\u001b[43mParquetDataset\u001b[49m\u001b[43m(\u001b[49m\u001b[43mpath\u001b[49m\u001b[43m,\u001b[49m\u001b[43m \u001b[49m\u001b[43mfilesystem\u001b[49m\u001b[43m=\u001b[49m\u001b[43mfilesystem\u001b[49m\u001b[43m,\u001b[49m\u001b[43m \u001b[49m\u001b[43m*\u001b[49m\u001b[43m*\u001b[49m\u001b[43mkwargs\u001b[49m\u001b[43m)\u001b[49m.schema\n\u001b[32m    651\u001b[39m \u001b[38;5;28;01mexcept\u001b[39;00m \u001b[38;5;167;01mException\u001b[39;00m:\n",
      "\u001b[36mFile \u001b[39m\u001b[32mc:\\Users\\Itrat\\Miniconda3_new\\Lib\\site-packages\\pyarrow\\parquet\\core.py:1424\u001b[39m, in \u001b[36mParquetDataset.__init__\u001b[39m\u001b[34m(self, path_or_paths, filesystem, schema, filters, read_dictionary, binary_type, list_type, memory_map, buffer_size, partitioning, ignore_prefixes, pre_buffer, coerce_int96_timestamp_unit, decryption_properties, thrift_string_size_limit, thrift_container_size_limit, page_checksum_verification, arrow_extensions_enabled)\u001b[39m\n\u001b[32m   1421\u001b[39m     partitioning = ds.HivePartitioning.discover(\n\u001b[32m   1422\u001b[39m         infer_dictionary=\u001b[38;5;28;01mTrue\u001b[39;00m)\n\u001b[32m-> \u001b[39m\u001b[32m1424\u001b[39m \u001b[38;5;28mself\u001b[39m._dataset = \u001b[43mds\u001b[49m\u001b[43m.\u001b[49m\u001b[43mdataset\u001b[49m\u001b[43m(\u001b[49m\u001b[43mpath_or_paths\u001b[49m\u001b[43m,\u001b[49m\u001b[43m \u001b[49m\u001b[43mfilesystem\u001b[49m\u001b[43m=\u001b[49m\u001b[43mfilesystem\u001b[49m\u001b[43m,\u001b[49m\n\u001b[32m   1425\u001b[39m \u001b[43m                           \u001b[49m\u001b[43mschema\u001b[49m\u001b[43m=\u001b[49m\u001b[43mschema\u001b[49m\u001b[43m,\u001b[49m\u001b[43m \u001b[49m\u001b[38;5;28;43mformat\u001b[39;49m\u001b[43m=\u001b[49m\u001b[43mparquet_format\u001b[49m\u001b[43m,\u001b[49m\n\u001b[32m   1426\u001b[39m \u001b[43m                           \u001b[49m\u001b[43mpartitioning\u001b[49m\u001b[43m=\u001b[49m\u001b[43mpartitioning\u001b[49m\u001b[43m,\u001b[49m\n\u001b[32m   1427\u001b[39m \u001b[43m                           \u001b[49m\u001b[43mignore_prefixes\u001b[49m\u001b[43m=\u001b[49m\u001b[43mignore_prefixes\u001b[49m\u001b[43m)\u001b[49m\n",
      "\u001b[36mFile \u001b[39m\u001b[32mc:\\Users\\Itrat\\Miniconda3_new\\Lib\\site-packages\\pyarrow\\dataset.py:790\u001b[39m, in \u001b[36mdataset\u001b[39m\u001b[34m(source, schema, format, filesystem, partitioning, partition_base_dir, exclude_invalid_files, ignore_prefixes)\u001b[39m\n\u001b[32m    789\u001b[39m \u001b[38;5;28;01mif\u001b[39;00m _is_path_like(source):\n\u001b[32m--> \u001b[39m\u001b[32m790\u001b[39m     \u001b[38;5;28;01mreturn\u001b[39;00m \u001b[43m_filesystem_dataset\u001b[49m\u001b[43m(\u001b[49m\u001b[43msource\u001b[49m\u001b[43m,\u001b[49m\u001b[43m \u001b[49m\u001b[43m*\u001b[49m\u001b[43m*\u001b[49m\u001b[43mkwargs\u001b[49m\u001b[43m)\u001b[49m\n\u001b[32m    791\u001b[39m \u001b[38;5;28;01melif\u001b[39;00m \u001b[38;5;28misinstance\u001b[39m(source, (\u001b[38;5;28mtuple\u001b[39m, \u001b[38;5;28mlist\u001b[39m)):\n",
      "\u001b[36mFile \u001b[39m\u001b[32mc:\\Users\\Itrat\\Miniconda3_new\\Lib\\site-packages\\pyarrow\\dataset.py:472\u001b[39m, in \u001b[36m_filesystem_dataset\u001b[39m\u001b[34m(source, schema, filesystem, partitioning, format, partition_base_dir, exclude_invalid_files, selector_ignore_prefixes)\u001b[39m\n\u001b[32m    471\u001b[39m \u001b[38;5;28;01melse\u001b[39;00m:\n\u001b[32m--> \u001b[39m\u001b[32m472\u001b[39m     fs, paths_or_selector = \u001b[43m_ensure_single_source\u001b[49m\u001b[43m(\u001b[49m\u001b[43msource\u001b[49m\u001b[43m,\u001b[49m\u001b[43m \u001b[49m\u001b[43mfilesystem\u001b[49m\u001b[43m)\u001b[49m\n\u001b[32m    474\u001b[39m options = FileSystemFactoryOptions(\n\u001b[32m    475\u001b[39m     partitioning=partitioning,\n\u001b[32m    476\u001b[39m     partition_base_dir=partition_base_dir,\n\u001b[32m    477\u001b[39m     exclude_invalid_files=exclude_invalid_files,\n\u001b[32m    478\u001b[39m     selector_ignore_prefixes=selector_ignore_prefixes\n\u001b[32m    479\u001b[39m )\n",
      "\u001b[36mFile \u001b[39m\u001b[32mc:\\Users\\Itrat\\Miniconda3_new\\Lib\\site-packages\\pyarrow\\dataset.py:437\u001b[39m, in \u001b[36m_ensure_single_source\u001b[39m\u001b[34m(path, filesystem)\u001b[39m\n\u001b[32m    436\u001b[39m \u001b[38;5;28;01melse\u001b[39;00m:\n\u001b[32m--> \u001b[39m\u001b[32m437\u001b[39m     \u001b[38;5;28;01mraise\u001b[39;00m \u001b[38;5;167;01mFileNotFoundError\u001b[39;00m(path)\n\u001b[32m    439\u001b[39m \u001b[38;5;28;01mreturn\u001b[39;00m filesystem, paths_or_selector\n",
      "\u001b[31mFileNotFoundError\u001b[39m: D:/Work/Github_Morphotopes/data/overture_streets/streets_0.parquet",
      "\nDuring handling of the above exception, another exception occurred:\n",
      "\u001b[31mFileNotFoundError\u001b[39m                         Traceback (most recent call last)",
      "\u001b[36mCell\u001b[39m\u001b[36m \u001b[39m\u001b[32mIn[12]\u001b[39m\u001b[32m, line 5\u001b[39m\n\u001b[32m      2\u001b[39m \u001b[38;5;28;01mfrom\u001b[39;00m\u001b[38;5;250m \u001b[39m\u001b[34;01mpathlib\u001b[39;00m\u001b[38;5;250m \u001b[39m\u001b[38;5;28;01mimport\u001b[39;00m Path\n\u001b[32m      4\u001b[39m sys.path.append(\u001b[38;5;28mstr\u001b[39m(Path().resolve() / \u001b[33m\"\u001b[39m\u001b[33msrc\u001b[39m\u001b[33m\"\u001b[39m))  \u001b[38;5;66;03m# project root / src\u001b[39;00m\n\u001b[32m----> \u001b[39m\u001b[32m5\u001b[39m \u001b[38;5;28;01mfrom\u001b[39;00m\u001b[38;5;250m \u001b[39m\u001b[34;01mcore\u001b[39;00m\u001b[34;01m.\u001b[39;00m\u001b[34;01mgenerate_streets\u001b[39;00m\u001b[38;5;250m \u001b[39m\u001b[38;5;28;01mimport\u001b[39;00m read_overture_region_streets\n\u001b[32m      7\u001b[39m \u001b[38;5;28;01mimport\u001b[39;00m\u001b[38;5;250m \u001b[39m\u001b[34;01mgc\u001b[39;00m\n\u001b[32m      8\u001b[39m \u001b[38;5;28;01mimport\u001b[39;00m\u001b[38;5;250m \u001b[39m\u001b[34;01mglob\u001b[39;00m\n",
      "\u001b[36mFile \u001b[39m\u001b[32md:\\Work\\Github_Morphotopes\\urban_taxonomy\\src\\core\\generate_streets.py:34\u001b[39m\n\u001b[32m     31\u001b[39m     \u001b[38;5;28;01mreturn\u001b[39;00m \u001b[38;5;28;01mFalse\u001b[39;00m\n\u001b[32m     33\u001b[39m \u001b[38;5;28mprint\u001b[39m(\u001b[33m\"\u001b[39m\u001b[33mReading streets…\u001b[39m\u001b[33m\"\u001b[39m)\n\u001b[32m---> \u001b[39m\u001b[32m34\u001b[39m streets = \u001b[43mgpd\u001b[49m\u001b[43m.\u001b[49m\u001b[43mread_parquet\u001b[49m\u001b[43m(\u001b[49m\u001b[33;43mf\u001b[39;49m\u001b[33;43m\"\u001b[39;49m\u001b[38;5;132;43;01m{\u001b[39;49;00m\u001b[43moverture_streets_dir\u001b[49m\u001b[38;5;132;43;01m}\u001b[39;49;00m\u001b[33;43mstreets_\u001b[39;49m\u001b[38;5;132;43;01m{\u001b[39;49;00m\u001b[43mREGION_ID\u001b[49m\u001b[38;5;132;43;01m}\u001b[39;49;00m\u001b[33;43m.parquet\u001b[39;49m\u001b[33;43m\"\u001b[39;49m\u001b[43m)\u001b[49m\n\u001b[32m     35\u001b[39m \u001b[38;5;28;01mif\u001b[39;00m streets.crs \u001b[38;5;129;01mis\u001b[39;00m \u001b[38;5;28;01mNone\u001b[39;00m:  \u001b[38;5;66;03m# only if you know the source is WGS84\u001b[39;00m\n\u001b[32m     36\u001b[39m     streets = streets.set_crs(\u001b[32m4326\u001b[39m)\n",
      "\u001b[36mFile \u001b[39m\u001b[32mc:\\Users\\Itrat\\Miniconda3_new\\Lib\\site-packages\\geopandas\\io\\arrow.py:760\u001b[39m, in \u001b[36m_read_parquet\u001b[39m\u001b[34m(path, columns, storage_options, bbox, to_pandas_kwargs, **kwargs)\u001b[39m\n\u001b[32m    756\u001b[39m filesystem, path = _get_filesystem_path(\n\u001b[32m    757\u001b[39m     path, filesystem=filesystem, storage_options=storage_options\n\u001b[32m    758\u001b[39m )\n\u001b[32m    759\u001b[39m path = _expand_user(path)\n\u001b[32m--> \u001b[39m\u001b[32m760\u001b[39m schema, metadata = \u001b[43m_read_parquet_schema_and_metadata\u001b[49m\u001b[43m(\u001b[49m\u001b[43mpath\u001b[49m\u001b[43m,\u001b[49m\u001b[43m \u001b[49m\u001b[43mfilesystem\u001b[49m\u001b[43m)\u001b[49m\n\u001b[32m    762\u001b[39m geo_metadata = _validate_and_decode_metadata(metadata)\n\u001b[32m    763\u001b[39m \u001b[38;5;28;01mif\u001b[39;00m \u001b[38;5;28mlen\u001b[39m(geo_metadata[\u001b[33m\"\u001b[39m\u001b[33mcolumns\u001b[39m\u001b[33m\"\u001b[39m]) == \u001b[32m0\u001b[39m:\n",
      "\u001b[36mFile \u001b[39m\u001b[32mc:\\Users\\Itrat\\Miniconda3_new\\Lib\\site-packages\\geopandas\\io\\arrow.py:652\u001b[39m, in \u001b[36m_read_parquet_schema_and_metadata\u001b[39m\u001b[34m(path, filesystem)\u001b[39m\n\u001b[32m    650\u001b[39m     schema = parquet.ParquetDataset(path, filesystem=filesystem, **kwargs).schema\n\u001b[32m    651\u001b[39m \u001b[38;5;28;01mexcept\u001b[39;00m \u001b[38;5;167;01mException\u001b[39;00m:\n\u001b[32m--> \u001b[39m\u001b[32m652\u001b[39m     schema = \u001b[43mparquet\u001b[49m\u001b[43m.\u001b[49m\u001b[43mread_schema\u001b[49m\u001b[43m(\u001b[49m\u001b[43mpath\u001b[49m\u001b[43m,\u001b[49m\u001b[43m \u001b[49m\u001b[43mfilesystem\u001b[49m\u001b[43m=\u001b[49m\u001b[43mfilesystem\u001b[49m\u001b[43m)\u001b[49m\n\u001b[32m    654\u001b[39m metadata = schema.metadata\n\u001b[32m    656\u001b[39m \u001b[38;5;66;03m# read metadata separately to get the raw Parquet FileMetaData metadata\u001b[39;00m\n\u001b[32m    657\u001b[39m \u001b[38;5;66;03m# (pyarrow doesn't properly exposes those in schema.metadata for files\u001b[39;00m\n\u001b[32m    658\u001b[39m \u001b[38;5;66;03m# created by GDAL - https://issues.apache.org/jira/browse/ARROW-16688)\u001b[39;00m\n",
      "\u001b[36mFile \u001b[39m\u001b[32mc:\\Users\\Itrat\\Miniconda3_new\\Lib\\site-packages\\pyarrow\\parquet\\core.py:2389\u001b[39m, in \u001b[36mread_schema\u001b[39m\u001b[34m(where, memory_map, decryption_properties, filesystem)\u001b[39m\n\u001b[32m   2387\u001b[39m file_ctx = nullcontext()\n\u001b[32m   2388\u001b[39m \u001b[38;5;28;01mif\u001b[39;00m filesystem \u001b[38;5;129;01mis\u001b[39;00m \u001b[38;5;129;01mnot\u001b[39;00m \u001b[38;5;28;01mNone\u001b[39;00m:\n\u001b[32m-> \u001b[39m\u001b[32m2389\u001b[39m     file_ctx = where = \u001b[43mfilesystem\u001b[49m\u001b[43m.\u001b[49m\u001b[43mopen_input_file\u001b[49m\u001b[43m(\u001b[49m\u001b[43mwhere\u001b[49m\u001b[43m)\u001b[49m\n\u001b[32m   2391\u001b[39m \u001b[38;5;28;01mwith\u001b[39;00m file_ctx:\n\u001b[32m   2392\u001b[39m     file = ParquetFile(\n\u001b[32m   2393\u001b[39m         where, memory_map=memory_map,\n\u001b[32m   2394\u001b[39m         decryption_properties=decryption_properties)\n",
      "\u001b[36mFile \u001b[39m\u001b[32mc:\\Users\\Itrat\\Miniconda3_new\\Lib\\site-packages\\pyarrow\\_fs.pyx:814\u001b[39m, in \u001b[36mpyarrow._fs.FileSystem.open_input_file\u001b[39m\u001b[34m()\u001b[39m\n",
      "\u001b[36mFile \u001b[39m\u001b[32mc:\\Users\\Itrat\\Miniconda3_new\\Lib\\site-packages\\pyarrow\\error.pxi:155\u001b[39m, in \u001b[36mpyarrow.lib.pyarrow_internal_check_status\u001b[39m\u001b[34m()\u001b[39m\n",
      "\u001b[36mFile \u001b[39m\u001b[32mc:\\Users\\Itrat\\Miniconda3_new\\Lib\\site-packages\\pyarrow\\error.pxi:92\u001b[39m, in \u001b[36mpyarrow.lib.check_status\u001b[39m\u001b[34m()\u001b[39m\n",
      "\u001b[31mFileNotFoundError\u001b[39m: [WinError 2] Failed to open local file 'D:/Work/Github_Morphotopes/data/overture_streets/streets_0.parquet'. Detail: [Windows error 2] The system cannot find the file specified.\r\n"
     ]
    }
   ],
   "source": [
    "import sys\n",
    "from pathlib import Path\n",
    "\n",
    "sys.path.append(str(Path().resolve() / \"src\"))  # project root / src\n",
    "from core.generate_streets import read_overture_region_streets\n",
    "\n",
    "import gc\n",
    "import glob\n",
    "\n",
    "import geopandas as gpd\n",
    "import momepy as mm\n",
    "import numpy as np\n",
    "import pandas as pd\n",
    "import shapely\n",
    "from libpysal.graph import Graph, read_parquet\n",
    "import datetime\n",
    "\n",
    "\n",
    "\n",
    "street_output_dir = 'D:/Work/Github_Morphotopes/data/overture_streets/'\n",
    "input_datadir = \"D:/Work/Github_Morphotopes/data/\""
   ]
  },
  {
   "cell_type": "code",
   "execution_count": null,
   "id": "51cd6e17",
   "metadata": {},
   "outputs": [],
   "source": [
    "regions_v = \"0\""
   ]
  },
  {
   "cell_type": "markdown",
   "id": "ec4ecd0b-c82c-40c7-a7a3-bf764e259c42",
   "metadata": {},
   "source": [
    "## Run sequentially for all streets"
   ]
  },
  {
   "cell_type": "markdown",
   "id": "92ae0921",
   "metadata": {},
   "source": [
    "##### Reads cadaster hull"
   ]
  },
  {
   "cell_type": "code",
   "execution_count": null,
   "id": "bcdf8639",
   "metadata": {},
   "outputs": [
    {
     "data": {
      "text/plain": [
       "(1, 1)"
      ]
     },
     "execution_count": 40,
     "metadata": {},
     "output_type": "execute_result"
    }
   ],
   "source": [
    "region_hulls = gpd.read_parquet(input_datadir + f\"cadastre_regions_hull.parquet\")\n",
    "region_hulls.shape"
   ]
  },
  {
   "cell_type": "code",
   "execution_count": null,
   "id": "8b739799",
   "metadata": {},
   "outputs": [
    {
     "data": {
      "text/html": [
       "<div>\n",
       "<style scoped>\n",
       "    .dataframe tbody tr th:only-of-type {\n",
       "        vertical-align: middle;\n",
       "    }\n",
       "\n",
       "    .dataframe tbody tr th {\n",
       "        vertical-align: top;\n",
       "    }\n",
       "\n",
       "    .dataframe thead th {\n",
       "        text-align: right;\n",
       "    }\n",
       "</style>\n",
       "<table border=\"1\" class=\"dataframe\">\n",
       "  <thead>\n",
       "    <tr style=\"text-align: right;\">\n",
       "      <th></th>\n",
       "      <th>convex_hull</th>\n",
       "    </tr>\n",
       "    <tr>\n",
       "      <th>labels</th>\n",
       "      <th></th>\n",
       "    </tr>\n",
       "  </thead>\n",
       "  <tbody>\n",
       "    <tr>\n",
       "      <th>0</th>\n",
       "      <td>POLYGON ((393200 5707900, 393200 5709300, 3933...</td>\n",
       "    </tr>\n",
       "  </tbody>\n",
       "</table>\n",
       "</div>"
      ],
      "text/plain": [
       "                                              convex_hull\n",
       "labels                                                   \n",
       "0       POLYGON ((393200 5707900, 393200 5709300, 3933..."
      ]
     },
     "execution_count": 41,
     "metadata": {},
     "output_type": "execute_result"
    }
   ],
   "source": [
    "region_hulls"
   ]
  },
  {
   "cell_type": "markdown",
   "id": "cdc09da7",
   "metadata": {},
   "source": [
    "## Run in parallel for all non-procesed streets in region_hulls"
   ]
  },
  {
   "cell_type": "markdown",
   "id": "78fddbc7",
   "metadata": {},
   "source": [
    "##### Define a worker function\n"
   ]
  },
  {
   "cell_type": "code",
   "execution_count": null,
   "id": "b7a4d373-6fa3-4c62-8dbd-ad2cdae89586",
   "metadata": {},
   "outputs": [],
   "source": [
    "def process_and_save(region_hull, region_id):\n",
    "    print('Processing', region_id, datetime.datetime.now())\n",
    "    streets = read_overture_region_streets(region_hull, region_id)\n",
    "    streets.to_parquet(street_output_dir + f'streets_{region_id}.parquet')"
   ]
  },
  {
   "cell_type": "code",
   "execution_count": null,
   "id": "511667ed-559e-4086-80a4-681a51e6f5d6",
   "metadata": {},
   "outputs": [],
   "source": []
  },
  {
   "cell_type": "code",
   "execution_count": null,
   "id": "cae70fac-9fad-4f28-8c7c-901c58e66af0",
   "metadata": {},
   "outputs": [],
   "source": [
    "downloaded_streets = glob.glob(street_output_dir + '*.parquet')\n",
    "downloaded_streets = [int(s.split('_')[-1][:-3]) for s in downloaded_streets]"
   ]
  },
  {
   "cell_type": "code",
   "execution_count": null,
   "id": "c573fc1d",
   "metadata": {},
   "outputs": [
    {
     "data": {
      "text/plain": [
       "[]"
      ]
     },
     "execution_count": 44,
     "metadata": {},
     "output_type": "execute_result"
    }
   ],
   "source": [
    "downloaded_streets"
   ]
  },
  {
   "cell_type": "code",
   "execution_count": null,
   "id": "a350eeaf-0056-4377-9ecd-3ab5641d4c13",
   "metadata": {},
   "outputs": [
    {
     "data": {
      "text/html": [
       "<div>\n",
       "<style scoped>\n",
       "    .dataframe tbody tr th:only-of-type {\n",
       "        vertical-align: middle;\n",
       "    }\n",
       "\n",
       "    .dataframe tbody tr th {\n",
       "        vertical-align: top;\n",
       "    }\n",
       "\n",
       "    .dataframe thead th {\n",
       "        text-align: right;\n",
       "    }\n",
       "</style>\n",
       "<table border=\"1\" class=\"dataframe\">\n",
       "  <thead>\n",
       "    <tr style=\"text-align: right;\">\n",
       "      <th></th>\n",
       "      <th>convex_hull</th>\n",
       "    </tr>\n",
       "    <tr>\n",
       "      <th>labels</th>\n",
       "      <th></th>\n",
       "    </tr>\n",
       "  </thead>\n",
       "  <tbody>\n",
       "    <tr>\n",
       "      <th>0</th>\n",
       "      <td>POLYGON ((393200 5707900, 393200 5709300, 3933...</td>\n",
       "    </tr>\n",
       "  </tbody>\n",
       "</table>\n",
       "</div>"
      ],
      "text/plain": [
       "                                              convex_hull\n",
       "labels                                                   \n",
       "0       POLYGON ((393200 5707900, 393200 5709300, 3933..."
      ]
     },
     "execution_count": 45,
     "metadata": {},
     "output_type": "execute_result"
    }
   ],
   "source": [
    "region_hulls = region_hulls.loc[~region_hulls.index.isin(downloaded_streets), ]\n",
    "region_hulls"
   ]
  },
  {
   "cell_type": "code",
   "execution_count": null,
   "id": "287b96b9",
   "metadata": {},
   "outputs": [],
   "source": []
  },
  {
   "cell_type": "markdown",
   "id": "3f0ee383",
   "metadata": {},
   "source": [
    "##### after following code is run, streets_0.parquet is created in Overture_street folder\n"
   ]
  },
  {
   "cell_type": "code",
   "execution_count": null,
   "id": "c257cdc5-8b3b-43f1-a04f-e313718f9086",
   "metadata": {},
   "outputs": [],
   "source": [
    "%%capture cap\n",
    "\n",
    "from joblib import Parallel, delayed\n",
    "\n",
    "n_jobs = -1\n",
    "new = Parallel(n_jobs=n_jobs)(\n",
    "    delayed(process_and_save)(region_hull.iloc[0], region_id) for region_id, region_hull in region_hulls.to_crs(epsg=4326).iterrows()\n",
    ")\n"
   ]
  },
  {
   "cell_type": "code",
   "execution_count": null,
   "id": "b70284c9",
   "metadata": {},
   "outputs": [],
   "source": []
  },
  {
   "cell_type": "code",
   "execution_count": null,
   "id": "6444fea7",
   "metadata": {},
   "outputs": [],
   "source": []
  },
  {
   "cell_type": "code",
   "execution_count": null,
   "id": "4cc3f4eb",
   "metadata": {},
   "outputs": [],
   "source": []
  },
  {
   "cell_type": "code",
   "execution_count": null,
   "id": "f7e2bbe3",
   "metadata": {},
   "outputs": [
    {
     "name": "stdout",
     "output_type": "stream",
     "text": [
      "                                   id  \\\n",
      "80   0871f12cd0ffffff046fbde43ca9c48a   \n",
      "91   0891f12cd083ffff047ffcf6a6b7f443   \n",
      "92   0891f12cd083ffff046fbef03bf6a352   \n",
      "112  08a1f12cd0807fff047fbcf07e483371   \n",
      "113  08a1f12cd0807fff046fbd039b62a421   \n",
      "\n",
      "                                              geometry  \\\n",
      "80   LINESTRING (7.46232 51.51425, 7.46227 51.51376...   \n",
      "91   LINESTRING (7.46598 51.51293, 7.46535 51.51294...   \n",
      "92   LINESTRING (7.46534 51.51373, 7.46534 51.51346...   \n",
      "112  LINESTRING (7.46533 51.51425, 7.46533 51.5142,...   \n",
      "113  LINESTRING (7.46582 51.51426, 7.46581 51.51422...   \n",
      "\n",
      "                                                  bbox  version  \\\n",
      "80   {'xmax': 7.4690022468566895, 'xmin': 7.4621915...        0   \n",
      "91   {'xmax': 7.465977191925049, 'xmin': 7.46504640...        0   \n",
      "92   {'xmax': 7.465339660644531, 'xmin': 7.46529340...        0   \n",
      "112  {'xmax': 7.465331554412842, 'xmin': 7.46532964...        0   \n",
      "113  {'xmax': 7.465828895568848, 'xmin': 7.46581315...        0   \n",
      "\n",
      "                                               sources subtype       class  \\\n",
      "80   [{'confidence': None, 'dataset': 'OpenStreetMa...    rail        None   \n",
      "91   [{'confidence': None, 'dataset': 'OpenStreetMa...    road  pedestrian   \n",
      "92   [{'confidence': None, 'dataset': 'OpenStreetMa...    road  pedestrian   \n",
      "112  [{'confidence': None, 'dataset': 'OpenStreetMa...    road  pedestrian   \n",
      "113  [{'confidence': None, 'dataset': 'OpenStreetMa...    road  pedestrian   \n",
      "\n",
      "                                                 names  \\\n",
      "80   {'common': None, 'primary': 'U41; U45; U47; U4...   \n",
      "91   {'common': None, 'primary': 'Brauhausstraße', ...   \n",
      "92   {'common': None, 'primary': 'Hansaplatz', 'rul...   \n",
      "112  {'common': None, 'primary': 'Am Trissel', 'rul...   \n",
      "113  {'common': None, 'primary': 'Salzgasse', 'rule...   \n",
      "\n",
      "                                         connector_ids  \\\n",
      "80   [08f1f12cd09abc26046fff7ae6ee7876, 08f1f12cd00...   \n",
      "91   [08f1f12cd081a8ea047fbd09ba4b7558, 08f1f12cd08...   \n",
      "92   [08f1f12cd080255b047fbcf0cd580c80, 08f1f12cd08...   \n",
      "112  [08f1f12cd0806a42046fbff07a7f8244, 08f1f12cd08...   \n",
      "113  [08f1f12cd0800148046ffd0395600759, 08f1f12cd08...   \n",
      "\n",
      "                                            connectors  ... subclass  \\\n",
      "80   [{'at': 0.0, 'connector_id': '08f1f12cd09abc26...  ...     None   \n",
      "91   [{'at': 0.0, 'connector_id': '08f1f12cd081a8ea...  ...     None   \n",
      "92   [{'at': 0.0, 'connector_id': '08f1f12cd080255b...  ...     None   \n",
      "112  [{'at': 0.0, 'connector_id': '08f1f12cd0806a42...  ...     None   \n",
      "113  [{'at': 0.0, 'connector_id': '08f1f12cd0800148...  ...     None   \n",
      "\n",
      "    subclass_rules access_restrictions level_rules destinations  \\\n",
      "80            None                None        None         None   \n",
      "91            None                None        None         None   \n",
      "92            None                None        None         None   \n",
      "112           None                None        None         None   \n",
      "113           None                None        None         None   \n",
      "\n",
      "    prohibited_transitions                                       road_surface  \\\n",
      "80                    None                                               None   \n",
      "91                    None  [{'between': [0.0, 0.763820166], 'value': 'pav...   \n",
      "92                    None      [{'between': None, 'value': 'paving_stones'}]   \n",
      "112                   None      [{'between': None, 'value': 'paving_stones'}]   \n",
      "113                   None      [{'between': None, 'value': 'paving_stones'}]   \n",
      "\n",
      "    road_flags speed_limits width_rules  \n",
      "80        None         None        None  \n",
      "91        None         None        None  \n",
      "92        None         None        None  \n",
      "112       None         None        None  \n",
      "113       None         None        None  \n",
      "\n",
      "[5 rows x 21 columns]\n",
      "Index(['id', 'geometry', 'bbox', 'version', 'sources', 'subtype', 'class',\n",
      "       'names', 'connector_ids', 'connectors', 'routes', 'subclass',\n",
      "       'subclass_rules', 'access_restrictions', 'level_rules', 'destinations',\n",
      "       'prohibited_transitions', 'road_surface', 'road_flags', 'speed_limits',\n",
      "       'width_rules'],\n",
      "      dtype='object')\n",
      "None\n"
     ]
    }
   ],
   "source": [
    "import geopandas as gpd\n",
    "\n",
    "gdf = gpd.read_parquet(street_output_dir + \"/streets_0.parquet\")\n",
    "print(gdf.head())       # first 5 rows\n",
    "print(gdf.columns)      # list of columns\n",
    "print(gdf.crs) "
   ]
  },
  {
   "cell_type": "code",
   "execution_count": null,
   "id": "344b1f6f-5993-4ad7-ba27-56d8370ee765",
   "metadata": {},
   "outputs": [],
   "source": []
  },
  {
   "cell_type": "markdown",
   "id": "cc26e52d",
   "metadata": {},
   "source": [
    "#### give CRS to streets and save as geopackage"
   ]
  },
  {
   "cell_type": "code",
   "execution_count": null,
   "id": "ecaed315-2000-4a15-8d26-925a50d1f2f5",
   "metadata": {},
   "outputs": [],
   "source": [
    "gdf = gpd.read_parquet(street_output_dir + f\"streets_0.parquet\")"
   ]
  },
  {
   "cell_type": "code",
   "execution_count": null,
   "id": "791480b3-b12c-49b8-b453-25c7734f34ef",
   "metadata": {},
   "outputs": [],
   "source": []
  },
  {
   "cell_type": "code",
   "execution_count": null,
   "id": "1a2cb0e5-f119-43a6-bb5f-c09ca1a7a262",
   "metadata": {},
   "outputs": [
    {
     "name": "stdout",
     "output_type": "stream",
     "text": [
      "CRS: None\n",
      "Rows: 1082\n",
      "Bounds (xmin, ymin, xmax, ymax): [ 7.453397  51.5016042  7.5446298 51.5815978]\n"
     ]
    }
   ],
   "source": [
    "print(\"CRS:\", gdf.crs)\n",
    "print(\"Rows:\", len(gdf))\n",
    "print(\"Bounds (xmin, ymin, xmax, ymax):\", gdf.total_bounds)"
   ]
  },
  {
   "cell_type": "code",
   "execution_count": null,
   "id": "57b960a8",
   "metadata": {},
   "outputs": [],
   "source": [
    "gdf = gdf.set_crs(4326) "
   ]
  },
  {
   "cell_type": "code",
   "execution_count": null,
   "id": "b370a562",
   "metadata": {},
   "outputs": [],
   "source": [
    "m = gdf.explore(\n",
    "    basemap=\"CartoDB positron\",\n",
    "    color=\"red\",     # street color\n",
    "    tooltip=True     # show attributes on hover\n",
    ")\n",
    "m.save(\"map_basemap.html\")"
   ]
  },
  {
   "cell_type": "code",
   "execution_count": null,
   "id": "2135488a",
   "metadata": {},
   "outputs": [
    {
     "name": "stderr",
     "output_type": "stream",
     "text": [
      "<>:1: SyntaxWarning: invalid escape sequence '\\W'\n",
      "<>:1: SyntaxWarning: invalid escape sequence '\\W'\n",
      "C:\\Users\\Itrat\\AppData\\Local\\Temp\\ipykernel_22928\\3857955552.py:1: SyntaxWarning: invalid escape sequence '\\W'\n",
      "  out_path = \"D:\\Work\\Github_Morphotopes\\data\\streets.gpkg\"\n"
     ]
    }
   ],
   "source": [
    "out_path = \"D:\\Work\\Github_Morphotopes\\data\\streets.gpkg\"\n",
    "gdf.to_file(street_output_dir + \"streets.gpkg\" , driver=\"GPKG\")"
   ]
  },
  {
   "cell_type": "code",
   "execution_count": null,
   "id": "1df74bb1",
   "metadata": {},
   "outputs": [],
   "source": []
  },
  {
   "cell_type": "code",
   "execution_count": null,
   "id": "ff0990ab-c6b2-4e98-94ad-ba55a22e5390",
   "metadata": {},
   "outputs": [
    {
     "data": {
      "text/plain": [
       "''"
      ]
     },
     "execution_count": 53,
     "metadata": {},
     "output_type": "execute_result"
    }
   ],
   "source": [
    "cap.stderr"
   ]
  },
  {
   "cell_type": "code",
   "execution_count": null,
   "id": "4e2936e9-cea1-4cfd-b30d-472415982e7a",
   "metadata": {},
   "outputs": [],
   "source": []
  },
  {
   "cell_type": "code",
   "execution_count": null,
   "id": "28fd55fc-61e8-4f52-81f2-972b8826cf37",
   "metadata": {},
   "outputs": [],
   "source": []
  },
  {
   "cell_type": "code",
   "execution_count": null,
   "id": "82c0f42a-11de-4cbf-b36e-aa201c3e5206",
   "metadata": {},
   "outputs": [],
   "source": []
  },
  {
   "cell_type": "code",
   "execution_count": null,
   "id": "aa0bae86-5c81-4f78-a3aa-be8a4d3d318f",
   "metadata": {},
   "outputs": [],
   "source": []
  },
  {
   "cell_type": "code",
   "execution_count": null,
   "id": "bc8cfbf6-f860-4c50-9e8b-114a12515ac9",
   "metadata": {},
   "outputs": [],
   "source": []
  },
  {
   "cell_type": "code",
   "execution_count": null,
   "id": "d71f4eb4-3f14-45c0-baae-0afb880c4ade",
   "metadata": {},
   "outputs": [],
   "source": []
  },
  {
   "cell_type": "code",
   "execution_count": null,
   "id": "b18581fc-1130-4982-8062-62c8f60ef72f",
   "metadata": {},
   "outputs": [],
   "source": []
  }
 ],
 "metadata": {
  "kernelspec": {
   "display_name": "base",
   "language": "python",
   "name": "python3"
  },
  "language_info": {
   "codemirror_mode": {
    "name": "ipython",
    "version": 3
   },
   "file_extension": ".py",
   "mimetype": "text/x-python",
   "name": "python",
   "nbconvert_exporter": "python",
   "pygments_lexer": "ipython3",
   "version": "3.13.5"
  }
 },
 "nbformat": 4,
 "nbformat_minor": 5
}
