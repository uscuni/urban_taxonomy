{
 "cells": [
  {
   "cell_type": "code",
   "execution_count": 1,
   "id": "4ae802cb-91a5-4cf6-bf4f-21c79c2e82e8",
   "metadata": {},
   "outputs": [],
   "source": [
    "from core.generate_streets import read_overture_region_streets\n",
    "\n",
    "import gc\n",
    "import glob\n",
    "\n",
    "import geopandas as gpd\n",
    "import momepy as mm\n",
    "import numpy as np\n",
    "import pandas as pd\n",
    "import shapely\n",
    "from libpysal.graph import Graph, read_parquet\n",
    "import datetime"
   ]
  },
  {
   "cell_type": "markdown",
   "id": "ec4ecd0b-c82c-40c7-a7a3-bf764e259c42",
   "metadata": {},
   "source": [
    "## Run sequentially for all streets"
   ]
  },
  {
   "cell_type": "code",
   "execution_count": 2,
   "id": "68d21052-7ee4-467d-bd32-b669c7ca9a7e",
   "metadata": {},
   "outputs": [],
   "source": [
    "streets_dir = '/data/uscuni-ulce/overture_streets/'\n",
    "regions_datadir = \"/data/uscuni-ulce/\""
   ]
  },
  {
   "cell_type": "code",
   "execution_count": 3,
   "id": "0933fcf8-d211-49c8-93ce-d759de99cbce",
   "metadata": {},
   "outputs": [
    {
     "data": {
      "text/plain": [
       "(847, 1)"
      ]
     },
     "execution_count": 3,
     "metadata": {},
     "output_type": "execute_result"
    }
   ],
   "source": [
    "region_hulls = gpd.read_parquet(\n",
    "        regions_datadir + \"regions/\" + \"cadastre_regions_hull.parquet\"\n",
    "    )\n",
    "region_hulls.shape"
   ]
  },
  {
   "cell_type": "code",
   "execution_count": 4,
   "id": "b39d33c4-df95-4900-a337-5d078103f58c",
   "metadata": {},
   "outputs": [],
   "source": [
    "# %%capture cap\n",
    "\n",
    "# for region_id, region_hull in region_hulls.to_crs(epsg=4326).iterrows():\\\n",
    "\n",
    "#     if region_id != 69333: continue\n",
    "#     print('Processing', region_id, datetime.datetime.now())\n",
    "#     streets = download_overture_streets(region_hull.iloc[0], region_id)\n",
    "#     streets.to_parquet(streets_dir + f'streets_{region_id}.pq')"
   ]
  },
  {
   "cell_type": "code",
   "execution_count": null,
   "id": "186b21ef-837c-4357-b6b2-a972ff1df235",
   "metadata": {},
   "outputs": [],
   "source": []
  },
  {
   "cell_type": "markdown",
   "id": "4bb53de5-f10a-4723-bc7e-d2f2555255a1",
   "metadata": {},
   "source": [
    "## Run in parallel for all non-procesed streets in region_hulls"
   ]
  },
  {
   "cell_type": "code",
   "execution_count": 5,
   "id": "b7a4d373-6fa3-4c62-8dbd-ad2cdae89586",
   "metadata": {},
   "outputs": [],
   "source": [
    "def process_and_save(region_hull, region_id):\n",
    "    print('Processing', region_id, datetime.datetime.now())\n",
    "    streets = read_overture_region_streets(region_hull, region_id)\n",
    "    streets.to_parquet(streets_dir + f'streets_{region_id}.pq')"
   ]
  },
  {
   "cell_type": "code",
   "execution_count": null,
   "id": "511667ed-559e-4086-80a4-681a51e6f5d6",
   "metadata": {},
   "outputs": [],
   "source": []
  },
  {
   "cell_type": "code",
   "execution_count": 8,
   "id": "cae70fac-9fad-4f28-8c7c-901c58e66af0",
   "metadata": {},
   "outputs": [],
   "source": [
    "downloaded_streets = glob.glob(streets_dir + '*.pq')\n",
    "downloaded_streets = [int(s.split('_')[-1][:-3]) for s in downloaded_streets]"
   ]
  },
  {
   "cell_type": "code",
   "execution_count": 9,
   "id": "a350eeaf-0056-4377-9ecd-3ab5641d4c13",
   "metadata": {},
   "outputs": [
    {
     "data": {
      "text/html": [
       "<div>\n",
       "<style scoped>\n",
       "    .dataframe tbody tr th:only-of-type {\n",
       "        vertical-align: middle;\n",
       "    }\n",
       "\n",
       "    .dataframe tbody tr th {\n",
       "        vertical-align: top;\n",
       "    }\n",
       "\n",
       "    .dataframe thead th {\n",
       "        text-align: right;\n",
       "    }\n",
       "</style>\n",
       "<table border=\"1\" class=\"dataframe\">\n",
       "  <thead>\n",
       "    <tr style=\"text-align: right;\">\n",
       "      <th></th>\n",
       "      <th>convex_hull</th>\n",
       "    </tr>\n",
       "    <tr>\n",
       "      <th>labels</th>\n",
       "      <th></th>\n",
       "    </tr>\n",
       "  </thead>\n",
       "  <tbody>\n",
       "    <tr>\n",
       "      <th>139621</th>\n",
       "      <td>POLYGON ((5066400 3660200, 5062200 3660500, 50...</td>\n",
       "    </tr>\n",
       "    <tr>\n",
       "      <th>139674</th>\n",
       "      <td>POLYGON ((5019000 3690300, 5011800 3693100, 50...</td>\n",
       "    </tr>\n",
       "    <tr>\n",
       "      <th>139764</th>\n",
       "      <td>POLYGON ((5051200 3623600, 5015000 3627900, 50...</td>\n",
       "    </tr>\n",
       "    <tr>\n",
       "      <th>140420</th>\n",
       "      <td>POLYGON ((5072300 3665600, 5070100 3666400, 50...</td>\n",
       "    </tr>\n",
       "    <tr>\n",
       "      <th>141272</th>\n",
       "      <td>POLYGON ((5062200 3733800, 5057700 3735500, 50...</td>\n",
       "    </tr>\n",
       "    <tr>\n",
       "      <th>141366</th>\n",
       "      <td>POLYGON ((5090900 3674900, 5087900 3675100, 50...</td>\n",
       "    </tr>\n",
       "    <tr>\n",
       "      <th>142100</th>\n",
       "      <td>POLYGON ((5137100 3607000, 5087800 3613300, 50...</td>\n",
       "    </tr>\n",
       "    <tr>\n",
       "      <th>143701</th>\n",
       "      <td>POLYGON ((5150200 3661900, 5138200 3666400, 51...</td>\n",
       "    </tr>\n",
       "    <tr>\n",
       "      <th>145906</th>\n",
       "      <td>POLYGON ((5186600 3540100, 5180500 3541300, 51...</td>\n",
       "    </tr>\n",
       "    <tr>\n",
       "      <th>146285</th>\n",
       "      <td>POLYGON ((5203600 3580300, 5141400 3604400, 51...</td>\n",
       "    </tr>\n",
       "    <tr>\n",
       "      <th>147112</th>\n",
       "      <td>POLYGON ((5195500 3641600, 5187600 3643400, 51...</td>\n",
       "    </tr>\n",
       "    <tr>\n",
       "      <th>147634</th>\n",
       "      <td>POLYGON ((5219500 3683400, 5192200 3690800, 51...</td>\n",
       "    </tr>\n",
       "    <tr>\n",
       "      <th>148018</th>\n",
       "      <td>POLYGON ((5221000 3507600, 5204500 3509500, 51...</td>\n",
       "    </tr>\n",
       "    <tr>\n",
       "      <th>148085</th>\n",
       "      <td>POLYGON ((5239700 3626200, 5236600 3626300, 52...</td>\n",
       "    </tr>\n",
       "    <tr>\n",
       "      <th>149997</th>\n",
       "      <td>POLYGON ((5253200 3642300, 5245600 3647000, 52...</td>\n",
       "    </tr>\n",
       "    <tr>\n",
       "      <th>150044</th>\n",
       "      <td>POLYGON ((5265700 3578300, 5263400 3578400, 52...</td>\n",
       "    </tr>\n",
       "    <tr>\n",
       "      <th>151676</th>\n",
       "      <td>POLYGON ((5285400 3549200, 5284800 3549900, 52...</td>\n",
       "    </tr>\n",
       "    <tr>\n",
       "      <th>152081</th>\n",
       "      <td>POLYGON ((5269700 3664900, 5269300 3665300, 52...</td>\n",
       "    </tr>\n",
       "    <tr>\n",
       "      <th>152511</th>\n",
       "      <td>POLYGON ((5298200 3650100, 5279200 3651600, 52...</td>\n",
       "    </tr>\n",
       "  </tbody>\n",
       "</table>\n",
       "</div>"
      ],
      "text/plain": [
       "                                              convex_hull\n",
       "labels                                                   \n",
       "139621  POLYGON ((5066400 3660200, 5062200 3660500, 50...\n",
       "139674  POLYGON ((5019000 3690300, 5011800 3693100, 50...\n",
       "139764  POLYGON ((5051200 3623600, 5015000 3627900, 50...\n",
       "140420  POLYGON ((5072300 3665600, 5070100 3666400, 50...\n",
       "141272  POLYGON ((5062200 3733800, 5057700 3735500, 50...\n",
       "141366  POLYGON ((5090900 3674900, 5087900 3675100, 50...\n",
       "142100  POLYGON ((5137100 3607000, 5087800 3613300, 50...\n",
       "143701  POLYGON ((5150200 3661900, 5138200 3666400, 51...\n",
       "145906  POLYGON ((5186600 3540100, 5180500 3541300, 51...\n",
       "146285  POLYGON ((5203600 3580300, 5141400 3604400, 51...\n",
       "147112  POLYGON ((5195500 3641600, 5187600 3643400, 51...\n",
       "147634  POLYGON ((5219500 3683400, 5192200 3690800, 51...\n",
       "148018  POLYGON ((5221000 3507600, 5204500 3509500, 51...\n",
       "148085  POLYGON ((5239700 3626200, 5236600 3626300, 52...\n",
       "149997  POLYGON ((5253200 3642300, 5245600 3647000, 52...\n",
       "150044  POLYGON ((5265700 3578300, 5263400 3578400, 52...\n",
       "151676  POLYGON ((5285400 3549200, 5284800 3549900, 52...\n",
       "152081  POLYGON ((5269700 3664900, 5269300 3665300, 52...\n",
       "152511  POLYGON ((5298200 3650100, 5279200 3651600, 52..."
      ]
     },
     "execution_count": 9,
     "metadata": {},
     "output_type": "execute_result"
    }
   ],
   "source": [
    "region_hulls = region_hulls.loc[~region_hulls.index.isin(downloaded_streets), ]\n",
    "region_hulls"
   ]
  },
  {
   "cell_type": "code",
   "execution_count": 10,
   "id": "c257cdc5-8b3b-43f1-a04f-e313718f9086",
   "metadata": {},
   "outputs": [
    {
     "name": "stdout",
     "output_type": "stream",
     "text": [
      "Processing 142100 2024-11-29 17:53:07.918495\n",
      "Processing 139621 2024-11-29 17:53:07.742506\n",
      "Processing 145906 2024-11-29 17:53:07.886200\n",
      "Processing 141272 2024-11-29 17:53:07.776731\n",
      "Processing 143701 2024-11-29 17:53:07.851934\n",
      "Processing 147112 2024-11-29 17:53:07.862589\n",
      "Processing 149997 2024-11-29 17:53:07.876798\n",
      "Processing 152511 2024-11-29 17:53:07.889590\n",
      "Processing 150044 2024-11-29 17:53:07.861481\n",
      "Processing 152081 2024-11-29 17:53:07.889544\n",
      "Processing 148085 2024-11-29 17:53:07.758667\n",
      "Processing 141366 2024-11-29 17:53:07.738276\n",
      "Processing 139764 2024-11-29 17:53:07.736460\n",
      "Processing 148018 2024-11-29 17:53:07.872263\n",
      "Processing 147634 2024-11-29 17:53:07.874682\n",
      "Processing 151676 2024-11-29 17:53:07.961890\n",
      "Processing 146285 2024-11-29 17:53:07.681082\n",
      "Processing 139674 2024-11-29 17:53:07.868017\n",
      "Processing 140420 2024-11-29 17:53:07.649524\n"
     ]
    }
   ],
   "source": [
    "%%capture cap\n",
    "\n",
    "from joblib import Parallel, delayed\n",
    "\n",
    "n_jobs = -1\n",
    "new = Parallel(n_jobs=n_jobs)(\n",
    "    delayed(process_and_save)(region_hull.iloc[0], region_id) for region_id, region_hull in region_hulls.to_crs(epsg=4326).iterrows()\n",
    ")\n"
   ]
  },
  {
   "cell_type": "code",
   "execution_count": null,
   "id": "344b1f6f-5993-4ad7-ba27-56d8370ee765",
   "metadata": {},
   "outputs": [],
   "source": []
  },
  {
   "cell_type": "code",
   "execution_count": 29,
   "id": "ecaed315-2000-4a15-8d26-925a50d1f2f5",
   "metadata": {},
   "outputs": [],
   "source": [
    "gdf = gpd.read_parquet(streets_dir + f'streets_{69333}.pq')"
   ]
  },
  {
   "cell_type": "code",
   "execution_count": 32,
   "id": "791480b3-b12c-49b8-b453-25c7734f34ef",
   "metadata": {},
   "outputs": [],
   "source": [
    "# gdf.explore()"
   ]
  },
  {
   "cell_type": "code",
   "execution_count": 12,
   "id": "1a2cb0e5-f119-43a6-bb5f-c09ca1a7a262",
   "metadata": {},
   "outputs": [
    {
     "data": {
      "text/plain": [
       "1"
      ]
     },
     "execution_count": 12,
     "metadata": {},
     "output_type": "execute_result"
    }
   ],
   "source": []
  },
  {
   "cell_type": "code",
   "execution_count": 21,
   "id": "ff0990ab-c6b2-4e98-94ad-ba55a22e5390",
   "metadata": {},
   "outputs": [
    {
     "data": {
      "text/plain": [
       "'/home/krasen/urban_taxonomy/.pixi/envs/default/lib/python3.12/site-packages/joblib/externals/loky/process_executor.py:752: UserWarning: A worker stopped while some jobs were given to the executor. This can be caused by a too short worker timeout or by a memory leak.\\n  warnings.warn(\\n'"
      ]
     },
     "execution_count": 21,
     "metadata": {},
     "output_type": "execute_result"
    }
   ],
   "source": [
    "cap.stderr"
   ]
  },
  {
   "cell_type": "code",
   "execution_count": null,
   "id": "4e2936e9-cea1-4cfd-b30d-472415982e7a",
   "metadata": {},
   "outputs": [],
   "source": []
  },
  {
   "cell_type": "code",
   "execution_count": null,
   "id": "28fd55fc-61e8-4f52-81f2-972b8826cf37",
   "metadata": {},
   "outputs": [],
   "source": []
  },
  {
   "cell_type": "code",
   "execution_count": 22,
   "id": "82c0f42a-11de-4cbf-b36e-aa201c3e5206",
   "metadata": {},
   "outputs": [],
   "source": [
    "gdf = gpd.read_parquet(streets_dir + f'streets_{69333}.pq')"
   ]
  },
  {
   "cell_type": "code",
   "execution_count": null,
   "id": "aa0bae86-5c81-4f78-a3aa-be8a4d3d318f",
   "metadata": {},
   "outputs": [],
   "source": []
  },
  {
   "cell_type": "code",
   "execution_count": null,
   "id": "bc8cfbf6-f860-4c50-9e8b-114a12515ac9",
   "metadata": {},
   "outputs": [],
   "source": []
  },
  {
   "cell_type": "code",
   "execution_count": null,
   "id": "d71f4eb4-3f14-45c0-baae-0afb880c4ade",
   "metadata": {},
   "outputs": [],
   "source": [
    "for region_id, region_hull in region_hulls.iterrows():\n",
    "    streets.append(streets.to_parquet(streets_dir + f'streets_{region_id}.pq'))"
   ]
  },
  {
   "cell_type": "code",
   "execution_count": null,
   "id": "b18581fc-1130-4982-8062-62c8f60ef72f",
   "metadata": {},
   "outputs": [],
   "source": []
  }
 ],
 "metadata": {
  "kernelspec": {
   "display_name": "Python 3 (ipykernel)",
   "language": "python",
   "name": "python3"
  },
  "language_info": {
   "codemirror_mode": {
    "name": "ipython",
    "version": 3
   },
   "file_extension": ".py",
   "mimetype": "text/x-python",
   "name": "python",
   "nbconvert_exporter": "python",
   "pygments_lexer": "ipython3",
   "version": "3.12.8"
  }
 },
 "nbformat": 4,
 "nbformat_minor": 5
}
