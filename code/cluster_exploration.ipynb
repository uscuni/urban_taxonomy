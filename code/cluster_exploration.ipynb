{
 "cells": [
  {
   "cell_type": "code",
   "execution_count": 17,
   "id": "7f9de2b1-2ee2-474a-980d-50fdf67571bf",
   "metadata": {},
   "outputs": [],
   "source": [
    "import geopandas as gpd\n",
    "import numpy as np\n",
    "import pandas as pd"
   ]
  },
  {
   "cell_type": "code",
   "execution_count": null,
   "id": "fa8278fe-d66d-4770-b131-6b5e194fb074",
   "metadata": {},
   "outputs": [],
   "source": [
    "final_clusters = pd.read_parquet('/data/uscuni-ulce/processed_data/clusters/clusters_v1.pq')[0]\n",
    "from core.cluster_validation import get_color\n",
    "final_colors = pd.DataFrame(get_color(final_clusters.values), final_clusters.values).drop_duplicates()\n",
    "final_colors.loc[-1] = [255,255,255]"
   ]
  },
  {
   "cell_type": "code",
   "execution_count": null,
   "id": "64526da6-93ba-4691-b5e7-9686ded0e61c",
   "metadata": {},
   "outputs": [],
   "source": []
  },
  {
   "cell_type": "code",
   "execution_count": 79,
   "id": "3c25e979-fa37-4441-8ae5-c7e8cd7c55a6",
   "metadata": {},
   "outputs": [],
   "source": [
    "\n",
    "# region_id = 139196\n",
    "\n",
    "region_id = 69333  # prague\n",
    "# region_id = 8707 # frankfurt / mainz\n",
    "# region_id = 5883 # freiburtg\n",
    "# region_id = 86873 # vienna\n",
    "# region_id = 38679 # munich\n",
    "# region_id = 55763 # berlin\n",
    "# region_id = 107131 # krakow\n",
    "# region_id = 99886 # bratislava\n",
    "\n",
    "# region_id = 151676 # vilnius\n",
    "\n",
    "# region_id= 66593 # nad uhno"
   ]
  },
  {
   "cell_type": "code",
   "execution_count": 80,
   "id": "0b3369eb-e346-41bd-9365-fc25aedc80e3",
   "metadata": {},
   "outputs": [],
   "source": [
    "etcs = gpd.read_parquet(f\"/data/uscuni-ulce/processed_data/clusters/{region_id}_clusters.pq\")"
   ]
  },
  {
   "cell_type": "code",
   "execution_count": 81,
   "id": "3eec517d-800c-4e8d-b9b9-214cbee162c5",
   "metadata": {},
   "outputs": [
    {
     "name": "stderr",
     "output_type": "stream",
     "text": [
      "/home/krasen/urban_taxonomy/.pixi/envs/default/lib/python3.12/site-packages/lonboard/_geoarrow/ops/reproject.py:97: UserWarning: Input being reprojected to EPSG:4326 CRS\n",
      "  warnings.warn(\"Input being reprojected to EPSG:4326 CRS\")\n"
     ]
    }
   ],
   "source": [
    "import lonboard\n",
    "layer = lonboard.SolidPolygonLayer.from_geopandas(etcs, opacity=.7)\n",
    "\n",
    "from sidecar import Sidecar\n",
    "sc = Sidecar(title=f'Final Clusters')\n",
    "m = lonboard.Map(layer, basemap_style=lonboard.basemap.CartoBasemap.DarkMatter)\n",
    "with sc:\n",
    "    display(m)"
   ]
  },
  {
   "cell_type": "code",
   "execution_count": 82,
   "id": "df55ab7f-b63f-42e9-bb42-5d227659953c",
   "metadata": {},
   "outputs": [],
   "source": [
    "from core.cluster_validation import get_color\n",
    "layer.get_fill_color = final_colors.loc[etcs.final].values.astype('uint8')"
   ]
  },
  {
   "cell_type": "code",
   "execution_count": 83,
   "id": "9cd0efab-8d75-4540-af2f-35aa6bebb56c",
   "metadata": {},
   "outputs": [
    {
     "data": {
      "text/plain": [
       "27"
      ]
     },
     "execution_count": 83,
     "metadata": {},
     "output_type": "execute_result"
    }
   ],
   "source": [
    "etcs.final.nunique()"
   ]
  },
  {
   "cell_type": "code",
   "execution_count": 84,
   "id": "8e9376e8-c05b-4f5f-9670-8a5086f5b228",
   "metadata": {},
   "outputs": [],
   "source": [
    "layer.get_fill_color = get_color(etcs.morph.factorize()[0])"
   ]
  },
  {
   "cell_type": "code",
   "execution_count": null,
   "id": "9d7f7c23-7247-4f4e-aa8f-12f298868239",
   "metadata": {},
   "outputs": [],
   "source": []
  },
  {
   "cell_type": "code",
   "execution_count": null,
   "id": "cb1da1d5-b72b-4c9b-b224-80be5a881b3f",
   "metadata": {},
   "outputs": [],
   "source": []
  },
  {
   "cell_type": "code",
   "execution_count": null,
   "id": "b3e969c1-0c0c-4a2c-90e7-a4fd7002fbe4",
   "metadata": {},
   "outputs": [],
   "source": []
  },
  {
   "cell_type": "code",
   "execution_count": null,
   "id": "996fc037-e369-45ef-9fdd-f51a4e33f029",
   "metadata": {},
   "outputs": [],
   "source": []
  }
 ],
 "metadata": {
  "kernelspec": {
   "display_name": "Python 3 (ipykernel)",
   "language": "python",
   "name": "python3"
  },
  "language_info": {
   "codemirror_mode": {
    "name": "ipython",
    "version": 3
   },
   "file_extension": ".py",
   "mimetype": "text/x-python",
   "name": "python",
   "nbconvert_exporter": "python",
   "pygments_lexer": "ipython3",
   "version": "3.12.5"
  }
 },
 "nbformat": 4,
 "nbformat_minor": 5
}
