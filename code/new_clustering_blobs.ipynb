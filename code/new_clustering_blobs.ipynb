{
 "cells": [
  {
   "cell_type": "code",
   "execution_count": null,
   "id": "c51854a2-b1d6-492a-819d-7fa1a0d5fe04",
   "metadata": {},
   "outputs": [],
   "source": []
  },
  {
   "cell_type": "code",
   "execution_count": 33,
   "id": "b890f06e-2357-472a-9c59-be0cacbff770",
   "metadata": {},
   "outputs": [],
   "source": [
    "import geopandas as gpd\n",
    "import pandas as pd\n",
    "import numpy as np\n",
    "from libpysal.graph import read_parquet\n",
    "from shapely import unary_union"
   ]
  },
  {
   "cell_type": "code",
   "execution_count": null,
   "id": "2dabb086-6076-46e7-bdf4-93a6b4dfe522",
   "metadata": {},
   "outputs": [],
   "source": []
  },
  {
   "cell_type": "code",
   "execution_count": 34,
   "id": "e883b7c6-4279-4cd6-a1cf-73e8ac2ec93c",
   "metadata": {},
   "outputs": [],
   "source": [
    "\n",
    "# region_id = 139196 # prague\n",
    "\n",
    "# region_id = 69333 \n",
    "\n",
    "\n",
    "\n",
    "# region_id = 8707\n",
    "# region_id = 5883 # freiburtg\n",
    "# region_id = 86873\n",
    "# region_id = 38679\n",
    "# region_id = 55763\n",
    "# region_id = 107131\n",
    "# region_id = 99886\n",
    "\n",
    "region_id = 151676 # vilnius\n",
    "\n",
    "# region_id= 66593"
   ]
  },
  {
   "cell_type": "code",
   "execution_count": 35,
   "id": "b61327ac-1203-40c1-8e94-bfbbc5a679ae",
   "metadata": {},
   "outputs": [],
   "source": [
    "\n",
    "etcs = gpd.read_parquet(f'/data/uscuni-ulce/processed_data/chars/tessellations_chars_{region_id}.parquet')\n",
    "tess = gpd.read_parquet(f'/data/uscuni-ulce/processed_data/chars/tessellations_chars_{region_id}.parquet')\n",
    "buildings = gpd.read_parquet(f'/data/uscuni-ulce/processed_data/chars/buildings_chars_{region_id}.parquet')\n",
    "streets = gpd.read_parquet(f'/data/uscuni-ulce/processed_data/chars/streets_chars_{region_id}.parquet')\n",
    "nodes = gpd.read_parquet(f'/data/uscuni-ulce/processed_data/chars/nodes_chars_{region_id}.parquet')\n",
    "primary = pd.read_parquet(f'/data/uscuni-ulce/processed_data/chars/primary_chars_{region_id}.parquet')"
   ]
  },
  {
   "cell_type": "code",
   "execution_count": null,
   "id": "5aace468-3bf5-4776-951b-867f60a9a7ee",
   "metadata": {},
   "outputs": [],
   "source": []
  },
  {
   "cell_type": "code",
   "execution_count": 36,
   "id": "60be67f1-8248-433f-8e80-b19f16072721",
   "metadata": {},
   "outputs": [],
   "source": [
    "model_params = '_75_0_None_None_False'\n",
    "buildings_dir = '/data/uscuni-ulce/processed_data/buildings/'\n",
    "graph_dir = '/data/uscuni-ulce/processed_data/neigh_graphs/'\n",
    "morph_dir = '/data/uscuni-ulce/processed_data/morphotopes/'"
   ]
  },
  {
   "cell_type": "code",
   "execution_count": 37,
   "id": "ddb53011-ab43-4dc7-98b1-e5019d293421",
   "metadata": {},
   "outputs": [],
   "source": [
    "# streets.explore()"
   ]
  },
  {
   "cell_type": "code",
   "execution_count": null,
   "id": "0e7dd37b-5d9a-4c82-a20c-4c2747607699",
   "metadata": {},
   "outputs": [],
   "source": []
  },
  {
   "cell_type": "code",
   "execution_count": 38,
   "id": "0a968b7f-c677-4311-8300-da96a4436a01",
   "metadata": {},
   "outputs": [],
   "source": [
    "### add the connected structure characters\n",
    "buildings  = gpd.read_parquet(buildings_dir + f\"buildings_{region_id}.parquet\")\n",
    "buildings_q1 = read_parquet(graph_dir + f\"building_graph_{region_id}.parquet\")\n",
    "clusters = pd.read_parquet(f'{morph_dir}tessellation_labels_morphotopes_{region_id}_75_0_None_None_False.pq')"
   ]
  },
  {
   "cell_type": "code",
   "execution_count": 39,
   "id": "7e0d3fc9-9fe9-4128-a068-d7128635b9f2",
   "metadata": {},
   "outputs": [],
   "source": [
    "buildings['morph'] = clusters\n",
    "buildings = buildings[buildings.morph.str.split('_').str[-1] != '-1']"
   ]
  },
  {
   "cell_type": "code",
   "execution_count": null,
   "id": "81d00169-2576-4877-9f4e-f58d00ec4e65",
   "metadata": {},
   "outputs": [],
   "source": []
  },
  {
   "cell_type": "code",
   "execution_count": 40,
   "id": "062729fa-069d-4f76-9848-759c099313a8",
   "metadata": {},
   "outputs": [],
   "source": [
    "groups = buildings.groupby('morph')"
   ]
  },
  {
   "cell_type": "code",
   "execution_count": 41,
   "id": "8231fa87-d5ed-44c0-abca-ecb58ff3e5b5",
   "metadata": {},
   "outputs": [],
   "source": [
    "group = groups.get_group('568_351')"
   ]
  },
  {
   "cell_type": "code",
   "execution_count": null,
   "id": "8fa3c0b8-799e-4e37-914e-7326d7b5be2d",
   "metadata": {},
   "outputs": [],
   "source": []
  },
  {
   "cell_type": "code",
   "execution_count": null,
   "id": "510a9c00-0eb6-4c1a-bab4-f70c0c5bca06",
   "metadata": {},
   "outputs": [],
   "source": []
  },
  {
   "cell_type": "code",
   "execution_count": null,
   "id": "037eeec4-5099-402b-b1dd-5e9cbbe7ebc1",
   "metadata": {},
   "outputs": [],
   "source": []
  },
  {
   "cell_type": "code",
   "execution_count": 42,
   "id": "a2939098-50c3-4aad-bbd7-1c141ea21011",
   "metadata": {},
   "outputs": [
    {
     "name": "stdout",
     "output_type": "stream",
     "text": [
      "CPU times: user 27.4 ms, sys: 1.42 ms, total: 28.9 ms\n",
      "Wall time: 28.2 ms\n"
     ]
    }
   ],
   "source": [
    "%%time\n",
    "group_graph = buildings_q1.subgraph(group.index)\n",
    "connected_buildings = group.geometry.groupby(group_graph.component_labels).apply( lambda x: unary_union(x.values))\n",
    "connected_buildings = connected_buildings.set_crs(epsg=3035).buffer(.1).normalize().make_valid()"
   ]
  },
  {
   "cell_type": "code",
   "execution_count": null,
   "id": "d392b879-e61f-458c-9267-e5e936ac4ec8",
   "metadata": {},
   "outputs": [],
   "source": []
  },
  {
   "cell_type": "code",
   "execution_count": 43,
   "id": "dd2992fa-def9-4df1-97ae-b3e4c77df3c1",
   "metadata": {},
   "outputs": [
    {
     "data": {
      "text/plain": [
       "component labels\n",
       "0      POLYGON ((5296735.999 3618470.222, 5296736 361...\n",
       "1      POLYGON ((5296555.176 3618297.517, 5296555.177...\n",
       "2      POLYGON ((5296193.729 3618426.965, 5296193.73 ...\n",
       "3      POLYGON ((5296648.686 3618590.453, 5296648.687...\n",
       "4      POLYGON ((5296590.005 3618411.849, 5296590.006...\n",
       "                             ...                        \n",
       "129    POLYGON ((5296576.716 3618851.898, 5296576.717...\n",
       "130    POLYGON ((5296259.069 3618501.512, 5296259.069...\n",
       "131    POLYGON ((5296335.982 3619252.568, 5296335.982...\n",
       "132    POLYGON ((5296498.67 3618235.342, 5296498.671 ...\n",
       "133    POLYGON ((5296557.189 3618323.33, 5296557.189 ...\n",
       "Length: 134, dtype: geometry"
      ]
     },
     "execution_count": 43,
     "metadata": {},
     "output_type": "execute_result"
    }
   ],
   "source": [
    "connected_buildings"
   ]
  },
  {
   "cell_type": "code",
   "execution_count": null,
   "id": "b3a22e2f-703f-460b-9756-6282508f2bff",
   "metadata": {},
   "outputs": [],
   "source": []
  }
 ],
 "metadata": {
  "kernelspec": {
   "display_name": "Python 3 (ipykernel)",
   "language": "python",
   "name": "python3"
  },
  "language_info": {
   "codemirror_mode": {
    "name": "ipython",
    "version": 3
   },
   "file_extension": ".py",
   "mimetype": "text/x-python",
   "name": "python",
   "nbconvert_exporter": "python",
   "pygments_lexer": "ipython3",
   "version": "3.12.5"
  }
 },
 "nbformat": 4,
 "nbformat_minor": 5
}
