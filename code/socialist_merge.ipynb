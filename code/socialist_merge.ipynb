{
 "cells": [
  {
   "cell_type": "code",
   "execution_count": 1,
   "id": "98ca2b8e-b54d-45db-be88-d8da5e1abb6b",
   "metadata": {},
   "outputs": [],
   "source": [
    "import geopandas as gpd\n",
    "from libpysal import graph\n",
    "\n",
    "import lonboard\n",
    "from sidecar import Sidecar"
   ]
  },
  {
   "cell_type": "code",
   "execution_count": 2,
   "id": "de202b40-849f-407f-a44b-760eddbf14a4",
   "metadata": {},
   "outputs": [],
   "source": [
    "buildings = gpd.read_parquet(\"/data/uscuni-ulce/processed_data/simplified_buildings/buildings_69333.parquet\")"
   ]
  },
  {
   "cell_type": "code",
   "execution_count": 3,
   "id": "b84aa201-5d01-46c5-b6e5-875fdde21b47",
   "metadata": {},
   "outputs": [
    {
     "name": "stderr",
     "output_type": "stream",
     "text": [
      "/Users/martin/micromamba/envs/stable/lib/python3.12/site-packages/lonboard/_geoarrow/ops/reproject.py:107: UserWarning: Input being reprojected to EPSG:4326 CRS.\n",
      "Lonboard is only able to render data in EPSG:4326 projection.\n",
      "  warnings.warn(\n"
     ]
    }
   ],
   "source": [
    "layer = lonboard.PolygonLayer.from_geopandas(buildings, opacity=.3)"
   ]
  },
  {
   "cell_type": "markdown",
   "id": "460145af-54d9-41fb-a6bf-4505c364eb5d",
   "metadata": {},
   "source": [
    "Create a Sidecar view (assumes JupyterLab) for more comfortable experience."
   ]
  },
  {
   "cell_type": "code",
   "execution_count": 4,
   "id": "7f7caa8e-1ccf-44fc-a71e-7f12da1d7b96",
   "metadata": {},
   "outputs": [],
   "source": [
    "sc = Sidecar(title='buildings')"
   ]
  },
  {
   "cell_type": "markdown",
   "id": "ebb8f320-a249-4548-8fad-5e852e5d93a5",
   "metadata": {},
   "source": [
    "Create a Map object"
   ]
  },
  {
   "cell_type": "code",
   "execution_count": 5,
   "id": "5fcd43ba-bacc-44e3-a15b-d045af94b428",
   "metadata": {},
   "outputs": [],
   "source": [
    "m = lonboard.Map(layer)"
   ]
  },
  {
   "cell_type": "markdown",
   "id": "ba285f85-5bd2-474c-9180-2bbaed8bf73f",
   "metadata": {},
   "source": [
    "Display map within the sidecar plugin"
   ]
  },
  {
   "cell_type": "code",
   "execution_count": 6,
   "id": "68697bcb-74ec-45ad-9e1e-ac141ce0e5e2",
   "metadata": {},
   "outputs": [],
   "source": [
    "with sc:\n",
    "    display(m)"
   ]
  },
  {
   "cell_type": "code",
   "execution_count": null,
   "id": "a1482ff7-017f-41b0-9f10-56b347f1f18b",
   "metadata": {},
   "outputs": [],
   "source": []
  }
 ],
 "metadata": {
  "kernelspec": {
   "display_name": "Python 3 (ipykernel)",
   "language": "python",
   "name": "python3"
  },
  "language_info": {
   "codemirror_mode": {
    "name": "ipython",
    "version": 3
   },
   "file_extension": ".py",
   "mimetype": "text/x-python",
   "name": "python",
   "nbconvert_exporter": "python",
   "pygments_lexer": "ipython3",
   "version": "3.12.5"
  }
 },
 "nbformat": 4,
 "nbformat_minor": 5
}
