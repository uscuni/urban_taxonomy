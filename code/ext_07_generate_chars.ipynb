{
 "cells": [
  {
   "cell_type": "code",
   "execution_count": 37,
   "id": "874b175f-5194-438c-87f1-86a71c1c0586",
   "metadata": {},
   "outputs": [],
   "source": [
    "import geopandas as gpd\n",
    "import glob\n",
    "from joblib import Parallel, delayed\n",
    "\n",
    "from core.generate_chars import process_single_region_chars"
   ]
  },
  {
   "cell_type": "code",
   "execution_count": 2,
   "id": "746c2336-8915-4427-8972-762ba0a92b85",
   "metadata": {},
   "outputs": [],
   "source": [
    "regions_datadir = \"/data/uscuni-ulce/\"\n",
    "graph_dir = \"/data/uscuni-ulce/processed_data/neigh_graphs/\"\n",
    "buildings_dir = \"/data/uscuni-ulce/processed_data/buildings/\"\n",
    "streets_dir = \"/data/uscuni-ulce/processed_data/streets/\"\n",
    "enclosures_dir = \"/data/uscuni-ulce/processed_data/enclosures/\"\n",
    "tessellations_dir = \"/data/uscuni-ulce/processed_data/tessellations/\"\n",
    "chars_dir = \"/data/uscuni-ulce/processed_data/chars/\""
   ]
  },
  {
   "cell_type": "code",
   "execution_count": 3,
   "id": "da55efdd-1f72-4783-b054-d4f562d2966c",
   "metadata": {},
   "outputs": [],
   "source": [
    "country = 'fr_sp_nl_be'"
   ]
  },
  {
   "cell_type": "code",
   "execution_count": 26,
   "id": "227b48e2-2628-45d5-8521-8e9cd21c1e0b",
   "metadata": {},
   "outputs": [],
   "source": [
    "region_hulls = gpd.read_parquet(regions_datadir + \"regions/\" + f\"{country}_regions_hull.parquet\")"
   ]
  },
  {
   "cell_type": "code",
   "execution_count": 10,
   "id": "5b197923-1a75-4901-b7f8-01b052037cb4",
   "metadata": {},
   "outputs": [],
   "source": [
    "largest_regions = [\n",
    "    436461, 403958, 485131, 489180, 470467, 344277\n",
    "]"
   ]
  },
  {
   "cell_type": "code",
   "execution_count": 6,
   "id": "688fd8d8-335c-4f82-a0bb-614cf07ebba1",
   "metadata": {
    "collapsed": true,
    "jupyter": {
     "outputs_hidden": true
    },
    "scrolled": true
   },
   "outputs": [
    {
     "name": "stdout",
     "output_type": "stream",
     "text": [
      "2025-10-06 12:57:49.245485 ----Processing ------ 436461\n",
      "Processing streets\n",
      "Processing enclosures\n",
      "Processing buildings\n"
     ]
    },
    {
     "name": "stderr",
     "output_type": "stream",
     "text": [
      "/home/martin/dev/urban_taxonomy/.pixi/envs/default/lib/python3.12/site-packages/momepy/functional/_shape.py:879: RuntimeWarning: invalid value encountered in arccos\n",
      "  angles = np.arccos(cosine_angle)\n",
      "/home/martin/dev/urban_taxonomy/.pixi/envs/default/lib/python3.12/site-packages/momepy/functional/_shape.py:879: RuntimeWarning: invalid value encountered in arccos\n",
      "  angles = np.arccos(cosine_angle)\n",
      "/home/martin/dev/urban_taxonomy/.pixi/envs/default/lib/python3.12/site-packages/momepy/functional/_shape.py:569: RuntimeWarning: Mean of empty slice\n",
      "  return np.nanmean(np.abs(90 - degrees[true_angles]))\n",
      "/home/martin/dev/urban_taxonomy/.pixi/envs/default/lib/python3.12/site-packages/momepy/functional/_shape.py:879: RuntimeWarning: invalid value encountered in arccos\n",
      "  angles = np.arccos(cosine_angle)\n",
      "/home/martin/dev/urban_taxonomy/.pixi/envs/default/lib/python3.12/site-packages/momepy/functional/_shape.py:726: RuntimeWarning: Mean of empty slice\n",
      "  return Series({\"mean\": np.nanmean(dists), \"std\": np.nanstd(dists)})\n",
      "/home/martin/dev/urban_taxonomy/.pixi/envs/default/lib/python3.12/site-packages/numpy/lib/_nanfunctions_impl.py:2019: RuntimeWarning: Degrees of freedom <= 0 for slice.\n",
      "  var = nanvar(a, axis=axis, dtype=dtype, out=out, ddof=ddof,\n"
     ]
    },
    {
     "name": "stdout",
     "output_type": "stream",
     "text": [
      "Processing tessellation\n",
      "2025-10-06 14:56:49.422542 ----Processing ------ 403958\n",
      "Processing streets\n",
      "Processing enclosures\n",
      "Processing buildings\n"
     ]
    },
    {
     "name": "stderr",
     "output_type": "stream",
     "text": [
      "/home/martin/dev/urban_taxonomy/.pixi/envs/default/lib/python3.12/site-packages/momepy/functional/_shape.py:879: RuntimeWarning: invalid value encountered in arccos\n",
      "  angles = np.arccos(cosine_angle)\n",
      "/home/martin/dev/urban_taxonomy/.pixi/envs/default/lib/python3.12/site-packages/momepy/functional/_shape.py:569: RuntimeWarning: Mean of empty slice\n",
      "  return np.nanmean(np.abs(90 - degrees[true_angles]))\n",
      "/home/martin/dev/urban_taxonomy/.pixi/envs/default/lib/python3.12/site-packages/momepy/functional/_shape.py:879: RuntimeWarning: invalid value encountered in arccos\n",
      "  angles = np.arccos(cosine_angle)\n",
      "/home/martin/dev/urban_taxonomy/.pixi/envs/default/lib/python3.12/site-packages/momepy/functional/_shape.py:726: RuntimeWarning: Mean of empty slice\n",
      "  return Series({\"mean\": np.nanmean(dists), \"std\": np.nanstd(dists)})\n",
      "/home/martin/dev/urban_taxonomy/.pixi/envs/default/lib/python3.12/site-packages/numpy/lib/_nanfunctions_impl.py:2019: RuntimeWarning: Degrees of freedom <= 0 for slice.\n",
      "  var = nanvar(a, axis=axis, dtype=dtype, out=out, ddof=ddof,\n",
      "/home/martin/dev/urban_taxonomy/.pixi/envs/default/lib/python3.12/site-packages/momepy/functional/_shape.py:879: RuntimeWarning: invalid value encountered in arccos\n",
      "  angles = np.arccos(cosine_angle)\n"
     ]
    },
    {
     "name": "stdout",
     "output_type": "stream",
     "text": [
      "Processing tessellation\n",
      "2025-10-06 15:46:34.098970 ----Processing ------ 485131\n",
      "Processing streets\n",
      "Processing enclosures\n",
      "Processing buildings\n"
     ]
    },
    {
     "name": "stderr",
     "output_type": "stream",
     "text": [
      "/home/martin/dev/urban_taxonomy/.pixi/envs/default/lib/python3.12/site-packages/momepy/functional/_shape.py:879: RuntimeWarning: invalid value encountered in arccos\n",
      "  angles = np.arccos(cosine_angle)\n",
      "/home/martin/dev/urban_taxonomy/.pixi/envs/default/lib/python3.12/site-packages/momepy/functional/_shape.py:569: RuntimeWarning: Mean of empty slice\n",
      "  return np.nanmean(np.abs(90 - degrees[true_angles]))\n",
      "/home/martin/dev/urban_taxonomy/.pixi/envs/default/lib/python3.12/site-packages/momepy/functional/_shape.py:879: RuntimeWarning: invalid value encountered in arccos\n",
      "  angles = np.arccos(cosine_angle)\n",
      "/home/martin/dev/urban_taxonomy/.pixi/envs/default/lib/python3.12/site-packages/momepy/functional/_shape.py:726: RuntimeWarning: Mean of empty slice\n",
      "  return Series({\"mean\": np.nanmean(dists), \"std\": np.nanstd(dists)})\n",
      "/home/martin/dev/urban_taxonomy/.pixi/envs/default/lib/python3.12/site-packages/numpy/lib/_nanfunctions_impl.py:2019: RuntimeWarning: Degrees of freedom <= 0 for slice.\n",
      "  var = nanvar(a, axis=axis, dtype=dtype, out=out, ddof=ddof,\n",
      "/home/martin/dev/urban_taxonomy/.pixi/envs/default/lib/python3.12/site-packages/momepy/functional/_shape.py:879: RuntimeWarning: invalid value encountered in arccos\n",
      "  angles = np.arccos(cosine_angle)\n"
     ]
    },
    {
     "name": "stdout",
     "output_type": "stream",
     "text": [
      "Processing tessellation\n",
      "2025-10-06 16:20:57.401640 ----Processing ------ 489180\n",
      "Processing streets\n",
      "Processing enclosures\n",
      "Processing buildings\n"
     ]
    },
    {
     "name": "stderr",
     "output_type": "stream",
     "text": [
      "/home/martin/dev/urban_taxonomy/.pixi/envs/default/lib/python3.12/site-packages/momepy/functional/_shape.py:879: RuntimeWarning: invalid value encountered in arccos\n",
      "  angles = np.arccos(cosine_angle)\n",
      "/home/martin/dev/urban_taxonomy/.pixi/envs/default/lib/python3.12/site-packages/momepy/functional/_shape.py:569: RuntimeWarning: Mean of empty slice\n",
      "  return np.nanmean(np.abs(90 - degrees[true_angles]))\n",
      "/home/martin/dev/urban_taxonomy/.pixi/envs/default/lib/python3.12/site-packages/momepy/functional/_shape.py:879: RuntimeWarning: invalid value encountered in arccos\n",
      "  angles = np.arccos(cosine_angle)\n",
      "/home/martin/dev/urban_taxonomy/.pixi/envs/default/lib/python3.12/site-packages/momepy/functional/_shape.py:726: RuntimeWarning: Mean of empty slice\n",
      "  return Series({\"mean\": np.nanmean(dists), \"std\": np.nanstd(dists)})\n",
      "/home/martin/dev/urban_taxonomy/.pixi/envs/default/lib/python3.12/site-packages/numpy/lib/_nanfunctions_impl.py:2019: RuntimeWarning: Degrees of freedom <= 0 for slice.\n",
      "  var = nanvar(a, axis=axis, dtype=dtype, out=out, ddof=ddof,\n",
      "/home/martin/dev/urban_taxonomy/.pixi/envs/default/lib/python3.12/site-packages/momepy/functional/_shape.py:879: RuntimeWarning: invalid value encountered in arccos\n",
      "  angles = np.arccos(cosine_angle)\n"
     ]
    },
    {
     "name": "stdout",
     "output_type": "stream",
     "text": [
      "Processing tessellation\n",
      "2025-10-06 16:31:16.705876 ----Processing ------ 470467\n",
      "Processing streets\n",
      "Processing enclosures\n",
      "Processing buildings\n"
     ]
    },
    {
     "name": "stderr",
     "output_type": "stream",
     "text": [
      "/home/martin/dev/urban_taxonomy/.pixi/envs/default/lib/python3.12/site-packages/momepy/functional/_shape.py:879: RuntimeWarning: invalid value encountered in arccos\n",
      "  angles = np.arccos(cosine_angle)\n",
      "/home/martin/dev/urban_taxonomy/.pixi/envs/default/lib/python3.12/site-packages/momepy/functional/_shape.py:879: RuntimeWarning: invalid value encountered in arccos\n",
      "  angles = np.arccos(cosine_angle)\n",
      "/home/martin/dev/urban_taxonomy/.pixi/envs/default/lib/python3.12/site-packages/momepy/functional/_shape.py:569: RuntimeWarning: Mean of empty slice\n",
      "  return np.nanmean(np.abs(90 - degrees[true_angles]))\n",
      "/home/martin/dev/urban_taxonomy/.pixi/envs/default/lib/python3.12/site-packages/momepy/functional/_shape.py:879: RuntimeWarning: invalid value encountered in arccos\n",
      "  angles = np.arccos(cosine_angle)\n",
      "/home/martin/dev/urban_taxonomy/.pixi/envs/default/lib/python3.12/site-packages/momepy/functional/_shape.py:726: RuntimeWarning: Mean of empty slice\n",
      "  return Series({\"mean\": np.nanmean(dists), \"std\": np.nanstd(dists)})\n",
      "/home/martin/dev/urban_taxonomy/.pixi/envs/default/lib/python3.12/site-packages/numpy/lib/_nanfunctions_impl.py:2019: RuntimeWarning: Degrees of freedom <= 0 for slice.\n",
      "  var = nanvar(a, axis=axis, dtype=dtype, out=out, ddof=ddof,\n"
     ]
    },
    {
     "name": "stdout",
     "output_type": "stream",
     "text": [
      "Processing tessellation\n",
      "2025-10-06 16:42:06.800529 ----Processing ------ 344277\n",
      "Processing streets\n",
      "Processing enclosures\n",
      "Processing buildings\n"
     ]
    },
    {
     "name": "stderr",
     "output_type": "stream",
     "text": [
      "/home/martin/dev/urban_taxonomy/.pixi/envs/default/lib/python3.12/site-packages/momepy/functional/_shape.py:879: RuntimeWarning: invalid value encountered in arccos\n",
      "  angles = np.arccos(cosine_angle)\n",
      "/home/martin/dev/urban_taxonomy/.pixi/envs/default/lib/python3.12/site-packages/momepy/functional/_shape.py:879: RuntimeWarning: invalid value encountered in arccos\n",
      "  angles = np.arccos(cosine_angle)\n",
      "/home/martin/dev/urban_taxonomy/.pixi/envs/default/lib/python3.12/site-packages/momepy/functional/_shape.py:569: RuntimeWarning: Mean of empty slice\n",
      "  return np.nanmean(np.abs(90 - degrees[true_angles]))\n",
      "/home/martin/dev/urban_taxonomy/.pixi/envs/default/lib/python3.12/site-packages/momepy/functional/_shape.py:879: RuntimeWarning: invalid value encountered in arccos\n",
      "  angles = np.arccos(cosine_angle)\n",
      "/home/martin/dev/urban_taxonomy/.pixi/envs/default/lib/python3.12/site-packages/momepy/functional/_shape.py:726: RuntimeWarning: Mean of empty slice\n",
      "  return Series({\"mean\": np.nanmean(dists), \"std\": np.nanstd(dists)})\n",
      "/home/martin/dev/urban_taxonomy/.pixi/envs/default/lib/python3.12/site-packages/numpy/lib/_nanfunctions_impl.py:2019: RuntimeWarning: Degrees of freedom <= 0 for slice.\n",
      "  var = nanvar(a, axis=axis, dtype=dtype, out=out, ddof=ddof,\n"
     ]
    },
    {
     "name": "stdout",
     "output_type": "stream",
     "text": [
      "Processing tessellation\n"
     ]
    }
   ],
   "source": [
    "for region_id in largest_regions:\n",
    "    process_single_region_chars(\n",
    "        region_id,\n",
    "        graph_dir,\n",
    "        buildings_dir,\n",
    "        streets_dir,\n",
    "        enclosures_dir,\n",
    "        tessellations_dir,\n",
    "        chars_dir,\n",
    "    )"
   ]
  },
  {
   "cell_type": "code",
   "execution_count": 38,
   "id": "49671bfc-4a23-4495-9244-79dafe46426a",
   "metadata": {},
   "outputs": [],
   "source": [
    "regions_hulls = region_hulls[~region_hulls.index.astype(int).isin(largest_regions)]\n",
    "        \n",
    "processed_region_ids = [\n",
    "    int(s.split(\".\")[0].split(\"_\")[-1]) for s in glob.glob(chars_dir + \"tess*\")\n",
    "]\n",
    "regions_hulls = regions_hulls[~regions_hulls.index.isin(processed_region_ids)]"
   ]
  },
  {
   "cell_type": "code",
   "execution_count": null,
   "id": "6d246ecc-5118-4658-946b-50ca8185f17c",
   "metadata": {},
   "outputs": [
    {
     "name": "stderr",
     "output_type": "stream",
     "text": [
      "/home/martin/dev/urban_taxonomy/.pixi/envs/default/lib/python3.12/site-packages/momepy/functional/_shape.py:569: RuntimeWarning: Mean of empty slice\n",
      "  return np.nanmean(np.abs(90 - degrees[true_angles]))\n",
      "/home/martin/dev/urban_taxonomy/.pixi/envs/default/lib/python3.12/site-packages/momepy/functional/_shape.py:879: RuntimeWarning: invalid value encountered in arccos\n",
      "  angles = np.arccos(cosine_angle)\n",
      "/home/martin/dev/urban_taxonomy/.pixi/envs/default/lib/python3.12/site-packages/momepy/functional/_shape.py:879: RuntimeWarning: invalid value encountered in arccos\n",
      "  angles = np.arccos(cosine_angle)\n",
      "/home/martin/dev/urban_taxonomy/.pixi/envs/default/lib/python3.12/site-packages/momepy/functional/_shape.py:726: RuntimeWarning: Mean of empty slice\n",
      "  return Series({\"mean\": np.nanmean(dists), \"std\": np.nanstd(dists)})\n",
      "/home/martin/dev/urban_taxonomy/.pixi/envs/default/lib/python3.12/site-packages/numpy/lib/_nanfunctions_impl.py:2019: RuntimeWarning: Degrees of freedom <= 0 for slice.\n",
      "  var = nanvar(a, axis=axis, dtype=dtype, out=out, ddof=ddof,\n",
      "/home/martin/dev/urban_taxonomy/.pixi/envs/default/lib/python3.12/site-packages/momepy/functional/_shape.py:879: RuntimeWarning: invalid value encountered in arccos\n",
      "  angles = np.arccos(cosine_angle)\n",
      "/home/martin/dev/urban_taxonomy/.pixi/envs/default/lib/python3.12/site-packages/momepy/functional/_shape.py:569: RuntimeWarning: Mean of empty slice\n",
      "  return np.nanmean(np.abs(90 - degrees[true_angles]))\n",
      "/home/martin/dev/urban_taxonomy/.pixi/envs/default/lib/python3.12/site-packages/momepy/functional/_shape.py:726: RuntimeWarning: Mean of empty slice\n",
      "  return Series({\"mean\": np.nanmean(dists), \"std\": np.nanstd(dists)})\n",
      "/home/martin/dev/urban_taxonomy/.pixi/envs/default/lib/python3.12/site-packages/numpy/lib/_nanfunctions_impl.py:2019: RuntimeWarning: Degrees of freedom <= 0 for slice.\n",
      "  var = nanvar(a, axis=axis, dtype=dtype, out=out, ddof=ddof,\n",
      "/home/martin/dev/urban_taxonomy/.pixi/envs/default/lib/python3.12/site-packages/momepy/functional/_shape.py:569: RuntimeWarning: Mean of empty slice\n",
      "  return np.nanmean(np.abs(90 - degrees[true_angles]))\n",
      "/home/martin/dev/urban_taxonomy/.pixi/envs/default/lib/python3.12/site-packages/momepy/functional/_shape.py:726: RuntimeWarning: Mean of empty slice\n",
      "  return Series({\"mean\": np.nanmean(dists), \"std\": np.nanstd(dists)})\n",
      "/home/martin/dev/urban_taxonomy/.pixi/envs/default/lib/python3.12/site-packages/numpy/lib/_nanfunctions_impl.py:2019: RuntimeWarning: Degrees of freedom <= 0 for slice.\n",
      "  var = nanvar(a, axis=axis, dtype=dtype, out=out, ddof=ddof,\n",
      "/home/martin/dev/urban_taxonomy/.pixi/envs/default/lib/python3.12/site-packages/momepy/functional/_shape.py:569: RuntimeWarning: Mean of empty slice\n",
      "  return np.nanmean(np.abs(90 - degrees[true_angles]))\n",
      "/home/martin/dev/urban_taxonomy/.pixi/envs/default/lib/python3.12/site-packages/momepy/functional/_shape.py:726: RuntimeWarning: Mean of empty slice\n",
      "  return Series({\"mean\": np.nanmean(dists), \"std\": np.nanstd(dists)})\n",
      "/home/martin/dev/urban_taxonomy/.pixi/envs/default/lib/python3.12/site-packages/numpy/lib/_nanfunctions_impl.py:2019: RuntimeWarning: Degrees of freedom <= 0 for slice.\n",
      "  var = nanvar(a, axis=axis, dtype=dtype, out=out, ddof=ddof,\n",
      "/home/martin/dev/urban_taxonomy/.pixi/envs/default/lib/python3.12/site-packages/momepy/functional/_shape.py:569: RuntimeWarning: Mean of empty slice\n",
      "  return np.nanmean(np.abs(90 - degrees[true_angles]))\n",
      "/home/martin/dev/urban_taxonomy/.pixi/envs/default/lib/python3.12/site-packages/momepy/functional/_shape.py:569: RuntimeWarning: Mean of empty slice\n",
      "  return np.nanmean(np.abs(90 - degrees[true_angles]))\n",
      "/home/martin/dev/urban_taxonomy/.pixi/envs/default/lib/python3.12/site-packages/momepy/functional/_shape.py:879: RuntimeWarning: invalid value encountered in arccos\n",
      "  angles = np.arccos(cosine_angle)\n",
      "/home/martin/dev/urban_taxonomy/.pixi/envs/default/lib/python3.12/site-packages/momepy/functional/_shape.py:726: RuntimeWarning: Mean of empty slice\n",
      "  return Series({\"mean\": np.nanmean(dists), \"std\": np.nanstd(dists)})\n",
      "/home/martin/dev/urban_taxonomy/.pixi/envs/default/lib/python3.12/site-packages/numpy/lib/_nanfunctions_impl.py:2019: RuntimeWarning: Degrees of freedom <= 0 for slice.\n",
      "  var = nanvar(a, axis=axis, dtype=dtype, out=out, ddof=ddof,\n",
      "/home/martin/dev/urban_taxonomy/.pixi/envs/default/lib/python3.12/site-packages/momepy/functional/_shape.py:569: RuntimeWarning: Mean of empty slice\n",
      "  return np.nanmean(np.abs(90 - degrees[true_angles]))\n",
      "/home/martin/dev/urban_taxonomy/.pixi/envs/default/lib/python3.12/site-packages/momepy/functional/_shape.py:569: RuntimeWarning: Mean of empty slice\n",
      "  return np.nanmean(np.abs(90 - degrees[true_angles]))\n",
      "/home/martin/dev/urban_taxonomy/.pixi/envs/default/lib/python3.12/site-packages/momepy/functional/_shape.py:879: RuntimeWarning: invalid value encountered in arccos\n",
      "  angles = np.arccos(cosine_angle)\n",
      "/home/martin/dev/urban_taxonomy/.pixi/envs/default/lib/python3.12/site-packages/momepy/functional/_shape.py:726: RuntimeWarning: Mean of empty slice\n",
      "  return Series({\"mean\": np.nanmean(dists), \"std\": np.nanstd(dists)})\n",
      "/home/martin/dev/urban_taxonomy/.pixi/envs/default/lib/python3.12/site-packages/numpy/lib/_nanfunctions_impl.py:2019: RuntimeWarning: Degrees of freedom <= 0 for slice.\n",
      "  var = nanvar(a, axis=axis, dtype=dtype, out=out, ddof=ddof,\n",
      "/home/martin/dev/urban_taxonomy/.pixi/envs/default/lib/python3.12/site-packages/momepy/functional/_shape.py:726: RuntimeWarning: Mean of empty slice\n",
      "  return Series({\"mean\": np.nanmean(dists), \"std\": np.nanstd(dists)})\n",
      "/home/martin/dev/urban_taxonomy/.pixi/envs/default/lib/python3.12/site-packages/numpy/lib/_nanfunctions_impl.py:2019: RuntimeWarning: Degrees of freedom <= 0 for slice.\n",
      "  var = nanvar(a, axis=axis, dtype=dtype, out=out, ddof=ddof,\n",
      "/home/martin/dev/urban_taxonomy/.pixi/envs/default/lib/python3.12/site-packages/momepy/functional/_shape.py:726: RuntimeWarning: Mean of empty slice\n",
      "  return Series({\"mean\": np.nanmean(dists), \"std\": np.nanstd(dists)})\n",
      "/home/martin/dev/urban_taxonomy/.pixi/envs/default/lib/python3.12/site-packages/numpy/lib/_nanfunctions_impl.py:2019: RuntimeWarning: Degrees of freedom <= 0 for slice.\n",
      "  var = nanvar(a, axis=axis, dtype=dtype, out=out, ddof=ddof,\n",
      "/home/martin/dev/urban_taxonomy/.pixi/envs/default/lib/python3.12/site-packages/momepy/functional/_shape.py:879: RuntimeWarning: invalid value encountered in arccos\n",
      "  angles = np.arccos(cosine_angle)\n",
      "/home/martin/dev/urban_taxonomy/.pixi/envs/default/lib/python3.12/site-packages/momepy/functional/_shape.py:879: RuntimeWarning: invalid value encountered in arccos\n",
      "  angles = np.arccos(cosine_angle)\n",
      "/home/martin/dev/urban_taxonomy/.pixi/envs/default/lib/python3.12/site-packages/momepy/functional/_shape.py:569: RuntimeWarning: Mean of empty slice\n",
      "  return np.nanmean(np.abs(90 - degrees[true_angles]))\n",
      "/home/martin/dev/urban_taxonomy/.pixi/envs/default/lib/python3.12/site-packages/momepy/functional/_shape.py:879: RuntimeWarning: invalid value encountered in arccos\n",
      "  angles = np.arccos(cosine_angle)\n",
      "/home/martin/dev/urban_taxonomy/.pixi/envs/default/lib/python3.12/site-packages/momepy/functional/_shape.py:569: RuntimeWarning: Mean of empty slice\n",
      "  return np.nanmean(np.abs(90 - degrees[true_angles]))\n",
      "/home/martin/dev/urban_taxonomy/.pixi/envs/default/lib/python3.12/site-packages/momepy/functional/_shape.py:879: RuntimeWarning: invalid value encountered in arccos\n",
      "  angles = np.arccos(cosine_angle)\n",
      "/home/martin/dev/urban_taxonomy/.pixi/envs/default/lib/python3.12/site-packages/momepy/functional/_shape.py:726: RuntimeWarning: Mean of empty slice\n",
      "  return Series({\"mean\": np.nanmean(dists), \"std\": np.nanstd(dists)})\n",
      "/home/martin/dev/urban_taxonomy/.pixi/envs/default/lib/python3.12/site-packages/numpy/lib/_nanfunctions_impl.py:2019: RuntimeWarning: Degrees of freedom <= 0 for slice.\n",
      "  var = nanvar(a, axis=axis, dtype=dtype, out=out, ddof=ddof,\n",
      "/home/martin/dev/urban_taxonomy/.pixi/envs/default/lib/python3.12/site-packages/momepy/functional/_shape.py:726: RuntimeWarning: Mean of empty slice\n",
      "  return Series({\"mean\": np.nanmean(dists), \"std\": np.nanstd(dists)})\n",
      "/home/martin/dev/urban_taxonomy/.pixi/envs/default/lib/python3.12/site-packages/numpy/lib/_nanfunctions_impl.py:2019: RuntimeWarning: Degrees of freedom <= 0 for slice.\n",
      "  var = nanvar(a, axis=axis, dtype=dtype, out=out, ddof=ddof,\n",
      "/home/martin/dev/urban_taxonomy/.pixi/envs/default/lib/python3.12/site-packages/momepy/functional/_shape.py:879: RuntimeWarning: invalid value encountered in arccos\n",
      "  angles = np.arccos(cosine_angle)\n",
      "/home/martin/dev/urban_taxonomy/.pixi/envs/default/lib/python3.12/site-packages/momepy/functional/_shape.py:569: RuntimeWarning: Mean of empty slice\n",
      "  return np.nanmean(np.abs(90 - degrees[true_angles]))\n",
      "/home/martin/dev/urban_taxonomy/.pixi/envs/default/lib/python3.12/site-packages/momepy/functional/_shape.py:879: RuntimeWarning: invalid value encountered in arccos\n",
      "  angles = np.arccos(cosine_angle)\n",
      "/home/martin/dev/urban_taxonomy/.pixi/envs/default/lib/python3.12/site-packages/momepy/functional/_shape.py:726: RuntimeWarning: Mean of empty slice\n",
      "  return Series({\"mean\": np.nanmean(dists), \"std\": np.nanstd(dists)})\n",
      "/home/martin/dev/urban_taxonomy/.pixi/envs/default/lib/python3.12/site-packages/numpy/lib/_nanfunctions_impl.py:2019: RuntimeWarning: Degrees of freedom <= 0 for slice.\n",
      "  var = nanvar(a, axis=axis, dtype=dtype, out=out, ddof=ddof,\n",
      "/home/martin/dev/urban_taxonomy/.pixi/envs/default/lib/python3.12/site-packages/momepy/functional/_shape.py:879: RuntimeWarning: invalid value encountered in arccos\n",
      "  angles = np.arccos(cosine_angle)\n",
      "/home/martin/dev/urban_taxonomy/.pixi/envs/default/lib/python3.12/site-packages/momepy/functional/_shape.py:569: RuntimeWarning: Mean of empty slice\n",
      "  return np.nanmean(np.abs(90 - degrees[true_angles]))\n",
      "/home/martin/dev/urban_taxonomy/.pixi/envs/default/lib/python3.12/site-packages/momepy/functional/_shape.py:569: RuntimeWarning: Mean of empty slice\n",
      "  return np.nanmean(np.abs(90 - degrees[true_angles]))\n",
      "/home/martin/dev/urban_taxonomy/.pixi/envs/default/lib/python3.12/site-packages/momepy/functional/_shape.py:726: RuntimeWarning: Mean of empty slice\n",
      "  return Series({\"mean\": np.nanmean(dists), \"std\": np.nanstd(dists)})\n",
      "/home/martin/dev/urban_taxonomy/.pixi/envs/default/lib/python3.12/site-packages/numpy/lib/_nanfunctions_impl.py:2019: RuntimeWarning: Degrees of freedom <= 0 for slice.\n",
      "  var = nanvar(a, axis=axis, dtype=dtype, out=out, ddof=ddof,\n",
      "/home/martin/dev/urban_taxonomy/.pixi/envs/default/lib/python3.12/site-packages/momepy/functional/_shape.py:879: RuntimeWarning: invalid value encountered in arccos\n",
      "  angles = np.arccos(cosine_angle)\n",
      "/home/martin/dev/urban_taxonomy/.pixi/envs/default/lib/python3.12/site-packages/momepy/functional/_shape.py:726: RuntimeWarning: Mean of empty slice\n",
      "  return Series({\"mean\": np.nanmean(dists), \"std\": np.nanstd(dists)})\n",
      "/home/martin/dev/urban_taxonomy/.pixi/envs/default/lib/python3.12/site-packages/numpy/lib/_nanfunctions_impl.py:2019: RuntimeWarning: Degrees of freedom <= 0 for slice.\n",
      "  var = nanvar(a, axis=axis, dtype=dtype, out=out, ddof=ddof,\n",
      "/home/martin/dev/urban_taxonomy/.pixi/envs/default/lib/python3.12/site-packages/momepy/functional/_shape.py:879: RuntimeWarning: invalid value encountered in arccos\n",
      "  angles = np.arccos(cosine_angle)\n",
      "/home/martin/dev/urban_taxonomy/.pixi/envs/default/lib/python3.12/site-packages/momepy/functional/_shape.py:569: RuntimeWarning: Mean of empty slice\n",
      "  return np.nanmean(np.abs(90 - degrees[true_angles]))\n",
      "/home/martin/dev/urban_taxonomy/.pixi/envs/default/lib/python3.12/site-packages/momepy/functional/_shape.py:879: RuntimeWarning: invalid value encountered in arccos\n",
      "  angles = np.arccos(cosine_angle)\n",
      "/home/martin/dev/urban_taxonomy/.pixi/envs/default/lib/python3.12/site-packages/momepy/functional/_shape.py:726: RuntimeWarning: Mean of empty slice\n",
      "  return Series({\"mean\": np.nanmean(dists), \"std\": np.nanstd(dists)})\n",
      "/home/martin/dev/urban_taxonomy/.pixi/envs/default/lib/python3.12/site-packages/numpy/lib/_nanfunctions_impl.py:2019: RuntimeWarning: Degrees of freedom <= 0 for slice.\n",
      "  var = nanvar(a, axis=axis, dtype=dtype, out=out, ddof=ddof,\n",
      "/home/martin/dev/urban_taxonomy/.pixi/envs/default/lib/python3.12/site-packages/momepy/functional/_shape.py:879: RuntimeWarning: invalid value encountered in arccos\n",
      "  angles = np.arccos(cosine_angle)\n",
      "/home/martin/dev/urban_taxonomy/.pixi/envs/default/lib/python3.12/site-packages/momepy/functional/_shape.py:879: RuntimeWarning: invalid value encountered in arccos\n",
      "  angles = np.arccos(cosine_angle)\n",
      "/home/martin/dev/urban_taxonomy/.pixi/envs/default/lib/python3.12/site-packages/momepy/functional/_shape.py:726: RuntimeWarning: Mean of empty slice\n",
      "  return Series({\"mean\": np.nanmean(dists), \"std\": np.nanstd(dists)})\n",
      "/home/martin/dev/urban_taxonomy/.pixi/envs/default/lib/python3.12/site-packages/numpy/lib/_nanfunctions_impl.py:2019: RuntimeWarning: Degrees of freedom <= 0 for slice.\n",
      "  var = nanvar(a, axis=axis, dtype=dtype, out=out, ddof=ddof,\n",
      "/home/martin/dev/urban_taxonomy/.pixi/envs/default/lib/python3.12/site-packages/momepy/functional/_shape.py:879: RuntimeWarning: invalid value encountered in arccos\n",
      "  angles = np.arccos(cosine_angle)\n",
      "/home/martin/dev/urban_taxonomy/.pixi/envs/default/lib/python3.12/site-packages/momepy/functional/_shape.py:879: RuntimeWarning: invalid value encountered in arccos\n",
      "  angles = np.arccos(cosine_angle)\n",
      "/home/martin/dev/urban_taxonomy/.pixi/envs/default/lib/python3.12/site-packages/momepy/functional/_shape.py:569: RuntimeWarning: Mean of empty slice\n",
      "  return np.nanmean(np.abs(90 - degrees[true_angles]))\n",
      "/home/martin/dev/urban_taxonomy/.pixi/envs/default/lib/python3.12/site-packages/momepy/functional/_shape.py:879: RuntimeWarning: invalid value encountered in arccos\n",
      "  angles = np.arccos(cosine_angle)\n",
      "/home/martin/dev/urban_taxonomy/.pixi/envs/default/lib/python3.12/site-packages/momepy/functional/_shape.py:569: RuntimeWarning: Mean of empty slice\n",
      "  return np.nanmean(np.abs(90 - degrees[true_angles]))\n",
      "/home/martin/dev/urban_taxonomy/.pixi/envs/default/lib/python3.12/site-packages/momepy/functional/_shape.py:879: RuntimeWarning: invalid value encountered in arccos\n",
      "  angles = np.arccos(cosine_angle)\n",
      "/home/martin/dev/urban_taxonomy/.pixi/envs/default/lib/python3.12/site-packages/momepy/functional/_shape.py:726: RuntimeWarning: Mean of empty slice\n",
      "  return Series({\"mean\": np.nanmean(dists), \"std\": np.nanstd(dists)})\n",
      "/home/martin/dev/urban_taxonomy/.pixi/envs/default/lib/python3.12/site-packages/numpy/lib/_nanfunctions_impl.py:2019: RuntimeWarning: Degrees of freedom <= 0 for slice.\n",
      "  var = nanvar(a, axis=axis, dtype=dtype, out=out, ddof=ddof,\n",
      "/home/martin/dev/urban_taxonomy/.pixi/envs/default/lib/python3.12/site-packages/momepy/functional/_shape.py:726: RuntimeWarning: Mean of empty slice\n",
      "  return Series({\"mean\": np.nanmean(dists), \"std\": np.nanstd(dists)})\n",
      "/home/martin/dev/urban_taxonomy/.pixi/envs/default/lib/python3.12/site-packages/numpy/lib/_nanfunctions_impl.py:2019: RuntimeWarning: Degrees of freedom <= 0 for slice.\n",
      "  var = nanvar(a, axis=axis, dtype=dtype, out=out, ddof=ddof,\n",
      "/home/martin/dev/urban_taxonomy/.pixi/envs/default/lib/python3.12/site-packages/momepy/functional/_shape.py:879: RuntimeWarning: invalid value encountered in arccos\n",
      "  angles = np.arccos(cosine_angle)\n",
      "/home/martin/dev/urban_taxonomy/.pixi/envs/default/lib/python3.12/site-packages/momepy/functional/_shape.py:569: RuntimeWarning: Mean of empty slice\n",
      "  return np.nanmean(np.abs(90 - degrees[true_angles]))\n",
      "/home/martin/dev/urban_taxonomy/.pixi/envs/default/lib/python3.12/site-packages/momepy/functional/_shape.py:879: RuntimeWarning: invalid value encountered in arccos\n",
      "  angles = np.arccos(cosine_angle)\n",
      "/home/martin/dev/urban_taxonomy/.pixi/envs/default/lib/python3.12/site-packages/momepy/functional/_shape.py:726: RuntimeWarning: Mean of empty slice\n",
      "  return Series({\"mean\": np.nanmean(dists), \"std\": np.nanstd(dists)})\n",
      "/home/martin/dev/urban_taxonomy/.pixi/envs/default/lib/python3.12/site-packages/numpy/lib/_nanfunctions_impl.py:2019: RuntimeWarning: Degrees of freedom <= 0 for slice.\n",
      "  var = nanvar(a, axis=axis, dtype=dtype, out=out, ddof=ddof,\n",
      "/home/martin/dev/urban_taxonomy/.pixi/envs/default/lib/python3.12/site-packages/momepy/functional/_shape.py:879: RuntimeWarning: invalid value encountered in arccos\n",
      "  angles = np.arccos(cosine_angle)\n",
      "/home/martin/dev/urban_taxonomy/.pixi/envs/default/lib/python3.12/site-packages/momepy/functional/_shape.py:879: RuntimeWarning: invalid value encountered in arccos\n",
      "  angles = np.arccos(cosine_angle)\n",
      "/home/martin/dev/urban_taxonomy/.pixi/envs/default/lib/python3.12/site-packages/momepy/functional/_shape.py:569: RuntimeWarning: Mean of empty slice\n",
      "  return np.nanmean(np.abs(90 - degrees[true_angles]))\n",
      "/home/martin/dev/urban_taxonomy/.pixi/envs/default/lib/python3.12/site-packages/momepy/functional/_shape.py:879: RuntimeWarning: invalid value encountered in arccos\n",
      "  angles = np.arccos(cosine_angle)\n",
      "/home/martin/dev/urban_taxonomy/.pixi/envs/default/lib/python3.12/site-packages/momepy/functional/_shape.py:569: RuntimeWarning: Mean of empty slice\n",
      "  return np.nanmean(np.abs(90 - degrees[true_angles]))\n",
      "/home/martin/dev/urban_taxonomy/.pixi/envs/default/lib/python3.12/site-packages/momepy/functional/_shape.py:569: RuntimeWarning: Mean of empty slice\n",
      "  return np.nanmean(np.abs(90 - degrees[true_angles]))\n",
      "/home/martin/dev/urban_taxonomy/.pixi/envs/default/lib/python3.12/site-packages/momepy/functional/_shape.py:726: RuntimeWarning: Mean of empty slice\n",
      "  return Series({\"mean\": np.nanmean(dists), \"std\": np.nanstd(dists)})\n",
      "/home/martin/dev/urban_taxonomy/.pixi/envs/default/lib/python3.12/site-packages/numpy/lib/_nanfunctions_impl.py:2019: RuntimeWarning: Degrees of freedom <= 0 for slice.\n",
      "  var = nanvar(a, axis=axis, dtype=dtype, out=out, ddof=ddof,\n",
      "/home/martin/dev/urban_taxonomy/.pixi/envs/default/lib/python3.12/site-packages/momepy/functional/_shape.py:569: RuntimeWarning: Mean of empty slice\n",
      "  return np.nanmean(np.abs(90 - degrees[true_angles]))\n",
      "/home/martin/dev/urban_taxonomy/.pixi/envs/default/lib/python3.12/site-packages/momepy/functional/_shape.py:879: RuntimeWarning: invalid value encountered in arccos\n",
      "  angles = np.arccos(cosine_angle)\n",
      "/home/martin/dev/urban_taxonomy/.pixi/envs/default/lib/python3.12/site-packages/momepy/functional/_shape.py:726: RuntimeWarning: Mean of empty slice\n",
      "  return Series({\"mean\": np.nanmean(dists), \"std\": np.nanstd(dists)})\n",
      "/home/martin/dev/urban_taxonomy/.pixi/envs/default/lib/python3.12/site-packages/numpy/lib/_nanfunctions_impl.py:2019: RuntimeWarning: Degrees of freedom <= 0 for slice.\n",
      "  var = nanvar(a, axis=axis, dtype=dtype, out=out, ddof=ddof,\n",
      "/home/martin/dev/urban_taxonomy/.pixi/envs/default/lib/python3.12/site-packages/momepy/functional/_shape.py:726: RuntimeWarning: Mean of empty slice\n",
      "  return Series({\"mean\": np.nanmean(dists), \"std\": np.nanstd(dists)})\n",
      "/home/martin/dev/urban_taxonomy/.pixi/envs/default/lib/python3.12/site-packages/numpy/lib/_nanfunctions_impl.py:2019: RuntimeWarning: Degrees of freedom <= 0 for slice.\n",
      "  var = nanvar(a, axis=axis, dtype=dtype, out=out, ddof=ddof,\n",
      "/home/martin/dev/urban_taxonomy/.pixi/envs/default/lib/python3.12/site-packages/momepy/functional/_shape.py:879: RuntimeWarning: invalid value encountered in arccos\n",
      "  angles = np.arccos(cosine_angle)\n",
      "/home/martin/dev/urban_taxonomy/.pixi/envs/default/lib/python3.12/site-packages/momepy/functional/_shape.py:726: RuntimeWarning: Mean of empty slice\n",
      "  return Series({\"mean\": np.nanmean(dists), \"std\": np.nanstd(dists)})\n",
      "/home/martin/dev/urban_taxonomy/.pixi/envs/default/lib/python3.12/site-packages/numpy/lib/_nanfunctions_impl.py:2019: RuntimeWarning: Degrees of freedom <= 0 for slice.\n",
      "  var = nanvar(a, axis=axis, dtype=dtype, out=out, ddof=ddof,\n",
      "/home/martin/dev/urban_taxonomy/.pixi/envs/default/lib/python3.12/site-packages/momepy/functional/_shape.py:569: RuntimeWarning: Mean of empty slice\n",
      "  return np.nanmean(np.abs(90 - degrees[true_angles]))\n",
      "/home/martin/dev/urban_taxonomy/.pixi/envs/default/lib/python3.12/site-packages/momepy/functional/_shape.py:879: RuntimeWarning: invalid value encountered in arccos\n",
      "  angles = np.arccos(cosine_angle)\n"
     ]
    },
    {
     "name": "stdout",
     "output_type": "stream",
     "text": [
      "2025-10-06 17:26:19.546973 ----Processing ------ 153635\n",
      "Processing streets\n",
      "Processing enclosures\n",
      "Processing buildings\n",
      "Processing tessellation\n",
      "2025-10-06 17:27:04.188692 ----Processing ------ 165181\n",
      "Processing streets\n",
      "Processing enclosures\n",
      "Processing buildings\n",
      "Processing tessellation\n"
     ]
    },
    {
     "name": "stderr",
     "output_type": "stream",
     "text": [
      "/home/martin/dev/urban_taxonomy/.pixi/envs/default/lib/python3.12/site-packages/momepy/functional/_shape.py:569: RuntimeWarning: Mean of empty slice\n",
      "  return np.nanmean(np.abs(90 - degrees[true_angles]))\n",
      "/home/martin/dev/urban_taxonomy/.pixi/envs/default/lib/python3.12/site-packages/momepy/functional/_shape.py:726: RuntimeWarning: Mean of empty slice\n",
      "  return Series({\"mean\": np.nanmean(dists), \"std\": np.nanstd(dists)})\n",
      "/home/martin/dev/urban_taxonomy/.pixi/envs/default/lib/python3.12/site-packages/numpy/lib/_nanfunctions_impl.py:2019: RuntimeWarning: Degrees of freedom <= 0 for slice.\n",
      "  var = nanvar(a, axis=axis, dtype=dtype, out=out, ddof=ddof,\n"
     ]
    }
   ],
   "source": [
    "n_jobs = -1\n",
    "new = Parallel(n_jobs=n_jobs)(\n",
    "    delayed(process_single_region_chars)(\n",
    "        region_id,\n",
    "        graph_dir,\n",
    "        buildings_dir,\n",
    "        streets_dir,\n",
    "        enclosures_dir,\n",
    "        tessellations_dir,\n",
    "        chars_dir,\n",
    "    )\n",
    "    for region_id, _ in regions_hulls.iterrows()\n",
    ")"
   ]
  },
  {
   "cell_type": "code",
   "execution_count": null,
   "id": "7a1522ea-ccf8-4a30-8610-a0d77bebf886",
   "metadata": {},
   "outputs": [],
   "source": []
  }
 ],
 "metadata": {
  "kernelspec": {
   "display_name": "Python 3 (ipykernel)",
   "language": "python",
   "name": "python3"
  },
  "language_info": {
   "codemirror_mode": {
    "name": "ipython",
    "version": 3
   },
   "file_extension": ".py",
   "mimetype": "text/x-python",
   "name": "python",
   "nbconvert_exporter": "python",
   "pygments_lexer": "ipython3",
   "version": "3.12.10"
  }
 },
 "nbformat": 4,
 "nbformat_minor": 5
}
