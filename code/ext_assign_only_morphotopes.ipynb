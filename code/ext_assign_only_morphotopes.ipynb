{
 "cells": [
  {
   "cell_type": "code",
   "execution_count": null,
   "id": "188edca1-65b6-4ee8-8743-22a9590b8396",
   "metadata": {},
   "outputs": [],
   "source": [
    "import geopandas as gpd\n",
    "import pandas as pd\n",
    "from sklearn.preprocessing import StandardScaler\n",
    "from sklearn.neighbors import KNeighborsClassifier\n",
    "from libpysal.graph import read_parquet\n",
    "import numpy as np"
   ]
  },
  {
   "cell_type": "code",
   "execution_count": null,
   "id": "bcad3ad8-1d38-415b-901e-6ad5f051d87f",
   "metadata": {},
   "outputs": [],
   "source": [
    "v = \"v10\"\n",
    "v_ext = \"v10_ext1\"\n",
    "\n",
    "model_params = \"_post_processing_v1\"\n",
    "\n",
    "clusters_dir = \"/data/uscuni-ulce/processed_data/clusters/\"\n",
    "chars_dir = \"/data/uscuni-ulce/processed_data/chars/\"\n",
    "regions_datadir = \"/data/uscuni-ulce/\"\n",
    "graph_dir = \"/data/uscuni-ulce/processed_data/neigh_graphs/\""
   ]
  },
  {
   "cell_type": "code",
   "execution_count": null,
   "id": "dcdffee3-4cee-4c53-9531-e376f1ecd634",
   "metadata": {},
   "outputs": [],
   "source": [
    "country = \"fr_sp_nl_be\"\n",
    "\n",
    "region_hulls = gpd.read_parquet(\n",
    "    regions_datadir + \"regions/\" + f\"{country}_regions_hull.parquet\"\n",
    ")"
   ]
  },
  {
   "cell_type": "code",
   "execution_count": null,
   "id": "1407eaac-4151-4fd1-b7d8-6d006aeb6a9d",
   "metadata": {},
   "outputs": [],
   "source": [
    "cdata = pd.read_parquet(f\"/data/uscuni-ulce/processed_data/clusters/cdata_{v}.pq\")\n",
    "cdata.index = cdata.index.astype(str)"
   ]
  },
  {
   "cell_type": "code",
   "execution_count": null,
   "id": "ede75ff0-9267-45d3-b233-4fed318be8d1",
   "metadata": {},
   "outputs": [],
   "source": []
  },
  {
   "cell_type": "code",
   "execution_count": null,
   "id": "011466fd-4b3a-477d-a47a-0d52b6409ccf",
   "metadata": {},
   "outputs": [],
   "source": [
    "region_id = 370160 # bcn"
   ]
  },
  {
   "cell_type": "code",
   "execution_count": null,
   "id": "e818d535-ec8d-465b-ae8a-c94341bcf400",
   "metadata": {},
   "outputs": [],
   "source": []
  },
  {
   "cell_type": "code",
   "execution_count": null,
   "id": "d63eed31-9f59-45ed-8faf-a8f3b61130c7",
   "metadata": {},
   "outputs": [],
   "source": [
    "def assign_morphs_to_tree(region_id, cdata):\n",
    "    \n",
    "    # read buildings cluster and characters\n",
    "    clusters = pd.read_parquet(\n",
    "        f\"{clusters_dir}clusters_{region_id}_{v_ext}.pq\", columns=[\"final\", \"morph\"]\n",
    "    )\n",
    "    chars = pd.read_parquet(f\"{chars_dir}primary_chars_{region_id}.parquet\")\n",
    "    chars = chars[chars.index >= 0]\n",
    "    assert (clusters.index == chars.index).all()\n",
    "\n",
    "    # get the index of the noise\n",
    "    is_noise = clusters[\"final\"].values == -1\n",
    "\n",
    "    # align morphotopes and cdata\n",
    "    morphotope_groups = chars[~is_noise].groupby(clusters[~is_noise].morph).median()\n",
    "    morphotope_chars = pd.read_parquet(f\"/data/uscuni-ulce/processed_data/morphotopes/morph_chars_{region_id}.pq\")\n",
    "    morphotope_groups[\"limAre\"] = morphotope_chars['limAre']\n",
    "    morphotope_groups[\"limLPS\"] = morphotope_chars['limLPS']\n",
    "    morphotope_groups = morphotope_groups[cdata.columns]\n",
    "\n",
    "    # combine the cluster and the region morphotope chars\n",
    "    # and scale them\n",
    "    all_data = pd.concat((cdata, morphotope_groups))\n",
    "    scalar = StandardScaler()\n",
    "    vals = scalar.fit_transform(all_data)\n",
    "    all_data = pd.DataFrame(\n",
    "        vals, index=all_data.index, columns=all_data.columns\n",
    "    ).fillna(0)\n",
    "\n",
    "    # setup tree data\n",
    "    morphotope_query_data = all_data.loc[morphotope_groups.index]\n",
    "    tree_data = all_data.loc[cdata.index]\n",
    "    ## query a knn classifier and assign predictions\n",
    "    tree = KNeighborsClassifier(n_neighbors=1, n_jobs=-1)\n",
    "    tree = tree.fit(X=tree_data.values, y=cdata.index.values.astype(str))\n",
    "    morphotope_predictions = tree.predict(morphotope_query_data.values)\n",
    "   \n",
    "    # reassign morphotope labels\n",
    "    clusters.loc[~is_noise, 'final'] = clusters.loc[~is_noise, 'morph'].map(\n",
    "        dict(zip(morphotope_groups.index, morphotope_predictions.astype(int)))\n",
    "    )\n",
    "\n",
    "    with_noise = clusters.final.copy()\n",
    "\n",
    "    return with_noise"
   ]
  },
  {
   "cell_type": "code",
   "execution_count": null,
   "id": "ed40b49d-0f91-430a-b67e-58c7ba31ab28",
   "metadata": {},
   "outputs": [],
   "source": []
  },
  {
   "cell_type": "code",
   "execution_count": null,
   "id": "df7a5fe5-3c80-487a-8caa-57d2140ef828",
   "metadata": {},
   "outputs": [],
   "source": [
    "new_etc_clusters = assign_morphs_to_tree(region_id, cdata)"
   ]
  },
  {
   "cell_type": "code",
   "execution_count": null,
   "id": "97e3152c-175c-46af-985b-dcf6ac02a14d",
   "metadata": {},
   "outputs": [],
   "source": [
    "cluster_mapping = pd.read_parquet(\n",
    "    f\"/data/uscuni-ulce/processed_data/clusters/cluster_mapping_{v}.pq\"\n",
    ")\n",
    "\n",
    "etcs = gpd.read_parquet(\n",
    "    f\"/data/uscuni-ulce/processed_data/clusters/clusters_{region_id}_{v}.pq\"\n",
    ")\n"
   ]
  },
  {
   "cell_type": "code",
   "execution_count": null,
   "id": "21e4f450-b527-4d92-ae3f-5d281dafe7bc",
   "metadata": {},
   "outputs": [],
   "source": [
    "new_etc_names = new_etc_clusters.map(cluster_mapping[3].to_dict())\n",
    "cnames = {\n",
    "      1: 'Incoherent Large-Scale Homogeneous Fabric',\n",
    "      2: 'Incoherent Large-Scale Heterogeneous Fabric',\n",
    "      3: 'Incoherent Small-Scale Linear Fabric',\n",
    "      4: 'Incoherent Small-Scale Sparse Fabric',\n",
    "      5: 'Incoherent Small-Scale Compact Fabric',\n",
    "      6: 'Coherent Interconnected Fabric',\n",
    "      7: 'Coherent Dense Disjoint Fabric',\n",
    "      8: 'Coherent Dense Adjacent Fabric'\n",
    "}\n",
    "new_etc_names = new_etc_names.map(cnames)\n",
    "etcs['l3_names'] = new_etc_names"
   ]
  },
  {
   "cell_type": "code",
   "execution_count": null,
   "id": "f418a658-c489-47f8-bc7f-12bce2e0616d",
   "metadata": {},
   "outputs": [],
   "source": [
    "import lonboard\n",
    "\n",
    "layer = lonboard.SolidPolygonLayer.from_geopandas(etcs, opacity=0.7)\n",
    "\n",
    "from sidecar import Sidecar\n",
    "\n",
    "sc = Sidecar(title=\"Final Clusters\")\n",
    "m = lonboard.Map(layer, basemap_style=lonboard.basemap.CartoBasemap.DarkMatter)\n",
    "with sc:\n",
    "    display(m)"
   ]
  },
  {
   "cell_type": "code",
   "execution_count": null,
   "id": "f2282bd3-aa89-43ff-b1e2-e04a6e3cdbdf",
   "metadata": {},
   "outputs": [],
   "source": [
    "from core.cluster_validation import get_color\n",
    "\n",
    "layer.get_fill_color = get_color(new_etc_clusters.map(cluster_mapping[3].to_dict()).fillna(-1).astype(int))"
   ]
  },
  {
   "cell_type": "code",
   "execution_count": null,
   "id": "b75b2976-2478-40d3-a77f-f22e68e86f11",
   "metadata": {},
   "outputs": [],
   "source": []
  }
 ],
 "metadata": {
  "kernelspec": {
   "display_name": "Python 3 (ipykernel)",
   "language": "python",
   "name": "python3"
  },
  "language_info": {
   "codemirror_mode": {
    "name": "ipython",
    "version": 3
   },
   "file_extension": ".py",
   "mimetype": "text/x-python",
   "name": "python",
   "nbconvert_exporter": "python",
   "pygments_lexer": "ipython3",
   "version": "3.12.10"
  }
 },
 "nbformat": 4,
 "nbformat_minor": 5
}
