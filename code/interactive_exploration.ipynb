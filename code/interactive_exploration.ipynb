{
 "cells": [
  {
   "cell_type": "markdown",
   "metadata": {},
   "source": [
    "# Visualize data on an interactive map\n",
    "\n",
    "This notebook uses `lonboard` for interactive visualisation of data."
   ]
  },
  {
   "cell_type": "code",
   "execution_count": 1,
   "metadata": {},
   "outputs": [],
   "source": [
    "import geopandas as gpd\n",
    "import numpy as np\n",
    "import lonboard\n",
    "from core.utils import used_keys\n",
    "from lonboard.colormap import apply_continuous_cmap\n",
    "import matplotlib as mpl\n",
    "from mapclassify import classify\n",
    "from sidecar import Sidecar\n"
   ]
  },
  {
   "cell_type": "markdown",
   "metadata": {},
   "source": [
    "Define data path"
   ]
  },
  {
   "cell_type": "code",
   "execution_count": 2,
   "metadata": {},
   "outputs": [],
   "source": [
    "chars_dir = \"/data/uscuni-ulce/processed_data/chars/\""
   ]
  },
  {
   "cell_type": "markdown",
   "metadata": {},
   "source": [
    "Define region"
   ]
  },
  {
   "cell_type": "code",
   "execution_count": 3,
   "metadata": {},
   "outputs": [],
   "source": [
    "region = 69333"
   ]
  },
  {
   "cell_type": "markdown",
   "metadata": {},
   "source": [
    "## Buildings\n",
    "Load building data and ensure the geometries are all valid Polygons."
   ]
  },
  {
   "cell_type": "code",
   "execution_count": null,
   "metadata": {},
   "outputs": [],
   "source": []
  },
  {
   "cell_type": "code",
   "execution_count": 4,
   "metadata": {},
   "outputs": [],
   "source": [
    "buildings = gpd.read_parquet(f\"{chars_dir}buildings_chars_{region}.parquet\").to_crs(4326).reset_index()\n",
    "\n",
    "buildings.geometry = buildings.make_valid()\n",
    "\n",
    "buildings = buildings[buildings.geom_type.str.contains(\"Polygon\")]"
   ]
  },
  {
   "cell_type": "markdown",
   "metadata": {},
   "source": [
    "Create a lonboard layer"
   ]
  },
  {
   "cell_type": "code",
   "execution_count": 5,
   "metadata": {},
   "outputs": [
    {
     "name": "stdout",
     "output_type": "stream",
     "text": [
      "CPU times: user 1.64 s, sys: 196 ms, total: 1.84 s\n",
      "Wall time: 1.83 s\n"
     ]
    }
   ],
   "source": [
    "%%time\n",
    "layer = lonboard.PolygonLayer.from_geopandas(buildings, opacity=.3)"
   ]
  },
  {
   "cell_type": "markdown",
   "metadata": {},
   "source": [
    "Create a Sidecar view (assumes JupyterLab) for more comfortable experience."
   ]
  },
  {
   "cell_type": "code",
   "execution_count": 6,
   "metadata": {},
   "outputs": [],
   "source": [
    "sc = Sidecar(title='buildings')"
   ]
  },
  {
   "cell_type": "markdown",
   "metadata": {},
   "source": [
    "Create a Map object"
   ]
  },
  {
   "cell_type": "code",
   "execution_count": 7,
   "metadata": {},
   "outputs": [],
   "source": [
    "m = lonboard.Map(layer)"
   ]
  },
  {
   "cell_type": "markdown",
   "metadata": {},
   "source": [
    "Display map within the sidecar plugin"
   ]
  },
  {
   "cell_type": "code",
   "execution_count": 8,
   "metadata": {},
   "outputs": [],
   "source": [
    "with sc:\n",
    "    display(m)"
   ]
  },
  {
   "cell_type": "markdown",
   "metadata": {},
   "source": [
    "List avaialable columns"
   ]
  },
  {
   "cell_type": "code",
   "execution_count": 9,
   "metadata": {},
   "outputs": [
    {
     "data": {
      "text/plain": [
       "Index(['level_0', 'index', 'currentUse', 'buildingNature', 'heightAboveGround',\n",
       "       'iid', 'geometry', 'ssbCCo', 'ssbCor', 'ssbSqu', 'ssbCCM', 'ssbCCD',\n",
       "       'sdbAre', 'sdbPer', 'sdbCoA', 'ssbERI', 'ssbElo', 'stbOri', 'mtbSWR',\n",
       "       'libNCo', 'ldbPWL', 'ltcBuA', 'mtbAli', 'mtbNDi', 'ltbIBD', 'stbCeA',\n",
       "       'nID', 'stbSAl', 'nodeID'],\n",
       "      dtype='object')"
      ]
     },
     "execution_count": 9,
     "metadata": {},
     "output_type": "execute_result"
    }
   ],
   "source": [
    "buildings.columns"
   ]
  },
  {
   "cell_type": "markdown",
   "metadata": {},
   "source": [
    "Specify a column and pass its values into a choropleth representation within the map. "
   ]
  },
  {
   "cell_type": "code",
   "execution_count": 10,
   "metadata": {},
   "outputs": [],
   "source": [
    "# buildings.explore()"
   ]
  },
  {
   "cell_type": "code",
   "execution_count": 11,
   "metadata": {},
   "outputs": [
    {
     "data": {
      "text/plain": [
       "'shared walls ratio of buildings'"
      ]
     },
     "execution_count": 11,
     "metadata": {},
     "output_type": "execute_result"
    }
   ],
   "source": [
    "column = 'mtbSWR'\n",
    "used_keys[column]"
   ]
  },
  {
   "cell_type": "code",
   "execution_count": 12,
   "metadata": {},
   "outputs": [
    {
     "name": "stderr",
     "output_type": "stream",
     "text": [
      "/home/krasen/urban_taxonomy/.pixi/envs/default/lib/python3.12/site-packages/mapclassify/classifiers.py:1653: UserWarning: Not enough unique values in array to form 20 classes. Setting k to 7.\n",
      "  self.bins = quantile(y, k=k)\n"
     ]
    }
   ],
   "source": [
    "classifier = classify(buildings[column], 'quantiles', k=20)\n",
    "normalizer = mpl.colors.Normalize(0, classifier.bins.shape[0])\n",
    "vals = normalizer(classifier.yb)\n",
    "layer.get_fill_color = apply_continuous_cmap(vals, mpl.colormaps['viridis'])"
   ]
  },
  {
   "cell_type": "code",
   "execution_count": null,
   "metadata": {},
   "outputs": [],
   "source": []
  },
  {
   "cell_type": "code",
   "execution_count": 13,
   "metadata": {},
   "outputs": [
    {
     "data": {
      "text/plain": [
       "mean    0.096114\n",
       "std     0.188140\n",
       "min     0.000000\n",
       "25%     0.000000\n",
       "50%     0.000000\n",
       "75%     0.129638\n",
       "max     1.000000\n",
       "Name: mtbSWR, dtype: float64"
      ]
     },
     "execution_count": 13,
     "metadata": {},
     "output_type": "execute_result"
    }
   ],
   "source": [
    "buildings[column].describe().iloc[1:]"
   ]
  },
  {
   "cell_type": "markdown",
   "metadata": {},
   "source": [
    "## Tessellation"
   ]
  },
  {
   "cell_type": "markdown",
   "metadata": {},
   "source": [
    "Load tessellation data and ensure the geometries are all valid Polygons."
   ]
  },
  {
   "cell_type": "code",
   "execution_count": 15,
   "metadata": {},
   "outputs": [],
   "source": [
    "tess = gpd.read_parquet(f\"{chars_dir}tessellations_chars_{region}.parquet\").to_crs(4326)\n",
    "\n",
    "tess.geometry = tess.make_valid()\n",
    "\n",
    "tess = tess[tess.geom_type.str.contains(\"Polygon\")]"
   ]
  },
  {
   "cell_type": "markdown",
   "metadata": {},
   "source": [
    "Create a lonboard layer"
   ]
  },
  {
   "cell_type": "code",
   "execution_count": 16,
   "metadata": {},
   "outputs": [
    {
     "name": "stdout",
     "output_type": "stream",
     "text": [
      "CPU times: user 2.36 s, sys: 278 ms, total: 2.64 s\n",
      "Wall time: 2.63 s\n"
     ]
    }
   ],
   "source": [
    "%%time\n",
    "layer = lonboard.SolidPolygonLayer.from_geopandas(tess, opacity=.2)"
   ]
  },
  {
   "cell_type": "markdown",
   "metadata": {},
   "source": [
    "Create a Sidecar view (assumes JupyterLab) for more comfortable experience."
   ]
  },
  {
   "cell_type": "code",
   "execution_count": 17,
   "metadata": {},
   "outputs": [],
   "source": [
    "sc = Sidecar(title='tess')"
   ]
  },
  {
   "cell_type": "markdown",
   "metadata": {},
   "source": [
    "Create a Map object"
   ]
  },
  {
   "cell_type": "code",
   "execution_count": 18,
   "metadata": {},
   "outputs": [],
   "source": [
    "m = lonboard.Map(layer)"
   ]
  },
  {
   "cell_type": "markdown",
   "metadata": {},
   "source": [
    "Display map within the sidecar plugin"
   ]
  },
  {
   "cell_type": "code",
   "execution_count": 19,
   "metadata": {},
   "outputs": [],
   "source": [
    "with sc:\n",
    "    display(m)"
   ]
  },
  {
   "cell_type": "markdown",
   "metadata": {},
   "source": [
    "List avaialable columns"
   ]
  },
  {
   "cell_type": "code",
   "execution_count": 20,
   "metadata": {},
   "outputs": [
    {
     "data": {
      "text/plain": [
       "Index(['enclosure_index', 'geometry', 'stcOri', 'sdcLAL', 'sdcAre', 'sscCCo',\n",
       "       'sscERI', 'mtcWNe', 'mdcAre', 'ltcWRB', 'sicCAR', 'stcSAl', 'nID',\n",
       "       'nodeID'],\n",
       "      dtype='object')"
      ]
     },
     "execution_count": 20,
     "metadata": {},
     "output_type": "execute_result"
    }
   ],
   "source": [
    "tess.columns"
   ]
  },
  {
   "cell_type": "code",
   "execution_count": 21,
   "metadata": {},
   "outputs": [
    {
     "data": {
      "text/plain": [
       "'perimeter-weighted neighbours of ETC'"
      ]
     },
     "execution_count": 21,
     "metadata": {},
     "output_type": "execute_result"
    }
   ],
   "source": [
    "column = 'mtcWNe'\n",
    "used_keys[column]"
   ]
  },
  {
   "cell_type": "markdown",
   "metadata": {},
   "source": [
    "Specify a column and pass its values into a choropleth representation within the map. "
   ]
  },
  {
   "cell_type": "code",
   "execution_count": 22,
   "metadata": {},
   "outputs": [],
   "source": [
    "\n",
    "classifier = classify(tess[column], 'quantiles', k=20)\n",
    "normalizer = mpl.colors.Normalize(0, classifier.bins.shape[0])\n",
    "vals = normalizer(classifier.yb)\n",
    "layer.get_fill_color = apply_continuous_cmap(vals, mpl.colormaps['viridis'])"
   ]
  },
  {
   "cell_type": "markdown",
   "metadata": {
    "jp-MarkdownHeadingCollapsed": true
   },
   "source": [
    "## Enclosures"
   ]
  },
  {
   "cell_type": "markdown",
   "metadata": {},
   "source": [
    "Load data and ensure the geometries are all valid Polygons."
   ]
  },
  {
   "cell_type": "code",
   "execution_count": 35,
   "metadata": {},
   "outputs": [],
   "source": [
    "enc = gpd.read_parquet(f\"{chars_dir}enclosures_chars_{region}.parquet\").to_crs(4326)\n",
    "\n",
    "enc.geometry = enc.make_valid()\n",
    "\n",
    "enc = enc[enc.geom_type.str.contains(\"Polygon\")]"
   ]
  },
  {
   "cell_type": "markdown",
   "metadata": {},
   "source": [
    "Create a lonboard layer"
   ]
  },
  {
   "cell_type": "code",
   "execution_count": 36,
   "metadata": {},
   "outputs": [
    {
     "name": "stdout",
     "output_type": "stream",
     "text": [
      "CPU times: user 168 ms, sys: 31.9 ms, total: 200 ms\n",
      "Wall time: 200 ms\n"
     ]
    }
   ],
   "source": [
    "%%time\n",
    "layer = lonboard.SolidPolygonLayer.from_geopandas(enc, opacity=.3)"
   ]
  },
  {
   "cell_type": "markdown",
   "metadata": {},
   "source": [
    "Create a Sidecar view (assumes JupyterLab) for more comfortable experience."
   ]
  },
  {
   "cell_type": "code",
   "execution_count": 37,
   "metadata": {},
   "outputs": [],
   "source": [
    "sc = Sidecar(title='enclosures')"
   ]
  },
  {
   "cell_type": "markdown",
   "metadata": {},
   "source": [
    "Create a Map object"
   ]
  },
  {
   "cell_type": "code",
   "execution_count": 38,
   "metadata": {},
   "outputs": [],
   "source": [
    "m = lonboard.Map(layer)"
   ]
  },
  {
   "cell_type": "markdown",
   "metadata": {},
   "source": [
    "Display map within the sidecar plugin"
   ]
  },
  {
   "cell_type": "code",
   "execution_count": 39,
   "metadata": {},
   "outputs": [],
   "source": [
    "with sc:\n",
    "    display(m)"
   ]
  },
  {
   "cell_type": "markdown",
   "metadata": {},
   "source": [
    "List avaialable columns"
   ]
  },
  {
   "cell_type": "code",
   "execution_count": 40,
   "metadata": {},
   "outputs": [
    {
     "data": {
      "text/plain": [
       "Index(['eID', 'geometry', 'ldkAre', 'ldkPer', 'lskCCo', 'lskERI', 'lskCWA',\n",
       "       'ltkOri', 'ltkWNB', 'likWCe', 'likWBB'],\n",
       "      dtype='object')"
      ]
     },
     "execution_count": 40,
     "metadata": {},
     "output_type": "execute_result"
    }
   ],
   "source": [
    "enc.columns"
   ]
  },
  {
   "cell_type": "code",
   "execution_count": 41,
   "metadata": {},
   "outputs": [
    {
     "data": {
      "text/plain": [
       "'perimeter of enclosure'"
      ]
     },
     "execution_count": 41,
     "metadata": {},
     "output_type": "execute_result"
    }
   ],
   "source": [
    "column = 'ldkPer'\n",
    "used_keys[column]"
   ]
  },
  {
   "cell_type": "markdown",
   "metadata": {},
   "source": [
    "Specify a column and pass its values into a choropleth representation within the map. "
   ]
  },
  {
   "cell_type": "code",
   "execution_count": 42,
   "metadata": {},
   "outputs": [],
   "source": [
    "\n",
    "classifier = classify(enc[column], 'quantiles', k=20)\n",
    "normalizer = mpl.colors.Normalize(0, classifier.bins.shape[0])\n",
    "vals = normalizer(classifier.yb)\n",
    "layer.get_fill_color = apply_continuous_cmap(vals, mpl.colormaps['viridis'])"
   ]
  },
  {
   "cell_type": "markdown",
   "metadata": {},
   "source": [
    "## Streets"
   ]
  },
  {
   "cell_type": "markdown",
   "metadata": {},
   "source": [
    "Load data and ensure the geometries are all valid Polygons."
   ]
  },
  {
   "cell_type": "code",
   "execution_count": 23,
   "metadata": {},
   "outputs": [],
   "source": [
    "streets = gpd.read_parquet(f\"{chars_dir}streets_chars_{region}.parquet\")\n",
    "\n",
    "streets.geometry = streets.make_valid()"
   ]
  },
  {
   "cell_type": "code",
   "execution_count": null,
   "metadata": {},
   "outputs": [],
   "source": []
  },
  {
   "cell_type": "markdown",
   "metadata": {},
   "source": [
    "Create a lonboard layer"
   ]
  },
  {
   "cell_type": "code",
   "execution_count": 24,
   "metadata": {},
   "outputs": [
    {
     "name": "stdout",
     "output_type": "stream",
     "text": [
      "CPU times: user 65.1 ms, sys: 11.9 ms, total: 77 ms\n",
      "Wall time: 76.6 ms\n"
     ]
    }
   ],
   "source": [
    "%%time\n",
    "layer = lonboard.PathLayer.from_geopandas(streets.to_crs(4326), width_min_pixels=1)"
   ]
  },
  {
   "cell_type": "markdown",
   "metadata": {},
   "source": [
    "Create a Sidecar view (assumes JupyterLab) for more comfortable experience."
   ]
  },
  {
   "cell_type": "code",
   "execution_count": 25,
   "metadata": {},
   "outputs": [],
   "source": [
    "sc = Sidecar(title='streets')"
   ]
  },
  {
   "cell_type": "markdown",
   "metadata": {},
   "source": [
    "Create a Map object"
   ]
  },
  {
   "cell_type": "code",
   "execution_count": 26,
   "metadata": {},
   "outputs": [],
   "source": [
    "m = lonboard.Map(layer)"
   ]
  },
  {
   "cell_type": "markdown",
   "metadata": {},
   "source": [
    "Display map within the sidecar plugin"
   ]
  },
  {
   "cell_type": "code",
   "execution_count": 27,
   "metadata": {},
   "outputs": [],
   "source": [
    "with sc:\n",
    "    display(m)"
   ]
  },
  {
   "cell_type": "code",
   "execution_count": null,
   "metadata": {},
   "outputs": [],
   "source": []
  },
  {
   "cell_type": "markdown",
   "metadata": {},
   "source": [
    "List avaialable columns"
   ]
  },
  {
   "cell_type": "code",
   "execution_count": 28,
   "metadata": {},
   "outputs": [],
   "source": [
    "assert np.allclose(streets['sdsLen'] , streets.geometry.length)\n",
    "\n",
    "if 'mm_len' in streets.columns:\n",
    "    assert np.allclose(streets['mm_len'] , streets.geometry.length)"
   ]
  },
  {
   "cell_type": "code",
   "execution_count": 29,
   "metadata": {},
   "outputs": [
    {
     "data": {
      "text/plain": [
       "Index(['geometry', '_status', 'mm_len', 'cdsbool', 'node_start', 'node_end',\n",
       "       'sdsLen', 'sssLin', 'ldsMSL', 'sdsAre', 'ldsRea', 'ldsAre', 'sisBpM',\n",
       "       'sdsSPW', 'sdsSPO', 'sdsSWD', 'nID'],\n",
       "      dtype='object')"
      ]
     },
     "execution_count": 29,
     "metadata": {},
     "output_type": "execute_result"
    }
   ],
   "source": [
    "streets.columns"
   ]
  },
  {
   "cell_type": "code",
   "execution_count": 30,
   "metadata": {},
   "outputs": [
    {
     "data": {
      "text/html": [
       "<div>\n",
       "<style scoped>\n",
       "    .dataframe tbody tr th:only-of-type {\n",
       "        vertical-align: middle;\n",
       "    }\n",
       "\n",
       "    .dataframe tbody tr th {\n",
       "        vertical-align: top;\n",
       "    }\n",
       "\n",
       "    .dataframe thead th {\n",
       "        text-align: right;\n",
       "    }\n",
       "</style>\n",
       "<table border=\"1\" class=\"dataframe\">\n",
       "  <thead>\n",
       "    <tr style=\"text-align: right;\">\n",
       "      <th></th>\n",
       "      <th>sdsLen</th>\n",
       "      <th>sssLin</th>\n",
       "      <th>ldsMSL</th>\n",
       "      <th>sdsAre</th>\n",
       "      <th>ldsRea</th>\n",
       "      <th>ldsAre</th>\n",
       "      <th>sisBpM</th>\n",
       "      <th>sdsSPW</th>\n",
       "      <th>sdsSPO</th>\n",
       "      <th>sdsSWD</th>\n",
       "    </tr>\n",
       "  </thead>\n",
       "  <tbody>\n",
       "    <tr>\n",
       "      <th>count</th>\n",
       "      <td>17582.000000</td>\n",
       "      <td>17582.000000</td>\n",
       "      <td>17582.000000</td>\n",
       "      <td>1.187700e+04</td>\n",
       "      <td>17582.000000</td>\n",
       "      <td>1.423000e+04</td>\n",
       "      <td>11713.000000</td>\n",
       "      <td>17582.000000</td>\n",
       "      <td>17582.000000</td>\n",
       "      <td>12361.000000</td>\n",
       "    </tr>\n",
       "    <tr>\n",
       "      <th>mean</th>\n",
       "      <td>191.834685</td>\n",
       "      <td>0.964771</td>\n",
       "      <td>197.526050</td>\n",
       "      <td>2.049231e+04</td>\n",
       "      <td>204.855762</td>\n",
       "      <td>3.538634e+05</td>\n",
       "      <td>0.093414</td>\n",
       "      <td>33.790329</td>\n",
       "      <td>0.695741</td>\n",
       "      <td>3.689843</td>\n",
       "    </tr>\n",
       "    <tr>\n",
       "      <th>std</th>\n",
       "      <td>476.225311</td>\n",
       "      <td>0.103972</td>\n",
       "      <td>191.610393</td>\n",
       "      <td>5.465022e+04</td>\n",
       "      <td>217.551898</td>\n",
       "      <td>4.066425e+05</td>\n",
       "      <td>0.127457</td>\n",
       "      <td>13.083282</td>\n",
       "      <td>0.267717</td>\n",
       "      <td>1.938601</td>\n",
       "    </tr>\n",
       "    <tr>\n",
       "      <th>min</th>\n",
       "      <td>1.297967</td>\n",
       "      <td>0.000000</td>\n",
       "      <td>1.440465</td>\n",
       "      <td>8.644818e-01</td>\n",
       "      <td>0.000000</td>\n",
       "      <td>8.644818e-01</td>\n",
       "      <td>0.000140</td>\n",
       "      <td>0.000000</td>\n",
       "      <td>0.000000</td>\n",
       "      <td>0.000000</td>\n",
       "    </tr>\n",
       "    <tr>\n",
       "      <th>25%</th>\n",
       "      <td>57.746118</td>\n",
       "      <td>0.987424</td>\n",
       "      <td>109.545649</td>\n",
       "      <td>3.233232e+03</td>\n",
       "      <td>42.000000</td>\n",
       "      <td>1.516750e+05</td>\n",
       "      <td>0.035203</td>\n",
       "      <td>22.096769</td>\n",
       "      <td>0.471429</td>\n",
       "      <td>2.335431</td>\n",
       "    </tr>\n",
       "    <tr>\n",
       "      <th>50%</th>\n",
       "      <td>101.640103</td>\n",
       "      <td>0.999802</td>\n",
       "      <td>141.483531</td>\n",
       "      <td>8.003987e+03</td>\n",
       "      <td>165.000000</td>\n",
       "      <td>2.542413e+05</td>\n",
       "      <td>0.070632</td>\n",
       "      <td>32.338035</td>\n",
       "      <td>0.700000</td>\n",
       "      <td>3.765587</td>\n",
       "    </tr>\n",
       "    <tr>\n",
       "      <th>75%</th>\n",
       "      <td>185.700717</td>\n",
       "      <td>1.000000</td>\n",
       "      <td>200.404856</td>\n",
       "      <td>1.943060e+04</td>\n",
       "      <td>293.000000</td>\n",
       "      <td>4.213354e+05</td>\n",
       "      <td>0.120036</td>\n",
       "      <td>50.000000</td>\n",
       "      <td>1.000000</td>\n",
       "      <td>5.078759</td>\n",
       "    </tr>\n",
       "    <tr>\n",
       "      <th>max</th>\n",
       "      <td>15676.436708</td>\n",
       "      <td>1.000000</td>\n",
       "      <td>4494.794508</td>\n",
       "      <td>2.797767e+06</td>\n",
       "      <td>2959.000000</td>\n",
       "      <td>8.057106e+06</td>\n",
       "      <td>6.000424</td>\n",
       "      <td>50.000000</td>\n",
       "      <td>1.000000</td>\n",
       "      <td>11.422474</td>\n",
       "    </tr>\n",
       "  </tbody>\n",
       "</table>\n",
       "</div>"
      ],
      "text/plain": [
       "             sdsLen        sssLin        ldsMSL        sdsAre        ldsRea  \\\n",
       "count  17582.000000  17582.000000  17582.000000  1.187700e+04  17582.000000   \n",
       "mean     191.834685      0.964771    197.526050  2.049231e+04    204.855762   \n",
       "std      476.225311      0.103972    191.610393  5.465022e+04    217.551898   \n",
       "min        1.297967      0.000000      1.440465  8.644818e-01      0.000000   \n",
       "25%       57.746118      0.987424    109.545649  3.233232e+03     42.000000   \n",
       "50%      101.640103      0.999802    141.483531  8.003987e+03    165.000000   \n",
       "75%      185.700717      1.000000    200.404856  1.943060e+04    293.000000   \n",
       "max    15676.436708      1.000000   4494.794508  2.797767e+06   2959.000000   \n",
       "\n",
       "             ldsAre        sisBpM        sdsSPW        sdsSPO        sdsSWD  \n",
       "count  1.423000e+04  11713.000000  17582.000000  17582.000000  12361.000000  \n",
       "mean   3.538634e+05      0.093414     33.790329      0.695741      3.689843  \n",
       "std    4.066425e+05      0.127457     13.083282      0.267717      1.938601  \n",
       "min    8.644818e-01      0.000140      0.000000      0.000000      0.000000  \n",
       "25%    1.516750e+05      0.035203     22.096769      0.471429      2.335431  \n",
       "50%    2.542413e+05      0.070632     32.338035      0.700000      3.765587  \n",
       "75%    4.213354e+05      0.120036     50.000000      1.000000      5.078759  \n",
       "max    8.057106e+06      6.000424     50.000000      1.000000     11.422474  "
      ]
     },
     "execution_count": 30,
     "metadata": {},
     "output_type": "execute_result"
    }
   ],
   "source": [
    "streets[['sdsLen', 'sssLin', 'ldsMSL', 'sdsAre', 'ldsRea', 'ldsAre',\n",
    "       'sisBpM', 'sdsSPW', 'sdsSPO', 'sdsSWD']].describe()"
   ]
  },
  {
   "cell_type": "markdown",
   "metadata": {},
   "source": [
    "Specify a column and pass its values into a choropleth representation within the map. "
   ]
  },
  {
   "cell_type": "code",
   "execution_count": 31,
   "metadata": {},
   "outputs": [
    {
     "data": {
      "text/plain": [
       "'buildings per meter of street segment'"
      ]
     },
     "execution_count": 31,
     "metadata": {},
     "output_type": "execute_result"
    }
   ],
   "source": [
    "column = 'sisBpM'\n",
    "used_keys[column]"
   ]
  },
  {
   "cell_type": "code",
   "execution_count": 32,
   "metadata": {},
   "outputs": [],
   "source": [
    "streets[column] = streets[column].fillna(0)"
   ]
  },
  {
   "cell_type": "code",
   "execution_count": 33,
   "metadata": {},
   "outputs": [],
   "source": [
    "classifier = classify(streets[column].astype(int), 'equalinterval', k=20)\n",
    "normalizer = mpl.colors.Normalize(0, classifier.bins.shape[0])\n",
    "vals = normalizer(classifier.yb)\n",
    "layer.get_color = apply_continuous_cmap(vals, mpl.colormaps['viridis'])"
   ]
  },
  {
   "cell_type": "markdown",
   "metadata": {},
   "source": [
    "## Nodes"
   ]
  },
  {
   "cell_type": "markdown",
   "metadata": {},
   "source": [
    "Load data and ensure the geometries are all valid Polygons."
   ]
  },
  {
   "cell_type": "code",
   "execution_count": 151,
   "metadata": {},
   "outputs": [],
   "source": [
    "nodes = gpd.read_parquet(f\"{chars_dir}nodes_chars_{region}.parquet\").to_crs(4326)"
   ]
  },
  {
   "cell_type": "markdown",
   "metadata": {},
   "source": [
    "Create a lonboard layer"
   ]
  },
  {
   "cell_type": "code",
   "execution_count": 152,
   "metadata": {},
   "outputs": [
    {
     "name": "stdout",
     "output_type": "stream",
     "text": [
      "CPU times: user 69.3 ms, sys: 4.83 ms, total: 74.2 ms\n",
      "Wall time: 73.6 ms\n"
     ]
    }
   ],
   "source": [
    "%%time\n",
    "layer = lonboard.ScatterplotLayer.from_geopandas(nodes, radius_min_pixels=2)"
   ]
  },
  {
   "cell_type": "markdown",
   "metadata": {},
   "source": [
    "Create a Sidecar view (assumes JupyterLab) for more comfortable experience."
   ]
  },
  {
   "cell_type": "code",
   "execution_count": 153,
   "metadata": {},
   "outputs": [],
   "source": [
    "sc = Sidecar(title='nodes')"
   ]
  },
  {
   "cell_type": "markdown",
   "metadata": {},
   "source": [
    "Create a Map object"
   ]
  },
  {
   "cell_type": "code",
   "execution_count": 154,
   "metadata": {},
   "outputs": [],
   "source": [
    "m = lonboard.Map(layer, basemap_style=lonboard.basemap.CartoBasemap.Positron)"
   ]
  },
  {
   "cell_type": "markdown",
   "metadata": {},
   "source": [
    "Display map within the sidecar plugin"
   ]
  },
  {
   "cell_type": "code",
   "execution_count": 155,
   "metadata": {},
   "outputs": [],
   "source": [
    "with sc:\n",
    "    display(m)"
   ]
  },
  {
   "cell_type": "markdown",
   "metadata": {},
   "source": [
    "List avaialable columns"
   ]
  },
  {
   "cell_type": "code",
   "execution_count": 156,
   "metadata": {},
   "outputs": [
    {
     "data": {
      "text/plain": [
       "Index(['x', 'y', 'mtdDeg', 'lcdMes', 'linP3W', 'linP4W', 'linPDE', 'lcnClo',\n",
       "       'lddNDe', 'linWID', 'ldsCDL', 'xcnSCl', 'mtdMDi', 'nodeID', 'geometry',\n",
       "       'sddAre', 'midRea', 'midAre'],\n",
       "      dtype='object')"
      ]
     },
     "execution_count": 156,
     "metadata": {},
     "output_type": "execute_result"
    }
   ],
   "source": [
    "nodes.columns"
   ]
  },
  {
   "cell_type": "markdown",
   "metadata": {},
   "source": [
    "Specify a column and pass its values into a choropleth representation within the map. "
   ]
  },
  {
   "cell_type": "code",
   "execution_count": 161,
   "metadata": {},
   "outputs": [
    {
     "data": {
      "text/html": [
       "<div>\n",
       "<style scoped>\n",
       "    .dataframe tbody tr th:only-of-type {\n",
       "        vertical-align: middle;\n",
       "    }\n",
       "\n",
       "    .dataframe tbody tr th {\n",
       "        vertical-align: top;\n",
       "    }\n",
       "\n",
       "    .dataframe thead th {\n",
       "        text-align: right;\n",
       "    }\n",
       "</style>\n",
       "<table border=\"1\" class=\"dataframe\">\n",
       "  <thead>\n",
       "    <tr style=\"text-align: right;\">\n",
       "      <th></th>\n",
       "      <th>mtdDeg</th>\n",
       "      <th>lcdMes</th>\n",
       "      <th>linP3W</th>\n",
       "      <th>linP4W</th>\n",
       "      <th>linPDE</th>\n",
       "      <th>lcnClo</th>\n",
       "      <th>lddNDe</th>\n",
       "      <th>linWID</th>\n",
       "      <th>ldsCDL</th>\n",
       "      <th>xcnSCl</th>\n",
       "      <th>mtdMDi</th>\n",
       "      <th>nodeID</th>\n",
       "      <th>sddAre</th>\n",
       "      <th>midRea</th>\n",
       "      <th>midAre</th>\n",
       "    </tr>\n",
       "  </thead>\n",
       "  <tbody>\n",
       "    <tr>\n",
       "      <th>count</th>\n",
       "      <td>61838.000000</td>\n",
       "      <td>61838.000000</td>\n",
       "      <td>61838.000000</td>\n",
       "      <td>61838.000000</td>\n",
       "      <td>61838.000000</td>\n",
       "      <td>6.183800e+04</td>\n",
       "      <td>61838.000000</td>\n",
       "      <td>61838.000000</td>\n",
       "      <td>61838.000000</td>\n",
       "      <td>61838.000000</td>\n",
       "      <td>61838.000000</td>\n",
       "      <td>61838.00000</td>\n",
       "      <td>4.654500e+04</td>\n",
       "      <td>61838.000000</td>\n",
       "      <td>4.908000e+04</td>\n",
       "    </tr>\n",
       "    <tr>\n",
       "      <th>mean</th>\n",
       "      <td>2.567418</td>\n",
       "      <td>0.105057</td>\n",
       "      <td>0.683189</td>\n",
       "      <td>0.130161</td>\n",
       "      <td>0.183928</td>\n",
       "      <td>1.004460e-06</td>\n",
       "      <td>0.005973</td>\n",
       "      <td>0.009984</td>\n",
       "      <td>319.454293</td>\n",
       "      <td>0.027892</td>\n",
       "      <td>183.852532</td>\n",
       "      <td>30918.50000</td>\n",
       "      <td>2.587954e+04</td>\n",
       "      <td>20.845176</td>\n",
       "      <td>6.426385e+04</td>\n",
       "    </tr>\n",
       "    <tr>\n",
       "      <th>std</th>\n",
       "      <td>1.005752</td>\n",
       "      <td>0.060368</td>\n",
       "      <td>0.116292</td>\n",
       "      <td>0.098865</td>\n",
       "      <td>0.115463</td>\n",
       "      <td>6.709700e-07</td>\n",
       "      <td>0.007673</td>\n",
       "      <td>0.005341</td>\n",
       "      <td>612.723878</td>\n",
       "      <td>0.053212</td>\n",
       "      <td>280.458199</td>\n",
       "      <td>17851.23731</td>\n",
       "      <td>4.584542e+04</td>\n",
       "      <td>23.542853</td>\n",
       "      <td>8.924184e+04</td>\n",
       "    </tr>\n",
       "    <tr>\n",
       "      <th>min</th>\n",
       "      <td>1.000000</td>\n",
       "      <td>-1.000000</td>\n",
       "      <td>0.000000</td>\n",
       "      <td>0.000000</td>\n",
       "      <td>0.000000</td>\n",
       "      <td>0.000000e+00</td>\n",
       "      <td>0.000396</td>\n",
       "      <td>0.000000</td>\n",
       "      <td>0.000000</td>\n",
       "      <td>0.000000</td>\n",
       "      <td>2.311779</td>\n",
       "      <td>0.00000</td>\n",
       "      <td>1.159084e+00</td>\n",
       "      <td>0.000000</td>\n",
       "      <td>1.221930e+01</td>\n",
       "    </tr>\n",
       "    <tr>\n",
       "      <th>25%</th>\n",
       "      <td>1.000000</td>\n",
       "      <td>0.061856</td>\n",
       "      <td>0.625000</td>\n",
       "      <td>0.058824</td>\n",
       "      <td>0.111111</td>\n",
       "      <td>4.621507e-07</td>\n",
       "      <td>0.003492</td>\n",
       "      <td>0.005882</td>\n",
       "      <td>73.066534</td>\n",
       "      <td>0.000000</td>\n",
       "      <td>74.482961</td>\n",
       "      <td>15459.25000</td>\n",
       "      <td>5.936987e+03</td>\n",
       "      <td>3.000000</td>\n",
       "      <td>1.793014e+04</td>\n",
       "    </tr>\n",
       "    <tr>\n",
       "      <th>50%</th>\n",
       "      <td>3.000000</td>\n",
       "      <td>0.098592</td>\n",
       "      <td>0.695652</td>\n",
       "      <td>0.111111</td>\n",
       "      <td>0.169492</td>\n",
       "      <td>8.682536e-07</td>\n",
       "      <td>0.005624</td>\n",
       "      <td>0.009957</td>\n",
       "      <td>181.984598</td>\n",
       "      <td>0.000000</td>\n",
       "      <td>109.536100</td>\n",
       "      <td>30918.50000</td>\n",
       "      <td>1.170070e+04</td>\n",
       "      <td>16.000000</td>\n",
       "      <td>3.585703e+04</td>\n",
       "    </tr>\n",
       "    <tr>\n",
       "      <th>75%</th>\n",
       "      <td>3.000000</td>\n",
       "      <td>0.142857</td>\n",
       "      <td>0.757576</td>\n",
       "      <td>0.181818</td>\n",
       "      <td>0.238095</td>\n",
       "      <td>1.420323e-06</td>\n",
       "      <td>0.007255</td>\n",
       "      <td>0.013344</td>\n",
       "      <td>364.331816</td>\n",
       "      <td>0.047619</td>\n",
       "      <td>170.624712</td>\n",
       "      <td>46377.75000</td>\n",
       "      <td>2.549037e+04</td>\n",
       "      <td>31.000000</td>\n",
       "      <td>7.125945e+04</td>\n",
       "    </tr>\n",
       "    <tr>\n",
       "      <th>max</th>\n",
       "      <td>6.000000</td>\n",
       "      <td>0.800000</td>\n",
       "      <td>1.000000</td>\n",
       "      <td>0.777778</td>\n",
       "      <td>1.000000</td>\n",
       "      <td>7.283451e-06</td>\n",
       "      <td>0.534588</td>\n",
       "      <td>0.119944</td>\n",
       "      <td>22877.000260</td>\n",
       "      <td>1.000000</td>\n",
       "      <td>11193.902019</td>\n",
       "      <td>61837.00000</td>\n",
       "      <td>1.170909e+06</td>\n",
       "      <td>583.000000</td>\n",
       "      <td>1.806340e+06</td>\n",
       "    </tr>\n",
       "  </tbody>\n",
       "</table>\n",
       "</div>"
      ],
      "text/plain": [
       "             mtdDeg        lcdMes        linP3W        linP4W        linPDE  \\\n",
       "count  61838.000000  61838.000000  61838.000000  61838.000000  61838.000000   \n",
       "mean       2.567418      0.105057      0.683189      0.130161      0.183928   \n",
       "std        1.005752      0.060368      0.116292      0.098865      0.115463   \n",
       "min        1.000000     -1.000000      0.000000      0.000000      0.000000   \n",
       "25%        1.000000      0.061856      0.625000      0.058824      0.111111   \n",
       "50%        3.000000      0.098592      0.695652      0.111111      0.169492   \n",
       "75%        3.000000      0.142857      0.757576      0.181818      0.238095   \n",
       "max        6.000000      0.800000      1.000000      0.777778      1.000000   \n",
       "\n",
       "             lcnClo        lddNDe        linWID        ldsCDL        xcnSCl  \\\n",
       "count  6.183800e+04  61838.000000  61838.000000  61838.000000  61838.000000   \n",
       "mean   1.004460e-06      0.005973      0.009984    319.454293      0.027892   \n",
       "std    6.709700e-07      0.007673      0.005341    612.723878      0.053212   \n",
       "min    0.000000e+00      0.000396      0.000000      0.000000      0.000000   \n",
       "25%    4.621507e-07      0.003492      0.005882     73.066534      0.000000   \n",
       "50%    8.682536e-07      0.005624      0.009957    181.984598      0.000000   \n",
       "75%    1.420323e-06      0.007255      0.013344    364.331816      0.047619   \n",
       "max    7.283451e-06      0.534588      0.119944  22877.000260      1.000000   \n",
       "\n",
       "             mtdMDi       nodeID        sddAre        midRea        midAre  \n",
       "count  61838.000000  61838.00000  4.654500e+04  61838.000000  4.908000e+04  \n",
       "mean     183.852532  30918.50000  2.587954e+04     20.845176  6.426385e+04  \n",
       "std      280.458199  17851.23731  4.584542e+04     23.542853  8.924184e+04  \n",
       "min        2.311779      0.00000  1.159084e+00      0.000000  1.221930e+01  \n",
       "25%       74.482961  15459.25000  5.936987e+03      3.000000  1.793014e+04  \n",
       "50%      109.536100  30918.50000  1.170070e+04     16.000000  3.585703e+04  \n",
       "75%      170.624712  46377.75000  2.549037e+04     31.000000  7.125945e+04  \n",
       "max    11193.902019  61837.00000  1.170909e+06    583.000000  1.806340e+06  "
      ]
     },
     "execution_count": 161,
     "metadata": {},
     "output_type": "execute_result"
    }
   ],
   "source": [
    "nodes[['mtdDeg', 'lcdMes', 'linP3W', 'linP4W', 'linPDE', 'lcnClo',\n",
    "       'lddNDe', 'linWID', 'ldsCDL', 'xcnSCl', 'mtdMDi', 'nodeID', 'geometry',\n",
    "       'sddAre', 'midRea', 'midAre']].describe()"
   ]
  },
  {
   "cell_type": "code",
   "execution_count": 185,
   "metadata": {},
   "outputs": [
    {
     "data": {
      "text/plain": [
       "'mean distance to neighbouring nodes of street network'"
      ]
     },
     "execution_count": 185,
     "metadata": {},
     "output_type": "execute_result"
    }
   ],
   "source": [
    "column = 'mtdMDi'\n",
    "used_keys[column]"
   ]
  },
  {
   "cell_type": "code",
   "execution_count": 186,
   "metadata": {},
   "outputs": [],
   "source": [
    "\n",
    "classifier = classify(nodes[column], 'quantiles', k=20)\n",
    "normalizer = mpl.colors.Normalize(0, classifier.bins.shape[0])\n",
    "vals = normalizer(classifier.yb)\n",
    "layer.get_fill_color = apply_continuous_cmap(vals, mpl.colormaps['viridis'])"
   ]
  },
  {
   "cell_type": "code",
   "execution_count": null,
   "metadata": {},
   "outputs": [],
   "source": []
  },
  {
   "cell_type": "code",
   "execution_count": null,
   "metadata": {},
   "outputs": [],
   "source": []
  }
 ],
 "metadata": {
  "kernelspec": {
   "display_name": "Python 3 (ipykernel)",
   "language": "python",
   "name": "python3"
  },
  "language_info": {
   "codemirror_mode": {
    "name": "ipython",
    "version": 3
   },
   "file_extension": ".py",
   "mimetype": "text/x-python",
   "name": "python",
   "nbconvert_exporter": "python",
   "pygments_lexer": "ipython3",
   "version": "3.12.5"
  }
 },
 "nbformat": 4,
 "nbformat_minor": 4
}
