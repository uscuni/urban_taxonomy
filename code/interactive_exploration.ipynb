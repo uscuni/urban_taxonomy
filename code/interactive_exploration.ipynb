{
 "cells": [
  {
   "cell_type": "markdown",
   "metadata": {},
   "source": [
    "# Visualize data on an interactive map\n",
    "\n",
    "This notebook uses `lonboard` for interactive visualisation of data."
   ]
  },
  {
   "cell_type": "code",
   "execution_count": 2,
   "metadata": {},
   "outputs": [],
   "source": [
    "import geopandas as gpd\n",
    "import numpy as np\n",
    "import lonboard\n",
    "from core.utils import used_keys\n",
    "from lonboard.colormap import apply_continuous_cmap\n",
    "import matplotlib as mpl\n",
    "from mapclassify import classify\n",
    "\n",
    "from sidecar import Sidecar\n"
   ]
  },
  {
   "cell_type": "markdown",
   "metadata": {},
   "source": [
    "Define data path"
   ]
  },
  {
   "cell_type": "code",
   "execution_count": 3,
   "metadata": {},
   "outputs": [],
   "source": [
    "chars_dir = \"/data/uscuni-ulce/processed_data/chars/\""
   ]
  },
  {
   "cell_type": "markdown",
   "metadata": {},
   "source": [
    "Define region"
   ]
  },
  {
   "cell_type": "code",
   "execution_count": 4,
   "metadata": {},
   "outputs": [],
   "source": [
    "region = 69300"
   ]
  },
  {
   "cell_type": "markdown",
   "metadata": {
    "jp-MarkdownHeadingCollapsed": true
   },
   "source": [
    "## Buildings\n",
    "Load building data and ensure the geometries are all valid Polygons."
   ]
  },
  {
   "cell_type": "code",
   "execution_count": null,
   "metadata": {},
   "outputs": [],
   "source": []
  },
  {
   "cell_type": "code",
   "execution_count": 4,
   "metadata": {},
   "outputs": [],
   "source": [
    "buildings = gpd.read_parquet(f\"{chars_dir}buildings_chars_{region}.parquet\").to_crs(4326).reset_index()\n",
    "\n",
    "buildings.geometry = buildings.make_valid()\n",
    "\n",
    "buildings = buildings[buildings.geom_type.str.contains(\"Polygon\")]"
   ]
  },
  {
   "cell_type": "markdown",
   "metadata": {},
   "source": [
    "Create a lonboard layer"
   ]
  },
  {
   "cell_type": "code",
   "execution_count": 5,
   "metadata": {},
   "outputs": [
    {
     "name": "stdout",
     "output_type": "stream",
     "text": [
      "CPU times: user 1.23 s, sys: 175 ms, total: 1.4 s\n",
      "Wall time: 1.38 s\n"
     ]
    }
   ],
   "source": [
    "%%time\n",
    "layer = lonboard.PolygonLayer.from_geopandas(buildings)"
   ]
  },
  {
   "cell_type": "markdown",
   "metadata": {},
   "source": [
    "Create a Sidecar view (assumes JupyterLab) for more comfortable experience."
   ]
  },
  {
   "cell_type": "code",
   "execution_count": 6,
   "metadata": {},
   "outputs": [],
   "source": [
    "sc = Sidecar(title='buildings')"
   ]
  },
  {
   "cell_type": "markdown",
   "metadata": {},
   "source": [
    "Create a Map object"
   ]
  },
  {
   "cell_type": "code",
   "execution_count": 7,
   "metadata": {},
   "outputs": [],
   "source": [
    "m = lonboard.Map(layer)"
   ]
  },
  {
   "cell_type": "markdown",
   "metadata": {},
   "source": [
    "Display map within the sidecar plugin"
   ]
  },
  {
   "cell_type": "code",
   "execution_count": 8,
   "metadata": {},
   "outputs": [],
   "source": [
    "with sc:\n",
    "    display(m)"
   ]
  },
  {
   "cell_type": "markdown",
   "metadata": {},
   "source": [
    "List avaialable columns"
   ]
  },
  {
   "cell_type": "code",
   "execution_count": 9,
   "metadata": {},
   "outputs": [
    {
     "data": {
      "text/plain": [
       "Index(['level_0', 'index', 'id', 'geometry', 'ssbCCo', 'ssbCor', 'ssbSqu',\n",
       "       'ssbCCM', 'ssbCCD', 'sdbAre', 'sdbPer', 'sdbCoA', 'ssbERI', 'ssbElo',\n",
       "       'stbOri', 'mtbSWR', 'libNCo', 'ldbPWL', 'ltcBuA', 'mtbAli', 'mtbNDi',\n",
       "       'ltbIBD', 'stbCeA', 'nID', 'stbSAl', 'nodeID'],\n",
       "      dtype='object')"
      ]
     },
     "execution_count": 9,
     "metadata": {},
     "output_type": "execute_result"
    }
   ],
   "source": [
    "buildings.columns"
   ]
  },
  {
   "cell_type": "markdown",
   "metadata": {},
   "source": [
    "Specify a column and pass its values into a choropleth representation within the map. "
   ]
  },
  {
   "cell_type": "code",
   "execution_count": 10,
   "metadata": {},
   "outputs": [],
   "source": [
    "# buildings.explore()"
   ]
  },
  {
   "cell_type": "code",
   "execution_count": 11,
   "metadata": {},
   "outputs": [
    {
     "name": "stderr",
     "output_type": "stream",
     "text": [
      "/home/krasen/miniconda3/envs/urban_taxonomy/lib/python3.12/site-packages/mapclassify/classifiers.py:1592: UserWarning: Not enough unique values in array to form 20 classes. Setting k to 10.\n",
      "  self.bins = quantile(y, k=k)\n"
     ]
    }
   ],
   "source": [
    "column = 'mtbSWR'\n",
    "\n",
    "classifier = classify(buildings[column], 'quantiles', k=20)\n",
    "normalizer = mpl.colors.Normalize(0, classifier.bins.shape[0])\n",
    "vals = normalizer(classifier.yb)\n",
    "layer.get_fill_color = apply_continuous_cmap(vals, mpl.colormaps['viridis'])"
   ]
  },
  {
   "cell_type": "code",
   "execution_count": 12,
   "metadata": {},
   "outputs": [
    {
     "data": {
      "text/plain": [
       "'shared walls ratio of buildings'"
      ]
     },
     "execution_count": 12,
     "metadata": {},
     "output_type": "execute_result"
    }
   ],
   "source": [
    "used_keys[column]"
   ]
  },
  {
   "cell_type": "code",
   "execution_count": null,
   "metadata": {},
   "outputs": [],
   "source": []
  },
  {
   "cell_type": "markdown",
   "metadata": {
    "jp-MarkdownHeadingCollapsed": true
   },
   "source": [
    "## Tessellation"
   ]
  },
  {
   "cell_type": "markdown",
   "metadata": {},
   "source": [
    "Load tessellation data and ensure the geometries are all valid Polygons."
   ]
  },
  {
   "cell_type": "code",
   "execution_count": 73,
   "metadata": {},
   "outputs": [],
   "source": [
    "tess = gpd.read_parquet(f\"{chars_dir}tessellations_chars_{region}.parquet\").to_crs(4326)\n",
    "\n",
    "tess.geometry = tess.make_valid()\n",
    "\n",
    "tess = tess[tess.geom_type.str.contains(\"Polygon\")]"
   ]
  },
  {
   "cell_type": "markdown",
   "metadata": {},
   "source": [
    "Create a lonboard layer"
   ]
  },
  {
   "cell_type": "code",
   "execution_count": 71,
   "metadata": {},
   "outputs": [
    {
     "name": "stdout",
     "output_type": "stream",
     "text": [
      "CPU times: user 3.35 s, sys: 376 ms, total: 3.72 s\n",
      "Wall time: 3.72 s\n"
     ]
    }
   ],
   "source": [
    "%%time\n",
    "layer = lonboard.PolygonLayer.from_geopandas(tess)"
   ]
  },
  {
   "cell_type": "markdown",
   "metadata": {},
   "source": [
    "Create a Sidecar view (assumes JupyterLab) for more comfortable experience."
   ]
  },
  {
   "cell_type": "code",
   "execution_count": 70,
   "metadata": {},
   "outputs": [],
   "source": [
    "sc = Sidecar(title='tess')"
   ]
  },
  {
   "cell_type": "markdown",
   "metadata": {},
   "source": [
    "Create a Map object"
   ]
  },
  {
   "cell_type": "code",
   "execution_count": 71,
   "metadata": {},
   "outputs": [],
   "source": [
    "m = lonboard.Map(layer)"
   ]
  },
  {
   "cell_type": "markdown",
   "metadata": {},
   "source": [
    "Display map within the sidecar plugin"
   ]
  },
  {
   "cell_type": "code",
   "execution_count": 72,
   "metadata": {},
   "outputs": [],
   "source": [
    "with sc:\n",
    "    display(m)"
   ]
  },
  {
   "cell_type": "markdown",
   "metadata": {},
   "source": [
    "List avaialable columns"
   ]
  },
  {
   "cell_type": "code",
   "execution_count": 73,
   "metadata": {},
   "outputs": [
    {
     "data": {
      "text/plain": [
       "Index(['enclosure_index', 'geometry', 'stcOri', 'sdcLAL', 'sdcAre', 'sscCCo',\n",
       "       'sscERI', 'mtcWNe', 'mdcAre', 'ltcWRB', 'sicCAR', 'stcSAl', 'nodeID'],\n",
       "      dtype='object')"
      ]
     },
     "execution_count": 73,
     "metadata": {},
     "output_type": "execute_result"
    }
   ],
   "source": [
    "tess.columns"
   ]
  },
  {
   "cell_type": "markdown",
   "metadata": {},
   "source": [
    "Specify a column and pass its values into a choropleth representation within the map. "
   ]
  },
  {
   "cell_type": "code",
   "execution_count": 88,
   "metadata": {},
   "outputs": [],
   "source": [
    "column = 'stcSAl'\n",
    "\n",
    "classifier = classify(tess[column], 'quantiles', k=20)\n",
    "normalizer = mpl.colors.Normalize(0, classifier.bins.shape[0])\n",
    "vals = normalizer(classifier.yb)\n",
    "layer.get_fill_color = apply_continuous_cmap(vals, mpl.colormaps['viridis'])"
   ]
  },
  {
   "cell_type": "markdown",
   "metadata": {
    "jp-MarkdownHeadingCollapsed": true
   },
   "source": [
    "## Enclosures"
   ]
  },
  {
   "cell_type": "markdown",
   "metadata": {},
   "source": [
    "Load data and ensure the geometries are all valid Polygons."
   ]
  },
  {
   "cell_type": "code",
   "execution_count": 90,
   "metadata": {},
   "outputs": [],
   "source": [
    "enc = gpd.read_parquet(f\"{chars_dir}enclosures_chars_{region}.parquet\").to_crs(4326)\n",
    "\n",
    "enc.geometry = enc.make_valid()\n",
    "\n",
    "enc = enc[enc.geom_type.str.contains(\"Polygon\")]"
   ]
  },
  {
   "cell_type": "markdown",
   "metadata": {},
   "source": [
    "Create a lonboard layer"
   ]
  },
  {
   "cell_type": "code",
   "execution_count": 91,
   "metadata": {},
   "outputs": [
    {
     "name": "stdout",
     "output_type": "stream",
     "text": [
      "CPU times: user 273 ms, sys: 44.1 ms, total: 317 ms\n",
      "Wall time: 316 ms\n"
     ]
    }
   ],
   "source": [
    "%%time\n",
    "layer = lonboard.PolygonLayer.from_geopandas(enc)"
   ]
  },
  {
   "cell_type": "markdown",
   "metadata": {},
   "source": [
    "Create a Sidecar view (assumes JupyterLab) for more comfortable experience."
   ]
  },
  {
   "cell_type": "code",
   "execution_count": 92,
   "metadata": {},
   "outputs": [],
   "source": [
    "sc = Sidecar(title='enclosures')"
   ]
  },
  {
   "cell_type": "markdown",
   "metadata": {},
   "source": [
    "Create a Map object"
   ]
  },
  {
   "cell_type": "code",
   "execution_count": 93,
   "metadata": {},
   "outputs": [],
   "source": [
    "m = lonboard.Map(layer)"
   ]
  },
  {
   "cell_type": "markdown",
   "metadata": {},
   "source": [
    "Display map within the sidecar plugin"
   ]
  },
  {
   "cell_type": "code",
   "execution_count": 94,
   "metadata": {},
   "outputs": [],
   "source": [
    "with sc:\n",
    "    display(m)"
   ]
  },
  {
   "cell_type": "markdown",
   "metadata": {},
   "source": [
    "List avaialable columns"
   ]
  },
  {
   "cell_type": "code",
   "execution_count": 96,
   "metadata": {},
   "outputs": [
    {
     "data": {
      "text/plain": [
       "Index(['eID', 'geometry', 'ldkAre', 'ldkPer', 'lskCCo', 'lskERI', 'lskCWA',\n",
       "       'ltkOri', 'ltkWNB', 'likWBB'],\n",
       "      dtype='object')"
      ]
     },
     "execution_count": 96,
     "metadata": {},
     "output_type": "execute_result"
    }
   ],
   "source": [
    "enc.columns"
   ]
  },
  {
   "cell_type": "markdown",
   "metadata": {},
   "source": [
    "Specify a column and pass its values into a choropleth representation within the map. "
   ]
  },
  {
   "cell_type": "code",
   "execution_count": 13,
   "metadata": {},
   "outputs": [],
   "source": [
    "column = 'likWBB'\n",
    "\n",
    "classifier = classify(enc[column], 'quantiles', k=20)\n",
    "normalizer = mpl.colors.Normalize(0, classifier.bins.shape[0])\n",
    "vals = normalizer(classifier.yb)\n",
    "layer.get_fill_color = apply_continuous_cmap(vals, mpl.colormaps['viridis'])"
   ]
  },
  {
   "cell_type": "markdown",
   "metadata": {},
   "source": [
    "## Streets"
   ]
  },
  {
   "cell_type": "markdown",
   "metadata": {},
   "source": [
    "Load data and ensure the geometries are all valid Polygons."
   ]
  },
  {
   "cell_type": "code",
   "execution_count": 5,
   "metadata": {},
   "outputs": [],
   "source": [
    "streets = gpd.read_parquet(f\"{chars_dir}streets_chars_{region}.parquet\")\n",
    "\n",
    "streets.geometry = streets.make_valid()"
   ]
  },
  {
   "cell_type": "code",
   "execution_count": null,
   "metadata": {},
   "outputs": [],
   "source": []
  },
  {
   "cell_type": "markdown",
   "metadata": {},
   "source": [
    "Create a lonboard layer"
   ]
  },
  {
   "cell_type": "code",
   "execution_count": 15,
   "metadata": {},
   "outputs": [
    {
     "name": "stdout",
     "output_type": "stream",
     "text": [
      "CPU times: user 196 ms, sys: 20 ms, total: 216 ms\n",
      "Wall time: 216 ms\n"
     ]
    }
   ],
   "source": [
    "%%time\n",
    "layer = lonboard.PathLayer.from_geopandas(streets.to_crs(4326), width_min_pixels=1)"
   ]
  },
  {
   "cell_type": "markdown",
   "metadata": {},
   "source": [
    "Create a Sidecar view (assumes JupyterLab) for more comfortable experience."
   ]
  },
  {
   "cell_type": "code",
   "execution_count": 16,
   "metadata": {},
   "outputs": [],
   "source": [
    "sc = Sidecar(title='streets')"
   ]
  },
  {
   "cell_type": "markdown",
   "metadata": {},
   "source": [
    "Create a Map object"
   ]
  },
  {
   "cell_type": "code",
   "execution_count": 17,
   "metadata": {},
   "outputs": [],
   "source": [
    "m = lonboard.Map(layer)"
   ]
  },
  {
   "cell_type": "markdown",
   "metadata": {},
   "source": [
    "Display map within the sidecar plugin"
   ]
  },
  {
   "cell_type": "code",
   "execution_count": 18,
   "metadata": {},
   "outputs": [],
   "source": [
    "with sc:\n",
    "    display(m)"
   ]
  },
  {
   "cell_type": "markdown",
   "metadata": {},
   "source": [
    "List avaialable columns"
   ]
  },
  {
   "cell_type": "code",
   "execution_count": 19,
   "metadata": {},
   "outputs": [
    {
     "data": {
      "text/plain": [
       "Index(['id', 'geometry', 'class', 'mm_len', 'cdsbool', 'node_start',\n",
       "       'node_end', 'sdsLen', 'sssLin', 'ldsMSL', 'sdsAre', 'ldsRea', 'ldsAre',\n",
       "       'sisBpM', 'sdsSPW', 'sdsSPO', 'sdsSWD', 'nID'],\n",
       "      dtype='object')"
      ]
     },
     "execution_count": 19,
     "metadata": {},
     "output_type": "execute_result"
    }
   ],
   "source": [
    "streets.columns"
   ]
  },
  {
   "cell_type": "code",
   "execution_count": 20,
   "metadata": {},
   "outputs": [
    {
     "data": {
      "text/html": [
       "<div>\n",
       "<style scoped>\n",
       "    .dataframe tbody tr th:only-of-type {\n",
       "        vertical-align: middle;\n",
       "    }\n",
       "\n",
       "    .dataframe tbody tr th {\n",
       "        vertical-align: top;\n",
       "    }\n",
       "\n",
       "    .dataframe thead th {\n",
       "        text-align: right;\n",
       "    }\n",
       "</style>\n",
       "<table border=\"1\" class=\"dataframe\">\n",
       "  <thead>\n",
       "    <tr style=\"text-align: right;\">\n",
       "      <th></th>\n",
       "      <th>sdsLen</th>\n",
       "      <th>sssLin</th>\n",
       "      <th>ldsMSL</th>\n",
       "      <th>sdsAre</th>\n",
       "      <th>ldsRea</th>\n",
       "      <th>ldsAre</th>\n",
       "      <th>sisBpM</th>\n",
       "      <th>sdsSPW</th>\n",
       "      <th>sdsSPO</th>\n",
       "      <th>sdsSWD</th>\n",
       "    </tr>\n",
       "  </thead>\n",
       "  <tbody>\n",
       "    <tr>\n",
       "      <th>count</th>\n",
       "      <td>59661.000000</td>\n",
       "      <td>59661.000000</td>\n",
       "      <td>59661.000000</td>\n",
       "      <td>17963.000000</td>\n",
       "      <td>59661.000000</td>\n",
       "      <td>4.931400e+04</td>\n",
       "      <td>36285.000000</td>\n",
       "      <td>59661.000000</td>\n",
       "      <td>59661.000000</td>\n",
       "      <td>39799.000000</td>\n",
       "    </tr>\n",
       "    <tr>\n",
       "      <th>mean</th>\n",
       "      <td>138.252610</td>\n",
       "      <td>0.965622</td>\n",
       "      <td>144.597655</td>\n",
       "      <td>2409.410714</td>\n",
       "      <td>115.328171</td>\n",
       "      <td>2.265013e+05</td>\n",
       "      <td>0.069748</td>\n",
       "      <td>35.668336</td>\n",
       "      <td>0.742877</td>\n",
       "      <td>3.616847</td>\n",
       "    </tr>\n",
       "    <tr>\n",
       "      <th>std</th>\n",
       "      <td>274.834488</td>\n",
       "      <td>0.099060</td>\n",
       "      <td>110.857382</td>\n",
       "      <td>6024.995679</td>\n",
       "      <td>102.762411</td>\n",
       "      <td>1.868060e+05</td>\n",
       "      <td>0.100897</td>\n",
       "      <td>12.637753</td>\n",
       "      <td>0.247385</td>\n",
       "      <td>1.997335</td>\n",
       "    </tr>\n",
       "    <tr>\n",
       "      <th>min</th>\n",
       "      <td>0.679485</td>\n",
       "      <td>0.010614</td>\n",
       "      <td>3.741196</td>\n",
       "      <td>0.000748</td>\n",
       "      <td>0.000000</td>\n",
       "      <td>4.938551e+00</td>\n",
       "      <td>0.000093</td>\n",
       "      <td>0.000000</td>\n",
       "      <td>0.000000</td>\n",
       "      <td>0.000000</td>\n",
       "    </tr>\n",
       "    <tr>\n",
       "      <th>25%</th>\n",
       "      <td>45.311669</td>\n",
       "      <td>0.984742</td>\n",
       "      <td>90.177618</td>\n",
       "      <td>338.850676</td>\n",
       "      <td>31.000000</td>\n",
       "      <td>1.155624e+05</td>\n",
       "      <td>0.030137</td>\n",
       "      <td>24.076707</td>\n",
       "      <td>0.556818</td>\n",
       "      <td>2.115138</td>\n",
       "    </tr>\n",
       "    <tr>\n",
       "      <th>50%</th>\n",
       "      <td>83.002720</td>\n",
       "      <td>0.999621</td>\n",
       "      <td>111.584803</td>\n",
       "      <td>845.759540</td>\n",
       "      <td>97.000000</td>\n",
       "      <td>1.790765e+05</td>\n",
       "      <td>0.055390</td>\n",
       "      <td>35.602917</td>\n",
       "      <td>0.768116</td>\n",
       "      <td>3.722852</td>\n",
       "    </tr>\n",
       "    <tr>\n",
       "      <th>75%</th>\n",
       "      <td>143.843728</td>\n",
       "      <td>1.000000</td>\n",
       "      <td>152.808025</td>\n",
       "      <td>1990.846089</td>\n",
       "      <td>173.000000</td>\n",
       "      <td>2.735529e+05</td>\n",
       "      <td>0.090144</td>\n",
       "      <td>50.000000</td>\n",
       "      <td>1.000000</td>\n",
       "      <td>5.074082</td>\n",
       "    </tr>\n",
       "    <tr>\n",
       "      <th>max</th>\n",
       "      <td>11187.123379</td>\n",
       "      <td>1.000000</td>\n",
       "      <td>1813.425620</td>\n",
       "      <td>145162.535345</td>\n",
       "      <td>786.000000</td>\n",
       "      <td>2.298146e+06</td>\n",
       "      <td>9.796707</td>\n",
       "      <td>50.000000</td>\n",
       "      <td>1.000000</td>\n",
       "      <td>10.647809</td>\n",
       "    </tr>\n",
       "  </tbody>\n",
       "</table>\n",
       "</div>"
      ],
      "text/plain": [
       "             sdsLen        sssLin        ldsMSL         sdsAre        ldsRea  \\\n",
       "count  59661.000000  59661.000000  59661.000000   17963.000000  59661.000000   \n",
       "mean     138.252610      0.965622    144.597655    2409.410714    115.328171   \n",
       "std      274.834488      0.099060    110.857382    6024.995679    102.762411   \n",
       "min        0.679485      0.010614      3.741196       0.000748      0.000000   \n",
       "25%       45.311669      0.984742     90.177618     338.850676     31.000000   \n",
       "50%       83.002720      0.999621    111.584803     845.759540     97.000000   \n",
       "75%      143.843728      1.000000    152.808025    1990.846089    173.000000   \n",
       "max    11187.123379      1.000000   1813.425620  145162.535345    786.000000   \n",
       "\n",
       "             ldsAre        sisBpM        sdsSPW        sdsSPO        sdsSWD  \n",
       "count  4.931400e+04  36285.000000  59661.000000  59661.000000  39799.000000  \n",
       "mean   2.265013e+05      0.069748     35.668336      0.742877      3.616847  \n",
       "std    1.868060e+05      0.100897     12.637753      0.247385      1.997335  \n",
       "min    4.938551e+00      0.000093      0.000000      0.000000      0.000000  \n",
       "25%    1.155624e+05      0.030137     24.076707      0.556818      2.115138  \n",
       "50%    1.790765e+05      0.055390     35.602917      0.768116      3.722852  \n",
       "75%    2.735529e+05      0.090144     50.000000      1.000000      5.074082  \n",
       "max    2.298146e+06      9.796707     50.000000      1.000000     10.647809  "
      ]
     },
     "execution_count": 20,
     "metadata": {},
     "output_type": "execute_result"
    }
   ],
   "source": [
    "streets[['sdsLen', 'sssLin', 'ldsMSL', 'sdsAre', 'ldsRea', 'ldsAre',\n",
    "       'sisBpM', 'sdsSPW', 'sdsSPO', 'sdsSWD']].describe()"
   ]
  },
  {
   "cell_type": "code",
   "execution_count": 21,
   "metadata": {},
   "outputs": [
    {
     "data": {
      "text/plain": [
       "array(['residential', 'secondary', 'tertiary', 'motorway', 'unclassified',\n",
       "       'pedestrian', 'trunk', 'living_street', 'primary'], dtype=object)"
      ]
     },
     "execution_count": 21,
     "metadata": {},
     "output_type": "execute_result"
    }
   ],
   "source": [
    "streets['class'].unique()"
   ]
  },
  {
   "cell_type": "code",
   "execution_count": 22,
   "metadata": {},
   "outputs": [],
   "source": [
    "assert np.allclose(streets['sdsLen'] , streets.geometry.length)\n",
    "\n",
    "if 'mm_len' in streets.columns:\n",
    "    assert np.allclose(streets['mm_len'] , streets.geometry.length)"
   ]
  },
  {
   "cell_type": "markdown",
   "metadata": {},
   "source": [
    "Specify a column and pass its values into a choropleth representation within the map. "
   ]
  },
  {
   "cell_type": "code",
   "execution_count": 26,
   "metadata": {},
   "outputs": [
    {
     "data": {
      "text/plain": [
       "'width of street profile'"
      ]
     },
     "execution_count": 26,
     "metadata": {},
     "output_type": "execute_result"
    }
   ],
   "source": [
    "column = 'sdsSPW'\n",
    "used_keys[column]"
   ]
  },
  {
   "cell_type": "code",
   "execution_count": 27,
   "metadata": {},
   "outputs": [],
   "source": [
    "streets[column] = streets[column].fillna(0)"
   ]
  },
  {
   "cell_type": "code",
   "execution_count": 28,
   "metadata": {},
   "outputs": [],
   "source": [
    "\n",
    "classifier = classify(streets[column].astype(int), 'equalinterval', k=20)\n",
    "normalizer = mpl.colors.Normalize(0, classifier.bins.shape[0])\n",
    "vals = normalizer(classifier.yb)\n",
    "layer.get_color = apply_continuous_cmap(vals, mpl.colormaps['viridis'])"
   ]
  },
  {
   "cell_type": "markdown",
   "metadata": {},
   "source": [
    "## Nodes"
   ]
  },
  {
   "cell_type": "markdown",
   "metadata": {},
   "source": [
    "Load data and ensure the geometries are all valid Polygons."
   ]
  },
  {
   "cell_type": "code",
   "execution_count": 40,
   "metadata": {},
   "outputs": [],
   "source": [
    "nodes = gpd.read_parquet(f\"{chars_dir}nodes_chars_{region}.parquet\").to_crs(4326)"
   ]
  },
  {
   "cell_type": "markdown",
   "metadata": {},
   "source": [
    "Create a lonboard layer"
   ]
  },
  {
   "cell_type": "code",
   "execution_count": 41,
   "metadata": {},
   "outputs": [
    {
     "name": "stdout",
     "output_type": "stream",
     "text": [
      "CPU times: user 61.1 ms, sys: 17 μs, total: 61.1 ms\n",
      "Wall time: 60.7 ms\n"
     ]
    }
   ],
   "source": [
    "%%time\n",
    "layer = lonboard.ScatterplotLayer.from_geopandas(nodes, radius_min_pixels=2)"
   ]
  },
  {
   "cell_type": "markdown",
   "metadata": {},
   "source": [
    "Create a Sidecar view (assumes JupyterLab) for more comfortable experience."
   ]
  },
  {
   "cell_type": "code",
   "execution_count": 42,
   "metadata": {},
   "outputs": [],
   "source": [
    "sc = Sidecar(title='nodes')"
   ]
  },
  {
   "cell_type": "markdown",
   "metadata": {},
   "source": [
    "Create a Map object"
   ]
  },
  {
   "cell_type": "code",
   "execution_count": 43,
   "metadata": {},
   "outputs": [],
   "source": [
    "m = lonboard.Map(layer, basemap_style=lonboard.basemap.CartoBasemap.Positron)"
   ]
  },
  {
   "cell_type": "markdown",
   "metadata": {},
   "source": [
    "Display map within the sidecar plugin"
   ]
  },
  {
   "cell_type": "code",
   "execution_count": 44,
   "metadata": {},
   "outputs": [],
   "source": [
    "with sc:\n",
    "    display(m)"
   ]
  },
  {
   "cell_type": "markdown",
   "metadata": {},
   "source": [
    "List avaialable columns"
   ]
  },
  {
   "cell_type": "code",
   "execution_count": 45,
   "metadata": {},
   "outputs": [
    {
     "data": {
      "text/plain": [
       "Index(['x', 'y', 'mtdDeg', 'lcdMes', 'linP3W', 'linP4W', 'linPDE', 'lcnClo',\n",
       "       'lddNDe', 'linWID', 'ldsCDL', 'xcnSCl', 'mtdMDi', 'nodeID', 'geometry',\n",
       "       'sddAre', 'midRea', 'midAre'],\n",
       "      dtype='object')"
      ]
     },
     "execution_count": 45,
     "metadata": {},
     "output_type": "execute_result"
    }
   ],
   "source": [
    "nodes.columns"
   ]
  },
  {
   "cell_type": "markdown",
   "metadata": {},
   "source": [
    "Specify a column and pass its values into a choropleth representation within the map. "
   ]
  },
  {
   "cell_type": "code",
   "execution_count": 46,
   "metadata": {},
   "outputs": [
    {
     "data": {
      "text/plain": [
       "'local cul-de-sac length of street network'"
      ]
     },
     "execution_count": 46,
     "metadata": {},
     "output_type": "execute_result"
    }
   ],
   "source": [
    "column = 'ldsCDL'\n",
    "used_keys[column]"
   ]
  },
  {
   "cell_type": "code",
   "execution_count": 47,
   "metadata": {},
   "outputs": [
    {
     "name": "stderr",
     "output_type": "stream",
     "text": [
      "/home/krasen/miniconda3/envs/urban_taxonomy/lib/python3.12/site-packages/mapclassify/classifiers.py:1592: UserWarning: Not enough unique values in array to form 20 classes. Setting k to 17.\n",
      "  self.bins = quantile(y, k=k)\n"
     ]
    }
   ],
   "source": [
    "\n",
    "classifier = classify(nodes[column], 'quantiles', k=20)\n",
    "normalizer = mpl.colors.Normalize(0, classifier.bins.shape[0])\n",
    "vals = normalizer(classifier.yb)\n",
    "layer.get_fill_color = apply_continuous_cmap(vals, mpl.colormaps['viridis'])"
   ]
  },
  {
   "cell_type": "code",
   "execution_count": null,
   "metadata": {},
   "outputs": [],
   "source": []
  },
  {
   "cell_type": "code",
   "execution_count": null,
   "metadata": {},
   "outputs": [],
   "source": []
  }
 ],
 "metadata": {
  "kernelspec": {
   "display_name": "Python 3 (ipykernel)",
   "language": "python",
   "name": "python3"
  },
  "language_info": {
   "codemirror_mode": {
    "name": "ipython",
    "version": 3
   },
   "file_extension": ".py",
   "mimetype": "text/x-python",
   "name": "python",
   "nbconvert_exporter": "python",
   "pygments_lexer": "ipython3",
   "version": "3.12.4"
  }
 },
 "nbformat": 4,
 "nbformat_minor": 4
}
