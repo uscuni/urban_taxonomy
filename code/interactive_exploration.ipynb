{
 "cells": [
  {
   "cell_type": "markdown",
   "metadata": {},
   "source": [
    "# Visualize data on an interactive map\n",
    "\n",
    "This notebook uses `lonboard` for interactive visualisation of data."
   ]
  },
  {
   "cell_type": "code",
   "execution_count": 1,
   "metadata": {},
   "outputs": [],
   "source": [
    "import geopandas as gpd\n",
    "import numpy as np\n",
    "import lonboard\n",
    "from core.utils import used_keys\n",
    "from lonboard.colormap import apply_continuous_cmap\n",
    "import matplotlib as mpl\n",
    "from mapclassify import classify\n",
    "from sidecar import Sidecar\n"
   ]
  },
  {
   "cell_type": "markdown",
   "metadata": {},
   "source": [
    "Define data path"
   ]
  },
  {
   "cell_type": "code",
   "execution_count": 2,
   "metadata": {},
   "outputs": [],
   "source": [
    "chars_dir = \"/data/uscuni-ulce/processed_data/chars/\""
   ]
  },
  {
   "cell_type": "markdown",
   "metadata": {},
   "source": [
    "Define region"
   ]
  },
  {
   "cell_type": "code",
   "execution_count": 3,
   "metadata": {},
   "outputs": [],
   "source": [
    "region = 69333"
   ]
  },
  {
   "cell_type": "markdown",
   "metadata": {
    "jp-MarkdownHeadingCollapsed": true
   },
   "source": [
    "## Buildings\n",
    "Load building data and ensure the geometries are all valid Polygons."
   ]
  },
  {
   "cell_type": "code",
   "execution_count": null,
   "metadata": {},
   "outputs": [],
   "source": []
  },
  {
   "cell_type": "code",
   "execution_count": 53,
   "metadata": {},
   "outputs": [],
   "source": [
    "buildings = gpd.read_parquet(f\"{chars_dir}buildings_chars_{region}.parquet\").to_crs(4326).reset_index()\n",
    "\n",
    "buildings.geometry = buildings.make_valid()\n",
    "\n",
    "buildings = buildings[buildings.geom_type.str.contains(\"Polygon\")]"
   ]
  },
  {
   "cell_type": "markdown",
   "metadata": {},
   "source": [
    "Create a lonboard layer"
   ]
  },
  {
   "cell_type": "code",
   "execution_count": 54,
   "metadata": {},
   "outputs": [
    {
     "name": "stdout",
     "output_type": "stream",
     "text": [
      "CPU times: user 1.69 s, sys: 193 ms, total: 1.88 s\n",
      "Wall time: 1.87 s\n"
     ]
    }
   ],
   "source": [
    "%%time\n",
    "layer = lonboard.SolidPolygonLayer.from_geopandas(buildings, opacity=.3)"
   ]
  },
  {
   "cell_type": "markdown",
   "metadata": {},
   "source": [
    "Create a Sidecar view (assumes JupyterLab) for more comfortable experience."
   ]
  },
  {
   "cell_type": "code",
   "execution_count": 55,
   "metadata": {},
   "outputs": [],
   "source": [
    "sc = Sidecar(title='buildings')"
   ]
  },
  {
   "cell_type": "markdown",
   "metadata": {},
   "source": [
    "Create a Map object"
   ]
  },
  {
   "cell_type": "code",
   "execution_count": 56,
   "metadata": {},
   "outputs": [],
   "source": [
    "m = lonboard.Map(layer)"
   ]
  },
  {
   "cell_type": "markdown",
   "metadata": {},
   "source": [
    "Display map within the sidecar plugin"
   ]
  },
  {
   "cell_type": "code",
   "execution_count": 57,
   "metadata": {},
   "outputs": [],
   "source": [
    "with sc:\n",
    "    display(m)"
   ]
  },
  {
   "cell_type": "markdown",
   "metadata": {},
   "source": [
    "List avaialable columns"
   ]
  },
  {
   "cell_type": "code",
   "execution_count": 58,
   "metadata": {},
   "outputs": [
    {
     "data": {
      "text/plain": [
       "Index(['level_0', 'index', 'currentUse', 'buildingNature', 'heightAboveGround',\n",
       "       'iid', 'geometry', 'ssbCCo', 'ssbCor', 'ssbSqu', 'ssbCCM', 'ssbCCD',\n",
       "       'sdbAre', 'sdbPer', 'sdbCoA', 'ssbERI', 'ssbElo', 'stbOri', 'mtbSWR',\n",
       "       'libNCo', 'ldbPWL', 'ltcBuA', 'mtbAli', 'mtbNDi', 'ltbIBD', 'stbCeA',\n",
       "       'nID', 'stbSAl', 'nodeID'],\n",
       "      dtype='object')"
      ]
     },
     "execution_count": 58,
     "metadata": {},
     "output_type": "execute_result"
    }
   ],
   "source": [
    "buildings.columns"
   ]
  },
  {
   "cell_type": "markdown",
   "metadata": {},
   "source": [
    "Specify a column and pass its values into a choropleth representation within the map. "
   ]
  },
  {
   "cell_type": "code",
   "execution_count": 59,
   "metadata": {},
   "outputs": [],
   "source": [
    "# buildings.explore()"
   ]
  },
  {
   "cell_type": "code",
   "execution_count": 116,
   "metadata": {},
   "outputs": [],
   "source": [
    "column = 'stbSAl'\n",
    "\n",
    "classifier = classify(buildings[column], 'quantiles', k=20)\n",
    "normalizer = mpl.colors.Normalize(0, classifier.bins.shape[0])\n",
    "vals = normalizer(classifier.yb)\n",
    "layer.get_fill_color = apply_continuous_cmap(vals, mpl.colormaps['viridis'])"
   ]
  },
  {
   "cell_type": "code",
   "execution_count": 117,
   "metadata": {},
   "outputs": [
    {
     "data": {
      "text/plain": [
       "'street alignment of building'"
      ]
     },
     "execution_count": 117,
     "metadata": {},
     "output_type": "execute_result"
    }
   ],
   "source": [
    "used_keys[column]"
   ]
  },
  {
   "cell_type": "code",
   "execution_count": 118,
   "metadata": {},
   "outputs": [
    {
     "data": {
      "text/plain": [
       "mean     8.943344\n",
       "std      9.662884\n",
       "min      0.000019\n",
       "25%      1.251941\n",
       "50%      5.241196\n",
       "75%     13.794330\n",
       "max     44.965289\n",
       "Name: stbSAl, dtype: float64"
      ]
     },
     "execution_count": 118,
     "metadata": {},
     "output_type": "execute_result"
    }
   ],
   "source": [
    "buildings[column].describe().iloc[1:]"
   ]
  },
  {
   "cell_type": "markdown",
   "metadata": {
    "jp-MarkdownHeadingCollapsed": true
   },
   "source": [
    "## Tessellation"
   ]
  },
  {
   "cell_type": "markdown",
   "metadata": {},
   "source": [
    "Load tessellation data and ensure the geometries are all valid Polygons."
   ]
  },
  {
   "cell_type": "code",
   "execution_count": 11,
   "metadata": {},
   "outputs": [],
   "source": [
    "tess = gpd.read_parquet(f\"{chars_dir}tessellations_chars_{region}.parquet\").to_crs(4326)\n",
    "\n",
    "tess.geometry = tess.make_valid()\n",
    "\n",
    "tess = tess[tess.geom_type.str.contains(\"Polygon\")]"
   ]
  },
  {
   "cell_type": "markdown",
   "metadata": {},
   "source": [
    "Create a lonboard layer"
   ]
  },
  {
   "cell_type": "code",
   "execution_count": 12,
   "metadata": {},
   "outputs": [
    {
     "name": "stdout",
     "output_type": "stream",
     "text": [
      "CPU times: user 5.26 s, sys: 307 ms, total: 5.57 s\n",
      "Wall time: 5.57 s\n"
     ]
    }
   ],
   "source": [
    "%%time\n",
    "layer = lonboard.SolidPolygonLayer.from_geopandas(tess, opacity=.2)"
   ]
  },
  {
   "cell_type": "markdown",
   "metadata": {},
   "source": [
    "Create a Sidecar view (assumes JupyterLab) for more comfortable experience."
   ]
  },
  {
   "cell_type": "code",
   "execution_count": 13,
   "metadata": {},
   "outputs": [],
   "source": [
    "sc = Sidecar(title='tess')"
   ]
  },
  {
   "cell_type": "markdown",
   "metadata": {},
   "source": [
    "Create a Map object"
   ]
  },
  {
   "cell_type": "code",
   "execution_count": 14,
   "metadata": {},
   "outputs": [],
   "source": [
    "m = lonboard.Map(layer)"
   ]
  },
  {
   "cell_type": "markdown",
   "metadata": {},
   "source": [
    "Display map within the sidecar plugin"
   ]
  },
  {
   "cell_type": "code",
   "execution_count": 15,
   "metadata": {},
   "outputs": [],
   "source": [
    "with sc:\n",
    "    display(m)"
   ]
  },
  {
   "cell_type": "markdown",
   "metadata": {},
   "source": [
    "List avaialable columns"
   ]
  },
  {
   "cell_type": "code",
   "execution_count": 16,
   "metadata": {},
   "outputs": [
    {
     "data": {
      "text/plain": [
       "Index(['enclosure_index', 'geometry', 'stcOri', 'sdcLAL', 'sdcAre', 'sscCCo',\n",
       "       'sscERI', 'mtcWNe', 'mdcAre', 'ltcWRB', 'sicCAR', 'stcSAl', 'nID',\n",
       "       'nodeID'],\n",
       "      dtype='object')"
      ]
     },
     "execution_count": 16,
     "metadata": {},
     "output_type": "execute_result"
    }
   ],
   "source": [
    "tess.columns"
   ]
  },
  {
   "cell_type": "code",
   "execution_count": 51,
   "metadata": {},
   "outputs": [
    {
     "data": {
      "text/plain": [
       "'street alignment of ETC'"
      ]
     },
     "execution_count": 51,
     "metadata": {},
     "output_type": "execute_result"
    }
   ],
   "source": [
    "column = 'stcSAl'\n",
    "used_keys[column]"
   ]
  },
  {
   "cell_type": "markdown",
   "metadata": {},
   "source": [
    "Specify a column and pass its values into a choropleth representation within the map. "
   ]
  },
  {
   "cell_type": "code",
   "execution_count": 52,
   "metadata": {},
   "outputs": [],
   "source": [
    "\n",
    "classifier = classify(tess[column], 'quantiles', k=20)\n",
    "normalizer = mpl.colors.Normalize(0, classifier.bins.shape[0])\n",
    "vals = normalizer(classifier.yb)\n",
    "layer.get_fill_color = apply_continuous_cmap(vals, mpl.colormaps['viridis'])"
   ]
  },
  {
   "cell_type": "markdown",
   "metadata": {
    "jp-MarkdownHeadingCollapsed": true
   },
   "source": [
    "## Enclosures"
   ]
  },
  {
   "cell_type": "markdown",
   "metadata": {},
   "source": [
    "Load data and ensure the geometries are all valid Polygons."
   ]
  },
  {
   "cell_type": "code",
   "execution_count": 20,
   "metadata": {},
   "outputs": [],
   "source": [
    "enc = gpd.read_parquet(f\"{chars_dir}enclosures_chars_{region}.parquet\").to_crs(4326)\n",
    "\n",
    "enc.geometry = enc.make_valid()\n",
    "\n",
    "enc = enc[enc.geom_type.str.contains(\"Polygon\")]"
   ]
  },
  {
   "cell_type": "markdown",
   "metadata": {},
   "source": [
    "Create a lonboard layer"
   ]
  },
  {
   "cell_type": "code",
   "execution_count": 30,
   "metadata": {},
   "outputs": [
    {
     "name": "stdout",
     "output_type": "stream",
     "text": [
      "CPU times: user 380 ms, sys: 48 ms, total: 428 ms\n",
      "Wall time: 427 ms\n"
     ]
    }
   ],
   "source": [
    "%%time\n",
    "layer = lonboard.SolidPolygonLayer.from_geopandas(enc, opacity=.3)"
   ]
  },
  {
   "cell_type": "markdown",
   "metadata": {},
   "source": [
    "Create a Sidecar view (assumes JupyterLab) for more comfortable experience."
   ]
  },
  {
   "cell_type": "code",
   "execution_count": 31,
   "metadata": {},
   "outputs": [],
   "source": [
    "sc = Sidecar(title='enclosures')"
   ]
  },
  {
   "cell_type": "markdown",
   "metadata": {},
   "source": [
    "Create a Map object"
   ]
  },
  {
   "cell_type": "code",
   "execution_count": 32,
   "metadata": {},
   "outputs": [],
   "source": [
    "m = lonboard.Map(layer)"
   ]
  },
  {
   "cell_type": "markdown",
   "metadata": {},
   "source": [
    "Display map within the sidecar plugin"
   ]
  },
  {
   "cell_type": "code",
   "execution_count": 33,
   "metadata": {},
   "outputs": [],
   "source": [
    "with sc:\n",
    "    display(m)"
   ]
  },
  {
   "cell_type": "markdown",
   "metadata": {},
   "source": [
    "List avaialable columns"
   ]
  },
  {
   "cell_type": "code",
   "execution_count": 34,
   "metadata": {},
   "outputs": [
    {
     "data": {
      "text/plain": [
       "Index(['eID', 'geometry', 'ldkAre', 'ldkPer', 'lskCCo', 'lskERI', 'lskCWA',\n",
       "       'ltkOri', 'ltkWNB', 'likWCe', 'likWBB'],\n",
       "      dtype='object')"
      ]
     },
     "execution_count": 34,
     "metadata": {},
     "output_type": "execute_result"
    }
   ],
   "source": [
    "enc.columns"
   ]
  },
  {
   "cell_type": "code",
   "execution_count": 41,
   "metadata": {},
   "outputs": [
    {
     "data": {
      "text/plain": [
       "'perimeter of enclosure'"
      ]
     },
     "execution_count": 41,
     "metadata": {},
     "output_type": "execute_result"
    }
   ],
   "source": [
    "column = 'ldkPer'\n",
    "used_keys[column]"
   ]
  },
  {
   "cell_type": "markdown",
   "metadata": {},
   "source": [
    "Specify a column and pass its values into a choropleth representation within the map. "
   ]
  },
  {
   "cell_type": "code",
   "execution_count": 42,
   "metadata": {},
   "outputs": [],
   "source": [
    "\n",
    "classifier = classify(enc[column], 'quantiles', k=20)\n",
    "normalizer = mpl.colors.Normalize(0, classifier.bins.shape[0])\n",
    "vals = normalizer(classifier.yb)\n",
    "layer.get_fill_color = apply_continuous_cmap(vals, mpl.colormaps['viridis'])"
   ]
  },
  {
   "cell_type": "markdown",
   "metadata": {
    "jp-MarkdownHeadingCollapsed": true
   },
   "source": [
    "## Streets"
   ]
  },
  {
   "cell_type": "markdown",
   "metadata": {},
   "source": [
    "Load data and ensure the geometries are all valid Polygons."
   ]
  },
  {
   "cell_type": "code",
   "execution_count": 119,
   "metadata": {},
   "outputs": [],
   "source": [
    "streets = gpd.read_parquet(f\"{chars_dir}streets_chars_{region}.parquet\")\n",
    "\n",
    "streets.geometry = streets.make_valid()"
   ]
  },
  {
   "cell_type": "code",
   "execution_count": null,
   "metadata": {},
   "outputs": [],
   "source": []
  },
  {
   "cell_type": "markdown",
   "metadata": {},
   "source": [
    "Create a lonboard layer"
   ]
  },
  {
   "cell_type": "code",
   "execution_count": 120,
   "metadata": {},
   "outputs": [
    {
     "name": "stdout",
     "output_type": "stream",
     "text": [
      "CPU times: user 254 ms, sys: 33 ms, total: 287 ms\n",
      "Wall time: 285 ms\n"
     ]
    }
   ],
   "source": [
    "%%time\n",
    "layer = lonboard.PathLayer.from_geopandas(streets.to_crs(4326), width_min_pixels=1)"
   ]
  },
  {
   "cell_type": "markdown",
   "metadata": {},
   "source": [
    "Create a Sidecar view (assumes JupyterLab) for more comfortable experience."
   ]
  },
  {
   "cell_type": "code",
   "execution_count": 121,
   "metadata": {},
   "outputs": [],
   "source": [
    "sc = Sidecar(title='streets')"
   ]
  },
  {
   "cell_type": "markdown",
   "metadata": {},
   "source": [
    "Create a Map object"
   ]
  },
  {
   "cell_type": "code",
   "execution_count": 122,
   "metadata": {},
   "outputs": [],
   "source": [
    "m = lonboard.Map(layer)"
   ]
  },
  {
   "cell_type": "markdown",
   "metadata": {},
   "source": [
    "Display map within the sidecar plugin"
   ]
  },
  {
   "cell_type": "code",
   "execution_count": 123,
   "metadata": {},
   "outputs": [],
   "source": [
    "with sc:\n",
    "    display(m)"
   ]
  },
  {
   "cell_type": "code",
   "execution_count": null,
   "metadata": {},
   "outputs": [],
   "source": []
  },
  {
   "cell_type": "markdown",
   "metadata": {},
   "source": [
    "List avaialable columns"
   ]
  },
  {
   "cell_type": "code",
   "execution_count": null,
   "metadata": {},
   "outputs": [],
   "source": [
    "assert np.allclose(streets['sdsLen'] , streets.geometry.length)\n",
    "\n",
    "if 'mm_len' in streets.columns:\n",
    "    assert np.allclose(streets['mm_len'] , streets.geometry.length)"
   ]
  },
  {
   "cell_type": "code",
   "execution_count": 124,
   "metadata": {},
   "outputs": [
    {
     "data": {
      "text/plain": [
       "Index(['geometry', '_status', 'mm_len', 'cdsbool', 'node_start', 'node_end',\n",
       "       'sdsLen', 'sssLin', 'ldsMSL', 'sdsAre', 'ldsRea', 'ldsAre', 'sisBpM',\n",
       "       'sdsSPW', 'sdsSPO', 'sdsSWD', 'nID'],\n",
       "      dtype='object')"
      ]
     },
     "execution_count": 124,
     "metadata": {},
     "output_type": "execute_result"
    }
   ],
   "source": [
    "streets.columns"
   ]
  },
  {
   "cell_type": "code",
   "execution_count": 125,
   "metadata": {},
   "outputs": [
    {
     "data": {
      "text/html": [
       "<div>\n",
       "<style scoped>\n",
       "    .dataframe tbody tr th:only-of-type {\n",
       "        vertical-align: middle;\n",
       "    }\n",
       "\n",
       "    .dataframe tbody tr th {\n",
       "        vertical-align: top;\n",
       "    }\n",
       "\n",
       "    .dataframe thead th {\n",
       "        text-align: right;\n",
       "    }\n",
       "</style>\n",
       "<table border=\"1\" class=\"dataframe\">\n",
       "  <thead>\n",
       "    <tr style=\"text-align: right;\">\n",
       "      <th></th>\n",
       "      <th>sdsLen</th>\n",
       "      <th>sssLin</th>\n",
       "      <th>ldsMSL</th>\n",
       "      <th>sdsAre</th>\n",
       "      <th>ldsRea</th>\n",
       "      <th>ldsAre</th>\n",
       "      <th>sisBpM</th>\n",
       "      <th>sdsSPW</th>\n",
       "      <th>sdsSPO</th>\n",
       "      <th>sdsSWD</th>\n",
       "    </tr>\n",
       "  </thead>\n",
       "  <tbody>\n",
       "    <tr>\n",
       "      <th>count</th>\n",
       "      <td>79382.000000</td>\n",
       "      <td>79382.000000</td>\n",
       "      <td>79382.000000</td>\n",
       "      <td>5.434800e+04</td>\n",
       "      <td>79382.000000</td>\n",
       "      <td>6.509000e+04</td>\n",
       "      <td>54353.000000</td>\n",
       "      <td>79382.000000</td>\n",
       "      <td>79382.000000</td>\n",
       "      <td>58304.000000</td>\n",
       "    </tr>\n",
       "    <tr>\n",
       "      <th>mean</th>\n",
       "      <td>190.217746</td>\n",
       "      <td>0.959236</td>\n",
       "      <td>204.381858</td>\n",
       "      <td>2.216389e+04</td>\n",
       "      <td>122.845935</td>\n",
       "      <td>3.741573e+05</td>\n",
       "      <td>0.059933</td>\n",
       "      <td>33.719737</td>\n",
       "      <td>0.744487</td>\n",
       "      <td>3.816754</td>\n",
       "    </tr>\n",
       "    <tr>\n",
       "      <th>std</th>\n",
       "      <td>362.683313</td>\n",
       "      <td>0.105247</td>\n",
       "      <td>170.864389</td>\n",
       "      <td>4.742172e+04</td>\n",
       "      <td>99.856645</td>\n",
       "      <td>3.653913e+05</td>\n",
       "      <td>0.079351</td>\n",
       "      <td>12.298330</td>\n",
       "      <td>0.224721</td>\n",
       "      <td>1.965380</td>\n",
       "    </tr>\n",
       "    <tr>\n",
       "      <th>min</th>\n",
       "      <td>2.000000</td>\n",
       "      <td>0.000000</td>\n",
       "      <td>3.741196</td>\n",
       "      <td>1.738884e-04</td>\n",
       "      <td>0.000000</td>\n",
       "      <td>4.620473e+01</td>\n",
       "      <td>0.000181</td>\n",
       "      <td>0.000000</td>\n",
       "      <td>0.000000</td>\n",
       "      <td>0.000000</td>\n",
       "    </tr>\n",
       "    <tr>\n",
       "      <th>25%</th>\n",
       "      <td>59.682238</td>\n",
       "      <td>0.975660</td>\n",
       "      <td>105.168879</td>\n",
       "      <td>3.535433e+03</td>\n",
       "      <td>46.000000</td>\n",
       "      <td>1.571747e+05</td>\n",
       "      <td>0.027543</td>\n",
       "      <td>23.104647</td>\n",
       "      <td>0.580000</td>\n",
       "      <td>2.394241</td>\n",
       "    </tr>\n",
       "    <tr>\n",
       "      <th>50%</th>\n",
       "      <td>99.256838</td>\n",
       "      <td>0.998659</td>\n",
       "      <td>137.507663</td>\n",
       "      <td>8.279731e+03</td>\n",
       "      <td>115.000000</td>\n",
       "      <td>2.505989e+05</td>\n",
       "      <td>0.049314</td>\n",
       "      <td>31.799232</td>\n",
       "      <td>0.750000</td>\n",
       "      <td>3.939210</td>\n",
       "    </tr>\n",
       "    <tr>\n",
       "      <th>75%</th>\n",
       "      <td>174.469390</td>\n",
       "      <td>1.000000</td>\n",
       "      <td>228.649039</td>\n",
       "      <td>2.051356e+04</td>\n",
       "      <td>181.000000</td>\n",
       "      <td>4.457882e+05</td>\n",
       "      <td>0.076658</td>\n",
       "      <td>50.000000</td>\n",
       "      <td>1.000000</td>\n",
       "      <td>5.253920</td>\n",
       "    </tr>\n",
       "    <tr>\n",
       "      <th>max</th>\n",
       "      <td>11193.902019</td>\n",
       "      <td>1.000000</td>\n",
       "      <td>3118.856646</td>\n",
       "      <td>1.373843e+06</td>\n",
       "      <td>1493.000000</td>\n",
       "      <td>4.690208e+06</td>\n",
       "      <td>7.008423</td>\n",
       "      <td>50.000000</td>\n",
       "      <td>1.000000</td>\n",
       "      <td>11.162694</td>\n",
       "    </tr>\n",
       "  </tbody>\n",
       "</table>\n",
       "</div>"
      ],
      "text/plain": [
       "             sdsLen        sssLin        ldsMSL        sdsAre        ldsRea  \\\n",
       "count  79382.000000  79382.000000  79382.000000  5.434800e+04  79382.000000   \n",
       "mean     190.217746      0.959236    204.381858  2.216389e+04    122.845935   \n",
       "std      362.683313      0.105247    170.864389  4.742172e+04     99.856645   \n",
       "min        2.000000      0.000000      3.741196  1.738884e-04      0.000000   \n",
       "25%       59.682238      0.975660    105.168879  3.535433e+03     46.000000   \n",
       "50%       99.256838      0.998659    137.507663  8.279731e+03    115.000000   \n",
       "75%      174.469390      1.000000    228.649039  2.051356e+04    181.000000   \n",
       "max    11193.902019      1.000000   3118.856646  1.373843e+06   1493.000000   \n",
       "\n",
       "             ldsAre        sisBpM        sdsSPW        sdsSPO        sdsSWD  \n",
       "count  6.509000e+04  54353.000000  79382.000000  79382.000000  58304.000000  \n",
       "mean   3.741573e+05      0.059933     33.719737      0.744487      3.816754  \n",
       "std    3.653913e+05      0.079351     12.298330      0.224721      1.965380  \n",
       "min    4.620473e+01      0.000181      0.000000      0.000000      0.000000  \n",
       "25%    1.571747e+05      0.027543     23.104647      0.580000      2.394241  \n",
       "50%    2.505989e+05      0.049314     31.799232      0.750000      3.939210  \n",
       "75%    4.457882e+05      0.076658     50.000000      1.000000      5.253920  \n",
       "max    4.690208e+06      7.008423     50.000000      1.000000     11.162694  "
      ]
     },
     "execution_count": 125,
     "metadata": {},
     "output_type": "execute_result"
    }
   ],
   "source": [
    "streets[['sdsLen', 'sssLin', 'ldsMSL', 'sdsAre', 'ldsRea', 'ldsAre',\n",
    "       'sisBpM', 'sdsSPW', 'sdsSPO', 'sdsSWD']].describe()"
   ]
  },
  {
   "cell_type": "markdown",
   "metadata": {},
   "source": [
    "Specify a column and pass its values into a choropleth representation within the map. "
   ]
  },
  {
   "cell_type": "code",
   "execution_count": 148,
   "metadata": {},
   "outputs": [
    {
     "data": {
      "text/plain": [
       "'width of street profile'"
      ]
     },
     "execution_count": 148,
     "metadata": {},
     "output_type": "execute_result"
    }
   ],
   "source": [
    "column = 'sdsSPW'\n",
    "used_keys[column]"
   ]
  },
  {
   "cell_type": "code",
   "execution_count": 149,
   "metadata": {},
   "outputs": [],
   "source": [
    "streets[column] = streets[column].fillna(0)"
   ]
  },
  {
   "cell_type": "code",
   "execution_count": 150,
   "metadata": {},
   "outputs": [],
   "source": [
    "classifier = classify(streets[column].astype(int), 'equalinterval', k=20)\n",
    "normalizer = mpl.colors.Normalize(0, classifier.bins.shape[0])\n",
    "vals = normalizer(classifier.yb)\n",
    "layer.get_color = apply_continuous_cmap(vals, mpl.colormaps['viridis'])"
   ]
  },
  {
   "cell_type": "markdown",
   "metadata": {},
   "source": [
    "## Nodes"
   ]
  },
  {
   "cell_type": "markdown",
   "metadata": {},
   "source": [
    "Load data and ensure the geometries are all valid Polygons."
   ]
  },
  {
   "cell_type": "code",
   "execution_count": 151,
   "metadata": {},
   "outputs": [],
   "source": [
    "nodes = gpd.read_parquet(f\"{chars_dir}nodes_chars_{region}.parquet\").to_crs(4326)"
   ]
  },
  {
   "cell_type": "markdown",
   "metadata": {},
   "source": [
    "Create a lonboard layer"
   ]
  },
  {
   "cell_type": "code",
   "execution_count": 152,
   "metadata": {},
   "outputs": [
    {
     "name": "stdout",
     "output_type": "stream",
     "text": [
      "CPU times: user 69.3 ms, sys: 4.83 ms, total: 74.2 ms\n",
      "Wall time: 73.6 ms\n"
     ]
    }
   ],
   "source": [
    "%%time\n",
    "layer = lonboard.ScatterplotLayer.from_geopandas(nodes, radius_min_pixels=2)"
   ]
  },
  {
   "cell_type": "markdown",
   "metadata": {},
   "source": [
    "Create a Sidecar view (assumes JupyterLab) for more comfortable experience."
   ]
  },
  {
   "cell_type": "code",
   "execution_count": 153,
   "metadata": {},
   "outputs": [],
   "source": [
    "sc = Sidecar(title='nodes')"
   ]
  },
  {
   "cell_type": "markdown",
   "metadata": {},
   "source": [
    "Create a Map object"
   ]
  },
  {
   "cell_type": "code",
   "execution_count": 154,
   "metadata": {},
   "outputs": [],
   "source": [
    "m = lonboard.Map(layer, basemap_style=lonboard.basemap.CartoBasemap.Positron)"
   ]
  },
  {
   "cell_type": "markdown",
   "metadata": {},
   "source": [
    "Display map within the sidecar plugin"
   ]
  },
  {
   "cell_type": "code",
   "execution_count": 155,
   "metadata": {},
   "outputs": [],
   "source": [
    "with sc:\n",
    "    display(m)"
   ]
  },
  {
   "cell_type": "markdown",
   "metadata": {},
   "source": [
    "List avaialable columns"
   ]
  },
  {
   "cell_type": "code",
   "execution_count": 156,
   "metadata": {},
   "outputs": [
    {
     "data": {
      "text/plain": [
       "Index(['x', 'y', 'mtdDeg', 'lcdMes', 'linP3W', 'linP4W', 'linPDE', 'lcnClo',\n",
       "       'lddNDe', 'linWID', 'ldsCDL', 'xcnSCl', 'mtdMDi', 'nodeID', 'geometry',\n",
       "       'sddAre', 'midRea', 'midAre'],\n",
       "      dtype='object')"
      ]
     },
     "execution_count": 156,
     "metadata": {},
     "output_type": "execute_result"
    }
   ],
   "source": [
    "nodes.columns"
   ]
  },
  {
   "cell_type": "markdown",
   "metadata": {},
   "source": [
    "Specify a column and pass its values into a choropleth representation within the map. "
   ]
  },
  {
   "cell_type": "code",
   "execution_count": 161,
   "metadata": {},
   "outputs": [
    {
     "data": {
      "text/html": [
       "<div>\n",
       "<style scoped>\n",
       "    .dataframe tbody tr th:only-of-type {\n",
       "        vertical-align: middle;\n",
       "    }\n",
       "\n",
       "    .dataframe tbody tr th {\n",
       "        vertical-align: top;\n",
       "    }\n",
       "\n",
       "    .dataframe thead th {\n",
       "        text-align: right;\n",
       "    }\n",
       "</style>\n",
       "<table border=\"1\" class=\"dataframe\">\n",
       "  <thead>\n",
       "    <tr style=\"text-align: right;\">\n",
       "      <th></th>\n",
       "      <th>mtdDeg</th>\n",
       "      <th>lcdMes</th>\n",
       "      <th>linP3W</th>\n",
       "      <th>linP4W</th>\n",
       "      <th>linPDE</th>\n",
       "      <th>lcnClo</th>\n",
       "      <th>lddNDe</th>\n",
       "      <th>linWID</th>\n",
       "      <th>ldsCDL</th>\n",
       "      <th>xcnSCl</th>\n",
       "      <th>mtdMDi</th>\n",
       "      <th>nodeID</th>\n",
       "      <th>sddAre</th>\n",
       "      <th>midRea</th>\n",
       "      <th>midAre</th>\n",
       "    </tr>\n",
       "  </thead>\n",
       "  <tbody>\n",
       "    <tr>\n",
       "      <th>count</th>\n",
       "      <td>61838.000000</td>\n",
       "      <td>61838.000000</td>\n",
       "      <td>61838.000000</td>\n",
       "      <td>61838.000000</td>\n",
       "      <td>61838.000000</td>\n",
       "      <td>6.183800e+04</td>\n",
       "      <td>61838.000000</td>\n",
       "      <td>61838.000000</td>\n",
       "      <td>61838.000000</td>\n",
       "      <td>61838.000000</td>\n",
       "      <td>61838.000000</td>\n",
       "      <td>61838.00000</td>\n",
       "      <td>4.654500e+04</td>\n",
       "      <td>61838.000000</td>\n",
       "      <td>4.908000e+04</td>\n",
       "    </tr>\n",
       "    <tr>\n",
       "      <th>mean</th>\n",
       "      <td>2.567418</td>\n",
       "      <td>0.105057</td>\n",
       "      <td>0.683189</td>\n",
       "      <td>0.130161</td>\n",
       "      <td>0.183928</td>\n",
       "      <td>1.004460e-06</td>\n",
       "      <td>0.005973</td>\n",
       "      <td>0.009984</td>\n",
       "      <td>319.454293</td>\n",
       "      <td>0.027892</td>\n",
       "      <td>183.852532</td>\n",
       "      <td>30918.50000</td>\n",
       "      <td>2.587954e+04</td>\n",
       "      <td>20.845176</td>\n",
       "      <td>6.426385e+04</td>\n",
       "    </tr>\n",
       "    <tr>\n",
       "      <th>std</th>\n",
       "      <td>1.005752</td>\n",
       "      <td>0.060368</td>\n",
       "      <td>0.116292</td>\n",
       "      <td>0.098865</td>\n",
       "      <td>0.115463</td>\n",
       "      <td>6.709700e-07</td>\n",
       "      <td>0.007673</td>\n",
       "      <td>0.005341</td>\n",
       "      <td>612.723878</td>\n",
       "      <td>0.053212</td>\n",
       "      <td>280.458199</td>\n",
       "      <td>17851.23731</td>\n",
       "      <td>4.584542e+04</td>\n",
       "      <td>23.542853</td>\n",
       "      <td>8.924184e+04</td>\n",
       "    </tr>\n",
       "    <tr>\n",
       "      <th>min</th>\n",
       "      <td>1.000000</td>\n",
       "      <td>-1.000000</td>\n",
       "      <td>0.000000</td>\n",
       "      <td>0.000000</td>\n",
       "      <td>0.000000</td>\n",
       "      <td>0.000000e+00</td>\n",
       "      <td>0.000396</td>\n",
       "      <td>0.000000</td>\n",
       "      <td>0.000000</td>\n",
       "      <td>0.000000</td>\n",
       "      <td>2.311779</td>\n",
       "      <td>0.00000</td>\n",
       "      <td>1.159084e+00</td>\n",
       "      <td>0.000000</td>\n",
       "      <td>1.221930e+01</td>\n",
       "    </tr>\n",
       "    <tr>\n",
       "      <th>25%</th>\n",
       "      <td>1.000000</td>\n",
       "      <td>0.061856</td>\n",
       "      <td>0.625000</td>\n",
       "      <td>0.058824</td>\n",
       "      <td>0.111111</td>\n",
       "      <td>4.621507e-07</td>\n",
       "      <td>0.003492</td>\n",
       "      <td>0.005882</td>\n",
       "      <td>73.066534</td>\n",
       "      <td>0.000000</td>\n",
       "      <td>74.482961</td>\n",
       "      <td>15459.25000</td>\n",
       "      <td>5.936987e+03</td>\n",
       "      <td>3.000000</td>\n",
       "      <td>1.793014e+04</td>\n",
       "    </tr>\n",
       "    <tr>\n",
       "      <th>50%</th>\n",
       "      <td>3.000000</td>\n",
       "      <td>0.098592</td>\n",
       "      <td>0.695652</td>\n",
       "      <td>0.111111</td>\n",
       "      <td>0.169492</td>\n",
       "      <td>8.682536e-07</td>\n",
       "      <td>0.005624</td>\n",
       "      <td>0.009957</td>\n",
       "      <td>181.984598</td>\n",
       "      <td>0.000000</td>\n",
       "      <td>109.536100</td>\n",
       "      <td>30918.50000</td>\n",
       "      <td>1.170070e+04</td>\n",
       "      <td>16.000000</td>\n",
       "      <td>3.585703e+04</td>\n",
       "    </tr>\n",
       "    <tr>\n",
       "      <th>75%</th>\n",
       "      <td>3.000000</td>\n",
       "      <td>0.142857</td>\n",
       "      <td>0.757576</td>\n",
       "      <td>0.181818</td>\n",
       "      <td>0.238095</td>\n",
       "      <td>1.420323e-06</td>\n",
       "      <td>0.007255</td>\n",
       "      <td>0.013344</td>\n",
       "      <td>364.331816</td>\n",
       "      <td>0.047619</td>\n",
       "      <td>170.624712</td>\n",
       "      <td>46377.75000</td>\n",
       "      <td>2.549037e+04</td>\n",
       "      <td>31.000000</td>\n",
       "      <td>7.125945e+04</td>\n",
       "    </tr>\n",
       "    <tr>\n",
       "      <th>max</th>\n",
       "      <td>6.000000</td>\n",
       "      <td>0.800000</td>\n",
       "      <td>1.000000</td>\n",
       "      <td>0.777778</td>\n",
       "      <td>1.000000</td>\n",
       "      <td>7.283451e-06</td>\n",
       "      <td>0.534588</td>\n",
       "      <td>0.119944</td>\n",
       "      <td>22877.000260</td>\n",
       "      <td>1.000000</td>\n",
       "      <td>11193.902019</td>\n",
       "      <td>61837.00000</td>\n",
       "      <td>1.170909e+06</td>\n",
       "      <td>583.000000</td>\n",
       "      <td>1.806340e+06</td>\n",
       "    </tr>\n",
       "  </tbody>\n",
       "</table>\n",
       "</div>"
      ],
      "text/plain": [
       "             mtdDeg        lcdMes        linP3W        linP4W        linPDE  \\\n",
       "count  61838.000000  61838.000000  61838.000000  61838.000000  61838.000000   \n",
       "mean       2.567418      0.105057      0.683189      0.130161      0.183928   \n",
       "std        1.005752      0.060368      0.116292      0.098865      0.115463   \n",
       "min        1.000000     -1.000000      0.000000      0.000000      0.000000   \n",
       "25%        1.000000      0.061856      0.625000      0.058824      0.111111   \n",
       "50%        3.000000      0.098592      0.695652      0.111111      0.169492   \n",
       "75%        3.000000      0.142857      0.757576      0.181818      0.238095   \n",
       "max        6.000000      0.800000      1.000000      0.777778      1.000000   \n",
       "\n",
       "             lcnClo        lddNDe        linWID        ldsCDL        xcnSCl  \\\n",
       "count  6.183800e+04  61838.000000  61838.000000  61838.000000  61838.000000   \n",
       "mean   1.004460e-06      0.005973      0.009984    319.454293      0.027892   \n",
       "std    6.709700e-07      0.007673      0.005341    612.723878      0.053212   \n",
       "min    0.000000e+00      0.000396      0.000000      0.000000      0.000000   \n",
       "25%    4.621507e-07      0.003492      0.005882     73.066534      0.000000   \n",
       "50%    8.682536e-07      0.005624      0.009957    181.984598      0.000000   \n",
       "75%    1.420323e-06      0.007255      0.013344    364.331816      0.047619   \n",
       "max    7.283451e-06      0.534588      0.119944  22877.000260      1.000000   \n",
       "\n",
       "             mtdMDi       nodeID        sddAre        midRea        midAre  \n",
       "count  61838.000000  61838.00000  4.654500e+04  61838.000000  4.908000e+04  \n",
       "mean     183.852532  30918.50000  2.587954e+04     20.845176  6.426385e+04  \n",
       "std      280.458199  17851.23731  4.584542e+04     23.542853  8.924184e+04  \n",
       "min        2.311779      0.00000  1.159084e+00      0.000000  1.221930e+01  \n",
       "25%       74.482961  15459.25000  5.936987e+03      3.000000  1.793014e+04  \n",
       "50%      109.536100  30918.50000  1.170070e+04     16.000000  3.585703e+04  \n",
       "75%      170.624712  46377.75000  2.549037e+04     31.000000  7.125945e+04  \n",
       "max    11193.902019  61837.00000  1.170909e+06    583.000000  1.806340e+06  "
      ]
     },
     "execution_count": 161,
     "metadata": {},
     "output_type": "execute_result"
    }
   ],
   "source": [
    "nodes[['mtdDeg', 'lcdMes', 'linP3W', 'linP4W', 'linPDE', 'lcnClo',\n",
    "       'lddNDe', 'linWID', 'ldsCDL', 'xcnSCl', 'mtdMDi', 'nodeID', 'geometry',\n",
    "       'sddAre', 'midRea', 'midAre']].describe()"
   ]
  },
  {
   "cell_type": "code",
   "execution_count": 185,
   "metadata": {},
   "outputs": [
    {
     "data": {
      "text/plain": [
       "'mean distance to neighbouring nodes of street network'"
      ]
     },
     "execution_count": 185,
     "metadata": {},
     "output_type": "execute_result"
    }
   ],
   "source": [
    "column = 'mtdMDi'\n",
    "used_keys[column]"
   ]
  },
  {
   "cell_type": "code",
   "execution_count": 186,
   "metadata": {},
   "outputs": [],
   "source": [
    "\n",
    "classifier = classify(nodes[column], 'quantiles', k=20)\n",
    "normalizer = mpl.colors.Normalize(0, classifier.bins.shape[0])\n",
    "vals = normalizer(classifier.yb)\n",
    "layer.get_fill_color = apply_continuous_cmap(vals, mpl.colormaps['viridis'])"
   ]
  },
  {
   "cell_type": "code",
   "execution_count": null,
   "metadata": {},
   "outputs": [],
   "source": []
  },
  {
   "cell_type": "code",
   "execution_count": null,
   "metadata": {},
   "outputs": [],
   "source": []
  }
 ],
 "metadata": {
  "kernelspec": {
   "display_name": "Python 3 (ipykernel)",
   "language": "python",
   "name": "python3"
  },
  "language_info": {
   "codemirror_mode": {
    "name": "ipython",
    "version": 3
   },
   "file_extension": ".py",
   "mimetype": "text/x-python",
   "name": "python",
   "nbconvert_exporter": "python",
   "pygments_lexer": "ipython3",
   "version": "3.12.5"
  }
 },
 "nbformat": 4,
 "nbformat_minor": 4
}
