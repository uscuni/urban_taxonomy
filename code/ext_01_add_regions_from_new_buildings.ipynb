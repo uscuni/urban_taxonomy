{
 "cells": [
  {
   "cell_type": "code",
   "execution_count": 2,
   "id": "41698e71-f078-44d4-b373-89b81d59491f",
   "metadata": {},
   "outputs": [],
   "source": [
    "import geopandas as gpd\n",
    "import numpy as np\n",
    "import pandas as pd\n",
    "from sklearn.cluster import DBSCAN"
   ]
  },
  {
   "cell_type": "code",
   "execution_count": 3,
   "id": "c635135f-ee49-40db-87d9-44323d5525a0",
   "metadata": {},
   "outputs": [],
   "source": [
    "country = \"fr_sp_nl_be\"\n",
    "regions_v = \"3\""
   ]
  },
  {
   "cell_type": "code",
   "execution_count": 4,
   "id": "1409f47f-7a62-4e77-bb8e-0d755787277a",
   "metadata": {},
   "outputs": [],
   "source": [
    "regions_datadir = \"/data/uscuni-ulce/\"\n",
    "region_hulls = gpd.read_parquet(\n",
    "    regions_datadir + \"regions/\" + \"cadastre_regions_hull.parquet\"\n",
    ")  # delineation of existing regions "
   ]
  },
  {
   "cell_type": "markdown",
   "id": "5fb7786e-a6f6-4f88-bfac-a6702b671d1f",
   "metadata": {},
   "source": [
    "Cleanup"
   ]
  },
  {
   "cell_type": "code",
   "execution_count": 18,
   "id": "d8f0e2b8-4ac1-469c-91fa-67caea2e9edd",
   "metadata": {},
   "outputs": [],
   "source": [
    "import glob\n",
    "from pathlib import Path\n",
    "import os\n",
    "\n",
    "files = glob.glob(\"/data/uscuni-ulce/buildings_in_regions/*\")"
   ]
  },
  {
   "cell_type": "code",
   "execution_count": 15,
   "id": "d4029fb3-db61-4c10-857b-2fb069b0f6c4",
   "metadata": {},
   "outputs": [],
   "source": [
    "to_rm = [f for f in files if int(Path(f).stem.split(\"_\")[1]) > region_hulls.index.max()]"
   ]
  },
  {
   "cell_type": "code",
   "execution_count": 19,
   "id": "ff6dba09-483c-46da-aeb3-dc216343183a",
   "metadata": {},
   "outputs": [],
   "source": [
    "for f in to_rm:\n",
    "    os.remove(f)"
   ]
  },
  {
   "cell_type": "markdown",
   "id": "0a15a1c3-3df6-44d6-801d-685cb925c992",
   "metadata": {},
   "source": [
    "Read data"
   ]
  },
  {
   "cell_type": "code",
   "execution_count": 21,
   "id": "e48f5f21-e9f3-4e41-a205-5a5ec1161152",
   "metadata": {},
   "outputs": [],
   "source": [
    "# read the new data\n",
    "gdf = pd.concat([\n",
    "    gpd.read_parquet(f\"/data/uscuni-ulce/extension/france/clean_3035.parquet\"),\n",
    "    gpd.read_parquet(f\"/data/uscuni-ulce/extension/spain/clean_3035.parquet\"),\n",
    "    gpd.read_parquet(f\"/data/uscuni-ulce/extension/netherlands/clean_3035.parquet\"),\n",
    "    gpd.read_parquet(f\"/data/uscuni-ulce/extension/belgium/buildings.parquet\"),\n",
    "], ignore_index=True)"
   ]
  },
  {
   "cell_type": "markdown",
   "id": "0d925469-dc97-4e53-9d40-9a3a0667d1c0",
   "metadata": {},
   "source": [
    "## Split the buildings into regions"
   ]
  },
  {
   "cell_type": "markdown",
   "id": "2b3d161f-534f-4b15-b9ad-1b9dde7c19a1",
   "metadata": {},
   "source": [
    "Assign building centroids to a grid, then cluster the grid points based on distances. This results in a split of the buildings into contiguous regions where all the 250m neighbours of a building are within the same region."
   ]
  },
  {
   "cell_type": "code",
   "execution_count": 22,
   "id": "33b0eb84-d99e-49cf-b10d-4f2ca60c090b",
   "metadata": {},
   "outputs": [],
   "source": [
    "cents = gdf.centroid\n",
    "gdf[\"x\"], gdf[\"y\"] = cents.x, cents.y\n",
    "gdf[\"id\"] = gdf.index.values\n",
    "data = gdf[[\"x\", \"y\", \"id\"]].copy()"
   ]
  },
  {
   "cell_type": "code",
   "execution_count": 23,
   "id": "e5739061-58c4-41c8-a103-9331b310b9e6",
   "metadata": {},
   "outputs": [],
   "source": [
    "data[[\"x_100\", \"y_100\"]] = np.around(data[[\"x\", \"y\"]], decimals=-2)\n",
    "grid = data[[\"id\", \"x_100\", \"y_100\"]].groupby([\"x_100\", \"y_100\"]).count().reset_index()"
   ]
  },
  {
   "cell_type": "code",
   "execution_count": 24,
   "id": "f480b082-6bbc-4d87-b12f-04053c4c8147",
   "metadata": {},
   "outputs": [],
   "source": [
    "dbscan = DBSCAN(250, n_jobs=-1).fit(grid[[\"x_100\", \"y_100\"]], sample_weight=grid[\"id\"])\n",
    "grid[\"labels\"] = dbscan.labels_"
   ]
  },
  {
   "cell_type": "markdown",
   "id": "b605a962-361f-4b20-b739-820bdbaa0302",
   "metadata": {},
   "source": [
    "Merge the results back into the dataframe. Then split the dataset into cores and non-cores. Cores are regions with more than 10_000 buildings."
   ]
  },
  {
   "cell_type": "code",
   "execution_count": 25,
   "id": "2e621fb3-c843-4105-bb78-911ff1de0d9e",
   "metadata": {},
   "outputs": [],
   "source": [
    "# %%time\n",
    "data = pd.merge(data, grid, \"left\", on=[\"x_100\", \"y_100\"])\n",
    "\n",
    "counts = data.labels.value_counts()\n",
    "\n",
    "index = counts[counts > 10000].index\n",
    "if -1 in index:\n",
    "    index = index.drop(-1)\n",
    "\n",
    "data[\"core\"] = data.labels.isin(index)\n",
    "grid[\"core\"] = grid.labels.isin(index)\n",
    "\n",
    "\n",
    "cores = data[data.core]\n",
    "grid_cores = grid[grid.core]\n",
    "grid_cores = gpd.GeoDataFrame(\n",
    "    grid_cores[\"labels\"],\n",
    "    geometry=gpd.points_from_xy(grid_cores[\"x_100\"], grid_cores[\"y_100\"]),\n",
    "    crs=3035,\n",
    ")\n",
    "grid_cores_dissolved = grid_cores.dissolve(\"labels\")\n",
    "\n",
    "grid_non_cores = grid[~grid.core]\n",
    "grid_non_cores = gpd.GeoDataFrame(\n",
    "    grid_non_cores[\"labels\"],\n",
    "    geometry=gpd.points_from_xy(grid_non_cores[\"x_100\"], grid_non_cores[\"y_100\"]),\n",
    "    crs=3035,\n",
    ")\n",
    "\n",
    "grid_non_cores_clustered = grid_non_cores[grid_non_cores.labels != -1]\n",
    "grid_non_cores_outliers = grid_non_cores[grid_non_cores.labels == -1]\n",
    "\n",
    "grid_non_cores_clustered_dissolved = grid_non_cores_clustered.dissolve(\"labels\")"
   ]
  },
  {
   "cell_type": "markdown",
   "id": "b369778e-d8b4-4496-ac33-50b03a5f541b",
   "metadata": {},
   "source": [
    "Assign the non-core regions to the geographically nearest core region."
   ]
  },
  {
   "cell_type": "code",
   "execution_count": 26,
   "id": "f03742bd-49f6-4403-b799-488c96a0e6e7",
   "metadata": {},
   "outputs": [
    {
     "name": "stdout",
     "output_type": "stream",
     "text": [
      "CPU times: user 18.1 s, sys: 36.3 ms, total: 18.1 s\n",
      "Wall time: 18.1 s\n"
     ]
    }
   ],
   "source": [
    "%%time\n",
    "nearest = grid_cores.sindex.nearest(\n",
    "    grid_non_cores_clustered_dissolved.geometry, return_all=False\n",
    ")"
   ]
  },
  {
   "cell_type": "code",
   "execution_count": 27,
   "id": "dd525b40-994c-4242-ae5b-ac5d7c6e0d14",
   "metadata": {},
   "outputs": [],
   "source": [
    "grid_non_cores_clustered_dissolved[\"nearest_core\"] = grid_cores.labels.values[\n",
    "    nearest[1]\n",
    "]"
   ]
  },
  {
   "cell_type": "code",
   "execution_count": 28,
   "id": "261b3c68-de2a-4173-a079-775e25d89b00",
   "metadata": {},
   "outputs": [],
   "source": [
    "nearest_outliers = grid_cores.sindex.nearest(\n",
    "    grid_non_cores_outliers.geometry, return_all=False\n",
    ")"
   ]
  },
  {
   "cell_type": "code",
   "execution_count": 29,
   "id": "36703548-4ecb-4985-b1e1-bd570f0dc6f1",
   "metadata": {},
   "outputs": [
    {
     "name": "stderr",
     "output_type": "stream",
     "text": [
      "/home/martin/dev/urban_taxonomy/.pixi/envs/default/lib/python3.12/site-packages/geopandas/geodataframe.py:1819: SettingWithCopyWarning: \n",
      "A value is trying to be set on a copy of a slice from a DataFrame.\n",
      "Try using .loc[row_indexer,col_indexer] = value instead\n",
      "\n",
      "See the caveats in the documentation: https://pandas.pydata.org/pandas-docs/stable/user_guide/indexing.html#returning-a-view-versus-a-copy\n",
      "  super().__setitem__(key, value)\n"
     ]
    }
   ],
   "source": [
    "grid_non_cores_outliers[\"nearest_core\"] = grid_cores.labels.values[nearest_outliers[1]]"
   ]
  },
  {
   "cell_type": "code",
   "execution_count": 30,
   "id": "75ccb53e-6b72-45b9-abdc-ca6eb60f5c63",
   "metadata": {},
   "outputs": [],
   "source": [
    "grid_non_cores = pd.concat(\n",
    "    [\n",
    "        grid_non_cores_clustered_dissolved.reset_index().explode(ignore_index=True),\n",
    "        grid_non_cores_outliers,\n",
    "    ],\n",
    "    ignore_index=True,\n",
    ")"
   ]
  },
  {
   "cell_type": "markdown",
   "id": "d289ae5d-9d42-4a10-8b85-f291f67f230f",
   "metadata": {},
   "source": [
    "Update the region labels based on the assignment"
   ]
  },
  {
   "cell_type": "code",
   "execution_count": 31,
   "id": "c05dce8a-bb8d-4d37-a48a-257cd0429c32",
   "metadata": {},
   "outputs": [],
   "source": [
    "grid_non_cores[\"x_100\"] = grid_non_cores.geometry.x\n",
    "grid_non_cores[\"y_100\"] = grid_non_cores.geometry.y\n",
    "\n",
    "data = pd.merge(\n",
    "    data,\n",
    "    grid_non_cores[[\"x_100\", \"y_100\", \"nearest_core\"]],\n",
    "    \"left\",\n",
    "    on=[\"x_100\", \"y_100\"],\n",
    ")\n",
    "\n",
    "data[\"region\"] = data.labels\n",
    "data.loc[~data.core, \"region\"] = data.loc[~data.core, \"nearest_core\"]\n",
    "\n",
    "data = data.rename(\n",
    "    columns={\n",
    "        \"id_x\": \"id\",\n",
    "        \"id_y\": \"weight\",\n",
    "        \"labels\": \"dbscan_cluster\",\n",
    "    }\n",
    ")"
   ]
  },
  {
   "cell_type": "code",
   "execution_count": 32,
   "id": "ef300b55-2bcd-4888-b834-5db4d598ab63",
   "metadata": {},
   "outputs": [],
   "source": [
    "additional_region_hulls = (\n",
    "    pd.concat(\n",
    "        [\n",
    "            grid_cores,\n",
    "            grid_non_cores[[\"nearest_core\", \"geometry\"]].rename(\n",
    "                columns={\"nearest_core\": \"labels\"}\n",
    "            ),\n",
    "        ]\n",
    "    )\n",
    "    .dissolve(\"labels\")\n",
    "    .convex_hull.to_frame(\"convex_hull\")\n",
    ")"
   ]
  },
  {
   "cell_type": "markdown",
   "id": "9a272cc4-fe50-4b7f-a4a3-272cd16f4aa5",
   "metadata": {},
   "source": [
    "## Adjust the new region numbers and add to the existing cadastre regions_hull.parquet"
   ]
  },
  {
   "cell_type": "code",
   "execution_count": 33,
   "id": "6ed3d139-aeff-4e26-a1c4-7b5687c1c199",
   "metadata": {},
   "outputs": [],
   "source": [
    "regions_datadir = \"/data/uscuni-ulce/\"\n",
    "region_hulls = gpd.read_parquet(\n",
    "    regions_datadir + \"regions/\" + \"cadastre_regions_hull.parquet\"  # the latest version\n",
    ")"
   ]
  },
  {
   "cell_type": "code",
   "execution_count": 34,
   "id": "5cb94ccc-539f-4f26-a8b6-1d063577a8e7",
   "metadata": {},
   "outputs": [],
   "source": [
    "buffer = region_hulls.index.max() + 1000"
   ]
  },
  {
   "cell_type": "code",
   "execution_count": 35,
   "id": "6ef884c2-dc9f-4db7-af31-95741bfa5040",
   "metadata": {},
   "outputs": [],
   "source": [
    "additional_region_hulls.index = additional_region_hulls.index + buffer\n",
    "data[\"region\"] = data[\"region\"] + buffer"
   ]
  },
  {
   "cell_type": "code",
   "execution_count": 36,
   "id": "cfee25d3-1076-45e3-ad3e-7193706144a1",
   "metadata": {},
   "outputs": [],
   "source": [
    "additional_region_hulls.to_parquet(\n",
    "    regions_datadir + \"regions/\" + f\"{country}_regions_hull.parquet\"\n",
    ")"
   ]
  },
  {
   "cell_type": "code",
   "execution_count": 37,
   "id": "c1765dd0-01df-406a-a51d-20291d56c012",
   "metadata": {},
   "outputs": [],
   "source": [
    "region_hulls = pd.concat((region_hulls, additional_region_hulls))"
   ]
  },
  {
   "cell_type": "code",
   "execution_count": 38,
   "id": "96ad5451-dcff-48b8-83f2-5a791c00c28a",
   "metadata": {},
   "outputs": [],
   "source": [
    "region_hulls.to_parquet(\n",
    "    regions_datadir + \"regions/\" + f\"region_hulls_v{regions_v}.parquet\"\n",
    ")"
   ]
  },
  {
   "cell_type": "markdown",
   "id": "68bc08f4-cc97-4489-ba15-f69ed4f65712",
   "metadata": {},
   "source": [
    "Show the largest regions."
   ]
  },
  {
   "cell_type": "code",
   "execution_count": 42,
   "id": "0139dab9-6ab0-4048-9a91-80b5c1372587",
   "metadata": {},
   "outputs": [
    {
     "data": {
      "text/plain": [
       "region\n",
       "478375     425616\n",
       "235505     441988\n",
       "259195     443551\n",
       "328399     446078\n",
       "505018     447752\n",
       "235968     464181\n",
       "245980     476222\n",
       "245970     488338\n",
       "504227     523888\n",
       "370160     540892\n",
       "450071     571987\n",
       "523438     574674\n",
       "478146     646453\n",
       "487636     677986\n",
       "344277     819538\n",
       "470467     825754\n",
       "489180     840671\n",
       "485131    2493161\n",
       "403958    2517665\n",
       "436461    5808856\n",
       "Name: count, dtype: int64"
      ]
     },
     "execution_count": 42,
     "metadata": {},
     "output_type": "execute_result"
    }
   ],
   "source": [
    "data[\"region\"].value_counts().sort_values().tail(20)"
   ]
  },
  {
   "cell_type": "markdown",
   "id": "2050f122-b088-4d80-9e23-ac9d4c3d1366",
   "metadata": {},
   "source": [
    "## Assign buildings to regions"
   ]
  },
  {
   "cell_type": "code",
   "execution_count": 40,
   "id": "c14fe4b0-c3f5-4e68-a92e-7639790e1f65",
   "metadata": {},
   "outputs": [],
   "source": [
    "region_mapping = data"
   ]
  },
  {
   "cell_type": "code",
   "execution_count": 41,
   "id": "003369bd-f9e4-483b-a7e2-df04af0a4eb7",
   "metadata": {},
   "outputs": [
    {
     "name": "stdout",
     "output_type": "stream",
     "text": [
      "CPU times: user 1min 31s, sys: 13.8 s, total: 1min 45s\n",
      "Wall time: 2min 32s\n"
     ]
    }
   ],
   "source": [
    "%%time\n",
    "for region_id, group in region_mapping.groupby(\"region\"):\n",
    "    region_id = int(region_id)\n",
    "\n",
    "    buildings = gdf.iloc[group.id].copy()\n",
    "    buildings[\"iid\"] = buildings.index.values\n",
    "    buildings.to_parquet(\n",
    "        f\"/data/uscuni-ulce/buildings_in_regions/buildings_{region_id}.pq\"\n",
    "    )"
   ]
  },
  {
   "cell_type": "markdown",
   "id": "bd004800-ac83-4ed5-86cb-da01386275c7",
   "metadata": {},
   "source": [
    "## Check existing region ids"
   ]
  },
  {
   "cell_type": "code",
   "execution_count": 28,
   "id": "ae99bba0-6e46-48e1-a0a8-9171dbfd5d33",
   "metadata": {},
   "outputs": [],
   "source": [
    "region_name = 525377\n",
    "regions_datadir = \"/data/uscuni-ulce/\"\n",
    "region_hulls = gpd.read_parquet(\n",
    "    regions_datadir + \"regions/\" + f\"region_hulls_v{regions_v}.parquet\"\n",
    ")\n",
    "region_id, region_hull = (\n",
    "    region_hulls.loc[region_name].name,\n",
    "    region_hulls.loc[region_name].convex_hull,\n",
    ")"
   ]
  },
  {
   "cell_type": "code",
   "execution_count": 29,
   "id": "8f629542-ce97-4223-bdf4-ebbeba601333",
   "metadata": {},
   "outputs": [
    {
     "data": {
      "text/html": [
       "<div style=\"width:100%;\"><div style=\"position:relative;width:100%;height:0;padding-bottom:60%;\"><span style=\"color:#565656\">Make this Notebook Trusted to load map: File -> Trust Notebook</span><iframe srcdoc=\"&lt;!DOCTYPE html&gt;\n",
       "&lt;html&gt;\n",
       "&lt;head&gt;\n",
       "    \n",
       "    &lt;meta http-equiv=&quot;content-type&quot; content=&quot;text/html; charset=UTF-8&quot; /&gt;\n",
       "    \n",
       "        &lt;script&gt;\n",
       "            L_NO_TOUCH = false;\n",
       "            L_DISABLE_3D = false;\n",
       "        &lt;/script&gt;\n",
       "    \n",
       "    &lt;style&gt;html, body {width: 100%;height: 100%;margin: 0;padding: 0;}&lt;/style&gt;\n",
       "    &lt;style&gt;#map {position:absolute;top:0;bottom:0;right:0;left:0;}&lt;/style&gt;\n",
       "    &lt;script src=&quot;https://cdn.jsdelivr.net/npm/leaflet@1.9.3/dist/leaflet.js&quot;&gt;&lt;/script&gt;\n",
       "    &lt;script src=&quot;https://code.jquery.com/jquery-3.7.1.min.js&quot;&gt;&lt;/script&gt;\n",
       "    &lt;script src=&quot;https://cdn.jsdelivr.net/npm/bootstrap@5.2.2/dist/js/bootstrap.bundle.min.js&quot;&gt;&lt;/script&gt;\n",
       "    &lt;script src=&quot;https://cdnjs.cloudflare.com/ajax/libs/Leaflet.awesome-markers/2.0.2/leaflet.awesome-markers.js&quot;&gt;&lt;/script&gt;\n",
       "    &lt;link rel=&quot;stylesheet&quot; href=&quot;https://cdn.jsdelivr.net/npm/leaflet@1.9.3/dist/leaflet.css&quot;/&gt;\n",
       "    &lt;link rel=&quot;stylesheet&quot; href=&quot;https://cdn.jsdelivr.net/npm/bootstrap@5.2.2/dist/css/bootstrap.min.css&quot;/&gt;\n",
       "    &lt;link rel=&quot;stylesheet&quot; href=&quot;https://netdna.bootstrapcdn.com/bootstrap/3.0.0/css/bootstrap-glyphicons.css&quot;/&gt;\n",
       "    &lt;link rel=&quot;stylesheet&quot; href=&quot;https://cdn.jsdelivr.net/npm/@fortawesome/fontawesome-free@6.2.0/css/all.min.css&quot;/&gt;\n",
       "    &lt;link rel=&quot;stylesheet&quot; href=&quot;https://cdnjs.cloudflare.com/ajax/libs/Leaflet.awesome-markers/2.0.2/leaflet.awesome-markers.css&quot;/&gt;\n",
       "    &lt;link rel=&quot;stylesheet&quot; href=&quot;https://cdn.jsdelivr.net/gh/python-visualization/folium/folium/templates/leaflet.awesome.rotate.min.css&quot;/&gt;\n",
       "    \n",
       "            &lt;meta name=&quot;viewport&quot; content=&quot;width=device-width,\n",
       "                initial-scale=1.0, maximum-scale=1.0, user-scalable=no&quot; /&gt;\n",
       "            &lt;style&gt;\n",
       "                #map_39a33e60aaddda74f63c329b86c81bfb {\n",
       "                    position: relative;\n",
       "                    width: 100.0%;\n",
       "                    height: 100.0%;\n",
       "                    left: 0.0%;\n",
       "                    top: 0.0%;\n",
       "                }\n",
       "                .leaflet-container { font-size: 1rem; }\n",
       "            &lt;/style&gt;\n",
       "        \n",
       "    \n",
       "                    &lt;style&gt;\n",
       "                        .foliumtooltip {\n",
       "                            \n",
       "                        }\n",
       "                       .foliumtooltip table{\n",
       "                            margin: auto;\n",
       "                        }\n",
       "                        .foliumtooltip tr{\n",
       "                            text-align: left;\n",
       "                        }\n",
       "                        .foliumtooltip th{\n",
       "                            padding: 2px; padding-right: 8px;\n",
       "                        }\n",
       "                    &lt;/style&gt;\n",
       "            \n",
       "&lt;/head&gt;\n",
       "&lt;body&gt;\n",
       "    \n",
       "    \n",
       "            &lt;div class=&quot;folium-map&quot; id=&quot;map_39a33e60aaddda74f63c329b86c81bfb&quot; &gt;&lt;/div&gt;\n",
       "        \n",
       "&lt;/body&gt;\n",
       "&lt;script&gt;\n",
       "    \n",
       "    \n",
       "            var map_39a33e60aaddda74f63c329b86c81bfb = L.map(\n",
       "                &quot;map_39a33e60aaddda74f63c329b86c81bfb&quot;,\n",
       "                {\n",
       "                    center: [48.086078778626444, 6.9211381275356665],\n",
       "                    crs: L.CRS.EPSG3857,\n",
       "                    zoom: 10,\n",
       "                    zoomControl: true,\n",
       "                    preferCanvas: false,\n",
       "                }\n",
       "            );\n",
       "            L.control.scale().addTo(map_39a33e60aaddda74f63c329b86c81bfb);\n",
       "\n",
       "            \n",
       "\n",
       "        \n",
       "    \n",
       "            var tile_layer_39ec4dc08c2ce023c1ba9ea361df701e = L.tileLayer(\n",
       "                &quot;https://tile.openstreetmap.org/{z}/{x}/{y}.png&quot;,\n",
       "                {&quot;attribution&quot;: &quot;\\u0026copy; \\u003ca href=\\&quot;https://www.openstreetmap.org/copyright\\&quot;\\u003eOpenStreetMap\\u003c/a\\u003e contributors&quot;, &quot;detectRetina&quot;: false, &quot;maxNativeZoom&quot;: 19, &quot;maxZoom&quot;: 19, &quot;minZoom&quot;: 0, &quot;noWrap&quot;: false, &quot;opacity&quot;: 1, &quot;subdomains&quot;: &quot;abc&quot;, &quot;tms&quot;: false}\n",
       "            );\n",
       "        \n",
       "    \n",
       "            tile_layer_39ec4dc08c2ce023c1ba9ea361df701e.addTo(map_39a33e60aaddda74f63c329b86c81bfb);\n",
       "        \n",
       "    \n",
       "            map_39a33e60aaddda74f63c329b86c81bfb.fitBounds(\n",
       "                [[48.02376985044839, 6.813119521055163], [48.1483877068045, 7.029156734016171]],\n",
       "                {}\n",
       "            );\n",
       "        \n",
       "    \n",
       "        function geo_json_caacc02f81494fcfd09dde4cf4aa7a8e_styler(feature) {\n",
       "            switch(feature.id) {\n",
       "                default:\n",
       "                    return {&quot;fillOpacity&quot;: 0.5, &quot;weight&quot;: 2};\n",
       "            }\n",
       "        }\n",
       "        function geo_json_caacc02f81494fcfd09dde4cf4aa7a8e_highlighter(feature) {\n",
       "            switch(feature.id) {\n",
       "                default:\n",
       "                    return {&quot;fillOpacity&quot;: 0.75};\n",
       "            }\n",
       "        }\n",
       "        function geo_json_caacc02f81494fcfd09dde4cf4aa7a8e_pointToLayer(feature, latlng) {\n",
       "            var opts = {&quot;bubblingMouseEvents&quot;: true, &quot;color&quot;: &quot;#3388ff&quot;, &quot;dashArray&quot;: null, &quot;dashOffset&quot;: null, &quot;fill&quot;: true, &quot;fillColor&quot;: &quot;#3388ff&quot;, &quot;fillOpacity&quot;: 0.2, &quot;fillRule&quot;: &quot;evenodd&quot;, &quot;lineCap&quot;: &quot;round&quot;, &quot;lineJoin&quot;: &quot;round&quot;, &quot;opacity&quot;: 1.0, &quot;radius&quot;: 2, &quot;stroke&quot;: true, &quot;weight&quot;: 3};\n",
       "            \n",
       "            let style = geo_json_caacc02f81494fcfd09dde4cf4aa7a8e_styler(feature)\n",
       "            Object.assign(opts, style)\n",
       "            \n",
       "            return new L.CircleMarker(latlng, opts)\n",
       "        }\n",
       "\n",
       "        function geo_json_caacc02f81494fcfd09dde4cf4aa7a8e_onEachFeature(feature, layer) {\n",
       "            layer.on({\n",
       "                mouseout: function(e) {\n",
       "                    if(typeof e.target.setStyle === &quot;function&quot;){\n",
       "                            geo_json_caacc02f81494fcfd09dde4cf4aa7a8e.resetStyle(e.target);\n",
       "                    }\n",
       "                },\n",
       "                mouseover: function(e) {\n",
       "                    if(typeof e.target.setStyle === &quot;function&quot;){\n",
       "                        const highlightStyle = geo_json_caacc02f81494fcfd09dde4cf4aa7a8e_highlighter(e.target.feature)\n",
       "                        e.target.setStyle(highlightStyle);\n",
       "                    }\n",
       "                },\n",
       "            });\n",
       "        };\n",
       "        var geo_json_caacc02f81494fcfd09dde4cf4aa7a8e = L.geoJson(null, {\n",
       "                onEachFeature: geo_json_caacc02f81494fcfd09dde4cf4aa7a8e_onEachFeature,\n",
       "            \n",
       "                style: geo_json_caacc02f81494fcfd09dde4cf4aa7a8e_styler,\n",
       "                pointToLayer: geo_json_caacc02f81494fcfd09dde4cf4aa7a8e_pointToLayer,\n",
       "        });\n",
       "\n",
       "        function geo_json_caacc02f81494fcfd09dde4cf4aa7a8e_add (data) {\n",
       "            geo_json_caacc02f81494fcfd09dde4cf4aa7a8e\n",
       "                .addData(data);\n",
       "        }\n",
       "            geo_json_caacc02f81494fcfd09dde4cf4aa7a8e_add({&quot;bbox&quot;: [6.813119521055163, 48.02376985044839, 7.029156734016171, 48.1483877068045], &quot;features&quot;: [{&quot;bbox&quot;: [6.813119521055163, 48.02376985044839, 7.029156734016171, 48.1483877068045], &quot;geometry&quot;: {&quot;coordinates&quot;: [[[6.85273647045358, 48.02376985044839], [6.813119521055163, 48.03523606220553], [6.833188607107927, 48.14387144962961], [6.849126598560063, 48.14702957623864], [6.863835412751025, 48.14834952239736], [6.865177665373872, 48.1483877068045], [6.956569059272585, 48.126638395100386], [7.029051564453456, 48.1052068512077], [7.029156734016171, 48.10340892806121], [7.025449124203844, 48.09790656359277], [6.9965723249436875, 48.06380795150444], [6.986437536912112, 48.053626371636014], [6.85273647045358, 48.02376985044839]]], &quot;type&quot;: &quot;Polygon&quot;}, &quot;id&quot;: &quot;0&quot;, &quot;properties&quot;: {}, &quot;type&quot;: &quot;Feature&quot;}], &quot;type&quot;: &quot;FeatureCollection&quot;});\n",
       "\n",
       "        \n",
       "    \n",
       "    geo_json_caacc02f81494fcfd09dde4cf4aa7a8e.bindTooltip(\n",
       "    function(layer){\n",
       "    let div = L.DomUtil.create(&#x27;div&#x27;);\n",
       "    \n",
       "    return div\n",
       "    }\n",
       "    ,{&quot;className&quot;: &quot;foliumtooltip&quot;, &quot;sticky&quot;: true});\n",
       "                     \n",
       "    \n",
       "            geo_json_caacc02f81494fcfd09dde4cf4aa7a8e.addTo(map_39a33e60aaddda74f63c329b86c81bfb);\n",
       "        \n",
       "&lt;/script&gt;\n",
       "&lt;/html&gt;\" style=\"position:absolute;width:100%;height:100%;left:0;top:0;border:none !important;\" allowfullscreen webkitallowfullscreen mozallowfullscreen></iframe></div></div>"
      ],
      "text/plain": [
       "<folium.folium.Map at 0x7f12eb4cfe90>"
      ]
     },
     "execution_count": 29,
     "metadata": {},
     "output_type": "execute_result"
    }
   ],
   "source": [
    "gpd.GeoSeries([region_hull], name=\"geometry\", crs=\"epsg:3035\").explore()"
   ]
  },
  {
   "cell_type": "code",
   "execution_count": null,
   "id": "93baba32-0d1f-4b28-b653-a468820f68b3",
   "metadata": {},
   "outputs": [],
   "source": []
  },
  {
   "cell_type": "code",
   "execution_count": null,
   "id": "8cb3b803-beb3-4742-9996-4823a247e891",
   "metadata": {},
   "outputs": [],
   "source": []
  },
  {
   "cell_type": "code",
   "execution_count": null,
   "id": "95f4c129-fd7e-4a4a-b3a9-1b78feee924b",
   "metadata": {},
   "outputs": [],
   "source": []
  }
 ],
 "metadata": {
  "kernelspec": {
   "display_name": "Python 3 (ipykernel)",
   "language": "python",
   "name": "python3"
  },
  "language_info": {
   "codemirror_mode": {
    "name": "ipython",
    "version": 3
   },
   "file_extension": ".py",
   "mimetype": "text/x-python",
   "name": "python",
   "nbconvert_exporter": "python",
   "pygments_lexer": "ipython3",
   "version": "3.12.10"
  }
 },
 "nbformat": 4,
 "nbformat_minor": 5
}
