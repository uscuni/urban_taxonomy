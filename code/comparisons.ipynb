{
 "cells": [
  {
   "cell_type": "code",
   "execution_count": 1,
   "id": "61980924-0d16-4e5f-a5b5-3f0a1de910e1",
   "metadata": {},
   "outputs": [],
   "source": [
    "import geopandas as gpd\n",
    "import numpy as np\n",
    "import rioxarray\n",
    "import xarray as xr\n",
    "import pandas as pd\n",
    "import xvec\n",
    "\n",
    "v = 'v3'\n",
    "\n",
    "regions = gpd.read_parquet('/data/uscuni-ulce/regions/cadastre_regions_hull.parquet')"
   ]
  },
  {
   "cell_type": "code",
   "execution_count": null,
   "id": "cffdbb78-31e8-4f1f-b9b7-153e1b796b0d",
   "metadata": {},
   "outputs": [],
   "source": []
  },
  {
   "cell_type": "code",
   "execution_count": null,
   "id": "9317185e-8244-4aa2-8714-8e74c6e5e98e",
   "metadata": {},
   "outputs": [],
   "source": []
  },
  {
   "cell_type": "markdown",
   "id": "b3142753-0bbc-4a36-b206-431eb251c015",
   "metadata": {
    "jp-MarkdownHeadingCollapsed": true
   },
   "source": [
    "### LCZ"
   ]
  },
  {
   "cell_type": "code",
   "execution_count": 1,
   "id": "e9f52981-8bfb-4f68-a982-c328fa41f3a1",
   "metadata": {},
   "outputs": [
    {
     "name": "stdout",
     "output_type": "stream",
     "text": [
      "--2025-01-15 11:41:45--  https://zenodo.org/records/8419340/files/lcz_filter_v3.tif?download=1\n",
      "Resolving zenodo.org (zenodo.org)... 188.185.45.92, 188.185.43.25, 188.185.48.194, ...\n",
      "Connecting to zenodo.org (zenodo.org)|188.185.45.92|:443... connected.\n",
      "HTTP request sent, awaiting response... 200 OK\n",
      "Length: 1384822872 (1,3G) [image/tiff]\n",
      "Saving to: ‘lcz_filter_v3.tif?download=1’\n",
      "\n",
      "lcz_filter_v3.tif?d 100%[===================>]   1,29G  5,49MB/s    in 3m 42s  \n",
      "\n",
      "2025-01-15 11:45:27 (5,95 MB/s) - ‘lcz_filter_v3.tif?download=1’ saved [1384822872/1384822872]\n",
      "\n"
     ]
    }
   ],
   "source": [
    "# !wget https://zenodo.org/records/8419340/files/lcz_filter_v3.tif?download=1"
   ]
  },
  {
   "cell_type": "code",
   "execution_count": 8,
   "id": "c8395101-c128-45ee-a0f1-45cd69292a5c",
   "metadata": {},
   "outputs": [],
   "source": [
    "# !mv lcz_filter_v3.tif /data/uscuni-ulce/validation/"
   ]
  },
  {
   "cell_type": "markdown",
   "id": "3311f910-1adf-4e7b-87bd-e22f6ad7cfc8",
   "metadata": {},
   "source": []
  },
  {
   "cell_type": "code",
   "execution_count": 5,
   "id": "5776d7c6-fb87-4da3-8cf7-35831690b401",
   "metadata": {},
   "outputs": [],
   "source": []
  },
  {
   "cell_type": "code",
   "execution_count": null,
   "id": "ce071d6e-d106-4d74-8c81-a596a32764c8",
   "metadata": {},
   "outputs": [],
   "source": [
    "furl = \"/data/uscuni-ulce/validation/lcz_filter_v3.tif\"\n"
   ]
  },
  {
   "cell_type": "code",
   "execution_count": null,
   "id": "cbce01e7-887e-4408-b432-698d08ff608e",
   "metadata": {},
   "outputs": [],
   "source": []
  },
  {
   "cell_type": "code",
   "execution_count": 2,
   "id": "156603ed-8329-421e-9c82-19d3e5eb4318",
   "metadata": {},
   "outputs": [],
   "source": [
    "lczs = rioxarray.open_rasterio(furl).squeeze()"
   ]
  },
  {
   "cell_type": "code",
   "execution_count": 3,
   "id": "f5aeffa9-bca4-4b66-8ff5-e327f6eab1a1",
   "metadata": {},
   "outputs": [
    {
     "data": {
      "text/html": [
       "<div><svg style=\"position: absolute; width: 0; height: 0; overflow: hidden\">\n",
       "<defs>\n",
       "<symbol id=\"icon-database\" viewBox=\"0 0 32 32\">\n",
       "<path d=\"M16 0c-8.837 0-16 2.239-16 5v4c0 2.761 7.163 5 16 5s16-2.239 16-5v-4c0-2.761-7.163-5-16-5z\"></path>\n",
       "<path d=\"M16 17c-8.837 0-16-2.239-16-5v6c0 2.761 7.163 5 16 5s16-2.239 16-5v-6c0 2.761-7.163 5-16 5z\"></path>\n",
       "<path d=\"M16 26c-8.837 0-16-2.239-16-5v6c0 2.761 7.163 5 16 5s16-2.239 16-5v-6c0 2.761-7.163 5-16 5z\"></path>\n",
       "</symbol>\n",
       "<symbol id=\"icon-file-text2\" viewBox=\"0 0 32 32\">\n",
       "<path d=\"M28.681 7.159c-0.694-0.947-1.662-2.053-2.724-3.116s-2.169-2.030-3.116-2.724c-1.612-1.182-2.393-1.319-2.841-1.319h-15.5c-1.378 0-2.5 1.121-2.5 2.5v27c0 1.378 1.122 2.5 2.5 2.5h23c1.378 0 2.5-1.122 2.5-2.5v-19.5c0-0.448-0.137-1.23-1.319-2.841zM24.543 5.457c0.959 0.959 1.712 1.825 2.268 2.543h-4.811v-4.811c0.718 0.556 1.584 1.309 2.543 2.268zM28 29.5c0 0.271-0.229 0.5-0.5 0.5h-23c-0.271 0-0.5-0.229-0.5-0.5v-27c0-0.271 0.229-0.5 0.5-0.5 0 0 15.499-0 15.5 0v7c0 0.552 0.448 1 1 1h7v19.5z\"></path>\n",
       "<path d=\"M23 26h-14c-0.552 0-1-0.448-1-1s0.448-1 1-1h14c0.552 0 1 0.448 1 1s-0.448 1-1 1z\"></path>\n",
       "<path d=\"M23 22h-14c-0.552 0-1-0.448-1-1s0.448-1 1-1h14c0.552 0 1 0.448 1 1s-0.448 1-1 1z\"></path>\n",
       "<path d=\"M23 18h-14c-0.552 0-1-0.448-1-1s0.448-1 1-1h14c0.552 0 1 0.448 1 1s-0.448 1-1 1z\"></path>\n",
       "</symbol>\n",
       "</defs>\n",
       "</svg>\n",
       "<style>/* CSS stylesheet for displaying xarray objects in jupyterlab.\n",
       " *\n",
       " */\n",
       "\n",
       ":root {\n",
       "  --xr-font-color0: var(--jp-content-font-color0, rgba(0, 0, 0, 1));\n",
       "  --xr-font-color2: var(--jp-content-font-color2, rgba(0, 0, 0, 0.54));\n",
       "  --xr-font-color3: var(--jp-content-font-color3, rgba(0, 0, 0, 0.38));\n",
       "  --xr-border-color: var(--jp-border-color2, #e0e0e0);\n",
       "  --xr-disabled-color: var(--jp-layout-color3, #bdbdbd);\n",
       "  --xr-background-color: var(--jp-layout-color0, white);\n",
       "  --xr-background-color-row-even: var(--jp-layout-color1, white);\n",
       "  --xr-background-color-row-odd: var(--jp-layout-color2, #eeeeee);\n",
       "}\n",
       "\n",
       "html[theme=dark],\n",
       "html[data-theme=dark],\n",
       "body[data-theme=dark],\n",
       "body.vscode-dark {\n",
       "  --xr-font-color0: rgba(255, 255, 255, 1);\n",
       "  --xr-font-color2: rgba(255, 255, 255, 0.54);\n",
       "  --xr-font-color3: rgba(255, 255, 255, 0.38);\n",
       "  --xr-border-color: #1F1F1F;\n",
       "  --xr-disabled-color: #515151;\n",
       "  --xr-background-color: #111111;\n",
       "  --xr-background-color-row-even: #111111;\n",
       "  --xr-background-color-row-odd: #313131;\n",
       "}\n",
       "\n",
       ".xr-wrap {\n",
       "  display: block !important;\n",
       "  min-width: 300px;\n",
       "  max-width: 700px;\n",
       "}\n",
       "\n",
       ".xr-text-repr-fallback {\n",
       "  /* fallback to plain text repr when CSS is not injected (untrusted notebook) */\n",
       "  display: none;\n",
       "}\n",
       "\n",
       ".xr-header {\n",
       "  padding-top: 6px;\n",
       "  padding-bottom: 6px;\n",
       "  margin-bottom: 4px;\n",
       "  border-bottom: solid 1px var(--xr-border-color);\n",
       "}\n",
       "\n",
       ".xr-header > div,\n",
       ".xr-header > ul {\n",
       "  display: inline;\n",
       "  margin-top: 0;\n",
       "  margin-bottom: 0;\n",
       "}\n",
       "\n",
       ".xr-obj-type,\n",
       ".xr-array-name {\n",
       "  margin-left: 2px;\n",
       "  margin-right: 10px;\n",
       "}\n",
       "\n",
       ".xr-obj-type {\n",
       "  color: var(--xr-font-color2);\n",
       "}\n",
       "\n",
       ".xr-sections {\n",
       "  padding-left: 0 !important;\n",
       "  display: grid;\n",
       "  grid-template-columns: 150px auto auto 1fr 0 20px 0 20px;\n",
       "}\n",
       "\n",
       ".xr-section-item {\n",
       "  display: contents;\n",
       "}\n",
       "\n",
       ".xr-section-item input {\n",
       "  display: inline-block;\n",
       "  opacity: 0;\n",
       "}\n",
       "\n",
       ".xr-section-item input + label {\n",
       "  color: var(--xr-disabled-color);\n",
       "}\n",
       "\n",
       ".xr-section-item input:enabled + label {\n",
       "  cursor: pointer;\n",
       "  color: var(--xr-font-color2);\n",
       "}\n",
       "\n",
       ".xr-section-item input:focus + label {\n",
       "  border: 2px solid var(--xr-font-color0);\n",
       "}\n",
       "\n",
       ".xr-section-item input:enabled + label:hover {\n",
       "  color: var(--xr-font-color0);\n",
       "}\n",
       "\n",
       ".xr-section-summary {\n",
       "  grid-column: 1;\n",
       "  color: var(--xr-font-color2);\n",
       "  font-weight: 500;\n",
       "}\n",
       "\n",
       ".xr-section-summary > span {\n",
       "  display: inline-block;\n",
       "  padding-left: 0.5em;\n",
       "}\n",
       "\n",
       ".xr-section-summary-in:disabled + label {\n",
       "  color: var(--xr-font-color2);\n",
       "}\n",
       "\n",
       ".xr-section-summary-in + label:before {\n",
       "  display: inline-block;\n",
       "  content: '►';\n",
       "  font-size: 11px;\n",
       "  width: 15px;\n",
       "  text-align: center;\n",
       "}\n",
       "\n",
       ".xr-section-summary-in:disabled + label:before {\n",
       "  color: var(--xr-disabled-color);\n",
       "}\n",
       "\n",
       ".xr-section-summary-in:checked + label:before {\n",
       "  content: '▼';\n",
       "}\n",
       "\n",
       ".xr-section-summary-in:checked + label > span {\n",
       "  display: none;\n",
       "}\n",
       "\n",
       ".xr-section-summary,\n",
       ".xr-section-inline-details {\n",
       "  padding-top: 4px;\n",
       "  padding-bottom: 4px;\n",
       "}\n",
       "\n",
       ".xr-section-inline-details {\n",
       "  grid-column: 2 / -1;\n",
       "}\n",
       "\n",
       ".xr-section-details {\n",
       "  display: none;\n",
       "  grid-column: 1 / -1;\n",
       "  margin-bottom: 5px;\n",
       "}\n",
       "\n",
       ".xr-section-summary-in:checked ~ .xr-section-details {\n",
       "  display: contents;\n",
       "}\n",
       "\n",
       ".xr-array-wrap {\n",
       "  grid-column: 1 / -1;\n",
       "  display: grid;\n",
       "  grid-template-columns: 20px auto;\n",
       "}\n",
       "\n",
       ".xr-array-wrap > label {\n",
       "  grid-column: 1;\n",
       "  vertical-align: top;\n",
       "}\n",
       "\n",
       ".xr-preview {\n",
       "  color: var(--xr-font-color3);\n",
       "}\n",
       "\n",
       ".xr-array-preview,\n",
       ".xr-array-data {\n",
       "  padding: 0 5px !important;\n",
       "  grid-column: 2;\n",
       "}\n",
       "\n",
       ".xr-array-data,\n",
       ".xr-array-in:checked ~ .xr-array-preview {\n",
       "  display: none;\n",
       "}\n",
       "\n",
       ".xr-array-in:checked ~ .xr-array-data,\n",
       ".xr-array-preview {\n",
       "  display: inline-block;\n",
       "}\n",
       "\n",
       ".xr-dim-list {\n",
       "  display: inline-block !important;\n",
       "  list-style: none;\n",
       "  padding: 0 !important;\n",
       "  margin: 0;\n",
       "}\n",
       "\n",
       ".xr-dim-list li {\n",
       "  display: inline-block;\n",
       "  padding: 0;\n",
       "  margin: 0;\n",
       "}\n",
       "\n",
       ".xr-dim-list:before {\n",
       "  content: '(';\n",
       "}\n",
       "\n",
       ".xr-dim-list:after {\n",
       "  content: ')';\n",
       "}\n",
       "\n",
       ".xr-dim-list li:not(:last-child):after {\n",
       "  content: ',';\n",
       "  padding-right: 5px;\n",
       "}\n",
       "\n",
       ".xr-has-index {\n",
       "  font-weight: bold;\n",
       "}\n",
       "\n",
       ".xr-var-list,\n",
       ".xr-var-item {\n",
       "  display: contents;\n",
       "}\n",
       "\n",
       ".xr-var-item > div,\n",
       ".xr-var-item label,\n",
       ".xr-var-item > .xr-var-name span {\n",
       "  background-color: var(--xr-background-color-row-even);\n",
       "  margin-bottom: 0;\n",
       "}\n",
       "\n",
       ".xr-var-item > .xr-var-name:hover span {\n",
       "  padding-right: 5px;\n",
       "}\n",
       "\n",
       ".xr-var-list > li:nth-child(odd) > div,\n",
       ".xr-var-list > li:nth-child(odd) > label,\n",
       ".xr-var-list > li:nth-child(odd) > .xr-var-name span {\n",
       "  background-color: var(--xr-background-color-row-odd);\n",
       "}\n",
       "\n",
       ".xr-var-name {\n",
       "  grid-column: 1;\n",
       "}\n",
       "\n",
       ".xr-var-dims {\n",
       "  grid-column: 2;\n",
       "}\n",
       "\n",
       ".xr-var-dtype {\n",
       "  grid-column: 3;\n",
       "  text-align: right;\n",
       "  color: var(--xr-font-color2);\n",
       "}\n",
       "\n",
       ".xr-var-preview {\n",
       "  grid-column: 4;\n",
       "}\n",
       "\n",
       ".xr-index-preview {\n",
       "  grid-column: 2 / 5;\n",
       "  color: var(--xr-font-color2);\n",
       "}\n",
       "\n",
       ".xr-var-name,\n",
       ".xr-var-dims,\n",
       ".xr-var-dtype,\n",
       ".xr-preview,\n",
       ".xr-attrs dt {\n",
       "  white-space: nowrap;\n",
       "  overflow: hidden;\n",
       "  text-overflow: ellipsis;\n",
       "  padding-right: 10px;\n",
       "}\n",
       "\n",
       ".xr-var-name:hover,\n",
       ".xr-var-dims:hover,\n",
       ".xr-var-dtype:hover,\n",
       ".xr-attrs dt:hover {\n",
       "  overflow: visible;\n",
       "  width: auto;\n",
       "  z-index: 1;\n",
       "}\n",
       "\n",
       ".xr-var-attrs,\n",
       ".xr-var-data,\n",
       ".xr-index-data {\n",
       "  display: none;\n",
       "  background-color: var(--xr-background-color) !important;\n",
       "  padding-bottom: 5px !important;\n",
       "}\n",
       "\n",
       ".xr-var-attrs-in:checked ~ .xr-var-attrs,\n",
       ".xr-var-data-in:checked ~ .xr-var-data,\n",
       ".xr-index-data-in:checked ~ .xr-index-data {\n",
       "  display: block;\n",
       "}\n",
       "\n",
       ".xr-var-data > table {\n",
       "  float: right;\n",
       "}\n",
       "\n",
       ".xr-var-name span,\n",
       ".xr-var-data,\n",
       ".xr-index-name div,\n",
       ".xr-index-data,\n",
       ".xr-attrs {\n",
       "  padding-left: 25px !important;\n",
       "}\n",
       "\n",
       ".xr-attrs,\n",
       ".xr-var-attrs,\n",
       ".xr-var-data,\n",
       ".xr-index-data {\n",
       "  grid-column: 1 / -1;\n",
       "}\n",
       "\n",
       "dl.xr-attrs {\n",
       "  padding: 0;\n",
       "  margin: 0;\n",
       "  display: grid;\n",
       "  grid-template-columns: 125px auto;\n",
       "}\n",
       "\n",
       ".xr-attrs dt,\n",
       ".xr-attrs dd {\n",
       "  padding: 0;\n",
       "  margin: 0;\n",
       "  float: left;\n",
       "  padding-right: 10px;\n",
       "  width: auto;\n",
       "}\n",
       "\n",
       ".xr-attrs dt {\n",
       "  font-weight: normal;\n",
       "  grid-column: 1;\n",
       "}\n",
       "\n",
       ".xr-attrs dt:hover span {\n",
       "  display: inline-block;\n",
       "  background: var(--xr-background-color);\n",
       "  padding-right: 10px;\n",
       "}\n",
       "\n",
       ".xr-attrs dd {\n",
       "  grid-column: 2;\n",
       "  white-space: pre-wrap;\n",
       "  word-break: break-all;\n",
       "}\n",
       "\n",
       ".xr-icon-database,\n",
       ".xr-icon-file-text2,\n",
       ".xr-no-icon {\n",
       "  display: inline-block;\n",
       "  vertical-align: middle;\n",
       "  width: 1em;\n",
       "  height: 1.5em !important;\n",
       "  stroke-width: 0;\n",
       "  stroke: currentColor;\n",
       "  fill: currentColor;\n",
       "}\n",
       "</style><pre class='xr-text-repr-fallback'>&lt;xarray.DataArray (y: 155995, x: 389620)&gt; Size: 61GB\n",
       "[60778771900 values with dtype=uint8]\n",
       "Coordinates:\n",
       "    band         int64 8B 1\n",
       "  * x            (x) float64 3MB -170.0 -170.0 -170.0 ... 180.0 180.0 180.0\n",
       "  * y            (y) float64 1MB 80.04 80.04 80.04 ... -60.09 -60.09 -60.09\n",
       "    spatial_ref  int64 8B 0\n",
       "Attributes:\n",
       "    AREA_OR_POINT:  Area\n",
       "    _FillValue:     0\n",
       "    scale_factor:   1.0\n",
       "    add_offset:     0.0</pre><div class='xr-wrap' style='display:none'><div class='xr-header'><div class='xr-obj-type'>xarray.DataArray</div><div class='xr-array-name'></div><ul class='xr-dim-list'><li><span class='xr-has-index'>y</span>: 155995</li><li><span class='xr-has-index'>x</span>: 389620</li></ul></div><ul class='xr-sections'><li class='xr-section-item'><div class='xr-array-wrap'><input id='section-acbf23c3-adcc-4cfa-a8e1-fac13206a50e' class='xr-array-in' type='checkbox' checked><label for='section-acbf23c3-adcc-4cfa-a8e1-fac13206a50e' title='Show/hide data repr'><svg class='icon xr-icon-database'><use xlink:href='#icon-database'></use></svg></label><div class='xr-array-preview xr-preview'><span>...</span></div><div class='xr-array-data'><pre>[60778771900 values with dtype=uint8]</pre></div></div></li><li class='xr-section-item'><input id='section-0e9d48d6-89e0-47c2-89c0-d67012680fd6' class='xr-section-summary-in' type='checkbox'  checked><label for='section-0e9d48d6-89e0-47c2-89c0-d67012680fd6' class='xr-section-summary' >Coordinates: <span>(4)</span></label><div class='xr-section-inline-details'></div><div class='xr-section-details'><ul class='xr-var-list'><li class='xr-var-item'><div class='xr-var-name'><span>band</span></div><div class='xr-var-dims'>()</div><div class='xr-var-dtype'>int64</div><div class='xr-var-preview xr-preview'>1</div><input id='attrs-13172e5c-9ff2-41cb-b8cf-d4475ca68976' class='xr-var-attrs-in' type='checkbox' disabled><label for='attrs-13172e5c-9ff2-41cb-b8cf-d4475ca68976' title='Show/Hide attributes'><svg class='icon xr-icon-file-text2'><use xlink:href='#icon-file-text2'></use></svg></label><input id='data-440860e7-fed1-4e78-88ac-0c83d26b6aa4' class='xr-var-data-in' type='checkbox'><label for='data-440860e7-fed1-4e78-88ac-0c83d26b6aa4' title='Show/Hide data repr'><svg class='icon xr-icon-database'><use xlink:href='#icon-database'></use></svg></label><div class='xr-var-attrs'><dl class='xr-attrs'></dl></div><div class='xr-var-data'><pre>array(1)</pre></div></li><li class='xr-var-item'><div class='xr-var-name'><span class='xr-has-index'>x</span></div><div class='xr-var-dims'>(x)</div><div class='xr-var-dtype'>float64</div><div class='xr-var-preview xr-preview'>-170.0 -170.0 ... 180.0 180.0</div><input id='attrs-fcfd3248-8ee3-4e3e-8949-165bcd35716e' class='xr-var-attrs-in' type='checkbox' disabled><label for='attrs-fcfd3248-8ee3-4e3e-8949-165bcd35716e' title='Show/Hide attributes'><svg class='icon xr-icon-file-text2'><use xlink:href='#icon-file-text2'></use></svg></label><input id='data-7cd3096b-8a5d-4a6f-b86a-66dfa8560d03' class='xr-var-data-in' type='checkbox'><label for='data-7cd3096b-8a5d-4a6f-b86a-66dfa8560d03' title='Show/Hide data repr'><svg class='icon xr-icon-database'><use xlink:href='#icon-database'></use></svg></label><div class='xr-var-attrs'><dl class='xr-attrs'></dl></div><div class='xr-var-data'><pre>array([-170.000328, -169.99943 , -169.998532, ...,  179.998578,  179.999476,\n",
       "        180.000374])</pre></div></li><li class='xr-var-item'><div class='xr-var-name'><span class='xr-has-index'>y</span></div><div class='xr-var-dims'>(y)</div><div class='xr-var-dtype'>float64</div><div class='xr-var-preview xr-preview'>80.04 80.04 80.04 ... -60.09 -60.09</div><input id='attrs-5ac04cd5-d1f8-430b-9c50-f183c2cb9632' class='xr-var-attrs-in' type='checkbox' disabled><label for='attrs-5ac04cd5-d1f8-430b-9c50-f183c2cb9632' title='Show/Hide attributes'><svg class='icon xr-icon-file-text2'><use xlink:href='#icon-file-text2'></use></svg></label><input id='data-e0f60634-1e9a-4809-af8c-c6b36920191c' class='xr-var-data-in' type='checkbox'><label for='data-e0f60634-1e9a-4809-af8c-c6b36920191c' title='Show/Hide data repr'><svg class='icon xr-icon-database'><use xlink:href='#icon-database'></use></svg></label><div class='xr-var-attrs'><dl class='xr-attrs'></dl></div><div class='xr-var-data'><pre>array([ 80.037646,  80.036748,  80.035849, ..., -60.092352, -60.09325 ,\n",
       "       -60.094148])</pre></div></li><li class='xr-var-item'><div class='xr-var-name'><span>spatial_ref</span></div><div class='xr-var-dims'>()</div><div class='xr-var-dtype'>int64</div><div class='xr-var-preview xr-preview'>0</div><input id='attrs-0c26d006-1911-4a6c-87ba-798808abd431' class='xr-var-attrs-in' type='checkbox' ><label for='attrs-0c26d006-1911-4a6c-87ba-798808abd431' title='Show/Hide attributes'><svg class='icon xr-icon-file-text2'><use xlink:href='#icon-file-text2'></use></svg></label><input id='data-fc166df2-a999-4156-bcc9-b635f8922382' class='xr-var-data-in' type='checkbox'><label for='data-fc166df2-a999-4156-bcc9-b635f8922382' title='Show/Hide data repr'><svg class='icon xr-icon-database'><use xlink:href='#icon-database'></use></svg></label><div class='xr-var-attrs'><dl class='xr-attrs'><dt><span>crs_wkt :</span></dt><dd>GEOGCS[&quot;WGS 84&quot;,DATUM[&quot;WGS_1984&quot;,SPHEROID[&quot;WGS 84&quot;,6378137,298.257223563,AUTHORITY[&quot;EPSG&quot;,&quot;7030&quot;]],AUTHORITY[&quot;EPSG&quot;,&quot;6326&quot;]],PRIMEM[&quot;Greenwich&quot;,0,AUTHORITY[&quot;EPSG&quot;,&quot;8901&quot;]],UNIT[&quot;degree&quot;,0.0174532925199433,AUTHORITY[&quot;EPSG&quot;,&quot;9122&quot;]],AXIS[&quot;Latitude&quot;,NORTH],AXIS[&quot;Longitude&quot;,EAST],AUTHORITY[&quot;EPSG&quot;,&quot;4326&quot;]]</dd><dt><span>semi_major_axis :</span></dt><dd>6378137.0</dd><dt><span>semi_minor_axis :</span></dt><dd>6356752.314245179</dd><dt><span>inverse_flattening :</span></dt><dd>298.257223563</dd><dt><span>reference_ellipsoid_name :</span></dt><dd>WGS 84</dd><dt><span>longitude_of_prime_meridian :</span></dt><dd>0.0</dd><dt><span>prime_meridian_name :</span></dt><dd>Greenwich</dd><dt><span>geographic_crs_name :</span></dt><dd>WGS 84</dd><dt><span>horizontal_datum_name :</span></dt><dd>World Geodetic System 1984</dd><dt><span>grid_mapping_name :</span></dt><dd>latitude_longitude</dd><dt><span>spatial_ref :</span></dt><dd>GEOGCS[&quot;WGS 84&quot;,DATUM[&quot;WGS_1984&quot;,SPHEROID[&quot;WGS 84&quot;,6378137,298.257223563,AUTHORITY[&quot;EPSG&quot;,&quot;7030&quot;]],AUTHORITY[&quot;EPSG&quot;,&quot;6326&quot;]],PRIMEM[&quot;Greenwich&quot;,0,AUTHORITY[&quot;EPSG&quot;,&quot;8901&quot;]],UNIT[&quot;degree&quot;,0.0174532925199433,AUTHORITY[&quot;EPSG&quot;,&quot;9122&quot;]],AXIS[&quot;Latitude&quot;,NORTH],AXIS[&quot;Longitude&quot;,EAST],AUTHORITY[&quot;EPSG&quot;,&quot;4326&quot;]]</dd><dt><span>GeoTransform :</span></dt><dd>-170.00077762791474 0.000898315284119518 0.0 80.03809518448114 0.0 -0.000898315284119518</dd></dl></div><div class='xr-var-data'><pre>array(0)</pre></div></li></ul></div></li><li class='xr-section-item'><input id='section-5358e7a7-4f58-42ee-b724-de47a4d3f8c3' class='xr-section-summary-in' type='checkbox'  ><label for='section-5358e7a7-4f58-42ee-b724-de47a4d3f8c3' class='xr-section-summary' >Indexes: <span>(2)</span></label><div class='xr-section-inline-details'></div><div class='xr-section-details'><ul class='xr-var-list'><li class='xr-var-item'><div class='xr-index-name'><div>x</div></div><div class='xr-index-preview'>PandasIndex</div><div></div><input id='index-cafa1cf9-2539-4086-940f-9d661c7aa11d' class='xr-index-data-in' type='checkbox'/><label for='index-cafa1cf9-2539-4086-940f-9d661c7aa11d' title='Show/Hide index repr'><svg class='icon xr-icon-database'><use xlink:href='#icon-database'></use></svg></label><div class='xr-index-data'><pre>PandasIndex(Index([-170.00032847027268, -169.99943015498854, -169.99853183970444,\n",
       "        -169.9976335244203,  -169.9967352091362, -169.99583689385207,\n",
       "       -169.99493857856797, -169.99404026328384, -169.99314194799973,\n",
       "        -169.9922436327156,\n",
       "       ...\n",
       "        179.99228937553272,  179.99318769081685,  179.99408600610093,\n",
       "        179.99498432138506,   179.9958826366692,  179.99678095195333,\n",
       "        179.99767926723746,  179.99857758252153,  179.99947589780567,\n",
       "         180.0003742130898],\n",
       "      dtype=&#x27;float64&#x27;, name=&#x27;x&#x27;, length=389620))</pre></div></li><li class='xr-var-item'><div class='xr-index-name'><div>y</div></div><div class='xr-index-preview'>PandasIndex</div><div></div><input id='index-84a90335-cecc-4033-9dee-9276c68b9c08' class='xr-index-data-in' type='checkbox'/><label for='index-84a90335-cecc-4033-9dee-9276c68b9c08' title='Show/Hide index repr'><svg class='icon xr-icon-database'><use xlink:href='#icon-database'></use></svg></label><div class='xr-index-data'><pre>PandasIndex(Index([  80.03764602683907,   80.03674771155495,   80.03584939627083,\n",
       "         80.03495108098672,    80.0340527657026,   80.03315445041848,\n",
       "         80.03225613513435,   80.03135781985023,   80.03045950456611,\n",
       "         80.02956118928199,\n",
       "       ...\n",
       "        -60.08606356654394, -60.086961881828046,  -60.08786019711218,\n",
       "        -60.08875851239631, -60.089656827680415,  -60.09055514296455,\n",
       "        -60.09145345824865,  -60.09235177353278,  -60.09325008881689,\n",
       "        -60.09414840410102],\n",
       "      dtype=&#x27;float64&#x27;, name=&#x27;y&#x27;, length=155995))</pre></div></li></ul></div></li><li class='xr-section-item'><input id='section-81aec504-ec6a-424f-b684-7d71adc03ac7' class='xr-section-summary-in' type='checkbox'  checked><label for='section-81aec504-ec6a-424f-b684-7d71adc03ac7' class='xr-section-summary' >Attributes: <span>(4)</span></label><div class='xr-section-inline-details'></div><div class='xr-section-details'><dl class='xr-attrs'><dt><span>AREA_OR_POINT :</span></dt><dd>Area</dd><dt><span>_FillValue :</span></dt><dd>0</dd><dt><span>scale_factor :</span></dt><dd>1.0</dd><dt><span>add_offset :</span></dt><dd>0.0</dd></dl></div></li></ul></div></div>"
      ],
      "text/plain": [
       "<xarray.DataArray (y: 155995, x: 389620)> Size: 61GB\n",
       "[60778771900 values with dtype=uint8]\n",
       "Coordinates:\n",
       "    band         int64 8B 1\n",
       "  * x            (x) float64 3MB -170.0 -170.0 -170.0 ... 180.0 180.0 180.0\n",
       "  * y            (y) float64 1MB 80.04 80.04 80.04 ... -60.09 -60.09 -60.09\n",
       "    spatial_ref  int64 8B 0\n",
       "Attributes:\n",
       "    AREA_OR_POINT:  Area\n",
       "    _FillValue:     0\n",
       "    scale_factor:   1.0\n",
       "    add_offset:     0.0"
      ]
     },
     "execution_count": 3,
     "metadata": {},
     "output_type": "execute_result"
    }
   ],
   "source": [
    "lczs"
   ]
  },
  {
   "cell_type": "code",
   "execution_count": null,
   "id": "e9e34110-d935-45df-bdd8-1b73988c3a5b",
   "metadata": {},
   "outputs": [],
   "source": []
  },
  {
   "cell_type": "code",
   "execution_count": 51,
   "id": "9fa34621-2ff2-4bab-aeb7-e0cf452f48c0",
   "metadata": {},
   "outputs": [],
   "source": []
  },
  {
   "cell_type": "code",
   "execution_count": 63,
   "id": "2fa26ab2-a408-4a06-aa2c-10d055cd1145",
   "metadata": {},
   "outputs": [],
   "source": []
  },
  {
   "cell_type": "code",
   "execution_count": null,
   "id": "e3719036-082b-4b08-b6d7-a371f5f68309",
   "metadata": {},
   "outputs": [],
   "source": []
  },
  {
   "cell_type": "code",
   "execution_count": null,
   "id": "5dc0ea3a-1343-4651-a505-92166b092060",
   "metadata": {},
   "outputs": [],
   "source": []
  },
  {
   "cell_type": "code",
   "execution_count": 64,
   "id": "4f4a9bd0-ecce-487b-b05c-f3a490f6d98b",
   "metadata": {
    "scrolled": true
   },
   "outputs": [
    {
     "name": "stdout",
     "output_type": "stream",
     "text": [
      "4\n",
      "10\n",
      "132\n",
      "134\n",
      "286\n",
      "313\n",
      "400\n",
      "523\n",
      "765\n",
      "801\n",
      "832\n",
      "913\n",
      "960\n",
      "1124\n",
      "1154\n",
      "1387\n",
      "1478\n",
      "1515\n",
      "1605\n",
      "1718\n",
      "1736\n",
      "1782\n",
      "1970\n",
      "1981\n",
      "2096\n",
      "2322\n",
      "2350\n",
      "2478\n",
      "2514\n",
      "2625\n",
      "2728\n",
      "2975\n",
      "3039\n",
      "3109\n",
      "3150\n",
      "3221\n",
      "3250\n",
      "3526\n",
      "3610\n",
      "3612\n",
      "3701\n",
      "3705\n",
      "3752\n",
      "3759\n",
      "3981\n",
      "4070\n",
      "4214\n",
      "4215\n",
      "4235\n",
      "4284\n",
      "4356\n",
      "4382\n",
      "4723\n",
      "4805\n",
      "5096\n",
      "5191\n",
      "5246\n",
      "5310\n",
      "5408\n",
      "5427\n",
      "5662\n",
      "5671\n",
      "5766\n",
      "5883\n",
      "6254\n",
      "6529\n",
      "6560\n",
      "6576\n",
      "6741\n",
      "6749\n",
      "6811\n",
      "6873\n",
      "6996\n",
      "7068\n",
      "7094\n",
      "7280\n",
      "7485\n",
      "7528\n",
      "7534\n",
      "7681\n",
      "7688\n",
      "7712\n",
      "7727\n",
      "7805\n",
      "7914\n",
      "7937\n",
      "7963\n",
      "8046\n",
      "8216\n",
      "8238\n",
      "8256\n",
      "8265\n",
      "8345\n",
      "8374\n",
      "8396\n",
      "8592\n",
      "8707\n",
      "8731\n",
      "8757\n",
      "8759\n",
      "8813\n",
      "9016\n",
      "9064\n",
      "9074\n",
      "9150\n",
      "9169\n",
      "9194\n",
      "9284\n",
      "9824\n",
      "9924\n",
      "9954\n",
      "9972\n",
      "10019\n",
      "10086\n",
      "10095\n",
      "10124\n",
      "10179\n",
      "10222\n",
      "10263\n",
      "10277\n",
      "10455\n",
      "10510\n",
      "10511\n",
      "10563\n",
      "10579\n",
      "10602\n",
      "10666\n",
      "10794\n",
      "10847\n",
      "10908\n",
      "10926\n",
      "10970\n",
      "11002\n",
      "11019\n",
      "11057\n",
      "11141\n",
      "11210\n",
      "11256\n",
      "11261\n",
      "11305\n",
      "11309\n",
      "11311\n",
      "11318\n",
      "11367\n",
      "11444\n",
      "11455\n",
      "11471\n",
      "11667\n",
      "11678\n",
      "11735\n",
      "11757\n",
      "11799\n",
      "11877\n",
      "11905\n",
      "12027\n",
      "12084\n",
      "12100\n",
      "12115\n",
      "12154\n",
      "12191\n",
      "12381\n",
      "12440\n",
      "12483\n",
      "12552\n",
      "12667\n",
      "12707\n",
      "12755\n",
      "12756\n",
      "12844\n",
      "12919\n",
      "12965\n",
      "13076\n",
      "13137\n",
      "13172\n",
      "13191\n",
      "13196\n",
      "13229\n",
      "13301\n",
      "13395\n",
      "13442\n",
      "13482\n",
      "13506\n",
      "13553\n",
      "13555\n",
      "13614\n",
      "13616\n",
      "13655\n",
      "13677\n",
      "13779\n",
      "13810\n",
      "13881\n",
      "13897\n",
      "13965\n",
      "14084\n",
      "14245\n",
      "14319\n",
      "14321\n",
      "14327\n",
      "14364\n",
      "14383\n",
      "14550\n",
      "14552\n",
      "14623\n",
      "14679\n",
      "14702\n",
      "14735\n",
      "14789\n",
      "14933\n",
      "15019\n",
      "15139\n",
      "15265\n",
      "15331\n",
      "15347\n",
      "15484\n",
      "15509\n",
      "15545\n",
      "15555\n",
      "15613\n",
      "15626\n",
      "15653\n",
      "15690\n",
      "15716\n",
      "15794\n",
      "15802\n",
      "15933\n",
      "15970\n",
      "16217\n",
      "16242\n",
      "16256\n",
      "16291\n",
      "16318\n",
      "16429\n",
      "16509\n",
      "16510\n",
      "16566\n",
      "16632\n",
      "16685\n",
      "16688\n",
      "16745\n",
      "16921\n",
      "17171\n",
      "17268\n",
      "17389\n",
      "17393\n",
      "17458\n",
      "17677\n",
      "17690\n",
      "17959\n",
      "18008\n",
      "18164\n",
      "18454\n",
      "18489\n",
      "18516\n",
      "18557\n",
      "18893\n",
      "19124\n",
      "19151\n",
      "19244\n",
      "19254\n",
      "19376\n",
      "19386\n",
      "19393\n",
      "19542\n",
      "19878\n",
      "19940\n",
      "20123\n",
      "20149\n",
      "20243\n",
      "20496\n",
      "20554\n",
      "20783\n",
      "20968\n",
      "20970\n",
      "21174\n",
      "21304\n",
      "21484\n",
      "21523\n",
      "21569\n",
      "21591\n",
      "21894\n",
      "21904\n",
      "22040\n",
      "22105\n",
      "22345\n",
      "22602\n",
      "22704\n",
      "22884\n",
      "22912\n",
      "22976\n",
      "23258\n",
      "23337\n",
      "23401\n",
      "23631\n",
      "23642\n",
      "23661\n",
      "23812\n",
      "23984\n",
      "24116\n",
      "24232\n",
      "24257\n",
      "24276\n",
      "24389\n",
      "24402\n",
      "24596\n",
      "24735\n",
      "24743\n",
      "25202\n",
      "25361\n",
      "25491\n",
      "25532\n",
      "25656\n",
      "25697\n",
      "25765\n",
      "25934\n",
      "26072\n",
      "26265\n",
      "26300\n",
      "26315\n",
      "26429\n",
      "26435\n",
      "26468\n",
      "26780\n",
      "26888\n",
      "27053\n",
      "27166\n",
      "27178\n",
      "27297\n",
      "27411\n",
      "27578\n",
      "27587\n",
      "27717\n",
      "27773\n",
      "27926\n",
      "28040\n",
      "28235\n",
      "28307\n",
      "28566\n",
      "28835\n",
      "29096\n",
      "29215\n",
      "29249\n",
      "29278\n",
      "29344\n",
      "29374\n",
      "29694\n",
      "29729\n",
      "29787\n",
      "29800\n",
      "29984\n",
      "30124\n",
      "30213\n",
      "30523\n",
      "30585\n",
      "30615\n",
      "30640\n",
      "30729\n",
      "30754\n",
      "30775\n",
      "30841\n",
      "31212\n",
      "31237\n",
      "31287\n",
      "31291\n",
      "31298\n",
      "31736\n",
      "32023\n",
      "32045\n",
      "32108\n",
      "32261\n",
      "32386\n",
      "32427\n",
      "32503\n",
      "32593\n",
      "32685\n",
      "32793\n",
      "32970\n",
      "33122\n",
      "33287\n",
      "33427\n",
      "33492\n",
      "33528\n",
      "33692\n",
      "33722\n",
      "34053\n",
      "34152\n",
      "34266\n",
      "34436\n",
      "34522\n",
      "34767\n",
      "34839\n",
      "34900\n",
      "34978\n",
      "35055\n",
      "35141\n",
      "35180\n",
      "35211\n",
      "35246\n",
      "35368\n",
      "35540\n",
      "35679\n",
      "35755\n",
      "35812\n",
      "36012\n",
      "36122\n",
      "36330\n",
      "36580\n",
      "36689\n",
      "36704\n",
      "36752\n",
      "36842\n",
      "36953\n",
      "37105\n",
      "37163\n",
      "37236\n",
      "37434\n",
      "37496\n",
      "37628\n",
      "37635\n",
      "37698\n",
      "37811\n",
      "38018\n",
      "38243\n",
      "38248\n",
      "38375\n",
      "38512\n",
      "38615\n",
      "38679\n",
      "38844\n",
      "38924\n",
      "38935\n",
      "39030\n",
      "39078\n",
      "39161\n",
      "39171\n",
      "39293\n",
      "39396\n",
      "39490\n",
      "39680\n",
      "39911\n",
      "39947\n",
      "40064\n",
      "40130\n",
      "40294\n",
      "40447\n",
      "40766\n",
      "40885\n",
      "40890\n",
      "40941\n",
      "41002\n",
      "41095\n",
      "41185\n",
      "41289\n",
      "41303\n",
      "41428\n",
      "41630\n",
      "42084\n",
      "42154\n",
      "42226\n",
      "42366\n",
      "42418\n",
      "42499\n",
      "42528\n",
      "42595\n",
      "43070\n",
      "43097\n",
      "43376\n",
      "43422\n",
      "43455\n",
      "43495\n",
      "43508\n",
      "43619\n",
      "43651\n",
      "43662\n",
      "43706\n",
      "43715\n",
      "43852\n",
      "44065\n",
      "44194\n",
      "44323\n",
      "44390\n",
      "44478\n",
      "44913\n",
      "44933\n",
      "44960\n",
      "45014\n",
      "45181\n",
      "45303\n",
      "45441\n",
      "45512\n",
      "45801\n",
      "45865\n",
      "45888\n",
      "46115\n",
      "46185\n",
      "46281\n",
      "46352\n",
      "46355\n",
      "46461\n",
      "46545\n",
      "47004\n",
      "47090\n",
      "47149\n",
      "47443\n",
      "47446\n",
      "47465\n",
      "47505\n",
      "47539\n",
      "47554\n",
      "47774\n",
      "47813\n",
      "47919\n",
      "48152\n",
      "48227\n",
      "48254\n",
      "48357\n",
      "48405\n",
      "48597\n",
      "48965\n",
      "49045\n",
      "49393\n",
      "49434\n",
      "49571\n",
      "49643\n",
      "49714\n",
      "50280\n",
      "50285\n",
      "50528\n",
      "50880\n",
      "50896\n",
      "50966\n",
      "51019\n",
      "51277\n",
      "51289\n",
      "51570\n",
      "51677\n",
      "52381\n",
      "52492\n",
      "53232\n",
      "53380\n",
      "53410\n",
      "53525\n",
      "53605\n",
      "53616\n",
      "53744\n",
      "54871\n",
      "55392\n",
      "55763\n",
      "55811\n",
      "55835\n",
      "56160\n",
      "56178\n",
      "56184\n",
      "56404\n",
      "56937\n",
      "57109\n",
      "57313\n",
      "57652\n",
      "57717\n",
      "57876\n",
      "57908\n",
      "58077\n",
      "58523\n",
      "58571\n",
      "58713\n",
      "58795\n",
      "59194\n",
      "59226\n",
      "59718\n",
      "59768\n",
      "60009\n",
      "60045\n",
      "60202\n",
      "60273\n",
      "60613\n",
      "60914\n",
      "61183\n",
      "61187\n",
      "61711\n",
      "61875\n",
      "62193\n",
      "62222\n",
      "62393\n",
      "62844\n",
      "62954\n",
      "63485\n",
      "63655\n",
      "63726\n",
      "63739\n",
      "63756\n",
      "64097\n",
      "64220\n",
      "64463\n",
      "65007\n",
      "65441\n",
      "65626\n",
      "66007\n",
      "66047\n",
      "66540\n",
      "66593\n",
      "66793\n",
      "67156\n",
      "67279\n",
      "67459\n",
      "67803\n",
      "68059\n",
      "68265\n",
      "68363\n",
      "69333\n",
      "69394\n",
      "70073\n",
      "70108\n",
      "70368\n",
      "70973\n",
      "71306\n",
      "71477\n",
      "71506\n",
      "71843\n",
      "72032\n",
      "72110\n",
      "72396\n",
      "72507\n",
      "73611\n",
      "73625\n",
      "73735\n",
      "74378\n",
      "74568\n",
      "75472\n",
      "75642\n",
      "76038\n",
      "76305\n",
      "76512\n",
      "77205\n",
      "77846\n",
      "78792\n",
      "78820\n",
      "78938\n",
      "79988\n",
      "80313\n",
      "80404\n",
      "82064\n",
      "82514\n",
      "82773\n",
      "83538\n",
      "83542\n",
      "84297\n",
      "84420\n",
      "84554\n",
      "84962\n",
      "85104\n",
      "85156\n",
      "85262\n",
      "86502\n",
      "86568\n",
      "86863\n",
      "86873\n",
      "87615\n",
      "87947\n",
      "88930\n",
      "88950\n",
      "89122\n",
      "89586\n",
      "89921\n",
      "89971\n",
      "90075\n",
      "90196\n",
      "90770\n",
      "91011\n",
      "91479\n",
      "91702\n",
      "92178\n",
      "93167\n",
      "93504\n",
      "93793\n",
      "95256\n",
      "96465\n",
      "96727\n",
      "96895\n",
      "97745\n",
      "97978\n",
      "98107\n",
      "98628\n",
      "98660\n",
      "98716\n",
      "98958\n",
      "99661\n",
      "99865\n",
      "99886\n",
      "100210\n",
      "100342\n",
      "100348\n",
      "101313\n",
      "101429\n",
      "101574\n",
      "101992\n",
      "102031\n",
      "102127\n",
      "102262\n",
      "102474\n",
      "102679\n",
      "102801\n",
      "102814\n",
      "102939\n",
      "103039\n",
      "103283\n",
      "103305\n",
      "103561\n",
      "103713\n",
      "103852\n",
      "103882\n",
      "103928\n",
      "104018\n",
      "104066\n",
      "104568\n",
      "105038\n",
      "105090\n",
      "105385\n",
      "105388\n",
      "105426\n",
      "105457\n",
      "105589\n",
      "106034\n",
      "106124\n",
      "106363\n",
      "106370\n",
      "106384\n",
      "106559\n",
      "107131\n",
      "107442\n",
      "108050\n",
      "108101\n",
      "108127\n",
      "108129\n",
      "108263\n",
      "108748\n",
      "108755\n",
      "108884\n",
      "109404\n",
      "109488\n",
      "109491\n",
      "109636\n",
      "109727\n",
      "109756\n",
      "110016\n",
      "110179\n",
      "110237\n",
      "110657\n",
      "110691\n",
      "110906\n",
      "110908\n",
      "111555\n",
      "111689\n",
      "111911\n",
      "112253\n",
      "112437\n",
      "112696\n",
      "112843\n",
      "112949\n",
      "113068\n",
      "113301\n",
      "114014\n",
      "114180\n",
      "114311\n",
      "114591\n",
      "114680\n",
      "114822\n",
      "115151\n",
      "115595\n",
      "115950\n",
      "116316\n",
      "116523\n",
      "116801\n",
      "116866\n",
      "117182\n",
      "117638\n",
      "117720\n",
      "118096\n",
      "118747\n",
      "119562\n",
      "119609\n",
      "120057\n",
      "120193\n",
      "120545\n",
      "120961\n",
      "120982\n",
      "121071\n",
      "121143\n",
      "123228\n",
      "123690\n",
      "123904\n",
      "123941\n",
      "124160\n",
      "124904\n",
      "125016\n",
      "125141\n",
      "125667\n",
      "126588\n",
      "127101\n",
      "127183\n",
      "127626\n",
      "128286\n",
      "129032\n",
      "129104\n",
      "129395\n",
      "129730\n",
      "130341\n",
      "130658\n",
      "131130\n",
      "131395\n",
      "131786\n",
      "131824\n",
      "132225\n",
      "133057\n",
      "133100\n",
      "133948\n",
      "134023\n",
      "134189\n",
      "134454\n",
      "134755\n",
      "134905\n",
      "135687\n",
      "136169\n",
      "136533\n",
      "137469\n",
      "137537\n",
      "137636\n",
      "137863\n",
      "138804\n",
      "139096\n",
      "139621\n",
      "139674\n",
      "139764\n",
      "140420\n",
      "141272\n",
      "141366\n",
      "142100\n",
      "143701\n",
      "145906\n",
      "146285\n",
      "147112\n",
      "147634\n",
      "148018\n",
      "148085\n",
      "149997\n",
      "150044\n",
      "151676\n",
      "152081\n",
      "152511\n",
      "CPU times: user 5min 15s, sys: 27.1 s, total: 5min 42s\n",
      "Wall time: 5min 30s\n"
     ]
    }
   ],
   "source": [
    "%%time\n",
    "\n",
    "results = []\n",
    "\n",
    "for region_id in regions.index:\n",
    "\n",
    "    \n",
    "\n",
    "    print(region_id)\n",
    "    buildings = gpd.read_parquet(f'/data/uscuni-ulce/processed_data/clusters/clusters_{region_id}_{v}.pq')\n",
    "\n",
    "    # setup geometry list to burn into the raster\n",
    "    buildings['num_index'] = np.arange(1, buildings.shape[0] + 1)\n",
    "    buildings['geometry'] = buildings.representative_point()\n",
    "    building_utm = buildings.to_crs(lczs.rio.crs)\n",
    "    minx, miny, maxx, maxy = building_utm.total_bounds\n",
    "\n",
    "\n",
    "    # read only the region part of the raster data\n",
    "    region_lczs = rioxarray.open_rasterio(\n",
    "        filename=furl, \n",
    "        chunks='auto', \n",
    "        parse_coordinates=True,\n",
    "        masked=True\n",
    "    ).rio.clip_box(minx, miny, maxx, maxy)\n",
    "\n",
    "    # extract building classification from lcz raster\n",
    "    aggregated_iterative = region_lczs.xvec.extract_points(\n",
    "        building_utm.geometry,\n",
    "        x_coords=\"x\",\n",
    "        y_coords=\"y\",\n",
    "    )\n",
    "\n",
    "    # append to the building dataframe and store in the  results array\n",
    "    res = aggregated_iterative.to_pandas()\n",
    "    res = gpd.GeoDataFrame(res.T.reset_index(), crs=building_utm.crs)\n",
    "    res.columns = ['geometry', 'label']\n",
    "    building_utm['lcz'] = res['label'].values\n",
    "    results.append(building_utm)"
   ]
  },
  {
   "cell_type": "code",
   "execution_count": 67,
   "id": "91d3c7b8-40e8-4903-be8e-c8db3f556e85",
   "metadata": {},
   "outputs": [],
   "source": [
    "all_data = pd.concat(results, ignore_index=True)"
   ]
  },
  {
   "cell_type": "code",
   "execution_count": null,
   "id": "485b5f1c-b76f-4e3d-8128-1854e544a5e8",
   "metadata": {},
   "outputs": [],
   "source": []
  },
  {
   "cell_type": "code",
   "execution_count": null,
   "id": "b402eaf2-4a04-4b35-bc97-c4755051dbcc",
   "metadata": {},
   "outputs": [],
   "source": []
  },
  {
   "cell_type": "code",
   "execution_count": 68,
   "id": "9da8ecf5-e663-46dd-8744-fa6fb0aea9f3",
   "metadata": {},
   "outputs": [],
   "source": [
    "cluster_mapping = pd.read_parquet(f'/data/uscuni-ulce/processed_data/clusters/cluster_mapping_{v}.pq')"
   ]
  },
  {
   "cell_type": "code",
   "execution_count": 71,
   "id": "2bb56751-9e08-4049-91b0-a079d58bf943",
   "metadata": {},
   "outputs": [
    {
     "data": {
      "text/html": [
       "<div>\n",
       "<style scoped>\n",
       "    .dataframe tbody tr th:only-of-type {\n",
       "        vertical-align: middle;\n",
       "    }\n",
       "\n",
       "    .dataframe tbody tr th {\n",
       "        vertical-align: top;\n",
       "    }\n",
       "\n",
       "    .dataframe thead th {\n",
       "        text-align: right;\n",
       "    }\n",
       "</style>\n",
       "<table border=\"1\" class=\"dataframe\">\n",
       "  <thead>\n",
       "    <tr style=\"text-align: right;\">\n",
       "      <th></th>\n",
       "      <th>1</th>\n",
       "      <th>2</th>\n",
       "      <th>3</th>\n",
       "      <th>4</th>\n",
       "      <th>5</th>\n",
       "      <th>6</th>\n",
       "    </tr>\n",
       "    <tr>\n",
       "      <th>7</th>\n",
       "      <th></th>\n",
       "      <th></th>\n",
       "      <th></th>\n",
       "      <th></th>\n",
       "      <th></th>\n",
       "      <th></th>\n",
       "    </tr>\n",
       "  </thead>\n",
       "  <tbody>\n",
       "    <tr>\n",
       "      <th>1</th>\n",
       "      <td>1</td>\n",
       "      <td>1</td>\n",
       "      <td>1</td>\n",
       "      <td>1</td>\n",
       "      <td>1</td>\n",
       "      <td>1</td>\n",
       "    </tr>\n",
       "    <tr>\n",
       "      <th>2</th>\n",
       "      <td>1</td>\n",
       "      <td>1</td>\n",
       "      <td>1</td>\n",
       "      <td>1</td>\n",
       "      <td>1</td>\n",
       "      <td>1</td>\n",
       "    </tr>\n",
       "    <tr>\n",
       "      <th>3</th>\n",
       "      <td>1</td>\n",
       "      <td>1</td>\n",
       "      <td>1</td>\n",
       "      <td>1</td>\n",
       "      <td>1</td>\n",
       "      <td>2</td>\n",
       "    </tr>\n",
       "    <tr>\n",
       "      <th>4</th>\n",
       "      <td>1</td>\n",
       "      <td>1</td>\n",
       "      <td>1</td>\n",
       "      <td>1</td>\n",
       "      <td>1</td>\n",
       "      <td>2</td>\n",
       "    </tr>\n",
       "    <tr>\n",
       "      <th>5</th>\n",
       "      <td>1</td>\n",
       "      <td>1</td>\n",
       "      <td>1</td>\n",
       "      <td>1</td>\n",
       "      <td>2</td>\n",
       "      <td>3</td>\n",
       "    </tr>\n",
       "    <tr>\n",
       "      <th>...</th>\n",
       "      <td>...</td>\n",
       "      <td>...</td>\n",
       "      <td>...</td>\n",
       "      <td>...</td>\n",
       "      <td>...</td>\n",
       "      <td>...</td>\n",
       "    </tr>\n",
       "    <tr>\n",
       "      <th>104</th>\n",
       "      <td>2</td>\n",
       "      <td>4</td>\n",
       "      <td>8</td>\n",
       "      <td>16</td>\n",
       "      <td>31</td>\n",
       "      <td>59</td>\n",
       "    </tr>\n",
       "    <tr>\n",
       "      <th>105</th>\n",
       "      <td>2</td>\n",
       "      <td>4</td>\n",
       "      <td>8</td>\n",
       "      <td>16</td>\n",
       "      <td>31</td>\n",
       "      <td>59</td>\n",
       "    </tr>\n",
       "    <tr>\n",
       "      <th>106</th>\n",
       "      <td>2</td>\n",
       "      <td>4</td>\n",
       "      <td>8</td>\n",
       "      <td>16</td>\n",
       "      <td>32</td>\n",
       "      <td>60</td>\n",
       "    </tr>\n",
       "    <tr>\n",
       "      <th>107</th>\n",
       "      <td>2</td>\n",
       "      <td>4</td>\n",
       "      <td>8</td>\n",
       "      <td>16</td>\n",
       "      <td>32</td>\n",
       "      <td>60</td>\n",
       "    </tr>\n",
       "    <tr>\n",
       "      <th>108</th>\n",
       "      <td>2</td>\n",
       "      <td>4</td>\n",
       "      <td>8</td>\n",
       "      <td>16</td>\n",
       "      <td>32</td>\n",
       "      <td>61</td>\n",
       "    </tr>\n",
       "  </tbody>\n",
       "</table>\n",
       "<p>108 rows × 6 columns</p>\n",
       "</div>"
      ],
      "text/plain": [
       "     1  2  3   4   5   6\n",
       "7                       \n",
       "1    1  1  1   1   1   1\n",
       "2    1  1  1   1   1   1\n",
       "3    1  1  1   1   1   2\n",
       "4    1  1  1   1   1   2\n",
       "5    1  1  1   1   2   3\n",
       "..  .. .. ..  ..  ..  ..\n",
       "104  2  4  8  16  31  59\n",
       "105  2  4  8  16  31  59\n",
       "106  2  4  8  16  32  60\n",
       "107  2  4  8  16  32  60\n",
       "108  2  4  8  16  32  61\n",
       "\n",
       "[108 rows x 6 columns]"
      ]
     },
     "execution_count": 71,
     "metadata": {},
     "output_type": "execute_result"
    }
   ],
   "source": [
    "cluster_mapping"
   ]
  },
  {
   "cell_type": "code",
   "execution_count": 73,
   "id": "065a3fe9-a6da-4245-838f-5390f7fcb67c",
   "metadata": {},
   "outputs": [],
   "source": [
    "all_data['map_label'] = all_data['final_without_noise'].map(cluster_mapping[4].to_dict())"
   ]
  },
  {
   "cell_type": "code",
   "execution_count": null,
   "id": "84b01e79-b882-4160-b57c-0456db1b60be",
   "metadata": {},
   "outputs": [],
   "source": []
  },
  {
   "cell_type": "code",
   "execution_count": 84,
   "id": "80ff98db-1975-4003-a8e3-080be4903d41",
   "metadata": {},
   "outputs": [
    {
     "data": {
      "text/html": [
       "<style type=\"text/css\">\n",
       "#T_c68ba_row0_col0, #T_c68ba_row0_col6, #T_c68ba_row0_col9, #T_c68ba_row0_col12, #T_c68ba_row0_col14, #T_c68ba_row0_col15, #T_c68ba_row0_col16, #T_c68ba_row1_col6, #T_c68ba_row1_col10, #T_c68ba_row1_col11, #T_c68ba_row1_col12, #T_c68ba_row1_col14, #T_c68ba_row1_col15, #T_c68ba_row1_col16, #T_c68ba_row2_col1, #T_c68ba_row2_col2, #T_c68ba_row2_col4, #T_c68ba_row2_col6, #T_c68ba_row2_col8, #T_c68ba_row2_col11, #T_c68ba_row2_col12, #T_c68ba_row2_col13, #T_c68ba_row2_col14, #T_c68ba_row2_col15, #T_c68ba_row2_col16, #T_c68ba_row3_col2, #T_c68ba_row3_col3, #T_c68ba_row3_col4, #T_c68ba_row3_col6, #T_c68ba_row3_col8, #T_c68ba_row3_col9, #T_c68ba_row3_col10, #T_c68ba_row3_col11, #T_c68ba_row3_col12, #T_c68ba_row3_col13, #T_c68ba_row3_col15, #T_c68ba_row3_col16, #T_c68ba_row4_col0, #T_c68ba_row4_col1, #T_c68ba_row4_col2, #T_c68ba_row4_col3, #T_c68ba_row4_col6, #T_c68ba_row4_col9, #T_c68ba_row4_col12, #T_c68ba_row4_col14, #T_c68ba_row4_col15, #T_c68ba_row4_col16, #T_c68ba_row5_col0, #T_c68ba_row5_col1, #T_c68ba_row5_col2, #T_c68ba_row5_col3, #T_c68ba_row5_col6, #T_c68ba_row5_col9, #T_c68ba_row5_col12, #T_c68ba_row5_col14, #T_c68ba_row5_col15, #T_c68ba_row5_col16, #T_c68ba_row6_col0, #T_c68ba_row6_col1, #T_c68ba_row6_col2, #T_c68ba_row6_col3, #T_c68ba_row6_col6, #T_c68ba_row6_col9, #T_c68ba_row6_col12, #T_c68ba_row6_col14, #T_c68ba_row6_col15, #T_c68ba_row6_col16, #T_c68ba_row7_col0, #T_c68ba_row7_col1, #T_c68ba_row7_col2, #T_c68ba_row7_col3, #T_c68ba_row7_col6, #T_c68ba_row7_col9, #T_c68ba_row7_col12, #T_c68ba_row7_col14, #T_c68ba_row7_col15, #T_c68ba_row7_col16, #T_c68ba_row8_col0, #T_c68ba_row8_col1, #T_c68ba_row8_col2, #T_c68ba_row8_col3, #T_c68ba_row8_col4, #T_c68ba_row8_col6, #T_c68ba_row8_col9, #T_c68ba_row8_col12, #T_c68ba_row8_col14, #T_c68ba_row8_col15, #T_c68ba_row8_col16, #T_c68ba_row9_col0, #T_c68ba_row9_col1, #T_c68ba_row9_col2, #T_c68ba_row9_col4, #T_c68ba_row9_col6, #T_c68ba_row9_col10, #T_c68ba_row9_col12, #T_c68ba_row9_col14, #T_c68ba_row9_col15, #T_c68ba_row9_col16, #T_c68ba_row10_col0, #T_c68ba_row10_col1, #T_c68ba_row10_col2, #T_c68ba_row10_col3, #T_c68ba_row10_col4, #T_c68ba_row10_col6, #T_c68ba_row10_col9, #T_c68ba_row10_col12, #T_c68ba_row10_col14, #T_c68ba_row10_col15, #T_c68ba_row10_col16, #T_c68ba_row11_col0, #T_c68ba_row11_col1, #T_c68ba_row11_col2, #T_c68ba_row11_col3, #T_c68ba_row11_col4, #T_c68ba_row11_col6, #T_c68ba_row11_col9, #T_c68ba_row11_col12, #T_c68ba_row11_col14, #T_c68ba_row11_col15, #T_c68ba_row11_col16, #T_c68ba_row12_col0, #T_c68ba_row12_col1, #T_c68ba_row12_col2, #T_c68ba_row12_col3, #T_c68ba_row12_col6, #T_c68ba_row12_col9, #T_c68ba_row12_col12, #T_c68ba_row12_col14, #T_c68ba_row12_col15, #T_c68ba_row12_col16, #T_c68ba_row13_col0, #T_c68ba_row13_col1, #T_c68ba_row13_col2, #T_c68ba_row13_col3, #T_c68ba_row13_col6, #T_c68ba_row13_col9, #T_c68ba_row13_col12, #T_c68ba_row13_col14, #T_c68ba_row13_col15, #T_c68ba_row13_col16, #T_c68ba_row14_col6, #T_c68ba_row14_col12, #T_c68ba_row14_col14, #T_c68ba_row14_col15, #T_c68ba_row14_col16, #T_c68ba_row15_col0, #T_c68ba_row15_col6, #T_c68ba_row15_col12, #T_c68ba_row15_col14, #T_c68ba_row15_col15, #T_c68ba_row15_col16 {\n",
       "  background-color: #f7fcfd;\n",
       "  color: #000000;\n",
       "}\n",
       "#T_c68ba_row0_col1, #T_c68ba_row2_col3, #T_c68ba_row3_col5, #T_c68ba_row4_col7, #T_c68ba_row4_col10, #T_c68ba_row6_col4, #T_c68ba_row14_col3, #T_c68ba_row15_col3 {\n",
       "  background-color: #f5fbfd;\n",
       "  color: #000000;\n",
       "}\n",
       "#T_c68ba_row0_col2, #T_c68ba_row0_col3, #T_c68ba_row0_col10, #T_c68ba_row0_col11, #T_c68ba_row0_col13, #T_c68ba_row1_col9, #T_c68ba_row1_col13, #T_c68ba_row2_col10, #T_c68ba_row3_col14, #T_c68ba_row4_col11, #T_c68ba_row5_col7, #T_c68ba_row5_col10, #T_c68ba_row5_col11, #T_c68ba_row6_col7, #T_c68ba_row9_col3, #T_c68ba_row9_col11, #T_c68ba_row10_col7, #T_c68ba_row11_col7, #T_c68ba_row13_col4, #T_c68ba_row14_col0, #T_c68ba_row14_col1, #T_c68ba_row14_col2, #T_c68ba_row15_col1, #T_c68ba_row15_col2, #T_c68ba_row15_col9 {\n",
       "  background-color: #f6fcfd;\n",
       "  color: #000000;\n",
       "}\n",
       "#T_c68ba_row0_col4, #T_c68ba_row10_col11, #T_c68ba_row11_col5, #T_c68ba_row13_col10, #T_c68ba_row15_col8 {\n",
       "  background-color: #e5f5f9;\n",
       "  color: #000000;\n",
       "}\n",
       "#T_c68ba_row0_col5, #T_c68ba_row1_col5, #T_c68ba_row2_col7, #T_c68ba_row3_col7, #T_c68ba_row4_col5, #T_c68ba_row5_col5, #T_c68ba_row6_col5, #T_c68ba_row7_col5, #T_c68ba_row7_col8, #T_c68ba_row8_col13, #T_c68ba_row9_col7, #T_c68ba_row10_col8, #T_c68ba_row11_col8, #T_c68ba_row12_col8, #T_c68ba_row13_col8, #T_c68ba_row14_col7, #T_c68ba_row15_col5 {\n",
       "  background-color: #00441b;\n",
       "  color: #f1f1f1;\n",
       "}\n",
       "#T_c68ba_row0_col7, #T_c68ba_row7_col4, #T_c68ba_row9_col13, #T_c68ba_row12_col7, #T_c68ba_row15_col10 {\n",
       "  background-color: #f3fafc;\n",
       "  color: #000000;\n",
       "}\n",
       "#T_c68ba_row0_col8, #T_c68ba_row6_col11, #T_c68ba_row9_col5 {\n",
       "  background-color: #eaf7fa;\n",
       "  color: #000000;\n",
       "}\n",
       "#T_c68ba_row1_col0, #T_c68ba_row4_col13, #T_c68ba_row5_col13, #T_c68ba_row8_col7, #T_c68ba_row12_col4, #T_c68ba_row13_col7, #T_c68ba_row14_col9 {\n",
       "  background-color: #f5fbfc;\n",
       "  color: #000000;\n",
       "}\n",
       "#T_c68ba_row1_col1 {\n",
       "  background-color: #47b17e;\n",
       "  color: #f1f1f1;\n",
       "}\n",
       "#T_c68ba_row1_col2, #T_c68ba_row1_col3, #T_c68ba_row11_col10 {\n",
       "  background-color: #ecf8fb;\n",
       "  color: #000000;\n",
       "}\n",
       "#T_c68ba_row1_col4 {\n",
       "  background-color: #3fab72;\n",
       "  color: #f1f1f1;\n",
       "}\n",
       "#T_c68ba_row1_col7, #T_c68ba_row6_col13 {\n",
       "  background-color: #ebf7fa;\n",
       "  color: #000000;\n",
       "}\n",
       "#T_c68ba_row1_col8, #T_c68ba_row6_col10, #T_c68ba_row7_col10, #T_c68ba_row15_col13 {\n",
       "  background-color: #edf8fb;\n",
       "  color: #000000;\n",
       "}\n",
       "#T_c68ba_row2_col0 {\n",
       "  background-color: #ceede8;\n",
       "  color: #000000;\n",
       "}\n",
       "#T_c68ba_row2_col5, #T_c68ba_row5_col8, #T_c68ba_row14_col13 {\n",
       "  background-color: #ddf2f3;\n",
       "  color: #000000;\n",
       "}\n",
       "#T_c68ba_row2_col9 {\n",
       "  background-color: #dbf1f1;\n",
       "  color: #000000;\n",
       "}\n",
       "#T_c68ba_row3_col0 {\n",
       "  background-color: #87d0bc;\n",
       "  color: #000000;\n",
       "}\n",
       "#T_c68ba_row3_col1, #T_c68ba_row5_col4, #T_c68ba_row7_col7 {\n",
       "  background-color: #f4fbfc;\n",
       "  color: #000000;\n",
       "}\n",
       "#T_c68ba_row4_col4, #T_c68ba_row10_col5 {\n",
       "  background-color: #eff9fb;\n",
       "  color: #000000;\n",
       "}\n",
       "#T_c68ba_row4_col8 {\n",
       "  background-color: #e4f5f8;\n",
       "  color: #000000;\n",
       "}\n",
       "#T_c68ba_row6_col8 {\n",
       "  background-color: #43af78;\n",
       "  color: #f1f1f1;\n",
       "}\n",
       "#T_c68ba_row7_col11 {\n",
       "  background-color: #e7f6f9;\n",
       "  color: #000000;\n",
       "}\n",
       "#T_c68ba_row7_col13 {\n",
       "  background-color: #d4efec;\n",
       "  color: #000000;\n",
       "}\n",
       "#T_c68ba_row8_col5, #T_c68ba_row9_col8, #T_c68ba_row15_col11 {\n",
       "  background-color: #f2fafc;\n",
       "  color: #000000;\n",
       "}\n",
       "#T_c68ba_row8_col8 {\n",
       "  background-color: #44af79;\n",
       "  color: #f1f1f1;\n",
       "}\n",
       "#T_c68ba_row8_col10 {\n",
       "  background-color: #e0f3f5;\n",
       "  color: #000000;\n",
       "}\n",
       "#T_c68ba_row8_col11 {\n",
       "  background-color: #8dd3c0;\n",
       "  color: #000000;\n",
       "}\n",
       "#T_c68ba_row9_col9 {\n",
       "  background-color: #a2dcce;\n",
       "  color: #000000;\n",
       "}\n",
       "#T_c68ba_row10_col10, #T_c68ba_row14_col10 {\n",
       "  background-color: #f0f9fb;\n",
       "  color: #000000;\n",
       "}\n",
       "#T_c68ba_row10_col13 {\n",
       "  background-color: #6fc6aa;\n",
       "  color: #000000;\n",
       "}\n",
       "#T_c68ba_row11_col11, #T_c68ba_row12_col10 {\n",
       "  background-color: #daf1f1;\n",
       "  color: #000000;\n",
       "}\n",
       "#T_c68ba_row11_col13 {\n",
       "  background-color: #5cbd98;\n",
       "  color: #f1f1f1;\n",
       "}\n",
       "#T_c68ba_row12_col5 {\n",
       "  background-color: #57ba92;\n",
       "  color: #f1f1f1;\n",
       "}\n",
       "#T_c68ba_row12_col11 {\n",
       "  background-color: #92d5c4;\n",
       "  color: #000000;\n",
       "}\n",
       "#T_c68ba_row12_col13 {\n",
       "  background-color: #62c09f;\n",
       "  color: #000000;\n",
       "}\n",
       "#T_c68ba_row13_col5 {\n",
       "  background-color: #a0dbcd;\n",
       "  color: #000000;\n",
       "}\n",
       "#T_c68ba_row13_col11 {\n",
       "  background-color: #d1eee9;\n",
       "  color: #000000;\n",
       "}\n",
       "#T_c68ba_row13_col13 {\n",
       "  background-color: #94d6c5;\n",
       "  color: #000000;\n",
       "}\n",
       "#T_c68ba_row14_col4 {\n",
       "  background-color: #e6f5f9;\n",
       "  color: #000000;\n",
       "}\n",
       "#T_c68ba_row14_col5 {\n",
       "  background-color: #208843;\n",
       "  color: #f1f1f1;\n",
       "}\n",
       "#T_c68ba_row14_col8 {\n",
       "  background-color: #bae5dc;\n",
       "  color: #000000;\n",
       "}\n",
       "#T_c68ba_row14_col11 {\n",
       "  background-color: #ecf8fa;\n",
       "  color: #000000;\n",
       "}\n",
       "#T_c68ba_row15_col4 {\n",
       "  background-color: #a7ddd1;\n",
       "  color: #000000;\n",
       "}\n",
       "#T_c68ba_row15_col7 {\n",
       "  background-color: #c4e9e1;\n",
       "  color: #000000;\n",
       "}\n",
       "</style>\n",
       "<table id=\"T_c68ba\">\n",
       "  <thead>\n",
       "    <tr>\n",
       "      <th class=\"index_name level0\" >lcz</th>\n",
       "      <th id=\"T_c68ba_level0_col0\" class=\"col_heading level0 col0\" >1.000000</th>\n",
       "      <th id=\"T_c68ba_level0_col1\" class=\"col_heading level0 col1\" >2.000000</th>\n",
       "      <th id=\"T_c68ba_level0_col2\" class=\"col_heading level0 col2\" >3.000000</th>\n",
       "      <th id=\"T_c68ba_level0_col3\" class=\"col_heading level0 col3\" >4.000000</th>\n",
       "      <th id=\"T_c68ba_level0_col4\" class=\"col_heading level0 col4\" >5.000000</th>\n",
       "      <th id=\"T_c68ba_level0_col5\" class=\"col_heading level0 col5\" >6.000000</th>\n",
       "      <th id=\"T_c68ba_level0_col6\" class=\"col_heading level0 col6\" >7.000000</th>\n",
       "      <th id=\"T_c68ba_level0_col7\" class=\"col_heading level0 col7\" >8.000000</th>\n",
       "      <th id=\"T_c68ba_level0_col8\" class=\"col_heading level0 col8\" >9.000000</th>\n",
       "      <th id=\"T_c68ba_level0_col9\" class=\"col_heading level0 col9\" >10.000000</th>\n",
       "      <th id=\"T_c68ba_level0_col10\" class=\"col_heading level0 col10\" >11.000000</th>\n",
       "      <th id=\"T_c68ba_level0_col11\" class=\"col_heading level0 col11\" >12.000000</th>\n",
       "      <th id=\"T_c68ba_level0_col12\" class=\"col_heading level0 col12\" >13.000000</th>\n",
       "      <th id=\"T_c68ba_level0_col13\" class=\"col_heading level0 col13\" >14.000000</th>\n",
       "      <th id=\"T_c68ba_level0_col14\" class=\"col_heading level0 col14\" >15.000000</th>\n",
       "      <th id=\"T_c68ba_level0_col15\" class=\"col_heading level0 col15\" >16.000000</th>\n",
       "      <th id=\"T_c68ba_level0_col16\" class=\"col_heading level0 col16\" >17.000000</th>\n",
       "    </tr>\n",
       "    <tr>\n",
       "      <th class=\"index_name level0\" >map_label</th>\n",
       "      <th class=\"blank col0\" >&nbsp;</th>\n",
       "      <th class=\"blank col1\" >&nbsp;</th>\n",
       "      <th class=\"blank col2\" >&nbsp;</th>\n",
       "      <th class=\"blank col3\" >&nbsp;</th>\n",
       "      <th class=\"blank col4\" >&nbsp;</th>\n",
       "      <th class=\"blank col5\" >&nbsp;</th>\n",
       "      <th class=\"blank col6\" >&nbsp;</th>\n",
       "      <th class=\"blank col7\" >&nbsp;</th>\n",
       "      <th class=\"blank col8\" >&nbsp;</th>\n",
       "      <th class=\"blank col9\" >&nbsp;</th>\n",
       "      <th class=\"blank col10\" >&nbsp;</th>\n",
       "      <th class=\"blank col11\" >&nbsp;</th>\n",
       "      <th class=\"blank col12\" >&nbsp;</th>\n",
       "      <th class=\"blank col13\" >&nbsp;</th>\n",
       "      <th class=\"blank col14\" >&nbsp;</th>\n",
       "      <th class=\"blank col15\" >&nbsp;</th>\n",
       "      <th class=\"blank col16\" >&nbsp;</th>\n",
       "    </tr>\n",
       "  </thead>\n",
       "  <tbody>\n",
       "    <tr>\n",
       "      <th id=\"T_c68ba_level0_row0\" class=\"row_heading level0 row0\" >1</th>\n",
       "      <td id=\"T_c68ba_row0_col0\" class=\"data row0 col0\" >0.000244</td>\n",
       "      <td id=\"T_c68ba_row0_col1\" class=\"data row0 col1\" >0.009800</td>\n",
       "      <td id=\"T_c68ba_row0_col2\" class=\"data row0 col2\" >0.004320</td>\n",
       "      <td id=\"T_c68ba_row0_col3\" class=\"data row0 col3\" >0.003949</td>\n",
       "      <td id=\"T_c68ba_row0_col4\" class=\"data row0 col4\" >0.098718</td>\n",
       "      <td id=\"T_c68ba_row0_col5\" class=\"data row0 col5\" >0.771797</td>\n",
       "      <td id=\"T_c68ba_row0_col6\" class=\"data row0 col6\" >0.000003</td>\n",
       "      <td id=\"T_c68ba_row0_col7\" class=\"data row0 col7\" >0.022409</td>\n",
       "      <td id=\"T_c68ba_row0_col8\" class=\"data row0 col8\" >0.070809</td>\n",
       "      <td id=\"T_c68ba_row0_col9\" class=\"data row0 col9\" >0.000210</td>\n",
       "      <td id=\"T_c68ba_row0_col10\" class=\"data row0 col10\" >0.005038</td>\n",
       "      <td id=\"T_c68ba_row0_col11\" class=\"data row0 col11\" >0.004012</td>\n",
       "      <td id=\"T_c68ba_row0_col12\" class=\"data row0 col12\" >0.000000</td>\n",
       "      <td id=\"T_c68ba_row0_col13\" class=\"data row0 col13\" >0.008615</td>\n",
       "      <td id=\"T_c68ba_row0_col14\" class=\"data row0 col14\" >0.000017</td>\n",
       "      <td id=\"T_c68ba_row0_col15\" class=\"data row0 col15\" >0.000006</td>\n",
       "      <td id=\"T_c68ba_row0_col16\" class=\"data row0 col16\" >0.000054</td>\n",
       "    </tr>\n",
       "    <tr>\n",
       "      <th id=\"T_c68ba_level0_row1\" class=\"row_heading level0 row1\" >2</th>\n",
       "      <td id=\"T_c68ba_row1_col0\" class=\"data row1 col0\" >0.007245</td>\n",
       "      <td id=\"T_c68ba_row1_col1\" class=\"data row1 col1\" >0.233480</td>\n",
       "      <td id=\"T_c68ba_row1_col2\" class=\"data row1 col2\" >0.029234</td>\n",
       "      <td id=\"T_c68ba_row1_col3\" class=\"data row1 col3\" >0.029432</td>\n",
       "      <td id=\"T_c68ba_row1_col4\" class=\"data row1 col4\" >0.245145</td>\n",
       "      <td id=\"T_c68ba_row1_col5\" class=\"data row1 col5\" >0.387011</td>\n",
       "      <td id=\"T_c68ba_row1_col6\" class=\"data row1 col6\" >0.000000</td>\n",
       "      <td id=\"T_c68ba_row1_col7\" class=\"data row1 col7\" >0.034139</td>\n",
       "      <td id=\"T_c68ba_row1_col8\" class=\"data row1 col8\" >0.027674</td>\n",
       "      <td id=\"T_c68ba_row1_col9\" class=\"data row1 col9\" >0.002725</td>\n",
       "      <td id=\"T_c68ba_row1_col10\" class=\"data row1 col10\" >0.001234</td>\n",
       "      <td id=\"T_c68ba_row1_col11\" class=\"data row1 col11\" >0.000582</td>\n",
       "      <td id=\"T_c68ba_row1_col12\" class=\"data row1 col12\" >0.000000</td>\n",
       "      <td id=\"T_c68ba_row1_col13\" class=\"data row1 col13\" >0.002001</td>\n",
       "      <td id=\"T_c68ba_row1_col14\" class=\"data row1 col14\" >0.000007</td>\n",
       "      <td id=\"T_c68ba_row1_col15\" class=\"data row1 col15\" >0.000010</td>\n",
       "      <td id=\"T_c68ba_row1_col16\" class=\"data row1 col16\" >0.000080</td>\n",
       "    </tr>\n",
       "    <tr>\n",
       "      <th id=\"T_c68ba_level0_row2\" class=\"row_heading level0 row2\" >3</th>\n",
       "      <td id=\"T_c68ba_row2_col0\" class=\"data row2 col0\" >0.148966</td>\n",
       "      <td id=\"T_c68ba_row2_col1\" class=\"data row2 col1\" >0.000000</td>\n",
       "      <td id=\"T_c68ba_row2_col2\" class=\"data row2 col2\" >0.000000</td>\n",
       "      <td id=\"T_c68ba_row2_col3\" class=\"data row2 col3\" >0.008276</td>\n",
       "      <td id=\"T_c68ba_row2_col4\" class=\"data row2 col4\" >0.001379</td>\n",
       "      <td id=\"T_c68ba_row2_col5\" class=\"data row2 col5\" >0.103448</td>\n",
       "      <td id=\"T_c68ba_row2_col6\" class=\"data row2 col6\" >0.000000</td>\n",
       "      <td id=\"T_c68ba_row2_col7\" class=\"data row2 col7\" >0.624828</td>\n",
       "      <td id=\"T_c68ba_row2_col8\" class=\"data row2 col8\" >0.000000</td>\n",
       "      <td id=\"T_c68ba_row2_col9\" class=\"data row2 col9\" >0.110345</td>\n",
       "      <td id=\"T_c68ba_row2_col10\" class=\"data row2 col10\" >0.002759</td>\n",
       "      <td id=\"T_c68ba_row2_col11\" class=\"data row2 col11\" >0.000000</td>\n",
       "      <td id=\"T_c68ba_row2_col12\" class=\"data row2 col12\" >0.000000</td>\n",
       "      <td id=\"T_c68ba_row2_col13\" class=\"data row2 col13\" >0.000000</td>\n",
       "      <td id=\"T_c68ba_row2_col14\" class=\"data row2 col14\" >0.000000</td>\n",
       "      <td id=\"T_c68ba_row2_col15\" class=\"data row2 col15\" >0.000000</td>\n",
       "      <td id=\"T_c68ba_row2_col16\" class=\"data row2 col16\" >0.000000</td>\n",
       "    </tr>\n",
       "    <tr>\n",
       "      <th id=\"T_c68ba_level0_row3\" class=\"row_heading level0 row3\" >4</th>\n",
       "      <td id=\"T_c68ba_row3_col0\" class=\"data row3 col0\" >0.287554</td>\n",
       "      <td id=\"T_c68ba_row3_col1\" class=\"data row3 col1\" >0.014306</td>\n",
       "      <td id=\"T_c68ba_row3_col2\" class=\"data row3 col2\" >0.000000</td>\n",
       "      <td id=\"T_c68ba_row3_col3\" class=\"data row3 col3\" >0.001431</td>\n",
       "      <td id=\"T_c68ba_row3_col4\" class=\"data row3 col4\" >0.000000</td>\n",
       "      <td id=\"T_c68ba_row3_col5\" class=\"data row3 col5\" >0.010014</td>\n",
       "      <td id=\"T_c68ba_row3_col6\" class=\"data row3 col6\" >0.000000</td>\n",
       "      <td id=\"T_c68ba_row3_col7\" class=\"data row3 col7\" >0.682403</td>\n",
       "      <td id=\"T_c68ba_row3_col8\" class=\"data row3 col8\" >0.000000</td>\n",
       "      <td id=\"T_c68ba_row3_col9\" class=\"data row3 col9\" >0.000000</td>\n",
       "      <td id=\"T_c68ba_row3_col10\" class=\"data row3 col10\" >0.000000</td>\n",
       "      <td id=\"T_c68ba_row3_col11\" class=\"data row3 col11\" >0.000000</td>\n",
       "      <td id=\"T_c68ba_row3_col12\" class=\"data row3 col12\" >0.000000</td>\n",
       "      <td id=\"T_c68ba_row3_col13\" class=\"data row3 col13\" >0.001431</td>\n",
       "      <td id=\"T_c68ba_row3_col14\" class=\"data row3 col14\" >0.002861</td>\n",
       "      <td id=\"T_c68ba_row3_col15\" class=\"data row3 col15\" >0.000000</td>\n",
       "      <td id=\"T_c68ba_row3_col16\" class=\"data row3 col16\" >0.000000</td>\n",
       "    </tr>\n",
       "    <tr>\n",
       "      <th id=\"T_c68ba_level0_row4\" class=\"row_heading level0 row4\" >5</th>\n",
       "      <td id=\"T_c68ba_row4_col0\" class=\"data row4 col0\" >0.000064</td>\n",
       "      <td id=\"T_c68ba_row4_col1\" class=\"data row4 col1\" >0.000912</td>\n",
       "      <td id=\"T_c68ba_row4_col2\" class=\"data row4 col2\" >0.000364</td>\n",
       "      <td id=\"T_c68ba_row4_col3\" class=\"data row4 col3\" >0.000471</td>\n",
       "      <td id=\"T_c68ba_row4_col4\" class=\"data row4 col4\" >0.049864</td>\n",
       "      <td id=\"T_c68ba_row4_col5\" class=\"data row4 col5\" >0.797926</td>\n",
       "      <td id=\"T_c68ba_row4_col6\" class=\"data row4 col6\" >0.000003</td>\n",
       "      <td id=\"T_c68ba_row4_col7\" class=\"data row4 col7\" >0.009366</td>\n",
       "      <td id=\"T_c68ba_row4_col8\" class=\"data row4 col8\" >0.105799</td>\n",
       "      <td id=\"T_c68ba_row4_col9\" class=\"data row4 col9\" >0.000194</td>\n",
       "      <td id=\"T_c68ba_row4_col10\" class=\"data row4 col10\" >0.012398</td>\n",
       "      <td id=\"T_c68ba_row4_col11\" class=\"data row4 col11\" >0.009342</td>\n",
       "      <td id=\"T_c68ba_row4_col12\" class=\"data row4 col12\" >0.000000</td>\n",
       "      <td id=\"T_c68ba_row4_col13\" class=\"data row4 col13\" >0.013195</td>\n",
       "      <td id=\"T_c68ba_row4_col14\" class=\"data row4 col14\" >0.000000</td>\n",
       "      <td id=\"T_c68ba_row4_col15\" class=\"data row4 col15\" >0.000002</td>\n",
       "      <td id=\"T_c68ba_row4_col16\" class=\"data row4 col16\" >0.000099</td>\n",
       "    </tr>\n",
       "    <tr>\n",
       "      <th id=\"T_c68ba_level0_row5\" class=\"row_heading level0 row5\" >6</th>\n",
       "      <td id=\"T_c68ba_row5_col0\" class=\"data row5 col0\" >0.000009</td>\n",
       "      <td id=\"T_c68ba_row5_col1\" class=\"data row5 col1\" >0.000275</td>\n",
       "      <td id=\"T_c68ba_row5_col2\" class=\"data row5 col2\" >0.000384</td>\n",
       "      <td id=\"T_c68ba_row5_col3\" class=\"data row5 col3\" >0.000221</td>\n",
       "      <td id=\"T_c68ba_row5_col4\" class=\"data row5 col4\" >0.021977</td>\n",
       "      <td id=\"T_c68ba_row5_col5\" class=\"data row5 col5\" >0.806686</td>\n",
       "      <td id=\"T_c68ba_row5_col6\" class=\"data row5 col6\" >0.000000</td>\n",
       "      <td id=\"T_c68ba_row5_col7\" class=\"data row5 col7\" >0.005677</td>\n",
       "      <td id=\"T_c68ba_row5_col8\" class=\"data row5 col8\" >0.135083</td>\n",
       "      <td id=\"T_c68ba_row5_col9\" class=\"data row5 col9\" >0.000024</td>\n",
       "      <td id=\"T_c68ba_row5_col10\" class=\"data row5 col10\" >0.006612</td>\n",
       "      <td id=\"T_c68ba_row5_col11\" class=\"data row5 col11\" >0.007749</td>\n",
       "      <td id=\"T_c68ba_row5_col12\" class=\"data row5 col12\" >0.000000</td>\n",
       "      <td id=\"T_c68ba_row5_col13\" class=\"data row5 col13\" >0.015258</td>\n",
       "      <td id=\"T_c68ba_row5_col14\" class=\"data row5 col14\" >0.000003</td>\n",
       "      <td id=\"T_c68ba_row5_col15\" class=\"data row5 col15\" >0.000007</td>\n",
       "      <td id=\"T_c68ba_row5_col16\" class=\"data row5 col16\" >0.000036</td>\n",
       "    </tr>\n",
       "    <tr>\n",
       "      <th id=\"T_c68ba_level0_row6\" class=\"row_heading level0 row6\" >7</th>\n",
       "      <td id=\"T_c68ba_row6_col0\" class=\"data row6 col0\" >0.000065</td>\n",
       "      <td id=\"T_c68ba_row6_col1\" class=\"data row6 col1\" >0.000035</td>\n",
       "      <td id=\"T_c68ba_row6_col2\" class=\"data row6 col2\" >0.000049</td>\n",
       "      <td id=\"T_c68ba_row6_col3\" class=\"data row6 col3\" >0.000069</td>\n",
       "      <td id=\"T_c68ba_row6_col4\" class=\"data row6 col4\" >0.007427</td>\n",
       "      <td id=\"T_c68ba_row6_col5\" class=\"data row6 col5\" >0.529825</td>\n",
       "      <td id=\"T_c68ba_row6_col6\" class=\"data row6 col6\" >0.000001</td>\n",
       "      <td id=\"T_c68ba_row6_col7\" class=\"data row6 col7\" >0.004683</td>\n",
       "      <td id=\"T_c68ba_row6_col8\" class=\"data row6 col8\" >0.327147</td>\n",
       "      <td id=\"T_c68ba_row6_col9\" class=\"data row6 col9\" >0.000037</td>\n",
       "      <td id=\"T_c68ba_row6_col10\" class=\"data row6 col10\" >0.037836</td>\n",
       "      <td id=\"T_c68ba_row6_col11\" class=\"data row6 col11\" >0.048059</td>\n",
       "      <td id=\"T_c68ba_row6_col12\" class=\"data row6 col12\" >0.000000</td>\n",
       "      <td id=\"T_c68ba_row6_col13\" class=\"data row6 col13\" >0.044581</td>\n",
       "      <td id=\"T_c68ba_row6_col14\" class=\"data row6 col14\" >0.000026</td>\n",
       "      <td id=\"T_c68ba_row6_col15\" class=\"data row6 col15\" >0.000007</td>\n",
       "      <td id=\"T_c68ba_row6_col16\" class=\"data row6 col16\" >0.000153</td>\n",
       "    </tr>\n",
       "    <tr>\n",
       "      <th id=\"T_c68ba_level0_row7\" class=\"row_heading level0 row7\" >8</th>\n",
       "      <td id=\"T_c68ba_row7_col0\" class=\"data row7 col0\" >0.000017</td>\n",
       "      <td id=\"T_c68ba_row7_col1\" class=\"data row7 col1\" >0.000192</td>\n",
       "      <td id=\"T_c68ba_row7_col2\" class=\"data row7 col2\" >0.000162</td>\n",
       "      <td id=\"T_c68ba_row7_col3\" class=\"data row7 col3\" >0.000295</td>\n",
       "      <td id=\"T_c68ba_row7_col4\" class=\"data row7 col4\" >0.011843</td>\n",
       "      <td id=\"T_c68ba_row7_col5\" class=\"data row7 col5\" >0.407233</td>\n",
       "      <td id=\"T_c68ba_row7_col6\" class=\"data row7 col6\" >0.000000</td>\n",
       "      <td id=\"T_c68ba_row7_col7\" class=\"data row7 col7\" >0.010010</td>\n",
       "      <td id=\"T_c68ba_row7_col8\" class=\"data row7 col8\" >0.408081</td>\n",
       "      <td id=\"T_c68ba_row7_col9\" class=\"data row7 col9\" >0.000041</td>\n",
       "      <td id=\"T_c68ba_row7_col10\" class=\"data row7 col10\" >0.029654</td>\n",
       "      <td id=\"T_c68ba_row7_col11\" class=\"data row7 col11\" >0.046727</td>\n",
       "      <td id=\"T_c68ba_row7_col12\" class=\"data row7 col12\" >0.000000</td>\n",
       "      <td id=\"T_c68ba_row7_col13\" class=\"data row7 col13\" >0.085506</td>\n",
       "      <td id=\"T_c68ba_row7_col14\" class=\"data row7 col14\" >0.000084</td>\n",
       "      <td id=\"T_c68ba_row7_col15\" class=\"data row7 col15\" >0.000017</td>\n",
       "      <td id=\"T_c68ba_row7_col16\" class=\"data row7 col16\" >0.000136</td>\n",
       "    </tr>\n",
       "    <tr>\n",
       "      <th id=\"T_c68ba_level0_row8\" class=\"row_heading level0 row8\" >9</th>\n",
       "      <td id=\"T_c68ba_row8_col0\" class=\"data row8 col0\" >0.000164</td>\n",
       "      <td id=\"T_c68ba_row8_col1\" class=\"data row8 col1\" >0.000145</td>\n",
       "      <td id=\"T_c68ba_row8_col2\" class=\"data row8 col2\" >0.000043</td>\n",
       "      <td id=\"T_c68ba_row8_col3\" class=\"data row8 col3\" >0.000385</td>\n",
       "      <td id=\"T_c68ba_row8_col4\" class=\"data row8 col4\" >0.000846</td>\n",
       "      <td id=\"T_c68ba_row8_col5\" class=\"data row8 col5\" >0.016929</td>\n",
       "      <td id=\"T_c68ba_row8_col6\" class=\"data row8 col6\" >0.000000</td>\n",
       "      <td id=\"T_c68ba_row8_col7\" class=\"data row8 col7\" >0.008588</td>\n",
       "      <td id=\"T_c68ba_row8_col8\" class=\"data row8 col8\" >0.275312</td>\n",
       "      <td id=\"T_c68ba_row8_col9\" class=\"data row8 col9\" >0.000653</td>\n",
       "      <td id=\"T_c68ba_row8_col10\" class=\"data row8 col10\" >0.067578</td>\n",
       "      <td id=\"T_c68ba_row8_col11\" class=\"data row8 col11\" >0.181480</td>\n",
       "      <td id=\"T_c68ba_row8_col12\" class=\"data row8 col12\" >0.000001</td>\n",
       "      <td id=\"T_c68ba_row8_col13\" class=\"data row8 col13\" >0.446917</td>\n",
       "      <td id=\"T_c68ba_row8_col14\" class=\"data row8 col14\" >0.000502</td>\n",
       "      <td id=\"T_c68ba_row8_col15\" class=\"data row8 col15\" >0.000087</td>\n",
       "      <td id=\"T_c68ba_row8_col16\" class=\"data row8 col16\" >0.000372</td>\n",
       "    </tr>\n",
       "    <tr>\n",
       "      <th id=\"T_c68ba_level0_row9\" class=\"row_heading level0 row9\" >10</th>\n",
       "      <td id=\"T_c68ba_row9_col0\" class=\"data row9 col0\" >0.000301</td>\n",
       "      <td id=\"T_c68ba_row9_col1\" class=\"data row9 col1\" >0.000000</td>\n",
       "      <td id=\"T_c68ba_row9_col2\" class=\"data row9 col2\" >0.000000</td>\n",
       "      <td id=\"T_c68ba_row9_col3\" class=\"data row9 col3\" >0.003310</td>\n",
       "      <td id=\"T_c68ba_row9_col4\" class=\"data row9 col4\" >0.000000</td>\n",
       "      <td id=\"T_c68ba_row9_col5\" class=\"data row9 col5\" >0.061390</td>\n",
       "      <td id=\"T_c68ba_row9_col6\" class=\"data row9 col6\" >0.000000</td>\n",
       "      <td id=\"T_c68ba_row9_col7\" class=\"data row9 col7\" >0.656335</td>\n",
       "      <td id=\"T_c68ba_row9_col8\" class=\"data row9 col8\" >0.025278</td>\n",
       "      <td id=\"T_c68ba_row9_col9\" class=\"data row9 col9\" >0.230816</td>\n",
       "      <td id=\"T_c68ba_row9_col10\" class=\"data row9 col10\" >0.000602</td>\n",
       "      <td id=\"T_c68ba_row9_col11\" class=\"data row9 col11\" >0.003310</td>\n",
       "      <td id=\"T_c68ba_row9_col12\" class=\"data row9 col12\" >0.000000</td>\n",
       "      <td id=\"T_c68ba_row9_col13\" class=\"data row9 col13\" >0.018056</td>\n",
       "      <td id=\"T_c68ba_row9_col14\" class=\"data row9 col14\" >0.000000</td>\n",
       "      <td id=\"T_c68ba_row9_col15\" class=\"data row9 col15\" >0.000000</td>\n",
       "      <td id=\"T_c68ba_row9_col16\" class=\"data row9 col16\" >0.000602</td>\n",
       "    </tr>\n",
       "    <tr>\n",
       "      <th id=\"T_c68ba_level0_row10\" class=\"row_heading level0 row10\" >11</th>\n",
       "      <td id=\"T_c68ba_row10_col0\" class=\"data row10 col0\" >0.000000</td>\n",
       "      <td id=\"T_c68ba_row10_col1\" class=\"data row10 col1\" >0.000000</td>\n",
       "      <td id=\"T_c68ba_row10_col2\" class=\"data row10 col2\" >0.000002</td>\n",
       "      <td id=\"T_c68ba_row10_col3\" class=\"data row10 col3\" >0.000191</td>\n",
       "      <td id=\"T_c68ba_row10_col4\" class=\"data row10 col4\" >0.000082</td>\n",
       "      <td id=\"T_c68ba_row10_col5\" class=\"data row10 col5\" >0.035741</td>\n",
       "      <td id=\"T_c68ba_row10_col6\" class=\"data row10 col6\" >0.000000</td>\n",
       "      <td id=\"T_c68ba_row10_col7\" class=\"data row10 col7\" >0.002699</td>\n",
       "      <td id=\"T_c68ba_row10_col8\" class=\"data row10 col8\" >0.580791</td>\n",
       "      <td id=\"T_c68ba_row10_col9\" class=\"data row10 col9\" >0.000442</td>\n",
       "      <td id=\"T_c68ba_row10_col10\" class=\"data row10 col10\" >0.029000</td>\n",
       "      <td id=\"T_c68ba_row10_col11\" class=\"data row10 col11\" >0.073278</td>\n",
       "      <td id=\"T_c68ba_row10_col12\" class=\"data row10 col12\" >0.000000</td>\n",
       "      <td id=\"T_c68ba_row10_col13\" class=\"data row10 col13\" >0.277580</td>\n",
       "      <td id=\"T_c68ba_row10_col14\" class=\"data row10 col14\" >0.000020</td>\n",
       "      <td id=\"T_c68ba_row10_col15\" class=\"data row10 col15\" >0.000061</td>\n",
       "      <td id=\"T_c68ba_row10_col16\" class=\"data row10 col16\" >0.000112</td>\n",
       "    </tr>\n",
       "    <tr>\n",
       "      <th id=\"T_c68ba_level0_row11\" class=\"row_heading level0 row11\" >12</th>\n",
       "      <td id=\"T_c68ba_row11_col0\" class=\"data row11 col0\" >0.000114</td>\n",
       "      <td id=\"T_c68ba_row11_col1\" class=\"data row11 col1\" >0.000013</td>\n",
       "      <td id=\"T_c68ba_row11_col2\" class=\"data row11 col2\" >0.000003</td>\n",
       "      <td id=\"T_c68ba_row11_col3\" class=\"data row11 col3\" >0.000012</td>\n",
       "      <td id=\"T_c68ba_row11_col4\" class=\"data row11 col4\" >0.000526</td>\n",
       "      <td id=\"T_c68ba_row11_col5\" class=\"data row11 col5\" >0.065502</td>\n",
       "      <td id=\"T_c68ba_row11_col6\" class=\"data row11 col6\" >0.000003</td>\n",
       "      <td id=\"T_c68ba_row11_col7\" class=\"data row11 col7\" >0.003982</td>\n",
       "      <td id=\"T_c68ba_row11_col8\" class=\"data row11 col8\" >0.518817</td>\n",
       "      <td id=\"T_c68ba_row11_col9\" class=\"data row11 col9\" >0.000319</td>\n",
       "      <td id=\"T_c68ba_row11_col10\" class=\"data row11 col10\" >0.039197</td>\n",
       "      <td id=\"T_c68ba_row11_col11\" class=\"data row11 col11\" >0.093868</td>\n",
       "      <td id=\"T_c68ba_row11_col12\" class=\"data row11 col12\" >0.000006</td>\n",
       "      <td id=\"T_c68ba_row11_col13\" class=\"data row11 col13\" >0.277177</td>\n",
       "      <td id=\"T_c68ba_row11_col14\" class=\"data row11 col14\" >0.000066</td>\n",
       "      <td id=\"T_c68ba_row11_col15\" class=\"data row11 col15\" >0.000078</td>\n",
       "      <td id=\"T_c68ba_row11_col16\" class=\"data row11 col16\" >0.000318</td>\n",
       "    </tr>\n",
       "    <tr>\n",
       "      <th id=\"T_c68ba_level0_row12\" class=\"row_heading level0 row12\" >13</th>\n",
       "      <td id=\"T_c68ba_row12_col0\" class=\"data row12 col0\" >0.000047</td>\n",
       "      <td id=\"T_c68ba_row12_col1\" class=\"data row12 col1\" >0.000090</td>\n",
       "      <td id=\"T_c68ba_row12_col2\" class=\"data row12 col2\" >0.000080</td>\n",
       "      <td id=\"T_c68ba_row12_col3\" class=\"data row12 col3\" >0.000237</td>\n",
       "      <td id=\"T_c68ba_row12_col4\" class=\"data row12 col4\" >0.006482</td>\n",
       "      <td id=\"T_c68ba_row12_col5\" class=\"data row12 col5\" >0.203798</td>\n",
       "      <td id=\"T_c68ba_row12_col6\" class=\"data row12 col6\" >0.000003</td>\n",
       "      <td id=\"T_c68ba_row12_col7\" class=\"data row12 col7\" >0.011433</td>\n",
       "      <td id=\"T_c68ba_row12_col8\" class=\"data row12 col8\" >0.372421</td>\n",
       "      <td id=\"T_c68ba_row12_col9\" class=\"data row12 col9\" >0.000155</td>\n",
       "      <td id=\"T_c68ba_row12_col10\" class=\"data row12 col10\" >0.067535</td>\n",
       "      <td id=\"T_c68ba_row12_col11\" class=\"data row12 col11\" >0.145781</td>\n",
       "      <td id=\"T_c68ba_row12_col12\" class=\"data row12 col12\" >0.000003</td>\n",
       "      <td id=\"T_c68ba_row12_col13\" class=\"data row12 col13\" >0.191018</td>\n",
       "      <td id=\"T_c68ba_row12_col14\" class=\"data row12 col14\" >0.000519</td>\n",
       "      <td id=\"T_c68ba_row12_col15\" class=\"data row12 col15\" >0.000055</td>\n",
       "      <td id=\"T_c68ba_row12_col16\" class=\"data row12 col16\" >0.000344</td>\n",
       "    </tr>\n",
       "    <tr>\n",
       "      <th id=\"T_c68ba_level0_row13\" class=\"row_heading level0 row13\" >14</th>\n",
       "      <td id=\"T_c68ba_row13_col0\" class=\"data row13 col0\" >0.000135</td>\n",
       "      <td id=\"T_c68ba_row13_col1\" class=\"data row13 col1\" >0.000075</td>\n",
       "      <td id=\"T_c68ba_row13_col2\" class=\"data row13 col2\" >0.000053</td>\n",
       "      <td id=\"T_c68ba_row13_col3\" class=\"data row13 col3\" >0.000117</td>\n",
       "      <td id=\"T_c68ba_row13_col4\" class=\"data row13 col4\" >0.002640</td>\n",
       "      <td id=\"T_c68ba_row13_col5\" class=\"data row13 col5\" >0.167494</td>\n",
       "      <td id=\"T_c68ba_row13_col6\" class=\"data row13 col6\" >0.000003</td>\n",
       "      <td id=\"T_c68ba_row13_col7\" class=\"data row13 col7\" >0.008889</td>\n",
       "      <td id=\"T_c68ba_row13_col8\" class=\"data row13 col8\" >0.469401</td>\n",
       "      <td id=\"T_c68ba_row13_col9\" class=\"data row13 col9\" >0.000218</td>\n",
       "      <td id=\"T_c68ba_row13_col10\" class=\"data row13 col10\" >0.060265</td>\n",
       "      <td id=\"T_c68ba_row13_col11\" class=\"data row13 col11\" >0.107163</td>\n",
       "      <td id=\"T_c68ba_row13_col12\" class=\"data row13 col12\" >0.000001</td>\n",
       "      <td id=\"T_c68ba_row13_col13\" class=\"data row13 col13\" >0.182904</td>\n",
       "      <td id=\"T_c68ba_row13_col14\" class=\"data row13 col14\" >0.000139</td>\n",
       "      <td id=\"T_c68ba_row13_col15\" class=\"data row13 col15\" >0.000041</td>\n",
       "      <td id=\"T_c68ba_row13_col16\" class=\"data row13 col16\" >0.000462</td>\n",
       "    </tr>\n",
       "    <tr>\n",
       "      <th id=\"T_c68ba_level0_row14\" class=\"row_heading level0 row14\" >15</th>\n",
       "      <td id=\"T_c68ba_row14_col0\" class=\"data row14 col0\" >0.002160</td>\n",
       "      <td id=\"T_c68ba_row14_col1\" class=\"data row14 col1\" >0.002603</td>\n",
       "      <td id=\"T_c68ba_row14_col2\" class=\"data row14 col2\" >0.001781</td>\n",
       "      <td id=\"T_c68ba_row14_col3\" class=\"data row14 col3\" >0.005379</td>\n",
       "      <td id=\"T_c68ba_row14_col4\" class=\"data row14 col4\" >0.046773</td>\n",
       "      <td id=\"T_c68ba_row14_col5\" class=\"data row14 col5\" >0.302361</td>\n",
       "      <td id=\"T_c68ba_row14_col6\" class=\"data row14 col6\" >0.000000</td>\n",
       "      <td id=\"T_c68ba_row14_col7\" class=\"data row14 col7\" >0.396964</td>\n",
       "      <td id=\"T_c68ba_row14_col8\" class=\"data row14 col8\" >0.116891</td>\n",
       "      <td id=\"T_c68ba_row14_col9\" class=\"data row14 col9\" >0.007308</td>\n",
       "      <td id=\"T_c68ba_row14_col10\" class=\"data row14 col10\" >0.020382</td>\n",
       "      <td id=\"T_c68ba_row14_col11\" class=\"data row14 col11\" >0.031428</td>\n",
       "      <td id=\"T_c68ba_row14_col12\" class=\"data row14 col12\" >0.000000</td>\n",
       "      <td id=\"T_c68ba_row14_col13\" class=\"data row14 col13\" >0.065134</td>\n",
       "      <td id=\"T_c68ba_row14_col14\" class=\"data row14 col14\" >0.000175</td>\n",
       "      <td id=\"T_c68ba_row14_col15\" class=\"data row14 col15\" >0.000247</td>\n",
       "      <td id=\"T_c68ba_row14_col16\" class=\"data row14 col16\" >0.000414</td>\n",
       "    </tr>\n",
       "    <tr>\n",
       "      <th id=\"T_c68ba_level0_row15\" class=\"row_heading level0 row15\" >16</th>\n",
       "      <td id=\"T_c68ba_row15_col0\" class=\"data row15 col0\" >0.000741</td>\n",
       "      <td id=\"T_c68ba_row15_col1\" class=\"data row15 col1\" >0.002988</td>\n",
       "      <td id=\"T_c68ba_row15_col2\" class=\"data row15 col2\" >0.002538</td>\n",
       "      <td id=\"T_c68ba_row15_col3\" class=\"data row15 col3\" >0.007750</td>\n",
       "      <td id=\"T_c68ba_row15_col4\" class=\"data row15 col4\" >0.178804</td>\n",
       "      <td id=\"T_c68ba_row15_col5\" class=\"data row15 col5\" >0.523979</td>\n",
       "      <td id=\"T_c68ba_row15_col6\" class=\"data row15 col6\" >0.000000</td>\n",
       "      <td id=\"T_c68ba_row15_col7\" class=\"data row15 col7\" >0.141972</td>\n",
       "      <td id=\"T_c68ba_row15_col8\" class=\"data row15 col8\" >0.065497</td>\n",
       "      <td id=\"T_c68ba_row15_col9\" class=\"data row15 col9\" >0.002083</td>\n",
       "      <td id=\"T_c68ba_row15_col10\" class=\"data row15 col10\" >0.015514</td>\n",
       "      <td id=\"T_c68ba_row15_col11\" class=\"data row15 col11\" >0.018791</td>\n",
       "      <td id=\"T_c68ba_row15_col12\" class=\"data row15 col12\" >0.000000</td>\n",
       "      <td id=\"T_c68ba_row15_col13\" class=\"data row15 col13\" >0.038849</td>\n",
       "      <td id=\"T_c68ba_row15_col14\" class=\"data row15 col14\" >0.000022</td>\n",
       "      <td id=\"T_c68ba_row15_col15\" class=\"data row15 col15\" >0.000263</td>\n",
       "      <td id=\"T_c68ba_row15_col16\" class=\"data row15 col16\" >0.000209</td>\n",
       "    </tr>\n",
       "  </tbody>\n",
       "</table>\n"
      ],
      "text/plain": [
       "<pandas.io.formats.style.Styler at 0x7234c330ede0>"
      ]
     },
     "execution_count": 84,
     "metadata": {},
     "output_type": "execute_result"
    }
   ],
   "source": [
    "pd.crosstab(all_data.map_label, all_data.lcz, normalize='index').style.background_gradient(axis=1, cmap=\"BuGn\")"
   ]
  },
  {
   "cell_type": "code",
   "execution_count": null,
   "id": "20fac1b0-9ffd-4c7c-9c61-753d8b619697",
   "metadata": {},
   "outputs": [],
   "source": []
  },
  {
   "cell_type": "code",
   "execution_count": null,
   "id": "f766734d-9956-477b-a9ce-19db932b3b55",
   "metadata": {},
   "outputs": [],
   "source": []
  },
  {
   "cell_type": "code",
   "execution_count": 94,
   "id": "a49fe57c-9031-4bc3-98c1-698b0c7eda7b",
   "metadata": {},
   "outputs": [],
   "source": [
    "# building_utm.iloc[160_000: 190_000].explore(column='lcz', categorical=True, prefer_canvas=True, tiles='cartodb positron')"
   ]
  },
  {
   "cell_type": "code",
   "execution_count": null,
   "id": "be72add9-ac6e-4d85-a582-b10d265d2603",
   "metadata": {},
   "outputs": [],
   "source": []
  },
  {
   "cell_type": "code",
   "execution_count": null,
   "id": "b4b3a68b-130a-49f2-8a09-6253fd29443a",
   "metadata": {},
   "outputs": [],
   "source": []
  },
  {
   "cell_type": "markdown",
   "id": "c1655920-70ec-4649-bc95-aba7f40df794",
   "metadata": {
    "jp-MarkdownHeadingCollapsed": true
   },
   "source": [
    "### Urban atlas"
   ]
  },
  {
   "cell_type": "code",
   "execution_count": null,
   "id": "dc54bda2-8c35-47ee-954b-f34f02a1a1ee",
   "metadata": {},
   "outputs": [],
   "source": []
  },
  {
   "cell_type": "code",
   "execution_count": null,
   "id": "2ef4311c-beab-45e3-b85e-73fab1367110",
   "metadata": {},
   "outputs": [],
   "source": []
  },
  {
   "cell_type": "code",
   "execution_count": 1,
   "id": "5cb22db1-794d-4915-b61c-49c9f736c7eb",
   "metadata": {},
   "outputs": [
    {
     "name": "stdout",
     "output_type": "stream",
     "text": [
      "--2025-01-27 16:05:49--  https://copernicus-fme.eea.europa.eu/clmsdatadownload/results/145772.zip\n",
      "Resolving copernicus-fme.eea.europa.eu (copernicus-fme.eea.europa.eu)... 98.71.17.92\n",
      "Connecting to copernicus-fme.eea.europa.eu (copernicus-fme.eea.europa.eu)|98.71.17.92|:443... connected.\n",
      "HTTP request sent, awaiting response... 200 \n",
      "Length: unspecified [application/zip]\n",
      "Saving to: ‘145772.zip’\n",
      "\n",
      "145772.zip              [ <=>                ]  37,20G  6,30MB/s    in 1h 49m  \n",
      "\n",
      "2025-01-27 17:55:27 (5,79 MB/s) - ‘145772.zip’ saved [39939542404]\n",
      "\n"
     ]
    }
   ],
   "source": [
    "# !wget https://copernicus-fme.eea.europa.eu/clmsdatadownload/results/145772.zip"
   ]
  },
  {
   "cell_type": "code",
   "execution_count": 2,
   "id": "ecb5b3d5-c8f2-4aca-8bda-e6f3abae29ca",
   "metadata": {},
   "outputs": [],
   "source": [
    "# !mv 145772.zip /data/uscuni-ulce/validation/"
   ]
  },
  {
   "cell_type": "code",
   "execution_count": null,
   "id": "c0399055-afe7-4cd1-ba85-353b348dc1b4",
   "metadata": {},
   "outputs": [],
   "source": []
  },
  {
   "cell_type": "code",
   "execution_count": null,
   "id": "f3b919e0-fd8e-4604-a437-7215ddf69379",
   "metadata": {},
   "outputs": [],
   "source": []
  },
  {
   "cell_type": "code",
   "execution_count": null,
   "id": "7b41e86e-5aab-4b74-995d-865995dc67ef",
   "metadata": {},
   "outputs": [],
   "source": []
  },
  {
   "cell_type": "code",
   "execution_count": 2,
   "id": "838c6084-0918-4f81-8ae4-41a7321ee98f",
   "metadata": {
    "scrolled": true
   },
   "outputs": [
    {
     "data": {
      "text/plain": [
       "['/data/uscuni-ulce/validation/Results/AT003L3_LINZ_UA2018_v013.zip',\n",
       " '/data/uscuni-ulce/validation/Results/AT005L3_INNSBRUCK_UA2018_v013.zip',\n",
       " '/data/uscuni-ulce/validation/Results/AT004L3_SALZBURG_UA2018_v013.zip',\n",
       " '/data/uscuni-ulce/validation/Results/AT001L3_WIEN_UA2018_v013.zip',\n",
       " '/data/uscuni-ulce/validation/Results/AT002L3_GRAZ_UA2018_v013.zip',\n",
       " '/data/uscuni-ulce/validation/Results/AT006L2_KLAGENFURT_UA2018_v013.zip',\n",
       " '/data/uscuni-ulce/validation/Results/CZ004L2_PLZEN_UA2018_v013.zip',\n",
       " '/data/uscuni-ulce/validation/Results/CZ001L2_PRAHA_UA2018_v013.zip',\n",
       " '/data/uscuni-ulce/validation/Results/CZ011L2_ZLIN_UA2018_v013.zip',\n",
       " '/data/uscuni-ulce/validation/Results/CZ014L2_JIHLAVA_UA2018_v013.zip',\n",
       " '/data/uscuni-ulce/validation/Results/CZ013L2_KARLOVY_VARY_UA2018_v013.zip',\n",
       " '/data/uscuni-ulce/validation/Results/CZ016L2_MOST_UA2018_v013.zip',\n",
       " '/data/uscuni-ulce/validation/Results/CZ003L2_OSTRAVA_UA2018_v013.zip',\n",
       " '/data/uscuni-ulce/validation/Results/CZ009L2_HRADEC_KRALOVE_UA2018_v013.zip',\n",
       " '/data/uscuni-ulce/validation/Results/CZ008L2_CESKE_BUDEJOVICE_UA2018_v013.zip',\n",
       " '/data/uscuni-ulce/validation/Results/CZ002L2_BRNO_UA2018_v013.zip',\n",
       " '/data/uscuni-ulce/validation/Results/CZ007L2_LIBEREC_UA2018_v013.zip',\n",
       " '/data/uscuni-ulce/validation/Results/CZ005L2_USTI_NAD_LABEM_UA2018_v013.zip',\n",
       " '/data/uscuni-ulce/validation/Results/CZ010L2_PARDUBICE_UA2018_v013.zip',\n",
       " '/data/uscuni-ulce/validation/Results/CZ006L2_OLOMOUC_UA2018_v013.zip',\n",
       " '/data/uscuni-ulce/validation/Results/CZ018L2_CHOMUTOV_JIRKOV_UA2018_v013.zip',\n",
       " '/data/uscuni-ulce/validation/Results/SK005L1_PRESOV_UA2018_v013.zip',\n",
       " '/data/uscuni-ulce/validation/Results/SK004L1_NITRA_UA2018_v013.zip',\n",
       " '/data/uscuni-ulce/validation/Results/SK008L1_TRENCIN_UA2018_v013.zip',\n",
       " '/data/uscuni-ulce/validation/Results/SK007L1_TRNAVA_UA2018_v013.zip',\n",
       " '/data/uscuni-ulce/validation/Results/SK003L1_BANSKA_BYSTRICA_UA2018_v013.zip',\n",
       " '/data/uscuni-ulce/validation/Results/SK001L1_BRATISLAVA_UA2018_v013.zip',\n",
       " '/data/uscuni-ulce/validation/Results/SK002L1_KOSICE_UA2018_v013.zip',\n",
       " '/data/uscuni-ulce/validation/Results/SK006L1_ZILINA_UA2018_v013.zip',\n",
       " '/data/uscuni-ulce/validation/Results/PL511L2_WALBRZYCH_UA2018_v013.zip',\n",
       " '/data/uscuni-ulce/validation/Results/PL032L1_PIOTRKOW_TRYBUNALSKI_UA2018_v013.zip',\n",
       " '/data/uscuni-ulce/validation/Results/PL042L1_CHELM_UA2018_v013.zip',\n",
       " '/data/uscuni-ulce/validation/Results/PL051L1_TCZEW_UA2018_v013.zip',\n",
       " '/data/uscuni-ulce/validation/Results/PL037L1_GNIEZNO_UA2018_v013.zip',\n",
       " '/data/uscuni-ulce/validation/Results/PL017L2_GORZOW_WIELKOPOLSKI_UA2018_v013.zip',\n",
       " '/data/uscuni-ulce/validation/Results/PL002L2_LODZ_UA2018_v013.zip',\n",
       " '/data/uscuni-ulce/validation/Results/PL052L1_ELK_UA2018_v013.zip',\n",
       " '/data/uscuni-ulce/validation/Results/PL043L1_PABIANICE_UA2018_v013.zip',\n",
       " '/data/uscuni-ulce/validation/Results/PL005L2_POZNAN_UA2018_v013.zip',\n",
       " '/data/uscuni-ulce/validation/Results/PL004L2_WROCLAW_UA2018_v013.zip',\n",
       " '/data/uscuni-ulce/validation/Results/PL024L2_CZESTOCHOWA_UA2018_v013.zip',\n",
       " '/data/uscuni-ulce/validation/Results/PL506L2_BIELSKO_BIALA_UA2018_v013.zip',\n",
       " '/data/uscuni-ulce/validation/Results/PL016L2_OPOLE_UA2018_v013.zip',\n",
       " '/data/uscuni-ulce/validation/Results/PL049L1_SWIDNICA_UA2018_v013.zip',\n",
       " '/data/uscuni-ulce/validation/Results/PL047L1_LOMZA_UA2018_v013.zip',\n",
       " '/data/uscuni-ulce/validation/Results/PL517L2_GRUDZIADZ_UA2018_v013.zip',\n",
       " '/data/uscuni-ulce/validation/Results/PL513L2_WLOCLAWEK_UA2018_v013.zip',\n",
       " '/data/uscuni-ulce/validation/Results/PL045L1_STALOWA_WOLA_UA2018_v013.zip',\n",
       " '/data/uscuni-ulce/validation/Results/PL044L1_GLOGOW_UA2018_v013.zip',\n",
       " '/data/uscuni-ulce/validation/Results/PL011L2_BIALYSTOK_UA2018_v013.zip',\n",
       " '/data/uscuni-ulce/validation/Results/PL019L2_JELENIA_GORA_UA2018_v013.zip',\n",
       " '/data/uscuni-ulce/validation/Results/PL025L2_RADOM_UA2018_v013.zip',\n",
       " '/data/uscuni-ulce/validation/Results/PL026L2_PLOCK_UA2018_v013.zip',\n",
       " '/data/uscuni-ulce/validation/Results/PL001L2_WARSZAWA_UA2018_v013.zip',\n",
       " '/data/uscuni-ulce/validation/Results/PL040L1_PRZEMYSL_UA2018_v013.zip',\n",
       " '/data/uscuni-ulce/validation/Results/PL018L2_ZIELONA_GORA_UA2018_v013.zip',\n",
       " '/data/uscuni-ulce/validation/Results/PL035L1_INOWROCLAW_UA2018_v013.zip',\n",
       " '/data/uscuni-ulce/validation/Results/PL048L1_LESZNO_UA2018_v013.zip',\n",
       " '/data/uscuni-ulce/validation/Results/PL014L2_OLSZTYN_UA2018_v013.zip',\n",
       " '/data/uscuni-ulce/validation/Results/PL508L1_RYBNIK_UA2018_v013.zip',\n",
       " '/data/uscuni-ulce/validation/Results/PL031L1_SIEDLCE_UA2018_v013.zip',\n",
       " '/data/uscuni-ulce/validation/Results/PL015L2_RZESZOW_UA2018_v013.zip',\n",
       " '/data/uscuni-ulce/validation/Results/PL012L2_KIELCE_UA2018_v013.zip',\n",
       " '/data/uscuni-ulce/validation/Results/PL010L2_KATOWICE_UA2018_v013.zip',\n",
       " '/data/uscuni-ulce/validation/Results/PL036L1_OSTROWIEC_SWIETOKRZYSKI_UA2018_v013.zip',\n",
       " '/data/uscuni-ulce/validation/Results/PL041L1_ZAMOSC_UA2018_v013.zip',\n",
       " '/data/uscuni-ulce/validation/Results/PL006L2_GDANSK_UA2018_v013.zip',\n",
       " '/data/uscuni-ulce/validation/Results/PL028L2_KOSZALIN_UA2018_v013.zip',\n",
       " '/data/uscuni-ulce/validation/Results/PL009L2_LUBLIN_UA2018_v013.zip',\n",
       " '/data/uscuni-ulce/validation/Results/PL029L1_SLUPSK_UA2018_v013.zip',\n",
       " '/data/uscuni-ulce/validation/Results/PL038L1_STARGARD_SZCZECINSKI_UA2018_v013.zip',\n",
       " '/data/uscuni-ulce/validation/Results/PL030L1_JASTRZEBIE_ZDROJ_UA2018_v013.zip',\n",
       " '/data/uscuni-ulce/validation/Results/PL027L2_KALISZ_UA2018_v013.zip',\n",
       " '/data/uscuni-ulce/validation/Results/PL021L2_SUWALKI_UA2018_v013.zip',\n",
       " '/data/uscuni-ulce/validation/Results/PL514L2_TARNOW_UA2018_v013.zip',\n",
       " '/data/uscuni-ulce/validation/Results/PL516L2_LEGNICA_UA2018_v013.zip',\n",
       " '/data/uscuni-ulce/validation/Results/PL013L2_TORUN_UA2018_v013.zip',\n",
       " '/data/uscuni-ulce/validation/Results/PL007L2_SZCZECIN_UA2018_v013.zip',\n",
       " '/data/uscuni-ulce/validation/Results/PL034L1_PILA_UA2018_v013.zip',\n",
       " '/data/uscuni-ulce/validation/Results/PL046L1_TOMASZOW_MAZOWIECKI_UA2018_v013.zip',\n",
       " '/data/uscuni-ulce/validation/Results/PL039L1_OSTROW_WIELKOPOLSKI_UA2018_v013.zip',\n",
       " '/data/uscuni-ulce/validation/Results/PL022L2_KONIN_UA2018_v013.zip',\n",
       " '/data/uscuni-ulce/validation/Results/PL020L2_NOWY_SACZ_UA2018_v013.zip',\n",
       " '/data/uscuni-ulce/validation/Results/PL512L2_ELBLAG_UA2018_v013.zip',\n",
       " '/data/uscuni-ulce/validation/Results/PL033L1_LUBIN_UA2018_v013.zip',\n",
       " '/data/uscuni-ulce/validation/Results/PL003L2_KRAKOW_UA2018_v013.zip',\n",
       " '/data/uscuni-ulce/validation/Results/PL008L2_BYDGOSZCZ_UA2018_v013.zip',\n",
       " '/data/uscuni-ulce/validation/Results/DE505L0_CHEMNITZ_UA2018_v013.zip',\n",
       " '/data/uscuni-ulce/validation/Results/DE053L1_MARBURG_UA2018_v013.zip',\n",
       " '/data/uscuni-ulce/validation/Results/DE029L0_FRANKFURT_ODER_UA2018_v013.zip',\n",
       " '/data/uscuni-ulce/validation/Results/DE542L1_HILDESHEIM_UA2018_v013.zip',\n",
       " '/data/uscuni-ulce/validation/Results/DE044L1_KAISERSLAUTERN_UA2018_v013.zip',\n",
       " '/data/uscuni-ulce/validation/Results/DE533L1_PFORZHEIM_UA2018_v013.zip',\n",
       " '/data/uscuni-ulce/validation/Results/DE548L1_DUREN_UA2018_v013.zip',\n",
       " '/data/uscuni-ulce/validation/Results/DE056L0_BRANDENBURG_AN_DER_HAVEL_UA2018_v013.zip',\n",
       " '/data/uscuni-ulce/validation/Results/DE510L1_LUBECK_UA2018_v013.zip',\n",
       " '/data/uscuni-ulce/validation/Results/DE028L1_REGENSBURG_UA2018_v013.zip',\n",
       " '/data/uscuni-ulce/validation/Results/DE033L1_AUGSBURG_UA2018_v013.zip',\n",
       " '/data/uscuni-ulce/validation/Results/DE069L1_ROSENHEIM_UA2018_v013.zip',\n",
       " '/data/uscuni-ulce/validation/Results/DE513L1_KASSEL_UA2018_v013.zip',\n",
       " '/data/uscuni-ulce/validation/Results/DE534L1_INGOLSTADT_UA2018_v013.zip',\n",
       " '/data/uscuni-ulce/validation/Results/DE081L1_PASSAU_UA2018_v013.zip',\n",
       " '/data/uscuni-ulce/validation/Results/DE084L1_MANNHEIM_LUDWIGSHAFEN_UA2018_v013.zip',\n",
       " '/data/uscuni-ulce/validation/Results/DE059L1_BAYREUTH_UA2018_v013.zip',\n",
       " '/data/uscuni-ulce/validation/Results/DE523L1_PADERBORN_UA2018_v013.zip',\n",
       " '/data/uscuni-ulce/validation/Results/DE014L1_NURNBERG_UA2018_v013.zip',\n",
       " '/data/uscuni-ulce/validation/Results/DE018L1_HALLE_AN_DER_SAALE_UA2018_v013.zip',\n",
       " '/data/uscuni-ulce/validation/Results/DE530L0_REMSCHEID_UA2018_v013.zip',\n",
       " '/data/uscuni-ulce/validation/Results/DE054L1_KONSTANZ_UA2018_v013.zip',\n",
       " '/data/uscuni-ulce/validation/Results/DE043L2_ROSTOCK_UA2018_v013.zip',\n",
       " '/data/uscuni-ulce/validation/Results/DE524L2_WURZBURG_UA2018_v013.zip',\n",
       " '/data/uscuni-ulce/validation/Results/DE031L1_SCHWERIN_UA2018_v013.zip',\n",
       " '/data/uscuni-ulce/validation/Results/DE020L1_WIESBADEN_UA2018_v013.zip',\n",
       " '/data/uscuni-ulce/validation/Results/DE030L1_WEIMAR_UA2018_v013.zip',\n",
       " '/data/uscuni-ulce/validation/Results/DE001L1_BERLIN_UA2018_v013.zip',\n",
       " '/data/uscuni-ulce/validation/Results/DE003L1_MUNCHEN_UA2018_v013.zip',\n",
       " '/data/uscuni-ulce/validation/Results/DE066L1_KEMPTEN_ALLGAU_UA2018_v013.zip',\n",
       " '/data/uscuni-ulce/validation/Results/DE036L0_MONCHENGLADBACH_UA2018_v013.zip',\n",
       " '/data/uscuni-ulce/validation/Results/DE063L1_PLAUEN_UA2018_v013.zip',\n",
       " '/data/uscuni-ulce/validation/Results/DE007L1_STUTTGART_UA2018_v013.zip',\n",
       " '/data/uscuni-ulce/validation/Results/DE532L1_ULM_UA2018_v013.zip',\n",
       " '/data/uscuni-ulce/validation/Results/DE064L1_NEUBRANDENBURG_UA2018_v013.zip',\n",
       " '/data/uscuni-ulce/validation/Results/DE504L1_MUNSTER_UA2018_v013.zip',\n",
       " '/data/uscuni-ulce/validation/Results/DE507L1_AACHEN_UA2018_v013.zip',\n",
       " '/data/uscuni-ulce/validation/Results/DE544L1_ZWICKAU_UA2018_v013.zip',\n",
       " '/data/uscuni-ulce/validation/Results/DE517L1_OSNABRUCK_UA2018_v013.zip',\n",
       " '/data/uscuni-ulce/validation/Results/DE527L1_BREMERHAVEN_UA2018_v013.zip',\n",
       " '/data/uscuni-ulce/validation/Results/DE535L1_GERA_UA2018_v013.zip',\n",
       " '/data/uscuni-ulce/validation/Results/DE005L1_FRANKFURT_AM_MAIN_UA2018_v013.zip',\n",
       " '/data/uscuni-ulce/validation/Results/DE060L1_CELLE_UA2018_v013.zip',\n",
       " '/data/uscuni-ulce/validation/Results/DE027L1_FREIBURG_IM_BREISGAU_UA2018_v013.zip',\n",
       " '/data/uscuni-ulce/validation/Results/DE039L1_KIEL_UA2018_v013.zip',\n",
       " '/data/uscuni-ulce/validation/Results/DE019L2_MAGDEBURG_UA2018_v013.zip',\n",
       " '/data/uscuni-ulce/validation/Results/DE012L1_BREMEN_UA2018_v013.zip',\n",
       " '/data/uscuni-ulce/validation/Results/DE034L1_BONN_UA2018_v013.zip',\n",
       " '/data/uscuni-ulce/validation/Results/DE079L1_WETZLAR_UA2018_v013.zip',\n",
       " '/data/uscuni-ulce/validation/Results/DE038L1_RUHRGEBIET_UA2018_v013.zip',\n",
       " '/data/uscuni-ulce/validation/Results/DE529L1_HEILBRONN_UA2018_v013.zip',\n",
       " '/data/uscuni-ulce/validation/Results/DE037L1_MAINZ_UA2018_v013.zip',\n",
       " '/data/uscuni-ulce/validation/Results/DE062L1_BAMBERG_UA2018_v013.zip',\n",
       " '/data/uscuni-ulce/validation/Results/DE017L0_BIELEFELD_UA2018_v013.zip',\n",
       " '/data/uscuni-ulce/validation/Results/DE522L1_HEIDELBERG_UA2018_v013.zip',\n",
       " '/data/uscuni-ulce/validation/Results/DE042L1_KOBLENZ_UA2018_v013.zip',\n",
       " '/data/uscuni-ulce/validation/Results/DE051L1_VILLINGEN_SCHWENNINGEN_UA2018_v013.zip',\n",
       " '/data/uscuni-ulce/validation/Results/DE546L0_WUPPERTAL_UA2018_v013.zip',\n",
       " '/data/uscuni-ulce/validation/Results/DE050L1_TUBINGEN_UA2018_v013.zip',\n",
       " '/data/uscuni-ulce/validation/Results/DE073L1_OFFENBURG_UA2018_v013.zip',\n",
       " '/data/uscuni-ulce/validation/Results/DE537L1_REUTLINGEN_UA2018_v013.zip',\n",
       " '/data/uscuni-ulce/validation/Results/DE072L1_FRIEDRICHSHAFEN_UA2018_v013.zip',\n",
       " '/data/uscuni-ulce/validation/Results/DE009L2_DRESDEN_UA2018_v013.zip',\n",
       " '/data/uscuni-ulce/validation/Results/DE055L0_NEUMUNSTER_UA2018_v013.zip',\n",
       " '/data/uscuni-ulce/validation/Results/DE013L1_HANNOVER_UA2018_v013.zip',\n",
       " '/data/uscuni-ulce/validation/Results/DE520L1_OLDENBURG_OLDENBURG_UA2018_v013.zip',\n",
       " '/data/uscuni-ulce/validation/Results/DE540L2_SIEGEN_UA2018_v013.zip',\n",
       " '/data/uscuni-ulce/validation/Results/DE026L1_TRIER_UA2018_v013.zip',\n",
       " '/data/uscuni-ulce/validation/Results/DE040L1_SAARBRUCKEN_UA2018_v013.zip',\n",
       " '/data/uscuni-ulce/validation/Results/DE004L1_KOLN_UA2018_v013.zip',\n",
       " '/data/uscuni-ulce/validation/Results/DE011L1_DUSSELDORF_UA2018_v013.zip',\n",
       " '/data/uscuni-ulce/validation/Results/DE061L1_ASCHAFFENBURG_UA2018_v013.zip',\n",
       " '/data/uscuni-ulce/validation/Results/DE002L1_HAMBURG_UA2018_v013.zip',\n",
       " '/data/uscuni-ulce/validation/Results/DE082L0_DESSAU_ROSSLAU_UA2018_v013.zip',\n",
       " '/data/uscuni-ulce/validation/Results/DE032L1_ERFURT_UA2018_v013.zip',\n",
       " '/data/uscuni-ulce/validation/Results/DE539L1_COTTBUS_UA2018_v013.zip',\n",
       " '/data/uscuni-ulce/validation/Results/DE045L1_ISERLOHN_UA2018_v013.zip',\n",
       " '/data/uscuni-ulce/validation/Results/DE057L1_GIESSEN_UA2018_v013.zip',\n",
       " '/data/uscuni-ulce/validation/Results/DE547L2_JENA_UA2018_v013.zip',\n",
       " '/data/uscuni-ulce/validation/Results/DE083L1_BRAUNSCHWEIG_SALZGITTER_WOLFSBURG_UA2018_v013.zip',\n",
       " '/data/uscuni-ulce/validation/Results/DE074L1_GORLITZ_UA2018_v013.zip',\n",
       " '/data/uscuni-ulce/validation/Results/DE021L1_GOTTINGEN_UA2018_v013.zip',\n",
       " '/data/uscuni-ulce/validation/Results/DE549L1_BOCHOLT_UA2018_v013.zip',\n",
       " '/data/uscuni-ulce/validation/Results/DE508L0_KREFELD_UA2018_v013.zip',\n",
       " '/data/uscuni-ulce/validation/Results/DE071L1_STRALSUND_UA2018_v013.zip',\n",
       " '/data/uscuni-ulce/validation/Results/DE067L1_LANDSHUT_UA2018_v013.zip',\n",
       " '/data/uscuni-ulce/validation/Results/DE077L1_SCHWEINFURT_UA2018_v013.zip',\n",
       " '/data/uscuni-ulce/validation/Results/DE058L1_LUNEBURG_UA2018_v013.zip',\n",
       " '/data/uscuni-ulce/validation/Results/DE048L1_WILHELMSHAVEN_UA2018_v013.zip',\n",
       " '/data/uscuni-ulce/validation/Results/DE516L0_SOLINGEN_UA2018_v013.zip',\n",
       " '/data/uscuni-ulce/validation/Results/DE052L1_FLENSBURG_UA2018_v013.zip',\n",
       " '/data/uscuni-ulce/validation/Results/DE078L1_GREIFSWALD_UA2018_v013.zip',\n",
       " '/data/uscuni-ulce/validation/Results/DE025L1_DARMSTADT_UA2018_v013.zip',\n",
       " '/data/uscuni-ulce/validation/Results/DE065L1_FULDA_UA2018_v013.zip',\n",
       " '/data/uscuni-ulce/validation/Results/DE008L2_LEIPZIG_UA2018_v013.zip',\n",
       " '/data/uscuni-ulce/validation/Results/DE035L1_KARLSRUHE_UA2018_v013.zip',\n",
       " '/data/uscuni-ulce/validation/Results/LT001L1_VILNIUS_UA2018_v013.zip',\n",
       " '/data/uscuni-ulce/validation/Results/LT501L0_KLAIPEDA_UA2018_v013.zip',\n",
       " '/data/uscuni-ulce/validation/Results/LT004L0_ALYTUS_UA2018_v013.zip',\n",
       " '/data/uscuni-ulce/validation/Results/LT002L1_KAUNAS_UA2018_v013.zip',\n",
       " '/data/uscuni-ulce/validation/Results/LT003L1_PANEVEZYS_UA2018_v013.zip',\n",
       " '/data/uscuni-ulce/validation/Results/LT502L0_SIAULIAI_UA2018_v013.zip']"
      ]
     },
     "execution_count": 2,
     "metadata": {},
     "output_type": "execute_result"
    }
   ],
   "source": [
    "from glob import glob\n",
    "\n",
    "furl = '/data/uscuni-ulce/validation/Results/'\n",
    "files = glob(furl + 'AT*') + glob(furl + 'CZ*') + glob(furl + 'SK*') + glob(furl + 'PL*') + glob(furl + 'DE*') + glob(furl + 'LT*')\n",
    "files"
   ]
  },
  {
   "cell_type": "code",
   "execution_count": null,
   "id": "97d8982b-c4bd-44a7-b6b9-c9c8463ba367",
   "metadata": {
    "scrolled": true
   },
   "outputs": [],
   "source": []
  },
  {
   "cell_type": "code",
   "execution_count": 3,
   "id": "f36377f6-db65-4a4a-9646-ac4e22498da2",
   "metadata": {},
   "outputs": [
    {
     "name": "stdout",
     "output_type": "stream",
     "text": [
      "CPU times: user 43 s, sys: 472 ms, total: 43.5 s\n",
      "Wall time: 43.4 s\n"
     ]
    }
   ],
   "source": [
    "%%time\n",
    "\n",
    "# read the boundaries of the available functinal areas\n",
    "\n",
    "urban_atlast_regions = []\n",
    "\n",
    "for f in files:\n",
    "    zipname = f.split('/')[-1][:-4]\n",
    "    gpkg_path = f + '!' + zipname + \"/Data/\" + zipname + '.gpkg'\n",
    "\n",
    "    data = gpd.read_file(gpkg_path, layer=zipname[:-5] + '_Boundary')\n",
    "    data['filepath'] = gpkg_path\n",
    "    urban_atlast_regions.append(data)\n",
    "\n",
    "urban_atlast_regions = pd.concat(urban_atlast_regions, ignore_index=True)"
   ]
  },
  {
   "cell_type": "code",
   "execution_count": null,
   "id": "e8ecb4b8-c18f-4fc5-86ee-68e083bb995b",
   "metadata": {},
   "outputs": [],
   "source": [
    "urban_atlast_regions.iloc[-30:]"
   ]
  },
  {
   "cell_type": "code",
   "execution_count": null,
   "id": "bc1c75bd-a353-4e63-8aef-11c910973d1e",
   "metadata": {},
   "outputs": [],
   "source": []
  },
  {
   "cell_type": "code",
   "execution_count": null,
   "id": "9cf4ed63-278f-43be-95b7-90deb42d9cda",
   "metadata": {},
   "outputs": [],
   "source": []
  },
  {
   "cell_type": "code",
   "execution_count": 5,
   "id": "70839d4a-afb7-4fcc-a894-c0d7a51ddd4f",
   "metadata": {
    "scrolled": true
   },
   "outputs": [
    {
     "name": "stdout",
     "output_type": "stream",
     "text": [
      "Linz\n"
     ]
    },
    {
     "name": "stderr",
     "output_type": "stream",
     "text": [
      "/home/krasen/urban_taxonomy/.pixi/envs/default/lib/python3.12/site-packages/pyogrio/geopandas.py:265: UserWarning: More than one layer found in 'AT003L3_LINZ_UA2018_v013.gpkg': 'AT003L3_LINZ_UA2018' (default), 'AT003L3_LINZ_UA2018_Boundary', 'AT003L3_LINZ_UA2018_UrbanCore'. Specify layer parameter to avoid this warning.\n",
      "  result = read_func(\n"
     ]
    },
    {
     "name": "stdout",
     "output_type": "stream",
     "text": [
      "Innsbruck\n"
     ]
    },
    {
     "name": "stderr",
     "output_type": "stream",
     "text": [
      "/home/krasen/urban_taxonomy/.pixi/envs/default/lib/python3.12/site-packages/pyogrio/geopandas.py:265: UserWarning: More than one layer found in 'AT005L3_INNSBRUCK_UA2018_v013.gpkg': 'AT005L3_INNSBRUCK_UA2018' (default), 'AT005L3_INNSBRUCK_UA2018_Boundary', 'AT005L3_INNSBRUCK_UA2018_UrbanCore'. Specify layer parameter to avoid this warning.\n",
      "  result = read_func(\n"
     ]
    },
    {
     "name": "stdout",
     "output_type": "stream",
     "text": [
      "Salzburg\n"
     ]
    },
    {
     "name": "stderr",
     "output_type": "stream",
     "text": [
      "/home/krasen/urban_taxonomy/.pixi/envs/default/lib/python3.12/site-packages/pyogrio/geopandas.py:265: UserWarning: More than one layer found in 'AT004L3_SALZBURG_UA2018_v013.gpkg': 'AT004L3_SALZBURG_UA2018' (default), 'AT004L3_SALZBURG_UA2018_Boundary', 'AT004L3_SALZBURG_UA2018_UrbanCore'. Specify layer parameter to avoid this warning.\n",
      "  result = read_func(\n"
     ]
    },
    {
     "name": "stdout",
     "output_type": "stream",
     "text": [
      "Wien\n"
     ]
    },
    {
     "name": "stderr",
     "output_type": "stream",
     "text": [
      "/home/krasen/urban_taxonomy/.pixi/envs/default/lib/python3.12/site-packages/pyogrio/geopandas.py:265: UserWarning: More than one layer found in 'AT001L3_WIEN_UA2018_v013.gpkg': 'AT001L3_WIEN_UA2018' (default), 'AT001L3_WIEN_UA2018_Boundary', 'AT001L3_WIEN_UA2018_UrbanCore'. Specify layer parameter to avoid this warning.\n",
      "  result = read_func(\n"
     ]
    },
    {
     "name": "stdout",
     "output_type": "stream",
     "text": [
      "Graz\n"
     ]
    },
    {
     "name": "stderr",
     "output_type": "stream",
     "text": [
      "/home/krasen/urban_taxonomy/.pixi/envs/default/lib/python3.12/site-packages/pyogrio/geopandas.py:265: UserWarning: More than one layer found in 'AT002L3_GRAZ_UA2018_v013.gpkg': 'AT002L3_GRAZ_UA2018' (default), 'AT002L3_GRAZ_UA2018_Boundary', 'AT002L3_GRAZ_UA2018_UrbanCore'. Specify layer parameter to avoid this warning.\n",
      "  result = read_func(\n"
     ]
    },
    {
     "name": "stdout",
     "output_type": "stream",
     "text": [
      "Klagenfurt\n"
     ]
    },
    {
     "name": "stderr",
     "output_type": "stream",
     "text": [
      "/home/krasen/urban_taxonomy/.pixi/envs/default/lib/python3.12/site-packages/pyogrio/geopandas.py:265: UserWarning: More than one layer found in 'AT006L2_KLAGENFURT_UA2018_v013.gpkg': 'AT006L2_KLAGENFURT_UA2018' (default), 'AT006L2_KLAGENFURT_UA2018_Boundary', 'AT006L2_KLAGENFURT_UA2018_UrbanCore'. Specify layer parameter to avoid this warning.\n",
      "  result = read_func(\n"
     ]
    },
    {
     "name": "stdout",
     "output_type": "stream",
     "text": [
      "Plzeň\n"
     ]
    },
    {
     "name": "stderr",
     "output_type": "stream",
     "text": [
      "/home/krasen/urban_taxonomy/.pixi/envs/default/lib/python3.12/site-packages/pyogrio/geopandas.py:265: UserWarning: More than one layer found in 'CZ004L2_PLZEN_UA2018_v013.gpkg': 'CZ004L2_PLZEN_UA2018' (default), 'CZ004L2_PLZEN_UA2018_Boundary', 'CZ004L2_PLZEN_UA2018_UrbanCore'. Specify layer parameter to avoid this warning.\n",
      "  result = read_func(\n"
     ]
    },
    {
     "name": "stdout",
     "output_type": "stream",
     "text": [
      "Praha\n"
     ]
    },
    {
     "name": "stderr",
     "output_type": "stream",
     "text": [
      "/home/krasen/urban_taxonomy/.pixi/envs/default/lib/python3.12/site-packages/pyogrio/geopandas.py:265: UserWarning: More than one layer found in 'CZ001L2_PRAHA_UA2018_v013.gpkg': 'CZ001L2_PRAHA_UA2018' (default), 'CZ001L2_PRAHA_UA2018_Boundary', 'CZ001L2_PRAHA_UA2018_UrbanCore'. Specify layer parameter to avoid this warning.\n",
      "  result = read_func(\n"
     ]
    },
    {
     "name": "stdout",
     "output_type": "stream",
     "text": [
      "Zlín\n"
     ]
    },
    {
     "name": "stderr",
     "output_type": "stream",
     "text": [
      "/home/krasen/urban_taxonomy/.pixi/envs/default/lib/python3.12/site-packages/pyogrio/geopandas.py:265: UserWarning: More than one layer found in 'CZ011L2_ZLIN_UA2018_v013.gpkg': 'CZ011L2_ZLIN_UA2018' (default), 'CZ011L2_ZLIN_UA2018_Boundary', 'CZ011L2_ZLIN_UA2018_UrbanCore'. Specify layer parameter to avoid this warning.\n",
      "  result = read_func(\n"
     ]
    },
    {
     "name": "stdout",
     "output_type": "stream",
     "text": [
      "Jihlava\n"
     ]
    },
    {
     "name": "stderr",
     "output_type": "stream",
     "text": [
      "/home/krasen/urban_taxonomy/.pixi/envs/default/lib/python3.12/site-packages/pyogrio/geopandas.py:265: UserWarning: More than one layer found in 'CZ014L2_JIHLAVA_UA2018_v013.gpkg': 'CZ014L2_JIHLAVA_UA2018' (default), 'CZ014L2_JIHLAVA_UA2018_Boundary', 'CZ014L2_JIHLAVA_UA2018_UrbanCore'. Specify layer parameter to avoid this warning.\n",
      "  result = read_func(\n"
     ]
    },
    {
     "name": "stdout",
     "output_type": "stream",
     "text": [
      "Karlovy Vary\n"
     ]
    },
    {
     "name": "stderr",
     "output_type": "stream",
     "text": [
      "/home/krasen/urban_taxonomy/.pixi/envs/default/lib/python3.12/site-packages/pyogrio/geopandas.py:265: UserWarning: More than one layer found in 'CZ013L2_KARLOVY_VARY_UA2018_v013.gpkg': 'CZ013L2_KARLOVY_VARY_UA2018' (default), 'CZ013L2_KARLOVY_VARY_UA2018_Boundary', 'CZ013L2_KARLOVY_VARY_UA2018_UrbanCore'. Specify layer parameter to avoid this warning.\n",
      "  result = read_func(\n"
     ]
    },
    {
     "name": "stdout",
     "output_type": "stream",
     "text": [
      "Most\n"
     ]
    },
    {
     "name": "stderr",
     "output_type": "stream",
     "text": [
      "/home/krasen/urban_taxonomy/.pixi/envs/default/lib/python3.12/site-packages/pyogrio/geopandas.py:265: UserWarning: More than one layer found in 'CZ016L2_MOST_UA2018_v013.gpkg': 'CZ016L2_MOST_UA2018' (default), 'CZ016L2_MOST_UA2018_Boundary', 'CZ016L2_MOST_UA2018_UrbanCore'. Specify layer parameter to avoid this warning.\n",
      "  result = read_func(\n"
     ]
    },
    {
     "name": "stdout",
     "output_type": "stream",
     "text": [
      "Ostrava\n"
     ]
    },
    {
     "name": "stderr",
     "output_type": "stream",
     "text": [
      "/home/krasen/urban_taxonomy/.pixi/envs/default/lib/python3.12/site-packages/pyogrio/geopandas.py:265: UserWarning: More than one layer found in 'CZ003L2_OSTRAVA_UA2018_v013.gpkg': 'CZ003L2_OSTRAVA_UA2018' (default), 'CZ003L2_OSTRAVA_UA2018_Boundary', 'CZ003L2_OSTRAVA_UA2018_UrbanCore'. Specify layer parameter to avoid this warning.\n",
      "  result = read_func(\n"
     ]
    },
    {
     "name": "stdout",
     "output_type": "stream",
     "text": [
      "Hradec Králové\n"
     ]
    },
    {
     "name": "stderr",
     "output_type": "stream",
     "text": [
      "/home/krasen/urban_taxonomy/.pixi/envs/default/lib/python3.12/site-packages/pyogrio/geopandas.py:265: UserWarning: More than one layer found in 'CZ009L2_HRADEC_KRALOVE_UA2018_v013.gpkg': 'CZ009L2_HRADEC_KRALOVE_UA2018' (default), 'CZ009L2_HRADEC_KRALOVE_UA2018_Boundary', 'CZ009L2_HRADEC_KRALOVE_UA2018_UrbanCore'. Specify layer parameter to avoid this warning.\n",
      "  result = read_func(\n"
     ]
    },
    {
     "name": "stdout",
     "output_type": "stream",
     "text": [
      "České Budějovice\n"
     ]
    },
    {
     "name": "stderr",
     "output_type": "stream",
     "text": [
      "/home/krasen/urban_taxonomy/.pixi/envs/default/lib/python3.12/site-packages/pyogrio/geopandas.py:265: UserWarning: More than one layer found in 'CZ008L2_CESKE_BUDEJOVICE_UA2018_v013.gpkg': 'CZ008L2_CESKE_BUDEJOVICE_UA2018' (default), 'CZ008L2_CESKE_BUDEJOVICE_UA2018_Boundary', 'CZ008L2_CESKE_BUDEJOVICE_UA2018_UrbanCore'. Specify layer parameter to avoid this warning.\n",
      "  result = read_func(\n"
     ]
    },
    {
     "name": "stdout",
     "output_type": "stream",
     "text": [
      "Brno\n"
     ]
    },
    {
     "name": "stderr",
     "output_type": "stream",
     "text": [
      "/home/krasen/urban_taxonomy/.pixi/envs/default/lib/python3.12/site-packages/pyogrio/geopandas.py:265: UserWarning: More than one layer found in 'CZ002L2_BRNO_UA2018_v013.gpkg': 'CZ002L2_BRNO_UA2018' (default), 'CZ002L2_BRNO_UA2018_Boundary', 'CZ002L2_BRNO_UA2018_UrbanCore'. Specify layer parameter to avoid this warning.\n",
      "  result = read_func(\n"
     ]
    },
    {
     "name": "stdout",
     "output_type": "stream",
     "text": [
      "Liberec\n"
     ]
    },
    {
     "name": "stderr",
     "output_type": "stream",
     "text": [
      "/home/krasen/urban_taxonomy/.pixi/envs/default/lib/python3.12/site-packages/pyogrio/geopandas.py:265: UserWarning: More than one layer found in 'CZ007L2_LIBEREC_UA2018_v013.gpkg': 'CZ007L2_LIBEREC_UA2018' (default), 'CZ007L2_LIBEREC_UA2018_Boundary', 'CZ007L2_LIBEREC_UA2018_UrbanCore'. Specify layer parameter to avoid this warning.\n",
      "  result = read_func(\n"
     ]
    },
    {
     "name": "stdout",
     "output_type": "stream",
     "text": [
      "Ústí nad Labem\n"
     ]
    },
    {
     "name": "stderr",
     "output_type": "stream",
     "text": [
      "/home/krasen/urban_taxonomy/.pixi/envs/default/lib/python3.12/site-packages/pyogrio/geopandas.py:265: UserWarning: More than one layer found in 'CZ005L2_USTI_NAD_LABEM_UA2018_v013.gpkg': 'CZ005L2_USTI_NAD_LABEM_UA2018' (default), 'CZ005L2_USTI_NAD_LABEM_UA2018_Boundary', 'CZ005L2_USTI_NAD_LABEM_UA2018_UrbanCore'. Specify layer parameter to avoid this warning.\n",
      "  result = read_func(\n"
     ]
    },
    {
     "name": "stdout",
     "output_type": "stream",
     "text": [
      "Pardubice\n"
     ]
    },
    {
     "name": "stderr",
     "output_type": "stream",
     "text": [
      "/home/krasen/urban_taxonomy/.pixi/envs/default/lib/python3.12/site-packages/pyogrio/geopandas.py:265: UserWarning: More than one layer found in 'CZ010L2_PARDUBICE_UA2018_v013.gpkg': 'CZ010L2_PARDUBICE_UA2018' (default), 'CZ010L2_PARDUBICE_UA2018_Boundary', 'CZ010L2_PARDUBICE_UA2018_UrbanCore'. Specify layer parameter to avoid this warning.\n",
      "  result = read_func(\n"
     ]
    },
    {
     "name": "stdout",
     "output_type": "stream",
     "text": [
      "Olomouc\n"
     ]
    },
    {
     "name": "stderr",
     "output_type": "stream",
     "text": [
      "/home/krasen/urban_taxonomy/.pixi/envs/default/lib/python3.12/site-packages/pyogrio/geopandas.py:265: UserWarning: More than one layer found in 'CZ006L2_OLOMOUC_UA2018_v013.gpkg': 'CZ006L2_OLOMOUC_UA2018' (default), 'CZ006L2_OLOMOUC_UA2018_Boundary', 'CZ006L2_OLOMOUC_UA2018_UrbanCore'. Specify layer parameter to avoid this warning.\n",
      "  result = read_func(\n"
     ]
    },
    {
     "name": "stdout",
     "output_type": "stream",
     "text": [
      "Chomutov-Jirkov\n"
     ]
    },
    {
     "name": "stderr",
     "output_type": "stream",
     "text": [
      "/home/krasen/urban_taxonomy/.pixi/envs/default/lib/python3.12/site-packages/pyogrio/geopandas.py:265: UserWarning: More than one layer found in 'CZ018L2_CHOMUTOV_JIRKOV_UA2018_v013.gpkg': 'CZ018L2_CHOMUTOV_JIRKOV_UA2018' (default), 'CZ018L2_CHOMUTOV_JIRKOV_UA2018_Boundary', 'CZ018L2_CHOMUTOV_JIRKOV_UA2018_UrbanCore'. Specify layer parameter to avoid this warning.\n",
      "  result = read_func(\n"
     ]
    },
    {
     "name": "stdout",
     "output_type": "stream",
     "text": [
      "Prešov\n"
     ]
    },
    {
     "name": "stderr",
     "output_type": "stream",
     "text": [
      "/home/krasen/urban_taxonomy/.pixi/envs/default/lib/python3.12/site-packages/pyogrio/geopandas.py:265: UserWarning: More than one layer found in 'SK005L1_PRESOV_UA2018_v013.gpkg': 'SK005L1_PRESOV_UA2018' (default), 'SK005L1_PRESOV_UA2018_Boundary', 'SK005L1_PRESOV_UA2018_UrbanCore'. Specify layer parameter to avoid this warning.\n",
      "  result = read_func(\n"
     ]
    },
    {
     "name": "stdout",
     "output_type": "stream",
     "text": [
      "Nitra\n"
     ]
    },
    {
     "name": "stderr",
     "output_type": "stream",
     "text": [
      "/home/krasen/urban_taxonomy/.pixi/envs/default/lib/python3.12/site-packages/pyogrio/geopandas.py:265: UserWarning: More than one layer found in 'SK004L1_NITRA_UA2018_v013.gpkg': 'SK004L1_NITRA_UA2018' (default), 'SK004L1_NITRA_UA2018_Boundary', 'SK004L1_NITRA_UA2018_UrbanCore'. Specify layer parameter to avoid this warning.\n",
      "  result = read_func(\n"
     ]
    },
    {
     "name": "stdout",
     "output_type": "stream",
     "text": [
      "Trenčín\n"
     ]
    },
    {
     "name": "stderr",
     "output_type": "stream",
     "text": [
      "/home/krasen/urban_taxonomy/.pixi/envs/default/lib/python3.12/site-packages/pyogrio/geopandas.py:265: UserWarning: More than one layer found in 'SK008L1_TRENCIN_UA2018_v013.gpkg': 'SK008L1_TRENCIN_UA2018' (default), 'SK008L1_TRENCIN_UA2018_Boundary', 'SK008L1_TRENCIN_UA2018_UrbanCore'. Specify layer parameter to avoid this warning.\n",
      "  result = read_func(\n"
     ]
    },
    {
     "name": "stdout",
     "output_type": "stream",
     "text": [
      "Trnava\n"
     ]
    },
    {
     "name": "stderr",
     "output_type": "stream",
     "text": [
      "/home/krasen/urban_taxonomy/.pixi/envs/default/lib/python3.12/site-packages/pyogrio/geopandas.py:265: UserWarning: More than one layer found in 'SK007L1_TRNAVA_UA2018_v013.gpkg': 'SK007L1_TRNAVA_UA2018' (default), 'SK007L1_TRNAVA_UA2018_Boundary', 'SK007L1_TRNAVA_UA2018_UrbanCore'. Specify layer parameter to avoid this warning.\n",
      "  result = read_func(\n"
     ]
    },
    {
     "name": "stdout",
     "output_type": "stream",
     "text": [
      "Banská Bystrica\n"
     ]
    },
    {
     "name": "stderr",
     "output_type": "stream",
     "text": [
      "/home/krasen/urban_taxonomy/.pixi/envs/default/lib/python3.12/site-packages/pyogrio/geopandas.py:265: UserWarning: More than one layer found in 'SK003L1_BANSKA_BYSTRICA_UA2018_v013.gpkg': 'SK003L1_BANSKA_BYSTRICA_UA2018' (default), 'SK003L1_BANSKA_BYSTRICA_UA2018_Boundary', 'SK003L1_BANSKA_BYSTRICA_UA2018_UrbanCore'. Specify layer parameter to avoid this warning.\n",
      "  result = read_func(\n"
     ]
    },
    {
     "name": "stdout",
     "output_type": "stream",
     "text": [
      "Bratislava\n"
     ]
    },
    {
     "name": "stderr",
     "output_type": "stream",
     "text": [
      "/home/krasen/urban_taxonomy/.pixi/envs/default/lib/python3.12/site-packages/pyogrio/geopandas.py:265: UserWarning: More than one layer found in 'SK001L1_BRATISLAVA_UA2018_v013.gpkg': 'SK001L1_BRATISLAVA_UA2018' (default), 'SK001L1_BRATISLAVA_UA2018_Boundary', 'SK001L1_BRATISLAVA_UA2018_UrbanCore'. Specify layer parameter to avoid this warning.\n",
      "  result = read_func(\n"
     ]
    },
    {
     "name": "stdout",
     "output_type": "stream",
     "text": [
      "Košice\n"
     ]
    },
    {
     "name": "stderr",
     "output_type": "stream",
     "text": [
      "/home/krasen/urban_taxonomy/.pixi/envs/default/lib/python3.12/site-packages/pyogrio/geopandas.py:265: UserWarning: More than one layer found in 'SK002L1_KOSICE_UA2018_v013.gpkg': 'SK002L1_KOSICE_UA2018' (default), 'SK002L1_KOSICE_UA2018_Boundary', 'SK002L1_KOSICE_UA2018_UrbanCore'. Specify layer parameter to avoid this warning.\n",
      "  result = read_func(\n"
     ]
    },
    {
     "name": "stdout",
     "output_type": "stream",
     "text": [
      "Žilina\n"
     ]
    },
    {
     "name": "stderr",
     "output_type": "stream",
     "text": [
      "/home/krasen/urban_taxonomy/.pixi/envs/default/lib/python3.12/site-packages/pyogrio/geopandas.py:265: UserWarning: More than one layer found in 'SK006L1_ZILINA_UA2018_v013.gpkg': 'SK006L1_ZILINA_UA2018' (default), 'SK006L1_ZILINA_UA2018_Boundary', 'SK006L1_ZILINA_UA2018_UrbanCore'. Specify layer parameter to avoid this warning.\n",
      "  result = read_func(\n"
     ]
    },
    {
     "name": "stdout",
     "output_type": "stream",
     "text": [
      "Wałbrzych\n"
     ]
    },
    {
     "name": "stderr",
     "output_type": "stream",
     "text": [
      "/home/krasen/urban_taxonomy/.pixi/envs/default/lib/python3.12/site-packages/pyogrio/geopandas.py:265: UserWarning: More than one layer found in 'PL511L2_WALBRZYCH_UA2018_v013.gpkg': 'PL511L2_WALBRZYCH_UA2018' (default), 'PL511L2_WALBRZYCH_UA2018_Boundary', 'PL511L2_WALBRZYCH_UA2018_UrbanCore'. Specify layer parameter to avoid this warning.\n",
      "  result = read_func(\n"
     ]
    },
    {
     "name": "stdout",
     "output_type": "stream",
     "text": [
      "Piotrków Trybunalski\n"
     ]
    },
    {
     "name": "stderr",
     "output_type": "stream",
     "text": [
      "/home/krasen/urban_taxonomy/.pixi/envs/default/lib/python3.12/site-packages/pyogrio/geopandas.py:265: UserWarning: More than one layer found in 'PL032L1_PIOTRKOW_TRYBUNALSKI_UA2018_v013.gpkg': 'PL032L1_PIOTRKOW_TRYBUNALSKI_UA2018' (default), 'PL032L1_PIOTRKOW_TRYBUNALSKI_UA2018_Boundary', 'PL032L1_PIOTRKOW_TRYBUNALSKI_UA2018_UrbanCore'. Specify layer parameter to avoid this warning.\n",
      "  result = read_func(\n"
     ]
    },
    {
     "name": "stdout",
     "output_type": "stream",
     "text": [
      "Chełm\n"
     ]
    },
    {
     "name": "stderr",
     "output_type": "stream",
     "text": [
      "/home/krasen/urban_taxonomy/.pixi/envs/default/lib/python3.12/site-packages/pyogrio/geopandas.py:265: UserWarning: More than one layer found in 'PL042L1_CHELM_UA2018_v013.gpkg': 'PL042L1_CHELM_UA2018' (default), 'PL042L1_CHELM_UA2018_Boundary', 'PL042L1_CHELM_UA2018_UrbanCore'. Specify layer parameter to avoid this warning.\n",
      "  result = read_func(\n"
     ]
    },
    {
     "name": "stdout",
     "output_type": "stream",
     "text": [
      "Tczew\n"
     ]
    },
    {
     "name": "stderr",
     "output_type": "stream",
     "text": [
      "/home/krasen/urban_taxonomy/.pixi/envs/default/lib/python3.12/site-packages/pyogrio/geopandas.py:265: UserWarning: More than one layer found in 'PL051L1_TCZEW_UA2018_v013.gpkg': 'PL051L1_TCZEW_UA2018' (default), 'PL051L1_TCZEW_UA2018_Boundary', 'PL051L1_TCZEW_UA2018_UrbanCore'. Specify layer parameter to avoid this warning.\n",
      "  result = read_func(\n"
     ]
    },
    {
     "name": "stdout",
     "output_type": "stream",
     "text": [
      "Gniezno\n"
     ]
    },
    {
     "name": "stderr",
     "output_type": "stream",
     "text": [
      "/home/krasen/urban_taxonomy/.pixi/envs/default/lib/python3.12/site-packages/pyogrio/geopandas.py:265: UserWarning: More than one layer found in 'PL037L1_GNIEZNO_UA2018_v013.gpkg': 'PL037L1_GNIEZNO_UA2018' (default), 'PL037L1_GNIEZNO_UA2018_Boundary', 'PL037L1_GNIEZNO_UA2018_UrbanCore'. Specify layer parameter to avoid this warning.\n",
      "  result = read_func(\n"
     ]
    },
    {
     "name": "stdout",
     "output_type": "stream",
     "text": [
      "Gorzów Wielkopolski\n"
     ]
    },
    {
     "name": "stderr",
     "output_type": "stream",
     "text": [
      "/home/krasen/urban_taxonomy/.pixi/envs/default/lib/python3.12/site-packages/pyogrio/geopandas.py:265: UserWarning: More than one layer found in 'PL017L2_GORZOW_WIELKOPOLSKI_UA2018_v013.gpkg': 'PL017L2_GORZOW_WIELKOPOLSKI_UA2018' (default), 'PL017L2_GORZOW_WIELKOPOLSKI_UA2018_Boundary', 'PL017L2_GORZOW_WIELKOPOLSKI_UA2018_UrbanCore'. Specify layer parameter to avoid this warning.\n",
      "  result = read_func(\n"
     ]
    },
    {
     "name": "stdout",
     "output_type": "stream",
     "text": [
      "Łódź\n"
     ]
    },
    {
     "name": "stderr",
     "output_type": "stream",
     "text": [
      "/home/krasen/urban_taxonomy/.pixi/envs/default/lib/python3.12/site-packages/pyogrio/geopandas.py:265: UserWarning: More than one layer found in 'PL002L2_LODZ_UA2018_v013.gpkg': 'PL002L2_LODZ_UA2018' (default), 'PL002L2_LODZ_UA2018_Boundary', 'PL002L2_LODZ_UA2018_UrbanCore'. Specify layer parameter to avoid this warning.\n",
      "  result = read_func(\n"
     ]
    },
    {
     "name": "stdout",
     "output_type": "stream",
     "text": [
      "Ełk\n"
     ]
    },
    {
     "name": "stderr",
     "output_type": "stream",
     "text": [
      "/home/krasen/urban_taxonomy/.pixi/envs/default/lib/python3.12/site-packages/pyogrio/geopandas.py:265: UserWarning: More than one layer found in 'PL052L1_ELK_UA2018_v013.gpkg': 'PL052L1_ELK_UA2018' (default), 'PL052L1_ELK_UA2018_Boundary', 'PL052L1_ELK_UA2018_UrbanCore'. Specify layer parameter to avoid this warning.\n",
      "  result = read_func(\n"
     ]
    },
    {
     "name": "stdout",
     "output_type": "stream",
     "text": [
      "Pabianice\n"
     ]
    },
    {
     "name": "stderr",
     "output_type": "stream",
     "text": [
      "/home/krasen/urban_taxonomy/.pixi/envs/default/lib/python3.12/site-packages/pyogrio/geopandas.py:265: UserWarning: More than one layer found in 'PL043L1_PABIANICE_UA2018_v013.gpkg': 'PL043L1_PABIANICE_UA2018' (default), 'PL043L1_PABIANICE_UA2018_Boundary', 'PL043L1_PABIANICE_UA2018_UrbanCore'. Specify layer parameter to avoid this warning.\n",
      "  result = read_func(\n"
     ]
    },
    {
     "name": "stdout",
     "output_type": "stream",
     "text": [
      "Poznań\n"
     ]
    },
    {
     "name": "stderr",
     "output_type": "stream",
     "text": [
      "/home/krasen/urban_taxonomy/.pixi/envs/default/lib/python3.12/site-packages/pyogrio/geopandas.py:265: UserWarning: More than one layer found in 'PL005L2_POZNAN_UA2018_v013.gpkg': 'PL005L2_POZNAN_UA2018' (default), 'PL005L2_POZNAN_UA2018_Boundary', 'PL005L2_POZNAN_UA2018_UrbanCore'. Specify layer parameter to avoid this warning.\n",
      "  result = read_func(\n"
     ]
    },
    {
     "name": "stdout",
     "output_type": "stream",
     "text": [
      "Wrocław\n"
     ]
    },
    {
     "name": "stderr",
     "output_type": "stream",
     "text": [
      "/home/krasen/urban_taxonomy/.pixi/envs/default/lib/python3.12/site-packages/pyogrio/geopandas.py:265: UserWarning: More than one layer found in 'PL004L2_WROCLAW_UA2018_v013.gpkg': 'PL004L2_WROCLAW_UA2018' (default), 'PL004L2_WROCLAW_UA2018_Boundary', 'PL004L2_WROCLAW_UA2018_UrbanCore'. Specify layer parameter to avoid this warning.\n",
      "  result = read_func(\n"
     ]
    },
    {
     "name": "stdout",
     "output_type": "stream",
     "text": [
      "Częstochowa\n"
     ]
    },
    {
     "name": "stderr",
     "output_type": "stream",
     "text": [
      "/home/krasen/urban_taxonomy/.pixi/envs/default/lib/python3.12/site-packages/pyogrio/geopandas.py:265: UserWarning: More than one layer found in 'PL024L2_CZESTOCHOWA_UA2018_v013.gpkg': 'PL024L2_CZESTOCHOWA_UA2018' (default), 'PL024L2_CZESTOCHOWA_UA2018_Boundary', 'PL024L2_CZESTOCHOWA_UA2018_UrbanCore'. Specify layer parameter to avoid this warning.\n",
      "  result = read_func(\n"
     ]
    },
    {
     "name": "stdout",
     "output_type": "stream",
     "text": [
      "Bielsko-Biała\n"
     ]
    },
    {
     "name": "stderr",
     "output_type": "stream",
     "text": [
      "/home/krasen/urban_taxonomy/.pixi/envs/default/lib/python3.12/site-packages/pyogrio/geopandas.py:265: UserWarning: More than one layer found in 'PL506L2_BIELSKO_BIALA_UA2018_v013.gpkg': 'PL506L2_BIELSKO_BIALA_UA2018' (default), 'PL506L2_BIELSKO_BIALA_UA2018_Boundary', 'PL506L2_BIELSKO_BIALA_UA2018_UrbanCore'. Specify layer parameter to avoid this warning.\n",
      "  result = read_func(\n"
     ]
    },
    {
     "name": "stdout",
     "output_type": "stream",
     "text": [
      "Opole\n"
     ]
    },
    {
     "name": "stderr",
     "output_type": "stream",
     "text": [
      "/home/krasen/urban_taxonomy/.pixi/envs/default/lib/python3.12/site-packages/pyogrio/geopandas.py:265: UserWarning: More than one layer found in 'PL016L2_OPOLE_UA2018_v013.gpkg': 'PL016L2_OPOLE_UA2018' (default), 'PL016L2_OPOLE_UA2018_Boundary', 'PL016L2_OPOLE_UA2018_UrbanCore'. Specify layer parameter to avoid this warning.\n",
      "  result = read_func(\n"
     ]
    },
    {
     "name": "stdout",
     "output_type": "stream",
     "text": [
      "Świdnica\n"
     ]
    },
    {
     "name": "stderr",
     "output_type": "stream",
     "text": [
      "/home/krasen/urban_taxonomy/.pixi/envs/default/lib/python3.12/site-packages/pyogrio/geopandas.py:265: UserWarning: More than one layer found in 'PL049L1_SWIDNICA_UA2018_v013.gpkg': 'PL049L1_SWIDNICA_UA2018' (default), 'PL049L1_SWIDNICA_UA2018_Boundary', 'PL049L1_SWIDNICA_UA2018_UrbanCore'. Specify layer parameter to avoid this warning.\n",
      "  result = read_func(\n"
     ]
    },
    {
     "name": "stdout",
     "output_type": "stream",
     "text": [
      "Łomża\n"
     ]
    },
    {
     "name": "stderr",
     "output_type": "stream",
     "text": [
      "/home/krasen/urban_taxonomy/.pixi/envs/default/lib/python3.12/site-packages/pyogrio/geopandas.py:265: UserWarning: More than one layer found in 'PL047L1_LOMZA_UA2018_v013.gpkg': 'PL047L1_LOMZA_UA2018' (default), 'PL047L1_LOMZA_UA2018_Boundary', 'PL047L1_LOMZA_UA2018_UrbanCore'. Specify layer parameter to avoid this warning.\n",
      "  result = read_func(\n"
     ]
    },
    {
     "name": "stdout",
     "output_type": "stream",
     "text": [
      "Grudziądz\n"
     ]
    },
    {
     "name": "stderr",
     "output_type": "stream",
     "text": [
      "/home/krasen/urban_taxonomy/.pixi/envs/default/lib/python3.12/site-packages/pyogrio/geopandas.py:265: UserWarning: More than one layer found in 'PL517L2_GRUDZIADZ_UA2018_v013.gpkg': 'PL517L2_GRUDZIADZ_UA2018' (default), 'PL517L2_GRUDZIADZ_UA2018_Boundary', 'PL517L2_GRUDZIADZ_UA2018_UrbanCore'. Specify layer parameter to avoid this warning.\n",
      "  result = read_func(\n"
     ]
    },
    {
     "name": "stdout",
     "output_type": "stream",
     "text": [
      "Włocławek\n"
     ]
    },
    {
     "name": "stderr",
     "output_type": "stream",
     "text": [
      "/home/krasen/urban_taxonomy/.pixi/envs/default/lib/python3.12/site-packages/pyogrio/geopandas.py:265: UserWarning: More than one layer found in 'PL513L2_WLOCLAWEK_UA2018_v013.gpkg': 'PL513L2_WLOCLAWEK_UA2018' (default), 'PL513L2_WLOCLAWEK_UA2018_Boundary', 'PL513L2_WLOCLAWEK_UA2018_UrbanCore'. Specify layer parameter to avoid this warning.\n",
      "  result = read_func(\n"
     ]
    },
    {
     "name": "stdout",
     "output_type": "stream",
     "text": [
      "Stalowa Wola\n"
     ]
    },
    {
     "name": "stderr",
     "output_type": "stream",
     "text": [
      "/home/krasen/urban_taxonomy/.pixi/envs/default/lib/python3.12/site-packages/pyogrio/geopandas.py:265: UserWarning: More than one layer found in 'PL045L1_STALOWA_WOLA_UA2018_v013.gpkg': 'PL045L1_STALOWA_WOLA_UA2018' (default), 'PL045L1_STALOWA_WOLA_UA2018_Boundary', 'PL045L1_STALOWA_WOLA_UA2018_UrbanCore'. Specify layer parameter to avoid this warning.\n",
      "  result = read_func(\n"
     ]
    },
    {
     "name": "stdout",
     "output_type": "stream",
     "text": [
      "Głogów\n"
     ]
    },
    {
     "name": "stderr",
     "output_type": "stream",
     "text": [
      "/home/krasen/urban_taxonomy/.pixi/envs/default/lib/python3.12/site-packages/pyogrio/geopandas.py:265: UserWarning: More than one layer found in 'PL044L1_GLOGOW_UA2018_v013.gpkg': 'PL044L1_GLOGOW_UA2018' (default), 'PL044L1_GLOGOW_UA2018_Boundary', 'PL044L1_GLOGOW_UA2018_UrbanCore'. Specify layer parameter to avoid this warning.\n",
      "  result = read_func(\n"
     ]
    },
    {
     "name": "stdout",
     "output_type": "stream",
     "text": [
      "Białystok\n"
     ]
    },
    {
     "name": "stderr",
     "output_type": "stream",
     "text": [
      "/home/krasen/urban_taxonomy/.pixi/envs/default/lib/python3.12/site-packages/pyogrio/geopandas.py:265: UserWarning: More than one layer found in 'PL011L2_BIALYSTOK_UA2018_v013.gpkg': 'PL011L2_BIALYSTOK_UA2018' (default), 'PL011L2_BIALYSTOK_UA2018_Boundary', 'PL011L2_BIALYSTOK_UA2018_UrbanCore'. Specify layer parameter to avoid this warning.\n",
      "  result = read_func(\n"
     ]
    },
    {
     "name": "stdout",
     "output_type": "stream",
     "text": [
      "Jelenia Góra\n"
     ]
    },
    {
     "name": "stderr",
     "output_type": "stream",
     "text": [
      "/home/krasen/urban_taxonomy/.pixi/envs/default/lib/python3.12/site-packages/pyogrio/geopandas.py:265: UserWarning: More than one layer found in 'PL019L2_JELENIA_GORA_UA2018_v013.gpkg': 'PL019L2_JELENIA_GORA_UA2018' (default), 'PL019L2_JELENIA_GORA_UA2018_Boundary', 'PL019L2_JELENIA_GORA_UA2018_UrbanCore'. Specify layer parameter to avoid this warning.\n",
      "  result = read_func(\n"
     ]
    },
    {
     "name": "stdout",
     "output_type": "stream",
     "text": [
      "Radom\n"
     ]
    },
    {
     "name": "stderr",
     "output_type": "stream",
     "text": [
      "/home/krasen/urban_taxonomy/.pixi/envs/default/lib/python3.12/site-packages/pyogrio/geopandas.py:265: UserWarning: More than one layer found in 'PL025L2_RADOM_UA2018_v013.gpkg': 'PL025L2_RADOM_UA2018' (default), 'PL025L2_RADOM_UA2018_Boundary', 'PL025L2_RADOM_UA2018_UrbanCore'. Specify layer parameter to avoid this warning.\n",
      "  result = read_func(\n"
     ]
    },
    {
     "name": "stdout",
     "output_type": "stream",
     "text": [
      "Płock\n"
     ]
    },
    {
     "name": "stderr",
     "output_type": "stream",
     "text": [
      "/home/krasen/urban_taxonomy/.pixi/envs/default/lib/python3.12/site-packages/pyogrio/geopandas.py:265: UserWarning: More than one layer found in 'PL026L2_PLOCK_UA2018_v013.gpkg': 'PL026L2_PLOCK_UA2018' (default), 'PL026L2_PLOCK_UA2018_Boundary', 'PL026L2_PLOCK_UA2018_UrbanCore'. Specify layer parameter to avoid this warning.\n",
      "  result = read_func(\n"
     ]
    },
    {
     "name": "stdout",
     "output_type": "stream",
     "text": [
      "Warszawa\n"
     ]
    },
    {
     "name": "stderr",
     "output_type": "stream",
     "text": [
      "/home/krasen/urban_taxonomy/.pixi/envs/default/lib/python3.12/site-packages/pyogrio/geopandas.py:265: UserWarning: More than one layer found in 'PL001L2_WARSZAWA_UA2018_v013.gpkg': 'PL001L2_WARSZAWA_UA2018' (default), 'PL001L2_WARSZAWA_UA2018_Boundary', 'PL001L2_WARSZAWA_UA2018_UrbanCore'. Specify layer parameter to avoid this warning.\n",
      "  result = read_func(\n"
     ]
    },
    {
     "name": "stdout",
     "output_type": "stream",
     "text": [
      "Przemyśl\n"
     ]
    },
    {
     "name": "stderr",
     "output_type": "stream",
     "text": [
      "/home/krasen/urban_taxonomy/.pixi/envs/default/lib/python3.12/site-packages/pyogrio/geopandas.py:265: UserWarning: More than one layer found in 'PL040L1_PRZEMYSL_UA2018_v013.gpkg': 'PL040L1_PRZEMYSL_UA2018' (default), 'PL040L1_PRZEMYSL_UA2018_Boundary', 'PL040L1_PRZEMYSL_UA2018_UrbanCore'. Specify layer parameter to avoid this warning.\n",
      "  result = read_func(\n"
     ]
    },
    {
     "name": "stdout",
     "output_type": "stream",
     "text": [
      "Zielona Góra\n"
     ]
    },
    {
     "name": "stderr",
     "output_type": "stream",
     "text": [
      "/home/krasen/urban_taxonomy/.pixi/envs/default/lib/python3.12/site-packages/pyogrio/geopandas.py:265: UserWarning: More than one layer found in 'PL018L2_ZIELONA_GORA_UA2018_v013.gpkg': 'PL018L2_ZIELONA_GORA_UA2018' (default), 'PL018L2_ZIELONA_GORA_UA2018_Boundary', 'PL018L2_ZIELONA_GORA_UA2018_UrbanCore'. Specify layer parameter to avoid this warning.\n",
      "  result = read_func(\n"
     ]
    },
    {
     "name": "stdout",
     "output_type": "stream",
     "text": [
      "Inowrocław\n"
     ]
    },
    {
     "name": "stderr",
     "output_type": "stream",
     "text": [
      "/home/krasen/urban_taxonomy/.pixi/envs/default/lib/python3.12/site-packages/pyogrio/geopandas.py:265: UserWarning: More than one layer found in 'PL035L1_INOWROCLAW_UA2018_v013.gpkg': 'PL035L1_INOWROCLAW_UA2018' (default), 'PL035L1_INOWROCLAW_UA2018_Boundary', 'PL035L1_INOWROCLAW_UA2018_UrbanCore'. Specify layer parameter to avoid this warning.\n",
      "  result = read_func(\n"
     ]
    },
    {
     "name": "stdout",
     "output_type": "stream",
     "text": [
      "Leszno\n"
     ]
    },
    {
     "name": "stderr",
     "output_type": "stream",
     "text": [
      "/home/krasen/urban_taxonomy/.pixi/envs/default/lib/python3.12/site-packages/pyogrio/geopandas.py:265: UserWarning: More than one layer found in 'PL048L1_LESZNO_UA2018_v013.gpkg': 'PL048L1_LESZNO_UA2018' (default), 'PL048L1_LESZNO_UA2018_Boundary', 'PL048L1_LESZNO_UA2018_UrbanCore'. Specify layer parameter to avoid this warning.\n",
      "  result = read_func(\n"
     ]
    },
    {
     "name": "stdout",
     "output_type": "stream",
     "text": [
      "Olsztyn\n"
     ]
    },
    {
     "name": "stderr",
     "output_type": "stream",
     "text": [
      "/home/krasen/urban_taxonomy/.pixi/envs/default/lib/python3.12/site-packages/pyogrio/geopandas.py:265: UserWarning: More than one layer found in 'PL014L2_OLSZTYN_UA2018_v013.gpkg': 'PL014L2_OLSZTYN_UA2018' (default), 'PL014L2_OLSZTYN_UA2018_Boundary', 'PL014L2_OLSZTYN_UA2018_UrbanCore'. Specify layer parameter to avoid this warning.\n",
      "  result = read_func(\n"
     ]
    },
    {
     "name": "stdout",
     "output_type": "stream",
     "text": [
      "Rybnik\n"
     ]
    },
    {
     "name": "stderr",
     "output_type": "stream",
     "text": [
      "/home/krasen/urban_taxonomy/.pixi/envs/default/lib/python3.12/site-packages/pyogrio/geopandas.py:265: UserWarning: More than one layer found in 'PL508L1_RYBNIK_UA2018_v013.gpkg': 'PL508L1_RYBNIK_UA2018' (default), 'PL508L1_RYBNIK_UA2018_Boundary', 'PL508L1_RYBNIK_UA2018_UrbanCore'. Specify layer parameter to avoid this warning.\n",
      "  result = read_func(\n"
     ]
    },
    {
     "name": "stdout",
     "output_type": "stream",
     "text": [
      "Siedlce\n"
     ]
    },
    {
     "name": "stderr",
     "output_type": "stream",
     "text": [
      "/home/krasen/urban_taxonomy/.pixi/envs/default/lib/python3.12/site-packages/pyogrio/geopandas.py:265: UserWarning: More than one layer found in 'PL031L1_SIEDLCE_UA2018_v013.gpkg': 'PL031L1_SIEDLCE_UA2018' (default), 'PL031L1_SIEDLCE_UA2018_Boundary', 'PL031L1_SIEDLCE_UA2018_UrbanCore'. Specify layer parameter to avoid this warning.\n",
      "  result = read_func(\n"
     ]
    },
    {
     "name": "stdout",
     "output_type": "stream",
     "text": [
      "Rzeszów\n"
     ]
    },
    {
     "name": "stderr",
     "output_type": "stream",
     "text": [
      "/home/krasen/urban_taxonomy/.pixi/envs/default/lib/python3.12/site-packages/pyogrio/geopandas.py:265: UserWarning: More than one layer found in 'PL015L2_RZESZOW_UA2018_v013.gpkg': 'PL015L2_RZESZOW_UA2018' (default), 'PL015L2_RZESZOW_UA2018_Boundary', 'PL015L2_RZESZOW_UA2018_UrbanCore'. Specify layer parameter to avoid this warning.\n",
      "  result = read_func(\n"
     ]
    },
    {
     "name": "stdout",
     "output_type": "stream",
     "text": [
      "Kielce\n"
     ]
    },
    {
     "name": "stderr",
     "output_type": "stream",
     "text": [
      "/home/krasen/urban_taxonomy/.pixi/envs/default/lib/python3.12/site-packages/pyogrio/geopandas.py:265: UserWarning: More than one layer found in 'PL012L2_KIELCE_UA2018_v013.gpkg': 'PL012L2_KIELCE_UA2018' (default), 'PL012L2_KIELCE_UA2018_Boundary', 'PL012L2_KIELCE_UA2018_UrbanCore'. Specify layer parameter to avoid this warning.\n",
      "  result = read_func(\n"
     ]
    },
    {
     "name": "stdout",
     "output_type": "stream",
     "text": [
      "Katowice\n"
     ]
    },
    {
     "name": "stderr",
     "output_type": "stream",
     "text": [
      "/home/krasen/urban_taxonomy/.pixi/envs/default/lib/python3.12/site-packages/pyogrio/geopandas.py:265: UserWarning: More than one layer found in 'PL010L2_KATOWICE_UA2018_v013.gpkg': 'PL010L2_KATOWICE_UA2018' (default), 'PL010L2_KATOWICE_UA2018_Boundary', 'PL010L2_KATOWICE_UA2018_UrbanCore'. Specify layer parameter to avoid this warning.\n",
      "  result = read_func(\n"
     ]
    },
    {
     "name": "stdout",
     "output_type": "stream",
     "text": [
      "Ostrowiec Świętokrzyski\n"
     ]
    },
    {
     "name": "stderr",
     "output_type": "stream",
     "text": [
      "/home/krasen/urban_taxonomy/.pixi/envs/default/lib/python3.12/site-packages/pyogrio/geopandas.py:265: UserWarning: More than one layer found in 'PL036L1_OSTROWIEC_SWIETOKRZYSKI_UA2018_v013.gpkg': 'PL036L1_OSTROWIEC_SWIETOKRZYSKI_UA2018' (default), 'PL036L1_OSTROWIEC_SWIETOKRZYSKI_UA2018_Boundary', 'PL036L1_OSTROWIEC_SWIETOKRZYSKI_UA2018_UrbanCore'. Specify layer parameter to avoid this warning.\n",
      "  result = read_func(\n"
     ]
    },
    {
     "name": "stdout",
     "output_type": "stream",
     "text": [
      "Zamość\n"
     ]
    },
    {
     "name": "stderr",
     "output_type": "stream",
     "text": [
      "/home/krasen/urban_taxonomy/.pixi/envs/default/lib/python3.12/site-packages/pyogrio/geopandas.py:265: UserWarning: More than one layer found in 'PL041L1_ZAMOSC_UA2018_v013.gpkg': 'PL041L1_ZAMOSC_UA2018' (default), 'PL041L1_ZAMOSC_UA2018_Boundary', 'PL041L1_ZAMOSC_UA2018_UrbanCore'. Specify layer parameter to avoid this warning.\n",
      "  result = read_func(\n"
     ]
    },
    {
     "name": "stdout",
     "output_type": "stream",
     "text": [
      "Gdańsk\n"
     ]
    },
    {
     "name": "stderr",
     "output_type": "stream",
     "text": [
      "/home/krasen/urban_taxonomy/.pixi/envs/default/lib/python3.12/site-packages/pyogrio/geopandas.py:265: UserWarning: More than one layer found in 'PL006L2_GDANSK_UA2018_v013.gpkg': 'PL006L2_GDANSK_UA2018' (default), 'PL006L2_GDANSK_UA2018_Boundary', 'PL006L2_GDANSK_UA2018_UrbanCore'. Specify layer parameter to avoid this warning.\n",
      "  result = read_func(\n"
     ]
    },
    {
     "name": "stdout",
     "output_type": "stream",
     "text": [
      "Koszalin\n"
     ]
    },
    {
     "name": "stderr",
     "output_type": "stream",
     "text": [
      "/home/krasen/urban_taxonomy/.pixi/envs/default/lib/python3.12/site-packages/pyogrio/geopandas.py:265: UserWarning: More than one layer found in 'PL028L2_KOSZALIN_UA2018_v013.gpkg': 'PL028L2_KOSZALIN_UA2018' (default), 'PL028L2_KOSZALIN_UA2018_Boundary', 'PL028L2_KOSZALIN_UA2018_UrbanCore'. Specify layer parameter to avoid this warning.\n",
      "  result = read_func(\n"
     ]
    },
    {
     "name": "stdout",
     "output_type": "stream",
     "text": [
      "Lublin\n"
     ]
    },
    {
     "name": "stderr",
     "output_type": "stream",
     "text": [
      "/home/krasen/urban_taxonomy/.pixi/envs/default/lib/python3.12/site-packages/pyogrio/geopandas.py:265: UserWarning: More than one layer found in 'PL009L2_LUBLIN_UA2018_v013.gpkg': 'PL009L2_LUBLIN_UA2018' (default), 'PL009L2_LUBLIN_UA2018_Boundary', 'PL009L2_LUBLIN_UA2018_UrbanCore'. Specify layer parameter to avoid this warning.\n",
      "  result = read_func(\n"
     ]
    },
    {
     "name": "stdout",
     "output_type": "stream",
     "text": [
      "Słupsk\n"
     ]
    },
    {
     "name": "stderr",
     "output_type": "stream",
     "text": [
      "/home/krasen/urban_taxonomy/.pixi/envs/default/lib/python3.12/site-packages/pyogrio/geopandas.py:265: UserWarning: More than one layer found in 'PL029L1_SLUPSK_UA2018_v013.gpkg': 'PL029L1_SLUPSK_UA2018' (default), 'PL029L1_SLUPSK_UA2018_Boundary', 'PL029L1_SLUPSK_UA2018_UrbanCore'. Specify layer parameter to avoid this warning.\n",
      "  result = read_func(\n"
     ]
    },
    {
     "name": "stdout",
     "output_type": "stream",
     "text": [
      "Stargard Szczeciński\n"
     ]
    },
    {
     "name": "stderr",
     "output_type": "stream",
     "text": [
      "/home/krasen/urban_taxonomy/.pixi/envs/default/lib/python3.12/site-packages/pyogrio/geopandas.py:265: UserWarning: More than one layer found in 'PL038L1_STARGARD_SZCZECINSKI_UA2018_v013.gpkg': 'PL038L1_STARGARD_SZCZECINSKI_UA2018' (default), 'PL038L1_STARGARD_SZCZECINSKI_UA2018_Boundary', 'PL038L1_STARGARD_SZCZECINSKI_UA2018_UrbanCore'. Specify layer parameter to avoid this warning.\n",
      "  result = read_func(\n"
     ]
    },
    {
     "name": "stdout",
     "output_type": "stream",
     "text": [
      "Jastrzębie-Zdrój\n"
     ]
    },
    {
     "name": "stderr",
     "output_type": "stream",
     "text": [
      "/home/krasen/urban_taxonomy/.pixi/envs/default/lib/python3.12/site-packages/pyogrio/geopandas.py:265: UserWarning: More than one layer found in 'PL030L1_JASTRZEBIE_ZDROJ_UA2018_v013.gpkg': 'PL030L1_JASTRZEBIE_ZDROJ_UA2018' (default), 'PL030L1_JASTRZEBIE_ZDROJ_UA2018_Boundary', 'PL030L1_JASTRZEBIE_ZDROJ_UA2018_UrbanCore'. Specify layer parameter to avoid this warning.\n",
      "  result = read_func(\n"
     ]
    },
    {
     "name": "stdout",
     "output_type": "stream",
     "text": [
      "Kalisz\n"
     ]
    },
    {
     "name": "stderr",
     "output_type": "stream",
     "text": [
      "/home/krasen/urban_taxonomy/.pixi/envs/default/lib/python3.12/site-packages/pyogrio/geopandas.py:265: UserWarning: More than one layer found in 'PL027L2_KALISZ_UA2018_v013.gpkg': 'PL027L2_KALISZ_UA2018' (default), 'PL027L2_KALISZ_UA2018_Boundary', 'PL027L2_KALISZ_UA2018_UrbanCore'. Specify layer parameter to avoid this warning.\n",
      "  result = read_func(\n"
     ]
    },
    {
     "name": "stdout",
     "output_type": "stream",
     "text": [
      "Suwałki\n"
     ]
    },
    {
     "name": "stderr",
     "output_type": "stream",
     "text": [
      "/home/krasen/urban_taxonomy/.pixi/envs/default/lib/python3.12/site-packages/pyogrio/geopandas.py:265: UserWarning: More than one layer found in 'PL021L2_SUWALKI_UA2018_v013.gpkg': 'PL021L2_SUWALKI_UA2018' (default), 'PL021L2_SUWALKI_UA2018_Boundary', 'PL021L2_SUWALKI_UA2018_UrbanCore'. Specify layer parameter to avoid this warning.\n",
      "  result = read_func(\n"
     ]
    },
    {
     "name": "stdout",
     "output_type": "stream",
     "text": [
      "Tarnów\n"
     ]
    },
    {
     "name": "stderr",
     "output_type": "stream",
     "text": [
      "/home/krasen/urban_taxonomy/.pixi/envs/default/lib/python3.12/site-packages/pyogrio/geopandas.py:265: UserWarning: More than one layer found in 'PL514L2_TARNOW_UA2018_v013.gpkg': 'PL514L2_TARNOW_UA2018' (default), 'PL514L2_TARNOW_UA2018_Boundary', 'PL514L2_TARNOW_UA2018_UrbanCore'. Specify layer parameter to avoid this warning.\n",
      "  result = read_func(\n"
     ]
    },
    {
     "name": "stdout",
     "output_type": "stream",
     "text": [
      "Legnica\n"
     ]
    },
    {
     "name": "stderr",
     "output_type": "stream",
     "text": [
      "/home/krasen/urban_taxonomy/.pixi/envs/default/lib/python3.12/site-packages/pyogrio/geopandas.py:265: UserWarning: More than one layer found in 'PL516L2_LEGNICA_UA2018_v013.gpkg': 'PL516L2_LEGNICA_UA2018' (default), 'PL516L2_LEGNICA_UA2018_Boundary', 'PL516L2_LEGNICA_UA2018_UrbanCore'. Specify layer parameter to avoid this warning.\n",
      "  result = read_func(\n"
     ]
    },
    {
     "name": "stdout",
     "output_type": "stream",
     "text": [
      "Toruń\n"
     ]
    },
    {
     "name": "stderr",
     "output_type": "stream",
     "text": [
      "/home/krasen/urban_taxonomy/.pixi/envs/default/lib/python3.12/site-packages/pyogrio/geopandas.py:265: UserWarning: More than one layer found in 'PL013L2_TORUN_UA2018_v013.gpkg': 'PL013L2_TORUN_UA2018' (default), 'PL013L2_TORUN_UA2018_Boundary', 'PL013L2_TORUN_UA2018_UrbanCore'. Specify layer parameter to avoid this warning.\n",
      "  result = read_func(\n"
     ]
    },
    {
     "name": "stdout",
     "output_type": "stream",
     "text": [
      "Szczecin\n"
     ]
    },
    {
     "name": "stderr",
     "output_type": "stream",
     "text": [
      "/home/krasen/urban_taxonomy/.pixi/envs/default/lib/python3.12/site-packages/pyogrio/geopandas.py:265: UserWarning: More than one layer found in 'PL007L2_SZCZECIN_UA2018_v013.gpkg': 'PL007L2_SZCZECIN_UA2018' (default), 'PL007L2_SZCZECIN_UA2018_Boundary', 'PL007L2_SZCZECIN_UA2018_UrbanCore'. Specify layer parameter to avoid this warning.\n",
      "  result = read_func(\n"
     ]
    },
    {
     "name": "stdout",
     "output_type": "stream",
     "text": [
      "Piła\n"
     ]
    },
    {
     "name": "stderr",
     "output_type": "stream",
     "text": [
      "/home/krasen/urban_taxonomy/.pixi/envs/default/lib/python3.12/site-packages/pyogrio/geopandas.py:265: UserWarning: More than one layer found in 'PL034L1_PILA_UA2018_v013.gpkg': 'PL034L1_PILA_UA2018' (default), 'PL034L1_PILA_UA2018_Boundary', 'PL034L1_PILA_UA2018_UrbanCore'. Specify layer parameter to avoid this warning.\n",
      "  result = read_func(\n"
     ]
    },
    {
     "name": "stdout",
     "output_type": "stream",
     "text": [
      "Tomaszów Mazowiecki\n"
     ]
    },
    {
     "name": "stderr",
     "output_type": "stream",
     "text": [
      "/home/krasen/urban_taxonomy/.pixi/envs/default/lib/python3.12/site-packages/pyogrio/geopandas.py:265: UserWarning: More than one layer found in 'PL046L1_TOMASZOW_MAZOWIECKI_UA2018_v013.gpkg': 'PL046L1_TOMASZOW_MAZOWIECKI_UA2018' (default), 'PL046L1_TOMASZOW_MAZOWIECKI_UA2018_Boundary', 'PL046L1_TOMASZOW_MAZOWIECKI_UA2018_UrbanCore'. Specify layer parameter to avoid this warning.\n",
      "  result = read_func(\n"
     ]
    },
    {
     "name": "stdout",
     "output_type": "stream",
     "text": [
      "Ostrów Wielkopolski\n"
     ]
    },
    {
     "name": "stderr",
     "output_type": "stream",
     "text": [
      "/home/krasen/urban_taxonomy/.pixi/envs/default/lib/python3.12/site-packages/pyogrio/geopandas.py:265: UserWarning: More than one layer found in 'PL039L1_OSTROW_WIELKOPOLSKI_UA2018_v013.gpkg': 'PL039L1_OSTROW_WIELKOPOLSKI_UA2018' (default), 'PL039L1_OSTROW_WIELKOPOLSKI_UA2018_Boundary', 'PL039L1_OSTROW_WIELKOPOLSKI_UA2018_UrbanCore'. Specify layer parameter to avoid this warning.\n",
      "  result = read_func(\n"
     ]
    },
    {
     "name": "stdout",
     "output_type": "stream",
     "text": [
      "Konin\n"
     ]
    },
    {
     "name": "stderr",
     "output_type": "stream",
     "text": [
      "/home/krasen/urban_taxonomy/.pixi/envs/default/lib/python3.12/site-packages/pyogrio/geopandas.py:265: UserWarning: More than one layer found in 'PL022L2_KONIN_UA2018_v013.gpkg': 'PL022L2_KONIN_UA2018' (default), 'PL022L2_KONIN_UA2018_Boundary', 'PL022L2_KONIN_UA2018_UrbanCore'. Specify layer parameter to avoid this warning.\n",
      "  result = read_func(\n"
     ]
    },
    {
     "name": "stdout",
     "output_type": "stream",
     "text": [
      "Nowy Sącz\n"
     ]
    },
    {
     "name": "stderr",
     "output_type": "stream",
     "text": [
      "/home/krasen/urban_taxonomy/.pixi/envs/default/lib/python3.12/site-packages/pyogrio/geopandas.py:265: UserWarning: More than one layer found in 'PL020L2_NOWY_SACZ_UA2018_v013.gpkg': 'PL020L2_NOWY_SACZ_UA2018' (default), 'PL020L2_NOWY_SACZ_UA2018_Boundary', 'PL020L2_NOWY_SACZ_UA2018_UrbanCore'. Specify layer parameter to avoid this warning.\n",
      "  result = read_func(\n"
     ]
    },
    {
     "name": "stdout",
     "output_type": "stream",
     "text": [
      "Elbląg\n"
     ]
    },
    {
     "name": "stderr",
     "output_type": "stream",
     "text": [
      "/home/krasen/urban_taxonomy/.pixi/envs/default/lib/python3.12/site-packages/pyogrio/geopandas.py:265: UserWarning: More than one layer found in 'PL512L2_ELBLAG_UA2018_v013.gpkg': 'PL512L2_ELBLAG_UA2018' (default), 'PL512L2_ELBLAG_UA2018_Boundary', 'PL512L2_ELBLAG_UA2018_UrbanCore'. Specify layer parameter to avoid this warning.\n",
      "  result = read_func(\n"
     ]
    },
    {
     "name": "stdout",
     "output_type": "stream",
     "text": [
      "Lubin\n"
     ]
    },
    {
     "name": "stderr",
     "output_type": "stream",
     "text": [
      "/home/krasen/urban_taxonomy/.pixi/envs/default/lib/python3.12/site-packages/pyogrio/geopandas.py:265: UserWarning: More than one layer found in 'PL033L1_LUBIN_UA2018_v013.gpkg': 'PL033L1_LUBIN_UA2018' (default), 'PL033L1_LUBIN_UA2018_Boundary', 'PL033L1_LUBIN_UA2018_UrbanCore'. Specify layer parameter to avoid this warning.\n",
      "  result = read_func(\n"
     ]
    },
    {
     "name": "stdout",
     "output_type": "stream",
     "text": [
      "Kraków\n"
     ]
    },
    {
     "name": "stderr",
     "output_type": "stream",
     "text": [
      "/home/krasen/urban_taxonomy/.pixi/envs/default/lib/python3.12/site-packages/pyogrio/geopandas.py:265: UserWarning: More than one layer found in 'PL003L2_KRAKOW_UA2018_v013.gpkg': 'PL003L2_KRAKOW_UA2018' (default), 'PL003L2_KRAKOW_UA2018_Boundary', 'PL003L2_KRAKOW_UA2018_UrbanCore'. Specify layer parameter to avoid this warning.\n",
      "  result = read_func(\n"
     ]
    },
    {
     "name": "stdout",
     "output_type": "stream",
     "text": [
      "Bydgoszcz\n"
     ]
    },
    {
     "name": "stderr",
     "output_type": "stream",
     "text": [
      "/home/krasen/urban_taxonomy/.pixi/envs/default/lib/python3.12/site-packages/pyogrio/geopandas.py:265: UserWarning: More than one layer found in 'PL008L2_BYDGOSZCZ_UA2018_v013.gpkg': 'PL008L2_BYDGOSZCZ_UA2018' (default), 'PL008L2_BYDGOSZCZ_UA2018_Boundary', 'PL008L2_BYDGOSZCZ_UA2018_UrbanCore'. Specify layer parameter to avoid this warning.\n",
      "  result = read_func(\n"
     ]
    },
    {
     "name": "stdout",
     "output_type": "stream",
     "text": [
      "Chemnitz\n"
     ]
    },
    {
     "name": "stderr",
     "output_type": "stream",
     "text": [
      "/home/krasen/urban_taxonomy/.pixi/envs/default/lib/python3.12/site-packages/pyogrio/geopandas.py:265: UserWarning: More than one layer found in 'DE505L0_CHEMNITZ_UA2018_v013.gpkg': 'DE505L0_CHEMNITZ_UA2018' (default), 'DE505L0_CHEMNITZ_UA2018_Boundary', 'DE505L0_CHEMNITZ_UA2018_UrbanCore'. Specify layer parameter to avoid this warning.\n",
      "  result = read_func(\n"
     ]
    },
    {
     "name": "stdout",
     "output_type": "stream",
     "text": [
      "Marburg\n"
     ]
    },
    {
     "name": "stderr",
     "output_type": "stream",
     "text": [
      "/home/krasen/urban_taxonomy/.pixi/envs/default/lib/python3.12/site-packages/pyogrio/geopandas.py:265: UserWarning: More than one layer found in 'DE053L1_MARBURG_UA2018_v013.gpkg': 'DE053L1_MARBURG_UA2018' (default), 'DE053L1_MARBURG_UA2018_Boundary', 'DE053L1_MARBURG_UA2018_UrbanCore'. Specify layer parameter to avoid this warning.\n",
      "  result = read_func(\n"
     ]
    },
    {
     "name": "stdout",
     "output_type": "stream",
     "text": [
      "Frankfurt (Oder)\n"
     ]
    },
    {
     "name": "stderr",
     "output_type": "stream",
     "text": [
      "/home/krasen/urban_taxonomy/.pixi/envs/default/lib/python3.12/site-packages/pyogrio/geopandas.py:265: UserWarning: More than one layer found in 'DE029L0_FRANKFURT_ODER_UA2018_v013.gpkg': 'DE029L0_FRANKFURT_ODER_UA2018' (default), 'DE029L0_FRANKFURT_ODER_UA2018_Boundary', 'DE029L0_FRANKFURT_ODER_UA2018_UrbanCore'. Specify layer parameter to avoid this warning.\n",
      "  result = read_func(\n"
     ]
    },
    {
     "name": "stdout",
     "output_type": "stream",
     "text": [
      "Hildesheim\n"
     ]
    },
    {
     "name": "stderr",
     "output_type": "stream",
     "text": [
      "/home/krasen/urban_taxonomy/.pixi/envs/default/lib/python3.12/site-packages/pyogrio/geopandas.py:265: UserWarning: More than one layer found in 'DE542L1_HILDESHEIM_UA2018_v013.gpkg': 'DE542L1_HILDESHEIM_UA2018' (default), 'DE542L1_HILDESHEIM_UA2018_Boundary', 'DE542L1_HILDESHEIM_UA2018_UrbanCore'. Specify layer parameter to avoid this warning.\n",
      "  result = read_func(\n"
     ]
    },
    {
     "name": "stdout",
     "output_type": "stream",
     "text": [
      "Kaiserslautern\n"
     ]
    },
    {
     "name": "stderr",
     "output_type": "stream",
     "text": [
      "/home/krasen/urban_taxonomy/.pixi/envs/default/lib/python3.12/site-packages/pyogrio/geopandas.py:265: UserWarning: More than one layer found in 'DE044L1_KAISERSLAUTERN_UA2018_v013.gpkg': 'DE044L1_KAISERSLAUTERN_UA2018' (default), 'DE044L1_KAISERSLAUTERN_UA2018_Boundary', 'DE044L1_KAISERSLAUTERN_UA2018_UrbanCore'. Specify layer parameter to avoid this warning.\n",
      "  result = read_func(\n"
     ]
    },
    {
     "name": "stdout",
     "output_type": "stream",
     "text": [
      "Pforzheim\n"
     ]
    },
    {
     "name": "stderr",
     "output_type": "stream",
     "text": [
      "/home/krasen/urban_taxonomy/.pixi/envs/default/lib/python3.12/site-packages/pyogrio/geopandas.py:265: UserWarning: More than one layer found in 'DE533L1_PFORZHEIM_UA2018_v013.gpkg': 'DE533L1_PFORZHEIM_UA2018' (default), 'DE533L1_PFORZHEIM_UA2018_Boundary', 'DE533L1_PFORZHEIM_UA2018_UrbanCore'. Specify layer parameter to avoid this warning.\n",
      "  result = read_func(\n"
     ]
    },
    {
     "name": "stdout",
     "output_type": "stream",
     "text": [
      "Düren\n"
     ]
    },
    {
     "name": "stderr",
     "output_type": "stream",
     "text": [
      "/home/krasen/urban_taxonomy/.pixi/envs/default/lib/python3.12/site-packages/pyogrio/geopandas.py:265: UserWarning: More than one layer found in 'DE548L1_DUREN_UA2018_v013.gpkg': 'DE548L1_DUREN_UA2018' (default), 'DE548L1_DUREN_UA2018_Boundary'. Specify layer parameter to avoid this warning.\n",
      "  result = read_func(\n"
     ]
    },
    {
     "name": "stdout",
     "output_type": "stream",
     "text": [
      "Brandenburg an der Havel\n"
     ]
    },
    {
     "name": "stderr",
     "output_type": "stream",
     "text": [
      "/home/krasen/urban_taxonomy/.pixi/envs/default/lib/python3.12/site-packages/pyogrio/geopandas.py:265: UserWarning: More than one layer found in 'DE056L0_BRANDENBURG_AN_DER_HAVEL_UA2018_v013.gpkg': 'DE056L0_BRANDENBURG_AN_DER_HAVEL_UA2018' (default), 'DE056L0_BRANDENBURG_AN_DER_HAVEL_UA2018_Boundary', 'DE056L0_BRANDENBURG_AN_DER_HAVEL_UA2018_UrbanCore'. Specify layer parameter to avoid this warning.\n",
      "  result = read_func(\n"
     ]
    },
    {
     "name": "stdout",
     "output_type": "stream",
     "text": [
      "Lübeck\n"
     ]
    },
    {
     "name": "stderr",
     "output_type": "stream",
     "text": [
      "/home/krasen/urban_taxonomy/.pixi/envs/default/lib/python3.12/site-packages/pyogrio/geopandas.py:265: UserWarning: More than one layer found in 'DE510L1_LUBECK_UA2018_v013.gpkg': 'DE510L1_LUBECK_UA2018' (default), 'DE510L1_LUBECK_UA2018_Boundary', 'DE510L1_LUBECK_UA2018_UrbanCore'. Specify layer parameter to avoid this warning.\n",
      "  result = read_func(\n"
     ]
    },
    {
     "name": "stdout",
     "output_type": "stream",
     "text": [
      "Regensburg\n"
     ]
    },
    {
     "name": "stderr",
     "output_type": "stream",
     "text": [
      "/home/krasen/urban_taxonomy/.pixi/envs/default/lib/python3.12/site-packages/pyogrio/geopandas.py:265: UserWarning: More than one layer found in 'DE028L1_REGENSBURG_UA2018_v013.gpkg': 'DE028L1_REGENSBURG_UA2018' (default), 'DE028L1_REGENSBURG_UA2018_Boundary', 'DE028L1_REGENSBURG_UA2018_UrbanCore'. Specify layer parameter to avoid this warning.\n",
      "  result = read_func(\n"
     ]
    },
    {
     "name": "stdout",
     "output_type": "stream",
     "text": [
      "Augsburg\n"
     ]
    },
    {
     "name": "stderr",
     "output_type": "stream",
     "text": [
      "/home/krasen/urban_taxonomy/.pixi/envs/default/lib/python3.12/site-packages/pyogrio/geopandas.py:265: UserWarning: More than one layer found in 'DE033L1_AUGSBURG_UA2018_v013.gpkg': 'DE033L1_AUGSBURG_UA2018' (default), 'DE033L1_AUGSBURG_UA2018_Boundary', 'DE033L1_AUGSBURG_UA2018_UrbanCore'. Specify layer parameter to avoid this warning.\n",
      "  result = read_func(\n"
     ]
    },
    {
     "name": "stdout",
     "output_type": "stream",
     "text": [
      "Rosenheim\n"
     ]
    },
    {
     "name": "stderr",
     "output_type": "stream",
     "text": [
      "/home/krasen/urban_taxonomy/.pixi/envs/default/lib/python3.12/site-packages/pyogrio/geopandas.py:265: UserWarning: More than one layer found in 'DE069L1_ROSENHEIM_UA2018_v013.gpkg': 'DE069L1_ROSENHEIM_UA2018' (default), 'DE069L1_ROSENHEIM_UA2018_Boundary', 'DE069L1_ROSENHEIM_UA2018_UrbanCore'. Specify layer parameter to avoid this warning.\n",
      "  result = read_func(\n"
     ]
    },
    {
     "name": "stdout",
     "output_type": "stream",
     "text": [
      "Kassel\n"
     ]
    },
    {
     "name": "stderr",
     "output_type": "stream",
     "text": [
      "/home/krasen/urban_taxonomy/.pixi/envs/default/lib/python3.12/site-packages/pyogrio/geopandas.py:265: UserWarning: More than one layer found in 'DE513L1_KASSEL_UA2018_v013.gpkg': 'DE513L1_KASSEL_UA2018' (default), 'DE513L1_KASSEL_UA2018_Boundary', 'DE513L1_KASSEL_UA2018_UrbanCore'. Specify layer parameter to avoid this warning.\n",
      "  result = read_func(\n"
     ]
    },
    {
     "name": "stdout",
     "output_type": "stream",
     "text": [
      "Ingolstadt\n"
     ]
    },
    {
     "name": "stderr",
     "output_type": "stream",
     "text": [
      "/home/krasen/urban_taxonomy/.pixi/envs/default/lib/python3.12/site-packages/pyogrio/geopandas.py:265: UserWarning: More than one layer found in 'DE534L1_INGOLSTADT_UA2018_v013.gpkg': 'DE534L1_INGOLSTADT_UA2018' (default), 'DE534L1_INGOLSTADT_UA2018_Boundary', 'DE534L1_INGOLSTADT_UA2018_UrbanCore'. Specify layer parameter to avoid this warning.\n",
      "  result = read_func(\n"
     ]
    },
    {
     "name": "stdout",
     "output_type": "stream",
     "text": [
      "Passau\n"
     ]
    },
    {
     "name": "stderr",
     "output_type": "stream",
     "text": [
      "/home/krasen/urban_taxonomy/.pixi/envs/default/lib/python3.12/site-packages/pyogrio/geopandas.py:265: UserWarning: More than one layer found in 'DE081L1_PASSAU_UA2018_v013.gpkg': 'DE081L1_PASSAU_UA2018' (default), 'DE081L1_PASSAU_UA2018_Boundary', 'DE081L1_PASSAU_UA2018_UrbanCore'. Specify layer parameter to avoid this warning.\n",
      "  result = read_func(\n"
     ]
    },
    {
     "name": "stdout",
     "output_type": "stream",
     "text": [
      "Mannheim-Ludwigshafen\n"
     ]
    },
    {
     "name": "stderr",
     "output_type": "stream",
     "text": [
      "/home/krasen/urban_taxonomy/.pixi/envs/default/lib/python3.12/site-packages/pyogrio/geopandas.py:265: UserWarning: More than one layer found in 'DE084L1_MANNHEIM_LUDWIGSHAFEN_UA2018_v013.gpkg': 'DE084L1_MANNHEIM_LUDWIGSHAFEN_UA2018' (default), 'DE084L1_MANNHEIM_LUDWIGSHAFEN_UA2018_Boundary'. Specify layer parameter to avoid this warning.\n",
      "  result = read_func(\n"
     ]
    },
    {
     "name": "stdout",
     "output_type": "stream",
     "text": [
      "Bayreuth\n"
     ]
    },
    {
     "name": "stderr",
     "output_type": "stream",
     "text": [
      "/home/krasen/urban_taxonomy/.pixi/envs/default/lib/python3.12/site-packages/pyogrio/geopandas.py:265: UserWarning: More than one layer found in 'DE059L1_BAYREUTH_UA2018_v013.gpkg': 'DE059L1_BAYREUTH_UA2018' (default), 'DE059L1_BAYREUTH_UA2018_Boundary', 'DE059L1_BAYREUTH_UA2018_UrbanCore'. Specify layer parameter to avoid this warning.\n",
      "  result = read_func(\n"
     ]
    },
    {
     "name": "stdout",
     "output_type": "stream",
     "text": [
      "Paderborn\n"
     ]
    },
    {
     "name": "stderr",
     "output_type": "stream",
     "text": [
      "/home/krasen/urban_taxonomy/.pixi/envs/default/lib/python3.12/site-packages/pyogrio/geopandas.py:265: UserWarning: More than one layer found in 'DE523L1_PADERBORN_UA2018_v013.gpkg': 'DE523L1_PADERBORN_UA2018' (default), 'DE523L1_PADERBORN_UA2018_Boundary', 'DE523L1_PADERBORN_UA2018_UrbanCore'. Specify layer parameter to avoid this warning.\n",
      "  result = read_func(\n"
     ]
    },
    {
     "name": "stdout",
     "output_type": "stream",
     "text": [
      "Nürnberg\n"
     ]
    },
    {
     "name": "stderr",
     "output_type": "stream",
     "text": [
      "/home/krasen/urban_taxonomy/.pixi/envs/default/lib/python3.12/site-packages/pyogrio/geopandas.py:265: UserWarning: More than one layer found in 'DE014L1_NURNBERG_UA2018_v013.gpkg': 'DE014L1_NURNBERG_UA2018' (default), 'DE014L1_NURNBERG_UA2018_Boundary', 'DE014L1_NURNBERG_UA2018_UrbanCore'. Specify layer parameter to avoid this warning.\n",
      "  result = read_func(\n"
     ]
    },
    {
     "name": "stdout",
     "output_type": "stream",
     "text": [
      "Halle an der Saale\n"
     ]
    },
    {
     "name": "stderr",
     "output_type": "stream",
     "text": [
      "/home/krasen/urban_taxonomy/.pixi/envs/default/lib/python3.12/site-packages/pyogrio/geopandas.py:265: UserWarning: More than one layer found in 'DE018L1_HALLE_AN_DER_SAALE_UA2018_v013.gpkg': 'DE018L1_HALLE_AN_DER_SAALE_UA2018' (default), 'DE018L1_HALLE_AN_DER_SAALE_UA2018_Boundary', 'DE018L1_HALLE_AN_DER_SAALE_UA2018_UrbanCore'. Specify layer parameter to avoid this warning.\n",
      "  result = read_func(\n"
     ]
    },
    {
     "name": "stdout",
     "output_type": "stream",
     "text": [
      "Remscheid\n"
     ]
    },
    {
     "name": "stderr",
     "output_type": "stream",
     "text": [
      "/home/krasen/urban_taxonomy/.pixi/envs/default/lib/python3.12/site-packages/pyogrio/geopandas.py:265: UserWarning: More than one layer found in 'DE530L0_REMSCHEID_UA2018_v013.gpkg': 'DE530L0_REMSCHEID_UA2018' (default), 'DE530L0_REMSCHEID_UA2018_Boundary', 'DE530L0_REMSCHEID_UA2018_UrbanCore'. Specify layer parameter to avoid this warning.\n",
      "  result = read_func(\n"
     ]
    },
    {
     "name": "stdout",
     "output_type": "stream",
     "text": [
      "Konstanz\n"
     ]
    },
    {
     "name": "stderr",
     "output_type": "stream",
     "text": [
      "/home/krasen/urban_taxonomy/.pixi/envs/default/lib/python3.12/site-packages/pyogrio/geopandas.py:265: UserWarning: More than one layer found in 'DE054L1_KONSTANZ_UA2018_v013.gpkg': 'DE054L1_KONSTANZ_UA2018' (default), 'DE054L1_KONSTANZ_UA2018_Boundary', 'DE054L1_KONSTANZ_UA2018_UrbanCore'. Specify layer parameter to avoid this warning.\n",
      "  result = read_func(\n"
     ]
    },
    {
     "name": "stdout",
     "output_type": "stream",
     "text": [
      "Rostock\n"
     ]
    },
    {
     "name": "stderr",
     "output_type": "stream",
     "text": [
      "/home/krasen/urban_taxonomy/.pixi/envs/default/lib/python3.12/site-packages/pyogrio/geopandas.py:265: UserWarning: More than one layer found in 'DE043L2_ROSTOCK_UA2018_v013.gpkg': 'DE043L2_ROSTOCK_UA2018' (default), 'DE043L2_ROSTOCK_UA2018_Boundary', 'DE043L2_ROSTOCK_UA2018_UrbanCore'. Specify layer parameter to avoid this warning.\n",
      "  result = read_func(\n"
     ]
    },
    {
     "name": "stdout",
     "output_type": "stream",
     "text": [
      "Würzburg\n"
     ]
    },
    {
     "name": "stderr",
     "output_type": "stream",
     "text": [
      "/home/krasen/urban_taxonomy/.pixi/envs/default/lib/python3.12/site-packages/pyogrio/geopandas.py:265: UserWarning: More than one layer found in 'DE524L2_WURZBURG_UA2018_v013.gpkg': 'DE524L2_WURZBURG_UA2018' (default), 'DE524L2_WURZBURG_UA2018_Boundary', 'DE524L2_WURZBURG_UA2018_UrbanCore'. Specify layer parameter to avoid this warning.\n",
      "  result = read_func(\n"
     ]
    },
    {
     "name": "stdout",
     "output_type": "stream",
     "text": [
      "Schwerin\n"
     ]
    },
    {
     "name": "stderr",
     "output_type": "stream",
     "text": [
      "/home/krasen/urban_taxonomy/.pixi/envs/default/lib/python3.12/site-packages/pyogrio/geopandas.py:265: UserWarning: More than one layer found in 'DE031L1_SCHWERIN_UA2018_v013.gpkg': 'DE031L1_SCHWERIN_UA2018' (default), 'DE031L1_SCHWERIN_UA2018_Boundary', 'DE031L1_SCHWERIN_UA2018_UrbanCore'. Specify layer parameter to avoid this warning.\n",
      "  result = read_func(\n"
     ]
    },
    {
     "name": "stdout",
     "output_type": "stream",
     "text": [
      "Wiesbaden\n"
     ]
    },
    {
     "name": "stderr",
     "output_type": "stream",
     "text": [
      "/home/krasen/urban_taxonomy/.pixi/envs/default/lib/python3.12/site-packages/pyogrio/geopandas.py:265: UserWarning: More than one layer found in 'DE020L1_WIESBADEN_UA2018_v013.gpkg': 'DE020L1_WIESBADEN_UA2018' (default), 'DE020L1_WIESBADEN_UA2018_Boundary', 'DE020L1_WIESBADEN_UA2018_UrbanCore'. Specify layer parameter to avoid this warning.\n",
      "  result = read_func(\n"
     ]
    },
    {
     "name": "stdout",
     "output_type": "stream",
     "text": [
      "Weimar\n"
     ]
    },
    {
     "name": "stderr",
     "output_type": "stream",
     "text": [
      "/home/krasen/urban_taxonomy/.pixi/envs/default/lib/python3.12/site-packages/pyogrio/geopandas.py:265: UserWarning: More than one layer found in 'DE030L1_WEIMAR_UA2018_v013.gpkg': 'DE030L1_WEIMAR_UA2018' (default), 'DE030L1_WEIMAR_UA2018_Boundary', 'DE030L1_WEIMAR_UA2018_UrbanCore'. Specify layer parameter to avoid this warning.\n",
      "  result = read_func(\n"
     ]
    },
    {
     "name": "stdout",
     "output_type": "stream",
     "text": [
      "Berlin\n"
     ]
    },
    {
     "name": "stderr",
     "output_type": "stream",
     "text": [
      "/home/krasen/urban_taxonomy/.pixi/envs/default/lib/python3.12/site-packages/pyogrio/geopandas.py:265: UserWarning: More than one layer found in 'DE001L1_BERLIN_UA2018_v013.gpkg': 'DE001L1_BERLIN_UA2018' (default), 'DE001L1_BERLIN_UA2018_Boundary', 'DE001L1_BERLIN_UA2018_UrbanCore'. Specify layer parameter to avoid this warning.\n",
      "  result = read_func(\n"
     ]
    },
    {
     "name": "stdout",
     "output_type": "stream",
     "text": [
      "München\n"
     ]
    },
    {
     "name": "stderr",
     "output_type": "stream",
     "text": [
      "/home/krasen/urban_taxonomy/.pixi/envs/default/lib/python3.12/site-packages/pyogrio/geopandas.py:265: UserWarning: More than one layer found in 'DE003L1_MUNCHEN_UA2018_v013.gpkg': 'DE003L1_MUNCHEN_UA2018' (default), 'DE003L1_MUNCHEN_UA2018_Boundary', 'DE003L1_MUNCHEN_UA2018_UrbanCore'. Specify layer parameter to avoid this warning.\n",
      "  result = read_func(\n"
     ]
    },
    {
     "name": "stdout",
     "output_type": "stream",
     "text": [
      "Kempten (Allgäu)\n"
     ]
    },
    {
     "name": "stderr",
     "output_type": "stream",
     "text": [
      "/home/krasen/urban_taxonomy/.pixi/envs/default/lib/python3.12/site-packages/pyogrio/geopandas.py:265: UserWarning: More than one layer found in 'DE066L1_KEMPTEN_ALLGAU_UA2018_v013.gpkg': 'DE066L1_KEMPTEN_ALLGAU_UA2018' (default), 'DE066L1_KEMPTEN_ALLGAU_UA2018_Boundary', 'DE066L1_KEMPTEN_ALLGAU_UA2018_UrbanCore'. Specify layer parameter to avoid this warning.\n",
      "  result = read_func(\n"
     ]
    },
    {
     "name": "stdout",
     "output_type": "stream",
     "text": [
      "Mönchengladbach\n"
     ]
    },
    {
     "name": "stderr",
     "output_type": "stream",
     "text": [
      "/home/krasen/urban_taxonomy/.pixi/envs/default/lib/python3.12/site-packages/pyogrio/geopandas.py:265: UserWarning: More than one layer found in 'DE036L0_MONCHENGLADBACH_UA2018_v013.gpkg': 'DE036L0_MONCHENGLADBACH_UA2018' (default), 'DE036L0_MONCHENGLADBACH_UA2018_Boundary', 'DE036L0_MONCHENGLADBACH_UA2018_UrbanCore'. Specify layer parameter to avoid this warning.\n",
      "  result = read_func(\n"
     ]
    },
    {
     "name": "stdout",
     "output_type": "stream",
     "text": [
      "Plauen\n"
     ]
    },
    {
     "name": "stderr",
     "output_type": "stream",
     "text": [
      "/home/krasen/urban_taxonomy/.pixi/envs/default/lib/python3.12/site-packages/pyogrio/geopandas.py:265: UserWarning: More than one layer found in 'DE063L1_PLAUEN_UA2018_v013.gpkg': 'DE063L1_PLAUEN_UA2018' (default), 'DE063L1_PLAUEN_UA2018_Boundary', 'DE063L1_PLAUEN_UA2018_UrbanCore'. Specify layer parameter to avoid this warning.\n",
      "  result = read_func(\n"
     ]
    },
    {
     "name": "stdout",
     "output_type": "stream",
     "text": [
      "Stuttgart\n"
     ]
    },
    {
     "name": "stderr",
     "output_type": "stream",
     "text": [
      "/home/krasen/urban_taxonomy/.pixi/envs/default/lib/python3.12/site-packages/pyogrio/geopandas.py:265: UserWarning: More than one layer found in 'DE007L1_STUTTGART_UA2018_v013.gpkg': 'DE007L1_STUTTGART_UA2018' (default), 'DE007L1_STUTTGART_UA2018_Boundary', 'DE007L1_STUTTGART_UA2018_UrbanCore'. Specify layer parameter to avoid this warning.\n",
      "  result = read_func(\n"
     ]
    },
    {
     "name": "stdout",
     "output_type": "stream",
     "text": [
      "Ulm\n"
     ]
    },
    {
     "name": "stderr",
     "output_type": "stream",
     "text": [
      "/home/krasen/urban_taxonomy/.pixi/envs/default/lib/python3.12/site-packages/pyogrio/geopandas.py:265: UserWarning: More than one layer found in 'DE532L1_ULM_UA2018_v013.gpkg': 'DE532L1_ULM_UA2018' (default), 'DE532L1_ULM_UA2018_Boundary', 'DE532L1_ULM_UA2018_UrbanCore'. Specify layer parameter to avoid this warning.\n",
      "  result = read_func(\n"
     ]
    },
    {
     "name": "stdout",
     "output_type": "stream",
     "text": [
      "Neubrandenburg\n"
     ]
    },
    {
     "name": "stderr",
     "output_type": "stream",
     "text": [
      "/home/krasen/urban_taxonomy/.pixi/envs/default/lib/python3.12/site-packages/pyogrio/geopandas.py:265: UserWarning: More than one layer found in 'DE064L1_NEUBRANDENBURG_UA2018_v013.gpkg': 'DE064L1_NEUBRANDENBURG_UA2018' (default), 'DE064L1_NEUBRANDENBURG_UA2018_Boundary', 'DE064L1_NEUBRANDENBURG_UA2018_UrbanCore'. Specify layer parameter to avoid this warning.\n",
      "  result = read_func(\n"
     ]
    },
    {
     "name": "stdout",
     "output_type": "stream",
     "text": [
      "Münster\n"
     ]
    },
    {
     "name": "stderr",
     "output_type": "stream",
     "text": [
      "/home/krasen/urban_taxonomy/.pixi/envs/default/lib/python3.12/site-packages/pyogrio/geopandas.py:265: UserWarning: More than one layer found in 'DE504L1_MUNSTER_UA2018_v013.gpkg': 'DE504L1_MUNSTER_UA2018' (default), 'DE504L1_MUNSTER_UA2018_Boundary', 'DE504L1_MUNSTER_UA2018_UrbanCore'. Specify layer parameter to avoid this warning.\n",
      "  result = read_func(\n"
     ]
    },
    {
     "name": "stdout",
     "output_type": "stream",
     "text": [
      "Aachen\n"
     ]
    },
    {
     "name": "stderr",
     "output_type": "stream",
     "text": [
      "/home/krasen/urban_taxonomy/.pixi/envs/default/lib/python3.12/site-packages/pyogrio/geopandas.py:265: UserWarning: More than one layer found in 'DE507L1_AACHEN_UA2018_v013.gpkg': 'DE507L1_AACHEN_UA2018' (default), 'DE507L1_AACHEN_UA2018_Boundary', 'DE507L1_AACHEN_UA2018_UrbanCore'. Specify layer parameter to avoid this warning.\n",
      "  result = read_func(\n"
     ]
    },
    {
     "name": "stdout",
     "output_type": "stream",
     "text": [
      "Zwickau\n"
     ]
    },
    {
     "name": "stderr",
     "output_type": "stream",
     "text": [
      "/home/krasen/urban_taxonomy/.pixi/envs/default/lib/python3.12/site-packages/pyogrio/geopandas.py:265: UserWarning: More than one layer found in 'DE544L1_ZWICKAU_UA2018_v013.gpkg': 'DE544L1_ZWICKAU_UA2018' (default), 'DE544L1_ZWICKAU_UA2018_Boundary', 'DE544L1_ZWICKAU_UA2018_UrbanCore'. Specify layer parameter to avoid this warning.\n",
      "  result = read_func(\n"
     ]
    },
    {
     "name": "stdout",
     "output_type": "stream",
     "text": [
      "Osnabrück\n"
     ]
    },
    {
     "name": "stderr",
     "output_type": "stream",
     "text": [
      "/home/krasen/urban_taxonomy/.pixi/envs/default/lib/python3.12/site-packages/pyogrio/geopandas.py:265: UserWarning: More than one layer found in 'DE517L1_OSNABRUCK_UA2018_v013.gpkg': 'DE517L1_OSNABRUCK_UA2018' (default), 'DE517L1_OSNABRUCK_UA2018_Boundary', 'DE517L1_OSNABRUCK_UA2018_UrbanCore'. Specify layer parameter to avoid this warning.\n",
      "  result = read_func(\n"
     ]
    },
    {
     "name": "stdout",
     "output_type": "stream",
     "text": [
      "Bremerhaven\n"
     ]
    },
    {
     "name": "stderr",
     "output_type": "stream",
     "text": [
      "/home/krasen/urban_taxonomy/.pixi/envs/default/lib/python3.12/site-packages/pyogrio/geopandas.py:265: UserWarning: More than one layer found in 'DE527L1_BREMERHAVEN_UA2018_v013.gpkg': 'DE527L1_BREMERHAVEN_UA2018' (default), 'DE527L1_BREMERHAVEN_UA2018_Boundary', 'DE527L1_BREMERHAVEN_UA2018_UrbanCore'. Specify layer parameter to avoid this warning.\n",
      "  result = read_func(\n"
     ]
    },
    {
     "name": "stdout",
     "output_type": "stream",
     "text": [
      "Gera\n"
     ]
    },
    {
     "name": "stderr",
     "output_type": "stream",
     "text": [
      "/home/krasen/urban_taxonomy/.pixi/envs/default/lib/python3.12/site-packages/pyogrio/geopandas.py:265: UserWarning: More than one layer found in 'DE535L1_GERA_UA2018_v013.gpkg': 'DE535L1_GERA_UA2018' (default), 'DE535L1_GERA_UA2018_Boundary', 'DE535L1_GERA_UA2018_UrbanCore'. Specify layer parameter to avoid this warning.\n",
      "  result = read_func(\n"
     ]
    },
    {
     "name": "stdout",
     "output_type": "stream",
     "text": [
      "Frankfurt am Main\n"
     ]
    },
    {
     "name": "stderr",
     "output_type": "stream",
     "text": [
      "/home/krasen/urban_taxonomy/.pixi/envs/default/lib/python3.12/site-packages/pyogrio/geopandas.py:265: UserWarning: More than one layer found in 'DE005L1_FRANKFURT_AM_MAIN_UA2018_v013.gpkg': 'DE005L1_FRANKFURT_AM_MAIN_UA2018' (default), 'DE005L1_FRANKFURT_AM_MAIN_UA2018_Boundary', 'DE005L1_FRANKFURT_AM_MAIN_UA2018_UrbanCore'. Specify layer parameter to avoid this warning.\n",
      "  result = read_func(\n"
     ]
    },
    {
     "name": "stdout",
     "output_type": "stream",
     "text": [
      "Celle\n"
     ]
    },
    {
     "name": "stderr",
     "output_type": "stream",
     "text": [
      "/home/krasen/urban_taxonomy/.pixi/envs/default/lib/python3.12/site-packages/pyogrio/geopandas.py:265: UserWarning: More than one layer found in 'DE060L1_CELLE_UA2018_v013.gpkg': 'DE060L1_CELLE_UA2018' (default), 'DE060L1_CELLE_UA2018_Boundary', 'DE060L1_CELLE_UA2018_UrbanCore'. Specify layer parameter to avoid this warning.\n",
      "  result = read_func(\n"
     ]
    },
    {
     "name": "stdout",
     "output_type": "stream",
     "text": [
      "Freiburg im Breisgau\n"
     ]
    },
    {
     "name": "stderr",
     "output_type": "stream",
     "text": [
      "/home/krasen/urban_taxonomy/.pixi/envs/default/lib/python3.12/site-packages/pyogrio/geopandas.py:265: UserWarning: More than one layer found in 'DE027L1_FREIBURG_IM_BREISGAU_UA2018_v013.gpkg': 'DE027L1_FREIBURG_IM_BREISGAU_UA2018' (default), 'DE027L1_FREIBURG_IM_BREISGAU_UA2018_Boundary', 'DE027L1_FREIBURG_IM_BREISGAU_UA2018_UrbanCore'. Specify layer parameter to avoid this warning.\n",
      "  result = read_func(\n"
     ]
    },
    {
     "name": "stdout",
     "output_type": "stream",
     "text": [
      "Kiel\n"
     ]
    },
    {
     "name": "stderr",
     "output_type": "stream",
     "text": [
      "/home/krasen/urban_taxonomy/.pixi/envs/default/lib/python3.12/site-packages/pyogrio/geopandas.py:265: UserWarning: More than one layer found in 'DE039L1_KIEL_UA2018_v013.gpkg': 'DE039L1_KIEL_UA2018' (default), 'DE039L1_KIEL_UA2018_Boundary', 'DE039L1_KIEL_UA2018_UrbanCore'. Specify layer parameter to avoid this warning.\n",
      "  result = read_func(\n"
     ]
    },
    {
     "name": "stdout",
     "output_type": "stream",
     "text": [
      "Magdeburg\n"
     ]
    },
    {
     "name": "stderr",
     "output_type": "stream",
     "text": [
      "/home/krasen/urban_taxonomy/.pixi/envs/default/lib/python3.12/site-packages/pyogrio/geopandas.py:265: UserWarning: More than one layer found in 'DE019L2_MAGDEBURG_UA2018_v013.gpkg': 'DE019L2_MAGDEBURG_UA2018' (default), 'DE019L2_MAGDEBURG_UA2018_Boundary', 'DE019L2_MAGDEBURG_UA2018_UrbanCore'. Specify layer parameter to avoid this warning.\n",
      "  result = read_func(\n"
     ]
    },
    {
     "name": "stdout",
     "output_type": "stream",
     "text": [
      "Bremen\n"
     ]
    },
    {
     "name": "stderr",
     "output_type": "stream",
     "text": [
      "/home/krasen/urban_taxonomy/.pixi/envs/default/lib/python3.12/site-packages/pyogrio/geopandas.py:265: UserWarning: More than one layer found in 'DE012L1_BREMEN_UA2018_v013.gpkg': 'DE012L1_BREMEN_UA2018' (default), 'DE012L1_BREMEN_UA2018_Boundary', 'DE012L1_BREMEN_UA2018_UrbanCore'. Specify layer parameter to avoid this warning.\n",
      "  result = read_func(\n"
     ]
    },
    {
     "name": "stdout",
     "output_type": "stream",
     "text": [
      "Bonn\n"
     ]
    },
    {
     "name": "stderr",
     "output_type": "stream",
     "text": [
      "/home/krasen/urban_taxonomy/.pixi/envs/default/lib/python3.12/site-packages/pyogrio/geopandas.py:265: UserWarning: More than one layer found in 'DE034L1_BONN_UA2018_v013.gpkg': 'DE034L1_BONN_UA2018' (default), 'DE034L1_BONN_UA2018_Boundary', 'DE034L1_BONN_UA2018_UrbanCore'. Specify layer parameter to avoid this warning.\n",
      "  result = read_func(\n"
     ]
    },
    {
     "name": "stdout",
     "output_type": "stream",
     "text": [
      "Wetzlar\n"
     ]
    },
    {
     "name": "stderr",
     "output_type": "stream",
     "text": [
      "/home/krasen/urban_taxonomy/.pixi/envs/default/lib/python3.12/site-packages/pyogrio/geopandas.py:265: UserWarning: More than one layer found in 'DE079L1_WETZLAR_UA2018_v013.gpkg': 'DE079L1_WETZLAR_UA2018' (default), 'DE079L1_WETZLAR_UA2018_Boundary', 'DE079L1_WETZLAR_UA2018_UrbanCore'. Specify layer parameter to avoid this warning.\n",
      "  result = read_func(\n"
     ]
    },
    {
     "name": "stdout",
     "output_type": "stream",
     "text": [
      "Ruhrgebiet\n"
     ]
    },
    {
     "name": "stderr",
     "output_type": "stream",
     "text": [
      "/home/krasen/urban_taxonomy/.pixi/envs/default/lib/python3.12/site-packages/pyogrio/geopandas.py:265: UserWarning: More than one layer found in 'DE038L1_RUHRGEBIET_UA2018_v013.gpkg': 'DE038L1_RUHRGEBIET_UA2018' (default), 'DE038L1_RUHRGEBIET_UA2018_Boundary'. Specify layer parameter to avoid this warning.\n",
      "  result = read_func(\n"
     ]
    },
    {
     "name": "stdout",
     "output_type": "stream",
     "text": [
      "Heilbronn\n"
     ]
    },
    {
     "name": "stderr",
     "output_type": "stream",
     "text": [
      "/home/krasen/urban_taxonomy/.pixi/envs/default/lib/python3.12/site-packages/pyogrio/geopandas.py:265: UserWarning: More than one layer found in 'DE529L1_HEILBRONN_UA2018_v013.gpkg': 'DE529L1_HEILBRONN_UA2018' (default), 'DE529L1_HEILBRONN_UA2018_Boundary', 'DE529L1_HEILBRONN_UA2018_UrbanCore'. Specify layer parameter to avoid this warning.\n",
      "  result = read_func(\n"
     ]
    },
    {
     "name": "stdout",
     "output_type": "stream",
     "text": [
      "Mainz\n"
     ]
    },
    {
     "name": "stderr",
     "output_type": "stream",
     "text": [
      "/home/krasen/urban_taxonomy/.pixi/envs/default/lib/python3.12/site-packages/pyogrio/geopandas.py:265: UserWarning: More than one layer found in 'DE037L1_MAINZ_UA2018_v013.gpkg': 'DE037L1_MAINZ_UA2018' (default), 'DE037L1_MAINZ_UA2018_Boundary', 'DE037L1_MAINZ_UA2018_UrbanCore'. Specify layer parameter to avoid this warning.\n",
      "  result = read_func(\n"
     ]
    },
    {
     "name": "stdout",
     "output_type": "stream",
     "text": [
      "Bamberg\n"
     ]
    },
    {
     "name": "stderr",
     "output_type": "stream",
     "text": [
      "/home/krasen/urban_taxonomy/.pixi/envs/default/lib/python3.12/site-packages/pyogrio/geopandas.py:265: UserWarning: More than one layer found in 'DE062L1_BAMBERG_UA2018_v013.gpkg': 'DE062L1_BAMBERG_UA2018' (default), 'DE062L1_BAMBERG_UA2018_Boundary', 'DE062L1_BAMBERG_UA2018_UrbanCore'. Specify layer parameter to avoid this warning.\n",
      "  result = read_func(\n"
     ]
    },
    {
     "name": "stdout",
     "output_type": "stream",
     "text": [
      "Bielefeld\n"
     ]
    },
    {
     "name": "stderr",
     "output_type": "stream",
     "text": [
      "/home/krasen/urban_taxonomy/.pixi/envs/default/lib/python3.12/site-packages/pyogrio/geopandas.py:265: UserWarning: More than one layer found in 'DE017L0_BIELEFELD_UA2018_v013.gpkg': 'DE017L0_BIELEFELD_UA2018' (default), 'DE017L0_BIELEFELD_UA2018_Boundary', 'DE017L0_BIELEFELD_UA2018_UrbanCore'. Specify layer parameter to avoid this warning.\n",
      "  result = read_func(\n"
     ]
    },
    {
     "name": "stdout",
     "output_type": "stream",
     "text": [
      "Heidelberg\n"
     ]
    },
    {
     "name": "stderr",
     "output_type": "stream",
     "text": [
      "/home/krasen/urban_taxonomy/.pixi/envs/default/lib/python3.12/site-packages/pyogrio/geopandas.py:265: UserWarning: More than one layer found in 'DE522L1_HEIDELBERG_UA2018_v013.gpkg': 'DE522L1_HEIDELBERG_UA2018' (default), 'DE522L1_HEIDELBERG_UA2018_Boundary', 'DE522L1_HEIDELBERG_UA2018_UrbanCore'. Specify layer parameter to avoid this warning.\n",
      "  result = read_func(\n"
     ]
    },
    {
     "name": "stdout",
     "output_type": "stream",
     "text": [
      "Koblenz\n"
     ]
    },
    {
     "name": "stderr",
     "output_type": "stream",
     "text": [
      "/home/krasen/urban_taxonomy/.pixi/envs/default/lib/python3.12/site-packages/pyogrio/geopandas.py:265: UserWarning: More than one layer found in 'DE042L1_KOBLENZ_UA2018_v013.gpkg': 'DE042L1_KOBLENZ_UA2018' (default), 'DE042L1_KOBLENZ_UA2018_Boundary', 'DE042L1_KOBLENZ_UA2018_UrbanCore'. Specify layer parameter to avoid this warning.\n",
      "  result = read_func(\n"
     ]
    },
    {
     "name": "stdout",
     "output_type": "stream",
     "text": [
      "Villingen-Schwenningen\n"
     ]
    },
    {
     "name": "stderr",
     "output_type": "stream",
     "text": [
      "/home/krasen/urban_taxonomy/.pixi/envs/default/lib/python3.12/site-packages/pyogrio/geopandas.py:265: UserWarning: More than one layer found in 'DE051L1_VILLINGEN_SCHWENNINGEN_UA2018_v013.gpkg': 'DE051L1_VILLINGEN_SCHWENNINGEN_UA2018' (default), 'DE051L1_VILLINGEN_SCHWENNINGEN_UA2018_Boundary', 'DE051L1_VILLINGEN_SCHWENNINGEN_UA2018_UrbanCore'. Specify layer parameter to avoid this warning.\n",
      "  result = read_func(\n"
     ]
    },
    {
     "name": "stdout",
     "output_type": "stream",
     "text": [
      "Wuppertal\n"
     ]
    },
    {
     "name": "stderr",
     "output_type": "stream",
     "text": [
      "/home/krasen/urban_taxonomy/.pixi/envs/default/lib/python3.12/site-packages/pyogrio/geopandas.py:265: UserWarning: More than one layer found in 'DE546L0_WUPPERTAL_UA2018_v013.gpkg': 'DE546L0_WUPPERTAL_UA2018' (default), 'DE546L0_WUPPERTAL_UA2018_Boundary', 'DE546L0_WUPPERTAL_UA2018_UrbanCore'. Specify layer parameter to avoid this warning.\n",
      "  result = read_func(\n"
     ]
    },
    {
     "name": "stdout",
     "output_type": "stream",
     "text": [
      "Tübingen\n"
     ]
    },
    {
     "name": "stderr",
     "output_type": "stream",
     "text": [
      "/home/krasen/urban_taxonomy/.pixi/envs/default/lib/python3.12/site-packages/pyogrio/geopandas.py:265: UserWarning: More than one layer found in 'DE050L1_TUBINGEN_UA2018_v013.gpkg': 'DE050L1_TUBINGEN_UA2018' (default), 'DE050L1_TUBINGEN_UA2018_Boundary', 'DE050L1_TUBINGEN_UA2018_UrbanCore'. Specify layer parameter to avoid this warning.\n",
      "  result = read_func(\n"
     ]
    },
    {
     "name": "stdout",
     "output_type": "stream",
     "text": [
      "Offenburg\n"
     ]
    },
    {
     "name": "stderr",
     "output_type": "stream",
     "text": [
      "/home/krasen/urban_taxonomy/.pixi/envs/default/lib/python3.12/site-packages/pyogrio/geopandas.py:265: UserWarning: More than one layer found in 'DE073L1_OFFENBURG_UA2018_v013.gpkg': 'DE073L1_OFFENBURG_UA2018' (default), 'DE073L1_OFFENBURG_UA2018_Boundary', 'DE073L1_OFFENBURG_UA2018_UrbanCore'. Specify layer parameter to avoid this warning.\n",
      "  result = read_func(\n"
     ]
    },
    {
     "name": "stdout",
     "output_type": "stream",
     "text": [
      "Reutlingen\n"
     ]
    },
    {
     "name": "stderr",
     "output_type": "stream",
     "text": [
      "/home/krasen/urban_taxonomy/.pixi/envs/default/lib/python3.12/site-packages/pyogrio/geopandas.py:265: UserWarning: More than one layer found in 'DE537L1_REUTLINGEN_UA2018_v013.gpkg': 'DE537L1_REUTLINGEN_UA2018' (default), 'DE537L1_REUTLINGEN_UA2018_Boundary', 'DE537L1_REUTLINGEN_UA2018_UrbanCore'. Specify layer parameter to avoid this warning.\n",
      "  result = read_func(\n"
     ]
    },
    {
     "name": "stdout",
     "output_type": "stream",
     "text": [
      "Friedrichshafen\n"
     ]
    },
    {
     "name": "stderr",
     "output_type": "stream",
     "text": [
      "/home/krasen/urban_taxonomy/.pixi/envs/default/lib/python3.12/site-packages/pyogrio/geopandas.py:265: UserWarning: More than one layer found in 'DE072L1_FRIEDRICHSHAFEN_UA2018_v013.gpkg': 'DE072L1_FRIEDRICHSHAFEN_UA2018' (default), 'DE072L1_FRIEDRICHSHAFEN_UA2018_Boundary', 'DE072L1_FRIEDRICHSHAFEN_UA2018_UrbanCore'. Specify layer parameter to avoid this warning.\n",
      "  result = read_func(\n"
     ]
    },
    {
     "name": "stdout",
     "output_type": "stream",
     "text": [
      "Dresden\n"
     ]
    },
    {
     "name": "stderr",
     "output_type": "stream",
     "text": [
      "/home/krasen/urban_taxonomy/.pixi/envs/default/lib/python3.12/site-packages/pyogrio/geopandas.py:265: UserWarning: More than one layer found in 'DE009L2_DRESDEN_UA2018_v013.gpkg': 'DE009L2_DRESDEN_UA2018' (default), 'DE009L2_DRESDEN_UA2018_Boundary', 'DE009L2_DRESDEN_UA2018_UrbanCore'. Specify layer parameter to avoid this warning.\n",
      "  result = read_func(\n"
     ]
    },
    {
     "name": "stdout",
     "output_type": "stream",
     "text": [
      "Neumünster\n"
     ]
    },
    {
     "name": "stderr",
     "output_type": "stream",
     "text": [
      "/home/krasen/urban_taxonomy/.pixi/envs/default/lib/python3.12/site-packages/pyogrio/geopandas.py:265: UserWarning: More than one layer found in 'DE055L0_NEUMUNSTER_UA2018_v013.gpkg': 'DE055L0_NEUMUNSTER_UA2018' (default), 'DE055L0_NEUMUNSTER_UA2018_Boundary', 'DE055L0_NEUMUNSTER_UA2018_UrbanCore'. Specify layer parameter to avoid this warning.\n",
      "  result = read_func(\n"
     ]
    },
    {
     "name": "stdout",
     "output_type": "stream",
     "text": [
      "Hannover\n"
     ]
    },
    {
     "name": "stderr",
     "output_type": "stream",
     "text": [
      "/home/krasen/urban_taxonomy/.pixi/envs/default/lib/python3.12/site-packages/pyogrio/geopandas.py:265: UserWarning: More than one layer found in 'DE013L1_HANNOVER_UA2018_v013.gpkg': 'DE013L1_HANNOVER_UA2018' (default), 'DE013L1_HANNOVER_UA2018_Boundary', 'DE013L1_HANNOVER_UA2018_UrbanCore'. Specify layer parameter to avoid this warning.\n",
      "  result = read_func(\n"
     ]
    },
    {
     "name": "stdout",
     "output_type": "stream",
     "text": [
      "Oldenburg (Oldenburg)\n"
     ]
    },
    {
     "name": "stderr",
     "output_type": "stream",
     "text": [
      "/home/krasen/urban_taxonomy/.pixi/envs/default/lib/python3.12/site-packages/pyogrio/geopandas.py:265: UserWarning: More than one layer found in 'DE520L1_OLDENBURG_OLDENBURG_UA2018_v013.gpkg': 'DE520L1_OLDENBURG_OLDENBURG_UA2018' (default), 'DE520L1_OLDENBURG_OLDENBURG_UA2018_Boundary', 'DE520L1_OLDENBURG_OLDENBURG_UA2018_UrbanCore'. Specify layer parameter to avoid this warning.\n",
      "  result = read_func(\n"
     ]
    },
    {
     "name": "stdout",
     "output_type": "stream",
     "text": [
      "Siegen\n"
     ]
    },
    {
     "name": "stderr",
     "output_type": "stream",
     "text": [
      "/home/krasen/urban_taxonomy/.pixi/envs/default/lib/python3.12/site-packages/pyogrio/geopandas.py:265: UserWarning: More than one layer found in 'DE540L2_SIEGEN_UA2018_v013.gpkg': 'DE540L2_SIEGEN_UA2018' (default), 'DE540L2_SIEGEN_UA2018_Boundary', 'DE540L2_SIEGEN_UA2018_UrbanCore'. Specify layer parameter to avoid this warning.\n",
      "  result = read_func(\n"
     ]
    },
    {
     "name": "stdout",
     "output_type": "stream",
     "text": [
      "Trier\n"
     ]
    },
    {
     "name": "stderr",
     "output_type": "stream",
     "text": [
      "/home/krasen/urban_taxonomy/.pixi/envs/default/lib/python3.12/site-packages/pyogrio/geopandas.py:265: UserWarning: More than one layer found in 'DE026L1_TRIER_UA2018_v013.gpkg': 'DE026L1_TRIER_UA2018' (default), 'DE026L1_TRIER_UA2018_Boundary', 'DE026L1_TRIER_UA2018_UrbanCore'. Specify layer parameter to avoid this warning.\n",
      "  result = read_func(\n"
     ]
    },
    {
     "name": "stdout",
     "output_type": "stream",
     "text": [
      "Saarbrücken\n"
     ]
    },
    {
     "name": "stderr",
     "output_type": "stream",
     "text": [
      "/home/krasen/urban_taxonomy/.pixi/envs/default/lib/python3.12/site-packages/pyogrio/geopandas.py:265: UserWarning: More than one layer found in 'DE040L1_SAARBRUCKEN_UA2018_v013.gpkg': 'DE040L1_SAARBRUCKEN_UA2018' (default), 'DE040L1_SAARBRUCKEN_UA2018_Boundary', 'DE040L1_SAARBRUCKEN_UA2018_UrbanCore'. Specify layer parameter to avoid this warning.\n",
      "  result = read_func(\n"
     ]
    },
    {
     "name": "stdout",
     "output_type": "stream",
     "text": [
      "Köln\n"
     ]
    },
    {
     "name": "stderr",
     "output_type": "stream",
     "text": [
      "/home/krasen/urban_taxonomy/.pixi/envs/default/lib/python3.12/site-packages/pyogrio/geopandas.py:265: UserWarning: More than one layer found in 'DE004L1_KOLN_UA2018_v013.gpkg': 'DE004L1_KOLN_UA2018' (default), 'DE004L1_KOLN_UA2018_Boundary', 'DE004L1_KOLN_UA2018_UrbanCore'. Specify layer parameter to avoid this warning.\n",
      "  result = read_func(\n"
     ]
    },
    {
     "name": "stdout",
     "output_type": "stream",
     "text": [
      "Düsseldorf\n"
     ]
    },
    {
     "name": "stderr",
     "output_type": "stream",
     "text": [
      "/home/krasen/urban_taxonomy/.pixi/envs/default/lib/python3.12/site-packages/pyogrio/geopandas.py:265: UserWarning: More than one layer found in 'DE011L1_DUSSELDORF_UA2018_v013.gpkg': 'DE011L1_DUSSELDORF_UA2018' (default), 'DE011L1_DUSSELDORF_UA2018_Boundary', 'DE011L1_DUSSELDORF_UA2018_UrbanCore'. Specify layer parameter to avoid this warning.\n",
      "  result = read_func(\n"
     ]
    },
    {
     "name": "stdout",
     "output_type": "stream",
     "text": [
      "Aschaffenburg\n"
     ]
    },
    {
     "name": "stderr",
     "output_type": "stream",
     "text": [
      "/home/krasen/urban_taxonomy/.pixi/envs/default/lib/python3.12/site-packages/pyogrio/geopandas.py:265: UserWarning: More than one layer found in 'DE061L1_ASCHAFFENBURG_UA2018_v013.gpkg': 'DE061L1_ASCHAFFENBURG_UA2018' (default), 'DE061L1_ASCHAFFENBURG_UA2018_Boundary', 'DE061L1_ASCHAFFENBURG_UA2018_UrbanCore'. Specify layer parameter to avoid this warning.\n",
      "  result = read_func(\n"
     ]
    },
    {
     "name": "stdout",
     "output_type": "stream",
     "text": [
      "Hamburg\n"
     ]
    },
    {
     "name": "stderr",
     "output_type": "stream",
     "text": [
      "/home/krasen/urban_taxonomy/.pixi/envs/default/lib/python3.12/site-packages/pyogrio/geopandas.py:265: UserWarning: More than one layer found in 'DE002L1_HAMBURG_UA2018_v013.gpkg': 'DE002L1_HAMBURG_UA2018' (default), 'DE002L1_HAMBURG_UA2018_Boundary', 'DE002L1_HAMBURG_UA2018_UrbanCore'. Specify layer parameter to avoid this warning.\n",
      "  result = read_func(\n"
     ]
    },
    {
     "name": "stdout",
     "output_type": "stream",
     "text": [
      "Dessau-Roßlau\n"
     ]
    },
    {
     "name": "stderr",
     "output_type": "stream",
     "text": [
      "/home/krasen/urban_taxonomy/.pixi/envs/default/lib/python3.12/site-packages/pyogrio/geopandas.py:265: UserWarning: More than one layer found in 'DE082L0_DESSAU_ROSSLAU_UA2018_v013.gpkg': 'DE082L0_DESSAU_ROSSLAU_UA2018' (default), 'DE082L0_DESSAU_ROSSLAU_UA2018_Boundary', 'DE082L0_DESSAU_ROSSLAU_UA2018_UrbanCore'. Specify layer parameter to avoid this warning.\n",
      "  result = read_func(\n"
     ]
    },
    {
     "name": "stdout",
     "output_type": "stream",
     "text": [
      "Erfurt\n"
     ]
    },
    {
     "name": "stderr",
     "output_type": "stream",
     "text": [
      "/home/krasen/urban_taxonomy/.pixi/envs/default/lib/python3.12/site-packages/pyogrio/geopandas.py:265: UserWarning: More than one layer found in 'DE032L1_ERFURT_UA2018_v013.gpkg': 'DE032L1_ERFURT_UA2018' (default), 'DE032L1_ERFURT_UA2018_Boundary', 'DE032L1_ERFURT_UA2018_UrbanCore'. Specify layer parameter to avoid this warning.\n",
      "  result = read_func(\n"
     ]
    },
    {
     "name": "stdout",
     "output_type": "stream",
     "text": [
      "Cottbus\n"
     ]
    },
    {
     "name": "stderr",
     "output_type": "stream",
     "text": [
      "/home/krasen/urban_taxonomy/.pixi/envs/default/lib/python3.12/site-packages/pyogrio/geopandas.py:265: UserWarning: More than one layer found in 'DE539L1_COTTBUS_UA2018_v013.gpkg': 'DE539L1_COTTBUS_UA2018' (default), 'DE539L1_COTTBUS_UA2018_Boundary', 'DE539L1_COTTBUS_UA2018_UrbanCore'. Specify layer parameter to avoid this warning.\n",
      "  result = read_func(\n"
     ]
    },
    {
     "name": "stdout",
     "output_type": "stream",
     "text": [
      "Iserlohn\n"
     ]
    },
    {
     "name": "stderr",
     "output_type": "stream",
     "text": [
      "/home/krasen/urban_taxonomy/.pixi/envs/default/lib/python3.12/site-packages/pyogrio/geopandas.py:265: UserWarning: More than one layer found in 'DE045L1_ISERLOHN_UA2018_v013.gpkg': 'DE045L1_ISERLOHN_UA2018' (default), 'DE045L1_ISERLOHN_UA2018_Boundary', 'DE045L1_ISERLOHN_UA2018_UrbanCore'. Specify layer parameter to avoid this warning.\n",
      "  result = read_func(\n"
     ]
    },
    {
     "name": "stdout",
     "output_type": "stream",
     "text": [
      "Gießen\n"
     ]
    },
    {
     "name": "stderr",
     "output_type": "stream",
     "text": [
      "/home/krasen/urban_taxonomy/.pixi/envs/default/lib/python3.12/site-packages/pyogrio/geopandas.py:265: UserWarning: More than one layer found in 'DE057L1_GIESSEN_UA2018_v013.gpkg': 'DE057L1_GIESSEN_UA2018' (default), 'DE057L1_GIESSEN_UA2018_Boundary', 'DE057L1_GIESSEN_UA2018_UrbanCore'. Specify layer parameter to avoid this warning.\n",
      "  result = read_func(\n"
     ]
    },
    {
     "name": "stdout",
     "output_type": "stream",
     "text": [
      "Jena\n"
     ]
    },
    {
     "name": "stderr",
     "output_type": "stream",
     "text": [
      "/home/krasen/urban_taxonomy/.pixi/envs/default/lib/python3.12/site-packages/pyogrio/geopandas.py:265: UserWarning: More than one layer found in 'DE547L2_JENA_UA2018_v013.gpkg': 'DE547L2_JENA_UA2018' (default), 'DE547L2_JENA_UA2018_Boundary', 'DE547L2_JENA_UA2018_UrbanCore'. Specify layer parameter to avoid this warning.\n",
      "  result = read_func(\n"
     ]
    },
    {
     "name": "stdout",
     "output_type": "stream",
     "text": [
      "Braunschweig-Salzgitter-Wolfsburg\n"
     ]
    },
    {
     "name": "stderr",
     "output_type": "stream",
     "text": [
      "/home/krasen/urban_taxonomy/.pixi/envs/default/lib/python3.12/site-packages/pyogrio/geopandas.py:265: UserWarning: More than one layer found in 'DE083L1_BRAUNSCHWEIG_SALZGITTER_WOLFSBURG_UA2018_v013.gpkg': 'DE083L1_BRAUNSCHWEIG_SALZGITTER_WOLFSBURG_UA2018' (default), 'DE083L1_BRAUNSCHWEIG_SALZGITTER_WOLFSBURG_UA2018_Boundary'. Specify layer parameter to avoid this warning.\n",
      "  result = read_func(\n"
     ]
    },
    {
     "name": "stdout",
     "output_type": "stream",
     "text": [
      "Görlitz\n"
     ]
    },
    {
     "name": "stderr",
     "output_type": "stream",
     "text": [
      "/home/krasen/urban_taxonomy/.pixi/envs/default/lib/python3.12/site-packages/pyogrio/geopandas.py:265: UserWarning: More than one layer found in 'DE074L1_GORLITZ_UA2018_v013.gpkg': 'DE074L1_GORLITZ_UA2018' (default), 'DE074L1_GORLITZ_UA2018_Boundary', 'DE074L1_GORLITZ_UA2018_UrbanCore'. Specify layer parameter to avoid this warning.\n",
      "  result = read_func(\n"
     ]
    },
    {
     "name": "stdout",
     "output_type": "stream",
     "text": [
      "Göttingen\n"
     ]
    },
    {
     "name": "stderr",
     "output_type": "stream",
     "text": [
      "/home/krasen/urban_taxonomy/.pixi/envs/default/lib/python3.12/site-packages/pyogrio/geopandas.py:265: UserWarning: More than one layer found in 'DE021L1_GOTTINGEN_UA2018_v013.gpkg': 'DE021L1_GOTTINGEN_UA2018' (default), 'DE021L1_GOTTINGEN_UA2018_Boundary', 'DE021L1_GOTTINGEN_UA2018_UrbanCore'. Specify layer parameter to avoid this warning.\n",
      "  result = read_func(\n"
     ]
    },
    {
     "name": "stdout",
     "output_type": "stream",
     "text": [
      "Bocholt\n"
     ]
    },
    {
     "name": "stderr",
     "output_type": "stream",
     "text": [
      "/home/krasen/urban_taxonomy/.pixi/envs/default/lib/python3.12/site-packages/pyogrio/geopandas.py:265: UserWarning: More than one layer found in 'DE549L1_BOCHOLT_UA2018_v013.gpkg': 'DE549L1_BOCHOLT_UA2018' (default), 'DE549L1_BOCHOLT_UA2018_Boundary'. Specify layer parameter to avoid this warning.\n",
      "  result = read_func(\n"
     ]
    },
    {
     "name": "stdout",
     "output_type": "stream",
     "text": [
      "Krefeld\n"
     ]
    },
    {
     "name": "stderr",
     "output_type": "stream",
     "text": [
      "/home/krasen/urban_taxonomy/.pixi/envs/default/lib/python3.12/site-packages/pyogrio/geopandas.py:265: UserWarning: More than one layer found in 'DE508L0_KREFELD_UA2018_v013.gpkg': 'DE508L0_KREFELD_UA2018' (default), 'DE508L0_KREFELD_UA2018_Boundary', 'DE508L0_KREFELD_UA2018_UrbanCore'. Specify layer parameter to avoid this warning.\n",
      "  result = read_func(\n"
     ]
    },
    {
     "name": "stdout",
     "output_type": "stream",
     "text": [
      "Stralsund\n"
     ]
    },
    {
     "name": "stderr",
     "output_type": "stream",
     "text": [
      "/home/krasen/urban_taxonomy/.pixi/envs/default/lib/python3.12/site-packages/pyogrio/geopandas.py:265: UserWarning: More than one layer found in 'DE071L1_STRALSUND_UA2018_v013.gpkg': 'DE071L1_STRALSUND_UA2018' (default), 'DE071L1_STRALSUND_UA2018_Boundary', 'DE071L1_STRALSUND_UA2018_UrbanCore'. Specify layer parameter to avoid this warning.\n",
      "  result = read_func(\n"
     ]
    },
    {
     "name": "stdout",
     "output_type": "stream",
     "text": [
      "Landshut\n"
     ]
    },
    {
     "name": "stderr",
     "output_type": "stream",
     "text": [
      "/home/krasen/urban_taxonomy/.pixi/envs/default/lib/python3.12/site-packages/pyogrio/geopandas.py:265: UserWarning: More than one layer found in 'DE067L1_LANDSHUT_UA2018_v013.gpkg': 'DE067L1_LANDSHUT_UA2018' (default), 'DE067L1_LANDSHUT_UA2018_Boundary', 'DE067L1_LANDSHUT_UA2018_UrbanCore'. Specify layer parameter to avoid this warning.\n",
      "  result = read_func(\n"
     ]
    },
    {
     "name": "stdout",
     "output_type": "stream",
     "text": [
      "Schweinfurt\n"
     ]
    },
    {
     "name": "stderr",
     "output_type": "stream",
     "text": [
      "/home/krasen/urban_taxonomy/.pixi/envs/default/lib/python3.12/site-packages/pyogrio/geopandas.py:265: UserWarning: More than one layer found in 'DE077L1_SCHWEINFURT_UA2018_v013.gpkg': 'DE077L1_SCHWEINFURT_UA2018' (default), 'DE077L1_SCHWEINFURT_UA2018_Boundary', 'DE077L1_SCHWEINFURT_UA2018_UrbanCore'. Specify layer parameter to avoid this warning.\n",
      "  result = read_func(\n"
     ]
    },
    {
     "name": "stdout",
     "output_type": "stream",
     "text": [
      "Lüneburg\n"
     ]
    },
    {
     "name": "stderr",
     "output_type": "stream",
     "text": [
      "/home/krasen/urban_taxonomy/.pixi/envs/default/lib/python3.12/site-packages/pyogrio/geopandas.py:265: UserWarning: More than one layer found in 'DE058L1_LUNEBURG_UA2018_v013.gpkg': 'DE058L1_LUNEBURG_UA2018' (default), 'DE058L1_LUNEBURG_UA2018_Boundary', 'DE058L1_LUNEBURG_UA2018_UrbanCore'. Specify layer parameter to avoid this warning.\n",
      "  result = read_func(\n"
     ]
    },
    {
     "name": "stdout",
     "output_type": "stream",
     "text": [
      "Wilhelmshaven\n"
     ]
    },
    {
     "name": "stderr",
     "output_type": "stream",
     "text": [
      "/home/krasen/urban_taxonomy/.pixi/envs/default/lib/python3.12/site-packages/pyogrio/geopandas.py:265: UserWarning: More than one layer found in 'DE048L1_WILHELMSHAVEN_UA2018_v013.gpkg': 'DE048L1_WILHELMSHAVEN_UA2018' (default), 'DE048L1_WILHELMSHAVEN_UA2018_Boundary', 'DE048L1_WILHELMSHAVEN_UA2018_UrbanCore'. Specify layer parameter to avoid this warning.\n",
      "  result = read_func(\n"
     ]
    },
    {
     "name": "stdout",
     "output_type": "stream",
     "text": [
      "Solingen\n"
     ]
    },
    {
     "name": "stderr",
     "output_type": "stream",
     "text": [
      "/home/krasen/urban_taxonomy/.pixi/envs/default/lib/python3.12/site-packages/pyogrio/geopandas.py:265: UserWarning: More than one layer found in 'DE516L0_SOLINGEN_UA2018_v013.gpkg': 'DE516L0_SOLINGEN_UA2018' (default), 'DE516L0_SOLINGEN_UA2018_Boundary', 'DE516L0_SOLINGEN_UA2018_UrbanCore'. Specify layer parameter to avoid this warning.\n",
      "  result = read_func(\n"
     ]
    },
    {
     "name": "stdout",
     "output_type": "stream",
     "text": [
      "Flensburg\n"
     ]
    },
    {
     "name": "stderr",
     "output_type": "stream",
     "text": [
      "/home/krasen/urban_taxonomy/.pixi/envs/default/lib/python3.12/site-packages/pyogrio/geopandas.py:265: UserWarning: More than one layer found in 'DE052L1_FLENSBURG_UA2018_v013.gpkg': 'DE052L1_FLENSBURG_UA2018' (default), 'DE052L1_FLENSBURG_UA2018_Boundary', 'DE052L1_FLENSBURG_UA2018_UrbanCore'. Specify layer parameter to avoid this warning.\n",
      "  result = read_func(\n"
     ]
    },
    {
     "name": "stdout",
     "output_type": "stream",
     "text": [
      "Greifswald\n"
     ]
    },
    {
     "name": "stderr",
     "output_type": "stream",
     "text": [
      "/home/krasen/urban_taxonomy/.pixi/envs/default/lib/python3.12/site-packages/pyogrio/geopandas.py:265: UserWarning: More than one layer found in 'DE078L1_GREIFSWALD_UA2018_v013.gpkg': 'DE078L1_GREIFSWALD_UA2018' (default), 'DE078L1_GREIFSWALD_UA2018_Boundary', 'DE078L1_GREIFSWALD_UA2018_UrbanCore'. Specify layer parameter to avoid this warning.\n",
      "  result = read_func(\n"
     ]
    },
    {
     "name": "stdout",
     "output_type": "stream",
     "text": [
      "Darmstadt\n"
     ]
    },
    {
     "name": "stderr",
     "output_type": "stream",
     "text": [
      "/home/krasen/urban_taxonomy/.pixi/envs/default/lib/python3.12/site-packages/pyogrio/geopandas.py:265: UserWarning: More than one layer found in 'DE025L1_DARMSTADT_UA2018_v013.gpkg': 'DE025L1_DARMSTADT_UA2018' (default), 'DE025L1_DARMSTADT_UA2018_Boundary', 'DE025L1_DARMSTADT_UA2018_UrbanCore'. Specify layer parameter to avoid this warning.\n",
      "  result = read_func(\n"
     ]
    },
    {
     "name": "stdout",
     "output_type": "stream",
     "text": [
      "Fulda\n"
     ]
    },
    {
     "name": "stderr",
     "output_type": "stream",
     "text": [
      "/home/krasen/urban_taxonomy/.pixi/envs/default/lib/python3.12/site-packages/pyogrio/geopandas.py:265: UserWarning: More than one layer found in 'DE065L1_FULDA_UA2018_v013.gpkg': 'DE065L1_FULDA_UA2018' (default), 'DE065L1_FULDA_UA2018_Boundary', 'DE065L1_FULDA_UA2018_UrbanCore'. Specify layer parameter to avoid this warning.\n",
      "  result = read_func(\n"
     ]
    },
    {
     "name": "stdout",
     "output_type": "stream",
     "text": [
      "Leipzig\n"
     ]
    },
    {
     "name": "stderr",
     "output_type": "stream",
     "text": [
      "/home/krasen/urban_taxonomy/.pixi/envs/default/lib/python3.12/site-packages/pyogrio/geopandas.py:265: UserWarning: More than one layer found in 'DE008L2_LEIPZIG_UA2018_v013.gpkg': 'DE008L2_LEIPZIG_UA2018' (default), 'DE008L2_LEIPZIG_UA2018_Boundary', 'DE008L2_LEIPZIG_UA2018_UrbanCore'. Specify layer parameter to avoid this warning.\n",
      "  result = read_func(\n"
     ]
    },
    {
     "name": "stdout",
     "output_type": "stream",
     "text": [
      "Karlsruhe\n"
     ]
    },
    {
     "name": "stderr",
     "output_type": "stream",
     "text": [
      "/home/krasen/urban_taxonomy/.pixi/envs/default/lib/python3.12/site-packages/pyogrio/geopandas.py:265: UserWarning: More than one layer found in 'DE035L1_KARLSRUHE_UA2018_v013.gpkg': 'DE035L1_KARLSRUHE_UA2018' (default), 'DE035L1_KARLSRUHE_UA2018_Boundary', 'DE035L1_KARLSRUHE_UA2018_UrbanCore'. Specify layer parameter to avoid this warning.\n",
      "  result = read_func(\n"
     ]
    },
    {
     "name": "stdout",
     "output_type": "stream",
     "text": [
      "Vilnius\n"
     ]
    },
    {
     "name": "stderr",
     "output_type": "stream",
     "text": [
      "/home/krasen/urban_taxonomy/.pixi/envs/default/lib/python3.12/site-packages/pyogrio/geopandas.py:265: UserWarning: More than one layer found in 'LT001L1_VILNIUS_UA2018_v013.gpkg': 'LT001L1_VILNIUS_UA2018' (default), 'LT001L1_VILNIUS_UA2018_Boundary', 'LT001L1_VILNIUS_UA2018_UrbanCore'. Specify layer parameter to avoid this warning.\n",
      "  result = read_func(\n"
     ]
    },
    {
     "name": "stdout",
     "output_type": "stream",
     "text": [
      "Klaipėda\n"
     ]
    },
    {
     "name": "stderr",
     "output_type": "stream",
     "text": [
      "/home/krasen/urban_taxonomy/.pixi/envs/default/lib/python3.12/site-packages/pyogrio/geopandas.py:265: UserWarning: More than one layer found in 'LT501L0_KLAIPEDA_UA2018_v013.gpkg': 'LT501L0_KLAIPEDA_UA2018' (default), 'LT501L0_KLAIPEDA_UA2018_Boundary', 'LT501L0_KLAIPEDA_UA2018_UrbanCore'. Specify layer parameter to avoid this warning.\n",
      "  result = read_func(\n"
     ]
    },
    {
     "name": "stdout",
     "output_type": "stream",
     "text": [
      "Alytus\n"
     ]
    },
    {
     "name": "stderr",
     "output_type": "stream",
     "text": [
      "/home/krasen/urban_taxonomy/.pixi/envs/default/lib/python3.12/site-packages/pyogrio/geopandas.py:265: UserWarning: More than one layer found in 'LT004L0_ALYTUS_UA2018_v013.gpkg': 'LT004L0_ALYTUS_UA2018' (default), 'LT004L0_ALYTUS_UA2018_Boundary', 'LT004L0_ALYTUS_UA2018_UrbanCore'. Specify layer parameter to avoid this warning.\n",
      "  result = read_func(\n"
     ]
    },
    {
     "name": "stdout",
     "output_type": "stream",
     "text": [
      "Kaunas\n"
     ]
    },
    {
     "name": "stderr",
     "output_type": "stream",
     "text": [
      "/home/krasen/urban_taxonomy/.pixi/envs/default/lib/python3.12/site-packages/pyogrio/geopandas.py:265: UserWarning: More than one layer found in 'LT002L1_KAUNAS_UA2018_v013.gpkg': 'LT002L1_KAUNAS_UA2018' (default), 'LT002L1_KAUNAS_UA2018_Boundary', 'LT002L1_KAUNAS_UA2018_UrbanCore'. Specify layer parameter to avoid this warning.\n",
      "  result = read_func(\n"
     ]
    },
    {
     "name": "stdout",
     "output_type": "stream",
     "text": [
      "Panevėžys\n"
     ]
    },
    {
     "name": "stderr",
     "output_type": "stream",
     "text": [
      "/home/krasen/urban_taxonomy/.pixi/envs/default/lib/python3.12/site-packages/pyogrio/geopandas.py:265: UserWarning: More than one layer found in 'LT003L1_PANEVEZYS_UA2018_v013.gpkg': 'LT003L1_PANEVEZYS_UA2018' (default), 'LT003L1_PANEVEZYS_UA2018_Boundary', 'LT003L1_PANEVEZYS_UA2018_UrbanCore'. Specify layer parameter to avoid this warning.\n",
      "  result = read_func(\n"
     ]
    },
    {
     "name": "stdout",
     "output_type": "stream",
     "text": [
      "Šiauliai\n",
      "CPU times: user 57min 49s, sys: 1min 46s, total: 59min 36s\n",
      "Wall time: 58min 6s\n"
     ]
    },
    {
     "name": "stderr",
     "output_type": "stream",
     "text": [
      "/home/krasen/urban_taxonomy/.pixi/envs/default/lib/python3.12/site-packages/pyogrio/geopandas.py:265: UserWarning: More than one layer found in 'LT502L0_SIAULIAI_UA2018_v013.gpkg': 'LT502L0_SIAULIAI_UA2018' (default), 'LT502L0_SIAULIAI_UA2018_Boundary', 'LT502L0_SIAULIAI_UA2018_UrbanCore'. Specify layer parameter to avoid this warning.\n",
      "  result = read_func(\n"
     ]
    }
   ],
   "source": [
    "%%time\n",
    "\n",
    "results = []\n",
    "\n",
    "for _, row in urban_atlast_regions.iterrows():\n",
    "\n",
    "    print(row.fua_name)\n",
    "    \n",
    "    # read all buildings data that intersects with the urban atlast fua\n",
    "    buildings_data = []\n",
    "    region_intersections = regions[regions.intersects(row['geometry'])]\n",
    "    for region_id in region_intersections.index:\n",
    "        buildings = gpd.read_parquet(f'/data/uscuni-ulce/processed_data/clusters/clusters_{region_id}_{v}.pq')\n",
    "        buildings_within_fua = buildings.centroid.within(row['geometry'])\n",
    "        buildings_data.append(buildings[buildings_within_fua])\n",
    "    buildings_data = pd.concat(buildings_data, ignore_index=True)\n",
    "\n",
    "    # read urban atlast data\n",
    "    urban_atlas_data = gpd.read_file(row['filepath'])\n",
    "\n",
    "    ## spatially join buildings and urban atlas areas\n",
    "    inp, res = buildings_data.centroid.sindex.query(urban_atlas_data.geometry, predicate='intersects')\n",
    "    buildings_data['class_2018'] = ''\n",
    "    buildings_data.iloc[res, -1] = urban_atlas_data.iloc[inp, 4]\n",
    "    buildings_data['fua_name'] = row.fua_name\n",
    "\n",
    "    results.append(buildings_data)"
   ]
  },
  {
   "cell_type": "code",
   "execution_count": 6,
   "id": "1cbf5de8-ecdd-417b-8a58-af5e16d406ca",
   "metadata": {},
   "outputs": [
    {
     "name": "stdout",
     "output_type": "stream",
     "text": [
      "CPU times: user 9.29 s, sys: 3.36 s, total: 12.6 s\n",
      "Wall time: 12.6 s\n"
     ]
    }
   ],
   "source": [
    "%%time\n",
    "all_data = pd.concat(results)"
   ]
  },
  {
   "cell_type": "code",
   "execution_count": 7,
   "id": "02089bca-16e1-4aaa-8ef4-68bd011f57bc",
   "metadata": {},
   "outputs": [],
   "source": [
    "all_data.to_parquet('../data/urban_atlast_validation.pq')"
   ]
  },
  {
   "cell_type": "code",
   "execution_count": 8,
   "id": "7de52488-f22b-4873-a6b3-6fef08ae2205",
   "metadata": {},
   "outputs": [],
   "source": [
    "cluster_mapping = pd.read_parquet(f'/data/uscuni-ulce/processed_data/clusters/cluster_mapping_{v}.pq')"
   ]
  },
  {
   "cell_type": "code",
   "execution_count": 9,
   "id": "e47ff593-6ba1-47a3-8ae0-12aa00308e0f",
   "metadata": {},
   "outputs": [],
   "source": [
    "all_data['map_label'] = all_data['final_without_noise'].map(cluster_mapping[4].to_dict())"
   ]
  },
  {
   "cell_type": "code",
   "execution_count": 13,
   "id": "f342260a-f602-48f3-8ae1-508446c2bdcf",
   "metadata": {},
   "outputs": [
    {
     "data": {
      "text/html": [
       "<style type=\"text/css\">\n",
       "#T_734d5_row0_col0, #T_734d5_row0_col1, #T_734d5_row0_col3, #T_734d5_row0_col4, #T_734d5_row0_col10, #T_734d5_row0_col11, #T_734d5_row0_col13, #T_734d5_row0_col15, #T_734d5_row0_col16, #T_734d5_row0_col17, #T_734d5_row0_col18, #T_734d5_row0_col20, #T_734d5_row0_col21, #T_734d5_row0_col22, #T_734d5_row0_col23, #T_734d5_row0_col25, #T_734d5_row0_col26, #T_734d5_row1_col0, #T_734d5_row1_col1, #T_734d5_row1_col2, #T_734d5_row1_col3, #T_734d5_row1_col4, #T_734d5_row1_col7, #T_734d5_row1_col9, #T_734d5_row1_col10, #T_734d5_row1_col11, #T_734d5_row1_col12, #T_734d5_row1_col13, #T_734d5_row1_col15, #T_734d5_row1_col16, #T_734d5_row1_col17, #T_734d5_row1_col18, #T_734d5_row1_col20, #T_734d5_row1_col21, #T_734d5_row1_col22, #T_734d5_row1_col23, #T_734d5_row1_col24, #T_734d5_row1_col25, #T_734d5_row1_col26, #T_734d5_row2_col0, #T_734d5_row2_col1, #T_734d5_row2_col2, #T_734d5_row2_col3, #T_734d5_row2_col4, #T_734d5_row2_col5, #T_734d5_row2_col6, #T_734d5_row2_col7, #T_734d5_row2_col8, #T_734d5_row2_col9, #T_734d5_row2_col10, #T_734d5_row2_col11, #T_734d5_row2_col12, #T_734d5_row2_col13, #T_734d5_row2_col15, #T_734d5_row2_col16, #T_734d5_row2_col17, #T_734d5_row2_col18, #T_734d5_row2_col20, #T_734d5_row2_col21, #T_734d5_row2_col22, #T_734d5_row2_col23, #T_734d5_row2_col24, #T_734d5_row2_col25, #T_734d5_row2_col26, #T_734d5_row3_col0, #T_734d5_row3_col3, #T_734d5_row3_col4, #T_734d5_row3_col5, #T_734d5_row3_col6, #T_734d5_row3_col7, #T_734d5_row3_col8, #T_734d5_row3_col9, #T_734d5_row3_col10, #T_734d5_row3_col11, #T_734d5_row3_col12, #T_734d5_row3_col13, #T_734d5_row3_col15, #T_734d5_row3_col16, #T_734d5_row3_col17, #T_734d5_row3_col18, #T_734d5_row3_col20, #T_734d5_row3_col21, #T_734d5_row3_col22, #T_734d5_row3_col24, #T_734d5_row3_col25, #T_734d5_row3_col26, #T_734d5_row4_col0, #T_734d5_row4_col1, #T_734d5_row4_col3, #T_734d5_row4_col4, #T_734d5_row4_col10, #T_734d5_row4_col13, #T_734d5_row4_col15, #T_734d5_row4_col16, #T_734d5_row4_col17, #T_734d5_row4_col18, #T_734d5_row4_col21, #T_734d5_row4_col22, #T_734d5_row4_col23, #T_734d5_row4_col25, #T_734d5_row4_col26, #T_734d5_row5_col0, #T_734d5_row5_col1, #T_734d5_row5_col3, #T_734d5_row5_col10, #T_734d5_row5_col11, #T_734d5_row5_col13, #T_734d5_row5_col15, #T_734d5_row5_col16, #T_734d5_row5_col17, #T_734d5_row5_col18, #T_734d5_row5_col21, #T_734d5_row5_col22, #T_734d5_row5_col23, #T_734d5_row5_col25, #T_734d5_row5_col26, #T_734d5_row6_col0, #T_734d5_row6_col1, #T_734d5_row6_col3, #T_734d5_row6_col10, #T_734d5_row6_col13, #T_734d5_row6_col17, #T_734d5_row6_col18, #T_734d5_row6_col21, #T_734d5_row6_col22, #T_734d5_row6_col23, #T_734d5_row6_col25, #T_734d5_row6_col26, #T_734d5_row7_col0, #T_734d5_row7_col1, #T_734d5_row7_col3, #T_734d5_row7_col4, #T_734d5_row7_col10, #T_734d5_row7_col13, #T_734d5_row7_col16, #T_734d5_row7_col17, #T_734d5_row7_col18, #T_734d5_row7_col21, #T_734d5_row7_col22, #T_734d5_row7_col23, #T_734d5_row7_col25, #T_734d5_row7_col26, #T_734d5_row8_col0, #T_734d5_row8_col1, #T_734d5_row8_col3, #T_734d5_row8_col4, #T_734d5_row8_col10, #T_734d5_row8_col12, #T_734d5_row8_col16, #T_734d5_row8_col17, #T_734d5_row8_col18, #T_734d5_row8_col21, #T_734d5_row8_col22, #T_734d5_row8_col23, #T_734d5_row8_col25, #T_734d5_row8_col26, #T_734d5_row9_col0, #T_734d5_row9_col1, #T_734d5_row9_col2, #T_734d5_row9_col3, #T_734d5_row9_col4, #T_734d5_row9_col5, #T_734d5_row9_col6, #T_734d5_row9_col7, #T_734d5_row9_col8, #T_734d5_row9_col9, #T_734d5_row9_col10, #T_734d5_row9_col11, #T_734d5_row9_col12, #T_734d5_row9_col13, #T_734d5_row9_col16, #T_734d5_row9_col17, #T_734d5_row9_col18, #T_734d5_row9_col19, #T_734d5_row9_col20, #T_734d5_row9_col21, #T_734d5_row9_col24, #T_734d5_row9_col25, #T_734d5_row9_col26, #T_734d5_row10_col0, #T_734d5_row10_col1, #T_734d5_row10_col3, #T_734d5_row10_col4, #T_734d5_row10_col10, #T_734d5_row10_col12, #T_734d5_row10_col13, #T_734d5_row10_col16, #T_734d5_row10_col17, #T_734d5_row10_col18, #T_734d5_row10_col21, #T_734d5_row10_col22, #T_734d5_row10_col23, #T_734d5_row10_col25, #T_734d5_row10_col26, #T_734d5_row11_col0, #T_734d5_row11_col1, #T_734d5_row11_col3, #T_734d5_row11_col4, #T_734d5_row11_col10, #T_734d5_row11_col13, #T_734d5_row11_col16, #T_734d5_row11_col17, #T_734d5_row11_col18, #T_734d5_row11_col21, #T_734d5_row11_col22, #T_734d5_row11_col23, #T_734d5_row11_col25, #T_734d5_row11_col26, #T_734d5_row12_col0, #T_734d5_row12_col1, #T_734d5_row12_col3, #T_734d5_row12_col10, #T_734d5_row12_col13, #T_734d5_row12_col18, #T_734d5_row12_col21, #T_734d5_row12_col22, #T_734d5_row12_col25, #T_734d5_row12_col26, #T_734d5_row13_col0, #T_734d5_row13_col1, #T_734d5_row13_col3, #T_734d5_row13_col4, #T_734d5_row13_col10, #T_734d5_row13_col13, #T_734d5_row13_col16, #T_734d5_row13_col18, #T_734d5_row13_col21, #T_734d5_row13_col25, #T_734d5_row13_col26, #T_734d5_row14_col0, #T_734d5_row14_col3, #T_734d5_row14_col10, #T_734d5_row14_col13, #T_734d5_row14_col17, #T_734d5_row14_col18, #T_734d5_row14_col21, #T_734d5_row14_col25, #T_734d5_row14_col26, #T_734d5_row15_col0, #T_734d5_row15_col3, #T_734d5_row15_col10, #T_734d5_row15_col13, #T_734d5_row15_col17, #T_734d5_row15_col18, #T_734d5_row15_col21, #T_734d5_row15_col25, #T_734d5_row15_col26 {\n",
       "  background-color: #f7fcfd;\n",
       "  color: #000000;\n",
       "}\n",
       "#T_734d5_row0_col2, #T_734d5_row0_col9, #T_734d5_row0_col12, #T_734d5_row0_col24, #T_734d5_row3_col2, #T_734d5_row4_col2, #T_734d5_row4_col11, #T_734d5_row4_col20, #T_734d5_row5_col2, #T_734d5_row5_col4, #T_734d5_row5_col12, #T_734d5_row5_col20, #T_734d5_row5_col24, #T_734d5_row6_col4, #T_734d5_row6_col12, #T_734d5_row6_col16, #T_734d5_row7_col12, #T_734d5_row8_col13, #T_734d5_row8_col19, #T_734d5_row9_col15, #T_734d5_row10_col19, #T_734d5_row11_col12, #T_734d5_row12_col16, #T_734d5_row12_col17, #T_734d5_row12_col23, #T_734d5_row13_col17, #T_734d5_row13_col22, #T_734d5_row13_col23, #T_734d5_row14_col4, #T_734d5_row14_col11, #T_734d5_row14_col12, #T_734d5_row14_col16, #T_734d5_row14_col19, #T_734d5_row14_col23, #T_734d5_row15_col1, #T_734d5_row15_col4, #T_734d5_row15_col9, #T_734d5_row15_col16 {\n",
       "  background-color: #f6fcfd;\n",
       "  color: #000000;\n",
       "}\n",
       "#T_734d5_row0_col5 {\n",
       "  background-color: #309b5b;\n",
       "  color: #f1f1f1;\n",
       "}\n",
       "#T_734d5_row0_col6, #T_734d5_row1_col5, #T_734d5_row2_col14, #T_734d5_row3_col14, #T_734d5_row4_col6, #T_734d5_row5_col6, #T_734d5_row6_col6, #T_734d5_row7_col6, #T_734d5_row8_col15, #T_734d5_row9_col22, #T_734d5_row10_col6, #T_734d5_row11_col6, #T_734d5_row12_col6, #T_734d5_row13_col6, #T_734d5_row14_col14, #T_734d5_row15_col14 {\n",
       "  background-color: #00441b;\n",
       "  color: #f1f1f1;\n",
       "}\n",
       "#T_734d5_row0_col7, #T_734d5_row1_col19, #T_734d5_row5_col19, #T_734d5_row6_col11, #T_734d5_row7_col11, #T_734d5_row10_col11, #T_734d5_row14_col2, #T_734d5_row14_col7, #T_734d5_row14_col15, #T_734d5_row15_col7 {\n",
       "  background-color: #f4fbfc;\n",
       "  color: #000000;\n",
       "}\n",
       "#T_734d5_row0_col8 {\n",
       "  background-color: #dcf2f2;\n",
       "  color: #000000;\n",
       "}\n",
       "#T_734d5_row0_col14, #T_734d5_row8_col7 {\n",
       "  background-color: #dbf2f2;\n",
       "  color: #000000;\n",
       "}\n",
       "#T_734d5_row0_col19, #T_734d5_row3_col19, #T_734d5_row3_col23, #T_734d5_row7_col2, #T_734d5_row7_col19, #T_734d5_row7_col20, #T_734d5_row7_col24, #T_734d5_row12_col19, #T_734d5_row13_col19, #T_734d5_row14_col22, #T_734d5_row15_col12 {\n",
       "  background-color: #f2fafc;\n",
       "  color: #000000;\n",
       "}\n",
       "#T_734d5_row1_col6 {\n",
       "  background-color: #cfede8;\n",
       "  color: #000000;\n",
       "}\n",
       "#T_734d5_row1_col8, #T_734d5_row6_col2, #T_734d5_row6_col19, #T_734d5_row6_col20, #T_734d5_row14_col24 {\n",
       "  background-color: #f3fafc;\n",
       "  color: #000000;\n",
       "}\n",
       "#T_734d5_row1_col14, #T_734d5_row10_col15 {\n",
       "  background-color: #e6f5f9;\n",
       "  color: #000000;\n",
       "}\n",
       "#T_734d5_row2_col19, #T_734d5_row4_col19, #T_734d5_row6_col15, #T_734d5_row8_col24, #T_734d5_row11_col19, #T_734d5_row12_col12, #T_734d5_row13_col12, #T_734d5_row14_col20, #T_734d5_row15_col2, #T_734d5_row15_col19, #T_734d5_row15_col23 {\n",
       "  background-color: #f5fbfc;\n",
       "  color: #000000;\n",
       "}\n",
       "#T_734d5_row3_col1 {\n",
       "  background-color: #44af79;\n",
       "  color: #f1f1f1;\n",
       "}\n",
       "#T_734d5_row4_col5 {\n",
       "  background-color: #85cfbb;\n",
       "  color: #000000;\n",
       "}\n",
       "#T_734d5_row4_col7, #T_734d5_row4_col14 {\n",
       "  background-color: #ecf8fa;\n",
       "  color: #000000;\n",
       "}\n",
       "#T_734d5_row4_col8 {\n",
       "  background-color: #8dd3c0;\n",
       "  color: #000000;\n",
       "}\n",
       "#T_734d5_row4_col9, #T_734d5_row4_col12, #T_734d5_row5_col9, #T_734d5_row12_col4, #T_734d5_row14_col1, #T_734d5_row14_col9, #T_734d5_row15_col11, #T_734d5_row15_col15, #T_734d5_row15_col20, #T_734d5_row15_col22 {\n",
       "  background-color: #f5fbfd;\n",
       "  color: #000000;\n",
       "}\n",
       "#T_734d5_row4_col24, #T_734d5_row6_col24, #T_734d5_row8_col5, #T_734d5_row13_col11, #T_734d5_row13_col20 {\n",
       "  background-color: #e8f6fa;\n",
       "  color: #000000;\n",
       "}\n",
       "#T_734d5_row5_col5 {\n",
       "  background-color: #cdece6;\n",
       "  color: #000000;\n",
       "}\n",
       "#T_734d5_row5_col7, #T_734d5_row14_col5, #T_734d5_row14_col8 {\n",
       "  background-color: #eff9fb;\n",
       "  color: #000000;\n",
       "}\n",
       "#T_734d5_row5_col8, #T_734d5_row8_col14 {\n",
       "  background-color: #c0e7df;\n",
       "  color: #000000;\n",
       "}\n",
       "#T_734d5_row5_col14, #T_734d5_row6_col9, #T_734d5_row10_col20, #T_734d5_row11_col11, #T_734d5_row12_col24 {\n",
       "  background-color: #f0f9fb;\n",
       "  color: #000000;\n",
       "}\n",
       "#T_734d5_row6_col5 {\n",
       "  background-color: #e3f4f7;\n",
       "  color: #000000;\n",
       "}\n",
       "#T_734d5_row6_col7 {\n",
       "  background-color: #d4efec;\n",
       "  color: #000000;\n",
       "}\n",
       "#T_734d5_row6_col8 {\n",
       "  background-color: #4bb382;\n",
       "  color: #f1f1f1;\n",
       "}\n",
       "#T_734d5_row6_col14, #T_734d5_row8_col11, #T_734d5_row13_col2 {\n",
       "  background-color: #eaf7fa;\n",
       "  color: #000000;\n",
       "}\n",
       "#T_734d5_row7_col5, #T_734d5_row8_col2, #T_734d5_row13_col9 {\n",
       "  background-color: #ddf2f3;\n",
       "  color: #000000;\n",
       "}\n",
       "#T_734d5_row7_col7, #T_734d5_row11_col14, #T_734d5_row11_col24 {\n",
       "  background-color: #d1eeea;\n",
       "  color: #000000;\n",
       "}\n",
       "#T_734d5_row7_col8 {\n",
       "  background-color: #48b27f;\n",
       "  color: #f1f1f1;\n",
       "}\n",
       "#T_734d5_row7_col9, #T_734d5_row7_col15, #T_734d5_row9_col23, #T_734d5_row15_col24 {\n",
       "  background-color: #f1fafc;\n",
       "  color: #000000;\n",
       "}\n",
       "#T_734d5_row7_col14, #T_734d5_row13_col24 {\n",
       "  background-color: #ccece6;\n",
       "  color: #000000;\n",
       "}\n",
       "#T_734d5_row8_col6, #T_734d5_row15_col6 {\n",
       "  background-color: #67c2a5;\n",
       "  color: #000000;\n",
       "}\n",
       "#T_734d5_row8_col8 {\n",
       "  background-color: #b7e4da;\n",
       "  color: #000000;\n",
       "}\n",
       "#T_734d5_row8_col9 {\n",
       "  background-color: #d5efed;\n",
       "  color: #000000;\n",
       "}\n",
       "#T_734d5_row8_col20, #T_734d5_row12_col20, #T_734d5_row14_col6 {\n",
       "  background-color: #e0f3f5;\n",
       "  color: #000000;\n",
       "}\n",
       "#T_734d5_row9_col14 {\n",
       "  background-color: #53b88c;\n",
       "  color: #f1f1f1;\n",
       "}\n",
       "#T_734d5_row10_col2 {\n",
       "  background-color: #eef8fb;\n",
       "  color: #000000;\n",
       "}\n",
       "#T_734d5_row10_col5 {\n",
       "  background-color: #e5f5f9;\n",
       "  color: #000000;\n",
       "}\n",
       "#T_734d5_row10_col7 {\n",
       "  background-color: #b8e4db;\n",
       "  color: #000000;\n",
       "}\n",
       "#T_734d5_row10_col8 {\n",
       "  background-color: #65c2a3;\n",
       "  color: #000000;\n",
       "}\n",
       "#T_734d5_row10_col9, #T_734d5_row13_col5 {\n",
       "  background-color: #e3f4f8;\n",
       "  color: #000000;\n",
       "}\n",
       "#T_734d5_row10_col14, #T_734d5_row11_col9 {\n",
       "  background-color: #e2f4f7;\n",
       "  color: #000000;\n",
       "}\n",
       "#T_734d5_row10_col24, #T_734d5_row11_col15 {\n",
       "  background-color: #d8f0ef;\n",
       "  color: #000000;\n",
       "}\n",
       "#T_734d5_row11_col2 {\n",
       "  background-color: #edf8fb;\n",
       "  color: #000000;\n",
       "}\n",
       "#T_734d5_row11_col5 {\n",
       "  background-color: #dff3f5;\n",
       "  color: #000000;\n",
       "}\n",
       "#T_734d5_row11_col7 {\n",
       "  background-color: #bae5dc;\n",
       "  color: #000000;\n",
       "}\n",
       "#T_734d5_row11_col8, #T_734d5_row13_col7 {\n",
       "  background-color: #72c7ad;\n",
       "  color: #000000;\n",
       "}\n",
       "#T_734d5_row11_col20 {\n",
       "  background-color: #ecf8fb;\n",
       "  color: #000000;\n",
       "}\n",
       "#T_734d5_row12_col2 {\n",
       "  background-color: #e4f5f8;\n",
       "  color: #000000;\n",
       "}\n",
       "#T_734d5_row12_col5, #T_734d5_row12_col9 {\n",
       "  background-color: #d2eeeb;\n",
       "  color: #000000;\n",
       "}\n",
       "#T_734d5_row12_col7 {\n",
       "  background-color: #a8ded2;\n",
       "  color: #000000;\n",
       "}\n",
       "#T_734d5_row12_col8 {\n",
       "  background-color: #5ebe9b;\n",
       "  color: #000000;\n",
       "}\n",
       "#T_734d5_row12_col11 {\n",
       "  background-color: #e9f7fa;\n",
       "  color: #000000;\n",
       "}\n",
       "#T_734d5_row12_col14 {\n",
       "  background-color: #68c3a6;\n",
       "  color: #000000;\n",
       "}\n",
       "#T_734d5_row12_col15 {\n",
       "  background-color: #8ad2be;\n",
       "  color: #000000;\n",
       "}\n",
       "#T_734d5_row13_col8 {\n",
       "  background-color: #258d48;\n",
       "  color: #f1f1f1;\n",
       "}\n",
       "#T_734d5_row13_col14 {\n",
       "  background-color: #77c9b0;\n",
       "  color: #000000;\n",
       "}\n",
       "#T_734d5_row13_col15 {\n",
       "  background-color: #bde6de;\n",
       "  color: #000000;\n",
       "}\n",
       "#T_734d5_row15_col5 {\n",
       "  background-color: #5abb95;\n",
       "  color: #f1f1f1;\n",
       "}\n",
       "#T_734d5_row15_col8 {\n",
       "  background-color: #ebf7fa;\n",
       "  color: #000000;\n",
       "}\n",
       "</style>\n",
       "<table id=\"T_734d5\">\n",
       "  <thead>\n",
       "    <tr>\n",
       "      <th class=\"index_name level0\" >class_2018</th>\n",
       "      <th id=\"T_734d5_level0_col0\" class=\"col_heading level0 col0\" ></th>\n",
       "      <th id=\"T_734d5_level0_col1\" class=\"col_heading level0 col1\" >Airports</th>\n",
       "      <th id=\"T_734d5_level0_col2\" class=\"col_heading level0 col2\" >Arable land (annual crops)</th>\n",
       "      <th id=\"T_734d5_level0_col3\" class=\"col_heading level0 col3\" >Complex and mixed cultivation patterns</th>\n",
       "      <th id=\"T_734d5_level0_col4\" class=\"col_heading level0 col4\" >Construction sites</th>\n",
       "      <th id=\"T_734d5_level0_col5\" class=\"col_heading level0 col5\" >Continuous urban fabric (S.L. : > 80%)</th>\n",
       "      <th id=\"T_734d5_level0_col6\" class=\"col_heading level0 col6\" >Discontinuous dense urban fabric (S.L. : 50% -  80%)</th>\n",
       "      <th id=\"T_734d5_level0_col7\" class=\"col_heading level0 col7\" >Discontinuous low density urban fabric (S.L. : 10% - 30%)</th>\n",
       "      <th id=\"T_734d5_level0_col8\" class=\"col_heading level0 col8\" >Discontinuous medium density urban fabric (S.L. : 30% - 50%)</th>\n",
       "      <th id=\"T_734d5_level0_col9\" class=\"col_heading level0 col9\" >Discontinuous very low density urban fabric (S.L. : < 10%)</th>\n",
       "      <th id=\"T_734d5_level0_col10\" class=\"col_heading level0 col10\" >Fast transit roads and associated land</th>\n",
       "      <th id=\"T_734d5_level0_col11\" class=\"col_heading level0 col11\" >Forests</th>\n",
       "      <th id=\"T_734d5_level0_col12\" class=\"col_heading level0 col12\" >Green urban areas</th>\n",
       "      <th id=\"T_734d5_level0_col13\" class=\"col_heading level0 col13\" >Herbaceous vegetation associations (natural grassland, moors...)</th>\n",
       "      <th id=\"T_734d5_level0_col14\" class=\"col_heading level0 col14\" >Industrial, commercial, public, military and private units</th>\n",
       "      <th id=\"T_734d5_level0_col15\" class=\"col_heading level0 col15\" >Isolated structures</th>\n",
       "      <th id=\"T_734d5_level0_col16\" class=\"col_heading level0 col16\" >Land without current use</th>\n",
       "      <th id=\"T_734d5_level0_col17\" class=\"col_heading level0 col17\" >Mineral extraction and dump sites</th>\n",
       "      <th id=\"T_734d5_level0_col18\" class=\"col_heading level0 col18\" >Open spaces with little or no vegetation (beaches, dunes, bare rocks, glaciers)</th>\n",
       "      <th id=\"T_734d5_level0_col19\" class=\"col_heading level0 col19\" >Other roads and associated land</th>\n",
       "      <th id=\"T_734d5_level0_col20\" class=\"col_heading level0 col20\" >Pastures</th>\n",
       "      <th id=\"T_734d5_level0_col21\" class=\"col_heading level0 col21\" >Permanent crops (vineyards, fruit trees, olive groves)</th>\n",
       "      <th id=\"T_734d5_level0_col22\" class=\"col_heading level0 col22\" >Port areas</th>\n",
       "      <th id=\"T_734d5_level0_col23\" class=\"col_heading level0 col23\" >Railways and associated land</th>\n",
       "      <th id=\"T_734d5_level0_col24\" class=\"col_heading level0 col24\" >Sports and leisure facilities</th>\n",
       "      <th id=\"T_734d5_level0_col25\" class=\"col_heading level0 col25\" >Water</th>\n",
       "      <th id=\"T_734d5_level0_col26\" class=\"col_heading level0 col26\" >Wetlands</th>\n",
       "    </tr>\n",
       "    <tr>\n",
       "      <th class=\"index_name level0\" >map_label</th>\n",
       "      <th class=\"blank col0\" >&nbsp;</th>\n",
       "      <th class=\"blank col1\" >&nbsp;</th>\n",
       "      <th class=\"blank col2\" >&nbsp;</th>\n",
       "      <th class=\"blank col3\" >&nbsp;</th>\n",
       "      <th class=\"blank col4\" >&nbsp;</th>\n",
       "      <th class=\"blank col5\" >&nbsp;</th>\n",
       "      <th class=\"blank col6\" >&nbsp;</th>\n",
       "      <th class=\"blank col7\" >&nbsp;</th>\n",
       "      <th class=\"blank col8\" >&nbsp;</th>\n",
       "      <th class=\"blank col9\" >&nbsp;</th>\n",
       "      <th class=\"blank col10\" >&nbsp;</th>\n",
       "      <th class=\"blank col11\" >&nbsp;</th>\n",
       "      <th class=\"blank col12\" >&nbsp;</th>\n",
       "      <th class=\"blank col13\" >&nbsp;</th>\n",
       "      <th class=\"blank col14\" >&nbsp;</th>\n",
       "      <th class=\"blank col15\" >&nbsp;</th>\n",
       "      <th class=\"blank col16\" >&nbsp;</th>\n",
       "      <th class=\"blank col17\" >&nbsp;</th>\n",
       "      <th class=\"blank col18\" >&nbsp;</th>\n",
       "      <th class=\"blank col19\" >&nbsp;</th>\n",
       "      <th class=\"blank col20\" >&nbsp;</th>\n",
       "      <th class=\"blank col21\" >&nbsp;</th>\n",
       "      <th class=\"blank col22\" >&nbsp;</th>\n",
       "      <th class=\"blank col23\" >&nbsp;</th>\n",
       "      <th class=\"blank col24\" >&nbsp;</th>\n",
       "      <th class=\"blank col25\" >&nbsp;</th>\n",
       "      <th class=\"blank col26\" >&nbsp;</th>\n",
       "    </tr>\n",
       "  </thead>\n",
       "  <tbody>\n",
       "    <tr>\n",
       "      <th id=\"T_734d5_level0_row0\" class=\"row_heading level0 row0\" >1</th>\n",
       "      <td id=\"T_734d5_row0_col0\" class=\"data row0 col0\" >0.000000</td>\n",
       "      <td id=\"T_734d5_row0_col1\" class=\"data row0 col1\" >0.000079</td>\n",
       "      <td id=\"T_734d5_row0_col2\" class=\"data row0 col2\" >0.002142</td>\n",
       "      <td id=\"T_734d5_row0_col3\" class=\"data row0 col3\" >0.000016</td>\n",
       "      <td id=\"T_734d5_row0_col4\" class=\"data row0 col4\" >0.001388</td>\n",
       "      <td id=\"T_734d5_row0_col5\" class=\"data row0 col5\" >0.323587</td>\n",
       "      <td id=\"T_734d5_row0_col6\" class=\"data row0 col6\" >0.465727</td>\n",
       "      <td id=\"T_734d5_row0_col7\" class=\"data row0 col7\" >0.012275</td>\n",
       "      <td id=\"T_734d5_row0_col8\" class=\"data row0 col8\" >0.079729</td>\n",
       "      <td id=\"T_734d5_row0_col9\" class=\"data row0 col9\" >0.002818</td>\n",
       "      <td id=\"T_734d5_row0_col10\" class=\"data row0 col10\" >0.000034</td>\n",
       "      <td id=\"T_734d5_row0_col11\" class=\"data row0 col11\" >0.000899</td>\n",
       "      <td id=\"T_734d5_row0_col12\" class=\"data row0 col12\" >0.003458</td>\n",
       "      <td id=\"T_734d5_row0_col13\" class=\"data row0 col13\" >0.000093</td>\n",
       "      <td id=\"T_734d5_row0_col14\" class=\"data row0 col14\" >0.081840</td>\n",
       "      <td id=\"T_734d5_row0_col15\" class=\"data row0 col15\" >0.001119</td>\n",
       "      <td id=\"T_734d5_row0_col16\" class=\"data row0 col16\" >0.000775</td>\n",
       "      <td id=\"T_734d5_row0_col17\" class=\"data row0 col17\" >0.000133</td>\n",
       "      <td id=\"T_734d5_row0_col18\" class=\"data row0 col18\" >0.000003</td>\n",
       "      <td id=\"T_734d5_row0_col19\" class=\"data row0 col19\" >0.017034</td>\n",
       "      <td id=\"T_734d5_row0_col20\" class=\"data row0 col20\" >0.001232</td>\n",
       "      <td id=\"T_734d5_row0_col21\" class=\"data row0 col21\" >0.000094</td>\n",
       "      <td id=\"T_734d5_row0_col22\" class=\"data row0 col22\" >0.000352</td>\n",
       "      <td id=\"T_734d5_row0_col23\" class=\"data row0 col23\" >0.000861</td>\n",
       "      <td id=\"T_734d5_row0_col24\" class=\"data row0 col24\" >0.004247</td>\n",
       "      <td id=\"T_734d5_row0_col25\" class=\"data row0 col25\" >0.000063</td>\n",
       "      <td id=\"T_734d5_row0_col26\" class=\"data row0 col26\" >0.000001</td>\n",
       "    </tr>\n",
       "    <tr>\n",
       "      <th id=\"T_734d5_level0_row1\" class=\"row_heading level0 row1\" >2</th>\n",
       "      <td id=\"T_734d5_row1_col0\" class=\"data row1 col0\" >0.000001</td>\n",
       "      <td id=\"T_734d5_row1_col1\" class=\"data row1 col1\" >0.000117</td>\n",
       "      <td id=\"T_734d5_row1_col2\" class=\"data row1 col2\" >0.000267</td>\n",
       "      <td id=\"T_734d5_row1_col3\" class=\"data row1 col3\" >0.000008</td>\n",
       "      <td id=\"T_734d5_row1_col4\" class=\"data row1 col4\" >0.000183</td>\n",
       "      <td id=\"T_734d5_row1_col5\" class=\"data row1 col5\" >0.706609</td>\n",
       "      <td id=\"T_734d5_row1_col6\" class=\"data row1 col6\" >0.166369</td>\n",
       "      <td id=\"T_734d5_row1_col7\" class=\"data row1 col7\" >0.001933</td>\n",
       "      <td id=\"T_734d5_row1_col8\" class=\"data row1 col8\" >0.021064</td>\n",
       "      <td id=\"T_734d5_row1_col9\" class=\"data row1 col9\" >0.000407</td>\n",
       "      <td id=\"T_734d5_row1_col10\" class=\"data row1 col10\" >0.000005</td>\n",
       "      <td id=\"T_734d5_row1_col11\" class=\"data row1 col11\" >0.000141</td>\n",
       "      <td id=\"T_734d5_row1_col12\" class=\"data row1 col12\" >0.001902</td>\n",
       "      <td id=\"T_734d5_row1_col13\" class=\"data row1 col13\" >0.000006</td>\n",
       "      <td id=\"T_734d5_row1_col14\" class=\"data row1 col14\" >0.083671</td>\n",
       "      <td id=\"T_734d5_row1_col15\" class=\"data row1 col15\" >0.000022</td>\n",
       "      <td id=\"T_734d5_row1_col16\" class=\"data row1 col16\" >0.000145</td>\n",
       "      <td id=\"T_734d5_row1_col17\" class=\"data row1 col17\" >0.000031</td>\n",
       "      <td id=\"T_734d5_row1_col18\" class=\"data row1 col18\" >0.000001</td>\n",
       "      <td id=\"T_734d5_row1_col19\" class=\"data row1 col19\" >0.013845</td>\n",
       "      <td id=\"T_734d5_row1_col20\" class=\"data row1 col20\" >0.000087</td>\n",
       "      <td id=\"T_734d5_row1_col21\" class=\"data row1 col21\" >0.000027</td>\n",
       "      <td id=\"T_734d5_row1_col22\" class=\"data row1 col22\" >0.001140</td>\n",
       "      <td id=\"T_734d5_row1_col23\" class=\"data row1 col23\" >0.000801</td>\n",
       "      <td id=\"T_734d5_row1_col24\" class=\"data row1 col24\" >0.001062</td>\n",
       "      <td id=\"T_734d5_row1_col25\" class=\"data row1 col25\" >0.000155</td>\n",
       "      <td id=\"T_734d5_row1_col26\" class=\"data row1 col26\" >0.000003</td>\n",
       "    </tr>\n",
       "    <tr>\n",
       "      <th id=\"T_734d5_level0_row2\" class=\"row_heading level0 row2\" >3</th>\n",
       "      <td id=\"T_734d5_row2_col0\" class=\"data row2 col0\" >0.000000</td>\n",
       "      <td id=\"T_734d5_row2_col1\" class=\"data row2 col1\" >0.000000</td>\n",
       "      <td id=\"T_734d5_row2_col2\" class=\"data row2 col2\" >0.000000</td>\n",
       "      <td id=\"T_734d5_row2_col3\" class=\"data row2 col3\" >0.000000</td>\n",
       "      <td id=\"T_734d5_row2_col4\" class=\"data row2 col4\" >0.000000</td>\n",
       "      <td id=\"T_734d5_row2_col5\" class=\"data row2 col5\" >0.000000</td>\n",
       "      <td id=\"T_734d5_row2_col6\" class=\"data row2 col6\" >0.000000</td>\n",
       "      <td id=\"T_734d5_row2_col7\" class=\"data row2 col7\" >0.000000</td>\n",
       "      <td id=\"T_734d5_row2_col8\" class=\"data row2 col8\" >0.000000</td>\n",
       "      <td id=\"T_734d5_row2_col9\" class=\"data row2 col9\" >0.000000</td>\n",
       "      <td id=\"T_734d5_row2_col10\" class=\"data row2 col10\" >0.000000</td>\n",
       "      <td id=\"T_734d5_row2_col11\" class=\"data row2 col11\" >0.000000</td>\n",
       "      <td id=\"T_734d5_row2_col12\" class=\"data row2 col12\" >0.000000</td>\n",
       "      <td id=\"T_734d5_row2_col13\" class=\"data row2 col13\" >0.000000</td>\n",
       "      <td id=\"T_734d5_row2_col14\" class=\"data row2 col14\" >0.976852</td>\n",
       "      <td id=\"T_734d5_row2_col15\" class=\"data row2 col15\" >0.000000</td>\n",
       "      <td id=\"T_734d5_row2_col16\" class=\"data row2 col16\" >0.000000</td>\n",
       "      <td id=\"T_734d5_row2_col17\" class=\"data row2 col17\" >0.000000</td>\n",
       "      <td id=\"T_734d5_row2_col18\" class=\"data row2 col18\" >0.000000</td>\n",
       "      <td id=\"T_734d5_row2_col19\" class=\"data row2 col19\" >0.018519</td>\n",
       "      <td id=\"T_734d5_row2_col20\" class=\"data row2 col20\" >0.000000</td>\n",
       "      <td id=\"T_734d5_row2_col21\" class=\"data row2 col21\" >0.000000</td>\n",
       "      <td id=\"T_734d5_row2_col22\" class=\"data row2 col22\" >0.000000</td>\n",
       "      <td id=\"T_734d5_row2_col23\" class=\"data row2 col23\" >0.003086</td>\n",
       "      <td id=\"T_734d5_row2_col24\" class=\"data row2 col24\" >0.001543</td>\n",
       "      <td id=\"T_734d5_row2_col25\" class=\"data row2 col25\" >0.000000</td>\n",
       "      <td id=\"T_734d5_row2_col26\" class=\"data row2 col26\" >0.000000</td>\n",
       "    </tr>\n",
       "    <tr>\n",
       "      <th id=\"T_734d5_level0_row3\" class=\"row_heading level0 row3\" >4</th>\n",
       "      <td id=\"T_734d5_row3_col0\" class=\"data row3 col0\" >0.000000</td>\n",
       "      <td id=\"T_734d5_row3_col1\" class=\"data row3 col1\" >0.361946</td>\n",
       "      <td id=\"T_734d5_row3_col2\" class=\"data row3 col2\" >0.002861</td>\n",
       "      <td id=\"T_734d5_row3_col3\" class=\"data row3 col3\" >0.000000</td>\n",
       "      <td id=\"T_734d5_row3_col4\" class=\"data row3 col4\" >0.000000</td>\n",
       "      <td id=\"T_734d5_row3_col5\" class=\"data row3 col5\" >0.000000</td>\n",
       "      <td id=\"T_734d5_row3_col6\" class=\"data row3 col6\" >0.000000</td>\n",
       "      <td id=\"T_734d5_row3_col7\" class=\"data row3 col7\" >0.000000</td>\n",
       "      <td id=\"T_734d5_row3_col8\" class=\"data row3 col8\" >0.000000</td>\n",
       "      <td id=\"T_734d5_row3_col9\" class=\"data row3 col9\" >0.000000</td>\n",
       "      <td id=\"T_734d5_row3_col10\" class=\"data row3 col10\" >0.000000</td>\n",
       "      <td id=\"T_734d5_row3_col11\" class=\"data row3 col11\" >0.000000</td>\n",
       "      <td id=\"T_734d5_row3_col12\" class=\"data row3 col12\" >0.000000</td>\n",
       "      <td id=\"T_734d5_row3_col13\" class=\"data row3 col13\" >0.000000</td>\n",
       "      <td id=\"T_734d5_row3_col14\" class=\"data row3 col14\" >0.589413</td>\n",
       "      <td id=\"T_734d5_row3_col15\" class=\"data row3 col15\" >0.000000</td>\n",
       "      <td id=\"T_734d5_row3_col16\" class=\"data row3 col16\" >0.000000</td>\n",
       "      <td id=\"T_734d5_row3_col17\" class=\"data row3 col17\" >0.000000</td>\n",
       "      <td id=\"T_734d5_row3_col18\" class=\"data row3 col18\" >0.000000</td>\n",
       "      <td id=\"T_734d5_row3_col19\" class=\"data row3 col19\" >0.022890</td>\n",
       "      <td id=\"T_734d5_row3_col20\" class=\"data row3 col20\" >0.000000</td>\n",
       "      <td id=\"T_734d5_row3_col21\" class=\"data row3 col21\" >0.000000</td>\n",
       "      <td id=\"T_734d5_row3_col22\" class=\"data row3 col22\" >0.000000</td>\n",
       "      <td id=\"T_734d5_row3_col23\" class=\"data row3 col23\" >0.022890</td>\n",
       "      <td id=\"T_734d5_row3_col24\" class=\"data row3 col24\" >0.000000</td>\n",
       "      <td id=\"T_734d5_row3_col25\" class=\"data row3 col25\" >0.000000</td>\n",
       "      <td id=\"T_734d5_row3_col26\" class=\"data row3 col26\" >0.000000</td>\n",
       "    </tr>\n",
       "    <tr>\n",
       "      <th id=\"T_734d5_level0_row4\" class=\"row_heading level0 row4\" >5</th>\n",
       "      <td id=\"T_734d5_row4_col0\" class=\"data row4 col0\" >0.000000</td>\n",
       "      <td id=\"T_734d5_row4_col1\" class=\"data row4 col1\" >0.000024</td>\n",
       "      <td id=\"T_734d5_row4_col2\" class=\"data row4 col2\" >0.003939</td>\n",
       "      <td id=\"T_734d5_row4_col3\" class=\"data row4 col3\" >0.000020</td>\n",
       "      <td id=\"T_734d5_row4_col4\" class=\"data row4 col4\" >0.001780</td>\n",
       "      <td id=\"T_734d5_row4_col5\" class=\"data row4 col5\" >0.195443</td>\n",
       "      <td id=\"T_734d5_row4_col6\" class=\"data row4 col6\" >0.460848</td>\n",
       "      <td id=\"T_734d5_row4_col7\" class=\"data row4 col7\" >0.036905</td>\n",
       "      <td id=\"T_734d5_row4_col8\" class=\"data row4 col8\" >0.186304</td>\n",
       "      <td id=\"T_734d5_row4_col9\" class=\"data row4 col9\" >0.006353</td>\n",
       "      <td id=\"T_734d5_row4_col10\" class=\"data row4 col10\" >0.000018</td>\n",
       "      <td id=\"T_734d5_row4_col11\" class=\"data row4 col11\" >0.003461</td>\n",
       "      <td id=\"T_734d5_row4_col12\" class=\"data row4 col12\" >0.005978</td>\n",
       "      <td id=\"T_734d5_row4_col13\" class=\"data row4 col13\" >0.000310</td>\n",
       "      <td id=\"T_734d5_row4_col14\" class=\"data row4 col14\" >0.036045</td>\n",
       "      <td id=\"T_734d5_row4_col15\" class=\"data row4 col15\" >0.000907</td>\n",
       "      <td id=\"T_734d5_row4_col16\" class=\"data row4 col16\" >0.001320</td>\n",
       "      <td id=\"T_734d5_row4_col17\" class=\"data row4 col17\" >0.000139</td>\n",
       "      <td id=\"T_734d5_row4_col18\" class=\"data row4 col18\" >0.000002</td>\n",
       "      <td id=\"T_734d5_row4_col19\" class=\"data row4 col19\" >0.007866</td>\n",
       "      <td id=\"T_734d5_row4_col20\" class=\"data row4 col20\" >0.003149</td>\n",
       "      <td id=\"T_734d5_row4_col21\" class=\"data row4 col21\" >0.000097</td>\n",
       "      <td id=\"T_734d5_row4_col22\" class=\"data row4 col22\" >0.000332</td>\n",
       "      <td id=\"T_734d5_row4_col23\" class=\"data row4 col23\" >0.000753</td>\n",
       "      <td id=\"T_734d5_row4_col24\" class=\"data row4 col24\" >0.047928</td>\n",
       "      <td id=\"T_734d5_row4_col25\" class=\"data row4 col25\" >0.000065</td>\n",
       "      <td id=\"T_734d5_row4_col26\" class=\"data row4 col26\" >0.000016</td>\n",
       "    </tr>\n",
       "    <tr>\n",
       "      <th id=\"T_734d5_level0_row5\" class=\"row_heading level0 row5\" >6</th>\n",
       "      <td id=\"T_734d5_row5_col0\" class=\"data row5 col0\" >0.000000</td>\n",
       "      <td id=\"T_734d5_row5_col1\" class=\"data row5 col1\" >0.000005</td>\n",
       "      <td id=\"T_734d5_row5_col2\" class=\"data row5 col2\" >0.005154</td>\n",
       "      <td id=\"T_734d5_row5_col3\" class=\"data row5 col3\" >0.000004</td>\n",
       "      <td id=\"T_734d5_row5_col4\" class=\"data row5 col4\" >0.002531</td>\n",
       "      <td id=\"T_734d5_row5_col5\" class=\"data row5 col5\" >0.145393</td>\n",
       "      <td id=\"T_734d5_row5_col6\" class=\"data row5 col6\" >0.582048</td>\n",
       "      <td id=\"T_734d5_row5_col7\" class=\"data row5 col7\" >0.034161</td>\n",
       "      <td id=\"T_734d5_row5_col8\" class=\"data row5 col8\" >0.163489</td>\n",
       "      <td id=\"T_734d5_row5_col9\" class=\"data row5 col9\" >0.007361</td>\n",
       "      <td id=\"T_734d5_row5_col10\" class=\"data row5 col10\" >0.000011</td>\n",
       "      <td id=\"T_734d5_row5_col11\" class=\"data row5 col11\" >0.001637</td>\n",
       "      <td id=\"T_734d5_row5_col12\" class=\"data row5 col12\" >0.002972</td>\n",
       "      <td id=\"T_734d5_row5_col13\" class=\"data row5 col13\" >0.000098</td>\n",
       "      <td id=\"T_734d5_row5_col14\" class=\"data row5 col14\" >0.029577</td>\n",
       "      <td id=\"T_734d5_row5_col15\" class=\"data row5 col15\" >0.001275</td>\n",
       "      <td id=\"T_734d5_row5_col16\" class=\"data row5 col16\" >0.001230</td>\n",
       "      <td id=\"T_734d5_row5_col17\" class=\"data row5 col17\" >0.000133</td>\n",
       "      <td id=\"T_734d5_row5_col18\" class=\"data row5 col18\" >0.000001</td>\n",
       "      <td id=\"T_734d5_row5_col19\" class=\"data row5 col19\" >0.013180</td>\n",
       "      <td id=\"T_734d5_row5_col20\" class=\"data row5 col20\" >0.002896</td>\n",
       "      <td id=\"T_734d5_row5_col21\" class=\"data row5 col21\" >0.000204</td>\n",
       "      <td id=\"T_734d5_row5_col22\" class=\"data row5 col22\" >0.000036</td>\n",
       "      <td id=\"T_734d5_row5_col23\" class=\"data row5 col23\" >0.000467</td>\n",
       "      <td id=\"T_734d5_row5_col24\" class=\"data row5 col24\" >0.006075</td>\n",
       "      <td id=\"T_734d5_row5_col25\" class=\"data row5 col25\" >0.000056</td>\n",
       "      <td id=\"T_734d5_row5_col26\" class=\"data row5 col26\" >0.000006</td>\n",
       "    </tr>\n",
       "    <tr>\n",
       "      <th id=\"T_734d5_level0_row6\" class=\"row_heading level0 row6\" >7</th>\n",
       "      <td id=\"T_734d5_row6_col0\" class=\"data row6 col0\" >0.000000</td>\n",
       "      <td id=\"T_734d5_row6_col1\" class=\"data row6 col1\" >0.000034</td>\n",
       "      <td id=\"T_734d5_row6_col2\" class=\"data row6 col2\" >0.011864</td>\n",
       "      <td id=\"T_734d5_row6_col3\" class=\"data row6 col3\" >0.000058</td>\n",
       "      <td id=\"T_734d5_row6_col4\" class=\"data row6 col4\" >0.003153</td>\n",
       "      <td id=\"T_734d5_row6_col5\" class=\"data row6 col5\" >0.058494</td>\n",
       "      <td id=\"T_734d5_row6_col6\" class=\"data row6 col6\" >0.426307</td>\n",
       "      <td id=\"T_734d5_row6_col7\" class=\"data row6 col7\" >0.091541</td>\n",
       "      <td id=\"T_734d5_row6_col8\" class=\"data row6 col8\" >0.252993</td>\n",
       "      <td id=\"T_734d5_row6_col9\" class=\"data row6 col9\" >0.019999</td>\n",
       "      <td id=\"T_734d5_row6_col10\" class=\"data row6 col10\" >0.000066</td>\n",
       "      <td id=\"T_734d5_row6_col11\" class=\"data row6 col11\" >0.009995</td>\n",
       "      <td id=\"T_734d5_row6_col12\" class=\"data row6 col12\" >0.004875</td>\n",
       "      <td id=\"T_734d5_row6_col13\" class=\"data row6 col13\" >0.000395</td>\n",
       "      <td id=\"T_734d5_row6_col14\" class=\"data row6 col14\" >0.039542</td>\n",
       "      <td id=\"T_734d5_row6_col15\" class=\"data row6 col15\" >0.007540</td>\n",
       "      <td id=\"T_734d5_row6_col16\" class=\"data row6 col16\" >0.001830</td>\n",
       "      <td id=\"T_734d5_row6_col17\" class=\"data row6 col17\" >0.000420</td>\n",
       "      <td id=\"T_734d5_row6_col18\" class=\"data row6 col18\" >0.000011</td>\n",
       "      <td id=\"T_734d5_row6_col19\" class=\"data row6 col19\" >0.013116</td>\n",
       "      <td id=\"T_734d5_row6_col20\" class=\"data row6 col20\" >0.012196</td>\n",
       "      <td id=\"T_734d5_row6_col21\" class=\"data row6 col21\" >0.000544</td>\n",
       "      <td id=\"T_734d5_row6_col22\" class=\"data row6 col22\" >0.000267</td>\n",
       "      <td id=\"T_734d5_row6_col23\" class=\"data row6 col23\" >0.000703</td>\n",
       "      <td id=\"T_734d5_row6_col24\" class=\"data row6 col24\" >0.043813</td>\n",
       "      <td id=\"T_734d5_row6_col25\" class=\"data row6 col25\" >0.000221</td>\n",
       "      <td id=\"T_734d5_row6_col26\" class=\"data row6 col26\" >0.000022</td>\n",
       "    </tr>\n",
       "    <tr>\n",
       "      <th id=\"T_734d5_level0_row7\" class=\"row_heading level0 row7\" >8</th>\n",
       "      <td id=\"T_734d5_row7_col0\" class=\"data row7 col0\" >0.000000</td>\n",
       "      <td id=\"T_734d5_row7_col1\" class=\"data row7 col1\" >0.000102</td>\n",
       "      <td id=\"T_734d5_row7_col2\" class=\"data row7 col2\" >0.013838</td>\n",
       "      <td id=\"T_734d5_row7_col3\" class=\"data row7 col3\" >0.000040</td>\n",
       "      <td id=\"T_734d5_row7_col4\" class=\"data row7 col4\" >0.001438</td>\n",
       "      <td id=\"T_734d5_row7_col5\" class=\"data row7 col5\" >0.066149</td>\n",
       "      <td id=\"T_734d5_row7_col6\" class=\"data row7 col6\" >0.396912</td>\n",
       "      <td id=\"T_734d5_row7_col7\" class=\"data row7 col7\" >0.089905</td>\n",
       "      <td id=\"T_734d5_row7_col8\" class=\"data row7 col8\" >0.238260</td>\n",
       "      <td id=\"T_734d5_row7_col9\" class=\"data row7 col9\" >0.017928</td>\n",
       "      <td id=\"T_734d5_row7_col10\" class=\"data row7 col10\" >0.000173</td>\n",
       "      <td id=\"T_734d5_row7_col11\" class=\"data row7 col11\" >0.008973</td>\n",
       "      <td id=\"T_734d5_row7_col12\" class=\"data row7 col12\" >0.004639</td>\n",
       "      <td id=\"T_734d5_row7_col13\" class=\"data row7 col13\" >0.000360</td>\n",
       "      <td id=\"T_734d5_row7_col14\" class=\"data row7 col14\" >0.099699</td>\n",
       "      <td id=\"T_734d5_row7_col15\" class=\"data row7 col15\" >0.016553</td>\n",
       "      <td id=\"T_734d5_row7_col16\" class=\"data row7 col16\" >0.001268</td>\n",
       "      <td id=\"T_734d5_row7_col17\" class=\"data row7 col17\" >0.000778</td>\n",
       "      <td id=\"T_734d5_row7_col18\" class=\"data row7 col18\" >0.000010</td>\n",
       "      <td id=\"T_734d5_row7_col19\" class=\"data row7 col19\" >0.014460</td>\n",
       "      <td id=\"T_734d5_row7_col20\" class=\"data row7 col20\" >0.012624</td>\n",
       "      <td id=\"T_734d5_row7_col21\" class=\"data row7 col21\" >0.000615</td>\n",
       "      <td id=\"T_734d5_row7_col22\" class=\"data row7 col22\" >0.000393</td>\n",
       "      <td id=\"T_734d5_row7_col23\" class=\"data row7 col23\" >0.001115</td>\n",
       "      <td id=\"T_734d5_row7_col24\" class=\"data row7 col24\" >0.013514</td>\n",
       "      <td id=\"T_734d5_row7_col25\" class=\"data row7 col25\" >0.000239</td>\n",
       "      <td id=\"T_734d5_row7_col26\" class=\"data row7 col26\" >0.000015</td>\n",
       "    </tr>\n",
       "    <tr>\n",
       "      <th id=\"T_734d5_level0_row8\" class=\"row_heading level0 row8\" >9</th>\n",
       "      <td id=\"T_734d5_row8_col0\" class=\"data row8 col0\" >0.000000</td>\n",
       "      <td id=\"T_734d5_row8_col1\" class=\"data row8 col1\" >0.000471</td>\n",
       "      <td id=\"T_734d5_row8_col2\" class=\"data row8 col2\" >0.055013</td>\n",
       "      <td id=\"T_734d5_row8_col3\" class=\"data row8 col3\" >0.000020</td>\n",
       "      <td id=\"T_734d5_row8_col4\" class=\"data row8 col4\" >0.000997</td>\n",
       "      <td id=\"T_734d5_row8_col5\" class=\"data row8 col5\" >0.036032</td>\n",
       "      <td id=\"T_734d5_row8_col6\" class=\"data row8 col6\" >0.164208</td>\n",
       "      <td id=\"T_734d5_row8_col7\" class=\"data row8 col7\" >0.057515</td>\n",
       "      <td id=\"T_734d5_row8_col8\" class=\"data row8 col8\" >0.100390</td>\n",
       "      <td id=\"T_734d5_row8_col9\" class=\"data row8 col9\" >0.067321</td>\n",
       "      <td id=\"T_734d5_row8_col10\" class=\"data row8 col10\" >0.000130</td>\n",
       "      <td id=\"T_734d5_row8_col11\" class=\"data row8 col11\" >0.030270</td>\n",
       "      <td id=\"T_734d5_row8_col12\" class=\"data row8 col12\" >0.000725</td>\n",
       "      <td id=\"T_734d5_row8_col13\" class=\"data row8 col13\" >0.001312</td>\n",
       "      <td id=\"T_734d5_row8_col14\" class=\"data row8 col14\" >0.092273</td>\n",
       "      <td id=\"T_734d5_row8_col15\" class=\"data row8 col15\" >0.329814</td>\n",
       "      <td id=\"T_734d5_row8_col16\" class=\"data row8 col16\" >0.000265</td>\n",
       "      <td id=\"T_734d5_row8_col17\" class=\"data row8 col17\" >0.000988</td>\n",
       "      <td id=\"T_734d5_row8_col18\" class=\"data row8 col18\" >0.000034</td>\n",
       "      <td id=\"T_734d5_row8_col19\" class=\"data row8 col19\" >0.003378</td>\n",
       "      <td id=\"T_734d5_row8_col20\" class=\"data row8 col20\" >0.050010</td>\n",
       "      <td id=\"T_734d5_row8_col21\" class=\"data row8 col21\" >0.000217</td>\n",
       "      <td id=\"T_734d5_row8_col22\" class=\"data row8 col22\" >0.001265</td>\n",
       "      <td id=\"T_734d5_row8_col23\" class=\"data row8 col23\" >0.000755</td>\n",
       "      <td id=\"T_734d5_row8_col24\" class=\"data row8 col24\" >0.006233</td>\n",
       "      <td id=\"T_734d5_row8_col25\" class=\"data row8 col25\" >0.000257</td>\n",
       "      <td id=\"T_734d5_row8_col26\" class=\"data row8 col26\" >0.000106</td>\n",
       "    </tr>\n",
       "    <tr>\n",
       "      <th id=\"T_734d5_level0_row9\" class=\"row_heading level0 row9\" >10</th>\n",
       "      <td id=\"T_734d5_row9_col0\" class=\"data row9 col0\" >0.000000</td>\n",
       "      <td id=\"T_734d5_row9_col1\" class=\"data row9 col1\" >0.000000</td>\n",
       "      <td id=\"T_734d5_row9_col2\" class=\"data row9 col2\" >0.001360</td>\n",
       "      <td id=\"T_734d5_row9_col3\" class=\"data row9 col3\" >0.000000</td>\n",
       "      <td id=\"T_734d5_row9_col4\" class=\"data row9 col4\" >0.000000</td>\n",
       "      <td id=\"T_734d5_row9_col5\" class=\"data row9 col5\" >0.000000</td>\n",
       "      <td id=\"T_734d5_row9_col6\" class=\"data row9 col6\" >0.001360</td>\n",
       "      <td id=\"T_734d5_row9_col7\" class=\"data row9 col7\" >0.000000</td>\n",
       "      <td id=\"T_734d5_row9_col8\" class=\"data row9 col8\" >0.001360</td>\n",
       "      <td id=\"T_734d5_row9_col9\" class=\"data row9 col9\" >0.000000</td>\n",
       "      <td id=\"T_734d5_row9_col10\" class=\"data row9 col10\" >0.000000</td>\n",
       "      <td id=\"T_734d5_row9_col11\" class=\"data row9 col11\" >0.000453</td>\n",
       "      <td id=\"T_734d5_row9_col12\" class=\"data row9 col12\" >0.000000</td>\n",
       "      <td id=\"T_734d5_row9_col13\" class=\"data row9 col13\" >0.000000</td>\n",
       "      <td id=\"T_734d5_row9_col14\" class=\"data row9 col14\" >0.345422</td>\n",
       "      <td id=\"T_734d5_row9_col15\" class=\"data row9 col15\" >0.002720</td>\n",
       "      <td id=\"T_734d5_row9_col16\" class=\"data row9 col16\" >0.002267</td>\n",
       "      <td id=\"T_734d5_row9_col17\" class=\"data row9 col17\" >0.000453</td>\n",
       "      <td id=\"T_734d5_row9_col18\" class=\"data row9 col18\" >0.000000</td>\n",
       "      <td id=\"T_734d5_row9_col19\" class=\"data row9 col19\" >0.001813</td>\n",
       "      <td id=\"T_734d5_row9_col20\" class=\"data row9 col20\" >0.001813</td>\n",
       "      <td id=\"T_734d5_row9_col21\" class=\"data row9 col21\" >0.000453</td>\n",
       "      <td id=\"T_734d5_row9_col22\" class=\"data row9 col22\" >0.612874</td>\n",
       "      <td id=\"T_734d5_row9_col23\" class=\"data row9 col23\" >0.027199</td>\n",
       "      <td id=\"T_734d5_row9_col24\" class=\"data row9 col24\" >0.000000</td>\n",
       "      <td id=\"T_734d5_row9_col25\" class=\"data row9 col25\" >0.000453</td>\n",
       "      <td id=\"T_734d5_row9_col26\" class=\"data row9 col26\" >0.000000</td>\n",
       "    </tr>\n",
       "    <tr>\n",
       "      <th id=\"T_734d5_level0_row10\" class=\"row_heading level0 row10\" >11</th>\n",
       "      <td id=\"T_734d5_row10_col0\" class=\"data row10 col0\" >0.000000</td>\n",
       "      <td id=\"T_734d5_row10_col1\" class=\"data row10 col1\" >0.000682</td>\n",
       "      <td id=\"T_734d5_row10_col2\" class=\"data row10 col2\" >0.023497</td>\n",
       "      <td id=\"T_734d5_row10_col3\" class=\"data row10 col3\" >0.000069</td>\n",
       "      <td id=\"T_734d5_row10_col4\" class=\"data row10 col4\" >0.000321</td>\n",
       "      <td id=\"T_734d5_row10_col5\" class=\"data row10 col5\" >0.046499</td>\n",
       "      <td id=\"T_734d5_row10_col6\" class=\"data row10 col6\" >0.372951</td>\n",
       "      <td id=\"T_734d5_row10_col7\" class=\"data row10 col7\" >0.111223</td>\n",
       "      <td id=\"T_734d5_row10_col8\" class=\"data row10 col8\" >0.187275</td>\n",
       "      <td id=\"T_734d5_row10_col9\" class=\"data row10 col9\" >0.050396</td>\n",
       "      <td id=\"T_734d5_row10_col10\" class=\"data row10 col10\" >0.000041</td>\n",
       "      <td id=\"T_734d5_row10_col11\" class=\"data row10 col11\" >0.009482</td>\n",
       "      <td id=\"T_734d5_row10_col12\" class=\"data row10 col12\" >0.000442</td>\n",
       "      <td id=\"T_734d5_row10_col13\" class=\"data row10 col13\" >0.000658</td>\n",
       "      <td id=\"T_734d5_row10_col14\" class=\"data row10 col14\" >0.053793</td>\n",
       "      <td id=\"T_734d5_row10_col15\" class=\"data row10 col15\" >0.044125</td>\n",
       "      <td id=\"T_734d5_row10_col16\" class=\"data row10 col16\" >0.000235</td>\n",
       "      <td id=\"T_734d5_row10_col17\" class=\"data row10 col17\" >0.000434</td>\n",
       "      <td id=\"T_734d5_row10_col18\" class=\"data row10 col18\" >0.000000</td>\n",
       "      <td id=\"T_734d5_row10_col19\" class=\"data row10 col19\" >0.003783</td>\n",
       "      <td id=\"T_734d5_row10_col20\" class=\"data row10 col20\" >0.019247</td>\n",
       "      <td id=\"T_734d5_row10_col21\" class=\"data row10 col21\" >0.001088</td>\n",
       "      <td id=\"T_734d5_row10_col22\" class=\"data row10 col22\" >0.001404</td>\n",
       "      <td id=\"T_734d5_row10_col23\" class=\"data row10 col23\" >0.000394</td>\n",
       "      <td id=\"T_734d5_row10_col24\" class=\"data row10 col24\" >0.071685</td>\n",
       "      <td id=\"T_734d5_row10_col25\" class=\"data row10 col25\" >0.000244</td>\n",
       "      <td id=\"T_734d5_row10_col26\" class=\"data row10 col26\" >0.000032</td>\n",
       "    </tr>\n",
       "    <tr>\n",
       "      <th id=\"T_734d5_level0_row11\" class=\"row_heading level0 row11\" >12</th>\n",
       "      <td id=\"T_734d5_row11_col0\" class=\"data row11 col0\" >0.000000</td>\n",
       "      <td id=\"T_734d5_row11_col1\" class=\"data row11 col1\" >0.000156</td>\n",
       "      <td id=\"T_734d5_row11_col2\" class=\"data row11 col2\" >0.024730</td>\n",
       "      <td id=\"T_734d5_row11_col3\" class=\"data row11 col3\" >0.000033</td>\n",
       "      <td id=\"T_734d5_row11_col4\" class=\"data row11 col4\" >0.000535</td>\n",
       "      <td id=\"T_734d5_row11_col5\" class=\"data row11 col5\" >0.052459</td>\n",
       "      <td id=\"T_734d5_row11_col6\" class=\"data row11 col6\" >0.340452</td>\n",
       "      <td id=\"T_734d5_row11_col7\" class=\"data row11 col7\" >0.099923</td>\n",
       "      <td id=\"T_734d5_row11_col8\" class=\"data row11 col8\" >0.159651</td>\n",
       "      <td id=\"T_734d5_row11_col9\" class=\"data row11 col9\" >0.048470</td>\n",
       "      <td id=\"T_734d5_row11_col10\" class=\"data row11 col10\" >0.000065</td>\n",
       "      <td id=\"T_734d5_row11_col11\" class=\"data row11 col11\" >0.017626</td>\n",
       "      <td id=\"T_734d5_row11_col12\" class=\"data row11 col12\" >0.001468</td>\n",
       "      <td id=\"T_734d5_row11_col13\" class=\"data row11 col13\" >0.000456</td>\n",
       "      <td id=\"T_734d5_row11_col14\" class=\"data row11 col14\" >0.076904</td>\n",
       "      <td id=\"T_734d5_row11_col15\" class=\"data row11 col15\" >0.065769</td>\n",
       "      <td id=\"T_734d5_row11_col16\" class=\"data row11 col16\" >0.000346</td>\n",
       "      <td id=\"T_734d5_row11_col17\" class=\"data row11 col17\" >0.000637</td>\n",
       "      <td id=\"T_734d5_row11_col18\" class=\"data row11 col18\" >0.000017</td>\n",
       "      <td id=\"T_734d5_row11_col19\" class=\"data row11 col19\" >0.005899</td>\n",
       "      <td id=\"T_734d5_row11_col20\" class=\"data row11 col20\" >0.025436</td>\n",
       "      <td id=\"T_734d5_row11_col21\" class=\"data row11 col21\" >0.000716</td>\n",
       "      <td id=\"T_734d5_row11_col22\" class=\"data row11 col22\" >0.000398</td>\n",
       "      <td id=\"T_734d5_row11_col23\" class=\"data row11 col23\" >0.000626</td>\n",
       "      <td id=\"T_734d5_row11_col24\" class=\"data row11 col24\" >0.076871</td>\n",
       "      <td id=\"T_734d5_row11_col25\" class=\"data row11 col25\" >0.000274</td>\n",
       "      <td id=\"T_734d5_row11_col26\" class=\"data row11 col26\" >0.000082</td>\n",
       "    </tr>\n",
       "    <tr>\n",
       "      <th id=\"T_734d5_level0_row12\" class=\"row_heading level0 row12\" >13</th>\n",
       "      <td id=\"T_734d5_row12_col0\" class=\"data row12 col0\" >0.000001</td>\n",
       "      <td id=\"T_734d5_row12_col1\" class=\"data row12 col1\" >0.000591</td>\n",
       "      <td id=\"T_734d5_row12_col2\" class=\"data row12 col2\" >0.034589</td>\n",
       "      <td id=\"T_734d5_row12_col3\" class=\"data row12 col3\" >0.000097</td>\n",
       "      <td id=\"T_734d5_row12_col4\" class=\"data row12 col4\" >0.003645</td>\n",
       "      <td id=\"T_734d5_row12_col5\" class=\"data row12 col5\" >0.059474</td>\n",
       "      <td id=\"T_734d5_row12_col6\" class=\"data row12 col6\" >0.268030</td>\n",
       "      <td id=\"T_734d5_row12_col7\" class=\"data row12 col7\" >0.090505</td>\n",
       "      <td id=\"T_734d5_row12_col8\" class=\"data row12 col8\" >0.140333</td>\n",
       "      <td id=\"T_734d5_row12_col9\" class=\"data row12 col9\" >0.059552</td>\n",
       "      <td id=\"T_734d5_row12_col10\" class=\"data row12 col10\" >0.000295</td>\n",
       "      <td id=\"T_734d5_row12_col11\" class=\"data row12 col11\" >0.025233</td>\n",
       "      <td id=\"T_734d5_row12_col12\" class=\"data row12 col12\" >0.004381</td>\n",
       "      <td id=\"T_734d5_row12_col13\" class=\"data row12 col13\" >0.000801</td>\n",
       "      <td id=\"T_734d5_row12_col14\" class=\"data row12 col14\" >0.132443</td>\n",
       "      <td id=\"T_734d5_row12_col15\" class=\"data row12 col15\" >0.110161</td>\n",
       "      <td id=\"T_734d5_row12_col16\" class=\"data row12 col16\" >0.001563</td>\n",
       "      <td id=\"T_734d5_row12_col17\" class=\"data row12 col17\" >0.001518</td>\n",
       "      <td id=\"T_734d5_row12_col18\" class=\"data row12 col18\" >0.000009</td>\n",
       "      <td id=\"T_734d5_row12_col19\" class=\"data row12 col19\" >0.008557</td>\n",
       "      <td id=\"T_734d5_row12_col20\" class=\"data row12 col20\" >0.040235</td>\n",
       "      <td id=\"T_734d5_row12_col21\" class=\"data row12 col21\" >0.000683</td>\n",
       "      <td id=\"T_734d5_row12_col22\" class=\"data row12 col22\" >0.000923</td>\n",
       "      <td id=\"T_734d5_row12_col23\" class=\"data row12 col23\" >0.001590</td>\n",
       "      <td id=\"T_734d5_row12_col24\" class=\"data row12 col24\" >0.014320</td>\n",
       "      <td id=\"T_734d5_row12_col25\" class=\"data row12 col25\" >0.000432</td>\n",
       "      <td id=\"T_734d5_row12_col26\" class=\"data row12 col26\" >0.000039</td>\n",
       "    </tr>\n",
       "    <tr>\n",
       "      <th id=\"T_734d5_level0_row13\" class=\"row_heading level0 row13\" >14</th>\n",
       "      <td id=\"T_734d5_row13_col0\" class=\"data row13 col0\" >0.000000</td>\n",
       "      <td id=\"T_734d5_row13_col1\" class=\"data row13 col1\" >0.000238</td>\n",
       "      <td id=\"T_734d5_row13_col2\" class=\"data row13 col2\" >0.023416</td>\n",
       "      <td id=\"T_734d5_row13_col3\" class=\"data row13 col3\" >0.000091</td>\n",
       "      <td id=\"T_734d5_row13_col4\" class=\"data row13 col4\" >0.000591</td>\n",
       "      <td id=\"T_734d5_row13_col5\" class=\"data row13 col5\" >0.034174</td>\n",
       "      <td id=\"T_734d5_row13_col6\" class=\"data row13 col6\" >0.256273</td>\n",
       "      <td id=\"T_734d5_row13_col7\" class=\"data row13 col7\" >0.121081</td>\n",
       "      <td id=\"T_734d5_row13_col8\" class=\"data row13 col8\" >0.190157</td>\n",
       "      <td id=\"T_734d5_row13_col9\" class=\"data row13 col9\" >0.042462</td>\n",
       "      <td id=\"T_734d5_row13_col10\" class=\"data row13 col10\" >0.000272</td>\n",
       "      <td id=\"T_734d5_row13_col11\" class=\"data row13 col11\" >0.027486</td>\n",
       "      <td id=\"T_734d5_row13_col12\" class=\"data row13 col12\" >0.004944</td>\n",
       "      <td id=\"T_734d5_row13_col13\" class=\"data row13 col13\" >0.000843</td>\n",
       "      <td id=\"T_734d5_row13_col14\" class=\"data row13 col14\" >0.117679</td>\n",
       "      <td id=\"T_734d5_row13_col15\" class=\"data row13 col15\" >0.073191</td>\n",
       "      <td id=\"T_734d5_row13_col16\" class=\"data row13 col16\" >0.000986</td>\n",
       "      <td id=\"T_734d5_row13_col17\" class=\"data row13 col17\" >0.001502</td>\n",
       "      <td id=\"T_734d5_row13_col18\" class=\"data row13 col18\" >0.000011</td>\n",
       "      <td id=\"T_734d5_row13_col19\" class=\"data row13 col19\" >0.009674</td>\n",
       "      <td id=\"T_734d5_row13_col20\" class=\"data row13 col20\" >0.026884</td>\n",
       "      <td id=\"T_734d5_row13_col21\" class=\"data row13 col21\" >0.000896</td>\n",
       "      <td id=\"T_734d5_row13_col22\" class=\"data row13 col22\" >0.001066</td>\n",
       "      <td id=\"T_734d5_row13_col23\" class=\"data row13 col23\" >0.001381</td>\n",
       "      <td id=\"T_734d5_row13_col24\" class=\"data row13 col24\" >0.064078</td>\n",
       "      <td id=\"T_734d5_row13_col25\" class=\"data row13 col25\" >0.000553</td>\n",
       "      <td id=\"T_734d5_row13_col26\" class=\"data row13 col26\" >0.000072</td>\n",
       "    </tr>\n",
       "    <tr>\n",
       "      <th id=\"T_734d5_level0_row14\" class=\"row_heading level0 row14\" >15</th>\n",
       "      <td id=\"T_734d5_row14_col0\" class=\"data row14 col0\" >0.000000</td>\n",
       "      <td id=\"T_734d5_row14_col1\" class=\"data row14 col1\" >0.007810</td>\n",
       "      <td id=\"T_734d5_row14_col2\" class=\"data row14 col2\" >0.016990</td>\n",
       "      <td id=\"T_734d5_row14_col3\" class=\"data row14 col3\" >0.000016</td>\n",
       "      <td id=\"T_734d5_row14_col4\" class=\"data row14 col4\" >0.002630</td>\n",
       "      <td id=\"T_734d5_row14_col5\" class=\"data row14 col5\" >0.038678</td>\n",
       "      <td id=\"T_734d5_row14_col6\" class=\"data row14 col6\" >0.099479</td>\n",
       "      <td id=\"T_734d5_row14_col7\" class=\"data row14 col7\" >0.016310</td>\n",
       "      <td id=\"T_734d5_row14_col8\" class=\"data row14 col8\" >0.038420</td>\n",
       "      <td id=\"T_734d5_row14_col9\" class=\"data row14 col9\" >0.008154</td>\n",
       "      <td id=\"T_734d5_row14_col10\" class=\"data row14 col10\" >0.001089</td>\n",
       "      <td id=\"T_734d5_row14_col11\" class=\"data row14 col11\" >0.007516</td>\n",
       "      <td id=\"T_734d5_row14_col12\" class=\"data row14 col12\" >0.006297</td>\n",
       "      <td id=\"T_734d5_row14_col13\" class=\"data row14 col13\" >0.000629</td>\n",
       "      <td id=\"T_734d5_row14_col14\" class=\"data row14 col14\" >0.663514</td>\n",
       "      <td id=\"T_734d5_row14_col15\" class=\"data row14 col15\" >0.017150</td>\n",
       "      <td id=\"T_734d5_row14_col16\" class=\"data row14 col16\" >0.003291</td>\n",
       "      <td id=\"T_734d5_row14_col17\" class=\"data row14 col17\" >0.002531</td>\n",
       "      <td id=\"T_734d5_row14_col18\" class=\"data row14 col18\" >0.000005</td>\n",
       "      <td id=\"T_734d5_row14_col19\" class=\"data row14 col19\" >0.007473</td>\n",
       "      <td id=\"T_734d5_row14_col20\" class=\"data row14 col20\" >0.011865</td>\n",
       "      <td id=\"T_734d5_row14_col21\" class=\"data row14 col21\" >0.000381</td>\n",
       "      <td id=\"T_734d5_row14_col22\" class=\"data row14 col22\" >0.021888</td>\n",
       "      <td id=\"T_734d5_row14_col23\" class=\"data row14 col23\" >0.007227</td>\n",
       "      <td id=\"T_734d5_row14_col24\" class=\"data row14 col24\" >0.019878</td>\n",
       "      <td id=\"T_734d5_row14_col25\" class=\"data row14 col25\" >0.000743</td>\n",
       "      <td id=\"T_734d5_row14_col26\" class=\"data row14 col26\" >0.000035</td>\n",
       "    </tr>\n",
       "    <tr>\n",
       "      <th id=\"T_734d5_level0_row15\" class=\"row_heading level0 row15\" >16</th>\n",
       "      <td id=\"T_734d5_row15_col0\" class=\"data row15 col0\" >0.000000</td>\n",
       "      <td id=\"T_734d5_row15_col1\" class=\"data row15 col1\" >0.002491</td>\n",
       "      <td id=\"T_734d5_row15_col2\" class=\"data row15 col2\" >0.006772</td>\n",
       "      <td id=\"T_734d5_row15_col3\" class=\"data row15 col3\" >0.000025</td>\n",
       "      <td id=\"T_734d5_row15_col4\" class=\"data row15 col4\" >0.003918</td>\n",
       "      <td id=\"T_734d5_row15_col5\" class=\"data row15 col5\" >0.228399</td>\n",
       "      <td id=\"T_734d5_row15_col6\" class=\"data row15 col6\" >0.209404</td>\n",
       "      <td id=\"T_734d5_row15_col7\" class=\"data row15 col7\" >0.008561</td>\n",
       "      <td id=\"T_734d5_row15_col8\" class=\"data row15 col8\" >0.037339</td>\n",
       "      <td id=\"T_734d5_row15_col9\" class=\"data row15 col9\" >0.003494</td>\n",
       "      <td id=\"T_734d5_row15_col10\" class=\"data row15 col10\" >0.000479</td>\n",
       "      <td id=\"T_734d5_row15_col11\" class=\"data row15 col11\" >0.005694</td>\n",
       "      <td id=\"T_734d5_row15_col12\" class=\"data row15 col12\" >0.015760</td>\n",
       "      <td id=\"T_734d5_row15_col13\" class=\"data row15 col13\" >0.000535</td>\n",
       "      <td id=\"T_734d5_row15_col14\" class=\"data row15 col14\" >0.421392</td>\n",
       "      <td id=\"T_734d5_row15_col15\" class=\"data row15 col15\" >0.005511</td>\n",
       "      <td id=\"T_734d5_row15_col16\" class=\"data row15 col16\" >0.002438</td>\n",
       "      <td id=\"T_734d5_row15_col17\" class=\"data row15 col17\" >0.001292</td>\n",
       "      <td id=\"T_734d5_row15_col18\" class=\"data row15 col18\" >0.000015</td>\n",
       "      <td id=\"T_734d5_row15_col19\" class=\"data row15 col19\" >0.008211</td>\n",
       "      <td id=\"T_734d5_row15_col20\" class=\"data row15 col20\" >0.006308</td>\n",
       "      <td id=\"T_734d5_row15_col21\" class=\"data row15 col21\" >0.000149</td>\n",
       "      <td id=\"T_734d5_row15_col22\" class=\"data row15 col22\" >0.005319</td>\n",
       "      <td id=\"T_734d5_row15_col23\" class=\"data row15 col23\" >0.007339</td>\n",
       "      <td id=\"T_734d5_row15_col24\" class=\"data row15 col24\" >0.018797</td>\n",
       "      <td id=\"T_734d5_row15_col25\" class=\"data row15 col25\" >0.000345</td>\n",
       "      <td id=\"T_734d5_row15_col26\" class=\"data row15 col26\" >0.000015</td>\n",
       "    </tr>\n",
       "  </tbody>\n",
       "</table>\n"
      ],
      "text/plain": [
       "<pandas.io.formats.style.Styler at 0x77b652b6bfb0>"
      ]
     },
     "execution_count": 13,
     "metadata": {},
     "output_type": "execute_result"
    }
   ],
   "source": [
    "pd.crosstab(all_data.map_label, all_data.class_2018, normalize='index').style.background_gradient(axis=1, cmap=\"BuGn\")"
   ]
  },
  {
   "cell_type": "code",
   "execution_count": null,
   "id": "61fb76d8-654d-484a-97cb-d5c1f640daef",
   "metadata": {},
   "outputs": [],
   "source": []
  },
  {
   "cell_type": "code",
   "execution_count": null,
   "id": "b93dc190-89c9-44bc-8c28-a36697d6afdb",
   "metadata": {},
   "outputs": [],
   "source": []
  },
  {
   "cell_type": "markdown",
   "id": "d37e033c-ddae-4ca3-a439-7cf2d7b7ff2a",
   "metadata": {},
   "source": [
    "## Corrine LandCover"
   ]
  },
  {
   "cell_type": "code",
   "execution_count": null,
   "id": "dd9b2371-2193-437f-a970-ebf94b51a556",
   "metadata": {},
   "outputs": [],
   "source": []
  }
 ],
 "metadata": {
  "kernelspec": {
   "display_name": "Python 3 (ipykernel)",
   "language": "python",
   "name": "python3"
  },
  "language_info": {
   "codemirror_mode": {
    "name": "ipython",
    "version": 3
   },
   "file_extension": ".py",
   "mimetype": "text/x-python",
   "name": "python",
   "nbconvert_exporter": "python",
   "pygments_lexer": "ipython3",
   "version": "3.12.5"
  }
 },
 "nbformat": 4,
 "nbformat_minor": 5
}
