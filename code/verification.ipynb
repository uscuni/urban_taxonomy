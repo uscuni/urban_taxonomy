{
 "cells": [
  {
   "cell_type": "code",
   "execution_count": 3,
   "id": "44e5bb9b-dfa4-40a6-9502-febbf28de868",
   "metadata": {},
   "outputs": [],
   "source": [
    "import pandas as pd\n",
    "import geopandas as gpd\n",
    "import os"
   ]
  },
  {
   "cell_type": "code",
   "execution_count": 4,
   "id": "2d0510a4-05ac-496a-b87b-6fd99a41b75b",
   "metadata": {},
   "outputs": [],
   "source": [
    "# set to a local or cloud directory\n",
    "data_product_dir = \"/data/uscuni-ulce/data_product\""
   ]
  },
  {
   "cell_type": "code",
   "execution_count": 5,
   "id": "1c1758b5-870a-4151-a229-33710fb5135a",
   "metadata": {},
   "outputs": [
    {
     "name": "stdout",
     "output_type": "stream",
     "text": [
      "at1.parquet  de2.parquet  de7.parquet  dec.parquet  lt0.parquet  pl7.parquet\n",
      "at2.parquet  de3.parquet  de8.parquet  ded.parquet  pl2.parquet  pl8.parquet\n",
      "at3.parquet  de4.parquet  de9.parquet  dee.parquet  pl4.parquet  pl9.parquet\n",
      "cz0.parquet  de5.parquet  dea.parquet  def.parquet  pl5.parquet  sk0.parquet\n",
      "de1.parquet  de6.parquet  deb.parquet  deg.parquet  pl6.parquet\n"
     ]
    }
   ],
   "source": [
    "!ls '/data/uscuni-ulce/data_product/buildings'"
   ]
  },
  {
   "cell_type": "code",
   "execution_count": 11,
   "id": "41941663-85df-499e-a406-ad20616cfd79",
   "metadata": {},
   "outputs": [],
   "source": [
    "def check_group(group):\n",
    "    result = {}\n",
    "    for col in attributes_to_check:\n",
    "        unique_vals = group[col].dropna().unique()\n",
    "        result[col] = unique_vals.tolist()\n",
    "    return pd.Series(result)"
   ]
  },
  {
   "cell_type": "code",
   "execution_count": null,
   "id": "4ac16eba-b137-4037-8f2a-fa0343252136",
   "metadata": {},
   "outputs": [],
   "source": [
    "for filename in os.listdir(\"/data/uscuni-ulce/data_product/buildings\"):\n",
    "    buildings = gpd.read_parquet(f\"{data_product_dir}/buildings/{filename}\")\n",
    "    morphotopes = gpd.read_parquet(f\"{data_product_dir}/morphotopes/{filename}\")\n",
    "\n",
    "    # Group by morphotope_id and collect unique values for each attribute\n",
    "    attributes_to_check = [\n",
    "        \"initially_noise\",\n",
    "        \"level_1_label\",\n",
    "        \"level_2_label\",\n",
    "        \"level_3_label\",\n",
    "        \"level_4_label\",\n",
    "        \"level_5_label\",\n",
    "        \"level_6_label\",\n",
    "        \"level_7_label\",\n",
    "    ]\n",
    "\n",
    "    grouped = buildings.groupby(\"morphotope_id\").apply(check_group).reset_index()\n",
    "\n",
    "    grouped[\"consistent\"] = grouped.apply(\n",
    "        lambda row: all(len(row[col]) == 1 for col in attributes_to_check), axis=1\n",
    "    )\n",
    "\n",
    "    inconsistent_building_groups = grouped[~grouped[\"consistent\"]]\n",
    "    print(inconsistent_building_groups)\n",
    "\n",
    "    # Collapse lists to scalar values for consistent groups\n",
    "    for col in attributes_to_check:\n",
    "        grouped[col] = grouped[col].apply(lambda v: v[0] if len(v) == 1 else None)\n",
    "\n",
    "    # Drop inconsistent ones before comparison\n",
    "    grouped_consistent = grouped[grouped[\"consistent\"]].drop(columns=[\"consistent\"])\n",
    "    morph_subset = morphotopes[[\"morphotope_id\"] + attributes_to_check]\n",
    "\n",
    "    # Merge on morphotope_id\n",
    "    merged = grouped_consistent.merge(\n",
    "        morph_subset, on=\"morphotope_id\", suffixes=(\"_buildings\", \"_morph\")\n",
    "    )\n",
    "\n",
    "    # Compare each attribute\n",
    "    diffs = []\n",
    "    for _, row in merged.iterrows():\n",
    "        for col in attributes_to_check:\n",
    "            if row[f\"{col}_buildings\"] != row[f\"{col}_morph\"]:\n",
    "                diffs.append(\n",
    "                    {\n",
    "                        \"morphotope_id\": row[\"morphotope_id\"],\n",
    "                        \"attribute\": col,\n",
    "                        \"building_value\": row[f\"{col}_buildings\"],\n",
    "                        \"morphotope_value\": row[f\"{col}_morph\"],\n",
    "                    }\n",
    "                )\n",
    "\n",
    "    diffs_df = pd.DataFrame(diffs)\n",
    "    print(diffs_df)"
   ]
  },
  {
   "cell_type": "code",
   "execution_count": 16,
   "id": "9bd017db-7ea2-42d9-9d43-634a576a6393",
   "metadata": {},
   "outputs": [],
   "source": [
    "def check_errors(filename):\n",
    "    buildings = gpd.read_parquet(f\"{data_product_dir}/buildings/{filename}\")\n",
    "    morphotopes = gpd.read_parquet(f\"{data_product_dir}/morphotopes/{filename}\")\n",
    "\n",
    "    # Group by morphotope_id and collect unique values for each attribute\n",
    "    attributes_to_check = [\n",
    "        \"initially_noise\",\n",
    "        \"level_1_label\",\n",
    "        \"level_2_label\",\n",
    "        \"level_3_label\",\n",
    "        \"level_4_label\",\n",
    "        \"level_5_label\",\n",
    "        \"level_6_label\",\n",
    "        \"level_7_label\",\n",
    "    ]\n",
    "\n",
    "    def check_group(group):\n",
    "        result = {}\n",
    "        for col in attributes_to_check:\n",
    "            unique_vals = group[col].dropna().unique()\n",
    "            result[col] = unique_vals.tolist()\n",
    "        return pd.Series(result)\n",
    "\n",
    "    grouped = buildings.groupby(\"morphotope_id\").apply(check_group).reset_index()\n",
    "\n",
    "    grouped[\"consistent\"] = grouped.apply(\n",
    "        lambda row: all(len(row[col]) == 1 for col in attributes_to_check), axis=1\n",
    "    )\n",
    "\n",
    "    inconsistent_building_groups = grouped[~grouped[\"consistent\"]]\n",
    "    # Collapse lists to scalar values for consistent groups\n",
    "    for col in attributes_to_check:\n",
    "        grouped[col] = grouped[col].apply(lambda v: v[0] if len(v) == 1 else None)\n",
    "\n",
    "    # Drop inconsistent ones before comparison\n",
    "    grouped_consistent = grouped[grouped[\"consistent\"]].drop(columns=[\"consistent\"])\n",
    "    morph_subset = morphotopes[[\"morphotope_id\"] + attributes_to_check]\n",
    "\n",
    "    # Merge on morphotope_id\n",
    "    merged = grouped_consistent.merge(\n",
    "        morph_subset, on=\"morphotope_id\", suffixes=(\"_buildings\", \"_morph\")\n",
    "    )\n",
    "\n",
    "    # Compare each attribute\n",
    "    diffs = []\n",
    "    for _, row in merged.iterrows():\n",
    "        for col in attributes_to_check:\n",
    "            if row[f\"{col}_buildings\"] != row[f\"{col}_morph\"]:\n",
    "                diffs.append(\n",
    "                    {\n",
    "                        \"morphotope_id\": row[\"morphotope_id\"],\n",
    "                        \"attribute\": col,\n",
    "                        \"building_value\": row[f\"{col}_buildings\"],\n",
    "                        \"morphotope_value\": row[f\"{col}_morph\"],\n",
    "                    }\n",
    "                )\n",
    "\n",
    "    diffs_df = pd.DataFrame(diffs)\n",
    "    print(filename)\n",
    "    print(diffs_df)"
   ]
  },
  {
   "cell_type": "code",
   "execution_count": 17,
   "id": "8b2c5dec-ce2d-4ace-b68b-92cb9b1b50bc",
   "metadata": {},
   "outputs": [
    {
     "name": "stderr",
     "output_type": "stream",
     "text": [
      "/tmp/ipykernel_266956/1764903699.py:25: DeprecationWarning: DataFrameGroupBy.apply operated on the grouping columns. This behavior is deprecated, and in a future version of pandas the grouping columns will be excluded from the operation. Either pass `include_groups=False` to exclude the groupings or explicitly select the grouping columns after groupby to silence this warning.\n",
      "  grouped = buildings.groupby(\"morphotope_id\").apply(check_group).reset_index()\n"
     ]
    },
    {
     "name": "stdout",
     "output_type": "stream",
     "text": [
      "deb.parquet\n",
      "    morphotope_id      attribute  building_value  morphotope_value\n",
      "0    10095_63_-92  level_2_label             2.0                 1\n",
      "1    10095_63_-92  level_3_label             4.0                 2\n",
      "2    10095_63_-92  level_4_label             6.0                 3\n",
      "3    10095_63_-92  level_5_label             9.0                 4\n",
      "4    10095_63_-92  level_6_label            18.0                 8\n",
      "5    10095_63_-92  level_7_label            36.0                14\n",
      "6   3109_840_-805  level_2_label             2.0                 1\n",
      "7   3109_840_-805  level_3_label             4.0                 2\n",
      "8   3109_840_-805  level_4_label             6.0                 3\n",
      "9   3109_840_-805  level_5_label             9.0                 4\n",
      "10  3109_840_-805  level_6_label            19.0                 8\n",
      "11  3109_840_-805  level_7_label            38.0                15\n",
      "12    3221_52_-99  level_2_label             2.0                 1\n",
      "13    3221_52_-99  level_3_label             5.0                 2\n",
      "14    3221_52_-99  level_4_label             8.0                 3\n",
      "15    3221_52_-99  level_5_label            13.0                 4\n",
      "16    3221_52_-99  level_6_label            26.0                 8\n",
      "17    3221_52_-99  level_7_label            53.0                15\n",
      "18  3612_217_-183  level_2_label             2.0                 1\n",
      "19  3612_217_-183  level_3_label             4.0                 2\n",
      "20  3612_217_-183  level_4_label             6.0                 3\n",
      "21  3612_217_-183  level_5_label             9.0                 4\n",
      "22  3612_217_-183  level_6_label            18.0                 8\n",
      "23  3612_217_-183  level_7_label            37.0                15\n"
     ]
    },
    {
     "name": "stderr",
     "output_type": "stream",
     "text": [
      "/tmp/ipykernel_266956/1764903699.py:25: DeprecationWarning: DataFrameGroupBy.apply operated on the grouping columns. This behavior is deprecated, and in a future version of pandas the grouping columns will be excluded from the operation. Either pass `include_groups=False` to exclude the groupings or explicitly select the grouping columns after groupby to silence this warning.\n",
      "  grouped = buildings.groupby(\"morphotope_id\").apply(check_group).reset_index()\n"
     ]
    },
    {
     "name": "stdout",
     "output_type": "stream",
     "text": [
      "ded.parquet\n",
      "    morphotope_id      attribute  building_value  morphotope_value\n",
      "0  53380_499_-696  level_4_label             5.0                 6\n",
      "1  53380_499_-696  level_5_label             8.0                 9\n",
      "2  53380_499_-696  level_6_label            17.0                18\n",
      "3  53380_499_-696  level_7_label            35.0                36\n",
      "4  68363_193_-205  level_6_label            18.0                19\n",
      "5  68363_193_-205  level_7_label            36.0                38\n"
     ]
    },
    {
     "name": "stderr",
     "output_type": "stream",
     "text": [
      "/tmp/ipykernel_266956/1764903699.py:25: DeprecationWarning: DataFrameGroupBy.apply operated on the grouping columns. This behavior is deprecated, and in a future version of pandas the grouping columns will be excluded from the operation. Either pass `include_groups=False` to exclude the groupings or explicitly select the grouping columns after groupby to silence this warning.\n",
      "  grouped = buildings.groupby(\"morphotope_id\").apply(check_group).reset_index()\n"
     ]
    },
    {
     "name": "stdout",
     "output_type": "stream",
     "text": [
      "pl8.parquet\n",
      "          morphotope_id      attribute  building_value  morphotope_value\n",
      "0   107131_10585_-11580  level_3_label               3                 4\n",
      "1   107131_10585_-11580  level_4_label               4                 5\n",
      "2   107131_10585_-11580  level_5_label               6                 8\n",
      "3   107131_10585_-11580  level_6_label              12                16\n",
      "4   107131_10585_-11580  level_7_label              23                33\n",
      "5   107131_11326_-12358  level_6_label              16                17\n",
      "6   107131_11326_-12358  level_7_label              33                35\n",
      "7   107131_13702_-15051  level_6_label              16                17\n",
      "8   107131_13702_-15051  level_7_label              33                35\n",
      "9       125667_827_-762  level_6_label              13                15\n",
      "10      125667_827_-762  level_7_label              28                31\n",
      "11    130658_1186_-1245  level_6_label              17                16\n",
      "12    130658_1186_-1245  level_7_label              35                33\n",
      "13    130658_3312_-3440  level_4_label               5                 6\n",
      "14    130658_3312_-3440  level_5_label               8                 9\n",
      "15    130658_3312_-3440  level_6_label              16                18\n",
      "16    130658_3312_-3440  level_7_label              33                36\n",
      "17    130658_3451_-3586  level_5_label               7                 6\n",
      "18    130658_3451_-3586  level_6_label              14                12\n",
      "19    130658_3451_-3586  level_7_label              30                23\n",
      "20      131824_633_-614  level_3_label               3                 4\n",
      "21      131824_633_-614  level_4_label               4                 5\n",
      "22      131824_633_-614  level_5_label               6                 8\n",
      "23      131824_633_-614  level_6_label              12                16\n",
      "24      131824_633_-614  level_7_label              24                33\n",
      "25      133948_470_-457  level_3_label               3                 4\n",
      "26      133948_470_-457  level_4_label               4                 5\n",
      "27      133948_470_-457  level_5_label               7                 8\n",
      "28      133948_470_-457  level_6_label              13                16\n",
      "29      133948_470_-457  level_7_label              28                33\n",
      "30     135687_1004_-999  level_5_label               7                 6\n",
      "31     135687_1004_-999  level_6_label              13                12\n",
      "32     135687_1004_-999  level_7_label              28                23\n",
      "33      136169_571_-501  level_5_label               7                 6\n",
      "34      136169_571_-501  level_6_label              13                12\n",
      "35      136169_571_-501  level_7_label              28                24\n",
      "36      137863_588_-566  level_3_label               4                 3\n",
      "37      137863_588_-566  level_4_label               5                 4\n",
      "38      137863_588_-566  level_5_label               8                 6\n",
      "39      137863_588_-566  level_6_label              16                12\n",
      "40      137863_588_-566  level_7_label              33                23\n",
      "41      137863_659_-636  level_6_label              16                17\n",
      "42      137863_659_-636  level_7_label              33                35\n"
     ]
    },
    {
     "name": "stderr",
     "output_type": "stream",
     "text": [
      "/tmp/ipykernel_266956/1764903699.py:25: DeprecationWarning: DataFrameGroupBy.apply operated on the grouping columns. This behavior is deprecated, and in a future version of pandas the grouping columns will be excluded from the operation. Either pass `include_groups=False` to exclude the groupings or explicitly select the grouping columns after groupby to silence this warning.\n",
      "  grouped = buildings.groupby(\"morphotope_id\").apply(check_group).reset_index()\n"
     ]
    },
    {
     "name": "stdout",
     "output_type": "stream",
     "text": [
      "de7.parquet\n",
      "     morphotope_id      attribute  building_value  morphotope_value\n",
      "0   19124_479_-440  level_2_label             2.0                 1\n",
      "1   19124_479_-440  level_3_label             4.0                 2\n",
      "2   19124_479_-440  level_4_label             5.0                 3\n",
      "3   19124_479_-440  level_5_label             8.0                 5\n",
      "4   19124_479_-440  level_6_label            16.0                 9\n",
      "5   19124_479_-440  level_7_label            33.0                16\n",
      "6    19386_67_-199  level_3_label             7.0                 8\n",
      "7    19386_67_-199  level_4_label            12.0                17\n",
      "8    19386_67_-199  level_5_label            19.0                24\n",
      "9    19386_67_-199  level_6_label            45.0                55\n",
      "10   19386_67_-199  level_7_label            82.0               102\n",
      "11  22912_317_-298  level_7_label            14.0                15\n",
      "12  8707_613_-2383  level_3_label             7.0                 8\n",
      "13  8707_613_-2383  level_4_label            12.0                17\n",
      "14  8707_613_-2383  level_5_label            18.0                25\n",
      "15  8707_613_-2383  level_6_label            40.0                56\n",
      "16  8707_613_-2383  level_7_label            74.0               106\n"
     ]
    },
    {
     "name": "stderr",
     "output_type": "stream",
     "text": [
      "/tmp/ipykernel_266956/1764903699.py:25: DeprecationWarning: DataFrameGroupBy.apply operated on the grouping columns. This behavior is deprecated, and in a future version of pandas the grouping columns will be excluded from the operation. Either pass `include_groups=False` to exclude the groupings or explicitly select the grouping columns after groupby to silence this warning.\n",
      "  grouped = buildings.groupby(\"morphotope_id\").apply(check_group).reset_index()\n"
     ]
    },
    {
     "name": "stdout",
     "output_type": "stream",
     "text": [
      "de3.parquet\n",
      "Empty DataFrame\n",
      "Columns: []\n",
      "Index: []\n"
     ]
    },
    {
     "name": "stderr",
     "output_type": "stream",
     "text": [
      "/tmp/ipykernel_266956/1764903699.py:25: DeprecationWarning: DataFrameGroupBy.apply operated on the grouping columns. This behavior is deprecated, and in a future version of pandas the grouping columns will be excluded from the operation. Either pass `include_groups=False` to exclude the groupings or explicitly select the grouping columns after groupby to silence this warning.\n",
      "  grouped = buildings.groupby(\"morphotope_id\").apply(check_group).reset_index()\n"
     ]
    },
    {
     "name": "stdout",
     "output_type": "stream",
     "text": [
      "pl2.parquet\n",
      "          morphotope_id      attribute  building_value  morphotope_value\n",
      "0   107131_15584_-17197  level_5_label               6                 7\n",
      "1   107131_15584_-17197  level_6_label              12                13\n",
      "2   107131_15584_-17197  level_7_label              23                26\n",
      "3     107131_5214_-5697  level_3_label               3                 4\n",
      "4     107131_5214_-5697  level_4_label               4                 5\n",
      "5     107131_5214_-5697  level_5_label               7                 8\n",
      "6     107131_5214_-5697  level_6_label              13                16\n",
      "7     107131_5214_-5697  level_7_label              28                33\n",
      "8       107131_629_-563  level_3_label               3                 4\n",
      "9       107131_629_-563  level_4_label               4                 5\n",
      "10      107131_629_-563  level_5_label               7                 8\n",
      "11      107131_629_-563  level_6_label              13                16\n",
      "12      107131_629_-563  level_7_label              28                33\n",
      "13    107131_826_-17960  level_3_label               4                 5\n",
      "14    107131_826_-17960  level_4_label               6                 8\n",
      "15    107131_826_-17960  level_5_label              10                12\n",
      "16    107131_826_-17960  level_6_label              21                23\n",
      "17    107131_826_-17960  level_7_label              43                47\n",
      "18      120057_467_-519  level_3_label               3                 4\n",
      "19      120057_467_-519  level_4_label               4                 5\n",
      "20      120057_467_-519  level_5_label               7                 8\n",
      "21      120057_467_-519  level_6_label              13                17\n",
      "22      120057_467_-519  level_7_label              26                34\n"
     ]
    },
    {
     "name": "stderr",
     "output_type": "stream",
     "text": [
      "/tmp/ipykernel_266956/1764903699.py:25: DeprecationWarning: DataFrameGroupBy.apply operated on the grouping columns. This behavior is deprecated, and in a future version of pandas the grouping columns will be excluded from the operation. Either pass `include_groups=False` to exclude the groupings or explicitly select the grouping columns after groupby to silence this warning.\n",
      "  grouped = buildings.groupby(\"morphotope_id\").apply(check_group).reset_index()\n"
     ]
    },
    {
     "name": "stdout",
     "output_type": "stream",
     "text": [
      "deg.parquet\n",
      "     morphotope_id      attribute  building_value  morphotope_value\n",
      "0   29344_516_-492  level_4_label             5.0                 6\n",
      "1   29344_516_-492  level_5_label             8.0                 9\n",
      "2   29344_516_-492  level_6_label            17.0                19\n",
      "3   29344_516_-492  level_7_label            35.0                39\n",
      "4   29787_321_-335  level_2_label             2.0                 1\n",
      "5   29787_321_-335  level_3_label             3.0                 2\n",
      "6   29787_321_-335  level_4_label             4.0                 3\n",
      "7   29787_321_-335  level_5_label             7.0                 4\n",
      "8   29787_321_-335  level_6_label            13.0                 8\n",
      "9   29787_321_-335  level_7_label            26.0                15\n",
      "10  39030_434_-456  level_7_label            26.0                28\n"
     ]
    },
    {
     "name": "stderr",
     "output_type": "stream",
     "text": [
      "/tmp/ipykernel_266956/1764903699.py:25: DeprecationWarning: DataFrameGroupBy.apply operated on the grouping columns. This behavior is deprecated, and in a future version of pandas the grouping columns will be excluded from the operation. Either pass `include_groups=False` to exclude the groupings or explicitly select the grouping columns after groupby to silence this warning.\n",
      "  grouped = buildings.groupby(\"morphotope_id\").apply(check_group).reset_index()\n"
     ]
    },
    {
     "name": "stdout",
     "output_type": "stream",
     "text": [
      "sk0.parquet\n",
      "     morphotope_id      attribute  building_value  morphotope_value\n",
      "0  120193_703_-640  level_2_label               2                 1\n",
      "1  120193_703_-640  level_3_label               4                 2\n",
      "2  120193_703_-640  level_4_label               6                 3\n",
      "3  120193_703_-640  level_5_label               9                 4\n",
      "4  120193_703_-640  level_6_label              19                 8\n",
      "5  120193_703_-640  level_7_label              38                15\n"
     ]
    },
    {
     "name": "stderr",
     "output_type": "stream",
     "text": [
      "/tmp/ipykernel_266956/1764903699.py:25: DeprecationWarning: DataFrameGroupBy.apply operated on the grouping columns. This behavior is deprecated, and in a future version of pandas the grouping columns will be excluded from the operation. Either pass `include_groups=False` to exclude the groupings or explicitly select the grouping columns after groupby to silence this warning.\n",
      "  grouped = buildings.groupby(\"morphotope_id\").apply(check_group).reset_index()\n"
     ]
    },
    {
     "name": "stdout",
     "output_type": "stream",
     "text": [
      "dee.parquet\n",
      "   morphotope_id      attribute  building_value  morphotope_value\n",
      "0     41002_0_-2  level_3_label               7                 8\n",
      "1     41002_0_-2  level_4_label              12                17\n",
      "2     41002_0_-2  level_5_label              19                25\n",
      "3     41002_0_-2  level_6_label              44                56\n",
      "4     41002_0_-2  level_7_label              81               107\n",
      "5   42366_45_-56  level_2_label               2                 1\n",
      "6   42366_45_-56  level_3_label               3                 2\n",
      "7   42366_45_-56  level_4_label               4                 3\n",
      "8   42366_45_-56  level_5_label               6                 5\n",
      "9   42366_45_-56  level_6_label              12                 9\n",
      "10  42366_45_-56  level_7_label              24                16\n",
      "11  42418_19_-19  level_4_label               6                 5\n",
      "12  42418_19_-19  level_5_label               9                 8\n",
      "13  42418_19_-19  level_6_label              18                17\n",
      "14  42418_19_-19  level_7_label              37                35\n"
     ]
    },
    {
     "name": "stderr",
     "output_type": "stream",
     "text": [
      "/tmp/ipykernel_266956/1764903699.py:25: DeprecationWarning: DataFrameGroupBy.apply operated on the grouping columns. This behavior is deprecated, and in a future version of pandas the grouping columns will be excluded from the operation. Either pass `include_groups=False` to exclude the groupings or explicitly select the grouping columns after groupby to silence this warning.\n",
      "  grouped = buildings.groupby(\"morphotope_id\").apply(check_group).reset_index()\n"
     ]
    },
    {
     "name": "stdout",
     "output_type": "stream",
     "text": [
      "def.parquet\n",
      "    morphotope_id      attribute  building_value  morphotope_value\n",
      "0  15613_447_-443  level_6_label            12.0                11\n",
      "1  15613_447_-443  level_7_label            23.0                22\n",
      "2    24735_10_-61  level_1_label             1.0                 2\n",
      "3    24735_10_-61  level_2_label             2.0                 4\n",
      "4    24735_10_-61  level_3_label             5.0                 8\n",
      "5    24735_10_-61  level_4_label             8.0                17\n",
      "6    24735_10_-61  level_5_label            13.0                24\n",
      "7    24735_10_-61  level_6_label            26.0                55\n",
      "8    24735_10_-61  level_7_label            52.0               101\n"
     ]
    },
    {
     "name": "stderr",
     "output_type": "stream",
     "text": [
      "/tmp/ipykernel_266956/1764903699.py:25: DeprecationWarning: DataFrameGroupBy.apply operated on the grouping columns. This behavior is deprecated, and in a future version of pandas the grouping columns will be excluded from the operation. Either pass `include_groups=False` to exclude the groupings or explicitly select the grouping columns after groupby to silence this warning.\n",
      "  grouped = buildings.groupby(\"morphotope_id\").apply(check_group).reset_index()\n"
     ]
    },
    {
     "name": "stdout",
     "output_type": "stream",
     "text": [
      "pl5.parquet\n",
      "       morphotope_id      attribute  building_value  morphotope_value\n",
      "0     86863_193_-224  level_2_label               2                 1\n",
      "1     86863_193_-224  level_3_label               4                 2\n",
      "2     86863_193_-224  level_4_label               6                 3\n",
      "3     86863_193_-224  level_5_label               9                 4\n",
      "4     86863_193_-224  level_6_label              18                 8\n",
      "5     86863_193_-224  level_7_label              36                15\n",
      "6     86863_878_-832  level_2_label               1                 2\n",
      "7     86863_878_-832  level_3_label               2                 4\n",
      "8     86863_878_-832  level_4_label               3                 5\n",
      "9     86863_878_-832  level_5_label               5                 8\n",
      "10    86863_878_-832  level_6_label               9                17\n",
      "11    86863_878_-832  level_7_label              16                35\n",
      "12    89586_612_-639  level_4_label               6                 5\n",
      "13    89586_612_-639  level_5_label               9                 8\n",
      "14    89586_612_-639  level_6_label              18                17\n",
      "15    89586_612_-639  level_7_label              36                35\n",
      "16  89971_1046_-1231  level_2_label               1                 2\n",
      "17  89971_1046_-1231  level_3_label               1                 3\n",
      "18  89971_1046_-1231  level_4_label               1                 4\n",
      "19  89971_1046_-1231  level_5_label               2                 7\n",
      "20  89971_1046_-1231  level_6_label               3                13\n",
      "21  89971_1046_-1231  level_7_label               4                28\n",
      "22    93793_413_-765  level_7_label              27                28\n"
     ]
    },
    {
     "name": "stderr",
     "output_type": "stream",
     "text": [
      "/tmp/ipykernel_266956/1764903699.py:25: DeprecationWarning: DataFrameGroupBy.apply operated on the grouping columns. This behavior is deprecated, and in a future version of pandas the grouping columns will be excluded from the operation. Either pass `include_groups=False` to exclude the groupings or explicitly select the grouping columns after groupby to silence this warning.\n",
      "  grouped = buildings.groupby(\"morphotope_id\").apply(check_group).reset_index()\n"
     ]
    },
    {
     "name": "stdout",
     "output_type": "stream",
     "text": [
      "pl6.parquet\n",
      "        morphotope_id      attribute  building_value  morphotope_value\n",
      "0   100342_2910_-2850  level_6_label              16                17\n",
      "1   100342_2910_-2850  level_7_label              33                34\n",
      "2   102262_6909_-6742  level_6_label              10                12\n",
      "3   102262_6909_-6742  level_7_label              21                23\n",
      "4   102262_8481_-8332  level_5_label               6                 7\n",
      "5   102262_8481_-8332  level_6_label              12                13\n",
      "6   102262_8481_-8332  level_7_label              24                28\n",
      "7   105385_7003_-6935  level_6_label              11                10\n",
      "8   105385_7003_-6935  level_7_label              22                21\n",
      "9   116866_1780_-9218  level_5_label               7                 6\n",
      "10  116866_1780_-9218  level_6_label              13                12\n",
      "11  116866_1780_-9218  level_7_label              26                24\n",
      "12  116866_7558_-7475  level_3_label               3                 4\n",
      "13  116866_7558_-7475  level_4_label               4                 5\n",
      "14  116866_7558_-7475  level_5_label               6                 8\n",
      "15  116866_7558_-7475  level_6_label              12                16\n",
      "16  116866_7558_-7475  level_7_label              25                33\n",
      "17    116866_829_-782  level_3_label               3                 4\n",
      "18    116866_829_-782  level_4_label               4                 5\n",
      "19    116866_829_-782  level_5_label               7                 8\n",
      "20    116866_829_-782  level_6_label              13                16\n",
      "21    116866_829_-782  level_7_label              27                33\n"
     ]
    },
    {
     "name": "stderr",
     "output_type": "stream",
     "text": [
      "/tmp/ipykernel_266956/1764903699.py:25: DeprecationWarning: DataFrameGroupBy.apply operated on the grouping columns. This behavior is deprecated, and in a future version of pandas the grouping columns will be excluded from the operation. Either pass `include_groups=False` to exclude the groupings or explicitly select the grouping columns after groupby to silence this warning.\n",
      "  grouped = buildings.groupby(\"morphotope_id\").apply(check_group).reset_index()\n"
     ]
    },
    {
     "name": "stdout",
     "output_type": "stream",
     "text": [
      "de1.parquet\n",
      "      morphotope_id      attribute  building_value  morphotope_value\n",
      "0      10579_6_-742  level_1_label             2.0                 1\n",
      "1      10579_6_-742  level_2_label             4.0                 2\n",
      "2      10579_6_-742  level_3_label             8.0                 5\n",
      "3      10579_6_-742  level_4_label            17.0                 8\n",
      "4      10579_6_-742  level_5_label            24.0                13\n",
      "5      10579_6_-742  level_6_label            55.0                29\n",
      "6      10579_6_-742  level_7_label           102.0                59\n",
      "7    11667_123_-147  level_2_label             1.0                 2\n",
      "8    11667_123_-147  level_3_label             1.0                 4\n",
      "9    11667_123_-147  level_4_label             1.0                 6\n",
      "10   11667_123_-147  level_5_label             1.0                 9\n",
      "11   11667_123_-147  level_6_label             1.0                18\n",
      "12   11667_123_-147  level_7_label             1.0                36\n",
      "13     13897_5_-262  level_3_label             8.0                 7\n",
      "14     13897_5_-262  level_4_label            17.0                12\n",
      "15     13897_5_-262  level_5_label            25.0                18\n",
      "16     13897_5_-262  level_6_label            56.0                40\n",
      "17     13897_5_-262  level_7_label           106.0                75\n",
      "18  14679_136_-1943  level_7_label            74.0                75\n",
      "19    14679_2_-1002  level_1_label             2.0                 1\n",
      "20    14679_2_-1002  level_2_label             4.0                 1\n",
      "21    14679_2_-1002  level_3_label             7.0                 1\n",
      "22    14679_2_-1002  level_4_label            12.0                 1\n",
      "23    14679_2_-1002  level_5_label            19.0                 2\n",
      "24    14679_2_-1002  level_6_label            45.0                 4\n",
      "25    14679_2_-1002  level_7_label            82.0                 5\n",
      "26    14679_2_-2116  level_7_label           107.0               106\n",
      "27   16685_592_-693  level_2_label             2.0                 1\n",
      "28   16685_592_-693  level_3_label             4.0                 2\n",
      "29   16685_592_-693  level_4_label             6.0                 3\n",
      "30   16685_592_-693  level_5_label             9.0                 4\n",
      "31   16685_592_-693  level_6_label            18.0                 8\n",
      "32   16685_592_-693  level_7_label            36.0                14\n",
      "33    7528_797_-813  level_4_label             6.0                 5\n",
      "34    7528_797_-813  level_5_label             9.0                 8\n",
      "35    7528_797_-813  level_6_label            18.0                17\n",
      "36    7528_797_-813  level_7_label            36.0                35\n",
      "37  7712_1372_-1394  level_3_label             3.0                 4\n",
      "38  7712_1372_-1394  level_4_label             4.0                 5\n",
      "39  7712_1372_-1394  level_5_label             6.0                 8\n",
      "40  7712_1372_-1394  level_6_label            12.0                16\n",
      "41  7712_1372_-1394  level_7_label            24.0                33\n"
     ]
    },
    {
     "name": "stderr",
     "output_type": "stream",
     "text": [
      "/tmp/ipykernel_266956/1764903699.py:25: DeprecationWarning: DataFrameGroupBy.apply operated on the grouping columns. This behavior is deprecated, and in a future version of pandas the grouping columns will be excluded from the operation. Either pass `include_groups=False` to exclude the groupings or explicitly select the grouping columns after groupby to silence this warning.\n",
      "  grouped = buildings.groupby(\"morphotope_id\").apply(check_group).reset_index()\n"
     ]
    },
    {
     "name": "stdout",
     "output_type": "stream",
     "text": [
      "de4.parquet\n",
      "       morphotope_id      attribute  building_value  morphotope_value\n",
      "0   55763_1353_-1641  level_1_label             2.0                 1\n",
      "1   55763_1353_-1641  level_2_label             4.0                 2\n",
      "2   55763_1353_-1641  level_3_label             8.0                 4\n",
      "3   55763_1353_-1641  level_4_label            16.0                 6\n",
      "4   55763_1353_-1641  level_5_label            23.0                 9\n",
      "5   55763_1353_-1641  level_6_label            54.0                19\n",
      "6   55763_1353_-1641  level_7_label           100.0                38\n",
      "7     60009_135_-164  level_5_label             7.0                 6\n",
      "8     60009_135_-164  level_6_label            13.0                12\n",
      "9     60009_135_-164  level_7_label            26.0                25\n",
      "10    62393_117_-109  level_1_label             2.0                 1\n",
      "11    62393_117_-109  level_2_label             4.0                 2\n",
      "12    62393_117_-109  level_3_label             8.0                 3\n",
      "13    62393_117_-109  level_4_label            17.0                 4\n",
      "14    62393_117_-109  level_5_label            25.0                 7\n",
      "15    62393_117_-109  level_6_label            56.0                13\n",
      "16    62393_117_-109  level_7_label           105.0                27\n",
      "17      62393_4_-258  level_1_label             2.0                 1\n",
      "18      62393_4_-258  level_2_label             4.0                 2\n",
      "19      62393_4_-258  level_3_label             7.0                 5\n",
      "20      62393_4_-258  level_4_label            12.0                 8\n",
      "21      62393_4_-258  level_5_label            19.0                13\n",
      "22      62393_4_-258  level_6_label            45.0                26\n",
      "23      62393_4_-258  level_7_label            82.0                52\n"
     ]
    },
    {
     "name": "stderr",
     "output_type": "stream",
     "text": [
      "/tmp/ipykernel_266956/1764903699.py:25: DeprecationWarning: DataFrameGroupBy.apply operated on the grouping columns. This behavior is deprecated, and in a future version of pandas the grouping columns will be excluded from the operation. Either pass `include_groups=False` to exclude the groupings or explicitly select the grouping columns after groupby to silence this warning.\n",
      "  grouped = buildings.groupby(\"morphotope_id\").apply(check_group).reset_index()\n"
     ]
    },
    {
     "name": "stdout",
     "output_type": "stream",
     "text": [
      "pl9.parquet\n",
      "          morphotope_id      attribute  building_value  morphotope_value\n",
      "0     111911_1089_-1077  level_6_label              12                10\n",
      "1     111911_1089_-1077  level_7_label              23                21\n",
      "2     113068_2781_-3053  level_3_label               4                 3\n",
      "3     113068_2781_-3053  level_4_label               5                 4\n",
      "4     113068_2781_-3053  level_5_label               8                 6\n",
      "5     113068_2781_-3053  level_6_label              16                12\n",
      "6     113068_2781_-3053  level_7_label              33                23\n",
      "7     113068_3038_-2928  level_6_label              12                10\n",
      "8     113068_3038_-2928  level_7_label              23                21\n",
      "9   114311_10866_-11577  level_2_label               2                 1\n",
      "10  114311_10866_-11577  level_3_label               4                 1\n",
      "11  114311_10866_-11577  level_4_label               6                 1\n",
      "12  114311_10866_-11577  level_5_label               9                 1\n",
      "13  114311_10866_-11577  level_6_label              18                 1\n",
      "14  114311_10866_-11577  level_7_label              36                 1\n",
      "15    114311_2095_-7908  level_6_label              23                24\n",
      "16    114311_2095_-7908  level_7_label              47                48\n",
      "17    114311_2717_-2991  level_6_label              16                17\n",
      "18    114311_2717_-2991  level_7_label              33                35\n",
      "19    114311_7067_-7355  level_6_label              10                12\n",
      "20    114311_7067_-7355  level_7_label              21                23\n",
      "21   114311_9800_-10401  level_3_label               3                 4\n",
      "22   114311_9800_-10401  level_4_label               4                 5\n",
      "23   114311_9800_-10401  level_5_label               7                 8\n",
      "24   114311_9800_-10401  level_6_label              14                16\n",
      "25   114311_9800_-10401  level_7_label              30                33\n",
      "26     117638_1004_-966  level_6_label              17                16\n",
      "27     117638_1004_-966  level_7_label              35                33\n",
      "28      117638_674_-622  level_2_label               2                 1\n",
      "29      117638_674_-622  level_3_label               3                 2\n",
      "30      117638_674_-622  level_4_label               4                 3\n",
      "31      117638_674_-622  level_5_label               6                 5\n",
      "32      117638_674_-622  level_6_label              12                 9\n",
      "33      117638_674_-622  level_7_label              24                17\n",
      "34    121143_1075_-1035  level_5_label               6                 7\n",
      "35    121143_1075_-1035  level_6_label              12                14\n",
      "36    121143_1075_-1035  level_7_label              24                30\n"
     ]
    },
    {
     "name": "stderr",
     "output_type": "stream",
     "text": [
      "/tmp/ipykernel_266956/1764903699.py:25: DeprecationWarning: DataFrameGroupBy.apply operated on the grouping columns. This behavior is deprecated, and in a future version of pandas the grouping columns will be excluded from the operation. Either pass `include_groups=False` to exclude the groupings or explicitly select the grouping columns after groupby to silence this warning.\n",
      "  grouped = buildings.groupby(\"morphotope_id\").apply(check_group).reset_index()\n"
     ]
    },
    {
     "name": "stdout",
     "output_type": "stream",
     "text": [
      "de2.parquet\n",
      "       morphotope_id      attribute  building_value  morphotope_value\n",
      "0     18557_609_-632  level_3_label             4.0                 3\n",
      "1     18557_609_-632  level_4_label             5.0                 4\n",
      "2     18557_609_-632  level_5_label             8.0                 7\n",
      "3     18557_609_-632  level_6_label            17.0                13\n",
      "4     18557_609_-632  level_7_label            34.0                28\n",
      "..               ...            ...             ...               ...\n",
      "89  51289_8849_-8827  level_6_label             1.0                13\n",
      "90  51289_8849_-8827  level_7_label             1.0                26\n",
      "91    53410_474_-440  level_5_label             6.0                 7\n",
      "92    53410_474_-440  level_6_label            12.0                13\n",
      "93    53410_474_-440  level_7_label            24.0                27\n",
      "\n",
      "[94 rows x 4 columns]\n"
     ]
    },
    {
     "name": "stderr",
     "output_type": "stream",
     "text": [
      "/tmp/ipykernel_266956/1764903699.py:25: DeprecationWarning: DataFrameGroupBy.apply operated on the grouping columns. This behavior is deprecated, and in a future version of pandas the grouping columns will be excluded from the operation. Either pass `include_groups=False` to exclude the groupings or explicitly select the grouping columns after groupby to silence this warning.\n",
      "  grouped = buildings.groupby(\"morphotope_id\").apply(check_group).reset_index()\n"
     ]
    },
    {
     "name": "stdout",
     "output_type": "stream",
     "text": [
      "de5.parquet\n",
      "Empty DataFrame\n",
      "Columns: []\n",
      "Index: []\n"
     ]
    },
    {
     "name": "stderr",
     "output_type": "stream",
     "text": [
      "/tmp/ipykernel_266956/1764903699.py:25: DeprecationWarning: DataFrameGroupBy.apply operated on the grouping columns. This behavior is deprecated, and in a future version of pandas the grouping columns will be excluded from the operation. Either pass `include_groups=False` to exclude the groupings or explicitly select the grouping columns after groupby to silence this warning.\n",
      "  grouped = buildings.groupby(\"morphotope_id\").apply(check_group).reset_index()\n"
     ]
    },
    {
     "name": "stdout",
     "output_type": "stream",
     "text": [
      "dea.parquet\n",
      "      morphotope_id      attribute  building_value  morphotope_value\n",
      "0    10510_398_-381  level_1_label             1.0                 2\n",
      "1    10510_398_-381  level_2_label             1.0                 4\n",
      "2    10510_398_-381  level_3_label             2.0                 7\n",
      "3    10510_398_-381  level_4_label             3.0                12\n",
      "4    10510_398_-381  level_5_label             4.0                18\n",
      "..              ...            ...             ...               ...\n",
      "101   8238_130_-123  level_6_label            13.0                17\n",
      "102   8238_130_-123  level_7_label            27.0                35\n",
      "103   8759_450_-484  level_5_label             5.0                 4\n",
      "104   8759_450_-484  level_6_label             9.0                 8\n",
      "105   8759_450_-484  level_7_label            16.0                15\n",
      "\n",
      "[106 rows x 4 columns]\n"
     ]
    },
    {
     "name": "stderr",
     "output_type": "stream",
     "text": [
      "/tmp/ipykernel_266956/1764903699.py:25: DeprecationWarning: DataFrameGroupBy.apply operated on the grouping columns. This behavior is deprecated, and in a future version of pandas the grouping columns will be excluded from the operation. Either pass `include_groups=False` to exclude the groupings or explicitly select the grouping columns after groupby to silence this warning.\n",
      "  grouped = buildings.groupby(\"morphotope_id\").apply(check_group).reset_index()\n"
     ]
    },
    {
     "name": "stdout",
     "output_type": "stream",
     "text": [
      "lt0.parquet\n",
      "        morphotope_id      attribute  building_value  morphotope_value\n",
      "0     139621_188_-177  level_6_label              16                17\n",
      "1     139621_188_-177  level_7_label              33                35\n",
      "2     139764_797_-805  level_4_label               6                 5\n",
      "3     139764_797_-805  level_5_label               9                 8\n",
      "4     139764_797_-805  level_6_label              18                16\n",
      "5     139764_797_-805  level_7_label              37                33\n",
      "6   142100_4535_-4505  level_6_label              17                16\n",
      "7   142100_4535_-4505  level_7_label              35                33\n",
      "8     143701_127_-106  level_3_label               3                 4\n",
      "9     143701_127_-106  level_4_label               4                 5\n",
      "10    143701_127_-106  level_5_label               7                 8\n",
      "11    143701_127_-106  level_6_label              15                16\n",
      "12    143701_127_-106  level_7_label              32                33\n",
      "13  143701_2592_-2509  level_3_label               4                 3\n",
      "14  143701_2592_-2509  level_4_label               5                 4\n",
      "15  143701_2592_-2509  level_5_label               8                 6\n",
      "16  143701_2592_-2509  level_6_label              16                12\n",
      "17  143701_2592_-2509  level_7_label              33                25\n",
      "18  146285_2161_-2161  level_6_label              10                12\n",
      "19  146285_2161_-2161  level_7_label              21                25\n",
      "20  147634_2340_-2251  level_7_label              23                25\n",
      "21  149997_1165_-1131  level_6_label              10                12\n",
      "22  149997_1165_-1131  level_7_label              21                23\n",
      "23  149997_1899_-1873  level_5_label               6                 7\n",
      "24  149997_1899_-1873  level_6_label              12                13\n",
      "25  149997_1899_-1873  level_7_label              25                26\n",
      "26    149997_465_-432  level_6_label              12                10\n",
      "27    149997_465_-432  level_7_label              23                21\n",
      "28    149997_600_-566  level_3_label               3                 4\n",
      "29    149997_600_-566  level_4_label               4                 5\n",
      "30    149997_600_-566  level_5_label               6                 8\n",
      "31    149997_600_-566  level_6_label              12                16\n",
      "32    149997_600_-566  level_7_label              23                33\n",
      "33    149997_617_-583  level_6_label              12                10\n",
      "34    149997_617_-583  level_7_label              23                21\n",
      "35    150044_766_-722  level_6_label              10                12\n",
      "36    150044_766_-722  level_7_label              21                23\n",
      "37  151676_5052_-5108  level_3_label               3                 4\n",
      "38  151676_5052_-5108  level_4_label               4                 5\n",
      "39  151676_5052_-5108  level_5_label               7                 8\n",
      "40  151676_5052_-5108  level_6_label              14                16\n",
      "41  151676_5052_-5108  level_7_label              30                33\n"
     ]
    },
    {
     "name": "stderr",
     "output_type": "stream",
     "text": [
      "/tmp/ipykernel_266956/1764903699.py:25: DeprecationWarning: DataFrameGroupBy.apply operated on the grouping columns. This behavior is deprecated, and in a future version of pandas the grouping columns will be excluded from the operation. Either pass `include_groups=False` to exclude the groupings or explicitly select the grouping columns after groupby to silence this warning.\n",
      "  grouped = buildings.groupby(\"morphotope_id\").apply(check_group).reset_index()\n"
     ]
    },
    {
     "name": "stdout",
     "output_type": "stream",
     "text": [
      "pl7.parquet\n",
      "        morphotope_id      attribute  building_value  morphotope_value\n",
      "0     108263_648_-622  level_5_label               6                 7\n",
      "1     108263_648_-622  level_6_label              12                13\n",
      "2     108263_648_-622  level_7_label              25                26\n",
      "3     119562_117_-190  level_3_label               3                 4\n",
      "4     119562_117_-190  level_4_label               4                 5\n",
      "5     119562_117_-190  level_5_label               7                 8\n",
      "6     119562_117_-190  level_6_label              13                16\n",
      "7     119562_117_-190  level_7_label              26                33\n",
      "8   123228_1509_-1519  level_5_label               7                 6\n",
      "9   123228_1509_-1519  level_6_label              13                12\n",
      "10  123228_1509_-1519  level_7_label              28                24\n"
     ]
    },
    {
     "name": "stderr",
     "output_type": "stream",
     "text": [
      "/tmp/ipykernel_266956/1764903699.py:25: DeprecationWarning: DataFrameGroupBy.apply operated on the grouping columns. This behavior is deprecated, and in a future version of pandas the grouping columns will be excluded from the operation. Either pass `include_groups=False` to exclude the groupings or explicitly select the grouping columns after groupby to silence this warning.\n",
      "  grouped = buildings.groupby(\"morphotope_id\").apply(check_group).reset_index()\n"
     ]
    },
    {
     "name": "stdout",
     "output_type": "stream",
     "text": [
      "at2.parquet\n",
      "       morphotope_id      attribute  building_value  morphotope_value\n",
      "0     56184_947_-942  level_3_label               3                 4\n",
      "1     56184_947_-942  level_4_label               4                 5\n",
      "2     56184_947_-942  level_5_label               6                 8\n",
      "3     56184_947_-942  level_6_label              10                17\n",
      "4     56184_947_-942  level_7_label              20                34\n",
      "5     71506_399_-392  level_4_label               6                 5\n",
      "6     71506_399_-392  level_5_label               9                 8\n",
      "7     71506_399_-392  level_6_label              18                17\n",
      "8     71506_399_-392  level_7_label              36                35\n",
      "9     71506_590_-588  level_7_label              35                34\n",
      "10  80404_2956_-2927  level_3_label               4                 3\n",
      "11  80404_2956_-2927  level_4_label               5                 4\n",
      "12  80404_2956_-2927  level_5_label               8                 6\n",
      "13  80404_2956_-2927  level_6_label              16                12\n",
      "14  80404_2956_-2927  level_7_label              33                25\n",
      "15  80404_5909_-5751  level_3_label               3                 4\n",
      "16  80404_5909_-5751  level_4_label               4                 5\n",
      "17  80404_5909_-5751  level_5_label               6                 8\n",
      "18  80404_5909_-5751  level_6_label              10                16\n",
      "19  80404_5909_-5751  level_7_label              21                33\n"
     ]
    },
    {
     "name": "stderr",
     "output_type": "stream",
     "text": [
      "/tmp/ipykernel_266956/1764903699.py:25: DeprecationWarning: DataFrameGroupBy.apply operated on the grouping columns. This behavior is deprecated, and in a future version of pandas the grouping columns will be excluded from the operation. Either pass `include_groups=False` to exclude the groupings or explicitly select the grouping columns after groupby to silence this warning.\n",
      "  grouped = buildings.groupby(\"morphotope_id\").apply(check_group).reset_index()\n"
     ]
    },
    {
     "name": "stdout",
     "output_type": "stream",
     "text": [
      "at1.parquet\n",
      "      morphotope_id      attribute  building_value  morphotope_value\n",
      "0    62954_378_-346  level_2_label             1.0                 2\n",
      "1    62954_378_-346  level_3_label             1.0                 4\n",
      "2    62954_378_-346  level_4_label             1.0                 5\n",
      "3    62954_378_-346  level_5_label             1.0                 8\n",
      "4    62954_378_-346  level_6_label             1.0                16\n",
      "5    62954_378_-346  level_7_label             1.0                33\n",
      "6  85156_1713_-1702  level_4_label             5.0                 6\n",
      "7  85156_1713_-1702  level_5_label             8.0                 9\n",
      "8  85156_1713_-1702  level_6_label            16.0                18\n",
      "9  85156_1713_-1702  level_7_label            33.0                37\n"
     ]
    },
    {
     "name": "stderr",
     "output_type": "stream",
     "text": [
      "/tmp/ipykernel_266956/1764903699.py:25: DeprecationWarning: DataFrameGroupBy.apply operated on the grouping columns. This behavior is deprecated, and in a future version of pandas the grouping columns will be excluded from the operation. Either pass `include_groups=False` to exclude the groupings or explicitly select the grouping columns after groupby to silence this warning.\n",
      "  grouped = buildings.groupby(\"morphotope_id\").apply(check_group).reset_index()\n"
     ]
    },
    {
     "name": "stdout",
     "output_type": "stream",
     "text": [
      "cz0.parquet\n",
      "       morphotope_id      attribute  building_value  morphotope_value\n",
      "0     50966_424_-452  level_3_label             3.0                 4\n",
      "1     50966_424_-452  level_4_label             4.0                 5\n",
      "2     50966_424_-452  level_5_label             7.0                 8\n",
      "3     50966_424_-452  level_6_label            13.0                17\n",
      "4     50966_424_-452  level_7_label            28.0                35\n",
      "5   61183_1641_-1606  level_7_label            36.0                37\n",
      "6    67279_289_-1299  level_1_label             2.0                 1\n",
      "7    67279_289_-1299  level_2_label             4.0                 1\n",
      "8    67279_289_-1299  level_3_label             8.0                 2\n",
      "9    67279_289_-1299  level_4_label            17.0                 3\n",
      "10   67279_289_-1299  level_5_label            24.0                 4\n",
      "11   67279_289_-1299  level_6_label            55.0                 8\n",
      "12   67279_289_-1299  level_7_label           103.0                15\n",
      "13  75472_1485_-1574  level_6_label            18.0                19\n",
      "14  75472_1485_-1574  level_7_label            36.0                38\n",
      "15  75472_1655_-1764  level_3_label             4.0                 3\n",
      "16  75472_1655_-1764  level_4_label             5.0                 4\n",
      "17  75472_1655_-1764  level_5_label             8.0                 6\n",
      "18  75472_1655_-1764  level_6_label            16.0                12\n",
      "19  75472_1655_-1764  level_7_label            33.0                25\n",
      "20    78792_705_-662  level_4_label             6.0                 5\n",
      "21    78792_705_-662  level_5_label             9.0                 8\n",
      "22    78792_705_-662  level_6_label            18.0                17\n",
      "23    78792_705_-662  level_7_label            36.0                35\n",
      "24    84420_101_-114  level_2_label             1.0                 2\n",
      "25    84420_101_-114  level_3_label             1.0                 4\n",
      "26    84420_101_-114  level_4_label             1.0                 5\n",
      "27    84420_101_-114  level_5_label             1.0                 8\n",
      "28    84420_101_-114  level_6_label             1.0                17\n",
      "29    84420_101_-114  level_7_label             1.0                35\n",
      "30    85104_366_-361  level_4_label             5.0                 6\n",
      "31    85104_366_-361  level_5_label             8.0                 9\n",
      "32    85104_366_-361  level_6_label            17.0                19\n",
      "33    85104_366_-361  level_7_label            35.0                38\n"
     ]
    },
    {
     "name": "stderr",
     "output_type": "stream",
     "text": [
      "/tmp/ipykernel_266956/1764903699.py:25: DeprecationWarning: DataFrameGroupBy.apply operated on the grouping columns. This behavior is deprecated, and in a future version of pandas the grouping columns will be excluded from the operation. Either pass `include_groups=False` to exclude the groupings or explicitly select the grouping columns after groupby to silence this warning.\n",
      "  grouped = buildings.groupby(\"morphotope_id\").apply(check_group).reset_index()\n"
     ]
    },
    {
     "name": "stdout",
     "output_type": "stream",
     "text": [
      "pl4.parquet\n",
      "       morphotope_id      attribute  building_value  morphotope_value\n",
      "0     100342_14_-203  level_5_label              26                25\n",
      "1     100342_14_-203  level_6_label              57                56\n",
      "2     100342_14_-203  level_7_label             109               105\n",
      "3    102031_336_-315  level_5_label               7                 6\n",
      "4    102031_336_-315  level_6_label              13                12\n",
      "5    102031_336_-315  level_7_label              26                25\n",
      "6      102679_73_-70  level_3_label               4                 3\n",
      "7      102679_73_-70  level_4_label               5                 4\n",
      "8      102679_73_-70  level_5_label               8                 7\n",
      "9      102679_73_-70  level_6_label              16                13\n",
      "10     102679_73_-70  level_7_label              33                28\n",
      "11   104066_845_-793  level_3_label               3                 4\n",
      "12   104066_845_-793  level_4_label               4                 6\n",
      "13   104066_845_-793  level_5_label               7                 9\n",
      "14   104066_845_-793  level_6_label              13                19\n",
      "15   104066_845_-793  level_7_label              28                38\n",
      "16   68265_768_-1071  level_2_label               1                 2\n",
      "17   68265_768_-1071  level_3_label               1                 5\n",
      "18   68265_768_-1071  level_4_label               1                 8\n",
      "19   68265_768_-1071  level_5_label               1                12\n",
      "20   68265_768_-1071  level_6_label               1                24\n",
      "21   68265_768_-1071  level_7_label               1                48\n",
      "22  76038_3277_-3215  level_3_label               4                 3\n",
      "23  76038_3277_-3215  level_4_label               5                 4\n",
      "24  76038_3277_-3215  level_5_label               8                 7\n",
      "25  76038_3277_-3215  level_6_label              16                15\n",
      "26  76038_3277_-3215  level_7_label              33                31\n",
      "27    76038_432_-438  level_3_label               3                 4\n",
      "28    76038_432_-438  level_4_label               4                 5\n",
      "29    76038_432_-438  level_5_label               7                 8\n",
      "30    76038_432_-438  level_6_label              13                16\n",
      "31    76038_432_-438  level_7_label              28                33\n",
      "32    76038_936_-907  level_3_label               3                 4\n",
      "33    76038_936_-907  level_4_label               4                 5\n",
      "34    76038_936_-907  level_5_label               7                 8\n",
      "35    76038_936_-907  level_6_label              13                17\n",
      "36    76038_936_-907  level_7_label              28                35\n",
      "37  82514_1739_-1677  level_3_label               3                 4\n",
      "38  82514_1739_-1677  level_4_label               4                 5\n",
      "39  82514_1739_-1677  level_5_label               7                 8\n",
      "40  82514_1739_-1677  level_6_label              13                16\n",
      "41  82514_1739_-1677  level_7_label              28                33\n",
      "42      85262_19_-18  level_5_label              25                24\n",
      "43      85262_19_-18  level_6_label              56                55\n",
      "44      85262_19_-18  level_7_label             105               101\n",
      "45    98660_902_-857  level_6_label              11                12\n",
      "46    98660_902_-857  level_7_label              22                23\n",
      "47    98660_939_-896  level_6_label              13                14\n",
      "48    98660_939_-896  level_7_label              28                30\n"
     ]
    },
    {
     "name": "stderr",
     "output_type": "stream",
     "text": [
      "/tmp/ipykernel_266956/1764903699.py:25: DeprecationWarning: DataFrameGroupBy.apply operated on the grouping columns. This behavior is deprecated, and in a future version of pandas the grouping columns will be excluded from the operation. Either pass `include_groups=False` to exclude the groupings or explicitly select the grouping columns after groupby to silence this warning.\n",
      "  grouped = buildings.groupby(\"morphotope_id\").apply(check_group).reset_index()\n"
     ]
    },
    {
     "name": "stdout",
     "output_type": "stream",
     "text": [
      "de6.parquet\n",
      "Empty DataFrame\n",
      "Columns: []\n",
      "Index: []\n"
     ]
    },
    {
     "name": "stderr",
     "output_type": "stream",
     "text": [
      "/tmp/ipykernel_266956/1764903699.py:25: DeprecationWarning: DataFrameGroupBy.apply operated on the grouping columns. This behavior is deprecated, and in a future version of pandas the grouping columns will be excluded from the operation. Either pass `include_groups=False` to exclude the groupings or explicitly select the grouping columns after groupby to silence this warning.\n",
      "  grouped = buildings.groupby(\"morphotope_id\").apply(check_group).reset_index()\n"
     ]
    },
    {
     "name": "stdout",
     "output_type": "stream",
     "text": [
      "dec.parquet\n",
      "Empty DataFrame\n",
      "Columns: []\n",
      "Index: []\n"
     ]
    },
    {
     "name": "stderr",
     "output_type": "stream",
     "text": [
      "/tmp/ipykernel_266956/1764903699.py:25: DeprecationWarning: DataFrameGroupBy.apply operated on the grouping columns. This behavior is deprecated, and in a future version of pandas the grouping columns will be excluded from the operation. Either pass `include_groups=False` to exclude the groupings or explicitly select the grouping columns after groupby to silence this warning.\n",
      "  grouped = buildings.groupby(\"morphotope_id\").apply(check_group).reset_index()\n"
     ]
    },
    {
     "name": "stdout",
     "output_type": "stream",
     "text": [
      "at3.parquet\n",
      "         morphotope_id      attribute  building_value  morphotope_value\n",
      "0         29374_29_-30  level_4_label               5                 6\n",
      "1         29374_29_-30  level_5_label               8                 9\n",
      "2         29374_29_-30  level_6_label              17                18\n",
      "3         29374_29_-30  level_7_label              35                36\n",
      "4       29374_332_-340  level_4_label               6                 5\n",
      "5       29374_332_-340  level_5_label               9                 8\n",
      "6       29374_332_-340  level_6_label              18                17\n",
      "7       29374_332_-340  level_7_label              36                35\n",
      "8       35141_287_-305  level_4_label               6                 5\n",
      "9       35141_287_-305  level_5_label               9                 8\n",
      "10      35141_287_-305  level_6_label              19                17\n",
      "11      35141_287_-305  level_7_label              38                35\n",
      "12    50280_2440_-2451  level_7_label              21                20\n",
      "13    50280_2457_-2467  level_3_label               3                 4\n",
      "14    50280_2457_-2467  level_4_label               4                 5\n",
      "15    50280_2457_-2467  level_5_label               7                 8\n",
      "16    50280_2457_-2467  level_6_label              13                17\n",
      "17    50280_2457_-2467  level_7_label              28                34\n",
      "18  51289_15084_-15219  level_6_label              17                16\n",
      "19  51289_15084_-15219  level_7_label              35                33\n",
      "20  51289_16301_-16448  level_4_label               5                 6\n",
      "21  51289_16301_-16448  level_5_label               8                 9\n",
      "22  51289_16301_-16448  level_6_label              17                18\n",
      "23  51289_16301_-16448  level_7_label              35                36\n",
      "24  62954_19607_-19793  level_4_label               6                 5\n",
      "25  62954_19607_-19793  level_5_label               9                 8\n",
      "26  62954_19607_-19793  level_6_label              18                17\n",
      "27  62954_19607_-19793  level_7_label              36                35\n"
     ]
    },
    {
     "name": "stderr",
     "output_type": "stream",
     "text": [
      "/tmp/ipykernel_266956/1764903699.py:25: DeprecationWarning: DataFrameGroupBy.apply operated on the grouping columns. This behavior is deprecated, and in a future version of pandas the grouping columns will be excluded from the operation. Either pass `include_groups=False` to exclude the groupings or explicitly select the grouping columns after groupby to silence this warning.\n",
      "  grouped = buildings.groupby(\"morphotope_id\").apply(check_group).reset_index()\n"
     ]
    },
    {
     "name": "stdout",
     "output_type": "stream",
     "text": [
      "de9.parquet\n",
      "      morphotope_id      attribute  building_value  morphotope_value\n",
      "0    15794_386_-377  level_6_label            15.0                13\n",
      "1    15794_386_-377  level_7_label            32.0                26\n",
      "2     2096_462_-495  level_5_label             6.0                 7\n",
      "3     2096_462_-495  level_6_label            12.0                13\n",
      "4     2096_462_-495  level_7_label            23.0                28\n",
      "5   20970_753_-1239  level_4_label             6.0                 5\n",
      "6   20970_753_-1239  level_5_label             9.0                 8\n",
      "7   20970_753_-1239  level_6_label            18.0                17\n",
      "8   20970_753_-1239  level_7_label            36.0                35\n",
      "9     3705_276_-308  level_5_label            19.0                18\n",
      "10    3705_276_-308  level_6_label            45.0                40\n",
      "11    3705_276_-308  level_7_label            82.0                74\n",
      "12  4214_5612_-6346  level_5_label            10.0                 9\n",
      "13  4214_5612_-6346  level_6_label            21.0                19\n",
      "14  4214_5612_-6346  level_7_label            43.0                39\n",
      "15   4_28140_-38234  level_1_label             2.0                 1\n",
      "16   4_28140_-38234  level_2_label             4.0                 2\n",
      "17   4_28140_-38234  level_3_label             8.0                 4\n",
      "18   4_28140_-38234  level_4_label            17.0                 6\n",
      "19   4_28140_-38234  level_5_label            25.0                 9\n",
      "20   4_28140_-38234  level_6_label            56.0                18\n",
      "21   4_28140_-38234  level_7_label           105.0                36\n",
      "22   4_31533_-41866  level_2_label             2.0                 1\n",
      "23   4_31533_-41866  level_3_label             4.0                 1\n",
      "24   4_31533_-41866  level_4_label             6.0                 1\n",
      "25   4_31533_-41866  level_5_label             9.0                 1\n",
      "26   4_31533_-41866  level_6_label            18.0                 1\n",
      "27   4_31533_-41866  level_7_label            36.0                 1\n",
      "28   4_34326_-44872  level_3_label             3.0                 4\n",
      "29   4_34326_-44872  level_4_label             4.0                 5\n",
      "30   4_34326_-44872  level_5_label             7.0                 8\n",
      "31   4_34326_-44872  level_6_label            13.0                17\n",
      "32   4_34326_-44872  level_7_label            28.0                35\n",
      "33     9150_65_-118  level_2_label             2.0                 1\n",
      "34     9150_65_-118  level_3_label             4.0                 2\n",
      "35     9150_65_-118  level_4_label             5.0                 3\n",
      "36     9150_65_-118  level_5_label             8.0                 4\n",
      "37     9150_65_-118  level_6_label            16.0                 8\n",
      "38     9150_65_-118  level_7_label            33.0                14\n"
     ]
    },
    {
     "name": "stderr",
     "output_type": "stream",
     "text": [
      "/tmp/ipykernel_266956/1764903699.py:25: DeprecationWarning: DataFrameGroupBy.apply operated on the grouping columns. This behavior is deprecated, and in a future version of pandas the grouping columns will be excluded from the operation. Either pass `include_groups=False` to exclude the groupings or explicitly select the grouping columns after groupby to silence this warning.\n",
      "  grouped = buildings.groupby(\"morphotope_id\").apply(check_group).reset_index()\n"
     ]
    },
    {
     "name": "stdout",
     "output_type": "stream",
     "text": [
      "de8.parquet\n",
      "    morphotope_id      attribute  building_value  morphotope_value\n",
      "0  31212_246_-221  level_3_label               3                 4\n",
      "1  31212_246_-221  level_4_label               4                 5\n",
      "2  31212_246_-221  level_5_label               7                 8\n",
      "3  31212_246_-221  level_6_label              13                17\n",
      "4  31212_246_-221  level_7_label              28                35\n",
      "5   38243_36_-497  level_5_label              10                 9\n",
      "6   38243_36_-497  level_6_label              21                18\n",
      "7   38243_36_-497  level_7_label              44                36\n"
     ]
    }
   ],
   "source": [
    "for filename in os.listdir(\"/data/uscuni-ulce/data_product/buildings\"):\n",
    "    check_errors(filename)"
   ]
  },
  {
   "cell_type": "code",
   "execution_count": null,
   "id": "9e815499-49f9-44c0-859a-72740a57ca7a",
   "metadata": {},
   "outputs": [],
   "source": []
  }
 ],
 "metadata": {
  "kernelspec": {
   "display_name": "Python 3 (ipykernel)",
   "language": "python",
   "name": "python3"
  },
  "language_info": {
   "codemirror_mode": {
    "name": "ipython",
    "version": 3
   },
   "file_extension": ".py",
   "mimetype": "text/x-python",
   "name": "python",
   "nbconvert_exporter": "python",
   "pygments_lexer": "ipython3",
   "version": "3.12.10"
  }
 },
 "nbformat": 4,
 "nbformat_minor": 5
}
