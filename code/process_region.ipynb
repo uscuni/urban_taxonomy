{
 "cells": [
  {
   "cell_type": "code",
   "execution_count": 1,
   "id": "b46c8a5f-40bf-4312-b39e-1f29bbcbb262",
   "metadata": {},
   "outputs": [],
   "source": [
    "import gc\n",
    "import glob\n",
    "\n",
    "import geopandas as gpd\n",
    "import momepy as mm\n",
    "\n",
    "import numpy as np\n",
    "import pandas as pd\n",
    "import shapely\n",
    "from libpysal.graph import Graph, read_parquet\n",
    "import datetime"
   ]
  },
  {
   "cell_type": "code",
   "execution_count": null,
   "id": "ba2806de-b143-4f80-88e5-dda39d213cf6",
   "metadata": {},
   "outputs": [],
   "source": []
  },
  {
   "cell_type": "code",
   "execution_count": 2,
   "id": "06df3676-94c7-4477-8abc-cdeb02c813c6",
   "metadata": {},
   "outputs": [],
   "source": [
    "regions_buildings_dir = '/data/uscuni-ulce/regions/buildings/'\n",
    "buildings_dir = '/data/uscuni-ulce/processed_data/buildings/'\n",
    "overture_streets_dir = '/data/uscuni-ulce/overture_streets/'\n",
    "streets_dir = '/data/uscuni-ulce/processed_data/streets/'\n",
    "enclosures_dir = '/data/uscuni-ulce/processed_data/enclosures/'\n",
    "tessellations_dir = '/data/uscuni-ulce/processed_data/tessellations/'\n",
    "graph_dir = '/data/uscuni-ulce/processed_data/neigh_graphs/'\n",
    "chars_dir = '/data/uscuni-ulce/processed_data/chars/'\n",
    "simplfied_buildings_dir = '/data/uscuni-ulce/processed_data/simplified_buildings/'\n",
    "\n",
    "\n",
    "regions_datadir = \"/data/uscuni-ulce/\"\n",
    "eubucco_files = glob.glob(regions_datadir + \"eubucco_raw/*\")"
   ]
  },
  {
   "cell_type": "code",
   "execution_count": null,
   "id": "ebb8307c-d05d-4aef-a699-f85f74c76a32",
   "metadata": {},
   "outputs": [],
   "source": []
  },
  {
   "cell_type": "code",
   "execution_count": null,
   "id": "e706dfbf-9b67-4bae-9801-0bfa14a72071",
   "metadata": {},
   "outputs": [],
   "source": []
  },
  {
   "cell_type": "code",
   "execution_count": 3,
   "id": "6506fac2-eb4b-4c15-948b-3bb55e2c7889",
   "metadata": {},
   "outputs": [],
   "source": [
    "# df = pd.read_parquet('/data/uscuni-ulce/regions/cadastre_id_to_region.parquet')\n",
    "# df.region.value_counts()\n",
    "# '''\n",
    "# region\n",
    "# 4.0         11084489\n",
    "# 107131.0     3078558\n",
    "# 16242.0      1457482\n",
    "# 4214.0       1389195\n",
    "# 8707.0       1220411\n",
    "#               ...   \n",
    "# 7727.0         12682\n",
    "# 6741.0         12235\n",
    "# 10970.0        12170\n",
    "# 10847.0        10871\n",
    "# 15545.0        10409\n",
    "# Name: count, Length: 828, dtype: int64\n",
    "\n",
    "\n",
    "\n",
    "# df.region.value_counts().iloc[:20].index.values.astype(int)\n",
    "\n",
    "# array([     4, 107131,  16242,   4214,   8707,  51289, 114311,  55763,\n",
    "#         14679,  62954,  10579,  38679,  86873,  34266,     10,  80404,\n",
    "#         18557,  69333,   1154, 130658])\n",
    "# '''\n",
    "\n",
    "##"
   ]
  },
  {
   "cell_type": "code",
   "execution_count": null,
   "id": "7de94bbb-f1e4-4aa0-80cb-59572a22b530",
   "metadata": {},
   "outputs": [],
   "source": []
  },
  {
   "cell_type": "code",
   "execution_count": null,
   "id": "a86463d9-31d3-4b40-baf2-bd322dc59f79",
   "metadata": {},
   "outputs": [],
   "source": []
  },
  {
   "cell_type": "code",
   "execution_count": 4,
   "id": "15ce7e3e-333d-474b-8d21-29d06a0b486a",
   "metadata": {},
   "outputs": [],
   "source": [
    "# 107131 - krakow\n",
    "# 86873 = vienna\n",
    "# 69333 = prague\n",
    "# munich\n",
    "# 4 - rhineruhr\n",
    "# 55763 - berlin\n",
    "#bratislava - 99886\n",
    "# freiburg - 5883\n",
    " # hamburg - 16242\n",
    "# munich - 38679\n",
    "\n",
    "\n",
    "\n",
    "# lithuania - 139196"
   ]
  },
  {
   "cell_type": "code",
   "execution_count": 5,
   "id": "6fae1366-68fd-44f0-9f2b-1c051751858a",
   "metadata": {},
   "outputs": [],
   "source": [
    "region_name = 69333\n",
    "region_hulls = gpd.read_parquet(\n",
    "        regions_datadir + \"regions/\" + \"cadastre_regions_hull.parquet\"\n",
    "    )\n",
    "region_id, region_hull = region_hulls.loc[region_name].name, region_hulls.loc[region_name].convex_hull"
   ]
  },
  {
   "cell_type": "code",
   "execution_count": 6,
   "id": "1306ce98-7819-4dea-8ea6-f92eb83b8b05",
   "metadata": {},
   "outputs": [],
   "source": [
    "# region_hulls.explore()"
   ]
  },
  {
   "cell_type": "code",
   "execution_count": null,
   "id": "34334bbf-5794-4ea0-8f67-3fc2dbe1647b",
   "metadata": {},
   "outputs": [],
   "source": []
  },
  {
   "cell_type": "markdown",
   "id": "7e12723b-0bba-40af-aae2-ca69bbc8b28d",
   "metadata": {},
   "source": [
    "## Buildings\n"
   ]
  },
  {
   "cell_type": "code",
   "execution_count": 8,
   "id": "932b7126-34d5-47eb-a83a-07ba6dbba127",
   "metadata": {},
   "outputs": [],
   "source": [
    "from core.generate_buildings import read_region_buildings, process_region_buildings"
   ]
  },
  {
   "cell_type": "code",
   "execution_count": 9,
   "id": "38f893be-eba0-42f2-9cd0-91d3fcf5753a",
   "metadata": {},
   "outputs": [
    {
     "name": "stdout",
     "output_type": "stream",
     "text": [
      "CPU times: user 2.02 s, sys: 1.25 s, total: 3.26 s\n",
      "Wall time: 2.24 s\n"
     ]
    }
   ],
   "source": [
    "%%time\n",
    "\n",
    "buildings = gpd.read_parquet(regions_buildings_dir + f'buildings_{region_id}.pq')"
   ]
  },
  {
   "cell_type": "code",
   "execution_count": null,
   "id": "4bbbaa4c-e641-46a8-a2f0-44a2d554633d",
   "metadata": {},
   "outputs": [],
   "source": []
  },
  {
   "cell_type": "code",
   "execution_count": 10,
   "id": "89550a09-e7e3-4ee0-b429-d7e04d526c71",
   "metadata": {},
   "outputs": [
    {
     "name": "stdout",
     "output_type": "stream",
     "text": [
      "Percent polygons:  1.0\n",
      "Final polygons:  2052576 , dropped:  0.00026934498514219474\n",
      "CPU times: user 2min 26s, sys: 1.73 s, total: 2min 28s\n",
      "Wall time: 2min 28s\n"
     ]
    }
   ],
   "source": [
    "%%time\n",
    "\n",
    "buildings = process_region_buildings(buildings, True, simplification_tolerance=.1, merge_limit=25)"
   ]
  },
  {
   "cell_type": "code",
   "execution_count": null,
   "id": "b3c6bbd0-d18e-43cc-a61d-123607dbf9fc",
   "metadata": {},
   "outputs": [],
   "source": []
  },
  {
   "cell_type": "code",
   "execution_count": 11,
   "id": "72862477-d5e1-4651-88c7-40ee3abcfbde",
   "metadata": {},
   "outputs": [],
   "source": [
    "\n",
    "# orig_buildings = gpd.read_parquet(regions_buildings_dir + f'buildings_{region_id}.pq')\n",
    "# dropped_buildings = orig_buildings[~orig_buildings['iid'].isin(buildings['iid'])]\n",
    "\n",
    "\n",
    "# m = dropped_buildings.explore(color='red')\n",
    "# m = buildings.explore(m=m)\n",
    "# m"
   ]
  },
  {
   "cell_type": "code",
   "execution_count": null,
   "id": "b0831db6-599a-480c-bec0-6217aa05146f",
   "metadata": {},
   "outputs": [],
   "source": []
  },
  {
   "cell_type": "code",
   "execution_count": null,
   "id": "ea709bea-abd2-4e47-96df-12017d4efb80",
   "metadata": {},
   "outputs": [],
   "source": []
  },
  {
   "cell_type": "code",
   "execution_count": 12,
   "id": "a1c53c00-58c8-4087-8f47-6e24d5476c66",
   "metadata": {},
   "outputs": [],
   "source": [
    "# buildings.to_parquet(simplfied_buildings_dir + f\"buildings_{region_id}.parquet\")"
   ]
  },
  {
   "cell_type": "code",
   "execution_count": 13,
   "id": "ba4dbb84-6b9c-46d2-8501-87a49feabd7f",
   "metadata": {},
   "outputs": [],
   "source": [
    "buildings.to_parquet(buildings_dir + f\"buildings_{region_id}.parquet\")"
   ]
  },
  {
   "cell_type": "markdown",
   "id": "6c583ddc-c40b-4b6e-aa41-a33bd00570f3",
   "metadata": {
    "jp-MarkdownHeadingCollapsed": true
   },
   "source": [
    "## Streets"
   ]
  },
  {
   "cell_type": "code",
   "execution_count": 14,
   "id": "e882ddf0-ff0b-429e-b39b-8ff4d7afd9da",
   "metadata": {},
   "outputs": [],
   "source": [
    "from core.generate_streets import process_region_streets, process_single_region_streets"
   ]
  },
  {
   "cell_type": "code",
   "execution_count": null,
   "id": "b27d6301-e5aa-4ee9-9ec9-7b9fb2b940e8",
   "metadata": {},
   "outputs": [],
   "source": []
  },
  {
   "cell_type": "code",
   "execution_count": 15,
   "id": "a084da1a-db92-41c5-9cd7-0c4f1e9996f7",
   "metadata": {
    "scrolled": true
   },
   "outputs": [
    {
     "name": "stderr",
     "output_type": "stream",
     "text": [
      "/home/krasen/urban_taxonomy/manual_deps/sgeop/sgeop/geometry.py:247: UserWarning: Could not create a connection as it would lead outside of the artifact.\n",
      "  additions, splits = snap_to_targets(\n",
      "/home/krasen/urban_taxonomy/manual_deps/sgeop/sgeop/geometry.py:247: UserWarning: Could not create a connection as it would lead outside of the artifact.\n",
      "  additions, splits = snap_to_targets(\n",
      "/home/krasen/urban_taxonomy/manual_deps/sgeop/sgeop/simplify.py:551: UserWarning: An error occured at location POINT (5275477.613340486 3781566.0414011283). The artifact has not been simplified. The original message:\n",
      "can only convert an array of size 1 to a Python scalar\n",
      "  roads = simplify_singletons(\n",
      "/home/krasen/urban_taxonomy/manual_deps/momepy/momepy/coins.py:103: UserWarning: Lines are between points dict_keys([(5065036.230081792, 3785697.8965024077), (5065024.494818296, 3785711.2228520997)]) identical. Please revise input data to ensure no lines are identical or overlapping. You can check for duplicates using `gdf.geometry.duplicated()`. Assumingan angle of 0 degrees.\n",
      "  self._best_link()\n",
      "/home/krasen/urban_taxonomy/manual_deps/momepy/momepy/coins.py:103: UserWarning: Lines are between points dict_keys([(5065024.494818296, 3785711.2228520997), (5065036.230081792, 3785697.8965024077)]) identical. Please revise input data to ensure no lines are identical or overlapping. You can check for duplicates using `gdf.geometry.duplicated()`. Assumingan angle of 0 degrees.\n",
      "  self._best_link()\n",
      "/home/krasen/urban_taxonomy/manual_deps/momepy/momepy/coins.py:103: UserWarning: Lines are between points dict_keys([(5065036.230081792, 3785697.8965024077), (5065024.494818296, 3785711.2228520997)]) identical. Please revise input data to ensure no lines are identical or overlapping. You can check for duplicates using `gdf.geometry.duplicated()`. Assumingan angle of 0 degrees.\n",
      "  self._best_link()\n",
      "/home/krasen/urban_taxonomy/manual_deps/momepy/momepy/coins.py:103: UserWarning: Lines are between points dict_keys([(5065024.494818296, 3785711.2228520997), (5065036.230081792, 3785697.8965024077)]) identical. Please revise input data to ensure no lines are identical or overlapping. You can check for duplicates using `gdf.geometry.duplicated()`. Assumingan angle of 0 degrees.\n",
      "  self._best_link()\n",
      "/home/krasen/urban_taxonomy/manual_deps/sgeop/sgeop/geometry.py:247: UserWarning: Could not create a connection as it would lead outside of the artifact.\n",
      "  additions, splits = snap_to_targets(\n",
      "/home/krasen/urban_taxonomy/manual_deps/sgeop/sgeop/geometry.py:247: UserWarning: Could not create a connection as it would lead outside of the artifact.\n",
      "  additions, splits = snap_to_targets(\n",
      "/home/krasen/urban_taxonomy/manual_deps/sgeop/sgeop/geometry.py:247: UserWarning: Could not create a connection as it would lead outside of the artifact.\n",
      "  additions, splits = snap_to_targets(\n",
      "/home/krasen/urban_taxonomy/manual_deps/sgeop/sgeop/geometry.py:247: UserWarning: Could not create a connection as it would lead outside of the artifact.\n",
      "  additions, splits = snap_to_targets(\n",
      "/home/krasen/urban_taxonomy/manual_deps/sgeop/sgeop/simplify.py:200: UserWarning: Could not create a connection as it would lead outside of the artifact.\n",
      "  nx_gx_cluster(\n",
      "/home/krasen/urban_taxonomy/manual_deps/momepy/momepy/coins.py:103: UserWarning: Lines are between points dict_keys([(5065036.230081792, 3785697.8965024077), (5065024.494818296, 3785711.2228520997)]) identical. Please revise input data to ensure no lines are identical or overlapping. You can check for duplicates using `gdf.geometry.duplicated()`. Assumingan angle of 0 degrees.\n",
      "  self._best_link()\n",
      "/home/krasen/urban_taxonomy/manual_deps/momepy/momepy/coins.py:103: UserWarning: Lines are between points dict_keys([(5065024.494818296, 3785711.2228520997), (5065036.230081792, 3785697.8965024077)]) identical. Please revise input data to ensure no lines are identical or overlapping. You can check for duplicates using `gdf.geometry.duplicated()`. Assumingan angle of 0 degrees.\n",
      "  self._best_link()\n",
      "/home/krasen/urban_taxonomy/manual_deps/momepy/momepy/coins.py:103: UserWarning: Lines are between points dict_keys([(5065036.230081792, 3785697.8965024077), (5065024.494818296, 3785711.2228520997)]) identical. Please revise input data to ensure no lines are identical or overlapping. You can check for duplicates using `gdf.geometry.duplicated()`. Assumingan angle of 0 degrees.\n",
      "  self._best_link()\n",
      "/home/krasen/urban_taxonomy/manual_deps/momepy/momepy/coins.py:103: UserWarning: Lines are between points dict_keys([(5065024.494818296, 3785711.2228520997), (5065036.230081792, 3785697.8965024077)]) identical. Please revise input data to ensure no lines are identical or overlapping. You can check for duplicates using `gdf.geometry.duplicated()`. Assumingan angle of 0 degrees.\n",
      "  self._best_link()\n"
     ]
    },
    {
     "name": "stdout",
     "output_type": "stream",
     "text": [
      "CPU times: user 43min 5s, sys: 7.39 s, total: 43min 12s\n",
      "Wall time: 43min 5s\n"
     ]
    }
   ],
   "source": [
    "%%time\n",
    "## processs streets\n",
    "streets = process_region_streets(region_id, overture_streets_dir, buildings_dir)"
   ]
  },
  {
   "cell_type": "code",
   "execution_count": null,
   "id": "7956b696-07fd-48da-8b28-a2a495747029",
   "metadata": {},
   "outputs": [],
   "source": []
  },
  {
   "cell_type": "code",
   "execution_count": null,
   "id": "68f8df02-db77-4cbb-8541-1631f2c2100c",
   "metadata": {},
   "outputs": [],
   "source": []
  },
  {
   "cell_type": "code",
   "execution_count": 16,
   "id": "f2a58bac-e166-4724-b9f1-2fbe8778a01d",
   "metadata": {},
   "outputs": [],
   "source": [
    "# save streets\n",
    "streets.to_parquet(streets_dir + f'streets_{region_id}.parquet')"
   ]
  },
  {
   "cell_type": "code",
   "execution_count": 17,
   "id": "2cad5944-459b-47d3-b69e-431b570823d5",
   "metadata": {},
   "outputs": [],
   "source": [
    "# streets.explore()"
   ]
  },
  {
   "cell_type": "code",
   "execution_count": null,
   "id": "562890b1-83f3-4e2f-bfd0-f3928bffcf07",
   "metadata": {},
   "outputs": [],
   "source": []
  },
  {
   "cell_type": "code",
   "execution_count": 17,
   "id": "39e2b87d-3838-4a74-a940-034343aef67c",
   "metadata": {},
   "outputs": [],
   "source": [
    "# import geopandas as gpd\n",
    "# gpd.read_parquet(streets_dir + f'streets_{region_id}.parquet').explore()"
   ]
  },
  {
   "cell_type": "code",
   "execution_count": 18,
   "id": "50dbdb54-f029-4511-b524-9ee29e7fe752",
   "metadata": {},
   "outputs": [],
   "source": [
    "# gpd.read_parquet(enclosures_dir + f'enclosure_{region_id}.parquet').explore()"
   ]
  },
  {
   "cell_type": "code",
   "execution_count": null,
   "id": "ec60a7fe-e872-4c01-b008-b33ba8fb0ca4",
   "metadata": {},
   "outputs": [],
   "source": []
  },
  {
   "cell_type": "code",
   "execution_count": null,
   "id": "939b137a-294a-4fe7-a70b-f58fce0471f2",
   "metadata": {},
   "outputs": [],
   "source": []
  },
  {
   "cell_type": "code",
   "execution_count": null,
   "id": "d27c4679-3543-414c-91be-ee3f2d9ac4bb",
   "metadata": {},
   "outputs": [],
   "source": []
  },
  {
   "cell_type": "markdown",
   "id": "3b23c6e4-17f5-42f0-987c-921d10557565",
   "metadata": {
    "jp-MarkdownHeadingCollapsed": true
   },
   "source": [
    "## Enclosures & Tessellation"
   ]
  },
  {
   "cell_type": "code",
   "execution_count": 18,
   "id": "b8314f1b-3efc-4439-965a-a48e87b34fa9",
   "metadata": {},
   "outputs": [],
   "source": [
    "from core.generate_elements import process_region_elements, generate_enclosures_representative_points, generate_tess"
   ]
  },
  {
   "cell_type": "code",
   "execution_count": 19,
   "id": "c68fd0e9-34df-4b2c-8cb1-82892a8da5ce",
   "metadata": {},
   "outputs": [],
   "source": [
    "# 21894\n",
    "# 47090 - problems with topolgical exceptions"
   ]
  },
  {
   "cell_type": "code",
   "execution_count": null,
   "id": "d41ca1a7-1f02-4aee-82d1-feb8ba96ce5d",
   "metadata": {},
   "outputs": [],
   "source": []
  },
  {
   "cell_type": "code",
   "execution_count": 20,
   "id": "22ff98c4-60a1-4d6a-aed2-4fd33c222366",
   "metadata": {},
   "outputs": [],
   "source": [
    "### copy the original buildings\n",
    "# !cp /data/uscuni-ulce/processed_data/simplified_buildings/buildings_69333_merged.parquet /data/uscuni-ulce/processed_data/buildings/buildings_69333.parquet"
   ]
  },
  {
   "cell_type": "code",
   "execution_count": null,
   "id": "039dab1e-c523-4554-86cf-2a368e3c1a2b",
   "metadata": {},
   "outputs": [],
   "source": []
  },
  {
   "cell_type": "code",
   "execution_count": null,
   "id": "59d76ff6-cb67-40d0-a54d-ff405e12bc88",
   "metadata": {},
   "outputs": [],
   "source": []
  },
  {
   "cell_type": "code",
   "execution_count": 21,
   "id": "bbe4d0ac-0514-4e70-9f1e-eb70b28e05a6",
   "metadata": {},
   "outputs": [
    {
     "name": "stdout",
     "output_type": "stream",
     "text": [
      "---- Processing region:  139196 2024-11-29 13:22:16.418225\n",
      "CPU times: user 9min 40s, sys: 13.4 s, total: 9min 53s\n",
      "Wall time: 12min 41s\n"
     ]
    }
   ],
   "source": [
    "%%time\n",
    "enclosures, tesselations = process_region_elements(buildings_dir, streets_dir, region_id)"
   ]
  },
  {
   "cell_type": "code",
   "execution_count": null,
   "id": "5cc6b6c1-d9f6-4113-8d4b-05940c107a18",
   "metadata": {},
   "outputs": [],
   "source": []
  },
  {
   "cell_type": "code",
   "execution_count": null,
   "id": "57b10c8f-5fc7-4b08-a8c7-324be52728cb",
   "metadata": {},
   "outputs": [],
   "source": []
  },
  {
   "cell_type": "code",
   "execution_count": null,
   "id": "d5f56406-9c98-4f80-85c8-79251d3647d7",
   "metadata": {},
   "outputs": [],
   "source": []
  },
  {
   "cell_type": "code",
   "execution_count": null,
   "id": "695d5bbd-921c-48ed-a00a-20c499797f5a",
   "metadata": {},
   "outputs": [],
   "source": []
  },
  {
   "cell_type": "code",
   "execution_count": null,
   "id": "0badca95-883b-406a-8ceb-3a0c9ed57451",
   "metadata": {},
   "outputs": [],
   "source": []
  },
  {
   "cell_type": "code",
   "execution_count": 22,
   "id": "d0a92a51-e839-4728-bd09-98141315f7f9",
   "metadata": {},
   "outputs": [
    {
     "name": "stdout",
     "output_type": "stream",
     "text": [
      "Processed enclosures\n",
      "processed tesselations\n"
     ]
    }
   ],
   "source": [
    "enclosures.to_parquet(enclosures_dir + f\"enclosure_{region_id}.parquet\")\n",
    "print(\"Processed enclosures\")\n",
    "\n",
    "## save files\n",
    "tesselations.to_parquet(\n",
    "    tessellations_dir + f\"tessellation_{region_id}.parquet\"\n",
    ")\n",
    "print(\"processed tesselations\")"
   ]
  },
  {
   "cell_type": "code",
   "execution_count": null,
   "id": "9acdf8ca-c466-495b-91bb-d4fc62353def",
   "metadata": {},
   "outputs": [],
   "source": []
  },
  {
   "cell_type": "code",
   "execution_count": 23,
   "id": "413c332a-78c8-4191-912e-db9f28704209",
   "metadata": {},
   "outputs": [],
   "source": [
    "# import lonboard\n",
    "# layeasr = lonboard.SolidPolygonLayer.from_geopandas(tesselations, opacity=0.15)\n",
    "# m = lonboard.Map([layer])\n",
    "# m"
   ]
  },
  {
   "cell_type": "code",
   "execution_count": 24,
   "id": "130a6515-93f5-4067-ac88-645df3802443",
   "metadata": {},
   "outputs": [],
   "source": [
    "# layer = lonboard.SolidPolygonLayer.from_geopandas(enclosures, opacity=0.15)\n",
    "# m = lonboard.Map([layer])\n",
    "# m"
   ]
  },
  {
   "cell_type": "code",
   "execution_count": null,
   "id": "3f25df6c-2a78-4f42-98a6-f99e478d93bb",
   "metadata": {},
   "outputs": [],
   "source": []
  },
  {
   "cell_type": "markdown",
   "id": "c4f68f61-03d3-4603-b9f0-9b8704ca469b",
   "metadata": {
    "jp-MarkdownHeadingCollapsed": true
   },
   "source": [
    "## Graphs"
   ]
  },
  {
   "cell_type": "code",
   "execution_count": 25,
   "id": "4f52f1d9-b910-4d41-a086-8b2faa858f96",
   "metadata": {},
   "outputs": [],
   "source": [
    "from core.generate_ngraphs import process_region_graphs"
   ]
  },
  {
   "cell_type": "code",
   "execution_count": 26,
   "id": "ad6345c5-f2de-4c7d-abc5-c1c33ede6c2a",
   "metadata": {},
   "outputs": [
    {
     "name": "stdout",
     "output_type": "stream",
     "text": [
      "Built tess graph knn=1\n",
      "Built buildings graph knn=1\n",
      "Built streets graph knn=1\n",
      "Built enclosure graph knn=1\n"
     ]
    },
    {
     "name": "stderr",
     "output_type": "stream",
     "text": [
      "/home/krasen/urban_taxonomy/.pixi/envs/default/lib/python3.12/site-packages/libpysal/weights/weights.py:1685: UserWarning: The weights matrix is not fully connected: \n",
      " There are 415 disconnected components.\n",
      "  w = W(neighbors, weights, ids, silence_warnings=silence_warnings)\n"
     ]
    },
    {
     "name": "stdout",
     "output_type": "stream",
     "text": [
      "Built nodes graph knn=1\n",
      "CPU times: user 3min 57s, sys: 4.77 s, total: 4min 2s\n",
      "Wall time: 3min 59s\n"
     ]
    }
   ],
   "source": [
    "%%time\n",
    "process_region_graphs(\n",
    "    region_id,\n",
    "    graph_dir,\n",
    "    buildings_dir,\n",
    "    streets_dir,\n",
    "    enclosures_dir,\n",
    "    tessellations_dir,\n",
    ")"
   ]
  },
  {
   "cell_type": "code",
   "execution_count": null,
   "id": "83d17bfe-363c-4cf6-9e60-954dfebf0d75",
   "metadata": {},
   "outputs": [],
   "source": []
  },
  {
   "cell_type": "code",
   "execution_count": null,
   "id": "0705c7e7-1975-4e4a-bc41-dd0d1df942a6",
   "metadata": {},
   "outputs": [],
   "source": []
  },
  {
   "cell_type": "code",
   "execution_count": null,
   "id": "40a98d4e-6faa-418e-aa77-913eb27baac5",
   "metadata": {},
   "outputs": [],
   "source": []
  },
  {
   "cell_type": "code",
   "execution_count": 27,
   "id": "8416e0ff-1390-4abf-8a12-8cf105bc9d85",
   "metadata": {},
   "outputs": [],
   "source": [
    "processed_region_ids = [int(s.split('.')[0].split('_')[-1])for s in glob.glob(graph_dir + '*')]"
   ]
  },
  {
   "cell_type": "code",
   "execution_count": 29,
   "id": "84d18f78-c4f8-418e-989d-5300d42fea4a",
   "metadata": {},
   "outputs": [
    {
     "data": {
      "text/html": [
       "<div>\n",
       "<style scoped>\n",
       "    .dataframe tbody tr th:only-of-type {\n",
       "        vertical-align: middle;\n",
       "    }\n",
       "\n",
       "    .dataframe tbody tr th {\n",
       "        vertical-align: top;\n",
       "    }\n",
       "\n",
       "    .dataframe thead th {\n",
       "        text-align: right;\n",
       "    }\n",
       "</style>\n",
       "<table border=\"1\" class=\"dataframe\">\n",
       "  <thead>\n",
       "    <tr style=\"text-align: right;\">\n",
       "      <th></th>\n",
       "      <th>convex_hull</th>\n",
       "    </tr>\n",
       "    <tr>\n",
       "      <th>labels</th>\n",
       "      <th></th>\n",
       "    </tr>\n",
       "  </thead>\n",
       "  <tbody>\n",
       "  </tbody>\n",
       "</table>\n",
       "</div>"
      ],
      "text/plain": [
       "Empty GeoDataFrame\n",
       "Columns: [convex_hull]\n",
       "Index: []"
      ]
     },
     "execution_count": 29,
     "metadata": {},
     "output_type": "execute_result"
    }
   ],
   "source": [
    "region_hulls = gpd.read_parquet(\n",
    "    regions_datadir + \"regions/\" + \"cadastre_regions_hull.parquet\"\n",
    ")\n",
    "processed_region_ids = [int(s.split('.')[0].split('_')[-1])for s in glob.glob(graph_dir + '*')]\n",
    "region_hulls = region_hulls[~region_hulls.index.isin(processed_region_ids)]\n",
    "region_hulls"
   ]
  },
  {
   "cell_type": "code",
   "execution_count": 30,
   "id": "51cb3974-6fa2-4771-9e02-27a3e7115553",
   "metadata": {
    "scrolled": true
   },
   "outputs": [],
   "source": [
    "# from joblib import Parallel, delayed\n",
    "# n_jobs = -1\n",
    "# new = Parallel(n_jobs=n_jobs)(\n",
    "#     delayed(process_region_graphs)(     region_id,\n",
    "#                                         graph_dir,\n",
    "#                                         buildings_dir,\n",
    "#                                         streets_dir,\n",
    "#                                         enclosures_dir,\n",
    "#                                         tessellations_dir\n",
    "#                                   ) \n",
    "#     for region_id, _ in region_hulls.iterrows())"
   ]
  },
  {
   "cell_type": "code",
   "execution_count": 31,
   "id": "8e4d9e7c-7805-488e-b2d7-6949b732a2af",
   "metadata": {
    "scrolled": true
   },
   "outputs": [
    {
     "data": {
      "text/plain": [
       "1"
      ]
     },
     "execution_count": 31,
     "metadata": {},
     "output_type": "execute_result"
    }
   ],
   "source": [
    "1"
   ]
  },
  {
   "cell_type": "markdown",
   "id": "6e7bc073-b62b-4aa4-b09d-c93d07428e77",
   "metadata": {
    "jp-MarkdownHeadingCollapsed": true
   },
   "source": [
    "## Characters"
   ]
  },
  {
   "cell_type": "code",
   "execution_count": 5,
   "id": "105c07ab-ede1-4f70-bc5d-eb0958d00c06",
   "metadata": {},
   "outputs": [],
   "source": [
    "from core.generate_chars import process_single_region_chars"
   ]
  },
  {
   "cell_type": "code",
   "execution_count": null,
   "id": "6af38e44-98ae-4c27-917e-c03123c8b034",
   "metadata": {
    "scrolled": true
   },
   "outputs": [
    {
     "name": "stdout",
     "output_type": "stream",
     "text": [
      "2024-11-29 13:47:42.509994 ----Processing ------ 139196\n",
      "Processing streets\n"
     ]
    }
   ],
   "source": [
    "%%time\n",
    "process_single_region_chars(\n",
    "    region_id,\n",
    "    graph_dir,\n",
    "    buildings_dir,\n",
    "    streets_dir,\n",
    "    enclosures_dir,\n",
    "    tessellations_dir,\n",
    "    chars_dir\n",
    ")"
   ]
  },
  {
   "cell_type": "code",
   "execution_count": null,
   "id": "0c07db19-b3b2-4379-afb0-c980403570d5",
   "metadata": {},
   "outputs": [],
   "source": [
    "from core.generate_chars import process_single_region_chars, process_street_chars, process_building_chars, process_tessellation_chars,process_enclosure_chars"
   ]
  },
  {
   "cell_type": "code",
   "execution_count": 31,
   "id": "f40f7b79-4030-44bf-9325-2926eab48fa5",
   "metadata": {},
   "outputs": [],
   "source": [
    "# process_building_chars(\n",
    "#     region_id,\n",
    "#     graph_dir,\n",
    "#     buildings_dir,\n",
    "#     streets_dir,\n",
    "#     enclosures_dir,\n",
    "#     tessellations_dir,\n",
    "#     chars_dir\n",
    "# )"
   ]
  },
  {
   "cell_type": "code",
   "execution_count": 32,
   "id": "cb7503cc-a57d-4bfd-b7cc-21998c3ec1d0",
   "metadata": {},
   "outputs": [],
   "source": [
    "# %%time\n",
    "# process_street_chars(\n",
    "#     region_id,\n",
    "#     graph_dir,\n",
    "#     buildings_dir,\n",
    "#     streets_dir,\n",
    "#     enclosures_dir,\n",
    "#     tessellations_dir,\n",
    "#     chars_dir\n",
    "# )"
   ]
  },
  {
   "cell_type": "code",
   "execution_count": 33,
   "id": "0ee04195-8f22-4f8d-9b27-e66282fe2783",
   "metadata": {},
   "outputs": [],
   "source": [
    "# process_tessellation_chars(\n",
    "#     region_id,\n",
    "#     graph_dir,\n",
    "#     buildings_dir,\n",
    "#     streets_dir,\n",
    "#     enclosures_dir,\n",
    "#     tessellations_dir,\n",
    "#     chars_dir\n",
    "# )"
   ]
  },
  {
   "cell_type": "code",
   "execution_count": 34,
   "id": "644e4a5e-0528-4ef0-91fd-4afb417820b2",
   "metadata": {},
   "outputs": [],
   "source": [
    "# process_enclosure_chars(\n",
    "#     region_id,\n",
    "#     graph_dir,\n",
    "#     buildings_dir,\n",
    "#     streets_dir,\n",
    "#     enclosures_dir,\n",
    "#     tessellations_dir,\n",
    "#     chars_dir\n",
    "# )"
   ]
  },
  {
   "cell_type": "code",
   "execution_count": null,
   "id": "33137a28-6bed-4117-92ca-87815db17df3",
   "metadata": {},
   "outputs": [],
   "source": []
  },
  {
   "cell_type": "code",
   "execution_count": null,
   "id": "3fc1ba8d-9eef-44ca-b50f-6e1a846a7ff6",
   "metadata": {},
   "outputs": [],
   "source": []
  },
  {
   "cell_type": "markdown",
   "id": "019091f7-625b-48ac-932b-b5ccd8e00fbe",
   "metadata": {
    "jp-MarkdownHeadingCollapsed": true
   },
   "source": [
    "## Generate primary data"
   ]
  },
  {
   "cell_type": "code",
   "execution_count": null,
   "id": "8e2a26d3-2f60-4ff4-8879-142999e5a04b",
   "metadata": {},
   "outputs": [],
   "source": [
    "from core.generate_merged_primary_chars import merge_into_primary"
   ]
  },
  {
   "cell_type": "code",
   "execution_count": null,
   "id": "4a67c919-f555-4177-8080-9f7b6c323d2a",
   "metadata": {},
   "outputs": [],
   "source": []
  },
  {
   "cell_type": "code",
   "execution_count": null,
   "id": "2a53730c-28ea-4a19-a20e-6d02f17c3e04",
   "metadata": {},
   "outputs": [],
   "source": [
    "%%time\n",
    "merge_into_primary(region_id,\n",
    "    graph_dir,\n",
    "    buildings_dir,\n",
    "    streets_dir,\n",
    "    enclosures_dir,\n",
    "    tessellations_dir,\n",
    "    chars_dir)\n"
   ]
  },
  {
   "cell_type": "code",
   "execution_count": null,
   "id": "1cbc04ab-d513-487f-a8e4-5c3a89e5ba8a",
   "metadata": {},
   "outputs": [],
   "source": []
  },
  {
   "cell_type": "code",
   "execution_count": null,
   "id": "bae1a1f5-978c-4298-8785-03454e7f05a2",
   "metadata": {},
   "outputs": [],
   "source": []
  },
  {
   "cell_type": "markdown",
   "id": "976e5a73-f347-4f1e-956e-114f517ce647",
   "metadata": {},
   "source": [
    "## Generate morphotopes"
   ]
  },
  {
   "cell_type": "code",
   "execution_count": 7,
   "id": "ee4f21f9-e743-4a26-9648-da8259f1ed8b",
   "metadata": {},
   "outputs": [],
   "source": [
    "from core.generate_clusters import process_single_region_morphotopes"
   ]
  },
  {
   "cell_type": "code",
   "execution_count": 8,
   "id": "846dbeae-66c6-4174-aa36-58bb58506728",
   "metadata": {
    "scrolled": true
   },
   "outputs": [
    {
     "name": "stdout",
     "output_type": "stream",
     "text": [
      "2024-12-02 17:10:29.377606 ----Processing ------ 69333\n",
      "--------Generating lag----------\n",
      "--------Generating morphotopes---------- 75\n",
      "--------Dropping columns---------- ['stcSAl', 'stbOri', 'stcOri', 'stbCeA', 'ldkAre', 'ldkPer', 'lskCCo', 'lskERI', 'lskCWA', 'ltkOri', 'ltkWNB', 'likWBB', 'likWCe']\n",
      "--------Generating morphotopes data----------\n"
     ]
    }
   ],
   "source": [
    " process_single_region_morphotopes(region_id,\n",
    "            graph_dir,\n",
    "            buildings_dir,\n",
    "            streets_dir,\n",
    "            enclosures_dir,\n",
    "            tessellations_dir,\n",
    "            chars_dir, morphotopes_dir)"
   ]
  },
  {
   "cell_type": "code",
   "execution_count": null,
   "id": "6723d74c-e45a-44fe-a587-f3a459e3be8f",
   "metadata": {},
   "outputs": [],
   "source": []
  },
  {
   "cell_type": "code",
   "execution_count": null,
   "id": "c72e2597-7e6a-4d96-a31e-e63a967687f8",
   "metadata": {},
   "outputs": [],
   "source": []
  },
  {
   "cell_type": "code",
   "execution_count": null,
   "id": "12dcee72-a9b2-4203-8c10-94b53fa1fa2d",
   "metadata": {},
   "outputs": [],
   "source": []
  },
  {
   "cell_type": "code",
   "execution_count": null,
   "id": "bc392cd5-8020-45f6-beee-03b1a9d4de7d",
   "metadata": {},
   "outputs": [],
   "source": []
  },
  {
   "cell_type": "markdown",
   "id": "b9b6f55c-04ff-4bf0-bf24-53a2b0094a0e",
   "metadata": {},
   "source": [
    "## Process multiple regions"
   ]
  },
  {
   "cell_type": "code",
   "execution_count": 5,
   "id": "013f830b-1aa0-401f-936d-116da2e4afc8",
   "metadata": {},
   "outputs": [],
   "source": [
    "from core.generate_buildings import read_region_buildings, process_region_buildings\n",
    "from core.generate_streets import process_region_streets, process_single_region_streets\n",
    "from core.generate_elements import process_region_elements, generate_enclosures_representative_points, generate_tess\n",
    "from core.generate_ngraphs import process_region_graphs\n",
    "from core.generate_chars import process_single_region_chars\n",
    "from core.generate_merged_primary_chars import merge_into_primary\n",
    "from core.generate_clusters import process_single_region_morphotopes"
   ]
  },
  {
   "cell_type": "code",
   "execution_count": 6,
   "id": "848fc0bb-878b-4258-a439-f0a1d3e5d08d",
   "metadata": {},
   "outputs": [],
   "source": [
    "# # lithuania\n",
    "# regions_to_process = [139621, 139674, 139764, 140420, 141272, 141366, 142100, 143701, 145906,\n",
    "#        146285, 147112, 147634, 148018, 148085, 149997, 150044, 151676, 152081,\n",
    "#        152511]\n",
    "\n",
    "\n",
    "# ## czech socialist\n",
    "# regions_to_process = [ 55835,  61183,  61187,  63756,  64463,  66593,  67156,  67803,\n",
    "#         69333,  72507,  73735,  75472,  75642,  83538,  84297,  84962,\n",
    "#         93167,  97978, 100210, 102127, 103882, 105090, 107131]"
   ]
  },
  {
   "cell_type": "code",
   "execution_count": null,
   "id": "73ef76d1-da9b-42e8-9612-17630a5e573d",
   "metadata": {},
   "outputs": [],
   "source": []
  },
  {
   "cell_type": "code",
   "execution_count": null,
   "id": "c672a9ec-c494-47fc-9023-11666e0350a8",
   "metadata": {
    "scrolled": true
   },
   "outputs": [
    {
     "name": "stdout",
     "output_type": "stream",
     "text": [
      "55835\n"
     ]
    },
    {
     "name": "stderr",
     "output_type": "stream",
     "text": [
      "/home/krasen/urban_taxonomy/manual_deps/sgeop/sgeop/simplify.py:551: UserWarning: An error occured at location POINT (4523880.794008707 3016718.189207473). The artifact has not been simplified. The original message:\n",
      "can only convert an array of size 1 to a Python scalar\n",
      "  roads = simplify_singletons(\n",
      "/home/krasen/urban_taxonomy/manual_deps/momepy/momepy/coins.py:103: UserWarning: Lines are between points dict_keys([(4528156.877164154, 2995158.302805023), (4528157.597460956, 2995157.4556466816)]) identical. Please revise input data to ensure no lines are identical or overlapping. You can check for duplicates using `gdf.geometry.duplicated()`. Assumingan angle of 0 degrees.\n",
      "  self._best_link()\n",
      "/home/krasen/urban_taxonomy/manual_deps/momepy/momepy/coins.py:103: UserWarning: Lines are between points dict_keys([(4528158.317757758, 2995156.60848834), (4528157.597460956, 2995157.4556466816)]) identical. Please revise input data to ensure no lines are identical or overlapping. You can check for duplicates using `gdf.geometry.duplicated()`. Assumingan angle of 0 degrees.\n",
      "  self._best_link()\n"
     ]
    },
    {
     "name": "stdout",
     "output_type": "stream",
     "text": [
      "---- Processing region:  55835 2024-12-07 16:37:07.649703\n",
      "Retrying tesselation with less buildings, potentially changing building data.\n",
      "Dropping 2 buildings due to tesselation problems\n",
      "Built tess graph knn=1\n",
      "Built buildings graph knn=1\n",
      "Built streets graph knn=1\n",
      "Built enclosure graph knn=1\n"
     ]
    },
    {
     "name": "stderr",
     "output_type": "stream",
     "text": [
      "/home/krasen/urban_taxonomy/.pixi/envs/default/lib/python3.12/site-packages/libpysal/weights/weights.py:1685: UserWarning: The weights matrix is not fully connected: \n",
      " There are 29 disconnected components.\n",
      "  w = W(neighbors, weights, ids, silence_warnings=silence_warnings)\n"
     ]
    },
    {
     "name": "stdout",
     "output_type": "stream",
     "text": [
      "Built nodes graph knn=1\n",
      "2024-12-07 16:38:03.995707 ----Processing ------ 55835\n",
      "Processing streets\n",
      "Processing enclosures\n",
      "Processing buildings\n"
     ]
    },
    {
     "name": "stderr",
     "output_type": "stream",
     "text": [
      "/home/krasen/urban_taxonomy/manual_deps/momepy/momepy/functional/_shape.py:576: RuntimeWarning: Mean of empty slice\n",
      "  return np.nanmean(np.abs(90 - degrees[true_angles]))\n",
      "/home/krasen/urban_taxonomy/manual_deps/momepy/momepy/functional/_shape.py:737: RuntimeWarning: Mean of empty slice\n",
      "  return Series({\"mean\": np.nanmean(dists), \"std\": np.nanstd(dists)})\n",
      "/home/krasen/urban_taxonomy/.pixi/envs/default/lib/python3.12/site-packages/numpy/lib/_nanfunctions_impl.py:2035: RuntimeWarning: Degrees of freedom <= 0 for slice.\n",
      "  var = nanvar(a, axis=axis, dtype=dtype, out=out, ddof=ddof,\n"
     ]
    },
    {
     "name": "stdout",
     "output_type": "stream",
     "text": [
      "Processing tessellation\n",
      "Processing region 55835\n",
      "2024-12-07 16:39:51.199747 ----Processing ------ 55835\n",
      "--------Generating lag----------\n",
      "--------Generating morphotopes---------- 75\n",
      "--------Dropping columns---------- ['stcSAl', 'stbOri', 'stcOri', 'stbCeA', 'ldkAre', 'ldkPer', 'lskCCo', 'lskERI', 'lskCWA', 'ltkOri', 'ltkWNB', 'likWBB', 'likWCe']\n"
     ]
    },
    {
     "name": "stderr",
     "output_type": "stream",
     "text": [
      "/home/krasen/urban_taxonomy/.pixi/envs/default/lib/python3.12/site-packages/sklearn/utils/extmath.py:1137: RuntimeWarning: invalid value encountered in divide\n",
      "  updated_mean = (last_sum + new_sum) / updated_sample_count\n",
      "/home/krasen/urban_taxonomy/.pixi/envs/default/lib/python3.12/site-packages/sklearn/utils/extmath.py:1142: RuntimeWarning: invalid value encountered in divide\n",
      "  T = new_sum / new_sample_count\n",
      "/home/krasen/urban_taxonomy/.pixi/envs/default/lib/python3.12/site-packages/sklearn/utils/extmath.py:1162: RuntimeWarning: invalid value encountered in divide\n",
      "  new_unnormalized_variance -= correction**2 / new_sample_count\n"
     ]
    },
    {
     "name": "stdout",
     "output_type": "stream",
     "text": [
      "--------Generating morphotopes data----------\n",
      "61183\n"
     ]
    },
    {
     "name": "stderr",
     "output_type": "stream",
     "text": [
      "/home/krasen/urban_taxonomy/manual_deps/sgeop/sgeop/geometry.py:247: UserWarning: Could not create a connection as it would lead outside of the artifact.\n",
      "  additions, splits = snap_to_targets(\n",
      "/home/krasen/urban_taxonomy/manual_deps/sgeop/sgeop/simplify.py:551: UserWarning: An error occured at location POINT (4580181.909368042 2994070.269688278). The artifact has not been simplified. The original message:\n",
      "can only convert an array of size 1 to a Python scalar\n",
      "  roads = simplify_singletons(\n",
      "/home/krasen/urban_taxonomy/manual_deps/sgeop/sgeop/simplify.py:551: UserWarning: An error occured at location POINT (4566063.666035604 2984531.6002843915). The artifact has not been simplified. The original message:\n",
      "can only convert an array of size 1 to a Python scalar\n",
      "  roads = simplify_singletons(\n",
      "/home/krasen/urban_taxonomy/manual_deps/sgeop/sgeop/geometry.py:247: UserWarning: Could not create a connection as it would lead outside of the artifact.\n",
      "  additions, splits = snap_to_targets(\n",
      "/home/krasen/urban_taxonomy/manual_deps/sgeop/sgeop/simplify.py:551: UserWarning: An error occured at location POINT (4556327.181897463 2993720.5295156166). The artifact has not been simplified. The original message:\n",
      "too many indices for array: array is 1-dimensional, but 2 were indexed\n",
      "  roads = simplify_singletons(\n"
     ]
    },
    {
     "name": "stdout",
     "output_type": "stream",
     "text": [
      "---- Processing region:  61183 2024-12-07 16:41:47.606238\n",
      "Retrying tesselation with less buildings, potentially changing building data.\n",
      "Dropping 1 buildings due to tesselation problems\n",
      "Built tess graph knn=1\n",
      "Built buildings graph knn=1\n",
      "Built streets graph knn=1\n",
      "Built enclosure graph knn=1\n"
     ]
    },
    {
     "name": "stderr",
     "output_type": "stream",
     "text": [
      "/home/krasen/urban_taxonomy/.pixi/envs/default/lib/python3.12/site-packages/libpysal/weights/weights.py:1685: UserWarning: The weights matrix is not fully connected: \n",
      " There are 55 disconnected components.\n",
      "  w = W(neighbors, weights, ids, silence_warnings=silence_warnings)\n"
     ]
    },
    {
     "name": "stdout",
     "output_type": "stream",
     "text": [
      "Built nodes graph knn=1\n",
      "2024-12-07 16:43:55.727423 ----Processing ------ 61183\n",
      "Processing streets\n",
      "Processing enclosures\n",
      "Processing buildings\n"
     ]
    },
    {
     "name": "stderr",
     "output_type": "stream",
     "text": [
      "/home/krasen/urban_taxonomy/manual_deps/momepy/momepy/functional/_shape.py:576: RuntimeWarning: Mean of empty slice\n",
      "  return np.nanmean(np.abs(90 - degrees[true_angles]))\n",
      "/home/krasen/urban_taxonomy/manual_deps/momepy/momepy/functional/_shape.py:737: RuntimeWarning: Mean of empty slice\n",
      "  return Series({\"mean\": np.nanmean(dists), \"std\": np.nanstd(dists)})\n",
      "/home/krasen/urban_taxonomy/.pixi/envs/default/lib/python3.12/site-packages/numpy/lib/_nanfunctions_impl.py:2035: RuntimeWarning: Degrees of freedom <= 0 for slice.\n",
      "  var = nanvar(a, axis=axis, dtype=dtype, out=out, ddof=ddof,\n"
     ]
    },
    {
     "name": "stdout",
     "output_type": "stream",
     "text": [
      "Processing tessellation\n",
      "Processing region 61183\n",
      "2024-12-07 16:48:11.838786 ----Processing ------ 61183\n",
      "--------Generating lag----------\n",
      "--------Generating morphotopes---------- 75\n",
      "--------Dropping columns---------- ['stcSAl', 'stbOri', 'stcOri', 'stbCeA', 'ldkAre', 'ldkPer', 'lskCCo', 'lskERI', 'lskCWA', 'ltkOri', 'ltkWNB', 'likWBB', 'likWCe']\n",
      "--------Generating morphotopes data----------\n",
      "61187\n"
     ]
    },
    {
     "name": "stderr",
     "output_type": "stream",
     "text": [
      "/home/krasen/urban_taxonomy/manual_deps/sgeop/sgeop/simplify.py:551: UserWarning: An error occured at location POINT (4565539.159029277 3048886.6537229903). The artifact has not been simplified. The original message:\n",
      "can only convert an array of size 1 to a Python scalar\n",
      "  roads = simplify_singletons(\n"
     ]
    },
    {
     "name": "stdout",
     "output_type": "stream",
     "text": [
      "---- Processing region:  61187 2024-12-07 16:49:38.445396\n",
      "Retrying tesselation with less buildings, potentially changing building data.\n",
      "Dropping 1 buildings due to tesselation problems\n",
      "Built tess graph knn=1\n",
      "Built buildings graph knn=1\n",
      "Built streets graph knn=1\n",
      "Built enclosure graph knn=1\n"
     ]
    },
    {
     "name": "stderr",
     "output_type": "stream",
     "text": [
      "/home/krasen/urban_taxonomy/.pixi/envs/default/lib/python3.12/site-packages/libpysal/weights/weights.py:1685: UserWarning: The weights matrix is not fully connected: \n",
      " There are 39 disconnected components.\n",
      "  w = W(neighbors, weights, ids, silence_warnings=silence_warnings)\n"
     ]
    },
    {
     "name": "stdout",
     "output_type": "stream",
     "text": [
      "Built nodes graph knn=1\n",
      "2024-12-07 16:50:26.429986 ----Processing ------ 61187\n",
      "Processing streets\n",
      "Processing enclosures\n",
      "Processing buildings\n"
     ]
    },
    {
     "name": "stderr",
     "output_type": "stream",
     "text": [
      "/home/krasen/urban_taxonomy/manual_deps/momepy/momepy/functional/_shape.py:576: RuntimeWarning: Mean of empty slice\n",
      "  return np.nanmean(np.abs(90 - degrees[true_angles]))\n",
      "/home/krasen/urban_taxonomy/manual_deps/momepy/momepy/functional/_shape.py:737: RuntimeWarning: Mean of empty slice\n",
      "  return Series({\"mean\": np.nanmean(dists), \"std\": np.nanstd(dists)})\n",
      "/home/krasen/urban_taxonomy/.pixi/envs/default/lib/python3.12/site-packages/numpy/lib/_nanfunctions_impl.py:2035: RuntimeWarning: Degrees of freedom <= 0 for slice.\n",
      "  var = nanvar(a, axis=axis, dtype=dtype, out=out, ddof=ddof,\n"
     ]
    },
    {
     "name": "stdout",
     "output_type": "stream",
     "text": [
      "Processing tessellation\n",
      "Processing region 61187\n",
      "2024-12-07 16:52:08.473103 ----Processing ------ 61187\n",
      "--------Generating lag----------\n",
      "--------Generating morphotopes---------- 75\n",
      "--------Dropping columns---------- ['stcSAl', 'stbOri', 'stcOri', 'stbCeA', 'ldkAre', 'ldkPer', 'lskCCo', 'lskERI', 'lskCWA', 'ltkOri', 'ltkWNB', 'likWBB', 'likWCe']\n"
     ]
    },
    {
     "name": "stderr",
     "output_type": "stream",
     "text": [
      "/home/krasen/urban_taxonomy/.pixi/envs/default/lib/python3.12/site-packages/sklearn/utils/extmath.py:1137: RuntimeWarning: invalid value encountered in divide\n",
      "  updated_mean = (last_sum + new_sum) / updated_sample_count\n",
      "/home/krasen/urban_taxonomy/.pixi/envs/default/lib/python3.12/site-packages/sklearn/utils/extmath.py:1142: RuntimeWarning: invalid value encountered in divide\n",
      "  T = new_sum / new_sample_count\n",
      "/home/krasen/urban_taxonomy/.pixi/envs/default/lib/python3.12/site-packages/sklearn/utils/extmath.py:1162: RuntimeWarning: invalid value encountered in divide\n",
      "  new_unnormalized_variance -= correction**2 / new_sample_count\n"
     ]
    },
    {
     "name": "stdout",
     "output_type": "stream",
     "text": [
      "--------Generating morphotopes data----------\n",
      "63756\n"
     ]
    },
    {
     "name": "stderr",
     "output_type": "stream",
     "text": [
      "/home/krasen/urban_taxonomy/manual_deps/sgeop/sgeop/simplify.py:200: UserWarning: Could not create a connection as it would lead outside of the artifact.\n",
      "  nx_gx_cluster(\n"
     ]
    },
    {
     "name": "stdout",
     "output_type": "stream",
     "text": [
      "---- Processing region:  63756 2024-12-07 16:52:42.753664\n",
      "Built tess graph knn=1\n",
      "Built buildings graph knn=1\n",
      "Built streets graph knn=1\n",
      "Built enclosure graph knn=1\n",
      "Built nodes graph knn=1\n"
     ]
    },
    {
     "name": "stderr",
     "output_type": "stream",
     "text": [
      "/home/krasen/urban_taxonomy/.pixi/envs/default/lib/python3.12/site-packages/libpysal/weights/weights.py:1685: UserWarning: The weights matrix is not fully connected: \n",
      " There are 25 disconnected components.\n",
      "  w = W(neighbors, weights, ids, silence_warnings=silence_warnings)\n"
     ]
    },
    {
     "name": "stdout",
     "output_type": "stream",
     "text": [
      "2024-12-07 16:52:56.121083 ----Processing ------ 63756\n",
      "Processing streets\n",
      "Processing enclosures\n",
      "Processing buildings\n"
     ]
    },
    {
     "name": "stderr",
     "output_type": "stream",
     "text": [
      "/home/krasen/urban_taxonomy/manual_deps/momepy/momepy/functional/_shape.py:576: RuntimeWarning: Mean of empty slice\n",
      "  return np.nanmean(np.abs(90 - degrees[true_angles]))\n",
      "/home/krasen/urban_taxonomy/manual_deps/momepy/momepy/functional/_shape.py:737: RuntimeWarning: Mean of empty slice\n",
      "  return Series({\"mean\": np.nanmean(dists), \"std\": np.nanstd(dists)})\n",
      "/home/krasen/urban_taxonomy/.pixi/envs/default/lib/python3.12/site-packages/numpy/lib/_nanfunctions_impl.py:2035: RuntimeWarning: Degrees of freedom <= 0 for slice.\n",
      "  var = nanvar(a, axis=axis, dtype=dtype, out=out, ddof=ddof,\n"
     ]
    },
    {
     "name": "stdout",
     "output_type": "stream",
     "text": [
      "Processing tessellation\n",
      "Processing region 63756\n",
      "2024-12-07 16:53:49.847955 ----Processing ------ 63756\n",
      "--------Generating lag----------\n",
      "--------Generating morphotopes---------- 75\n",
      "--------Dropping columns---------- ['stcSAl', 'stbOri', 'stcOri', 'stbCeA', 'ldkAre', 'ldkPer', 'lskCCo', 'lskERI', 'lskCWA', 'ltkOri', 'ltkWNB', 'likWBB', 'likWCe']\n",
      "--------Generating morphotopes data----------\n",
      "64463\n",
      "---- Processing region:  64463 2024-12-07 16:54:18.968866\n",
      "Built tess graph knn=1\n",
      "Built buildings graph knn=1\n",
      "Built streets graph knn=1\n",
      "Built enclosure graph knn=1\n"
     ]
    },
    {
     "name": "stderr",
     "output_type": "stream",
     "text": [
      "/home/krasen/urban_taxonomy/.pixi/envs/default/lib/python3.12/site-packages/libpysal/weights/weights.py:1685: UserWarning: The weights matrix is not fully connected: \n",
      " There are 17 disconnected components.\n",
      "  w = W(neighbors, weights, ids, silence_warnings=silence_warnings)\n"
     ]
    },
    {
     "name": "stdout",
     "output_type": "stream",
     "text": [
      "Built nodes graph knn=1\n",
      "2024-12-07 16:54:42.050056 ----Processing ------ 64463\n",
      "Processing streets\n",
      "Processing enclosures\n",
      "Processing buildings\n"
     ]
    },
    {
     "name": "stderr",
     "output_type": "stream",
     "text": [
      "/home/krasen/urban_taxonomy/manual_deps/momepy/momepy/functional/_shape.py:576: RuntimeWarning: Mean of empty slice\n",
      "  return np.nanmean(np.abs(90 - degrees[true_angles]))\n",
      "/home/krasen/urban_taxonomy/manual_deps/momepy/momepy/functional/_shape.py:737: RuntimeWarning: Mean of empty slice\n",
      "  return Series({\"mean\": np.nanmean(dists), \"std\": np.nanstd(dists)})\n",
      "/home/krasen/urban_taxonomy/.pixi/envs/default/lib/python3.12/site-packages/numpy/lib/_nanfunctions_impl.py:2035: RuntimeWarning: Degrees of freedom <= 0 for slice.\n",
      "  var = nanvar(a, axis=axis, dtype=dtype, out=out, ddof=ddof,\n"
     ]
    },
    {
     "name": "stdout",
     "output_type": "stream",
     "text": [
      "Processing tessellation\n",
      "Processing region 64463\n",
      "2024-12-07 16:56:13.528022 ----Processing ------ 64463\n",
      "--------Generating lag----------\n",
      "--------Generating morphotopes---------- 75\n",
      "--------Dropping columns---------- ['stcSAl', 'stbOri', 'stcOri', 'stbCeA', 'ldkAre', 'ldkPer', 'lskCCo', 'lskERI', 'lskCWA', 'ltkOri', 'ltkWNB', 'likWBB', 'likWCe']\n",
      "--------Generating morphotopes data----------\n",
      "66593\n",
      "---- Processing region:  66593 2024-12-07 16:56:36.474461\n",
      "Built tess graph knn=1\n",
      "Built buildings graph knn=1\n",
      "Built streets graph knn=1\n",
      "Built enclosure graph knn=1\n",
      "Built nodes graph knn=1\n",
      "2024-12-07 16:56:47.990929 ----Processing ------ 66593\n",
      "Processing streets\n"
     ]
    },
    {
     "name": "stderr",
     "output_type": "stream",
     "text": [
      "/home/krasen/urban_taxonomy/.pixi/envs/default/lib/python3.12/site-packages/libpysal/weights/weights.py:1685: UserWarning: The weights matrix is not fully connected: \n",
      " There are 12 disconnected components.\n",
      "  w = W(neighbors, weights, ids, silence_warnings=silence_warnings)\n"
     ]
    },
    {
     "name": "stdout",
     "output_type": "stream",
     "text": [
      "Processing enclosures\n",
      "Processing buildings\n"
     ]
    },
    {
     "name": "stderr",
     "output_type": "stream",
     "text": [
      "/home/krasen/urban_taxonomy/manual_deps/momepy/momepy/functional/_shape.py:576: RuntimeWarning: Mean of empty slice\n",
      "  return np.nanmean(np.abs(90 - degrees[true_angles]))\n",
      "/home/krasen/urban_taxonomy/manual_deps/momepy/momepy/functional/_shape.py:737: RuntimeWarning: Mean of empty slice\n",
      "  return Series({\"mean\": np.nanmean(dists), \"std\": np.nanstd(dists)})\n",
      "/home/krasen/urban_taxonomy/.pixi/envs/default/lib/python3.12/site-packages/numpy/lib/_nanfunctions_impl.py:2035: RuntimeWarning: Degrees of freedom <= 0 for slice.\n",
      "  var = nanvar(a, axis=axis, dtype=dtype, out=out, ddof=ddof,\n"
     ]
    },
    {
     "name": "stdout",
     "output_type": "stream",
     "text": [
      "Processing tessellation\n",
      "Processing region 66593\n",
      "2024-12-07 16:57:47.557385 ----Processing ------ 66593\n",
      "--------Generating lag----------\n",
      "--------Generating morphotopes---------- 75\n",
      "--------Dropping columns---------- ['stcSAl', 'stbOri', 'stcOri', 'stbCeA', 'ldkAre', 'ldkPer', 'lskCCo', 'lskERI', 'lskCWA', 'ltkOri', 'ltkWNB', 'likWBB', 'likWCe']\n",
      "--------Generating morphotopes data----------\n",
      "67156\n"
     ]
    },
    {
     "name": "stderr",
     "output_type": "stream",
     "text": [
      "/home/krasen/urban_taxonomy/manual_deps/sgeop/sgeop/simplify.py:200: UserWarning: Could not create a connection as it would lead outside of the artifact.\n",
      "  nx_gx_cluster(\n",
      "/home/krasen/urban_taxonomy/manual_deps/sgeop/sgeop/simplify.py:200: UserWarning: Could not create a connection as it would lead outside of the artifact.\n",
      "  nx_gx_cluster(\n",
      "/home/krasen/urban_taxonomy/manual_deps/sgeop/sgeop/simplify.py:200: UserWarning: Could not create a connection as it would lead outside of the artifact.\n",
      "  nx_gx_cluster(\n"
     ]
    },
    {
     "name": "stdout",
     "output_type": "stream",
     "text": [
      "---- Processing region:  67156 2024-12-07 16:58:19.501077\n",
      "Built tess graph knn=1\n",
      "Built buildings graph knn=1\n",
      "Built streets graph knn=1\n",
      "Built enclosure graph knn=1\n"
     ]
    },
    {
     "name": "stderr",
     "output_type": "stream",
     "text": [
      "/home/krasen/urban_taxonomy/.pixi/envs/default/lib/python3.12/site-packages/libpysal/weights/weights.py:1685: UserWarning: The weights matrix is not fully connected: \n",
      " There are 32 disconnected components.\n",
      "  w = W(neighbors, weights, ids, silence_warnings=silence_warnings)\n"
     ]
    },
    {
     "name": "stdout",
     "output_type": "stream",
     "text": [
      "Built nodes graph knn=1\n",
      "2024-12-07 16:58:37.838023 ----Processing ------ 67156\n",
      "Processing streets\n",
      "Processing enclosures\n",
      "Processing buildings\n"
     ]
    },
    {
     "name": "stderr",
     "output_type": "stream",
     "text": [
      "/home/krasen/urban_taxonomy/manual_deps/momepy/momepy/functional/_shape.py:576: RuntimeWarning: Mean of empty slice\n",
      "  return np.nanmean(np.abs(90 - degrees[true_angles]))\n",
      "/home/krasen/urban_taxonomy/manual_deps/momepy/momepy/functional/_shape.py:737: RuntimeWarning: Mean of empty slice\n",
      "  return Series({\"mean\": np.nanmean(dists), \"std\": np.nanstd(dists)})\n",
      "/home/krasen/urban_taxonomy/.pixi/envs/default/lib/python3.12/site-packages/numpy/lib/_nanfunctions_impl.py:2035: RuntimeWarning: Degrees of freedom <= 0 for slice.\n",
      "  var = nanvar(a, axis=axis, dtype=dtype, out=out, ddof=ddof,\n"
     ]
    },
    {
     "name": "stdout",
     "output_type": "stream",
     "text": [
      "Processing tessellation\n",
      "Processing region 67156\n",
      "2024-12-07 16:59:47.987095 ----Processing ------ 67156\n",
      "--------Generating lag----------\n",
      "--------Generating morphotopes---------- 75\n",
      "--------Dropping columns---------- ['stcSAl', 'stbOri', 'stcOri', 'stbCeA', 'ldkAre', 'ldkPer', 'lskCCo', 'lskERI', 'lskCWA', 'ltkOri', 'ltkWNB', 'likWBB', 'likWCe']\n",
      "--------Generating morphotopes data----------\n",
      "67803\n"
     ]
    }
   ],
   "source": [
    "for region_id in regions_to_process:\n",
    "\n",
    "    print(region_id)\n",
    "    # # buildings\n",
    "    # buildings = gpd.read_parquet(regions_buildings_dir + f'buildings_{region_id}.pq')\n",
    "    # buildings = process_region_buildings(buildings, True, simplification_tolerance=.1, merge_limit=25)\n",
    "    # buildings.to_parquet(buildings_dir + f\"buildings_{region_id}.parquet\")\n",
    "\n",
    "    ## processs streets\n",
    "    streets = process_region_streets(region_id, overture_streets_dir, buildings_dir)\n",
    "    streets.to_parquet(streets_dir + f'streets_{region_id}.parquet')\n",
    "\n",
    "    # elements\n",
    "    enclosures, tesselations = process_region_elements(buildings_dir, streets_dir, region_id)\n",
    "    enclosures.to_parquet(enclosures_dir + f\"enclosure_{region_id}.parquet\")\n",
    "    tesselations.to_parquet(\n",
    "        tessellations_dir + f\"tessellation_{region_id}.parquet\"\n",
    "    )\n",
    "\n",
    "    #graphs\n",
    "    process_region_graphs(\n",
    "    region_id,\n",
    "    graph_dir,\n",
    "    buildings_dir,\n",
    "    streets_dir,\n",
    "    enclosures_dir,\n",
    "    tessellations_dir,\n",
    "    )\n",
    "\n",
    "    #chars\n",
    "    process_single_region_chars(\n",
    "        region_id,\n",
    "        graph_dir,\n",
    "        buildings_dir,\n",
    "        streets_dir,\n",
    "        enclosures_dir,\n",
    "        tessellations_dir,\n",
    "        chars_dir\n",
    "    )\n",
    "\n",
    "    # #primary merge\n",
    "        merge_into_primary(region_id,\n",
    "            graph_dir,\n",
    "            buildings_dir,\n",
    "            streets_dir,\n",
    "            enclosures_dir,\n",
    "            tessellations_dir,\n",
    "            chars_dir)\n",
    "    \n",
    "        # # morphotope\n",
    "        process_single_region_morphotopes(region_id,\n",
    "            graph_dir,\n",
    "            buildings_dir,\n",
    "            streets_dir,\n",
    "            enclosures_dir,\n",
    "            tessellations_dir,\n",
    "            chars_dir, morphotopes_dir)\n",
    "        "
   ]
  },
  {
   "cell_type": "code",
   "execution_count": null,
   "id": "e21ff2cd-dca5-402e-8dbe-f3f40a4fe62d",
   "metadata": {},
   "outputs": [],
   "source": []
  },
  {
   "cell_type": "code",
   "execution_count": null,
   "id": "5c04d19b-ee0a-4189-9cfa-83e8d3bd1799",
   "metadata": {},
   "outputs": [],
   "source": []
  },
  {
   "cell_type": "code",
   "execution_count": null,
   "id": "8f4adedf-cd9a-4f08-8195-6654e20aeb11",
   "metadata": {},
   "outputs": [],
   "source": []
  }
 ],
 "metadata": {
  "kernelspec": {
   "display_name": "Python 3 (ipykernel)",
   "language": "python",
   "name": "python3"
  },
  "language_info": {
   "codemirror_mode": {
    "name": "ipython",
    "version": 3
   },
   "file_extension": ".py",
   "mimetype": "text/x-python",
   "name": "python",
   "nbconvert_exporter": "python",
   "pygments_lexer": "ipython3",
   "version": "3.12.8"
  }
 },
 "nbformat": 4,
 "nbformat_minor": 5
}
