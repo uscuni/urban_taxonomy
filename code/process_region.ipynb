{
 "cells": [
  {
   "cell_type": "code",
   "execution_count": 1,
   "id": "b46c8a5f-40bf-4312-b39e-1f29bbcbb262",
   "metadata": {},
   "outputs": [],
   "source": [
    "import gc\n",
    "import glob\n",
    "\n",
    "import geopandas as gpd\n",
    "import momepy as mm\n",
    "\n",
    "import numpy as np\n",
    "import pandas as pd\n",
    "import shapely\n",
    "from libpysal.graph import Graph, read_parquet\n",
    "import datetime"
   ]
  },
  {
   "cell_type": "code",
   "execution_count": null,
   "id": "ba2806de-b143-4f80-88e5-dda39d213cf6",
   "metadata": {},
   "outputs": [],
   "source": []
  },
  {
   "cell_type": "code",
   "execution_count": 2,
   "id": "06df3676-94c7-4477-8abc-cdeb02c813c6",
   "metadata": {},
   "outputs": [],
   "source": [
    "regions_buildings_dir = '/data/uscuni-ulce/regions/buildings/'\n",
    "buildings_dir = '/data/uscuni-ulce/processed_data/buildings/'\n",
    "overture_streets_dir = '/data/uscuni-ulce/overture_streets/'\n",
    "streets_dir = '/data/uscuni-ulce/processed_data/streets/'\n",
    "enclosures_dir = '/data/uscuni-ulce/processed_data/enclosures/'\n",
    "tessellations_dir = '/data/uscuni-ulce/processed_data/tessellations/'\n",
    "graph_dir = '/data/uscuni-ulce/processed_data/neigh_graphs/'\n",
    "chars_dir = '/data/uscuni-ulce/processed_data/chars/'\n",
    "simplfied_buildings_dir = '/data/uscuni-ulce/processed_data/simplified_buildings/'\n",
    "\n",
    "\n",
    "regions_datadir = \"/data/uscuni-ulce/\"\n",
    "eubucco_files = glob.glob(regions_datadir + \"eubucco_raw/*\")"
   ]
  },
  {
   "cell_type": "code",
   "execution_count": null,
   "id": "ebb8307c-d05d-4aef-a699-f85f74c76a32",
   "metadata": {},
   "outputs": [],
   "source": []
  },
  {
   "cell_type": "code",
   "execution_count": null,
   "id": "a97456f4-e322-4f32-8a4a-6e97d2044e44",
   "metadata": {},
   "outputs": [],
   "source": []
  },
  {
   "cell_type": "code",
   "execution_count": null,
   "id": "abcd0e79-8654-408e-b1b7-7d342f8a766b",
   "metadata": {},
   "outputs": [],
   "source": []
  },
  {
   "cell_type": "code",
   "execution_count": null,
   "id": "e706dfbf-9b67-4bae-9801-0bfa14a72071",
   "metadata": {},
   "outputs": [],
   "source": []
  },
  {
   "cell_type": "code",
   "execution_count": 3,
   "id": "6506fac2-eb4b-4c15-948b-3bb55e2c7889",
   "metadata": {},
   "outputs": [],
   "source": [
    "# df = pd.read_parquet('/data/uscuni-ulce/regions/cadastre_id_to_region.parquet')\n",
    "# df.region.value_counts()\n",
    "# '''\n",
    "# region\n",
    "# 4.0         11084489\n",
    "# 107131.0     3078558\n",
    "# 16242.0      1457482\n",
    "# 4214.0       1389195\n",
    "# 8707.0       1220411\n",
    "#               ...   \n",
    "# 7727.0         12682\n",
    "# 6741.0         12235\n",
    "# 10970.0        12170\n",
    "# 10847.0        10871\n",
    "# 15545.0        10409\n",
    "# Name: count, Length: 828, dtype: int64\n",
    "\n",
    "\n",
    "\n",
    "# df.region.value_counts().iloc[:20].index.values.astype(int)\n",
    "\n",
    "# array([     4, 107131,  16242,   4214,   8707,  51289, 114311,  55763,\n",
    "#         14679,  62954,  10579,  38679,  86873,  34266,     10,  80404,\n",
    "#         18557,  69333,   1154, 130658])\n",
    "# '''\n",
    "\n",
    "##"
   ]
  },
  {
   "cell_type": "code",
   "execution_count": null,
   "id": "7de94bbb-f1e4-4aa0-80cb-59572a22b530",
   "metadata": {},
   "outputs": [],
   "source": []
  },
  {
   "cell_type": "code",
   "execution_count": null,
   "id": "a86463d9-31d3-4b40-baf2-bd322dc59f79",
   "metadata": {},
   "outputs": [],
   "source": []
  },
  {
   "cell_type": "code",
   "execution_count": 4,
   "id": "15ce7e3e-333d-474b-8d21-29d06a0b486a",
   "metadata": {},
   "outputs": [],
   "source": [
    "# 107131 - krakow\n",
    "# 86873 = vienna\n",
    "# 69333 = prague\n",
    "# munich\n",
    "# 4 - rhineruhr\n",
    "# 55763 - berlin\n",
    "#bratislava - 99886\n",
    "# freiburg - 5883\n",
    " # hamburg - 16242\n",
    "# munich - 38679"
   ]
  },
  {
   "cell_type": "code",
   "execution_count": 9,
   "id": "6fae1366-68fd-44f0-9f2b-1c051751858a",
   "metadata": {},
   "outputs": [],
   "source": [
    "region_name = 5883\n",
    "region_hulls = gpd.read_parquet(\n",
    "        regions_datadir + \"regions/\" + \"cadastre_regions_hull.parquet\"\n",
    "    )\n",
    "region_id, region_hull = region_hulls.loc[region_name].name, region_hulls.loc[region_name].convex_hull"
   ]
  },
  {
   "cell_type": "code",
   "execution_count": 10,
   "id": "1306ce98-7819-4dea-8ea6-f92eb83b8b05",
   "metadata": {},
   "outputs": [],
   "source": [
    "# region_hulls.explore()"
   ]
  },
  {
   "cell_type": "code",
   "execution_count": null,
   "id": "34334bbf-5794-4ea0-8f67-3fc2dbe1647b",
   "metadata": {},
   "outputs": [],
   "source": []
  },
  {
   "cell_type": "markdown",
   "id": "7e12723b-0bba-40af-aae2-ca69bbc8b28d",
   "metadata": {
    "jp-MarkdownHeadingCollapsed": true
   },
   "source": [
    "## Buildings\n"
   ]
  },
  {
   "cell_type": "code",
   "execution_count": 7,
   "id": "932b7126-34d5-47eb-a83a-07ba6dbba127",
   "metadata": {},
   "outputs": [],
   "source": [
    "from core.generate_buildings import read_region_buildings, process_region_buildings"
   ]
  },
  {
   "cell_type": "code",
   "execution_count": 8,
   "id": "38f893be-eba0-42f2-9cd0-91d3fcf5753a",
   "metadata": {},
   "outputs": [
    {
     "name": "stdout",
     "output_type": "stream",
     "text": [
      "CPU times: user 52.3 ms, sys: 29 ms, total: 81.3 ms\n",
      "Wall time: 77.9 ms\n"
     ]
    }
   ],
   "source": [
    "%%time\n",
    "\n",
    "buildings = gpd.read_parquet(regions_buildings_dir + f'buildings_{region_id}.pq')"
   ]
  },
  {
   "cell_type": "code",
   "execution_count": null,
   "id": "4bbbaa4c-e641-46a8-a2f0-44a2d554633d",
   "metadata": {},
   "outputs": [],
   "source": []
  },
  {
   "cell_type": "code",
   "execution_count": null,
   "id": "d247471d-b962-42bc-b295-c1b37af06284",
   "metadata": {},
   "outputs": [],
   "source": []
  },
  {
   "cell_type": "code",
   "execution_count": null,
   "id": "e693265a-53f5-49c3-94cd-35ab7500bbd9",
   "metadata": {},
   "outputs": [],
   "source": []
  },
  {
   "cell_type": "code",
   "execution_count": 9,
   "id": "89550a09-e7e3-4ee0-b429-d7e04d526c71",
   "metadata": {},
   "outputs": [
    {
     "name": "stdout",
     "output_type": "stream",
     "text": [
      "Percent polygons:  1.0\n"
     ]
    },
    {
     "name": "stderr",
     "output_type": "stream",
     "text": [
      "\n",
      "KeyboardInterrupt\n",
      "\n"
     ]
    }
   ],
   "source": [
    "%%time\n",
    "\n",
    "buildings = process_region_buildings(buildings, True, simplification_tolerance=.1, merge_limit=25)"
   ]
  },
  {
   "cell_type": "code",
   "execution_count": null,
   "id": "b3c6bbd0-d18e-43cc-a61d-123607dbf9fc",
   "metadata": {},
   "outputs": [],
   "source": []
  },
  {
   "cell_type": "code",
   "execution_count": 10,
   "id": "72862477-d5e1-4651-88c7-40ee3abcfbde",
   "metadata": {},
   "outputs": [],
   "source": [
    "\n",
    "# orig_buildings = gpd.read_parquet(regions_buildings_dir + f'buildings_{region_id}.pq')\n",
    "# dropped_buildings = orig_buildings[~orig_buildings['iid'].isin(buildings['iid'])]\n",
    "\n",
    "\n",
    "# m = dropped_buildings.explore(color='red')\n",
    "# m = buildings.explore(m=m)\n",
    "# m"
   ]
  },
  {
   "cell_type": "code",
   "execution_count": null,
   "id": "b0831db6-599a-480c-bec0-6217aa05146f",
   "metadata": {},
   "outputs": [],
   "source": []
  },
  {
   "cell_type": "code",
   "execution_count": null,
   "id": "ea709bea-abd2-4e47-96df-12017d4efb80",
   "metadata": {},
   "outputs": [],
   "source": []
  },
  {
   "cell_type": "code",
   "execution_count": 11,
   "id": "a1c53c00-58c8-4087-8f47-6e24d5476c66",
   "metadata": {},
   "outputs": [],
   "source": [
    "# buildings.to_parquet(simplfied_buildings_dir + f\"buildings_{region_id}.parquet\")"
   ]
  },
  {
   "cell_type": "code",
   "execution_count": 12,
   "id": "ba4dbb84-6b9c-46d2-8501-87a49feabd7f",
   "metadata": {},
   "outputs": [
    {
     "ename": "KeyboardInterrupt",
     "evalue": "",
     "output_type": "error",
     "traceback": [
      "\u001b[0;31m---------------------------------------------------------------------------\u001b[0m",
      "\u001b[0;31mKeyboardInterrupt\u001b[0m                         Traceback (most recent call last)",
      "Cell \u001b[0;32mIn[12], line 1\u001b[0m\n\u001b[0;32m----> 1\u001b[0m \u001b[43mbuildings\u001b[49m\u001b[38;5;241;43m.\u001b[39;49m\u001b[43mto_parquet\u001b[49m\u001b[43m(\u001b[49m\u001b[43mbuildings_dir\u001b[49m\u001b[43m \u001b[49m\u001b[38;5;241;43m+\u001b[39;49m\u001b[43m \u001b[49m\u001b[38;5;124;43mf\u001b[39;49m\u001b[38;5;124;43m\"\u001b[39;49m\u001b[38;5;124;43mbuildings_\u001b[39;49m\u001b[38;5;132;43;01m{\u001b[39;49;00m\u001b[43mregion_id\u001b[49m\u001b[38;5;132;43;01m}\u001b[39;49;00m\u001b[38;5;124;43m.parquet\u001b[39;49m\u001b[38;5;124;43m\"\u001b[39;49m\u001b[43m)\u001b[49m\n",
      "File \u001b[0;32m~/urban_taxonomy/.pixi/envs/default/lib/python3.12/site-packages/geopandas/geodataframe.py:1377\u001b[0m, in \u001b[0;36mGeoDataFrame.to_parquet\u001b[0;34m(self, path, index, compression, geometry_encoding, write_covering_bbox, schema_version, **kwargs)\u001b[0m\n\u001b[1;32m   1370\u001b[0m     \u001b[38;5;28;01mraise\u001b[39;00m \u001b[38;5;167;01mValueError\u001b[39;00m(\n\u001b[1;32m   1371\u001b[0m         \u001b[38;5;124m\"\u001b[39m\u001b[38;5;124mGeoPandas only supports using pyarrow as the engine for \u001b[39m\u001b[38;5;124m\"\u001b[39m\n\u001b[1;32m   1372\u001b[0m         \u001b[38;5;124mf\u001b[39m\u001b[38;5;124m\"\u001b[39m\u001b[38;5;124mto_parquet: \u001b[39m\u001b[38;5;132;01m{\u001b[39;00mengine\u001b[38;5;132;01m!r}\u001b[39;00m\u001b[38;5;124m passed instead.\u001b[39m\u001b[38;5;124m\"\u001b[39m\n\u001b[1;32m   1373\u001b[0m     )\n\u001b[1;32m   1375\u001b[0m \u001b[38;5;28;01mfrom\u001b[39;00m \u001b[38;5;21;01mgeopandas\u001b[39;00m\u001b[38;5;21;01m.\u001b[39;00m\u001b[38;5;21;01mio\u001b[39;00m\u001b[38;5;21;01m.\u001b[39;00m\u001b[38;5;21;01marrow\u001b[39;00m \u001b[38;5;28;01mimport\u001b[39;00m _to_parquet\n\u001b[0;32m-> 1377\u001b[0m \u001b[43m_to_parquet\u001b[49m\u001b[43m(\u001b[49m\n\u001b[1;32m   1378\u001b[0m \u001b[43m    \u001b[49m\u001b[38;5;28;43mself\u001b[39;49m\u001b[43m,\u001b[49m\n\u001b[1;32m   1379\u001b[0m \u001b[43m    \u001b[49m\u001b[43mpath\u001b[49m\u001b[43m,\u001b[49m\n\u001b[1;32m   1380\u001b[0m \u001b[43m    \u001b[49m\u001b[43mcompression\u001b[49m\u001b[38;5;241;43m=\u001b[39;49m\u001b[43mcompression\u001b[49m\u001b[43m,\u001b[49m\n\u001b[1;32m   1381\u001b[0m \u001b[43m    \u001b[49m\u001b[43mgeometry_encoding\u001b[49m\u001b[38;5;241;43m=\u001b[39;49m\u001b[43mgeometry_encoding\u001b[49m\u001b[43m,\u001b[49m\n\u001b[1;32m   1382\u001b[0m \u001b[43m    \u001b[49m\u001b[43mindex\u001b[49m\u001b[38;5;241;43m=\u001b[39;49m\u001b[43mindex\u001b[49m\u001b[43m,\u001b[49m\n\u001b[1;32m   1383\u001b[0m \u001b[43m    \u001b[49m\u001b[43mschema_version\u001b[49m\u001b[38;5;241;43m=\u001b[39;49m\u001b[43mschema_version\u001b[49m\u001b[43m,\u001b[49m\n\u001b[1;32m   1384\u001b[0m \u001b[43m    \u001b[49m\u001b[43mwrite_covering_bbox\u001b[49m\u001b[38;5;241;43m=\u001b[39;49m\u001b[43mwrite_covering_bbox\u001b[49m\u001b[43m,\u001b[49m\n\u001b[1;32m   1385\u001b[0m \u001b[43m    \u001b[49m\u001b[38;5;241;43m*\u001b[39;49m\u001b[38;5;241;43m*\u001b[39;49m\u001b[43mkwargs\u001b[49m\u001b[43m,\u001b[49m\n\u001b[1;32m   1386\u001b[0m \u001b[43m\u001b[49m\u001b[43m)\u001b[49m\n",
      "File \u001b[0;32m~/urban_taxonomy/.pixi/envs/default/lib/python3.12/site-packages/geopandas/io/arrow.py:432\u001b[0m, in \u001b[0;36m_to_parquet\u001b[0;34m(df, path, index, compression, geometry_encoding, schema_version, write_covering_bbox, **kwargs)\u001b[0m\n\u001b[1;32m    427\u001b[0m parquet \u001b[38;5;241m=\u001b[39m import_optional_dependency(\n\u001b[1;32m    428\u001b[0m     \u001b[38;5;124m\"\u001b[39m\u001b[38;5;124mpyarrow.parquet\u001b[39m\u001b[38;5;124m\"\u001b[39m, extra\u001b[38;5;241m=\u001b[39m\u001b[38;5;124m\"\u001b[39m\u001b[38;5;124mpyarrow is required for Parquet support.\u001b[39m\u001b[38;5;124m\"\u001b[39m\n\u001b[1;32m    429\u001b[0m )\n\u001b[1;32m    431\u001b[0m path \u001b[38;5;241m=\u001b[39m _expand_user(path)\n\u001b[0;32m--> 432\u001b[0m table \u001b[38;5;241m=\u001b[39m \u001b[43m_geopandas_to_arrow\u001b[49m\u001b[43m(\u001b[49m\n\u001b[1;32m    433\u001b[0m \u001b[43m    \u001b[49m\u001b[43mdf\u001b[49m\u001b[43m,\u001b[49m\n\u001b[1;32m    434\u001b[0m \u001b[43m    \u001b[49m\u001b[43mindex\u001b[49m\u001b[38;5;241;43m=\u001b[39;49m\u001b[43mindex\u001b[49m\u001b[43m,\u001b[49m\n\u001b[1;32m    435\u001b[0m \u001b[43m    \u001b[49m\u001b[43mgeometry_encoding\u001b[49m\u001b[38;5;241;43m=\u001b[39;49m\u001b[43mgeometry_encoding\u001b[49m\u001b[43m,\u001b[49m\n\u001b[1;32m    436\u001b[0m \u001b[43m    \u001b[49m\u001b[43mschema_version\u001b[49m\u001b[38;5;241;43m=\u001b[39;49m\u001b[43mschema_version\u001b[49m\u001b[43m,\u001b[49m\n\u001b[1;32m    437\u001b[0m \u001b[43m    \u001b[49m\u001b[43mwrite_covering_bbox\u001b[49m\u001b[38;5;241;43m=\u001b[39;49m\u001b[43mwrite_covering_bbox\u001b[49m\u001b[43m,\u001b[49m\n\u001b[1;32m    438\u001b[0m \u001b[43m\u001b[49m\u001b[43m)\u001b[49m\n\u001b[1;32m    439\u001b[0m parquet\u001b[38;5;241m.\u001b[39mwrite_table(table, path, compression\u001b[38;5;241m=\u001b[39mcompression, \u001b[38;5;241m*\u001b[39m\u001b[38;5;241m*\u001b[39mkwargs)\n",
      "File \u001b[0;32m~/urban_taxonomy/.pixi/envs/default/lib/python3.12/site-packages/geopandas/io/arrow.py:348\u001b[0m, in \u001b[0;36m_geopandas_to_arrow\u001b[0;34m(df, index, geometry_encoding, schema_version, write_covering_bbox)\u001b[0m\n\u001b[1;32m    343\u001b[0m     \u001b[38;5;28;01mif\u001b[39;00m geometry_encoding \u001b[38;5;241m!=\u001b[39m \u001b[38;5;124m\"\u001b[39m\u001b[38;5;124mWKB\u001b[39m\u001b[38;5;124m\"\u001b[39m \u001b[38;5;129;01mand\u001b[39;00m schema_version \u001b[38;5;241m!=\u001b[39m \u001b[38;5;124m\"\u001b[39m\u001b[38;5;124m1.1.0\u001b[39m\u001b[38;5;124m\"\u001b[39m:\n\u001b[1;32m    344\u001b[0m         \u001b[38;5;28;01mraise\u001b[39;00m \u001b[38;5;167;01mValueError\u001b[39;00m(\n\u001b[1;32m    345\u001b[0m             \u001b[38;5;124m\"\u001b[39m\u001b[38;5;124m'\u001b[39m\u001b[38;5;124mgeoarrow\u001b[39m\u001b[38;5;124m'\u001b[39m\u001b[38;5;124m encoding is only supported with schema version >= 1.1.0\u001b[39m\u001b[38;5;124m\"\u001b[39m\n\u001b[1;32m    346\u001b[0m         )\n\u001b[0;32m--> 348\u001b[0m table, geometry_encoding_dict \u001b[38;5;241m=\u001b[39m \u001b[43mgeopandas_to_arrow\u001b[49m\u001b[43m(\u001b[49m\n\u001b[1;32m    349\u001b[0m \u001b[43m    \u001b[49m\u001b[43mdf\u001b[49m\u001b[43m,\u001b[49m\u001b[43m \u001b[49m\u001b[43mgeometry_encoding\u001b[49m\u001b[38;5;241;43m=\u001b[39;49m\u001b[43mgeometry_encoding\u001b[49m\u001b[43m,\u001b[49m\u001b[43m \u001b[49m\u001b[43mindex\u001b[49m\u001b[38;5;241;43m=\u001b[39;49m\u001b[43mindex\u001b[49m\u001b[43m,\u001b[49m\u001b[43m \u001b[49m\u001b[43minterleaved\u001b[49m\u001b[38;5;241;43m=\u001b[39;49m\u001b[38;5;28;43;01mFalse\u001b[39;49;00m\n\u001b[1;32m    350\u001b[0m \u001b[43m\u001b[49m\u001b[43m)\u001b[49m\n\u001b[1;32m    351\u001b[0m geo_metadata \u001b[38;5;241m=\u001b[39m _create_metadata(\n\u001b[1;32m    352\u001b[0m     df,\n\u001b[1;32m    353\u001b[0m     schema_version\u001b[38;5;241m=\u001b[39mschema_version,\n\u001b[1;32m    354\u001b[0m     geometry_encoding\u001b[38;5;241m=\u001b[39mgeometry_encoding_dict,\n\u001b[1;32m    355\u001b[0m     write_covering_bbox\u001b[38;5;241m=\u001b[39mwrite_covering_bbox,\n\u001b[1;32m    356\u001b[0m )\n\u001b[1;32m    358\u001b[0m \u001b[38;5;28;01mif\u001b[39;00m write_covering_bbox:\n",
      "File \u001b[0;32m~/urban_taxonomy/.pixi/envs/default/lib/python3.12/site-packages/geopandas/io/_geoarrow.py:163\u001b[0m, in \u001b[0;36mgeopandas_to_arrow\u001b[0;34m(df, index, geometry_encoding, interleaved, include_z)\u001b[0m\n\u001b[1;32m    160\u001b[0m \u001b[38;5;28;01melif\u001b[39;00m geometry_encoding\u001b[38;5;241m.\u001b[39mlower() \u001b[38;5;241m==\u001b[39m \u001b[38;5;124m\"\u001b[39m\u001b[38;5;124mwkb\u001b[39m\u001b[38;5;124m\"\u001b[39m:\n\u001b[1;32m    161\u001b[0m     \u001b[38;5;66;03m# Encode all geometry columns to WKB\u001b[39;00m\n\u001b[1;32m    162\u001b[0m     \u001b[38;5;28;01mfor\u001b[39;00m i, col \u001b[38;5;129;01min\u001b[39;00m \u001b[38;5;28mzip\u001b[39m(geometry_indices, geometry_columns):\n\u001b[0;32m--> 163\u001b[0m         field, wkb_arr \u001b[38;5;241m=\u001b[39m \u001b[43mconstruct_wkb_array\u001b[49m\u001b[43m(\u001b[49m\n\u001b[1;32m    164\u001b[0m \u001b[43m            \u001b[49m\u001b[43mnp\u001b[49m\u001b[38;5;241;43m.\u001b[39;49m\u001b[43masarray\u001b[49m\u001b[43m(\u001b[49m\u001b[43mdf\u001b[49m\u001b[43m[\u001b[49m\u001b[43mcol\u001b[49m\u001b[43m]\u001b[49m\u001b[38;5;241;43m.\u001b[39;49m\u001b[43marray\u001b[49m\u001b[43m)\u001b[49m\u001b[43m,\u001b[49m\u001b[43m \u001b[49m\u001b[43mfield_name\u001b[49m\u001b[38;5;241;43m=\u001b[39;49m\u001b[43mcol\u001b[49m\u001b[43m,\u001b[49m\u001b[43m \u001b[49m\u001b[43mcrs\u001b[49m\u001b[38;5;241;43m=\u001b[39;49m\u001b[43mdf\u001b[49m\u001b[43m[\u001b[49m\u001b[43mcol\u001b[49m\u001b[43m]\u001b[49m\u001b[38;5;241;43m.\u001b[39;49m\u001b[43mcrs\u001b[49m\n\u001b[1;32m    165\u001b[0m \u001b[43m        \u001b[49m\u001b[43m)\u001b[49m\n\u001b[1;32m    166\u001b[0m         table \u001b[38;5;241m=\u001b[39m table\u001b[38;5;241m.\u001b[39mset_column(i, field, wkb_arr)\n\u001b[1;32m    167\u001b[0m         geometry_encoding_dict[col] \u001b[38;5;241m=\u001b[39m \u001b[38;5;124m\"\u001b[39m\u001b[38;5;124mWKB\u001b[39m\u001b[38;5;124m\"\u001b[39m\n",
      "File \u001b[0;32m~/urban_taxonomy/.pixi/envs/default/lib/python3.12/site-packages/geopandas/io/_geoarrow.py:190\u001b[0m, in \u001b[0;36mconstruct_wkb_array\u001b[0;34m(shapely_arr, field_name, crs)\u001b[0m\n\u001b[1;32m    187\u001b[0m         \u001b[38;5;28;01mraise\u001b[39;00m \u001b[38;5;167;01mValueError\u001b[39;00m(\u001b[38;5;124m\"\u001b[39m\u001b[38;5;124mCannot write 3D geometries with GEOS<3.10\u001b[39m\u001b[38;5;124m\"\u001b[39m)\n\u001b[1;32m    188\u001b[0m     kwargs \u001b[38;5;241m=\u001b[39m {}\n\u001b[0;32m--> 190\u001b[0m wkb_arr \u001b[38;5;241m=\u001b[39m \u001b[43mshapely\u001b[49m\u001b[38;5;241;43m.\u001b[39;49m\u001b[43mto_wkb\u001b[49m\u001b[43m(\u001b[49m\u001b[43mshapely_arr\u001b[49m\u001b[43m,\u001b[49m\u001b[43m \u001b[49m\u001b[38;5;241;43m*\u001b[39;49m\u001b[38;5;241;43m*\u001b[39;49m\u001b[43mkwargs\u001b[49m\u001b[43m)\u001b[49m\n\u001b[1;32m    191\u001b[0m extension_metadata \u001b[38;5;241m=\u001b[39m {\u001b[38;5;124m\"\u001b[39m\u001b[38;5;124mARROW:extension:name\u001b[39m\u001b[38;5;124m\"\u001b[39m: \u001b[38;5;124m\"\u001b[39m\u001b[38;5;124mgeoarrow.wkb\u001b[39m\u001b[38;5;124m\"\u001b[39m}\n\u001b[1;32m    192\u001b[0m \u001b[38;5;28;01mif\u001b[39;00m crs \u001b[38;5;129;01mis\u001b[39;00m \u001b[38;5;129;01mnot\u001b[39;00m \u001b[38;5;28;01mNone\u001b[39;00m:\n",
      "File \u001b[0;32m~/urban_taxonomy/manual_deps/shapely/shapely/io.py:197\u001b[0m, in \u001b[0;36mto_wkb\u001b[0;34m(geometry, hex, output_dimension, byte_order, include_srid, flavor, **kwargs)\u001b[0m\n\u001b[1;32m    194\u001b[0m     \u001b[38;5;28;01mraise\u001b[39;00m \u001b[38;5;167;01mValueError\u001b[39;00m(\u001b[38;5;124m'\u001b[39m\u001b[38;5;124mflavor=\u001b[39m\u001b[38;5;124m\"\u001b[39m\u001b[38;5;124miso\u001b[39m\u001b[38;5;124m\"\u001b[39m\u001b[38;5;124m and include_srid=True cannot be used together\u001b[39m\u001b[38;5;124m'\u001b[39m)\n\u001b[1;32m    195\u001b[0m flavor \u001b[38;5;241m=\u001b[39m WKBFlavorOptions\u001b[38;5;241m.\u001b[39mget_value(flavor)\n\u001b[0;32m--> 197\u001b[0m \u001b[38;5;28;01mreturn\u001b[39;00m \u001b[43mlib\u001b[49m\u001b[38;5;241;43m.\u001b[39;49m\u001b[43mto_wkb\u001b[49m\u001b[43m(\u001b[49m\n\u001b[1;32m    198\u001b[0m \u001b[43m    \u001b[49m\u001b[43mgeometry\u001b[49m\u001b[43m,\u001b[49m\n\u001b[1;32m    199\u001b[0m \u001b[43m    \u001b[49m\u001b[43mnp\u001b[49m\u001b[38;5;241;43m.\u001b[39;49m\u001b[43mbool_\u001b[49m\u001b[43m(\u001b[49m\u001b[38;5;28;43mhex\u001b[39;49m\u001b[43m)\u001b[49m\u001b[43m,\u001b[49m\n\u001b[1;32m    200\u001b[0m \u001b[43m    \u001b[49m\u001b[43mnp\u001b[49m\u001b[38;5;241;43m.\u001b[39;49m\u001b[43mintc\u001b[49m\u001b[43m(\u001b[49m\u001b[43moutput_dimension\u001b[49m\u001b[43m)\u001b[49m\u001b[43m,\u001b[49m\n\u001b[1;32m    201\u001b[0m \u001b[43m    \u001b[49m\u001b[43mnp\u001b[49m\u001b[38;5;241;43m.\u001b[39;49m\u001b[43mintc\u001b[49m\u001b[43m(\u001b[49m\u001b[43mbyte_order\u001b[49m\u001b[43m)\u001b[49m\u001b[43m,\u001b[49m\n\u001b[1;32m    202\u001b[0m \u001b[43m    \u001b[49m\u001b[43mnp\u001b[49m\u001b[38;5;241;43m.\u001b[39;49m\u001b[43mbool_\u001b[49m\u001b[43m(\u001b[49m\u001b[43minclude_srid\u001b[49m\u001b[43m)\u001b[49m\u001b[43m,\u001b[49m\n\u001b[1;32m    203\u001b[0m \u001b[43m    \u001b[49m\u001b[43mnp\u001b[49m\u001b[38;5;241;43m.\u001b[39;49m\u001b[43mintc\u001b[49m\u001b[43m(\u001b[49m\u001b[43mflavor\u001b[49m\u001b[43m)\u001b[49m\u001b[43m,\u001b[49m\n\u001b[1;32m    204\u001b[0m \u001b[43m    \u001b[49m\u001b[38;5;241;43m*\u001b[39;49m\u001b[38;5;241;43m*\u001b[39;49m\u001b[43mkwargs\u001b[49m\u001b[43m,\u001b[49m\n\u001b[1;32m    205\u001b[0m \u001b[43m\u001b[49m\u001b[43m)\u001b[49m\n",
      "\u001b[0;31mKeyboardInterrupt\u001b[0m: "
     ]
    }
   ],
   "source": [
    "buildings.to_parquet(buildings_dir + f\"buildings_{region_id}.parquet\")"
   ]
  },
  {
   "cell_type": "markdown",
   "id": "6c583ddc-c40b-4b6e-aa41-a33bd00570f3",
   "metadata": {
    "jp-MarkdownHeadingCollapsed": true
   },
   "source": [
    "## Streets"
   ]
  },
  {
   "cell_type": "code",
   "execution_count": 13,
   "id": "e882ddf0-ff0b-429e-b39b-8ff4d7afd9da",
   "metadata": {},
   "outputs": [],
   "source": [
    "from core.generate_streets import process_region_streets, process_single_region_streets"
   ]
  },
  {
   "cell_type": "code",
   "execution_count": null,
   "id": "b27d6301-e5aa-4ee9-9ec9-7b9fb2b940e8",
   "metadata": {},
   "outputs": [],
   "source": []
  },
  {
   "cell_type": "code",
   "execution_count": 14,
   "id": "a084da1a-db92-41c5-9cd7-0c4f1e9996f7",
   "metadata": {
    "scrolled": true
   },
   "outputs": [
    {
     "name": "stderr",
     "output_type": "stream",
     "text": [
      "/home/krasen/urban_taxonomy/manual_deps/sgeop/sgeop/geometry.py:247: UserWarning: Could not create a connection as it would lead outside of the artifact.\n",
      "  additions, splits = snap_to_targets(\n",
      "/home/krasen/urban_taxonomy/manual_deps/sgeop/sgeop/geometry.py:247: UserWarning: Could not create a connection as it would lead outside of the artifact.\n",
      "  additions, splits = snap_to_targets(\n",
      "/home/krasen/urban_taxonomy/manual_deps/sgeop/sgeop/simplify.py:343: UserWarning: An error occured at location POINT (4634734.833449237 3007874.1868347814). The artifact has not been simplified. The original message:\n",
      "can only convert an array of size 1 to a Python scalar\n",
      "  roads_cleaned = simplify_singletons(\n",
      "/home/krasen/urban_taxonomy/manual_deps/sgeop/sgeop/geometry.py:247: UserWarning: Could not create a connection as it would lead outside of the artifact.\n",
      "  additions, splits = snap_to_targets(\n",
      "/home/krasen/urban_taxonomy/manual_deps/sgeop/sgeop/simplify.py:200: UserWarning: Could not create a connection as it would lead outside of the artifact.\n",
      "  nx_gx_cluster(\n",
      "/home/krasen/urban_taxonomy/manual_deps/sgeop/sgeop/simplify.py:200: UserWarning: Could not create a connection as it would lead outside of the artifact.\n",
      "  nx_gx_cluster(\n",
      "/home/krasen/urban_taxonomy/manual_deps/sgeop/sgeop/simplify.py:200: UserWarning: Could not create a connection as it would lead outside of the artifact.\n",
      "  nx_gx_cluster(\n",
      "/home/krasen/urban_taxonomy/manual_deps/sgeop/sgeop/geometry.py:247: UserWarning: Could not create a connection as it would lead outside of the artifact.\n",
      "  additions, splits = snap_to_targets(\n"
     ]
    },
    {
     "name": "stdout",
     "output_type": "stream",
     "text": [
      "CPU times: user 9min 10s, sys: 2.89 s, total: 9min 13s\n",
      "Wall time: 9min 7s\n"
     ]
    }
   ],
   "source": [
    "%%time\n",
    "## processs streets\n",
    "streets = process_region_streets(region_id, overture_streets_dir, buildings_dir)"
   ]
  },
  {
   "cell_type": "code",
   "execution_count": null,
   "id": "7956b696-07fd-48da-8b28-a2a495747029",
   "metadata": {},
   "outputs": [],
   "source": []
  },
  {
   "cell_type": "code",
   "execution_count": null,
   "id": "68f8df02-db77-4cbb-8541-1631f2c2100c",
   "metadata": {},
   "outputs": [],
   "source": []
  },
  {
   "cell_type": "code",
   "execution_count": 15,
   "id": "f2a58bac-e166-4724-b9f1-2fbe8778a01d",
   "metadata": {},
   "outputs": [],
   "source": [
    "# save streets\n",
    "streets.to_parquet(streets_dir + f'streets_{region_id}.parquet')"
   ]
  },
  {
   "cell_type": "code",
   "execution_count": 16,
   "id": "2cad5944-459b-47d3-b69e-431b570823d5",
   "metadata": {},
   "outputs": [],
   "source": [
    "# streets.explore()"
   ]
  },
  {
   "cell_type": "code",
   "execution_count": null,
   "id": "562890b1-83f3-4e2f-bfd0-f3928bffcf07",
   "metadata": {},
   "outputs": [],
   "source": []
  },
  {
   "cell_type": "code",
   "execution_count": 17,
   "id": "39e2b87d-3838-4a74-a940-034343aef67c",
   "metadata": {},
   "outputs": [],
   "source": [
    "# import geopandas as gpd\n",
    "# gpd.read_parquet(streets_dir + f'streets_{region_id}.parquet').explore()"
   ]
  },
  {
   "cell_type": "code",
   "execution_count": 18,
   "id": "50dbdb54-f029-4511-b524-9ee29e7fe752",
   "metadata": {},
   "outputs": [],
   "source": [
    "# gpd.read_parquet(enclosures_dir + f'enclosure_{region_id}.parquet').explore()"
   ]
  },
  {
   "cell_type": "code",
   "execution_count": null,
   "id": "ec60a7fe-e872-4c01-b008-b33ba8fb0ca4",
   "metadata": {},
   "outputs": [],
   "source": []
  },
  {
   "cell_type": "code",
   "execution_count": null,
   "id": "939b137a-294a-4fe7-a70b-f58fce0471f2",
   "metadata": {},
   "outputs": [],
   "source": []
  },
  {
   "cell_type": "code",
   "execution_count": null,
   "id": "d27c4679-3543-414c-91be-ee3f2d9ac4bb",
   "metadata": {},
   "outputs": [],
   "source": []
  },
  {
   "cell_type": "markdown",
   "id": "3b23c6e4-17f5-42f0-987c-921d10557565",
   "metadata": {
    "jp-MarkdownHeadingCollapsed": true
   },
   "source": [
    "## Enclosures & Tessellation"
   ]
  },
  {
   "cell_type": "code",
   "execution_count": 14,
   "id": "b8314f1b-3efc-4439-965a-a48e87b34fa9",
   "metadata": {},
   "outputs": [],
   "source": [
    "from core.generate_elements import process_region_elements, generate_enclosures_representative_points, generate_tess"
   ]
  },
  {
   "cell_type": "code",
   "execution_count": 15,
   "id": "c68fd0e9-34df-4b2c-8cb1-82892a8da5ce",
   "metadata": {},
   "outputs": [],
   "source": [
    "# 21894\n",
    "# 47090 - problems with topolgical exceptions"
   ]
  },
  {
   "cell_type": "code",
   "execution_count": null,
   "id": "d41ca1a7-1f02-4aee-82d1-feb8ba96ce5d",
   "metadata": {},
   "outputs": [],
   "source": []
  },
  {
   "cell_type": "code",
   "execution_count": 16,
   "id": "22ff98c4-60a1-4d6a-aed2-4fd33c222366",
   "metadata": {},
   "outputs": [],
   "source": [
    "### copy the original buildings\n",
    "# !cp /data/uscuni-ulce/processed_data/simplified_buildings/buildings_69333_merged.parquet /data/uscuni-ulce/processed_data/buildings/buildings_69333.parquet"
   ]
  },
  {
   "cell_type": "code",
   "execution_count": null,
   "id": "039dab1e-c523-4554-86cf-2a368e3c1a2b",
   "metadata": {},
   "outputs": [],
   "source": []
  },
  {
   "cell_type": "code",
   "execution_count": null,
   "id": "59d76ff6-cb67-40d0-a54d-ff405e12bc88",
   "metadata": {},
   "outputs": [],
   "source": []
  },
  {
   "cell_type": "code",
   "execution_count": 17,
   "id": "bbe4d0ac-0514-4e70-9f1e-eb70b28e05a6",
   "metadata": {},
   "outputs": [
    {
     "name": "stdout",
     "output_type": "stream",
     "text": [
      "---- Processing region:  55835 2024-11-17 12:32:16.043767\n",
      "Retrying tesselation with less buildings, potentially changing building data.\n",
      "Dropping 2 buildings due to tesselation problems\n",
      "CPU times: user 34.4 s, sys: 795 ms, total: 35.2 s\n",
      "Wall time: 48.3 s\n"
     ]
    }
   ],
   "source": [
    "%%time\n",
    "enclosures, tesselations = process_region_elements(buildings_dir, streets_dir, region_id)"
   ]
  },
  {
   "cell_type": "code",
   "execution_count": null,
   "id": "5cc6b6c1-d9f6-4113-8d4b-05940c107a18",
   "metadata": {},
   "outputs": [],
   "source": []
  },
  {
   "cell_type": "code",
   "execution_count": null,
   "id": "57b10c8f-5fc7-4b08-a8c7-324be52728cb",
   "metadata": {},
   "outputs": [],
   "source": []
  },
  {
   "cell_type": "code",
   "execution_count": null,
   "id": "d5f56406-9c98-4f80-85c8-79251d3647d7",
   "metadata": {},
   "outputs": [],
   "source": []
  },
  {
   "cell_type": "code",
   "execution_count": null,
   "id": "695d5bbd-921c-48ed-a00a-20c499797f5a",
   "metadata": {},
   "outputs": [],
   "source": []
  },
  {
   "cell_type": "code",
   "execution_count": null,
   "id": "0badca95-883b-406a-8ceb-3a0c9ed57451",
   "metadata": {},
   "outputs": [],
   "source": []
  },
  {
   "cell_type": "code",
   "execution_count": 18,
   "id": "d0a92a51-e839-4728-bd09-98141315f7f9",
   "metadata": {},
   "outputs": [
    {
     "name": "stdout",
     "output_type": "stream",
     "text": [
      "Processed enclosures\n",
      "processed tesselations\n"
     ]
    }
   ],
   "source": [
    "enclosures.to_parquet(enclosures_dir + f\"enclosure_{region_id}.parquet\")\n",
    "print(\"Processed enclosures\")\n",
    "\n",
    "## save files\n",
    "tesselations.to_parquet(\n",
    "    tessellations_dir + f\"tessellation_{region_id}.parquet\"\n",
    ")\n",
    "print(\"processed tesselations\")"
   ]
  },
  {
   "cell_type": "code",
   "execution_count": null,
   "id": "9acdf8ca-c466-495b-91bb-d4fc62353def",
   "metadata": {},
   "outputs": [],
   "source": []
  },
  {
   "cell_type": "code",
   "execution_count": 19,
   "id": "413c332a-78c8-4191-912e-db9f28704209",
   "metadata": {},
   "outputs": [],
   "source": [
    "# import lonboard\n",
    "# layeasr = lonboard.SolidPolygonLayer.from_geopandas(tesselations, opacity=0.15)\n",
    "# m = lonboard.Map([layer])\n",
    "# m"
   ]
  },
  {
   "cell_type": "code",
   "execution_count": 20,
   "id": "130a6515-93f5-4067-ac88-645df3802443",
   "metadata": {},
   "outputs": [],
   "source": [
    "# layer = lonboard.SolidPolygonLayer.from_geopandas(enclosures, opacity=0.15)\n",
    "# m = lonboard.Map([layer])\n",
    "# m"
   ]
  },
  {
   "cell_type": "code",
   "execution_count": null,
   "id": "3f25df6c-2a78-4f42-98a6-f99e478d93bb",
   "metadata": {},
   "outputs": [],
   "source": []
  },
  {
   "cell_type": "markdown",
   "id": "c4f68f61-03d3-4603-b9f0-9b8704ca469b",
   "metadata": {
    "jp-MarkdownHeadingCollapsed": true
   },
   "source": [
    "## Graphs"
   ]
  },
  {
   "cell_type": "code",
   "execution_count": 21,
   "id": "4f52f1d9-b910-4d41-a086-8b2faa858f96",
   "metadata": {},
   "outputs": [],
   "source": [
    "from core.generate_ngraphs import process_region_graphs"
   ]
  },
  {
   "cell_type": "code",
   "execution_count": 22,
   "id": "ad6345c5-f2de-4c7d-abc5-c1c33ede6c2a",
   "metadata": {},
   "outputs": [
    {
     "name": "stdout",
     "output_type": "stream",
     "text": [
      "Built tess graph knn=1\n",
      "Built buildings graph knn=1\n",
      "Built streets graph knn=1\n",
      "Built enclosure graph knn=1\n",
      "Built nodes graph knn=1\n",
      "CPU times: user 7.47 s, sys: 160 ms, total: 7.63 s\n",
      "Wall time: 7.6 s\n"
     ]
    },
    {
     "name": "stderr",
     "output_type": "stream",
     "text": [
      "/home/krasen/urban_taxonomy/.pixi/envs/default/lib/python3.12/site-packages/libpysal/weights/weights.py:1685: UserWarning: The weights matrix is not fully connected: \n",
      " There are 29 disconnected components.\n",
      "  w = W(neighbors, weights, ids, silence_warnings=silence_warnings)\n"
     ]
    }
   ],
   "source": [
    "%%time\n",
    "process_region_graphs(\n",
    "    region_id,\n",
    "    graph_dir,\n",
    "    buildings_dir,\n",
    "    streets_dir,\n",
    "    enclosures_dir,\n",
    "    tessellations_dir,\n",
    ")"
   ]
  },
  {
   "cell_type": "code",
   "execution_count": null,
   "id": "83d17bfe-363c-4cf6-9e60-954dfebf0d75",
   "metadata": {},
   "outputs": [],
   "source": []
  },
  {
   "cell_type": "code",
   "execution_count": null,
   "id": "0705c7e7-1975-4e4a-bc41-dd0d1df942a6",
   "metadata": {},
   "outputs": [],
   "source": []
  },
  {
   "cell_type": "code",
   "execution_count": null,
   "id": "40a98d4e-6faa-418e-aa77-913eb27baac5",
   "metadata": {},
   "outputs": [],
   "source": []
  },
  {
   "cell_type": "code",
   "execution_count": 28,
   "id": "8416e0ff-1390-4abf-8a12-8cf105bc9d85",
   "metadata": {},
   "outputs": [],
   "source": [
    "processed_region_ids = [int(s.split('.')[0].split('_')[-1])for s in glob.glob(graph_dir + '*')]"
   ]
  },
  {
   "cell_type": "code",
   "execution_count": 29,
   "id": "84d18f78-c4f8-418e-989d-5300d42fea4a",
   "metadata": {},
   "outputs": [
    {
     "data": {
      "text/html": [
       "<div>\n",
       "<style scoped>\n",
       "    .dataframe tbody tr th:only-of-type {\n",
       "        vertical-align: middle;\n",
       "    }\n",
       "\n",
       "    .dataframe tbody tr th {\n",
       "        vertical-align: top;\n",
       "    }\n",
       "\n",
       "    .dataframe thead th {\n",
       "        text-align: right;\n",
       "    }\n",
       "</style>\n",
       "<table border=\"1\" class=\"dataframe\">\n",
       "  <thead>\n",
       "    <tr style=\"text-align: right;\">\n",
       "      <th></th>\n",
       "      <th>convex_hull</th>\n",
       "    </tr>\n",
       "    <tr>\n",
       "      <th>labels</th>\n",
       "      <th></th>\n",
       "    </tr>\n",
       "  </thead>\n",
       "  <tbody>\n",
       "  </tbody>\n",
       "</table>\n",
       "</div>"
      ],
      "text/plain": [
       "Empty GeoDataFrame\n",
       "Columns: [convex_hull]\n",
       "Index: []"
      ]
     },
     "execution_count": 29,
     "metadata": {},
     "output_type": "execute_result"
    }
   ],
   "source": [
    "region_hulls = gpd.read_parquet(\n",
    "    regions_datadir + \"regions/\" + \"cadastre_regions_hull.parquet\"\n",
    ")\n",
    "processed_region_ids = [int(s.split('.')[0].split('_')[-1])for s in glob.glob(graph_dir + '*')]\n",
    "region_hulls = region_hulls[~region_hulls.index.isin(processed_region_ids)]\n",
    "region_hulls"
   ]
  },
  {
   "cell_type": "code",
   "execution_count": 30,
   "id": "51cb3974-6fa2-4771-9e02-27a3e7115553",
   "metadata": {
    "scrolled": true
   },
   "outputs": [],
   "source": [
    "# from joblib import Parallel, delayed\n",
    "# n_jobs = -1\n",
    "# new = Parallel(n_jobs=n_jobs)(\n",
    "#     delayed(process_region_graphs)(     region_id,\n",
    "#                                         graph_dir,\n",
    "#                                         buildings_dir,\n",
    "#                                         streets_dir,\n",
    "#                                         enclosures_dir,\n",
    "#                                         tessellations_dir\n",
    "#                                   ) \n",
    "#     for region_id, _ in region_hulls.iterrows())"
   ]
  },
  {
   "cell_type": "code",
   "execution_count": 31,
   "id": "8e4d9e7c-7805-488e-b2d7-6949b732a2af",
   "metadata": {
    "scrolled": true
   },
   "outputs": [
    {
     "data": {
      "text/plain": [
       "1"
      ]
     },
     "execution_count": 31,
     "metadata": {},
     "output_type": "execute_result"
    }
   ],
   "source": [
    "1"
   ]
  },
  {
   "cell_type": "markdown",
   "id": "6e7bc073-b62b-4aa4-b09d-c93d07428e77",
   "metadata": {
    "jp-MarkdownHeadingCollapsed": true
   },
   "source": [
    "## Characters"
   ]
  },
  {
   "cell_type": "code",
   "execution_count": 23,
   "id": "105c07ab-ede1-4f70-bc5d-eb0958d00c06",
   "metadata": {},
   "outputs": [],
   "source": [
    "from core.generate_chars import process_single_region_chars"
   ]
  },
  {
   "cell_type": "code",
   "execution_count": 26,
   "id": "6af38e44-98ae-4c27-917e-c03123c8b034",
   "metadata": {
    "scrolled": true
   },
   "outputs": [
    {
     "name": "stdout",
     "output_type": "stream",
     "text": [
      "2024-11-17 12:35:02.317576 ----Processing ------ 55835\n",
      "Processing streets\n",
      "Processing enclosures\n",
      "Processing buildings\n"
     ]
    },
    {
     "name": "stderr",
     "output_type": "stream",
     "text": [
      "/home/krasen/urban_taxonomy/manual_deps/momepy/momepy/functional/_shape.py:576: RuntimeWarning: Mean of empty slice\n",
      "  return np.nanmean(np.abs(90 - degrees[true_angles]))\n",
      "/home/krasen/urban_taxonomy/manual_deps/momepy/momepy/functional/_shape.py:737: RuntimeWarning: Mean of empty slice\n",
      "  return Series({\"mean\": np.nanmean(dists), \"std\": np.nanstd(dists)})\n",
      "/home/krasen/urban_taxonomy/.pixi/envs/default/lib/python3.12/site-packages/numpy/lib/_nanfunctions_impl.py:2035: RuntimeWarning: Degrees of freedom <= 0 for slice.\n",
      "  var = nanvar(a, axis=axis, dtype=dtype, out=out, ddof=ddof,\n"
     ]
    },
    {
     "name": "stdout",
     "output_type": "stream",
     "text": [
      "Processing tessellation\n",
      "CPU times: user 1min 44s, sys: 871 ms, total: 1min 44s\n",
      "Wall time: 1min 44s\n"
     ]
    }
   ],
   "source": [
    "%%time\n",
    "process_single_region_chars(\n",
    "    region_id,\n",
    "    graph_dir,\n",
    "    buildings_dir,\n",
    "    streets_dir,\n",
    "    enclosures_dir,\n",
    "    tessellations_dir,\n",
    "    chars_dir\n",
    ")"
   ]
  },
  {
   "cell_type": "code",
   "execution_count": 24,
   "id": "0c07db19-b3b2-4379-afb0-c980403570d5",
   "metadata": {},
   "outputs": [],
   "source": [
    "from core.generate_chars import process_single_region_chars, process_street_chars, process_building_chars, process_tessellation_chars,process_enclosure_chars"
   ]
  },
  {
   "cell_type": "code",
   "execution_count": 25,
   "id": "f40f7b79-4030-44bf-9325-2926eab48fa5",
   "metadata": {},
   "outputs": [
    {
     "name": "stdout",
     "output_type": "stream",
     "text": [
      "Processing buildings\n"
     ]
    },
    {
     "name": "stderr",
     "output_type": "stream",
     "text": [
      "/home/krasen/urban_taxonomy/manual_deps/momepy/momepy/functional/_shape.py:576: RuntimeWarning: Mean of empty slice\n",
      "  return np.nanmean(np.abs(90 - degrees[true_angles]))\n",
      "/home/krasen/urban_taxonomy/manual_deps/momepy/momepy/functional/_shape.py:737: RuntimeWarning: Mean of empty slice\n",
      "  return Series({\"mean\": np.nanmean(dists), \"std\": np.nanstd(dists)})\n",
      "/home/krasen/urban_taxonomy/.pixi/envs/default/lib/python3.12/site-packages/numpy/lib/_nanfunctions_impl.py:2035: RuntimeWarning: Degrees of freedom <= 0 for slice.\n",
      "  var = nanvar(a, axis=axis, dtype=dtype, out=out, ddof=ddof,\n"
     ]
    }
   ],
   "source": [
    "# process_building_chars(\n",
    "#     region_id,\n",
    "#     graph_dir,\n",
    "#     buildings_dir,\n",
    "#     streets_dir,\n",
    "#     enclosures_dir,\n",
    "#     tessellations_dir,\n",
    "#     chars_dir\n",
    "# )"
   ]
  },
  {
   "cell_type": "code",
   "execution_count": 8,
   "id": "cb7503cc-a57d-4bfd-b7cc-21998c3ec1d0",
   "metadata": {},
   "outputs": [],
   "source": [
    "# %%time\n",
    "# process_street_chars(\n",
    "#     region_id,\n",
    "#     graph_dir,\n",
    "#     buildings_dir,\n",
    "#     streets_dir,\n",
    "#     enclosures_dir,\n",
    "#     tessellations_dir,\n",
    "#     chars_dir\n",
    "# )"
   ]
  },
  {
   "cell_type": "code",
   "execution_count": 9,
   "id": "0ee04195-8f22-4f8d-9b27-e66282fe2783",
   "metadata": {},
   "outputs": [],
   "source": [
    "# process_tessellation_chars(\n",
    "#     region_id,\n",
    "#     graph_dir,\n",
    "#     buildings_dir,\n",
    "#     streets_dir,\n",
    "#     enclosures_dir,\n",
    "#     tessellations_dir,\n",
    "#     chars_dir\n",
    "# )"
   ]
  },
  {
   "cell_type": "code",
   "execution_count": 10,
   "id": "644e4a5e-0528-4ef0-91fd-4afb417820b2",
   "metadata": {},
   "outputs": [],
   "source": [
    "# process_enclosure_chars(\n",
    "#     region_id,\n",
    "#     graph_dir,\n",
    "#     buildings_dir,\n",
    "#     streets_dir,\n",
    "#     enclosures_dir,\n",
    "#     tessellations_dir,\n",
    "#     chars_dir\n",
    "# )"
   ]
  },
  {
   "cell_type": "code",
   "execution_count": null,
   "id": "33137a28-6bed-4117-92ca-87815db17df3",
   "metadata": {},
   "outputs": [],
   "source": []
  },
  {
   "cell_type": "code",
   "execution_count": null,
   "id": "3fc1ba8d-9eef-44ca-b50f-6e1a846a7ff6",
   "metadata": {},
   "outputs": [],
   "source": []
  },
  {
   "cell_type": "markdown",
   "id": "019091f7-625b-48ac-932b-b5ccd8e00fbe",
   "metadata": {
    "jp-MarkdownHeadingCollapsed": true
   },
   "source": [
    "## Generate primary data"
   ]
  },
  {
   "cell_type": "code",
   "execution_count": 27,
   "id": "8e2a26d3-2f60-4ff4-8879-142999e5a04b",
   "metadata": {},
   "outputs": [],
   "source": [
    "from core.generate_merged_primary_chars import merge_into_primary"
   ]
  },
  {
   "cell_type": "code",
   "execution_count": null,
   "id": "4a67c919-f555-4177-8080-9f7b6c323d2a",
   "metadata": {},
   "outputs": [],
   "source": []
  },
  {
   "cell_type": "code",
   "execution_count": 30,
   "id": "2a53730c-28ea-4a19-a20e-6d02f17c3e04",
   "metadata": {},
   "outputs": [
    {
     "name": "stdout",
     "output_type": "stream",
     "text": [
      "Processing region 47919\n",
      "CPU times: user 1.24 s, sys: 612 ms, total: 1.86 s\n",
      "Wall time: 1.54 s\n"
     ]
    }
   ],
   "source": [
    "%%time\n",
    "merge_into_primary(region_id)"
   ]
  },
  {
   "cell_type": "code",
   "execution_count": null,
   "id": "1cbc04ab-d513-487f-a8e4-5c3a89e5ba8a",
   "metadata": {},
   "outputs": [],
   "source": []
  },
  {
   "cell_type": "code",
   "execution_count": null,
   "id": "bae1a1f5-978c-4298-8785-03454e7f05a2",
   "metadata": {},
   "outputs": [],
   "source": []
  },
  {
   "cell_type": "markdown",
   "id": "976e5a73-f347-4f1e-956e-114f517ce647",
   "metadata": {},
   "source": [
    "## Generate morphotopes"
   ]
  },
  {
   "cell_type": "code",
   "execution_count": 11,
   "id": "ee4f21f9-e743-4a26-9648-da8259f1ed8b",
   "metadata": {},
   "outputs": [],
   "source": [
    "from core.generate_clusters import process_single_region_morphotopes"
   ]
  },
  {
   "cell_type": "code",
   "execution_count": 12,
   "id": "846dbeae-66c6-4174-aa36-58bb58506728",
   "metadata": {},
   "outputs": [
    {
     "name": "stdout",
     "output_type": "stream",
     "text": [
      "2024-11-22 16:34:20.049321 ----Processing ------ 5883\n",
      "--------Generating lag----------\n",
      "--------Generating morphotopes---------- 75\n",
      "--------Dropping columns---------- ['stcSAl', 'stbOri', 'stcOri', 'stbCeA', 'ldkAre', 'ldkPer', 'lskCCo', 'lskERI', 'lskCWA', 'ltkOri', 'ltkWNB', 'likWBB', 'likWCe']\n",
      "--------Generating morphotopes data----------\n"
     ]
    }
   ],
   "source": [
    "process_single_region_morphotopes(region_id)"
   ]
  },
  {
   "cell_type": "code",
   "execution_count": null,
   "id": "6723d74c-e45a-44fe-a587-f3a459e3be8f",
   "metadata": {},
   "outputs": [],
   "source": []
  },
  {
   "cell_type": "code",
   "execution_count": null,
   "id": "c72e2597-7e6a-4d96-a31e-e63a967687f8",
   "metadata": {},
   "outputs": [],
   "source": []
  },
  {
   "cell_type": "code",
   "execution_count": null,
   "id": "12dcee72-a9b2-4203-8c10-94b53fa1fa2d",
   "metadata": {},
   "outputs": [],
   "source": []
  },
  {
   "cell_type": "code",
   "execution_count": null,
   "id": "bc392cd5-8020-45f6-beee-03b1a9d4de7d",
   "metadata": {},
   "outputs": [],
   "source": []
  },
  {
   "cell_type": "code",
   "execution_count": null,
   "id": "919eb4cb-1a64-4441-84f7-c8192dca5866",
   "metadata": {},
   "outputs": [],
   "source": []
  },
  {
   "cell_type": "code",
   "execution_count": null,
   "id": "c672a9ec-c494-47fc-9023-11666e0350a8",
   "metadata": {},
   "outputs": [],
   "source": []
  }
 ],
 "metadata": {
  "kernelspec": {
   "display_name": "Python 3 (ipykernel)",
   "language": "python",
   "name": "python3"
  },
  "language_info": {
   "codemirror_mode": {
    "name": "ipython",
    "version": 3
   },
   "file_extension": ".py",
   "mimetype": "text/x-python",
   "name": "python",
   "nbconvert_exporter": "python",
   "pygments_lexer": "ipython3",
   "version": "3.12.5"
  }
 },
 "nbformat": 4,
 "nbformat_minor": 5
}
