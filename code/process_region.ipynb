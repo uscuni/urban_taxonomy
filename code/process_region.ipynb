{
 "cells": [
  {
   "cell_type": "code",
   "execution_count": 3,
   "id": "b46c8a5f-40bf-4312-b39e-1f29bbcbb262",
   "metadata": {},
   "outputs": [],
   "source": [
    "import gc\n",
    "import glob\n",
    "\n",
    "import geopandas as gpd\n",
    "import momepy as mm\n",
    "import numpy as np\n",
    "import pandas as pd\n",
    "import shapely\n",
    "from libpysal.graph import Graph, read_parquet\n",
    "import datetime"
   ]
  },
  {
   "cell_type": "code",
   "execution_count": null,
   "id": "ba2806de-b143-4f80-88e5-dda39d213cf6",
   "metadata": {},
   "outputs": [],
   "source": []
  },
  {
   "cell_type": "code",
   "execution_count": 4,
   "id": "06df3676-94c7-4477-8abc-cdeb02c813c6",
   "metadata": {},
   "outputs": [],
   "source": [
    "regions_buildings_dir = '/data/uscuni-ulce/regions/buildings/'\n",
    "buildings_dir = '/data/uscuni-ulce/processed_data/buildings/'\n",
    "overture_streets_dir = '/data/uscuni-ulce/overture_streets/'\n",
    "streets_dir = '/data/uscuni-ulce/processed_data/streets/'\n",
    "enclosures_dir = '/data/uscuni-ulce/processed_data/enclosures/'\n",
    "tessellations_dir = '/data/uscuni-ulce/processed_data/tessellations/'\n",
    "graph_dir = '/data/uscuni-ulce/processed_data/neigh_graphs/'\n",
    "chars_dir = '/data/uscuni-ulce/processed_data/chars/'\n",
    "\n",
    "regions_datadir = \"/data/uscuni-ulce/\"\n",
    "eubucco_files = glob.glob(regions_datadir + \"eubucco_raw/*\")"
   ]
  },
  {
   "cell_type": "code",
   "execution_count": null,
   "id": "ebb8307c-d05d-4aef-a699-f85f74c76a32",
   "metadata": {},
   "outputs": [],
   "source": []
  },
  {
   "cell_type": "code",
   "execution_count": null,
   "id": "a97456f4-e322-4f32-8a4a-6e97d2044e44",
   "metadata": {},
   "outputs": [],
   "source": []
  },
  {
   "cell_type": "code",
   "execution_count": 3,
   "id": "6506fac2-eb4b-4c15-948b-3bb55e2c7889",
   "metadata": {},
   "outputs": [],
   "source": [
    "# prague - 69333\n",
    "# freiburg - 5883\n",
    "# 4 - largest region\n",
    "\n",
    "# df = pd.read_parquet('/data/uscuni-ulce/regions/cadastre_id_to_region.parquet')\n",
    "# df.region.value_counts()\n",
    "# '''\n",
    "# region\n",
    "# 4.0         11084489\n",
    "# 107131.0     3078558\n",
    "# 16242.0      1457482\n",
    "# 4214.0       1389195\n",
    "# 8707.0       1220411\n",
    "#               ...   \n",
    "# 7727.0         12682\n",
    "# 6741.0         12235\n",
    "# 10970.0        12170\n",
    "# 10847.0        10871\n",
    "# 15545.0        10409\n",
    "# Name: count, Length: 828, dtype: int64\n",
    "# '''"
   ]
  },
  {
   "cell_type": "code",
   "execution_count": null,
   "id": "7de94bbb-f1e4-4aa0-80cb-59572a22b530",
   "metadata": {},
   "outputs": [],
   "source": []
  },
  {
   "cell_type": "code",
   "execution_count": null,
   "id": "15ce7e3e-333d-474b-8d21-29d06a0b486a",
   "metadata": {},
   "outputs": [],
   "source": []
  },
  {
   "cell_type": "code",
   "execution_count": 6,
   "id": "6fae1366-68fd-44f0-9f2b-1c051751858a",
   "metadata": {},
   "outputs": [],
   "source": [
    "region_name = 69333\n",
    "region_hulls = gpd.read_parquet(\n",
    "        regions_datadir + \"regions/\" + \"cadastre_regions_hull.parquet\"\n",
    "    )\n",
    "region_id, region_hull = region_hulls.loc[region_name].name, region_hulls.loc[region_name].convex_hull"
   ]
  },
  {
   "cell_type": "code",
   "execution_count": null,
   "id": "9af57951-cab8-44fa-b06c-c086d57e4621",
   "metadata": {},
   "outputs": [],
   "source": []
  },
  {
   "cell_type": "code",
   "execution_count": null,
   "id": "bbe2548a-0e82-41a0-a3be-6cad71572ba6",
   "metadata": {},
   "outputs": [],
   "source": []
  },
  {
   "cell_type": "markdown",
   "id": "7e12723b-0bba-40af-aae2-ca69bbc8b28d",
   "metadata": {
    "jp-MarkdownHeadingCollapsed": true
   },
   "source": [
    "## Buildings\n"
   ]
  },
  {
   "cell_type": "code",
   "execution_count": 5,
   "id": "932b7126-34d5-47eb-a83a-07ba6dbba127",
   "metadata": {},
   "outputs": [],
   "source": [
    "from core.generate_buildings import read_region_buildings, process_region_buildings"
   ]
  },
  {
   "cell_type": "code",
   "execution_count": 6,
   "id": "4f7cf8de-c4fc-4059-b1d9-5fa9d2365346",
   "metadata": {},
   "outputs": [],
   "source": [
    "# ## need to link eubucco building polygons to regions, this will change in the future\n",
    "# building_region_mapping = pd.read_parquet(\n",
    "#     regions_datadir + \"regions/\" + \"id_to_region.parquet\", engine=\"pyarrow\"\n",
    "# )\n",
    "# typed_dict = pd.Series(\n",
    "#     np.arange(building_region_mapping[\"id\"].values.shape[0]),\n",
    "#     index=building_region_mapping[\"id\"].values,\n",
    "# )\n",
    "# region_ids = building_region_mapping.groupby(\"region\")[\"id\"].unique()\n",
    "# del building_region_mapping  # its 2/3 gb"
   ]
  },
  {
   "cell_type": "code",
   "execution_count": 7,
   "id": "38f893be-eba0-42f2-9cd0-91d3fcf5753a",
   "metadata": {},
   "outputs": [
    {
     "name": "stdout",
     "output_type": "stream",
     "text": [
      "CPU times: user 228 ms, sys: 159 ms, total: 387 ms\n",
      "Wall time: 367 ms\n"
     ]
    }
   ],
   "source": [
    "%%time\n",
    "\n",
    "buildings = gpd.read_parquet(regions_buildings_dir + f'buildings_{region_id}.pq')"
   ]
  },
  {
   "cell_type": "code",
   "execution_count": null,
   "id": "e693265a-53f5-49c3-94cd-35ab7500bbd9",
   "metadata": {},
   "outputs": [],
   "source": []
  },
  {
   "cell_type": "code",
   "execution_count": 8,
   "id": "89550a09-e7e3-4ee0-b429-d7e04d526c71",
   "metadata": {},
   "outputs": [
    {
     "name": "stdout",
     "output_type": "stream",
     "text": [
      "Percent polygons:  1.0\n",
      "Final polygons:  457127 , dropped:  0.02918639964321368\n",
      "CPU times: user 1min 15s, sys: 335 ms, total: 1min 15s\n",
      "Wall time: 1min 15s\n"
     ]
    }
   ],
   "source": [
    "%%time\n",
    "\n",
    "buildings = process_region_buildings(buildings, True, simplification_tolerance=.1, merge_limit=25)"
   ]
  },
  {
   "cell_type": "code",
   "execution_count": null,
   "id": "ba4dbb84-6b9c-46d2-8501-87a49feabd7f",
   "metadata": {},
   "outputs": [],
   "source": [
    "buildings.to_parquet(buildings_dir + f\"buildings_{region_id}.parquet\")"
   ]
  },
  {
   "cell_type": "code",
   "execution_count": null,
   "id": "d15444b4-53ff-4a80-9122-1af9f95f412d",
   "metadata": {},
   "outputs": [],
   "source": []
  },
  {
   "cell_type": "code",
   "execution_count": null,
   "id": "be728b0a-fe12-4036-9334-58b22d16e684",
   "metadata": {},
   "outputs": [],
   "source": []
  },
  {
   "cell_type": "markdown",
   "id": "6c583ddc-c40b-4b6e-aa41-a33bd00570f3",
   "metadata": {},
   "source": [
    "## Streets"
   ]
  },
  {
   "cell_type": "code",
   "execution_count": 9,
   "id": "e882ddf0-ff0b-429e-b39b-8ff4d7afd9da",
   "metadata": {},
   "outputs": [],
   "source": [
    "from core.generate_streets import process_region_streets"
   ]
  },
  {
   "cell_type": "code",
   "execution_count": null,
   "id": "e5c36b67-5092-4577-b359-1ccef29979a3",
   "metadata": {},
   "outputs": [],
   "source": [
    "## overture is indexed based on 4326\n",
    "overture_hull = region_hulls.loc[[region_name], ].to_crs(epsg=4326).convex_hull.iloc[0]"
   ]
  },
  {
   "cell_type": "code",
   "execution_count": null,
   "id": "ac531dc8-2baf-4153-9067-bbcf15062a20",
   "metadata": {},
   "outputs": [],
   "source": []
  },
  {
   "cell_type": "code",
   "execution_count": null,
   "id": "a084da1a-db92-41c5-9cd7-0c4f1e9996f7",
   "metadata": {},
   "outputs": [
    {
     "name": "stderr",
     "output_type": "stream",
     "text": [
      "/home/krasen/urban_taxonomy/manual_deps/sgeop/sgeop/geometry.py:227: UserWarning: Could not create a connection as it would lead outside of the artifact.\n",
      "  additions, splits = snap_to_targets(\n",
      "/home/krasen/urban_taxonomy/manual_deps/sgeop/sgeop/geometry.py:227: UserWarning: Could not create a connection as it would lead outside of the artifact.\n",
      "  additions, splits = snap_to_targets(\n",
      "/home/krasen/urban_taxonomy/manual_deps/sgeop/sgeop/simplify.py:343: UserWarning: An error occured at location POINT (4634734.833449237 3007874.1868347814). The artifact has not been simplified. The original message:\n",
      "can only convert an array of size 1 to a Python scalar\n",
      "  roads_cleaned = simplify_singletons(\n",
      "/home/krasen/urban_taxonomy/manual_deps/sgeop/sgeop/geometry.py:227: UserWarning: Could not create a connection as it would lead outside of the artifact.\n",
      "  additions, splits = snap_to_targets(\n",
      "/home/krasen/urban_taxonomy/manual_deps/sgeop/sgeop/simplify.py:200: UserWarning: Could not create a connection as it would lead outside of the artifact.\n",
      "  nx_gx_cluster(\n",
      "/home/krasen/urban_taxonomy/manual_deps/sgeop/sgeop/simplify.py:200: UserWarning: Could not create a connection as it would lead outside of the artifact.\n",
      "  nx_gx_cluster(\n",
      "/home/krasen/urban_taxonomy/manual_deps/sgeop/sgeop/simplify.py:200: UserWarning: Could not create a connection as it would lead outside of the artifact.\n",
      "  nx_gx_cluster(\n"
     ]
    }
   ],
   "source": [
    "%%time\n",
    "## processs streets\n",
    "streets = process_region_streets(region_id, overture_streets_dir, buildings_dir)"
   ]
  },
  {
   "cell_type": "code",
   "execution_count": null,
   "id": "7956b696-07fd-48da-8b28-a2a495747029",
   "metadata": {},
   "outputs": [],
   "source": []
  },
  {
   "cell_type": "code",
   "execution_count": 13,
   "id": "f2a58bac-e166-4724-b9f1-2fbe8778a01d",
   "metadata": {},
   "outputs": [],
   "source": [
    "## save streets\n",
    "streets.to_parquet(streets_dir + f'streets_{region_id}.parquet')"
   ]
  },
  {
   "cell_type": "code",
   "execution_count": null,
   "id": "39a1d1af-94e2-42a4-895c-21b7163b8d75",
   "metadata": {},
   "outputs": [],
   "source": []
  },
  {
   "cell_type": "code",
   "execution_count": 8,
   "id": "8c7cfac5-e6f1-418b-865a-01e54c65436f",
   "metadata": {},
   "outputs": [],
   "source": [
    "import lonboard\n",
    "from sidecar import Sidecar\n",
    "\n",
    "streets.geometry = streets.make_valid()\n",
    "layer = lonboard.PathLayer.from_geopandas(streets.to_crs(4326), width_min_pixels=1)\n",
    "sc = Sidecar(title='streets')\n",
    "m = lonboard.Map(layer)\n",
    "with sc:\n",
    "    display(m)"
   ]
  },
  {
   "cell_type": "code",
   "execution_count": null,
   "id": "3e667962-df23-4288-846c-c7dc53e6b7f9",
   "metadata": {},
   "outputs": [],
   "source": []
  },
  {
   "cell_type": "code",
   "execution_count": 57,
   "id": "ed9438d7-3b8d-4825-b630-ecb13792b28e",
   "metadata": {},
   "outputs": [],
   "source": []
  },
  {
   "cell_type": "code",
   "execution_count": null,
   "id": "5faeea1f-6797-4b3e-94ac-21ab76bc4a9e",
   "metadata": {},
   "outputs": [],
   "source": []
  },
  {
   "cell_type": "code",
   "execution_count": null,
   "id": "2c486e30-a6ab-45a4-a4ec-b4c4e72e6992",
   "metadata": {},
   "outputs": [],
   "source": [
    "# streets.explore(tiles='cartodbpositron', prefer_canvas=True)"
   ]
  },
  {
   "cell_type": "code",
   "execution_count": null,
   "id": "3e1d44b4-5826-485a-b66b-5c6571872cc6",
   "metadata": {},
   "outputs": [],
   "source": [
    "1"
   ]
  },
  {
   "cell_type": "code",
   "execution_count": 50,
   "id": "d5a6d12d-d86a-4cb2-a4ec-76e5f27d0b51",
   "metadata": {},
   "outputs": [
    {
     "data": {
      "text/plain": [
       "(8756586, 5)"
      ]
     },
     "execution_count": 50,
     "metadata": {},
     "output_type": "execute_result"
    }
   ],
   "source": [
    "buildings.shape"
   ]
  },
  {
   "cell_type": "code",
   "execution_count": null,
   "id": "14040731-2f68-4f93-93b0-9407b8d93933",
   "metadata": {},
   "outputs": [],
   "source": []
  },
  {
   "cell_type": "code",
   "execution_count": null,
   "id": "b50701f2-0431-4730-ace7-874771d8d8ce",
   "metadata": {},
   "outputs": [],
   "source": []
  },
  {
   "cell_type": "code",
   "execution_count": null,
   "id": "562890b1-83f3-4e2f-bfd0-f3928bffcf07",
   "metadata": {},
   "outputs": [],
   "source": []
  },
  {
   "cell_type": "code",
   "execution_count": null,
   "id": "39e2b87d-3838-4a74-a940-034343aef67c",
   "metadata": {},
   "outputs": [],
   "source": [
    "import geopandas as gpd\n",
    "# gpd.read_parquet(streets_dir + f'streets_{region_id}.parquet').explore()"
   ]
  },
  {
   "cell_type": "code",
   "execution_count": 13,
   "id": "50dbdb54-f029-4511-b524-9ee29e7fe752",
   "metadata": {},
   "outputs": [],
   "source": [
    "# gpd.read_parquet(enclosures_dir + f'enclosure_{region_id}.parquet').explore()"
   ]
  },
  {
   "cell_type": "code",
   "execution_count": null,
   "id": "ec60a7fe-e872-4c01-b008-b33ba8fb0ca4",
   "metadata": {},
   "outputs": [],
   "source": []
  },
  {
   "cell_type": "code",
   "execution_count": null,
   "id": "939b137a-294a-4fe7-a70b-f58fce0471f2",
   "metadata": {},
   "outputs": [],
   "source": []
  },
  {
   "cell_type": "code",
   "execution_count": null,
   "id": "d27c4679-3543-414c-91be-ee3f2d9ac4bb",
   "metadata": {},
   "outputs": [],
   "source": []
  },
  {
   "cell_type": "markdown",
   "id": "3b23c6e4-17f5-42f0-987c-921d10557565",
   "metadata": {
    "jp-MarkdownHeadingCollapsed": true
   },
   "source": [
    "## Enclosures & Tessellation"
   ]
  },
  {
   "cell_type": "code",
   "execution_count": 14,
   "id": "b8314f1b-3efc-4439-965a-a48e87b34fa9",
   "metadata": {},
   "outputs": [],
   "source": [
    "from core.generate_elements import process_region_elements"
   ]
  },
  {
   "cell_type": "code",
   "execution_count": null,
   "id": "c68fd0e9-34df-4b2c-8cb1-82892a8da5ce",
   "metadata": {},
   "outputs": [],
   "source": []
  },
  {
   "cell_type": "code",
   "execution_count": 15,
   "id": "bbe4d0ac-0514-4e70-9f1e-eb70b28e05a6",
   "metadata": {},
   "outputs": [],
   "source": [
    "%%capture cap\n",
    "enclosures, tesselations = process_region_elements(buildings_dir, streets_dir, region_id)"
   ]
  },
  {
   "cell_type": "code",
   "execution_count": 16,
   "id": "d0a92a51-e839-4728-bd09-98141315f7f9",
   "metadata": {},
   "outputs": [
    {
     "name": "stdout",
     "output_type": "stream",
     "text": [
      "Processed enclosures\n",
      "processed tesselations\n"
     ]
    }
   ],
   "source": [
    "enclosures.to_parquet(enclosures_dir + f\"enclosure_{region_id}.parquet\")\n",
    "print(\"Processed enclosures\")\n",
    "\n",
    "## save files\n",
    "tesselations.to_parquet(\n",
    "    tessellations_dir + f\"tessellation_{region_id}.parquet\"\n",
    ")\n",
    "print(\"processed tesselations\")"
   ]
  },
  {
   "cell_type": "code",
   "execution_count": 17,
   "id": "9acdf8ca-c466-495b-91bb-d4fc62353def",
   "metadata": {},
   "outputs": [
    {
     "name": "stdout",
     "output_type": "stream",
     "text": [
      "---- Processing region:  69333 2024-10-01 12:40:26.099743\n"
     ]
    },
    {
     "name": "stderr",
     "output_type": "stream",
     "text": [
      "/home/krasen/urban_taxonomy/.pixi/envs/default/lib/python3.12/site-packages/joblib/externals/loky/process_executor.py:752: UserWarning: A worker stopped while some jobs were given to the executor. This can be caused by a too short worker timeout or by a memory leak.\n",
      "  warnings.warn(\n"
     ]
    }
   ],
   "source": [
    "cap.show()"
   ]
  },
  {
   "cell_type": "code",
   "execution_count": null,
   "id": "413c332a-78c8-4191-912e-db9f28704209",
   "metadata": {},
   "outputs": [],
   "source": [
    "# import lonboard\n",
    "# layer = lonboard.PolygonLayer.from_geopandas(tesselations, opacity=0.15)\n",
    "# m = lonboard.Map([layer])\n",
    "# m"
   ]
  },
  {
   "cell_type": "code",
   "execution_count": null,
   "id": "130a6515-93f5-4067-ac88-645df3802443",
   "metadata": {},
   "outputs": [],
   "source": [
    "# layer = lonboard.PolygonLayer.from_geopandas(enclosures, opacity=0.15)\n",
    "# m = lonboard.Map([layer])\n",
    "# m"
   ]
  },
  {
   "cell_type": "code",
   "execution_count": null,
   "id": "f51d78b0-9c40-4162-b22c-c8f3ee16deaf",
   "metadata": {},
   "outputs": [],
   "source": []
  },
  {
   "cell_type": "code",
   "execution_count": null,
   "id": "dd455920-66df-4fd5-8ced-64fc626334c7",
   "metadata": {},
   "outputs": [],
   "source": []
  },
  {
   "cell_type": "markdown",
   "id": "c4f68f61-03d3-4603-b9f0-9b8704ca469b",
   "metadata": {},
   "source": [
    "## Graphs"
   ]
  },
  {
   "cell_type": "code",
   "execution_count": 18,
   "id": "4f52f1d9-b910-4d41-a086-8b2faa858f96",
   "metadata": {},
   "outputs": [],
   "source": [
    "from core.generate_ngraphs import process_region_graphs"
   ]
  },
  {
   "cell_type": "code",
   "execution_count": 19,
   "id": "ad6345c5-f2de-4c7d-abc5-c1c33ede6c2a",
   "metadata": {},
   "outputs": [
    {
     "name": "stdout",
     "output_type": "stream",
     "text": [
      "Built tess graph knn=1\n",
      "Built buildings graph knn=1\n",
      "Built streets graph knn=1\n",
      "Built enclosure graph knn=1\n"
     ]
    },
    {
     "name": "stderr",
     "output_type": "stream",
     "text": [
      "/home/krasen/urban_taxonomy/.pixi/envs/default/lib/python3.12/site-packages/libpysal/weights/weights.py:1685: UserWarning: The weights matrix is not fully connected: \n",
      " There are 243 disconnected components.\n",
      "  w = W(neighbors, weights, ids, silence_warnings=silence_warnings)\n"
     ]
    },
    {
     "name": "stdout",
     "output_type": "stream",
     "text": [
      "Built nodes graph knn=1\n",
      "CPU times: user 41.9 s, sys: 958 ms, total: 42.8 s\n",
      "Wall time: 42.7 s\n"
     ]
    }
   ],
   "source": [
    "%%time\n",
    "process_region_graphs(\n",
    "    region_id,\n",
    "    graph_dir,\n",
    "    buildings_dir,\n",
    "    streets_dir,\n",
    "    enclosures_dir,\n",
    "    tessellations_dir,\n",
    ")"
   ]
  },
  {
   "cell_type": "code",
   "execution_count": null,
   "id": "d63f787a-8eb6-4f84-8fea-c0ef9b56d997",
   "metadata": {},
   "outputs": [],
   "source": []
  },
  {
   "cell_type": "code",
   "execution_count": null,
   "id": "8e4d9e7c-7805-488e-b2d7-6949b732a2af",
   "metadata": {},
   "outputs": [],
   "source": []
  },
  {
   "cell_type": "markdown",
   "id": "6e7bc073-b62b-4aa4-b09d-c93d07428e77",
   "metadata": {},
   "source": [
    "## Characters"
   ]
  },
  {
   "cell_type": "code",
   "execution_count": 20,
   "id": "105c07ab-ede1-4f70-bc5d-eb0958d00c06",
   "metadata": {},
   "outputs": [],
   "source": [
    "from core.generate_chars import process_single_region_chars, process_street_chars"
   ]
  },
  {
   "cell_type": "code",
   "execution_count": 21,
   "id": "6af38e44-98ae-4c27-917e-c03123c8b034",
   "metadata": {},
   "outputs": [],
   "source": [
    "%%capture cap\n",
    "\n",
    "process_single_region_chars(\n",
    "    region_id,\n",
    "    graph_dir,\n",
    "    buildings_dir,\n",
    "    streets_dir,\n",
    "    enclosures_dir,\n",
    "    tessellations_dir,\n",
    "    chars_dir\n",
    ")"
   ]
  },
  {
   "cell_type": "code",
   "execution_count": null,
   "id": "f40f7b79-4030-44bf-9325-2926eab48fa5",
   "metadata": {},
   "outputs": [],
   "source": []
  },
  {
   "cell_type": "code",
   "execution_count": null,
   "id": "cb7503cc-a57d-4bfd-b7cc-21998c3ec1d0",
   "metadata": {},
   "outputs": [],
   "source": []
  },
  {
   "cell_type": "code",
   "execution_count": null,
   "id": "3fc1ba8d-9eef-44ca-b50f-6e1a846a7ff6",
   "metadata": {},
   "outputs": [],
   "source": []
  },
  {
   "cell_type": "markdown",
   "id": "019091f7-625b-48ac-932b-b5ccd8e00fbe",
   "metadata": {},
   "source": [
    "## Generate primary data"
   ]
  },
  {
   "cell_type": "code",
   "execution_count": 22,
   "id": "7343fa13-9384-46c1-b8e1-e072bdb59c25",
   "metadata": {},
   "outputs": [],
   "source": [
    "tessellation = gpd.read_parquet(chars_dir + f\"tessellations_chars_{region_id}.parquet\")\n",
    "buildings = gpd.read_parquet(chars_dir + f\"buildings_chars_{region_id}.parquet\")\n",
    "enclosures = gpd.read_parquet(chars_dir + f\"enclosures_chars_{region_id}.parquet\")\n",
    "streets = gpd.read_parquet(chars_dir + f\"streets_chars_{region_id}.parquet\")\n",
    "nodes = gpd.read_parquet(chars_dir + f\"nodes_chars_{region_id}.parquet\")"
   ]
  },
  {
   "cell_type": "code",
   "execution_count": 23,
   "id": "ff6b89b4-4eca-4854-8063-9393bf3b5fb1",
   "metadata": {},
   "outputs": [],
   "source": [
    "\n",
    "merged = pd.merge(\n",
    "    tessellation.drop(columns=[\"geometry\"]),\n",
    "    buildings.drop(columns=[\"nodeID\", \"geometry\", 'nID']),\n",
    "    right_index=True,\n",
    "    left_index=True,\n",
    "    how=\"left\",\n",
    ")\n",
    "\n",
    "merged = merged.merge(\n",
    "    enclosures.drop(columns=\"geometry\"),\n",
    "    right_on=\"eID\",\n",
    "    left_on=\"enclosure_index\",\n",
    "    how=\"left\",\n",
    ")\n",
    "\n",
    "merged = merged.merge(streets.drop(columns=\"geometry\"), on=\"nID\", how=\"left\")\n",
    "merged = merged.merge(nodes.drop(columns=\"geometry\"), on=\"nodeID\", how=\"left\")\n",
    "\n",
    "merged = merged.drop(\n",
    "    columns=[\n",
    "        \"nID\",\n",
    "        \"eID\",\n",
    "        \"nodeID\",\n",
    "        \"mm_len\",\n",
    "        \"cdsbool\",\n",
    "        \"node_start\",\n",
    "        \"node_end\",\n",
    "        \"x\",\n",
    "        \"y\",\n",
    "        \"enclosure_index\",\n",
    "        # \"id\",\n",
    "        # \"osm_id\",\n",
    "        \"index\",  ## maybe keep\n",
    "    ]\n",
    ")\n",
    "merged = merged.set_index(tessellation.index)"
   ]
  },
  {
   "cell_type": "code",
   "execution_count": 24,
   "id": "5f1e25c0-3c99-418e-b817-a34564f47ebe",
   "metadata": {},
   "outputs": [],
   "source": [
    "from core.utils import used_keys"
   ]
  },
  {
   "cell_type": "code",
   "execution_count": 25,
   "id": "4482d0b4-553b-4914-9830-a376896a8979",
   "metadata": {},
   "outputs": [
    {
     "data": {
      "text/plain": [
       "(461350, 63)"
      ]
     },
     "execution_count": 25,
     "metadata": {},
     "output_type": "execute_result"
    }
   ],
   "source": [
    "primary = merged[list(used_keys.keys())]\n",
    "primary.shape"
   ]
  },
  {
   "cell_type": "code",
   "execution_count": 26,
   "id": "ddbdd396-6e6b-471e-80c3-316ac25c4196",
   "metadata": {},
   "outputs": [],
   "source": [
    "primary.to_parquet(chars_dir + f'primary_chars_{region_id}.parquet')"
   ]
  },
  {
   "cell_type": "code",
   "execution_count": null,
   "id": "12dcee72-a9b2-4203-8c10-94b53fa1fa2d",
   "metadata": {},
   "outputs": [],
   "source": []
  },
  {
   "cell_type": "code",
   "execution_count": null,
   "id": "bc392cd5-8020-45f6-beee-03b1a9d4de7d",
   "metadata": {},
   "outputs": [],
   "source": []
  },
  {
   "cell_type": "code",
   "execution_count": null,
   "id": "919eb4cb-1a64-4441-84f7-c8192dca5866",
   "metadata": {},
   "outputs": [],
   "source": []
  },
  {
   "cell_type": "code",
   "execution_count": null,
   "id": "c672a9ec-c494-47fc-9023-11666e0350a8",
   "metadata": {},
   "outputs": [],
   "source": []
  }
 ],
 "metadata": {
  "kernelspec": {
   "display_name": "Python 3 (ipykernel)",
   "language": "python",
   "name": "python3"
  },
  "language_info": {
   "codemirror_mode": {
    "name": "ipython",
    "version": 3
   },
   "file_extension": ".py",
   "mimetype": "text/x-python",
   "name": "python",
   "nbconvert_exporter": "python",
   "pygments_lexer": "ipython3",
   "version": "3.12.5"
  }
 },
 "nbformat": 4,
 "nbformat_minor": 5
}
