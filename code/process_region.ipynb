{
 "cells": [
  {
   "cell_type": "code",
   "execution_count": 1,
   "id": "b46c8a5f-40bf-4312-b39e-1f29bbcbb262",
   "metadata": {},
   "outputs": [],
   "source": [
    "import gc\n",
    "import glob\n",
    "\n",
    "import geopandas as gpd\n",
    "import momepy as mm\n",
    "import numpy as np\n",
    "import pandas as pd\n",
    "import shapely\n",
    "from libpysal.graph import Graph, read_parquet\n",
    "import datetime"
   ]
  },
  {
   "cell_type": "code",
   "execution_count": null,
   "id": "ba2806de-b143-4f80-88e5-dda39d213cf6",
   "metadata": {},
   "outputs": [],
   "source": []
  },
  {
   "cell_type": "code",
   "execution_count": 2,
   "id": "06df3676-94c7-4477-8abc-cdeb02c813c6",
   "metadata": {},
   "outputs": [],
   "source": [
    "regions_buildings_dir = '/data/uscuni-ulce/regions/buildings/'\n",
    "buildings_dir = '/data/uscuni-ulce/processed_data/buildings/'\n",
    "overture_streets_dir = '/data/uscuni-ulce/overture_streets/'\n",
    "streets_dir = '/data/uscuni-ulce/processed_data/streets/'\n",
    "enclosures_dir = '/data/uscuni-ulce/processed_data/enclosures/'\n",
    "tessellations_dir = '/data/uscuni-ulce/processed_data/tessellations/'\n",
    "graph_dir = '/data/uscuni-ulce/processed_data/neigh_graphs/'\n",
    "chars_dir = '/data/uscuni-ulce/processed_data/chars/'\n",
    "\n",
    "regions_datadir = \"/data/uscuni-ulce/\"\n",
    "eubucco_files = glob.glob(regions_datadir + \"eubucco_raw/*\")"
   ]
  },
  {
   "cell_type": "code",
   "execution_count": null,
   "id": "ebb8307c-d05d-4aef-a699-f85f74c76a32",
   "metadata": {},
   "outputs": [],
   "source": []
  },
  {
   "cell_type": "code",
   "execution_count": null,
   "id": "a97456f4-e322-4f32-8a4a-6e97d2044e44",
   "metadata": {},
   "outputs": [],
   "source": []
  },
  {
   "cell_type": "code",
   "execution_count": null,
   "id": "abcd0e79-8654-408e-b1b7-7d342f8a766b",
   "metadata": {},
   "outputs": [],
   "source": []
  },
  {
   "cell_type": "code",
   "execution_count": null,
   "id": "e706dfbf-9b67-4bae-9801-0bfa14a72071",
   "metadata": {},
   "outputs": [],
   "source": []
  },
  {
   "cell_type": "code",
   "execution_count": 3,
   "id": "6506fac2-eb4b-4c15-948b-3bb55e2c7889",
   "metadata": {},
   "outputs": [],
   "source": [
    "# prague - 69333\n",
    "# freiburg - 5883\n",
    "# 4 - largest region\n",
    "\n",
    "# df = pd.read_parquet('/data/uscuni-ulce/regions/cadastre_id_to_region.parquet')\n",
    "# df.region.value_counts()\n",
    "# '''\n",
    "# region\n",
    "# 4.0         11084489\n",
    "# 107131.0     3078558\n",
    "# 16242.0      1457482\n",
    "# 4214.0       1389195\n",
    "# 8707.0       1220411\n",
    "#               ...   \n",
    "# 7727.0         12682\n",
    "# 6741.0         12235\n",
    "# 10970.0        12170\n",
    "# 10847.0        10871\n",
    "# 15545.0        10409\n",
    "# Name: count, Length: 828, dtype: int64\n",
    "\n",
    "\n",
    "\n",
    "# df.region.value_counts().iloc[:20].index.values.astype(int)\n",
    "\n",
    "# array([     4, 107131,  16242,   4214,   8707,  51289, 114311,  55763,\n",
    "#         14679,  62954,  10579,  38679,  86873,  34266,     10,  80404,\n",
    "#         18557,  69333,   1154, 130658])\n",
    "# '''"
   ]
  },
  {
   "cell_type": "code",
   "execution_count": null,
   "id": "7de94bbb-f1e4-4aa0-80cb-59572a22b530",
   "metadata": {},
   "outputs": [],
   "source": []
  },
  {
   "cell_type": "code",
   "execution_count": null,
   "id": "a86463d9-31d3-4b40-baf2-bd322dc59f79",
   "metadata": {},
   "outputs": [],
   "source": []
  },
  {
   "cell_type": "code",
   "execution_count": null,
   "id": "15ce7e3e-333d-474b-8d21-29d06a0b486a",
   "metadata": {},
   "outputs": [],
   "source": []
  },
  {
   "cell_type": "code",
   "execution_count": 4,
   "id": "6fae1366-68fd-44f0-9f2b-1c051751858a",
   "metadata": {},
   "outputs": [],
   "source": [
    "region_name = 69333\n",
    "region_hulls = gpd.read_parquet(\n",
    "        regions_datadir + \"regions/\" + \"cadastre_regions_hull.parquet\"\n",
    "    )\n",
    "region_id, region_hull = region_hulls.loc[region_name].name, region_hulls.loc[region_name].convex_hull"
   ]
  },
  {
   "cell_type": "code",
   "execution_count": 1,
   "id": "1306ce98-7819-4dea-8ea6-f92eb83b8b05",
   "metadata": {},
   "outputs": [],
   "source": [
    "# region_hulls.explore()"
   ]
  },
  {
   "cell_type": "code",
   "execution_count": 5,
   "id": "9af57951-cab8-44fa-b06c-c086d57e4621",
   "metadata": {},
   "outputs": [
    {
     "data": {
      "text/plain": [
       "(828, 1)"
      ]
     },
     "execution_count": 5,
     "metadata": {},
     "output_type": "execute_result"
    }
   ],
   "source": [
    "region_hulls.shape"
   ]
  },
  {
   "cell_type": "code",
   "execution_count": null,
   "id": "dd99832f-3406-4317-89f5-111b8a89bfe0",
   "metadata": {},
   "outputs": [],
   "source": []
  },
  {
   "cell_type": "markdown",
   "id": "7e12723b-0bba-40af-aae2-ca69bbc8b28d",
   "metadata": {
    "jp-MarkdownHeadingCollapsed": true
   },
   "source": [
    "## Buildings\n"
   ]
  },
  {
   "cell_type": "code",
   "execution_count": 28,
   "id": "932b7126-34d5-47eb-a83a-07ba6dbba127",
   "metadata": {},
   "outputs": [],
   "source": [
    "from core.generate_buildings import read_region_buildings, process_region_buildings"
   ]
  },
  {
   "cell_type": "code",
   "execution_count": 41,
   "id": "38f893be-eba0-42f2-9cd0-91d3fcf5753a",
   "metadata": {},
   "outputs": [
    {
     "name": "stdout",
     "output_type": "stream",
     "text": [
      "CPU times: user 252 ms, sys: 77.8 ms, total: 330 ms\n",
      "Wall time: 307 ms\n"
     ]
    }
   ],
   "source": [
    "%%time\n",
    "\n",
    "buildings = gpd.read_parquet(regions_buildings_dir + f'buildings_{region_id}.pq')"
   ]
  },
  {
   "cell_type": "code",
   "execution_count": null,
   "id": "4bbbaa4c-e641-46a8-a2f0-44a2d554633d",
   "metadata": {},
   "outputs": [],
   "source": []
  },
  {
   "cell_type": "code",
   "execution_count": null,
   "id": "d247471d-b962-42bc-b295-c1b37af06284",
   "metadata": {},
   "outputs": [],
   "source": []
  },
  {
   "cell_type": "code",
   "execution_count": null,
   "id": "e693265a-53f5-49c3-94cd-35ab7500bbd9",
   "metadata": {},
   "outputs": [],
   "source": []
  },
  {
   "cell_type": "code",
   "execution_count": 31,
   "id": "89550a09-e7e3-4ee0-b429-d7e04d526c71",
   "metadata": {},
   "outputs": [
    {
     "name": "stdout",
     "output_type": "stream",
     "text": [
      "Percent polygons:  1.0\n",
      "Final polygons:  457127 , dropped:  0.02918639964321368\n",
      "CPU times: user 1min 17s, sys: 0 ns, total: 1min 17s\n",
      "Wall time: 1min 17s\n"
     ]
    }
   ],
   "source": [
    "%%time\n",
    "\n",
    "buildings = process_region_buildings(buildings, True, simplification_tolerance=.1, merge_limit=25)"
   ]
  },
  {
   "cell_type": "code",
   "execution_count": null,
   "id": "b3c6bbd0-d18e-43cc-a61d-123607dbf9fc",
   "metadata": {},
   "outputs": [],
   "source": []
  },
  {
   "cell_type": "code",
   "execution_count": 10,
   "id": "72862477-d5e1-4651-88c7-40ee3abcfbde",
   "metadata": {},
   "outputs": [],
   "source": [
    "\n",
    "# orig_buildings = gpd.read_parquet(regions_buildings_dir + f'buildings_{region_id}.pq')\n",
    "# dropped_buildings = orig_buildings[~orig_buildings['iid'].isin(buildings['iid'])]\n",
    "\n",
    "\n",
    "# m = dropped_buildings.explore(color='red')\n",
    "# m = buildings.explore(m=m)\n",
    "# m"
   ]
  },
  {
   "cell_type": "code",
   "execution_count": null,
   "id": "b0831db6-599a-480c-bec0-6217aa05146f",
   "metadata": {},
   "outputs": [],
   "source": []
  },
  {
   "cell_type": "code",
   "execution_count": null,
   "id": "ea709bea-abd2-4e47-96df-12017d4efb80",
   "metadata": {},
   "outputs": [],
   "source": []
  },
  {
   "cell_type": "code",
   "execution_count": null,
   "id": "a1c53c00-58c8-4087-8f47-6e24d5476c66",
   "metadata": {},
   "outputs": [],
   "source": []
  },
  {
   "cell_type": "code",
   "execution_count": 11,
   "id": "ba4dbb84-6b9c-46d2-8501-87a49feabd7f",
   "metadata": {},
   "outputs": [],
   "source": [
    "buildings.to_parquet(buildings_dir + f\"buildings_{region_id}.parquet\")"
   ]
  },
  {
   "cell_type": "markdown",
   "id": "6c583ddc-c40b-4b6e-aa41-a33bd00570f3",
   "metadata": {
    "jp-MarkdownHeadingCollapsed": true
   },
   "source": [
    "## Streets"
   ]
  },
  {
   "cell_type": "code",
   "execution_count": 6,
   "id": "e882ddf0-ff0b-429e-b39b-8ff4d7afd9da",
   "metadata": {},
   "outputs": [],
   "source": [
    "from core.generate_streets import process_region_streets, process_single_region_streets"
   ]
  },
  {
   "cell_type": "code",
   "execution_count": null,
   "id": "b27d6301-e5aa-4ee9-9ec9-7b9fb2b940e8",
   "metadata": {},
   "outputs": [],
   "source": []
  },
  {
   "cell_type": "code",
   "execution_count": null,
   "id": "d7f814c8-3873-4e41-80cb-1cb14c44964b",
   "metadata": {},
   "outputs": [],
   "source": []
  },
  {
   "cell_type": "code",
   "execution_count": 7,
   "id": "ab781369-4305-40a7-8137-70d6ec23db4d",
   "metadata": {},
   "outputs": [],
   "source": [
    "# from core.utils import largest_regions\n",
    "# region_hulls = region_hulls[~region_hulls.index.isin(largest_regions)]"
   ]
  },
  {
   "cell_type": "code",
   "execution_count": 7,
   "id": "7b6da254-b54a-41e4-9882-5c0272ddac96",
   "metadata": {},
   "outputs": [
    {
     "data": {
      "text/html": [
       "<div>\n",
       "<style scoped>\n",
       "    .dataframe tbody tr th:only-of-type {\n",
       "        vertical-align: middle;\n",
       "    }\n",
       "\n",
       "    .dataframe tbody tr th {\n",
       "        vertical-align: top;\n",
       "    }\n",
       "\n",
       "    .dataframe thead th {\n",
       "        text-align: right;\n",
       "    }\n",
       "</style>\n",
       "<table border=\"1\" class=\"dataframe\">\n",
       "  <thead>\n",
       "    <tr style=\"text-align: right;\">\n",
       "      <th></th>\n",
       "      <th>convex_hull</th>\n",
       "    </tr>\n",
       "    <tr>\n",
       "      <th>labels</th>\n",
       "      <th></th>\n",
       "    </tr>\n",
       "  </thead>\n",
       "  <tbody>\n",
       "  </tbody>\n",
       "</table>\n",
       "</div>"
      ],
      "text/plain": [
       "Empty GeoDataFrame\n",
       "Columns: [convex_hull]\n",
       "Index: []"
      ]
     },
     "execution_count": 7,
     "metadata": {},
     "output_type": "execute_result"
    }
   ],
   "source": [
    "processed_region_ids = [int(s.split('.')[0].split('_')[-1])for s in glob.glob(streets_dir + '*')]\n",
    "region_hulls = region_hulls[~region_hulls.index.isin(processed_region_ids)]\n",
    "region_hulls"
   ]
  },
  {
   "cell_type": "code",
   "execution_count": null,
   "id": "d1b5999b-84d2-49c9-99c7-f53a4e5a1e33",
   "metadata": {},
   "outputs": [],
   "source": []
  },
  {
   "cell_type": "code",
   "execution_count": null,
   "id": "3a30c3b2-4166-4032-9830-191fe6bea4ce",
   "metadata": {},
   "outputs": [],
   "source": []
  },
  {
   "cell_type": "code",
   "execution_count": null,
   "id": "114e5a97-4d8d-4805-b1ec-b954f5a73a35",
   "metadata": {},
   "outputs": [],
   "source": []
  },
  {
   "cell_type": "code",
   "execution_count": 8,
   "id": "a084da1a-db92-41c5-9cd7-0c4f1e9996f7",
   "metadata": {
    "scrolled": true
   },
   "outputs": [
    {
     "name": "stderr",
     "output_type": "stream",
     "text": [
      "/home/krasen/urban_taxonomy/manual_deps/sgeop/sgeop/geometry.py:247: UserWarning: Could not create a connection as it would lead outside of the artifact.\n",
      "  additions, splits = snap_to_targets(\n",
      "/home/krasen/urban_taxonomy/manual_deps/sgeop/sgeop/geometry.py:247: UserWarning: Could not create a connection as it would lead outside of the artifact.\n",
      "  additions, splits = snap_to_targets(\n",
      "/home/krasen/urban_taxonomy/manual_deps/sgeop/sgeop/simplify.py:343: UserWarning: An error occured at location POINT (4634734.833449237 3007874.1868347814). The artifact has not been simplified. The original message:\n",
      "can only convert an array of size 1 to a Python scalar\n",
      "  roads_cleaned = simplify_singletons(\n",
      "/home/krasen/urban_taxonomy/manual_deps/sgeop/sgeop/geometry.py:247: UserWarning: Could not create a connection as it would lead outside of the artifact.\n",
      "  additions, splits = snap_to_targets(\n",
      "/home/krasen/urban_taxonomy/manual_deps/sgeop/sgeop/simplify.py:200: UserWarning: Could not create a connection as it would lead outside of the artifact.\n",
      "  nx_gx_cluster(\n",
      "/home/krasen/urban_taxonomy/manual_deps/sgeop/sgeop/simplify.py:200: UserWarning: Could not create a connection as it would lead outside of the artifact.\n",
      "  nx_gx_cluster(\n",
      "/home/krasen/urban_taxonomy/manual_deps/sgeop/sgeop/simplify.py:200: UserWarning: Could not create a connection as it would lead outside of the artifact.\n",
      "  nx_gx_cluster(\n",
      "/home/krasen/urban_taxonomy/manual_deps/sgeop/sgeop/geometry.py:247: UserWarning: Could not create a connection as it would lead outside of the artifact.\n",
      "  additions, splits = snap_to_targets(\n"
     ]
    },
    {
     "name": "stdout",
     "output_type": "stream",
     "text": [
      "CPU times: user 9min 39s, sys: 3.21 s, total: 9min 42s\n",
      "Wall time: 9min 36s\n"
     ]
    }
   ],
   "source": [
    "%%time\n",
    "## processs streets\n",
    "streets = process_region_streets(region_id, overture_streets_dir, buildings_dir)"
   ]
  },
  {
   "cell_type": "code",
   "execution_count": null,
   "id": "7956b696-07fd-48da-8b28-a2a495747029",
   "metadata": {},
   "outputs": [],
   "source": []
  },
  {
   "cell_type": "code",
   "execution_count": null,
   "id": "68f8df02-db77-4cbb-8541-1631f2c2100c",
   "metadata": {},
   "outputs": [],
   "source": []
  },
  {
   "cell_type": "code",
   "execution_count": 11,
   "id": "f2a58bac-e166-4724-b9f1-2fbe8778a01d",
   "metadata": {},
   "outputs": [],
   "source": [
    "## save streets\n",
    "streets.to_parquet(streets_dir + f'streets_{region_id}.parquet')"
   ]
  },
  {
   "cell_type": "code",
   "execution_count": null,
   "id": "2cad5944-459b-47d3-b69e-431b570823d5",
   "metadata": {},
   "outputs": [],
   "source": []
  },
  {
   "cell_type": "code",
   "execution_count": 47,
   "id": "ed0b11ca-a7c3-4c93-bc08-8501d86819fc",
   "metadata": {},
   "outputs": [],
   "source": [
    "buildings.iloc[np.unique(building_idxs)].to_parquet('ws_buildings.pq')"
   ]
  },
  {
   "cell_type": "code",
   "execution_count": 48,
   "id": "b06937a1-88bd-44e9-9660-2ab6b3da42b7",
   "metadata": {},
   "outputs": [],
   "source": [
    "streets.iloc[np.unique(idxs)].to_parquet('ws_streets.pq')"
   ]
  },
  {
   "cell_type": "code",
   "execution_count": null,
   "id": "f334143a-a9b8-4e01-8a89-d2052a37513c",
   "metadata": {},
   "outputs": [],
   "source": []
  },
  {
   "cell_type": "code",
   "execution_count": null,
   "id": "5faeea1f-6797-4b3e-94ac-21ab76bc4a9e",
   "metadata": {},
   "outputs": [],
   "source": []
  },
  {
   "cell_type": "code",
   "execution_count": 10,
   "id": "2c486e30-a6ab-45a4-a4ec-b4c4e72e6992",
   "metadata": {},
   "outputs": [],
   "source": [
    "# streets.explore(tiles='cartodbpositron', prefer_canvas=True)"
   ]
  },
  {
   "cell_type": "code",
   "execution_count": null,
   "id": "14040731-2f68-4f93-93b0-9407b8d93933",
   "metadata": {},
   "outputs": [],
   "source": []
  },
  {
   "cell_type": "code",
   "execution_count": null,
   "id": "b50701f2-0431-4730-ace7-874771d8d8ce",
   "metadata": {},
   "outputs": [],
   "source": []
  },
  {
   "cell_type": "code",
   "execution_count": null,
   "id": "562890b1-83f3-4e2f-bfd0-f3928bffcf07",
   "metadata": {},
   "outputs": [],
   "source": []
  },
  {
   "cell_type": "code",
   "execution_count": 19,
   "id": "39e2b87d-3838-4a74-a940-034343aef67c",
   "metadata": {},
   "outputs": [],
   "source": [
    "# import geopandas as gpd\n",
    "# gpd.read_parquet(streets_dir + f'streets_{region_id}.parquet').explore()"
   ]
  },
  {
   "cell_type": "code",
   "execution_count": 20,
   "id": "50dbdb54-f029-4511-b524-9ee29e7fe752",
   "metadata": {},
   "outputs": [],
   "source": [
    "# gpd.read_parquet(enclosures_dir + f'enclosure_{region_id}.parquet').explore()"
   ]
  },
  {
   "cell_type": "code",
   "execution_count": null,
   "id": "ec60a7fe-e872-4c01-b008-b33ba8fb0ca4",
   "metadata": {},
   "outputs": [],
   "source": []
  },
  {
   "cell_type": "code",
   "execution_count": null,
   "id": "939b137a-294a-4fe7-a70b-f58fce0471f2",
   "metadata": {},
   "outputs": [],
   "source": []
  },
  {
   "cell_type": "code",
   "execution_count": null,
   "id": "d27c4679-3543-414c-91be-ee3f2d9ac4bb",
   "metadata": {},
   "outputs": [],
   "source": []
  },
  {
   "cell_type": "markdown",
   "id": "3b23c6e4-17f5-42f0-987c-921d10557565",
   "metadata": {
    "jp-MarkdownHeadingCollapsed": true
   },
   "source": [
    "## Enclosures & Tessellation"
   ]
  },
  {
   "cell_type": "code",
   "execution_count": 6,
   "id": "b8314f1b-3efc-4439-965a-a48e87b34fa9",
   "metadata": {},
   "outputs": [],
   "source": [
    "from core.generate_elements import process_region_elements, generate_enclosures_representative_points, generate_tess"
   ]
  },
  {
   "cell_type": "code",
   "execution_count": 7,
   "id": "c68fd0e9-34df-4b2c-8cb1-82892a8da5ce",
   "metadata": {},
   "outputs": [],
   "source": [
    "# 21894\n",
    "# 47090"
   ]
  },
  {
   "cell_type": "code",
   "execution_count": 8,
   "id": "bbe4d0ac-0514-4e70-9f1e-eb70b28e05a6",
   "metadata": {},
   "outputs": [
    {
     "name": "stdout",
     "output_type": "stream",
     "text": [
      "---- Processing region:  21894 2024-10-12 19:08:34.123948\n"
     ]
    },
    {
     "name": "stderr",
     "output_type": "stream",
     "text": [
      "\n",
      "KeyboardInterrupt\n",
      "\n"
     ]
    }
   ],
   "source": [
    "# %%time\n",
    "enclosures, tesselations = process_region_elements(buildings_dir, streets_dir, region_id)"
   ]
  },
  {
   "cell_type": "code",
   "execution_count": null,
   "id": "57b10c8f-5fc7-4b08-a8c7-324be52728cb",
   "metadata": {},
   "outputs": [],
   "source": []
  },
  {
   "cell_type": "code",
   "execution_count": null,
   "id": "d5f56406-9c98-4f80-85c8-79251d3647d7",
   "metadata": {},
   "outputs": [],
   "source": []
  },
  {
   "cell_type": "code",
   "execution_count": 29,
   "id": "27d12e2a-8f30-43d2-babc-4a356ebd3cc9",
   "metadata": {},
   "outputs": [
    {
     "data": {
      "text/html": [
       "<div>\n",
       "<style scoped>\n",
       "    .dataframe tbody tr th:only-of-type {\n",
       "        vertical-align: middle;\n",
       "    }\n",
       "\n",
       "    .dataframe tbody tr th {\n",
       "        vertical-align: top;\n",
       "    }\n",
       "\n",
       "    .dataframe thead th {\n",
       "        text-align: right;\n",
       "    }\n",
       "</style>\n",
       "<table border=\"1\" class=\"dataframe\">\n",
       "  <thead>\n",
       "    <tr style=\"text-align: right;\">\n",
       "      <th></th>\n",
       "      <th>convex_hull</th>\n",
       "    </tr>\n",
       "    <tr>\n",
       "      <th>labels</th>\n",
       "      <th></th>\n",
       "    </tr>\n",
       "  </thead>\n",
       "  <tbody>\n",
       "  </tbody>\n",
       "</table>\n",
       "</div>"
      ],
      "text/plain": [
       "Empty GeoDataFrame\n",
       "Columns: [convex_hull]\n",
       "Index: []"
      ]
     },
     "execution_count": 29,
     "metadata": {},
     "output_type": "execute_result"
    }
   ],
   "source": [
    "region_hulls = gpd.read_parquet(\n",
    "    regions_datadir + \"regions/\" + \"cadastre_regions_hull.parquet\"\n",
    ")\n",
    "processed_region_ids = [int(s.split('.')[0].split('_')[-1])for s in glob.glob(tessellations_dir + '*')]\n",
    "region_hulls = region_hulls[~region_hulls.index.isin(processed_region_ids)]\n",
    "region_hulls"
   ]
  },
  {
   "cell_type": "code",
   "execution_count": null,
   "id": "695d5bbd-921c-48ed-a00a-20c499797f5a",
   "metadata": {},
   "outputs": [],
   "source": []
  },
  {
   "cell_type": "code",
   "execution_count": null,
   "id": "47f0cae3-115f-4512-b687-5f865ca4d123",
   "metadata": {},
   "outputs": [],
   "source": []
  },
  {
   "cell_type": "code",
   "execution_count": null,
   "id": "288cc1aa-148d-434f-a509-4f029b23aa0d",
   "metadata": {},
   "outputs": [],
   "source": []
  },
  {
   "cell_type": "code",
   "execution_count": 13,
   "id": "f45738b5-4a38-4705-9522-2d840bda1f4b",
   "metadata": {},
   "outputs": [],
   "source": [
    "def process_single_region_elements(region_id):\n",
    "    enclosures, tesselations = process_region_elements(buildings_dir, streets_dir, region_id)\n",
    "    \n",
    "    enclosures.to_parquet(enclosures_dir + f\"enclosure_{region_id}.parquet\")\n",
    "    print(\"Processed enclosures\")\n",
    "    \n",
    "    ## save files\n",
    "    tesselations.to_parquet(\n",
    "        tessellations_dir + f\"tessellation_{region_id}.parquet\"\n",
    "    )\n",
    "    print(\"processed tesselations\")"
   ]
  },
  {
   "cell_type": "code",
   "execution_count": 14,
   "id": "b6aee2f9-41b5-4245-964e-5e2f940623d7",
   "metadata": {
    "scrolled": true
   },
   "outputs": [],
   "source": [
    "# for region_id, _ in region_hulls.iterrows():\n",
    "#     process_single_region_elements(region_id)"
   ]
  },
  {
   "cell_type": "code",
   "execution_count": null,
   "id": "f95dadfc-7927-4433-9188-40057f3f8aeb",
   "metadata": {},
   "outputs": [],
   "source": []
  },
  {
   "cell_type": "code",
   "execution_count": null,
   "id": "e67e5bee-22ba-4eb5-8921-1a5558820e24",
   "metadata": {},
   "outputs": [],
   "source": []
  },
  {
   "cell_type": "code",
   "execution_count": null,
   "id": "70c2bf29-7533-4e2a-a854-002d6aa469b7",
   "metadata": {},
   "outputs": [],
   "source": []
  },
  {
   "cell_type": "code",
   "execution_count": null,
   "id": "052ad746-b0bb-4772-91fd-9cf2b0994d8d",
   "metadata": {},
   "outputs": [],
   "source": []
  },
  {
   "cell_type": "code",
   "execution_count": null,
   "id": "6f9816b3-ad35-4877-a17b-33c182d1bb9b",
   "metadata": {
    "scrolled": true
   },
   "outputs": [
    {
     "name": "stderr",
     "output_type": "stream",
     "text": [
      "/home/krasen/urban_taxonomy/.pixi/envs/default/lib/python3.12/site-packages/libpysal/graph/_triangulation.py:265: DeprecationWarning: `row_stack` alias is deprecated. Use `np.vstack` directly.\n",
      "  edges = numpy.row_stack(list(set(map(tuple, edges)).difference(set(droplist))))\n",
      "/home/krasen/urban_taxonomy/.pixi/envs/default/lib/python3.12/site-packages/libpysal/graph/_triangulation.py:265: DeprecationWarning: `row_stack` alias is deprecated. Use `np.vstack` directly.\n",
      "  edges = numpy.row_stack(list(set(map(tuple, edges)).difference(set(droplist))))\n",
      "/home/krasen/urban_taxonomy/.pixi/envs/default/lib/python3.12/site-packages/libpysal/graph/_triangulation.py:265: DeprecationWarning: `row_stack` alias is deprecated. Use `np.vstack` directly.\n",
      "  edges = numpy.row_stack(list(set(map(tuple, edges)).difference(set(droplist))))\n",
      "/home/krasen/urban_taxonomy/.pixi/envs/default/lib/python3.12/site-packages/libpysal/graph/_triangulation.py:265: DeprecationWarning: `row_stack` alias is deprecated. Use `np.vstack` directly.\n",
      "  edges = numpy.row_stack(list(set(map(tuple, edges)).difference(set(droplist))))\n",
      "/home/krasen/urban_taxonomy/.pixi/envs/default/lib/python3.12/site-packages/libpysal/graph/_triangulation.py:265: DeprecationWarning: `row_stack` alias is deprecated. Use `np.vstack` directly.\n",
      "  edges = numpy.row_stack(list(set(map(tuple, edges)).difference(set(droplist))))\n"
     ]
    },
    {
     "name": "stdout",
     "output_type": "stream",
     "text": [
      "---- Processing region:  53525 2024-10-12 19:25:18.890283\n",
      "Processed enclosures\n",
      "processed tesselations\n",
      "---- Processing region:  55811 2024-10-12 19:27:22.948510\n",
      "Processed enclosures\n",
      "processed tesselations\n",
      "---- Processing region:  57313 2024-10-12 19:30:22.096216\n",
      "Processed enclosures\n",
      "processed tesselations\n"
     ]
    },
    {
     "name": "stderr",
     "output_type": "stream",
     "text": [
      "/home/krasen/urban_taxonomy/.pixi/envs/default/lib/python3.12/site-packages/libpysal/graph/_triangulation.py:265: DeprecationWarning: `row_stack` alias is deprecated. Use `np.vstack` directly.\n",
      "  edges = numpy.row_stack(list(set(map(tuple, edges)).difference(set(droplist))))\n",
      "/home/krasen/urban_taxonomy/.pixi/envs/default/lib/python3.12/site-packages/libpysal/graph/_triangulation.py:265: DeprecationWarning: `row_stack` alias is deprecated. Use `np.vstack` directly.\n",
      "  edges = numpy.row_stack(list(set(map(tuple, edges)).difference(set(droplist))))\n",
      "/home/krasen/urban_taxonomy/.pixi/envs/default/lib/python3.12/site-packages/libpysal/graph/_triangulation.py:265: DeprecationWarning: `row_stack` alias is deprecated. Use `np.vstack` directly.\n",
      "  edges = numpy.row_stack(list(set(map(tuple, edges)).difference(set(droplist))))\n"
     ]
    },
    {
     "name": "stdout",
     "output_type": "stream",
     "text": [
      "---- Processing region:  53744 2024-10-12 19:25:18.890076\n",
      "Processed enclosures\n",
      "processed tesselations\n",
      "---- Processing region:  56178 2024-10-12 19:28:05.479164\n",
      "Processed enclosures\n",
      "processed tesselations\n",
      "---- Processing region:  56937 2024-10-12 19:30:06.324060\n",
      "Processed enclosures\n",
      "processed tesselations\n"
     ]
    },
    {
     "name": "stderr",
     "output_type": "stream",
     "text": [
      "/home/krasen/urban_taxonomy/.pixi/envs/default/lib/python3.12/site-packages/libpysal/graph/_triangulation.py:265: DeprecationWarning: `row_stack` alias is deprecated. Use `np.vstack` directly.\n",
      "  edges = numpy.row_stack(list(set(map(tuple, edges)).difference(set(droplist))))\n",
      "/home/krasen/urban_taxonomy/.pixi/envs/default/lib/python3.12/site-packages/libpysal/graph/_triangulation.py:265: DeprecationWarning: `row_stack` alias is deprecated. Use `np.vstack` directly.\n",
      "  edges = numpy.row_stack(list(set(map(tuple, edges)).difference(set(droplist))))\n",
      "/home/krasen/urban_taxonomy/.pixi/envs/default/lib/python3.12/site-packages/libpysal/graph/_triangulation.py:265: DeprecationWarning: `row_stack` alias is deprecated. Use `np.vstack` directly.\n",
      "  edges = numpy.row_stack(list(set(map(tuple, edges)).difference(set(droplist))))\n",
      "/home/krasen/urban_taxonomy/.pixi/envs/default/lib/python3.12/site-packages/libpysal/graph/_triangulation.py:265: DeprecationWarning: `row_stack` alias is deprecated. Use `np.vstack` directly.\n",
      "  edges = numpy.row_stack(list(set(map(tuple, edges)).difference(set(droplist))))\n",
      "/home/krasen/urban_taxonomy/.pixi/envs/default/lib/python3.12/site-packages/libpysal/graph/_triangulation.py:265: DeprecationWarning: `row_stack` alias is deprecated. Use `np.vstack` directly.\n",
      "  edges = numpy.row_stack(list(set(map(tuple, edges)).difference(set(droplist))))\n"
     ]
    },
    {
     "name": "stdout",
     "output_type": "stream",
     "text": [
      "---- Processing region:  52492 2024-10-12 19:25:18.761455\n",
      "Retrying tesselation with less buildings, potentially changing building data.\n",
      "Dropping 1 buildings due to tesselation problems\n",
      "Processed enclosures\n",
      "processed tesselations\n",
      "---- Processing region:  56184 2024-10-12 19:28:14.916295\n",
      "Retrying tesselation with less buildings, potentially changing building data.\n",
      "Dropping 14 buildings due to tesselation problems\n",
      "Processed enclosures\n",
      "processed tesselations\n"
     ]
    },
    {
     "name": "stderr",
     "output_type": "stream",
     "text": [
      "/home/krasen/urban_taxonomy/.pixi/envs/default/lib/python3.12/site-packages/libpysal/graph/_triangulation.py:265: DeprecationWarning: `row_stack` alias is deprecated. Use `np.vstack` directly.\n",
      "  edges = numpy.row_stack(list(set(map(tuple, edges)).difference(set(droplist))))\n"
     ]
    },
    {
     "name": "stdout",
     "output_type": "stream",
     "text": [
      "---- Processing region:  51677 2024-10-12 19:25:18.761454\n",
      "Retrying tesselation with less buildings, potentially changing building data.\n",
      "Dropping 1 buildings due to tesselation problems\n",
      "Processed enclosures\n",
      "processed tesselations\n",
      "---- Processing region:  55835 2024-10-12 19:27:51.912350\n",
      "Retrying tesselation with less buildings, potentially changing building data.\n",
      "Dropping 2 buildings due to tesselation problems\n",
      "Processed enclosures\n",
      "processed tesselations\n"
     ]
    }
   ],
   "source": [
    "%%capture cap\n",
    "\n",
    "from joblib import Parallel, delayed\n",
    "n_jobs = -1\n",
    "new = Parallel(n_jobs=n_jobs)(\n",
    "    delayed(process_single_region_elements)(region_id) for region_id, _ in region_hulls.iterrows()\n",
    ")"
   ]
  },
  {
   "cell_type": "code",
   "execution_count": null,
   "id": "949aaabb-632e-4a5f-84c2-f207457813f2",
   "metadata": {},
   "outputs": [],
   "source": []
  },
  {
   "cell_type": "code",
   "execution_count": 16,
   "id": "8b423b03-4d14-4e53-b04f-d2f140b85afe",
   "metadata": {},
   "outputs": [
    {
     "data": {
      "text/plain": [
       "1"
      ]
     },
     "execution_count": 16,
     "metadata": {},
     "output_type": "execute_result"
    }
   ],
   "source": [
    "1"
   ]
  },
  {
   "cell_type": "code",
   "execution_count": 18,
   "id": "20dbbd5c-5bb5-411c-8575-166980a73b10",
   "metadata": {},
   "outputs": [
    {
     "name": "stdout",
     "output_type": "stream",
     "text": [
      "---- Processing region:  99865 2024-10-12 20:19:50.054344\n",
      "Retrying tesselation with less buildings, potentially changing building data.\n",
      "Dropping 2 buildings due to tesselation problems\n",
      "Processed enclosures\n",
      "processed tesselations\n",
      "---- Processing region:  105589 2024-10-12 20:34:22.636470\n",
      "Processed enclosures\n",
      "processed tesselations\n",
      "---- Processing region:  107131 2024-10-12 20:36:29.793995\n",
      "Retrying tesselation with less buildings, potentially changing building data.\n",
      "Dropping 1 buildings due to tesselation problems\n",
      "Processed enclosures\n",
      "processed tesselations\n"
     ]
    },
    {
     "data": {
      "text/plain": [
       "1"
      ]
     },
     "execution_count": 18,
     "metadata": {},
     "output_type": "execute_result"
    }
   ],
   "source": [
    "1"
   ]
  },
  {
   "cell_type": "code",
   "execution_count": null,
   "id": "b38f5580-2c73-4af6-8d6a-7f056e3f916e",
   "metadata": {},
   "outputs": [],
   "source": []
  },
  {
   "cell_type": "code",
   "execution_count": null,
   "id": "58b5b674-3047-4fe1-8359-b4669dbb51b4",
   "metadata": {},
   "outputs": [],
   "source": []
  },
  {
   "cell_type": "code",
   "execution_count": 12,
   "id": "6131e92b-33c6-4cba-a270-5084fec3da7a",
   "metadata": {},
   "outputs": [],
   "source": [
    "# new_buildings = gpd.read_parquet(buildings_dir + f'buildings_{region_id}.parquet')\n",
    "\n",
    "# # m = buildings.explore(max_zoom=20)\n",
    "# # m = new_buildings.explore(m=m, color='red')\n",
    "\n",
    "\n",
    "# # m = buildings[~buildings['iid'].isin(new_buildings['iid'])].explore(m=m, color='red')\n",
    "\n",
    "# # m = dropped_buildings.explore(m=m, color='red')\n",
    "# # m = enclosures.explore(m=m, color='green')\n",
    "# # m = tesselations[tesselations['enclosure_index'] == 211].reset_index().explore(m=m, color='green')\n",
    "# # m"
   ]
  },
  {
   "cell_type": "code",
   "execution_count": null,
   "id": "0badca95-883b-406a-8ceb-3a0c9ed57451",
   "metadata": {},
   "outputs": [],
   "source": []
  },
  {
   "cell_type": "code",
   "execution_count": 13,
   "id": "d0a92a51-e839-4728-bd09-98141315f7f9",
   "metadata": {},
   "outputs": [
    {
     "name": "stdout",
     "output_type": "stream",
     "text": [
      "Processed enclosures\n",
      "processed tesselations\n"
     ]
    }
   ],
   "source": [
    "enclosures.to_parquet(enclosures_dir + f\"enclosure_{region_id}.parquet\")\n",
    "print(\"Processed enclosures\")\n",
    "\n",
    "## save files\n",
    "tesselations.to_parquet(\n",
    "    tessellations_dir + f\"tessellation_{region_id}.parquet\"\n",
    ")\n",
    "print(\"processed tesselations\")"
   ]
  },
  {
   "cell_type": "code",
   "execution_count": null,
   "id": "9acdf8ca-c466-495b-91bb-d4fc62353def",
   "metadata": {},
   "outputs": [],
   "source": []
  },
  {
   "cell_type": "code",
   "execution_count": 134,
   "id": "413c332a-78c8-4191-912e-db9f28704209",
   "metadata": {},
   "outputs": [],
   "source": [
    "# import lonboard\n",
    "# layer = lonboard.PolygonLayer.from_geopandas(tesselations, opacity=0.15)\n",
    "# m = lonboard.Map([layer])\n",
    "# m"
   ]
  },
  {
   "cell_type": "code",
   "execution_count": 22,
   "id": "130a6515-93f5-4067-ac88-645df3802443",
   "metadata": {},
   "outputs": [],
   "source": [
    "# layer = lonboard.PolygonLayer.from_geopandas(enclosures, opacity=0.15)\n",
    "# m = lonboard.Map([layer])\n",
    "# m"
   ]
  },
  {
   "cell_type": "code",
   "execution_count": null,
   "id": "3f25df6c-2a78-4f42-98a6-f99e478d93bb",
   "metadata": {},
   "outputs": [],
   "source": []
  },
  {
   "cell_type": "markdown",
   "id": "c4f68f61-03d3-4603-b9f0-9b8704ca469b",
   "metadata": {
    "jp-MarkdownHeadingCollapsed": true
   },
   "source": [
    "## Graphs"
   ]
  },
  {
   "cell_type": "code",
   "execution_count": 19,
   "id": "4f52f1d9-b910-4d41-a086-8b2faa858f96",
   "metadata": {},
   "outputs": [],
   "source": [
    "from core.generate_ngraphs import process_region_graphs"
   ]
  },
  {
   "cell_type": "code",
   "execution_count": 12,
   "id": "ad6345c5-f2de-4c7d-abc5-c1c33ede6c2a",
   "metadata": {},
   "outputs": [
    {
     "name": "stdout",
     "output_type": "stream",
     "text": [
      "Built tess graph knn=1\n",
      "Built buildings graph knn=1\n",
      "Built streets graph knn=1\n",
      "Built enclosure graph knn=1\n",
      "Built nodes graph knn=1\n",
      "CPU times: user 1.28 s, sys: 27.9 ms, total: 1.31 s\n",
      "Wall time: 1.3 s\n"
     ]
    },
    {
     "name": "stderr",
     "output_type": "stream",
     "text": [
      "/home/krasen/urban_taxonomy/.pixi/envs/default/lib/python3.12/site-packages/libpysal/weights/weights.py:1685: UserWarning: The weights matrix is not fully connected: \n",
      " There are 19 disconnected components.\n",
      "  w = W(neighbors, weights, ids, silence_warnings=silence_warnings)\n"
     ]
    }
   ],
   "source": [
    "%%time\n",
    "process_region_graphs(\n",
    "    region_id,\n",
    "    graph_dir,\n",
    "    buildings_dir,\n",
    "    streets_dir,\n",
    "    enclosures_dir,\n",
    "    tessellations_dir,\n",
    ")"
   ]
  },
  {
   "cell_type": "code",
   "execution_count": null,
   "id": "d63f787a-8eb6-4f84-8fea-c0ef9b56d997",
   "metadata": {},
   "outputs": [],
   "source": []
  },
  {
   "cell_type": "code",
   "execution_count": null,
   "id": "8416e0ff-1390-4abf-8a12-8cf105bc9d85",
   "metadata": {},
   "outputs": [],
   "source": [
    "processed_region_ids = [int(s.split('.')[0].split('_')[-1])for s in glob.glob(graph_dir + '*')]"
   ]
  },
  {
   "cell_type": "code",
   "execution_count": null,
   "id": "ec820f5a-87d3-4271-96c9-972309ca4d9e",
   "metadata": {},
   "outputs": [],
   "source": []
  },
  {
   "cell_type": "code",
   "execution_count": 35,
   "id": "84d18f78-c4f8-418e-989d-5300d42fea4a",
   "metadata": {},
   "outputs": [
    {
     "data": {
      "text/html": [
       "<div>\n",
       "<style scoped>\n",
       "    .dataframe tbody tr th:only-of-type {\n",
       "        vertical-align: middle;\n",
       "    }\n",
       "\n",
       "    .dataframe tbody tr th {\n",
       "        vertical-align: top;\n",
       "    }\n",
       "\n",
       "    .dataframe thead th {\n",
       "        text-align: right;\n",
       "    }\n",
       "</style>\n",
       "<table border=\"1\" class=\"dataframe\">\n",
       "  <thead>\n",
       "    <tr style=\"text-align: right;\">\n",
       "      <th></th>\n",
       "      <th>convex_hull</th>\n",
       "    </tr>\n",
       "    <tr>\n",
       "      <th>labels</th>\n",
       "      <th></th>\n",
       "    </tr>\n",
       "  </thead>\n",
       "  <tbody>\n",
       "    <tr>\n",
       "      <th>21894</th>\n",
       "      <td>POLYGON ((4290400 3444300, 4290000 3444400, 42...</td>\n",
       "    </tr>\n",
       "    <tr>\n",
       "      <th>21904</th>\n",
       "      <td>POLYGON ((4298300 3013900, 4293400 3014600, 42...</td>\n",
       "    </tr>\n",
       "    <tr>\n",
       "      <th>22040</th>\n",
       "      <td>POLYGON ((4300900 3137100, 4295800 3137600, 42...</td>\n",
       "    </tr>\n",
       "    <tr>\n",
       "      <th>22105</th>\n",
       "      <td>POLYGON ((4304900 2870800, 4298400 2872300, 42...</td>\n",
       "    </tr>\n",
       "    <tr>\n",
       "      <th>22345</th>\n",
       "      <td>POLYGON ((4308200 3070700, 4298500 3071500, 42...</td>\n",
       "    </tr>\n",
       "    <tr>\n",
       "      <th>...</th>\n",
       "      <td>...</td>\n",
       "    </tr>\n",
       "    <tr>\n",
       "      <th>50528</th>\n",
       "      <td>POLYGON ((4492200 3191700, 4486500 3193600, 44...</td>\n",
       "    </tr>\n",
       "    <tr>\n",
       "      <th>50880</th>\n",
       "      <td>POLYGON ((4494600 3230000, 4492100 3230500, 44...</td>\n",
       "    </tr>\n",
       "    <tr>\n",
       "      <th>50896</th>\n",
       "      <td>POLYGON ((4506400 3167400, 4503300 3168700, 44...</td>\n",
       "    </tr>\n",
       "    <tr>\n",
       "      <th>50966</th>\n",
       "      <td>POLYGON ((4500300 3002300, 4499600 3002500, 44...</td>\n",
       "    </tr>\n",
       "    <tr>\n",
       "      <th>51277</th>\n",
       "      <td>POLYGON ((4503200 3077800, 4500300 3078200, 44...</td>\n",
       "    </tr>\n",
       "  </tbody>\n",
       "</table>\n",
       "<p>246 rows × 1 columns</p>\n",
       "</div>"
      ],
      "text/plain": [
       "                                              convex_hull\n",
       "labels                                                   \n",
       "21894   POLYGON ((4290400 3444300, 4290000 3444400, 42...\n",
       "21904   POLYGON ((4298300 3013900, 4293400 3014600, 42...\n",
       "22040   POLYGON ((4300900 3137100, 4295800 3137600, 42...\n",
       "22105   POLYGON ((4304900 2870800, 4298400 2872300, 42...\n",
       "22345   POLYGON ((4308200 3070700, 4298500 3071500, 42...\n",
       "...                                                   ...\n",
       "50528   POLYGON ((4492200 3191700, 4486500 3193600, 44...\n",
       "50880   POLYGON ((4494600 3230000, 4492100 3230500, 44...\n",
       "50896   POLYGON ((4506400 3167400, 4503300 3168700, 44...\n",
       "50966   POLYGON ((4500300 3002300, 4499600 3002500, 44...\n",
       "51277   POLYGON ((4503200 3077800, 4500300 3078200, 44...\n",
       "\n",
       "[246 rows x 1 columns]"
      ]
     },
     "execution_count": 35,
     "metadata": {},
     "output_type": "execute_result"
    }
   ],
   "source": [
    "region_hulls = gpd.read_parquet(\n",
    "    regions_datadir + \"regions/\" + \"cadastre_regions_hull.parquet\"\n",
    ")\n",
    "processed_region_ids = [int(s.split('.')[0].split('_')[-1])for s in glob.glob(graph_dir + '*')]\n",
    "region_hulls = region_hulls[~region_hulls.index.isin(processed_region_ids)]\n",
    "region_hulls"
   ]
  },
  {
   "cell_type": "code",
   "execution_count": null,
   "id": "51cb3974-6fa2-4771-9e02-27a3e7115553",
   "metadata": {
    "scrolled": true
   },
   "outputs": [],
   "source": [
    "from joblib import Parallel, delayed\n",
    "n_jobs = -1\n",
    "new = Parallel(n_jobs=n_jobs)(\n",
    "    delayed(process_region_graphs)(     region_id,\n",
    "                                        graph_dir,\n",
    "                                        buildings_dir,\n",
    "                                        streets_dir,\n",
    "                                        enclosures_dir,\n",
    "                                        tessellations_dir\n",
    "                                  ) \n",
    "    for region_id, _ in region_hulls.iterrows())"
   ]
  },
  {
   "cell_type": "code",
   "execution_count": 38,
   "id": "8e4d9e7c-7805-488e-b2d7-6949b732a2af",
   "metadata": {
    "scrolled": true
   },
   "outputs": [
    {
     "data": {
      "text/plain": [
       "1"
      ]
     },
     "execution_count": 38,
     "metadata": {},
     "output_type": "execute_result"
    }
   ],
   "source": [
    "1"
   ]
  },
  {
   "cell_type": "markdown",
   "id": "6e7bc073-b62b-4aa4-b09d-c93d07428e77",
   "metadata": {
    "jp-MarkdownHeadingCollapsed": true
   },
   "source": [
    "## Characters"
   ]
  },
  {
   "cell_type": "code",
   "execution_count": 13,
   "id": "105c07ab-ede1-4f70-bc5d-eb0958d00c06",
   "metadata": {},
   "outputs": [],
   "source": [
    "from core.generate_chars import process_single_region_chars, process_street_chars"
   ]
  },
  {
   "cell_type": "code",
   "execution_count": 14,
   "id": "6af38e44-98ae-4c27-917e-c03123c8b034",
   "metadata": {},
   "outputs": [
    {
     "name": "stdout",
     "output_type": "stream",
     "text": [
      "2024-10-12 10:03:09.505871 ----Processing ------ 7727\n",
      "Processing streets\n",
      "Processing enclosures\n",
      "Processing buildings\n"
     ]
    },
    {
     "name": "stderr",
     "output_type": "stream",
     "text": [
      "/home/krasen/urban_taxonomy/manual_deps/momepy/momepy/functional/_shape.py:576: RuntimeWarning: Mean of empty slice\n",
      "  return np.nanmean(np.abs(90 - degrees[true_angles]))\n",
      "/home/krasen/urban_taxonomy/manual_deps/momepy/momepy/functional/_shape.py:737: RuntimeWarning: Mean of empty slice\n",
      "  return Series({\"mean\": np.nanmean(dists), \"std\": np.nanstd(dists)})\n",
      "/home/krasen/urban_taxonomy/.pixi/envs/default/lib/python3.12/site-packages/numpy/lib/_nanfunctions_impl.py:2035: RuntimeWarning: Degrees of freedom <= 0 for slice.\n",
      "  var = nanvar(a, axis=axis, dtype=dtype, out=out, ddof=ddof,\n"
     ]
    },
    {
     "name": "stdout",
     "output_type": "stream",
     "text": [
      "Processing tessellation\n",
      "CPU times: user 52.4 s, sys: 149 ms, total: 52.5 s\n",
      "Wall time: 52.5 s\n"
     ]
    }
   ],
   "source": [
    "%%time\n",
    "process_single_region_chars(\n",
    "    region_id,\n",
    "    graph_dir,\n",
    "    buildings_dir,\n",
    "    streets_dir,\n",
    "    enclosures_dir,\n",
    "    tessellations_dir,\n",
    "    chars_dir\n",
    ")"
   ]
  },
  {
   "cell_type": "code",
   "execution_count": null,
   "id": "f40f7b79-4030-44bf-9325-2926eab48fa5",
   "metadata": {},
   "outputs": [],
   "source": []
  },
  {
   "cell_type": "code",
   "execution_count": null,
   "id": "cb7503cc-a57d-4bfd-b7cc-21998c3ec1d0",
   "metadata": {},
   "outputs": [],
   "source": []
  },
  {
   "cell_type": "code",
   "execution_count": null,
   "id": "3fc1ba8d-9eef-44ca-b50f-6e1a846a7ff6",
   "metadata": {},
   "outputs": [],
   "source": []
  },
  {
   "cell_type": "markdown",
   "id": "019091f7-625b-48ac-932b-b5ccd8e00fbe",
   "metadata": {
    "jp-MarkdownHeadingCollapsed": true
   },
   "source": [
    "## Generate primary data"
   ]
  },
  {
   "cell_type": "code",
   "execution_count": 6,
   "id": "8e2a26d3-2f60-4ff4-8879-142999e5a04b",
   "metadata": {},
   "outputs": [],
   "source": [
    "from core.generate_merged_primary_chars import merge_into_primary"
   ]
  },
  {
   "cell_type": "code",
   "execution_count": 7,
   "id": "2a53730c-28ea-4a19-a20e-6d02f17c3e04",
   "metadata": {},
   "outputs": [
    {
     "name": "stdout",
     "output_type": "stream",
     "text": [
      "CPU times: user 172 ms, sys: 54 ms, total: 225 ms\n",
      "Wall time: 204 ms\n"
     ]
    }
   ],
   "source": [
    "%%time\n",
    "merge_into_primary(region_id)"
   ]
  },
  {
   "cell_type": "code",
   "execution_count": null,
   "id": "1cbc04ab-d513-487f-a8e4-5c3a89e5ba8a",
   "metadata": {},
   "outputs": [],
   "source": []
  },
  {
   "cell_type": "code",
   "execution_count": null,
   "id": "fd353cba-e59a-40b0-b632-64bab04a1df2",
   "metadata": {},
   "outputs": [],
   "source": []
  },
  {
   "cell_type": "code",
   "execution_count": 29,
   "id": "7343fa13-9384-46c1-b8e1-e072bdb59c25",
   "metadata": {},
   "outputs": [],
   "source": [
    "tessellation = gpd.read_parquet(chars_dir + f\"tessellations_chars_{region_id}.parquet\")\n",
    "buildings = gpd.read_parquet(chars_dir + f\"buildings_chars_{region_id}.parquet\")\n",
    "enclosures = gpd.read_parquet(chars_dir + f\"enclosures_chars_{region_id}.parquet\")\n",
    "streets = gpd.read_parquet(chars_dir + f\"streets_chars_{region_id}.parquet\")\n",
    "nodes = gpd.read_parquet(chars_dir + f\"nodes_chars_{region_id}.parquet\")"
   ]
  },
  {
   "cell_type": "code",
   "execution_count": 30,
   "id": "ff6b89b4-4eca-4854-8063-9393bf3b5fb1",
   "metadata": {},
   "outputs": [],
   "source": [
    "\n",
    "merged = pd.merge(\n",
    "    tessellation.drop(columns=[\"geometry\"]),\n",
    "    buildings.drop(columns=[\"nodeID\", \"geometry\", 'nID']),\n",
    "    right_index=True,\n",
    "    left_index=True,\n",
    "    how=\"left\",\n",
    ")\n",
    "\n",
    "merged = merged.merge(\n",
    "    enclosures.drop(columns=\"geometry\"),\n",
    "    right_on=\"eID\",\n",
    "    left_on=\"enclosure_index\",\n",
    "    how=\"left\",\n",
    ")\n",
    "\n",
    "merged = merged.merge(streets.drop(columns=\"geometry\"), on=\"nID\", how=\"left\")\n",
    "merged = merged.merge(nodes.drop(columns=\"geometry\"), on=\"nodeID\", how=\"left\")\n",
    "\n",
    "merged = merged.drop(\n",
    "    columns=[\n",
    "        \"nID\",\n",
    "        \"eID\",\n",
    "        \"nodeID\",\n",
    "        \"mm_len\",\n",
    "        \"cdsbool\",\n",
    "        \"node_start\",\n",
    "        \"node_end\",\n",
    "        \"x\",\n",
    "        \"y\",\n",
    "        \"enclosure_index\",\n",
    "        # \"id\",\n",
    "        # \"osm_id\",\n",
    "        \"index\",  ## maybe keep\n",
    "    ]\n",
    ")\n",
    "merged = merged.set_index(tessellation.index)"
   ]
  },
  {
   "cell_type": "code",
   "execution_count": 31,
   "id": "5f1e25c0-3c99-418e-b817-a34564f47ebe",
   "metadata": {},
   "outputs": [],
   "source": [
    "from core.utils import used_keys"
   ]
  },
  {
   "cell_type": "code",
   "execution_count": 32,
   "id": "4482d0b4-553b-4914-9830-a376896a8979",
   "metadata": {},
   "outputs": [
    {
     "data": {
      "text/plain": [
       "(459980, 63)"
      ]
     },
     "execution_count": 32,
     "metadata": {},
     "output_type": "execute_result"
    }
   ],
   "source": [
    "primary = merged[list(used_keys.keys())]\n",
    "primary.shape"
   ]
  },
  {
   "cell_type": "code",
   "execution_count": 33,
   "id": "ddbdd396-6e6b-471e-80c3-316ac25c4196",
   "metadata": {},
   "outputs": [],
   "source": [
    "primary.to_parquet(chars_dir + f'primary_chars_{region_id}.parquet')"
   ]
  },
  {
   "cell_type": "code",
   "execution_count": null,
   "id": "2215e220-2c76-46fa-bc41-900e8b2ecd68",
   "metadata": {},
   "outputs": [],
   "source": []
  },
  {
   "cell_type": "markdown",
   "id": "976e5a73-f347-4f1e-956e-114f517ce647",
   "metadata": {},
   "source": [
    "## Generate morphotopes"
   ]
  },
  {
   "cell_type": "code",
   "execution_count": 6,
   "id": "ee4f21f9-e743-4a26-9648-da8259f1ed8b",
   "metadata": {},
   "outputs": [],
   "source": [
    "from core.generate_clusters import process_single_region_morphotopes"
   ]
  },
  {
   "cell_type": "code",
   "execution_count": 7,
   "id": "846dbeae-66c6-4174-aa36-58bb58506728",
   "metadata": {},
   "outputs": [
    {
     "name": "stdout",
     "output_type": "stream",
     "text": [
      "2024-10-13 19:15:14.977281 ----Processing ------ 69333\n",
      "--------Generating lag----------\n",
      "--------Generating morphotopes----------\n",
      "--------Generating morphotopes data----------\n"
     ]
    }
   ],
   "source": [
    "process_single_region_morphotopes(region_id)"
   ]
  },
  {
   "cell_type": "code",
   "execution_count": null,
   "id": "6723d74c-e45a-44fe-a587-f3a459e3be8f",
   "metadata": {},
   "outputs": [],
   "source": []
  },
  {
   "cell_type": "code",
   "execution_count": null,
   "id": "c72e2597-7e6a-4d96-a31e-e63a967687f8",
   "metadata": {},
   "outputs": [],
   "source": []
  },
  {
   "cell_type": "code",
   "execution_count": null,
   "id": "12dcee72-a9b2-4203-8c10-94b53fa1fa2d",
   "metadata": {},
   "outputs": [],
   "source": []
  },
  {
   "cell_type": "code",
   "execution_count": null,
   "id": "bc392cd5-8020-45f6-beee-03b1a9d4de7d",
   "metadata": {},
   "outputs": [],
   "source": []
  },
  {
   "cell_type": "code",
   "execution_count": null,
   "id": "919eb4cb-1a64-4441-84f7-c8192dca5866",
   "metadata": {},
   "outputs": [],
   "source": []
  },
  {
   "cell_type": "code",
   "execution_count": null,
   "id": "c672a9ec-c494-47fc-9023-11666e0350a8",
   "metadata": {},
   "outputs": [],
   "source": []
  }
 ],
 "metadata": {
  "kernelspec": {
   "display_name": "Python 3 (ipykernel)",
   "language": "python",
   "name": "python3"
  },
  "language_info": {
   "codemirror_mode": {
    "name": "ipython",
    "version": 3
   },
   "file_extension": ".py",
   "mimetype": "text/x-python",
   "name": "python",
   "nbconvert_exporter": "python",
   "pygments_lexer": "ipython3",
   "version": "3.12.5"
  }
 },
 "nbformat": 4,
 "nbformat_minor": 5
}
