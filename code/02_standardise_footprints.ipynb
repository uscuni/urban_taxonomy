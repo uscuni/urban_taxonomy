{
 "cells": [
  {
   "cell_type": "markdown",
   "id": "8d020cd2-a88f-48d4-8425-1562ebcb1321",
   "metadata": {},
   "source": [
    "# Standardise building footprints\n",
    "\n",
    "Ensure that all the building footprints are stored in a standardised form."
   ]
  },
  {
   "cell_type": "code",
   "execution_count": 3,
   "id": "2acc88ee-1b46-4421-b315-ea9362802508",
   "metadata": {},
   "outputs": [],
   "source": [
    "import geopandas as gpd\n",
    "import pandas as pd\n",
    "\n",
    "DATADIR = \"/data/uscuni-ulce/buildings_standardised/\""
   ]
  },
  {
   "cell_type": "code",
   "execution_count": 4,
   "id": "7dbd6f7e-2660-418e-913a-7ca8e2778b4b",
   "metadata": {},
   "outputs": [],
   "source": [
    "regions = [\n",
    "    \"buildings_austria.pq\",\n",
    "    \"buildings_slovakia.pq\",\n",
    "    \"buildings_poland.pq\",\n",
    "    \"buildings_czechia.pq\",\n",
    "]"
   ]
  },
  {
   "cell_type": "markdown",
   "id": "5ccbc6c0-525c-4e16-a90c-e3672bbb392c",
   "metadata": {},
   "source": [
    "### Germany"
   ]
  },
  {
   "cell_type": "code",
   "execution_count": 5,
   "id": "57eee369-1d09-432b-a1f7-b07c2428c943",
   "metadata": {},
   "outputs": [],
   "source": [
    "ger_regions = [\n",
    "    \"bavaria\",\n",
    "    \"brandeburg\",\n",
    "    \"bw\",\n",
    "    \"hessen\",\n",
    "    \"mv\",\n",
    "    \"nrw\",\n",
    "    \"rlp\",\n",
    "    \"saarland\",\n",
    "    \"sachsen\",\n",
    "    \"sachsen-anhalt\",\n",
    "    \"sh\",\n",
    "    \"th\",\n",
    "    \"ni\",\n",
    "    \"bremen\",\n",
    "    \"hamburg\",\n",
    "    \"berlin\",\n",
    "]"
   ]
  },
  {
   "cell_type": "markdown",
   "id": "0ce1b4de-6aac-46e6-b552-8ae1eaa22a66",
   "metadata": {},
   "source": [
    "#### Bavaria"
   ]
  },
  {
   "cell_type": "code",
   "execution_count": 6,
   "id": "3dc6361e-8371-4ea8-a107-ee5bd17df246",
   "metadata": {},
   "outputs": [],
   "source": [
    "bavaria = gpd.read_parquet(\n",
    "    f\"/data/uscuni-ulce/buildings_standardised/buildings_germany_{ger_regions[0]}.pq\"\n",
    ")"
   ]
  },
  {
   "cell_type": "code",
   "execution_count": 9,
   "id": "774d9457-b9e3-4c6c-a047-4d5a64487abc",
   "metadata": {},
   "outputs": [],
   "source": [
    "bavaria[\"currentUse\"] = None\n",
    "bavaria[\"buildingNature\"] = None\n",
    "bavaria[\"heightAboveGround\"] = None"
   ]
  },
  {
   "cell_type": "markdown",
   "id": "d2e93fe7-466e-48f3-8db8-d002e1e3a2e9",
   "metadata": {},
   "source": [
    "#### Brandenburg"
   ]
  },
  {
   "cell_type": "code",
   "execution_count": 12,
   "id": "09fa176b-4440-43e5-86cf-48ba61398a44",
   "metadata": {},
   "outputs": [],
   "source": [
    "bb = gpd.read_parquet(\n",
    "    f\"/data/uscuni-ulce/buildings_standardised/buildings_germany_{ger_regions[1]}.pq\"\n",
    ")"
   ]
  },
  {
   "cell_type": "code",
   "execution_count": 15,
   "id": "b6019cad-76a1-4cb9-8cbb-751f171a4edb",
   "metadata": {},
   "outputs": [],
   "source": [
    "bb[\"currentUse\"] = bb[\"funktion\"]\n",
    "bb[\"buildingNature\"] = bb[\"gebnutzbez\"]\n",
    "bb[\"heightAboveGround\"] = None"
   ]
  },
  {
   "cell_type": "markdown",
   "id": "4ae860e2-9f1c-43ae-affc-a20c63a06739",
   "metadata": {},
   "source": [
    "#### BW"
   ]
  },
  {
   "cell_type": "code",
   "execution_count": 17,
   "id": "43d69340-405b-4c2e-8b80-fc1aedc2f408",
   "metadata": {},
   "outputs": [],
   "source": [
    "bw = gpd.read_parquet(\n",
    "    f\"/data/uscuni-ulce/buildings_standardised/buildings_germany_{ger_regions[2]}.pq\"\n",
    ")"
   ]
  },
  {
   "cell_type": "code",
   "execution_count": 20,
   "id": "53f4e1dd-3b27-4137-aafc-73d331eb2ac2",
   "metadata": {},
   "outputs": [],
   "source": [
    "bw[\"currentUse\"] = None\n",
    "bw[\"buildingNature\"] = None\n",
    "bw[\"heightAboveGround\"] = None"
   ]
  },
  {
   "cell_type": "markdown",
   "id": "d998a919-f8b9-4bf5-bb5e-c045b3060276",
   "metadata": {},
   "source": [
    "#### Hessen"
   ]
  },
  {
   "cell_type": "code",
   "execution_count": 22,
   "id": "fa954182-ee45-4e09-9c27-fff528d68938",
   "metadata": {},
   "outputs": [],
   "source": [
    "hessen = gpd.read_parquet(\n",
    "    f\"/data/uscuni-ulce/buildings_standardised/buildings_germany_{ger_regions[3]}.pq\"\n",
    ")"
   ]
  },
  {
   "cell_type": "code",
   "execution_count": 25,
   "id": "93fef395-433c-4de2-8d1e-7f94e26b0205",
   "metadata": {},
   "outputs": [],
   "source": [
    "hessen[\"currentUse\"] = hessen[\"funktion\"]\n",
    "hessen[\"buildingNature\"] = hessen[\"gebnutzbez\"]\n",
    "hessen[\"heightAboveGround\"] = None"
   ]
  },
  {
   "cell_type": "markdown",
   "id": "e43fa8c9-d8a2-46be-b19a-0a105188b2e6",
   "metadata": {},
   "source": [
    "#### MV"
   ]
  },
  {
   "cell_type": "code",
   "execution_count": 27,
   "id": "150bb416-91f9-410b-9642-c2d42e0730f9",
   "metadata": {},
   "outputs": [],
   "source": [
    "mv = gpd.read_parquet(\n",
    "    f\"/data/uscuni-ulce/buildings_standardised/buildings_germany_{ger_regions[4]}.pq\"\n",
    ")"
   ]
  },
  {
   "cell_type": "code",
   "execution_count": 30,
   "id": "a1c6c577-21ac-4699-80e1-51fbcf51c450",
   "metadata": {},
   "outputs": [],
   "source": [
    "mv[\"currentUse\"] = mv[\"funktion\"]\n",
    "mv[\"buildingNature\"] = mv[\"gebnutzbez\"]\n",
    "mv[\"heightAboveGround\"] = None"
   ]
  },
  {
   "cell_type": "markdown",
   "id": "9f4430f8-87e0-45bb-9d24-226b2edecafa",
   "metadata": {},
   "source": [
    "#### NRW"
   ]
  },
  {
   "cell_type": "code",
   "execution_count": 33,
   "id": "bd779c95-7b8c-41bc-89d6-289a26eb2ea0",
   "metadata": {},
   "outputs": [],
   "source": [
    "nrw = gpd.read_parquet(\n",
    "    f\"/data/uscuni-ulce/buildings_standardised/buildings_germany_{ger_regions[5]}.pq\"\n",
    ")"
   ]
  },
  {
   "cell_type": "code",
   "execution_count": 36,
   "id": "3345a24f-3f08-4e43-9cbb-cc6a2e7b66b5",
   "metadata": {},
   "outputs": [],
   "source": [
    "nrw[\"currentUse\"] = nrw[\"funktion\"]\n",
    "nrw[\"buildingNature\"] = nrw[\"gebnutzbez\"]\n",
    "nrw[\"heightAboveGround\"] = None"
   ]
  },
  {
   "cell_type": "markdown",
   "id": "2a997fd2-345d-4639-8f57-126ce2c9f605",
   "metadata": {},
   "source": [
    "#### RLP"
   ]
  },
  {
   "cell_type": "code",
   "execution_count": 38,
   "id": "4a5b11c5-acf6-478a-bc77-5f4f6af0b048",
   "metadata": {},
   "outputs": [],
   "source": [
    "rlp = gpd.read_parquet(\n",
    "    f\"/data/uscuni-ulce/buildings_standardised/buildings_germany_{ger_regions[6]}.pq\"\n",
    ")"
   ]
  },
  {
   "cell_type": "code",
   "execution_count": 41,
   "id": "7556d47c-1791-4893-a5c7-093502f06f31",
   "metadata": {},
   "outputs": [],
   "source": [
    "rlp[\"currentUse\"] = rlp[\"funktion\"]\n",
    "rlp[\"buildingNature\"] = rlp[\"gebnutzbez\"]\n",
    "rlp[\"heightAboveGround\"] = None"
   ]
  },
  {
   "cell_type": "markdown",
   "id": "c1ab4d2a-c813-41fd-89cc-b11e94e0af30",
   "metadata": {},
   "source": [
    "#### Saarland\n",
    "\n",
    "lots of random buildings, doesnt look like official data"
   ]
  },
  {
   "cell_type": "code",
   "execution_count": 44,
   "id": "69c8e114-f73d-4384-b63a-c6f223c6ddc4",
   "metadata": {},
   "outputs": [],
   "source": [
    "saarland = gpd.read_parquet(\n",
    "    f\"/data/uscuni-ulce/buildings_standardised/buildings_germany_{ger_regions[7]}.pq\"\n",
    ")"
   ]
  },
  {
   "cell_type": "code",
   "execution_count": 47,
   "id": "ab5bfabf-5278-40a5-934b-a9752baca64f",
   "metadata": {},
   "outputs": [],
   "source": [
    "saarland[\"currentUse\"] = None\n",
    "saarland[\"buildingNature\"] = None\n",
    "saarland[\"heightAboveGround\"] = None"
   ]
  },
  {
   "cell_type": "markdown",
   "id": "c91a7f88-41a8-439c-a401-4bd108a18df4",
   "metadata": {},
   "source": [
    "#### Sachsen"
   ]
  },
  {
   "cell_type": "code",
   "execution_count": 49,
   "id": "58ad4cd7-5cc4-47d2-9bfd-f3d52c707648",
   "metadata": {},
   "outputs": [],
   "source": [
    "sachsen = gpd.read_parquet(\n",
    "    f\"/data/uscuni-ulce/buildings_standardised/buildings_germany_{ger_regions[8]}.pq\"\n",
    ")"
   ]
  },
  {
   "cell_type": "code",
   "execution_count": 52,
   "id": "3edda33c-e713-4e54-9bf6-b4a9611e29f1",
   "metadata": {},
   "outputs": [],
   "source": [
    "sachsen[\"currentUse\"] = sachsen[\"funktion\"]\n",
    "sachsen[\"buildingNature\"] = sachsen[\"gebnutzbez\"]\n",
    "sachsen[\"heightAboveGround\"] = None"
   ]
  },
  {
   "cell_type": "markdown",
   "id": "0ae91a3a-74e1-4166-ab67-0eaf3d07fd11",
   "metadata": {},
   "source": [
    "#### sachsen-anhalt"
   ]
  },
  {
   "cell_type": "code",
   "execution_count": 54,
   "id": "a13d76ff-b71e-4094-a8eb-168ce5b5f5b8",
   "metadata": {},
   "outputs": [],
   "source": [
    "sa = gpd.read_parquet(\n",
    "    f\"/data/uscuni-ulce/buildings_standardised/buildings_{ger_regions[9]}.pq\"\n",
    ")"
   ]
  },
  {
   "cell_type": "code",
   "execution_count": 57,
   "id": "4b70fed6-2564-45da-95ca-81a7e2b74bff",
   "metadata": {},
   "outputs": [],
   "source": [
    "sa[\"currentUse\"] = sa[\"funktion\"]\n",
    "sa[\"buildingNature\"] = sa[\"gebnutzbez\"]\n",
    "sa[\"heightAboveGround\"] = None"
   ]
  },
  {
   "cell_type": "markdown",
   "id": "5bdff49a-ca1a-44f3-a7c9-e5e6a97261a7",
   "metadata": {},
   "source": [
    "#### schlesig holsten"
   ]
  },
  {
   "cell_type": "code",
   "execution_count": 59,
   "id": "ebdb654d-e0e3-46bb-a8a9-e2a6e9347fd4",
   "metadata": {},
   "outputs": [],
   "source": [
    "sh = gpd.read_parquet(\n",
    "    f\"/data/uscuni-ulce/buildings_standardised/buildings_germany_{ger_regions[10]}.pq\"\n",
    ")"
   ]
  },
  {
   "cell_type": "code",
   "execution_count": 62,
   "id": "e0ba3954-c2e2-4ccf-bea7-da2fbd54ee23",
   "metadata": {},
   "outputs": [],
   "source": [
    "sh[\"currentUse\"] = sh[\"funktion\"]\n",
    "sh[\"buildingNature\"] = sh[\"gebnutzbez\"]\n",
    "sh[\"heightAboveGround\"] = None"
   ]
  },
  {
   "cell_type": "markdown",
   "id": "e70ad84c-72df-405f-a6df-dd702c9011cb",
   "metadata": {},
   "source": [
    "#### Thuringia"
   ]
  },
  {
   "cell_type": "code",
   "execution_count": 64,
   "id": "fa6b25f8-77a4-4e07-8fcd-43a2d801d41e",
   "metadata": {},
   "outputs": [],
   "source": [
    "th = gpd.read_parquet(\n",
    "    f\"/data/uscuni-ulce/buildings_standardised/buildings_germany_{ger_regions[11]}.pq\"\n",
    ")"
   ]
  },
  {
   "cell_type": "code",
   "execution_count": 67,
   "id": "024231d7-5b53-436a-84fc-e9a0a13dd2a5",
   "metadata": {},
   "outputs": [],
   "source": [
    "th[\"currentUse\"] = th[\"funktion\"]\n",
    "th[\"buildingNature\"] = th[\"gebnutzbez\"]\n",
    "th[\"heightAboveGround\"] = None"
   ]
  },
  {
   "cell_type": "markdown",
   "id": "7c4861b6-e155-4138-bbc2-a54f337524f7",
   "metadata": {},
   "source": [
    "#### niedersaxony"
   ]
  },
  {
   "cell_type": "code",
   "execution_count": 69,
   "id": "72c101cf-4f62-4c84-918b-ddf8dfe1767d",
   "metadata": {},
   "outputs": [],
   "source": [
    "ni = gpd.read_parquet(\n",
    "    f\"/data/uscuni-ulce/buildings_standardised/buildings_germany_{ger_regions[12]}.pq\"\n",
    ")"
   ]
  },
  {
   "cell_type": "code",
   "execution_count": 72,
   "id": "ff839ad6-502b-427d-b2f1-2c7a626190c0",
   "metadata": {},
   "outputs": [],
   "source": [
    "ni[\"currentUse\"] = None\n",
    "ni[\"buildingNature\"] = ni[\"gfk__bez\"]\n",
    "ni[\"heightAboveGround\"] = None"
   ]
  },
  {
   "cell_type": "markdown",
   "id": "c4fa4339-d2ae-40ef-8016-d2e4a7849ffd",
   "metadata": {},
   "source": [
    "#### bremen"
   ]
  },
  {
   "cell_type": "code",
   "execution_count": 75,
   "id": "5478d038-6e92-4e4b-b5b6-07db9ff11aab",
   "metadata": {},
   "outputs": [],
   "source": [
    "bremen = gpd.read_parquet(\n",
    "    f\"/data/uscuni-ulce/buildings_standardised/buildings_germany_{ger_regions[13]}.pq\"\n",
    ").to_crs(epsg=3035)"
   ]
  },
  {
   "cell_type": "code",
   "execution_count": 78,
   "id": "69055369-7508-40d6-99b7-af373b41f699",
   "metadata": {},
   "outputs": [],
   "source": [
    "bremen[\"currentUse\"] = bremen[\"FUNKTION\"]\n",
    "bremen[\"buildingNature\"] = bremen[\"GEBNUTZBEZ\"]\n",
    "bremen[\"heightAboveGround\"] = None"
   ]
  },
  {
   "cell_type": "markdown",
   "id": "2a65aaf4-6217-4c5a-875c-a533140e23c9",
   "metadata": {},
   "source": [
    "#### hamburg"
   ]
  },
  {
   "cell_type": "code",
   "execution_count": 81,
   "id": "a4dd6d49-83cc-464b-ace1-3db396d99c3b",
   "metadata": {},
   "outputs": [],
   "source": [
    "hamburg = gpd.read_parquet(\n",
    "    f\"/data/uscuni-ulce/buildings_standardised/buildings_germany_{ger_regions[14]}.pq\"\n",
    ").to_crs(epsg=3035)"
   ]
  },
  {
   "cell_type": "code",
   "execution_count": 84,
   "id": "f0e012f9-6f92-4663-a5b8-6ba31949d11e",
   "metadata": {},
   "outputs": [],
   "source": [
    "hamburg[\"currentUse\"] = None\n",
    "hamburg[\"buildingNature\"] = None\n",
    "hamburg[\"heightAboveGround\"] = None"
   ]
  },
  {
   "cell_type": "markdown",
   "id": "d21456a7-290e-453a-976f-fbdcfe62def7",
   "metadata": {},
   "source": [
    "#### berlin"
   ]
  },
  {
   "cell_type": "code",
   "execution_count": 88,
   "id": "b4f02e6c-7722-485d-914b-175ad34c946b",
   "metadata": {},
   "outputs": [],
   "source": [
    "berlin = gpd.read_parquet(\n",
    "    f\"/data/uscuni-ulce/buildings_standardised/buildings_germany_{ger_regions[15]}.pq\"\n",
    ")"
   ]
  },
  {
   "cell_type": "code",
   "execution_count": 91,
   "id": "ff6c61e1-a373-43ed-a67d-512337a264b8",
   "metadata": {},
   "outputs": [],
   "source": [
    "berlin[\"currentUse\"] = None\n",
    "berlin[\"buildingNature\"] = None\n",
    "berlin[\"heightAboveGround\"] = None"
   ]
  },
  {
   "cell_type": "markdown",
   "id": "bf651711-6191-44df-958b-6a2fcc5b722a",
   "metadata": {},
   "source": [
    "#### Merge Germany"
   ]
  },
  {
   "cell_type": "code",
   "execution_count": 93,
   "id": "45745e80-6a51-45e4-9f44-52bb90d3c692",
   "metadata": {},
   "outputs": [
    {
     "name": "stdout",
     "output_type": "stream",
     "text": [
      "bavaria,brandeburg,bw,hessen,mv,nrw,rlp,saarland,sachsen,sachsen-anhalt,sh,th,ni,bremen,hamburg,berlin\n"
     ]
    }
   ],
   "source": [
    "print(\n",
    "    \",\".join(\n",
    "        [\n",
    "            \"bavaria\",\n",
    "            \"brandeburg\",\n",
    "            \"bw\",\n",
    "            \"hessen\",\n",
    "            \"mv\",\n",
    "            \"nrw\",\n",
    "            \"rlp\",\n",
    "            \"saarland\",\n",
    "            \"sachsen\",\n",
    "            \"sachsen-anhalt\",\n",
    "            \"sh\",\n",
    "            \"th\",\n",
    "            \"ni\",\n",
    "            \"bremen\",\n",
    "            \"hamburg\",\n",
    "            \"berlin\",\n",
    "        ]\n",
    "    )\n",
    ")"
   ]
  },
  {
   "cell_type": "code",
   "execution_count": 94,
   "id": "b960b706-aa19-4348-ab59-b1fac7ee5ce3",
   "metadata": {},
   "outputs": [],
   "source": [
    "subset = [\"currentUse\", \"buildingNature\", \"heightAboveGround\", \"geometry\"]"
   ]
  },
  {
   "cell_type": "code",
   "execution_count": 95,
   "id": "a7d6df11-d27a-45b9-b5d1-d0619af584c9",
   "metadata": {},
   "outputs": [],
   "source": [
    "all_gdfs = [\n",
    "    bavaria,\n",
    "    bb,\n",
    "    bw,\n",
    "    hessen,\n",
    "    mv,\n",
    "    nrw,\n",
    "    rlp,\n",
    "    saarland,\n",
    "    sachsen,\n",
    "    sa,\n",
    "    sh,\n",
    "    th,\n",
    "    ni,\n",
    "    bremen,\n",
    "    hamburg,\n",
    "    berlin,\n",
    "]"
   ]
  },
  {
   "cell_type": "code",
   "execution_count": 96,
   "id": "74719fbc-1364-4438-8936-d26df2b51556",
   "metadata": {},
   "outputs": [
    {
     "name": "stdout",
     "output_type": "stream",
     "text": [
      "CPU times: user 23.2 s, sys: 1.04 s, total: 24.2 s\n",
      "Wall time: 24.2 s\n"
     ]
    }
   ],
   "source": [
    "%%time\n",
    "all_germany = pd.concat((gdf[subset] for gdf in all_gdfs), ignore_index=True)"
   ]
  },
  {
   "cell_type": "code",
   "execution_count": 97,
   "id": "94d5b432-4607-4ded-a293-2f55ac836c23",
   "metadata": {},
   "outputs": [],
   "source": [
    "all_germany.to_parquet(\"/data/uscuni-ulce/buildings_standardised/merged_germany.pq\")"
   ]
  },
  {
   "cell_type": "markdown",
   "id": "c4b0a277-4a31-4df0-8404-a395d949f016",
   "metadata": {},
   "source": [
    "### Austria"
   ]
  },
  {
   "cell_type": "code",
   "execution_count": 99,
   "id": "f03812f3-52b4-417d-9311-658b1060013f",
   "metadata": {},
   "outputs": [],
   "source": [
    "austria = gpd.read_parquet(DATADIR + regions[0]).to_crs(epsg=3035)"
   ]
  },
  {
   "cell_type": "code",
   "execution_count": 102,
   "id": "5a19d27c-fafd-4c87-ab6b-42eb3b26169e",
   "metadata": {},
   "outputs": [
    {
     "data": {
      "text/plain": [
       "\"\\n'F_CODE', 'F_NAME', 'STRUCTURE FUNCTION', 'AGWR_OBJECT NUMBER', 'AGWR_TYPE',\\n'VERIFICATION_LB', 'DEL_FLAG', 'FLIGHT_YEAR', 'AS_DATE',\\n'RECORD_TYPE', 'GROUND_HEIGHT_MIN', 'RECORD_TYPE_GROUND_MIN',\\n'GROUND_HEIGHT_MEDIAN', 'RECORD_TYPE_GROUND_HEIGHT_MEDIAN',\\n'GROUND_HEIGHT_MAX', 'GROUND_TYPE_GROUND_MAX', 'OBJECT_HEIGHT_MEDIAN',\\n'OBJECT_TYPE_HEIGHT_MEDIAN', 'HEIGHT_OBJECT_MAX',\\n'RECORD_TYPE_HEIGHT_OBJECT_MAX', 'HEIGHT_OBJECT_EAVES',\\n'RECORD_TYPE_HEIGHT_OBJECT_EAVES', 'DATA SOURCE', 'DATA SOURCE_EXT_ID',\\n'CREATE_DATE', 'EDIT_DATE', 'OBJECTID', 'GLOBALID', 'SHAPE_AREA',\\n'geometry'\\n\""
      ]
     },
     "execution_count": 102,
     "metadata": {},
     "output_type": "execute_result"
    }
   ],
   "source": [
    "\"\"\"\n",
    "'F_CODE', 'F_NAME', 'STRUCTURE FUNCTION', 'AGWR_OBJECT NUMBER', 'AGWR_TYPE',\n",
    "'VERIFICATION_LB', 'DEL_FLAG', 'FLIGHT_YEAR', 'AS_DATE',\n",
    "'RECORD_TYPE', 'GROUND_HEIGHT_MIN', 'RECORD_TYPE_GROUND_MIN',\n",
    "'GROUND_HEIGHT_MEDIAN', 'RECORD_TYPE_GROUND_HEIGHT_MEDIAN',\n",
    "'GROUND_HEIGHT_MAX', 'GROUND_TYPE_GROUND_MAX', 'OBJECT_HEIGHT_MEDIAN',\n",
    "'OBJECT_TYPE_HEIGHT_MEDIAN', 'HEIGHT_OBJECT_MAX',\n",
    "'RECORD_TYPE_HEIGHT_OBJECT_MAX', 'HEIGHT_OBJECT_EAVES',\n",
    "'RECORD_TYPE_HEIGHT_OBJECT_EAVES', 'DATA SOURCE', 'DATA SOURCE_EXT_ID',\n",
    "'CREATE_DATE', 'EDIT_DATE', 'OBJECTID', 'GLOBALID', 'SHAPE_AREA',\n",
    "'geometry'\n",
    "\"\"\""
   ]
  },
  {
   "cell_type": "code",
   "execution_count": 106,
   "id": "2bc60726-3e7e-4f63-8609-bc9a32c935f7",
   "metadata": {},
   "outputs": [],
   "source": [
    "austria[\"currentUse\"] = austria[\"BAUWERKSFUNKTION\"]\n",
    "austria[\"buildingNature\"] = austria[\"AGWR_TYP\"]\n",
    "austria[\"heightAboveGround\"] = austria[\"HOEHE_OBJEKT_MEDIAN\"]"
   ]
  },
  {
   "cell_type": "markdown",
   "id": "38194a7d-6007-40fd-86e6-006d47593af6",
   "metadata": {},
   "source": [
    "### Slovakia"
   ]
  },
  {
   "cell_type": "code",
   "execution_count": 109,
   "id": "8a95e92c-24c2-4cc7-a863-5df6586b63e6",
   "metadata": {},
   "outputs": [],
   "source": [
    "slovakia = gpd.read_parquet(DATADIR + regions[1]).to_crs(epsg=3035)"
   ]
  },
  {
   "cell_type": "markdown",
   "id": "e2d6717a-1fb7-4384-8f15-8f04199bc068",
   "metadata": {},
   "source": [
    "### Poland"
   ]
  },
  {
   "cell_type": "code",
   "execution_count": 117,
   "id": "8e8a2190-eab8-433c-b7a4-919db18ca48b",
   "metadata": {},
   "outputs": [],
   "source": [
    "poland = gpd.read_parquet(DATADIR + regions[2])"
   ]
  },
  {
   "cell_type": "code",
   "execution_count": 120,
   "id": "2aed1177-9afb-4ef5-8f74-864968f13345",
   "metadata": {},
   "outputs": [],
   "source": [
    "poland[\"currentUse\"] = None\n",
    "poland[\"buildingNature\"] = None\n",
    "poland[\"heightAboveGround\"] = None"
   ]
  },
  {
   "cell_type": "markdown",
   "id": "ad8688f4-6447-40cb-969f-50f687f052e6",
   "metadata": {},
   "source": [
    "### Czechia"
   ]
  },
  {
   "cell_type": "code",
   "execution_count": 124,
   "id": "b7cfdb7c-514b-4516-a0cf-dd2a2e09dfdf",
   "metadata": {},
   "outputs": [],
   "source": [
    "czechia = gpd.read_parquet(DATADIR + regions[3])"
   ]
  },
  {
   "cell_type": "code",
   "execution_count": 129,
   "id": "90af7990-2b00-41e8-94e3-0eed24e5eaab",
   "metadata": {},
   "outputs": [],
   "source": [
    "czechia[\"currentUse\"] = None"
   ]
  },
  {
   "cell_type": "markdown",
   "id": "0cb63bb1-0024-47f6-9b32-8502b08a7067",
   "metadata": {},
   "source": [
    "### Merge all data"
   ]
  },
  {
   "cell_type": "code",
   "execution_count": 132,
   "id": "c9f58beb-6d5c-434d-a692-2c995793c40c",
   "metadata": {},
   "outputs": [],
   "source": [
    "subset = [\"currentUse\", \"buildingNature\", \"heightAboveGround\", \"geometry\"]"
   ]
  },
  {
   "cell_type": "code",
   "execution_count": 133,
   "id": "fa16737f-d366-4f87-9e6a-fc46b47c59c1",
   "metadata": {},
   "outputs": [],
   "source": [
    "all_gdfs = [all_germany, poland, austria, czechia, slovakia]"
   ]
  },
  {
   "cell_type": "code",
   "execution_count": 134,
   "id": "f4a03a02-9399-4f72-8d94-dda0bd1352d1",
   "metadata": {},
   "outputs": [
    {
     "name": "stderr",
     "output_type": "stream",
     "text": [
      "<timed exec>:1: FutureWarning: The behavior of DataFrame concatenation with empty or all-NA entries is deprecated. In a future version, this will no longer exclude empty or all-NA columns when determining the result dtypes. To retain the old behavior, exclude the relevant entries before the concat operation.\n"
     ]
    },
    {
     "name": "stdout",
     "output_type": "stream",
     "text": [
      "CPU times: user 29.1 s, sys: 1.36 s, total: 30.4 s\n",
      "Wall time: 30.3 s\n"
     ]
    }
   ],
   "source": [
    "%%time\n",
    "all_buildings = pd.concat((gdf[subset] for gdf in all_gdfs), ignore_index=True)"
   ]
  },
  {
   "cell_type": "code",
   "execution_count": 136,
   "id": "049c6ebf-2093-4bb3-8839-6612114aa75a",
   "metadata": {},
   "outputs": [],
   "source": [
    "all_buildings.to_parquet(\n",
    "    \"/data/uscuni-ulce/buildings_standardised/merged_ce_buildings.pq\"\n",
    ")"
   ]
  }
 ],
 "metadata": {
  "kernelspec": {
   "display_name": "Python 3 (ipykernel)",
   "language": "python",
   "name": "python3"
  },
  "language_info": {
   "codemirror_mode": {
    "name": "ipython",
    "version": 3
   },
   "file_extension": ".py",
   "mimetype": "text/x-python",
   "name": "python",
   "nbconvert_exporter": "python",
   "pygments_lexer": "ipython3",
   "version": "3.12.5"
  }
 },
 "nbformat": 4,
 "nbformat_minor": 5
}
