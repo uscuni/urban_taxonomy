{
 "cells": [
  {
   "cell_type": "code",
   "execution_count": 1,
   "id": "c22af6da-01e9-442d-b391-97616c5f5dc2",
   "metadata": {},
   "outputs": [],
   "source": [
    "import geopandas as gpd\n",
    "import matplotlib.pyplot as plt"
   ]
  },
  {
   "cell_type": "markdown",
   "id": "dafd7295-fce4-4a1d-9445-04dd93fa5cdd",
   "metadata": {},
   "source": [
    "Load all buildings represented as points."
   ]
  },
  {
   "cell_type": "code",
   "execution_count": null,
   "id": "cc4abad7-dfd4-4664-8682-8c0dde94857c",
   "metadata": {},
   "outputs": [
    {
     "name": "stderr",
     "output_type": "stream",
     "text": [
      "Exception ignored in: <bound method IPythonKernel._clean_thread_parent_frames of <ipykernel.ipkernel.IPythonKernel object at 0x7e16980e2d20>>\n",
      "Traceback (most recent call last):\n",
      "  File \"/home/martin/dev/urban_taxonomy/.pixi/envs/default/lib/python3.12/site-packages/ipykernel/ipkernel.py\", line 775, in _clean_thread_parent_frames\n",
      "    def _clean_thread_parent_frames(\n",
      "\n",
      "KeyboardInterrupt: \n",
      "Exception ignored in: <bound method IPythonKernel._clean_thread_parent_frames of <ipykernel.ipkernel.IPythonKernel object at 0x7e16980e2d20>>\n",
      "Traceback (most recent call last):\n",
      "  File \"/home/martin/dev/urban_taxonomy/.pixi/envs/default/lib/python3.12/site-packages/ipykernel/ipkernel.py\", line 775, in _clean_thread_parent_frames\n",
      "    def _clean_thread_parent_frames(\n",
      "\n",
      "KeyboardInterrupt: \n"
     ]
    }
   ],
   "source": [
    "complete = gpd.read_parquet(\"/data/uscuni-ulce/boundaries_of_change/classification/\")"
   ]
  },
  {
   "cell_type": "markdown",
   "id": "691a786f-bded-421f-8df6-252038265ce7",
   "metadata": {},
   "source": [
    "Map ids to level 3."
   ]
  },
  {
   "cell_type": "code",
   "execution_count": null,
   "id": "0f8d1735-605d-4a43-b1ff-7c89b1bd4481",
   "metadata": {},
   "outputs": [],
   "source": []
  },
  {
   "cell_type": "markdown",
   "id": "d9bebc91-503d-45c1-8c4d-5536b8230465",
   "metadata": {},
   "source": [
    "Make a grid"
   ]
  },
  {
   "cell_type": "code",
   "execution_count": null,
   "id": "ced71eb8-994d-4bd9-b624-cd54b9c97c05",
   "metadata": {},
   "outputs": [],
   "source": []
  },
  {
   "cell_type": "markdown",
   "id": "29950930-c15d-41de-b942-1db91d719c71",
   "metadata": {},
   "source": [
    "Join grid label to points"
   ]
  },
  {
   "cell_type": "code",
   "execution_count": null,
   "id": "9d114df8-77ec-4308-af43-bf47ee9a8b01",
   "metadata": {},
   "outputs": [],
   "source": []
  },
  {
   "cell_type": "markdown",
   "id": "3eddbb4e-ce47-4a98-bcf9-3d03ba341388",
   "metadata": {},
   "source": [
    "Group by grid label and get counts by class."
   ]
  },
  {
   "cell_type": "code",
   "execution_count": null,
   "id": "9808e8a6-46bd-4836-b0b0-c2f5a38b968e",
   "metadata": {},
   "outputs": [],
   "source": []
  },
  {
   "cell_type": "markdown",
   "id": "6a11ce3f-5a3f-44f5-b582-7ae3cb896437",
   "metadata": {},
   "source": [
    "Plot"
   ]
  },
  {
   "cell_type": "code",
   "execution_count": null,
   "id": "22958cb0-cdc7-48af-8b38-ad7547a91522",
   "metadata": {},
   "outputs": [],
   "source": []
  }
 ],
 "metadata": {
  "kernelspec": {
   "display_name": "Python 3 (ipykernel)",
   "language": "python",
   "name": "python3"
  },
  "language_info": {
   "codemirror_mode": {
    "name": "ipython",
    "version": 3
   },
   "file_extension": ".py",
   "mimetype": "text/x-python",
   "name": "python",
   "nbconvert_exporter": "python",
   "pygments_lexer": "ipython3",
   "version": "3.12.10"
  }
 },
 "nbformat": 4,
 "nbformat_minor": 5
}
