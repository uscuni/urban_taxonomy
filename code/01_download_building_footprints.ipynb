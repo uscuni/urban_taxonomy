{
 "cells": [
  {
   "cell_type": "markdown",
   "id": "270f91ce",
   "metadata": {},
   "source": [
    "# Download building footprints\n",
    "\n",
    "This notebook downloads builidng footprints from respective national portals and saves them in the `DATADIR`."
   ]
  },
  {
   "cell_type": "code",
   "execution_count": null,
   "id": "6b8e03df-ada7-4033-b81c-69f88406df7a",
   "metadata": {},
   "outputs": [],
   "source": [
    "import requests\n",
    "from glob import glob\n",
    "import geopandas as gpd\n",
    "from io import BytesIO\n",
    "import re\n",
    "import pandas as pd\n",
    "import httpx\n",
    "import shapely\n",
    "import numpy as np\n",
    "import pyogrio\n",
    "import time\n",
    "import warnings\n",
    "import urllib.parse\n",
    "import xml.etree.ElementTree as ET\n",
    "# import time"
   ]
  },
  {
   "cell_type": "code",
   "execution_count": 3,
   "id": "591e590f-cab0-488d-bf50-5be26a013d80",
   "metadata": {},
   "outputs": [],
   "source": [
    "DATADIR = \"/data/uscuni-ulce/buildings_raw/\""
   ]
  },
  {
   "cell_type": "markdown",
   "id": "cff424bc-3b59-4b45-84a0-9f221ba07ea7",
   "metadata": {},
   "source": [
    "## Germany\n",
    "\n",
    "Germany is divided into individual states and each must be retrieved independently."
   ]
  },
  {
   "cell_type": "code",
   "execution_count": null,
   "id": "06b80e68-4a3b-4bbe-8bca-ac142e00bcae",
   "metadata": {},
   "outputs": [],
   "source": [
    "ger_regions = [\n",
    "    \"bavaria\",\n",
    "    \"brandeburg\",\n",
    "    \"bw\",\n",
    "    \"hessen\",\n",
    "    \"mv\",\n",
    "    \"nrw\",\n",
    "    \"rlp\",\n",
    "    \"saarland\",\n",
    "    \"sachsen\",\n",
    "    \"sachsen-anhalt\",\n",
    "    \"sg\",\n",
    "    \"th\",\n",
    "    \"ni\",\n",
    "    \"bremen\",\n",
    "    \"hamburg\",\n",
    "    \"berlin\",\n",
    "]"
   ]
  },
  {
   "cell_type": "code",
   "execution_count": null,
   "id": "161ff262-184a-4ccd-b6ac-8dc846b763ee",
   "metadata": {},
   "outputs": [],
   "source": [
    "def process_wfs(\n",
    "    region_name,\n",
    "    size,\n",
    "    url,\n",
    "    params,\n",
    "    count,\n",
    "    start=0,\n",
    "):\n",
    "    params = params.copy()\n",
    "    i = start\n",
    "    for i in range(start, size + count, count):\n",
    "        print(i)\n",
    "        params[\"count\"] = (count,)\n",
    "        params[\"startIndex\"] = (i,)\n",
    "\n",
    "        # Make the request\n",
    "        response = requests.get(url, params=params)\n",
    "\n",
    "        if response.status_code != 200:\n",
    "            print(i, count)\n",
    "            print(response.content)\n",
    "            break\n",
    "\n",
    "        try:\n",
    "            gdf = gpd.read_file(BytesIO(response.content))\n",
    "        except Exception as e:\n",
    "            print(e)\n",
    "            break\n",
    "\n",
    "        gdf.to_parquet(DATADIR + f\"buildings_{region_name}_{i}.pq\")"
   ]
  },
  {
   "cell_type": "code",
   "execution_count": 6,
   "id": "e44d4ea3-2fe8-4068-9839-191b6954fadc",
   "metadata": {},
   "outputs": [],
   "source": [
    "def get_size(url, params):\n",
    "    params = params.copy()\n",
    "    params[\"resultType\"] = \"hits\"\n",
    "    response = requests.get(url, params=params)\n",
    "    if response.status_code == 200:\n",
    "        size = re.findall(r'numberMatched=\"[0-9]+\"', str(response.content))\n",
    "        size = int(size[0].split(\"=\")[-1][1:-1])\n",
    "        return size\n",
    "\n",
    "    return \"unknown\""
   ]
  },
  {
   "cell_type": "markdown",
   "id": "435bfc7a",
   "metadata": {},
   "source": [
    "### Brandenburg"
   ]
  },
  {
   "cell_type": "code",
   "execution_count": null,
   "id": "9fc00a34-4adc-4936-8c1c-dc453e4bbbc5",
   "metadata": {
    "jupyter": {
     "source_hidden": true
    },
    "scrolled": true
   },
   "outputs": [],
   "source": [
    "%%time\n",
    "\n",
    "url = \"https://isk.geobasis-bb.de/ows/alkis_vereinf_wfs\"\n",
    "\n",
    "# Parameters for the GetFeature request\n",
    "\n",
    "params = {\n",
    "    \"SERVICE\": \"WFS\",\n",
    "    \"REQUEST\": \"GetFeature\",\n",
    "    \"TYPENAMES\": \"ave:GebaeudeBauwerk\",\n",
    "    \"SRSNAME\": \"EPSG:4326\",\n",
    "    \"VERSION\": \"2.0.0\",\n",
    "}\n",
    "\n",
    "size = get_size(url, params)\n",
    "print(size)"
   ]
  },
  {
   "cell_type": "code",
   "execution_count": null,
   "id": "9f7d8046-e9cf-4ade-a993-cf05e9fe7f9d",
   "metadata": {},
   "outputs": [],
   "source": [
    "count = 100_000\n",
    "process_wfs(\"germany_brandeburg\", size, url, params, count)"
   ]
  },
  {
   "cell_type": "code",
   "execution_count": 17,
   "id": "9b309515-91de-4689-8a78-723883ccf278",
   "metadata": {},
   "outputs": [
    {
     "data": {
      "text/plain": [
       "'brandeburg'"
      ]
     },
     "execution_count": 17,
     "metadata": {},
     "output_type": "execute_result"
    }
   ],
   "source": [
    "region = ger_regions[1]\n",
    "region"
   ]
  },
  {
   "cell_type": "code",
   "execution_count": 18,
   "id": "7e846e07-ea9d-4030-a709-0118efd93642",
   "metadata": {},
   "outputs": [],
   "source": [
    "files = glob(f\"{DATADIR}buildings_germany_{region}*\")"
   ]
  },
  {
   "cell_type": "code",
   "execution_count": 21,
   "id": "3074a298-fc3a-4d51-aba6-33f92c4e797d",
   "metadata": {},
   "outputs": [],
   "source": [
    "frames = []\n",
    "for f in files:\n",
    "    gdf = gpd.read_parquet(f)\n",
    "    if gdf.shape[0]:\n",
    "        frames.append(gdf.to_crs(epsg=3035))\n",
    "gdf = pd.concat(frames, ignore_index=True)\n",
    "if \"gml_id\" in gdf.columns:\n",
    "    gdf = gdf[~gdf[\"gml_id\"].duplicated()]\n",
    "if \"oid\" in gdf.columns:\n",
    "    gdf = gdf[~gdf[\"oid\"].duplicated()]"
   ]
  },
  {
   "cell_type": "code",
   "execution_count": 25,
   "id": "39fcd7aa-3c5f-401b-8e55-01333f5cc377",
   "metadata": {},
   "outputs": [],
   "source": [
    "gdf.to_parquet(\n",
    "    f\"/data/uscuni-ulce/buildings_standardised/buildings_germany_{region}.pq\"\n",
    ")"
   ]
  },
  {
   "cell_type": "markdown",
   "id": "e13fc4a5-4df3-46fd-8c39-2a6bdaf1eb09",
   "metadata": {
    "jp-MarkdownHeadingCollapsed": true
   },
   "source": [
    "### Sachsen"
   ]
  },
  {
   "cell_type": "code",
   "execution_count": null,
   "id": "e9ce2cf7-6244-4497-a344-045814c56627",
   "metadata": {},
   "outputs": [],
   "source": [
    "# sachsen\n",
    "i = 0\n",
    "params = {\n",
    "    \"SERVICE\": \"WFS\",\n",
    "    \"REQUEST\": \"GetFeature\",\n",
    "    \"TYPENAMES\": \"ave:GebaeudeBauwerk\",\n",
    "    \"SRSNAME\": \"EPSG:25833\",\n",
    "    \"VERSION\": \"2.0.0\",\n",
    "}\n",
    "url = \"https://geodienste.sachsen.de/aaa/public_alkis/vereinf/wfs\"\n",
    "\n",
    "size = get_size(url, params)\n",
    "print(size)"
   ]
  },
  {
   "cell_type": "code",
   "execution_count": null,
   "id": "29a31d2c-f09e-4c8a-aabd-47d8143a9ce4",
   "metadata": {
    "scrolled": true
   },
   "outputs": [],
   "source": [
    "count = 10000\n",
    "process_wfs(\"germany_sachsen\", size, url, params, count)"
   ]
  },
  {
   "cell_type": "code",
   "execution_count": 40,
   "id": "9af155c8-b016-4cfc-bc49-a3c8427ee1c9",
   "metadata": {},
   "outputs": [
    {
     "data": {
      "text/plain": [
       "'sachsen'"
      ]
     },
     "execution_count": 40,
     "metadata": {},
     "output_type": "execute_result"
    }
   ],
   "source": [
    "region = ger_regions[8]\n",
    "region"
   ]
  },
  {
   "cell_type": "code",
   "execution_count": 41,
   "id": "9b50d0c8-f4c2-458d-a7d3-df514c7acf71",
   "metadata": {},
   "outputs": [],
   "source": [
    "files = glob(f\"{DATADIR}buildings_germany_{region}*\")"
   ]
  },
  {
   "cell_type": "code",
   "execution_count": 30,
   "id": "5ddbe076-eefe-48f1-962a-2cbd541305ba",
   "metadata": {},
   "outputs": [],
   "source": [
    "frames = []\n",
    "for f in files:\n",
    "    gdf = gpd.read_parquet(f)\n",
    "    if gdf.shape[0]:\n",
    "        frames.append(gdf.to_crs(epsg=3035))\n",
    "gdf = pd.concat(frames, ignore_index=True)\n",
    "if \"gml_id\" in gdf.columns:\n",
    "    gdf = gdf[~gdf[\"gml_id\"].duplicated()]\n",
    "if \"oid\" in gdf.columns:\n",
    "    gdf = gdf[~gdf[\"oid\"].duplicated()]"
   ]
  },
  {
   "cell_type": "code",
   "execution_count": 44,
   "id": "a7d1cdf7-0913-4dfd-b36d-0f45624bc23d",
   "metadata": {},
   "outputs": [],
   "source": [
    "gdf.to_parquet(\n",
    "    f\"/data/uscuni-ulce/buildings_standardised/buildings_germany_{region}.pq\"\n",
    ")"
   ]
  },
  {
   "cell_type": "markdown",
   "id": "dbc9ded9-dd93-4488-bfd3-7fe98392befe",
   "metadata": {
    "jp-MarkdownHeadingCollapsed": true
   },
   "source": [
    "### Baden-Württemberg"
   ]
  },
  {
   "cell_type": "code",
   "execution_count": null,
   "id": "2eca9508-e059-4ea1-8dbc-a4a74ca2797b",
   "metadata": {},
   "outputs": [],
   "source": [
    "#\n",
    "params = {\n",
    "    \"SERVICE\": \"WFS\",\n",
    "    \"REQUEST\": \"GetFeature\",\n",
    "    \"TYPENAMES\": \"bu-core2d:Building\",\n",
    "    \"SRSNAME\": \"EPSG:25833\",\n",
    "    \"VERSION\": \"2.0.0\",\n",
    "}\n",
    "url = \"https://owsproxy.lgl-bw.de/owsproxy/wfs/WFS_INSP_BW_Gebaeude_ALKIS\"\n",
    "\n",
    "size = get_size(url, params)\n",
    "print(size)"
   ]
  },
  {
   "cell_type": "code",
   "execution_count": null,
   "id": "83b2156b-3e7d-4c1f-a292-d94f6c99bf30",
   "metadata": {},
   "outputs": [],
   "source": [
    "count = 10000\n",
    "process_wfs(\"germany_bw\", size, url, params, count)"
   ]
  },
  {
   "cell_type": "code",
   "execution_count": 47,
   "id": "bf3cda2f-4b62-4d8c-93c7-f95d3fe6202d",
   "metadata": {},
   "outputs": [
    {
     "data": {
      "text/plain": [
       "'bw'"
      ]
     },
     "execution_count": 47,
     "metadata": {},
     "output_type": "execute_result"
    }
   ],
   "source": [
    "region = ger_regions[2]\n",
    "region"
   ]
  },
  {
   "cell_type": "code",
   "execution_count": 48,
   "id": "c3dd53d8-419a-46fb-810e-15e71b3b4ce9",
   "metadata": {},
   "outputs": [],
   "source": [
    "files = glob(f\"{DATADIR}buildings_germany_{region}*\")"
   ]
  },
  {
   "cell_type": "code",
   "execution_count": 51,
   "id": "61945da2-e21d-4a13-83a4-34593bce0e15",
   "metadata": {},
   "outputs": [],
   "source": [
    "frames = []\n",
    "for f in files:\n",
    "    gdf = gpd.read_parquet(f)\n",
    "    if gdf.shape[0]:\n",
    "        frames.append(gdf.to_crs(epsg=3035))\n",
    "gdf = pd.concat(frames, ignore_index=True)\n",
    "if \"gml_id\" in gdf.columns:\n",
    "    gdf = gdf[~gdf[\"gml_id\"].duplicated()]\n",
    "if \"oid\" in gdf.columns:\n",
    "    gdf = gdf[~gdf[\"oid\"].duplicated()]"
   ]
  },
  {
   "cell_type": "code",
   "execution_count": null,
   "id": "a45501e5-0b0c-45e2-afea-d03cf5d31122",
   "metadata": {},
   "outputs": [],
   "source": [
    "gdf.to_parquet(\n",
    "    f\"/data/uscuni-ulce/buildings_standardised/buildings_germany_{region}.pq\"\n",
    ")"
   ]
  },
  {
   "cell_type": "markdown",
   "id": "1a350272-4f27-4e8d-a883-2a006f551e70",
   "metadata": {
    "jp-MarkdownHeadingCollapsed": true
   },
   "source": [
    "### Mecklenburg-Vorpommern\n"
   ]
  },
  {
   "cell_type": "code",
   "execution_count": null,
   "id": "eb6324b6-30cb-4b22-b3ec-b5ca1ad1f255",
   "metadata": {},
   "outputs": [],
   "source": [
    "params = {\n",
    "    \"SERVICE\": \"WFS\",\n",
    "    \"REQUEST\": \"GetFeature\",\n",
    "    \"TYPENAMES\": \"ave:GebaeudeBauwerk\",\n",
    "    \"SRSNAME\": \"EPSG:5650\",\n",
    "    \"VERSION\": \"2.0.0\",\n",
    "}\n",
    "url = \"https://www.geodaten-mv.de/dienste/alkis_wfs_einfach\"\n",
    "size = get_size(url, params)\n",
    "print(size)"
   ]
  },
  {
   "cell_type": "code",
   "execution_count": null,
   "id": "263702e7-fb73-40f9-8fc1-a30f3dbd7690",
   "metadata": {
    "scrolled": true
   },
   "outputs": [],
   "source": [
    "count = 30_000\n",
    "process_wfs(\"germany_mv\", size, url, params, count)"
   ]
  },
  {
   "cell_type": "code",
   "execution_count": 5,
   "id": "b700862d-ffc4-4236-aa2d-6ecd44250f32",
   "metadata": {},
   "outputs": [
    {
     "data": {
      "text/plain": [
       "'mv'"
      ]
     },
     "execution_count": 5,
     "metadata": {},
     "output_type": "execute_result"
    }
   ],
   "source": [
    "region = ger_regions[4]\n",
    "region"
   ]
  },
  {
   "cell_type": "code",
   "execution_count": 6,
   "id": "ca6375af-1ccb-4dd9-a745-39eb5a6c9085",
   "metadata": {},
   "outputs": [],
   "source": [
    "files = glob(f\"{DATADIR}buildings_germany_{region}*\")"
   ]
  },
  {
   "cell_type": "code",
   "execution_count": 9,
   "id": "63ea69f8-4e72-4fa3-a16d-36fd9c178994",
   "metadata": {},
   "outputs": [],
   "source": [
    "frames = []\n",
    "for f in files:\n",
    "    gdf = gpd.read_parquet(f)\n",
    "    if gdf.shape[0]:\n",
    "        frames.append(gdf.to_crs(epsg=3035))\n",
    "gdf = pd.concat(frames, ignore_index=True)\n",
    "if \"gml_id\" in gdf.columns:\n",
    "    gdf = gdf[~gdf[\"gml_id\"].duplicated()]\n",
    "if \"oid\" in gdf.columns:\n",
    "    gdf = gdf[~gdf[\"oid\"].duplicated()]"
   ]
  },
  {
   "cell_type": "code",
   "execution_count": 13,
   "id": "ba796cff-dab8-4309-84db-de862e1bdd57",
   "metadata": {},
   "outputs": [],
   "source": [
    "gdf.to_parquet(\n",
    "    f\"/data/uscuni-ulce/buildings_standardised/buildings_germany_{region}.pq\"\n",
    ")"
   ]
  },
  {
   "cell_type": "markdown",
   "id": "c9b5bea7-7e94-45e4-9652-af82465a127c",
   "metadata": {
    "jp-MarkdownHeadingCollapsed": true
   },
   "source": [
    "### Rheinland-Pfalz"
   ]
  },
  {
   "cell_type": "code",
   "execution_count": null,
   "id": "3f0a6883-4ef7-4b1b-ac32-8083107dc66d",
   "metadata": {},
   "outputs": [],
   "source": [
    "# # https://www.geoportal.rlp.de/mapbender/php/mod_inspireDownloadFeed.php?id=30cc0a9a-cbad-66e3-68a5-7b75544814d8&type=DATASET&generateFrom=wfs&wfsid=519&featuretypeid=2713\n",
    "# #rlp\n",
    "# i = 0\n",
    "# params = {\n",
    "#         \"SERVICE\": \"WFS\",\n",
    "#         \"REQUEST\": \"GetFeature\",\n",
    "#         \"TYPENAMES\": \"bu-core2d:Building\",\n",
    "#         \"SRSNAME\": \"EPSG:25832\",\n",
    "#         \"VERSION\": '2.0.0',\n",
    "#     }\n",
    "# url = 'https://www.geoportal.rlp.de/registry/wfs/519'\n",
    "# size = get_size(url, params)\n",
    "# print(size)\n",
    "\n",
    "\n",
    "# # count = 100000\n",
    "# # process_wfs(\"germany_rlp\", url, params, count)\n",
    "\n",
    "\n",
    "for i in range(0, 3320444, 4000):\n",
    "    url = f\"https://www.geoportal.rlp.de/spatial-objects/519/collections/ave:GebaeudeBauwerk/items?offset={i}&limit=4000&f=json\"\n",
    "    gdf = gpd.read_file(url)\n",
    "    gdf.to_parquet(DATADIR + f\"buildings_germany_rlp_{i}.pq\")\n",
    "    print(i)"
   ]
  },
  {
   "cell_type": "code",
   "execution_count": 73,
   "id": "fc672243-597c-4961-8634-567e38f03fe1",
   "metadata": {},
   "outputs": [
    {
     "data": {
      "text/plain": [
       "'rlp'"
      ]
     },
     "execution_count": 73,
     "metadata": {},
     "output_type": "execute_result"
    }
   ],
   "source": [
    "region = ger_regions[6]\n",
    "region"
   ]
  },
  {
   "cell_type": "code",
   "execution_count": 74,
   "id": "3c699088-1f9a-4729-b67b-01b87bb35ef9",
   "metadata": {},
   "outputs": [],
   "source": [
    "files = glob(f\"{DATADIR}buildings_germany_{region}*\")"
   ]
  },
  {
   "cell_type": "code",
   "execution_count": 77,
   "id": "b3b735bf-0116-4ba6-88e1-02eee716eb8f",
   "metadata": {},
   "outputs": [],
   "source": [
    "frames = []\n",
    "for f in files:\n",
    "    gdf = gpd.read_parquet(f)\n",
    "    if gdf.shape[0]:\n",
    "        frames.append(gdf.to_crs(epsg=3035))\n",
    "gdf = pd.concat(frames, ignore_index=True)\n",
    "if \"gml_id\" in gdf.columns:\n",
    "    gdf = gdf[~gdf[\"gml_id\"].duplicated()]\n",
    "if \"oid\" in gdf.columns:\n",
    "    gdf = gdf[~gdf[\"oid\"].duplicated()]"
   ]
  },
  {
   "cell_type": "code",
   "execution_count": 79,
   "id": "3f0588cc-9bf8-4500-acb1-c95f9d04eec2",
   "metadata": {},
   "outputs": [],
   "source": [
    "gdf.to_parquet(\n",
    "    f\"/data/uscuni-ulce/buildings_standardised/buildings_germany_{region}.pq\"\n",
    ")"
   ]
  },
  {
   "cell_type": "markdown",
   "id": "199ea3f0-daad-44bd-b913-9eb67f927770",
   "metadata": {
    "jp-MarkdownHeadingCollapsed": true
   },
   "source": [
    "### Saarland\n"
   ]
  },
  {
   "cell_type": "code",
   "execution_count": null,
   "id": "08359e0a-a397-4432-ad7f-c47436c5785f",
   "metadata": {},
   "outputs": [],
   "source": [
    "# # i = 0\n",
    "# # params = {\n",
    "# #         \"SERVICE\": \"WFS\",\n",
    "# #         \"REQUEST\": \"GetFeature\",\n",
    "# #         \"TYPENAMES\": \"bu-core2d:Building\",\n",
    "# #         \"SRSNAME\": \"EPSG:4326\",\n",
    "# #         \"VERSION\": '2.0.0',\n",
    "# #     }\n",
    "# # url = 'https://geoportal.saarland.de/gdi-sl/inspirewfs_2D_Gebaeude_ALKIS'\n",
    "# # size = get_size(url, params)\n",
    "# # print(size)\n",
    "\n",
    "# # params['count'] = size\n",
    "# # response = requests.get(url, params=params)\n",
    "\n",
    "\n",
    "for i in range(0, 622841, 500):\n",
    "    url = f\"https://geoportal.saarland.de/spatial-objects/406/collections/bu-core2d:Building/items?offset={i}&limit=500&f=json\"\n",
    "    gdf = gpd.read_file(url)\n",
    "    gdf.to_parquet(DATADIR + f\"buildings_germany_saarland_{i}.pq\")\n",
    "    print(i)"
   ]
  },
  {
   "cell_type": "code",
   "execution_count": 84,
   "id": "3ca9bdb0-eaa0-4fa0-b289-0526fd7f7414",
   "metadata": {},
   "outputs": [
    {
     "data": {
      "text/plain": [
       "'saarland'"
      ]
     },
     "execution_count": 84,
     "metadata": {},
     "output_type": "execute_result"
    }
   ],
   "source": [
    "region = ger_regions[7]\n",
    "region"
   ]
  },
  {
   "cell_type": "code",
   "execution_count": 85,
   "id": "89f45743-cb15-4da4-88ff-21e549c8472f",
   "metadata": {},
   "outputs": [],
   "source": [
    "files = glob(f\"{DATADIR}buildings_germany_{region}*\")"
   ]
  },
  {
   "cell_type": "code",
   "execution_count": 88,
   "id": "12bd3012-c105-41d4-957e-087c1dd25324",
   "metadata": {},
   "outputs": [],
   "source": [
    "frames = []\n",
    "for f in files:\n",
    "    gdf = gpd.read_parquet(f)\n",
    "    if gdf.shape[0]:\n",
    "        frames.append(gdf.to_crs(epsg=3035))\n",
    "gdf = pd.concat(frames, ignore_index=True)\n",
    "if \"gml_id\" in gdf.columns:\n",
    "    gdf = gdf[~gdf[\"gml_id\"].duplicated()]\n",
    "if \"oid\" in gdf.columns:\n",
    "    gdf = gdf[~gdf[\"oid\"].duplicated()]"
   ]
  },
  {
   "cell_type": "code",
   "execution_count": 90,
   "id": "00856064-21c1-4561-8ff5-fceaa06ad898",
   "metadata": {},
   "outputs": [],
   "source": [
    "gdf.to_parquet(\n",
    "    f\"/data/uscuni-ulce/buildings_standardised/buildings_germany_{region}.pq\"\n",
    ")"
   ]
  },
  {
   "cell_type": "markdown",
   "id": "3f21da1f-a1b5-4211-b850-93af5cdf1f1c",
   "metadata": {
    "jp-MarkdownHeadingCollapsed": true
   },
   "source": [
    "### Nordrhein-Westfalen"
   ]
  },
  {
   "cell_type": "code",
   "execution_count": null,
   "id": "ff502a0a-69a0-459b-8653-9173e0b5e4da",
   "metadata": {},
   "outputs": [],
   "source": [
    "# i = 0\n",
    "# params = {\n",
    "#         \"SERVICE\": \"WFS\",\n",
    "#         \"REQUEST\": \"GetFeature\",\n",
    "#         \"TYPENAMES\": \"bu-core2d:Building\",\n",
    "#         \"SRSNAME\": \"EPSG:4326\",\n",
    "#         \"VERSION\": '2.0.0',\n",
    "#     }\n",
    "# url = 'https://www.wfs.nrw.de/geobasis/wfs_nw_inspire-gebaeude-2d_alkis'\n",
    "\n",
    "# size = get_size(url, params)\n",
    "# size\n",
    "# count = 10000\n",
    "# process_wfs(\"germany_nrw\", url, params, count, start=)\n",
    "\n",
    "step = 5_000\n",
    "\n",
    "for i in range(0, 12646244, step):\n",
    "    url = f\"https://ogc-api.nrw.de/lika/v1/collections/gebaeude_bauwerk/items?offset={i}&limit={step}&f=json\"\n",
    "    gdf = gpd.read_file(url)\n",
    "    gdf.to_parquet(DATADIR + f\"buildings_germany_nrw_{i}.pq\")\n",
    "    print(i, gdf.shape)"
   ]
  },
  {
   "cell_type": "code",
   "execution_count": 64,
   "id": "4e69f279-b520-423e-900d-c5cdb9452fdd",
   "metadata": {},
   "outputs": [
    {
     "data": {
      "text/plain": [
       "'nrw'"
      ]
     },
     "execution_count": 64,
     "metadata": {},
     "output_type": "execute_result"
    }
   ],
   "source": [
    "region = ger_regions[5]\n",
    "region"
   ]
  },
  {
   "cell_type": "code",
   "execution_count": 65,
   "id": "ecb5ca3e-94e8-47af-bbd2-fd542120adbc",
   "metadata": {},
   "outputs": [],
   "source": [
    "files = glob(f\"{DATADIR}buildings_germany_{region}*\")"
   ]
  },
  {
   "cell_type": "code",
   "execution_count": 68,
   "id": "77f9dd91-e64b-4363-8a46-992b48e8b588",
   "metadata": {},
   "outputs": [],
   "source": [
    "frames = []\n",
    "for f in files:\n",
    "    gdf = gpd.read_parquet(f)\n",
    "    if gdf.shape[0]:\n",
    "        frames.append(gdf.to_crs(epsg=3035))\n",
    "gdf = pd.concat(frames, ignore_index=True)\n",
    "if \"gml_id\" in gdf.columns:\n",
    "    gdf = gdf[~gdf[\"gml_id\"].duplicated()]\n",
    "if \"oid\" in gdf.columns:\n",
    "    gdf = gdf[~gdf[\"oid\"].duplicated()]"
   ]
  },
  {
   "cell_type": "code",
   "execution_count": 72,
   "id": "c12b41c6-04d9-4b93-bb3c-4d74ca3168b3",
   "metadata": {},
   "outputs": [],
   "source": [
    "gdf.to_parquet(\n",
    "    f\"/data/uscuni-ulce/buildings_standardised/buildings_germany_{region}.pq\"\n",
    ")"
   ]
  },
  {
   "cell_type": "markdown",
   "id": "34b9c652-65b2-4fa5-9161-16b4a916706c",
   "metadata": {
    "jp-MarkdownHeadingCollapsed": true
   },
   "source": [
    "### Niedersachsen"
   ]
  },
  {
   "cell_type": "code",
   "execution_count": null,
   "id": "6b8fa411-6c5f-437b-b59d-067a902b7c2b",
   "metadata": {},
   "outputs": [],
   "source": [
    "# https://ni-lgln-opengeodata.hub.arcgis.com/apps/1cadea38ffb341bc83019b3d7f787dd3/explore\n",
    "\n",
    "\n",
    "# #niedersachsen\n",
    "# i = 0\n",
    "# params = {\n",
    "#         \"SERVICE\": \"WFS\",\n",
    "#         \"REQUEST\": \"GetFeature\",\n",
    "#         \"TYPENAMES\": \"bu-core2d:Building\",\n",
    "#         \"VERSION\": '2.0.0',\n",
    "#     }\n",
    "# url = 'https://www.inspire.niedersachsen.de/doorman/noauth/alkis-dls-bu-core2d?'\n",
    "\n",
    "# size = get_size(url, params)\n",
    "# print(size)\n",
    "\n",
    "# count = 10000\n",
    "# process_wfs(\"germany_niedersachsen\", url, params, count)"
   ]
  },
  {
   "cell_type": "code",
   "execution_count": null,
   "id": "2568dfee-f839-40ec-b133-bdad7800b99f",
   "metadata": {},
   "outputs": [],
   "source": [
    "links = gpd.read_file(\n",
    "    \"https://arcgis-geojson.s3.eu-de.cloud-object-storage.appdomain.cloud/alkis-vektor/lgln-opengeodata-alkis-vektor.geojson\"\n",
    ")"
   ]
  },
  {
   "cell_type": "code",
   "execution_count": null,
   "id": "ee99aaff-ffb3-44ff-b259-a8c7836ceef0",
   "metadata": {
    "scrolled": true
   },
   "outputs": [],
   "source": [
    "for link in links.zip.values:\n",
    "    link = urllib.parse.quote(link, safe=\":/\")\n",
    "    print(link)\n",
    "    gdf = gpd.read_file(link, layer=\"gebaeude\")\n",
    "    gdf.to_parquet(DATADIR + f\"buildings_germany_ni_{link.split('/')[-1][:-9]}.pq\")"
   ]
  },
  {
   "cell_type": "code",
   "execution_count": 98,
   "id": "b4112596-19ba-44fb-bc30-08cec40921c2",
   "metadata": {},
   "outputs": [
    {
     "data": {
      "text/plain": [
       "'ni'"
      ]
     },
     "execution_count": 98,
     "metadata": {},
     "output_type": "execute_result"
    }
   ],
   "source": [
    "region = ger_regions[12]\n",
    "region"
   ]
  },
  {
   "cell_type": "code",
   "execution_count": 99,
   "id": "855cdbd5-25bb-45dd-88af-d2dd43e906a3",
   "metadata": {},
   "outputs": [],
   "source": [
    "files = glob(f\"{DATADIR}buildings_germany_{region}*\")"
   ]
  },
  {
   "cell_type": "code",
   "execution_count": 102,
   "id": "eb3c3821-f8b4-40a2-bfc0-b1ea411f1b58",
   "metadata": {},
   "outputs": [],
   "source": [
    "frames = []\n",
    "for f in files:\n",
    "    gdf = gpd.read_parquet(f)\n",
    "    if gdf.shape[0]:\n",
    "        frames.append(gdf.to_crs(epsg=3035))\n",
    "gdf = pd.concat(frames, ignore_index=True)\n",
    "if \"gml_id\" in gdf.columns:\n",
    "    gdf = gdf[~gdf[\"gml_id\"].duplicated()]\n",
    "if \"oid\" in gdf.columns:\n",
    "    gdf = gdf[~gdf[\"oid\"].duplicated()]"
   ]
  },
  {
   "cell_type": "code",
   "execution_count": 104,
   "id": "e589b097-1212-4159-9540-4b61c279b3ad",
   "metadata": {},
   "outputs": [],
   "source": [
    "gdf.to_parquet(\n",
    "    f\"/data/uscuni-ulce/buildings_standardised/buildings_germany_{region}.pq\"\n",
    ")"
   ]
  },
  {
   "cell_type": "markdown",
   "id": "0a0be07a-602e-483d-b20f-6d7770c8e24b",
   "metadata": {
    "jp-MarkdownHeadingCollapsed": true
   },
   "source": [
    "### Hessen\n"
   ]
  },
  {
   "cell_type": "code",
   "execution_count": 7,
   "id": "ab00a568-1594-4645-9d1d-93627a6788e3",
   "metadata": {
    "scrolled": true
   },
   "outputs": [],
   "source": [
    "# %%capture cap\n",
    "# params = {\n",
    "#         \"SERVICE\": \"WFS\",\n",
    "#         \"REQUEST\": \"GetFeature\",\n",
    "#         \"TYPENAMES\": \"bu-core2d:Building\",\n",
    "#         \"SRSNAME\": \"EPSG:4258\",\n",
    "#         \"VERSION\": '2.0.0',\n",
    "#     }\n",
    "# url = 'https://inspire-hessen.de/ows/services/org.2.29e99e26-ab08-474a-92c4-9e8f6bc679ea_wfs?'\n",
    "# size = get_size(url, params)\n",
    "# print(size)\n",
    "\n",
    "# count = 10_000\n",
    "# process_wfs(\"germany_hessen\", size, url, params, count)"
   ]
  },
  {
   "cell_type": "code",
   "execution_count": null,
   "id": "1b05dd60-cc6e-4b84-acbe-773a04ebe0c2",
   "metadata": {
    "scrolled": true
   },
   "outputs": [],
   "source": [
    "# %%capture cap\n",
    "# step = 500\n",
    "\n",
    "# for i in range(0, 4997363, step):\n",
    "#     url = f'https://www.geoportal.hessen.de/spatial-objects/711/collections/bu-core2d:Building/items?offset={i}&limit={step}&f=json'\n",
    "\n",
    "#     try:\n",
    "#         gdf = gpd.read_file(url)\n",
    "#         gdf.to_parquet(DATADIR + f'buildings_germany_hessen_{i}.pq')\n",
    "#     except Exception as e:\n",
    "#         time.sleep(5)\n",
    "#         gdf = gpd.read_file(url)\n",
    "#         gdf.to_parquet(DATADIR + f'buildings_germany_hessen_{i}.pq')\n",
    "#         print(e)\n",
    "#     print(i, gdf.shape)"
   ]
  },
  {
   "cell_type": "code",
   "execution_count": 8,
   "id": "c45486e6-0dca-4bad-a5bc-84982a4e6691",
   "metadata": {},
   "outputs": [],
   "source": [
    "%%capture cap\n",
    "params = {\n",
    "    \"SERVICE\": \"WFS\",\n",
    "    \"REQUEST\": \"GetFeature\",\n",
    "    \"TYPENAMES\": \"ave:GebaeudeBauwerk\",\n",
    "    \"SRSNAME\": \"EPSG:25832\",\n",
    "    \"VERSION\": \"2.0.0\",\n",
    "}\n",
    "url = \"https://www.gds.hessen.de/wfs2/aaa-suite/cgi-bin/alkis/vereinf/wfs\"\n",
    "size = get_size(url, params)\n",
    "print(size)\n",
    "\n",
    "count = 100_000\n",
    "process_wfs(\"germany_hessen\", size, url, params, count)"
   ]
  },
  {
   "cell_type": "code",
   "execution_count": 12,
   "id": "6e043fba-0dbf-4c5b-8b56-0bcd61889bb1",
   "metadata": {},
   "outputs": [
    {
     "data": {
      "text/plain": [
       "'hessen'"
      ]
     },
     "execution_count": 12,
     "metadata": {},
     "output_type": "execute_result"
    }
   ],
   "source": [
    "region = ger_regions[3]\n",
    "region"
   ]
  },
  {
   "cell_type": "code",
   "execution_count": 13,
   "id": "e3d66f8b-f112-4c1a-8623-de9b34569775",
   "metadata": {},
   "outputs": [],
   "source": [
    "files = glob(f\"{DATADIR}buildings_germany_{region}*\")"
   ]
  },
  {
   "cell_type": "code",
   "execution_count": 16,
   "id": "b136f03c-66cb-4f4d-8e69-b1a1b691557e",
   "metadata": {},
   "outputs": [],
   "source": [
    "frames = []\n",
    "for f in files:\n",
    "    gdf = gpd.read_parquet(f)\n",
    "    if gdf.shape[0]:\n",
    "        frames.append(gdf.to_crs(epsg=3035))\n",
    "gdf = pd.concat(frames, ignore_index=True)\n",
    "if \"gml_id\" in gdf.columns:\n",
    "    gdf = gdf[~gdf[\"gml_id\"].duplicated()]\n",
    "if \"oid\" in gdf.columns:\n",
    "    gdf = gdf[~gdf[\"oid\"].duplicated()]"
   ]
  },
  {
   "cell_type": "code",
   "execution_count": 18,
   "id": "5dd31c8d-9fa0-4226-be3a-db18f6676f0d",
   "metadata": {},
   "outputs": [],
   "source": [
    "gdf.to_parquet(\n",
    "    f\"/data/uscuni-ulce/buildings_standardised/buildings_germany_{region}.pq\"\n",
    ")"
   ]
  },
  {
   "cell_type": "markdown",
   "id": "439cf33b-f45b-4bff-b3e3-245d3da6fa81",
   "metadata": {
    "jp-MarkdownHeadingCollapsed": true
   },
   "source": [
    "### Thuringia"
   ]
  },
  {
   "cell_type": "code",
   "execution_count": null,
   "id": "f4632ae2-d255-411b-93d2-22033ddbdfd7",
   "metadata": {},
   "outputs": [],
   "source": [
    "# #thuringen\n",
    "# i = 0\n",
    "# params = {\n",
    "#         \"SERVICE\": \"WFS\",\n",
    "#         \"REQUEST\": \"GetFeature\",\n",
    "#         \"TYPENAMES\": \"ave:GebaeudeBauwerk\",\n",
    "#         \"SRSNAME\": \"EPSG:5650\",\n",
    "#         \"VERSION\": '2.0.0',\n",
    "#     }\n",
    "\n",
    "# url = 'https://www.geoproxy.geoportal-th.de/geoproxy/services/adv_alkis_wfs'\n",
    "# size = get_size(url, params)\n",
    "# print(size)"
   ]
  },
  {
   "cell_type": "code",
   "execution_count": null,
   "id": "673503fa-a8f2-4845-95e5-f707f44b05af",
   "metadata": {},
   "outputs": [],
   "source": [
    "# count = 100_000\n",
    "# process_wfs(\"germany_th\", size, url, params, count)"
   ]
  },
  {
   "cell_type": "code",
   "execution_count": null,
   "id": "510728a9-20e4-4d4f-a00a-ed3005033564",
   "metadata": {},
   "outputs": [],
   "source": [
    "#!wget https://geoportal.geoportal-th.de/dienste/atom_th_alkis?type=dataset&amp;id=33c5e445-e8eb-426b-a174-d77284d76dc9"
   ]
  },
  {
   "cell_type": "code",
   "execution_count": null,
   "id": "0db93ed6-4404-4ba2-a84f-ef370b56a0f0",
   "metadata": {
    "scrolled": true
   },
   "outputs": [],
   "source": [
    "!wget https://geoportal.geoportal-th.de/ALKIS/Shape/ALKIS_KB51_shp.zip\n",
    "!wget https://geoportal.geoportal-th.de/ALKIS/Shape/ALKIS_KB52_shp.zip\n",
    "!wget https://geoportal.geoportal-th.de/ALKIS/Shape/ALKIS_KB53_shp.zip\n",
    "!wget https://geoportal.geoportal-th.de/ALKIS/Shape/ALKIS_KB54_shp.zip\n",
    "!wget https://geoportal.geoportal-th.de/ALKIS/Shape/ALKIS_KB55_shp.zip\n",
    "!wget https://geoportal.geoportal-th.de/ALKIS/Shape/ALKIS_KB56_shp.zip\n",
    "!wget https://geoportal.geoportal-th.de/ALKIS/Shape/ALKIS_KB57_shp.zip\n",
    "!wget https://geoportal.geoportal-th.de/ALKIS/Shape/ALKIS_KB58_shp.zip"
   ]
  },
  {
   "cell_type": "code",
   "execution_count": null,
   "id": "84c38aa3-2e12-42d0-acef-b368293bf127",
   "metadata": {
    "scrolled": true
   },
   "outputs": [],
   "source": [
    "%%capture\n",
    "!unzip ALKIS_KB51_shp.zip -d temp/\n",
    "!unzip ALKIS_KB52_shp.zip -d temp/\n",
    "!unzip ALKIS_KB53_shp.zip -d temp/\n",
    "!unzip ALKIS_KB54_shp.zip -d temp/\n",
    "!unzip ALKIS_KB55_shp.zip -d temp/\n",
    "!unzip ALKIS_KB56_shp.zip -d temp/\n",
    "!unzip ALKIS_KB57_shp.zip -d temp/\n",
    "!unzip ALKIS_KB58_shp.zip -d temp/"
   ]
  },
  {
   "cell_type": "code",
   "execution_count": null,
   "id": "f277d2fe-6111-4f2a-94fa-5cc3c0680b44",
   "metadata": {},
   "outputs": [],
   "source": [
    "files = glob.glob(\"temp/*_shp.zip\")\n",
    "len(files)"
   ]
  },
  {
   "cell_type": "code",
   "execution_count": null,
   "id": "96e74ea9-7961-4155-873c-65b411296641",
   "metadata": {},
   "outputs": [],
   "source": [
    "%%time\n",
    "frames = []\n",
    "for f in files:\n",
    "    layers = gpd.list_layers(f)\n",
    "    layer = layers[layers[\"name\"].str.contains(\"GebaeudeBauwerk\")][\"name\"]\n",
    "    if layer.shape[0]:\n",
    "        layer = layer.values[0]\n",
    "    else:\n",
    "        continue\n",
    "    gdf = gpd.read_file(f, layer=layer)\n",
    "    if gdf.shape[0]:\n",
    "        frames.append(gdf.set_crs(epsg=25832).to_crs(epsg=3035))"
   ]
  },
  {
   "cell_type": "code",
   "execution_count": null,
   "id": "d1f1d036-b9c8-44ef-93e1-da555c95e51a",
   "metadata": {},
   "outputs": [],
   "source": [
    "gdf = pd.concat(frames, ignore_index=True)\n",
    "if \"gml_id\" in gdf.columns:\n",
    "    gdf = gdf[~gdf[\"gml_id\"].duplicated()]\n",
    "elif \"oid\" in gdf.columns:\n",
    "    gdf = gdf[~gdf[\"oid\"].duplicated()]"
   ]
  },
  {
   "cell_type": "code",
   "execution_count": null,
   "id": "4652cafc-584c-4d6d-a1c5-aed67210c95b",
   "metadata": {},
   "outputs": [],
   "source": [
    "gdf.to_parquet(DATADIR + \"buildings_germany_th.pq\")"
   ]
  },
  {
   "cell_type": "code",
   "execution_count": null,
   "id": "d3347567-7cff-4929-b6c3-1bab251e0fae",
   "metadata": {},
   "outputs": [],
   "source": [
    "!rm -r temp/"
   ]
  },
  {
   "cell_type": "code",
   "execution_count": null,
   "id": "8439dca7-cec1-4ef6-86b9-75a36edf34b5",
   "metadata": {},
   "outputs": [],
   "source": [
    "!rm ALKIS_KB*"
   ]
  },
  {
   "cell_type": "code",
   "execution_count": null,
   "id": "615c8cf0-50ca-437b-a8ae-af3986daf7aa",
   "metadata": {},
   "outputs": [],
   "source": [
    "!cp /data/uscuni-ulce/buildings_raw/buildings_germany_th.pq /data/uscuni-ulce/buildings_standardised/buildings_germany_th.pq"
   ]
  },
  {
   "cell_type": "markdown",
   "id": "8d1a8f16-4e6f-499e-8808-b33ace50c6d8",
   "metadata": {
    "jp-MarkdownHeadingCollapsed": true
   },
   "source": [
    "### Saxony-Anhalt"
   ]
  },
  {
   "cell_type": "code",
   "execution_count": null,
   "id": "9f150c56-4394-4014-9349-0d89bf0f6a69",
   "metadata": {},
   "outputs": [],
   "source": [
    "!wget https://www.geodatenportal.sachsen-anhalt.de/gfds_webshare/download/LVermGeo/Geodatenportal/externedaten/GBIS_Gebaeude.zip"
   ]
  },
  {
   "cell_type": "code",
   "execution_count": null,
   "id": "65195f20-1b2e-46d7-8f08-c7fda04a6888",
   "metadata": {},
   "outputs": [],
   "source": [
    "!unzip GBIS_Gebaeude.zip"
   ]
  },
  {
   "cell_type": "code",
   "execution_count": null,
   "id": "abe8f441-ae03-4715-8987-a148eaa2bfb0",
   "metadata": {},
   "outputs": [],
   "source": [
    "files = glob(\"GBIS_Gebaeude_*\")"
   ]
  },
  {
   "cell_type": "code",
   "execution_count": null,
   "id": "1642366a-cf06-473b-b49e-79ae2fd830b8",
   "metadata": {},
   "outputs": [],
   "source": [
    "frames = []\n",
    "for f in files:\n",
    "    gdf = gpd.read_file(f)\n",
    "    if gdf.shape[0]:\n",
    "        frames.append(gdf.to_crs(epsg=3035))\n",
    "gdf = pd.concat(frames, ignore_index=True)\n",
    "if \"gml_id\" in gdf.columns:\n",
    "    gdf = gdf[~gdf[\"gml_id\"].duplicated()]"
   ]
  },
  {
   "cell_type": "code",
   "execution_count": null,
   "id": "c7e4c9f8-21ed-4faf-8a3c-fa188171d056",
   "metadata": {},
   "outputs": [],
   "source": [
    "gdf.to_parquet(DATADIR + \"buildings_germany_sachsen-anhalt.pq\")"
   ]
  },
  {
   "cell_type": "code",
   "execution_count": null,
   "id": "c87210a3-5b13-4779-bc87-efe92844f167",
   "metadata": {},
   "outputs": [],
   "source": [
    "!rm GBIS_Gebaeude*"
   ]
  },
  {
   "cell_type": "code",
   "execution_count": null,
   "id": "2d07d771-d1e1-4eb4-95e9-912a2147fb16",
   "metadata": {},
   "outputs": [],
   "source": [
    "!cp /data/uscuni-ulce/buildings_raw/buildings_germany_sachsen-anhalt.pq /data/uscuni-ulce/buildings_standardised/buildings_germany_sachsen-anhalt.pq"
   ]
  },
  {
   "cell_type": "code",
   "execution_count": null,
   "id": "36911c25-92c7-48f7-9ab3-8efeb872f87a",
   "metadata": {},
   "outputs": [],
   "source": [
    "# #sachsen-anhalt\n",
    "# params = {\n",
    "#         \"SERVICE\": \"WFS\",\n",
    "#         \"REQUEST\": \"GetFeature\",\n",
    "#         \"TYPENAMES\": \"bu-core2d:Building\",\n",
    "#         \"SRSNAME\": \"EPSG:25833\",\n",
    "#         \"VERSION\": '2.0.0',\n",
    "#     }\n",
    "# url = 'https://www.geodatenportal.sachsen-anhalt.de/wss/service/INSPIRE_LVermGeo_WFS_ALKIS_BU/guest'\n",
    "# size = get_size(url, params)\n",
    "# print(size)\n"
   ]
  },
  {
   "cell_type": "code",
   "execution_count": null,
   "id": "961c638c-7e3b-4dc2-ad72-9f60d6f36da0",
   "metadata": {},
   "outputs": [],
   "source": [
    "# count = 10_000\n",
    "# process_wfs(\"germany_sachsen-anhalt\", size, url, params, count)"
   ]
  },
  {
   "cell_type": "markdown",
   "id": "b3765cae-f87b-49ca-b244-e5ac9c601e5f",
   "metadata": {
    "jp-MarkdownHeadingCollapsed": true
   },
   "source": [
    "### Schleswig-Holstein"
   ]
  },
  {
   "cell_type": "code",
   "execution_count": null,
   "id": "88950ad1-886e-4103-bd01-97cfdf370371",
   "metadata": {},
   "outputs": [],
   "source": [
    "# ## schlesig hollstein\n",
    "# params = {\n",
    "#         \"SERVICE\": \"WFS\",\n",
    "#         \"REQUEST\": \"GetFeature\",\n",
    "#         \"TYPENAMES\": \"bu-core2d:Building\",\n",
    "#         \"SRSNAME\": \"EPSG:4326\",\n",
    "#         \"VERSION\": '2.0.0',\n",
    "#     }\n",
    "# url = 'https://service.gdi-sh.de/SH_INSPIREDOWNLOAD_AIII_BU?service=WFS&version=2.0.0'\n",
    "\n",
    "# size = get_size(url, params)\n",
    "# print(size)\n",
    "\n",
    "\n",
    "# count = 10_000\n",
    "# process_wfs(\"germany_sh\", url, params, count)"
   ]
  },
  {
   "cell_type": "code",
   "execution_count": null,
   "id": "501038a8-8ddf-433c-a824-a8975a9acf83",
   "metadata": {},
   "outputs": [],
   "source": [
    "!wget https://service.gdi-sh.de/SH_OpenGBD/feeds/Atom_SH_ALKIS_vereinf_OpenGBD/Atom_SH_ALKIS_vereinf_OpenGBD.xml"
   ]
  },
  {
   "cell_type": "code",
   "execution_count": null,
   "id": "e136b441-6b9c-4e2a-8649-d92e401dc2a4",
   "metadata": {},
   "outputs": [],
   "source": [
    "# Load the XML file\n",
    "tree = ET.parse(\"Atom_SH_ALKIS_vereinf_OpenGBD.xml\")\n",
    "root = tree.getroot()\n",
    "\n",
    "\n",
    "# Define the namespaces\n",
    "namespaces = {\n",
    "    \"atom\": \"http://www.w3.org/2005/Atom\",\n",
    "    \"georss\": \"http://www.georss.org/georss\",\n",
    "    \"inspire_dls\": \"http://inspire.ec.europa.eu/schemas/inspire_dls/1.0\",\n",
    "    \"lang\": \"ger\",\n",
    "}\n",
    "\n",
    "# Find all elements with the tag 'entry'\n",
    "entries = root.findall(\"atom:entry\", namespaces)\n",
    "codes = []\n",
    "\n",
    "# Extract and print the 'inspire_dls:spatial_dataset_identifier_code' attribute for each entry\n",
    "for entry in entries:\n",
    "    # Find the 'inspire_dls:spatial_dataset_identifier_code' element within the entry\n",
    "    spatial_code = entry.find(\"inspire_dls:spatial_dataset_identifier_code\", namespaces)\n",
    "    codes.append(spatial_code.text)"
   ]
  },
  {
   "cell_type": "code",
   "execution_count": null,
   "id": "96fcfaa9-6899-4ede-8e84-78d69fadb983",
   "metadata": {
    "scrolled": true
   },
   "outputs": [],
   "source": [
    "for code in codes:\n",
    "    url = f\"https://dienste.gdi-sh.de/WFS_SH_ALKIS_vereinf_OpenGBD?Request=GetFeature&Service=WFS&Version=2.0.0&gemeindeschluessel={code}&StoredQuery_ID=GetGebByGemeinde\"\n",
    "    gdf = gpd.read_file(url, driver=\"GML\")\n",
    "    gdf.to_parquet(DATADIR + f\"buildings_germany_sg_{code}.pq\")"
   ]
  },
  {
   "cell_type": "code",
   "execution_count": null,
   "id": "39645f00-4ac2-4819-ae99-afe282e1c3ab",
   "metadata": {},
   "outputs": [],
   "source": [
    "!rm Atom_SH_ALKIS_vereinf_OpenGBD.xml"
   ]
  },
  {
   "cell_type": "code",
   "execution_count": 91,
   "id": "1b753ba1-89ab-40e5-8580-e703c2741fd5",
   "metadata": {},
   "outputs": [
    {
     "data": {
      "text/plain": [
       "'sg'"
      ]
     },
     "execution_count": 91,
     "metadata": {},
     "output_type": "execute_result"
    }
   ],
   "source": [
    "region = ger_regions[10]\n",
    "region"
   ]
  },
  {
   "cell_type": "code",
   "execution_count": 92,
   "id": "9ea8b7ef-e7a8-4963-987f-2977996087a1",
   "metadata": {},
   "outputs": [],
   "source": [
    "files = glob(f\"{DATADIR}buildings_germany_{region}*\")"
   ]
  },
  {
   "cell_type": "code",
   "execution_count": 95,
   "id": "35b1dbb8-74e6-415e-bada-54839259beac",
   "metadata": {},
   "outputs": [],
   "source": [
    "frames = []\n",
    "for f in files:\n",
    "    gdf = gpd.read_parquet(f)\n",
    "    if gdf.shape[0]:\n",
    "        frames.append(gdf.to_crs(epsg=3035))\n",
    "gdf = pd.concat(frames, ignore_index=True)\n",
    "if \"gml_id\" in gdf.columns:\n",
    "    gdf = gdf[~gdf[\"gml_id\"].duplicated()]\n",
    "if \"oid\" in gdf.columns:\n",
    "    gdf = gdf[~gdf[\"oid\"].duplicated()]"
   ]
  },
  {
   "cell_type": "code",
   "execution_count": null,
   "id": "21335316-9b5c-4975-9c0c-261ca9ff526e",
   "metadata": {},
   "outputs": [],
   "source": [
    "gdf.to_parquet(\"/data/uscuni-ulce/buildings_standardised/buildings_germany_sh.pq\")"
   ]
  },
  {
   "cell_type": "markdown",
   "id": "009a8c9b-d0a4-4892-b35e-58311cf96b55",
   "metadata": {
    "jp-MarkdownHeadingCollapsed": true
   },
   "source": [
    "### Bavaria"
   ]
  },
  {
   "cell_type": "code",
   "execution_count": null,
   "id": "e249bd30-de6b-45b7-af38-b76e18a7abaf",
   "metadata": {},
   "outputs": [],
   "source": [
    "def download_url(url, save_path, chunk_size=256):\n",
    "    r = requests.get(url, stream=True, allow_redirects=True)\n",
    "    print(r.content)\n",
    "    with open(save_path, \"wb\") as fd:\n",
    "        for chunk in r.iter_content(chunk_size=chunk_size):\n",
    "            fd.write(chunk)"
   ]
  },
  {
   "cell_type": "code",
   "execution_count": null,
   "id": "f7767681-0111-46c6-8ca7-4ae43901ab5a",
   "metadata": {},
   "outputs": [],
   "source": [
    "# bavaria - https://geodaten.bayern.de/opengeodata/OpenDataDetail.html?pn=hausumringe\n",
    "\n",
    "links = \"\"\"https://geodaten.bayern.de/odd/m/3/daten/hausumringe/bezirk/data/096_Unterfranken_Hausumringe.zip\n",
    "https://geodaten.bayern.de/odd/m/3/daten/hausumringe/bezirk/data/094_Oberfranken_Hausumringe.zip\n",
    "https://geodaten.bayern.de/odd/m/3/daten/hausumringe/bezirk/data/095_Mittelfranken_Hausumringe.zip\n",
    "https://geodaten.bayern.de/odd/m/3/daten/hausumringe/bezirk/data/093_Oberpfalz_Hausumringe.zip\n",
    "https://geodaten.bayern.de/odd/m/3/daten/hausumringe/bezirk/data/097_Schwaben_Hausumringe.zip\n",
    "https://geodaten.bayern.de/odd/m/3/daten/hausumringe/bezirk/data/091_Oberbayern_Hausumringe.zip\n",
    "https://geodaten.bayern.de/odd/m/3/daten/hausumringe/bezirk/data/092_Niederbayern_Hausumringe.zip\"\"\""
   ]
  },
  {
   "cell_type": "code",
   "execution_count": null,
   "id": "ff073d8c-11b0-4786-a0b5-854a4a5a47e9",
   "metadata": {
    "scrolled": true
   },
   "outputs": [],
   "source": [
    "!wget https://geodaten.bayern.de/odd/m/3/daten/hausumringe/bezirk/data/096_Unterfranken_Hausumringe.zip\n",
    "!wget https://geodaten.bayern.de/odd/m/3/daten/hausumringe/bezirk/data/094_Oberfranken_Hausumringe.zip\n",
    "!wget https://geodaten.bayern.de/odd/m/3/daten/hausumringe/bezirk/data/095_Mittelfranken_Hausumringe.zip\n",
    "!wget https://geodaten.bayern.de/odd/m/3/daten/hausumringe/bezirk/data/093_Oberpfalz_Hausumringe.zip\n",
    "!wget https://geodaten.bayern.de/odd/m/3/daten/hausumringe/bezirk/data/097_Schwaben_Hausumringe.zip\n",
    "!wget https://geodaten.bayern.de/odd/m/3/daten/hausumringe/bezirk/data/091_Oberbayern_Hausumringe.zip\n",
    "!wget https://geodaten.bayern.de/odd/m/3/daten/hausumringe/bezirk/data/092_Niederbayern_Hausumringe.zip"
   ]
  },
  {
   "cell_type": "code",
   "execution_count": null,
   "id": "ab657a89-6f9e-4119-93dc-bb6824e9901c",
   "metadata": {},
   "outputs": [],
   "source": [
    "%%time\n",
    "for i, dl_link in enumerate(links.split(\"\\n\")):\n",
    "    region_name = dl_link.split(\"_\")[-2].lower()\n",
    "    region_file = dl_link.split(\"/\")[-1]\n",
    "    gpd.read_file(region_file).to_parquet(\n",
    "        DATADIR + f\"buildings_germany_bavaria_{region_name}.pq\"\n",
    "    )"
   ]
  },
  {
   "cell_type": "code",
   "execution_count": null,
   "id": "b99b739b-1b3f-47b5-acbe-aeb83387d069",
   "metadata": {},
   "outputs": [],
   "source": [
    "!rm *_Hausumringe.zip"
   ]
  },
  {
   "cell_type": "code",
   "execution_count": 9,
   "id": "2f9ba0c3-e245-4eed-b204-47e1ec9975d4",
   "metadata": {},
   "outputs": [],
   "source": [
    "files = glob(\"data/uscuni-ulce/buildings_raw/buildings_germany_bavaria*\")"
   ]
  },
  {
   "cell_type": "code",
   "execution_count": 13,
   "id": "341f91c3-d831-4e9f-9525-e47e00f5916f",
   "metadata": {},
   "outputs": [],
   "source": [
    "frames = []\n",
    "for f in files:\n",
    "    gdf = gpd.read_parquet(f)\n",
    "    if gdf.shape[0]:\n",
    "        frames.append(gdf.to_crs(epsg=3035))\n",
    "gdf = pd.concat(frames, ignore_index=True)\n",
    "if \"gml_id\" in gdf.columns:\n",
    "    gdf = gdf[~gdf[\"gml_id\"].duplicated()]\n",
    "if \"oid\" in gdf.columns:\n",
    "    gdf = gdf[~gdf[\"oid\"].duplicated()]"
   ]
  },
  {
   "cell_type": "code",
   "execution_count": 16,
   "id": "da87014d-eb7b-4c4e-a2da-8b175692cce7",
   "metadata": {},
   "outputs": [],
   "source": [
    "gdf.to_parquet(\"/data/uscuni-ulce/buildings_standardised/buildings_germany_bavaria.pq\")"
   ]
  },
  {
   "cell_type": "markdown",
   "id": "449ec785-59e7-4751-b15f-e8d6b69404cb",
   "metadata": {
    "jp-MarkdownHeadingCollapsed": true
   },
   "source": [
    "### Berlin"
   ]
  },
  {
   "cell_type": "code",
   "execution_count": 1,
   "id": "eae5082b-d123-4995-8aef-f45507e55de8",
   "metadata": {},
   "outputs": [],
   "source": [
    "## try: https://fbinter.stadt-berlin.de/fb/wfs/data/senstadt/s_wfs_alkis_gebaeudeflaechen?REQUEST=GetCapabilities&SERVICE=wfs"
   ]
  },
  {
   "cell_type": "code",
   "execution_count": 8,
   "id": "b914ff05-7e21-49e7-aac7-ceb83450d782",
   "metadata": {
    "scrolled": true
   },
   "outputs": [
    {
     "name": "stdout",
     "output_type": "stream",
     "text": [
      "unknown\n"
     ]
    }
   ],
   "source": [
    "params = {\n",
    "    \"SERVICE\": \"WFS\",\n",
    "    \"REQUEST\": \"GetFeature\",\n",
    "    \"TYPENAMES\": \"bu2d_alkis:Building\",\n",
    "    \"SRSNAME\": \"EPSG:25832\",\n",
    "    \"VERSION\": \"2.0.0\",\n",
    "}\n",
    "url = (\n",
    "    \"https://fbinter.stadt-berlin.de/fb/wfs/data/senstadt/s_wfs_alkis_gebaeudeflaechen\"\n",
    ")\n",
    "size = get_size(url, params)\n",
    "print(size)"
   ]
  },
  {
   "cell_type": "code",
   "execution_count": null,
   "id": "d26d3210-aebd-4bf9-9074-5d622eb6b3bd",
   "metadata": {
    "scrolled": true
   },
   "outputs": [],
   "source": [
    "count = 1000\n",
    "process_wfs(\"germany_berlin\", size, url, params, count, start=283000)"
   ]
  },
  {
   "cell_type": "code",
   "execution_count": 7,
   "id": "e8ddbac6-1e87-4885-bd0a-e98f66b12ed0",
   "metadata": {},
   "outputs": [
    {
     "data": {
      "text/plain": [
       "'berlin'"
      ]
     },
     "execution_count": 7,
     "metadata": {},
     "output_type": "execute_result"
    }
   ],
   "source": [
    "region = ger_regions[15]\n",
    "region"
   ]
  },
  {
   "cell_type": "code",
   "execution_count": 12,
   "id": "196969fa-22cd-4ff2-993f-db09b4f2fbe4",
   "metadata": {},
   "outputs": [],
   "source": [
    "files = glob(f\"{DATADIR}buildings_germany_{region}*\")"
   ]
  },
  {
   "cell_type": "code",
   "execution_count": 15,
   "id": "eeed6dc4-37a9-4f65-bfd8-9312c9f38234",
   "metadata": {},
   "outputs": [],
   "source": [
    "frames = []\n",
    "for f in files:\n",
    "    gdf = gpd.read_parquet(f)\n",
    "    if gdf.shape[0]:\n",
    "        frames.append(gdf.to_crs(epsg=3035))\n",
    "gdf = pd.concat(frames, ignore_index=True)\n",
    "if \"gml_id\" in gdf.columns:\n",
    "    gdf = gdf[~gdf[\"gml_id\"].duplicated()]\n",
    "if \"oid\" in gdf.columns:\n",
    "    gdf = gdf[~gdf[\"oid\"].duplicated()]"
   ]
  },
  {
   "cell_type": "code",
   "execution_count": 20,
   "id": "d6549b3a-8763-40e0-81c6-a97e1085da5a",
   "metadata": {},
   "outputs": [],
   "source": [
    "gdf.to_parquet(\"/data/uscuni-ulce/buildings_standardised/buildings_germany_berlin.pq\")"
   ]
  },
  {
   "cell_type": "markdown",
   "id": "f773b16a-b6ad-4e4a-afc6-2e8012aa061f",
   "metadata": {
    "jp-MarkdownHeadingCollapsed": true
   },
   "source": [
    "### Hamburg"
   ]
  },
  {
   "cell_type": "code",
   "execution_count": 21,
   "id": "de0475fc-cc78-4481-8836-390f40733597",
   "metadata": {},
   "outputs": [],
   "source": [
    "# params = {\n",
    "#         \"SERVICE\": \"WFS\",\n",
    "#         \"REQUEST\": \"GetFeature\",\n",
    "#         \"TYPENAMES\": \"bu-core2d:Building\",\n",
    "#         # \"SRSNAME\": \"EPSG:4326\",\n",
    "#         \"VERSION\": '2.0.0',\n",
    "#         # \"count\": 10000,\n",
    "#         # \"startIndex\": i\n",
    "#     }\n",
    "# url = 'https://geodienste.hamburg.de/HH_WFS_INSPIRE_Gebaeude_2D_ALKIS'\n",
    "\n",
    "# response = requests.get(url, params=params)\n",
    "\n",
    "# gdf = gpd.read_file(response.content)\n",
    "# gdf"
   ]
  },
  {
   "cell_type": "code",
   "execution_count": 31,
   "id": "b13acde0-7a92-4c61-a733-e3ede5c4d80d",
   "metadata": {},
   "outputs": [],
   "source": [
    "hamburg_url = \"https://daten-hamburg.de/inspire/hh_inspire_gebaeude_2d_alkis/INSPIRE_HH_Gebaeude_2D_ALKIS_2020-07-15.zip\""
   ]
  },
  {
   "cell_type": "code",
   "execution_count": 32,
   "id": "87bfdfd4-2214-4b5d-a67c-c4392784563d",
   "metadata": {},
   "outputs": [
    {
     "name": "stdout",
     "output_type": "stream",
     "text": [
      "--2024-10-19 14:42:02--  https://daten-hamburg.de/inspire/hh_inspire_gebaeude_2d_alkis/INSPIRE_HH_Gebaeude_2D_ALKIS_2020-07-15.zip\n",
      "Resolving daten-hamburg.de (daten-hamburg.de)... 20.52.120.145, 2001:8d8:8ff:3c00::a0:e631\n",
      "Connecting to daten-hamburg.de (daten-hamburg.de)|20.52.120.145|:443... connected.\n",
      "HTTP request sent, awaiting response... 200 OK\n",
      "Length: 116864764 (111M) [application/zip]\n",
      "Saving to: ‘INSPIRE_HH_Gebaeude_2D_ALKIS_2020-07-15.zip’\n",
      "\n",
      "INSPIRE_HH_Gebaeude 100%[===================>] 111,45M  4,22MB/s    in 31s     \n",
      "\n",
      "2024-10-19 14:42:33 (3,65 MB/s) - ‘INSPIRE_HH_Gebaeude_2D_ALKIS_2020-07-15.zip’ saved [116864764/116864764]\n",
      "\n"
     ]
    }
   ],
   "source": [
    "!wget https://daten-hamburg.de/inspire/hh_inspire_gebaeude_2d_alkis/INSPIRE_HH_Gebaeude_2D_ALKIS_2020-07-15.zip"
   ]
  },
  {
   "cell_type": "code",
   "execution_count": 33,
   "id": "f338105d-1bfc-4991-9daa-a24cb2483cb8",
   "metadata": {},
   "outputs": [
    {
     "name": "stdout",
     "output_type": "stream",
     "text": [
      "Archive:  INSPIRE_HH_Gebaeude_2D_ALKIS_2020-07-15.zip\n",
      "  inflating: result.gml              \n",
      "  inflating: wfs_bu_alkis_2020-07-15.xsd  \n"
     ]
    }
   ],
   "source": [
    "!unzip INSPIRE_HH_Gebaeude_2D_ALKIS_2020-07-15.zip"
   ]
  },
  {
   "cell_type": "code",
   "execution_count": 36,
   "id": "074385a5-ff64-4616-ad9c-540075cbba6d",
   "metadata": {},
   "outputs": [],
   "source": [
    "## fix invalid geometry\n",
    "gdf = (\n",
    "    gpd.read_file(\"result.gml\", layer=\"building\").set_crs(epsg=25832).to_crs(epsg=3035)\n",
    ")\n",
    "\n",
    "gdf.to_parquet(\"/data/uscuni-ulce/buildings_standardised/buildings_germany_hamburg.pq\")"
   ]
  },
  {
   "cell_type": "code",
   "execution_count": null,
   "id": "04d37ab9-2770-4987-a712-cfefd8910165",
   "metadata": {},
   "outputs": [],
   "source": [
    "## cleanup\n",
    "!rm result.gml\n",
    "!rm result.gfs\n",
    "!rm wfs_bu_alkis_2020-07-15.xsd\n",
    "!rm INSPIRE_HH_Gebaeude_2D_ALKIS_2020-07-15.zip"
   ]
  },
  {
   "cell_type": "markdown",
   "id": "f1dfc6fe-3aed-4dce-882e-2e17aea1ffb9",
   "metadata": {
    "jp-MarkdownHeadingCollapsed": true
   },
   "source": [
    "### Bremen"
   ]
  },
  {
   "cell_type": "code",
   "execution_count": null,
   "id": "ee917c1c-e18d-421a-88b4-ccad96da1bc2",
   "metadata": {},
   "outputs": [],
   "source": [
    "bremen = \"https://gdi2.geo.bremen.de/inspire/download/ADV-Shape/data/ALKIS_AdV_SHP_2024_04_HB.zip\""
   ]
  },
  {
   "cell_type": "code",
   "execution_count": null,
   "id": "63e1d6bf-c3ab-4ab3-aff0-824316aae98a",
   "metadata": {},
   "outputs": [],
   "source": [
    "!wget https://gdi2.geo.bremen.de/inspire/download/ADV-Shape/data/ALKIS_AdV_SHP_2024_04_HB.zip"
   ]
  },
  {
   "cell_type": "code",
   "execution_count": null,
   "id": "8bedefaf-f216-4374-8fa8-40b753fa1824",
   "metadata": {},
   "outputs": [],
   "source": [
    "!unzip ALKIS_AdV_SHP_2024_04_HB.zip"
   ]
  },
  {
   "cell_type": "code",
   "execution_count": null,
   "id": "1c72742d-4875-4c8d-845b-452af6badcff",
   "metadata": {},
   "outputs": [],
   "source": [
    "gpd.read_file(\"Bremen/GebaeudeBauwerk.shp\").to_parquet(\n",
    "    DATADIR + \"buildings_germany_bremen.pq\"\n",
    ")"
   ]
  },
  {
   "cell_type": "code",
   "execution_count": null,
   "id": "961e3f5f-9bcc-426f-afa0-e0512a75e62c",
   "metadata": {},
   "outputs": [],
   "source": [
    "!rm -r Bremen/"
   ]
  },
  {
   "cell_type": "code",
   "execution_count": null,
   "id": "196ad50a-6b92-4569-8f46-ecf4c639ed9f",
   "metadata": {},
   "outputs": [],
   "source": [
    "!rm -r ALKIS_AdV_SHP_2024_04_HB.zip"
   ]
  },
  {
   "cell_type": "code",
   "execution_count": null,
   "id": "aa57beca-af67-4a7c-bcee-f19228c0b48f",
   "metadata": {},
   "outputs": [],
   "source": [
    "!cp /data/uscuni-ulce/buildings_raw/buildings_germany_bremen.pq /data/uscuni-ulce/buildings_standardised/buildings_germany_bremen.pq"
   ]
  },
  {
   "cell_type": "markdown",
   "id": "5c9c0bbe-b148-4996-8975-b461116eb34d",
   "metadata": {},
   "source": [
    "## Poland"
   ]
  },
  {
   "cell_type": "code",
   "execution_count": null,
   "id": "f26bda13-0a8c-46bc-a01a-1c8a4c3b8704",
   "metadata": {},
   "outputs": [],
   "source": [
    "# https://mapy.geoportal.gov.pl/iMapLite/atomExplorer/"
   ]
  },
  {
   "cell_type": "code",
   "execution_count": null,
   "id": "f2115c30-8f56-41e7-97ab-31e360637153",
   "metadata": {},
   "outputs": [],
   "source": [
    "links = \"\"\"http://mapy.geoportal.gov.pl/wss/service/ATOM/httpauth/download/?fileId=34ad9f34a0b7dc8205a933bb058e91c1&name=podkarpackie_bu.zip\n",
    "http://mapy.geoportal.gov.pl/wss/service/ATOM/httpauth/download/?fileId=78896afe993bcb34365fe7b8a7f9966f&name=pomorskie_bu.zip\n",
    "http://mapy.geoportal.gov.pl/wss/service/ATOM/httpauth/download/?fileId=be4bfa1478a6eeedd67faffea96eafda&name=opolskie_bu.zip\n",
    "http://mapy.geoportal.gov.pl/wss/service/ATOM/httpauth/download/?fileId=c7881c0de4e3d86548ba0e97c50b490a&name=lodzkie_bu.zip\n",
    "http://mapy.geoportal.gov.pl/wss/service/ATOM/httpauth/download/?fileId=79dcc64d4c0c4e8873365f04c55a4940&name=lubuskie_bu.zip\n",
    "http://mapy.geoportal.gov.pl/wss/service/ATOM/httpauth/download/?fileId=ac47d220ce942cc3668f703fe4bd7a60&name=mazowieckie_bu.zip\n",
    "http://mapy.geoportal.gov.pl/wss/service/ATOM/httpauth/download/?fileId=9e87962dd94adddb2838f6321778f04a&name=kujawskopomorskie_bu.zip\n",
    "http://mapy.geoportal.gov.pl/wss/service/ATOM/httpauth/download/?fileId=8818a617772a6c9dad222dd52acecc29&name=slaskie_bu.zip\n",
    "http://mapy.geoportal.gov.pl/wss/service/ATOM/httpauth/download/?fileId=4b636d1174ceff606fb1c9c95c145915&name=dolnoslaskie_bu.zip\n",
    "http://mapy.geoportal.gov.pl/wss/service/ATOM/httpauth/download/?fileId=99c8bdcfc3173a3a7c2d18bf675f4315&name=malopolskie_bu.zip\n",
    "http://mapy.geoportal.gov.pl/wss/service/ATOM/httpauth/download/?fileId=cb81449840b96ff21fba1a42e094c074&name=lubelskie_bu.zip\n",
    "http://mapy.geoportal.gov.pl/wss/service/ATOM/httpauth/download/?fileId=9bb1518bbf0d8e22ec338c80dcc83f61&name=zachodniopomorskie_bu.zip\n",
    "http://mapy.geoportal.gov.pl/wss/service/ATOM/httpauth/download/?fileId=0217fcdf1da066af11a62067530786a9&name=warminskomazurskie_bu.zip\n",
    "http://mapy.geoportal.gov.pl/wss/service/ATOM/httpauth/download/?fileId=67eb749e1ae54cb7aa9a8aa1d90d8dd7&name=wielkopolskie_bu.zip\n",
    "http://mapy.geoportal.gov.pl/wss/service/ATOM/httpauth/download/?fileId=fc9fe6a16296acf6a4072a08f5be1342&name=podlaskie_bu.zip\n",
    "http://mapy.geoportal.gov.pl/wss/service/ATOM/httpauth/download/?fileId=e968c6db383a80a34b702866ede92cb1&name=swietorzyskie_bu.zip\"\"\""
   ]
  },
  {
   "cell_type": "code",
   "execution_count": null,
   "id": "8b6db766-08a1-4ca6-85f2-ecbc77cf46bc",
   "metadata": {},
   "outputs": [],
   "source": [
    "# !wget http://mapy.geoportal.gov.pl/wss/service/ATOM/httpauth/download/?fileId=34ad9f34a0b7dc8205a933bb058e91c1&name=podkarpackie_bu.zip\n",
    "\n",
    "# !wget http://mapy.geoportal.gov.pl/wss/service/ATOM/httpauth/download/?fileId=78896afe993bcb34365fe7b8a7f9966f&name=pomorskie_bu.zip\n",
    "\n",
    "# !wget http://mapy.geoportal.gov.pl/wss/service/ATOM/httpauth/download/?fileId=be4bfa1478a6eeedd67faffea96eafda&name=opolskie_bu.zip\n",
    "\n",
    "# !wget http://mapy.geoportal.gov.pl/wss/service/ATOM/httpauth/download/?fileId=c7881c0de4e3d86548ba0e97c50b490a&name=lodzkie_bu.zip\n",
    "\n",
    "# !wget http://mapy.geoportal.gov.pl/wss/service/ATOM/httpauth/download/?fileId=79dcc64d4c0c4e8873365f04c55a4940&name=lubuskie_bu.zip\n",
    "\n",
    "# !wget http://mapy.geoportal.gov.pl/wss/service/ATOM/httpauth/download/?fileId=ac47d220ce942cc3668f703fe4bd7a60&name=mazowieckie_bu.zip\n",
    "\n",
    "# !wget http://mapy.geoportal.gov.pl/wss/service/ATOM/httpauth/download/?fileId=9e87962dd94adddb2838f6321778f04a&name=kujawskopomorskie_bu.zip\n",
    "\n",
    "# !wget http://mapy.geoportal.gov.pl/wss/service/ATOM/httpauth/download/?fileId=8818a617772a6c9dad222dd52acecc29&name=slaskie_bu.zip\n",
    "\n",
    "# !wget http://mapy.geoportal.gov.pl/wss/service/ATOM/httpauth/download/?fileId=4b636d1174ceff606fb1c9c95c145915&name=dolnoslaskie_bu.zip\n",
    "\n",
    "# !wget http://mapy.geoportal.gov.pl/wss/service/ATOM/httpauth/download/?fileId=99c8bdcfc3173a3a7c2d18bf675f4315&name=malopolskie_bu.zip\n",
    "\n",
    "# !wget http://mapy.geoportal.gov.pl/wss/service/ATOM/httpauth/download/?fileId=cb81449840b96ff21fba1a42e094c074&name=lubelskie_bu.zip\n",
    "\n",
    "# !wget http://mapy.geoportal.gov.pl/wss/service/ATOM/httpauth/download/?fileId=9bb1518bbf0d8e22ec338c80dcc83f61&name=zachodniopomorskie_bu.zip\n",
    "\n",
    "# !wget http://mapy.geoportal.gov.pl/wss/service/ATOM/httpauth/download/?fileId=0217fcdf1da066af11a62067530786a9&name=warminskomazurskie_bu.zip\n",
    "\n",
    "# !wget http://mapy.geoportal.gov.pl/wss/service/ATOM/httpauth/download/?fileId=67eb749e1ae54cb7aa9a8aa1d90d8dd7&name=wielkopolskie_bu.zip\n",
    "\n",
    "# !wget http://mapy.geoportal.gov.pl/wss/service/ATOM/httpauth/download/?fileId=fc9fe6a16296acf6a4072a08f5be1342&name=podlaskie_bu.zip\n",
    "\n",
    "# !wget http://mapy.geoportal.gov.pl/wss/service/ATOM/httpauth/download/?fileId=e968c6db383a80a34b702866ede92cb1&name=swietorzyskie_bu.zip"
   ]
  },
  {
   "cell_type": "code",
   "execution_count": null,
   "id": "e0ceaa4c-3164-4cf6-8b39-2208f3b205a0",
   "metadata": {},
   "outputs": [],
   "source": [
    "links = links.split(\"\\n\")"
   ]
  },
  {
   "cell_type": "code",
   "execution_count": null,
   "id": "de990edb-d38d-46fb-ad5f-83d92e810d3a",
   "metadata": {
    "scrolled": true
   },
   "outputs": [],
   "source": [
    "for i, dl_link in enumerate(links):\n",
    "    dl_name = dl_link.split(\"=\")[-1]\n",
    "    download_url(dl_link, dl_name)\n",
    "    print(dl_name)"
   ]
  },
  {
   "cell_type": "code",
   "execution_count": null,
   "id": "54d0eeb3-06c8-4afe-92b4-561fd20aca15",
   "metadata": {
    "scrolled": true
   },
   "outputs": [],
   "source": [
    "for i, dl_link in enumerate(links[5:]):\n",
    "    dl_name = dl_link.split(\"=\")[-1]\n",
    "    if dl_name == \"mazowieckie_bu.zip\":\n",
    "        continue\n",
    "    gdf = gpd.read_file(dl_name)\n",
    "    gdf.to_parquet(DATADIR + f\"buildings_poland_{dl_name[:-4]}.pq\")"
   ]
  },
  {
   "cell_type": "code",
   "execution_count": null,
   "id": "a5550e1e-f3c7-4938-8720-ff43030dea8d",
   "metadata": {},
   "outputs": [],
   "source": [
    "!unzip mazowieckie_bu.zip"
   ]
  },
  {
   "cell_type": "code",
   "execution_count": null,
   "id": "400e1ea5-3767-47af-af80-a26b5ae94cf3",
   "metadata": {},
   "outputs": [],
   "source": [
    "gdf = gpd.read_file(\"mazowieckie_bu1.gml\")\n",
    "gdf.to_parquet(DATADIR + \"buildings_poland_mazowieckie_bu1.pq\")\n",
    "\n",
    "gdf = gpd.read_file(\"mazowieckie_bu2.gml\")\n",
    "gdf.to_parquet(DATADIR + \"buildings_poland_mazowieckie_bu2.pq\")"
   ]
  },
  {
   "cell_type": "code",
   "execution_count": null,
   "id": "baf4af46-1c46-4233-9418-92ae19c8479d",
   "metadata": {},
   "outputs": [],
   "source": [
    "!rm mazowieckie_bu1.gml\n",
    "!rm mazowieckie_bu2.gml"
   ]
  },
  {
   "cell_type": "code",
   "execution_count": null,
   "id": "0188896e-5ab2-4cbb-a1b1-03ac407fe6a7",
   "metadata": {},
   "outputs": [],
   "source": [
    "files = glob(\"/data/uscuni-ulce/buildings_raw/buildings_poland*\")\n",
    "frames = []\n",
    "for f in files:\n",
    "    gdf = gpd.read_parquet(f)\n",
    "    print(f)\n",
    "\n",
    "    # swap lon lat\n",
    "    coords = shapely.get_coordinates(gdf.geometry)\n",
    "    coords = coords[:, [1, 0]]\n",
    "    sizes = shapely.get_num_coordinates(gdf.geometry).values\n",
    "    polygon_id = np.repeat(np.arange(gdf.shape[0]), sizes)\n",
    "    new_geom = (\n",
    "        pd.DataFrame(coords)\n",
    "        .groupby(polygon_id)\n",
    "        .apply(lambda x: shapely.Polygon(x.values))\n",
    "    )\n",
    "    gdf[\"geometry\"] = new_geom\n",
    "\n",
    "    frames.append(gdf.to_crs(epsg=3035))\n",
    "\n",
    "polish_gdf = pd.concat(frames, ignore_index=True)"
   ]
  },
  {
   "cell_type": "code",
   "execution_count": null,
   "id": "73fdf0c6-f982-4cc9-8eba-7c05eb102eff",
   "metadata": {},
   "outputs": [],
   "source": [
    "polish_gdf.to_parquet(\"/data/uscuni-ulce/buildings_standardised/buildings_poland.pq\")"
   ]
  },
  {
   "cell_type": "markdown",
   "id": "2210655a-85c3-411b-bfee-8a6696d0092b",
   "metadata": {
    "jp-MarkdownHeadingCollapsed": true
   },
   "source": [
    "## Czechia"
   ]
  },
  {
   "cell_type": "code",
   "execution_count": null,
   "id": "09253950-55bf-4719-ad60-661d077d3bc2",
   "metadata": {},
   "outputs": [],
   "source": [
    "url_adm = \"https://services.cuzk.cz/gml/inspire/au/epsg-4258/1.zip\"\n",
    "units = pyogrio.read_dataframe(url_adm, layer=\"AdministrativeUnit\")\n",
    "obce = units[units.LocalisedCharacterString == \"Obec\"]"
   ]
  },
  {
   "cell_type": "code",
   "execution_count": null,
   "id": "93fe6d39-1196-49a0-8c60-e4e8bc0aee4b",
   "metadata": {},
   "outputs": [],
   "source": [
    "def process_czech_unit(code):\n",
    "    url_building = f\"https://services.cuzk.cz/gml/inspire/bu/epsg-4258/{code}.zip\"\n",
    "    r = httpx.get(url_building, verify=False)\n",
    "\n",
    "    gdf = gpd.read_file(BytesIO(r.content), layer=\"Building\")\n",
    "\n",
    "    gdf.to_parquet(DATADIR + f\"buildings_czechia_{code}.pq\")"
   ]
  },
  {
   "cell_type": "code",
   "execution_count": null,
   "id": "f474d9be-37bf-4f33-9f73-6b2f2ad1a362",
   "metadata": {
    "scrolled": true
   },
   "outputs": [],
   "source": [
    "with warnings.catch_warnings():\n",
    "    warnings.simplefilter(\"ignore\")\n",
    "\n",
    "    for code in obce[\"nationalCode\"]:\n",
    "        try:\n",
    "            process_czech_unit(code)\n",
    "        except:\n",
    "            time.sleep(5)\n",
    "            process_czech_unit(code)"
   ]
  },
  {
   "cell_type": "code",
   "execution_count": null,
   "id": "9669fe20-ffa8-4a6e-8874-7262505c926a",
   "metadata": {},
   "outputs": [],
   "source": [
    "files = glob(\"/data/uscuni-ulce/buildings_raw/buildings_czechia*\")\n",
    "frames = []\n",
    "for f in files:\n",
    "    gdf = gpd.read_parquet(f)\n",
    "    if gdf.shape[0]:\n",
    "        frames.append(gdf.to_crs(epsg=3035))\n",
    "gdf = pd.concat(frames, ignore_index=True)"
   ]
  },
  {
   "cell_type": "code",
   "execution_count": null,
   "id": "48459c6c-0abe-4e98-acfe-21c170e90def",
   "metadata": {},
   "outputs": [],
   "source": [
    "gdf.to_parquet(\"/data/uscuni-ulce/buildings_standardised/buildings_czechia.pq\")"
   ]
  },
  {
   "cell_type": "markdown",
   "id": "84839633-e8e9-469c-931c-ccf59e687c2c",
   "metadata": {
    "jp-MarkdownHeadingCollapsed": true
   },
   "source": [
    "## Slovakia"
   ]
  },
  {
   "cell_type": "code",
   "execution_count": null,
   "id": "e7c354ff-94e6-4044-ade0-35079d36cec2",
   "metadata": {},
   "outputs": [],
   "source": [
    "!wget https://opendata.skgeodesy.sk/static/INSPIRE/Buildings/inspire_bu_gpkg.zip --no-check-certificate"
   ]
  },
  {
   "cell_type": "code",
   "execution_count": null,
   "id": "ae85344b-17be-46b2-85b7-3176470e5cf6",
   "metadata": {},
   "outputs": [],
   "source": [
    "gdf = gpd.read_file(\"zip://inspire_bu_gpkg.zip!INSPIRE_BU.gpkg\")"
   ]
  },
  {
   "cell_type": "code",
   "execution_count": null,
   "id": "948184c1-a079-4a9b-bd34-6b2654539fe2",
   "metadata": {},
   "outputs": [],
   "source": [
    "gdf.to_parquet(\"/data/uscuni-ulce/buildings_standardised/buildings_slovakia.pq\")"
   ]
  },
  {
   "cell_type": "code",
   "execution_count": null,
   "id": "a8d4e82b-af33-4c39-a0ba-04fb64899231",
   "metadata": {},
   "outputs": [],
   "source": [
    "!rm inspire_bu_gpkg.zip"
   ]
  },
  {
   "cell_type": "markdown",
   "id": "db338a95-4dc7-474c-be8f-edc6497d9321",
   "metadata": {},
   "source": [
    "## Austria"
   ]
  },
  {
   "cell_type": "code",
   "execution_count": null,
   "id": "225ea92e-6d51-4cd1-8fa3-6d020d5467f3",
   "metadata": {},
   "outputs": [],
   "source": [
    "austria = (\n",
    "    \"https://data.bev.gv.at/download/DLM/DLM_20230125/DLM_8000_BAUWERK_20230125.gpkg\"\n",
    ")"
   ]
  },
  {
   "cell_type": "code",
   "execution_count": null,
   "id": "dc18e92d-b4ef-4f02-abe8-d1067c5436c1",
   "metadata": {},
   "outputs": [],
   "source": [
    "%%time\n",
    "download_url(austria, \"../data/DLM_8000_BAUWERK_20230125.gpkg\")"
   ]
  },
  {
   "cell_type": "code",
   "execution_count": null,
   "id": "d187ef3c-53d3-4b61-8180-8733c0c922cf",
   "metadata": {},
   "outputs": [],
   "source": [
    "gpd.list_layers(\"../data/DLM_8000_BAUWERK_20230125.gpkg\")"
   ]
  },
  {
   "cell_type": "code",
   "execution_count": null,
   "id": "88854935-1b14-43e9-92a3-bb8a98e9c8b4",
   "metadata": {},
   "outputs": [],
   "source": [
    "pyogrio.read_info(\"../data/DLM_8000_BAUWERK_20230125.gpkg\", layer=\"BWK_8100_BAUWERK_F\")"
   ]
  },
  {
   "cell_type": "code",
   "execution_count": null,
   "id": "7762594e-9fc4-45ca-80ce-4979717c3cf9",
   "metadata": {},
   "outputs": [],
   "source": [
    "gpd.read_file(\n",
    "    \"../data/DLM_8000_BAUWERK_20230125.gpkg\", layer=\"BWK_8100_BAUWERK_F\"\n",
    ").to_parquet(\"/data/uscuni-ulce/buildings_standardised/buildings_austria.pq\")"
   ]
  },
  {
   "cell_type": "code",
   "execution_count": null,
   "id": "6591b0ea-2b29-43b7-b99c-033798eabaad",
   "metadata": {},
   "outputs": [],
   "source": [
    "!rm ../data/DLM_8000_BAUWERK_20230125.gpkg"
   ]
  }
 ],
 "metadata": {
  "kernelspec": {
   "display_name": "Python 3 (ipykernel)",
   "language": "python",
   "name": "python3"
  },
  "language_info": {
   "codemirror_mode": {
    "name": "ipython",
    "version": 3
   },
   "file_extension": ".py",
   "mimetype": "text/x-python",
   "name": "python",
   "nbconvert_exporter": "python",
   "pygments_lexer": "ipython3",
   "version": "3.12.10"
  }
 },
 "nbformat": 4,
 "nbformat_minor": 5
}
