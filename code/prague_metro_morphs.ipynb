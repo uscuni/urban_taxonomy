{
 "cells": [
  {
   "cell_type": "code",
   "execution_count": 1,
   "id": "daccca45-fc07-44ce-b3e2-f214f7f592cc",
   "metadata": {},
   "outputs": [],
   "source": [
    "import geopandas as gpd\n",
    "import numpy as np\n",
    "import pandas as pd"
   ]
  },
  {
   "cell_type": "code",
   "execution_count": 2,
   "id": "bab9b1b7-342d-4c10-9acc-b92b5bc161ad",
   "metadata": {},
   "outputs": [],
   "source": [
    "regions = gpd.read_parquet('/data/uscuni-ulce/regions/cadastre_regions_hull.parquet')\n"
   ]
  },
  {
   "cell_type": "code",
   "execution_count": 8,
   "id": "2ef0ce29-2d5a-49f7-bcf3-cace6e8b05f5",
   "metadata": {},
   "outputs": [
    {
     "name": "stdout",
     "output_type": "stream",
     "text": [
      "Archive:  PMO ITI.zip\n",
      " extracting: PMO ITI/praзskа metropolitnб oblast.cpg  \n",
      "  inflating: PMO ITI/praзskа metropolitnб oblast.dbf  \n",
      "  inflating: PMO ITI/praзskа metropolitnб oblast.prj  \n",
      "  inflating: PMO ITI/praзskа metropolitnб oblast.sbn  \n",
      "  inflating: PMO ITI/praзskа metropolitnб oblast.sbx  \n",
      "  inflating: PMO ITI/praзskа metropolitnб oblast.shp  \n",
      "  inflating: PMO ITI/praзskа metropolitnб oblast.shp.xml  \n",
      "  inflating: PMO ITI/praзskа metropolitnб oblast.shx  \n"
     ]
    }
   ],
   "source": [
    "!unzip PMO\\ ITI.zip"
   ]
  },
  {
   "cell_type": "code",
   "execution_count": 62,
   "id": "5486a288-3345-4c41-896a-e7bcc99958ef",
   "metadata": {},
   "outputs": [],
   "source": [
    "bounds = gpd.read_file('PMO ITI/').to_crs(epsg=3035)\n",
    "bounds = bounds.union_all().exterior\n",
    "bounds = Polygon(bounds.coords)"
   ]
  },
  {
   "cell_type": "code",
   "execution_count": null,
   "id": "018c10c0-8704-4398-a32d-514d00224da8",
   "metadata": {},
   "outputs": [],
   "source": []
  },
  {
   "cell_type": "code",
   "execution_count": 86,
   "id": "776d2a21-0fd6-443a-aaac-52fe18c02f09",
   "metadata": {},
   "outputs": [
    {
     "name": "stdout",
     "output_type": "stream",
     "text": [
      "CPU times: user 3.08 s, sys: 945 ms, total: 4.03 s\n",
      "Wall time: 1.83 s\n"
     ]
    }
   ],
   "source": [
    "%%time\n",
    "\n",
    "bounds_etcs = []\n",
    "\n",
    "for rid in bounds_regions:\n",
    "\n",
    "    region_buildings = gpd.read_parquet(f'/data/uscuni-ulce/processed_data/chars/buildings_chars_{rid}.parquet')\n",
    "    region_buildings_within_bounds = region_buildings.index[region_buildings.sindex.query(bounds, predicate='intersects')].values\n",
    "    \n",
    "    region_chars = pd.read_parquet(f'/data/uscuni-ulce/processed_data/chars/primary_chars_{rid}.parquet')\n",
    "    region_chars = region_chars.loc[region_buildings_within_bounds]\n",
    "\n",
    "    to_save = gpd.GeoDataFrame(region_chars, \n",
    "                 geometry=region_buildings.loc[region_buildings_within_bounds].geometry,\n",
    "                 crs=region_buildings.crs)\n",
    "\n",
    "    to_save.index = str(rid) + '_' + to_save.index.astype(str)\n",
    "    \n",
    "    bounds_etcs.append(to_save)"
   ]
  },
  {
   "cell_type": "code",
   "execution_count": 88,
   "id": "8f220dbd-74eb-4c8d-825a-aa275c3d3f0b",
   "metadata": {},
   "outputs": [],
   "source": [
    "all_buildings = pd.concat(bounds_etcs)"
   ]
  },
  {
   "cell_type": "code",
   "execution_count": null,
   "id": "9a35be70-556a-4683-86d3-54e0093de5ab",
   "metadata": {},
   "outputs": [],
   "source": []
  },
  {
   "cell_type": "code",
   "execution_count": 93,
   "id": "6356bc04-2975-44d6-96b1-dd3afdf07bd8",
   "metadata": {},
   "outputs": [],
   "source": [
    "all_buildings.to_parquet('/data/uscuni-ulce/processed_data/outputs/prague/pmo_chars.pq')"
   ]
  },
  {
   "cell_type": "code",
   "execution_count": null,
   "id": "c172a688-319e-4928-b82c-2627b3c17ec4",
   "metadata": {},
   "outputs": [],
   "source": []
  },
  {
   "cell_type": "code",
   "execution_count": null,
   "id": "4f02fa3d-22ef-4806-9b07-3fd9a045809b",
   "metadata": {},
   "outputs": [],
   "source": []
  },
  {
   "cell_type": "code",
   "execution_count": null,
   "id": "9dbdf879-cac8-44b4-90ac-4b03aa781093",
   "metadata": {},
   "outputs": [],
   "source": []
  }
 ],
 "metadata": {
  "kernelspec": {
   "display_name": "Python 3 (ipykernel)",
   "language": "python",
   "name": "python3"
  },
  "language_info": {
   "codemirror_mode": {
    "name": "ipython",
    "version": 3
   },
   "file_extension": ".py",
   "mimetype": "text/x-python",
   "name": "python",
   "nbconvert_exporter": "python",
   "pygments_lexer": "ipython3",
   "version": "3.12.5"
  }
 },
 "nbformat": 4,
 "nbformat_minor": 5
}
