{
 "cells": [
  {
   "cell_type": "code",
   "execution_count": 5,
   "id": "ac8aa1f6",
   "metadata": {},
   "outputs": [
    {
     "name": "stdout",
     "output_type": "stream",
     "text": [
      "                             geometry              x             y\n",
      "16059  POINT (386796.604 5705705.876)  386796.604448  5.705706e+06\n",
      "21728  POINT (398200.173 5708923.093)  398200.173185  5.708923e+06\n",
      "37837  POINT (398200.173 5708923.093)  398200.173185  5.708923e+06\n",
      "48632  POINT (386796.604 5705705.876)  386796.604448  5.705706e+06\n",
      "Number of duplicate coordinates: 2\n"
     ]
    }
   ],
   "source": [
    "import geopandas as gpd\n",
    "\n",
    "# Load your Dortmund buildings file\n",
    "buildings = gpd.read_parquet(\"D:/Work/Github_Morphotopes/data/processed_buildings/buildings_0.parquet\")\n",
    "\n",
    "# Get representative points\n",
    "rep_points = buildings.representative_point()\n",
    "\n",
    "# Turn into DataFrame for easier duplicate detection\n",
    "df = gpd.GeoDataFrame(geometry=rep_points)\n",
    "df[\"x\"] = df.geometry.x\n",
    "df[\"y\"] = df.geometry.y\n",
    "\n",
    "# Find duplicates\n",
    "dupes = df[df.duplicated(subset=[\"x\", \"y\"], keep=False)]\n",
    "\n",
    "# Show the duplicates and their indexes (which match building IDs)\n",
    "print(dupes)\n",
    "print(\"Number of duplicate coordinates:\", dupes.shape[0] // 2)  # divide by 2 for pairs"
   ]
  },
  {
   "cell_type": "code",
   "execution_count": 6,
   "id": "d982227b",
   "metadata": {},
   "outputs": [],
   "source": [
    "rp = buildings.representative_point()\n",
    "buildings[\"x\"] = rp.x\n",
    "buildings[\"y\"] = rp.y\n",
    "\n",
    "buildings = buildings.reset_index().rename(columns={\"index\": \"bldg_id\"})\n",
    "\n",
    "buildings.to_file(\"D:/Work/Github_Morphotopes/data/processed_buildings/buildings_0.gpkg\", layer=\"buildings_0\", driver=\"GPKG\")"
   ]
  },
  {
   "cell_type": "code",
   "execution_count": 7,
   "id": "01b59c83",
   "metadata": {},
   "outputs": [
    {
     "data": {
      "text/plain": [
       "<bound method NDFrame.head of         bldg_id                  OBJ_NAME OBJ_ID  OBJ_FOLIE  OBJ_OSKA  \\\n",
       "0             0  05913000727760010    001    ---         11         0   \n",
       "1             1  05913000725420019   c001    ---         11         0   \n",
       "2             2  05913000718320104    003    ---         11         0   \n",
       "3             3  05913000734080011    001    ---         11         0   \n",
       "4             4  05913000702410003    004    ---         11         0   \n",
       "...         ...                       ...    ...        ...       ...   \n",
       "203719   203719  05913000721760364   d001    ---         11         0   \n",
       "203720   203720  05913000712410124    008    ---         11         0   \n",
       "203721   203721  05913000707110003    005    ---         11         0   \n",
       "203722   203722  05913000718880159    004    ---         11         0   \n",
       "203723   203723  05913000718290038    001    ---         11         0   \n",
       "\n",
       "       ELGEO_ID  SCHLUESSEL                   NAME              UUID  \\\n",
       "0           ---       72776           SCHÜTTERSORT  DENW02AL1000MA6n   \n",
       "1           ---       72542           RESINGSTRAßE  DENW02AL10001IxR   \n",
       "2           ---       71832         KÖRNER HELLWEG  DENW02AL1000AGeH   \n",
       "3           ---       73408            WORMSSTRAßE  DENW02AL1000AHOZ   \n",
       "4           ---       70241         AM STUCKENRODT  DENW02AL1000QgaL   \n",
       "...         ...         ...                    ...               ...   \n",
       "203719      ---       72176  MENGLINGHAUSER STRAßE  DENW02AL1000HlBz   \n",
       "203720      ---       71241  GROßHOLTHAUSER STRAßE  DENW02AL1000HlCw   \n",
       "203721      ---       70711             BUNTE BANK  DENW02AL1000HlDD   \n",
       "203722      ---       71888       KRUCKELER STRAßE  DENW02AL1000HlDI   \n",
       "203723      ---       71829                KÖRFKEN  DENW02AL1000HlDl   \n",
       "\n",
       "                                                  MI_UUID  ...    LAG HNR_PNR  \\\n",
       "0        68-69-78-87-48-50-65-76-49-48-48-48-77-65-54-110  ...  72776      10   \n",
       "1        68-69-78-87-48-50-65-76-49-48-48-48-49-73-120-82  ...  72542    19 c   \n",
       "2        68-69-78-87-48-50-65-76-49-48-48-48-65-71-101-72  ...  71832     104   \n",
       "3         68-69-78-87-48-50-65-76-49-48-48-48-65-72-79-90  ...  73408      11   \n",
       "4        68-69-78-87-48-50-65-76-49-48-48-48-81-103-97-76  ...  70241       3   \n",
       "...                                                   ...  ...    ...     ...   \n",
       "203719  68-69-78-87-48-50-65-76-49-48-48-48-72-108-66-122  ...  72176   364 d   \n",
       "203720  68-69-78-87-48-50-65-76-49-48-48-48-72-108-67-119  ...  71241     124   \n",
       "203721   68-69-78-87-48-50-65-76-49-48-48-48-72-108-68-68  ...  70711       3   \n",
       "203722   68-69-78-87-48-50-65-76-49-48-48-48-72-108-68-73  ...  71888     159   \n",
       "203723  68-69-78-87-48-50-65-76-49-48-48-48-72-108-68-108  ...  71829      38   \n",
       "\n",
       "         LNR   DPL                          DPL_TEXT OFL_GFK  \\\n",
       "0       None  1000  Aus Katastervermessung ermittelt    1010   \n",
       "1       None  1000  Aus Katastervermessung ermittelt    1010   \n",
       "2          2  1000  Aus Katastervermessung ermittelt    2100   \n",
       "3       None  1000  Aus Katastervermessung ermittelt    1100   \n",
       "4          3  1000  Aus Katastervermessung ermittelt    1010   \n",
       "...      ...   ...                               ...     ...   \n",
       "203719  None  1000  Aus Katastervermessung ermittelt    1010   \n",
       "203720     7  1000  Aus Katastervermessung ermittelt    2700   \n",
       "203721     4  1000  Aus Katastervermessung ermittelt    2100   \n",
       "203722     3  1000  Aus Katastervermessung ermittelt    1010   \n",
       "203723  None  1000  Aus Katastervermessung ermittelt    1010   \n",
       "\n",
       "                                                 geometry     iid  \\\n",
       "0       MULTIPOLYGON (((402310.204 5713071.278, 402298...       0   \n",
       "1       MULTIPOLYGON (((398879.39 5704844.41, 398880.1...       1   \n",
       "2       MULTIPOLYGON (((396523.933 5708363.191, 396527...       2   \n",
       "3       MULTIPOLYGON (((396529.794 5708428.669, 396536...       3   \n",
       "4       MULTIPOLYGON (((398526.219 5712110.262, 398527...       4   \n",
       "...                                                   ...     ...   \n",
       "203719  MULTIPOLYGON (((389392.024 5701916.814, 389387...  203719   \n",
       "203720  MULTIPOLYGON (((390917.845 5702072.72, 390918....  203720   \n",
       "203721  MULTIPOLYGON (((389731.546 5701869.623, 389725...  203721   \n",
       "203722  MULTIPOLYGON (((390649.926 5701505.743, 390648...  203722   \n",
       "203723  MULTIPOLYGON (((389545.917 5701875.829, 389540...  203723   \n",
       "\n",
       "                    x             y  \n",
       "0       402303.449635  5.713073e+06  \n",
       "1       398883.184457  5.704853e+06  \n",
       "2       396522.588943  5.708358e+06  \n",
       "3       396527.297828  5.708419e+06  \n",
       "4       398526.829749  5.712109e+06  \n",
       "...               ...           ...  \n",
       "203719  389390.905556  5.701921e+06  \n",
       "203720  390938.756080  5.702088e+06  \n",
       "203721  389742.235939  5.701876e+06  \n",
       "203722  390650.816031  5.701508e+06  \n",
       "203723  389542.865479  5.701880e+06  \n",
       "\n",
       "[203724 rows x 34 columns]>"
      ]
     },
     "execution_count": 7,
     "metadata": {},
     "output_type": "execute_result"
    }
   ],
   "source": [
    "buildings.head"
   ]
  },
  {
   "cell_type": "code",
   "execution_count": 11,
   "id": "fb1b5377",
   "metadata": {},
   "outputs": [
    {
     "name": "stdout",
     "output_type": "stream",
     "text": [
      "                   x             y\n",
      "16059  386796.604448  5.705706e+06\n",
      "48632  386796.604448  5.705706e+06\n",
      "21728  398200.173185  5.708923e+06\n",
      "37837  398200.173185  5.708923e+06\n",
      "                   x             y\n",
      "16059  386803.609337  5.705701e+06\n",
      "48632  386803.824746  5.705702e+06\n",
      "21728  398200.221097  5.708923e+06\n",
      "37837  398199.546949  5.708922e+06\n"
     ]
    }
   ],
   "source": [
    "import geopandas as gpd\n",
    "import pandas as pd\n",
    "region_mapping = pd.read_parquet(\"D:/Work/Github_Morphotopes/data/cadastre_id_to_region.parquet\")\n",
    "b = gpd.read_parquet(\"D:/Work/Github_Morphotopes/data/processed_buildings/buildings_0.parquet\")\n",
    "rp = b.representative_point()\n",
    "rp_xy = pd.DataFrame({\"x\": rp.x, \"y\": rp.y}, index=b.index)\n",
    "\n",
    "# 1) Which buildings share the same representative point?\n",
    "dupe_rp = rp_xy[rp_xy.duplicated([\"x\",\"y\"], keep=False)].sort_values([\"x\",\"y\"])\n",
    "print(dupe_rp.head())\n",
    "\n",
    "# 2) Compare with region_mapping coords for those same IDs\n",
    "ids = dupe_rp.index.unique()\n",
    "print(region_mapping.loc[ids, [\"x\",\"y\"]].head())"
   ]
  }
 ],
 "metadata": {
  "kernelspec": {
   "display_name": "default",
   "language": "python",
   "name": "python3"
  },
  "language_info": {
   "codemirror_mode": {
    "name": "ipython",
    "version": 3
   },
   "file_extension": ".py",
   "mimetype": "text/x-python",
   "name": "python",
   "nbconvert_exporter": "python",
   "pygments_lexer": "ipython3",
   "version": "3.12.11"
  }
 },
 "nbformat": 4,
 "nbformat_minor": 5
}
