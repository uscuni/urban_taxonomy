{
 "cells": [
  {
   "cell_type": "code",
   "execution_count": 14,
   "id": "6da6fc8d",
   "metadata": {},
   "outputs": [],
   "source": [
    "import geopandas as gpd\n",
    "from pathlib import Path\n",
    "\n"
   ]
  },
  {
   "cell_type": "markdown",
   "id": "b31a189b",
   "metadata": {},
   "source": [
    "#### Script1: Explore_cadaster_footptint"
   ]
  },
  {
   "cell_type": "code",
   "execution_count": 9,
   "id": "096c5b89",
   "metadata": {},
   "outputs": [
    {
     "name": "stdout",
     "output_type": "stream",
     "text": [
      "25832\n"
     ]
    }
   ],
   "source": [
    "dort_11 = gpd.read_parquet(\"D:/Work/Github_Morphotopes/data/dort_11_subset.parquet\")\n",
    "print(dort_11.crs.to_epsg())"
   ]
  },
  {
   "cell_type": "code",
   "execution_count": null,
   "id": "72b4c8a4",
   "metadata": {},
   "outputs": [],
   "source": []
  },
  {
   "cell_type": "code",
   "execution_count": null,
   "id": "1431727e",
   "metadata": {},
   "outputs": [],
   "source": []
  },
  {
   "cell_type": "code",
   "execution_count": null,
   "id": "cc087352",
   "metadata": {},
   "outputs": [],
   "source": []
  },
  {
   "cell_type": "code",
   "execution_count": null,
   "id": "835ced63",
   "metadata": {},
   "outputs": [],
   "source": []
  },
  {
   "cell_type": "code",
   "execution_count": null,
   "id": "55ca17d7",
   "metadata": {},
   "outputs": [],
   "source": []
  },
  {
   "cell_type": "code",
   "execution_count": null,
   "id": "b933f06b",
   "metadata": {},
   "outputs": [],
   "source": []
  },
  {
   "cell_type": "code",
   "execution_count": 1,
   "id": "5e1bd823",
   "metadata": {},
   "outputs": [
    {
     "name": "stdout",
     "output_type": "stream",
     "text": [
      "streets_0.parquet EPSG:25832\n",
      "streets_0.parquet No CRS set\n",
      "buildings_0.parquet EPSG:25832\n",
      "tessellation_0.parquet EPSG:25832\n",
      "enclosure_0.parquet No CRS set\n"
     ]
    }
   ],
   "source": [
    "import geopandas as gpd\n",
    "from pathlib import Path\n",
    "\n",
    "# Adjust to match your actual directory paths\n",
    "streets_dir       = \"D:/Work/Github_Morphotopes/data/streets/\"\n",
    "overture_streets_dir = \"D:/Work/Github_Morphotopes/data/overture_streets/\"\n",
    "buildings_dir     = \"D:/Work/Github_Morphotopes/data/\"\n",
    "tessellations_dir = \"D:/Work/Github_Morphotopes/data/tessellations/\"\n",
    "enclosures_dir    = \"D:/Work/Github_Morphotopes/data/enclosures/\"\n",
    "\n",
    "for p in [\n",
    "    streets_dir + \"streets_0.parquet\",\n",
    "    overture_streets_dir + \"streets_0.parquet\",\n",
    "    buildings_dir + \"buildings_0.parquet\",\n",
    "    tessellations_dir + \"tessellation_0.parquet\",\n",
    "    enclosures_dir + \"enclosure_0.parquet\",\n",
    "]:\n",
    "    g = gpd.read_parquet(p)\n",
    "    epsg_code = g.crs.to_epsg() if g.crs else None\n",
    "    print(Path(p).name, f\"EPSG:{epsg_code}\" if epsg_code else \"No CRS set\")\n"
   ]
  }
 ],
 "metadata": {
  "kernelspec": {
   "display_name": "base",
   "language": "python",
   "name": "python3"
  },
  "language_info": {
   "codemirror_mode": {
    "name": "ipython",
    "version": 3
   },
   "file_extension": ".py",
   "mimetype": "text/x-python",
   "name": "python",
   "nbconvert_exporter": "python",
   "pygments_lexer": "ipython3",
   "version": "3.13.5"
  }
 },
 "nbformat": 4,
 "nbformat_minor": 5
}
