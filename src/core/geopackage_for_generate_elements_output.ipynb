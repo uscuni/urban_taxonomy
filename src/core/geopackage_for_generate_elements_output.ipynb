{
 "cells": [
  {
   "cell_type": "code",
   "execution_count": 25,
   "id": "edd6e780",
   "metadata": {},
   "outputs": [],
   "source": [
    "import geopandas as gpd\n",
    "from pathlib import Path\n",
    "import os\n",
    "import numpy as np\n",
    "\n",
    "# ---- paths\n",
    "data_e = 'D:/Work/Github_Morphotopes/data/enclosures/'\n",
    "data_t = 'D:/Work/Github_Morphotopes/data/tessellations/'\n",
    "output = 'D:/Work/Github_Morphotopes/data/'\n"
   ]
  },
  {
   "cell_type": "code",
   "execution_count": 26,
   "id": "f41f0263",
   "metadata": {},
   "outputs": [],
   "source": [
    "# ---- read\n",
    "enc = gpd.read_parquet(data_e + \"enclosure_0.parquet\")\n",
    "tess= gpd.read_parquet(data_t + \"tessellation_0.parquet\")"
   ]
  },
  {
   "cell_type": "code",
   "execution_count": 27,
   "id": "109b001a",
   "metadata": {},
   "outputs": [
    {
     "name": "stdout",
     "output_type": "stream",
     "text": [
      "enc CRS: None  | tess CRS: {\"$schema\": \"https://proj.org/schemas/v0.7/projjson.schema.json\", \"type\": \"ProjectedCRS\", \"name\": \"ETRS89 / UTM zone 32N\", \"base_crs\": {\"type\": \"GeographicCRS\", \"name\": \"ETRS89\", \"datum_ensemble\": {\"name\": \"European Terrestrial Reference System 1989 ensemble\", \"members\": [{\"name\": \"European Terrestrial Reference Frame 1989\"}, {\"name\": \"European Terrestrial Reference Frame 1990\"}, {\"name\": \"European Terrestrial Reference Frame 1991\"}, {\"name\": \"European Terrestrial Reference Frame 1992\"}, {\"name\": \"European Terrestrial Reference Frame 1993\"}, {\"name\": \"European Terrestrial Reference Frame 1994\"}, {\"name\": \"European Terrestrial Reference Frame 1996\"}, {\"name\": \"European Terrestrial Reference Frame 1997\"}, {\"name\": \"European Terrestrial Reference Frame 2000\"}, {\"name\": \"European Terrestrial Reference Frame 2005\"}, {\"name\": \"European Terrestrial Reference Frame 2014\"}, {\"name\": \"European Terrestrial Reference Frame 2020\"}], \"ellipsoid\": {\"name\": \"GRS 1980\", \"semi_major_axis\": 6378137, \"inverse_flattening\": 298.257222101}, \"accuracy\": \"0.1\", \"id\": {\"authority\": \"EPSG\", \"code\": 6258}}, \"coordinate_system\": {\"subtype\": \"ellipsoidal\", \"axis\": [{\"name\": \"Geodetic latitude\", \"abbreviation\": \"Lat\", \"direction\": \"north\", \"unit\": \"degree\"}, {\"name\": \"Geodetic longitude\", \"abbreviation\": \"Lon\", \"direction\": \"east\", \"unit\": \"degree\"}]}, \"id\": {\"authority\": \"EPSG\", \"code\": 4258}}, \"conversion\": {\"name\": \"UTM zone 32N\", \"method\": {\"name\": \"Transverse Mercator\", \"id\": {\"authority\": \"EPSG\", \"code\": 9807}}, \"parameters\": [{\"name\": \"Latitude of natural origin\", \"value\": 0, \"unit\": \"degree\", \"id\": {\"authority\": \"EPSG\", \"code\": 8801}}, {\"name\": \"Longitude of natural origin\", \"value\": 9, \"unit\": \"degree\", \"id\": {\"authority\": \"EPSG\", \"code\": 8802}}, {\"name\": \"Scale factor at natural origin\", \"value\": 0.9996, \"unit\": \"unity\", \"id\": {\"authority\": \"EPSG\", \"code\": 8805}}, {\"name\": \"False easting\", \"value\": 500000, \"unit\": \"metre\", \"id\": {\"authority\": \"EPSG\", \"code\": 8806}}, {\"name\": \"False northing\", \"value\": 0, \"unit\": \"metre\", \"id\": {\"authority\": \"EPSG\", \"code\": 8807}}]}, \"coordinate_system\": {\"subtype\": \"Cartesian\", \"axis\": [{\"name\": \"Easting\", \"abbreviation\": \"E\", \"direction\": \"east\", \"unit\": \"metre\"}, {\"name\": \"Northing\", \"abbreviation\": \"N\", \"direction\": \"north\", \"unit\": \"metre\"}]}, \"usages\": [{\"scope\": \"Engineering survey, topographic mapping.\", \"area\": \"Europe between 6\\u00b0E and 12\\u00b0E: Austria; Denmark - onshore and offshore; Germany - onshore and offshore; Italy - onshore and offshore; Norway including Svalbard - onshore and offshore; Spain - offshore.\", \"bbox\": {\"south_latitude\": 36.53, \"west_longitude\": 6, \"north_latitude\": 84.01, \"east_longitude\": 12.01}}, {\"scope\": \"Pan-European conformal mapping at scales larger than 1:500,000.\", \"area\": \"Europe between 6\\u00b0E and 12\\u00b0E and approximately 36\\u00b030'N to 84\\u00b0N.\", \"bbox\": {\"south_latitude\": 36.53, \"west_longitude\": 6, \"north_latitude\": 84.01, \"east_longitude\": 12.01}}], \"id\": {\"authority\": \"EPSG\", \"code\": 25832}}\n"
     ]
    }
   ],
   "source": [
    "# ---- sanity: ensure CRS is set (adjust EPSG if needed)\n",
    "print(\"enc CRS:\", enc.crs, \" | tess CRS:\", tess.crs)\n",
    "if enc.crs is None:\n",
    "    # Most Dortmund data uses UTM 32N (ETRS89=EPSG:25832 or WGS84=EPSG:32632).\n",
    "    # Pick the one your data actually uses:\n",
    "    enc = enc.set_crs(25832)      # change to 32632 if that's correct for you\n",
    "if tess.crs is None:\n",
    "    tess = tess.set_crs(enc.crs)"
   ]
  },
  {
   "cell_type": "code",
   "execution_count": 28,
   "id": "5052d052",
   "metadata": {},
   "outputs": [],
   "source": [
    "# (optional) add IDs / make geometries valid (helps QGIS)\n",
    "enc  = enc.copy()\n",
    "tess = tess.copy()\n",
    "enc[\"eid\"]   = enc.index\n",
    "tess[\"tid\"]  = tess.index\n",
    "# If you have Shapely 2.x, uncomment:\n",
    "# enc[\"geometry\"]  = enc.geometry.make_valid()\n",
    "# tess[\"geometry\"] = tess.geometry.make_valid()\n",
    "\n"
   ]
  },
  {
   "cell_type": "code",
   "execution_count": 29,
   "id": "78a6e1ad",
   "metadata": {},
   "outputs": [],
   "source": [
    "for col in ['eID', 'eid', 'id', 'ID']:\n",
    "    if col in enc.columns:\n",
    "        enc = enc.drop(columns=[col])\n",
    "\n",
    "# add a clean integer id\n",
    "enc.insert(0, 'eid', np.arange(len(enc), dtype='int64'))"
   ]
  },
  {
   "cell_type": "code",
   "execution_count": 30,
   "id": "08071810",
   "metadata": {},
   "outputs": [
    {
     "data": {
      "text/html": [
       "<div>\n",
       "<style scoped>\n",
       "    .dataframe tbody tr th:only-of-type {\n",
       "        vertical-align: middle;\n",
       "    }\n",
       "\n",
       "    .dataframe tbody tr th {\n",
       "        vertical-align: top;\n",
       "    }\n",
       "\n",
       "    .dataframe thead th {\n",
       "        text-align: right;\n",
       "    }\n",
       "</style>\n",
       "<table border=\"1\" class=\"dataframe\">\n",
       "  <thead>\n",
       "    <tr style=\"text-align: right;\">\n",
       "      <th></th>\n",
       "      <th>enclosure_index</th>\n",
       "      <th>geometry</th>\n",
       "      <th>tid</th>\n",
       "    </tr>\n",
       "  </thead>\n",
       "  <tbody>\n",
       "    <tr>\n",
       "      <th>0</th>\n",
       "      <td>912</td>\n",
       "      <td>POLYGON ((393644.116 5709012.34, 393642.602 57...</td>\n",
       "      <td>0</td>\n",
       "    </tr>\n",
       "    <tr>\n",
       "      <th>1</th>\n",
       "      <td>912</td>\n",
       "      <td>POLYGON ((393446.731 5708355.293, 393443.437 5...</td>\n",
       "      <td>1</td>\n",
       "    </tr>\n",
       "    <tr>\n",
       "      <th>2</th>\n",
       "      <td>912</td>\n",
       "      <td>POLYGON ((393537.27 5708304.539, 393539.352 57...</td>\n",
       "      <td>2</td>\n",
       "    </tr>\n",
       "    <tr>\n",
       "      <th>3</th>\n",
       "      <td>912</td>\n",
       "      <td>POLYGON ((393486.076 5708449.477, 393486.342 5...</td>\n",
       "      <td>3</td>\n",
       "    </tr>\n",
       "    <tr>\n",
       "      <th>4</th>\n",
       "      <td>912</td>\n",
       "      <td>POLYGON ((393825.006 5708294.93, 393823.479 57...</td>\n",
       "      <td>4</td>\n",
       "    </tr>\n",
       "    <tr>\n",
       "      <th>...</th>\n",
       "      <td>...</td>\n",
       "      <td>...</td>\n",
       "      <td>...</td>\n",
       "    </tr>\n",
       "    <tr>\n",
       "      <th>1161</th>\n",
       "      <td>912</td>\n",
       "      <td>POLYGON ((393693.606 5708275.683, 393691.919 5...</td>\n",
       "      <td>1161</td>\n",
       "    </tr>\n",
       "    <tr>\n",
       "      <th>1162</th>\n",
       "      <td>912</td>\n",
       "      <td>POLYGON ((393713.467 5708314.591, 393713.213 5...</td>\n",
       "      <td>1162</td>\n",
       "    </tr>\n",
       "    <tr>\n",
       "      <th>1163</th>\n",
       "      <td>912</td>\n",
       "      <td>POLYGON ((393707.087 5708316.159, 393707.096 5...</td>\n",
       "      <td>1163</td>\n",
       "    </tr>\n",
       "    <tr>\n",
       "      <th>1164</th>\n",
       "      <td>912</td>\n",
       "      <td>POLYGON ((393715.496 5708322.875, 393715.604 5...</td>\n",
       "      <td>1164</td>\n",
       "    </tr>\n",
       "    <tr>\n",
       "      <th>1165</th>\n",
       "      <td>912</td>\n",
       "      <td>POLYGON ((393707.096 5708316.168, 393707.087 5...</td>\n",
       "      <td>1165</td>\n",
       "    </tr>\n",
       "  </tbody>\n",
       "</table>\n",
       "<p>1166 rows × 3 columns</p>\n",
       "</div>"
      ],
      "text/plain": [
       "      enclosure_index                                           geometry   tid\n",
       "0                 912  POLYGON ((393644.116 5709012.34, 393642.602 57...     0\n",
       "1                 912  POLYGON ((393446.731 5708355.293, 393443.437 5...     1\n",
       "2                 912  POLYGON ((393537.27 5708304.539, 393539.352 57...     2\n",
       "3                 912  POLYGON ((393486.076 5708449.477, 393486.342 5...     3\n",
       "4                 912  POLYGON ((393825.006 5708294.93, 393823.479 57...     4\n",
       "...               ...                                                ...   ...\n",
       "1161              912  POLYGON ((393693.606 5708275.683, 393691.919 5...  1161\n",
       "1162              912  POLYGON ((393713.467 5708314.591, 393713.213 5...  1162\n",
       "1163              912  POLYGON ((393707.087 5708316.159, 393707.096 5...  1163\n",
       "1164              912  POLYGON ((393715.496 5708322.875, 393715.604 5...  1164\n",
       "1165              912  POLYGON ((393707.096 5708316.168, 393707.087 5...  1165\n",
       "\n",
       "[1166 rows x 3 columns]"
      ]
     },
     "execution_count": 30,
     "metadata": {},
     "output_type": "execute_result"
    }
   ],
   "source": [
    "tess"
   ]
  },
  {
   "cell_type": "code",
   "execution_count": 31,
   "id": "510946da",
   "metadata": {},
   "outputs": [],
   "source": [
    "# ---- write both layers into one GPKG\n",
    "# Save as a single GeoPackage\n",
    "output_path1 = os.path.join(output, \"enclosure_0.gpkg\")\n",
    "enc.to_file(output_path1, driver=\"GPKG\")\n",
    "\n",
    "output_path2 = os.path.join(output, \"tessellation_0.gpkg\")\n",
    "tess.to_file(output_path2, driver=\"GPKG\")\n"
   ]
  },
  {
   "cell_type": "code",
   "execution_count": 32,
   "id": "c9b9680a",
   "metadata": {},
   "outputs": [
    {
     "data": {
      "text/html": [
       "<div>\n",
       "<style scoped>\n",
       "    .dataframe tbody tr th:only-of-type {\n",
       "        vertical-align: middle;\n",
       "    }\n",
       "\n",
       "    .dataframe tbody tr th {\n",
       "        vertical-align: top;\n",
       "    }\n",
       "\n",
       "    .dataframe thead th {\n",
       "        text-align: right;\n",
       "    }\n",
       "</style>\n",
       "<table border=\"1\" class=\"dataframe\">\n",
       "  <thead>\n",
       "    <tr style=\"text-align: right;\">\n",
       "      <th></th>\n",
       "      <th>eid</th>\n",
       "      <th>geometry</th>\n",
       "    </tr>\n",
       "  </thead>\n",
       "  <tbody>\n",
       "    <tr>\n",
       "      <th>912</th>\n",
       "      <td>0</td>\n",
       "      <td>POLYGON ((393274.591 5707882.722, 393273.517 5...</td>\n",
       "    </tr>\n",
       "  </tbody>\n",
       "</table>\n",
       "</div>"
      ],
      "text/plain": [
       "     eid                                           geometry\n",
       "912    0  POLYGON ((393274.591 5707882.722, 393273.517 5..."
      ]
     },
     "execution_count": 32,
     "metadata": {},
     "output_type": "execute_result"
    }
   ],
   "source": [
    "enc"
   ]
  }
 ],
 "metadata": {
  "kernelspec": {
   "display_name": "default",
   "language": "python",
   "name": "python3"
  },
  "language_info": {
   "codemirror_mode": {
    "name": "ipython",
    "version": 3
   },
   "file_extension": ".py",
   "mimetype": "text/x-python",
   "name": "python",
   "nbconvert_exporter": "python",
   "pygments_lexer": "ipython3",
   "version": "3.12.11"
  }
 },
 "nbformat": 4,
 "nbformat_minor": 5
}
