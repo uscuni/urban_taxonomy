{
 "cells": [
  {
   "cell_type": "code",
   "execution_count": null,
   "id": "7e2ef3f1-f00f-4e0b-9b1c-0c1ef77a089f",
   "metadata": {},
   "outputs": [],
   "source": []
  },
  {
   "cell_type": "code",
   "execution_count": 2,
   "id": "2e407cac-7009-4cb1-afed-7732daf41313",
   "metadata": {},
   "outputs": [
    {
     "name": "stdout",
     "output_type": "stream",
     "text": [
      "--2024-11-01 18:32:41--  https://jeodpp.jrc.ec.europa.eu/ftp/jrc-opendata/GHSL/GHS_BUILT_S_GLOBE_R2023A/GHS_BUILT_S_E2018_GLOBE_R2023A_54009_10/V1-0/tiles/GHS_BUILT_S_E2018_GLOBE_R2023A_54009_10_V1_0_R4_C19.zip\n",
      "Resolving jeodpp.jrc.ec.europa.eu (jeodpp.jrc.ec.europa.eu)... 139.191.241.87\n",
      "Connecting to jeodpp.jrc.ec.europa.eu (jeodpp.jrc.ec.europa.eu)|139.191.241.87|:443... connected.\n",
      "HTTP request sent, awaiting response... 200 OK\n",
      "Length: 1067062740 (1018M) [application/zip]\n",
      "Saving to: ‘GHS_BUILT_S_E2018_GLOBE_R2023A_54009_10_V1_0_R4_C19.zip’\n",
      "\n",
      "GHS_BUILT_S_E2018_G 100%[===================>]   1018M  8,32MB/s    in 2m 5s   \n",
      "\n",
      "2024-11-01 18:34:46 (8,14 MB/s) - ‘GHS_BUILT_S_E2018_GLOBE_R2023A_54009_10_V1_0_R4_C19.zip’ saved [1067062740/1067062740]\n",
      "\n"
     ]
    }
   ],
   "source": [
    "!wget https://jeodpp.jrc.ec.europa.eu/ftp/jrc-opendata/GHSL/GHS_BUILT_S_GLOBE_R2023A/GHS_BUILT_S_E2018_GLOBE_R2023A_54009_10/V1-0/tiles/GHS_BUILT_S_E2018_GLOBE_R2023A_54009_10_V1_0_R4_C19.zip"
   ]
  },
  {
   "cell_type": "code",
   "execution_count": 3,
   "id": "70e00ba6-1492-4d9d-ae52-3be1bf7102ff",
   "metadata": {},
   "outputs": [
    {
     "name": "stdout",
     "output_type": "stream",
     "text": [
      "--2024-11-01 18:37:10--  https://jeodpp.jrc.ec.europa.eu/ftp/jrc-opendata/GHSL/GHS_BUILT_S_GLOBE_R2023A/GHS_BUILT_S_E2018_GLOBE_R2023A_54009_10/V1-0/tiles/GHS_BUILT_S_E2018_GLOBE_R2023A_54009_10_V1_0_R4_C20.zip\n",
      "Resolving jeodpp.jrc.ec.europa.eu (jeodpp.jrc.ec.europa.eu)... 139.191.241.87\n",
      "Connecting to jeodpp.jrc.ec.europa.eu (jeodpp.jrc.ec.europa.eu)|139.191.241.87|:443... connected.\n",
      "HTTP request sent, awaiting response... 200 OK\n",
      "Length: 773124861 (737M) [application/zip]\n",
      "Saving to: ‘GHS_BUILT_S_E2018_GLOBE_R2023A_54009_10_V1_0_R4_C20.zip’\n",
      "\n",
      "GHS_BUILT_S_E2018_G 100%[===================>] 737,31M  8,17MB/s    in 95s     \n",
      "\n",
      "2024-11-01 18:38:45 (7,74 MB/s) - ‘GHS_BUILT_S_E2018_GLOBE_R2023A_54009_10_V1_0_R4_C20.zip’ saved [773124861/773124861]\n",
      "\n"
     ]
    }
   ],
   "source": [
    "!wget https://jeodpp.jrc.ec.europa.eu/ftp/jrc-opendata/GHSL/GHS_BUILT_S_GLOBE_R2023A/GHS_BUILT_S_E2018_GLOBE_R2023A_54009_10/V1-0/tiles/GHS_BUILT_S_E2018_GLOBE_R2023A_54009_10_V1_0_R4_C20.zip"
   ]
  },
  {
   "cell_type": "code",
   "execution_count": 4,
   "id": "cb08e080-764a-49f2-93bf-3b479d5333c2",
   "metadata": {},
   "outputs": [
    {
     "name": "stdout",
     "output_type": "stream",
     "text": [
      "--2024-11-01 18:38:45--  https://jeodpp.jrc.ec.europa.eu/ftp/jrc-opendata/GHSL/GHS_BUILT_S_GLOBE_R2023A/GHS_BUILT_S_E2018_GLOBE_R2023A_54009_10/V1-0/tiles/GHS_BUILT_S_E2018_GLOBE_R2023A_54009_10_V1_0_R3_C19.zip\n",
      "Resolving jeodpp.jrc.ec.europa.eu (jeodpp.jrc.ec.europa.eu)... 139.191.241.87\n",
      "Connecting to jeodpp.jrc.ec.europa.eu (jeodpp.jrc.ec.europa.eu)|139.191.241.87|:443... connected.\n",
      "HTTP request sent, awaiting response... 200 OK\n",
      "Length: 469501681 (448M) [application/zip]\n",
      "Saving to: ‘GHS_BUILT_S_E2018_GLOBE_R2023A_54009_10_V1_0_R3_C19.zip’\n",
      "\n",
      "GHS_BUILT_S_E2018_G 100%[===================>] 447,75M  7,89MB/s    in 67s     \n",
      "\n",
      "2024-11-01 18:39:52 (6,70 MB/s) - ‘GHS_BUILT_S_E2018_GLOBE_R2023A_54009_10_V1_0_R3_C19.zip’ saved [469501681/469501681]\n",
      "\n"
     ]
    }
   ],
   "source": [
    "!wget https://jeodpp.jrc.ec.europa.eu/ftp/jrc-opendata/GHSL/GHS_BUILT_S_GLOBE_R2023A/GHS_BUILT_S_E2018_GLOBE_R2023A_54009_10/V1-0/tiles/GHS_BUILT_S_E2018_GLOBE_R2023A_54009_10_V1_0_R3_C19.zip"
   ]
  },
  {
   "cell_type": "code",
   "execution_count": 5,
   "id": "7a61d675-6c34-4514-9e1e-b69372014867",
   "metadata": {},
   "outputs": [
    {
     "name": "stdout",
     "output_type": "stream",
     "text": [
      "--2024-11-01 18:39:53--  https://jeodpp.jrc.ec.europa.eu/ftp/jrc-opendata/GHSL/GHS_BUILT_S_GLOBE_R2023A/GHS_BUILT_S_E2018_GLOBE_R2023A_54009_10/V1-0/tiles/GHS_BUILT_S_E2018_GLOBE_R2023A_54009_10_V1_0_R3_C20.zip\n",
      "Resolving jeodpp.jrc.ec.europa.eu (jeodpp.jrc.ec.europa.eu)... 139.191.241.87\n",
      "Connecting to jeodpp.jrc.ec.europa.eu (jeodpp.jrc.ec.europa.eu)|139.191.241.87|:443... connected.\n",
      "HTTP request sent, awaiting response... 200 OK\n",
      "Length: 420280329 (401M) [application/zip]\n",
      "Saving to: ‘GHS_BUILT_S_E2018_GLOBE_R2023A_54009_10_V1_0_R3_C20.zip’\n",
      "\n",
      "GHS_BUILT_S_E2018_G 100%[===================>] 400,81M  7,67MB/s    in 48s     \n",
      "\n",
      "2024-11-01 18:40:41 (8,30 MB/s) - ‘GHS_BUILT_S_E2018_GLOBE_R2023A_54009_10_V1_0_R3_C20.zip’ saved [420280329/420280329]\n",
      "\n"
     ]
    }
   ],
   "source": [
    "!wget https://jeodpp.jrc.ec.europa.eu/ftp/jrc-opendata/GHSL/GHS_BUILT_S_GLOBE_R2023A/GHS_BUILT_S_E2018_GLOBE_R2023A_54009_10/V1-0/tiles/GHS_BUILT_S_E2018_GLOBE_R2023A_54009_10_V1_0_R3_C20.zip"
   ]
  },
  {
   "cell_type": "code",
   "execution_count": 6,
   "id": "907c9ad2-4be9-4ff9-9878-f76a47cc1dc3",
   "metadata": {},
   "outputs": [
    {
     "name": "stdout",
     "output_type": "stream",
     "text": [
      "--2024-11-01 18:40:41--  https://jeodpp.jrc.ec.europa.eu/ftp/jrc-opendata/GHSL/GHS_BUILT_S_GLOBE_R2023A/GHS_BUILT_S_E2018_GLOBE_R2023A_54009_10/V1-0/tiles/GHS_BUILT_S_E2018_GLOBE_R2023A_54009_10_V1_0_R4_C21.zip\n",
      "Resolving jeodpp.jrc.ec.europa.eu (jeodpp.jrc.ec.europa.eu)... 139.191.241.87\n",
      "Connecting to jeodpp.jrc.ec.europa.eu (jeodpp.jrc.ec.europa.eu)|139.191.241.87|:443... connected.\n",
      "HTTP request sent, awaiting response... 200 OK\n",
      "Length: 411594078 (393M) [application/zip]\n",
      "Saving to: ‘GHS_BUILT_S_E2018_GLOBE_R2023A_54009_10_V1_0_R4_C21.zip’\n",
      "\n",
      "GHS_BUILT_S_E2018_G 100%[===================>] 392,53M  8,37MB/s    in 46s     \n",
      "\n",
      "2024-11-01 18:41:27 (8,55 MB/s) - ‘GHS_BUILT_S_E2018_GLOBE_R2023A_54009_10_V1_0_R4_C21.zip’ saved [411594078/411594078]\n",
      "\n"
     ]
    }
   ],
   "source": [
    "!wget https://jeodpp.jrc.ec.europa.eu/ftp/jrc-opendata/GHSL/GHS_BUILT_S_GLOBE_R2023A/GHS_BUILT_S_E2018_GLOBE_R2023A_54009_10/V1-0/tiles/GHS_BUILT_S_E2018_GLOBE_R2023A_54009_10_V1_0_R4_C21.zip"
   ]
  },
  {
   "cell_type": "code",
   "execution_count": 7,
   "id": "2b7ee309-c01f-42b7-8abd-8de3db16579f",
   "metadata": {},
   "outputs": [
    {
     "name": "stdout",
     "output_type": "stream",
     "text": [
      "--2024-11-01 18:41:27--  https://jeodpp.jrc.ec.europa.eu/ftp/jrc-opendata/GHSL/GHS_BUILT_S_GLOBE_R2023A/GHS_BUILT_S_E2018_GLOBE_R2023A_54009_10/V1-0/tiles/GHS_BUILT_S_E2018_GLOBE_R2023A_54009_10_V1_0_R3_C21.zip\n",
      "Resolving jeodpp.jrc.ec.europa.eu (jeodpp.jrc.ec.europa.eu)... 139.191.241.87\n",
      "Connecting to jeodpp.jrc.ec.europa.eu (jeodpp.jrc.ec.europa.eu)|139.191.241.87|:443... connected.\n",
      "HTTP request sent, awaiting response... 200 OK\n",
      "Length: 263655771 (251M) [application/zip]\n",
      "Saving to: ‘GHS_BUILT_S_E2018_GLOBE_R2023A_54009_10_V1_0_R3_C21.zip’\n",
      "\n",
      "GHS_BUILT_S_E2018_G 100%[===================>] 251,44M  8,57MB/s    in 32s     \n",
      "\n",
      "2024-11-01 18:41:59 (7,88 MB/s) - ‘GHS_BUILT_S_E2018_GLOBE_R2023A_54009_10_V1_0_R3_C21.zip’ saved [263655771/263655771]\n",
      "\n"
     ]
    }
   ],
   "source": [
    "!wget https://jeodpp.jrc.ec.europa.eu/ftp/jrc-opendata/GHSL/GHS_BUILT_S_GLOBE_R2023A/GHS_BUILT_S_E2018_GLOBE_R2023A_54009_10/V1-0/tiles/GHS_BUILT_S_E2018_GLOBE_R2023A_54009_10_V1_0_R3_C21.zip"
   ]
  },
  {
   "cell_type": "code",
   "execution_count": 8,
   "id": "10a0c94b-ce6b-449f-846a-486355d6752b",
   "metadata": {},
   "outputs": [
    {
     "name": "stdout",
     "output_type": "stream",
     "text": [
      "Archive:  GHS_BUILT_S_E2018_GLOBE_R2023A_54009_10_V1_0_R3_C21.zip\n",
      "  inflating: GHS_BUILT_S_E2018_GLOBE_R2023A_54009_10_V1_0_R3_C21.tif  \n",
      "  inflating: GHS_BUILT_S_E2018_GLOBE_R2023A_54009_10_V1_0_R3_C21.tif.ovr  \n",
      "  inflating: GHSL_Data_Package_2023_light.pdf  \n",
      "  inflating: mnt/eos_rw/projects/GHSL/tmp/GHSL_Data_Package_2023_light.pdf  \n"
     ]
    }
   ],
   "source": [
    "!unzip GHS_BUILT_S_E2018_GLOBE_R2023A_54009_10_V1_0_R3_C21.zip"
   ]
  },
  {
   "cell_type": "code",
   "execution_count": null,
   "id": "66eef4e7-6c90-4396-a39f-cf3e045c8c96",
   "metadata": {},
   "outputs": [],
   "source": []
  },
  {
   "cell_type": "code",
   "execution_count": 1,
   "id": "f75a6608-ea46-4f08-9a15-b0f97df29f84",
   "metadata": {},
   "outputs": [
    {
     "name": "stdout",
     "output_type": "stream",
     "text": [
      "Archive:  GHS_BUILT_S_E2018_GLOBE_R2023A_54009_10_V1_0_R4_C20.zip\n",
      "  inflating: GHS_BUILT_S_E2018_GLOBE_R2023A_54009_10_V1_0_R4_C20.tif  \n",
      "  inflating: GHS_BUILT_S_E2018_GLOBE_R2023A_54009_10_V1_0_R4_C20.tif.ovr  \n",
      "  inflating: GHSL_Data_Package_2023_light.pdf  \n",
      "  inflating: mnt/eos_rw/projects/GHSL/tmp/GHSL_Data_Package_2023_light.pdf  \n"
     ]
    }
   ],
   "source": [
    "!unzip GHS_BUILT_S_E2018_GLOBE_R2023A_54009_10_V1_0_R4_C20"
   ]
  },
  {
   "cell_type": "code",
   "execution_count": null,
   "id": "ea5e4d34-f75f-4c6f-993f-564f4ea6a511",
   "metadata": {},
   "outputs": [],
   "source": []
  }
 ],
 "metadata": {
  "kernelspec": {
   "display_name": "Python 3 (ipykernel)",
   "language": "python",
   "name": "python3"
  },
  "language_info": {
   "codemirror_mode": {
    "name": "ipython",
    "version": 3
   },
   "file_extension": ".py",
   "mimetype": "text/x-python",
   "name": "python",
   "nbconvert_exporter": "python",
   "pygments_lexer": "ipython3",
   "version": "3.12.5"
  }
 },
 "nbformat": 4,
 "nbformat_minor": 5
}
