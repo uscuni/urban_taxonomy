{
 "cells": [
  {
   "cell_type": "code",
   "execution_count": null,
   "id": "27f054dd-c113-4c20-ba97-169b4ffaec11",
   "metadata": {},
   "outputs": [],
   "source": []
  },
  {
   "cell_type": "code",
   "execution_count": 1,
   "id": "55cc01cf-60c2-4919-9a23-3299e09aee78",
   "metadata": {},
   "outputs": [
    {
     "name": "stdout",
     "output_type": "stream",
     "text": [
      "CPU times: user 11.2 s, sys: 399 ms, total: 11.6 s\n",
      "Wall time: 9.32 s\n"
     ]
    }
   ],
   "source": [
    "%%time\n",
    "\n",
    "import glob\n",
    "\n",
    "import geopandas as gpd\n",
    "import matplotlib.pyplot as plt\n",
    "import numba\n",
    "import numpy as np\n",
    "import pandas as pd\n",
    "from libpysal.graph import read_parquet\n",
    "from sklearn.preprocessing import StandardScaler\n",
    "from sklearn.neighbors import KDTree"
   ]
  },
  {
   "cell_type": "code",
   "execution_count": 3,
   "id": "0c27a7f8-4da5-48b4-acbd-7b505d622f74",
   "metadata": {},
   "outputs": [],
   "source": [
    "region_id = 69300\n",
    "\n",
    "tessellations_dir = '/data/uscuni-ulce/processed_data/tessellations/'\n",
    "chars_dir = \"/data/uscuni-ulce/processed_data/chars/\"\n",
    "graph_dir = \"/data/uscuni-ulce/processed_data/neigh_graphs/\"\n",
    "val_path = '../data/prague_validation/morphotopes.pq'"
   ]
  },
  {
   "cell_type": "code",
   "execution_count": 4,
   "id": "93b3f5aa-b423-46bb-b84b-70c59cbb892b",
   "metadata": {},
   "outputs": [],
   "source": [
    "# region_id = 'freiburg'\n",
    "# buildings_dir = streets_dir = enclosures_dir = tessellations_dir = graph_dir = '../data/freiburg/'\n",
    "# chars_dir = '../data/freiburg/chars/'\n",
    "# val_path = '../data/fbg_cluster_validation.pq'"
   ]
  },
  {
   "cell_type": "code",
   "execution_count": null,
   "id": "d147570c-dace-435b-9621-51b5d865f66f",
   "metadata": {},
   "outputs": [],
   "source": []
  },
  {
   "cell_type": "code",
   "execution_count": null,
   "id": "9b0a4af6-e08d-479f-aa1b-614655cff739",
   "metadata": {},
   "outputs": [],
   "source": []
  },
  {
   "cell_type": "code",
   "execution_count": 7,
   "id": "2b72f720-8ded-4b47-949f-1092e9ebd693",
   "metadata": {},
   "outputs": [],
   "source": [
    "graph = read_parquet(graph_dir + f\"tessellation_graph_{region_id}_knn1.parquet\")"
   ]
  },
  {
   "cell_type": "code",
   "execution_count": 8,
   "id": "b650aaab-81f2-4d37-8ff1-64b181afd919",
   "metadata": {},
   "outputs": [
    {
     "data": {
      "text/plain": [
       "count    300966.000000\n",
       "mean          6.744410\n",
       "std           1.972265\n",
       "min           1.000000\n",
       "25%           6.000000\n",
       "50%           7.000000\n",
       "75%           8.000000\n",
       "max          71.000000\n",
       "Name: cardinalities, dtype: float64"
      ]
     },
     "execution_count": 8,
     "metadata": {},
     "output_type": "execute_result"
    }
   ],
   "source": [
    "graph.cardinalities.describe()"
   ]
  },
  {
   "cell_type": "code",
   "execution_count": null,
   "id": "a6f1d619-f0e7-41d6-b35b-22e6379d132c",
   "metadata": {},
   "outputs": [],
   "source": []
  },
  {
   "cell_type": "code",
   "execution_count": 9,
   "id": "d89baa9c-25b8-4233-8534-a3dcf13674ca",
   "metadata": {},
   "outputs": [],
   "source": [
    "from core.cluster_validation import print_distance, generate_neigbhourhood_groups, generate_detailed_clusters"
   ]
  },
  {
   "cell_type": "code",
   "execution_count": null,
   "id": "8f540cb1-5286-4bbc-8b55-df992662be1d",
   "metadata": {},
   "outputs": [],
   "source": []
  },
  {
   "cell_type": "code",
   "execution_count": 10,
   "id": "0527419b-319b-46e8-bf5c-076fd26f7c7e",
   "metadata": {},
   "outputs": [],
   "source": [
    "tessellation = gpd.read_parquet(\n",
    "        tessellations_dir + f\"tessellation_{region_id}.parquet\"\n",
    ")"
   ]
  },
  {
   "cell_type": "code",
   "execution_count": null,
   "id": "e299f1d6-cb58-4141-a42a-fef4df31c927",
   "metadata": {},
   "outputs": [],
   "source": []
  },
  {
   "cell_type": "code",
   "execution_count": null,
   "id": "6ffd544f-27b4-4fac-8ee1-6f2c85592867",
   "metadata": {},
   "outputs": [],
   "source": []
  },
  {
   "cell_type": "code",
   "execution_count": null,
   "id": "08a8256e-ee74-4ad8-9567-2cb294b4b576",
   "metadata": {},
   "outputs": [],
   "source": []
  },
  {
   "cell_type": "code",
   "execution_count": 11,
   "id": "58ecc5b7-a417-4684-aac2-1f529333a5b3",
   "metadata": {},
   "outputs": [],
   "source": [
    "X_train = pd.read_parquet(chars_dir + f'primary_chars_{region_id}.parquet')\n",
    "\n",
    "\n",
    "\n",
    "X_train = X_train[X_train.index >= 0]\n",
    "\n",
    "\n",
    "\n",
    "spatial_lag = 3\n",
    "\n",
    "# lag = pd.read_parquet(f'/data/uscuni-ulce/processed_data/context_data/context_chars_{region_id}_lag_{spatial_lag}.parquet')\n",
    "\n",
    "lag = pd.read_parquet(f'/data/uscuni-ulce/processed_data/context_data/unprocessed_context_chars_{region_id}_lag_{spatial_lag}_sw.parquet')\n",
    "\n",
    "\n",
    "X_train = X_train.join(lag[[c for c in lag.columns if '_median' in c]], how='inner')\n",
    "\n",
    "# X_train = X_train.join(lag, how='inner')\n"
   ]
  },
  {
   "cell_type": "code",
   "execution_count": 12,
   "id": "74ee4975-74fb-4131-b3be-63a98259d325",
   "metadata": {},
   "outputs": [],
   "source": [
    "# for c in X_train.columns:\n",
    "#     X_train[c] = X_train[c].clip(*np.percentile(X_train[c], [5, 95]))"
   ]
  },
  {
   "cell_type": "code",
   "execution_count": null,
   "id": "96fe4f8a-a2fb-425f-8370-58b8c701827c",
   "metadata": {},
   "outputs": [],
   "source": []
  },
  {
   "cell_type": "code",
   "execution_count": 13,
   "id": "782f0a0b-22a4-4fa3-ba8a-72ae1af7388f",
   "metadata": {},
   "outputs": [],
   "source": [
    "to_drop = ['stcSAl',\n",
    " 'ltkOri',\n",
    " 'stbOri',\n",
    " 'stcOri',\n",
    " 'stbCeA',\n",
    "\n",
    "#not in barcelona\n",
    " # 'ltcBuA', 'midRea', 'midAre', 'likWBB'\n",
    "]\n",
    "\n",
    "\n",
    "all_drop = []\n",
    "for c in to_drop:\n",
    "    all_drop += X_train.columns[X_train.columns.str.contains(c)].tolist()\n",
    "\n",
    "\n",
    "X_train = X_train.drop(all_drop, axis=1)"
   ]
  },
  {
   "cell_type": "code",
   "execution_count": 14,
   "id": "be25ae62-906a-45dc-976d-a5d4a1dc5774",
   "metadata": {},
   "outputs": [],
   "source": [
    "\n",
    "# vals = StandardScaler().fit_transform(X_train)\n",
    "# X_train = pd.DataFrame(vals, columns=X_train.columns, index=X_train.index)\n",
    "\n",
    "# vals = np.nan_to_num(X_train)\n",
    "# X_train = pd.DataFrame(vals, columns=X_train.columns, index=X_train.index)"
   ]
  },
  {
   "cell_type": "code",
   "execution_count": 15,
   "id": "166755b5-25db-4869-a274-8e9feabb82e8",
   "metadata": {},
   "outputs": [],
   "source": [
    "# t1 = X_train[[c for c in X_train.columns if '_' not in c]]\n",
    "# X_train = X_train[[c for c in X_train.columns if '_median' in c]]\n",
    "\n",
    "# X_train = t1.join(t2)\n",
    "# X_train.shape"
   ]
  },
  {
   "cell_type": "code",
   "execution_count": null,
   "id": "c5eded4f-112b-40f3-9767-a036c5518c7c",
   "metadata": {},
   "outputs": [],
   "source": []
  },
  {
   "cell_type": "code",
   "execution_count": 16,
   "id": "b79a3116-6d66-4bfc-84cc-630dffe51a50",
   "metadata": {},
   "outputs": [],
   "source": [
    "# X_train = X_train.drop(stats.columns[stats.loc['std'] == 0], axis=1)"
   ]
  },
  {
   "cell_type": "code",
   "execution_count": null,
   "id": "32dcd749-ec43-4a23-a57a-bf9550b01531",
   "metadata": {},
   "outputs": [],
   "source": []
  },
  {
   "cell_type": "code",
   "execution_count": 17,
   "id": "e6641e97-9a5b-4d95-a2cc-8c1915e9f0d1",
   "metadata": {},
   "outputs": [
    {
     "data": {
      "text/plain": [
       "(299064, 116)"
      ]
     },
     "execution_count": 17,
     "metadata": {},
     "output_type": "execute_result"
    }
   ],
   "source": [
    "X_train.shape"
   ]
  },
  {
   "cell_type": "code",
   "execution_count": null,
   "id": "4018342c-6506-4f57-bacc-4132b939f79f",
   "metadata": {},
   "outputs": [],
   "source": []
  },
  {
   "cell_type": "code",
   "execution_count": null,
   "id": "20500f7e-b664-4ced-b9dd-5e3d8404ac95",
   "metadata": {},
   "outputs": [],
   "source": []
  },
  {
   "cell_type": "code",
   "execution_count": null,
   "id": "afe3c5df-3c8b-4295-b618-17c28e24b8d8",
   "metadata": {},
   "outputs": [],
   "source": []
  },
  {
   "cell_type": "code",
   "execution_count": null,
   "id": "b9f3ad69-68e4-4207-bbc1-3d8adf9ab292",
   "metadata": {},
   "outputs": [],
   "source": []
  },
  {
   "cell_type": "code",
   "execution_count": null,
   "id": "68db8a21-9347-4462-a5e9-0456eb288c60",
   "metadata": {},
   "outputs": [],
   "source": []
  },
  {
   "cell_type": "code",
   "execution_count": 18,
   "id": "dfd60071-2197-4622-88a4-6cab698c5f53",
   "metadata": {},
   "outputs": [],
   "source": [
    "from sklearn.cluster import AgglomerativeClustering\n",
    "from scipy.cluster.hierarchy import dendrogram\n",
    "from scipy.cluster.hierarchy import fcluster\n",
    "from sklearn.metrics import adjusted_rand_score\n",
    "from sklearn.metrics import davies_bouldin_score\n",
    "from core.cluster_validation import get_linkage_matrix"
   ]
  },
  {
   "cell_type": "code",
   "execution_count": 19,
   "id": "90aac486-be30-4303-ab79-05abc7975ff8",
   "metadata": {},
   "outputs": [],
   "source": [
    "q1 = read_parquet(graph_dir + f\"tessellation_graph_{region_id}_knn1.parquet\")\n",
    "\n",
    "# clustering_graph = q1.higher_order(k=3, lower_order=True, diagonal=True).subgraph(X_train.index.values)\n",
    "\n",
    "clustering_graph = q1.copy()"
   ]
  },
  {
   "cell_type": "code",
   "execution_count": 20,
   "id": "0de9e06b-024f-4010-a7c8-01797abb2a4e",
   "metadata": {},
   "outputs": [
    {
     "data": {
      "text/plain": [
       "component labels\n",
       "444    166757\n",
       "97      18934\n",
       "550      6503\n",
       "443      3902\n",
       "438      3828\n",
       "        ...  \n",
       "605         1\n",
       "101         1\n",
       "602         1\n",
       "104         1\n",
       "125         1\n",
       "Name: count, Length: 821, dtype: int64"
      ]
     },
     "execution_count": 20,
     "metadata": {},
     "output_type": "execute_result"
    }
   ],
   "source": [
    "graph_labels = q1.subgraph(X_train.index.values).component_labels\n",
    "graph_labels.value_counts()"
   ]
  },
  {
   "cell_type": "code",
   "execution_count": null,
   "id": "a43d3b58-9a6a-4510-abad-397bc406a320",
   "metadata": {},
   "outputs": [],
   "source": []
  },
  {
   "cell_type": "code",
   "execution_count": 21,
   "id": "644f3109-b0a9-4930-8ac7-326927d131f9",
   "metadata": {},
   "outputs": [],
   "source": [
    "clustering_graph = clustering_graph.subgraph(graph_labels[graph_labels == 444].index.values)\n",
    "core_ids = clustering_graph.unique_ids\n"
   ]
  },
  {
   "cell_type": "code",
   "execution_count": null,
   "id": "30d2667a-4c13-4097-9287-b41c586cdee8",
   "metadata": {},
   "outputs": [],
   "source": []
  },
  {
   "cell_type": "code",
   "execution_count": 22,
   "id": "3f060da6-dc2c-44fa-a99a-da7bb92b89e3",
   "metadata": {},
   "outputs": [],
   "source": [
    "# clustering_graph = q1.subgraph(q1.component_labels[q1.component_labels == 25].index.values)\n",
    "# clustering_graph = clustering_graph.subgraph(clustering_graph.unique_ids[clustering_graph.unique_ids >= 0])\n",
    "# core_ids = clustering_graph.unique_ids"
   ]
  },
  {
   "cell_type": "code",
   "execution_count": null,
   "id": "66174554-4025-4ef2-b94e-566f957b76e8",
   "metadata": {},
   "outputs": [],
   "source": []
  },
  {
   "cell_type": "code",
   "execution_count": 23,
   "id": "f283e920-dcdc-436f-b4ee-bbfbc4d7bc9e",
   "metadata": {},
   "outputs": [],
   "source": [
    "training_data = X_train[X_train.index.isin(core_ids)]"
   ]
  },
  {
   "cell_type": "code",
   "execution_count": null,
   "id": "185ea153-7ce8-4488-bd56-890b9f21c98f",
   "metadata": {},
   "outputs": [],
   "source": []
  },
  {
   "cell_type": "code",
   "execution_count": null,
   "id": "e5b30ff9-fe24-42e9-b94d-0d4c15c77727",
   "metadata": {},
   "outputs": [],
   "source": []
  },
  {
   "cell_type": "code",
   "execution_count": null,
   "id": "8848209d-2e6d-4fc0-b89a-d660c149dd6c",
   "metadata": {},
   "outputs": [],
   "source": []
  },
  {
   "cell_type": "code",
   "execution_count": null,
   "id": "eef1bb50-88d3-4962-a558-f28baca7bddf",
   "metadata": {},
   "outputs": [],
   "source": []
  },
  {
   "cell_type": "code",
   "execution_count": null,
   "id": "23f88ad8-8d82-48e9-b17a-c3b0baeacc67",
   "metadata": {},
   "outputs": [],
   "source": []
  },
  {
   "cell_type": "code",
   "execution_count": 24,
   "id": "071c3bf9-f878-4e74-9758-c0504221e98a",
   "metadata": {},
   "outputs": [],
   "source": [
    "\n",
    "\n",
    "# training_data = training_data[[c for c in training_data.columns if '_' not in c]]\n"
   ]
  },
  {
   "cell_type": "code",
   "execution_count": 25,
   "id": "037b4752-f839-434d-ae12-de0e39f3254e",
   "metadata": {},
   "outputs": [],
   "source": [
    "# t1 = training_data[[c for c in training_data.columns if '_' not in c]]\n",
    "# t2 = training_data[[c for c in training_data.columns if '_median' in c]]\n",
    "\n",
    "# training_data = t1.join(t2)"
   ]
  },
  {
   "cell_type": "code",
   "execution_count": 26,
   "id": "41b52c0b-9cb7-4b62-8d26-5aa388aba9f6",
   "metadata": {},
   "outputs": [],
   "source": [
    "# training_data = X_train[X_train.index >=0]\n",
    "# clustering_graph = graph.subgraph(X_train.index)"
   ]
  },
  {
   "cell_type": "code",
   "execution_count": 27,
   "id": "e4a45525-224d-4351-95b7-26588ff97054",
   "metadata": {},
   "outputs": [
    {
     "data": {
      "text/plain": [
       "(166757, 116)"
      ]
     },
     "execution_count": 27,
     "metadata": {},
     "output_type": "execute_result"
    }
   ],
   "source": [
    "training_data.shape"
   ]
  },
  {
   "cell_type": "code",
   "execution_count": null,
   "id": "0872c9d9-617d-4b01-a0f8-46c6a164ad43",
   "metadata": {},
   "outputs": [],
   "source": []
  },
  {
   "cell_type": "code",
   "execution_count": 28,
   "id": "da6eb172-d94f-470c-a352-be000444e9ce",
   "metadata": {},
   "outputs": [],
   "source": [
    "vals = StandardScaler().fit_transform(training_data)\n",
    "training_data = pd.DataFrame(vals, columns=training_data.columns, index=training_data.index)\n",
    "\n",
    "vals = np.nan_to_num(training_data)\n",
    "training_data = pd.DataFrame(vals, columns=training_data.columns, index=training_data.index)\n",
    "\n",
    "stats = training_data.describe()\n",
    "training_data = training_data.drop(stats.columns[stats.loc['std'] == 0], axis=1)"
   ]
  },
  {
   "cell_type": "code",
   "execution_count": null,
   "id": "05703d49-dba9-432b-8d7f-81a52a0d89ff",
   "metadata": {},
   "outputs": [],
   "source": []
  },
  {
   "cell_type": "code",
   "execution_count": 29,
   "id": "b4f8c16c-bb62-4633-bc15-873c65680085",
   "metadata": {},
   "outputs": [
    {
     "name": "stdout",
     "output_type": "stream",
     "text": [
      "CPU times: user 5.85 s, sys: 168 ms, total: 6.02 s\n",
      "Wall time: 6.02 s\n"
     ]
    }
   ],
   "source": [
    "%%time\n",
    "clusterer = AgglomerativeClustering(\n",
    "    linkage='ward',\n",
    "    # metric='cityblock',\n",
    "                                                  \n",
    "    connectivity = clustering_graph.transform('B').sparse, \n",
    "    \n",
    "                                    # connectivity=q1.subgraph(X_train.index.values).transform('B').sparse, \n",
    "                                    compute_full_tree=True,\n",
    "                                    compute_distances=True)\n",
    "model = clusterer.fit(training_data)"
   ]
  },
  {
   "cell_type": "code",
   "execution_count": 30,
   "id": "f406f50b-ccf8-4ec6-ab6e-ecacd9024fa1",
   "metadata": {},
   "outputs": [],
   "source": [
    "linkage_matrix = get_linkage_matrix(model)"
   ]
  },
  {
   "cell_type": "code",
   "execution_count": 31,
   "id": "442954ce-e3dd-453b-9990-fef4638c9ffd",
   "metadata": {
    "scrolled": true
   },
   "outputs": [],
   "source": [
    "# fix, ax = plt.subplots(figsize=(40,40))\n",
    "# # Plot the corresponding dendrogram\n",
    "# _ = dendrogram(linkage_matrix, truncate_mode=\"level\", p=5, ax=ax)"
   ]
  },
  {
   "cell_type": "code",
   "execution_count": 32,
   "id": "1cfc303c-d456-4bce-9255-970689c173c9",
   "metadata": {},
   "outputs": [],
   "source": [
    "from sklearn.metrics import calinski_harabasz_score"
   ]
  },
  {
   "cell_type": "code",
   "execution_count": 33,
   "id": "c0f1c3d0-1712-473b-8475-cc74496aae5b",
   "metadata": {},
   "outputs": [],
   "source": [
    "tess_groups = generate_detailed_clusters(tessellation,\n",
    "                                         include_random_sample=False, path=val_path)\n",
    "tess_groups = tess_groups[tess_groups.index.isin(training_data.index)]\n",
    "tess_groups_ilocs = (\n",
    "    pd.Series(np.arange(len(training_data)), index=training_data.index)\n",
    "    .loc[tess_groups.index]\n",
    "    .values\n",
    ")"
   ]
  },
  {
   "cell_type": "code",
   "execution_count": null,
   "id": "f1ebd180-0ae1-4c05-93a2-6b7e2caa0897",
   "metadata": {},
   "outputs": [],
   "source": []
  },
  {
   "cell_type": "code",
   "execution_count": 39,
   "id": "f47a5ece-84fd-4201-901a-dd781e98d786",
   "metadata": {},
   "outputs": [],
   "source": [
    "first = linkage_matrix[0, 2]\n",
    "last = linkage_matrix[-1, 2]\n",
    "step = ((last / 2) - first) / 25"
   ]
  },
  {
   "cell_type": "code",
   "execution_count": null,
   "id": "81218236-a6b6-4d26-8421-76ac74c6a890",
   "metadata": {},
   "outputs": [],
   "source": []
  },
  {
   "cell_type": "code",
   "execution_count": 40,
   "id": "f26d27b8-628f-45ab-8aee-185c2e5177d8",
   "metadata": {},
   "outputs": [
    {
     "data": {
      "text/html": [
       "<div>\n",
       "<style scoped>\n",
       "    .dataframe tbody tr th:only-of-type {\n",
       "        vertical-align: middle;\n",
       "    }\n",
       "\n",
       "    .dataframe tbody tr th {\n",
       "        vertical-align: top;\n",
       "    }\n",
       "\n",
       "    .dataframe thead th {\n",
       "        text-align: right;\n",
       "    }\n",
       "</style>\n",
       "<table border=\"1\" class=\"dataframe\">\n",
       "  <thead>\n",
       "    <tr style=\"text-align: right;\">\n",
       "      <th></th>\n",
       "      <th>rand</th>\n",
       "      <th>ssplits</th>\n",
       "      <th>db_score</th>\n",
       "      <th>ch_score</th>\n",
       "    </tr>\n",
       "    <tr>\n",
       "      <th>cutoff</th>\n",
       "      <th></th>\n",
       "      <th></th>\n",
       "      <th></th>\n",
       "      <th></th>\n",
       "    </tr>\n",
       "  </thead>\n",
       "  <tbody>\n",
       "    <tr>\n",
       "      <th>29.981859</th>\n",
       "      <td>0.220838</td>\n",
       "      <td>0.576833</td>\n",
       "      <td>2.144485</td>\n",
       "      <td>123.598204</td>\n",
       "    </tr>\n",
       "    <tr>\n",
       "      <th>59.954852</th>\n",
       "      <td>0.609974</td>\n",
       "      <td>0.344879</td>\n",
       "      <td>2.812629</td>\n",
       "      <td>234.774847</td>\n",
       "    </tr>\n",
       "    <tr>\n",
       "      <th>89.927845</th>\n",
       "      <td>0.700391</td>\n",
       "      <td>0.248355</td>\n",
       "      <td>3.347573</td>\n",
       "      <td>350.050044</td>\n",
       "    </tr>\n",
       "    <tr>\n",
       "      <th>119.900837</th>\n",
       "      <td>0.719030</td>\n",
       "      <td>0.194840</td>\n",
       "      <td>3.765753</td>\n",
       "      <td>462.655120</td>\n",
       "    </tr>\n",
       "    <tr>\n",
       "      <th>149.873830</th>\n",
       "      <td>0.724277</td>\n",
       "      <td>0.158206</td>\n",
       "      <td>4.136961</td>\n",
       "      <td>581.961273</td>\n",
       "    </tr>\n",
       "    <tr>\n",
       "      <th>179.846823</th>\n",
       "      <td>0.670066</td>\n",
       "      <td>0.118982</td>\n",
       "      <td>4.384953</td>\n",
       "      <td>716.276781</td>\n",
       "    </tr>\n",
       "    <tr>\n",
       "      <th>209.819816</th>\n",
       "      <td>0.643042</td>\n",
       "      <td>0.089406</td>\n",
       "      <td>4.531738</td>\n",
       "      <td>875.259385</td>\n",
       "    </tr>\n",
       "    <tr>\n",
       "      <th>239.792808</th>\n",
       "      <td>0.442002</td>\n",
       "      <td>0.074246</td>\n",
       "      <td>4.491223</td>\n",
       "      <td>1055.223548</td>\n",
       "    </tr>\n",
       "    <tr>\n",
       "      <th>269.765801</th>\n",
       "      <td>0.225639</td>\n",
       "      <td>0.067116</td>\n",
       "      <td>4.519859</td>\n",
       "      <td>1226.104778</td>\n",
       "    </tr>\n",
       "    <tr>\n",
       "      <th>299.738794</th>\n",
       "      <td>0.215433</td>\n",
       "      <td>0.055416</td>\n",
       "      <td>4.866541</td>\n",
       "      <td>1485.162209</td>\n",
       "    </tr>\n",
       "    <tr>\n",
       "      <th>329.711786</th>\n",
       "      <td>0.195755</td>\n",
       "      <td>0.053971</td>\n",
       "      <td>4.876367</td>\n",
       "      <td>1620.090265</td>\n",
       "    </tr>\n",
       "    <tr>\n",
       "      <th>359.684779</th>\n",
       "      <td>0.189117</td>\n",
       "      <td>0.053635</td>\n",
       "      <td>4.869901</td>\n",
       "      <td>1646.185408</td>\n",
       "    </tr>\n",
       "    <tr>\n",
       "      <th>389.657772</th>\n",
       "      <td>0.168445</td>\n",
       "      <td>0.046103</td>\n",
       "      <td>4.951859</td>\n",
       "      <td>1818.517952</td>\n",
       "    </tr>\n",
       "    <tr>\n",
       "      <th>419.630765</th>\n",
       "      <td>0.132214</td>\n",
       "      <td>0.040904</td>\n",
       "      <td>4.861729</td>\n",
       "      <td>1926.429602</td>\n",
       "    </tr>\n",
       "    <tr>\n",
       "      <th>449.603757</th>\n",
       "      <td>0.076581</td>\n",
       "      <td>0.035513</td>\n",
       "      <td>5.486239</td>\n",
       "      <td>2378.859537</td>\n",
       "    </tr>\n",
       "    <tr>\n",
       "      <th>479.576750</th>\n",
       "      <td>0.076581</td>\n",
       "      <td>0.035183</td>\n",
       "      <td>5.127770</td>\n",
       "      <td>2466.239215</td>\n",
       "    </tr>\n",
       "    <tr>\n",
       "      <th>509.549743</th>\n",
       "      <td>0.076581</td>\n",
       "      <td>0.035039</td>\n",
       "      <td>5.541800</td>\n",
       "      <td>2555.682757</td>\n",
       "    </tr>\n",
       "    <tr>\n",
       "      <th>539.522735</th>\n",
       "      <td>0.076581</td>\n",
       "      <td>0.032916</td>\n",
       "      <td>5.893742</td>\n",
       "      <td>2650.284986</td>\n",
       "    </tr>\n",
       "    <tr>\n",
       "      <th>569.495728</th>\n",
       "      <td>0.057124</td>\n",
       "      <td>0.026937</td>\n",
       "      <td>5.828289</td>\n",
       "      <td>3041.543336</td>\n",
       "    </tr>\n",
       "    <tr>\n",
       "      <th>599.468721</th>\n",
       "      <td>0.030495</td>\n",
       "      <td>0.023675</td>\n",
       "      <td>3.241001</td>\n",
       "      <td>5423.670253</td>\n",
       "    </tr>\n",
       "    <tr>\n",
       "      <th>629.441714</th>\n",
       "      <td>0.030495</td>\n",
       "      <td>0.023675</td>\n",
       "      <td>3.241001</td>\n",
       "      <td>5423.670253</td>\n",
       "    </tr>\n",
       "    <tr>\n",
       "      <th>659.414706</th>\n",
       "      <td>0.030495</td>\n",
       "      <td>0.023675</td>\n",
       "      <td>3.241001</td>\n",
       "      <td>5423.670253</td>\n",
       "    </tr>\n",
       "    <tr>\n",
       "      <th>689.387699</th>\n",
       "      <td>0.030495</td>\n",
       "      <td>0.023675</td>\n",
       "      <td>3.241001</td>\n",
       "      <td>5423.670253</td>\n",
       "    </tr>\n",
       "    <tr>\n",
       "      <th>719.360692</th>\n",
       "      <td>0.029399</td>\n",
       "      <td>0.017253</td>\n",
       "      <td>2.017711</td>\n",
       "      <td>6844.986750</td>\n",
       "    </tr>\n",
       "    <tr>\n",
       "      <th>749.333684</th>\n",
       "      <td>0.029399</td>\n",
       "      <td>0.017253</td>\n",
       "      <td>2.017711</td>\n",
       "      <td>6844.986750</td>\n",
       "    </tr>\n",
       "  </tbody>\n",
       "</table>\n",
       "</div>"
      ],
      "text/plain": [
       "                rand   ssplits  db_score     ch_score\n",
       "cutoff                                               \n",
       "29.981859   0.220838  0.576833  2.144485   123.598204\n",
       "59.954852   0.609974  0.344879  2.812629   234.774847\n",
       "89.927845   0.700391  0.248355  3.347573   350.050044\n",
       "119.900837  0.719030  0.194840  3.765753   462.655120\n",
       "149.873830  0.724277  0.158206  4.136961   581.961273\n",
       "179.846823  0.670066  0.118982  4.384953   716.276781\n",
       "209.819816  0.643042  0.089406  4.531738   875.259385\n",
       "239.792808  0.442002  0.074246  4.491223  1055.223548\n",
       "269.765801  0.225639  0.067116  4.519859  1226.104778\n",
       "299.738794  0.215433  0.055416  4.866541  1485.162209\n",
       "329.711786  0.195755  0.053971  4.876367  1620.090265\n",
       "359.684779  0.189117  0.053635  4.869901  1646.185408\n",
       "389.657772  0.168445  0.046103  4.951859  1818.517952\n",
       "419.630765  0.132214  0.040904  4.861729  1926.429602\n",
       "449.603757  0.076581  0.035513  5.486239  2378.859537\n",
       "479.576750  0.076581  0.035183  5.127770  2466.239215\n",
       "509.549743  0.076581  0.035039  5.541800  2555.682757\n",
       "539.522735  0.076581  0.032916  5.893742  2650.284986\n",
       "569.495728  0.057124  0.026937  5.828289  3041.543336\n",
       "599.468721  0.030495  0.023675  3.241001  5423.670253\n",
       "629.441714  0.030495  0.023675  3.241001  5423.670253\n",
       "659.414706  0.030495  0.023675  3.241001  5423.670253\n",
       "689.387699  0.030495  0.023675  3.241001  5423.670253\n",
       "719.360692  0.029399  0.017253  2.017711  6844.986750\n",
       "749.333684  0.029399  0.017253  2.017711  6844.986750"
      ]
     },
     "execution_count": 40,
     "metadata": {},
     "output_type": "execute_result"
    }
   ],
   "source": [
    "res = []\n",
    "i = 0\n",
    "for i in range(0, 25):\n",
    "\n",
    "    t = first + step *  (i + 1)\n",
    "    if t >= linkage_matrix[-1, 2]:\n",
    "        break\n",
    "    \n",
    "    r = fcluster(linkage_matrix, t=t, criterion='distance')\n",
    "    r = pd.Series(r, index=training_data.index)\n",
    "    ssplits = clustering_graph.describe(r, statistics=['nunique'])['nunique']\n",
    "\n",
    "    res.append((t,\n",
    "          adjusted_rand_score(tess_groups.values, r.iloc[tess_groups_ilocs]),\n",
    "          (ssplits > 1).sum() / ssplits.shape[0],\n",
    "          davies_bouldin_score(training_data, r),\n",
    "          calinski_harabasz_score(training_data, r)\n",
    "         ))\n",
    "pd.DataFrame(res, columns = ['cutoff', 'rand', 'ssplits', 'db_score', 'ch_score']).set_index('cutoff')"
   ]
  },
  {
   "cell_type": "code",
   "execution_count": 41,
   "id": "a5d11a1e-0d5b-46cf-ad3a-90e4a2d0b22c",
   "metadata": {},
   "outputs": [],
   "source": [
    "# res = []\n",
    "# for t in range(5, 25, 1):\n",
    "\n",
    "#     if t >= linkage_matrix[-1, 2]:\n",
    "#         break\n",
    "    \n",
    "#     r = fcluster(linkage_matrix, t=t, criterion='distance')\n",
    "#     r = pd.Series(r, index=training_data.index)\n",
    "#     ssplits = clustering_graph.describe(r, statistics=['nunique'])['nunique']\n",
    "\n",
    "#     res.append((t,\n",
    "#           adjusted_rand_score(tess_groups.values, r.iloc[tess_groups_ilocs]),\n",
    "#           (ssplits > 1).sum() / ssplits.shape[0],\n",
    "#           davies_bouldin_score(training_data, r),\n",
    "#           calinski_harabasz_score(training_data, r)\n",
    "#          ))\n",
    "# pd.DataFrame(res, columns = ['cutoff', 'rand', 'ssplits', 'db_score', 'ch_score']).set_index('cutoff')"
   ]
  },
  {
   "cell_type": "code",
   "execution_count": 42,
   "id": "f1aeac3f-7e47-4c47-8024-5690c419104f",
   "metadata": {},
   "outputs": [],
   "source": [
    "# try hdbscan extraction\n",
    "from fast_hdbscan.boruvka import parallel_boruvka\n",
    "from fast_hdbscan.cluster_trees import (\n",
    "    cluster_tree_from_condensed_tree,\n",
    "    condense_tree,\n",
    "    extract_eom_clusters,\n",
    "    get_cluster_label_vector,\n",
    "    mst_to_linkage_tree,\n",
    ")\n",
    "from fast_hdbscan.numba_kdtree import kdtree_to_numba\n",
    "from sklearn.neighbors import KDTree"
   ]
  },
  {
   "cell_type": "code",
   "execution_count": 43,
   "id": "7980bb91-f65a-4c5e-9872-d3db8fe15ffe",
   "metadata": {},
   "outputs": [
    {
     "data": {
      "text/html": [
       "<div>\n",
       "<style scoped>\n",
       "    .dataframe tbody tr th:only-of-type {\n",
       "        vertical-align: middle;\n",
       "    }\n",
       "\n",
       "    .dataframe tbody tr th {\n",
       "        vertical-align: top;\n",
       "    }\n",
       "\n",
       "    .dataframe thead th {\n",
       "        text-align: right;\n",
       "    }\n",
       "</style>\n",
       "<table border=\"1\" class=\"dataframe\">\n",
       "  <thead>\n",
       "    <tr style=\"text-align: right;\">\n",
       "      <th></th>\n",
       "      <th>rand</th>\n",
       "      <th>ssplits</th>\n",
       "      <th>db_score</th>\n",
       "      <th>ch_score</th>\n",
       "    </tr>\n",
       "    <tr>\n",
       "      <th>min__cluster_size</th>\n",
       "      <th></th>\n",
       "      <th></th>\n",
       "      <th></th>\n",
       "      <th></th>\n",
       "    </tr>\n",
       "  </thead>\n",
       "  <tbody>\n",
       "    <tr>\n",
       "      <th>25</th>\n",
       "      <td>0.148596</td>\n",
       "      <td>0.595207</td>\n",
       "      <td>2.631420</td>\n",
       "      <td>98.268423</td>\n",
       "    </tr>\n",
       "    <tr>\n",
       "      <th>50</th>\n",
       "      <td>0.279296</td>\n",
       "      <td>0.449348</td>\n",
       "      <td>3.044453</td>\n",
       "      <td>146.940300</td>\n",
       "    </tr>\n",
       "    <tr>\n",
       "      <th>75</th>\n",
       "      <td>0.446116</td>\n",
       "      <td>0.372758</td>\n",
       "      <td>3.378543</td>\n",
       "      <td>183.212403</td>\n",
       "    </tr>\n",
       "    <tr>\n",
       "      <th>100</th>\n",
       "      <td>0.591954</td>\n",
       "      <td>0.320418</td>\n",
       "      <td>3.701492</td>\n",
       "      <td>208.361446</td>\n",
       "    </tr>\n",
       "    <tr>\n",
       "      <th>125</th>\n",
       "      <td>0.649312</td>\n",
       "      <td>0.291730</td>\n",
       "      <td>3.929779</td>\n",
       "      <td>237.298292</td>\n",
       "    </tr>\n",
       "    <tr>\n",
       "      <th>150</th>\n",
       "      <td>0.658785</td>\n",
       "      <td>0.270250</td>\n",
       "      <td>4.111265</td>\n",
       "      <td>258.105748</td>\n",
       "    </tr>\n",
       "    <tr>\n",
       "      <th>175</th>\n",
       "      <td>0.684083</td>\n",
       "      <td>0.255132</td>\n",
       "      <td>4.252063</td>\n",
       "      <td>282.042930</td>\n",
       "    </tr>\n",
       "    <tr>\n",
       "      <th>200</th>\n",
       "      <td>0.677755</td>\n",
       "      <td>0.240260</td>\n",
       "      <td>4.418596</td>\n",
       "      <td>302.713988</td>\n",
       "    </tr>\n",
       "    <tr>\n",
       "      <th>225</th>\n",
       "      <td>0.689985</td>\n",
       "      <td>0.228260</td>\n",
       "      <td>4.548840</td>\n",
       "      <td>325.966880</td>\n",
       "    </tr>\n",
       "    <tr>\n",
       "      <th>250</th>\n",
       "      <td>0.707020</td>\n",
       "      <td>0.218228</td>\n",
       "      <td>4.659881</td>\n",
       "      <td>352.290649</td>\n",
       "    </tr>\n",
       "    <tr>\n",
       "      <th>275</th>\n",
       "      <td>0.693354</td>\n",
       "      <td>0.211158</td>\n",
       "      <td>4.862892</td>\n",
       "      <td>365.561645</td>\n",
       "    </tr>\n",
       "    <tr>\n",
       "      <th>300</th>\n",
       "      <td>0.695566</td>\n",
       "      <td>0.198097</td>\n",
       "      <td>4.933576</td>\n",
       "      <td>385.212350</td>\n",
       "    </tr>\n",
       "    <tr>\n",
       "      <th>325</th>\n",
       "      <td>0.704764</td>\n",
       "      <td>0.185857</td>\n",
       "      <td>5.095216</td>\n",
       "      <td>418.128768</td>\n",
       "    </tr>\n",
       "    <tr>\n",
       "      <th>350</th>\n",
       "      <td>0.695160</td>\n",
       "      <td>0.181767</td>\n",
       "      <td>5.208534</td>\n",
       "      <td>422.090240</td>\n",
       "    </tr>\n",
       "    <tr>\n",
       "      <th>375</th>\n",
       "      <td>0.620373</td>\n",
       "      <td>0.177234</td>\n",
       "      <td>5.312985</td>\n",
       "      <td>439.447573</td>\n",
       "    </tr>\n",
       "    <tr>\n",
       "      <th>400</th>\n",
       "      <td>0.610114</td>\n",
       "      <td>0.177372</td>\n",
       "      <td>5.411288</td>\n",
       "      <td>447.132857</td>\n",
       "    </tr>\n",
       "    <tr>\n",
       "      <th>425</th>\n",
       "      <td>0.610288</td>\n",
       "      <td>0.169396</td>\n",
       "      <td>5.454997</td>\n",
       "      <td>457.875764</td>\n",
       "    </tr>\n",
       "    <tr>\n",
       "      <th>450</th>\n",
       "      <td>0.644643</td>\n",
       "      <td>0.166446</td>\n",
       "      <td>5.488208</td>\n",
       "      <td>474.403733</td>\n",
       "    </tr>\n",
       "    <tr>\n",
       "      <th>475</th>\n",
       "      <td>0.648163</td>\n",
       "      <td>0.160389</td>\n",
       "      <td>5.548756</td>\n",
       "      <td>488.942437</td>\n",
       "    </tr>\n",
       "  </tbody>\n",
       "</table>\n",
       "</div>"
      ],
      "text/plain": [
       "                       rand   ssplits  db_score    ch_score\n",
       "min__cluster_size                                          \n",
       "25                 0.148596  0.595207  2.631420   98.268423\n",
       "50                 0.279296  0.449348  3.044453  146.940300\n",
       "75                 0.446116  0.372758  3.378543  183.212403\n",
       "100                0.591954  0.320418  3.701492  208.361446\n",
       "125                0.649312  0.291730  3.929779  237.298292\n",
       "150                0.658785  0.270250  4.111265  258.105748\n",
       "175                0.684083  0.255132  4.252063  282.042930\n",
       "200                0.677755  0.240260  4.418596  302.713988\n",
       "225                0.689985  0.228260  4.548840  325.966880\n",
       "250                0.707020  0.218228  4.659881  352.290649\n",
       "275                0.693354  0.211158  4.862892  365.561645\n",
       "300                0.695566  0.198097  4.933576  385.212350\n",
       "325                0.704764  0.185857  5.095216  418.128768\n",
       "350                0.695160  0.181767  5.208534  422.090240\n",
       "375                0.620373  0.177234  5.312985  439.447573\n",
       "400                0.610114  0.177372  5.411288  447.132857\n",
       "425                0.610288  0.169396  5.454997  457.875764\n",
       "450                0.644643  0.166446  5.488208  474.403733\n",
       "475                0.648163  0.160389  5.548756  488.942437"
      ]
     },
     "execution_count": 43,
     "metadata": {},
     "output_type": "execute_result"
    }
   ],
   "source": [
    "res = []\n",
    "\n",
    "for min_cluster_size in range(25, 500, 25):\n",
    "\n",
    "\n",
    "    condensed_tree = condense_tree(linkage_matrix, \n",
    "                                   min_cluster_size=min_cluster_size)\n",
    "    cluster_tree = cluster_tree_from_condensed_tree(condensed_tree)\n",
    "    selected_clusters = extract_eom_clusters(\n",
    "        condensed_tree, cluster_tree, allow_single_cluster=False\n",
    "    )\n",
    "    r = get_cluster_label_vector(condensed_tree, selected_clusters, 0)\n",
    "\n",
    "\n",
    "    r = pd.Series(r, index=training_data.index)\n",
    "    ssplits = clustering_graph.describe(r, statistics=['nunique'])['nunique']\n",
    "\n",
    "    res.append((min_cluster_size,\n",
    "          adjusted_rand_score(tess_groups.values, r.iloc[tess_groups_ilocs]),\n",
    "          (ssplits > 1).sum() / ssplits.shape[0],\n",
    "          davies_bouldin_score(training_data, r),\n",
    "          calinski_harabasz_score(training_data, r)\n",
    "         ))\n",
    "\n",
    "pd.DataFrame(res, columns = ['min__cluster_size', 'rand', 'ssplits', 'db_score', 'ch_score']).set_index('min__cluster_size')"
   ]
  },
  {
   "cell_type": "code",
   "execution_count": null,
   "id": "b2139127-55d2-4fae-95cf-b76e614cdb94",
   "metadata": {},
   "outputs": [],
   "source": []
  },
  {
   "cell_type": "code",
   "execution_count": 44,
   "id": "d32d6d94-ca5f-4811-9657-94d968dc4f49",
   "metadata": {},
   "outputs": [],
   "source": [
    "condensed_tree = condense_tree(linkage_matrix, \n",
    "                               min_cluster_size=275)\n",
    "cluster_tree = cluster_tree_from_condensed_tree(condensed_tree)\n",
    "selected_clusters = extract_eom_clusters(\n",
    "    condensed_tree, cluster_tree, allow_single_cluster=False\n",
    ")\n",
    "clusters = get_cluster_label_vector(condensed_tree, selected_clusters, 0)"
   ]
  },
  {
   "cell_type": "code",
   "execution_count": null,
   "id": "e9347a1b-efd8-42e1-be62-2805a79e0af3",
   "metadata": {},
   "outputs": [],
   "source": []
  },
  {
   "cell_type": "code",
   "execution_count": 45,
   "id": "8eccffeb-a185-4c49-8e17-11e2cf6adaab",
   "metadata": {},
   "outputs": [],
   "source": [
    "plotting = tessellation.loc[training_data.index].reset_index()"
   ]
  },
  {
   "cell_type": "code",
   "execution_count": null,
   "id": "5b50f565-c843-4382-92d5-3781522b26c5",
   "metadata": {},
   "outputs": [],
   "source": []
  },
  {
   "cell_type": "code",
   "execution_count": null,
   "id": "e03cadcf-7b97-4728-8532-e8ca3262247f",
   "metadata": {},
   "outputs": [],
   "source": []
  },
  {
   "cell_type": "code",
   "execution_count": 46,
   "id": "f29f4b98-effa-431c-9d91-c0a372034d72",
   "metadata": {},
   "outputs": [
    {
     "name": "stderr",
     "output_type": "stream",
     "text": [
      "/home/krasen/miniconda3/envs/urban_taxonomy/lib/python3.12/site-packages/lonboard/_geoarrow/ops/reproject.py:97: UserWarning: Input being reprojected to EPSG:4326 CRS\n",
      "  warnings.warn(\"Input being reprojected to EPSG:4326 CRS\")\n"
     ]
    },
    {
     "name": "stdout",
     "output_type": "stream",
     "text": [
      "CPU times: user 2.92 s, sys: 248 ms, total: 3.16 s\n",
      "Wall time: 3.16 s\n"
     ]
    }
   ],
   "source": [
    "%%time\n",
    "import lonboard\n",
    "# plotting = tessellation[tessellation.index.isin(X_train.index)].copy()\n",
    "layer = lonboard.SolidPolygonLayer.from_geopandas(plotting, opacity=.08)"
   ]
  },
  {
   "cell_type": "code",
   "execution_count": 47,
   "id": "b05c20be-dbd5-4dd9-aff0-a013c206cd1a",
   "metadata": {},
   "outputs": [],
   "source": [
    "from sidecar import Sidecar\n",
    "sc = Sidecar(title='Clusters')\n",
    "m = lonboard.Map(layer, basemap_style=lonboard.basemap.CartoBasemap.Positron)\n",
    "with sc:\n",
    "    display(m)"
   ]
  },
  {
   "cell_type": "code",
   "execution_count": 48,
   "id": "fee4023b-700f-4129-a87a-6860401f5044",
   "metadata": {},
   "outputs": [],
   "source": [
    "from core.cluster_validation import get_color"
   ]
  },
  {
   "cell_type": "code",
   "execution_count": null,
   "id": "0bb3e9a7-dc02-49e5-a178-2ff77bb0f125",
   "metadata": {},
   "outputs": [],
   "source": []
  },
  {
   "cell_type": "code",
   "execution_count": null,
   "id": "90ad7974-cb0f-4c59-a6ea-9a37b9270344",
   "metadata": {},
   "outputs": [],
   "source": []
  },
  {
   "cell_type": "code",
   "execution_count": 49,
   "id": "a75a2b4c-7dff-48fa-b2a2-1581b3e2869e",
   "metadata": {},
   "outputs": [],
   "source": [
    "clusters = fcluster(linkage_matrix, t=100, criterion='distance')"
   ]
  },
  {
   "cell_type": "code",
   "execution_count": 54,
   "id": "eb966ce3-3fbc-4f8e-b1db-fb7e9f35a0ea",
   "metadata": {},
   "outputs": [],
   "source": [
    "\n",
    "\n",
    "condensed_tree = condense_tree(linkage_matrix, \n",
    "                               min_cluster_size=100)\n",
    "cluster_tree = cluster_tree_from_condensed_tree(condensed_tree)\n",
    "selected_clusters = extract_eom_clusters(\n",
    "    condensed_tree, cluster_tree, allow_single_cluster=False\n",
    ")\n",
    "clusters = get_cluster_label_vector(condensed_tree, selected_clusters, 0)"
   ]
  },
  {
   "cell_type": "code",
   "execution_count": 55,
   "id": "61ff965b-5a73-4ff1-ab4f-0557ce929c83",
   "metadata": {},
   "outputs": [],
   "source": [
    "# np.unique(clusters, return_counts=True)"
   ]
  },
  {
   "cell_type": "code",
   "execution_count": 56,
   "id": "961f94c0-f15b-45f9-95a1-a9ef0a953fa4",
   "metadata": {},
   "outputs": [],
   "source": [
    "layer.get_fill_color = get_color(clusters)"
   ]
  },
  {
   "cell_type": "code",
   "execution_count": null,
   "id": "61b07ad8-1f01-48df-9b5e-53f063beeb81",
   "metadata": {},
   "outputs": [],
   "source": []
  },
  {
   "cell_type": "code",
   "execution_count": 57,
   "id": "b420bdcb-7aee-46f3-acbb-f7f522f5a507",
   "metadata": {},
   "outputs": [],
   "source": [
    "from scipy.cluster.hierarchy import inconsistent"
   ]
  },
  {
   "cell_type": "code",
   "execution_count": 58,
   "id": "a54b0992-74e0-4329-a2ee-e13d007cca44",
   "metadata": {},
   "outputs": [
    {
     "name": "stdout",
     "output_type": "stream",
     "text": [
      "CPU times: user 141 ms, sys: 12 μs, total: 141 ms\n",
      "Wall time: 141 ms\n"
     ]
    }
   ],
   "source": [
    "%%time\n",
    "inc = inconsistent(linkage_matrix, d=10)"
   ]
  },
  {
   "cell_type": "code",
   "execution_count": 70,
   "id": "11646d5b-6b4f-4804-bcc9-2d2ab63bf0c5",
   "metadata": {},
   "outputs": [
    {
     "data": {
      "text/plain": [
       "(array([154210, 154515, 155511, ..., 166753, 166754, 166755]),)"
      ]
     },
     "execution_count": 70,
     "metadata": {},
     "output_type": "execute_result"
    }
   ],
   "source": [
    "np.where(inc[:, 3] > 5)"
   ]
  },
  {
   "cell_type": "code",
   "execution_count": null,
   "id": "295dfad6-1538-41ba-9740-ee53e1b6823b",
   "metadata": {},
   "outputs": [],
   "source": []
  },
  {
   "cell_type": "code",
   "execution_count": null,
   "id": "3b550b64-dea8-47dc-984a-358b72f81a8a",
   "metadata": {},
   "outputs": [],
   "source": []
  },
  {
   "cell_type": "code",
   "execution_count": null,
   "id": "b3743fa4-c39f-4234-99f4-d486edf5b169",
   "metadata": {},
   "outputs": [],
   "source": []
  },
  {
   "cell_type": "code",
   "execution_count": null,
   "id": "9b962115-4363-45d0-8d4d-4fbfe55720d8",
   "metadata": {},
   "outputs": [],
   "source": []
  },
  {
   "cell_type": "code",
   "execution_count": 158,
   "id": "d88e2599-d240-4ba3-a9a0-2ba3eeae577f",
   "metadata": {},
   "outputs": [],
   "source": [
    "new_data = training_data.groupby(clusters).mean()"
   ]
  },
  {
   "cell_type": "code",
   "execution_count": null,
   "id": "d17ba27e-8a10-4e29-bd01-bd42beb9ba36",
   "metadata": {},
   "outputs": [],
   "source": []
  },
  {
   "cell_type": "code",
   "execution_count": null,
   "id": "c0dacf9d-fe2b-4c4d-bfbb-8b120532f1ee",
   "metadata": {},
   "outputs": [],
   "source": []
  },
  {
   "cell_type": "code",
   "execution_count": null,
   "id": "14e8b91d-97ce-4dcc-be50-5cdf48332fba",
   "metadata": {},
   "outputs": [],
   "source": []
  },
  {
   "cell_type": "code",
   "execution_count": null,
   "id": "3b1403d2-bec1-46cc-bff1-8f3e530090f3",
   "metadata": {},
   "outputs": [],
   "source": []
  },
  {
   "cell_type": "code",
   "execution_count": null,
   "id": "b3c3768b-3783-4f5b-99ce-a25a9b909499",
   "metadata": {},
   "outputs": [],
   "source": []
  },
  {
   "cell_type": "code",
   "execution_count": null,
   "id": "5f15698a-c3fa-41dd-813b-674260f344fc",
   "metadata": {},
   "outputs": [],
   "source": []
  },
  {
   "cell_type": "code",
   "execution_count": 157,
   "id": "71346b78-0433-44d3-80e3-12026a039376",
   "metadata": {},
   "outputs": [],
   "source": [
    "from core.cluster_validation import get_feature_importance\n",
    "from core.utils import used_keys"
   ]
  },
  {
   "cell_type": "code",
   "execution_count": 69,
   "id": "6d8860fb-400e-4a47-b7fb-03dc87f297e2",
   "metadata": {},
   "outputs": [],
   "source": [
    "clusters_subset = [11597, 11615, 17742]\n",
    "clusters_subset = np.where(np.isin(clusters, clusters[clusters_subset]))"
   ]
  },
  {
   "cell_type": "code",
   "execution_count": 70,
   "id": "0d28e68d-f339-4b1a-9016-be114fd64e29",
   "metadata": {},
   "outputs": [
    {
     "name": "stderr",
     "output_type": "stream",
     "text": [
      "[Parallel(n_jobs=-1)]: Using backend ThreadingBackend with 20 concurrent workers.\n",
      "[Parallel(n_jobs=-1)]: Done   4 out of  10 | elapsed:    0.0s remaining:    0.0s\n",
      "[Parallel(n_jobs=-1)]: Done  10 out of  10 | elapsed:    0.0s finished\n",
      "[Parallel(n_jobs=-1)]: Using backend ThreadingBackend with 20 concurrent workers.\n",
      "[Parallel(n_jobs=-1)]: Done   4 out of  10 | elapsed:    0.0s remaining:    0.0s\n",
      "[Parallel(n_jobs=-1)]: Done  10 out of  10 | elapsed:    0.0s finished\n",
      "[Parallel(n_jobs=-1)]: Using backend ThreadingBackend with 20 concurrent workers.\n",
      "[Parallel(n_jobs=-1)]: Done   4 out of  10 | elapsed:    0.0s remaining:    0.0s\n",
      "[Parallel(n_jobs=-1)]: Done  10 out of  10 | elapsed:    0.0s finished\n"
     ]
    }
   ],
   "source": [
    "imps = get_feature_importance(training_data.iloc[clusters_subset], clusters[clusters_subset])"
   ]
  },
  {
   "cell_type": "code",
   "execution_count": 72,
   "id": "bf8ce8b9-93cc-4b54-87fe-244a7c346f1c",
   "metadata": {},
   "outputs": [
    {
     "data": {
      "text/html": [
       "<div>\n",
       "<style scoped>\n",
       "    .dataframe tbody tr th:only-of-type {\n",
       "        vertical-align: middle;\n",
       "    }\n",
       "\n",
       "    .dataframe tbody tr th {\n",
       "        vertical-align: top;\n",
       "    }\n",
       "\n",
       "    .dataframe thead th {\n",
       "        text-align: right;\n",
       "    }\n",
       "</style>\n",
       "<table border=\"1\" class=\"dataframe\">\n",
       "  <thead>\n",
       "    <tr style=\"text-align: right;\">\n",
       "      <th></th>\n",
       "      <th>cluster_48</th>\n",
       "      <th>cluster_66</th>\n",
       "      <th>cluster_69</th>\n",
       "    </tr>\n",
       "  </thead>\n",
       "  <tbody>\n",
       "    <tr>\n",
       "      <th>0</th>\n",
       "      <td>linWID_higher</td>\n",
       "      <td>lcdMes_higher</td>\n",
       "      <td>ssbCCD_lower</td>\n",
       "    </tr>\n",
       "    <tr>\n",
       "      <th>1</th>\n",
       "      <td>ldsMSL_lower</td>\n",
       "      <td>linPDE</td>\n",
       "      <td>ltkOri_lower</td>\n",
       "    </tr>\n",
       "    <tr>\n",
       "      <th>2</th>\n",
       "      <td>lddNDe</td>\n",
       "      <td>linP3W_higher</td>\n",
       "      <td>ssbSqu_lower</td>\n",
       "    </tr>\n",
       "    <tr>\n",
       "      <th>3</th>\n",
       "      <td>ltkOri_lower</td>\n",
       "      <td>mtbAli_median</td>\n",
       "      <td>lcdMes_median</td>\n",
       "    </tr>\n",
       "    <tr>\n",
       "      <th>4</th>\n",
       "      <td>ldsMSL</td>\n",
       "      <td>lskCWA_lower</td>\n",
       "      <td>linWID_higher</td>\n",
       "    </tr>\n",
       "    <tr>\n",
       "      <th>5</th>\n",
       "      <td>ldsMSL_median</td>\n",
       "      <td>lskERI_median</td>\n",
       "      <td>sicCAR_lower</td>\n",
       "    </tr>\n",
       "    <tr>\n",
       "      <th>6</th>\n",
       "      <td>midRea_median</td>\n",
       "      <td>ltkWNB_median</td>\n",
       "      <td>lskCWA_lower</td>\n",
       "    </tr>\n",
       "    <tr>\n",
       "      <th>7</th>\n",
       "      <td>ldkAre_higher</td>\n",
       "      <td>linWID_lower</td>\n",
       "      <td>stcOri_lower</td>\n",
       "    </tr>\n",
       "    <tr>\n",
       "      <th>8</th>\n",
       "      <td>lskCCo_lower</td>\n",
       "      <td>mtbNDi_higher</td>\n",
       "      <td>ssbSqu_median</td>\n",
       "    </tr>\n",
       "    <tr>\n",
       "      <th>9</th>\n",
       "      <td>ssbCCD_lower</td>\n",
       "      <td>linPDE_lower</td>\n",
       "      <td>sdcLAL_median</td>\n",
       "    </tr>\n",
       "    <tr>\n",
       "      <th>10</th>\n",
       "      <td>ssbERI_median</td>\n",
       "      <td>ltkOri_lower</td>\n",
       "      <td>ldsAre_median</td>\n",
       "    </tr>\n",
       "  </tbody>\n",
       "</table>\n",
       "</div>"
      ],
      "text/plain": [
       "       cluster_48     cluster_66     cluster_69\n",
       "0   linWID_higher  lcdMes_higher   ssbCCD_lower\n",
       "1    ldsMSL_lower         linPDE   ltkOri_lower\n",
       "2          lddNDe  linP3W_higher   ssbSqu_lower\n",
       "3    ltkOri_lower  mtbAli_median  lcdMes_median\n",
       "4          ldsMSL   lskCWA_lower  linWID_higher\n",
       "5   ldsMSL_median  lskERI_median   sicCAR_lower\n",
       "6   midRea_median  ltkWNB_median   lskCWA_lower\n",
       "7   ldkAre_higher   linWID_lower   stcOri_lower\n",
       "8    lskCCo_lower  mtbNDi_higher  ssbSqu_median\n",
       "9    ssbCCD_lower   linPDE_lower  sdcLAL_median\n",
       "10  ssbERI_median   ltkOri_lower  ldsAre_median"
      ]
     },
     "execution_count": 72,
     "metadata": {},
     "output_type": "execute_result"
    }
   ],
   "source": [
    "imps.loc[:10, [c for c in imps.columns if '_vals' not in c]]"
   ]
  },
  {
   "cell_type": "code",
   "execution_count": 77,
   "id": "fb80f949-43c9-456b-b4ad-b5b4a9959faa",
   "metadata": {},
   "outputs": [
    {
     "data": {
      "text/plain": [
       "'orientation of enclosure'"
      ]
     },
     "execution_count": 77,
     "metadata": {},
     "output_type": "execute_result"
    }
   ],
   "source": [
    "used_keys['ltkOri']"
   ]
  },
  {
   "cell_type": "code",
   "execution_count": null,
   "id": "9d6116ca-2828-4e44-a02c-ae262c74e428",
   "metadata": {},
   "outputs": [],
   "source": []
  },
  {
   "cell_type": "code",
   "execution_count": 112,
   "id": "eee39b96-26c5-4be0-a581-a554e797530a",
   "metadata": {},
   "outputs": [
    {
     "name": "stderr",
     "output_type": "stream",
     "text": [
      "[Parallel(n_jobs=-1)]: Using backend ThreadingBackend with 20 concurrent workers.\n",
      "[Parallel(n_jobs=-1)]: Done   4 out of  10 | elapsed:    0.2s remaining:    0.3s\n",
      "[Parallel(n_jobs=-1)]: Done  10 out of  10 | elapsed:    0.3s finished\n",
      "[Parallel(n_jobs=-1)]: Using backend ThreadingBackend with 20 concurrent workers.\n",
      "[Parallel(n_jobs=-1)]: Done   4 out of  10 | elapsed:    0.2s remaining:    0.3s\n",
      "[Parallel(n_jobs=-1)]: Done  10 out of  10 | elapsed:    0.3s finished\n",
      "[Parallel(n_jobs=-1)]: Using backend ThreadingBackend with 20 concurrent workers.\n",
      "[Parallel(n_jobs=-1)]: Done   4 out of  10 | elapsed:    0.2s remaining:    0.3s\n",
      "[Parallel(n_jobs=-1)]: Done  10 out of  10 | elapsed:    0.3s finished\n",
      "[Parallel(n_jobs=-1)]: Using backend ThreadingBackend with 20 concurrent workers.\n",
      "[Parallel(n_jobs=-1)]: Done   4 out of  10 | elapsed:    0.2s remaining:    0.3s\n",
      "[Parallel(n_jobs=-1)]: Done  10 out of  10 | elapsed:    0.2s finished\n",
      "[Parallel(n_jobs=-1)]: Using backend ThreadingBackend with 20 concurrent workers.\n",
      "[Parallel(n_jobs=-1)]: Done   4 out of  10 | elapsed:    0.1s remaining:    0.1s\n",
      "[Parallel(n_jobs=-1)]: Done  10 out of  10 | elapsed:    0.2s finished\n",
      "[Parallel(n_jobs=-1)]: Using backend ThreadingBackend with 20 concurrent workers.\n",
      "[Parallel(n_jobs=-1)]: Done   4 out of  10 | elapsed:    0.1s remaining:    0.2s\n",
      "[Parallel(n_jobs=-1)]: Done  10 out of  10 | elapsed:    0.2s finished\n",
      "[Parallel(n_jobs=-1)]: Using backend ThreadingBackend with 20 concurrent workers.\n",
      "[Parallel(n_jobs=-1)]: Done   4 out of  10 | elapsed:    0.2s remaining:    0.3s\n",
      "[Parallel(n_jobs=-1)]: Done  10 out of  10 | elapsed:    0.3s finished\n"
     ]
    }
   ],
   "source": [
    "imps = get_feature_importance(training_data, clusters)"
   ]
  },
  {
   "cell_type": "code",
   "execution_count": 119,
   "id": "4c135008-6c31-4a81-aef9-d9073043440c",
   "metadata": {},
   "outputs": [
    {
     "data": {
      "text/html": [
       "<div>\n",
       "<style scoped>\n",
       "    .dataframe tbody tr th:only-of-type {\n",
       "        vertical-align: middle;\n",
       "    }\n",
       "\n",
       "    .dataframe tbody tr th {\n",
       "        vertical-align: top;\n",
       "    }\n",
       "\n",
       "    .dataframe thead th {\n",
       "        text-align: right;\n",
       "    }\n",
       "</style>\n",
       "<table border=\"1\" class=\"dataframe\">\n",
       "  <thead>\n",
       "    <tr style=\"text-align: right;\">\n",
       "      <th></th>\n",
       "      <th>cluster_1</th>\n",
       "      <th>cluster_2</th>\n",
       "      <th>cluster_3</th>\n",
       "      <th>cluster_4</th>\n",
       "      <th>cluster_5</th>\n",
       "      <th>cluster_6</th>\n",
       "      <th>cluster_7</th>\n",
       "    </tr>\n",
       "  </thead>\n",
       "  <tbody>\n",
       "    <tr>\n",
       "      <th>0</th>\n",
       "      <td>ldkPer</td>\n",
       "      <td>lcdMes</td>\n",
       "      <td>libNCo</td>\n",
       "      <td>lskCWA</td>\n",
       "      <td>ldsAre</td>\n",
       "      <td>ltkWNB</td>\n",
       "      <td>likWBB</td>\n",
       "    </tr>\n",
       "    <tr>\n",
       "      <th>1</th>\n",
       "      <td>ltkWNB</td>\n",
       "      <td>likWBB</td>\n",
       "      <td>likWBB</td>\n",
       "      <td>likWBB</td>\n",
       "      <td>midAre</td>\n",
       "      <td>ldkPer</td>\n",
       "      <td>lcdMes</td>\n",
       "    </tr>\n",
       "    <tr>\n",
       "      <th>2</th>\n",
       "      <td>lskCCo</td>\n",
       "      <td>ltkWNB</td>\n",
       "      <td>sdsSPO</td>\n",
       "      <td>ltkWNB</td>\n",
       "      <td>ltkOri</td>\n",
       "      <td>lskCCo</td>\n",
       "      <td>ltkWNB</td>\n",
       "    </tr>\n",
       "    <tr>\n",
       "      <th>3</th>\n",
       "      <td>ltkOri</td>\n",
       "      <td>lskERI</td>\n",
       "      <td>ldbPWL</td>\n",
       "      <td>lskCCo</td>\n",
       "      <td>linP4W</td>\n",
       "      <td>lskCWA</td>\n",
       "      <td>linWID</td>\n",
       "    </tr>\n",
       "    <tr>\n",
       "      <th>4</th>\n",
       "      <td>lskCWA</td>\n",
       "      <td>lskCWA</td>\n",
       "      <td>ltcBuA</td>\n",
       "      <td>ldkAre</td>\n",
       "      <td>sdsSPO</td>\n",
       "      <td>ltkOri</td>\n",
       "      <td>ltkOri</td>\n",
       "    </tr>\n",
       "    <tr>\n",
       "      <th>5</th>\n",
       "      <td>ldkAre</td>\n",
       "      <td>ldkAre</td>\n",
       "      <td>sicCAR</td>\n",
       "      <td>lskERI</td>\n",
       "      <td>ldsMSL</td>\n",
       "      <td>likWBB</td>\n",
       "      <td>lskCWA</td>\n",
       "    </tr>\n",
       "    <tr>\n",
       "      <th>6</th>\n",
       "      <td>likWBB</td>\n",
       "      <td>linP4W</td>\n",
       "      <td>mtbSWR</td>\n",
       "      <td>ldsAre</td>\n",
       "      <td>lddNDe</td>\n",
       "      <td>ldkAre</td>\n",
       "      <td>ldkAre</td>\n",
       "    </tr>\n",
       "    <tr>\n",
       "      <th>7</th>\n",
       "      <td>lcdMes</td>\n",
       "      <td>ldkPer</td>\n",
       "      <td>ssbSqu</td>\n",
       "      <td>lddNDe</td>\n",
       "      <td>lcdMes</td>\n",
       "      <td>lskERI</td>\n",
       "      <td>lddNDe</td>\n",
       "    </tr>\n",
       "    <tr>\n",
       "      <th>8</th>\n",
       "      <td>lskERI</td>\n",
       "      <td>ltkOri</td>\n",
       "      <td>lskERI</td>\n",
       "      <td>midRea</td>\n",
       "      <td>ldkPer</td>\n",
       "      <td>linP3W</td>\n",
       "      <td>linP3W</td>\n",
       "    </tr>\n",
       "    <tr>\n",
       "      <th>9</th>\n",
       "      <td>linP4W</td>\n",
       "      <td>linPDE</td>\n",
       "      <td>sdbPer</td>\n",
       "      <td>linPDE</td>\n",
       "      <td>likWBB</td>\n",
       "      <td>ldsAre</td>\n",
       "      <td>lcnClo</td>\n",
       "    </tr>\n",
       "    <tr>\n",
       "      <th>10</th>\n",
       "      <td>lddNDe</td>\n",
       "      <td>linWID</td>\n",
       "      <td>linWID</td>\n",
       "      <td>lcdMes</td>\n",
       "      <td>lcnClo</td>\n",
       "      <td>ldsMSL</td>\n",
       "      <td>linP4W</td>\n",
       "    </tr>\n",
       "  </tbody>\n",
       "</table>\n",
       "</div>"
      ],
      "text/plain": [
       "   cluster_1 cluster_2 cluster_3 cluster_4 cluster_5 cluster_6 cluster_7\n",
       "0     ldkPer    lcdMes    libNCo    lskCWA    ldsAre    ltkWNB    likWBB\n",
       "1     ltkWNB    likWBB    likWBB    likWBB    midAre    ldkPer    lcdMes\n",
       "2     lskCCo    ltkWNB    sdsSPO    ltkWNB    ltkOri    lskCCo    ltkWNB\n",
       "3     ltkOri    lskERI    ldbPWL    lskCCo    linP4W    lskCWA    linWID\n",
       "4     lskCWA    lskCWA    ltcBuA    ldkAre    sdsSPO    ltkOri    ltkOri\n",
       "5     ldkAre    ldkAre    sicCAR    lskERI    ldsMSL    likWBB    lskCWA\n",
       "6     likWBB    linP4W    mtbSWR    ldsAre    lddNDe    ldkAre    ldkAre\n",
       "7     lcdMes    ldkPer    ssbSqu    lddNDe    lcdMes    lskERI    lddNDe\n",
       "8     lskERI    ltkOri    lskERI    midRea    ldkPer    linP3W    linP3W\n",
       "9     linP4W    linPDE    sdbPer    linPDE    likWBB    ldsAre    lcnClo\n",
       "10    lddNDe    linWID    linWID    lcdMes    lcnClo    ldsMSL    linP4W"
      ]
     },
     "execution_count": 119,
     "metadata": {},
     "output_type": "execute_result"
    }
   ],
   "source": [
    "imps.loc[:10, [c for c in imps.columns if '_vals' not in c]]"
   ]
  },
  {
   "cell_type": "code",
   "execution_count": 122,
   "id": "b3e2d707-034b-48be-a3f7-f8bebbd14a0f",
   "metadata": {},
   "outputs": [
    {
     "data": {
      "text/plain": [
       "'local meshedness of street network'"
      ]
     },
     "execution_count": 122,
     "metadata": {},
     "output_type": "execute_result"
    }
   ],
   "source": [
    "used_keys['lcdMes']"
   ]
  },
  {
   "cell_type": "code",
   "execution_count": null,
   "id": "e93cd730-4d6f-494f-9117-c2bdcf3ac210",
   "metadata": {},
   "outputs": [],
   "source": []
  },
  {
   "cell_type": "code",
   "execution_count": null,
   "id": "eb14824c-db39-472a-bbbc-a4d893f5fe42",
   "metadata": {},
   "outputs": [],
   "source": [
    "imps[[c for c in imps.columns if '_vals' in c]].cumsum(axis=1)"
   ]
  },
  {
   "cell_type": "code",
   "execution_count": null,
   "id": "d005c80f-b861-46cb-8a43-5910bb858c5a",
   "metadata": {},
   "outputs": [],
   "source": []
  },
  {
   "cell_type": "code",
   "execution_count": 96,
   "id": "21392a66-dcda-453d-b9be-b1f9ee6015ef",
   "metadata": {},
   "outputs": [],
   "source": [
    "josefov_joins = []\n",
    "\n",
    "josefov_joins.append(np.isin(linkage_matrix[:, 0], \n",
    "                             tess_groups_ilocs[tess_groups == 'josefov']))\n",
    "josefov_joins.append(np.isin(linkage_matrix[:, 1], \n",
    "                             tess_groups_ilocs[tess_groups == 'josefov']))\n"
   ]
  },
  {
   "cell_type": "code",
   "execution_count": 97,
   "id": "14469f0c-4f78-40f0-abd4-77fd9975b2c9",
   "metadata": {},
   "outputs": [],
   "source": [
    "indxs = linkage_matrix[josefov_joins[0] | josefov_joins[1]]\n",
    "indxs = np.union1d(indxs[:, 0], indxs[:, 1])\n",
    "indxs = indxs[indxs <= X_train.shape[0]]"
   ]
  },
  {
   "cell_type": "code",
   "execution_count": null,
   "id": "54863167-d4e0-4562-85c8-6851dc05a1f8",
   "metadata": {},
   "outputs": [],
   "source": []
  },
  {
   "cell_type": "code",
   "execution_count": 150,
   "id": "0d5a7a7d-75da-43ed-b22a-fa5a1eb59b60",
   "metadata": {},
   "outputs": [
    {
     "data": {
      "text/plain": [
       "(64349,)"
      ]
     },
     "execution_count": 150,
     "metadata": {},
     "output_type": "execute_result"
    }
   ],
   "source": [
    "indxs = linkage_matrix[linkage_matrix[:, 2] <= 2]\n",
    "indxs = np.union1d(indxs[:, 0], indxs[:, 1])\n",
    "indxs = indxs[indxs < X_train.shape[0]]\n",
    "indxs.shape"
   ]
  },
  {
   "cell_type": "code",
   "execution_count": null,
   "id": "310c222c-00ec-4ef1-8a0f-886df8364014",
   "metadata": {},
   "outputs": [],
   "source": []
  },
  {
   "cell_type": "code",
   "execution_count": 151,
   "id": "86becb8b-dc9c-456e-a20c-36eb51ece788",
   "metadata": {},
   "outputs": [],
   "source": [
    "plotting = tessellation.loc[X_train.iloc[indxs].index]"
   ]
  },
  {
   "cell_type": "code",
   "execution_count": null,
   "id": "4bab627c-e715-402f-896e-17b0fb61f903",
   "metadata": {},
   "outputs": [],
   "source": []
  },
  {
   "cell_type": "code",
   "execution_count": null,
   "id": "fa888c90-3403-44ce-8827-7e4ba84d7f1c",
   "metadata": {},
   "outputs": [],
   "source": []
  },
  {
   "cell_type": "code",
   "execution_count": 42,
   "id": "b19f7491-1fcb-46d9-947a-685179486a1a",
   "metadata": {},
   "outputs": [],
   "source": [
    "cluster_means = training_data.groupby(clusters).mean()"
   ]
  },
  {
   "cell_type": "code",
   "execution_count": 68,
   "id": "9944fca0-b07b-4a30-915f-49bef2180d89",
   "metadata": {},
   "outputs": [
    {
     "data": {
      "text/plain": [
       "libNCo           6.284668\n",
       "libNCo_median    5.846288\n",
       "libNCo_higher    4.233946\n",
       "linPDE_higher    3.014914\n",
       "linPDE           2.122206\n",
       "                   ...   \n",
       "lcnClo          -1.414220\n",
       "linWID_lower    -1.422183\n",
       "linP3W          -1.489277\n",
       "lcnClo_lower    -1.702326\n",
       "linP3W_lower    -2.339139\n",
       "Length: 248, dtype: float64"
      ]
     },
     "execution_count": 68,
     "metadata": {},
     "output_type": "execute_result"
    }
   ],
   "source": [
    "c1 = 6\n",
    "c2 = 10\n",
    "\n",
    "(cluster_means.loc[c1] - cluster_means.loc[c2]).sort_values(ascending=False)"
   ]
  },
  {
   "cell_type": "code",
   "execution_count": null,
   "id": "dabe2bac-ba6d-498a-91c2-763fc47787e2",
   "metadata": {},
   "outputs": [],
   "source": []
  },
  {
   "cell_type": "code",
   "execution_count": 72,
   "id": "b41b8ddc-b723-424d-9d52-1eefad87d9d4",
   "metadata": {},
   "outputs": [
    {
     "data": {
      "text/plain": [
       "'number of courtyards within adjacent buildings'"
      ]
     },
     "execution_count": 72,
     "metadata": {},
     "output_type": "execute_result"
    }
   ],
   "source": [
    "from core.utils import used_keys\n",
    "used_keys['libNCo']"
   ]
  },
  {
   "cell_type": "code",
   "execution_count": null,
   "id": "e91e770f-7792-45bd-ab1b-9d3be57a9a46",
   "metadata": {},
   "outputs": [],
   "source": []
  },
  {
   "cell_type": "code",
   "execution_count": 169,
   "id": "c0338ef7-0e1d-4fff-a3c0-6eeb7deb78be",
   "metadata": {},
   "outputs": [],
   "source": [
    "bgraph = read_parquet(graph_dir + f\"building_graph_{region_id}_knn1.parquet\")"
   ]
  },
  {
   "cell_type": "code",
   "execution_count": null,
   "id": "abab3092-9f9c-489a-a821-4e6f3f3a20ad",
   "metadata": {},
   "outputs": [],
   "source": []
  },
  {
   "cell_type": "code",
   "execution_count": 170,
   "id": "582afdc3-004b-4fdc-af07-3efa3923f29a",
   "metadata": {},
   "outputs": [],
   "source": [
    "buildings_dir = '/data/uscuni-ulce/processed_data/buildings/'\n",
    "\n",
    "buildings = gpd.read_parquet(\n",
    "        buildings_dir + f\"buildings_{region_id}.parquet\"\n",
    "\n",
    ")"
   ]
  },
  {
   "cell_type": "code",
   "execution_count": 178,
   "id": "5dd9b3a3-6288-4d75-9f22-c7b5e3735dc2",
   "metadata": {},
   "outputs": [
    {
     "data": {
      "text/html": [
       "<div>\n",
       "<style scoped>\n",
       "    .dataframe tbody tr th:only-of-type {\n",
       "        vertical-align: middle;\n",
       "    }\n",
       "\n",
       "    .dataframe tbody tr th {\n",
       "        vertical-align: top;\n",
       "    }\n",
       "\n",
       "    .dataframe thead th {\n",
       "        text-align: right;\n",
       "    }\n",
       "</style>\n",
       "<table border=\"1\" class=\"dataframe\">\n",
       "  <thead>\n",
       "    <tr style=\"text-align: right;\">\n",
       "      <th></th>\n",
       "      <th>index</th>\n",
       "      <th>id</th>\n",
       "      <th>geometry</th>\n",
       "    </tr>\n",
       "  </thead>\n",
       "  <tbody>\n",
       "    <tr>\n",
       "      <th>0</th>\n",
       "      <td>0</td>\n",
       "      <td>v0.1-CZE.12.2_1-35164</td>\n",
       "      <td>POLYGON ((4614847.626 2975218.938, 4614848.235...</td>\n",
       "    </tr>\n",
       "    <tr>\n",
       "      <th>1</th>\n",
       "      <td>1</td>\n",
       "      <td>v0.1-CZE.12.2_1-35123</td>\n",
       "      <td>POLYGON ((4615276.357 2976034.184, 4615282.866...</td>\n",
       "    </tr>\n",
       "    <tr>\n",
       "      <th>2</th>\n",
       "      <td>2</td>\n",
       "      <td>v0.1-CZE.12.2_1-35159</td>\n",
       "      <td>POLYGON ((4615315.503 2975986.2, 4615322.056 2...</td>\n",
       "    </tr>\n",
       "    <tr>\n",
       "      <th>3</th>\n",
       "      <td>3</td>\n",
       "      <td>v0.1-CZE.12.2_1-35166</td>\n",
       "      <td>POLYGON ((4615222.339 2976016.91, 4615224.582 ...</td>\n",
       "    </tr>\n",
       "    <tr>\n",
       "      <th>4</th>\n",
       "      <td>4</td>\n",
       "      <td>v0.1-CZE.12.2_1-35228</td>\n",
       "      <td>POLYGON ((4615300.348 2975924.258, 4615301.6 2...</td>\n",
       "    </tr>\n",
       "    <tr>\n",
       "      <th>...</th>\n",
       "      <td>...</td>\n",
       "      <td>...</td>\n",
       "      <td>...</td>\n",
       "    </tr>\n",
       "    <tr>\n",
       "      <th>299059</th>\n",
       "      <td>299060</td>\n",
       "      <td>v0.1-CZE.13.3_1-13696</td>\n",
       "      <td>POLYGON ((4618611.169 3033535.197, 4618623.01 ...</td>\n",
       "    </tr>\n",
       "    <tr>\n",
       "      <th>299060</th>\n",
       "      <td>299061</td>\n",
       "      <td>v0.1-CZE.13.3_1-13674</td>\n",
       "      <td>POLYGON ((4618611.989 3033568.153, 4618617.119...</td>\n",
       "    </tr>\n",
       "    <tr>\n",
       "      <th>299061</th>\n",
       "      <td>299062</td>\n",
       "      <td>v0.1-CZE.13.3_1-13591</td>\n",
       "      <td>POLYGON ((4618614.831 3033550.704, 4618628.289...</td>\n",
       "    </tr>\n",
       "    <tr>\n",
       "      <th>299062</th>\n",
       "      <td>299063</td>\n",
       "      <td>v0.1-CZE.13.3_1-13328</td>\n",
       "      <td>POLYGON ((4618625.628 3033512.926, 4618625.634...</td>\n",
       "    </tr>\n",
       "    <tr>\n",
       "      <th>299063</th>\n",
       "      <td>299064</td>\n",
       "      <td>v0.1-CZE.13.3_1-13274</td>\n",
       "      <td>POLYGON ((4618626.778 3033536.657, 4618639.273...</td>\n",
       "    </tr>\n",
       "  </tbody>\n",
       "</table>\n",
       "<p>299064 rows × 3 columns</p>\n",
       "</div>"
      ],
      "text/plain": [
       "         index                     id  \\\n",
       "0            0  v0.1-CZE.12.2_1-35164   \n",
       "1            1  v0.1-CZE.12.2_1-35123   \n",
       "2            2  v0.1-CZE.12.2_1-35159   \n",
       "3            3  v0.1-CZE.12.2_1-35166   \n",
       "4            4  v0.1-CZE.12.2_1-35228   \n",
       "...        ...                    ...   \n",
       "299059  299060  v0.1-CZE.13.3_1-13696   \n",
       "299060  299061  v0.1-CZE.13.3_1-13674   \n",
       "299061  299062  v0.1-CZE.13.3_1-13591   \n",
       "299062  299063  v0.1-CZE.13.3_1-13328   \n",
       "299063  299064  v0.1-CZE.13.3_1-13274   \n",
       "\n",
       "                                                 geometry  \n",
       "0       POLYGON ((4614847.626 2975218.938, 4614848.235...  \n",
       "1       POLYGON ((4615276.357 2976034.184, 4615282.866...  \n",
       "2       POLYGON ((4615315.503 2975986.2, 4615322.056 2...  \n",
       "3       POLYGON ((4615222.339 2976016.91, 4615224.582 ...  \n",
       "4       POLYGON ((4615300.348 2975924.258, 4615301.6 2...  \n",
       "...                                                   ...  \n",
       "299059  POLYGON ((4618611.169 3033535.197, 4618623.01 ...  \n",
       "299060  POLYGON ((4618611.989 3033568.153, 4618617.119...  \n",
       "299061  POLYGON ((4618614.831 3033550.704, 4618628.289...  \n",
       "299062  POLYGON ((4618625.628 3033512.926, 4618625.634...  \n",
       "299063  POLYGON ((4618626.778 3033536.657, 4618639.273...  \n",
       "\n",
       "[299064 rows x 3 columns]"
      ]
     },
     "execution_count": 178,
     "metadata": {},
     "output_type": "execute_result"
    }
   ],
   "source": [
    "buildings"
   ]
  },
  {
   "cell_type": "code",
   "execution_count": 181,
   "id": "db4cfe8e-981b-46e8-b5f8-77921796b24d",
   "metadata": {},
   "outputs": [],
   "source": [
    "buildings = buildings.join(X_train, how='inner').drop(['index', 'id'], axis=1)"
   ]
  },
  {
   "cell_type": "code",
   "execution_count": 185,
   "id": "a31ba1cc-2215-4a75-aa41-0f231a088767",
   "metadata": {},
   "outputs": [],
   "source": [
    "r = buildings.dissolve(bgraph.component_labels, aggfunc='mean')"
   ]
  },
  {
   "cell_type": "code",
   "execution_count": null,
   "id": "510d60c7-1246-4443-bcf5-035443758834",
   "metadata": {},
   "outputs": [],
   "source": []
  },
  {
   "cell_type": "code",
   "execution_count": null,
   "id": "b7c4e037-1f60-4f45-a9fd-0c2c424b7dec",
   "metadata": {},
   "outputs": [],
   "source": []
  },
  {
   "cell_type": "code",
   "execution_count": 189,
   "id": "64abb917-335d-4470-917a-481a25ec52da",
   "metadata": {},
   "outputs": [],
   "source": [
    "plotting = r"
   ]
  },
  {
   "cell_type": "code",
   "execution_count": null,
   "id": "bf263880-e575-4fbe-9681-10f3b18b6367",
   "metadata": {},
   "outputs": [],
   "source": []
  },
  {
   "cell_type": "code",
   "execution_count": 190,
   "id": "83b9116b-b1ae-45b3-b3bc-729a6508fdb9",
   "metadata": {},
   "outputs": [
    {
     "name": "stderr",
     "output_type": "stream",
     "text": [
      "/home/krasen/miniconda3/envs/urban_taxonomy/lib/python3.12/site-packages/lonboard/_geoarrow/ops/reproject.py:97: UserWarning: Input being reprojected to EPSG:4326 CRS\n",
      "  warnings.warn(\"Input being reprojected to EPSG:4326 CRS\")\n"
     ]
    },
    {
     "name": "stdout",
     "output_type": "stream",
     "text": [
      "CPU times: user 1.65 s, sys: 178 ms, total: 1.83 s\n",
      "Wall time: 1.82 s\n"
     ]
    }
   ],
   "source": [
    "%%time\n",
    "import lonboard\n",
    "# plotting = tessellation[tessellation.index.isin(X_train.index)].copy()\n",
    "layer = lonboard.PolygonLayer.from_geopandas(plotting, opacity=.08)"
   ]
  },
  {
   "cell_type": "code",
   "execution_count": 191,
   "id": "d14ee3bb-7c15-4321-9b96-0347856be753",
   "metadata": {},
   "outputs": [],
   "source": [
    "from sidecar import Sidecar\n",
    "sc = Sidecar(title='Clusters')\n",
    "m = lonboard.Map(layer, basemap_style=lonboard.basemap.CartoBasemap.Positron)\n",
    "with sc:\n",
    "    display(m)"
   ]
  },
  {
   "cell_type": "code",
   "execution_count": 156,
   "id": "fbdc7563-5157-4182-88c3-19cddba1459f",
   "metadata": {},
   "outputs": [],
   "source": [
    "enclosures = gpd.read_parquet(f\"/data/uscuni-ulce/processed_data/enclosures/enclosure_{region_id}.parquet\")\n",
    "encl_counts = tessellation.groupby('enclosure_index').count()\n",
    "encl_counts.columns = ['tessellation']\n",
    "enclosures['lieWCe'] = encl_counts['tessellation'] / enclosures.geometry.area"
   ]
  },
  {
   "cell_type": "code",
   "execution_count": 250,
   "id": "9afbb203-a3e5-451e-9cbf-643a4c0d9e70",
   "metadata": {},
   "outputs": [
    {
     "data": {
      "text/plain": [
       "7        0.000325\n",
       "8        0.000224\n",
       "11       0.000030\n",
       "12       0.000122\n",
       "14       0.000638\n",
       "           ...   \n",
       "25157    0.000100\n",
       "25158    0.000029\n",
       "25159    0.000101\n",
       "25160    0.000399\n",
       "25161    0.000081\n",
       "Length: 15958, dtype: float64"
      ]
     },
     "execution_count": 250,
     "metadata": {},
     "output_type": "execute_result"
    }
   ],
   "source": []
  },
  {
   "cell_type": "code",
   "execution_count": 251,
   "id": "17921c05-3d10-4bb9-9c05-6ff78d3dc47c",
   "metadata": {},
   "outputs": [
    {
     "data": {
      "text/plain": [
       "7        0.000325\n",
       "8        0.000224\n",
       "11       0.000030\n",
       "12       0.000122\n",
       "14       0.000638\n",
       "           ...   \n",
       "25157    0.000100\n",
       "25158    0.000029\n",
       "25159    0.000101\n",
       "25160    0.000399\n",
       "25161    0.000081\n",
       "Name: lieWCe, Length: 15958, dtype: float64"
      ]
     },
     "execution_count": 251,
     "metadata": {},
     "output_type": "execute_result"
    }
   ],
   "source": [
    "enclosures['lieWCe'] "
   ]
  },
  {
   "cell_type": "code",
   "execution_count": 164,
   "id": "d75e2414-21c2-4c7c-a53f-91445c7f50e9",
   "metadata": {},
   "outputs": [
    {
     "data": {
      "text/plain": [
       "enclosure_index\n",
       "7        199\n",
       "8         52\n",
       "11         1\n",
       "12        25\n",
       "14       962\n",
       "        ... \n",
       "25157      9\n",
       "25158      1\n",
       "25159     13\n",
       "25160     15\n",
       "25161      3\n",
       "Name: tessellation, Length: 15935, dtype: int64"
      ]
     },
     "execution_count": 164,
     "metadata": {},
     "output_type": "execute_result"
    }
   ],
   "source": [
    "encl_counts['tessellation']"
   ]
  },
  {
   "cell_type": "code",
   "execution_count": null,
   "id": "2c10070e-7e08-494a-8559-34a5a90bef28",
   "metadata": {},
   "outputs": [],
   "source": []
  },
  {
   "cell_type": "code",
   "execution_count": null,
   "id": "d906ec5c-6102-4c77-b66a-855e0f7a9784",
   "metadata": {},
   "outputs": [],
   "source": []
  },
  {
   "cell_type": "code",
   "execution_count": null,
   "id": "ec7997a6-17b2-418d-84ee-ac6b1b044b57",
   "metadata": {},
   "outputs": [],
   "source": [
    "# Measure weighted cells within enclosure\n",
    "merged = enclosures[['eID', 'ldeAre']].merge(encl_counts[['tessellation']], how='left', on='eID')\n",
    "enclosures['lieWCe'] = merged['tessellation'] / merged['ldeAre']"
   ]
  },
  {
   "cell_type": "code",
   "execution_count": null,
   "id": "88b6f9b9-86de-4780-993c-e9b0b2c70747",
   "metadata": {},
   "outputs": [],
   "source": []
  },
  {
   "cell_type": "code",
   "execution_count": null,
   "id": "b652b5e7-d152-4908-9c6a-f26ab7d6c50e",
   "metadata": {},
   "outputs": [],
   "source": []
  },
  {
   "cell_type": "code",
   "execution_count": null,
   "id": "1884266f-f0fc-42fb-9c12-944b58218a49",
   "metadata": {},
   "outputs": [],
   "source": []
  },
  {
   "cell_type": "code",
   "execution_count": null,
   "id": "27d63c8b-9606-48d5-944e-5e7ce4f2a8c9",
   "metadata": {},
   "outputs": [],
   "source": []
  },
  {
   "cell_type": "code",
   "execution_count": 1,
   "id": "4d79d5d6-4154-4309-8288-cc75d0e8e900",
   "metadata": {},
   "outputs": [],
   "source": [
    "import geopandas as gpd"
   ]
  },
  {
   "cell_type": "code",
   "execution_count": 11,
   "id": "10bd8ae3-c854-4ef6-ba58-d0d09a13a677",
   "metadata": {},
   "outputs": [
    {
     "data": {
      "text/html": [
       "<div>\n",
       "<style scoped>\n",
       "    .dataframe tbody tr th:only-of-type {\n",
       "        vertical-align: middle;\n",
       "    }\n",
       "\n",
       "    .dataframe tbody tr th {\n",
       "        vertical-align: top;\n",
       "    }\n",
       "\n",
       "    .dataframe thead th {\n",
       "        text-align: right;\n",
       "    }\n",
       "</style>\n",
       "<table border=\"1\" class=\"dataframe\">\n",
       "  <thead>\n",
       "    <tr style=\"text-align: right;\">\n",
       "      <th></th>\n",
       "      <th>gml_id</th>\n",
       "      <th>identifier</th>\n",
       "      <th>oid</th>\n",
       "      <th>aktualit</th>\n",
       "      <th>gebnutzbez</th>\n",
       "      <th>funktion</th>\n",
       "      <th>gfkzshh</th>\n",
       "      <th>gmdschl</th>\n",
       "      <th>lagebeztxt</th>\n",
       "      <th>name</th>\n",
       "      <th>rellage</th>\n",
       "      <th>geometry</th>\n",
       "    </tr>\n",
       "  </thead>\n",
       "  <tbody>\n",
       "    <tr>\n",
       "      <th>0</th>\n",
       "      <td>DEMVAL040000ACAEBL</td>\n",
       "      <td>urn:adv:oid:DEMVAL040000ACAEBL</td>\n",
       "      <td>DEMVAL040000ACAEBL</td>\n",
       "      <td>2014-11-04Z</td>\n",
       "      <td>Gebäude</td>\n",
       "      <td>Wohngebäude mit Handel und Dienstleistungen</td>\n",
       "      <td>31001_1120</td>\n",
       "      <td>13004000</td>\n",
       "      <td>None</td>\n",
       "      <td>None</td>\n",
       "      <td>None</td>\n",
       "      <td>MULTIPOLYGON (((33263213.163 5948562.945, 3326...</td>\n",
       "    </tr>\n",
       "    <tr>\n",
       "      <th>1</th>\n",
       "      <td>DEMVAL040000ACAdBL</td>\n",
       "      <td>urn:adv:oid:DEMVAL040000ACAdBL</td>\n",
       "      <td>DEMVAL040000ACAdBL</td>\n",
       "      <td>2014-11-04Z</td>\n",
       "      <td>Gebäude</td>\n",
       "      <td>Wohngebäude mit Handel und Dienstleistungen</td>\n",
       "      <td>31001_1120</td>\n",
       "      <td>13004000</td>\n",
       "      <td>Lindenstr. 7</td>\n",
       "      <td>None</td>\n",
       "      <td>None</td>\n",
       "      <td>MULTIPOLYGON (((33263198.96 5948568.636, 33263...</td>\n",
       "    </tr>\n",
       "    <tr>\n",
       "      <th>2</th>\n",
       "      <td>DEMVAL040000ACAjBL</td>\n",
       "      <td>urn:adv:oid:DEMVAL040000ACAjBL</td>\n",
       "      <td>DEMVAL040000ACAjBL</td>\n",
       "      <td>2014-11-04Z</td>\n",
       "      <td>Gebäude</td>\n",
       "      <td>Schuppen</td>\n",
       "      <td>31001_2723</td>\n",
       "      <td>13004000</td>\n",
       "      <td>None</td>\n",
       "      <td>None</td>\n",
       "      <td>None</td>\n",
       "      <td>MULTIPOLYGON (((33263207.634 5948544.851, 3326...</td>\n",
       "    </tr>\n",
       "    <tr>\n",
       "      <th>3</th>\n",
       "      <td>DEMVAL040000ACApBL</td>\n",
       "      <td>urn:adv:oid:DEMVAL040000ACApBL</td>\n",
       "      <td>DEMVAL040000ACApBL</td>\n",
       "      <td>2014-11-04Z</td>\n",
       "      <td>Gebäude</td>\n",
       "      <td>Garage</td>\n",
       "      <td>31001_2463</td>\n",
       "      <td>13004000</td>\n",
       "      <td>None</td>\n",
       "      <td>None</td>\n",
       "      <td>None</td>\n",
       "      <td>MULTIPOLYGON (((33263213.625 5948581.535, 3326...</td>\n",
       "    </tr>\n",
       "    <tr>\n",
       "      <th>4</th>\n",
       "      <td>DEMVAL040000ACAuBL</td>\n",
       "      <td>urn:adv:oid:DEMVAL040000ACAuBL</td>\n",
       "      <td>DEMVAL040000ACAuBL</td>\n",
       "      <td>2014-11-04Z</td>\n",
       "      <td>Gebäude</td>\n",
       "      <td>Schuppen</td>\n",
       "      <td>31001_2723</td>\n",
       "      <td>13004000</td>\n",
       "      <td>None</td>\n",
       "      <td>None</td>\n",
       "      <td>None</td>\n",
       "      <td>MULTIPOLYGON (((33263212.119 5948542.451, 3326...</td>\n",
       "    </tr>\n",
       "  </tbody>\n",
       "</table>\n",
       "</div>"
      ],
      "text/plain": [
       "               gml_id                      identifier                 oid  \\\n",
       "0  DEMVAL040000ACAEBL  urn:adv:oid:DEMVAL040000ACAEBL  DEMVAL040000ACAEBL   \n",
       "1  DEMVAL040000ACAdBL  urn:adv:oid:DEMVAL040000ACAdBL  DEMVAL040000ACAdBL   \n",
       "2  DEMVAL040000ACAjBL  urn:adv:oid:DEMVAL040000ACAjBL  DEMVAL040000ACAjBL   \n",
       "3  DEMVAL040000ACApBL  urn:adv:oid:DEMVAL040000ACApBL  DEMVAL040000ACApBL   \n",
       "4  DEMVAL040000ACAuBL  urn:adv:oid:DEMVAL040000ACAuBL  DEMVAL040000ACAuBL   \n",
       "\n",
       "      aktualit gebnutzbez                                     funktion  \\\n",
       "0  2014-11-04Z    Gebäude  Wohngebäude mit Handel und Dienstleistungen   \n",
       "1  2014-11-04Z    Gebäude  Wohngebäude mit Handel und Dienstleistungen   \n",
       "2  2014-11-04Z    Gebäude                                     Schuppen   \n",
       "3  2014-11-04Z    Gebäude                                       Garage   \n",
       "4  2014-11-04Z    Gebäude                                     Schuppen   \n",
       "\n",
       "      gfkzshh   gmdschl    lagebeztxt  name rellage  \\\n",
       "0  31001_1120  13004000          None  None    None   \n",
       "1  31001_1120  13004000  Lindenstr. 7  None    None   \n",
       "2  31001_2723  13004000          None  None    None   \n",
       "3  31001_2463  13004000          None  None    None   \n",
       "4  31001_2723  13004000          None  None    None   \n",
       "\n",
       "                                            geometry  \n",
       "0  MULTIPOLYGON (((33263213.163 5948562.945, 3326...  \n",
       "1  MULTIPOLYGON (((33263198.96 5948568.636, 33263...  \n",
       "2  MULTIPOLYGON (((33263207.634 5948544.851, 3326...  \n",
       "3  MULTIPOLYGON (((33263213.625 5948581.535, 3326...  \n",
       "4  MULTIPOLYGON (((33263212.119 5948542.451, 3326...  "
      ]
     },
     "execution_count": 11,
     "metadata": {},
     "output_type": "execute_result"
    }
   ],
   "source": [
    "gpd.read_parquet('/data/uscuni-ulce/cadastre_buildings_raw/buildings_germany_mv_0.pq').head()"
   ]
  },
  {
   "cell_type": "code",
   "execution_count": 12,
   "id": "957edebe-9e66-4733-811f-69c3295b0a43",
   "metadata": {},
   "outputs": [
    {
     "data": {
      "text/html": [
       "<div>\n",
       "<style scoped>\n",
       "    .dataframe tbody tr th:only-of-type {\n",
       "        vertical-align: middle;\n",
       "    }\n",
       "\n",
       "    .dataframe tbody tr th {\n",
       "        vertical-align: top;\n",
       "    }\n",
       "\n",
       "    .dataframe thead th {\n",
       "        text-align: right;\n",
       "    }\n",
       "</style>\n",
       "<table border=\"1\" class=\"dataframe\">\n",
       "  <thead>\n",
       "    <tr style=\"text-align: right;\">\n",
       "      <th></th>\n",
       "      <th>gml_id</th>\n",
       "      <th>identifier</th>\n",
       "      <th>oid</th>\n",
       "      <th>aktualit</th>\n",
       "      <th>gebnutzbez</th>\n",
       "      <th>funktion</th>\n",
       "      <th>gfkzshh</th>\n",
       "      <th>gmdschl</th>\n",
       "      <th>lagebeztxt</th>\n",
       "      <th>name</th>\n",
       "      <th>rellage</th>\n",
       "      <th>geometry</th>\n",
       "    </tr>\n",
       "  </thead>\n",
       "  <tbody>\n",
       "    <tr>\n",
       "      <th>0</th>\n",
       "      <td>DEMVAL04000dfzxjBL</td>\n",
       "      <td>urn:adv:oid:DEMVAL04000dfzxjBL</td>\n",
       "      <td>DEMVAL04000dfzxjBL</td>\n",
       "      <td>2014-11-04Z</td>\n",
       "      <td>Gebäude</td>\n",
       "      <td>Garage</td>\n",
       "      <td>31001_2463</td>\n",
       "      <td>13004000</td>\n",
       "      <td>None</td>\n",
       "      <td>None</td>\n",
       "      <td>None</td>\n",
       "      <td>MULTIPOLYGON (((33262346.344 5951813.908, 3326...</td>\n",
       "    </tr>\n",
       "    <tr>\n",
       "      <th>1</th>\n",
       "      <td>DEMVAL04000dfzxpBL</td>\n",
       "      <td>urn:adv:oid:DEMVAL04000dfzxpBL</td>\n",
       "      <td>DEMVAL04000dfzxpBL</td>\n",
       "      <td>2014-11-04Z</td>\n",
       "      <td>Gebäude</td>\n",
       "      <td>Garage</td>\n",
       "      <td>31001_2463</td>\n",
       "      <td>13004000</td>\n",
       "      <td>None</td>\n",
       "      <td>None</td>\n",
       "      <td>None</td>\n",
       "      <td>MULTIPOLYGON (((33262350.432 5951814.077, 3326...</td>\n",
       "    </tr>\n",
       "    <tr>\n",
       "      <th>2</th>\n",
       "      <td>DEMVAL04000dfzxuBL</td>\n",
       "      <td>urn:adv:oid:DEMVAL04000dfzxuBL</td>\n",
       "      <td>DEMVAL04000dfzxuBL</td>\n",
       "      <td>2014-11-04Z</td>\n",
       "      <td>Gebäude</td>\n",
       "      <td>Wohngebäude</td>\n",
       "      <td>31001_1000</td>\n",
       "      <td>13004000</td>\n",
       "      <td>Seitenweg 5, 6</td>\n",
       "      <td>None</td>\n",
       "      <td>None</td>\n",
       "      <td>MULTIPOLYGON (((33262357.645 5951805.808, 3326...</td>\n",
       "    </tr>\n",
       "    <tr>\n",
       "      <th>3</th>\n",
       "      <td>DEMVAL04000dfzxzBL</td>\n",
       "      <td>urn:adv:oid:DEMVAL04000dfzxzBL</td>\n",
       "      <td>DEMVAL04000dfzxzBL</td>\n",
       "      <td>2014-11-04Z</td>\n",
       "      <td>Gebäude</td>\n",
       "      <td>Gebäude für Wirtschaft oder Gewerbe</td>\n",
       "      <td>31001_2000</td>\n",
       "      <td>13004000</td>\n",
       "      <td>None</td>\n",
       "      <td>None</td>\n",
       "      <td>None</td>\n",
       "      <td>MULTIPOLYGON (((33262377.065 5951815.087, 3326...</td>\n",
       "    </tr>\n",
       "    <tr>\n",
       "      <th>4</th>\n",
       "      <td>DEMVAL04000dfzyCBL</td>\n",
       "      <td>urn:adv:oid:DEMVAL04000dfzyCBL</td>\n",
       "      <td>DEMVAL04000dfzyCBL</td>\n",
       "      <td>2014-11-04Z</td>\n",
       "      <td>Gebäude</td>\n",
       "      <td>Gebäude für Wirtschaft oder Gewerbe</td>\n",
       "      <td>31001_2000</td>\n",
       "      <td>13004000</td>\n",
       "      <td>None</td>\n",
       "      <td>None</td>\n",
       "      <td>None</td>\n",
       "      <td>MULTIPOLYGON (((33262421.737 5951538.959, 3326...</td>\n",
       "    </tr>\n",
       "  </tbody>\n",
       "</table>\n",
       "</div>"
      ],
      "text/plain": [
       "               gml_id                      identifier                 oid  \\\n",
       "0  DEMVAL04000dfzxjBL  urn:adv:oid:DEMVAL04000dfzxjBL  DEMVAL04000dfzxjBL   \n",
       "1  DEMVAL04000dfzxpBL  urn:adv:oid:DEMVAL04000dfzxpBL  DEMVAL04000dfzxpBL   \n",
       "2  DEMVAL04000dfzxuBL  urn:adv:oid:DEMVAL04000dfzxuBL  DEMVAL04000dfzxuBL   \n",
       "3  DEMVAL04000dfzxzBL  urn:adv:oid:DEMVAL04000dfzxzBL  DEMVAL04000dfzxzBL   \n",
       "4  DEMVAL04000dfzyCBL  urn:adv:oid:DEMVAL04000dfzyCBL  DEMVAL04000dfzyCBL   \n",
       "\n",
       "      aktualit gebnutzbez                             funktion     gfkzshh  \\\n",
       "0  2014-11-04Z    Gebäude                               Garage  31001_2463   \n",
       "1  2014-11-04Z    Gebäude                               Garage  31001_2463   \n",
       "2  2014-11-04Z    Gebäude                          Wohngebäude  31001_1000   \n",
       "3  2014-11-04Z    Gebäude  Gebäude für Wirtschaft oder Gewerbe  31001_2000   \n",
       "4  2014-11-04Z    Gebäude  Gebäude für Wirtschaft oder Gewerbe  31001_2000   \n",
       "\n",
       "    gmdschl      lagebeztxt  name rellage  \\\n",
       "0  13004000            None  None    None   \n",
       "1  13004000            None  None    None   \n",
       "2  13004000  Seitenweg 5, 6  None    None   \n",
       "3  13004000            None  None    None   \n",
       "4  13004000            None  None    None   \n",
       "\n",
       "                                            geometry  \n",
       "0  MULTIPOLYGON (((33262346.344 5951813.908, 3326...  \n",
       "1  MULTIPOLYGON (((33262350.432 5951814.077, 3326...  \n",
       "2  MULTIPOLYGON (((33262357.645 5951805.808, 3326...  \n",
       "3  MULTIPOLYGON (((33262377.065 5951815.087, 3326...  \n",
       "4  MULTIPOLYGON (((33262421.737 5951538.959, 3326...  "
      ]
     },
     "execution_count": 12,
     "metadata": {},
     "output_type": "execute_result"
    }
   ],
   "source": [
    "gpd.read_parquet('/data/uscuni-ulce/cadastre_buildings_raw/buildings_germany_mv_10000.pq').head()"
   ]
  },
  {
   "cell_type": "code",
   "execution_count": 13,
   "id": "69afaf63-65b3-48a6-859f-842b0963dd71",
   "metadata": {},
   "outputs": [
    {
     "data": {
      "text/html": [
       "<div>\n",
       "<style scoped>\n",
       "    .dataframe tbody tr th:only-of-type {\n",
       "        vertical-align: middle;\n",
       "    }\n",
       "\n",
       "    .dataframe tbody tr th {\n",
       "        vertical-align: top;\n",
       "    }\n",
       "\n",
       "    .dataframe thead th {\n",
       "        text-align: right;\n",
       "    }\n",
       "</style>\n",
       "<table border=\"1\" class=\"dataframe\">\n",
       "  <thead>\n",
       "    <tr style=\"text-align: right;\">\n",
       "      <th></th>\n",
       "      <th>gml_id</th>\n",
       "      <th>identifier</th>\n",
       "      <th>oid</th>\n",
       "      <th>aktualit</th>\n",
       "      <th>gebnutzbez</th>\n",
       "      <th>funktion</th>\n",
       "      <th>gfkzshh</th>\n",
       "      <th>gmdschl</th>\n",
       "      <th>lagebeztxt</th>\n",
       "      <th>anzahlgs</th>\n",
       "      <th>rellage</th>\n",
       "      <th>name</th>\n",
       "      <th>geometry</th>\n",
       "    </tr>\n",
       "  </thead>\n",
       "  <tbody>\n",
       "    <tr>\n",
       "      <th>0</th>\n",
       "      <td>DEMVAL040000fCpABL</td>\n",
       "      <td>urn:adv:oid:DEMVAL040000fCpABL</td>\n",
       "      <td>DEMVAL040000fCpABL</td>\n",
       "      <td>2014-11-04Z</td>\n",
       "      <td>Sonstiges Bauwerk oder sonstige Einrichtung</td>\n",
       "      <td>Carport</td>\n",
       "      <td>51009_1611</td>\n",
       "      <td>13004000</td>\n",
       "      <td>None</td>\n",
       "      <td>NaN</td>\n",
       "      <td>None</td>\n",
       "      <td>None</td>\n",
       "      <td>MULTIPOLYGON (((33257489.011 5951551.659, 3325...</td>\n",
       "    </tr>\n",
       "    <tr>\n",
       "      <th>1</th>\n",
       "      <td>DEMVAL040000fCpDBL</td>\n",
       "      <td>urn:adv:oid:DEMVAL040000fCpDBL</td>\n",
       "      <td>DEMVAL040000fCpDBL</td>\n",
       "      <td>2014-11-04Z</td>\n",
       "      <td>Sonstiges Bauwerk oder sonstige Einrichtung</td>\n",
       "      <td>Carport</td>\n",
       "      <td>51009_1611</td>\n",
       "      <td>13004000</td>\n",
       "      <td>None</td>\n",
       "      <td>NaN</td>\n",
       "      <td>None</td>\n",
       "      <td>None</td>\n",
       "      <td>MULTIPOLYGON (((33257499.872 5951546.253, 3325...</td>\n",
       "    </tr>\n",
       "    <tr>\n",
       "      <th>2</th>\n",
       "      <td>DEMVAL040000fCpGBL</td>\n",
       "      <td>urn:adv:oid:DEMVAL040000fCpGBL</td>\n",
       "      <td>DEMVAL040000fCpGBL</td>\n",
       "      <td>2014-11-04Z</td>\n",
       "      <td>Sonstiges Bauwerk oder sonstige Einrichtung</td>\n",
       "      <td>Carport</td>\n",
       "      <td>51009_1611</td>\n",
       "      <td>13004000</td>\n",
       "      <td>None</td>\n",
       "      <td>NaN</td>\n",
       "      <td>None</td>\n",
       "      <td>None</td>\n",
       "      <td>MULTIPOLYGON (((33257516.544 5951540.715, 3325...</td>\n",
       "    </tr>\n",
       "    <tr>\n",
       "      <th>3</th>\n",
       "      <td>DEMVAL040000fCpaBL</td>\n",
       "      <td>urn:adv:oid:DEMVAL040000fCpaBL</td>\n",
       "      <td>DEMVAL040000fCpaBL</td>\n",
       "      <td>2014-11-04Z</td>\n",
       "      <td>Sonstiges Bauwerk oder sonstige Einrichtung</td>\n",
       "      <td>Carport</td>\n",
       "      <td>51009_1611</td>\n",
       "      <td>13004000</td>\n",
       "      <td>None</td>\n",
       "      <td>NaN</td>\n",
       "      <td>None</td>\n",
       "      <td>None</td>\n",
       "      <td>MULTIPOLYGON (((33258550.944 5951297.674, 3325...</td>\n",
       "    </tr>\n",
       "    <tr>\n",
       "      <th>4</th>\n",
       "      <td>DEMVAL040000fCpdBL</td>\n",
       "      <td>urn:adv:oid:DEMVAL040000fCpdBL</td>\n",
       "      <td>DEMVAL040000fCpdBL</td>\n",
       "      <td>2014-11-04Z</td>\n",
       "      <td>Sonstiges Bauwerk oder sonstige Einrichtung</td>\n",
       "      <td>Carport</td>\n",
       "      <td>51009_1611</td>\n",
       "      <td>13004000</td>\n",
       "      <td>None</td>\n",
       "      <td>NaN</td>\n",
       "      <td>None</td>\n",
       "      <td>None</td>\n",
       "      <td>MULTIPOLYGON (((33258609.477 5951444.515, 3325...</td>\n",
       "    </tr>\n",
       "  </tbody>\n",
       "</table>\n",
       "</div>"
      ],
      "text/plain": [
       "               gml_id                      identifier                 oid  \\\n",
       "0  DEMVAL040000fCpABL  urn:adv:oid:DEMVAL040000fCpABL  DEMVAL040000fCpABL   \n",
       "1  DEMVAL040000fCpDBL  urn:adv:oid:DEMVAL040000fCpDBL  DEMVAL040000fCpDBL   \n",
       "2  DEMVAL040000fCpGBL  urn:adv:oid:DEMVAL040000fCpGBL  DEMVAL040000fCpGBL   \n",
       "3  DEMVAL040000fCpaBL  urn:adv:oid:DEMVAL040000fCpaBL  DEMVAL040000fCpaBL   \n",
       "4  DEMVAL040000fCpdBL  urn:adv:oid:DEMVAL040000fCpdBL  DEMVAL040000fCpdBL   \n",
       "\n",
       "      aktualit                                   gebnutzbez funktion  \\\n",
       "0  2014-11-04Z  Sonstiges Bauwerk oder sonstige Einrichtung  Carport   \n",
       "1  2014-11-04Z  Sonstiges Bauwerk oder sonstige Einrichtung  Carport   \n",
       "2  2014-11-04Z  Sonstiges Bauwerk oder sonstige Einrichtung  Carport   \n",
       "3  2014-11-04Z  Sonstiges Bauwerk oder sonstige Einrichtung  Carport   \n",
       "4  2014-11-04Z  Sonstiges Bauwerk oder sonstige Einrichtung  Carport   \n",
       "\n",
       "      gfkzshh   gmdschl lagebeztxt  anzahlgs rellage  name  \\\n",
       "0  51009_1611  13004000       None       NaN    None  None   \n",
       "1  51009_1611  13004000       None       NaN    None  None   \n",
       "2  51009_1611  13004000       None       NaN    None  None   \n",
       "3  51009_1611  13004000       None       NaN    None  None   \n",
       "4  51009_1611  13004000       None       NaN    None  None   \n",
       "\n",
       "                                            geometry  \n",
       "0  MULTIPOLYGON (((33257489.011 5951551.659, 3325...  \n",
       "1  MULTIPOLYGON (((33257499.872 5951546.253, 3325...  \n",
       "2  MULTIPOLYGON (((33257516.544 5951540.715, 3325...  \n",
       "3  MULTIPOLYGON (((33258550.944 5951297.674, 3325...  \n",
       "4  MULTIPOLYGON (((33258609.477 5951444.515, 3325...  "
      ]
     },
     "execution_count": 13,
     "metadata": {},
     "output_type": "execute_result"
    }
   ],
   "source": [
    "gpd.read_parquet('/data/uscuni-ulce/cadastre_buildings_raw/buildings_germany_mv_20000.pq').head()"
   ]
  },
  {
   "cell_type": "code",
   "execution_count": null,
   "id": "9f0d0fa5-5377-459f-a48b-952ca35640ff",
   "metadata": {},
   "outputs": [],
   "source": []
  }
 ],
 "metadata": {
  "kernelspec": {
   "display_name": "Python 3 (ipykernel)",
   "language": "python",
   "name": "python3"
  },
  "language_info": {
   "codemirror_mode": {
    "name": "ipython",
    "version": 3
   },
   "file_extension": ".py",
   "mimetype": "text/x-python",
   "name": "python",
   "nbconvert_exporter": "python",
   "pygments_lexer": "ipython3",
   "version": "3.12.4"
  }
 },
 "nbformat": 4,
 "nbformat_minor": 5
}
