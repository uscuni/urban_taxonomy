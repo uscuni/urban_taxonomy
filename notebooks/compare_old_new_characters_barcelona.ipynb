{
 "cells": [
  {
   "cell_type": "code",
   "execution_count": 1,
   "id": "82e5495c-0078-4dbb-91c2-644d4b2463ca",
   "metadata": {},
   "outputs": [
    {
     "name": "stdout",
     "output_type": "stream",
     "text": [
      "CPU times: user 3.12 s, sys: 92.6 ms, total: 3.21 s\n",
      "Wall time: 932 ms\n"
     ]
    }
   ],
   "source": [
    "%%time\n",
    "\n",
    "import glob\n",
    "\n",
    "import geopandas as gpd\n",
    "import matplotlib.pyplot as plt\n",
    "import numba\n",
    "import numpy as np\n",
    "import pandas as pd\n",
    "from libpysal.graph import read_parquet\n",
    "from sklearn.preprocessing import PowerTransformer, RobustScaler, StandardScaler\n",
    "from sklearn.neighbors import KDTree\n",
    "from core.cluster_validation import print_distance, generate_neigbhourhood_groups\n",
    "from core.utils import char_names\n",
    "import momepy as mm"
   ]
  },
  {
   "cell_type": "code",
   "execution_count": 2,
   "id": "d9c49cf0-3efc-4b77-9d49-7251071572b4",
   "metadata": {},
   "outputs": [],
   "source": [
    "region_id = 'barcelona'\n",
    "buildings_dir = streets_dir = enclosures_dir = tessellations_dir = graph_dir = '../data/barcelona/'\n",
    "chars_dir = '../data/barcelona/chars/'\n",
    "old_file = '../data/barcelona/old_barcelona.parquet'"
   ]
  },
  {
   "cell_type": "code",
   "execution_count": null,
   "id": "86319198-6038-4f64-a90e-3bee5ce1de70",
   "metadata": {},
   "outputs": [],
   "source": []
  },
  {
   "cell_type": "markdown",
   "id": "d2c623ad-2c55-4536-ac37-18795d322c9c",
   "metadata": {
    "jp-MarkdownHeadingCollapsed": true
   },
   "source": [
    "## Download old data\n"
   ]
  },
  {
   "cell_type": "code",
   "execution_count": 3,
   "id": "47d4ec01-a2c8-41cf-aa06-80db775a3402",
   "metadata": {},
   "outputs": [],
   "source": [
    "import requests \n",
    "def download_url(url, save_path, chunk_size=128):\n",
    "    r = requests.get(url, stream=True)\n",
    "    with open(save_path, 'wb') as fd:\n",
    "        for chunk in r.iter_content(chunk_size=chunk_size):\n",
    "            fd.write(chunk)\n",
    "\n",
    "# download_url('https://figshare.com/ndownloader/files/38855088', '../data/barcelona/old_barcelona.parquet')\n",
    "\n",
    "# download_url('https://opendata-ajuntament.barcelona.cat/data/dataset/6fd03b36-7503-42f0-9082-9040cb812423/resource/a11a534d-4aeb-497f-b6bd-2e170b4724aa/download', '../data/barcelona/streets_barcelona.zip')\n",
    "\n",
    "# download_url(\n",
    "#     \"https://opendata-ajuntament.barcelona.cat/data/dataset/808daafa-d9ce-48c0-925a-fa5afdb1ed41/resource/cd800462-f326-429f-a67a-c69b7fc4c50a/download\", '../data/barcelona/admin_units.zip')"
   ]
  },
  {
   "cell_type": "code",
   "execution_count": null,
   "id": "a6ee3f02-5b25-4ff0-bd88-b970ef9d8a2f",
   "metadata": {},
   "outputs": [],
   "source": [
    "import osmnx as ox"
   ]
  },
  {
   "cell_type": "code",
   "execution_count": null,
   "id": "bf325f7d-0197-4dd4-8fde-3d8b89c88a71",
   "metadata": {},
   "outputs": [],
   "source": [
    "streets = gpd.read_file('../data/barcelona/streets_barcelona.zip', layer = 'BCN_GrafVial_Trams_ETRS89_SHP')"
   ]
  },
  {
   "cell_type": "code",
   "execution_count": null,
   "id": "50e83829-89cc-48b6-bf3b-952bdbbdb49b",
   "metadata": {},
   "outputs": [],
   "source": [
    "bounds = streets.to_crs(4326).total_bounds\n",
    "tags = {'natural': ['water', 'coastline', 'spring']}\n",
    "\n",
    "water = ox.geometries_from_bbox(bounds[3], bounds[1], bounds[2], bounds[0], tags)\n",
    "water = water.to_crs(streets.crs)\n",
    "water[['natural', 'geometry']].to_parquet(\"../data/barcelona/water.pq\")\n",
    "\n",
    "tags = {'railway': True}\n",
    "railway = ox.geometries_from_bbox(bounds[3], bounds[1], bounds[2], bounds[0], tags)\n",
    "railway = railway.to_crs(streets.crs)\n",
    "railway = railway[railway.geom_type == 'LineString']\n",
    "railway = railway[railway.tunnel != 'yes']\n",
    "railway = railway[~railway.railway.isin(['miniature', 'tram'])]\n",
    "railway[['railway', 'geometry']].to_parquet(\"../data/barcelona/railway.pq\")"
   ]
  },
  {
   "cell_type": "code",
   "execution_count": null,
   "id": "5fba507f-58e2-41a5-abdf-9c18a60ba2ff",
   "metadata": {},
   "outputs": [],
   "source": []
  },
  {
   "cell_type": "code",
   "execution_count": null,
   "id": "efe20cf0-2b62-492e-8e7a-ab72e1470962",
   "metadata": {},
   "outputs": [],
   "source": []
  },
  {
   "cell_type": "code",
   "execution_count": null,
   "id": "dd5a4ebe-18c6-4807-83f2-d7ffe131f981",
   "metadata": {},
   "outputs": [],
   "source": []
  },
  {
   "cell_type": "code",
   "execution_count": null,
   "id": "80aa3f29-a013-407a-b1b6-72fd0f27b723",
   "metadata": {},
   "outputs": [],
   "source": []
  },
  {
   "cell_type": "markdown",
   "id": "4e41c2a6-1d17-4ad9-a4b2-2e9302052722",
   "metadata": {},
   "source": [
    "## Process old data through the current pipeline"
   ]
  },
  {
   "cell_type": "code",
   "execution_count": 5,
   "id": "013653b4-e3cf-4349-bf1d-cf4806c82bef",
   "metadata": {},
   "outputs": [],
   "source": [
    "streets = gpd.read_file('../data/barcelona/streets_barcelona.zip', layer = 'BCN_GrafVial_Trams_ETRS89_SHP')"
   ]
  },
  {
   "cell_type": "code",
   "execution_count": 6,
   "id": "ea88a71c-bc3e-4d6d-8ee5-2dc3ff4406b8",
   "metadata": {},
   "outputs": [],
   "source": [
    "water = gpd.read_parquet('../data/barcelona/water.pq')\n",
    "railway = gpd.read_parquet('../data/barcelona/railway.pq')\n",
    "admin = gpd.read_file(\"../data/barcelona/0301100100_UNITATS_ADM_POLIGONS.json\")"
   ]
  },
  {
   "cell_type": "code",
   "execution_count": 7,
   "id": "12b60596-c4ec-465e-8dca-c2577c1ac8f5",
   "metadata": {},
   "outputs": [],
   "source": [
    "extended_railway = mm.extend_lines(railway, 30, target=streets, extension=.1)"
   ]
  },
  {
   "cell_type": "code",
   "execution_count": 8,
   "id": "3c67c87c-1373-4b20-9df3-43b6aa4f26cf",
   "metadata": {},
   "outputs": [],
   "source": [
    "enclosures = mm.enclosures(streets, limit=admin.iloc[[0]], additional_barriers=[extended_railway])"
   ]
  },
  {
   "cell_type": "code",
   "execution_count": 9,
   "id": "efa05ab3-a502-4b6f-8787-a34c93481fd8",
   "metadata": {},
   "outputs": [],
   "source": [
    "old_gdf = gpd.read_parquet(old_file)"
   ]
  },
  {
   "cell_type": "code",
   "execution_count": 10,
   "id": "05a339c2-a0af-4fce-8e1e-190ed92e48d9",
   "metadata": {},
   "outputs": [],
   "source": [
    "buildings = old_gdf[['uID', 'buildings']]"
   ]
  },
  {
   "cell_type": "code",
   "execution_count": 11,
   "id": "a0b3b4fe-f6e1-4f00-b993-c986fa492918",
   "metadata": {},
   "outputs": [],
   "source": [
    "tessellation = old_gdf[['tessellation', 'tID', 'buildings']]"
   ]
  },
  {
   "cell_type": "code",
   "execution_count": 13,
   "id": "8235b44d-c4e0-4ea7-afdd-861c8897e11d",
   "metadata": {},
   "outputs": [],
   "source": [
    "inp, res = enclosures.sindex.query(tessellation.representative_point().geometry, predicate='within')"
   ]
  },
  {
   "cell_type": "code",
   "execution_count": 14,
   "id": "acae71b9-c88d-4d6e-badf-108ccb8aa032",
   "metadata": {},
   "outputs": [
    {
     "data": {
      "text/plain": [
       "array([ True,  True,  True, ...,  True,  True,  True])"
      ]
     },
     "execution_count": 14,
     "metadata": {},
     "output_type": "execute_result"
    }
   ],
   "source": [
    "inp == np.arange(82375)"
   ]
  },
  {
   "cell_type": "code",
   "execution_count": 15,
   "id": "d0e23de1-cce9-4f8a-9964-5a2ec2de5828",
   "metadata": {},
   "outputs": [
    {
     "name": "stderr",
     "output_type": "stream",
     "text": [
      "/home/krasen/miniconda3/envs/urban_taxonomy/lib/python3.12/site-packages/geopandas/geodataframe.py:1528: SettingWithCopyWarning: \n",
      "A value is trying to be set on a copy of a slice from a DataFrame.\n",
      "Try using .loc[row_indexer,col_indexer] = value instead\n",
      "\n",
      "See the caveats in the documentation: https://pandas.pydata.org/pandas-docs/stable/user_guide/indexing.html#returning-a-view-versus-a-copy\n",
      "  super().__setitem__(key, value)\n"
     ]
    }
   ],
   "source": [
    "tessellation['enclosure_index'] = res"
   ]
  },
  {
   "cell_type": "code",
   "execution_count": null,
   "id": "9dc1037d-c077-49a5-bb9d-c3295f56b55f",
   "metadata": {},
   "outputs": [],
   "source": []
  },
  {
   "cell_type": "code",
   "execution_count": 16,
   "id": "d158a73a-1e82-4823-9a54-4b3d9b1c0903",
   "metadata": {},
   "outputs": [],
   "source": [
    "buildings.columns = ['uID', 'geometry']\n",
    "buildings = buildings.set_geometry('geometry')\n",
    "buildings.dropna().to_crs(epsg=3035).to_parquet(buildings_dir + f\"buildings_{region_id}.parquet\")"
   ]
  },
  {
   "cell_type": "code",
   "execution_count": null,
   "id": "88e8850c-78ec-4c3d-81c0-ba83b78a1fa0",
   "metadata": {},
   "outputs": [],
   "source": []
  },
  {
   "cell_type": "code",
   "execution_count": 17,
   "id": "fe2802a6-4f98-4124-84f5-3c9aefdd98cf",
   "metadata": {},
   "outputs": [],
   "source": [
    "new_index = np.array(tessellation.index.values)\n",
    "new_index[tessellation.isna()['buildings']] = -new_index[tessellation.isna()['buildings']]\n",
    "tessellation = tessellation[['tessellation', 'tID', 'enclosure_index']]\n",
    "tessellation.columns = ['geometry', 'tID', 'enclosure_index']\n",
    "tessellation = tessellation.set_geometry('geometry')\n",
    "tessellation.index = new_index\n",
    "\n",
    "tessellation.to_crs(epsg=3035).to_parquet(tessellations_dir + f\"tessellation_{region_id}.parquet\")"
   ]
  },
  {
   "cell_type": "code",
   "execution_count": null,
   "id": "a16cf84e-405b-433e-972f-6de4a9afbb73",
   "metadata": {},
   "outputs": [],
   "source": []
  },
  {
   "cell_type": "code",
   "execution_count": 18,
   "id": "a0ec99b4-f6df-47e3-a8a3-e8edd870813d",
   "metadata": {},
   "outputs": [],
   "source": [
    "streets.to_crs(epsg=3035)[['geometry']].to_parquet(streets_dir + f\"streets_{region_id}.parquet\")"
   ]
  },
  {
   "cell_type": "code",
   "execution_count": null,
   "id": "aedcd8e4-bdf5-48ff-ad30-9d166805191d",
   "metadata": {},
   "outputs": [],
   "source": []
  },
  {
   "cell_type": "code",
   "execution_count": 19,
   "id": "e5b6a5e6-534a-43bc-9c9a-fe496416cb8a",
   "metadata": {},
   "outputs": [],
   "source": [
    "enclosures.to_crs(epsg=3035).to_parquet(enclosures_dir + f\"enclosure_{region_id}.parquet\")"
   ]
  },
  {
   "cell_type": "code",
   "execution_count": null,
   "id": "ea9777b9-6b7c-4bfd-90e2-8d94e983e2d2",
   "metadata": {},
   "outputs": [],
   "source": []
  },
  {
   "cell_type": "markdown",
   "id": "8db91d92-e2c8-4880-a15d-33e1e30b60ea",
   "metadata": {},
   "source": [
    "### Push data through pipeline\n"
   ]
  },
  {
   "cell_type": "code",
   "execution_count": null,
   "id": "06ccfc79-cce6-425e-a079-7e2551838b8e",
   "metadata": {},
   "outputs": [],
   "source": []
  },
  {
   "cell_type": "code",
   "execution_count": 3,
   "id": "320ede90-b990-4ece-a381-0916dc148710",
   "metadata": {},
   "outputs": [],
   "source": [
    "from core.generate_ngraphs import process_region_graphs"
   ]
  },
  {
   "cell_type": "code",
   "execution_count": 4,
   "id": "5db63e0e-3125-40f2-8bea-6075399376f1",
   "metadata": {},
   "outputs": [
    {
     "name": "stdout",
     "output_type": "stream",
     "text": [
      "Built tess graph knn=1\n",
      "Built buildings graph knn=1\n",
      "Built streets graph knn=1\n",
      "Built enclosure graph knn=1\n",
      "Built nodes graph knn=1\n",
      "CPU times: user 20.4 s, sys: 568 ms, total: 21 s\n",
      "Wall time: 20.9 s\n"
     ]
    },
    {
     "name": "stderr",
     "output_type": "stream",
     "text": [
      "/home/krasen/libpysal/libpysal/weights/weights.py:1685: UserWarning: The weights matrix is not fully connected: \n",
      " There are 41 disconnected components.\n",
      "  w = W(neighbors, weights, ids, silence_warnings=silence_warnings)\n"
     ]
    }
   ],
   "source": [
    "%%time\n",
    "process_region_graphs(\n",
    "    region_id,\n",
    "    graph_dir,\n",
    "    buildings_dir,\n",
    "    streets_dir,\n",
    "    enclosures_dir,\n",
    "    tessellations_dir,\n",
    ")"
   ]
  },
  {
   "cell_type": "code",
   "execution_count": null,
   "id": "2b536430-e25d-4415-a0b8-15a8b754c27e",
   "metadata": {},
   "outputs": [],
   "source": []
  },
  {
   "cell_type": "code",
   "execution_count": null,
   "id": "5229e4f0-7aa6-445b-8612-9a2f820db9e2",
   "metadata": {},
   "outputs": [],
   "source": []
  },
  {
   "cell_type": "markdown",
   "id": "b032a802-d742-4c39-8868-e0cb6b52680c",
   "metadata": {},
   "source": [
    "## Characters"
   ]
  },
  {
   "cell_type": "code",
   "execution_count": 5,
   "id": "e86715fb-aea2-4fd1-aa1c-c08c47efa704",
   "metadata": {},
   "outputs": [],
   "source": [
    "from core.generate_chars import (process_single_region_chars, process_building_chars,\n",
    "                                 process_tessellation_chars, process_street_chars)"
   ]
  },
  {
   "cell_type": "code",
   "execution_count": 6,
   "id": "a0ae27ce-f443-46a2-b806-8760975de401",
   "metadata": {},
   "outputs": [],
   "source": [
    "# process_tessellation_chars(\n",
    "#     region_id,\n",
    "#     graph_dir,\n",
    "#     buildings_dir,\n",
    "#     streets_dir,\n",
    "#     enclosures_dir,\n",
    "#     tessellations_dir,\n",
    "#     chars_dir\n",
    "# )"
   ]
  },
  {
   "cell_type": "code",
   "execution_count": 7,
   "id": "4796eb5f-9308-4f0c-93c6-7b83e1fcb68f",
   "metadata": {},
   "outputs": [
    {
     "name": "stdout",
     "output_type": "stream",
     "text": [
      "2024-08-09 15:52:56.546973 ----Processing ------ barcelona\n",
      "Processing streets\n"
     ]
    },
    {
     "name": "stderr",
     "output_type": "stream",
     "text": [
      "/home/krasen/miniconda3/envs/urban_taxonomy/lib/python3.12/site-packages/shapely/measurement.py:72: RuntimeWarning: invalid value encountered in distance\n",
      "  return lib.distance(a, b, **kwargs)\n",
      "/home/krasen/miniconda3/envs/urban_taxonomy/lib/python3.12/site-packages/shapely/measurement.py:72: RuntimeWarning: invalid value encountered in distance\n",
      "  return lib.distance(a, b, **kwargs)\n"
     ]
    },
    {
     "name": "stdout",
     "output_type": "stream",
     "text": [
      "Processing enclosures\n",
      "Processing buildings\n"
     ]
    },
    {
     "name": "stderr",
     "output_type": "stream",
     "text": [
      "/home/krasen/momepy/momepy/functional/_shape.py:890: RuntimeWarning: invalid value encountered in arccos\n",
      "  angles = np.arccos(cosine_angle)\n",
      "/home/krasen/momepy/momepy/functional/_shape.py:890: RuntimeWarning: invalid value encountered in arccos\n",
      "  angles = np.arccos(cosine_angle)\n",
      "/home/krasen/momepy/momepy/functional/_shape.py:576: RuntimeWarning: Mean of empty slice\n",
      "  return np.nanmean(np.abs(90 - degrees[true_angles]))\n",
      "/home/krasen/momepy/momepy/functional/_shape.py:890: RuntimeWarning: invalid value encountered in arccos\n",
      "  angles = np.arccos(cosine_angle)\n",
      "/home/krasen/momepy/momepy/functional/_shape.py:737: RuntimeWarning: Mean of empty slice\n",
      "  return Series({\"mean\": np.nanmean(dists), \"std\": np.nanstd(dists)})\n",
      "/home/krasen/miniconda3/envs/urban_taxonomy/lib/python3.12/site-packages/numpy/lib/nanfunctions.py:1879: RuntimeWarning: Degrees of freedom <= 0 for slice.\n",
      "  var = nanvar(a, axis=axis, dtype=dtype, out=out, ddof=ddof,\n"
     ]
    },
    {
     "name": "stdout",
     "output_type": "stream",
     "text": [
      "Processing tessellation\n"
     ]
    },
    {
     "name": "stderr",
     "output_type": "stream",
     "text": [
      "/home/krasen/miniconda3/envs/urban_taxonomy/lib/python3.12/site-packages/shapely/measurement.py:72: RuntimeWarning: invalid value encountered in distance\n",
      "  return lib.distance(a, b, **kwargs)\n",
      "/home/krasen/miniconda3/envs/urban_taxonomy/lib/python3.12/site-packages/shapely/measurement.py:72: RuntimeWarning: invalid value encountered in distance\n",
      "  return lib.distance(a, b, **kwargs)\n"
     ]
    },
    {
     "name": "stdout",
     "output_type": "stream",
     "text": [
      "CPU times: user 6min 37s, sys: 1.38 s, total: 6min 39s\n",
      "Wall time: 6min 38s\n"
     ]
    }
   ],
   "source": [
    "%%time\n",
    "process_single_region_chars(\n",
    "    region_id,\n",
    "    graph_dir,\n",
    "    buildings_dir,\n",
    "    streets_dir,\n",
    "    enclosures_dir,\n",
    "    tessellations_dir,\n",
    "    chars_dir\n",
    ")"
   ]
  },
  {
   "cell_type": "code",
   "execution_count": null,
   "id": "e4e920ea-d4ca-41dc-b6ac-536abacef508",
   "metadata": {},
   "outputs": [],
   "source": []
  },
  {
   "cell_type": "code",
   "execution_count": null,
   "id": "f37e8c06-cd71-4237-a518-1d4377230b78",
   "metadata": {},
   "outputs": [],
   "source": []
  },
  {
   "cell_type": "code",
   "execution_count": 8,
   "id": "0646f1ce-4d7d-40c8-a73f-898f6572f461",
   "metadata": {},
   "outputs": [],
   "source": [
    "tessellation = gpd.read_parquet(chars_dir + f\"tessellations_chars_{region_id}.parquet\")\n",
    "buildings = gpd.read_parquet(chars_dir + f\"buildings_chars_{region_id}.parquet\")\n",
    "enclosures = gpd.read_parquet(chars_dir + f\"enclosures_chars_{region_id}.parquet\")\n",
    "streets = gpd.read_parquet(chars_dir + f\"streets_chars_{region_id}.parquet\")\n",
    "nodes = gpd.read_parquet(chars_dir + f\"nodes_chars_{region_id}.parquet\")\n",
    "\n",
    "\n",
    "merged = pd.merge(\n",
    "    tessellation.drop(columns=[\"geometry\"]),\n",
    "    buildings.drop(columns=[\"nodeID\", \"geometry\", 'nID']),\n",
    "    right_index=True,\n",
    "    left_index=True,\n",
    "    how=\"left\",\n",
    ")\n",
    "\n",
    "merged = merged.merge(\n",
    "    enclosures.drop(columns=\"geometry\"),\n",
    "    right_index=True,\n",
    "    left_on=\"enclosure_index\",\n",
    "    how=\"left\",\n",
    ")\n",
    "\n",
    "merged = merged.merge(streets.drop(columns=\"geometry\"), on=\"nID\", how=\"left\")\n",
    "merged = merged.merge(nodes.drop(columns=\"geometry\"), on=\"nodeID\", how=\"left\")\n",
    "\n",
    "merged = merged.drop(\n",
    "    columns=[\n",
    "        \"nID\",\n",
    "        \"eID\",\n",
    "        \"nodeID\",\n",
    "        \"mm_len\",\n",
    "        \"cdsbool\",\n",
    "        \"node_start\",\n",
    "        \"node_end\",\n",
    "        \"x\",\n",
    "        \"y\",\n",
    "        \"enclosure_index\",\n",
    "        # \"id\",\n",
    "        # \"osm_id\",\n",
    "        # \"index\",  ## maybe keep\n",
    "    ]\n",
    ")\n",
    "merged = merged.set_index(tessellation.index)"
   ]
  },
  {
   "cell_type": "code",
   "execution_count": 9,
   "id": "75d08539-3130-4d70-92b9-e5d240badecb",
   "metadata": {},
   "outputs": [],
   "source": [
    "from core.utils import used_keys"
   ]
  },
  {
   "cell_type": "code",
   "execution_count": 10,
   "id": "2ac7678e-1e76-4a02-9b66-f5474575588d",
   "metadata": {},
   "outputs": [
    {
     "data": {
      "text/plain": [
       "(82375, 63)"
      ]
     },
     "execution_count": 10,
     "metadata": {},
     "output_type": "execute_result"
    }
   ],
   "source": [
    "primary = merged[list(used_keys.keys())]\n",
    "primary.shape"
   ]
  },
  {
   "cell_type": "code",
   "execution_count": 11,
   "id": "aab21c5e-d2ac-4e75-8d60-4f45d982a3e6",
   "metadata": {},
   "outputs": [],
   "source": [
    "primary.to_parquet(chars_dir + f'primary_chars_{region_id}.parquet')"
   ]
  },
  {
   "cell_type": "code",
   "execution_count": null,
   "id": "b08bf671-47ea-480b-82e2-964ab3d79e2f",
   "metadata": {},
   "outputs": [],
   "source": []
  },
  {
   "cell_type": "markdown",
   "id": "249173b1-1d2b-49de-9b90-4f8faa2a7120",
   "metadata": {},
   "source": [
    "## Comparison"
   ]
  },
  {
   "cell_type": "code",
   "execution_count": 12,
   "id": "20bbfe8d-2a03-44ee-a5fd-03befa2f55bd",
   "metadata": {},
   "outputs": [],
   "source": [
    "import lonboard\n",
    "from core.utils import char_names\n",
    "from mapclassify import classify\n",
    "import matplotlib as mpl\n",
    "from lonboard.colormap import apply_continuous_cmap\n",
    "from sidecar import Sidecar\n",
    "import momepy as mm\n",
    "from core.utils import used_keys"
   ]
  },
  {
   "cell_type": "code",
   "execution_count": null,
   "id": "f79efd48-c92b-4f32-ae90-195d56fa78b8",
   "metadata": {},
   "outputs": [],
   "source": []
  },
  {
   "cell_type": "code",
   "execution_count": 13,
   "id": "bb5df80b-a5e7-44d6-b1f8-05d2d8232abd",
   "metadata": {},
   "outputs": [],
   "source": [
    "old_prague_data = pd.read_parquet(old_file)"
   ]
  },
  {
   "cell_type": "code",
   "execution_count": 14,
   "id": "60ed4c92-c5d7-4526-83c9-06df158fe374",
   "metadata": {},
   "outputs": [],
   "source": [
    "new_prague_data = pd.read_parquet(chars_dir + f'primary_chars_{region_id}.parquet')"
   ]
  },
  {
   "cell_type": "code",
   "execution_count": 15,
   "id": "1f7960e0-6df1-4503-8036-3e99696e4bd3",
   "metadata": {},
   "outputs": [],
   "source": [
    "graph_keys = {\n",
    "    \n",
    "    \"degree\": \"mtdDeg\",\n",
    "    \"meshedness\": \"lcdMes\",\n",
    "    \"local_closeness\": \"lcnClo\",\n",
    "    \"proportion_3\": \"linP3W\",\n",
    "    \"proportion_4\": \"linP4W\",\n",
    "    \"proportion_0\": \"linPDE\",\n",
    "    \"ldeAre\": \"ldkAre\",\n",
    "    \"ldePer\": \"ldkPer\",\n",
    "    \"lseCCo\":\"lskCCo\",\n",
    "    \"lseERI\":\"lskERI\",\n",
    "    \"lseCWA\":\"lskCWA\",\n",
    "    \"lteOri\": \"ltkOri\",\n",
    "    \"lteWNB\": \"ltkWNB\",\n",
    "    \"lieWCe\": \"likWCe\",\n",
    "    \"ltcWRE\": \"ltcWRB\",\n",
    "    \"lieWBB\": \"likWBB\", \n",
    "    \"misRea\": \"ldsRea\",\n",
    "    \"mdsAre\": \"ldsAre\"\n",
    "}\n",
    "\n",
    "for c, new_c in graph_keys.items():\n",
    "\n",
    "    if c in old_prague_data.columns:\n",
    "        old_prague_data[new_c] = old_prague_data[c].copy()"
   ]
  },
  {
   "cell_type": "code",
   "execution_count": null,
   "id": "51b36a0d-875b-4970-ae6a-816651118af4",
   "metadata": {},
   "outputs": [],
   "source": []
  },
  {
   "cell_type": "code",
   "execution_count": null,
   "id": "6375d028-ba2d-49b1-9da0-31ec4e98c873",
   "metadata": {},
   "outputs": [],
   "source": []
  },
  {
   "cell_type": "code",
   "execution_count": 16,
   "id": "5363365d-fde6-4614-a803-656391ead788",
   "metadata": {},
   "outputs": [
    {
     "name": "stdout",
     "output_type": "stream",
     "text": [
      "ltcBuA not in old data\n",
      "midRea not in old data\n",
      "midAre not in old data\n",
      "likWBB not in old data\n"
     ]
    }
   ],
   "source": [
    "vals = {}\n",
    "for c in used_keys:\n",
    "\n",
    "    old_c = c\n",
    "    \n",
    "    if old_c not in old_prague_data.columns:\n",
    "        print(c, 'not in old data')\n",
    "        continue\n",
    "        \n",
    "    new_values = new_prague_data[c].values\n",
    "    old_values = old_prague_data[old_c].values\n",
    "\n",
    "    # skip nas\n",
    "    nas = np.isnan(new_values) | np.isnan(old_values)\n",
    "    new_values = new_values[~nas]\n",
    "    old_values = old_values[~nas]\n",
    "\n",
    "    vals[c] = np.corrcoef(new_values, old_values)[0,1]"
   ]
  },
  {
   "cell_type": "code",
   "execution_count": 17,
   "id": "d6254ba6-3b25-4ccb-9e10-a77daec31397",
   "metadata": {},
   "outputs": [
    {
     "data": {
      "text/plain": [
       "mdcAre    0.125303\n",
       "ldsMSL    0.420367\n",
       "ltcWRB    0.451673\n",
       "ltbIBD    0.559449\n",
       "sdsAre    0.563558\n",
       "mtbSWR    0.597466\n",
       "lddNDe    0.641135\n",
       "ldsAre    0.733176\n",
       "stbSAl    0.771552\n",
       "ldsRea    0.773734\n",
       "linWID    0.774684\n",
       "dtype: float64"
      ]
     },
     "execution_count": 17,
     "metadata": {},
     "output_type": "execute_result"
    }
   ],
   "source": [
    "vals = pd.Series(vals)\n",
    "non_correlated = vals[ vals < .80]\n",
    "non_correlated.sort_values()"
   ]
  },
  {
   "cell_type": "code",
   "execution_count": 18,
   "id": "dfedc84e-9c4a-440d-808b-55bf45392d56",
   "metadata": {},
   "outputs": [
    {
     "data": {
      "text/plain": [
       "['area covered by neighbouring cells',\n",
       " 'mean segment length within 3 steps',\n",
       " 'number of unique enclosures in ETC neigbhourhood',\n",
       " 'mean inter-building distance',\n",
       " 'area covered by edge-attached ETCs',\n",
       " 'shared walls ratio of buildings',\n",
       " 'local node density of street network',\n",
       " 'reached total ETC area by local street network',\n",
       " 'street alignment of building',\n",
       " 'reached ETCs by local street network',\n",
       " 'local degree weighted node density of street network']"
      ]
     },
     "execution_count": 18,
     "metadata": {},
     "output_type": "execute_result"
    }
   ],
   "source": [
    "[used_keys[c] for c in non_correlated.sort_values().index]"
   ]
  },
  {
   "cell_type": "code",
   "execution_count": 17,
   "id": "2239719b-033f-478c-81ad-5ef00b6c6b1e",
   "metadata": {},
   "outputs": [
    {
     "data": {
      "text/plain": [
       "Ellipsis"
      ]
     },
     "execution_count": 17,
     "metadata": {},
     "output_type": "execute_result"
    }
   ],
   "source": [
    "c = 'mdcAre' # this is due to the tesellation topology issues\n",
    "c = 'ldsMSL' # this is due to a bug in the momepy.SegmentsLengths code, if you pick .series it returns the sum\n",
    "c = 'ltcWRB' # this is due to the tesellation topology issues\n",
    "c = 'ltbIBD' # this is due to the tesellation topology issues\n",
    "c = 'sdsAre' # because it uses all the edges that touch a tessellation in general is higher - network ratio - get nearest street \n",
    "c = 'mtbSWR' # we capped it at 1, old can be higher + we use a larger buffer\n",
    "c = 'lddNDe' #  nodes and edges are pretty much the same...\n",
    "c = 'sddAre' # no idea\n",
    "..."
   ]
  },
  {
   "cell_type": "code",
   "execution_count": 20,
   "id": "57670d47-f002-421b-a5d3-5833ffbb68e5",
   "metadata": {},
   "outputs": [],
   "source": [
    "tessellation = gpd.read_parquet(chars_dir + f\"tessellations_chars_{region_id}.parquet\")\n",
    "buildings = gpd.read_parquet(chars_dir + f\"buildings_chars_{region_id}.parquet\")\n",
    "enclosures = gpd.read_parquet(chars_dir + f\"enclosures_chars_{region_id}.parquet\")\n",
    "streets = gpd.read_parquet(chars_dir + f\"streets_chars_{region_id}.parquet\")"
   ]
  },
  {
   "cell_type": "code",
   "execution_count": 21,
   "id": "fdce4348-eb8d-4d65-bb0a-6b7d733ed5c2",
   "metadata": {},
   "outputs": [
    {
     "name": "stdout",
     "output_type": "stream",
     "text": [
      "0.641135074747926 (82375,)\n"
     ]
    }
   ],
   "source": [
    "c = 'lddNDe' \n",
    "\n",
    "\n",
    "new_values = new_prague_data[c].values\n",
    "old_values = old_prague_data[c].values\n",
    "\n",
    "# skip nas\n",
    "nas = np.isnan(new_values) | np.isnan(old_values)\n",
    "new_values = new_values[~nas]\n",
    "old_values = old_values[~nas]\n",
    "print(np.corrcoef(new_values, old_values)[0,1], new_values.shape)"
   ]
  },
  {
   "cell_type": "code",
   "execution_count": 19,
   "id": "0d90db71-e1f6-45d0-bb59-c74afa79292f",
   "metadata": {},
   "outputs": [
    {
     "data": {
      "text/plain": [
       "0.9699666160849773"
      ]
     },
     "execution_count": 19,
     "metadata": {},
     "output_type": "execute_result"
    }
   ],
   "source": [
    "(tessellation['nID'].values == old_prague_data['edgeID_primary'].values).sum() / old_prague_data['edgeID_primary'].shape[0]"
   ]
  },
  {
   "cell_type": "code",
   "execution_count": 20,
   "id": "87bd6678-54a0-4ed9-8480-afd46e5e120b",
   "metadata": {},
   "outputs": [
    {
     "data": {
      "text/plain": [
       "0.9826039453717754"
      ]
     },
     "execution_count": 20,
     "metadata": {},
     "output_type": "execute_result"
    }
   ],
   "source": [
    "(tessellation['nodeID'].values + 1 == old_prague_data['nodeID'].values).sum() / old_prague_data['nodeID'].shape[0]"
   ]
  },
  {
   "cell_type": "code",
   "execution_count": 22,
   "id": "a90669eb-ad31-42b3-85d3-088deaed4c8d",
   "metadata": {},
   "outputs": [
    {
     "data": {
      "text/plain": [
       "99.86145862208346"
      ]
     },
     "execution_count": 22,
     "metadata": {},
     "output_type": "execute_result"
    }
   ],
   "source": [
    "np.sum(old_values - new_values)"
   ]
  },
  {
   "cell_type": "code",
   "execution_count": 25,
   "id": "a7dcfec5-d200-48c2-942a-25fe0a125070",
   "metadata": {},
   "outputs": [],
   "source": [
    "graph = mm.gdf_to_nx(streets, preserve_index=True)\n",
    "graph = mm.node_degree(graph)\n",
    "res = mm.node_density(graph, radius=5, verbose=False)"
   ]
  },
  {
   "cell_type": "code",
   "execution_count": 26,
   "id": "8c2a3964-4071-4390-944b-8806e1378099",
   "metadata": {},
   "outputs": [
    {
     "name": "stderr",
     "output_type": "stream",
     "text": [
      "/home/krasen/libpysal/libpysal/weights/weights.py:1685: UserWarning: The weights matrix is not fully connected: \n",
      " There are 41 disconnected components.\n",
      "  w = W(neighbors, weights, ids, silence_warnings=silence_warnings)\n"
     ]
    }
   ],
   "source": [
    "nodes, edges, sw = mm.nx_to_gdf(res, spatial_weights=True)"
   ]
  },
  {
   "cell_type": "code",
   "execution_count": null,
   "id": "a65601e7-f21c-49c8-ac7a-c790917d9887",
   "metadata": {},
   "outputs": [],
   "source": []
  },
  {
   "cell_type": "code",
   "execution_count": null,
   "id": "b6da6d4f-e68c-43e7-b3ca-91977ad36a16",
   "metadata": {},
   "outputs": [],
   "source": []
  },
  {
   "cell_type": "code",
   "execution_count": null,
   "id": "7038b9aa-2f2b-4a79-83c4-95a2841df7c9",
   "metadata": {},
   "outputs": [],
   "source": []
  },
  {
   "cell_type": "code",
   "execution_count": 27,
   "id": "b94deb69-9650-4a73-a5bb-7a947687bd90",
   "metadata": {},
   "outputs": [],
   "source": [
    "nodes.index = nodes.index + 1"
   ]
  },
  {
   "cell_type": "code",
   "execution_count": 28,
   "id": "e866710a-d661-4ede-8a68-ff79086c8b36",
   "metadata": {},
   "outputs": [],
   "source": [
    "c = 'degree'\n",
    "\n",
    "r =  old_prague_data[['nodeID', c]].groupby('nodeID').first()"
   ]
  },
  {
   "cell_type": "code",
   "execution_count": 29,
   "id": "1f7b1e8a-5a04-44af-bf12-8a841d3cdc00",
   "metadata": {},
   "outputs": [],
   "source": [
    "assert (nodes.loc[r.index, c] == r.values[:, 0]).all()"
   ]
  },
  {
   "cell_type": "code",
   "execution_count": 30,
   "id": "70714bff-10f3-40cc-8dc1-8650506e2e81",
   "metadata": {},
   "outputs": [
    {
     "name": "stderr",
     "output_type": "stream",
     "text": [
      "/tmp/ipykernel_30141/422387120.py:1: FutureWarning: `momepy.sw_high` is deprecated. Replace it with .higher_order() method of libpysal.graph.Graph or pin momepy version <1.0. This class will be removed in 1.0. \n",
      "  nodes_w5 = mm.sw_high(k=5, weights=sw)\n"
     ]
    }
   ],
   "source": [
    "nodes_w5 = mm.sw_high(k=5, weights=sw)"
   ]
  },
  {
   "cell_type": "code",
   "execution_count": 31,
   "id": "9a252bdd-850d-48c9-9c7a-b34f6a3954a9",
   "metadata": {},
   "outputs": [
    {
     "name": "stderr",
     "output_type": "stream",
     "text": [
      "/tmp/ipykernel_30141/2870891164.py:1: FutureWarning: Class based API like `momepy.NodeDensity` is deprecated. Replace it with `momepy.node_density` to use functional API instead or pin momepy version <1.0. Class-based API will be removed in 1.0. \n",
      "  res = mm.NodeDensity(nodes.reset_index(drop=True), edges, nodes_w5, verbose=False).series\n"
     ]
    }
   ],
   "source": [
    "res = mm.NodeDensity(nodes.reset_index(drop=True), edges, nodes_w5, verbose=False).series"
   ]
  },
  {
   "cell_type": "code",
   "execution_count": 32,
   "id": "596c183e-7255-4a94-ba6d-6225c0538da7",
   "metadata": {},
   "outputs": [],
   "source": [
    "assert np.allclose(res.values, nodes['node_density'].values)"
   ]
  },
  {
   "cell_type": "code",
   "execution_count": null,
   "id": "0fa9ded7-b5ed-4948-a3f0-71b803187c8c",
   "metadata": {},
   "outputs": [],
   "source": []
  },
  {
   "cell_type": "code",
   "execution_count": null,
   "id": "5ce0e0cc-f367-4769-8a67-1d9483b9419b",
   "metadata": {},
   "outputs": [],
   "source": []
  },
  {
   "cell_type": "code",
   "execution_count": null,
   "id": "e46b43bd-5a03-495b-b6ce-8a5f154a77c7",
   "metadata": {},
   "outputs": [],
   "source": []
  },
  {
   "cell_type": "code",
   "execution_count": 124,
   "id": "b650220f-7407-4dec-931f-2434ccbf3b91",
   "metadata": {},
   "outputs": [],
   "source": [
    "plotting = streets.copy()"
   ]
  },
  {
   "cell_type": "code",
   "execution_count": 125,
   "id": "f9a29796-6e30-409f-98f7-2947b01ee67e",
   "metadata": {},
   "outputs": [
    {
     "name": "stdout",
     "output_type": "stream",
     "text": [
      "CPU times: user 58 ms, sys: 7.98 ms, total: 65.9 ms\n",
      "Wall time: 65.9 ms\n"
     ]
    },
    {
     "name": "stderr",
     "output_type": "stream",
     "text": [
      "/home/krasen/miniconda3/envs/urban_taxonomy/lib/python3.12/site-packages/lonboard/_geoarrow/ops/reproject.py:97: UserWarning: Input being reprojected to EPSG:4326 CRS\n",
      "  warnings.warn(\"Input being reprojected to EPSG:4326 CRS\")\n"
     ]
    }
   ],
   "source": [
    "%%time\n",
    "layer = lonboard.PathLayer.from_geopandas(plotting, width_min_pixels=1)"
   ]
  },
  {
   "cell_type": "code",
   "execution_count": 126,
   "id": "d59a8cfe-ce7b-48c1-93e6-05f9aa99d0b3",
   "metadata": {},
   "outputs": [],
   "source": [
    "sc = Sidecar(title='Clusters')\n",
    "m = lonboard.Map(layer, basemap_style=lonboard.basemap.CartoBasemap.Positron)\n",
    "with sc:\n",
    "    display(m)"
   ]
  },
  {
   "cell_type": "code",
   "execution_count": 134,
   "id": "b79d8149-0d20-4652-81ad-4632647391bf",
   "metadata": {},
   "outputs": [
    {
     "ename": "ValueError",
     "evalue": "arange: cannot compute length",
     "output_type": "error",
     "traceback": [
      "\u001b[0;31m---------------------------------------------------------------------------\u001b[0m",
      "\u001b[0;31mValueError\u001b[0m                                Traceback (most recent call last)",
      "Cell \u001b[0;32mIn[134], line 2\u001b[0m\n\u001b[1;32m      1\u001b[0m column \u001b[38;5;241m=\u001b[39m c\n\u001b[0;32m----> 2\u001b[0m classifier \u001b[38;5;241m=\u001b[39m \u001b[43mclassify\u001b[49m\u001b[43m(\u001b[49m\u001b[43mstreets\u001b[49m\u001b[43m[\u001b[49m\u001b[43mcolumn\u001b[49m\u001b[43m]\u001b[49m\u001b[43m,\u001b[49m\u001b[43m \u001b[49m\u001b[38;5;124;43m'\u001b[39;49m\u001b[38;5;124;43mequalinterval\u001b[39;49m\u001b[38;5;124;43m'\u001b[39;49m\u001b[43m,\u001b[49m\u001b[43m \u001b[49m\u001b[43mk\u001b[49m\u001b[38;5;241;43m=\u001b[39;49m\u001b[38;5;241;43m20\u001b[39;49m\u001b[43m)\u001b[49m\n\u001b[1;32m      3\u001b[0m normalizer \u001b[38;5;241m=\u001b[39m mpl\u001b[38;5;241m.\u001b[39mcolors\u001b[38;5;241m.\u001b[39mNormalize(\u001b[38;5;241m0\u001b[39m, classifier\u001b[38;5;241m.\u001b[39mbins\u001b[38;5;241m.\u001b[39mshape[\u001b[38;5;241m0\u001b[39m])\n\u001b[1;32m      4\u001b[0m vals \u001b[38;5;241m=\u001b[39m normalizer(classifier\u001b[38;5;241m.\u001b[39myb)\n",
      "File \u001b[0;32m~/miniconda3/envs/urban_taxonomy/lib/python3.12/site-packages/mapclassify/_classify_API.py:214\u001b[0m, in \u001b[0;36mclassify\u001b[0;34m(y, scheme, k, pct, pct_sampled, truncate, hinge, multiples, mindiff, initial, bins, lowest, anchor)\u001b[0m\n\u001b[1;32m    204\u001b[0m     classifier \u001b[38;5;241m=\u001b[39m _classifiers[scheme](y, bins, lowest)\n\u001b[1;32m    206\u001b[0m \u001b[38;5;28;01melif\u001b[39;00m scheme \u001b[38;5;129;01min\u001b[39;00m [\n\u001b[1;32m    207\u001b[0m     \u001b[38;5;124m\"\u001b[39m\u001b[38;5;124mequalinterval\u001b[39m\u001b[38;5;124m\"\u001b[39m,\n\u001b[1;32m    208\u001b[0m     \u001b[38;5;124m\"\u001b[39m\u001b[38;5;124mfisherjenks\u001b[39m\u001b[38;5;124m\"\u001b[39m,\n\u001b[0;32m   (...)\u001b[0m\n\u001b[1;32m    212\u001b[0m     \u001b[38;5;124m\"\u001b[39m\u001b[38;5;124mprettybreaks\u001b[39m\u001b[38;5;124m\"\u001b[39m,\n\u001b[1;32m    213\u001b[0m ]:\n\u001b[0;32m--> 214\u001b[0m     classifier \u001b[38;5;241m=\u001b[39m \u001b[43m_classifiers\u001b[49m\u001b[43m[\u001b[49m\u001b[43mscheme\u001b[49m\u001b[43m]\u001b[49m\u001b[43m(\u001b[49m\u001b[43my\u001b[49m\u001b[43m,\u001b[49m\u001b[43m \u001b[49m\u001b[43mk\u001b[49m\u001b[43m)\u001b[49m\n\u001b[1;32m    216\u001b[0m \u001b[38;5;28;01mreturn\u001b[39;00m classifier\n",
      "File \u001b[0;32m~/miniconda3/envs/urban_taxonomy/lib/python3.12/site-packages/mapclassify/classifiers.py:1266\u001b[0m, in \u001b[0;36mEqualInterval.__init__\u001b[0;34m(self, y, k)\u001b[0m\n\u001b[1;32m   1261\u001b[0m     \u001b[38;5;28;01mraise\u001b[39;00m \u001b[38;5;167;01mValueError\u001b[39;00m(\n\u001b[1;32m   1262\u001b[0m         \u001b[38;5;124mf\u001b[39m\u001b[38;5;124m\"\u001b[39m\u001b[38;5;124mNot enough unique values in array to form \u001b[39m\u001b[38;5;132;01m{\u001b[39;00mk\u001b[38;5;132;01m}\u001b[39;00m\u001b[38;5;124m classes. \u001b[39m\u001b[38;5;124m\"\u001b[39m\n\u001b[1;32m   1263\u001b[0m         \u001b[38;5;124m\"\u001b[39m\u001b[38;5;124mAll values in `y` are equal.\u001b[39m\u001b[38;5;124m\"\u001b[39m\n\u001b[1;32m   1264\u001b[0m     )\n\u001b[1;32m   1265\u001b[0m \u001b[38;5;28mself\u001b[39m\u001b[38;5;241m.\u001b[39mk \u001b[38;5;241m=\u001b[39m k\n\u001b[0;32m-> 1266\u001b[0m \u001b[43mMapClassifier\u001b[49m\u001b[38;5;241;43m.\u001b[39;49m\u001b[38;5;21;43m__init__\u001b[39;49m\u001b[43m(\u001b[49m\u001b[38;5;28;43mself\u001b[39;49m\u001b[43m,\u001b[49m\u001b[43m \u001b[49m\u001b[43my\u001b[49m\u001b[43m)\u001b[49m\n\u001b[1;32m   1267\u001b[0m \u001b[38;5;28mself\u001b[39m\u001b[38;5;241m.\u001b[39mname \u001b[38;5;241m=\u001b[39m \u001b[38;5;124m\"\u001b[39m\u001b[38;5;124mEqualInterval\u001b[39m\u001b[38;5;124m\"\u001b[39m\n",
      "File \u001b[0;32m~/miniconda3/envs/urban_taxonomy/lib/python3.12/site-packages/mapclassify/classifiers.py:686\u001b[0m, in \u001b[0;36mMapClassifier.__init__\u001b[0;34m(self, y)\u001b[0m\n\u001b[1;32m    684\u001b[0m \u001b[38;5;28mself\u001b[39m\u001b[38;5;241m.\u001b[39mfmt \u001b[38;5;241m=\u001b[39m FMT\n\u001b[1;32m    685\u001b[0m \u001b[38;5;28mself\u001b[39m\u001b[38;5;241m.\u001b[39my \u001b[38;5;241m=\u001b[39m y\n\u001b[0;32m--> 686\u001b[0m \u001b[38;5;28;43mself\u001b[39;49m\u001b[38;5;241;43m.\u001b[39;49m\u001b[43m_classify\u001b[49m\u001b[43m(\u001b[49m\u001b[43m)\u001b[49m\n\u001b[1;32m    687\u001b[0m \u001b[38;5;28mself\u001b[39m\u001b[38;5;241m.\u001b[39m_summary()\n",
      "File \u001b[0;32m~/miniconda3/envs/urban_taxonomy/lib/python3.12/site-packages/mapclassify/classifiers.py:705\u001b[0m, in \u001b[0;36mMapClassifier._classify\u001b[0;34m(self)\u001b[0m\n\u001b[1;32m    704\u001b[0m \u001b[38;5;28;01mdef\u001b[39;00m \u001b[38;5;21m_classify\u001b[39m(\u001b[38;5;28mself\u001b[39m):\n\u001b[0;32m--> 705\u001b[0m     \u001b[38;5;28;43mself\u001b[39;49m\u001b[38;5;241;43m.\u001b[39;49m\u001b[43m_set_bins\u001b[49m\u001b[43m(\u001b[49m\u001b[43m)\u001b[49m\n\u001b[1;32m    706\u001b[0m     \u001b[38;5;28mself\u001b[39m\u001b[38;5;241m.\u001b[39myb, \u001b[38;5;28mself\u001b[39m\u001b[38;5;241m.\u001b[39mcounts \u001b[38;5;241m=\u001b[39m bin1d(\u001b[38;5;28mself\u001b[39m\u001b[38;5;241m.\u001b[39my, \u001b[38;5;28mself\u001b[39m\u001b[38;5;241m.\u001b[39mbins)\n",
      "File \u001b[0;32m~/miniconda3/envs/urban_taxonomy/lib/python3.12/site-packages/mapclassify/classifiers.py:1276\u001b[0m, in \u001b[0;36mEqualInterval._set_bins\u001b[0;34m(self)\u001b[0m\n\u001b[1;32m   1274\u001b[0m rg \u001b[38;5;241m=\u001b[39m max_y \u001b[38;5;241m-\u001b[39m min_y\n\u001b[1;32m   1275\u001b[0m width \u001b[38;5;241m=\u001b[39m rg \u001b[38;5;241m*\u001b[39m \u001b[38;5;241m1.0\u001b[39m \u001b[38;5;241m/\u001b[39m k\n\u001b[0;32m-> 1276\u001b[0m cuts \u001b[38;5;241m=\u001b[39m \u001b[43mnp\u001b[49m\u001b[38;5;241;43m.\u001b[39;49m\u001b[43marange\u001b[49m\u001b[43m(\u001b[49m\u001b[43mmin_y\u001b[49m\u001b[43m \u001b[49m\u001b[38;5;241;43m+\u001b[39;49m\u001b[43m \u001b[49m\u001b[43mwidth\u001b[49m\u001b[43m,\u001b[49m\u001b[43m \u001b[49m\u001b[43mmax_y\u001b[49m\u001b[43m \u001b[49m\u001b[38;5;241;43m+\u001b[39;49m\u001b[43m \u001b[49m\u001b[43mwidth\u001b[49m\u001b[43m,\u001b[49m\u001b[43m \u001b[49m\u001b[43mwidth\u001b[49m\u001b[43m)\u001b[49m\n\u001b[1;32m   1277\u001b[0m \u001b[38;5;28;01mif\u001b[39;00m \u001b[38;5;28mlen\u001b[39m(cuts) \u001b[38;5;241m>\u001b[39m \u001b[38;5;28mself\u001b[39m\u001b[38;5;241m.\u001b[39mk:  \u001b[38;5;66;03m# handle overshooting\u001b[39;00m\n\u001b[1;32m   1278\u001b[0m     cuts \u001b[38;5;241m=\u001b[39m cuts[\u001b[38;5;241m0\u001b[39m:k]\n",
      "\u001b[0;31mValueError\u001b[0m: arange: cannot compute length"
     ]
    }
   ],
   "source": [
    "column = c\n",
    "classifier = classify(streets[column], 'equalinterval', k=20)\n",
    "normalizer = mpl.colors.Normalize(0, classifier.bins.shape[0])\n",
    "vals = normalizer(classifier.yb)\n",
    "layer.get_color = apply_continuous_cmap(vals, mpl.colormaps['viridis'])"
   ]
  },
  {
   "cell_type": "code",
   "execution_count": null,
   "id": "05c793fd-ce2c-4ee0-9383-ab43a1b0da31",
   "metadata": {},
   "outputs": [],
   "source": []
  },
  {
   "cell_type": "code",
   "execution_count": null,
   "id": "a823b1d5-27f7-42bd-8372-298f43302c2b",
   "metadata": {},
   "outputs": [],
   "source": []
  },
  {
   "cell_type": "code",
   "execution_count": null,
   "id": "e9b6b1ca-1ffc-454a-be2b-d753d7a6247e",
   "metadata": {},
   "outputs": [],
   "source": []
  },
  {
   "cell_type": "code",
   "execution_count": 73,
   "id": "5678844a-b041-444a-8859-d5fbe58878af",
   "metadata": {},
   "outputs": [],
   "source": [
    "barca_chars = [\"stbCeA\",\n",
    "    \"sdcLAL\",\n",
    "    \"sdcAre\",\n",
    "    \"sscCCo\",\n",
    "    \"sscERI\",\n",
    "    \"sicCAR\",\n",
    "    \"mtbAli\",\n",
    "    \"mtbNDi\",\n",
    "    \"mtcWNe\",\n",
    "    \"mdcAre\",\n",
    "    \"ltbIBD\",\n",
    "    \"stcSAl\",\n",
    "    \"ltcWRE\",\n",
    "    \"sdbAre\",\n",
    "    \"sdbPer\",\n",
    "    \"sdbCoA\",\n",
    "    \"ssbCCo\",\n",
    "    \"ssbCor\",\n",
    "    \"ssbSqu\",\n",
    "    \"ssbERI\",\n",
    "    \"ssbElo\",\n",
    "    \"ssbCCM\",\n",
    "    \"ssbCCD\",\n",
    "    \"mtbSWR\",\n",
    "    \"ldbPWL\",\n",
    "    \"stbSAl\",\n",
    "    \"libNCo\",\n",
    "    \"sdsLen\",\n",
    "    \"sdsSPW\",\n",
    "    \"sdsSPO\",\n",
    "    \"sdsSWD\",\n",
    "    \"sssLin\",\n",
    "    \"sdsAre\",\n",
    "    \"sisBpM\",\n",
    "    \"misRea\",\n",
    "    \"mdsAre\",\n",
    "    \"ldsMSL\",\n",
    "    \"degree\",\n",
    "    \"meshedness\",\n",
    "    \"proportion_3\",\n",
    "    \"proportion_4\",\n",
    "    \"proportion_0\",\n",
    "    \"local_closeness\",\n",
    "    \"ldsCDL\",\n",
    "    \"xcnSCl\",\n",
    "    \"mtdMDi\",\n",
    "    \"lddNDe\",\n",
    "    \"linWID\",\n",
    "    \"sddAre\",\n",
    "    \"ldeAre\",\n",
    "    \"ldePer\",\n",
    "    \"lseCCo\",\n",
    "    \"lseERI\",\n",
    "    \"lseCWA\",\n",
    "    \"lteOri\",\n",
    "    \"lteWNB\",\n",
    "    \"lieWCe\",]"
   ]
  },
  {
   "cell_type": "code",
   "execution_count": null,
   "id": "a9912b7f-bdbc-42b6-8c27-74c1434a6604",
   "metadata": {},
   "outputs": [],
   "source": []
  },
  {
   "cell_type": "code",
   "execution_count": 77,
   "id": "c65655a4-0269-4d0d-a13a-9bdf0468b4b4",
   "metadata": {},
   "outputs": [],
   "source": [
    "new_b_chars = []\n",
    "for c in barca_chars:\n",
    "\n",
    "    if c in graph_keys:\n",
    "        c = graph_keys[c]\n",
    "\n",
    "    if c not in new_prague_data.keys():\n",
    "        print(c)\n",
    "        continue\n",
    "\n",
    "    new_b_chars.append(c)"
   ]
  },
  {
   "cell_type": "code",
   "execution_count": 79,
   "id": "04643daf-3287-4714-bba9-4d4a9580c6bc",
   "metadata": {},
   "outputs": [
    {
     "data": {
      "text/plain": [
       "57"
      ]
     },
     "execution_count": 79,
     "metadata": {},
     "output_type": "execute_result"
    }
   ],
   "source": [
    "len(new_b_chars)"
   ]
  },
  {
   "cell_type": "code",
   "execution_count": null,
   "id": "70571439-c765-44f4-9830-5c44ff279060",
   "metadata": {},
   "outputs": [],
   "source": []
  },
  {
   "cell_type": "code",
   "execution_count": null,
   "id": "16e7df40-085b-4c73-a1ec-57d3bccb9180",
   "metadata": {},
   "outputs": [],
   "source": []
  },
  {
   "cell_type": "code",
   "execution_count": null,
   "id": "43f560de-8c20-46c3-9a38-9e1c7b3fe6cc",
   "metadata": {},
   "outputs": [],
   "source": []
  }
 ],
 "metadata": {
  "kernelspec": {
   "display_name": "Python 3 (ipykernel)",
   "language": "python",
   "name": "python3"
  },
  "language_info": {
   "codemirror_mode": {
    "name": "ipython",
    "version": 3
   },
   "file_extension": ".py",
   "mimetype": "text/x-python",
   "name": "python",
   "nbconvert_exporter": "python",
   "pygments_lexer": "ipython3",
   "version": "3.12.4"
  }
 },
 "nbformat": 4,
 "nbformat_minor": 5
}
