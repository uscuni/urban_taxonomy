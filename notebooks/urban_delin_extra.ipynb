{
 "cells": [
  {
   "cell_type": "code",
   "execution_count": 1,
   "id": "94332f8f-099a-4ac9-a289-6af658275bf1",
   "metadata": {},
   "outputs": [],
   "source": [
    "import geopandas as gpd\n",
    "import scipy as sp\n",
    "import numpy as np\n",
    "import pandas as pd\n",
    "from shapely.geometry.polygon import Polygon\n",
    "from libpysal.graph import Graph\n",
    "from scipy.spatial import Delaunay\n",
    "from scipy.sparse import csc_matrix\n",
    "import pickle"
   ]
  },
  {
   "cell_type": "code",
   "execution_count": null,
   "id": "00ca8356-3a03-4995-8711-efbd43eecb15",
   "metadata": {},
   "outputs": [],
   "source": []
  },
  {
   "cell_type": "code",
   "execution_count": 2,
   "id": "526ef514-610d-43bf-b272-7e17e318af9b",
   "metadata": {},
   "outputs": [
    {
     "name": "stdout",
     "output_type": "stream",
     "text": [
      "CPU times: user 3.32 s, sys: 312 ms, total: 3.63 s\n",
      "Wall time: 3.63 s\n"
     ]
    }
   ],
   "source": [
    "%%time\n",
    "## read in the data and swap Lon, Lat. \n",
    "## depending how the data is on the server you can delete that line\n",
    "df = pd.read_csv('../data/NLD-buffer100-2.csv')\n",
    "df = df.loc[:, ['Lon', 'Lat']]"
   ]
  },
  {
   "cell_type": "code",
   "execution_count": 3,
   "id": "bf655f27-625e-495f-bd32-f4c19ce39a7d",
   "metadata": {},
   "outputs": [],
   "source": [
    "def triangle_area(tri):\n",
    "    x1, y1, x2, y2, x3, y3 = tri[0][0], tri[0][1], tri[1][0], tri[1][1], tri[2][0], tri[2][1]\n",
    "    return abs(0.5 * (((x2-x1)*(y3-y1))-((x3-x1)*(y2-y1))))"
   ]
  },
  {
   "cell_type": "code",
   "execution_count": 4,
   "id": "4922de53-c562-4c2d-8cac-d4500c64c31b",
   "metadata": {},
   "outputs": [],
   "source": [
    "def get_cutoff_value(iteration, tri_areas):\n",
    "    \n",
    "    for _ in range(iteration):\n",
    "        cutoff_value = tri_areas.mean()\n",
    "        size = tri_areas.shape[0]\n",
    "        below = (tri_areas <= cutoff_value).sum()\n",
    "        above =  (tri_areas > cutoff_value).sum()\n",
    "\n",
    "        # update for next iteration\n",
    "        tri_areas = tri_areas[tri_areas <= cutoff_value]\n",
    "\n",
    "    return size, cutoff_value, below, above"
   ]
  },
  {
   "cell_type": "code",
   "execution_count": 5,
   "id": "9d5774f1-fd48-48c6-b3d4-0e7f8b0cd6bb",
   "metadata": {},
   "outputs": [],
   "source": [
    "points = df.copy()\n",
    "# points = df.iloc[:1_000_000, ]\n",
    "\n",
    "min_buildings = 5000 ### set to 1_000, otherwise there are thousands of small triangles\n",
    "\n",
    "iterations = 3"
   ]
  },
  {
   "cell_type": "code",
   "execution_count": 6,
   "id": "dc1f76cb-934a-4063-b51b-670719cf609e",
   "metadata": {},
   "outputs": [
    {
     "name": "stdout",
     "output_type": "stream",
     "text": [
      "CPU times: user 4min 1s, sys: 5.55 s, total: 4min 7s\n",
      "Wall time: 4min 7s\n"
     ]
    }
   ],
   "source": [
    "%%time\n",
    "## do the triangulation\n",
    "tri = Delaunay(points.values)\n",
    "\n",
    "# get the area for every triangle\n",
    "areas = [triangle_area(tri.points[x]) for x in tri.simplices]\n",
    "areas = pd.Series(areas)"
   ]
  },
  {
   "cell_type": "code",
   "execution_count": 7,
   "id": "dd650793-4d9a-4207-a26d-6fc20a68ea05",
   "metadata": {},
   "outputs": [
    {
     "name": "stdout",
     "output_type": "stream",
     "text": [
      " number of triangles: 62838846  cutoff: 2135.8141694395786  below: 58947829  above: 3891017\n",
      " number of triangles: 58947829  cutoff: 236.80226163707073  below: 42075668  above: 16872161\n",
      " number of triangles: 42075668  cutoff: 83.8697153964877  below: 24496352  above: 17579316\n",
      "CPU times: user 1min 50s, sys: 4.89 s, total: 1min 55s\n",
      "Wall time: 1min 55s\n"
     ]
    }
   ],
   "source": [
    "%%time\n",
    "\n",
    "## select urban triangles that are below the cutoff\n",
    "for iteration in range(1, iterations+1):\n",
    "    \n",
    "    total_size, cutoff_value, below, above = get_cutoff_value(iteration, areas)\n",
    "    print(' number of triangles:', total_size, \n",
    "          ' cutoff:', cutoff_value,\n",
    "          ' below:', below, \n",
    "          ' above:', above )\n",
    "    \n",
    "    urban_triangles = areas[areas<= cutoff_value]\n",
    "\n",
    "    ## build a sparse graph to:\n",
    "    ##  1. select the points within the urban triangles\n",
    "    ##  2. group the points in connected components, based on touching triangles\n",
    "    sources = []\n",
    "    targets = []\n",
    "    \n",
    "    for x in tri.simplices[urban_triangles.index.values]:\n",
    "        sources.append(x[0])\n",
    "        targets.append(x[1])\n",
    "        \n",
    "        sources.append(x[0])\n",
    "        targets.append(x[2])\n",
    "    \n",
    "        sources.append(x[1])\n",
    "        targets.append(x[2])\n",
    "    \n",
    "    sparse_graph = csc_matrix((np.ones(len(sources)), (sources, targets)), shape=(tri.points.shape[0], tri.points.shape[0]))\n",
    "    num_comps, component_labels = sp.sparse.csgraph.connected_components(sparse_graph)\n",
    "    \n",
    "    ## label the points: -1 - non-urban, 0 and up - indicate clusters\n",
    "    vals, counts = np.unique(component_labels, return_counts=True)\n",
    "    urban_cluster_labels = vals[counts > min_buildings]\n",
    "    labels = pd.Series(-1, points.index)\n",
    "    for uc in urban_cluster_labels:\n",
    "        labels.iloc[np.where(component_labels == uc)[0]] = uc\n",
    "\n",
    "    # save the labels, you have to change the path\n",
    "    with open(f'labels_head_tails_{iteration}_{min_buildings}.pickle', 'wb') as f:\n",
    "        pickle.dump(labels.values, f, protocol = pickle.HIGHEST_PROTOCOL)"
   ]
  },
  {
   "cell_type": "code",
   "execution_count": null,
   "id": "f2500f15-f308-40bf-8ead-5d8bf797b70a",
   "metadata": {},
   "outputs": [],
   "source": []
  },
  {
   "cell_type": "code",
   "execution_count": 21,
   "id": "831d30fd-d7f2-48ca-ba73-1b34c1440b62",
   "metadata": {},
   "outputs": [
    {
     "data": {
      "text/plain": [
       "mean      2135.814169\n",
       "std     745785.095772\n",
       "min          0.000013\n",
       "25%         48.497790\n",
       "50%        123.411764\n",
       "75%        339.802731\n",
       "dtype: float64"
      ]
     },
     "execution_count": 21,
     "metadata": {},
     "output_type": "execute_result"
    }
   ],
   "source": [
    "areas.describe().iloc[1:-1]"
   ]
  },
  {
   "cell_type": "code",
   "execution_count": null,
   "id": "a3623731-6877-46e2-a4fd-0c0b3a8a58b3",
   "metadata": {},
   "outputs": [],
   "source": []
  },
  {
   "cell_type": "code",
   "execution_count": 10,
   "id": "c3ad3b13-4de2-479b-bb85-5bf68cb19b72",
   "metadata": {},
   "outputs": [],
   "source": [
    "iteration = 2\n",
    "min_buildings = 5000"
   ]
  },
  {
   "cell_type": "code",
   "execution_count": 11,
   "id": "fb829f69-bf07-400c-aee4-cb62b7dea4c5",
   "metadata": {},
   "outputs": [],
   "source": [
    "with open(f'labels_head_tails_{iteration}_{min_buildings}.pickle', 'rb') as f:\n",
    "    labels = pickle.load(f)"
   ]
  },
  {
   "cell_type": "code",
   "execution_count": 12,
   "id": "23964b00-2793-442a-9558-5cdc74e319fd",
   "metadata": {},
   "outputs": [],
   "source": [
    "def gen_clusters(cluster_points):\n",
    "\n",
    "    for group in cluster_points:\n",
    "        \n",
    "        yield df.iloc[group, :2].values"
   ]
  },
  {
   "cell_type": "code",
   "execution_count": 13,
   "id": "6efc1534-4bd0-4fbd-aa10-297b7212bad2",
   "metadata": {},
   "outputs": [
    {
     "name": "stdout",
     "output_type": "stream",
     "text": [
      "CPU times: user 384 ms, sys: 0 ns, total: 384 ms\n",
      "Wall time: 383 ms\n"
     ]
    }
   ],
   "source": [
    "%%time\n",
    "\n",
    "# create the alpha-shapes\n",
    "cluster_points = []\n",
    "names = []\n",
    "buildings = []\n",
    "# area = []\n",
    "\n",
    "for i, g in pd.Series(labels).groupby(labels):\n",
    "    if (i == -1) or (g.index.shape[0] < min_buildings):\n",
    "        continue\n",
    "    names.append(i)\n",
    "    cluster_points.append(g.index.values)\n",
    "    buildings.append(g.shape[0])\n",
    "    # areas = gdf.Area[g.index.values]\n",
    "    # area.append(areas.sum())"
   ]
  },
  {
   "cell_type": "code",
   "execution_count": 14,
   "id": "9129e519-8ab0-49cc-9129-c84554a9a03e",
   "metadata": {},
   "outputs": [],
   "source": [
    "from joblib import Parallel, effective_n_jobs, delayed\n",
    "import libpysal"
   ]
  },
  {
   "cell_type": "code",
   "execution_count": 15,
   "id": "7e2f0e68-9470-4bf3-adb5-e7753c708947",
   "metadata": {},
   "outputs": [
    {
     "name": "stdout",
     "output_type": "stream",
     "text": [
      "CPU times: user 1.56 s, sys: 2.76 s, total: 4.32 s\n",
      "Wall time: 23.8 s\n"
     ]
    },
    {
     "name": "stderr",
     "output_type": "stream",
     "text": [
      "/home/krasen/urban_taxonomy/.pixi/envs/default/lib/python3.12/site-packages/pyproj/crs/crs.py:141: FutureWarning: '+init=<authority>:<code>' syntax is deprecated. '<authority>:<code>' is the preferred initialization method. When making the change, be mindful of axis order changes: https://pyproj4.github.io/pyproj/stable/gotchas.html#axis-order-changes-in-proj-6\n",
      "  in_crs_string = _prepare_from_proj_string(in_crs_string)\n"
     ]
    }
   ],
   "source": [
    "%%time\n",
    "n_jobs = effective_n_jobs(-1)\n",
    "step = 100\n",
    "chunked_results = Parallel(n_jobs)(delayed(libpysal.cg.alpha_shape_auto)(cluster, step) for cluster in gen_clusters(cluster_points))\n",
    "shapes = gpd.GeoDataFrame(pd.Series(chunked_results, name='geometry'))\n",
    "shapes.crs = {'init' : 'epsg:3035'}\n",
    "shapes['buildings'] = buildings\n",
    "shapes['cluster'] = names\n",
    "shapes = shapes.to_crs(epsg=4326)"
   ]
  },
  {
   "cell_type": "code",
   "execution_count": 16,
   "id": "45def499-8d7e-40ea-b100-9071142f5873",
   "metadata": {},
   "outputs": [
    {
     "data": {
      "text/plain": [
       "(979, 3)"
      ]
     },
     "execution_count": 16,
     "metadata": {},
     "output_type": "execute_result"
    }
   ],
   "source": [
    "shapes.shape"
   ]
  },
  {
   "cell_type": "code",
   "execution_count": 18,
   "id": "43f5c22f-97b8-403d-a955-0ffa2db4a70c",
   "metadata": {},
   "outputs": [],
   "source": [
    "# shapes.sort_values('buildings', ascending=False).iloc[:1000].explore()"
   ]
  },
  {
   "cell_type": "code",
   "execution_count": 17,
   "id": "76d21406-c92e-4df0-b0b5-c3f79c5ce4a0",
   "metadata": {},
   "outputs": [],
   "source": [
    "# shapes.explore()"
   ]
  },
  {
   "cell_type": "code",
   "execution_count": null,
   "id": "d11bf114-5f18-4e76-aa78-a396290fbde3",
   "metadata": {},
   "outputs": [],
   "source": []
  },
  {
   "cell_type": "code",
   "execution_count": null,
   "id": "bbe6641f-6d76-4746-8d49-10c45ad26332",
   "metadata": {},
   "outputs": [],
   "source": []
  },
  {
   "cell_type": "code",
   "execution_count": null,
   "id": "6b4abe1d-813a-46d8-80ca-259623c89af1",
   "metadata": {},
   "outputs": [],
   "source": []
  },
  {
   "cell_type": "code",
   "execution_count": null,
   "id": "82e0e0f3-e8c7-4a3f-b97c-4ca9a9817193",
   "metadata": {},
   "outputs": [],
   "source": []
  },
  {
   "cell_type": "code",
   "execution_count": null,
   "id": "b9d08ddd-3cf0-4478-9ce5-e3fa5f72eacd",
   "metadata": {},
   "outputs": [],
   "source": []
  },
  {
   "cell_type": "code",
   "execution_count": null,
   "id": "c77e4fa6-f915-48c5-ab24-439ccd490d48",
   "metadata": {},
   "outputs": [],
   "source": []
  },
  {
   "cell_type": "code",
   "execution_count": null,
   "id": "c25b8812-3f3f-4d3c-a526-0ec814a0ee9f",
   "metadata": {},
   "outputs": [],
   "source": []
  },
  {
   "cell_type": "code",
   "execution_count": null,
   "id": "f79c425a-8cec-4534-9f6a-6bcd9896be61",
   "metadata": {},
   "outputs": [],
   "source": []
  },
  {
   "cell_type": "code",
   "execution_count": null,
   "id": "8de4c384-1047-4335-b4cc-b745ea183205",
   "metadata": {},
   "outputs": [],
   "source": []
  },
  {
   "cell_type": "code",
   "execution_count": null,
   "id": "2d7298a5-7a74-45ae-9c93-48f6e4b9f943",
   "metadata": {},
   "outputs": [],
   "source": []
  },
  {
   "cell_type": "code",
   "execution_count": null,
   "id": "d6385d9b-9774-4fd4-8514-eecf0c83e9f6",
   "metadata": {},
   "outputs": [],
   "source": []
  },
  {
   "cell_type": "markdown",
   "id": "1c5b242e-3f04-4b5d-80af-69720c700618",
   "metadata": {},
   "source": [
    "----"
   ]
  },
  {
   "cell_type": "code",
   "execution_count": null,
   "id": "620e93e8-dc3f-498f-bcbb-978aae33ec43",
   "metadata": {},
   "outputs": [],
   "source": [
    "%%time\n",
    "iterations = 2\n",
    "\n",
    "\n",
    "min_buildings = 4 ### set to 1_000, otherwise there are thousands of small triangles\n",
    "cutoff = 'mean'\n",
    "\n",
    "input_points = df.copy()\n",
    "# input_points = df.iloc[:1_000_000, ]"
   ]
  },
  {
   "cell_type": "code",
   "execution_count": null,
   "id": "a72e63d0-2f3c-458b-9993-6f52bbdbf45f",
   "metadata": {},
   "outputs": [],
   "source": [
    "%%time\n",
    "\n",
    "for i in range(iterations):\n",
    "\n",
    "    ## get new labels\n",
    "    input_labels = natural_cities_iteration(input_points, min_buildings)\n",
    "    \n",
    "    points_labels = pd.Series(-1, index=df.index)\n",
    "    points_labels.loc[input_labels.index] = input_labels.values\n",
    "    \n",
    "    # save labels\n",
    "    points_labels.to_csv(f'natural_cities_{i}_{cutoff}_{min_buildings}.csv')\n",
    "    \n",
    "    # drop non-urban points for the next iteration\n",
    "    input_points = input_points[input_labels > -1]"
   ]
  },
  {
   "cell_type": "code",
   "execution_count": null,
   "id": "2a45a41c-ec27-4339-80d5-70a5939b2fd6",
   "metadata": {},
   "outputs": [],
   "source": [
    "def natural_cities_iteration(points, min_buildings=4, cutoff='mean'):\n",
    "    '''Label the building centroids: -1 non-urban, 0 and up indicate clusters.\n",
    "    points - input data, 2d numpy array\n",
    "    min_buildings - the size of a group of buildings to be considered noise, lower values make the relabeling slower. should always be > 4\n",
    "    cutoff - how to compute the cutoff value, default is mean\n",
    "    '''\n",
    "\n",
    "    print(points.shape)\n",
    "    \n",
    "    ## do the triangulation\n",
    "    tri = Delaunay(points.values)\n",
    "\n",
    "    # get the area for every triangle\n",
    "    areas = [triangle_area(tri.points[x]) for x in tri.simplices]\n",
    "    areas = pd.Series(areas)\n",
    "\n",
    "    ## select urban triangles that are below the cutoff\n",
    "    if cutoff == 'mean':\n",
    "        cutoff_value = areas.mean()\n",
    "    else:\n",
    "        cutoff_value = areas.median()\n",
    "\n",
    "    print(cutoff_value)\n",
    "    urban_triangles = areas[areas<= cutoff_value]\n",
    "\n",
    "\n",
    "    ## build a sparse graph to:\n",
    "    ##  1. select the points within the urban triangles\n",
    "    ##  2. group the points in connected components, based on touching triangles\n",
    "    sources = []\n",
    "    targets = []\n",
    "    \n",
    "    for x in tri.simplices[urban_triangles.index.values]:\n",
    "        sources.append(x[0])\n",
    "        targets.append(x[1])\n",
    "        \n",
    "        sources.append(x[0])\n",
    "        targets.append(x[2])\n",
    "    \n",
    "        sources.append(x[1])\n",
    "        targets.append(x[2])\n",
    "\n",
    "    sparse_graph = csc_matrix((np.ones(len(sources)), (sources, targets)), shape=(tri.points.shape[0], tri.points.shape[0]))\n",
    "    num_comps, component_labels = sp.sparse.csgraph.connected_components(sparse_graph)\n",
    "\n",
    "    ## label the points: -1 - non-urban, 0 and up - indicate clusters\n",
    "    vals, counts = np.unique(component_labels, return_counts=True)\n",
    "    urban_cluster_labels = vals[counts > min_buildings]\n",
    "    labels = pd.Series(-1, points.index)\n",
    "    for uc in urban_cluster_labels:\n",
    "        labels.iloc[np.where(component_labels == uc)[0]] = uc\n",
    "    return labels"
   ]
  },
  {
   "cell_type": "code",
   "execution_count": null,
   "id": "495b155b-b2ce-4979-b346-9a083963a6ad",
   "metadata": {},
   "outputs": [],
   "source": []
  },
  {
   "cell_type": "code",
   "execution_count": null,
   "id": "61d005cf-d583-4949-908b-43a42537fd43",
   "metadata": {},
   "outputs": [],
   "source": []
  },
  {
   "cell_type": "code",
   "execution_count": 5,
   "id": "1a72ad7f-5a3e-4235-9254-ee241a8b2c83",
   "metadata": {},
   "outputs": [
    {
     "name": "stdout",
     "output_type": "stream",
     "text": [
      "CPU times: user 2min 19s, sys: 5.1 s, total: 2min 24s\n",
      "Wall time: 2min 24s\n"
     ]
    }
   ],
   "source": [
    "%%time\n",
    "\n",
    "# do the triangulation, should take around \n",
    "tri = Delaunay(points)"
   ]
  },
  {
   "cell_type": "code",
   "execution_count": 39,
   "id": "f14a5d11-273c-435b-95af-7dc861fc8750",
   "metadata": {},
   "outputs": [],
   "source": [
    "vals, counts = np.unique(component_labels, return_counts=True)"
   ]
  },
  {
   "cell_type": "code",
   "execution_count": 40,
   "id": "2208639b-b54e-4453-835f-0b489bcdc64e",
   "metadata": {},
   "outputs": [],
   "source": [
    "urban_cluster_labels = vals[counts > min_buildings]"
   ]
  },
  {
   "cell_type": "code",
   "execution_count": 41,
   "id": "3290ea75-61c4-42f3-b0e6-e6d730ba3fc8",
   "metadata": {},
   "outputs": [],
   "source": [
    "labels = pd.Series(-1, gdf.index)"
   ]
  },
  {
   "cell_type": "code",
   "execution_count": 42,
   "id": "6ebdafbd-7929-4b5a-84b0-30b667b969e4",
   "metadata": {},
   "outputs": [],
   "source": [
    "for uc in urban_cluster_labels:\n",
    "    labels.iloc[np.where(component_labels == uc)[0]] = uc"
   ]
  },
  {
   "cell_type": "code",
   "execution_count": 43,
   "id": "938ca27d-6fab-49d8-bd91-5e05529e198d",
   "metadata": {},
   "outputs": [],
   "source": [
    "assert labels.unique().shape[0] == urban_cluster_labels.shape[0] + 1"
   ]
  },
  {
   "cell_type": "code",
   "execution_count": 50,
   "id": "9dd48675-fda3-47f4-adda-fdfd2e49472f",
   "metadata": {},
   "outputs": [
    {
     "data": {
      "text/plain": [
       "3833"
      ]
     },
     "execution_count": 50,
     "metadata": {},
     "output_type": "execute_result"
    }
   ],
   "source": [
    "labels.unique().shape[0]"
   ]
  },
  {
   "cell_type": "code",
   "execution_count": null,
   "id": "93777b10-9244-46cc-a9d2-93d00d474fa8",
   "metadata": {},
   "outputs": [],
   "source": []
  },
  {
   "cell_type": "code",
   "execution_count": null,
   "id": "8c1f7202-a65c-4839-a114-89722bd54949",
   "metadata": {},
   "outputs": [],
   "source": []
  },
  {
   "cell_type": "code",
   "execution_count": 6,
   "id": "ed10a3bc-13c2-444b-b2ec-78d495e2d98f",
   "metadata": {},
   "outputs": [
    {
     "data": {
      "text/plain": [
       "(62838846, 3)"
      ]
     },
     "execution_count": 6,
     "metadata": {},
     "output_type": "execute_result"
    }
   ],
   "source": [
    "x = tri.simplices[0]\n",
    "tri.simplices.shape"
   ]
  },
  {
   "cell_type": "code",
   "execution_count": 7,
   "id": "ebe345f0-b683-482d-aa4a-99ced9bec621",
   "metadata": {},
   "outputs": [],
   "source": [
    "\n",
    "\n",
    "assert triangle_area(tri.points[x]) == Polygon(tri.points[x]).area"
   ]
  },
  {
   "cell_type": "code",
   "execution_count": 8,
   "id": "0d28c603-4a6d-4390-83e0-414b88e68eb1",
   "metadata": {},
   "outputs": [
    {
     "name": "stdout",
     "output_type": "stream",
     "text": [
      "CPU times: user 1min 38s, sys: 396 ms, total: 1min 38s\n",
      "Wall time: 1min 38s\n"
     ]
    }
   ],
   "source": [
    "%%time\n",
    "areas = [triangle_area(tri.points[x]) for x in tri.simplices]"
   ]
  },
  {
   "cell_type": "code",
   "execution_count": null,
   "id": "34100427-1b98-4c9b-9cac-26d385d33dae",
   "metadata": {},
   "outputs": [],
   "source": []
  },
  {
   "cell_type": "code",
   "execution_count": 10,
   "id": "175156bd-7f5b-43f2-b0d8-d9e13214e0e1",
   "metadata": {},
   "outputs": [
    {
     "data": {
      "text/plain": [
       "mean      2135.814169\n",
       "std     745785.095772\n",
       "min          0.000013\n",
       "25%         48.497790\n",
       "50%        123.411764\n",
       "75%        339.802731\n",
       "dtype: float64"
      ]
     },
     "execution_count": 10,
     "metadata": {},
     "output_type": "execute_result"
    }
   ],
   "source": [
    "areas = pd.Series(areas)\n",
    "areas.describe().iloc[1:-1]"
   ]
  },
  {
   "cell_type": "code",
   "execution_count": 31,
   "id": "86c62e6c-5ded-454e-866e-99cfc369ab83",
   "metadata": {},
   "outputs": [],
   "source": [
    "cutoff = 'median'\n",
    "\n",
    "if cutoff == 'mean':\n",
    "    cutoff_value = areas.mean()\n",
    "else:\n",
    "    cutoff_value = areas.median()"
   ]
  },
  {
   "cell_type": "code",
   "execution_count": 32,
   "id": "2bdabdb7-477e-4e75-8c59-cd4d1a2858ff",
   "metadata": {},
   "outputs": [],
   "source": [
    "urban_triangles = areas[areas<= cutoff_value]"
   ]
  },
  {
   "cell_type": "code",
   "execution_count": 33,
   "id": "b88d2346-3fd8-440d-a84c-d01d226baab1",
   "metadata": {},
   "outputs": [
    {
     "data": {
      "text/plain": [
       "Index([      17,       34,       37,       84,       85,      105,      109,\n",
       "            198,      209,      215,\n",
       "       ...\n",
       "       62838836, 62838837, 62838838, 62838839, 62838840, 62838841, 62838842,\n",
       "       62838843, 62838844, 62838845],\n",
       "      dtype='int64', length=31419423)"
      ]
     },
     "execution_count": 33,
     "metadata": {},
     "output_type": "execute_result"
    }
   ],
   "source": [
    "urban_triangles.index"
   ]
  },
  {
   "cell_type": "code",
   "execution_count": null,
   "id": "73b96d48-ea36-4b7b-b98c-42f92fc097ea",
   "metadata": {},
   "outputs": [],
   "source": []
  },
  {
   "cell_type": "code",
   "execution_count": 34,
   "id": "262022d9-b2d5-4ef2-ae1e-d06465bd054a",
   "metadata": {},
   "outputs": [
    {
     "name": "stdout",
     "output_type": "stream",
     "text": [
      "CPU times: user 9.11 s, sys: 1.33 s, total: 10.4 s\n",
      "Wall time: 10.4 s\n"
     ]
    }
   ],
   "source": [
    "%%time\n",
    "sources = []\n",
    "targets = []\n",
    "\n",
    "for x in tri.simplices[urban_triangles.index.values]:\n",
    "    sources.append(x[0])\n",
    "    targets.append(x[1])\n",
    "    \n",
    "    sources.append(x[0])\n",
    "    targets.append(x[2])\n",
    "\n",
    "    sources.append(x[1])\n",
    "    targets.append(x[2])"
   ]
  },
  {
   "cell_type": "code",
   "execution_count": null,
   "id": "c332da2e-a407-4084-a984-3e6563c9338b",
   "metadata": {},
   "outputs": [],
   "source": []
  },
  {
   "cell_type": "code",
   "execution_count": 35,
   "id": "6d43ff62-1437-4090-93ba-13af93079607",
   "metadata": {},
   "outputs": [],
   "source": [
    "from scipy.sparse import csc_matrix"
   ]
  },
  {
   "cell_type": "code",
   "execution_count": 36,
   "id": "c2f26a78-b959-43c2-9a98-4c6d227baeeb",
   "metadata": {},
   "outputs": [
    {
     "name": "stdout",
     "output_type": "stream",
     "text": [
      "CPU times: user 12.9 s, sys: 201 ms, total: 13.1 s\n",
      "Wall time: 13 s\n"
     ]
    }
   ],
   "source": [
    "%%time\n",
    "sparse_graph = csc_matrix((np.ones(len(sources)), (sources, targets)), shape=(tri.points.shape[0], tri.points.shape[0]))"
   ]
  },
  {
   "cell_type": "code",
   "execution_count": 37,
   "id": "95b49479-7f65-42fa-ac97-f4a1f624712d",
   "metadata": {},
   "outputs": [
    {
     "name": "stdout",
     "output_type": "stream",
     "text": [
      "CPU times: user 1.18 s, sys: 2.03 ms, total: 1.18 s\n",
      "Wall time: 1.18 s\n"
     ]
    }
   ],
   "source": [
    "%%time\n",
    "num_comps, component_labels = sp.sparse.csgraph.connected_components(sparse_graph)"
   ]
  },
  {
   "cell_type": "code",
   "execution_count": 38,
   "id": "0183588e-b21e-44d3-af73-5766564f7d99",
   "metadata": {},
   "outputs": [],
   "source": [
    "min_buildings = 1_000"
   ]
  },
  {
   "cell_type": "code",
   "execution_count": 39,
   "id": "40533587-3a13-4c19-9fc9-61656e7f8ed5",
   "metadata": {},
   "outputs": [],
   "source": [
    "vals, counts = np.unique(component_labels, return_counts=True)"
   ]
  },
  {
   "cell_type": "code",
   "execution_count": 40,
   "id": "d6f09dbe-3ce7-482b-a0ca-61a98e1c2298",
   "metadata": {},
   "outputs": [],
   "source": [
    "urban_cluster_labels = vals[counts > min_buildings]"
   ]
  },
  {
   "cell_type": "code",
   "execution_count": 41,
   "id": "9cff5edf-df7f-4e12-af66-625c8fc68258",
   "metadata": {},
   "outputs": [],
   "source": [
    "labels = pd.Series(-1, gdf.index)"
   ]
  },
  {
   "cell_type": "code",
   "execution_count": 42,
   "id": "ed4e7bf3-bcbd-4f4a-ab4e-f48f63747e94",
   "metadata": {},
   "outputs": [],
   "source": [
    "for uc in urban_cluster_labels:\n",
    "    labels.iloc[np.where(component_labels == uc)[0]] = uc"
   ]
  },
  {
   "cell_type": "code",
   "execution_count": 43,
   "id": "f1de92d2-51e1-41bd-83dd-fec81dc0d4f7",
   "metadata": {},
   "outputs": [],
   "source": [
    "assert labels.unique().shape[0] == urban_cluster_labels.shape[0] + 1"
   ]
  },
  {
   "cell_type": "code",
   "execution_count": 50,
   "id": "a6b4cb95-33a3-4d89-a1d9-b8e32b25d2a3",
   "metadata": {},
   "outputs": [
    {
     "data": {
      "text/plain": [
       "3833"
      ]
     },
     "execution_count": 50,
     "metadata": {},
     "output_type": "execute_result"
    }
   ],
   "source": [
    "labels.unique().shape[0]"
   ]
  },
  {
   "cell_type": "code",
   "execution_count": null,
   "id": "b2da2431-dca2-43bf-8f1e-d86d46ca78c7",
   "metadata": {},
   "outputs": [],
   "source": []
  },
  {
   "cell_type": "code",
   "execution_count": null,
   "id": "d93fce25-74e8-4948-ac84-6df24dcbfa08",
   "metadata": {},
   "outputs": [],
   "source": []
  },
  {
   "cell_type": "code",
   "execution_count": null,
   "id": "6cd59164-bbe1-492b-9a33-2c82296cfafe",
   "metadata": {},
   "outputs": [],
   "source": []
  },
  {
   "cell_type": "code",
   "execution_count": 51,
   "id": "1aaff3a9-cd70-494e-a5c6-cfa470997420",
   "metadata": {},
   "outputs": [],
   "source": [
    " def gen_clusters(cluster_points):\n",
    "    \n",
    "    for group in cluster_points:\n",
    "        \n",
    "        yield gdf.iloc[group, :2].values"
   ]
  },
  {
   "cell_type": "code",
   "execution_count": 52,
   "id": "586d8da5-5211-4ee1-bfba-78c471baf90c",
   "metadata": {},
   "outputs": [
    {
     "name": "stdout",
     "output_type": "stream",
     "text": [
      "CPU times: user 1.26 s, sys: 45.9 ms, total: 1.3 s\n",
      "Wall time: 1.3 s\n"
     ]
    }
   ],
   "source": [
    "%%time\n",
    "\n",
    "# create the alpha-shapes\n",
    "cluster_points = []\n",
    "names = []\n",
    "buildings = []\n",
    "# area = []\n",
    "\n",
    "for i, g in pd.Series(labels).groupby(labels):\n",
    "    if (i == -1) or (g.index.shape[0] < min_buildings):\n",
    "        continue\n",
    "    names.append(i)\n",
    "    cluster_points.append(g.index.values)\n",
    "    buildings.append(g.shape[0])\n",
    "    # areas = gdf.Area[g.index.values]\n",
    "    # area.append(areas.sum())"
   ]
  },
  {
   "cell_type": "code",
   "execution_count": 53,
   "id": "48d4c055-6aa6-4a84-bf18-526848593792",
   "metadata": {},
   "outputs": [],
   "source": [
    "from joblib import Parallel, effective_n_jobs, delayed\n",
    "import libpysal"
   ]
  },
  {
   "cell_type": "code",
   "execution_count": null,
   "id": "c9520375-05a1-4fbd-972c-373f9f3657ae",
   "metadata": {},
   "outputs": [],
   "source": []
  },
  {
   "cell_type": "code",
   "execution_count": 54,
   "id": "416e22c9-db3f-4bcc-89a6-124b25135c30",
   "metadata": {},
   "outputs": [
    {
     "name": "stdout",
     "output_type": "stream",
     "text": [
      "CPU times: user 1.19 s, sys: 3.7 s, total: 4.9 s\n",
      "Wall time: 18.7 s\n"
     ]
    },
    {
     "name": "stderr",
     "output_type": "stream",
     "text": [
      "/home/krasen/urban_taxonomy/.pixi/envs/default/lib/python3.12/site-packages/pyproj/crs/crs.py:141: FutureWarning: '+init=<authority>:<code>' syntax is deprecated. '<authority>:<code>' is the preferred initialization method. When making the change, be mindful of axis order changes: https://pyproj4.github.io/pyproj/stable/gotchas.html#axis-order-changes-in-proj-6\n",
      "  in_crs_string = _prepare_from_proj_string(in_crs_string)\n"
     ]
    }
   ],
   "source": [
    "%%time\n",
    "n_jobs = effective_n_jobs(-1)\n",
    "step = 100\n",
    "chunked_results = Parallel(n_jobs)(delayed(libpysal.cg.alpha_shape_auto)(cluster, step) for cluster in gen_clusters(cluster_points))\n",
    "shapes = gpd.GeoDataFrame(pd.Series(chunked_results, name='geometry'))\n",
    "shapes.crs = {'init' : 'epsg:3035'}\n",
    "shapes['buildings'] = buildings\n",
    "shapes['cluster'] = names\n",
    "shapes = shapes.to_crs(epsg=4326)"
   ]
  },
  {
   "cell_type": "code",
   "execution_count": null,
   "id": "566be425-6ddf-4a98-9732-06945cc7d371",
   "metadata": {},
   "outputs": [],
   "source": []
  },
  {
   "cell_type": "code",
   "execution_count": 59,
   "id": "dbd0baf5-7914-4221-9017-2ecf5489ffb2",
   "metadata": {},
   "outputs": [],
   "source": [
    "# shapes.explore()"
   ]
  },
  {
   "cell_type": "code",
   "execution_count": null,
   "id": "61d1f59c-a0a0-4ef7-8f85-b84e2c547f27",
   "metadata": {},
   "outputs": [],
   "source": []
  },
  {
   "cell_type": "code",
   "execution_count": 56,
   "id": "5280dd01-4727-427d-968e-38d3128b82c7",
   "metadata": {},
   "outputs": [],
   "source": [
    "shapes.to_file(f'natural_cities_{cutoff}_{min_buildings}.geojson', driver='GeoJSON')"
   ]
  },
  {
   "cell_type": "code",
   "execution_count": null,
   "id": "f645bb3b-42d8-4130-a96c-01253e502488",
   "metadata": {},
   "outputs": [],
   "source": []
  },
  {
   "cell_type": "code",
   "execution_count": 64,
   "id": "3bb89ec3-133c-4ba1-83b8-9bd80821e7ef",
   "metadata": {},
   "outputs": [],
   "source": [
    "# median_shapes.explore()"
   ]
  },
  {
   "cell_type": "code",
   "execution_count": null,
   "id": "24b7489d-5a34-4bab-9aef-6128cd356231",
   "metadata": {},
   "outputs": [],
   "source": []
  },
  {
   "cell_type": "code",
   "execution_count": null,
   "id": "27f3ca49-a676-4b31-881f-3fc8e01121a8",
   "metadata": {},
   "outputs": [],
   "source": []
  },
  {
   "cell_type": "code",
   "execution_count": null,
   "id": "0c6c6e44-5bbe-4cfd-9da8-9aa4f9335f1d",
   "metadata": {},
   "outputs": [],
   "source": []
  },
  {
   "cell_type": "code",
   "execution_count": null,
   "id": "036f0b1b-0376-4fe2-9007-0fa82a172258",
   "metadata": {},
   "outputs": [],
   "source": []
  },
  {
   "cell_type": "markdown",
   "id": "3c783281-b012-4857-b881-930b68928743",
   "metadata": {},
   "source": [
    "----\n"
   ]
  },
  {
   "cell_type": "code",
   "execution_count": null,
   "id": "368c6788-158d-4fb8-810f-7bc6867e1752",
   "metadata": {},
   "outputs": [],
   "source": [
    "### This is the geometry approach"
   ]
  },
  {
   "cell_type": "code",
   "execution_count": null,
   "id": "a5efa1c6-15c4-4043-b515-c6050c3db5d3",
   "metadata": {},
   "outputs": [],
   "source": []
  },
  {
   "cell_type": "code",
   "execution_count": null,
   "id": "4824e303-5dc9-4835-9b49-b17af362535b",
   "metadata": {},
   "outputs": [],
   "source": [
    "%%time\n",
    "## do the triangulation\n",
    "tri = Delaunay(points.values)"
   ]
  },
  {
   "cell_type": "code",
   "execution_count": null,
   "id": "a21ebae5-11ce-4baa-bfc1-8b5d3b1aee93",
   "metadata": {},
   "outputs": [],
   "source": []
  },
  {
   "cell_type": "code",
   "execution_count": 5,
   "id": "96650791-f634-496e-bbf8-c74cfadf652a",
   "metadata": {},
   "outputs": [
    {
     "name": "stderr",
     "output_type": "stream",
     "text": [
      "UsageError: Cell magic `%%` not found.\n"
     ]
    }
   ],
   "source": [
    "%%time\n",
    "coord_groups = [tri.points[x] for x in tri.simplices]"
   ]
  },
  {
   "cell_type": "code",
   "execution_count": null,
   "id": "6e5a3373-2e3b-46b8-89a8-eb1e6a67ec31",
   "metadata": {},
   "outputs": [],
   "source": [
    "%%time\n",
    "polygons = gpd.GeoSeries([Polygon(x) for x in coord_groups], name='geometry', crs={'init': 'epsg:3035'})"
   ]
  },
  {
   "cell_type": "code",
   "execution_count": null,
   "id": "56572387-f750-494c-be0b-2cef232cf38a",
   "metadata": {},
   "outputs": [],
   "source": [
    "polygons.area.describe().iloc[1:-1]"
   ]
  },
  {
   "cell_type": "code",
   "execution_count": null,
   "id": "49a27465-f1b5-4528-8842-c7ba72758d92",
   "metadata": {},
   "outputs": [],
   "source": [
    "cutoff = 'mean'\n",
    "\n",
    "if cutoff == 'mean':\n",
    "    cutoff_value = polygons.area.mean()\n",
    "else:\n",
    "    cutoff_value = polygons.area.median()"
   ]
  },
  {
   "cell_type": "code",
   "execution_count": null,
   "id": "3a9b51ec-d19a-4f0f-85a4-377c49a86d54",
   "metadata": {},
   "outputs": [],
   "source": [
    "urban_triangles = polygons[polygons.area <= cutoff_value]"
   ]
  },
  {
   "cell_type": "code",
   "execution_count": null,
   "id": "0c174cab-4c0a-45d7-8745-9eb04a4a4fb7",
   "metadata": {},
   "outputs": [],
   "source": [
    "# %%time\n",
    "\n",
    "# cannot rely on strict topology\n",
    "# graph = Graph.build_fuzzy_contiguity(polygons, buffer=0.1)\n",
    "# subgraph = graph.subgraph(urban_triangles.index.values)"
   ]
  },
  {
   "cell_type": "code",
   "execution_count": null,
   "id": "8defa858-e942-4418-a3bb-839b56b9c627",
   "metadata": {},
   "outputs": [],
   "source": []
  },
  {
   "cell_type": "code",
   "execution_count": null,
   "id": "070df6c7-dc95-4319-85c3-fcca36d1f30e",
   "metadata": {},
   "outputs": [],
   "source": []
  },
  {
   "cell_type": "code",
   "execution_count": null,
   "id": "61695a89-9ae6-4059-a526-f628a4b5fe29",
   "metadata": {},
   "outputs": [],
   "source": []
  },
  {
   "cell_type": "code",
   "execution_count": null,
   "id": "cefdf70b-5873-4e66-99a0-346236cbbc7c",
   "metadata": {},
   "outputs": [],
   "source": []
  },
  {
   "cell_type": "code",
   "execution_count": null,
   "id": "7add9904-3ca4-4840-9260-9fc73e31018d",
   "metadata": {},
   "outputs": [],
   "source": [
    "%%time\n",
    "graph = Graph.build_fuzzy_contiguity(urban_triangles, buffer=0.1)"
   ]
  },
  {
   "cell_type": "code",
   "execution_count": null,
   "id": "865471df-a27b-4ab1-848a-92281386e135",
   "metadata": {},
   "outputs": [],
   "source": []
  },
  {
   "cell_type": "code",
   "execution_count": null,
   "id": "36c82b1c-19d7-477c-b6f7-71b0af69b386",
   "metadata": {},
   "outputs": [],
   "source": []
  },
  {
   "cell_type": "code",
   "execution_count": null,
   "id": "2778af00-caa5-45b9-9314-0863d8362fda",
   "metadata": {},
   "outputs": [],
   "source": []
  },
  {
   "cell_type": "code",
   "execution_count": null,
   "id": "48b8811e-26e3-4079-8780-485f5deb363c",
   "metadata": {
    "scrolled": true
   },
   "outputs": [],
   "source": [
    "# %%time\n",
    "# dissolved = urban_triangles.to_frame().dissolve(subgraph.component_labels)"
   ]
  },
  {
   "cell_type": "code",
   "execution_count": null,
   "id": "dfac4b68-d351-4060-b1e5-17f935c51b5d",
   "metadata": {},
   "outputs": [],
   "source": []
  },
  {
   "cell_type": "code",
   "execution_count": null,
   "id": "208f3268-f549-40cc-afc6-b7f55341f76a",
   "metadata": {},
   "outputs": [],
   "source": []
  }
 ],
 "metadata": {
  "kernelspec": {
   "display_name": "Python 3 (ipykernel)",
   "language": "python",
   "name": "python3"
  },
  "language_info": {
   "codemirror_mode": {
    "name": "ipython",
    "version": 3
   },
   "file_extension": ".py",
   "mimetype": "text/x-python",
   "name": "python",
   "nbconvert_exporter": "python",
   "pygments_lexer": "ipython3",
   "version": "3.12.5"
  }
 },
 "nbformat": 4,
 "nbformat_minor": 5
}
