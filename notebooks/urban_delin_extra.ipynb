{
 "cells": [
  {
   "cell_type": "code",
   "execution_count": 31,
   "id": "94332f8f-099a-4ac9-a289-6af658275bf1",
   "metadata": {},
   "outputs": [],
   "source": [
    "import geopandas as gpd\n",
    "import scipy as sp\n",
    "import numpy as np\n",
    "from shapely.geometry.polygon import Polygon\n",
    "from libpysal.graph import Graph"
   ]
  },
  {
   "cell_type": "code",
   "execution_count": 2,
   "id": "00ca8356-3a03-4995-8711-efbd43eecb15",
   "metadata": {},
   "outputs": [],
   "source": [
    "gdf = gpd.read_parquet('/data/uscuni-ulce/cadastre_buildings_standardised/buildings_czechia.pq')"
   ]
  },
  {
   "cell_type": "code",
   "execution_count": 6,
   "id": "f33a82d2-d5da-4999-9f62-7123ed22fc27",
   "metadata": {},
   "outputs": [],
   "source": [
    "centroids = gdf.geometry.representative_point()"
   ]
  },
  {
   "cell_type": "code",
   "execution_count": 7,
   "id": "96021b91-7e76-4b87-a560-5850c3879c6b",
   "metadata": {},
   "outputs": [],
   "source": [
    "from scipy.spatial import Delaunay"
   ]
  },
  {
   "cell_type": "code",
   "execution_count": 18,
   "id": "3ce5778f-7cc8-47e1-98ba-26eaad70baf6",
   "metadata": {},
   "outputs": [],
   "source": [
    "points = np.vstack((centroids.x, centroids.y)).T"
   ]
  },
  {
   "cell_type": "code",
   "execution_count": null,
   "id": "c0585633-dd3a-4f9f-8ca2-9f2ba0f9ab67",
   "metadata": {},
   "outputs": [],
   "source": []
  },
  {
   "cell_type": "code",
   "execution_count": 19,
   "id": "1a72ad7f-5a3e-4235-9254-ee241a8b2c83",
   "metadata": {},
   "outputs": [
    {
     "name": "stdout",
     "output_type": "stream",
     "text": [
      "CPU times: user 17.9 s, sys: 706 ms, total: 18.6 s\n",
      "Wall time: 18.6 s\n"
     ]
    }
   ],
   "source": [
    "%%time\n",
    "tri = Delaunay(points)"
   ]
  },
  {
   "cell_type": "code",
   "execution_count": null,
   "id": "93777b10-9244-46cc-a9d2-93d00d474fa8",
   "metadata": {},
   "outputs": [],
   "source": []
  },
  {
   "cell_type": "code",
   "execution_count": 20,
   "id": "6e5a3373-2e3b-46b8-89a8-eb1e6a67ec31",
   "metadata": {},
   "outputs": [
    {
     "name": "stdout",
     "output_type": "stream",
     "text": [
      "CPU times: user 1min 4s, sys: 943 ms, total: 1min 5s\n",
      "Wall time: 1min 5s\n"
     ]
    }
   ],
   "source": [
    "%%time\n",
    "coord_groups = [tri.points[x] for x in tri.simplices]\n",
    "polygons = gpd.GeoSeries([Polygon(x) for x in coord_groups], name='geometry', crs=gdf.crs)"
   ]
  },
  {
   "cell_type": "code",
   "execution_count": 48,
   "id": "56572387-f750-494c-be0b-2cef232cf38a",
   "metadata": {},
   "outputs": [
    {
     "data": {
      "text/plain": [
       "mean     10797.864732\n",
       "std     675893.150976\n",
       "min          0.004450\n",
       "25%        185.255010\n",
       "50%        446.261989\n",
       "75%       1156.523512\n",
       "dtype: float64"
      ]
     },
     "execution_count": 48,
     "metadata": {},
     "output_type": "execute_result"
    }
   ],
   "source": [
    "polygons.area.describe().iloc[1:-1]"
   ]
  },
  {
   "cell_type": "code",
   "execution_count": 49,
   "id": "3a9b51ec-d19a-4f0f-85a4-377c49a86d54",
   "metadata": {},
   "outputs": [],
   "source": [
    "urban_triangles = polygons[polygons.area <= polygons.area.mean()]"
   ]
  },
  {
   "cell_type": "code",
   "execution_count": null,
   "id": "7add9904-3ca4-4840-9260-9fc73e31018d",
   "metadata": {},
   "outputs": [],
   "source": []
  },
  {
   "cell_type": "code",
   "execution_count": 33,
   "id": "865471df-a27b-4ab1-848a-92281386e135",
   "metadata": {},
   "outputs": [
    {
     "name": "stdout",
     "output_type": "stream",
     "text": [
      "CPU times: user 9min 33s, sys: 10.3 s, total: 9min 43s\n",
      "Wall time: 9min 43s\n"
     ]
    }
   ],
   "source": [
    "%%time\n",
    "graph = Graph.build_fuzzy_contiguity(polygons, buffer=0.1)"
   ]
  },
  {
   "cell_type": "code",
   "execution_count": null,
   "id": "36c82b1c-19d7-477c-b6f7-71b0af69b386",
   "metadata": {},
   "outputs": [],
   "source": []
  },
  {
   "cell_type": "code",
   "execution_count": null,
   "id": "e6e1082d-623d-44d2-9703-f016c1c909a1",
   "metadata": {},
   "outputs": [],
   "source": []
  },
  {
   "cell_type": "code",
   "execution_count": 50,
   "id": "97e1b9dc-9c4d-45d9-bf6b-e1f1465ab05e",
   "metadata": {},
   "outputs": [
    {
     "name": "stdout",
     "output_type": "stream",
     "text": [
      "CPU times: user 2min 16s, sys: 4.96 s, total: 2min 21s\n",
      "Wall time: 2min 20s\n"
     ]
    }
   ],
   "source": [
    "%%time\n",
    "subgraph = graph.subgraph(urban_triangles.index.values)"
   ]
  },
  {
   "cell_type": "code",
   "execution_count": null,
   "id": "2778af00-caa5-45b9-9314-0863d8362fda",
   "metadata": {},
   "outputs": [],
   "source": []
  },
  {
   "cell_type": "code",
   "execution_count": 51,
   "id": "48b8811e-26e3-4079-8780-485f5deb363c",
   "metadata": {},
   "outputs": [
    {
     "name": "stdout",
     "output_type": "stream",
     "text": [
      "CPU times: user 2min 8s, sys: 237 ms, total: 2min 9s\n",
      "Wall time: 2min 9s\n"
     ]
    }
   ],
   "source": [
    "%%time\n",
    "dissolved = urban_triangles.to_frame().dissolve(subgraph.component_labels)"
   ]
  },
  {
   "cell_type": "code",
   "execution_count": null,
   "id": "2ee50b58-8861-4137-be32-3c57fe9321a5",
   "metadata": {},
   "outputs": [],
   "source": []
  },
  {
   "cell_type": "code",
   "execution_count": 52,
   "id": "0b8d65d9-f64f-4dcc-a3bb-40afa75321e3",
   "metadata": {},
   "outputs": [],
   "source": [
    "dissolved['area'] = dissolved.area"
   ]
  },
  {
   "cell_type": "code",
   "execution_count": 55,
   "id": "2014abbb-53e8-47f4-93bd-3d2e2f759d17",
   "metadata": {},
   "outputs": [],
   "source": [
    "# dissolved.sort_values('area', ascending=False).iloc[:1000].explore()"
   ]
  },
  {
   "cell_type": "code",
   "execution_count": null,
   "id": "3bb89ec3-133c-4ba1-83b8-9bd80821e7ef",
   "metadata": {},
   "outputs": [],
   "source": []
  }
 ],
 "metadata": {
  "kernelspec": {
   "display_name": "Python 3 (ipykernel)",
   "language": "python",
   "name": "python3"
  },
  "language_info": {
   "codemirror_mode": {
    "name": "ipython",
    "version": 3
   },
   "file_extension": ".py",
   "mimetype": "text/x-python",
   "name": "python",
   "nbconvert_exporter": "python",
   "pygments_lexer": "ipython3",
   "version": "3.12.5"
  }
 },
 "nbformat": 4,
 "nbformat_minor": 5
}
