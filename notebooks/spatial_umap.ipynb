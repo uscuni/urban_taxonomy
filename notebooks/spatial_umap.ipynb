{
 "cells": [
  {
   "cell_type": "code",
   "execution_count": null,
   "id": "3add5400-c5aa-494d-b43f-39a7dfe16c1d",
   "metadata": {},
   "outputs": [],
   "source": []
  },
  {
   "cell_type": "code",
   "execution_count": 1,
   "id": "3ff06a39-7d65-49c2-a55f-401a4c50dfd3",
   "metadata": {},
   "outputs": [],
   "source": [
    "import glob\n",
    "\n",
    "import geopandas as gpd\n",
    "import matplotlib.pyplot as plt\n",
    "import numba\n",
    "import numpy as np\n",
    "import pandas as pd\n",
    "from libpysal.graph import read_parquet\n",
    "from sklearn.preprocessing import PowerTransformer, RobustScaler, StandardScaler"
   ]
  },
  {
   "cell_type": "code",
   "execution_count": 2,
   "id": "8b7a5d2c-09d5-4d0c-b817-63598322462e",
   "metadata": {},
   "outputs": [],
   "source": [
    "from core.cluster_validation import generate_neigbhourhood_groups, colored_crosstab\n",
    "from core.utils import used_keys"
   ]
  },
  {
   "cell_type": "code",
   "execution_count": 3,
   "id": "12b0dce6-2926-4f5d-b689-8982ffd3df43",
   "metadata": {},
   "outputs": [
    {
     "name": "stderr",
     "output_type": "stream",
     "text": [
      "/home/krasen/miniconda3/envs/urban_taxonomy/lib/python3.12/site-packages/numba/np/ufunc/dufunc.py:343: NumbaWarning: \u001b[1mCompilation requested for previously compiled argument types ((uint32,)). This has no effect and perhaps indicates a bug in the calling code (compiling a ufunc more than once for the same signature\u001b[0m\n",
      "  warnings.warn(msg, errors.NumbaWarning)\n",
      "/home/krasen/miniconda3/envs/urban_taxonomy/lib/python3.12/site-packages/numba/np/ufunc/dufunc.py:343: NumbaWarning: \u001b[1mCompilation requested for previously compiled argument types ((uint32,)). This has no effect and perhaps indicates a bug in the calling code (compiling a ufunc more than once for the same signature\u001b[0m\n",
      "  warnings.warn(msg, errors.NumbaWarning)\n",
      "/home/krasen/miniconda3/envs/urban_taxonomy/lib/python3.12/site-packages/numba/np/ufunc/dufunc.py:343: NumbaWarning: \u001b[1mCompilation requested for previously compiled argument types ((uint32,)). This has no effect and perhaps indicates a bug in the calling code (compiling a ufunc more than once for the same signature\u001b[0m\n",
      "  warnings.warn(msg, errors.NumbaWarning)\n"
     ]
    }
   ],
   "source": [
    "import umap\n",
    "import umap.plot\n",
    "from palettable.colorbrewer.qualitative import Set3_12\n",
    "from sklearn.metrics import davies_bouldin_score"
   ]
  },
  {
   "cell_type": "code",
   "execution_count": 4,
   "id": "e317c76b-177b-4f16-a338-83d38d5bf92b",
   "metadata": {},
   "outputs": [],
   "source": [
    "region_id = 69300\n",
    "\n",
    "tessellations_dir = '/data/uscuni-ulce/processed_data/tessellations/'\n",
    "chars_dir = \"/data/uscuni-ulce/processed_data/chars/\"\n",
    "graph_dir = \"/data/uscuni-ulce/processed_data/neigh_graphs/\""
   ]
  },
  {
   "cell_type": "code",
   "execution_count": 5,
   "id": "a775f472-f70a-478a-a421-0354149ce5f7",
   "metadata": {},
   "outputs": [],
   "source": [
    "# region_id = 4182\n",
    "\n",
    "# tessellations_dir = graph_dir = '../data/ms_buildings/'\n",
    "# chars_dir = '../data/ms_buildings/chars/'"
   ]
  },
  {
   "cell_type": "code",
   "execution_count": 6,
   "id": "27dac290-8d98-4b28-a9fb-a9fefceb8409",
   "metadata": {},
   "outputs": [],
   "source": [
    "region_id = 'freiburg'\n",
    "\n",
    "tessellations_dir = graph_dir = '../data/freiburg//'\n",
    "chars_dir = '../data/freiburg/chars/'"
   ]
  },
  {
   "cell_type": "code",
   "execution_count": null,
   "id": "73d78ad2-bc27-485f-8d79-f6f08e8d783b",
   "metadata": {},
   "outputs": [],
   "source": []
  },
  {
   "cell_type": "code",
   "execution_count": null,
   "id": "b3eb3e64-bf8d-481e-9d07-27c9ce6b896a",
   "metadata": {},
   "outputs": [],
   "source": []
  },
  {
   "cell_type": "code",
   "execution_count": 7,
   "id": "6cc947b1-45bf-4fcf-8f6a-acb429bd997a",
   "metadata": {},
   "outputs": [
    {
     "data": {
      "text/plain": [
       "(36727, 248)"
      ]
     },
     "execution_count": 7,
     "metadata": {},
     "output_type": "execute_result"
    }
   ],
   "source": [
    "spatial_lag = 3\n",
    "\n",
    "\n",
    "X_train = pd.read_parquet(chars_dir + f'primary_chars_{region_id}.parquet')\n",
    "\n",
    "# lag = pd.read_parquet(f'/data/uscuni-ulce/processed_data/context_data/context_chars_{region_id}_lag_{spatial_lag}.parquet')\n",
    "# lag = pd.read_parquet(f'/data/uscuni-ulce/processed_data/context_data/unprocessed_context_chars_{region_id}_lag_{spatial_lag}.parquet')\n",
    "lag = pd.read_parquet(f'../data/freiburg/chars/unprocessed_context_chars_{region_id}_lag_{spatial_lag}.parquet')\n",
    "\n",
    "# X_train = X_train.join(lag[[c for c in lag.columns if '_median' in c]], how='inner')\n",
    "X_train = X_train.join(lag, how='inner')\n",
    "\n",
    "X_train.shape"
   ]
  },
  {
   "cell_type": "code",
   "execution_count": null,
   "id": "e1545bd8-3aa1-43c5-b3a6-2dd8b5940dd2",
   "metadata": {},
   "outputs": [],
   "source": []
  },
  {
   "cell_type": "code",
   "execution_count": null,
   "id": "ea6e9dcc-dd0c-46a9-b869-4dfe85583f0c",
   "metadata": {},
   "outputs": [],
   "source": []
  },
  {
   "cell_type": "code",
   "execution_count": null,
   "id": "fb63c4a5-47b3-418a-ba17-957766619f63",
   "metadata": {},
   "outputs": [],
   "source": []
  },
  {
   "cell_type": "code",
   "execution_count": 8,
   "id": "f3d0a458-97af-4946-bd16-8e41efc23452",
   "metadata": {},
   "outputs": [],
   "source": [
    "X_train = X_train[X_train.index >= 0]\n",
    "\n",
    "\n",
    "vals = np.nan_to_num(StandardScaler().fit_transform(X_train))\n",
    "X_train = pd.DataFrame(vals, columns=X_train.columns, index=X_train.index)\n",
    "# X_train = X_train.clip(-10, 10)\n",
    "\n",
    "vals = np.nan_to_num(X_train)\n",
    "X_train = pd.DataFrame(vals, columns=X_train.columns, index=X_train.index)"
   ]
  },
  {
   "cell_type": "code",
   "execution_count": null,
   "id": "b51c5b82-cb75-42c5-82bd-b22617ebcdfb",
   "metadata": {},
   "outputs": [],
   "source": []
  },
  {
   "cell_type": "code",
   "execution_count": null,
   "id": "b6f4ba89-f863-4747-afab-72d1ae57c700",
   "metadata": {},
   "outputs": [],
   "source": []
  },
  {
   "cell_type": "code",
   "execution_count": 9,
   "id": "a8a0b737-da68-45d6-9224-1d94508037ac",
   "metadata": {},
   "outputs": [],
   "source": [
    "tessellation = gpd.read_parquet(\n",
    "        tessellations_dir + f\"tessellation_{region_id}.parquet\"\n",
    ")\n",
    "tessellation = tessellation[tessellation.index.isin(X_train.index)]"
   ]
  },
  {
   "cell_type": "code",
   "execution_count": null,
   "id": "19824c26-de4b-4580-a976-0ebed5b47c45",
   "metadata": {},
   "outputs": [],
   "source": []
  },
  {
   "cell_type": "code",
   "execution_count": null,
   "id": "3ff2b964-7cfb-492f-b683-5b070a8e7b1e",
   "metadata": {},
   "outputs": [],
   "source": []
  },
  {
   "cell_type": "code",
   "execution_count": 10,
   "id": "d89f5a79-1483-4587-98b8-d37b3386b254",
   "metadata": {},
   "outputs": [],
   "source": [
    "# X_train = pd.read_parquet('../data/old_prague_data/old_prague_data.parquet')\n",
    "# X_train = X_train.set_index('uID').sort_index()\n",
    "# tessellation = gpd.read_file('../data/old_prague_data/prg_geometry.gpkg', \n",
    "#                              layer='tessellation').set_index('uID').sort_index().to_crs(epsg=3035)\n",
    "\n",
    "# vals = np.nan_to_num(StandardScaler().fit_transform(X_train))\n",
    "# X_train = pd.DataFrame(vals, columns=X_train.columns, index=X_train.index)\n",
    "# # X_train = X_train.clip(-10, 10)\n",
    "\n",
    "# vals = np.nan_to_num(X_train)\n",
    "# X_train = pd.DataFrame(vals, columns=X_train.columns, index=X_train.index)"
   ]
  },
  {
   "cell_type": "code",
   "execution_count": null,
   "id": "5f5548f1-d291-4e36-b83e-d56300d01451",
   "metadata": {},
   "outputs": [],
   "source": []
  },
  {
   "cell_type": "code",
   "execution_count": null,
   "id": "96c07ecf-ce90-4664-81ec-a6cf2b421de8",
   "metadata": {},
   "outputs": [],
   "source": []
  },
  {
   "cell_type": "code",
   "execution_count": null,
   "id": "0dbba5da-ad2d-401e-83bc-0c5e7338586f",
   "metadata": {},
   "outputs": [],
   "source": []
  },
  {
   "cell_type": "code",
   "execution_count": 11,
   "id": "7b76ccd7-0ff2-4e58-8ad0-d6010733870a",
   "metadata": {},
   "outputs": [],
   "source": [
    "tess_groups = generate_neigbhourhood_groups(tessellation, \n",
    "                                         include_random_sample=True,\n",
    "                                         random_sample_size=1_000)\n",
    "tess_groups = tess_groups[tess_groups.index.isin(X_train.index)]\n",
    "tess_groups_ilocs = (\n",
    "    pd.Series(np.arange(len(X_train)), index=X_train.index)\n",
    "    .loc[tess_groups.index]\n",
    "    .values\n",
    ")\n",
    "\n",
    "def check_score(data, example_clusters):\n",
    "    groups = example_clusters[example_clusters.index.isin(data.index)]\n",
    "    groups_ilocs = (\n",
    "        pd.Series(np.arange(len(data)), index=data.index).loc[groups.index].values\n",
    "    )\n",
    "    return davies_bouldin_score(data.iloc[groups_ilocs], groups.values)"
   ]
  },
  {
   "cell_type": "code",
   "execution_count": 12,
   "id": "1ba9d2cb-f499-4eb2-9954-4a09d4a695bb",
   "metadata": {},
   "outputs": [],
   "source": [
    "# tessellation.loc[tess_groups.index].explore()"
   ]
  },
  {
   "cell_type": "code",
   "execution_count": 13,
   "id": "a7f3b49c-b781-4128-8ea2-fcb5eaff078e",
   "metadata": {},
   "outputs": [
    {
     "data": {
      "text/html": [
       "<style type=\"text/css\">\n",
       "#T_3aaba_row0_col0 {\n",
       "  background-color: #f7fcfd;\n",
       "  color: #000000;\n",
       "}\n",
       "</style>\n",
       "<table id=\"T_3aaba\">\n",
       "  <thead>\n",
       "    <tr>\n",
       "      <th class=\"blank level0\" >&nbsp;</th>\n",
       "      <th id=\"T_3aaba_level0_col0\" class=\"col_heading level0 col0\" >random</th>\n",
       "    </tr>\n",
       "  </thead>\n",
       "  <tbody>\n",
       "    <tr>\n",
       "      <th id=\"T_3aaba_level0_row0\" class=\"row_heading level0 row0\" >random</th>\n",
       "      <td id=\"T_3aaba_row0_col0\" class=\"data row0 col0\" >0.000000</td>\n",
       "    </tr>\n",
       "  </tbody>\n",
       "</table>\n"
      ],
      "text/plain": [
       "<pandas.io.formats.style.Styler at 0x77d1d38d4a10>"
      ]
     },
     "execution_count": 13,
     "metadata": {},
     "output_type": "execute_result"
    }
   ],
   "source": [
    "from core.cluster_validation import print_distance\n",
    "print_distance( pd.DataFrame(X_train.loc[tess_groups.index]).groupby(tess_groups.values).mean(), metric='euclidean')"
   ]
  },
  {
   "cell_type": "code",
   "execution_count": null,
   "id": "1d0d0809-5664-400c-adb9-1da8528dddaa",
   "metadata": {},
   "outputs": [],
   "source": []
  },
  {
   "cell_type": "code",
   "execution_count": 14,
   "id": "7d2781e7-c07b-48a9-b36a-d3a60330ad81",
   "metadata": {},
   "outputs": [],
   "source": [
    "def show_nn(n_neighbors, n_components, n_epochs, min_dist):\n",
    "    reducer = umap.UMAP(\n",
    "        n_neighbors=n_neighbors,\n",
    "        min_dist=min_dist,\n",
    "        n_components=n_components,\n",
    "        n_epochs=n_epochs,\n",
    "    )\n",
    "    embedding = reducer.fit_transform(X_train.iloc[tess_groups_ilocs])\n",
    "\n",
    "    embedding_df = pd.DataFrame(embedding, index=tess_groups.index)\n",
    "    embedding_df[\"neighbourhood\"] = tess_groups.values\n",
    "\n",
    "    print(\n",
    "        n_neighbors,\n",
    "        n_components,\n",
    "        n_epochs,\n",
    "        min_dist,\n",
    "        \"--\",\n",
    "        davies_bouldin_score(embedding, tess_groups.values),\n",
    "    )\n",
    "\n",
    "    if n_components == 2:\n",
    "        return umap.plot.points(reducer, labels=tess_groups.values)\n",
    "    else:\n",
    "        return None"
   ]
  },
  {
   "cell_type": "code",
   "execution_count": null,
   "id": "04ba31b5-3efc-4151-a3f3-c15640fadc34",
   "metadata": {},
   "outputs": [],
   "source": []
  },
  {
   "cell_type": "code",
   "execution_count": null,
   "id": "311ae13c-5693-4cb4-b097-0d44d244f2aa",
   "metadata": {},
   "outputs": [],
   "source": [
    "for n_neighbors in [15, 25, 50, 100]:\n",
    "    show_nn(n_neighbors=n_neighbors, n_components=2, n_epochs=100, min_dist=0.0)"
   ]
  },
  {
   "cell_type": "code",
   "execution_count": null,
   "id": "70ccb2a0-80d1-474e-8c8b-f3d9dcee89bb",
   "metadata": {},
   "outputs": [],
   "source": []
  },
  {
   "cell_type": "code",
   "execution_count": 15,
   "id": "47ac42ab-3610-4915-9de1-ca6d0a1959db",
   "metadata": {},
   "outputs": [],
   "source": [
    "data = X_train.values"
   ]
  },
  {
   "cell_type": "code",
   "execution_count": 16,
   "id": "2bd83f51-061a-404f-b5d1-5b5accbb8684",
   "metadata": {},
   "outputs": [],
   "source": [
    "n_neighbors = 25\n",
    "negative_sample_rate = n_neighbors\n",
    "n_epochs = 5000\n",
    "\n",
    "noise_level = .5\n",
    "learning_rate = 1\n",
    "\n",
    "neighbor_scale = 1.0\n",
    "symmetrize_graph = True\n",
    "node_embedding_dim = 2"
   ]
  },
  {
   "cell_type": "code",
   "execution_count": null,
   "id": "d8672697-b4d9-4960-aa04-ca8c0d385a9d",
   "metadata": {},
   "outputs": [],
   "source": []
  },
  {
   "cell_type": "code",
   "execution_count": 17,
   "id": "7bc4b482-6195-46cf-bd89-c68fd36d0ba6",
   "metadata": {},
   "outputs": [],
   "source": [
    "### need to compute knn + 1, and then pass the results[1:], there is an issue with the evoc functions - numerical maybe\n",
    "### the nndescent approximation gets the relative density of the nearest neighbours correct compared to real distances\n",
    "### should try to initialise this graph somehow differently based on contiguity - immidiate spatial neighbours are 1s, other neighbours are based on knn similarity"
   ]
  },
  {
   "cell_type": "code",
   "execution_count": 18,
   "id": "dd60afd9-c7fa-4dc3-9eed-d493806b1380",
   "metadata": {},
   "outputs": [
    {
     "name": "stderr",
     "output_type": "stream",
     "text": [
      "/home/krasen/evoc/evoc/float_nndescent.py:287: NumbaTypeSafetyWarning: \u001b[1m\u001b[1m\u001b[1munsafe cast from uint64 to int64. Precision may be lost.\u001b[0m\u001b[0m\u001b[0m\n",
      "  points = point_indices[i]\n"
     ]
    }
   ],
   "source": [
    "from evoc.knn_graph import knn_graph\n",
    "from evoc.graph_construction import neighbor_graph_matrix, smooth_knn_dist, compute_membership_strengths"
   ]
  },
  {
   "cell_type": "code",
   "execution_count": null,
   "id": "721bd0cc-b5d4-45ee-96c0-90fcd336e69f",
   "metadata": {},
   "outputs": [],
   "source": []
  },
  {
   "cell_type": "code",
   "execution_count": 19,
   "id": "b6c85a2a-7d11-441c-9209-f5a1e9afaca2",
   "metadata": {},
   "outputs": [
    {
     "name": "stdout",
     "output_type": "stream",
     "text": [
      "CPU times: user 8.32 s, sys: 185 ms, total: 8.5 s\n",
      "Wall time: 1.53 s\n"
     ]
    }
   ],
   "source": [
    "%%time\n",
    "nn_inds, nn_dists = knn_graph(data, n_neighbors=n_neighbors+1)"
   ]
  },
  {
   "cell_type": "code",
   "execution_count": null,
   "id": "4e835a2b-2941-40ca-9766-7fbe7dadd61c",
   "metadata": {},
   "outputs": [],
   "source": []
  },
  {
   "cell_type": "code",
   "execution_count": null,
   "id": "0def4ea9-199a-47b7-a1e9-b6960ccdfa19",
   "metadata": {},
   "outputs": [],
   "source": []
  },
  {
   "cell_type": "code",
   "execution_count": 20,
   "id": "81307ae7-e2cf-4a75-bce0-309fd7688517",
   "metadata": {},
   "outputs": [
    {
     "name": "stdout",
     "output_type": "stream",
     "text": [
      "CPU times: user 212 ms, sys: 11.2 ms, total: 223 ms\n",
      "Wall time: 85.6 ms\n"
     ]
    }
   ],
   "source": [
    "%%time\n",
    "\n",
    "graph = neighbor_graph_matrix(\n",
    "    neighbor_scale * n_neighbors, nn_inds[:, 1:], nn_dists[:, 1:], symmetrize_graph\n",
    ")"
   ]
  },
  {
   "cell_type": "code",
   "execution_count": 21,
   "id": "36825f6f-f38d-4844-a149-686a3e743cac",
   "metadata": {},
   "outputs": [],
   "source": [
    "from evoc.label_propagation import label_propagation_init"
   ]
  },
  {
   "cell_type": "code",
   "execution_count": 22,
   "id": "e1739b7f-3ba2-4abe-ac66-3d5ee7ec441a",
   "metadata": {},
   "outputs": [
    {
     "name": "stdout",
     "output_type": "stream",
     "text": [
      "CPU times: user 1.21 s, sys: 10.2 ms, total: 1.22 s\n",
      "Wall time: 89.1 ms\n"
     ]
    }
   ],
   "source": [
    "%%time\n",
    "init_embedding = label_propagation_init(\n",
    "            graph,\n",
    "            n_components=node_embedding_dim,\n",
    "            approx_n_parts=np.clip(int(np.sqrt(data.shape[0])), 100, 1024),\n",
    "            random_scale=0.1,\n",
    "            scaling=0.5,\n",
    "            noise_level=noise_level,\n",
    "        )"
   ]
  },
  {
   "cell_type": "code",
   "execution_count": null,
   "id": "c8b8d2cc-1731-4e92-a16b-ea2fecd3f5ab",
   "metadata": {},
   "outputs": [],
   "source": []
  },
  {
   "cell_type": "code",
   "execution_count": 23,
   "id": "d75193ee-b11a-453c-834d-9bd84dac745f",
   "metadata": {},
   "outputs": [],
   "source": [
    "from evoc.node_embedding import node_embedding"
   ]
  },
  {
   "cell_type": "code",
   "execution_count": 24,
   "id": "f3a4daee-f68f-4325-8900-fb555204c652",
   "metadata": {},
   "outputs": [],
   "source": [
    "graph = graph.tocoo()"
   ]
  },
  {
   "cell_type": "code",
   "execution_count": 25,
   "id": "11e60d69-8b03-4bb4-bea9-55b718c5e8ba",
   "metadata": {},
   "outputs": [
    {
     "name": "stderr",
     "output_type": "stream",
     "text": [
      "/home/krasen/evoc/evoc/node_embedding.py:13: RuntimeWarning: overflow encountered in divide\n",
      "  result[n_samples > 0] = float(n_epochs) / np.float32(n_samples[n_samples > 0])\n"
     ]
    },
    {
     "name": "stdout",
     "output_type": "stream",
     "text": [
      "CPU times: user 45.4 s, sys: 247 ms, total: 45.6 s\n",
      "Wall time: 2.84 s\n"
     ]
    }
   ],
   "source": [
    "%%time\n",
    "embedding = node_embedding(\n",
    "        graph,\n",
    "        n_components=node_embedding_dim,\n",
    "        n_epochs=n_epochs,\n",
    "        initial_embedding=init_embedding,\n",
    "        negative_sample_rate=negative_sample_rate,\n",
    "        noise_level=noise_level,\n",
    "        verbose=True,\n",
    "    )"
   ]
  },
  {
   "cell_type": "code",
   "execution_count": null,
   "id": "6f77dac7-e753-48c8-97f9-855b3946f437",
   "metadata": {},
   "outputs": [],
   "source": []
  },
  {
   "cell_type": "code",
   "execution_count": 27,
   "id": "1f219b11-80e9-40b6-b815-bc3cac8f05eb",
   "metadata": {},
   "outputs": [],
   "source": [
    "def plot_datashade_umap(embedding, labels=None, n_neighbors=0.0, min_dist=0.0):\n",
    "    class MockEmbedding(object):\n",
    "        pass\n",
    "    \n",
    "    enb = MockEmbedding()\n",
    "    enb.embedding = embedding\n",
    "    enb.n_neighbors = n_neighbors\n",
    "    enb.min_dist = 0.0\n",
    "\n",
    "    if labels is None:\n",
    "        return umap.plot.points(enb)\n",
    "    \n",
    "    return umap.plot.points(enb, labels=labels)"
   ]
  },
  {
   "cell_type": "code",
   "execution_count": 30,
   "id": "cb0b0b80-184a-42e6-a4c0-21e70870ff82",
   "metadata": {},
   "outputs": [
    {
     "name": "stderr",
     "output_type": "stream",
     "text": [
      "/home/krasen/miniconda3/envs/urban_taxonomy/lib/python3.12/site-packages/umap/plot.py:449: UserWarning: *c* argument looks like a single numeric RGB or RGBA sequence, which should be avoided as value-mapping will have precedence in case its length matches with *x* & *y*.  Please use the *color* keyword-argument or provide a 2D array with a single row if you intend to specify the same RGB or RGBA value for all points.\n",
      "  ax.scatter(points[:, 0], points[:, 1], s=point_size, c=color)\n"
     ]
    },
    {
     "data": {
      "image/png": "[encoded data removed]",
      "text/plain": [
       "<Figure size 800x800 with 1 Axes>"
      ]
     },
     "metadata": {},
     "output_type": "display_data"
    }
   ],
   "source": [
    "if node_embedding_dim == 2:\n",
    "    plot_datashade_umap(embedding[tess_groups_ilocs], tess_groups.values)"
   ]
  },
  {
   "cell_type": "code",
   "execution_count": 32,
   "id": "4a59ff1b-232a-4cb2-b6e9-30f9c9ae091b",
   "metadata": {},
   "outputs": [],
   "source": [
    "davies_bouldin_score(\n",
    "    embedding[tess_groups_ilocs], \n",
    "    tess_groups.values\n",
    ")"
   ]
  },
  {
   "cell_type": "code",
   "execution_count": null,
   "id": "b5fed5eb-1faa-4f42-953a-d3add14fea85",
   "metadata": {},
   "outputs": [],
   "source": []
  },
  {
   "cell_type": "code",
   "execution_count": null,
   "id": "c18ed646-bb5d-4715-ae06-7bf4a9affaff",
   "metadata": {},
   "outputs": [],
   "source": [
    "# x, y = tessellation.loc[tess_groups.index].representative_point().x.values, tessellation.loc[tess_groups.index].representative_point().y.values"
   ]
  },
  {
   "cell_type": "code",
   "execution_count": null,
   "id": "80df64dc-1400-41b5-94c7-be9a10a0c946",
   "metadata": {},
   "outputs": [],
   "source": [
    "rps = tessellation[tessellation.index.isin(X_train.index)].representative_point()\n",
    "x, y = rps.x.values, rps.y.values"
   ]
  },
  {
   "cell_type": "code",
   "execution_count": null,
   "id": "103374cb-2764-40e7-ace3-e76121f36c3a",
   "metadata": {},
   "outputs": [],
   "source": []
  },
  {
   "cell_type": "code",
   "execution_count": null,
   "id": "1641ac90-f74d-4b18-a3ae-45aa5b0bdd16",
   "metadata": {},
   "outputs": [],
   "source": [
    "spatial_init = np.vstack((x,y)).T\n",
    "spatial_init = StandardScaler().fit_transform(spatial_init)\n",
    "spatial_init = np.ascontiguousarray(spatial_init, dtype=np.float32)"
   ]
  },
  {
   "cell_type": "code",
   "execution_count": null,
   "id": "0431574e-6a2a-4b44-aa34-2bcb5604ef53",
   "metadata": {},
   "outputs": [],
   "source": []
  },
  {
   "cell_type": "code",
   "execution_count": null,
   "id": "59c82a99-4142-4e1c-ad86-14bcca5f541b",
   "metadata": {},
   "outputs": [],
   "source": []
  },
  {
   "cell_type": "code",
   "execution_count": null,
   "id": "23780043-22c2-45b7-941c-42ad0e1f22ef",
   "metadata": {},
   "outputs": [],
   "source": [
    "plot_datashade_umap(spatial_init[tess_groups_ilocs], tess_groups.values)"
   ]
  },
  {
   "cell_type": "code",
   "execution_count": null,
   "id": "da60285a-0135-4af9-8e6c-68bb0af25dbf",
   "metadata": {},
   "outputs": [],
   "source": []
  },
  {
   "cell_type": "code",
   "execution_count": null,
   "id": "038d0aff-5c2a-4c2a-87c3-7e5dbc690fe2",
   "metadata": {},
   "outputs": [],
   "source": [
    "# negative_sample_rate = 50\n",
    "# noise_level = .01\n",
    "# n_epochs = 10000"
   ]
  },
  {
   "cell_type": "code",
   "execution_count": null,
   "id": "a6801dd8-e1bc-4510-9038-23475da2e8f1",
   "metadata": {},
   "outputs": [],
   "source": []
  },
  {
   "cell_type": "code",
   "execution_count": null,
   "id": "0abc0000-3c4b-4bda-a2a9-d022fae8d065",
   "metadata": {},
   "outputs": [],
   "source": [
    "new_spatial_init = spatial_init\n",
    "new_node_embedding_dim = node_embedding_dim"
   ]
  },
  {
   "cell_type": "code",
   "execution_count": null,
   "id": "be7edf73-2b9d-432a-9d46-4261575a061a",
   "metadata": {},
   "outputs": [],
   "source": [
    "# new_node_embedding_dim = 5\n",
    "# new_spatial_init = np.ascontiguousarray(np.hstack((spatial_init,\n",
    "#                                                    np.random.randn(spatial_init.shape[0], new_node_embedding_dim - 2))), \n",
    "#                                         dtype=np.float32)\n",
    "# new_spatial_init"
   ]
  },
  {
   "cell_type": "code",
   "execution_count": null,
   "id": "3d797514-b29c-4127-a556-a709ce5dc722",
   "metadata": {},
   "outputs": [],
   "source": []
  },
  {
   "cell_type": "code",
   "execution_count": null,
   "id": "ec0a1a65-090a-4125-a7c6-180d24d474a4",
   "metadata": {},
   "outputs": [],
   "source": [
    "# new_node_embedding_dim = spatial_init.shape[1] + init_embedding.shape[1]\n",
    "# new_spatial_init = np.ascontiguousarray(np.hstack((spatial_init, init_embedding)), \n",
    "#                                         dtype=np.float32)\n",
    "# new_spatial_init"
   ]
  },
  {
   "cell_type": "code",
   "execution_count": null,
   "id": "01881b1d-30a0-415b-9311-ae5232781e78",
   "metadata": {},
   "outputs": [],
   "source": []
  },
  {
   "cell_type": "code",
   "execution_count": null,
   "id": "d76440ce-8c2f-494e-a39b-965afe30c27c",
   "metadata": {},
   "outputs": [],
   "source": []
  },
  {
   "cell_type": "code",
   "execution_count": null,
   "id": "a6044edc-6ec0-4b1a-aa66-e350db7d1205",
   "metadata": {},
   "outputs": [],
   "source": []
  },
  {
   "cell_type": "code",
   "execution_count": null,
   "id": "305bbfbd-34c3-44a7-a181-81d84ff34357",
   "metadata": {},
   "outputs": [],
   "source": [
    "%%time\n",
    "spatial_embedding = node_embedding(\n",
    "        graph,\n",
    "        n_components=new_node_embedding_dim,\n",
    "        n_epochs=n_epochs,\n",
    "        initial_embedding=new_spatial_init,\n",
    "        negative_sample_rate=negative_sample_rate,\n",
    "        noise_level=noise_level,\n",
    "        initial_alpha=learning_rate,\n",
    "        verbose=False,\n",
    "    )"
   ]
  },
  {
   "cell_type": "code",
   "execution_count": null,
   "id": "55f3da77-5ac7-42d7-a830-2240f4935966",
   "metadata": {},
   "outputs": [],
   "source": [
    "spatial_embedding"
   ]
  },
  {
   "cell_type": "code",
   "execution_count": null,
   "id": "b4d23cdf-c5e1-4eab-a011-06f774599e95",
   "metadata": {},
   "outputs": [],
   "source": [
    "plot_datashade_umap(spatial_embedding[tess_groups_ilocs], tess_groups.values)"
   ]
  },
  {
   "cell_type": "code",
   "execution_count": null,
   "id": "990a1d79-7ce4-4fc0-a5be-ab500f34dfbe",
   "metadata": {},
   "outputs": [],
   "source": [
    "plot_datashade_umap(spatial_embedding)"
   ]
  },
  {
   "cell_type": "code",
   "execution_count": null,
   "id": "224f025c-d4a0-4b75-888c-6cbcb3c7ffcf",
   "metadata": {},
   "outputs": [],
   "source": [
    "plot_datashade_umap(embedding)"
   ]
  },
  {
   "cell_type": "code",
   "execution_count": null,
   "id": "5b207e46-b4e9-4d63-9ec4-4a26060cb094",
   "metadata": {},
   "outputs": [],
   "source": [
    "davies_bouldin_score(\n",
    "    spatial_embedding[tess_groups_ilocs], \n",
    "    tess_groups.values\n",
    "), davies_bouldin_score(\n",
    "    embedding[tess_groups_ilocs], \n",
    "    tess_groups.values\n",
    ")"
   ]
  },
  {
   "cell_type": "code",
   "execution_count": null,
   "id": "46f9165f-65f3-409c-9d22-e911b34efd6c",
   "metadata": {},
   "outputs": [],
   "source": [
    "print_distance( pd.DataFrame(embedding[tess_groups_ilocs]).groupby(tess_groups.values).median(), metric='sqeuclidean')"
   ]
  },
  {
   "cell_type": "code",
   "execution_count": null,
   "id": "39567a4f-9b84-49f4-80fb-3c8f73fd1891",
   "metadata": {},
   "outputs": [],
   "source": [
    "print_distance( pd.DataFrame(spatial_embedding[tess_groups_ilocs]).groupby(tess_groups.values).median(), metric='sqeuclidean')"
   ]
  },
  {
   "cell_type": "code",
   "execution_count": null,
   "id": "bf658e51-6d30-4e26-93dd-f575961ec40c",
   "metadata": {},
   "outputs": [],
   "source": []
  },
  {
   "cell_type": "code",
   "execution_count": null,
   "id": "5cc7d17b-8523-4b00-9a11-bae2d1cfe9cd",
   "metadata": {},
   "outputs": [],
   "source": []
  },
  {
   "cell_type": "code",
   "execution_count": 34,
   "id": "85ae984b-7149-4e64-b48d-fbd1c1271d6c",
   "metadata": {},
   "outputs": [
    {
     "name": "stdout",
     "output_type": "stream",
     "text": [
      "CPU times: user 2.58 s, sys: 104 ms, total: 2.68 s\n",
      "Wall time: 2.26 s\n"
     ]
    }
   ],
   "source": [
    "%%time\n",
    "\n",
    "from evoc.clustering import build_cluster_layers\n",
    "\n",
    "input_embedding = embedding\n",
    "# input_embedding = spatial_embedding\n",
    "min_num_clusters = 4\n",
    "min_samples = n_neighbors\n",
    "base_min_cluster_size = min_samples\n",
    "next_cluster_size_quantile = .8\n",
    "\n",
    "cluster_layers, membership_strengths = build_cluster_layers(\n",
    "            input_embedding,\n",
    "            min_clusters=min_num_clusters,\n",
    "            min_samples=min_samples,\n",
    "            base_min_cluster_size=base_min_cluster_size,\n",
    "            next_cluster_size_quantile=next_cluster_size_quantile,\n",
    ")"
   ]
  },
  {
   "cell_type": "code",
   "execution_count": 35,
   "id": "086381b4-6d25-4557-9562-e1d7f1d41570",
   "metadata": {},
   "outputs": [],
   "source": [
    "n_points_clustered_per_layer = [\n",
    "    np.sum(layer >= 0) for layer in cluster_layers\n",
    "]\n",
    "\n",
    "median_confidence_per_layer = [\n",
    "    np.median(layer_strengths[layer_clusters >= 0]) for layer_clusters, layer_strengths in zip(cluster_layers, membership_strengths)\n",
    "]\n",
    "\n"
   ]
  },
  {
   "cell_type": "code",
   "execution_count": 36,
   "id": "6dd5b555-98d1-4b2f-8f3c-1232d648457d",
   "metadata": {},
   "outputs": [
    {
     "data": {
      "text/plain": [
       "([np.int64(22341),\n",
       "  np.int64(24295),\n",
       "  np.int64(24209),\n",
       "  np.int64(23931),\n",
       "  np.int64(21879)],\n",
       " [np.float32(0.9702812),\n",
       "  np.float32(1.0),\n",
       "  np.float32(1.0),\n",
       "  np.float32(1.0),\n",
       "  np.float32(0.9945348)])"
      ]
     },
     "execution_count": 36,
     "metadata": {},
     "output_type": "execute_result"
    }
   ],
   "source": [
    "n_points_clustered_per_layer, median_confidence_per_layer"
   ]
  },
  {
   "cell_type": "code",
   "execution_count": null,
   "id": "e5bb10f2-6931-479b-a872-b5a6ee5859ce",
   "metadata": {},
   "outputs": [],
   "source": []
  },
  {
   "cell_type": "code",
   "execution_count": null,
   "id": "3310bcc6-52dc-46e3-b010-559fceda120f",
   "metadata": {},
   "outputs": [],
   "source": []
  },
  {
   "cell_type": "code",
   "execution_count": null,
   "id": "d4a5e652-9c5d-4c69-b1ef-6461b1027b59",
   "metadata": {},
   "outputs": [],
   "source": []
  },
  {
   "cell_type": "code",
   "execution_count": null,
   "id": "613aa9d6-e813-4773-97d3-3e4a12d48b56",
   "metadata": {},
   "outputs": [],
   "source": []
  },
  {
   "cell_type": "code",
   "execution_count": null,
   "id": "3307c983-9525-4359-8a33-d327ab6b251e",
   "metadata": {},
   "outputs": [],
   "source": []
  },
  {
   "cell_type": "code",
   "execution_count": null,
   "id": "5f207e3b-bd7a-4c95-8864-9247e1c1b9da",
   "metadata": {},
   "outputs": [],
   "source": []
  },
  {
   "cell_type": "code",
   "execution_count": null,
   "id": "985eb883-4951-40b0-91e1-6a89b3c22532",
   "metadata": {},
   "outputs": [],
   "source": []
  },
  {
   "cell_type": "code",
   "execution_count": null,
   "id": "b780a78f-4bb4-4d98-b1d2-86e01f53b94f",
   "metadata": {},
   "outputs": [],
   "source": []
  },
  {
   "cell_type": "code",
   "execution_count": null,
   "id": "3c81f524-8d28-43ee-bba2-82fc9653d7b3",
   "metadata": {},
   "outputs": [],
   "source": []
  },
  {
   "cell_type": "code",
   "execution_count": null,
   "id": "d7027841-f1d9-4544-b781-e36068314280",
   "metadata": {},
   "outputs": [],
   "source": [
    "# %%time\n",
    "\n",
    "# from core.generate_streets import record_batch_reader\n",
    "\n",
    "# region_name = 69300\n",
    "# regions_datadir = \"/data/uscuni-ulce/\"\n",
    "# region_hulls = gpd.read_parquet(\n",
    "#         regions_datadir + \"regions/\" + \"regions_hull.parquet\"\n",
    "#     )\n",
    "# region_id, region_hull = region_hulls.loc[region_name].name, region_hulls.to_crs(epsg=4326).loc[region_name].convex_hull\n",
    "\n",
    "# batches = record_batch_reader('division_area', bbox=region_hull.bounds).read_all()\n",
    "# gdf = gpd.GeoDataFrame.from_arrow(batches)\n",
    "# gdf = gdf.iloc[gdf.sindex.query(region_hull, predicate='intersects')]\n",
    "\n",
    "# prague_neighbourhoods = gdf[gdf['subtype'] == 'locality'].set_crs(epsg=4326)\n",
    "# prague_neighbourhoods['names'] = prague_neighbourhoods['names'].apply(lambda x: x['primary'])\n",
    "# prague_neighbourhoods = prague_neighbourhoods[['geometry', 'names']].to_crs(epsg=3035)\n",
    "# prague_neighbourhoods.to_parquet('../data/prague_neighbourhoods.parquet')"
   ]
  },
  {
   "cell_type": "code",
   "execution_count": null,
   "id": "c968f94f-1ef7-4481-aa06-e5b22589bfce",
   "metadata": {},
   "outputs": [],
   "source": [
    "# import bokeh\n",
    "# prague_neighbourhoods = gpd.read_parquet('../data/prague_neighbourhoods.parquet')"
   ]
  },
  {
   "cell_type": "code",
   "execution_count": null,
   "id": "6639d150-1433-41e5-9c82-0806481bdaab",
   "metadata": {},
   "outputs": [],
   "source": [
    "# umap.plot.output_notebook()\n"
   ]
  },
  {
   "cell_type": "code",
   "execution_count": null,
   "id": "e037cb8a-6809-4750-89e6-15f480e3a893",
   "metadata": {},
   "outputs": [],
   "source": [
    "# plotting = tessellation.copy()\n",
    "# plotting = plotting[plotting.index.isin(X_train.index)]\n",
    "# inp, res = plotting.representative_point().sindex.query(prague_neighbourhoods.geometry, predicate='intersects')"
   ]
  },
  {
   "cell_type": "code",
   "execution_count": null,
   "id": "2533df3d-34d4-4a0c-9c08-1d225595e226",
   "metadata": {},
   "outputs": [],
   "source": [
    "# class MockEmbedding(object):\n",
    "#     pass\n",
    "\n",
    "# enb = MockEmbedding()\n",
    "# enb.embedding = spatial_embedding[res]\n",
    "# enb.n_neighbors = n_neighbors\n",
    "# enb.min_dist = 0.0"
   ]
  },
  {
   "cell_type": "code",
   "execution_count": null,
   "id": "391ade26-574e-45ab-90b9-6a3a246727a2",
   "metadata": {},
   "outputs": [],
   "source": [
    "# hover_data = X_train.iloc[res, :2]\n",
    "# hover_data['label'] = prague_neighbourhoods.iloc[inp, 1].values"
   ]
  },
  {
   "cell_type": "code",
   "execution_count": null,
   "id": "aced3063-516e-473a-8e33-fadd6b21a7e2",
   "metadata": {},
   "outputs": [],
   "source": [
    "# p = umap.plot.interactive(enb, hover_data=hover_data, point_size=2)\n",
    "# umap.plot.show(p)"
   ]
  },
  {
   "cell_type": "code",
   "execution_count": null,
   "id": "4452415c-e251-4f8d-92e4-f203a5728cab",
   "metadata": {},
   "outputs": [],
   "source": []
  },
  {
   "cell_type": "code",
   "execution_count": null,
   "id": "8c78a2d8-6f2c-4620-8f23-bd70c62ca56a",
   "metadata": {},
   "outputs": [],
   "source": []
  },
  {
   "cell_type": "markdown",
   "id": "78156faa-2eab-4f52-8276-a124b91066cf",
   "metadata": {},
   "source": [
    "### HDBSCAN"
   ]
  },
  {
   "cell_type": "code",
   "execution_count": 37,
   "id": "ab1d5bc9-4e69-42d9-bf32-99910ac0da71",
   "metadata": {},
   "outputs": [],
   "source": [
    "n_neighbors = 10\n",
    "spatial_embedding = X_train[[col for col in X_train.columns if '_' not in col]]"
   ]
  },
  {
   "cell_type": "code",
   "execution_count": null,
   "id": "d9510e9b-8b3f-4c34-bc36-fe3e8c899e09",
   "metadata": {},
   "outputs": [],
   "source": []
  },
  {
   "cell_type": "code",
   "execution_count": 38,
   "id": "7768ca4e-b31d-4b62-baa1-c9254a1df10d",
   "metadata": {},
   "outputs": [],
   "source": [
    "from fast_hdbscan.boruvka import parallel_boruvka\n",
    "from fast_hdbscan.cluster_trees import (\n",
    "    cluster_tree_from_condensed_tree,\n",
    "    condense_tree,\n",
    "    extract_eom_clusters,\n",
    "    get_cluster_label_vector,\n",
    "    mst_to_linkage_tree,\n",
    ")\n",
    "from fast_hdbscan.numba_kdtree import kdtree_to_numba\n",
    "from sklearn.neighbors import KDTree"
   ]
  },
  {
   "cell_type": "code",
   "execution_count": 39,
   "id": "aa9fdeee-ba9b-42fd-993a-d9cfb3dde153",
   "metadata": {},
   "outputs": [],
   "source": [
    "\n",
    "min_cluster_size = n_neighbors"
   ]
  },
  {
   "cell_type": "code",
   "execution_count": 68,
   "id": "402ddbc3-614f-4b0d-972f-c12b5214b203",
   "metadata": {},
   "outputs": [
    {
     "name": "stdout",
     "output_type": "stream",
     "text": [
      "CPU times: user 51.7 s, sys: 18.3 ms, total: 51.7 s\n",
      "Wall time: 3.26 s\n"
     ]
    }
   ],
   "source": [
    "%%time\n",
    "# sklearn_tree = KDTree(embedding)\n",
    "\n",
    "sklearn_tree = KDTree(spatial_embedding)\n",
    "\n",
    "numba_tree = kdtree_to_numba(sklearn_tree)\n",
    "edges = parallel_boruvka(numba_tree, min_samples=min_cluster_size)\n",
    "sorted_mst = edges[np.argsort(edges.T[2])]\n",
    "linkage_tree = mst_to_linkage_tree(sorted_mst)"
   ]
  },
  {
   "cell_type": "code",
   "execution_count": 69,
   "id": "4adfff22-28c0-4900-9857-41a5545870ff",
   "metadata": {},
   "outputs": [],
   "source": [
    "condensed_tree = condense_tree(linkage_tree, min_cluster_size=min_cluster_size)\n",
    "cluster_tree = cluster_tree_from_condensed_tree(condensed_tree)\n",
    "selected_clusters = extract_eom_clusters(\n",
    "    condensed_tree, cluster_tree, allow_single_cluster=False\n",
    ")\n",
    "clusters = get_cluster_label_vector(condensed_tree, selected_clusters, 0)"
   ]
  },
  {
   "cell_type": "code",
   "execution_count": 70,
   "id": "b46beb4f-509b-4ec0-a188-031956b815ab",
   "metadata": {},
   "outputs": [
    {
     "data": {
      "text/plain": [
       "(array([-1,  0,  1]), array([  260, 35761,    46]))"
      ]
     },
     "execution_count": 70,
     "metadata": {},
     "output_type": "execute_result"
    }
   ],
   "source": [
    "np.unique(clusters, return_counts=True)"
   ]
  },
  {
   "cell_type": "code",
   "execution_count": null,
   "id": "735827ea-6e95-4dbb-9ef0-92cec94ec5d0",
   "metadata": {},
   "outputs": [],
   "source": []
  },
  {
   "cell_type": "code",
   "execution_count": 71,
   "id": "7953d035-8d26-4f00-b600-47ffb48d02be",
   "metadata": {},
   "outputs": [
    {
     "data": {
      "text/plain": [
       "(array([-1,  0,  1,  2,  3,  4,  5,  6,  7]),\n",
       " array([15037,    28, 20858,    31,    13,    40,    30,    11,    19]))"
      ]
     },
     "execution_count": 71,
     "metadata": {},
     "output_type": "execute_result"
    }
   ],
   "source": [
    "from fast_hdbscan.cluster_trees import get_cluster_labelling_at_cut\n",
    "clusters = get_cluster_labelling_at_cut(linkage_tree, 5, 10)\n",
    "np.unique(clusters, return_counts=True)"
   ]
  },
  {
   "cell_type": "code",
   "execution_count": 66,
   "id": "d29ab9e8-327e-4b33-9ca6-a1e9c709c3ef",
   "metadata": {
    "scrolled": true
   },
   "outputs": [
    {
     "data": {
      "image/png": "[encoded data removed]",
      "text/plain": [
       "<Figure size 4000x4000 with 1 Axes>"
      ]
     },
     "metadata": {},
     "output_type": "display_data"
    }
   ],
   "source": [
    "fix, ax = plt.subplots(figsize=(40,40))\n",
    "# Plot the corresponding dendrogram\n",
    "_ = dendrogram(linkage_tree, truncate_mode=\"level\", p=5, ax=ax)"
   ]
  },
  {
   "cell_type": "code",
   "execution_count": null,
   "id": "a0be71e9-7913-459a-b25c-74204a471f86",
   "metadata": {},
   "outputs": [],
   "source": []
  },
  {
   "cell_type": "code",
   "execution_count": null,
   "id": "82debd73-de31-4cf0-86ec-3912a1a286ea",
   "metadata": {},
   "outputs": [],
   "source": []
  },
  {
   "cell_type": "code",
   "execution_count": 67,
   "id": "7a7337a7-3ad0-4d57-9a89-fcfc83b8f71b",
   "metadata": {},
   "outputs": [],
   "source": [
    "layer.get_fill_color = get_color(clusters)"
   ]
  },
  {
   "cell_type": "code",
   "execution_count": null,
   "id": "eb5da505-1b68-48d7-aa50-d7aed7d9d702",
   "metadata": {},
   "outputs": [],
   "source": []
  },
  {
   "cell_type": "markdown",
   "id": "e8948bbc-4a33-40e1-b46e-383bf107050c",
   "metadata": {},
   "source": [
    "### Visualise_clusters"
   ]
  },
  {
   "cell_type": "code",
   "execution_count": 57,
   "id": "9265609c-b2db-4846-8c17-31980379998d",
   "metadata": {},
   "outputs": [],
   "source": [
    "from lonboard import PolygonLayer, Map\n",
    "from lonboard.basemap import CartoBasemap\n",
    "from lonboard.colormap import apply_categorical_cmap\n",
    "from palettable.colorbrewer.qualitative import Set3_12"
   ]
  },
  {
   "cell_type": "code",
   "execution_count": 58,
   "id": "7f4b77f7-f004-4ed1-8a1a-4a2074ce500d",
   "metadata": {},
   "outputs": [],
   "source": [
    "plotting = tessellation.loc[X_train.index].copy().reset_index()"
   ]
  },
  {
   "cell_type": "code",
   "execution_count": 59,
   "id": "856c7913-fe6b-42cc-81bc-65f49b3a205d",
   "metadata": {},
   "outputs": [],
   "source": [
    "if 'uID' in plotting.columns:\n",
    "    plotting['index'] = 'uID'"
   ]
  },
  {
   "cell_type": "code",
   "execution_count": 60,
   "id": "79581cbf-d12a-4894-9eb3-bda687c1c60a",
   "metadata": {},
   "outputs": [],
   "source": [
    "from core.cluster_validation import get_color"
   ]
  },
  {
   "cell_type": "code",
   "execution_count": null,
   "id": "e710070a-9653-4812-9a51-31dc707c3a4c",
   "metadata": {},
   "outputs": [],
   "source": []
  },
  {
   "cell_type": "code",
   "execution_count": null,
   "id": "f518e3f0-6428-4af2-baa6-ad33ee97cd6a",
   "metadata": {},
   "outputs": [],
   "source": []
  },
  {
   "cell_type": "code",
   "execution_count": null,
   "id": "b2ffdcf5-8e44-44b4-b1f1-1dc641eb80e2",
   "metadata": {},
   "outputs": [],
   "source": []
  },
  {
   "cell_type": "code",
   "execution_count": 61,
   "id": "d9b30f2a-20ca-4b84-9902-1113e2cef7af",
   "metadata": {},
   "outputs": [
    {
     "name": "stderr",
     "output_type": "stream",
     "text": [
      "/home/krasen/miniconda3/envs/urban_taxonomy/lib/python3.12/site-packages/lonboard/_geoarrow/ops/reproject.py:97: UserWarning: Input being reprojected to EPSG:4326 CRS\n",
      "  warnings.warn(\"Input being reprojected to EPSG:4326 CRS\")\n"
     ]
    }
   ],
   "source": [
    "layer = PolygonLayer.from_geopandas(\n",
    "    gdf=plotting[[\"geometry\", 'index']], opacity=0.15\n",
    ")"
   ]
  },
  {
   "cell_type": "code",
   "execution_count": 62,
   "id": "928a845e-e8dc-4d24-bd93-c01d37c8b347",
   "metadata": {},
   "outputs": [],
   "source": [
    "from sidecar import Sidecar\n",
    "sc = Sidecar(title='Clusters')\n",
    "m = Map(layer, basemap_style=CartoBasemap.Positron)\n",
    "with sc:\n",
    "    display(m)"
   ]
  },
  {
   "cell_type": "code",
   "execution_count": null,
   "id": "244a4738-3aad-474d-baaa-f261bec3e4cc",
   "metadata": {},
   "outputs": [],
   "source": []
  },
  {
   "cell_type": "code",
   "execution_count": 63,
   "id": "0614a2d1-4a24-4425-a5e7-d107da477586",
   "metadata": {},
   "outputs": [],
   "source": [
    "# clusters = cluster_layers[3]"
   ]
  },
  {
   "cell_type": "code",
   "execution_count": 64,
   "id": "086b675e-5c2b-4a74-9434-435feb8cc36c",
   "metadata": {},
   "outputs": [
    {
     "ename": "NameError",
     "evalue": "name 'linkage_matrix' is not defined",
     "output_type": "error",
     "traceback": [
      "\u001b[0;31m---------------------------------------------------------------------------\u001b[0m",
      "\u001b[0;31mNameError\u001b[0m                                 Traceback (most recent call last)",
      "Cell \u001b[0;32mIn[64], line 1\u001b[0m\n\u001b[0;32m----> 1\u001b[0m clusters \u001b[38;5;241m=\u001b[39m fcluster(\u001b[43mlinkage_matrix\u001b[49m, t\u001b[38;5;241m=\u001b[39m\u001b[38;5;241m200\u001b[39m, criterion\u001b[38;5;241m=\u001b[39m\u001b[38;5;124m'\u001b[39m\u001b[38;5;124mdistance\u001b[39m\u001b[38;5;124m'\u001b[39m)\n",
      "\u001b[0;31mNameError\u001b[0m: name 'linkage_matrix' is not defined"
     ]
    }
   ],
   "source": [
    "clusters = fcluster(linkage_matrix, t=200, criterion='distance')"
   ]
  },
  {
   "cell_type": "code",
   "execution_count": 77,
   "id": "d192568c-41aa-4507-b6a1-88cc2412cabd",
   "metadata": {},
   "outputs": [
    {
     "data": {
      "text/plain": [
       "(array([ 1,  2,  3,  4,  5,  6,  7,  8,  9, 10], dtype=int32),\n",
       " array([  687,    80,  1573,   434,  3991,  1973, 20353,  2122,  1569,\n",
       "         3285]))"
      ]
     },
     "execution_count": 77,
     "metadata": {},
     "output_type": "execute_result"
    }
   ],
   "source": [
    "np.unique(clusters, return_counts=True)"
   ]
  },
  {
   "cell_type": "code",
   "execution_count": 78,
   "id": "b85d9350-1cce-4b9c-8b2f-0ce23a5b2a7c",
   "metadata": {},
   "outputs": [],
   "source": [
    "layer.get_fill_color = get_color(clusters)"
   ]
  },
  {
   "cell_type": "code",
   "execution_count": null,
   "id": "96ef7ce9-d7b8-4dcd-87ca-0f8c5ba560dc",
   "metadata": {},
   "outputs": [],
   "source": []
  },
  {
   "cell_type": "code",
   "execution_count": null,
   "id": "52d2055d-c72b-4c00-93d7-20437d6ab4a6",
   "metadata": {},
   "outputs": [],
   "source": []
  },
  {
   "cell_type": "markdown",
   "id": "9d5e9468-7ca4-4f35-9f27-4e326b71d853",
   "metadata": {},
   "source": [
    "### Hierarchical"
   ]
  },
  {
   "cell_type": "code",
   "execution_count": null,
   "id": "064fe2e9-6894-4a51-8a8e-2916dd5ef9ef",
   "metadata": {},
   "outputs": [],
   "source": []
  },
  {
   "cell_type": "code",
   "execution_count": null,
   "id": "b4bfed66-2626-4213-aff9-26570beb4119",
   "metadata": {},
   "outputs": [],
   "source": []
  },
  {
   "cell_type": "code",
   "execution_count": 52,
   "id": "fe763102-f2ce-4b6b-bd00-56010f4e7b08",
   "metadata": {},
   "outputs": [],
   "source": [
    "from sklearn.cluster import AgglomerativeClustering\n",
    "from scipy.cluster.hierarchy import dendrogram\n",
    "from scipy.cluster.hierarchy import fcluster\n",
    "from sklearn.metrics import adjusted_rand_score\n",
    "from sklearn.metrics import davies_bouldin_score\n",
    "from core.cluster_validation import get_linkage_matrix\n",
    "\n",
    "q1 = read_parquet(graph_dir + f\"tessellation_graph_{region_id}_knn1.parquet\")\n",
    "q1 = q1.higher_order(k=3, lower_order=True, diagonal=True)\n",
    "clustering_graph = q1.subgraph(X_train.index.values).transform('B').sparse"
   ]
  },
  {
   "cell_type": "code",
   "execution_count": 65,
   "id": "05488686-7ea5-4738-beb9-f46a3bb105fd",
   "metadata": {},
   "outputs": [
    {
     "name": "stderr",
     "output_type": "stream",
     "text": [
      "/home/krasen/miniconda3/envs/urban_taxonomy/lib/python3.12/site-packages/sklearn/cluster/_agglomerative.py:323: UserWarning: the number of connected components of the connectivity matrix is 27 > 1. Completing it to avoid stopping the tree early.\n",
      "  connectivity, n_connected_components = _fix_connectivity(\n"
     ]
    },
    {
     "name": "stdout",
     "output_type": "stream",
     "text": [
      "CPU times: user 14.5 s, sys: 5.73 s, total: 20.2 s\n",
      "Wall time: 6.09 s\n"
     ]
    }
   ],
   "source": [
    "%%time\n",
    "clusterer = AgglomerativeClustering(linkage='ward',\n",
    "                                    connectivity=clustering_graph, \n",
    "                                    compute_full_tree=True, compute_distances=True)\n",
    "# model = clusterer.fit(embedding)\n",
    "\n",
    "model = clusterer.fit(spatial_embedding)"
   ]
  },
  {
   "cell_type": "code",
   "execution_count": 66,
   "id": "3b134dc6-ef5d-4a9a-a7b9-813fb60f4d2b",
   "metadata": {},
   "outputs": [],
   "source": [
    "linkage_matrix = get_linkage_matrix(model)"
   ]
  },
  {
   "cell_type": "code",
   "execution_count": 67,
   "id": "4a44db9c-d549-4105-a44a-d43df8932d4e",
   "metadata": {},
   "outputs": [
    {
     "data": {
      "image/png": "[encoded data removed]",
      "text/plain": [
       "<Figure size 4000x4000 with 1 Axes>"
      ]
     },
     "metadata": {},
     "output_type": "display_data"
    }
   ],
   "source": [
    "fix, ax = plt.subplots(figsize=(40,40))\n",
    "# Plot the corresponding dendrogram\n",
    "_ = dendrogram(linkage_matrix, truncate_mode=\"level\", p=5, ax=ax)"
   ]
  },
  {
   "cell_type": "code",
   "execution_count": 70,
   "id": "800ea6f4-3272-40fc-8347-201a5b11aceb",
   "metadata": {},
   "outputs": [
    {
     "name": "stdout",
     "output_type": "stream",
     "text": [
      "100  -  2.8990022398956383 431.2362460401442\n",
      "200  -  3.3835602302651893 1027.2168729321397\n",
      "300  -  2.595626752626742 1913.639278458374\n",
      "400  -  2.595626752626742 1913.639278458374\n"
     ]
    },
    {
     "ename": "ValueError",
     "evalue": "Number of labels is 1. Valid values are 2 to n_samples - 1 (inclusive)",
     "output_type": "error",
     "traceback": [
      "\u001b[0;31m---------------------------------------------------------------------------\u001b[0m",
      "\u001b[0;31mValueError\u001b[0m                                Traceback (most recent call last)",
      "Cell \u001b[0;32mIn[70], line 8\u001b[0m\n\u001b[1;32m      2\u001b[0m r \u001b[38;5;241m=\u001b[39m fcluster(linkage_matrix, t\u001b[38;5;241m=\u001b[39mt, criterion\u001b[38;5;241m=\u001b[39m\u001b[38;5;124m'\u001b[39m\u001b[38;5;124mdistance\u001b[39m\u001b[38;5;124m'\u001b[39m)\n\u001b[1;32m      3\u001b[0m \u001b[38;5;66;03m# r = pd.Series(r, index=X_train.index)\u001b[39;00m\n\u001b[1;32m      4\u001b[0m \u001b[38;5;66;03m# # ssplits = graph.describe(r, statistics=['nunique'])['nunique']\u001b[39;00m\n\u001b[1;32m      5\u001b[0m \u001b[38;5;28mprint\u001b[39m(t, \u001b[38;5;124m'\u001b[39m\u001b[38;5;124m - \u001b[39m\u001b[38;5;124m'\u001b[39m, \n\u001b[1;32m      6\u001b[0m       \u001b[38;5;66;03m# adjusted_rand_score(tess_groups.values, r[tess_groups_ilocs]),\u001b[39;00m\n\u001b[1;32m      7\u001b[0m       \u001b[38;5;66;03m# (ssplits > 1).sum() / ssplits.shape[0],\u001b[39;00m\n\u001b[0;32m----> 8\u001b[0m       \u001b[43mdavies_bouldin_score\u001b[49m\u001b[43m(\u001b[49m\u001b[43mX_train\u001b[49m\u001b[43m,\u001b[49m\u001b[43m \u001b[49m\u001b[43mr\u001b[49m\u001b[43m)\u001b[49m,\n\u001b[1;32m      9\u001b[0m       calinski_harabasz_score(X_train, r)\n\u001b[1;32m     10\u001b[0m      )\n",
      "File \u001b[0;32m~/miniconda3/envs/urban_taxonomy/lib/python3.12/site-packages/sklearn/utils/_param_validation.py:213\u001b[0m, in \u001b[0;36mvalidate_params.<locals>.decorator.<locals>.wrapper\u001b[0;34m(*args, **kwargs)\u001b[0m\n\u001b[1;32m    207\u001b[0m \u001b[38;5;28;01mtry\u001b[39;00m:\n\u001b[1;32m    208\u001b[0m     \u001b[38;5;28;01mwith\u001b[39;00m config_context(\n\u001b[1;32m    209\u001b[0m         skip_parameter_validation\u001b[38;5;241m=\u001b[39m(\n\u001b[1;32m    210\u001b[0m             prefer_skip_nested_validation \u001b[38;5;129;01mor\u001b[39;00m global_skip_validation\n\u001b[1;32m    211\u001b[0m         )\n\u001b[1;32m    212\u001b[0m     ):\n\u001b[0;32m--> 213\u001b[0m         \u001b[38;5;28;01mreturn\u001b[39;00m \u001b[43mfunc\u001b[49m\u001b[43m(\u001b[49m\u001b[38;5;241;43m*\u001b[39;49m\u001b[43margs\u001b[49m\u001b[43m,\u001b[49m\u001b[43m \u001b[49m\u001b[38;5;241;43m*\u001b[39;49m\u001b[38;5;241;43m*\u001b[39;49m\u001b[43mkwargs\u001b[49m\u001b[43m)\u001b[49m\n\u001b[1;32m    214\u001b[0m \u001b[38;5;28;01mexcept\u001b[39;00m InvalidParameterError \u001b[38;5;28;01mas\u001b[39;00m e:\n\u001b[1;32m    215\u001b[0m     \u001b[38;5;66;03m# When the function is just a wrapper around an estimator, we allow\u001b[39;00m\n\u001b[1;32m    216\u001b[0m     \u001b[38;5;66;03m# the function to delegate validation to the estimator, but we replace\u001b[39;00m\n\u001b[1;32m    217\u001b[0m     \u001b[38;5;66;03m# the name of the estimator by the name of the function in the error\u001b[39;00m\n\u001b[1;32m    218\u001b[0m     \u001b[38;5;66;03m# message to avoid confusion.\u001b[39;00m\n\u001b[1;32m    219\u001b[0m     msg \u001b[38;5;241m=\u001b[39m re\u001b[38;5;241m.\u001b[39msub(\n\u001b[1;32m    220\u001b[0m         \u001b[38;5;124mr\u001b[39m\u001b[38;5;124m\"\u001b[39m\u001b[38;5;124mparameter of \u001b[39m\u001b[38;5;124m\\\u001b[39m\u001b[38;5;124mw+ must be\u001b[39m\u001b[38;5;124m\"\u001b[39m,\n\u001b[1;32m    221\u001b[0m         \u001b[38;5;124mf\u001b[39m\u001b[38;5;124m\"\u001b[39m\u001b[38;5;124mparameter of \u001b[39m\u001b[38;5;132;01m{\u001b[39;00mfunc\u001b[38;5;241m.\u001b[39m\u001b[38;5;18m__qualname__\u001b[39m\u001b[38;5;132;01m}\u001b[39;00m\u001b[38;5;124m must be\u001b[39m\u001b[38;5;124m\"\u001b[39m,\n\u001b[1;32m    222\u001b[0m         \u001b[38;5;28mstr\u001b[39m(e),\n\u001b[1;32m    223\u001b[0m     )\n",
      "File \u001b[0;32m~/miniconda3/envs/urban_taxonomy/lib/python3.12/site-packages/sklearn/metrics/cluster/_unsupervised.py:448\u001b[0m, in \u001b[0;36mdavies_bouldin_score\u001b[0;34m(X, labels)\u001b[0m\n\u001b[1;32m    446\u001b[0m n_samples, _ \u001b[38;5;241m=\u001b[39m X\u001b[38;5;241m.\u001b[39mshape\n\u001b[1;32m    447\u001b[0m n_labels \u001b[38;5;241m=\u001b[39m \u001b[38;5;28mlen\u001b[39m(le\u001b[38;5;241m.\u001b[39mclasses_)\n\u001b[0;32m--> 448\u001b[0m \u001b[43mcheck_number_of_labels\u001b[49m\u001b[43m(\u001b[49m\u001b[43mn_labels\u001b[49m\u001b[43m,\u001b[49m\u001b[43m \u001b[49m\u001b[43mn_samples\u001b[49m\u001b[43m)\u001b[49m\n\u001b[1;32m    450\u001b[0m intra_dists \u001b[38;5;241m=\u001b[39m np\u001b[38;5;241m.\u001b[39mzeros(n_labels)\n\u001b[1;32m    451\u001b[0m centroids \u001b[38;5;241m=\u001b[39m np\u001b[38;5;241m.\u001b[39mzeros((n_labels, \u001b[38;5;28mlen\u001b[39m(X[\u001b[38;5;241m0\u001b[39m])), dtype\u001b[38;5;241m=\u001b[39m\u001b[38;5;28mfloat\u001b[39m)\n",
      "File \u001b[0;32m~/miniconda3/envs/urban_taxonomy/lib/python3.12/site-packages/sklearn/metrics/cluster/_unsupervised.py:38\u001b[0m, in \u001b[0;36mcheck_number_of_labels\u001b[0;34m(n_labels, n_samples)\u001b[0m\n\u001b[1;32m     27\u001b[0m \u001b[38;5;250m\u001b[39m\u001b[38;5;124;03m\"\"\"Check that number of labels are valid.\u001b[39;00m\n\u001b[1;32m     28\u001b[0m \n\u001b[1;32m     29\u001b[0m \u001b[38;5;124;03mParameters\u001b[39;00m\n\u001b[0;32m   (...)\u001b[0m\n\u001b[1;32m     35\u001b[0m \u001b[38;5;124;03m    Number of samples.\u001b[39;00m\n\u001b[1;32m     36\u001b[0m \u001b[38;5;124;03m\"\"\"\u001b[39;00m\n\u001b[1;32m     37\u001b[0m \u001b[38;5;28;01mif\u001b[39;00m \u001b[38;5;129;01mnot\u001b[39;00m \u001b[38;5;241m1\u001b[39m \u001b[38;5;241m<\u001b[39m n_labels \u001b[38;5;241m<\u001b[39m n_samples:\n\u001b[0;32m---> 38\u001b[0m     \u001b[38;5;28;01mraise\u001b[39;00m \u001b[38;5;167;01mValueError\u001b[39;00m(\n\u001b[1;32m     39\u001b[0m         \u001b[38;5;124m\"\u001b[39m\u001b[38;5;124mNumber of labels is \u001b[39m\u001b[38;5;132;01m%d\u001b[39;00m\u001b[38;5;124m. Valid values are 2 to n_samples - 1 (inclusive)\u001b[39m\u001b[38;5;124m\"\u001b[39m\n\u001b[1;32m     40\u001b[0m         \u001b[38;5;241m%\u001b[39m n_labels\n\u001b[1;32m     41\u001b[0m     )\n",
      "\u001b[0;31mValueError\u001b[0m: Number of labels is 1. Valid values are 2 to n_samples - 1 (inclusive)"
     ]
    }
   ],
   "source": [
    "for t in range(100, 4000, 100):\n",
    "    r = fcluster(linkage_matrix, t=t, criterion='distance')\n",
    "    # r = pd.Series(r, index=X_train.index)\n",
    "    # # ssplits = graph.describe(r, statistics=['nunique'])['nunique']\n",
    "    print(t, ' - ', \n",
    "          # adjusted_rand_score(tess_groups.values, r[tess_groups_ilocs]),\n",
    "          # (ssplits > 1).sum() / ssplits.shape[0],\n",
    "          davies_bouldin_score(X_train, r),\n",
    "          calinski_harabasz_score(X_train, r)\n",
    "         )"
   ]
  },
  {
   "cell_type": "code",
   "execution_count": null,
   "id": "5a3a0161-c4d6-4b74-9f32-49f2f994208b",
   "metadata": {},
   "outputs": [],
   "source": [
    "# for t in range(1, 100, 5):\n",
    "#     r = fcluster(linkage_matrix, t=t, criterion='distance')\n",
    "#     # r = pd.Series(r, index=X_train.index)\n",
    "#     # # ssplits = graph.describe(r, statistics=['nunique'])['nunique']\n",
    "#     print(t, ' - ', \n",
    "#           # adjusted_rand_score(tess_groups.values, r[tess_groups_ilocs]),\n",
    "#           # (ssplits > 1).sum() / ssplits.shape[0],\n",
    "#           davies_bouldin_score(X_train, r),\n",
    "#           calinski_harabasz_score(X_train, r)\n",
    "#          )"
   ]
  },
  {
   "cell_type": "code",
   "execution_count": null,
   "id": "2fb9f496-f603-4cc5-ad11-f240d7a43e24",
   "metadata": {},
   "outputs": [],
   "source": [
    "clusters = fcluster(linkage_matrix, t=51, criterion='distance')"
   ]
  },
  {
   "cell_type": "code",
   "execution_count": 69,
   "id": "230bcd17-e7fe-4dd8-a93b-79726e5a365b",
   "metadata": {},
   "outputs": [],
   "source": [
    "from sklearn.metrics import calinski_harabasz_score"
   ]
  },
  {
   "cell_type": "code",
   "execution_count": null,
   "id": "b0187e98-4265-47e4-bfb9-07bf071e6051",
   "metadata": {},
   "outputs": [],
   "source": []
  },
  {
   "cell_type": "code",
   "execution_count": null,
   "id": "24888a55-8c2b-40a2-96a3-721f23aca022",
   "metadata": {},
   "outputs": [],
   "source": []
  },
  {
   "cell_type": "code",
   "execution_count": null,
   "id": "459a63ea-1fa7-401f-91bb-bdbbc27e49c5",
   "metadata": {},
   "outputs": [],
   "source": [
    "# clusters = fcluster(np.load('../data/linkage_matrix.npy'), t=100, criterion='distance')"
   ]
  },
  {
   "cell_type": "code",
   "execution_count": null,
   "id": "505403c1-9f9b-42a2-8836-19645a1db149",
   "metadata": {},
   "outputs": [],
   "source": [
    "from core.cluster_validation import colored_crosstab"
   ]
  },
  {
   "cell_type": "code",
   "execution_count": null,
   "id": "076fb7aa-90aa-4ea7-97dd-17db29ca5922",
   "metadata": {},
   "outputs": [],
   "source": [
    "colored_crosstab(clusters[tess_groups_ilocs], tess_groups.values)"
   ]
  },
  {
   "cell_type": "markdown",
   "id": "9b858457-d448-471e-9622-12be53cad8aa",
   "metadata": {},
   "source": [
    "----"
   ]
  },
  {
   "cell_type": "markdown",
   "id": "d4be416b-21e8-48bc-9f55-06bf1d52aedc",
   "metadata": {},
   "source": [
    "#### Graph construction"
   ]
  },
  {
   "cell_type": "code",
   "execution_count": null,
   "id": "3566228d-6c8e-4b86-ac41-2e16b94c26a9",
   "metadata": {},
   "outputs": [],
   "source": [
    "# %%time\n",
    "from fast_hdbscan.numba_kdtree import kdtree_to_numba\n",
    "from fast_hdbscan.numba_kdtree import parallel_tree_query\n",
    "\n",
    "graph = read_parquet(graph_dir + f\"tessellation_graph_{region_id}_knn1.parquet\")\n",
    "\n",
    "from sklearn.neighbors import KDTree\n",
    "\n",
    "sklearn_tree = KDTree(data)\n",
    "numba_tree = kdtree_to_numba(sklearn_tree)\n",
    "# result = parallel_tree_query(numba_tree, np.ascontiguousarray(data), k=n_neighbors)\n",
    "\n",
    "# nn_dists, nn_inds = result"
   ]
  },
  {
   "cell_type": "code",
   "execution_count": null,
   "id": "23b3d852-89e8-4abd-9b6e-f0bc0ef0e1e8",
   "metadata": {},
   "outputs": [],
   "source": []
  },
  {
   "cell_type": "code",
   "execution_count": null,
   "id": "abcbf722-0687-4052-8dea-adcb9c25585c",
   "metadata": {},
   "outputs": [],
   "source": [
    "# app_nn_inds, app_nn_dists = knn_graph(data, n_neighbors=n_neighbors)"
   ]
  },
  {
   "cell_type": "code",
   "execution_count": null,
   "id": "ea082c59-0f84-4d18-8a0b-48bb76711962",
   "metadata": {},
   "outputs": [],
   "source": []
  },
  {
   "cell_type": "code",
   "execution_count": null,
   "id": "03f12f63-806c-4886-8227-7db2ae97e5db",
   "metadata": {},
   "outputs": [],
   "source": [
    "sigmas, rhos = smooth_knn_dist(\n",
    "        nn_dists[:, 1:],\n",
    "        float(n_neighbors),\n",
    "    )"
   ]
  },
  {
   "cell_type": "code",
   "execution_count": null,
   "id": "8bd7676b-0666-41e1-ba92-e4e7d30409dc",
   "metadata": {},
   "outputs": [],
   "source": [
    "np.allclose(rhos, nn_dists[:, 1])"
   ]
  },
  {
   "cell_type": "code",
   "execution_count": null,
   "id": "13d07423-08a4-4c25-8b7b-ec725be7df23",
   "metadata": {},
   "outputs": [],
   "source": [
    "%%time\n",
    "\n",
    "\n",
    "actual_dists, actual_knns = parallel_tree_query(numba_tree, np.ascontiguousarray(data[:5, :]), k=n_neighbors+1)"
   ]
  },
  {
   "cell_type": "code",
   "execution_count": null,
   "id": "2f8ea377-6337-4763-940e-d5b53b878304",
   "metadata": {},
   "outputs": [],
   "source": [
    "actual_sigmas, actual_rhos = smooth_knn_dist(\n",
    "        actual_dists[:, 1:],\n",
    "        float(n_neighbors),\n",
    ")"
   ]
  },
  {
   "cell_type": "code",
   "execution_count": null,
   "id": "3bc63452-1245-40a9-916f-d28e45480bab",
   "metadata": {},
   "outputs": [],
   "source": [
    "actual_dists[:, 1], rhos[:5]"
   ]
  },
  {
   "cell_type": "code",
   "execution_count": null,
   "id": "255d836f-ee13-4878-b8e1-3fde9c3ef6f8",
   "metadata": {},
   "outputs": [],
   "source": [
    "sigmas[:5], actual_sigmas"
   ]
  },
  {
   "cell_type": "code",
   "execution_count": null,
   "id": "5d7134b7-977a-4fe7-9126-8fd7bf09810c",
   "metadata": {},
   "outputs": [],
   "source": [
    "actual_knns[0], nn_inds[0]"
   ]
  },
  {
   "cell_type": "code",
   "execution_count": null,
   "id": "48705c20-1f5a-4268-b421-9fb7707234e6",
   "metadata": {},
   "outputs": [],
   "source": [
    "from scipy.spatial.distance import cdist"
   ]
  },
  {
   "cell_type": "code",
   "execution_count": null,
   "id": "3375f33d-7d49-4901-9bb4-1363384db869",
   "metadata": {},
   "outputs": [],
   "source": [
    "np.allclose(cdist(X_train.iloc[[actual_knns[0, 0]]], X_train.iloc[actual_knns[0, 1:]])[0], actual_dists[0][1:])"
   ]
  },
  {
   "cell_type": "code",
   "execution_count": null,
   "id": "fa65f78e-d372-44b5-a205-d01adcec39c2",
   "metadata": {},
   "outputs": [],
   "source": [
    "cdist(X_train.iloc[[nn_inds[0, 0]]], X_train.iloc[nn_inds[0, 1:]])[0], actual_dists[0][1:]"
   ]
  },
  {
   "cell_type": "code",
   "execution_count": null,
   "id": "5679ff06-3d01-4995-a410-53835d157317",
   "metadata": {},
   "outputs": [],
   "source": []
  },
  {
   "cell_type": "code",
   "execution_count": null,
   "id": "9adaa787-5863-4686-850d-4e1f05ee6ecd",
   "metadata": {},
   "outputs": [],
   "source": [
    "rows, cols, vals = compute_membership_strengths(\n",
    "        np.ascontiguousarray(nn_inds[:, 1:]), np.ascontiguousarray(nn_dists[:, 1:]), sigmas, rhos\n",
    ")"
   ]
  },
  {
   "cell_type": "code",
   "execution_count": null,
   "id": "2166321a-f00b-46a3-a777-1455763fa315",
   "metadata": {},
   "outputs": [],
   "source": [
    "vals[:25]"
   ]
  },
  {
   "cell_type": "code",
   "execution_count": null,
   "id": "c40e8787-7554-410f-b8cc-757d21cdb830",
   "metadata": {},
   "outputs": [],
   "source": [
    "vs = compute_membership_strengths(\n",
    "        np.ascontiguousarray(actual_knns[:, 1:]), np.ascontiguousarray(actual_dists[:, 1:]), actual_sigmas, actual_rhos\n",
    ")[2]\n",
    "vs[:25]"
   ]
  },
  {
   "cell_type": "code",
   "execution_count": null,
   "id": "974d05fb-d27c-48ba-b0f8-cf784dd2d8d2",
   "metadata": {},
   "outputs": [],
   "source": []
  },
  {
   "cell_type": "code",
   "execution_count": null,
   "id": "143f64d6-fded-4e2a-9dfa-a4f72bf2cdd4",
   "metadata": {},
   "outputs": [],
   "source": []
  },
  {
   "cell_type": "code",
   "execution_count": null,
   "id": "fd9c4638-8dd5-407f-b65d-bfb723e9dd5c",
   "metadata": {},
   "outputs": [],
   "source": []
  },
  {
   "cell_type": "code",
   "execution_count": null,
   "id": "7cc06800-e21b-4218-bad4-867a071adf87",
   "metadata": {},
   "outputs": [],
   "source": []
  },
  {
   "cell_type": "code",
   "execution_count": null,
   "id": "acca0718-8311-437f-9fad-85469c55aa5d",
   "metadata": {},
   "outputs": [],
   "source": [
    "smooth_knn_dist(\n",
    "        nn_dists[:, 1:],\n",
    "        float(n_neighbors),\n",
    "    )"
   ]
  },
  {
   "cell_type": "code",
   "execution_count": null,
   "id": "6f030781-f143-46c5-a827-0803bdf07a93",
   "metadata": {},
   "outputs": [],
   "source": []
  },
  {
   "cell_type": "code",
   "execution_count": null,
   "id": "af97da1f-d2bf-4f77-b1a7-70f05f5c4305",
   "metadata": {},
   "outputs": [],
   "source": [
    "# # r = pd.read_csv('https://figshare.com/ndownloader/files/31252825', compression='gzip')\n",
    "# r = pd.read_csv('https://figshare.com/ndownloader/files/31250227', compression='gzip')\n",
    "# r = r.drop([ 'mm_len', 'cdsbool', 'node_start', 'node_end', 'nID', 'nodeID', 'Unnamed: 0', 'bID',], axis=1).set_index('uID').sort_index()\n",
    "# X_train.join(r).reset_index().to_parquet('../data/old_prague_data/old_prague_data.parquet')\n",
    "\n",
    "\n",
    "import requests \n",
    "def download_url(url, save_path, chunk_size=128):\n",
    "    r = requests.get(url, stream=True)\n",
    "    with open(save_path, 'wb') as fd:\n",
    "        for chunk in r.iter_content(chunk_size=chunk_size):\n",
    "            fd.write(chunk)\n",
    "# download_url('https://figshare.com/ndownloader/files/31252828', '../data/old_prague_geometries.zip') \n",
    "# import zipfile\n",
    "# z = zipfile.ZipFile('../data/old_prague_geometries.zip')\n",
    "# z.extractall(\"../data/old_prague_geometries/\")\n",
    "\n"
   ]
  },
  {
   "cell_type": "code",
   "execution_count": null,
   "id": "5db988ab-3943-4496-9edd-501928138097",
   "metadata": {},
   "outputs": [],
   "source": [
    "# download_url('https://drive.usercontent.google.com/u/0/uc?id=1oxRyqW_dOVbosa19zigELrD3J-oOdUlk&export=download',\n",
    "#              )"
   ]
  },
  {
   "cell_type": "code",
   "execution_count": null,
   "id": "a469b709-6281-4fc6-a823-75722639ed87",
   "metadata": {},
   "outputs": [],
   "source": []
  },
  {
   "cell_type": "code",
   "execution_count": 6,
   "id": "4dddf48b-e772-4885-b3ff-89dff7dd981f",
   "metadata": {},
   "outputs": [
    {
     "name": "stderr",
     "output_type": "stream",
     "text": [
      "/home/krasen/miniconda3/envs/urban_taxonomy/lib/python3.12/site-packages/pyogrio/geopandas.py:261: UserWarning: More than one layer found in 'prg_geometry.gpkg': 'buildings' (default), 'nodes', 'edges', 'tessellation', 'blocks'. Specify layer parameter to avoid this warning.\n",
      "  result = read_func(\n"
     ]
    },
    {
     "data": {
      "text/html": [
       "<div>\n",
       "<style scoped>\n",
       "    .dataframe tbody tr th:only-of-type {\n",
       "        vertical-align: middle;\n",
       "    }\n",
       "\n",
       "    .dataframe tbody tr th {\n",
       "        vertical-align: top;\n",
       "    }\n",
       "\n",
       "    .dataframe thead th {\n",
       "        text-align: right;\n",
       "    }\n",
       "</style>\n",
       "<table border=\"1\" class=\"dataframe\">\n",
       "  <thead>\n",
       "    <tr style=\"text-align: right;\">\n",
       "      <th></th>\n",
       "      <th>uID</th>\n",
       "      <th>geometry</th>\n",
       "    </tr>\n",
       "  </thead>\n",
       "  <tbody>\n",
       "    <tr>\n",
       "      <th>0</th>\n",
       "      <td>0</td>\n",
       "      <td>POLYGON ((-749844.585 -1052277.805, -749844.41...</td>\n",
       "    </tr>\n",
       "    <tr>\n",
       "      <th>1</th>\n",
       "      <td>1</td>\n",
       "      <td>POLYGON ((-744449.58 -1042702.59, -744447.15 -...</td>\n",
       "    </tr>\n",
       "    <tr>\n",
       "      <th>2</th>\n",
       "      <td>2</td>\n",
       "      <td>POLYGON ((-733304.06 -1048133.18, -733299.931 ...</td>\n",
       "    </tr>\n",
       "    <tr>\n",
       "      <th>3</th>\n",
       "      <td>3</td>\n",
       "      <td>POLYGON ((-742471.51 -1039697.12, -742472.27 -...</td>\n",
       "    </tr>\n",
       "    <tr>\n",
       "      <th>4</th>\n",
       "      <td>4</td>\n",
       "      <td>POLYGON ((-740088.94 -1043853.95, -740089.1 -1...</td>\n",
       "    </tr>\n",
       "    <tr>\n",
       "      <th>...</th>\n",
       "      <td>...</td>\n",
       "      <td>...</td>\n",
       "    </tr>\n",
       "    <tr>\n",
       "      <th>140403</th>\n",
       "      <td>140457</td>\n",
       "      <td>POLYGON ((-742306.21 -1043656.25, -742334.11 -...</td>\n",
       "    </tr>\n",
       "    <tr>\n",
       "      <th>140404</th>\n",
       "      <td>140458</td>\n",
       "      <td>POLYGON ((-745118.15 -1036872.01, -745120.66 -...</td>\n",
       "    </tr>\n",
       "    <tr>\n",
       "      <th>140405</th>\n",
       "      <td>140459</td>\n",
       "      <td>POLYGON ((-741493.72 -1045901.36, -741493.82 -...</td>\n",
       "    </tr>\n",
       "    <tr>\n",
       "      <th>140406</th>\n",
       "      <td>140460</td>\n",
       "      <td>POLYGON ((-741505.02 -1045901.01, -741505.419 ...</td>\n",
       "    </tr>\n",
       "    <tr>\n",
       "      <th>140407</th>\n",
       "      <td>140461</td>\n",
       "      <td>POLYGON ((-752155.56 -1045248.23, -752191 -104...</td>\n",
       "    </tr>\n",
       "  </tbody>\n",
       "</table>\n",
       "<p>140408 rows × 2 columns</p>\n",
       "</div>"
      ],
      "text/plain": [
       "           uID                                           geometry\n",
       "0            0  POLYGON ((-749844.585 -1052277.805, -749844.41...\n",
       "1            1  POLYGON ((-744449.58 -1042702.59, -744447.15 -...\n",
       "2            2  POLYGON ((-733304.06 -1048133.18, -733299.931 ...\n",
       "3            3  POLYGON ((-742471.51 -1039697.12, -742472.27 -...\n",
       "4            4  POLYGON ((-740088.94 -1043853.95, -740089.1 -1...\n",
       "...        ...                                                ...\n",
       "140403  140457  POLYGON ((-742306.21 -1043656.25, -742334.11 -...\n",
       "140404  140458  POLYGON ((-745118.15 -1036872.01, -745120.66 -...\n",
       "140405  140459  POLYGON ((-741493.72 -1045901.36, -741493.82 -...\n",
       "140406  140460  POLYGON ((-741505.02 -1045901.01, -741505.419 ...\n",
       "140407  140461  POLYGON ((-752155.56 -1045248.23, -752191 -104...\n",
       "\n",
       "[140408 rows x 2 columns]"
      ]
     },
     "execution_count": 6,
     "metadata": {},
     "output_type": "execute_result"
    }
   ],
   "source": [
    "gdf = gpd.read_file('../data/old_prague_data/prg_geometry.gpkg')\n",
    "gdf"
   ]
  },
  {
   "cell_type": "code",
   "execution_count": null,
   "id": "318758c0-e700-4d63-99c6-68bb3f5adc56",
   "metadata": {},
   "outputs": [],
   "source": []
  }
 ],
 "metadata": {
  "kernelspec": {
   "display_name": "Python 3 (ipykernel)",
   "language": "python",
   "name": "python3"
  },
  "language_info": {
   "codemirror_mode": {
    "name": "ipython",
    "version": 3
   },
   "file_extension": ".py",
   "mimetype": "text/x-python",
   "name": "python",
   "nbconvert_exporter": "python",
   "pygments_lexer": "ipython3",
   "version": "3.12.4"
  }
 },
 "nbformat": 4,
 "nbformat_minor": 5
}
