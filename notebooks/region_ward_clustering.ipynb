{
 "cells": [
  {
   "cell_type": "code",
   "execution_count": null,
   "id": "4fb58956-1f6c-4dd0-ba41-f79164bbd775",
   "metadata": {},
   "outputs": [],
   "source": [
    "import momepy as mm\n",
    "import numpy as np\n",
    "import numba\n",
    "import geopandas as gpd\n",
    "import pandas as pd\n",
    "import shapely\n",
    "from sklearn.preprocessing import StandardScaler\n",
    "from collections import namedtuple\n",
    "from core.cluster_validation import get_linkage_matrix\n",
    "from libpysal.graph import read_parquet, Graph\n",
    "from core.generate_context import spatially_weighted_partial_lag\n",
    "from core.generate_clusters import preprocess_clustering_data\n",
    "from sklearn.cluster import AgglomerativeClustering\n",
    "from core.cluster_validation import get_linkage_matrix\n",
    "from scipy.cluster.hierarchy import fcluster"
   ]
  },
  {
   "cell_type": "code",
   "execution_count": null,
   "id": "89415dbe-7081-4be6-8824-3a5adb7b1966",
   "metadata": {},
   "outputs": [],
   "source": [
    "regions_datadir = \"/data/uscuni-ulce/\"\n",
    "morphotopes_dir = '/data/uscuni-ulce/processed_data/morphotopes/'\n",
    "model_params = '_100_0_None_None_False'\n",
    "clip = None\n",
    "to_drop = [\n",
    "        'stcSAl','stbOri','stcOri','stbCeA',\n",
    "        'ldkAre', 'ldkPer', 'lskCCo', 'lskERI','lskCWA', 'ltkOri', 'ltkWNB', 'likWBB', 'likWCe'\n",
    "]\n",
    "linkage = 'ward'\n",
    "metric = 'euclidean'"
   ]
  },
  {
   "cell_type": "code",
   "execution_count": null,
   "id": "8da79962-1f71-485a-833b-64169da7f70b",
   "metadata": {},
   "outputs": [],
   "source": [
    "region_id = 69333"
   ]
  },
  {
   "cell_type": "code",
   "execution_count": null,
   "id": "86302c5f-263c-4390-bb69-3b16ce654a95",
   "metadata": {},
   "outputs": [],
   "source": [
    "def preprocess_data(data):\n",
    "    component_data = data.drop(columns=['percentile_25', 'percentile_75', 'median', 'std'], level=1)\n",
    "    component_data = component_data.drop(columns=to_drop, level=0)\n",
    "    component_data.columns =  component_data.columns.get_level_values(0)\n",
    "    \n",
    "    component_data = component_data[component_data.index.str[-2:] != '-1']\n",
    "    \n",
    "    vals = StandardScaler().fit_transform(component_data)\n",
    "    component_data = pd.DataFrame(vals, columns=component_data.columns, index=component_data.index)\n",
    "    component_data = component_data.drop(component_data.columns[component_data.std() == 0], axis=1)\n",
    "    \n",
    "    # component_data = component_data[component_data.index >= 0]\n",
    "    vals = np.nan_to_num(component_data)\n",
    "    component_data = pd.DataFrame(vals, columns=component_data.columns, index=component_data.index)\n",
    "    return component_data\n",
    "\n",
    "def read_region_morphotope_data(region_id):\n",
    "    print('processing' , region_id)\n",
    "    data = pd.read_parquet(f'{morphotopes_dir}data_morphotopes_{region_id}{model_params}.pq')\n",
    "    data.index = str(region_id) + '_' + data.index\n",
    "    data = data.iloc[:, :-1]\n",
    "    component_data = preprocess_data(data)\n",
    "\n",
    "    return component_data\n",
    "\n",
    "def get_morphotope_linkage(region_data):\n",
    "    \n",
    "    clusterer = AgglomerativeClustering(linkage=linkage,\n",
    "                                        metric=metric,\n",
    "                                        compute_full_tree=True,\n",
    "                                        compute_distances=True)\n",
    "    model = clusterer.fit(region_data)\n",
    "    linkage_matrix = get_linkage_matrix(model)\n",
    "    return linkage_matrix\n",
    "\n",
    "\n",
    "def get_all_clusters(cutoff):\n",
    "    region_hulls = gpd.read_parquet(\n",
    "            regions_datadir + \"regions/\" + \"cadastre_regions_hull.parquet\"\n",
    "    )\n",
    "    \n",
    "    all_clusters = []\n",
    "    \n",
    "    for region_id, _ in region_hulls.iterrows():\n",
    "        data = read_region_morphotope_data(region_id)\n",
    "        region_index = data.index\n",
    "        linkage_matrix = np.load(f'/data/uscuni-ulce/processed_data/morphotope_linkage/{linkage}_{metric}_{region_id}.npy')\n",
    "        clusters = fcluster(linkage_matrix, t=cutoff, criterion='distance')\n",
    "        clusters = pd.Series(clusters, region_index).astype(str)\n",
    "        clusters = str(region_id) + '_' +clusters\n",
    "        all_clusters.append(clusters)\n",
    "    \n",
    "    all_clusters = pd.concat(all_clusters)\n",
    "    \n",
    "    return all_clusters\n",
    "\n",
    "\n",
    "def read_morphotopes_data(model_params):\n",
    "\n",
    "    ### primary chars\n",
    "    region_hulls = gpd.read_parquet(\n",
    "            regions_datadir + \"regions/\" + \"cadastre_regions_hull.parquet\"\n",
    "    )\n",
    "    \n",
    "    data = []\n",
    "    for region_id, _ in region_hulls.iterrows():\n",
    "        region_morphotope_data = pd.read_parquet(f'{morphotopes_dir}data_morphotopes_{region_id}{model_params}.pq')\n",
    "        region_morphotope_data.index = str(region_id) + '_' + region_morphotope_data.index.str[:]\n",
    "        data.append(region_morphotope_data)\n",
    "    \n",
    "    data = pd.concat(data)\n",
    "    return data\n",
    "\n",
    "def morphotopes_to_etcs(region_id, etcs=True, model_params='_100_0_None_None_False'):\n",
    "\n",
    "\n",
    "    if etcs:\n",
    "        etcs = gpd.read_parquet(f'/data/uscuni-ulce/processed_data/tessellations/tessellation_{region_id}.parquet')\n",
    "\n",
    "    else:\n",
    "        etcs = gpd.read_parquet(f'/data/uscuni-ulce/processed_data/buildings/buildings_{region_id}.parquet')\n",
    "        \n",
    "    etcs['label'] = -1\n",
    "    \n",
    "    morphotopes = pd.read_parquet(f'/data/uscuni-ulce/processed_data/morphotopes/tessellation_labels_morphotopes_{region_id}{model_params}.pq')\n",
    "    morphotopes.loc[:, 'morphotope_label'] =  morphotopes.values[:, 0]\n",
    "\n",
    "    morph_dict = pd.Series(np.arange(np.unique(morphotopes.values).shape[0]),\n",
    "                       np.unique(morphotopes.values))\n",
    "    etcs.loc[morphotopes.index, 'label'] = morphotopes.map(lambda x: morph_dict.loc[x]).values\n",
    "    etcs['morph'] = str(region_id) + '_' + '-1'\n",
    "    etcs.loc[morphotopes.index, 'morph'] = str(region_id) + '_' + morphotopes.values\n",
    "    return etcs"
   ]
  },
  {
   "cell_type": "code",
   "execution_count": null,
   "id": "740d3732-de07-4164-aeb7-9c2e5ef253e0",
   "metadata": {},
   "outputs": [],
   "source": []
  },
  {
   "cell_type": "code",
   "execution_count": null,
   "id": "75073153-d871-447b-b246-a05b5c751e71",
   "metadata": {},
   "outputs": [],
   "source": []
  },
  {
   "cell_type": "code",
   "execution_count": null,
   "id": "0cc41cce-654b-4c19-8506-52152f53faf7",
   "metadata": {},
   "outputs": [],
   "source": [
    "region_hulls = gpd.read_parquet(\n",
    "        regions_datadir + \"regions/\" + \"cadastre_regions_hull.parquet\"\n",
    ")"
   ]
  },
  {
   "cell_type": "code",
   "execution_count": null,
   "id": "3c76470d-0dc1-4609-83b5-11530ac3b6b0",
   "metadata": {
    "scrolled": true
   },
   "outputs": [],
   "source": [
    "### generate and save linkage matricies for each region\n",
    "\n",
    "# %%time\n",
    "# for region_id, _ in region_hulls.iterrows():\n",
    "#     data = read_region_morphotope_data(region_id)\n",
    "#     linkage_matrix = get_morphotope_linkage(data)\n",
    "#     np.save(f'/data/uscuni-ulce/processed_data/morphotope_linkage/{linkage}_{metric}_{region_id}', linkage_matrix)"
   ]
  },
  {
   "cell_type": "code",
   "execution_count": null,
   "id": "d73c6907-32dd-4380-ab9c-31a7ce780b17",
   "metadata": {},
   "outputs": [],
   "source": []
  },
  {
   "cell_type": "markdown",
   "id": "0e84ab65-ad35-4650-b884-69659445f825",
   "metadata": {},
   "source": [
    "### Setup regional cutoff to merge regional morphotopes"
   ]
  },
  {
   "cell_type": "code",
   "execution_count": null,
   "id": "f2afa8b6-2f25-482b-85bc-8f673e617bf4",
   "metadata": {},
   "outputs": [],
   "source": [
    "regional_cutoff = 20"
   ]
  },
  {
   "cell_type": "code",
   "execution_count": null,
   "id": "772709a9-0793-4624-a88c-13cac9cc47b6",
   "metadata": {
    "scrolled": true
   },
   "outputs": [],
   "source": [
    "regional_clusters = get_all_clusters(cutoff=regional_cutoff)"
   ]
  },
  {
   "cell_type": "code",
   "execution_count": null,
   "id": "a1ad4b53-257c-41a2-a42a-5ce549439cb7",
   "metadata": {},
   "outputs": [],
   "source": [
    "%%time\n",
    "morphotopes_data = read_morphotopes_data(model_params)"
   ]
  },
  {
   "cell_type": "code",
   "execution_count": null,
   "id": "82fdcad6-5e96-4b82-98ab-abb8f036b8e5",
   "metadata": {},
   "outputs": [],
   "source": [
    "morphotopes_data = morphotopes_data.loc[regional_clusters.index]\n",
    "regional_ward_morphotopes_data = morphotopes_data.groupby(regional_clusters).mean()\n",
    "regional_ward_morphotopes_data = regional_ward_morphotopes_data.iloc[:, :-1]\n",
    "regional_ward_morphotopes_data"
   ]
  },
  {
   "cell_type": "code",
   "execution_count": null,
   "id": "8223217a-9f6f-4a87-87a5-41e9a1eed13b",
   "metadata": {},
   "outputs": [],
   "source": []
  },
  {
   "cell_type": "code",
   "execution_count": null,
   "id": "5b60af6c-96a1-40fb-bb15-dc1e793dd562",
   "metadata": {},
   "outputs": [],
   "source": []
  },
  {
   "cell_type": "code",
   "execution_count": null,
   "id": "78dce7f7-fa76-4e47-b264-3a3c2ec29702",
   "metadata": {},
   "outputs": [],
   "source": []
  },
  {
   "cell_type": "code",
   "execution_count": null,
   "id": "244349e7-758d-468f-bae0-f451fe03fb61",
   "metadata": {},
   "outputs": [],
   "source": [
    "# region_id = 4\n",
    "# data = read_region_morphotope_data(region_id)\n",
    "# linkage_matrix = get_morphotope_linkage(data)"
   ]
  },
  {
   "cell_type": "markdown",
   "id": "cf306442-cad5-40df-9d23-52bc0a78fe5e",
   "metadata": {},
   "source": [
    "### Final ward clustering"
   ]
  },
  {
   "cell_type": "code",
   "execution_count": null,
   "id": "a1eefb1a-043e-47ba-b628-013310ec11b2",
   "metadata": {},
   "outputs": [],
   "source": [
    "final_cutoff = 100"
   ]
  },
  {
   "cell_type": "code",
   "execution_count": null,
   "id": "ad40f219-7f32-4ca2-83c7-f5ba956dc969",
   "metadata": {},
   "outputs": [],
   "source": [
    "linkage_matrix = get_morphotope_linkage(preprocess_data(regional_ward_morphotopes_data))"
   ]
  },
  {
   "cell_type": "code",
   "execution_count": null,
   "id": "49e3f4d2-c3c0-4764-a4cf-3f83dea309ee",
   "metadata": {},
   "outputs": [],
   "source": [
    "clusters = fcluster(linkage_matrix, t=final_cutoff, criterion='distance')\n",
    "final_clusters = pd.Series(clusters, regional_ward_morphotopes_data.index)\n",
    "final_clusters.value_counts()"
   ]
  },
  {
   "cell_type": "code",
   "execution_count": null,
   "id": "9146d2d2-5d72-464c-923b-462d1219e07f",
   "metadata": {},
   "outputs": [],
   "source": []
  },
  {
   "cell_type": "markdown",
   "id": "c8363ec8-d01c-4a38-8414-18122ae8ffcd",
   "metadata": {},
   "source": [
    "### Plotting"
   ]
  },
  {
   "cell_type": "code",
   "execution_count": null,
   "id": "84b39fd3-545e-44c4-b4c3-d0910e45d6db",
   "metadata": {},
   "outputs": [],
   "source": []
  },
  {
   "cell_type": "code",
   "execution_count": null,
   "id": "96a2f1b7-cc7f-42fa-af4d-4639d52f5f4e",
   "metadata": {},
   "outputs": [],
   "source": [
    "# etcs=False to read buildings, etcs=True for tessellation cells.\n",
    "etcs = morphotopes_to_etcs(region_id, etcs=False)"
   ]
  },
  {
   "cell_type": "code",
   "execution_count": null,
   "id": "f035b610-8863-4f6d-883c-71ad9ec6fbe3",
   "metadata": {},
   "outputs": [],
   "source": [
    "## relabel\n",
    "### regional_clusters = morphotopes -> regional_clusters\n",
    "### final_clusters = regional_clusters -> final_clusters\n",
    "etcs['final'] = etcs['morph'].map(lambda x: final_clusters.loc[regional_clusters.loc[x]] if x in regional_clusters else -1)"
   ]
  },
  {
   "cell_type": "code",
   "execution_count": null,
   "id": "64f510f5-bcd6-4991-b0b4-a093d825cb87",
   "metadata": {},
   "outputs": [],
   "source": [
    "# # can run this to change colors on an exisitng layer\n",
    "# layer.get_fill_color = get_color(etcs.final)"
   ]
  },
  {
   "cell_type": "code",
   "execution_count": null,
   "id": "f1caed9f-5e56-4ba7-a486-ee0081ecf36b",
   "metadata": {},
   "outputs": [],
   "source": []
  },
  {
   "cell_type": "code",
   "execution_count": null,
   "id": "e466cb6f-9b4d-49c3-804b-f1c3d621c9c8",
   "metadata": {},
   "outputs": [],
   "source": []
  },
  {
   "cell_type": "code",
   "execution_count": null,
   "id": "4ee3aea3-910d-4c80-8cf0-f86fb7cb1aeb",
   "metadata": {},
   "outputs": [],
   "source": []
  },
  {
   "cell_type": "code",
   "execution_count": null,
   "id": "527b448b-2787-4c05-8244-ad871b750dfe",
   "metadata": {},
   "outputs": [],
   "source": []
  },
  {
   "cell_type": "code",
   "execution_count": null,
   "id": "72996a2c-49c4-47d4-a5f9-607ea6148316",
   "metadata": {},
   "outputs": [],
   "source": [
    "etcs = etcs.to_crs(epsg=4326)\n",
    "etcs['geometry'] = etcs.geometry.make_valid()"
   ]
  },
  {
   "cell_type": "code",
   "execution_count": null,
   "id": "170e1f90-5051-41e9-9960-292327a51846",
   "metadata": {},
   "outputs": [],
   "source": [
    "etcs = etcs[etcs['geometry'].geom_type == 'Polygon']"
   ]
  },
  {
   "cell_type": "code",
   "execution_count": null,
   "id": "20df0ab1-9891-4a43-99a6-5d6d64946953",
   "metadata": {},
   "outputs": [],
   "source": [
    "%%time\n",
    "import lonboard\n",
    "# plotting = tessellation[tessellation.index.isin(X_train.index)].copy()\n",
    "layer = lonboard.SolidPolygonLayer.from_geopandas(etcs, opacity=.7)"
   ]
  },
  {
   "cell_type": "code",
   "execution_count": null,
   "id": "c2546eda-acf3-400e-a606-9c6e66fb0f98",
   "metadata": {},
   "outputs": [],
   "source": [
    "from sidecar import Sidecar\n",
    "sc = Sidecar(title='Final Clusters')\n",
    "m = lonboard.Map(layer, basemap_style=lonboard.basemap.CartoBasemap.Positron)\n",
    "with sc:\n",
    "    display(m)"
   ]
  },
  {
   "cell_type": "code",
   "execution_count": null,
   "id": "2132ca43-075c-49c1-bf38-eba5ef11637b",
   "metadata": {},
   "outputs": [],
   "source": [
    "from core.cluster_validation import get_color\n",
    "layer.get_fill_color = get_color(etcs.final)"
   ]
  },
  {
   "cell_type": "code",
   "execution_count": null,
   "id": "76bfac0e-d24b-4fab-9318-ef918eec08e4",
   "metadata": {},
   "outputs": [],
   "source": []
  },
  {
   "cell_type": "code",
   "execution_count": null,
   "id": "25ef0cac-a5f6-4a86-b373-fb0b28a0be7f",
   "metadata": {},
   "outputs": [],
   "source": []
  },
  {
   "cell_type": "code",
   "execution_count": null,
   "id": "22d75c93-dcc4-400d-b181-5cc5e0fb5dbc",
   "metadata": {},
   "outputs": [],
   "source": []
  },
  {
   "cell_type": "code",
   "execution_count": null,
   "id": "fd534f88-5e5d-4903-b681-1ce5c86dd476",
   "metadata": {
    "scrolled": true
   },
   "outputs": [],
   "source": [
    "target_cluster = 96\n",
    "etcs[etcs.final == target_cluster].shape"
   ]
  },
  {
   "cell_type": "code",
   "execution_count": null,
   "id": "16455988-2ddb-41e2-b708-39694eb306e8",
   "metadata": {},
   "outputs": [],
   "source": [
    "# etcs[etcs.final == target_cluster].explore(prefer_canvas=True, tiles='Cartodb positron')"
   ]
  },
  {
   "cell_type": "code",
   "execution_count": null,
   "id": "952cafc5-a8a1-403f-a4d7-60fed5dabd7a",
   "metadata": {},
   "outputs": [],
   "source": []
  },
  {
   "cell_type": "code",
   "execution_count": null,
   "id": "8b42b502-f9d9-4113-b2dc-5fe3f67ca0c0",
   "metadata": {},
   "outputs": [],
   "source": []
  },
  {
   "cell_type": "code",
   "execution_count": null,
   "id": "f54789ea-b9c6-43a5-85cc-2d0b9e538843",
   "metadata": {},
   "outputs": [],
   "source": []
  },
  {
   "cell_type": "code",
   "execution_count": null,
   "id": "85940f8e-2742-4ccb-90e8-c096bb334dd4",
   "metadata": {},
   "outputs": [],
   "source": [
    "## final dendrogram\n",
    "import matplotlib.pyplot as plt\n",
    "from scipy.cluster.hierarchy import dendrogram\n",
    "fig,ax = plt.subplots(figsize=(20,20), dpi=200)\n",
    "_ = dendrogram(linkage_matrix,ax=ax)"
   ]
  },
  {
   "cell_type": "code",
   "execution_count": null,
   "id": "ed5fae15-fbd1-4090-8701-1d2165d20e5b",
   "metadata": {},
   "outputs": [],
   "source": []
  }
 ],
 "metadata": {
  "kernelspec": {
   "display_name": "Python 3 (ipykernel)",
   "language": "python",
   "name": "python3"
  },
  "language_info": {
   "codemirror_mode": {
    "name": "ipython",
    "version": 3
   },
   "file_extension": ".py",
   "mimetype": "text/x-python",
   "name": "python",
   "nbconvert_exporter": "python",
   "pygments_lexer": "ipython3",
   "version": "3.12.5"
  }
 },
 "nbformat": 4,
 "nbformat_minor": 5
}
