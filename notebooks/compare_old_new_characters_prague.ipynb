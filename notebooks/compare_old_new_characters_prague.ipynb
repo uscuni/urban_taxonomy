{
 "cells": [
  {
   "cell_type": "code",
   "execution_count": 1,
   "id": "82e5495c-0078-4dbb-91c2-644d4b2463ca",
   "metadata": {},
   "outputs": [
    {
     "name": "stdout",
     "output_type": "stream",
     "text": [
      "CPU times: user 11.4 s, sys: 493 ms, total: 11.9 s\n",
      "Wall time: 9.53 s\n"
     ]
    }
   ],
   "source": [
    "%%time\n",
    "\n",
    "import glob\n",
    "\n",
    "import geopandas as gpd\n",
    "import matplotlib.pyplot as plt\n",
    "import numba\n",
    "import numpy as np\n",
    "import pandas as pd\n",
    "from libpysal.graph import read_parquet\n",
    "from sklearn.preprocessing import PowerTransformer, RobustScaler, StandardScaler\n",
    "\n",
    "from fast_hdbscan.numba_kdtree import kdtree_to_numba\n",
    "from fast_hdbscan.numba_kdtree import parallel_tree_query\n",
    "from sklearn.neighbors import KDTree\n",
    "from core.cluster_validation import print_distance, generate_neigbhourhood_groups\n",
    "from core.utils import char_names"
   ]
  },
  {
   "cell_type": "markdown",
   "id": "d2c623ad-2c55-4536-ac37-18795d322c9c",
   "metadata": {},
   "source": [
    "## Download old data\n"
   ]
  },
  {
   "cell_type": "code",
   "execution_count": 2,
   "id": "47d4ec01-a2c8-41cf-aa06-80db775a3402",
   "metadata": {},
   "outputs": [],
   "source": [
    "# # r = pd.read_csv('https://figshare.com/ndownloader/files/31252825', compression='gzip')\n",
    "# r = pd.read_csv('https://figshare.com/ndownloader/files/31250227', compression='gzip')\n",
    "# r = r.drop([ 'mm_len', 'cdsbool', 'node_start', 'node_end', 'nID', 'nodeID', 'Unnamed: 0', 'bID',], axis=1).set_index('uID').sort_index()\n",
    "# X_train.join(r).reset_index().to_parquet('../data/old_prague_data/old_prague_data.parquet')\n",
    "\n",
    "\n",
    "# import requests \n",
    "# def download_url(url, save_path, chunk_size=128):\n",
    "#     r = requests.get(url, stream=True)\n",
    "#     with open(save_path, 'wb') as fd:\n",
    "#         for chunk in r.iter_content(chunk_size=chunk_size):\n",
    "#             fd.write(chunk)\n",
    "\n",
    "\n",
    "# download_url('https://figshare.com/ndownloader/files/31252828', '../data/old_prague_geometries.zip') \n",
    "# import zipfile\n",
    "# z = zipfile.ZipFile('../data/old_prague_geometries.zip')\n",
    "# z.extractall(\"../data/old_prague_geometries/\")\n",
    "\n"
   ]
  },
  {
   "cell_type": "code",
   "execution_count": null,
   "id": "dd5a4ebe-18c6-4807-83f2-d7ffe131f981",
   "metadata": {},
   "outputs": [],
   "source": []
  },
  {
   "cell_type": "code",
   "execution_count": 3,
   "id": "80aa3f29-a013-407a-b1b6-72fd0f27b723",
   "metadata": {},
   "outputs": [],
   "source": [
    "region_id = 'prague'\n",
    "buildings_dir = streets_dir = enclosures_dir = tessellations_dir = graph_dir = '../data/old_prague_data/reprocessed_data/'\n",
    "chars_dir = '../data/old_prague_data/reprocessed_data/chars/'\n",
    "geometry_file ='../data/old_prague_data/prg_geometry.gpkg'"
   ]
  },
  {
   "cell_type": "markdown",
   "id": "4e41c2a6-1d17-4ad9-a4b2-2e9302052722",
   "metadata": {
    "jp-MarkdownHeadingCollapsed": true
   },
   "source": [
    "## Process old data through the current pipeline"
   ]
  },
  {
   "cell_type": "code",
   "execution_count": null,
   "id": "013653b4-e3cf-4349-bf1d-cf4806c82bef",
   "metadata": {},
   "outputs": [],
   "source": []
  },
  {
   "cell_type": "code",
   "execution_count": null,
   "id": "ad37ac4b-e75d-403f-801b-7ae74a3bd345",
   "metadata": {},
   "outputs": [],
   "source": []
  },
  {
   "cell_type": "code",
   "execution_count": null,
   "id": "b8e1e4c5-6688-4556-8113-dbd92834d07b",
   "metadata": {},
   "outputs": [],
   "source": []
  },
  {
   "cell_type": "markdown",
   "id": "87fb415e-59ab-459c-8db2-8d0bc02b1f7f",
   "metadata": {},
   "source": [
    "need to reorder the data and reprocess the blocks to get rid of the dependancy on id columns"
   ]
  },
  {
   "cell_type": "code",
   "execution_count": 4,
   "id": "cec04ba9-289a-4576-9845-5f075dd89ae9",
   "metadata": {},
   "outputs": [],
   "source": [
    "buildings = gpd.read_file(geometry_file, layer='buildings')\n",
    "tessellations = gpd.read_file(geometry_file, layer='tessellation')\n",
    "streets = gpd.read_file(geometry_file, layer='edges')"
   ]
  },
  {
   "cell_type": "code",
   "execution_count": 5,
   "id": "580cfbcd-a983-4d19-80f9-62c525c7da7b",
   "metadata": {},
   "outputs": [],
   "source": [
    "build_tess = pd.merge(buildings, tessellations, left_on='uID', right_on='uID').reset_index(drop=True)"
   ]
  },
  {
   "cell_type": "code",
   "execution_count": 6,
   "id": "868ea9a5-a3a3-4132-844f-05946c63e0ef",
   "metadata": {},
   "outputs": [],
   "source": [
    "# m = build_tess.iloc[:100].set_geometry('geometry_y').explore()\n",
    "# m = build_tess.iloc[:100].set_geometry('geometry_x').explore(color='red', m=m)\n",
    "# m"
   ]
  },
  {
   "cell_type": "code",
   "execution_count": 7,
   "id": "e350cd5a-b478-4005-9f27-e0cb3c0c4391",
   "metadata": {},
   "outputs": [
    {
     "name": "stdout",
     "output_type": "stream",
     "text": [
      "CPU times: user 1min 29s, sys: 1.81 s, total: 1min 31s\n",
      "Wall time: 1min 30s\n"
     ]
    }
   ],
   "source": [
    "%%time\n",
    "import momepy as mm\n",
    "enclosures, ids = mm.generate_blocks(tessellation=build_tess['geometry_y'].to_frame(),\n",
    "                            edges=streets,\n",
    "                            buildings=build_tess['geometry_x'].to_frame())"
   ]
  },
  {
   "cell_type": "code",
   "execution_count": 8,
   "id": "c73bda31-2554-44ac-809e-945f7cc4d991",
   "metadata": {},
   "outputs": [],
   "source": [
    "build_tess['enclosure_index'] = ids"
   ]
  },
  {
   "cell_type": "code",
   "execution_count": 9,
   "id": "99f6cee2-e904-47cd-b8d0-bf245f51fd1a",
   "metadata": {},
   "outputs": [],
   "source": [
    "crs = buildings.crs"
   ]
  },
  {
   "cell_type": "code",
   "execution_count": 16,
   "id": "fe2802a6-4f98-4124-84f5-3c9aefdd98cf",
   "metadata": {},
   "outputs": [],
   "source": [
    "buildings = build_tess[['geometry_x']]\n",
    "buildings.columns = ['geometry']\n",
    "buildings = buildings.set_geometry('geometry').set_crs(crs).to_crs(epsg=3035)\n",
    "buildings.to_parquet(buildings_dir + f\"buildings_{region_id}.parquet\")"
   ]
  },
  {
   "cell_type": "code",
   "execution_count": 18,
   "id": "608a9f13-27b3-4e15-bc11-eae627433023",
   "metadata": {},
   "outputs": [],
   "source": [
    "tessellations = build_tess[['geometry_y', 'enclosure_index']]\n",
    "tessellations.columns = ['geometry', 'enclosure_index']\n",
    "tessellations = tessellations.set_geometry('geometry').set_crs(crs).to_crs(epsg=3035)\n",
    "tessellations.to_parquet(tessellations_dir + f\"tessellation_{region_id}.parquet\")"
   ]
  },
  {
   "cell_type": "code",
   "execution_count": 22,
   "id": "a0ec99b4-f6df-47e3-a8a3-e8edd870813d",
   "metadata": {},
   "outputs": [],
   "source": [
    "streets.to_crs(epsg=3035)[['geometry']].to_parquet(streets_dir + f\"streets_{region_id}.parquet\")"
   ]
  },
  {
   "cell_type": "code",
   "execution_count": 31,
   "id": "e5b6a5e6-534a-43bc-9c9a-fe496416cb8a",
   "metadata": {},
   "outputs": [],
   "source": [
    "enclosures.rename_geometry('geometry').to_crs(epsg=3035).to_parquet(enclosures_dir + f\"enclosure_{region_id}.parquet\")"
   ]
  },
  {
   "cell_type": "code",
   "execution_count": null,
   "id": "ea9777b9-6b7c-4bfd-90e2-8d94e983e2d2",
   "metadata": {},
   "outputs": [],
   "source": []
  },
  {
   "cell_type": "markdown",
   "id": "8db91d92-e2c8-4880-a15d-33e1e30b60ea",
   "metadata": {
    "jp-MarkdownHeadingCollapsed": true
   },
   "source": [
    "### Push data through pipeline\n"
   ]
  },
  {
   "cell_type": "code",
   "execution_count": null,
   "id": "06ccfc79-cce6-425e-a079-7e2551838b8e",
   "metadata": {},
   "outputs": [],
   "source": []
  },
  {
   "cell_type": "code",
   "execution_count": 32,
   "id": "320ede90-b990-4ece-a381-0916dc148710",
   "metadata": {},
   "outputs": [],
   "source": [
    "from core.generate_ngraphs import process_region_graphs"
   ]
  },
  {
   "cell_type": "code",
   "execution_count": 33,
   "id": "5db63e0e-3125-40f2-8bea-6075399376f1",
   "metadata": {},
   "outputs": [
    {
     "name": "stdout",
     "output_type": "stream",
     "text": [
      "Built tess graph knn=1\n",
      "Built buildings graph knn=1\n",
      "Built streets graph knn=1\n",
      "Built enclosure graph knn=1\n"
     ]
    },
    {
     "name": "stderr",
     "output_type": "stream",
     "text": [
      "/home/krasen/libpysal/libpysal/weights/weights.py:1685: UserWarning: The weights matrix is not fully connected: \n",
      " There are 20 disconnected components.\n",
      "  w = W(neighbors, weights, ids, silence_warnings=silence_warnings)\n"
     ]
    },
    {
     "name": "stdout",
     "output_type": "stream",
     "text": [
      "Built nodes graph knn=1\n",
      "CPU times: user 44.2 s, sys: 1.3 s, total: 45.5 s\n",
      "Wall time: 45.4 s\n"
     ]
    }
   ],
   "source": [
    "%%time\n",
    "process_region_graphs(\n",
    "    region_id,\n",
    "    graph_dir,\n",
    "    buildings_dir,\n",
    "    streets_dir,\n",
    "    enclosures_dir,\n",
    "    tessellations_dir,\n",
    ")"
   ]
  },
  {
   "cell_type": "code",
   "execution_count": null,
   "id": "2b536430-e25d-4415-a0b8-15a8b754c27e",
   "metadata": {},
   "outputs": [],
   "source": []
  },
  {
   "cell_type": "code",
   "execution_count": null,
   "id": "5229e4f0-7aa6-445b-8612-9a2f820db9e2",
   "metadata": {},
   "outputs": [],
   "source": []
  },
  {
   "cell_type": "markdown",
   "id": "b032a802-d742-4c39-8868-e0cb6b52680c",
   "metadata": {
    "jp-MarkdownHeadingCollapsed": true
   },
   "source": [
    "## Characters"
   ]
  },
  {
   "cell_type": "code",
   "execution_count": 4,
   "id": "e86715fb-aea2-4fd1-aa1c-c08c47efa704",
   "metadata": {},
   "outputs": [],
   "source": [
    "from core.generate_chars import process_single_region_chars"
   ]
  },
  {
   "cell_type": "code",
   "execution_count": 5,
   "id": "4796eb5f-9308-4f0c-93c6-7b83e1fcb68f",
   "metadata": {},
   "outputs": [
    {
     "name": "stdout",
     "output_type": "stream",
     "text": [
      "2024-08-05 13:55:13.466290 ----Processing ------ prague\n",
      "Processing streets\n",
      "Processing enclosures\n",
      "Processing buildings\n"
     ]
    },
    {
     "name": "stderr",
     "output_type": "stream",
     "text": [
      "/home/krasen/momepy/momepy/functional/_shape.py:890: RuntimeWarning: invalid value encountered in arccos\n",
      "  angles = np.arccos(cosine_angle)\n",
      "/home/krasen/momepy/momepy/functional/_shape.py:890: RuntimeWarning: invalid value encountered in arccos\n",
      "  angles = np.arccos(cosine_angle)\n",
      "/home/krasen/momepy/momepy/functional/_shape.py:576: RuntimeWarning: Mean of empty slice\n",
      "  return np.nanmean(np.abs(90 - degrees[true_angles]))\n",
      "/home/krasen/momepy/momepy/functional/_shape.py:890: RuntimeWarning: invalid value encountered in arccos\n",
      "  angles = np.arccos(cosine_angle)\n",
      "/home/krasen/momepy/momepy/functional/_shape.py:737: RuntimeWarning: Mean of empty slice\n",
      "  return Series({\"mean\": np.nanmean(dists), \"std\": np.nanstd(dists)})\n",
      "/home/krasen/miniconda3/envs/urban_taxonomy/lib/python3.12/site-packages/numpy/lib/_nanfunctions_impl.py:2035: RuntimeWarning: Degrees of freedom <= 0 for slice.\n",
      "  var = nanvar(a, axis=axis, dtype=dtype, out=out, ddof=ddof,\n"
     ]
    },
    {
     "name": "stdout",
     "output_type": "stream",
     "text": [
      "Processing tessellation\n",
      "CPU times: user 11min 19s, sys: 3.77 s, total: 11min 23s\n",
      "Wall time: 11min 22s\n"
     ]
    }
   ],
   "source": [
    "%%time\n",
    "process_single_region_chars(\n",
    "    region_id,\n",
    "    graph_dir,\n",
    "    buildings_dir,\n",
    "    streets_dir,\n",
    "    enclosures_dir,\n",
    "    tessellations_dir,\n",
    "    chars_dir\n",
    ")"
   ]
  },
  {
   "cell_type": "code",
   "execution_count": null,
   "id": "e4e920ea-d4ca-41dc-b6ac-536abacef508",
   "metadata": {},
   "outputs": [],
   "source": []
  },
  {
   "cell_type": "code",
   "execution_count": null,
   "id": "f37e8c06-cd71-4237-a518-1d4377230b78",
   "metadata": {},
   "outputs": [],
   "source": []
  },
  {
   "cell_type": "code",
   "execution_count": 6,
   "id": "0646f1ce-4d7d-40c8-a73f-898f6572f461",
   "metadata": {},
   "outputs": [],
   "source": [
    "tessellation = gpd.read_parquet(chars_dir + f\"tessellations_chars_{region_id}.parquet\")\n",
    "buildings = gpd.read_parquet(chars_dir + f\"buildings_chars_{region_id}.parquet\")\n",
    "enclosures = gpd.read_parquet(chars_dir + f\"enclosures_chars_{region_id}.parquet\")\n",
    "streets = gpd.read_parquet(chars_dir + f\"streets_chars_{region_id}.parquet\")\n",
    "nodes = gpd.read_parquet(chars_dir + f\"nodes_chars_{region_id}.parquet\")\n",
    "\n",
    "\n",
    "merged = pd.merge(\n",
    "    tessellation.drop(columns=[\"geometry\"]),\n",
    "    buildings.drop(columns=[\"nodeID\", \"geometry\", 'nID']),\n",
    "    right_index=True,\n",
    "    left_index=True,\n",
    "    how=\"left\",\n",
    ")\n",
    "\n",
    "merged = merged.merge(\n",
    "    enclosures.drop(columns=\"geometry\"),\n",
    "    right_index=True,\n",
    "    left_on=\"enclosure_index\",\n",
    "    how=\"left\",\n",
    ")\n",
    "\n",
    "merged = merged.merge(streets.drop(columns=\"geometry\"), on=\"nID\", how=\"left\")\n",
    "merged = merged.merge(nodes.drop(columns=\"geometry\"), on=\"nodeID\", how=\"left\")\n",
    "\n",
    "merged = merged.drop(\n",
    "    columns=[\n",
    "        \"nID\",\n",
    "        # \"eID\",\n",
    "        \"nodeID\",\n",
    "        \"mm_len\",\n",
    "        \"cdsbool\",\n",
    "        \"node_start\",\n",
    "        \"node_end\",\n",
    "        \"x\",\n",
    "        \"y\",\n",
    "        \"enclosure_index\",\n",
    "        # \"id\",\n",
    "        # \"osm_id\",\n",
    "        # \"index\",  ## maybe keep\n",
    "    ]\n",
    ")\n",
    "merged = merged.set_index(tessellation.index)"
   ]
  },
  {
   "cell_type": "code",
   "execution_count": 7,
   "id": "75d08539-3130-4d70-92b9-e5d240badecb",
   "metadata": {},
   "outputs": [],
   "source": [
    "from core.utils import used_keys"
   ]
  },
  {
   "cell_type": "code",
   "execution_count": 8,
   "id": "2ac7678e-1e76-4a02-9b66-f5474575588d",
   "metadata": {},
   "outputs": [
    {
     "data": {
      "text/plain": [
       "(140315, 62)"
      ]
     },
     "execution_count": 8,
     "metadata": {},
     "output_type": "execute_result"
    }
   ],
   "source": [
    "primary = merged[list(used_keys.keys())]\n",
    "primary.shape"
   ]
  },
  {
   "cell_type": "code",
   "execution_count": 9,
   "id": "aab21c5e-d2ac-4e75-8d60-4f45d982a3e6",
   "metadata": {},
   "outputs": [],
   "source": [
    "primary.to_parquet(chars_dir + f'primary_chars_{region_id}.parquet')"
   ]
  },
  {
   "cell_type": "code",
   "execution_count": null,
   "id": "b08bf671-47ea-480b-82e2-964ab3d79e2f",
   "metadata": {},
   "outputs": [],
   "source": []
  },
  {
   "cell_type": "markdown",
   "id": "249173b1-1d2b-49de-9b90-4f8faa2a7120",
   "metadata": {},
   "source": [
    "## Comparison"
   ]
  },
  {
   "cell_type": "code",
   "execution_count": 4,
   "id": "20bbfe8d-2a03-44ee-a5fd-03befa2f55bd",
   "metadata": {},
   "outputs": [],
   "source": [
    "import lonboard\n",
    "from core.utils import char_names\n",
    "from mapclassify import classify\n",
    "import matplotlib as mpl\n",
    "from lonboard.colormap import apply_continuous_cmap\n",
    "from sidecar import Sidecar\n",
    "import momepy as mm\n",
    "from core.utils import used_keys"
   ]
  },
  {
   "cell_type": "code",
   "execution_count": null,
   "id": "f79efd48-c92b-4f32-ae90-195d56fa78b8",
   "metadata": {},
   "outputs": [],
   "source": []
  },
  {
   "cell_type": "code",
   "execution_count": 6,
   "id": "bb5df80b-a5e7-44d6-b1f8-05d2d8232abd",
   "metadata": {},
   "outputs": [],
   "source": [
    "old_prague_data = pd.read_parquet('../data/old_prague_data/old_prague_data.parquet')"
   ]
  },
  {
   "cell_type": "code",
   "execution_count": 7,
   "id": "60ed4c92-c5d7-4526-83c9-06df158fe374",
   "metadata": {},
   "outputs": [],
   "source": [
    "new_prague_data = pd.read_parquet(chars_dir + f'primary_chars_{region_id}.parquet')"
   ]
  },
  {
   "cell_type": "code",
   "execution_count": 8,
   "id": "5363365d-fde6-4614-a803-656391ead788",
   "metadata": {},
   "outputs": [
    {
     "name": "stdout",
     "output_type": "stream",
     "text": [
      "ldsAre not in old data\n"
     ]
    }
   ],
   "source": [
    "vals = {}\n",
    "for c in new_prague_data.columns:\n",
    "    if c not in old_prague_data.columns:\n",
    "        print(c, 'not in old data')\n",
    "        continue\n",
    "        \n",
    "    new_values = new_prague_data[c].values\n",
    "    old_values = old_prague_data[c].values\n",
    "\n",
    "    # skip nas\n",
    "    nas = np.isnan(new_values) | np.isnan(old_values)\n",
    "    new_values = new_values[~nas]\n",
    "    old_values = old_values[~nas]\n",
    "\n",
    "    vals[c] = np.corrcoef(new_values, old_values)[0,1]"
   ]
  },
  {
   "cell_type": "code",
   "execution_count": 11,
   "id": "d6254ba6-3b25-4ccb-9e10-a77daec31397",
   "metadata": {},
   "outputs": [
    {
     "data": {
      "text/plain": [
       "ldsRea    0.432357\n",
       "lddNDe    0.448191\n",
       "likWBB    0.474663\n",
       "sisBpM    0.482521\n",
       "linWID    0.526898\n",
       "sdsSPW    0.542902\n",
       "stcSAl    0.563658\n",
       "ltkOri    0.623173\n",
       "stbSAl    0.678290\n",
       "stbOri    0.682444\n",
       "stcOri    0.692131\n",
       "stbCeA    0.693603\n",
       "sdsSWD    0.716397\n",
       "mtbAli    0.782767\n",
       "xcnSCl    0.788661\n",
       "ltcBuA    0.796996\n",
       "dtype: float64"
      ]
     },
     "execution_count": 11,
     "metadata": {},
     "output_type": "execute_result"
    }
   ],
   "source": [
    "vals = pd.Series(vals)\n",
    "non_correlated = vals[ vals < .80]\n",
    "non_correlated.sort_values()"
   ]
  },
  {
   "cell_type": "code",
   "execution_count": 13,
   "id": "dfedc84e-9c4a-440d-808b-55bf45392d56",
   "metadata": {},
   "outputs": [
    {
     "data": {
      "text/plain": [
       "['local node density of street network',\n",
       " 'total of building areas within the enclosure, normalised by enclosure area',\n",
       " 'buildings per meter of street segment',\n",
       " 'local degree weighted node density of street network',\n",
       " 'width of street profile',\n",
       " 'street alignment of ETC',\n",
       " 'orientation of enclosure',\n",
       " 'street alignment of building',\n",
       " 'orientation of building',\n",
       " 'orientation of ETC',\n",
       " 'cell alignment of building',\n",
       " 'width deviation of street profile',\n",
       " 'alignment of neighbouring buildings',\n",
       " 'square clustering of street network',\n",
       " 'level of building adjacency']"
      ]
     },
     "execution_count": 13,
     "metadata": {},
     "output_type": "execute_result"
    }
   ],
   "source": [
    "[used_keys[c] for c in non_correlated.sort_values()[1: ].index]"
   ]
  },
  {
   "cell_type": "code",
   "execution_count": 17,
   "id": "57670d47-f002-421b-a5d3-5833ffbb68e5",
   "metadata": {},
   "outputs": [],
   "source": [
    "tessellation = gpd.read_parquet(chars_dir + f\"tessellations_chars_{region_id}.parquet\")\n",
    "buildings = gpd.read_parquet(chars_dir + f\"buildings_chars_{region_id}.parquet\")\n",
    "enclosures = gpd.read_parquet(chars_dir + f\"enclosures_chars_{region_id}.parquet\")\n",
    "streets = gpd.read_parquet(chars_dir + f\"streets_chars_{region_id}.parquet\")"
   ]
  },
  {
   "cell_type": "code",
   "execution_count": 163,
   "id": "fdce4348-eb8d-4d65-bb0a-6b7d733ed5c2",
   "metadata": {},
   "outputs": [
    {
     "name": "stdout",
     "output_type": "stream",
     "text": [
      "0.47426017561413764 (140299,)\n"
     ]
    }
   ],
   "source": [
    "c = 'sisBpM' # this is due to street atachment and outliers\n",
    "new_values = new_prague_data[c].values\n",
    "old_values = old_prague_data[c].values\n",
    "\n",
    "# skip nas\n",
    "nas = np.isnan(new_values) | np.isnan(old_values) | (new_values > 1)\n",
    "new_values = new_values[~nas]\n",
    "old_values = old_values[~nas]\n",
    "print(np.corrcoef(new_values, old_values)[0,1], new_values.shape)"
   ]
  },
  {
   "cell_type": "code",
   "execution_count": null,
   "id": "ee943390-4bbf-4544-9cde-f276e9e76eed",
   "metadata": {},
   "outputs": [],
   "source": []
  },
  {
   "cell_type": "code",
   "execution_count": 39,
   "id": "a90669eb-ad31-42b3-85d3-088deaed4c8d",
   "metadata": {},
   "outputs": [
    {
     "data": {
      "text/plain": [
       "(array([0.02647987, 0.0759601 , 0.06455886, ..., 0.12482955, 0.09237362,\n",
       "        0.0490265 ]),\n",
       " array([0.02647958, 0.08507903, 0.07319508, ..., 0.11549315, 0.11549315,\n",
       "        0.0776904 ]))"
      ]
     },
     "execution_count": 39,
     "metadata": {},
     "output_type": "execute_result"
    }
   ],
   "source": [
    "new_values, old_values"
   ]
  },
  {
   "cell_type": "code",
   "execution_count": null,
   "id": "33bd3237-9753-4c37-9929-8015f109e33d",
   "metadata": {},
   "outputs": [],
   "source": []
  },
  {
   "cell_type": "code",
   "execution_count": 131,
   "id": "5c87c184-0e03-46bf-bb65-03bd5f30f7af",
   "metadata": {},
   "outputs": [],
   "source": [
    "blg_nid = mm.get_nearest_street(buildings, streets)"
   ]
  },
  {
   "cell_type": "code",
   "execution_count": 132,
   "id": "efb633d2-31b6-4700-ab17-53437acf228b",
   "metadata": {},
   "outputs": [],
   "source": [
    "norm_values = (blg_nid.value_counts() / streets.length).fillna(0)"
   ]
  },
  {
   "cell_type": "code",
   "execution_count": 133,
   "id": "7faffe06-a104-47b1-838b-dad4796a9520",
   "metadata": {},
   "outputs": [],
   "source": [
    "new_values = pd.Series(0.0, index=blg_nid.index)\n",
    "new_values.loc[blg_nid[~blg_nid.isna()].index] = norm_values.loc[blg_nid[~blg_nid.isna()].values].values"
   ]
  },
  {
   "cell_type": "code",
   "execution_count": 134,
   "id": "32476fd4-4cfb-4302-b4b4-270fef6fef58",
   "metadata": {},
   "outputs": [
    {
     "data": {
      "text/plain": [
       "115873    13525.0\n",
       "dtype: float64"
      ]
     },
     "execution_count": 134,
     "metadata": {},
     "output_type": "execute_result"
    }
   ],
   "source": [
    "blg_nid.loc[new_values[new_values > 100].index]"
   ]
  },
  {
   "cell_type": "code",
   "execution_count": 135,
   "id": "ce1d5baa-4839-4d82-b2b2-3e48ed9fccc1",
   "metadata": {},
   "outputs": [
    {
     "data": {
      "text/plain": [
       "115873    13525.0\n",
       "dtype: float64"
      ]
     },
     "execution_count": 135,
     "metadata": {},
     "output_type": "execute_result"
    }
   ],
   "source": [
    "blg_nid[blg_nid == 13525]"
   ]
  },
  {
   "cell_type": "code",
   "execution_count": 136,
   "id": "947e26f4-5425-4ad4-a959-25630d38bc74",
   "metadata": {},
   "outputs": [
    {
     "name": "stdout",
     "output_type": "stream",
     "text": [
      "0.566507730319834 (140289,)\n"
     ]
    }
   ],
   "source": [
    "c = 'sisBpM' # this is not street profile\n",
    "# skip nas\n",
    "\n",
    "old_values = old_prague_data[c].values\n",
    "\n",
    "nas = np.isnan(new_values) | np.isnan(old_values) | (new_values > 1)\n",
    "new_values = new_values[~nas]\n",
    "old_values = old_values[~nas]\n",
    "\n",
    "print(np.corrcoef(new_values.values, old_values)[0,1], new_values.shape)"
   ]
  },
  {
   "cell_type": "code",
   "execution_count": null,
   "id": "f43c40fc-8a54-4877-b59b-2543488a959c",
   "metadata": {},
   "outputs": [],
   "source": []
  },
  {
   "cell_type": "code",
   "execution_count": null,
   "id": "5011249b-effb-4ace-876f-fda33d2bfa7b",
   "metadata": {},
   "outputs": [],
   "source": []
  },
  {
   "cell_type": "code",
   "execution_count": 142,
   "id": "1b728dfd-11b1-437b-9b38-5f17933c6494",
   "metadata": {},
   "outputs": [
    {
     "name": "stdout",
     "output_type": "stream",
     "text": [
      "0.0003960158131754729\n"
     ]
    }
   ],
   "source": [
    "c = 'sdsAre' ## wrong function call\n",
    "new_values = new_prague_data[c].values\n",
    "old_values = old_prague_data[c].values\n",
    "\n",
    "# skip nas\n",
    "nas = np.isnan(new_values) | np.isnan(old_values) | (new_values > 1000)\n",
    "new_values = new_values[~nas]\n",
    "old_values = old_values[~nas]\n",
    "print(np.corrcoef(new_values, old_values)[0,1])"
   ]
  },
  {
   "cell_type": "code",
   "execution_count": 144,
   "id": "16142d5f-5fe0-4fd5-be9b-13c706b21eb5",
   "metadata": {},
   "outputs": [
    {
     "data": {
      "text/plain": [
       "(array([ 69.52126932, 140.07100718, 433.31757827, ..., 105.42647526,\n",
       "        193.53507041, 610.28173117]),\n",
       " array([140512.90018443,   2149.02240926,  23804.69458061, ...,\n",
       "          4768.48813425,   4768.48813425, 165178.71929707]))"
      ]
     },
     "execution_count": 144,
     "metadata": {},
     "output_type": "execute_result"
    }
   ],
   "source": [
    "new_values, old_values"
   ]
  },
  {
   "cell_type": "code",
   "execution_count": 156,
   "id": "9101151d-96e3-40e8-a284-1671a1c75955",
   "metadata": {},
   "outputs": [],
   "source": [
    "tess_nid = mm.get_nearest_street(\n",
    "    tessellation, streets\n",
    ")\n",
    "\n",
    "\n",
    "r = mm.describe_agg(\n",
    "    tessellation.geometry.area, tess_nid, statistics=[\"count\", \"sum\"]\n",
    ")[\"sum\"]"
   ]
  },
  {
   "cell_type": "code",
   "execution_count": 157,
   "id": "2899d133-8237-47fb-bef9-77a7a9fb40f4",
   "metadata": {},
   "outputs": [],
   "source": [
    "new_values = pd.Series(0.0, index=tess_nid.index)\n",
    "new_values.loc[tess_nid[~tess_nid.isna()].index] = r.loc[tess_nid[~tess_nid.isna()].values].values"
   ]
  },
  {
   "cell_type": "code",
   "execution_count": 161,
   "id": "b021f7fb-ff42-42c3-b388-ca954a105c98",
   "metadata": {},
   "outputs": [
    {
     "name": "stdout",
     "output_type": "stream",
     "text": [
      "0.9325711978637471\n"
     ]
    }
   ],
   "source": [
    "old_values = old_prague_data[c].values\n",
    "print(np.corrcoef(new_values.values, old_values)[0,1])"
   ]
  },
  {
   "cell_type": "code",
   "execution_count": null,
   "id": "ea0f7035-8920-40fb-bbbe-f4331cffe225",
   "metadata": {},
   "outputs": [],
   "source": []
  },
  {
   "cell_type": "code",
   "execution_count": 168,
   "id": "ee3b01ee-26b5-4d53-aa18-007f0a63fb10",
   "metadata": {},
   "outputs": [
    {
     "name": "stdout",
     "output_type": "stream",
     "text": [
      "0.3709241389248268 (140315,)\n"
     ]
    }
   ],
   "source": [
    "c = 'ltcWRB' # missing weighting\n",
    "new_values = new_prague_data[c].values\n",
    "old_values = old_prague_data[c].values\n",
    "\n",
    "nas = np.isnan(new_values) | np.isnan(old_values)\n",
    "new_values = new_values[~nas]\n",
    "old_values = old_values[~nas]\n",
    "\n",
    "print(np.corrcoef(new_values, old_values)[0,1], new_values.shape)"
   ]
  },
  {
   "cell_type": "code",
   "execution_count": 170,
   "id": "bb67f955-228d-41b0-8c2d-0d4f37d513a8",
   "metadata": {},
   "outputs": [
    {
     "data": {
      "text/plain": [
       "(array([1., 7., 4., ..., 4., 5., 8.]),\n",
       " array([4.66207372e-06, 4.98967630e-05, 7.90916122e-05, ...,\n",
       "        2.14705039e-04, 2.53273374e-04, 1.07831087e-05]))"
      ]
     },
     "execution_count": 170,
     "metadata": {},
     "output_type": "execute_result"
    }
   ],
   "source": [
    "new_values, old_values"
   ]
  },
  {
   "cell_type": "code",
   "execution_count": 172,
   "id": "43c327b2-ed58-4268-a0d6-12ff4800f33f",
   "metadata": {},
   "outputs": [],
   "source": [
    "q1 = read_parquet(graph_dir + f'tessellation_graph_{region_id}_knn1.parquet')"
   ]
  },
  {
   "cell_type": "code",
   "execution_count": 180,
   "id": "80699aa8-a7af-4150-8a88-e439ac1e4e80",
   "metadata": {},
   "outputs": [],
   "source": [
    "from core.utils import partial_apply\n",
    "def partial_block_count(partial_focal, partial_higher, y):\n",
    "    return partial_higher.describe(\n",
    "        y.loc[partial_higher.unique_ids], statistics=[\"nunique\"]\n",
    "    )[\"nunique\"]\n",
    "\n",
    "block_counts = partial_apply(\n",
    "    q1,\n",
    "    higher_order_k=3,\n",
    "    n_splits=30,\n",
    "    func=partial_block_count,\n",
    "    y=tessellation.geometry.area,\n",
    ")"
   ]
  },
  {
   "cell_type": "code",
   "execution_count": 181,
   "id": "849e91ad-f956-4668-9c92-4d399abf6aac",
   "metadata": {},
   "outputs": [],
   "source": [
    "def partial_tess_area(partial_focal, partial_higher, y):\n",
    "    return partial_higher.describe(\n",
    "        y.loc[partial_higher.unique_ids], statistics=[\"sum\"]\n",
    "    )[\"sum\"]\n",
    "\n",
    "block_sums = partial_apply(\n",
    "    q1,\n",
    "    higher_order_k=3,\n",
    "    n_splits=30,\n",
    "    func=partial_tess_area,\n",
    "    y=tessellation.geometry.area,\n",
    ")"
   ]
  },
  {
   "cell_type": "code",
   "execution_count": 183,
   "id": "69980330-8814-407e-89d8-526582ccd125",
   "metadata": {},
   "outputs": [
    {
     "name": "stdout",
     "output_type": "stream",
     "text": [
      "0.993995413058081 (140315,)\n"
     ]
    }
   ],
   "source": [
    "c = 'ltcWRB'\n",
    "\n",
    "new_values = (block_counts / block_sums).values\n",
    "\n",
    "old_values = old_prague_data[c].values\n",
    "\n",
    "nas = np.isnan(new_values) | np.isnan(old_values)\n",
    "new_values = new_values[~nas]\n",
    "old_values = old_values[~nas]\n",
    "\n",
    "print(np.corrcoef(new_values, old_values)[0,1], new_values.shape)"
   ]
  },
  {
   "cell_type": "code",
   "execution_count": 184,
   "id": "b1127f73-15e1-4cb3-94fe-ce6c967733fc",
   "metadata": {},
   "outputs": [
    {
     "name": "stdout",
     "output_type": "stream",
     "text": [
      "0.43235673978534844 (140315,)\n"
     ]
    }
   ],
   "source": [
    "c = 'ldsRea' # this is a mistake in the original code ldsRea, overwrites ldsAre\n",
    "new_values = new_prague_data[c].values\n",
    "old_values = old_prague_data[c].values\n",
    "\n",
    "nas = np.isnan(new_values) | np.isnan(old_values)\n",
    "new_values = new_values[~nas]\n",
    "old_values = old_values[~nas]\n",
    "\n",
    "print(np.corrcoef(new_values, old_values)[0,1], new_values.shape)"
   ]
  },
  {
   "cell_type": "code",
   "execution_count": 186,
   "id": "b9ff1632-b6bf-490f-92d5-28850faaeb87",
   "metadata": {},
   "outputs": [
    {
     "name": "stdout",
     "output_type": "stream",
     "text": [
      "0.9488393632590233 (140315,)\n"
     ]
    }
   ],
   "source": [
    "new_values = new_prague_data['ldsAre'].values\n",
    "old_values = old_prague_data['ldsRea'].values\n",
    "\n",
    "nas = np.isnan(new_values) | np.isnan(old_values)\n",
    "new_values = new_values[~nas]\n",
    "old_values = old_values[~nas]\n",
    "\n",
    "print(np.corrcoef(new_values, old_values)[0,1], new_values.shape)"
   ]
  },
  {
   "cell_type": "code",
   "execution_count": 187,
   "id": "664e7cf6-17e8-4858-a995-8e84cee66e7a",
   "metadata": {},
   "outputs": [
    {
     "data": {
      "text/plain": [
       "(array([1016050.21608919,  325556.13043329,  450921.84507893, ...,\n",
       "         145407.71169884,  147016.42751407,  850895.6161568 ]),\n",
       " array([1006508.27732186,  350439.6350221 ,  415939.44711489, ...,\n",
       "         141141.46195491,  141141.46195491,  454043.49986155]))"
      ]
     },
     "execution_count": 187,
     "metadata": {},
     "output_type": "execute_result"
    }
   ],
   "source": [
    "new_values, old_values"
   ]
  },
  {
   "cell_type": "code",
   "execution_count": null,
   "id": "fa9466e5-f2d8-4345-8f58-b73234cfdade",
   "metadata": {},
   "outputs": [],
   "source": []
  },
  {
   "cell_type": "code",
   "execution_count": 36,
   "id": "ec504227-bc52-4191-9b58-8ceb258ca28c",
   "metadata": {},
   "outputs": [
    {
     "name": "stdout",
     "output_type": "stream",
     "text": [
      "0.49498992446907103 (140315,)\n"
     ]
    }
   ],
   "source": [
    "# c = 'lddNDe' ## lddWNI should have the same issue, probably due to attaching nodes to buildings, streets and cells...\n",
    "\n",
    "\n",
    "new_values = new_prague_data['lddNDe'].values\n",
    "old_values = old_prague_data['linWID'] .values\n",
    "\n",
    "nas = np.isnan(new_values) | np.isnan(old_values)\n",
    "new_values = new_values[~nas]\n",
    "old_values = old_values[~nas]\n",
    "\n",
    "print(np.corrcoef(new_values, old_values)[0,1], new_values.shape)"
   ]
  },
  {
   "cell_type": "code",
   "execution_count": 19,
   "id": "cac09610-980e-4edf-8ffa-6832d35041ae",
   "metadata": {},
   "outputs": [
    {
     "data": {
      "text/plain": [
       "(array([0.00202637, 0.00691966, 0.00377668, ..., 0.00753816, 0.00753816,\n",
       "        0.00300644]),\n",
       " array([0.00332259, 0.01247859, 0.01512655, ..., 0.02363852, 0.02363852,\n",
       "        0.00939324]))"
      ]
     },
     "execution_count": 19,
     "metadata": {},
     "output_type": "execute_result"
    }
   ],
   "source": [
    "new_values, old_values"
   ]
  },
  {
   "cell_type": "code",
   "execution_count": 20,
   "id": "a2b29b05-009f-4f48-9447-58337d808713",
   "metadata": {},
   "outputs": [],
   "source": [
    "graph = mm.gdf_to_nx(streets, preserve_index=True)\n",
    "graph = mm.node_degree(graph)"
   ]
  },
  {
   "cell_type": "code",
   "execution_count": 21,
   "id": "6f2c8b50-dafb-4835-9313-3b6ce9b22cfc",
   "metadata": {},
   "outputs": [],
   "source": [
    "res = mm.node_density(graph, radius=5, verbose=False)"
   ]
  },
  {
   "cell_type": "code",
   "execution_count": null,
   "id": "76dc09e2-027e-4124-b91d-45ea2abed46f",
   "metadata": {},
   "outputs": [],
   "source": []
  },
  {
   "cell_type": "code",
   "execution_count": 22,
   "id": "989a7e38-06e1-4c92-90ba-cf05fc99b5f0",
   "metadata": {},
   "outputs": [],
   "source": [
    "import networkx as nx"
   ]
  },
  {
   "cell_type": "code",
   "execution_count": 23,
   "id": "f1ec182e-eb0a-43ec-949b-d4f453a2e334",
   "metadata": {},
   "outputs": [
    {
     "name": "stderr",
     "output_type": "stream",
     "text": [
      "/home/krasen/libpysal/libpysal/weights/weights.py:1685: UserWarning: The weights matrix is not fully connected: \n",
      " There are 20 disconnected components.\n",
      "  w = W(neighbors, weights, ids, silence_warnings=silence_warnings)\n"
     ]
    }
   ],
   "source": [
    "nodes, edges, sw = mm.nx_to_gdf(res, spatial_weights=True)"
   ]
  },
  {
   "cell_type": "code",
   "execution_count": 24,
   "id": "219e8564-0e33-433a-af8d-84e6cd9ea899",
   "metadata": {},
   "outputs": [
    {
     "data": {
      "text/plain": [
       "9310    0.002026\n",
       "Name: node_density, dtype: float64"
      ]
     },
     "execution_count": 24,
     "metadata": {},
     "output_type": "execute_result"
    }
   ],
   "source": [
    "nodes.loc[nodes.nodeID == 9310, 'node_density']"
   ]
  },
  {
   "cell_type": "code",
   "execution_count": 25,
   "id": "0ba8fa2b-232f-4d6e-bc09-33d1dec43780",
   "metadata": {},
   "outputs": [
    {
     "name": "stderr",
     "output_type": "stream",
     "text": [
      "/tmp/ipykernel_465646/422387120.py:1: FutureWarning: `momepy.sw_high` is deprecated. Replace it with .higher_order() method of libpysal.graph.Graph or pin momepy version <1.0. This class will be removed in 1.0. \n",
      "  nodes_w5 = mm.sw_high(k=5, weights=sw)\n"
     ]
    }
   ],
   "source": [
    "nodes_w5 = mm.sw_high(k=5, weights=sw)"
   ]
  },
  {
   "cell_type": "code",
   "execution_count": 26,
   "id": "e6572528-3102-4e8e-a8a8-6022ec586a54",
   "metadata": {},
   "outputs": [
    {
     "name": "stderr",
     "output_type": "stream",
     "text": [
      "/tmp/ipykernel_465646/2675837585.py:1: FutureWarning: Class based API like `momepy.NodeDensity` is deprecated. Replace it with `momepy.node_density` to use functional API instead or pin momepy version <1.0. Class-based API will be removed in 1.0. \n",
      "  old_calc = mm.NodeDensity(nodes, edges, nodes_w5, verbose=False).series\n"
     ]
    }
   ],
   "source": [
    "old_calc = mm.NodeDensity(nodes, edges, nodes_w5, verbose=False).series"
   ]
  },
  {
   "cell_type": "code",
   "execution_count": 27,
   "id": "1ee37daa-ba8b-47a5-96d1-a609b2bc517e",
   "metadata": {},
   "outputs": [],
   "source": [
    "assert np.allclose(old_calc, nodes['node_density'])"
   ]
  },
  {
   "cell_type": "code",
   "execution_count": null,
   "id": "09c87809-a1ea-489f-9119-92da198a9278",
   "metadata": {},
   "outputs": [],
   "source": []
  },
  {
   "cell_type": "code",
   "execution_count": 28,
   "id": "be73b87c-8456-44fa-a939-e90cbd284b46",
   "metadata": {},
   "outputs": [],
   "source": [
    "nvs = np.sort(np.unique(new_values))\n",
    "ovs = np.sort(np.unique(old_values))"
   ]
  },
  {
   "cell_type": "code",
   "execution_count": 29,
   "id": "02043931-df5e-48b7-a25b-346e60f70ea0",
   "metadata": {},
   "outputs": [
    {
     "name": "stderr",
     "output_type": "stream",
     "text": [
      "/tmp/ipykernel_465646/1141954660.py:1: FutureWarning: Class based API like `momepy.get_node_id` is deprecated. Replace it with `momepy.get_nearest_node` to use functional API instead or pin momepy version <1.0. Class-based API will be removed in 1.0. \n",
      "  old_nodeid = mm.get_node_id(tessellation, nodes, edges, \"nodeID\", \"nID\", verbose=False)\n"
     ]
    }
   ],
   "source": [
    "old_nodeid = mm.get_node_id(tessellation, nodes, edges, \"nodeID\", \"nID\", verbose=False)"
   ]
  },
  {
   "cell_type": "code",
   "execution_count": 30,
   "id": "956309ff-da63-41c0-8350-36dd30157b25",
   "metadata": {},
   "outputs": [
    {
     "name": "stdout",
     "output_type": "stream",
     "text": [
      "CPU times: user 14.6 s, sys: 0 ns, total: 14.6 s\n",
      "Wall time: 14.6 s\n"
     ]
    }
   ],
   "source": [
    "%%time\n",
    "tess_nid = mm.get_nearest_street(\n",
    "    tessellation, streets\n",
    ")\n",
    "new_node_id = mm.get_nearest_node(\n",
    "        tessellation, nodes, edges,  tess_nid\n",
    "    )"
   ]
  },
  {
   "cell_type": "code",
   "execution_count": 31,
   "id": "55536d3e-49c9-49d7-a419-d66db23337ed",
   "metadata": {},
   "outputs": [
    {
     "data": {
      "text/plain": [
       "np.float64(0.9787406905890318)"
      ]
     },
     "execution_count": 31,
     "metadata": {},
     "output_type": "execute_result"
    }
   ],
   "source": [
    "(new_node_id == old_nodeid).sum() / new_node_id.shape[0]"
   ]
  },
  {
   "cell_type": "code",
   "execution_count": null,
   "id": "527f8318-845d-4de2-84bf-703ea62e8faa",
   "metadata": {},
   "outputs": [],
   "source": []
  },
  {
   "cell_type": "code",
   "execution_count": null,
   "id": "67effc28-1fd4-45d4-b449-0459b15f8876",
   "metadata": {},
   "outputs": [],
   "source": [
    "old_calc = mm.NodeDensity(nodes, edges, nodes_w5, verbose=False).series"
   ]
  },
  {
   "cell_type": "code",
   "execution_count": null,
   "id": "7f060fdd-504f-4643-816b-e323229a48dd",
   "metadata": {},
   "outputs": [],
   "source": []
  },
  {
   "cell_type": "code",
   "execution_count": null,
   "id": "6629a48c-9dd2-418b-9d3c-87d689c0e1d0",
   "metadata": {},
   "outputs": [],
   "source": []
  },
  {
   "cell_type": "code",
   "execution_count": null,
   "id": "8ec7138b-f31f-4db0-aa18-2f7918a92f0a",
   "metadata": {},
   "outputs": [],
   "source": [
    "# difference between buildings and tessellation attachment below"
   ]
  },
  {
   "cell_type": "code",
   "execution_count": 45,
   "id": "e5440048-a54a-483f-b446-d879f645eecc",
   "metadata": {},
   "outputs": [],
   "source": [
    "### the rest is building alignment stuff\n"
   ]
  },
  {
   "cell_type": "code",
   "execution_count": 46,
   "id": "9b5c5201-a4b6-46e2-a315-b30f6dc614df",
   "metadata": {},
   "outputs": [
    {
     "data": {
      "text/plain": [
       "['stcSAl',\n",
       " 'stbSAl',\n",
       " 'ltkOri',\n",
       " 'stbOri',\n",
       " 'stcOri',\n",
       " 'stbCeA',\n",
       " 'sdsSWD',\n",
       " 'mtbAli']"
      ]
     },
     "execution_count": 46,
     "metadata": {},
     "output_type": "execute_result"
    }
   ],
   "source": [
    "'''stcSAl\n",
    "stbSAl\n",
    "ltkOri\n",
    "stbOri\n",
    "stcOri\n",
    "stbCeA\n",
    "sdsSWD\n",
    "mtbAli'''.split('\\n')"
   ]
  },
  {
   "cell_type": "code",
   "execution_count": null,
   "id": "d39bd3eb-fd27-4987-bddf-eab29b4890de",
   "metadata": {},
   "outputs": [],
   "source": []
  },
  {
   "cell_type": "code",
   "execution_count": null,
   "id": "9b45c42a-6292-40a1-9d0f-d19a4f7fbef1",
   "metadata": {},
   "outputs": [],
   "source": []
  },
  {
   "cell_type": "code",
   "execution_count": null,
   "id": "1657eb9d-5c70-479e-a7f3-017ed63f5782",
   "metadata": {},
   "outputs": [],
   "source": [
    "## street profile stuff might be to do with different segment length\n",
    "## why is orientation so different ?\n",
    "## ltcWRB - ? I got different enclosures\n",
    "## other street and node stuff ?\n",
    "\n",
    "## maybe some indexing thing again ?\n",
    "\n",
    "## have to check also the merging of the data is correct - the final merged data to the ETC should make sense"
   ]
  },
  {
   "cell_type": "code",
   "execution_count": 51,
   "id": "01f0099f-89fd-4204-a192-b2e33ddd3580",
   "metadata": {},
   "outputs": [
    {
     "data": {
      "text/plain": [
       "'area covered by edge-attached ETCs'"
      ]
     },
     "execution_count": 51,
     "metadata": {},
     "output_type": "execute_result"
    }
   ],
   "source": [
    "from core.utils import used_keys\n",
    "column = 'sdsAre'\n",
    "used_keys[column]"
   ]
  },
  {
   "cell_type": "code",
   "execution_count": 10,
   "id": "32fa83c3-6850-49e2-aa38-74111361e062",
   "metadata": {},
   "outputs": [],
   "source": [
    "tessellation = gpd.read_parquet(chars_dir + f\"tessellations_chars_{region_id}.parquet\")\n",
    "buildings = gpd.read_parquet(chars_dir + f\"buildings_chars_{region_id}.parquet\")\n",
    "enclosures = gpd.read_parquet(chars_dir + f\"enclosures_chars_{region_id}.parquet\")\n",
    "streets = gpd.read_parquet(chars_dir + f\"streets_chars_{region_id}.parquet\")\n",
    "nodes = gpd.read_parquet(chars_dir + f\"nodes_chars_{region_id}.parquet\")"
   ]
  },
  {
   "cell_type": "code",
   "execution_count": 11,
   "id": "64829a72-3264-4955-86f7-7b7327206eef",
   "metadata": {},
   "outputs": [
    {
     "name": "stdout",
     "output_type": "stream",
     "text": [
      "CPU times: user 15.6 s, sys: 13.8 ms, total: 15.7 s\n",
      "Wall time: 15.7 s\n"
     ]
    }
   ],
   "source": [
    "%%time\n",
    "tessellation['geometry'] = tessellation.simplify(1)"
   ]
  },
  {
   "cell_type": "code",
   "execution_count": 42,
   "id": "b650220f-7407-4dec-931f-2434ccbf3b91",
   "metadata": {},
   "outputs": [],
   "source": [
    "plotting = pd.merge(tessellation[['geometry']], \n",
    "                    new_prague_data[non_correlated.index],\n",
    "                    right_index=True, left_index=True)"
   ]
  },
  {
   "cell_type": "code",
   "execution_count": 43,
   "id": "f9a29796-6e30-409f-98f7-2947b01ee67e",
   "metadata": {},
   "outputs": [
    {
     "name": "stderr",
     "output_type": "stream",
     "text": [
      "/home/krasen/miniconda3/envs/urban_taxonomy/lib/python3.12/site-packages/lonboard/_geoarrow/ops/reproject.py:97: UserWarning: Input being reprojected to EPSG:4326 CRS\n",
      "  warnings.warn(\"Input being reprojected to EPSG:4326 CRS\")\n"
     ]
    },
    {
     "name": "stdout",
     "output_type": "stream",
     "text": [
      "CPU times: user 675 ms, sys: 51.8 ms, total: 727 ms\n",
      "Wall time: 725 ms\n"
     ]
    }
   ],
   "source": [
    "%%time\n",
    "layer = lonboard.PolygonLayer.from_geopandas(plotting, opacity=.1)"
   ]
  },
  {
   "cell_type": "code",
   "execution_count": 44,
   "id": "d59a8cfe-ce7b-48c1-93e6-05f9aa99d0b3",
   "metadata": {},
   "outputs": [],
   "source": [
    "sc = Sidecar(title='Clusters')\n",
    "m = lonboard.Map(layer, basemap_style=lonboard.basemap.CartoBasemap.Positron)\n",
    "with sc:\n",
    "    display(m)"
   ]
  },
  {
   "cell_type": "code",
   "execution_count": 52,
   "id": "b79d8149-0d20-4652-81ad-4632647391bf",
   "metadata": {},
   "outputs": [],
   "source": [
    "classifier = classify(plotting[column], 'equalinterval', k=20)\n",
    "normalizer = mpl.colors.Normalize(0, classifier.bins.shape[0])\n",
    "vals = normalizer(classifier.yb)\n",
    "layer.get_fill_color = apply_continuous_cmap(vals, mpl.colormaps['viridis'])"
   ]
  },
  {
   "cell_type": "code",
   "execution_count": null,
   "id": "6cffc727-a98b-4883-bce9-75a49d945d7a",
   "metadata": {},
   "outputs": [],
   "source": []
  },
  {
   "cell_type": "code",
   "execution_count": 53,
   "id": "47423718-100d-44d9-9dd1-e378bd253278",
   "metadata": {},
   "outputs": [
    {
     "data": {
      "text/plain": [
       "'sdsAre'"
      ]
     },
     "execution_count": 53,
     "metadata": {},
     "output_type": "execute_result"
    }
   ],
   "source": [
    "column\n"
   ]
  },
  {
   "cell_type": "code",
   "execution_count": null,
   "id": "05c793fd-ce2c-4ee0-9383-ab43a1b0da31",
   "metadata": {},
   "outputs": [],
   "source": []
  },
  {
   "cell_type": "code",
   "execution_count": null,
   "id": "6effb66a-a055-4203-af72-9738451921be",
   "metadata": {},
   "outputs": [],
   "source": []
  },
  {
   "cell_type": "code",
   "execution_count": null,
   "id": "e83dced0-98f2-4bb4-bcbd-f0c689fe3891",
   "metadata": {},
   "outputs": [],
   "source": []
  },
  {
   "cell_type": "code",
   "execution_count": 74,
   "id": "da53e95c-b02d-4687-ad4f-a21a06a8d707",
   "metadata": {},
   "outputs": [
    {
     "data": {
      "text/plain": [
       "(136528,)"
      ]
     },
     "execution_count": 74,
     "metadata": {},
     "output_type": "execute_result"
    }
   ],
   "source": [
    "percentage_diffs = pd.Series((old_prague_data[column] - new_prague_data[column]).abs() / old_prague_data[column])\n",
    "percentage_diffs[percentage_diffs > .5].index.values.shape"
   ]
  },
  {
   "cell_type": "code",
   "execution_count": 75,
   "id": "edc11b45-435c-4cfa-9b80-63c77441611e",
   "metadata": {},
   "outputs": [
    {
     "data": {
      "text/plain": [
       "0         140443.378915\n",
       "1           2008.951402\n",
       "2          23371.377002\n",
       "3          25973.586637\n",
       "4          39397.415858\n",
       "              ...      \n",
       "140310     21927.197728\n",
       "140311     88212.780343\n",
       "140312      4663.061659\n",
       "140313      4574.953064\n",
       "140314    164568.437566\n",
       "Name: sdsAre, Length: 140315, dtype: float64"
      ]
     },
     "execution_count": 75,
     "metadata": {},
     "output_type": "execute_result"
    }
   ],
   "source": [
    "old_prague_data[column] - new_prague_data[column]"
   ]
  },
  {
   "cell_type": "code",
   "execution_count": null,
   "id": "611ebc93-ddbe-46e3-b3f7-f1ab98d175f9",
   "metadata": {},
   "outputs": [],
   "source": []
  },
  {
   "cell_type": "code",
   "execution_count": null,
   "id": "947b7361-2dab-463d-971b-fd21bc31b3d5",
   "metadata": {},
   "outputs": [],
   "source": []
  },
  {
   "cell_type": "code",
   "execution_count": null,
   "id": "b83658a7-180c-4143-bd7a-584a521e1b9e",
   "metadata": {},
   "outputs": [],
   "source": []
  },
  {
   "cell_type": "code",
   "execution_count": null,
   "id": "dd855a05-1ec9-473a-bfc4-cb1550c3141e",
   "metadata": {},
   "outputs": [],
   "source": []
  },
  {
   "cell_type": "code",
   "execution_count": 38,
   "id": "de04d5bd-bad4-4f90-9c48-75292b31d825",
   "metadata": {},
   "outputs": [
    {
     "data": {
      "text/plain": [
       "43649     9.256229e+04\n",
       "93420     5.782298e+01\n",
       "97915     5.069084e+00\n",
       "106396    5.649317e+07\n",
       "118841    3.820619e-01\n",
       "123672    6.079401e+00\n",
       "Name: sisBpM, dtype: float64"
      ]
     },
     "execution_count": 38,
     "metadata": {},
     "output_type": "execute_result"
    }
   ],
   "source": [
    "new_prague_data.loc[[43649,  93420,  97915, 106396, 118841, 123672], column]"
   ]
  },
  {
   "cell_type": "code",
   "execution_count": 66,
   "id": "f9103e13-42eb-4746-bfe2-48d0064acbf0",
   "metadata": {},
   "outputs": [],
   "source": [
    "# tessellation.loc[[43649,  93420,  97915, 106396, 118841, 123672]].explore()"
   ]
  },
  {
   "cell_type": "code",
   "execution_count": null,
   "id": "8c18fcc4-3ee6-4ac7-b8a0-6dbaa65f3da6",
   "metadata": {},
   "outputs": [],
   "source": []
  },
  {
   "cell_type": "code",
   "execution_count": null,
   "id": "efb13a2b-55bb-4c40-82e8-ad8258cef7c0",
   "metadata": {},
   "outputs": [],
   "source": []
  },
  {
   "cell_type": "code",
   "execution_count": 3,
   "id": "3c816a9f-8ad1-48da-81ef-e12ba165f622",
   "metadata": {},
   "outputs": [],
   "source": [
    "X_train = pd.read_parquet('../data/old_prague_data/old_prague_data.parquet')\n",
    "X_train = X_train.set_index('uID').sort_index()"
   ]
  },
  {
   "cell_type": "code",
   "execution_count": 12,
   "id": "c27c1273-95b2-4a53-ba1b-a76778ab56c9",
   "metadata": {},
   "outputs": [],
   "source": [
    "tessellation = gpd.read_file('../data/old_prague_data/prg_geometry.gpkg', \n",
    "                             layer='buildings').set_index('uID').sort_index().to_crs(epsg=3035)\n",
    "from libpysal.graph import Graph\n",
    "graph = Graph.build_fuzzy_contiguity(tessellation, buffer=.001)"
   ]
  },
  {
   "cell_type": "code",
   "execution_count": null,
   "id": "f374ebc4-16c4-4afa-8721-06422ee39d0d",
   "metadata": {},
   "outputs": [],
   "source": []
  },
  {
   "cell_type": "code",
   "execution_count": 23,
   "id": "7bf98477-0ec4-4b5a-995d-774f591e2352",
   "metadata": {},
   "outputs": [],
   "source": [
    "plotting = tessellation.join(X_train, how='inner')\n",
    "\n",
    "\n",
    "\n",
    "building_chars = ['ssbCCo', 'ssbCor', 'ssbSqu',\n",
    "       'ssbCCM', 'ssbCCD', 'sdbAre', 'sdbPer', 'sdbCoA', 'ssbERI', 'ssbElo',\n",
    "       'stbOri', 'mtbSWR', 'libNCo', 'ldbPWL', 'ltcBuA', 'mtbAli', 'mtbNDi',\n",
    "       'ltbIBD', 'stbCeA', 'stbSAl']\n",
    "\n",
    "plotting  = plotting[building_chars + ['geometry']]\n",
    "# plotting = plotting[[c for c in plotting.columns if '_' not in c]]"
   ]
  },
  {
   "cell_type": "code",
   "execution_count": null,
   "id": "df672355-9a79-44b1-88b9-317eef2c302a",
   "metadata": {},
   "outputs": [],
   "source": []
  },
  {
   "cell_type": "code",
   "execution_count": 22,
   "id": "bb9db616-968e-4cd6-8418-2c0c875cecd2",
   "metadata": {},
   "outputs": [],
   "source": [
    "region = 69300\n",
    "chars_dir = \"/data/uscuni-ulce/processed_data/chars/\"\n",
    "buildings = gpd.read_parquet(f\"{chars_dir}buildings_chars_{region}.parquet\")"
   ]
  },
  {
   "cell_type": "code",
   "execution_count": null,
   "id": "4c388a71-6b70-4902-96d5-bd4eaa6c74c2",
   "metadata": {},
   "outputs": [],
   "source": []
  },
  {
   "cell_type": "code",
   "execution_count": null,
   "id": "30a8b658-a84b-45b1-b70e-026d7717768a",
   "metadata": {},
   "outputs": [],
   "source": []
  },
  {
   "cell_type": "code",
   "execution_count": 33,
   "id": "201f86ac-f5a6-42bb-b0fc-7382c5fda48f",
   "metadata": {},
   "outputs": [],
   "source": [
    "gdf = buildings.sjoin(plotting.to_crs(epsg=3035), how='inner')"
   ]
  },
  {
   "cell_type": "code",
   "execution_count": null,
   "id": "8acd7b66-ec43-40fc-9adc-7c4a00499b59",
   "metadata": {},
   "outputs": [],
   "source": []
  },
  {
   "cell_type": "code",
   "execution_count": 130,
   "id": "7bcac002-5e2b-43f9-ad3c-0f48ec0f66e3",
   "metadata": {},
   "outputs": [],
   "source": [
    "vals = {}\n",
    "for c in building_chars:\n",
    "    if c == '': break\n",
    "    new_values = gdf[c + '_left'].values\n",
    "    old_values = gdf[c + '_right'].values\n",
    "    vals[c] = np.corrcoef(new_values, old_values)[0,1]\n",
    "    if c == 'ltcBuA': break"
   ]
  },
  {
   "cell_type": "code",
   "execution_count": 61,
   "id": "7111a21b-4b52-4055-8fa7-9e3f0411930d",
   "metadata": {},
   "outputs": [
    {
     "data": {
      "text/plain": [
       "{'ssbCCo': np.float64(0.5874129317304231),\n",
       " 'ssbCor': np.float64(0.3358528301770491),\n",
       " 'ssbSqu': np.float64(0.43030460814673804),\n",
       " 'ssbCCM': np.float64(nan),\n",
       " 'ssbCCD': np.float64(nan),\n",
       " 'sdbAre': np.float64(0.4874463523459785),\n",
       " 'sdbPer': np.float64(0.5247616904969362),\n",
       " 'sdbCoA': np.float64(0.32875297036623863),\n",
       " 'ssbERI': np.float64(0.4040099734890492),\n",
       " 'ssbElo': np.float64(0.5962058263714757),\n",
       " 'stbOri': np.float64(0.6574709179879735),\n",
       " 'mtbSWR': np.float64(0.7057998910581672),\n",
       " 'libNCo': np.float64(0.9403093425618054),\n",
       " 'ldbPWL': np.float64(0.9134632024527115),\n",
       " 'ltcBuA': np.float64(0.6936343323901484),\n",
       " 'mtbAli': np.float64(0.5995580588598617),\n",
       " 'mtbNDi': np.float64(0.6284560523138889),\n",
       " 'ltbIBD': np.float64(0.7910494631754461),\n",
       " 'stbCeA': np.float64(0.3353265648792697),\n",
       " 'stbSAl': np.float64(0.4008147508457259)}"
      ]
     },
     "execution_count": 61,
     "metadata": {},
     "output_type": "execute_result"
    }
   ],
   "source": [
    "vals"
   ]
  },
  {
   "cell_type": "code",
   "execution_count": 131,
   "id": "efd6c9ba-df58-4922-a85d-e6e4a38d2416",
   "metadata": {},
   "outputs": [
    {
     "data": {
      "text/plain": [
       "array([1.        , 1.        , 1.        , ..., 0.75      , 0.77777778,\n",
       "       0.77777778])"
      ]
     },
     "execution_count": 131,
     "metadata": {},
     "output_type": "execute_result"
    }
   ],
   "source": []
  },
  {
   "cell_type": "code",
   "execution_count": 132,
   "id": "12f60b4c-2d12-4244-9845-de9d54e44bc0",
   "metadata": {},
   "outputs": [
    {
     "data": {
      "text/plain": [
       "array([1.        , 1.        , 1.        , ..., 0.67346939, 0.6875    ,\n",
       "       0.5625    ])"
      ]
     },
     "execution_count": 132,
     "metadata": {},
     "output_type": "execute_result"
    }
   ],
   "source": []
  },
  {
   "cell_type": "code",
   "execution_count": 68,
   "id": "66e600be-aa67-4c8a-b7e8-e2178638966f",
   "metadata": {},
   "outputs": [],
   "source": [
    "plotting = gdf.copy()"
   ]
  },
  {
   "cell_type": "code",
   "execution_count": null,
   "id": "dbeee92e-c3a1-445d-b845-f166b0ce2243",
   "metadata": {},
   "outputs": [],
   "source": []
  },
  {
   "cell_type": "code",
   "execution_count": null,
   "id": "ce5a9c13-9f74-4e2f-bdbc-0edff1446081",
   "metadata": {},
   "outputs": [],
   "source": []
  },
  {
   "cell_type": "code",
   "execution_count": 69,
   "id": "7d648b3d-2fd8-4724-b052-ea3487d199ac",
   "metadata": {},
   "outputs": [
    {
     "name": "stderr",
     "output_type": "stream",
     "text": [
      "/home/krasen/miniconda3/envs/urban_taxonomy/lib/python3.12/site-packages/lonboard/_geoarrow/ops/reproject.py:97: UserWarning: Input being reprojected to EPSG:4326 CRS\n",
      "  warnings.warn(\"Input being reprojected to EPSG:4326 CRS\")\n"
     ]
    },
    {
     "name": "stdout",
     "output_type": "stream",
     "text": [
      "CPU times: user 1.28 s, sys: 100 ms, total: 1.39 s\n",
      "Wall time: 1.38 s\n"
     ]
    }
   ],
   "source": [
    "%%time\n",
    "import lonboard\n",
    "layer = lonboard.PolygonLayer.from_geopandas(plotting, opacity=.15)"
   ]
  },
  {
   "cell_type": "code",
   "execution_count": 70,
   "id": "8c7ad4e2-bd59-450f-b924-3f52b012e668",
   "metadata": {},
   "outputs": [],
   "source": [
    "from sidecar import Sidecar\n",
    "sc = Sidecar(title='Clusters')\n",
    "m = lonboard.Map(layer, basemap_style=lonboard.basemap.CartoBasemap.Positron)\n",
    "with sc:\n",
    "    display(m)"
   ]
  },
  {
   "cell_type": "code",
   "execution_count": 71,
   "id": "415f9a76-81c5-42b4-8dbc-1ebd3b069fdc",
   "metadata": {},
   "outputs": [
    {
     "data": {
      "text/plain": [
       "Index(['index', 'id', 'geometry', 'ssbCCo_left', 'ssbCor_left', 'ssbSqu_left',\n",
       "       'ssbCCM_left', 'ssbCCD_left', 'sdbAre_left', 'sdbPer_left',\n",
       "       'sdbCoA_left', 'ssbERI_left', 'ssbElo_left', 'stbOri_left',\n",
       "       'mtbSWR_left', 'libNCo_left', 'ldbPWL_left', 'ltcBuA_left',\n",
       "       'mtbAli_left', 'mtbNDi_left', 'ltbIBD_left', 'stbCeA_left', 'nID',\n",
       "       'stbSAl_left', 'nodeID', 'uID', 'ssbCCo_right', 'ssbCor_right',\n",
       "       'ssbSqu_right', 'ssbCCM_right', 'ssbCCD_right', 'sdbAre_right',\n",
       "       'sdbPer_right', 'sdbCoA_right', 'ssbERI_right', 'ssbElo_right',\n",
       "       'stbOri_right', 'mtbSWR_right', 'libNCo_right', 'ldbPWL_right',\n",
       "       'ltcBuA_right', 'mtbAli_right', 'mtbNDi_right', 'ltbIBD_right',\n",
       "       'stbCeA_right', 'stbSAl_right'],\n",
       "      dtype='object')"
      ]
     },
     "execution_count": 71,
     "metadata": {},
     "output_type": "execute_result"
    }
   ],
   "source": [
    "from core.utils import char_names\n",
    "from mapclassify import classify\n",
    "import matplotlib as mpl\n",
    "from lonboard.colormap import apply_continuous_cmap\n",
    "\n",
    "plotting.columns"
   ]
  },
  {
   "cell_type": "code",
   "execution_count": 161,
   "id": "ccdd8d27-d388-4373-8238-3a6778d9a6cc",
   "metadata": {},
   "outputs": [],
   "source": [
    "\n",
    "column = 'stbSAl_right'\n",
    "\n",
    "classifier = classify(plotting[column], 'quantiles', k=20)\n",
    "normalizer = mpl.colors.Normalize(0, classifier.bins.shape[0])\n",
    "vals = normalizer(classifier.yb)\n",
    "layer.get_fill_color = apply_continuous_cmap(vals, mpl.colormaps['viridis'])"
   ]
  },
  {
   "cell_type": "code",
   "execution_count": 162,
   "id": "eb678279-fcb5-4800-8dd6-588ab60eccea",
   "metadata": {},
   "outputs": [
    {
     "data": {
      "text/plain": [
       "'street alignment of building'"
      ]
     },
     "execution_count": 162,
     "metadata": {},
     "output_type": "execute_result"
    }
   ],
   "source": [
    "char_names[column.split('_')[0]]"
   ]
  },
  {
   "cell_type": "code",
   "execution_count": 150,
   "id": "c8d7142b-b0d4-4a31-a870-17dc9f762b0f",
   "metadata": {},
   "outputs": [
    {
     "name": "stdout",
     "output_type": "stream",
     "text": [
      "circular compactness of building\n",
      "corners of building\n",
      "squareness of building\n",
      "centroid - corner mean distance of building\n",
      "centroid - corner distance deviation of building\n",
      "area of building\n",
      "perimeter of building\n",
      "courtyard area of building\n",
      "equivalent rectangular index of building\n",
      "elongation of building\n",
      "orientation of building\n",
      "shared walls ratio of buildings\n",
      "number of courtyards within adjacent buildings\n",
      "perimeter wall length of adjacent buildings\n",
      "level of building adjacency\n",
      "alignment of neighbouring buildings\n",
      "mean distance between neighbouring buildings\n",
      "mean inter-building distance\n",
      "cell alignment of building\n",
      "street alignment of building\n"
     ]
    }
   ],
   "source": [
    "for c in building_chars:\n",
    "    print(char_names[c])"
   ]
  },
  {
   "cell_type": "code",
   "execution_count": 151,
   "id": "87dadc14-5c44-4cfb-805b-123503356ba2",
   "metadata": {},
   "outputs": [
    {
     "data": {
      "text/html": [
       "<div>\n",
       "<style scoped>\n",
       "    .dataframe tbody tr th:only-of-type {\n",
       "        vertical-align: middle;\n",
       "    }\n",
       "\n",
       "    .dataframe tbody tr th {\n",
       "        vertical-align: top;\n",
       "    }\n",
       "\n",
       "    .dataframe thead th {\n",
       "        text-align: right;\n",
       "    }\n",
       "</style>\n",
       "<table border=\"1\" class=\"dataframe\">\n",
       "  <thead>\n",
       "    <tr style=\"text-align: right;\">\n",
       "      <th></th>\n",
       "      <th>mtbAli_left</th>\n",
       "      <th>mtbAli_right</th>\n",
       "    </tr>\n",
       "  </thead>\n",
       "  <tbody>\n",
       "    <tr>\n",
       "      <th>250903</th>\n",
       "      <td>6.865233</td>\n",
       "      <td>15.705758</td>\n",
       "    </tr>\n",
       "  </tbody>\n",
       "</table>\n",
       "</div>"
      ],
      "text/plain": [
       "        mtbAli_left  mtbAli_right\n",
       "250903     6.865233     15.705758"
      ]
     },
     "execution_count": 151,
     "metadata": {},
     "output_type": "execute_result"
    }
   ],
   "source": [
    "plotting.loc[plotting['uID'] == 139832, ['mtbAli_left', 'mtbAli_right']]"
   ]
  },
  {
   "cell_type": "code",
   "execution_count": 152,
   "id": "766a80b4-c5aa-4005-8daf-04ba58910a9a",
   "metadata": {},
   "outputs": [
    {
     "data": {
      "text/html": [
       "<div>\n",
       "<style scoped>\n",
       "    .dataframe tbody tr th:only-of-type {\n",
       "        vertical-align: middle;\n",
       "    }\n",
       "\n",
       "    .dataframe tbody tr th {\n",
       "        vertical-align: top;\n",
       "    }\n",
       "\n",
       "    .dataframe thead th {\n",
       "        text-align: right;\n",
       "    }\n",
       "</style>\n",
       "<table border=\"1\" class=\"dataframe\">\n",
       "  <thead>\n",
       "    <tr style=\"text-align: right;\">\n",
       "      <th></th>\n",
       "      <th>mtbAli_left</th>\n",
       "      <th>mtbAli_right</th>\n",
       "    </tr>\n",
       "  </thead>\n",
       "  <tbody>\n",
       "    <tr>\n",
       "      <th>259403</th>\n",
       "      <td>2.469920</td>\n",
       "      <td>8.480825</td>\n",
       "    </tr>\n",
       "    <tr>\n",
       "      <th>259408</th>\n",
       "      <td>3.732664</td>\n",
       "      <td>8.480825</td>\n",
       "    </tr>\n",
       "  </tbody>\n",
       "</table>\n",
       "</div>"
      ],
      "text/plain": [
       "        mtbAli_left  mtbAli_right\n",
       "259403     2.469920      8.480825\n",
       "259408     3.732664      8.480825"
      ]
     },
     "execution_count": 152,
     "metadata": {},
     "output_type": "execute_result"
    }
   ],
   "source": [
    "plotting.loc[plotting['uID'] == 1637, ['mtbAli_left', 'mtbAli_right']]"
   ]
  },
  {
   "cell_type": "code",
   "execution_count": null,
   "id": "e435ff23-1774-46e6-8c10-aba08203434e",
   "metadata": {},
   "outputs": [],
   "source": []
  },
  {
   "cell_type": "code",
   "execution_count": null,
   "id": "925bbc0f-242b-41cc-ac19-283e46a7e160",
   "metadata": {},
   "outputs": [],
   "source": []
  },
  {
   "cell_type": "code",
   "execution_count": null,
   "id": "3a6440d0-d408-4243-b3df-233263a8a2c2",
   "metadata": {},
   "outputs": [],
   "source": []
  },
  {
   "cell_type": "code",
   "execution_count": 163,
   "id": "3caf964d-f3af-4f67-916b-2a08593dadf7",
   "metadata": {},
   "outputs": [],
   "source": [
    "vals = StandardScaler().fit_transform(X_train)\n",
    "X_train = pd.DataFrame(vals, columns=X_train.columns, index=X_train.index)\n",
    "\n",
    "vals = np.nan_to_num(X_train)\n",
    "X_train = pd.DataFrame(vals, columns=X_train.columns, index=X_train.index)\n",
    "\n",
    "\n",
    "# X_train = X_train.clip(-10, 10)"
   ]
  },
  {
   "cell_type": "code",
   "execution_count": 167,
   "id": "34fb8ee3-8d6e-47c5-b588-a45115672a5d",
   "metadata": {},
   "outputs": [
    {
     "data": {
      "text/html": [
       "<div>\n",
       "<style scoped>\n",
       "    .dataframe tbody tr th:only-of-type {\n",
       "        vertical-align: middle;\n",
       "    }\n",
       "\n",
       "    .dataframe tbody tr th {\n",
       "        vertical-align: top;\n",
       "    }\n",
       "\n",
       "    .dataframe thead th {\n",
       "        text-align: right;\n",
       "    }\n",
       "</style>\n",
       "<table border=\"1\" class=\"dataframe\">\n",
       "  <thead>\n",
       "    <tr style=\"text-align: right;\">\n",
       "      <th></th>\n",
       "      <th>stcOri</th>\n",
       "      <th>sdcLAL</th>\n",
       "      <th>sdcAre</th>\n",
       "      <th>sscCCo</th>\n",
       "      <th>sscERI</th>\n",
       "      <th>stcSAl</th>\n",
       "      <th>sicCAR</th>\n",
       "      <th>sicFAR</th>\n",
       "      <th>mtcWNe</th>\n",
       "      <th>mdcAre</th>\n",
       "      <th>...</th>\n",
       "      <th>ldsMSL</th>\n",
       "      <th>ldsRea</th>\n",
       "      <th>ldkAre</th>\n",
       "      <th>ldkPer</th>\n",
       "      <th>lskCCo</th>\n",
       "      <th>lskERI</th>\n",
       "      <th>lskCWA</th>\n",
       "      <th>ltkOri</th>\n",
       "      <th>ltkWNB</th>\n",
       "      <th>likWBB</th>\n",
       "    </tr>\n",
       "    <tr>\n",
       "      <th>uID</th>\n",
       "      <th></th>\n",
       "      <th></th>\n",
       "      <th></th>\n",
       "      <th></th>\n",
       "      <th></th>\n",
       "      <th></th>\n",
       "      <th></th>\n",
       "      <th></th>\n",
       "      <th></th>\n",
       "      <th></th>\n",
       "      <th></th>\n",
       "      <th></th>\n",
       "      <th></th>\n",
       "      <th></th>\n",
       "      <th></th>\n",
       "      <th></th>\n",
       "      <th></th>\n",
       "      <th></th>\n",
       "      <th></th>\n",
       "      <th></th>\n",
       "      <th></th>\n",
       "    </tr>\n",
       "  </thead>\n",
       "  <tbody>\n",
       "    <tr>\n",
       "      <th>0</th>\n",
       "      <td>-0.825688</td>\n",
       "      <td>-0.786247</td>\n",
       "      <td>-0.442530</td>\n",
       "      <td>-0.451685</td>\n",
       "      <td>-1.274222</td>\n",
       "      <td>-0.141566</td>\n",
       "      <td>-0.721490</td>\n",
       "      <td>-0.064720</td>\n",
       "      <td>-0.439435</td>\n",
       "      <td>1.743740</td>\n",
       "      <td>...</td>\n",
       "      <td>4.531367</td>\n",
       "      <td>2.137539</td>\n",
       "      <td>1.152900</td>\n",
       "      <td>1.183337</td>\n",
       "      <td>-0.220904</td>\n",
       "      <td>-1.022269</td>\n",
       "      <td>1.090058</td>\n",
       "      <td>0.818561</td>\n",
       "      <td>-1.593575</td>\n",
       "      <td>-1.182433</td>\n",
       "    </tr>\n",
       "    <tr>\n",
       "      <th>1</th>\n",
       "      <td>-1.127246</td>\n",
       "      <td>-0.189693</td>\n",
       "      <td>-0.173219</td>\n",
       "      <td>0.600316</td>\n",
       "      <td>-0.563265</td>\n",
       "      <td>-0.713182</td>\n",
       "      <td>2.679297</td>\n",
       "      <td>2.532736</td>\n",
       "      <td>1.481949</td>\n",
       "      <td>-0.356004</td>\n",
       "      <td>...</td>\n",
       "      <td>-0.328878</td>\n",
       "      <td>0.000974</td>\n",
       "      <td>0.584194</td>\n",
       "      <td>0.776684</td>\n",
       "      <td>-0.311741</td>\n",
       "      <td>-0.884127</td>\n",
       "      <td>0.741569</td>\n",
       "      <td>-0.756939</td>\n",
       "      <td>-0.839673</td>\n",
       "      <td>-0.788743</td>\n",
       "    </tr>\n",
       "    <tr>\n",
       "      <th>2</th>\n",
       "      <td>-0.475648</td>\n",
       "      <td>-0.762370</td>\n",
       "      <td>-0.420120</td>\n",
       "      <td>0.069817</td>\n",
       "      <td>-0.469780</td>\n",
       "      <td>0.599144</td>\n",
       "      <td>-0.584320</td>\n",
       "      <td>-0.617202</td>\n",
       "      <td>-0.074388</td>\n",
       "      <td>-0.599903</td>\n",
       "      <td>...</td>\n",
       "      <td>1.197299</td>\n",
       "      <td>0.214282</td>\n",
       "      <td>-0.283929</td>\n",
       "      <td>-0.131219</td>\n",
       "      <td>-1.290892</td>\n",
       "      <td>-0.464161</td>\n",
       "      <td>0.055770</td>\n",
       "      <td>0.843529</td>\n",
       "      <td>-0.656292</td>\n",
       "      <td>-0.650109</td>\n",
       "    </tr>\n",
       "    <tr>\n",
       "      <th>3</th>\n",
       "      <td>-0.818247</td>\n",
       "      <td>-0.509175</td>\n",
       "      <td>-0.320073</td>\n",
       "      <td>0.520287</td>\n",
       "      <td>0.401367</td>\n",
       "      <td>-0.384563</td>\n",
       "      <td>-0.660649</td>\n",
       "      <td>-0.418102</td>\n",
       "      <td>-0.162181</td>\n",
       "      <td>-0.424048</td>\n",
       "      <td>...</td>\n",
       "      <td>2.364452</td>\n",
       "      <td>4.025627</td>\n",
       "      <td>-0.125500</td>\n",
       "      <td>-0.173832</td>\n",
       "      <td>2.005441</td>\n",
       "      <td>0.989704</td>\n",
       "      <td>-0.513183</td>\n",
       "      <td>-0.915369</td>\n",
       "      <td>-0.780289</td>\n",
       "      <td>-0.383440</td>\n",
       "    </tr>\n",
       "    <tr>\n",
       "      <th>4</th>\n",
       "      <td>0.838593</td>\n",
       "      <td>1.662779</td>\n",
       "      <td>1.211467</td>\n",
       "      <td>0.287516</td>\n",
       "      <td>1.122736</td>\n",
       "      <td>1.945001</td>\n",
       "      <td>-1.191274</td>\n",
       "      <td>-0.716759</td>\n",
       "      <td>-1.401671</td>\n",
       "      <td>1.852296</td>\n",
       "      <td>...</td>\n",
       "      <td>-0.272797</td>\n",
       "      <td>-0.018644</td>\n",
       "      <td>-0.491407</td>\n",
       "      <td>-0.691410</td>\n",
       "      <td>0.406371</td>\n",
       "      <td>1.329854</td>\n",
       "      <td>-0.700744</td>\n",
       "      <td>0.886679</td>\n",
       "      <td>-0.305596</td>\n",
       "      <td>-1.131909</td>\n",
       "    </tr>\n",
       "  </tbody>\n",
       "</table>\n",
       "<p>5 rows × 74 columns</p>\n",
       "</div>"
      ],
      "text/plain": [
       "       stcOri    sdcLAL    sdcAre    sscCCo    sscERI    stcSAl    sicCAR  \\\n",
       "uID                                                                         \n",
       "0   -0.825688 -0.786247 -0.442530 -0.451685 -1.274222 -0.141566 -0.721490   \n",
       "1   -1.127246 -0.189693 -0.173219  0.600316 -0.563265 -0.713182  2.679297   \n",
       "2   -0.475648 -0.762370 -0.420120  0.069817 -0.469780  0.599144 -0.584320   \n",
       "3   -0.818247 -0.509175 -0.320073  0.520287  0.401367 -0.384563 -0.660649   \n",
       "4    0.838593  1.662779  1.211467  0.287516  1.122736  1.945001 -1.191274   \n",
       "\n",
       "       sicFAR    mtcWNe    mdcAre  ...    ldsMSL    ldsRea    ldkAre  \\\n",
       "uID                                ...                                 \n",
       "0   -0.064720 -0.439435  1.743740  ...  4.531367  2.137539  1.152900   \n",
       "1    2.532736  1.481949 -0.356004  ... -0.328878  0.000974  0.584194   \n",
       "2   -0.617202 -0.074388 -0.599903  ...  1.197299  0.214282 -0.283929   \n",
       "3   -0.418102 -0.162181 -0.424048  ...  2.364452  4.025627 -0.125500   \n",
       "4   -0.716759 -1.401671  1.852296  ... -0.272797 -0.018644 -0.491407   \n",
       "\n",
       "       ldkPer    lskCCo    lskERI    lskCWA    ltkOri    ltkWNB    likWBB  \n",
       "uID                                                                        \n",
       "0    1.183337 -0.220904 -1.022269  1.090058  0.818561 -1.593575 -1.182433  \n",
       "1    0.776684 -0.311741 -0.884127  0.741569 -0.756939 -0.839673 -0.788743  \n",
       "2   -0.131219 -1.290892 -0.464161  0.055770  0.843529 -0.656292 -0.650109  \n",
       "3   -0.173832  2.005441  0.989704 -0.513183 -0.915369 -0.780289 -0.383440  \n",
       "4   -0.691410  0.406371  1.329854 -0.700744  0.886679 -0.305596 -1.131909  \n",
       "\n",
       "[5 rows x 74 columns]"
      ]
     },
     "execution_count": 167,
     "metadata": {},
     "output_type": "execute_result"
    }
   ],
   "source": [
    "X_train = X_train[[c for c in X_train.columns if '_' not in c]]\n",
    "X_train.head()"
   ]
  },
  {
   "cell_type": "code",
   "execution_count": 168,
   "id": "151dbd58-d57c-4686-80f6-7494a70c9a38",
   "metadata": {},
   "outputs": [],
   "source": [
    "tess_groups = generate_neigbhourhood_groups(tessellation[tessellation.index.isin(X_train.index)], buffer=200)\n",
    "tess_groups = tess_groups[tess_groups.index.isin(X_train.index)]\n",
    "tess_groups_ilocs = (\n",
    "    pd.Series(np.arange(len(X_train)), index=X_train.index)\n",
    "    .loc[tess_groups.index]\n",
    "    .values\n",
    ")"
   ]
  },
  {
   "cell_type": "code",
   "execution_count": 171,
   "id": "2a0561b3-e9df-46d4-9f9a-67de5f2f55b4",
   "metadata": {},
   "outputs": [
    {
     "data": {
      "text/html": [
       "<style type=\"text/css\">\n",
       "#T_c856d_row0_col0, #T_c856d_row1_col1, #T_c856d_row2_col2, #T_c856d_row3_col3, #T_c856d_row4_col4, #T_c856d_row5_col5, #T_c856d_row6_col6, #T_c856d_row7_col7, #T_c856d_row8_col8 {\n",
       "  background-color: #f7fcfd;\n",
       "  color: #000000;\n",
       "}\n",
       "#T_c856d_row0_col1 {\n",
       "  background-color: #a2dcce;\n",
       "  color: #000000;\n",
       "}\n",
       "#T_c856d_row0_col2 {\n",
       "  background-color: #45b07b;\n",
       "  color: #f1f1f1;\n",
       "}\n",
       "#T_c856d_row0_col3 {\n",
       "  background-color: #64c1a2;\n",
       "  color: #000000;\n",
       "}\n",
       "#T_c856d_row0_col4 {\n",
       "  background-color: #37a266;\n",
       "  color: #f1f1f1;\n",
       "}\n",
       "#T_c856d_row0_col5, #T_c856d_row1_col5, #T_c856d_row2_col5, #T_c856d_row3_col5, #T_c856d_row4_col5, #T_c856d_row5_col7, #T_c856d_row6_col5, #T_c856d_row7_col5, #T_c856d_row8_col5 {\n",
       "  background-color: #00441b;\n",
       "  color: #f1f1f1;\n",
       "}\n",
       "#T_c856d_row0_col6 {\n",
       "  background-color: #acdfd4;\n",
       "  color: #000000;\n",
       "}\n",
       "#T_c856d_row0_col7 {\n",
       "  background-color: #2c9553;\n",
       "  color: #f1f1f1;\n",
       "}\n",
       "#T_c856d_row0_col8 {\n",
       "  background-color: #4cb484;\n",
       "  color: #f1f1f1;\n",
       "}\n",
       "#T_c856d_row1_col0 {\n",
       "  background-color: #a0dbcd;\n",
       "  color: #000000;\n",
       "}\n",
       "#T_c856d_row1_col2, #T_c856d_row1_col8 {\n",
       "  background-color: #75c9af;\n",
       "  color: #000000;\n",
       "}\n",
       "#T_c856d_row1_col3 {\n",
       "  background-color: #82ceb8;\n",
       "  color: #000000;\n",
       "}\n",
       "#T_c856d_row1_col4 {\n",
       "  background-color: #4fb688;\n",
       "  color: #f1f1f1;\n",
       "}\n",
       "#T_c856d_row1_col6 {\n",
       "  background-color: #ceede8;\n",
       "  color: #000000;\n",
       "}\n",
       "#T_c856d_row1_col7 {\n",
       "  background-color: #48b27f;\n",
       "  color: #f1f1f1;\n",
       "}\n",
       "#T_c856d_row2_col0 {\n",
       "  background-color: #65c2a3;\n",
       "  color: #000000;\n",
       "}\n",
       "#T_c856d_row2_col1 {\n",
       "  background-color: #9ad8ca;\n",
       "  color: #000000;\n",
       "}\n",
       "#T_c856d_row2_col3 {\n",
       "  background-color: #8ad2be;\n",
       "  color: #000000;\n",
       "}\n",
       "#T_c856d_row2_col4 {\n",
       "  background-color: #8dd3c0;\n",
       "  color: #000000;\n",
       "}\n",
       "#T_c856d_row2_col6, #T_c856d_row7_col8 {\n",
       "  background-color: #9fdacc;\n",
       "  color: #000000;\n",
       "}\n",
       "#T_c856d_row2_col7 {\n",
       "  background-color: #c0e7df;\n",
       "  color: #000000;\n",
       "}\n",
       "#T_c856d_row2_col8 {\n",
       "  background-color: #c8ebe4;\n",
       "  color: #000000;\n",
       "}\n",
       "#T_c856d_row3_col0, #T_c856d_row3_col2 {\n",
       "  background-color: #60bf9c;\n",
       "  color: #000000;\n",
       "}\n",
       "#T_c856d_row3_col1 {\n",
       "  background-color: #7fcdb6;\n",
       "  color: #000000;\n",
       "}\n",
       "#T_c856d_row3_col4 {\n",
       "  background-color: #5cbd98;\n",
       "  color: #f1f1f1;\n",
       "}\n",
       "#T_c856d_row3_col6, #T_c856d_row7_col1 {\n",
       "  background-color: #72c7ad;\n",
       "  color: #000000;\n",
       "}\n",
       "#T_c856d_row3_col7 {\n",
       "  background-color: #5abb95;\n",
       "  color: #f1f1f1;\n",
       "}\n",
       "#T_c856d_row3_col8 {\n",
       "  background-color: #9ddacb;\n",
       "  color: #000000;\n",
       "}\n",
       "#T_c856d_row4_col0 {\n",
       "  background-color: #54b88e;\n",
       "  color: #f1f1f1;\n",
       "}\n",
       "#T_c856d_row4_col1 {\n",
       "  background-color: #6fc6aa;\n",
       "  color: #000000;\n",
       "}\n",
       "#T_c856d_row4_col2, #T_c856d_row7_col3 {\n",
       "  background-color: #88d1bd;\n",
       "  color: #000000;\n",
       "}\n",
       "#T_c856d_row4_col3, #T_c856d_row6_col2 {\n",
       "  background-color: #80cdb7;\n",
       "  color: #000000;\n",
       "}\n",
       "#T_c856d_row4_col6 {\n",
       "  background-color: #7acbb3;\n",
       "  color: #000000;\n",
       "}\n",
       "#T_c856d_row4_col7 {\n",
       "  background-color: #cdece6;\n",
       "  color: #000000;\n",
       "}\n",
       "#T_c856d_row4_col8 {\n",
       "  background-color: #68c3a6;\n",
       "  color: #000000;\n",
       "}\n",
       "#T_c856d_row5_col0 {\n",
       "  background-color: #17813d;\n",
       "  color: #f1f1f1;\n",
       "}\n",
       "#T_c856d_row5_col1 {\n",
       "  background-color: #19833e;\n",
       "  color: #f1f1f1;\n",
       "}\n",
       "#T_c856d_row5_col2 {\n",
       "  background-color: #004e1f;\n",
       "  color: #f1f1f1;\n",
       "}\n",
       "#T_c856d_row5_col3 {\n",
       "  background-color: #1e8741;\n",
       "  color: #f1f1f1;\n",
       "}\n",
       "#T_c856d_row5_col4 {\n",
       "  background-color: #005622;\n",
       "  color: #f1f1f1;\n",
       "}\n",
       "#T_c856d_row5_col6 {\n",
       "  background-color: #157f3b;\n",
       "  color: #f1f1f1;\n",
       "}\n",
       "#T_c856d_row5_col8 {\n",
       "  background-color: #006027;\n",
       "  color: #f1f1f1;\n",
       "}\n",
       "#T_c856d_row6_col0 {\n",
       "  background-color: #ade0d4;\n",
       "  color: #000000;\n",
       "}\n",
       "#T_c856d_row6_col1 {\n",
       "  background-color: #cfede8;\n",
       "  color: #000000;\n",
       "}\n",
       "#T_c856d_row6_col3 {\n",
       "  background-color: #78cab1;\n",
       "  color: #000000;\n",
       "}\n",
       "#T_c856d_row6_col4 {\n",
       "  background-color: #5bbc96;\n",
       "  color: #f1f1f1;\n",
       "}\n",
       "#T_c856d_row6_col7 {\n",
       "  background-color: #55b98f;\n",
       "  color: #f1f1f1;\n",
       "}\n",
       "#T_c856d_row6_col8 {\n",
       "  background-color: #6dc5a9;\n",
       "  color: #000000;\n",
       "}\n",
       "#T_c856d_row7_col0 {\n",
       "  background-color: #53b88c;\n",
       "  color: #f1f1f1;\n",
       "}\n",
       "#T_c856d_row7_col2 {\n",
       "  background-color: #c5e9e2;\n",
       "  color: #000000;\n",
       "}\n",
       "#T_c856d_row7_col4 {\n",
       "  background-color: #d0ede9;\n",
       "  color: #000000;\n",
       "}\n",
       "#T_c856d_row7_col6 {\n",
       "  background-color: #7dccb5;\n",
       "  color: #000000;\n",
       "}\n",
       "#T_c856d_row8_col0, #T_c856d_row8_col4 {\n",
       "  background-color: #63c0a0;\n",
       "  color: #000000;\n",
       "}\n",
       "#T_c856d_row8_col1, #T_c856d_row8_col7 {\n",
       "  background-color: #90d4c3;\n",
       "  color: #000000;\n",
       "}\n",
       "#T_c856d_row8_col2 {\n",
       "  background-color: #c2e8e0;\n",
       "  color: #000000;\n",
       "}\n",
       "#T_c856d_row8_col3 {\n",
       "  background-color: #b5e3d9;\n",
       "  color: #000000;\n",
       "}\n",
       "#T_c856d_row8_col6 {\n",
       "  background-color: #87d0bc;\n",
       "  color: #000000;\n",
       "}\n",
       "</style>\n",
       "<table id=\"T_c856d\">\n",
       "  <thead>\n",
       "    <tr>\n",
       "      <th class=\"blank level0\" >&nbsp;</th>\n",
       "      <th id=\"T_c856d_level0_col0\" class=\"col_heading level0 col0\" >holyne</th>\n",
       "      <th id=\"T_c856d_level0_col1\" class=\"col_heading level0 col1\" >housing estate</th>\n",
       "      <th id=\"T_c856d_level0_col2\" class=\"col_heading level0 col2\" >josefov</th>\n",
       "      <th id=\"T_c856d_level0_col3\" class=\"col_heading level0 col3\" >karlin</th>\n",
       "      <th id=\"T_c856d_level0_col4\" class=\"col_heading level0 col4\" >mala strana</th>\n",
       "      <th id=\"T_c856d_level0_col5\" class=\"col_heading level0 col5\" >malesice</th>\n",
       "      <th id=\"T_c856d_level0_col6\" class=\"col_heading level0 col6\" >nusle</th>\n",
       "      <th id=\"T_c856d_level0_col7\" class=\"col_heading level0 col7\" >stare mesto</th>\n",
       "      <th id=\"T_c856d_level0_col8\" class=\"col_heading level0 col8\" >vinohrady</th>\n",
       "    </tr>\n",
       "  </thead>\n",
       "  <tbody>\n",
       "    <tr>\n",
       "      <th id=\"T_c856d_level0_row0\" class=\"row_heading level0 row0\" >holyne</th>\n",
       "      <td id=\"T_c856d_row0_col0\" class=\"data row0 col0\" >0.000000</td>\n",
       "      <td id=\"T_c856d_row0_col1\" class=\"data row0 col1\" >6.952326</td>\n",
       "      <td id=\"T_c856d_row0_col2\" class=\"data row0 col2\" >12.082053</td>\n",
       "      <td id=\"T_c856d_row0_col3\" class=\"data row0 col3\" >10.023715</td>\n",
       "      <td id=\"T_c856d_row0_col4\" class=\"data row0 col4\" >13.184114</td>\n",
       "      <td id=\"T_c856d_row0_col5\" class=\"data row0 col5\" >19.741305</td>\n",
       "      <td id=\"T_c856d_row0_col6\" class=\"data row0 col6\" >6.518297</td>\n",
       "      <td id=\"T_c856d_row0_col7\" class=\"data row0 col7\" >14.075976</td>\n",
       "      <td id=\"T_c856d_row0_col8\" class=\"data row0 col8\" >11.572726</td>\n",
       "    </tr>\n",
       "    <tr>\n",
       "      <th id=\"T_c856d_level0_row1\" class=\"row_heading level0 row1\" >housing estate</th>\n",
       "      <td id=\"T_c856d_row1_col0\" class=\"data row1 col0\" >6.952326</td>\n",
       "      <td id=\"T_c856d_row1_col1\" class=\"data row1 col1\" >0.000000</td>\n",
       "      <td id=\"T_c856d_row1_col2\" class=\"data row1 col2\" >9.029941</td>\n",
       "      <td id=\"T_c856d_row1_col3\" class=\"data row1 col3\" >8.452315</td>\n",
       "      <td id=\"T_c856d_row1_col4\" class=\"data row1 col4\" >11.273443</td>\n",
       "      <td id=\"T_c856d_row1_col5\" class=\"data row1 col5\" >19.545098</td>\n",
       "      <td id=\"T_c856d_row1_col6\" class=\"data row1 col6\" >4.681110</td>\n",
       "      <td id=\"T_c856d_row1_col7\" class=\"data row1 col7\" >11.733279</td>\n",
       "      <td id=\"T_c856d_row1_col8\" class=\"data row1 col8\" >9.043545</td>\n",
       "    </tr>\n",
       "    <tr>\n",
       "      <th id=\"T_c856d_level0_row2\" class=\"row_heading level0 row2\" >josefov</th>\n",
       "      <td id=\"T_c856d_row2_col0\" class=\"data row2 col0\" >12.082053</td>\n",
       "      <td id=\"T_c856d_row2_col1\" class=\"data row2 col1\" >9.029941</td>\n",
       "      <td id=\"T_c856d_row2_col2\" class=\"data row2 col2\" >0.000000</td>\n",
       "      <td id=\"T_c856d_row2_col3\" class=\"data row2 col3\" >9.979376</td>\n",
       "      <td id=\"T_c856d_row2_col4\" class=\"data row2 col4\" >9.748899</td>\n",
       "      <td id=\"T_c856d_row2_col5\" class=\"data row2 col5\" >24.102852</td>\n",
       "      <td id=\"T_c856d_row2_col6\" class=\"data row2 col6\" >8.681833</td>\n",
       "      <td id=\"T_c856d_row2_col7\" class=\"data row2 col7\" >6.712387</td>\n",
       "      <td id=\"T_c856d_row2_col8\" class=\"data row2 col8\" >6.299750</td>\n",
       "    </tr>\n",
       "    <tr>\n",
       "      <th id=\"T_c856d_level0_row3\" class=\"row_heading level0 row3\" >karlin</th>\n",
       "      <td id=\"T_c856d_row3_col0\" class=\"data row3 col0\" >10.023715</td>\n",
       "      <td id=\"T_c856d_row3_col1\" class=\"data row3 col1\" >8.452315</td>\n",
       "      <td id=\"T_c856d_row3_col2\" class=\"data row3 col2\" >9.979376</td>\n",
       "      <td id=\"T_c856d_row3_col3\" class=\"data row3 col3\" >0.000000</td>\n",
       "      <td id=\"T_c856d_row3_col4\" class=\"data row3 col4\" >10.243241</td>\n",
       "      <td id=\"T_c856d_row3_col5\" class=\"data row3 col5\" >19.165014</td>\n",
       "      <td id=\"T_c856d_row3_col6\" class=\"data row3 col6\" >9.018954</td>\n",
       "      <td id=\"T_c856d_row3_col7\" class=\"data row3 col7\" >10.344686</td>\n",
       "      <td id=\"T_c856d_row3_col8\" class=\"data row3 col8\" >6.976078</td>\n",
       "    </tr>\n",
       "    <tr>\n",
       "      <th id=\"T_c856d_level0_row4\" class=\"row_heading level0 row4\" >mala strana</th>\n",
       "      <td id=\"T_c856d_row4_col0\" class=\"data row4 col0\" >13.184114</td>\n",
       "      <td id=\"T_c856d_row4_col1\" class=\"data row4 col1\" >11.273443</td>\n",
       "      <td id=\"T_c856d_row4_col2\" class=\"data row4 col2\" >9.748899</td>\n",
       "      <td id=\"T_c856d_row4_col3\" class=\"data row4 col3\" >10.243241</td>\n",
       "      <td id=\"T_c856d_row4_col4\" class=\"data row4 col4\" >0.000000</td>\n",
       "      <td id=\"T_c856d_row4_col5\" class=\"data row4 col5\" >23.488353</td>\n",
       "      <td id=\"T_c856d_row4_col6\" class=\"data row4 col6\" >10.641655</td>\n",
       "      <td id=\"T_c856d_row4_col7\" class=\"data row4 col7\" >5.793080</td>\n",
       "      <td id=\"T_c856d_row4_col8\" class=\"data row4 col8\" >11.571782</td>\n",
       "    </tr>\n",
       "    <tr>\n",
       "      <th id=\"T_c856d_level0_row5\" class=\"row_heading level0 row5\" >malesice</th>\n",
       "      <td id=\"T_c856d_row5_col0\" class=\"data row5 col0\" >19.741305</td>\n",
       "      <td id=\"T_c856d_row5_col1\" class=\"data row5 col1\" >19.545098</td>\n",
       "      <td id=\"T_c856d_row5_col2\" class=\"data row5 col2\" >24.102852</td>\n",
       "      <td id=\"T_c856d_row5_col3\" class=\"data row5 col3\" >19.165014</td>\n",
       "      <td id=\"T_c856d_row5_col4\" class=\"data row5 col4\" >23.488353</td>\n",
       "      <td id=\"T_c856d_row5_col5\" class=\"data row5 col5\" >0.000000</td>\n",
       "      <td id=\"T_c856d_row5_col6\" class=\"data row5 col6\" >19.878540</td>\n",
       "      <td id=\"T_c856d_row5_col7\" class=\"data row5 col7\" >24.938207</td>\n",
       "      <td id=\"T_c856d_row5_col8\" class=\"data row5 col8\" >22.724833</td>\n",
       "    </tr>\n",
       "    <tr>\n",
       "      <th id=\"T_c856d_level0_row6\" class=\"row_heading level0 row6\" >nusle</th>\n",
       "      <td id=\"T_c856d_row6_col0\" class=\"data row6 col0\" >6.518297</td>\n",
       "      <td id=\"T_c856d_row6_col1\" class=\"data row6 col1\" >4.681110</td>\n",
       "      <td id=\"T_c856d_row6_col2\" class=\"data row6 col2\" >8.681833</td>\n",
       "      <td id=\"T_c856d_row6_col3\" class=\"data row6 col3\" >9.018954</td>\n",
       "      <td id=\"T_c856d_row6_col4\" class=\"data row6 col4\" >10.641655</td>\n",
       "      <td id=\"T_c856d_row6_col5\" class=\"data row6 col5\" >19.878540</td>\n",
       "      <td id=\"T_c856d_row6_col6\" class=\"data row6 col6\" >0.000000</td>\n",
       "      <td id=\"T_c856d_row6_col7\" class=\"data row6 col7\" >11.095765</td>\n",
       "      <td id=\"T_c856d_row6_col8\" class=\"data row6 col8\" >9.557223</td>\n",
       "    </tr>\n",
       "    <tr>\n",
       "      <th id=\"T_c856d_level0_row7\" class=\"row_heading level0 row7\" >stare mesto</th>\n",
       "      <td id=\"T_c856d_row7_col0\" class=\"data row7 col0\" >14.075976</td>\n",
       "      <td id=\"T_c856d_row7_col1\" class=\"data row7 col1\" >11.733279</td>\n",
       "      <td id=\"T_c856d_row7_col2\" class=\"data row7 col2\" >6.712387</td>\n",
       "      <td id=\"T_c856d_row7_col3\" class=\"data row7 col3\" >10.344686</td>\n",
       "      <td id=\"T_c856d_row7_col4\" class=\"data row7 col4\" >5.793080</td>\n",
       "      <td id=\"T_c856d_row7_col5\" class=\"data row7 col5\" >24.938207</td>\n",
       "      <td id=\"T_c856d_row7_col6\" class=\"data row7 col6\" >11.095765</td>\n",
       "      <td id=\"T_c856d_row7_col7\" class=\"data row7 col7\" >0.000000</td>\n",
       "      <td id=\"T_c856d_row7_col8\" class=\"data row7 col8\" >8.989595</td>\n",
       "    </tr>\n",
       "    <tr>\n",
       "      <th id=\"T_c856d_level0_row8\" class=\"row_heading level0 row8\" >vinohrady</th>\n",
       "      <td id=\"T_c856d_row8_col0\" class=\"data row8 col0\" >11.572726</td>\n",
       "      <td id=\"T_c856d_row8_col1\" class=\"data row8 col1\" >9.043545</td>\n",
       "      <td id=\"T_c856d_row8_col2\" class=\"data row8 col2\" >6.299750</td>\n",
       "      <td id=\"T_c856d_row8_col3\" class=\"data row8 col3\" >6.976078</td>\n",
       "      <td id=\"T_c856d_row8_col4\" class=\"data row8 col4\" >11.571782</td>\n",
       "      <td id=\"T_c856d_row8_col5\" class=\"data row8 col5\" >22.724833</td>\n",
       "      <td id=\"T_c856d_row8_col6\" class=\"data row8 col6\" >9.557223</td>\n",
       "      <td id=\"T_c856d_row8_col7\" class=\"data row8 col7\" >8.989595</td>\n",
       "      <td id=\"T_c856d_row8_col8\" class=\"data row8 col8\" >0.000000</td>\n",
       "    </tr>\n",
       "  </tbody>\n",
       "</table>\n"
      ],
      "text/plain": [
       "<pandas.io.formats.style.Styler at 0x70c2b37774a0>"
      ]
     },
     "execution_count": 171,
     "metadata": {},
     "output_type": "execute_result"
    }
   ],
   "source": [
    "neighbourhoods = X_train.loc[tess_groups.index].groupby(tess_groups.values).mean()\n",
    "print_distance(neighbourhoods, metric='euclidean')"
   ]
  },
  {
   "cell_type": "code",
   "execution_count": 172,
   "id": "d066c0e7-77fc-4bc2-8674-78bcb9256368",
   "metadata": {},
   "outputs": [],
   "source": [
    "from scipy.spatial.distance import pdist"
   ]
  },
  {
   "cell_type": "code",
   "execution_count": 173,
   "id": "e623ab43-e178-48ff-ae09-0f5ab7a3e00c",
   "metadata": {},
   "outputs": [
    {
     "name": "stdout",
     "output_type": "stream",
     "text": [
      "holyne 8.244984263448703\n",
      "housing estate 8.74870145309343\n",
      "josefov 8.553119044645014\n",
      "karlin 8.354128769765401\n",
      "mala strana 14.482514103835978\n",
      "malesice 11.533082137324413\n",
      "nusle 8.694874644400908\n",
      "stare mesto 11.430023617143105\n",
      "vinohrady 5.211477105320186\n"
     ]
    }
   ],
   "source": [
    "for i, g in X_train.loc[tess_groups.index].groupby(tess_groups.values):\n",
    "    print(i, np.median(pdist(g)))"
   ]
  },
  {
   "cell_type": "code",
   "execution_count": null,
   "id": "5a9389f2-87d4-4c07-822b-bc62957c70c1",
   "metadata": {},
   "outputs": [],
   "source": []
  },
  {
   "cell_type": "code",
   "execution_count": null,
   "id": "9f37cc17-7306-4f96-9956-51ace2b08581",
   "metadata": {},
   "outputs": [],
   "source": []
  },
  {
   "cell_type": "markdown",
   "id": "9e073ea7-b8bc-4ffa-a9e2-d90dfc31535f",
   "metadata": {},
   "source": [
    "### Tesselation filtering vs building atachment"
   ]
  },
  {
   "cell_type": "code",
   "execution_count": 4,
   "id": "57569a57-6429-4e3a-abd4-60757e76fb30",
   "metadata": {},
   "outputs": [],
   "source": [
    "import momepy as mm"
   ]
  },
  {
   "cell_type": "code",
   "execution_count": 24,
   "id": "50d37104-804e-47f9-ba79-2f83e606a687",
   "metadata": {},
   "outputs": [],
   "source": [
    "region_id = 69300\n",
    "\n",
    "tessellations_dir = '/data/uscuni-ulce/processed_data/tessellations/'\n",
    "streets_dir = '/data/uscuni-ulce/processed_data/streets/'\n",
    "buildings_dir = '/data/uscuni-ulce/processed_data/buildings/'\n",
    "\n",
    "tessellation = gpd.read_parquet(\n",
    "        tessellations_dir + f\"tessellation_{region_id}.parquet\"\n",
    ")\n",
    "streets = gpd.read_parquet(\n",
    "        streets_dir + f\"streets_{region_id}.parquet\"\n",
    ")\n",
    "buildings = gpd.read_parquet(\n",
    "        buildings_dir + f\"buildings_{region_id}.parquet\"\n",
    ")"
   ]
  },
  {
   "cell_type": "code",
   "execution_count": 6,
   "id": "b2e1b864-4c67-4d50-8ade-45b7ed62ad4a",
   "metadata": {},
   "outputs": [],
   "source": [
    "graph = mm.gdf_to_nx(streets, preserve_index=True)\n",
    "graph = mm.node_degree(graph)"
   ]
  },
  {
   "cell_type": "code",
   "execution_count": 7,
   "id": "e57240f3-b150-46ff-bd7b-a21cc9254f94",
   "metadata": {},
   "outputs": [],
   "source": [
    "import networkx as nx"
   ]
  },
  {
   "cell_type": "code",
   "execution_count": 9,
   "id": "238efe67-1cbc-449d-8f11-16111a662b4b",
   "metadata": {},
   "outputs": [
    {
     "name": "stderr",
     "output_type": "stream",
     "text": [
      "/home/krasen/libpysal/libpysal/weights/weights.py:1685: UserWarning: The weights matrix is not fully connected: \n",
      " There are 304 disconnected components.\n",
      "  w = W(neighbors, weights, ids, silence_warnings=silence_warnings)\n"
     ]
    }
   ],
   "source": [
    "nodes, edges, sw = mm.nx_to_gdf(graph, spatial_weights=True)"
   ]
  },
  {
   "cell_type": "code",
   "execution_count": 18,
   "id": "cd5db6c7-c68f-4fac-8c44-ab73f6f7ce7b",
   "metadata": {},
   "outputs": [],
   "source": []
  },
  {
   "cell_type": "code",
   "execution_count": 12,
   "id": "f228e1a5-4b3c-4763-91c9-88f1fceb4677",
   "metadata": {},
   "outputs": [
    {
     "name": "stdout",
     "output_type": "stream",
     "text": [
      "CPU times: user 16.4 s, sys: 1.98 ms, total: 16.4 s\n",
      "Wall time: 16.4 s\n"
     ]
    }
   ],
   "source": [
    "%%time\n",
    "old_tess_nid = mm.get_nearest_street(\n",
    "    tessellation, streets\n",
    ")\n"
   ]
  },
  {
   "cell_type": "code",
   "execution_count": 13,
   "id": "7938b703-56ab-4160-a0c8-7d5d64387d1b",
   "metadata": {},
   "outputs": [],
   "source": [
    "tessellation['nID'] = tess_nid\n",
    "streets[\"nID\"] = edges.index.values"
   ]
  },
  {
   "cell_type": "code",
   "execution_count": 20,
   "id": "70d5579b-cba5-4c87-9e4c-9a26a97a2023",
   "metadata": {},
   "outputs": [
    {
     "name": "stdout",
     "output_type": "stream",
     "text": [
      "CPU times: user 432 ms, sys: 18 μs, total: 432 ms\n",
      "Wall time: 431 ms\n"
     ]
    }
   ],
   "source": [
    "%%time\n",
    "old_node_id = mm.get_nearest_node(\n",
    "    tessellation, nodes, edges, tess_nid\n",
    ")"
   ]
  },
  {
   "cell_type": "code",
   "execution_count": 31,
   "id": "cb23503d-d9f9-4c3b-9f97-4c733e1cee36",
   "metadata": {},
   "outputs": [],
   "source": [
    "old_blg_nid = old_tess_nid[old_tess_nid.index >= 0]"
   ]
  },
  {
   "cell_type": "code",
   "execution_count": 32,
   "id": "6702f95c-d059-4159-a743-a37b4287f261",
   "metadata": {},
   "outputs": [],
   "source": [
    "old_blg_node_id = old_node_id[old_node_id.index >= 0]"
   ]
  },
  {
   "cell_type": "code",
   "execution_count": null,
   "id": "5c6c22c8-8cb2-4a84-bf34-7aad8114509f",
   "metadata": {},
   "outputs": [],
   "source": []
  },
  {
   "cell_type": "code",
   "execution_count": null,
   "id": "3ab6148a-649c-419d-a5ba-97f33129172b",
   "metadata": {},
   "outputs": [],
   "source": []
  },
  {
   "cell_type": "code",
   "execution_count": 25,
   "id": "b068f9dd-60b3-4638-b0a5-1dcd8f68e01c",
   "metadata": {},
   "outputs": [],
   "source": [
    "new_blg_nid = mm.get_nearest_street(\n",
    "    buildings, streets\n",
    ")"
   ]
  },
  {
   "cell_type": "code",
   "execution_count": 27,
   "id": "c288f275-49ae-4ffc-b309-7d4910f8201c",
   "metadata": {},
   "outputs": [],
   "source": [
    "new_blg_node_id = mm.get_nearest_node(\n",
    "    buildings, nodes, edges, new_blg_nid\n",
    ")"
   ]
  },
  {
   "cell_type": "code",
   "execution_count": null,
   "id": "ddd39bd5-c8f5-46b2-83ac-961ffd595665",
   "metadata": {},
   "outputs": [],
   "source": []
  },
  {
   "cell_type": "code",
   "execution_count": 35,
   "id": "4bff16aa-817d-47d0-91b5-29ff3c383cfe",
   "metadata": {},
   "outputs": [
    {
     "data": {
      "text/plain": [
       "np.float64(0.8173936013696065)"
      ]
     },
     "execution_count": 35,
     "metadata": {},
     "output_type": "execute_result"
    }
   ],
   "source": [
    "(old_blg_nid == new_blg_nid).sum() / old_blg_nid.shape[0]"
   ]
  },
  {
   "cell_type": "code",
   "execution_count": 37,
   "id": "ad931a3f-edd4-4816-ba64-671937d46ae2",
   "metadata": {},
   "outputs": [
    {
     "data": {
      "text/plain": [
       "np.float64(0.8985601744108285)"
      ]
     },
     "execution_count": 37,
     "metadata": {},
     "output_type": "execute_result"
    }
   ],
   "source": [
    "(old_blg_node_id == new_blg_node_id).sum() / new_blg_node_id.shape[0]"
   ]
  },
  {
   "cell_type": "code",
   "execution_count": null,
   "id": "2450b4f2-0af7-46e6-b4d0-a6dfa597dfb3",
   "metadata": {},
   "outputs": [],
   "source": []
  },
  {
   "cell_type": "code",
   "execution_count": null,
   "id": "b4ad15f8-cb90-4a9d-bdec-8b0a7fab2430",
   "metadata": {},
   "outputs": [],
   "source": []
  },
  {
   "cell_type": "code",
   "execution_count": null,
   "id": "5a72f1a4-2d14-4998-a5b5-3c4e167fb480",
   "metadata": {},
   "outputs": [],
   "source": []
  },
  {
   "cell_type": "code",
   "execution_count": null,
   "id": "a93128c3-563a-4a8b-87cf-a165743f8056",
   "metadata": {},
   "outputs": [],
   "source": []
  },
  {
   "cell_type": "code",
   "execution_count": null,
   "id": "f21484b4-0915-41ea-aa25-e2efe01358c7",
   "metadata": {},
   "outputs": [],
   "source": [
    "# difference between buildings and tessellation attachment"
   ]
  },
  {
   "cell_type": "code",
   "execution_count": 248,
   "id": "26936d76-7fbb-4626-808d-fdeb0a38df52",
   "metadata": {},
   "outputs": [],
   "source": [
    "blg_nid1 = tess_nid[tess_nid >= 0]"
   ]
  }
 ],
 "metadata": {
  "kernelspec": {
   "display_name": "Python 3 (ipykernel)",
   "language": "python",
   "name": "python3"
  },
  "language_info": {
   "codemirror_mode": {
    "name": "ipython",
    "version": 3
   },
   "file_extension": ".py",
   "mimetype": "text/x-python",
   "name": "python",
   "nbconvert_exporter": "python",
   "pygments_lexer": "ipython3",
   "version": "3.12.4"
  }
 },
 "nbformat": 4,
 "nbformat_minor": 5
}
