{
 "cells": [
  {
   "cell_type": "code",
   "execution_count": null,
   "id": "cf5d3841-0607-4f3b-8a7f-8cdb00d110ec",
   "metadata": {},
   "outputs": [],
   "source": []
  },
  {
   "cell_type": "code",
   "execution_count": 1,
   "id": "e2f16ad8-9dc1-4050-a187-005a0db9478f",
   "metadata": {},
   "outputs": [],
   "source": [
    "import glob\n",
    "import geopandas as gpd\n",
    "import matplotlib.pyplot as plt\n",
    "import numba\n",
    "import numpy as np\n",
    "import pandas as pd\n",
    "from libpysal.graph import read_parquet\n",
    "from sklearn.preprocessing import PowerTransformer, RobustScaler, StandardScaler"
   ]
  },
  {
   "cell_type": "code",
   "execution_count": 2,
   "id": "c7f95f69-4b46-43bd-880a-34691f79a66e",
   "metadata": {},
   "outputs": [],
   "source": [
    "from core.cluster_validation import generate_neigbhourhood_groups, colored_crosstab\n",
    "from core.utils import used_keys"
   ]
  },
  {
   "cell_type": "code",
   "execution_count": 3,
   "id": "ed3865dd-1c51-4a66-b703-8918291d88ce",
   "metadata": {},
   "outputs": [
    {
     "name": "stderr",
     "output_type": "stream",
     "text": [
      "/home/krasen/miniconda3/envs/urban_taxonomy/lib/python3.12/site-packages/numba/np/ufunc/dufunc.py:343: NumbaWarning: \u001b[1mCompilation requested for previously compiled argument types ((uint32,)). This has no effect and perhaps indicates a bug in the calling code (compiling a ufunc more than once for the same signature\u001b[0m\n",
      "  warnings.warn(msg, errors.NumbaWarning)\n",
      "/home/krasen/miniconda3/envs/urban_taxonomy/lib/python3.12/site-packages/numba/np/ufunc/dufunc.py:343: NumbaWarning: \u001b[1mCompilation requested for previously compiled argument types ((uint32,)). This has no effect and perhaps indicates a bug in the calling code (compiling a ufunc more than once for the same signature\u001b[0m\n",
      "  warnings.warn(msg, errors.NumbaWarning)\n",
      "/home/krasen/miniconda3/envs/urban_taxonomy/lib/python3.12/site-packages/numba/np/ufunc/dufunc.py:343: NumbaWarning: \u001b[1mCompilation requested for previously compiled argument types ((uint32,)). This has no effect and perhaps indicates a bug in the calling code (compiling a ufunc more than once for the same signature\u001b[0m\n",
      "  warnings.warn(msg, errors.NumbaWarning)\n"
     ]
    }
   ],
   "source": [
    "import umap\n",
    "import umap.plot\n",
    "from palettable.colorbrewer.qualitative import Set3_12\n",
    "from sklearn.metrics import davies_bouldin_score"
   ]
  },
  {
   "cell_type": "code",
   "execution_count": 4,
   "id": "e2a49e46-169a-451e-a01f-e459ccc72060",
   "metadata": {},
   "outputs": [],
   "source": [
    "region_id = 69300\n",
    "\n",
    "tessellations_dir = '/data/uscuni-ulce/processed_data/tessellations/'\n",
    "chars_dir = \"/data/uscuni-ulce/processed_data/chars/\"\n",
    "graph_dir = \"/data/uscuni-ulce/processed_data/neigh_graphs/\""
   ]
  },
  {
   "cell_type": "code",
   "execution_count": 5,
   "id": "1b5034fa-86b0-4123-9e75-a84056a5570e",
   "metadata": {},
   "outputs": [],
   "source": [
    "# region_id = 4182\n",
    "\n",
    "# tessellations_dir = graph_dir = '../data/ms_buildings/'\n",
    "# chars_dir = '../data/ms_buildings/chars/'"
   ]
  },
  {
   "cell_type": "code",
   "execution_count": 9,
   "id": "8e249d8b-efeb-4a8f-9a06-36e52177fc84",
   "metadata": {},
   "outputs": [],
   "source": [
    "region_id = 'freiburg'\n",
    "\n",
    "tessellations_dir = graph_dir = '../data/freiburg//'\n",
    "chars_dir = '../data/freiburg/chars/'"
   ]
  },
  {
   "cell_type": "code",
   "execution_count": null,
   "id": "7d57ea70-5056-4ac8-b5e3-d532c59a8df1",
   "metadata": {},
   "outputs": [],
   "source": []
  },
  {
   "cell_type": "code",
   "execution_count": 10,
   "id": "79f66169-603e-4df1-b1bc-08931601a951",
   "metadata": {},
   "outputs": [],
   "source": [
    "primary = pd.read_parquet(chars_dir + f'primary_chars_{region_id}.parquet')"
   ]
  },
  {
   "cell_type": "code",
   "execution_count": 11,
   "id": "9af9b0d6-604e-4cb6-b80e-632df3a4e835",
   "metadata": {},
   "outputs": [],
   "source": [
    "tessellation = gpd.read_parquet(\n",
    "        tessellations_dir + f\"tessellation_{region_id}.parquet\"\n",
    ")"
   ]
  },
  {
   "cell_type": "code",
   "execution_count": null,
   "id": "529713a5-3542-4df8-aaeb-a14581b69eb7",
   "metadata": {},
   "outputs": [],
   "source": []
  },
  {
   "cell_type": "code",
   "execution_count": 12,
   "id": "70f7fb1a-3cab-45a5-80d0-f9bcff03f594",
   "metadata": {},
   "outputs": [],
   "source": [
    "# import lonboard\n",
    "# layer = lonboard.PolygonLayer.from_geopandas(tessellation, opacity=0.15)\n",
    "# m = lonboard.Map([layer])\n",
    "# m"
   ]
  },
  {
   "cell_type": "code",
   "execution_count": null,
   "id": "b100e7b3-b885-4ea8-898a-cfc58dd9ea03",
   "metadata": {},
   "outputs": [],
   "source": []
  },
  {
   "cell_type": "markdown",
   "id": "965ac26c-8186-467d-94b0-eb26d2dd3938",
   "metadata": {},
   "source": [
    "### Generate context"
   ]
  },
  {
   "cell_type": "code",
   "execution_count": null,
   "id": "c4aa2eec-dec3-4f11-bcd5-deabf319d55f",
   "metadata": {},
   "outputs": [],
   "source": []
  },
  {
   "cell_type": "code",
   "execution_count": 13,
   "id": "d2c6dadb-cd85-408f-911c-c6186acdcc95",
   "metadata": {},
   "outputs": [],
   "source": [
    "@numba.njit(parallel=True)\n",
    "def numba_limit_range(rows, cols, partial_vals, output_vals):\n",
    "    # print(partial_vals)\n",
    "    ngroups = int(rows[-1]) + 1\n",
    "    nrows = rows.shape[0]\n",
    "    result = np.empty((ngroups, partial_vals.shape[1] * output_vals))\n",
    "\n",
    "    istart = 0\n",
    "    for g in range(ngroups):\n",
    "        # # find focal start\n",
    "        # istart = 0\n",
    "        # while istart < nrows and rows[istart] != g:\n",
    "        #     istart += 1\n",
    "\n",
    "        # find neighbors\n",
    "        iend = istart + 1\n",
    "        while iend < nrows and rows[iend - 1] == rows[iend]:\n",
    "            iend += 1\n",
    "\n",
    "        ## for every column apply iqr and percentiles\n",
    "        for c in numba.prange(partial_vals.shape[1]):\n",
    "            col_vals = partial_vals[cols[istart:iend], c]\n",
    "            res_index = output_vals * c\n",
    "\n",
    "            if np.isnan(col_vals).all():\n",
    "                result[g, res_index] = np.nan\n",
    "                result[g, res_index + 1] = np.nan\n",
    "                result[g, res_index + 2] = np.nan\n",
    "                continue\n",
    "\n",
    "            lower, med, higher = np.nanpercentile(col_vals, (10, 50, 90))\n",
    "            result[g, res_index] = lower\n",
    "            result[g, res_index + 1] = med\n",
    "            result[g, res_index + 2] = higher\n",
    "\n",
    "        # # go to next group\n",
    "        istart = iend\n",
    "    return result"
   ]
  },
  {
   "cell_type": "code",
   "execution_count": 14,
   "id": "9b7a94b6-803a-4732-af5e-40d37978502f",
   "metadata": {},
   "outputs": [],
   "source": [
    "def parallel_higher_order_context(df, graph, k, n_splits, output_vals):\n",
    "    A = graph.transform(\"B\").sparse\n",
    "    ids = graph.unique_ids.values\n",
    "    rows = np.arange(A.shape[0])\n",
    "    values = df.values\n",
    "\n",
    "    final_result = pd.DataFrame(\n",
    "        np.empty((values.shape[0], values.shape[1] * output_vals)), index=ids\n",
    "    )\n",
    "\n",
    "    for source in np.array_split(rows, n_splits):\n",
    "        Q = A[source, :].copy()\n",
    "        for _ in range(1, k):\n",
    "            next_step = Q @ A\n",
    "            Q += next_step\n",
    "\n",
    "        sparray = Q.tocoo(copy=False)\n",
    "        sorter = sparray.row.argsort()\n",
    "        unique_tail = np.unique(sparray.col)\n",
    "        partial_vals = values[unique_tail, :]\n",
    "\n",
    "        cols_dict = pd.Series(np.arange(len(unique_tail)), index=unique_tail)\n",
    "        columns_to_pass = cols_dict.loc[sparray.col].values\n",
    "        rows_to_pass = sparray.row[sorter]\n",
    "\n",
    "        partial_res = numba_limit_range(\n",
    "            rows_to_pass, columns_to_pass, partial_vals, output_vals\n",
    "        )\n",
    "\n",
    "        final_result.iloc[source, :] = partial_res\n",
    "\n",
    "    return final_result"
   ]
  },
  {
   "cell_type": "code",
   "execution_count": null,
   "id": "cc27b6a5-7422-4518-93f4-aecd762156e6",
   "metadata": {},
   "outputs": [],
   "source": []
  },
  {
   "cell_type": "code",
   "execution_count": null,
   "id": "75ea54e8-4c00-4886-be20-ed43ff17fd4a",
   "metadata": {},
   "outputs": [],
   "source": []
  },
  {
   "cell_type": "code",
   "execution_count": 15,
   "id": "079686c4-55c8-481d-8a1b-ef6b65ffc449",
   "metadata": {},
   "outputs": [],
   "source": [
    "graph = read_parquet(graph_dir + f\"tessellation_graph_{region_id}_knn1.parquet\")"
   ]
  },
  {
   "cell_type": "code",
   "execution_count": null,
   "id": "a822e0a5-fc30-48fd-abbf-04432f20433b",
   "metadata": {},
   "outputs": [],
   "source": []
  },
  {
   "cell_type": "code",
   "execution_count": null,
   "id": "e298526c-c4af-4e87-b5f8-09ea4da34dbc",
   "metadata": {},
   "outputs": [],
   "source": []
  },
  {
   "cell_type": "code",
   "execution_count": 16,
   "id": "c8be2975-1345-4771-801f-4f4367e10300",
   "metadata": {},
   "outputs": [],
   "source": [
    "## Discard disconnected components and focus on a single component only.\n",
    "## doesnt make a big difference."
   ]
  },
  {
   "cell_type": "code",
   "execution_count": 17,
   "id": "c87d1c8a-f31d-4756-a9d0-51868abea460",
   "metadata": {},
   "outputs": [
    {
     "data": {
      "text/plain": [
       "component labels\n",
       "0     35118\n",
       "9       776\n",
       "10      636\n",
       "2        81\n",
       "3        20\n",
       "14       17\n",
       "23       16\n",
       "6        14\n",
       "13        8\n",
       "11        7\n",
       "21        5\n",
       "5         4\n",
       "15        4\n",
       "8         3\n",
       "7         2\n",
       "24        2\n",
       "4         2\n",
       "26        2\n",
       "1         2\n",
       "17        1\n",
       "19        1\n",
       "20        1\n",
       "16        1\n",
       "22        1\n",
       "12        1\n",
       "25        1\n",
       "18        1\n",
       "Name: count, dtype: int64"
      ]
     },
     "execution_count": 17,
     "metadata": {},
     "output_type": "execute_result"
    }
   ],
   "source": [
    "graph.component_labels.value_counts()"
   ]
  },
  {
   "cell_type": "code",
   "execution_count": null,
   "id": "6a95fdf0-bed4-4372-b8d7-69028c1c91b2",
   "metadata": {},
   "outputs": [],
   "source": []
  },
  {
   "cell_type": "code",
   "execution_count": null,
   "id": "30ee480d-fe53-4aaa-bb0d-89eadf65baaa",
   "metadata": {},
   "outputs": [],
   "source": []
  },
  {
   "cell_type": "code",
   "execution_count": null,
   "id": "adad1712-34a8-4622-a798-1cadeb6cf89e",
   "metadata": {},
   "outputs": [],
   "source": []
  },
  {
   "cell_type": "markdown",
   "id": "479a8067-0172-44da-b23f-96217b7148ef",
   "metadata": {},
   "source": [
    "cluster only the data from the first component"
   ]
  },
  {
   "cell_type": "code",
   "execution_count": 18,
   "id": "0bcd5701-923c-4043-9206-bfac0b24d7c1",
   "metadata": {},
   "outputs": [],
   "source": [
    "# data = primary.loc[component_labels]\n",
    "# data_graph = graph.subgraph(component_labels)\n",
    "# component_labels = graph.component_labels.copy()\n",
    "# component_labels = component_labels[component_labels == 0].index.values"
   ]
  },
  {
   "cell_type": "code",
   "execution_count": null,
   "id": "cbd79e02-5b0f-4111-9e1b-e695630cd542",
   "metadata": {},
   "outputs": [],
   "source": []
  },
  {
   "cell_type": "markdown",
   "id": "57f7e2b2-05ca-4c59-adf6-22fb509687ab",
   "metadata": {},
   "source": [
    "cluster only buildings tessellation cells"
   ]
  },
  {
   "cell_type": "code",
   "execution_count": 19,
   "id": "ff90a944-a237-45f1-afdf-b33086fdd252",
   "metadata": {},
   "outputs": [],
   "source": [
    "# data = primary.loc[primary.index >= 0]\n",
    "# data_graph = graph.subgraph(graph.unique_ids[graph.unique_ids >= 0])"
   ]
  },
  {
   "cell_type": "code",
   "execution_count": null,
   "id": "1263ea04-89e5-4bda-a61d-e1bba7eba33a",
   "metadata": {},
   "outputs": [],
   "source": []
  },
  {
   "cell_type": "code",
   "execution_count": 20,
   "id": "5fd7118f-7ccc-43c1-bd56-889550e069a1",
   "metadata": {},
   "outputs": [],
   "source": [
    "data = primary\n",
    "data_graph = graph"
   ]
  },
  {
   "cell_type": "code",
   "execution_count": 21,
   "id": "562e6f31-506a-4edf-9bb8-ecb0172348d4",
   "metadata": {},
   "outputs": [
    {
     "data": {
      "text/plain": [
       "3"
      ]
     },
     "execution_count": 21,
     "metadata": {},
     "output_type": "execute_result"
    }
   ],
   "source": [
    "spatial_lag = 3\n",
    "spatial_lag"
   ]
  },
  {
   "cell_type": "code",
   "execution_count": 22,
   "id": "b1d8455d-3082-4871-9717-e8289e292bfd",
   "metadata": {},
   "outputs": [
    {
     "name": "stdout",
     "output_type": "stream",
     "text": [
      "CPU times: user 21.6 s, sys: 1.52 s, total: 23.1 s\n",
      "Wall time: 6.11 s\n"
     ]
    }
   ],
   "source": [
    "%%time\n",
    "context = parallel_higher_order_context(\n",
    "    data, data_graph, k=spatial_lag, n_splits=10, output_vals=3\n",
    ")"
   ]
  },
  {
   "cell_type": "code",
   "execution_count": 23,
   "id": "f3f67f99-f63d-4d72-bb19-363b60e34fba",
   "metadata": {},
   "outputs": [],
   "source": [
    "context.columns = np.concatenate(\n",
    "    [(c + \"_lower\", c + \"_median\", c + \"_higher\") for c in primary.columns]\n",
    ")"
   ]
  },
  {
   "cell_type": "code",
   "execution_count": 24,
   "id": "fddb8636-af63-48c9-97ef-b1268b03ee1b",
   "metadata": {},
   "outputs": [],
   "source": [
    "# context.to_parquet(f'../data/freiburg/unprocessed_context_chars_{region_id}_lag_{spatial_lag}.parquet')"
   ]
  },
  {
   "cell_type": "code",
   "execution_count": 25,
   "id": "38f8a5a7-bd21-4c04-8fb6-0e4265957c59",
   "metadata": {},
   "outputs": [],
   "source": [
    "context.to_parquet(f'/data/uscuni-ulce/processed_data/context_data/unprocessed_context_chars_{region_id}_lag_{spatial_lag}.parquet')"
   ]
  },
  {
   "cell_type": "code",
   "execution_count": null,
   "id": "4fbdeb1c-5742-473b-9197-c0d9ebd5c5a7",
   "metadata": {},
   "outputs": [],
   "source": []
  },
  {
   "cell_type": "code",
   "execution_count": null,
   "id": "006c592c-5812-49d7-a4f1-5319e3c2b255",
   "metadata": {},
   "outputs": [],
   "source": []
  },
  {
   "cell_type": "code",
   "execution_count": null,
   "id": "538e4a81-0c71-488e-87fc-527b79a037e9",
   "metadata": {},
   "outputs": [],
   "source": [
    "# X = context"
   ]
  },
  {
   "cell_type": "code",
   "execution_count": null,
   "id": "ecb812ad-0f48-4b61-b876-064cb0975d7d",
   "metadata": {},
   "outputs": [],
   "source": [
    "# higher = graph.higher_order(k=3, lower_order=True, diagonal=True)\n",
    "# r = higher.describe(primary['sdbAre'], statistics=['median'])['median']\n",
    "# from pandas.testing import assert_series_equal\n",
    "# assert_series_equal(context['sdbAre_median'], r, check_names=False)\n",
    "\n",
    "# r.duplicated().sum()"
   ]
  },
  {
   "cell_type": "code",
   "execution_count": null,
   "id": "99b64b36-9025-41c5-8aea-6812ffc9b010",
   "metadata": {},
   "outputs": [],
   "source": []
  },
  {
   "cell_type": "markdown",
   "id": "6a2a0403-8626-47be-9a4c-7606a798bb1b",
   "metadata": {
    "jp-MarkdownHeadingCollapsed": true
   },
   "source": [
    "### Data preprocessing"
   ]
  },
  {
   "cell_type": "code",
   "execution_count": null,
   "id": "585e5c64-66cf-423a-a1a0-50ccafc7d91c",
   "metadata": {},
   "outputs": [],
   "source": []
  },
  {
   "cell_type": "code",
   "execution_count": null,
   "id": "2c2fcb71-39f6-4770-85fc-7ff4ce999593",
   "metadata": {},
   "outputs": [],
   "source": []
  },
  {
   "cell_type": "code",
   "execution_count": null,
   "id": "8aa27cb4-7a8d-4fd5-9b93-2e0c35ee3997",
   "metadata": {},
   "outputs": [],
   "source": [
    "tess_groups = generate_validation_groups(tessellation, include_random_sample=True)\n",
    "\n",
    "def check_score(data, example_clusters):\n",
    "    groups = example_clusters[example_clusters.index.isin(data.index)]\n",
    "    groups_ilocs = (\n",
    "        pd.Series(np.arange(len(data)), index=data.index).loc[groups.index].values\n",
    "    )\n",
    "    return davies_bouldin_score(data.iloc[groups_ilocs], groups.values)"
   ]
  },
  {
   "cell_type": "code",
   "execution_count": null,
   "id": "1bf13dc5-f1d8-45ac-b2fe-bdd9ab9c3f33",
   "metadata": {},
   "outputs": [],
   "source": []
  },
  {
   "cell_type": "code",
   "execution_count": null,
   "id": "30d10c4b-1547-4545-9ef5-2238e4f9edff",
   "metadata": {},
   "outputs": [],
   "source": [
    "## no spatial lag\n",
    "X = np.nan_to_num(StandardScaler().fit_transform(data))\n",
    "X = pd.DataFrame(X, columns=data.columns, index=data.index)\n",
    "check_score(X, tess_groups)"
   ]
  },
  {
   "cell_type": "code",
   "execution_count": null,
   "id": "8f7c4c4f-45d9-4d65-ab47-c877acffda16",
   "metadata": {},
   "outputs": [],
   "source": [
    "## no spatial lag\n",
    "X = np.nan_to_num(RobustScaler().fit_transform(data))\n",
    "X = pd.DataFrame(X, columns=data.columns, index=data.index)\n",
    "check_score(X, tess_groups)"
   ]
  },
  {
   "cell_type": "code",
   "execution_count": null,
   "id": "1ef537a5-5077-4b7c-8ab4-63e24306e8e3",
   "metadata": {},
   "outputs": [],
   "source": [
    "## no spatial lag\n",
    "X = np.nan_to_num(PowerTransformer().fit_transform(data))\n",
    "X = pd.DataFrame(X, columns=data.columns, index=data.index)\n",
    "check_score(X, tess_groups)"
   ]
  },
  {
   "cell_type": "code",
   "execution_count": null,
   "id": "7612456d-b2bc-4a43-8ce8-9e97d0b616c8",
   "metadata": {},
   "outputs": [],
   "source": []
  },
  {
   "cell_type": "code",
   "execution_count": null,
   "id": "391f4c28-8ccf-461d-930a-b21465b08224",
   "metadata": {},
   "outputs": [],
   "source": []
  },
  {
   "cell_type": "code",
   "execution_count": null,
   "id": "906669c9-263b-4468-8d7a-e767e4661360",
   "metadata": {},
   "outputs": [],
   "source": []
  },
  {
   "cell_type": "code",
   "execution_count": null,
   "id": "aa8ac120-5cda-456d-8003-a581117efc26",
   "metadata": {},
   "outputs": [],
   "source": []
  },
  {
   "cell_type": "code",
   "execution_count": null,
   "id": "a07d78bb-91eb-4b2e-be12-52719a602496",
   "metadata": {},
   "outputs": [],
   "source": [
    "### only medians"
   ]
  },
  {
   "cell_type": "code",
   "execution_count": null,
   "id": "270ffc68-5042-4db4-b9e1-4adbd01c2e5a",
   "metadata": {},
   "outputs": [],
   "source": [
    "X = np.nan_to_num(\n",
    "    StandardScaler().fit_transform(\n",
    "        context.loc[:, context.columns.str.endswith(\"_median\")]\n",
    "    )\n",
    ")\n",
    "X = pd.DataFrame(\n",
    "    X,\n",
    "    columns=context.loc[:, context.columns.str.endswith(\"_median\")].columns,\n",
    "    index=context.loc[:, context.columns.str.endswith(\"_median\")].index,\n",
    ")\n",
    "check_score(X, tess_groups)"
   ]
  },
  {
   "cell_type": "code",
   "execution_count": null,
   "id": "b53accce-7526-4587-95bf-d1d32f1c2e97",
   "metadata": {},
   "outputs": [],
   "source": [
    "X = np.nan_to_num(\n",
    "    RobustScaler().fit_transform(\n",
    "        context.loc[:, context.columns.str.endswith(\"_median\")]\n",
    "    )\n",
    ")\n",
    "X = pd.DataFrame(\n",
    "    X,\n",
    "    columns=context.loc[:, context.columns.str.endswith(\"_median\")].columns,\n",
    "    index=context.loc[:, context.columns.str.endswith(\"_median\")].index,\n",
    ")\n",
    "check_score(X, tess_groups)"
   ]
  },
  {
   "cell_type": "code",
   "execution_count": null,
   "id": "84aa2fb7-e162-4c7a-8ddd-cee92e09fa45",
   "metadata": {},
   "outputs": [],
   "source": [
    "X = np.nan_to_num(\n",
    "    PowerTransformer().fit_transform(\n",
    "        context.loc[:, context.columns.str.endswith(\"_median\")] + 1\n",
    "    )\n",
    ")\n",
    "X = pd.DataFrame(\n",
    "    X,\n",
    "    columns=context.loc[:, context.columns.str.endswith(\"_median\")].columns,\n",
    "    index=context.loc[:, context.columns.str.endswith(\"_median\")].index,\n",
    ")\n",
    "check_score(X, tess_groups)"
   ]
  },
  {
   "cell_type": "code",
   "execution_count": null,
   "id": "a896c392-cebf-4ba8-ae60-f4b5dd4f6a98",
   "metadata": {},
   "outputs": [],
   "source": [
    "## clip medians to -10, 10 standard deviations\n",
    "X = np.nan_to_num(\n",
    "    StandardScaler().fit_transform(\n",
    "        context.loc[:, context.columns.str.endswith(\"_median\")]\n",
    "    )\n",
    ")\n",
    "X = pd.DataFrame(\n",
    "    X,\n",
    "    columns=context.loc[:, context.columns.str.endswith(\"_median\")].columns,\n",
    "    index=context.loc[:, context.columns.str.endswith(\"_median\")].index,\n",
    ")\n",
    "X = X.clip(-10, 10)\n",
    "check_score(X, tess_groups)"
   ]
  },
  {
   "cell_type": "code",
   "execution_count": null,
   "id": "963ebd30-7ee6-40f3-9142-916e600879a3",
   "metadata": {},
   "outputs": [],
   "source": []
  },
  {
   "cell_type": "code",
   "execution_count": null,
   "id": "7f25b1f6-5d6a-4154-9549-11735942ea1d",
   "metadata": {},
   "outputs": [],
   "source": [
    "# all features with lag"
   ]
  },
  {
   "cell_type": "code",
   "execution_count": null,
   "id": "d78dc10a-8908-44aa-8e86-c66879fc9235",
   "metadata": {},
   "outputs": [],
   "source": [
    "# no standardisation\n",
    "X = np.nan_to_num(context)\n",
    "X = pd.DataFrame(X, columns=context.columns, index=context.index)\n",
    "check_score(X, tess_groups)"
   ]
  },
  {
   "cell_type": "code",
   "execution_count": null,
   "id": "ca20fc40-a450-4b3f-be27-ea2bd06fa89a",
   "metadata": {},
   "outputs": [],
   "source": []
  },
  {
   "cell_type": "code",
   "execution_count": null,
   "id": "5eb1fe5f-9662-46e9-9e4c-b63b5a1252ea",
   "metadata": {},
   "outputs": [],
   "source": [
    "X = np.nan_to_num(StandardScaler().fit_transform(context))\n",
    "X = pd.DataFrame(X, columns=context.columns, index=context.index)\n",
    "check_score(X, tess_groups)"
   ]
  },
  {
   "cell_type": "code",
   "execution_count": null,
   "id": "05208e85-3738-4875-97d5-42ac57ee2eb7",
   "metadata": {},
   "outputs": [],
   "source": []
  },
  {
   "cell_type": "code",
   "execution_count": null,
   "id": "dd87b866-9edc-41b8-9fa3-bb7aaa624b7a",
   "metadata": {},
   "outputs": [],
   "source": [
    "X = np.nan_to_num(RobustScaler().fit_transform(context))\n",
    "X = pd.DataFrame(X, columns=context.columns, index=context.index)\n",
    "check_score(X, tess_groups)"
   ]
  },
  {
   "cell_type": "code",
   "execution_count": null,
   "id": "cddc6bcf-8bbf-4bcf-a1ee-9d271d01b7aa",
   "metadata": {},
   "outputs": [],
   "source": []
  },
  {
   "cell_type": "code",
   "execution_count": null,
   "id": "d7e7079f-072b-47f4-8c63-38fc88c121ac",
   "metadata": {},
   "outputs": [],
   "source": [
    "X = np.nan_to_num(PowerTransformer().fit_transform(context + 1))\n",
    "X = pd.DataFrame(X, columns=context.columns, index=context.index)\n",
    "check_score(X, tess_groups)"
   ]
  },
  {
   "cell_type": "code",
   "execution_count": null,
   "id": "54cc3c5d-ac7f-429e-843a-0c57fe58ebfc",
   "metadata": {},
   "outputs": [],
   "source": []
  },
  {
   "cell_type": "code",
   "execution_count": null,
   "id": "63575a69-c276-4bf9-a711-84034ca739dd",
   "metadata": {},
   "outputs": [],
   "source": [
    "## clip to -10, 10 standard deviations\n",
    "X = np.nan_to_num(StandardScaler().fit_transform(context))\n",
    "X = pd.DataFrame(X, columns=context.columns, index=context.index)\n",
    "X = X.clip(-10, 10)\n",
    "check_score(X, tess_groups)"
   ]
  },
  {
   "cell_type": "code",
   "execution_count": null,
   "id": "664c1d2b-3e3c-43ec-8055-8a9df1dc23a6",
   "metadata": {},
   "outputs": [],
   "source": []
  },
  {
   "cell_type": "code",
   "execution_count": null,
   "id": "d851bfb9-13d6-4f8a-acda-44b66f7d4419",
   "metadata": {},
   "outputs": [],
   "source": []
  },
  {
   "cell_type": "code",
   "execution_count": null,
   "id": "ca2896e2-e5f1-4ff0-87d1-efe55d3460f9",
   "metadata": {},
   "outputs": [],
   "source": [
    "context[\"sdbAre_lower\"].describe()"
   ]
  },
  {
   "cell_type": "code",
   "execution_count": null,
   "id": "61ce6e2b-9a9a-45c5-b144-2d3a8e6f8015",
   "metadata": {},
   "outputs": [],
   "source": [
    "desc = X.describe()"
   ]
  },
  {
   "cell_type": "code",
   "execution_count": null,
   "id": "9e765328-ac7d-445b-96ef-fd79575819b1",
   "metadata": {},
   "outputs": [],
   "source": [
    "desc.loc[[\"25%\", \"50%\", \"75%\", \"max\"]]"
   ]
  },
  {
   "cell_type": "code",
   "execution_count": null,
   "id": "cc664a5f-78cd-4f9c-8553-89795904e089",
   "metadata": {},
   "outputs": [],
   "source": []
  },
  {
   "cell_type": "code",
   "execution_count": null,
   "id": "9021a0d2-edaa-4e1a-a253-db137ca51c29",
   "metadata": {},
   "outputs": [],
   "source": []
  },
  {
   "cell_type": "code",
   "execution_count": null,
   "id": "5d50bd11-b624-4269-a43c-6dfb21d46894",
   "metadata": {},
   "outputs": [],
   "source": []
  },
  {
   "cell_type": "code",
   "execution_count": null,
   "id": "74fa21e0-c2f8-4b8b-ae76-a2edc7f62ffa",
   "metadata": {},
   "outputs": [],
   "source": [
    "corrs = context.corr().abs()\n",
    "upper = corrs.where(np.triu(np.ones(corrs.shape), k=1).astype(bool))"
   ]
  },
  {
   "cell_type": "code",
   "execution_count": null,
   "id": "5a46038e-0c72-4fcb-8f4a-c4e2c4390b7d",
   "metadata": {},
   "outputs": [],
   "source": [
    "corrs_to_drop = [column for column in upper.columns if any(upper[column] > 0.95)]\n",
    "corrs_to_drop"
   ]
  },
  {
   "cell_type": "code",
   "execution_count": null,
   "id": "52b16b44-fc07-43a3-b138-8e7d339cb5a7",
   "metadata": {},
   "outputs": [],
   "source": [
    "X_no_corr = X.drop(columns=corrs_to_drop)\n",
    "X_no_corr.shape, check_score(X_no_corr, tess_groups)"
   ]
  },
  {
   "cell_type": "code",
   "execution_count": null,
   "id": "61c9a3a8-c0b4-48ed-a1b7-cf1f7bddd948",
   "metadata": {},
   "outputs": [],
   "source": []
  },
  {
   "cell_type": "code",
   "execution_count": null,
   "id": "4a8d975d-8e10-4413-a22c-1d620d090076",
   "metadata": {},
   "outputs": [],
   "source": [
    "# corrs_to_drop = []\n",
    "# X_no_corr = X.drop(columns=corrs_to_drop)\n",
    "# X_no_corr.shape, check_score(X_no_corr, tess_groups)"
   ]
  },
  {
   "cell_type": "code",
   "execution_count": null,
   "id": "513d9d5d-42f3-4fdf-ac40-33ec217fda03",
   "metadata": {},
   "outputs": [],
   "source": []
  },
  {
   "cell_type": "code",
   "execution_count": null,
   "id": "464b01f7-acf3-4b9c-95cb-e885bb17721f",
   "metadata": {},
   "outputs": [],
   "source": [
    "# X.describe()"
   ]
  },
  {
   "cell_type": "code",
   "execution_count": null,
   "id": "220e806f-7b14-4d93-a411-ca384db176cb",
   "metadata": {},
   "outputs": [],
   "source": []
  },
  {
   "cell_type": "code",
   "execution_count": null,
   "id": "a2a47987-7535-4e6a-ad86-ea53e21a1b0a",
   "metadata": {},
   "outputs": [],
   "source": []
  },
  {
   "cell_type": "code",
   "execution_count": null,
   "id": "ead72742-a55a-4263-86cc-45cb513e6db5",
   "metadata": {},
   "outputs": [],
   "source": [
    "desc = X_no_corr.describe()\n",
    "to_drop = desc.columns[(desc.loc[\"max\"] - desc.loc[\"min\"]) < 0.5].values\n",
    "to_drop"
   ]
  },
  {
   "cell_type": "code",
   "execution_count": null,
   "id": "0754b95e-3216-4056-b002-af51571f6d1a",
   "metadata": {},
   "outputs": [],
   "source": [
    "X_different = X_no_corr.drop(columns=to_drop)\n",
    "X_different.shape, check_score(X_different, tess_groups)"
   ]
  },
  {
   "cell_type": "code",
   "execution_count": null,
   "id": "28a7e6c7-a622-43ca-a8a9-b2a1eb515ebf",
   "metadata": {},
   "outputs": [],
   "source": []
  },
  {
   "cell_type": "code",
   "execution_count": null,
   "id": "3a5e6704-fad9-408f-a46d-ca063afd5939",
   "metadata": {},
   "outputs": [],
   "source": []
  },
  {
   "cell_type": "code",
   "execution_count": null,
   "id": "340b5edd-81ef-4f45-afa1-350c61b3d203",
   "metadata": {},
   "outputs": [],
   "source": [
    "X_no_duplicates = X_different[~X_different.duplicated()]\n",
    "X_no_duplicates.shape, check_score(X_no_duplicates, tess_groups)"
   ]
  },
  {
   "cell_type": "code",
   "execution_count": null,
   "id": "54881145-d19e-49d9-a0e3-5f7085ac8c54",
   "metadata": {},
   "outputs": [],
   "source": []
  },
  {
   "cell_type": "code",
   "execution_count": null,
   "id": "70e3b019-6f24-4337-8f25-d7cc2107229b",
   "metadata": {},
   "outputs": [],
   "source": [
    "# tessellation[X_different.duplicated(keep=False)].explore()"
   ]
  },
  {
   "cell_type": "code",
   "execution_count": null,
   "id": "49657c69-06d9-404b-9981-63aab6d9dd46",
   "metadata": {},
   "outputs": [],
   "source": [
    "# plotting = tessellation.loc[X_different[X_different.duplicated(keep=False)].index.values]\n",
    "# plotting['sdbAre_lower'] = X_different[X_different.duplicated(keep=False)]['sdbAre_lower']\n",
    "# plotting = plotting.sort_values('sdbAre_lower')\n",
    "# plotting['sdbAre_lower']"
   ]
  },
  {
   "cell_type": "code",
   "execution_count": null,
   "id": "44622401-9707-43f2-abfe-fef297d1c582",
   "metadata": {},
   "outputs": [],
   "source": []
  },
  {
   "cell_type": "code",
   "execution_count": null,
   "id": "6c4c437c-bc15-44b3-b659-e46b3a7829e7",
   "metadata": {},
   "outputs": [],
   "source": [
    "# layer = PolygonLayer.from_geopandas(\n",
    "#     gdf=plotting.reset_index()[['geometry', 'index', 'sdbAre_lower']],\n",
    "#     opacity=.15\n",
    "# )\n",
    "# m = Map(layer, basemap_style=CartoBasemap.Positron)\n",
    "# m"
   ]
  },
  {
   "cell_type": "code",
   "execution_count": null,
   "id": "8b9fffe0-dc42-4676-94ce-3970e0f5a6fb",
   "metadata": {},
   "outputs": [],
   "source": [
    "# tessellation.loc[graph[250196].index.values].reset_index().explore()"
   ]
  },
  {
   "cell_type": "code",
   "execution_count": null,
   "id": "e84a88b5-50b3-4272-aff5-a146d50e8306",
   "metadata": {},
   "outputs": [],
   "source": []
  },
  {
   "cell_type": "code",
   "execution_count": null,
   "id": "5f0aa24d-9089-4131-a512-3c61ae32a874",
   "metadata": {},
   "outputs": [],
   "source": []
  },
  {
   "cell_type": "code",
   "execution_count": null,
   "id": "fc59b7f4-aea9-4d3a-bd58-63a70d6a59fa",
   "metadata": {},
   "outputs": [],
   "source": [
    "# tessellation.loc[higher[21149].index.values, ].explore()"
   ]
  },
  {
   "cell_type": "code",
   "execution_count": null,
   "id": "5346b033-49da-4721-8500-1ae4123a6b01",
   "metadata": {},
   "outputs": [],
   "source": []
  },
  {
   "cell_type": "code",
   "execution_count": null,
   "id": "c629e4a9-ec44-4eb4-adcd-32d66d0cca34",
   "metadata": {},
   "outputs": [],
   "source": [
    "# tessellation.loc[higher[271717].index.values, ].explore()"
   ]
  },
  {
   "cell_type": "code",
   "execution_count": null,
   "id": "00d3fa16-6d75-497c-89c5-d17ae0670061",
   "metadata": {},
   "outputs": [],
   "source": []
  },
  {
   "cell_type": "code",
   "execution_count": null,
   "id": "d7c8b133-766d-4cf9-bd0e-7bc16990abe2",
   "metadata": {},
   "outputs": [],
   "source": [
    "# higher = graph.higher_order(k=3, lower_order=True, diagonal=True)"
   ]
  },
  {
   "cell_type": "code",
   "execution_count": null,
   "id": "2ecf4292-050f-441d-8788-193025aa3676",
   "metadata": {},
   "outputs": [],
   "source": [
    "# primary.loc[higher[271717].index.values, 'sdbAre'].median(), primary.loc[higher[271714].index.values, 'sdbAre'].median()"
   ]
  },
  {
   "cell_type": "code",
   "execution_count": null,
   "id": "2bd19f21-4c9a-4f55-8ed7-bd57809a9aab",
   "metadata": {},
   "outputs": [],
   "source": [
    "# primary.loc[higher[271717].index.values, 'sdbAre'].describe()"
   ]
  },
  {
   "cell_type": "code",
   "execution_count": null,
   "id": "7c737cb3-3fd3-4f47-b2b9-b17010cf119f",
   "metadata": {},
   "outputs": [],
   "source": [
    "# primary.loc[higher[271714].index.values, 'sdbAre'].describe()"
   ]
  },
  {
   "cell_type": "code",
   "execution_count": null,
   "id": "a5880b30-00b8-4295-9782-c92b506cc661",
   "metadata": {},
   "outputs": [],
   "source": []
  },
  {
   "cell_type": "code",
   "execution_count": null,
   "id": "4b2bb1d3-8eac-4ae2-af90-5e0994f3ef2f",
   "metadata": {},
   "outputs": [],
   "source": []
  },
  {
   "cell_type": "code",
   "execution_count": null,
   "id": "fb0f08cd-8d7b-4473-85e5-31ca1684ed27",
   "metadata": {},
   "outputs": [],
   "source": []
  },
  {
   "cell_type": "code",
   "execution_count": null,
   "id": "57889088-6d2a-4af5-a599-6d37cf47fd9f",
   "metadata": {},
   "outputs": [],
   "source": [
    "# r = dict([])\n",
    "# for idx in higher[271717].index.values:\n",
    "#     r[idx] = (primary.loc[higher[idx].index.values, 'sdbAre'].median())"
   ]
  },
  {
   "cell_type": "code",
   "execution_count": null,
   "id": "9efde9ff-7278-401c-9abb-b31942b8e529",
   "metadata": {},
   "outputs": [],
   "source": [
    "# dict(sorted(r.items(), key=lambda item: item[1]))"
   ]
  },
  {
   "cell_type": "code",
   "execution_count": null,
   "id": "37138e18-14ea-416c-ad72-8a122f5d3cf6",
   "metadata": {},
   "outputs": [],
   "source": []
  },
  {
   "cell_type": "code",
   "execution_count": null,
   "id": "82f2eba0-9f8f-45cc-9b04-bb0ecbcaf885",
   "metadata": {},
   "outputs": [],
   "source": []
  },
  {
   "cell_type": "code",
   "execution_count": null,
   "id": "755e2311-d2f8-4870-9ffe-3c7a6a0764f6",
   "metadata": {},
   "outputs": [],
   "source": []
  },
  {
   "cell_type": "code",
   "execution_count": null,
   "id": "8fa64274-6a1a-49e6-8d84-bc5612c15970",
   "metadata": {},
   "outputs": [],
   "source": [
    "# remove singletons"
   ]
  },
  {
   "cell_type": "code",
   "execution_count": null,
   "id": "9245f83c-ba53-4878-a5c5-2c67202d7457",
   "metadata": {},
   "outputs": [],
   "source": [
    "singletons = graph.unique_ids[graph.cardinalities == 1]"
   ]
  },
  {
   "cell_type": "code",
   "execution_count": null,
   "id": "1d9133d9-d443-48d2-a5b6-ae0ef28bdbc9",
   "metadata": {},
   "outputs": [],
   "source": [
    "# tessellation.loc[singletons].explore()"
   ]
  },
  {
   "cell_type": "code",
   "execution_count": null,
   "id": "7e6755d7-1e6a-4fb0-a058-776608592424",
   "metadata": {},
   "outputs": [],
   "source": []
  },
  {
   "cell_type": "code",
   "execution_count": null,
   "id": "b64ee68d-a9d7-4338-b580-4499c406398d",
   "metadata": {},
   "outputs": [],
   "source": []
  },
  {
   "cell_type": "code",
   "execution_count": null,
   "id": "92c0f939-239f-4c6f-a4d1-bbc10f6f6be3",
   "metadata": {},
   "outputs": [],
   "source": [
    "X_no_singletons = X_no_duplicates[~X_no_duplicates.index.isin(singletons)]\n",
    "X_no_singletons.shape, check_score(X_no_singletons, tess_groups)"
   ]
  },
  {
   "cell_type": "code",
   "execution_count": null,
   "id": "571fc2f4-11db-4a9a-b48b-6fd744ea9d38",
   "metadata": {},
   "outputs": [],
   "source": []
  },
  {
   "cell_type": "code",
   "execution_count": null,
   "id": "1c585c9b-6309-49cb-99ac-6cfd2968e4c4",
   "metadata": {},
   "outputs": [],
   "source": []
  },
  {
   "cell_type": "code",
   "execution_count": null,
   "id": "1c76ca77-fa53-4efc-bb1e-65b3e84a8c4e",
   "metadata": {},
   "outputs": [],
   "source": [
    "# remove empty space"
   ]
  },
  {
   "cell_type": "code",
   "execution_count": null,
   "id": "d0df130b-fef1-4f42-bca9-2bcb083ad420",
   "metadata": {},
   "outputs": [],
   "source": [
    "X_buildings = X_no_singletons[X_no_singletons.index >= 0]\n",
    "X_buildings.shape, check_score(X_buildings, tess_groups)"
   ]
  },
  {
   "cell_type": "code",
   "execution_count": null,
   "id": "38806106-8bd3-4e7e-8d6b-3a8c1f9418b8",
   "metadata": {},
   "outputs": [],
   "source": []
  },
  {
   "cell_type": "code",
   "execution_count": null,
   "id": "76b95b2c-866c-4817-8460-98058450161b",
   "metadata": {},
   "outputs": [],
   "source": []
  },
  {
   "cell_type": "code",
   "execution_count": null,
   "id": "aad6175a-3c8b-4fcc-a920-b8d95b178d7a",
   "metadata": {},
   "outputs": [],
   "source": []
  },
  {
   "cell_type": "code",
   "execution_count": null,
   "id": "addc91cf-0ce8-429f-8a4c-75c8131e70e1",
   "metadata": {},
   "outputs": [],
   "source": [
    "X_train = X_buildings\n",
    "X_train.shape, check_score(X_train, tess_groups)"
   ]
  },
  {
   "cell_type": "code",
   "execution_count": null,
   "id": "543e7b97-458c-4f95-a8be-cdf79cd9c5c9",
   "metadata": {},
   "outputs": [],
   "source": []
  },
  {
   "cell_type": "code",
   "execution_count": null,
   "id": "1ac48aae-0a91-4203-9c07-6fe6b9061010",
   "metadata": {},
   "outputs": [],
   "source": []
  },
  {
   "cell_type": "code",
   "execution_count": null,
   "id": "b61ff7c5-7fb6-472f-a57d-2027a8502d6c",
   "metadata": {},
   "outputs": [],
   "source": [
    "X_train.describe().loc[\"max\"].describe()"
   ]
  },
  {
   "cell_type": "code",
   "execution_count": null,
   "id": "670319f6-95bb-4a08-8361-4fca1e699cc6",
   "metadata": {},
   "outputs": [],
   "source": []
  },
  {
   "cell_type": "code",
   "execution_count": null,
   "id": "52a5bd5d-f6f7-4939-9a7d-123601623a5e",
   "metadata": {},
   "outputs": [],
   "source": [
    "# X_train.to_parquet(f'/data/uscuni-ulce/processed_data/context_data/context_chars_{region_id}_lag_{spatial_lag}.parquet')"
   ]
  },
  {
   "cell_type": "code",
   "execution_count": null,
   "id": "b3df6dc4-e2ce-4613-8990-b866478f016c",
   "metadata": {},
   "outputs": [],
   "source": [
    "X_train = pd.read_parquet(f'/data/uscuni-ulce/processed_data/context_data/context_chars_{region_id}_lag_{spatial_lag}.parquet')"
   ]
  },
  {
   "cell_type": "code",
   "execution_count": null,
   "id": "bf6f022d-bd4d-4e40-a0d7-3c1388aa567a",
   "metadata": {},
   "outputs": [],
   "source": []
  },
  {
   "cell_type": "code",
   "execution_count": null,
   "id": "e06caa84-82f4-4c60-94f2-999c81c35b17",
   "metadata": {},
   "outputs": [],
   "source": [
    "spatial_lag = 3\n",
    "X_train = pd.read_parquet(chars_dir + f'primary_chars_{region_id}.parquet')\n",
    "vals = np.nan_to_num(StandardScaler().fit_transform(X_train))\n",
    "X_train = pd.DataFrame(vals, columns=X_train.columns, index=X_train.index)\n",
    "X_train = X_train[X_train.index >= 0]\n",
    "X_train = X_train.clip(-10, 10)\n",
    "\n",
    "lag = pd.read_parquet(f'/data/uscuni-ulce/processed_data/context_data/context_chars_{region_id}_lag_{spatial_lag}.parquet')\n",
    "X_train = X_train.join(lag[[c for c in lag.columns if '_median' in c]], how='inner')"
   ]
  },
  {
   "cell_type": "code",
   "execution_count": null,
   "id": "e856c12a-1148-4897-be71-433587a6ca93",
   "metadata": {},
   "outputs": [],
   "source": []
  },
  {
   "cell_type": "code",
   "execution_count": null,
   "id": "7e0aa01a-918c-4e83-a402-0d29bf76dc33",
   "metadata": {},
   "outputs": [],
   "source": []
  },
  {
   "cell_type": "markdown",
   "id": "3997a970-b91f-45cb-9423-e5a3c2ad175a",
   "metadata": {},
   "source": [
    "### UMAP tests"
   ]
  },
  {
   "cell_type": "code",
   "execution_count": null,
   "id": "a27f059e-49e0-4dfa-b43a-c4fe0eb34a2a",
   "metadata": {},
   "outputs": [],
   "source": []
  },
  {
   "cell_type": "code",
   "execution_count": null,
   "id": "fecb7143-8fff-4c9f-9316-5af77e929af1",
   "metadata": {},
   "outputs": [],
   "source": [
    "# spatial_lag = 1\n",
    "\n",
    "\n",
    "# X_train = pd.read_parquet(chars_dir + f'primary_chars_{region_id}.parquet')\n",
    "\n",
    "# # lag = pd.read_parquet(f'/data/uscuni-ulce/processed_data/context_data/context_chars_{region_id}_lag_{spatial_lag}.parquet')\n",
    "\n",
    "# lag = pd.read_parquet(f'/data/uscuni-ulce/processed_data/context_data/unprocessed_context_chars_{region_id}_lag_{spatial_lag}.parquet')\n",
    "\n",
    "\n",
    "# X_train = X_train.join(lag[[c for c in lag.columns if '_median' not in c]], how='inner')\n",
    "\n",
    "# # X_train = X_train.join(lag, how='inner')\n",
    "\n",
    "\n",
    "# X_train.shape"
   ]
  },
  {
   "cell_type": "code",
   "execution_count": null,
   "id": "7ba9fc3f-b34a-4df1-9bcf-813ef8d60305",
   "metadata": {},
   "outputs": [],
   "source": [
    "X_train = primary.join(context, how='inner')"
   ]
  },
  {
   "cell_type": "code",
   "execution_count": null,
   "id": "5ec13a33-6d29-490a-b1b3-b0c92b66ab0f",
   "metadata": {},
   "outputs": [],
   "source": [
    "X_train = X_train[X_train.index >= 0]\n",
    "\n",
    "\n",
    "vals = np.nan_to_num(StandardScaler().fit_transform(X_train))\n",
    "X_train = pd.DataFrame(vals, columns=X_train.columns, index=X_train.index)\n",
    "# X_train = X_train.clip(-10, 10)\n",
    "\n",
    "vals = np.nan_to_num(X_train)\n",
    "X_train = pd.DataFrame(vals, columns=X_train.columns, index=X_train.index)\n",
    "X_train.shape"
   ]
  },
  {
   "cell_type": "code",
   "execution_count": null,
   "id": "14820a0d-f50c-4434-9189-590702d004cd",
   "metadata": {},
   "outputs": [],
   "source": []
  },
  {
   "cell_type": "code",
   "execution_count": null,
   "id": "66cc18f3-919b-4dc0-994b-0f2463fde65f",
   "metadata": {},
   "outputs": [],
   "source": []
  },
  {
   "cell_type": "code",
   "execution_count": null,
   "id": "f1e5082c-5041-43bc-b073-dc8bc4272f6e",
   "metadata": {},
   "outputs": [],
   "source": []
  },
  {
   "cell_type": "code",
   "execution_count": null,
   "id": "d145a564-4413-48e7-a18d-1783325d77d2",
   "metadata": {},
   "outputs": [],
   "source": [
    "tess_groups = generate_neigbhourhood_groups(tessellation, \n",
    "                                         include_random_sample=True,\n",
    "                                         random_sample_size=2_000)\n",
    "tess_groups = tess_groups[tess_groups.index.isin(X_train.index)]\n",
    "tess_groups_ilocs = (\n",
    "    pd.Series(np.arange(len(X_train)), index=X_train.index)\n",
    "    .loc[tess_groups.index]\n",
    "    .values\n",
    ")"
   ]
  },
  {
   "cell_type": "code",
   "execution_count": null,
   "id": "d908c772-80a6-4864-9d90-d1883ab65575",
   "metadata": {},
   "outputs": [],
   "source": []
  },
  {
   "cell_type": "code",
   "execution_count": null,
   "id": "3e2d3534-12dd-42f1-8318-fcb4c6f38492",
   "metadata": {},
   "outputs": [],
   "source": []
  },
  {
   "cell_type": "code",
   "execution_count": null,
   "id": "63b5069e-c412-42bb-b18c-2e567bbf77e8",
   "metadata": {},
   "outputs": [],
   "source": [
    "\n"
   ]
  },
  {
   "cell_type": "code",
   "execution_count": null,
   "id": "da40af90-877c-4545-a318-e12f3cfb2707",
   "metadata": {},
   "outputs": [],
   "source": []
  },
  {
   "cell_type": "code",
   "execution_count": null,
   "id": "fa97cdb2-32be-481d-8eb8-831acf7873fb",
   "metadata": {},
   "outputs": [],
   "source": []
  },
  {
   "cell_type": "code",
   "execution_count": null,
   "id": "15613f39-106e-4fc5-adc7-47f81cdc87c8",
   "metadata": {},
   "outputs": [],
   "source": [
    "def show_nn(n_neighbors, n_components, n_epochs, min_dist, metric='euclidean'):\n",
    "    reducer = umap.UMAP(\n",
    "        n_neighbors=n_neighbors,\n",
    "        min_dist=min_dist,\n",
    "        n_components=n_components,\n",
    "        n_epochs=n_epochs,\n",
    "        metric=metric\n",
    "    )\n",
    "    embedding = reducer.fit_transform(X_train.iloc[tess_groups_ilocs])\n",
    "\n",
    "    embedding_df = pd.DataFrame(embedding, index=tess_groups.index)\n",
    "    embedding_df[\"neighbourhood\"] = tess_groups.values\n",
    "\n",
    "    print(\n",
    "        n_neighbors,\n",
    "        n_components,\n",
    "        n_epochs,\n",
    "        min_dist,\n",
    "        \"--\",\n",
    "        davies_bouldin_score(embedding, tess_groups.values),\n",
    "    )\n",
    "\n",
    "    if n_components == 2:\n",
    "        return umap.plot.points(reducer, labels=tess_groups.values)\n",
    "    else:\n",
    "        return None"
   ]
  },
  {
   "cell_type": "code",
   "execution_count": null,
   "id": "7cf88ee5-1d20-42f7-87d2-b6135b14b33e",
   "metadata": {},
   "outputs": [],
   "source": [
    "for n_neighbors in [15, 25, 50, 100]:\n",
    "    show_nn(n_neighbors=n_neighbors, n_components=2, n_epochs=100, min_dist=0.10, metric='euclidean')"
   ]
  },
  {
   "cell_type": "code",
   "execution_count": null,
   "id": "b422c4a7-a6c5-4d6d-8483-1e2445e3b2f0",
   "metadata": {},
   "outputs": [],
   "source": [
    "for n_neighbors in [15, 25, 50, 100]:\n",
    "    show_nn(n_neighbors=n_neighbors, n_components=2, n_epochs=100, min_dist=0.10, metric='cosine')"
   ]
  },
  {
   "cell_type": "code",
   "execution_count": null,
   "id": "4e09ac84-0040-42e5-9a67-ccb232b01725",
   "metadata": {},
   "outputs": [],
   "source": [
    "for n_neighbors in [15, 25, 50, 100]:\n",
    "    show_nn(n_neighbors=n_neighbors, n_components=2, n_epochs=100, min_dist=0.0, metric='sqeuclidean')"
   ]
  },
  {
   "cell_type": "code",
   "execution_count": null,
   "id": "b479a6e5-1e84-44bb-b655-343b4f2ce7f9",
   "metadata": {},
   "outputs": [],
   "source": []
  },
  {
   "cell_type": "code",
   "execution_count": null,
   "id": "de874731-7a4b-4bd2-9b3a-9207b79cfab7",
   "metadata": {},
   "outputs": [],
   "source": []
  },
  {
   "cell_type": "code",
   "execution_count": null,
   "id": "f26e7758-ac03-41e1-bee1-4d55d716ecd4",
   "metadata": {},
   "outputs": [],
   "source": [
    "# for n_neighbors in [15, 25, 50, 100]:\n",
    "#     for n_components in [5, 10, 15]:\n",
    "#         show_nn(\n",
    "#             n_neighbors=n_neighbors,\n",
    "#             n_components=n_components,\n",
    "#             n_epochs=500,\n",
    "#             min_dist=0.1,\n",
    "#         )"
   ]
  },
  {
   "cell_type": "code",
   "execution_count": null,
   "id": "3080c2c8-2f8a-40b6-bd49-d91f0e07840c",
   "metadata": {},
   "outputs": [],
   "source": [
    "# for n_neighbors in [30, 100]:\n",
    "#     for n_components in [5, 10, 15]:\n",
    "#         for min_dist in [0.0, 0.05, 0.1]:\n",
    "#             show_nn(\n",
    "#                 n_neighbors=n_neighbors,\n",
    "#                 n_components=n_components,\n",
    "#                 n_epochs=500,\n",
    "#                 min_dist=min_dist,\n",
    "#             )"
   ]
  },
  {
   "cell_type": "code",
   "execution_count": null,
   "id": "287c80c4-975a-40c4-9edf-1c0109b9d675",
   "metadata": {},
   "outputs": [],
   "source": []
  },
  {
   "cell_type": "code",
   "execution_count": null,
   "id": "aae057fb-e6c0-459d-993c-b512a781e688",
   "metadata": {},
   "outputs": [],
   "source": []
  },
  {
   "cell_type": "code",
   "execution_count": null,
   "id": "14cdd72c-cd5a-40d5-9602-229f57507543",
   "metadata": {},
   "outputs": [],
   "source": []
  },
  {
   "cell_type": "code",
   "execution_count": null,
   "id": "3e146eb7-7159-4a13-8aaf-873eaa7e9624",
   "metadata": {},
   "outputs": [],
   "source": []
  },
  {
   "cell_type": "code",
   "execution_count": 42,
   "id": "e1c5c1bb-a6e9-4a2f-ab44-9e02e0f0ce2e",
   "metadata": {},
   "outputs": [],
   "source": [
    "assert not X_train.duplicated().any()"
   ]
  },
  {
   "cell_type": "code",
   "execution_count": null,
   "id": "e3b94e34-0732-48bc-885f-0efc6911e37f",
   "metadata": {},
   "outputs": [],
   "source": []
  },
  {
   "cell_type": "code",
   "execution_count": 44,
   "id": "47dff082-c884-42f3-9912-725b22da1e58",
   "metadata": {},
   "outputs": [
    {
     "name": "stdout",
     "output_type": "stream",
     "text": [
      "UMAP(min_dist=0, n_neighbors=25, verbose=True)\n",
      "Wed Jul 31 19:51:52 2024 Construct fuzzy simplicial set\n",
      "Wed Jul 31 19:51:52 2024 Finding Nearest Neighbors\n",
      "Wed Jul 31 19:51:52 2024 Building RP forest with 14 trees\n",
      "Wed Jul 31 19:51:52 2024 NN descent for 15 iterations\n",
      "\t 1  /  15\n",
      "\t 2  /  15\n",
      "\t 3  /  15\n",
      "\tStopping threshold met -- exiting after 3 iterations\n",
      "Wed Jul 31 19:51:53 2024 Finished Nearest Neighbor Search\n",
      "Wed Jul 31 19:51:53 2024 Construct embedding\n"
     ]
    },
    {
     "data": {
      "application/vnd.jupyter.widget-view+json": {
       "model_id": "9612308dbae841a693c546004965120c",
       "version_major": 2,
       "version_minor": 0
      },
      "text/plain": [
       "Epochs completed:   0%|            0/200 [00:00]"
      ]
     },
     "metadata": {},
     "output_type": "display_data"
    },
    {
     "name": "stdout",
     "output_type": "stream",
     "text": [
      "\tcompleted  0  /  200 epochs\n",
      "\tcompleted  20  /  200 epochs\n",
      "\tcompleted  40  /  200 epochs\n",
      "\tcompleted  60  /  200 epochs\n",
      "\tcompleted  80  /  200 epochs\n",
      "\tcompleted  100  /  200 epochs\n",
      "\tcompleted  120  /  200 epochs\n",
      "\tcompleted  140  /  200 epochs\n",
      "\tcompleted  160  /  200 epochs\n",
      "\tcompleted  180  /  200 epochs\n",
      "Wed Jul 31 19:52:04 2024 Finished embedding\n"
     ]
    }
   ],
   "source": [
    "reducer = umap.UMAP(n_neighbors=25, n_components=2, min_dist=0, metric='euclidean', verbose=True)\n",
    "embedding = reducer.fit_transform(X_train)"
   ]
  },
  {
   "cell_type": "code",
   "execution_count": 45,
   "id": "6aaf665f-0386-46e2-a13c-ed6528a95b10",
   "metadata": {},
   "outputs": [
    {
     "name": "stderr",
     "output_type": "stream",
     "text": [
      "/home/krasen/miniconda3/envs/urban_taxonomy/lib/python3.12/site-packages/umap/plot.py:449: UserWarning: *c* argument looks like a single numeric RGB or RGBA sequence, which should be avoided as value-mapping will have precedence in case its length matches with *x* & *y*.  Please use the *color* keyword-argument or provide a 2D array with a single row if you intend to specify the same RGB or RGBA value for all points.\n",
      "  ax.scatter(points[:, 0], points[:, 1], s=point_size, c=color)\n"
     ]
    },
    {
     "data": {
      "text/plain": [
       "<Axes: >"
      ]
     },
     "execution_count": 45,
     "metadata": {},
     "output_type": "execute_result"
    },
    {
     "data": {
      "image/png": "[encoded data removed]",
      "text/plain": [
       "<Figure size 800x800 with 1 Axes>"
      ]
     },
     "metadata": {},
     "output_type": "display_data"
    }
   ],
   "source": [
    "umap.plot.points(reducer)"
   ]
  },
  {
   "cell_type": "code",
   "execution_count": null,
   "id": "442330fa-1092-4a74-9f29-d0014a7c1df9",
   "metadata": {},
   "outputs": [],
   "source": []
  },
  {
   "cell_type": "markdown",
   "id": "cdd36c0c-489b-463f-9795-c0fd28c7602e",
   "metadata": {
    "jp-MarkdownHeadingCollapsed": true
   },
   "source": [
    "### Umap visualisations\n"
   ]
  },
  {
   "cell_type": "code",
   "execution_count": null,
   "id": "38eb2083-b824-443e-a840-1b39b963edc3",
   "metadata": {},
   "outputs": [],
   "source": []
  },
  {
   "cell_type": "code",
   "execution_count": null,
   "id": "27be0f14-553f-471a-8d62-725210ba3284",
   "metadata": {},
   "outputs": [],
   "source": [
    "viz_reducer = umap.UMAP(n_neighbors=25, min_dist=0.1, verbose=True, metric='sqeuclidean')\n",
    "viz_embedding = viz_reducer.fit_transform(X_train)"
   ]
  },
  {
   "cell_type": "code",
   "execution_count": null,
   "id": "3d6e4dba-4dd1-4db4-9cf1-803167c267be",
   "metadata": {},
   "outputs": [],
   "source": [
    "umap.plot.points(viz_reducer)"
   ]
  },
  {
   "cell_type": "code",
   "execution_count": null,
   "id": "6d6c0325-af20-4d61-aa9b-779fdf4ea968",
   "metadata": {},
   "outputs": [],
   "source": []
  },
  {
   "cell_type": "code",
   "execution_count": null,
   "id": "85aedc20-ee34-4076-9af5-08b581f47780",
   "metadata": {},
   "outputs": [],
   "source": []
  },
  {
   "cell_type": "code",
   "execution_count": null,
   "id": "a028a3ff-3556-47d6-bc06-bcf1b8c2affa",
   "metadata": {},
   "outputs": [],
   "source": []
  },
  {
   "cell_type": "code",
   "execution_count": null,
   "id": "f49f9f92-dafc-4705-a601-ff0a8005d4dc",
   "metadata": {},
   "outputs": [],
   "source": [
    "embedding_df = pd.DataFrame(embedding[tess_groups_ilocs, :3], index=tess_groups.index)\n",
    "embedding_df[\"neighbourhood\"] = tess_groups.values"
   ]
  },
  {
   "cell_type": "code",
   "execution_count": null,
   "id": "15f67abf-5afc-4fce-8ead-a88327184c00",
   "metadata": {},
   "outputs": [],
   "source": []
  },
  {
   "cell_type": "code",
   "execution_count": null,
   "id": "2efcd775-86be-435b-be48-f8047fec1f80",
   "metadata": {},
   "outputs": [],
   "source": [
    "gb_cols = Set3_12.hex_colors\n",
    "\n",
    "embedding_groups = embedding_df.groupby(\"neighbourhood\")\n",
    "\n",
    "gnames = embedding_df[\"neighbourhood\"].unique()\n",
    "genums = np.arange(len(gnames))\n",
    "\n",
    "fig, ax = plt.subplots(figsize=(10, 10))\n",
    "\n",
    "for genum, gname in zip(genums, gnames, strict=False):\n",
    "    color = gb_cols[genum]\n",
    "    label = gname\n",
    "    es_ = embedding_groups.get_group(gname).values[:, :2]\n",
    "    ax.scatter(es_[:, 0], es_[:, 1], color=color, label=label)\n",
    "ax.legend()"
   ]
  },
  {
   "cell_type": "code",
   "execution_count": null,
   "id": "96f6a3d0-6240-4555-950f-bffa26062b0d",
   "metadata": {},
   "outputs": [],
   "source": []
  },
  {
   "cell_type": "code",
   "execution_count": null,
   "id": "622c51a8-6b03-4b7e-82e9-6a3dec86f6e5",
   "metadata": {},
   "outputs": [],
   "source": [
    "gb_cols = Set3_12.hex_colors\n",
    "\n",
    "embedding_groups = embedding_df.groupby(\"neighbourhood\")\n",
    "gnames = embedding_df[\"neighbourhood\"].unique()\n",
    "genums = np.arange(len(gnames))\n",
    "\n",
    "fig = plt.figure(figsize=(10, 10))\n",
    "ax = fig.add_subplot(111, projection=\"3d\")\n",
    "\n",
    "for genum, gname in zip(genums, gnames, strict=False):\n",
    "    color = gb_cols[genum]\n",
    "    label = gname\n",
    "    es_ = embedding_groups.get_group(gname).values[:, :3]\n",
    "    ax.scatter(es_[:, 0], es_[:, 1], es_[:, 2], color=color, label=label)\n",
    "\n",
    "ax.set_xlabel(\"UMAP 1\")\n",
    "ax.set_ylabel(\"UMAP 2\")\n",
    "ax.set_zlabel(\"UMAP 3\")\n",
    "ax.legend()"
   ]
  },
  {
   "cell_type": "code",
   "execution_count": null,
   "id": "f9134265-3d0d-4ca5-b212-bf60f9950a55",
   "metadata": {},
   "outputs": [],
   "source": [
    "# ax.view_init(45, 45)\n",
    "# fig"
   ]
  },
  {
   "cell_type": "code",
   "execution_count": null,
   "id": "e12ac370-f277-48d4-8290-f25badaff1bb",
   "metadata": {},
   "outputs": [],
   "source": [
    "# ax.view_init(45, 90)\n",
    "# fig"
   ]
  },
  {
   "cell_type": "code",
   "execution_count": null,
   "id": "01e6753d-3d95-4f77-8c07-e56235035b85",
   "metadata": {},
   "outputs": [],
   "source": [
    "# ax.view_init(45, 135)\n",
    "# fig"
   ]
  },
  {
   "cell_type": "code",
   "execution_count": null,
   "id": "10ec68ea-1cdc-4738-badd-8a7c7e9abe0f",
   "metadata": {},
   "outputs": [],
   "source": [
    "davies_bouldin_score(embedding[tess_groups_ilocs, :], tess_groups.values)"
   ]
  },
  {
   "cell_type": "code",
   "execution_count": null,
   "id": "05cedb72-a26c-4193-8b26-0833d102f1bb",
   "metadata": {},
   "outputs": [],
   "source": []
  },
  {
   "cell_type": "code",
   "execution_count": null,
   "id": "0ea1bf1b-85e2-4147-8c7b-03c007e730f6",
   "metadata": {},
   "outputs": [],
   "source": []
  },
  {
   "cell_type": "code",
   "execution_count": null,
   "id": "acfa139b-ef18-4d90-b325-c290fd862cb0",
   "metadata": {},
   "outputs": [],
   "source": [
    "umap.plot.points(viz_reducer)"
   ]
  },
  {
   "cell_type": "code",
   "execution_count": null,
   "id": "e1df730d-321e-4ec8-a6c6-cd33856e72e4",
   "metadata": {},
   "outputs": [],
   "source": []
  },
  {
   "cell_type": "code",
   "execution_count": null,
   "id": "2efd267d-ed91-4ee6-8303-f6f5dbc956a5",
   "metadata": {},
   "outputs": [],
   "source": []
  },
  {
   "cell_type": "code",
   "execution_count": null,
   "id": "c755b901-26cc-45ee-aec5-4667daa1775d",
   "metadata": {},
   "outputs": [],
   "source": [
    "umap.plot.diagnostic(viz_reducer, diagnostic_type=\"pca\")"
   ]
  },
  {
   "cell_type": "code",
   "execution_count": null,
   "id": "44a396ac-6f60-4fed-86b8-89d9cc8c9503",
   "metadata": {},
   "outputs": [],
   "source": [
    "umap.plot.diagnostic(viz_reducer, diagnostic_type=\"vq\")"
   ]
  },
  {
   "cell_type": "code",
   "execution_count": null,
   "id": "9757c6e3-e410-4540-8acd-16549a4d7a33",
   "metadata": {},
   "outputs": [],
   "source": [
    "local_dims = umap.plot.diagnostic(viz_reducer, diagnostic_type=\"local_dim\")"
   ]
  },
  {
   "cell_type": "code",
   "execution_count": null,
   "id": "14b2ff82-49bc-476a-8b65-5fee921a21a4",
   "metadata": {},
   "outputs": [],
   "source": []
  },
  {
   "cell_type": "code",
   "execution_count": null,
   "id": "eae597b0-c84e-4571-8ce7-8b12f46babd2",
   "metadata": {},
   "outputs": [],
   "source": []
  },
  {
   "cell_type": "code",
   "execution_count": null,
   "id": "55ddbd1f-0fa9-4fd8-b259-2dd89f841e36",
   "metadata": {},
   "outputs": [],
   "source": []
  },
  {
   "cell_type": "code",
   "execution_count": null,
   "id": "c268334f-62b0-48d1-8658-82df493200d6",
   "metadata": {},
   "outputs": [],
   "source": [
    "### paint the UMAP embeddings by prague district"
   ]
  },
  {
   "cell_type": "code",
   "execution_count": null,
   "id": "827e12e7-67dd-4fad-a7c1-6381031669da",
   "metadata": {},
   "outputs": [],
   "source": [
    "czech_admin = (\n",
    "    gpd.read_file(\"../../notebooks/data/MAP_CUR_MAP_MESTSKECASTI_P.zip\")\n",
    "    .sort_values(\"KOD_MC\")\n",
    "    .reset_index(drop=True)\n",
    ")\n",
    "admin_id, tess_id = tessellation.loc[X_train.index].sindex.query(\n",
    "    czech_admin.geometry.to_crs(tessellation.crs), predicate=\"intersects\"\n",
    ")\n",
    "import glasbey\n",
    "\n",
    "gb_cols = glasbey.extend_palette(Set3_12.hex_colors, palette_size=max(admin_id) + 1)\n",
    "czech_admin[\"color\"] = gb_cols\n",
    "labels = pd.Series(\"Bohemia\", index=X_train.index)\n",
    "labels.iloc[tess_id] = czech_admin.iloc[admin_id][\"NAZEV_MC\"].values\n",
    "cmap = dict(zip(czech_admin[\"NAZEV_MC\"].values, gb_cols, strict=False))\n",
    "cmap[\"Bohemia\"] = \"#ffffff\""
   ]
  },
  {
   "cell_type": "code",
   "execution_count": null,
   "id": "0b27b1ce-d7f2-4a8a-a436-ec89936fbb27",
   "metadata": {},
   "outputs": [],
   "source": [
    "fig, ax = plt.subplots(figsize=(20, 20))\n",
    "umap.plot.points(\n",
    "    viz_reducer,\n",
    "    labels=labels,\n",
    "    background=\"black\",\n",
    "    color_key=cmap,\n",
    "    show_legend=False,\n",
    "    ax=ax,\n",
    ")"
   ]
  },
  {
   "cell_type": "code",
   "execution_count": null,
   "id": "9616fa1e-435e-4951-8b8b-6cbfe94dbcdd",
   "metadata": {},
   "outputs": [],
   "source": []
  },
  {
   "cell_type": "code",
   "execution_count": null,
   "id": "c049eb4c-601b-4bb6-9223-e42ec53b66b7",
   "metadata": {},
   "outputs": [],
   "source": []
  },
  {
   "cell_type": "code",
   "execution_count": null,
   "id": "fd4cf9c8-fb87-4ac8-8969-67517ca49f4a",
   "metadata": {},
   "outputs": [],
   "source": [
    "umap.plot.connectivity(viz_reducer, show_points=True)"
   ]
  },
  {
   "cell_type": "code",
   "execution_count": null,
   "id": "9e33040e-14bc-45a6-b754-602c74a26143",
   "metadata": {},
   "outputs": [],
   "source": []
  },
  {
   "cell_type": "code",
   "execution_count": null,
   "id": "eb5ba30c-73da-431e-adf5-d3c2cd67a76d",
   "metadata": {},
   "outputs": [],
   "source": []
  },
  {
   "cell_type": "code",
   "execution_count": null,
   "id": "1753f5a1-997a-4153-9347-37dd2da0e2a6",
   "metadata": {},
   "outputs": [],
   "source": []
  },
  {
   "cell_type": "code",
   "execution_count": null,
   "id": "4269d864-713c-4ddb-8962-34b9cb04aed6",
   "metadata": {},
   "outputs": [],
   "source": [
    "np.save(embedding)"
   ]
  },
  {
   "cell_type": "code",
   "execution_count": null,
   "id": "cca48e9d-ed20-410b-851f-db8802cf3fff",
   "metadata": {},
   "outputs": [],
   "source": [
    "np.save(\"data/umap_prague_k7_n30_dim15.npy\", embedding)"
   ]
  },
  {
   "cell_type": "code",
   "execution_count": null,
   "id": "4a001522-04da-444b-a9cb-5fe8ccd5d6a2",
   "metadata": {},
   "outputs": [],
   "source": [
    "embedding.shape"
   ]
  },
  {
   "cell_type": "code",
   "execution_count": null,
   "id": "e5302389-20dd-41c6-a2fc-1a2881c5e38b",
   "metadata": {},
   "outputs": [],
   "source": [
    "np.load(\"data/umap_prague_k7_n30_dim15.npy\").shape"
   ]
  },
  {
   "cell_type": "code",
   "execution_count": null,
   "id": "d174f6b5-2d89-4c27-b692-4465e2908c36",
   "metadata": {},
   "outputs": [],
   "source": []
  },
  {
   "cell_type": "code",
   "execution_count": null,
   "id": "7a451500-a96a-42b6-b6eb-8f5af3cd6db4",
   "metadata": {},
   "outputs": [],
   "source": [
    "# from sklearn.cluster import KMeans, MiniBatchKMeans\n",
    "# from sklearn.metrics import adjusted_rand_score\n",
    "# kmeans_label = KMeans(n_clusters=9, max_iter=1000, n_init=500).fit(embedding[tess_groups_ilocs, :50]).labels_\n",
    "# adjusted_rand_score(tess_groups.values, kmeans_label)"
   ]
  },
  {
   "cell_type": "code",
   "execution_count": null,
   "id": "e99738a3-a03a-407f-b174-1470d6168712",
   "metadata": {},
   "outputs": [],
   "source": []
  },
  {
   "cell_type": "code",
   "execution_count": null,
   "id": "54ceb0ff-39bc-4910-b3c6-0ed86d0c3932",
   "metadata": {},
   "outputs": [],
   "source": [
    "# plotting = gpd.GeoDataFrame(tess_groups.to_frame(),\n",
    "#                             geometry=tessellation.iloc[tess_groups_ilocs].geometry)\n",
    "# plotting.columns = ['neighbourhood', 'geometry']\n",
    "# plotting['neighbourhood'] = kmeans_label\n",
    "# plotting.explore(column='neighbourhood', categorical=True)"
   ]
  },
  {
   "cell_type": "code",
   "execution_count": null,
   "id": "f28c573d-c755-4080-903a-2a9466c138a6",
   "metadata": {},
   "outputs": [],
   "source": []
  },
  {
   "cell_type": "code",
   "execution_count": null,
   "id": "ae115560-6ab5-4b62-aebe-db92da46c59f",
   "metadata": {},
   "outputs": [],
   "source": [
    "# tessellation.loc[X_different[X_different.duplicated()].index.values].explore()"
   ]
  },
  {
   "cell_type": "code",
   "execution_count": null,
   "id": "3038e5e1-9af9-4a46-88d1-35260ee0c7d0",
   "metadata": {},
   "outputs": [],
   "source": []
  },
  {
   "cell_type": "code",
   "execution_count": null,
   "id": "1de04cdf-4ce1-49f5-a125-0f6f0074bf3f",
   "metadata": {},
   "outputs": [],
   "source": []
  },
  {
   "cell_type": "code",
   "execution_count": null,
   "id": "938901bf-4f41-4ef4-93fc-b7c20fecb542",
   "metadata": {},
   "outputs": [],
   "source": []
  },
  {
   "cell_type": "code",
   "execution_count": null,
   "id": "e6012a5f-4de7-43c5-a292-c5b623d1444a",
   "metadata": {},
   "outputs": [],
   "source": []
  },
  {
   "cell_type": "markdown",
   "id": "3c7f9cec-6f07-4203-b18f-9c0674f849cb",
   "metadata": {
    "jp-MarkdownHeadingCollapsed": true
   },
   "source": [
    "### PCA tests and comparison"
   ]
  },
  {
   "cell_type": "code",
   "execution_count": null,
   "id": "9cd36886-0e0f-4d8c-a3ca-b4c7e86ef8f2",
   "metadata": {},
   "outputs": [],
   "source": [
    "from palettable.colorbrewer.qualitative import Set3_12\n",
    "from sklearn.decomposition import PCA"
   ]
  },
  {
   "cell_type": "code",
   "execution_count": null,
   "id": "78991060-b865-42cc-a2ff-8fe0de1d81e4",
   "metadata": {},
   "outputs": [],
   "source": [
    "%%time\n",
    "pca_reducer = PCA(n_components=50)\n",
    "pca_embedding = pca_reducer.fit_transform(X_train)"
   ]
  },
  {
   "cell_type": "code",
   "execution_count": null,
   "id": "20fe565f-5c6a-4e7b-b1e0-86c9e8fa4cc9",
   "metadata": {},
   "outputs": [],
   "source": []
  },
  {
   "cell_type": "code",
   "execution_count": null,
   "id": "7d333486-43cd-47c9-9410-f972ee5b5230",
   "metadata": {},
   "outputs": [],
   "source": [
    "pca_reducer.explained_variance_ratio_.cumsum()"
   ]
  },
  {
   "cell_type": "code",
   "execution_count": null,
   "id": "224f1c99-f45f-48bf-8436-1f4282a4b3af",
   "metadata": {},
   "outputs": [],
   "source": []
  },
  {
   "cell_type": "code",
   "execution_count": null,
   "id": "08ae0b17-08f8-40e1-b836-f5f25c577b8a",
   "metadata": {},
   "outputs": [],
   "source": []
  },
  {
   "cell_type": "code",
   "execution_count": null,
   "id": "c3bbb1e2-f5a5-45aa-8595-0b0671191bc8",
   "metadata": {},
   "outputs": [],
   "source": [
    "embedding_df = pd.DataFrame(pca_embedding[tess_groups_ilocs], index=tess_groups.index)\n",
    "embedding_df[\"neighbourhood\"] = tess_groups.values"
   ]
  },
  {
   "cell_type": "code",
   "execution_count": null,
   "id": "c919fcbe-86f8-4afe-b60b-a84ac92fa078",
   "metadata": {},
   "outputs": [],
   "source": [
    "gb_cols = Set3_12.hex_colors\n",
    "\n",
    "embedding_groups = embedding_df.groupby(\"neighbourhood\")\n",
    "gnames = embedding_df[\"neighbourhood\"].unique()\n",
    "genums = np.arange(len(gnames))\n",
    "\n",
    "fig = plt.figure(figsize=(10, 10))\n",
    "ax = fig.add_subplot(111)\n",
    "\n",
    "for genum, gname in zip(genums, gnames, strict=False):\n",
    "    color = gb_cols[genum]\n",
    "    label = gname\n",
    "    es_ = embedding_groups.get_group(gname).values[:, :10]\n",
    "    ax.scatter(es_[:, 0], es_[:, 1], color=color, label=label)\n",
    "\n",
    "ax.legend()"
   ]
  },
  {
   "cell_type": "code",
   "execution_count": null,
   "id": "f77f2d7f-db29-4f99-8d48-a98dd93ee333",
   "metadata": {},
   "outputs": [],
   "source": [
    "gb_cols = Set3_12.hex_colors\n",
    "\n",
    "embedding_groups = embedding_df.groupby(\"neighbourhood\")\n",
    "gnames = embedding_df[\"neighbourhood\"].unique()\n",
    "genums = np.arange(len(gnames))\n",
    "\n",
    "fig = plt.figure(figsize=(10, 10))\n",
    "ax = fig.add_subplot(111, projection=\"3d\")\n",
    "\n",
    "for genum, gname in zip(genums, gnames, strict=False):\n",
    "    color = gb_cols[genum]\n",
    "    label = gname\n",
    "    es_ = embedding_groups.get_group(gname).values[:, :3]\n",
    "    ax.scatter(es_[:, 0], es_[:, 1], es_[:, 2], color=color, label=label)\n",
    "\n",
    "ax.set_xlabel(\"PCA 1\")\n",
    "ax.set_ylabel(\"PCA 2\")\n",
    "ax.set_zlabel(\"PCA 3\")\n",
    "ax.legend()"
   ]
  },
  {
   "cell_type": "code",
   "execution_count": null,
   "id": "10a03fdd-ce9e-4289-bf70-e219a6bbbd54",
   "metadata": {},
   "outputs": [],
   "source": [
    "ax.view_init(45, 45)\n",
    "fig"
   ]
  },
  {
   "cell_type": "code",
   "execution_count": null,
   "id": "faa02c4c-c25d-4472-afac-a1f467d164b0",
   "metadata": {},
   "outputs": [],
   "source": [
    "ax.view_init(45, 90)\n",
    "fig"
   ]
  },
  {
   "cell_type": "code",
   "execution_count": null,
   "id": "51a07ada-15c1-4f8a-b0b4-79faa7abc7a1",
   "metadata": {},
   "outputs": [],
   "source": [
    "ax.view_init(45, 135)\n",
    "fig"
   ]
  },
  {
   "cell_type": "code",
   "execution_count": null,
   "id": "738e7d28-c8d6-42a4-bf02-ad0753660213",
   "metadata": {},
   "outputs": [],
   "source": [
    "davies_bouldin_score(pca_embedding[tess_groups_ilocs, :5], tess_groups.values)"
   ]
  },
  {
   "cell_type": "code",
   "execution_count": null,
   "id": "00db206f-900a-4db7-b3a2-1f7cbd8499b4",
   "metadata": {},
   "outputs": [],
   "source": []
  },
  {
   "cell_type": "code",
   "execution_count": null,
   "id": "dfdad5fc-a3a4-40f6-a047-185dc87f46c3",
   "metadata": {},
   "outputs": [],
   "source": [
    "from sklearn.cluster import KMeans\n",
    "from sklearn.metrics import adjusted_rand_score\n",
    "\n",
    "kmeans_label = (\n",
    "    KMeans(n_clusters=9, max_iter=1000, n_init=500)\n",
    "    .fit(pca_embedding[tess_groups_ilocs, :50])\n",
    "    .labels_\n",
    ")\n",
    "adjusted_rand_score(tess_groups.values, kmeans_label)"
   ]
  },
  {
   "cell_type": "code",
   "execution_count": null,
   "id": "f3005ce0-45f1-407d-8b7b-4d1b19111ceb",
   "metadata": {},
   "outputs": [],
   "source": [
    "colored_crosstab(tess_groups.values, kmeans_label)"
   ]
  },
  {
   "cell_type": "code",
   "execution_count": null,
   "id": "d908a38c-136c-4fb3-aa3e-e708a5b97155",
   "metadata": {},
   "outputs": [],
   "source": [
    "# from sklearn.cluster import KMeans, MiniBatchKMeans\n",
    "# from sklearn.metrics import adjusted_rand_score\n",
    "# kmeans_label = KMeans(n_clusters=9, max_iter=1000, n_init=500).fit(pca_embedding[:, :50]).labels_\n",
    "# adjusted_rand_score(tess_groups.values, kmeans_label[tess_groups_ilocs])"
   ]
  },
  {
   "cell_type": "code",
   "execution_count": null,
   "id": "e83f2929-d7fd-41b2-8b78-4b3bee12b61b",
   "metadata": {},
   "outputs": [],
   "source": [
    " "
   ]
  },
  {
   "cell_type": "code",
   "execution_count": null,
   "id": "959ab352-aecd-49db-9f62-5b06f48cf83b",
   "metadata": {},
   "outputs": [],
   "source": []
  },
  {
   "cell_type": "code",
   "execution_count": null,
   "id": "de50b236-0661-44ad-9248-9263c2f0b112",
   "metadata": {},
   "outputs": [],
   "source": [
    "from sklearn.cluster import KMeans\n",
    "from sklearn.metrics import adjusted_rand_score\n",
    "\n",
    "kmeans_label = (\n",
    "    KMeans(n_clusters=9, max_iter=1000, n_init=500)\n",
    "    .fit(embedding[tess_groups_ilocs, :50])\n",
    "    .labels_\n",
    ")\n",
    "adjusted_rand_score(tess_groups.values, kmeans_label)"
   ]
  },
  {
   "cell_type": "code",
   "execution_count": null,
   "id": "803e4bf1-3917-4fee-abd7-83a10d0de1c8",
   "metadata": {},
   "outputs": [],
   "source": [
    "colored_crosstab(tess_groups.values, kmeans_label)"
   ]
  },
  {
   "cell_type": "code",
   "execution_count": null,
   "id": "b7f86a32-aa32-4d32-8e2a-ff5798aa6e09",
   "metadata": {},
   "outputs": [],
   "source": []
  },
  {
   "cell_type": "code",
   "execution_count": null,
   "id": "e3a93fc8-0981-4a45-b73f-3aee63ff6ad9",
   "metadata": {},
   "outputs": [],
   "source": [
    "# plotting = gpd.GeoDataFrame(tess_groups.to_frame(),\n",
    "#                             geometry=tessellation.iloc[tess_groups_ilocs].geometry)\n",
    "# plotting.columns = ['neighbourhood', 'geometry']\n",
    "# plotting['neighbourhood'] = kmeans_label\n",
    "# plotting.explore(column='neighbourhood', categorical=True)"
   ]
  },
  {
   "cell_type": "code",
   "execution_count": null,
   "id": "800a8ceb-89ef-4886-8f41-42652f38f81c",
   "metadata": {},
   "outputs": [],
   "source": []
  },
  {
   "cell_type": "code",
   "execution_count": null,
   "id": "877cef74-d295-4fd8-9a92-2765d614f536",
   "metadata": {},
   "outputs": [],
   "source": []
  },
  {
   "cell_type": "code",
   "execution_count": null,
   "id": "2c7fbe38-3ada-4499-94b9-cb6e41d9190d",
   "metadata": {},
   "outputs": [],
   "source": [
    "# np.save('../data/umap.npy', embedding)\n"
   ]
  },
  {
   "cell_type": "code",
   "execution_count": null,
   "id": "87f8b4dc-37b5-48a9-9571-d2fc2d1a0856",
   "metadata": {},
   "outputs": [],
   "source": [
    "# embedding = np.load('../data/umap.npy')"
   ]
  },
  {
   "cell_type": "code",
   "execution_count": null,
   "id": "3a99e66e-57dc-4b98-a082-02b85c4a9dc5",
   "metadata": {},
   "outputs": [],
   "source": []
  },
  {
   "cell_type": "markdown",
   "id": "a38455e8-72d0-4eed-a42b-60fdd65f89f8",
   "metadata": {},
   "source": [
    "### HDBSCAN"
   ]
  },
  {
   "cell_type": "code",
   "execution_count": null,
   "id": "94e85f05-cd6b-4741-9c73-05c29b184186",
   "metadata": {},
   "outputs": [],
   "source": []
  },
  {
   "cell_type": "code",
   "execution_count": null,
   "id": "74ae7621-98e5-4bd6-a9ad-01198fc42da4",
   "metadata": {},
   "outputs": [],
   "source": [
    "## EVOC\n"
   ]
  },
  {
   "cell_type": "code",
   "execution_count": null,
   "id": "2600939a-8bed-4654-a9fc-37676ac22ec6",
   "metadata": {},
   "outputs": [],
   "source": []
  },
  {
   "cell_type": "code",
   "execution_count": null,
   "id": "3e7f2793-ea5a-46aa-91de-37d18a1e0295",
   "metadata": {},
   "outputs": [],
   "source": []
  },
  {
   "cell_type": "code",
   "execution_count": null,
   "id": "1d786a1c-be96-48d6-a33d-5d641c2d1fd2",
   "metadata": {},
   "outputs": [],
   "source": [
    "from fast_hdbscan.boruvka import parallel_boruvka\n",
    "from fast_hdbscan.cluster_trees import (\n",
    "    cluster_tree_from_condensed_tree,\n",
    "    condense_tree,\n",
    "    extract_eom_clusters,\n",
    "    get_cluster_label_vector,\n",
    "    mst_to_linkage_tree,\n",
    ")\n",
    "from fast_hdbscan.numba_kdtree import kdtree_to_numba\n",
    "from sklearn.neighbors import KDTree"
   ]
  },
  {
   "cell_type": "code",
   "execution_count": null,
   "id": "05ba3f3d-ef6e-4e82-84ab-b237a06fe9ed",
   "metadata": {},
   "outputs": [],
   "source": []
  },
  {
   "cell_type": "code",
   "execution_count": null,
   "id": "6d61323f-9d52-467f-9c9d-538296ef33da",
   "metadata": {},
   "outputs": [],
   "source": [
    "min_cluster_size = 25"
   ]
  },
  {
   "cell_type": "code",
   "execution_count": null,
   "id": "730112bb-546c-4fe0-beac-bf3d2cf1f6f0",
   "metadata": {},
   "outputs": [],
   "source": [
    "%%time\n",
    "sklearn_tree = KDTree(embedding)"
   ]
  },
  {
   "cell_type": "code",
   "execution_count": null,
   "id": "9a1268bf-2627-4a8a-9e16-066209fb20eb",
   "metadata": {},
   "outputs": [],
   "source": [
    "%%time\n",
    "numba_tree = kdtree_to_numba(sklearn_tree)"
   ]
  },
  {
   "cell_type": "code",
   "execution_count": null,
   "id": "37bf72b9-0773-477c-8227-98457a085228",
   "metadata": {},
   "outputs": [],
   "source": [
    "%%time\n",
    "edges = parallel_boruvka(numba_tree, min_samples=min_cluster_size)"
   ]
  },
  {
   "cell_type": "code",
   "execution_count": null,
   "id": "98c04257-3f04-4320-8956-a5b56307dc43",
   "metadata": {},
   "outputs": [],
   "source": [
    "sorted_mst = edges[np.argsort(edges.T[2])]"
   ]
  },
  {
   "cell_type": "code",
   "execution_count": null,
   "id": "4b83786a-9e9f-4bd7-bd69-c80f4aadf082",
   "metadata": {},
   "outputs": [],
   "source": [
    "%%time\n",
    "linkage_tree = mst_to_linkage_tree(sorted_mst)"
   ]
  },
  {
   "cell_type": "code",
   "execution_count": null,
   "id": "a2826a45-0b1d-42bd-90de-4e1f572636ac",
   "metadata": {},
   "outputs": [],
   "source": [
    "condensed_tree = condense_tree(linkage_tree, min_cluster_size=100)\n",
    "cluster_tree = cluster_tree_from_condensed_tree(condensed_tree)\n",
    "selected_clusters = extract_eom_clusters(\n",
    "    condensed_tree, cluster_tree, allow_single_cluster=False\n",
    ")\n",
    "clusters = get_cluster_label_vector(condensed_tree, selected_clusters, 0)"
   ]
  },
  {
   "cell_type": "code",
   "execution_count": null,
   "id": "a0cb7a30-f633-4323-9407-502a6e0aff59",
   "metadata": {},
   "outputs": [],
   "source": [
    "from sklearn.metrics import adjusted_rand_score\n",
    "adjusted_rand_score(tess_groups.values, clusters[tess_groups_ilocs])"
   ]
  },
  {
   "cell_type": "code",
   "execution_count": null,
   "id": "6dee73ec-24e6-4347-a7c8-065ec46a683c",
   "metadata": {},
   "outputs": [],
   "source": [
    "np.unique(clusters, return_counts=True)"
   ]
  },
  {
   "cell_type": "code",
   "execution_count": null,
   "id": "84d48b95-f495-429e-9982-f207658dda4e",
   "metadata": {},
   "outputs": [],
   "source": [
    "davies_bouldin_score(\n",
    "    embedding[tess_groups_ilocs], \n",
    "    tess_groups.values\n",
    ")"
   ]
  },
  {
   "cell_type": "code",
   "execution_count": null,
   "id": "b4dbac33-d4aa-47b7-94de-950d392e19b0",
   "metadata": {},
   "outputs": [],
   "source": [
    "from lonboard import PolygonLayer, Map\n",
    "from lonboard.basemap import CartoBasemap\n",
    "from lonboard.colormap import apply_categorical_cmap\n",
    "from palettable.colorbrewer.qualitative import Set3_12"
   ]
  },
  {
   "cell_type": "code",
   "execution_count": null,
   "id": "dba9e6c1-5904-487d-ac3d-21d2ba52a3b5",
   "metadata": {},
   "outputs": [],
   "source": [
    "plotting = tessellation.loc[X_train.index].copy()\n",
    "\n",
    "plotting[\"label\"] = clusters"
   ]
  },
  {
   "cell_type": "code",
   "execution_count": null,
   "id": "c803e06b-4271-4319-90a5-13e5e17dc541",
   "metadata": {},
   "outputs": [],
   "source": []
  },
  {
   "cell_type": "code",
   "execution_count": null,
   "id": "fb596f40-03d2-4e75-b759-a7f1f784cbfc",
   "metadata": {},
   "outputs": [],
   "source": [
    "from core.cluster_validation import get_color\n",
    "colors = get_color(clusters)"
   ]
  },
  {
   "cell_type": "code",
   "execution_count": null,
   "id": "89d69975-c771-4bad-85db-170233ae7b3d",
   "metadata": {},
   "outputs": [],
   "source": [
    "layer = PolygonLayer.from_geopandas(\n",
    "    gdf=plotting[[\"geometry\", \"label\"]], get_fill_color=colors, opacity=0.15\n",
    ")"
   ]
  },
  {
   "cell_type": "code",
   "execution_count": null,
   "id": "02a45de9-17a8-428d-b3f9-455dbfe5b10a",
   "metadata": {},
   "outputs": [],
   "source": [
    "# m = Map(layer, basemap_style=CartoBasemap.Positron)\n",
    "# m"
   ]
  },
  {
   "cell_type": "code",
   "execution_count": null,
   "id": "4f653290-8a78-45f0-b825-4e464e25f769",
   "metadata": {},
   "outputs": [],
   "source": [
    "layer.get_fill_color = get_color(cluster_layers[4])"
   ]
  },
  {
   "cell_type": "code",
   "execution_count": null,
   "id": "0403233d-840a-4eb5-ac25-d4ad984c5c8b",
   "metadata": {},
   "outputs": [],
   "source": []
  },
  {
   "cell_type": "code",
   "execution_count": null,
   "id": "f85af7c5-ae62-4411-91d8-f6e14b1ab5b1",
   "metadata": {},
   "outputs": [],
   "source": [
    "from evoc.clustering import binary_search_for_n_clusters"
   ]
  },
  {
   "cell_type": "code",
   "execution_count": null,
   "id": "fe2f89cf-2e71-4165-9013-2ddce56a09fa",
   "metadata": {},
   "outputs": [],
   "source": [
    "res = binary_search_for_n_clusters(X_train.values, 10, min_samples=n_neighbors)"
   ]
  },
  {
   "cell_type": "code",
   "execution_count": null,
   "id": "a4edf114-0453-4838-896a-c3b92fca22bc",
   "metadata": {},
   "outputs": [],
   "source": [
    "res"
   ]
  },
  {
   "cell_type": "code",
   "execution_count": null,
   "id": "853b02be-ca21-43da-a1f5-208b7e9d6c80",
   "metadata": {},
   "outputs": [],
   "source": [
    "%%time\n",
    "\n",
    "from evoc.clustering import build_cluster_layers\n",
    "\n",
    "# input_embedding = embedding\n",
    "input_embedding = embedding\n",
    "min_num_clusters = 4\n",
    "min_samples = n_neighbors\n",
    "base_min_cluster_size = min_samples\n",
    "next_cluster_size_quantile = .8\n",
    "\n",
    "cluster_layers, membership_strengths = build_cluster_layers(\n",
    "            input_embedding,\n",
    "            min_clusters=min_num_clusters,\n",
    "            min_samples=min_samples,\n",
    "            base_min_cluster_size=base_min_cluster_size,\n",
    "            next_cluster_size_quantile=next_cluster_size_quantile,\n",
    ")"
   ]
  },
  {
   "cell_type": "code",
   "execution_count": null,
   "id": "1154580f-4206-4c83-b3f6-af9f867cd99e",
   "metadata": {},
   "outputs": [],
   "source": [
    "n_points_clustered_per_layer = [\n",
    "    # np.sum(layer >= 0) for layer in cluster_layers\n",
    "    np.mean(layer_strengths[layer_clusters >= 0]) for layer_clusters, layer_strengths in zip(cluster_layers, membership_strengths)\n",
    "]\n",
    "best_layer = np.argmax(n_points_clustered_per_layer)\n",
    "best_layer"
   ]
  },
  {
   "cell_type": "code",
   "execution_count": null,
   "id": "8bb1fe95-18c6-4329-89ab-7420655aeb07",
   "metadata": {},
   "outputs": [],
   "source": [
    "n_points_clustered_per_layer"
   ]
  },
  {
   "cell_type": "code",
   "execution_count": null,
   "id": "829fb5bf-dc08-40b1-b30e-097d1b9ca9c2",
   "metadata": {},
   "outputs": [],
   "source": []
  },
  {
   "cell_type": "code",
   "execution_count": null,
   "id": "53ca5355-cc9c-481a-aba1-ce5baaa1e856",
   "metadata": {},
   "outputs": [],
   "source": []
  },
  {
   "cell_type": "code",
   "execution_count": null,
   "id": "05b3e784-609a-4067-a664-1b66652fa0d1",
   "metadata": {},
   "outputs": [],
   "source": []
  },
  {
   "cell_type": "markdown",
   "id": "4a39c0cb-3639-44f8-a6f0-58d5ef988a5d",
   "metadata": {},
   "source": [
    "#### Assign noise points to nearest cluster\n"
   ]
  },
  {
   "cell_type": "code",
   "execution_count": null,
   "id": "9ff377a7-3b21-4b2e-b447-c95a7c4b2d5c",
   "metadata": {},
   "outputs": [],
   "source": [
    "from fast_hdbscan.numba_kdtree import parallel_tree_query\n",
    "from fast_hdbscan.numba_kdtree import parallel_tree_query"
   ]
  },
  {
   "cell_type": "code",
   "execution_count": null,
   "id": "ac67a6e5-7a19-4dc2-93c7-a0fb7fc3b039",
   "metadata": {},
   "outputs": [],
   "source": [
    "clustered_data = X_train[clusters >= 0]\n",
    "unclustered_data = X_train[clusters == -1]"
   ]
  },
  {
   "cell_type": "code",
   "execution_count": null,
   "id": "e42ed530-6a98-4bf6-ba0b-b88ebb4c4c4e",
   "metadata": {
    "scrolled": true
   },
   "outputs": [],
   "source": [
    "%%time\n",
    "sklearn_tree = KDTree(clustered_data)\n",
    "numba_tree = kdtree_to_numba(sklearn_tree)"
   ]
  },
  {
   "cell_type": "code",
   "execution_count": null,
   "id": "e97fd6ad-3111-45aa-9ff7-d755c3c25d33",
   "metadata": {},
   "outputs": [],
   "source": []
  },
  {
   "cell_type": "code",
   "execution_count": null,
   "id": "fb90fd4d-3311-4a9e-9898-6b6c999362bb",
   "metadata": {},
   "outputs": [],
   "source": [
    "%%time\n",
    "distances, knns = parallel_tree_query(numba_tree, np.array(unclustered_data, order='C'), k=1)"
   ]
  },
  {
   "cell_type": "code",
   "execution_count": null,
   "id": "31e6743a-3e41-417f-bf82-b771517883b6",
   "metadata": {},
   "outputs": [],
   "source": [
    "pd.Series(distances[:, 0]).describe()"
   ]
  },
  {
   "cell_type": "code",
   "execution_count": null,
   "id": "e2e1d007-f397-4802-a464-87abcc1ec20f",
   "metadata": {},
   "outputs": [],
   "source": [
    "new_labels = clusters.copy()\n",
    "\n",
    "## which cluster should the noise points be assigned to\n",
    "assignments = clusters[np.where(clusters >= 0)[0][knns[:, 0]]]\n",
    "\n",
    "new_labels[new_labels == -1] = assignments"
   ]
  },
  {
   "cell_type": "code",
   "execution_count": null,
   "id": "8f600e6c-04e3-433c-94bb-3828a6071ac9",
   "metadata": {},
   "outputs": [],
   "source": []
  },
  {
   "cell_type": "code",
   "execution_count": null,
   "id": "b9ade177-6038-4820-9556-6c0a19936d3f",
   "metadata": {},
   "outputs": [],
   "source": [
    "np.save('../data/sample_cluster_labels.npy', new_labels)"
   ]
  },
  {
   "cell_type": "code",
   "execution_count": null,
   "id": "d67b9983-0174-472b-9be5-2f1bd25b4ee6",
   "metadata": {},
   "outputs": [],
   "source": []
  },
  {
   "cell_type": "code",
   "execution_count": null,
   "id": "8a22f1ca-0e56-43dd-bf30-e46b8d695480",
   "metadata": {},
   "outputs": [],
   "source": [
    "to_dissolve = tessellation.loc[X_train.index]"
   ]
  },
  {
   "cell_type": "code",
   "execution_count": null,
   "id": "f26e0205-37bf-4d9c-94dc-bde957effef6",
   "metadata": {},
   "outputs": [],
   "source": [
    "to_dissolve['cluster'] = new_labels"
   ]
  },
  {
   "cell_type": "code",
   "execution_count": null,
   "id": "21c6a7d6-45a2-4bcb-ad0b-174e930f1b52",
   "metadata": {},
   "outputs": [],
   "source": [
    "%%time\n",
    "disolved = to_dissolve.dissolve('cluster')"
   ]
  },
  {
   "cell_type": "code",
   "execution_count": null,
   "id": "efb2fd88-f44c-406b-a8b2-f040ee2dc371",
   "metadata": {},
   "outputs": [],
   "source": [
    "disolved.to_parquet('../data/sample_clusters.parquet')"
   ]
  },
  {
   "cell_type": "code",
   "execution_count": null,
   "id": "4aa7e8aa-5878-49c3-8def-97c0929543c2",
   "metadata": {},
   "outputs": [],
   "source": []
  },
  {
   "cell_type": "markdown",
   "id": "45db0ae3-f95c-46bd-b1a6-1dc4cbaadef7",
   "metadata": {},
   "source": [
    "#### assign duplicates to nearest cluster..."
   ]
  },
  {
   "cell_type": "code",
   "execution_count": null,
   "id": "4a90b7ea-ba3e-4928-8a59-b91b6899540d",
   "metadata": {},
   "outputs": [],
   "source": []
  },
  {
   "cell_type": "code",
   "execution_count": null,
   "id": "b60ecc71-9f61-4f7b-bcb9-20022ec7c92c",
   "metadata": {},
   "outputs": [],
   "source": []
  },
  {
   "cell_type": "code",
   "execution_count": null,
   "id": "913bb1b7-3c1c-4c57-b81e-b2d0aa3202f5",
   "metadata": {},
   "outputs": [],
   "source": [
    "from sidecar import Sidecar\n",
    "sc = Sidecar(title='buildings')"
   ]
  },
  {
   "cell_type": "code",
   "execution_count": null,
   "id": "4fb383f6-040e-45e1-b37b-bceb6718e16f",
   "metadata": {},
   "outputs": [],
   "source": [
    "with sc:\n",
    "    display(m)"
   ]
  },
  {
   "cell_type": "code",
   "execution_count": null,
   "id": "380d712f-4840-4be7-beb3-e0b5ea38f346",
   "metadata": {},
   "outputs": [],
   "source": []
  },
  {
   "cell_type": "code",
   "execution_count": null,
   "id": "c315f515-8180-461f-988c-9a437286dbcf",
   "metadata": {},
   "outputs": [],
   "source": []
  },
  {
   "cell_type": "code",
   "execution_count": null,
   "id": "2a79ba56-cce6-45ca-8938-6ba9a167dac4",
   "metadata": {},
   "outputs": [],
   "source": []
  },
  {
   "cell_type": "markdown",
   "id": "bc201944-1e10-45d9-a05e-0cbed32330bf",
   "metadata": {
    "jp-MarkdownHeadingCollapsed": true
   },
   "source": [
    "## KMEANS"
   ]
  },
  {
   "cell_type": "code",
   "execution_count": null,
   "id": "b8094f87-98c9-4982-b28c-a4e4ce883d3a",
   "metadata": {},
   "outputs": [],
   "source": [
    "## append individual original data\n",
    "\n",
    "# embedding = X_train\n",
    "# embedding = X_train[[c for c in X_train.columns if 'median' in c]]\n",
    "\n",
    "# to_add = primary.loc[X_train.index]\n",
    "# to_add = np.nan_to_num(StandardScaler().fit_transform(to_add))\n",
    "# to_add = pd.DataFrame(to_add, columns=primary.columns, index=X_train.index)\n",
    "# to_add = to_add.clip(-10, 10)\n",
    "# check_score(X, tess_groups)\n",
    "\n",
    "# embedding = pd.concat((embedding, to_add), axis=1)"
   ]
  },
  {
   "cell_type": "code",
   "execution_count": null,
   "id": "6e64cfaa-b791-4b79-af0f-3f5515aebdb2",
   "metadata": {},
   "outputs": [],
   "source": []
  },
  {
   "cell_type": "code",
   "execution_count": null,
   "id": "ec26fd49-c174-4f54-abe1-78605cabc264",
   "metadata": {
    "scrolled": true
   },
   "outputs": [],
   "source": [
    "for k in range(2, 20):\n",
    "    kmeans_label = (\n",
    "    KMeans(n_clusters=k)\n",
    "        .fit(embedding)\n",
    "        .labels_\n",
    "    )\n",
    "\n",
    "    print(k, adjusted_rand_score(tess_groups.values, kmeans_label[tess_groups_ilocs]), davies_bouldin_score(X_train, kmeans_label))"
   ]
  },
  {
   "cell_type": "code",
   "execution_count": null,
   "id": "cd6b1316-c4b0-4156-96a7-d2738763af64",
   "metadata": {},
   "outputs": [],
   "source": [
    "# kmeans_label = (\n",
    "#     KMeans(n_clusters=18)\n",
    "#         .fit(pca_embedding)\n",
    "#         .labels_\n",
    "#     )"
   ]
  },
  {
   "cell_type": "code",
   "execution_count": null,
   "id": "722925bd-feb6-4ba8-9723-9ee6117783bb",
   "metadata": {},
   "outputs": [],
   "source": []
  },
  {
   "cell_type": "code",
   "execution_count": null,
   "id": "f1669af8-7493-4d86-a45f-7e5d040f183b",
   "metadata": {},
   "outputs": [],
   "source": [
    "plotting = tessellation.loc[X_train.index].copy()\n",
    "\n",
    "plotting[\"label\"] = kmeans_label"
   ]
  },
  {
   "cell_type": "code",
   "execution_count": null,
   "id": "32ed8f4d-8f80-4409-baa4-5ddea1a8dcbe",
   "metadata": {},
   "outputs": [],
   "source": []
  },
  {
   "cell_type": "code",
   "execution_count": null,
   "id": "a9a966c1-db38-4ea8-8d24-43fa7086f95b",
   "metadata": {},
   "outputs": [],
   "source": [
    "import glasbey\n",
    "\n",
    "\n",
    "def hex_to_rgb(hexa):\n",
    "    return tuple(int(hexa[i : i + 2], 16) for i in (0, 2, 4))\n",
    "\n",
    "\n",
    "if plotting[\"label\"].max() > 12:\n",
    "    gb_cols = glasbey.extend_palette(\n",
    "        Set3_12.hex_colors, palette_size=plotting[\"label\"].unique().shape[0] + 1\n",
    "    )\n",
    "else:\n",
    "    gb_cols = Set3_12.hex_colors\n",
    "\n",
    "gb_cols = [hex_to_rgb(c[1:]) for c in gb_cols]\n",
    "\n",
    "colors = apply_categorical_cmap(\n",
    "    plotting[\"label\"], cmap=dict(zip(np.unique(plotting[\"label\"]), gb_cols, strict=False))\n",
    ")"
   ]
  },
  {
   "cell_type": "code",
   "execution_count": null,
   "id": "5c63df1b-5c11-402a-b7fe-511d69f798e4",
   "metadata": {},
   "outputs": [],
   "source": [
    "layer = PolygonLayer.from_geopandas(\n",
    "    gdf=plotting[[\"geometry\", \"label\"]], get_fill_color=colors, opacity=0.15\n",
    ")"
   ]
  },
  {
   "cell_type": "code",
   "execution_count": null,
   "id": "7808f3be-1589-4021-a6b1-bac85ac473a9",
   "metadata": {},
   "outputs": [],
   "source": [
    "# m = Map(layer, basemap_style=CartoBasemap.Positron)\n",
    "# m"
   ]
  },
  {
   "cell_type": "code",
   "execution_count": null,
   "id": "39efeb88-8f5d-4a21-85db-668db56788fa",
   "metadata": {},
   "outputs": [],
   "source": []
  },
  {
   "cell_type": "code",
   "execution_count": null,
   "id": "5198727d-bfac-4673-a594-a8be237d88e0",
   "metadata": {},
   "outputs": [],
   "source": []
  },
  {
   "cell_type": "code",
   "execution_count": null,
   "id": "c8aace5b-3784-417a-95ba-2d163d0ef3f1",
   "metadata": {},
   "outputs": [],
   "source": []
  },
  {
   "cell_type": "code",
   "execution_count": null,
   "id": "52d82405-dd70-49b0-9fd9-7468d994314a",
   "metadata": {},
   "outputs": [],
   "source": []
  },
  {
   "cell_type": "code",
   "execution_count": null,
   "id": "d28d1e07-c2ea-4f71-888e-80d67bc2ee1d",
   "metadata": {
    "scrolled": true
   },
   "outputs": [],
   "source": [
    "%%time\n",
    "imps = get_feature_importance(X_train, kmeans_label)"
   ]
  },
  {
   "cell_type": "code",
   "execution_count": null,
   "id": "5dca73c3-3305-4ead-93ae-cd3236519830",
   "metadata": {},
   "outputs": [],
   "source": []
  },
  {
   "cell_type": "code",
   "execution_count": null,
   "id": "d2c6d6ec-443f-4c69-97fd-b5056f34925c",
   "metadata": {},
   "outputs": [],
   "source": [
    "colored_crosstab(tess_groups.values, kmeans_label[tess_groups_ilocs])"
   ]
  },
  {
   "cell_type": "code",
   "execution_count": null,
   "id": "33d85a43-423b-40b5-919f-7dafbda91cb3",
   "metadata": {},
   "outputs": [],
   "source": []
  },
  {
   "cell_type": "code",
   "execution_count": null,
   "id": "ca3f00d8-3bb2-4571-bb30-97f62eb2a98d",
   "metadata": {},
   "outputs": [],
   "source": [
    "selected = [0, 3, 4, 5, 14]\n",
    "imps[np.concat([(f'cluster_{c}', f'cluster_{c}_vals') for c in selected])].iloc[:20, ]"
   ]
  },
  {
   "cell_type": "code",
   "execution_count": null,
   "id": "2f67e99e-a010-4966-a12a-8186539be979",
   "metadata": {},
   "outputs": [],
   "source": []
  },
  {
   "cell_type": "code",
   "execution_count": null,
   "id": "6934414e-39d8-4886-bb4e-17c67d051251",
   "metadata": {},
   "outputs": [],
   "source": [
    "np.unique(np.concatenate(imps.iloc[:20].values)).shape"
   ]
  },
  {
   "cell_type": "code",
   "execution_count": null,
   "id": "19222509-ece7-4fa1-98b5-f51e056fed40",
   "metadata": {},
   "outputs": [],
   "source": []
  },
  {
   "cell_type": "code",
   "execution_count": null,
   "id": "741db447-833a-4641-ba17-0296946a914d",
   "metadata": {},
   "outputs": [],
   "source": []
  },
  {
   "cell_type": "code",
   "execution_count": null,
   "id": "6d1488c9-1a0e-4c3a-bc08-a48ead622199",
   "metadata": {},
   "outputs": [],
   "source": []
  },
  {
   "cell_type": "code",
   "execution_count": null,
   "id": "85d25bc8-66fd-4b01-baf6-bf755318b84b",
   "metadata": {},
   "outputs": [],
   "source": [
    "%%time\n",
    "imps = get_feature_importance(X_train.iloc[tess_groups_ilocs], tess_groups.values)"
   ]
  },
  {
   "cell_type": "code",
   "execution_count": null,
   "id": "9741f8aa-9bf4-4fac-9d9c-9d74d1a1a566",
   "metadata": {},
   "outputs": [],
   "source": [
    "used_keys['ltbIBD']"
   ]
  },
  {
   "cell_type": "code",
   "execution_count": null,
   "id": "7f0f2452-7474-4216-ab72-448b27e71fb7",
   "metadata": {},
   "outputs": [],
   "source": []
  },
  {
   "cell_type": "code",
   "execution_count": null,
   "id": "c8b43cea-8254-4c97-bb3f-b5736faf9e04",
   "metadata": {},
   "outputs": [],
   "source": [
    "imps"
   ]
  },
  {
   "cell_type": "code",
   "execution_count": null,
   "id": "8d4a15d9-d382-4c01-ad08-a3547cb6e7bc",
   "metadata": {},
   "outputs": [],
   "source": []
  },
  {
   "cell_type": "code",
   "execution_count": null,
   "id": "82a82f5b-a3c9-422b-a914-875303cccd42",
   "metadata": {},
   "outputs": [],
   "source": []
  },
  {
   "cell_type": "code",
   "execution_count": null,
   "id": "96baeab2-0a05-4d39-b330-2d2fb88cf868",
   "metadata": {},
   "outputs": [],
   "source": []
  },
  {
   "cell_type": "code",
   "execution_count": null,
   "id": "ff550bde-29e1-40c6-bddc-ac57e0fc5a90",
   "metadata": {},
   "outputs": [],
   "source": []
  },
  {
   "cell_type": "code",
   "execution_count": null,
   "id": "02dc4ad9-95fb-46ef-a459-969cbd96dc62",
   "metadata": {},
   "outputs": [],
   "source": []
  },
  {
   "cell_type": "markdown",
   "id": "c2f2e177-e04f-48d4-aa98-a418feecdd10",
   "metadata": {},
   "source": [
    "## Hierarchical "
   ]
  },
  {
   "cell_type": "code",
   "execution_count": null,
   "id": "0fd9c1f6-9d28-455a-8dc3-fa11d8e0cd58",
   "metadata": {},
   "outputs": [],
   "source": [
    "embedding = X_train"
   ]
  },
  {
   "cell_type": "code",
   "execution_count": 46,
   "id": "93516ddd-f966-49d3-9632-1bd248b9b146",
   "metadata": {},
   "outputs": [],
   "source": [
    "embedding = reducer.embedding_"
   ]
  },
  {
   "cell_type": "code",
   "execution_count": null,
   "id": "7f9c8fbd-27fd-4300-98ec-da0c7aee27fb",
   "metadata": {},
   "outputs": [],
   "source": []
  },
  {
   "cell_type": "code",
   "execution_count": 47,
   "id": "48e87b12-4bbc-4ab7-8c18-f9084d449c90",
   "metadata": {},
   "outputs": [],
   "source": [
    "from sklearn.cluster import AgglomerativeClustering\n",
    "from scipy.cluster.hierarchy import dendrogram\n",
    "from scipy.cluster.hierarchy import fcluster\n",
    "from sklearn.metrics import adjusted_rand_score\n",
    "from sklearn.metrics import davies_bouldin_score"
   ]
  },
  {
   "cell_type": "code",
   "execution_count": 48,
   "id": "f3078808-a412-40aa-aedd-eced09b62ade",
   "metadata": {},
   "outputs": [],
   "source": [
    "q1 = read_parquet(graph_dir + f\"tessellation_graph_{region_id}_knn1.parquet\")\n",
    "q1 = q1.higher_order(k=3, lower_order=True, diagonal=True)\n",
    "\n",
    "# q1 = graph\n",
    "\n",
    "clustering_graph = q1.subgraph(X_train.index.values).transform('B').sparse"
   ]
  },
  {
   "cell_type": "code",
   "execution_count": null,
   "id": "7b457dc4-977f-412f-b186-6298b61139fb",
   "metadata": {},
   "outputs": [],
   "source": []
  },
  {
   "cell_type": "code",
   "execution_count": 49,
   "id": "514d4ba9-0c21-485c-be0b-667f98fe3166",
   "metadata": {},
   "outputs": [],
   "source": [
    "clusterer = AgglomerativeClustering(linkage='ward',\n",
    "                                    connectivity=clustering_graph, \n",
    "                                    compute_full_tree=True, compute_distances=True)"
   ]
  },
  {
   "cell_type": "code",
   "execution_count": 50,
   "id": "cdc5be32-9485-4707-873d-cc64048086df",
   "metadata": {},
   "outputs": [
    {
     "name": "stderr",
     "output_type": "stream",
     "text": [
      "/home/krasen/miniconda3/envs/urban_taxonomy/lib/python3.12/site-packages/sklearn/cluster/_agglomerative.py:323: UserWarning: the number of connected components of the connectivity matrix is 27 > 1. Completing it to avoid stopping the tree early.\n",
      "  connectivity, n_connected_components = _fix_connectivity(\n"
     ]
    },
    {
     "name": "stdout",
     "output_type": "stream",
     "text": [
      "CPU times: user 7.41 s, sys: 80 ms, total: 7.49 s\n",
      "Wall time: 5.3 s\n"
     ]
    }
   ],
   "source": [
    "%%time\n",
    "model = clusterer.fit(embedding)"
   ]
  },
  {
   "cell_type": "code",
   "execution_count": null,
   "id": "ae290542-2c8e-493c-b873-06832d1b2919",
   "metadata": {},
   "outputs": [],
   "source": []
  },
  {
   "cell_type": "code",
   "execution_count": null,
   "id": "ab5d60cc-9c33-4a66-920e-74be756b9a6b",
   "metadata": {},
   "outputs": [],
   "source": []
  },
  {
   "cell_type": "code",
   "execution_count": null,
   "id": "ade5d6eb-b0bb-4eb0-9296-3b133958b3fa",
   "metadata": {},
   "outputs": [],
   "source": []
  },
  {
   "cell_type": "code",
   "execution_count": null,
   "id": "88143c69-ee03-4d99-a3e1-6340d40cb5de",
   "metadata": {},
   "outputs": [],
   "source": []
  },
  {
   "cell_type": "code",
   "execution_count": 51,
   "id": "f75b6794-4039-430d-9cf8-d134d5bdc781",
   "metadata": {},
   "outputs": [],
   "source": [
    "def get_linkage_matrix(model):\n",
    "    # Create linkage matrix and then plot the dendrogram\n",
    "\n",
    "    # create the counts of samples under each node\n",
    "    counts = np.zeros(model.children_.shape[0])\n",
    "    n_samples = len(model.labels_)\n",
    "    for i, merge in enumerate(model.children_):\n",
    "        current_count = 0\n",
    "        for child_idx in merge:\n",
    "            if child_idx < n_samples:\n",
    "                current_count += 1  # leaf node\n",
    "            else:\n",
    "                current_count += counts[child_idx - n_samples]\n",
    "        counts[i] = current_count\n",
    "\n",
    "    linkage_matrix = np.column_stack(\n",
    "        [model.children_, model.distances_, counts]\n",
    "    ).astype(float)\n",
    "    return linkage_matrix"
   ]
  },
  {
   "cell_type": "code",
   "execution_count": 52,
   "id": "83f13894-0e1d-48dd-9dfa-220014476b2d",
   "metadata": {},
   "outputs": [],
   "source": [
    "linkage_matrix = get_linkage_matrix(model)"
   ]
  },
  {
   "cell_type": "code",
   "execution_count": null,
   "id": "7e82f195-b0fe-4853-85d1-8c5ab756c0f8",
   "metadata": {},
   "outputs": [],
   "source": []
  },
  {
   "cell_type": "code",
   "execution_count": 53,
   "id": "9f9709bd-11ea-49bf-a784-1b433381d2da",
   "metadata": {},
   "outputs": [
    {
     "data": {
      "image/png": "[encoded data removed]",
      "text/plain": [
       "<Figure size 4000x4000 with 1 Axes>"
      ]
     },
     "metadata": {},
     "output_type": "display_data"
    }
   ],
   "source": [
    "fix, ax = plt.subplots(figsize=(40,40))\n",
    "# Plot the corresponding dendrogram\n",
    "_ = dendrogram(linkage_matrix, truncate_mode=\"level\", p=5, ax=ax)"
   ]
  },
  {
   "cell_type": "code",
   "execution_count": 55,
   "id": "6a295065-9e3d-4bb5-a9d6-94c3ce5a8b4a",
   "metadata": {},
   "outputs": [
    {
     "name": "stdout",
     "output_type": "stream",
     "text": [
      "50  -  3.5471318799809257 375.6664084645414\n",
      "100  -  3.721423965873348 470.0581675334533\n",
      "150  -  4.105514086952385 513.1965027318491\n",
      "200  -  4.267200145383798 600.3173384683571\n",
      "250  -  4.047700044886316 667.5580994298883\n",
      "300  -  4.143110871547471 688.0402235138519\n",
      "350  -  4.143110871547471 688.0402235138519\n",
      "400  -  4.143110871547471 688.0402235138519\n",
      "450  -  4.154990944363187 683.8376377905672\n",
      "500  -  4.106640100371632 720.9259611751281\n",
      "550  -  4.246264396721982 791.06787337862\n",
      "600  -  4.246264396721982 791.06787337862\n",
      "650  -  4.25877415874191 833.0267929513459\n",
      "700  -  4.533999144964662 753.8363969699094\n",
      "750  -  4.533999144964662 753.8363969699094\n"
     ]
    }
   ],
   "source": [
    "for t in range(50, 800, 50):\n",
    "    r = fcluster(linkage_matrix, t=t, criterion='distance')\n",
    "    # r = pd.Series(r, index=X_train.index)\n",
    "    # # ssplits = graph.describe(r, statistics=['nunique'])['nunique']\n",
    "    print(t, ' - ', \n",
    "          # adjusted_rand_score(tess_groups.values, r[tess_groups_ilocs]),\n",
    "          # (ssplits > 1).sum() / ssplits.shape[0],\n",
    "          davies_bouldin_score(X_train, r),\n",
    "          calinski_harabasz_score(X_train, r)\n",
    "         )"
   ]
  },
  {
   "cell_type": "code",
   "execution_count": 54,
   "id": "bf2ed9ea-9dc1-4131-8650-c164a08534c1",
   "metadata": {},
   "outputs": [],
   "source": [
    "from sklearn.metrics import calinski_harabasz_score"
   ]
  },
  {
   "cell_type": "code",
   "execution_count": 56,
   "id": "649bdc38-a3f8-4add-bb20-fde18397780c",
   "metadata": {},
   "outputs": [],
   "source": [
    "clusters = fcluster(linkage_matrix, t=500, criterion='distance')"
   ]
  },
  {
   "cell_type": "code",
   "execution_count": 57,
   "id": "f6cfd7f2-50a1-45c3-b3e7-ef9548328fbe",
   "metadata": {},
   "outputs": [
    {
     "data": {
      "text/plain": [
       "(array([1, 2, 3, 4, 5, 6, 7, 8], dtype=int32),\n",
       " array([3152, 2823, 5645, 8039, 2828, 3828,  893, 8859]))"
      ]
     },
     "execution_count": 57,
     "metadata": {},
     "output_type": "execute_result"
    }
   ],
   "source": [
    "np.unique(clusters, return_counts=True)"
   ]
  },
  {
   "cell_type": "code",
   "execution_count": null,
   "id": "7d028176-3b86-4d7e-b173-7e641ffd125c",
   "metadata": {},
   "outputs": [],
   "source": []
  },
  {
   "cell_type": "code",
   "execution_count": 58,
   "id": "7ec03c61-1bc3-4fee-b18a-595b6a956fc8",
   "metadata": {},
   "outputs": [],
   "source": [
    "plotting = tessellation.loc[X_train.index].copy()\n",
    "\n",
    "plotting[\"label\"] = clusters"
   ]
  },
  {
   "cell_type": "code",
   "execution_count": null,
   "id": "3629e28d-eeaf-46e1-9198-04c4baa32aeb",
   "metadata": {},
   "outputs": [],
   "source": []
  },
  {
   "cell_type": "code",
   "execution_count": 59,
   "id": "3a982608-28c1-4b8b-a87d-cee0210429ca",
   "metadata": {},
   "outputs": [
    {
     "name": "stderr",
     "output_type": "stream",
     "text": [
      "/home/krasen/miniconda3/envs/urban_taxonomy/lib/python3.12/site-packages/lonboard/_geoarrow/ops/reproject.py:97: UserWarning: Input being reprojected to EPSG:4326 CRS\n",
      "  warnings.warn(\"Input being reprojected to EPSG:4326 CRS\")\n"
     ]
    },
    {
     "name": "stdout",
     "output_type": "stream",
     "text": [
      "CPU times: user 666 ms, sys: 43.8 ms, total: 710 ms\n",
      "Wall time: 709 ms\n"
     ]
    }
   ],
   "source": [
    "%%time\n",
    "import lonboard\n",
    "plotting = tessellation[tessellation.index.isin(X_train.index)].copy()\n",
    "layer = lonboard.PolygonLayer.from_geopandas(plotting, opacity=.08)"
   ]
  },
  {
   "cell_type": "code",
   "execution_count": 60,
   "id": "faf71c5b-77f7-4390-84eb-ab603720793d",
   "metadata": {},
   "outputs": [],
   "source": [
    "from sidecar import Sidecar\n",
    "sc = Sidecar(title='Clusters')\n",
    "m = lonboard.Map(layer, basemap_style=lonboard.basemap.CartoBasemap.Positron)\n",
    "with sc:\n",
    "    display(m)"
   ]
  },
  {
   "cell_type": "code",
   "execution_count": 61,
   "id": "20f68488-33d3-4f25-b072-6b7f294abd5e",
   "metadata": {},
   "outputs": [],
   "source": [
    "from core.cluster_validation import get_color"
   ]
  },
  {
   "cell_type": "code",
   "execution_count": null,
   "id": "841989ce-e6bc-4adc-8c79-fa5be7233212",
   "metadata": {},
   "outputs": [],
   "source": []
  },
  {
   "cell_type": "code",
   "execution_count": 68,
   "id": "2d8c9b38-9d50-4f72-a6c9-38490db3d703",
   "metadata": {},
   "outputs": [],
   "source": [
    "clusters = fcluster(linkage_matrix, t=300, criterion='distance')"
   ]
  },
  {
   "cell_type": "code",
   "execution_count": 69,
   "id": "2a89f719-b717-4ec2-8cda-fc9442149fd7",
   "metadata": {},
   "outputs": [
    {
     "data": {
      "text/plain": [
       "(array([ 1,  2,  3,  4,  5,  6,  7,  8,  9, 10], dtype=int32),\n",
       " array([3152, 2823, 5645, 3690, 4349, 2828, 3828,  893, 3427, 5432]))"
      ]
     },
     "execution_count": 69,
     "metadata": {},
     "output_type": "execute_result"
    }
   ],
   "source": [
    "np.unique(clusters, return_counts=True)"
   ]
  },
  {
   "cell_type": "code",
   "execution_count": 70,
   "id": "3361009c-22f3-4848-acd8-1df9db547f7a",
   "metadata": {},
   "outputs": [],
   "source": [
    "layer.get_fill_color = get_color(clusters)"
   ]
  },
  {
   "cell_type": "code",
   "execution_count": null,
   "id": "504d28a1-2b1a-4ec5-b0fa-43db6f0dfac2",
   "metadata": {},
   "outputs": [],
   "source": []
  },
  {
   "cell_type": "code",
   "execution_count": null,
   "id": "abeeabd6-a0db-4e39-bee5-23ea7b259aa6",
   "metadata": {},
   "outputs": [],
   "source": []
  },
  {
   "cell_type": "code",
   "execution_count": null,
   "id": "4b67d0aa-a0f4-4f4d-b7ba-5306031716b7",
   "metadata": {},
   "outputs": [],
   "source": [
    "\n",
    "cdf = plotting.join(X_train, how='inner')"
   ]
  },
  {
   "cell_type": "code",
   "execution_count": null,
   "id": "5d287e79-1eb0-4fb5-911f-6bab3b70f6b9",
   "metadata": {},
   "outputs": [],
   "source": [
    "cdf['label'] = clusters"
   ]
  },
  {
   "cell_type": "code",
   "execution_count": null,
   "id": "b2d69e5e-fe3a-4231-acb5-29941b58726f",
   "metadata": {},
   "outputs": [],
   "source": [
    "cdf = cdf.dissolve(by='label', aggfunc='mean')"
   ]
  },
  {
   "cell_type": "code",
   "execution_count": null,
   "id": "224888ad-603c-47c8-9c9a-b15fb0557c7b",
   "metadata": {},
   "outputs": [],
   "source": []
  },
  {
   "cell_type": "code",
   "execution_count": null,
   "id": "1c4245c3-5001-49e1-a3b8-142a1f67ff60",
   "metadata": {},
   "outputs": [],
   "source": [
    "# cdf.explore(column=cdf.index.values, categorical=True)"
   ]
  },
  {
   "cell_type": "code",
   "execution_count": null,
   "id": "46630e24-558a-44d3-89f5-96ebeacdfe48",
   "metadata": {},
   "outputs": [],
   "source": [
    "cdf.to_parquet('../data/freiburg/clusters/clusters_freiburg_ward_300.parquet')"
   ]
  },
  {
   "cell_type": "code",
   "execution_count": null,
   "id": "31d30f9d-5f30-4c78-a8ca-845e7febecfe",
   "metadata": {},
   "outputs": [],
   "source": []
  }
 ],
 "metadata": {
  "kernelspec": {
   "display_name": "Python 3 (ipykernel)",
   "language": "python",
   "name": "python3"
  },
  "language_info": {
   "codemirror_mode": {
    "name": "ipython",
    "version": 3
   },
   "file_extension": ".py",
   "mimetype": "text/x-python",
   "name": "python",
   "nbconvert_exporter": "python",
   "pygments_lexer": "ipython3",
   "version": "3.12.4"
  }
 },
 "nbformat": 4,
 "nbformat_minor": 5
}
