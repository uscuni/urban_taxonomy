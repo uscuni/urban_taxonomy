{
 "cells": [
  {
   "cell_type": "code",
   "execution_count": null,
   "id": "65f6f68a-8eea-4bbd-a44e-239fa33f1b32",
   "metadata": {},
   "outputs": [],
   "source": []
  },
  {
   "cell_type": "code",
   "execution_count": 1,
   "id": "e3ad97ce-4cfc-4c17-a3b4-359611030c81",
   "metadata": {},
   "outputs": [],
   "source": [
    "import momepy as mm\n",
    "import numpy as np\n",
    "import numba\n",
    "import geopandas as gpd\n",
    "import pandas as pd\n",
    "import shapely\n",
    "from fast_hdbscan.numba_kdtree import NumbaKDTree, kdtree_to_numba, rdist, point_to_node_lower_bound_rdist\n",
    "from sklearn.preprocessing import StandardScaler\n",
    "from collections import namedtuple\n",
    "from core.cluster_validation import get_linkage_matrix\n",
    "import umap"
   ]
  },
  {
   "cell_type": "code",
   "execution_count": 2,
   "id": "68b72969-58da-4cb1-8a43-367aa1d82697",
   "metadata": {},
   "outputs": [],
   "source": [
    "regions_datadir = \"/data/uscuni-ulce/\"\n",
    "morphotopes_dir = '/data/uscuni-ulce/processed_data/morphotopes/'\n",
    "model_params = '_100_0_None_None_False'"
   ]
  },
  {
   "cell_type": "code",
   "execution_count": null,
   "id": "edd27df1-5437-4850-85a3-d0c73abb1463",
   "metadata": {},
   "outputs": [],
   "source": []
  },
  {
   "cell_type": "code",
   "execution_count": 3,
   "id": "72cd1024-bd6e-4b80-8956-8a36fedb914c",
   "metadata": {},
   "outputs": [
    {
     "name": "stdout",
     "output_type": "stream",
     "text": [
      "CPU times: user 19.6 s, sys: 6.21 s, total: 25.8 s\n",
      "Wall time: 11.6 s\n"
     ]
    }
   ],
   "source": [
    "%%time\n",
    "\n",
    "### read all morphotopes\n",
    "region_hulls = gpd.read_parquet(\n",
    "        regions_datadir + \"regions/\" + \"cadastre_regions_hull.parquet\"\n",
    ")\n",
    "\n",
    "data = []\n",
    "for region_id, _ in region_hulls.iterrows():\n",
    "    region_morphotope_data = pd.read_parquet(f'{morphotopes_dir}data_morphotopes_{region_id}{model_params}.pq')\n",
    "    region_morphotope_data.index = str(region_id) + '_' + region_morphotope_data.index.str[:]\n",
    "    data.append(region_morphotope_data)\n",
    "\n",
    "data = pd.concat(data)"
   ]
  },
  {
   "cell_type": "code",
   "execution_count": 4,
   "id": "c7e18828-f614-4feb-b50e-89b97639440c",
   "metadata": {},
   "outputs": [
    {
     "data": {
      "text/plain": [
       "(1046897, 361)"
      ]
     },
     "execution_count": 4,
     "metadata": {},
     "output_type": "execute_result"
    }
   ],
   "source": [
    "data.shape"
   ]
  },
  {
   "cell_type": "code",
   "execution_count": 5,
   "id": "e8e754f0-9d94-4915-810a-cad3c6974eca",
   "metadata": {},
   "outputs": [],
   "source": [
    "# ## read a single region\n",
    "\n",
    "\n",
    "# # model_params = '_100_3__median_gaussian_False'\n",
    "\n",
    "# region_id = 69333\n",
    "# data = pd.read_parquet(f'{morphotopes_dir}data_morphotopes_{region_id}{model_params}.pq')\n",
    "# data.index = str(region_id) + '_' + data.index"
   ]
  },
  {
   "cell_type": "code",
   "execution_count": null,
   "id": "5d35d63d-d4f9-48a4-ab67-54e8bdd0d831",
   "metadata": {},
   "outputs": [],
   "source": []
  },
  {
   "cell_type": "code",
   "execution_count": 6,
   "id": "447c00e1-cfe0-42e3-bdb2-b6edc4aff395",
   "metadata": {},
   "outputs": [],
   "source": [
    "### drop noise\n",
    "data = data[data.index.str[-2:] != '-1']"
   ]
  },
  {
   "cell_type": "code",
   "execution_count": 7,
   "id": "966f4abe-9c35-4937-af46-83bced1188d2",
   "metadata": {},
   "outputs": [],
   "source": [
    "# data = data.drop(columns=['mibLAL', 'mibCCo'], level=0)"
   ]
  },
  {
   "cell_type": "code",
   "execution_count": null,
   "id": "c107ef2f-b860-4fb5-8a47-3555d3db115c",
   "metadata": {},
   "outputs": [],
   "source": []
  },
  {
   "cell_type": "code",
   "execution_count": 8,
   "id": "649e8d4e-524d-4ba4-b279-33c4cd766397",
   "metadata": {},
   "outputs": [],
   "source": [
    "sizes = data.iloc[:, -1]\n",
    "data = data.iloc[:, :-1]"
   ]
  },
  {
   "cell_type": "code",
   "execution_count": null,
   "id": "df65f0a9-074e-4026-885e-443ccf21a753",
   "metadata": {},
   "outputs": [],
   "source": []
  },
  {
   "cell_type": "code",
   "execution_count": null,
   "id": "050c2485-53b7-4eb3-b12b-264b9c292101",
   "metadata": {},
   "outputs": [],
   "source": []
  },
  {
   "cell_type": "code",
   "execution_count": 9,
   "id": "8c437b5e-8414-4699-83b3-3ac1e11d254f",
   "metadata": {},
   "outputs": [],
   "source": [
    "vals = StandardScaler().fit_transform(data)\n",
    "component_data = pd.DataFrame(vals, columns=data.columns, index=data.index)\n",
    "component_data = component_data.drop(component_data.columns[component_data.std() == 0], axis=1)\n",
    "\n",
    "# component_data = component_data[component_data.index >= 0]\n",
    "vals = np.nan_to_num(component_data)\n",
    "component_data = pd.DataFrame(vals, columns=component_data.columns, index=component_data.index)\n"
   ]
  },
  {
   "cell_type": "code",
   "execution_count": 10,
   "id": "9f4e7df5-69ca-44f4-82e4-81b68c411b17",
   "metadata": {},
   "outputs": [],
   "source": [
    "standardised_data = component_data.copy()"
   ]
  },
  {
   "cell_type": "code",
   "execution_count": 11,
   "id": "131c81c5-0e88-44b2-8438-6a297bdd52cb",
   "metadata": {},
   "outputs": [
    {
     "data": {
      "text/plain": [
       "mean    177.033752\n",
       "std      72.752014\n",
       "min     100.000000\n",
       "25%     122.000000\n",
       "50%     156.000000\n",
       "75%     211.000000\n",
       "max     903.000000\n",
       "Name: (Size, Size), dtype: float64"
      ]
     },
     "execution_count": 11,
     "metadata": {},
     "output_type": "execute_result"
    }
   ],
   "source": [
    "sizes.sort_values(ascending=False).describe().iloc[1:]"
   ]
  },
  {
   "cell_type": "code",
   "execution_count": null,
   "id": "43ead584-6d04-43b9-8861-d1431f32fdb6",
   "metadata": {},
   "outputs": [],
   "source": []
  },
  {
   "cell_type": "code",
   "execution_count": null,
   "id": "eca5fe07-c246-47ae-915e-9388b052d451",
   "metadata": {},
   "outputs": [],
   "source": []
  },
  {
   "cell_type": "code",
   "execution_count": 12,
   "id": "d238ddd7-eaa8-46a8-9cc1-cd76fd5bcee2",
   "metadata": {},
   "outputs": [],
   "source": [
    "component_data = standardised_data.drop(columns=['percentile_25', 'percentile_75', 'median', 'std'], level=1)"
   ]
  },
  {
   "cell_type": "code",
   "execution_count": 13,
   "id": "b8cc05b7-fb35-4476-abdc-d2f8a962f955",
   "metadata": {},
   "outputs": [
    {
     "data": {
      "text/plain": [
       "Index(['sdbAre', 'sdbPer', 'sdbCoA', 'ssbCCo', 'ssbCor', 'ssbSqu', 'ssbERI',\n",
       "       'ssbElo', 'ssbCCM', 'ssbCCD', 'stbOri', 'mtbSWR', 'libNCo', 'ldbPWL',\n",
       "       'ltcBuA', 'mtbAli', 'mtbNDi', 'ltbIBD', 'stbCeA', 'stbSAl', 'sdsLen',\n",
       "       'sssLin', 'ldsMSL', 'ldsRea', 'ldsAre', 'sisBpM', 'sdsSPW', 'sdsSPO',\n",
       "       'sdsSWD', 'mtdDeg', 'lcdMes', 'linP3W', 'linP4W', 'linPDE', 'lcnClo',\n",
       "       'lddNDe', 'linWID', 'ldsCDL', 'xcnSCl', 'mtdMDi', 'sddAre', 'midRea',\n",
       "       'midAre', 'stcOri', 'sdcLAL', 'sdcAre', 'sscCCo', 'sscERI', 'mtcWNe',\n",
       "       'mdcAre', 'ltcWRB', 'sicCAR', 'stcSAl', 'ldkAre', 'ldkPer', 'lskCCo',\n",
       "       'lskERI', 'lskCWA', 'ltkOri', 'ltkWNB', 'likWBB', 'sdsAre', 'likWCe',\n",
       "       'mibCou', 'mibAre', 'mibLen', 'mibElo', 'mibERI', 'mibCCo', 'mibLAL',\n",
       "       'mibFR', 'mibSCo'],\n",
       "      dtype='object')"
      ]
     },
     "execution_count": 13,
     "metadata": {},
     "output_type": "execute_result"
    }
   ],
   "source": [
    "component_data.columns.get_level_values(0).unique()"
   ]
  },
  {
   "cell_type": "code",
   "execution_count": 14,
   "id": "724cb27e-74cd-4c83-8aae-686e21689789",
   "metadata": {},
   "outputs": [],
   "source": [
    "to_drop = [\n",
    "        'stcSAl','stbOri','stcOri','stbCeA',\n",
    "        'ldkAre', 'ldkPer', 'lskCCo', 'lskERI','lskCWA', 'ltkOri', 'ltkWNB', 'likWBB', 'likWCe',\n",
    "# 'sdbAre', 'ssbCCM', 'sdcLAL'\n",
    "    # 'mibCCo', 'mibLAL'\n",
    "]"
   ]
  },
  {
   "cell_type": "code",
   "execution_count": 15,
   "id": "332be18f-807c-489a-ae02-07073f5c1a9e",
   "metadata": {},
   "outputs": [],
   "source": [
    "component_data = component_data.drop(\n",
    "    columns=to_drop, level=0)"
   ]
  },
  {
   "cell_type": "code",
   "execution_count": 16,
   "id": "86e03024-f4dc-4693-9e77-5d91c97bb22e",
   "metadata": {},
   "outputs": [],
   "source": [
    "component_data.columns =  ['_'.join(col).strip() for col in component_data.columns.values]"
   ]
  },
  {
   "cell_type": "code",
   "execution_count": null,
   "id": "e242b38d-c85e-47b6-aac7-9a824e6d970e",
   "metadata": {},
   "outputs": [],
   "source": []
  },
  {
   "cell_type": "code",
   "execution_count": 17,
   "id": "2e01bea7-be80-41d5-8e50-76eaa1777846",
   "metadata": {},
   "outputs": [
    {
     "data": {
      "text/plain": [
       "(np.float64(8.84110958854128), np.float64(9.913293362707826))"
      ]
     },
     "execution_count": 17,
     "metadata": {},
     "output_type": "execute_result"
    }
   ],
   "source": [
    "x = component_data.loc['69333_849_236'] # karlin offices\n",
    "y = component_data.loc['69333_849_182'] # zelena liska\n",
    "z = component_data.loc['69333_849_486'] # chodov\n",
    "\n",
    "np.sqrt(((x - y)**2).sum()), np.sqrt(((y - z)**2).sum())"
   ]
  },
  {
   "cell_type": "code",
   "execution_count": 18,
   "id": "9509746c-0f1b-4239-bc15-6f2d0baa58e6",
   "metadata": {},
   "outputs": [
    {
     "data": {
      "text/plain": [
       "sdbCoA_mean    4.022492\n",
       "sdcAre_mean    3.984369\n",
       "ssbCor_mean    3.640017\n",
       "mdcAre_mean    2.645649\n",
       "sdcLAL_mean    1.792943\n",
       "sdbAre_mean    1.690348\n",
       "mtbNDi_mean    1.521084\n",
       "ssbCCM_mean    1.482951\n",
       "ssbERI_mean   -1.385401\n",
       "linPDE_mean    1.247006\n",
       "mtdDeg_mean   -1.203678\n",
       "ssbCCD_mean    1.075466\n",
       "mibElo_mean    1.054611\n",
       "linP3W_mean   -0.899570\n",
       "sdbPer_mean    0.887113\n",
       "ssbElo_mean    0.859899\n",
       "mibCCo_mean    0.837118\n",
       "sscERI_mean   -0.773786\n",
       "sicCAR_mean   -0.736595\n",
       "sscCCo_mean    0.624066\n",
       "mibSCo_mean   -0.615479\n",
       "mibFR_mean    -0.615479\n",
       "lcdMes_mean   -0.612787\n",
       "mtbSWR_mean   -0.579919\n",
       "ssbCCo_mean    0.529240\n",
       "dtype: float64"
      ]
     },
     "execution_count": 18,
     "metadata": {},
     "output_type": "execute_result"
    }
   ],
   "source": [
    "(x-y).iloc[(x - y).abs().argsort().values[::-1]].iloc[:25]"
   ]
  },
  {
   "cell_type": "code",
   "execution_count": 19,
   "id": "6cb9e653-b117-4c22-8c6a-8b341528e26d",
   "metadata": {},
   "outputs": [
    {
     "data": {
      "text/plain": [
       "sdbCoA_mean    7.412880\n",
       "ssbSqu_mean    2.069991\n",
       "lcdMes_mean    1.998629\n",
       "sscCCo_mean   -1.836046\n",
       "linPDE_mean   -1.821915\n",
       "mdcAre_mean   -1.720401\n",
       "mtbAli_mean    1.668633\n",
       "ssbERI_mean    1.611204\n",
       "sssLin_mean    1.486647\n",
       "linP3W_mean    1.422661\n",
       "ssbCCM_mean    1.325559\n",
       "sscERI_mean   -1.137118\n",
       "mibCCo_mean   -1.120127\n",
       "ssbCor_mean    1.044433\n",
       "ltcBuA_mean   -1.014777\n",
       "mibElo_mean   -0.955507\n",
       "mtbSWR_mean    0.856398\n",
       "ssbCCo_mean   -0.804218\n",
       "sdbAre_mean    0.795624\n",
       "sdcAre_mean   -0.788661\n",
       "ltbIBD_mean   -0.759279\n",
       "mibFR_mean     0.702737\n",
       "mibSCo_mean    0.702737\n",
       "mibAre_mean    0.627306\n",
       "sdbPer_mean   -0.603346\n",
       "dtype: float64"
      ]
     },
     "execution_count": 19,
     "metadata": {},
     "output_type": "execute_result"
    }
   ],
   "source": [
    "(y - z).iloc[(y - z).abs().argsort().values[::-1]].iloc[:25]"
   ]
  },
  {
   "cell_type": "code",
   "execution_count": 20,
   "id": "8b57c6ce-fde7-41de-b8aa-fd3fb34ed7a1",
   "metadata": {},
   "outputs": [
    {
     "data": {
      "text/plain": [
       "sdbCoA_mean    11.435373\n",
       "ssbCor_mean     4.684450\n",
       "sdcAre_mean     3.195708\n",
       "ssbCCM_mean     2.808510\n",
       "sdbAre_mean     2.485971\n",
       "sscERI_mean    -1.910905\n",
       "ssbSqu_mean     1.868737\n",
       "mtbAli_mean     1.846933\n",
       "sssLin_mean     1.605119\n",
       "lcdMes_mean     1.385842\n",
       "sdcLAL_mean     1.305528\n",
       "sscCCo_mean    -1.211980\n",
       "mtbNDi_mean     1.130538\n",
       "mdcAre_mean     0.925248\n",
       "ssbCCD_mean     0.777969\n",
       "linWID_mean     0.711534\n",
       "mtdDeg_mean    -0.706660\n",
       "ltcBuA_mean    -0.665788\n",
       "linPDE_mean    -0.574909\n",
       "linP3W_mean     0.523091\n",
       "lddNDe_mean     0.488031\n",
       "ssbElo_mean     0.372072\n",
       "sdsSWD_mean     0.335930\n",
       "mibERI_mean    -0.291230\n",
       "stbSAl_mean    -0.287568\n",
       "dtype: float64"
      ]
     },
     "execution_count": 20,
     "metadata": {},
     "output_type": "execute_result"
    }
   ],
   "source": [
    "(x - z).iloc[(x - z).abs().argsort().values[::-1]].iloc[:25]"
   ]
  },
  {
   "cell_type": "code",
   "execution_count": null,
   "id": "c88cae98-5788-412d-ae85-892cbf222bad",
   "metadata": {},
   "outputs": [],
   "source": []
  },
  {
   "cell_type": "code",
   "execution_count": null,
   "id": "093aa7a9-8703-4af9-b85f-bc0ee82676e1",
   "metadata": {},
   "outputs": [],
   "source": []
  },
  {
   "cell_type": "code",
   "execution_count": null,
   "id": "d62c260c-c6e4-4379-ae47-86a0e44585a7",
   "metadata": {},
   "outputs": [],
   "source": []
  },
  {
   "cell_type": "code",
   "execution_count": null,
   "id": "cd3d15c5-3fcf-4a7a-8e82-d73cc859759d",
   "metadata": {},
   "outputs": [],
   "source": []
  },
  {
   "cell_type": "code",
   "execution_count": null,
   "id": "ecc875d6-4a43-432c-a388-78d0c186e25a",
   "metadata": {},
   "outputs": [],
   "source": []
  },
  {
   "cell_type": "code",
   "execution_count": null,
   "id": "f51ef9d1-e81d-4090-aa61-a71b92e0218b",
   "metadata": {},
   "outputs": [],
   "source": []
  },
  {
   "cell_type": "code",
   "execution_count": 36,
   "id": "78aaca68-923e-4060-9c62-c8883d95e3d0",
   "metadata": {},
   "outputs": [],
   "source": [
    "from sklearn.cluster import AgglomerativeClustering"
   ]
  },
  {
   "cell_type": "code",
   "execution_count": 37,
   "id": "56dfc79b-036f-4f11-9579-f37ff6fc6ec7",
   "metadata": {},
   "outputs": [
    {
     "name": "stdout",
     "output_type": "stream",
     "text": [
      "CPU times: user 35min 15s, sys: 14.8 s, total: 35min 29s\n",
      "Wall time: 34min 58s\n"
     ]
    }
   ],
   "source": [
    "# %%time\n",
    "# linkage = 'single'\n",
    "# metric = 'euclidean'\n",
    "\n",
    "# from sklearn.cluster import AgglomerativeClustering\n",
    "# from core.cluster_validation import get_linkage_matrix\n",
    "# clusterer = AgglomerativeClustering(linkage=linkage,\n",
    "#                                     metric=metric,\n",
    "#                                     compute_full_tree=True,\n",
    "#                                     compute_distances=True)\n",
    "# model = clusterer.fit(component_data)\n",
    "# linkage_matrix = get_linkage_matrix(model)"
   ]
  },
  {
   "cell_type": "code",
   "execution_count": null,
   "id": "c0512ccb-fa64-4c79-9eda-4b68fc3460b1",
   "metadata": {},
   "outputs": [],
   "source": []
  },
  {
   "cell_type": "code",
   "execution_count": null,
   "id": "9fa9b60e-2b31-4ddd-99fd-517a05b87f78",
   "metadata": {},
   "outputs": [],
   "source": []
  },
  {
   "cell_type": "code",
   "execution_count": null,
   "id": "3ac97895-9221-4dd3-8222-50d988ea105a",
   "metadata": {},
   "outputs": [],
   "source": []
  },
  {
   "cell_type": "code",
   "execution_count": null,
   "id": "f0743f5c-1fef-44d5-954e-5612b48b5cba",
   "metadata": {},
   "outputs": [],
   "source": []
  },
  {
   "cell_type": "code",
   "execution_count": 17,
   "id": "e1f6f3ad-bebd-4031-959b-e066659f615d",
   "metadata": {},
   "outputs": [],
   "source": [
    "from sklearn.neighbors import KDTree\n",
    "sklearn_tree = KDTree(component_data)"
   ]
  },
  {
   "cell_type": "code",
   "execution_count": 22,
   "id": "6fb46540-d374-4889-9afc-bf4a56bd2c8d",
   "metadata": {},
   "outputs": [],
   "source": [
    "### 182 and similar to be split\n",
    "### 69333_849_104 and _12 and their similar to be kept - vinohrady and josefof\n",
    "### 69333_849_235 - karlin/centre stuff\n",
    "### 135 - urban\n",
    "## 69333_849_12, 69333_849_5, 69333_849_103\t - mala strana\n",
    "## 445 strizkov, goign to industrial areas\n",
    "# 205 - cerny most, also looks weird?"
   ]
  },
  {
   "cell_type": "code",
   "execution_count": 18,
   "id": "79e3cb55-01c4-44e4-9538-750db17a531d",
   "metadata": {},
   "outputs": [],
   "source": [
    "dists, indxs = sklearn_tree.query(component_data.loc[['69333_849_205']], k=30)"
   ]
  },
  {
   "cell_type": "code",
   "execution_count": 19,
   "id": "84d7993b-36e7-4c50-b4f1-7d480646b735",
   "metadata": {},
   "outputs": [
    {
     "data": {
      "text/html": [
       "<div>\n",
       "<style scoped>\n",
       "    .dataframe tbody tr th:only-of-type {\n",
       "        vertical-align: middle;\n",
       "    }\n",
       "\n",
       "    .dataframe tbody tr th {\n",
       "        vertical-align: top;\n",
       "    }\n",
       "\n",
       "    .dataframe thead th {\n",
       "        text-align: right;\n",
       "    }\n",
       "</style>\n",
       "<table border=\"1\" class=\"dataframe\">\n",
       "  <thead>\n",
       "    <tr style=\"text-align: right;\">\n",
       "      <th></th>\n",
       "      <th>sdbAre_mean</th>\n",
       "      <th>sdbPer_mean</th>\n",
       "      <th>sdbCoA_mean</th>\n",
       "      <th>ssbCCo_mean</th>\n",
       "      <th>ssbCor_mean</th>\n",
       "      <th>ssbSqu_mean</th>\n",
       "      <th>ssbERI_mean</th>\n",
       "      <th>ssbElo_mean</th>\n",
       "      <th>ssbCCM_mean</th>\n",
       "      <th>ssbCCD_mean</th>\n",
       "      <th>...</th>\n",
       "      <th>sdsAre_mean</th>\n",
       "      <th>mibCou_mean</th>\n",
       "      <th>mibAre_mean</th>\n",
       "      <th>mibLen_mean</th>\n",
       "      <th>mibElo_mean</th>\n",
       "      <th>mibERI_mean</th>\n",
       "      <th>mibCCo_mean</th>\n",
       "      <th>mibLAL_mean</th>\n",
       "      <th>mibFR_mean</th>\n",
       "      <th>mibSCo_mean</th>\n",
       "    </tr>\n",
       "  </thead>\n",
       "  <tbody>\n",
       "    <tr>\n",
       "      <th>69333_849_205</th>\n",
       "      <td>11.307900</td>\n",
       "      <td>9.022484</td>\n",
       "      <td>2.763125</td>\n",
       "      <td>-2.732542</td>\n",
       "      <td>3.753355</td>\n",
       "      <td>1.422445</td>\n",
       "      <td>-3.812047</td>\n",
       "      <td>-1.631162</td>\n",
       "      <td>5.505215</td>\n",
       "      <td>9.740832</td>\n",
       "      <td>...</td>\n",
       "      <td>-0.244130</td>\n",
       "      <td>-0.205020</td>\n",
       "      <td>0.758570</td>\n",
       "      <td>0.339052</td>\n",
       "      <td>-1.471213</td>\n",
       "      <td>-0.402337</td>\n",
       "      <td>-1.264786</td>\n",
       "      <td>0.866697</td>\n",
       "      <td>3.968502</td>\n",
       "      <td>3.968502</td>\n",
       "    </tr>\n",
       "    <tr>\n",
       "      <th>109491_31_684</th>\n",
       "      <td>11.274072</td>\n",
       "      <td>9.255773</td>\n",
       "      <td>6.096192</td>\n",
       "      <td>-3.316313</td>\n",
       "      <td>4.357117</td>\n",
       "      <td>1.461806</td>\n",
       "      <td>-4.613476</td>\n",
       "      <td>-1.660116</td>\n",
       "      <td>7.365233</td>\n",
       "      <td>9.555618</td>\n",
       "      <td>...</td>\n",
       "      <td>-0.171272</td>\n",
       "      <td>-0.207705</td>\n",
       "      <td>0.652482</td>\n",
       "      <td>0.483296</td>\n",
       "      <td>-0.740611</td>\n",
       "      <td>-0.687717</td>\n",
       "      <td>-1.023882</td>\n",
       "      <td>0.909624</td>\n",
       "      <td>4.441168</td>\n",
       "      <td>4.441168</td>\n",
       "    </tr>\n",
       "    <tr>\n",
       "      <th>86873_3_636</th>\n",
       "      <td>9.810593</td>\n",
       "      <td>8.612230</td>\n",
       "      <td>1.781879</td>\n",
       "      <td>-3.882475</td>\n",
       "      <td>5.047079</td>\n",
       "      <td>0.342965</td>\n",
       "      <td>-3.637582</td>\n",
       "      <td>-2.397973</td>\n",
       "      <td>7.358214</td>\n",
       "      <td>7.622476</td>\n",
       "      <td>...</td>\n",
       "      <td>-0.096209</td>\n",
       "      <td>-0.323024</td>\n",
       "      <td>0.367512</td>\n",
       "      <td>0.246159</td>\n",
       "      <td>-1.807900</td>\n",
       "      <td>-0.121789</td>\n",
       "      <td>-1.303383</td>\n",
       "      <td>0.673307</td>\n",
       "      <td>3.365362</td>\n",
       "      <td>3.365362</td>\n",
       "    </tr>\n",
       "    <tr>\n",
       "      <th>69333_849_389</th>\n",
       "      <td>7.641349</td>\n",
       "      <td>7.848734</td>\n",
       "      <td>3.026649</td>\n",
       "      <td>-3.809037</td>\n",
       "      <td>5.832038</td>\n",
       "      <td>1.894390</td>\n",
       "      <td>-4.165572</td>\n",
       "      <td>-2.321623</td>\n",
       "      <td>5.938647</td>\n",
       "      <td>7.865657</td>\n",
       "      <td>...</td>\n",
       "      <td>-0.196921</td>\n",
       "      <td>-0.294194</td>\n",
       "      <td>0.331983</td>\n",
       "      <td>0.303550</td>\n",
       "      <td>-1.473150</td>\n",
       "      <td>-0.411333</td>\n",
       "      <td>-1.363219</td>\n",
       "      <td>0.707786</td>\n",
       "      <td>3.307397</td>\n",
       "      <td>3.307397</td>\n",
       "    </tr>\n",
       "    <tr>\n",
       "      <th>62954_2995_130</th>\n",
       "      <td>10.306096</td>\n",
       "      <td>7.845302</td>\n",
       "      <td>1.977528</td>\n",
       "      <td>-2.357137</td>\n",
       "      <td>2.978981</td>\n",
       "      <td>0.961874</td>\n",
       "      <td>-2.665381</td>\n",
       "      <td>-1.513814</td>\n",
       "      <td>6.507514</td>\n",
       "      <td>7.580875</td>\n",
       "      <td>...</td>\n",
       "      <td>-0.186267</td>\n",
       "      <td>-0.276592</td>\n",
       "      <td>0.665576</td>\n",
       "      <td>0.290593</td>\n",
       "      <td>-0.277554</td>\n",
       "      <td>0.058008</td>\n",
       "      <td>-0.097437</td>\n",
       "      <td>0.736358</td>\n",
       "      <td>5.835727</td>\n",
       "      <td>5.835727</td>\n",
       "    </tr>\n",
       "    <tr>\n",
       "      <th>87615_611_15</th>\n",
       "      <td>10.491962</td>\n",
       "      <td>9.495648</td>\n",
       "      <td>0.975195</td>\n",
       "      <td>-3.582142</td>\n",
       "      <td>7.700179</td>\n",
       "      <td>1.542075</td>\n",
       "      <td>-4.177876</td>\n",
       "      <td>-2.115129</td>\n",
       "      <td>7.726558</td>\n",
       "      <td>10.775766</td>\n",
       "      <td>...</td>\n",
       "      <td>-0.106028</td>\n",
       "      <td>-0.321373</td>\n",
       "      <td>0.564448</td>\n",
       "      <td>0.382146</td>\n",
       "      <td>-0.886043</td>\n",
       "      <td>-0.476676</td>\n",
       "      <td>-1.041857</td>\n",
       "      <td>0.889618</td>\n",
       "      <td>3.732757</td>\n",
       "      <td>3.732757</td>\n",
       "    </tr>\n",
       "    <tr>\n",
       "      <th>62954_2995_21</th>\n",
       "      <td>9.361351</td>\n",
       "      <td>7.924976</td>\n",
       "      <td>3.109548</td>\n",
       "      <td>-3.406665</td>\n",
       "      <td>3.974843</td>\n",
       "      <td>1.867853</td>\n",
       "      <td>-4.757712</td>\n",
       "      <td>-1.182132</td>\n",
       "      <td>6.616568</td>\n",
       "      <td>7.712753</td>\n",
       "      <td>...</td>\n",
       "      <td>-0.035733</td>\n",
       "      <td>-0.166733</td>\n",
       "      <td>0.703704</td>\n",
       "      <td>0.410770</td>\n",
       "      <td>-0.617956</td>\n",
       "      <td>-0.666771</td>\n",
       "      <td>-0.873473</td>\n",
       "      <td>0.918859</td>\n",
       "      <td>5.331546</td>\n",
       "      <td>5.331546</td>\n",
       "    </tr>\n",
       "    <tr>\n",
       "      <th>69333_849_444</th>\n",
       "      <td>9.004357</td>\n",
       "      <td>10.063880</td>\n",
       "      <td>0.830924</td>\n",
       "      <td>-4.879388</td>\n",
       "      <td>4.409401</td>\n",
       "      <td>0.509601</td>\n",
       "      <td>-3.732392</td>\n",
       "      <td>-3.313003</td>\n",
       "      <td>6.995405</td>\n",
       "      <td>9.453133</td>\n",
       "      <td>...</td>\n",
       "      <td>-0.254081</td>\n",
       "      <td>-0.396085</td>\n",
       "      <td>0.403729</td>\n",
       "      <td>0.276716</td>\n",
       "      <td>-2.092550</td>\n",
       "      <td>0.100246</td>\n",
       "      <td>-1.485343</td>\n",
       "      <td>0.788195</td>\n",
       "      <td>3.782413</td>\n",
       "      <td>3.782413</td>\n",
       "    </tr>\n",
       "    <tr>\n",
       "      <th>69333_849_474</th>\n",
       "      <td>7.627815</td>\n",
       "      <td>8.841266</td>\n",
       "      <td>2.584193</td>\n",
       "      <td>-4.155856</td>\n",
       "      <td>1.055723</td>\n",
       "      <td>0.482849</td>\n",
       "      <td>-3.015984</td>\n",
       "      <td>-3.396145</td>\n",
       "      <td>5.084232</td>\n",
       "      <td>9.403290</td>\n",
       "      <td>...</td>\n",
       "      <td>-0.200372</td>\n",
       "      <td>-0.370896</td>\n",
       "      <td>0.257512</td>\n",
       "      <td>0.211134</td>\n",
       "      <td>-2.417674</td>\n",
       "      <td>0.237639</td>\n",
       "      <td>-1.400111</td>\n",
       "      <td>0.680718</td>\n",
       "      <td>3.301892</td>\n",
       "      <td>3.301892</td>\n",
       "    </tr>\n",
       "    <tr>\n",
       "      <th>69333_849_441</th>\n",
       "      <td>9.624798</td>\n",
       "      <td>10.502100</td>\n",
       "      <td>-0.077710</td>\n",
       "      <td>-4.024666</td>\n",
       "      <td>3.432820</td>\n",
       "      <td>1.431595</td>\n",
       "      <td>-3.837607</td>\n",
       "      <td>-2.648109</td>\n",
       "      <td>7.220040</td>\n",
       "      <td>9.503570</td>\n",
       "      <td>...</td>\n",
       "      <td>0.012123</td>\n",
       "      <td>-0.434727</td>\n",
       "      <td>0.276809</td>\n",
       "      <td>0.216097</td>\n",
       "      <td>-1.535155</td>\n",
       "      <td>0.193132</td>\n",
       "      <td>-0.922910</td>\n",
       "      <td>0.657894</td>\n",
       "      <td>2.706299</td>\n",
       "      <td>2.706299</td>\n",
       "    </tr>\n",
       "    <tr>\n",
       "      <th>69333_849_475</th>\n",
       "      <td>11.233361</td>\n",
       "      <td>11.759197</td>\n",
       "      <td>0.283800</td>\n",
       "      <td>-3.311041</td>\n",
       "      <td>4.996884</td>\n",
       "      <td>1.576665</td>\n",
       "      <td>-6.287692</td>\n",
       "      <td>-1.594555</td>\n",
       "      <td>7.649949</td>\n",
       "      <td>11.429800</td>\n",
       "      <td>...</td>\n",
       "      <td>-0.225347</td>\n",
       "      <td>-0.389287</td>\n",
       "      <td>0.423096</td>\n",
       "      <td>0.333342</td>\n",
       "      <td>-0.781870</td>\n",
       "      <td>-0.517726</td>\n",
       "      <td>-0.853222</td>\n",
       "      <td>0.794476</td>\n",
       "      <td>4.303773</td>\n",
       "      <td>4.303773</td>\n",
       "    </tr>\n",
       "    <tr>\n",
       "      <th>86873_3_688</th>\n",
       "      <td>11.968014</td>\n",
       "      <td>9.285546</td>\n",
       "      <td>-0.077710</td>\n",
       "      <td>-3.104469</td>\n",
       "      <td>2.609180</td>\n",
       "      <td>0.697598</td>\n",
       "      <td>-2.345783</td>\n",
       "      <td>-2.131106</td>\n",
       "      <td>8.073224</td>\n",
       "      <td>9.357063</td>\n",
       "      <td>...</td>\n",
       "      <td>-0.160651</td>\n",
       "      <td>-0.213901</td>\n",
       "      <td>0.927268</td>\n",
       "      <td>0.473506</td>\n",
       "      <td>-1.147252</td>\n",
       "      <td>-0.098240</td>\n",
       "      <td>-0.616553</td>\n",
       "      <td>1.112215</td>\n",
       "      <td>5.770006</td>\n",
       "      <td>5.770006</td>\n",
       "    </tr>\n",
       "    <tr>\n",
       "      <th>35141_167_25</th>\n",
       "      <td>8.456829</td>\n",
       "      <td>7.978542</td>\n",
       "      <td>2.588656</td>\n",
       "      <td>-4.308723</td>\n",
       "      <td>4.987805</td>\n",
       "      <td>1.632845</td>\n",
       "      <td>-3.959257</td>\n",
       "      <td>-2.767647</td>\n",
       "      <td>6.491278</td>\n",
       "      <td>9.020751</td>\n",
       "      <td>...</td>\n",
       "      <td>-0.126069</td>\n",
       "      <td>-0.234463</td>\n",
       "      <td>0.495811</td>\n",
       "      <td>0.317015</td>\n",
       "      <td>-1.701606</td>\n",
       "      <td>-0.306848</td>\n",
       "      <td>-1.335577</td>\n",
       "      <td>0.799215</td>\n",
       "      <td>4.109909</td>\n",
       "      <td>4.109909</td>\n",
       "    </tr>\n",
       "    <tr>\n",
       "      <th>93167_6_237</th>\n",
       "      <td>10.703358</td>\n",
       "      <td>8.180302</td>\n",
       "      <td>-0.077710</td>\n",
       "      <td>-2.085414</td>\n",
       "      <td>3.135474</td>\n",
       "      <td>-0.078390</td>\n",
       "      <td>-1.825868</td>\n",
       "      <td>-1.667922</td>\n",
       "      <td>7.060168</td>\n",
       "      <td>6.546232</td>\n",
       "      <td>...</td>\n",
       "      <td>0.032292</td>\n",
       "      <td>-0.293814</td>\n",
       "      <td>0.485253</td>\n",
       "      <td>0.233531</td>\n",
       "      <td>-1.283786</td>\n",
       "      <td>0.315759</td>\n",
       "      <td>-0.586913</td>\n",
       "      <td>0.639020</td>\n",
       "      <td>4.341782</td>\n",
       "      <td>4.341782</td>\n",
       "    </tr>\n",
       "    <tr>\n",
       "      <th>62954_15556_202</th>\n",
       "      <td>11.097567</td>\n",
       "      <td>7.380535</td>\n",
       "      <td>2.636045</td>\n",
       "      <td>-1.905358</td>\n",
       "      <td>2.862560</td>\n",
       "      <td>1.087216</td>\n",
       "      <td>-2.399309</td>\n",
       "      <td>-0.931431</td>\n",
       "      <td>6.439576</td>\n",
       "      <td>7.412499</td>\n",
       "      <td>...</td>\n",
       "      <td>0.282801</td>\n",
       "      <td>-0.313480</td>\n",
       "      <td>0.735723</td>\n",
       "      <td>0.280047</td>\n",
       "      <td>-0.461525</td>\n",
       "      <td>0.102051</td>\n",
       "      <td>-0.256001</td>\n",
       "      <td>0.738235</td>\n",
       "      <td>4.905440</td>\n",
       "      <td>4.905440</td>\n",
       "    </tr>\n",
       "    <tr>\n",
       "      <th>80404_75_88</th>\n",
       "      <td>10.354692</td>\n",
       "      <td>9.141268</td>\n",
       "      <td>1.307268</td>\n",
       "      <td>-3.410494</td>\n",
       "      <td>5.341544</td>\n",
       "      <td>3.128560</td>\n",
       "      <td>-4.381066</td>\n",
       "      <td>-1.572312</td>\n",
       "      <td>7.427707</td>\n",
       "      <td>10.085780</td>\n",
       "      <td>...</td>\n",
       "      <td>-0.203543</td>\n",
       "      <td>-0.198260</td>\n",
       "      <td>0.759271</td>\n",
       "      <td>0.556036</td>\n",
       "      <td>-0.504055</td>\n",
       "      <td>-1.039349</td>\n",
       "      <td>-1.112412</td>\n",
       "      <td>1.061850</td>\n",
       "      <td>4.979794</td>\n",
       "      <td>4.979794</td>\n",
       "    </tr>\n",
       "    <tr>\n",
       "      <th>62954_3396_17</th>\n",
       "      <td>9.641152</td>\n",
       "      <td>6.800622</td>\n",
       "      <td>-0.077710</td>\n",
       "      <td>-2.476773</td>\n",
       "      <td>1.673454</td>\n",
       "      <td>1.484599</td>\n",
       "      <td>-2.220684</td>\n",
       "      <td>-1.294843</td>\n",
       "      <td>6.172932</td>\n",
       "      <td>7.716262</td>\n",
       "      <td>...</td>\n",
       "      <td>-0.147299</td>\n",
       "      <td>-0.387145</td>\n",
       "      <td>0.346784</td>\n",
       "      <td>0.119311</td>\n",
       "      <td>-0.543267</td>\n",
       "      <td>0.559043</td>\n",
       "      <td>-0.006995</td>\n",
       "      <td>0.426191</td>\n",
       "      <td>3.442445</td>\n",
       "      <td>3.442445</td>\n",
       "    </tr>\n",
       "    <tr>\n",
       "      <th>69333_849_486</th>\n",
       "      <td>8.008160</td>\n",
       "      <td>9.467347</td>\n",
       "      <td>3.179059</td>\n",
       "      <td>-3.101844</td>\n",
       "      <td>1.497807</td>\n",
       "      <td>-0.045227</td>\n",
       "      <td>-4.112387</td>\n",
       "      <td>-2.485152</td>\n",
       "      <td>5.124079</td>\n",
       "      <td>8.433958</td>\n",
       "      <td>...</td>\n",
       "      <td>-0.108799</td>\n",
       "      <td>-0.413926</td>\n",
       "      <td>0.248592</td>\n",
       "      <td>0.220481</td>\n",
       "      <td>-1.549622</td>\n",
       "      <td>0.093374</td>\n",
       "      <td>-0.752778</td>\n",
       "      <td>0.696383</td>\n",
       "      <td>3.913689</td>\n",
       "      <td>3.913689</td>\n",
       "    </tr>\n",
       "    <tr>\n",
       "      <th>130658_355_138</th>\n",
       "      <td>9.033331</td>\n",
       "      <td>8.059518</td>\n",
       "      <td>0.584171</td>\n",
       "      <td>-4.056828</td>\n",
       "      <td>3.686607</td>\n",
       "      <td>-0.279582</td>\n",
       "      <td>-2.198824</td>\n",
       "      <td>-2.952937</td>\n",
       "      <td>7.814540</td>\n",
       "      <td>7.503970</td>\n",
       "      <td>...</td>\n",
       "      <td>0.299643</td>\n",
       "      <td>-0.330052</td>\n",
       "      <td>0.472763</td>\n",
       "      <td>0.301350</td>\n",
       "      <td>-1.727570</td>\n",
       "      <td>-0.111312</td>\n",
       "      <td>-1.316333</td>\n",
       "      <td>0.846170</td>\n",
       "      <td>4.034026</td>\n",
       "      <td>4.034026</td>\n",
       "    </tr>\n",
       "    <tr>\n",
       "      <th>4_2478_2</th>\n",
       "      <td>11.169950</td>\n",
       "      <td>6.740408</td>\n",
       "      <td>2.266572</td>\n",
       "      <td>-1.796709</td>\n",
       "      <td>3.593831</td>\n",
       "      <td>-0.278066</td>\n",
       "      <td>-2.565387</td>\n",
       "      <td>-1.155110</td>\n",
       "      <td>5.151414</td>\n",
       "      <td>6.749958</td>\n",
       "      <td>...</td>\n",
       "      <td>0.237542</td>\n",
       "      <td>-0.273097</td>\n",
       "      <td>0.613786</td>\n",
       "      <td>0.227344</td>\n",
       "      <td>-0.179333</td>\n",
       "      <td>0.012115</td>\n",
       "      <td>0.026414</td>\n",
       "      <td>0.540369</td>\n",
       "      <td>3.636500</td>\n",
       "      <td>3.636500</td>\n",
       "    </tr>\n",
       "    <tr>\n",
       "      <th>62954_15556_214</th>\n",
       "      <td>9.782570</td>\n",
       "      <td>8.563989</td>\n",
       "      <td>1.172770</td>\n",
       "      <td>-4.191446</td>\n",
       "      <td>3.481604</td>\n",
       "      <td>-0.152416</td>\n",
       "      <td>-4.039117</td>\n",
       "      <td>-2.205876</td>\n",
       "      <td>7.654951</td>\n",
       "      <td>8.806667</td>\n",
       "      <td>...</td>\n",
       "      <td>-0.141897</td>\n",
       "      <td>-0.046114</td>\n",
       "      <td>0.639664</td>\n",
       "      <td>0.458742</td>\n",
       "      <td>-1.657196</td>\n",
       "      <td>-0.724686</td>\n",
       "      <td>-1.905088</td>\n",
       "      <td>1.058611</td>\n",
       "      <td>4.526242</td>\n",
       "      <td>4.526242</td>\n",
       "    </tr>\n",
       "    <tr>\n",
       "      <th>100210_32_33</th>\n",
       "      <td>8.272574</td>\n",
       "      <td>7.309742</td>\n",
       "      <td>0.127394</td>\n",
       "      <td>-3.094683</td>\n",
       "      <td>7.365041</td>\n",
       "      <td>1.887653</td>\n",
       "      <td>-3.419734</td>\n",
       "      <td>-1.905748</td>\n",
       "      <td>6.090119</td>\n",
       "      <td>7.694282</td>\n",
       "      <td>...</td>\n",
       "      <td>-0.293262</td>\n",
       "      <td>-0.286281</td>\n",
       "      <td>0.394526</td>\n",
       "      <td>0.271173</td>\n",
       "      <td>-0.552664</td>\n",
       "      <td>-0.411918</td>\n",
       "      <td>-0.816043</td>\n",
       "      <td>0.671823</td>\n",
       "      <td>3.550589</td>\n",
       "      <td>3.550589</td>\n",
       "    </tr>\n",
       "    <tr>\n",
       "      <th>84554_197_2</th>\n",
       "      <td>9.449065</td>\n",
       "      <td>7.479895</td>\n",
       "      <td>-0.077710</td>\n",
       "      <td>-2.930906</td>\n",
       "      <td>2.730897</td>\n",
       "      <td>1.634642</td>\n",
       "      <td>-2.130365</td>\n",
       "      <td>-1.827152</td>\n",
       "      <td>6.735128</td>\n",
       "      <td>6.848011</td>\n",
       "      <td>...</td>\n",
       "      <td>-0.093531</td>\n",
       "      <td>-0.342014</td>\n",
       "      <td>0.501992</td>\n",
       "      <td>0.240911</td>\n",
       "      <td>-0.735483</td>\n",
       "      <td>0.219737</td>\n",
       "      <td>-0.433293</td>\n",
       "      <td>0.699330</td>\n",
       "      <td>5.153659</td>\n",
       "      <td>5.153659</td>\n",
       "    </tr>\n",
       "    <tr>\n",
       "      <th>14245_3_6</th>\n",
       "      <td>9.419796</td>\n",
       "      <td>7.213779</td>\n",
       "      <td>1.777431</td>\n",
       "      <td>-2.782599</td>\n",
       "      <td>2.875660</td>\n",
       "      <td>0.755798</td>\n",
       "      <td>-2.026631</td>\n",
       "      <td>-2.083076</td>\n",
       "      <td>6.334232</td>\n",
       "      <td>6.710912</td>\n",
       "      <td>...</td>\n",
       "      <td>-0.197601</td>\n",
       "      <td>-0.005007</td>\n",
       "      <td>0.952710</td>\n",
       "      <td>0.666271</td>\n",
       "      <td>-0.734406</td>\n",
       "      <td>-0.676127</td>\n",
       "      <td>-0.838262</td>\n",
       "      <td>1.307237</td>\n",
       "      <td>5.604638</td>\n",
       "      <td>5.604638</td>\n",
       "    </tr>\n",
       "    <tr>\n",
       "      <th>7963_12_10</th>\n",
       "      <td>10.138780</td>\n",
       "      <td>8.041512</td>\n",
       "      <td>0.039950</td>\n",
       "      <td>-2.336148</td>\n",
       "      <td>3.799173</td>\n",
       "      <td>3.748453</td>\n",
       "      <td>-2.712220</td>\n",
       "      <td>-1.479448</td>\n",
       "      <td>7.208978</td>\n",
       "      <td>7.109278</td>\n",
       "      <td>...</td>\n",
       "      <td>-0.077687</td>\n",
       "      <td>-0.280388</td>\n",
       "      <td>0.527582</td>\n",
       "      <td>0.277832</td>\n",
       "      <td>-0.377594</td>\n",
       "      <td>-0.021578</td>\n",
       "      <td>-0.117578</td>\n",
       "      <td>0.684663</td>\n",
       "      <td>5.214729</td>\n",
       "      <td>5.214729</td>\n",
       "    </tr>\n",
       "    <tr>\n",
       "      <th>97745_34_74</th>\n",
       "      <td>8.483660</td>\n",
       "      <td>7.537309</td>\n",
       "      <td>3.680817</td>\n",
       "      <td>-3.069032</td>\n",
       "      <td>7.630220</td>\n",
       "      <td>1.756525</td>\n",
       "      <td>-4.033615</td>\n",
       "      <td>-2.098736</td>\n",
       "      <td>5.691919</td>\n",
       "      <td>7.972821</td>\n",
       "      <td>...</td>\n",
       "      <td>0.605698</td>\n",
       "      <td>-0.305965</td>\n",
       "      <td>0.434582</td>\n",
       "      <td>0.280680</td>\n",
       "      <td>-0.981592</td>\n",
       "      <td>-0.651353</td>\n",
       "      <td>-0.911583</td>\n",
       "      <td>0.634734</td>\n",
       "      <td>3.424050</td>\n",
       "      <td>3.424050</td>\n",
       "    </tr>\n",
       "    <tr>\n",
       "      <th>69333_849_436</th>\n",
       "      <td>10.895662</td>\n",
       "      <td>9.454682</td>\n",
       "      <td>7.929480</td>\n",
       "      <td>-3.644492</td>\n",
       "      <td>2.721212</td>\n",
       "      <td>0.587425</td>\n",
       "      <td>-3.691847</td>\n",
       "      <td>-2.257649</td>\n",
       "      <td>6.766391</td>\n",
       "      <td>7.763286</td>\n",
       "      <td>...</td>\n",
       "      <td>0.101617</td>\n",
       "      <td>-0.398886</td>\n",
       "      <td>0.463486</td>\n",
       "      <td>0.226417</td>\n",
       "      <td>-1.211757</td>\n",
       "      <td>0.136213</td>\n",
       "      <td>-0.806150</td>\n",
       "      <td>0.649323</td>\n",
       "      <td>4.203698</td>\n",
       "      <td>4.203698</td>\n",
       "    </tr>\n",
       "    <tr>\n",
       "      <th>87615_611_16</th>\n",
       "      <td>10.941739</td>\n",
       "      <td>8.049386</td>\n",
       "      <td>3.304493</td>\n",
       "      <td>-2.343300</td>\n",
       "      <td>2.482559</td>\n",
       "      <td>-0.123194</td>\n",
       "      <td>-2.256681</td>\n",
       "      <td>-1.568033</td>\n",
       "      <td>7.171234</td>\n",
       "      <td>6.660460</td>\n",
       "      <td>...</td>\n",
       "      <td>0.082331</td>\n",
       "      <td>-0.410756</td>\n",
       "      <td>0.477289</td>\n",
       "      <td>0.197627</td>\n",
       "      <td>-0.691587</td>\n",
       "      <td>0.299619</td>\n",
       "      <td>-0.241866</td>\n",
       "      <td>0.551845</td>\n",
       "      <td>3.976719</td>\n",
       "      <td>3.976719</td>\n",
       "    </tr>\n",
       "    <tr>\n",
       "      <th>69333_849_407</th>\n",
       "      <td>6.234392</td>\n",
       "      <td>7.930944</td>\n",
       "      <td>2.104627</td>\n",
       "      <td>-4.082194</td>\n",
       "      <td>4.429056</td>\n",
       "      <td>1.409692</td>\n",
       "      <td>-4.965225</td>\n",
       "      <td>-2.465225</td>\n",
       "      <td>4.601559</td>\n",
       "      <td>8.188216</td>\n",
       "      <td>...</td>\n",
       "      <td>-0.223335</td>\n",
       "      <td>-0.329299</td>\n",
       "      <td>0.200291</td>\n",
       "      <td>0.199619</td>\n",
       "      <td>-1.588923</td>\n",
       "      <td>-0.319290</td>\n",
       "      <td>-1.342955</td>\n",
       "      <td>0.544226</td>\n",
       "      <td>2.463996</td>\n",
       "      <td>2.463996</td>\n",
       "    </tr>\n",
       "    <tr>\n",
       "      <th>86873_3_753</th>\n",
       "      <td>10.405042</td>\n",
       "      <td>7.809589</td>\n",
       "      <td>1.794827</td>\n",
       "      <td>-1.584554</td>\n",
       "      <td>6.287189</td>\n",
       "      <td>1.928430</td>\n",
       "      <td>-3.342466</td>\n",
       "      <td>-0.705739</td>\n",
       "      <td>5.636048</td>\n",
       "      <td>7.836313</td>\n",
       "      <td>...</td>\n",
       "      <td>-0.059507</td>\n",
       "      <td>-0.209524</td>\n",
       "      <td>0.760992</td>\n",
       "      <td>0.542470</td>\n",
       "      <td>0.220274</td>\n",
       "      <td>-0.631131</td>\n",
       "      <td>-0.060516</td>\n",
       "      <td>0.817624</td>\n",
       "      <td>3.362393</td>\n",
       "      <td>3.362393</td>\n",
       "    </tr>\n",
       "  </tbody>\n",
       "</table>\n",
       "<p>30 rows × 59 columns</p>\n",
       "</div>"
      ],
      "text/plain": [
       "                 sdbAre_mean  sdbPer_mean  sdbCoA_mean  ssbCCo_mean  \\\n",
       "69333_849_205      11.307900     9.022484     2.763125    -2.732542   \n",
       "109491_31_684      11.274072     9.255773     6.096192    -3.316313   \n",
       "86873_3_636         9.810593     8.612230     1.781879    -3.882475   \n",
       "69333_849_389       7.641349     7.848734     3.026649    -3.809037   \n",
       "62954_2995_130     10.306096     7.845302     1.977528    -2.357137   \n",
       "87615_611_15       10.491962     9.495648     0.975195    -3.582142   \n",
       "62954_2995_21       9.361351     7.924976     3.109548    -3.406665   \n",
       "69333_849_444       9.004357    10.063880     0.830924    -4.879388   \n",
       "69333_849_474       7.627815     8.841266     2.584193    -4.155856   \n",
       "69333_849_441       9.624798    10.502100    -0.077710    -4.024666   \n",
       "69333_849_475      11.233361    11.759197     0.283800    -3.311041   \n",
       "86873_3_688        11.968014     9.285546    -0.077710    -3.104469   \n",
       "35141_167_25        8.456829     7.978542     2.588656    -4.308723   \n",
       "93167_6_237        10.703358     8.180302    -0.077710    -2.085414   \n",
       "62954_15556_202    11.097567     7.380535     2.636045    -1.905358   \n",
       "80404_75_88        10.354692     9.141268     1.307268    -3.410494   \n",
       "62954_3396_17       9.641152     6.800622    -0.077710    -2.476773   \n",
       "69333_849_486       8.008160     9.467347     3.179059    -3.101844   \n",
       "130658_355_138      9.033331     8.059518     0.584171    -4.056828   \n",
       "4_2478_2           11.169950     6.740408     2.266572    -1.796709   \n",
       "62954_15556_214     9.782570     8.563989     1.172770    -4.191446   \n",
       "100210_32_33        8.272574     7.309742     0.127394    -3.094683   \n",
       "84554_197_2         9.449065     7.479895    -0.077710    -2.930906   \n",
       "14245_3_6           9.419796     7.213779     1.777431    -2.782599   \n",
       "7963_12_10         10.138780     8.041512     0.039950    -2.336148   \n",
       "97745_34_74         8.483660     7.537309     3.680817    -3.069032   \n",
       "69333_849_436      10.895662     9.454682     7.929480    -3.644492   \n",
       "87615_611_16       10.941739     8.049386     3.304493    -2.343300   \n",
       "69333_849_407       6.234392     7.930944     2.104627    -4.082194   \n",
       "86873_3_753        10.405042     7.809589     1.794827    -1.584554   \n",
       "\n",
       "                 ssbCor_mean  ssbSqu_mean  ssbERI_mean  ssbElo_mean  \\\n",
       "69333_849_205       3.753355     1.422445    -3.812047    -1.631162   \n",
       "109491_31_684       4.357117     1.461806    -4.613476    -1.660116   \n",
       "86873_3_636         5.047079     0.342965    -3.637582    -2.397973   \n",
       "69333_849_389       5.832038     1.894390    -4.165572    -2.321623   \n",
       "62954_2995_130      2.978981     0.961874    -2.665381    -1.513814   \n",
       "87615_611_15        7.700179     1.542075    -4.177876    -2.115129   \n",
       "62954_2995_21       3.974843     1.867853    -4.757712    -1.182132   \n",
       "69333_849_444       4.409401     0.509601    -3.732392    -3.313003   \n",
       "69333_849_474       1.055723     0.482849    -3.015984    -3.396145   \n",
       "69333_849_441       3.432820     1.431595    -3.837607    -2.648109   \n",
       "69333_849_475       4.996884     1.576665    -6.287692    -1.594555   \n",
       "86873_3_688         2.609180     0.697598    -2.345783    -2.131106   \n",
       "35141_167_25        4.987805     1.632845    -3.959257    -2.767647   \n",
       "93167_6_237         3.135474    -0.078390    -1.825868    -1.667922   \n",
       "62954_15556_202     2.862560     1.087216    -2.399309    -0.931431   \n",
       "80404_75_88         5.341544     3.128560    -4.381066    -1.572312   \n",
       "62954_3396_17       1.673454     1.484599    -2.220684    -1.294843   \n",
       "69333_849_486       1.497807    -0.045227    -4.112387    -2.485152   \n",
       "130658_355_138      3.686607    -0.279582    -2.198824    -2.952937   \n",
       "4_2478_2            3.593831    -0.278066    -2.565387    -1.155110   \n",
       "62954_15556_214     3.481604    -0.152416    -4.039117    -2.205876   \n",
       "100210_32_33        7.365041     1.887653    -3.419734    -1.905748   \n",
       "84554_197_2         2.730897     1.634642    -2.130365    -1.827152   \n",
       "14245_3_6           2.875660     0.755798    -2.026631    -2.083076   \n",
       "7963_12_10          3.799173     3.748453    -2.712220    -1.479448   \n",
       "97745_34_74         7.630220     1.756525    -4.033615    -2.098736   \n",
       "69333_849_436       2.721212     0.587425    -3.691847    -2.257649   \n",
       "87615_611_16        2.482559    -0.123194    -2.256681    -1.568033   \n",
       "69333_849_407       4.429056     1.409692    -4.965225    -2.465225   \n",
       "86873_3_753         6.287189     1.928430    -3.342466    -0.705739   \n",
       "\n",
       "                 ssbCCM_mean  ssbCCD_mean  ...  sdsAre_mean  mibCou_mean  \\\n",
       "69333_849_205       5.505215     9.740832  ...    -0.244130    -0.205020   \n",
       "109491_31_684       7.365233     9.555618  ...    -0.171272    -0.207705   \n",
       "86873_3_636         7.358214     7.622476  ...    -0.096209    -0.323024   \n",
       "69333_849_389       5.938647     7.865657  ...    -0.196921    -0.294194   \n",
       "62954_2995_130      6.507514     7.580875  ...    -0.186267    -0.276592   \n",
       "87615_611_15        7.726558    10.775766  ...    -0.106028    -0.321373   \n",
       "62954_2995_21       6.616568     7.712753  ...    -0.035733    -0.166733   \n",
       "69333_849_444       6.995405     9.453133  ...    -0.254081    -0.396085   \n",
       "69333_849_474       5.084232     9.403290  ...    -0.200372    -0.370896   \n",
       "69333_849_441       7.220040     9.503570  ...     0.012123    -0.434727   \n",
       "69333_849_475       7.649949    11.429800  ...    -0.225347    -0.389287   \n",
       "86873_3_688         8.073224     9.357063  ...    -0.160651    -0.213901   \n",
       "35141_167_25        6.491278     9.020751  ...    -0.126069    -0.234463   \n",
       "93167_6_237         7.060168     6.546232  ...     0.032292    -0.293814   \n",
       "62954_15556_202     6.439576     7.412499  ...     0.282801    -0.313480   \n",
       "80404_75_88         7.427707    10.085780  ...    -0.203543    -0.198260   \n",
       "62954_3396_17       6.172932     7.716262  ...    -0.147299    -0.387145   \n",
       "69333_849_486       5.124079     8.433958  ...    -0.108799    -0.413926   \n",
       "130658_355_138      7.814540     7.503970  ...     0.299643    -0.330052   \n",
       "4_2478_2            5.151414     6.749958  ...     0.237542    -0.273097   \n",
       "62954_15556_214     7.654951     8.806667  ...    -0.141897    -0.046114   \n",
       "100210_32_33        6.090119     7.694282  ...    -0.293262    -0.286281   \n",
       "84554_197_2         6.735128     6.848011  ...    -0.093531    -0.342014   \n",
       "14245_3_6           6.334232     6.710912  ...    -0.197601    -0.005007   \n",
       "7963_12_10          7.208978     7.109278  ...    -0.077687    -0.280388   \n",
       "97745_34_74         5.691919     7.972821  ...     0.605698    -0.305965   \n",
       "69333_849_436       6.766391     7.763286  ...     0.101617    -0.398886   \n",
       "87615_611_16        7.171234     6.660460  ...     0.082331    -0.410756   \n",
       "69333_849_407       4.601559     8.188216  ...    -0.223335    -0.329299   \n",
       "86873_3_753         5.636048     7.836313  ...    -0.059507    -0.209524   \n",
       "\n",
       "                 mibAre_mean  mibLen_mean  mibElo_mean  mibERI_mean  \\\n",
       "69333_849_205       0.758570     0.339052    -1.471213    -0.402337   \n",
       "109491_31_684       0.652482     0.483296    -0.740611    -0.687717   \n",
       "86873_3_636         0.367512     0.246159    -1.807900    -0.121789   \n",
       "69333_849_389       0.331983     0.303550    -1.473150    -0.411333   \n",
       "62954_2995_130      0.665576     0.290593    -0.277554     0.058008   \n",
       "87615_611_15        0.564448     0.382146    -0.886043    -0.476676   \n",
       "62954_2995_21       0.703704     0.410770    -0.617956    -0.666771   \n",
       "69333_849_444       0.403729     0.276716    -2.092550     0.100246   \n",
       "69333_849_474       0.257512     0.211134    -2.417674     0.237639   \n",
       "69333_849_441       0.276809     0.216097    -1.535155     0.193132   \n",
       "69333_849_475       0.423096     0.333342    -0.781870    -0.517726   \n",
       "86873_3_688         0.927268     0.473506    -1.147252    -0.098240   \n",
       "35141_167_25        0.495811     0.317015    -1.701606    -0.306848   \n",
       "93167_6_237         0.485253     0.233531    -1.283786     0.315759   \n",
       "62954_15556_202     0.735723     0.280047    -0.461525     0.102051   \n",
       "80404_75_88         0.759271     0.556036    -0.504055    -1.039349   \n",
       "62954_3396_17       0.346784     0.119311    -0.543267     0.559043   \n",
       "69333_849_486       0.248592     0.220481    -1.549622     0.093374   \n",
       "130658_355_138      0.472763     0.301350    -1.727570    -0.111312   \n",
       "4_2478_2            0.613786     0.227344    -0.179333     0.012115   \n",
       "62954_15556_214     0.639664     0.458742    -1.657196    -0.724686   \n",
       "100210_32_33        0.394526     0.271173    -0.552664    -0.411918   \n",
       "84554_197_2         0.501992     0.240911    -0.735483     0.219737   \n",
       "14245_3_6           0.952710     0.666271    -0.734406    -0.676127   \n",
       "7963_12_10          0.527582     0.277832    -0.377594    -0.021578   \n",
       "97745_34_74         0.434582     0.280680    -0.981592    -0.651353   \n",
       "69333_849_436       0.463486     0.226417    -1.211757     0.136213   \n",
       "87615_611_16        0.477289     0.197627    -0.691587     0.299619   \n",
       "69333_849_407       0.200291     0.199619    -1.588923    -0.319290   \n",
       "86873_3_753         0.760992     0.542470     0.220274    -0.631131   \n",
       "\n",
       "                 mibCCo_mean  mibLAL_mean  mibFR_mean  mibSCo_mean  \n",
       "69333_849_205      -1.264786     0.866697    3.968502     3.968502  \n",
       "109491_31_684      -1.023882     0.909624    4.441168     4.441168  \n",
       "86873_3_636        -1.303383     0.673307    3.365362     3.365362  \n",
       "69333_849_389      -1.363219     0.707786    3.307397     3.307397  \n",
       "62954_2995_130     -0.097437     0.736358    5.835727     5.835727  \n",
       "87615_611_15       -1.041857     0.889618    3.732757     3.732757  \n",
       "62954_2995_21      -0.873473     0.918859    5.331546     5.331546  \n",
       "69333_849_444      -1.485343     0.788195    3.782413     3.782413  \n",
       "69333_849_474      -1.400111     0.680718    3.301892     3.301892  \n",
       "69333_849_441      -0.922910     0.657894    2.706299     2.706299  \n",
       "69333_849_475      -0.853222     0.794476    4.303773     4.303773  \n",
       "86873_3_688        -0.616553     1.112215    5.770006     5.770006  \n",
       "35141_167_25       -1.335577     0.799215    4.109909     4.109909  \n",
       "93167_6_237        -0.586913     0.639020    4.341782     4.341782  \n",
       "62954_15556_202    -0.256001     0.738235    4.905440     4.905440  \n",
       "80404_75_88        -1.112412     1.061850    4.979794     4.979794  \n",
       "62954_3396_17      -0.006995     0.426191    3.442445     3.442445  \n",
       "69333_849_486      -0.752778     0.696383    3.913689     3.913689  \n",
       "130658_355_138     -1.316333     0.846170    4.034026     4.034026  \n",
       "4_2478_2            0.026414     0.540369    3.636500     3.636500  \n",
       "62954_15556_214    -1.905088     1.058611    4.526242     4.526242  \n",
       "100210_32_33       -0.816043     0.671823    3.550589     3.550589  \n",
       "84554_197_2        -0.433293     0.699330    5.153659     5.153659  \n",
       "14245_3_6          -0.838262     1.307237    5.604638     5.604638  \n",
       "7963_12_10         -0.117578     0.684663    5.214729     5.214729  \n",
       "97745_34_74        -0.911583     0.634734    3.424050     3.424050  \n",
       "69333_849_436      -0.806150     0.649323    4.203698     4.203698  \n",
       "87615_611_16       -0.241866     0.551845    3.976719     3.976719  \n",
       "69333_849_407      -1.342955     0.544226    2.463996     2.463996  \n",
       "86873_3_753        -0.060516     0.817624    3.362393     3.362393  \n",
       "\n",
       "[30 rows x 59 columns]"
      ]
     },
     "execution_count": 19,
     "metadata": {},
     "output_type": "execute_result"
    }
   ],
   "source": [
    "component_data.iloc[indxs[0]]"
   ]
  },
  {
   "cell_type": "code",
   "execution_count": 20,
   "id": "f80dd8d8-5515-47f2-bc48-5258d2855365",
   "metadata": {},
   "outputs": [],
   "source": [
    "region_id = 69333\n",
    "\n",
    "\n",
    "etcs = gpd.read_parquet(f'/data/uscuni-ulce/processed_data/tessellations/tessellation_{region_id}.parquet')\n",
    "etcs['morph'] = \"-1\"\n",
    "\n",
    "morphotopes = pd.read_parquet(f'/data/uscuni-ulce/processed_data/morphotopes/tessellation_labels_morphotopes_{region_id}{model_params}.pq')\n",
    "morphotopes.loc[:, 'morphotope_label'] =  morphotopes.values[:, 0]\n",
    "etcs.loc[morphotopes.index, 'morph'] = morphotopes.values"
   ]
  },
  {
   "cell_type": "code",
   "execution_count": 40,
   "id": "ef8781ec-b288-4c9c-92f6-f55ec1d18a37",
   "metadata": {},
   "outputs": [],
   "source": [
    "# etcs[etcs.morph == '849_407'].explore()"
   ]
  },
  {
   "cell_type": "code",
   "execution_count": 62,
   "id": "6fa52c6e-87f9-44fb-8b97-05a387a2e311",
   "metadata": {},
   "outputs": [],
   "source": []
  },
  {
   "cell_type": "code",
   "execution_count": null,
   "id": "df55cb0f-f692-4c5e-81d7-6238a72c48e4",
   "metadata": {},
   "outputs": [],
   "source": []
  },
  {
   "cell_type": "code",
   "execution_count": 30,
   "id": "183cd8f9-c4be-453b-9aee-bc87feb6c615",
   "metadata": {},
   "outputs": [],
   "source": [
    "from core.generate_clusters import preprocess_clustering_data,get_clusters,get_tree"
   ]
  },
  {
   "cell_type": "code",
   "execution_count": null,
   "id": "f634bbaa-8a0a-407c-ace7-f68ebfabf714",
   "metadata": {},
   "outputs": [],
   "source": []
  },
  {
   "cell_type": "code",
   "execution_count": 31,
   "id": "2068f122-6f7e-40d0-ba46-2ccd3e0d261c",
   "metadata": {},
   "outputs": [],
   "source": [
    "from libpysal.graph import read_parquet\n",
    "from sklearn.cluster import AgglomerativeClustering\n",
    "from scipy.cluster.hierarchy import fcluster\n",
    "graph_dir = \"/data/uscuni-ulce/processed_data/neigh_graphs/\"\n",
    "graph = read_parquet(graph_dir + f\"tessellation_graph_{region_id}.parquet\")\n",
    "chars_dir = \"/data/uscuni-ulce/processed_data/chars/\"\n",
    "X_train = pd.read_parquet(chars_dir + f'primary_chars_{region_id}.parquet')\n",
    "\n",
    "\n",
    "min_cluster_size = 100\n",
    "clip=None\n",
    "eom_clusters = False\n",
    "linkage='ward'\n",
    "metric='euclidean'"
   ]
  },
  {
   "cell_type": "code",
   "execution_count": 32,
   "id": "2b0b9116-49e5-48b2-8d73-a9bf53b9af8b",
   "metadata": {},
   "outputs": [],
   "source": [
    "# label building input data, could work with empty tess as well\n",
    "building_graph = graph.subgraph(graph.unique_ids[graph.unique_ids >= 0])\n",
    "labels = building_graph.component_labels"
   ]
  },
  {
   "cell_type": "code",
   "execution_count": 33,
   "id": "0c5410c8-391a-4817-9352-00a071d90680",
   "metadata": {},
   "outputs": [],
   "source": [
    "def post_process_clusters(group, min_cluster_size):\n",
    "    \n",
    "    if group.name == -1: return pd.Series(np.full(group.shape[0], -1), group.index)\n",
    "\n",
    "    clusterer = AgglomerativeClustering(linkage='single',\n",
    "                                    metric='euclidean',\n",
    "                                    compute_full_tree=True,\n",
    "                                    compute_distances=True)\n",
    "    model = clusterer.fit(group.values)\n",
    "    linkage_matrix = get_linkage_matrix(model)\n",
    "    clusters = fcluster(linkage_matrix, t=7, criterion='distance')\n",
    "    \n",
    "    chars_clusters = pd.Series(clusters).value_counts()\n",
    "    chars_clusters[chars_clusters < min_cluster_size] = -1\n",
    "    chars_clusters[chars_clusters >= min_cluster_size] = group.name\n",
    "    clusters = pd.Series(clusters).map(lambda x: chars_clusters.loc[x]).values\n",
    "    return pd.Series(clusters, group.index)"
   ]
  },
  {
   "cell_type": "code",
   "execution_count": null,
   "id": "aa99e2e0-e2e2-47f8-9376-551f6b12ca33",
   "metadata": {},
   "outputs": [],
   "source": []
  },
  {
   "cell_type": "code",
   "execution_count": 34,
   "id": "e4bffe95-edae-4877-b2c4-b6e6a5311747",
   "metadata": {},
   "outputs": [
    {
     "name": "stdout",
     "output_type": "stream",
     "text": [
      "CPU times: user 47.6 s, sys: 152 ms, total: 47.7 s\n",
      "Wall time: 47.7 s\n"
     ]
    }
   ],
   "source": [
    "%%time\n",
    "results = {}\n",
    "\n",
    "for label, group in labels.groupby(labels):\n",
    "\n",
    "    if group.shape[0] <= min_cluster_size:\n",
    "        component_clusters = np.full(group.shape[0], -1)\n",
    "\n",
    "    else:\n",
    "        component_buildings_data = preprocess_clustering_data(X_train.loc[group.index.values], clip=clip, to_drop=to_drop)\n",
    "        component_graph = building_graph.subgraph(group.index.values)\n",
    "        ward_tree = get_tree(component_buildings_data, component_graph.transform('B').sparse, linkage, metric)\n",
    "\n",
    "        # # sometimes ward linkage breaks the monotonic increase in the MST\n",
    "        # # if that happens shift all distances by the max drop\n",
    "        # # need a loop because several connections might be problematic\n",
    "        problem_idxs = np.where(ward_tree[1:, 2] < ward_tree[0:-1, 2])[0]\n",
    "        while problem_idxs.shape[0]:\n",
    "            ward_tree[problem_idxs + 1, 2] = ward_tree[problem_idxs, 2] + .01\n",
    "            problem_idxs = np.where(ward_tree[1:, 2] < ward_tree[0:-1, 2])[0]\n",
    "        # check if ward tree distances are always increasing\n",
    "        assert (ward_tree[1:, 2] >= ward_tree[0:-1, 2]).all()\n",
    "        \n",
    "        component_clusters = get_clusters(ward_tree, min_cluster_size, component_buildings_data.shape[0], eom_clusters=eom_clusters)\n",
    "            \n",
    "       ## post process\n",
    "        res = component_buildings_data.groupby(component_clusters).apply(post_process_clusters, min_cluster_size=min_cluster_size)\n",
    "        if res.shape[0] == 1:\n",
    "            component_clusters = pd.Series(res.values[0], res.columns)\n",
    "        else:\n",
    "            component_clusters = pd.Series(res.values, res.index.get_level_values(1)).loc[component_buildings_data.index].values\n",
    "        \n",
    "        # for c in np.unique(component_clusters):\n",
    "        #     # if c == -1: continue\n",
    "        #     cluster_graph = component_graph.subgraph(group.index[component_clusters == c].values)\n",
    "        #     assert cluster_graph.n_components == 1\n",
    "    \n",
    "    results[label] = component_clusters\n",
    "\n",
    "### relabel local clusters(0,1,2,0,1) to regional clusters(0_0,0_1,0_2, 0_0,0_1,) etc\n",
    "label_groups = labels.groupby(labels)\n",
    "region_cluster_labels = []\n",
    "for label, component_clusters in results.items():\n",
    "    group = label_groups.get_group(label)\n",
    "    component_labels = str(label) + '_' + pd.Series(component_clusters.astype(str), \n",
    "                                                    index=group.index.values)\n",
    "    region_cluster_labels.append(component_labels)\n",
    "\n",
    "region_cluster_labels = pd.concat(region_cluster_labels).sort_index()\n",
    "assert (X_train[X_train.index >= 0].index == region_cluster_labels.index).all()"
   ]
  },
  {
   "cell_type": "code",
   "execution_count": 35,
   "id": "9287ebb7-c8a9-4723-bba8-be47b58cfec1",
   "metadata": {
    "scrolled": true
   },
   "outputs": [
    {
     "data": {
      "text/plain": [
       "0            0_-1\n",
       "1            1_-1\n",
       "2            1_-1\n",
       "3            1_-1\n",
       "4            1_-1\n",
       "           ...   \n",
       "447721    849_527\n",
       "447722    849_509\n",
       "447723    1355_-1\n",
       "447724    849_205\n",
       "447725    849_407\n",
       "Length: 447726, dtype: object"
      ]
     },
     "execution_count": 35,
     "metadata": {},
     "output_type": "execute_result"
    }
   ],
   "source": [
    "region_cluster_labels"
   ]
  },
  {
   "cell_type": "code",
   "execution_count": null,
   "id": "fa74c205-aedf-4141-b2d0-ca92b440bcf1",
   "metadata": {},
   "outputs": [],
   "source": []
  },
  {
   "cell_type": "code",
   "execution_count": null,
   "id": "d042fa29-640e-46ea-81ef-20bf5d941f28",
   "metadata": {},
   "outputs": [],
   "source": []
  },
  {
   "cell_type": "code",
   "execution_count": null,
   "id": "af409d4e-638b-4391-8de3-6b5725d26b1e",
   "metadata": {},
   "outputs": [],
   "source": []
  },
  {
   "cell_type": "code",
   "execution_count": 128,
   "id": "1abbfddc-0a45-49d9-a6f7-68625c61030a",
   "metadata": {},
   "outputs": [],
   "source": [
    "spatial_lag = 3\n",
    "kernel='gaussian'\n",
    "lag_type = '_'\n",
    "lag_dir = '/data/uscuni-ulce/processed_data/lag/'"
   ]
  },
  {
   "cell_type": "code",
   "execution_count": 130,
   "id": "f8a1df54-60b4-43b2-b1a8-08584a3ab1f8",
   "metadata": {},
   "outputs": [],
   "source": [
    "lag_data = pd.read_parquet(f'{lag_dir}{region_id}_{kernel}_lag_{spatial_lag}.parquet')"
   ]
  },
  {
   "cell_type": "code",
   "execution_count": 132,
   "id": "b8822d58-d9f1-4349-8b7f-9cf0cc0f07e4",
   "metadata": {},
   "outputs": [],
   "source": [
    "lag_data = lag_data.loc[region_cluster_labels.index]"
   ]
  },
  {
   "cell_type": "code",
   "execution_count": 138,
   "id": "c7a06b14-11e8-4d33-9fa4-ebdc34cb31e4",
   "metadata": {},
   "outputs": [],
   "source": [
    "clustering_data = lag_data.groupby(region_cluster_labels).agg('median')"
   ]
  },
  {
   "cell_type": "code",
   "execution_count": 139,
   "id": "a39572e6-2d07-4667-97c3-7debdd5df1d9",
   "metadata": {},
   "outputs": [],
   "source": [
    "component_data_index = clustering_data.index\n",
    "component_data = clustering_data.reset_index(drop=True)\n",
    "\n",
    "component_data.columns =  ['_'.join(col).strip() for col in component_data.columns.values]\n",
    "component_data = preprocess_clustering_data(component_data, clip, to_drop)\n",
    "component_data = component_data.set_index(component_data_index)"
   ]
  },
  {
   "cell_type": "code",
   "execution_count": null,
   "id": "4f695a04-b20d-4c1a-9b20-7eab134af0b3",
   "metadata": {},
   "outputs": [],
   "source": []
  },
  {
   "cell_type": "code",
   "execution_count": 159,
   "id": "2f470c16-a6af-42ab-9719-deb9893855b2",
   "metadata": {},
   "outputs": [
    {
     "name": "stdout",
     "output_type": "stream",
     "text": [
      "CPU times: user 2.35 s, sys: 5.64 ms, total: 2.35 s\n",
      "Wall time: 123 ms\n"
     ]
    }
   ],
   "source": [
    "%%time\n",
    "\n",
    "## k-256, mean and std split the big blocks into at least 2 clusters...\n",
    "from sklearn.cluster import KMeans, MiniBatchKMeans\n",
    "kmeans_clusterer = KMeans(n_clusters=64, max_iter=500, random_state=123)\n",
    "kmeans_clusters = kmeans_clusterer.fit(component_data).labels_"
   ]
  },
  {
   "cell_type": "code",
   "execution_count": null,
   "id": "bc0a9e6d-ad4b-42ac-b4ab-af32d5336922",
   "metadata": {},
   "outputs": [],
   "source": []
  },
  {
   "cell_type": "code",
   "execution_count": 160,
   "id": "554ef398-59ff-408d-b8a6-735cc4345037",
   "metadata": {},
   "outputs": [],
   "source": [
    "\n",
    "linkage = 'ward'\n",
    "metric = 'euclidean'\n",
    "sklearn_linkage_structure = namedtuple('Model', ['children_', 'labels_', 'distances_'])\n",
    "\n",
    "\n",
    "from sklearn.cluster import AgglomerativeClustering\n",
    "from core.cluster_validation import get_linkage_matrix\n",
    "clusterer = AgglomerativeClustering(linkage=linkage,\n",
    "                                    metric=metric,\n",
    "                                    compute_full_tree=True,\n",
    "                                    compute_distances=True)\n",
    "model = clusterer.fit(kmeans_clusterer.cluster_centers_)\n",
    "linkage_matrix = get_linkage_matrix(model)"
   ]
  },
  {
   "cell_type": "code",
   "execution_count": null,
   "id": "5911e9b5-ac74-4318-8822-8a98e10ebe88",
   "metadata": {},
   "outputs": [],
   "source": []
  },
  {
   "cell_type": "code",
   "execution_count": null,
   "id": "8db9401b-230d-42f1-bbf2-409b0380414a",
   "metadata": {},
   "outputs": [],
   "source": []
  },
  {
   "cell_type": "code",
   "execution_count": null,
   "id": "51806f44-d643-473a-abc0-da35e07b2f20",
   "metadata": {},
   "outputs": [],
   "source": []
  },
  {
   "cell_type": "code",
   "execution_count": null,
   "id": "e5e69ecd-fd1b-4f35-bf0e-495a2b5f51a1",
   "metadata": {},
   "outputs": [],
   "source": []
  },
  {
   "cell_type": "code",
   "execution_count": 161,
   "id": "56e7400b-d62b-48a2-b708-c6659f8da004",
   "metadata": {
    "scrolled": true
   },
   "outputs": [
    {
     "data": {
      "image/png": "[encoded data removed]",
      "text/plain": [
       "<Figure size 4000x4000 with 1 Axes>"
      ]
     },
     "metadata": {},
     "output_type": "display_data"
    }
   ],
   "source": [
    "import matplotlib.pyplot as plt\n",
    "from scipy.cluster.hierarchy import dendrogram, fcluster\n",
    "from hdbscan.plots import SingleLinkageTree\n",
    "\n",
    "fig,ax = plt.subplots(figsize=(20,20), dpi=200)\n",
    "_ = dendrogram(linkage_matrix, ax=ax, orientation='right')\n",
    "\n",
    "# fig, ax = plt.subplots(figsize=(20,10))\n",
    "# SingleLinkageTree(linkage_matrix).plot(axis=ax)"
   ]
  },
  {
   "cell_type": "code",
   "execution_count": null,
   "id": "d02de8c2-8e16-4949-95f3-beb6401f74b6",
   "metadata": {},
   "outputs": [],
   "source": []
  },
  {
   "cell_type": "code",
   "execution_count": null,
   "id": "b425e659-e6ec-4c89-9b29-125b345bfe2b",
   "metadata": {},
   "outputs": [],
   "source": []
  },
  {
   "cell_type": "code",
   "execution_count": 43,
   "id": "2c19ac29-3dbd-4d8c-b322-8ec8bbc90eeb",
   "metadata": {},
   "outputs": [
    {
     "data": {
      "text/plain": [
       "count    356331.000000\n",
       "mean          2.718217\n",
       "std           1.362448\n",
       "min           0.868562\n",
       "25%           2.138306\n",
       "50%           2.502614\n",
       "75%           3.031688\n",
       "max         304.429754\n",
       "dtype: float64"
      ]
     },
     "execution_count": 43,
     "metadata": {},
     "output_type": "execute_result"
    }
   ],
   "source": [
    "pd.Series(linkage_matrix[:, 2]).describe()"
   ]
  },
  {
   "cell_type": "code",
   "execution_count": 157,
   "id": "aec68f96-1ee6-4446-901a-9cc80388efd3",
   "metadata": {},
   "outputs": [],
   "source": [
    "cutoff = 3\n",
    "kmeans_clusters = fcluster(linkage_matrix, t=cutoff, criterion='distance')\n"
   ]
  },
  {
   "cell_type": "code",
   "execution_count": 158,
   "id": "9e92555f-98ed-41ae-8fe8-c5935794a442",
   "metadata": {},
   "outputs": [],
   "source": [
    "# ward_clusters = fcluster(linkage_matrix, t=cutoff, criterion='distance')\n",
    "# ward_clusters = pd.Series(ward_clusters, index=np.arange(np.unique(kmeans_clusters).shape[0]))\n",
    "# np.unique(ward_clusters)"
   ]
  },
  {
   "cell_type": "code",
   "execution_count": 159,
   "id": "b625d63f-bf22-4599-b32b-bbafb991663c",
   "metadata": {},
   "outputs": [],
   "source": [
    "# clusters = pd.Series(kmeans_clusters).map(lambda x: ward_clusters.loc[x]).values"
   ]
  },
  {
   "cell_type": "code",
   "execution_count": null,
   "id": "ab529851-109f-4375-95fc-7298a98ba4fd",
   "metadata": {},
   "outputs": [],
   "source": []
  },
  {
   "cell_type": "code",
   "execution_count": 160,
   "id": "880361bc-9b1a-4d54-8b54-05000d8af7d5",
   "metadata": {},
   "outputs": [],
   "source": [
    "clusters = kmeans_clusters.copy()"
   ]
  },
  {
   "cell_type": "code",
   "execution_count": null,
   "id": "4c1e352c-a9b1-4998-8875-9b258edf006f",
   "metadata": {},
   "outputs": [],
   "source": []
  },
  {
   "cell_type": "code",
   "execution_count": null,
   "id": "f7a4d653-ae9a-4f70-a3e4-0e42fd1150d7",
   "metadata": {},
   "outputs": [],
   "source": []
  },
  {
   "cell_type": "code",
   "execution_count": 161,
   "id": "30f2d076-dd7d-42a0-9050-b65d5347b64b",
   "metadata": {
    "scrolled": true
   },
   "outputs": [
    {
     "data": {
      "text/plain": [
       "4_0_0           92395\n",
       "4_0_1           88162\n",
       "4_0_10          24024\n",
       "4_0_11              6\n",
       "4_0_12              6\n",
       "                ...  \n",
       "139096_942_0    89916\n",
       "139096_98_0     90663\n",
       "139096_990_0    20552\n",
       "139096_99_0         6\n",
       "139096_99_1         6\n",
       "Length: 356332, dtype: int32"
      ]
     },
     "execution_count": 161,
     "metadata": {},
     "output_type": "execute_result"
    }
   ],
   "source": [
    "region_id = 69333\n",
    "\n",
    "\n",
    "etcs = gpd.read_parquet(f'/data/uscuni-ulce/processed_data/tessellations/tessellation_{region_id}.parquet')\n",
    "etcs['label'] = -1\n",
    "\n",
    "morphotopes = pd.read_parquet(f'/data/uscuni-ulce/processed_data/morphotopes/tessellation_labels_morphotopes_{region_id}{model_params}.pq')\n",
    "morphotopes.loc[:, 'morphotope_label'] =  str(region_id) + '_' + morphotopes.values[:, 0]\n",
    "\n",
    "region_clusters = pd.Series(clusters, component_data.index)\n",
    "region_clusters"
   ]
  },
  {
   "cell_type": "code",
   "execution_count": 162,
   "id": "2ae717b1-576e-4100-b848-4215ac695940",
   "metadata": {},
   "outputs": [
    {
     "data": {
      "text/plain": [
       "92941"
      ]
     },
     "execution_count": 162,
     "metadata": {},
     "output_type": "execute_result"
    }
   ],
   "source": [
    "region_clusters.nunique()"
   ]
  },
  {
   "cell_type": "code",
   "execution_count": 163,
   "id": "d270eeac-32d5-4588-884d-65d008fb57e9",
   "metadata": {
    "scrolled": true
   },
   "outputs": [
    {
     "data": {
      "text/plain": [
       "6        260019\n",
       "1158         20\n",
       "7592         11\n",
       "3224         11\n",
       "6980         11\n",
       "          ...  \n",
       "71545         1\n",
       "1609          1\n",
       "22431         1\n",
       "23666         1\n",
       "60838         1\n",
       "Name: count, Length: 92941, dtype: int64"
      ]
     },
     "execution_count": 163,
     "metadata": {},
     "output_type": "execute_result"
    }
   ],
   "source": [
    "region_clusters.value_counts()"
   ]
  },
  {
   "cell_type": "code",
   "execution_count": null,
   "id": "fc8a2f5a-46f6-403e-b8e7-ffeb6117c2c5",
   "metadata": {},
   "outputs": [],
   "source": []
  },
  {
   "cell_type": "code",
   "execution_count": 164,
   "id": "18ae2397-7292-4dc6-a391-82dbe08e20c4",
   "metadata": {
    "scrolled": true
   },
   "outputs": [
    {
     "name": "stdout",
     "output_type": "stream",
     "text": [
      "CPU times: user 1.08 s, sys: 63.2 ms, total: 1.14 s\n",
      "Wall time: 1.08 s\n"
     ]
    }
   ],
   "source": [
    "%%time\n",
    "## assign morphotope clusters to tess cells\n",
    "\n",
    "etcs.loc[morphotopes.index, 'label'] = morphotopes.morphotope_label.map(lambda x: region_clusters.loc[x] if x in region_clusters.index else -1).values\n"
   ]
  },
  {
   "cell_type": "code",
   "execution_count": 165,
   "id": "90c43254-4630-4b97-9fcf-5d7fd36fe169",
   "metadata": {},
   "outputs": [],
   "source": [
    "# %%time\n",
    "# # # # relabel morphotopes for plotting\n",
    "# morph_dict = pd.Series(np.arange(np.unique(morphotopes.values).shape[0]),\n",
    "#                        np.unique(morphotopes.values))\n",
    "# etcs.loc[morphotopes.index, 'label'] = morphotopes.map(lambda x: morph_dict.loc[x]).values\n",
    "# etcs['morph'] = '-1'\n",
    "# etcs.loc[morphotopes.index, 'morph'] = morphotopes.values"
   ]
  },
  {
   "cell_type": "code",
   "execution_count": 166,
   "id": "65e927d5-f0c5-4cba-a028-cfed981826c3",
   "metadata": {
    "scrolled": true
   },
   "outputs": [
    {
     "data": {
      "text/plain": [
       "label\n",
       " 6        245374\n",
       "-1        108131\n",
       " 71508       692\n",
       " 40132       669\n",
       " 59352       632\n",
       "           ...  \n",
       " 91943       100\n",
       " 16989       100\n",
       " 13914       100\n",
       " 16304       100\n",
       " 91944       100\n",
       "Name: count, Length: 586, dtype: int64"
      ]
     },
     "execution_count": 166,
     "metadata": {},
     "output_type": "execute_result"
    }
   ],
   "source": [
    "etcs.label.value_counts()"
   ]
  },
  {
   "cell_type": "code",
   "execution_count": 167,
   "id": "302d2e13-cd61-4b6b-9a21-af741afcd26f",
   "metadata": {},
   "outputs": [],
   "source": [
    "from core.cluster_validation import get_color\n",
    "layer.get_fill_color = get_color(etcs.label)"
   ]
  },
  {
   "cell_type": "code",
   "execution_count": null,
   "id": "f81bfa42-cd35-43df-bb6e-6e39dd70afb5",
   "metadata": {},
   "outputs": [],
   "source": []
  },
  {
   "cell_type": "code",
   "execution_count": null,
   "id": "add1d05f-cbf4-4f9e-b71d-50b9560755fb",
   "metadata": {},
   "outputs": [],
   "source": []
  },
  {
   "cell_type": "code",
   "execution_count": 88,
   "id": "eff46fac-9d84-40cc-9975-510ca954d17e",
   "metadata": {},
   "outputs": [
    {
     "name": "stderr",
     "output_type": "stream",
     "text": [
      "/home/krasen/urban_taxonomy/.pixi/envs/default/lib/python3.12/site-packages/lonboard/_geoarrow/ops/reproject.py:97: UserWarning: Input being reprojected to EPSG:4326 CRS\n",
      "  warnings.warn(\"Input being reprojected to EPSG:4326 CRS\")\n"
     ]
    },
    {
     "name": "stdout",
     "output_type": "stream",
     "text": [
      "CPU times: user 6.9 s, sys: 340 ms, total: 7.24 s\n",
      "Wall time: 7.24 s\n"
     ]
    }
   ],
   "source": [
    "%%time\n",
    "import lonboard\n",
    "# plotting = tessellation[tessellation.index.isin(X_train.index)].copy()\n",
    "layer = lonboard.SolidPolygonLayer.from_geopandas(etcs, opacity=.08)"
   ]
  },
  {
   "cell_type": "code",
   "execution_count": 89,
   "id": "b0bff59a-6367-431e-9a06-376985510dfc",
   "metadata": {},
   "outputs": [],
   "source": [
    "from sidecar import Sidecar\n",
    "sc = Sidecar(title='Final Clusters')\n",
    "m = lonboard.Map(layer, basemap_style=lonboard.basemap.CartoBasemap.Positron)\n",
    "with sc:\n",
    "    display(m)"
   ]
  },
  {
   "cell_type": "code",
   "execution_count": 101,
   "id": "4a851995-d997-469c-b4d3-0953db7bb7a3",
   "metadata": {},
   "outputs": [],
   "source": [
    "from core.cluster_validation import get_color\n",
    "layer.get_fill_color = get_color(etcs.label)"
   ]
  },
  {
   "cell_type": "code",
   "execution_count": 44,
   "id": "774f6457-e2bf-4928-8862-0d367436758f",
   "metadata": {},
   "outputs": [
    {
     "data": {
      "text/plain": [
       "1"
      ]
     },
     "execution_count": 44,
     "metadata": {},
     "output_type": "execute_result"
    }
   ],
   "source": [
    "1"
   ]
  },
  {
   "cell_type": "code",
   "execution_count": null,
   "id": "e7cebc7c-20c5-421f-8dae-b0c86db202b6",
   "metadata": {},
   "outputs": [],
   "source": []
  }
 ],
 "metadata": {
  "kernelspec": {
   "display_name": "Python 3 (ipykernel)",
   "language": "python",
   "name": "python3"
  },
  "language_info": {
   "codemirror_mode": {
    "name": "ipython",
    "version": 3
   },
   "file_extension": ".py",
   "mimetype": "text/x-python",
   "name": "python",
   "nbconvert_exporter": "python",
   "pygments_lexer": "ipython3",
   "version": "3.12.5"
  }
 },
 "nbformat": 4,
 "nbformat_minor": 5
}
