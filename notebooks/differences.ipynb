{
 "cells": [
  {
   "cell_type": "code",
   "execution_count": null,
   "id": "65f6f68a-8eea-4bbd-a44e-239fa33f1b32",
   "metadata": {},
   "outputs": [],
   "source": []
  },
  {
   "cell_type": "code",
   "execution_count": 1,
   "id": "e3ad97ce-4cfc-4c17-a3b4-359611030c81",
   "metadata": {},
   "outputs": [],
   "source": [
    "import momepy as mm\n",
    "import numpy as np\n",
    "import numba\n",
    "import geopandas as gpd\n",
    "import pandas as pd\n",
    "import shapely\n",
    "from fast_hdbscan.numba_kdtree import NumbaKDTree, kdtree_to_numba, rdist, point_to_node_lower_bound_rdist\n",
    "from sklearn.preprocessing import StandardScaler\n",
    "from collections import namedtuple\n",
    "from core.cluster_validation import get_linkage_matrix\n",
    "import umap"
   ]
  },
  {
   "cell_type": "code",
   "execution_count": 3,
   "id": "68b72969-58da-4cb1-8a43-367aa1d82697",
   "metadata": {},
   "outputs": [],
   "source": [
    "regions_datadir = \"/data/uscuni-ulce/\"\n",
    "morphotopes_dir = '/data/uscuni-ulce/processed_data/morphotopes/'\n",
    "model_params = '_75_0_None_None_False'"
   ]
  },
  {
   "cell_type": "code",
   "execution_count": null,
   "id": "edd27df1-5437-4850-85a3-d0c73abb1463",
   "metadata": {},
   "outputs": [],
   "source": []
  },
  {
   "cell_type": "code",
   "execution_count": 3,
   "id": "72cd1024-bd6e-4b80-8956-8a36fedb914c",
   "metadata": {},
   "outputs": [
    {
     "name": "stdout",
     "output_type": "stream",
     "text": [
      "CPU times: user 19.4 s, sys: 6.26 s, total: 25.6 s\n",
      "Wall time: 11.6 s\n"
     ]
    }
   ],
   "source": [
    "%%time\n",
    "\n",
    "### read all morphotopes\n",
    "region_hulls = gpd.read_parquet(\n",
    "        regions_datadir + \"regions/\" + \"cadastre_regions_hull.parquet\"\n",
    ")\n",
    "\n",
    "data = []\n",
    "for region_id, _ in region_hulls.iterrows():\n",
    "    region_morphotope_data = pd.read_parquet(f'{morphotopes_dir}data_morphotopes_{region_id}{model_params}.pq')\n",
    "    region_morphotope_data.index = str(region_id) + '_' + region_morphotope_data.index.str[:]\n",
    "    data.append(region_morphotope_data)\n",
    "\n",
    "data = pd.concat(data)"
   ]
  },
  {
   "cell_type": "code",
   "execution_count": 4,
   "id": "c7e18828-f614-4feb-b50e-89b97639440c",
   "metadata": {},
   "outputs": [
    {
     "data": {
      "text/plain": [
       "(1046973, 361)"
      ]
     },
     "execution_count": 4,
     "metadata": {},
     "output_type": "execute_result"
    }
   ],
   "source": [
    "data.shape"
   ]
  },
  {
   "cell_type": "code",
   "execution_count": 5,
   "id": "e8e754f0-9d94-4915-810a-cad3c6974eca",
   "metadata": {},
   "outputs": [],
   "source": [
    "# ## read a single region\n",
    "\n",
    "\n",
    "# # model_params = '_100_3__median_gaussian_False'\n",
    "\n",
    "# region_id = 69333\n",
    "# data = pd.read_parquet(f'{morphotopes_dir}data_morphotopes_{region_id}{model_params}.pq')\n",
    "# data.index = str(region_id) + '_' + data.index"
   ]
  },
  {
   "cell_type": "code",
   "execution_count": null,
   "id": "5d35d63d-d4f9-48a4-ab67-54e8bdd0d831",
   "metadata": {},
   "outputs": [],
   "source": []
  },
  {
   "cell_type": "code",
   "execution_count": 6,
   "id": "447c00e1-cfe0-42e3-bdb2-b6edc4aff395",
   "metadata": {},
   "outputs": [],
   "source": [
    "### drop noise\n",
    "data = data[data.index.str[-2:] != '-1']"
   ]
  },
  {
   "cell_type": "code",
   "execution_count": 7,
   "id": "966f4abe-9c35-4937-af46-83bced1188d2",
   "metadata": {},
   "outputs": [],
   "source": [
    "# data = data.drop(columns=['mibLAL', 'mibCCo'], level=0)"
   ]
  },
  {
   "cell_type": "code",
   "execution_count": null,
   "id": "c107ef2f-b860-4fb5-8a47-3555d3db115c",
   "metadata": {},
   "outputs": [],
   "source": []
  },
  {
   "cell_type": "code",
   "execution_count": 8,
   "id": "649e8d4e-524d-4ba4-b279-33c4cd766397",
   "metadata": {},
   "outputs": [],
   "source": [
    "sizes = data.iloc[:, -1]\n",
    "data = data.iloc[:, :-1]"
   ]
  },
  {
   "cell_type": "code",
   "execution_count": null,
   "id": "df65f0a9-074e-4026-885e-443ccf21a753",
   "metadata": {},
   "outputs": [],
   "source": []
  },
  {
   "cell_type": "code",
   "execution_count": null,
   "id": "c4598557-e0a7-43f5-9408-ffe5d69f6263",
   "metadata": {},
   "outputs": [],
   "source": []
  },
  {
   "cell_type": "code",
   "execution_count": null,
   "id": "8f7cff02-2388-4eca-b4de-5b66dc7d3d88",
   "metadata": {},
   "outputs": [],
   "source": []
  },
  {
   "cell_type": "code",
   "execution_count": null,
   "id": "050c2485-53b7-4eb3-b12b-264b9c292101",
   "metadata": {},
   "outputs": [],
   "source": []
  },
  {
   "cell_type": "code",
   "execution_count": 9,
   "id": "8c437b5e-8414-4699-83b3-3ac1e11d254f",
   "metadata": {},
   "outputs": [],
   "source": [
    "vals = StandardScaler().fit_transform(data)\n",
    "component_data = pd.DataFrame(vals, columns=data.columns, index=data.index)\n",
    "component_data = component_data.drop(component_data.columns[component_data.std() == 0], axis=1)\n",
    "\n",
    "# component_data = component_data[component_data.index >= 0]\n",
    "vals = np.nan_to_num(component_data)\n",
    "component_data = pd.DataFrame(vals, columns=component_data.columns, index=component_data.index)\n"
   ]
  },
  {
   "cell_type": "code",
   "execution_count": 10,
   "id": "9f4e7df5-69ca-44f4-82e4-81b68c411b17",
   "metadata": {},
   "outputs": [],
   "source": [
    "standardised_data = component_data.copy()"
   ]
  },
  {
   "cell_type": "code",
   "execution_count": 11,
   "id": "131c81c5-0e88-44b2-8438-6a297bdd52cb",
   "metadata": {},
   "outputs": [
    {
     "data": {
      "text/plain": [
       "mean    177.034517\n",
       "std      72.748388\n",
       "min     100.000000\n",
       "25%     122.000000\n",
       "50%     156.000000\n",
       "75%     211.000000\n",
       "max     903.000000\n",
       "Name: (Size, Size), dtype: float64"
      ]
     },
     "execution_count": 11,
     "metadata": {},
     "output_type": "execute_result"
    }
   ],
   "source": [
    "sizes.sort_values(ascending=False).describe().iloc[1:]"
   ]
  },
  {
   "cell_type": "code",
   "execution_count": null,
   "id": "43ead584-6d04-43b9-8861-d1431f32fdb6",
   "metadata": {},
   "outputs": [],
   "source": []
  },
  {
   "cell_type": "code",
   "execution_count": null,
   "id": "690f94cc-b1fd-46e9-8a2d-0bb3e676bc63",
   "metadata": {},
   "outputs": [],
   "source": []
  },
  {
   "cell_type": "code",
   "execution_count": 12,
   "id": "eca5fe07-c246-47ae-915e-9388b052d451",
   "metadata": {},
   "outputs": [],
   "source": [
    "component_data = standardised_data.drop(columns=['percentile_25', 'percentile_75', 'median', 'std'], level=1)"
   ]
  },
  {
   "cell_type": "code",
   "execution_count": null,
   "id": "d238ddd7-eaa8-46a8-9cc1-cd76fd5bcee2",
   "metadata": {},
   "outputs": [],
   "source": []
  },
  {
   "cell_type": "code",
   "execution_count": 13,
   "id": "b8cc05b7-fb35-4476-abdc-d2f8a962f955",
   "metadata": {},
   "outputs": [
    {
     "data": {
      "text/plain": [
       "Index(['sdbAre', 'sdbPer', 'sdbCoA', 'ssbCCo', 'ssbCor', 'ssbSqu', 'ssbERI',\n",
       "       'ssbElo', 'ssbCCM', 'ssbCCD', 'stbOri', 'mtbSWR', 'libNCo', 'ldbPWL',\n",
       "       'ltcBuA', 'mtbAli', 'mtbNDi', 'ltbIBD', 'stbCeA', 'stbSAl', 'sdsLen',\n",
       "       'sssLin', 'ldsMSL', 'ldsRea', 'ldsAre', 'sisBpM', 'sdsSPW', 'sdsSPO',\n",
       "       'sdsSWD', 'mtdDeg', 'lcdMes', 'linP3W', 'linP4W', 'linPDE', 'lcnClo',\n",
       "       'lddNDe', 'linWID', 'ldsCDL', 'xcnSCl', 'mtdMDi', 'sddAre', 'midRea',\n",
       "       'midAre', 'stcOri', 'sdcLAL', 'sdcAre', 'sscCCo', 'sscERI', 'mtcWNe',\n",
       "       'mdcAre', 'ltcWRB', 'sicCAR', 'stcSAl', 'ldkAre', 'ldkPer', 'lskCCo',\n",
       "       'lskERI', 'lskCWA', 'ltkOri', 'ltkWNB', 'likWBB', 'sdsAre', 'likWCe',\n",
       "       'mibCou', 'mibAre', 'mibLen', 'mibElo', 'mibERI', 'mibCCo', 'mibLAL',\n",
       "       'mibFR', 'mibSCo'],\n",
       "      dtype='object')"
      ]
     },
     "execution_count": 13,
     "metadata": {},
     "output_type": "execute_result"
    }
   ],
   "source": [
    "component_data.columns.get_level_values(0).unique()"
   ]
  },
  {
   "cell_type": "code",
   "execution_count": 14,
   "id": "724cb27e-74cd-4c83-8aae-686e21689789",
   "metadata": {},
   "outputs": [],
   "source": [
    "to_drop = [\n",
    "        'stcSAl','stbOri','stcOri','stbCeA',\n",
    "        'ldkAre', 'ldkPer', 'lskCCo', 'lskERI','lskCWA', 'ltkOri', 'ltkWNB', 'likWBB', 'likWCe',\n",
    "# 'sdbAre', 'ssbCCM', 'sdcLAL'\n",
    "    # 'mibCCo', 'mibLAL'\n",
    "]"
   ]
  },
  {
   "cell_type": "code",
   "execution_count": 15,
   "id": "332be18f-807c-489a-ae02-07073f5c1a9e",
   "metadata": {},
   "outputs": [],
   "source": [
    "component_data = component_data.drop(\n",
    "    columns=to_drop, level=0)"
   ]
  },
  {
   "cell_type": "code",
   "execution_count": 16,
   "id": "86e03024-f4dc-4693-9e77-5d91c97bb22e",
   "metadata": {},
   "outputs": [],
   "source": [
    "component_data.columns =  ['_'.join(col).strip() for col in component_data.columns.values]"
   ]
  },
  {
   "cell_type": "code",
   "execution_count": null,
   "id": "eb1ba3a8-2756-4aa4-bcdd-6e50cd91bc1a",
   "metadata": {},
   "outputs": [],
   "source": []
  },
  {
   "cell_type": "code",
   "execution_count": null,
   "id": "8348e986-e791-4414-a413-ff0b33851373",
   "metadata": {},
   "outputs": [],
   "source": []
  },
  {
   "cell_type": "code",
   "execution_count": 17,
   "id": "7f4f6d14-908d-4a27-8d81-fe24b680df23",
   "metadata": {},
   "outputs": [
    {
     "name": "stdout",
     "output_type": "stream",
     "text": [
      "CPU times: user 409 ms, sys: 9.16 ms, total: 418 ms\n",
      "Wall time: 417 ms\n"
     ]
    }
   ],
   "source": [
    "%%time\n",
    "desc = component_data.describe()"
   ]
  },
  {
   "cell_type": "code",
   "execution_count": 18,
   "id": "c36a0423-7f2a-4aad-82b4-c9b7df2c3979",
   "metadata": {},
   "outputs": [
    {
     "data": {
      "text/plain": [
       "sdsSPO_mean      5.055496\n",
       "ltcBuA_mean      6.077051\n",
       "mtbAli_mean      7.917782\n",
       "mtbSWR_mean      8.711377\n",
       "sdsSPW_mean      9.536756\n",
       "stbSAl_mean      9.919716\n",
       "sdcLAL_mean      9.993331\n",
       "mtbNDi_mean     10.591417\n",
       "mibERI_mean     10.967000\n",
       "linWID_mean     10.996505\n",
       "mibElo_mean     11.324640\n",
       "sicCAR_mean     11.364033\n",
       "sssLin_mean     11.401305\n",
       "linP3W_mean     11.848099\n",
       "mtdDeg_mean     12.040789\n",
       "linPDE_mean     12.193535\n",
       "sdsSWD_mean     12.651702\n",
       "linP4W_mean     12.749638\n",
       "mibCCo_mean     14.156268\n",
       "mtcWNe_mean     15.450934\n",
       "ssbElo_mean     16.379309\n",
       "sdcAre_mean     17.103776\n",
       "ltcWRB_mean     17.871926\n",
       "ldsAre_mean     19.118442\n",
       "ldsRea_mean     19.324691\n",
       "sscCCo_mean     19.629408\n",
       "ssbERI_mean     22.466791\n",
       "ssbCCD_mean     24.590049\n",
       "xcnSCl_mean     26.719757\n",
       "midAre_mean     27.234132\n",
       "ltbIBD_mean     27.444327\n",
       "lcnClo_mean     29.409613\n",
       "mdcAre_mean     29.897695\n",
       "ssbCCo_mean     30.210102\n",
       "ldsCDL_mean     30.374534\n",
       "ldsMSL_mean     30.772876\n",
       "midRea_mean     30.956144\n",
       "sdsLen_mean     30.958412\n",
       "ssbCor_mean     31.955499\n",
       "mtdMDi_mean     32.662702\n",
       "sscERI_mean     35.757456\n",
       "ssbCCM_mean     36.124653\n",
       "sdbPer_mean     40.596348\n",
       "sddAre_mean     46.696371\n",
       "sdsAre_mean     48.305397\n",
       "mibSCo_mean     53.084551\n",
       "mibFR_mean      53.084551\n",
       "ssbSqu_mean     53.581871\n",
       "lcdMes_mean     65.728921\n",
       "mibCou_mean     72.394388\n",
       "libNCo_mean     84.970302\n",
       "sdbAre_mean     92.643839\n",
       "mibLAL_mean    280.851511\n",
       "mibAre_mean    306.004506\n",
       "sisBpM_mean    320.044077\n",
       "sdbCoA_mean    355.081977\n",
       "mibLen_mean    355.881413\n",
       "ldbPWL_mean    360.764357\n",
       "lddNDe_mean    379.731112\n",
       "dtype: float64"
      ]
     },
     "execution_count": 18,
     "metadata": {},
     "output_type": "execute_result"
    }
   ],
   "source": [
    "(desc.loc['max'] - desc.loc['min']).sort_values()"
   ]
  },
  {
   "cell_type": "code",
   "execution_count": 19,
   "id": "cce0ca8d-d729-4f1f-b5c4-38f9d7ef39d2",
   "metadata": {},
   "outputs": [
    {
     "data": {
      "text/plain": [
       "sdbCoA_mean    0.000000\n",
       "libNCo_mean    0.000000\n",
       "mibAre_mean    0.062368\n",
       "mibLen_mean    0.100476\n",
       "ldbPWL_mean    0.111551\n",
       "mibLAL_mean    0.211328\n",
       "mibCou_mean    0.297826\n",
       "sdsAre_mean    0.401666\n",
       "sddAre_mean    0.440355\n",
       "sdbAre_mean    0.453264\n",
       "sdsLen_mean    0.497349\n",
       "ldsCDL_mean    0.516350\n",
       "midAre_mean    0.548614\n",
       "mtdMDi_mean    0.561729\n",
       "sisBpM_mean    0.596350\n",
       "lcnClo_mean    0.605906\n",
       "ldsAre_mean    0.627590\n",
       "mibFR_mean     0.675597\n",
       "mibSCo_mean    0.675597\n",
       "sssLin_mean    0.720413\n",
       "mibERI_mean    0.811583\n",
       "ssbCCD_mean    0.833316\n",
       "sdbPer_mean    0.849867\n",
       "ldsMSL_mean    0.855795\n",
       "midRea_mean    0.891262\n",
       "mtdDeg_mean    0.913696\n",
       "ssbCCM_mean    0.929008\n",
       "ssbSqu_mean    0.950954\n",
       "ssbCor_mean    0.953448\n",
       "ldsRea_mean    1.016581\n",
       "sdcAre_mean    1.029509\n",
       "ssbERI_mean    1.031175\n",
       "lddNDe_mean    1.032259\n",
       "mdcAre_mean    1.040967\n",
       "mibCCo_mean    1.048587\n",
       "mibElo_mean    1.060166\n",
       "sscCCo_mean    1.091310\n",
       "xcnSCl_mean    1.144343\n",
       "ltbIBD_mean    1.148488\n",
       "ssbCCo_mean    1.165607\n",
       "sicCAR_mean    1.167245\n",
       "mtbNDi_mean    1.174776\n",
       "sdsSPW_mean    1.211191\n",
       "linP4W_mean    1.213844\n",
       "stbSAl_mean    1.234654\n",
       "mtbSWR_mean    1.239901\n",
       "ssbElo_mean    1.256854\n",
       "sdcLAL_mean    1.258761\n",
       "ltcWRB_mean    1.259622\n",
       "linP3W_mean    1.274320\n",
       "sdsSWD_mean    1.279871\n",
       "sscERI_mean    1.283099\n",
       "ltcBuA_mean    1.291778\n",
       "linPDE_mean    1.292477\n",
       "lcdMes_mean    1.316932\n",
       "mtcWNe_mean    1.397974\n",
       "mtbAli_mean    1.427095\n",
       "sdsSPO_mean    1.537623\n",
       "linWID_mean    1.547460\n",
       "dtype: float64"
      ]
     },
     "execution_count": 19,
     "metadata": {},
     "output_type": "execute_result"
    }
   ],
   "source": [
    "(desc.loc['75%'] - desc.loc['25%']).sort_values()"
   ]
  },
  {
   "cell_type": "code",
   "execution_count": null,
   "id": "e242b38d-c85e-47b6-aac7-9a824e6d970e",
   "metadata": {},
   "outputs": [],
   "source": []
  },
  {
   "cell_type": "code",
   "execution_count": 17,
   "id": "2e01bea7-be80-41d5-8e50-76eaa1777846",
   "metadata": {},
   "outputs": [
    {
     "data": {
      "text/plain": [
       "(np.float64(8.84110958854128), np.float64(9.913293362707826))"
      ]
     },
     "execution_count": 17,
     "metadata": {},
     "output_type": "execute_result"
    }
   ],
   "source": [
    "x = component_data.loc['69333_849_236'] # karlin offices\n",
    "y = component_data.loc['69333_849_182'] # zelena liska\n",
    "z = component_data.loc['69333_849_486'] # chodov\n",
    "\n",
    "np.sqrt(((x - y)**2).sum()), np.sqrt(((y - z)**2).sum())"
   ]
  },
  {
   "cell_type": "code",
   "execution_count": 18,
   "id": "9509746c-0f1b-4239-bc15-6f2d0baa58e6",
   "metadata": {},
   "outputs": [
    {
     "data": {
      "text/plain": [
       "sdbCoA_mean    4.022492\n",
       "sdcAre_mean    3.984369\n",
       "ssbCor_mean    3.640017\n",
       "mdcAre_mean    2.645649\n",
       "sdcLAL_mean    1.792943\n",
       "sdbAre_mean    1.690348\n",
       "mtbNDi_mean    1.521084\n",
       "ssbCCM_mean    1.482951\n",
       "ssbERI_mean   -1.385401\n",
       "linPDE_mean    1.247006\n",
       "mtdDeg_mean   -1.203678\n",
       "ssbCCD_mean    1.075466\n",
       "mibElo_mean    1.054611\n",
       "linP3W_mean   -0.899570\n",
       "sdbPer_mean    0.887113\n",
       "ssbElo_mean    0.859899\n",
       "mibCCo_mean    0.837118\n",
       "sscERI_mean   -0.773786\n",
       "sicCAR_mean   -0.736595\n",
       "sscCCo_mean    0.624066\n",
       "mibSCo_mean   -0.615479\n",
       "mibFR_mean    -0.615479\n",
       "lcdMes_mean   -0.612787\n",
       "mtbSWR_mean   -0.579919\n",
       "ssbCCo_mean    0.529240\n",
       "dtype: float64"
      ]
     },
     "execution_count": 18,
     "metadata": {},
     "output_type": "execute_result"
    }
   ],
   "source": [
    "(x-y).iloc[(x - y).abs().argsort().values[::-1]].iloc[:25]"
   ]
  },
  {
   "cell_type": "code",
   "execution_count": 19,
   "id": "6cb9e653-b117-4c22-8c6a-8b341528e26d",
   "metadata": {},
   "outputs": [
    {
     "data": {
      "text/plain": [
       "sdbCoA_mean    7.412880\n",
       "ssbSqu_mean    2.069991\n",
       "lcdMes_mean    1.998629\n",
       "sscCCo_mean   -1.836046\n",
       "linPDE_mean   -1.821915\n",
       "mdcAre_mean   -1.720401\n",
       "mtbAli_mean    1.668633\n",
       "ssbERI_mean    1.611204\n",
       "sssLin_mean    1.486647\n",
       "linP3W_mean    1.422661\n",
       "ssbCCM_mean    1.325559\n",
       "sscERI_mean   -1.137118\n",
       "mibCCo_mean   -1.120127\n",
       "ssbCor_mean    1.044433\n",
       "ltcBuA_mean   -1.014777\n",
       "mibElo_mean   -0.955507\n",
       "mtbSWR_mean    0.856398\n",
       "ssbCCo_mean   -0.804218\n",
       "sdbAre_mean    0.795624\n",
       "sdcAre_mean   -0.788661\n",
       "ltbIBD_mean   -0.759279\n",
       "mibFR_mean     0.702737\n",
       "mibSCo_mean    0.702737\n",
       "mibAre_mean    0.627306\n",
       "sdbPer_mean   -0.603346\n",
       "dtype: float64"
      ]
     },
     "execution_count": 19,
     "metadata": {},
     "output_type": "execute_result"
    }
   ],
   "source": [
    "(y - z).iloc[(y - z).abs().argsort().values[::-1]].iloc[:25]"
   ]
  },
  {
   "cell_type": "code",
   "execution_count": 20,
   "id": "8b57c6ce-fde7-41de-b8aa-fd3fb34ed7a1",
   "metadata": {},
   "outputs": [
    {
     "data": {
      "text/plain": [
       "sdbCoA_mean    11.435373\n",
       "ssbCor_mean     4.684450\n",
       "sdcAre_mean     3.195708\n",
       "ssbCCM_mean     2.808510\n",
       "sdbAre_mean     2.485971\n",
       "sscERI_mean    -1.910905\n",
       "ssbSqu_mean     1.868737\n",
       "mtbAli_mean     1.846933\n",
       "sssLin_mean     1.605119\n",
       "lcdMes_mean     1.385842\n",
       "sdcLAL_mean     1.305528\n",
       "sscCCo_mean    -1.211980\n",
       "mtbNDi_mean     1.130538\n",
       "mdcAre_mean     0.925248\n",
       "ssbCCD_mean     0.777969\n",
       "linWID_mean     0.711534\n",
       "mtdDeg_mean    -0.706660\n",
       "ltcBuA_mean    -0.665788\n",
       "linPDE_mean    -0.574909\n",
       "linP3W_mean     0.523091\n",
       "lddNDe_mean     0.488031\n",
       "ssbElo_mean     0.372072\n",
       "sdsSWD_mean     0.335930\n",
       "mibERI_mean    -0.291230\n",
       "stbSAl_mean    -0.287568\n",
       "dtype: float64"
      ]
     },
     "execution_count": 20,
     "metadata": {},
     "output_type": "execute_result"
    }
   ],
   "source": [
    "(x - z).iloc[(x - z).abs().argsort().values[::-1]].iloc[:25]"
   ]
  },
  {
   "cell_type": "code",
   "execution_count": null,
   "id": "c88cae98-5788-412d-ae85-892cbf222bad",
   "metadata": {},
   "outputs": [],
   "source": []
  },
  {
   "cell_type": "code",
   "execution_count": null,
   "id": "093aa7a9-8703-4af9-b85f-bc0ee82676e1",
   "metadata": {},
   "outputs": [],
   "source": []
  },
  {
   "cell_type": "code",
   "execution_count": null,
   "id": "d62c260c-c6e4-4379-ae47-86a0e44585a7",
   "metadata": {},
   "outputs": [],
   "source": []
  },
  {
   "cell_type": "code",
   "execution_count": null,
   "id": "cd3d15c5-3fcf-4a7a-8e82-d73cc859759d",
   "metadata": {},
   "outputs": [],
   "source": []
  },
  {
   "cell_type": "code",
   "execution_count": null,
   "id": "ecc875d6-4a43-432c-a388-78d0c186e25a",
   "metadata": {},
   "outputs": [],
   "source": []
  },
  {
   "cell_type": "code",
   "execution_count": null,
   "id": "f51ef9d1-e81d-4090-aa61-a71b92e0218b",
   "metadata": {},
   "outputs": [],
   "source": []
  },
  {
   "cell_type": "code",
   "execution_count": 36,
   "id": "78aaca68-923e-4060-9c62-c8883d95e3d0",
   "metadata": {},
   "outputs": [],
   "source": [
    "from sklearn.cluster import AgglomerativeClustering"
   ]
  },
  {
   "cell_type": "code",
   "execution_count": 37,
   "id": "56dfc79b-036f-4f11-9579-f37ff6fc6ec7",
   "metadata": {
    "scrolled": true
   },
   "outputs": [
    {
     "name": "stdout",
     "output_type": "stream",
     "text": [
      "CPU times: user 35min 15s, sys: 14.8 s, total: 35min 29s\n",
      "Wall time: 34min 58s\n"
     ]
    }
   ],
   "source": [
    "# %%time\n",
    "# linkage = 'single'\n",
    "# metric = 'euclidean'\n",
    "\n",
    "# from sklearn.cluster import AgglomerativeClustering\n",
    "# from core.cluster_validation import get_linkage_matrix\n",
    "# clusterer = AgglomerativeClustering(linkage=linkage,\n",
    "#                                     metric=metric,\n",
    "#                                     compute_full_tree=True,\n",
    "#                                     compute_distances=True)\n",
    "# model = clusterer.fit(component_data)\n",
    "# linkage_matrix = get_linkage_matrix(model)"
   ]
  },
  {
   "cell_type": "code",
   "execution_count": null,
   "id": "c0512ccb-fa64-4c79-9eda-4b68fc3460b1",
   "metadata": {},
   "outputs": [],
   "source": []
  },
  {
   "cell_type": "code",
   "execution_count": null,
   "id": "9fa9b60e-2b31-4ddd-99fd-517a05b87f78",
   "metadata": {},
   "outputs": [],
   "source": []
  },
  {
   "cell_type": "code",
   "execution_count": null,
   "id": "3ac97895-9221-4dd3-8222-50d988ea105a",
   "metadata": {},
   "outputs": [],
   "source": []
  },
  {
   "cell_type": "code",
   "execution_count": null,
   "id": "f0743f5c-1fef-44d5-954e-5612b48b5cba",
   "metadata": {},
   "outputs": [],
   "source": []
  },
  {
   "cell_type": "code",
   "execution_count": 20,
   "id": "e1f6f3ad-bebd-4031-959b-e066659f615d",
   "metadata": {},
   "outputs": [],
   "source": [
    "from sklearn.neighbors import KDTree\n",
    "sklearn_tree = KDTree(component_data)"
   ]
  },
  {
   "cell_type": "code",
   "execution_count": 21,
   "id": "6fb46540-d374-4889-9afc-bf4a56bd2c8d",
   "metadata": {},
   "outputs": [],
   "source": [
    "### 182 and similar to be split\n",
    "### 69333_849_104 and _12 and their similar to be kept - vinohrady and josefof\n",
    "### 69333_849_235 - karlin/centre stuff\n",
    "### 135 - urban\n",
    "## 69333_849_12, 69333_849_5, 69333_849_103\t - mala strana\n",
    "## 445 strizkov, goign to industrial areas\n",
    "# 205 - cerny most, also looks weird?"
   ]
  },
  {
   "cell_type": "code",
   "execution_count": 22,
   "id": "79e3cb55-01c4-44e4-9538-750db17a531d",
   "metadata": {},
   "outputs": [],
   "source": [
    "dists, indxs = sklearn_tree.query(component_data.loc[['69333_849_205']], k=30)"
   ]
  },
  {
   "cell_type": "code",
   "execution_count": 23,
   "id": "84d7993b-36e7-4c50-b4f1-7d480646b735",
   "metadata": {},
   "outputs": [
    {
     "data": {
      "text/html": [
       "<div>\n",
       "<style scoped>\n",
       "    .dataframe tbody tr th:only-of-type {\n",
       "        vertical-align: middle;\n",
       "    }\n",
       "\n",
       "    .dataframe tbody tr th {\n",
       "        vertical-align: top;\n",
       "    }\n",
       "\n",
       "    .dataframe thead th {\n",
       "        text-align: right;\n",
       "    }\n",
       "</style>\n",
       "<table border=\"1\" class=\"dataframe\">\n",
       "  <thead>\n",
       "    <tr style=\"text-align: right;\">\n",
       "      <th></th>\n",
       "      <th>sdbAre_mean</th>\n",
       "      <th>sdbPer_mean</th>\n",
       "      <th>sdbCoA_mean</th>\n",
       "      <th>ssbCCo_mean</th>\n",
       "      <th>ssbCor_mean</th>\n",
       "      <th>ssbSqu_mean</th>\n",
       "      <th>ssbERI_mean</th>\n",
       "      <th>ssbElo_mean</th>\n",
       "      <th>ssbCCM_mean</th>\n",
       "      <th>ssbCCD_mean</th>\n",
       "      <th>...</th>\n",
       "      <th>sdsAre_mean</th>\n",
       "      <th>mibCou_mean</th>\n",
       "      <th>mibAre_mean</th>\n",
       "      <th>mibLen_mean</th>\n",
       "      <th>mibElo_mean</th>\n",
       "      <th>mibERI_mean</th>\n",
       "      <th>mibCCo_mean</th>\n",
       "      <th>mibLAL_mean</th>\n",
       "      <th>mibFR_mean</th>\n",
       "      <th>mibSCo_mean</th>\n",
       "    </tr>\n",
       "  </thead>\n",
       "  <tbody>\n",
       "    <tr>\n",
       "      <th>69333_849_205</th>\n",
       "      <td>5.473493</td>\n",
       "      <td>7.158442</td>\n",
       "      <td>0.060902</td>\n",
       "      <td>-2.636543</td>\n",
       "      <td>3.150329</td>\n",
       "      <td>1.451710</td>\n",
       "      <td>-3.693732</td>\n",
       "      <td>-1.555467</td>\n",
       "      <td>3.957053</td>\n",
       "      <td>7.836945</td>\n",
       "      <td>...</td>\n",
       "      <td>-0.258790</td>\n",
       "      <td>-0.202677</td>\n",
       "      <td>0.202171</td>\n",
       "      <td>0.211299</td>\n",
       "      <td>-1.540979</td>\n",
       "      <td>-0.320780</td>\n",
       "      <td>-1.302819</td>\n",
       "      <td>0.618793</td>\n",
       "      <td>2.515948</td>\n",
       "      <td>2.515948</td>\n",
       "    </tr>\n",
       "    <tr>\n",
       "      <th>69333_849_407</th>\n",
       "      <td>5.479133</td>\n",
       "      <td>7.307659</td>\n",
       "      <td>0.633278</td>\n",
       "      <td>-4.069985</td>\n",
       "      <td>3.704235</td>\n",
       "      <td>1.341001</td>\n",
       "      <td>-4.679939</td>\n",
       "      <td>-2.517246</td>\n",
       "      <td>4.325452</td>\n",
       "      <td>7.794243</td>\n",
       "      <td>...</td>\n",
       "      <td>-0.231941</td>\n",
       "      <td>-0.328514</td>\n",
       "      <td>0.166906</td>\n",
       "      <td>0.174967</td>\n",
       "      <td>-1.645573</td>\n",
       "      <td>-0.257534</td>\n",
       "      <td>-1.347232</td>\n",
       "      <td>0.514602</td>\n",
       "      <td>2.351919</td>\n",
       "      <td>2.351919</td>\n",
       "    </tr>\n",
       "    <tr>\n",
       "      <th>69333_849_500</th>\n",
       "      <td>5.094342</td>\n",
       "      <td>6.398702</td>\n",
       "      <td>-0.077568</td>\n",
       "      <td>-3.869269</td>\n",
       "      <td>1.907304</td>\n",
       "      <td>0.963641</td>\n",
       "      <td>-2.642896</td>\n",
       "      <td>-2.900423</td>\n",
       "      <td>4.310943</td>\n",
       "      <td>6.287426</td>\n",
       "      <td>...</td>\n",
       "      <td>-0.266577</td>\n",
       "      <td>-0.326830</td>\n",
       "      <td>0.148440</td>\n",
       "      <td>0.117178</td>\n",
       "      <td>-1.855605</td>\n",
       "      <td>0.162771</td>\n",
       "      <td>-1.216309</td>\n",
       "      <td>0.441330</td>\n",
       "      <td>2.577286</td>\n",
       "      <td>2.577286</td>\n",
       "    </tr>\n",
       "    <tr>\n",
       "      <th>69333_849_494</th>\n",
       "      <td>5.240356</td>\n",
       "      <td>6.533155</td>\n",
       "      <td>-0.077568</td>\n",
       "      <td>-3.863560</td>\n",
       "      <td>1.809062</td>\n",
       "      <td>1.175439</td>\n",
       "      <td>-2.723415</td>\n",
       "      <td>-2.579468</td>\n",
       "      <td>4.180078</td>\n",
       "      <td>5.715649</td>\n",
       "      <td>...</td>\n",
       "      <td>-0.329460</td>\n",
       "      <td>-0.306909</td>\n",
       "      <td>0.160258</td>\n",
       "      <td>0.160143</td>\n",
       "      <td>-1.938600</td>\n",
       "      <td>-0.051657</td>\n",
       "      <td>-1.552816</td>\n",
       "      <td>0.518454</td>\n",
       "      <td>2.404776</td>\n",
       "      <td>2.404776</td>\n",
       "    </tr>\n",
       "    <tr>\n",
       "      <th>69333_849_529</th>\n",
       "      <td>4.611802</td>\n",
       "      <td>5.845784</td>\n",
       "      <td>0.259342</td>\n",
       "      <td>-3.014109</td>\n",
       "      <td>2.526627</td>\n",
       "      <td>0.249436</td>\n",
       "      <td>-2.484935</td>\n",
       "      <td>-2.035853</td>\n",
       "      <td>4.102503</td>\n",
       "      <td>5.841360</td>\n",
       "      <td>...</td>\n",
       "      <td>-0.270688</td>\n",
       "      <td>-0.307781</td>\n",
       "      <td>0.141807</td>\n",
       "      <td>0.132686</td>\n",
       "      <td>-1.680429</td>\n",
       "      <td>0.268377</td>\n",
       "      <td>-0.973896</td>\n",
       "      <td>0.467191</td>\n",
       "      <td>2.207608</td>\n",
       "      <td>2.207608</td>\n",
       "    </tr>\n",
       "    <tr>\n",
       "      <th>107131_805_1546</th>\n",
       "      <td>5.512495</td>\n",
       "      <td>5.552455</td>\n",
       "      <td>0.041565</td>\n",
       "      <td>-3.391095</td>\n",
       "      <td>3.924609</td>\n",
       "      <td>1.806352</td>\n",
       "      <td>-2.428042</td>\n",
       "      <td>-2.671003</td>\n",
       "      <td>4.829677</td>\n",
       "      <td>5.526463</td>\n",
       "      <td>...</td>\n",
       "      <td>-0.096212</td>\n",
       "      <td>-0.289117</td>\n",
       "      <td>0.236747</td>\n",
       "      <td>0.158958</td>\n",
       "      <td>-1.285878</td>\n",
       "      <td>-0.049217</td>\n",
       "      <td>-0.809020</td>\n",
       "      <td>0.443057</td>\n",
       "      <td>2.901224</td>\n",
       "      <td>2.901224</td>\n",
       "    </tr>\n",
       "    <tr>\n",
       "      <th>69333_849_476</th>\n",
       "      <td>6.490951</td>\n",
       "      <td>7.408454</td>\n",
       "      <td>-0.077568</td>\n",
       "      <td>-2.495384</td>\n",
       "      <td>5.004612</td>\n",
       "      <td>0.548250</td>\n",
       "      <td>-5.495843</td>\n",
       "      <td>-0.545147</td>\n",
       "      <td>4.332381</td>\n",
       "      <td>7.203789</td>\n",
       "      <td>...</td>\n",
       "      <td>-0.290597</td>\n",
       "      <td>-0.419141</td>\n",
       "      <td>0.163071</td>\n",
       "      <td>0.112730</td>\n",
       "      <td>0.047694</td>\n",
       "      <td>-0.153982</td>\n",
       "      <td>-0.184352</td>\n",
       "      <td>0.344506</td>\n",
       "      <td>2.748395</td>\n",
       "      <td>2.748395</td>\n",
       "    </tr>\n",
       "    <tr>\n",
       "      <th>69333_849_435</th>\n",
       "      <td>6.972943</td>\n",
       "      <td>6.968267</td>\n",
       "      <td>-0.077568</td>\n",
       "      <td>-1.395422</td>\n",
       "      <td>4.761650</td>\n",
       "      <td>0.840071</td>\n",
       "      <td>-3.720645</td>\n",
       "      <td>-1.063086</td>\n",
       "      <td>4.469021</td>\n",
       "      <td>6.675184</td>\n",
       "      <td>...</td>\n",
       "      <td>-0.294483</td>\n",
       "      <td>-0.359732</td>\n",
       "      <td>0.318281</td>\n",
       "      <td>0.238850</td>\n",
       "      <td>-0.361971</td>\n",
       "      <td>-0.257988</td>\n",
       "      <td>-0.096226</td>\n",
       "      <td>0.524948</td>\n",
       "      <td>3.261317</td>\n",
       "      <td>3.261317</td>\n",
       "    </tr>\n",
       "    <tr>\n",
       "      <th>62954_3396_37</th>\n",
       "      <td>5.296473</td>\n",
       "      <td>5.500680</td>\n",
       "      <td>1.127614</td>\n",
       "      <td>-2.850954</td>\n",
       "      <td>4.010513</td>\n",
       "      <td>0.979077</td>\n",
       "      <td>-2.966333</td>\n",
       "      <td>-1.679228</td>\n",
       "      <td>4.531406</td>\n",
       "      <td>5.880923</td>\n",
       "      <td>...</td>\n",
       "      <td>-0.159746</td>\n",
       "      <td>-0.365348</td>\n",
       "      <td>0.145895</td>\n",
       "      <td>0.094317</td>\n",
       "      <td>-1.013203</td>\n",
       "      <td>0.128148</td>\n",
       "      <td>-0.661837</td>\n",
       "      <td>0.323286</td>\n",
       "      <td>1.829296</td>\n",
       "      <td>1.829296</td>\n",
       "    </tr>\n",
       "    <tr>\n",
       "      <th>87615_611_37</th>\n",
       "      <td>7.638028</td>\n",
       "      <td>6.636575</td>\n",
       "      <td>-0.077568</td>\n",
       "      <td>-3.315790</td>\n",
       "      <td>2.711338</td>\n",
       "      <td>0.261873</td>\n",
       "      <td>-3.456758</td>\n",
       "      <td>-1.947123</td>\n",
       "      <td>5.331250</td>\n",
       "      <td>8.539929</td>\n",
       "      <td>...</td>\n",
       "      <td>-0.187604</td>\n",
       "      <td>-0.171957</td>\n",
       "      <td>0.430492</td>\n",
       "      <td>0.351083</td>\n",
       "      <td>-1.241287</td>\n",
       "      <td>-0.687598</td>\n",
       "      <td>-1.351950</td>\n",
       "      <td>0.824996</td>\n",
       "      <td>3.113789</td>\n",
       "      <td>3.113789</td>\n",
       "    </tr>\n",
       "    <tr>\n",
       "      <th>93167_347_12</th>\n",
       "      <td>5.647137</td>\n",
       "      <td>6.602253</td>\n",
       "      <td>-0.077568</td>\n",
       "      <td>-3.186386</td>\n",
       "      <td>3.386553</td>\n",
       "      <td>-0.198124</td>\n",
       "      <td>-0.984093</td>\n",
       "      <td>-2.879749</td>\n",
       "      <td>6.228783</td>\n",
       "      <td>7.673694</td>\n",
       "      <td>...</td>\n",
       "      <td>-0.217934</td>\n",
       "      <td>-0.156003</td>\n",
       "      <td>0.360413</td>\n",
       "      <td>0.438647</td>\n",
       "      <td>-2.745879</td>\n",
       "      <td>-0.619831</td>\n",
       "      <td>-2.231941</td>\n",
       "      <td>1.338180</td>\n",
       "      <td>3.013917</td>\n",
       "      <td>3.013917</td>\n",
       "    </tr>\n",
       "    <tr>\n",
       "      <th>69333_849_210</th>\n",
       "      <td>4.527574</td>\n",
       "      <td>4.992549</td>\n",
       "      <td>-0.033258</td>\n",
       "      <td>-1.647640</td>\n",
       "      <td>3.590308</td>\n",
       "      <td>2.644266</td>\n",
       "      <td>-2.284025</td>\n",
       "      <td>-0.651723</td>\n",
       "      <td>3.814073</td>\n",
       "      <td>5.415235</td>\n",
       "      <td>...</td>\n",
       "      <td>-0.327585</td>\n",
       "      <td>0.081445</td>\n",
       "      <td>0.417538</td>\n",
       "      <td>0.394955</td>\n",
       "      <td>-0.653145</td>\n",
       "      <td>-0.953071</td>\n",
       "      <td>-0.618677</td>\n",
       "      <td>0.669517</td>\n",
       "      <td>3.082255</td>\n",
       "      <td>3.082255</td>\n",
       "    </tr>\n",
       "    <tr>\n",
       "      <th>55763_0_1954</th>\n",
       "      <td>6.232658</td>\n",
       "      <td>7.233509</td>\n",
       "      <td>0.893624</td>\n",
       "      <td>-4.470881</td>\n",
       "      <td>2.811154</td>\n",
       "      <td>1.086182</td>\n",
       "      <td>-3.662202</td>\n",
       "      <td>-3.067685</td>\n",
       "      <td>6.132554</td>\n",
       "      <td>7.317445</td>\n",
       "      <td>...</td>\n",
       "      <td>0.205060</td>\n",
       "      <td>-0.257503</td>\n",
       "      <td>0.366044</td>\n",
       "      <td>0.311838</td>\n",
       "      <td>-1.839665</td>\n",
       "      <td>-0.502712</td>\n",
       "      <td>-1.616005</td>\n",
       "      <td>0.890611</td>\n",
       "      <td>2.502786</td>\n",
       "      <td>2.502786</td>\n",
       "    </tr>\n",
       "    <tr>\n",
       "      <th>68265_1109_150</th>\n",
       "      <td>5.120951</td>\n",
       "      <td>6.189611</td>\n",
       "      <td>0.261394</td>\n",
       "      <td>-4.271678</td>\n",
       "      <td>3.762436</td>\n",
       "      <td>0.362704</td>\n",
       "      <td>-2.648025</td>\n",
       "      <td>-3.140753</td>\n",
       "      <td>5.774949</td>\n",
       "      <td>5.813119</td>\n",
       "      <td>...</td>\n",
       "      <td>-0.156526</td>\n",
       "      <td>-0.368977</td>\n",
       "      <td>0.157851</td>\n",
       "      <td>0.145821</td>\n",
       "      <td>-1.720009</td>\n",
       "      <td>0.007011</td>\n",
       "      <td>-1.268533</td>\n",
       "      <td>0.459570</td>\n",
       "      <td>2.139787</td>\n",
       "      <td>2.139787</td>\n",
       "    </tr>\n",
       "    <tr>\n",
       "      <th>107131_835_84</th>\n",
       "      <td>4.449557</td>\n",
       "      <td>6.157772</td>\n",
       "      <td>0.077344</td>\n",
       "      <td>-4.195291</td>\n",
       "      <td>6.302995</td>\n",
       "      <td>0.237640</td>\n",
       "      <td>-3.974663</td>\n",
       "      <td>-2.577849</td>\n",
       "      <td>5.421545</td>\n",
       "      <td>6.640938</td>\n",
       "      <td>...</td>\n",
       "      <td>-0.189750</td>\n",
       "      <td>-0.293982</td>\n",
       "      <td>0.154159</td>\n",
       "      <td>0.148127</td>\n",
       "      <td>-1.721257</td>\n",
       "      <td>-0.325034</td>\n",
       "      <td>-1.529722</td>\n",
       "      <td>0.492141</td>\n",
       "      <td>1.748663</td>\n",
       "      <td>1.748663</td>\n",
       "    </tr>\n",
       "    <tr>\n",
       "      <th>69333_849_509</th>\n",
       "      <td>5.781263</td>\n",
       "      <td>7.265617</td>\n",
       "      <td>-0.077568</td>\n",
       "      <td>-3.362404</td>\n",
       "      <td>1.159734</td>\n",
       "      <td>-0.135290</td>\n",
       "      <td>-2.514203</td>\n",
       "      <td>-2.302315</td>\n",
       "      <td>4.766591</td>\n",
       "      <td>5.168302</td>\n",
       "      <td>...</td>\n",
       "      <td>-0.022298</td>\n",
       "      <td>-0.338323</td>\n",
       "      <td>0.196429</td>\n",
       "      <td>0.186122</td>\n",
       "      <td>-1.857522</td>\n",
       "      <td>0.122058</td>\n",
       "      <td>-1.281495</td>\n",
       "      <td>0.585207</td>\n",
       "      <td>2.553035</td>\n",
       "      <td>2.553035</td>\n",
       "    </tr>\n",
       "    <tr>\n",
       "      <th>69333_849_190</th>\n",
       "      <td>5.587606</td>\n",
       "      <td>5.996041</td>\n",
       "      <td>-0.075210</td>\n",
       "      <td>-2.512839</td>\n",
       "      <td>3.991947</td>\n",
       "      <td>0.239848</td>\n",
       "      <td>-2.105386</td>\n",
       "      <td>-1.919628</td>\n",
       "      <td>5.037745</td>\n",
       "      <td>5.235557</td>\n",
       "      <td>...</td>\n",
       "      <td>0.245504</td>\n",
       "      <td>-0.350361</td>\n",
       "      <td>0.320715</td>\n",
       "      <td>0.197538</td>\n",
       "      <td>-0.880440</td>\n",
       "      <td>0.125350</td>\n",
       "      <td>-0.471225</td>\n",
       "      <td>0.476232</td>\n",
       "      <td>2.930268</td>\n",
       "      <td>2.930268</td>\n",
       "    </tr>\n",
       "    <tr>\n",
       "      <th>69333_849_498</th>\n",
       "      <td>5.148868</td>\n",
       "      <td>6.683254</td>\n",
       "      <td>0.027678</td>\n",
       "      <td>-4.502146</td>\n",
       "      <td>2.938096</td>\n",
       "      <td>-0.239283</td>\n",
       "      <td>-3.038851</td>\n",
       "      <td>-3.284130</td>\n",
       "      <td>4.182625</td>\n",
       "      <td>7.343729</td>\n",
       "      <td>...</td>\n",
       "      <td>-0.253907</td>\n",
       "      <td>-0.023857</td>\n",
       "      <td>0.254929</td>\n",
       "      <td>0.259311</td>\n",
       "      <td>-2.293948</td>\n",
       "      <td>-0.227660</td>\n",
       "      <td>-1.814356</td>\n",
       "      <td>0.666888</td>\n",
       "      <td>2.493673</td>\n",
       "      <td>2.493673</td>\n",
       "    </tr>\n",
       "    <tr>\n",
       "      <th>90770_255_536</th>\n",
       "      <td>3.775528</td>\n",
       "      <td>5.483413</td>\n",
       "      <td>1.273719</td>\n",
       "      <td>-3.384068</td>\n",
       "      <td>4.869068</td>\n",
       "      <td>1.115082</td>\n",
       "      <td>-2.685948</td>\n",
       "      <td>-2.285606</td>\n",
       "      <td>4.693454</td>\n",
       "      <td>6.853241</td>\n",
       "      <td>...</td>\n",
       "      <td>-0.081296</td>\n",
       "      <td>-0.347146</td>\n",
       "      <td>0.113558</td>\n",
       "      <td>0.119790</td>\n",
       "      <td>-1.381185</td>\n",
       "      <td>0.114523</td>\n",
       "      <td>-0.916781</td>\n",
       "      <td>0.383194</td>\n",
       "      <td>1.748121</td>\n",
       "      <td>1.748121</td>\n",
       "    </tr>\n",
       "    <tr>\n",
       "      <th>69333_849_4</th>\n",
       "      <td>4.401946</td>\n",
       "      <td>5.927267</td>\n",
       "      <td>0.317536</td>\n",
       "      <td>-4.499550</td>\n",
       "      <td>6.244102</td>\n",
       "      <td>2.439943</td>\n",
       "      <td>-4.269403</td>\n",
       "      <td>-2.982078</td>\n",
       "      <td>4.870634</td>\n",
       "      <td>7.151322</td>\n",
       "      <td>...</td>\n",
       "      <td>-0.093841</td>\n",
       "      <td>-0.137071</td>\n",
       "      <td>0.330243</td>\n",
       "      <td>0.338720</td>\n",
       "      <td>-1.909282</td>\n",
       "      <td>-0.814316</td>\n",
       "      <td>-1.902348</td>\n",
       "      <td>0.759847</td>\n",
       "      <td>2.150572</td>\n",
       "      <td>2.150572</td>\n",
       "    </tr>\n",
       "    <tr>\n",
       "      <th>107131_16430_33</th>\n",
       "      <td>5.322016</td>\n",
       "      <td>6.353081</td>\n",
       "      <td>2.129174</td>\n",
       "      <td>-2.764772</td>\n",
       "      <td>6.300596</td>\n",
       "      <td>2.623941</td>\n",
       "      <td>-3.275327</td>\n",
       "      <td>-1.490964</td>\n",
       "      <td>4.964295</td>\n",
       "      <td>6.409134</td>\n",
       "      <td>...</td>\n",
       "      <td>-0.262134</td>\n",
       "      <td>0.046518</td>\n",
       "      <td>0.267507</td>\n",
       "      <td>0.268169</td>\n",
       "      <td>-0.853262</td>\n",
       "      <td>-0.907212</td>\n",
       "      <td>-1.368714</td>\n",
       "      <td>0.638672</td>\n",
       "      <td>2.941931</td>\n",
       "      <td>2.941931</td>\n",
       "    </tr>\n",
       "    <tr>\n",
       "      <th>93793_141_107</th>\n",
       "      <td>4.881561</td>\n",
       "      <td>5.926255</td>\n",
       "      <td>-0.077568</td>\n",
       "      <td>-3.079754</td>\n",
       "      <td>5.427952</td>\n",
       "      <td>-0.069858</td>\n",
       "      <td>-2.503112</td>\n",
       "      <td>-2.442829</td>\n",
       "      <td>5.276740</td>\n",
       "      <td>5.078627</td>\n",
       "      <td>...</td>\n",
       "      <td>0.078222</td>\n",
       "      <td>-0.355768</td>\n",
       "      <td>0.168307</td>\n",
       "      <td>0.123692</td>\n",
       "      <td>-1.219640</td>\n",
       "      <td>0.170058</td>\n",
       "      <td>-0.666335</td>\n",
       "      <td>0.394399</td>\n",
       "      <td>2.728626</td>\n",
       "      <td>2.728626</td>\n",
       "    </tr>\n",
       "    <tr>\n",
       "      <th>107131_805_1539</th>\n",
       "      <td>5.437620</td>\n",
       "      <td>6.073863</td>\n",
       "      <td>-0.077568</td>\n",
       "      <td>-3.349044</td>\n",
       "      <td>4.628869</td>\n",
       "      <td>0.343339</td>\n",
       "      <td>-2.311591</td>\n",
       "      <td>-2.524427</td>\n",
       "      <td>5.627656</td>\n",
       "      <td>5.307126</td>\n",
       "      <td>...</td>\n",
       "      <td>-0.005587</td>\n",
       "      <td>-0.303617</td>\n",
       "      <td>0.279487</td>\n",
       "      <td>0.223862</td>\n",
       "      <td>-1.588630</td>\n",
       "      <td>-0.054948</td>\n",
       "      <td>-1.148940</td>\n",
       "      <td>0.650327</td>\n",
       "      <td>2.994572</td>\n",
       "      <td>2.994572</td>\n",
       "    </tr>\n",
       "    <tr>\n",
       "      <th>69333_849_389</th>\n",
       "      <td>7.215263</td>\n",
       "      <td>7.531877</td>\n",
       "      <td>3.105697</td>\n",
       "      <td>-3.765904</td>\n",
       "      <td>5.822113</td>\n",
       "      <td>1.939565</td>\n",
       "      <td>-4.114190</td>\n",
       "      <td>-2.287944</td>\n",
       "      <td>5.662283</td>\n",
       "      <td>7.378532</td>\n",
       "      <td>...</td>\n",
       "      <td>-0.195310</td>\n",
       "      <td>-0.291607</td>\n",
       "      <td>0.317727</td>\n",
       "      <td>0.295919</td>\n",
       "      <td>-1.454081</td>\n",
       "      <td>-0.411040</td>\n",
       "      <td>-1.353777</td>\n",
       "      <td>0.684779</td>\n",
       "      <td>3.195473</td>\n",
       "      <td>3.195473</td>\n",
       "    </tr>\n",
       "    <tr>\n",
       "      <th>80313_1803_3</th>\n",
       "      <td>4.874269</td>\n",
       "      <td>5.379996</td>\n",
       "      <td>-0.077568</td>\n",
       "      <td>-2.827967</td>\n",
       "      <td>3.671652</td>\n",
       "      <td>0.344536</td>\n",
       "      <td>-3.234772</td>\n",
       "      <td>-1.796071</td>\n",
       "      <td>4.203329</td>\n",
       "      <td>6.616121</td>\n",
       "      <td>...</td>\n",
       "      <td>-0.209102</td>\n",
       "      <td>-0.419141</td>\n",
       "      <td>0.099752</td>\n",
       "      <td>0.055026</td>\n",
       "      <td>-0.910693</td>\n",
       "      <td>0.227157</td>\n",
       "      <td>-0.383790</td>\n",
       "      <td>0.245403</td>\n",
       "      <td>2.034040</td>\n",
       "      <td>2.034040</td>\n",
       "    </tr>\n",
       "    <tr>\n",
       "      <th>104568_4_84</th>\n",
       "      <td>6.299239</td>\n",
       "      <td>5.876467</td>\n",
       "      <td>0.692221</td>\n",
       "      <td>-3.035489</td>\n",
       "      <td>2.303653</td>\n",
       "      <td>-0.027401</td>\n",
       "      <td>-2.148032</td>\n",
       "      <td>-1.851338</td>\n",
       "      <td>5.145395</td>\n",
       "      <td>6.088477</td>\n",
       "      <td>...</td>\n",
       "      <td>-0.292623</td>\n",
       "      <td>-0.190525</td>\n",
       "      <td>0.380229</td>\n",
       "      <td>0.306214</td>\n",
       "      <td>-1.404127</td>\n",
       "      <td>-0.527700</td>\n",
       "      <td>-1.485601</td>\n",
       "      <td>0.727516</td>\n",
       "      <td>2.495653</td>\n",
       "      <td>2.495653</td>\n",
       "    </tr>\n",
       "    <tr>\n",
       "      <th>69333_849_433</th>\n",
       "      <td>4.453684</td>\n",
       "      <td>5.257898</td>\n",
       "      <td>0.871607</td>\n",
       "      <td>-1.325910</td>\n",
       "      <td>4.071954</td>\n",
       "      <td>1.883053</td>\n",
       "      <td>-2.910552</td>\n",
       "      <td>-0.561200</td>\n",
       "      <td>3.011821</td>\n",
       "      <td>5.158589</td>\n",
       "      <td>...</td>\n",
       "      <td>-0.337406</td>\n",
       "      <td>-0.236832</td>\n",
       "      <td>0.129199</td>\n",
       "      <td>0.116760</td>\n",
       "      <td>-0.401390</td>\n",
       "      <td>-0.026282</td>\n",
       "      <td>-0.266518</td>\n",
       "      <td>0.312009</td>\n",
       "      <td>1.873867</td>\n",
       "      <td>1.873867</td>\n",
       "    </tr>\n",
       "    <tr>\n",
       "      <th>107131_16237_381</th>\n",
       "      <td>5.221999</td>\n",
       "      <td>5.341531</td>\n",
       "      <td>-0.077568</td>\n",
       "      <td>-1.048383</td>\n",
       "      <td>3.221784</td>\n",
       "      <td>1.426650</td>\n",
       "      <td>-2.133471</td>\n",
       "      <td>-0.521172</td>\n",
       "      <td>4.523626</td>\n",
       "      <td>4.959413</td>\n",
       "      <td>...</td>\n",
       "      <td>-0.170483</td>\n",
       "      <td>-0.371938</td>\n",
       "      <td>0.170651</td>\n",
       "      <td>0.105592</td>\n",
       "      <td>-0.129841</td>\n",
       "      <td>0.147542</td>\n",
       "      <td>0.068261</td>\n",
       "      <td>0.322817</td>\n",
       "      <td>2.670215</td>\n",
       "      <td>2.670215</td>\n",
       "    </tr>\n",
       "    <tr>\n",
       "      <th>69333_849_434</th>\n",
       "      <td>4.542236</td>\n",
       "      <td>6.738898</td>\n",
       "      <td>-0.077568</td>\n",
       "      <td>-2.825175</td>\n",
       "      <td>1.910798</td>\n",
       "      <td>0.130901</td>\n",
       "      <td>-4.545819</td>\n",
       "      <td>-1.069298</td>\n",
       "      <td>3.450130</td>\n",
       "      <td>5.287533</td>\n",
       "      <td>...</td>\n",
       "      <td>-0.196231</td>\n",
       "      <td>-0.358113</td>\n",
       "      <td>0.101352</td>\n",
       "      <td>0.117067</td>\n",
       "      <td>-0.168509</td>\n",
       "      <td>-0.141443</td>\n",
       "      <td>-0.405333</td>\n",
       "      <td>0.358469</td>\n",
       "      <td>1.981488</td>\n",
       "      <td>1.981488</td>\n",
       "    </tr>\n",
       "    <tr>\n",
       "      <th>61183_39_130</th>\n",
       "      <td>5.061419</td>\n",
       "      <td>4.733537</td>\n",
       "      <td>-0.077568</td>\n",
       "      <td>-2.748171</td>\n",
       "      <td>3.039382</td>\n",
       "      <td>0.447690</td>\n",
       "      <td>-0.495382</td>\n",
       "      <td>-3.070882</td>\n",
       "      <td>4.271230</td>\n",
       "      <td>5.740610</td>\n",
       "      <td>...</td>\n",
       "      <td>-0.208474</td>\n",
       "      <td>-0.052815</td>\n",
       "      <td>0.377877</td>\n",
       "      <td>0.430774</td>\n",
       "      <td>-2.166519</td>\n",
       "      <td>-0.789261</td>\n",
       "      <td>-2.029211</td>\n",
       "      <td>1.167156</td>\n",
       "      <td>2.557724</td>\n",
       "      <td>2.557724</td>\n",
       "    </tr>\n",
       "  </tbody>\n",
       "</table>\n",
       "<p>30 rows × 59 columns</p>\n",
       "</div>"
      ],
      "text/plain": [
       "                  sdbAre_mean  sdbPer_mean  sdbCoA_mean  ssbCCo_mean  \\\n",
       "69333_849_205        5.473493     7.158442     0.060902    -2.636543   \n",
       "69333_849_407        5.479133     7.307659     0.633278    -4.069985   \n",
       "69333_849_500        5.094342     6.398702    -0.077568    -3.869269   \n",
       "69333_849_494        5.240356     6.533155    -0.077568    -3.863560   \n",
       "69333_849_529        4.611802     5.845784     0.259342    -3.014109   \n",
       "107131_805_1546      5.512495     5.552455     0.041565    -3.391095   \n",
       "69333_849_476        6.490951     7.408454    -0.077568    -2.495384   \n",
       "69333_849_435        6.972943     6.968267    -0.077568    -1.395422   \n",
       "62954_3396_37        5.296473     5.500680     1.127614    -2.850954   \n",
       "87615_611_37         7.638028     6.636575    -0.077568    -3.315790   \n",
       "93167_347_12         5.647137     6.602253    -0.077568    -3.186386   \n",
       "69333_849_210        4.527574     4.992549    -0.033258    -1.647640   \n",
       "55763_0_1954         6.232658     7.233509     0.893624    -4.470881   \n",
       "68265_1109_150       5.120951     6.189611     0.261394    -4.271678   \n",
       "107131_835_84        4.449557     6.157772     0.077344    -4.195291   \n",
       "69333_849_509        5.781263     7.265617    -0.077568    -3.362404   \n",
       "69333_849_190        5.587606     5.996041    -0.075210    -2.512839   \n",
       "69333_849_498        5.148868     6.683254     0.027678    -4.502146   \n",
       "90770_255_536        3.775528     5.483413     1.273719    -3.384068   \n",
       "69333_849_4          4.401946     5.927267     0.317536    -4.499550   \n",
       "107131_16430_33      5.322016     6.353081     2.129174    -2.764772   \n",
       "93793_141_107        4.881561     5.926255    -0.077568    -3.079754   \n",
       "107131_805_1539      5.437620     6.073863    -0.077568    -3.349044   \n",
       "69333_849_389        7.215263     7.531877     3.105697    -3.765904   \n",
       "80313_1803_3         4.874269     5.379996    -0.077568    -2.827967   \n",
       "104568_4_84          6.299239     5.876467     0.692221    -3.035489   \n",
       "69333_849_433        4.453684     5.257898     0.871607    -1.325910   \n",
       "107131_16237_381     5.221999     5.341531    -0.077568    -1.048383   \n",
       "69333_849_434        4.542236     6.738898    -0.077568    -2.825175   \n",
       "61183_39_130         5.061419     4.733537    -0.077568    -2.748171   \n",
       "\n",
       "                  ssbCor_mean  ssbSqu_mean  ssbERI_mean  ssbElo_mean  \\\n",
       "69333_849_205        3.150329     1.451710    -3.693732    -1.555467   \n",
       "69333_849_407        3.704235     1.341001    -4.679939    -2.517246   \n",
       "69333_849_500        1.907304     0.963641    -2.642896    -2.900423   \n",
       "69333_849_494        1.809062     1.175439    -2.723415    -2.579468   \n",
       "69333_849_529        2.526627     0.249436    -2.484935    -2.035853   \n",
       "107131_805_1546      3.924609     1.806352    -2.428042    -2.671003   \n",
       "69333_849_476        5.004612     0.548250    -5.495843    -0.545147   \n",
       "69333_849_435        4.761650     0.840071    -3.720645    -1.063086   \n",
       "62954_3396_37        4.010513     0.979077    -2.966333    -1.679228   \n",
       "87615_611_37         2.711338     0.261873    -3.456758    -1.947123   \n",
       "93167_347_12         3.386553    -0.198124    -0.984093    -2.879749   \n",
       "69333_849_210        3.590308     2.644266    -2.284025    -0.651723   \n",
       "55763_0_1954         2.811154     1.086182    -3.662202    -3.067685   \n",
       "68265_1109_150       3.762436     0.362704    -2.648025    -3.140753   \n",
       "107131_835_84        6.302995     0.237640    -3.974663    -2.577849   \n",
       "69333_849_509        1.159734    -0.135290    -2.514203    -2.302315   \n",
       "69333_849_190        3.991947     0.239848    -2.105386    -1.919628   \n",
       "69333_849_498        2.938096    -0.239283    -3.038851    -3.284130   \n",
       "90770_255_536        4.869068     1.115082    -2.685948    -2.285606   \n",
       "69333_849_4          6.244102     2.439943    -4.269403    -2.982078   \n",
       "107131_16430_33      6.300596     2.623941    -3.275327    -1.490964   \n",
       "93793_141_107        5.427952    -0.069858    -2.503112    -2.442829   \n",
       "107131_805_1539      4.628869     0.343339    -2.311591    -2.524427   \n",
       "69333_849_389        5.822113     1.939565    -4.114190    -2.287944   \n",
       "80313_1803_3         3.671652     0.344536    -3.234772    -1.796071   \n",
       "104568_4_84          2.303653    -0.027401    -2.148032    -1.851338   \n",
       "69333_849_433        4.071954     1.883053    -2.910552    -0.561200   \n",
       "107131_16237_381     3.221784     1.426650    -2.133471    -0.521172   \n",
       "69333_849_434        1.910798     0.130901    -4.545819    -1.069298   \n",
       "61183_39_130         3.039382     0.447690    -0.495382    -3.070882   \n",
       "\n",
       "                  ssbCCM_mean  ssbCCD_mean  ...  sdsAre_mean  mibCou_mean  \\\n",
       "69333_849_205        3.957053     7.836945  ...    -0.258790    -0.202677   \n",
       "69333_849_407        4.325452     7.794243  ...    -0.231941    -0.328514   \n",
       "69333_849_500        4.310943     6.287426  ...    -0.266577    -0.326830   \n",
       "69333_849_494        4.180078     5.715649  ...    -0.329460    -0.306909   \n",
       "69333_849_529        4.102503     5.841360  ...    -0.270688    -0.307781   \n",
       "107131_805_1546      4.829677     5.526463  ...    -0.096212    -0.289117   \n",
       "69333_849_476        4.332381     7.203789  ...    -0.290597    -0.419141   \n",
       "69333_849_435        4.469021     6.675184  ...    -0.294483    -0.359732   \n",
       "62954_3396_37        4.531406     5.880923  ...    -0.159746    -0.365348   \n",
       "87615_611_37         5.331250     8.539929  ...    -0.187604    -0.171957   \n",
       "93167_347_12         6.228783     7.673694  ...    -0.217934    -0.156003   \n",
       "69333_849_210        3.814073     5.415235  ...    -0.327585     0.081445   \n",
       "55763_0_1954         6.132554     7.317445  ...     0.205060    -0.257503   \n",
       "68265_1109_150       5.774949     5.813119  ...    -0.156526    -0.368977   \n",
       "107131_835_84        5.421545     6.640938  ...    -0.189750    -0.293982   \n",
       "69333_849_509        4.766591     5.168302  ...    -0.022298    -0.338323   \n",
       "69333_849_190        5.037745     5.235557  ...     0.245504    -0.350361   \n",
       "69333_849_498        4.182625     7.343729  ...    -0.253907    -0.023857   \n",
       "90770_255_536        4.693454     6.853241  ...    -0.081296    -0.347146   \n",
       "69333_849_4          4.870634     7.151322  ...    -0.093841    -0.137071   \n",
       "107131_16430_33      4.964295     6.409134  ...    -0.262134     0.046518   \n",
       "93793_141_107        5.276740     5.078627  ...     0.078222    -0.355768   \n",
       "107131_805_1539      5.627656     5.307126  ...    -0.005587    -0.303617   \n",
       "69333_849_389        5.662283     7.378532  ...    -0.195310    -0.291607   \n",
       "80313_1803_3         4.203329     6.616121  ...    -0.209102    -0.419141   \n",
       "104568_4_84          5.145395     6.088477  ...    -0.292623    -0.190525   \n",
       "69333_849_433        3.011821     5.158589  ...    -0.337406    -0.236832   \n",
       "107131_16237_381     4.523626     4.959413  ...    -0.170483    -0.371938   \n",
       "69333_849_434        3.450130     5.287533  ...    -0.196231    -0.358113   \n",
       "61183_39_130         4.271230     5.740610  ...    -0.208474    -0.052815   \n",
       "\n",
       "                  mibAre_mean  mibLen_mean  mibElo_mean  mibERI_mean  \\\n",
       "69333_849_205        0.202171     0.211299    -1.540979    -0.320780   \n",
       "69333_849_407        0.166906     0.174967    -1.645573    -0.257534   \n",
       "69333_849_500        0.148440     0.117178    -1.855605     0.162771   \n",
       "69333_849_494        0.160258     0.160143    -1.938600    -0.051657   \n",
       "69333_849_529        0.141807     0.132686    -1.680429     0.268377   \n",
       "107131_805_1546      0.236747     0.158958    -1.285878    -0.049217   \n",
       "69333_849_476        0.163071     0.112730     0.047694    -0.153982   \n",
       "69333_849_435        0.318281     0.238850    -0.361971    -0.257988   \n",
       "62954_3396_37        0.145895     0.094317    -1.013203     0.128148   \n",
       "87615_611_37         0.430492     0.351083    -1.241287    -0.687598   \n",
       "93167_347_12         0.360413     0.438647    -2.745879    -0.619831   \n",
       "69333_849_210        0.417538     0.394955    -0.653145    -0.953071   \n",
       "55763_0_1954         0.366044     0.311838    -1.839665    -0.502712   \n",
       "68265_1109_150       0.157851     0.145821    -1.720009     0.007011   \n",
       "107131_835_84        0.154159     0.148127    -1.721257    -0.325034   \n",
       "69333_849_509        0.196429     0.186122    -1.857522     0.122058   \n",
       "69333_849_190        0.320715     0.197538    -0.880440     0.125350   \n",
       "69333_849_498        0.254929     0.259311    -2.293948    -0.227660   \n",
       "90770_255_536        0.113558     0.119790    -1.381185     0.114523   \n",
       "69333_849_4          0.330243     0.338720    -1.909282    -0.814316   \n",
       "107131_16430_33      0.267507     0.268169    -0.853262    -0.907212   \n",
       "93793_141_107        0.168307     0.123692    -1.219640     0.170058   \n",
       "107131_805_1539      0.279487     0.223862    -1.588630    -0.054948   \n",
       "69333_849_389        0.317727     0.295919    -1.454081    -0.411040   \n",
       "80313_1803_3         0.099752     0.055026    -0.910693     0.227157   \n",
       "104568_4_84          0.380229     0.306214    -1.404127    -0.527700   \n",
       "69333_849_433        0.129199     0.116760    -0.401390    -0.026282   \n",
       "107131_16237_381     0.170651     0.105592    -0.129841     0.147542   \n",
       "69333_849_434        0.101352     0.117067    -0.168509    -0.141443   \n",
       "61183_39_130         0.377877     0.430774    -2.166519    -0.789261   \n",
       "\n",
       "                  mibCCo_mean  mibLAL_mean  mibFR_mean  mibSCo_mean  \n",
       "69333_849_205       -1.302819     0.618793    2.515948     2.515948  \n",
       "69333_849_407       -1.347232     0.514602    2.351919     2.351919  \n",
       "69333_849_500       -1.216309     0.441330    2.577286     2.577286  \n",
       "69333_849_494       -1.552816     0.518454    2.404776     2.404776  \n",
       "69333_849_529       -0.973896     0.467191    2.207608     2.207608  \n",
       "107131_805_1546     -0.809020     0.443057    2.901224     2.901224  \n",
       "69333_849_476       -0.184352     0.344506    2.748395     2.748395  \n",
       "69333_849_435       -0.096226     0.524948    3.261317     3.261317  \n",
       "62954_3396_37       -0.661837     0.323286    1.829296     1.829296  \n",
       "87615_611_37        -1.351950     0.824996    3.113789     3.113789  \n",
       "93167_347_12        -2.231941     1.338180    3.013917     3.013917  \n",
       "69333_849_210       -0.618677     0.669517    3.082255     3.082255  \n",
       "55763_0_1954        -1.616005     0.890611    2.502786     2.502786  \n",
       "68265_1109_150      -1.268533     0.459570    2.139787     2.139787  \n",
       "107131_835_84       -1.529722     0.492141    1.748663     1.748663  \n",
       "69333_849_509       -1.281495     0.585207    2.553035     2.553035  \n",
       "69333_849_190       -0.471225     0.476232    2.930268     2.930268  \n",
       "69333_849_498       -1.814356     0.666888    2.493673     2.493673  \n",
       "90770_255_536       -0.916781     0.383194    1.748121     1.748121  \n",
       "69333_849_4         -1.902348     0.759847    2.150572     2.150572  \n",
       "107131_16430_33     -1.368714     0.638672    2.941931     2.941931  \n",
       "93793_141_107       -0.666335     0.394399    2.728626     2.728626  \n",
       "107131_805_1539     -1.148940     0.650327    2.994572     2.994572  \n",
       "69333_849_389       -1.353777     0.684779    3.195473     3.195473  \n",
       "80313_1803_3        -0.383790     0.245403    2.034040     2.034040  \n",
       "104568_4_84         -1.485601     0.727516    2.495653     2.495653  \n",
       "69333_849_433       -0.266518     0.312009    1.873867     1.873867  \n",
       "107131_16237_381     0.068261     0.322817    2.670215     2.670215  \n",
       "69333_849_434       -0.405333     0.358469    1.981488     1.981488  \n",
       "61183_39_130        -2.029211     1.167156    2.557724     2.557724  \n",
       "\n",
       "[30 rows x 59 columns]"
      ]
     },
     "execution_count": 23,
     "metadata": {},
     "output_type": "execute_result"
    }
   ],
   "source": [
    "component_data.iloc[indxs[0]]"
   ]
  },
  {
   "cell_type": "code",
   "execution_count": 24,
   "id": "f80dd8d8-5515-47f2-bc48-5258d2855365",
   "metadata": {},
   "outputs": [],
   "source": [
    "region_id = 69333\n",
    "\n",
    "\n",
    "etcs = gpd.read_parquet(f'/data/uscuni-ulce/processed_data/tessellations/tessellation_{region_id}.parquet')\n",
    "etcs['morph'] = \"-1\"\n",
    "\n",
    "morphotopes = pd.read_parquet(f'/data/uscuni-ulce/processed_data/morphotopes/tessellation_labels_morphotopes_{region_id}{model_params}.pq')\n",
    "morphotopes.loc[:, 'morphotope_label'] =  morphotopes.values[:, 0]\n",
    "etcs.loc[morphotopes.index, 'morph'] = morphotopes.values"
   ]
  },
  {
   "cell_type": "code",
   "execution_count": 40,
   "id": "ef8781ec-b288-4c9c-92f6-f55ec1d18a37",
   "metadata": {},
   "outputs": [],
   "source": [
    "# etcs[etcs.morph == '849_407'].explore()"
   ]
  },
  {
   "cell_type": "code",
   "execution_count": 62,
   "id": "6fa52c6e-87f9-44fb-8b97-05a387a2e311",
   "metadata": {},
   "outputs": [],
   "source": []
  },
  {
   "cell_type": "code",
   "execution_count": null,
   "id": "df55cb0f-f692-4c5e-81d7-6238a72c48e4",
   "metadata": {},
   "outputs": [],
   "source": []
  },
  {
   "cell_type": "code",
   "execution_count": 30,
   "id": "183cd8f9-c4be-453b-9aee-bc87feb6c615",
   "metadata": {},
   "outputs": [],
   "source": [
    "from core.generate_clusters import preprocess_clustering_data,get_clusters,get_tree"
   ]
  },
  {
   "cell_type": "code",
   "execution_count": null,
   "id": "f634bbaa-8a0a-407c-ace7-f68ebfabf714",
   "metadata": {},
   "outputs": [],
   "source": []
  },
  {
   "cell_type": "code",
   "execution_count": 31,
   "id": "2068f122-6f7e-40d0-ba46-2ccd3e0d261c",
   "metadata": {},
   "outputs": [],
   "source": [
    "from libpysal.graph import read_parquet\n",
    "from sklearn.cluster import AgglomerativeClustering\n",
    "from scipy.cluster.hierarchy import fcluster\n",
    "graph_dir = \"/data/uscuni-ulce/processed_data/neigh_graphs/\"\n",
    "graph = read_parquet(graph_dir + f\"tessellation_graph_{region_id}.parquet\")\n",
    "chars_dir = \"/data/uscuni-ulce/processed_data/chars/\"\n",
    "X_train = pd.read_parquet(chars_dir + f'primary_chars_{region_id}.parquet')\n",
    "\n",
    "\n",
    "min_cluster_size = 100\n",
    "clip=None\n",
    "eom_clusters = False\n",
    "linkage='ward'\n",
    "metric='euclidean'"
   ]
  },
  {
   "cell_type": "code",
   "execution_count": 32,
   "id": "2b0b9116-49e5-48b2-8d73-a9bf53b9af8b",
   "metadata": {},
   "outputs": [],
   "source": [
    "# label building input data, could work with empty tess as well\n",
    "building_graph = graph.subgraph(graph.unique_ids[graph.unique_ids >= 0])\n",
    "labels = building_graph.component_labels"
   ]
  },
  {
   "cell_type": "code",
   "execution_count": 33,
   "id": "0c5410c8-391a-4817-9352-00a071d90680",
   "metadata": {},
   "outputs": [],
   "source": [
    "def post_process_clusters_tightening(group, min_cluster_size, t=7):\n",
    "    '''Drop cluster parts that are ``t`` standard deviations away from every part of the morphotope'''\n",
    "    \n",
    "    if group.name == -1: return pd.Series(np.full(group.shape[0], -1), group.index)\n",
    "\n",
    "    clusterer = AgglomerativeClustering(linkage='single',\n",
    "                                    metric='euclidean',\n",
    "                                    compute_full_tree=True,\n",
    "                                    compute_distances=True)\n",
    "    model = clusterer.fit(group.values)\n",
    "    linkage_matrix = get_linkage_matrix(model)\n",
    "    clusters = fcluster(linkage_matrix, t=7, criterion='distance')\n",
    "    \n",
    "    chars_clusters = pd.Series(clusters).value_counts()\n",
    "    chars_clusters[chars_clusters < min_cluster_size] = -1\n",
    "    chars_clusters[chars_clusters >= min_cluster_size] = group.name\n",
    "    clusters = pd.Series(clusters).map(lambda x: chars_clusters.loc[x]).values\n",
    "    return pd.Series(clusters, group.index)"
   ]
  },
  {
   "cell_type": "code",
   "execution_count": null,
   "id": "aa99e2e0-e2e2-47f8-9376-551f6b12ca33",
   "metadata": {},
   "outputs": [],
   "source": []
  },
  {
   "cell_type": "code",
   "execution_count": 34,
   "id": "e4bffe95-edae-4877-b2c4-b6e6a5311747",
   "metadata": {},
   "outputs": [
    {
     "name": "stdout",
     "output_type": "stream",
     "text": [
      "CPU times: user 47.6 s, sys: 152 ms, total: 47.7 s\n",
      "Wall time: 47.7 s\n"
     ]
    }
   ],
   "source": [
    "%%time\n",
    "results = {}\n",
    "\n",
    "for label, group in labels.groupby(labels):\n",
    "\n",
    "    if group.shape[0] <= min_cluster_size:\n",
    "        component_clusters = np.full(group.shape[0], -1)\n",
    "\n",
    "    else:\n",
    "        component_buildings_data = preprocess_clustering_data(X_train.loc[group.index.values], clip=clip, to_drop=to_drop)\n",
    "        component_graph = building_graph.subgraph(group.index.values)\n",
    "        ward_tree = get_tree(component_buildings_data, component_graph.transform('B').sparse, linkage, metric)\n",
    "\n",
    "        # # sometimes ward linkage breaks the monotonic increase in the MST\n",
    "        # # if that happens shift all distances by the max drop\n",
    "        # # need a loop because several connections might be problematic\n",
    "        problem_idxs = np.where(ward_tree[1:, 2] < ward_tree[0:-1, 2])[0]\n",
    "        while problem_idxs.shape[0]:\n",
    "            ward_tree[problem_idxs + 1, 2] = ward_tree[problem_idxs, 2] + .01\n",
    "            problem_idxs = np.where(ward_tree[1:, 2] < ward_tree[0:-1, 2])[0]\n",
    "        # check if ward tree distances are always increasing\n",
    "        assert (ward_tree[1:, 2] >= ward_tree[0:-1, 2]).all()\n",
    "        \n",
    "        component_clusters = get_clusters(ward_tree, min_cluster_size, component_buildings_data.shape[0], eom_clusters=eom_clusters)\n",
    "            \n",
    "       ## post process\n",
    "        res = component_buildings_data.groupby(component_clusters).apply(post_process_clusters, min_cluster_size=min_cluster_size)\n",
    "        if res.shape[0] == 1:\n",
    "            component_clusters = pd.Series(res.values[0], res.columns)\n",
    "        else:\n",
    "            component_clusters = pd.Series(res.values, res.index.get_level_values(1)).loc[component_buildings_data.index].values\n",
    "        \n",
    "        # for c in np.unique(component_clusters):\n",
    "        #     # if c == -1: continue\n",
    "        #     cluster_graph = component_graph.subgraph(group.index[component_clusters == c].values)\n",
    "        #     assert cluster_graph.n_components == 1\n",
    "    \n",
    "    results[label] = component_clusters\n",
    "\n",
    "### relabel local clusters(0,1,2,0,1) to regional clusters(0_0,0_1,0_2, 0_0,0_1,) etc\n",
    "label_groups = labels.groupby(labels)\n",
    "region_cluster_labels = []\n",
    "for label, component_clusters in results.items():\n",
    "    group = label_groups.get_group(label)\n",
    "    component_labels = str(label) + '_' + pd.Series(component_clusters.astype(str), \n",
    "                                                    index=group.index.values)\n",
    "    region_cluster_labels.append(component_labels)\n",
    "\n",
    "region_cluster_labels = pd.concat(region_cluster_labels).sort_index()\n",
    "assert (X_train[X_train.index >= 0].index == region_cluster_labels.index).all()"
   ]
  },
  {
   "cell_type": "code",
   "execution_count": 35,
   "id": "9287ebb7-c8a9-4723-bba8-be47b58cfec1",
   "metadata": {
    "scrolled": true
   },
   "outputs": [
    {
     "data": {
      "text/plain": [
       "0            0_-1\n",
       "1            1_-1\n",
       "2            1_-1\n",
       "3            1_-1\n",
       "4            1_-1\n",
       "           ...   \n",
       "447721    849_527\n",
       "447722    849_509\n",
       "447723    1355_-1\n",
       "447724    849_205\n",
       "447725    849_407\n",
       "Length: 447726, dtype: object"
      ]
     },
     "execution_count": 35,
     "metadata": {},
     "output_type": "execute_result"
    }
   ],
   "source": [
    "region_cluster_labels"
   ]
  },
  {
   "cell_type": "code",
   "execution_count": null,
   "id": "fa74c205-aedf-4141-b2d0-ca92b440bcf1",
   "metadata": {},
   "outputs": [],
   "source": []
  },
  {
   "cell_type": "code",
   "execution_count": null,
   "id": "d042fa29-640e-46ea-81ef-20bf5d941f28",
   "metadata": {},
   "outputs": [],
   "source": []
  },
  {
   "cell_type": "code",
   "execution_count": null,
   "id": "af409d4e-638b-4391-8de3-6b5725d26b1e",
   "metadata": {},
   "outputs": [],
   "source": []
  },
  {
   "cell_type": "code",
   "execution_count": 128,
   "id": "1abbfddc-0a45-49d9-a6f7-68625c61030a",
   "metadata": {},
   "outputs": [],
   "source": [
    "spatial_lag = 3\n",
    "kernel='gaussian'\n",
    "lag_type = '_'\n",
    "lag_dir = '/data/uscuni-ulce/processed_data/lag/'"
   ]
  },
  {
   "cell_type": "code",
   "execution_count": 130,
   "id": "f8a1df54-60b4-43b2-b1a8-08584a3ab1f8",
   "metadata": {},
   "outputs": [],
   "source": [
    "lag_data = pd.read_parquet(f'{lag_dir}{region_id}_{kernel}_lag_{spatial_lag}.parquet')"
   ]
  },
  {
   "cell_type": "code",
   "execution_count": 132,
   "id": "b8822d58-d9f1-4349-8b7f-9cf0cc0f07e4",
   "metadata": {},
   "outputs": [],
   "source": [
    "lag_data = lag_data.loc[region_cluster_labels.index]"
   ]
  },
  {
   "cell_type": "code",
   "execution_count": 138,
   "id": "c7a06b14-11e8-4d33-9fa4-ebdc34cb31e4",
   "metadata": {},
   "outputs": [],
   "source": [
    "clustering_data = lag_data.groupby(region_cluster_labels).agg('median')"
   ]
  },
  {
   "cell_type": "code",
   "execution_count": 139,
   "id": "a39572e6-2d07-4667-97c3-7debdd5df1d9",
   "metadata": {},
   "outputs": [],
   "source": [
    "component_data_index = clustering_data.index\n",
    "component_data = clustering_data.reset_index(drop=True)\n",
    "\n",
    "component_data.columns =  ['_'.join(col).strip() for col in component_data.columns.values]\n",
    "component_data = preprocess_clustering_data(component_data, clip, to_drop)\n",
    "component_data = component_data.set_index(component_data_index)"
   ]
  },
  {
   "cell_type": "code",
   "execution_count": null,
   "id": "4f695a04-b20d-4c1a-9b20-7eab134af0b3",
   "metadata": {},
   "outputs": [],
   "source": []
  },
  {
   "cell_type": "code",
   "execution_count": 159,
   "id": "2f470c16-a6af-42ab-9719-deb9893855b2",
   "metadata": {},
   "outputs": [
    {
     "name": "stdout",
     "output_type": "stream",
     "text": [
      "CPU times: user 2.35 s, sys: 5.64 ms, total: 2.35 s\n",
      "Wall time: 123 ms\n"
     ]
    }
   ],
   "source": [
    "%%time\n",
    "\n",
    "## k-256, mean and std split the big blocks into at least 2 clusters...\n",
    "from sklearn.cluster import KMeans, MiniBatchKMeans\n",
    "kmeans_clusterer = KMeans(n_clusters=64, max_iter=500, random_state=123)\n",
    "kmeans_clusters = kmeans_clusterer.fit(component_data).labels_"
   ]
  },
  {
   "cell_type": "code",
   "execution_count": null,
   "id": "bc0a9e6d-ad4b-42ac-b4ab-af32d5336922",
   "metadata": {},
   "outputs": [],
   "source": []
  },
  {
   "cell_type": "code",
   "execution_count": 160,
   "id": "554ef398-59ff-408d-b8a6-735cc4345037",
   "metadata": {},
   "outputs": [],
   "source": [
    "\n",
    "linkage = 'ward'\n",
    "metric = 'euclidean'\n",
    "sklearn_linkage_structure = namedtuple('Model', ['children_', 'labels_', 'distances_'])\n",
    "\n",
    "\n",
    "from sklearn.cluster import AgglomerativeClustering\n",
    "from core.cluster_validation import get_linkage_matrix\n",
    "clusterer = AgglomerativeClustering(linkage=linkage,\n",
    "                                    metric=metric,\n",
    "                                    compute_full_tree=True,\n",
    "                                    compute_distances=True)\n",
    "model = clusterer.fit(kmeans_clusterer.cluster_centers_)\n",
    "linkage_matrix = get_linkage_matrix(model)"
   ]
  },
  {
   "cell_type": "code",
   "execution_count": null,
   "id": "5911e9b5-ac74-4318-8822-8a98e10ebe88",
   "metadata": {},
   "outputs": [],
   "source": []
  },
  {
   "cell_type": "code",
   "execution_count": null,
   "id": "8db9401b-230d-42f1-bbf2-409b0380414a",
   "metadata": {},
   "outputs": [],
   "source": []
  },
  {
   "cell_type": "code",
   "execution_count": null,
   "id": "51806f44-d643-473a-abc0-da35e07b2f20",
   "metadata": {},
   "outputs": [],
   "source": []
  },
  {
   "cell_type": "code",
   "execution_count": null,
   "id": "e5e69ecd-fd1b-4f35-bf0e-495a2b5f51a1",
   "metadata": {},
   "outputs": [],
   "source": []
  },
  {
   "cell_type": "code",
   "execution_count": 161,
   "id": "56e7400b-d62b-48a2-b708-c6659f8da004",
   "metadata": {
    "scrolled": true
   },
   "outputs": [
    {
     "data": {
      "image/png": "[encoded data removed]",
      "text/plain": [
       "<Figure size 4000x4000 with 1 Axes>"
      ]
     },
     "metadata": {},
     "output_type": "display_data"
    }
   ],
   "source": [
    "import matplotlib.pyplot as plt\n",
    "from scipy.cluster.hierarchy import dendrogram, fcluster\n",
    "from hdbscan.plots import SingleLinkageTree\n",
    "\n",
    "fig,ax = plt.subplots(figsize=(20,20), dpi=200)\n",
    "_ = dendrogram(linkage_matrix, ax=ax, orientation='right')\n",
    "\n",
    "# fig, ax = plt.subplots(figsize=(20,10))\n",
    "# SingleLinkageTree(linkage_matrix).plot(axis=ax)"
   ]
  },
  {
   "cell_type": "code",
   "execution_count": null,
   "id": "d02de8c2-8e16-4949-95f3-beb6401f74b6",
   "metadata": {},
   "outputs": [],
   "source": []
  },
  {
   "cell_type": "code",
   "execution_count": null,
   "id": "b425e659-e6ec-4c89-9b29-125b345bfe2b",
   "metadata": {},
   "outputs": [],
   "source": []
  },
  {
   "cell_type": "code",
   "execution_count": 43,
   "id": "2c19ac29-3dbd-4d8c-b322-8ec8bbc90eeb",
   "metadata": {},
   "outputs": [
    {
     "data": {
      "text/plain": [
       "count    356331.000000\n",
       "mean          2.718217\n",
       "std           1.362448\n",
       "min           0.868562\n",
       "25%           2.138306\n",
       "50%           2.502614\n",
       "75%           3.031688\n",
       "max         304.429754\n",
       "dtype: float64"
      ]
     },
     "execution_count": 43,
     "metadata": {},
     "output_type": "execute_result"
    }
   ],
   "source": [
    "pd.Series(linkage_matrix[:, 2]).describe()"
   ]
  },
  {
   "cell_type": "code",
   "execution_count": 157,
   "id": "aec68f96-1ee6-4446-901a-9cc80388efd3",
   "metadata": {},
   "outputs": [],
   "source": [
    "cutoff = 3\n",
    "kmeans_clusters = fcluster(linkage_matrix, t=cutoff, criterion='distance')\n"
   ]
  },
  {
   "cell_type": "code",
   "execution_count": 158,
   "id": "9e92555f-98ed-41ae-8fe8-c5935794a442",
   "metadata": {},
   "outputs": [],
   "source": [
    "# ward_clusters = fcluster(linkage_matrix, t=cutoff, criterion='distance')\n",
    "# ward_clusters = pd.Series(ward_clusters, index=np.arange(np.unique(kmeans_clusters).shape[0]))\n",
    "# np.unique(ward_clusters)"
   ]
  },
  {
   "cell_type": "code",
   "execution_count": 159,
   "id": "b625d63f-bf22-4599-b32b-bbafb991663c",
   "metadata": {},
   "outputs": [],
   "source": [
    "# clusters = pd.Series(kmeans_clusters).map(lambda x: ward_clusters.loc[x]).values"
   ]
  },
  {
   "cell_type": "code",
   "execution_count": null,
   "id": "ab529851-109f-4375-95fc-7298a98ba4fd",
   "metadata": {},
   "outputs": [],
   "source": []
  },
  {
   "cell_type": "code",
   "execution_count": 160,
   "id": "880361bc-9b1a-4d54-8b54-05000d8af7d5",
   "metadata": {},
   "outputs": [],
   "source": [
    "clusters = kmeans_clusters.copy()"
   ]
  },
  {
   "cell_type": "code",
   "execution_count": null,
   "id": "4c1e352c-a9b1-4998-8875-9b258edf006f",
   "metadata": {},
   "outputs": [],
   "source": []
  },
  {
   "cell_type": "code",
   "execution_count": null,
   "id": "f7a4d653-ae9a-4f70-a3e4-0e42fd1150d7",
   "metadata": {},
   "outputs": [],
   "source": []
  },
  {
   "cell_type": "code",
   "execution_count": 161,
   "id": "30f2d076-dd7d-42a0-9050-b65d5347b64b",
   "metadata": {
    "scrolled": true
   },
   "outputs": [
    {
     "data": {
      "text/plain": [
       "4_0_0           92395\n",
       "4_0_1           88162\n",
       "4_0_10          24024\n",
       "4_0_11              6\n",
       "4_0_12              6\n",
       "                ...  \n",
       "139096_942_0    89916\n",
       "139096_98_0     90663\n",
       "139096_990_0    20552\n",
       "139096_99_0         6\n",
       "139096_99_1         6\n",
       "Length: 356332, dtype: int32"
      ]
     },
     "execution_count": 161,
     "metadata": {},
     "output_type": "execute_result"
    }
   ],
   "source": [
    "region_id = 69333\n",
    "\n",
    "\n",
    "etcs = gpd.read_parquet(f'/data/uscuni-ulce/processed_data/tessellations/tessellation_{region_id}.parquet')\n",
    "etcs['label'] = -1\n",
    "\n",
    "morphotopes = pd.read_parquet(f'/data/uscuni-ulce/processed_data/morphotopes/tessellation_labels_morphotopes_{region_id}{model_params}.pq')\n",
    "morphotopes.loc[:, 'morphotope_label'] =  str(region_id) + '_' + morphotopes.values[:, 0]\n",
    "\n",
    "region_clusters = pd.Series(clusters, component_data.index)\n",
    "region_clusters"
   ]
  },
  {
   "cell_type": "code",
   "execution_count": 162,
   "id": "2ae717b1-576e-4100-b848-4215ac695940",
   "metadata": {},
   "outputs": [
    {
     "data": {
      "text/plain": [
       "92941"
      ]
     },
     "execution_count": 162,
     "metadata": {},
     "output_type": "execute_result"
    }
   ],
   "source": [
    "region_clusters.nunique()"
   ]
  },
  {
   "cell_type": "code",
   "execution_count": 163,
   "id": "d270eeac-32d5-4588-884d-65d008fb57e9",
   "metadata": {
    "scrolled": true
   },
   "outputs": [
    {
     "data": {
      "text/plain": [
       "6        260019\n",
       "1158         20\n",
       "7592         11\n",
       "3224         11\n",
       "6980         11\n",
       "          ...  \n",
       "71545         1\n",
       "1609          1\n",
       "22431         1\n",
       "23666         1\n",
       "60838         1\n",
       "Name: count, Length: 92941, dtype: int64"
      ]
     },
     "execution_count": 163,
     "metadata": {},
     "output_type": "execute_result"
    }
   ],
   "source": [
    "region_clusters.value_counts()"
   ]
  },
  {
   "cell_type": "code",
   "execution_count": null,
   "id": "fc8a2f5a-46f6-403e-b8e7-ffeb6117c2c5",
   "metadata": {},
   "outputs": [],
   "source": []
  },
  {
   "cell_type": "code",
   "execution_count": 164,
   "id": "18ae2397-7292-4dc6-a391-82dbe08e20c4",
   "metadata": {
    "scrolled": true
   },
   "outputs": [
    {
     "name": "stdout",
     "output_type": "stream",
     "text": [
      "CPU times: user 1.08 s, sys: 63.2 ms, total: 1.14 s\n",
      "Wall time: 1.08 s\n"
     ]
    }
   ],
   "source": [
    "%%time\n",
    "## assign morphotope clusters to tess cells\n",
    "\n",
    "etcs.loc[morphotopes.index, 'label'] = morphotopes.morphotope_label.map(lambda x: region_clusters.loc[x] if x in region_clusters.index else -1).values\n"
   ]
  },
  {
   "cell_type": "code",
   "execution_count": 165,
   "id": "90c43254-4630-4b97-9fcf-5d7fd36fe169",
   "metadata": {},
   "outputs": [],
   "source": [
    "# %%time\n",
    "# # # # relabel morphotopes for plotting\n",
    "# morph_dict = pd.Series(np.arange(np.unique(morphotopes.values).shape[0]),\n",
    "#                        np.unique(morphotopes.values))\n",
    "# etcs.loc[morphotopes.index, 'label'] = morphotopes.map(lambda x: morph_dict.loc[x]).values\n",
    "# etcs['morph'] = '-1'\n",
    "# etcs.loc[morphotopes.index, 'morph'] = morphotopes.values"
   ]
  },
  {
   "cell_type": "code",
   "execution_count": 166,
   "id": "65e927d5-f0c5-4cba-a028-cfed981826c3",
   "metadata": {
    "scrolled": true
   },
   "outputs": [
    {
     "data": {
      "text/plain": [
       "label\n",
       " 6        245374\n",
       "-1        108131\n",
       " 71508       692\n",
       " 40132       669\n",
       " 59352       632\n",
       "           ...  \n",
       " 91943       100\n",
       " 16989       100\n",
       " 13914       100\n",
       " 16304       100\n",
       " 91944       100\n",
       "Name: count, Length: 586, dtype: int64"
      ]
     },
     "execution_count": 166,
     "metadata": {},
     "output_type": "execute_result"
    }
   ],
   "source": [
    "etcs.label.value_counts()"
   ]
  },
  {
   "cell_type": "code",
   "execution_count": 167,
   "id": "302d2e13-cd61-4b6b-9a21-af741afcd26f",
   "metadata": {},
   "outputs": [],
   "source": [
    "from core.cluster_validation import get_color\n",
    "layer.get_fill_color = get_color(etcs.label)"
   ]
  },
  {
   "cell_type": "code",
   "execution_count": null,
   "id": "f81bfa42-cd35-43df-bb6e-6e39dd70afb5",
   "metadata": {},
   "outputs": [],
   "source": []
  },
  {
   "cell_type": "code",
   "execution_count": null,
   "id": "add1d05f-cbf4-4f9e-b71d-50b9560755fb",
   "metadata": {},
   "outputs": [],
   "source": []
  },
  {
   "cell_type": "code",
   "execution_count": 88,
   "id": "eff46fac-9d84-40cc-9975-510ca954d17e",
   "metadata": {},
   "outputs": [
    {
     "name": "stderr",
     "output_type": "stream",
     "text": [
      "/home/krasen/urban_taxonomy/.pixi/envs/default/lib/python3.12/site-packages/lonboard/_geoarrow/ops/reproject.py:97: UserWarning: Input being reprojected to EPSG:4326 CRS\n",
      "  warnings.warn(\"Input being reprojected to EPSG:4326 CRS\")\n"
     ]
    },
    {
     "name": "stdout",
     "output_type": "stream",
     "text": [
      "CPU times: user 6.9 s, sys: 340 ms, total: 7.24 s\n",
      "Wall time: 7.24 s\n"
     ]
    }
   ],
   "source": [
    "%%time\n",
    "import lonboard\n",
    "# plotting = tessellation[tessellation.index.isin(X_train.index)].copy()\n",
    "layer = lonboard.SolidPolygonLayer.from_geopandas(etcs, opacity=.08)"
   ]
  },
  {
   "cell_type": "code",
   "execution_count": 89,
   "id": "b0bff59a-6367-431e-9a06-376985510dfc",
   "metadata": {},
   "outputs": [],
   "source": [
    "from sidecar import Sidecar\n",
    "sc = Sidecar(title='Final Clusters')\n",
    "m = lonboard.Map(layer, basemap_style=lonboard.basemap.CartoBasemap.Positron)\n",
    "with sc:\n",
    "    display(m)"
   ]
  },
  {
   "cell_type": "code",
   "execution_count": 101,
   "id": "4a851995-d997-469c-b4d3-0953db7bb7a3",
   "metadata": {},
   "outputs": [],
   "source": [
    "from core.cluster_validation import get_color\n",
    "layer.get_fill_color = get_color(etcs.label)"
   ]
  },
  {
   "cell_type": "code",
   "execution_count": 44,
   "id": "774f6457-e2bf-4928-8862-0d367436758f",
   "metadata": {},
   "outputs": [
    {
     "data": {
      "text/plain": [
       "1"
      ]
     },
     "execution_count": 44,
     "metadata": {},
     "output_type": "execute_result"
    }
   ],
   "source": [
    "1"
   ]
  },
  {
   "cell_type": "code",
   "execution_count": null,
   "id": "e7cebc7c-20c5-421f-8dae-b0c86db202b6",
   "metadata": {},
   "outputs": [],
   "source": []
  }
 ],
 "metadata": {
  "kernelspec": {
   "display_name": "Python 3 (ipykernel)",
   "language": "python",
   "name": "python3"
  },
  "language_info": {
   "codemirror_mode": {
    "name": "ipython",
    "version": 3
   },
   "file_extension": ".py",
   "mimetype": "text/x-python",
   "name": "python",
   "nbconvert_exporter": "python",
   "pygments_lexer": "ipython3",
   "version": "3.12.5"
  }
 },
 "nbformat": 4,
 "nbformat_minor": 5
}
