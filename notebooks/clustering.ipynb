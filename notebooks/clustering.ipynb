{
 "cells": [
  {
   "cell_type": "code",
   "execution_count": 1,
   "id": "7ea4918a-bb38-415c-b50f-bf1f94101b01",
   "metadata": {},
   "outputs": [
    {
     "name": "stdout",
     "output_type": "stream",
     "text": [
      "CPU times: user 11.4 s, sys: 345 ms, total: 11.7 s\n",
      "Wall time: 9.34 s\n"
     ]
    }
   ],
   "source": [
    "%%time\n",
    "\n",
    "import glob\n",
    "\n",
    "import geopandas as gpd\n",
    "import matplotlib.pyplot as plt\n",
    "import numba\n",
    "import numpy as np\n",
    "import pandas as pd\n",
    "from libpysal.graph import read_parquet\n",
    "from sklearn.preprocessing import PowerTransformer, RobustScaler, StandardScaler\n",
    "\n",
    "from sklearn.neighbors import KDTree\n",
    "\n",
    "from sklearn.cluster import AgglomerativeClustering\n",
    "from scipy.cluster.hierarchy import dendrogram\n",
    "from scipy.cluster.hierarchy import fcluster\n",
    "from sklearn.metrics import adjusted_rand_score\n",
    "from sklearn.metrics import davies_bouldin_score\n",
    "from core.cluster_validation import get_linkage_matrix\n",
    "\n",
    "from fast_hdbscan.cluster_trees import (\n",
    "    cluster_tree_from_condensed_tree,\n",
    "    condense_tree,\n",
    "    extract_eom_clusters,\n",
    "    extract_leaves,\n",
    "    get_cluster_label_vector,\n",
    "    mst_to_linkage_tree,\n",
    ")\n",
    "from sklearn.neighbors import KDTree\n",
    "import shapely\n",
    "from core.cluster_validation import generate_detailed_clusters\n",
    "from core.generate_context import spatially_weighted_partial_lag\n",
    "from core.generate_clusters import cluster_data"
   ]
  },
  {
   "cell_type": "code",
   "execution_count": null,
   "id": "c4562cd1-1f86-45d0-b662-8a6a948a2671",
   "metadata": {},
   "outputs": [],
   "source": []
  },
  {
   "cell_type": "code",
   "execution_count": 2,
   "id": "f78cb85f-68e2-4e86-a4d1-3518bb62ad34",
   "metadata": {},
   "outputs": [],
   "source": [
    "region_id = 69300\n",
    "\n",
    "tessellations_dir = '/data/uscuni-ulce/processed_data/tessellations/'\n",
    "chars_dir = \"/data/uscuni-ulce/processed_data/chars/\"\n",
    "graph_dir = \"/data/uscuni-ulce/processed_data/neigh_graphs/\"\n",
    "cluster_dir = '/data/uscuni-ulce/processed_data/clusters/'\n",
    "val_path = '../data/prague_validation/morphotopes.pq'"
   ]
  },
  {
   "cell_type": "code",
   "execution_count": null,
   "id": "026da533-bd10-4dd8-854e-2c59917beedd",
   "metadata": {},
   "outputs": [],
   "source": []
  },
  {
   "cell_type": "code",
   "execution_count": 3,
   "id": "5eb7d7f7-98b5-49dd-82ac-866aba13ac6b",
   "metadata": {},
   "outputs": [],
   "source": [
    "# region_id = 'freiburg'\n",
    "# buildings_dir = streets_dir = enclosures_dir = tessellations_dir = graph_dir = '../data/freiburg/'\n",
    "# chars_dir = '../data/freiburg/chars/'\n",
    "# cluster_dir = '/data/uscuni-ulce/processed_data/clusters/'\n",
    "# val_path = '../data/fbg_cluster_validation.pq'"
   ]
  },
  {
   "cell_type": "code",
   "execution_count": 4,
   "id": "4b48fd6c-cf84-4137-96c7-41eaa42d2733",
   "metadata": {},
   "outputs": [],
   "source": [
    "X_train = pd.read_parquet(chars_dir + f'primary_chars_{region_id}.parquet')\n",
    "graph = read_parquet(graph_dir + f\"tessellation_graph_{region_id}_knn1.parquet\")\n",
    "tessellation = gpd.read_parquet(\n",
    "        tessellations_dir + f\"tessellation_{region_id}.parquet\"\n",
    ")\n",
    "morphotopes = gpd.read_parquet(val_path)"
   ]
  },
  {
   "cell_type": "code",
   "execution_count": null,
   "id": "a96bd6e1-fcca-464f-a71f-ee601322fe0b",
   "metadata": {},
   "outputs": [],
   "source": []
  },
  {
   "cell_type": "code",
   "execution_count": null,
   "id": "17373cf1-ab71-4b5d-8a71-5ad2c1967ee8",
   "metadata": {},
   "outputs": [],
   "source": []
  },
  {
   "cell_type": "code",
   "execution_count": 5,
   "id": "bab45e50-b879-48e0-84a7-c697ec86a512",
   "metadata": {},
   "outputs": [],
   "source": [
    "def boundary_distance_metric(tessellation, clusters, morphotopes, segmentation_distance=10):\n",
    "    cluster_boundaries = tessellation.dissolve(clusters)\n",
    "    boundaries = cluster_boundaries.buffer(1e-6).boundary\n",
    "    coords = morphotopes.segmentize(segmentation_distance).get_coordinates(index_parts=True)\n",
    "    morphotopes_points = coords.set_geometry(gpd.points_from_xy(*coords.values.T), crs=morphotopes.crs)\n",
    "    _, dist = boundaries.sindex.nearest(morphotopes_points.geometry, return_distance=True, max_distance=500, return_all=False)\n",
    "    morphotopes_points[\"distance\"] = dist\n",
    "    return morphotopes_points.groupby(level=0)[\"distance\"].describe().set_geometry(morphotopes.geometry)"
   ]
  },
  {
   "cell_type": "code",
   "execution_count": null,
   "id": "48510a2a-8807-4638-9fbb-43902309bd96",
   "metadata": {},
   "outputs": [],
   "source": []
  },
  {
   "cell_type": "code",
   "execution_count": null,
   "id": "4f6aac0e-6433-41bb-9357-8fe433e4d19e",
   "metadata": {},
   "outputs": [],
   "source": []
  },
  {
   "cell_type": "code",
   "execution_count": null,
   "id": "eab9475f-61ac-4d77-915e-24b49ddb8214",
   "metadata": {},
   "outputs": [],
   "source": []
  },
  {
   "cell_type": "code",
   "execution_count": 6,
   "id": "50c2e6f7-6f78-46f6-af78-53f8b229f149",
   "metadata": {},
   "outputs": [],
   "source": [
    "\n",
    "\n",
    "tess_groups = generate_detailed_clusters(tessellation,\n",
    "                                         include_random_sample=False, path=val_path)\n",
    "tess_groups = tess_groups[tess_groups.index.isin(X_train.index)]\n",
    "\n",
    "\n",
    "tess_groups_ilocs = (\n",
    "    pd.Series(np.arange(len(X_train[X_train.index >=0])), index=X_train[X_train.index >=0].index)\n",
    "    .loc[tess_groups.index]\n",
    "    .values\n",
    ")"
   ]
  },
  {
   "cell_type": "code",
   "execution_count": null,
   "id": "38135f01-a4fa-4bfd-a3c9-aa4caaaffc86",
   "metadata": {},
   "outputs": [],
   "source": []
  },
  {
   "cell_type": "code",
   "execution_count": 7,
   "id": "9c0075f8-1da2-41e3-893b-da0a2f465da0",
   "metadata": {},
   "outputs": [],
   "source": [
    "spatial_lags = [1, 2, 3, 4, 5]\n",
    "kernels = ['gaussian', 'inverse', 'weights']\n",
    "lag_types = ['_median', '_iqr', '_']\n",
    "cluster_sizes = [50, 75, 100, 150, 250]\n",
    "chars_to_drop = [\n",
    "    [],\n",
    "    ['stcSAl', 'stcOri'],\n",
    "    [\n",
    "       'stcSAl',\n",
    "       'ltkOri',\n",
    "         'stbOri',\n",
    "         'stcOri',\n",
    "         'stbCeA'\n",
    "    ]\n",
    "          \n",
    "]\n",
    "clips = [None, (-5,5), (-10, 10)]\n",
    "\n",
    "\n",
    "linkage = 'ward'\n",
    "metric = 'euclidean'\n",
    "centroids = shapely.get_coordinates(tessellation.representative_point())"
   ]
  },
  {
   "cell_type": "code",
   "execution_count": null,
   "id": "686218ed-f03c-47dd-8a35-c0cfb4278572",
   "metadata": {},
   "outputs": [],
   "source": []
  },
  {
   "cell_type": "code",
   "execution_count": null,
   "id": "9fbd4278-7697-4939-a9d4-af553004b196",
   "metadata": {},
   "outputs": [],
   "source": []
  },
  {
   "cell_type": "code",
   "execution_count": 12,
   "id": "5dc3c999-6424-49df-a9b0-f66cb290f19a",
   "metadata": {},
   "outputs": [],
   "source": [
    "%%capture cap\n",
    "\n",
    "results = []\n",
    "\n",
    "for spatial_lag in spatial_lags:\n",
    "    \n",
    "    for kernel in kernels:\n",
    "\n",
    "        lag = spatially_weighted_partial_lag(X_train, graph, centroids, kernel=kernel, k=spatial_lag, n_splits=10)\n",
    "\n",
    "        for lag_type in lag_types:\n",
    "            \n",
    "            clustering_data = X_train.join(lag[[c for c in lag.columns if lag_type in c]], how='inner')\n",
    "            \n",
    "            for min_cluster_size in cluster_sizes:\n",
    "                \n",
    "                for to_drop in chars_to_drop:\n",
    "\n",
    "                    for clip in clips:\n",
    "                    \n",
    "                        try:\n",
    "                            region_cluster_labels = cluster_data(clustering_data, graph, to_drop, clip, min_cluster_size, linkage, metric)\n",
    "                            ars = adjusted_rand_score(tess_groups.values, region_cluster_labels.iloc[tess_groups_ilocs].values)\n",
    "                            bdm_df = boundary_distance_metric(tessellation[tessellation.index > -1], region_cluster_labels, morphotopes)\n",
    "                            results.append([spatial_lag, kernel, lag_type, clip, min_cluster_size, to_drop, ars, bdm_df['mean'].mean(), bdm_df['std'].mean()])\n",
    "                        except Exception as e:\n",
    "                            print(f\"spatial lag: {spatial_lag}, kernel: {kernel}, lag_type: {lag_type}, min_cluster_size: {min_cluster_size}, to_drop: {to_drop}\")\n",
    "                            print(e)"
   ]
  },
  {
   "cell_type": "code",
   "execution_count": 11,
   "id": "c87daeed-57c3-4f17-a0ab-39d5450b186f",
   "metadata": {},
   "outputs": [],
   "source": [
    "results = pd.DataFrame(results, columns= ['spatial_lag', 'kernel', 'lag_type', 'clip', 'min_cluster_size', 'dropped_cols', 'ars', 'bdm_df_mean', 'bdm_df_std'])\n"
   ]
  },
  {
   "cell_type": "code",
   "execution_count": null,
   "id": "112e4137-923d-4ea1-960f-985580fd519f",
   "metadata": {},
   "outputs": [],
   "source": []
  },
  {
   "cell_type": "code",
   "execution_count": null,
   "id": "b210d6e3-b254-4f53-beaf-9f36e53e4135",
   "metadata": {
    "scrolled": true
   },
   "outputs": [],
   "source": [
    "results.to_parquet(f'../data/cluster_log_{region_id}.pq')"
   ]
  },
  {
   "cell_type": "code",
   "execution_count": 13,
   "id": "568eb23f-bfc3-4486-8c44-f87e58b34c93",
   "metadata": {},
   "outputs": [],
   "source": [
    "# results = pd.read_parquet(f'../data/cluster_log_{region_id}.pq')"
   ]
  },
  {
   "cell_type": "code",
   "execution_count": null,
   "id": "355fc2cd-3f19-4a48-8f62-9d42594cdd30",
   "metadata": {},
   "outputs": [],
   "source": []
  },
  {
   "cell_type": "code",
   "execution_count": 16,
   "id": "c9ed5415-96c8-4a40-8261-93a4d67f9e04",
   "metadata": {},
   "outputs": [
    {
     "data": {
      "text/html": [
       "<div>\n",
       "<style scoped>\n",
       "    .dataframe tbody tr th:only-of-type {\n",
       "        vertical-align: middle;\n",
       "    }\n",
       "\n",
       "    .dataframe tbody tr th {\n",
       "        vertical-align: top;\n",
       "    }\n",
       "\n",
       "    .dataframe thead th {\n",
       "        text-align: right;\n",
       "    }\n",
       "</style>\n",
       "<table border=\"1\" class=\"dataframe\">\n",
       "  <thead>\n",
       "    <tr style=\"text-align: right;\">\n",
       "      <th></th>\n",
       "      <th>spatial_lag</th>\n",
       "      <th>kernel</th>\n",
       "      <th>lag_type</th>\n",
       "      <th>clip</th>\n",
       "      <th>min_cluster_size</th>\n",
       "      <th>dropped_cols</th>\n",
       "      <th>ars</th>\n",
       "    </tr>\n",
       "  </thead>\n",
       "  <tbody>\n",
       "    <tr>\n",
       "      <th>243</th>\n",
       "      <td>1</td>\n",
       "      <td>inverse</td>\n",
       "      <td>_</td>\n",
       "      <td>[-10, 10]</td>\n",
       "      <td>100</td>\n",
       "      <td>[stcSAl, ltkOri, stbOri, stcOri, stbCeA]</td>\n",
       "      <td>0.678787</td>\n",
       "    </tr>\n",
       "    <tr>\n",
       "      <th>549</th>\n",
       "      <td>2</td>\n",
       "      <td>inverse</td>\n",
       "      <td>_median</td>\n",
       "      <td>None</td>\n",
       "      <td>100</td>\n",
       "      <td>[stcSAl, ltkOri, stbOri, stcOri, stbCeA]</td>\n",
       "      <td>0.664738</td>\n",
       "    </tr>\n",
       "    <tr>\n",
       "      <th>551</th>\n",
       "      <td>2</td>\n",
       "      <td>inverse</td>\n",
       "      <td>_median</td>\n",
       "      <td>[-10, 10]</td>\n",
       "      <td>100</td>\n",
       "      <td>[stcSAl, ltkOri, stbOri, stcOri, stbCeA]</td>\n",
       "      <td>0.664207</td>\n",
       "    </tr>\n",
       "    <tr>\n",
       "      <th>1024</th>\n",
       "      <td>3</td>\n",
       "      <td>inverse</td>\n",
       "      <td>_</td>\n",
       "      <td>[-10, 10]</td>\n",
       "      <td>100</td>\n",
       "      <td>[stcSAl, ltkOri, stbOri, stcOri, stbCeA]</td>\n",
       "      <td>0.661755</td>\n",
       "    </tr>\n",
       "    <tr>\n",
       "      <th>633</th>\n",
       "      <td>2</td>\n",
       "      <td>inverse</td>\n",
       "      <td>_</td>\n",
       "      <td>None</td>\n",
       "      <td>100</td>\n",
       "      <td>[]</td>\n",
       "      <td>0.660152</td>\n",
       "    </tr>\n",
       "    <tr>\n",
       "      <th>1022</th>\n",
       "      <td>3</td>\n",
       "      <td>inverse</td>\n",
       "      <td>_</td>\n",
       "      <td>None</td>\n",
       "      <td>100</td>\n",
       "      <td>[stcSAl, ltkOri, stbOri, stcOri, stbCeA]</td>\n",
       "      <td>0.657467</td>\n",
       "    </tr>\n",
       "    <tr>\n",
       "      <th>22</th>\n",
       "      <td>1</td>\n",
       "      <td>gaussian</td>\n",
       "      <td>_median</td>\n",
       "      <td>[-10, 10]</td>\n",
       "      <td>100</td>\n",
       "      <td>[stcSAl, ltkOri, stbOri, stcOri, stbCeA]</td>\n",
       "      <td>0.656066</td>\n",
       "    </tr>\n",
       "    <tr>\n",
       "      <th>640</th>\n",
       "      <td>2</td>\n",
       "      <td>inverse</td>\n",
       "      <td>_</td>\n",
       "      <td>[-5, 5]</td>\n",
       "      <td>100</td>\n",
       "      <td>[stcSAl, ltkOri, stbOri, stcOri, stbCeA]</td>\n",
       "      <td>0.653409</td>\n",
       "    </tr>\n",
       "    <tr>\n",
       "      <th>105</th>\n",
       "      <td>1</td>\n",
       "      <td>gaussian</td>\n",
       "      <td>_</td>\n",
       "      <td>[-5, 5]</td>\n",
       "      <td>100</td>\n",
       "      <td>[]</td>\n",
       "      <td>0.651005</td>\n",
       "    </tr>\n",
       "    <tr>\n",
       "      <th>108</th>\n",
       "      <td>1</td>\n",
       "      <td>gaussian</td>\n",
       "      <td>_</td>\n",
       "      <td>[-5, 5]</td>\n",
       "      <td>100</td>\n",
       "      <td>[stcSAl, stcOri]</td>\n",
       "      <td>0.650455</td>\n",
       "    </tr>\n",
       "    <tr>\n",
       "      <th>60</th>\n",
       "      <td>1</td>\n",
       "      <td>gaussian</td>\n",
       "      <td>_iqr</td>\n",
       "      <td>[-5, 5]</td>\n",
       "      <td>100</td>\n",
       "      <td>[]</td>\n",
       "      <td>0.649721</td>\n",
       "    </tr>\n",
       "    <tr>\n",
       "      <th>635</th>\n",
       "      <td>2</td>\n",
       "      <td>inverse</td>\n",
       "      <td>_</td>\n",
       "      <td>[-10, 10]</td>\n",
       "      <td>100</td>\n",
       "      <td>[]</td>\n",
       "      <td>0.647907</td>\n",
       "    </tr>\n",
       "    <tr>\n",
       "      <th>1335</th>\n",
       "      <td>4</td>\n",
       "      <td>inverse</td>\n",
       "      <td>_median</td>\n",
       "      <td>None</td>\n",
       "      <td>100</td>\n",
       "      <td>[stcSAl, ltkOri, stbOri, stcOri, stbCeA]</td>\n",
       "      <td>0.647432</td>\n",
       "    </tr>\n",
       "    <tr>\n",
       "      <th>20</th>\n",
       "      <td>1</td>\n",
       "      <td>gaussian</td>\n",
       "      <td>_median</td>\n",
       "      <td>None</td>\n",
       "      <td>100</td>\n",
       "      <td>[stcSAl, ltkOri, stbOri, stcOri, stbCeA]</td>\n",
       "      <td>0.644619</td>\n",
       "    </tr>\n",
       "    <tr>\n",
       "      <th>1425</th>\n",
       "      <td>4</td>\n",
       "      <td>inverse</td>\n",
       "      <td>_</td>\n",
       "      <td>None</td>\n",
       "      <td>100</td>\n",
       "      <td>[stcSAl, ltkOri, stbOri, stcOri, stbCeA]</td>\n",
       "      <td>0.643693</td>\n",
       "    </tr>\n",
       "    <tr>\n",
       "      <th>1023</th>\n",
       "      <td>3</td>\n",
       "      <td>inverse</td>\n",
       "      <td>_</td>\n",
       "      <td>[-5, 5]</td>\n",
       "      <td>100</td>\n",
       "      <td>[stcSAl, ltkOri, stbOri, stcOri, stbCeA]</td>\n",
       "      <td>0.641246</td>\n",
       "    </tr>\n",
       "    <tr>\n",
       "      <th>505</th>\n",
       "      <td>2</td>\n",
       "      <td>gaussian</td>\n",
       "      <td>_</td>\n",
       "      <td>[-5, 5]</td>\n",
       "      <td>100</td>\n",
       "      <td>[stcSAl, ltkOri, stbOri, stcOri, stbCeA]</td>\n",
       "      <td>0.640846</td>\n",
       "    </tr>\n",
       "    <tr>\n",
       "      <th>594</th>\n",
       "      <td>2</td>\n",
       "      <td>inverse</td>\n",
       "      <td>_iqr</td>\n",
       "      <td>None</td>\n",
       "      <td>100</td>\n",
       "      <td>[stcSAl, ltkOri, stbOri, stcOri, stbCeA]</td>\n",
       "      <td>0.640178</td>\n",
       "    </tr>\n",
       "    <tr>\n",
       "      <th>330</th>\n",
       "      <td>1</td>\n",
       "      <td>weights</td>\n",
       "      <td>_iqr</td>\n",
       "      <td>[-10, 10]</td>\n",
       "      <td>100</td>\n",
       "      <td>[stcSAl, ltkOri, stbOri, stcOri, stbCeA]</td>\n",
       "      <td>0.639912</td>\n",
       "    </tr>\n",
       "    <tr>\n",
       "      <th>371</th>\n",
       "      <td>1</td>\n",
       "      <td>weights</td>\n",
       "      <td>_</td>\n",
       "      <td>[-5, 5]</td>\n",
       "      <td>100</td>\n",
       "      <td>[stcSAl, stcOri]</td>\n",
       "      <td>0.639092</td>\n",
       "    </tr>\n",
       "    <tr>\n",
       "      <th>1380</th>\n",
       "      <td>4</td>\n",
       "      <td>inverse</td>\n",
       "      <td>_iqr</td>\n",
       "      <td>None</td>\n",
       "      <td>100</td>\n",
       "      <td>[stcSAl, ltkOri, stbOri, stcOri, stbCeA]</td>\n",
       "      <td>0.637620</td>\n",
       "    </tr>\n",
       "    <tr>\n",
       "      <th>981</th>\n",
       "      <td>3</td>\n",
       "      <td>inverse</td>\n",
       "      <td>_iqr</td>\n",
       "      <td>[-10, 10]</td>\n",
       "      <td>100</td>\n",
       "      <td>[stcSAl, ltkOri, stbOri, stcOri, stbCeA]</td>\n",
       "      <td>0.637493</td>\n",
       "    </tr>\n",
       "    <tr>\n",
       "      <th>1021</th>\n",
       "      <td>3</td>\n",
       "      <td>inverse</td>\n",
       "      <td>_</td>\n",
       "      <td>[-10, 10]</td>\n",
       "      <td>100</td>\n",
       "      <td>[stcSAl, stcOri]</td>\n",
       "      <td>0.637252</td>\n",
       "    </tr>\n",
       "    <tr>\n",
       "      <th>1337</th>\n",
       "      <td>4</td>\n",
       "      <td>inverse</td>\n",
       "      <td>_median</td>\n",
       "      <td>[-10, 10]</td>\n",
       "      <td>100</td>\n",
       "      <td>[stcSAl, ltkOri, stbOri, stcOri, stbCeA]</td>\n",
       "      <td>0.636821</td>\n",
       "    </tr>\n",
       "    <tr>\n",
       "      <th>370</th>\n",
       "      <td>1</td>\n",
       "      <td>weights</td>\n",
       "      <td>_</td>\n",
       "      <td>None</td>\n",
       "      <td>100</td>\n",
       "      <td>[stcSAl, stcOri]</td>\n",
       "      <td>0.636268</td>\n",
       "    </tr>\n",
       "    <tr>\n",
       "      <th>591</th>\n",
       "      <td>2</td>\n",
       "      <td>inverse</td>\n",
       "      <td>_iqr</td>\n",
       "      <td>None</td>\n",
       "      <td>100</td>\n",
       "      <td>[stcSAl, stcOri]</td>\n",
       "      <td>0.636235</td>\n",
       "    </tr>\n",
       "    <tr>\n",
       "      <th>590</th>\n",
       "      <td>2</td>\n",
       "      <td>inverse</td>\n",
       "      <td>_iqr</td>\n",
       "      <td>[-10, 10]</td>\n",
       "      <td>100</td>\n",
       "      <td>[]</td>\n",
       "      <td>0.636094</td>\n",
       "    </tr>\n",
       "    <tr>\n",
       "      <th>588</th>\n",
       "      <td>2</td>\n",
       "      <td>inverse</td>\n",
       "      <td>_iqr</td>\n",
       "      <td>None</td>\n",
       "      <td>100</td>\n",
       "      <td>[]</td>\n",
       "      <td>0.635903</td>\n",
       "    </tr>\n",
       "    <tr>\n",
       "      <th>106</th>\n",
       "      <td>1</td>\n",
       "      <td>gaussian</td>\n",
       "      <td>_</td>\n",
       "      <td>[-10, 10]</td>\n",
       "      <td>100</td>\n",
       "      <td>[]</td>\n",
       "      <td>0.634722</td>\n",
       "    </tr>\n",
       "    <tr>\n",
       "      <th>1019</th>\n",
       "      <td>3</td>\n",
       "      <td>inverse</td>\n",
       "      <td>_</td>\n",
       "      <td>None</td>\n",
       "      <td>100</td>\n",
       "      <td>[stcSAl, stcOri]</td>\n",
       "      <td>0.634343</td>\n",
       "    </tr>\n",
       "  </tbody>\n",
       "</table>\n",
       "</div>"
      ],
      "text/plain": [
       "      spatial_lag    kernel lag_type       clip  min_cluster_size  \\\n",
       "243             1   inverse        _  [-10, 10]               100   \n",
       "549             2   inverse  _median       None               100   \n",
       "551             2   inverse  _median  [-10, 10]               100   \n",
       "1024            3   inverse        _  [-10, 10]               100   \n",
       "633             2   inverse        _       None               100   \n",
       "1022            3   inverse        _       None               100   \n",
       "22              1  gaussian  _median  [-10, 10]               100   \n",
       "640             2   inverse        _    [-5, 5]               100   \n",
       "105             1  gaussian        _    [-5, 5]               100   \n",
       "108             1  gaussian        _    [-5, 5]               100   \n",
       "60              1  gaussian     _iqr    [-5, 5]               100   \n",
       "635             2   inverse        _  [-10, 10]               100   \n",
       "1335            4   inverse  _median       None               100   \n",
       "20              1  gaussian  _median       None               100   \n",
       "1425            4   inverse        _       None               100   \n",
       "1023            3   inverse        _    [-5, 5]               100   \n",
       "505             2  gaussian        _    [-5, 5]               100   \n",
       "594             2   inverse     _iqr       None               100   \n",
       "330             1   weights     _iqr  [-10, 10]               100   \n",
       "371             1   weights        _    [-5, 5]               100   \n",
       "1380            4   inverse     _iqr       None               100   \n",
       "981             3   inverse     _iqr  [-10, 10]               100   \n",
       "1021            3   inverse        _  [-10, 10]               100   \n",
       "1337            4   inverse  _median  [-10, 10]               100   \n",
       "370             1   weights        _       None               100   \n",
       "591             2   inverse     _iqr       None               100   \n",
       "590             2   inverse     _iqr  [-10, 10]               100   \n",
       "588             2   inverse     _iqr       None               100   \n",
       "106             1  gaussian        _  [-10, 10]               100   \n",
       "1019            3   inverse        _       None               100   \n",
       "\n",
       "                                  dropped_cols       ars  \n",
       "243   [stcSAl, ltkOri, stbOri, stcOri, stbCeA]  0.678787  \n",
       "549   [stcSAl, ltkOri, stbOri, stcOri, stbCeA]  0.664738  \n",
       "551   [stcSAl, ltkOri, stbOri, stcOri, stbCeA]  0.664207  \n",
       "1024  [stcSAl, ltkOri, stbOri, stcOri, stbCeA]  0.661755  \n",
       "633                                         []  0.660152  \n",
       "1022  [stcSAl, ltkOri, stbOri, stcOri, stbCeA]  0.657467  \n",
       "22    [stcSAl, ltkOri, stbOri, stcOri, stbCeA]  0.656066  \n",
       "640   [stcSAl, ltkOri, stbOri, stcOri, stbCeA]  0.653409  \n",
       "105                                         []  0.651005  \n",
       "108                           [stcSAl, stcOri]  0.650455  \n",
       "60                                          []  0.649721  \n",
       "635                                         []  0.647907  \n",
       "1335  [stcSAl, ltkOri, stbOri, stcOri, stbCeA]  0.647432  \n",
       "20    [stcSAl, ltkOri, stbOri, stcOri, stbCeA]  0.644619  \n",
       "1425  [stcSAl, ltkOri, stbOri, stcOri, stbCeA]  0.643693  \n",
       "1023  [stcSAl, ltkOri, stbOri, stcOri, stbCeA]  0.641246  \n",
       "505   [stcSAl, ltkOri, stbOri, stcOri, stbCeA]  0.640846  \n",
       "594   [stcSAl, ltkOri, stbOri, stcOri, stbCeA]  0.640178  \n",
       "330   [stcSAl, ltkOri, stbOri, stcOri, stbCeA]  0.639912  \n",
       "371                           [stcSAl, stcOri]  0.639092  \n",
       "1380  [stcSAl, ltkOri, stbOri, stcOri, stbCeA]  0.637620  \n",
       "981   [stcSAl, ltkOri, stbOri, stcOri, stbCeA]  0.637493  \n",
       "1021                          [stcSAl, stcOri]  0.637252  \n",
       "1337  [stcSAl, ltkOri, stbOri, stcOri, stbCeA]  0.636821  \n",
       "370                           [stcSAl, stcOri]  0.636268  \n",
       "591                           [stcSAl, stcOri]  0.636235  \n",
       "590                                         []  0.636094  \n",
       "588                                         []  0.635903  \n",
       "106                                         []  0.634722  \n",
       "1019                          [stcSAl, stcOri]  0.634343  "
      ]
     },
     "execution_count": 16,
     "metadata": {},
     "output_type": "execute_result"
    }
   ],
   "source": [
    "results[results.min_cluster_size == 100].sort_values('ars', ascending=False).iloc[:30]"
   ]
  },
  {
   "cell_type": "code",
   "execution_count": null,
   "id": "681d9005-4979-479c-b9b3-914550892341",
   "metadata": {},
   "outputs": [],
   "source": []
  },
  {
   "cell_type": "code",
   "execution_count": null,
   "id": "d7820e20-580c-459f-bfd7-bfdc6c90819e",
   "metadata": {},
   "outputs": [],
   "source": []
  },
  {
   "cell_type": "code",
   "execution_count": null,
   "id": "e4e9452b-4b05-4334-b624-8b719ece95bb",
   "metadata": {},
   "outputs": [],
   "source": []
  },
  {
   "cell_type": "markdown",
   "id": "9d0388c5-f753-4bea-abc1-a2326c1481ec",
   "metadata": {},
   "source": [
    "----"
   ]
  },
  {
   "cell_type": "code",
   "execution_count": 17,
   "id": "9c0425b7-11a3-4be9-b88b-80dcaea4c33f",
   "metadata": {},
   "outputs": [],
   "source": [
    "from core.generate_clusters import preprocess_clustering_data, get_clusters, post_process_clusters, get_tree\n",
    "# # label building input data, could work with empty tess as well\n",
    "building_graph = graph.subgraph(graph.unique_ids[graph.unique_ids >= 0])\n",
    "labels = building_graph.component_labels"
   ]
  },
  {
   "cell_type": "code",
   "execution_count": 261,
   "id": "15910fa9-b7db-403e-b3a5-6694b418da69",
   "metadata": {},
   "outputs": [],
   "source": [
    "min_cluster_size = 100\n",
    "spatial_lag = 3\n",
    "kernel='inverse'\n",
    "# to_drop = ['stcSAl', 'stcOri']\n",
    "to_drop = [\n",
    "       'stcSAl',\n",
    "       'ltkOri',\n",
    "         'stbOri',\n",
    "         'stcOri',\n",
    "         'stbCeA'\n",
    "    ]\n",
    "lag_type = '_'\n",
    "\n",
    "clip = None\n",
    "linkage='ward'\n",
    "metric='euclidean'"
   ]
  },
  {
   "cell_type": "code",
   "execution_count": 262,
   "id": "6d42e839-db93-444e-8913-3d6006cac872",
   "metadata": {},
   "outputs": [
    {
     "name": "stdout",
     "output_type": "stream",
     "text": [
      "CPU times: user 2min 50s, sys: 13.1 s, total: 3min 3s\n",
      "Wall time: 21.2 s\n"
     ]
    }
   ],
   "source": [
    "%%time\n",
    "lag = spatially_weighted_partial_lag(X_train, graph, centroids, kernel=kernel, k=spatial_lag, n_splits=10)\n",
    "lag = lag[[c for c in lag.columns if lag_type in c]]\n",
    "clustering_data = X_train.join(lag, how='inner')"
   ]
  },
  {
   "cell_type": "code",
   "execution_count": null,
   "id": "f7c54263-437a-4bcf-8aad-7c9616a95dec",
   "metadata": {},
   "outputs": [],
   "source": []
  },
  {
   "cell_type": "code",
   "execution_count": 263,
   "id": "f9fd07f2-03e2-4e29-981c-43f25acf407e",
   "metadata": {},
   "outputs": [
    {
     "data": {
      "text/plain": [
       "(300966, 189)"
      ]
     },
     "execution_count": 263,
     "metadata": {},
     "output_type": "execute_result"
    }
   ],
   "source": [
    "clustering_data.shape"
   ]
  },
  {
   "cell_type": "code",
   "execution_count": 264,
   "id": "392e470a-2ae5-4f6c-8599-26f7ae137eeb",
   "metadata": {},
   "outputs": [
    {
     "name": "stdout",
     "output_type": "stream",
     "text": [
      "CPU times: user 38.9 s, sys: 687 ms, total: 39.6 s\n",
      "Wall time: 39.3 s\n"
     ]
    }
   ],
   "source": [
    "%%time\n",
    "region_cluster_labels = cluster_data(clustering_data, graph, to_drop, clip, min_cluster_size, linkage, metric)"
   ]
  },
  {
   "cell_type": "code",
   "execution_count": null,
   "id": "f9765d96-3bf6-43a3-ad65-ec8991fd12ad",
   "metadata": {},
   "outputs": [],
   "source": []
  },
  {
   "cell_type": "code",
   "execution_count": null,
   "id": "5cb5fc90-cc69-43f4-b7b2-95cfe397c4b6",
   "metadata": {},
   "outputs": [],
   "source": []
  },
  {
   "cell_type": "code",
   "execution_count": null,
   "id": "3028dc45-d0c6-411c-b907-03acb6498ac1",
   "metadata": {},
   "outputs": [],
   "source": []
  },
  {
   "cell_type": "code",
   "execution_count": 265,
   "id": "8cc3a094-b0c4-4050-9c76-1235fc330a2d",
   "metadata": {},
   "outputs": [],
   "source": [
    "tessellation = gpd.read_parquet(\n",
    "        tessellations_dir + f\"tessellation_{region_id}.parquet\"\n",
    ")"
   ]
  },
  {
   "cell_type": "code",
   "execution_count": 266,
   "id": "5e4beef1-364b-4d42-9296-d4b26e88d7c3",
   "metadata": {},
   "outputs": [
    {
     "data": {
      "text/plain": [
       "component labels\n",
       "444    166757\n",
       "97      18934\n",
       "550      6503\n",
       "443      3902\n",
       "438      3828\n",
       "        ...  \n",
       "605         1\n",
       "101         1\n",
       "602         1\n",
       "104         1\n",
       "125         1\n",
       "Name: count, Length: 821, dtype: int64"
      ]
     },
     "execution_count": 266,
     "metadata": {},
     "output_type": "execute_result"
    }
   ],
   "source": [
    "building_graph = graph.subgraph(graph.unique_ids[graph.unique_ids >= 0])\n",
    "labels = building_graph.component_labels\n",
    "labels.value_counts()"
   ]
  },
  {
   "cell_type": "code",
   "execution_count": 267,
   "id": "ced4354c-c8f6-4ce9-9928-7cfb2cb55390",
   "metadata": {},
   "outputs": [
    {
     "data": {
      "text/plain": [
       "(166757,)"
      ]
     },
     "execution_count": 267,
     "metadata": {},
     "output_type": "execute_result"
    }
   ],
   "source": [
    "label = 444\n",
    "labels.groupby(labels).get_group(label).shape"
   ]
  },
  {
   "cell_type": "code",
   "execution_count": 268,
   "id": "bf4136f5-8356-47ba-a7d8-736345f49eb4",
   "metadata": {},
   "outputs": [],
   "source": [
    "# tessellation.loc[labels.groupby(labels).get_group(label).index.values].explore(column=results[label], categorical=True)"
   ]
  },
  {
   "cell_type": "code",
   "execution_count": 269,
   "id": "e593d401-ff91-4141-a4f8-6461961e227c",
   "metadata": {},
   "outputs": [],
   "source": [
    "# buildings = gpd.read_parquet(f'/data/uscuni-ulce/processed_data/buildings/buildings_{region_id}.parquet')"
   ]
  },
  {
   "cell_type": "code",
   "execution_count": null,
   "id": "7f5b51a0-c338-402a-8e61-13185468ee2a",
   "metadata": {},
   "outputs": [],
   "source": []
  },
  {
   "cell_type": "code",
   "execution_count": 291,
   "id": "9a7d820c-6be3-450f-b1d4-41a402239321",
   "metadata": {},
   "outputs": [
    {
     "data": {
      "text/plain": [
       "(166757, 4)"
      ]
     },
     "execution_count": 291,
     "metadata": {},
     "output_type": "execute_result"
    }
   ],
   "source": [
    "plotting = tessellation.loc[labels.groupby(labels).get_group(label).index.values].reset_index()\n",
    "plotting['label'] = region_cluster_labels[region_cluster_labels.str.startswith(str(label))].values\n",
    "# plotting['label'] = plotting['label']\n",
    "plotting['label'] = plotting['label'].str.split('_').str[1].astype(int)\n",
    "plotting.shape"
   ]
  },
  {
   "cell_type": "code",
   "execution_count": 292,
   "id": "cbc5aa0c-f629-4dea-a76a-84b9c17475c3",
   "metadata": {},
   "outputs": [],
   "source": [
    "# layer.get_fill_color = get_color(plotting['label'].values)"
   ]
  },
  {
   "cell_type": "code",
   "execution_count": 293,
   "id": "40e40ae0-0a2b-4541-b715-64ee6bac0c69",
   "metadata": {
    "scrolled": true
   },
   "outputs": [
    {
     "data": {
      "text/plain": [
       "849"
      ]
     },
     "execution_count": 293,
     "metadata": {},
     "output_type": "execute_result"
    }
   ],
   "source": [
    "plotting['label'].nunique()"
   ]
  },
  {
   "cell_type": "code",
   "execution_count": null,
   "id": "4f03a159-0f6f-4fd0-a258-4157a634417b",
   "metadata": {},
   "outputs": [],
   "source": []
  },
  {
   "cell_type": "code",
   "execution_count": null,
   "id": "6e43fe9c-e692-4bd8-8097-23f3180a4027",
   "metadata": {},
   "outputs": [],
   "source": []
  },
  {
   "cell_type": "code",
   "execution_count": null,
   "id": "54570b18-0fd1-4905-9ac0-ceef67ccead1",
   "metadata": {},
   "outputs": [],
   "source": []
  },
  {
   "cell_type": "code",
   "execution_count": null,
   "id": "5bbdec22-0aae-4682-a388-1c682bcbe415",
   "metadata": {},
   "outputs": [],
   "source": []
  },
  {
   "cell_type": "code",
   "execution_count": null,
   "id": "926b43a1-9e4c-43e3-a5f4-1f3d614b3799",
   "metadata": {},
   "outputs": [],
   "source": []
  },
  {
   "cell_type": "code",
   "execution_count": 294,
   "id": "b5fa29e0-7c80-4ad9-b431-50b4047f5ad3",
   "metadata": {},
   "outputs": [],
   "source": [
    "# buildings = gpd.read_parquet(buildings_dir + 'buildings_freiburg.parquet')\n",
    "# plotting = buildings"
   ]
  },
  {
   "cell_type": "code",
   "execution_count": null,
   "id": "a6d52001-8540-4171-9877-c3f5c1284111",
   "metadata": {},
   "outputs": [],
   "source": []
  },
  {
   "cell_type": "code",
   "execution_count": null,
   "id": "0ce0f86b-0099-4e21-811a-d0e20cfbcbb6",
   "metadata": {},
   "outputs": [],
   "source": []
  },
  {
   "cell_type": "code",
   "execution_count": 295,
   "id": "ff702bbb-4dd5-4ecd-a86b-6eab21489e73",
   "metadata": {},
   "outputs": [
    {
     "name": "stderr",
     "output_type": "stream",
     "text": [
      "/home/krasen/miniconda3/envs/urban_taxonomy/lib/python3.12/site-packages/lonboard/_geoarrow/ops/reproject.py:97: UserWarning: Input being reprojected to EPSG:4326 CRS\n",
      "  warnings.warn(\"Input being reprojected to EPSG:4326 CRS\")\n"
     ]
    },
    {
     "name": "stdout",
     "output_type": "stream",
     "text": [
      "CPU times: user 2.89 s, sys: 252 ms, total: 3.14 s\n",
      "Wall time: 3.14 s\n"
     ]
    }
   ],
   "source": [
    "%%time\n",
    "import lonboard\n",
    "# plotting = tessellation[tessellation.index.isin(X_train.index)].copy()\n",
    "layer = lonboard.SolidPolygonLayer.from_geopandas(plotting, opacity=.08)"
   ]
  },
  {
   "cell_type": "code",
   "execution_count": null,
   "id": "f2279c97-8bb3-4f97-aaed-ad28faea9066",
   "metadata": {},
   "outputs": [],
   "source": []
  },
  {
   "cell_type": "code",
   "execution_count": null,
   "id": "62715d22-73ea-45d2-92b2-e96c42b2f59d",
   "metadata": {},
   "outputs": [],
   "source": []
  },
  {
   "cell_type": "code",
   "execution_count": 296,
   "id": "554fb4c0-4eb8-44a5-8503-d96f15dd7c5b",
   "metadata": {},
   "outputs": [],
   "source": [
    "from sidecar import Sidecar\n",
    "sc = Sidecar(title='Morphotopes')\n",
    "m = lonboard.Map(layer, basemap_style=lonboard.basemap.CartoBasemap.Positron)\n",
    "with sc:\n",
    "    display(m)\n",
    "\n",
    "from core.cluster_validation import get_color\n",
    "layer.get_fill_color = get_color(plotting['label'].values)"
   ]
  },
  {
   "cell_type": "code",
   "execution_count": 275,
   "id": "8050b832-0cb6-46ef-a989-dd5fb4c8093f",
   "metadata": {},
   "outputs": [],
   "source": [
    "# layer.get_fill_color = get_color(plotting['label'].values)"
   ]
  },
  {
   "cell_type": "code",
   "execution_count": null,
   "id": "c3d4b0af-d876-4809-b1ca-c0416cfcfd4c",
   "metadata": {},
   "outputs": [],
   "source": []
  },
  {
   "cell_type": "code",
   "execution_count": null,
   "id": "a2d6526b-f005-426e-9c36-44cc4cd0f389",
   "metadata": {},
   "outputs": [],
   "source": []
  },
  {
   "cell_type": "code",
   "execution_count": null,
   "id": "e16ffa5c-7238-4b73-9d4c-cbd8ff91496c",
   "metadata": {},
   "outputs": [],
   "source": []
  },
  {
   "cell_type": "code",
   "execution_count": null,
   "id": "846e67de-d4c7-40a9-8fea-45c22c7f669e",
   "metadata": {},
   "outputs": [],
   "source": []
  },
  {
   "cell_type": "code",
   "execution_count": 190,
   "id": "53410343-76a7-4107-98d0-42801c7f44d6",
   "metadata": {
    "scrolled": true
   },
   "outputs": [
    {
     "name": "stdout",
     "output_type": "stream",
     "text": [
      "CPU times: user 24.7 s, sys: 1.33 ms, total: 24.7 s\n",
      "Wall time: 24.7 s\n"
     ]
    }
   ],
   "source": [
    "%%time\n",
    "\n",
    "clrs_geometry = tessellation.loc[region_cluster_labels.index]\n",
    "clrs_geometry['label'] = region_cluster_labels.values\n",
    "clrs_geometry = clrs_geometry.dissolve('label').simplify(1).to_frame()\n",
    "clrs_geometry.columns = ['geometry']\n",
    "clrs_geometry = clrs_geometry.set_geometry('geometry')"
   ]
  },
  {
   "cell_type": "code",
   "execution_count": 291,
   "id": "cbe06891-dc6b-496e-b69e-6bf7875b369c",
   "metadata": {},
   "outputs": [],
   "source": [
    "# clrs_geometry.explore()"
   ]
  },
  {
   "cell_type": "code",
   "execution_count": null,
   "id": "b9e66b11-60c0-42ec-954c-4f4b8ff82d53",
   "metadata": {},
   "outputs": [],
   "source": []
  },
  {
   "cell_type": "code",
   "execution_count": 292,
   "id": "f23ce599-5f6e-4043-8963-a5f400394674",
   "metadata": {},
   "outputs": [],
   "source": [
    "clrs_geometry.to_parquet(f'../data/morphotopes_{region_id}_{min_cluster_size}_{spatial_lag}_{kernel}.pq')"
   ]
  },
  {
   "cell_type": "code",
   "execution_count": null,
   "id": "8c64487d-efad-4137-a5ba-c702e3be58b0",
   "metadata": {},
   "outputs": [],
   "source": []
  },
  {
   "cell_type": "code",
   "execution_count": null,
   "id": "b7fc7ca9-d90d-45ae-88fc-ca19b5618f8d",
   "metadata": {},
   "outputs": [],
   "source": []
  },
  {
   "cell_type": "code",
   "execution_count": null,
   "id": "1e829bd1-467c-4929-98e7-4833448ec664",
   "metadata": {},
   "outputs": [],
   "source": []
  },
  {
   "cell_type": "code",
   "execution_count": null,
   "id": "1a355ac4-fc08-470e-83f4-9665be617f09",
   "metadata": {},
   "outputs": [],
   "source": []
  },
  {
   "cell_type": "code",
   "execution_count": null,
   "id": "ae12cf64-2dde-4828-b4e4-fac1daa73097",
   "metadata": {},
   "outputs": [],
   "source": []
  },
  {
   "cell_type": "markdown",
   "id": "293b9dfc-260e-42dd-bfe8-7f91df7f7fdf",
   "metadata": {},
   "source": [
    "----"
   ]
  },
  {
   "cell_type": "code",
   "execution_count": 276,
   "id": "02c0ceab-1c44-4177-9866-a34c9109a133",
   "metadata": {},
   "outputs": [],
   "source": [
    "def percentile(n):\n",
    "    def percentile_(x):\n",
    "        return np.percentile(x, n)\n",
    "    percentile_.__name__ = 'percentile_%s' % n\n",
    "    return percentile_"
   ]
  },
  {
   "cell_type": "code",
   "execution_count": 277,
   "id": "5c8c8e47-3c0d-453c-b542-e0985bf2ba80",
   "metadata": {},
   "outputs": [],
   "source": [
    "# component_data = X_train.loc[labels.groupby(labels).get_group(label).index.values]\n",
    "\n",
    "component_data = X_train.loc[region_cluster_labels.index]"
   ]
  },
  {
   "cell_type": "code",
   "execution_count": 278,
   "id": "90d6e36f-d07e-4d6a-8b35-8ea548ba9667",
   "metadata": {},
   "outputs": [],
   "source": [
    "# component_data = component_data.groupby(results[label]).agg([np.min, np.median, np.max])"
   ]
  },
  {
   "cell_type": "code",
   "execution_count": 279,
   "id": "b8eb97db-d7dd-4290-b847-4f32e05ab744",
   "metadata": {},
   "outputs": [],
   "source": [
    "# component_data = component_data.groupby(results[label]).agg([percentile(10), \n",
    "#                                                              'median', \n",
    "#                                                              percentile(90)])"
   ]
  },
  {
   "cell_type": "code",
   "execution_count": 280,
   "id": "48da6d24-9fe5-4cfb-b53e-233b9f1410fe",
   "metadata": {},
   "outputs": [
    {
     "name": "stdout",
     "output_type": "stream",
     "text": [
      "CPU times: user 14 s, sys: 445 μs, total: 14 s\n",
      "Wall time: 14 s\n"
     ]
    }
   ],
   "source": [
    "%%time\n",
    "component_data = component_data.groupby(region_cluster_labels.values).agg([percentile(10), \n",
    "                                                             'median', \n",
    "                                                             percentile(90)])"
   ]
  },
  {
   "cell_type": "code",
   "execution_count": 281,
   "id": "c0e4cce1-6247-4f80-a72c-70567fe71cc4",
   "metadata": {},
   "outputs": [
    {
     "data": {
      "text/html": [
       "<div>\n",
       "<style scoped>\n",
       "    .dataframe tbody tr th:only-of-type {\n",
       "        vertical-align: middle;\n",
       "    }\n",
       "\n",
       "    .dataframe tbody tr th {\n",
       "        vertical-align: top;\n",
       "    }\n",
       "\n",
       "    .dataframe thead tr th {\n",
       "        text-align: left;\n",
       "    }\n",
       "</style>\n",
       "<table border=\"1\" class=\"dataframe\">\n",
       "  <thead>\n",
       "    <tr>\n",
       "      <th></th>\n",
       "      <th colspan=\"3\" halign=\"left\">sdbAre</th>\n",
       "      <th colspan=\"3\" halign=\"left\">sdbPer</th>\n",
       "      <th colspan=\"3\" halign=\"left\">sdbCoA</th>\n",
       "      <th>ssbCCo</th>\n",
       "      <th>...</th>\n",
       "      <th>ltkWNB</th>\n",
       "      <th colspan=\"3\" halign=\"left\">likWBB</th>\n",
       "      <th colspan=\"3\" halign=\"left\">sdsAre</th>\n",
       "      <th colspan=\"3\" halign=\"left\">likWCe</th>\n",
       "    </tr>\n",
       "    <tr>\n",
       "      <th></th>\n",
       "      <th>percentile_10</th>\n",
       "      <th>median</th>\n",
       "      <th>percentile_90</th>\n",
       "      <th>percentile_10</th>\n",
       "      <th>median</th>\n",
       "      <th>percentile_90</th>\n",
       "      <th>percentile_10</th>\n",
       "      <th>median</th>\n",
       "      <th>percentile_90</th>\n",
       "      <th>percentile_10</th>\n",
       "      <th>...</th>\n",
       "      <th>percentile_90</th>\n",
       "      <th>percentile_10</th>\n",
       "      <th>median</th>\n",
       "      <th>percentile_90</th>\n",
       "      <th>percentile_10</th>\n",
       "      <th>median</th>\n",
       "      <th>percentile_90</th>\n",
       "      <th>percentile_10</th>\n",
       "      <th>median</th>\n",
       "      <th>percentile_90</th>\n",
       "    </tr>\n",
       "  </thead>\n",
       "  <tbody>\n",
       "    <tr>\n",
       "      <th>0_0</th>\n",
       "      <td>50.431910</td>\n",
       "      <td>129.506400</td>\n",
       "      <td>189.268428</td>\n",
       "      <td>28.477387</td>\n",
       "      <td>47.959910</td>\n",
       "      <td>68.387218</td>\n",
       "      <td>0.0</td>\n",
       "      <td>0.0</td>\n",
       "      <td>0.0</td>\n",
       "      <td>0.340299</td>\n",
       "      <td>...</td>\n",
       "      <td>0.014160</td>\n",
       "      <td>0.040117</td>\n",
       "      <td>0.040117</td>\n",
       "      <td>0.091724</td>\n",
       "      <td>2460.788489</td>\n",
       "      <td>19692.742600</td>\n",
       "      <td>70489.049361</td>\n",
       "      <td>0.000361</td>\n",
       "      <td>0.000361</td>\n",
       "      <td>0.001072</td>\n",
       "    </tr>\n",
       "    <tr>\n",
       "      <th>0_1</th>\n",
       "      <td>22.450663</td>\n",
       "      <td>40.500270</td>\n",
       "      <td>72.143073</td>\n",
       "      <td>20.305210</td>\n",
       "      <td>26.078289</td>\n",
       "      <td>36.631831</td>\n",
       "      <td>0.0</td>\n",
       "      <td>0.0</td>\n",
       "      <td>0.0</td>\n",
       "      <td>0.508787</td>\n",
       "      <td>...</td>\n",
       "      <td>0.002193</td>\n",
       "      <td>0.010392</td>\n",
       "      <td>0.026612</td>\n",
       "      <td>0.040117</td>\n",
       "      <td>61505.780389</td>\n",
       "      <td>167262.378634</td>\n",
       "      <td>167262.378634</td>\n",
       "      <td>0.000218</td>\n",
       "      <td>0.000468</td>\n",
       "      <td>0.000468</td>\n",
       "    </tr>\n",
       "    <tr>\n",
       "      <th>0_2</th>\n",
       "      <td>47.800229</td>\n",
       "      <td>126.558356</td>\n",
       "      <td>423.564662</td>\n",
       "      <td>27.930002</td>\n",
       "      <td>49.462511</td>\n",
       "      <td>111.119403</td>\n",
       "      <td>0.0</td>\n",
       "      <td>0.0</td>\n",
       "      <td>0.0</td>\n",
       "      <td>0.332137</td>\n",
       "      <td>...</td>\n",
       "      <td>0.003395</td>\n",
       "      <td>0.028519</td>\n",
       "      <td>0.047607</td>\n",
       "      <td>0.112097</td>\n",
       "      <td>12984.039380</td>\n",
       "      <td>70770.755378</td>\n",
       "      <td>131183.374773</td>\n",
       "      <td>0.000160</td>\n",
       "      <td>0.000235</td>\n",
       "      <td>0.000468</td>\n",
       "    </tr>\n",
       "    <tr>\n",
       "      <th>0_3</th>\n",
       "      <td>36.687783</td>\n",
       "      <td>119.196541</td>\n",
       "      <td>207.176196</td>\n",
       "      <td>25.011358</td>\n",
       "      <td>47.123508</td>\n",
       "      <td>70.772197</td>\n",
       "      <td>0.0</td>\n",
       "      <td>0.0</td>\n",
       "      <td>0.0</td>\n",
       "      <td>0.366738</td>\n",
       "      <td>...</td>\n",
       "      <td>0.001579</td>\n",
       "      <td>0.033214</td>\n",
       "      <td>0.062432</td>\n",
       "      <td>0.062432</td>\n",
       "      <td>24763.891147</td>\n",
       "      <td>107198.886782</td>\n",
       "      <td>123089.340398</td>\n",
       "      <td>0.000230</td>\n",
       "      <td>0.000438</td>\n",
       "      <td>0.000438</td>\n",
       "    </tr>\n",
       "    <tr>\n",
       "      <th>0_4</th>\n",
       "      <td>62.496906</td>\n",
       "      <td>145.223574</td>\n",
       "      <td>307.573754</td>\n",
       "      <td>33.165253</td>\n",
       "      <td>54.569879</td>\n",
       "      <td>79.672309</td>\n",
       "      <td>0.0</td>\n",
       "      <td>0.0</td>\n",
       "      <td>0.0</td>\n",
       "      <td>0.329270</td>\n",
       "      <td>...</td>\n",
       "      <td>0.008381</td>\n",
       "      <td>0.062432</td>\n",
       "      <td>0.062432</td>\n",
       "      <td>0.112097</td>\n",
       "      <td>14898.820459</td>\n",
       "      <td>42739.459364</td>\n",
       "      <td>95028.714504</td>\n",
       "      <td>0.000160</td>\n",
       "      <td>0.000438</td>\n",
       "      <td>0.000438</td>\n",
       "    </tr>\n",
       "    <tr>\n",
       "      <th>...</th>\n",
       "      <td>...</td>\n",
       "      <td>...</td>\n",
       "      <td>...</td>\n",
       "      <td>...</td>\n",
       "      <td>...</td>\n",
       "      <td>...</td>\n",
       "      <td>...</td>\n",
       "      <td>...</td>\n",
       "      <td>...</td>\n",
       "      <td>...</td>\n",
       "      <td>...</td>\n",
       "      <td>...</td>\n",
       "      <td>...</td>\n",
       "      <td>...</td>\n",
       "      <td>...</td>\n",
       "      <td>...</td>\n",
       "      <td>...</td>\n",
       "      <td>...</td>\n",
       "      <td>...</td>\n",
       "      <td>...</td>\n",
       "      <td>...</td>\n",
       "    </tr>\n",
       "    <tr>\n",
       "      <th>97_98</th>\n",
       "      <td>27.673149</td>\n",
       "      <td>98.053678</td>\n",
       "      <td>182.204007</td>\n",
       "      <td>23.151726</td>\n",
       "      <td>42.473135</td>\n",
       "      <td>63.416552</td>\n",
       "      <td>0.0</td>\n",
       "      <td>0.0</td>\n",
       "      <td>0.0</td>\n",
       "      <td>0.365039</td>\n",
       "      <td>...</td>\n",
       "      <td>0.017978</td>\n",
       "      <td>0.035764</td>\n",
       "      <td>0.087199</td>\n",
       "      <td>0.151957</td>\n",
       "      <td>1652.426109</td>\n",
       "      <td>10467.884099</td>\n",
       "      <td>78942.323704</td>\n",
       "      <td>0.000434</td>\n",
       "      <td>0.001053</td>\n",
       "      <td>0.001385</td>\n",
       "    </tr>\n",
       "    <tr>\n",
       "      <th>97_99</th>\n",
       "      <td>31.083107</td>\n",
       "      <td>383.613414</td>\n",
       "      <td>1267.655446</td>\n",
       "      <td>23.931708</td>\n",
       "      <td>85.798197</td>\n",
       "      <td>196.382112</td>\n",
       "      <td>0.0</td>\n",
       "      <td>0.0</td>\n",
       "      <td>0.0</td>\n",
       "      <td>0.332347</td>\n",
       "      <td>...</td>\n",
       "      <td>0.002316</td>\n",
       "      <td>0.087953</td>\n",
       "      <td>0.087953</td>\n",
       "      <td>0.087953</td>\n",
       "      <td>16321.975073</td>\n",
       "      <td>104310.674242</td>\n",
       "      <td>147584.808700</td>\n",
       "      <td>0.000200</td>\n",
       "      <td>0.000200</td>\n",
       "      <td>0.000200</td>\n",
       "    </tr>\n",
       "    <tr>\n",
       "      <th>98_0</th>\n",
       "      <td>35.877317</td>\n",
       "      <td>111.071679</td>\n",
       "      <td>238.130040</td>\n",
       "      <td>25.036704</td>\n",
       "      <td>45.037252</td>\n",
       "      <td>80.795081</td>\n",
       "      <td>0.0</td>\n",
       "      <td>0.0</td>\n",
       "      <td>0.0</td>\n",
       "      <td>0.311350</td>\n",
       "      <td>...</td>\n",
       "      <td>0.005695</td>\n",
       "      <td>0.046036</td>\n",
       "      <td>0.048799</td>\n",
       "      <td>0.097315</td>\n",
       "      <td>5304.438107</td>\n",
       "      <td>26961.385137</td>\n",
       "      <td>55882.186731</td>\n",
       "      <td>0.000303</td>\n",
       "      <td>0.000385</td>\n",
       "      <td>0.000824</td>\n",
       "    </tr>\n",
       "    <tr>\n",
       "      <th>99_1.0</th>\n",
       "      <td>23.091876</td>\n",
       "      <td>107.072139</td>\n",
       "      <td>209.672918</td>\n",
       "      <td>19.489652</td>\n",
       "      <td>47.519881</td>\n",
       "      <td>76.615534</td>\n",
       "      <td>0.0</td>\n",
       "      <td>0.0</td>\n",
       "      <td>0.0</td>\n",
       "      <td>0.281054</td>\n",
       "      <td>...</td>\n",
       "      <td>0.009741</td>\n",
       "      <td>0.026510</td>\n",
       "      <td>0.029289</td>\n",
       "      <td>0.112570</td>\n",
       "      <td>3418.096626</td>\n",
       "      <td>18008.153677</td>\n",
       "      <td>86011.816290</td>\n",
       "      <td>0.000231</td>\n",
       "      <td>0.000242</td>\n",
       "      <td>0.000775</td>\n",
       "    </tr>\n",
       "    <tr>\n",
       "      <th>9_1.0</th>\n",
       "      <td>33.647653</td>\n",
       "      <td>151.531026</td>\n",
       "      <td>274.986807</td>\n",
       "      <td>23.906052</td>\n",
       "      <td>52.922599</td>\n",
       "      <td>84.405544</td>\n",
       "      <td>0.0</td>\n",
       "      <td>0.0</td>\n",
       "      <td>0.0</td>\n",
       "      <td>0.334576</td>\n",
       "      <td>...</td>\n",
       "      <td>0.002934</td>\n",
       "      <td>0.049616</td>\n",
       "      <td>0.049616</td>\n",
       "      <td>0.057496</td>\n",
       "      <td>17157.055013</td>\n",
       "      <td>33889.023892</td>\n",
       "      <td>50303.227712</td>\n",
       "      <td>0.000314</td>\n",
       "      <td>0.000314</td>\n",
       "      <td>0.000366</td>\n",
       "    </tr>\n",
       "  </tbody>\n",
       "</table>\n",
       "<p>2178 rows × 189 columns</p>\n",
       "</div>"
      ],
      "text/plain": [
       "              sdbAre                                  sdbPer             \\\n",
       "       percentile_10      median percentile_90 percentile_10     median   \n",
       "0_0        50.431910  129.506400    189.268428     28.477387  47.959910   \n",
       "0_1        22.450663   40.500270     72.143073     20.305210  26.078289   \n",
       "0_2        47.800229  126.558356    423.564662     27.930002  49.462511   \n",
       "0_3        36.687783  119.196541    207.176196     25.011358  47.123508   \n",
       "0_4        62.496906  145.223574    307.573754     33.165253  54.569879   \n",
       "...              ...         ...           ...           ...        ...   \n",
       "97_98      27.673149   98.053678    182.204007     23.151726  42.473135   \n",
       "97_99      31.083107  383.613414   1267.655446     23.931708  85.798197   \n",
       "98_0       35.877317  111.071679    238.130040     25.036704  45.037252   \n",
       "99_1.0     23.091876  107.072139    209.672918     19.489652  47.519881   \n",
       "9_1.0      33.647653  151.531026    274.986807     23.906052  52.922599   \n",
       "\n",
       "                            sdbCoA                             ssbCCo  ...  \\\n",
       "       percentile_90 percentile_10 median percentile_90 percentile_10  ...   \n",
       "0_0        68.387218           0.0    0.0           0.0      0.340299  ...   \n",
       "0_1        36.631831           0.0    0.0           0.0      0.508787  ...   \n",
       "0_2       111.119403           0.0    0.0           0.0      0.332137  ...   \n",
       "0_3        70.772197           0.0    0.0           0.0      0.366738  ...   \n",
       "0_4        79.672309           0.0    0.0           0.0      0.329270  ...   \n",
       "...              ...           ...    ...           ...           ...  ...   \n",
       "97_98      63.416552           0.0    0.0           0.0      0.365039  ...   \n",
       "97_99     196.382112           0.0    0.0           0.0      0.332347  ...   \n",
       "98_0       80.795081           0.0    0.0           0.0      0.311350  ...   \n",
       "99_1.0     76.615534           0.0    0.0           0.0      0.281054  ...   \n",
       "9_1.0      84.405544           0.0    0.0           0.0      0.334576  ...   \n",
       "\n",
       "              ltkWNB        likWBB                                sdsAre  \\\n",
       "       percentile_90 percentile_10    median percentile_90 percentile_10   \n",
       "0_0         0.014160      0.040117  0.040117      0.091724   2460.788489   \n",
       "0_1         0.002193      0.010392  0.026612      0.040117  61505.780389   \n",
       "0_2         0.003395      0.028519  0.047607      0.112097  12984.039380   \n",
       "0_3         0.001579      0.033214  0.062432      0.062432  24763.891147   \n",
       "0_4         0.008381      0.062432  0.062432      0.112097  14898.820459   \n",
       "...              ...           ...       ...           ...           ...   \n",
       "97_98       0.017978      0.035764  0.087199      0.151957   1652.426109   \n",
       "97_99       0.002316      0.087953  0.087953      0.087953  16321.975073   \n",
       "98_0        0.005695      0.046036  0.048799      0.097315   5304.438107   \n",
       "99_1.0      0.009741      0.026510  0.029289      0.112570   3418.096626   \n",
       "9_1.0       0.002934      0.049616  0.049616      0.057496  17157.055013   \n",
       "\n",
       "                                            likWCe                          \n",
       "               median  percentile_90 percentile_10    median percentile_90  \n",
       "0_0      19692.742600   70489.049361      0.000361  0.000361      0.001072  \n",
       "0_1     167262.378634  167262.378634      0.000218  0.000468      0.000468  \n",
       "0_2      70770.755378  131183.374773      0.000160  0.000235      0.000468  \n",
       "0_3     107198.886782  123089.340398      0.000230  0.000438      0.000438  \n",
       "0_4      42739.459364   95028.714504      0.000160  0.000438      0.000438  \n",
       "...               ...            ...           ...       ...           ...  \n",
       "97_98    10467.884099   78942.323704      0.000434  0.001053      0.001385  \n",
       "97_99   104310.674242  147584.808700      0.000200  0.000200      0.000200  \n",
       "98_0     26961.385137   55882.186731      0.000303  0.000385      0.000824  \n",
       "99_1.0   18008.153677   86011.816290      0.000231  0.000242      0.000775  \n",
       "9_1.0    33889.023892   50303.227712      0.000314  0.000314      0.000366  \n",
       "\n",
       "[2178 rows x 189 columns]"
      ]
     },
     "execution_count": 281,
     "metadata": {},
     "output_type": "execute_result"
    }
   ],
   "source": [
    "component_data"
   ]
  },
  {
   "cell_type": "code",
   "execution_count": 282,
   "id": "cec98e3d-994c-4eb2-91d2-e84d7910d282",
   "metadata": {},
   "outputs": [],
   "source": [
    "vals = StandardScaler().fit_transform(component_data)\n",
    "component_data = pd.DataFrame(vals, columns=component_data.columns, index=component_data.index)\n"
   ]
  },
  {
   "cell_type": "code",
   "execution_count": 283,
   "id": "020328c1-c5b0-4a02-92a0-89fb061c1155",
   "metadata": {},
   "outputs": [],
   "source": [
    "\n",
    "# component_data = component_data[component_data.index >= 0]\n",
    "vals = np.nan_to_num(component_data)\n",
    "component_data = pd.DataFrame(vals, columns=component_data.columns, index=component_data.index)"
   ]
  },
  {
   "cell_type": "code",
   "execution_count": null,
   "id": "bd22769d-c4db-495a-9979-13346a07162c",
   "metadata": {},
   "outputs": [],
   "source": []
  },
  {
   "cell_type": "code",
   "execution_count": 284,
   "id": "e6d41390-dc78-4058-b48a-7f9a318b2102",
   "metadata": {},
   "outputs": [],
   "source": [
    "umap_metric ='cosine'"
   ]
  },
  {
   "cell_type": "code",
   "execution_count": 285,
   "id": "80350e06-ae54-4149-a375-f624dca07d35",
   "metadata": {},
   "outputs": [
    {
     "name": "stdout",
     "output_type": "stream",
     "text": [
      "UMAP(angular_rp_forest=True, metric='cosine', min_dist=0, n_components=25, n_neighbors=10, negative_sample_rate=10, verbose=True)\n",
      "Wed Aug 28 17:09:32 2024 Construct fuzzy simplicial set\n",
      "Wed Aug 28 17:09:33 2024 Finding Nearest Neighbors\n",
      "Wed Aug 28 17:09:33 2024 Finished Nearest Neighbor Search\n",
      "Wed Aug 28 17:09:33 2024 Construct embedding\n"
     ]
    },
    {
     "data": {
      "application/vnd.jupyter.widget-view+json": {
       "model_id": "4f468f5694a34b37af19d31ae17c3913",
       "version_major": 2,
       "version_minor": 0
      },
      "text/plain": [
       "Epochs completed:   0%|            0/500 [00:00]"
      ]
     },
     "metadata": {},
     "output_type": "display_data"
    },
    {
     "name": "stdout",
     "output_type": "stream",
     "text": [
      "\tcompleted  0  /  500 epochs\n",
      "\tcompleted  50  /  500 epochs\n",
      "\tcompleted  100  /  500 epochs\n",
      "\tcompleted  150  /  500 epochs\n",
      "\tcompleted  200  /  500 epochs\n",
      "\tcompleted  250  /  500 epochs\n",
      "\tcompleted  300  /  500 epochs\n",
      "\tcompleted  350  /  500 epochs\n",
      "\tcompleted  400  /  500 epochs\n",
      "\tcompleted  450  /  500 epochs\n",
      "Wed Aug 28 17:09:37 2024 Finished embedding\n"
     ]
    }
   ],
   "source": [
    "import umap\n",
    "import umap.plot\n",
    "\n",
    "reducer = umap.UMAP(n_neighbors=10, n_components=25, min_dist=0, negative_sample_rate=10, metric=umap_metric, verbose=True)\n",
    "# reducer = umap.UMAP(n_neighbors=10, n_components=2, min_dist=0, metric='cosine', verbose=True)\n",
    "embedding = reducer.fit_transform(component_data)\n",
    "# umap.plot.points(reducer)"
   ]
  },
  {
   "cell_type": "code",
   "execution_count": null,
   "id": "67859769-2550-4b95-a036-00252ac2a976",
   "metadata": {},
   "outputs": [],
   "source": []
  },
  {
   "cell_type": "code",
   "execution_count": null,
   "id": "50088742-45c2-42da-a092-8a1e8ae85c88",
   "metadata": {},
   "outputs": [],
   "source": []
  },
  {
   "cell_type": "code",
   "execution_count": 286,
   "id": "f113cdf9-c85b-4390-b586-ffdf3f8aad9c",
   "metadata": {},
   "outputs": [],
   "source": [
    "final_linkage = 'complete'\n"
   ]
  },
  {
   "cell_type": "code",
   "execution_count": 287,
   "id": "88c68a9d-510a-49ea-ba98-d28ebd0576c4",
   "metadata": {},
   "outputs": [],
   "source": [
    "clusterer = AgglomerativeClustering(linkage=final_linkage,\n",
    "                                    compute_full_tree=True,\n",
    "                                    compute_distances=True)\n",
    "model = clusterer.fit(embedding)\n",
    "linkage_matrix = get_linkage_matrix(model)"
   ]
  },
  {
   "cell_type": "code",
   "execution_count": 288,
   "id": "f48da5c5-1a1f-42d3-806f-921d69b81a30",
   "metadata": {},
   "outputs": [
    {
     "data": {
      "image/png": "[encoded data removed]",
      "text/plain": [
       "<Figure size 2000x1000 with 1 Axes>"
      ]
     },
     "metadata": {},
     "output_type": "display_data"
    }
   ],
   "source": [
    "fig,ax = plt.subplots(figsize=(20,10))\n",
    "_ = dendrogram(linkage_matrix, ax=ax)"
   ]
  },
  {
   "cell_type": "code",
   "execution_count": 308,
   "id": "94a6707d-92c9-4aee-a61c-714f701e0a70",
   "metadata": {},
   "outputs": [],
   "source": [
    "cutoff = 1.5"
   ]
  },
  {
   "cell_type": "code",
   "execution_count": 309,
   "id": "8d18b997-b304-4501-a662-c24cf6636d52",
   "metadata": {},
   "outputs": [],
   "source": [
    "clusters = fcluster(linkage_matrix, t=cutoff, criterion='distance')"
   ]
  },
  {
   "cell_type": "code",
   "execution_count": null,
   "id": "e342064b-ba1b-485f-8a37-aa1bb73df002",
   "metadata": {},
   "outputs": [],
   "source": []
  },
  {
   "cell_type": "code",
   "execution_count": 310,
   "id": "060b7c5e-d461-4613-83aa-96d6452f9ac4",
   "metadata": {},
   "outputs": [],
   "source": [
    "# from sklearn.cluster import KMeans, MiniBatchKMeans\n",
    "# from sklearn.metrics import adjusted_rand_score\n",
    "# clusters = KMeans(n_clusters=25, max_iter=5000, n_init=300).fit(embedding).labels_"
   ]
  },
  {
   "cell_type": "code",
   "execution_count": 311,
   "id": "96574337-237b-4a67-8c73-4f8c27f78d44",
   "metadata": {},
   "outputs": [],
   "source": [
    "# morh_clusters = results[label]\n",
    "morh_clusters = region_cluster_labels.values"
   ]
  },
  {
   "cell_type": "code",
   "execution_count": 312,
   "id": "623b043e-3ead-40ba-aeb4-9ba0b9b6d301",
   "metadata": {},
   "outputs": [],
   "source": [
    "clusters = pd.Series(clusters, index=component_data.index.values)\n",
    "clusters = clusters.loc[morh_clusters].values"
   ]
  },
  {
   "cell_type": "code",
   "execution_count": null,
   "id": "8a1f0e54-cc63-4f12-a057-56c99997de44",
   "metadata": {},
   "outputs": [],
   "source": []
  },
  {
   "cell_type": "code",
   "execution_count": 313,
   "id": "a3b776cb-dbf4-4b95-820a-0d837eb7105a",
   "metadata": {},
   "outputs": [],
   "source": [
    "# assert clusters.shape == results[label].shape\n",
    "\n",
    "# for i in np.unique(results[label]):\n",
    "#     idxs = np.where(results[label] == i)[0]\n",
    "#     old_clusters = results[label][idxs]\n",
    "#     new_clusters = clusters[idxs]\n",
    "#     assert np.unique(old_clusters).shape[0] == 1\n",
    "#     assert np.unique(new_clusters).shape[0] == 1\n",
    "    "
   ]
  },
  {
   "cell_type": "code",
   "execution_count": null,
   "id": "fe6689a6-760e-4f00-ab54-38e7bc851c50",
   "metadata": {},
   "outputs": [],
   "source": []
  },
  {
   "cell_type": "code",
   "execution_count": 314,
   "id": "154c2d6b-f09e-4067-99d7-b4525829250f",
   "metadata": {},
   "outputs": [
    {
     "data": {
      "text/plain": [
       "(array([ 1,  2,  3,  4,  5,  6,  7,  8,  9, 10, 11, 12, 13, 14, 15, 16, 17,\n",
       "        18, 19, 20, 21, 22, 23, 24, 25, 26, 27, 28, 29, 30, 31, 32, 33, 34,\n",
       "        35, 36, 37, 38, 39, 40, 41, 42, 43, 44, 45, 46, 47, 48, 49, 50, 51,\n",
       "        52, 53, 54, 55, 56, 57, 58, 59, 60, 61, 62, 63, 64], dtype=int32),\n",
       " array([  257,   996,    58,   186,  1220,   141,   304,    47,    90,\n",
       "           64,    51,    61,   188,    99,    86,    50,    37,   709,\n",
       "        10135,  3109,  8158,  5239, 17785,  4896,  9291,  3414,  4467,\n",
       "         5012,   276,  2364,  3727,  2921,  6478,  7807,  6312,  5909,\n",
       "          388, 10427,  6404,  3191, 11219,  8254,  9646,  7501, 15873,\n",
       "         4849,  6455,  1534,   700,  6636,  5585,  6842,  6646,  4278,\n",
       "         3714, 18238, 10368,  2944,  9844,  5065,  1161,  7309,  2767,\n",
       "         9282]))"
      ]
     },
     "execution_count": 314,
     "metadata": {},
     "output_type": "execute_result"
    }
   ],
   "source": [
    "np.unique(clusters, return_counts=True)"
   ]
  },
  {
   "cell_type": "code",
   "execution_count": null,
   "id": "5c5c6e83-d28d-4278-8765-ee9368555e12",
   "metadata": {},
   "outputs": [],
   "source": []
  },
  {
   "cell_type": "code",
   "execution_count": null,
   "id": "9b2c2d28-5033-4d10-92ef-1cbe72dc03ff",
   "metadata": {},
   "outputs": [],
   "source": []
  },
  {
   "cell_type": "code",
   "execution_count": null,
   "id": "560c5c9b-3830-4325-93f7-32fff10bdaf6",
   "metadata": {},
   "outputs": [],
   "source": []
  },
  {
   "cell_type": "code",
   "execution_count": null,
   "id": "e4468743-39d0-4f08-aca4-f766c892c4ca",
   "metadata": {},
   "outputs": [],
   "source": []
  },
  {
   "cell_type": "code",
   "execution_count": 304,
   "id": "c6d08953-dae0-43f6-ab77-207cc60d7362",
   "metadata": {},
   "outputs": [
    {
     "name": "stderr",
     "output_type": "stream",
     "text": [
      "/home/krasen/miniconda3/envs/urban_taxonomy/lib/python3.12/site-packages/lonboard/_geoarrow/ops/reproject.py:97: UserWarning: Input being reprojected to EPSG:4326 CRS\n",
      "  warnings.warn(\"Input being reprojected to EPSG:4326 CRS\")\n"
     ]
    },
    {
     "name": "stdout",
     "output_type": "stream",
     "text": [
      "CPU times: user 4.78 s, sys: 363 ms, total: 5.14 s\n",
      "Wall time: 5.14 s\n"
     ]
    }
   ],
   "source": [
    "%%time\n",
    "import lonboard\n",
    "# plotting = tessellation[tessellation.index.isin(X_train.index)].copy()\n",
    "layer = lonboard.SolidPolygonLayer.from_geopandas(tessellation[tessellation.index >= 0], opacity=.08)"
   ]
  },
  {
   "cell_type": "code",
   "execution_count": 305,
   "id": "c4fb29a3-7d4d-430c-a62a-13b7a9597e59",
   "metadata": {},
   "outputs": [],
   "source": [
    "from sidecar import Sidecar\n",
    "sc = Sidecar(title='Final Clusters')\n",
    "m = lonboard.Map(layer, basemap_style=lonboard.basemap.CartoBasemap.Positron)\n",
    "with sc:\n",
    "    display(m)"
   ]
  },
  {
   "cell_type": "code",
   "execution_count": null,
   "id": "df283e4b-96aa-42f2-8f9f-5b1aaa481588",
   "metadata": {},
   "outputs": [],
   "source": []
  },
  {
   "cell_type": "code",
   "execution_count": 315,
   "id": "32dda125-cf78-4121-9cbe-a7eccddfed4f",
   "metadata": {},
   "outputs": [],
   "source": [
    "from core.cluster_validation import get_color\n",
    "layer.get_fill_color = get_color(clusters)"
   ]
  },
  {
   "cell_type": "code",
   "execution_count": null,
   "id": "ffc328c0-39bb-4f87-86c7-901f02e201de",
   "metadata": {},
   "outputs": [],
   "source": []
  },
  {
   "cell_type": "code",
   "execution_count": null,
   "id": "842e715d-1a96-4a35-8194-373d13542d84",
   "metadata": {},
   "outputs": [],
   "source": []
  },
  {
   "cell_type": "code",
   "execution_count": null,
   "id": "0bc425eb-2ecc-4550-9b59-7422a27e87ee",
   "metadata": {},
   "outputs": [],
   "source": []
  },
  {
   "cell_type": "code",
   "execution_count": 307,
   "id": "a52231de-5cf2-49d4-880a-87e28d214a0c",
   "metadata": {},
   "outputs": [],
   "source": [
    "clrs_geometry = tessellation.loc[region_cluster_labels.index]\n",
    "clrs_geometry['label'] = clusters\n",
    "clrs_geometry = clrs_geometry.dissolve('label').simplify(1).to_frame()\n",
    "clrs_geometry.columns = ['geometry']\n",
    "clrs_geometry = clrs_geometry.set_geometry('geometry')"
   ]
  },
  {
   "cell_type": "code",
   "execution_count": 296,
   "id": "fd181ea7-3829-4158-98bd-5aefe645d104",
   "metadata": {},
   "outputs": [],
   "source": [
    "# clrs_geometry.explore(column=clrs_geometry.index.values.astype(str), categorical=True)"
   ]
  },
  {
   "cell_type": "code",
   "execution_count": null,
   "id": "ae8df4e4-bca7-4316-b50b-58d33fdcec43",
   "metadata": {},
   "outputs": [],
   "source": []
  },
  {
   "cell_type": "code",
   "execution_count": 297,
   "id": "033d2757-0491-43bb-b582-276f85ec2124",
   "metadata": {},
   "outputs": [],
   "source": [
    "clrs_geometry.to_parquet(f'../data/clusters_umap_{region_id}_{min_cluster_size}_{spatial_lag}_{kernel}_{umap_metric}_{final_linkage}_{cutoff}.pq')"
   ]
  },
  {
   "cell_type": "code",
   "execution_count": null,
   "id": "2cbde13a-b497-4c68-9b4a-0c84b03ffdc1",
   "metadata": {},
   "outputs": [],
   "source": []
  },
  {
   "cell_type": "code",
   "execution_count": 156,
   "id": "886889c5-0493-4770-a92b-8cca479090f1",
   "metadata": {},
   "outputs": [],
   "source": [
    "# gpd.read_parquet(f'../data/clusters__umap_{region_id}_{min_cluster_size}.pq').explore()"
   ]
  },
  {
   "cell_type": "code",
   "execution_count": null,
   "id": "acde5615-d2b0-4bee-84b6-95fe756170e7",
   "metadata": {},
   "outputs": [],
   "source": []
  },
  {
   "cell_type": "code",
   "execution_count": null,
   "id": "1e448bd0-3be7-4dc9-ad6b-d7cba83290d9",
   "metadata": {},
   "outputs": [],
   "source": []
  },
  {
   "cell_type": "code",
   "execution_count": null,
   "id": "c110093d-bd49-4e59-b5d0-a11126c483e8",
   "metadata": {},
   "outputs": [],
   "source": []
  },
  {
   "cell_type": "code",
   "execution_count": null,
   "id": "f70a2462-6cc5-4a52-921a-8e2f9f7f6a64",
   "metadata": {},
   "outputs": [],
   "source": []
  },
  {
   "cell_type": "code",
   "execution_count": 51,
   "id": "fef7d491-b679-49d0-bb71-6a9f1acaa06d",
   "metadata": {},
   "outputs": [],
   "source": [
    "from clustergram import Clustergram\n",
    "from sklearn.mixture import GaussianMixture"
   ]
  },
  {
   "cell_type": "code",
   "execution_count": 52,
   "id": "b9544564-7e03-4a3e-8c60-8fc2121cb747",
   "metadata": {},
   "outputs": [
    {
     "data": {
      "text/plain": [
       "(166757, 126)"
      ]
     },
     "execution_count": 52,
     "metadata": {},
     "output_type": "execute_result"
    }
   ],
   "source": [
    "component_data = X_train.loc[labels.groupby(labels).get_group(label).index.values]\n",
    "component_data.shape"
   ]
  },
  {
   "cell_type": "code",
   "execution_count": 151,
   "id": "6b9a92ec-b743-4ed7-8ffc-db783ed4ad24",
   "metadata": {},
   "outputs": [
    {
     "data": {
      "text/plain": [
       "(60555, 54)"
      ]
     },
     "execution_count": 151,
     "metadata": {},
     "output_type": "execute_result"
    }
   ],
   "source": [
    "component_data = preprocess_clustering_data(component_data)\n",
    "component_data.shape"
   ]
  },
  {
   "cell_type": "code",
   "execution_count": null,
   "id": "136b6bad-8bb7-461d-b922-7015f204d94b",
   "metadata": {},
   "outputs": [],
   "source": [
    "%%time\n",
    "gmm = GaussianMixture(n_components=10, \n",
    "                      covariance_type=\"full\",\n",
    "                      max_iter=200, \n",
    "                      n_init=100,\n",
    "                      random_state=42)\n",
    "fitted = gmm.fit(component_data)\n",
    "clusters = fitted.predict(component_data)\n",
    "pd.Series(clusters, index=component_data.index).to_csv('../data/gmm_10_clusters.csv')"
   ]
  },
  {
   "cell_type": "code",
   "execution_count": null,
   "id": "bc95f23f-7741-4226-b623-8089a6e1889f",
   "metadata": {},
   "outputs": [],
   "source": []
  },
  {
   "cell_type": "code",
   "execution_count": 659,
   "id": "a047b90c-edcb-4ff1-a3e5-16ff7943fcc1",
   "metadata": {},
   "outputs": [],
   "source": [
    "clusters = pd.read_csv('../data/gmm_10_clusters.csv').set_index('Unnamed: 0')"
   ]
  },
  {
   "cell_type": "code",
   "execution_count": null,
   "id": "6a9d7a95-9bb8-4463-b422-f4bfe0275bed",
   "metadata": {},
   "outputs": [],
   "source": []
  }
 ],
 "metadata": {
  "kernelspec": {
   "display_name": "Python 3 (ipykernel)",
   "language": "python",
   "name": "python3"
  },
  "language_info": {
   "codemirror_mode": {
    "name": "ipython",
    "version": 3
   },
   "file_extension": ".py",
   "mimetype": "text/x-python",
   "name": "python",
   "nbconvert_exporter": "python",
   "pygments_lexer": "ipython3",
   "version": "3.12.4"
  }
 },
 "nbformat": 4,
 "nbformat_minor": 5
}
