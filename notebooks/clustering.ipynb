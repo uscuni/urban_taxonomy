{
 "cells": [
  {
   "cell_type": "code",
   "execution_count": 42,
   "id": "7ea4918a-bb38-415c-b50f-bf1f94101b01",
   "metadata": {},
   "outputs": [
    {
     "name": "stdout",
     "output_type": "stream",
     "text": [
      "CPU times: user 21 μs, sys: 4 μs, total: 25 μs\n",
      "Wall time: 26 μs\n"
     ]
    }
   ],
   "source": [
    "%%time\n",
    "\n",
    "import glob\n",
    "\n",
    "import geopandas as gpd\n",
    "import matplotlib.pyplot as plt\n",
    "import numba\n",
    "import numpy as np\n",
    "import pandas as pd\n",
    "from libpysal.graph import read_parquet\n",
    "from sklearn.preprocessing import PowerTransformer, RobustScaler, StandardScaler\n",
    "\n",
    "from sklearn.neighbors import KDTree\n",
    "\n",
    "from sklearn.cluster import AgglomerativeClustering\n",
    "from scipy.cluster.hierarchy import dendrogram\n",
    "from scipy.cluster.hierarchy import fcluster\n",
    "from sklearn.metrics import adjusted_rand_score\n",
    "from sklearn.metrics import davies_bouldin_score\n",
    "from core.cluster_validation import get_linkage_matrix\n",
    "\n",
    "# try hdbscan extraction\n",
    "from fast_hdbscan.boruvka import parallel_boruvka\n",
    "from fast_hdbscan.cluster_trees import (\n",
    "    cluster_tree_from_condensed_tree,\n",
    "    condense_tree,\n",
    "    extract_eom_clusters,\n",
    "    extract_leaves,\n",
    "    get_cluster_label_vector,\n",
    "    mst_to_linkage_tree,\n",
    ")\n",
    "from fast_hdbscan.numba_kdtree import kdtree_to_numba\n",
    "from sklearn.neighbors import KDTree"
   ]
  },
  {
   "cell_type": "code",
   "execution_count": 43,
   "id": "965d20ea-4114-4e10-b04d-d23acec039b1",
   "metadata": {},
   "outputs": [],
   "source": [
    "def preprocess_clustering_data(X_train):\n",
    "    X_train = X_train[X_train.index >= 0]\n",
    "\n",
    "\n",
    "    to_drop = [\n",
    "     'stcSAl',\n",
    "     'ltkOri',\n",
    "     'stbOri',\n",
    "     'stcOri',\n",
    "     'stbCeA',\n",
    "    \n",
    "    # #not in barcelona\n",
    "     # 'ltcBuA', \n",
    "    #  'midRea',\n",
    "    #  'midAre',\n",
    "    #  'likWBB'\n",
    "\n",
    "    #  'sdbPer', \n",
    "    #  'sdbCoA',\n",
    "    #  'ssbCCM',\n",
    "    #  'ltbIBD',\n",
    "    #  'sdcLAL',\n",
    "    #  'sdcAre',\n",
    "    #  'sscERI',\n",
    "    #  'mtcWNe',\n",
    "    #  'mdcAre',\n",
    "    #  'ltcWRB',\n",
    "    #  'sicCAR',\n",
    "    # \"mtdDeg\",\n",
    "\n",
    "\n",
    " #        'sdbPer',\n",
    " # 'sdbCoA',\n",
    " # 'ssbCCo',\n",
    " # 'ssbCor',\n",
    " # 'ssbERI',\n",
    " # 'ssbElo',\n",
    " # 'ltcBuA',\n",
    " # 'sdcAre',\n",
    " # 'stcSAl',\n",
    "\n",
    "\n",
    "        # 'sdbCoA', 'ssbERI', 'mtdDeg', 'sscERI'\n",
    "        \n",
    "    ]\n",
    "    \n",
    "    all_drop = []\n",
    "    for c in to_drop:\n",
    "        all_drop += X_train.columns[X_train.columns.str.contains(c)].tolist()\n",
    "\n",
    "    X_train = X_train.drop(all_drop, axis=1)\n",
    "    \n",
    "    vals = StandardScaler().fit_transform(X_train)\n",
    "    X_train = pd.DataFrame(vals, columns=X_train.columns, index=X_train.index)\n",
    "    \n",
    "    vals = np.nan_to_num(X_train)\n",
    "    X_train = pd.DataFrame(vals, columns=X_train.columns, index=X_train.index)\n",
    "    \n",
    "    stats = X_train.describe()\n",
    "    X_train = X_train.drop(stats.columns[stats.loc['std'] == 0], axis=1)\n",
    "\n",
    "    return X_train\n",
    "\n",
    "def get_tree(training_data, clustering_graph, linkage, metric):\n",
    "\n",
    "    clusterer = AgglomerativeClustering(linkage=linkage,\n",
    "                                        connectivity = clustering_graph,\n",
    "                                        metric=metric,\n",
    "                                        compute_full_tree=True,\n",
    "                                        compute_distances=True)\n",
    "    model = clusterer.fit(training_data)\n",
    "    linkage_matrix = get_linkage_matrix(model)\n",
    "    return linkage_matrix\n",
    "\n",
    "def get_clusters(linkage_matrix, min_cluster_size, eom_clusters=True):\n",
    "\n",
    "    condensed_tree = condense_tree(linkage_matrix, \n",
    "                               min_cluster_size=min_cluster_size)\n",
    "    cluster_tree = cluster_tree_from_condensed_tree(condensed_tree)\n",
    "\n",
    "    if eom_clusters:\n",
    "        selected_clusters = extract_eom_clusters(\n",
    "            condensed_tree, cluster_tree, allow_single_cluster=False\n",
    "        )\n",
    "    else:\n",
    "        selected_clusters = extract_leaves(\n",
    "                condensed_tree, allow_single_cluster=False\n",
    "            )\n",
    "    return get_cluster_label_vector(condensed_tree, selected_clusters, 0)"
   ]
  },
  {
   "cell_type": "code",
   "execution_count": 44,
   "id": "8bdb261a-b61c-4410-aaeb-adc10b5b2039",
   "metadata": {},
   "outputs": [],
   "source": [
    "def post_process_clusters(component_buildings_data, component_graph, component_clusters):\n",
    "\n",
    "\n",
    "    component_clusters = component_clusters.copy()\n",
    "\n",
    "    ## if all the poitns are noise try leaf clustering\n",
    "    if (component_clusters == -1).all():\n",
    "       component_clusters = get_clusters(ward_tree, min_cluster_size, eom_clusters=False)\n",
    "        \n",
    "    clrs, counts = np.unique(component_clusters, return_counts=True)\n",
    "    \n",
    "    ## assign each group of contiguous noise points to their own cluster\n",
    "    if -1 in clrs:\n",
    "        noise = component_buildings_data[component_clusters == -1].index.values\n",
    "        noise_labels = component_graph.subgraph(noise).component_labels + max(clrs)\n",
    "        component_clusters[component_clusters == -1] = noise_labels.values\n",
    "    \n",
    "    ## assign singletons to median of neighbours\n",
    "    clrs, counts = np.unique(component_clusters, return_counts=True)\n",
    "    for c in clrs[counts == 1]:\n",
    "    \n",
    "        bid = component_buildings_data.iloc[np.where(component_clusters == c)].index.values[0]\n",
    "        median_cluster = np.median(component_clusters[np.where(component_buildings_data.index.isin(component_graph[bid].index))]).astype(int)\n",
    "        component_clusters[component_clusters == c] = median_cluster\n",
    "\n",
    "    return component_clusters"
   ]
  },
  {
   "cell_type": "code",
   "execution_count": null,
   "id": "f375dc51-0319-4de3-806b-66b46bad8018",
   "metadata": {},
   "outputs": [],
   "source": []
  },
  {
   "cell_type": "code",
   "execution_count": 45,
   "id": "f78cb85f-68e2-4e86-a4d1-3518bb62ad34",
   "metadata": {},
   "outputs": [],
   "source": [
    "region_id = 69300\n",
    "\n",
    "tessellations_dir = '/data/uscuni-ulce/processed_data/tessellations/'\n",
    "chars_dir = \"/data/uscuni-ulce/processed_data/chars/\"\n",
    "graph_dir = \"/data/uscuni-ulce/processed_data/neigh_graphs/\"\n",
    "cluster_dir = '/data/uscuni-ulce/processed_data/clusters/'"
   ]
  },
  {
   "cell_type": "code",
   "execution_count": 46,
   "id": "5eb7d7f7-98b5-49dd-82ac-866aba13ac6b",
   "metadata": {},
   "outputs": [],
   "source": [
    "region_id = 'freiburg'\n",
    "buildings_dir = streets_dir = enclosures_dir = tessellations_dir = graph_dir = '../data/freiburg/'\n",
    "chars_dir = '../data/freiburg/chars/'"
   ]
  },
  {
   "cell_type": "code",
   "execution_count": 47,
   "id": "4b48fd6c-cf84-4137-96c7-41eaa42d2733",
   "metadata": {},
   "outputs": [],
   "source": [
    "X_train = pd.read_parquet(chars_dir + f'primary_chars_{region_id}.parquet')\n",
    "\n",
    "spatial_lag = 3\n",
    "lag = pd.read_parquet(f'/data/uscuni-ulce/processed_data/context_data/unprocessed_context_chars_{region_id}_lag_{spatial_lag}.parquet')\n",
    "lag = lag[[c for c in lag.columns if '_median' in c]]\n",
    "\n",
    "X_train = X_train.join(lag, how='inner')\n",
    "\n",
    "# X_train = lag"
   ]
  },
  {
   "cell_type": "code",
   "execution_count": 48,
   "id": "23ae40f3-5014-434a-9007-279e1abd3e2a",
   "metadata": {},
   "outputs": [
    {
     "data": {
      "text/plain": [
       "(36727, 126)"
      ]
     },
     "execution_count": 48,
     "metadata": {},
     "output_type": "execute_result"
    }
   ],
   "source": [
    "X_train.shape"
   ]
  },
  {
   "cell_type": "code",
   "execution_count": null,
   "id": "288f7e1f-ab9f-4485-8590-adb72107e79b",
   "metadata": {},
   "outputs": [],
   "source": []
  },
  {
   "cell_type": "code",
   "execution_count": null,
   "id": "48c1362e-85ab-4f8b-aaad-e4a75634764d",
   "metadata": {},
   "outputs": [],
   "source": []
  },
  {
   "cell_type": "code",
   "execution_count": 49,
   "id": "7d1a6ff1-b445-40b2-ba90-8cd67c60347c",
   "metadata": {},
   "outputs": [],
   "source": [
    "graph = read_parquet(graph_dir + f\"tessellation_graph_{region_id}_knn1.parquet\")"
   ]
  },
  {
   "cell_type": "code",
   "execution_count": null,
   "id": "5dc3c999-6424-49df-a9b0-f66cb290f19a",
   "metadata": {},
   "outputs": [],
   "source": []
  },
  {
   "cell_type": "code",
   "execution_count": null,
   "id": "7082a544-4261-4d92-b45e-e04e11d562d1",
   "metadata": {},
   "outputs": [],
   "source": []
  },
  {
   "cell_type": "code",
   "execution_count": null,
   "id": "c87daeed-57c3-4f17-a0ab-39d5450b186f",
   "metadata": {},
   "outputs": [],
   "source": []
  },
  {
   "cell_type": "code",
   "execution_count": null,
   "id": "b210d6e3-b254-4f53-beaf-9f36e53e4135",
   "metadata": {},
   "outputs": [],
   "source": []
  },
  {
   "cell_type": "code",
   "execution_count": 50,
   "id": "d7820e20-580c-459f-bfd7-bfdc6c90819e",
   "metadata": {},
   "outputs": [],
   "source": [
    "min_cluster_size = 200\n",
    "linkage = 'ward'\n",
    "metric = 'euclidean'"
   ]
  },
  {
   "cell_type": "code",
   "execution_count": 51,
   "id": "055933b8-9059-4930-986c-0f527a10c647",
   "metadata": {},
   "outputs": [],
   "source": [
    "# label building input data, could work with empty tess as well\n",
    "building_graph = graph.subgraph(graph.unique_ids[graph.unique_ids >= 0])\n",
    "labels = building_graph.component_labels\n"
   ]
  },
  {
   "cell_type": "code",
   "execution_count": 52,
   "id": "0006d301-717b-4305-83f1-f5429e0c398a",
   "metadata": {},
   "outputs": [
    {
     "name": "stdout",
     "output_type": "stream",
     "text": [
      "CPU times: user 1.74 s, sys: 0 ns, total: 1.74 s\n",
      "Wall time: 1.74 s\n"
     ]
    }
   ],
   "source": [
    "%%time\n",
    "\n",
    "results = {}\n",
    "\n",
    "for label, group in labels.groupby(labels):\n",
    "\n",
    "    if group.shape[0] <= min_cluster_size:\n",
    "        component_clusters = np.ones(group.shape[0])\n",
    "\n",
    "    else:\n",
    "        component_buildings_data = preprocess_clustering_data(X_train.loc[group.index.values])\n",
    "        component_graph = building_graph.subgraph(group.index.values)\n",
    "        ward_tree = get_tree(component_buildings_data, component_graph.transform('B').sparse, linkage, metric)\n",
    "        component_clusters = get_clusters(ward_tree, min_cluster_size, eom_clusters=True)\n",
    "        # component_clusters = fcluster(ward_tree, t=80, criterion='distance')\n",
    "        component_clusters = post_process_clusters(component_buildings_data, component_graph, component_clusters)\n",
    "\n",
    "        # for c in np.unique(component_clusters):\n",
    "        #     cluster_graph = component_graph.subgraph(group.index[component_clusters == c].values)\n",
    "        #     assert cluster_graph.n_components == 1\n",
    "    \n",
    "        # if label ==3: break\n",
    "    results[label] = component_clusters"
   ]
  },
  {
   "cell_type": "code",
   "execution_count": null,
   "id": "8826e087-716b-40e5-8348-a9d732616fc3",
   "metadata": {},
   "outputs": [],
   "source": []
  },
  {
   "cell_type": "code",
   "execution_count": null,
   "id": "eb2e41c4-1f88-4f43-b942-1bcff9f9691b",
   "metadata": {},
   "outputs": [],
   "source": []
  },
  {
   "cell_type": "code",
   "execution_count": null,
   "id": "33a72801-87f2-4b38-a5a7-aabab9cd4ba0",
   "metadata": {},
   "outputs": [],
   "source": []
  },
  {
   "cell_type": "code",
   "execution_count": null,
   "id": "0c0fa7e2-1974-400f-b953-f212508ee504",
   "metadata": {},
   "outputs": [],
   "source": []
  },
  {
   "cell_type": "code",
   "execution_count": 53,
   "id": "a3108309-8710-4992-bbab-5550e4162420",
   "metadata": {},
   "outputs": [],
   "source": [
    "label_groups = labels.groupby(labels)\n",
    "region_cluster_labels = []\n",
    "for label, component_clusters in results.items():\n",
    "    group = label_groups.get_group(label)\n",
    "    component_labels = str(label) + '_' + pd.Series(component_clusters.astype(str), \n",
    "                                                    index=group.index.values)\n",
    "    region_cluster_labels.append(component_labels)\n",
    "\n",
    "region_cluster_labels = pd.concat(region_cluster_labels).sort_index()\n",
    "assert (X_train[X_train.index >= 0].index == region_cluster_labels.index).all()\n",
    "region_cluster_labels.to_csv(cluster_dir + f'clusters_{region_id}.csv')"
   ]
  },
  {
   "cell_type": "code",
   "execution_count": null,
   "id": "acc9c6dc-0889-42bc-a57c-ad92ab0f640f",
   "metadata": {},
   "outputs": [],
   "source": []
  },
  {
   "cell_type": "code",
   "execution_count": null,
   "id": "6067dbcd-cc96-4502-80e5-7841471749d6",
   "metadata": {},
   "outputs": [],
   "source": []
  },
  {
   "cell_type": "code",
   "execution_count": null,
   "id": "06c9bd9f-4755-4893-8cb0-ee11495401e7",
   "metadata": {},
   "outputs": [],
   "source": []
  },
  {
   "cell_type": "code",
   "execution_count": null,
   "id": "9c52630a-7efe-4bc3-957f-a31bdf42e44b",
   "metadata": {},
   "outputs": [],
   "source": []
  },
  {
   "cell_type": "code",
   "execution_count": null,
   "id": "e7582965-7296-4e40-ba5e-76047a61c336",
   "metadata": {},
   "outputs": [],
   "source": []
  },
  {
   "cell_type": "code",
   "execution_count": 54,
   "id": "8cc3a094-b0c4-4050-9c76-1235fc330a2d",
   "metadata": {},
   "outputs": [],
   "source": [
    "tessellation = gpd.read_parquet(\n",
    "        tessellations_dir + f\"tessellation_{region_id}.parquet\"\n",
    ")"
   ]
  },
  {
   "cell_type": "code",
   "execution_count": 55,
   "id": "5e4beef1-364b-4d42-9296-d4b26e88d7c3",
   "metadata": {},
   "outputs": [
    {
     "data": {
      "text/plain": [
       "component labels\n",
       "3     28927\n",
       "8      2878\n",
       "11     1350\n",
       "7      1060\n",
       "4       771\n",
       "25      614\n",
       "14      186\n",
       "27       79\n",
       "28       60\n",
       "29       43\n",
       "12       18\n",
       "9        17\n",
       "30       16\n",
       "6         8\n",
       "26        7\n",
       "23        5\n",
       "10        4\n",
       "32        3\n",
       "33        2\n",
       "5         2\n",
       "35        2\n",
       "31        1\n",
       "24        1\n",
       "34        1\n",
       "0         1\n",
       "22        1\n",
       "21        1\n",
       "20        1\n",
       "19        1\n",
       "1         1\n",
       "17        1\n",
       "16        1\n",
       "15        1\n",
       "13        1\n",
       "2         1\n",
       "18        1\n",
       "Name: component labels, dtype: int64"
      ]
     },
     "execution_count": 55,
     "metadata": {},
     "output_type": "execute_result"
    }
   ],
   "source": [
    "labels.groupby(labels).size().sort_values(ascending=False)"
   ]
  },
  {
   "cell_type": "code",
   "execution_count": 56,
   "id": "ced4354c-c8f6-4ce9-9928-7cfb2cb55390",
   "metadata": {},
   "outputs": [
    {
     "data": {
      "text/plain": [
       "(28927,)"
      ]
     },
     "execution_count": 56,
     "metadata": {},
     "output_type": "execute_result"
    }
   ],
   "source": [
    "label = 3\n",
    "labels.groupby(labels).get_group(label).shape"
   ]
  },
  {
   "cell_type": "code",
   "execution_count": 57,
   "id": "bf4136f5-8356-47ba-a7d8-736345f49eb4",
   "metadata": {},
   "outputs": [],
   "source": [
    "# tessellation.loc[labels.groupby(labels).get_group(label).index.values].explore(column=results[label], categorical=True)"
   ]
  },
  {
   "cell_type": "code",
   "execution_count": 58,
   "id": "9a7d820c-6be3-450f-b1d4-41a402239321",
   "metadata": {},
   "outputs": [],
   "source": [
    "plotting = tessellation.loc[labels.groupby(labels).get_group(label).index.values]\n",
    "plotting['label'] = results[label]"
   ]
  },
  {
   "cell_type": "code",
   "execution_count": 59,
   "id": "cbc5aa0c-f629-4dea-a76a-84b9c17475c3",
   "metadata": {},
   "outputs": [],
   "source": [
    "# layer.get_fill_color = get_color(plotting['label'].values)"
   ]
  },
  {
   "cell_type": "code",
   "execution_count": 60,
   "id": "40e40ae0-0a2b-4541-b715-64ee6bac0c69",
   "metadata": {
    "scrolled": true
   },
   "outputs": [
    {
     "data": {
      "text/plain": [
       "59"
      ]
     },
     "execution_count": 60,
     "metadata": {},
     "output_type": "execute_result"
    }
   ],
   "source": [
    "plotting['label'].nunique()"
   ]
  },
  {
   "cell_type": "code",
   "execution_count": null,
   "id": "4f03a159-0f6f-4fd0-a258-4157a634417b",
   "metadata": {},
   "outputs": [],
   "source": []
  },
  {
   "cell_type": "code",
   "execution_count": null,
   "id": "6e43fe9c-e692-4bd8-8097-23f3180a4027",
   "metadata": {},
   "outputs": [],
   "source": []
  },
  {
   "cell_type": "code",
   "execution_count": null,
   "id": "54570b18-0fd1-4905-9ac0-ceef67ccead1",
   "metadata": {},
   "outputs": [],
   "source": []
  },
  {
   "cell_type": "code",
   "execution_count": null,
   "id": "0ce0f86b-0099-4e21-811a-d0e20cfbcbb6",
   "metadata": {},
   "outputs": [],
   "source": []
  },
  {
   "cell_type": "code",
   "execution_count": 61,
   "id": "ff702bbb-4dd5-4ecd-a86b-6eab21489e73",
   "metadata": {},
   "outputs": [
    {
     "name": "stderr",
     "output_type": "stream",
     "text": [
      "/home/krasen/miniconda3/envs/urban_taxonomy/lib/python3.12/site-packages/lonboard/_geoarrow/ops/reproject.py:97: UserWarning: Input being reprojected to EPSG:4326 CRS\n",
      "  warnings.warn(\"Input being reprojected to EPSG:4326 CRS\")\n"
     ]
    },
    {
     "name": "stdout",
     "output_type": "stream",
     "text": [
      "CPU times: user 517 ms, sys: 25 ms, total: 542 ms\n",
      "Wall time: 541 ms\n"
     ]
    }
   ],
   "source": [
    "%%time\n",
    "import lonboard\n",
    "# plotting = tessellation[tessellation.index.isin(X_train.index)].copy()\n",
    "layer = lonboard.PolygonLayer.from_geopandas(plotting, opacity=.08)"
   ]
  },
  {
   "cell_type": "code",
   "execution_count": 62,
   "id": "554fb4c0-4eb8-44a5-8503-d96f15dd7c5b",
   "metadata": {},
   "outputs": [],
   "source": [
    "from sidecar import Sidecar\n",
    "sc = Sidecar(title='Clusters')\n",
    "m = lonboard.Map(layer, basemap_style=lonboard.basemap.CartoBasemap.Positron)\n",
    "with sc:\n",
    "    display(m)\n",
    "\n",
    "from core.cluster_validation import get_color\n",
    "layer.get_fill_color = get_color(plotting['label'].values)"
   ]
  },
  {
   "cell_type": "code",
   "execution_count": null,
   "id": "8050b832-0cb6-46ef-a989-dd5fb4c8093f",
   "metadata": {},
   "outputs": [],
   "source": []
  },
  {
   "cell_type": "code",
   "execution_count": null,
   "id": "c3d4b0af-d876-4809-b1ca-c0416cfcfd4c",
   "metadata": {},
   "outputs": [],
   "source": []
  },
  {
   "cell_type": "code",
   "execution_count": null,
   "id": "a2d6526b-f005-426e-9c36-44cc4cd0f389",
   "metadata": {},
   "outputs": [],
   "source": []
  },
  {
   "cell_type": "code",
   "execution_count": null,
   "id": "e16ffa5c-7238-4b73-9d4c-cbd8ff91496c",
   "metadata": {},
   "outputs": [],
   "source": []
  },
  {
   "cell_type": "code",
   "execution_count": null,
   "id": "846e67de-d4c7-40a9-8fea-45c22c7f669e",
   "metadata": {},
   "outputs": [],
   "source": []
  },
  {
   "cell_type": "code",
   "execution_count": 63,
   "id": "53410343-76a7-4107-98d0-42801c7f44d6",
   "metadata": {
    "scrolled": true
   },
   "outputs": [
    {
     "name": "stdout",
     "output_type": "stream",
     "text": [
      "CPU times: user 3.45 s, sys: 0 ns, total: 3.45 s\n",
      "Wall time: 3.44 s\n"
     ]
    }
   ],
   "source": [
    "%%time\n",
    "\n",
    "clrs_geometry = tessellation.loc[region_cluster_labels.index]\n",
    "clrs_geometry['label'] = region_cluster_labels.values\n",
    "clrs_geometry = clrs_geometry.dissolve('label').simplify(1).to_frame()\n",
    "clrs_geometry.columns = ['geometry']\n",
    "clrs_geometry = clrs_geometry.set_geometry('geometry')"
   ]
  },
  {
   "cell_type": "code",
   "execution_count": 64,
   "id": "cbe06891-dc6b-496e-b69e-6bf7875b369c",
   "metadata": {},
   "outputs": [],
   "source": [
    "# clrs_geometry.explore()"
   ]
  },
  {
   "cell_type": "code",
   "execution_count": 65,
   "id": "f23ce599-5f6e-4043-8963-a5f400394674",
   "metadata": {},
   "outputs": [],
   "source": [
    "clrs_geometry.to_parquet(f'../data/clusters_{region_id}_{min_cluster_size}.pq')"
   ]
  },
  {
   "cell_type": "code",
   "execution_count": null,
   "id": "8c64487d-efad-4137-a5ba-c702e3be58b0",
   "metadata": {},
   "outputs": [],
   "source": []
  },
  {
   "cell_type": "code",
   "execution_count": null,
   "id": "b7fc7ca9-d90d-45ae-88fc-ca19b5618f8d",
   "metadata": {},
   "outputs": [],
   "source": []
  },
  {
   "cell_type": "code",
   "execution_count": null,
   "id": "1e829bd1-467c-4929-98e7-4833448ec664",
   "metadata": {},
   "outputs": [],
   "source": []
  },
  {
   "cell_type": "code",
   "execution_count": 36,
   "id": "1a355ac4-fc08-470e-83f4-9665be617f09",
   "metadata": {},
   "outputs": [
    {
     "data": {
      "text/html": [
       "<div>\n",
       "<style scoped>\n",
       "    .dataframe tbody tr th:only-of-type {\n",
       "        vertical-align: middle;\n",
       "    }\n",
       "\n",
       "    .dataframe tbody tr th {\n",
       "        vertical-align: top;\n",
       "    }\n",
       "\n",
       "    .dataframe thead th {\n",
       "        text-align: right;\n",
       "    }\n",
       "</style>\n",
       "<table border=\"1\" class=\"dataframe\">\n",
       "  <thead>\n",
       "    <tr style=\"text-align: right;\">\n",
       "      <th></th>\n",
       "      <th>cluster</th>\n",
       "      <th>geometry</th>\n",
       "    </tr>\n",
       "  </thead>\n",
       "  <tbody>\n",
       "    <tr>\n",
       "      <th>0</th>\n",
       "      <td>vinohrady squares</td>\n",
       "      <td>POLYGON ((4638485.501 3005547.367, 4638470.394...</td>\n",
       "    </tr>\n",
       "    <tr>\n",
       "      <th>1</th>\n",
       "      <td>housing houses</td>\n",
       "      <td>POLYGON ((4634085.699 3000256.936, 4633880.998...</td>\n",
       "    </tr>\n",
       "    <tr>\n",
       "      <th>2</th>\n",
       "      <td>housing blocks</td>\n",
       "      <td>POLYGON ((4634042.184 2999731.124, 4633764.295...</td>\n",
       "    </tr>\n",
       "    <tr>\n",
       "      <th>3</th>\n",
       "      <td>commie blocks vn</td>\n",
       "      <td>POLYGON ((4631419.699 3001066.465, 4631515.505...</td>\n",
       "    </tr>\n",
       "    <tr>\n",
       "      <th>4</th>\n",
       "      <td>fancy commie blocks</td>\n",
       "      <td>POLYGON ((4630153.185 3002007.602, 4629929.633...</td>\n",
       "    </tr>\n",
       "    <tr>\n",
       "      <th>7</th>\n",
       "      <td>holyne</td>\n",
       "      <td>POLYGON ((4632818.059 3000304.961, 4632408.387...</td>\n",
       "    </tr>\n",
       "    <tr>\n",
       "      <th>8</th>\n",
       "      <td>vinohrady villas</td>\n",
       "      <td>POLYGON ((4639322.373 3005173.134, 4640748.144...</td>\n",
       "    </tr>\n",
       "    <tr>\n",
       "      <th>9</th>\n",
       "      <td>vinohrady blocks</td>\n",
       "      <td>POLYGON ((4641263.869 3005771.07, 4641302.333 ...</td>\n",
       "    </tr>\n",
       "    <tr>\n",
       "      <th>10</th>\n",
       "      <td>row houses1</td>\n",
       "      <td>POLYGON ((4642440.431 3005891.273, 4642501.643...</td>\n",
       "    </tr>\n",
       "    <tr>\n",
       "      <th>11</th>\n",
       "      <td>row houses2</td>\n",
       "      <td>POLYGON ((4643033.297 3005933.694, 4643066.022...</td>\n",
       "    </tr>\n",
       "    <tr>\n",
       "      <th>12</th>\n",
       "      <td>malesice</td>\n",
       "      <td>POLYGON ((4644092.699 3006705.289, 4643904.999...</td>\n",
       "    </tr>\n",
       "    <tr>\n",
       "      <th>13</th>\n",
       "      <td>karlin river offices</td>\n",
       "      <td>POLYGON ((4638680.959 3007602.202, 4638940.647...</td>\n",
       "    </tr>\n",
       "    <tr>\n",
       "      <th>14</th>\n",
       "      <td>karlin IT offices</td>\n",
       "      <td>POLYGON ((4640105.003 3007963.584, 4640242.62 ...</td>\n",
       "    </tr>\n",
       "    <tr>\n",
       "      <th>15</th>\n",
       "      <td>karlin square</td>\n",
       "      <td>POLYGON ((4639570.805 3007718.431, 4639722.336...</td>\n",
       "    </tr>\n",
       "    <tr>\n",
       "      <th>16</th>\n",
       "      <td>karlin old</td>\n",
       "      <td>POLYGON ((4638672.987 3007433.208, 4638810.465...</td>\n",
       "    </tr>\n",
       "    <tr>\n",
       "      <th>17</th>\n",
       "      <td>josefov</td>\n",
       "      <td>POLYGON ((4636786.813 3006715.815, 4636938.457...</td>\n",
       "    </tr>\n",
       "    <tr>\n",
       "      <th>18</th>\n",
       "      <td>stare mesto</td>\n",
       "      <td>POLYGON ((4636844.399 3006194.117, 4636864.62 ...</td>\n",
       "    </tr>\n",
       "    <tr>\n",
       "      <th>19</th>\n",
       "      <td>prague castle</td>\n",
       "      <td>POLYGON ((4634875.865 3006647.381, 4634831.152...</td>\n",
       "    </tr>\n",
       "    <tr>\n",
       "      <th>20</th>\n",
       "      <td>mala strana</td>\n",
       "      <td>POLYGON ((4635352.594 3006747.182, 4635677.563...</td>\n",
       "    </tr>\n",
       "    <tr>\n",
       "      <th>21</th>\n",
       "      <td>smickov</td>\n",
       "      <td>POLYGON ((4636065.255 3005989.453, 4636334.151...</td>\n",
       "    </tr>\n",
       "  </tbody>\n",
       "</table>\n",
       "</div>"
      ],
      "text/plain": [
       "                 cluster                                           geometry\n",
       "0      vinohrady squares  POLYGON ((4638485.501 3005547.367, 4638470.394...\n",
       "1         housing houses  POLYGON ((4634085.699 3000256.936, 4633880.998...\n",
       "2         housing blocks  POLYGON ((4634042.184 2999731.124, 4633764.295...\n",
       "3       commie blocks vn  POLYGON ((4631419.699 3001066.465, 4631515.505...\n",
       "4    fancy commie blocks  POLYGON ((4630153.185 3002007.602, 4629929.633...\n",
       "7                 holyne  POLYGON ((4632818.059 3000304.961, 4632408.387...\n",
       "8       vinohrady villas  POLYGON ((4639322.373 3005173.134, 4640748.144...\n",
       "9       vinohrady blocks  POLYGON ((4641263.869 3005771.07, 4641302.333 ...\n",
       "10           row houses1  POLYGON ((4642440.431 3005891.273, 4642501.643...\n",
       "11           row houses2  POLYGON ((4643033.297 3005933.694, 4643066.022...\n",
       "12              malesice  POLYGON ((4644092.699 3006705.289, 4643904.999...\n",
       "13  karlin river offices  POLYGON ((4638680.959 3007602.202, 4638940.647...\n",
       "14     karlin IT offices  POLYGON ((4640105.003 3007963.584, 4640242.62 ...\n",
       "15         karlin square  POLYGON ((4639570.805 3007718.431, 4639722.336...\n",
       "16            karlin old  POLYGON ((4638672.987 3007433.208, 4638810.465...\n",
       "17               josefov  POLYGON ((4636786.813 3006715.815, 4636938.457...\n",
       "18           stare mesto  POLYGON ((4636844.399 3006194.117, 4636864.62 ...\n",
       "19         prague castle  POLYGON ((4634875.865 3006647.381, 4634831.152...\n",
       "20           mala strana  POLYGON ((4635352.594 3006747.182, 4635677.563...\n",
       "21               smickov  POLYGON ((4636065.255 3005989.453, 4636334.151..."
      ]
     },
     "execution_count": 36,
     "metadata": {},
     "output_type": "execute_result"
    }
   ],
   "source": [
    "clusters"
   ]
  },
  {
   "cell_type": "code",
   "execution_count": null,
   "id": "ae12cf64-2dde-4828-b4e4-fac1daa73097",
   "metadata": {},
   "outputs": [],
   "source": []
  },
  {
   "cell_type": "code",
   "execution_count": null,
   "id": "11ef05e5-9aca-4537-8e02-155a840a85dd",
   "metadata": {},
   "outputs": [],
   "source": []
  },
  {
   "cell_type": "code",
   "execution_count": 89,
   "id": "02c0ceab-1c44-4177-9866-a34c9109a133",
   "metadata": {},
   "outputs": [],
   "source": [
    "def percentile(n):\n",
    "    def percentile_(x):\n",
    "        return np.percentile(x, n)\n",
    "    percentile_.__name__ = 'percentile_%s' % n\n",
    "    return percentile_"
   ]
  },
  {
   "cell_type": "code",
   "execution_count": 90,
   "id": "5c8c8e47-3c0d-453c-b542-e0985bf2ba80",
   "metadata": {},
   "outputs": [],
   "source": [
    "component_data = X_train.loc[labels.groupby(labels).get_group(label).index.values]"
   ]
  },
  {
   "cell_type": "code",
   "execution_count": 91,
   "id": "90d6e36f-d07e-4d6a-8b35-8ea548ba9667",
   "metadata": {},
   "outputs": [
    {
     "name": "stderr",
     "output_type": "stream",
     "text": [
      "/tmp/ipykernel_94327/3926439484.py:1: FutureWarning: The provided callable <function min at 0x7b0a282abd80> is currently using SeriesGroupBy.min. In a future version of pandas, the provided callable will be used directly. To keep current behavior pass the string \"min\" instead.\n",
      "  component_data = component_data.groupby(results[label]).agg([np.min, np.median, np.max])\n",
      "/tmp/ipykernel_94327/3926439484.py:1: FutureWarning: The provided callable <function median at 0x7b0a281f42c0> is currently using SeriesGroupBy.median. In a future version of pandas, the provided callable will be used directly. To keep current behavior pass the string \"median\" instead.\n",
      "  component_data = component_data.groupby(results[label]).agg([np.min, np.median, np.max])\n",
      "/tmp/ipykernel_94327/3926439484.py:1: FutureWarning: The provided callable <function max at 0x7b0a282abc40> is currently using SeriesGroupBy.max. In a future version of pandas, the provided callable will be used directly. To keep current behavior pass the string \"max\" instead.\n",
      "  component_data = component_data.groupby(results[label]).agg([np.min, np.median, np.max])\n"
     ]
    }
   ],
   "source": [
    "component_data = component_data.groupby(results[label]).agg([np.min, np.median, np.max])"
   ]
  },
  {
   "cell_type": "code",
   "execution_count": null,
   "id": "b8eb97db-d7dd-4290-b847-4f32e05ab744",
   "metadata": {},
   "outputs": [],
   "source": []
  },
  {
   "cell_type": "code",
   "execution_count": 93,
   "id": "48da6d24-9fe5-4cfb-b53e-233b9f1410fe",
   "metadata": {},
   "outputs": [],
   "source": [
    "# component_data = component_data.groupby(results[label]).agg([percentile(10), 'median', percentile(90)])"
   ]
  },
  {
   "cell_type": "code",
   "execution_count": null,
   "id": "5ee53b35-53c2-4f59-a129-23c928f28c1e",
   "metadata": {},
   "outputs": [],
   "source": []
  },
  {
   "cell_type": "code",
   "execution_count": 94,
   "id": "cec98e3d-994c-4eb2-91d2-e84d7910d282",
   "metadata": {},
   "outputs": [],
   "source": [
    "component_data = component_data[component_data.index >= 0]"
   ]
  },
  {
   "cell_type": "code",
   "execution_count": 95,
   "id": "020328c1-c5b0-4a02-92a0-89fb061c1155",
   "metadata": {},
   "outputs": [],
   "source": [
    "vals = np.nan_to_num(component_data)\n",
    "component_data = pd.DataFrame(vals, columns=component_data.columns, index=component_data.index)"
   ]
  },
  {
   "cell_type": "code",
   "execution_count": null,
   "id": "80350e06-ae54-4149-a375-f624dca07d35",
   "metadata": {},
   "outputs": [],
   "source": []
  },
  {
   "cell_type": "code",
   "execution_count": null,
   "id": "67859769-2550-4b95-a036-00252ac2a976",
   "metadata": {},
   "outputs": [],
   "source": []
  },
  {
   "cell_type": "code",
   "execution_count": 96,
   "id": "88c68a9d-510a-49ea-ba98-d28ebd0576c4",
   "metadata": {},
   "outputs": [],
   "source": [
    "clusterer = AgglomerativeClustering(linkage='ward',\n",
    "                                    compute_full_tree=True,\n",
    "                                    compute_distances=True)\n",
    "model = clusterer.fit(component_data)\n",
    "linkage_matrix = get_linkage_matrix(model)"
   ]
  },
  {
   "cell_type": "code",
   "execution_count": 97,
   "id": "f48da5c5-1a1f-42d3-806f-921d69b81a30",
   "metadata": {},
   "outputs": [
    {
     "data": {
      "image/png": "[encoded data removed]",
      "text/plain": [
       "<Figure size 2000x2000 with 1 Axes>"
      ]
     },
     "metadata": {},
     "output_type": "display_data"
    }
   ],
   "source": [
    "fig,ax = plt.subplots(figsize=(20,20))\n",
    "_ = dendrogram(linkage_matrix, ax=ax)"
   ]
  },
  {
   "cell_type": "code",
   "execution_count": 117,
   "id": "8d18b997-b304-4501-a662-c24cf6636d52",
   "metadata": {},
   "outputs": [],
   "source": [
    "clusters = fcluster(linkage_matrix, t=1.5e6, criterion='distance')"
   ]
  },
  {
   "cell_type": "code",
   "execution_count": 118,
   "id": "7f262c5f-d1b3-434b-a7a2-eef253064c47",
   "metadata": {},
   "outputs": [
    {
     "data": {
      "text/plain": [
       "array([11, 13, 11, 12, 10, 10, 10,  2, 11,  1, 14, 11, 11, 16,  3, 12, 17,\n",
       "       16, 13, 11,  4, 17, 14, 11, 11,  5, 11, 11, 11, 11, 12, 11, 10,  7,\n",
       "       16,  3, 16, 16, 11, 11,  1,  1, 11, 11, 10, 11, 10,  5,  5,  5, 11,\n",
       "       10, 12, 16, 11, 11, 11, 11, 16, 17, 17, 17,  4, 17,  4, 11, 17,  3,\n",
       "       11, 11, 10, 11, 10, 16, 10, 12, 11, 18, 10, 13, 14,  3, 11, 11, 11,\n",
       "       11, 11, 18, 11, 10, 17, 11, 10, 10, 11, 11, 11, 16, 16, 16, 11, 10,\n",
       "       11, 10,  3, 11, 10, 10, 10, 13, 13, 17, 17, 11, 16, 11, 10, 11, 16,\n",
       "       12, 10, 10, 10, 11, 11, 11, 17,  1,  1, 16,  6,  6, 16,  4, 13, 12,\n",
       "       12,  1, 11, 16, 11, 11,  4, 11, 11, 11, 18,  8, 17, 10, 11, 12, 11,\n",
       "       11, 10, 18, 16, 10,  1, 11,  2,  2,  4,  8,  8, 11, 11, 11, 10, 10,\n",
       "       16,  3,  3, 16, 16, 12, 10, 11, 16, 12, 12, 10, 16, 12, 17,  3,  2,\n",
       "       11, 11, 11,  4,  8, 12, 10,  3,  3, 17, 16, 11, 17,  4, 15, 11, 15,\n",
       "       16, 16, 11, 11, 11, 10, 11, 12, 16, 11, 11, 11, 16, 18, 11, 11, 16,\n",
       "       11, 15, 11, 11,  9,  3,  7,  7, 11, 11, 10, 11, 10, 11, 11, 11, 10,\n",
       "       11, 10, 11, 12, 10, 10, 18, 16, 12, 15, 11, 11,  4, 10, 18, 15, 11,\n",
       "       11, 11, 16, 15, 17, 15, 16, 12, 17, 11, 11, 16,  4, 17, 11, 16, 16,\n",
       "       10,  4, 17, 11, 15, 16, 17, 11, 11, 18, 16, 10, 17], dtype=int32)"
      ]
     },
     "execution_count": 118,
     "metadata": {},
     "output_type": "execute_result"
    }
   ],
   "source": [
    "clusters"
   ]
  },
  {
   "cell_type": "code",
   "execution_count": 119,
   "id": "623b043e-3ead-40ba-aeb4-9ba0b9b6d301",
   "metadata": {},
   "outputs": [],
   "source": [
    "clusters = pd.Series(clusters, index=component_data.index.values)\n",
    "clusters[-1] = -1\n",
    "clusters = clusters.loc[results[label]].values"
   ]
  },
  {
   "cell_type": "code",
   "execution_count": null,
   "id": "154c2d6b-f09e-4067-99d7-b4525829250f",
   "metadata": {},
   "outputs": [],
   "source": []
  },
  {
   "cell_type": "code",
   "execution_count": 120,
   "id": "5c5c6e83-d28d-4278-8765-ee9368555e12",
   "metadata": {},
   "outputs": [],
   "source": [
    "layer.get_fill_color = get_color(clusters)"
   ]
  },
  {
   "cell_type": "code",
   "execution_count": null,
   "id": "32dda125-cf78-4121-9cbe-a7eccddfed4f",
   "metadata": {},
   "outputs": [],
   "source": []
  },
  {
   "cell_type": "code",
   "execution_count": null,
   "id": "ffc328c0-39bb-4f87-86c7-901f02e201de",
   "metadata": {},
   "outputs": [],
   "source": []
  },
  {
   "cell_type": "code",
   "execution_count": null,
   "id": "3f2b61fc-9394-4c8d-862c-8fbbc29ae1af",
   "metadata": {},
   "outputs": [],
   "source": []
  },
  {
   "cell_type": "code",
   "execution_count": null,
   "id": "2a83a8bf-0412-46f7-aa33-fb51d6a52910",
   "metadata": {},
   "outputs": [],
   "source": []
  },
  {
   "cell_type": "code",
   "execution_count": null,
   "id": "a52231de-5cf2-49d4-880a-87e28d214a0c",
   "metadata": {},
   "outputs": [],
   "source": []
  },
  {
   "cell_type": "code",
   "execution_count": 146,
   "id": "fef7d491-b679-49d0-bb71-6a9f1acaa06d",
   "metadata": {},
   "outputs": [],
   "source": [
    "from clustergram import Clustergram\n",
    "from sklearn.mixture import GaussianMixture"
   ]
  },
  {
   "cell_type": "code",
   "execution_count": 150,
   "id": "b9544564-7e03-4a3e-8c60-8fc2121cb747",
   "metadata": {},
   "outputs": [
    {
     "data": {
      "text/plain": [
       "(60555, 63)"
      ]
     },
     "execution_count": 150,
     "metadata": {},
     "output_type": "execute_result"
    }
   ],
   "source": [
    "component_data = X_train.loc[labels.groupby(labels).get_group(label).index.values]\n",
    "component_data.shape"
   ]
  },
  {
   "cell_type": "code",
   "execution_count": 151,
   "id": "6b9a92ec-b743-4ed7-8ffc-db783ed4ad24",
   "metadata": {},
   "outputs": [
    {
     "data": {
      "text/plain": [
       "(60555, 54)"
      ]
     },
     "execution_count": 151,
     "metadata": {},
     "output_type": "execute_result"
    }
   ],
   "source": [
    "component_data = preprocess_clustering_data(component_data)\n",
    "component_data.shape"
   ]
  },
  {
   "cell_type": "code",
   "execution_count": null,
   "id": "136b6bad-8bb7-461d-b922-7015f204d94b",
   "metadata": {},
   "outputs": [],
   "source": [
    "%%time\n",
    "gmm = GaussianMixture(n_components=10, \n",
    "                      covariance_type=\"full\",\n",
    "                      max_iter=200, \n",
    "                      n_init=100,\n",
    "                      random_state=42)\n",
    "fitted = gmm.fit(component_data)\n",
    "clusters = fitted.predict(component_data)\n",
    "pd.Series(clusters, index=component_data.index).to_csv('../data/gmm_10_clusters.csv')"
   ]
  },
  {
   "cell_type": "code",
   "execution_count": null,
   "id": "bc95f23f-7741-4226-b623-8089a6e1889f",
   "metadata": {},
   "outputs": [],
   "source": []
  },
  {
   "cell_type": "code",
   "execution_count": 659,
   "id": "a047b90c-edcb-4ff1-a3e5-16ff7943fcc1",
   "metadata": {},
   "outputs": [],
   "source": [
    "clusters = pd.read_csv('../data/gmm_10_clusters.csv').set_index('Unnamed: 0')"
   ]
  },
  {
   "cell_type": "code",
   "execution_count": null,
   "id": "6a9d7a95-9bb8-4463-b422-f4bfe0275bed",
   "metadata": {},
   "outputs": [],
   "source": []
  }
 ],
 "metadata": {
  "kernelspec": {
   "display_name": "Python 3 (ipykernel)",
   "language": "python",
   "name": "python3"
  },
  "language_info": {
   "codemirror_mode": {
    "name": "ipython",
    "version": 3
   },
   "file_extension": ".py",
   "mimetype": "text/x-python",
   "name": "python",
   "nbconvert_exporter": "python",
   "pygments_lexer": "ipython3",
   "version": "3.12.4"
  }
 },
 "nbformat": 4,
 "nbformat_minor": 5
}
