{
 "cells": [
  {
   "cell_type": "code",
   "execution_count": 1,
   "id": "7ea4918a-bb38-415c-b50f-bf1f94101b01",
   "metadata": {},
   "outputs": [
    {
     "name": "stdout",
     "output_type": "stream",
     "text": [
      "CPU times: user 11.2 s, sys: 406 ms, total: 11.6 s\n",
      "Wall time: 9.31 s\n"
     ]
    }
   ],
   "source": [
    "%%time\n",
    "\n",
    "import glob\n",
    "\n",
    "import geopandas as gpd\n",
    "import matplotlib.pyplot as plt\n",
    "import numba\n",
    "import numpy as np\n",
    "import pandas as pd\n",
    "from libpysal.graph import read_parquet\n",
    "from sklearn.preprocessing import PowerTransformer, RobustScaler, StandardScaler\n",
    "\n",
    "from sklearn.neighbors import KDTree\n",
    "\n",
    "from sklearn.cluster import AgglomerativeClustering\n",
    "from scipy.cluster.hierarchy import dendrogram\n",
    "from scipy.cluster.hierarchy import fcluster\n",
    "from sklearn.metrics import adjusted_rand_score\n",
    "from sklearn.metrics import davies_bouldin_score\n",
    "from core.cluster_validation import get_linkage_matrix\n",
    "\n",
    "# try hdbscan extraction\n",
    "from fast_hdbscan.boruvka import parallel_boruvka\n",
    "from fast_hdbscan.cluster_trees import (\n",
    "    cluster_tree_from_condensed_tree,\n",
    "    condense_tree,\n",
    "    extract_eom_clusters,\n",
    "    extract_leaves,\n",
    "    get_cluster_label_vector,\n",
    "    mst_to_linkage_tree,\n",
    ")\n",
    "from fast_hdbscan.numba_kdtree import kdtree_to_numba\n",
    "from sklearn.neighbors import KDTree"
   ]
  },
  {
   "cell_type": "code",
   "execution_count": 2,
   "id": "965d20ea-4114-4e10-b04d-d23acec039b1",
   "metadata": {},
   "outputs": [],
   "source": [
    "def preprocess_clustering_data(X_train):\n",
    "    X_train = X_train[X_train.index >= 0]\n",
    "\n",
    "\n",
    "    to_drop = [\n",
    "     'stcSAl',\n",
    "     'ltkOri',\n",
    "     'stbOri',\n",
    "     'stcOri',\n",
    "     'stbCeA',\n",
    "    \n",
    "    # #not in barcelona\n",
    "     # 'ltcBuA', \n",
    "    #  'midRea',\n",
    "    #  'midAre',\n",
    "    #  'likWBB'\n",
    "\n",
    "    #  'sdbPer', \n",
    "    #  'sdbCoA',\n",
    "    #  'ssbCCM',\n",
    "    #  'ltbIBD',\n",
    "    #  'sdcLAL',\n",
    "    #  'sdcAre',\n",
    "    #  'sscERI',\n",
    "    #  'mtcWNe',\n",
    "    #  'mdcAre',\n",
    "    #  'ltcWRB',\n",
    "    #  'sicCAR',\n",
    "    # \"mtdDeg\",\n",
    "\n",
    "\n",
    " #        'sdbPer',\n",
    " # 'sdbCoA',\n",
    " # 'ssbCCo',\n",
    " # 'ssbCor',\n",
    " # 'ssbERI',\n",
    " # 'ssbElo',\n",
    " # 'ltcBuA',\n",
    " # 'sdcAre',\n",
    " # 'stcSAl',\n",
    "\n",
    "\n",
    "        # 'sdbCoA', 'ssbERI', 'mtdDeg', 'sscERI'\n",
    "        \n",
    "    ]\n",
    "    \n",
    "    all_drop = []\n",
    "    for c in to_drop:\n",
    "        all_drop += X_train.columns[X_train.columns.str.contains(c)].tolist()\n",
    "\n",
    "    X_train = X_train.drop(all_drop, axis=1)\n",
    "    \n",
    "    vals = StandardScaler().fit_transform(X_train)\n",
    "    X_train = pd.DataFrame(vals, columns=X_train.columns, index=X_train.index)\n",
    "    \n",
    "    vals = np.nan_to_num(X_train)\n",
    "    X_train = pd.DataFrame(vals, columns=X_train.columns, index=X_train.index)\n",
    "    \n",
    "    stats = X_train.describe()\n",
    "    X_train = X_train.drop(stats.columns[stats.loc['std'] == 0], axis=1)\n",
    "\n",
    "    return X_train\n",
    "\n",
    "def get_tree(training_data, clustering_graph, linkage, metric):\n",
    "\n",
    "    clusterer = AgglomerativeClustering(linkage=linkage,\n",
    "                                        connectivity = clustering_graph,\n",
    "                                        metric=metric,\n",
    "                                        compute_full_tree=True,\n",
    "                                        compute_distances=True)\n",
    "    model = clusterer.fit(training_data)\n",
    "    linkage_matrix = get_linkage_matrix(model)\n",
    "    return linkage_matrix\n",
    "\n",
    "def get_clusters(linkage_matrix, min_cluster_size, eom_clusters=True):\n",
    "\n",
    "    condensed_tree = condense_tree(linkage_matrix, \n",
    "                               min_cluster_size=min_cluster_size)\n",
    "    cluster_tree = cluster_tree_from_condensed_tree(condensed_tree)\n",
    "\n",
    "    if eom_clusters:\n",
    "        selected_clusters = extract_eom_clusters(\n",
    "            condensed_tree, cluster_tree, allow_single_cluster=False\n",
    "        )\n",
    "    else:\n",
    "        selected_clusters = extract_leaves(\n",
    "                condensed_tree, allow_single_cluster=False\n",
    "            )\n",
    "    return get_cluster_label_vector(condensed_tree, selected_clusters, 0)"
   ]
  },
  {
   "cell_type": "code",
   "execution_count": 3,
   "id": "8bdb261a-b61c-4410-aaeb-adc10b5b2039",
   "metadata": {},
   "outputs": [],
   "source": [
    "def post_process_clusters(component_buildings_data, component_graph, component_clusters):\n",
    "\n",
    "\n",
    "    component_clusters = component_clusters.copy()\n",
    "\n",
    "    ## if all the poitns are noise try leaf clustering\n",
    "    if (component_clusters == -1).all():\n",
    "       component_clusters = get_clusters(ward_tree, min_cluster_size, eom_clusters=False)\n",
    "        \n",
    "    clrs, counts = np.unique(component_clusters, return_counts=True)\n",
    "    \n",
    "    ## assign each group of contiguous noise points to their own cluster\n",
    "    if -1 in clrs:\n",
    "        noise = component_buildings_data[component_clusters == -1].index.values\n",
    "        noise_labels = component_graph.subgraph(noise).component_labels + max(clrs)\n",
    "        component_clusters[component_clusters == -1] = noise_labels.values\n",
    "    \n",
    "    ## assign singletons to median of neighbours\n",
    "    clrs, counts = np.unique(component_clusters, return_counts=True)\n",
    "    for c in clrs[counts == 1]:\n",
    "    \n",
    "        bid = component_buildings_data.iloc[np.where(component_clusters == c)].index.values[0]\n",
    "        median_cluster = np.median(component_clusters[np.where(component_buildings_data.index.isin(component_graph[bid].index))]).astype(int)\n",
    "        component_clusters[component_clusters == c] = median_cluster\n",
    "\n",
    "    return component_clusters"
   ]
  },
  {
   "cell_type": "code",
   "execution_count": null,
   "id": "f375dc51-0319-4de3-806b-66b46bad8018",
   "metadata": {},
   "outputs": [],
   "source": []
  },
  {
   "cell_type": "code",
   "execution_count": 14,
   "id": "f78cb85f-68e2-4e86-a4d1-3518bb62ad34",
   "metadata": {},
   "outputs": [],
   "source": [
    "region_id = 69300\n",
    "\n",
    "tessellations_dir = '/data/uscuni-ulce/processed_data/tessellations/'\n",
    "chars_dir = \"/data/uscuni-ulce/processed_data/chars/\"\n",
    "graph_dir = \"/data/uscuni-ulce/processed_data/neigh_graphs/\"\n",
    "cluster_dir = '/data/uscuni-ulce/processed_data/clusters/'"
   ]
  },
  {
   "cell_type": "code",
   "execution_count": 15,
   "id": "5eb7d7f7-98b5-49dd-82ac-866aba13ac6b",
   "metadata": {},
   "outputs": [],
   "source": [
    "region_id = 'freiburg'\n",
    "buildings_dir = streets_dir = enclosures_dir = tessellations_dir = graph_dir = '../data/freiburg/'\n",
    "chars_dir = '../data/freiburg/chars/'\n",
    "cluster_dir = '/data/uscuni-ulce/processed_data/clusters/'"
   ]
  },
  {
   "cell_type": "code",
   "execution_count": 16,
   "id": "4b48fd6c-cf84-4137-96c7-41eaa42d2733",
   "metadata": {},
   "outputs": [],
   "source": [
    "X_train = pd.read_parquet(chars_dir + f'primary_chars_{region_id}.parquet')\n",
    "\n",
    "spatial_lag = 3\n",
    "lag = pd.read_parquet(f'/data/uscuni-ulce/processed_data/context_data/unprocessed_context_chars_{region_id}_lag_{spatial_lag}.parquet')\n",
    "\n",
    "lag = lag[[c for c in lag.columns if '_median' in c]]\n",
    "\n",
    "# lag = lag.drop(lag.columns[(lag.columns.str.startswith('l')) | (lag.columns.str.startswith('m'))], axis=1)\n",
    "\n",
    "X_train = X_train.join(lag, how='inner')\n",
    "\n",
    "# X_train = lag"
   ]
  },
  {
   "cell_type": "code",
   "execution_count": 17,
   "id": "23ae40f3-5014-434a-9007-279e1abd3e2a",
   "metadata": {},
   "outputs": [
    {
     "data": {
      "text/plain": [
       "(36181, 126)"
      ]
     },
     "execution_count": 17,
     "metadata": {},
     "output_type": "execute_result"
    }
   ],
   "source": [
    "X_train.shape"
   ]
  },
  {
   "cell_type": "code",
   "execution_count": null,
   "id": "48c1362e-85ab-4f8b-aaad-e4a75634764d",
   "metadata": {},
   "outputs": [],
   "source": []
  },
  {
   "cell_type": "code",
   "execution_count": 18,
   "id": "7d1a6ff1-b445-40b2-ba90-8cd67c60347c",
   "metadata": {},
   "outputs": [],
   "source": [
    "graph = read_parquet(graph_dir + f\"tessellation_graph_{region_id}_knn1.parquet\")"
   ]
  },
  {
   "cell_type": "code",
   "execution_count": null,
   "id": "5dc3c999-6424-49df-a9b0-f66cb290f19a",
   "metadata": {},
   "outputs": [],
   "source": []
  },
  {
   "cell_type": "code",
   "execution_count": null,
   "id": "7082a544-4261-4d92-b45e-e04e11d562d1",
   "metadata": {},
   "outputs": [],
   "source": []
  },
  {
   "cell_type": "code",
   "execution_count": null,
   "id": "c87daeed-57c3-4f17-a0ab-39d5450b186f",
   "metadata": {},
   "outputs": [],
   "source": []
  },
  {
   "cell_type": "code",
   "execution_count": null,
   "id": "b210d6e3-b254-4f53-beaf-9f36e53e4135",
   "metadata": {},
   "outputs": [],
   "source": []
  },
  {
   "cell_type": "code",
   "execution_count": 19,
   "id": "d7820e20-580c-459f-bfd7-bfdc6c90819e",
   "metadata": {},
   "outputs": [],
   "source": [
    "min_cluster_size = 300\n",
    "linkage = 'ward'\n",
    "metric = 'euclidean'"
   ]
  },
  {
   "cell_type": "code",
   "execution_count": 20,
   "id": "055933b8-9059-4930-986c-0f527a10c647",
   "metadata": {},
   "outputs": [],
   "source": [
    "# label building input data, could work with empty tess as well\n",
    "building_graph = graph.subgraph(graph.unique_ids[graph.unique_ids >= 0])\n",
    "labels = building_graph.component_labels\n"
   ]
  },
  {
   "cell_type": "code",
   "execution_count": 21,
   "id": "6a7a342d-f68f-4d47-b96d-78e63532bc9e",
   "metadata": {},
   "outputs": [
    {
     "data": {
      "text/plain": [
       "component labels\n",
       "3     34505\n",
       "4       771\n",
       "21      614\n",
       "23       79\n",
       "9        18\n",
       "7        17\n",
       "24       16\n",
       "6         8\n",
       "22        7\n",
       "19        5\n",
       "8         4\n",
       "25        3\n",
       "26        2\n",
       "5         2\n",
       "28        2\n",
       "18        1\n",
       "27        1\n",
       "20        1\n",
       "0         1\n",
       "17        1\n",
       "16        1\n",
       "15        1\n",
       "1         1\n",
       "13        1\n",
       "12        1\n",
       "11        1\n",
       "10        1\n",
       "2         1\n",
       "14        1\n",
       "Name: count, dtype: int64"
      ]
     },
     "execution_count": 21,
     "metadata": {},
     "output_type": "execute_result"
    }
   ],
   "source": [
    "labels.value_counts()"
   ]
  },
  {
   "cell_type": "code",
   "execution_count": 60,
   "id": "0006d301-717b-4305-83f1-f5429e0c398a",
   "metadata": {},
   "outputs": [
    {
     "name": "stdout",
     "output_type": "stream",
     "text": [
      "CPU times: user 2.26 s, sys: 36.1 ms, total: 2.3 s\n",
      "Wall time: 2.3 s\n"
     ]
    }
   ],
   "source": [
    "%%time\n",
    "\n",
    "results = {}\n",
    "\n",
    "for label, group in labels.groupby(labels):\n",
    "\n",
    "    if group.shape[0] <= min_cluster_size:\n",
    "        component_clusters = np.ones(group.shape[0])\n",
    "\n",
    "    else:\n",
    "        component_buildings_data = preprocess_clustering_data(X_train.loc[group.index.values])\n",
    "        component_graph = building_graph.subgraph(group.index.values)\n",
    "        ward_tree = get_tree(component_buildings_data, component_graph.transform('B').sparse, linkage, metric)\n",
    "        # component_clusters = get_clusters(ward_tree, min_cluster_size, eom_clusters=True)\n",
    "        \n",
    "        component_clusters = fcluster(ward_tree, t=80, criterion='distance')\n",
    "        component_clusters = post_process_clusters(component_buildings_data, component_graph, component_clusters)\n",
    "\n",
    "        for c in np.unique(component_clusters):\n",
    "            cluster_graph = component_graph.subgraph(group.index[component_clusters == c].values)\n",
    "            assert cluster_graph.n_components == 1\n",
    "    \n",
    "        # if label ==3: break\n",
    "    results[label] = component_clusters"
   ]
  },
  {
   "cell_type": "code",
   "execution_count": null,
   "id": "8826e087-716b-40e5-8348-a9d732616fc3",
   "metadata": {},
   "outputs": [],
   "source": []
  },
  {
   "cell_type": "code",
   "execution_count": null,
   "id": "eb2e41c4-1f88-4f43-b942-1bcff9f9691b",
   "metadata": {},
   "outputs": [],
   "source": []
  },
  {
   "cell_type": "code",
   "execution_count": null,
   "id": "33a72801-87f2-4b38-a5a7-aabab9cd4ba0",
   "metadata": {},
   "outputs": [],
   "source": []
  },
  {
   "cell_type": "code",
   "execution_count": null,
   "id": "0c0fa7e2-1974-400f-b953-f212508ee504",
   "metadata": {},
   "outputs": [],
   "source": []
  },
  {
   "cell_type": "code",
   "execution_count": 61,
   "id": "a3108309-8710-4992-bbab-5550e4162420",
   "metadata": {},
   "outputs": [],
   "source": [
    "label_groups = labels.groupby(labels)\n",
    "region_cluster_labels = []\n",
    "for label, component_clusters in results.items():\n",
    "    group = label_groups.get_group(label)\n",
    "    component_labels = str(label) + '_' + pd.Series(component_clusters.astype(str), \n",
    "                                                    index=group.index.values)\n",
    "    region_cluster_labels.append(component_labels)\n",
    "\n",
    "region_cluster_labels = pd.concat(region_cluster_labels).sort_index()\n",
    "assert (X_train[X_train.index >= 0].index == region_cluster_labels.index).all()\n",
    "region_cluster_labels.to_csv(cluster_dir + f'clusters_{region_id}.csv')"
   ]
  },
  {
   "cell_type": "code",
   "execution_count": null,
   "id": "acc9c6dc-0889-42bc-a57c-ad92ab0f640f",
   "metadata": {},
   "outputs": [],
   "source": []
  },
  {
   "cell_type": "code",
   "execution_count": null,
   "id": "6067dbcd-cc96-4502-80e5-7841471749d6",
   "metadata": {},
   "outputs": [],
   "source": []
  },
  {
   "cell_type": "code",
   "execution_count": null,
   "id": "06c9bd9f-4755-4893-8cb0-ee11495401e7",
   "metadata": {},
   "outputs": [],
   "source": []
  },
  {
   "cell_type": "code",
   "execution_count": null,
   "id": "9c52630a-7efe-4bc3-957f-a31bdf42e44b",
   "metadata": {},
   "outputs": [],
   "source": []
  },
  {
   "cell_type": "code",
   "execution_count": null,
   "id": "e7582965-7296-4e40-ba5e-76047a61c336",
   "metadata": {},
   "outputs": [],
   "source": []
  },
  {
   "cell_type": "code",
   "execution_count": 62,
   "id": "8cc3a094-b0c4-4050-9c76-1235fc330a2d",
   "metadata": {},
   "outputs": [],
   "source": [
    "tessellation = gpd.read_parquet(\n",
    "        tessellations_dir + f\"tessellation_{region_id}.parquet\"\n",
    ")"
   ]
  },
  {
   "cell_type": "code",
   "execution_count": 63,
   "id": "5e4beef1-364b-4d42-9296-d4b26e88d7c3",
   "metadata": {},
   "outputs": [
    {
     "data": {
      "text/plain": [
       "component labels\n",
       "3     34505\n",
       "4       771\n",
       "21      614\n",
       "23       79\n",
       "9        18\n",
       "7        17\n",
       "24       16\n",
       "6         8\n",
       "22        7\n",
       "19        5\n",
       "8         4\n",
       "25        3\n",
       "26        2\n",
       "5         2\n",
       "28        2\n",
       "18        1\n",
       "27        1\n",
       "20        1\n",
       "0         1\n",
       "17        1\n",
       "16        1\n",
       "15        1\n",
       "1         1\n",
       "13        1\n",
       "12        1\n",
       "11        1\n",
       "10        1\n",
       "2         1\n",
       "14        1\n",
       "Name: component labels, dtype: int64"
      ]
     },
     "execution_count": 63,
     "metadata": {},
     "output_type": "execute_result"
    }
   ],
   "source": [
    "labels.groupby(labels).size().sort_values(ascending=False)"
   ]
  },
  {
   "cell_type": "code",
   "execution_count": 64,
   "id": "ced4354c-c8f6-4ce9-9928-7cfb2cb55390",
   "metadata": {},
   "outputs": [
    {
     "data": {
      "text/plain": [
       "(34505,)"
      ]
     },
     "execution_count": 64,
     "metadata": {},
     "output_type": "execute_result"
    }
   ],
   "source": [
    "label = 3\n",
    "labels.groupby(labels).get_group(label).shape"
   ]
  },
  {
   "cell_type": "code",
   "execution_count": 65,
   "id": "bf4136f5-8356-47ba-a7d8-736345f49eb4",
   "metadata": {},
   "outputs": [],
   "source": [
    "# tessellation.loc[labels.groupby(labels).get_group(label).index.values].explore(column=results[label], categorical=True)"
   ]
  },
  {
   "cell_type": "code",
   "execution_count": 66,
   "id": "e593d401-ff91-4141-a4f8-6461961e227c",
   "metadata": {},
   "outputs": [],
   "source": [
    "# buildings = gpd.read_parquet(f'/data/uscuni-ulce/processed_data/buildings/buildings_{region_id}.parquet')"
   ]
  },
  {
   "cell_type": "code",
   "execution_count": null,
   "id": "7f5b51a0-c338-402a-8e61-13185468ee2a",
   "metadata": {},
   "outputs": [],
   "source": []
  },
  {
   "cell_type": "code",
   "execution_count": 67,
   "id": "9a7d820c-6be3-450f-b1d4-41a402239321",
   "metadata": {},
   "outputs": [
    {
     "data": {
      "text/plain": [
       "(34505, 3)"
      ]
     },
     "execution_count": 67,
     "metadata": {},
     "output_type": "execute_result"
    }
   ],
   "source": [
    "plotting = tessellation.loc[labels.groupby(labels).get_group(label).index.values]\n",
    "plotting['label'] = results[label]\n",
    "plotting.shape"
   ]
  },
  {
   "cell_type": "code",
   "execution_count": 68,
   "id": "cbc5aa0c-f629-4dea-a76a-84b9c17475c3",
   "metadata": {},
   "outputs": [],
   "source": [
    "# layer.get_fill_color = get_color(plotting['label'].values)"
   ]
  },
  {
   "cell_type": "code",
   "execution_count": 69,
   "id": "40e40ae0-0a2b-4541-b715-64ee6bac0c69",
   "metadata": {
    "scrolled": true
   },
   "outputs": [
    {
     "data": {
      "text/plain": [
       "143"
      ]
     },
     "execution_count": 69,
     "metadata": {},
     "output_type": "execute_result"
    }
   ],
   "source": [
    "plotting['label'].nunique()"
   ]
  },
  {
   "cell_type": "code",
   "execution_count": null,
   "id": "4f03a159-0f6f-4fd0-a258-4157a634417b",
   "metadata": {},
   "outputs": [],
   "source": []
  },
  {
   "cell_type": "code",
   "execution_count": null,
   "id": "6e43fe9c-e692-4bd8-8097-23f3180a4027",
   "metadata": {},
   "outputs": [],
   "source": []
  },
  {
   "cell_type": "code",
   "execution_count": null,
   "id": "54570b18-0fd1-4905-9ac0-ceef67ccead1",
   "metadata": {},
   "outputs": [],
   "source": []
  },
  {
   "cell_type": "code",
   "execution_count": null,
   "id": "0ce0f86b-0099-4e21-811a-d0e20cfbcbb6",
   "metadata": {},
   "outputs": [],
   "source": []
  },
  {
   "cell_type": "code",
   "execution_count": 87,
   "id": "ff702bbb-4dd5-4ecd-a86b-6eab21489e73",
   "metadata": {},
   "outputs": [
    {
     "name": "stderr",
     "output_type": "stream",
     "text": [
      "/home/krasen/miniconda3/envs/urban_taxonomy/lib/python3.12/site-packages/lonboard/_geoarrow/ops/reproject.py:97: UserWarning: Input being reprojected to EPSG:4326 CRS\n",
      "  warnings.warn(\"Input being reprojected to EPSG:4326 CRS\")\n"
     ]
    },
    {
     "name": "stdout",
     "output_type": "stream",
     "text": [
      "CPU times: user 564 ms, sys: 47.7 ms, total: 612 ms\n",
      "Wall time: 611 ms\n"
     ]
    }
   ],
   "source": [
    "%%time\n",
    "import lonboard\n",
    "# plotting = tessellation[tessellation.index.isin(X_train.index)].copy()\n",
    "layer = lonboard.SolidPolygonLayer.from_geopandas(plotting, opacity=.08)"
   ]
  },
  {
   "cell_type": "code",
   "execution_count": 88,
   "id": "554fb4c0-4eb8-44a5-8503-d96f15dd7c5b",
   "metadata": {},
   "outputs": [],
   "source": [
    "from sidecar import Sidecar\n",
    "sc = Sidecar(title='Clusters')\n",
    "m = lonboard.Map(layer, basemap_style=lonboard.basemap.CartoBasemap.Positron)\n",
    "with sc:\n",
    "    display(m)\n",
    "\n",
    "from core.cluster_validation import get_color\n",
    "layer.get_fill_color = get_color(plotting['label'].values)"
   ]
  },
  {
   "cell_type": "code",
   "execution_count": null,
   "id": "8050b832-0cb6-46ef-a989-dd5fb4c8093f",
   "metadata": {},
   "outputs": [],
   "source": []
  },
  {
   "cell_type": "code",
   "execution_count": null,
   "id": "c3d4b0af-d876-4809-b1ca-c0416cfcfd4c",
   "metadata": {},
   "outputs": [],
   "source": []
  },
  {
   "cell_type": "code",
   "execution_count": null,
   "id": "a2d6526b-f005-426e-9c36-44cc4cd0f389",
   "metadata": {},
   "outputs": [],
   "source": []
  },
  {
   "cell_type": "code",
   "execution_count": null,
   "id": "e16ffa5c-7238-4b73-9d4c-cbd8ff91496c",
   "metadata": {},
   "outputs": [],
   "source": []
  },
  {
   "cell_type": "code",
   "execution_count": null,
   "id": "846e67de-d4c7-40a9-8fea-45c22c7f669e",
   "metadata": {},
   "outputs": [],
   "source": []
  },
  {
   "cell_type": "code",
   "execution_count": 54,
   "id": "53410343-76a7-4107-98d0-42801c7f44d6",
   "metadata": {
    "scrolled": true
   },
   "outputs": [
    {
     "name": "stdout",
     "output_type": "stream",
     "text": [
      "CPU times: user 23.8 s, sys: 179 μs, total: 23.8 s\n",
      "Wall time: 23.8 s\n"
     ]
    }
   ],
   "source": [
    "%%time\n",
    "\n",
    "clrs_geometry = tessellation.loc[region_cluster_labels.index]\n",
    "clrs_geometry['label'] = region_cluster_labels.values\n",
    "clrs_geometry = clrs_geometry.dissolve('label').simplify(1).to_frame()\n",
    "clrs_geometry.columns = ['geometry']\n",
    "clrs_geometry = clrs_geometry.set_geometry('geometry')"
   ]
  },
  {
   "cell_type": "code",
   "execution_count": 55,
   "id": "cbe06891-dc6b-496e-b69e-6bf7875b369c",
   "metadata": {},
   "outputs": [],
   "source": [
    "# clrs_geometry.explore()"
   ]
  },
  {
   "cell_type": "code",
   "execution_count": 56,
   "id": "f23ce599-5f6e-4043-8963-a5f400394674",
   "metadata": {},
   "outputs": [],
   "source": [
    "clrs_geometry.to_parquet(f'../data/clusters_{region_id}_{min_cluster_size}.pq')"
   ]
  },
  {
   "cell_type": "code",
   "execution_count": null,
   "id": "8c64487d-efad-4137-a5ba-c702e3be58b0",
   "metadata": {},
   "outputs": [],
   "source": []
  },
  {
   "cell_type": "code",
   "execution_count": null,
   "id": "b7fc7ca9-d90d-45ae-88fc-ca19b5618f8d",
   "metadata": {},
   "outputs": [],
   "source": []
  },
  {
   "cell_type": "code",
   "execution_count": null,
   "id": "1e829bd1-467c-4929-98e7-4833448ec664",
   "metadata": {},
   "outputs": [],
   "source": []
  },
  {
   "cell_type": "code",
   "execution_count": null,
   "id": "1a355ac4-fc08-470e-83f4-9665be617f09",
   "metadata": {},
   "outputs": [],
   "source": []
  },
  {
   "cell_type": "code",
   "execution_count": null,
   "id": "ae12cf64-2dde-4828-b4e4-fac1daa73097",
   "metadata": {},
   "outputs": [],
   "source": []
  },
  {
   "cell_type": "markdown",
   "id": "293b9dfc-260e-42dd-bfe8-7f91df7f7fdf",
   "metadata": {},
   "source": [
    "----"
   ]
  },
  {
   "cell_type": "code",
   "execution_count": 74,
   "id": "02c0ceab-1c44-4177-9866-a34c9109a133",
   "metadata": {},
   "outputs": [],
   "source": [
    "def percentile(n):\n",
    "    def percentile_(x):\n",
    "        return np.percentile(x, n)\n",
    "    percentile_.__name__ = 'percentile_%s' % n\n",
    "    return percentile_"
   ]
  },
  {
   "cell_type": "code",
   "execution_count": 75,
   "id": "5c8c8e47-3c0d-453c-b542-e0985bf2ba80",
   "metadata": {},
   "outputs": [],
   "source": [
    "component_data = X_train.loc[labels.groupby(labels).get_group(label).index.values]"
   ]
  },
  {
   "cell_type": "code",
   "execution_count": 76,
   "id": "90d6e36f-d07e-4d6a-8b35-8ea548ba9667",
   "metadata": {},
   "outputs": [],
   "source": [
    "# component_data = component_data.groupby(results[label]).agg([np.min, np.median, np.max])"
   ]
  },
  {
   "cell_type": "code",
   "execution_count": null,
   "id": "b8eb97db-d7dd-4290-b847-4f32e05ab744",
   "metadata": {},
   "outputs": [],
   "source": []
  },
  {
   "cell_type": "code",
   "execution_count": 77,
   "id": "48da6d24-9fe5-4cfb-b53e-233b9f1410fe",
   "metadata": {},
   "outputs": [],
   "source": [
    "component_data = component_data.groupby(results[label]).agg([percentile(10), \n",
    "                                                             'median', \n",
    "                                                             percentile(90)])"
   ]
  },
  {
   "cell_type": "code",
   "execution_count": null,
   "id": "cec98e3d-994c-4eb2-91d2-e84d7910d282",
   "metadata": {},
   "outputs": [],
   "source": []
  },
  {
   "cell_type": "code",
   "execution_count": 78,
   "id": "020328c1-c5b0-4a02-92a0-89fb061c1155",
   "metadata": {},
   "outputs": [],
   "source": [
    "component_data = component_data[component_data.index >= 0]\n",
    "vals = np.nan_to_num(component_data)\n",
    "component_data = pd.DataFrame(vals, columns=component_data.columns, index=component_data.index)"
   ]
  },
  {
   "cell_type": "code",
   "execution_count": null,
   "id": "bd22769d-c4db-495a-9979-13346a07162c",
   "metadata": {},
   "outputs": [],
   "source": []
  },
  {
   "cell_type": "code",
   "execution_count": null,
   "id": "e6d41390-dc78-4058-b48a-7f9a318b2102",
   "metadata": {},
   "outputs": [],
   "source": []
  },
  {
   "cell_type": "code",
   "execution_count": 79,
   "id": "80350e06-ae54-4149-a375-f624dca07d35",
   "metadata": {},
   "outputs": [
    {
     "name": "stdout",
     "output_type": "stream",
     "text": [
      "UMAP(min_dist=0, n_neighbors=10, verbose=True)\n",
      "Tue Aug 20 19:44:30 2024 Construct fuzzy simplicial set\n",
      "Tue Aug 20 19:44:30 2024 Finding Nearest Neighbors\n",
      "Tue Aug 20 19:44:30 2024 Finished Nearest Neighbor Search\n",
      "Tue Aug 20 19:44:30 2024 Construct embedding\n"
     ]
    },
    {
     "data": {
      "application/vnd.jupyter.widget-view+json": {
       "model_id": "c3f7a3ad9f4640de83a3cb553fd5ce18",
       "version_major": 2,
       "version_minor": 0
      },
      "text/plain": [
       "Epochs completed:   0%|            0/500 [00:00]"
      ]
     },
     "metadata": {},
     "output_type": "display_data"
    },
    {
     "name": "stdout",
     "output_type": "stream",
     "text": [
      "\tcompleted  0  /  500 epochs\n",
      "\tcompleted  50  /  500 epochs\n",
      "\tcompleted  100  /  500 epochs\n",
      "\tcompleted  150  /  500 epochs\n",
      "\tcompleted  200  /  500 epochs\n",
      "\tcompleted  250  /  500 epochs\n",
      "\tcompleted  300  /  500 epochs\n",
      "\tcompleted  350  /  500 epochs\n",
      "\tcompleted  400  /  500 epochs\n",
      "\tcompleted  450  /  500 epochs\n",
      "Tue Aug 20 19:44:31 2024 Finished embedding\n"
     ]
    },
    {
     "name": "stderr",
     "output_type": "stream",
     "text": [
      "/home/krasen/miniconda3/envs/urban_taxonomy/lib/python3.12/site-packages/umap/plot.py:449: UserWarning: *c* argument looks like a single numeric RGB or RGBA sequence, which should be avoided as value-mapping will have precedence in case its length matches with *x* & *y*.  Please use the *color* keyword-argument or provide a 2D array with a single row if you intend to specify the same RGB or RGBA value for all points.\n",
      "  ax.scatter(points[:, 0], points[:, 1], s=point_size, c=color)\n"
     ]
    },
    {
     "data": {
      "text/plain": [
       "<Axes: >"
      ]
     },
     "execution_count": 79,
     "metadata": {},
     "output_type": "execute_result"
    },
    {
     "data": {
      "image/png": "[encoded data removed]",
      "text/plain": [
       "<Figure size 800x800 with 1 Axes>"
      ]
     },
     "metadata": {},
     "output_type": "display_data"
    }
   ],
   "source": [
    "import umap\n",
    "import umap.plot\n",
    "\n",
    "reducer = umap.UMAP(n_neighbors=10, n_components=2, min_dist=0, metric='euclidean', verbose=True)\n",
    "# reducer = umap.UMAP(n_neighbors=10, n_components=2, min_dist=0, metric='cosine', verbose=True)\n",
    "embedding = reducer.fit_transform(component_data)\n",
    "umap.plot.points(reducer)"
   ]
  },
  {
   "cell_type": "code",
   "execution_count": null,
   "id": "67859769-2550-4b95-a036-00252ac2a976",
   "metadata": {},
   "outputs": [],
   "source": []
  },
  {
   "cell_type": "code",
   "execution_count": null,
   "id": "50088742-45c2-42da-a092-8a1e8ae85c88",
   "metadata": {},
   "outputs": [],
   "source": []
  },
  {
   "cell_type": "code",
   "execution_count": null,
   "id": "f113cdf9-c85b-4390-b586-ffdf3f8aad9c",
   "metadata": {},
   "outputs": [],
   "source": []
  },
  {
   "cell_type": "code",
   "execution_count": 90,
   "id": "88c68a9d-510a-49ea-ba98-d28ebd0576c4",
   "metadata": {},
   "outputs": [],
   "source": [
    "clusterer = AgglomerativeClustering(linkage='ward',\n",
    "                                    compute_full_tree=True,\n",
    "                                    compute_distances=True)\n",
    "model = clusterer.fit(embedding)\n",
    "linkage_matrix = get_linkage_matrix(model)"
   ]
  },
  {
   "cell_type": "code",
   "execution_count": 91,
   "id": "f48da5c5-1a1f-42d3-806f-921d69b81a30",
   "metadata": {
    "scrolled": true
   },
   "outputs": [
    {
     "data": {
      "image/png": "[encoded data removed]",
      "text/plain": [
       "<Figure size 2000x2000 with 1 Axes>"
      ]
     },
     "metadata": {},
     "output_type": "display_data"
    }
   ],
   "source": [
    "fig,ax = plt.subplots(figsize=(20,20))\n",
    "_ = dendrogram(linkage_matrix, ax=ax)"
   ]
  },
  {
   "cell_type": "code",
   "execution_count": 92,
   "id": "8d18b997-b304-4501-a662-c24cf6636d52",
   "metadata": {},
   "outputs": [],
   "source": [
    "clusters = fcluster(linkage_matrix, t=5, criterion='distance')"
   ]
  },
  {
   "cell_type": "code",
   "execution_count": null,
   "id": "e342064b-ba1b-485f-8a37-aa1bb73df002",
   "metadata": {},
   "outputs": [],
   "source": []
  },
  {
   "cell_type": "code",
   "execution_count": 101,
   "id": "060b7c5e-d461-4613-83aa-96d6452f9ac4",
   "metadata": {},
   "outputs": [],
   "source": [
    "from sklearn.cluster import KMeans, MiniBatchKMeans\n",
    "from sklearn.metrics import adjusted_rand_score\n",
    "clusters = KMeans(n_clusters=15, max_iter=5000, n_init=100).fit(embedding).labels_"
   ]
  },
  {
   "cell_type": "code",
   "execution_count": 102,
   "id": "7f262c5f-d1b3-434b-a7a2-eef253064c47",
   "metadata": {},
   "outputs": [
    {
     "data": {
      "text/plain": [
       "array([13, 13,  6,  6, 13, 13,  2, 12, 13,  2,  7,  2, 12, 12,  5,  5,  5,\n",
       "        5,  8,  8,  8,  4,  7, 13, 13, 12,  2,  8, 14, 10,  9, 11,  7,  8,\n",
       "        4,  7,  4, 14, 14, 10,  0,  0, 11,  0, 12,  3, 10,  3,  8,  5,  0,\n",
       "        5,  3,  1,  8,  3,  8,  5,  4,  8,  3,  3, 11,  1,  3,  0,  1, 12,\n",
       "       11, 11,  1,  4,  8,  9,  8,  9, 11, 10, 12, 10, 11, 13,  2,  2, 11,\n",
       "       12, 11, 12,  9,  2, 10, 10,  5,  0,  3,  8, 14,  5,  5,  9, 14,  4,\n",
       "       14,  4, 14,  5, 14, 14,  7,  7,  4,  9, 14,  9,  9,  9,  7,  2,  9,\n",
       "       14, 14,  7,  9,  4,  6,  7, 10, 14,  6,  6,  0,  6,  0,  6,  0,  6,\n",
       "        6,  7,  0,  9,  3, 11,  3], dtype=int32)"
      ]
     },
     "execution_count": 102,
     "metadata": {},
     "output_type": "execute_result"
    }
   ],
   "source": [
    "clusters"
   ]
  },
  {
   "cell_type": "code",
   "execution_count": 103,
   "id": "623b043e-3ead-40ba-aeb4-9ba0b9b6d301",
   "metadata": {},
   "outputs": [],
   "source": [
    "clusters = pd.Series(clusters, index=component_data.index.values)\n",
    "clusters[-1] = -1\n",
    "clusters = clusters.loc[results[label]].values"
   ]
  },
  {
   "cell_type": "code",
   "execution_count": null,
   "id": "154c2d6b-f09e-4067-99d7-b4525829250f",
   "metadata": {},
   "outputs": [],
   "source": []
  },
  {
   "cell_type": "code",
   "execution_count": 104,
   "id": "5c5c6e83-d28d-4278-8765-ee9368555e12",
   "metadata": {},
   "outputs": [],
   "source": [
    "layer.get_fill_color = get_color(clusters)"
   ]
  },
  {
   "cell_type": "code",
   "execution_count": null,
   "id": "32dda125-cf78-4121-9cbe-a7eccddfed4f",
   "metadata": {},
   "outputs": [],
   "source": []
  },
  {
   "cell_type": "code",
   "execution_count": null,
   "id": "ffc328c0-39bb-4f87-86c7-901f02e201de",
   "metadata": {},
   "outputs": [],
   "source": []
  },
  {
   "cell_type": "code",
   "execution_count": null,
   "id": "3f2b61fc-9394-4c8d-862c-8fbbc29ae1af",
   "metadata": {},
   "outputs": [],
   "source": []
  },
  {
   "cell_type": "code",
   "execution_count": null,
   "id": "2a83a8bf-0412-46f7-aa33-fb51d6a52910",
   "metadata": {},
   "outputs": [],
   "source": []
  },
  {
   "cell_type": "code",
   "execution_count": null,
   "id": "a52231de-5cf2-49d4-880a-87e28d214a0c",
   "metadata": {},
   "outputs": [],
   "source": []
  },
  {
   "cell_type": "code",
   "execution_count": 146,
   "id": "fef7d491-b679-49d0-bb71-6a9f1acaa06d",
   "metadata": {},
   "outputs": [],
   "source": [
    "from clustergram import Clustergram\n",
    "from sklearn.mixture import GaussianMixture"
   ]
  },
  {
   "cell_type": "code",
   "execution_count": 150,
   "id": "b9544564-7e03-4a3e-8c60-8fc2121cb747",
   "metadata": {},
   "outputs": [
    {
     "data": {
      "text/plain": [
       "(60555, 63)"
      ]
     },
     "execution_count": 150,
     "metadata": {},
     "output_type": "execute_result"
    }
   ],
   "source": [
    "component_data = X_train.loc[labels.groupby(labels).get_group(label).index.values]\n",
    "component_data.shape"
   ]
  },
  {
   "cell_type": "code",
   "execution_count": 151,
   "id": "6b9a92ec-b743-4ed7-8ffc-db783ed4ad24",
   "metadata": {},
   "outputs": [
    {
     "data": {
      "text/plain": [
       "(60555, 54)"
      ]
     },
     "execution_count": 151,
     "metadata": {},
     "output_type": "execute_result"
    }
   ],
   "source": [
    "component_data = preprocess_clustering_data(component_data)\n",
    "component_data.shape"
   ]
  },
  {
   "cell_type": "code",
   "execution_count": null,
   "id": "136b6bad-8bb7-461d-b922-7015f204d94b",
   "metadata": {},
   "outputs": [],
   "source": [
    "%%time\n",
    "gmm = GaussianMixture(n_components=10, \n",
    "                      covariance_type=\"full\",\n",
    "                      max_iter=200, \n",
    "                      n_init=100,\n",
    "                      random_state=42)\n",
    "fitted = gmm.fit(component_data)\n",
    "clusters = fitted.predict(component_data)\n",
    "pd.Series(clusters, index=component_data.index).to_csv('../data/gmm_10_clusters.csv')"
   ]
  },
  {
   "cell_type": "code",
   "execution_count": null,
   "id": "bc95f23f-7741-4226-b623-8089a6e1889f",
   "metadata": {},
   "outputs": [],
   "source": []
  },
  {
   "cell_type": "code",
   "execution_count": 659,
   "id": "a047b90c-edcb-4ff1-a3e5-16ff7943fcc1",
   "metadata": {},
   "outputs": [],
   "source": [
    "clusters = pd.read_csv('../data/gmm_10_clusters.csv').set_index('Unnamed: 0')"
   ]
  },
  {
   "cell_type": "code",
   "execution_count": null,
   "id": "6a9d7a95-9bb8-4463-b422-f4bfe0275bed",
   "metadata": {},
   "outputs": [],
   "source": []
  }
 ],
 "metadata": {
  "kernelspec": {
   "display_name": "Python 3 (ipykernel)",
   "language": "python",
   "name": "python3"
  },
  "language_info": {
   "codemirror_mode": {
    "name": "ipython",
    "version": 3
   },
   "file_extension": ".py",
   "mimetype": "text/x-python",
   "name": "python",
   "nbconvert_exporter": "python",
   "pygments_lexer": "ipython3",
   "version": "3.12.4"
  }
 },
 "nbformat": 4,
 "nbformat_minor": 5
}
