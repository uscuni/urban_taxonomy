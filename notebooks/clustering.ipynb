{
 "cells": [
  {
   "cell_type": "code",
   "execution_count": 2,
   "id": "7ea4918a-bb38-415c-b50f-bf1f94101b01",
   "metadata": {},
   "outputs": [
    {
     "name": "stdout",
     "output_type": "stream",
     "text": [
      "CPU times: user 23 μs, sys: 0 ns, total: 23 μs\n",
      "Wall time: 24.3 μs\n"
     ]
    }
   ],
   "source": [
    "%%time\n",
    "\n",
    "import glob\n",
    "\n",
    "import geopandas as gpd\n",
    "import matplotlib.pyplot as plt\n",
    "import numba\n",
    "import numpy as np\n",
    "import pandas as pd\n",
    "from libpysal.graph import read_parquet\n",
    "from sklearn.preprocessing import PowerTransformer, RobustScaler, StandardScaler\n",
    "\n",
    "from sklearn.neighbors import KDTree\n",
    "\n",
    "from sklearn.cluster import AgglomerativeClustering\n",
    "from scipy.cluster.hierarchy import dendrogram\n",
    "from scipy.cluster.hierarchy import fcluster\n",
    "from sklearn.metrics import adjusted_rand_score\n",
    "from sklearn.metrics import davies_bouldin_score\n",
    "from core.cluster_validation import get_linkage_matrix\n",
    "\n",
    "from fast_hdbscan.cluster_trees import (\n",
    "    cluster_tree_from_condensed_tree,\n",
    "    condense_tree,\n",
    "    extract_eom_clusters,\n",
    "    extract_leaves,\n",
    "    get_cluster_label_vector,\n",
    "    mst_to_linkage_tree,\n",
    ")\n",
    "from sklearn.neighbors import KDTree\n",
    "import shapely\n",
    "from core.cluster_validation import generate_detailed_clusters\n",
    "from core.generate_context import spatially_weighted_partial_lag\n",
    "from core.generate_clusters import cluster_data"
   ]
  },
  {
   "cell_type": "code",
   "execution_count": null,
   "id": "c4562cd1-1f86-45d0-b662-8a6a948a2671",
   "metadata": {},
   "outputs": [],
   "source": []
  },
  {
   "cell_type": "code",
   "execution_count": 3,
   "id": "f78cb85f-68e2-4e86-a4d1-3518bb62ad34",
   "metadata": {},
   "outputs": [],
   "source": [
    "\n",
    "\n",
    "tessellations_dir = '/data/uscuni-ulce/processed_data/tessellations/'\n",
    "chars_dir = \"/data/uscuni-ulce/processed_data/chars/\"\n",
    "graph_dir = \"/data/uscuni-ulce/processed_data/neigh_graphs/\"\n",
    "cluster_dir = '/data/uscuni-ulce/processed_data/clusters/'\n"
   ]
  },
  {
   "cell_type": "code",
   "execution_count": 4,
   "id": "2f784d07-59fe-4a99-8a97-12839500f50c",
   "metadata": {},
   "outputs": [],
   "source": [
    "region_id = 69333\n",
    "val_path = '/data/uscuni-ulce/val_morphotopes/prague_morphotopes.pq'"
   ]
  },
  {
   "cell_type": "code",
   "execution_count": 5,
   "id": "431203bb-9793-4bac-8286-137e61f7492b",
   "metadata": {},
   "outputs": [],
   "source": [
    "# region_id = 4"
   ]
  },
  {
   "cell_type": "code",
   "execution_count": null,
   "id": "026da533-bd10-4dd8-854e-2c59917beedd",
   "metadata": {},
   "outputs": [],
   "source": []
  },
  {
   "cell_type": "code",
   "execution_count": 6,
   "id": "4b48fd6c-cf84-4137-96c7-41eaa42d2733",
   "metadata": {},
   "outputs": [],
   "source": [
    "X_train = pd.read_parquet(chars_dir + f'primary_chars_{region_id}.parquet')\n",
    "graph = read_parquet(graph_dir + f\"tessellation_graph_{region_id}_knn1.parquet\")\n",
    "tessellation = gpd.read_parquet(\n",
    "        tessellations_dir + f\"tessellation_{region_id}.parquet\"\n",
    ")\n",
    "morphotopes = gpd.read_parquet(val_path)"
   ]
  },
  {
   "cell_type": "code",
   "execution_count": null,
   "id": "a96bd6e1-fcca-464f-a71f-ee601322fe0b",
   "metadata": {},
   "outputs": [],
   "source": []
  },
  {
   "cell_type": "code",
   "execution_count": null,
   "id": "17373cf1-ab71-4b5d-8a71-5ad2c1967ee8",
   "metadata": {},
   "outputs": [],
   "source": []
  },
  {
   "cell_type": "code",
   "execution_count": 7,
   "id": "50c2e6f7-6f78-46f6-af78-53f8b229f149",
   "metadata": {},
   "outputs": [],
   "source": [
    "\n",
    "\n",
    "tess_groups = generate_detailed_clusters(tessellation,\n",
    "                                         include_random_sample=False, path=val_path)\n",
    "tess_groups = tess_groups[tess_groups.index.isin(X_train.index)]\n",
    "\n",
    "\n",
    "tess_groups_ilocs = (\n",
    "    pd.Series(np.arange(len(X_train[X_train.index >=0])), index=X_train[X_train.index >=0].index)\n",
    "    .loc[tess_groups.index]\n",
    "    .values\n",
    ")"
   ]
  },
  {
   "cell_type": "code",
   "execution_count": null,
   "id": "38135f01-a4fa-4bfd-a3c9-aa4caaaffc86",
   "metadata": {},
   "outputs": [],
   "source": []
  },
  {
   "cell_type": "code",
   "execution_count": 8,
   "id": "9c0075f8-1da2-41e3-893b-da0a2f465da0",
   "metadata": {},
   "outputs": [],
   "source": [
    "spatial_lags = [1, 2, 3, 4, 5]\n",
    "kernels = ['gaussian', 'inverse', 'weights']\n",
    "lag_types = ['_median', '_iqr', '_']\n",
    "cluster_sizes = [50, 75, 100, 150, 250]\n",
    "chars_to_drop = [\n",
    "    [],\n",
    "    ['stcSAl', 'stcOri'],\n",
    "    [\n",
    "       'stcSAl',\n",
    "       'ltkOri',\n",
    "         'stbOri',\n",
    "         'stcOri',\n",
    "         'stbCeA'\n",
    "    ]\n",
    "          \n",
    "]\n",
    "clips = [None, (-5,5), (-10, 10)]\n",
    "\n",
    "\n",
    "linkage = 'ward'\n",
    "metric = 'euclidean'\n",
    "centroids = shapely.get_coordinates(tessellation.representative_point())"
   ]
  },
  {
   "cell_type": "code",
   "execution_count": 9,
   "id": "686218ed-f03c-47dd-8a35-c0cfb4278572",
   "metadata": {},
   "outputs": [],
   "source": [
    "from core.generate_context import partial_weighted_percentile"
   ]
  },
  {
   "cell_type": "code",
   "execution_count": null,
   "id": "085c5ee1-0616-4269-bdbc-7a726e51bf71",
   "metadata": {},
   "outputs": [],
   "source": []
  },
  {
   "cell_type": "code",
   "execution_count": null,
   "id": "9fbd4278-7697-4939-a9d4-af553004b196",
   "metadata": {},
   "outputs": [],
   "source": []
  },
  {
   "cell_type": "code",
   "execution_count": 10,
   "id": "9c0425b7-11a3-4be9-b88b-80dcaea4c33f",
   "metadata": {},
   "outputs": [],
   "source": [
    "from core.generate_clusters import preprocess_clustering_data, get_clusters, post_process_clusters, get_tree\n",
    "# # label building input data, could work with empty tess as well\n",
    "building_graph = graph.subgraph(graph.unique_ids[graph.unique_ids >= 0])\n",
    "labels = building_graph.component_labels"
   ]
  },
  {
   "cell_type": "code",
   "execution_count": 11,
   "id": "15910fa9-b7db-403e-b3a5-6694b418da69",
   "metadata": {},
   "outputs": [],
   "source": [
    "min_cluster_size = 100\n",
    "spatial_lag = 3\n",
    "kernel='gaussian'\n",
    "\n",
    "to_drop = []\n",
    "# to_drop = ['stcSAl', 'stcOri']\n",
    "to_drop = [\n",
    "       'stcSAl',\n",
    "       'ltkOri',\n",
    "         'stbOri',\n",
    "         'stcOri',\n",
    "         'stbCeA'\n",
    "]\n",
    "\n",
    "# least important 10 features\n",
    "to_drop = ['sdsLen', 'sssLin', 'ltcBuA', 'lcnClo', 'mtbSWR', 'ssbCor', 'xcnSCl',\n",
    "       'mtdDeg', 'libNCo', 'sdbCoA']\n",
    "\n",
    "lag_type = '_median'\n",
    "\n",
    "clip = None\n",
    "linkage='ward'\n",
    "metric='euclidean'"
   ]
  },
  {
   "cell_type": "code",
   "execution_count": null,
   "id": "67dcdb6c-e47f-4e3f-890f-6e1fcad4cbe6",
   "metadata": {},
   "outputs": [],
   "source": []
  },
  {
   "cell_type": "code",
   "execution_count": null,
   "id": "45da41aa-76ac-4457-8350-e1ccb9c9e951",
   "metadata": {},
   "outputs": [],
   "source": []
  },
  {
   "cell_type": "code",
   "execution_count": null,
   "id": "f9a09d5e-f915-4faf-b440-85beacd1afea",
   "metadata": {},
   "outputs": [],
   "source": []
  },
  {
   "cell_type": "code",
   "execution_count": 12,
   "id": "6d42e839-db93-444e-8913-3d6006cac872",
   "metadata": {},
   "outputs": [
    {
     "name": "stdout",
     "output_type": "stream",
     "text": [
      "CPU times: user 4min 22s, sys: 21.9 s, total: 4min 44s\n",
      "Wall time: 40.5 s\n"
     ]
    }
   ],
   "source": [
    "%%time\n",
    "lag = spatially_weighted_partial_lag(X_train, graph, centroids, kernel=kernel, k=spatial_lag, n_splits=10, bandwidth=-1)\n",
    "lag = lag[[c for c in lag.columns if lag_type in c]]"
   ]
  },
  {
   "cell_type": "code",
   "execution_count": 13,
   "id": "b49693f7-6f3d-4409-8752-a3390654d93b",
   "metadata": {},
   "outputs": [],
   "source": [
    "clustering_data = X_train.join(lag, how='inner')"
   ]
  },
  {
   "cell_type": "code",
   "execution_count": null,
   "id": "22d58c3c-8016-491e-983c-916d993278bb",
   "metadata": {},
   "outputs": [],
   "source": []
  },
  {
   "cell_type": "code",
   "execution_count": 14,
   "id": "f7c54263-437a-4bcf-8aad-7c9616a95dec",
   "metadata": {},
   "outputs": [],
   "source": [
    "# clustering_data = X_train\n",
    "# clip = None\n",
    "# to_drop = []\n",
    "# # to_drop = [\n",
    "# #        'stcSAl',\n",
    "# #        'ltkOri',\n",
    "# #          'stbOri',\n",
    "# #          'stcOri',\n",
    "# #          'stbCeA'\n",
    "# # ]\n",
    "# # to_drop = ['sdsLen', 'sssLin', 'ltcBuA', 'lcnClo', \n",
    "# #            'mtbSWR', 'ssbCor', 'xcnSCl',\n",
    "# #        'mtdDeg', 'libNCo', 'sdbCoA']\n",
    "# # min_cluster_size = 100"
   ]
  },
  {
   "cell_type": "code",
   "execution_count": 36,
   "id": "f9fd07f2-03e2-4e29-981c-43f25acf407e",
   "metadata": {},
   "outputs": [
    {
     "data": {
      "text/plain": [
       "(461350, 126)"
      ]
     },
     "execution_count": 36,
     "metadata": {},
     "output_type": "execute_result"
    }
   ],
   "source": [
    "clustering_data.shape"
   ]
  },
  {
   "cell_type": "code",
   "execution_count": null,
   "id": "112314ec-2bef-4f54-9135-93cee672b957",
   "metadata": {},
   "outputs": [],
   "source": []
  },
  {
   "cell_type": "code",
   "execution_count": null,
   "id": "2ab322e1-c784-403e-80cb-773867e6e174",
   "metadata": {},
   "outputs": [],
   "source": []
  },
  {
   "cell_type": "code",
   "execution_count": 37,
   "id": "234709a1-c5a3-445b-901d-8cb56e788627",
   "metadata": {},
   "outputs": [],
   "source": [
    "# to_drop = X_train.columns[~X_train.columns.str.startswith('s')]\n",
    "\n",
    "# to_drop = X_train.columns[~X_train.columns.isin(['sdbAre', 'sdbPer', 'sdbCoA', 'ssbCCo', 'ssbCor', 'ssbSqu', 'ssbERI',\n",
    "#        'ssbElo', 'ssbCCM', 'ssbCCD', 'stbOri', 'mtbSWR',  'libNCo', 'ldbPWL'])]\n",
    "\n",
    "# to_drop"
   ]
  },
  {
   "cell_type": "code",
   "execution_count": 17,
   "id": "392e470a-2ae5-4f6c-8599-26f7ae137eeb",
   "metadata": {},
   "outputs": [
    {
     "name": "stdout",
     "output_type": "stream",
     "text": [
      "CPU times: user 1min 9s, sys: 532 ms, total: 1min 9s\n",
      "Wall time: 1min 9s\n"
     ]
    }
   ],
   "source": [
    "%%time\n",
    "region_cluster_labels = cluster_data(clustering_data, graph, to_drop, clip, min_cluster_size, linkage, metric)"
   ]
  },
  {
   "cell_type": "code",
   "execution_count": null,
   "id": "4a809ed2-5e67-4342-96a9-7c8058235b5e",
   "metadata": {},
   "outputs": [],
   "source": []
  },
  {
   "cell_type": "code",
   "execution_count": 18,
   "id": "f9765d96-3bf6-43a3-ad65-ec8991fd12ad",
   "metadata": {},
   "outputs": [],
   "source": [
    "from sklearn.metrics import silhouette_score"
   ]
  },
  {
   "cell_type": "code",
   "execution_count": 19,
   "id": "f8edd3eb-8964-4eb4-b175-41fdf8d1cd58",
   "metadata": {},
   "outputs": [
    {
     "data": {
      "text/plain": [
       "np.float64(-0.7030808125758731)"
      ]
     },
     "execution_count": 19,
     "metadata": {},
     "output_type": "execute_result"
    }
   ],
   "source": [
    "silhouette_score(clustering_data.iloc[tess_groups_ilocs].fillna(0), region_cluster_labels[tess_groups_ilocs])"
   ]
  },
  {
   "cell_type": "code",
   "execution_count": 20,
   "id": "5cb5fc90-cc69-43f4-b7b2-95cfe397c4b6",
   "metadata": {},
   "outputs": [
    {
     "data": {
      "text/plain": [
       "0.4874154950461761"
      ]
     },
     "execution_count": 20,
     "metadata": {},
     "output_type": "execute_result"
    }
   ],
   "source": [
    "adjusted_rand_score(tess_groups.values, region_cluster_labels[tess_groups_ilocs])"
   ]
  },
  {
   "cell_type": "code",
   "execution_count": 21,
   "id": "3028dc45-d0c6-411c-b907-03acb6498ac1",
   "metadata": {},
   "outputs": [
    {
     "data": {
      "text/plain": [
       "(5266,)"
      ]
     },
     "execution_count": 21,
     "metadata": {},
     "output_type": "execute_result"
    }
   ],
   "source": [
    "np.unique(region_cluster_labels).shape"
   ]
  },
  {
   "cell_type": "code",
   "execution_count": null,
   "id": "38ac00e6-3bc3-4a7f-8713-693859b04682",
   "metadata": {},
   "outputs": [],
   "source": []
  },
  {
   "cell_type": "code",
   "execution_count": 22,
   "id": "344178c9-ea37-4138-8c0d-69ec185b1b2d",
   "metadata": {},
   "outputs": [
    {
     "data": {
      "text/plain": [
       "component labels\n",
       "849     123429\n",
       "130      21674\n",
       "192      16977\n",
       "62        5988\n",
       "76        5738\n",
       "         ...  \n",
       "2543         1\n",
       "5            1\n",
       "3535         1\n",
       "3534         1\n",
       "3533         1\n",
       "Name: count, Length: 3559, dtype: int64"
      ]
     },
     "execution_count": 22,
     "metadata": {},
     "output_type": "execute_result"
    }
   ],
   "source": [
    "labels.value_counts()"
   ]
  },
  {
   "cell_type": "code",
   "execution_count": 27,
   "id": "ced4354c-c8f6-4ce9-9928-7cfb2cb55390",
   "metadata": {},
   "outputs": [
    {
     "data": {
      "text/plain": [
       "(123429,)"
      ]
     },
     "execution_count": 27,
     "metadata": {},
     "output_type": "execute_result"
    }
   ],
   "source": [
    "label = 849\n",
    "labels.groupby(labels).get_group(label).shape"
   ]
  },
  {
   "cell_type": "code",
   "execution_count": 28,
   "id": "bf4136f5-8356-47ba-a7d8-736345f49eb4",
   "metadata": {},
   "outputs": [],
   "source": [
    "# tessellation.loc[labels.groupby(labels).get_group(label).index.values].explore(column=results[label], categorical=True)"
   ]
  },
  {
   "cell_type": "code",
   "execution_count": 29,
   "id": "e593d401-ff91-4141-a4f8-6461961e227c",
   "metadata": {},
   "outputs": [],
   "source": [
    "# buildings = gpd.read_parquet(f'/data/uscuni-ulce/processed_data/buildings/buildings_{region_id}.parquet')"
   ]
  },
  {
   "cell_type": "code",
   "execution_count": null,
   "id": "2e3bcaca-99ab-42e3-9f10-c1dff22d5f10",
   "metadata": {},
   "outputs": [],
   "source": []
  },
  {
   "cell_type": "code",
   "execution_count": 30,
   "id": "f06c0dfb-f314-4066-8376-f111e6a34227",
   "metadata": {},
   "outputs": [],
   "source": [
    "## there is some issue here with the subsetting"
   ]
  },
  {
   "cell_type": "code",
   "execution_count": 31,
   "id": "9a7d820c-6be3-450f-b1d4-41a402239321",
   "metadata": {},
   "outputs": [
    {
     "data": {
      "text/plain": [
       "(123429, 4)"
      ]
     },
     "execution_count": 31,
     "metadata": {},
     "output_type": "execute_result"
    }
   ],
   "source": [
    "plotting = tessellation.loc[labels.groupby(labels).get_group(label).index.values].reset_index()\n",
    "# plotting['label'] = region_cluster_labels[region_cluster_labels.str.startswith(str(label))].values\n",
    "plotting['label'] = region_cluster_labels.loc[labels.groupby(labels).get_group(label).index.values].values\n",
    "# plotting['label'] = plotting['label']\n",
    "plotting['label'] = plotting['label'].str.split('_').str[1].astype(int)\n",
    "plotting.shape"
   ]
  },
  {
   "cell_type": "code",
   "execution_count": 32,
   "id": "cbc5aa0c-f629-4dea-a76a-84b9c17475c3",
   "metadata": {},
   "outputs": [],
   "source": [
    "# layer.get_fill_color = get_color(plotting['label'].values)"
   ]
  },
  {
   "cell_type": "code",
   "execution_count": 33,
   "id": "40e40ae0-0a2b-4541-b715-64ee6bac0c69",
   "metadata": {
    "scrolled": true
   },
   "outputs": [
    {
     "data": {
      "text/plain": [
       "754"
      ]
     },
     "execution_count": 33,
     "metadata": {},
     "output_type": "execute_result"
    }
   ],
   "source": [
    "plotting['label'].nunique()"
   ]
  },
  {
   "cell_type": "code",
   "execution_count": null,
   "id": "4f03a159-0f6f-4fd0-a258-4157a634417b",
   "metadata": {},
   "outputs": [],
   "source": []
  },
  {
   "cell_type": "code",
   "execution_count": null,
   "id": "6e43fe9c-e692-4bd8-8097-23f3180a4027",
   "metadata": {},
   "outputs": [],
   "source": []
  },
  {
   "cell_type": "code",
   "execution_count": null,
   "id": "54570b18-0fd1-4905-9ac0-ceef67ccead1",
   "metadata": {},
   "outputs": [],
   "source": []
  },
  {
   "cell_type": "code",
   "execution_count": null,
   "id": "5bbdec22-0aae-4682-a388-1c682bcbe415",
   "metadata": {},
   "outputs": [],
   "source": []
  },
  {
   "cell_type": "code",
   "execution_count": null,
   "id": "926b43a1-9e4c-43e3-a5f4-1f3d614b3799",
   "metadata": {},
   "outputs": [],
   "source": []
  },
  {
   "cell_type": "code",
   "execution_count": 39,
   "id": "b5fa29e0-7c80-4ad9-b431-50b4047f5ad3",
   "metadata": {},
   "outputs": [],
   "source": [
    "# buildings = gpd.read_parquet(buildings_dir + 'buildings_freiburg.parquet')\n",
    "# plotting = buildings"
   ]
  },
  {
   "cell_type": "code",
   "execution_count": null,
   "id": "a6d52001-8540-4171-9877-c3f5c1284111",
   "metadata": {},
   "outputs": [],
   "source": []
  },
  {
   "cell_type": "code",
   "execution_count": null,
   "id": "0ce0f86b-0099-4e21-811a-d0e20cfbcbb6",
   "metadata": {},
   "outputs": [],
   "source": []
  },
  {
   "cell_type": "code",
   "execution_count": 34,
   "id": "ff702bbb-4dd5-4ecd-a86b-6eab21489e73",
   "metadata": {},
   "outputs": [
    {
     "name": "stderr",
     "output_type": "stream",
     "text": [
      "/home/krasen/urban_taxonomy/.pixi/envs/default/lib/python3.12/site-packages/lonboard/_geoarrow/ops/reproject.py:97: UserWarning: Input being reprojected to EPSG:4326 CRS\n",
      "  warnings.warn(\"Input being reprojected to EPSG:4326 CRS\")\n"
     ]
    },
    {
     "name": "stdout",
     "output_type": "stream",
     "text": [
      "CPU times: user 2.18 s, sys: 188 ms, total: 2.36 s\n",
      "Wall time: 2.36 s\n"
     ]
    }
   ],
   "source": [
    "%%time\n",
    "import lonboard\n",
    "layer = lonboard.SolidPolygonLayer.from_geopandas(plotting, opacity=.08)"
   ]
  },
  {
   "cell_type": "code",
   "execution_count": null,
   "id": "d18c0ed3-93e0-4ac5-9808-58897944db20",
   "metadata": {},
   "outputs": [],
   "source": []
  },
  {
   "cell_type": "code",
   "execution_count": 35,
   "id": "554fb4c0-4eb8-44a5-8503-d96f15dd7c5b",
   "metadata": {},
   "outputs": [],
   "source": [
    "from sidecar import Sidecar\n",
    "sc = Sidecar(title='Morphotopes')\n",
    "m = lonboard.Map(layer, basemap_style=lonboard.basemap.CartoBasemap.Positron)\n",
    "with sc:\n",
    "    display(m)\n",
    "\n",
    "from core.cluster_validation import get_color\n",
    "layer.get_fill_color = get_color(plotting['label'].values)"
   ]
  },
  {
   "cell_type": "code",
   "execution_count": null,
   "id": "1a297ad0-1830-4033-9c8c-5364d95eac62",
   "metadata": {},
   "outputs": [],
   "source": []
  },
  {
   "cell_type": "code",
   "execution_count": null,
   "id": "8050b832-0cb6-46ef-a989-dd5fb4c8093f",
   "metadata": {},
   "outputs": [],
   "source": []
  },
  {
   "cell_type": "code",
   "execution_count": null,
   "id": "a2d6526b-f005-426e-9c36-44cc4cd0f389",
   "metadata": {},
   "outputs": [],
   "source": []
  },
  {
   "cell_type": "code",
   "execution_count": null,
   "id": "e16ffa5c-7238-4b73-9d4c-cbd8ff91496c",
   "metadata": {},
   "outputs": [],
   "source": []
  },
  {
   "cell_type": "code",
   "execution_count": null,
   "id": "846e67de-d4c7-40a9-8fea-45c22c7f669e",
   "metadata": {},
   "outputs": [],
   "source": []
  },
  {
   "cell_type": "code",
   "execution_count": 38,
   "id": "53410343-76a7-4107-98d0-42801c7f44d6",
   "metadata": {
    "scrolled": true
   },
   "outputs": [
    {
     "name": "stdout",
     "output_type": "stream",
     "text": [
      "CPU times: user 33.2 s, sys: 0 ns, total: 33.2 s\n",
      "Wall time: 33.2 s\n"
     ]
    }
   ],
   "source": [
    "%%time\n",
    "\n",
    "clrs_geometry = tessellation.loc[region_cluster_labels.index]\n",
    "clrs_geometry['label'] = region_cluster_labels.values\n",
    "clrs_geometry = clrs_geometry.dissolve('label').simplify(1).to_frame()\n",
    "clrs_geometry.columns = ['geometry']\n",
    "morph_clrs_geometry = clrs_geometry.set_geometry('geometry').reset_index()"
   ]
  },
  {
   "cell_type": "code",
   "execution_count": null,
   "id": "cbe06891-dc6b-496e-b69e-6bf7875b369c",
   "metadata": {},
   "outputs": [],
   "source": []
  },
  {
   "cell_type": "code",
   "execution_count": null,
   "id": "b9e66b11-60c0-42ec-954c-4f4b8ff82d53",
   "metadata": {},
   "outputs": [],
   "source": []
  },
  {
   "cell_type": "code",
   "execution_count": 39,
   "id": "f23ce599-5f6e-4043-8963-a5f400394674",
   "metadata": {},
   "outputs": [],
   "source": [
    "morph_clrs_geometry.to_parquet(f'../data/morphotopes_{region_id}_{min_cluster_size}_{spatial_lag}_{lag_type}_{kernel}.pq')"
   ]
  },
  {
   "cell_type": "code",
   "execution_count": null,
   "id": "8c64487d-efad-4137-a5ba-c702e3be58b0",
   "metadata": {},
   "outputs": [],
   "source": []
  },
  {
   "cell_type": "code",
   "execution_count": 53,
   "id": "b7fc7ca9-d90d-45ae-88fc-ca19b5618f8d",
   "metadata": {},
   "outputs": [],
   "source": [
    "# gpd.read_parquet(f'../data/morphotopes_{region_id}_{min_cluster_size}_{spatial_lag}_{lag_type}_{kernel}.pq').explore()"
   ]
  },
  {
   "cell_type": "code",
   "execution_count": null,
   "id": "1e829bd1-467c-4929-98e7-4833448ec664",
   "metadata": {},
   "outputs": [],
   "source": []
  },
  {
   "cell_type": "code",
   "execution_count": null,
   "id": "ae12cf64-2dde-4828-b4e4-fac1daa73097",
   "metadata": {},
   "outputs": [],
   "source": []
  },
  {
   "cell_type": "markdown",
   "id": "293b9dfc-260e-42dd-bfe8-7f91df7f7fdf",
   "metadata": {},
   "source": [
    "----"
   ]
  },
  {
   "cell_type": "code",
   "execution_count": 40,
   "id": "02c0ceab-1c44-4177-9866-a34c9109a133",
   "metadata": {},
   "outputs": [],
   "source": [
    "def percentile(n):\n",
    "    def percentile_(x):\n",
    "        return np.percentile(x, n)\n",
    "    percentile_.__name__ = 'percentile_%s' % n\n",
    "    return percentile_"
   ]
  },
  {
   "cell_type": "code",
   "execution_count": 41,
   "id": "5c8c8e47-3c0d-453c-b542-e0985bf2ba80",
   "metadata": {
    "scrolled": true
   },
   "outputs": [],
   "source": [
    "# component_data = X_train.loc[labels.groupby(labels).get_group(label).index.values]\n",
    "\n",
    "component_data = X_train.loc[region_cluster_labels.index]"
   ]
  },
  {
   "cell_type": "code",
   "execution_count": 42,
   "id": "90d6e36f-d07e-4d6a-8b35-8ea548ba9667",
   "metadata": {},
   "outputs": [],
   "source": [
    "# component_data = component_data.groupby(results[label]).agg([np.min, np.median, np.max])"
   ]
  },
  {
   "cell_type": "code",
   "execution_count": 43,
   "id": "b8eb97db-d7dd-4290-b847-4f32e05ab744",
   "metadata": {},
   "outputs": [],
   "source": [
    "# component_data = component_data.groupby(results[label]).agg([percentile(10), \n",
    "#                                                              'median', \n",
    "#                                                              percentile(90)])"
   ]
  },
  {
   "cell_type": "code",
   "execution_count": 44,
   "id": "48da6d24-9fe5-4cfb-b53e-233b9f1410fe",
   "metadata": {},
   "outputs": [
    {
     "name": "stdout",
     "output_type": "stream",
     "text": [
      "CPU times: user 29.7 s, sys: 0 ns, total: 29.7 s\n",
      "Wall time: 29.7 s\n"
     ]
    }
   ],
   "source": [
    "%%time\n",
    "component_data = component_data.groupby(region_cluster_labels.values).agg([percentile(10), \n",
    "                                                             'median', \n",
    "                                                             percentile(90)])"
   ]
  },
  {
   "cell_type": "code",
   "execution_count": 45,
   "id": "c0e4cce1-6247-4f80-a72c-70567fe71cc4",
   "metadata": {},
   "outputs": [
    {
     "data": {
      "text/html": [
       "<div>\n",
       "<style scoped>\n",
       "    .dataframe tbody tr th:only-of-type {\n",
       "        vertical-align: middle;\n",
       "    }\n",
       "\n",
       "    .dataframe tbody tr th {\n",
       "        vertical-align: top;\n",
       "    }\n",
       "\n",
       "    .dataframe thead tr th {\n",
       "        text-align: left;\n",
       "    }\n",
       "</style>\n",
       "<table border=\"1\" class=\"dataframe\">\n",
       "  <thead>\n",
       "    <tr>\n",
       "      <th></th>\n",
       "      <th colspan=\"3\" halign=\"left\">sdbAre</th>\n",
       "      <th colspan=\"3\" halign=\"left\">sdbPer</th>\n",
       "      <th colspan=\"3\" halign=\"left\">sdbCoA</th>\n",
       "      <th>ssbCCo</th>\n",
       "      <th>...</th>\n",
       "      <th>ltkWNB</th>\n",
       "      <th colspan=\"3\" halign=\"left\">likWBB</th>\n",
       "      <th colspan=\"3\" halign=\"left\">sdsAre</th>\n",
       "      <th colspan=\"3\" halign=\"left\">likWCe</th>\n",
       "    </tr>\n",
       "    <tr>\n",
       "      <th></th>\n",
       "      <th>percentile_10</th>\n",
       "      <th>median</th>\n",
       "      <th>percentile_90</th>\n",
       "      <th>percentile_10</th>\n",
       "      <th>median</th>\n",
       "      <th>percentile_90</th>\n",
       "      <th>percentile_10</th>\n",
       "      <th>median</th>\n",
       "      <th>percentile_90</th>\n",
       "      <th>percentile_10</th>\n",
       "      <th>...</th>\n",
       "      <th>percentile_90</th>\n",
       "      <th>percentile_10</th>\n",
       "      <th>median</th>\n",
       "      <th>percentile_90</th>\n",
       "      <th>percentile_10</th>\n",
       "      <th>median</th>\n",
       "      <th>percentile_90</th>\n",
       "      <th>percentile_10</th>\n",
       "      <th>median</th>\n",
       "      <th>percentile_90</th>\n",
       "    </tr>\n",
       "  </thead>\n",
       "  <tbody>\n",
       "    <tr>\n",
       "      <th>0_1.0</th>\n",
       "      <td>137.301434</td>\n",
       "      <td>137.301434</td>\n",
       "      <td>137.301434</td>\n",
       "      <td>49.637208</td>\n",
       "      <td>49.637208</td>\n",
       "      <td>49.637208</td>\n",
       "      <td>0.0</td>\n",
       "      <td>0.0</td>\n",
       "      <td>0.0</td>\n",
       "      <td>0.511269</td>\n",
       "      <td>...</td>\n",
       "      <td>0.001511</td>\n",
       "      <td>0.004113</td>\n",
       "      <td>0.004113</td>\n",
       "      <td>0.004113</td>\n",
       "      <td>38168.233789</td>\n",
       "      <td>38168.233789</td>\n",
       "      <td>38168.233789</td>\n",
       "      <td>0.000030</td>\n",
       "      <td>0.000030</td>\n",
       "      <td>0.000030</td>\n",
       "    </tr>\n",
       "    <tr>\n",
       "      <th>1000_1.0</th>\n",
       "      <td>69.761003</td>\n",
       "      <td>145.329083</td>\n",
       "      <td>307.945212</td>\n",
       "      <td>37.725315</td>\n",
       "      <td>53.718509</td>\n",
       "      <td>87.634723</td>\n",
       "      <td>0.0</td>\n",
       "      <td>0.0</td>\n",
       "      <td>0.0</td>\n",
       "      <td>0.270298</td>\n",
       "      <td>...</td>\n",
       "      <td>0.001413</td>\n",
       "      <td>0.038991</td>\n",
       "      <td>0.038991</td>\n",
       "      <td>0.072515</td>\n",
       "      <td>47338.884443</td>\n",
       "      <td>94253.544525</td>\n",
       "      <td>182189.605271</td>\n",
       "      <td>0.000209</td>\n",
       "      <td>0.000249</td>\n",
       "      <td>0.000249</td>\n",
       "    </tr>\n",
       "    <tr>\n",
       "      <th>1001_1.0</th>\n",
       "      <td>25.583669</td>\n",
       "      <td>129.538040</td>\n",
       "      <td>186.875280</td>\n",
       "      <td>22.144582</td>\n",
       "      <td>52.926018</td>\n",
       "      <td>68.413938</td>\n",
       "      <td>0.0</td>\n",
       "      <td>0.0</td>\n",
       "      <td>0.0</td>\n",
       "      <td>0.301244</td>\n",
       "      <td>...</td>\n",
       "      <td>0.000702</td>\n",
       "      <td>0.008362</td>\n",
       "      <td>0.008362</td>\n",
       "      <td>0.008362</td>\n",
       "      <td>182189.605271</td>\n",
       "      <td>249001.491843</td>\n",
       "      <td>612195.650949</td>\n",
       "      <td>0.000075</td>\n",
       "      <td>0.000075</td>\n",
       "      <td>0.000075</td>\n",
       "    </tr>\n",
       "    <tr>\n",
       "      <th>1002_1.0</th>\n",
       "      <td>118.035971</td>\n",
       "      <td>122.679492</td>\n",
       "      <td>127.323013</td>\n",
       "      <td>48.107607</td>\n",
       "      <td>48.227610</td>\n",
       "      <td>48.347614</td>\n",
       "      <td>0.0</td>\n",
       "      <td>0.0</td>\n",
       "      <td>0.0</td>\n",
       "      <td>0.522649</td>\n",
       "      <td>...</td>\n",
       "      <td>0.002963</td>\n",
       "      <td>0.008190</td>\n",
       "      <td>0.008190</td>\n",
       "      <td>0.008190</td>\n",
       "      <td>156188.972066</td>\n",
       "      <td>156188.972066</td>\n",
       "      <td>156188.972066</td>\n",
       "      <td>0.000067</td>\n",
       "      <td>0.000067</td>\n",
       "      <td>0.000067</td>\n",
       "    </tr>\n",
       "    <tr>\n",
       "      <th>1003_1.0</th>\n",
       "      <td>201.428349</td>\n",
       "      <td>249.432694</td>\n",
       "      <td>297.437038</td>\n",
       "      <td>62.545208</td>\n",
       "      <td>71.563066</td>\n",
       "      <td>80.580925</td>\n",
       "      <td>0.0</td>\n",
       "      <td>0.0</td>\n",
       "      <td>0.0</td>\n",
       "      <td>0.425380</td>\n",
       "      <td>...</td>\n",
       "      <td>0.001357</td>\n",
       "      <td>0.012059</td>\n",
       "      <td>0.012059</td>\n",
       "      <td>0.012059</td>\n",
       "      <td>156188.972066</td>\n",
       "      <td>156188.972066</td>\n",
       "      <td>156188.972066</td>\n",
       "      <td>0.000048</td>\n",
       "      <td>0.000048</td>\n",
       "      <td>0.000048</td>\n",
       "    </tr>\n",
       "    <tr>\n",
       "      <th>...</th>\n",
       "      <td>...</td>\n",
       "      <td>...</td>\n",
       "      <td>...</td>\n",
       "      <td>...</td>\n",
       "      <td>...</td>\n",
       "      <td>...</td>\n",
       "      <td>...</td>\n",
       "      <td>...</td>\n",
       "      <td>...</td>\n",
       "      <td>...</td>\n",
       "      <td>...</td>\n",
       "      <td>...</td>\n",
       "      <td>...</td>\n",
       "      <td>...</td>\n",
       "      <td>...</td>\n",
       "      <td>...</td>\n",
       "      <td>...</td>\n",
       "      <td>...</td>\n",
       "      <td>...</td>\n",
       "      <td>...</td>\n",
       "      <td>...</td>\n",
       "    </tr>\n",
       "    <tr>\n",
       "      <th>997_0</th>\n",
       "      <td>47.652135</td>\n",
       "      <td>114.041376</td>\n",
       "      <td>216.513891</td>\n",
       "      <td>29.941004</td>\n",
       "      <td>48.286920</td>\n",
       "      <td>72.868818</td>\n",
       "      <td>0.0</td>\n",
       "      <td>0.0</td>\n",
       "      <td>0.0</td>\n",
       "      <td>0.331598</td>\n",
       "      <td>...</td>\n",
       "      <td>0.004827</td>\n",
       "      <td>0.048820</td>\n",
       "      <td>0.052363</td>\n",
       "      <td>0.071792</td>\n",
       "      <td>8405.044972</td>\n",
       "      <td>31024.187868</td>\n",
       "      <td>49323.330922</td>\n",
       "      <td>0.000377</td>\n",
       "      <td>0.000414</td>\n",
       "      <td>0.000418</td>\n",
       "    </tr>\n",
       "    <tr>\n",
       "      <th>998_1.0</th>\n",
       "      <td>31.203731</td>\n",
       "      <td>31.203731</td>\n",
       "      <td>31.203731</td>\n",
       "      <td>22.401346</td>\n",
       "      <td>22.401346</td>\n",
       "      <td>22.401346</td>\n",
       "      <td>0.0</td>\n",
       "      <td>0.0</td>\n",
       "      <td>0.0</td>\n",
       "      <td>0.630092</td>\n",
       "      <td>...</td>\n",
       "      <td>0.001576</td>\n",
       "      <td>0.001021</td>\n",
       "      <td>0.001021</td>\n",
       "      <td>0.001021</td>\n",
       "      <td>315813.378416</td>\n",
       "      <td>315813.378416</td>\n",
       "      <td>315813.378416</td>\n",
       "      <td>0.000033</td>\n",
       "      <td>0.000033</td>\n",
       "      <td>0.000033</td>\n",
       "    </tr>\n",
       "    <tr>\n",
       "      <th>999_1.0</th>\n",
       "      <td>26.737521</td>\n",
       "      <td>45.950070</td>\n",
       "      <td>65.117366</td>\n",
       "      <td>20.982470</td>\n",
       "      <td>27.661601</td>\n",
       "      <td>40.728214</td>\n",
       "      <td>0.0</td>\n",
       "      <td>0.0</td>\n",
       "      <td>0.0</td>\n",
       "      <td>0.465935</td>\n",
       "      <td>...</td>\n",
       "      <td>0.000327</td>\n",
       "      <td>0.014052</td>\n",
       "      <td>0.014052</td>\n",
       "      <td>0.014052</td>\n",
       "      <td>315813.378416</td>\n",
       "      <td>315813.378416</td>\n",
       "      <td>315813.378416</td>\n",
       "      <td>0.000261</td>\n",
       "      <td>0.000261</td>\n",
       "      <td>0.000261</td>\n",
       "    </tr>\n",
       "    <tr>\n",
       "      <th>99_1.0</th>\n",
       "      <td>55.810224</td>\n",
       "      <td>55.810224</td>\n",
       "      <td>55.810224</td>\n",
       "      <td>29.883778</td>\n",
       "      <td>29.883778</td>\n",
       "      <td>29.883778</td>\n",
       "      <td>0.0</td>\n",
       "      <td>0.0</td>\n",
       "      <td>0.0</td>\n",
       "      <td>0.630701</td>\n",
       "      <td>...</td>\n",
       "      <td>0.001557</td>\n",
       "      <td>0.001781</td>\n",
       "      <td>0.001781</td>\n",
       "      <td>0.001781</td>\n",
       "      <td>68026.422726</td>\n",
       "      <td>68026.422726</td>\n",
       "      <td>68026.422726</td>\n",
       "      <td>0.000032</td>\n",
       "      <td>0.000032</td>\n",
       "      <td>0.000032</td>\n",
       "    </tr>\n",
       "    <tr>\n",
       "      <th>9_0</th>\n",
       "      <td>65.028669</td>\n",
       "      <td>141.260134</td>\n",
       "      <td>287.622403</td>\n",
       "      <td>34.486032</td>\n",
       "      <td>55.486851</td>\n",
       "      <td>92.223459</td>\n",
       "      <td>0.0</td>\n",
       "      <td>0.0</td>\n",
       "      <td>0.0</td>\n",
       "      <td>0.280456</td>\n",
       "      <td>...</td>\n",
       "      <td>0.008860</td>\n",
       "      <td>0.039494</td>\n",
       "      <td>0.061224</td>\n",
       "      <td>0.126033</td>\n",
       "      <td>8017.188260</td>\n",
       "      <td>23391.425421</td>\n",
       "      <td>51603.032310</td>\n",
       "      <td>0.000120</td>\n",
       "      <td>0.000425</td>\n",
       "      <td>0.000658</td>\n",
       "    </tr>\n",
       "  </tbody>\n",
       "</table>\n",
       "<p>5266 rows × 189 columns</p>\n",
       "</div>"
      ],
      "text/plain": [
       "                sdbAre                                  sdbPer             \\\n",
       "         percentile_10      median percentile_90 percentile_10     median   \n",
       "0_1.0       137.301434  137.301434    137.301434     49.637208  49.637208   \n",
       "1000_1.0     69.761003  145.329083    307.945212     37.725315  53.718509   \n",
       "1001_1.0     25.583669  129.538040    186.875280     22.144582  52.926018   \n",
       "1002_1.0    118.035971  122.679492    127.323013     48.107607  48.227610   \n",
       "1003_1.0    201.428349  249.432694    297.437038     62.545208  71.563066   \n",
       "...                ...         ...           ...           ...        ...   \n",
       "997_0        47.652135  114.041376    216.513891     29.941004  48.286920   \n",
       "998_1.0      31.203731   31.203731     31.203731     22.401346  22.401346   \n",
       "999_1.0      26.737521   45.950070     65.117366     20.982470  27.661601   \n",
       "99_1.0       55.810224   55.810224     55.810224     29.883778  29.883778   \n",
       "9_0          65.028669  141.260134    287.622403     34.486032  55.486851   \n",
       "\n",
       "                              sdbCoA                             ssbCCo  ...  \\\n",
       "         percentile_90 percentile_10 median percentile_90 percentile_10  ...   \n",
       "0_1.0        49.637208           0.0    0.0           0.0      0.511269  ...   \n",
       "1000_1.0     87.634723           0.0    0.0           0.0      0.270298  ...   \n",
       "1001_1.0     68.413938           0.0    0.0           0.0      0.301244  ...   \n",
       "1002_1.0     48.347614           0.0    0.0           0.0      0.522649  ...   \n",
       "1003_1.0     80.580925           0.0    0.0           0.0      0.425380  ...   \n",
       "...                ...           ...    ...           ...           ...  ...   \n",
       "997_0        72.868818           0.0    0.0           0.0      0.331598  ...   \n",
       "998_1.0      22.401346           0.0    0.0           0.0      0.630092  ...   \n",
       "999_1.0      40.728214           0.0    0.0           0.0      0.465935  ...   \n",
       "99_1.0       29.883778           0.0    0.0           0.0      0.630701  ...   \n",
       "9_0          92.223459           0.0    0.0           0.0      0.280456  ...   \n",
       "\n",
       "                ltkWNB        likWBB                                 sdsAre  \\\n",
       "         percentile_90 percentile_10    median percentile_90  percentile_10   \n",
       "0_1.0         0.001511      0.004113  0.004113      0.004113   38168.233789   \n",
       "1000_1.0      0.001413      0.038991  0.038991      0.072515   47338.884443   \n",
       "1001_1.0      0.000702      0.008362  0.008362      0.008362  182189.605271   \n",
       "1002_1.0      0.002963      0.008190  0.008190      0.008190  156188.972066   \n",
       "1003_1.0      0.001357      0.012059  0.012059      0.012059  156188.972066   \n",
       "...                ...           ...       ...           ...            ...   \n",
       "997_0         0.004827      0.048820  0.052363      0.071792    8405.044972   \n",
       "998_1.0       0.001576      0.001021  0.001021      0.001021  315813.378416   \n",
       "999_1.0       0.000327      0.014052  0.014052      0.014052  315813.378416   \n",
       "99_1.0        0.001557      0.001781  0.001781      0.001781   68026.422726   \n",
       "9_0           0.008860      0.039494  0.061224      0.126033    8017.188260   \n",
       "\n",
       "                                              likWCe                          \n",
       "                 median  percentile_90 percentile_10    median percentile_90  \n",
       "0_1.0      38168.233789   38168.233789      0.000030  0.000030      0.000030  \n",
       "1000_1.0   94253.544525  182189.605271      0.000209  0.000249      0.000249  \n",
       "1001_1.0  249001.491843  612195.650949      0.000075  0.000075      0.000075  \n",
       "1002_1.0  156188.972066  156188.972066      0.000067  0.000067      0.000067  \n",
       "1003_1.0  156188.972066  156188.972066      0.000048  0.000048      0.000048  \n",
       "...                 ...            ...           ...       ...           ...  \n",
       "997_0      31024.187868   49323.330922      0.000377  0.000414      0.000418  \n",
       "998_1.0   315813.378416  315813.378416      0.000033  0.000033      0.000033  \n",
       "999_1.0   315813.378416  315813.378416      0.000261  0.000261      0.000261  \n",
       "99_1.0     68026.422726   68026.422726      0.000032  0.000032      0.000032  \n",
       "9_0        23391.425421   51603.032310      0.000120  0.000425      0.000658  \n",
       "\n",
       "[5266 rows x 189 columns]"
      ]
     },
     "execution_count": 45,
     "metadata": {},
     "output_type": "execute_result"
    }
   ],
   "source": [
    "component_data"
   ]
  },
  {
   "cell_type": "code",
   "execution_count": 46,
   "id": "cec98e3d-994c-4eb2-91d2-e84d7910d282",
   "metadata": {},
   "outputs": [],
   "source": [
    "vals = StandardScaler().fit_transform(component_data)\n",
    "component_data = pd.DataFrame(vals, columns=component_data.columns, index=component_data.index)\n",
    "component_data = component_data.drop(component_data.columns[component_data.std() == 0], axis=1)"
   ]
  },
  {
   "cell_type": "code",
   "execution_count": null,
   "id": "a4582caf-6df7-4b0f-92f4-3435f205d18f",
   "metadata": {},
   "outputs": [],
   "source": []
  },
  {
   "cell_type": "code",
   "execution_count": 47,
   "id": "020328c1-c5b0-4a02-92a0-89fb061c1155",
   "metadata": {},
   "outputs": [],
   "source": [
    "\n",
    "# component_data = component_data[component_data.index >= 0]\n",
    "vals = np.nan_to_num(component_data)\n",
    "component_data = pd.DataFrame(vals, columns=component_data.columns, index=component_data.index)"
   ]
  },
  {
   "cell_type": "code",
   "execution_count": 48,
   "id": "ab8ce802-3429-4542-a8fa-d97df2d94119",
   "metadata": {},
   "outputs": [],
   "source": [
    "# component_data = component_data.clip(-10, 10)"
   ]
  },
  {
   "cell_type": "code",
   "execution_count": 49,
   "id": "00f6bcb8-c097-418d-8be1-2e674bbf4fc1",
   "metadata": {},
   "outputs": [],
   "source": [
    "# component_data = component_data[component_data.columns[component_data.columns.get_level_values(1).str.contains('median')]]"
   ]
  },
  {
   "cell_type": "code",
   "execution_count": 50,
   "id": "6d79854f-e391-44c3-a094-77074ae32798",
   "metadata": {},
   "outputs": [],
   "source": [
    "# dists, component_data.iloc[idxs[0]].index"
   ]
  },
  {
   "cell_type": "code",
   "execution_count": 51,
   "id": "3112b42e-b674-4cbd-9ffd-fd0730f5497f",
   "metadata": {},
   "outputs": [],
   "source": [
    "# from sklearn.neighbors import KDTree\n",
    "# tree = KDTree(component_data.values)\n",
    "# dists, idxs = tree.query(component_data.loc[['3_6']].values, k=10)\n",
    "\n",
    "# morph_clrs_geometry.set_index('label').loc[component_data.iloc[idxs[0]].index].explore(column=dists[0], )"
   ]
  },
  {
   "cell_type": "code",
   "execution_count": null,
   "id": "74787597-659c-4bef-b108-f2b24df006f7",
   "metadata": {},
   "outputs": [],
   "source": []
  },
  {
   "cell_type": "code",
   "execution_count": null,
   "id": "a3bd49dd-fb24-45e2-a0ae-4b78dfcaf6b1",
   "metadata": {},
   "outputs": [],
   "source": []
  },
  {
   "cell_type": "code",
   "execution_count": null,
   "id": "c08521c2-4cb8-472c-a347-7d3bb51f5e9b",
   "metadata": {},
   "outputs": [],
   "source": []
  },
  {
   "cell_type": "code",
   "execution_count": null,
   "id": "39225651-71c2-4b9b-b718-2468d4699ad8",
   "metadata": {},
   "outputs": [],
   "source": []
  },
  {
   "cell_type": "code",
   "execution_count": null,
   "id": "eb7df3fa-dbb2-40fa-8cd5-57c641bd8390",
   "metadata": {},
   "outputs": [],
   "source": []
  },
  {
   "cell_type": "code",
   "execution_count": 52,
   "id": "bd22769d-c4db-495a-9979-13346a07162c",
   "metadata": {},
   "outputs": [],
   "source": [
    "umap_metric ='euclidean'\n",
    "n_neighbors = 10"
   ]
  },
  {
   "cell_type": "code",
   "execution_count": 53,
   "id": "e6d41390-dc78-4058-b48a-7f9a318b2102",
   "metadata": {},
   "outputs": [
    {
     "name": "stderr",
     "output_type": "stream",
     "text": [
      "/home/krasen/urban_taxonomy/.pixi/envs/default/lib/python3.12/site-packages/numba/np/ufunc/dufunc.py:343: NumbaWarning: \u001b[1mCompilation requested for previously compiled argument types ((uint32,)). This has no effect and perhaps indicates a bug in the calling code (compiling a ufunc more than once for the same signature\u001b[0m\n",
      "  warnings.warn(msg, errors.NumbaWarning)\n",
      "/home/krasen/urban_taxonomy/.pixi/envs/default/lib/python3.12/site-packages/numba/np/ufunc/dufunc.py:343: NumbaWarning: \u001b[1mCompilation requested for previously compiled argument types ((uint32,)). This has no effect and perhaps indicates a bug in the calling code (compiling a ufunc more than once for the same signature\u001b[0m\n",
      "  warnings.warn(msg, errors.NumbaWarning)\n",
      "/home/krasen/urban_taxonomy/.pixi/envs/default/lib/python3.12/site-packages/numba/np/ufunc/dufunc.py:343: NumbaWarning: \u001b[1mCompilation requested for previously compiled argument types ((uint32,)). This has no effect and perhaps indicates a bug in the calling code (compiling a ufunc more than once for the same signature\u001b[0m\n",
      "  warnings.warn(msg, errors.NumbaWarning)\n",
      "/home/krasen/urban_taxonomy/.pixi/envs/default/lib/python3.12/site-packages/umap/umap_.py:1945: UserWarning: n_jobs value 1 overridden to 1 by setting random_state. Use no seed for parallelism.\n",
      "  warn(f\"n_jobs value {self.n_jobs} overridden to 1 by setting random_state. Use no seed for parallelism.\")\n",
      "/home/krasen/urban_taxonomy/.pixi/envs/default/lib/python3.12/site-packages/umap/plot.py:449: UserWarning: *c* argument looks like a single numeric RGB or RGBA sequence, which should be avoided as value-mapping will have precedence in case its length matches with *x* & *y*.  Please use the *color* keyword-argument or provide a 2D array with a single row if you intend to specify the same RGB or RGBA value for all points.\n",
      "  ax.scatter(points[:, 0], points[:, 1], s=point_size, c=color)\n"
     ]
    },
    {
     "data": {
      "text/plain": [
       "<Axes: >"
      ]
     },
     "execution_count": 53,
     "metadata": {},
     "output_type": "execute_result"
    },
    {
     "data": {
      "image/png": "[encoded data removed]",
      "text/plain": [
       "<Figure size 800x800 with 1 Axes>"
      ]
     },
     "metadata": {},
     "output_type": "display_data"
    }
   ],
   "source": [
    "import umap\n",
    "import umap.plot\n",
    "reducer = umap.UMAP(n_neighbors=n_neighbors, n_components=2, \n",
    "                    negative_sample_rate=50, min_dist=0.1, metric=umap_metric, verbose=False, random_state=1)\n",
    "emb = reducer.fit_transform(component_data)\n",
    "umap.plot.points(reducer)"
   ]
  },
  {
   "cell_type": "code",
   "execution_count": null,
   "id": "5a65ca11-13d3-44fb-b51a-75914f154fff",
   "metadata": {},
   "outputs": [],
   "source": []
  },
  {
   "cell_type": "code",
   "execution_count": null,
   "id": "9dd835bd-661c-476d-9812-8814b48ccbc7",
   "metadata": {},
   "outputs": [],
   "source": []
  },
  {
   "cell_type": "code",
   "execution_count": 54,
   "id": "80350e06-ae54-4149-a375-f624dca07d35",
   "metadata": {},
   "outputs": [
    {
     "name": "stderr",
     "output_type": "stream",
     "text": [
      "/home/krasen/urban_taxonomy/.pixi/envs/default/lib/python3.12/site-packages/umap/umap_.py:1945: UserWarning: n_jobs value 1 overridden to 1 by setting random_state. Use no seed for parallelism.\n",
      "  warn(f\"n_jobs value {self.n_jobs} overridden to 1 by setting random_state. Use no seed for parallelism.\")\n"
     ]
    },
    {
     "name": "stdout",
     "output_type": "stream",
     "text": [
      "UMAP(min_dist=0, n_components=20, n_jobs=1, n_neighbors=10, negative_sample_rate=50, random_state=1, verbose=True)\n",
      "Tue Oct  1 13:35:11 2024 Construct fuzzy simplicial set\n",
      "Tue Oct  1 13:35:11 2024 Finding Nearest Neighbors\n",
      "Tue Oct  1 13:35:11 2024 Building RP forest with 9 trees\n",
      "Tue Oct  1 13:35:11 2024 NN descent for 12 iterations\n",
      "\t 1  /  12\n",
      "\t 2  /  12\n",
      "\t 3  /  12\n",
      "\t 4  /  12\n",
      "\t 5  /  12\n",
      "\tStopping threshold met -- exiting after 5 iterations\n",
      "Tue Oct  1 13:35:11 2024 Finished Nearest Neighbor Search\n",
      "Tue Oct  1 13:35:11 2024 Construct embedding\n"
     ]
    },
    {
     "data": {
      "application/vnd.jupyter.widget-view+json": {
       "model_id": "429c7830aae94e0babe71c8417ee0360",
       "version_major": 2,
       "version_minor": 0
      },
      "text/plain": [
       "Epochs completed:   0%|            0/500 [00:00]"
      ]
     },
     "metadata": {},
     "output_type": "display_data"
    },
    {
     "name": "stdout",
     "output_type": "stream",
     "text": [
      "\tcompleted  0  /  500 epochs\n",
      "\tcompleted  50  /  500 epochs\n",
      "\tcompleted  100  /  500 epochs\n",
      "\tcompleted  150  /  500 epochs\n",
      "\tcompleted  200  /  500 epochs\n",
      "\tcompleted  250  /  500 epochs\n",
      "\tcompleted  300  /  500 epochs\n",
      "\tcompleted  350  /  500 epochs\n",
      "\tcompleted  400  /  500 epochs\n",
      "\tcompleted  450  /  500 epochs\n",
      "Tue Oct  1 13:35:56 2024 Finished embedding\n"
     ]
    }
   ],
   "source": [
    "reducer = umap.UMAP(n_neighbors=n_neighbors, n_components=20, \n",
    "                    min_dist=0, negative_sample_rate=50, \n",
    "                    metric=umap_metric, verbose=True, random_state=1)\n",
    "embedding = reducer.fit_transform(component_data)"
   ]
  },
  {
   "cell_type": "code",
   "execution_count": null,
   "id": "67859769-2550-4b95-a036-00252ac2a976",
   "metadata": {},
   "outputs": [],
   "source": []
  },
  {
   "cell_type": "code",
   "execution_count": 55,
   "id": "50088742-45c2-42da-a092-8a1e8ae85c88",
   "metadata": {},
   "outputs": [],
   "source": [
    "tr_data = embedding\n",
    "# tr_data = component_data"
   ]
  },
  {
   "cell_type": "code",
   "execution_count": 87,
   "id": "f113cdf9-c85b-4390-b586-ffdf3f8aad9c",
   "metadata": {},
   "outputs": [],
   "source": [
    "final_linkage = 'ward'\n",
    "final_metric = 'euclidean'"
   ]
  },
  {
   "cell_type": "code",
   "execution_count": 88,
   "id": "88c68a9d-510a-49ea-ba98-d28ebd0576c4",
   "metadata": {},
   "outputs": [],
   "source": [
    "clusterer = AgglomerativeClustering(linkage=final_linkage,\n",
    "                                    metric=final_metric,\n",
    "                                    compute_full_tree=True,\n",
    "                                    compute_distances=True)\n",
    "model = clusterer.fit(tr_data)\n",
    "linkage_matrix = get_linkage_matrix(model)"
   ]
  },
  {
   "cell_type": "code",
   "execution_count": 89,
   "id": "f48da5c5-1a1f-42d3-806f-921d69b81a30",
   "metadata": {},
   "outputs": [
    {
     "data": {
      "image/png": "[encoded data removed]",
      "text/plain": [
       "<Figure size 2000x1000 with 1 Axes>"
      ]
     },
     "metadata": {},
     "output_type": "display_data"
    }
   ],
   "source": [
    "fig,ax = plt.subplots(figsize=(20,10))\n",
    "_ = dendrogram(linkage_matrix, ax=ax)"
   ]
  },
  {
   "cell_type": "code",
   "execution_count": 118,
   "id": "fb6bc609-4498-4897-bcfa-acd39e3231ec",
   "metadata": {},
   "outputs": [],
   "source": [
    "cutoff = 50"
   ]
  },
  {
   "cell_type": "code",
   "execution_count": 119,
   "id": "8d18b997-b304-4501-a662-c24cf6636d52",
   "metadata": {},
   "outputs": [
    {
     "data": {
      "text/plain": [
       "array([ 1,  2,  3,  4,  5,  6,  7,  8,  9, 10, 11, 12, 13, 14, 15, 16, 17,\n",
       "       18, 19, 20, 21], dtype=int32)"
      ]
     },
     "execution_count": 119,
     "metadata": {},
     "output_type": "execute_result"
    }
   ],
   "source": [
    "clusters = fcluster(linkage_matrix, t=cutoff, criterion='distance')\n",
    "np.unique(clusters)"
   ]
  },
  {
   "cell_type": "code",
   "execution_count": 120,
   "id": "e342064b-ba1b-485f-8a37-aa1bb73df002",
   "metadata": {},
   "outputs": [],
   "source": [
    "# gpd.read_parquet('../data/clusters_umap_freiburg_100_3_gaussian_euclidean_complete_chebyshev_5.pq').explore()"
   ]
  },
  {
   "cell_type": "code",
   "execution_count": 121,
   "id": "060b7c5e-d461-4613-83aa-96d6452f9ac4",
   "metadata": {},
   "outputs": [],
   "source": [
    "\n",
    "\n",
    "# from sklearn.cluster import KMeans, MiniBatchKMeans\n",
    "# from sklearn.metrics import adjusted_rand_score\n",
    "# clusters = KMeans(n_clusters=15, max_iter=5000, n_init=300, random_state=1).fit(tr_data).labels_\n",
    "# np.unique(clusters)"
   ]
  },
  {
   "cell_type": "code",
   "execution_count": 122,
   "id": "50d5b0ea-84fb-48ad-b839-30de7de0c904",
   "metadata": {},
   "outputs": [],
   "source": [
    "\n",
    "# import hdbscan\n",
    "# clusterer = hdbscan.HDBSCAN(min_cluster_size=n_neighbors)\n",
    "# clusterer.fit(component_data)\n",
    "# clusters = clusterer.labels_\n",
    "# np.unique(clusters)"
   ]
  },
  {
   "cell_type": "code",
   "execution_count": null,
   "id": "96574337-237b-4a67-8c73-4f8c27f78d44",
   "metadata": {},
   "outputs": [],
   "source": []
  },
  {
   "cell_type": "code",
   "execution_count": 123,
   "id": "623b043e-3ead-40ba-aeb4-9ba0b9b6d301",
   "metadata": {},
   "outputs": [],
   "source": [
    "# morh_clusters = results[label]\n",
    "morh_clusters = region_cluster_labels.values\n",
    "clusters = pd.Series(clusters, index=component_data.index.values)\n",
    "clusters = clusters.loc[morh_clusters].values"
   ]
  },
  {
   "cell_type": "code",
   "execution_count": 124,
   "id": "8a1f0e54-cc63-4f12-a057-56c99997de44",
   "metadata": {},
   "outputs": [],
   "source": [
    "layer.get_fill_color = get_color(clusters)"
   ]
  },
  {
   "cell_type": "code",
   "execution_count": 125,
   "id": "a3b776cb-dbf4-4b95-820a-0d837eb7105a",
   "metadata": {},
   "outputs": [],
   "source": [
    "# assert clusters.shape == results[label].shape\n",
    "\n",
    "# for i in np.unique(results[label]):\n",
    "#     idxs = np.where(results[label] == i)[0]\n",
    "#     old_clusters = results[label][idxs]\n",
    "#     new_clusters = clusters[idxs]\n",
    "#     assert np.unique(old_clusters).shape[0] == 1\n",
    "#     assert np.unique(new_clusters).shape[0] == 1\n",
    "    "
   ]
  },
  {
   "cell_type": "code",
   "execution_count": null,
   "id": "fe6689a6-760e-4f00-ab54-38e7bc851c50",
   "metadata": {},
   "outputs": [],
   "source": []
  },
  {
   "cell_type": "code",
   "execution_count": null,
   "id": "3a4d7469-f9ef-4e58-b34e-535081a17f6c",
   "metadata": {},
   "outputs": [],
   "source": []
  },
  {
   "cell_type": "code",
   "execution_count": null,
   "id": "2462785c-4ba7-45e0-abc2-c41ddf77b69b",
   "metadata": {},
   "outputs": [],
   "source": []
  },
  {
   "cell_type": "code",
   "execution_count": null,
   "id": "73a4ad40-188a-417a-803a-822d7dc40c76",
   "metadata": {},
   "outputs": [],
   "source": []
  },
  {
   "cell_type": "code",
   "execution_count": 70,
   "id": "c6d08953-dae0-43f6-ab77-207cc60d7362",
   "metadata": {},
   "outputs": [
    {
     "name": "stderr",
     "output_type": "stream",
     "text": [
      "/home/krasen/urban_taxonomy/.pixi/envs/default/lib/python3.12/site-packages/lonboard/_geoarrow/ops/reproject.py:97: UserWarning: Input being reprojected to EPSG:4326 CRS\n",
      "  warnings.warn(\"Input being reprojected to EPSG:4326 CRS\")\n"
     ]
    },
    {
     "name": "stdout",
     "output_type": "stream",
     "text": [
      "CPU times: user 7 s, sys: 471 ms, total: 7.47 s\n",
      "Wall time: 7.47 s\n"
     ]
    }
   ],
   "source": [
    "%%time\n",
    "import lonboard\n",
    "# plotting = tessellation[tessellation.index.isin(X_train.index)].copy()\n",
    "layer = lonboard.SolidPolygonLayer.from_geopandas(tessellation[tessellation.index >= 0], opacity=.08)"
   ]
  },
  {
   "cell_type": "code",
   "execution_count": 71,
   "id": "c4fb29a3-7d4d-430c-a62a-13b7a9597e59",
   "metadata": {},
   "outputs": [],
   "source": [
    "from sidecar import Sidecar\n",
    "sc = Sidecar(title='Final Clusters')\n",
    "m = lonboard.Map(layer, basemap_style=lonboard.basemap.CartoBasemap.Positron)\n",
    "with sc:\n",
    "    display(m)"
   ]
  },
  {
   "cell_type": "code",
   "execution_count": null,
   "id": "df283e4b-96aa-42f2-8f9f-5b1aaa481588",
   "metadata": {},
   "outputs": [],
   "source": []
  },
  {
   "cell_type": "code",
   "execution_count": 72,
   "id": "32dda125-cf78-4121-9cbe-a7eccddfed4f",
   "metadata": {},
   "outputs": [],
   "source": [
    "from core.cluster_validation import get_color\n",
    "layer.get_fill_color = get_color(clusters)"
   ]
  },
  {
   "cell_type": "code",
   "execution_count": null,
   "id": "842e715d-1a96-4a35-8194-373d13542d84",
   "metadata": {},
   "outputs": [],
   "source": []
  },
  {
   "cell_type": "code",
   "execution_count": 284,
   "id": "49820372-df04-44e3-896d-36d6d1015d91",
   "metadata": {},
   "outputs": [],
   "source": [
    "# gpd.read_parquet(f'../data/clusters_umap_{region_id}_{min_cluster_size}_{spatial_lag}_{kernel}_{umap_metric}_{final_linkage}_{final_metric}_{cutoff}.pq').explore()"
   ]
  },
  {
   "cell_type": "code",
   "execution_count": null,
   "id": "b2ee7ed4-1a71-478a-ab21-67c8c004ddb4",
   "metadata": {},
   "outputs": [],
   "source": []
  },
  {
   "cell_type": "code",
   "execution_count": 285,
   "id": "120986d1-c948-447f-8b79-6a7a388e2582",
   "metadata": {},
   "outputs": [],
   "source": [
    "fbc = gpd.read_parquet('../data/freiburg/freiburg_building_census.pq')"
   ]
  },
  {
   "cell_type": "code",
   "execution_count": 126,
   "id": "d3f8f6fe-f229-4ab7-900d-192a6ca073e5",
   "metadata": {},
   "outputs": [],
   "source": [
    "clrs_geometry = tessellation.loc[region_cluster_labels.index]\n",
    "clrs_geometry['label'] = clusters\n",
    "clrs_geometry = clrs_geometry.dissolve('label').simplify(1).to_frame()\n",
    "clrs_geometry.columns = ['geometry']\n",
    "clrs_geometry = clrs_geometry.set_geometry('geometry')\n",
    "clrs_geometry = clrs_geometry.reset_index()"
   ]
  },
  {
   "cell_type": "code",
   "execution_count": 287,
   "id": "2900d83c-1137-4e6c-8b83-bd0fff489877",
   "metadata": {},
   "outputs": [
    {
     "name": "stderr",
     "output_type": "stream",
     "text": [
      "/tmp/ipykernel_589934/715595176.py:2: UserWarning: `keep_geom_type=True` in overlay resulted in 1 dropped geometries of different geometry types than df1 has. Set `keep_geom_type=False` to retain all geometries\n",
      "  overlap = gpd.overlay(fbc, clrs_geometry, how='intersection')\n"
     ]
    }
   ],
   "source": [
    "# Overlay cells with clusters to get intersections\n",
    "overlap = gpd.overlay(fbc, clrs_geometry, how='intersection')\n",
    "\n",
    "# Calculate the area of overlap\n",
    "overlap['area'] = overlap.geometry.area\n",
    "\n",
    "# Find the cluster with the largest overlap for each cell\n",
    "largest_overlap = overlap.loc[overlap.groupby(overlap['ID'])['area'].idxmax()]"
   ]
  },
  {
   "cell_type": "code",
   "execution_count": 288,
   "id": "01922eab-4761-459f-a360-c81d20030129",
   "metadata": {},
   "outputs": [
    {
     "data": {
      "text/html": [
       "<div>\n",
       "<style scoped>\n",
       "    .dataframe tbody tr th:only-of-type {\n",
       "        vertical-align: middle;\n",
       "    }\n",
       "\n",
       "    .dataframe tbody tr th {\n",
       "        vertical-align: top;\n",
       "    }\n",
       "\n",
       "    .dataframe thead th {\n",
       "        text-align: right;\n",
       "    }\n",
       "</style>\n",
       "<table border=\"1\" class=\"dataframe\">\n",
       "  <thead>\n",
       "    <tr style=\"text-align: right;\">\n",
       "      <th></th>\n",
       "      <th>Before 1919</th>\n",
       "      <th>1919 - 1948</th>\n",
       "      <th>1949 - 1978</th>\n",
       "      <th>1979 - 1986</th>\n",
       "      <th>1987 - 1990</th>\n",
       "      <th>1991 - 1995</th>\n",
       "      <th>1996 - 2000</th>\n",
       "    </tr>\n",
       "    <tr>\n",
       "      <th>label</th>\n",
       "      <th></th>\n",
       "      <th></th>\n",
       "      <th></th>\n",
       "      <th></th>\n",
       "      <th></th>\n",
       "      <th></th>\n",
       "      <th></th>\n",
       "    </tr>\n",
       "  </thead>\n",
       "  <tbody>\n",
       "    <tr>\n",
       "      <th>1</th>\n",
       "      <td>0.0</td>\n",
       "      <td>0.0</td>\n",
       "      <td>0.0</td>\n",
       "      <td>0.0</td>\n",
       "      <td>0.0</td>\n",
       "      <td>0.0</td>\n",
       "      <td>0.0</td>\n",
       "    </tr>\n",
       "    <tr>\n",
       "      <th>2</th>\n",
       "      <td>3.0</td>\n",
       "      <td>0.0</td>\n",
       "      <td>0.0</td>\n",
       "      <td>0.0</td>\n",
       "      <td>0.0</td>\n",
       "      <td>0.0</td>\n",
       "      <td>0.0</td>\n",
       "    </tr>\n",
       "    <tr>\n",
       "      <th>3</th>\n",
       "      <td>535.0</td>\n",
       "      <td>118.0</td>\n",
       "      <td>359.0</td>\n",
       "      <td>69.0</td>\n",
       "      <td>6.0</td>\n",
       "      <td>19.0</td>\n",
       "      <td>18.0</td>\n",
       "    </tr>\n",
       "    <tr>\n",
       "      <th>4</th>\n",
       "      <td>1385.0</td>\n",
       "      <td>406.0</td>\n",
       "      <td>704.0</td>\n",
       "      <td>74.0</td>\n",
       "      <td>23.0</td>\n",
       "      <td>18.0</td>\n",
       "      <td>21.0</td>\n",
       "    </tr>\n",
       "    <tr>\n",
       "      <th>5</th>\n",
       "      <td>179.0</td>\n",
       "      <td>889.0</td>\n",
       "      <td>1000.0</td>\n",
       "      <td>174.0</td>\n",
       "      <td>34.0</td>\n",
       "      <td>21.0</td>\n",
       "      <td>43.0</td>\n",
       "    </tr>\n",
       "    <tr>\n",
       "      <th>6</th>\n",
       "      <td>200.0</td>\n",
       "      <td>151.0</td>\n",
       "      <td>402.0</td>\n",
       "      <td>13.0</td>\n",
       "      <td>10.0</td>\n",
       "      <td>18.0</td>\n",
       "      <td>135.0</td>\n",
       "    </tr>\n",
       "    <tr>\n",
       "      <th>7</th>\n",
       "      <td>81.0</td>\n",
       "      <td>319.0</td>\n",
       "      <td>1074.0</td>\n",
       "      <td>186.0</td>\n",
       "      <td>40.0</td>\n",
       "      <td>33.0</td>\n",
       "      <td>55.0</td>\n",
       "    </tr>\n",
       "    <tr>\n",
       "      <th>8</th>\n",
       "      <td>41.0</td>\n",
       "      <td>100.0</td>\n",
       "      <td>648.0</td>\n",
       "      <td>77.0</td>\n",
       "      <td>19.0</td>\n",
       "      <td>30.0</td>\n",
       "      <td>40.0</td>\n",
       "    </tr>\n",
       "    <tr>\n",
       "      <th>9</th>\n",
       "      <td>0.0</td>\n",
       "      <td>0.0</td>\n",
       "      <td>106.0</td>\n",
       "      <td>27.0</td>\n",
       "      <td>16.0</td>\n",
       "      <td>6.0</td>\n",
       "      <td>86.0</td>\n",
       "    </tr>\n",
       "    <tr>\n",
       "      <th>10</th>\n",
       "      <td>135.0</td>\n",
       "      <td>182.0</td>\n",
       "      <td>1231.0</td>\n",
       "      <td>188.0</td>\n",
       "      <td>49.0</td>\n",
       "      <td>103.0</td>\n",
       "      <td>166.0</td>\n",
       "    </tr>\n",
       "    <tr>\n",
       "      <th>11</th>\n",
       "      <td>16.0</td>\n",
       "      <td>49.0</td>\n",
       "      <td>817.0</td>\n",
       "      <td>69.0</td>\n",
       "      <td>12.0</td>\n",
       "      <td>45.0</td>\n",
       "      <td>30.0</td>\n",
       "    </tr>\n",
       "    <tr>\n",
       "      <th>12</th>\n",
       "      <td>208.0</td>\n",
       "      <td>204.0</td>\n",
       "      <td>814.0</td>\n",
       "      <td>144.0</td>\n",
       "      <td>29.0</td>\n",
       "      <td>21.0</td>\n",
       "      <td>48.0</td>\n",
       "    </tr>\n",
       "    <tr>\n",
       "      <th>13</th>\n",
       "      <td>86.0</td>\n",
       "      <td>75.0</td>\n",
       "      <td>273.0</td>\n",
       "      <td>63.0</td>\n",
       "      <td>15.0</td>\n",
       "      <td>18.0</td>\n",
       "      <td>28.0</td>\n",
       "    </tr>\n",
       "    <tr>\n",
       "      <th>14</th>\n",
       "      <td>156.0</td>\n",
       "      <td>180.0</td>\n",
       "      <td>988.0</td>\n",
       "      <td>143.0</td>\n",
       "      <td>6.0</td>\n",
       "      <td>30.0</td>\n",
       "      <td>58.0</td>\n",
       "    </tr>\n",
       "    <tr>\n",
       "      <th>15</th>\n",
       "      <td>3.0</td>\n",
       "      <td>6.0</td>\n",
       "      <td>12.0</td>\n",
       "      <td>22.0</td>\n",
       "      <td>0.0</td>\n",
       "      <td>0.0</td>\n",
       "      <td>8.0</td>\n",
       "    </tr>\n",
       "    <tr>\n",
       "      <th>16</th>\n",
       "      <td>6.0</td>\n",
       "      <td>22.0</td>\n",
       "      <td>299.0</td>\n",
       "      <td>25.0</td>\n",
       "      <td>3.0</td>\n",
       "      <td>9.0</td>\n",
       "      <td>3.0</td>\n",
       "    </tr>\n",
       "  </tbody>\n",
       "</table>\n",
       "</div>"
      ],
      "text/plain": [
       "       Before 1919  1919 - 1948  1949 - 1978  1979 - 1986  1987 - 1990  \\\n",
       "label                                                                    \n",
       "1              0.0          0.0          0.0          0.0          0.0   \n",
       "2              3.0          0.0          0.0          0.0          0.0   \n",
       "3            535.0        118.0        359.0         69.0          6.0   \n",
       "4           1385.0        406.0        704.0         74.0         23.0   \n",
       "5            179.0        889.0       1000.0        174.0         34.0   \n",
       "6            200.0        151.0        402.0         13.0         10.0   \n",
       "7             81.0        319.0       1074.0        186.0         40.0   \n",
       "8             41.0        100.0        648.0         77.0         19.0   \n",
       "9              0.0          0.0        106.0         27.0         16.0   \n",
       "10           135.0        182.0       1231.0        188.0         49.0   \n",
       "11            16.0         49.0        817.0         69.0         12.0   \n",
       "12           208.0        204.0        814.0        144.0         29.0   \n",
       "13            86.0         75.0        273.0         63.0         15.0   \n",
       "14           156.0        180.0        988.0        143.0          6.0   \n",
       "15             3.0          6.0         12.0         22.0          0.0   \n",
       "16             6.0         22.0        299.0         25.0          3.0   \n",
       "\n",
       "       1991 - 1995  1996 - 2000  \n",
       "label                            \n",
       "1              0.0          0.0  \n",
       "2              0.0          0.0  \n",
       "3             19.0         18.0  \n",
       "4             18.0         21.0  \n",
       "5             21.0         43.0  \n",
       "6             18.0        135.0  \n",
       "7             33.0         55.0  \n",
       "8             30.0         40.0  \n",
       "9              6.0         86.0  \n",
       "10           103.0        166.0  \n",
       "11            45.0         30.0  \n",
       "12            21.0         48.0  \n",
       "13            18.0         28.0  \n",
       "14            30.0         58.0  \n",
       "15             0.0          8.0  \n",
       "16             9.0          3.0  "
      ]
     },
     "execution_count": 288,
     "metadata": {},
     "output_type": "execute_result"
    }
   ],
   "source": [
    "cols = largest_overlap.columns[largest_overlap.columns.str.contains('19') | largest_overlap.columns.str.contains('19')].sort_values()\n",
    "age_cols = [cols[-1]] + list(cols[:-1])\n",
    "age_cols\n",
    "\n",
    "res = largest_overlap.iloc[:, 2:].dissolve('label', aggfunc='sum')\n",
    "res[age_cols]"
   ]
  },
  {
   "cell_type": "code",
   "execution_count": null,
   "id": "6fab9acd-1f5d-4cdf-8834-c39493430e8d",
   "metadata": {},
   "outputs": [],
   "source": []
  },
  {
   "cell_type": "code",
   "execution_count": null,
   "id": "0bc425eb-2ecc-4550-9b59-7422a27e87ee",
   "metadata": {},
   "outputs": [],
   "source": []
  },
  {
   "cell_type": "code",
   "execution_count": null,
   "id": "a52231de-5cf2-49d4-880a-87e28d214a0c",
   "metadata": {},
   "outputs": [],
   "source": []
  },
  {
   "cell_type": "code",
   "execution_count": null,
   "id": "c110093d-bd49-4e59-b5d0-a11126c483e8",
   "metadata": {},
   "outputs": [],
   "source": []
  },
  {
   "cell_type": "code",
   "execution_count": 289,
   "id": "f70a2462-6cc5-4a52-921a-8e2f9f7f6a64",
   "metadata": {},
   "outputs": [
    {
     "name": "stdout",
     "output_type": "stream",
     "text": [
      "Evaluation metrics\n",
      "==================\n",
      "Basic model:\n",
      "  Accuracy: 0.347\n",
      "  Kappa:    0.268\n",
      "\n"
     ]
    }
   ],
   "source": [
    "from sklearn import model_selection, ensemble, metrics\n",
    "ind = largest_overlap.columns[2:-3]\n",
    "\n",
    "X_train_rf, X_test, y_train, y_test = model_selection.train_test_split(largest_overlap[ind], largest_overlap[\"label\"].astype(str), test_size=0.25, random_state=0)\n",
    "model = ensemble.RandomForestClassifier(random_state=0, n_jobs=-1)\n",
    "model.fit(X_train_rf, y_train)\n",
    "pred = model.predict(X_test)\n",
    "\n",
    "accuracy = metrics.accuracy_score(pred, y_test)\n",
    "kappa = metrics.cohen_kappa_score(pred, y_test)\n",
    "\n",
    "summary = f\"\"\"\\\n",
    "Evaluation metrics\n",
    "==================\n",
    "Basic model:\n",
    "  Accuracy: {round(accuracy, 3)}\n",
    "  Kappa:    {round(kappa, 3)}\n",
    "\"\"\"\n",
    "\n",
    "print(summary)"
   ]
  },
  {
   "cell_type": "code",
   "execution_count": 290,
   "id": "2655dd25-7c19-46a5-9974-a3a1b6164a5d",
   "metadata": {},
   "outputs": [
    {
     "name": "stdout",
     "output_type": "stream",
     "text": [
      "Evaluation metrics\n",
      "==================\n",
      "Basic model:\n",
      "  Accuracy: 0.231\n",
      "  Kappa:    0.125\n",
      "\n"
     ]
    }
   ],
   "source": [
    "from sklearn import model_selection, ensemble, metrics\n",
    "ind = largest_overlap.columns[2:-3]\n",
    "\n",
    "X_train_rf, X_test, y_train, y_test = model_selection.train_test_split(largest_overlap[age_cols], largest_overlap[\"label\"].astype(str), test_size=0.25, random_state=0)\n",
    "model = ensemble.RandomForestClassifier(random_state=0, n_jobs=-1)\n",
    "model.fit(X_train_rf, y_train)\n",
    "pred = model.predict(X_test)\n",
    "\n",
    "accuracy = metrics.accuracy_score(pred, y_test)\n",
    "kappa = metrics.cohen_kappa_score(pred, y_test)\n",
    "\n",
    "summary = f\"\"\"\\\n",
    "Evaluation metrics\n",
    "==================\n",
    "Basic model:\n",
    "  Accuracy: {round(accuracy, 3)}\n",
    "  Kappa:    {round(kappa, 3)}\n",
    "\"\"\"\n",
    "\n",
    "print(summary)"
   ]
  },
  {
   "cell_type": "code",
   "execution_count": null,
   "id": "d6f87555-904b-4424-90aa-a56bf9e3026c",
   "metadata": {},
   "outputs": [],
   "source": []
  },
  {
   "cell_type": "code",
   "execution_count": null,
   "id": "81e414b5-09ee-4a44-8d77-01f70a4f8ac8",
   "metadata": {},
   "outputs": [],
   "source": []
  },
  {
   "cell_type": "code",
   "execution_count": 291,
   "id": "154d1b2e-7c7c-48df-a3e4-fcb68d11c4f7",
   "metadata": {},
   "outputs": [
    {
     "data": {
      "text/plain": [
       "1949 - 1978    0.320713\n",
       "Before 1919    0.245733\n",
       "1919 - 1948    0.212132\n",
       "1979 - 1986    0.104255\n",
       "1996 - 2000    0.065185\n",
       "1991 - 1995    0.027025\n",
       "1987 - 1990    0.024956\n",
       "dtype: float64"
      ]
     },
     "execution_count": 291,
     "metadata": {},
     "output_type": "execute_result"
    }
   ],
   "source": [
    "pd.Series(model.feature_importances_, index=model.feature_names_in_).sort_values(ascending=False).iloc[:10]\n"
   ]
  },
  {
   "cell_type": "code",
   "execution_count": null,
   "id": "73c136c7-12ee-4d9b-bfac-e6266b4eaf88",
   "metadata": {},
   "outputs": [],
   "source": []
  },
  {
   "cell_type": "code",
   "execution_count": 127,
   "id": "64bdbf28-32d8-4b4a-8bd7-e52f1efd9b99",
   "metadata": {},
   "outputs": [],
   "source": [
    "clrs_geometry.to_parquet(f'../data/clusters_umap_{region_id}_{min_cluster_size}_{spatial_lag}_{kernel}_{umap_metric}_{final_linkage}_{final_metric}_{cutoff}.pq')"
   ]
  },
  {
   "cell_type": "code",
   "execution_count": 128,
   "id": "5fb1c477-b429-4f68-b93f-54528e8fb908",
   "metadata": {},
   "outputs": [],
   "source": [
    "component_data.to_parquet(f'../data/morphotopes_data_{region_id}_{min_cluster_size}_{spatial_lag}_{lag_type}_{kernel}.pq')"
   ]
  },
  {
   "cell_type": "code",
   "execution_count": null,
   "id": "3fda4992-2712-4da0-9d03-ad1b0a460dff",
   "metadata": {},
   "outputs": [],
   "source": [
    "# gkf = model_selection.StratifiedGroupKFold(n_splits=5)\n",
    "# splits = gkf.split(\n",
    "#     largest_overlap[ind],\n",
    "#     largest_overlap[\"label\"].astype(str),\n",
    "#     groups=largest_overlap[\"label\"],\n",
    "# )"
   ]
  },
  {
   "cell_type": "code",
   "execution_count": null,
   "id": "c1f98427-0839-4d5b-b590-2522014b61e6",
   "metadata": {},
   "outputs": [],
   "source": [
    "# split_label = np.empty(len(largest_overlap), dtype=float)\n",
    "# for i, (train, test) in enumerate(splits):\n",
    "#     split_label[test] = i\n",
    "# largest_overlap[\"split\"] = split_label"
   ]
  },
  {
   "cell_type": "code",
   "execution_count": null,
   "id": "c8c4e836-4626-4004-a3c9-86df0424fed4",
   "metadata": {},
   "outputs": [],
   "source": [
    "# ax = largest_overlap.plot(\n",
    "#   \"split\", categorical=True, figsize=(9, 9), markersize=0.1, legend=True\n",
    "# )\n",
    "# largest_overlap.dissolve(\"label\").convex_hull.boundary.plot(\n",
    "#     ax=ax, color=\"k\", linewidth=0.5, markersize=0\n",
    "# )\n",
    "# ax.set_axis_off()"
   ]
  },
  {
   "cell_type": "code",
   "execution_count": null,
   "id": "9859a68d-e9e7-4a43-9691-367e6c44606d",
   "metadata": {},
   "outputs": [],
   "source": []
  },
  {
   "cell_type": "code",
   "execution_count": null,
   "id": "1872315b-73c9-46a2-801a-192fc5ac06b8",
   "metadata": {},
   "outputs": [],
   "source": []
  },
  {
   "cell_type": "code",
   "execution_count": null,
   "id": "e37f73e4-934d-4f23-9bf8-9fdad19b673e",
   "metadata": {},
   "outputs": [],
   "source": []
  },
  {
   "cell_type": "code",
   "execution_count": null,
   "id": "560c5c9b-3830-4325-93f7-32fff10bdaf6",
   "metadata": {},
   "outputs": [],
   "source": [
    "from libpysal import graph\n",
    "import esda\n"
   ]
  },
  {
   "cell_type": "code",
   "execution_count": null,
   "id": "368b7338-4c5b-4415-820b-90ca34651ca4",
   "metadata": {},
   "outputs": [],
   "source": [
    "col = '1979 - 1986'"
   ]
  },
  {
   "cell_type": "code",
   "execution_count": null,
   "id": "d667347a-c611-4bf7-99aa-49df1ed210e2",
   "metadata": {},
   "outputs": [],
   "source": [
    "contiguity = graph.Graph.build_contiguity(fbc, rook=False)\n",
    "contiguity_r = contiguity.transform(\"r\")\n",
    "lisa = esda.Moran_Local(fbc[col].fillna(0), contiguity_r)"
   ]
  },
  {
   "cell_type": "code",
   "execution_count": null,
   "id": "bde02591-9a79-431c-b056-c9525c1ca333",
   "metadata": {},
   "outputs": [],
   "source": [
    "# lisa.explore(\n",
    "# fbc,\n",
    "# crit_value=0.05,\n",
    "#   prefer_canvas=True,\n",
    "#   tiles=\"CartoDB Positron\",\n",
    "# )"
   ]
  },
  {
   "cell_type": "code",
   "execution_count": null,
   "id": "afee1556-c5ae-4cf4-a837-547496e71ff7",
   "metadata": {},
   "outputs": [],
   "source": []
  },
  {
   "cell_type": "code",
   "execution_count": null,
   "id": "9849bbae-19e7-463c-80ad-361a32f04f35",
   "metadata": {},
   "outputs": [],
   "source": []
  },
  {
   "cell_type": "code",
   "execution_count": null,
   "id": "c6ca83fc-fa39-4436-9747-eeb229200a47",
   "metadata": {},
   "outputs": [],
   "source": []
  },
  {
   "cell_type": "code",
   "execution_count": null,
   "id": "3aa195c4-d3ee-4588-943b-53dadcf77458",
   "metadata": {},
   "outputs": [],
   "source": []
  },
  {
   "cell_type": "markdown",
   "id": "738c9574-ae7a-4da2-8705-7657dcc9a5bd",
   "metadata": {},
   "source": [
    "---"
   ]
  },
  {
   "cell_type": "markdown",
   "id": "cf388aef-38de-43ff-9f6d-2a8b95edc022",
   "metadata": {},
   "source": [
    "### bandwidth stuff"
   ]
  },
  {
   "cell_type": "code",
   "execution_count": 11,
   "id": "5466adf8-2308-4438-b84c-5a6f9e0d718c",
   "metadata": {},
   "outputs": [],
   "source": [
    "from scipy.optimize import minimize, least_squares, root_scalar, brentq\n",
    "from numba import njit\n",
    "from scipy.fftpack import fft\n",
    "\n",
    "@njit(cache=True)\n",
    "def histogram(data, bins, range_hist=None):\n",
    "    \"\"\"Jitted histogram.\n",
    "\n",
    "    Parameters\n",
    "    ----------\n",
    "    data : array-like\n",
    "        Input data. Passed as first positional argument to ``np.histogram``.\n",
    "    bins : int or array-like\n",
    "        Passed as keyword argument ``bins`` to ``np.histogram``.\n",
    "    range_hist : (float, float), optional\n",
    "        Passed as keyword argument ``range`` to ``np.histogram``.\n",
    "\n",
    "    Returns\n",
    "    -------\n",
    "    hist : array\n",
    "        The number of counts per bin.\n",
    "    density : array\n",
    "        The density corresponding to each bin.\n",
    "    bin_edges : array\n",
    "        The edges of the bins used.\n",
    "    \"\"\"\n",
    "    hist, bin_edges = np.histogram(data, bins=bins, range=range_hist)\n",
    "    hist_dens = hist / (hist.sum() * np.diff(bin_edges))\n",
    "    return hist, hist_dens, bin_edges\n",
    "\n",
    "\n",
    "def _root(n_p, k_sq, a_sq, x):\n",
    "    def _fixed_point(t_s, x_len, k_sq, a_sq):\n",
    "        \"\"\"Calculate t-zeta*gamma^[l](t).\n",
    "\n",
    "        Implementation of the function t-zeta*gamma^[l](t) derived from equation (30) in [1].\n",
    "\n",
    "        References\n",
    "        ----------\n",
    "        .. [1] Kernel density estimation via diffusion.\n",
    "        Z. I. Botev, J. F. Grotowski, and D. P. Kroese.\n",
    "        Ann. Statist. 38 (2010), no. 5, 2916--2957.\n",
    "        \"\"\"\n",
    "        k_sq = np.asarray(k_sq, dtype=np.float64)\n",
    "        a_sq = np.asarray(a_sq, dtype=np.float64)\n",
    "\n",
    "        k_o = 7\n",
    "        func = np.sum(np.power(k_sq, k_o) * a_sq * np.exp(-k_sq * np.pi**2 * t_s))\n",
    "        func *= 0.5 * np.pi ** (2.0 * k_o)\n",
    "\n",
    "        for ite in np.arange(k_o - 1, 2 - 1, -1):\n",
    "            c_1 = (1 + 0.5 ** (ite + 0.5)) / 3\n",
    "            c_2 = np.prod(np.arange(1.0, 2 * ite + 1, 2, dtype=np.float64))\n",
    "            c_2 /= (np.pi / 2) ** 0.5\n",
    "            t_j = np.power((c_1 * (c_2 / (x_len * func))), (2.0 / (3.0 + 2.0 * ite)))\n",
    "            func = np.sum(k_sq**ite * a_sq * np.exp(-k_sq * np.pi**2.0 * t_j))\n",
    "            func *= 0.5 * np.pi ** (2 * ite)\n",
    "\n",
    "        out = t_s - (2 * x_len * np.pi**0.5 * func) ** (-0.4)\n",
    "        return out\n",
    "\n",
    "    # The right bound is at most 0.01\n",
    "    found = False\n",
    "    n_p = max(min(1050, n_p), 50)\n",
    "    tol = 10e-12 + 0.01 * (n_p - 50) / 1000\n",
    "\n",
    "    while not found:\n",
    "        try:\n",
    "            band_w, res = brentq(\n",
    "                _fixed_point, 0, 0.01, args=(n_p, k_sq, a_sq), full_output=True, disp=False\n",
    "            )\n",
    "            found = res.converged\n",
    "        except ValueError:\n",
    "            band_w = 0\n",
    "            tol *= 2.0\n",
    "            found = False\n",
    "        if band_w <= 0 or tol >= 1:\n",
    "            band_w = (_bw_silverman(x) / np.ptp(x)) ** 2\n",
    "            return band_w\n",
    "    return band_w\n",
    "\n",
    "def _dct1d(x):\n",
    "    \"\"\"Discrete Cosine Transform in 1 Dimension.\n",
    "\n",
    "    Parameters\n",
    "    ----------\n",
    "    x : numpy array\n",
    "        1 dimensional array of values for which the\n",
    "        DCT is desired\n",
    "\n",
    "    Returns\n",
    "    -------\n",
    "    output : DTC transformed values\n",
    "    \"\"\"\n",
    "    x_len = len(x)\n",
    "\n",
    "    even_increasing = np.arange(0, x_len, 2)\n",
    "    odd_decreasing = np.arange(x_len - 1, 0, -2)\n",
    "\n",
    "    x = np.concatenate((x[even_increasing], x[odd_decreasing]))\n",
    "\n",
    "    w_1k = np.r_[1, (2 * np.exp(-(0 + 1j) * (np.arange(1, x_len)) * np.pi / (2 * x_len)))]\n",
    "    output = np.real(w_1k * fft(x))\n",
    "\n",
    "    return output\n",
    "\n",
    "\n",
    "def _bw_isj(x, grid_counts=None, x_range=None):\n",
    "    \"\"\"Improved Sheather-Jones bandwidth estimation.\n",
    "\n",
    "    Improved Sheather and Jones method as explained in [1]_. This method is used internally by the\n",
    "    KDE estimator, resulting in saved computation time as minimums, maximums and the grid are\n",
    "    pre-computed.\n",
    "\n",
    "    References\n",
    "    ----------\n",
    "    .. [1] Kernel density estimation via diffusion.\n",
    "       Z. I. Botev, J. F. Grotowski, and D. P. Kroese.\n",
    "       Ann. Statist. 38 (2010), no. 5, 2916--2957.\n",
    "    \"\"\"\n",
    "    x_len = len(x)\n",
    "    grid_len = len(grid_counts) - 1\n",
    "    # Discrete cosine transform of the data\n",
    "    a_k = _dct1d(grid_counts / x_len)\n",
    "\n",
    "    k_sq = np.arange(1, grid_len) ** 2\n",
    "    a_sq = a_k[range(1, grid_len)] ** 2\n",
    "    return _root(x_len, k_sq, a_sq, x) ** 0.5 * x_range\n",
    "\n",
    "\n",
    "\n",
    "\n",
    "def kde(x):\n",
    "    x = x[np.isfinite(x)]\n",
    "    if x.size == 0 or np.all(x == x[0]):\n",
    "        warnings.warn(\"Your data appears to have a single value or no finite values\")\n",
    "\n",
    "        return np.zeros(2), np.array([np.nan] * 2)\n",
    "\n",
    "    grid_len = 256\n",
    "    # Preliminary calculations\n",
    "    x_min = x.min()\n",
    "    x_max = x.max()\n",
    "    x_range = x_max - x_min\n",
    "\n",
    "    # Determine grid\n",
    "    grid_min = x_min\n",
    "    grid_max = x_max\n",
    "\n",
    "    grid_counts, _, grid_edges = histogram(x, grid_len, (grid_min, grid_max))\n",
    "\n",
    "    # Bandwidth estimation\n",
    "\n",
    "    band_w = _bw_isj(x, grid_counts=grid_counts, x_range=x_range)\n",
    "    return band_w"
   ]
  },
  {
   "cell_type": "code",
   "execution_count": null,
   "id": "705fea0a-b068-40e4-a8b7-4ef06ee280c1",
   "metadata": {},
   "outputs": [],
   "source": []
  },
  {
   "cell_type": "code",
   "execution_count": 12,
   "id": "2d7e943f-9102-4e08-81aa-f369dd28c052",
   "metadata": {},
   "outputs": [
    {
     "data": {
      "text/plain": [
       "np.float64(4.765916614570653)"
      ]
     },
     "execution_count": 12,
     "metadata": {},
     "output_type": "execute_result"
    }
   ],
   "source": [
    "## distances\n",
    "from sklearn.neighbors import KDTree\n",
    "\n",
    "tree = KDTree(centroids)\n",
    "dist, ind = tree.query(centroids, k=8)\n",
    "dist = dist[:, 1:].ravel()\n",
    "dist.sort()\n",
    "kde(dist)"
   ]
  },
  {
   "cell_type": "code",
   "execution_count": null,
   "id": "23387867-4ad5-4186-99df-f3e8e57a9639",
   "metadata": {},
   "outputs": [],
   "source": []
  },
  {
   "cell_type": "code",
   "execution_count": null,
   "id": "ebcebc8d-c052-4094-977c-8ccae58d207b",
   "metadata": {},
   "outputs": [],
   "source": []
  },
  {
   "cell_type": "code",
   "execution_count": 13,
   "id": "3810b3d9-4603-4e06-aaf1-171412e1df96",
   "metadata": {},
   "outputs": [],
   "source": [
    "### hdbscan bandwith"
   ]
  },
  {
   "cell_type": "code",
   "execution_count": null,
   "id": "d9273560-5bca-4152-b584-07218a9633a6",
   "metadata": {},
   "outputs": [],
   "source": []
  },
  {
   "cell_type": "code",
   "execution_count": 14,
   "id": "3d7922df-3f85-4496-bcc1-4eab55280066",
   "metadata": {},
   "outputs": [],
   "source": [
    "from fast_hdbscan.cluster_trees import (\n",
    "    cluster_tree_from_condensed_tree,\n",
    "    condense_tree,\n",
    "    extract_eom_clusters,\n",
    "    extract_leaves,\n",
    "    get_cluster_label_vector,\n",
    "    mst_to_linkage_tree,\n",
    "    CondensedTree,\n",
    "    bfs_from_hierarchy,\n",
    "    eliminate_branch\n",
    ")"
   ]
  },
  {
   "cell_type": "code",
   "execution_count": 15,
   "id": "a8776739-093c-4b49-ac80-bb7c63b6f32a",
   "metadata": {},
   "outputs": [],
   "source": [
    "X_train = pd.read_parquet(chars_dir + f'primary_chars_{region_id}.parquet')"
   ]
  },
  {
   "cell_type": "code",
   "execution_count": 16,
   "id": "e312a7df-f795-46c0-94dd-71dd2961ed75",
   "metadata": {},
   "outputs": [],
   "source": [
    "kernel = 'gaussian'\n",
    "spatial_lag = 3\n",
    "lag_type = '_median'"
   ]
  },
  {
   "cell_type": "code",
   "execution_count": 63,
   "id": "31483873-7c20-42ae-ba75-72e5d5d48f35",
   "metadata": {},
   "outputs": [
    {
     "name": "stdout",
     "output_type": "stream",
     "text": [
      "CPU times: user 4min 14s, sys: 21.7 s, total: 4min 36s\n",
      "Wall time: 34.3 s\n"
     ]
    },
    {
     "data": {
      "text/plain": [
       "(460909, 126)"
      ]
     },
     "execution_count": 63,
     "metadata": {},
     "output_type": "execute_result"
    }
   ],
   "source": [
    "%%time\n",
    "\n",
    "X_train = pd.read_parquet(chars_dir + f'primary_chars_{region_id}.parquet')\n",
    "\n",
    "\n",
    "lag = spatially_weighted_partial_lag(X_train, graph, centroids, kernel=kernel, k=spatial_lag, n_splits=10)\n",
    "lag = lag[[c for c in lag.columns if lag_type in c]]\n",
    "clustering_data = X_train.join(lag, how='inner')\n",
    "\n",
    "X_train = clustering_data\n",
    "X_train.shape"
   ]
  },
  {
   "cell_type": "code",
   "execution_count": 61,
   "id": "41d6d330-4bb3-4104-af65-87fa5bc4f7f5",
   "metadata": {},
   "outputs": [],
   "source": [
    "X_train = pd.read_parquet(chars_dir + f'primary_chars_{region_id}.parquet')"
   ]
  },
  {
   "cell_type": "code",
   "execution_count": 62,
   "id": "805677db-e850-4441-add7-3db8e6984938",
   "metadata": {},
   "outputs": [],
   "source": [
    "# to_drop = X_train.columns[~(X_train.columns.str.startswith('s') | X_train.columns.str.startswith('m'))]\n",
    "\n",
    "\n",
    "to_drop = X_train.columns[X_train.columns.str.startswith('l')]\n",
    "\n",
    "\n",
    "# to_drop = X_train.columns[~(X_train.columns.str.startswith('s') | X_train.columns.str.startswith('m'))]\n"
   ]
  },
  {
   "cell_type": "code",
   "execution_count": 63,
   "id": "dda6950d-a389-429a-abe1-c1e25391e4a6",
   "metadata": {},
   "outputs": [
    {
     "data": {
      "text/plain": [
       "Index(['sdbAre', 'sdbPer', 'sdbCoA', 'ssbCCo', 'ssbCor', 'ssbSqu', 'ssbERI',\n",
       "       'ssbElo', 'ssbCCM', 'ssbCCD', 'stbOri', 'mtbSWR', 'mtbAli', 'mtbNDi',\n",
       "       'stbCeA', 'stbSAl', 'sdsLen', 'sssLin', 'sisBpM', 'sdsSPW', 'sdsSPO',\n",
       "       'sdsSWD', 'mtdDeg', 'xcnSCl', 'mtdMDi', 'sddAre', 'midRea', 'midAre',\n",
       "       'stcOri', 'sdcLAL', 'sdcAre', 'sscCCo', 'sscERI', 'mtcWNe', 'mdcAre',\n",
       "       'sicCAR', 'stcSAl', 'sdsAre'],\n",
       "      dtype='object')"
      ]
     },
     "execution_count": 63,
     "metadata": {},
     "output_type": "execute_result"
    }
   ],
   "source": [
    "X_train = X_train.drop(to_drop, axis=1)\n",
    "X_train.columns"
   ]
  },
  {
   "cell_type": "code",
   "execution_count": 79,
   "id": "9c232952-cd22-4c26-8f55-4f1a4e0e2cc6",
   "metadata": {},
   "outputs": [
    {
     "data": {
      "text/plain": [
       "array(['area of building', 'perimeter of building',\n",
       "       'courtyard area of building', 'circular compactness of building',\n",
       "       'corners of building', 'squareness of building',\n",
       "       'equivalent rectangular index of building',\n",
       "       'elongation of building',\n",
       "       'centroid - corner mean distance of building',\n",
       "       'centroid - corner distance deviation of building',\n",
       "       'orientation of building', 'shared walls ratio of buildings',\n",
       "       'alignment of neighbouring buildings',\n",
       "       'mean distance between neighbouring buildings',\n",
       "       'cell alignment of building', 'street alignment of building',\n",
       "       'length of street segment', 'linearity of street segment',\n",
       "       'buildings per meter of street segment', 'width of street profile',\n",
       "       'openness of street profile', 'width deviation of street profile',\n",
       "       'node degree of junction', 'square clustering of street network',\n",
       "       'mean distance to neighbouring nodes of street network',\n",
       "       'area covered by node-attached ETCs',\n",
       "       'number of tess cells in node neigbhorhood',\n",
       "       'total area of tess cells in node neigbhorhood',\n",
       "       'orientation of ETC', 'longest axis length of ETC', 'area of ETC',\n",
       "       'circular compactness of ETC',\n",
       "       'equivalent rectangular index of ETC',\n",
       "       'perimeter-weighted neighbours of ETC',\n",
       "       'area covered by neighbouring cells', 'covered area ratio of ETC',\n",
       "       'street alignment of ETC', 'area covered by edge-attached ETCs'],\n",
       "      dtype=object)"
      ]
     },
     "execution_count": 79,
     "metadata": {},
     "output_type": "execute_result"
    }
   ],
   "source": [
    "# from core.utils import used_keys\n",
    "# pd.Series(used_keys).loc[X_train.columns].values"
   ]
  },
  {
   "cell_type": "code",
   "execution_count": 64,
   "id": "50bef5cf-e540-442c-a627-cb7288b52d10",
   "metadata": {},
   "outputs": [],
   "source": [
    "# label building input data, could work with empty tess as well\n",
    "building_graph = graph.subgraph(graph.unique_ids[graph.unique_ids >= 0])\n",
    "labels = building_graph.component_labels\n",
    "\n",
    "results = {}\n",
    "\n",
    "for label, group in labels.groupby(labels):\n",
    "\n",
    "    if label != 184 : continue\n",
    "\n",
    "    if group.shape[0] <= min_cluster_size:\n",
    "        component_clusters = np.ones(group.shape[0])\n",
    "\n",
    "    else:\n",
    "        component_buildings_data = preprocess_clustering_data(X_train.loc[group.index.values], clip=clip, to_drop=to_drop)\n",
    "        component_graph = building_graph.subgraph(group.index.values)\n",
    "        ward_tree = get_tree(component_buildings_data, component_graph.transform('B').sparse, linkage, metric)\n",
    "        break"
   ]
  },
  {
   "cell_type": "code",
   "execution_count": 65,
   "id": "1bcb28f6-2b30-4d96-ab9a-5c333d6fcdd5",
   "metadata": {},
   "outputs": [
    {
     "data": {
      "text/plain": [
       "(140690, 38)"
      ]
     },
     "execution_count": 65,
     "metadata": {},
     "output_type": "execute_result"
    }
   ],
   "source": [
    "component_buildings_data.shape"
   ]
  },
  {
   "cell_type": "code",
   "execution_count": 99,
   "id": "2941847a-cd8c-4a49-8da4-b67542c94fce",
   "metadata": {},
   "outputs": [],
   "source": [
    "@numba.njit(fastmath=True)\n",
    "def condense_tree(hierarchy, min_cluster_size=10, bandwidth=1):\n",
    "    root = 2 * hierarchy.shape[0]\n",
    "    num_points = hierarchy.shape[0] + 1\n",
    "    next_label = num_points + 1\n",
    "\n",
    "    node_list = bfs_from_hierarchy(hierarchy, root, num_points)\n",
    "\n",
    "    relabel = np.zeros(root + 1, dtype=np.int64)\n",
    "    relabel[root] = num_points\n",
    "\n",
    "    parents = np.ones(root, dtype=np.int64)\n",
    "    children = np.empty(root, dtype=np.int64)\n",
    "    lambdas = np.empty(root, dtype=np.float32)\n",
    "    sizes = np.ones(root, dtype=np.int64)\n",
    "\n",
    "    ignore = np.zeros(root + 1, dtype=np.bool_) # 'bool' is no longer an attribute of 'numpy'\n",
    "\n",
    "    idx = 0\n",
    "\n",
    "    for node in node_list:\n",
    "        if ignore[node] or node < num_points:\n",
    "            continue\n",
    "\n",
    "        parent_node = relabel[node]\n",
    "        l, r, d, _ = hierarchy[node - num_points]\n",
    "        left = np.int64(l)\n",
    "        right = np.int64(r)\n",
    "        if d > 0.0:\n",
    "            # gaussian lambda value\n",
    "            # lambda_value = np.exp(-(((d / bandwidth) / 2) ** 2)) / (np.sqrt(2) * np.pi)\n",
    "            lambda_value = 1 / d\n",
    "        else:\n",
    "            lambda_value = np.inf\n",
    "\n",
    "        left_count = np.int64(hierarchy[left - num_points, 3]) if left >= num_points else 1\n",
    "        right_count = np.int64(hierarchy[right - num_points, 3]) if right >= num_points else 1\n",
    "\n",
    "        # The logic here is in a strange order, but it has non-trivial performance gains ...\n",
    "        # The most common case by far is a singleton on the left; and cluster on the right take care of this separately\n",
    "        if left < num_points and right_count >= min_cluster_size:\n",
    "            relabel[right] = parent_node\n",
    "            parents[idx] = parent_node\n",
    "            children[idx] = left\n",
    "            lambdas[idx] = lambda_value\n",
    "            idx += 1\n",
    "        # Next most common is a small left cluster and a large right cluster: relabel the right node; eliminate the left branch\n",
    "        elif left_count < min_cluster_size and right_count >= min_cluster_size:\n",
    "            relabel[right] = parent_node\n",
    "            idx = eliminate_branch(left, parent_node, lambda_value, parents, children, lambdas, sizes, idx, ignore,\n",
    "                                   hierarchy, num_points)\n",
    "        # Then we have a large left cluster and a small right cluster: relabel the left node; elimiate the right branch\n",
    "        elif left_count >= min_cluster_size and right_count < min_cluster_size:\n",
    "            relabel[left] = parent_node\n",
    "            idx = eliminate_branch(right, parent_node, lambda_value, parents, children, lambdas, sizes, idx, ignore,\n",
    "                                   hierarchy, num_points)\n",
    "        # If both clusters are small then eliminate all branches\n",
    "        elif left_count < min_cluster_size and right_count < min_cluster_size:\n",
    "            idx = eliminate_branch(left, parent_node, lambda_value, parents, children, lambdas, sizes, idx, ignore,\n",
    "                                   hierarchy, num_points)\n",
    "            idx = eliminate_branch(right, parent_node, lambda_value, parents, children, lambdas, sizes, idx, ignore,\n",
    "                                   hierarchy, num_points)\n",
    "        # and finally if we actually have a legitimate cluster split, handle that correctly\n",
    "        else:\n",
    "            relabel[left] = next_label\n",
    "\n",
    "            parents[idx] = parent_node\n",
    "            children[idx] = next_label\n",
    "            lambdas[idx] = lambda_value\n",
    "            sizes[idx] = left_count\n",
    "            next_label += 1\n",
    "            idx += 1\n",
    "\n",
    "            relabel[right] = next_label\n",
    "\n",
    "            parents[idx] = parent_node\n",
    "            children[idx] = next_label\n",
    "            lambdas[idx] = lambda_value\n",
    "            sizes[idx] = right_count\n",
    "            next_label += 1\n",
    "            idx += 1\n",
    "\n",
    "    return CondensedTree(parents[:idx], children[:idx], lambdas[:idx], sizes[:idx])"
   ]
  },
  {
   "cell_type": "code",
   "execution_count": 154,
   "id": "537591f4-3a3d-43f9-8995-30156b199038",
   "metadata": {},
   "outputs": [],
   "source": [
    "\n",
    "# import umap\n",
    "# reducer = umap.UMAP(n_neighbors=10, n_components=20, \n",
    "#                     min_dist=0, negative_sample_rate=50, \n",
    "#                     metric='euclidean', verbose=True, random_state=1)\n",
    "# embedding = reducer.fit_transform(component_buildings_data)\n",
    "\n",
    "# ward_tree = get_tree(embedding, \n",
    "#                      component_graph.transform('B').sparse, \n",
    "#                      'ward', metric)"
   ]
  },
  {
   "cell_type": "code",
   "execution_count": null,
   "id": "c0172bef-a96d-4131-9cf2-a6ff737a06c0",
   "metadata": {},
   "outputs": [],
   "source": []
  },
  {
   "cell_type": "code",
   "execution_count": null,
   "id": "95784495-0d0f-4600-a6d2-4859a7d365ee",
   "metadata": {},
   "outputs": [],
   "source": []
  },
  {
   "cell_type": "code",
   "execution_count": 143,
   "id": "876d70fb-28b6-4561-99a0-3171db70ea69",
   "metadata": {},
   "outputs": [],
   "source": [
    "\n",
    "\n",
    "# ward_tree = get_tree(component_buildings_data, \n",
    "#                      component_graph.transform('B').sparse, \n",
    "#                      'ward', metric)"
   ]
  },
  {
   "cell_type": "code",
   "execution_count": null,
   "id": "9c0f9fd9-b595-43b1-98c3-af6b83200d7c",
   "metadata": {},
   "outputs": [],
   "source": []
  },
  {
   "cell_type": "code",
   "execution_count": 144,
   "id": "4b8b2039-27fe-4661-b9bc-d09b1238058a",
   "metadata": {},
   "outputs": [
    {
     "data": {
      "text/plain": [
       "np.float64(0.932801189896762)"
      ]
     },
     "execution_count": 144,
     "metadata": {},
     "output_type": "execute_result"
    }
   ],
   "source": [
    "bandwidth = kde(ward_tree[:, 2])\n",
    "bandwidth"
   ]
  },
  {
   "cell_type": "code",
   "execution_count": 145,
   "id": "11fb51b3-b117-45dd-9932-a60e075340e7",
   "metadata": {},
   "outputs": [
    {
     "data": {
      "text/plain": [
       "np.float64(1.4053693940166059)"
      ]
     },
     "execution_count": 145,
     "metadata": {},
     "output_type": "execute_result"
    }
   ],
   "source": [
    "from scipy.stats import gaussian_kde\n",
    "e = gaussian_kde(ward_tree[:, 2])\n",
    "f = e.covariance_factor()\n",
    "bw = f * ward_tree[:, 2].std()\n",
    "bw"
   ]
  },
  {
   "cell_type": "code",
   "execution_count": 146,
   "id": "93cd219c-54f2-4b82-9c6b-23311737690f",
   "metadata": {},
   "outputs": [],
   "source": [
    "bandwidth = np.max((bandwidth, 1))\n",
    "bandwidth = bw"
   ]
  },
  {
   "cell_type": "code",
   "execution_count": 147,
   "id": "69798324-acd2-4459-96b9-ba93bc62c57d",
   "metadata": {},
   "outputs": [],
   "source": [
    "min_cluster_size = 101"
   ]
  },
  {
   "cell_type": "code",
   "execution_count": 148,
   "id": "710313a3-e5fc-48ec-9a1c-5223511832ad",
   "metadata": {},
   "outputs": [],
   "source": [
    "\n",
    "linkage_matrix = ward_tree\n",
    "condensed_tree = condense_tree(linkage_matrix, \n",
    "                           min_cluster_size=min_cluster_size,\n",
    "                              bandwidth=bandwidth)\n",
    "cluster_tree = cluster_tree_from_condensed_tree(condensed_tree)"
   ]
  },
  {
   "cell_type": "code",
   "execution_count": 149,
   "id": "c8fc018f-22c1-45d1-acb5-1c93e0f7b846",
   "metadata": {},
   "outputs": [],
   "source": [
    "selected_clusters = extract_eom_clusters(\n",
    "        condensed_tree, cluster_tree, allow_single_cluster=False\n",
    "    )"
   ]
  },
  {
   "cell_type": "code",
   "execution_count": 150,
   "id": "f65b6f77-b1b4-4419-bbf7-44102ea18c8f",
   "metadata": {},
   "outputs": [],
   "source": [
    "clusters = get_cluster_label_vector(condensed_tree, selected_clusters, 0)"
   ]
  },
  {
   "cell_type": "code",
   "execution_count": 151,
   "id": "ff2ce0b0-bac8-468c-a5cf-2a99fbbd9536",
   "metadata": {},
   "outputs": [
    {
     "data": {
      "text/plain": [
       "-1      26927\n",
       " 133     2051\n",
       " 377     1505\n",
       " 111     1384\n",
       " 344     1378\n",
       "        ...  \n",
       " 340      103\n",
       " 233      102\n",
       " 33       101\n",
       " 353      101\n",
       " 209      101\n",
       "Name: count, Length: 421, dtype: int64"
      ]
     },
     "execution_count": 151,
     "metadata": {},
     "output_type": "execute_result"
    }
   ],
   "source": [
    "pd.Series(clusters).value_counts()"
   ]
  },
  {
   "cell_type": "code",
   "execution_count": 152,
   "id": "cf980691-b132-41a4-ac81-66e6a46a4dfc",
   "metadata": {},
   "outputs": [],
   "source": [
    "# mt = gpd.read_parquet(val_path)\n",
    "# mt.explore()"
   ]
  },
  {
   "cell_type": "code",
   "execution_count": null,
   "id": "9ae0ce71-7986-4f2f-a9bd-3f189e756455",
   "metadata": {},
   "outputs": [],
   "source": []
  },
  {
   "cell_type": "code",
   "execution_count": null,
   "id": "cd528677-7fbe-4813-9c67-83301bdcf62f",
   "metadata": {},
   "outputs": [],
   "source": []
  },
  {
   "cell_type": "code",
   "execution_count": 153,
   "id": "d39aff70-ed0b-4cc7-8619-7951f14e8b9c",
   "metadata": {},
   "outputs": [],
   "source": [
    "from core.cluster_validation import get_color\n",
    "layer.get_fill_color = get_color(clusters)"
   ]
  },
  {
   "cell_type": "code",
   "execution_count": null,
   "id": "2da2079f-3cf6-4784-b4de-2ccb1dcd3322",
   "metadata": {},
   "outputs": [],
   "source": []
  },
  {
   "cell_type": "code",
   "execution_count": null,
   "id": "c871f2ef-ed83-4970-bc94-fcb95473e3fe",
   "metadata": {},
   "outputs": [],
   "source": []
  },
  {
   "cell_type": "code",
   "execution_count": 36,
   "id": "c6163aab-4af3-49b8-b628-81fd864490b0",
   "metadata": {},
   "outputs": [
    {
     "name": "stderr",
     "output_type": "stream",
     "text": [
      "/home/krasen/urban_taxonomy/.pixi/envs/default/lib/python3.12/site-packages/lonboard/_geoarrow/ops/reproject.py:97: UserWarning: Input being reprojected to EPSG:4326 CRS\n",
      "  warnings.warn(\"Input being reprojected to EPSG:4326 CRS\")\n"
     ]
    },
    {
     "name": "stdout",
     "output_type": "stream",
     "text": [
      "CPU times: user 2.49 s, sys: 207 ms, total: 2.69 s\n",
      "Wall time: 2.69 s\n"
     ]
    }
   ],
   "source": [
    "%%time\n",
    "import lonboard\n",
    "# plotting = tessellation[tessellation.index.isin(X_train.index)].copy()\n",
    "layer = lonboard.SolidPolygonLayer.from_geopandas(tessellation.loc[component_graph.unique_ids], opacity=.08)"
   ]
  },
  {
   "cell_type": "code",
   "execution_count": 37,
   "id": "38c4e6bf-b30b-4ec0-9814-2a30912a2a0f",
   "metadata": {},
   "outputs": [],
   "source": [
    "from sidecar import Sidecar\n",
    "sc = Sidecar(title='Final Clusters')\n",
    "m = lonboard.Map(layer, basemap_style=lonboard.basemap.CartoBasemap.Positron)\n",
    "with sc:\n",
    "    display(m)"
   ]
  },
  {
   "cell_type": "code",
   "execution_count": null,
   "id": "1529f263-cb92-4884-87d7-eee9cb2fc6be",
   "metadata": {},
   "outputs": [],
   "source": []
  },
  {
   "cell_type": "code",
   "execution_count": 38,
   "id": "976ee4fe-8454-4c75-96b7-4585a734e9b0",
   "metadata": {},
   "outputs": [],
   "source": [
    "from core.cluster_validation import get_color\n",
    "layer.get_fill_color = get_color(clusters)"
   ]
  },
  {
   "cell_type": "code",
   "execution_count": null,
   "id": "57a59314-2fd7-4d3d-a40f-aa275d044ad7",
   "metadata": {},
   "outputs": [],
   "source": []
  }
 ],
 "metadata": {
  "kernelspec": {
   "display_name": "Python 3 (ipykernel)",
   "language": "python",
   "name": "python3"
  },
  "language_info": {
   "codemirror_mode": {
    "name": "ipython",
    "version": 3
   },
   "file_extension": ".py",
   "mimetype": "text/x-python",
   "name": "python",
   "nbconvert_exporter": "python",
   "pygments_lexer": "ipython3",
   "version": "3.12.5"
  }
 },
 "nbformat": 4,
 "nbformat_minor": 5
}
