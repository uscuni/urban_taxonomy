{
 "cells": [
  {
   "cell_type": "code",
   "execution_count": 1,
   "id": "7ea4918a-bb38-415c-b50f-bf1f94101b01",
   "metadata": {},
   "outputs": [
    {
     "name": "stdout",
     "output_type": "stream",
     "text": [
      "CPU times: user 11.2 s, sys: 398 ms, total: 11.6 s\n",
      "Wall time: 9.26 s\n"
     ]
    }
   ],
   "source": [
    "%%time\n",
    "\n",
    "import glob\n",
    "\n",
    "import geopandas as gpd\n",
    "import matplotlib.pyplot as plt\n",
    "import numba\n",
    "import numpy as np\n",
    "import pandas as pd\n",
    "from libpysal.graph import read_parquet\n",
    "from sklearn.preprocessing import PowerTransformer, RobustScaler, StandardScaler\n",
    "\n",
    "from sklearn.neighbors import KDTree\n",
    "\n",
    "from sklearn.cluster import AgglomerativeClustering\n",
    "from scipy.cluster.hierarchy import dendrogram\n",
    "from scipy.cluster.hierarchy import fcluster\n",
    "from sklearn.metrics import adjusted_rand_score\n",
    "from sklearn.metrics import davies_bouldin_score\n",
    "from core.cluster_validation import get_linkage_matrix\n",
    "\n",
    "from fast_hdbscan.cluster_trees import (\n",
    "    cluster_tree_from_condensed_tree,\n",
    "    condense_tree,\n",
    "    extract_eom_clusters,\n",
    "    extract_leaves,\n",
    "    get_cluster_label_vector,\n",
    "    mst_to_linkage_tree,\n",
    ")\n",
    "from sklearn.neighbors import KDTree\n",
    "import shapely\n",
    "from core.cluster_validation import generate_detailed_clusters\n",
    "from core.generate_context import spatially_weighted_partial_lag\n",
    "from core.generate_clusters import cluster_data"
   ]
  },
  {
   "cell_type": "code",
   "execution_count": null,
   "id": "c4562cd1-1f86-45d0-b662-8a6a948a2671",
   "metadata": {},
   "outputs": [],
   "source": []
  },
  {
   "cell_type": "code",
   "execution_count": 2,
   "id": "f78cb85f-68e2-4e86-a4d1-3518bb62ad34",
   "metadata": {},
   "outputs": [],
   "source": [
    "region_id = 69333\n",
    "\n",
    "tessellations_dir = '/data/uscuni-ulce/processed_data/tessellations/'\n",
    "chars_dir = \"/data/uscuni-ulce/processed_data/chars/\"\n",
    "graph_dir = \"/data/uscuni-ulce/processed_data/neigh_graphs/\"\n",
    "cluster_dir = '/data/uscuni-ulce/processed_data/clusters/'\n",
    "val_path = '../data/prague_validation/morphotopes.pq'"
   ]
  },
  {
   "cell_type": "code",
   "execution_count": null,
   "id": "2f784d07-59fe-4a99-8a97-12839500f50c",
   "metadata": {},
   "outputs": [],
   "source": []
  },
  {
   "cell_type": "code",
   "execution_count": null,
   "id": "283342f8-5e50-41a6-af44-9c68e2ec60b4",
   "metadata": {},
   "outputs": [],
   "source": []
  },
  {
   "cell_type": "code",
   "execution_count": null,
   "id": "7c41f516-6ff7-4499-a073-5228b2564a5f",
   "metadata": {},
   "outputs": [],
   "source": []
  },
  {
   "cell_type": "code",
   "execution_count": null,
   "id": "026da533-bd10-4dd8-854e-2c59917beedd",
   "metadata": {},
   "outputs": [],
   "source": []
  },
  {
   "cell_type": "code",
   "execution_count": 3,
   "id": "5eb7d7f7-98b5-49dd-82ac-866aba13ac6b",
   "metadata": {},
   "outputs": [],
   "source": [
    "# region_id = 'freiburg'\n",
    "# buildings_dir = streets_dir = enclosures_dir = tessellations_dir = graph_dir = '../data/freiburg/'\n",
    "# chars_dir = '../data/freiburg/chars/'\n",
    "# cluster_dir = '/data/uscuni-ulce/processed_data/clusters/'\n",
    "# val_path = '../data/fbg_cluster_validation.pq'"
   ]
  },
  {
   "cell_type": "code",
   "execution_count": null,
   "id": "6df3fea9-cc5a-41d1-8cea-ce3a27a73113",
   "metadata": {},
   "outputs": [],
   "source": []
  },
  {
   "cell_type": "code",
   "execution_count": null,
   "id": "b792bd3e-2aa6-4ab6-b361-2715146549b7",
   "metadata": {},
   "outputs": [],
   "source": []
  },
  {
   "cell_type": "code",
   "execution_count": 4,
   "id": "4b48fd6c-cf84-4137-96c7-41eaa42d2733",
   "metadata": {},
   "outputs": [],
   "source": [
    "X_train = pd.read_parquet(chars_dir + f'primary_chars_{region_id}.parquet')\n",
    "graph = read_parquet(graph_dir + f\"tessellation_graph_{region_id}_knn1.parquet\")\n",
    "tessellation = gpd.read_parquet(\n",
    "        tessellations_dir + f\"tessellation_{region_id}.parquet\"\n",
    ")\n",
    "morphotopes = gpd.read_parquet(val_path)"
   ]
  },
  {
   "cell_type": "code",
   "execution_count": null,
   "id": "a96bd6e1-fcca-464f-a71f-ee601322fe0b",
   "metadata": {},
   "outputs": [],
   "source": []
  },
  {
   "cell_type": "code",
   "execution_count": null,
   "id": "17373cf1-ab71-4b5d-8a71-5ad2c1967ee8",
   "metadata": {},
   "outputs": [],
   "source": []
  },
  {
   "cell_type": "code",
   "execution_count": 5,
   "id": "50c2e6f7-6f78-46f6-af78-53f8b229f149",
   "metadata": {},
   "outputs": [],
   "source": [
    "\n",
    "\n",
    "tess_groups = generate_detailed_clusters(tessellation,\n",
    "                                         include_random_sample=False, path=val_path)\n",
    "tess_groups = tess_groups[tess_groups.index.isin(X_train.index)]\n",
    "\n",
    "\n",
    "tess_groups_ilocs = (\n",
    "    pd.Series(np.arange(len(X_train[X_train.index >=0])), index=X_train[X_train.index >=0].index)\n",
    "    .loc[tess_groups.index]\n",
    "    .values\n",
    ")"
   ]
  },
  {
   "cell_type": "code",
   "execution_count": null,
   "id": "38135f01-a4fa-4bfd-a3c9-aa4caaaffc86",
   "metadata": {},
   "outputs": [],
   "source": []
  },
  {
   "cell_type": "code",
   "execution_count": 6,
   "id": "9c0075f8-1da2-41e3-893b-da0a2f465da0",
   "metadata": {},
   "outputs": [],
   "source": [
    "spatial_lags = [1, 2, 3, 4, 5]\n",
    "kernels = ['gaussian', 'inverse', 'weights']\n",
    "lag_types = ['_median', '_iqr', '_']\n",
    "cluster_sizes = [50, 75, 100, 150, 250]\n",
    "chars_to_drop = [\n",
    "    [],\n",
    "    ['stcSAl', 'stcOri'],\n",
    "    [\n",
    "       'stcSAl',\n",
    "       'ltkOri',\n",
    "         'stbOri',\n",
    "         'stcOri',\n",
    "         'stbCeA'\n",
    "    ]\n",
    "          \n",
    "]\n",
    "clips = [None, (-5,5), (-10, 10)]\n",
    "\n",
    "\n",
    "linkage = 'ward'\n",
    "metric = 'euclidean'\n",
    "centroids = shapely.get_coordinates(tessellation.representative_point())"
   ]
  },
  {
   "cell_type": "code",
   "execution_count": null,
   "id": "686218ed-f03c-47dd-8a35-c0cfb4278572",
   "metadata": {},
   "outputs": [],
   "source": []
  },
  {
   "cell_type": "code",
   "execution_count": null,
   "id": "085c5ee1-0616-4269-bdbc-7a726e51bf71",
   "metadata": {},
   "outputs": [],
   "source": []
  },
  {
   "cell_type": "code",
   "execution_count": null,
   "id": "9fbd4278-7697-4939-a9d4-af553004b196",
   "metadata": {},
   "outputs": [],
   "source": []
  },
  {
   "cell_type": "code",
   "execution_count": 30,
   "id": "9c0425b7-11a3-4be9-b88b-80dcaea4c33f",
   "metadata": {},
   "outputs": [],
   "source": [
    "from core.generate_clusters import preprocess_clustering_data, get_clusters, post_process_clusters, get_tree\n",
    "# # label building input data, could work with empty tess as well\n",
    "building_graph = graph.subgraph(graph.unique_ids[graph.unique_ids >= 0])\n",
    "labels = building_graph.component_labels"
   ]
  },
  {
   "cell_type": "code",
   "execution_count": 31,
   "id": "15910fa9-b7db-403e-b3a5-6694b418da69",
   "metadata": {},
   "outputs": [],
   "source": [
    "min_cluster_size = 100\n",
    "spatial_lag = 3\n",
    "kernel='gaussian'\n",
    "\n",
    "to_drop = []\n",
    "# to_drop = ['stcSAl', 'stcOri']\n",
    "to_drop = [\n",
    "       'stcSAl',\n",
    "       'ltkOri',\n",
    "         'stbOri',\n",
    "         'stcOri',\n",
    "         'stbCeA'\n",
    "]\n",
    "\n",
    "lag_type = '_iqr'\n",
    "\n",
    "clip = None\n",
    "linkage='ward'\n",
    "metric='euclidean'"
   ]
  },
  {
   "cell_type": "code",
   "execution_count": null,
   "id": "f9a09d5e-f915-4faf-b440-85beacd1afea",
   "metadata": {},
   "outputs": [],
   "source": []
  },
  {
   "cell_type": "code",
   "execution_count": 32,
   "id": "6d42e839-db93-444e-8913-3d6006cac872",
   "metadata": {},
   "outputs": [
    {
     "name": "stdout",
     "output_type": "stream",
     "text": [
      "CPU times: user 4min 18s, sys: 24.3 s, total: 4min 42s\n",
      "Wall time: 37.5 s\n"
     ]
    }
   ],
   "source": [
    "%%time\n",
    "lag = spatially_weighted_partial_lag(X_train, graph, centroids, kernel=kernel, k=spatial_lag, n_splits=10)\n",
    "lag = lag[[c for c in lag.columns if lag_type in c]]\n",
    "clustering_data = X_train.join(lag, how='inner')"
   ]
  },
  {
   "cell_type": "code",
   "execution_count": 33,
   "id": "f7c54263-437a-4bcf-8aad-7c9616a95dec",
   "metadata": {},
   "outputs": [],
   "source": [
    "# clustering_data = X_train.copy()\n",
    "# clip = (-3,3)\n",
    "# to_drop = [\n",
    "#        'stcSAl',\n",
    "#        'ltkOri',\n",
    "#          'stbOri',\n",
    "#          'stcOri',\n",
    "#          'stbCeA'\n",
    "# ]"
   ]
  },
  {
   "cell_type": "code",
   "execution_count": 34,
   "id": "f9fd07f2-03e2-4e29-981c-43f25acf407e",
   "metadata": {},
   "outputs": [
    {
     "data": {
      "text/plain": [
       "(460909, 126)"
      ]
     },
     "execution_count": 34,
     "metadata": {},
     "output_type": "execute_result"
    }
   ],
   "source": [
    "clustering_data.shape"
   ]
  },
  {
   "cell_type": "code",
   "execution_count": 35,
   "id": "392e470a-2ae5-4f6c-8599-26f7ae137eeb",
   "metadata": {},
   "outputs": [
    {
     "name": "stdout",
     "output_type": "stream",
     "text": [
      "CPU times: user 57.7 s, sys: 575 ms, total: 58.3 s\n",
      "Wall time: 58 s\n"
     ]
    }
   ],
   "source": [
    "%%time\n",
    "region_cluster_labels = cluster_data(clustering_data, graph, to_drop, clip, min_cluster_size, linkage, metric)"
   ]
  },
  {
   "cell_type": "code",
   "execution_count": 36,
   "id": "f9765d96-3bf6-43a3-ad65-ec8991fd12ad",
   "metadata": {},
   "outputs": [],
   "source": [
    "from sklearn.metrics import silhouette_score"
   ]
  },
  {
   "cell_type": "code",
   "execution_count": 37,
   "id": "f8edd3eb-8964-4eb4-b175-41fdf8d1cd58",
   "metadata": {},
   "outputs": [
    {
     "data": {
      "text/plain": [
       "np.float64(-0.6183644409538975)"
      ]
     },
     "execution_count": 37,
     "metadata": {},
     "output_type": "execute_result"
    }
   ],
   "source": [
    "silhouette_score(clustering_data.iloc[tess_groups_ilocs].fillna(0), region_cluster_labels[tess_groups_ilocs])"
   ]
  },
  {
   "cell_type": "code",
   "execution_count": 38,
   "id": "5cb5fc90-cc69-43f4-b7b2-95cfe397c4b6",
   "metadata": {},
   "outputs": [
    {
     "data": {
      "text/plain": [
       "0.6178865658566751"
      ]
     },
     "execution_count": 38,
     "metadata": {},
     "output_type": "execute_result"
    }
   ],
   "source": [
    "adjusted_rand_score(tess_groups.values, region_cluster_labels[tess_groups_ilocs])"
   ]
  },
  {
   "cell_type": "code",
   "execution_count": null,
   "id": "3028dc45-d0c6-411c-b907-03acb6498ac1",
   "metadata": {},
   "outputs": [],
   "source": []
  },
  {
   "cell_type": "code",
   "execution_count": 39,
   "id": "653d61b2-56a7-4405-97de-a491d89f5281",
   "metadata": {},
   "outputs": [],
   "source": [
    "# gpd.read_parquet('../data/morphotopes_freiburg_100_3_gaussian.pq').explore()"
   ]
  },
  {
   "cell_type": "code",
   "execution_count": null,
   "id": "68b2f44d-8e0a-4185-abc9-45be2ba1ea7e",
   "metadata": {},
   "outputs": [],
   "source": []
  },
  {
   "cell_type": "code",
   "execution_count": 40,
   "id": "8d3be766-4c94-4682-8788-4582af70c950",
   "metadata": {},
   "outputs": [
    {
     "data": {
      "text/plain": [
       "component labels\n",
       "184     140690\n",
       "125      21682\n",
       "28       10205\n",
       "61        6061\n",
       "74        5738\n",
       "         ...  \n",
       "2455         1\n",
       "0            1\n",
       "3439         1\n",
       "3434         1\n",
       "3414         1\n",
       "Name: count, Length: 3458, dtype: int64"
      ]
     },
     "execution_count": 40,
     "metadata": {},
     "output_type": "execute_result"
    }
   ],
   "source": [
    "labels.value_counts()"
   ]
  },
  {
   "cell_type": "code",
   "execution_count": 41,
   "id": "ced4354c-c8f6-4ce9-9928-7cfb2cb55390",
   "metadata": {},
   "outputs": [
    {
     "data": {
      "text/plain": [
       "(140690,)"
      ]
     },
     "execution_count": 41,
     "metadata": {},
     "output_type": "execute_result"
    }
   ],
   "source": [
    "label = 184\n",
    "labels.groupby(labels).get_group(label).shape"
   ]
  },
  {
   "cell_type": "code",
   "execution_count": 42,
   "id": "bf4136f5-8356-47ba-a7d8-736345f49eb4",
   "metadata": {},
   "outputs": [],
   "source": [
    "# tessellation.loc[labels.groupby(labels).get_group(label).index.values].explore(column=results[label], categorical=True)"
   ]
  },
  {
   "cell_type": "code",
   "execution_count": 43,
   "id": "e593d401-ff91-4141-a4f8-6461961e227c",
   "metadata": {},
   "outputs": [],
   "source": [
    "# buildings = gpd.read_parquet(f'/data/uscuni-ulce/processed_data/buildings/buildings_{region_id}.parquet')"
   ]
  },
  {
   "cell_type": "code",
   "execution_count": null,
   "id": "2e3bcaca-99ab-42e3-9f10-c1dff22d5f10",
   "metadata": {},
   "outputs": [],
   "source": []
  },
  {
   "cell_type": "code",
   "execution_count": 44,
   "id": "f06c0dfb-f314-4066-8376-f111e6a34227",
   "metadata": {},
   "outputs": [],
   "source": [
    "## there is some issue here with the subsetting"
   ]
  },
  {
   "cell_type": "code",
   "execution_count": 45,
   "id": "9a7d820c-6be3-450f-b1d4-41a402239321",
   "metadata": {},
   "outputs": [
    {
     "data": {
      "text/plain": [
       "(140690, 4)"
      ]
     },
     "execution_count": 45,
     "metadata": {},
     "output_type": "execute_result"
    }
   ],
   "source": [
    "plotting = tessellation.loc[labels.groupby(labels).get_group(label).index.values].reset_index()\n",
    "# plotting['label'] = region_cluster_labels[region_cluster_labels.str.startswith(str(label))].values\n",
    "plotting['label'] = region_cluster_labels.loc[labels.groupby(labels).get_group(label).index.values].values\n",
    "# plotting['label'] = plotting['label']\n",
    "plotting['label'] = plotting['label'].str.split('_').str[1].astype(int)\n",
    "plotting.shape"
   ]
  },
  {
   "cell_type": "code",
   "execution_count": 46,
   "id": "cbc5aa0c-f629-4dea-a76a-84b9c17475c3",
   "metadata": {},
   "outputs": [],
   "source": [
    "# layer.get_fill_color = get_color(plotting['label'].values)"
   ]
  },
  {
   "cell_type": "code",
   "execution_count": 47,
   "id": "40e40ae0-0a2b-4541-b715-64ee6bac0c69",
   "metadata": {
    "scrolled": true
   },
   "outputs": [
    {
     "data": {
      "text/plain": [
       "727"
      ]
     },
     "execution_count": 47,
     "metadata": {},
     "output_type": "execute_result"
    }
   ],
   "source": [
    "plotting['label'].nunique()"
   ]
  },
  {
   "cell_type": "code",
   "execution_count": null,
   "id": "4f03a159-0f6f-4fd0-a258-4157a634417b",
   "metadata": {},
   "outputs": [],
   "source": []
  },
  {
   "cell_type": "code",
   "execution_count": null,
   "id": "6e43fe9c-e692-4bd8-8097-23f3180a4027",
   "metadata": {},
   "outputs": [],
   "source": []
  },
  {
   "cell_type": "code",
   "execution_count": null,
   "id": "54570b18-0fd1-4905-9ac0-ceef67ccead1",
   "metadata": {},
   "outputs": [],
   "source": []
  },
  {
   "cell_type": "code",
   "execution_count": null,
   "id": "5bbdec22-0aae-4682-a388-1c682bcbe415",
   "metadata": {},
   "outputs": [],
   "source": []
  },
  {
   "cell_type": "code",
   "execution_count": null,
   "id": "926b43a1-9e4c-43e3-a5f4-1f3d614b3799",
   "metadata": {},
   "outputs": [],
   "source": []
  },
  {
   "cell_type": "code",
   "execution_count": 48,
   "id": "b5fa29e0-7c80-4ad9-b431-50b4047f5ad3",
   "metadata": {},
   "outputs": [],
   "source": [
    "# buildings = gpd.read_parquet(buildings_dir + 'buildings_freiburg.parquet')\n",
    "# plotting = buildings"
   ]
  },
  {
   "cell_type": "code",
   "execution_count": null,
   "id": "a6d52001-8540-4171-9877-c3f5c1284111",
   "metadata": {},
   "outputs": [],
   "source": []
  },
  {
   "cell_type": "code",
   "execution_count": null,
   "id": "0ce0f86b-0099-4e21-811a-d0e20cfbcbb6",
   "metadata": {},
   "outputs": [],
   "source": []
  },
  {
   "cell_type": "code",
   "execution_count": 49,
   "id": "ff702bbb-4dd5-4ecd-a86b-6eab21489e73",
   "metadata": {},
   "outputs": [
    {
     "name": "stderr",
     "output_type": "stream",
     "text": [
      "/home/krasen/urban_taxonomy/.pixi/envs/default/lib/python3.12/site-packages/lonboard/_geoarrow/ops/reproject.py:97: UserWarning: Input being reprojected to EPSG:4326 CRS\n",
      "  warnings.warn(\"Input being reprojected to EPSG:4326 CRS\")\n"
     ]
    },
    {
     "name": "stdout",
     "output_type": "stream",
     "text": [
      "CPU times: user 2.47 s, sys: 204 ms, total: 2.67 s\n",
      "Wall time: 2.67 s\n"
     ]
    }
   ],
   "source": [
    "%%time\n",
    "import lonboard\n",
    "layer = lonboard.SolidPolygonLayer.from_geopandas(plotting, opacity=.08)"
   ]
  },
  {
   "cell_type": "code",
   "execution_count": null,
   "id": "d18c0ed3-93e0-4ac5-9808-58897944db20",
   "metadata": {},
   "outputs": [],
   "source": []
  },
  {
   "cell_type": "code",
   "execution_count": 50,
   "id": "554fb4c0-4eb8-44a5-8503-d96f15dd7c5b",
   "metadata": {},
   "outputs": [],
   "source": [
    "from sidecar import Sidecar\n",
    "sc = Sidecar(title='Morphotopes')\n",
    "m = lonboard.Map(layer, basemap_style=lonboard.basemap.CartoBasemap.Positron)\n",
    "with sc:\n",
    "    display(m)\n",
    "\n",
    "from core.cluster_validation import get_color\n",
    "layer.get_fill_color = get_color(plotting['label'].values)"
   ]
  },
  {
   "cell_type": "code",
   "execution_count": null,
   "id": "1a297ad0-1830-4033-9c8c-5364d95eac62",
   "metadata": {},
   "outputs": [],
   "source": []
  },
  {
   "cell_type": "code",
   "execution_count": null,
   "id": "8050b832-0cb6-46ef-a989-dd5fb4c8093f",
   "metadata": {},
   "outputs": [],
   "source": []
  },
  {
   "cell_type": "code",
   "execution_count": null,
   "id": "a2d6526b-f005-426e-9c36-44cc4cd0f389",
   "metadata": {},
   "outputs": [],
   "source": []
  },
  {
   "cell_type": "code",
   "execution_count": null,
   "id": "e16ffa5c-7238-4b73-9d4c-cbd8ff91496c",
   "metadata": {},
   "outputs": [],
   "source": []
  },
  {
   "cell_type": "code",
   "execution_count": null,
   "id": "846e67de-d4c7-40a9-8fea-45c22c7f669e",
   "metadata": {},
   "outputs": [],
   "source": []
  },
  {
   "cell_type": "code",
   "execution_count": 51,
   "id": "53410343-76a7-4107-98d0-42801c7f44d6",
   "metadata": {
    "scrolled": true
   },
   "outputs": [
    {
     "name": "stdout",
     "output_type": "stream",
     "text": [
      "CPU times: user 34.3 s, sys: 0 ns, total: 34.3 s\n",
      "Wall time: 34.3 s\n"
     ]
    }
   ],
   "source": [
    "%%time\n",
    "\n",
    "clrs_geometry = tessellation.loc[region_cluster_labels.index]\n",
    "clrs_geometry['label'] = region_cluster_labels.values\n",
    "clrs_geometry = clrs_geometry.dissolve('label').simplify(1).to_frame()\n",
    "clrs_geometry.columns = ['geometry']\n",
    "morph_clrs_geometry = clrs_geometry.set_geometry('geometry').reset_index()"
   ]
  },
  {
   "cell_type": "code",
   "execution_count": null,
   "id": "cbe06891-dc6b-496e-b69e-6bf7875b369c",
   "metadata": {},
   "outputs": [],
   "source": []
  },
  {
   "cell_type": "code",
   "execution_count": null,
   "id": "b9e66b11-60c0-42ec-954c-4f4b8ff82d53",
   "metadata": {},
   "outputs": [],
   "source": []
  },
  {
   "cell_type": "code",
   "execution_count": 52,
   "id": "f23ce599-5f6e-4043-8963-a5f400394674",
   "metadata": {},
   "outputs": [],
   "source": [
    "morph_clrs_geometry.to_parquet(f'../data/morphotopes_{region_id}_{min_cluster_size}_{spatial_lag}_{lag_type}_{kernel}.pq')"
   ]
  },
  {
   "cell_type": "code",
   "execution_count": null,
   "id": "8c64487d-efad-4137-a5ba-c702e3be58b0",
   "metadata": {},
   "outputs": [],
   "source": []
  },
  {
   "cell_type": "code",
   "execution_count": 53,
   "id": "b7fc7ca9-d90d-45ae-88fc-ca19b5618f8d",
   "metadata": {},
   "outputs": [],
   "source": [
    "# gpd.read_parquet(f'../data/morphotopes_{region_id}_{min_cluster_size}_{spatial_lag}_{lag_type}_{kernel}.pq').explore()"
   ]
  },
  {
   "cell_type": "code",
   "execution_count": null,
   "id": "1e829bd1-467c-4929-98e7-4833448ec664",
   "metadata": {},
   "outputs": [],
   "source": []
  },
  {
   "cell_type": "code",
   "execution_count": null,
   "id": "ae12cf64-2dde-4828-b4e4-fac1daa73097",
   "metadata": {},
   "outputs": [],
   "source": []
  },
  {
   "cell_type": "markdown",
   "id": "293b9dfc-260e-42dd-bfe8-7f91df7f7fdf",
   "metadata": {},
   "source": [
    "----"
   ]
  },
  {
   "cell_type": "code",
   "execution_count": 54,
   "id": "02c0ceab-1c44-4177-9866-a34c9109a133",
   "metadata": {},
   "outputs": [],
   "source": [
    "def percentile(n):\n",
    "    def percentile_(x):\n",
    "        return np.percentile(x, n)\n",
    "    percentile_.__name__ = 'percentile_%s' % n\n",
    "    return percentile_"
   ]
  },
  {
   "cell_type": "code",
   "execution_count": 55,
   "id": "5c8c8e47-3c0d-453c-b542-e0985bf2ba80",
   "metadata": {
    "scrolled": true
   },
   "outputs": [],
   "source": [
    "# component_data = X_train.loc[labels.groupby(labels).get_group(label).index.values]\n",
    "\n",
    "component_data = X_train.loc[region_cluster_labels.index]"
   ]
  },
  {
   "cell_type": "code",
   "execution_count": 56,
   "id": "90d6e36f-d07e-4d6a-8b35-8ea548ba9667",
   "metadata": {},
   "outputs": [],
   "source": [
    "# component_data = component_data.groupby(results[label]).agg([np.min, np.median, np.max])"
   ]
  },
  {
   "cell_type": "code",
   "execution_count": 57,
   "id": "b8eb97db-d7dd-4290-b847-4f32e05ab744",
   "metadata": {},
   "outputs": [],
   "source": [
    "# component_data = component_data.groupby(results[label]).agg([percentile(10), \n",
    "#                                                              'median', \n",
    "#                                                              percentile(90)])"
   ]
  },
  {
   "cell_type": "code",
   "execution_count": 58,
   "id": "48da6d24-9fe5-4cfb-b53e-233b9f1410fe",
   "metadata": {},
   "outputs": [
    {
     "name": "stdout",
     "output_type": "stream",
     "text": [
      "CPU times: user 30.1 s, sys: 0 ns, total: 30.1 s\n",
      "Wall time: 30.1 s\n"
     ]
    }
   ],
   "source": [
    "%%time\n",
    "component_data = component_data.groupby(region_cluster_labels.values).agg([percentile(10), \n",
    "                                                             'median', \n",
    "                                                             percentile(90)])"
   ]
  },
  {
   "cell_type": "code",
   "execution_count": 59,
   "id": "c0e4cce1-6247-4f80-a72c-70567fe71cc4",
   "metadata": {},
   "outputs": [
    {
     "data": {
      "text/html": [
       "<div>\n",
       "<style scoped>\n",
       "    .dataframe tbody tr th:only-of-type {\n",
       "        vertical-align: middle;\n",
       "    }\n",
       "\n",
       "    .dataframe tbody tr th {\n",
       "        vertical-align: top;\n",
       "    }\n",
       "\n",
       "    .dataframe thead tr th {\n",
       "        text-align: left;\n",
       "    }\n",
       "</style>\n",
       "<table border=\"1\" class=\"dataframe\">\n",
       "  <thead>\n",
       "    <tr>\n",
       "      <th></th>\n",
       "      <th colspan=\"3\" halign=\"left\">sdbAre</th>\n",
       "      <th colspan=\"3\" halign=\"left\">sdbPer</th>\n",
       "      <th colspan=\"3\" halign=\"left\">sdbCoA</th>\n",
       "      <th>ssbCCo</th>\n",
       "      <th>...</th>\n",
       "      <th>ltkWNB</th>\n",
       "      <th colspan=\"3\" halign=\"left\">likWBB</th>\n",
       "      <th colspan=\"3\" halign=\"left\">sdsAre</th>\n",
       "      <th colspan=\"3\" halign=\"left\">likWCe</th>\n",
       "    </tr>\n",
       "    <tr>\n",
       "      <th></th>\n",
       "      <th>percentile_10</th>\n",
       "      <th>median</th>\n",
       "      <th>percentile_90</th>\n",
       "      <th>percentile_10</th>\n",
       "      <th>median</th>\n",
       "      <th>percentile_90</th>\n",
       "      <th>percentile_10</th>\n",
       "      <th>median</th>\n",
       "      <th>percentile_90</th>\n",
       "      <th>percentile_10</th>\n",
       "      <th>...</th>\n",
       "      <th>percentile_90</th>\n",
       "      <th>percentile_10</th>\n",
       "      <th>median</th>\n",
       "      <th>percentile_90</th>\n",
       "      <th>percentile_10</th>\n",
       "      <th>median</th>\n",
       "      <th>percentile_90</th>\n",
       "      <th>percentile_10</th>\n",
       "      <th>median</th>\n",
       "      <th>percentile_90</th>\n",
       "    </tr>\n",
       "  </thead>\n",
       "  <tbody>\n",
       "    <tr>\n",
       "      <th>0_1.0</th>\n",
       "      <td>137.301434</td>\n",
       "      <td>137.301434</td>\n",
       "      <td>137.301434</td>\n",
       "      <td>49.637208</td>\n",
       "      <td>49.637208</td>\n",
       "      <td>49.637208</td>\n",
       "      <td>0.0</td>\n",
       "      <td>0.0</td>\n",
       "      <td>0.0</td>\n",
       "      <td>0.511269</td>\n",
       "      <td>...</td>\n",
       "      <td>0.001476</td>\n",
       "      <td>0.003765</td>\n",
       "      <td>0.003765</td>\n",
       "      <td>0.003765</td>\n",
       "      <td>41562.935499</td>\n",
       "      <td>41562.935499</td>\n",
       "      <td>41562.935499</td>\n",
       "      <td>0.000027</td>\n",
       "      <td>0.000027</td>\n",
       "      <td>0.000027</td>\n",
       "    </tr>\n",
       "    <tr>\n",
       "      <th>1000_1.0</th>\n",
       "      <td>244.267461</td>\n",
       "      <td>244.267461</td>\n",
       "      <td>244.267461</td>\n",
       "      <td>62.540334</td>\n",
       "      <td>62.540334</td>\n",
       "      <td>62.540334</td>\n",
       "      <td>0.0</td>\n",
       "      <td>0.0</td>\n",
       "      <td>0.0</td>\n",
       "      <td>0.634879</td>\n",
       "      <td>...</td>\n",
       "      <td>0.003213</td>\n",
       "      <td>0.010122</td>\n",
       "      <td>0.010122</td>\n",
       "      <td>0.010122</td>\n",
       "      <td>93440.052025</td>\n",
       "      <td>93440.052025</td>\n",
       "      <td>93440.052025</td>\n",
       "      <td>0.000041</td>\n",
       "      <td>0.000041</td>\n",
       "      <td>0.000041</td>\n",
       "    </tr>\n",
       "    <tr>\n",
       "      <th>1001_0</th>\n",
       "      <td>38.465440</td>\n",
       "      <td>92.807458</td>\n",
       "      <td>159.370943</td>\n",
       "      <td>26.071664</td>\n",
       "      <td>40.541902</td>\n",
       "      <td>55.958840</td>\n",
       "      <td>0.0</td>\n",
       "      <td>0.0</td>\n",
       "      <td>0.0</td>\n",
       "      <td>0.370904</td>\n",
       "      <td>...</td>\n",
       "      <td>0.013287</td>\n",
       "      <td>0.070665</td>\n",
       "      <td>0.089576</td>\n",
       "      <td>0.175980</td>\n",
       "      <td>3807.735801</td>\n",
       "      <td>8777.087515</td>\n",
       "      <td>19241.865819</td>\n",
       "      <td>0.000294</td>\n",
       "      <td>0.000970</td>\n",
       "      <td>0.001823</td>\n",
       "    </tr>\n",
       "    <tr>\n",
       "      <th>1001_1</th>\n",
       "      <td>42.144753</td>\n",
       "      <td>105.590384</td>\n",
       "      <td>184.565733</td>\n",
       "      <td>26.978835</td>\n",
       "      <td>43.173789</td>\n",
       "      <td>66.537560</td>\n",
       "      <td>0.0</td>\n",
       "      <td>0.0</td>\n",
       "      <td>0.0</td>\n",
       "      <td>0.384219</td>\n",
       "      <td>...</td>\n",
       "      <td>0.014477</td>\n",
       "      <td>0.062655</td>\n",
       "      <td>0.099869</td>\n",
       "      <td>0.140583</td>\n",
       "      <td>3277.393739</td>\n",
       "      <td>9562.504605</td>\n",
       "      <td>24341.181719</td>\n",
       "      <td>0.000543</td>\n",
       "      <td>0.000983</td>\n",
       "      <td>0.001270</td>\n",
       "    </tr>\n",
       "    <tr>\n",
       "      <th>1001_2</th>\n",
       "      <td>38.026105</td>\n",
       "      <td>141.789961</td>\n",
       "      <td>386.963486</td>\n",
       "      <td>25.038969</td>\n",
       "      <td>50.255788</td>\n",
       "      <td>92.705822</td>\n",
       "      <td>0.0</td>\n",
       "      <td>0.0</td>\n",
       "      <td>0.0</td>\n",
       "      <td>0.307147</td>\n",
       "      <td>...</td>\n",
       "      <td>0.003799</td>\n",
       "      <td>0.033377</td>\n",
       "      <td>0.033377</td>\n",
       "      <td>0.088830</td>\n",
       "      <td>10184.564569</td>\n",
       "      <td>27194.403381</td>\n",
       "      <td>165529.626539</td>\n",
       "      <td>0.000146</td>\n",
       "      <td>0.000146</td>\n",
       "      <td>0.000629</td>\n",
       "    </tr>\n",
       "    <tr>\n",
       "      <th>...</th>\n",
       "      <td>...</td>\n",
       "      <td>...</td>\n",
       "      <td>...</td>\n",
       "      <td>...</td>\n",
       "      <td>...</td>\n",
       "      <td>...</td>\n",
       "      <td>...</td>\n",
       "      <td>...</td>\n",
       "      <td>...</td>\n",
       "      <td>...</td>\n",
       "      <td>...</td>\n",
       "      <td>...</td>\n",
       "      <td>...</td>\n",
       "      <td>...</td>\n",
       "      <td>...</td>\n",
       "      <td>...</td>\n",
       "      <td>...</td>\n",
       "      <td>...</td>\n",
       "      <td>...</td>\n",
       "      <td>...</td>\n",
       "      <td>...</td>\n",
       "    </tr>\n",
       "    <tr>\n",
       "      <th>997_1.0</th>\n",
       "      <td>29.112050</td>\n",
       "      <td>49.390391</td>\n",
       "      <td>189.078623</td>\n",
       "      <td>22.304253</td>\n",
       "      <td>28.283954</td>\n",
       "      <td>72.773745</td>\n",
       "      <td>0.0</td>\n",
       "      <td>0.0</td>\n",
       "      <td>0.0</td>\n",
       "      <td>0.353755</td>\n",
       "      <td>...</td>\n",
       "      <td>0.000801</td>\n",
       "      <td>0.005378</td>\n",
       "      <td>0.005378</td>\n",
       "      <td>0.005378</td>\n",
       "      <td>29125.350454</td>\n",
       "      <td>61349.486994</td>\n",
       "      <td>66872.244029</td>\n",
       "      <td>0.000060</td>\n",
       "      <td>0.000060</td>\n",
       "      <td>0.000060</td>\n",
       "    </tr>\n",
       "    <tr>\n",
       "      <th>998_1.0</th>\n",
       "      <td>234.198102</td>\n",
       "      <td>234.198102</td>\n",
       "      <td>234.198102</td>\n",
       "      <td>62.268113</td>\n",
       "      <td>62.268113</td>\n",
       "      <td>62.268113</td>\n",
       "      <td>0.0</td>\n",
       "      <td>0.0</td>\n",
       "      <td>0.0</td>\n",
       "      <td>0.594390</td>\n",
       "      <td>...</td>\n",
       "      <td>0.001449</td>\n",
       "      <td>0.006191</td>\n",
       "      <td>0.006191</td>\n",
       "      <td>0.006191</td>\n",
       "      <td>90239.346574</td>\n",
       "      <td>90239.346574</td>\n",
       "      <td>90239.346574</td>\n",
       "      <td>0.000026</td>\n",
       "      <td>0.000026</td>\n",
       "      <td>0.000026</td>\n",
       "    </tr>\n",
       "    <tr>\n",
       "      <th>999_1.0</th>\n",
       "      <td>12.033956</td>\n",
       "      <td>12.033956</td>\n",
       "      <td>12.033956</td>\n",
       "      <td>15.353528</td>\n",
       "      <td>15.353528</td>\n",
       "      <td>15.353528</td>\n",
       "      <td>0.0</td>\n",
       "      <td>0.0</td>\n",
       "      <td>0.0</td>\n",
       "      <td>0.438574</td>\n",
       "      <td>...</td>\n",
       "      <td>0.003557</td>\n",
       "      <td>0.000596</td>\n",
       "      <td>0.000596</td>\n",
       "      <td>0.000596</td>\n",
       "      <td>67044.480363</td>\n",
       "      <td>67044.480363</td>\n",
       "      <td>67044.480363</td>\n",
       "      <td>0.000049</td>\n",
       "      <td>0.000049</td>\n",
       "      <td>0.000049</td>\n",
       "    </tr>\n",
       "    <tr>\n",
       "      <th>99_1.0</th>\n",
       "      <td>127.013402</td>\n",
       "      <td>127.013402</td>\n",
       "      <td>127.013402</td>\n",
       "      <td>58.488908</td>\n",
       "      <td>58.488908</td>\n",
       "      <td>58.488908</td>\n",
       "      <td>0.0</td>\n",
       "      <td>0.0</td>\n",
       "      <td>0.0</td>\n",
       "      <td>0.343718</td>\n",
       "      <td>...</td>\n",
       "      <td>0.003809</td>\n",
       "      <td>0.006904</td>\n",
       "      <td>0.006904</td>\n",
       "      <td>0.006904</td>\n",
       "      <td>209571.584468</td>\n",
       "      <td>209571.584468</td>\n",
       "      <td>209571.584468</td>\n",
       "      <td>0.000054</td>\n",
       "      <td>0.000054</td>\n",
       "      <td>0.000054</td>\n",
       "    </tr>\n",
       "    <tr>\n",
       "      <th>9_0</th>\n",
       "      <td>65.028669</td>\n",
       "      <td>141.260134</td>\n",
       "      <td>287.622403</td>\n",
       "      <td>34.486032</td>\n",
       "      <td>55.486851</td>\n",
       "      <td>92.223459</td>\n",
       "      <td>0.0</td>\n",
       "      <td>0.0</td>\n",
       "      <td>0.0</td>\n",
       "      <td>0.280456</td>\n",
       "      <td>...</td>\n",
       "      <td>0.009104</td>\n",
       "      <td>0.037235</td>\n",
       "      <td>0.058266</td>\n",
       "      <td>0.121364</td>\n",
       "      <td>8429.834762</td>\n",
       "      <td>24179.101122</td>\n",
       "      <td>54242.040075</td>\n",
       "      <td>0.000115</td>\n",
       "      <td>0.000389</td>\n",
       "      <td>0.000633</td>\n",
       "    </tr>\n",
       "  </tbody>\n",
       "</table>\n",
       "<p>5258 rows × 189 columns</p>\n",
       "</div>"
      ],
      "text/plain": [
       "                sdbAre                                  sdbPer             \\\n",
       "         percentile_10      median percentile_90 percentile_10     median   \n",
       "0_1.0       137.301434  137.301434    137.301434     49.637208  49.637208   \n",
       "1000_1.0    244.267461  244.267461    244.267461     62.540334  62.540334   \n",
       "1001_0       38.465440   92.807458    159.370943     26.071664  40.541902   \n",
       "1001_1       42.144753  105.590384    184.565733     26.978835  43.173789   \n",
       "1001_2       38.026105  141.789961    386.963486     25.038969  50.255788   \n",
       "...                ...         ...           ...           ...        ...   \n",
       "997_1.0      29.112050   49.390391    189.078623     22.304253  28.283954   \n",
       "998_1.0     234.198102  234.198102    234.198102     62.268113  62.268113   \n",
       "999_1.0      12.033956   12.033956     12.033956     15.353528  15.353528   \n",
       "99_1.0      127.013402  127.013402    127.013402     58.488908  58.488908   \n",
       "9_0          65.028669  141.260134    287.622403     34.486032  55.486851   \n",
       "\n",
       "                              sdbCoA                             ssbCCo  ...  \\\n",
       "         percentile_90 percentile_10 median percentile_90 percentile_10  ...   \n",
       "0_1.0        49.637208           0.0    0.0           0.0      0.511269  ...   \n",
       "1000_1.0     62.540334           0.0    0.0           0.0      0.634879  ...   \n",
       "1001_0       55.958840           0.0    0.0           0.0      0.370904  ...   \n",
       "1001_1       66.537560           0.0    0.0           0.0      0.384219  ...   \n",
       "1001_2       92.705822           0.0    0.0           0.0      0.307147  ...   \n",
       "...                ...           ...    ...           ...           ...  ...   \n",
       "997_1.0      72.773745           0.0    0.0           0.0      0.353755  ...   \n",
       "998_1.0      62.268113           0.0    0.0           0.0      0.594390  ...   \n",
       "999_1.0      15.353528           0.0    0.0           0.0      0.438574  ...   \n",
       "99_1.0       58.488908           0.0    0.0           0.0      0.343718  ...   \n",
       "9_0          92.223459           0.0    0.0           0.0      0.280456  ...   \n",
       "\n",
       "                ltkWNB        likWBB                                 sdsAre  \\\n",
       "         percentile_90 percentile_10    median percentile_90  percentile_10   \n",
       "0_1.0         0.001476      0.003765  0.003765      0.003765   41562.935499   \n",
       "1000_1.0      0.003213      0.010122  0.010122      0.010122   93440.052025   \n",
       "1001_0        0.013287      0.070665  0.089576      0.175980    3807.735801   \n",
       "1001_1        0.014477      0.062655  0.099869      0.140583    3277.393739   \n",
       "1001_2        0.003799      0.033377  0.033377      0.088830   10184.564569   \n",
       "...                ...           ...       ...           ...            ...   \n",
       "997_1.0       0.000801      0.005378  0.005378      0.005378   29125.350454   \n",
       "998_1.0       0.001449      0.006191  0.006191      0.006191   90239.346574   \n",
       "999_1.0       0.003557      0.000596  0.000596      0.000596   67044.480363   \n",
       "99_1.0        0.003809      0.006904  0.006904      0.006904  209571.584468   \n",
       "9_0           0.009104      0.037235  0.058266      0.121364    8429.834762   \n",
       "\n",
       "                                              likWCe                          \n",
       "                 median  percentile_90 percentile_10    median percentile_90  \n",
       "0_1.0      41562.935499   41562.935499      0.000027  0.000027      0.000027  \n",
       "1000_1.0   93440.052025   93440.052025      0.000041  0.000041      0.000041  \n",
       "1001_0      8777.087515   19241.865819      0.000294  0.000970      0.001823  \n",
       "1001_1      9562.504605   24341.181719      0.000543  0.000983      0.001270  \n",
       "1001_2     27194.403381  165529.626539      0.000146  0.000146      0.000629  \n",
       "...                 ...            ...           ...       ...           ...  \n",
       "997_1.0    61349.486994   66872.244029      0.000060  0.000060      0.000060  \n",
       "998_1.0    90239.346574   90239.346574      0.000026  0.000026      0.000026  \n",
       "999_1.0    67044.480363   67044.480363      0.000049  0.000049      0.000049  \n",
       "99_1.0    209571.584468  209571.584468      0.000054  0.000054      0.000054  \n",
       "9_0        24179.101122   54242.040075      0.000115  0.000389      0.000633  \n",
       "\n",
       "[5258 rows x 189 columns]"
      ]
     },
     "execution_count": 59,
     "metadata": {},
     "output_type": "execute_result"
    }
   ],
   "source": [
    "component_data"
   ]
  },
  {
   "cell_type": "code",
   "execution_count": 60,
   "id": "cec98e3d-994c-4eb2-91d2-e84d7910d282",
   "metadata": {},
   "outputs": [],
   "source": [
    "vals = StandardScaler().fit_transform(component_data)\n",
    "component_data = pd.DataFrame(vals, columns=component_data.columns, index=component_data.index)\n",
    "component_data = component_data.drop(component_data.columns[component_data.std() == 0], axis=1)"
   ]
  },
  {
   "cell_type": "code",
   "execution_count": null,
   "id": "a4582caf-6df7-4b0f-92f4-3435f205d18f",
   "metadata": {},
   "outputs": [],
   "source": []
  },
  {
   "cell_type": "code",
   "execution_count": 61,
   "id": "020328c1-c5b0-4a02-92a0-89fb061c1155",
   "metadata": {},
   "outputs": [],
   "source": [
    "\n",
    "# component_data = component_data[component_data.index >= 0]\n",
    "vals = np.nan_to_num(component_data)\n",
    "component_data = pd.DataFrame(vals, columns=component_data.columns, index=component_data.index)"
   ]
  },
  {
   "cell_type": "code",
   "execution_count": 62,
   "id": "ab8ce802-3429-4542-a8fa-d97df2d94119",
   "metadata": {},
   "outputs": [],
   "source": [
    "# component_data = component_data.clip(-10, 10)"
   ]
  },
  {
   "cell_type": "code",
   "execution_count": 63,
   "id": "00f6bcb8-c097-418d-8be1-2e674bbf4fc1",
   "metadata": {},
   "outputs": [],
   "source": [
    "# component_data = component_data[component_data.columns[component_data.columns.get_level_values(1).str.contains('median')]]"
   ]
  },
  {
   "cell_type": "code",
   "execution_count": 64,
   "id": "6d79854f-e391-44c3-a094-77074ae32798",
   "metadata": {},
   "outputs": [],
   "source": [
    "# dists, component_data.iloc[idxs[0]].index"
   ]
  },
  {
   "cell_type": "code",
   "execution_count": 65,
   "id": "3112b42e-b674-4cbd-9ffd-fd0730f5497f",
   "metadata": {},
   "outputs": [],
   "source": [
    "# from sklearn.neighbors import KDTree\n",
    "# tree = KDTree(component_data.values)\n",
    "# dists, idxs = tree.query(component_data.loc[['3_6']].values, k=10)\n",
    "\n",
    "# morph_clrs_geometry.set_index('label').loc[component_data.iloc[idxs[0]].index].explore(column=dists[0], )"
   ]
  },
  {
   "cell_type": "code",
   "execution_count": null,
   "id": "74787597-659c-4bef-b108-f2b24df006f7",
   "metadata": {},
   "outputs": [],
   "source": []
  },
  {
   "cell_type": "code",
   "execution_count": null,
   "id": "a3bd49dd-fb24-45e2-a0ae-4b78dfcaf6b1",
   "metadata": {},
   "outputs": [],
   "source": []
  },
  {
   "cell_type": "code",
   "execution_count": null,
   "id": "c08521c2-4cb8-472c-a347-7d3bb51f5e9b",
   "metadata": {},
   "outputs": [],
   "source": []
  },
  {
   "cell_type": "code",
   "execution_count": null,
   "id": "39225651-71c2-4b9b-b718-2468d4699ad8",
   "metadata": {},
   "outputs": [],
   "source": []
  },
  {
   "cell_type": "code",
   "execution_count": null,
   "id": "eb7df3fa-dbb2-40fa-8cd5-57c641bd8390",
   "metadata": {},
   "outputs": [],
   "source": []
  },
  {
   "cell_type": "code",
   "execution_count": 66,
   "id": "bd22769d-c4db-495a-9979-13346a07162c",
   "metadata": {},
   "outputs": [],
   "source": [
    "umap_metric ='euclidean'\n",
    "n_neighbors = 10"
   ]
  },
  {
   "cell_type": "code",
   "execution_count": 67,
   "id": "e6d41390-dc78-4058-b48a-7f9a318b2102",
   "metadata": {},
   "outputs": [
    {
     "name": "stderr",
     "output_type": "stream",
     "text": [
      "/home/krasen/urban_taxonomy/.pixi/envs/default/lib/python3.12/site-packages/numba/np/ufunc/dufunc.py:343: NumbaWarning: \u001b[1mCompilation requested for previously compiled argument types ((uint32,)). This has no effect and perhaps indicates a bug in the calling code (compiling a ufunc more than once for the same signature\u001b[0m\n",
      "  warnings.warn(msg, errors.NumbaWarning)\n",
      "/home/krasen/urban_taxonomy/.pixi/envs/default/lib/python3.12/site-packages/numba/np/ufunc/dufunc.py:343: NumbaWarning: \u001b[1mCompilation requested for previously compiled argument types ((uint32,)). This has no effect and perhaps indicates a bug in the calling code (compiling a ufunc more than once for the same signature\u001b[0m\n",
      "  warnings.warn(msg, errors.NumbaWarning)\n",
      "/home/krasen/urban_taxonomy/.pixi/envs/default/lib/python3.12/site-packages/numba/np/ufunc/dufunc.py:343: NumbaWarning: \u001b[1mCompilation requested for previously compiled argument types ((uint32,)). This has no effect and perhaps indicates a bug in the calling code (compiling a ufunc more than once for the same signature\u001b[0m\n",
      "  warnings.warn(msg, errors.NumbaWarning)\n",
      "/home/krasen/urban_taxonomy/.pixi/envs/default/lib/python3.12/site-packages/umap/umap_.py:1945: UserWarning: n_jobs value 1 overridden to 1 by setting random_state. Use no seed for parallelism.\n",
      "  warn(f\"n_jobs value {self.n_jobs} overridden to 1 by setting random_state. Use no seed for parallelism.\")\n",
      "/home/krasen/urban_taxonomy/.pixi/envs/default/lib/python3.12/site-packages/umap/plot.py:449: UserWarning: *c* argument looks like a single numeric RGB or RGBA sequence, which should be avoided as value-mapping will have precedence in case its length matches with *x* & *y*.  Please use the *color* keyword-argument or provide a 2D array with a single row if you intend to specify the same RGB or RGBA value for all points.\n",
      "  ax.scatter(points[:, 0], points[:, 1], s=point_size, c=color)\n"
     ]
    },
    {
     "data": {
      "text/plain": [
       "<Axes: >"
      ]
     },
     "execution_count": 67,
     "metadata": {},
     "output_type": "execute_result"
    },
    {
     "data": {
      "image/png": "[encoded data removed]",
      "text/plain": [
       "<Figure size 800x800 with 1 Axes>"
      ]
     },
     "metadata": {},
     "output_type": "display_data"
    }
   ],
   "source": [
    "import umap\n",
    "import umap.plot\n",
    "reducer = umap.UMAP(n_neighbors=n_neighbors, n_components=2, \n",
    "                    negative_sample_rate=50, min_dist=0.1, metric=umap_metric, verbose=False, random_state=1)\n",
    "emb = reducer.fit_transform(component_data)\n",
    "umap.plot.points(reducer)"
   ]
  },
  {
   "cell_type": "code",
   "execution_count": null,
   "id": "5a65ca11-13d3-44fb-b51a-75914f154fff",
   "metadata": {},
   "outputs": [],
   "source": []
  },
  {
   "cell_type": "code",
   "execution_count": null,
   "id": "9dd835bd-661c-476d-9812-8814b48ccbc7",
   "metadata": {},
   "outputs": [],
   "source": []
  },
  {
   "cell_type": "code",
   "execution_count": 68,
   "id": "80350e06-ae54-4149-a375-f624dca07d35",
   "metadata": {},
   "outputs": [
    {
     "name": "stderr",
     "output_type": "stream",
     "text": [
      "/home/krasen/urban_taxonomy/.pixi/envs/default/lib/python3.12/site-packages/umap/umap_.py:1945: UserWarning: n_jobs value 1 overridden to 1 by setting random_state. Use no seed for parallelism.\n",
      "  warn(f\"n_jobs value {self.n_jobs} overridden to 1 by setting random_state. Use no seed for parallelism.\")\n"
     ]
    },
    {
     "name": "stdout",
     "output_type": "stream",
     "text": [
      "UMAP(min_dist=0, n_components=20, n_jobs=1, n_neighbors=10, negative_sample_rate=50, random_state=1, verbose=True)\n",
      "Mon Sep 16 10:06:06 2024 Construct fuzzy simplicial set\n",
      "Mon Sep 16 10:06:06 2024 Finding Nearest Neighbors\n",
      "Mon Sep 16 10:06:06 2024 Building RP forest with 9 trees\n",
      "Mon Sep 16 10:06:06 2024 NN descent for 12 iterations\n",
      "\t 1  /  12\n",
      "\t 2  /  12\n",
      "\t 3  /  12\n",
      "\t 4  /  12\n",
      "\t 5  /  12\n",
      "\tStopping threshold met -- exiting after 5 iterations\n",
      "Mon Sep 16 10:06:06 2024 Finished Nearest Neighbor Search\n",
      "Mon Sep 16 10:06:06 2024 Construct embedding\n"
     ]
    },
    {
     "data": {
      "application/vnd.jupyter.widget-view+json": {
       "model_id": "91e4533189304c28a54e0954856866f6",
       "version_major": 2,
       "version_minor": 0
      },
      "text/plain": [
       "Epochs completed:   0%|            0/500 [00:00]"
      ]
     },
     "metadata": {},
     "output_type": "display_data"
    },
    {
     "name": "stdout",
     "output_type": "stream",
     "text": [
      "\tcompleted  0  /  500 epochs\n",
      "\tcompleted  50  /  500 epochs\n",
      "\tcompleted  100  /  500 epochs\n",
      "\tcompleted  150  /  500 epochs\n",
      "\tcompleted  200  /  500 epochs\n",
      "\tcompleted  250  /  500 epochs\n",
      "\tcompleted  300  /  500 epochs\n",
      "\tcompleted  350  /  500 epochs\n",
      "\tcompleted  400  /  500 epochs\n",
      "\tcompleted  450  /  500 epochs\n",
      "Mon Sep 16 10:06:51 2024 Finished embedding\n"
     ]
    }
   ],
   "source": [
    "reducer = umap.UMAP(n_neighbors=n_neighbors, n_components=20, \n",
    "                    min_dist=0, negative_sample_rate=50, \n",
    "                    metric=umap_metric, verbose=True, random_state=1)\n",
    "embedding = reducer.fit_transform(component_data)"
   ]
  },
  {
   "cell_type": "code",
   "execution_count": null,
   "id": "67859769-2550-4b95-a036-00252ac2a976",
   "metadata": {},
   "outputs": [],
   "source": []
  },
  {
   "cell_type": "code",
   "execution_count": 69,
   "id": "50088742-45c2-42da-a092-8a1e8ae85c88",
   "metadata": {},
   "outputs": [],
   "source": [
    "tr_data = embedding\n",
    "# tr_data = component_data"
   ]
  },
  {
   "cell_type": "code",
   "execution_count": 70,
   "id": "f113cdf9-c85b-4390-b586-ffdf3f8aad9c",
   "metadata": {},
   "outputs": [],
   "source": [
    "final_linkage = 'ward'\n",
    "final_metric = 'euclidean'"
   ]
  },
  {
   "cell_type": "code",
   "execution_count": 71,
   "id": "88c68a9d-510a-49ea-ba98-d28ebd0576c4",
   "metadata": {},
   "outputs": [],
   "source": [
    "clusterer = AgglomerativeClustering(linkage=final_linkage,\n",
    "                                    metric=final_metric,\n",
    "                                    compute_full_tree=True,\n",
    "                                    compute_distances=True)\n",
    "model = clusterer.fit(tr_data)\n",
    "linkage_matrix = get_linkage_matrix(model)"
   ]
  },
  {
   "cell_type": "code",
   "execution_count": 72,
   "id": "f48da5c5-1a1f-42d3-806f-921d69b81a30",
   "metadata": {},
   "outputs": [
    {
     "data": {
      "image/png": "[encoded data removed]",
      "text/plain": [
       "<Figure size 2000x1000 with 1 Axes>"
      ]
     },
     "metadata": {},
     "output_type": "display_data"
    }
   ],
   "source": [
    "fig,ax = plt.subplots(figsize=(20,10))\n",
    "_ = dendrogram(linkage_matrix, ax=ax)"
   ]
  },
  {
   "cell_type": "code",
   "execution_count": 75,
   "id": "fb6bc609-4498-4897-bcfa-acd39e3231ec",
   "metadata": {},
   "outputs": [],
   "source": [
    "cutoff = 100"
   ]
  },
  {
   "cell_type": "code",
   "execution_count": 76,
   "id": "8d18b997-b304-4501-a662-c24cf6636d52",
   "metadata": {},
   "outputs": [
    {
     "data": {
      "text/plain": [
       "array([ 1,  2,  3,  4,  5,  6,  7,  8,  9, 10, 11, 12, 13], dtype=int32)"
      ]
     },
     "execution_count": 76,
     "metadata": {},
     "output_type": "execute_result"
    }
   ],
   "source": [
    "clusters = fcluster(linkage_matrix, t=cutoff, criterion='distance')\n",
    "np.unique(clusters)"
   ]
  },
  {
   "cell_type": "code",
   "execution_count": 77,
   "id": "e342064b-ba1b-485f-8a37-aa1bb73df002",
   "metadata": {},
   "outputs": [],
   "source": [
    "# gpd.read_parquet('../data/clusters_umap_freiburg_100_3_gaussian_euclidean_complete_chebyshev_5.pq').explore()"
   ]
  },
  {
   "cell_type": "code",
   "execution_count": 78,
   "id": "060b7c5e-d461-4613-83aa-96d6452f9ac4",
   "metadata": {},
   "outputs": [],
   "source": [
    "\n",
    "\n",
    "# from sklearn.cluster import KMeans, MiniBatchKMeans\n",
    "# from sklearn.metrics import adjusted_rand_score\n",
    "# clusters = KMeans(n_clusters=15, max_iter=5000, n_init=300, random_state=1).fit(tr_data).labels_\n",
    "# np.unique(clusters)"
   ]
  },
  {
   "cell_type": "code",
   "execution_count": 79,
   "id": "50d5b0ea-84fb-48ad-b839-30de7de0c904",
   "metadata": {},
   "outputs": [],
   "source": [
    "\n",
    "# import hdbscan\n",
    "# clusterer = hdbscan.HDBSCAN(min_cluster_size=n_neighbors)\n",
    "# clusterer.fit(component_data)\n",
    "# clusters = clusterer.labels_\n",
    "# np.unique(clusters)"
   ]
  },
  {
   "cell_type": "code",
   "execution_count": null,
   "id": "96574337-237b-4a67-8c73-4f8c27f78d44",
   "metadata": {},
   "outputs": [],
   "source": []
  },
  {
   "cell_type": "code",
   "execution_count": 80,
   "id": "623b043e-3ead-40ba-aeb4-9ba0b9b6d301",
   "metadata": {},
   "outputs": [],
   "source": [
    "# morh_clusters = results[label]\n",
    "morh_clusters = region_cluster_labels.values\n",
    "clusters = pd.Series(clusters, index=component_data.index.values)\n",
    "clusters = clusters.loc[morh_clusters].values"
   ]
  },
  {
   "cell_type": "code",
   "execution_count": 81,
   "id": "8a1f0e54-cc63-4f12-a057-56c99997de44",
   "metadata": {},
   "outputs": [],
   "source": [
    "# layer.get_fill_color = get_color(clusters)"
   ]
  },
  {
   "cell_type": "code",
   "execution_count": 82,
   "id": "a3b776cb-dbf4-4b95-820a-0d837eb7105a",
   "metadata": {},
   "outputs": [],
   "source": [
    "# assert clusters.shape == results[label].shape\n",
    "\n",
    "# for i in np.unique(results[label]):\n",
    "#     idxs = np.where(results[label] == i)[0]\n",
    "#     old_clusters = results[label][idxs]\n",
    "#     new_clusters = clusters[idxs]\n",
    "#     assert np.unique(old_clusters).shape[0] == 1\n",
    "#     assert np.unique(new_clusters).shape[0] == 1\n",
    "    "
   ]
  },
  {
   "cell_type": "code",
   "execution_count": null,
   "id": "fe6689a6-760e-4f00-ab54-38e7bc851c50",
   "metadata": {},
   "outputs": [],
   "source": []
  },
  {
   "cell_type": "code",
   "execution_count": null,
   "id": "3a4d7469-f9ef-4e58-b34e-535081a17f6c",
   "metadata": {},
   "outputs": [],
   "source": []
  },
  {
   "cell_type": "code",
   "execution_count": null,
   "id": "2462785c-4ba7-45e0-abc2-c41ddf77b69b",
   "metadata": {},
   "outputs": [],
   "source": []
  },
  {
   "cell_type": "code",
   "execution_count": null,
   "id": "73a4ad40-188a-417a-803a-822d7dc40c76",
   "metadata": {},
   "outputs": [],
   "source": []
  },
  {
   "cell_type": "code",
   "execution_count": 83,
   "id": "c6d08953-dae0-43f6-ab77-207cc60d7362",
   "metadata": {},
   "outputs": [
    {
     "name": "stderr",
     "output_type": "stream",
     "text": [
      "/home/krasen/urban_taxonomy/.pixi/envs/default/lib/python3.12/site-packages/lonboard/_geoarrow/ops/reproject.py:97: UserWarning: Input being reprojected to EPSG:4326 CRS\n",
      "  warnings.warn(\"Input being reprojected to EPSG:4326 CRS\")\n"
     ]
    },
    {
     "name": "stdout",
     "output_type": "stream",
     "text": [
      "CPU times: user 7.3 s, sys: 413 ms, total: 7.71 s\n",
      "Wall time: 7.71 s\n"
     ]
    }
   ],
   "source": [
    "%%time\n",
    "import lonboard\n",
    "# plotting = tessellation[tessellation.index.isin(X_train.index)].copy()\n",
    "layer = lonboard.SolidPolygonLayer.from_geopandas(tessellation[tessellation.index >= 0], opacity=.08)"
   ]
  },
  {
   "cell_type": "code",
   "execution_count": 84,
   "id": "c4fb29a3-7d4d-430c-a62a-13b7a9597e59",
   "metadata": {},
   "outputs": [],
   "source": [
    "from sidecar import Sidecar\n",
    "sc = Sidecar(title='Final Clusters')\n",
    "m = lonboard.Map(layer, basemap_style=lonboard.basemap.CartoBasemap.Positron)\n",
    "with sc:\n",
    "    display(m)"
   ]
  },
  {
   "cell_type": "code",
   "execution_count": null,
   "id": "df283e4b-96aa-42f2-8f9f-5b1aaa481588",
   "metadata": {},
   "outputs": [],
   "source": []
  },
  {
   "cell_type": "code",
   "execution_count": 85,
   "id": "32dda125-cf78-4121-9cbe-a7eccddfed4f",
   "metadata": {},
   "outputs": [],
   "source": [
    "from core.cluster_validation import get_color\n",
    "layer.get_fill_color = get_color(clusters)"
   ]
  },
  {
   "cell_type": "code",
   "execution_count": null,
   "id": "842e715d-1a96-4a35-8194-373d13542d84",
   "metadata": {},
   "outputs": [],
   "source": []
  },
  {
   "cell_type": "code",
   "execution_count": 284,
   "id": "49820372-df04-44e3-896d-36d6d1015d91",
   "metadata": {},
   "outputs": [],
   "source": [
    "# gpd.read_parquet(f'../data/clusters_umap_{region_id}_{min_cluster_size}_{spatial_lag}_{kernel}_{umap_metric}_{final_linkage}_{final_metric}_{cutoff}.pq').explore()"
   ]
  },
  {
   "cell_type": "code",
   "execution_count": null,
   "id": "b2ee7ed4-1a71-478a-ab21-67c8c004ddb4",
   "metadata": {},
   "outputs": [],
   "source": []
  },
  {
   "cell_type": "code",
   "execution_count": 285,
   "id": "120986d1-c948-447f-8b79-6a7a388e2582",
   "metadata": {},
   "outputs": [],
   "source": [
    "fbc = gpd.read_parquet('../data/freiburg/freiburg_building_census.pq')"
   ]
  },
  {
   "cell_type": "code",
   "execution_count": 86,
   "id": "d3f8f6fe-f229-4ab7-900d-192a6ca073e5",
   "metadata": {},
   "outputs": [],
   "source": [
    "clrs_geometry = tessellation.loc[region_cluster_labels.index]\n",
    "clrs_geometry['label'] = clusters\n",
    "clrs_geometry = clrs_geometry.dissolve('label').simplify(1).to_frame()\n",
    "clrs_geometry.columns = ['geometry']\n",
    "clrs_geometry = clrs_geometry.set_geometry('geometry')\n",
    "clrs_geometry = clrs_geometry.reset_index()"
   ]
  },
  {
   "cell_type": "code",
   "execution_count": 287,
   "id": "2900d83c-1137-4e6c-8b83-bd0fff489877",
   "metadata": {},
   "outputs": [
    {
     "name": "stderr",
     "output_type": "stream",
     "text": [
      "/tmp/ipykernel_589934/715595176.py:2: UserWarning: `keep_geom_type=True` in overlay resulted in 1 dropped geometries of different geometry types than df1 has. Set `keep_geom_type=False` to retain all geometries\n",
      "  overlap = gpd.overlay(fbc, clrs_geometry, how='intersection')\n"
     ]
    }
   ],
   "source": [
    "# Overlay cells with clusters to get intersections\n",
    "overlap = gpd.overlay(fbc, clrs_geometry, how='intersection')\n",
    "\n",
    "# Calculate the area of overlap\n",
    "overlap['area'] = overlap.geometry.area\n",
    "\n",
    "# Find the cluster with the largest overlap for each cell\n",
    "largest_overlap = overlap.loc[overlap.groupby(overlap['ID'])['area'].idxmax()]"
   ]
  },
  {
   "cell_type": "code",
   "execution_count": 288,
   "id": "01922eab-4761-459f-a360-c81d20030129",
   "metadata": {},
   "outputs": [
    {
     "data": {
      "text/html": [
       "<div>\n",
       "<style scoped>\n",
       "    .dataframe tbody tr th:only-of-type {\n",
       "        vertical-align: middle;\n",
       "    }\n",
       "\n",
       "    .dataframe tbody tr th {\n",
       "        vertical-align: top;\n",
       "    }\n",
       "\n",
       "    .dataframe thead th {\n",
       "        text-align: right;\n",
       "    }\n",
       "</style>\n",
       "<table border=\"1\" class=\"dataframe\">\n",
       "  <thead>\n",
       "    <tr style=\"text-align: right;\">\n",
       "      <th></th>\n",
       "      <th>Before 1919</th>\n",
       "      <th>1919 - 1948</th>\n",
       "      <th>1949 - 1978</th>\n",
       "      <th>1979 - 1986</th>\n",
       "      <th>1987 - 1990</th>\n",
       "      <th>1991 - 1995</th>\n",
       "      <th>1996 - 2000</th>\n",
       "    </tr>\n",
       "    <tr>\n",
       "      <th>label</th>\n",
       "      <th></th>\n",
       "      <th></th>\n",
       "      <th></th>\n",
       "      <th></th>\n",
       "      <th></th>\n",
       "      <th></th>\n",
       "      <th></th>\n",
       "    </tr>\n",
       "  </thead>\n",
       "  <tbody>\n",
       "    <tr>\n",
       "      <th>1</th>\n",
       "      <td>0.0</td>\n",
       "      <td>0.0</td>\n",
       "      <td>0.0</td>\n",
       "      <td>0.0</td>\n",
       "      <td>0.0</td>\n",
       "      <td>0.0</td>\n",
       "      <td>0.0</td>\n",
       "    </tr>\n",
       "    <tr>\n",
       "      <th>2</th>\n",
       "      <td>3.0</td>\n",
       "      <td>0.0</td>\n",
       "      <td>0.0</td>\n",
       "      <td>0.0</td>\n",
       "      <td>0.0</td>\n",
       "      <td>0.0</td>\n",
       "      <td>0.0</td>\n",
       "    </tr>\n",
       "    <tr>\n",
       "      <th>3</th>\n",
       "      <td>535.0</td>\n",
       "      <td>118.0</td>\n",
       "      <td>359.0</td>\n",
       "      <td>69.0</td>\n",
       "      <td>6.0</td>\n",
       "      <td>19.0</td>\n",
       "      <td>18.0</td>\n",
       "    </tr>\n",
       "    <tr>\n",
       "      <th>4</th>\n",
       "      <td>1385.0</td>\n",
       "      <td>406.0</td>\n",
       "      <td>704.0</td>\n",
       "      <td>74.0</td>\n",
       "      <td>23.0</td>\n",
       "      <td>18.0</td>\n",
       "      <td>21.0</td>\n",
       "    </tr>\n",
       "    <tr>\n",
       "      <th>5</th>\n",
       "      <td>179.0</td>\n",
       "      <td>889.0</td>\n",
       "      <td>1000.0</td>\n",
       "      <td>174.0</td>\n",
       "      <td>34.0</td>\n",
       "      <td>21.0</td>\n",
       "      <td>43.0</td>\n",
       "    </tr>\n",
       "    <tr>\n",
       "      <th>6</th>\n",
       "      <td>200.0</td>\n",
       "      <td>151.0</td>\n",
       "      <td>402.0</td>\n",
       "      <td>13.0</td>\n",
       "      <td>10.0</td>\n",
       "      <td>18.0</td>\n",
       "      <td>135.0</td>\n",
       "    </tr>\n",
       "    <tr>\n",
       "      <th>7</th>\n",
       "      <td>81.0</td>\n",
       "      <td>319.0</td>\n",
       "      <td>1074.0</td>\n",
       "      <td>186.0</td>\n",
       "      <td>40.0</td>\n",
       "      <td>33.0</td>\n",
       "      <td>55.0</td>\n",
       "    </tr>\n",
       "    <tr>\n",
       "      <th>8</th>\n",
       "      <td>41.0</td>\n",
       "      <td>100.0</td>\n",
       "      <td>648.0</td>\n",
       "      <td>77.0</td>\n",
       "      <td>19.0</td>\n",
       "      <td>30.0</td>\n",
       "      <td>40.0</td>\n",
       "    </tr>\n",
       "    <tr>\n",
       "      <th>9</th>\n",
       "      <td>0.0</td>\n",
       "      <td>0.0</td>\n",
       "      <td>106.0</td>\n",
       "      <td>27.0</td>\n",
       "      <td>16.0</td>\n",
       "      <td>6.0</td>\n",
       "      <td>86.0</td>\n",
       "    </tr>\n",
       "    <tr>\n",
       "      <th>10</th>\n",
       "      <td>135.0</td>\n",
       "      <td>182.0</td>\n",
       "      <td>1231.0</td>\n",
       "      <td>188.0</td>\n",
       "      <td>49.0</td>\n",
       "      <td>103.0</td>\n",
       "      <td>166.0</td>\n",
       "    </tr>\n",
       "    <tr>\n",
       "      <th>11</th>\n",
       "      <td>16.0</td>\n",
       "      <td>49.0</td>\n",
       "      <td>817.0</td>\n",
       "      <td>69.0</td>\n",
       "      <td>12.0</td>\n",
       "      <td>45.0</td>\n",
       "      <td>30.0</td>\n",
       "    </tr>\n",
       "    <tr>\n",
       "      <th>12</th>\n",
       "      <td>208.0</td>\n",
       "      <td>204.0</td>\n",
       "      <td>814.0</td>\n",
       "      <td>144.0</td>\n",
       "      <td>29.0</td>\n",
       "      <td>21.0</td>\n",
       "      <td>48.0</td>\n",
       "    </tr>\n",
       "    <tr>\n",
       "      <th>13</th>\n",
       "      <td>86.0</td>\n",
       "      <td>75.0</td>\n",
       "      <td>273.0</td>\n",
       "      <td>63.0</td>\n",
       "      <td>15.0</td>\n",
       "      <td>18.0</td>\n",
       "      <td>28.0</td>\n",
       "    </tr>\n",
       "    <tr>\n",
       "      <th>14</th>\n",
       "      <td>156.0</td>\n",
       "      <td>180.0</td>\n",
       "      <td>988.0</td>\n",
       "      <td>143.0</td>\n",
       "      <td>6.0</td>\n",
       "      <td>30.0</td>\n",
       "      <td>58.0</td>\n",
       "    </tr>\n",
       "    <tr>\n",
       "      <th>15</th>\n",
       "      <td>3.0</td>\n",
       "      <td>6.0</td>\n",
       "      <td>12.0</td>\n",
       "      <td>22.0</td>\n",
       "      <td>0.0</td>\n",
       "      <td>0.0</td>\n",
       "      <td>8.0</td>\n",
       "    </tr>\n",
       "    <tr>\n",
       "      <th>16</th>\n",
       "      <td>6.0</td>\n",
       "      <td>22.0</td>\n",
       "      <td>299.0</td>\n",
       "      <td>25.0</td>\n",
       "      <td>3.0</td>\n",
       "      <td>9.0</td>\n",
       "      <td>3.0</td>\n",
       "    </tr>\n",
       "  </tbody>\n",
       "</table>\n",
       "</div>"
      ],
      "text/plain": [
       "       Before 1919  1919 - 1948  1949 - 1978  1979 - 1986  1987 - 1990  \\\n",
       "label                                                                    \n",
       "1              0.0          0.0          0.0          0.0          0.0   \n",
       "2              3.0          0.0          0.0          0.0          0.0   \n",
       "3            535.0        118.0        359.0         69.0          6.0   \n",
       "4           1385.0        406.0        704.0         74.0         23.0   \n",
       "5            179.0        889.0       1000.0        174.0         34.0   \n",
       "6            200.0        151.0        402.0         13.0         10.0   \n",
       "7             81.0        319.0       1074.0        186.0         40.0   \n",
       "8             41.0        100.0        648.0         77.0         19.0   \n",
       "9              0.0          0.0        106.0         27.0         16.0   \n",
       "10           135.0        182.0       1231.0        188.0         49.0   \n",
       "11            16.0         49.0        817.0         69.0         12.0   \n",
       "12           208.0        204.0        814.0        144.0         29.0   \n",
       "13            86.0         75.0        273.0         63.0         15.0   \n",
       "14           156.0        180.0        988.0        143.0          6.0   \n",
       "15             3.0          6.0         12.0         22.0          0.0   \n",
       "16             6.0         22.0        299.0         25.0          3.0   \n",
       "\n",
       "       1991 - 1995  1996 - 2000  \n",
       "label                            \n",
       "1              0.0          0.0  \n",
       "2              0.0          0.0  \n",
       "3             19.0         18.0  \n",
       "4             18.0         21.0  \n",
       "5             21.0         43.0  \n",
       "6             18.0        135.0  \n",
       "7             33.0         55.0  \n",
       "8             30.0         40.0  \n",
       "9              6.0         86.0  \n",
       "10           103.0        166.0  \n",
       "11            45.0         30.0  \n",
       "12            21.0         48.0  \n",
       "13            18.0         28.0  \n",
       "14            30.0         58.0  \n",
       "15             0.0          8.0  \n",
       "16             9.0          3.0  "
      ]
     },
     "execution_count": 288,
     "metadata": {},
     "output_type": "execute_result"
    }
   ],
   "source": [
    "cols = largest_overlap.columns[largest_overlap.columns.str.contains('19') | largest_overlap.columns.str.contains('19')].sort_values()\n",
    "age_cols = [cols[-1]] + list(cols[:-1])\n",
    "age_cols\n",
    "\n",
    "res = largest_overlap.iloc[:, 2:].dissolve('label', aggfunc='sum')\n",
    "res[age_cols]"
   ]
  },
  {
   "cell_type": "code",
   "execution_count": null,
   "id": "6fab9acd-1f5d-4cdf-8834-c39493430e8d",
   "metadata": {},
   "outputs": [],
   "source": []
  },
  {
   "cell_type": "code",
   "execution_count": null,
   "id": "0bc425eb-2ecc-4550-9b59-7422a27e87ee",
   "metadata": {},
   "outputs": [],
   "source": []
  },
  {
   "cell_type": "code",
   "execution_count": null,
   "id": "a52231de-5cf2-49d4-880a-87e28d214a0c",
   "metadata": {},
   "outputs": [],
   "source": []
  },
  {
   "cell_type": "code",
   "execution_count": null,
   "id": "c110093d-bd49-4e59-b5d0-a11126c483e8",
   "metadata": {},
   "outputs": [],
   "source": []
  },
  {
   "cell_type": "code",
   "execution_count": 289,
   "id": "f70a2462-6cc5-4a52-921a-8e2f9f7f6a64",
   "metadata": {},
   "outputs": [
    {
     "name": "stdout",
     "output_type": "stream",
     "text": [
      "Evaluation metrics\n",
      "==================\n",
      "Basic model:\n",
      "  Accuracy: 0.347\n",
      "  Kappa:    0.268\n",
      "\n"
     ]
    }
   ],
   "source": [
    "from sklearn import model_selection, ensemble, metrics\n",
    "ind = largest_overlap.columns[2:-3]\n",
    "\n",
    "X_train_rf, X_test, y_train, y_test = model_selection.train_test_split(largest_overlap[ind], largest_overlap[\"label\"].astype(str), test_size=0.25, random_state=0)\n",
    "model = ensemble.RandomForestClassifier(random_state=0, n_jobs=-1)\n",
    "model.fit(X_train_rf, y_train)\n",
    "pred = model.predict(X_test)\n",
    "\n",
    "accuracy = metrics.accuracy_score(pred, y_test)\n",
    "kappa = metrics.cohen_kappa_score(pred, y_test)\n",
    "\n",
    "summary = f\"\"\"\\\n",
    "Evaluation metrics\n",
    "==================\n",
    "Basic model:\n",
    "  Accuracy: {round(accuracy, 3)}\n",
    "  Kappa:    {round(kappa, 3)}\n",
    "\"\"\"\n",
    "\n",
    "print(summary)"
   ]
  },
  {
   "cell_type": "code",
   "execution_count": 290,
   "id": "2655dd25-7c19-46a5-9974-a3a1b6164a5d",
   "metadata": {},
   "outputs": [
    {
     "name": "stdout",
     "output_type": "stream",
     "text": [
      "Evaluation metrics\n",
      "==================\n",
      "Basic model:\n",
      "  Accuracy: 0.231\n",
      "  Kappa:    0.125\n",
      "\n"
     ]
    }
   ],
   "source": [
    "from sklearn import model_selection, ensemble, metrics\n",
    "ind = largest_overlap.columns[2:-3]\n",
    "\n",
    "X_train_rf, X_test, y_train, y_test = model_selection.train_test_split(largest_overlap[age_cols], largest_overlap[\"label\"].astype(str), test_size=0.25, random_state=0)\n",
    "model = ensemble.RandomForestClassifier(random_state=0, n_jobs=-1)\n",
    "model.fit(X_train_rf, y_train)\n",
    "pred = model.predict(X_test)\n",
    "\n",
    "accuracy = metrics.accuracy_score(pred, y_test)\n",
    "kappa = metrics.cohen_kappa_score(pred, y_test)\n",
    "\n",
    "summary = f\"\"\"\\\n",
    "Evaluation metrics\n",
    "==================\n",
    "Basic model:\n",
    "  Accuracy: {round(accuracy, 3)}\n",
    "  Kappa:    {round(kappa, 3)}\n",
    "\"\"\"\n",
    "\n",
    "print(summary)"
   ]
  },
  {
   "cell_type": "code",
   "execution_count": null,
   "id": "d6f87555-904b-4424-90aa-a56bf9e3026c",
   "metadata": {},
   "outputs": [],
   "source": []
  },
  {
   "cell_type": "code",
   "execution_count": null,
   "id": "81e414b5-09ee-4a44-8d77-01f70a4f8ac8",
   "metadata": {},
   "outputs": [],
   "source": []
  },
  {
   "cell_type": "code",
   "execution_count": 291,
   "id": "154d1b2e-7c7c-48df-a3e4-fcb68d11c4f7",
   "metadata": {},
   "outputs": [
    {
     "data": {
      "text/plain": [
       "1949 - 1978    0.320713\n",
       "Before 1919    0.245733\n",
       "1919 - 1948    0.212132\n",
       "1979 - 1986    0.104255\n",
       "1996 - 2000    0.065185\n",
       "1991 - 1995    0.027025\n",
       "1987 - 1990    0.024956\n",
       "dtype: float64"
      ]
     },
     "execution_count": 291,
     "metadata": {},
     "output_type": "execute_result"
    }
   ],
   "source": [
    "pd.Series(model.feature_importances_, index=model.feature_names_in_).sort_values(ascending=False).iloc[:10]\n"
   ]
  },
  {
   "cell_type": "code",
   "execution_count": null,
   "id": "73c136c7-12ee-4d9b-bfac-e6266b4eaf88",
   "metadata": {},
   "outputs": [],
   "source": []
  },
  {
   "cell_type": "code",
   "execution_count": 89,
   "id": "64bdbf28-32d8-4b4a-8bd7-e52f1efd9b99",
   "metadata": {},
   "outputs": [],
   "source": [
    "clrs_geometry.to_parquet(f'../data/clusters_umap_{region_id}_{min_cluster_size}_{spatial_lag}_{kernel}_{umap_metric}_{final_linkage}_{final_metric}_{cutoff}.pq')"
   ]
  },
  {
   "cell_type": "code",
   "execution_count": 293,
   "id": "5fb1c477-b429-4f68-b93f-54528e8fb908",
   "metadata": {},
   "outputs": [],
   "source": [
    "component_data.to_parquet(f'../data/morphotopes_data_{region_id}_{min_cluster_size}_{spatial_lag}_{lag_type}_{kernel}.pq')"
   ]
  },
  {
   "cell_type": "code",
   "execution_count": null,
   "id": "3fda4992-2712-4da0-9d03-ad1b0a460dff",
   "metadata": {},
   "outputs": [],
   "source": [
    "# gkf = model_selection.StratifiedGroupKFold(n_splits=5)\n",
    "# splits = gkf.split(\n",
    "#     largest_overlap[ind],\n",
    "#     largest_overlap[\"label\"].astype(str),\n",
    "#     groups=largest_overlap[\"label\"],\n",
    "# )"
   ]
  },
  {
   "cell_type": "code",
   "execution_count": null,
   "id": "c1f98427-0839-4d5b-b590-2522014b61e6",
   "metadata": {},
   "outputs": [],
   "source": [
    "# split_label = np.empty(len(largest_overlap), dtype=float)\n",
    "# for i, (train, test) in enumerate(splits):\n",
    "#     split_label[test] = i\n",
    "# largest_overlap[\"split\"] = split_label"
   ]
  },
  {
   "cell_type": "code",
   "execution_count": null,
   "id": "c8c4e836-4626-4004-a3c9-86df0424fed4",
   "metadata": {},
   "outputs": [],
   "source": [
    "# ax = largest_overlap.plot(\n",
    "#   \"split\", categorical=True, figsize=(9, 9), markersize=0.1, legend=True\n",
    "# )\n",
    "# largest_overlap.dissolve(\"label\").convex_hull.boundary.plot(\n",
    "#     ax=ax, color=\"k\", linewidth=0.5, markersize=0\n",
    "# )\n",
    "# ax.set_axis_off()"
   ]
  },
  {
   "cell_type": "code",
   "execution_count": null,
   "id": "9859a68d-e9e7-4a43-9691-367e6c44606d",
   "metadata": {},
   "outputs": [],
   "source": []
  },
  {
   "cell_type": "code",
   "execution_count": null,
   "id": "1872315b-73c9-46a2-801a-192fc5ac06b8",
   "metadata": {},
   "outputs": [],
   "source": []
  },
  {
   "cell_type": "code",
   "execution_count": null,
   "id": "e37f73e4-934d-4f23-9bf8-9fdad19b673e",
   "metadata": {},
   "outputs": [],
   "source": []
  },
  {
   "cell_type": "code",
   "execution_count": null,
   "id": "560c5c9b-3830-4325-93f7-32fff10bdaf6",
   "metadata": {},
   "outputs": [],
   "source": [
    "from libpysal import graph\n",
    "import esda\n"
   ]
  },
  {
   "cell_type": "code",
   "execution_count": null,
   "id": "368b7338-4c5b-4415-820b-90ca34651ca4",
   "metadata": {},
   "outputs": [],
   "source": [
    "col = '1979 - 1986'"
   ]
  },
  {
   "cell_type": "code",
   "execution_count": null,
   "id": "d667347a-c611-4bf7-99aa-49df1ed210e2",
   "metadata": {},
   "outputs": [],
   "source": [
    "contiguity = graph.Graph.build_contiguity(fbc, rook=False)\n",
    "contiguity_r = contiguity.transform(\"r\")\n",
    "lisa = esda.Moran_Local(fbc[col].fillna(0), contiguity_r)"
   ]
  },
  {
   "cell_type": "code",
   "execution_count": null,
   "id": "bde02591-9a79-431c-b056-c9525c1ca333",
   "metadata": {},
   "outputs": [],
   "source": [
    "# lisa.explore(\n",
    "# fbc,\n",
    "# crit_value=0.05,\n",
    "#   prefer_canvas=True,\n",
    "#   tiles=\"CartoDB Positron\",\n",
    "# )"
   ]
  }
 ],
 "metadata": {
  "kernelspec": {
   "display_name": "Python 3 (ipykernel)",
   "language": "python",
   "name": "python3"
  },
  "language_info": {
   "codemirror_mode": {
    "name": "ipython",
    "version": 3
   },
   "file_extension": ".py",
   "mimetype": "text/x-python",
   "name": "python",
   "nbconvert_exporter": "python",
   "pygments_lexer": "ipython3",
   "version": "3.12.5"
  }
 },
 "nbformat": 4,
 "nbformat_minor": 5
}
