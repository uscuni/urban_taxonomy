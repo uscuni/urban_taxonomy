{
 "cells": [
  {
   "cell_type": "code",
   "execution_count": 1,
   "id": "7ea4918a-bb38-415c-b50f-bf1f94101b01",
   "metadata": {},
   "outputs": [
    {
     "name": "stdout",
     "output_type": "stream",
     "text": [
      "CPU times: user 11.4 s, sys: 450 ms, total: 11.8 s\n",
      "Wall time: 9.5 s\n"
     ]
    }
   ],
   "source": [
    "%%time\n",
    "\n",
    "import glob\n",
    "\n",
    "import geopandas as gpd\n",
    "import matplotlib.pyplot as plt\n",
    "import numba\n",
    "import numpy as np\n",
    "import pandas as pd\n",
    "from libpysal.graph import read_parquet\n",
    "from sklearn.preprocessing import PowerTransformer, RobustScaler, StandardScaler\n",
    "\n",
    "from sklearn.neighbors import KDTree\n",
    "\n",
    "from sklearn.cluster import AgglomerativeClustering\n",
    "from scipy.cluster.hierarchy import dendrogram\n",
    "from scipy.cluster.hierarchy import fcluster\n",
    "from sklearn.metrics import adjusted_rand_score\n",
    "from sklearn.metrics import davies_bouldin_score\n",
    "from core.cluster_validation import get_linkage_matrix\n",
    "\n",
    "# try hdbscan extraction\n",
    "from fast_hdbscan.boruvka import parallel_boruvka\n",
    "from fast_hdbscan.cluster_trees import (\n",
    "    cluster_tree_from_condensed_tree,\n",
    "    condense_tree,\n",
    "    extract_eom_clusters,\n",
    "    extract_leaves,\n",
    "    get_cluster_label_vector,\n",
    "    mst_to_linkage_tree,\n",
    ")\n",
    "from fast_hdbscan.numba_kdtree import kdtree_to_numba\n",
    "from sklearn.neighbors import KDTree"
   ]
  },
  {
   "cell_type": "code",
   "execution_count": 2,
   "id": "965d20ea-4114-4e10-b04d-d23acec039b1",
   "metadata": {},
   "outputs": [],
   "source": [
    "def preprocess_clustering_data(X_train, to_drop):\n",
    "    \n",
    "    ## drop non-buildings\n",
    "    X_train = X_train[X_train.index >= 0]\n",
    "\n",
    "    # drop 'to_drop' columns and spatial lag\n",
    "    all_drop = []\n",
    "    for c in to_drop:\n",
    "        all_drop += X_train.columns[X_train.columns.str.contains(c)].tolist()\n",
    "    X_train = X_train.drop(all_drop, axis=1)\n",
    "\n",
    "    # standardise data\n",
    "    vals = StandardScaler().fit_transform(X_train)\n",
    "    X_train = pd.DataFrame(vals, columns=X_train.columns, index=X_train.index)\n",
    "    vals = np.nan_to_num(X_train)\n",
    "    X_train = pd.DataFrame(vals, columns=X_train.columns, index=X_train.index)\n",
    "\n",
    "    # drop any columns with no variation\n",
    "    stats = X_train.describe()\n",
    "    X_train = X_train.drop(stats.columns[stats.loc['std'] == 0], axis=1)\n",
    "\n",
    "    return X_train\n",
    "\n",
    "def get_tree(training_data, clustering_graph, linkage, metric):\n",
    "\n",
    "    clusterer = AgglomerativeClustering(linkage=linkage,\n",
    "                                        connectivity = clustering_graph,\n",
    "                                        metric=metric,\n",
    "                                        compute_full_tree=True,\n",
    "                                        compute_distances=True)\n",
    "    model = clusterer.fit(training_data)\n",
    "    linkage_matrix = get_linkage_matrix(model)\n",
    "    return linkage_matrix\n",
    "\n",
    "def get_clusters(linkage_matrix, min_cluster_size, eom_clusters=True):\n",
    "\n",
    "    condensed_tree = condense_tree(linkage_matrix, \n",
    "                               min_cluster_size=min_cluster_size)\n",
    "    cluster_tree = cluster_tree_from_condensed_tree(condensed_tree)\n",
    "\n",
    "    if eom_clusters:\n",
    "        selected_clusters = extract_eom_clusters(\n",
    "            condensed_tree, cluster_tree, allow_single_cluster=False\n",
    "        )\n",
    "    else:\n",
    "        selected_clusters = extract_leaves(\n",
    "                condensed_tree, allow_single_cluster=False\n",
    "            )\n",
    "    return get_cluster_label_vector(condensed_tree, selected_clusters, 0)"
   ]
  },
  {
   "cell_type": "code",
   "execution_count": 3,
   "id": "8bdb261a-b61c-4410-aaeb-adc10b5b2039",
   "metadata": {},
   "outputs": [],
   "source": [
    "def post_process_clusters(component_buildings_data, component_graph, component_clusters):\n",
    "\n",
    "\n",
    "    component_clusters = component_clusters.copy()\n",
    "        \n",
    "    clrs, counts = np.unique(component_clusters, return_counts=True)\n",
    "    \n",
    "    ## assign each group of contiguous noise points to their own cluster\n",
    "    if -1 in clrs:\n",
    "        noise = component_buildings_data[component_clusters == -1].index.values\n",
    "        noise_labels = component_graph.subgraph(noise).component_labels.values + max(clrs) + 1\n",
    "        component_clusters[component_clusters == -1] = noise_labels\n",
    "    \n",
    "    ## assign singletons to median of neighbours\n",
    "    clrs, counts = np.unique(component_clusters, return_counts=True)\n",
    "    for c in clrs[counts == 1]:\n",
    "        bid = component_buildings_data.iloc[np.where(component_clusters == c)].index.values[0]\n",
    "        median_cluster = np.median(component_clusters[np.where(component_buildings_data.index.isin(component_graph[bid].index))]).astype(int)\n",
    "        component_clusters[component_clusters == c] = median_cluster\n",
    "\n",
    "    return component_clusters"
   ]
  },
  {
   "cell_type": "code",
   "execution_count": null,
   "id": "f375dc51-0319-4de3-806b-66b46bad8018",
   "metadata": {},
   "outputs": [],
   "source": []
  },
  {
   "cell_type": "code",
   "execution_count": 4,
   "id": "f78cb85f-68e2-4e86-a4d1-3518bb62ad34",
   "metadata": {},
   "outputs": [],
   "source": [
    "region_id = 69300\n",
    "\n",
    "tessellations_dir = '/data/uscuni-ulce/processed_data/tessellations/'\n",
    "chars_dir = \"/data/uscuni-ulce/processed_data/chars/\"\n",
    "graph_dir = \"/data/uscuni-ulce/processed_data/neigh_graphs/\"\n",
    "cluster_dir = '/data/uscuni-ulce/processed_data/clusters/'"
   ]
  },
  {
   "cell_type": "code",
   "execution_count": 5,
   "id": "5eb7d7f7-98b5-49dd-82ac-866aba13ac6b",
   "metadata": {},
   "outputs": [],
   "source": [
    "# region_id = 'freiburg'\n",
    "# buildings_dir = streets_dir = enclosures_dir = tessellations_dir = graph_dir = '../data/freiburg/'\n",
    "# chars_dir = '../data/freiburg/chars/'\n",
    "# cluster_dir = '/data/uscuni-ulce/processed_data/clusters/'"
   ]
  },
  {
   "cell_type": "code",
   "execution_count": 6,
   "id": "4b48fd6c-cf84-4137-96c7-41eaa42d2733",
   "metadata": {},
   "outputs": [],
   "source": [
    "X_train = pd.read_parquet(chars_dir + f'primary_chars_{region_id}.parquet')\n",
    "\n",
    "spatial_lag = 3\n",
    "lag = pd.read_parquet(f'/data/uscuni-ulce/processed_data/context_data/unprocessed_context_chars_{region_id}_lag_{spatial_lag}_sw.parquet')\n",
    "\n",
    "lag = lag[[c for c in lag.columns if '_median' in c]]\n",
    "\n",
    "# lag = lag.drop(lag.columns[(lag.columns.str.startswith('l')) | (lag.columns.str.startswith('m'))], axis=1)\n",
    "\n",
    "X_train = X_train.join(lag, how='inner')\n",
    "\n",
    "# X_train = lag"
   ]
  },
  {
   "cell_type": "code",
   "execution_count": 7,
   "id": "23ae40f3-5014-434a-9007-279e1abd3e2a",
   "metadata": {},
   "outputs": [
    {
     "data": {
      "text/plain": [
       "(300966, 126)"
      ]
     },
     "execution_count": 7,
     "metadata": {},
     "output_type": "execute_result"
    }
   ],
   "source": [
    "X_train.shape"
   ]
  },
  {
   "cell_type": "code",
   "execution_count": 8,
   "id": "48c1362e-85ab-4f8b-aaad-e4a75634764d",
   "metadata": {},
   "outputs": [],
   "source": [
    "to_drop = [\n",
    "     'stcSAl',\n",
    "     'ltkOri',\n",
    "     'stbOri',\n",
    "     'stcOri',\n",
    "     'stbCeA']"
   ]
  },
  {
   "cell_type": "code",
   "execution_count": 9,
   "id": "7d1a6ff1-b445-40b2-ba90-8cd67c60347c",
   "metadata": {},
   "outputs": [],
   "source": [
    "graph = read_parquet(graph_dir + f\"tessellation_graph_{region_id}_knn1.parquet\")"
   ]
  },
  {
   "cell_type": "code",
   "execution_count": null,
   "id": "5dc3c999-6424-49df-a9b0-f66cb290f19a",
   "metadata": {},
   "outputs": [],
   "source": []
  },
  {
   "cell_type": "code",
   "execution_count": null,
   "id": "7082a544-4261-4d92-b45e-e04e11d562d1",
   "metadata": {},
   "outputs": [],
   "source": []
  },
  {
   "cell_type": "code",
   "execution_count": null,
   "id": "c87daeed-57c3-4f17-a0ab-39d5450b186f",
   "metadata": {},
   "outputs": [],
   "source": []
  },
  {
   "cell_type": "code",
   "execution_count": null,
   "id": "b210d6e3-b254-4f53-beaf-9f36e53e4135",
   "metadata": {},
   "outputs": [],
   "source": []
  },
  {
   "cell_type": "code",
   "execution_count": 10,
   "id": "d7820e20-580c-459f-bfd7-bfdc6c90819e",
   "metadata": {},
   "outputs": [],
   "source": [
    "min_cluster_size = 75\n",
    "linkage = 'ward'\n",
    "metric = 'euclidean'"
   ]
  },
  {
   "cell_type": "code",
   "execution_count": 11,
   "id": "055933b8-9059-4930-986c-0f527a10c647",
   "metadata": {},
   "outputs": [],
   "source": [
    "# label building input data, could work with empty tess as well\n",
    "building_graph = graph.subgraph(graph.unique_ids[graph.unique_ids >= 0])\n",
    "labels = building_graph.component_labels\n"
   ]
  },
  {
   "cell_type": "code",
   "execution_count": 12,
   "id": "6a7a342d-f68f-4d47-b96d-78e63532bc9e",
   "metadata": {},
   "outputs": [
    {
     "data": {
      "text/plain": [
       "component labels\n",
       "444    166757\n",
       "97      18934\n",
       "550      6503\n",
       "443      3902\n",
       "438      3828\n",
       "        ...  \n",
       "605         1\n",
       "101         1\n",
       "602         1\n",
       "104         1\n",
       "125         1\n",
       "Name: count, Length: 821, dtype: int64"
      ]
     },
     "execution_count": 12,
     "metadata": {},
     "output_type": "execute_result"
    }
   ],
   "source": [
    "labels.value_counts()"
   ]
  },
  {
   "cell_type": "code",
   "execution_count": 13,
   "id": "0006d301-717b-4305-83f1-f5429e0c398a",
   "metadata": {
    "scrolled": true
   },
   "outputs": [
    {
     "name": "stdout",
     "output_type": "stream",
     "text": [
      "CPU times: user 31 s, sys: 342 ms, total: 31.3 s\n",
      "Wall time: 31.3 s\n"
     ]
    }
   ],
   "source": [
    "%%time\n",
    "\n",
    "results = {}\n",
    "\n",
    "for label, group in labels.groupby(labels):\n",
    "\n",
    "    if group.shape[0] <= min_cluster_size:\n",
    "        component_clusters = np.ones(group.shape[0])\n",
    "\n",
    "    else:\n",
    "        component_buildings_data = preprocess_clustering_data(X_train.loc[group.index.values], to_drop=to_drop)\n",
    "        component_graph = building_graph.subgraph(group.index.values)\n",
    "        ward_tree = get_tree(component_buildings_data, component_graph.transform('B').sparse, linkage, metric)\n",
    "\n",
    "        ## sometimes ward linkage breaks the monotonic increase in the MST\n",
    "        ## if that happens shift all distances by the max drop\n",
    "        ## need a loop because several connections might be problematic\n",
    "        # problem_idxs = np.where(ward_tree[1:, 2] < ward_tree[0:-1, 2])[0]\n",
    "        # while problem_idxs.shape[0]:\n",
    "        #     ward_tree[problem_idxs + 1, 2] = ward_tree[problem_idxs, 2] + .01\n",
    "        #     problem_idxs = np.where(ward_tree[1:, 2] < ward_tree[0:-1, 2])[0]\n",
    "        ## check if ward tree distances are always increasing\n",
    "        # assert (ward_tree[1:, 2] >= ward_tree[0:-1, 2]).all()\n",
    "        \n",
    "        component_clusters = get_clusters(ward_tree, min_cluster_size, eom_clusters=True)\n",
    "\n",
    "        \n",
    "        # component_clusters = fcluster(ward_tree, t=80, criterion='distance')\n",
    "        \n",
    "        component_clusters = post_process_clusters(component_buildings_data, component_graph, component_clusters)\n",
    "        \n",
    "        for c in np.unique(component_clusters):\n",
    "            # if c == -1: continue\n",
    "            cluster_graph = component_graph.subgraph(group.index[component_clusters == c].values)\n",
    "            assert cluster_graph.n_components == 1\n",
    "    \n",
    "        # if label ==3: break\n",
    "    results[label] = component_clusters"
   ]
  },
  {
   "cell_type": "code",
   "execution_count": null,
   "id": "96955347-e787-4259-86fe-195bcd1d14e2",
   "metadata": {},
   "outputs": [],
   "source": []
  },
  {
   "cell_type": "code",
   "execution_count": null,
   "id": "293f134c-6a19-420f-aab6-78e6e5e14115",
   "metadata": {},
   "outputs": [],
   "source": []
  },
  {
   "cell_type": "code",
   "execution_count": null,
   "id": "0c0fa7e2-1974-400f-b953-f212508ee504",
   "metadata": {},
   "outputs": [],
   "source": []
  },
  {
   "cell_type": "code",
   "execution_count": 14,
   "id": "a3108309-8710-4992-bbab-5550e4162420",
   "metadata": {},
   "outputs": [],
   "source": [
    "label_groups = labels.groupby(labels)\n",
    "region_cluster_labels = []\n",
    "for label, component_clusters in results.items():\n",
    "    group = label_groups.get_group(label)\n",
    "    component_labels = str(label) + '_' + pd.Series(component_clusters.astype(str), \n",
    "                                                    index=group.index.values)\n",
    "    region_cluster_labels.append(component_labels)\n",
    "\n",
    "region_cluster_labels = pd.concat(region_cluster_labels).sort_index()\n",
    "assert (X_train[X_train.index >= 0].index == region_cluster_labels.index).all()\n",
    "region_cluster_labels.to_csv(cluster_dir + f'clusters_{region_id}.csv')"
   ]
  },
  {
   "cell_type": "code",
   "execution_count": null,
   "id": "acc9c6dc-0889-42bc-a57c-ad92ab0f640f",
   "metadata": {},
   "outputs": [],
   "source": []
  },
  {
   "cell_type": "code",
   "execution_count": null,
   "id": "6067dbcd-cc96-4502-80e5-7841471749d6",
   "metadata": {},
   "outputs": [],
   "source": []
  },
  {
   "cell_type": "code",
   "execution_count": null,
   "id": "06c9bd9f-4755-4893-8cb0-ee11495401e7",
   "metadata": {},
   "outputs": [],
   "source": []
  },
  {
   "cell_type": "code",
   "execution_count": null,
   "id": "9c52630a-7efe-4bc3-957f-a31bdf42e44b",
   "metadata": {},
   "outputs": [],
   "source": []
  },
  {
   "cell_type": "code",
   "execution_count": null,
   "id": "e7582965-7296-4e40-ba5e-76047a61c336",
   "metadata": {},
   "outputs": [],
   "source": []
  },
  {
   "cell_type": "code",
   "execution_count": 15,
   "id": "8cc3a094-b0c4-4050-9c76-1235fc330a2d",
   "metadata": {},
   "outputs": [],
   "source": [
    "tessellation = gpd.read_parquet(\n",
    "        tessellations_dir + f\"tessellation_{region_id}.parquet\"\n",
    ")"
   ]
  },
  {
   "cell_type": "code",
   "execution_count": 16,
   "id": "5e4beef1-364b-4d42-9296-d4b26e88d7c3",
   "metadata": {},
   "outputs": [
    {
     "data": {
      "text/plain": [
       "component labels\n",
       "444    166757\n",
       "97      18934\n",
       "550      6503\n",
       "443      3902\n",
       "438      3828\n",
       "        ...  \n",
       "605         1\n",
       "101         1\n",
       "602         1\n",
       "104         1\n",
       "125         1\n",
       "Name: component labels, Length: 821, dtype: int64"
      ]
     },
     "execution_count": 16,
     "metadata": {},
     "output_type": "execute_result"
    }
   ],
   "source": [
    "labels.groupby(labels).size().sort_values(ascending=False)"
   ]
  },
  {
   "cell_type": "code",
   "execution_count": 17,
   "id": "ced4354c-c8f6-4ce9-9928-7cfb2cb55390",
   "metadata": {},
   "outputs": [
    {
     "data": {
      "text/plain": [
       "(166757,)"
      ]
     },
     "execution_count": 17,
     "metadata": {},
     "output_type": "execute_result"
    }
   ],
   "source": [
    "label = 444\n",
    "labels.groupby(labels).get_group(label).shape"
   ]
  },
  {
   "cell_type": "code",
   "execution_count": 18,
   "id": "bf4136f5-8356-47ba-a7d8-736345f49eb4",
   "metadata": {},
   "outputs": [],
   "source": [
    "# tessellation.loc[labels.groupby(labels).get_group(label).index.values].explore(column=results[label], categorical=True)"
   ]
  },
  {
   "cell_type": "code",
   "execution_count": 19,
   "id": "e593d401-ff91-4141-a4f8-6461961e227c",
   "metadata": {},
   "outputs": [],
   "source": [
    "# buildings = gpd.read_parquet(f'/data/uscuni-ulce/processed_data/buildings/buildings_{region_id}.parquet')"
   ]
  },
  {
   "cell_type": "code",
   "execution_count": null,
   "id": "7f5b51a0-c338-402a-8e61-13185468ee2a",
   "metadata": {},
   "outputs": [],
   "source": []
  },
  {
   "cell_type": "code",
   "execution_count": 20,
   "id": "9a7d820c-6be3-450f-b1d4-41a402239321",
   "metadata": {},
   "outputs": [
    {
     "data": {
      "text/plain": [
       "(166757, 4)"
      ]
     },
     "execution_count": 20,
     "metadata": {},
     "output_type": "execute_result"
    }
   ],
   "source": [
    "plotting = tessellation.loc[labels.groupby(labels).get_group(label).index.values].reset_index()\n",
    "plotting['label'] = results[label]\n",
    "plotting.shape"
   ]
  },
  {
   "cell_type": "code",
   "execution_count": 21,
   "id": "cbc5aa0c-f629-4dea-a76a-84b9c17475c3",
   "metadata": {},
   "outputs": [],
   "source": [
    "# layer.get_fill_color = get_color(plotting['label'].values)"
   ]
  },
  {
   "cell_type": "code",
   "execution_count": 22,
   "id": "40e40ae0-0a2b-4541-b715-64ee6bac0c69",
   "metadata": {
    "scrolled": true
   },
   "outputs": [
    {
     "data": {
      "text/plain": [
       "1179"
      ]
     },
     "execution_count": 22,
     "metadata": {},
     "output_type": "execute_result"
    }
   ],
   "source": [
    "plotting['label'].nunique()"
   ]
  },
  {
   "cell_type": "code",
   "execution_count": null,
   "id": "4f03a159-0f6f-4fd0-a258-4157a634417b",
   "metadata": {},
   "outputs": [],
   "source": []
  },
  {
   "cell_type": "code",
   "execution_count": null,
   "id": "6e43fe9c-e692-4bd8-8097-23f3180a4027",
   "metadata": {},
   "outputs": [],
   "source": []
  },
  {
   "cell_type": "code",
   "execution_count": null,
   "id": "54570b18-0fd1-4905-9ac0-ceef67ccead1",
   "metadata": {},
   "outputs": [],
   "source": []
  },
  {
   "cell_type": "code",
   "execution_count": null,
   "id": "0ce0f86b-0099-4e21-811a-d0e20cfbcbb6",
   "metadata": {},
   "outputs": [],
   "source": []
  },
  {
   "cell_type": "code",
   "execution_count": 23,
   "id": "ff702bbb-4dd5-4ecd-a86b-6eab21489e73",
   "metadata": {},
   "outputs": [
    {
     "name": "stderr",
     "output_type": "stream",
     "text": [
      "/home/krasen/miniconda3/envs/urban_taxonomy/lib/python3.12/site-packages/lonboard/_geoarrow/ops/reproject.py:97: UserWarning: Input being reprojected to EPSG:4326 CRS\n",
      "  warnings.warn(\"Input being reprojected to EPSG:4326 CRS\")\n"
     ]
    },
    {
     "name": "stdout",
     "output_type": "stream",
     "text": [
      "CPU times: user 2.88 s, sys: 292 ms, total: 3.18 s\n",
      "Wall time: 3.17 s\n"
     ]
    }
   ],
   "source": [
    "%%time\n",
    "import lonboard\n",
    "# plotting = tessellation[tessellation.index.isin(X_train.index)].copy()\n",
    "layer = lonboard.SolidPolygonLayer.from_geopandas(plotting, opacity=.08)"
   ]
  },
  {
   "cell_type": "code",
   "execution_count": 24,
   "id": "554fb4c0-4eb8-44a5-8503-d96f15dd7c5b",
   "metadata": {},
   "outputs": [],
   "source": [
    "from sidecar import Sidecar\n",
    "sc = Sidecar(title='Clusters')\n",
    "m = lonboard.Map(layer, basemap_style=lonboard.basemap.CartoBasemap.Positron)\n",
    "with sc:\n",
    "    display(m)\n",
    "\n",
    "from core.cluster_validation import get_color\n",
    "layer.get_fill_color = get_color(plotting['label'].values)"
   ]
  },
  {
   "cell_type": "code",
   "execution_count": 25,
   "id": "8050b832-0cb6-46ef-a989-dd5fb4c8093f",
   "metadata": {},
   "outputs": [],
   "source": [
    "# layer.get_fill_color = get_color(plotting['label'].values)"
   ]
  },
  {
   "cell_type": "code",
   "execution_count": null,
   "id": "c3d4b0af-d876-4809-b1ca-c0416cfcfd4c",
   "metadata": {},
   "outputs": [],
   "source": []
  },
  {
   "cell_type": "code",
   "execution_count": null,
   "id": "a2d6526b-f005-426e-9c36-44cc4cd0f389",
   "metadata": {},
   "outputs": [],
   "source": []
  },
  {
   "cell_type": "code",
   "execution_count": null,
   "id": "e16ffa5c-7238-4b73-9d4c-cbd8ff91496c",
   "metadata": {},
   "outputs": [],
   "source": []
  },
  {
   "cell_type": "code",
   "execution_count": null,
   "id": "846e67de-d4c7-40a9-8fea-45c22c7f669e",
   "metadata": {},
   "outputs": [],
   "source": []
  },
  {
   "cell_type": "code",
   "execution_count": 29,
   "id": "53410343-76a7-4107-98d0-42801c7f44d6",
   "metadata": {
    "scrolled": true
   },
   "outputs": [
    {
     "name": "stdout",
     "output_type": "stream",
     "text": [
      "CPU times: user 24.4 s, sys: 87 μs, total: 24.4 s\n",
      "Wall time: 24.4 s\n"
     ]
    }
   ],
   "source": [
    "%%time\n",
    "\n",
    "clrs_geometry = tessellation.loc[region_cluster_labels.index]\n",
    "clrs_geometry['label'] = region_cluster_labels.values\n",
    "clrs_geometry = clrs_geometry.dissolve('label').simplify(1).to_frame()\n",
    "clrs_geometry.columns = ['geometry']\n",
    "clrs_geometry = clrs_geometry.set_geometry('geometry')"
   ]
  },
  {
   "cell_type": "code",
   "execution_count": 27,
   "id": "cbe06891-dc6b-496e-b69e-6bf7875b369c",
   "metadata": {},
   "outputs": [],
   "source": [
    "# clrs_geometry.explore()"
   ]
  },
  {
   "cell_type": "code",
   "execution_count": null,
   "id": "b9e66b11-60c0-42ec-954c-4f4b8ff82d53",
   "metadata": {},
   "outputs": [],
   "source": []
  },
  {
   "cell_type": "code",
   "execution_count": 56,
   "id": "f23ce599-5f6e-4043-8963-a5f400394674",
   "metadata": {},
   "outputs": [],
   "source": [
    "clrs_geometry.to_parquet(f'../data/clusters_{region_id}_{min_cluster_size}.pq')"
   ]
  },
  {
   "cell_type": "code",
   "execution_count": null,
   "id": "8c64487d-efad-4137-a5ba-c702e3be58b0",
   "metadata": {},
   "outputs": [],
   "source": []
  },
  {
   "cell_type": "code",
   "execution_count": null,
   "id": "b7fc7ca9-d90d-45ae-88fc-ca19b5618f8d",
   "metadata": {},
   "outputs": [],
   "source": []
  },
  {
   "cell_type": "code",
   "execution_count": null,
   "id": "1e829bd1-467c-4929-98e7-4833448ec664",
   "metadata": {},
   "outputs": [],
   "source": []
  },
  {
   "cell_type": "code",
   "execution_count": null,
   "id": "1a355ac4-fc08-470e-83f4-9665be617f09",
   "metadata": {},
   "outputs": [],
   "source": []
  },
  {
   "cell_type": "code",
   "execution_count": null,
   "id": "ae12cf64-2dde-4828-b4e4-fac1daa73097",
   "metadata": {},
   "outputs": [],
   "source": []
  },
  {
   "cell_type": "markdown",
   "id": "293b9dfc-260e-42dd-bfe8-7f91df7f7fdf",
   "metadata": {},
   "source": [
    "----"
   ]
  },
  {
   "cell_type": "code",
   "execution_count": 26,
   "id": "02c0ceab-1c44-4177-9866-a34c9109a133",
   "metadata": {},
   "outputs": [],
   "source": [
    "def percentile(n):\n",
    "    def percentile_(x):\n",
    "        return np.percentile(x, n)\n",
    "    percentile_.__name__ = 'percentile_%s' % n\n",
    "    return percentile_"
   ]
  },
  {
   "cell_type": "code",
   "execution_count": 27,
   "id": "5c8c8e47-3c0d-453c-b542-e0985bf2ba80",
   "metadata": {},
   "outputs": [],
   "source": [
    "# component_data = X_train.loc[labels.groupby(labels).get_group(label).index.values]\n",
    "\n",
    "component_data = X_train.loc[region_cluster_labels.index]"
   ]
  },
  {
   "cell_type": "code",
   "execution_count": 28,
   "id": "90d6e36f-d07e-4d6a-8b35-8ea548ba9667",
   "metadata": {},
   "outputs": [],
   "source": [
    "# component_data = component_data.groupby(results[label]).agg([np.min, np.median, np.max])"
   ]
  },
  {
   "cell_type": "code",
   "execution_count": 29,
   "id": "b8eb97db-d7dd-4290-b847-4f32e05ab744",
   "metadata": {},
   "outputs": [],
   "source": [
    "# component_data = component_data.groupby(results[label]).agg([percentile(10), \n",
    "#                                                              'median', \n",
    "#                                                              percentile(90)])"
   ]
  },
  {
   "cell_type": "code",
   "execution_count": 30,
   "id": "48da6d24-9fe5-4cfb-b53e-233b9f1410fe",
   "metadata": {},
   "outputs": [
    {
     "name": "stdout",
     "output_type": "stream",
     "text": [
      "CPU times: user 33.7 s, sys: 0 ns, total: 33.7 s\n",
      "Wall time: 33.7 s\n"
     ]
    }
   ],
   "source": [
    "%%time\n",
    "component_data = component_data.groupby(region_cluster_labels.values).agg([percentile(10), \n",
    "                                                             'median', \n",
    "                                                             percentile(90)])"
   ]
  },
  {
   "cell_type": "code",
   "execution_count": null,
   "id": "cec98e3d-994c-4eb2-91d2-e84d7910d282",
   "metadata": {},
   "outputs": [],
   "source": []
  },
  {
   "cell_type": "code",
   "execution_count": 31,
   "id": "020328c1-c5b0-4a02-92a0-89fb061c1155",
   "metadata": {},
   "outputs": [],
   "source": [
    "vals = StandardScaler().fit_transform(component_data)\n",
    "component_data = pd.DataFrame(vals, columns=component_data.columns, index=component_data.index)\n",
    "\n",
    "# component_data = component_data[component_data.index >= 0]\n",
    "vals = np.nan_to_num(component_data)\n",
    "component_data = pd.DataFrame(vals, columns=component_data.columns, index=component_data.index)"
   ]
  },
  {
   "cell_type": "code",
   "execution_count": null,
   "id": "bd22769d-c4db-495a-9979-13346a07162c",
   "metadata": {},
   "outputs": [],
   "source": []
  },
  {
   "cell_type": "code",
   "execution_count": null,
   "id": "e6d41390-dc78-4058-b48a-7f9a318b2102",
   "metadata": {},
   "outputs": [],
   "source": []
  },
  {
   "cell_type": "code",
   "execution_count": 32,
   "id": "80350e06-ae54-4149-a375-f624dca07d35",
   "metadata": {},
   "outputs": [
    {
     "name": "stderr",
     "output_type": "stream",
     "text": [
      "/home/krasen/miniconda3/envs/urban_taxonomy/lib/python3.12/site-packages/numba/np/ufunc/dufunc.py:343: NumbaWarning: \u001b[1mCompilation requested for previously compiled argument types ((uint32,)). This has no effect and perhaps indicates a bug in the calling code (compiling a ufunc more than once for the same signature\u001b[0m\n",
      "  warnings.warn(msg, errors.NumbaWarning)\n",
      "/home/krasen/miniconda3/envs/urban_taxonomy/lib/python3.12/site-packages/numba/np/ufunc/dufunc.py:343: NumbaWarning: \u001b[1mCompilation requested for previously compiled argument types ((uint32,)). This has no effect and perhaps indicates a bug in the calling code (compiling a ufunc more than once for the same signature\u001b[0m\n",
      "  warnings.warn(msg, errors.NumbaWarning)\n",
      "/home/krasen/miniconda3/envs/urban_taxonomy/lib/python3.12/site-packages/numba/np/ufunc/dufunc.py:343: NumbaWarning: \u001b[1mCompilation requested for previously compiled argument types ((uint32,)). This has no effect and perhaps indicates a bug in the calling code (compiling a ufunc more than once for the same signature\u001b[0m\n",
      "  warnings.warn(msg, errors.NumbaWarning)\n"
     ]
    },
    {
     "name": "stdout",
     "output_type": "stream",
     "text": [
      "UMAP(angular_rp_forest=True, metric='cosine', min_dist=0, n_components=25, verbose=True)\n",
      "Fri Aug 23 17:09:34 2024 Construct fuzzy simplicial set\n",
      "Fri Aug 23 17:09:37 2024 Finding Nearest Neighbors\n",
      "Fri Aug 23 17:09:38 2024 Finished Nearest Neighbor Search\n",
      "Fri Aug 23 17:09:39 2024 Construct embedding\n"
     ]
    },
    {
     "data": {
      "application/vnd.jupyter.widget-view+json": {
       "model_id": "505c943bedf742498c8507e31977ef97",
       "version_major": 2,
       "version_minor": 0
      },
      "text/plain": [
       "Epochs completed:   0%|            0/500 [00:00]"
      ]
     },
     "metadata": {},
     "output_type": "display_data"
    },
    {
     "name": "stdout",
     "output_type": "stream",
     "text": [
      "\tcompleted  0  /  500 epochs\n",
      "\tcompleted  50  /  500 epochs\n",
      "\tcompleted  100  /  500 epochs\n",
      "\tcompleted  150  /  500 epochs\n",
      "\tcompleted  200  /  500 epochs\n",
      "\tcompleted  250  /  500 epochs\n",
      "\tcompleted  300  /  500 epochs\n",
      "\tcompleted  350  /  500 epochs\n",
      "\tcompleted  400  /  500 epochs\n",
      "\tcompleted  450  /  500 epochs\n",
      "Fri Aug 23 17:09:42 2024 Finished embedding\n"
     ]
    }
   ],
   "source": [
    "import umap\n",
    "import umap.plot\n",
    "\n",
    "reducer = umap.UMAP(n_neighbors=15, n_components=25, min_dist=0, metric='cosine', verbose=True)\n",
    "# reducer = umap.UMAP(n_neighbors=10, n_components=2, min_dist=0, metric='cosine', verbose=True)\n",
    "embedding = reducer.fit_transform(component_data)\n",
    "# umap.plot.points(reducer)"
   ]
  },
  {
   "cell_type": "code",
   "execution_count": null,
   "id": "67859769-2550-4b95-a036-00252ac2a976",
   "metadata": {},
   "outputs": [],
   "source": []
  },
  {
   "cell_type": "code",
   "execution_count": null,
   "id": "50088742-45c2-42da-a092-8a1e8ae85c88",
   "metadata": {},
   "outputs": [],
   "source": []
  },
  {
   "cell_type": "code",
   "execution_count": null,
   "id": "f113cdf9-c85b-4390-b586-ffdf3f8aad9c",
   "metadata": {},
   "outputs": [],
   "source": []
  },
  {
   "cell_type": "code",
   "execution_count": 33,
   "id": "88c68a9d-510a-49ea-ba98-d28ebd0576c4",
   "metadata": {},
   "outputs": [],
   "source": [
    "clusterer = AgglomerativeClustering(linkage='complete',\n",
    "                                    compute_full_tree=True,\n",
    "                                    compute_distances=True)\n",
    "model = clusterer.fit(embedding)\n",
    "linkage_matrix = get_linkage_matrix(model)"
   ]
  },
  {
   "cell_type": "code",
   "execution_count": 34,
   "id": "f48da5c5-1a1f-42d3-806f-921d69b81a30",
   "metadata": {},
   "outputs": [
    {
     "data": {
      "image/png": "[encoded data removed]",
      "text/plain": [
       "<Figure size 2000x1000 with 1 Axes>"
      ]
     },
     "metadata": {},
     "output_type": "display_data"
    }
   ],
   "source": [
    "fig,ax = plt.subplots(figsize=(20,10))\n",
    "_ = dendrogram(linkage_matrix, ax=ax)"
   ]
  },
  {
   "cell_type": "code",
   "execution_count": 41,
   "id": "8d18b997-b304-4501-a662-c24cf6636d52",
   "metadata": {},
   "outputs": [],
   "source": [
    "clusters = fcluster(linkage_matrix, t=2.5, criterion='distance')"
   ]
  },
  {
   "cell_type": "code",
   "execution_count": null,
   "id": "e342064b-ba1b-485f-8a37-aa1bb73df002",
   "metadata": {},
   "outputs": [],
   "source": []
  },
  {
   "cell_type": "code",
   "execution_count": 42,
   "id": "060b7c5e-d461-4613-83aa-96d6452f9ac4",
   "metadata": {},
   "outputs": [],
   "source": [
    "# from sklearn.cluster import KMeans, MiniBatchKMeans\n",
    "# from sklearn.metrics import adjusted_rand_score\n",
    "# clusters = KMeans(n_clusters=25, max_iter=5000, n_init=300).fit(embedding).labels_"
   ]
  },
  {
   "cell_type": "code",
   "execution_count": 43,
   "id": "96574337-237b-4a67-8c73-4f8c27f78d44",
   "metadata": {},
   "outputs": [],
   "source": [
    "# morh_clusters = results[label]\n",
    "morh_clusters = region_cluster_labels.values"
   ]
  },
  {
   "cell_type": "code",
   "execution_count": 44,
   "id": "623b043e-3ead-40ba-aeb4-9ba0b9b6d301",
   "metadata": {},
   "outputs": [],
   "source": [
    "clusters = pd.Series(clusters, index=component_data.index.values)\n",
    "clusters = clusters.loc[morh_clusters].values"
   ]
  },
  {
   "cell_type": "code",
   "execution_count": null,
   "id": "8a1f0e54-cc63-4f12-a057-56c99997de44",
   "metadata": {},
   "outputs": [],
   "source": []
  },
  {
   "cell_type": "code",
   "execution_count": 45,
   "id": "a3b776cb-dbf4-4b95-820a-0d837eb7105a",
   "metadata": {},
   "outputs": [],
   "source": [
    "# assert clusters.shape == results[label].shape\n",
    "\n",
    "# for i in np.unique(results[label]):\n",
    "#     idxs = np.where(results[label] == i)[0]\n",
    "#     old_clusters = results[label][idxs]\n",
    "#     new_clusters = clusters[idxs]\n",
    "#     assert np.unique(old_clusters).shape[0] == 1\n",
    "#     assert np.unique(new_clusters).shape[0] == 1\n",
    "    "
   ]
  },
  {
   "cell_type": "code",
   "execution_count": null,
   "id": "fe6689a6-760e-4f00-ab54-38e7bc851c50",
   "metadata": {},
   "outputs": [],
   "source": []
  },
  {
   "cell_type": "code",
   "execution_count": 46,
   "id": "154c2d6b-f09e-4067-99d7-b4525829250f",
   "metadata": {},
   "outputs": [
    {
     "data": {
      "text/plain": [
       "(array([ 1,  2,  3,  4,  5,  6,  7,  8,  9, 10, 11, 12, 13, 14],\n",
       "       dtype=int32),\n",
       " array([  200,   118,  4150, 34921, 19388, 26557, 21573, 29393, 32442,\n",
       "        19587, 11165, 83548,  2108, 13914]))"
      ]
     },
     "execution_count": 46,
     "metadata": {},
     "output_type": "execute_result"
    }
   ],
   "source": [
    "np.unique(clusters, return_counts=True)"
   ]
  },
  {
   "cell_type": "code",
   "execution_count": null,
   "id": "5c5c6e83-d28d-4278-8765-ee9368555e12",
   "metadata": {},
   "outputs": [],
   "source": []
  },
  {
   "cell_type": "code",
   "execution_count": null,
   "id": "9b2c2d28-5033-4d10-92ef-1cbe72dc03ff",
   "metadata": {},
   "outputs": [],
   "source": []
  },
  {
   "cell_type": "code",
   "execution_count": null,
   "id": "560c5c9b-3830-4325-93f7-32fff10bdaf6",
   "metadata": {},
   "outputs": [],
   "source": []
  },
  {
   "cell_type": "code",
   "execution_count": null,
   "id": "e4468743-39d0-4f08-aca4-f766c892c4ca",
   "metadata": {},
   "outputs": [],
   "source": []
  },
  {
   "cell_type": "code",
   "execution_count": 47,
   "id": "c6d08953-dae0-43f6-ab77-207cc60d7362",
   "metadata": {},
   "outputs": [
    {
     "name": "stderr",
     "output_type": "stream",
     "text": [
      "/home/krasen/miniconda3/envs/urban_taxonomy/lib/python3.12/site-packages/lonboard/_geoarrow/ops/reproject.py:97: UserWarning: Input being reprojected to EPSG:4326 CRS\n",
      "  warnings.warn(\"Input being reprojected to EPSG:4326 CRS\")\n"
     ]
    },
    {
     "name": "stdout",
     "output_type": "stream",
     "text": [
      "CPU times: user 4.81 s, sys: 395 ms, total: 5.21 s\n",
      "Wall time: 5.2 s\n"
     ]
    }
   ],
   "source": [
    "%%time\n",
    "import lonboard\n",
    "# plotting = tessellation[tessellation.index.isin(X_train.index)].copy()\n",
    "layer = lonboard.SolidPolygonLayer.from_geopandas(tessellation[tessellation.index >= 0], opacity=.08)"
   ]
  },
  {
   "cell_type": "code",
   "execution_count": 48,
   "id": "c4fb29a3-7d4d-430c-a62a-13b7a9597e59",
   "metadata": {},
   "outputs": [],
   "source": [
    "from sidecar import Sidecar\n",
    "sc = Sidecar(title='Clusters')\n",
    "m = lonboard.Map(layer, basemap_style=lonboard.basemap.CartoBasemap.Positron)\n",
    "with sc:\n",
    "    display(m)"
   ]
  },
  {
   "cell_type": "code",
   "execution_count": null,
   "id": "df283e4b-96aa-42f2-8f9f-5b1aaa481588",
   "metadata": {},
   "outputs": [],
   "source": []
  },
  {
   "cell_type": "code",
   "execution_count": 49,
   "id": "32dda125-cf78-4121-9cbe-a7eccddfed4f",
   "metadata": {},
   "outputs": [],
   "source": [
    "from core.cluster_validation import get_color\n",
    "layer.get_fill_color = get_color(clusters)"
   ]
  },
  {
   "cell_type": "code",
   "execution_count": null,
   "id": "ffc328c0-39bb-4f87-86c7-901f02e201de",
   "metadata": {},
   "outputs": [],
   "source": []
  },
  {
   "cell_type": "code",
   "execution_count": 44,
   "id": "a52231de-5cf2-49d4-880a-87e28d214a0c",
   "metadata": {},
   "outputs": [],
   "source": [
    "# clrs_geometry = tessellation.loc[region_cluster_labels.index]\n",
    "# clrs_geometry['label'] = clusters\n",
    "# clrs_geometry = clrs_geometry.dissolve('label').simplify(1).to_frame()\n",
    "# clrs_geometry.columns = ['geometry']\n",
    "# clrs_geometry = clrs_geometry.set_geometry('geometry')"
   ]
  },
  {
   "cell_type": "code",
   "execution_count": 45,
   "id": "fd181ea7-3829-4158-98bd-5aefe645d104",
   "metadata": {},
   "outputs": [],
   "source": [
    "# clrs_geometry.explore(column=clrs_geometry.index.values.astype(str), categorical=True)"
   ]
  },
  {
   "cell_type": "code",
   "execution_count": null,
   "id": "ae8df4e4-bca7-4316-b50b-58d33fdcec43",
   "metadata": {},
   "outputs": [],
   "source": []
  },
  {
   "cell_type": "code",
   "execution_count": 231,
   "id": "033d2757-0491-43bb-b582-276f85ec2124",
   "metadata": {},
   "outputs": [],
   "source": [
    "clrs_geometry.to_parquet(f'../data/clusters__umap_{region_id}_{min_cluster_size}.pq')"
   ]
  },
  {
   "cell_type": "code",
   "execution_count": null,
   "id": "2cbde13a-b497-4c68-9b4a-0c84b03ffdc1",
   "metadata": {},
   "outputs": [],
   "source": []
  },
  {
   "cell_type": "code",
   "execution_count": null,
   "id": "886889c5-0493-4770-a92b-8cca479090f1",
   "metadata": {},
   "outputs": [],
   "source": []
  },
  {
   "cell_type": "code",
   "execution_count": null,
   "id": "acde5615-d2b0-4bee-84b6-95fe756170e7",
   "metadata": {},
   "outputs": [],
   "source": []
  },
  {
   "cell_type": "code",
   "execution_count": null,
   "id": "1e448bd0-3be7-4dc9-ad6b-d7cba83290d9",
   "metadata": {},
   "outputs": [],
   "source": []
  },
  {
   "cell_type": "code",
   "execution_count": null,
   "id": "c110093d-bd49-4e59-b5d0-a11126c483e8",
   "metadata": {},
   "outputs": [],
   "source": []
  },
  {
   "cell_type": "code",
   "execution_count": null,
   "id": "f70a2462-6cc5-4a52-921a-8e2f9f7f6a64",
   "metadata": {},
   "outputs": [],
   "source": []
  },
  {
   "cell_type": "code",
   "execution_count": 51,
   "id": "fef7d491-b679-49d0-bb71-6a9f1acaa06d",
   "metadata": {},
   "outputs": [],
   "source": [
    "from clustergram import Clustergram\n",
    "from sklearn.mixture import GaussianMixture"
   ]
  },
  {
   "cell_type": "code",
   "execution_count": 52,
   "id": "b9544564-7e03-4a3e-8c60-8fc2121cb747",
   "metadata": {},
   "outputs": [
    {
     "data": {
      "text/plain": [
       "(166757, 126)"
      ]
     },
     "execution_count": 52,
     "metadata": {},
     "output_type": "execute_result"
    }
   ],
   "source": [
    "component_data = X_train.loc[labels.groupby(labels).get_group(label).index.values]\n",
    "component_data.shape"
   ]
  },
  {
   "cell_type": "code",
   "execution_count": 151,
   "id": "6b9a92ec-b743-4ed7-8ffc-db783ed4ad24",
   "metadata": {},
   "outputs": [
    {
     "data": {
      "text/plain": [
       "(60555, 54)"
      ]
     },
     "execution_count": 151,
     "metadata": {},
     "output_type": "execute_result"
    }
   ],
   "source": [
    "component_data = preprocess_clustering_data(component_data)\n",
    "component_data.shape"
   ]
  },
  {
   "cell_type": "code",
   "execution_count": null,
   "id": "136b6bad-8bb7-461d-b922-7015f204d94b",
   "metadata": {},
   "outputs": [],
   "source": [
    "%%time\n",
    "gmm = GaussianMixture(n_components=10, \n",
    "                      covariance_type=\"full\",\n",
    "                      max_iter=200, \n",
    "                      n_init=100,\n",
    "                      random_state=42)\n",
    "fitted = gmm.fit(component_data)\n",
    "clusters = fitted.predict(component_data)\n",
    "pd.Series(clusters, index=component_data.index).to_csv('../data/gmm_10_clusters.csv')"
   ]
  },
  {
   "cell_type": "code",
   "execution_count": null,
   "id": "bc95f23f-7741-4226-b623-8089a6e1889f",
   "metadata": {},
   "outputs": [],
   "source": []
  },
  {
   "cell_type": "code",
   "execution_count": 659,
   "id": "a047b90c-edcb-4ff1-a3e5-16ff7943fcc1",
   "metadata": {},
   "outputs": [],
   "source": [
    "clusters = pd.read_csv('../data/gmm_10_clusters.csv').set_index('Unnamed: 0')"
   ]
  },
  {
   "cell_type": "code",
   "execution_count": null,
   "id": "6a9d7a95-9bb8-4463-b422-f4bfe0275bed",
   "metadata": {},
   "outputs": [],
   "source": []
  }
 ],
 "metadata": {
  "kernelspec": {
   "display_name": "Python 3 (ipykernel)",
   "language": "python",
   "name": "python3"
  },
  "language_info": {
   "codemirror_mode": {
    "name": "ipython",
    "version": 3
   },
   "file_extension": ".py",
   "mimetype": "text/x-python",
   "name": "python",
   "nbconvert_exporter": "python",
   "pygments_lexer": "ipython3",
   "version": "3.12.4"
  }
 },
 "nbformat": 4,
 "nbformat_minor": 5
}
