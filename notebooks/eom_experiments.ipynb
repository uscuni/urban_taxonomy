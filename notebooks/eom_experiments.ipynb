{
 "cells": [
  {
   "cell_type": "code",
   "execution_count": 1,
   "id": "c9a173a2-3b0a-4cb2-8004-b39d9ff1ebb8",
   "metadata": {},
   "outputs": [],
   "source": [
    "import momepy as mm\n",
    "import numpy as np\n",
    "import numba\n",
    "import geopandas as gpd\n",
    "import pandas as pd\n",
    "import shapely\n",
    "from fast_hdbscan.numba_kdtree import NumbaKDTree, kdtree_to_numba, rdist, point_to_node_lower_bound_rdist\n",
    "from sklearn.preprocessing import StandardScaler\n",
    "from collections import namedtuple\n",
    "from core.cluster_validation import get_linkage_matrix\n",
    "import umap"
   ]
  },
  {
   "cell_type": "code",
   "execution_count": 2,
   "id": "ae477b31-d3da-4089-855b-0a8ab615a853",
   "metadata": {},
   "outputs": [],
   "source": [
    "data = pd.read_parquet('../data/morphotopes_data_69333_100_3__median_gaussian.pq')\n",
    "sizes = data.iloc[:, -1]\n",
    "data = data.iloc[:, :-1]"
   ]
  },
  {
   "cell_type": "code",
   "execution_count": 3,
   "id": "4794aed7-4a5b-4b3d-bb94-f4d4ef27a7be",
   "metadata": {},
   "outputs": [],
   "source": [
    "vals = StandardScaler().fit_transform(data)\n",
    "component_data = pd.DataFrame(vals, columns=data.columns, index=data.index)\n",
    "component_data = component_data.drop(component_data.columns[component_data.std() == 0], axis=1)\n",
    "\n",
    "# component_data = component_data[component_data.index >= 0]\n",
    "vals = np.nan_to_num(component_data)\n",
    "component_data = pd.DataFrame(vals, columns=component_data.columns, index=component_data.index)"
   ]
  },
  {
   "cell_type": "code",
   "execution_count": null,
   "id": "c288a340-01c6-420f-8fe1-03a94b87e4fa",
   "metadata": {},
   "outputs": [],
   "source": []
  },
  {
   "cell_type": "code",
   "execution_count": 4,
   "id": "0d3e3c33-0509-4c54-85b3-2201940318c4",
   "metadata": {
    "scrolled": true
   },
   "outputs": [
    {
     "name": "stderr",
     "output_type": "stream",
     "text": [
      "/home/krasen/urban_taxonomy/.pixi/envs/default/lib/python3.12/site-packages/umap/umap_.py:1945: UserWarning: n_jobs value 1 overridden to 1 by setting random_state. Use no seed for parallelism.\n",
      "  warn(f\"n_jobs value {self.n_jobs} overridden to 1 by setting random_state. Use no seed for parallelism.\")\n"
     ]
    },
    {
     "name": "stdout",
     "output_type": "stream",
     "text": [
      "UMAP(min_dist=0, n_components=20, n_jobs=1, n_neighbors=10, negative_sample_rate=50, random_state=1, verbose=True)\n",
      "Thu Oct 10 17:17:22 2024 Construct fuzzy simplicial set\n",
      "Thu Oct 10 17:17:22 2024 Finding Nearest Neighbors\n",
      "Thu Oct 10 17:17:22 2024 Building RP forest with 8 trees\n",
      "Thu Oct 10 17:17:23 2024 NN descent for 12 iterations\n",
      "\t 1  /  12\n",
      "\t 2  /  12\n",
      "\t 3  /  12\n",
      "\t 4  /  12\n",
      "\t 5  /  12\n",
      "\tStopping threshold met -- exiting after 5 iterations\n",
      "Thu Oct 10 17:17:27 2024 Finished Nearest Neighbor Search\n",
      "Thu Oct 10 17:17:28 2024 Construct embedding\n"
     ]
    },
    {
     "data": {
      "application/vnd.jupyter.widget-view+json": {
       "model_id": "88801d234c914fd7ba10ffe90e35ea95",
       "version_major": 2,
       "version_minor": 0
      },
      "text/plain": [
       "Epochs completed:   0%|            0/500 [00:00]"
      ]
     },
     "metadata": {},
     "output_type": "display_data"
    },
    {
     "name": "stdout",
     "output_type": "stream",
     "text": [
      "\tcompleted  0  /  500 epochs\n",
      "\tcompleted  50  /  500 epochs\n",
      "\tcompleted  100  /  500 epochs\n",
      "\tcompleted  150  /  500 epochs\n",
      "\tcompleted  200  /  500 epochs\n",
      "\tcompleted  250  /  500 epochs\n",
      "\tcompleted  300  /  500 epochs\n",
      "\tcompleted  350  /  500 epochs\n",
      "\tcompleted  400  /  500 epochs\n",
      "\tcompleted  450  /  500 epochs\n",
      "Thu Oct 10 17:18:05 2024 Finished embedding\n"
     ]
    }
   ],
   "source": [
    "n_neighbors = 10\n",
    "umap_metric = 'euclidean'\n",
    "\n",
    "reducer = umap.UMAP(n_neighbors=n_neighbors, n_components=20, \n",
    "                    min_dist=0, negative_sample_rate=50, \n",
    "                    metric=umap_metric, verbose=True, random_state=1)\n",
    "\n",
    "embedding = reducer.fit_transform(component_data.values)"
   ]
  },
  {
   "cell_type": "code",
   "execution_count": 5,
   "id": "f5db7694-5946-4867-89f3-406e8c5ea8cc",
   "metadata": {},
   "outputs": [],
   "source": [
    "component_data = pd.DataFrame(embedding)"
   ]
  },
  {
   "cell_type": "code",
   "execution_count": null,
   "id": "3ccc649f-c17a-4812-95c4-6f594b5f6376",
   "metadata": {},
   "outputs": [],
   "source": []
  },
  {
   "cell_type": "code",
   "execution_count": null,
   "id": "f56c178f-ac40-4221-b141-8efd44e4cc36",
   "metadata": {},
   "outputs": [],
   "source": []
  },
  {
   "cell_type": "code",
   "execution_count": 6,
   "id": "12815615-c232-4c20-9249-4ddff946b886",
   "metadata": {},
   "outputs": [],
   "source": [
    "min_cluster_size = 500\n",
    "sample_weights = sizes.values.astype(np.float32)\n",
    "allow_single_cluster = False"
   ]
  },
  {
   "cell_type": "code",
   "execution_count": null,
   "id": "d08aa27c-f863-42ea-a83d-8ecc9a5698e8",
   "metadata": {},
   "outputs": [],
   "source": []
  },
  {
   "cell_type": "markdown",
   "id": "48f8cda7-3616-4ba3-89c2-315516aaf3ee",
   "metadata": {},
   "source": [
    "### weighted hsbcan"
   ]
  },
  {
   "cell_type": "code",
   "execution_count": 7,
   "id": "658c4f44-8509-4c7f-af95-176d02bac48b",
   "metadata": {},
   "outputs": [],
   "source": [
    "from fast_hdbscan.boruvka import parallel_boruvka\n",
    "from fast_hdbscan.cluster_trees import (mst_to_linkage_tree_w_sample_weights, \n",
    "condense_tree, cluster_tree_from_condensed_tree, extract_eom_clusters,\n",
    "get_cluster_label_vector, bfs_from_hierarchy, eliminate_branch, CondensedTree, score_condensed_tree_nodes, eom_recursion)\n",
    "from sklearn.neighbors import KDTree"
   ]
  },
  {
   "cell_type": "code",
   "execution_count": null,
   "id": "736f1d08-0caa-4ac1-a4ac-71d5fdc21b2c",
   "metadata": {},
   "outputs": [],
   "source": []
  },
  {
   "cell_type": "code",
   "execution_count": 8,
   "id": "47c2e8b0-9524-4e57-b451-543d7a190e3b",
   "metadata": {},
   "outputs": [],
   "source": [
    "# from fast_hdbscan import fast_hdbscan\n",
    "# res = fast_hdbscan(component_data.values, sample_weights=sample_weights.astype(np.float32), min_samples=min_cluster_size, min_cluster_size=min_cluster_size , return_trees=True)"
   ]
  },
  {
   "cell_type": "code",
   "execution_count": null,
   "id": "3e9634c4-7d97-43f5-a915-f8b9b7f1cfc1",
   "metadata": {},
   "outputs": [],
   "source": []
  },
  {
   "cell_type": "code",
   "execution_count": 9,
   "id": "f3aef614-965c-4f65-8b2e-b5c5df6b0751",
   "metadata": {},
   "outputs": [],
   "source": [
    "\n",
    "## hdbscan kdtree\n",
    "sklearn_tree = KDTree(component_data.values)\n",
    "numba_tree = kdtree_to_numba(sklearn_tree)\n",
    "\n",
    "edges = parallel_boruvka(\n",
    "    numba_tree,\n",
    "    min_samples=min_cluster_size,\n",
    "    sample_weights=sample_weights,\n",
    ")\n",
    "sorted_mst = edges[np.argsort(edges.T[2])]\n",
    "\n",
    "linkage_tree = mst_to_linkage_tree_w_sample_weights(sorted_mst, sample_weights)"
   ]
  },
  {
   "cell_type": "code",
   "execution_count": null,
   "id": "72b99ebd-7da8-409e-9650-62b3698f48f3",
   "metadata": {},
   "outputs": [],
   "source": []
  },
  {
   "cell_type": "code",
   "execution_count": 10,
   "id": "a5725561-471f-467c-a3c6-9f92f333d4b6",
   "metadata": {},
   "outputs": [],
   "source": [
    "### agglomerative clustering tree\n",
    "def get_linkage_matrix_sizes(model, sizes=None):\n",
    "    \"\"\"\" Create a linkage matrix from a sklearn hierarchical clustering model.\n",
    "    Requires the full tree and the distances stored in the model instance.\n",
    "    If sizes is None, by default every sample has weight 1\"\"\"\n",
    "\n",
    "    if sizes is None:\n",
    "        sizes = np.ones(model.labels_.shape[0])\n",
    "    \n",
    "    # create the counts of samples under each node\n",
    "    counts = np.zeros(model.children_.shape[0])\n",
    "    n_samples = len(model.labels_)\n",
    "    for i, merge in enumerate(model.children_):\n",
    "        current_count = 0\n",
    "        for child_idx in merge:\n",
    "            if child_idx < n_samples:\n",
    "                current_count += sizes[child_idx]  # leaf node\n",
    "            else:\n",
    "                current_count += counts[child_idx - n_samples]\n",
    "        counts[i] = current_count\n",
    "\n",
    "    linkage_matrix = np.column_stack(\n",
    "        [model.children_, model.distances_, counts]\n",
    "    ).astype(float)\n",
    "\n",
    "    return linkage_matrix"
   ]
  },
  {
   "cell_type": "code",
   "execution_count": 11,
   "id": "f9da992f-a945-44a9-b03c-7c9cb6bc4ba0",
   "metadata": {},
   "outputs": [],
   "source": [
    "# ### agglomerative clustering tree\n",
    "\n",
    "# linkage = 'ward'\n",
    "# metric = 'euclidean'\n",
    "# sklearn_linkage_structure = namedtuple('Model', ['children_', 'labels_', 'distances_'])\n",
    "\n",
    "\n",
    "\n",
    "\n",
    "\n",
    "\n",
    "# from sklearn.cluster import AgglomerativeClustering\n",
    "# clusterer = AgglomerativeClustering(linkage=linkage,\n",
    "#                                     metric=metric,\n",
    "#                                     compute_full_tree=True,\n",
    "#                                     compute_distances=True)\n",
    "# model = clusterer.fit(component_data.values)\n",
    "# linkage_tree = get_linkage_matrix_sizes(model, sizes=sample_weights)"
   ]
  },
  {
   "cell_type": "code",
   "execution_count": null,
   "id": "648beaaf-9798-4e9f-a53e-d9c472deafd7",
   "metadata": {},
   "outputs": [],
   "source": []
  },
  {
   "cell_type": "code",
   "execution_count": 12,
   "id": "8a0f81fb-5648-4685-9eba-d211636cea4b",
   "metadata": {},
   "outputs": [],
   "source": [
    "### tests against hdbscan linkage tree\n",
    "\n",
    "# m = sklearn_linkage_structure(linkage_tree[:, [0, 1]].astype(int),\n",
    "#                               np.ones(component_data.shape[0]),\n",
    "#                               linkage_tree[:, 2])\n",
    "\n",
    "# l = get_linkage_matrix_sizes(m, sizes=sample_weights)\n",
    "# assert np.allclose(l, linkage_tree)\n",
    "\n",
    "# l1 = get_linkage_matrix(model)\n",
    "# l2 = get_linkage_matrix_sizes(model)\n",
    "# assert np.allclose(l1, l2)"
   ]
  },
  {
   "cell_type": "code",
   "execution_count": null,
   "id": "35a3acb9-3852-474e-80a0-7f33a338a26b",
   "metadata": {},
   "outputs": [],
   "source": []
  },
  {
   "cell_type": "code",
   "execution_count": null,
   "id": "c9154894-8bae-4a04-8fe1-1edeea0433db",
   "metadata": {},
   "outputs": [],
   "source": []
  },
  {
   "cell_type": "code",
   "execution_count": null,
   "id": "601f4eb4-c747-44fc-a756-07ae2218131f",
   "metadata": {},
   "outputs": [],
   "source": []
  },
  {
   "cell_type": "code",
   "execution_count": null,
   "id": "70c7dbfd-c7d4-4027-b14c-54f60518e0d0",
   "metadata": {},
   "outputs": [],
   "source": []
  },
  {
   "cell_type": "code",
   "execution_count": 13,
   "id": "ccc2fd0d-98d0-4115-9fe3-7b1fd03deca7",
   "metadata": {},
   "outputs": [],
   "source": [
    "@numba.njit(fastmath=True)\n",
    "def condense_tree(hierarchy, min_cluster_size=10, bandwidth=1, sample_weights=None):\n",
    "    root = 2 * hierarchy.shape[0]\n",
    "    num_points = hierarchy.shape[0] + 1\n",
    "    next_label = num_points + 1\n",
    "\n",
    "    node_list = bfs_from_hierarchy(hierarchy, root, num_points)\n",
    "\n",
    "    relabel = np.zeros(root + 1, dtype=np.int64)\n",
    "    relabel[root] = num_points\n",
    "\n",
    "    parents = np.ones(root, dtype=np.int64)\n",
    "    children = np.empty(root, dtype=np.int64)\n",
    "    lambdas = np.empty(root, dtype=np.float32)\n",
    "    sizes = np.ones(root, dtype=np.int64)\n",
    "\n",
    "    ignore = np.zeros(root + 1, dtype=np.bool_) # 'bool' is no longer an attribute of 'numpy'\n",
    "\n",
    "    if sample_weights is None:\n",
    "        sample_weights = np.ones(num_points, dtype=np.float32)\n",
    "\n",
    "    idx = 0\n",
    "\n",
    "    for node in node_list:\n",
    "        if ignore[node] or node < num_points:\n",
    "            continue\n",
    "\n",
    "        parent_node = relabel[node]\n",
    "        l, r, d, _ = hierarchy[node - num_points]\n",
    "        left = np.int64(l)\n",
    "        right = np.int64(r)\n",
    "        if d > 0.0:\n",
    "            # gaussian lambda value\n",
    "            lambda_value = np.exp(-(((d / bandwidth) / 2) ** 2)) / (np.sqrt(2) * np.pi)\n",
    "            # lambda_value = 1.0 / d\n",
    "        else:\n",
    "            lambda_value = np.inf\n",
    "\n",
    "        left_count = np.int64(hierarchy[left - num_points, 3]) if left >= num_points else sample_weights[left]\n",
    "        right_count = np.int64(hierarchy[right - num_points, 3]) if right >= num_points else sample_weights[right]\n",
    "\n",
    "        # The logic here is in a strange order, but it has non-trivial performance gains ...\n",
    "        # The most common case by far is a singleton on the left; and cluster on the right take care of this separately\n",
    "        if left < num_points and right_count >= min_cluster_size:\n",
    "            relabel[right] = parent_node\n",
    "            parents[idx] = parent_node\n",
    "            children[idx] = left\n",
    "            lambdas[idx] = lambda_value\n",
    "            idx += 1\n",
    "        # Next most common is a small left cluster and a large right cluster: relabel the right node; eliminate the left branch\n",
    "        elif left_count < min_cluster_size and right_count >= min_cluster_size:\n",
    "            relabel[right] = parent_node\n",
    "            idx = eliminate_branch(left, parent_node, lambda_value, parents, children, lambdas, sizes, idx, ignore,\n",
    "                                   hierarchy, num_points)\n",
    "        # Then we have a large left cluster and a small right cluster: relabel the left node; elimiate the right branch\n",
    "        elif left_count >= min_cluster_size and right_count < min_cluster_size:\n",
    "            relabel[left] = parent_node\n",
    "            idx = eliminate_branch(right, parent_node, lambda_value, parents, children, lambdas, sizes, idx, ignore,\n",
    "                                   hierarchy, num_points)\n",
    "        # If both clusters are small then eliminate all branches\n",
    "        elif left_count < min_cluster_size and right_count < min_cluster_size:\n",
    "            idx = eliminate_branch(left, parent_node, lambda_value, parents, children, lambdas, sizes, idx, ignore,\n",
    "                                   hierarchy, num_points)\n",
    "            idx = eliminate_branch(right, parent_node, lambda_value, parents, children, lambdas, sizes, idx, ignore,\n",
    "                                   hierarchy, num_points)\n",
    "        # and finally if we actually have a legitimate cluster split, handle that correctly\n",
    "        else:\n",
    "            relabel[left] = next_label\n",
    "\n",
    "            parents[idx] = parent_node\n",
    "            children[idx] = next_label\n",
    "            lambdas[idx] = lambda_value\n",
    "            sizes[idx] = left_count\n",
    "            next_label += 1\n",
    "            idx += 1\n",
    "\n",
    "            relabel[right] = next_label\n",
    "\n",
    "            parents[idx] = parent_node\n",
    "            children[idx] = next_label\n",
    "            lambdas[idx] = lambda_value\n",
    "            sizes[idx] = right_count\n",
    "            next_label += 1\n",
    "            idx += 1\n",
    "\n",
    "    return CondensedTree(parents[:idx], children[:idx], lambdas[:idx], sizes[:idx])"
   ]
  },
  {
   "cell_type": "code",
   "execution_count": 14,
   "id": "565e1012-43cc-4958-9a06-55c307a10b4d",
   "metadata": {},
   "outputs": [
    {
     "data": {
      "text/plain": [
       "np.float64(0.1183077524000268)"
      ]
     },
     "execution_count": 14,
     "metadata": {},
     "output_type": "execute_result"
    }
   ],
   "source": [
    "from scipy.stats import gaussian_kde\n",
    "e = gaussian_kde(sorted_mst[:, 2])\n",
    "f = e.covariance_factor()\n",
    "bw = f * linkage_tree[:, 2].std()\n",
    "bw"
   ]
  },
  {
   "cell_type": "code",
   "execution_count": 15,
   "id": "afb66476-1e16-4988-8f74-39fe12b706d3",
   "metadata": {},
   "outputs": [],
   "source": [
    "condensed_tree = condense_tree(linkage_tree, \n",
    "                               min_cluster_size=min_cluster_size,\n",
    "                               bandwidth=.12,\n",
    "                               sample_weights=sample_weights)"
   ]
  },
  {
   "cell_type": "code",
   "execution_count": 16,
   "id": "ed1506a1-9483-42ad-aa73-4ff34dd40db8",
   "metadata": {},
   "outputs": [],
   "source": [
    "cluster_tree = cluster_tree_from_condensed_tree(condensed_tree)"
   ]
  },
  {
   "cell_type": "code",
   "execution_count": 17,
   "id": "3c36bd1f-3b9f-44b1-bf31-28c7b58de32c",
   "metadata": {},
   "outputs": [],
   "source": [
    "@numba.njit()\n",
    "def score_condensed_tree_nodes(condensed_tree):\n",
    "    result = {0: np.float64(0.0) for i in range(0)}\n",
    "\n",
    "    for i in range(condensed_tree.parent.shape[0]):\n",
    "        parent = condensed_tree.parent[i]\n",
    "        if parent in result:\n",
    "            result[parent] += condensed_tree.lambda_val[i] * condensed_tree.child_size[i]\n",
    "        else:\n",
    "            result[parent] = condensed_tree.lambda_val[i] * condensed_tree.child_size[i]\n",
    "\n",
    "        if condensed_tree.child_size[i] > 1:\n",
    "            child = condensed_tree.child[i]\n",
    "            if child in result:\n",
    "                result[child] -= condensed_tree.lambda_val[i] * condensed_tree.child_size[i]\n",
    "            else:\n",
    "                result[child] = -condensed_tree.lambda_val[i] * condensed_tree.child_size[i]\n",
    "\n",
    "    return result\n",
    "\n",
    "@numba.njit()\n",
    "def extract_eom_clusters(condensed_tree, cluster_tree, allow_single_cluster=False):\n",
    "    node_scores = score_condensed_tree_nodes(condensed_tree)\n",
    "    selected_clusters = {node: False for node in node_scores}\n",
    "\n",
    "    if len(cluster_tree.parent) == 0:\n",
    "        return np.zeros(0, dtype=np.int64)\n",
    "\n",
    "    cluster_tree_root = cluster_tree.parent.min()\n",
    "\n",
    "    if allow_single_cluster:\n",
    "        eom_recursion(cluster_tree_root, cluster_tree, node_scores, selected_clusters)\n",
    "    elif len(node_scores) > 1:\n",
    "        root_children = cluster_tree.child[cluster_tree.parent == cluster_tree_root]\n",
    "        for child_node in root_children:\n",
    "            eom_recursion(child_node, cluster_tree, node_scores, selected_clusters)\n",
    "\n",
    "    return np.asarray([node for node, selected in selected_clusters.items() if selected])"
   ]
  },
  {
   "cell_type": "code",
   "execution_count": 18,
   "id": "926ca29b-9393-444d-bbea-c350199b2080",
   "metadata": {},
   "outputs": [
    {
     "data": {
      "text/plain": [
       "-1     1723\n",
       " 15     354\n",
       " 18     161\n",
       " 17     140\n",
       " 11     105\n",
       "       ... \n",
       " 72       5\n",
       " 24       4\n",
       " 65       4\n",
       " 9        4\n",
       " 40       4\n",
       "Name: count, Length: 80, dtype: int64"
      ]
     },
     "execution_count": 18,
     "metadata": {},
     "output_type": "execute_result"
    }
   ],
   "source": [
    "selected_clusters = extract_eom_clusters(condensed_tree, cluster_tree, allow_single_cluster=allow_single_cluster)\n",
    "clusters = get_cluster_label_vector(\n",
    "        condensed_tree,\n",
    "        selected_clusters,\n",
    "        0,\n",
    "        n_samples=data.shape[0],\n",
    "    )\n",
    "pd.Series(clusters).value_counts()"
   ]
  },
  {
   "cell_type": "code",
   "execution_count": null,
   "id": "8eca7ebe-9046-4f29-b905-1a9255562ac4",
   "metadata": {},
   "outputs": [],
   "source": []
  },
  {
   "cell_type": "code",
   "execution_count": null,
   "id": "38b6dccb-1712-4c6f-9f52-c4b6aace80de",
   "metadata": {},
   "outputs": [],
   "source": []
  },
  {
   "cell_type": "code",
   "execution_count": 19,
   "id": "b2168a58-2ccf-46c9-a3e1-aff765dd7fae",
   "metadata": {},
   "outputs": [],
   "source": [
    "morphotopes = gpd.read_parquet('../data/morphotopes_69333_100_3__median_gaussian.pq')"
   ]
  },
  {
   "cell_type": "code",
   "execution_count": 20,
   "id": "7e5d847f-7039-498b-b448-f4c9ce34824f",
   "metadata": {},
   "outputs": [],
   "source": [
    "morphotopes['cluster'] = clusters"
   ]
  },
  {
   "cell_type": "code",
   "execution_count": 158,
   "id": "c3da8895-5cc2-4e56-a4f4-836a985a7437",
   "metadata": {},
   "outputs": [],
   "source": [
    "# layer.get_fill_color = get_color(morphotopes.cluster)"
   ]
  },
  {
   "cell_type": "code",
   "execution_count": null,
   "id": "747749d1-7f91-43c8-bf42-f58d7d38f108",
   "metadata": {},
   "outputs": [],
   "source": []
  },
  {
   "cell_type": "code",
   "execution_count": null,
   "id": "e125ee5b-94d7-4aed-8551-b25d54899d8b",
   "metadata": {},
   "outputs": [],
   "source": []
  },
  {
   "cell_type": "code",
   "execution_count": 21,
   "id": "c74c8a28-663a-44a5-9425-194b46dd48ec",
   "metadata": {},
   "outputs": [
    {
     "name": "stderr",
     "output_type": "stream",
     "text": [
      "/home/krasen/urban_taxonomy/.pixi/envs/default/lib/python3.12/site-packages/lonboard/_geoarrow/ops/reproject.py:97: UserWarning: Input being reprojected to EPSG:4326 CRS\n",
      "  warnings.warn(\"Input being reprojected to EPSG:4326 CRS\")\n"
     ]
    },
    {
     "name": "stdout",
     "output_type": "stream",
     "text": [
      "CPU times: user 235 ms, sys: 39 ms, total: 274 ms\n",
      "Wall time: 273 ms\n"
     ]
    }
   ],
   "source": [
    "%%time\n",
    "import lonboard\n",
    "# plotting = tessellation[tessellation.index.isin(X_train.index)].copy()\n",
    "layer = lonboard.SolidPolygonLayer.from_geopandas(morphotopes, opacity=.08)"
   ]
  },
  {
   "cell_type": "code",
   "execution_count": 22,
   "id": "5469f35b-93c9-4aaf-bdd8-395deeb83d3f",
   "metadata": {},
   "outputs": [],
   "source": [
    "from sidecar import Sidecar\n",
    "sc = Sidecar(title='Final Clusters')\n",
    "m = lonboard.Map(layer, basemap_style=lonboard.basemap.CartoBasemap.Positron)\n",
    "with sc:\n",
    "    display(m)"
   ]
  },
  {
   "cell_type": "code",
   "execution_count": 23,
   "id": "457dac1d-11b0-4e85-aa5a-1db0d452bbca",
   "metadata": {},
   "outputs": [],
   "source": [
    "from core.cluster_validation import get_color\n",
    "layer.get_fill_color = get_color(morphotopes.cluster)"
   ]
  },
  {
   "cell_type": "code",
   "execution_count": null,
   "id": "c85007ea-fb12-476a-91eb-b14aa6b5beda",
   "metadata": {},
   "outputs": [],
   "source": []
  },
  {
   "cell_type": "code",
   "execution_count": null,
   "id": "9bb3482e-6b80-4a3a-91b6-9ec7dcaac6c3",
   "metadata": {},
   "outputs": [],
   "source": []
  },
  {
   "cell_type": "code",
   "execution_count": null,
   "id": "f9c39456-4c6a-4abd-aad9-29505f4a28ba",
   "metadata": {},
   "outputs": [],
   "source": []
  },
  {
   "cell_type": "code",
   "execution_count": null,
   "id": "46bebc70-e04e-43a0-96eb-d7e11b879f3e",
   "metadata": {},
   "outputs": [],
   "source": []
  },
  {
   "cell_type": "code",
   "execution_count": null,
   "id": "c36f9105-3f6f-42ba-a6d0-f7d9b4829a79",
   "metadata": {},
   "outputs": [],
   "source": []
  },
  {
   "cell_type": "code",
   "execution_count": null,
   "id": "0b527267-87ba-468e-ad6c-779ffff27681",
   "metadata": {},
   "outputs": [],
   "source": []
  },
  {
   "cell_type": "markdown",
   "id": "1f62167b-1d94-4ddf-af9f-30fc3acf4a7d",
   "metadata": {},
   "source": [
    "### Tree plotting"
   ]
  },
  {
   "cell_type": "code",
   "execution_count": 284,
   "id": "30dcb78b-c329-4311-bfef-b333622da496",
   "metadata": {},
   "outputs": [],
   "source": [
    "# ct_raw = np.rec.fromarrays((ct[0], ct[1], ct[2], ct[3]),\n",
    "#          dtype=[(' parent', np.intp),('child', np.intp),('lambda_val', float),('child_size', np.intp)])"
   ]
  },
  {
   "cell_type": "code",
   "execution_count": null,
   "id": "85dd7c16-0c4c-41c0-8820-dfb4f013a7ad",
   "metadata": {},
   "outputs": [],
   "source": []
  },
  {
   "cell_type": "code",
   "execution_count": 26,
   "id": "4b1626f3-ad21-4a0f-9d21-cf6bdda0b57f",
   "metadata": {},
   "outputs": [],
   "source": [
    "from hdbscan.plots import SingleLinkageTree\n",
    "import matplotlib.pyplot as plt"
   ]
  },
  {
   "cell_type": "code",
   "execution_count": 31,
   "id": "8a284fa9-a291-4f0f-be4d-f80ad0ee260c",
   "metadata": {},
   "outputs": [
    {
     "data": {
      "text/plain": [
       "<Axes: ylabel='distance'>"
      ]
     },
     "execution_count": 31,
     "metadata": {},
     "output_type": "execute_result"
    },
    {
     "data": {
      "image/png": "[encoded data removed]",
      "text/plain": [
       "<Figure size 2000x1000 with 2 Axes>"
      ]
     },
     "metadata": {},
     "output_type": "display_data"
    }
   ],
   "source": [
    "fig, ax = plt.subplots(figsize=(20,10))\n",
    "SingleLinkageTree(linkage_tree).plot(axis=ax, truncate_mode='lastp', p=300)"
   ]
  },
  {
   "cell_type": "code",
   "execution_count": null,
   "id": "8af12812-f683-4e32-b6fc-58a22bbe851e",
   "metadata": {},
   "outputs": [],
   "source": []
  }
 ],
 "metadata": {
  "kernelspec": {
   "display_name": "Python 3 (ipykernel)",
   "language": "python",
   "name": "python3"
  },
  "language_info": {
   "codemirror_mode": {
    "name": "ipython",
    "version": 3
   },
   "file_extension": ".py",
   "mimetype": "text/x-python",
   "name": "python",
   "nbconvert_exporter": "python",
   "pygments_lexer": "ipython3",
   "version": "3.12.5"
  }
 },
 "nbformat": 4,
 "nbformat_minor": 5
}
