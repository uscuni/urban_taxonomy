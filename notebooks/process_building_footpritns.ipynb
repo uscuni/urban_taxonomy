{
 "cells": [
  {
   "cell_type": "code",
   "execution_count": 8,
   "id": "4254b00d-e38b-4b20-a42f-8fca076cbfa4",
   "metadata": {},
   "outputs": [],
   "source": [
    "import geopandas as gpd\n",
    "from glob import glob\n",
    "import pandas as pd\n",
    "DATADIR = '/data/uscuni-ulce/cadastre_buildings_raw/'"
   ]
  },
  {
   "cell_type": "code",
   "execution_count": null,
   "id": "f9330982-88ae-4f00-b735-b35bdf6b1956",
   "metadata": {},
   "outputs": [],
   "source": []
  },
  {
   "cell_type": "code",
   "execution_count": 25,
   "id": "4160e510-012a-4aa0-9202-dbf1618ed597",
   "metadata": {},
   "outputs": [],
   "source": [
    "regions = [\n",
    "    \n",
    "\"buildings_austria_*\",\n",
    "\"buildings_slovakia_*\",\n",
    "\"buildings_poland_*\",\n",
    "\"buildings_czechia_*\",\n",
    "'buildings_germany_sg*',\n",
    "]"
   ]
  },
  {
   "cell_type": "code",
   "execution_count": 31,
   "id": "af5f6c40-6223-4cdd-b2ab-8309ce6809ea",
   "metadata": {},
   "outputs": [
    {
     "data": {
      "text/plain": [
       "'buildings_poland_*'"
      ]
     },
     "execution_count": 31,
     "metadata": {},
     "output_type": "execute_result"
    }
   ],
   "source": [
    "region = regions[2]\n",
    "region"
   ]
  },
  {
   "cell_type": "code",
   "execution_count": 32,
   "id": "04b3d09e-4ef6-49d0-845f-1e7c028a46fd",
   "metadata": {
    "scrolled": true
   },
   "outputs": [],
   "source": [
    "files = glob(DATADIR + region)"
   ]
  },
  {
   "cell_type": "code",
   "execution_count": 36,
   "id": "2abaadd0-06bd-4050-8372-34d9d6cc55df",
   "metadata": {},
   "outputs": [
    {
     "data": {
      "text/plain": [
       "['/data/uscuni-ulce/eubucco_raw/v0_1-CZE_5.gpkg',\n",
       " '/data/uscuni-ulce/eubucco_raw/v0_1-CZE_4.gpkg',\n",
       " '/data/uscuni-ulce/eubucco_raw/v0_1-CZE_2.gpkg',\n",
       " '/data/uscuni-ulce/eubucco_raw/v0_1-CZE_9.gpkg',\n",
       " '/data/uscuni-ulce/eubucco_raw/v0_1-CZE_12.gpkg',\n",
       " '/data/uscuni-ulce/eubucco_raw/v0_1-CZE_1.gpkg',\n",
       " '/data/uscuni-ulce/eubucco_raw/v0_1-CZE_3.gpkg',\n",
       " '/data/uscuni-ulce/eubucco_raw/v0_1-CZE_8.gpkg',\n",
       " '/data/uscuni-ulce/eubucco_raw/v0_1-CZE_6.gpkg',\n",
       " '/data/uscuni-ulce/eubucco_raw/v0_1-CZE_7.gpkg',\n",
       " '/data/uscuni-ulce/eubucco_raw/v0_1-CZE_14.gpkg',\n",
       " '/data/uscuni-ulce/eubucco_raw/v0_1-CZE_11.gpkg',\n",
       " '/data/uscuni-ulce/eubucco_raw/v0_1-CZE_13.gpkg',\n",
       " '/data/uscuni-ulce/eubucco_raw/v0_1-CZE_10.gpkg']"
      ]
     },
     "execution_count": 36,
     "metadata": {},
     "output_type": "execute_result"
    }
   ],
   "source": [
    "files = glob('/data/uscuni-ulce/eubucco_raw/v0_1-CZE_*')\n",
    "files"
   ]
  },
  {
   "cell_type": "code",
   "execution_count": 38,
   "id": "cd910743-8ab0-46ae-b57b-e76f315e98b0",
   "metadata": {},
   "outputs": [],
   "source": [
    "frames = []\n",
    "for f in files:\n",
    "    frames.append(gpd.read_file(f).to_crs(epsg=3035))"
   ]
  },
  {
   "cell_type": "code",
   "execution_count": 39,
   "id": "ea35cc63-5e6d-48ef-8e87-4e3fe4329914",
   "metadata": {},
   "outputs": [],
   "source": [
    "gdf = pd.concat(frames, ignore_index=True)"
   ]
  },
  {
   "cell_type": "code",
   "execution_count": null,
   "id": "553e408e-d489-4045-8bee-4afbfc447e60",
   "metadata": {},
   "outputs": [],
   "source": []
  },
  {
   "cell_type": "code",
   "execution_count": 40,
   "id": "28c10a43-7cef-48c4-b375-f7edfc9535ba",
   "metadata": {},
   "outputs": [
    {
     "data": {
      "text/html": [
       "<div>\n",
       "<style scoped>\n",
       "    .dataframe tbody tr th:only-of-type {\n",
       "        vertical-align: middle;\n",
       "    }\n",
       "\n",
       "    .dataframe tbody tr th {\n",
       "        vertical-align: top;\n",
       "    }\n",
       "\n",
       "    .dataframe thead th {\n",
       "        text-align: right;\n",
       "    }\n",
       "</style>\n",
       "<table border=\"1\" class=\"dataframe\">\n",
       "  <thead>\n",
       "    <tr style=\"text-align: right;\">\n",
       "      <th></th>\n",
       "      <th>id</th>\n",
       "      <th>height</th>\n",
       "      <th>age</th>\n",
       "      <th>type</th>\n",
       "      <th>id_source</th>\n",
       "      <th>type_source</th>\n",
       "      <th>geometry</th>\n",
       "    </tr>\n",
       "  </thead>\n",
       "  <tbody>\n",
       "    <tr>\n",
       "      <th>0</th>\n",
       "      <td>v0.1-CZE.5.1_1-0</td>\n",
       "      <td>NaN</td>\n",
       "      <td>NaN</td>\n",
       "      <td>residential</td>\n",
       "      <td>BU.8871911</td>\n",
       "      <td>Residential</td>\n",
       "      <td>POLYGON ((4725004.132 3017519.374, 4725002.722...</td>\n",
       "    </tr>\n",
       "    <tr>\n",
       "      <th>1</th>\n",
       "      <td>v0.1-CZE.5.1_1-1</td>\n",
       "      <td>NaN</td>\n",
       "      <td>NaN</td>\n",
       "      <td>non-residential</td>\n",
       "      <td>BU.14103184</td>\n",
       "      <td>Ancillary</td>\n",
       "      <td>POLYGON ((4725215.032 3017531.944, 4725224.87 ...</td>\n",
       "    </tr>\n",
       "    <tr>\n",
       "      <th>2</th>\n",
       "      <td>v0.1-CZE.5.1_1-2</td>\n",
       "      <td>NaN</td>\n",
       "      <td>NaN</td>\n",
       "      <td>residential</td>\n",
       "      <td>BU.8871915</td>\n",
       "      <td>Residential</td>\n",
       "      <td>POLYGON ((4725003.576 3017533.605, 4725007.348...</td>\n",
       "    </tr>\n",
       "    <tr>\n",
       "      <th>3</th>\n",
       "      <td>v0.1-CZE.5.1_1-3</td>\n",
       "      <td>NaN</td>\n",
       "      <td>NaN</td>\n",
       "      <td>residential</td>\n",
       "      <td>BU.8871888</td>\n",
       "      <td>Residential</td>\n",
       "      <td>POLYGON ((4725186.624 3017446.357, 4725190.771...</td>\n",
       "    </tr>\n",
       "    <tr>\n",
       "      <th>4</th>\n",
       "      <td>v0.1-CZE.5.1_1-4</td>\n",
       "      <td>NaN</td>\n",
       "      <td>NaN</td>\n",
       "      <td>residential</td>\n",
       "      <td>BU.8871967</td>\n",
       "      <td>Residential</td>\n",
       "      <td>POLYGON ((4725197.913 3017456.225, 4725206.617...</td>\n",
       "    </tr>\n",
       "    <tr>\n",
       "      <th>...</th>\n",
       "      <td>...</td>\n",
       "      <td>...</td>\n",
       "      <td>...</td>\n",
       "      <td>...</td>\n",
       "      <td>...</td>\n",
       "      <td>...</td>\n",
       "      <td>...</td>\n",
       "    </tr>\n",
       "    <tr>\n",
       "      <th>4044654</th>\n",
       "      <td>v0.1-CZE.10.7_1-24924</td>\n",
       "      <td>NaN</td>\n",
       "      <td>NaN</td>\n",
       "      <td>non-residential</td>\n",
       "      <td>BU.11251518</td>\n",
       "      <td>Ancillary</td>\n",
       "      <td>POLYGON ((4541082.33 2973262.253, 4541080.117 ...</td>\n",
       "    </tr>\n",
       "    <tr>\n",
       "      <th>4044655</th>\n",
       "      <td>v0.1-CZE.10.7_1-24925</td>\n",
       "      <td>NaN</td>\n",
       "      <td>NaN</td>\n",
       "      <td>non-residential</td>\n",
       "      <td>BU.14569294</td>\n",
       "      <td>Industrial</td>\n",
       "      <td>POLYGON ((4539862.922 2971657.981, 4539857.391...</td>\n",
       "    </tr>\n",
       "    <tr>\n",
       "      <th>4044656</th>\n",
       "      <td>v0.1-CZE.10.7_1-24926</td>\n",
       "      <td>NaN</td>\n",
       "      <td>NaN</td>\n",
       "      <td>non-residential</td>\n",
       "      <td>BU.10756939</td>\n",
       "      <td>Agriculture</td>\n",
       "      <td>POLYGON ((4539957.575 2971670.476, 4539956.084...</td>\n",
       "    </tr>\n",
       "    <tr>\n",
       "      <th>4044657</th>\n",
       "      <td>v0.1-CZE.10.7_1-24927</td>\n",
       "      <td>NaN</td>\n",
       "      <td>NaN</td>\n",
       "      <td>non-residential</td>\n",
       "      <td>BU.12785512</td>\n",
       "      <td>Ancillary</td>\n",
       "      <td>POLYGON ((4538736.754 2972328.35, 4538739.952 ...</td>\n",
       "    </tr>\n",
       "    <tr>\n",
       "      <th>4044658</th>\n",
       "      <td>v0.1-CZE.10.7_1-24928</td>\n",
       "      <td>NaN</td>\n",
       "      <td>NaN</td>\n",
       "      <td>non-residential</td>\n",
       "      <td>BU.13487278</td>\n",
       "      <td>PublicServices</td>\n",
       "      <td>POLYGON ((4542103.36 2972473.164, 4542099.51 2...</td>\n",
       "    </tr>\n",
       "  </tbody>\n",
       "</table>\n",
       "<p>4044659 rows × 7 columns</p>\n",
       "</div>"
      ],
      "text/plain": [
       "                            id  height  age             type    id_source  \\\n",
       "0             v0.1-CZE.5.1_1-0     NaN  NaN      residential   BU.8871911   \n",
       "1             v0.1-CZE.5.1_1-1     NaN  NaN  non-residential  BU.14103184   \n",
       "2             v0.1-CZE.5.1_1-2     NaN  NaN      residential   BU.8871915   \n",
       "3             v0.1-CZE.5.1_1-3     NaN  NaN      residential   BU.8871888   \n",
       "4             v0.1-CZE.5.1_1-4     NaN  NaN      residential   BU.8871967   \n",
       "...                        ...     ...  ...              ...          ...   \n",
       "4044654  v0.1-CZE.10.7_1-24924     NaN  NaN  non-residential  BU.11251518   \n",
       "4044655  v0.1-CZE.10.7_1-24925     NaN  NaN  non-residential  BU.14569294   \n",
       "4044656  v0.1-CZE.10.7_1-24926     NaN  NaN  non-residential  BU.10756939   \n",
       "4044657  v0.1-CZE.10.7_1-24927     NaN  NaN  non-residential  BU.12785512   \n",
       "4044658  v0.1-CZE.10.7_1-24928     NaN  NaN  non-residential  BU.13487278   \n",
       "\n",
       "            type_source                                           geometry  \n",
       "0           Residential  POLYGON ((4725004.132 3017519.374, 4725002.722...  \n",
       "1             Ancillary  POLYGON ((4725215.032 3017531.944, 4725224.87 ...  \n",
       "2           Residential  POLYGON ((4725003.576 3017533.605, 4725007.348...  \n",
       "3           Residential  POLYGON ((4725186.624 3017446.357, 4725190.771...  \n",
       "4           Residential  POLYGON ((4725197.913 3017456.225, 4725206.617...  \n",
       "...                 ...                                                ...  \n",
       "4044654       Ancillary  POLYGON ((4541082.33 2973262.253, 4541080.117 ...  \n",
       "4044655      Industrial  POLYGON ((4539862.922 2971657.981, 4539857.391...  \n",
       "4044656     Agriculture  POLYGON ((4539957.575 2971670.476, 4539956.084...  \n",
       "4044657       Ancillary  POLYGON ((4538736.754 2972328.35, 4538739.952 ...  \n",
       "4044658  PublicServices  POLYGON ((4542103.36 2972473.164, 4542099.51 2...  \n",
       "\n",
       "[4044659 rows x 7 columns]"
      ]
     },
     "execution_count": 40,
     "metadata": {},
     "output_type": "execute_result"
    }
   ],
   "source": [
    "gdf"
   ]
  },
  {
   "cell_type": "code",
   "execution_count": null,
   "id": "e0613332-ab2b-45eb-8b05-9f0397816852",
   "metadata": {},
   "outputs": [],
   "source": []
  },
  {
   "cell_type": "code",
   "execution_count": null,
   "id": "2cede520-e7de-410f-a496-a5ece7f775aa",
   "metadata": {},
   "outputs": [],
   "source": []
  },
  {
   "cell_type": "code",
   "execution_count": null,
   "id": "fa8fa7c3-1c8d-4974-af64-b94f0fa9ef26",
   "metadata": {},
   "outputs": [],
   "source": []
  }
 ],
 "metadata": {
  "kernelspec": {
   "display_name": "Python 3 (ipykernel)",
   "language": "python",
   "name": "python3"
  },
  "language_info": {
   "codemirror_mode": {
    "name": "ipython",
    "version": 3
   },
   "file_extension": ".py",
   "mimetype": "text/x-python",
   "name": "python",
   "nbconvert_exporter": "python",
   "pygments_lexer": "ipython3",
   "version": "3.12.4"
  }
 },
 "nbformat": 4,
 "nbformat_minor": 5
}
