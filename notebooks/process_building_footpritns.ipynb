{
 "cells": [
  {
   "cell_type": "code",
   "execution_count": 1,
   "id": "4254b00d-e38b-4b20-a42f-8fca076cbfa4",
   "metadata": {},
   "outputs": [],
   "source": [
    "import geopandas as gpd\n",
    "from glob import glob\n",
    "import pandas as pd\n",
    "DATADIR = '/data/uscuni-ulce/cadastre_buildings_raw/'"
   ]
  },
  {
   "cell_type": "code",
   "execution_count": null,
   "id": "f9330982-88ae-4f00-b735-b35bdf6b1956",
   "metadata": {},
   "outputs": [],
   "source": []
  },
  {
   "cell_type": "code",
   "execution_count": 2,
   "id": "4160e510-012a-4aa0-9202-dbf1618ed597",
   "metadata": {},
   "outputs": [],
   "source": [
    "regions = [\n",
    "    \n",
    "# \"buildings_austria*\",\n",
    "# \"buildings_slovakia*\",\n",
    "# \"buildings_poland*\",\n",
    "# \"buildings_czechia*\",\n",
    "]"
   ]
  },
  {
   "cell_type": "code",
   "execution_count": 3,
   "id": "0abbd08e-1da1-46bc-8c32-4324cb405f04",
   "metadata": {},
   "outputs": [],
   "source": [
    "eubucco_regions = [\n",
    "    # '/data/uscuni-ulce/eubucco_raw/v0_1-AUT*',\n",
    "    # '/data/uscuni-ulce/eubucco_raw/v0_1-SVK*',\n",
    "    # '/data/uscuni-ulce/eubucco_raw/v0_1-POL*',\n",
    "    # '/data/uscuni-ulce/eubucco_raw/v0_1-CZE*',\n",
    "]\n"
   ]
  },
  {
   "cell_type": "code",
   "execution_count": null,
   "id": "af5f6c40-6223-4cdd-b2ab-8309ce6809ea",
   "metadata": {},
   "outputs": [],
   "source": []
  },
  {
   "cell_type": "code",
   "execution_count": 11,
   "id": "04b3d09e-4ef6-49d0-845f-1e7c028a46fd",
   "metadata": {
    "scrolled": true
   },
   "outputs": [
    {
     "name": "stderr",
     "output_type": "stream",
     "text": [
      "/tmp/ipykernel_108951/1962546803.py:9: FutureWarning: The behavior of DataFrame concatenation with empty or all-NA entries is deprecated. In a future version, this will no longer exclude empty or all-NA columns when determining the result dtypes. To retain the old behavior, exclude the relevant entries before the concat operation.\n",
      "  gdf = pd.concat(frames, ignore_index=True)\n"
     ]
    },
    {
     "name": "stdout",
     "output_type": "stream",
     "text": [
      "(1746587, 7) (43644887, 7)\n"
     ]
    }
   ],
   "source": [
    "for region, eubucco_region in zip(regions, eubucco_regions):\n",
    "    \n",
    "    files = glob(DATADIR + region)\n",
    "    frames = []\n",
    "    for f in files:\n",
    "        gdf = gpd.read_parquet(f)\n",
    "        if gdf.shape[0]:\n",
    "            frames.append(gdf.to_crs(epsg=3035))\n",
    "    gdf = pd.concat(frames, ignore_index=True)\n",
    "\n",
    "\n",
    "    files = glob(eubucco_region)\n",
    "    frames = []\n",
    "    for f in files:\n",
    "        gdf = gpd.read_file(f)\n",
    "        if gdf.shape[0]:\n",
    "            frames.append(gdf)\n",
    "    eubucco_gdf = pd.concat(frames, ignore_index=True)\n",
    "\n",
    "    print(gdf.shape, eubucco_gdf.shape)"
   ]
  },
  {
   "cell_type": "code",
   "execution_count": 5,
   "id": "cd910743-8ab0-46ae-b57b-e76f315e98b0",
   "metadata": {},
   "outputs": [
    {
     "data": {
      "text/plain": [
       "'/data/uscuni-ulce/cadastre_buildings_raw/buildings_germany_th_2900000.pq'"
      ]
     },
     "execution_count": 5,
     "metadata": {},
     "output_type": "execute_result"
    }
   ],
   "source": [
    "f"
   ]
  },
  {
   "cell_type": "code",
   "execution_count": 50,
   "id": "ea35cc63-5e6d-48ef-8e87-4e3fe4329914",
   "metadata": {},
   "outputs": [],
   "source": [
    "# (4427904, 30) (4135733, 7)\n",
    "# (3563020, 31) (3488125, 7)\n",
    "# (15387645, 14) (14404767, 7)\n",
    "# (4274434, 36) (4044659, 7)"
   ]
  },
  {
   "cell_type": "code",
   "execution_count": null,
   "id": "28c10a43-7cef-48c4-b375-f7edfc9535ba",
   "metadata": {},
   "outputs": [],
   "source": []
  },
  {
   "cell_type": "code",
   "execution_count": 264,
   "id": "16468266-79a1-4a01-95cf-9875f3b2061e",
   "metadata": {},
   "outputs": [],
   "source": []
  },
  {
   "cell_type": "code",
   "execution_count": null,
   "id": "816accbd-48f9-45b6-85fd-5d1a5b5e7935",
   "metadata": {},
   "outputs": [],
   "source": []
  },
  {
   "cell_type": "code",
   "execution_count": null,
   "id": "c38ea605-3e0a-4711-ac2a-a5329fd437aa",
   "metadata": {},
   "outputs": [],
   "source": []
  },
  {
   "cell_type": "code",
   "execution_count": null,
   "id": "e0613332-ab2b-45eb-8b05-9f0397816852",
   "metadata": {},
   "outputs": [],
   "source": [
    "# bad - hessen(broken counts), mv(continue from where it broke), sachsen-anhalt ( wrooong), th (wroong)\n",
    "## sh(schesig hollstein is sg)"
   ]
  },
  {
   "cell_type": "code",
   "execution_count": 230,
   "id": "fcbed339-eb25-4d42-957f-5e3d1feaf9b0",
   "metadata": {},
   "outputs": [
    {
     "data": {
      "text/plain": [
       "16"
      ]
     },
     "execution_count": 230,
     "metadata": {},
     "output_type": "execute_result"
    }
   ],
   "source": [
    "ger_eubucco = '/data/uscuni-ulce/eubucco_raw/v0_1-DEU_*'\n",
    "ger_regions = ['bavaria', 'brandeburg', 'bw', 'hessen', 'mv',\n",
    "       'nrw', 'rlp', 'saarland', 'sachsen', 'sachsen-anhalt', 'sg', \n",
    "       'th', 'ni', 'bremen', 'hamburg', 'berlin']\n",
    "len(ger_regions)"
   ]
  },
  {
   "cell_type": "code",
   "execution_count": null,
   "id": "ed8d4477-5061-435f-8035-b952a010d709",
   "metadata": {},
   "outputs": [],
   "source": []
  },
  {
   "cell_type": "code",
   "execution_count": 266,
   "id": "a6b00802-b7a1-40f5-b705-d9c65844b79d",
   "metadata": {},
   "outputs": [
    {
     "data": {
      "text/plain": [
       "'mv'"
      ]
     },
     "execution_count": 266,
     "metadata": {},
     "output_type": "execute_result"
    }
   ],
   "source": [
    "region = ger_regions[4]\n",
    "region"
   ]
  },
  {
   "cell_type": "code",
   "execution_count": 272,
   "id": "2cede520-e7de-410f-a496-a5ece7f775aa",
   "metadata": {},
   "outputs": [],
   "source": [
    "files = glob(f'{DATADIR}buildings_germany_{region}*')"
   ]
  },
  {
   "cell_type": "code",
   "execution_count": 273,
   "id": "aec7dce4-4685-4fc1-b337-3a1899010c0f",
   "metadata": {},
   "outputs": [
    {
     "data": {
      "text/plain": [
       "['/data/uscuni-ulce/cadastre_buildings_raw/buildings_germany_mv_0.pq',\n",
       " '/data/uscuni-ulce/cadastre_buildings_raw/buildings_germany_mv_10000.pq',\n",
       " '/data/uscuni-ulce/cadastre_buildings_raw/buildings_germany_mv_100000.pq',\n",
       " '/data/uscuni-ulce/cadastre_buildings_raw/buildings_germany_mv_1000000.pq',\n",
       " '/data/uscuni-ulce/cadastre_buildings_raw/buildings_germany_mv_1010000.pq',\n",
       " '/data/uscuni-ulce/cadastre_buildings_raw/buildings_germany_mv_1020000.pq',\n",
       " '/data/uscuni-ulce/cadastre_buildings_raw/buildings_germany_mv_1030000.pq',\n",
       " '/data/uscuni-ulce/cadastre_buildings_raw/buildings_germany_mv_1040000.pq',\n",
       " '/data/uscuni-ulce/cadastre_buildings_raw/buildings_germany_mv_1050000.pq',\n",
       " '/data/uscuni-ulce/cadastre_buildings_raw/buildings_germany_mv_1060000.pq']"
      ]
     },
     "execution_count": 273,
     "metadata": {},
     "output_type": "execute_result"
    }
   ],
   "source": [
    "sorted(files)[:10]"
   ]
  },
  {
   "cell_type": "code",
   "execution_count": 274,
   "id": "27e11644-629f-4ce5-9382-3e08dc617795",
   "metadata": {},
   "outputs": [
    {
     "data": {
      "text/plain": [
       "152"
      ]
     },
     "execution_count": 274,
     "metadata": {},
     "output_type": "execute_result"
    }
   ],
   "source": [
    "len(files)"
   ]
  },
  {
   "cell_type": "code",
   "execution_count": null,
   "id": "0a33a750-ea2c-4cfb-9456-c1324ae750a4",
   "metadata": {},
   "outputs": [],
   "source": []
  },
  {
   "cell_type": "code",
   "execution_count": 275,
   "id": "c5219cd8-ffc7-4525-a2ff-52357e77ce9c",
   "metadata": {},
   "outputs": [],
   "source": [
    "frames = []\n",
    "for f in files:\n",
    "    gdf = gpd.read_parquet(f)\n",
    "    if gdf.shape[0]:\n",
    "        frames.append(gdf.to_crs(epsg=3035))\n",
    "gdf = pd.concat(frames, ignore_index=True)\n",
    "if 'gml_id' in gdf.columns:\n",
    "    gdf = gdf[~gdf['gml_id'].duplicated()]"
   ]
  },
  {
   "cell_type": "code",
   "execution_count": 276,
   "id": "1d2525fa-56a4-4ea0-88d7-3833d0d5a83d",
   "metadata": {},
   "outputs": [
    {
     "data": {
      "text/plain": [
       "(1511715, 13)"
      ]
     },
     "execution_count": 276,
     "metadata": {},
     "output_type": "execute_result"
    }
   ],
   "source": [
    "gdf.shape"
   ]
  },
  {
   "cell_type": "code",
   "execution_count": null,
   "id": "c11088b1-7e74-42bd-ae48-b9a09b635cfc",
   "metadata": {},
   "outputs": [],
   "source": []
  },
  {
   "cell_type": "code",
   "execution_count": 277,
   "id": "460cc435-6c9b-4bb6-acd3-de068af25cbc",
   "metadata": {},
   "outputs": [],
   "source": [
    "import requests\n",
    "import re\n",
    "def get_size(url, params):\n",
    "    params = params.copy()\n",
    "    params['resultType'] = 'hits'\n",
    "    response = requests.get(url, params=params)\n",
    "    if response.status_code == 200:\n",
    "        size = re.findall(r'numberMatched=\"[0-9]+\"', str(response.content))\n",
    "        size = int(size[0].split('=')[-1][1:-1])\n",
    "        return size\n",
    "\n",
    "    return 'unknown'"
   ]
  },
  {
   "cell_type": "code",
   "execution_count": 278,
   "id": "03c0852d-88ba-4bf4-9fad-61d9cde44bdf",
   "metadata": {},
   "outputs": [
    {
     "name": "stdout",
     "output_type": "stream",
     "text": [
      "1511715\n"
     ]
    }
   ],
   "source": [
    "params = {\n",
    "        \"SERVICE\": \"WFS\",\n",
    "        \"REQUEST\": \"GetFeature\",\n",
    "        \"TYPENAMES\": \"ave:GebaeudeBauwerk\",\n",
    "        \"SRSNAME\": \"EPSG:5650\",\n",
    "        \"VERSION\": '2.0.0',\n",
    "    }\n",
    "url = 'https://www.geodaten-mv.de/dienste/alkis_wfs_einfach'\n",
    "\n",
    "size = get_size(url, params)\n",
    "print(size)"
   ]
  },
  {
   "cell_type": "code",
   "execution_count": null,
   "id": "333ee874-187d-4e63-85fb-5b42b93045bc",
   "metadata": {},
   "outputs": [],
   "source": []
  },
  {
   "cell_type": "code",
   "execution_count": null,
   "id": "abe806f3-bc5f-47a9-ac69-c655b13b8642",
   "metadata": {},
   "outputs": [],
   "source": []
  },
  {
   "cell_type": "code",
   "execution_count": null,
   "id": "82d5d37d-597d-468c-98ee-c4ffbb02b2dd",
   "metadata": {},
   "outputs": [],
   "source": []
  },
  {
   "cell_type": "code",
   "execution_count": null,
   "id": "2e51d95c-65c0-4657-ace8-e79545b5c178",
   "metadata": {},
   "outputs": [],
   "source": []
  },
  {
   "cell_type": "code",
   "execution_count": 6,
   "id": "256550ab-05f5-421a-a320-03d99298418e",
   "metadata": {},
   "outputs": [],
   "source": [
    "gdf = gpd.read_parquet(files[0])"
   ]
  },
  {
   "cell_type": "code",
   "execution_count": 18,
   "id": "d27adf0e-6c2e-4ffc-9357-7f5b49e8f0b5",
   "metadata": {},
   "outputs": [],
   "source": [
    "new_gdf = gdf.set_crs(epsg=25832).to_crs(epsg=3035)"
   ]
  },
  {
   "cell_type": "code",
   "execution_count": 21,
   "id": "0d6de034-2f67-4d23-9b34-1f210aaea07b",
   "metadata": {},
   "outputs": [],
   "source": [
    "# new_gdf.iloc[100000:101000].explore()"
   ]
  },
  {
   "cell_type": "code",
   "execution_count": null,
   "id": "521c517c-1533-4978-9ade-5655a002a922",
   "metadata": {},
   "outputs": [],
   "source": []
  },
  {
   "cell_type": "code",
   "execution_count": null,
   "id": "23122b4e-3478-4f8f-9a82-dbdbaade0f35",
   "metadata": {},
   "outputs": [],
   "source": []
  },
  {
   "cell_type": "code",
   "execution_count": 37,
   "id": "0ef4f9ce-47cb-4c23-8423-4893c6344dbc",
   "metadata": {},
   "outputs": [
    {
     "ename": "KeyboardInterrupt",
     "evalue": "",
     "output_type": "error",
     "traceback": [
      "\u001b[0;31m---------------------------------------------------------------------------\u001b[0m",
      "\u001b[0;31mKeyboardInterrupt\u001b[0m                         Traceback (most recent call last)",
      "Cell \u001b[0;32mIn[37], line 3\u001b[0m\n\u001b[1;32m      1\u001b[0m frames \u001b[38;5;241m=\u001b[39m []\n\u001b[1;32m      2\u001b[0m \u001b[38;5;28;01mfor\u001b[39;00m f \u001b[38;5;129;01min\u001b[39;00m files:\n\u001b[0;32m----> 3\u001b[0m     frames\u001b[38;5;241m.\u001b[39mappend(\u001b[43mgpd\u001b[49m\u001b[38;5;241;43m.\u001b[39;49m\u001b[43mread_parquet\u001b[49m\u001b[43m(\u001b[49m\u001b[43mf\u001b[49m\u001b[43m)\u001b[49m\u001b[38;5;241;43m.\u001b[39;49m\u001b[43mto_crs\u001b[49m\u001b[43m(\u001b[49m\u001b[43mepsg\u001b[49m\u001b[38;5;241;43m=\u001b[39;49m\u001b[38;5;241;43m3035\u001b[39;49m\u001b[43m)\u001b[49m)\n\u001b[1;32m      4\u001b[0m gdf \u001b[38;5;241m=\u001b[39m pd\u001b[38;5;241m.\u001b[39mconcat(frames, ignore_index\u001b[38;5;241m=\u001b[39m\u001b[38;5;28;01mTrue\u001b[39;00m)\n",
      "File \u001b[0;32m~/geopandas/geopandas/geodataframe.py:1702\u001b[0m, in \u001b[0;36mGeoDataFrame.to_crs\u001b[0;34m(self, crs, epsg, inplace)\u001b[0m\n\u001b[1;32m   1700\u001b[0m \u001b[38;5;28;01melse\u001b[39;00m:\n\u001b[1;32m   1701\u001b[0m     df \u001b[38;5;241m=\u001b[39m \u001b[38;5;28mself\u001b[39m\u001b[38;5;241m.\u001b[39mcopy()\n\u001b[0;32m-> 1702\u001b[0m geom \u001b[38;5;241m=\u001b[39m \u001b[43mdf\u001b[49m\u001b[38;5;241;43m.\u001b[39;49m\u001b[43mgeometry\u001b[49m\u001b[38;5;241;43m.\u001b[39;49m\u001b[43mto_crs\u001b[49m\u001b[43m(\u001b[49m\u001b[43mcrs\u001b[49m\u001b[38;5;241;43m=\u001b[39;49m\u001b[43mcrs\u001b[49m\u001b[43m,\u001b[49m\u001b[43m \u001b[49m\u001b[43mepsg\u001b[49m\u001b[38;5;241;43m=\u001b[39;49m\u001b[43mepsg\u001b[49m\u001b[43m)\u001b[49m\n\u001b[1;32m   1703\u001b[0m df\u001b[38;5;241m.\u001b[39mgeometry \u001b[38;5;241m=\u001b[39m geom\n\u001b[1;32m   1704\u001b[0m \u001b[38;5;28;01mif\u001b[39;00m \u001b[38;5;129;01mnot\u001b[39;00m inplace:\n",
      "File \u001b[0;32m~/geopandas/geopandas/geoseries.py:1203\u001b[0m, in \u001b[0;36mGeoSeries.to_crs\u001b[0;34m(self, crs, epsg)\u001b[0m\n\u001b[1;32m   1124\u001b[0m \u001b[38;5;28;01mdef\u001b[39;00m \u001b[38;5;21mto_crs\u001b[39m(\n\u001b[1;32m   1125\u001b[0m     \u001b[38;5;28mself\u001b[39m, crs: Optional[Any] \u001b[38;5;241m=\u001b[39m \u001b[38;5;28;01mNone\u001b[39;00m, epsg: Optional[\u001b[38;5;28mint\u001b[39m] \u001b[38;5;241m=\u001b[39m \u001b[38;5;28;01mNone\u001b[39;00m\n\u001b[1;32m   1126\u001b[0m ) \u001b[38;5;241m-\u001b[39m\u001b[38;5;241m>\u001b[39m GeoSeries:\n\u001b[1;32m   1127\u001b[0m \u001b[38;5;250m    \u001b[39m\u001b[38;5;124;03m\"\"\"Returns a ``GeoSeries`` with all geometries transformed to a new\u001b[39;00m\n\u001b[1;32m   1128\u001b[0m \u001b[38;5;124;03m    coordinate reference system.\u001b[39;00m\n\u001b[1;32m   1129\u001b[0m \n\u001b[0;32m   (...)\u001b[0m\n\u001b[1;32m   1200\u001b[0m \n\u001b[1;32m   1201\u001b[0m \u001b[38;5;124;03m    \"\"\"\u001b[39;00m\n\u001b[1;32m   1202\u001b[0m     \u001b[38;5;28;01mreturn\u001b[39;00m GeoSeries(\n\u001b[0;32m-> 1203\u001b[0m         \u001b[38;5;28;43mself\u001b[39;49m\u001b[38;5;241;43m.\u001b[39;49m\u001b[43mvalues\u001b[49m\u001b[38;5;241;43m.\u001b[39;49m\u001b[43mto_crs\u001b[49m\u001b[43m(\u001b[49m\u001b[43mcrs\u001b[49m\u001b[38;5;241;43m=\u001b[39;49m\u001b[43mcrs\u001b[49m\u001b[43m,\u001b[49m\u001b[43m \u001b[49m\u001b[43mepsg\u001b[49m\u001b[38;5;241;43m=\u001b[39;49m\u001b[43mepsg\u001b[49m\u001b[43m)\u001b[49m, index\u001b[38;5;241m=\u001b[39m\u001b[38;5;28mself\u001b[39m\u001b[38;5;241m.\u001b[39mindex, name\u001b[38;5;241m=\u001b[39m\u001b[38;5;28mself\u001b[39m\u001b[38;5;241m.\u001b[39mname\n\u001b[1;32m   1204\u001b[0m     )\n",
      "File \u001b[0;32m~/geopandas/geopandas/_compat.py:90\u001b[0m, in \u001b[0;36mrequires_pyproj.<locals>.wrapper\u001b[0;34m(*args, **kwargs)\u001b[0m\n\u001b[1;32m     84\u001b[0m \u001b[38;5;28;01mif\u001b[39;00m \u001b[38;5;129;01mnot\u001b[39;00m HAS_PYPROJ:\n\u001b[1;32m     85\u001b[0m     \u001b[38;5;28;01mraise\u001b[39;00m \u001b[38;5;167;01mImportError\u001b[39;00m(\n\u001b[1;32m     86\u001b[0m         \u001b[38;5;124mf\u001b[39m\u001b[38;5;124m\"\u001b[39m\u001b[38;5;124mThe \u001b[39m\u001b[38;5;124m'\u001b[39m\u001b[38;5;124mpyproj\u001b[39m\u001b[38;5;124m'\u001b[39m\u001b[38;5;124m package is required for \u001b[39m\u001b[38;5;132;01m{\u001b[39;00mfunc\u001b[38;5;241m.\u001b[39m\u001b[38;5;18m__name__\u001b[39m\u001b[38;5;132;01m}\u001b[39;00m\u001b[38;5;124m to work. \u001b[39m\u001b[38;5;124m\"\u001b[39m\n\u001b[1;32m     87\u001b[0m         \u001b[38;5;124m\"\u001b[39m\u001b[38;5;124mInstall it and initialize the object with a CRS before using it.\u001b[39m\u001b[38;5;124m\"\u001b[39m\n\u001b[1;32m     88\u001b[0m         \u001b[38;5;124mf\u001b[39m\u001b[38;5;124m\"\u001b[39m\u001b[38;5;130;01m\\n\u001b[39;00m\u001b[38;5;124mImporting pyproj resulted in: \u001b[39m\u001b[38;5;132;01m{\u001b[39;00mpyproj_import_error\u001b[38;5;132;01m}\u001b[39;00m\u001b[38;5;124m\"\u001b[39m\n\u001b[1;32m     89\u001b[0m     )\n\u001b[0;32m---> 90\u001b[0m \u001b[38;5;28;01mreturn\u001b[39;00m \u001b[43mfunc\u001b[49m\u001b[43m(\u001b[49m\u001b[38;5;241;43m*\u001b[39;49m\u001b[43margs\u001b[49m\u001b[43m,\u001b[49m\u001b[43m \u001b[49m\u001b[38;5;241;43m*\u001b[39;49m\u001b[38;5;241;43m*\u001b[39;49m\u001b[43mkwargs\u001b[49m\u001b[43m)\u001b[49m\n",
      "File \u001b[0;32m~/geopandas/geopandas/array.py:1019\u001b[0m, in \u001b[0;36mGeometryArray.to_crs\u001b[0;34m(self, crs, epsg)\u001b[0m\n\u001b[1;32m   1015\u001b[0m     \u001b[38;5;28;01mreturn\u001b[39;00m \u001b[38;5;28mself\u001b[39m\n\u001b[1;32m   1017\u001b[0m transformer \u001b[38;5;241m=\u001b[39m TransformerFromCRS(\u001b[38;5;28mself\u001b[39m\u001b[38;5;241m.\u001b[39mcrs, crs, always_xy\u001b[38;5;241m=\u001b[39m\u001b[38;5;28;01mTrue\u001b[39;00m)\n\u001b[0;32m-> 1019\u001b[0m new_data \u001b[38;5;241m=\u001b[39m \u001b[43mtransform\u001b[49m\u001b[43m(\u001b[49m\u001b[38;5;28;43mself\u001b[39;49m\u001b[38;5;241;43m.\u001b[39;49m\u001b[43m_data\u001b[49m\u001b[43m,\u001b[49m\u001b[43m \u001b[49m\u001b[43mtransformer\u001b[49m\u001b[38;5;241;43m.\u001b[39;49m\u001b[43mtransform\u001b[49m\u001b[43m)\u001b[49m\n\u001b[1;32m   1020\u001b[0m \u001b[38;5;28;01mreturn\u001b[39;00m GeometryArray(new_data, crs\u001b[38;5;241m=\u001b[39mcrs)\n",
      "File \u001b[0;32m~/geopandas/geopandas/array.py:1749\u001b[0m, in \u001b[0;36mtransform\u001b[0;34m(data, func)\u001b[0m\n\u001b[1;32m   1746\u001b[0m result \u001b[38;5;241m=\u001b[39m np\u001b[38;5;241m.\u001b[39mempty_like(data)\n\u001b[1;32m   1748\u001b[0m coords \u001b[38;5;241m=\u001b[39m shapely\u001b[38;5;241m.\u001b[39mget_coordinates(data[\u001b[38;5;241m~\u001b[39mhas_z], include_z\u001b[38;5;241m=\u001b[39m\u001b[38;5;28;01mFalse\u001b[39;00m)\n\u001b[0;32m-> 1749\u001b[0m new_coords_z \u001b[38;5;241m=\u001b[39m \u001b[43mfunc\u001b[49m\u001b[43m(\u001b[49m\u001b[43mcoords\u001b[49m\u001b[43m[\u001b[49m\u001b[43m:\u001b[49m\u001b[43m,\u001b[49m\u001b[43m \u001b[49m\u001b[38;5;241;43m0\u001b[39;49m\u001b[43m]\u001b[49m\u001b[43m,\u001b[49m\u001b[43m \u001b[49m\u001b[43mcoords\u001b[49m\u001b[43m[\u001b[49m\u001b[43m:\u001b[49m\u001b[43m,\u001b[49m\u001b[43m \u001b[49m\u001b[38;5;241;43m1\u001b[39;49m\u001b[43m]\u001b[49m\u001b[43m)\u001b[49m\n\u001b[1;32m   1750\u001b[0m result[\u001b[38;5;241m~\u001b[39mhas_z] \u001b[38;5;241m=\u001b[39m shapely\u001b[38;5;241m.\u001b[39mset_coordinates(\n\u001b[1;32m   1751\u001b[0m     data[\u001b[38;5;241m~\u001b[39mhas_z]\u001b[38;5;241m.\u001b[39mcopy(), np\u001b[38;5;241m.\u001b[39marray(new_coords_z)\u001b[38;5;241m.\u001b[39mT\n\u001b[1;32m   1752\u001b[0m )\n\u001b[1;32m   1754\u001b[0m coords_z \u001b[38;5;241m=\u001b[39m shapely\u001b[38;5;241m.\u001b[39mget_coordinates(data[has_z], include_z\u001b[38;5;241m=\u001b[39m\u001b[38;5;28;01mTrue\u001b[39;00m)\n",
      "File \u001b[0;32m~/miniconda3/envs/urban_taxonomy/lib/python3.12/site-packages/pyproj/transformer.py:843\u001b[0m, in \u001b[0;36mTransformer.transform\u001b[0;34m(self, xx, yy, zz, tt, radians, errcheck, direction, inplace)\u001b[0m\n\u001b[1;32m    841\u001b[0m     intime \u001b[38;5;241m=\u001b[39m \u001b[38;5;28;01mNone\u001b[39;00m\n\u001b[1;32m    842\u001b[0m \u001b[38;5;66;03m# call pj_transform.  inx,iny,inz buffers modified in place.\u001b[39;00m\n\u001b[0;32m--> 843\u001b[0m \u001b[38;5;28;43mself\u001b[39;49m\u001b[38;5;241;43m.\u001b[39;49m\u001b[43m_transformer\u001b[49m\u001b[38;5;241;43m.\u001b[39;49m\u001b[43m_transform\u001b[49m\u001b[43m(\u001b[49m\n\u001b[1;32m    844\u001b[0m \u001b[43m    \u001b[49m\u001b[43minx\u001b[49m\u001b[38;5;241;43m=\u001b[39;49m\u001b[43minx\u001b[49m\u001b[43m,\u001b[49m\n\u001b[1;32m    845\u001b[0m \u001b[43m    \u001b[49m\u001b[43miny\u001b[49m\u001b[38;5;241;43m=\u001b[39;49m\u001b[43miny\u001b[49m\u001b[43m,\u001b[49m\n\u001b[1;32m    846\u001b[0m \u001b[43m    \u001b[49m\u001b[43minz\u001b[49m\u001b[38;5;241;43m=\u001b[39;49m\u001b[43minz\u001b[49m\u001b[43m,\u001b[49m\n\u001b[1;32m    847\u001b[0m \u001b[43m    \u001b[49m\u001b[43mintime\u001b[49m\u001b[38;5;241;43m=\u001b[39;49m\u001b[43mintime\u001b[49m\u001b[43m,\u001b[49m\n\u001b[1;32m    848\u001b[0m \u001b[43m    \u001b[49m\u001b[43mdirection\u001b[49m\u001b[38;5;241;43m=\u001b[39;49m\u001b[43mdirection\u001b[49m\u001b[43m,\u001b[49m\n\u001b[1;32m    849\u001b[0m \u001b[43m    \u001b[49m\u001b[43mradians\u001b[49m\u001b[38;5;241;43m=\u001b[39;49m\u001b[43mradians\u001b[49m\u001b[43m,\u001b[49m\n\u001b[1;32m    850\u001b[0m \u001b[43m    \u001b[49m\u001b[43merrcheck\u001b[49m\u001b[38;5;241;43m=\u001b[39;49m\u001b[43merrcheck\u001b[49m\u001b[43m,\u001b[49m\n\u001b[1;32m    851\u001b[0m \u001b[43m\u001b[49m\u001b[43m)\u001b[49m\n\u001b[1;32m    852\u001b[0m \u001b[38;5;66;03m# if inputs were lists, tuples or floats, convert back.\u001b[39;00m\n\u001b[1;32m    853\u001b[0m outx \u001b[38;5;241m=\u001b[39m _convertback(x_data_type, inx)\n",
      "\u001b[0;31mKeyboardInterrupt\u001b[0m: "
     ]
    }
   ],
   "source": [
    "frames = []\n",
    "for f in files:\n",
    "    frames.append(gpd.read_parquet(f).to_crs(epsg=3035))\n",
    "gdf = pd.concat(frames, ignore_index=True)"
   ]
  },
  {
   "cell_type": "code",
   "execution_count": null,
   "id": "2085bae9-25d0-4995-8963-bf0b0d475918",
   "metadata": {},
   "outputs": [],
   "source": [
    "gdf"
   ]
  },
  {
   "cell_type": "code",
   "execution_count": 10,
   "id": "c1852b1a-a1b4-454d-8bd4-cae83aa9c13b",
   "metadata": {},
   "outputs": [
    {
     "data": {
      "text/html": [
       "<div>\n",
       "<style scoped>\n",
       "    .dataframe tbody tr th:only-of-type {\n",
       "        vertical-align: middle;\n",
       "    }\n",
       "\n",
       "    .dataframe tbody tr th {\n",
       "        vertical-align: top;\n",
       "    }\n",
       "\n",
       "    .dataframe thead th {\n",
       "        text-align: right;\n",
       "    }\n",
       "</style>\n",
       "<table border=\"1\" class=\"dataframe\">\n",
       "  <thead>\n",
       "    <tr style=\"text-align: right;\">\n",
       "      <th></th>\n",
       "      <th>gml_id</th>\n",
       "      <th>identifier</th>\n",
       "      <th>beginLifespanVersion</th>\n",
       "      <th>localId</th>\n",
       "      <th>namespace</th>\n",
       "      <th>percentage</th>\n",
       "      <th>referenceGeometry</th>\n",
       "      <th>horizontalGeometryEstimatedAccuracy</th>\n",
       "      <th>numberOfFloorsAboveGround</th>\n",
       "      <th>end</th>\n",
       "      <th>dateOfRenovation|DateOfEvent|end</th>\n",
       "      <th>geometry</th>\n",
       "    </tr>\n",
       "  </thead>\n",
       "  <tbody>\n",
       "    <tr>\n",
       "      <th>0</th>\n",
       "      <td>Building_DEHHALKA3wT000D2</td>\n",
       "      <td>https://registry.gdi-de.org/id/de.hh/e33c193f-...</td>\n",
       "      <td>2018-05-24T08:48:56Z</td>\n",
       "      <td>Building_DEHHALKA3wT000D2</td>\n",
       "      <td>https://registry.gdi-de.org/id/de.hh/e33c193f-...</td>\n",
       "      <td>None</td>\n",
       "      <td>True</td>\n",
       "      <td>None</td>\n",
       "      <td>NaN</td>\n",
       "      <td>None</td>\n",
       "      <td>None</td>\n",
       "      <td>MULTIPOLYGON (((581432.726 5919754.877, 581422...</td>\n",
       "    </tr>\n",
       "    <tr>\n",
       "      <th>1</th>\n",
       "      <td>Building_DEHHALKA3wT000D0</td>\n",
       "      <td>https://registry.gdi-de.org/id/de.hh/e33c193f-...</td>\n",
       "      <td>2018-05-24T08:48:56Z</td>\n",
       "      <td>Building_DEHHALKA3wT000D0</td>\n",
       "      <td>https://registry.gdi-de.org/id/de.hh/e33c193f-...</td>\n",
       "      <td>None</td>\n",
       "      <td>True</td>\n",
       "      <td>None</td>\n",
       "      <td>NaN</td>\n",
       "      <td>None</td>\n",
       "      <td>None</td>\n",
       "      <td>MULTIPOLYGON (((581308.145 5919081.784, 581298...</td>\n",
       "    </tr>\n",
       "    <tr>\n",
       "      <th>2</th>\n",
       "      <td>Building_DEHHALKA3xh000Id</td>\n",
       "      <td>https://registry.gdi-de.org/id/de.hh/e33c193f-...</td>\n",
       "      <td>2018-05-31T10:07:45Z</td>\n",
       "      <td>Building_DEHHALKA3xh000Id</td>\n",
       "      <td>https://registry.gdi-de.org/id/de.hh/e33c193f-...</td>\n",
       "      <td>None</td>\n",
       "      <td>True</td>\n",
       "      <td>None</td>\n",
       "      <td>NaN</td>\n",
       "      <td>None</td>\n",
       "      <td>None</td>\n",
       "      <td>MULTIPOLYGON (((581781.689 5918892.378, 581780...</td>\n",
       "    </tr>\n",
       "    <tr>\n",
       "      <th>3</th>\n",
       "      <td>Building_DEHHALKA3D1000Ih</td>\n",
       "      <td>https://registry.gdi-de.org/id/de.hh/e33c193f-...</td>\n",
       "      <td>2017-08-15T09:52:04Z</td>\n",
       "      <td>Building_DEHHALKA3D1000Ih</td>\n",
       "      <td>https://registry.gdi-de.org/id/de.hh/e33c193f-...</td>\n",
       "      <td>None</td>\n",
       "      <td>True</td>\n",
       "      <td>None</td>\n",
       "      <td>NaN</td>\n",
       "      <td>None</td>\n",
       "      <td>None</td>\n",
       "      <td>MULTIPOLYGON (((580328.395 5918984.083, 580319...</td>\n",
       "    </tr>\n",
       "    <tr>\n",
       "      <th>4</th>\n",
       "      <td>Building_DEHHALKA3xh000Is</td>\n",
       "      <td>https://registry.gdi-de.org/id/de.hh/e33c193f-...</td>\n",
       "      <td>2018-05-31T10:07:45Z</td>\n",
       "      <td>Building_DEHHALKA3xh000Is</td>\n",
       "      <td>https://registry.gdi-de.org/id/de.hh/e33c193f-...</td>\n",
       "      <td>None</td>\n",
       "      <td>True</td>\n",
       "      <td>None</td>\n",
       "      <td>NaN</td>\n",
       "      <td>None</td>\n",
       "      <td>None</td>\n",
       "      <td>MULTIPOLYGON (((581781.426 5918910.251, 581770...</td>\n",
       "    </tr>\n",
       "    <tr>\n",
       "      <th>...</th>\n",
       "      <td>...</td>\n",
       "      <td>...</td>\n",
       "      <td>...</td>\n",
       "      <td>...</td>\n",
       "      <td>...</td>\n",
       "      <td>...</td>\n",
       "      <td>...</td>\n",
       "      <td>...</td>\n",
       "      <td>...</td>\n",
       "      <td>...</td>\n",
       "      <td>...</td>\n",
       "      <td>...</td>\n",
       "    </tr>\n",
       "    <tr>\n",
       "      <th>454566</th>\n",
       "      <td>Building_DEHHALKAn0007tva</td>\n",
       "      <td>https://registry.gdi-de.org/id/de.hh/e33c193f-...</td>\n",
       "      <td>2012-04-02T07:54:53Z</td>\n",
       "      <td>Building_DEHHALKAn0007tva</td>\n",
       "      <td>https://registry.gdi-de.org/id/de.hh/e33c193f-...</td>\n",
       "      <td>None</td>\n",
       "      <td>True</td>\n",
       "      <td>None</td>\n",
       "      <td>1.0</td>\n",
       "      <td>None</td>\n",
       "      <td>None</td>\n",
       "      <td>MULTIPOLYGON (((462544.986 5977856.458, 462550...</td>\n",
       "    </tr>\n",
       "    <tr>\n",
       "      <th>454567</th>\n",
       "      <td>Building_DEHHALKA4YR00007</td>\n",
       "      <td>https://registry.gdi-de.org/id/de.hh/e33c193f-...</td>\n",
       "      <td>2019-01-11T05:21:25Z</td>\n",
       "      <td>Building_DEHHALKA4YR00007</td>\n",
       "      <td>https://registry.gdi-de.org/id/de.hh/e33c193f-...</td>\n",
       "      <td>None</td>\n",
       "      <td>True</td>\n",
       "      <td>None</td>\n",
       "      <td>1.0</td>\n",
       "      <td>2017-12-31T23:00:00Z</td>\n",
       "      <td>None</td>\n",
       "      <td>MULTIPOLYGON (((463420.799 5979454.284, 463415...</td>\n",
       "    </tr>\n",
       "    <tr>\n",
       "      <th>454568</th>\n",
       "      <td>Building_DEHHALKA4YR00003</td>\n",
       "      <td>https://registry.gdi-de.org/id/de.hh/e33c193f-...</td>\n",
       "      <td>2019-07-03T13:37:37Z</td>\n",
       "      <td>Building_DEHHALKA4YR00003</td>\n",
       "      <td>https://registry.gdi-de.org/id/de.hh/e33c193f-...</td>\n",
       "      <td>None</td>\n",
       "      <td>True</td>\n",
       "      <td>None</td>\n",
       "      <td>1.0</td>\n",
       "      <td>2017-12-31T23:00:00Z</td>\n",
       "      <td>None</td>\n",
       "      <td>MULTIPOLYGON (((463423.607 5979446.542, 463420...</td>\n",
       "    </tr>\n",
       "    <tr>\n",
       "      <th>454569</th>\n",
       "      <td>Building_DEHHALKAn0007tvb</td>\n",
       "      <td>https://registry.gdi-de.org/id/de.hh/e33c193f-...</td>\n",
       "      <td>2012-04-02T07:54:53Z</td>\n",
       "      <td>Building_DEHHALKAn0007tvb</td>\n",
       "      <td>https://registry.gdi-de.org/id/de.hh/e33c193f-...</td>\n",
       "      <td>None</td>\n",
       "      <td>True</td>\n",
       "      <td>None</td>\n",
       "      <td>1.0</td>\n",
       "      <td>None</td>\n",
       "      <td>None</td>\n",
       "      <td>MULTIPOLYGON (((463251.829 5979353.284, 463242...</td>\n",
       "    </tr>\n",
       "    <tr>\n",
       "      <th>454570</th>\n",
       "      <td>Building_DEHHALKA4YR00005</td>\n",
       "      <td>https://registry.gdi-de.org/id/de.hh/e33c193f-...</td>\n",
       "      <td>2019-01-11T05:21:25Z</td>\n",
       "      <td>Building_DEHHALKA4YR00005</td>\n",
       "      <td>https://registry.gdi-de.org/id/de.hh/e33c193f-...</td>\n",
       "      <td>None</td>\n",
       "      <td>True</td>\n",
       "      <td>None</td>\n",
       "      <td>1.0</td>\n",
       "      <td>2017-12-31T23:00:00Z</td>\n",
       "      <td>None</td>\n",
       "      <td>MULTIPOLYGON (((463418.131 5979449.839, 463412...</td>\n",
       "    </tr>\n",
       "  </tbody>\n",
       "</table>\n",
       "<p>454571 rows × 12 columns</p>\n",
       "</div>"
      ],
      "text/plain": [
       "                           gml_id  \\\n",
       "0       Building_DEHHALKA3wT000D2   \n",
       "1       Building_DEHHALKA3wT000D0   \n",
       "2       Building_DEHHALKA3xh000Id   \n",
       "3       Building_DEHHALKA3D1000Ih   \n",
       "4       Building_DEHHALKA3xh000Is   \n",
       "...                           ...   \n",
       "454566  Building_DEHHALKAn0007tva   \n",
       "454567  Building_DEHHALKA4YR00007   \n",
       "454568  Building_DEHHALKA4YR00003   \n",
       "454569  Building_DEHHALKAn0007tvb   \n",
       "454570  Building_DEHHALKA4YR00005   \n",
       "\n",
       "                                               identifier  \\\n",
       "0       https://registry.gdi-de.org/id/de.hh/e33c193f-...   \n",
       "1       https://registry.gdi-de.org/id/de.hh/e33c193f-...   \n",
       "2       https://registry.gdi-de.org/id/de.hh/e33c193f-...   \n",
       "3       https://registry.gdi-de.org/id/de.hh/e33c193f-...   \n",
       "4       https://registry.gdi-de.org/id/de.hh/e33c193f-...   \n",
       "...                                                   ...   \n",
       "454566  https://registry.gdi-de.org/id/de.hh/e33c193f-...   \n",
       "454567  https://registry.gdi-de.org/id/de.hh/e33c193f-...   \n",
       "454568  https://registry.gdi-de.org/id/de.hh/e33c193f-...   \n",
       "454569  https://registry.gdi-de.org/id/de.hh/e33c193f-...   \n",
       "454570  https://registry.gdi-de.org/id/de.hh/e33c193f-...   \n",
       "\n",
       "        beginLifespanVersion                    localId  \\\n",
       "0       2018-05-24T08:48:56Z  Building_DEHHALKA3wT000D2   \n",
       "1       2018-05-24T08:48:56Z  Building_DEHHALKA3wT000D0   \n",
       "2       2018-05-31T10:07:45Z  Building_DEHHALKA3xh000Id   \n",
       "3       2017-08-15T09:52:04Z  Building_DEHHALKA3D1000Ih   \n",
       "4       2018-05-31T10:07:45Z  Building_DEHHALKA3xh000Is   \n",
       "...                      ...                        ...   \n",
       "454566  2012-04-02T07:54:53Z  Building_DEHHALKAn0007tva   \n",
       "454567  2019-01-11T05:21:25Z  Building_DEHHALKA4YR00007   \n",
       "454568  2019-07-03T13:37:37Z  Building_DEHHALKA4YR00003   \n",
       "454569  2012-04-02T07:54:53Z  Building_DEHHALKAn0007tvb   \n",
       "454570  2019-01-11T05:21:25Z  Building_DEHHALKA4YR00005   \n",
       "\n",
       "                                                namespace percentage  \\\n",
       "0       https://registry.gdi-de.org/id/de.hh/e33c193f-...       None   \n",
       "1       https://registry.gdi-de.org/id/de.hh/e33c193f-...       None   \n",
       "2       https://registry.gdi-de.org/id/de.hh/e33c193f-...       None   \n",
       "3       https://registry.gdi-de.org/id/de.hh/e33c193f-...       None   \n",
       "4       https://registry.gdi-de.org/id/de.hh/e33c193f-...       None   \n",
       "...                                                   ...        ...   \n",
       "454566  https://registry.gdi-de.org/id/de.hh/e33c193f-...       None   \n",
       "454567  https://registry.gdi-de.org/id/de.hh/e33c193f-...       None   \n",
       "454568  https://registry.gdi-de.org/id/de.hh/e33c193f-...       None   \n",
       "454569  https://registry.gdi-de.org/id/de.hh/e33c193f-...       None   \n",
       "454570  https://registry.gdi-de.org/id/de.hh/e33c193f-...       None   \n",
       "\n",
       "        referenceGeometry horizontalGeometryEstimatedAccuracy  \\\n",
       "0                    True                                None   \n",
       "1                    True                                None   \n",
       "2                    True                                None   \n",
       "3                    True                                None   \n",
       "4                    True                                None   \n",
       "...                   ...                                 ...   \n",
       "454566               True                                None   \n",
       "454567               True                                None   \n",
       "454568               True                                None   \n",
       "454569               True                                None   \n",
       "454570               True                                None   \n",
       "\n",
       "        numberOfFloorsAboveGround                   end  \\\n",
       "0                             NaN                  None   \n",
       "1                             NaN                  None   \n",
       "2                             NaN                  None   \n",
       "3                             NaN                  None   \n",
       "4                             NaN                  None   \n",
       "...                           ...                   ...   \n",
       "454566                        1.0                  None   \n",
       "454567                        1.0  2017-12-31T23:00:00Z   \n",
       "454568                        1.0  2017-12-31T23:00:00Z   \n",
       "454569                        1.0                  None   \n",
       "454570                        1.0  2017-12-31T23:00:00Z   \n",
       "\n",
       "       dateOfRenovation|DateOfEvent|end  \\\n",
       "0                                  None   \n",
       "1                                  None   \n",
       "2                                  None   \n",
       "3                                  None   \n",
       "4                                  None   \n",
       "...                                 ...   \n",
       "454566                             None   \n",
       "454567                             None   \n",
       "454568                             None   \n",
       "454569                             None   \n",
       "454570                             None   \n",
       "\n",
       "                                                 geometry  \n",
       "0       MULTIPOLYGON (((581432.726 5919754.877, 581422...  \n",
       "1       MULTIPOLYGON (((581308.145 5919081.784, 581298...  \n",
       "2       MULTIPOLYGON (((581781.689 5918892.378, 581780...  \n",
       "3       MULTIPOLYGON (((580328.395 5918984.083, 580319...  \n",
       "4       MULTIPOLYGON (((581781.426 5918910.251, 581770...  \n",
       "...                                                   ...  \n",
       "454566  MULTIPOLYGON (((462544.986 5977856.458, 462550...  \n",
       "454567  MULTIPOLYGON (((463420.799 5979454.284, 463415...  \n",
       "454568  MULTIPOLYGON (((463423.607 5979446.542, 463420...  \n",
       "454569  MULTIPOLYGON (((463251.829 5979353.284, 463242...  \n",
       "454570  MULTIPOLYGON (((463418.131 5979449.839, 463412...  \n",
       "\n",
       "[454571 rows x 12 columns]"
      ]
     },
     "execution_count": 10,
     "metadata": {},
     "output_type": "execute_result"
    }
   ],
   "source": [
    "gpd.read_parquet(f)"
   ]
  },
  {
   "cell_type": "code",
   "execution_count": null,
   "id": "f13a8e5a-d324-4aec-af67-0a87f5b094d0",
   "metadata": {},
   "outputs": [],
   "source": []
  },
  {
   "cell_type": "code",
   "execution_count": null,
   "id": "4f5db05d-bd6d-45c4-810f-3a60e51ed790",
   "metadata": {},
   "outputs": [],
   "source": []
  },
  {
   "cell_type": "code",
   "execution_count": null,
   "id": "76bc247b-4f40-4f6c-9d97-a3b7b1677c91",
   "metadata": {},
   "outputs": [],
   "source": []
  },
  {
   "cell_type": "code",
   "execution_count": null,
   "id": "696234b1-1da8-4bed-b521-73383e3c0270",
   "metadata": {},
   "outputs": [],
   "source": []
  }
 ],
 "metadata": {
  "kernelspec": {
   "display_name": "Python 3 (ipykernel)",
   "language": "python",
   "name": "python3"
  },
  "language_info": {
   "codemirror_mode": {
    "name": "ipython",
    "version": 3
   },
   "file_extension": ".py",
   "mimetype": "text/x-python",
   "name": "python",
   "nbconvert_exporter": "python",
   "pygments_lexer": "ipython3",
   "version": "3.12.4"
  }
 },
 "nbformat": 4,
 "nbformat_minor": 5
}
