{
 "cells": [
  {
   "cell_type": "code",
   "execution_count": 1,
   "id": "4ae802cb-91a5-4cf6-bf4f-21c79c2e82e8",
   "metadata": {},
   "outputs": [],
   "source": [
    "from core.generate_streets import read_overture_region_streets\n",
    "\n",
    "import gc\n",
    "import glob\n",
    "\n",
    "import geopandas as gpd\n",
    "import momepy as mm\n",
    "import numpy as np\n",
    "import pandas as pd\n",
    "import shapely\n",
    "from libpysal.graph import Graph, read_parquet\n",
    "import datetime"
   ]
  },
  {
   "cell_type": "code",
   "execution_count": null,
   "id": "b5617558-f580-4bfe-a7f3-8390a1383dc3",
   "metadata": {},
   "outputs": [],
   "source": []
  },
  {
   "cell_type": "code",
   "execution_count": 3,
   "id": "68d21052-7ee4-467d-bd32-b669c7ca9a7e",
   "metadata": {},
   "outputs": [],
   "source": [
    "streets_dir = '/data/uscuni-ulce/overture_streets/'\n",
    "regions_datadir = \"/data/uscuni-ulce/\""
   ]
  },
  {
   "cell_type": "code",
   "execution_count": 4,
   "id": "0933fcf8-d211-49c8-93ce-d759de99cbce",
   "metadata": {},
   "outputs": [
    {
     "data": {
      "text/plain": [
       "(828, 1)"
      ]
     },
     "execution_count": 4,
     "metadata": {},
     "output_type": "execute_result"
    }
   ],
   "source": [
    "region_hulls = gpd.read_parquet(\n",
    "        regions_datadir + \"regions/\" + \"cadastre_regions_hull.parquet\"\n",
    "    )\n",
    "region_hulls.shape"
   ]
  },
  {
   "cell_type": "code",
   "execution_count": 16,
   "id": "b39d33c4-df95-4900-a337-5d078103f58c",
   "metadata": {},
   "outputs": [],
   "source": [
    "# %%capture cap\n",
    "\n",
    "# for region_id, region_hull in region_hulls.to_crs(epsg=4326).iterrows():\\\n",
    "\n",
    "#     if region_id != 69333: continue\n",
    "#     print('Processing', region_id, datetime.datetime.now())\n",
    "#     streets = download_overture_streets(region_hull.iloc[0], region_id)\n",
    "#     streets.to_parquet(streets_dir + f'streets_{region_id}.pq')"
   ]
  },
  {
   "cell_type": "code",
   "execution_count": null,
   "id": "186b21ef-837c-4357-b6b2-a972ff1df235",
   "metadata": {},
   "outputs": [],
   "source": []
  },
  {
   "cell_type": "code",
   "execution_count": 17,
   "id": "b7a4d373-6fa3-4c62-8dbd-ad2cdae89586",
   "metadata": {},
   "outputs": [],
   "source": [
    "def process_and_save(region_hull, region_id):\n",
    "    print('Processing', region_id, datetime.datetime.now())\n",
    "    streets = read_overture_region_streets(region_hull, region_id)\n",
    "    streets.to_parquet(streets_dir + f'streets_{region_id}.pq')"
   ]
  },
  {
   "cell_type": "code",
   "execution_count": null,
   "id": "511667ed-559e-4086-80a4-681a51e6f5d6",
   "metadata": {},
   "outputs": [],
   "source": []
  },
  {
   "cell_type": "code",
   "execution_count": 18,
   "id": "cae70fac-9fad-4f28-8c7c-901c58e66af0",
   "metadata": {},
   "outputs": [],
   "source": [
    "downloaded_streets = glob.glob(streets_dir + '*')\n",
    "downloaded_streets = [int(s.split('_')[-1][:-3]) for s in downloaded_streets]"
   ]
  },
  {
   "cell_type": "code",
   "execution_count": 19,
   "id": "a350eeaf-0056-4377-9ecd-3ab5641d4c13",
   "metadata": {},
   "outputs": [
    {
     "data": {
      "text/html": [
       "<div>\n",
       "<style scoped>\n",
       "    .dataframe tbody tr th:only-of-type {\n",
       "        vertical-align: middle;\n",
       "    }\n",
       "\n",
       "    .dataframe tbody tr th {\n",
       "        vertical-align: top;\n",
       "    }\n",
       "\n",
       "    .dataframe thead th {\n",
       "        text-align: right;\n",
       "    }\n",
       "</style>\n",
       "<table border=\"1\" class=\"dataframe\">\n",
       "  <thead>\n",
       "    <tr style=\"text-align: right;\">\n",
       "      <th></th>\n",
       "      <th>convex_hull</th>\n",
       "    </tr>\n",
       "    <tr>\n",
       "      <th>labels</th>\n",
       "      <th></th>\n",
       "    </tr>\n",
       "  </thead>\n",
       "  <tbody>\n",
       "  </tbody>\n",
       "</table>\n",
       "</div>"
      ],
      "text/plain": [
       "Empty GeoDataFrame\n",
       "Columns: [convex_hull]\n",
       "Index: []"
      ]
     },
     "execution_count": 19,
     "metadata": {},
     "output_type": "execute_result"
    }
   ],
   "source": [
    "region_hulls = region_hulls.loc[~region_hulls.index.isin(downloaded_streets), ]\n",
    "region_hulls"
   ]
  },
  {
   "cell_type": "code",
   "execution_count": null,
   "id": "c257cdc5-8b3b-43f1-a04f-e313718f9086",
   "metadata": {},
   "outputs": [],
   "source": [
    "%%capture cap\n",
    "\n",
    "from joblib import Parallel, delayed\n",
    "\n",
    "n_jobs = -1\n",
    "new = Parallel(n_jobs=n_jobs)(\n",
    "    delayed(process_and_save)(region_hull.iloc[0], region_id) for region_id, region_hull in region_hulls.to_crs(epsg=4326).iterrows()\n",
    ")\n"
   ]
  },
  {
   "cell_type": "code",
   "execution_count": null,
   "id": "344b1f6f-5993-4ad7-ba27-56d8370ee765",
   "metadata": {},
   "outputs": [],
   "source": []
  },
  {
   "cell_type": "code",
   "execution_count": 29,
   "id": "ecaed315-2000-4a15-8d26-925a50d1f2f5",
   "metadata": {},
   "outputs": [],
   "source": [
    "gdf = gpd.read_parquet(streets_dir + f'streets_{69333}.pq')"
   ]
  },
  {
   "cell_type": "code",
   "execution_count": 32,
   "id": "791480b3-b12c-49b8-b453-25c7734f34ef",
   "metadata": {},
   "outputs": [],
   "source": [
    "# gdf.explore()"
   ]
  },
  {
   "cell_type": "code",
   "execution_count": 12,
   "id": "1a2cb0e5-f119-43a6-bb5f-c09ca1a7a262",
   "metadata": {},
   "outputs": [
    {
     "data": {
      "text/plain": [
       "1"
      ]
     },
     "execution_count": 12,
     "metadata": {},
     "output_type": "execute_result"
    }
   ],
   "source": []
  },
  {
   "cell_type": "code",
   "execution_count": 21,
   "id": "ff0990ab-c6b2-4e98-94ad-ba55a22e5390",
   "metadata": {},
   "outputs": [
    {
     "data": {
      "text/plain": [
       "'/home/krasen/urban_taxonomy/.pixi/envs/default/lib/python3.12/site-packages/joblib/externals/loky/process_executor.py:752: UserWarning: A worker stopped while some jobs were given to the executor. This can be caused by a too short worker timeout or by a memory leak.\\n  warnings.warn(\\n'"
      ]
     },
     "execution_count": 21,
     "metadata": {},
     "output_type": "execute_result"
    }
   ],
   "source": [
    "cap.stderr"
   ]
  },
  {
   "cell_type": "code",
   "execution_count": null,
   "id": "4e2936e9-cea1-4cfd-b30d-472415982e7a",
   "metadata": {},
   "outputs": [],
   "source": []
  },
  {
   "cell_type": "code",
   "execution_count": null,
   "id": "28fd55fc-61e8-4f52-81f2-972b8826cf37",
   "metadata": {},
   "outputs": [],
   "source": []
  },
  {
   "cell_type": "code",
   "execution_count": 22,
   "id": "82c0f42a-11de-4cbf-b36e-aa201c3e5206",
   "metadata": {},
   "outputs": [],
   "source": [
    "gdf = gpd.read_parquet(streets_dir + f'streets_{69333}.pq')"
   ]
  },
  {
   "cell_type": "code",
   "execution_count": null,
   "id": "aa0bae86-5c81-4f78-a3aa-be8a4d3d318f",
   "metadata": {},
   "outputs": [],
   "source": []
  },
  {
   "cell_type": "code",
   "execution_count": null,
   "id": "bc8cfbf6-f860-4c50-9e8b-114a12515ac9",
   "metadata": {},
   "outputs": [],
   "source": []
  },
  {
   "cell_type": "code",
   "execution_count": null,
   "id": "d71f4eb4-3f14-45c0-baae-0afb880c4ade",
   "metadata": {},
   "outputs": [],
   "source": [
    "for region_id, region_hull in region_hulls.iterrows():\n",
    "    streets.append(streets.to_parquet(streets_dir + f'streets_{region_id}.pq'))"
   ]
  },
  {
   "cell_type": "code",
   "execution_count": null,
   "id": "b18581fc-1130-4982-8062-62c8f60ef72f",
   "metadata": {},
   "outputs": [],
   "source": []
  }
 ],
 "metadata": {
  "kernelspec": {
   "display_name": "Python 3 (ipykernel)",
   "language": "python",
   "name": "python3"
  },
  "language_info": {
   "codemirror_mode": {
    "name": "ipython",
    "version": 3
   },
   "file_extension": ".py",
   "mimetype": "text/x-python",
   "name": "python",
   "nbconvert_exporter": "python",
   "pygments_lexer": "ipython3",
   "version": "3.12.5"
  }
 },
 "nbformat": 4,
 "nbformat_minor": 5
}
