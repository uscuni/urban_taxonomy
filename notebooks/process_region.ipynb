{
 "cells": [
  {
   "cell_type": "code",
   "execution_count": 1,
   "id": "b46c8a5f-40bf-4312-b39e-1f29bbcbb262",
   "metadata": {},
   "outputs": [],
   "source": [
    "import gc\n",
    "import glob\n",
    "\n",
    "import geopandas as gpd\n",
    "import momepy as mm\n",
    "import numpy as np\n",
    "import pandas as pd\n",
    "import shapely\n",
    "from libpysal.graph import Graph, read_parquet\n",
    "import datetime"
   ]
  },
  {
   "cell_type": "code",
   "execution_count": null,
   "id": "ba2806de-b143-4f80-88e5-dda39d213cf6",
   "metadata": {},
   "outputs": [],
   "source": []
  },
  {
   "cell_type": "code",
   "execution_count": 3,
   "id": "06df3676-94c7-4477-8abc-cdeb02c813c6",
   "metadata": {},
   "outputs": [],
   "source": [
    "regions_buildings_dir = '/data/uscuni-ulce/regions/buildings/'\n",
    "buildings_dir = '/data/uscuni-ulce/processed_data/buildings/'\n",
    "streets_dir = '/data/uscuni-ulce/processed_data/streets/'\n",
    "enclosures_dir = '/data/uscuni-ulce/processed_data/enclosures/'\n",
    "tessellations_dir = '/data/uscuni-ulce/processed_data/tessellations/'\n",
    "graph_dir = '/data/uscuni-ulce/processed_data/neigh_graphs/'\n",
    "chars_dir = '/data/uscuni-ulce/processed_data/chars/'\n",
    "\n",
    "regions_datadir = \"/data/uscuni-ulce/\"\n",
    "eubucco_files = glob.glob(regions_datadir + \"eubucco_raw/*\")"
   ]
  },
  {
   "cell_type": "code",
   "execution_count": null,
   "id": "ebb8307c-d05d-4aef-a699-f85f74c76a32",
   "metadata": {},
   "outputs": [],
   "source": []
  },
  {
   "cell_type": "code",
   "execution_count": null,
   "id": "7de94bbb-f1e4-4aa0-80cb-59572a22b530",
   "metadata": {},
   "outputs": [],
   "source": []
  },
  {
   "cell_type": "code",
   "execution_count": 4,
   "id": "6b137edf-903b-4b37-b928-a04d84c713fc",
   "metadata": {},
   "outputs": [],
   "source": [
    "### used for testing\n",
    "# osm_ids = ['v0.1-DEU.9.8.13.1_1-194', 'v0.1-DEU.9.8.13.1_1-232',\n",
    "#        'v0.1-DEU.9.8.13.1_1-214', 'v0.1-DEU.9.8.13.1_1-273',\n",
    "#        'v0.1-DEU.9.8.13.1_1-211', 'v0.1-DEU.9.8.13.1_1-188',\n",
    "#        'v0.1-DEU.9.8.13.1_1-192', 'v0.1-DEU.9.8.13.1_1-276',\n",
    "#        'v0.1-DEU.9.8.13.1_1-191', 'v0.1-DEU.9.8.13.1_1-184',\n",
    "#        'v0.1-DEU.9.8.13.1_1-245', 'v0.1-DEU.9.8.13.1_1-275']"
   ]
  },
  {
   "cell_type": "code",
   "execution_count": null,
   "id": "075c4a4e-56ad-4d6c-885a-ff44403ea88e",
   "metadata": {},
   "outputs": [],
   "source": []
  },
  {
   "cell_type": "code",
   "execution_count": 4,
   "id": "15ce7e3e-333d-474b-8d21-29d06a0b486a",
   "metadata": {},
   "outputs": [],
   "source": [
    "# prague - 69333\n",
    "# freiburg - 5883"
   ]
  },
  {
   "cell_type": "code",
   "execution_count": 5,
   "id": "6fae1366-68fd-44f0-9f2b-1c051751858a",
   "metadata": {},
   "outputs": [],
   "source": [
    "region_name = 69333\n",
    "region_hulls = gpd.read_parquet(\n",
    "        regions_datadir + \"regions/\" + \"cadastre_regions_hull.parquet\"\n",
    "    )\n",
    "region_id, region_hull = region_hulls.loc[region_name].name, region_hulls.loc[region_name].convex_hull"
   ]
  },
  {
   "cell_type": "code",
   "execution_count": null,
   "id": "3300a4b1-8761-4af3-872e-02fb4965f192",
   "metadata": {},
   "outputs": [],
   "source": []
  },
  {
   "cell_type": "code",
   "execution_count": null,
   "id": "640c8976-2e54-4301-a1f0-be44e5512498",
   "metadata": {},
   "outputs": [],
   "source": []
  },
  {
   "cell_type": "code",
   "execution_count": null,
   "id": "7a2873ab-a6a2-4459-85db-e52cb2c28f26",
   "metadata": {},
   "outputs": [],
   "source": []
  },
  {
   "cell_type": "code",
   "execution_count": null,
   "id": "b7e0d271-32a3-4189-9086-4beed701c621",
   "metadata": {},
   "outputs": [],
   "source": []
  },
  {
   "cell_type": "code",
   "execution_count": 7,
   "id": "501e5d76-5527-4d21-86dd-bdac67c434e2",
   "metadata": {},
   "outputs": [],
   "source": [
    "# ## freiburg - buildings come from a different source so we dont use the building pre-processing pipeline - go directly to streets\n",
    "# gdf = gpd.read_parquet('../data/freiburg/buildings_freiburg.parquet').to_crs(epsg=3035)\n",
    "# region_id = region_name = 'freiburg'\n",
    "# region_hull = gdf.union_all().convex_hull\n",
    "# region_hulls = gpd.GeoDataFrame({'geometry': [region_hull]}, index=[region_id], crs=gdf.crs)\n",
    "# buildings_dir = streets_dir = enclosures_dir = tessellations_dir = graph_dir = '../data/freiburg/'\n",
    "# chars_dir = '../data/freiburg/chars/'"
   ]
  },
  {
   "cell_type": "code",
   "execution_count": null,
   "id": "1b5c5bc4-ae84-46fe-a785-98796403ccba",
   "metadata": {},
   "outputs": [],
   "source": []
  },
  {
   "cell_type": "code",
   "execution_count": null,
   "id": "a7627de9-f58f-4efd-ba1d-04e02a20c913",
   "metadata": {},
   "outputs": [],
   "source": []
  },
  {
   "cell_type": "markdown",
   "id": "7e12723b-0bba-40af-aae2-ca69bbc8b28d",
   "metadata": {},
   "source": [
    "## Buildings\n"
   ]
  },
  {
   "cell_type": "code",
   "execution_count": 8,
   "id": "932b7126-34d5-47eb-a83a-07ba6dbba127",
   "metadata": {},
   "outputs": [],
   "source": [
    "from core.generate_buildings import read_region_buildings, process_region_buildings"
   ]
  },
  {
   "cell_type": "code",
   "execution_count": 9,
   "id": "4f7cf8de-c4fc-4059-b1d9-5fa9d2365346",
   "metadata": {},
   "outputs": [],
   "source": [
    "# ## need to link eubucco building polygons to regions, this will change in the future\n",
    "# building_region_mapping = pd.read_parquet(\n",
    "#     regions_datadir + \"regions/\" + \"id_to_region.parquet\", engine=\"pyarrow\"\n",
    "# )\n",
    "# typed_dict = pd.Series(\n",
    "#     np.arange(building_region_mapping[\"id\"].values.shape[0]),\n",
    "#     index=building_region_mapping[\"id\"].values,\n",
    "# )\n",
    "# region_ids = building_region_mapping.groupby(\"region\")[\"id\"].unique()\n",
    "# del building_region_mapping  # its 2/3 gb"
   ]
  },
  {
   "cell_type": "code",
   "execution_count": 10,
   "id": "38f893be-eba0-42f2-9cd0-91d3fcf5753a",
   "metadata": {},
   "outputs": [
    {
     "name": "stdout",
     "output_type": "stream",
     "text": [
      "CPU times: user 218 ms, sys: 156 ms, total: 374 ms\n",
      "Wall time: 360 ms\n"
     ]
    }
   ],
   "source": [
    "%%time\n",
    "\n",
    "buildings = gpd.read_parquet(regions_buildings_dir + f'buildings_{region_id}.pq')"
   ]
  },
  {
   "cell_type": "code",
   "execution_count": null,
   "id": "e693265a-53f5-49c3-94cd-35ab7500bbd9",
   "metadata": {},
   "outputs": [],
   "source": []
  },
  {
   "cell_type": "code",
   "execution_count": 12,
   "id": "89550a09-e7e3-4ee0-b429-d7e04d526c71",
   "metadata": {},
   "outputs": [
    {
     "name": "stdout",
     "output_type": "stream",
     "text": [
      "Percent polygons:  1.0\n",
      "Final polygons:  457127 , dropped:  0.02918639964321368\n",
      "CPU times: user 1min 14s, sys: 324 ms, total: 1min 14s\n",
      "Wall time: 1min 15s\n"
     ]
    }
   ],
   "source": [
    "%%time\n",
    "\n",
    "buildings = process_region_buildings(buildings, True, simplification_tolerance=.1, merge_limit=25)"
   ]
  },
  {
   "cell_type": "code",
   "execution_count": 13,
   "id": "ba4dbb84-6b9c-46d2-8501-87a49feabd7f",
   "metadata": {},
   "outputs": [],
   "source": [
    "buildings.to_parquet(buildings_dir + f\"buildings_{region_id}.parquet\")"
   ]
  },
  {
   "cell_type": "code",
   "execution_count": null,
   "id": "d15444b4-53ff-4a80-9122-1af9f95f412d",
   "metadata": {},
   "outputs": [],
   "source": []
  },
  {
   "cell_type": "code",
   "execution_count": null,
   "id": "be728b0a-fe12-4036-9334-58b22d16e684",
   "metadata": {},
   "outputs": [],
   "source": []
  },
  {
   "cell_type": "markdown",
   "id": "6c583ddc-c40b-4b6e-aa41-a33bd00570f3",
   "metadata": {},
   "source": [
    "## Streets"
   ]
  },
  {
   "cell_type": "code",
   "execution_count": 17,
   "id": "e882ddf0-ff0b-429e-b39b-8ff4d7afd9da",
   "metadata": {},
   "outputs": [],
   "source": [
    "from core.generate_streets import process_region_streets, read_overture_region_streets"
   ]
  },
  {
   "cell_type": "code",
   "execution_count": 18,
   "id": "e5c36b67-5092-4577-b359-1ccef29979a3",
   "metadata": {},
   "outputs": [],
   "source": [
    "## overture is indexed based on 4326\n",
    "overture_hull = region_hulls.loc[[region_name], ].to_crs(epsg=4326).convex_hull.iloc[0]"
   ]
  },
  {
   "cell_type": "code",
   "execution_count": null,
   "id": "ac531dc8-2baf-4153-9067-bbcf15062a20",
   "metadata": {},
   "outputs": [],
   "source": []
  },
  {
   "cell_type": "code",
   "execution_count": 19,
   "id": "a084da1a-db92-41c5-9cd7-0c4f1e9996f7",
   "metadata": {},
   "outputs": [
    {
     "name": "stderr",
     "output_type": "stream",
     "text": [
      "/home/krasen/urban_taxonomy/manual_deps/sgeop/sgeop/geometry.py:227: UserWarning: Could not create a connection as it would lead outside of the artifact.\n",
      "  additions, splits = snap_to_targets(\n",
      "/home/krasen/urban_taxonomy/manual_deps/sgeop/sgeop/geometry.py:227: UserWarning: Could not create a connection as it would lead outside of the artifact.\n",
      "  additions, splits = snap_to_targets(\n",
      "/home/krasen/urban_taxonomy/manual_deps/sgeop/sgeop/simplify.py:343: UserWarning: An error occured at location POINT (4634734.833449237 3007874.1868347814). The artifact has not been simplified. The original message:\n",
      "can only convert an array of size 1 to a Python scalar\n",
      "  roads_cleaned = simplify_singletons(\n",
      "/home/krasen/urban_taxonomy/manual_deps/sgeop/sgeop/geometry.py:227: UserWarning: Could not create a connection as it would lead outside of the artifact.\n",
      "  additions, splits = snap_to_targets(\n",
      "/home/krasen/urban_taxonomy/manual_deps/sgeop/sgeop/simplify.py:200: UserWarning: Could not create a connection as it would lead outside of the artifact.\n",
      "  nx_gx_cluster(\n",
      "/home/krasen/urban_taxonomy/manual_deps/sgeop/sgeop/simplify.py:200: UserWarning: Could not create a connection as it would lead outside of the artifact.\n",
      "  nx_gx_cluster(\n",
      "/home/krasen/urban_taxonomy/manual_deps/sgeop/sgeop/simplify.py:200: UserWarning: Could not create a connection as it would lead outside of the artifact.\n",
      "  nx_gx_cluster(\n",
      "/home/krasen/urban_taxonomy/manual_deps/sgeop/sgeop/geometry.py:227: UserWarning: Could not create a connection as it would lead outside of the artifact.\n",
      "  additions, splits = snap_to_targets(\n"
     ]
    },
    {
     "name": "stdout",
     "output_type": "stream",
     "text": [
      "CPU times: user 9min 37s, sys: 4.67 s, total: 9min 42s\n",
      "Wall time: 12min 42s\n"
     ]
    }
   ],
   "source": [
    "%%time\n",
    "## processs streets\n",
    "streets = process_region_streets(overture_hull, region_id, buildings_dir)\n"
   ]
  },
  {
   "cell_type": "code",
   "execution_count": 20,
   "id": "2c486e30-a6ab-45a4-a4ec-b4c4e72e6992",
   "metadata": {},
   "outputs": [],
   "source": [
    "# streets.explore(tiles='cartodbpositron', prefer_canvas=True)"
   ]
  },
  {
   "cell_type": "code",
   "execution_count": null,
   "id": "3e1d44b4-5826-485a-b66b-5c6571872cc6",
   "metadata": {},
   "outputs": [],
   "source": []
  },
  {
   "cell_type": "code",
   "execution_count": null,
   "id": "d5a6d12d-d86a-4cb2-a4ec-76e5f27d0b51",
   "metadata": {},
   "outputs": [],
   "source": []
  },
  {
   "cell_type": "code",
   "execution_count": null,
   "id": "14040731-2f68-4f93-93b0-9407b8d93933",
   "metadata": {},
   "outputs": [],
   "source": []
  },
  {
   "cell_type": "code",
   "execution_count": 22,
   "id": "b50701f2-0431-4730-ace7-874771d8d8ce",
   "metadata": {},
   "outputs": [],
   "source": [
    "## save streets\n",
    "streets.to_parquet(streets_dir + f'streets_{region_id}.parquet')"
   ]
  },
  {
   "cell_type": "code",
   "execution_count": null,
   "id": "562890b1-83f3-4e2f-bfd0-f3928bffcf07",
   "metadata": {},
   "outputs": [],
   "source": []
  },
  {
   "cell_type": "code",
   "execution_count": 1,
   "id": "39e2b87d-3838-4a74-a940-034343aef67c",
   "metadata": {},
   "outputs": [],
   "source": [
    "import geopandas as gpd\n",
    "# gpd.read_parquet(streets_dir + f'streets_{region_id}.parquet').explore()"
   ]
  },
  {
   "cell_type": "code",
   "execution_count": 2,
   "id": "50dbdb54-f029-4511-b524-9ee29e7fe752",
   "metadata": {},
   "outputs": [],
   "source": [
    "# gpd.read_parquet(enclosures_dir + f'enclosure_{region_id}.parquet').explore()"
   ]
  },
  {
   "cell_type": "code",
   "execution_count": null,
   "id": "ec60a7fe-e872-4c01-b008-b33ba8fb0ca4",
   "metadata": {},
   "outputs": [],
   "source": []
  },
  {
   "cell_type": "code",
   "execution_count": null,
   "id": "939b137a-294a-4fe7-a70b-f58fce0471f2",
   "metadata": {},
   "outputs": [],
   "source": []
  },
  {
   "cell_type": "code",
   "execution_count": null,
   "id": "d27c4679-3543-414c-91be-ee3f2d9ac4bb",
   "metadata": {},
   "outputs": [],
   "source": []
  },
  {
   "cell_type": "markdown",
   "id": "3b23c6e4-17f5-42f0-987c-921d10557565",
   "metadata": {},
   "source": [
    "## Enclosures & Tessellation"
   ]
  },
  {
   "cell_type": "code",
   "execution_count": 23,
   "id": "b8314f1b-3efc-4439-965a-a48e87b34fa9",
   "metadata": {},
   "outputs": [],
   "source": [
    "from core.generate_elements import process_region_elements"
   ]
  },
  {
   "cell_type": "code",
   "execution_count": null,
   "id": "c68fd0e9-34df-4b2c-8cb1-82892a8da5ce",
   "metadata": {},
   "outputs": [],
   "source": []
  },
  {
   "cell_type": "code",
   "execution_count": 24,
   "id": "bbe4d0ac-0514-4e70-9f1e-eb70b28e05a6",
   "metadata": {},
   "outputs": [
    {
     "name": "stdout",
     "output_type": "stream",
     "text": [
      "---- Processing region:  69333 2024-09-13 19:56:49.895025\n"
     ]
    },
    {
     "name": "stderr",
     "output_type": "stream",
     "text": [
      "/home/krasen/urban_taxonomy/.pixi/envs/default/lib/python3.12/site-packages/joblib/externals/loky/process_executor.py:752: UserWarning: A worker stopped while some jobs were given to the executor. This can be caused by a too short worker timeout or by a memory leak.\n",
      "  warnings.warn(\n"
     ]
    },
    {
     "name": "stdout",
     "output_type": "stream",
     "text": [
      "Retrying tesselation with less buildings, potentially changing building data.\n"
     ]
    },
    {
     "name": "stderr",
     "output_type": "stream",
     "text": [
      "/home/krasen/urban_taxonomy/.pixi/envs/default/lib/python3.12/site-packages/joblib/externals/loky/process_executor.py:752: UserWarning: A worker stopped while some jobs were given to the executor. This can be caused by a too short worker timeout or by a memory leak.\n",
      "  warnings.warn(\n"
     ]
    },
    {
     "name": "stdout",
     "output_type": "stream",
     "text": [
      "Dropping 2 buildings due to tesselation problems\n",
      "CPU times: user 3min 30s, sys: 4.47 s, total: 3min 35s\n",
      "Wall time: 4min 50s\n"
     ]
    }
   ],
   "source": [
    "%%time\n",
    "enclosures, tesselations = process_region_elements(buildings_dir, streets_dir, region_id)"
   ]
  },
  {
   "cell_type": "code",
   "execution_count": 25,
   "id": "d0a92a51-e839-4728-bd09-98141315f7f9",
   "metadata": {},
   "outputs": [
    {
     "name": "stdout",
     "output_type": "stream",
     "text": [
      "Processed enclosures\n",
      "processed tesselations\n"
     ]
    }
   ],
   "source": [
    "enclosures.to_parquet(enclosures_dir + f\"enclosure_{region_id}.parquet\")\n",
    "print(\"Processed enclosures\")\n",
    "\n",
    "## save files\n",
    "tesselations.to_parquet(\n",
    "    tessellations_dir + f\"tessellation_{region_id}.parquet\"\n",
    ")\n",
    "print(\"processed tesselations\")"
   ]
  },
  {
   "cell_type": "code",
   "execution_count": 26,
   "id": "413c332a-78c8-4191-912e-db9f28704209",
   "metadata": {},
   "outputs": [],
   "source": [
    "# import lonboard\n",
    "# layer = lonboard.PolygonLayer.from_geopandas(tesselations, opacity=0.15)\n",
    "# m = lonboard.Map([layer])\n",
    "# m"
   ]
  },
  {
   "cell_type": "code",
   "execution_count": 27,
   "id": "130a6515-93f5-4067-ac88-645df3802443",
   "metadata": {},
   "outputs": [],
   "source": [
    "# layer = lonboard.PolygonLayer.from_geopandas(enclosures, opacity=0.15)\n",
    "# m = lonboard.Map([layer])\n",
    "# m"
   ]
  },
  {
   "cell_type": "code",
   "execution_count": null,
   "id": "f51d78b0-9c40-4162-b22c-c8f3ee16deaf",
   "metadata": {},
   "outputs": [],
   "source": []
  },
  {
   "cell_type": "code",
   "execution_count": null,
   "id": "dd455920-66df-4fd5-8ced-64fc626334c7",
   "metadata": {},
   "outputs": [],
   "source": []
  },
  {
   "cell_type": "markdown",
   "id": "c4f68f61-03d3-4603-b9f0-9b8704ca469b",
   "metadata": {},
   "source": [
    "## Graphs"
   ]
  },
  {
   "cell_type": "code",
   "execution_count": 28,
   "id": "4f52f1d9-b910-4d41-a086-8b2faa858f96",
   "metadata": {},
   "outputs": [],
   "source": [
    "from core.generate_ngraphs import process_region_graphs"
   ]
  },
  {
   "cell_type": "code",
   "execution_count": 29,
   "id": "ad6345c5-f2de-4c7d-abc5-c1c33ede6c2a",
   "metadata": {},
   "outputs": [
    {
     "name": "stdout",
     "output_type": "stream",
     "text": [
      "Built tess graph knn=1\n",
      "Built buildings graph knn=1\n",
      "Built streets graph knn=1\n",
      "Built enclosure graph knn=1\n"
     ]
    },
    {
     "name": "stderr",
     "output_type": "stream",
     "text": [
      "/home/krasen/urban_taxonomy/.pixi/envs/default/lib/python3.12/site-packages/libpysal/weights/weights.py:1685: UserWarning: The weights matrix is not fully connected: \n",
      " There are 243 disconnected components.\n",
      "  w = W(neighbors, weights, ids, silence_warnings=silence_warnings)\n"
     ]
    },
    {
     "name": "stdout",
     "output_type": "stream",
     "text": [
      "Built nodes graph knn=1\n",
      "CPU times: user 43.5 s, sys: 834 ms, total: 44.3 s\n",
      "Wall time: 44.2 s\n"
     ]
    }
   ],
   "source": [
    "%%time\n",
    "process_region_graphs(\n",
    "    region_id,\n",
    "    graph_dir,\n",
    "    buildings_dir,\n",
    "    streets_dir,\n",
    "    enclosures_dir,\n",
    "    tessellations_dir,\n",
    ")"
   ]
  },
  {
   "cell_type": "code",
   "execution_count": null,
   "id": "d63f787a-8eb6-4f84-8fea-c0ef9b56d997",
   "metadata": {},
   "outputs": [],
   "source": []
  },
  {
   "cell_type": "code",
   "execution_count": null,
   "id": "8e4d9e7c-7805-488e-b2d7-6949b732a2af",
   "metadata": {},
   "outputs": [],
   "source": []
  },
  {
   "cell_type": "markdown",
   "id": "6e7bc073-b62b-4aa4-b09d-c93d07428e77",
   "metadata": {},
   "source": [
    "## Characters"
   ]
  },
  {
   "cell_type": "code",
   "execution_count": 30,
   "id": "105c07ab-ede1-4f70-bc5d-eb0958d00c06",
   "metadata": {},
   "outputs": [],
   "source": [
    "from core.generate_chars import process_single_region_chars, process_street_chars"
   ]
  },
  {
   "cell_type": "code",
   "execution_count": 31,
   "id": "6af38e44-98ae-4c27-917e-c03123c8b034",
   "metadata": {},
   "outputs": [
    {
     "name": "stdout",
     "output_type": "stream",
     "text": [
      "2024-09-13 20:03:29.594669 ----Processing ------ 69333\n",
      "Processing streets\n",
      "Processing enclosures\n",
      "Processing buildings\n"
     ]
    },
    {
     "name": "stderr",
     "output_type": "stream",
     "text": [
      "/home/krasen/urban_taxonomy/manual_deps/momepy/momepy/functional/_shape.py:576: RuntimeWarning: Mean of empty slice\n",
      "  return np.nanmean(np.abs(90 - degrees[true_angles]))\n",
      "/home/krasen/urban_taxonomy/manual_deps/momepy/momepy/functional/_shape.py:737: RuntimeWarning: Mean of empty slice\n",
      "  return Series({\"mean\": np.nanmean(dists), \"std\": np.nanstd(dists)})\n",
      "/home/krasen/urban_taxonomy/.pixi/envs/default/lib/python3.12/site-packages/numpy/lib/_nanfunctions_impl.py:2035: RuntimeWarning: Degrees of freedom <= 0 for slice.\n",
      "  var = nanvar(a, axis=axis, dtype=dtype, out=out, ddof=ddof,\n"
     ]
    },
    {
     "name": "stdout",
     "output_type": "stream",
     "text": [
      "Processing tessellation\n",
      "CPU times: user 10min 21s, sys: 3.83 s, total: 10min 24s\n",
      "Wall time: 10min 23s\n"
     ]
    }
   ],
   "source": [
    "%%time\n",
    "process_single_region_chars(\n",
    "    region_id,\n",
    "    graph_dir,\n",
    "    buildings_dir,\n",
    "    streets_dir,\n",
    "    enclosures_dir,\n",
    "    tessellations_dir,\n",
    "    chars_dir\n",
    ")"
   ]
  },
  {
   "cell_type": "code",
   "execution_count": null,
   "id": "f40f7b79-4030-44bf-9325-2926eab48fa5",
   "metadata": {},
   "outputs": [],
   "source": []
  },
  {
   "cell_type": "code",
   "execution_count": null,
   "id": "cb7503cc-a57d-4bfd-b7cc-21998c3ec1d0",
   "metadata": {},
   "outputs": [],
   "source": []
  },
  {
   "cell_type": "code",
   "execution_count": null,
   "id": "3fc1ba8d-9eef-44ca-b50f-6e1a846a7ff6",
   "metadata": {},
   "outputs": [],
   "source": []
  },
  {
   "cell_type": "markdown",
   "id": "019091f7-625b-48ac-932b-b5ccd8e00fbe",
   "metadata": {},
   "source": [
    "## Generate primary data"
   ]
  },
  {
   "cell_type": "code",
   "execution_count": 32,
   "id": "7343fa13-9384-46c1-b8e1-e072bdb59c25",
   "metadata": {},
   "outputs": [],
   "source": [
    "tessellation = gpd.read_parquet(chars_dir + f\"tessellations_chars_{region_id}.parquet\")\n",
    "buildings = gpd.read_parquet(chars_dir + f\"buildings_chars_{region_id}.parquet\")\n",
    "enclosures = gpd.read_parquet(chars_dir + f\"enclosures_chars_{region_id}.parquet\")\n",
    "streets = gpd.read_parquet(chars_dir + f\"streets_chars_{region_id}.parquet\")\n",
    "nodes = gpd.read_parquet(chars_dir + f\"nodes_chars_{region_id}.parquet\")"
   ]
  },
  {
   "cell_type": "code",
   "execution_count": 33,
   "id": "ff6b89b4-4eca-4854-8063-9393bf3b5fb1",
   "metadata": {},
   "outputs": [],
   "source": [
    "\n",
    "merged = pd.merge(\n",
    "    tessellation.drop(columns=[\"geometry\"]),\n",
    "    buildings.drop(columns=[\"nodeID\", \"geometry\", 'nID']),\n",
    "    right_index=True,\n",
    "    left_index=True,\n",
    "    how=\"left\",\n",
    ")\n",
    "\n",
    "merged = merged.merge(\n",
    "    enclosures.drop(columns=\"geometry\"),\n",
    "    right_on=\"eID\",\n",
    "    left_on=\"enclosure_index\",\n",
    "    how=\"left\",\n",
    ")\n",
    "\n",
    "merged = merged.merge(streets.drop(columns=\"geometry\"), on=\"nID\", how=\"left\")\n",
    "merged = merged.merge(nodes.drop(columns=\"geometry\"), on=\"nodeID\", how=\"left\")\n",
    "\n",
    "merged = merged.drop(\n",
    "    columns=[\n",
    "        \"nID\",\n",
    "        \"eID\",\n",
    "        \"nodeID\",\n",
    "        \"mm_len\",\n",
    "        \"cdsbool\",\n",
    "        \"node_start\",\n",
    "        \"node_end\",\n",
    "        \"x\",\n",
    "        \"y\",\n",
    "        \"enclosure_index\",\n",
    "        # \"id\",\n",
    "        # \"osm_id\",\n",
    "        \"index\",  ## maybe keep\n",
    "    ]\n",
    ")\n",
    "merged = merged.set_index(tessellation.index)"
   ]
  },
  {
   "cell_type": "code",
   "execution_count": 34,
   "id": "5f1e25c0-3c99-418e-b817-a34564f47ebe",
   "metadata": {},
   "outputs": [],
   "source": [
    "from core.utils import used_keys"
   ]
  },
  {
   "cell_type": "code",
   "execution_count": 35,
   "id": "4482d0b4-553b-4914-9830-a376896a8979",
   "metadata": {},
   "outputs": [
    {
     "data": {
      "text/plain": [
       "(460909, 63)"
      ]
     },
     "execution_count": 35,
     "metadata": {},
     "output_type": "execute_result"
    }
   ],
   "source": [
    "primary = merged[list(used_keys.keys())]\n",
    "primary.shape"
   ]
  },
  {
   "cell_type": "code",
   "execution_count": 36,
   "id": "ddbdd396-6e6b-471e-80c3-316ac25c4196",
   "metadata": {},
   "outputs": [],
   "source": [
    "primary.to_parquet(chars_dir + f'primary_chars_{region_id}.parquet')"
   ]
  },
  {
   "cell_type": "code",
   "execution_count": null,
   "id": "12dcee72-a9b2-4203-8c10-94b53fa1fa2d",
   "metadata": {},
   "outputs": [],
   "source": []
  },
  {
   "cell_type": "code",
   "execution_count": null,
   "id": "bc392cd5-8020-45f6-beee-03b1a9d4de7d",
   "metadata": {},
   "outputs": [],
   "source": []
  },
  {
   "cell_type": "code",
   "execution_count": null,
   "id": "919eb4cb-1a64-4441-84f7-c8192dca5866",
   "metadata": {},
   "outputs": [],
   "source": []
  },
  {
   "cell_type": "code",
   "execution_count": null,
   "id": "c672a9ec-c494-47fc-9023-11666e0350a8",
   "metadata": {},
   "outputs": [],
   "source": []
  },
  {
   "cell_type": "code",
   "execution_count": null,
   "id": "cb5c1227-7894-4eec-a001-f03fba41b5be",
   "metadata": {},
   "outputs": [],
   "source": []
  },
  {
   "cell_type": "markdown",
   "id": "449d17e8-3026-4070-8f34-70d9621cbc9c",
   "metadata": {},
   "source": [
    "----"
   ]
  },
  {
   "cell_type": "code",
   "execution_count": 12,
   "id": "1387d97f-af1b-411f-80d2-470f86ae409d",
   "metadata": {},
   "outputs": [
    {
     "name": "stdout",
     "output_type": "stream",
     "text": [
      "CPU times: user 3.85 s, sys: 1.97 s, total: 5.82 s\n",
      "Wall time: 2min 50s\n"
     ]
    }
   ],
   "source": [
    "%%time\n",
    "streets = read_overture_region_streets(overture_hull, region_id)"
   ]
  },
  {
   "cell_type": "code",
   "execution_count": null,
   "id": "4e9bc5fb-df58-47da-b53e-07345deaedbf",
   "metadata": {},
   "outputs": [],
   "source": []
  },
  {
   "cell_type": "code",
   "execution_count": null,
   "id": "ae45d969-c8e5-4976-92f4-abc1791ddeb6",
   "metadata": {},
   "outputs": [],
   "source": []
  },
  {
   "cell_type": "code",
   "execution_count": 14,
   "id": "79f8f8a0-0650-4ff9-acbd-d16c85d50536",
   "metadata": {},
   "outputs": [],
   "source": [
    "## service road removed\n",
    "approved_roads = ['living_street',\n",
    "                 'motorway',\n",
    "                 'motorway_link',\n",
    "                 'pedestrian',\n",
    "                 'primary',\n",
    "                 'primary_link',\n",
    "                 'residential',\n",
    "                 'secondary',\n",
    "                 'secondary_link',\n",
    "                 'tertiary',\n",
    "                 'tertiary_link',\n",
    "                 'trunk',\n",
    "                 'trunk_link',\n",
    "                 'unclassified']\n",
    "streets = streets[streets['class'].isin(approved_roads)]"
   ]
  },
  {
   "cell_type": "code",
   "execution_count": 16,
   "id": "71ce05f2-0103-4f5b-9a4b-206587597744",
   "metadata": {},
   "outputs": [
    {
     "data": {
      "text/plain": [
       "Index(['id', 'geometry', 'bbox', 'version', 'sources', 'subtype', 'class',\n",
       "       'names', 'connector_ids', 'connectors', 'routes', 'subclass',\n",
       "       'subclass_rules', 'access_restrictions', 'level_rules', 'destinations',\n",
       "       'prohibited_transitions', 'road_surface', 'road_flags', 'speed_limits',\n",
       "       'width_rules'],\n",
       "      dtype='object')"
      ]
     },
     "execution_count": 16,
     "metadata": {},
     "output_type": "execute_result"
    }
   ],
   "source": [
    "streets.columns"
   ]
  },
  {
   "cell_type": "code",
   "execution_count": 114,
   "id": "6efa5baa-b419-4655-89d5-9a2c6cbc011d",
   "metadata": {},
   "outputs": [
    {
     "data": {
      "text/plain": [
       "26850     [{'value': 1, 'between': [0.050136164, 0.05940...\n",
       "109595    [{'value': 1, 'between': [0.915219696, 0.94196...\n",
       "109620    [{'value': 1, 'between': [0.151529713, 0.27965...\n",
       "109827    [{'value': 1, 'between': [0.375746636, 0.41757...\n",
       "109851    [{'value': 1, 'between': [0.509854034, 0.54010...\n",
       "                                ...                        \n",
       "209391    [{'value': 1, 'between': [0.670127379, 0.94802...\n",
       "209376    [{'value': 1, 'between': [0.772954601, 0.86785...\n",
       "209412    [{'value': 1, 'between': [0.004426714, 0.01168...\n",
       "199133                                                 None\n",
       "200798    [{'value': 1, 'between': [0.658627462, 0.80559...\n",
       "Name: level_rules, Length: 2690, dtype: object"
      ]
     },
     "execution_count": 114,
     "metadata": {},
     "output_type": "execute_result"
    }
   ],
   "source": [
    "streets.loc[~streets.road_flags.isna(), 'level_rules']"
   ]
  },
  {
   "cell_type": "code",
   "execution_count": 69,
   "id": "ace7976b-9b8c-4d16-b066-ebd797c61099",
   "metadata": {},
   "outputs": [],
   "source": [
    "to_filter = streets.loc[~streets.road_flags.isna(), ].set_crs(epsg=4236).to_crs(epsg=3035)"
   ]
  },
  {
   "cell_type": "code",
   "execution_count": 106,
   "id": "cf47a97c-e1db-4682-ae3f-638994f8a5b3",
   "metadata": {},
   "outputs": [],
   "source": [
    "def to_drop_tunnel(row):\n",
    "    tunnel_length = row.geometry.length\n",
    "    flags = row.road_flags\n",
    "\n",
    "    total_tunnel_proportion = -1\n",
    "    for flag in flags:\n",
    "        if 'values' in flag and ('is_tunnel' in flag['values']) :\n",
    "            # between could be missing to show the whole thing is a tunnel\n",
    "            total_tunnel_proportion = 0.0 if total_tunnel_proportion < 0 else total_tunnel_proportion\n",
    "            # betweencould be None to indicate the whole thing is a tunnel \n",
    "            if ('between' in flag) and (flag['between'] is not None):\n",
    "                s,e = flag['between'][0], flag['between'][1]\n",
    "                total_tunnel_proportion += (e - s)\n",
    "    \n",
    "    if (total_tunnel_proportion*tunnel_length) > 50:\n",
    "        return True\n",
    "    elif total_tunnel_proportion == 0.0:\n",
    "        return True\n",
    "    return False"
   ]
  },
  {
   "cell_type": "code",
   "execution_count": 110,
   "id": "485dc1d9-a005-4249-897b-5f0cc0c41c55",
   "metadata": {
    "scrolled": true
   },
   "outputs": [],
   "source": [
    "tunnels_to_drop = to_filter.apply(to_drop_tunnel, axis=1)"
   ]
  },
  {
   "cell_type": "code",
   "execution_count": 111,
   "id": "1509f9a1-fd6b-4fc5-b1cf-5c7d775846ae",
   "metadata": {},
   "outputs": [],
   "source": [
    "streets = streets.drop(to_filter[tunnels_to_drop].index)"
   ]
  },
  {
   "cell_type": "code",
   "execution_count": 118,
   "id": "7ef09a2d-fd34-4f37-82e3-cd2e47f12092",
   "metadata": {},
   "outputs": [],
   "source": [
    "streets = streets.set_crs(epsg=4326).to_crs(epsg=3035)"
   ]
  },
  {
   "cell_type": "code",
   "execution_count": null,
   "id": "de5f64fd-8d21-4dcd-9e78-4803deec2db8",
   "metadata": {},
   "outputs": [],
   "source": []
  },
  {
   "cell_type": "code",
   "execution_count": 124,
   "id": "ca8a8111-be29-46b6-9f6d-19ad2b9ac0ae",
   "metadata": {},
   "outputs": [
    {
     "data": {
      "text/plain": [
       "(49026, 17)"
      ]
     },
     "execution_count": 124,
     "metadata": {},
     "output_type": "execute_result"
    }
   ],
   "source": []
  },
  {
   "cell_type": "code",
   "execution_count": null,
   "id": "ade83b2c-bbf3-4f3d-babe-621039828cf7",
   "metadata": {},
   "outputs": [],
   "source": []
  },
  {
   "cell_type": "code",
   "execution_count": 120,
   "id": "1213c04c-c2c0-4db1-ad35-a2234cd9a56e",
   "metadata": {},
   "outputs": [],
   "source": [
    "# streets[(~streets.level_rules.isna()) & (streets.road_flags.isna())].explore()"
   ]
  },
  {
   "cell_type": "code",
   "execution_count": 123,
   "id": "14bc21b4-93c0-41c9-8645-6d51aaaea841",
   "metadata": {},
   "outputs": [],
   "source": [
    "# def to_drop_tunnel(tunnel):\n",
    "#     tunnel_length = tunnel.geometry.length\n",
    "#     tunnel = json.loads(tunnel.road)\n",
    "#     if 'flags' in tunnel:\n",
    "#         total_tunnel_proportion = 0.0\n",
    "#         for flag in tunnel['flags']:\n",
    "#             if 'between' in flag:\n",
    "#                 s,e = flag['between'][0], flag['between'][1]\n",
    "#                 total_tunnel_proportion += (e - s)\n",
    "#         if (total_tunnel_proportion*tunnel_length) > 50:\n",
    "#             return True\n",
    "#         elif total_tunnel_proportion == 0.0:\n",
    "#             return True\n",
    "#     return False"
   ]
  },
  {
   "cell_type": "code",
   "execution_count": null,
   "id": "bf3e13ce-10e1-4069-902e-fe40260a1a9f",
   "metadata": {},
   "outputs": [],
   "source": [
    "\n"
   ]
  },
  {
   "cell_type": "code",
   "execution_count": 1,
   "id": "64e6e011-d622-4c79-a5e6-0978c5109724",
   "metadata": {},
   "outputs": [],
   "source": [
    "import sgeop\n",
    "import geopandas\n",
    "roads = geopandas.read_parquet(\"/data/uscuni-ulce/processed_data/streets/streets_69300.parquet\")\n",
    "buildings = geopandas.read_parquet(\n",
    "    \"/data/uscuni-ulce/processed_data/buildings/buildings_69300.parquet\", columns=[\"geometry\"]\n",
    ")\n"
   ]
  },
  {
   "cell_type": "code",
   "execution_count": null,
   "id": "f378fed0-8f25-4a12-88e2-1253f0049108",
   "metadata": {},
   "outputs": [],
   "source": []
  },
  {
   "cell_type": "code",
   "execution_count": 2,
   "id": "a68e4b3e-bf04-4cd2-8604-17b241580412",
   "metadata": {},
   "outputs": [
    {
     "name": "stderr",
     "output_type": "stream",
     "text": [
      "/home/krasen/sgeop/sgeop/geometry.py:227: UserWarning: Could not create a connection as it would lead outside of the artifact.\n",
      "  additions, splits = snap_to_targets(\n",
      "/home/krasen/sgeop/sgeop/simplify.py:343: UserWarning: An error occured at location POINT (4634734.833449237 3007874.1868347814). The artifact has not been simplified. The original message:\n",
      "can only convert an array of size 1 to a Python scalar\n",
      "  roads_cleaned = simplify_singletons(\n"
     ]
    },
    {
     "name": "stdout",
     "output_type": "stream",
     "text": [
      "CPU times: user 5min 28s, sys: 2.15 s, total: 5min 30s\n",
      "Wall time: 5min 25s\n"
     ]
    }
   ],
   "source": [
    "%%time\n",
    "new_roads = sgeop.simplify_network(\n",
    "    roads,\n",
    "    exclusion_mask=buildings.geometry,\n",
    "    artifact_threshold_fallback=7,\n",
    ")"
   ]
  },
  {
   "cell_type": "code",
   "execution_count": 7,
   "id": "ae476d61-5c66-479f-b2af-f5da82d062a9",
   "metadata": {},
   "outputs": [],
   "source": [
    "# new_roads.explore(tiles='cartodbpositron', prefer_canvas=True)"
   ]
  },
  {
   "cell_type": "code",
   "execution_count": null,
   "id": "7d6e7d82-7b4b-45c2-baba-7ebd0d9d4dec",
   "metadata": {},
   "outputs": [],
   "source": []
  }
 ],
 "metadata": {
  "kernelspec": {
   "display_name": "Python 3 (ipykernel)",
   "language": "python",
   "name": "python3"
  },
  "language_info": {
   "codemirror_mode": {
    "name": "ipython",
    "version": 3
   },
   "file_extension": ".py",
   "mimetype": "text/x-python",
   "name": "python",
   "nbconvert_exporter": "python",
   "pygments_lexer": "ipython3",
   "version": "3.12.5"
  }
 },
 "nbformat": 4,
 "nbformat_minor": 5
}
