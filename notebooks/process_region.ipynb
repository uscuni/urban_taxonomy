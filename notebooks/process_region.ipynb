{
 "cells": [
  {
   "cell_type": "code",
   "execution_count": 1,
   "id": "b46c8a5f-40bf-4312-b39e-1f29bbcbb262",
   "metadata": {},
   "outputs": [],
   "source": [
    "import gc\n",
    "import glob\n",
    "\n",
    "import geopandas as gpd\n",
    "import momepy as mm\n",
    "import numpy as np\n",
    "import pandas as pd\n",
    "import shapely\n",
    "from libpysal.graph import Graph, read_parquet\n",
    "import datetime"
   ]
  },
  {
   "cell_type": "code",
   "execution_count": null,
   "id": "ba2806de-b143-4f80-88e5-dda39d213cf6",
   "metadata": {},
   "outputs": [],
   "source": []
  },
  {
   "cell_type": "code",
   "execution_count": 2,
   "id": "06df3676-94c7-4477-8abc-cdeb02c813c6",
   "metadata": {},
   "outputs": [],
   "source": [
    "buildings_dir = '/data/uscuni-ulce/processed_data/buildings/'\n",
    "streets_dir = '/data/uscuni-ulce/processed_data/streets/'\n",
    "enclosures_dir = '/data/uscuni-ulce/processed_data/enclosures/'\n",
    "tessellations_dir = '/data/uscuni-ulce/processed_data/tessellations/'\n",
    "graph_dir = '/data/uscuni-ulce/processed_data/neigh_graphs/'\n",
    "chars_dir = '/data/uscuni-ulce/processed_data/chars/'\n",
    "\n",
    "regions_datadir = \"/data/uscuni-ulce/\"\n",
    "eubucco_files = glob.glob(regions_datadir + \"eubucco_raw/*\")"
   ]
  },
  {
   "cell_type": "code",
   "execution_count": null,
   "id": "ebb8307c-d05d-4aef-a699-f85f74c76a32",
   "metadata": {},
   "outputs": [],
   "source": []
  },
  {
   "cell_type": "code",
   "execution_count": 3,
   "id": "99654297-9154-4fd1-a7c8-d99bb20d9f5b",
   "metadata": {},
   "outputs": [],
   "source": [
    "## to build a new conda env\n",
    "## conda install -c conda-forge momepy umap-learn fast_hdbscan jupyterlab pyarrow matplotlib lonboard folium mapclassify datashader bokeh holoviews dask\n",
    "# pip install -e . for shapely, momepy, core, geoplanar, fast_hdbscan"
   ]
  },
  {
   "cell_type": "code",
   "execution_count": null,
   "id": "7de94bbb-f1e4-4aa0-80cb-59572a22b530",
   "metadata": {},
   "outputs": [],
   "source": []
  },
  {
   "cell_type": "code",
   "execution_count": 4,
   "id": "6b137edf-903b-4b37-b928-a04d84c713fc",
   "metadata": {},
   "outputs": [],
   "source": [
    "### used for testing\n",
    "# osm_ids = ['v0.1-DEU.9.8.13.1_1-194', 'v0.1-DEU.9.8.13.1_1-232',\n",
    "#        'v0.1-DEU.9.8.13.1_1-214', 'v0.1-DEU.9.8.13.1_1-273',\n",
    "#        'v0.1-DEU.9.8.13.1_1-211', 'v0.1-DEU.9.8.13.1_1-188',\n",
    "#        'v0.1-DEU.9.8.13.1_1-192', 'v0.1-DEU.9.8.13.1_1-276',\n",
    "#        'v0.1-DEU.9.8.13.1_1-191', 'v0.1-DEU.9.8.13.1_1-184',\n",
    "#        'v0.1-DEU.9.8.13.1_1-245', 'v0.1-DEU.9.8.13.1_1-275']"
   ]
  },
  {
   "cell_type": "code",
   "execution_count": null,
   "id": "075c4a4e-56ad-4d6c-885a-ff44403ea88e",
   "metadata": {},
   "outputs": [],
   "source": []
  },
  {
   "cell_type": "code",
   "execution_count": null,
   "id": "15ce7e3e-333d-474b-8d21-29d06a0b486a",
   "metadata": {},
   "outputs": [],
   "source": []
  },
  {
   "cell_type": "code",
   "execution_count": 5,
   "id": "6fae1366-68fd-44f0-9f2b-1c051751858a",
   "metadata": {},
   "outputs": [],
   "source": [
    "region_name = 69300\n",
    "region_hulls = gpd.read_parquet(\n",
    "        regions_datadir + \"regions/\" + \"regions_hull.parquet\"\n",
    "    )\n",
    "region_id, region_hull = region_hulls.loc[region_name].name, region_hulls.loc[region_name].convex_hull"
   ]
  },
  {
   "cell_type": "code",
   "execution_count": null,
   "id": "3300a4b1-8761-4af3-872e-02fb4965f192",
   "metadata": {},
   "outputs": [],
   "source": []
  },
  {
   "cell_type": "code",
   "execution_count": null,
   "id": "640c8976-2e54-4301-a1f0-be44e5512498",
   "metadata": {},
   "outputs": [],
   "source": []
  },
  {
   "cell_type": "code",
   "execution_count": null,
   "id": "7a2873ab-a6a2-4459-85db-e52cb2c28f26",
   "metadata": {},
   "outputs": [],
   "source": []
  },
  {
   "cell_type": "code",
   "execution_count": null,
   "id": "b7e0d271-32a3-4189-9086-4beed701c621",
   "metadata": {},
   "outputs": [],
   "source": []
  },
  {
   "cell_type": "code",
   "execution_count": 15,
   "id": "501e5d76-5527-4d21-86dd-bdac67c434e2",
   "metadata": {},
   "outputs": [],
   "source": [
    "## freiburg\n",
    "gdf = gpd.read_parquet('../data/freiburg/buildings_freiburg.parquet').to_crs(epsg=3035)\n",
    "region_id = region_name = 'freiburg'\n",
    "region_hull = gdf.union_all().convex_hull\n",
    "region_hulls = gpd.GeoDataFrame({'geometry': [region_hull]}, index=[region_id], crs=gdf.crs)\n",
    "buildings_dir = streets_dir = enclosures_dir = tessellations_dir = graph_dir = '../data/freiburg/'\n",
    "chars_dir = '../data/freiburg/chars/'"
   ]
  },
  {
   "cell_type": "code",
   "execution_count": null,
   "id": "1b5c5bc4-ae84-46fe-a785-98796403ccba",
   "metadata": {},
   "outputs": [],
   "source": []
  },
  {
   "cell_type": "markdown",
   "id": "04f5e659-4693-4ec0-9cbf-fa49acb9d45b",
   "metadata": {},
   "source": [
    "## Streets"
   ]
  },
  {
   "cell_type": "code",
   "execution_count": 16,
   "id": "e882ddf0-ff0b-429e-b39b-8ff4d7afd9da",
   "metadata": {},
   "outputs": [],
   "source": [
    "from core.generate_streets import process_region_streets"
   ]
  },
  {
   "cell_type": "code",
   "execution_count": 17,
   "id": "e5c36b67-5092-4577-b359-1ccef29979a3",
   "metadata": {},
   "outputs": [],
   "source": [
    "## overture is indexed based on 4326\n",
    "overture_hull = region_hulls.loc[[region_name], ].to_crs(epsg=4326).convex_hull.iloc[0]"
   ]
  },
  {
   "cell_type": "code",
   "execution_count": 18,
   "id": "a084da1a-db92-41c5-9cd7-0c4f1e9996f7",
   "metadata": {},
   "outputs": [
    {
     "name": "stdout",
     "output_type": "stream",
     "text": [
      "CPU times: user 1.83 s, sys: 931 ms, total: 2.76 s\n",
      "Wall time: 2min 24s\n"
     ]
    },
    {
     "name": "stderr",
     "output_type": "stream",
     "text": [
      "/home/krasen/urban_taxonomy/core/generate_streets.py:62: FutureWarning: Downcasting object dtype arrays on .fillna, .ffill, .bfill is deprecated and will change in a future version. Call result.infer_objects(copy=False) instead. To opt-in to the future behavior, set `pd.set_option('future.no_silent_downcasting', True)`\n",
      "  tunnels = streets[streets.road.str.contains('tunnel').fillna(False)].set_crs(epsg=4236).to_crs(epsg=3035)\n"
     ]
    }
   ],
   "source": [
    "%%time\n",
    "## processs streets\n",
    "streets = process_region_streets(overture_hull, region_id)\n",
    "## save streets\n",
    "streets.to_parquet(streets_dir + f'streets_{region_id}.parquet')"
   ]
  },
  {
   "cell_type": "code",
   "execution_count": 20,
   "id": "2c486e30-a6ab-45a4-a4ec-b4c4e72e6992",
   "metadata": {},
   "outputs": [],
   "source": [
    "# streets.explore(tiles='cartodbpositron', prefer_canvas=True)"
   ]
  },
  {
   "cell_type": "code",
   "execution_count": null,
   "id": "39e2b87d-3838-4a74-a940-034343aef67c",
   "metadata": {},
   "outputs": [],
   "source": [
    "# streets.plot()"
   ]
  },
  {
   "cell_type": "code",
   "execution_count": null,
   "id": "a7627de9-f58f-4efd-ba1d-04e02a20c913",
   "metadata": {},
   "outputs": [],
   "source": []
  },
  {
   "cell_type": "markdown",
   "id": "7e12723b-0bba-40af-aae2-ca69bbc8b28d",
   "metadata": {
    "jp-MarkdownHeadingCollapsed": true
   },
   "source": [
    "## Buildings\n"
   ]
  },
  {
   "cell_type": "code",
   "execution_count": null,
   "id": "932b7126-34d5-47eb-a83a-07ba6dbba127",
   "metadata": {},
   "outputs": [],
   "source": [
    "from core.generate_buildings import read_region_buildings, process_region_buildings"
   ]
  },
  {
   "cell_type": "code",
   "execution_count": null,
   "id": "4f7cf8de-c4fc-4059-b1d9-5fa9d2365346",
   "metadata": {},
   "outputs": [],
   "source": [
    "## need to link eubucco building polygons to regions, this will change in the future\n",
    "building_region_mapping = pd.read_parquet(\n",
    "    regions_datadir + \"regions/\" + \"id_to_region.parquet\", engine=\"pyarrow\"\n",
    ")\n",
    "typed_dict = pd.Series(\n",
    "    np.arange(building_region_mapping[\"id\"].values.shape[0]),\n",
    "    index=building_region_mapping[\"id\"].values,\n",
    ")\n",
    "region_ids = building_region_mapping.groupby(\"region\")[\"id\"].unique()\n",
    "del building_region_mapping  # its 2/3 gb"
   ]
  },
  {
   "cell_type": "code",
   "execution_count": null,
   "id": "38f893be-eba0-42f2-9cd0-91d3fcf5753a",
   "metadata": {},
   "outputs": [],
   "source": []
  },
  {
   "cell_type": "code",
   "execution_count": null,
   "id": "89550a09-e7e3-4ee0-b429-d7e04d526c71",
   "metadata": {},
   "outputs": [],
   "source": [
    "%%time\n",
    "\n",
    "buildings = read_region_buildings(\n",
    "    typed_dict, region_ids, region_hull, region_id\n",
    ")\n",
    "\n",
    "buildings = process_region_buildings(buildings, True, simplification_tolerance=.1, merge_limit=25)\n",
    "\n"
   ]
  },
  {
   "cell_type": "code",
   "execution_count": null,
   "id": "ba4dbb84-6b9c-46d2-8501-87a49feabd7f",
   "metadata": {},
   "outputs": [],
   "source": [
    "buildings.to_parquet(buildings_dir + f\"buildings_{region_id}.parquet\")"
   ]
  },
  {
   "cell_type": "code",
   "execution_count": null,
   "id": "d15444b4-53ff-4a80-9122-1af9f95f412d",
   "metadata": {},
   "outputs": [],
   "source": []
  },
  {
   "cell_type": "code",
   "execution_count": null,
   "id": "be728b0a-fe12-4036-9334-58b22d16e684",
   "metadata": {},
   "outputs": [],
   "source": []
  },
  {
   "cell_type": "code",
   "execution_count": null,
   "id": "50dbdb54-f029-4511-b524-9ee29e7fe752",
   "metadata": {},
   "outputs": [],
   "source": []
  },
  {
   "cell_type": "code",
   "execution_count": null,
   "id": "ec60a7fe-e872-4c01-b008-b33ba8fb0ca4",
   "metadata": {},
   "outputs": [],
   "source": []
  },
  {
   "cell_type": "code",
   "execution_count": null,
   "id": "939b137a-294a-4fe7-a70b-f58fce0471f2",
   "metadata": {},
   "outputs": [],
   "source": []
  },
  {
   "cell_type": "code",
   "execution_count": null,
   "id": "d27c4679-3543-414c-91be-ee3f2d9ac4bb",
   "metadata": {},
   "outputs": [],
   "source": []
  },
  {
   "cell_type": "markdown",
   "id": "3b23c6e4-17f5-42f0-987c-921d10557565",
   "metadata": {},
   "source": [
    "## Enclosures & Tessellation"
   ]
  },
  {
   "cell_type": "code",
   "execution_count": 21,
   "id": "b8314f1b-3efc-4439-965a-a48e87b34fa9",
   "metadata": {},
   "outputs": [],
   "source": [
    "from core.generate_elements import process_region_elements"
   ]
  },
  {
   "cell_type": "code",
   "execution_count": null,
   "id": "c68fd0e9-34df-4b2c-8cb1-82892a8da5ce",
   "metadata": {},
   "outputs": [],
   "source": []
  },
  {
   "cell_type": "code",
   "execution_count": 22,
   "id": "bbe4d0ac-0514-4e70-9f1e-eb70b28e05a6",
   "metadata": {},
   "outputs": [
    {
     "name": "stdout",
     "output_type": "stream",
     "text": [
      "---- Processing region:  freiburg 2024-08-20 14:14:21.323851\n",
      "CPU times: user 9.24 s, sys: 618 ms, total: 9.86 s\n",
      "Wall time: 14.1 s\n"
     ]
    }
   ],
   "source": [
    "%%time\n",
    "enclosures, tesselations = process_region_elements(buildings_dir, streets_dir, region_id)"
   ]
  },
  {
   "cell_type": "code",
   "execution_count": 23,
   "id": "d0a92a51-e839-4728-bd09-98141315f7f9",
   "metadata": {},
   "outputs": [
    {
     "name": "stdout",
     "output_type": "stream",
     "text": [
      "Processed enclosures\n",
      "processed tesselations\n"
     ]
    }
   ],
   "source": [
    "enclosures.to_parquet(enclosures_dir + f\"enclosure_{region_id}.parquet\")\n",
    "print(\"Processed enclosures\")\n",
    "\n",
    "## save files\n",
    "tesselations.to_parquet(\n",
    "    tessellations_dir + f\"tessellation_{region_id}.parquet\"\n",
    ")\n",
    "print(\"processed tesselations\")"
   ]
  },
  {
   "cell_type": "code",
   "execution_count": 22,
   "id": "413c332a-78c8-4191-912e-db9f28704209",
   "metadata": {},
   "outputs": [],
   "source": [
    "# import lonboard\n",
    "# layer = lonboard.PolygonLayer.from_geopandas(tesselations, opacity=0.15)\n",
    "# m = lonboard.Map([layer])\n",
    "# m"
   ]
  },
  {
   "cell_type": "code",
   "execution_count": 11,
   "id": "130a6515-93f5-4067-ac88-645df3802443",
   "metadata": {},
   "outputs": [],
   "source": [
    "# layer = lonboard.PolygonLayer.from_geopandas(enclosures, opacity=0.15)\n",
    "# m = lonboard.Map([layer])\n",
    "# m"
   ]
  },
  {
   "cell_type": "code",
   "execution_count": null,
   "id": "f51d78b0-9c40-4162-b22c-c8f3ee16deaf",
   "metadata": {},
   "outputs": [],
   "source": []
  },
  {
   "cell_type": "code",
   "execution_count": null,
   "id": "dd455920-66df-4fd5-8ced-64fc626334c7",
   "metadata": {},
   "outputs": [],
   "source": []
  },
  {
   "cell_type": "markdown",
   "id": "c4f68f61-03d3-4603-b9f0-9b8704ca469b",
   "metadata": {},
   "source": [
    "## Graphs"
   ]
  },
  {
   "cell_type": "code",
   "execution_count": 24,
   "id": "4f52f1d9-b910-4d41-a086-8b2faa858f96",
   "metadata": {},
   "outputs": [],
   "source": [
    "from core.generate_ngraphs import process_region_graphs"
   ]
  },
  {
   "cell_type": "code",
   "execution_count": 25,
   "id": "ad6345c5-f2de-4c7d-abc5-c1c33ede6c2a",
   "metadata": {},
   "outputs": [
    {
     "name": "stdout",
     "output_type": "stream",
     "text": [
      "Built tess graph knn=1\n",
      "Built buildings graph knn=1\n",
      "Built streets graph knn=1\n",
      "Built enclosure graph knn=1\n",
      "Built nodes graph knn=1\n",
      "CPU times: user 3.33 s, sys: 55.8 ms, total: 3.39 s\n",
      "Wall time: 3.38 s\n"
     ]
    },
    {
     "name": "stderr",
     "output_type": "stream",
     "text": [
      "/home/krasen/libpysal/libpysal/weights/weights.py:1685: UserWarning: The weights matrix is not fully connected: \n",
      " There are 27 disconnected components.\n",
      "  w = W(neighbors, weights, ids, silence_warnings=silence_warnings)\n"
     ]
    }
   ],
   "source": [
    "%%time\n",
    "process_region_graphs(\n",
    "    region_id,\n",
    "    graph_dir,\n",
    "    buildings_dir,\n",
    "    streets_dir,\n",
    "    enclosures_dir,\n",
    "    tessellations_dir,\n",
    ")"
   ]
  },
  {
   "cell_type": "code",
   "execution_count": null,
   "id": "d63f787a-8eb6-4f84-8fea-c0ef9b56d997",
   "metadata": {},
   "outputs": [],
   "source": []
  },
  {
   "cell_type": "code",
   "execution_count": null,
   "id": "8e4d9e7c-7805-488e-b2d7-6949b732a2af",
   "metadata": {},
   "outputs": [],
   "source": []
  },
  {
   "cell_type": "markdown",
   "id": "6e7bc073-b62b-4aa4-b09d-c93d07428e77",
   "metadata": {},
   "source": [
    "## Characters"
   ]
  },
  {
   "cell_type": "code",
   "execution_count": 26,
   "id": "105c07ab-ede1-4f70-bc5d-eb0958d00c06",
   "metadata": {},
   "outputs": [],
   "source": [
    "from core.generate_chars import process_single_region_chars, process_street_chars"
   ]
  },
  {
   "cell_type": "code",
   "execution_count": 27,
   "id": "6af38e44-98ae-4c27-917e-c03123c8b034",
   "metadata": {},
   "outputs": [
    {
     "name": "stdout",
     "output_type": "stream",
     "text": [
      "2024-08-20 14:14:45.174960 ----Processing ------ freiburg\n",
      "Processing streets\n",
      "Processing enclosures\n",
      "Processing buildings\n"
     ]
    },
    {
     "name": "stderr",
     "output_type": "stream",
     "text": [
      "/home/krasen/momepy/momepy/functional/_shape.py:890: RuntimeWarning: invalid value encountered in arccos\n",
      "  angles = np.arccos(cosine_angle)\n",
      "/home/krasen/momepy/momepy/functional/_shape.py:890: RuntimeWarning: invalid value encountered in arccos\n",
      "  angles = np.arccos(cosine_angle)\n",
      "/home/krasen/momepy/momepy/functional/_shape.py:576: RuntimeWarning: Mean of empty slice\n",
      "  return np.nanmean(np.abs(90 - degrees[true_angles]))\n",
      "/home/krasen/momepy/momepy/functional/_shape.py:890: RuntimeWarning: invalid value encountered in arccos\n",
      "  angles = np.arccos(cosine_angle)\n",
      "/home/krasen/momepy/momepy/functional/_shape.py:737: RuntimeWarning: Mean of empty slice\n",
      "  return Series({\"mean\": np.nanmean(dists), \"std\": np.nanstd(dists)})\n",
      "/home/krasen/miniconda3/envs/urban_taxonomy/lib/python3.12/site-packages/numpy/lib/nanfunctions.py:1879: RuntimeWarning: Degrees of freedom <= 0 for slice.\n",
      "  var = nanvar(a, axis=axis, dtype=dtype, out=out, ddof=ddof,\n"
     ]
    },
    {
     "name": "stdout",
     "output_type": "stream",
     "text": [
      "Processing tessellation\n",
      "CPU times: user 54.8 s, sys: 260 ms, total: 55 s\n",
      "Wall time: 54.9 s\n"
     ]
    }
   ],
   "source": [
    "%%time\n",
    "process_single_region_chars(\n",
    "    region_id,\n",
    "    graph_dir,\n",
    "    buildings_dir,\n",
    "    streets_dir,\n",
    "    enclosures_dir,\n",
    "    tessellations_dir,\n",
    "    chars_dir\n",
    ")"
   ]
  },
  {
   "cell_type": "code",
   "execution_count": null,
   "id": "f40f7b79-4030-44bf-9325-2926eab48fa5",
   "metadata": {},
   "outputs": [],
   "source": []
  },
  {
   "cell_type": "code",
   "execution_count": null,
   "id": "cb7503cc-a57d-4bfd-b7cc-21998c3ec1d0",
   "metadata": {},
   "outputs": [],
   "source": []
  },
  {
   "cell_type": "code",
   "execution_count": null,
   "id": "3fc1ba8d-9eef-44ca-b50f-6e1a846a7ff6",
   "metadata": {},
   "outputs": [],
   "source": []
  },
  {
   "cell_type": "markdown",
   "id": "019091f7-625b-48ac-932b-b5ccd8e00fbe",
   "metadata": {},
   "source": [
    "## Generate primary data"
   ]
  },
  {
   "cell_type": "code",
   "execution_count": 28,
   "id": "7343fa13-9384-46c1-b8e1-e072bdb59c25",
   "metadata": {},
   "outputs": [],
   "source": [
    "tessellation = gpd.read_parquet(chars_dir + f\"tessellations_chars_{region_id}.parquet\")\n",
    "buildings = gpd.read_parquet(chars_dir + f\"buildings_chars_{region_id}.parquet\")\n",
    "enclosures = gpd.read_parquet(chars_dir + f\"enclosures_chars_{region_id}.parquet\")\n",
    "streets = gpd.read_parquet(chars_dir + f\"streets_chars_{region_id}.parquet\")\n",
    "nodes = gpd.read_parquet(chars_dir + f\"nodes_chars_{region_id}.parquet\")"
   ]
  },
  {
   "cell_type": "code",
   "execution_count": 29,
   "id": "ff6b89b4-4eca-4854-8063-9393bf3b5fb1",
   "metadata": {},
   "outputs": [],
   "source": [
    "\n",
    "merged = pd.merge(\n",
    "    tessellation.drop(columns=[\"geometry\"]),\n",
    "    buildings.drop(columns=[\"nodeID\", \"geometry\", 'nID']),\n",
    "    right_index=True,\n",
    "    left_index=True,\n",
    "    how=\"left\",\n",
    ")\n",
    "\n",
    "merged = merged.merge(\n",
    "    enclosures.drop(columns=\"geometry\"),\n",
    "    right_on=\"eID\",\n",
    "    left_on=\"enclosure_index\",\n",
    "    how=\"left\",\n",
    ")\n",
    "\n",
    "merged = merged.merge(streets.drop(columns=\"geometry\"), on=\"nID\", how=\"left\")\n",
    "merged = merged.merge(nodes.drop(columns=\"geometry\"), on=\"nodeID\", how=\"left\")\n",
    "\n",
    "merged = merged.drop(\n",
    "    columns=[\n",
    "        \"nID\",\n",
    "        \"eID\",\n",
    "        \"nodeID\",\n",
    "        \"mm_len\",\n",
    "        \"cdsbool\",\n",
    "        \"node_start\",\n",
    "        \"node_end\",\n",
    "        \"x\",\n",
    "        \"y\",\n",
    "        \"enclosure_index\",\n",
    "        # \"id\",\n",
    "        # \"osm_id\",\n",
    "        \"index\",  ## maybe keep\n",
    "    ]\n",
    ")\n",
    "merged = merged.set_index(tessellation.index)"
   ]
  },
  {
   "cell_type": "code",
   "execution_count": 30,
   "id": "5f1e25c0-3c99-418e-b817-a34564f47ebe",
   "metadata": {},
   "outputs": [],
   "source": [
    "from core.utils import used_keys"
   ]
  },
  {
   "cell_type": "code",
   "execution_count": 31,
   "id": "4482d0b4-553b-4914-9830-a376896a8979",
   "metadata": {},
   "outputs": [
    {
     "data": {
      "text/plain": [
       "(36181, 63)"
      ]
     },
     "execution_count": 31,
     "metadata": {},
     "output_type": "execute_result"
    }
   ],
   "source": [
    "primary = merged[list(used_keys.keys())]\n",
    "primary.shape"
   ]
  },
  {
   "cell_type": "code",
   "execution_count": 32,
   "id": "ddbdd396-6e6b-471e-80c3-316ac25c4196",
   "metadata": {},
   "outputs": [],
   "source": [
    "primary.to_parquet(chars_dir + f'primary_chars_{region_id}.parquet')"
   ]
  },
  {
   "cell_type": "code",
   "execution_count": null,
   "id": "12dcee72-a9b2-4203-8c10-94b53fa1fa2d",
   "metadata": {},
   "outputs": [],
   "source": []
  },
  {
   "cell_type": "code",
   "execution_count": null,
   "id": "bc392cd5-8020-45f6-beee-03b1a9d4de7d",
   "metadata": {},
   "outputs": [],
   "source": []
  },
  {
   "cell_type": "code",
   "execution_count": null,
   "id": "919eb4cb-1a64-4441-84f7-c8192dca5866",
   "metadata": {},
   "outputs": [],
   "source": []
  },
  {
   "cell_type": "code",
   "execution_count": null,
   "id": "c672a9ec-c494-47fc-9023-11666e0350a8",
   "metadata": {},
   "outputs": [],
   "source": []
  },
  {
   "cell_type": "code",
   "execution_count": null,
   "id": "cb5c1227-7894-4eec-a001-f03fba41b5be",
   "metadata": {},
   "outputs": [],
   "source": []
  },
  {
   "cell_type": "markdown",
   "id": "449d17e8-3026-4070-8f34-70d9621cbc9c",
   "metadata": {},
   "source": [
    "----"
   ]
  },
  {
   "cell_type": "code",
   "execution_count": null,
   "id": "772f7de0-f5d2-4690-840d-4d76c945c5d7",
   "metadata": {},
   "outputs": [],
   "source": []
  },
  {
   "cell_type": "code",
   "execution_count": null,
   "id": "1387d97f-af1b-411f-80d2-470f86ae409d",
   "metadata": {},
   "outputs": [],
   "source": []
  },
  {
   "cell_type": "code",
   "execution_count": 108,
   "id": "6fb7340c-1e85-4f47-9c54-e842759c6f17",
   "metadata": {},
   "outputs": [],
   "source": [
    "streets = gpd.read_parquet(streets_dir + f'streets_{region_id}.parquet')"
   ]
  },
  {
   "cell_type": "code",
   "execution_count": 110,
   "id": "ceb358bd-7112-4478-bc34-118a9309371e",
   "metadata": {},
   "outputs": [
    {
     "data": {
      "text/html": [
       "<div>\n",
       "<style scoped>\n",
       "    .dataframe tbody tr th:only-of-type {\n",
       "        vertical-align: middle;\n",
       "    }\n",
       "\n",
       "    .dataframe tbody tr th {\n",
       "        vertical-align: top;\n",
       "    }\n",
       "\n",
       "    .dataframe thead th {\n",
       "        text-align: right;\n",
       "    }\n",
       "</style>\n",
       "<table border=\"1\" class=\"dataframe\">\n",
       "  <thead>\n",
       "    <tr style=\"text-align: right;\">\n",
       "      <th></th>\n",
       "      <th>id</th>\n",
       "      <th>geometry</th>\n",
       "      <th>class</th>\n",
       "    </tr>\n",
       "  </thead>\n",
       "  <tbody>\n",
       "    <tr>\n",
       "      <th>0</th>\n",
       "      <td>0821e37fffffffff0477ae0e1bed1e9a</td>\n",
       "      <td>LINESTRING (4611749.424 3004369.263, 4611780.6...</td>\n",
       "      <td>residential</td>\n",
       "    </tr>\n",
       "    <tr>\n",
       "      <th>1</th>\n",
       "      <td>0821e37fffffffff047bbe5677a74480</td>\n",
       "      <td>LINESTRING (4611714.139 3004739.97, 4611787.46...</td>\n",
       "      <td>residential</td>\n",
       "    </tr>\n",
       "    <tr>\n",
       "      <th>2</th>\n",
       "      <td>0821e37fffffffff047bfb8fac33b4c9</td>\n",
       "      <td>LINESTRING (4611567.93 3004432.278, 4611694.70...</td>\n",
       "      <td>residential</td>\n",
       "    </tr>\n",
       "    <tr>\n",
       "      <th>3</th>\n",
       "      <td>0821e37fffffffff047fa869f63e10e7</td>\n",
       "      <td>LINESTRING (4611467.748 3004340, 4611448.418 3...</td>\n",
       "      <td>secondary</td>\n",
       "    </tr>\n",
       "    <tr>\n",
       "      <th>4</th>\n",
       "      <td>0821e37fffffffff047fff5f666d5099</td>\n",
       "      <td>LINESTRING (4611372.18 3006808.012, 4611455.43...</td>\n",
       "      <td>tertiary</td>\n",
       "    </tr>\n",
       "    <tr>\n",
       "      <th>...</th>\n",
       "      <td>...</td>\n",
       "      <td>...</td>\n",
       "      <td>...</td>\n",
       "    </tr>\n",
       "    <tr>\n",
       "      <th>59751</th>\n",
       "      <td>08e1e354e35110570477ffeef2f023b4</td>\n",
       "      <td>LINESTRING (4645687.693 3003560.862, 4645689.7...</td>\n",
       "      <td>tertiary</td>\n",
       "    </tr>\n",
       "    <tr>\n",
       "      <th>59752</th>\n",
       "      <td>08e1e354e62e2ac70477ff140f503231</td>\n",
       "      <td>LINESTRING (4643777.747 3005180.047, 4643778.1...</td>\n",
       "      <td>tertiary</td>\n",
       "    </tr>\n",
       "    <tr>\n",
       "      <th>59753</th>\n",
       "      <td>08e1e354e68de297047befce7622274c</td>\n",
       "      <td>LINESTRING (4642665.336 3005942.733, 4642662.6...</td>\n",
       "      <td>secondary</td>\n",
       "    </tr>\n",
       "    <tr>\n",
       "      <th>59754</th>\n",
       "      <td>08e1e354f40a18a7047bffd7edee26e0</td>\n",
       "      <td>LINESTRING (4639107.972 3002845.339, 4639107.8...</td>\n",
       "      <td>residential</td>\n",
       "    </tr>\n",
       "    <tr>\n",
       "      <th>59755</th>\n",
       "      <td>08e1e35503092d070477f3746ebbfcd0</td>\n",
       "      <td>LINESTRING (4628345.163 3023098.153, 4628345.9...</td>\n",
       "      <td>residential</td>\n",
       "    </tr>\n",
       "  </tbody>\n",
       "</table>\n",
       "<p>59756 rows × 3 columns</p>\n",
       "</div>"
      ],
      "text/plain": [
       "                                     id  \\\n",
       "0      0821e37fffffffff0477ae0e1bed1e9a   \n",
       "1      0821e37fffffffff047bbe5677a74480   \n",
       "2      0821e37fffffffff047bfb8fac33b4c9   \n",
       "3      0821e37fffffffff047fa869f63e10e7   \n",
       "4      0821e37fffffffff047fff5f666d5099   \n",
       "...                                 ...   \n",
       "59751  08e1e354e35110570477ffeef2f023b4   \n",
       "59752  08e1e354e62e2ac70477ff140f503231   \n",
       "59753  08e1e354e68de297047befce7622274c   \n",
       "59754  08e1e354f40a18a7047bffd7edee26e0   \n",
       "59755  08e1e35503092d070477f3746ebbfcd0   \n",
       "\n",
       "                                                geometry        class  \n",
       "0      LINESTRING (4611749.424 3004369.263, 4611780.6...  residential  \n",
       "1      LINESTRING (4611714.139 3004739.97, 4611787.46...  residential  \n",
       "2      LINESTRING (4611567.93 3004432.278, 4611694.70...  residential  \n",
       "3      LINESTRING (4611467.748 3004340, 4611448.418 3...    secondary  \n",
       "4      LINESTRING (4611372.18 3006808.012, 4611455.43...     tertiary  \n",
       "...                                                  ...          ...  \n",
       "59751  LINESTRING (4645687.693 3003560.862, 4645689.7...     tertiary  \n",
       "59752  LINESTRING (4643777.747 3005180.047, 4643778.1...     tertiary  \n",
       "59753  LINESTRING (4642665.336 3005942.733, 4642662.6...    secondary  \n",
       "59754  LINESTRING (4639107.972 3002845.339, 4639107.8...  residential  \n",
       "59755  LINESTRING (4628345.163 3023098.153, 4628345.9...  residential  \n",
       "\n",
       "[59756 rows x 3 columns]"
      ]
     },
     "execution_count": 110,
     "metadata": {},
     "output_type": "execute_result"
    }
   ],
   "source": [
    "streets"
   ]
  },
  {
   "cell_type": "code",
   "execution_count": null,
   "id": "9d52e719-664b-4df2-b20c-d6c9f9f7ed2a",
   "metadata": {},
   "outputs": [],
   "source": []
  },
  {
   "cell_type": "code",
   "execution_count": 112,
   "id": "0f615866-d9dd-44a9-81e8-ba7fa1669c21",
   "metadata": {},
   "outputs": [
    {
     "data": {
      "text/plain": [
       "69300"
      ]
     },
     "execution_count": 112,
     "metadata": {},
     "output_type": "execute_result"
    }
   ],
   "source": [
    "region_id"
   ]
  },
  {
   "cell_type": "code",
   "execution_count": null,
   "id": "885a2e49-0d28-4901-9a97-d3dba949d11d",
   "metadata": {},
   "outputs": [],
   "source": []
  },
  {
   "cell_type": "code",
   "execution_count": null,
   "id": "961032f6-4b52-480c-9e41-97327809fcb0",
   "metadata": {},
   "outputs": [],
   "source": [
    "# buildings.explore()"
   ]
  },
  {
   "cell_type": "code",
   "execution_count": null,
   "id": "73247dff-e6cf-4765-8926-e254c7e22437",
   "metadata": {},
   "outputs": [],
   "source": []
  },
  {
   "cell_type": "code",
   "execution_count": null,
   "id": "33f9312c-921b-4118-ad7b-d9a5c8c4f69d",
   "metadata": {},
   "outputs": [],
   "source": [
    "region_id = 69300"
   ]
  },
  {
   "cell_type": "code",
   "execution_count": null,
   "id": "ccc4b20d-ceb3-4a1b-8942-fa05d710e296",
   "metadata": {},
   "outputs": [],
   "source": [
    "from core.generate_chars import process_enclosure_chars, process_building_chars, process_tessellation_chars, process_street_chars\n",
    "# process_street_chars(69300)\n",
    "# process_enclosure_chars(69300)\n",
    "# process_building_chars(69300)\n",
    "process_tessellation_chars(69300)"
   ]
  },
  {
   "cell_type": "code",
   "execution_count": null,
   "id": "a265aca8-67ca-4777-bd61-80a909a846d1",
   "metadata": {},
   "outputs": [],
   "source": []
  },
  {
   "cell_type": "code",
   "execution_count": null,
   "id": "5c8c86b1-a6bc-424a-ae87-14b0bd676a9b",
   "metadata": {},
   "outputs": [],
   "source": [
    "# tessellation = gpd.read_parquet(\n",
    "#         data_dir + f\"tessellations/tessellation_{69300}.parquet\"\n",
    "#     )\n",
    "\n",
    "# # import lonboard\n",
    "# # # layer = lonboard.PolygonLayer.from_geopandas(tessellation, opacity=0.15)\n",
    "# # # m = lonboard.Map([layer])\n",
    "# # # m"
   ]
  },
  {
   "cell_type": "code",
   "execution_count": null,
   "id": "ad70082f-c4d8-4bcc-8c90-2aee053da372",
   "metadata": {},
   "outputs": [],
   "source": [
    "from core.generate_streets import read_overture_region_streets, rp"
   ]
  },
  {
   "cell_type": "code",
   "execution_count": null,
   "id": "729b8821-cd79-4643-bbc2-47e49094ed6d",
   "metadata": {},
   "outputs": [],
   "source": [
    "streets = read_overture_region_streets(region_hulls.loc[[region_name]].to_crs(epsg=4326).iloc[0].convex_hull, region_id)"
   ]
  },
  {
   "cell_type": "code",
   "execution_count": null,
   "id": "0ff17f08-75c5-471d-8d9f-1ca9ab46db41",
   "metadata": {},
   "outputs": [],
   "source": [
    "orig_streets = streets"
   ]
  },
  {
   "cell_type": "code",
   "execution_count": null,
   "id": "c1ab4c77-48f0-41d7-97aa-9233f98944fd",
   "metadata": {},
   "outputs": [],
   "source": [
    "approved_roads = ['living_street',\n",
    "                 'motorway',\n",
    "                 'motorway_link',\n",
    "                 'pedestrian',\n",
    "                 'primary',\n",
    "                 'primary_link',\n",
    "                 'residential',\n",
    "                 'secondary',\n",
    "                 'secondary_link',\n",
    "                 'tertiary',\n",
    "                 'tertiary_link',\n",
    "                 'trunk',\n",
    "                 'trunk_link',\n",
    "                 'unclassified']\n",
    "streets = orig_streets[orig_streets['class'].isin(approved_roads)]\n",
    "## drop tunnels\n",
    "streets = streets[~streets.road.str.contains('is_tunnel').fillna(False)]\n",
    "streets = streets.set_crs(epsg=4326).to_crs(epsg=3035)\n",
    "streets = streets.sort_values('id')[['id', 'geometry', 'class']].reset_index(drop=True)"
   ]
  },
  {
   "cell_type": "code",
   "execution_count": null,
   "id": "19f0e08f-28ae-41a8-98e5-bfacc78a84e2",
   "metadata": {},
   "outputs": [],
   "source": []
  },
  {
   "cell_type": "code",
   "execution_count": null,
   "id": "d2d54235-ecfe-413a-bb00-e877e0a8bd69",
   "metadata": {},
   "outputs": [],
   "source": [
    "plotting = streets.reset_index()"
   ]
  },
  {
   "cell_type": "code",
   "execution_count": null,
   "id": "757713bd-cd82-406b-a7a7-7d81cde508eb",
   "metadata": {},
   "outputs": [],
   "source": [
    "import lonboard"
   ]
  },
  {
   "cell_type": "code",
   "execution_count": null,
   "id": "98c08abd-320a-41f7-ab01-57913f5c1d38",
   "metadata": {},
   "outputs": [],
   "source": [
    "layer = lonboard.PathLayer.from_geopandas(plotting, width_min_pixels=1)"
   ]
  },
  {
   "cell_type": "code",
   "execution_count": null,
   "id": "da0ee133-d674-48dc-90c4-739922d64bc6",
   "metadata": {
    "scrolled": true
   },
   "outputs": [],
   "source": [
    "m = lonboard.Map(layer)\n",
    "m"
   ]
  },
  {
   "cell_type": "code",
   "execution_count": null,
   "id": "2b58a471-1467-44f4-a8ee-b14248ca751a",
   "metadata": {},
   "outputs": [],
   "source": [
    "tunnel = streets.loc[[41318, 41316]]"
   ]
  },
  {
   "cell_type": "code",
   "execution_count": null,
   "id": "5b7137e8-cdd0-4ca1-894a-4c6db5140820",
   "metadata": {},
   "outputs": [],
   "source": []
  },
  {
   "cell_type": "code",
   "execution_count": null,
   "id": "ce8358cb-7fa0-49d6-bd94-100e66e2e6de",
   "metadata": {},
   "outputs": [],
   "source": []
  },
  {
   "cell_type": "code",
   "execution_count": null,
   "id": "5ad217e3-0ac4-4686-84f7-141e0a3facf3",
   "metadata": {},
   "outputs": [],
   "source": []
  },
  {
   "cell_type": "code",
   "execution_count": null,
   "id": "1671c873-2db6-4bee-abbe-3703343147ab",
   "metadata": {},
   "outputs": [],
   "source": [
    "tess = gpd.read_parquet(f\"{chars_dir}tessellations/chars_{region}.parquet\")"
   ]
  },
  {
   "cell_type": "code",
   "execution_count": null,
   "id": "3bfb6808-a507-46af-b75e-80da0bb5cc17",
   "metadata": {},
   "outputs": [],
   "source": [
    "from libpysal.graph import Graph, read_parquet"
   ]
  },
  {
   "cell_type": "code",
   "execution_count": null,
   "id": "7f9e9ad7-9d6d-4bad-bc80-4f31afb1f681",
   "metadata": {},
   "outputs": [],
   "source": [
    "graph_dir = \"/data/uscuni-ulce/processed_data/neigh_graphs/\"\n",
    "graph = read_parquet(graph_dir + f\"tessellation_graph_{region}_knn1.parquet\")"
   ]
  },
  {
   "cell_type": "code",
   "execution_count": null,
   "id": "980934f3-2e87-4d2d-aded-00c3891e8529",
   "metadata": {},
   "outputs": [],
   "source": [
    "graph2 = Graph.build_fuzzy_contiguity(tess, buffer=.25).assign_self_weight()"
   ]
  },
  {
   "cell_type": "code",
   "execution_count": null,
   "id": "58be4c4f-a601-4422-87d6-c0f111e5ee21",
   "metadata": {},
   "outputs": [],
   "source": []
  },
  {
   "cell_type": "code",
   "execution_count": null,
   "id": "dbb81f76-0f37-4d63-af2d-8aa7db5494b5",
   "metadata": {},
   "outputs": [],
   "source": [
    "graph"
   ]
  },
  {
   "cell_type": "code",
   "execution_count": null,
   "id": "a3e2f601-71d0-441b-9bf7-b31745b40291",
   "metadata": {},
   "outputs": [],
   "source": [
    "graph2"
   ]
  },
  {
   "cell_type": "code",
   "execution_count": null,
   "id": "77a65609-f616-4896-bf54-edc2614e193e",
   "metadata": {},
   "outputs": [],
   "source": [
    "graph.unique_ids[np.where(graph.cardinalities != graph2.cardinalities)]"
   ]
  },
  {
   "cell_type": "code",
   "execution_count": null,
   "id": "e0604794-b14a-4a71-963f-ec9183b9959e",
   "metadata": {},
   "outputs": [],
   "source": []
  },
  {
   "cell_type": "code",
   "execution_count": null,
   "id": "fd6f69f2-8c3e-451f-9faf-94c18aeb5ff3",
   "metadata": {},
   "outputs": [],
   "source": []
  },
  {
   "cell_type": "code",
   "execution_count": null,
   "id": "4c9e8c0e-1cf3-4b76-84d0-7e96290bf332",
   "metadata": {},
   "outputs": [],
   "source": [
    "# m = tess.loc[graph2[299010].index.values].reset_index().explore()\n",
    "# m = tess.loc[graph[299010].index.values].reset_index().explore(m=m, color='red')\n",
    "# m"
   ]
  },
  {
   "cell_type": "code",
   "execution_count": null,
   "id": "97011099-2d6a-4fe0-81fa-d05be9a8effa",
   "metadata": {},
   "outputs": [],
   "source": []
  },
  {
   "cell_type": "code",
   "execution_count": null,
   "id": "ddb7b45f-6e4d-44c0-bd42-97e60d4e1d04",
   "metadata": {},
   "outputs": [],
   "source": [
    "from core.generate_elements import generate_enclosures\n",
    "data_dir = \"/data/uscuni-ulce/processed_data/\"\n"
   ]
  },
  {
   "cell_type": "code",
   "execution_count": null,
   "id": "810bb29e-b217-47ef-ab1a-c1136acb2bb8",
   "metadata": {},
   "outputs": [],
   "source": [
    "%%time\n",
    "buildings = gpd.read_parquet(\n",
    "    data_dir + f\"/buildings/buildings_{region}.parquet\"\n",
    ")\n",
    "streets = gpd.read_parquet(data_dir + f\"/streets/streets_{region}.parquet\")\n",
    "enclosures = generate_enclosures(buildings, streets)"
   ]
  },
  {
   "cell_type": "code",
   "execution_count": null,
   "id": "38db8e7a-c659-4268-8183-82043a7d0b8a",
   "metadata": {},
   "outputs": [],
   "source": [
    "import momepy as mm"
   ]
  },
  {
   "cell_type": "code",
   "execution_count": null,
   "id": "470c0fad-0de4-49f3-86e8-702d719f98a4",
   "metadata": {},
   "outputs": [],
   "source": [
    "%%time\n",
    "buff_buildings = buildings.buffer(105, resolution=2).union_all()"
   ]
  },
  {
   "cell_type": "code",
   "execution_count": null,
   "id": "c32464d0-880d-4df9-9930-996c8e4add52",
   "metadata": {},
   "outputs": [],
   "source": [
    "buff_buildings = mm.buffered_limit(buildings, buffer='adaptive')"
   ]
  },
  {
   "cell_type": "code",
   "execution_count": null,
   "id": "867b52f8-6fba-4aeb-b746-7331a0627f7f",
   "metadata": {},
   "outputs": [],
   "source": [
    "buffer = gpd.GeoSeries([polygon for polygon in buff_buildings.geoms], crs=buildings.crs)"
   ]
  },
  {
   "cell_type": "code",
   "execution_count": null,
   "id": "e31de134-29c2-4afb-abdc-23394c20a97d",
   "metadata": {},
   "outputs": [],
   "source": [
    "enclosures = mm.enclosures(streets, limit=buff_buildings, clip=True)"
   ]
  },
  {
   "cell_type": "code",
   "execution_count": null,
   "id": "8d3f8f0b-ba46-4f42-9b52-b086bafce64a",
   "metadata": {},
   "outputs": [],
   "source": [
    "# enclosures.explore()"
   ]
  },
  {
   "cell_type": "code",
   "execution_count": null,
   "id": "7b38d120-21d4-41ac-a2bd-1885bf80904d",
   "metadata": {},
   "outputs": [],
   "source": [
    "enclosures = mm.enclosures(streets, limit=buff_buildings, clip=True)\n"
   ]
  },
  {
   "cell_type": "code",
   "execution_count": null,
   "id": "ae231a69-a3f7-4bed-bd10-d1982465eb41",
   "metadata": {},
   "outputs": [],
   "source": [
    "mm.centroid_corner_distance?"
   ]
  },
  {
   "cell_type": "code",
   "execution_count": null,
   "id": "b680d2ae-3481-409a-a485-20e0615c07e5",
   "metadata": {},
   "outputs": [],
   "source": []
  },
  {
   "cell_type": "code",
   "execution_count": null,
   "id": "c86b11ef-fb31-40af-9c2a-0adfe5944463",
   "metadata": {},
   "outputs": [],
   "source": []
  },
  {
   "cell_type": "code",
   "execution_count": null,
   "id": "91864199-ee64-432c-8525-3222220d7015",
   "metadata": {},
   "outputs": [],
   "source": [
    "# buffer.reset_index().explore()"
   ]
  },
  {
   "cell_type": "code",
   "execution_count": null,
   "id": "83ad54ec-d97e-4d95-88e3-f6f3990e1ef0",
   "metadata": {},
   "outputs": [],
   "source": []
  },
  {
   "cell_type": "code",
   "execution_count": null,
   "id": "fe302932-dcb1-4447-9a61-6a02b4d05abc",
   "metadata": {},
   "outputs": [],
   "source": [
    "# enclosures.iloc[np.unique(res)].explore()"
   ]
  },
  {
   "cell_type": "code",
   "execution_count": null,
   "id": "d9f7994a-e5ea-405a-95fb-1e8c240f5b9e",
   "metadata": {},
   "outputs": [],
   "source": [
    "import shapely"
   ]
  },
  {
   "cell_type": "code",
   "execution_count": null,
   "id": "01df31d6-c7ff-4e02-9a5b-4a6a416776c8",
   "metadata": {},
   "outputs": [],
   "source": [
    "# buffer.reset_index().explore()"
   ]
  },
  {
   "cell_type": "code",
   "execution_count": null,
   "id": "399246ae-e0cd-4edc-a5dd-c3f7fdc85de9",
   "metadata": {},
   "outputs": [],
   "source": [
    "buffer.iloc[403]"
   ]
  },
  {
   "cell_type": "code",
   "execution_count": null,
   "id": "cba38154-7673-49eb-ad66-cce3bcd7f9ce",
   "metadata": {},
   "outputs": [],
   "source": [
    "buffer.iloc[403].exterior"
   ]
  },
  {
   "cell_type": "code",
   "execution_count": null,
   "id": "441db98f-540f-4430-a43c-e8f1672a339b",
   "metadata": {},
   "outputs": [],
   "source": [
    "shapely.concave_hull(buffer.iloc[403].exterior, ratio=.02, allow_holes=False)"
   ]
  },
  {
   "cell_type": "code",
   "execution_count": null,
   "id": "b6e33ae9-ceb6-43c1-89d3-592a3e3785a6",
   "metadata": {},
   "outputs": [],
   "source": []
  },
  {
   "cell_type": "code",
   "execution_count": null,
   "id": "34f6f340-f4cf-4752-a4ff-1b89dc1a8cb6",
   "metadata": {},
   "outputs": [],
   "source": []
  },
  {
   "cell_type": "code",
   "execution_count": null,
   "id": "c2fdca66-125a-4928-bd17-75692b42ee0b",
   "metadata": {},
   "outputs": [],
   "source": [
    "buffer_no_holes = shapely.polygonize(buffer.exterior.values)\n",
    "buffer_no_holes = gpd.GeoSeries(buffer_no_holes.geoms, crs=buildings.crs)"
   ]
  },
  {
   "cell_type": "code",
   "execution_count": null,
   "id": "06befb72-d269-4cd0-8344-8361018e7cc7",
   "metadata": {},
   "outputs": [],
   "source": []
  },
  {
   "cell_type": "code",
   "execution_count": null,
   "id": "6e28b515-fcd9-4c5f-a8c6-a2378b20675a",
   "metadata": {},
   "outputs": [],
   "source": [
    "inp, res = enclosures.sindex.query(buffer_no_holes.geometry, predicate='intersects')"
   ]
  },
  {
   "cell_type": "code",
   "execution_count": null,
   "id": "a157acc2-369b-4608-952b-f27d86e1b1c8",
   "metadata": {},
   "outputs": [],
   "source": []
  },
  {
   "cell_type": "code",
   "execution_count": null,
   "id": "283698e9-fcee-43e8-b052-9552c8731a60",
   "metadata": {},
   "outputs": [],
   "source": []
  },
  {
   "cell_type": "code",
   "execution_count": null,
   "id": "b2d436ac-7121-40c1-8823-c03a3d18f0e4",
   "metadata": {},
   "outputs": [],
   "source": []
  },
  {
   "cell_type": "code",
   "execution_count": null,
   "id": "e3bc3346-787e-400e-8cba-165f052512dd",
   "metadata": {},
   "outputs": [],
   "source": []
  },
  {
   "cell_type": "code",
   "execution_count": null,
   "id": "bcedf08d-a261-4841-90af-484b8b804bd1",
   "metadata": {},
   "outputs": [],
   "source": [
    "# enclosures.iloc[np.unique(res)].explore()"
   ]
  },
  {
   "cell_type": "code",
   "execution_count": null,
   "id": "63fb66ca-78d7-4ee4-a8c6-e80e24335de2",
   "metadata": {},
   "outputs": [],
   "source": []
  },
  {
   "cell_type": "code",
   "execution_count": null,
   "id": "d7d1560a-5047-457e-ac86-3e6d28bee517",
   "metadata": {},
   "outputs": [],
   "source": []
  },
  {
   "cell_type": "code",
   "execution_count": null,
   "id": "17b46975-4f64-43b5-b841-60931e1052a9",
   "metadata": {},
   "outputs": [],
   "source": []
  },
  {
   "cell_type": "code",
   "execution_count": null,
   "id": "02ac3d4b-e994-43cc-858e-93cfa7dbee14",
   "metadata": {},
   "outputs": [],
   "source": [
    "has_holes = shapely.get_num_interior_rings(buffer_no_holes.geometry)"
   ]
  },
  {
   "cell_type": "code",
   "execution_count": null,
   "id": "ea5637a8-37b4-48c0-b4ad-e1f967af2060",
   "metadata": {},
   "outputs": [],
   "source": [
    "with_holes = buffer[has_holes > 0]\n",
    "with_holes"
   ]
  },
  {
   "cell_type": "code",
   "execution_count": null,
   "id": "211bf594-b417-4cdc-92b1-f1b8964a06ca",
   "metadata": {},
   "outputs": [],
   "source": []
  },
  {
   "cell_type": "code",
   "execution_count": null,
   "id": "96ad4676-f8db-4ff5-896f-9881b0bce677",
   "metadata": {},
   "outputs": [],
   "source": [
    "inp, res = enclosures.sindex.query(buffer.geometry, predicate='intersects')"
   ]
  },
  {
   "cell_type": "code",
   "execution_count": null,
   "id": "ae069349-3167-4272-b8b0-eb22cce93cdb",
   "metadata": {},
   "outputs": [],
   "source": []
  },
  {
   "cell_type": "code",
   "execution_count": null,
   "id": "84331eb2-c90c-40b6-904f-3eb76ed80cd0",
   "metadata": {},
   "outputs": [],
   "source": []
  },
  {
   "cell_type": "code",
   "execution_count": null,
   "id": "25365143-19bd-4a8b-87d4-7ec47b9cc2c9",
   "metadata": {},
   "outputs": [],
   "source": []
  },
  {
   "cell_type": "code",
   "execution_count": null,
   "id": "81e91e1d-f78b-46e5-85a7-8f6f8070acc2",
   "metadata": {},
   "outputs": [],
   "source": []
  },
  {
   "cell_type": "code",
   "execution_count": null,
   "id": "a90c7f9f-7e97-4b7e-af79-1f7f1378c27d",
   "metadata": {},
   "outputs": [],
   "source": []
  },
  {
   "cell_type": "code",
   "execution_count": 58,
   "id": "ad08cd5e-411d-497d-8c3b-9bb0fb8b795f",
   "metadata": {},
   "outputs": [],
   "source": [
    "# gpd.read_file(f).set_crs(epsg=25832).explore()"
   ]
  },
  {
   "cell_type": "code",
   "execution_count": null,
   "id": "f7a635dc-225a-4d32-a38a-7251adfe7fff",
   "metadata": {},
   "outputs": [],
   "source": []
  }
 ],
 "metadata": {
  "kernelspec": {
   "display_name": "Python 3 (ipykernel)",
   "language": "python",
   "name": "python3"
  },
  "language_info": {
   "codemirror_mode": {
    "name": "ipython",
    "version": 3
   },
   "file_extension": ".py",
   "mimetype": "text/x-python",
   "name": "python",
   "nbconvert_exporter": "python",
   "pygments_lexer": "ipython3",
   "version": "3.12.4"
  }
 },
 "nbformat": 4,
 "nbformat_minor": 5
}
