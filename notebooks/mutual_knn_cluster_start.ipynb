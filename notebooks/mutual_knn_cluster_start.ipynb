{
 "cells": [
  {
   "cell_type": "code",
   "execution_count": null,
   "id": "a9842b2c-efa3-421d-aa94-4b2cc706993b",
   "metadata": {},
   "outputs": [],
   "source": []
  },
  {
   "cell_type": "code",
   "execution_count": 1,
   "id": "90cba4b6-61dc-418c-9a29-fde2878856cf",
   "metadata": {},
   "outputs": [],
   "source": [
    "import glob\n",
    "\n",
    "import geopandas as gpd\n",
    "import matplotlib.pyplot as plt\n",
    "import numba\n",
    "import numpy as np\n",
    "import pandas as pd\n",
    "from libpysal.graph import read_parquet\n",
    "from sklearn.preprocessing import PowerTransformer, RobustScaler, StandardScaler\n",
    "\n",
    "regions_datadir = \"/data/uscuni-ulce/\"\n",
    "data_dir = \"/data/uscuni-ulce/processed_data/\"\n",
    "eubucco_files = glob.glob(regions_datadir + \"eubucco_raw/*\")\n",
    "graph_dir = data_dir + \"neigh_graphs/\"\n",
    "chars_dir = \"/data/uscuni-ulce/processed_data/chars/\""
   ]
  },
  {
   "cell_type": "code",
   "execution_count": 2,
   "id": "7ea8447a-21bd-47ee-a870-8c5b5e0174aa",
   "metadata": {},
   "outputs": [],
   "source": [
    "from core.cluster_validation import generate_neigbhourhood_groups\n",
    "from core.utils import used_keys"
   ]
  },
  {
   "cell_type": "code",
   "execution_count": 3,
   "id": "7455277a-b25f-4bc1-9eb2-30eebf30688c",
   "metadata": {},
   "outputs": [],
   "source": [
    "import glob"
   ]
  },
  {
   "cell_type": "code",
   "execution_count": 4,
   "id": "e3183319-d969-4132-949e-abe03828ac84",
   "metadata": {},
   "outputs": [],
   "source": [
    "region_id = 69300"
   ]
  },
  {
   "cell_type": "code",
   "execution_count": 5,
   "id": "ab8435f0-e295-4955-b7f5-18b31c92988d",
   "metadata": {},
   "outputs": [],
   "source": [
    "primary = pd.read_parquet(chars_dir + f'primary_chars/primary_chars_{region_id}.parquet')"
   ]
  },
  {
   "cell_type": "code",
   "execution_count": null,
   "id": "bc64bca0-d6be-4a76-8724-7debfa7040f0",
   "metadata": {},
   "outputs": [],
   "source": []
  },
  {
   "cell_type": "code",
   "execution_count": null,
   "id": "431d642e-9657-4485-9de1-7054585d3510",
   "metadata": {},
   "outputs": [],
   "source": []
  },
  {
   "cell_type": "code",
   "execution_count": 6,
   "id": "9a3edb3e-e669-4a25-aadf-677cbb799206",
   "metadata": {},
   "outputs": [],
   "source": [
    "graph = read_parquet(graph_dir + f\"tessellation_graph_{region_id}_knn1.parquet\")"
   ]
  },
  {
   "cell_type": "code",
   "execution_count": null,
   "id": "2edc672f-853d-40dc-b9f5-ca03fea96ceb",
   "metadata": {},
   "outputs": [],
   "source": []
  },
  {
   "cell_type": "code",
   "execution_count": 7,
   "id": "4801c8ce-ae9a-4bd7-b798-2a77b02672ed",
   "metadata": {},
   "outputs": [],
   "source": [
    "# X = pd.read_parquet('/data/uscuni-ulce/processed_data/context_data/context_chars_{region_id}.parquet')\n",
    "# data = X.loc[:, X.columns.str.contains('_median')].values\n",
    "# data.shape"
   ]
  },
  {
   "cell_type": "code",
   "execution_count": 16,
   "id": "277f141d-ab73-4b32-b320-d8c600aa16c1",
   "metadata": {},
   "outputs": [],
   "source": [
    "X_train = pd.read_parquet(chars_dir + f'primary_chars_{region_id}.parquet')\n",
    "\n",
    "\n",
    "\n",
    "X_train = X_train[X_train.index >= 0]\n",
    "\n",
    "vals = StandardScaler().fit_transform(X_train)\n",
    "X_train = pd.DataFrame(vals, columns=X_train.columns, index=X_train.index)\n",
    "\n",
    "vals = np.nan_to_num(X_train)\n",
    "X_train = pd.DataFrame(vals, columns=X_train.columns, index=X_train.index)\n",
    "\n",
    "\n",
    "# X_train = X_train.clip(-10, 10)"
   ]
  },
  {
   "cell_type": "code",
   "execution_count": 27,
   "id": "73fd366b-c391-490e-b2f3-8500543dd329",
   "metadata": {},
   "outputs": [],
   "source": [
    "data = np.ascontiguousarray(X_train.values)"
   ]
  },
  {
   "cell_type": "code",
   "execution_count": null,
   "id": "a08b628d-0d51-45b5-85c5-f301399d83b5",
   "metadata": {},
   "outputs": [],
   "source": []
  },
  {
   "cell_type": "code",
   "execution_count": null,
   "id": "2ff562a0-b7c1-4820-89e6-ae2a66a83bfb",
   "metadata": {},
   "outputs": [],
   "source": []
  },
  {
   "cell_type": "code",
   "execution_count": 28,
   "id": "b7a8fc19-b381-446b-bf37-97195f128d13",
   "metadata": {},
   "outputs": [],
   "source": [
    "\n",
    "# data = X.values\n",
    "# data.shape"
   ]
  },
  {
   "cell_type": "code",
   "execution_count": null,
   "id": "5affefa1-208e-430f-973f-9ca54a9ba312",
   "metadata": {},
   "outputs": [],
   "source": []
  },
  {
   "cell_type": "code",
   "execution_count": 29,
   "id": "a2ac9676-6d0a-4497-aaf5-43b0837b8412",
   "metadata": {},
   "outputs": [],
   "source": [
    "from fast_hdbscan.boruvka import parallel_boruvka\n",
    "from fast_hdbscan.numba_kdtree import kdtree_to_numba\n",
    "from sklearn.neighbors import KDTree"
   ]
  },
  {
   "cell_type": "code",
   "execution_count": 30,
   "id": "dc5cd2d5-3199-4fbc-8680-95dc08a70ab1",
   "metadata": {
    "scrolled": true
   },
   "outputs": [
    {
     "name": "stdout",
     "output_type": "stream",
     "text": [
      "CPU times: user 1.26 s, sys: 8.41 ms, total: 1.27 s\n",
      "Wall time: 1.26 s\n"
     ]
    }
   ],
   "source": [
    "%%time\n",
    "sklearn_tree = KDTree(data)"
   ]
  },
  {
   "cell_type": "code",
   "execution_count": 31,
   "id": "ef0a8dac-3e05-426d-abf0-796a44f07995",
   "metadata": {
    "scrolled": true
   },
   "outputs": [
    {
     "name": "stdout",
     "output_type": "stream",
     "text": [
      "CPU times: user 0 ns, sys: 9 μs, total: 9 μs\n",
      "Wall time: 10.3 μs\n"
     ]
    }
   ],
   "source": [
    "%%time\n",
    "numba_tree = kdtree_to_numba(sklearn_tree)"
   ]
  },
  {
   "cell_type": "code",
   "execution_count": null,
   "id": "5aef26ab-59e4-46cf-8f07-0bd7ed5af35c",
   "metadata": {},
   "outputs": [],
   "source": []
  },
  {
   "cell_type": "code",
   "execution_count": 32,
   "id": "61a03118-ffa4-4957-83fd-bea014014ca2",
   "metadata": {},
   "outputs": [],
   "source": [
    "from fast_hdbscan.numba_kdtree import parallel_tree_query"
   ]
  },
  {
   "cell_type": "code",
   "execution_count": 33,
   "id": "42095318-9265-41c2-92ec-dc8f5cf08223",
   "metadata": {},
   "outputs": [],
   "source": [
    "k = 5"
   ]
  },
  {
   "cell_type": "code",
   "execution_count": 34,
   "id": "71b509d3-d165-406e-979d-bfb039a3b02a",
   "metadata": {},
   "outputs": [
    {
     "name": "stdout",
     "output_type": "stream",
     "text": [
      "CPU times: user 5h 16min 5s, sys: 6.81 s, total: 5h 16min 12s\n",
      "Wall time: 16min 40s\n"
     ]
    }
   ],
   "source": [
    "%%time\n",
    "result = parallel_tree_query(numba_tree, data, k=k)"
   ]
  },
  {
   "cell_type": "code",
   "execution_count": 275,
   "id": "384c82d3-ae77-404f-b40d-f03c1fb5e407",
   "metadata": {},
   "outputs": [],
   "source": [
    "# np.save('../data/prague_knn_100.npy', result[1])"
   ]
  },
  {
   "cell_type": "code",
   "execution_count": 79,
   "id": "ae1e8a42-cb38-46a4-9960-6a7a4d515ec1",
   "metadata": {},
   "outputs": [],
   "source": [
    "dists, knns = result[0], result[1]"
   ]
  },
  {
   "cell_type": "code",
   "execution_count": 162,
   "id": "b3bf6be0-f72a-476f-bd3a-d319adb0ae94",
   "metadata": {},
   "outputs": [
    {
     "data": {
      "text/plain": [
       "mean     2.944037\n",
       "std      1.346554\n",
       "min      0.004227\n",
       "25%      2.102059\n",
       "50%      2.865647\n",
       "75%      3.671932\n",
       "max     80.164490\n",
       "dtype: float64"
      ]
     },
     "execution_count": 162,
     "metadata": {},
     "output_type": "execute_result"
    }
   ],
   "source": [
    "pd.Series(dists[:, 1]).describe().iloc[1:]"
   ]
  },
  {
   "cell_type": "code",
   "execution_count": 163,
   "id": "f089c50e-2c0d-429e-818d-fe269b5b08ea",
   "metadata": {},
   "outputs": [
    {
     "data": {
      "text/plain": [
       "mean      3.364537\n",
       "std       1.376522\n",
       "min       0.005325\n",
       "50%       3.268719\n",
       "75%       4.037583\n",
       "85%       4.521188\n",
       "95%       5.545440\n",
       "max     135.846375\n",
       "dtype: float64"
      ]
     },
     "execution_count": 163,
     "metadata": {},
     "output_type": "execute_result"
    }
   ],
   "source": [
    "pd.Series(dists[:, 2]).describe(percentiles=[.75, .85, .95]).iloc[1:]"
   ]
  },
  {
   "cell_type": "code",
   "execution_count": null,
   "id": "b66474c8-5412-4f70-ac49-e462a7df3dc2",
   "metadata": {},
   "outputs": [],
   "source": []
  },
  {
   "cell_type": "code",
   "execution_count": null,
   "id": "ee420f7a-2a54-4c3c-973e-4b3061c5c63c",
   "metadata": {},
   "outputs": [],
   "source": []
  },
  {
   "cell_type": "code",
   "execution_count": null,
   "id": "d504444a-e1f6-47ed-a3c5-5050a295b664",
   "metadata": {},
   "outputs": [],
   "source": []
  },
  {
   "cell_type": "code",
   "execution_count": 154,
   "id": "19780830-3d82-4a28-afc8-db6ef6840f8e",
   "metadata": {},
   "outputs": [],
   "source": [
    "mutual_neighbours = 2"
   ]
  },
  {
   "cell_type": "code",
   "execution_count": 155,
   "id": "adb8321a-90b8-4e5a-ae78-94a7b2f716fa",
   "metadata": {},
   "outputs": [],
   "source": [
    "from scipy import sparse\n",
    "from scipy.sparse.csgraph import connected_components"
   ]
  },
  {
   "cell_type": "code",
   "execution_count": 156,
   "id": "74786bcf-66f6-4da1-9446-3ba0eb0ab015",
   "metadata": {},
   "outputs": [],
   "source": [
    "s = np.repeat(np.arange(knns.shape[0])[..., np.newaxis], mutual_neighbours, axis=1)\n",
    "b1 = s.flatten()\n",
    "b2 = knns[:, 1:mutual_neighbours + 1].flatten()"
   ]
  },
  {
   "cell_type": "code",
   "execution_count": 157,
   "id": "fbffbeb9-9b95-493c-afe4-14e5bf4da9c8",
   "metadata": {},
   "outputs": [],
   "source": [
    "graph = sparse.csr_matrix((np.ones(b1.shape[0]), (b1, b2)), shape=(data.shape[0], data.shape[0]))"
   ]
  },
  {
   "cell_type": "code",
   "execution_count": 158,
   "id": "34da1250-6f8b-4164-99e9-013c5356b6ad",
   "metadata": {},
   "outputs": [],
   "source": [
    "n_components, labels = connected_components(csgraph=graph, directed=True, connection='strong',  return_labels=True)"
   ]
  },
  {
   "cell_type": "code",
   "execution_count": 159,
   "id": "5ca7292d-96f1-418d-b3d8-57f5ed064132",
   "metadata": {},
   "outputs": [
    {
     "data": {
      "text/plain": [
       "161324"
      ]
     },
     "execution_count": 159,
     "metadata": {},
     "output_type": "execute_result"
    }
   ],
   "source": [
    "n_components"
   ]
  },
  {
   "cell_type": "code",
   "execution_count": 161,
   "id": "9148d57b-d58d-4110-b38e-094ca4fa2c61",
   "metadata": {},
   "outputs": [
    {
     "data": {
      "text/plain": [
       "np.int64(65520)"
      ]
     },
     "execution_count": 161,
     "metadata": {},
     "output_type": "execute_result"
    }
   ],
   "source": [
    "(pd.Series(labels).value_counts() >=2).sum()"
   ]
  },
  {
   "cell_type": "code",
   "execution_count": 136,
   "id": "ddd69717-bbc9-44b6-bf12-050c4be0fb5d",
   "metadata": {},
   "outputs": [],
   "source": [
    "num_top_clusters = 50"
   ]
  },
  {
   "cell_type": "code",
   "execution_count": 137,
   "id": "9139e49d-1dc9-44fd-90a0-be67817502cc",
   "metadata": {},
   "outputs": [],
   "source": [
    "top_clusters = pd.Series(labels).value_counts().iloc[:num_top_clusters].index.values\n",
    "clusters = np.full(labels.shape[0], -1)\n",
    "i = 0\n",
    "for c in top_clusters:\n",
    "    clusters[labels == c] = i\n",
    "    i += 1"
   ]
  },
  {
   "cell_type": "code",
   "execution_count": null,
   "id": "73f27bfc-8f79-4031-a294-b8f9244d5834",
   "metadata": {},
   "outputs": [],
   "source": []
  },
  {
   "cell_type": "code",
   "execution_count": null,
   "id": "02fedee0-c498-41b0-9bea-9461b6a08609",
   "metadata": {},
   "outputs": [],
   "source": []
  },
  {
   "cell_type": "code",
   "execution_count": 141,
   "id": "40b27773-d251-4f77-8462-9591fe431200",
   "metadata": {},
   "outputs": [
    {
     "name": "stderr",
     "output_type": "stream",
     "text": [
      "/home/krasen/miniconda3/envs/urban_taxonomy/lib/python3.12/site-packages/lonboard/_geoarrow/ops/reproject.py:97: UserWarning: Input being reprojected to EPSG:4326 CRS\n",
      "  warnings.warn(\"Input being reprojected to EPSG:4326 CRS\")\n"
     ]
    },
    {
     "name": "stdout",
     "output_type": "stream",
     "text": [
      "CPU times: user 4.75 s, sys: 408 ms, total: 5.16 s\n",
      "Wall time: 5.15 s\n"
     ]
    }
   ],
   "source": [
    "%%time\n",
    "import lonboard\n",
    "from core.cluster_validation import get_color\n",
    "plotting = tessellation.loc[tessellation.index.isin(X_train.index)].copy()\n",
    "# plotting = tessellation.loc[X_train.iloc[dists[:, 1] > 6].index].copy()\n",
    "layer = lonboard.PolygonLayer.from_geopandas(plotting, opacity=.08)"
   ]
  },
  {
   "cell_type": "code",
   "execution_count": 142,
   "id": "79b4d889-bcc3-402b-b168-27771490197b",
   "metadata": {},
   "outputs": [],
   "source": [
    "from sidecar import Sidecar\n",
    "sc = Sidecar(title='Clusters')\n",
    "m = lonboard.Map(layer, basemap_style=lonboard.basemap.CartoBasemap.Positron)\n",
    "with sc:\n",
    "    display(m)"
   ]
  },
  {
   "cell_type": "code",
   "execution_count": 146,
   "id": "c852e894-15a3-47e1-8a14-a74fba4ca4e2",
   "metadata": {},
   "outputs": [],
   "source": [
    "# layer.get_fill_color = get_color(clusters)"
   ]
  },
  {
   "cell_type": "code",
   "execution_count": null,
   "id": "e94cf607-1ce8-47c5-8b6b-c288d671a34b",
   "metadata": {},
   "outputs": [],
   "source": []
  },
  {
   "cell_type": "code",
   "execution_count": null,
   "id": "6f2fa9bc-04d1-4fe5-850d-c4e08473ff91",
   "metadata": {},
   "outputs": [],
   "source": []
  },
  {
   "cell_type": "code",
   "execution_count": null,
   "id": "5859bb32-cb44-46c1-94f6-fd8cc3d7f256",
   "metadata": {},
   "outputs": [],
   "source": [
    "tessellations_dir = '/data/uscuni-ulce/processed_data/tessellations/'\n",
    "tessellation = gpd.read_parquet(\n",
    "        tessellations_dir + f\"tessellation_{region_id}.parquet\"\n",
    ")"
   ]
  },
  {
   "cell_type": "code",
   "execution_count": null,
   "id": "6c6d2199-1b26-42a3-8915-075c3282c528",
   "metadata": {},
   "outputs": [],
   "source": []
  },
  {
   "cell_type": "code",
   "execution_count": 9,
   "id": "c0e406fa-4e3a-40e3-bb65-79f671af6db1",
   "metadata": {},
   "outputs": [
    {
     "name": "stdout",
     "output_type": "stream",
     "text": [
      "CPU times: user 49min 52s, sys: 7.5 s, total: 50min\n",
      "Wall time: 3min 24s\n"
     ]
    }
   ],
   "source": [
    "%%time\n",
    "edges = parallel_boruvka(numba_tree, min_samples=1)"
   ]
  },
  {
   "cell_type": "code",
   "execution_count": 10,
   "id": "ceef3ba9-6757-48dc-84d9-cb541d637d95",
   "metadata": {},
   "outputs": [],
   "source": [
    "sorted_mst = edges[np.argsort(edges.T[2])]"
   ]
  },
  {
   "cell_type": "code",
   "execution_count": 17,
   "id": "f43ac06f-ace0-46f7-af20-25da96eb2df4",
   "metadata": {},
   "outputs": [],
   "source": [
    "# np.save('../data/sorted_mst_eubucco_centroids.npy', sorted_mst)"
   ]
  },
  {
   "cell_type": "code",
   "execution_count": null,
   "id": "a18fd07e-a700-48ac-9f70-6ae49225ace8",
   "metadata": {},
   "outputs": [],
   "source": []
  },
  {
   "cell_type": "code",
   "execution_count": 11,
   "id": "de7e37d1-9324-4b60-a8dd-2b83995a88f8",
   "metadata": {},
   "outputs": [],
   "source": [
    "from fast_hdbscan.cluster_trees import get_cluster_labelling_at_cut, mst_to_linkage_tree"
   ]
  },
  {
   "cell_type": "code",
   "execution_count": 12,
   "id": "4bcd333a-e7af-42e1-bcf3-d91c6cde018c",
   "metadata": {},
   "outputs": [
    {
     "name": "stdout",
     "output_type": "stream",
     "text": [
      "CPU times: user 6.57 s, sys: 1.19 s, total: 7.76 s\n",
      "Wall time: 7.67 s\n"
     ]
    }
   ],
   "source": [
    "%%time\n",
    "linkage_tree = mst_to_linkage_tree(sorted_mst)"
   ]
  },
  {
   "cell_type": "code",
   "execution_count": null,
   "id": "3800fd68-c4e0-4e32-a731-8fe36085927a",
   "metadata": {},
   "outputs": [],
   "source": []
  },
  {
   "cell_type": "code",
   "execution_count": null,
   "id": "23ecf46e-5b4c-4ad4-be7a-3e14fe22501b",
   "metadata": {},
   "outputs": [],
   "source": []
  },
  {
   "cell_type": "code",
   "execution_count": 74,
   "id": "bba48ea0-b6d6-4791-9256-ab5627f47243",
   "metadata": {},
   "outputs": [
    {
     "name": "stdout",
     "output_type": "stream",
     "text": [
      "CPU times: user 6.73 s, sys: 1.23 s, total: 7.96 s\n",
      "Wall time: 6.26 s\n"
     ]
    }
   ],
   "source": [
    "%%time\n",
    "epsilon = 400\n",
    "clusters = get_cluster_labelling_at_cut(linkage_tree, epsilon, 2)"
   ]
  },
  {
   "cell_type": "code",
   "execution_count": 75,
   "id": "8384de70-4dcc-47a9-b4a7-c98c9d37f230",
   "metadata": {},
   "outputs": [
    {
     "data": {
      "text/plain": [
       "array([ 486607,  518308,  589589,  730388,  754610,  810908, 1636365,\n",
       "       2231215, 3989463, 4478821])"
      ]
     },
     "execution_count": 75,
     "metadata": {},
     "output_type": "execute_result"
    }
   ],
   "source": [
    "vals, counts = np.unique(clusters, return_counts=True)\n",
    "idxs = np.argsort(counts)[-10:]\n",
    "counts[idxs]"
   ]
  },
  {
   "cell_type": "code",
   "execution_count": 79,
   "id": "a0267be8-1d28-4801-af88-777e3c754736",
   "metadata": {},
   "outputs": [],
   "source": [
    "clusters = pd.Series(clusters, index=ids, name=f'cluster_{epsilon}m')"
   ]
  },
  {
   "cell_type": "code",
   "execution_count": null,
   "id": "b93f326b-a4ca-423d-a1d2-3d1721368d33",
   "metadata": {},
   "outputs": [],
   "source": []
  },
  {
   "cell_type": "code",
   "execution_count": null,
   "id": "53ccb5e2-9096-45ec-bb54-a89b5d5f23a5",
   "metadata": {},
   "outputs": [],
   "source": []
  },
  {
   "cell_type": "code",
   "execution_count": 81,
   "id": "a0c0b648-eddc-4150-a972-c342dab05fbf",
   "metadata": {},
   "outputs": [],
   "source": [
    "import geopandas as gpd"
   ]
  },
  {
   "cell_type": "code",
   "execution_count": 82,
   "id": "9f198e36-d8ec-48d2-9cd7-031eb3d8974a",
   "metadata": {},
   "outputs": [
    {
     "name": "stdout",
     "output_type": "stream",
     "text": [
      "CPU times: user 7.31 s, sys: 3.08 s, total: 10.4 s\n",
      "Wall time: 10.4 s\n"
     ]
    }
   ],
   "source": [
    "%%time\n",
    "grid_cores = gpd.GeoDataFrame(\n",
    "    clusters,\n",
    "    geometry=gpd.points_from_xy(data[:, 0], data[:, 1]),\n",
    "    crs=3035,\n",
    ")"
   ]
  },
  {
   "cell_type": "code",
   "execution_count": 84,
   "id": "cdf02467-9f83-4268-b692-1221abb04ecd",
   "metadata": {},
   "outputs": [
    {
     "name": "stdout",
     "output_type": "stream",
     "text": [
      "CPU times: user 27.2 s, sys: 896 ms, total: 28.1 s\n",
      "Wall time: 28.1 s\n"
     ]
    }
   ],
   "source": [
    "%%time\n",
    "grid_cores_dissolved = grid_cores.dissolve(f\"cluster_{epsilon}m\")"
   ]
  },
  {
   "cell_type": "code",
   "execution_count": null,
   "id": "6a160628-a061-411a-b4c4-0c80d52bc138",
   "metadata": {},
   "outputs": [],
   "source": []
  },
  {
   "cell_type": "code",
   "execution_count": 88,
   "id": "b1f7f0c8-5736-49cb-8a06-4ca7f48ee2cb",
   "metadata": {},
   "outputs": [
    {
     "name": "stdout",
     "output_type": "stream",
     "text": [
      "CPU times: user 8.61 s, sys: 8.05 ms, total: 8.61 s\n",
      "Wall time: 8.61 s\n"
     ]
    }
   ],
   "source": [
    "%%time\n",
    "convex_hulls = grid_cores_dissolved.convex_hull\n"
   ]
  },
  {
   "cell_type": "code",
   "execution_count": 100,
   "id": "e3eb0179-a769-43ef-96e6-75c4ef3150f5",
   "metadata": {},
   "outputs": [
    {
     "name": "stdout",
     "output_type": "stream",
     "text": [
      "CPU times: user 2min 51s, sys: 56 ms, total: 2min 51s\n",
      "Wall time: 2min 51s\n"
     ]
    }
   ],
   "source": [
    "%%time\n",
    "convex_hulls = grid_cores_dissolved.concave_hull(ratio=.02, allow_holes=False)\n"
   ]
  },
  {
   "cell_type": "code",
   "execution_count": null,
   "id": "00395586-0b5a-4bbc-b737-a1795342bcee",
   "metadata": {},
   "outputs": [],
   "source": []
  },
  {
   "cell_type": "code",
   "execution_count": null,
   "id": "240cd8ea-5cf1-4499-a8cc-e8ed1b6fb40f",
   "metadata": {},
   "outputs": [],
   "source": []
  },
  {
   "cell_type": "code",
   "execution_count": 101,
   "id": "a7bf824b-da71-4c15-ad7f-fdd4e1abe8b8",
   "metadata": {},
   "outputs": [],
   "source": [
    "convex_hulls = convex_hulls.to_frame().reset_index()\n",
    "convex_hulls.columns = ['region_id', 'geometry']\n",
    "convex_hulls = convex_hulls.set_geometry('geometry')"
   ]
  },
  {
   "cell_type": "code",
   "execution_count": null,
   "id": "068b89b8-ecc0-45ac-92e7-dc4060628f6a",
   "metadata": {},
   "outputs": [],
   "source": []
  },
  {
   "cell_type": "code",
   "execution_count": null,
   "id": "f520b7ce-1f50-4971-83a9-a97b5f70ba20",
   "metadata": {},
   "outputs": [],
   "source": []
  },
  {
   "cell_type": "code",
   "execution_count": 102,
   "id": "e96f33dc-cf2a-46f6-86f2-40d6e36f2516",
   "metadata": {},
   "outputs": [],
   "source": [
    "import lonboard"
   ]
  },
  {
   "cell_type": "code",
   "execution_count": 103,
   "id": "48505070-ba3a-4aba-aedc-8762583511fa",
   "metadata": {},
   "outputs": [],
   "source": [
    "layer = lonboard.PolygonLayer.from_geopandas(\n",
    "    convex_hulls[convex_hulls.geom_type == 'Polygon'].to_crs(4326), opacity=0.15)"
   ]
  },
  {
   "cell_type": "code",
   "execution_count": 105,
   "id": "2ca71719-21fd-4f05-8284-972080736a9a",
   "metadata": {},
   "outputs": [],
   "source": [
    "# m = lonboard.Map([layer], basemap_style=lonboard.basemap.CartoBasemap.Positron)\n",
    "# m"
   ]
  },
  {
   "cell_type": "code",
   "execution_count": null,
   "id": "b2122581-c296-49bc-8a08-eb62ddd34d8b",
   "metadata": {},
   "outputs": [],
   "source": []
  },
  {
   "cell_type": "code",
   "execution_count": null,
   "id": "41cdc184-d4f7-4659-aa41-2cd7abe641d6",
   "metadata": {},
   "outputs": [],
   "source": []
  },
  {
   "cell_type": "code",
   "execution_count": null,
   "id": "79b7bd28-7bf0-4ede-b430-0037c07e3df0",
   "metadata": {},
   "outputs": [],
   "source": [
    "clusters.to_frame().to_parquet(f'../data/id_to_region_mst_{epsilon}m.parquet')"
   ]
  },
  {
   "cell_type": "code",
   "execution_count": null,
   "id": "10f90243-0d88-44f2-afd1-bfac4548616d",
   "metadata": {},
   "outputs": [],
   "source": []
  },
  {
   "cell_type": "code",
   "execution_count": 50,
   "id": "a66b2e0c-0fdf-4c57-97fe-5fd9ced2f2da",
   "metadata": {},
   "outputs": [],
   "source": [
    "data[[\"x_100\", \"y_100\"]] = np.around(data[[\"x\", \"y\"]], decimals=-2).astype(int)\n",
    "grid = data[[\"id\", \"x_100\", \"y_100\"]].groupby([\"x_100\", \"y_100\"]).count().reset_index()"
   ]
  },
  {
   "cell_type": "code",
   "execution_count": null,
   "id": "1f06ba0c-6ce0-4419-b5c8-78d31d0bf45f",
   "metadata": {},
   "outputs": [],
   "source": []
  },
  {
   "cell_type": "code",
   "execution_count": null,
   "id": "f503ac27-f519-4ff3-a72f-fbba10cad348",
   "metadata": {},
   "outputs": [],
   "source": []
  },
  {
   "cell_type": "code",
   "execution_count": null,
   "id": "e64e0683-3687-4a8e-89cb-ac456b2d921f",
   "metadata": {},
   "outputs": [],
   "source": []
  },
  {
   "cell_type": "code",
   "execution_count": null,
   "id": "0d63ee56-0e6f-4a8b-9721-7837dc8e3d70",
   "metadata": {},
   "outputs": [],
   "source": []
  },
  {
   "cell_type": "code",
   "execution_count": null,
   "id": "8b15685d-8b16-4a12-930b-474991353dbd",
   "metadata": {},
   "outputs": [],
   "source": []
  },
  {
   "cell_type": "code",
   "execution_count": 94,
   "id": "31532fe6-fa9a-4348-9296-fcb1f5598576",
   "metadata": {},
   "outputs": [],
   "source": [
    "dists = ((data.iloc[[0], [1, 2]].values - data.iloc[1:, [1, 2]].values) ** 2).sum(\n",
    "    axis=1\n",
    ") ** (1 / 2)"
   ]
  },
  {
   "cell_type": "code",
   "execution_count": 95,
   "id": "ee0ea156-2708-4a93-93fe-fac297c5962c",
   "metadata": {},
   "outputs": [],
   "source": [
    "dist_grid = ((data.iloc[[0], [3, 4]].values - data.iloc[1:, [3, 4]].values) ** 2).sum(\n",
    "    axis=1\n",
    ") ** (1 / 2)"
   ]
  },
  {
   "cell_type": "code",
   "execution_count": 96,
   "id": "9d33d44c-4ff7-46f9-b81b-9fca9e661ca7",
   "metadata": {},
   "outputs": [
    {
     "data": {
      "text/plain": [
       "mean    179092.288873\n",
       "std     124926.395093\n",
       "min         50.632440\n",
       "25%      83659.753069\n",
       "50%     154873.615802\n",
       "75%     240605.405899\n",
       "max     529213.354645\n",
       "dtype: float64"
      ]
     },
     "execution_count": 96,
     "metadata": {},
     "output_type": "execute_result"
    }
   ],
   "source": [
    "pd.Series(dists).describe().iloc[1:]"
   ]
  },
  {
   "cell_type": "code",
   "execution_count": 97,
   "id": "7b94d051-8ca6-4df2-aaf3-ec34883e60a8",
   "metadata": {},
   "outputs": [
    {
     "data": {
      "text/plain": [
       "mean    179116.726038\n",
       "std     124927.318729\n",
       "min          0.000000\n",
       "25%      83696.176735\n",
       "50%     154898.224651\n",
       "75%     240624.022076\n",
       "max     529251.868206\n",
       "dtype: float64"
      ]
     },
     "execution_count": 97,
     "metadata": {},
     "output_type": "execute_result"
    }
   ],
   "source": [
    "pd.Series(dist_grid).describe().iloc[1:]"
   ]
  },
  {
   "cell_type": "code",
   "execution_count": null,
   "id": "89e92a24-c52b-4b0a-8899-0d84dfae7f62",
   "metadata": {},
   "outputs": [],
   "source": []
  },
  {
   "cell_type": "code",
   "execution_count": null,
   "id": "984f3c13-bd7c-483e-b523-7ca305d844c7",
   "metadata": {},
   "outputs": [],
   "source": []
  },
  {
   "cell_type": "code",
   "execution_count": null,
   "id": "6e27d053-2c7f-4235-81ba-36d4e1a7c42f",
   "metadata": {},
   "outputs": [],
   "source": []
  },
  {
   "cell_type": "code",
   "execution_count": null,
   "id": "6b35e160-6645-4c2c-b86b-55bef2bc9951",
   "metadata": {},
   "outputs": [],
   "source": []
  },
  {
   "cell_type": "code",
   "execution_count": null,
   "id": "f26d1d32-71eb-4467-a866-b20fbcc48ff5",
   "metadata": {},
   "outputs": [],
   "source": []
  },
  {
   "cell_type": "code",
   "execution_count": null,
   "id": "aa6448c7-6e13-417e-9e71-3d44494b20fb",
   "metadata": {},
   "outputs": [],
   "source": []
  },
  {
   "cell_type": "code",
   "execution_count": null,
   "id": "881e0fd2-95b4-4f23-945a-eb176397bc7d",
   "metadata": {},
   "outputs": [],
   "source": []
  }
 ],
 "metadata": {
  "kernelspec": {
   "display_name": "Python 3 (ipykernel)",
   "language": "python",
   "name": "python3"
  },
  "language_info": {
   "codemirror_mode": {
    "name": "ipython",
    "version": 3
   },
   "file_extension": ".py",
   "mimetype": "text/x-python",
   "name": "python",
   "nbconvert_exporter": "python",
   "pygments_lexer": "ipython3",
   "version": "3.12.4"
  }
 },
 "nbformat": 4,
 "nbformat_minor": 5
}
