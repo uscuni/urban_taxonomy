{
 "cells": [
  {
   "cell_type": "code",
   "execution_count": 9,
   "id": "bad9bd16-deff-4f80-8f6f-781df5a7b67f",
   "metadata": {},
   "outputs": [],
   "source": [
    "from sklearn.cluster import AgglomerativeClustering\n",
    "from sklearn.preprocessing import StandardScaler\n",
    "from scipy.cluster.hierarchy import fcluster\n",
    "import pandas as pd\n",
    "import numpy as np\n",
    "import geopandas as gpd"
   ]
  },
  {
   "cell_type": "code",
   "execution_count": 10,
   "id": "8cfc2da9-7f5f-4e69-be98-abd0781bd730",
   "metadata": {},
   "outputs": [],
   "source": [
    "regions_datadir = \"/data/uscuni-ulce/\"\n",
    "morphotopes_dir = '/data/uscuni-ulce/processed_data/morphotopes/'\n",
    "model_params = '_100_0_None_None_False'\n",
    "kernel = 'gaussian'\n",
    "spatial_lag = 3"
   ]
  },
  {
   "cell_type": "code",
   "execution_count": 11,
   "id": "b56f45e5-16f0-49f9-9340-0c4ea5e6aa2d",
   "metadata": {},
   "outputs": [],
   "source": [
    "to_drop = [\n",
    "        'stcSAl','stbOri','stcOri','stbCeA',\n",
    "        'ldkAre', 'ldkPer', 'lskCCo', 'lskERI','lskCWA', 'ltkOri', 'ltkWNB', 'likWBB', 'likWCe',\n",
    "# 'sdbAre', 'ssbCCM', 'sdcLAL'\n",
    "    # 'mibCCo', 'mibLAL'\n",
    "]"
   ]
  },
  {
   "cell_type": "code",
   "execution_count": 12,
   "id": "8f05aa29-0f69-44a5-bc26-1ac6e57639ec",
   "metadata": {},
   "outputs": [],
   "source": [
    "region_id = 4\n"
   ]
  },
  {
   "cell_type": "code",
   "execution_count": 13,
   "id": "1fbd7a89-143b-4990-a520-68f8718b6bc6",
   "metadata": {},
   "outputs": [],
   "source": [
    "data = pd.read_parquet(f'{morphotopes_dir}data_morphotopes_{region_id}{model_params}.pq')\n",
    "data.index = str(region_id) + '_' + data.index\n",
    "data = data.iloc[:, :-1]\n",
    "\n",
    "component_data = data.drop(columns=['percentile_25', 'percentile_75', 'median', 'std'], level=1)\n",
    "component_data = component_data.drop(columns=to_drop, level=0)\n",
    "component_data.columns =  component_data.columns.get_level_values(0)\n",
    "\n",
    "\n",
    "# lag_data = pd.read_parquet(f'/data/uscuni-ulce/processed_data/morphotope_lagged_data/{region_id}_{kernel}_{spatial_lag}.pq')\n",
    "# data = lag_data.join(component_data)\n",
    "\n",
    "\n",
    "data = component_data.copy()\n",
    "\n",
    "\n",
    "data = data[data.index.str[-2:] != '-1']"
   ]
  },
  {
   "cell_type": "code",
   "execution_count": null,
   "id": "cdcf4336-4d41-496f-a08d-999348810c57",
   "metadata": {},
   "outputs": [],
   "source": []
  },
  {
   "cell_type": "code",
   "execution_count": null,
   "id": "7ae4de4f-c665-4ce4-8cc0-758b708166e0",
   "metadata": {},
   "outputs": [],
   "source": []
  },
  {
   "cell_type": "code",
   "execution_count": 14,
   "id": "7e5c678b-cb90-4c74-8ec4-15fb24ce8fb0",
   "metadata": {},
   "outputs": [],
   "source": [
    "# component_data = data.drop(columns=['percentile_25', 'percentile_75', 'median', 'std'], level=1)\n",
    "# component_data = component_data.drop(columns=to_drop, level=0)\n",
    "# component_data.columns =  ['_'.join(col).strip() for col in component_data.columns.values]"
   ]
  },
  {
   "cell_type": "code",
   "execution_count": 15,
   "id": "408a4a80-77ea-41ea-984e-0650848e7f49",
   "metadata": {},
   "outputs": [],
   "source": [
    "vals = StandardScaler().fit_transform(component_data)\n",
    "component_data = pd.DataFrame(vals, columns=component_data.columns, index=component_data.index)\n",
    "component_data = component_data.drop(component_data.columns[component_data.std() == 0], axis=1)\n",
    "\n",
    "# component_data = component_data[component_data.index >= 0]\n",
    "vals = np.nan_to_num(component_data)\n",
    "component_data = pd.DataFrame(vals, columns=component_data.columns, index=component_data.index)\n"
   ]
  },
  {
   "cell_type": "code",
   "execution_count": null,
   "id": "050d66c7-4dd9-42ac-987d-ca118fa02ad7",
   "metadata": {},
   "outputs": [],
   "source": []
  },
  {
   "cell_type": "code",
   "execution_count": null,
   "id": "9ca2ceb9-d8d4-4deb-a334-a64bc1d21053",
   "metadata": {},
   "outputs": [],
   "source": []
  },
  {
   "cell_type": "code",
   "execution_count": null,
   "id": "91f5b588-91bc-4b17-b3f6-f94dbc9f82a6",
   "metadata": {},
   "outputs": [],
   "source": [
    "%%time\n",
    "linkage = 'ward'\n",
    "metric = 'euclidean'\n",
    "\n",
    "from sklearn.cluster import AgglomerativeClustering\n",
    "from core.cluster_validation import get_linkage_matrix\n",
    "clusterer = AgglomerativeClustering(linkage=linkage,\n",
    "                                    metric=metric,\n",
    "                                    compute_full_tree=True,\n",
    "                                    compute_distances=True)\n",
    "model = clusterer.fit(component_data.values)\n",
    "linkage_matrix = get_linkage_matrix(model)"
   ]
  },
  {
   "cell_type": "code",
   "execution_count": null,
   "id": "8b7148c5-a864-4d6c-b5bc-ec745dc18a16",
   "metadata": {},
   "outputs": [],
   "source": [
    "import sys\n",
    "sys.setrecursionlimit(10000)"
   ]
  },
  {
   "cell_type": "code",
   "execution_count": null,
   "id": "aae58d36-f21e-47c0-bf1f-7f207fbf7481",
   "metadata": {},
   "outputs": [],
   "source": [
    "import matplotlib.pyplot as plt\n",
    "from scipy.cluster.hierarchy import dendrogram\n",
    "fig,ax = plt.subplots(figsize=(20,20), dpi=200)\n",
    "_ = dendrogram(linkage_matrix,ax=ax)"
   ]
  },
  {
   "cell_type": "code",
   "execution_count": null,
   "id": "42c6ee51-79ce-471b-a39d-9b4b4817cbc5",
   "metadata": {
    "scrolled": true
   },
   "outputs": [],
   "source": []
  },
  {
   "cell_type": "code",
   "execution_count": null,
   "id": "2dc186d5-813c-42a2-9c84-9eb758c3a5d2",
   "metadata": {},
   "outputs": [],
   "source": [
    "def get_dendrogram_scatter_data(linkage_matrix):\n",
    "    \n",
    "    R = dendrogram(linkage_matrix, no_plot=True)\n",
    "    xs = np.array(R['icoord'])[:, 1:3].sum(axis=1)\n",
    "    ys = np.array(R['dcoord'])[:, 1]\n",
    "\n",
    "    ### fast way to find out where in ii, each node is equivalent to np.nonzero(ii == j)\n",
    "    ii = np.argsort(ys)\n",
    "    sorter = np.argsort(ii)\n",
    "    positions = sorter[np.searchsorted(ii, np.arange(0, len(R['dcoord'])), sorter=sorter)]\n",
    "    nodes = linkage_matrix[positions, ] \n",
    "\n",
    "    scatter_df = pd.DataFrame(nodes, columns=['child', 'parent', 'dist', 'size'])\n",
    "    scatter_df['x'] = xs\n",
    "    scatter_df['y'] = ys\n",
    "    \n",
    "    return scatter_df"
   ]
  },
  {
   "cell_type": "code",
   "execution_count": 12,
   "id": "bf08e1c9-7ba9-4ee0-a2b0-27e18a45d489",
   "metadata": {},
   "outputs": [],
   "source": [
    "scatter_df = get_dendrogram_scatter_data(linkage_matrix)"
   ]
  },
  {
   "cell_type": "code",
   "execution_count": null,
   "id": "325780a6-34d3-470f-872e-e5893f37f7db",
   "metadata": {},
   "outputs": [],
   "source": []
  },
  {
   "cell_type": "code",
   "execution_count": 13,
   "id": "72868408-1c5c-4856-b4b8-196a7e4b9b36",
   "metadata": {},
   "outputs": [],
   "source": [
    "import jscatter\n",
    "import ipywidgets"
   ]
  },
  {
   "cell_type": "code",
   "execution_count": 14,
   "id": "6d37b2ff-e933-470d-9eef-6b137875feb0",
   "metadata": {},
   "outputs": [
    {
     "data": {
      "application/vnd.jupyter.widget-view+json": {
       "model_id": "2acea15c095345bbad18dea24b1c0c7f",
       "version_major": 2,
       "version_minor": 0
      },
      "text/plain": [
       "HBox(children=(HBox(children=(VBox(children=(Button(button_style='primary', icon='arrows', layout=Layout(width…"
      ]
     },
     "execution_count": 14,
     "metadata": {},
     "output_type": "execute_result"
    }
   ],
   "source": [
    "scatter = jscatter.Scatter(data=scatter_df, x='x', y='y', height=640, width=1280)\n",
    "scatter.axes(grid=True)\n",
    "\n",
    "output = ipywidgets.Output()\n",
    "\n",
    "@output.capture(clear_output=True)\n",
    "def selection_change_handler(change):\n",
    "    display(scatter_df.loc[change.new].style.hide(axis='index'))\n",
    "            \n",
    "scatter.widget.observe(selection_change_handler, names=[\"selection\"])\n",
    "\n",
    "ipywidgets.HBox([scatter.show(), output])\n"
   ]
  },
  {
   "cell_type": "code",
   "execution_count": 16,
   "id": "f29acfe3-6548-4656-918b-b2067cae90bd",
   "metadata": {},
   "outputs": [
    {
     "name": "stdout",
     "output_type": "stream",
     "text": [
      "1392\n"
     ]
    },
    {
     "data": {
      "text/plain": [
       "<jscatter.jscatter.Scatter at 0x7da46bf14890>"
      ]
     },
     "execution_count": 16,
     "metadata": {},
     "output_type": "execute_result"
    }
   ],
   "source": [
    "target_morphotope = '69333_849_104'\n",
    "\n",
    "target_morphotope_idx = np.where(component_data.index == target_morphotope)[0][0]\n",
    "print(target_morphotope_idx)\n",
    "target_scatter_node = np.where((scatter_df['child'] == target_morphotope_idx) | (scatter_df['parent'] == target_morphotope_idx))\n",
    "target_scatter_node\n",
    "\n",
    "scatter.zoom([target_scatter_node])\n",
    "# scatter.selection(target_scatter_node)"
   ]
  },
  {
   "cell_type": "code",
   "execution_count": null,
   "id": "59d0d721-c1a7-4afd-9256-63dcf0dcdc19",
   "metadata": {},
   "outputs": [],
   "source": []
  },
  {
   "cell_type": "code",
   "execution_count": null,
   "id": "61cb0b63-5055-40be-9a60-aca90ca879b2",
   "metadata": {},
   "outputs": [],
   "source": []
  },
  {
   "cell_type": "code",
   "execution_count": 25,
   "id": "8d154ccb-e407-4e07-8d80-5b07d9c917bc",
   "metadata": {},
   "outputs": [],
   "source": [
    "selected_node = scatter.selection()[0]\n",
    "children_ids = get_children(scatter_df.loc[selected_node, 'child'].astype(int), scatter_df.loc[selected_node, 'parent'].astype(int))\n",
    "children_morphotopes = component_data.iloc[children_ids].index"
   ]
  },
  {
   "cell_type": "code",
   "execution_count": 27,
   "id": "e24926a1-be28-4152-a6ef-659c8ddd1f5b",
   "metadata": {},
   "outputs": [],
   "source": [
    "# etcs[etcs.morph.isin(children_morphotopes)].explore(prefer_canvas=True, tiles='CartoDB positron')"
   ]
  },
  {
   "cell_type": "code",
   "execution_count": null,
   "id": "4323b229-9214-4709-b217-ffe6f6663b7f",
   "metadata": {},
   "outputs": [],
   "source": []
  },
  {
   "cell_type": "code",
   "execution_count": 19,
   "id": "72f0cbea-0214-4e3c-aaa0-63d070efda6e",
   "metadata": {},
   "outputs": [],
   "source": [
    "region_id = 69333\n",
    "\n",
    "\n",
    "etcs = gpd.read_parquet(f'/data/uscuni-ulce/processed_data/tessellations/tessellation_{region_id}.parquet')\n",
    "etcs['morph'] = \"-1\"\n",
    "\n",
    "morphotopes = pd.read_parquet(f'/data/uscuni-ulce/processed_data/morphotopes/tessellation_labels_morphotopes_{region_id}{model_params}.pq')\n",
    "morphotopes.loc[:, 'morphotope_label'] =  morphotopes.values[:, 0]\n",
    "etcs.loc[morphotopes.index, 'morph'] = str(region_id) + '_' + morphotopes.values"
   ]
  },
  {
   "cell_type": "code",
   "execution_count": null,
   "id": "c568178b-eff5-4be8-8d13-e01e2257e16d",
   "metadata": {},
   "outputs": [],
   "source": []
  },
  {
   "cell_type": "code",
   "execution_count": 20,
   "id": "e6b4541b-f1f3-4138-84ff-3c14d04adad9",
   "metadata": {},
   "outputs": [],
   "source": [
    "import numpy as np\n",
    "\n",
    "def get_original_observations(Z, node_id, n):\n",
    "    \"\"\"\n",
    "    Recursively retrieves all original observations that belong to a cluster node.\n",
    "\n",
    "    Parameters:\n",
    "    Z : numpy.ndarray\n",
    "        Linkage matrix of shape (n-1, 4) where each row [Z[i, 0], Z[i, 1], Z[i, 2], Z[i, 3]]\n",
    "        contains two merged clusters and additional metadata.\n",
    "    node_id : int\n",
    "        The node (cluster) ID for which to retrieve original observations.\n",
    "    n : int\n",
    "        The total number of original observations.\n",
    "\n",
    "    Returns:\n",
    "    observations : list\n",
    "        List of original observation indices that are part of the specified node_id.\n",
    "    \"\"\"\n",
    "    # If the node_id refers to an original observation, return it\n",
    "    if node_id < n:\n",
    "        return [node_id]\n",
    "    \n",
    "    # Otherwise, recursively find observations for the two merged clusters\n",
    "    cluster_idx = node_id - n # Adjust the index because new clusters start from n\n",
    "    \n",
    "    left_cluster = int(Z[cluster_idx, 0])\n",
    "    right_cluster = int(Z[cluster_idx, 1])\n",
    "    \n",
    "    left_observations = get_original_observations(Z, left_cluster, n)\n",
    "    right_observations = get_original_observations(Z, right_cluster, n)\n",
    "    \n",
    "    return left_observations + right_observations\n",
    "\n",
    "\n",
    "\n",
    "\n",
    "\n",
    "# def dendogram_idx_nodes(idx, node_id, linkage, n_children, out=[]):\n",
    "    \n",
    "#     if node_id < 0:\n",
    "#        return\n",
    "#     left, right = linkage[idx]\n",
    "#     out.append((idx, node_id))\n",
    "#     # recurse over the right node\n",
    "#     if right >= n_children: # make sure it's not a leaf node\n",
    "#         node_id -= 1\n",
    "#         node_id = dendogram_idx_nodes(right - (n_children + 1), node_id,\n",
    "#                                      linkage, n_children, out)\n",
    "#     if left >= n_children: # make sure it's not a leaf node\n",
    "#         node_id -= 1\n",
    "#         node_id = dendogram_idx_nodes(left - (n_children +1), node_id,\n",
    "#                                      linkage, n_children, out)\n",
    "#     return node_id"
   ]
  },
  {
   "cell_type": "code",
   "execution_count": 21,
   "id": "3b01fca1-fbb4-4f54-8d2e-470db125068f",
   "metadata": {},
   "outputs": [],
   "source": [
    "def get_children(left, right):\n",
    "    res1 = get_original_observations(linkage_matrix, left, component_data.shape[0])\n",
    "    res2 = get_original_observations(linkage_matrix, right, component_data.shape[0])\n",
    "    res = np.union1d(res1, res2)\n",
    "    return res"
   ]
  },
  {
   "cell_type": "code",
   "execution_count": null,
   "id": "c92104d6-7592-4281-b4b5-e6174fae330f",
   "metadata": {},
   "outputs": [],
   "source": []
  },
  {
   "cell_type": "code",
   "execution_count": 24,
   "id": "13f7c275-4843-4f18-8f32-dbf093955c1c",
   "metadata": {},
   "outputs": [],
   "source": [
    "assert get_children(int(linkage_matrix[123, 0]), int(linkage_matrix[123, 1])).shape[0] == linkage_matrix[123, 3]\n",
    "assert get_children(int(linkage_matrix[321, 0]), int(linkage_matrix[321, 1])).shape[0] == linkage_matrix[321, 3]\n",
    "assert get_children(int(linkage_matrix[-1, 0]), int(linkage_matrix[-1, 1])).shape[0] == linkage_matrix[-1, 3]\n"
   ]
  },
  {
   "cell_type": "code",
   "execution_count": null,
   "id": "91dd97fb-38e8-40ad-a977-3b5bf711e348",
   "metadata": {},
   "outputs": [],
   "source": []
  },
  {
   "cell_type": "code",
   "execution_count": null,
   "id": "cedcde6a-1802-452c-82ea-31d63b29804f",
   "metadata": {},
   "outputs": [],
   "source": []
  },
  {
   "cell_type": "code",
   "execution_count": null,
   "id": "eb82552f-c50e-49cc-98bc-234006e52bac",
   "metadata": {},
   "outputs": [],
   "source": []
  },
  {
   "cell_type": "code",
   "execution_count": null,
   "id": "82abe134-e3f6-4f85-ba41-8c0b58ff7590",
   "metadata": {},
   "outputs": [],
   "source": []
  },
  {
   "cell_type": "code",
   "execution_count": null,
   "id": "efdc62bd-ae54-4f36-a008-58bb69c74855",
   "metadata": {},
   "outputs": [],
   "source": []
  },
  {
   "cell_type": "code",
   "execution_count": null,
   "id": "be54506b-1828-480e-993e-bcce37a70db6",
   "metadata": {},
   "outputs": [],
   "source": []
  },
  {
   "cell_type": "code",
   "execution_count": null,
   "id": "c316ad1d-73a9-4502-97f0-f2c116f667e7",
   "metadata": {
    "scrolled": true
   },
   "outputs": [],
   "source": []
  },
  {
   "cell_type": "code",
   "execution_count": null,
   "id": "293c5f38-bc6d-4b05-beb4-e9284d0c5dd3",
   "metadata": {},
   "outputs": [],
   "source": []
  },
  {
   "cell_type": "code",
   "execution_count": null,
   "id": "dfe369a5-1217-49b2-9c05-3745e5aaaeb3",
   "metadata": {},
   "outputs": [],
   "source": [
    "pd.Series(linkage_matrix[:, 2]).describe()"
   ]
  },
  {
   "cell_type": "code",
   "execution_count": null,
   "id": "3cf62fad-3c1b-42ca-a38a-4989c21d331a",
   "metadata": {},
   "outputs": [],
   "source": [
    "cutoff = 20\n",
    "\n",
    "kmeans_clusters = fcluster(linkage_matrix, t=cutoff, criterion='distance')\n"
   ]
  },
  {
   "cell_type": "code",
   "execution_count": null,
   "id": "d8e8580a-31c1-4a20-a516-0ff686e14b3a",
   "metadata": {},
   "outputs": [],
   "source": [
    "# ward_clusters = fcluster(linkage_matrix, t=cutoff, criterion='distance')\n",
    "# ward_clusters = pd.Series(ward_clusters, index=np.arange(np.unique(kmeans_clusters).shape[0]))\n",
    "# np.unique(ward_clusters)"
   ]
  },
  {
   "cell_type": "code",
   "execution_count": null,
   "id": "255f81cb-8dff-4799-baa9-54c0ee2f4770",
   "metadata": {},
   "outputs": [],
   "source": [
    "# clusters = pd.Series(kmeans_clusters).map(lambda x: ward_clusters.loc[x]).values"
   ]
  },
  {
   "cell_type": "code",
   "execution_count": null,
   "id": "e4d23aca-e64a-4767-be39-8bcff6f2fa19",
   "metadata": {},
   "outputs": [],
   "source": []
  },
  {
   "cell_type": "code",
   "execution_count": null,
   "id": "ee9839b1-dfa4-4534-b021-078fdedfd14e",
   "metadata": {},
   "outputs": [],
   "source": [
    "clusters = kmeans_clusters.copy()"
   ]
  },
  {
   "cell_type": "code",
   "execution_count": null,
   "id": "95f37147-5581-4c86-ab2a-b34d254ecd28",
   "metadata": {},
   "outputs": [],
   "source": []
  },
  {
   "cell_type": "code",
   "execution_count": null,
   "id": "5fc7929a-2062-4449-8ea5-914005944f3e",
   "metadata": {},
   "outputs": [],
   "source": []
  },
  {
   "cell_type": "code",
   "execution_count": null,
   "id": "900ac354-78e2-42e4-a369-c6dd18f646c1",
   "metadata": {
    "scrolled": true
   },
   "outputs": [],
   "source": [
    "region_id = 4\n",
    "\n",
    "\n",
    "etcs = gpd.read_parquet(f'/data/uscuni-ulce/processed_data/tessellations/tessellation_{region_id}.parquet')\n",
    "etcs['label'] = -1\n",
    "\n",
    "morphotopes = pd.read_parquet(f'/data/uscuni-ulce/processed_data/morphotopes/tessellation_labels_morphotopes_{region_id}{model_params}.pq')\n",
    "morphotopes.loc[:, 'morphotope_label'] =  str(region_id) + '_' + morphotopes.values[:, 0]\n",
    "\n",
    "region_clusters = pd.Series(clusters, component_data.index)\n",
    "region_clusters"
   ]
  },
  {
   "cell_type": "code",
   "execution_count": null,
   "id": "592f5e6c-df70-4adb-a4b8-9d92867b48ca",
   "metadata": {},
   "outputs": [],
   "source": [
    "region_clusters.nunique()"
   ]
  },
  {
   "cell_type": "code",
   "execution_count": null,
   "id": "6e2ad08a-9719-4983-a5f5-f2e0eaa78a49",
   "metadata": {
    "scrolled": true
   },
   "outputs": [],
   "source": [
    "region_clusters.value_counts()"
   ]
  },
  {
   "cell_type": "code",
   "execution_count": null,
   "id": "973b014e-336f-4cc5-86e9-d838b2d6a5e9",
   "metadata": {},
   "outputs": [],
   "source": []
  },
  {
   "cell_type": "code",
   "execution_count": null,
   "id": "76f92737-3617-44f2-bf74-ef81a1e52c6e",
   "metadata": {
    "scrolled": true
   },
   "outputs": [],
   "source": [
    "%%time\n",
    "## assign morphotope clusters to tess cells\n",
    "\n",
    "etcs.loc[morphotopes.index, 'label'] = morphotopes.morphotope_label.map(lambda x: region_clusters.loc[x] if x in region_clusters.index else -1).values\n"
   ]
  },
  {
   "cell_type": "code",
   "execution_count": null,
   "id": "62f2145c-4b74-400a-92fc-8968f1d622b1",
   "metadata": {},
   "outputs": [],
   "source": [
    "# %%time\n",
    "# # # # relabel morphotopes for plotting\n",
    "# morph_dict = pd.Series(np.arange(np.unique(morphotopes.values).shape[0]),\n",
    "#                        np.unique(morphotopes.values))\n",
    "# etcs.loc[morphotopes.index, 'label'] = morphotopes.map(lambda x: morph_dict.loc[x]).values\n",
    "# etcs['morph'] = '-1'\n",
    "# etcs.loc[morphotopes.index, 'morph'] = morphotopes.values"
   ]
  },
  {
   "cell_type": "code",
   "execution_count": null,
   "id": "6226a7a9-5a05-43b5-a856-6b592a8e1b60",
   "metadata": {
    "scrolled": true
   },
   "outputs": [],
   "source": [
    "etcs.label.value_counts()"
   ]
  },
  {
   "cell_type": "code",
   "execution_count": 74,
   "id": "3c3e9936-3efe-4b0d-b3ac-9ef9eb2413bf",
   "metadata": {},
   "outputs": [],
   "source": [
    "from core.cluster_validation import get_color\n",
    "layer.get_fill_color = get_color(etcs.label)"
   ]
  },
  {
   "cell_type": "code",
   "execution_count": null,
   "id": "e369fc21-0ccc-47dd-a729-38e4902968c9",
   "metadata": {},
   "outputs": [],
   "source": []
  },
  {
   "cell_type": "code",
   "execution_count": null,
   "id": "fa0c3306-d8eb-4b84-b701-6b722a129b1b",
   "metadata": {},
   "outputs": [],
   "source": []
  },
  {
   "cell_type": "code",
   "execution_count": null,
   "id": "5fa229a0-4a7e-4f32-9d42-f7786e4dd00b",
   "metadata": {},
   "outputs": [],
   "source": [
    "%%time\n",
    "import lonboard\n",
    "# plotting = tessellation[tessellation.index.isin(X_train.index)].copy()\n",
    "layer = lonboard.SolidPolygonLayer.from_geopandas(etcs, opacity=.08)"
   ]
  },
  {
   "cell_type": "code",
   "execution_count": null,
   "id": "b118957b-8bb4-4fc0-99ad-d73bc9704d0a",
   "metadata": {},
   "outputs": [],
   "source": [
    "from sidecar import Sidecar\n",
    "sc = Sidecar(title='Final Clusters')\n",
    "m = lonboard.Map(layer, basemap_style=lonboard.basemap.CartoBasemap.Positron)\n",
    "with sc:\n",
    "    display(m)"
   ]
  },
  {
   "cell_type": "code",
   "execution_count": null,
   "id": "3d3a349e-810d-4824-a743-ddb8dd012871",
   "metadata": {},
   "outputs": [],
   "source": [
    "from core.cluster_validation import get_color\n",
    "layer.get_fill_color = get_color(etcs.label)"
   ]
  },
  {
   "cell_type": "code",
   "execution_count": null,
   "id": "0790c1c4-b953-4472-912f-40dba8125e42",
   "metadata": {},
   "outputs": [],
   "source": [
    "\n"
   ]
  }
 ],
 "metadata": {
  "kernelspec": {
   "display_name": "Python 3 (ipykernel)",
   "language": "python",
   "name": "python3"
  },
  "language_info": {
   "codemirror_mode": {
    "name": "ipython",
    "version": 3
   },
   "file_extension": ".py",
   "mimetype": "text/x-python",
   "name": "python",
   "nbconvert_exporter": "python",
   "pygments_lexer": "ipython3",
   "version": "3.12.5"
  }
 },
 "nbformat": 4,
 "nbformat_minor": 5
}
