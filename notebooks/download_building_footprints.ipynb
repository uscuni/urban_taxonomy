{
 "cells": [
  {
   "cell_type": "code",
   "execution_count": null,
   "id": "6b8e03df-ada7-4033-b81c-69f88406df7a",
   "metadata": {},
   "outputs": [],
   "source": [
    "import requests"
   ]
  },
  {
   "cell_type": "code",
   "execution_count": null,
   "id": "591e590f-cab0-488d-bf50-5be26a013d80",
   "metadata": {},
   "outputs": [],
   "source": [
    "DATADIR = '/data/uscuni-ulce/cadastre_buildings_raw/'"
   ]
  },
  {
   "cell_type": "markdown",
   "id": "cff424bc-3b59-4b45-84a0-9f221ba07ea7",
   "metadata": {},
   "source": [
    "### Download german building footprints"
   ]
  },
  {
   "cell_type": "code",
   "execution_count": null,
   "id": "06b80e68-4a3b-4bbe-8bca-ac142e00bcae",
   "metadata": {},
   "outputs": [],
   "source": []
  },
  {
   "cell_type": "code",
   "execution_count": null,
   "id": "161ff262-184a-4ccd-b6ac-8dc846b763ee",
   "metadata": {},
   "outputs": [],
   "source": [
    "import geopandas as gpd\n",
    "from io import BytesIO\n",
    "import re\n",
    "\n",
    "def process_wfs(region_name, size, url, params, count, start=0,):\n",
    "    params = params.copy()\n",
    "    i = start\n",
    "    for i in range(start, size+count, count):\n",
    "        \n",
    "        print(i)\n",
    "        params['count'] = count,\n",
    "        params['startIndex'] = i,\n",
    "\n",
    "        # Make the request\n",
    "        response = requests.get(url, params=params)\n",
    "        \n",
    "        if response.status_code != 200:\n",
    "            print(i, count)\n",
    "            print(response.content)\n",
    "            break\n",
    "\n",
    "        try:\n",
    "            gdf = gpd.read_file(BytesIO(response.content))\n",
    "        except Exception as e:\n",
    "            print(e)\n",
    "            break\n",
    "            \n",
    "        gdf.to_parquet(DATADIR + f\"buildings_{region_name}_{i}.pq\")"
   ]
  },
  {
   "cell_type": "code",
   "execution_count": null,
   "id": "e44d4ea3-2fe8-4068-9839-191b6954fadc",
   "metadata": {},
   "outputs": [],
   "source": [
    "def get_size(url, params):\n",
    "    params = params.copy()\n",
    "    params['resultType'] = 'hits'\n",
    "    response = requests.get(url, params=params)\n",
    "    if response.status_code == 200:\n",
    "        size = re.findall(r'numberMatched=\"[0-9]+\"', str(response.content))\n",
    "        size = int(size[0].split('=')[-1][1:-1])\n",
    "        return size\n",
    "\n",
    "    return 'unknown'"
   ]
  },
  {
   "cell_type": "code",
   "execution_count": null,
   "id": "cc0e9930-05c4-4cd9-aa1e-7686f24793f0",
   "metadata": {},
   "outputs": [],
   "source": []
  },
  {
   "cell_type": "code",
   "execution_count": null,
   "id": "9fc00a34-4adc-4936-8c1c-dc453e4bbbc5",
   "metadata": {
    "scrolled": true
   },
   "outputs": [],
   "source": [
    "%%time\n",
    "\n",
    "# BB\n",
    "url = \"https://isk.geobasis-bb.de/ows/alkis_vereinf_wfs\"\n",
    "\n",
    "# Parameters for the GetFeature request\n",
    "\n",
    "params = {\n",
    "        \"SERVICE\": \"WFS\",\n",
    "        \"REQUEST\": \"GetFeature\",\n",
    "        \"TYPENAMES\": \"ave:GebaeudeBauwerk\",\n",
    "        \"SRSNAME\": \"EPSG:4326\",\n",
    "        \"VERSION\": '2.0.0',\n",
    "    }\n",
    "\n",
    "size = get_size(url, params)\n",
    "print(size)\n"
   ]
  },
  {
   "cell_type": "code",
   "execution_count": null,
   "id": "9f7d8046-e9cf-4ade-a993-cf05e9fe7f9d",
   "metadata": {},
   "outputs": [],
   "source": [
    "count = 100_000\n",
    "process_wfs(\"germany_brandeburg\", size, url, params, count)"
   ]
  },
  {
   "cell_type": "code",
   "execution_count": null,
   "id": "fe4f100d-517f-4e44-bb89-1914395e4d1b",
   "metadata": {
    "scrolled": true
   },
   "outputs": [],
   "source": []
  },
  {
   "cell_type": "code",
   "execution_count": null,
   "id": "0478b1b3-c506-46b7-987d-2fd7feda0584",
   "metadata": {},
   "outputs": [],
   "source": []
  },
  {
   "cell_type": "code",
   "execution_count": null,
   "id": "ab00a568-1594-4645-9d1d-93627a6788e3",
   "metadata": {
    "scrolled": true
   },
   "outputs": [],
   "source": [
    "#hessen\n",
    "params = {\n",
    "        \"SERVICE\": \"WFS\",\n",
    "        \"REQUEST\": \"GetFeature\",\n",
    "        \"TYPENAMES\": \"bu-core2d:Building\",\n",
    "        \"SRSNAME\": \"EPSG:4326\",\n",
    "        \"VERSION\": '2.0.0',\n",
    "    }\n",
    "url = 'https://inspire-hessen.de/ows/services/org.2.29e99e26-ab08-474a-92c4-9e8f6bc679ea_wfs?'\n",
    "size = get_size(url, params)\n",
    "print(size)\n"
   ]
  },
  {
   "cell_type": "code",
   "execution_count": null,
   "id": "cee4481c-c6df-4ca1-9961-18e667de1e1b",
   "metadata": {},
   "outputs": [],
   "source": [
    "\n",
    "count = 100000\n",
    "process_wfs(\"germany_hessen\", size, url, params, count, start=3900000)"
   ]
  },
  {
   "cell_type": "code",
   "execution_count": null,
   "id": "1b05dd60-cc6e-4b84-acbe-773a04ebe0c2",
   "metadata": {},
   "outputs": [],
   "source": []
  },
  {
   "cell_type": "code",
   "execution_count": null,
   "id": "d3bf9f64-dcfd-444c-b97c-01b09cb1ecfc",
   "metadata": {},
   "outputs": [],
   "source": []
  },
  {
   "cell_type": "code",
   "execution_count": null,
   "id": "320c759c-a228-475e-9c32-337d4eb652b3",
   "metadata": {},
   "outputs": [],
   "source": []
  },
  {
   "cell_type": "code",
   "execution_count": null,
   "id": "17a37d12-3009-4e47-94fd-aeff47815b9f",
   "metadata": {},
   "outputs": [],
   "source": []
  },
  {
   "cell_type": "code",
   "execution_count": null,
   "id": "f4632ae2-d255-411b-93d2-22033ddbdfd7",
   "metadata": {},
   "outputs": [],
   "source": [
    "#thuringen\n",
    "i = 0\n",
    "params = {\n",
    "        \"SERVICE\": \"WFS\",\n",
    "        \"REQUEST\": \"GetFeature\",\n",
    "        \"TYPENAMES\": \"ave:GebaeudeBauwerk\",\n",
    "        \"SRSNAME\": \"EPSG:5650\",\n",
    "        \"VERSION\": '2.0.0',\n",
    "    }\n",
    "\n",
    "url = ' https://www.geoproxy.geoportal-th.de/geoproxy/services/adv_alkis_wfs'\n",
    "size = get_size(url, params)\n",
    "print(size)"
   ]
  },
  {
   "cell_type": "code",
   "execution_count": null,
   "id": "673503fa-a8f2-4845-95e5-f707f44b05af",
   "metadata": {},
   "outputs": [],
   "source": [
    "count = 100_000\n",
    "process_wfs(\"germany_th\", size, url, params, count)"
   ]
  },
  {
   "cell_type": "code",
   "execution_count": null,
   "id": "b69e4063-6325-4aee-a7fc-6ae270869e3e",
   "metadata": {},
   "outputs": [],
   "source": []
  },
  {
   "cell_type": "code",
   "execution_count": null,
   "id": "341040ac-48db-4b7d-ab2e-e210b1a2200e",
   "metadata": {},
   "outputs": [],
   "source": []
  },
  {
   "cell_type": "code",
   "execution_count": null,
   "id": "19b648bf-ad82-4199-9fd2-34ef84719536",
   "metadata": {},
   "outputs": [],
   "source": []
  },
  {
   "cell_type": "code",
   "execution_count": null,
   "id": "facc508c-da3f-4cb9-a724-535d357edbc7",
   "metadata": {},
   "outputs": [],
   "source": []
  },
  {
   "cell_type": "code",
   "execution_count": null,
   "id": "e9ce2cf7-6244-4497-a344-045814c56627",
   "metadata": {},
   "outputs": [],
   "source": [
    "#sachsen\n",
    "i = 0\n",
    "params = {\n",
    "        \"SERVICE\": \"WFS\",\n",
    "        \"REQUEST\": \"GetFeature\",\n",
    "        \"TYPENAMES\": \"ave:GebaeudeBauwerk\",\n",
    "        \"SRSNAME\": \"EPSG:25833\",\n",
    "        \"VERSION\": '2.0.0',\n",
    "    }\n",
    "url = 'https://geodienste.sachsen.de/aaa/public_alkis/vereinf/wfs'\n",
    "\n",
    "size = get_size(url, params)\n",
    "print(size)"
   ]
  },
  {
   "cell_type": "code",
   "execution_count": null,
   "id": "29a31d2c-f09e-4c8a-aabd-47d8143a9ce4",
   "metadata": {
    "scrolled": true
   },
   "outputs": [],
   "source": [
    "count = 10000\n",
    "process_wfs(\"germany_sachsen\", size, url, params, count)"
   ]
  },
  {
   "cell_type": "code",
   "execution_count": null,
   "id": "8709f3f5-c4bf-4f64-a96c-55b5093b1138",
   "metadata": {},
   "outputs": [],
   "source": []
  },
  {
   "cell_type": "code",
   "execution_count": null,
   "id": "d17dcc80-8afc-42d7-b93b-4cc522d46695",
   "metadata": {},
   "outputs": [],
   "source": []
  },
  {
   "cell_type": "code",
   "execution_count": null,
   "id": "06463d03-1d66-438a-8a22-506d7fbe1e86",
   "metadata": {},
   "outputs": [],
   "source": []
  },
  {
   "cell_type": "code",
   "execution_count": null,
   "id": "f74b3c89-a3e6-4b8e-bb80-4c3a09996e61",
   "metadata": {},
   "outputs": [],
   "source": []
  },
  {
   "cell_type": "code",
   "execution_count": null,
   "id": "63bd9940-473d-4301-b28d-98d715a8f32b",
   "metadata": {},
   "outputs": [],
   "source": []
  },
  {
   "cell_type": "code",
   "execution_count": null,
   "id": "9f150c56-4394-4014-9349-0d89bf0f6a69",
   "metadata": {},
   "outputs": [],
   "source": []
  },
  {
   "cell_type": "code",
   "execution_count": null,
   "id": "36911c25-92c7-48f7-9ab3-8efeb872f87a",
   "metadata": {},
   "outputs": [],
   "source": [
    "#sachsen-anhalt\n",
    "i = 0\n",
    "params = {\n",
    "        \"SERVICE\": \"WFS\",\n",
    "        \"REQUEST\": \"GetFeature\",\n",
    "        \"TYPENAMES\": \"bu-core2d:Building\",\n",
    "        \"SRSNAME\": \"EPSG:25833\",\n",
    "        \"VERSION\": '2.0.0',\n",
    "    }\n",
    "url = 'https://www.geodatenportal.sachsen-anhalt.de/wss/service/INSPIRE_LVermGeo_WFS_ALKIS_BU/guest'\n",
    "size = get_size(url, params)\n",
    "print(size)\n"
   ]
  },
  {
   "cell_type": "code",
   "execution_count": null,
   "id": "961c638c-7e3b-4dc2-ad72-9f60d6f36da0",
   "metadata": {},
   "outputs": [],
   "source": [
    "\n",
    "count = 10_000\n",
    "process_wfs(\"germany_sachsen-anhalt\", size, url, params, count)"
   ]
  },
  {
   "cell_type": "code",
   "execution_count": null,
   "id": "31669f51-7f2e-4ad5-ab3e-52764a99f339",
   "metadata": {},
   "outputs": [],
   "source": []
  },
  {
   "cell_type": "code",
   "execution_count": null,
   "id": "12dafe99-cc8c-4a8b-84c2-7d086f4fc67f",
   "metadata": {},
   "outputs": [],
   "source": []
  },
  {
   "cell_type": "code",
   "execution_count": null,
   "id": "2eca9508-e059-4ea1-8dbc-a4a74ca2797b",
   "metadata": {},
   "outputs": [],
   "source": [
    "#baddwen_wurteburd\n",
    "params = {\n",
    "        \"SERVICE\": \"WFS\",\n",
    "        \"REQUEST\": \"GetFeature\",\n",
    "        \"TYPENAMES\": \"bu-core2d:Building\",\n",
    "        \"SRSNAME\": \"EPSG:25833\",\n",
    "        \"VERSION\": '2.0.0',\n",
    "    }\n",
    "url = 'https://owsproxy.lgl-bw.de/owsproxy/wfs/WFS_INSP_BW_Gebaeude_ALKIS'\n",
    "\n",
    "size = get_size(url, params)\n",
    "print(size)"
   ]
  },
  {
   "cell_type": "code",
   "execution_count": null,
   "id": "83b2156b-3e7d-4c1f-a292-d94f6c99bf30",
   "metadata": {},
   "outputs": [],
   "source": [
    "\n",
    "count = 10000\n",
    "process_wfs(\"germany_bw\", size, url, params, count)"
   ]
  },
  {
   "cell_type": "code",
   "execution_count": null,
   "id": "c691264a-b0a6-46b6-a201-92481cf82c45",
   "metadata": {},
   "outputs": [],
   "source": []
  },
  {
   "cell_type": "code",
   "execution_count": null,
   "id": "209b68d9-f084-4386-89c9-70b6463d69f6",
   "metadata": {},
   "outputs": [],
   "source": []
  },
  {
   "cell_type": "code",
   "execution_count": null,
   "id": "eb6324b6-30cb-4b22-b3ec-b5ca1ad1f255",
   "metadata": {},
   "outputs": [],
   "source": [
    "#movmovi - vavdfav\n",
    "i = 0\n",
    "params = {\n",
    "        \"SERVICE\": \"WFS\",\n",
    "        \"REQUEST\": \"GetFeature\",\n",
    "        \"TYPENAMES\": \"ave:GebaeudeBauwerk\",\n",
    "        \"SRSNAME\": \"EPSG:5650\",\n",
    "        \"VERSION\": '2.0.0',\n",
    "    }\n",
    "url = 'https://www.geodaten-mv.de/dienste/alkis_wfs_einfach'\n",
    "size = get_size(url, params)\n",
    "print(size)\n"
   ]
  },
  {
   "cell_type": "code",
   "execution_count": null,
   "id": "263702e7-fb73-40f9-8fc1-a30f3dbd7690",
   "metadata": {},
   "outputs": [],
   "source": [
    "count = 10000\n",
    "process_wfs(\"germany_mv\", size, url, params, count)"
   ]
  },
  {
   "cell_type": "code",
   "execution_count": null,
   "id": "7c3b28c5-b9b4-4e92-874b-1b38cbb6b746",
   "metadata": {},
   "outputs": [],
   "source": []
  },
  {
   "cell_type": "code",
   "execution_count": null,
   "id": "f21e25cd-8afb-4610-b8f4-c5c81fc7a7c5",
   "metadata": {},
   "outputs": [],
   "source": []
  },
  {
   "cell_type": "code",
   "execution_count": null,
   "id": "6d751df4-90a0-46da-8bab-cf5b9bc991c3",
   "metadata": {},
   "outputs": [],
   "source": []
  },
  {
   "cell_type": "code",
   "execution_count": null,
   "id": "3f0a6883-4ef7-4b1b-ac32-8083107dc66d",
   "metadata": {},
   "outputs": [],
   "source": [
    "### RLP\n",
    "\n",
    "# # https://www.geoportal.rlp.de/mapbender/php/mod_inspireDownloadFeed.php?id=30cc0a9a-cbad-66e3-68a5-7b75544814d8&type=DATASET&generateFrom=wfs&wfsid=519&featuretypeid=2713\n",
    "# #rlp\n",
    "# i = 0\n",
    "# params = {\n",
    "#         \"SERVICE\": \"WFS\",\n",
    "#         \"REQUEST\": \"GetFeature\",\n",
    "#         \"TYPENAMES\": \"bu-core2d:Building\",\n",
    "#         \"SRSNAME\": \"EPSG:25832\",\n",
    "#         \"VERSION\": '2.0.0',\n",
    "#     }\n",
    "# url = 'https://www.geoportal.rlp.de/registry/wfs/519'\n",
    "# size = get_size(url, params)\n",
    "# print(size)\n",
    "\n",
    "\n",
    "# # count = 100000\n",
    "# # process_wfs(\"germany_rlp\", url, params, count)\n",
    "\n",
    "\n",
    "for i in range(0, 3320444, 4000):\n",
    "    url = f'https://www.geoportal.rlp.de/spatial-objects/519/collections/ave:GebaeudeBauwerk/items?offset={i}&limit=4000&f=json'\n",
    "    gdf = gpd.read_file(url)\n",
    "    gdf.to_parquet(DATADIR + f'buildings_germany_rlp_{i}.pq')\n",
    "    print(i)"
   ]
  },
  {
   "cell_type": "code",
   "execution_count": null,
   "id": "bc5d7e81-3574-4780-936d-10bc41e583a3",
   "metadata": {},
   "outputs": [],
   "source": []
  },
  {
   "cell_type": "code",
   "execution_count": null,
   "id": "08359e0a-a397-4432-ad7f-c47436c5785f",
   "metadata": {},
   "outputs": [],
   "source": [
    "\n",
    "# # #saarland\n",
    "# # i = 0\n",
    "# # params = {\n",
    "# #         \"SERVICE\": \"WFS\",\n",
    "# #         \"REQUEST\": \"GetFeature\",\n",
    "# #         \"TYPENAMES\": \"bu-core2d:Building\",\n",
    "# #         \"SRSNAME\": \"EPSG:4326\",\n",
    "# #         \"VERSION\": '2.0.0',\n",
    "# #     }\n",
    "# # url = 'https://geoportal.saarland.de/gdi-sl/inspirewfs_2D_Gebaeude_ALKIS'\n",
    "# # size = get_size(url, params)\n",
    "# # print(size)\n",
    "\n",
    "# # params['count'] = size\n",
    "# # response = requests.get(url, params=params)\n",
    "\n",
    "\n",
    "for i in range(0, 622841, 500):\n",
    "    url = f'https://geoportal.saarland.de/spatial-objects/406/collections/bu-core2d:Building/items?offset={i}&limit=500&f=json'\n",
    "    gdf = gpd.read_file(url)\n",
    "    gdf.to_parquet(DATADIR + f'buildings_germany_saarland_{i}.pq')\n",
    "    print(i)"
   ]
  },
  {
   "cell_type": "code",
   "execution_count": null,
   "id": "86b635a6-1655-4093-89f9-c50e2715eb96",
   "metadata": {},
   "outputs": [],
   "source": []
  },
  {
   "cell_type": "code",
   "execution_count": null,
   "id": "ff5da58f-c9bf-4f6e-a909-80e36227ef81",
   "metadata": {},
   "outputs": [],
   "source": []
  },
  {
   "cell_type": "code",
   "execution_count": null,
   "id": "0756b44f-32bd-485e-a716-16bf7ad8437e",
   "metadata": {},
   "outputs": [],
   "source": []
  },
  {
   "cell_type": "code",
   "execution_count": null,
   "id": "ff502a0a-69a0-459b-8653-9173e0b5e4da",
   "metadata": {},
   "outputs": [],
   "source": [
    "# #nrw\n",
    "# i = 0\n",
    "# params = {\n",
    "#         \"SERVICE\": \"WFS\",\n",
    "#         \"REQUEST\": \"GetFeature\",\n",
    "#         \"TYPENAMES\": \"bu-core2d:Building\",\n",
    "#         \"SRSNAME\": \"EPSG:4326\",\n",
    "#         \"VERSION\": '2.0.0',\n",
    "#     }\n",
    "# url = 'https://www.wfs.nrw.de/geobasis/wfs_nw_inspire-gebaeude-2d_alkis'\n",
    "\n",
    "# size = get_size(url, params)\n",
    "# size\n",
    "# count = 10000\n",
    "# process_wfs(\"germany_nrw\", url, params, count, start=)\n",
    "\n",
    "step = 5_000\n",
    "\n",
    "for i in range(0, 12646244, step):\n",
    "    url = f'https://ogc-api.nrw.de/lika/v1/collections/gebaeude_bauwerk/items?offset={i}&limit={step}&f=json'\n",
    "    gdf = gpd.read_file(url)\n",
    "    gdf.to_parquet(DATADIR + f'buildings_germany_nrw_{i}.pq')\n",
    "    print(i, gdf.shape)"
   ]
  },
  {
   "cell_type": "code",
   "execution_count": null,
   "id": "366d4189-f555-40b1-98a7-d306ca8e43da",
   "metadata": {},
   "outputs": [],
   "source": []
  },
  {
   "cell_type": "code",
   "execution_count": null,
   "id": "69952ed0-812f-42b1-84bc-ac2e405772d1",
   "metadata": {},
   "outputs": [],
   "source": []
  },
  {
   "cell_type": "code",
   "execution_count": null,
   "id": "539aebdd-f35c-412e-8231-35b5920cda0d",
   "metadata": {},
   "outputs": [],
   "source": []
  },
  {
   "cell_type": "code",
   "execution_count": null,
   "id": "aa2c8bbb-c004-42cc-bd38-008dc6a00316",
   "metadata": {},
   "outputs": [],
   "source": [
    "## NI"
   ]
  },
  {
   "cell_type": "code",
   "execution_count": null,
   "id": "6b8fa411-6c5f-437b-b59d-067a902b7c2b",
   "metadata": {},
   "outputs": [],
   "source": [
    "# https://ni-lgln-opengeodata.hub.arcgis.com/apps/1cadea38ffb341bc83019b3d7f787dd3/explore\n",
    "\n",
    "\n",
    "# #niedersachsen\n",
    "# i = 0\n",
    "# params = {\n",
    "#         \"SERVICE\": \"WFS\",\n",
    "#         \"REQUEST\": \"GetFeature\",\n",
    "#         \"TYPENAMES\": \"bu-core2d:Building\",\n",
    "#         \"VERSION\": '2.0.0',\n",
    "#     }\n",
    "# url = 'https://www.inspire.niedersachsen.de/doorman/noauth/alkis-dls-bu-core2d?'\n",
    "\n",
    "# size = get_size(url, params)\n",
    "# print(size)\n",
    "\n",
    "# count = 10000\n",
    "# process_wfs(\"germany_niedersachsen\", url, params, count)"
   ]
  },
  {
   "cell_type": "code",
   "execution_count": null,
   "id": "2568dfee-f839-40ec-b133-bdad7800b99f",
   "metadata": {},
   "outputs": [],
   "source": [
    "links = gpd.read_file('https://arcgis-geojson.s3.eu-de.cloud-object-storage.appdomain.cloud/alkis-vektor/lgln-opengeodata-alkis-vektor.geojson')"
   ]
  },
  {
   "cell_type": "code",
   "execution_count": null,
   "id": "ee99aaff-ffb3-44ff-b259-a8c7836ceef0",
   "metadata": {
    "scrolled": true
   },
   "outputs": [],
   "source": [
    "import urllib.parse\n",
    "for link in links.zip.values:\n",
    "    link = urllib.parse.quote(link, safe=':/')\n",
    "    print(link)\n",
    "    gdf = gpd.read_file(link, layer='gebaeude')\n",
    "    gdf.to_parquet(DATADIR + f'buildings_germany_ni_{link.split('/')[-1][:-9]}.pq')"
   ]
  },
  {
   "cell_type": "code",
   "execution_count": null,
   "id": "8fec8863-d696-40b8-a54e-d3e0c81e38ba",
   "metadata": {},
   "outputs": [],
   "source": []
  },
  {
   "cell_type": "code",
   "execution_count": null,
   "id": "09d5abf7-63c4-4609-9bf6-8e96faa0ac09",
   "metadata": {},
   "outputs": [],
   "source": []
  },
  {
   "cell_type": "code",
   "execution_count": null,
   "id": "71c3b3fb-bde1-4a81-86f5-c01f01fe3ee9",
   "metadata": {},
   "outputs": [],
   "source": []
  },
  {
   "cell_type": "code",
   "execution_count": null,
   "id": "df8f291e-316a-4dc8-9039-b290d58a2d17",
   "metadata": {},
   "outputs": [],
   "source": []
  },
  {
   "cell_type": "code",
   "execution_count": null,
   "id": "0169912f-b574-4d2c-8627-02bd0c0e3fad",
   "metadata": {},
   "outputs": [],
   "source": []
  },
  {
   "cell_type": "code",
   "execution_count": null,
   "id": "88950ad1-886e-4103-bd01-97cfdf370371",
   "metadata": {},
   "outputs": [],
   "source": [
    "# ## schlesig hollstein\n",
    "# params = {\n",
    "#         \"SERVICE\": \"WFS\",\n",
    "#         \"REQUEST\": \"GetFeature\",\n",
    "#         \"TYPENAMES\": \"bu-core2d:Building\",\n",
    "#         \"SRSNAME\": \"EPSG:4326\",\n",
    "#         \"VERSION\": '2.0.0',\n",
    "#     }\n",
    "# url = 'https://service.gdi-sh.de/SH_INSPIREDOWNLOAD_AIII_BU?service=WFS&version=2.0.0'\n",
    "\n",
    "# size = get_size(url, params)\n",
    "# print(size)\n",
    "\n",
    "\n",
    "\n",
    "# count = 10_000\n",
    "# process_wfs(\"germany_sh\", url, params, count)"
   ]
  },
  {
   "cell_type": "code",
   "execution_count": null,
   "id": "501038a8-8ddf-433c-a824-a8975a9acf83",
   "metadata": {},
   "outputs": [],
   "source": [
    "!wget https://service.gdi-sh.de/SH_OpenGBD/feeds/Atom_SH_ALKIS_vereinf_OpenGBD/Atom_SH_ALKIS_vereinf_OpenGBD.xml"
   ]
  },
  {
   "cell_type": "code",
   "execution_count": null,
   "id": "e136b441-6b9c-4e2a-8649-d92e401dc2a4",
   "metadata": {},
   "outputs": [],
   "source": [
    "import xml.etree.ElementTree as ET\n",
    "\n",
    "# Load the XML file\n",
    "tree = ET.parse('Atom_SH_ALKIS_vereinf_OpenGBD.xml')\n",
    "root = tree.getroot()\n",
    "\n",
    "\n",
    "# Define the namespaces\n",
    "namespaces = {\n",
    "    'atom': 'http://www.w3.org/2005/Atom',\n",
    "    'georss': 'http://www.georss.org/georss',\n",
    "    'inspire_dls': 'http://inspire.ec.europa.eu/schemas/inspire_dls/1.0',\n",
    "    'lang': 'ger'\n",
    "}\n",
    "\n",
    "# Find all elements with the tag 'entry'\n",
    "entries = root.findall('atom:entry', namespaces)\n",
    "codes = []\n",
    "\n",
    "# Extract and print the 'inspire_dls:spatial_dataset_identifier_code' attribute for each entry\n",
    "for entry in entries:\n",
    "    # Find the 'inspire_dls:spatial_dataset_identifier_code' element within the entry\n",
    "    spatial_code = entry.find('inspire_dls:spatial_dataset_identifier_code', namespaces)\n",
    "    codes.append(spatial_code.text)"
   ]
  },
  {
   "cell_type": "code",
   "execution_count": null,
   "id": "d27d42cf-204e-4872-9985-1384f2415e91",
   "metadata": {},
   "outputs": [],
   "source": [
    "len(codes)"
   ]
  },
  {
   "cell_type": "code",
   "execution_count": null,
   "id": "96fcfaa9-6899-4ede-8e84-78d69fadb983",
   "metadata": {
    "scrolled": true
   },
   "outputs": [],
   "source": [
    "for code in codes:\n",
    "    url = f'https://dienste.gdi-sh.de/WFS_SH_ALKIS_vereinf_OpenGBD?Request=GetFeature&Service=WFS&Version=2.0.0&gemeindeschluessel={code}&StoredQuery_ID=GetGebByGemeinde'\n",
    "    gdf = gpd.read_file(url, driver='GML')\n",
    "    gdf.to_parquet(DATADIR + f'buildings_germany_sg_{code}.pq')"
   ]
  },
  {
   "cell_type": "code",
   "execution_count": null,
   "id": "39645f00-4ac2-4819-ae99-afe282e1c3ab",
   "metadata": {},
   "outputs": [],
   "source": [
    "!rm Atom_SH_ALKIS_vereinf_OpenGBD.xml"
   ]
  },
  {
   "cell_type": "code",
   "execution_count": null,
   "id": "4d68a1f3-36e4-4b93-b4e5-76d54da5ca51",
   "metadata": {},
   "outputs": [],
   "source": []
  },
  {
   "cell_type": "code",
   "execution_count": null,
   "id": "55d8576b-7ebc-4e68-8da6-359f2c162d0e",
   "metadata": {},
   "outputs": [],
   "source": []
  },
  {
   "cell_type": "code",
   "execution_count": null,
   "id": "a9e5c2c1-9b0b-4f0c-8fca-6d212d8435e9",
   "metadata": {},
   "outputs": [],
   "source": []
  },
  {
   "cell_type": "code",
   "execution_count": null,
   "id": "c650c89c-7fcc-4727-a26d-c5223bb910ae",
   "metadata": {},
   "outputs": [],
   "source": []
  },
  {
   "cell_type": "code",
   "execution_count": null,
   "id": "20106392-28b4-463a-b42f-c84b1f901135",
   "metadata": {},
   "outputs": [],
   "source": []
  },
  {
   "cell_type": "markdown",
   "id": "449ec785-59e7-4751-b15f-e8d6b69404cb",
   "metadata": {
    "jp-MarkdownHeadingCollapsed": true
   },
   "source": [
    "#### German City regions"
   ]
  },
  {
   "cell_type": "code",
   "execution_count": null,
   "id": "b914ff05-7e21-49e7-aac7-ceb83450d782",
   "metadata": {
    "scrolled": true
   },
   "outputs": [],
   "source": [
    "\n",
    "\n",
    "i = 0\n",
    "params = {\n",
    "        \"SERVICE\": \"WFS\",\n",
    "        \"REQUEST\": \"GetFeature\",\n",
    "        \"TYPENAMES\": \"bu2d_alkis:Building\",\n",
    "        \"SRSNAME\": \"EPSG:25832\",\n",
    "        \"VERSION\": '2.0.0',\n",
    "    }\n",
    "url = 'https://gdi.berlin.de/services/wms/bu2d_alkis'\n",
    "\n",
    "count = 100000\n",
    "process_wfs(\"germany_berlin\", url, params, count)"
   ]
  },
  {
   "cell_type": "code",
   "execution_count": null,
   "id": "c3d1e006-b763-4043-ac5f-a66e166c1d27",
   "metadata": {},
   "outputs": [],
   "source": []
  },
  {
   "cell_type": "code",
   "execution_count": null,
   "id": "e249bd30-de6b-45b7-af38-b76e18a7abaf",
   "metadata": {},
   "outputs": [],
   "source": [
    "import requests \n",
    "def download_url(url, save_path, chunk_size=256):\n",
    "    r = requests.get(url, stream=True, allow_redirects=True)\n",
    "    print(r.content)\n",
    "    with open(save_path, 'wb') as fd:\n",
    "        for chunk in r.iter_content(chunk_size=chunk_size):\n",
    "            fd.write(chunk)"
   ]
  },
  {
   "cell_type": "code",
   "execution_count": null,
   "id": "f7767681-0111-46c6-8ca7-4ae43901ab5a",
   "metadata": {},
   "outputs": [],
   "source": [
    "# bavaria - https://geodaten.bayern.de/opengeodata/OpenDataDetail.html?pn=hausumringe\n",
    "\n",
    "links = \"\"\"https://geodaten.bayern.de/odd/m/3/daten/hausumringe/bezirk/data/096_Unterfranken_Hausumringe.zip\n",
    "https://geodaten.bayern.de/odd/m/3/daten/hausumringe/bezirk/data/094_Oberfranken_Hausumringe.zip\n",
    "https://geodaten.bayern.de/odd/m/3/daten/hausumringe/bezirk/data/095_Mittelfranken_Hausumringe.zip\n",
    "https://geodaten.bayern.de/odd/m/3/daten/hausumringe/bezirk/data/093_Oberpfalz_Hausumringe.zip\n",
    "https://geodaten.bayern.de/odd/m/3/daten/hausumringe/bezirk/data/097_Schwaben_Hausumringe.zip\n",
    "https://geodaten.bayern.de/odd/m/3/daten/hausumringe/bezirk/data/091_Oberbayern_Hausumringe.zip\n",
    "https://geodaten.bayern.de/odd/m/3/daten/hausumringe/bezirk/data/092_Niederbayern_Hausumringe.zip\"\"\""
   ]
  },
  {
   "cell_type": "code",
   "execution_count": null,
   "id": "ff073d8c-11b0-4786-a0b5-854a4a5a47e9",
   "metadata": {
    "scrolled": true
   },
   "outputs": [],
   "source": [
    "!wget https://geodaten.bayern.de/odd/m/3/daten/hausumringe/bezirk/data/096_Unterfranken_Hausumringe.zip\n",
    "!wget https://geodaten.bayern.de/odd/m/3/daten/hausumringe/bezirk/data/094_Oberfranken_Hausumringe.zip\n",
    "!wget https://geodaten.bayern.de/odd/m/3/daten/hausumringe/bezirk/data/095_Mittelfranken_Hausumringe.zip\n",
    "!wget https://geodaten.bayern.de/odd/m/3/daten/hausumringe/bezirk/data/093_Oberpfalz_Hausumringe.zip\n",
    "!wget https://geodaten.bayern.de/odd/m/3/daten/hausumringe/bezirk/data/097_Schwaben_Hausumringe.zip\n",
    "!wget https://geodaten.bayern.de/odd/m/3/daten/hausumringe/bezirk/data/091_Oberbayern_Hausumringe.zip\n",
    "!wget https://geodaten.bayern.de/odd/m/3/daten/hausumringe/bezirk/data/092_Niederbayern_Hausumringe.zip"
   ]
  },
  {
   "cell_type": "code",
   "execution_count": null,
   "id": "97584999-1f50-4e6d-8aed-6b023020011b",
   "metadata": {},
   "outputs": [],
   "source": []
  },
  {
   "cell_type": "code",
   "execution_count": null,
   "id": "ab657a89-6f9e-4119-93dc-bb6824e9901c",
   "metadata": {},
   "outputs": [],
   "source": [
    "%%time\n",
    "for i, dl_link in enumerate(links.split('\\n')):\n",
    "    region_name = dl_link.split('_')[-2].lower()\n",
    "    region_file = dl_link.split('/')[-1]\n",
    "    gpd.read_file(region_file).to_parquet(DATADIR + f'buildings_germany_bavaria_{region_name}.pq')"
   ]
  },
  {
   "cell_type": "code",
   "execution_count": null,
   "id": "b99b739b-1b3f-47b5-acbe-aeb83387d069",
   "metadata": {},
   "outputs": [],
   "source": [
    "!rm *_Hausumringe.zip"
   ]
  },
  {
   "cell_type": "code",
   "execution_count": null,
   "id": "0a9bdc52-ad34-4434-af04-ed25381c8aa2",
   "metadata": {},
   "outputs": [],
   "source": []
  },
  {
   "cell_type": "code",
   "execution_count": null,
   "id": "a97b042f-a276-43ba-921d-06ad380339e6",
   "metadata": {},
   "outputs": [],
   "source": []
  },
  {
   "cell_type": "code",
   "execution_count": null,
   "id": "c65b5748-6f3b-4587-96a3-b198ceabff5b",
   "metadata": {},
   "outputs": [],
   "source": []
  },
  {
   "cell_type": "code",
   "execution_count": null,
   "id": "f621f7f5-5273-4ea3-ae90-cb26c835cc82",
   "metadata": {},
   "outputs": [],
   "source": []
  },
  {
   "cell_type": "code",
   "execution_count": null,
   "id": "686fb25d-c011-4077-be29-7d11e2df903b",
   "metadata": {},
   "outputs": [],
   "source": []
  },
  {
   "cell_type": "code",
   "execution_count": null,
   "id": "895f3706-c856-4007-b07e-602c159a107c",
   "metadata": {},
   "outputs": [],
   "source": []
  },
  {
   "cell_type": "code",
   "execution_count": null,
   "id": "ca74e986-1e7c-42a1-8666-3d4107c314c1",
   "metadata": {},
   "outputs": [],
   "source": []
  },
  {
   "cell_type": "code",
   "execution_count": null,
   "id": "de0475fc-cc78-4481-8836-390f40733597",
   "metadata": {},
   "outputs": [],
   "source": [
    "\n",
    "\n",
    "# #rlp\n",
    "# i = 0\n",
    "# params = {\n",
    "#         \"SERVICE\": \"WFS\",\n",
    "#         \"REQUEST\": \"GetFeature\",\n",
    "#         \"TYPENAMES\": \"bu-core2d:Building\",\n",
    "#         # \"SRSNAME\": \"EPSG:4326\",\n",
    "#         \"VERSION\": '2.0.0',\n",
    "#         # \"count\": 10000,\n",
    "#         # \"startIndex\": i\n",
    "#     }\n",
    "# url = 'https://geodienste.hamburg.de/HH_WFS_INSPIRE_Gebaeude_2D_ALKIS'\n",
    "\n",
    "# response = requests.get(url, params=params)\n",
    "\n",
    "# gdf = gpd.read_file(response.content)\n",
    "# gdf"
   ]
  },
  {
   "cell_type": "code",
   "execution_count": null,
   "id": "b13acde0-7a92-4c61-a733-e3ede5c4d80d",
   "metadata": {},
   "outputs": [],
   "source": [
    "\n",
    "\n",
    "hamburg_url = 'https://daten-hamburg.de/inspire/hh_inspire_gebaeude_2d_alkis/INSPIRE_HH_Gebaeude_2D_ALKIS_2020-07-15.zip'"
   ]
  },
  {
   "cell_type": "code",
   "execution_count": null,
   "id": "87bfdfd4-2214-4b5d-a67c-c4392784563d",
   "metadata": {},
   "outputs": [],
   "source": [
    "!wget https://daten-hamburg.de/inspire/hh_inspire_gebaeude_2d_alkis/INSPIRE_HH_Gebaeude_2D_ALKIS_2020-07-15.zip"
   ]
  },
  {
   "cell_type": "code",
   "execution_count": null,
   "id": "f338105d-1bfc-4991-9daa-a24cb2483cb8",
   "metadata": {},
   "outputs": [],
   "source": [
    "!unzip INSPIRE_HH_Gebaeude_2D_ALKIS_2020-07-15.zip"
   ]
  },
  {
   "cell_type": "code",
   "execution_count": null,
   "id": "47d15490-e127-40a4-ae21-54570d8adf96",
   "metadata": {},
   "outputs": [],
   "source": [
    "gpd.list_layers('result.gml')"
   ]
  },
  {
   "cell_type": "code",
   "execution_count": null,
   "id": "de4bd549-b8e7-4fa8-8514-ee2d734315d0",
   "metadata": {},
   "outputs": [],
   "source": [
    "gpd.read_file('result.gml', layer='building').to_parquet(DATADIR + 'buildings_germany_hamburg.pq')"
   ]
  },
  {
   "cell_type": "code",
   "execution_count": null,
   "id": "de6fe54e-8c41-4f1f-862b-ab059614378c",
   "metadata": {},
   "outputs": [],
   "source": [
    "## cleanup\n",
    "!rm result.gml\n",
    "!rm result.gfs\n",
    "!rm wfs_bu_alkis_2020-07-15.xsd \n",
    "!rm INSPIRE_HH_Gebaeude_2D_ALKIS_2020-07-15.zip"
   ]
  },
  {
   "cell_type": "code",
   "execution_count": null,
   "id": "fcc25ceb-ecd0-489f-ae55-d073a9c59ed6",
   "metadata": {},
   "outputs": [],
   "source": []
  },
  {
   "cell_type": "code",
   "execution_count": null,
   "id": "ee917c1c-e18d-421a-88b4-ccad96da1bc2",
   "metadata": {},
   "outputs": [],
   "source": [
    "bremen = 'https://gdi2.geo.bremen.de/inspire/download/ADV-Shape/data/ALKIS_AdV_SHP_2024_04_HB.zip'"
   ]
  },
  {
   "cell_type": "code",
   "execution_count": null,
   "id": "63e1d6bf-c3ab-4ab3-aff0-824316aae98a",
   "metadata": {},
   "outputs": [],
   "source": [
    "!wget https://gdi2.geo.bremen.de/inspire/download/ADV-Shape/data/ALKIS_AdV_SHP_2024_04_HB.zip"
   ]
  },
  {
   "cell_type": "code",
   "execution_count": null,
   "id": "8bedefaf-f216-4374-8fa8-40b753fa1824",
   "metadata": {},
   "outputs": [],
   "source": [
    "!unzip ALKIS_AdV_SHP_2024_04_HB.zip"
   ]
  },
  {
   "cell_type": "code",
   "execution_count": null,
   "id": "1c72742d-4875-4c8d-845b-452af6badcff",
   "metadata": {},
   "outputs": [],
   "source": [
    "gpd.read_file('Bremen/GebaeudeBauwerk.shp').to_parquet(DATADIR + 'buildings_germany_bremen.pq')"
   ]
  },
  {
   "cell_type": "code",
   "execution_count": null,
   "id": "961e3f5f-9bcc-426f-afa0-e0512a75e62c",
   "metadata": {},
   "outputs": [],
   "source": [
    "!rm -r Bremen/"
   ]
  },
  {
   "cell_type": "code",
   "execution_count": null,
   "id": "196ad50a-6b92-4569-8f46-ecf4c639ed9f",
   "metadata": {},
   "outputs": [],
   "source": [
    "!rm -r ALKIS_AdV_SHP_2024_04_HB.zip"
   ]
  },
  {
   "cell_type": "markdown",
   "id": "b4d99739-a21b-40a1-a366-0da9bfd2eb13",
   "metadata": {
    "jp-MarkdownHeadingCollapsed": true
   },
   "source": [
    "### Download Austria"
   ]
  },
  {
   "cell_type": "code",
   "execution_count": null,
   "id": "225ea92e-6d51-4cd1-8fa3-6d020d5467f3",
   "metadata": {},
   "outputs": [],
   "source": [
    "austria = 'https://data.bev.gv.at/download/DLM/DLM_20230125/DLM_8000_BAUWERK_20230125.gpkg'"
   ]
  },
  {
   "cell_type": "code",
   "execution_count": null,
   "id": "dc18e92d-b4ef-4f02-abe8-d1067c5436c1",
   "metadata": {},
   "outputs": [],
   "source": [
    "%%time\n",
    "download_url(austria, '../data/DLM_8000_BAUWERK_20230125.gpkg')"
   ]
  },
  {
   "cell_type": "code",
   "execution_count": null,
   "id": "7aa897ef-24f6-4b5c-a459-a56770a530be",
   "metadata": {},
   "outputs": [],
   "source": []
  },
  {
   "cell_type": "code",
   "execution_count": null,
   "id": "9d15f504-0b43-4226-845f-9d3012feb51e",
   "metadata": {},
   "outputs": [],
   "source": []
  },
  {
   "cell_type": "code",
   "execution_count": null,
   "id": "d187ef3c-53d3-4b61-8180-8733c0c922cf",
   "metadata": {},
   "outputs": [],
   "source": [
    "gpd.list_layers( '../data/DLM_8000_BAUWERK_20230125.gpkg')"
   ]
  },
  {
   "cell_type": "code",
   "execution_count": null,
   "id": "79c063ec-f3f1-431f-b49f-ca71f8068509",
   "metadata": {},
   "outputs": [],
   "source": [
    "import pyogrio"
   ]
  },
  {
   "cell_type": "code",
   "execution_count": null,
   "id": "88854935-1b14-43e9-92a3-bb8a98e9c8b4",
   "metadata": {},
   "outputs": [],
   "source": [
    "pyogrio.read_info('../data/DLM_8000_BAUWERK_20230125.gpkg', layer='BWK_8100_BAUWERK_F')"
   ]
  },
  {
   "cell_type": "code",
   "execution_count": null,
   "id": "7762594e-9fc4-45ca-80ce-4979717c3cf9",
   "metadata": {},
   "outputs": [],
   "source": [
    "gpd.read_file('../data/DLM_8000_BAUWERK_20230125.gpkg', layer='BWK_8100_BAUWERK_F').to_parquet(DATADIR + 'buildings_austria.pq')"
   ]
  },
  {
   "cell_type": "code",
   "execution_count": null,
   "id": "6591b0ea-2b29-43b7-b99c-033798eabaad",
   "metadata": {},
   "outputs": [],
   "source": [
    "# !rm ../data/DLM_8000_BAUWERK_20230125.gpkg"
   ]
  },
  {
   "cell_type": "code",
   "execution_count": null,
   "id": "aa57beca-af67-4a7c-bcee-f19228c0b48f",
   "metadata": {},
   "outputs": [],
   "source": []
  },
  {
   "cell_type": "code",
   "execution_count": null,
   "id": "19bc31bd-dec3-4a60-b988-efb530abeca0",
   "metadata": {},
   "outputs": [],
   "source": []
  },
  {
   "cell_type": "markdown",
   "id": "5c9c0bbe-b148-4996-8975-b461116eb34d",
   "metadata": {
    "jp-MarkdownHeadingCollapsed": true
   },
   "source": [
    "### Download Poland"
   ]
  },
  {
   "cell_type": "code",
   "execution_count": null,
   "id": "84e02e88-aa24-4d08-93d9-eee478ae5f10",
   "metadata": {},
   "outputs": [],
   "source": []
  },
  {
   "cell_type": "code",
   "execution_count": null,
   "id": "f26bda13-0a8c-46bc-a01a-1c8a4c3b8704",
   "metadata": {},
   "outputs": [],
   "source": [
    "# https://mapy.geoportal.gov.pl/iMapLite/atomExplorer/"
   ]
  },
  {
   "cell_type": "code",
   "execution_count": null,
   "id": "f2115c30-8f56-41e7-97ab-31e360637153",
   "metadata": {},
   "outputs": [],
   "source": [
    "\n",
    "links  = \"\"\"http://mapy.geoportal.gov.pl/wss/service/ATOM/httpauth/download/?fileId=34ad9f34a0b7dc8205a933bb058e91c1&name=podkarpackie_bu.zip\n",
    "http://mapy.geoportal.gov.pl/wss/service/ATOM/httpauth/download/?fileId=78896afe993bcb34365fe7b8a7f9966f&name=pomorskie_bu.zip\n",
    "http://mapy.geoportal.gov.pl/wss/service/ATOM/httpauth/download/?fileId=be4bfa1478a6eeedd67faffea96eafda&name=opolskie_bu.zip\n",
    "http://mapy.geoportal.gov.pl/wss/service/ATOM/httpauth/download/?fileId=c7881c0de4e3d86548ba0e97c50b490a&name=lodzkie_bu.zip\n",
    "http://mapy.geoportal.gov.pl/wss/service/ATOM/httpauth/download/?fileId=79dcc64d4c0c4e8873365f04c55a4940&name=lubuskie_bu.zip\n",
    "http://mapy.geoportal.gov.pl/wss/service/ATOM/httpauth/download/?fileId=ac47d220ce942cc3668f703fe4bd7a60&name=mazowieckie_bu.zip\n",
    "http://mapy.geoportal.gov.pl/wss/service/ATOM/httpauth/download/?fileId=9e87962dd94adddb2838f6321778f04a&name=kujawskopomorskie_bu.zip\n",
    "http://mapy.geoportal.gov.pl/wss/service/ATOM/httpauth/download/?fileId=8818a617772a6c9dad222dd52acecc29&name=slaskie_bu.zip\n",
    "http://mapy.geoportal.gov.pl/wss/service/ATOM/httpauth/download/?fileId=4b636d1174ceff606fb1c9c95c145915&name=dolnoslaskie_bu.zip\n",
    "http://mapy.geoportal.gov.pl/wss/service/ATOM/httpauth/download/?fileId=99c8bdcfc3173a3a7c2d18bf675f4315&name=malopolskie_bu.zip\n",
    "http://mapy.geoportal.gov.pl/wss/service/ATOM/httpauth/download/?fileId=cb81449840b96ff21fba1a42e094c074&name=lubelskie_bu.zip\n",
    "http://mapy.geoportal.gov.pl/wss/service/ATOM/httpauth/download/?fileId=9bb1518bbf0d8e22ec338c80dcc83f61&name=zachodniopomorskie_bu.zip\n",
    "http://mapy.geoportal.gov.pl/wss/service/ATOM/httpauth/download/?fileId=0217fcdf1da066af11a62067530786a9&name=warminskomazurskie_bu.zip\n",
    "http://mapy.geoportal.gov.pl/wss/service/ATOM/httpauth/download/?fileId=67eb749e1ae54cb7aa9a8aa1d90d8dd7&name=wielkopolskie_bu.zip\n",
    "http://mapy.geoportal.gov.pl/wss/service/ATOM/httpauth/download/?fileId=fc9fe6a16296acf6a4072a08f5be1342&name=podlaskie_bu.zip\n",
    "http://mapy.geoportal.gov.pl/wss/service/ATOM/httpauth/download/?fileId=e968c6db383a80a34b702866ede92cb1&name=swietorzyskie_bu.zip\"\"\""
   ]
  },
  {
   "cell_type": "code",
   "execution_count": null,
   "id": "e24c18fa-b031-4b37-8069-a053d4ed3314",
   "metadata": {},
   "outputs": [],
   "source": []
  },
  {
   "cell_type": "code",
   "execution_count": null,
   "id": "8b6db766-08a1-4ca6-85f2-ecbc77cf46bc",
   "metadata": {},
   "outputs": [],
   "source": [
    "# !wget http://mapy.geoportal.gov.pl/wss/service/ATOM/httpauth/download/?fileId=34ad9f34a0b7dc8205a933bb058e91c1&name=podkarpackie_bu.zip\n",
    "\n",
    "# !wget http://mapy.geoportal.gov.pl/wss/service/ATOM/httpauth/download/?fileId=78896afe993bcb34365fe7b8a7f9966f&name=pomorskie_bu.zip\n",
    "\n",
    "# !wget http://mapy.geoportal.gov.pl/wss/service/ATOM/httpauth/download/?fileId=be4bfa1478a6eeedd67faffea96eafda&name=opolskie_bu.zip\n",
    "\n",
    "# !wget http://mapy.geoportal.gov.pl/wss/service/ATOM/httpauth/download/?fileId=c7881c0de4e3d86548ba0e97c50b490a&name=lodzkie_bu.zip\n",
    "\n",
    "# !wget http://mapy.geoportal.gov.pl/wss/service/ATOM/httpauth/download/?fileId=79dcc64d4c0c4e8873365f04c55a4940&name=lubuskie_bu.zip\n",
    "\n",
    "# !wget http://mapy.geoportal.gov.pl/wss/service/ATOM/httpauth/download/?fileId=ac47d220ce942cc3668f703fe4bd7a60&name=mazowieckie_bu.zip\n",
    "\n",
    "# !wget http://mapy.geoportal.gov.pl/wss/service/ATOM/httpauth/download/?fileId=9e87962dd94adddb2838f6321778f04a&name=kujawskopomorskie_bu.zip\n",
    "\n",
    "# !wget http://mapy.geoportal.gov.pl/wss/service/ATOM/httpauth/download/?fileId=8818a617772a6c9dad222dd52acecc29&name=slaskie_bu.zip\n",
    "\n",
    "# !wget http://mapy.geoportal.gov.pl/wss/service/ATOM/httpauth/download/?fileId=4b636d1174ceff606fb1c9c95c145915&name=dolnoslaskie_bu.zip\n",
    "\n",
    "# !wget http://mapy.geoportal.gov.pl/wss/service/ATOM/httpauth/download/?fileId=99c8bdcfc3173a3a7c2d18bf675f4315&name=malopolskie_bu.zip\n",
    "\n",
    "# !wget http://mapy.geoportal.gov.pl/wss/service/ATOM/httpauth/download/?fileId=cb81449840b96ff21fba1a42e094c074&name=lubelskie_bu.zip\n",
    "\n",
    "# !wget http://mapy.geoportal.gov.pl/wss/service/ATOM/httpauth/download/?fileId=9bb1518bbf0d8e22ec338c80dcc83f61&name=zachodniopomorskie_bu.zip\n",
    "\n",
    "# !wget http://mapy.geoportal.gov.pl/wss/service/ATOM/httpauth/download/?fileId=0217fcdf1da066af11a62067530786a9&name=warminskomazurskie_bu.zip\n",
    "\n",
    "# !wget http://mapy.geoportal.gov.pl/wss/service/ATOM/httpauth/download/?fileId=67eb749e1ae54cb7aa9a8aa1d90d8dd7&name=wielkopolskie_bu.zip\n",
    "\n",
    "# !wget http://mapy.geoportal.gov.pl/wss/service/ATOM/httpauth/download/?fileId=fc9fe6a16296acf6a4072a08f5be1342&name=podlaskie_bu.zip\n",
    "\n",
    "# !wget http://mapy.geoportal.gov.pl/wss/service/ATOM/httpauth/download/?fileId=e968c6db383a80a34b702866ede92cb1&name=swietorzyskie_bu.zip"
   ]
  },
  {
   "cell_type": "code",
   "execution_count": null,
   "id": "e0ceaa4c-3164-4cf6-8b39-2208f3b205a0",
   "metadata": {},
   "outputs": [],
   "source": [
    "links = links.split('\\n')"
   ]
  },
  {
   "cell_type": "code",
   "execution_count": null,
   "id": "b2205378-4492-48a8-bcc0-8f0808d08ddd",
   "metadata": {},
   "outputs": [],
   "source": [
    "# https://mapy.geoportal.gov.pl/iMapLite/atomExplorer/"
   ]
  },
  {
   "cell_type": "code",
   "execution_count": null,
   "id": "de990edb-d38d-46fb-ad5f-83d92e810d3a",
   "metadata": {
    "scrolled": true
   },
   "outputs": [],
   "source": [
    "\n",
    "for i, dl_link in enumerate(links):\n",
    "    dl_name = dl_link.split('=')[-1]\n",
    "    download_url(dl_link, dl_name)\n",
    "    print(dl_name)"
   ]
  },
  {
   "cell_type": "code",
   "execution_count": null,
   "id": "9ec5c543-d440-494d-a6ce-4af212b0db86",
   "metadata": {},
   "outputs": [],
   "source": []
  },
  {
   "cell_type": "code",
   "execution_count": null,
   "id": "54d0eeb3-06c8-4afe-92b4-561fd20aca15",
   "metadata": {
    "scrolled": true
   },
   "outputs": [],
   "source": [
    "for i, dl_link in enumerate(links[5:]):\n",
    "    dl_name = dl_link.split('=')[-1]\n",
    "    if dl_name == 'mazowieckie_bu.zip':\n",
    "        continue\n",
    "    gdf = gpd.read_file(dl_name)\n",
    "    gdf.to_parquet(DATADIR + f'buildings_poland_{dl_name[:-4]}.pq')"
   ]
  },
  {
   "cell_type": "code",
   "execution_count": null,
   "id": "a5550e1e-f3c7-4938-8720-ff43030dea8d",
   "metadata": {},
   "outputs": [],
   "source": [
    "!unzip mazowieckie_bu.zip"
   ]
  },
  {
   "cell_type": "code",
   "execution_count": null,
   "id": "86cad197-013a-480d-bcb9-c2c9a9694e60",
   "metadata": {},
   "outputs": [],
   "source": [
    "gpd.list_layers('mazowieckie_bu1.gml')"
   ]
  },
  {
   "cell_type": "code",
   "execution_count": null,
   "id": "8c3a5662-1c47-463a-b010-3abf6f639ad8",
   "metadata": {},
   "outputs": [],
   "source": [
    "gpd.list_layers('mazowieckie_bu2.gml')"
   ]
  },
  {
   "cell_type": "code",
   "execution_count": null,
   "id": "400e1ea5-3767-47af-af80-a26b5ae94cf3",
   "metadata": {},
   "outputs": [],
   "source": [
    "gdf = gpd.read_file('mazowieckie_bu1.gml')\n",
    "gdf.to_parquet(DATADIR + f'buildings_poland_mazowieckie_bu1.pq')\n",
    "\n",
    "gdf = gpd.read_file('mazowieckie_bu2.gml')\n",
    "gdf.to_parquet(DATADIR + f'buildings_poland_mazowieckie_bu2.pq')"
   ]
  },
  {
   "cell_type": "code",
   "execution_count": null,
   "id": "baf4af46-1c46-4233-9418-92ae19c8479d",
   "metadata": {},
   "outputs": [],
   "source": [
    "!rm mazowieckie_bu1.gml\n",
    "!rm mazowieckie_bu2.gml"
   ]
  },
  {
   "cell_type": "code",
   "execution_count": null,
   "id": "85f578dc-b6e5-498c-93b7-674ef02c146b",
   "metadata": {},
   "outputs": [],
   "source": []
  },
  {
   "cell_type": "markdown",
   "id": "2210655a-85c3-411b-bfee-8a6696d0092b",
   "metadata": {},
   "source": [
    "### Download Czechia"
   ]
  },
  {
   "cell_type": "code",
   "execution_count": null,
   "id": "09253950-55bf-4719-ad60-661d077d3bc2",
   "metadata": {},
   "outputs": [],
   "source": [
    "import httpx\n",
    "url_adm = \"https://services.cuzk.cz/gml/inspire/au/epsg-4258/1.zip\"\n",
    "units = pyogrio.read_dataframe(url_adm, layer=\"AdministrativeUnit\")\n",
    "obce = units[units.LocalisedCharacterString == \"Obec\"]"
   ]
  },
  {
   "cell_type": "code",
   "execution_count": null,
   "id": "f474d9be-37bf-4f33-9f73-6b2f2ad1a362",
   "metadata": {
    "scrolled": true
   },
   "outputs": [],
   "source": [
    "for code in obce[\"nationalCode\"]:\n",
    "    url_building = f\"https://services.cuzk.cz/gml/inspire/bu/epsg-4258/{code}.zip\"\n",
    "    r = httpx.get(url_building, verify=False)\n",
    "\n",
    "    gdf = gpd.read_file(BytesIO(r.content), layer='Building')\n",
    "    gdf.to_parquet(DATADIR + f'buildings_czechia_{code}.pq')\n",
    "    print(code)"
   ]
  },
  {
   "cell_type": "code",
   "execution_count": null,
   "id": "0666bffc-70cc-4df6-8367-0457453664f4",
   "metadata": {},
   "outputs": [],
   "source": []
  },
  {
   "cell_type": "code",
   "execution_count": null,
   "id": "9669fe20-ffa8-4a6e-8874-7262505c926a",
   "metadata": {},
   "outputs": [],
   "source": []
  },
  {
   "cell_type": "markdown",
   "id": "84839633-e8e9-469c-931c-ccf59e687c2c",
   "metadata": {
    "jp-MarkdownHeadingCollapsed": true
   },
   "source": [
    "### Download Slovakia"
   ]
  },
  {
   "cell_type": "code",
   "execution_count": null,
   "id": "37a4bcda-74e4-47f3-8768-28d25bbd1a0b",
   "metadata": {},
   "outputs": [],
   "source": [
    "%%time\n",
    "import httpx\n",
    "url = \"https://opendata.skgeodesy.sk/static/INSPIRE/Buildings/inspire_bu_gpkg.zip\"\n",
    "r = httpx.get(url, verify=False)"
   ]
  },
  {
   "cell_type": "code",
   "execution_count": null,
   "id": "d5583670-f3a7-477c-a9c8-97784ac260bc",
   "metadata": {},
   "outputs": [],
   "source": [
    "with open(\"inspire_bu_gpkg.zip\", \"wb\") as f:\n",
    "    f.write(r.content)"
   ]
  },
  {
   "cell_type": "code",
   "execution_count": null,
   "id": "5390515f-8fcd-4f78-9e51-600364195ab3",
   "metadata": {},
   "outputs": [],
   "source": [
    "!unzip inspire_bu_gpkg.zip"
   ]
  },
  {
   "cell_type": "code",
   "execution_count": null,
   "id": "683479f0-ca02-438f-81e0-ca977c9cbe5b",
   "metadata": {},
   "outputs": [],
   "source": [
    "gpd.list_layers('INSPIRE_BU.gpkg')"
   ]
  },
  {
   "cell_type": "code",
   "execution_count": null,
   "id": "ea56eb2d-5e1a-4059-aab2-fbb36d6f9cb4",
   "metadata": {},
   "outputs": [],
   "source": [
    "gdf = gpd.read_file('INSPIRE_BU.gpkg')\n",
    "gdf.to_parquet(DATADIR + f'buildings_slovakia_{code}.pq')"
   ]
  },
  {
   "cell_type": "code",
   "execution_count": null,
   "id": "e000a0ec-6a8e-417f-b9d1-e0ddfc749d45",
   "metadata": {},
   "outputs": [],
   "source": [
    "!rm inspire_bu_gpkg.zip\n",
    "!rm INSPIRE_BU.gpkg \n",
    "!rm _license_terms.pdf"
   ]
  },
  {
   "cell_type": "code",
   "execution_count": null,
   "id": "ae85344b-17be-46b2-85b7-3176470e5cf6",
   "metadata": {},
   "outputs": [],
   "source": []
  }
 ],
 "metadata": {
  "kernelspec": {
   "display_name": "Python 3 (ipykernel)",
   "language": "python",
   "name": "python3"
  },
  "language_info": {
   "codemirror_mode": {
    "name": "ipython",
    "version": 3
   },
   "file_extension": ".py",
   "mimetype": "text/x-python",
   "name": "python",
   "nbconvert_exporter": "python",
   "pygments_lexer": "ipython3",
   "version": "3.12.4"
  }
 },
 "nbformat": 4,
 "nbformat_minor": 5
}
