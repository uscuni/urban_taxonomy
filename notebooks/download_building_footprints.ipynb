{
 "cells": [
  {
   "cell_type": "code",
   "execution_count": 1,
   "id": "6b8e03df-ada7-4033-b81c-69f88406df7a",
   "metadata": {},
   "outputs": [],
   "source": [
    "import requests\n",
    "from glob import glob\n",
    "import geopandas as gpd\n",
    "from io import BytesIO\n",
    "import re\n",
    "import pandas as pd"
   ]
  },
  {
   "cell_type": "code",
   "execution_count": 2,
   "id": "591e590f-cab0-488d-bf50-5be26a013d80",
   "metadata": {},
   "outputs": [],
   "source": [
    "DATADIR = '/data/uscuni-ulce/cadastre_buildings_raw/'"
   ]
  },
  {
   "cell_type": "markdown",
   "id": "cff424bc-3b59-4b45-84a0-9f221ba07ea7",
   "metadata": {},
   "source": [
    "### Download german building footprints"
   ]
  },
  {
   "cell_type": "code",
   "execution_count": 3,
   "id": "06b80e68-4a3b-4bbe-8bca-ac142e00bcae",
   "metadata": {},
   "outputs": [],
   "source": [
    "ger_regions = ['bavaria', 'brandeburg', 'bw', 'hessen', 'mv',\n",
    "       'nrw', 'rlp', 'saarland', 'sachsen', 'sachsen-anhalt', 'sg', \n",
    "       'th', 'ni', 'bremen', 'hamburg', 'berlin']"
   ]
  },
  {
   "cell_type": "code",
   "execution_count": 4,
   "id": "161ff262-184a-4ccd-b6ac-8dc846b763ee",
   "metadata": {},
   "outputs": [],
   "source": [
    "def process_wfs(region_name, size, url, params, count, start=0,):\n",
    "    params = params.copy()\n",
    "    i = start\n",
    "    for i in range(start, size+count, count):\n",
    "        \n",
    "        print(i)\n",
    "        params['count'] = count,\n",
    "        params['startIndex'] = i,\n",
    "\n",
    "        # Make the request\n",
    "        response = requests.get(url, params=params)\n",
    "        \n",
    "        if response.status_code != 200:\n",
    "            print(i, count)\n",
    "            print(response.content)\n",
    "            break\n",
    "\n",
    "        try:\n",
    "            gdf = gpd.read_file(BytesIO(response.content))\n",
    "        except Exception as e:\n",
    "            print(e)\n",
    "            break\n",
    "            \n",
    "        gdf.to_parquet(DATADIR + f\"buildings_{region_name}_{i}.pq\")"
   ]
  },
  {
   "cell_type": "code",
   "execution_count": 5,
   "id": "e44d4ea3-2fe8-4068-9839-191b6954fadc",
   "metadata": {},
   "outputs": [],
   "source": [
    "def get_size(url, params):\n",
    "    params = params.copy()\n",
    "    params['resultType'] = 'hits'\n",
    "    response = requests.get(url, params=params)\n",
    "    if response.status_code == 200:\n",
    "        size = re.findall(r'numberMatched=\"[0-9]+\"', str(response.content))\n",
    "        size = int(size[0].split('=')[-1][1:-1])\n",
    "        return size\n",
    "\n",
    "    return 'unknown'"
   ]
  },
  {
   "cell_type": "markdown",
   "id": "9bce524f-7635-4d36-9009-a4c03ed20499",
   "metadata": {
    "jp-MarkdownHeadingCollapsed": true
   },
   "source": [
    "### brandenburg"
   ]
  },
  {
   "cell_type": "code",
   "execution_count": null,
   "id": "9fc00a34-4adc-4936-8c1c-dc453e4bbbc5",
   "metadata": {
    "scrolled": true
   },
   "outputs": [],
   "source": [
    "%%time\n",
    "\n",
    "url = \"https://isk.geobasis-bb.de/ows/alkis_vereinf_wfs\"\n",
    "\n",
    "# Parameters for the GetFeature request\n",
    "\n",
    "params = {\n",
    "        \"SERVICE\": \"WFS\",\n",
    "        \"REQUEST\": \"GetFeature\",\n",
    "        \"TYPENAMES\": \"ave:GebaeudeBauwerk\",\n",
    "        \"SRSNAME\": \"EPSG:4326\",\n",
    "        \"VERSION\": '2.0.0',\n",
    "    }\n",
    "\n",
    "size = get_size(url, params)\n",
    "print(size)\n"
   ]
  },
  {
   "cell_type": "code",
   "execution_count": null,
   "id": "9f7d8046-e9cf-4ade-a993-cf05e9fe7f9d",
   "metadata": {},
   "outputs": [],
   "source": [
    "count = 100_000\n",
    "process_wfs(\"germany_brandeburg\", size, url, params, count)"
   ]
  },
  {
   "cell_type": "code",
   "execution_count": null,
   "id": "fe4f100d-517f-4e44-bb89-1914395e4d1b",
   "metadata": {
    "scrolled": true
   },
   "outputs": [],
   "source": []
  },
  {
   "cell_type": "code",
   "execution_count": 17,
   "id": "9b309515-91de-4689-8a78-723883ccf278",
   "metadata": {},
   "outputs": [
    {
     "data": {
      "text/plain": [
       "'brandeburg'"
      ]
     },
     "execution_count": 17,
     "metadata": {},
     "output_type": "execute_result"
    }
   ],
   "source": [
    "region = ger_regions[1]\n",
    "region"
   ]
  },
  {
   "cell_type": "code",
   "execution_count": 18,
   "id": "7e846e07-ea9d-4030-a709-0118efd93642",
   "metadata": {},
   "outputs": [],
   "source": [
    "files = glob(f'{DATADIR}buildings_germany_{region}*')"
   ]
  },
  {
   "cell_type": "code",
   "execution_count": 19,
   "id": "2c426d46-620c-4aab-a7af-a45715a60fec",
   "metadata": {},
   "outputs": [
    {
     "data": {
      "text/plain": [
       "['/data/uscuni-ulce/cadastre_buildings_raw/buildings_germany_brandeburg_0.pq',\n",
       " '/data/uscuni-ulce/cadastre_buildings_raw/buildings_germany_brandeburg_100000.pq',\n",
       " '/data/uscuni-ulce/cadastre_buildings_raw/buildings_germany_brandeburg_1000000.pq',\n",
       " '/data/uscuni-ulce/cadastre_buildings_raw/buildings_germany_brandeburg_1100000.pq',\n",
       " '/data/uscuni-ulce/cadastre_buildings_raw/buildings_germany_brandeburg_1200000.pq',\n",
       " '/data/uscuni-ulce/cadastre_buildings_raw/buildings_germany_brandeburg_1300000.pq',\n",
       " '/data/uscuni-ulce/cadastre_buildings_raw/buildings_germany_brandeburg_1400000.pq',\n",
       " '/data/uscuni-ulce/cadastre_buildings_raw/buildings_germany_brandeburg_1500000.pq',\n",
       " '/data/uscuni-ulce/cadastre_buildings_raw/buildings_germany_brandeburg_1600000.pq',\n",
       " '/data/uscuni-ulce/cadastre_buildings_raw/buildings_germany_brandeburg_1700000.pq']"
      ]
     },
     "execution_count": 19,
     "metadata": {},
     "output_type": "execute_result"
    }
   ],
   "source": [
    "sorted(files)[:10]"
   ]
  },
  {
   "cell_type": "code",
   "execution_count": 20,
   "id": "8b957eca-7b7c-4b33-94fe-7393d6fe4efe",
   "metadata": {},
   "outputs": [
    {
     "data": {
      "text/plain": [
       "25"
      ]
     },
     "execution_count": 20,
     "metadata": {},
     "output_type": "execute_result"
    }
   ],
   "source": [
    "len(files)"
   ]
  },
  {
   "cell_type": "code",
   "execution_count": 21,
   "id": "3074a298-fc3a-4d51-aba6-33f92c4e797d",
   "metadata": {},
   "outputs": [],
   "source": [
    "frames = []\n",
    "for f in files:\n",
    "    gdf = gpd.read_parquet(f)\n",
    "    if gdf.shape[0]:\n",
    "        frames.append(gdf.to_crs(epsg=3035))\n",
    "gdf = pd.concat(frames, ignore_index=True)\n",
    "if 'gml_id' in gdf.columns:\n",
    "    gdf = gdf[~gdf['gml_id'].duplicated()]\n",
    "if 'oid' in gdf.columns:\n",
    "    gdf = gdf[~gdf['oid'].duplicated()]"
   ]
  },
  {
   "cell_type": "code",
   "execution_count": 22,
   "id": "4055e304-e1b0-4c50-9950-cf1f8f3c11b4",
   "metadata": {},
   "outputs": [
    {
     "data": {
      "text/plain": [
       "(2482380, 13)"
      ]
     },
     "execution_count": 22,
     "metadata": {},
     "output_type": "execute_result"
    }
   ],
   "source": [
    "gdf.shape"
   ]
  },
  {
   "cell_type": "code",
   "execution_count": 25,
   "id": "39fcd7aa-3c5f-401b-8e55-01333f5cc377",
   "metadata": {},
   "outputs": [],
   "source": [
    "gdf.to_parquet(f'/data/uscuni-ulce/cadastre_buildings_standardised/buildings_germany_{region}.pq')"
   ]
  },
  {
   "cell_type": "code",
   "execution_count": null,
   "id": "0478b1b3-c506-46b7-987d-2fd7feda0584",
   "metadata": {},
   "outputs": [],
   "source": []
  },
  {
   "cell_type": "code",
   "execution_count": null,
   "id": "d3bf9f64-dcfd-444c-b97c-01b09cb1ecfc",
   "metadata": {},
   "outputs": [],
   "source": []
  },
  {
   "cell_type": "markdown",
   "id": "e13fc4a5-4df3-46fd-8c39-2a6bdaf1eb09",
   "metadata": {
    "jp-MarkdownHeadingCollapsed": true
   },
   "source": [
    "### Sachsen"
   ]
  },
  {
   "cell_type": "code",
   "execution_count": null,
   "id": "e9ce2cf7-6244-4497-a344-045814c56627",
   "metadata": {},
   "outputs": [],
   "source": [
    "#sachsen\n",
    "i = 0\n",
    "params = {\n",
    "        \"SERVICE\": \"WFS\",\n",
    "        \"REQUEST\": \"GetFeature\",\n",
    "        \"TYPENAMES\": \"ave:GebaeudeBauwerk\",\n",
    "        \"SRSNAME\": \"EPSG:25833\",\n",
    "        \"VERSION\": '2.0.0',\n",
    "    }\n",
    "url = 'https://geodienste.sachsen.de/aaa/public_alkis/vereinf/wfs'\n",
    "\n",
    "size = get_size(url, params)\n",
    "print(size)"
   ]
  },
  {
   "cell_type": "code",
   "execution_count": null,
   "id": "29a31d2c-f09e-4c8a-aabd-47d8143a9ce4",
   "metadata": {
    "scrolled": true
   },
   "outputs": [],
   "source": [
    "count = 10000\n",
    "process_wfs(\"germany_sachsen\", size, url, params, count)"
   ]
  },
  {
   "cell_type": "code",
   "execution_count": null,
   "id": "8709f3f5-c4bf-4f64-a96c-55b5093b1138",
   "metadata": {},
   "outputs": [],
   "source": []
  },
  {
   "cell_type": "code",
   "execution_count": 40,
   "id": "9af155c8-b016-4cfc-bc49-a3c8427ee1c9",
   "metadata": {},
   "outputs": [
    {
     "data": {
      "text/plain": [
       "'sachsen'"
      ]
     },
     "execution_count": 40,
     "metadata": {},
     "output_type": "execute_result"
    }
   ],
   "source": [
    "region = ger_regions[8]\n",
    "region"
   ]
  },
  {
   "cell_type": "code",
   "execution_count": 41,
   "id": "9b50d0c8-f4c2-458d-a7d3-df514c7acf71",
   "metadata": {},
   "outputs": [],
   "source": [
    "files = glob(f'{DATADIR}buildings_germany_{region}*')"
   ]
  },
  {
   "cell_type": "code",
   "execution_count": 42,
   "id": "8b8bc6ec-dbe9-4e57-b08b-63940ef5c1ad",
   "metadata": {},
   "outputs": [
    {
     "data": {
      "text/plain": [
       "['/data/uscuni-ulce/cadastre_buildings_raw/buildings_germany_sachsen-anhalt.pq',\n",
       " '/data/uscuni-ulce/cadastre_buildings_raw/buildings_germany_sachsen_0.pq',\n",
       " '/data/uscuni-ulce/cadastre_buildings_raw/buildings_germany_sachsen_10000.pq',\n",
       " '/data/uscuni-ulce/cadastre_buildings_raw/buildings_germany_sachsen_100000.pq',\n",
       " '/data/uscuni-ulce/cadastre_buildings_raw/buildings_germany_sachsen_1000000.pq',\n",
       " '/data/uscuni-ulce/cadastre_buildings_raw/buildings_germany_sachsen_1010000.pq',\n",
       " '/data/uscuni-ulce/cadastre_buildings_raw/buildings_germany_sachsen_1020000.pq',\n",
       " '/data/uscuni-ulce/cadastre_buildings_raw/buildings_germany_sachsen_1030000.pq',\n",
       " '/data/uscuni-ulce/cadastre_buildings_raw/buildings_germany_sachsen_1040000.pq',\n",
       " '/data/uscuni-ulce/cadastre_buildings_raw/buildings_germany_sachsen_1050000.pq']"
      ]
     },
     "execution_count": 42,
     "metadata": {},
     "output_type": "execute_result"
    }
   ],
   "source": [
    "sorted(files)[:10]"
   ]
  },
  {
   "cell_type": "code",
   "execution_count": 43,
   "id": "e66b65d2-00c8-42ab-a1e7-f462f4f8d904",
   "metadata": {},
   "outputs": [
    {
     "data": {
      "text/plain": [
       "229"
      ]
     },
     "execution_count": 43,
     "metadata": {},
     "output_type": "execute_result"
    }
   ],
   "source": [
    "len(files)"
   ]
  },
  {
   "cell_type": "code",
   "execution_count": 30,
   "id": "5ddbe076-eefe-48f1-962a-2cbd541305ba",
   "metadata": {},
   "outputs": [],
   "source": [
    "frames = []\n",
    "for f in files:\n",
    "    gdf = gpd.read_parquet(f)\n",
    "    if gdf.shape[0]:\n",
    "        frames.append(gdf.to_crs(epsg=3035))\n",
    "gdf = pd.concat(frames, ignore_index=True)\n",
    "if 'gml_id' in gdf.columns:\n",
    "    gdf = gdf[~gdf['gml_id'].duplicated()]\n",
    "if 'oid' in gdf.columns:\n",
    "    gdf = gdf[~gdf['oid'].duplicated()]"
   ]
  },
  {
   "cell_type": "code",
   "execution_count": 31,
   "id": "855c1fa0-77d7-4f22-9cfa-be6b7c7e8cd8",
   "metadata": {},
   "outputs": [
    {
     "data": {
      "text/plain": [
       "(4018680, 12)"
      ]
     },
     "execution_count": 31,
     "metadata": {},
     "output_type": "execute_result"
    }
   ],
   "source": [
    "gdf.shape"
   ]
  },
  {
   "cell_type": "code",
   "execution_count": 44,
   "id": "a7d1cdf7-0913-4dfd-b36d-0f45624bc23d",
   "metadata": {},
   "outputs": [],
   "source": [
    "gdf.to_parquet(f'/data/uscuni-ulce/cadastre_buildings_standardised/buildings_germany_{region}.pq')"
   ]
  },
  {
   "cell_type": "code",
   "execution_count": null,
   "id": "d17dcc80-8afc-42d7-b93b-4cc522d46695",
   "metadata": {},
   "outputs": [],
   "source": []
  },
  {
   "cell_type": "code",
   "execution_count": null,
   "id": "06463d03-1d66-438a-8a22-506d7fbe1e86",
   "metadata": {},
   "outputs": [],
   "source": []
  },
  {
   "cell_type": "code",
   "execution_count": null,
   "id": "f74b3c89-a3e6-4b8e-bb80-4c3a09996e61",
   "metadata": {},
   "outputs": [],
   "source": []
  },
  {
   "cell_type": "code",
   "execution_count": null,
   "id": "63bd9940-473d-4301-b28d-98d715a8f32b",
   "metadata": {},
   "outputs": [],
   "source": []
  },
  {
   "cell_type": "code",
   "execution_count": null,
   "id": "5d854e6d-4c99-496e-a1de-73bd2f957e7c",
   "metadata": {},
   "outputs": [],
   "source": []
  },
  {
   "cell_type": "code",
   "execution_count": null,
   "id": "25c03288-13f4-40a2-9ba8-d4597471b833",
   "metadata": {},
   "outputs": [],
   "source": []
  },
  {
   "cell_type": "markdown",
   "id": "dbc9ded9-dd93-4488-bfd3-7fe98392befe",
   "metadata": {
    "jp-MarkdownHeadingCollapsed": true
   },
   "source": [
    "### baddwen_wurteburd"
   ]
  },
  {
   "cell_type": "code",
   "execution_count": null,
   "id": "2eca9508-e059-4ea1-8dbc-a4a74ca2797b",
   "metadata": {},
   "outputs": [],
   "source": [
    "#\n",
    "params = {\n",
    "        \"SERVICE\": \"WFS\",\n",
    "        \"REQUEST\": \"GetFeature\",\n",
    "        \"TYPENAMES\": \"bu-core2d:Building\",\n",
    "        \"SRSNAME\": \"EPSG:25833\",\n",
    "        \"VERSION\": '2.0.0',\n",
    "    }\n",
    "url = 'https://owsproxy.lgl-bw.de/owsproxy/wfs/WFS_INSP_BW_Gebaeude_ALKIS'\n",
    "\n",
    "size = get_size(url, params)\n",
    "print(size)"
   ]
  },
  {
   "cell_type": "code",
   "execution_count": null,
   "id": "83b2156b-3e7d-4c1f-a292-d94f6c99bf30",
   "metadata": {},
   "outputs": [],
   "source": [
    "\n",
    "count = 10000\n",
    "process_wfs(\"germany_bw\", size, url, params, count)"
   ]
  },
  {
   "cell_type": "code",
   "execution_count": null,
   "id": "c691264a-b0a6-46b6-a201-92481cf82c45",
   "metadata": {},
   "outputs": [],
   "source": []
  },
  {
   "cell_type": "code",
   "execution_count": 47,
   "id": "bf3cda2f-4b62-4d8c-93c7-f95d3fe6202d",
   "metadata": {},
   "outputs": [
    {
     "data": {
      "text/plain": [
       "'bw'"
      ]
     },
     "execution_count": 47,
     "metadata": {},
     "output_type": "execute_result"
    }
   ],
   "source": [
    "region = ger_regions[2]\n",
    "region"
   ]
  },
  {
   "cell_type": "code",
   "execution_count": 48,
   "id": "c3dd53d8-419a-46fb-810e-15e71b3b4ce9",
   "metadata": {},
   "outputs": [],
   "source": [
    "files = glob(f'{DATADIR}buildings_germany_{region}*')"
   ]
  },
  {
   "cell_type": "code",
   "execution_count": 49,
   "id": "5f841f6a-5718-451d-aab5-8d680e4a582a",
   "metadata": {},
   "outputs": [
    {
     "data": {
      "text/plain": [
       "['/data/uscuni-ulce/cadastre_buildings_raw/buildings_germany_bw_0.pq',\n",
       " '/data/uscuni-ulce/cadastre_buildings_raw/buildings_germany_bw_10000.pq',\n",
       " '/data/uscuni-ulce/cadastre_buildings_raw/buildings_germany_bw_100000.pq',\n",
       " '/data/uscuni-ulce/cadastre_buildings_raw/buildings_germany_bw_1000000.pq',\n",
       " '/data/uscuni-ulce/cadastre_buildings_raw/buildings_germany_bw_1010000.pq',\n",
       " '/data/uscuni-ulce/cadastre_buildings_raw/buildings_germany_bw_1020000.pq',\n",
       " '/data/uscuni-ulce/cadastre_buildings_raw/buildings_germany_bw_1030000.pq',\n",
       " '/data/uscuni-ulce/cadastre_buildings_raw/buildings_germany_bw_1040000.pq',\n",
       " '/data/uscuni-ulce/cadastre_buildings_raw/buildings_germany_bw_1050000.pq',\n",
       " '/data/uscuni-ulce/cadastre_buildings_raw/buildings_germany_bw_1060000.pq']"
      ]
     },
     "execution_count": 49,
     "metadata": {},
     "output_type": "execute_result"
    }
   ],
   "source": [
    "sorted(files)[:10]"
   ]
  },
  {
   "cell_type": "code",
   "execution_count": 50,
   "id": "c7c49a6d-81a6-44ed-91b4-37347c914561",
   "metadata": {},
   "outputs": [
    {
     "data": {
      "text/plain": [
       "645"
      ]
     },
     "execution_count": 50,
     "metadata": {},
     "output_type": "execute_result"
    }
   ],
   "source": [
    "len(files)"
   ]
  },
  {
   "cell_type": "code",
   "execution_count": 51,
   "id": "61945da2-e21d-4a13-83a4-34593bce0e15",
   "metadata": {},
   "outputs": [],
   "source": [
    "frames = []\n",
    "for f in files:\n",
    "    gdf = gpd.read_parquet(f)\n",
    "    if gdf.shape[0]:\n",
    "        frames.append(gdf.to_crs(epsg=3035))\n",
    "gdf = pd.concat(frames, ignore_index=True)\n",
    "if 'gml_id' in gdf.columns:\n",
    "    gdf = gdf[~gdf['gml_id'].duplicated()]\n",
    "if 'oid' in gdf.columns:\n",
    "    gdf = gdf[~gdf['oid'].duplicated()]"
   ]
  },
  {
   "cell_type": "code",
   "execution_count": 52,
   "id": "0f0373eb-969e-4632-9071-71aa7197551f",
   "metadata": {},
   "outputs": [
    {
     "data": {
      "text/plain": [
       "(6434424, 24)"
      ]
     },
     "execution_count": 52,
     "metadata": {},
     "output_type": "execute_result"
    }
   ],
   "source": [
    "gdf.shape"
   ]
  },
  {
   "cell_type": "code",
   "execution_count": null,
   "id": "a45501e5-0b0c-45e2-afea-d03cf5d31122",
   "metadata": {},
   "outputs": [],
   "source": [
    "gdf.to_parquet(f'/data/uscuni-ulce/cadastre_buildings_standardised/buildings_germany_{region}.pq')"
   ]
  },
  {
   "cell_type": "code",
   "execution_count": null,
   "id": "209b68d9-f084-4386-89c9-70b6463d69f6",
   "metadata": {},
   "outputs": [],
   "source": []
  },
  {
   "cell_type": "code",
   "execution_count": null,
   "id": "7606338e-5adf-4344-aed2-f1491b993d7e",
   "metadata": {},
   "outputs": [],
   "source": []
  },
  {
   "cell_type": "code",
   "execution_count": null,
   "id": "e2700481-c72c-4342-9e86-ef05332b6035",
   "metadata": {},
   "outputs": [],
   "source": []
  },
  {
   "cell_type": "markdown",
   "id": "1a350272-4f27-4e8d-a883-2a006f551e70",
   "metadata": {
    "jp-MarkdownHeadingCollapsed": true
   },
   "source": [
    "### mv\n"
   ]
  },
  {
   "cell_type": "code",
   "execution_count": null,
   "id": "eb6324b6-30cb-4b22-b3ec-b5ca1ad1f255",
   "metadata": {},
   "outputs": [],
   "source": [
    "params = {\n",
    "        \"SERVICE\": \"WFS\",\n",
    "        \"REQUEST\": \"GetFeature\",\n",
    "        \"TYPENAMES\": \"ave:GebaeudeBauwerk\",\n",
    "        \"SRSNAME\": \"EPSG:5650\",\n",
    "        \"VERSION\": '2.0.0',\n",
    "    }\n",
    "url = 'https://www.geodaten-mv.de/dienste/alkis_wfs_einfach'\n",
    "size = get_size(url, params)\n",
    "print(size)"
   ]
  },
  {
   "cell_type": "code",
   "execution_count": null,
   "id": "263702e7-fb73-40f9-8fc1-a30f3dbd7690",
   "metadata": {
    "scrolled": true
   },
   "outputs": [],
   "source": [
    "count = 30_000\n",
    "process_wfs(\"germany_mv\", size, url, params, count)"
   ]
  },
  {
   "cell_type": "code",
   "execution_count": null,
   "id": "7c3b28c5-b9b4-4e92-874b-1b38cbb6b746",
   "metadata": {},
   "outputs": [],
   "source": []
  },
  {
   "cell_type": "code",
   "execution_count": 5,
   "id": "b700862d-ffc4-4236-aa2d-6ecd44250f32",
   "metadata": {},
   "outputs": [
    {
     "data": {
      "text/plain": [
       "'mv'"
      ]
     },
     "execution_count": 5,
     "metadata": {},
     "output_type": "execute_result"
    }
   ],
   "source": [
    "region = ger_regions[4]\n",
    "region"
   ]
  },
  {
   "cell_type": "code",
   "execution_count": 6,
   "id": "ca6375af-1ccb-4dd9-a745-39eb5a6c9085",
   "metadata": {},
   "outputs": [],
   "source": [
    "files = glob(f'{DATADIR}buildings_germany_{region}*')"
   ]
  },
  {
   "cell_type": "code",
   "execution_count": 7,
   "id": "c76c36f9-882b-4f70-9065-5ffa14e49fee",
   "metadata": {},
   "outputs": [
    {
     "data": {
      "text/plain": [
       "['/data/uscuni-ulce/cadastre_buildings_raw/buildings_germany_mv_0.pq',\n",
       " '/data/uscuni-ulce/cadastre_buildings_raw/buildings_germany_mv_1020000.pq',\n",
       " '/data/uscuni-ulce/cadastre_buildings_raw/buildings_germany_mv_1050000.pq',\n",
       " '/data/uscuni-ulce/cadastre_buildings_raw/buildings_germany_mv_1080000.pq',\n",
       " '/data/uscuni-ulce/cadastre_buildings_raw/buildings_germany_mv_1110000.pq',\n",
       " '/data/uscuni-ulce/cadastre_buildings_raw/buildings_germany_mv_1140000.pq',\n",
       " '/data/uscuni-ulce/cadastre_buildings_raw/buildings_germany_mv_1170000.pq',\n",
       " '/data/uscuni-ulce/cadastre_buildings_raw/buildings_germany_mv_120000.pq',\n",
       " '/data/uscuni-ulce/cadastre_buildings_raw/buildings_germany_mv_1200000.pq',\n",
       " '/data/uscuni-ulce/cadastre_buildings_raw/buildings_germany_mv_1230000.pq']"
      ]
     },
     "execution_count": 7,
     "metadata": {},
     "output_type": "execute_result"
    }
   ],
   "source": [
    "sorted(files)[:10]"
   ]
  },
  {
   "cell_type": "code",
   "execution_count": 8,
   "id": "60075de8-bc9a-40cc-902f-07c9b7f5fc61",
   "metadata": {},
   "outputs": [
    {
     "data": {
      "text/plain": [
       "51"
      ]
     },
     "execution_count": 8,
     "metadata": {},
     "output_type": "execute_result"
    }
   ],
   "source": [
    "len(files)"
   ]
  },
  {
   "cell_type": "code",
   "execution_count": 9,
   "id": "63ea69f8-4e72-4fa3-a16d-36fd9c178994",
   "metadata": {},
   "outputs": [],
   "source": [
    "frames = []\n",
    "for f in files:\n",
    "    gdf = gpd.read_parquet(f)\n",
    "    if gdf.shape[0]:\n",
    "        frames.append(gdf.to_crs(epsg=3035))\n",
    "gdf = pd.concat(frames, ignore_index=True)\n",
    "if 'gml_id' in gdf.columns:\n",
    "    gdf = gdf[~gdf['gml_id'].duplicated()]\n",
    "if 'oid' in gdf.columns:\n",
    "    gdf = gdf[~gdf['oid'].duplicated()]"
   ]
  },
  {
   "cell_type": "code",
   "execution_count": 10,
   "id": "285e10d3-47d2-4048-b3f8-8711a73eae41",
   "metadata": {},
   "outputs": [
    {
     "data": {
      "text/plain": [
       "(1511902, 13)"
      ]
     },
     "execution_count": 10,
     "metadata": {},
     "output_type": "execute_result"
    }
   ],
   "source": [
    "gdf.shape"
   ]
  },
  {
   "cell_type": "code",
   "execution_count": 130,
   "id": "7247bce4-ddf2-4215-ad96-6afa4055cdd5",
   "metadata": {},
   "outputs": [],
   "source": []
  },
  {
   "cell_type": "code",
   "execution_count": null,
   "id": "6fcde796-8a4a-4117-82a0-4906c0389eaf",
   "metadata": {},
   "outputs": [],
   "source": []
  },
  {
   "cell_type": "code",
   "execution_count": 13,
   "id": "ba796cff-dab8-4309-84db-de862e1bdd57",
   "metadata": {},
   "outputs": [],
   "source": [
    "gdf.to_parquet(f'/data/uscuni-ulce/cadastre_buildings_standardised/buildings_germany_{region}.pq')"
   ]
  },
  {
   "cell_type": "code",
   "execution_count": null,
   "id": "f21e25cd-8afb-4610-b8f4-c5c81fc7a7c5",
   "metadata": {},
   "outputs": [],
   "source": []
  },
  {
   "cell_type": "markdown",
   "id": "c9b5bea7-7e94-45e4-9652-af82465a127c",
   "metadata": {
    "jp-MarkdownHeadingCollapsed": true
   },
   "source": [
    "### RLP\n"
   ]
  },
  {
   "cell_type": "code",
   "execution_count": null,
   "id": "3f0a6883-4ef7-4b1b-ac32-8083107dc66d",
   "metadata": {},
   "outputs": [],
   "source": [
    "\n",
    "# # https://www.geoportal.rlp.de/mapbender/php/mod_inspireDownloadFeed.php?id=30cc0a9a-cbad-66e3-68a5-7b75544814d8&type=DATASET&generateFrom=wfs&wfsid=519&featuretypeid=2713\n",
    "# #rlp\n",
    "# i = 0\n",
    "# params = {\n",
    "#         \"SERVICE\": \"WFS\",\n",
    "#         \"REQUEST\": \"GetFeature\",\n",
    "#         \"TYPENAMES\": \"bu-core2d:Building\",\n",
    "#         \"SRSNAME\": \"EPSG:25832\",\n",
    "#         \"VERSION\": '2.0.0',\n",
    "#     }\n",
    "# url = 'https://www.geoportal.rlp.de/registry/wfs/519'\n",
    "# size = get_size(url, params)\n",
    "# print(size)\n",
    "\n",
    "\n",
    "# # count = 100000\n",
    "# # process_wfs(\"germany_rlp\", url, params, count)\n",
    "\n",
    "\n",
    "for i in range(0, 3320444, 4000):\n",
    "    url = f'https://www.geoportal.rlp.de/spatial-objects/519/collections/ave:GebaeudeBauwerk/items?offset={i}&limit=4000&f=json'\n",
    "    gdf = gpd.read_file(url)\n",
    "    gdf.to_parquet(DATADIR + f'buildings_germany_rlp_{i}.pq')\n",
    "    print(i)"
   ]
  },
  {
   "cell_type": "code",
   "execution_count": null,
   "id": "bc5d7e81-3574-4780-936d-10bc41e583a3",
   "metadata": {},
   "outputs": [],
   "source": []
  },
  {
   "cell_type": "code",
   "execution_count": 73,
   "id": "fc672243-597c-4961-8634-567e38f03fe1",
   "metadata": {},
   "outputs": [
    {
     "data": {
      "text/plain": [
       "'rlp'"
      ]
     },
     "execution_count": 73,
     "metadata": {},
     "output_type": "execute_result"
    }
   ],
   "source": [
    "region = ger_regions[6]\n",
    "region"
   ]
  },
  {
   "cell_type": "code",
   "execution_count": 74,
   "id": "3c699088-1f9a-4729-b67b-01b87bb35ef9",
   "metadata": {},
   "outputs": [],
   "source": [
    "files = glob(f'{DATADIR}buildings_germany_{region}*')"
   ]
  },
  {
   "cell_type": "code",
   "execution_count": 75,
   "id": "4fa82937-8859-480e-bc2d-1134fe26ddfc",
   "metadata": {},
   "outputs": [
    {
     "data": {
      "text/plain": [
       "['/data/uscuni-ulce/cadastre_buildings_raw/buildings_germany_rlp_0.pq',\n",
       " '/data/uscuni-ulce/cadastre_buildings_raw/buildings_germany_rlp_100000.pq',\n",
       " '/data/uscuni-ulce/cadastre_buildings_raw/buildings_germany_rlp_1000000.pq',\n",
       " '/data/uscuni-ulce/cadastre_buildings_raw/buildings_germany_rlp_1004000.pq',\n",
       " '/data/uscuni-ulce/cadastre_buildings_raw/buildings_germany_rlp_1008000.pq',\n",
       " '/data/uscuni-ulce/cadastre_buildings_raw/buildings_germany_rlp_1012000.pq',\n",
       " '/data/uscuni-ulce/cadastre_buildings_raw/buildings_germany_rlp_1016000.pq',\n",
       " '/data/uscuni-ulce/cadastre_buildings_raw/buildings_germany_rlp_1020000.pq',\n",
       " '/data/uscuni-ulce/cadastre_buildings_raw/buildings_germany_rlp_1024000.pq',\n",
       " '/data/uscuni-ulce/cadastre_buildings_raw/buildings_germany_rlp_1028000.pq']"
      ]
     },
     "execution_count": 75,
     "metadata": {},
     "output_type": "execute_result"
    }
   ],
   "source": [
    "sorted(files)[:10]"
   ]
  },
  {
   "cell_type": "code",
   "execution_count": 76,
   "id": "d6cf7a2a-3aed-4977-8f68-63dcbd9278fe",
   "metadata": {},
   "outputs": [
    {
     "data": {
      "text/plain": [
       "831"
      ]
     },
     "execution_count": 76,
     "metadata": {},
     "output_type": "execute_result"
    }
   ],
   "source": [
    "len(files)"
   ]
  },
  {
   "cell_type": "code",
   "execution_count": 77,
   "id": "b3b735bf-0116-4ba6-88e1-02eee716eb8f",
   "metadata": {},
   "outputs": [],
   "source": [
    "frames = []\n",
    "for f in files:\n",
    "    gdf = gpd.read_parquet(f)\n",
    "    if gdf.shape[0]:\n",
    "        frames.append(gdf.to_crs(epsg=3035))\n",
    "gdf = pd.concat(frames, ignore_index=True)\n",
    "if 'gml_id' in gdf.columns:\n",
    "    gdf = gdf[~gdf['gml_id'].duplicated()]\n",
    "if 'oid' in gdf.columns:\n",
    "    gdf = gdf[~gdf['oid'].duplicated()]"
   ]
  },
  {
   "cell_type": "code",
   "execution_count": 78,
   "id": "adcca5ab-8987-4ff4-a222-fafdf37c7cca",
   "metadata": {},
   "outputs": [
    {
     "data": {
      "text/plain": [
       "(3320444, 13)"
      ]
     },
     "execution_count": 78,
     "metadata": {},
     "output_type": "execute_result"
    }
   ],
   "source": [
    "gdf.shape"
   ]
  },
  {
   "cell_type": "code",
   "execution_count": 79,
   "id": "3f0588cc-9bf8-4500-acb1-c95f9d04eec2",
   "metadata": {},
   "outputs": [],
   "source": [
    "gdf.to_parquet(f'/data/uscuni-ulce/cadastre_buildings_standardised/buildings_germany_{region}.pq')"
   ]
  },
  {
   "cell_type": "code",
   "execution_count": null,
   "id": "df01e5ce-249f-47f4-bdcb-7eeae3200991",
   "metadata": {},
   "outputs": [],
   "source": []
  },
  {
   "cell_type": "markdown",
   "id": "199ea3f0-daad-44bd-b913-9eb67f927770",
   "metadata": {
    "jp-MarkdownHeadingCollapsed": true
   },
   "source": [
    "### saarland\n"
   ]
  },
  {
   "cell_type": "code",
   "execution_count": null,
   "id": "08359e0a-a397-4432-ad7f-c47436c5785f",
   "metadata": {},
   "outputs": [],
   "source": [
    "\n",
    "# # i = 0\n",
    "# # params = {\n",
    "# #         \"SERVICE\": \"WFS\",\n",
    "# #         \"REQUEST\": \"GetFeature\",\n",
    "# #         \"TYPENAMES\": \"bu-core2d:Building\",\n",
    "# #         \"SRSNAME\": \"EPSG:4326\",\n",
    "# #         \"VERSION\": '2.0.0',\n",
    "# #     }\n",
    "# # url = 'https://geoportal.saarland.de/gdi-sl/inspirewfs_2D_Gebaeude_ALKIS'\n",
    "# # size = get_size(url, params)\n",
    "# # print(size)\n",
    "\n",
    "# # params['count'] = size\n",
    "# # response = requests.get(url, params=params)\n",
    "\n",
    "\n",
    "for i in range(0, 622841, 500):\n",
    "    url = f'https://geoportal.saarland.de/spatial-objects/406/collections/bu-core2d:Building/items?offset={i}&limit=500&f=json'\n",
    "    gdf = gpd.read_file(url)\n",
    "    gdf.to_parquet(DATADIR + f'buildings_germany_saarland_{i}.pq')\n",
    "    print(i)"
   ]
  },
  {
   "cell_type": "code",
   "execution_count": null,
   "id": "86b635a6-1655-4093-89f9-c50e2715eb96",
   "metadata": {},
   "outputs": [],
   "source": []
  },
  {
   "cell_type": "code",
   "execution_count": 84,
   "id": "3ca9bdb0-eaa0-4fa0-b289-0526fd7f7414",
   "metadata": {},
   "outputs": [
    {
     "data": {
      "text/plain": [
       "'saarland'"
      ]
     },
     "execution_count": 84,
     "metadata": {},
     "output_type": "execute_result"
    }
   ],
   "source": [
    "region = ger_regions[7]\n",
    "region"
   ]
  },
  {
   "cell_type": "code",
   "execution_count": 85,
   "id": "89f45743-cb15-4da4-88ff-21e549c8472f",
   "metadata": {},
   "outputs": [],
   "source": [
    "files = glob(f'{DATADIR}buildings_germany_{region}*')"
   ]
  },
  {
   "cell_type": "code",
   "execution_count": 86,
   "id": "94f349f7-245d-42e6-b8f7-a138ba159d9d",
   "metadata": {},
   "outputs": [
    {
     "data": {
      "text/plain": [
       "['/data/uscuni-ulce/cadastre_buildings_raw/buildings_germany_saarland_0.pq',\n",
       " '/data/uscuni-ulce/cadastre_buildings_raw/buildings_germany_saarland_1000.pq',\n",
       " '/data/uscuni-ulce/cadastre_buildings_raw/buildings_germany_saarland_10000.pq',\n",
       " '/data/uscuni-ulce/cadastre_buildings_raw/buildings_germany_saarland_100000.pq',\n",
       " '/data/uscuni-ulce/cadastre_buildings_raw/buildings_germany_saarland_100500.pq',\n",
       " '/data/uscuni-ulce/cadastre_buildings_raw/buildings_germany_saarland_101000.pq',\n",
       " '/data/uscuni-ulce/cadastre_buildings_raw/buildings_germany_saarland_101500.pq',\n",
       " '/data/uscuni-ulce/cadastre_buildings_raw/buildings_germany_saarland_102000.pq',\n",
       " '/data/uscuni-ulce/cadastre_buildings_raw/buildings_germany_saarland_102500.pq',\n",
       " '/data/uscuni-ulce/cadastre_buildings_raw/buildings_germany_saarland_103000.pq']"
      ]
     },
     "execution_count": 86,
     "metadata": {},
     "output_type": "execute_result"
    }
   ],
   "source": [
    "sorted(files)[:10]"
   ]
  },
  {
   "cell_type": "code",
   "execution_count": 87,
   "id": "ea8f713d-0f80-4602-855f-034aa3dabacf",
   "metadata": {},
   "outputs": [
    {
     "data": {
      "text/plain": [
       "1246"
      ]
     },
     "execution_count": 87,
     "metadata": {},
     "output_type": "execute_result"
    }
   ],
   "source": [
    "len(files)"
   ]
  },
  {
   "cell_type": "code",
   "execution_count": 88,
   "id": "12bd3012-c105-41d4-957e-087c1dd25324",
   "metadata": {},
   "outputs": [],
   "source": [
    "frames = []\n",
    "for f in files:\n",
    "    gdf = gpd.read_parquet(f)\n",
    "    if gdf.shape[0]:\n",
    "        frames.append(gdf.to_crs(epsg=3035))\n",
    "gdf = pd.concat(frames, ignore_index=True)\n",
    "if 'gml_id' in gdf.columns:\n",
    "    gdf = gdf[~gdf['gml_id'].duplicated()]\n",
    "if 'oid' in gdf.columns:\n",
    "    gdf = gdf[~gdf['oid'].duplicated()]"
   ]
  },
  {
   "cell_type": "code",
   "execution_count": 89,
   "id": "eaf30e4a-d6e7-444d-ac2f-4c9cb8c87482",
   "metadata": {},
   "outputs": [
    {
     "data": {
      "text/plain": [
       "(622841, 16)"
      ]
     },
     "execution_count": 89,
     "metadata": {},
     "output_type": "execute_result"
    }
   ],
   "source": [
    "gdf.shape"
   ]
  },
  {
   "cell_type": "code",
   "execution_count": 90,
   "id": "00856064-21c1-4561-8ff5-fceaa06ad898",
   "metadata": {},
   "outputs": [],
   "source": [
    "gdf.to_parquet(f'/data/uscuni-ulce/cadastre_buildings_standardised/buildings_germany_{region}.pq')"
   ]
  },
  {
   "cell_type": "code",
   "execution_count": null,
   "id": "ff5da58f-c9bf-4f6e-a909-80e36227ef81",
   "metadata": {},
   "outputs": [],
   "source": []
  },
  {
   "cell_type": "markdown",
   "id": "3f21da1f-a1b5-4211-b850-93af5cdf1f1c",
   "metadata": {
    "jp-MarkdownHeadingCollapsed": true
   },
   "source": [
    "### nrw"
   ]
  },
  {
   "cell_type": "code",
   "execution_count": null,
   "id": "ff502a0a-69a0-459b-8653-9173e0b5e4da",
   "metadata": {},
   "outputs": [],
   "source": [
    "\n",
    "# i = 0\n",
    "# params = {\n",
    "#         \"SERVICE\": \"WFS\",\n",
    "#         \"REQUEST\": \"GetFeature\",\n",
    "#         \"TYPENAMES\": \"bu-core2d:Building\",\n",
    "#         \"SRSNAME\": \"EPSG:4326\",\n",
    "#         \"VERSION\": '2.0.0',\n",
    "#     }\n",
    "# url = 'https://www.wfs.nrw.de/geobasis/wfs_nw_inspire-gebaeude-2d_alkis'\n",
    "\n",
    "# size = get_size(url, params)\n",
    "# size\n",
    "# count = 10000\n",
    "# process_wfs(\"germany_nrw\", url, params, count, start=)\n",
    "\n",
    "step = 5_000\n",
    "\n",
    "for i in range(0, 12646244, step):\n",
    "    url = f'https://ogc-api.nrw.de/lika/v1/collections/gebaeude_bauwerk/items?offset={i}&limit={step}&f=json'\n",
    "    gdf = gpd.read_file(url)\n",
    "    gdf.to_parquet(DATADIR + f'buildings_germany_nrw_{i}.pq')\n",
    "    print(i, gdf.shape)"
   ]
  },
  {
   "cell_type": "code",
   "execution_count": null,
   "id": "366d4189-f555-40b1-98a7-d306ca8e43da",
   "metadata": {},
   "outputs": [],
   "source": []
  },
  {
   "cell_type": "code",
   "execution_count": 64,
   "id": "4e69f279-b520-423e-900d-c5cdb9452fdd",
   "metadata": {},
   "outputs": [
    {
     "data": {
      "text/plain": [
       "'nrw'"
      ]
     },
     "execution_count": 64,
     "metadata": {},
     "output_type": "execute_result"
    }
   ],
   "source": [
    "region = ger_regions[5]\n",
    "region"
   ]
  },
  {
   "cell_type": "code",
   "execution_count": 65,
   "id": "ecb5ca3e-94e8-47af-bbd2-fd542120adbc",
   "metadata": {},
   "outputs": [],
   "source": [
    "files = glob(f'{DATADIR}buildings_germany_{region}*')"
   ]
  },
  {
   "cell_type": "code",
   "execution_count": 66,
   "id": "eddf3cfd-91b2-407f-b358-b71a8a19b753",
   "metadata": {},
   "outputs": [
    {
     "data": {
      "text/plain": [
       "['/data/uscuni-ulce/cadastre_buildings_raw/buildings_germany_nrw_0.pq',\n",
       " '/data/uscuni-ulce/cadastre_buildings_raw/buildings_germany_nrw_10000.pq',\n",
       " '/data/uscuni-ulce/cadastre_buildings_raw/buildings_germany_nrw_100000.pq',\n",
       " '/data/uscuni-ulce/cadastre_buildings_raw/buildings_germany_nrw_1000000.pq',\n",
       " '/data/uscuni-ulce/cadastre_buildings_raw/buildings_germany_nrw_10000000.pq',\n",
       " '/data/uscuni-ulce/cadastre_buildings_raw/buildings_germany_nrw_10005000.pq',\n",
       " '/data/uscuni-ulce/cadastre_buildings_raw/buildings_germany_nrw_10010000.pq',\n",
       " '/data/uscuni-ulce/cadastre_buildings_raw/buildings_germany_nrw_10015000.pq',\n",
       " '/data/uscuni-ulce/cadastre_buildings_raw/buildings_germany_nrw_10020000.pq',\n",
       " '/data/uscuni-ulce/cadastre_buildings_raw/buildings_germany_nrw_10025000.pq']"
      ]
     },
     "execution_count": 66,
     "metadata": {},
     "output_type": "execute_result"
    }
   ],
   "source": [
    "sorted(files)[:10]"
   ]
  },
  {
   "cell_type": "code",
   "execution_count": 67,
   "id": "14cfea9f-8abf-4971-a90f-26420d57b41c",
   "metadata": {},
   "outputs": [
    {
     "data": {
      "text/plain": [
       "2530"
      ]
     },
     "execution_count": 67,
     "metadata": {},
     "output_type": "execute_result"
    }
   ],
   "source": [
    "len(files)"
   ]
  },
  {
   "cell_type": "code",
   "execution_count": 68,
   "id": "77f9dd91-e64b-4363-8a46-992b48e8b588",
   "metadata": {},
   "outputs": [],
   "source": [
    "frames = []\n",
    "for f in files:\n",
    "    gdf = gpd.read_parquet(f)\n",
    "    if gdf.shape[0]:\n",
    "        frames.append(gdf.to_crs(epsg=3035))\n",
    "gdf = pd.concat(frames, ignore_index=True)\n",
    "if 'gml_id' in gdf.columns:\n",
    "    gdf = gdf[~gdf['gml_id'].duplicated()]\n",
    "if 'oid' in gdf.columns:\n",
    "    gdf = gdf[~gdf['oid'].duplicated()]"
   ]
  },
  {
   "cell_type": "code",
   "execution_count": 71,
   "id": "d9baa342-9a85-4fc5-9d49-1f4a851c59b5",
   "metadata": {},
   "outputs": [
    {
     "data": {
      "text/plain": [
       "(12646244, 11)"
      ]
     },
     "execution_count": 71,
     "metadata": {},
     "output_type": "execute_result"
    }
   ],
   "source": [
    "gdf.shape"
   ]
  },
  {
   "cell_type": "code",
   "execution_count": 72,
   "id": "c12b41c6-04d9-4b93-bb3c-4d74ca3168b3",
   "metadata": {},
   "outputs": [],
   "source": [
    "gdf.to_parquet(f'/data/uscuni-ulce/cadastre_buildings_standardised/buildings_germany_{region}.pq')"
   ]
  },
  {
   "cell_type": "code",
   "execution_count": null,
   "id": "69952ed0-812f-42b1-84bc-ac2e405772d1",
   "metadata": {},
   "outputs": [],
   "source": []
  },
  {
   "cell_type": "code",
   "execution_count": null,
   "id": "539aebdd-f35c-412e-8231-35b5920cda0d",
   "metadata": {},
   "outputs": [],
   "source": []
  },
  {
   "cell_type": "markdown",
   "id": "34b9c652-65b2-4fa5-9161-16b4a916706c",
   "metadata": {
    "jp-MarkdownHeadingCollapsed": true
   },
   "source": [
    "### NI"
   ]
  },
  {
   "cell_type": "code",
   "execution_count": null,
   "id": "6b8fa411-6c5f-437b-b59d-067a902b7c2b",
   "metadata": {},
   "outputs": [],
   "source": [
    "# https://ni-lgln-opengeodata.hub.arcgis.com/apps/1cadea38ffb341bc83019b3d7f787dd3/explore\n",
    "\n",
    "\n",
    "# #niedersachsen\n",
    "# i = 0\n",
    "# params = {\n",
    "#         \"SERVICE\": \"WFS\",\n",
    "#         \"REQUEST\": \"GetFeature\",\n",
    "#         \"TYPENAMES\": \"bu-core2d:Building\",\n",
    "#         \"VERSION\": '2.0.0',\n",
    "#     }\n",
    "# url = 'https://www.inspire.niedersachsen.de/doorman/noauth/alkis-dls-bu-core2d?'\n",
    "\n",
    "# size = get_size(url, params)\n",
    "# print(size)\n",
    "\n",
    "# count = 10000\n",
    "# process_wfs(\"germany_niedersachsen\", url, params, count)"
   ]
  },
  {
   "cell_type": "code",
   "execution_count": null,
   "id": "2568dfee-f839-40ec-b133-bdad7800b99f",
   "metadata": {},
   "outputs": [],
   "source": [
    "links = gpd.read_file('https://arcgis-geojson.s3.eu-de.cloud-object-storage.appdomain.cloud/alkis-vektor/lgln-opengeodata-alkis-vektor.geojson')"
   ]
  },
  {
   "cell_type": "code",
   "execution_count": null,
   "id": "ee99aaff-ffb3-44ff-b259-a8c7836ceef0",
   "metadata": {
    "scrolled": true
   },
   "outputs": [],
   "source": [
    "import urllib.parse\n",
    "for link in links.zip.values:\n",
    "    link = urllib.parse.quote(link, safe=':/')\n",
    "    print(link)\n",
    "    gdf = gpd.read_file(link, layer='gebaeude')\n",
    "    gdf.to_parquet(DATADIR + f'buildings_germany_ni_{link.split('/')[-1][:-9]}.pq')"
   ]
  },
  {
   "cell_type": "code",
   "execution_count": null,
   "id": "71c25697-12e8-4292-bff2-0877304d9ab8",
   "metadata": {},
   "outputs": [],
   "source": []
  },
  {
   "cell_type": "code",
   "execution_count": 98,
   "id": "b4112596-19ba-44fb-bc30-08cec40921c2",
   "metadata": {},
   "outputs": [
    {
     "data": {
      "text/plain": [
       "'ni'"
      ]
     },
     "execution_count": 98,
     "metadata": {},
     "output_type": "execute_result"
    }
   ],
   "source": [
    "region = ger_regions[12]\n",
    "region"
   ]
  },
  {
   "cell_type": "code",
   "execution_count": 99,
   "id": "855cdbd5-25bb-45dd-88af-d2dd43e906a3",
   "metadata": {},
   "outputs": [],
   "source": [
    "files = glob(f'{DATADIR}buildings_germany_{region}*')"
   ]
  },
  {
   "cell_type": "code",
   "execution_count": 100,
   "id": "4c26b8ce-c855-4309-88a9-e55143327d64",
   "metadata": {},
   "outputs": [
    {
     "data": {
      "text/plain": [
       "['/data/uscuni-ulce/cadastre_buildings_raw/buildings_germany_ni_lkr_03101_Stadt_Braunschweig_kon.pq',\n",
       " '/data/uscuni-ulce/cadastre_buildings_raw/buildings_germany_ni_lkr_03102_Stadt_Salzgitter_kon.pq',\n",
       " '/data/uscuni-ulce/cadastre_buildings_raw/buildings_germany_ni_lkr_03103_Stadt_Wolfsburg_kon.pq',\n",
       " '/data/uscuni-ulce/cadastre_buildings_raw/buildings_germany_ni_lkr_03151_Gifhorn_kon.pq',\n",
       " '/data/uscuni-ulce/cadastre_buildings_raw/buildings_germany_ni_lkr_03153_Goslar_kon.pq',\n",
       " '/data/uscuni-ulce/cadastre_buildings_raw/buildings_germany_ni_lkr_03154_Helmstedt_kon.pq',\n",
       " '/data/uscuni-ulce/cadastre_buildings_raw/buildings_germany_ni_lkr_03155_Northeim_kon.pq',\n",
       " '/data/uscuni-ulce/cadastre_buildings_raw/buildings_germany_ni_lkr_03157_Peine_kon.pq',\n",
       " '/data/uscuni-ulce/cadastre_buildings_raw/buildings_germany_ni_lkr_03158_Wolfenb%C3%BCttel_kon.pq',\n",
       " '/data/uscuni-ulce/cadastre_buildings_raw/buildings_germany_ni_lkr_03159_G%C3%B6ttingen_kon.pq']"
      ]
     },
     "execution_count": 100,
     "metadata": {},
     "output_type": "execute_result"
    }
   ],
   "source": [
    "sorted(files)[:10]"
   ]
  },
  {
   "cell_type": "code",
   "execution_count": 101,
   "id": "365b839f-71d7-49be-9c51-853cb459fb40",
   "metadata": {},
   "outputs": [
    {
     "data": {
      "text/plain": [
       "45"
      ]
     },
     "execution_count": 101,
     "metadata": {},
     "output_type": "execute_result"
    }
   ],
   "source": [
    "len(files)"
   ]
  },
  {
   "cell_type": "code",
   "execution_count": 102,
   "id": "eb3c3821-f8b4-40a2-bfc0-b1ea411f1b58",
   "metadata": {},
   "outputs": [],
   "source": [
    "frames = []\n",
    "for f in files:\n",
    "    gdf = gpd.read_parquet(f)\n",
    "    if gdf.shape[0]:\n",
    "        frames.append(gdf.to_crs(epsg=3035))\n",
    "gdf = pd.concat(frames, ignore_index=True)\n",
    "if 'gml_id' in gdf.columns:\n",
    "    gdf = gdf[~gdf['gml_id'].duplicated()]\n",
    "if 'oid' in gdf.columns:\n",
    "    gdf = gdf[~gdf['oid'].duplicated()]"
   ]
  },
  {
   "cell_type": "code",
   "execution_count": 103,
   "id": "9ae3de6b-845e-41fd-a614-2a926ba7b435",
   "metadata": {},
   "outputs": [
    {
     "data": {
      "text/plain": [
       "(6442316, 10)"
      ]
     },
     "execution_count": 103,
     "metadata": {},
     "output_type": "execute_result"
    }
   ],
   "source": [
    "gdf.shape"
   ]
  },
  {
   "cell_type": "code",
   "execution_count": 104,
   "id": "e589b097-1212-4159-9540-4b61c279b3ad",
   "metadata": {},
   "outputs": [],
   "source": [
    "gdf.to_parquet(f'/data/uscuni-ulce/cadastre_buildings_standardised/buildings_germany_{region}.pq')"
   ]
  },
  {
   "cell_type": "code",
   "execution_count": null,
   "id": "bee7e8e9-7049-4020-8d24-2b3a4d3b2f5c",
   "metadata": {},
   "outputs": [],
   "source": []
  },
  {
   "cell_type": "code",
   "execution_count": null,
   "id": "8fec8863-d696-40b8-a54e-d3e0c81e38ba",
   "metadata": {},
   "outputs": [],
   "source": []
  },
  {
   "cell_type": "markdown",
   "id": "0a0be07a-602e-483d-b20f-6d7770c8e24b",
   "metadata": {
    "jp-MarkdownHeadingCollapsed": true
   },
   "source": [
    "### hessen\n"
   ]
  },
  {
   "cell_type": "code",
   "execution_count": 7,
   "id": "ab00a568-1594-4645-9d1d-93627a6788e3",
   "metadata": {
    "scrolled": true
   },
   "outputs": [],
   "source": [
    "# %%capture cap\n",
    "# params = {\n",
    "#         \"SERVICE\": \"WFS\",\n",
    "#         \"REQUEST\": \"GetFeature\",\n",
    "#         \"TYPENAMES\": \"bu-core2d:Building\",\n",
    "#         \"SRSNAME\": \"EPSG:4258\",\n",
    "#         \"VERSION\": '2.0.0',\n",
    "#     }\n",
    "# url = 'https://inspire-hessen.de/ows/services/org.2.29e99e26-ab08-474a-92c4-9e8f6bc679ea_wfs?'\n",
    "# size = get_size(url, params)\n",
    "# print(size)\n",
    "\n",
    "# count = 10_000\n",
    "# process_wfs(\"germany_hessen\", size, url, params, count)"
   ]
  },
  {
   "cell_type": "code",
   "execution_count": 53,
   "id": "1b05dd60-cc6e-4b84-acbe-773a04ebe0c2",
   "metadata": {
    "scrolled": true
   },
   "outputs": [],
   "source": [
    "# %%capture cap\n",
    "# step = 500\n",
    "\n",
    "# import time\n",
    "# for i in range(0, 4997363, step):\n",
    "#     url = f'https://www.geoportal.hessen.de/spatial-objects/711/collections/bu-core2d:Building/items?offset={i}&limit={step}&f=json'\n",
    "    \n",
    "#     try:\n",
    "#         gdf = gpd.read_file(url)\n",
    "#         gdf.to_parquet(DATADIR + f'buildings_germany_hessen_{i}.pq')\n",
    "#     except Exception as e:\n",
    "#         time.sleep(5)\n",
    "#         gdf = gpd.read_file(url)\n",
    "#         gdf.to_parquet(DATADIR + f'buildings_germany_hessen_{i}.pq')\n",
    "#         print(e)\n",
    "#     print(i, gdf.shape)"
   ]
  },
  {
   "cell_type": "code",
   "execution_count": 8,
   "id": "c45486e6-0dca-4bad-a5bc-84982a4e6691",
   "metadata": {},
   "outputs": [],
   "source": [
    "%%capture cap\n",
    "params = {\n",
    "        \"SERVICE\": \"WFS\",\n",
    "        \"REQUEST\": \"GetFeature\",\n",
    "        \"TYPENAMES\": \"ave:GebaeudeBauwerk\",\n",
    "        \"SRSNAME\": \"EPSG:25832\",\n",
    "        \"VERSION\": '2.0.0',\n",
    "    }\n",
    "url = 'https://www.gds.hessen.de/wfs2/aaa-suite/cgi-bin/alkis/vereinf/wfs'\n",
    "size = get_size(url, params)\n",
    "print(size)\n",
    "\n",
    "count = 100_000\n",
    "process_wfs(\"germany_hessen\", size, url, params, count)"
   ]
  },
  {
   "cell_type": "code",
   "execution_count": null,
   "id": "45d1956b-576f-4639-a761-6d750f7b20f9",
   "metadata": {},
   "outputs": [],
   "source": []
  },
  {
   "cell_type": "code",
   "execution_count": null,
   "id": "f4a45713-6655-4018-a976-c8e81375dd80",
   "metadata": {},
   "outputs": [],
   "source": []
  },
  {
   "cell_type": "code",
   "execution_count": null,
   "id": "9e0727c7-82d0-4336-a389-8251013d5e4b",
   "metadata": {},
   "outputs": [],
   "source": []
  },
  {
   "cell_type": "code",
   "execution_count": 12,
   "id": "6e043fba-0dbf-4c5b-8b56-0bcd61889bb1",
   "metadata": {},
   "outputs": [
    {
     "data": {
      "text/plain": [
       "'hessen'"
      ]
     },
     "execution_count": 12,
     "metadata": {},
     "output_type": "execute_result"
    }
   ],
   "source": [
    "region = ger_regions[3]\n",
    "region"
   ]
  },
  {
   "cell_type": "code",
   "execution_count": 13,
   "id": "e3d66f8b-f112-4c1a-8623-de9b34569775",
   "metadata": {},
   "outputs": [],
   "source": [
    "files = glob(f'{DATADIR}buildings_germany_{region}*')"
   ]
  },
  {
   "cell_type": "code",
   "execution_count": 14,
   "id": "4e03c06b-a2d4-496b-9b6f-14f564952ea5",
   "metadata": {},
   "outputs": [
    {
     "data": {
      "text/plain": [
       "['/data/uscuni-ulce/cadastre_buildings_raw/buildings_germany_hessen_0.pq',\n",
       " '/data/uscuni-ulce/cadastre_buildings_raw/buildings_germany_hessen_100000.pq',\n",
       " '/data/uscuni-ulce/cadastre_buildings_raw/buildings_germany_hessen_1000000.pq',\n",
       " '/data/uscuni-ulce/cadastre_buildings_raw/buildings_germany_hessen_1100000.pq',\n",
       " '/data/uscuni-ulce/cadastre_buildings_raw/buildings_germany_hessen_1200000.pq',\n",
       " '/data/uscuni-ulce/cadastre_buildings_raw/buildings_germany_hessen_1300000.pq',\n",
       " '/data/uscuni-ulce/cadastre_buildings_raw/buildings_germany_hessen_1400000.pq',\n",
       " '/data/uscuni-ulce/cadastre_buildings_raw/buildings_germany_hessen_1500000.pq',\n",
       " '/data/uscuni-ulce/cadastre_buildings_raw/buildings_germany_hessen_1600000.pq',\n",
       " '/data/uscuni-ulce/cadastre_buildings_raw/buildings_germany_hessen_1700000.pq']"
      ]
     },
     "execution_count": 14,
     "metadata": {},
     "output_type": "execute_result"
    }
   ],
   "source": [
    "sorted(files)[:10]"
   ]
  },
  {
   "cell_type": "code",
   "execution_count": 15,
   "id": "a410abc1-f92f-48f0-8d78-c9b0ef549bf7",
   "metadata": {},
   "outputs": [
    {
     "data": {
      "text/plain": [
       "53"
      ]
     },
     "execution_count": 15,
     "metadata": {},
     "output_type": "execute_result"
    }
   ],
   "source": [
    "len(files)"
   ]
  },
  {
   "cell_type": "code",
   "execution_count": 16,
   "id": "b136f03c-66cb-4f4d-8e69-b1a1b691557e",
   "metadata": {},
   "outputs": [],
   "source": [
    "frames = []\n",
    "for f in files:\n",
    "    gdf = gpd.read_parquet(f)\n",
    "    if gdf.shape[0]:\n",
    "        frames.append(gdf.to_crs(epsg=3035))\n",
    "gdf = pd.concat(frames, ignore_index=True)\n",
    "if 'gml_id' in gdf.columns:\n",
    "    gdf = gdf[~gdf['gml_id'].duplicated()]\n",
    "if 'oid' in gdf.columns:\n",
    "    gdf = gdf[~gdf['oid'].duplicated()]"
   ]
  },
  {
   "cell_type": "code",
   "execution_count": 17,
   "id": "3981b140-cbd6-4a5e-beb6-793361c49552",
   "metadata": {},
   "outputs": [
    {
     "data": {
      "text/plain": [
       "(5211807, 13)"
      ]
     },
     "execution_count": 17,
     "metadata": {},
     "output_type": "execute_result"
    }
   ],
   "source": [
    "gdf.shape"
   ]
  },
  {
   "cell_type": "code",
   "execution_count": null,
   "id": "6bb67d98-6f2c-45e3-b701-586db960d7bc",
   "metadata": {},
   "outputs": [],
   "source": []
  },
  {
   "cell_type": "code",
   "execution_count": 18,
   "id": "5dd31c8d-9fa0-4226-be3a-db18f6676f0d",
   "metadata": {},
   "outputs": [],
   "source": [
    "gdf.to_parquet(f'/data/uscuni-ulce/cadastre_buildings_standardised/buildings_germany_{region}.pq')"
   ]
  },
  {
   "cell_type": "code",
   "execution_count": null,
   "id": "5ef0f3d0-b601-4545-b283-4eb36274584e",
   "metadata": {},
   "outputs": [],
   "source": []
  },
  {
   "cell_type": "code",
   "execution_count": null,
   "id": "fea46c08-c7d3-4d01-beb8-76d62e153f07",
   "metadata": {},
   "outputs": [],
   "source": []
  },
  {
   "cell_type": "markdown",
   "id": "439cf33b-f45b-4bff-b3e3-245d3da6fa81",
   "metadata": {
    "jp-MarkdownHeadingCollapsed": true
   },
   "source": [
    "### Thuringen"
   ]
  },
  {
   "cell_type": "code",
   "execution_count": null,
   "id": "9a93188d-950a-4573-9ced-3babe00a182b",
   "metadata": {},
   "outputs": [],
   "source": []
  },
  {
   "cell_type": "code",
   "execution_count": null,
   "id": "f4632ae2-d255-411b-93d2-22033ddbdfd7",
   "metadata": {},
   "outputs": [],
   "source": [
    "# #thuringen\n",
    "# i = 0\n",
    "# params = {\n",
    "#         \"SERVICE\": \"WFS\",\n",
    "#         \"REQUEST\": \"GetFeature\",\n",
    "#         \"TYPENAMES\": \"ave:GebaeudeBauwerk\",\n",
    "#         \"SRSNAME\": \"EPSG:5650\",\n",
    "#         \"VERSION\": '2.0.0',\n",
    "#     }\n",
    "\n",
    "# url = 'https://www.geoproxy.geoportal-th.de/geoproxy/services/adv_alkis_wfs'\n",
    "# size = get_size(url, params)\n",
    "# print(size)"
   ]
  },
  {
   "cell_type": "code",
   "execution_count": null,
   "id": "673503fa-a8f2-4845-95e5-f707f44b05af",
   "metadata": {},
   "outputs": [],
   "source": [
    "# count = 100_000\n",
    "# process_wfs(\"germany_th\", size, url, params, count)"
   ]
  },
  {
   "cell_type": "code",
   "execution_count": null,
   "id": "510728a9-20e4-4d4f-a00a-ed3005033564",
   "metadata": {},
   "outputs": [],
   "source": [
    "#!wget https://geoportal.geoportal-th.de/dienste/atom_th_alkis?type=dataset&amp;id=33c5e445-e8eb-426b-a174-d77284d76dc9"
   ]
  },
  {
   "cell_type": "code",
   "execution_count": null,
   "id": "0db93ed6-4404-4ba2-a84f-ef370b56a0f0",
   "metadata": {
    "scrolled": true
   },
   "outputs": [],
   "source": [
    "!wget https://geoportal.geoportal-th.de/ALKIS/Shape/ALKIS_KB51_shp.zip\n",
    "!wget https://geoportal.geoportal-th.de/ALKIS/Shape/ALKIS_KB52_shp.zip\n",
    "!wget https://geoportal.geoportal-th.de/ALKIS/Shape/ALKIS_KB53_shp.zip\n",
    "!wget https://geoportal.geoportal-th.de/ALKIS/Shape/ALKIS_KB54_shp.zip\n",
    "!wget https://geoportal.geoportal-th.de/ALKIS/Shape/ALKIS_KB55_shp.zip\n",
    "!wget https://geoportal.geoportal-th.de/ALKIS/Shape/ALKIS_KB56_shp.zip\n",
    "!wget https://geoportal.geoportal-th.de/ALKIS/Shape/ALKIS_KB57_shp.zip\n",
    "!wget https://geoportal.geoportal-th.de/ALKIS/Shape/ALKIS_KB58_shp.zip"
   ]
  },
  {
   "cell_type": "code",
   "execution_count": null,
   "id": "84c38aa3-2e12-42d0-acef-b368293bf127",
   "metadata": {
    "scrolled": true
   },
   "outputs": [],
   "source": [
    "%%capture\n",
    "!unzip ALKIS_KB51_shp.zip -d temp/\n",
    "!unzip ALKIS_KB52_shp.zip -d temp/\n",
    "!unzip ALKIS_KB53_shp.zip -d temp/\n",
    "!unzip ALKIS_KB54_shp.zip -d temp/\n",
    "!unzip ALKIS_KB55_shp.zip -d temp/\n",
    "!unzip ALKIS_KB56_shp.zip -d temp/\n",
    "!unzip ALKIS_KB57_shp.zip -d temp/\n",
    "!unzip ALKIS_KB58_shp.zip -d temp/"
   ]
  },
  {
   "cell_type": "code",
   "execution_count": null,
   "id": "f277d2fe-6111-4f2a-94fa-5cc3c0680b44",
   "metadata": {},
   "outputs": [],
   "source": [
    "files= glob.glob('temp/*_shp.zip')\n",
    "len(files)"
   ]
  },
  {
   "cell_type": "code",
   "execution_count": null,
   "id": "96e74ea9-7961-4155-873c-65b411296641",
   "metadata": {},
   "outputs": [],
   "source": [
    "%%time\n",
    "frames = []\n",
    "for f in files:\n",
    "    layers = gpd.list_layers(f)\n",
    "    layer = layers[layers['name'].str.contains('GebaeudeBauwerk')]['name']\n",
    "    if layer.shape[0]:\n",
    "        layer = layer.values[0]\n",
    "    else:\n",
    "        continue\n",
    "    gdf = gpd.read_file(f, layer=layer)\n",
    "    if gdf.shape[0]:\n",
    "        frames.append(gdf.set_crs(epsg=25832).to_crs(epsg=3035))\n"
   ]
  },
  {
   "cell_type": "code",
   "execution_count": null,
   "id": "d1f1d036-b9c8-44ef-93e1-da555c95e51a",
   "metadata": {},
   "outputs": [],
   "source": [
    "gdf = pd.concat(frames, ignore_index=True)\n",
    "if 'gml_id' in gdf.columns:\n",
    "    gdf = gdf[~gdf['gml_id'].duplicated()]\n",
    "elif 'oid' in gdf.columns:\n",
    "    gdf = gdf[~gdf['oid'].duplicated()]"
   ]
  },
  {
   "cell_type": "code",
   "execution_count": null,
   "id": "4652cafc-584c-4d6d-a1c5-aed67210c95b",
   "metadata": {},
   "outputs": [],
   "source": [
    "gdf.to_parquet(DATADIR + 'buildings_germany_th.pq')"
   ]
  },
  {
   "cell_type": "code",
   "execution_count": null,
   "id": "d3347567-7cff-4929-b6c3-1bab251e0fae",
   "metadata": {},
   "outputs": [],
   "source": [
    "!rm -r temp/"
   ]
  },
  {
   "cell_type": "code",
   "execution_count": null,
   "id": "8439dca7-cec1-4ef6-86b9-75a36edf34b5",
   "metadata": {},
   "outputs": [],
   "source": [
    "!rm ALKIS_KB*"
   ]
  },
  {
   "cell_type": "code",
   "execution_count": null,
   "id": "615c8cf0-50ca-437b-a8ae-af3986daf7aa",
   "metadata": {},
   "outputs": [],
   "source": [
    "!cp /data/uscuni-ulce/cadastre_buildings_raw/buildings_germany_th.pq /data/uscuni-ulce/cadastre_buildings_standardised/buildings_germany_th.pq"
   ]
  },
  {
   "cell_type": "code",
   "execution_count": null,
   "id": "ec91383a-fc71-484c-ae40-10474f012a27",
   "metadata": {},
   "outputs": [],
   "source": []
  },
  {
   "cell_type": "markdown",
   "id": "8d1a8f16-4e6f-499e-8808-b33ace50c6d8",
   "metadata": {
    "jp-MarkdownHeadingCollapsed": true
   },
   "source": [
    "### sachsen-anhalt"
   ]
  },
  {
   "cell_type": "code",
   "execution_count": null,
   "id": "9f150c56-4394-4014-9349-0d89bf0f6a69",
   "metadata": {},
   "outputs": [],
   "source": [
    "!wget https://www.geodatenportal.sachsen-anhalt.de/gfds_webshare/download/LVermGeo/Geodatenportal/externedaten/GBIS_Gebaeude.zip"
   ]
  },
  {
   "cell_type": "code",
   "execution_count": null,
   "id": "65195f20-1b2e-46d7-8f08-c7fda04a6888",
   "metadata": {},
   "outputs": [],
   "source": [
    "!unzip GBIS_Gebaeude.zip"
   ]
  },
  {
   "cell_type": "code",
   "execution_count": null,
   "id": "abe8f441-ae03-4715-8987-a148eaa2bfb0",
   "metadata": {},
   "outputs": [],
   "source": [
    "files = glob('GBIS_Gebaeude_*')"
   ]
  },
  {
   "cell_type": "code",
   "execution_count": null,
   "id": "1642366a-cf06-473b-b49e-79ae2fd830b8",
   "metadata": {},
   "outputs": [],
   "source": [
    "frames = []\n",
    "for f in files:\n",
    "    gdf = gpd.read_file(f)\n",
    "    if gdf.shape[0]:\n",
    "        frames.append(gdf.to_crs(epsg=3035))\n",
    "gdf = pd.concat(frames, ignore_index=True)\n",
    "if 'gml_id' in gdf.columns:\n",
    "    gdf = gdf[~gdf['gml_id'].duplicated()]"
   ]
  },
  {
   "cell_type": "code",
   "execution_count": null,
   "id": "c7e4c9f8-21ed-4faf-8a3c-fa188171d056",
   "metadata": {},
   "outputs": [],
   "source": [
    "gdf.to_parquet(DATADIR + 'buildings_germany_sachsen-anhalt.pq')"
   ]
  },
  {
   "cell_type": "code",
   "execution_count": null,
   "id": "c87210a3-5b13-4779-bc87-efe92844f167",
   "metadata": {},
   "outputs": [],
   "source": [
    "!rm GBIS_Gebaeude*"
   ]
  },
  {
   "cell_type": "code",
   "execution_count": null,
   "id": "2d07d771-d1e1-4eb4-95e9-912a2147fb16",
   "metadata": {},
   "outputs": [],
   "source": [
    "!cp /data/uscuni-ulce/cadastre_buildings_raw/buildings_germany_sachsen-anhalt.pq /data/uscuni-ulce/cadastre_buildings_standardised/buildings_germany_sachsen-anhalt.pq"
   ]
  },
  {
   "cell_type": "code",
   "execution_count": null,
   "id": "36911c25-92c7-48f7-9ab3-8efeb872f87a",
   "metadata": {},
   "outputs": [],
   "source": [
    "# #sachsen-anhalt\n",
    "# params = {\n",
    "#         \"SERVICE\": \"WFS\",\n",
    "#         \"REQUEST\": \"GetFeature\",\n",
    "#         \"TYPENAMES\": \"bu-core2d:Building\",\n",
    "#         \"SRSNAME\": \"EPSG:25833\",\n",
    "#         \"VERSION\": '2.0.0',\n",
    "#     }\n",
    "# url = 'https://www.geodatenportal.sachsen-anhalt.de/wss/service/INSPIRE_LVermGeo_WFS_ALKIS_BU/guest'\n",
    "# size = get_size(url, params)\n",
    "# print(size)\n"
   ]
  },
  {
   "cell_type": "code",
   "execution_count": null,
   "id": "961c638c-7e3b-4dc2-ad72-9f60d6f36da0",
   "metadata": {},
   "outputs": [],
   "source": [
    "# count = 10_000\n",
    "# process_wfs(\"germany_sachsen-anhalt\", size, url, params, count)"
   ]
  },
  {
   "cell_type": "code",
   "execution_count": null,
   "id": "be70b02a-d162-4325-89cf-80cefc791edf",
   "metadata": {},
   "outputs": [],
   "source": []
  },
  {
   "cell_type": "code",
   "execution_count": null,
   "id": "ed74580b-4536-484a-a2d4-c3e03a8a07f2",
   "metadata": {},
   "outputs": [],
   "source": []
  },
  {
   "cell_type": "markdown",
   "id": "b3765cae-f87b-49ca-b244-e5ac9c601e5f",
   "metadata": {
    "jp-MarkdownHeadingCollapsed": true
   },
   "source": [
    "### schlesig hollstein"
   ]
  },
  {
   "cell_type": "code",
   "execution_count": null,
   "id": "88950ad1-886e-4103-bd01-97cfdf370371",
   "metadata": {},
   "outputs": [],
   "source": [
    "# ## schlesig hollstein\n",
    "# params = {\n",
    "#         \"SERVICE\": \"WFS\",\n",
    "#         \"REQUEST\": \"GetFeature\",\n",
    "#         \"TYPENAMES\": \"bu-core2d:Building\",\n",
    "#         \"SRSNAME\": \"EPSG:4326\",\n",
    "#         \"VERSION\": '2.0.0',\n",
    "#     }\n",
    "# url = 'https://service.gdi-sh.de/SH_INSPIREDOWNLOAD_AIII_BU?service=WFS&version=2.0.0'\n",
    "\n",
    "# size = get_size(url, params)\n",
    "# print(size)\n",
    "\n",
    "\n",
    "\n",
    "# count = 10_000\n",
    "# process_wfs(\"germany_sh\", url, params, count)"
   ]
  },
  {
   "cell_type": "code",
   "execution_count": null,
   "id": "501038a8-8ddf-433c-a824-a8975a9acf83",
   "metadata": {},
   "outputs": [],
   "source": [
    "!wget https://service.gdi-sh.de/SH_OpenGBD/feeds/Atom_SH_ALKIS_vereinf_OpenGBD/Atom_SH_ALKIS_vereinf_OpenGBD.xml"
   ]
  },
  {
   "cell_type": "code",
   "execution_count": null,
   "id": "e136b441-6b9c-4e2a-8649-d92e401dc2a4",
   "metadata": {},
   "outputs": [],
   "source": [
    "import xml.etree.ElementTree as ET\n",
    "\n",
    "# Load the XML file\n",
    "tree = ET.parse('Atom_SH_ALKIS_vereinf_OpenGBD.xml')\n",
    "root = tree.getroot()\n",
    "\n",
    "\n",
    "# Define the namespaces\n",
    "namespaces = {\n",
    "    'atom': 'http://www.w3.org/2005/Atom',\n",
    "    'georss': 'http://www.georss.org/georss',\n",
    "    'inspire_dls': 'http://inspire.ec.europa.eu/schemas/inspire_dls/1.0',\n",
    "    'lang': 'ger'\n",
    "}\n",
    "\n",
    "# Find all elements with the tag 'entry'\n",
    "entries = root.findall('atom:entry', namespaces)\n",
    "codes = []\n",
    "\n",
    "# Extract and print the 'inspire_dls:spatial_dataset_identifier_code' attribute for each entry\n",
    "for entry in entries:\n",
    "    # Find the 'inspire_dls:spatial_dataset_identifier_code' element within the entry\n",
    "    spatial_code = entry.find('inspire_dls:spatial_dataset_identifier_code', namespaces)\n",
    "    codes.append(spatial_code.text)"
   ]
  },
  {
   "cell_type": "code",
   "execution_count": null,
   "id": "96fcfaa9-6899-4ede-8e84-78d69fadb983",
   "metadata": {
    "scrolled": true
   },
   "outputs": [],
   "source": [
    "for code in codes:\n",
    "    url = f'https://dienste.gdi-sh.de/WFS_SH_ALKIS_vereinf_OpenGBD?Request=GetFeature&Service=WFS&Version=2.0.0&gemeindeschluessel={code}&StoredQuery_ID=GetGebByGemeinde'\n",
    "    gdf = gpd.read_file(url, driver='GML')\n",
    "    gdf.to_parquet(DATADIR + f'buildings_germany_sg_{code}.pq')"
   ]
  },
  {
   "cell_type": "code",
   "execution_count": null,
   "id": "39645f00-4ac2-4819-ae99-afe282e1c3ab",
   "metadata": {},
   "outputs": [],
   "source": [
    "!rm Atom_SH_ALKIS_vereinf_OpenGBD.xml"
   ]
  },
  {
   "cell_type": "code",
   "execution_count": null,
   "id": "4d68a1f3-36e4-4b93-b4e5-76d54da5ca51",
   "metadata": {},
   "outputs": [],
   "source": []
  },
  {
   "cell_type": "code",
   "execution_count": 91,
   "id": "1b753ba1-89ab-40e5-8580-e703c2741fd5",
   "metadata": {},
   "outputs": [
    {
     "data": {
      "text/plain": [
       "'sg'"
      ]
     },
     "execution_count": 91,
     "metadata": {},
     "output_type": "execute_result"
    }
   ],
   "source": [
    "region = ger_regions[10]\n",
    "region"
   ]
  },
  {
   "cell_type": "code",
   "execution_count": 92,
   "id": "9ea8b7ef-e7a8-4963-987f-2977996087a1",
   "metadata": {},
   "outputs": [],
   "source": [
    "files = glob(f'{DATADIR}buildings_germany_{region}*')"
   ]
  },
  {
   "cell_type": "code",
   "execution_count": 93,
   "id": "83c85e5f-dd5e-4cff-b10a-22c99b4ad944",
   "metadata": {},
   "outputs": [
    {
     "data": {
      "text/plain": [
       "['/data/uscuni-ulce/cadastre_buildings_raw/buildings_germany_sg_01001000.pq',\n",
       " '/data/uscuni-ulce/cadastre_buildings_raw/buildings_germany_sg_01002000.pq',\n",
       " '/data/uscuni-ulce/cadastre_buildings_raw/buildings_germany_sg_01003000.pq',\n",
       " '/data/uscuni-ulce/cadastre_buildings_raw/buildings_germany_sg_01004000.pq',\n",
       " '/data/uscuni-ulce/cadastre_buildings_raw/buildings_germany_sg_01051001.pq',\n",
       " '/data/uscuni-ulce/cadastre_buildings_raw/buildings_germany_sg_01051002.pq',\n",
       " '/data/uscuni-ulce/cadastre_buildings_raw/buildings_germany_sg_01051003.pq',\n",
       " '/data/uscuni-ulce/cadastre_buildings_raw/buildings_germany_sg_01051004.pq',\n",
       " '/data/uscuni-ulce/cadastre_buildings_raw/buildings_germany_sg_01051005.pq',\n",
       " '/data/uscuni-ulce/cadastre_buildings_raw/buildings_germany_sg_01051006.pq']"
      ]
     },
     "execution_count": 93,
     "metadata": {},
     "output_type": "execute_result"
    }
   ],
   "source": [
    "sorted(files)[:10]"
   ]
  },
  {
   "cell_type": "code",
   "execution_count": 94,
   "id": "3d5796c9-f1e8-456d-9388-4135ec3d32f3",
   "metadata": {},
   "outputs": [
    {
     "data": {
      "text/plain": [
       "1106"
      ]
     },
     "execution_count": 94,
     "metadata": {},
     "output_type": "execute_result"
    }
   ],
   "source": [
    "len(files)"
   ]
  },
  {
   "cell_type": "code",
   "execution_count": 95,
   "id": "35b1dbb8-74e6-415e-bada-54839259beac",
   "metadata": {},
   "outputs": [],
   "source": [
    "frames = []\n",
    "for f in files:\n",
    "    gdf = gpd.read_parquet(f)\n",
    "    if gdf.shape[0]:\n",
    "        frames.append(gdf.to_crs(epsg=3035))\n",
    "gdf = pd.concat(frames, ignore_index=True)\n",
    "if 'gml_id' in gdf.columns:\n",
    "    gdf = gdf[~gdf['gml_id'].duplicated()]\n",
    "if 'oid' in gdf.columns:\n",
    "    gdf = gdf[~gdf['oid'].duplicated()]"
   ]
  },
  {
   "cell_type": "code",
   "execution_count": 96,
   "id": "bce16c39-2d0e-4dc0-a01a-48ab679831ef",
   "metadata": {},
   "outputs": [
    {
     "data": {
      "text/plain": [
       "(2539436, 13)"
      ]
     },
     "execution_count": 96,
     "metadata": {},
     "output_type": "execute_result"
    }
   ],
   "source": [
    "gdf.shape"
   ]
  },
  {
   "cell_type": "code",
   "execution_count": 97,
   "id": "21335316-9b5c-4975-9c0c-261ca9ff526e",
   "metadata": {},
   "outputs": [],
   "source": [
    "gdf.to_parquet(f'/data/uscuni-ulce/cadastre_buildings_standardised/buildings_germany_sh.pq')"
   ]
  },
  {
   "cell_type": "code",
   "execution_count": null,
   "id": "0f83e6ed-24bb-4f38-b921-8f3ea088f261",
   "metadata": {},
   "outputs": [],
   "source": []
  },
  {
   "cell_type": "code",
   "execution_count": null,
   "id": "02e23edc-b2c6-41bb-9906-15c395fb2b58",
   "metadata": {},
   "outputs": [],
   "source": []
  },
  {
   "cell_type": "markdown",
   "id": "009a8c9b-d0a4-4892-b35e-58311cf96b55",
   "metadata": {
    "jp-MarkdownHeadingCollapsed": true
   },
   "source": [
    "### bavaria"
   ]
  },
  {
   "cell_type": "code",
   "execution_count": null,
   "id": "bc79dc9b-44c4-457c-87f7-954eff30199a",
   "metadata": {},
   "outputs": [],
   "source": []
  },
  {
   "cell_type": "code",
   "execution_count": null,
   "id": "e249bd30-de6b-45b7-af38-b76e18a7abaf",
   "metadata": {},
   "outputs": [],
   "source": [
    "import requests \n",
    "def download_url(url, save_path, chunk_size=256):\n",
    "    r = requests.get(url, stream=True, allow_redirects=True)\n",
    "    print(r.content)\n",
    "    with open(save_path, 'wb') as fd:\n",
    "        for chunk in r.iter_content(chunk_size=chunk_size):\n",
    "            fd.write(chunk)"
   ]
  },
  {
   "cell_type": "code",
   "execution_count": null,
   "id": "f7767681-0111-46c6-8ca7-4ae43901ab5a",
   "metadata": {},
   "outputs": [],
   "source": [
    "# bavaria - https://geodaten.bayern.de/opengeodata/OpenDataDetail.html?pn=hausumringe\n",
    "\n",
    "links = \"\"\"https://geodaten.bayern.de/odd/m/3/daten/hausumringe/bezirk/data/096_Unterfranken_Hausumringe.zip\n",
    "https://geodaten.bayern.de/odd/m/3/daten/hausumringe/bezirk/data/094_Oberfranken_Hausumringe.zip\n",
    "https://geodaten.bayern.de/odd/m/3/daten/hausumringe/bezirk/data/095_Mittelfranken_Hausumringe.zip\n",
    "https://geodaten.bayern.de/odd/m/3/daten/hausumringe/bezirk/data/093_Oberpfalz_Hausumringe.zip\n",
    "https://geodaten.bayern.de/odd/m/3/daten/hausumringe/bezirk/data/097_Schwaben_Hausumringe.zip\n",
    "https://geodaten.bayern.de/odd/m/3/daten/hausumringe/bezirk/data/091_Oberbayern_Hausumringe.zip\n",
    "https://geodaten.bayern.de/odd/m/3/daten/hausumringe/bezirk/data/092_Niederbayern_Hausumringe.zip\"\"\""
   ]
  },
  {
   "cell_type": "code",
   "execution_count": null,
   "id": "ff073d8c-11b0-4786-a0b5-854a4a5a47e9",
   "metadata": {
    "scrolled": true
   },
   "outputs": [],
   "source": [
    "!wget https://geodaten.bayern.de/odd/m/3/daten/hausumringe/bezirk/data/096_Unterfranken_Hausumringe.zip\n",
    "!wget https://geodaten.bayern.de/odd/m/3/daten/hausumringe/bezirk/data/094_Oberfranken_Hausumringe.zip\n",
    "!wget https://geodaten.bayern.de/odd/m/3/daten/hausumringe/bezirk/data/095_Mittelfranken_Hausumringe.zip\n",
    "!wget https://geodaten.bayern.de/odd/m/3/daten/hausumringe/bezirk/data/093_Oberpfalz_Hausumringe.zip\n",
    "!wget https://geodaten.bayern.de/odd/m/3/daten/hausumringe/bezirk/data/097_Schwaben_Hausumringe.zip\n",
    "!wget https://geodaten.bayern.de/odd/m/3/daten/hausumringe/bezirk/data/091_Oberbayern_Hausumringe.zip\n",
    "!wget https://geodaten.bayern.de/odd/m/3/daten/hausumringe/bezirk/data/092_Niederbayern_Hausumringe.zip"
   ]
  },
  {
   "cell_type": "code",
   "execution_count": null,
   "id": "ab657a89-6f9e-4119-93dc-bb6824e9901c",
   "metadata": {},
   "outputs": [],
   "source": [
    "%%time\n",
    "for i, dl_link in enumerate(links.split('\\n')):\n",
    "    region_name = dl_link.split('_')[-2].lower()\n",
    "    region_file = dl_link.split('/')[-1]\n",
    "    gpd.read_file(region_file).to_parquet(DATADIR + f'buildings_germany_bavaria_{region_name}.pq')"
   ]
  },
  {
   "cell_type": "code",
   "execution_count": null,
   "id": "b99b739b-1b3f-47b5-acbe-aeb83387d069",
   "metadata": {},
   "outputs": [],
   "source": [
    "!rm *_Hausumringe.zip"
   ]
  },
  {
   "cell_type": "code",
   "execution_count": 9,
   "id": "2f9ba0c3-e245-4eed-b204-47e1ec9975d4",
   "metadata": {},
   "outputs": [],
   "source": [
    "files = glob(f'data/uscuni-ulce/cadastre_buildings_raw/buildings_germany_bavaria*')"
   ]
  },
  {
   "cell_type": "code",
   "execution_count": 13,
   "id": "341f91c3-d831-4e9f-9525-e47e00f5916f",
   "metadata": {},
   "outputs": [],
   "source": [
    "frames = []\n",
    "for f in files:\n",
    "    gdf = gpd.read_parquet(f)\n",
    "    if gdf.shape[0]:\n",
    "        frames.append(gdf.to_crs(epsg=3035))\n",
    "gdf = pd.concat(frames, ignore_index=True)\n",
    "if 'gml_id' in gdf.columns:\n",
    "    gdf = gdf[~gdf['gml_id'].duplicated()]\n",
    "if 'oid' in gdf.columns:\n",
    "    gdf = gdf[~gdf['oid'].duplicated()]"
   ]
  },
  {
   "cell_type": "code",
   "execution_count": 14,
   "id": "8471f909-b47d-4d00-876b-fb72ebd0f163",
   "metadata": {},
   "outputs": [
    {
     "data": {
      "text/plain": [
       "(10131375, 2)"
      ]
     },
     "execution_count": 14,
     "metadata": {},
     "output_type": "execute_result"
    }
   ],
   "source": [
    "gdf.shape"
   ]
  },
  {
   "cell_type": "code",
   "execution_count": 16,
   "id": "da87014d-eb7b-4c4e-a2da-8b175692cce7",
   "metadata": {},
   "outputs": [],
   "source": [
    "gdf.to_parquet('/data/uscuni-ulce/cadastre_buildings_standardised/buildings_germany_bavaria.pq')"
   ]
  },
  {
   "cell_type": "code",
   "execution_count": null,
   "id": "c00e800c-f230-4eef-b690-2b37e1663c3e",
   "metadata": {},
   "outputs": [],
   "source": []
  },
  {
   "cell_type": "code",
   "execution_count": null,
   "id": "f94a268e-a428-46ac-81f2-398ff878bbe9",
   "metadata": {},
   "outputs": [],
   "source": []
  },
  {
   "cell_type": "code",
   "execution_count": null,
   "id": "c650c89c-7fcc-4727-a26d-c5223bb910ae",
   "metadata": {},
   "outputs": [],
   "source": []
  },
  {
   "cell_type": "code",
   "execution_count": null,
   "id": "20106392-28b4-463a-b42f-c84b1f901135",
   "metadata": {},
   "outputs": [],
   "source": []
  },
  {
   "cell_type": "markdown",
   "id": "449ec785-59e7-4751-b15f-e8d6b69404cb",
   "metadata": {
    "jp-MarkdownHeadingCollapsed": true
   },
   "source": [
    "### Berlin"
   ]
  },
  {
   "cell_type": "code",
   "execution_count": null,
   "id": "b914ff05-7e21-49e7-aac7-ceb83450d782",
   "metadata": {
    "scrolled": true
   },
   "outputs": [],
   "source": [
    "params = {\n",
    "        \"SERVICE\": \"WFS\",\n",
    "        \"REQUEST\": \"GetFeature\",\n",
    "        \"TYPENAMES\": \"bu2d_alkis:Building\",\n",
    "        \"SRSNAME\": \"EPSG:25832\",\n",
    "        \"VERSION\": '2.0.0',\n",
    "    }\n",
    "url = 'https://gdi.berlin.de/services/wms/bu2d_alkis'\n",
    "size = get_size(url, params)\n",
    "print(size)"
   ]
  },
  {
   "cell_type": "code",
   "execution_count": null,
   "id": "d26d3210-aebd-4bf9-9074-5d622eb6b3bd",
   "metadata": {
    "scrolled": true
   },
   "outputs": [],
   "source": [
    "count = 1000\n",
    "process_wfs(\"germany_berlin\", size, url, params, count, start=283000)"
   ]
  },
  {
   "cell_type": "code",
   "execution_count": null,
   "id": "5ed2696c-ff5c-4b84-b27a-ce2f6012fe45",
   "metadata": {},
   "outputs": [],
   "source": []
  },
  {
   "cell_type": "code",
   "execution_count": 109,
   "id": "e8ddbac6-1e87-4885-bd0a-e98f66b12ed0",
   "metadata": {},
   "outputs": [
    {
     "data": {
      "text/plain": [
       "'berlin'"
      ]
     },
     "execution_count": 109,
     "metadata": {},
     "output_type": "execute_result"
    }
   ],
   "source": [
    "region = ger_regions[15]\n",
    "region"
   ]
  },
  {
   "cell_type": "code",
   "execution_count": 110,
   "id": "196969fa-22cd-4ff2-993f-db09b4f2fbe4",
   "metadata": {},
   "outputs": [],
   "source": [
    "files = glob(f'{DATADIR}buildings_germany_{region}*')"
   ]
  },
  {
   "cell_type": "code",
   "execution_count": 111,
   "id": "4b97f299-9ccc-487f-8b7d-503ffdc61e7f",
   "metadata": {},
   "outputs": [
    {
     "data": {
      "text/plain": [
       "['/data/uscuni-ulce/cadastre_buildings_raw/buildings_germany_berlin_0.pq',\n",
       " '/data/uscuni-ulce/cadastre_buildings_raw/buildings_germany_berlin_1000.pq',\n",
       " '/data/uscuni-ulce/cadastre_buildings_raw/buildings_germany_berlin_10000.pq',\n",
       " '/data/uscuni-ulce/cadastre_buildings_raw/buildings_germany_berlin_100000.pq',\n",
       " '/data/uscuni-ulce/cadastre_buildings_raw/buildings_germany_berlin_101000.pq',\n",
       " '/data/uscuni-ulce/cadastre_buildings_raw/buildings_germany_berlin_102000.pq',\n",
       " '/data/uscuni-ulce/cadastre_buildings_raw/buildings_germany_berlin_103000.pq',\n",
       " '/data/uscuni-ulce/cadastre_buildings_raw/buildings_germany_berlin_104000.pq',\n",
       " '/data/uscuni-ulce/cadastre_buildings_raw/buildings_germany_berlin_105000.pq',\n",
       " '/data/uscuni-ulce/cadastre_buildings_raw/buildings_germany_berlin_106000.pq']"
      ]
     },
     "execution_count": 111,
     "metadata": {},
     "output_type": "execute_result"
    }
   ],
   "source": [
    "sorted(files)[:10]"
   ]
  },
  {
   "cell_type": "code",
   "execution_count": 112,
   "id": "95629043-aac0-402d-8710-14780d0dc14b",
   "metadata": {},
   "outputs": [
    {
     "data": {
      "text/plain": [
       "652"
      ]
     },
     "execution_count": 112,
     "metadata": {},
     "output_type": "execute_result"
    }
   ],
   "source": [
    "len(files)"
   ]
  },
  {
   "cell_type": "code",
   "execution_count": 113,
   "id": "eeed6dc4-37a9-4f65-bfd8-9312c9f38234",
   "metadata": {},
   "outputs": [],
   "source": [
    "frames = []\n",
    "for f in files:\n",
    "    gdf = gpd.read_parquet(f)\n",
    "    if gdf.shape[0]:\n",
    "        frames.append(gdf.to_crs(epsg=3035))\n",
    "gdf = pd.concat(frames, ignore_index=True)\n",
    "if 'gml_id' in gdf.columns:\n",
    "    gdf = gdf[~gdf['gml_id'].duplicated()]\n",
    "if 'oid' in gdf.columns:\n",
    "    gdf = gdf[~gdf['oid'].duplicated()]"
   ]
  },
  {
   "cell_type": "code",
   "execution_count": 114,
   "id": "aec4c75e-8ecd-45ce-9e49-93b52d142cc8",
   "metadata": {},
   "outputs": [
    {
     "data": {
      "text/plain": [
       "(651811, 12)"
      ]
     },
     "execution_count": 114,
     "metadata": {},
     "output_type": "execute_result"
    }
   ],
   "source": [
    "gdf.shape"
   ]
  },
  {
   "cell_type": "code",
   "execution_count": 117,
   "id": "ce6ec120-515f-4c3b-8a72-a3e2a314cd4d",
   "metadata": {},
   "outputs": [],
   "source": [
    "gdf.to_parquet(f'/data/uscuni-ulce/cadastre_buildings_standardised/buildings_germany_{region}.pq')"
   ]
  },
  {
   "cell_type": "code",
   "execution_count": null,
   "id": "c3d1e006-b763-4043-ac5f-a66e166c1d27",
   "metadata": {},
   "outputs": [],
   "source": []
  },
  {
   "cell_type": "code",
   "execution_count": null,
   "id": "1d260fd0-5581-41ee-a92c-1d8841543e8c",
   "metadata": {},
   "outputs": [],
   "source": []
  },
  {
   "cell_type": "code",
   "execution_count": null,
   "id": "ca74e986-1e7c-42a1-8666-3d4107c314c1",
   "metadata": {},
   "outputs": [],
   "source": []
  },
  {
   "cell_type": "markdown",
   "id": "f773b16a-b6ad-4e4a-afc6-2e8012aa061f",
   "metadata": {
    "jp-MarkdownHeadingCollapsed": true
   },
   "source": [
    "### Hamburg"
   ]
  },
  {
   "cell_type": "code",
   "execution_count": null,
   "id": "de0475fc-cc78-4481-8836-390f40733597",
   "metadata": {},
   "outputs": [],
   "source": [
    "\n",
    "# params = {\n",
    "#         \"SERVICE\": \"WFS\",\n",
    "#         \"REQUEST\": \"GetFeature\",\n",
    "#         \"TYPENAMES\": \"bu-core2d:Building\",\n",
    "#         # \"SRSNAME\": \"EPSG:4326\",\n",
    "#         \"VERSION\": '2.0.0',\n",
    "#         # \"count\": 10000,\n",
    "#         # \"startIndex\": i\n",
    "#     }\n",
    "# url = 'https://geodienste.hamburg.de/HH_WFS_INSPIRE_Gebaeude_2D_ALKIS'\n",
    "\n",
    "# response = requests.get(url, params=params)\n",
    "\n",
    "# gdf = gpd.read_file(response.content)\n",
    "# gdf"
   ]
  },
  {
   "cell_type": "code",
   "execution_count": null,
   "id": "b13acde0-7a92-4c61-a733-e3ede5c4d80d",
   "metadata": {},
   "outputs": [],
   "source": [
    "\n",
    "\n",
    "hamburg_url = 'https://daten-hamburg.de/inspire/hh_inspire_gebaeude_2d_alkis/INSPIRE_HH_Gebaeude_2D_ALKIS_2020-07-15.zip'"
   ]
  },
  {
   "cell_type": "code",
   "execution_count": null,
   "id": "87bfdfd4-2214-4b5d-a67c-c4392784563d",
   "metadata": {},
   "outputs": [],
   "source": [
    "!wget https://daten-hamburg.de/inspire/hh_inspire_gebaeude_2d_alkis/INSPIRE_HH_Gebaeude_2D_ALKIS_2020-07-15.zip"
   ]
  },
  {
   "cell_type": "code",
   "execution_count": null,
   "id": "f338105d-1bfc-4991-9daa-a24cb2483cb8",
   "metadata": {},
   "outputs": [],
   "source": [
    "!unzip INSPIRE_HH_Gebaeude_2D_ALKIS_2020-07-15.zip"
   ]
  },
  {
   "cell_type": "code",
   "execution_count": null,
   "id": "3be36b8e-cbf1-41f3-8f1f-e2191cbd57fc",
   "metadata": {},
   "outputs": [],
   "source": [
    "import geopandas as gpd"
   ]
  },
  {
   "cell_type": "code",
   "execution_count": null,
   "id": "47d15490-e127-40a4-ae21-54570d8adf96",
   "metadata": {},
   "outputs": [],
   "source": [
    "gpd.list_layers('result.gml')"
   ]
  },
  {
   "cell_type": "code",
   "execution_count": null,
   "id": "de4bd549-b8e7-4fa8-8514-ee2d734315d0",
   "metadata": {},
   "outputs": [],
   "source": [
    "gpd.read_file('result.gml', layer='building').set_crs(epsg=25832).to_parquet(DATADIR + 'buildings_germany_hamburg.pq')"
   ]
  },
  {
   "cell_type": "code",
   "execution_count": null,
   "id": "04d37ab9-2770-4987-a712-cfefd8910165",
   "metadata": {},
   "outputs": [],
   "source": [
    "## cleanup\n",
    "!rm result.gml\n",
    "!rm result.gfs\n",
    "!rm wfs_bu_alkis_2020-07-15.xsd \n",
    "!rm INSPIRE_HH_Gebaeude_2D_ALKIS_2020-07-15.zip"
   ]
  },
  {
   "cell_type": "code",
   "execution_count": null,
   "id": "de6fe54e-8c41-4f1f-862b-ab059614378c",
   "metadata": {},
   "outputs": [],
   "source": [
    "!cp /data/uscuni-ulce/cadastre_buildings_raw/buildings_germany_hamburg.pq /data/uscuni-ulce/cadastre_buildings_standardised/buildings_germany_hamburg.pq"
   ]
  },
  {
   "cell_type": "code",
   "execution_count": null,
   "id": "ef0f75ed-6cd1-4023-9a82-923469634bcd",
   "metadata": {},
   "outputs": [],
   "source": []
  },
  {
   "cell_type": "markdown",
   "id": "f1dfc6fe-3aed-4dce-882e-2e17aea1ffb9",
   "metadata": {
    "jp-MarkdownHeadingCollapsed": true
   },
   "source": [
    "### Bremen"
   ]
  },
  {
   "cell_type": "code",
   "execution_count": null,
   "id": "ee917c1c-e18d-421a-88b4-ccad96da1bc2",
   "metadata": {},
   "outputs": [],
   "source": [
    "bremen = 'https://gdi2.geo.bremen.de/inspire/download/ADV-Shape/data/ALKIS_AdV_SHP_2024_04_HB.zip'"
   ]
  },
  {
   "cell_type": "code",
   "execution_count": null,
   "id": "63e1d6bf-c3ab-4ab3-aff0-824316aae98a",
   "metadata": {},
   "outputs": [],
   "source": [
    "!wget https://gdi2.geo.bremen.de/inspire/download/ADV-Shape/data/ALKIS_AdV_SHP_2024_04_HB.zip"
   ]
  },
  {
   "cell_type": "code",
   "execution_count": null,
   "id": "8bedefaf-f216-4374-8fa8-40b753fa1824",
   "metadata": {},
   "outputs": [],
   "source": [
    "!unzip ALKIS_AdV_SHP_2024_04_HB.zip"
   ]
  },
  {
   "cell_type": "code",
   "execution_count": null,
   "id": "1c72742d-4875-4c8d-845b-452af6badcff",
   "metadata": {},
   "outputs": [],
   "source": [
    "gpd.read_file('Bremen/GebaeudeBauwerk.shp').to_parquet(DATADIR + 'buildings_germany_bremen.pq')"
   ]
  },
  {
   "cell_type": "code",
   "execution_count": null,
   "id": "961e3f5f-9bcc-426f-afa0-e0512a75e62c",
   "metadata": {},
   "outputs": [],
   "source": [
    "!rm -r Bremen/"
   ]
  },
  {
   "cell_type": "code",
   "execution_count": null,
   "id": "196ad50a-6b92-4569-8f46-ecf4c639ed9f",
   "metadata": {},
   "outputs": [],
   "source": [
    "!rm -r ALKIS_AdV_SHP_2024_04_HB.zip"
   ]
  },
  {
   "cell_type": "code",
   "execution_count": null,
   "id": "aa57beca-af67-4a7c-bcee-f19228c0b48f",
   "metadata": {},
   "outputs": [],
   "source": [
    "!cp /data/uscuni-ulce/cadastre_buildings_raw/buildings_germany_bremen.pq /data/uscuni-ulce/cadastre_buildings_standardised/buildings_germany_bremen.pq"
   ]
  },
  {
   "cell_type": "code",
   "execution_count": null,
   "id": "19bc31bd-dec3-4a60-b988-efb530abeca0",
   "metadata": {},
   "outputs": [],
   "source": []
  },
  {
   "cell_type": "markdown",
   "id": "5c9c0bbe-b148-4996-8975-b461116eb34d",
   "metadata": {},
   "source": [
    "## Download Poland"
   ]
  },
  {
   "cell_type": "code",
   "execution_count": null,
   "id": "84e02e88-aa24-4d08-93d9-eee478ae5f10",
   "metadata": {},
   "outputs": [],
   "source": []
  },
  {
   "cell_type": "code",
   "execution_count": null,
   "id": "f26bda13-0a8c-46bc-a01a-1c8a4c3b8704",
   "metadata": {},
   "outputs": [],
   "source": [
    "# https://mapy.geoportal.gov.pl/iMapLite/atomExplorer/"
   ]
  },
  {
   "cell_type": "code",
   "execution_count": null,
   "id": "f2115c30-8f56-41e7-97ab-31e360637153",
   "metadata": {},
   "outputs": [],
   "source": [
    "\n",
    "links  = \"\"\"http://mapy.geoportal.gov.pl/wss/service/ATOM/httpauth/download/?fileId=34ad9f34a0b7dc8205a933bb058e91c1&name=podkarpackie_bu.zip\n",
    "http://mapy.geoportal.gov.pl/wss/service/ATOM/httpauth/download/?fileId=78896afe993bcb34365fe7b8a7f9966f&name=pomorskie_bu.zip\n",
    "http://mapy.geoportal.gov.pl/wss/service/ATOM/httpauth/download/?fileId=be4bfa1478a6eeedd67faffea96eafda&name=opolskie_bu.zip\n",
    "http://mapy.geoportal.gov.pl/wss/service/ATOM/httpauth/download/?fileId=c7881c0de4e3d86548ba0e97c50b490a&name=lodzkie_bu.zip\n",
    "http://mapy.geoportal.gov.pl/wss/service/ATOM/httpauth/download/?fileId=79dcc64d4c0c4e8873365f04c55a4940&name=lubuskie_bu.zip\n",
    "http://mapy.geoportal.gov.pl/wss/service/ATOM/httpauth/download/?fileId=ac47d220ce942cc3668f703fe4bd7a60&name=mazowieckie_bu.zip\n",
    "http://mapy.geoportal.gov.pl/wss/service/ATOM/httpauth/download/?fileId=9e87962dd94adddb2838f6321778f04a&name=kujawskopomorskie_bu.zip\n",
    "http://mapy.geoportal.gov.pl/wss/service/ATOM/httpauth/download/?fileId=8818a617772a6c9dad222dd52acecc29&name=slaskie_bu.zip\n",
    "http://mapy.geoportal.gov.pl/wss/service/ATOM/httpauth/download/?fileId=4b636d1174ceff606fb1c9c95c145915&name=dolnoslaskie_bu.zip\n",
    "http://mapy.geoportal.gov.pl/wss/service/ATOM/httpauth/download/?fileId=99c8bdcfc3173a3a7c2d18bf675f4315&name=malopolskie_bu.zip\n",
    "http://mapy.geoportal.gov.pl/wss/service/ATOM/httpauth/download/?fileId=cb81449840b96ff21fba1a42e094c074&name=lubelskie_bu.zip\n",
    "http://mapy.geoportal.gov.pl/wss/service/ATOM/httpauth/download/?fileId=9bb1518bbf0d8e22ec338c80dcc83f61&name=zachodniopomorskie_bu.zip\n",
    "http://mapy.geoportal.gov.pl/wss/service/ATOM/httpauth/download/?fileId=0217fcdf1da066af11a62067530786a9&name=warminskomazurskie_bu.zip\n",
    "http://mapy.geoportal.gov.pl/wss/service/ATOM/httpauth/download/?fileId=67eb749e1ae54cb7aa9a8aa1d90d8dd7&name=wielkopolskie_bu.zip\n",
    "http://mapy.geoportal.gov.pl/wss/service/ATOM/httpauth/download/?fileId=fc9fe6a16296acf6a4072a08f5be1342&name=podlaskie_bu.zip\n",
    "http://mapy.geoportal.gov.pl/wss/service/ATOM/httpauth/download/?fileId=e968c6db383a80a34b702866ede92cb1&name=swietorzyskie_bu.zip\"\"\""
   ]
  },
  {
   "cell_type": "code",
   "execution_count": null,
   "id": "e24c18fa-b031-4b37-8069-a053d4ed3314",
   "metadata": {},
   "outputs": [],
   "source": []
  },
  {
   "cell_type": "code",
   "execution_count": null,
   "id": "8b6db766-08a1-4ca6-85f2-ecbc77cf46bc",
   "metadata": {},
   "outputs": [],
   "source": [
    "# !wget http://mapy.geoportal.gov.pl/wss/service/ATOM/httpauth/download/?fileId=34ad9f34a0b7dc8205a933bb058e91c1&name=podkarpackie_bu.zip\n",
    "\n",
    "# !wget http://mapy.geoportal.gov.pl/wss/service/ATOM/httpauth/download/?fileId=78896afe993bcb34365fe7b8a7f9966f&name=pomorskie_bu.zip\n",
    "\n",
    "# !wget http://mapy.geoportal.gov.pl/wss/service/ATOM/httpauth/download/?fileId=be4bfa1478a6eeedd67faffea96eafda&name=opolskie_bu.zip\n",
    "\n",
    "# !wget http://mapy.geoportal.gov.pl/wss/service/ATOM/httpauth/download/?fileId=c7881c0de4e3d86548ba0e97c50b490a&name=lodzkie_bu.zip\n",
    "\n",
    "# !wget http://mapy.geoportal.gov.pl/wss/service/ATOM/httpauth/download/?fileId=79dcc64d4c0c4e8873365f04c55a4940&name=lubuskie_bu.zip\n",
    "\n",
    "# !wget http://mapy.geoportal.gov.pl/wss/service/ATOM/httpauth/download/?fileId=ac47d220ce942cc3668f703fe4bd7a60&name=mazowieckie_bu.zip\n",
    "\n",
    "# !wget http://mapy.geoportal.gov.pl/wss/service/ATOM/httpauth/download/?fileId=9e87962dd94adddb2838f6321778f04a&name=kujawskopomorskie_bu.zip\n",
    "\n",
    "# !wget http://mapy.geoportal.gov.pl/wss/service/ATOM/httpauth/download/?fileId=8818a617772a6c9dad222dd52acecc29&name=slaskie_bu.zip\n",
    "\n",
    "# !wget http://mapy.geoportal.gov.pl/wss/service/ATOM/httpauth/download/?fileId=4b636d1174ceff606fb1c9c95c145915&name=dolnoslaskie_bu.zip\n",
    "\n",
    "# !wget http://mapy.geoportal.gov.pl/wss/service/ATOM/httpauth/download/?fileId=99c8bdcfc3173a3a7c2d18bf675f4315&name=malopolskie_bu.zip\n",
    "\n",
    "# !wget http://mapy.geoportal.gov.pl/wss/service/ATOM/httpauth/download/?fileId=cb81449840b96ff21fba1a42e094c074&name=lubelskie_bu.zip\n",
    "\n",
    "# !wget http://mapy.geoportal.gov.pl/wss/service/ATOM/httpauth/download/?fileId=9bb1518bbf0d8e22ec338c80dcc83f61&name=zachodniopomorskie_bu.zip\n",
    "\n",
    "# !wget http://mapy.geoportal.gov.pl/wss/service/ATOM/httpauth/download/?fileId=0217fcdf1da066af11a62067530786a9&name=warminskomazurskie_bu.zip\n",
    "\n",
    "# !wget http://mapy.geoportal.gov.pl/wss/service/ATOM/httpauth/download/?fileId=67eb749e1ae54cb7aa9a8aa1d90d8dd7&name=wielkopolskie_bu.zip\n",
    "\n",
    "# !wget http://mapy.geoportal.gov.pl/wss/service/ATOM/httpauth/download/?fileId=fc9fe6a16296acf6a4072a08f5be1342&name=podlaskie_bu.zip\n",
    "\n",
    "# !wget http://mapy.geoportal.gov.pl/wss/service/ATOM/httpauth/download/?fileId=e968c6db383a80a34b702866ede92cb1&name=swietorzyskie_bu.zip"
   ]
  },
  {
   "cell_type": "code",
   "execution_count": null,
   "id": "e0ceaa4c-3164-4cf6-8b39-2208f3b205a0",
   "metadata": {},
   "outputs": [],
   "source": [
    "links = links.split('\\n')"
   ]
  },
  {
   "cell_type": "code",
   "execution_count": null,
   "id": "b2205378-4492-48a8-bcc0-8f0808d08ddd",
   "metadata": {},
   "outputs": [],
   "source": []
  },
  {
   "cell_type": "code",
   "execution_count": null,
   "id": "de990edb-d38d-46fb-ad5f-83d92e810d3a",
   "metadata": {
    "scrolled": true
   },
   "outputs": [],
   "source": [
    "\n",
    "for i, dl_link in enumerate(links):\n",
    "    dl_name = dl_link.split('=')[-1]\n",
    "    download_url(dl_link, dl_name)\n",
    "    print(dl_name)"
   ]
  },
  {
   "cell_type": "code",
   "execution_count": null,
   "id": "9ec5c543-d440-494d-a6ce-4af212b0db86",
   "metadata": {},
   "outputs": [],
   "source": []
  },
  {
   "cell_type": "code",
   "execution_count": null,
   "id": "54d0eeb3-06c8-4afe-92b4-561fd20aca15",
   "metadata": {
    "scrolled": true
   },
   "outputs": [],
   "source": [
    "for i, dl_link in enumerate(links[5:]):\n",
    "    dl_name = dl_link.split('=')[-1]\n",
    "    if dl_name == 'mazowieckie_bu.zip':\n",
    "        continue\n",
    "    gdf = gpd.read_file(dl_name)\n",
    "    gdf.to_parquet(DATADIR + f'buildings_poland_{dl_name[:-4]}.pq')"
   ]
  },
  {
   "cell_type": "code",
   "execution_count": null,
   "id": "a5550e1e-f3c7-4938-8720-ff43030dea8d",
   "metadata": {},
   "outputs": [],
   "source": [
    "!unzip mazowieckie_bu.zip"
   ]
  },
  {
   "cell_type": "code",
   "execution_count": null,
   "id": "86cad197-013a-480d-bcb9-c2c9a9694e60",
   "metadata": {},
   "outputs": [],
   "source": [
    "gpd.list_layers('mazowieckie_bu1.gml')"
   ]
  },
  {
   "cell_type": "code",
   "execution_count": null,
   "id": "8c3a5662-1c47-463a-b010-3abf6f639ad8",
   "metadata": {},
   "outputs": [],
   "source": [
    "gpd.list_layers('mazowieckie_bu2.gml')"
   ]
  },
  {
   "cell_type": "code",
   "execution_count": null,
   "id": "400e1ea5-3767-47af-af80-a26b5ae94cf3",
   "metadata": {},
   "outputs": [],
   "source": [
    "gdf = gpd.read_file('mazowieckie_bu1.gml')\n",
    "gdf.to_parquet(DATADIR + f'buildings_poland_mazowieckie_bu1.pq')\n",
    "\n",
    "gdf = gpd.read_file('mazowieckie_bu2.gml')\n",
    "gdf.to_parquet(DATADIR + f'buildings_poland_mazowieckie_bu2.pq')"
   ]
  },
  {
   "cell_type": "code",
   "execution_count": null,
   "id": "baf4af46-1c46-4233-9418-92ae19c8479d",
   "metadata": {},
   "outputs": [],
   "source": [
    "!rm mazowieckie_bu1.gml\n",
    "!rm mazowieckie_bu2.gml"
   ]
  },
  {
   "cell_type": "code",
   "execution_count": null,
   "id": "85f578dc-b6e5-498c-93b7-674ef02c146b",
   "metadata": {},
   "outputs": [],
   "source": []
  },
  {
   "cell_type": "code",
   "execution_count": null,
   "id": "0188896e-5ab2-4cbb-a1b1-03ac407fe6a7",
   "metadata": {},
   "outputs": [],
   "source": [
    "files = glob('/data/uscuni-ulce/cadastre_buildings_raw/buildings_poland*')\n",
    "frames = []\n",
    "for f in files:\n",
    "    gdf = gpd.read_parquet(f)\n",
    "    print(f)\n",
    "\n",
    "    # swap lon lat\n",
    "    coords = shapely.get_coordinates(gdf.geometry)\n",
    "    coords = coords[:, [1, 0]]\n",
    "    sizes = shapely.get_num_coordinates(gdf.geometry).values\n",
    "    polygon_id = np.repeat(np.arange(gdf.shape[0]), sizes)\n",
    "    new_geom = pd.DataFrame(coords).groupby(polygon_id).apply(lambda x: shapely.Polygon(x.values))\n",
    "    gdf['geometry'] = new_geom\n",
    "    \n",
    "    frames.append(gdf.to_crs(epsg=3035))\n",
    "    \n",
    "polish_gdf = pd.concat(frames, ignore_index=True)"
   ]
  },
  {
   "cell_type": "code",
   "execution_count": null,
   "id": "2823061c-dcba-4f7d-928e-43ac4f7a2350",
   "metadata": {},
   "outputs": [],
   "source": []
  },
  {
   "cell_type": "code",
   "execution_count": null,
   "id": "9b8b6059-c948-40c5-b94e-407540583546",
   "metadata": {},
   "outputs": [],
   "source": []
  },
  {
   "cell_type": "code",
   "execution_count": null,
   "id": "73fdf0c6-f982-4cc9-8eba-7c05eb102eff",
   "metadata": {},
   "outputs": [],
   "source": [
    "polish_gdf.to_parquet('/data/uscuni-ulce/cadastre_buildings_standardised/buildings_poland.pq')"
   ]
  },
  {
   "cell_type": "code",
   "execution_count": null,
   "id": "9ecc088f-c8fb-4020-8e5e-1cd745aa1b1c",
   "metadata": {},
   "outputs": [],
   "source": []
  },
  {
   "cell_type": "markdown",
   "id": "2210655a-85c3-411b-bfee-8a6696d0092b",
   "metadata": {
    "jp-MarkdownHeadingCollapsed": true
   },
   "source": [
    "## Download Czechia"
   ]
  },
  {
   "cell_type": "code",
   "execution_count": null,
   "id": "4c023939-2478-42f2-8a34-4ae67cd5750c",
   "metadata": {},
   "outputs": [],
   "source": []
  },
  {
   "cell_type": "code",
   "execution_count": null,
   "id": "d4594e6a-0705-4e7f-a1a9-8d873d34893a",
   "metadata": {},
   "outputs": [],
   "source": []
  },
  {
   "cell_type": "code",
   "execution_count": null,
   "id": "6f1689f4-62f8-428f-a3c8-fd53c4e91217",
   "metadata": {},
   "outputs": [],
   "source": []
  },
  {
   "cell_type": "code",
   "execution_count": null,
   "id": "09253950-55bf-4719-ad60-661d077d3bc2",
   "metadata": {},
   "outputs": [],
   "source": [
    "import httpx\n",
    "import pyogrio\n",
    "import geopandas as gpd\n",
    "from io import BytesIO\n",
    "import time\n",
    "\n",
    "url_adm = \"https://services.cuzk.cz/gml/inspire/au/epsg-4258/1.zip\"\n",
    "units = pyogrio.read_dataframe(url_adm, layer=\"AdministrativeUnit\")\n",
    "obce = units[units.LocalisedCharacterString == \"Obec\"]"
   ]
  },
  {
   "cell_type": "code",
   "execution_count": null,
   "id": "8e502fbb-5abb-40b7-86ba-8eb8bb53cebc",
   "metadata": {},
   "outputs": [],
   "source": [
    "obce"
   ]
  },
  {
   "cell_type": "code",
   "execution_count": null,
   "id": "93fe6d39-1196-49a0-8c60-e4e8bc0aee4b",
   "metadata": {},
   "outputs": [],
   "source": [
    "def process_czech_unit(code):\n",
    "    url_building = f\"https://services.cuzk.cz/gml/inspire/bu/epsg-4258/{code}.zip\"\n",
    "    r = httpx.get(url_building, verify=False)\n",
    "\n",
    "    gdf = gpd.read_file(BytesIO(r.content), layer='Building')\n",
    "\n",
    "    gdf.to_parquet(DATADIR + f'buildings_czechia_{code}.pq')"
   ]
  },
  {
   "cell_type": "code",
   "execution_count": null,
   "id": "f474d9be-37bf-4f33-9f73-6b2f2ad1a362",
   "metadata": {
    "scrolled": true
   },
   "outputs": [],
   "source": [
    "import warnings\n",
    "\n",
    "with warnings.catch_warnings():\n",
    "    warnings.simplefilter('ignore')\n",
    "    \n",
    "    for code in obce[\"nationalCode\"]:\n",
    "        try:\n",
    "            process_czech_unit(code)\n",
    "        except:\n",
    "            time.sleep(5)\n",
    "            process_czech_unit(code)"
   ]
  },
  {
   "cell_type": "code",
   "execution_count": null,
   "id": "0666bffc-70cc-4df6-8367-0457453664f4",
   "metadata": {},
   "outputs": [],
   "source": []
  },
  {
   "cell_type": "code",
   "execution_count": null,
   "id": "9669fe20-ffa8-4a6e-8874-7262505c926a",
   "metadata": {},
   "outputs": [],
   "source": [
    "files = glob('/data/uscuni-ulce/cadastre_buildings_raw/buildings_czechia*')\n",
    "frames = []\n",
    "for f in files:\n",
    "    gdf = gpd.read_parquet(f)\n",
    "    if gdf.shape[0]:\n",
    "        frames.append(gdf.to_crs(epsg=3035))\n",
    "gdf = pd.concat(frames, ignore_index=True)"
   ]
  },
  {
   "cell_type": "code",
   "execution_count": null,
   "id": "48459c6c-0abe-4e98-acfe-21c170e90def",
   "metadata": {},
   "outputs": [],
   "source": [
    "gdf.to_parquet('/data/uscuni-ulce/cadastre_buildings_standardised/buildings_czechia.pq')"
   ]
  },
  {
   "cell_type": "code",
   "execution_count": null,
   "id": "bb51d2df-e02b-4b60-b4db-3bb590f116f4",
   "metadata": {},
   "outputs": [],
   "source": []
  },
  {
   "cell_type": "code",
   "execution_count": null,
   "id": "540693cc-085d-4e6f-bef2-d78a391bf2b4",
   "metadata": {},
   "outputs": [],
   "source": []
  },
  {
   "cell_type": "code",
   "execution_count": null,
   "id": "19a0a873-a743-4952-ab4c-25796bd76144",
   "metadata": {},
   "outputs": [],
   "source": []
  },
  {
   "cell_type": "code",
   "execution_count": null,
   "id": "8d513f49-188f-4cfc-8421-71c9cf4ea163",
   "metadata": {},
   "outputs": [],
   "source": []
  },
  {
   "cell_type": "markdown",
   "id": "84839633-e8e9-469c-931c-ccf59e687c2c",
   "metadata": {
    "jp-MarkdownHeadingCollapsed": true
   },
   "source": [
    "## Download Slovakia"
   ]
  },
  {
   "cell_type": "code",
   "execution_count": null,
   "id": "e7c354ff-94e6-4044-ade0-35079d36cec2",
   "metadata": {},
   "outputs": [],
   "source": [
    "!wget https://opendata.skgeodesy.sk/static/INSPIRE/Buildings/inspire_bu_gpkg.zip --no-check-certificate"
   ]
  },
  {
   "cell_type": "code",
   "execution_count": null,
   "id": "ae85344b-17be-46b2-85b7-3176470e5cf6",
   "metadata": {},
   "outputs": [],
   "source": [
    "gdf = gpd.read_file('zip://inspire_bu_gpkg.zip!INSPIRE_BU.gpkg')"
   ]
  },
  {
   "cell_type": "code",
   "execution_count": null,
   "id": "948184c1-a079-4a9b-bd34-6b2654539fe2",
   "metadata": {},
   "outputs": [],
   "source": [
    "gdf.to_parquet('/data/uscuni-ulce/cadastre_buildings_standardised/buildings_slovakia.pq')"
   ]
  },
  {
   "cell_type": "code",
   "execution_count": null,
   "id": "a8d4e82b-af33-4c39-a0ba-04fb64899231",
   "metadata": {},
   "outputs": [],
   "source": [
    "!rm inspire_bu_gpkg.zip"
   ]
  },
  {
   "cell_type": "markdown",
   "id": "db338a95-4dc7-474c-be8f-edc6497d9321",
   "metadata": {
    "jp-MarkdownHeadingCollapsed": true
   },
   "source": [
    "## Download Austria"
   ]
  },
  {
   "cell_type": "code",
   "execution_count": null,
   "id": "225ea92e-6d51-4cd1-8fa3-6d020d5467f3",
   "metadata": {},
   "outputs": [],
   "source": [
    "austria = 'https://data.bev.gv.at/download/DLM/DLM_20230125/DLM_8000_BAUWERK_20230125.gpkg'"
   ]
  },
  {
   "cell_type": "code",
   "execution_count": null,
   "id": "dc18e92d-b4ef-4f02-abe8-d1067c5436c1",
   "metadata": {},
   "outputs": [],
   "source": [
    "%%time\n",
    "download_url(austria, '../data/DLM_8000_BAUWERK_20230125.gpkg')"
   ]
  },
  {
   "cell_type": "code",
   "execution_count": null,
   "id": "d187ef3c-53d3-4b61-8180-8733c0c922cf",
   "metadata": {},
   "outputs": [],
   "source": [
    "gpd.list_layers( '../data/DLM_8000_BAUWERK_20230125.gpkg')"
   ]
  },
  {
   "cell_type": "code",
   "execution_count": null,
   "id": "79c063ec-f3f1-431f-b49f-ca71f8068509",
   "metadata": {},
   "outputs": [],
   "source": [
    "import pyogrio"
   ]
  },
  {
   "cell_type": "code",
   "execution_count": null,
   "id": "88854935-1b14-43e9-92a3-bb8a98e9c8b4",
   "metadata": {},
   "outputs": [],
   "source": [
    "pyogrio.read_info('../data/DLM_8000_BAUWERK_20230125.gpkg', layer='BWK_8100_BAUWERK_F')"
   ]
  },
  {
   "cell_type": "code",
   "execution_count": null,
   "id": "7762594e-9fc4-45ca-80ce-4979717c3cf9",
   "metadata": {},
   "outputs": [],
   "source": [
    "gpd.read_file('../data/DLM_8000_BAUWERK_20230125.gpkg', layer='BWK_8100_BAUWERK_F').to_parquet('/data/uscuni-ulce/cadastre_buildings_standardised/buildings_austria.pq')"
   ]
  },
  {
   "cell_type": "code",
   "execution_count": null,
   "id": "6591b0ea-2b29-43b7-b99c-033798eabaad",
   "metadata": {},
   "outputs": [],
   "source": [
    "# !rm ../data/DLM_8000_BAUWERK_20230125.gpkg"
   ]
  }
 ],
 "metadata": {
  "kernelspec": {
   "display_name": "Python 3 (ipykernel)",
   "language": "python",
   "name": "python3"
  },
  "language_info": {
   "codemirror_mode": {
    "name": "ipython",
    "version": 3
   },
   "file_extension": ".py",
   "mimetype": "text/x-python",
   "name": "python",
   "nbconvert_exporter": "python",
   "pygments_lexer": "ipython3",
   "version": "3.12.5"
  }
 },
 "nbformat": 4,
 "nbformat_minor": 5
}
