{
 "cells": [
  {
   "cell_type": "code",
   "execution_count": 1,
   "id": "6b8e03df-ada7-4033-b81c-69f88406df7a",
   "metadata": {},
   "outputs": [],
   "source": [
    "import requests"
   ]
  },
  {
   "cell_type": "code",
   "execution_count": 2,
   "id": "591e590f-cab0-488d-bf50-5be26a013d80",
   "metadata": {},
   "outputs": [],
   "source": [
    "DATADIR = '/data/uscuni-ulce/cadastre_buildings_raw/'"
   ]
  },
  {
   "cell_type": "markdown",
   "id": "cff424bc-3b59-4b45-84a0-9f221ba07ea7",
   "metadata": {},
   "source": [
    "### Download german building footprints"
   ]
  },
  {
   "cell_type": "code",
   "execution_count": 3,
   "id": "161ff262-184a-4ccd-b6ac-8dc846b763ee",
   "metadata": {},
   "outputs": [],
   "source": [
    "import geopandas as gpd\n",
    "from io import BytesIO\n",
    "import re\n",
    "\n",
    "def process_wfs(region_name, url, params, count, start=0):\n",
    "    params = params.copy()\n",
    "    i = start\n",
    "    while True:\n",
    "        \n",
    "        print(i)\n",
    "        params['count'] = count,\n",
    "        params['startIndex'] = i,\n",
    "\n",
    "        # Make the request\n",
    "        response = requests.get(url, params=params)\n",
    "        \n",
    "        if response.status_code != 200:\n",
    "            print(i, count)\n",
    "            print(response.content)\n",
    "            break\n",
    "\n",
    "        try:\n",
    "            gdf = gpd.read_file(BytesIO(response.content))\n",
    "        except Exception as e:\n",
    "            print(e)\n",
    "            break\n",
    "            \n",
    "        gdf.to_parquet(DATADIR + f\"buildings_{region_name}_{i}.pq\")\n",
    "\n",
    "        i += count"
   ]
  },
  {
   "cell_type": "code",
   "execution_count": 4,
   "id": "e44d4ea3-2fe8-4068-9839-191b6954fadc",
   "metadata": {},
   "outputs": [],
   "source": [
    "def get_size(url, params):\n",
    "    params = params.copy()\n",
    "    params['resultType'] = 'hits'\n",
    "    response = requests.get(url, params=params)\n",
    "    if response.status_code == 200:\n",
    "        size = re.findall(r'numberMatched=\"[0-9]+\"', str(response.content))\n",
    "        size = int(size[0].split('=')[-1][1:-1])\n",
    "        return size\n",
    "\n",
    "    return 'unknown'"
   ]
  },
  {
   "cell_type": "code",
   "execution_count": null,
   "id": "cc0e9930-05c4-4cd9-aa1e-7686f24793f0",
   "metadata": {},
   "outputs": [],
   "source": []
  },
  {
   "cell_type": "code",
   "execution_count": 5,
   "id": "9fc00a34-4adc-4936-8c1c-dc453e4bbbc5",
   "metadata": {
    "scrolled": true
   },
   "outputs": [],
   "source": [
    "%%time\n",
    "\n",
    "# BB\n",
    "url = \"https://isk.geobasis-bb.de/ows/alkis_vereinf_wfs\"\n",
    "\n",
    "# Parameters for the GetFeature request\n",
    "\n",
    "params = {\n",
    "        \"SERVICE\": \"WFS\",\n",
    "        \"REQUEST\": \"GetFeature\",\n",
    "        \"TYPENAMES\": \"ave:GebaeudeBauwerk\",\n",
    "        \"SRSNAME\": \"EPSG:4326\",\n",
    "        \"VERSION\": '2.0.0',\n",
    "    }\n",
    "\n",
    "size = get_size(url, params)\n",
    "print(size)\n"
   ]
  },
  {
   "cell_type": "code",
   "execution_count": null,
   "id": "9f7d8046-e9cf-4ade-a993-cf05e9fe7f9d",
   "metadata": {},
   "outputs": [],
   "source": [
    "count = 100_000\n",
    "process_wfs(\"germany_brandeburg\", url, params, count)"
   ]
  },
  {
   "cell_type": "code",
   "execution_count": null,
   "id": "fe4f100d-517f-4e44-bb89-1914395e4d1b",
   "metadata": {
    "scrolled": true
   },
   "outputs": [],
   "source": []
  },
  {
   "cell_type": "code",
   "execution_count": null,
   "id": "0478b1b3-c506-46b7-987d-2fd7feda0584",
   "metadata": {},
   "outputs": [],
   "source": []
  },
  {
   "cell_type": "code",
   "execution_count": 9,
   "id": "ab00a568-1594-4645-9d1d-93627a6788e3",
   "metadata": {
    "scrolled": true
   },
   "outputs": [],
   "source": [
    "#hessen\n",
    "params = {\n",
    "        \"SERVICE\": \"WFS\",\n",
    "        \"REQUEST\": \"GetFeature\",\n",
    "        \"TYPENAMES\": \"bu-core2d:Building\",\n",
    "        \"SRSNAME\": \"EPSG:4326\",\n",
    "        \"VERSION\": '2.0.0',\n",
    "    }\n",
    "url = 'https://inspire-hessen.de/ows/services/org.2.29e99e26-ab08-474a-92c4-9e8f6bc679ea_wfs?'\n",
    "size = get_size(url, params)\n",
    "print(size)\n"
   ]
  },
  {
   "cell_type": "code",
   "execution_count": null,
   "id": "cee4481c-c6df-4ca1-9961-18e667de1e1b",
   "metadata": {},
   "outputs": [],
   "source": [
    "\n",
    "count = 100000\n",
    "process_wfs(\"germany_hessen\", url, params, count, start=3900000)"
   ]
  },
  {
   "cell_type": "code",
   "execution_count": 66,
   "id": "1b05dd60-cc6e-4b84-acbe-773a04ebe0c2",
   "metadata": {},
   "outputs": [],
   "source": []
  },
  {
   "cell_type": "code",
   "execution_count": null,
   "id": "d3bf9f64-dcfd-444c-b97c-01b09cb1ecfc",
   "metadata": {},
   "outputs": [],
   "source": []
  },
  {
   "cell_type": "code",
   "execution_count": null,
   "id": "320c759c-a228-475e-9c32-337d4eb652b3",
   "metadata": {},
   "outputs": [],
   "source": []
  },
  {
   "cell_type": "code",
   "execution_count": null,
   "id": "17a37d12-3009-4e47-94fd-aeff47815b9f",
   "metadata": {},
   "outputs": [],
   "source": []
  },
  {
   "cell_type": "code",
   "execution_count": 62,
   "id": "f4632ae2-d255-411b-93d2-22033ddbdfd7",
   "metadata": {},
   "outputs": [
    {
     "name": "stdout",
     "output_type": "stream",
     "text": [
      "2311799\n"
     ]
    }
   ],
   "source": [
    "#thuringen\n",
    "i = 0\n",
    "params = {\n",
    "        \"SERVICE\": \"WFS\",\n",
    "        \"REQUEST\": \"GetFeature\",\n",
    "        \"TYPENAMES\": \"ave:GebaeudeBauwerk\",\n",
    "        \"SRSNAME\": \"EPSG:5650\",\n",
    "        \"VERSION\": '2.0.0',\n",
    "    }\n",
    "\n",
    "url = ' https://www.geoproxy.geoportal-th.de/geoproxy/services/adv_alkis_wfs'\n",
    "size = get_size(url, params)\n",
    "print(size)\n"
   ]
  },
  {
   "cell_type": "code",
   "execution_count": null,
   "id": "673503fa-a8f2-4845-95e5-f707f44b05af",
   "metadata": {},
   "outputs": [],
   "source": [
    "count = 100000\n",
    "process_wfs(\"germany_th\", url, params, count)"
   ]
  },
  {
   "cell_type": "code",
   "execution_count": null,
   "id": "b69e4063-6325-4aee-a7fc-6ae270869e3e",
   "metadata": {},
   "outputs": [],
   "source": []
  },
  {
   "cell_type": "code",
   "execution_count": null,
   "id": "341040ac-48db-4b7d-ab2e-e210b1a2200e",
   "metadata": {},
   "outputs": [],
   "source": []
  },
  {
   "cell_type": "code",
   "execution_count": null,
   "id": "19b648bf-ad82-4199-9fd2-34ef84719536",
   "metadata": {},
   "outputs": [],
   "source": []
  },
  {
   "cell_type": "code",
   "execution_count": null,
   "id": "facc508c-da3f-4cb9-a724-535d357edbc7",
   "metadata": {},
   "outputs": [],
   "source": []
  },
  {
   "cell_type": "code",
   "execution_count": 87,
   "id": "e9ce2cf7-6244-4497-a344-045814c56627",
   "metadata": {},
   "outputs": [
    {
     "name": "stdout",
     "output_type": "stream",
     "text": [
      "2279561\n"
     ]
    }
   ],
   "source": [
    "#sachsen\n",
    "i = 0\n",
    "params = {\n",
    "        \"SERVICE\": \"WFS\",\n",
    "        \"REQUEST\": \"GetFeature\",\n",
    "        \"TYPENAMES\": \"ave:GebaeudeBauwerk\",\n",
    "        \"SRSNAME\": \"EPSG:25833\",\n",
    "        \"VERSION\": '2.0.0',\n",
    "    }\n",
    "url = 'https://geodienste.sachsen.de/aaa/public_alkis/vereinf/wfs'\n",
    "\n",
    "size = get_size(url, params)\n",
    "print(size)"
   ]
  },
  {
   "cell_type": "code",
   "execution_count": 89,
   "id": "29a31d2c-f09e-4c8a-aabd-47d8143a9ce4",
   "metadata": {},
   "outputs": [],
   "source": [
    "# count = 10000\n",
    "# process_wfs(\"germany_sachsen\", url, params, count)"
   ]
  },
  {
   "cell_type": "code",
   "execution_count": null,
   "id": "8709f3f5-c4bf-4f64-a96c-55b5093b1138",
   "metadata": {},
   "outputs": [],
   "source": []
  },
  {
   "cell_type": "code",
   "execution_count": null,
   "id": "d17dcc80-8afc-42d7-b93b-4cc522d46695",
   "metadata": {},
   "outputs": [],
   "source": []
  },
  {
   "cell_type": "code",
   "execution_count": null,
   "id": "06463d03-1d66-438a-8a22-506d7fbe1e86",
   "metadata": {},
   "outputs": [],
   "source": []
  },
  {
   "cell_type": "code",
   "execution_count": null,
   "id": "f74b3c89-a3e6-4b8e-bb80-4c3a09996e61",
   "metadata": {},
   "outputs": [],
   "source": []
  },
  {
   "cell_type": "code",
   "execution_count": null,
   "id": "63bd9940-473d-4301-b28d-98d715a8f32b",
   "metadata": {},
   "outputs": [],
   "source": []
  },
  {
   "cell_type": "code",
   "execution_count": null,
   "id": "9f150c56-4394-4014-9349-0d89bf0f6a69",
   "metadata": {},
   "outputs": [],
   "source": []
  },
  {
   "cell_type": "code",
   "execution_count": 112,
   "id": "36911c25-92c7-48f7-9ab3-8efeb872f87a",
   "metadata": {},
   "outputs": [
    {
     "name": "stdout",
     "output_type": "stream",
     "text": [
      "1737127\n"
     ]
    }
   ],
   "source": [
    "#sachsen-anhalt\n",
    "i = 0\n",
    "params = {\n",
    "        \"SERVICE\": \"WFS\",\n",
    "        \"REQUEST\": \"GetFeature\",\n",
    "        \"TYPENAMES\": \"bu-core2d:Building\",\n",
    "        \"SRSNAME\": \"EPSG:25833\",\n",
    "        \"VERSION\": '2.0.0',\n",
    "    }\n",
    "url = 'https://www.geodatenportal.sachsen-anhalt.de/wss/service/INSPIRE_LVermGeo_WFS_ALKIS_BU/guest'\n",
    "size = get_size(url, params)\n",
    "print(size)\n"
   ]
  },
  {
   "cell_type": "code",
   "execution_count": 101,
   "id": "961c638c-7e3b-4dc2-ad72-9f60d6f36da0",
   "metadata": {},
   "outputs": [],
   "source": [
    "\n",
    "# count = 10_000\n",
    "# process_wfs(\"germany_sachsen-anhalt\", url, params, count)"
   ]
  },
  {
   "cell_type": "code",
   "execution_count": null,
   "id": "31669f51-7f2e-4ad5-ab3e-52764a99f339",
   "metadata": {},
   "outputs": [],
   "source": []
  },
  {
   "cell_type": "code",
   "execution_count": null,
   "id": "12dafe99-cc8c-4a8b-84c2-7d086f4fc67f",
   "metadata": {},
   "outputs": [],
   "source": []
  },
  {
   "cell_type": "code",
   "execution_count": 130,
   "id": "2eca9508-e059-4ea1-8dbc-a4a74ca2797b",
   "metadata": {},
   "outputs": [
    {
     "name": "stdout",
     "output_type": "stream",
     "text": [
      "6444465\n"
     ]
    }
   ],
   "source": [
    "#baddwen_wurteburd\n",
    "params = {\n",
    "        \"SERVICE\": \"WFS\",\n",
    "        \"REQUEST\": \"GetFeature\",\n",
    "        \"TYPENAMES\": \"bu-core2d:Building\",\n",
    "        \"SRSNAME\": \"EPSG:25833\",\n",
    "        \"VERSION\": '2.0.0',\n",
    "    }\n",
    "url = 'https://owsproxy.lgl-bw.de/owsproxy/wfs/WFS_INSP_BW_Gebaeude_ALKIS'\n",
    "\n",
    "size = get_size(url, params)\n",
    "print(size)"
   ]
  },
  {
   "cell_type": "code",
   "execution_count": 138,
   "id": "83b2156b-3e7d-4c1f-a292-d94f6c99bf30",
   "metadata": {},
   "outputs": [],
   "source": [
    "\n",
    "# count = 10000\n",
    "# process_wfs(\"germany_bw\", url, params, count)"
   ]
  },
  {
   "cell_type": "code",
   "execution_count": null,
   "id": "c691264a-b0a6-46b6-a201-92481cf82c45",
   "metadata": {},
   "outputs": [],
   "source": []
  },
  {
   "cell_type": "code",
   "execution_count": null,
   "id": "209b68d9-f084-4386-89c9-70b6463d69f6",
   "metadata": {},
   "outputs": [],
   "source": []
  },
  {
   "cell_type": "code",
   "execution_count": 195,
   "id": "eb6324b6-30cb-4b22-b3ec-b5ca1ad1f255",
   "metadata": {},
   "outputs": [
    {
     "name": "stdout",
     "output_type": "stream",
     "text": [
      "1511688\n"
     ]
    }
   ],
   "source": [
    "#movmovi - vavdfav\n",
    "i = 0\n",
    "params = {\n",
    "        \"SERVICE\": \"WFS\",\n",
    "        \"REQUEST\": \"GetFeature\",\n",
    "        \"TYPENAMES\": \"ave:GebaeudeBauwerk\",\n",
    "        \"SRSNAME\": \"EPSG:5650\",\n",
    "        \"VERSION\": '2.0.0',\n",
    "    }\n",
    "url = 'https://www.geodaten-mv.de/dienste/alkis_wfs_einfach'\n",
    "size = get_size(url, params)\n",
    "print(size)\n"
   ]
  },
  {
   "cell_type": "code",
   "execution_count": 197,
   "id": "263702e7-fb73-40f9-8fc1-a30f3dbd7690",
   "metadata": {},
   "outputs": [],
   "source": [
    "count = 10000\n",
    "process_wfs(\"germany_mv\", url, params, count)"
   ]
  },
  {
   "cell_type": "code",
   "execution_count": null,
   "id": "7c3b28c5-b9b4-4e92-874b-1b38cbb6b746",
   "metadata": {},
   "outputs": [],
   "source": []
  },
  {
   "cell_type": "code",
   "execution_count": null,
   "id": "f21e25cd-8afb-4610-b8f4-c5c81fc7a7c5",
   "metadata": {},
   "outputs": [],
   "source": []
  },
  {
   "cell_type": "code",
   "execution_count": null,
   "id": "6d751df4-90a0-46da-8bab-cf5b9bc991c3",
   "metadata": {},
   "outputs": [],
   "source": []
  },
  {
   "cell_type": "code",
   "execution_count": 189,
   "id": "3f0a6883-4ef7-4b1b-ac32-8083107dc66d",
   "metadata": {},
   "outputs": [],
   "source": [
    "### RLP\n",
    "\n",
    "# # https://www.geoportal.rlp.de/mapbender/php/mod_inspireDownloadFeed.php?id=30cc0a9a-cbad-66e3-68a5-7b75544814d8&type=DATASET&generateFrom=wfs&wfsid=519&featuretypeid=2713\n",
    "# #rlp\n",
    "# i = 0\n",
    "# params = {\n",
    "#         \"SERVICE\": \"WFS\",\n",
    "#         \"REQUEST\": \"GetFeature\",\n",
    "#         \"TYPENAMES\": \"bu-core2d:Building\",\n",
    "#         \"SRSNAME\": \"EPSG:25832\",\n",
    "#         \"VERSION\": '2.0.0',\n",
    "#     }\n",
    "# url = 'https://www.geoportal.rlp.de/registry/wfs/519'\n",
    "# size = get_size(url, params)\n",
    "# print(size)\n",
    "\n",
    "\n",
    "# # count = 100000\n",
    "# # process_wfs(\"germany_rlp\", url, params, count)\n",
    "\n",
    "\n",
    "for i in range(0, 3320444, 4000):\n",
    "    url = f'https://www.geoportal.rlp.de/spatial-objects/519/collections/ave:GebaeudeBauwerk/items?offset={i}&limit=4000&f=json'\n",
    "    gdf = gpd.read_file(url)\n",
    "    gdf.to_parquet(DATADIR + f'buildings_germany_rlp_{i}.pq')\n",
    "    print(i)"
   ]
  },
  {
   "cell_type": "code",
   "execution_count": 193,
   "id": "bc5d7e81-3574-4780-936d-10bc41e583a3",
   "metadata": {},
   "outputs": [
    {
     "name": "stdout",
     "output_type": "stream",
     "text": [
      "622841\n"
     ]
    }
   ],
   "source": []
  },
  {
   "cell_type": "code",
   "execution_count": 194,
   "id": "08359e0a-a397-4432-ad7f-c47436c5785f",
   "metadata": {},
   "outputs": [],
   "source": [
    "\n",
    "# # #saarland\n",
    "# # i = 0\n",
    "# # params = {\n",
    "# #         \"SERVICE\": \"WFS\",\n",
    "# #         \"REQUEST\": \"GetFeature\",\n",
    "# #         \"TYPENAMES\": \"bu-core2d:Building\",\n",
    "# #         \"SRSNAME\": \"EPSG:4326\",\n",
    "# #         \"VERSION\": '2.0.0',\n",
    "# #     }\n",
    "# # url = 'https://geoportal.saarland.de/gdi-sl/inspirewfs_2D_Gebaeude_ALKIS'\n",
    "# # size = get_size(url, params)\n",
    "# # print(size)\n",
    "\n",
    "# # params['count'] = size\n",
    "# # response = requests.get(url, params=params)\n",
    "\n",
    "\n",
    "for i in range(0, 622841, 500):\n",
    "    url = f'https://geoportal.saarland.de/spatial-objects/406/collections/bu-core2d:Building/items?offset={i}&limit=500&f=json'\n",
    "    gdf = gpd.read_file(url)\n",
    "    gdf.to_parquet(DATADIR + f'buildings_germany_saarland_{i}.pq')\n",
    "    print(i)"
   ]
  },
  {
   "cell_type": "code",
   "execution_count": null,
   "id": "86b635a6-1655-4093-89f9-c50e2715eb96",
   "metadata": {},
   "outputs": [],
   "source": []
  },
  {
   "cell_type": "code",
   "execution_count": null,
   "id": "ff5da58f-c9bf-4f6e-a909-80e36227ef81",
   "metadata": {},
   "outputs": [],
   "source": []
  },
  {
   "cell_type": "code",
   "execution_count": null,
   "id": "0756b44f-32bd-485e-a716-16bf7ad8437e",
   "metadata": {},
   "outputs": [],
   "source": []
  },
  {
   "cell_type": "code",
   "execution_count": 214,
   "id": "ff502a0a-69a0-459b-8653-9173e0b5e4da",
   "metadata": {},
   "outputs": [],
   "source": [
    "# #nrw\n",
    "# i = 0\n",
    "# params = {\n",
    "#         \"SERVICE\": \"WFS\",\n",
    "#         \"REQUEST\": \"GetFeature\",\n",
    "#         \"TYPENAMES\": \"bu-core2d:Building\",\n",
    "#         \"SRSNAME\": \"EPSG:4326\",\n",
    "#         \"VERSION\": '2.0.0',\n",
    "#     }\n",
    "# url = 'https://www.wfs.nrw.de/geobasis/wfs_nw_inspire-gebaeude-2d_alkis'\n",
    "\n",
    "# size = get_size(url, params)\n",
    "# size\n",
    "# count = 10000\n",
    "# process_wfs(\"germany_nrw\", url, params, count, start=)\n",
    "\n",
    "step = 5_000\n",
    "\n",
    "for i in range(0, 12646244, step):\n",
    "    url = f'https://ogc-api.nrw.de/lika/v1/collections/gebaeude_bauwerk/items?offset={i}&limit={step}&f=json'\n",
    "    gdf = gpd.read_file(url)\n",
    "    gdf.to_parquet(DATADIR + f'buildings_germany_nrw_{i}.pq')\n",
    "    print(i, gdf.shape)"
   ]
  },
  {
   "cell_type": "code",
   "execution_count": null,
   "id": "366d4189-f555-40b1-98a7-d306ca8e43da",
   "metadata": {},
   "outputs": [],
   "source": []
  },
  {
   "cell_type": "code",
   "execution_count": null,
   "id": "69952ed0-812f-42b1-84bc-ac2e405772d1",
   "metadata": {},
   "outputs": [],
   "source": []
  },
  {
   "cell_type": "code",
   "execution_count": null,
   "id": "539aebdd-f35c-412e-8231-35b5920cda0d",
   "metadata": {},
   "outputs": [],
   "source": []
  },
  {
   "cell_type": "code",
   "execution_count": null,
   "id": "aa2c8bbb-c004-42cc-bd38-008dc6a00316",
   "metadata": {},
   "outputs": [],
   "source": [
    "## NI"
   ]
  },
  {
   "cell_type": "code",
   "execution_count": null,
   "id": "6b8fa411-6c5f-437b-b59d-067a902b7c2b",
   "metadata": {},
   "outputs": [],
   "source": [
    "# https://ni-lgln-opengeodata.hub.arcgis.com/apps/1cadea38ffb341bc83019b3d7f787dd3/explore\n",
    "\n",
    "\n",
    "# #niedersachsen\n",
    "# i = 0\n",
    "# params = {\n",
    "#         \"SERVICE\": \"WFS\",\n",
    "#         \"REQUEST\": \"GetFeature\",\n",
    "#         \"TYPENAMES\": \"bu-core2d:Building\",\n",
    "#         \"VERSION\": '2.0.0',\n",
    "#     }\n",
    "# url = 'https://www.inspire.niedersachsen.de/doorman/noauth/alkis-dls-bu-core2d?'\n",
    "\n",
    "# size = get_size(url, params)\n",
    "# print(size)\n",
    "\n",
    "# count = 10000\n",
    "# process_wfs(\"germany_niedersachsen\", url, params, count)"
   ]
  },
  {
   "cell_type": "code",
   "execution_count": 245,
   "id": "2568dfee-f839-40ec-b133-bdad7800b99f",
   "metadata": {},
   "outputs": [],
   "source": [
    "links = gpd.read_file('https://arcgis-geojson.s3.eu-de.cloud-object-storage.appdomain.cloud/alkis-vektor/lgln-opengeodata-alkis-vektor.geojson')"
   ]
  },
  {
   "cell_type": "code",
   "execution_count": 261,
   "id": "ee99aaff-ffb3-44ff-b259-a8c7836ceef0",
   "metadata": {},
   "outputs": [],
   "source": [
    "for link in links.zip.values:\n",
    "    gdf = gpd.read_file(link, layer='gebaeude')\n",
    "    gdf.to_parquet(DATADIR + f'buildings_germany_ni_{link.split('/')[-1][:-9]}.pq')"
   ]
  },
  {
   "cell_type": "code",
   "execution_count": null,
   "id": "09d5abf7-63c4-4609-9bf6-8e96faa0ac09",
   "metadata": {},
   "outputs": [],
   "source": []
  },
  {
   "cell_type": "code",
   "execution_count": null,
   "id": "71c3b3fb-bde1-4a81-86f5-c01f01fe3ee9",
   "metadata": {},
   "outputs": [],
   "source": []
  },
  {
   "cell_type": "code",
   "execution_count": null,
   "id": "df8f291e-316a-4dc8-9039-b290d58a2d17",
   "metadata": {},
   "outputs": [],
   "source": []
  },
  {
   "cell_type": "code",
   "execution_count": null,
   "id": "0169912f-b574-4d2c-8627-02bd0c0e3fad",
   "metadata": {},
   "outputs": [],
   "source": []
  },
  {
   "cell_type": "code",
   "execution_count": null,
   "id": "88950ad1-886e-4103-bd01-97cfdf370371",
   "metadata": {},
   "outputs": [],
   "source": [
    "# ## schlesig hollstein\n",
    "# params = {\n",
    "#         \"SERVICE\": \"WFS\",\n",
    "#         \"REQUEST\": \"GetFeature\",\n",
    "#         \"TYPENAMES\": \"bu-core2d:Building\",\n",
    "#         \"SRSNAME\": \"EPSG:4326\",\n",
    "#         \"VERSION\": '2.0.0',\n",
    "#     }\n",
    "# url = 'https://service.gdi-sh.de/SH_INSPIREDOWNLOAD_AIII_BU?service=WFS&version=2.0.0'\n",
    "\n",
    "# size = get_size(url, params)\n",
    "# print(size)\n",
    "\n",
    "\n",
    "\n",
    "count = 10_000\n",
    "process_wfs(\"germany_sh\", url, params, count)"
   ]
  },
  {
   "cell_type": "code",
   "execution_count": 271,
   "id": "501038a8-8ddf-433c-a824-a8975a9acf83",
   "metadata": {},
   "outputs": [
    {
     "name": "stdout",
     "output_type": "stream",
     "text": [
      "--2024-08-09 20:07:13--  https://service.gdi-sh.de/SH_OpenGBD/feeds/Atom_SH_ALKIS_vereinf_OpenGBD/Atom_SH_ALKIS_vereinf_OpenGBD.xml\n",
      "Resolving service.gdi-sh.de (service.gdi-sh.de)... 141.91.173.104\n",
      "Connecting to service.gdi-sh.de (service.gdi-sh.de)|141.91.173.104|:443... connected.\n",
      "HTTP request sent, awaiting response... 200 OK\n",
      "Length: unspecified [application/xml]\n",
      "Saving to: ‘Atom_SH_ALKIS_vereinf_OpenGBD.xml’\n",
      "\n",
      "Atom_SH_ALKIS_verei     [         <=>        ]   1,69M  1,02MB/s    in 1,7s    \n",
      "\n",
      "2024-08-09 20:07:15 (1,02 MB/s) - ‘Atom_SH_ALKIS_vereinf_OpenGBD.xml’ saved [1772659]\n",
      "\n"
     ]
    }
   ],
   "source": [
    "!wget https://service.gdi-sh.de/SH_OpenGBD/feeds/Atom_SH_ALKIS_vereinf_OpenGBD/Atom_SH_ALKIS_vereinf_OpenGBD.xml"
   ]
  },
  {
   "cell_type": "code",
   "execution_count": 289,
   "id": "e136b441-6b9c-4e2a-8649-d92e401dc2a4",
   "metadata": {},
   "outputs": [],
   "source": [
    "import xml.etree.ElementTree as ET\n",
    "\n",
    "# Load the XML file\n",
    "tree = ET.parse('Atom_SH_ALKIS_vereinf_OpenGBD.xml')\n",
    "root = tree.getroot()\n",
    "\n",
    "\n",
    "# Define the namespaces\n",
    "namespaces = {\n",
    "    'atom': 'http://www.w3.org/2005/Atom',\n",
    "    'georss': 'http://www.georss.org/georss',\n",
    "    'inspire_dls': 'http://inspire.ec.europa.eu/schemas/inspire_dls/1.0',\n",
    "    'lang': 'ger'\n",
    "}\n",
    "\n",
    "# Find all elements with the tag 'entry'\n",
    "entries = root.findall('atom:entry', namespaces)\n",
    "codes = []\n",
    "\n",
    "# Extract and print the 'inspire_dls:spatial_dataset_identifier_code' attribute for each entry\n",
    "for entry in entries:\n",
    "    # Find the 'inspire_dls:spatial_dataset_identifier_code' element within the entry\n",
    "    spatial_code = entry.find('inspire_dls:spatial_dataset_identifier_code', namespaces)\n",
    "    codes.append(spatial_code.text)"
   ]
  },
  {
   "cell_type": "code",
   "execution_count": 291,
   "id": "96fcfaa9-6899-4ede-8e84-78d69fadb983",
   "metadata": {},
   "outputs": [
    {
     "name": "stderr",
     "output_type": "stream",
     "text": [
      "/home/krasen/miniconda3/envs/urban_taxonomy/lib/python3.12/site-packages/pyogrio/raw.py:196: RuntimeWarning: driver GML does not support open option DRIVER\n",
      "  return ogr_read(\n",
      "/home/krasen/miniconda3/envs/urban_taxonomy/lib/python3.12/site-packages/pyogrio/raw.py:196: RuntimeWarning: Field with same name (identifier) already exists in (GebaeudeBauwerk). Skipping newer ones\n",
      "  return ogr_read(\n"
     ]
    }
   ],
   "source": [
    "for code in codes:\n",
    "    url = f'https://dienste.gdi-sh.de/WFS_SH_ALKIS_vereinf_OpenGBD?Request=GetFeature&Service=WFS&Version=2.0.0&gemeindeschluessel={code}&StoredQuery_ID=GetGebByGemeinde'\n",
    "    gdf = gpd.read_file(url, driver='GML')\n",
    "    gdf.to_parquet(DATADIR + f'buildings_germany_sg_{code}.pq')"
   ]
  },
  {
   "cell_type": "code",
   "execution_count": null,
   "id": "39645f00-4ac2-4819-ae99-afe282e1c3ab",
   "metadata": {},
   "outputs": [],
   "source": []
  },
  {
   "cell_type": "code",
   "execution_count": 292,
   "id": "4d68a1f3-36e4-4b93-b4e5-76d54da5ca51",
   "metadata": {},
   "outputs": [
    {
     "data": {
      "text/html": [
       "<div>\n",
       "<style scoped>\n",
       "    .dataframe tbody tr th:only-of-type {\n",
       "        vertical-align: middle;\n",
       "    }\n",
       "\n",
       "    .dataframe tbody tr th {\n",
       "        vertical-align: top;\n",
       "    }\n",
       "\n",
       "    .dataframe thead th {\n",
       "        text-align: right;\n",
       "    }\n",
       "</style>\n",
       "<table border=\"1\" class=\"dataframe\">\n",
       "  <thead>\n",
       "    <tr style=\"text-align: right;\">\n",
       "      <th></th>\n",
       "      <th>gml_id</th>\n",
       "      <th>identifier</th>\n",
       "      <th>oid</th>\n",
       "      <th>aktualit</th>\n",
       "      <th>gebnutzbez</th>\n",
       "      <th>funktion</th>\n",
       "      <th>gmdschl</th>\n",
       "      <th>gfkzshh</th>\n",
       "      <th>anzahlgs</th>\n",
       "      <th>lagebeztxt</th>\n",
       "      <th>name</th>\n",
       "      <th>rellage</th>\n",
       "      <th>geometry</th>\n",
       "    </tr>\n",
       "  </thead>\n",
       "  <tbody>\n",
       "    <tr>\n",
       "      <th>0</th>\n",
       "      <td>DESHPDHK0008opPvBL</td>\n",
       "      <td>urn:adv:oid:DESHPDHK0008opPvBL</td>\n",
       "      <td>DESHPDHK0008opPvBL</td>\n",
       "      <td>2024-04-05Z</td>\n",
       "      <td>Bauteil</td>\n",
       "      <td>Wintergarten</td>\n",
       "      <td>1001000</td>\n",
       "      <td>None</td>\n",
       "      <td>NaN</td>\n",
       "      <td>None</td>\n",
       "      <td>None</td>\n",
       "      <td>None</td>\n",
       "      <td>MULTIPOLYGON (((531079.25 6073267.187, 531083....</td>\n",
       "    </tr>\n",
       "    <tr>\n",
       "      <th>1</th>\n",
       "      <td>DESHPDHK0006brXOBL</td>\n",
       "      <td>urn:adv:oid:DESHPDHK0006brXOBL</td>\n",
       "      <td>DESHPDHK0006brXOBL</td>\n",
       "      <td>2023-12-15Z</td>\n",
       "      <td>Sonstiges Bauwerk oder sonstige Einrichtung</td>\n",
       "      <td>Carport</td>\n",
       "      <td>1001000</td>\n",
       "      <td>51009_1611</td>\n",
       "      <td>NaN</td>\n",
       "      <td>None</td>\n",
       "      <td>None</td>\n",
       "      <td>None</td>\n",
       "      <td>MULTIPOLYGON (((526579.488 6073409.958, 526580...</td>\n",
       "    </tr>\n",
       "    <tr>\n",
       "      <th>2</th>\n",
       "      <td>DESHPDHK0005EcGoBL</td>\n",
       "      <td>urn:adv:oid:DESHPDHK0005EcGoBL</td>\n",
       "      <td>DESHPDHK0005EcGoBL</td>\n",
       "      <td>2023-12-15Z</td>\n",
       "      <td>Bauteil</td>\n",
       "      <td>Wintergarten</td>\n",
       "      <td>1001000</td>\n",
       "      <td>None</td>\n",
       "      <td>NaN</td>\n",
       "      <td>None</td>\n",
       "      <td>None</td>\n",
       "      <td>None</td>\n",
       "      <td>MULTIPOLYGON (((526551.785 6073461.127, 526552...</td>\n",
       "    </tr>\n",
       "    <tr>\n",
       "      <th>3</th>\n",
       "      <td>DESHPDHK0004UgCzBL</td>\n",
       "      <td>urn:adv:oid:DESHPDHK0004UgCzBL</td>\n",
       "      <td>DESHPDHK0004UgCzBL</td>\n",
       "      <td>2024-05-15Z</td>\n",
       "      <td>Sonstiges Bauwerk oder sonstige Einrichtung</td>\n",
       "      <td>Überdachung</td>\n",
       "      <td>1001000</td>\n",
       "      <td>51009_1610</td>\n",
       "      <td>NaN</td>\n",
       "      <td>None</td>\n",
       "      <td>None</td>\n",
       "      <td>None</td>\n",
       "      <td>MULTIPOLYGON (((527513.823 6073293.887, 527515...</td>\n",
       "    </tr>\n",
       "    <tr>\n",
       "      <th>4</th>\n",
       "      <td>DESHPDHK0004UgCxBL</td>\n",
       "      <td>urn:adv:oid:DESHPDHK0004UgCxBL</td>\n",
       "      <td>DESHPDHK0004UgCxBL</td>\n",
       "      <td>2024-05-15Z</td>\n",
       "      <td>Sonstiges Bauwerk oder sonstige Einrichtung</td>\n",
       "      <td>Überdachung</td>\n",
       "      <td>1001000</td>\n",
       "      <td>51009_1610</td>\n",
       "      <td>NaN</td>\n",
       "      <td>None</td>\n",
       "      <td>None</td>\n",
       "      <td>None</td>\n",
       "      <td>MULTIPOLYGON (((527415.207 6073228.56, 527417....</td>\n",
       "    </tr>\n",
       "    <tr>\n",
       "      <th>...</th>\n",
       "      <td>...</td>\n",
       "      <td>...</td>\n",
       "      <td>...</td>\n",
       "      <td>...</td>\n",
       "      <td>...</td>\n",
       "      <td>...</td>\n",
       "      <td>...</td>\n",
       "      <td>...</td>\n",
       "      <td>...</td>\n",
       "      <td>...</td>\n",
       "      <td>...</td>\n",
       "      <td>...</td>\n",
       "      <td>...</td>\n",
       "    </tr>\n",
       "    <tr>\n",
       "      <th>41216</th>\n",
       "      <td>DESHPDHK00090fNpBL</td>\n",
       "      <td>urn:adv:oid:DESHPDHK00090fNpBL</td>\n",
       "      <td>DESHPDHK00090fNpBL</td>\n",
       "      <td>2024-03-05Z</td>\n",
       "      <td>Sonstiges Bauwerk oder sonstige Einrichtung</td>\n",
       "      <td>Überdachung</td>\n",
       "      <td>1001000</td>\n",
       "      <td>51009_1610</td>\n",
       "      <td>NaN</td>\n",
       "      <td>None</td>\n",
       "      <td>None</td>\n",
       "      <td>None</td>\n",
       "      <td>MULTIPOLYGON (((530772.49 6070077.295, 530782....</td>\n",
       "    </tr>\n",
       "    <tr>\n",
       "      <th>41217</th>\n",
       "      <td>DESHPDHK00090fNeBL</td>\n",
       "      <td>urn:adv:oid:DESHPDHK00090fNeBL</td>\n",
       "      <td>DESHPDHK00090fNeBL</td>\n",
       "      <td>2024-03-05Z</td>\n",
       "      <td>Gebäude</td>\n",
       "      <td>Garage</td>\n",
       "      <td>1001000</td>\n",
       "      <td>31001_2463</td>\n",
       "      <td>1.0</td>\n",
       "      <td>None</td>\n",
       "      <td>None</td>\n",
       "      <td>None</td>\n",
       "      <td>MULTIPOLYGON (((530772.093 6070085.06, 530774....</td>\n",
       "    </tr>\n",
       "    <tr>\n",
       "      <th>41218</th>\n",
       "      <td>DESHPDHK00090fNIBL</td>\n",
       "      <td>urn:adv:oid:DESHPDHK00090fNIBL</td>\n",
       "      <td>DESHPDHK00090fNIBL</td>\n",
       "      <td>2024-03-05Z</td>\n",
       "      <td>Bauteil</td>\n",
       "      <td>Zurückspringendes Geschoss</td>\n",
       "      <td>1001000</td>\n",
       "      <td>None</td>\n",
       "      <td>NaN</td>\n",
       "      <td>None</td>\n",
       "      <td>None</td>\n",
       "      <td>None</td>\n",
       "      <td>MULTIPOLYGON (((530775.271 6070079.405, 530783...</td>\n",
       "    </tr>\n",
       "    <tr>\n",
       "      <th>41219</th>\n",
       "      <td>DESHPDHK00090fNCBL</td>\n",
       "      <td>urn:adv:oid:DESHPDHK00090fNCBL</td>\n",
       "      <td>DESHPDHK00090fNCBL</td>\n",
       "      <td>2024-03-05Z</td>\n",
       "      <td>Bauteil</td>\n",
       "      <td>Auskragender Geschossteil</td>\n",
       "      <td>1001000</td>\n",
       "      <td>None</td>\n",
       "      <td>NaN</td>\n",
       "      <td>None</td>\n",
       "      <td>None</td>\n",
       "      <td>None</td>\n",
       "      <td>MULTIPOLYGON (((530780.586 6070089.58, 530786....</td>\n",
       "    </tr>\n",
       "    <tr>\n",
       "      <th>41220</th>\n",
       "      <td>DESHPDHK0002GZsHBL</td>\n",
       "      <td>urn:adv:oid:DESHPDHK0002GZsHBL</td>\n",
       "      <td>DESHPDHK0002GZsHBL</td>\n",
       "      <td>2011-05-25Z</td>\n",
       "      <td>Gebäude</td>\n",
       "      <td>Betriebsgebäude für Schienenverkehr</td>\n",
       "      <td>1001000</td>\n",
       "      <td>31001_2420</td>\n",
       "      <td>NaN</td>\n",
       "      <td>None</td>\n",
       "      <td></td>\n",
       "      <td>None</td>\n",
       "      <td>MULTIPOLYGON (((525794.156 6068320.171, 525794...</td>\n",
       "    </tr>\n",
       "  </tbody>\n",
       "</table>\n",
       "<p>41221 rows × 13 columns</p>\n",
       "</div>"
      ],
      "text/plain": [
       "                   gml_id                      identifier                 oid  \\\n",
       "0      DESHPDHK0008opPvBL  urn:adv:oid:DESHPDHK0008opPvBL  DESHPDHK0008opPvBL   \n",
       "1      DESHPDHK0006brXOBL  urn:adv:oid:DESHPDHK0006brXOBL  DESHPDHK0006brXOBL   \n",
       "2      DESHPDHK0005EcGoBL  urn:adv:oid:DESHPDHK0005EcGoBL  DESHPDHK0005EcGoBL   \n",
       "3      DESHPDHK0004UgCzBL  urn:adv:oid:DESHPDHK0004UgCzBL  DESHPDHK0004UgCzBL   \n",
       "4      DESHPDHK0004UgCxBL  urn:adv:oid:DESHPDHK0004UgCxBL  DESHPDHK0004UgCxBL   \n",
       "...                   ...                             ...                 ...   \n",
       "41216  DESHPDHK00090fNpBL  urn:adv:oid:DESHPDHK00090fNpBL  DESHPDHK00090fNpBL   \n",
       "41217  DESHPDHK00090fNeBL  urn:adv:oid:DESHPDHK00090fNeBL  DESHPDHK00090fNeBL   \n",
       "41218  DESHPDHK00090fNIBL  urn:adv:oid:DESHPDHK00090fNIBL  DESHPDHK00090fNIBL   \n",
       "41219  DESHPDHK00090fNCBL  urn:adv:oid:DESHPDHK00090fNCBL  DESHPDHK00090fNCBL   \n",
       "41220  DESHPDHK0002GZsHBL  urn:adv:oid:DESHPDHK0002GZsHBL  DESHPDHK0002GZsHBL   \n",
       "\n",
       "          aktualit                                   gebnutzbez  \\\n",
       "0      2024-04-05Z                                      Bauteil   \n",
       "1      2023-12-15Z  Sonstiges Bauwerk oder sonstige Einrichtung   \n",
       "2      2023-12-15Z                                      Bauteil   \n",
       "3      2024-05-15Z  Sonstiges Bauwerk oder sonstige Einrichtung   \n",
       "4      2024-05-15Z  Sonstiges Bauwerk oder sonstige Einrichtung   \n",
       "...            ...                                          ...   \n",
       "41216  2024-03-05Z  Sonstiges Bauwerk oder sonstige Einrichtung   \n",
       "41217  2024-03-05Z                                      Gebäude   \n",
       "41218  2024-03-05Z                                      Bauteil   \n",
       "41219  2024-03-05Z                                      Bauteil   \n",
       "41220  2011-05-25Z                                      Gebäude   \n",
       "\n",
       "                                  funktion  gmdschl     gfkzshh  anzahlgs  \\\n",
       "0                             Wintergarten  1001000        None       NaN   \n",
       "1                                  Carport  1001000  51009_1611       NaN   \n",
       "2                             Wintergarten  1001000        None       NaN   \n",
       "3                              Überdachung  1001000  51009_1610       NaN   \n",
       "4                              Überdachung  1001000  51009_1610       NaN   \n",
       "...                                    ...      ...         ...       ...   \n",
       "41216                          Überdachung  1001000  51009_1610       NaN   \n",
       "41217                               Garage  1001000  31001_2463       1.0   \n",
       "41218           Zurückspringendes Geschoss  1001000        None       NaN   \n",
       "41219            Auskragender Geschossteil  1001000        None       NaN   \n",
       "41220  Betriebsgebäude für Schienenverkehr  1001000  31001_2420       NaN   \n",
       "\n",
       "      lagebeztxt  name rellage  \\\n",
       "0           None  None    None   \n",
       "1           None  None    None   \n",
       "2           None  None    None   \n",
       "3           None  None    None   \n",
       "4           None  None    None   \n",
       "...          ...   ...     ...   \n",
       "41216       None  None    None   \n",
       "41217       None  None    None   \n",
       "41218       None  None    None   \n",
       "41219       None  None    None   \n",
       "41220       None          None   \n",
       "\n",
       "                                                geometry  \n",
       "0      MULTIPOLYGON (((531079.25 6073267.187, 531083....  \n",
       "1      MULTIPOLYGON (((526579.488 6073409.958, 526580...  \n",
       "2      MULTIPOLYGON (((526551.785 6073461.127, 526552...  \n",
       "3      MULTIPOLYGON (((527513.823 6073293.887, 527515...  \n",
       "4      MULTIPOLYGON (((527415.207 6073228.56, 527417....  \n",
       "...                                                  ...  \n",
       "41216  MULTIPOLYGON (((530772.49 6070077.295, 530782....  \n",
       "41217  MULTIPOLYGON (((530772.093 6070085.06, 530774....  \n",
       "41218  MULTIPOLYGON (((530775.271 6070079.405, 530783...  \n",
       "41219  MULTIPOLYGON (((530780.586 6070089.58, 530786....  \n",
       "41220  MULTIPOLYGON (((525794.156 6068320.171, 525794...  \n",
       "\n",
       "[41221 rows x 13 columns]"
      ]
     },
     "execution_count": 292,
     "metadata": {},
     "output_type": "execute_result"
    }
   ],
   "source": [
    "gdf"
   ]
  },
  {
   "cell_type": "code",
   "execution_count": null,
   "id": "b10a0d2a-9f38-4e8f-a57f-2e8e0c97d5a2",
   "metadata": {},
   "outputs": [],
   "source": []
  },
  {
   "cell_type": "code",
   "execution_count": null,
   "id": "7c183ade-1281-4411-b3b5-51ff421fa236",
   "metadata": {},
   "outputs": [],
   "source": []
  },
  {
   "cell_type": "code",
   "execution_count": null,
   "id": "a553605f-f51a-4e58-888b-a598d02b0c5e",
   "metadata": {},
   "outputs": [],
   "source": []
  },
  {
   "cell_type": "code",
   "execution_count": null,
   "id": "eee55c65-7bfc-4950-85d1-12cb1c499ff6",
   "metadata": {},
   "outputs": [],
   "source": []
  },
  {
   "cell_type": "code",
   "execution_count": 267,
   "id": "4a47fec8-562d-432e-b022-a4136164adea",
   "metadata": {},
   "outputs": [
    {
     "name": "stdout",
     "output_type": "stream",
     "text": [
      "2471115\n"
     ]
    }
   ],
   "source": []
  },
  {
   "cell_type": "code",
   "execution_count": null,
   "id": "55d8576b-7ebc-4e68-8da6-359f2c162d0e",
   "metadata": {},
   "outputs": [],
   "source": []
  },
  {
   "cell_type": "code",
   "execution_count": null,
   "id": "a9e5c2c1-9b0b-4f0c-8fca-6d212d8435e9",
   "metadata": {},
   "outputs": [],
   "source": []
  },
  {
   "cell_type": "code",
   "execution_count": null,
   "id": "c650c89c-7fcc-4727-a26d-c5223bb910ae",
   "metadata": {},
   "outputs": [],
   "source": []
  },
  {
   "cell_type": "code",
   "execution_count": null,
   "id": "20106392-28b4-463a-b42f-c84b1f901135",
   "metadata": {},
   "outputs": [],
   "source": []
  },
  {
   "cell_type": "markdown",
   "id": "449ec785-59e7-4751-b15f-e8d6b69404cb",
   "metadata": {
    "jp-MarkdownHeadingCollapsed": true
   },
   "source": [
    "#### German City regions"
   ]
  },
  {
   "cell_type": "code",
   "execution_count": null,
   "id": "b914ff05-7e21-49e7-aac7-ceb83450d782",
   "metadata": {
    "scrolled": true
   },
   "outputs": [],
   "source": [
    "\n",
    "\n",
    "i = 0\n",
    "params = {\n",
    "        \"SERVICE\": \"WFS\",\n",
    "        \"REQUEST\": \"GetFeature\",\n",
    "        \"TYPENAMES\": \"bu2d_alkis:Building\",\n",
    "        \"SRSNAME\": \"EPSG:25832\",\n",
    "        \"VERSION\": '2.0.0',\n",
    "    }\n",
    "url = 'https://gdi.berlin.de/services/wms/bu2d_alkis'\n",
    "\n",
    "count = 100000\n",
    "process_wfs(\"germany_berlin\", url, params, count)"
   ]
  },
  {
   "cell_type": "code",
   "execution_count": null,
   "id": "c3d1e006-b763-4043-ac5f-a66e166c1d27",
   "metadata": {},
   "outputs": [],
   "source": []
  },
  {
   "cell_type": "code",
   "execution_count": 27,
   "id": "e249bd30-de6b-45b7-af38-b76e18a7abaf",
   "metadata": {},
   "outputs": [],
   "source": [
    "import requests \n",
    "def download_url(url, save_path, chunk_size=256):\n",
    "    r = requests.get(url, stream=True, allow_redirects=True)\n",
    "    print(r.content)\n",
    "    with open(save_path, 'wb') as fd:\n",
    "        for chunk in r.iter_content(chunk_size=chunk_size):\n",
    "            fd.write(chunk)"
   ]
  },
  {
   "cell_type": "code",
   "execution_count": 35,
   "id": "f7767681-0111-46c6-8ca7-4ae43901ab5a",
   "metadata": {},
   "outputs": [],
   "source": [
    "# bavaria - https://geodaten.bayern.de/opengeodata/OpenDataDetail.html?pn=hausumringe\n",
    "\n",
    "links = \"\"\"https://geodaten.bayern.de/odd/m/3/daten/hausumringe/bezirk/data/096_Unterfranken_Hausumringe.zip\n",
    "https://geodaten.bayern.de/odd/m/3/daten/hausumringe/bezirk/data/094_Oberfranken_Hausumringe.zip\n",
    "https://geodaten.bayern.de/odd/m/3/daten/hausumringe/bezirk/data/095_Mittelfranken_Hausumringe.zip\n",
    "https://geodaten.bayern.de/odd/m/3/daten/hausumringe/bezirk/data/093_Oberpfalz_Hausumringe.zip\n",
    "https://geodaten.bayern.de/odd/m/3/daten/hausumringe/bezirk/data/097_Schwaben_Hausumringe.zip\n",
    "https://geodaten.bayern.de/odd/m/3/daten/hausumringe/bezirk/data/091_Oberbayern_Hausumringe.zip\n",
    "https://geodaten.bayern.de/odd/m/3/daten/hausumringe/bezirk/data/092_Niederbayern_Hausumringe.zip\"\"\""
   ]
  },
  {
   "cell_type": "code",
   "execution_count": 31,
   "id": "ff073d8c-11b0-4786-a0b5-854a4a5a47e9",
   "metadata": {
    "scrolled": true
   },
   "outputs": [
    {
     "name": "stdout",
     "output_type": "stream",
     "text": [
      "--2024-08-07 20:07:42--  https://geodaten.bayern.de/odd/m/3/daten/hausumringe/bezirk/data/096_Unterfranken_Hausumringe.zip\n",
      "Resolving geodaten.bayern.de (geodaten.bayern.de)... 195.200.71.146\n",
      "Connecting to geodaten.bayern.de (geodaten.bayern.de)|195.200.71.146|:443... connected.\n",
      "HTTP request sent, awaiting response... 200 OK\n",
      "Length: 73374909 (70M) [application/zip]\n",
      "Saving to: ‘096_Unterfranken_Hausumringe.zip.1’\n",
      "\n",
      "096_Unterfranken_Ha 100%[===================>]  69,98M  8,83MB/s    in 8,6s    \n",
      "\n",
      "2024-08-07 20:07:51 (8,14 MB/s) - ‘096_Unterfranken_Hausumringe.zip.1’ saved [73374909/73374909]\n",
      "\n",
      "--2024-08-07 20:07:51--  https://geodaten.bayern.de/odd/m/3/daten/hausumringe/bezirk/data/094_Oberfranken_Hausumringe.zip\n",
      "Resolving geodaten.bayern.de (geodaten.bayern.de)... 195.200.71.146\n",
      "Connecting to geodaten.bayern.de (geodaten.bayern.de)|195.200.71.146|:443... connected.\n",
      "HTTP request sent, awaiting response... 200 OK\n",
      "Length: 64587813 (62M) [application/zip]\n",
      "Saving to: ‘094_Oberfranken_Hausumringe.zip’\n",
      "\n",
      "094_Oberfranken_Hau 100%[===================>]  61,60M  7,69MB/s    in 7,9s    \n",
      "\n",
      "2024-08-07 20:07:59 (7,79 MB/s) - ‘094_Oberfranken_Hausumringe.zip’ saved [64587813/64587813]\n",
      "\n",
      "--2024-08-07 20:07:59--  https://geodaten.bayern.de/odd/m/3/daten/hausumringe/bezirk/data/095_Mittelfranken_Hausumringe.zip\n",
      "Resolving geodaten.bayern.de (geodaten.bayern.de)... 195.200.71.146\n",
      "Connecting to geodaten.bayern.de (geodaten.bayern.de)|195.200.71.146|:443... connected.\n",
      "HTTP request sent, awaiting response... 200 OK\n",
      "Length: 77474859 (74M) [application/zip]\n",
      "Saving to: ‘095_Mittelfranken_Hausumringe.zip’\n",
      "\n",
      "095_Mittelfranken_H 100%[===================>]  73,89M  6,07MB/s    in 17s     \n",
      "\n",
      "2024-08-07 20:08:15 (4,46 MB/s) - ‘095_Mittelfranken_Hausumringe.zip’ saved [77474859/77474859]\n",
      "\n",
      "--2024-08-07 20:08:16--  https://geodaten.bayern.de/odd/m/3/daten/hausumringe/bezirk/data/093_Oberpfalz_Hausumringe.zip\n",
      "Resolving geodaten.bayern.de (geodaten.bayern.de)... 195.200.71.146\n",
      "Connecting to geodaten.bayern.de (geodaten.bayern.de)|195.200.71.146|:443... connected.\n",
      "HTTP request sent, awaiting response... 200 OK\n",
      "Length: 69217221 (66M) [application/zip]\n",
      "Saving to: ‘093_Oberpfalz_Hausumringe.zip’\n",
      "\n",
      "093_Oberpfalz_Hausu 100%[===================>]  66,01M  7,47MB/s    in 8,7s    \n",
      "\n",
      "2024-08-07 20:08:24 (7,55 MB/s) - ‘093_Oberpfalz_Hausumringe.zip’ saved [69217221/69217221]\n",
      "\n",
      "--2024-08-07 20:08:25--  https://geodaten.bayern.de/odd/m/3/daten/hausumringe/bezirk/data/097_Schwaben_Hausumringe.zip\n",
      "Resolving geodaten.bayern.de (geodaten.bayern.de)... 195.200.71.146\n",
      "Connecting to geodaten.bayern.de (geodaten.bayern.de)|195.200.71.146|:443... connected.\n",
      "HTTP request sent, awaiting response... 200 OK\n",
      "Length: 95683684 (91M) [application/zip]\n",
      "Saving to: ‘097_Schwaben_Hausumringe.zip’\n",
      "\n",
      "097_Schwaben_Hausum 100%[===================>]  91,25M  9,10MB/s    in 11s     \n",
      "\n",
      "2024-08-07 20:08:36 (8,23 MB/s) - ‘097_Schwaben_Hausumringe.zip’ saved [95683684/95683684]\n",
      "\n",
      "--2024-08-07 20:08:36--  https://geodaten.bayern.de/odd/m/3/daten/hausumringe/bezirk/data/091_Oberbayern_Hausumringe.zip\n",
      "Resolving geodaten.bayern.de (geodaten.bayern.de)... 195.200.71.146\n",
      "Connecting to geodaten.bayern.de (geodaten.bayern.de)|195.200.71.146|:443... connected.\n",
      "HTTP request sent, awaiting response... 200 OK\n",
      "Length: 171112872 (163M) [application/zip]\n",
      "Saving to: ‘091_Oberbayern_Hausumringe.zip’\n",
      "\n",
      "091_Oberbayern_Haus 100%[===================>] 163,19M  8,66MB/s    in 20s     \n",
      "\n",
      "2024-08-07 20:08:56 (8,26 MB/s) - ‘091_Oberbayern_Hausumringe.zip’ saved [171112872/171112872]\n",
      "\n",
      "--2024-08-07 20:08:56--  https://geodaten.bayern.de/odd/m/3/daten/hausumringe/bezirk/data/092_Niederbayern_Hausumringe.zip\n",
      "Resolving geodaten.bayern.de (geodaten.bayern.de)... 195.200.71.146\n",
      "Connecting to geodaten.bayern.de (geodaten.bayern.de)|195.200.71.146|:443... connected.\n",
      "HTTP request sent, awaiting response... 200 OK\n",
      "Length: 84032619 (80M) [application/zip]\n",
      "Saving to: ‘092_Niederbayern_Hausumringe.zip’\n",
      "\n",
      "092_Niederbayern_Ha 100%[===================>]  80,14M  7,10MB/s    in 12s     \n",
      "\n",
      "2024-08-07 20:09:08 (6,79 MB/s) - ‘092_Niederbayern_Hausumringe.zip’ saved [84032619/84032619]\n",
      "\n"
     ]
    }
   ],
   "source": [
    "!wget https://geodaten.bayern.de/odd/m/3/daten/hausumringe/bezirk/data/096_Unterfranken_Hausumringe.zip\n",
    "!wget https://geodaten.bayern.de/odd/m/3/daten/hausumringe/bezirk/data/094_Oberfranken_Hausumringe.zip\n",
    "!wget https://geodaten.bayern.de/odd/m/3/daten/hausumringe/bezirk/data/095_Mittelfranken_Hausumringe.zip\n",
    "!wget https://geodaten.bayern.de/odd/m/3/daten/hausumringe/bezirk/data/093_Oberpfalz_Hausumringe.zip\n",
    "!wget https://geodaten.bayern.de/odd/m/3/daten/hausumringe/bezirk/data/097_Schwaben_Hausumringe.zip\n",
    "!wget https://geodaten.bayern.de/odd/m/3/daten/hausumringe/bezirk/data/091_Oberbayern_Hausumringe.zip\n",
    "!wget https://geodaten.bayern.de/odd/m/3/daten/hausumringe/bezirk/data/092_Niederbayern_Hausumringe.zip"
   ]
  },
  {
   "cell_type": "code",
   "execution_count": null,
   "id": "97584999-1f50-4e6d-8aed-6b023020011b",
   "metadata": {},
   "outputs": [],
   "source": []
  },
  {
   "cell_type": "code",
   "execution_count": 45,
   "id": "ab657a89-6f9e-4119-93dc-bb6824e9901c",
   "metadata": {},
   "outputs": [
    {
     "name": "stdout",
     "output_type": "stream",
     "text": [
      "CPU times: user 32.4 s, sys: 1.43 s, total: 33.8 s\n",
      "Wall time: 33.7 s\n"
     ]
    }
   ],
   "source": [
    "%%time\n",
    "for i, dl_link in enumerate(links.split('\\n')):\n",
    "    region_name = dl_link.split('_')[-2].lower()\n",
    "    region_file = dl_link.split('/')[-1]\n",
    "    gpd.read_file(region_file).to_parquet(DATADIR + f'buildings_germany_bavaria_{region_name}.pq')"
   ]
  },
  {
   "cell_type": "code",
   "execution_count": 46,
   "id": "b99b739b-1b3f-47b5-acbe-aeb83387d069",
   "metadata": {},
   "outputs": [],
   "source": [
    "!rm *_Hausumringe.zip"
   ]
  },
  {
   "cell_type": "code",
   "execution_count": null,
   "id": "0a9bdc52-ad34-4434-af04-ed25381c8aa2",
   "metadata": {},
   "outputs": [],
   "source": []
  },
  {
   "cell_type": "code",
   "execution_count": null,
   "id": "a97b042f-a276-43ba-921d-06ad380339e6",
   "metadata": {},
   "outputs": [],
   "source": []
  },
  {
   "cell_type": "code",
   "execution_count": null,
   "id": "c65b5748-6f3b-4587-96a3-b198ceabff5b",
   "metadata": {},
   "outputs": [],
   "source": []
  },
  {
   "cell_type": "code",
   "execution_count": null,
   "id": "f621f7f5-5273-4ea3-ae90-cb26c835cc82",
   "metadata": {},
   "outputs": [],
   "source": []
  },
  {
   "cell_type": "code",
   "execution_count": null,
   "id": "686fb25d-c011-4077-be29-7d11e2df903b",
   "metadata": {},
   "outputs": [],
   "source": []
  },
  {
   "cell_type": "code",
   "execution_count": null,
   "id": "895f3706-c856-4007-b07e-602c159a107c",
   "metadata": {},
   "outputs": [],
   "source": []
  },
  {
   "cell_type": "code",
   "execution_count": null,
   "id": "ca74e986-1e7c-42a1-8666-3d4107c314c1",
   "metadata": {},
   "outputs": [],
   "source": []
  },
  {
   "cell_type": "code",
   "execution_count": 76,
   "id": "de0475fc-cc78-4481-8836-390f40733597",
   "metadata": {},
   "outputs": [],
   "source": [
    "\n",
    "\n",
    "# #rlp\n",
    "# i = 0\n",
    "# params = {\n",
    "#         \"SERVICE\": \"WFS\",\n",
    "#         \"REQUEST\": \"GetFeature\",\n",
    "#         \"TYPENAMES\": \"bu-core2d:Building\",\n",
    "#         # \"SRSNAME\": \"EPSG:4326\",\n",
    "#         \"VERSION\": '2.0.0',\n",
    "#         # \"count\": 10000,\n",
    "#         # \"startIndex\": i\n",
    "#     }\n",
    "# url = 'https://geodienste.hamburg.de/HH_WFS_INSPIRE_Gebaeude_2D_ALKIS'\n",
    "\n",
    "# response = requests.get(url, params=params)\n",
    "\n",
    "# gdf = gpd.read_file(response.content)\n",
    "# gdf"
   ]
  },
  {
   "cell_type": "code",
   "execution_count": 46,
   "id": "b13acde0-7a92-4c61-a733-e3ede5c4d80d",
   "metadata": {},
   "outputs": [
    {
     "name": "stdout",
     "output_type": "stream",
     "text": [
      "b'<?xml version=\"1.0\" encoding=\"utf-8\" ?>\\n<ExceptionReport \\n\\tversion=\"2.0.0\"\\n\\txmlns=\"http://www.opengis.net/ows/1.1\"\\txmlns:xsi=\"http://www.w3.org/2001/XMLSchema-instance\"\\txsi:schemaLocation=\"http://www.opengis.net/ows/1.1 https://isk.geobasis-bb.de/schema/ogc/ows/1.1.0/owsExceptionReport.xsd\">\\n\\t<Exception exceptionCode=\"MissingParameterValue\" locator=\"request\">\\n\\t\\t<ExceptionText>\\n\\t\\t\\tRequest rejected due to errors.\\n\\t\\t\\tInternalExceptionCode: iiRequiredParmMissing.  \\n\\t\\t\\tReason: \\n\\t\\t\\tMissing parameter &quot;request&quot; in request &quot;&quot; requested of WFSRO service.\\n\\t\\t</ExceptionText>\\n\\t</Exception>\\n</ExceptionReport>\\n'\n"
     ]
    }
   ],
   "source": [
    "\n",
    "\n",
    "hamburg_url = 'https://daten-hamburg.de/inspire/hh_inspire_gebaeude_2d_alkis/INSPIRE_HH_Gebaeude_2D_ALKIS_2020-07-15.zip'"
   ]
  },
  {
   "cell_type": "code",
   "execution_count": 47,
   "id": "87bfdfd4-2214-4b5d-a67c-c4392784563d",
   "metadata": {},
   "outputs": [
    {
     "name": "stdout",
     "output_type": "stream",
     "text": [
      "--2024-08-07 19:43:28--  https://daten-hamburg.de/inspire/hh_inspire_gebaeude_2d_alkis/INSPIRE_HH_Gebaeude_2D_ALKIS_2020-07-15.zip\n",
      "Resolving daten-hamburg.de (daten-hamburg.de)... 20.52.120.145, 2001:8d8:8ff:3c00::a0:e631\n",
      "Connecting to daten-hamburg.de (daten-hamburg.de)|20.52.120.145|:443... connected.\n",
      "HTTP request sent, awaiting response... 200 OK\n",
      "Length: 116864764 (111M) [application/zip]\n",
      "Saving to: ‘INSPIRE_HH_Gebaeude_2D_ALKIS_2020-07-15.zip’\n",
      "\n",
      "INSPIRE_HH_Gebaeude 100%[===================>] 111,45M  4,19MB/s    in 29s     \n",
      "\n",
      "2024-08-07 19:43:58 (3,80 MB/s) - ‘INSPIRE_HH_Gebaeude_2D_ALKIS_2020-07-15.zip’ saved [116864764/116864764]\n",
      "\n"
     ]
    }
   ],
   "source": [
    "!wget https://daten-hamburg.de/inspire/hh_inspire_gebaeude_2d_alkis/INSPIRE_HH_Gebaeude_2D_ALKIS_2020-07-15.zip"
   ]
  },
  {
   "cell_type": "code",
   "execution_count": 48,
   "id": "f338105d-1bfc-4991-9daa-a24cb2483cb8",
   "metadata": {},
   "outputs": [
    {
     "name": "stdout",
     "output_type": "stream",
     "text": [
      "Archive:  INSPIRE_HH_Gebaeude_2D_ALKIS_2020-07-15.zip\n",
      "  inflating: result.gml              \n",
      "  inflating: wfs_bu_alkis_2020-07-15.xsd  \n"
     ]
    }
   ],
   "source": [
    "!unzip INSPIRE_HH_Gebaeude_2D_ALKIS_2020-07-15.zip"
   ]
  },
  {
   "cell_type": "code",
   "execution_count": 4,
   "id": "47d15490-e127-40a4-ae21-54570d8adf96",
   "metadata": {},
   "outputs": [
    {
     "data": {
      "text/html": [
       "<div>\n",
       "<style scoped>\n",
       "    .dataframe tbody tr th:only-of-type {\n",
       "        vertical-align: middle;\n",
       "    }\n",
       "\n",
       "    .dataframe tbody tr th {\n",
       "        vertical-align: top;\n",
       "    }\n",
       "\n",
       "    .dataframe thead th {\n",
       "        text-align: right;\n",
       "    }\n",
       "</style>\n",
       "<table border=\"1\" class=\"dataframe\">\n",
       "  <thead>\n",
       "    <tr style=\"text-align: right;\">\n",
       "      <th></th>\n",
       "      <th>name</th>\n",
       "      <th>geometry_type</th>\n",
       "    </tr>\n",
       "  </thead>\n",
       "  <tbody>\n",
       "    <tr>\n",
       "      <th>0</th>\n",
       "      <td>BuildingPart</td>\n",
       "      <td>Unknown</td>\n",
       "    </tr>\n",
       "    <tr>\n",
       "      <th>1</th>\n",
       "      <td>Building</td>\n",
       "      <td>Unknown</td>\n",
       "    </tr>\n",
       "  </tbody>\n",
       "</table>\n",
       "</div>"
      ],
      "text/plain": [
       "           name geometry_type\n",
       "0  BuildingPart       Unknown\n",
       "1      Building       Unknown"
      ]
     },
     "execution_count": 4,
     "metadata": {},
     "output_type": "execute_result"
    }
   ],
   "source": [
    "gpd.list_layers('result.gml')"
   ]
  },
  {
   "cell_type": "code",
   "execution_count": 6,
   "id": "de4bd549-b8e7-4fa8-8514-ee2d734315d0",
   "metadata": {},
   "outputs": [],
   "source": [
    "gpd.read_file('result.gml', layer='building').to_parquet(DATADIR + 'buildings_germany_hamburg.pq')"
   ]
  },
  {
   "cell_type": "code",
   "execution_count": 8,
   "id": "de6fe54e-8c41-4f1f-862b-ab059614378c",
   "metadata": {},
   "outputs": [
    {
     "name": "stdout",
     "output_type": "stream",
     "text": [
      "rm: cannot remove 'result.gml': No such file or directory\n",
      "rm: cannot remove 'wfs_bu_alkis_2020-07-15.xsd': No such file or directory\n",
      "rm: cannot remove 'INSPIRE_HH_Gebaeude_2D_ALKIS_2020-07-15.zip': No such file or directory\n"
     ]
    }
   ],
   "source": [
    "## cleanup\n",
    "!rm result.gml\n",
    "!rm result.gfs\n",
    "!rm wfs_bu_alkis_2020-07-15.xsd \n",
    "!rm INSPIRE_HH_Gebaeude_2D_ALKIS_2020-07-15.zip"
   ]
  },
  {
   "cell_type": "code",
   "execution_count": null,
   "id": "fcc25ceb-ecd0-489f-ae55-d073a9c59ed6",
   "metadata": {},
   "outputs": [],
   "source": []
  },
  {
   "cell_type": "code",
   "execution_count": 9,
   "id": "ee917c1c-e18d-421a-88b4-ccad96da1bc2",
   "metadata": {},
   "outputs": [],
   "source": [
    "bremen = 'https://gdi2.geo.bremen.de/inspire/download/ADV-Shape/data/ALKIS_AdV_SHP_2024_04_HB.zip'"
   ]
  },
  {
   "cell_type": "code",
   "execution_count": 10,
   "id": "63e1d6bf-c3ab-4ab3-aff0-824316aae98a",
   "metadata": {},
   "outputs": [
    {
     "name": "stdout",
     "output_type": "stream",
     "text": [
      "--2024-08-07 19:51:20--  https://gdi2.geo.bremen.de/inspire/download/ADV-Shape/data/ALKIS_AdV_SHP_2024_04_HB.zip\n",
      "Resolving gdi2.geo.bremen.de (gdi2.geo.bremen.de)... 193.168.236.162\n",
      "Connecting to gdi2.geo.bremen.de (gdi2.geo.bremen.de)|193.168.236.162|:443... connected.\n",
      "HTTP request sent, awaiting response... 200 OK\n",
      "Length: 219727462 (210M) [application/zip]\n",
      "Saving to: ‘ALKIS_AdV_SHP_2024_04_HB.zip’\n",
      "\n",
      "ALKIS_AdV_SHP_2024_ 100%[===================>] 209,55M  7,39MB/s    in 30s     \n",
      "\n",
      "2024-08-07 19:51:51 (6,96 MB/s) - ‘ALKIS_AdV_SHP_2024_04_HB.zip’ saved [219727462/219727462]\n",
      "\n"
     ]
    }
   ],
   "source": [
    "!wget https://gdi2.geo.bremen.de/inspire/download/ADV-Shape/data/ALKIS_AdV_SHP_2024_04_HB.zip"
   ]
  },
  {
   "cell_type": "code",
   "execution_count": 14,
   "id": "8bedefaf-f216-4374-8fa8-40b753fa1824",
   "metadata": {},
   "outputs": [
    {
     "name": "stdout",
     "output_type": "stream",
     "text": [
      "Archive:  ALKIS_AdV_SHP_2024_04_HB.zip\n",
      " extracting: Bremen/Flurstueck.cpg   \n",
      "  inflating: Bremen/Flurstueck.dbf   \n",
      "  inflating: Bremen/Flurstueck.prj   \n",
      "  inflating: Bremen/Flurstueck.shp   \n",
      "  inflating: Bremen/Flurstueck.shx   \n",
      " extracting: Bremen/FlurstueckPunkt.cpg  \n",
      "  inflating: Bremen/FlurstueckPunkt.dbf  \n",
      "  inflating: Bremen/FlurstueckPunkt.prj  \n",
      "  inflating: Bremen/FlurstueckPunkt.shp  \n",
      "  inflating: Bremen/FlurstueckPunkt.shx  \n",
      " extracting: Bremen/GebaeudeBauwerk.cpg  \n",
      "  inflating: Bremen/GebaeudeBauwerk.dbf  \n",
      "  inflating: Bremen/GebaeudeBauwerk.prj  \n",
      "  inflating: Bremen/GebaeudeBauwerk.shp  \n",
      "  inflating: Bremen/GebaeudeBauwerk.shx  \n",
      " extracting: Bremen/KatasterBezirk.cpg  \n",
      "  inflating: Bremen/KatasterBezirk.dbf  \n",
      "  inflating: Bremen/KatasterBezirk.prj  \n",
      "  inflating: Bremen/KatasterBezirk.shp  \n",
      "  inflating: Bremen/KatasterBezirk.shx  \n",
      " extracting: Bremen/Nutzung.cpg      \n",
      "  inflating: Bremen/Nutzung.dbf      \n",
      "  inflating: Bremen/Nutzung.prj      \n",
      "  inflating: Bremen/Nutzung.shp      \n",
      "  inflating: Bremen/Nutzung.shx      \n",
      " extracting: Bremen/NutzungFlurstueck.cpg  \n",
      "  inflating: Bremen/NutzungFlurstueck.dbf  \n",
      "  inflating: Bremen/NutzungFlurstueck.prj  \n",
      "  inflating: Bremen/NutzungFlurstueck.shp  \n",
      "  inflating: Bremen/NutzungFlurstueck.shx  \n",
      " extracting: Bremen/VerwaltungsEinheit.cpg  \n",
      "  inflating: Bremen/VerwaltungsEinheit.dbf  \n",
      "  inflating: Bremen/VerwaltungsEinheit.prj  \n",
      "  inflating: Bremen/VerwaltungsEinheit.shp  \n",
      "  inflating: Bremen/VerwaltungsEinheit.shx  \n"
     ]
    }
   ],
   "source": [
    "!unzip ALKIS_AdV_SHP_2024_04_HB.zip"
   ]
  },
  {
   "cell_type": "code",
   "execution_count": 15,
   "id": "1c72742d-4875-4c8d-845b-452af6badcff",
   "metadata": {},
   "outputs": [],
   "source": [
    "gpd.read_file('Bremen/GebaeudeBauwerk.shp').to_parquet(DATADIR + 'buildings_germany_bremen.pq')"
   ]
  },
  {
   "cell_type": "code",
   "execution_count": 16,
   "id": "961e3f5f-9bcc-426f-afa0-e0512a75e62c",
   "metadata": {},
   "outputs": [],
   "source": [
    "!rm -r Bremen/"
   ]
  },
  {
   "cell_type": "code",
   "execution_count": 17,
   "id": "196ad50a-6b92-4569-8f46-ecf4c639ed9f",
   "metadata": {},
   "outputs": [],
   "source": [
    "!rm -r ALKIS_AdV_SHP_2024_04_HB.zip"
   ]
  },
  {
   "cell_type": "markdown",
   "id": "b4d99739-a21b-40a1-a366-0da9bfd2eb13",
   "metadata": {
    "jp-MarkdownHeadingCollapsed": true
   },
   "source": [
    "### Download Austria"
   ]
  },
  {
   "cell_type": "code",
   "execution_count": 1,
   "id": "225ea92e-6d51-4cd1-8fa3-6d020d5467f3",
   "metadata": {},
   "outputs": [],
   "source": [
    "austria = 'https://data.bev.gv.at/download/DLM/DLM_20230125/DLM_8000_BAUWERK_20230125.gpkg'"
   ]
  },
  {
   "cell_type": "code",
   "execution_count": 3,
   "id": "dc18e92d-b4ef-4f02-abe8-d1067c5436c1",
   "metadata": {},
   "outputs": [
    {
     "name": "stdout",
     "output_type": "stream",
     "text": [
      "CPU times: user 51.3 s, sys: 3.8 s, total: 55.1 s\n",
      "Wall time: 4min 3s\n"
     ]
    }
   ],
   "source": [
    "%%time\n",
    "download_url(austria, '../data/DLM_8000_BAUWERK_20230125.gpkg')"
   ]
  },
  {
   "cell_type": "code",
   "execution_count": null,
   "id": "7aa897ef-24f6-4b5c-a459-a56770a530be",
   "metadata": {},
   "outputs": [],
   "source": []
  },
  {
   "cell_type": "code",
   "execution_count": null,
   "id": "9d15f504-0b43-4226-845f-9d3012feb51e",
   "metadata": {},
   "outputs": [],
   "source": []
  },
  {
   "cell_type": "code",
   "execution_count": 18,
   "id": "d187ef3c-53d3-4b61-8180-8733c0c922cf",
   "metadata": {},
   "outputs": [
    {
     "data": {
      "text/html": [
       "<div>\n",
       "<style scoped>\n",
       "    .dataframe tbody tr th:only-of-type {\n",
       "        vertical-align: middle;\n",
       "    }\n",
       "\n",
       "    .dataframe tbody tr th {\n",
       "        vertical-align: top;\n",
       "    }\n",
       "\n",
       "    .dataframe thead th {\n",
       "        text-align: right;\n",
       "    }\n",
       "</style>\n",
       "<table border=\"1\" class=\"dataframe\">\n",
       "  <thead>\n",
       "    <tr style=\"text-align: right;\">\n",
       "      <th></th>\n",
       "      <th>name</th>\n",
       "      <th>geometry_type</th>\n",
       "    </tr>\n",
       "  </thead>\n",
       "  <tbody>\n",
       "    <tr>\n",
       "      <th>0</th>\n",
       "      <td>BWK_8100_AKTUALITAETSSTAND</td>\n",
       "      <td>MultiPolygon</td>\n",
       "    </tr>\n",
       "    <tr>\n",
       "      <th>1</th>\n",
       "      <td>BWK_8100_BAUWERK_F</td>\n",
       "      <td>MultiPolygon</td>\n",
       "    </tr>\n",
       "    <tr>\n",
       "      <th>2</th>\n",
       "      <td>BWK_8101_BAUWERKSFUNKTION_JOIN</td>\n",
       "      <td>None</td>\n",
       "    </tr>\n",
       "  </tbody>\n",
       "</table>\n",
       "</div>"
      ],
      "text/plain": [
       "                             name geometry_type\n",
       "0      BWK_8100_AKTUALITAETSSTAND  MultiPolygon\n",
       "1              BWK_8100_BAUWERK_F  MultiPolygon\n",
       "2  BWK_8101_BAUWERKSFUNKTION_JOIN          None"
      ]
     },
     "execution_count": 18,
     "metadata": {},
     "output_type": "execute_result"
    }
   ],
   "source": [
    "gpd.list_layers( '../data/DLM_8000_BAUWERK_20230125.gpkg')"
   ]
  },
  {
   "cell_type": "code",
   "execution_count": 19,
   "id": "79c063ec-f3f1-431f-b49f-ca71f8068509",
   "metadata": {},
   "outputs": [],
   "source": [
    "import pyogrio"
   ]
  },
  {
   "cell_type": "code",
   "execution_count": 20,
   "id": "88854935-1b14-43e9-92a3-bb8a98e9c8b4",
   "metadata": {},
   "outputs": [
    {
     "data": {
      "text/plain": [
       "{'layer_name': 'BWK_8100_BAUWERK_F',\n",
       " 'crs': 'EPSG:31255',\n",
       " 'encoding': 'UTF-8',\n",
       " 'fields': array(['F_CODE', 'F_NAME', 'BAUWERKSFUNKTION', 'AGWR_OBJEKTNUMMER',\n",
       "        'AGWR_TYP', 'VERIFIKATION_LB', 'DEL_FLAG', 'BEFLIEGUNGSJAHR',\n",
       "        'ALS_DATUM', 'ERFASS_ART', 'HOEHE_BODEN_MIN',\n",
       "        'ERFASS_ART_HOEHE_BODEN_MIN', 'HOEHE_BODEN_MEDIAN',\n",
       "        'ERFASS_ART_HOEHE_BODEN_MEDIAN', 'HOEHE_BODEN_MAX',\n",
       "        'ERFASS_ART_HOEHE_BODEN_MAX', 'HOEHE_OBJEKT_MEDIAN',\n",
       "        'ERFASS_ART_HOEHE_OBJEKT_MEDIAN', 'HOEHE_OBJEKT_MAX',\n",
       "        'ERFASS_ART_HOEHE_OBJEKT_MAX', 'HOEHE_OBJEKT_TRAUFE',\n",
       "        'ERFASS_ART_HOEHE_OBJEKT_TRAUFE', 'DATENQUELLE',\n",
       "        'DATENQUELLE_EXT_ID', 'ERSTELL_DAT', 'BEARB_DAT', 'OBJECTID',\n",
       "        'GLOBALID', 'SHAPE_AREA'], dtype=object),\n",
       " 'dtypes': array(['int32', 'object', 'object', 'int32', 'object', 'object', 'object',\n",
       "        'int32', 'object', 'object', 'float64', 'object', 'float64',\n",
       "        'object', 'float64', 'object', 'float64', 'object', 'float64',\n",
       "        'object', 'float64', 'object', 'object', 'object',\n",
       "        'datetime64[ms]', 'datetime64[ms]', 'int32', 'object', 'float64'],\n",
       "       dtype=object),\n",
       " 'fid_column': 'id',\n",
       " 'geometry_name': 'geom',\n",
       " 'geometry_type': 'MultiPolygon',\n",
       " 'features': 4427904,\n",
       " 'total_bounds': (-287338.20900562,\n",
       "  140130.42999947,\n",
       "  284595.964004903,\n",
       "  432351.905999486),\n",
       " 'driver': 'GPKG',\n",
       " 'capabilities': {'random_read': True,\n",
       "  'fast_set_next_by_index': True,\n",
       "  'fast_spatial_filter': True,\n",
       "  'fast_feature_count': True,\n",
       "  'fast_total_bounds': True},\n",
       " 'layer_metadata': None,\n",
       " 'dataset_metadata': None}"
      ]
     },
     "execution_count": 20,
     "metadata": {},
     "output_type": "execute_result"
    }
   ],
   "source": [
    "pyogrio.read_info('../data/DLM_8000_BAUWERK_20230125.gpkg', layer='BWK_8100_BAUWERK_F')"
   ]
  },
  {
   "cell_type": "code",
   "execution_count": 24,
   "id": "7762594e-9fc4-45ca-80ce-4979717c3cf9",
   "metadata": {},
   "outputs": [],
   "source": [
    "gpd.read_file('../data/DLM_8000_BAUWERK_20230125.gpkg', layer='BWK_8100_BAUWERK_F').to_parquet(DATADIR + 'buildings_austria.pq')"
   ]
  },
  {
   "cell_type": "code",
   "execution_count": null,
   "id": "6591b0ea-2b29-43b7-b99c-033798eabaad",
   "metadata": {},
   "outputs": [],
   "source": [
    "# !rm ../data/DLM_8000_BAUWERK_20230125.gpkg"
   ]
  },
  {
   "cell_type": "code",
   "execution_count": null,
   "id": "aa57beca-af67-4a7c-bcee-f19228c0b48f",
   "metadata": {},
   "outputs": [],
   "source": []
  },
  {
   "cell_type": "code",
   "execution_count": null,
   "id": "19bc31bd-dec3-4a60-b988-efb530abeca0",
   "metadata": {},
   "outputs": [],
   "source": []
  },
  {
   "cell_type": "markdown",
   "id": "5c9c0bbe-b148-4996-8975-b461116eb34d",
   "metadata": {
    "jp-MarkdownHeadingCollapsed": true
   },
   "source": [
    "### Download Poland"
   ]
  },
  {
   "cell_type": "code",
   "execution_count": null,
   "id": "84e02e88-aa24-4d08-93d9-eee478ae5f10",
   "metadata": {},
   "outputs": [],
   "source": []
  },
  {
   "cell_type": "code",
   "execution_count": null,
   "id": "f26bda13-0a8c-46bc-a01a-1c8a4c3b8704",
   "metadata": {},
   "outputs": [],
   "source": [
    "# https://mapy.geoportal.gov.pl/iMapLite/atomExplorer/"
   ]
  },
  {
   "cell_type": "code",
   "execution_count": 87,
   "id": "f2115c30-8f56-41e7-97ab-31e360637153",
   "metadata": {},
   "outputs": [],
   "source": [
    "\n",
    "links  = \"\"\"http://mapy.geoportal.gov.pl/wss/service/ATOM/httpauth/download/?fileId=34ad9f34a0b7dc8205a933bb058e91c1&name=podkarpackie_bu.zip\n",
    "http://mapy.geoportal.gov.pl/wss/service/ATOM/httpauth/download/?fileId=78896afe993bcb34365fe7b8a7f9966f&name=pomorskie_bu.zip\n",
    "http://mapy.geoportal.gov.pl/wss/service/ATOM/httpauth/download/?fileId=be4bfa1478a6eeedd67faffea96eafda&name=opolskie_bu.zip\n",
    "http://mapy.geoportal.gov.pl/wss/service/ATOM/httpauth/download/?fileId=c7881c0de4e3d86548ba0e97c50b490a&name=lodzkie_bu.zip\n",
    "http://mapy.geoportal.gov.pl/wss/service/ATOM/httpauth/download/?fileId=79dcc64d4c0c4e8873365f04c55a4940&name=lubuskie_bu.zip\n",
    "http://mapy.geoportal.gov.pl/wss/service/ATOM/httpauth/download/?fileId=ac47d220ce942cc3668f703fe4bd7a60&name=mazowieckie_bu.zip\n",
    "http://mapy.geoportal.gov.pl/wss/service/ATOM/httpauth/download/?fileId=9e87962dd94adddb2838f6321778f04a&name=kujawskopomorskie_bu.zip\n",
    "http://mapy.geoportal.gov.pl/wss/service/ATOM/httpauth/download/?fileId=8818a617772a6c9dad222dd52acecc29&name=slaskie_bu.zip\n",
    "http://mapy.geoportal.gov.pl/wss/service/ATOM/httpauth/download/?fileId=4b636d1174ceff606fb1c9c95c145915&name=dolnoslaskie_bu.zip\n",
    "http://mapy.geoportal.gov.pl/wss/service/ATOM/httpauth/download/?fileId=99c8bdcfc3173a3a7c2d18bf675f4315&name=malopolskie_bu.zip\n",
    "http://mapy.geoportal.gov.pl/wss/service/ATOM/httpauth/download/?fileId=cb81449840b96ff21fba1a42e094c074&name=lubelskie_bu.zip\n",
    "http://mapy.geoportal.gov.pl/wss/service/ATOM/httpauth/download/?fileId=9bb1518bbf0d8e22ec338c80dcc83f61&name=zachodniopomorskie_bu.zip\n",
    "http://mapy.geoportal.gov.pl/wss/service/ATOM/httpauth/download/?fileId=0217fcdf1da066af11a62067530786a9&name=warminskomazurskie_bu.zip\n",
    "http://mapy.geoportal.gov.pl/wss/service/ATOM/httpauth/download/?fileId=67eb749e1ae54cb7aa9a8aa1d90d8dd7&name=wielkopolskie_bu.zip\n",
    "http://mapy.geoportal.gov.pl/wss/service/ATOM/httpauth/download/?fileId=fc9fe6a16296acf6a4072a08f5be1342&name=podlaskie_bu.zip\n",
    "http://mapy.geoportal.gov.pl/wss/service/ATOM/httpauth/download/?fileId=e968c6db383a80a34b702866ede92cb1&name=swietorzyskie_bu.zip\"\"\""
   ]
  },
  {
   "cell_type": "code",
   "execution_count": null,
   "id": "e24c18fa-b031-4b37-8069-a053d4ed3314",
   "metadata": {},
   "outputs": [],
   "source": []
  },
  {
   "cell_type": "code",
   "execution_count": 92,
   "id": "8b6db766-08a1-4ca6-85f2-ecbc77cf46bc",
   "metadata": {},
   "outputs": [],
   "source": [
    "# !wget http://mapy.geoportal.gov.pl/wss/service/ATOM/httpauth/download/?fileId=34ad9f34a0b7dc8205a933bb058e91c1&name=podkarpackie_bu.zip\n",
    "\n",
    "# !wget http://mapy.geoportal.gov.pl/wss/service/ATOM/httpauth/download/?fileId=78896afe993bcb34365fe7b8a7f9966f&name=pomorskie_bu.zip\n",
    "\n",
    "# !wget http://mapy.geoportal.gov.pl/wss/service/ATOM/httpauth/download/?fileId=be4bfa1478a6eeedd67faffea96eafda&name=opolskie_bu.zip\n",
    "\n",
    "# !wget http://mapy.geoportal.gov.pl/wss/service/ATOM/httpauth/download/?fileId=c7881c0de4e3d86548ba0e97c50b490a&name=lodzkie_bu.zip\n",
    "\n",
    "# !wget http://mapy.geoportal.gov.pl/wss/service/ATOM/httpauth/download/?fileId=79dcc64d4c0c4e8873365f04c55a4940&name=lubuskie_bu.zip\n",
    "\n",
    "# !wget http://mapy.geoportal.gov.pl/wss/service/ATOM/httpauth/download/?fileId=ac47d220ce942cc3668f703fe4bd7a60&name=mazowieckie_bu.zip\n",
    "\n",
    "# !wget http://mapy.geoportal.gov.pl/wss/service/ATOM/httpauth/download/?fileId=9e87962dd94adddb2838f6321778f04a&name=kujawskopomorskie_bu.zip\n",
    "\n",
    "# !wget http://mapy.geoportal.gov.pl/wss/service/ATOM/httpauth/download/?fileId=8818a617772a6c9dad222dd52acecc29&name=slaskie_bu.zip\n",
    "\n",
    "# !wget http://mapy.geoportal.gov.pl/wss/service/ATOM/httpauth/download/?fileId=4b636d1174ceff606fb1c9c95c145915&name=dolnoslaskie_bu.zip\n",
    "\n",
    "# !wget http://mapy.geoportal.gov.pl/wss/service/ATOM/httpauth/download/?fileId=99c8bdcfc3173a3a7c2d18bf675f4315&name=malopolskie_bu.zip\n",
    "\n",
    "# !wget http://mapy.geoportal.gov.pl/wss/service/ATOM/httpauth/download/?fileId=cb81449840b96ff21fba1a42e094c074&name=lubelskie_bu.zip\n",
    "\n",
    "# !wget http://mapy.geoportal.gov.pl/wss/service/ATOM/httpauth/download/?fileId=9bb1518bbf0d8e22ec338c80dcc83f61&name=zachodniopomorskie_bu.zip\n",
    "\n",
    "# !wget http://mapy.geoportal.gov.pl/wss/service/ATOM/httpauth/download/?fileId=0217fcdf1da066af11a62067530786a9&name=warminskomazurskie_bu.zip\n",
    "\n",
    "# !wget http://mapy.geoportal.gov.pl/wss/service/ATOM/httpauth/download/?fileId=67eb749e1ae54cb7aa9a8aa1d90d8dd7&name=wielkopolskie_bu.zip\n",
    "\n",
    "# !wget http://mapy.geoportal.gov.pl/wss/service/ATOM/httpauth/download/?fileId=fc9fe6a16296acf6a4072a08f5be1342&name=podlaskie_bu.zip\n",
    "\n",
    "# !wget http://mapy.geoportal.gov.pl/wss/service/ATOM/httpauth/download/?fileId=e968c6db383a80a34b702866ede92cb1&name=swietorzyskie_bu.zip"
   ]
  },
  {
   "cell_type": "code",
   "execution_count": 89,
   "id": "e0ceaa4c-3164-4cf6-8b39-2208f3b205a0",
   "metadata": {},
   "outputs": [],
   "source": [
    "links = links.split('\\n')"
   ]
  },
  {
   "cell_type": "code",
   "execution_count": 90,
   "id": "b2205378-4492-48a8-bcc0-8f0808d08ddd",
   "metadata": {},
   "outputs": [],
   "source": [
    "# https://mapy.geoportal.gov.pl/iMapLite/atomExplorer/"
   ]
  },
  {
   "cell_type": "code",
   "execution_count": 91,
   "id": "de990edb-d38d-46fb-ad5f-83d92e810d3a",
   "metadata": {
    "scrolled": true
   },
   "outputs": [
    {
     "name": "stderr",
     "output_type": "stream",
     "text": [
      "IOPub data rate exceeded.\n",
      "The Jupyter server will temporarily stop sending output\n",
      "to the client in order to avoid crashing it.\n",
      "To change this limit, set the config variable\n",
      "`--ServerApp.iopub_data_rate_limit`.\n",
      "\n",
      "Current values:\n",
      "ServerApp.iopub_data_rate_limit=1000000.0 (bytes/sec)\n",
      "ServerApp.rate_limit_window=3.0 (secs)\n",
      "\n"
     ]
    }
   ],
   "source": [
    "\n",
    "for i, dl_link in enumerate(links):\n",
    "    dl_name = dl_link.split('=')[-1]\n",
    "    download_url(dl_link, dl_name)\n",
    "    print(dl_name)"
   ]
  },
  {
   "cell_type": "code",
   "execution_count": null,
   "id": "9ec5c543-d440-494d-a6ce-4af212b0db86",
   "metadata": {},
   "outputs": [],
   "source": []
  },
  {
   "cell_type": "code",
   "execution_count": 99,
   "id": "54d0eeb3-06c8-4afe-92b4-561fd20aca15",
   "metadata": {
    "scrolled": true
   },
   "outputs": [
    {
     "name": "stderr",
     "output_type": "stream",
     "text": [
      "/home/krasen/miniconda3/envs/urban_taxonomy/lib/python3.12/site-packages/pyogrio/raw.py:196: RuntimeWarning: Field with same name (identifier) already exists in (Building). Skipping newer ones\n",
      "  return ogr_read(\n",
      "/home/krasen/miniconda3/envs/urban_taxonomy/lib/python3.12/site-packages/pyogrio/raw.py:196: RuntimeWarning: Field with same name (identifier) already exists in (Building). Skipping newer ones\n",
      "  return ogr_read(\n",
      "/home/krasen/miniconda3/envs/urban_taxonomy/lib/python3.12/site-packages/pyogrio/raw.py:196: RuntimeWarning: Field with same name (identifier) already exists in (Building). Skipping newer ones\n",
      "  return ogr_read(\n",
      "/home/krasen/miniconda3/envs/urban_taxonomy/lib/python3.12/site-packages/pyogrio/raw.py:196: RuntimeWarning: Field with same name (identifier) already exists in (Building). Skipping newer ones\n",
      "  return ogr_read(\n",
      "/home/krasen/miniconda3/envs/urban_taxonomy/lib/python3.12/site-packages/pyogrio/raw.py:196: RuntimeWarning: Field with same name (identifier) already exists in (Building). Skipping newer ones\n",
      "  return ogr_read(\n",
      "/home/krasen/miniconda3/envs/urban_taxonomy/lib/python3.12/site-packages/pyogrio/raw.py:196: RuntimeWarning: Field with same name (identifier) already exists in (Building). Skipping newer ones\n",
      "  return ogr_read(\n",
      "/home/krasen/miniconda3/envs/urban_taxonomy/lib/python3.12/site-packages/pyogrio/raw.py:196: RuntimeWarning: Field with same name (identifier) already exists in (Building). Skipping newer ones\n",
      "  return ogr_read(\n",
      "/home/krasen/miniconda3/envs/urban_taxonomy/lib/python3.12/site-packages/pyogrio/raw.py:196: RuntimeWarning: Field with same name (identifier) already exists in (Building). Skipping newer ones\n",
      "  return ogr_read(\n",
      "/home/krasen/miniconda3/envs/urban_taxonomy/lib/python3.12/site-packages/pyogrio/raw.py:196: RuntimeWarning: Field with same name (identifier) already exists in (Building). Skipping newer ones\n",
      "  return ogr_read(\n",
      "/home/krasen/miniconda3/envs/urban_taxonomy/lib/python3.12/site-packages/pyogrio/raw.py:196: RuntimeWarning: Field with same name (identifier) already exists in (Building). Skipping newer ones\n",
      "  return ogr_read(\n"
     ]
    }
   ],
   "source": [
    "for i, dl_link in enumerate(links[5:]):\n",
    "    dl_name = dl_link.split('=')[-1]\n",
    "    if dl_name == 'mazowieckie_bu.zip':\n",
    "        continue\n",
    "    gdf = gpd.read_file(dl_name)\n",
    "    gdf.to_parquet(DATADIR + f'buildings_poland_{dl_name[:-4]}.pq')"
   ]
  },
  {
   "cell_type": "code",
   "execution_count": 100,
   "id": "a5550e1e-f3c7-4938-8720-ff43030dea8d",
   "metadata": {},
   "outputs": [
    {
     "name": "stdout",
     "output_type": "stream",
     "text": [
      "Archive:  mazowieckie_bu.zip\n",
      "  inflating: mazowieckie_bu1.gml     \n",
      "  inflating: mazowieckie_bu2.gml     \n"
     ]
    }
   ],
   "source": [
    "!unzip mazowieckie_bu.zip"
   ]
  },
  {
   "cell_type": "code",
   "execution_count": 102,
   "id": "86cad197-013a-480d-bcb9-c2c9a9694e60",
   "metadata": {},
   "outputs": [
    {
     "name": "stderr",
     "output_type": "stream",
     "text": [
      "/home/krasen/miniconda3/envs/urban_taxonomy/lib/python3.12/site-packages/pyogrio/core.py:117: RuntimeWarning: Field with same name (identifier) already exists in (Building). Skipping newer ones\n",
      "  return ogr_list_layers(get_vsi_path_or_buffer(path_or_buffer))\n"
     ]
    },
    {
     "data": {
      "text/html": [
       "<div>\n",
       "<style scoped>\n",
       "    .dataframe tbody tr th:only-of-type {\n",
       "        vertical-align: middle;\n",
       "    }\n",
       "\n",
       "    .dataframe tbody tr th {\n",
       "        vertical-align: top;\n",
       "    }\n",
       "\n",
       "    .dataframe thead th {\n",
       "        text-align: right;\n",
       "    }\n",
       "</style>\n",
       "<table border=\"1\" class=\"dataframe\">\n",
       "  <thead>\n",
       "    <tr style=\"text-align: right;\">\n",
       "      <th></th>\n",
       "      <th>name</th>\n",
       "      <th>geometry_type</th>\n",
       "    </tr>\n",
       "  </thead>\n",
       "  <tbody>\n",
       "    <tr>\n",
       "      <th>0</th>\n",
       "      <td>Building</td>\n",
       "      <td>Polygon</td>\n",
       "    </tr>\n",
       "  </tbody>\n",
       "</table>\n",
       "</div>"
      ],
      "text/plain": [
       "       name geometry_type\n",
       "0  Building       Polygon"
      ]
     },
     "execution_count": 102,
     "metadata": {},
     "output_type": "execute_result"
    }
   ],
   "source": [
    "gpd.list_layers('mazowieckie_bu1.gml')"
   ]
  },
  {
   "cell_type": "code",
   "execution_count": 103,
   "id": "8c3a5662-1c47-463a-b010-3abf6f639ad8",
   "metadata": {},
   "outputs": [
    {
     "name": "stderr",
     "output_type": "stream",
     "text": [
      "/home/krasen/miniconda3/envs/urban_taxonomy/lib/python3.12/site-packages/pyogrio/core.py:117: RuntimeWarning: Field with same name (identifier) already exists in (Building). Skipping newer ones\n",
      "  return ogr_list_layers(get_vsi_path_or_buffer(path_or_buffer))\n"
     ]
    },
    {
     "data": {
      "text/html": [
       "<div>\n",
       "<style scoped>\n",
       "    .dataframe tbody tr th:only-of-type {\n",
       "        vertical-align: middle;\n",
       "    }\n",
       "\n",
       "    .dataframe tbody tr th {\n",
       "        vertical-align: top;\n",
       "    }\n",
       "\n",
       "    .dataframe thead th {\n",
       "        text-align: right;\n",
       "    }\n",
       "</style>\n",
       "<table border=\"1\" class=\"dataframe\">\n",
       "  <thead>\n",
       "    <tr style=\"text-align: right;\">\n",
       "      <th></th>\n",
       "      <th>name</th>\n",
       "      <th>geometry_type</th>\n",
       "    </tr>\n",
       "  </thead>\n",
       "  <tbody>\n",
       "    <tr>\n",
       "      <th>0</th>\n",
       "      <td>Building</td>\n",
       "      <td>Polygon</td>\n",
       "    </tr>\n",
       "  </tbody>\n",
       "</table>\n",
       "</div>"
      ],
      "text/plain": [
       "       name geometry_type\n",
       "0  Building       Polygon"
      ]
     },
     "execution_count": 103,
     "metadata": {},
     "output_type": "execute_result"
    }
   ],
   "source": [
    "gpd.list_layers('mazowieckie_bu2.gml')"
   ]
  },
  {
   "cell_type": "code",
   "execution_count": 104,
   "id": "400e1ea5-3767-47af-af80-a26b5ae94cf3",
   "metadata": {},
   "outputs": [
    {
     "name": "stderr",
     "output_type": "stream",
     "text": [
      "/home/krasen/miniconda3/envs/urban_taxonomy/lib/python3.12/site-packages/pyogrio/raw.py:196: RuntimeWarning: Field with same name (identifier) already exists in (Building). Skipping newer ones\n",
      "  return ogr_read(\n",
      "/home/krasen/miniconda3/envs/urban_taxonomy/lib/python3.12/site-packages/pyogrio/raw.py:196: RuntimeWarning: Field with same name (identifier) already exists in (Building). Skipping newer ones\n",
      "  return ogr_read(\n"
     ]
    }
   ],
   "source": [
    "gdf = gpd.read_file('mazowieckie_bu1.gml')\n",
    "gdf.to_parquet(DATADIR + f'buildings_poland_mazowieckie_bu1.pq')\n",
    "\n",
    "gdf = gpd.read_file('mazowieckie_bu2.gml')\n",
    "gdf.to_parquet(DATADIR + f'buildings_poland_mazowieckie_bu2.pq')"
   ]
  },
  {
   "cell_type": "code",
   "execution_count": 105,
   "id": "baf4af46-1c46-4233-9418-92ae19c8479d",
   "metadata": {},
   "outputs": [],
   "source": [
    "!rm mazowieckie_bu1.gml\n",
    "!rm mazowieckie_bu2.gml"
   ]
  },
  {
   "cell_type": "code",
   "execution_count": null,
   "id": "85f578dc-b6e5-498c-93b7-674ef02c146b",
   "metadata": {},
   "outputs": [],
   "source": []
  },
  {
   "cell_type": "markdown",
   "id": "2210655a-85c3-411b-bfee-8a6696d0092b",
   "metadata": {
    "jp-MarkdownHeadingCollapsed": true
   },
   "source": [
    "### Download Czechia"
   ]
  },
  {
   "cell_type": "code",
   "execution_count": 62,
   "id": "09253950-55bf-4719-ad60-661d077d3bc2",
   "metadata": {},
   "outputs": [],
   "source": [
    "import httpx\n",
    "url_adm = \"https://services.cuzk.cz/gml/inspire/au/epsg-4258/1.zip\"\n",
    "units = pyogrio.read_dataframe(url_adm, layer=\"AdministrativeUnit\")\n",
    "obce = units[units.LocalisedCharacterString == \"Obec\"]"
   ]
  },
  {
   "cell_type": "code",
   "execution_count": 70,
   "id": "f474d9be-37bf-4f33-9f73-6b2f2ad1a362",
   "metadata": {
    "scrolled": true
   },
   "outputs": [
    {
     "name": "stderr",
     "output_type": "stream",
     "text": [
      "Skipping field informationSystem: unsupported OGR type: 5\n",
      "Skipping field LocalisedCharacterString: unsupported OGR type: 5\n",
      "Skipping field reference: unsupported OGR type: 13\n"
     ]
    },
    {
     "name": "stdout",
     "output_type": "stream",
     "text": [
      "500852\n"
     ]
    },
    {
     "name": "stderr",
     "output_type": "stream",
     "text": [
      "Skipping field informationSystem: unsupported OGR type: 5\n",
      "Skipping field LocalisedCharacterString: unsupported OGR type: 5\n",
      "Skipping field reference: unsupported OGR type: 13\n",
      "Skipping field informationSystem: unsupported OGR type: 5\n",
      "Skipping field LocalisedCharacterString: unsupported OGR type: 5\n",
      "Skipping field reference: unsupported OGR type: 13\n"
     ]
    },
    {
     "name": "stdout",
     "output_type": "stream",
     "text": [
      "500861\n",
      "505081\n"
     ]
    },
    {
     "name": "stderr",
     "output_type": "stream",
     "text": [
      "Skipping field informationSystem: unsupported OGR type: 5\n",
      "Skipping field LocalisedCharacterString: unsupported OGR type: 5\n",
      "Skipping field reference: unsupported OGR type: 13\n",
      "Skipping field informationSystem: unsupported OGR type: 5\n",
      "Skipping field LocalisedCharacterString: unsupported OGR type: 5\n",
      "Skipping field reference: unsupported OGR type: 13\n"
     ]
    },
    {
     "name": "stdout",
     "output_type": "stream",
     "text": [
      "500879\n"
     ]
    },
    {
     "name": "stderr",
     "output_type": "stream",
     "text": [
      "Skipping field informationSystem: unsupported OGR type: 5\n",
      "Skipping field LocalisedCharacterString: unsupported OGR type: 5\n",
      "Skipping field reference: unsupported OGR type: 13\n"
     ]
    },
    {
     "name": "stdout",
     "output_type": "stream",
     "text": [
      "501476\n",
      "501646\n"
     ]
    },
    {
     "name": "stderr",
     "output_type": "stream",
     "text": [
      "Skipping field informationSystem: unsupported OGR type: 5\n",
      "Skipping field LocalisedCharacterString: unsupported OGR type: 5\n",
      "Skipping field reference: unsupported OGR type: 13\n"
     ]
    },
    {
     "name": "stdout",
     "output_type": "stream",
     "text": [
      "501751\n"
     ]
    },
    {
     "name": "stderr",
     "output_type": "stream",
     "text": [
      "Skipping field informationSystem: unsupported OGR type: 5\n",
      "Skipping field LocalisedCharacterString: unsupported OGR type: 5\n",
      "Skipping field reference: unsupported OGR type: 13\n"
     ]
    },
    {
     "name": "stdout",
     "output_type": "stream",
     "text": [
      "500011\n"
     ]
    },
    {
     "name": "stderr",
     "output_type": "stream",
     "text": [
      "Skipping field informationSystem: unsupported OGR type: 5\n",
      "Skipping field LocalisedCharacterString: unsupported OGR type: 5\n",
      "Skipping field reference: unsupported OGR type: 13\n"
     ]
    },
    {
     "name": "stdout",
     "output_type": "stream",
     "text": [
      "500020\n"
     ]
    },
    {
     "name": "stderr",
     "output_type": "stream",
     "text": [
      "Skipping field informationSystem: unsupported OGR type: 5\n",
      "Skipping field LocalisedCharacterString: unsupported OGR type: 5\n",
      "Skipping field reference: unsupported OGR type: 13\n",
      "Skipping field informationSystem: unsupported OGR type: 5\n",
      "Skipping field LocalisedCharacterString: unsupported OGR type: 5\n",
      "Skipping field reference: unsupported OGR type: 13\n"
     ]
    },
    {
     "name": "stdout",
     "output_type": "stream",
     "text": [
      "500046\n"
     ]
    },
    {
     "name": "stderr",
     "output_type": "stream",
     "text": [
      "Skipping field informationSystem: unsupported OGR type: 5\n",
      "Skipping field LocalisedCharacterString: unsupported OGR type: 5\n",
      "Skipping field reference: unsupported OGR type: 13\n"
     ]
    },
    {
     "name": "stdout",
     "output_type": "stream",
     "text": [
      "500062\n",
      "500071\n"
     ]
    },
    {
     "name": "stderr",
     "output_type": "stream",
     "text": [
      "Skipping field informationSystem: unsupported OGR type: 5\n",
      "Skipping field LocalisedCharacterString: unsupported OGR type: 5\n",
      "Skipping field reference: unsupported OGR type: 13\n"
     ]
    },
    {
     "name": "stdout",
     "output_type": "stream",
     "text": [
      "500259\n"
     ]
    },
    {
     "name": "stderr",
     "output_type": "stream",
     "text": [
      "Skipping field informationSystem: unsupported OGR type: 5\n",
      "Skipping field LocalisedCharacterString: unsupported OGR type: 5\n",
      "Skipping field reference: unsupported OGR type: 13\n"
     ]
    },
    {
     "name": "stdout",
     "output_type": "stream",
     "text": [
      "500291\n"
     ]
    },
    {
     "name": "stderr",
     "output_type": "stream",
     "text": [
      "Skipping field informationSystem: unsupported OGR type: 5\n",
      "Skipping field LocalisedCharacterString: unsupported OGR type: 5\n",
      "Skipping field reference: unsupported OGR type: 13\n"
     ]
    },
    {
     "name": "stdout",
     "output_type": "stream",
     "text": [
      "500496\n"
     ]
    },
    {
     "name": "stderr",
     "output_type": "stream",
     "text": [
      "Skipping field informationSystem: unsupported OGR type: 5\n",
      "Skipping field LocalisedCharacterString: unsupported OGR type: 5\n",
      "Skipping field reference: unsupported OGR type: 13\n"
     ]
    },
    {
     "name": "stdout",
     "output_type": "stream",
     "text": [
      "500526\n"
     ]
    },
    {
     "name": "stderr",
     "output_type": "stream",
     "text": [
      "Skipping field informationSystem: unsupported OGR type: 5\n",
      "Skipping field LocalisedCharacterString: unsupported OGR type: 5\n",
      "Skipping field reference: unsupported OGR type: 13\n",
      "Skipping field informationSystem: unsupported OGR type: 5\n",
      "Skipping field LocalisedCharacterString: unsupported OGR type: 5\n",
      "Skipping field reference: unsupported OGR type: 13\n"
     ]
    },
    {
     "name": "stdout",
     "output_type": "stream",
     "text": [
      "500623\n",
      "500801\n"
     ]
    },
    {
     "name": "stderr",
     "output_type": "stream",
     "text": [
      "Skipping field informationSystem: unsupported OGR type: 5\n",
      "Skipping field LocalisedCharacterString: unsupported OGR type: 5\n",
      "Skipping field reference: unsupported OGR type: 13\n"
     ]
    },
    {
     "name": "stdout",
     "output_type": "stream",
     "text": [
      "505161\n"
     ]
    },
    {
     "name": "stderr",
     "output_type": "stream",
     "text": [
      "Skipping field informationSystem: unsupported OGR type: 5\n",
      "Skipping field LocalisedCharacterString: unsupported OGR type: 5\n",
      "Skipping field reference: unsupported OGR type: 13\n"
     ]
    },
    {
     "name": "stdout",
     "output_type": "stream",
     "text": [
      "503738\n"
     ]
    },
    {
     "name": "stderr",
     "output_type": "stream",
     "text": [
      "Skipping field informationSystem: unsupported OGR type: 5\n",
      "Skipping field LocalisedCharacterString: unsupported OGR type: 5\n",
      "Skipping field reference: unsupported OGR type: 13\n",
      "Skipping field informationSystem: unsupported OGR type: 5\n",
      "Skipping field LocalisedCharacterString: unsupported OGR type: 5\n",
      "Skipping field reference: unsupported OGR type: 13\n"
     ]
    },
    {
     "name": "stdout",
     "output_type": "stream",
     "text": [
      "503916\n",
      "503941\n"
     ]
    },
    {
     "name": "stderr",
     "output_type": "stream",
     "text": [
      "Skipping field informationSystem: unsupported OGR type: 5\n",
      "Skipping field LocalisedCharacterString: unsupported OGR type: 5\n",
      "Skipping field reference: unsupported OGR type: 13\n"
     ]
    },
    {
     "name": "stdout",
     "output_type": "stream",
     "text": [
      "504246\n"
     ]
    },
    {
     "name": "stderr",
     "output_type": "stream",
     "text": [
      "Skipping field informationSystem: unsupported OGR type: 5\n",
      "Skipping field LocalisedCharacterString: unsupported OGR type: 5\n",
      "Skipping field reference: unsupported OGR type: 13\n",
      "Skipping field informationSystem: unsupported OGR type: 5\n",
      "Skipping field LocalisedCharacterString: unsupported OGR type: 5\n",
      "Skipping field reference: unsupported OGR type: 13\n"
     ]
    },
    {
     "name": "stdout",
     "output_type": "stream",
     "text": [
      "589195\n",
      "504301\n"
     ]
    },
    {
     "name": "stderr",
     "output_type": "stream",
     "text": [
      "Skipping field informationSystem: unsupported OGR type: 5\n",
      "Skipping field LocalisedCharacterString: unsupported OGR type: 5\n",
      "Skipping field reference: unsupported OGR type: 13\n"
     ]
    },
    {
     "name": "stdout",
     "output_type": "stream",
     "text": [
      "504441\n"
     ]
    },
    {
     "name": "stderr",
     "output_type": "stream",
     "text": [
      "Skipping field informationSystem: unsupported OGR type: 5\n",
      "Skipping field LocalisedCharacterString: unsupported OGR type: 5\n",
      "Skipping field reference: unsupported OGR type: 13\n"
     ]
    },
    {
     "name": "stdout",
     "output_type": "stream",
     "text": [
      "504505\n"
     ]
    },
    {
     "name": "stderr",
     "output_type": "stream",
     "text": [
      "Skipping field informationSystem: unsupported OGR type: 5\n",
      "Skipping field LocalisedCharacterString: unsupported OGR type: 5\n",
      "Skipping field reference: unsupported OGR type: 13\n"
     ]
    },
    {
     "name": "stdout",
     "output_type": "stream",
     "text": [
      "504785\n"
     ]
    },
    {
     "name": "stderr",
     "output_type": "stream",
     "text": [
      "Skipping field informationSystem: unsupported OGR type: 5\n",
      "Skipping field LocalisedCharacterString: unsupported OGR type: 5\n",
      "Skipping field reference: unsupported OGR type: 13\n",
      "Skipping field informationSystem: unsupported OGR type: 5\n",
      "Skipping field LocalisedCharacterString: unsupported OGR type: 5\n",
      "Skipping field reference: unsupported OGR type: 13\n",
      "Skipping field informationSystem: unsupported OGR type: 5\n",
      "Skipping field LocalisedCharacterString: unsupported OGR type: 5\n",
      "Skipping field reference: unsupported OGR type: 13\n",
      "Skipping field informationSystem: unsupported OGR type: 5\n",
      "Skipping field LocalisedCharacterString: unsupported OGR type: 5\n",
      "Skipping field reference: unsupported OGR type: 13\n"
     ]
    },
    {
     "name": "stdout",
     "output_type": "stream",
     "text": [
      "504807\n",
      "504921\n",
      "504955\n",
      "505005\n"
     ]
    },
    {
     "name": "stderr",
     "output_type": "stream",
     "text": [
      "Skipping field informationSystem: unsupported OGR type: 5\n",
      "Skipping field LocalisedCharacterString: unsupported OGR type: 5\n",
      "Skipping field reference: unsupported OGR type: 13\n",
      "Skipping field informationSystem: unsupported OGR type: 5\n",
      "Skipping field LocalisedCharacterString: unsupported OGR type: 5\n",
      "Skipping field reference: unsupported OGR type: 13\n",
      "Skipping field informationSystem: unsupported OGR type: 5\n",
      "Skipping field LocalisedCharacterString: unsupported OGR type: 5\n",
      "Skipping field reference: unsupported OGR type: 13\n"
     ]
    },
    {
     "name": "stdout",
     "output_type": "stream",
     "text": [
      "505013\n",
      "505030\n",
      "505099\n"
     ]
    },
    {
     "name": "stderr",
     "output_type": "stream",
     "text": [
      "Skipping field informationSystem: unsupported OGR type: 5\n",
      "Skipping field LocalisedCharacterString: unsupported OGR type: 5\n",
      "Skipping field reference: unsupported OGR type: 13\n"
     ]
    },
    {
     "name": "stdout",
     "output_type": "stream",
     "text": [
      "505111\n"
     ]
    },
    {
     "name": "stderr",
     "output_type": "stream",
     "text": [
      "Skipping field informationSystem: unsupported OGR type: 5\n",
      "Skipping field LocalisedCharacterString: unsupported OGR type: 5\n",
      "Skipping field reference: unsupported OGR type: 13\n"
     ]
    },
    {
     "name": "stdout",
     "output_type": "stream",
     "text": [
      "505145\n"
     ]
    },
    {
     "name": "stderr",
     "output_type": "stream",
     "text": [
      "Skipping field informationSystem: unsupported OGR type: 5\n",
      "Skipping field LocalisedCharacterString: unsupported OGR type: 5\n",
      "Skipping field reference: unsupported OGR type: 13\n"
     ]
    },
    {
     "name": "stdout",
     "output_type": "stream",
     "text": [
      "505188\n"
     ]
    },
    {
     "name": "stderr",
     "output_type": "stream",
     "text": [
      "Skipping field informationSystem: unsupported OGR type: 5\n",
      "Skipping field LocalisedCharacterString: unsupported OGR type: 5\n",
      "Skipping field reference: unsupported OGR type: 13\n"
     ]
    },
    {
     "name": "stdout",
     "output_type": "stream",
     "text": [
      "505218\n"
     ]
    },
    {
     "name": "stderr",
     "output_type": "stream",
     "text": [
      "Skipping field informationSystem: unsupported OGR type: 5\n",
      "Skipping field LocalisedCharacterString: unsupported OGR type: 5\n",
      "Skipping field reference: unsupported OGR type: 13\n",
      "Skipping field informationSystem: unsupported OGR type: 5\n",
      "Skipping field LocalisedCharacterString: unsupported OGR type: 5\n",
      "Skipping field reference: unsupported OGR type: 13\n"
     ]
    },
    {
     "name": "stdout",
     "output_type": "stream",
     "text": [
      "505269\n",
      "505293\n"
     ]
    },
    {
     "name": "stderr",
     "output_type": "stream",
     "text": [
      "Skipping field informationSystem: unsupported OGR type: 5\n",
      "Skipping field LocalisedCharacterString: unsupported OGR type: 5\n",
      "Skipping field reference: unsupported OGR type: 13\n"
     ]
    },
    {
     "name": "stdout",
     "output_type": "stream",
     "text": [
      "505366\n"
     ]
    },
    {
     "name": "stderr",
     "output_type": "stream",
     "text": [
      "Skipping field informationSystem: unsupported OGR type: 5\n",
      "Skipping field LocalisedCharacterString: unsupported OGR type: 5\n",
      "Skipping field reference: unsupported OGR type: 13\n"
     ]
    },
    {
     "name": "stdout",
     "output_type": "stream",
     "text": [
      "501794\n"
     ]
    },
    {
     "name": "stderr",
     "output_type": "stream",
     "text": [
      "Skipping field informationSystem: unsupported OGR type: 5\n",
      "Skipping field LocalisedCharacterString: unsupported OGR type: 5\n",
      "Skipping field reference: unsupported OGR type: 13\n"
     ]
    },
    {
     "name": "stdout",
     "output_type": "stream",
     "text": [
      "501841\n"
     ]
    },
    {
     "name": "stderr",
     "output_type": "stream",
     "text": [
      "Skipping field informationSystem: unsupported OGR type: 5\n",
      "Skipping field LocalisedCharacterString: unsupported OGR type: 5\n",
      "Skipping field reference: unsupported OGR type: 13\n",
      "Skipping field informationSystem: unsupported OGR type: 5\n",
      "Skipping field LocalisedCharacterString: unsupported OGR type: 5\n",
      "Skipping field reference: unsupported OGR type: 13\n"
     ]
    },
    {
     "name": "stdout",
     "output_type": "stream",
     "text": [
      "502146\n",
      "502235\n"
     ]
    },
    {
     "name": "stderr",
     "output_type": "stream",
     "text": [
      "Skipping field informationSystem: unsupported OGR type: 5\n",
      "Skipping field LocalisedCharacterString: unsupported OGR type: 5\n",
      "Skipping field reference: unsupported OGR type: 13\n"
     ]
    },
    {
     "name": "stdout",
     "output_type": "stream",
     "text": [
      "502405\n"
     ]
    },
    {
     "name": "stderr",
     "output_type": "stream",
     "text": [
      "Skipping field informationSystem: unsupported OGR type: 5\n",
      "Skipping field LocalisedCharacterString: unsupported OGR type: 5\n",
      "Skipping field reference: unsupported OGR type: 13\n"
     ]
    },
    {
     "name": "stdout",
     "output_type": "stream",
     "text": [
      "502545\n"
     ]
    },
    {
     "name": "stderr",
     "output_type": "stream",
     "text": [
      "Skipping field informationSystem: unsupported OGR type: 5\n",
      "Skipping field LocalisedCharacterString: unsupported OGR type: 5\n",
      "Skipping field reference: unsupported OGR type: 13\n"
     ]
    },
    {
     "name": "stdout",
     "output_type": "stream",
     "text": [
      "502839\n"
     ]
    },
    {
     "name": "stderr",
     "output_type": "stream",
     "text": [
      "Skipping field informationSystem: unsupported OGR type: 5\n",
      "Skipping field LocalisedCharacterString: unsupported OGR type: 5\n",
      "Skipping field reference: unsupported OGR type: 13\n"
     ]
    },
    {
     "name": "stdout",
     "output_type": "stream",
     "text": [
      "503142\n"
     ]
    },
    {
     "name": "stderr",
     "output_type": "stream",
     "text": [
      "Skipping field informationSystem: unsupported OGR type: 5\n",
      "Skipping field LocalisedCharacterString: unsupported OGR type: 5\n",
      "Skipping field reference: unsupported OGR type: 13\n",
      "Skipping field informationSystem: unsupported OGR type: 5\n",
      "Skipping field LocalisedCharacterString: unsupported OGR type: 5\n",
      "Skipping field reference: unsupported OGR type: 13\n"
     ]
    },
    {
     "name": "stdout",
     "output_type": "stream",
     "text": [
      "503304\n",
      "503410\n"
     ]
    },
    {
     "name": "stderr",
     "output_type": "stream",
     "text": [
      "Skipping field informationSystem: unsupported OGR type: 5\n",
      "Skipping field LocalisedCharacterString: unsupported OGR type: 5\n",
      "Skipping field reference: unsupported OGR type: 13\n",
      "Skipping field informationSystem: unsupported OGR type: 5\n",
      "Skipping field LocalisedCharacterString: unsupported OGR type: 5\n",
      "Skipping field reference: unsupported OGR type: 13\n"
     ]
    },
    {
     "name": "stdout",
     "output_type": "stream",
     "text": [
      "503444\n",
      "503622\n"
     ]
    },
    {
     "name": "stderr",
     "output_type": "stream",
     "text": [
      "Skipping field informationSystem: unsupported OGR type: 5\n",
      "Skipping field LocalisedCharacterString: unsupported OGR type: 5\n",
      "Skipping field reference: unsupported OGR type: 13\n",
      "Skipping field informationSystem: unsupported OGR type: 5\n",
      "Skipping field LocalisedCharacterString: unsupported OGR type: 5\n",
      "Skipping field reference: unsupported OGR type: 13\n"
     ]
    },
    {
     "name": "stdout",
     "output_type": "stream",
     "text": [
      "503657\n",
      "506699\n"
     ]
    },
    {
     "name": "stderr",
     "output_type": "stream",
     "text": [
      "Skipping field informationSystem: unsupported OGR type: 5\n",
      "Skipping field LocalisedCharacterString: unsupported OGR type: 5\n",
      "Skipping field reference: unsupported OGR type: 13\n"
     ]
    },
    {
     "name": "stdout",
     "output_type": "stream",
     "text": [
      "506702\n"
     ]
    },
    {
     "name": "stderr",
     "output_type": "stream",
     "text": [
      "Skipping field informationSystem: unsupported OGR type: 5\n",
      "Skipping field LocalisedCharacterString: unsupported OGR type: 5\n",
      "Skipping field reference: unsupported OGR type: 13\n",
      "Skipping field informationSystem: unsupported OGR type: 5\n",
      "Skipping field LocalisedCharacterString: unsupported OGR type: 5\n",
      "Skipping field reference: unsupported OGR type: 13\n",
      "Skipping field informationSystem: unsupported OGR type: 5\n",
      "Skipping field LocalisedCharacterString: unsupported OGR type: 5\n",
      "Skipping field reference: unsupported OGR type: 13\n"
     ]
    },
    {
     "name": "stdout",
     "output_type": "stream",
     "text": [
      "506711\n",
      "506729\n",
      "509388\n"
     ]
    },
    {
     "name": "stderr",
     "output_type": "stream",
     "text": [
      "Skipping field informationSystem: unsupported OGR type: 5\n",
      "Skipping field LocalisedCharacterString: unsupported OGR type: 5\n",
      "Skipping field reference: unsupported OGR type: 13\n"
     ]
    },
    {
     "name": "stdout",
     "output_type": "stream",
     "text": [
      "509418\n"
     ]
    },
    {
     "name": "stderr",
     "output_type": "stream",
     "text": [
      "Skipping field informationSystem: unsupported OGR type: 5\n",
      "Skipping field LocalisedCharacterString: unsupported OGR type: 5\n",
      "Skipping field reference: unsupported OGR type: 13\n"
     ]
    },
    {
     "name": "stdout",
     "output_type": "stream",
     "text": [
      "506737\n"
     ]
    },
    {
     "name": "stderr",
     "output_type": "stream",
     "text": [
      "Skipping field informationSystem: unsupported OGR type: 5\n",
      "Skipping field LocalisedCharacterString: unsupported OGR type: 5\n",
      "Skipping field reference: unsupported OGR type: 13\n",
      "Skipping field informationSystem: unsupported OGR type: 5\n",
      "Skipping field LocalisedCharacterString: unsupported OGR type: 5\n",
      "Skipping field reference: unsupported OGR type: 13\n",
      "Skipping field informationSystem: unsupported OGR type: 5\n",
      "Skipping field LocalisedCharacterString: unsupported OGR type: 5\n",
      "Skipping field reference: unsupported OGR type: 13\n"
     ]
    },
    {
     "name": "stdout",
     "output_type": "stream",
     "text": [
      "506753\n",
      "506761\n",
      "506770\n"
     ]
    },
    {
     "name": "stderr",
     "output_type": "stream",
     "text": [
      "Skipping field informationSystem: unsupported OGR type: 5\n",
      "Skipping field LocalisedCharacterString: unsupported OGR type: 5\n",
      "Skipping field reference: unsupported OGR type: 13\n",
      "Skipping field informationSystem: unsupported OGR type: 5\n",
      "Skipping field LocalisedCharacterString: unsupported OGR type: 5\n",
      "Skipping field reference: unsupported OGR type: 13\n"
     ]
    },
    {
     "name": "stdout",
     "output_type": "stream",
     "text": [
      "507016\n"
     ]
    },
    {
     "name": "stderr",
     "output_type": "stream",
     "text": [
      "Skipping field informationSystem: unsupported OGR type: 5\n",
      "Skipping field LocalisedCharacterString: unsupported OGR type: 5\n",
      "Skipping field reference: unsupported OGR type: 13\n"
     ]
    },
    {
     "name": "stdout",
     "output_type": "stream",
     "text": [
      "507091\n",
      "507105\n"
     ]
    },
    {
     "name": "stderr",
     "output_type": "stream",
     "text": [
      "Skipping field informationSystem: unsupported OGR type: 5\n",
      "Skipping field LocalisedCharacterString: unsupported OGR type: 5\n",
      "Skipping field reference: unsupported OGR type: 13\n"
     ]
    },
    {
     "name": "stdout",
     "output_type": "stream",
     "text": [
      "507113\n"
     ]
    },
    {
     "name": "stderr",
     "output_type": "stream",
     "text": [
      "Skipping field informationSystem: unsupported OGR type: 5\n",
      "Skipping field LocalisedCharacterString: unsupported OGR type: 5\n",
      "Skipping field reference: unsupported OGR type: 13\n"
     ]
    },
    {
     "name": "stdout",
     "output_type": "stream",
     "text": [
      "507181\n"
     ]
    },
    {
     "name": "stderr",
     "output_type": "stream",
     "text": [
      "Skipping field informationSystem: unsupported OGR type: 5\n",
      "Skipping field LocalisedCharacterString: unsupported OGR type: 5\n",
      "Skipping field reference: unsupported OGR type: 13\n",
      "Skipping field informationSystem: unsupported OGR type: 5\n",
      "Skipping field LocalisedCharacterString: unsupported OGR type: 5\n",
      "Skipping field reference: unsupported OGR type: 13\n"
     ]
    },
    {
     "name": "stdout",
     "output_type": "stream",
     "text": [
      "507237\n",
      "505391\n"
     ]
    },
    {
     "name": "stderr",
     "output_type": "stream",
     "text": [
      "Skipping field informationSystem: unsupported OGR type: 5\n",
      "Skipping field LocalisedCharacterString: unsupported OGR type: 5\n",
      "Skipping field reference: unsupported OGR type: 13\n",
      "Skipping field informationSystem: unsupported OGR type: 5\n",
      "Skipping field LocalisedCharacterString: unsupported OGR type: 5\n",
      "Skipping field reference: unsupported OGR type: 13\n"
     ]
    },
    {
     "name": "stdout",
     "output_type": "stream",
     "text": [
      "505501\n",
      "505528\n"
     ]
    },
    {
     "name": "stderr",
     "output_type": "stream",
     "text": [
      "Skipping field informationSystem: unsupported OGR type: 5\n",
      "Skipping field LocalisedCharacterString: unsupported OGR type: 5\n",
      "Skipping field reference: unsupported OGR type: 13\n"
     ]
    },
    {
     "name": "stdout",
     "output_type": "stream",
     "text": [
      "505587\n"
     ]
    },
    {
     "name": "stderr",
     "output_type": "stream",
     "text": [
      "Skipping field informationSystem: unsupported OGR type: 5\n",
      "Skipping field LocalisedCharacterString: unsupported OGR type: 5\n",
      "Skipping field reference: unsupported OGR type: 13\n"
     ]
    },
    {
     "name": "stdout",
     "output_type": "stream",
     "text": [
      "505609\n"
     ]
    },
    {
     "name": "stderr",
     "output_type": "stream",
     "text": [
      "Skipping field informationSystem: unsupported OGR type: 5\n",
      "Skipping field LocalisedCharacterString: unsupported OGR type: 5\n",
      "Skipping field reference: unsupported OGR type: 13\n"
     ]
    },
    {
     "name": "stdout",
     "output_type": "stream",
     "text": [
      "505650\n"
     ]
    },
    {
     "name": "stderr",
     "output_type": "stream",
     "text": [
      "Skipping field informationSystem: unsupported OGR type: 5\n",
      "Skipping field LocalisedCharacterString: unsupported OGR type: 5\n",
      "Skipping field reference: unsupported OGR type: 13\n"
     ]
    },
    {
     "name": "stdout",
     "output_type": "stream",
     "text": [
      "505668\n"
     ]
    },
    {
     "name": "stderr",
     "output_type": "stream",
     "text": [
      "Skipping field informationSystem: unsupported OGR type: 5\n",
      "Skipping field LocalisedCharacterString: unsupported OGR type: 5\n",
      "Skipping field reference: unsupported OGR type: 13\n"
     ]
    },
    {
     "name": "stdout",
     "output_type": "stream",
     "text": [
      "505781\n"
     ]
    },
    {
     "name": "stderr",
     "output_type": "stream",
     "text": [
      "Skipping field informationSystem: unsupported OGR type: 5\n",
      "Skipping field LocalisedCharacterString: unsupported OGR type: 5\n",
      "Skipping field reference: unsupported OGR type: 13\n"
     ]
    },
    {
     "name": "stdout",
     "output_type": "stream",
     "text": [
      "505862\n"
     ]
    },
    {
     "name": "stderr",
     "output_type": "stream",
     "text": [
      "Skipping field informationSystem: unsupported OGR type: 5\n",
      "Skipping field LocalisedCharacterString: unsupported OGR type: 5\n",
      "Skipping field reference: unsupported OGR type: 13\n",
      "Skipping field informationSystem: unsupported OGR type: 5\n",
      "Skipping field LocalisedCharacterString: unsupported OGR type: 5\n",
      "Skipping field reference: unsupported OGR type: 13\n"
     ]
    },
    {
     "name": "stdout",
     "output_type": "stream",
     "text": [
      "505927\n",
      "506192\n"
     ]
    },
    {
     "name": "stderr",
     "output_type": "stream",
     "text": [
      "Skipping field informationSystem: unsupported OGR type: 5\n",
      "Skipping field LocalisedCharacterString: unsupported OGR type: 5\n",
      "Skipping field reference: unsupported OGR type: 13\n"
     ]
    },
    {
     "name": "stdout",
     "output_type": "stream",
     "text": [
      "506214\n"
     ]
    },
    {
     "name": "stderr",
     "output_type": "stream",
     "text": [
      "Skipping field informationSystem: unsupported OGR type: 5\n",
      "Skipping field LocalisedCharacterString: unsupported OGR type: 5\n",
      "Skipping field reference: unsupported OGR type: 13\n",
      "Skipping field informationSystem: unsupported OGR type: 5\n",
      "Skipping field LocalisedCharacterString: unsupported OGR type: 5\n",
      "Skipping field reference: unsupported OGR type: 13\n"
     ]
    },
    {
     "name": "stdout",
     "output_type": "stream",
     "text": [
      "506320\n",
      "506451\n"
     ]
    },
    {
     "name": "stderr",
     "output_type": "stream",
     "text": [
      "Skipping field informationSystem: unsupported OGR type: 5\n",
      "Skipping field LocalisedCharacterString: unsupported OGR type: 5\n",
      "Skipping field reference: unsupported OGR type: 13\n",
      "Skipping field informationSystem: unsupported OGR type: 5\n",
      "Skipping field LocalisedCharacterString: unsupported OGR type: 5\n",
      "Skipping field reference: unsupported OGR type: 13\n"
     ]
    },
    {
     "name": "stdout",
     "output_type": "stream",
     "text": [
      "506460\n",
      "506486\n"
     ]
    },
    {
     "name": "stderr",
     "output_type": "stream",
     "text": [
      "Skipping field informationSystem: unsupported OGR type: 5\n",
      "Skipping field LocalisedCharacterString: unsupported OGR type: 5\n",
      "Skipping field reference: unsupported OGR type: 13\n",
      "Skipping field informationSystem: unsupported OGR type: 5\n",
      "Skipping field LocalisedCharacterString: unsupported OGR type: 5\n",
      "Skipping field reference: unsupported OGR type: 13\n",
      "Skipping field informationSystem: unsupported OGR type: 5\n",
      "Skipping field LocalisedCharacterString: unsupported OGR type: 5\n",
      "Skipping field reference: unsupported OGR type: 13\n",
      "Skipping field informationSystem: unsupported OGR type: 5\n",
      "Skipping field LocalisedCharacterString: unsupported OGR type: 5\n",
      "Skipping field reference: unsupported OGR type: 13\n"
     ]
    },
    {
     "name": "stdout",
     "output_type": "stream",
     "text": [
      "506494\n",
      "506621\n",
      "506664\n"
     ]
    },
    {
     "name": "stderr",
     "output_type": "stream",
     "text": [
      "Skipping field informationSystem: unsupported OGR type: 5\n",
      "Skipping field LocalisedCharacterString: unsupported OGR type: 5\n",
      "Skipping field reference: unsupported OGR type: 13\n"
     ]
    },
    {
     "name": "stdout",
     "output_type": "stream",
     "text": [
      "507733\n",
      "507920\n"
     ]
    },
    {
     "name": "stderr",
     "output_type": "stream",
     "text": [
      "Skipping field informationSystem: unsupported OGR type: 5\n",
      "Skipping field LocalisedCharacterString: unsupported OGR type: 5\n",
      "Skipping field reference: unsupported OGR type: 13\n",
      "Skipping field informationSystem: unsupported OGR type: 5\n",
      "Skipping field LocalisedCharacterString: unsupported OGR type: 5\n",
      "Skipping field reference: unsupported OGR type: 13\n"
     ]
    },
    {
     "name": "stdout",
     "output_type": "stream",
     "text": [
      "507971\n",
      "531651\n"
     ]
    },
    {
     "name": "stderr",
     "output_type": "stream",
     "text": [
      "Skipping field informationSystem: unsupported OGR type: 5\n",
      "Skipping field LocalisedCharacterString: unsupported OGR type: 5\n",
      "Skipping field reference: unsupported OGR type: 13\n",
      "Skipping field informationSystem: unsupported OGR type: 5\n",
      "Skipping field LocalisedCharacterString: unsupported OGR type: 5\n",
      "Skipping field reference: unsupported OGR type: 13\n"
     ]
    },
    {
     "name": "stdout",
     "output_type": "stream",
     "text": [
      "508128\n",
      "508144\n"
     ]
    },
    {
     "name": "stderr",
     "output_type": "stream",
     "text": [
      "Skipping field informationSystem: unsupported OGR type: 5\n",
      "Skipping field LocalisedCharacterString: unsupported OGR type: 5\n",
      "Skipping field reference: unsupported OGR type: 13\n"
     ]
    },
    {
     "name": "stdout",
     "output_type": "stream",
     "text": [
      "508152\n"
     ]
    },
    {
     "name": "stderr",
     "output_type": "stream",
     "text": [
      "Skipping field informationSystem: unsupported OGR type: 5\n",
      "Skipping field LocalisedCharacterString: unsupported OGR type: 5\n",
      "Skipping field reference: unsupported OGR type: 13\n"
     ]
    },
    {
     "name": "stdout",
     "output_type": "stream",
     "text": [
      "534838\n"
     ]
    },
    {
     "name": "stderr",
     "output_type": "stream",
     "text": [
      "Skipping field informationSystem: unsupported OGR type: 5\n",
      "Skipping field LocalisedCharacterString: unsupported OGR type: 5\n",
      "Skipping field reference: unsupported OGR type: 13\n",
      "Skipping field informationSystem: unsupported OGR type: 5\n",
      "Skipping field LocalisedCharacterString: unsupported OGR type: 5\n",
      "Skipping field reference: unsupported OGR type: 13\n",
      "Skipping field informationSystem: unsupported OGR type: 5\n",
      "Skipping field LocalisedCharacterString: unsupported OGR type: 5\n",
      "Skipping field reference: unsupported OGR type: 13\n"
     ]
    },
    {
     "name": "stdout",
     "output_type": "stream",
     "text": [
      "545881\n",
      "508357\n",
      "508373\n"
     ]
    },
    {
     "name": "stderr",
     "output_type": "stream",
     "text": [
      "Skipping field informationSystem: unsupported OGR type: 5\n",
      "Skipping field LocalisedCharacterString: unsupported OGR type: 5\n",
      "Skipping field reference: unsupported OGR type: 13\n",
      "Skipping field informationSystem: unsupported OGR type: 5\n",
      "Skipping field LocalisedCharacterString: unsupported OGR type: 5\n",
      "Skipping field reference: unsupported OGR type: 13\n"
     ]
    },
    {
     "name": "stdout",
     "output_type": "stream",
     "text": [
      "508501\n",
      "508683\n"
     ]
    },
    {
     "name": "stderr",
     "output_type": "stream",
     "text": [
      "Skipping field informationSystem: unsupported OGR type: 5\n",
      "Skipping field LocalisedCharacterString: unsupported OGR type: 5\n",
      "Skipping field reference: unsupported OGR type: 13\n",
      "Skipping field informationSystem: unsupported OGR type: 5\n",
      "Skipping field LocalisedCharacterString: unsupported OGR type: 5\n",
      "Skipping field reference: unsupported OGR type: 13\n",
      "Skipping field informationSystem: unsupported OGR type: 5\n",
      "Skipping field LocalisedCharacterString: unsupported OGR type: 5\n",
      "Skipping field reference: unsupported OGR type: 13\n"
     ]
    },
    {
     "name": "stdout",
     "output_type": "stream",
     "text": [
      "509078\n",
      "509108\n",
      "509116\n"
     ]
    },
    {
     "name": "stderr",
     "output_type": "stream",
     "text": [
      "Skipping field informationSystem: unsupported OGR type: 5\n",
      "Skipping field LocalisedCharacterString: unsupported OGR type: 5\n",
      "Skipping field reference: unsupported OGR type: 13\n",
      "Skipping field informationSystem: unsupported OGR type: 5\n",
      "Skipping field LocalisedCharacterString: unsupported OGR type: 5\n",
      "Skipping field reference: unsupported OGR type: 13\n"
     ]
    },
    {
     "name": "stdout",
     "output_type": "stream",
     "text": [
      "509141\n",
      "509191\n"
     ]
    },
    {
     "name": "stderr",
     "output_type": "stream",
     "text": [
      "Skipping field informationSystem: unsupported OGR type: 5\n",
      "Skipping field LocalisedCharacterString: unsupported OGR type: 5\n",
      "Skipping field reference: unsupported OGR type: 13\n"
     ]
    },
    {
     "name": "stdout",
     "output_type": "stream",
     "text": [
      "512176\n"
     ]
    },
    {
     "name": "stderr",
     "output_type": "stream",
     "text": [
      "Skipping field informationSystem: unsupported OGR type: 5\n",
      "Skipping field LocalisedCharacterString: unsupported OGR type: 5\n",
      "Skipping field reference: unsupported OGR type: 13\n",
      "Skipping field informationSystem: unsupported OGR type: 5\n",
      "Skipping field LocalisedCharacterString: unsupported OGR type: 5\n",
      "Skipping field reference: unsupported OGR type: 13\n"
     ]
    },
    {
     "name": "stdout",
     "output_type": "stream",
     "text": [
      "512184\n",
      "509574\n"
     ]
    },
    {
     "name": "stderr",
     "output_type": "stream",
     "text": [
      "Skipping field informationSystem: unsupported OGR type: 5\n",
      "Skipping field LocalisedCharacterString: unsupported OGR type: 5\n",
      "Skipping field reference: unsupported OGR type: 13\n",
      "Skipping field informationSystem: unsupported OGR type: 5\n",
      "Skipping field LocalisedCharacterString: unsupported OGR type: 5\n",
      "Skipping field reference: unsupported OGR type: 13\n"
     ]
    },
    {
     "name": "stdout",
     "output_type": "stream",
     "text": [
      "509612\n",
      "509621\n"
     ]
    },
    {
     "name": "stderr",
     "output_type": "stream",
     "text": [
      "Skipping field informationSystem: unsupported OGR type: 5\n",
      "Skipping field LocalisedCharacterString: unsupported OGR type: 5\n",
      "Skipping field reference: unsupported OGR type: 13\n",
      "Skipping field informationSystem: unsupported OGR type: 5\n",
      "Skipping field LocalisedCharacterString: unsupported OGR type: 5\n",
      "Skipping field reference: unsupported OGR type: 13\n",
      "Skipping field informationSystem: unsupported OGR type: 5\n",
      "Skipping field LocalisedCharacterString: unsupported OGR type: 5\n",
      "Skipping field reference: unsupported OGR type: 13\n"
     ]
    },
    {
     "name": "stdout",
     "output_type": "stream",
     "text": [
      "509647\n",
      "509752\n",
      "509841\n"
     ]
    },
    {
     "name": "stderr",
     "output_type": "stream",
     "text": [
      "Skipping field informationSystem: unsupported OGR type: 5\n",
      "Skipping field LocalisedCharacterString: unsupported OGR type: 5\n",
      "Skipping field reference: unsupported OGR type: 13\n",
      "Skipping field informationSystem: unsupported OGR type: 5\n",
      "Skipping field LocalisedCharacterString: unsupported OGR type: 5\n",
      "Skipping field reference: unsupported OGR type: 13\n"
     ]
    },
    {
     "name": "stdout",
     "output_type": "stream",
     "text": [
      "510068\n",
      "510289\n"
     ]
    },
    {
     "name": "stderr",
     "output_type": "stream",
     "text": [
      "Skipping field informationSystem: unsupported OGR type: 5\n",
      "Skipping field LocalisedCharacterString: unsupported OGR type: 5\n",
      "Skipping field reference: unsupported OGR type: 13\n"
     ]
    },
    {
     "name": "stdout",
     "output_type": "stream",
     "text": [
      "510297\n"
     ]
    },
    {
     "name": "stderr",
     "output_type": "stream",
     "text": [
      "Skipping field informationSystem: unsupported OGR type: 5\n",
      "Skipping field LocalisedCharacterString: unsupported OGR type: 5\n",
      "Skipping field reference: unsupported OGR type: 13\n",
      "Skipping field informationSystem: unsupported OGR type: 5\n",
      "Skipping field LocalisedCharacterString: unsupported OGR type: 5\n",
      "Skipping field reference: unsupported OGR type: 13\n"
     ]
    },
    {
     "name": "stdout",
     "output_type": "stream",
     "text": [
      "510343\n",
      "510378\n"
     ]
    },
    {
     "name": "stderr",
     "output_type": "stream",
     "text": [
      "Skipping field informationSystem: unsupported OGR type: 5\n",
      "Skipping field LocalisedCharacterString: unsupported OGR type: 5\n",
      "Skipping field reference: unsupported OGR type: 13\n"
     ]
    },
    {
     "name": "stdout",
     "output_type": "stream",
     "text": [
      "510432\n"
     ]
    },
    {
     "name": "stderr",
     "output_type": "stream",
     "text": [
      "Skipping field informationSystem: unsupported OGR type: 5\n",
      "Skipping field LocalisedCharacterString: unsupported OGR type: 5\n",
      "Skipping field reference: unsupported OGR type: 13\n",
      "Skipping field informationSystem: unsupported OGR type: 5\n",
      "Skipping field LocalisedCharacterString: unsupported OGR type: 5\n",
      "Skipping field reference: unsupported OGR type: 13\n"
     ]
    },
    {
     "name": "stdout",
     "output_type": "stream",
     "text": [
      "510483\n",
      "507261\n"
     ]
    },
    {
     "name": "stderr",
     "output_type": "stream",
     "text": [
      "Skipping field informationSystem: unsupported OGR type: 5\n",
      "Skipping field LocalisedCharacterString: unsupported OGR type: 5\n",
      "Skipping field reference: unsupported OGR type: 13\n"
     ]
    },
    {
     "name": "stdout",
     "output_type": "stream",
     "text": [
      "507270\n"
     ]
    },
    {
     "name": "stderr",
     "output_type": "stream",
     "text": [
      "Skipping field informationSystem: unsupported OGR type: 5\n",
      "Skipping field LocalisedCharacterString: unsupported OGR type: 5\n",
      "Skipping field reference: unsupported OGR type: 13\n",
      "Skipping field informationSystem: unsupported OGR type: 5\n",
      "Skipping field LocalisedCharacterString: unsupported OGR type: 5\n",
      "Skipping field reference: unsupported OGR type: 13\n"
     ]
    },
    {
     "name": "stdout",
     "output_type": "stream",
     "text": [
      "507334\n",
      "507377\n"
     ]
    },
    {
     "name": "stderr",
     "output_type": "stream",
     "text": [
      "Skipping field informationSystem: unsupported OGR type: 5\n",
      "Skipping field LocalisedCharacterString: unsupported OGR type: 5\n",
      "Skipping field reference: unsupported OGR type: 13\n"
     ]
    },
    {
     "name": "stdout",
     "output_type": "stream",
     "text": [
      "507423\n"
     ]
    },
    {
     "name": "stderr",
     "output_type": "stream",
     "text": [
      "Skipping field informationSystem: unsupported OGR type: 5\n",
      "Skipping field LocalisedCharacterString: unsupported OGR type: 5\n",
      "Skipping field reference: unsupported OGR type: 13\n",
      "Skipping field informationSystem: unsupported OGR type: 5\n",
      "Skipping field LocalisedCharacterString: unsupported OGR type: 5\n",
      "Skipping field reference: unsupported OGR type: 13\n"
     ]
    },
    {
     "name": "stdout",
     "output_type": "stream",
     "text": [
      "507458\n",
      "507504\n"
     ]
    },
    {
     "name": "stderr",
     "output_type": "stream",
     "text": [
      "Skipping field informationSystem: unsupported OGR type: 5\n",
      "Skipping field LocalisedCharacterString: unsupported OGR type: 5\n",
      "Skipping field reference: unsupported OGR type: 13\n"
     ]
    },
    {
     "name": "stdout",
     "output_type": "stream",
     "text": [
      "507547\n"
     ]
    },
    {
     "name": "stderr",
     "output_type": "stream",
     "text": [
      "Skipping field informationSystem: unsupported OGR type: 5\n",
      "Skipping field LocalisedCharacterString: unsupported OGR type: 5\n",
      "Skipping field reference: unsupported OGR type: 13\n",
      "Skipping field informationSystem: unsupported OGR type: 5\n",
      "Skipping field LocalisedCharacterString: unsupported OGR type: 5\n",
      "Skipping field reference: unsupported OGR type: 13\n"
     ]
    },
    {
     "name": "stdout",
     "output_type": "stream",
     "text": [
      "507580\n",
      "507610\n"
     ]
    },
    {
     "name": "stderr",
     "output_type": "stream",
     "text": [
      "Skipping field informationSystem: unsupported OGR type: 5\n",
      "Skipping field LocalisedCharacterString: unsupported OGR type: 5\n",
      "Skipping field reference: unsupported OGR type: 13\n",
      "Skipping field informationSystem: unsupported OGR type: 5\n",
      "Skipping field LocalisedCharacterString: unsupported OGR type: 5\n",
      "Skipping field reference: unsupported OGR type: 13\n",
      "Skipping field informationSystem: unsupported OGR type: 5\n",
      "Skipping field LocalisedCharacterString: unsupported OGR type: 5\n",
      "Skipping field reference: unsupported OGR type: 13\n",
      "Skipping field informationSystem: unsupported OGR type: 5\n",
      "Skipping field LocalisedCharacterString: unsupported OGR type: 5\n",
      "Skipping field reference: unsupported OGR type: 13\n"
     ]
    },
    {
     "name": "stdout",
     "output_type": "stream",
     "text": [
      "507628\n",
      "507644\n",
      "507652\n",
      "507695\n"
     ]
    },
    {
     "name": "stderr",
     "output_type": "stream",
     "text": [
      "Skipping field informationSystem: unsupported OGR type: 5\n",
      "Skipping field LocalisedCharacterString: unsupported OGR type: 5\n",
      "Skipping field reference: unsupported OGR type: 13\n"
     ]
    },
    {
     "name": "stdout",
     "output_type": "stream",
     "text": [
      "507717\n"
     ]
    },
    {
     "name": "stderr",
     "output_type": "stream",
     "text": [
      "Skipping field informationSystem: unsupported OGR type: 5\n",
      "Skipping field LocalisedCharacterString: unsupported OGR type: 5\n",
      "Skipping field reference: unsupported OGR type: 13\n",
      "Skipping field informationSystem: unsupported OGR type: 5\n",
      "Skipping field LocalisedCharacterString: unsupported OGR type: 5\n",
      "Skipping field reference: unsupported OGR type: 13\n"
     ]
    },
    {
     "name": "stdout",
     "output_type": "stream",
     "text": [
      "511935\n",
      "511951\n"
     ]
    },
    {
     "name": "stderr",
     "output_type": "stream",
     "text": [
      "Skipping field informationSystem: unsupported OGR type: 5\n",
      "Skipping field LocalisedCharacterString: unsupported OGR type: 5\n",
      "Skipping field reference: unsupported OGR type: 13\n"
     ]
    },
    {
     "name": "stdout",
     "output_type": "stream",
     "text": [
      "511986\n"
     ]
    },
    {
     "name": "stderr",
     "output_type": "stream",
     "text": [
      "Skipping field informationSystem: unsupported OGR type: 5\n",
      "Skipping field LocalisedCharacterString: unsupported OGR type: 5\n",
      "Skipping field reference: unsupported OGR type: 13\n",
      "Skipping field informationSystem: unsupported OGR type: 5\n",
      "Skipping field LocalisedCharacterString: unsupported OGR type: 5\n",
      "Skipping field reference: unsupported OGR type: 13\n"
     ]
    },
    {
     "name": "stdout",
     "output_type": "stream",
     "text": [
      "512028\n",
      "512923\n"
     ]
    },
    {
     "name": "stderr",
     "output_type": "stream",
     "text": [
      "Skipping field informationSystem: unsupported OGR type: 5\n",
      "Skipping field LocalisedCharacterString: unsupported OGR type: 5\n",
      "Skipping field reference: unsupported OGR type: 13\n"
     ]
    },
    {
     "name": "stdout",
     "output_type": "stream",
     "text": [
      "512192\n"
     ]
    },
    {
     "name": "stderr",
     "output_type": "stream",
     "text": [
      "Skipping field informationSystem: unsupported OGR type: 5\n",
      "Skipping field LocalisedCharacterString: unsupported OGR type: 5\n",
      "Skipping field reference: unsupported OGR type: 13\n",
      "Skipping field informationSystem: unsupported OGR type: 5\n",
      "Skipping field LocalisedCharacterString: unsupported OGR type: 5\n",
      "Skipping field reference: unsupported OGR type: 13\n",
      "Skipping field informationSystem: unsupported OGR type: 5\n",
      "Skipping field LocalisedCharacterString: unsupported OGR type: 5\n",
      "Skipping field reference: unsupported OGR type: 13\n"
     ]
    },
    {
     "name": "stdout",
     "output_type": "stream",
     "text": [
      "510491\n",
      "510556\n",
      "510645\n"
     ]
    },
    {
     "name": "stderr",
     "output_type": "stream",
     "text": [
      "Skipping field informationSystem: unsupported OGR type: 5\n",
      "Skipping field LocalisedCharacterString: unsupported OGR type: 5\n",
      "Skipping field reference: unsupported OGR type: 13\n"
     ]
    },
    {
     "name": "stdout",
     "output_type": "stream",
     "text": [
      "510882\n"
     ]
    },
    {
     "name": "stderr",
     "output_type": "stream",
     "text": [
      "Skipping field informationSystem: unsupported OGR type: 5\n",
      "Skipping field LocalisedCharacterString: unsupported OGR type: 5\n",
      "Skipping field reference: unsupported OGR type: 13\n"
     ]
    },
    {
     "name": "stdout",
     "output_type": "stream",
     "text": [
      "510891\n"
     ]
    },
    {
     "name": "stderr",
     "output_type": "stream",
     "text": [
      "Skipping field informationSystem: unsupported OGR type: 5\n",
      "Skipping field LocalisedCharacterString: unsupported OGR type: 5\n",
      "Skipping field reference: unsupported OGR type: 13\n",
      "Skipping field informationSystem: unsupported OGR type: 5\n",
      "Skipping field LocalisedCharacterString: unsupported OGR type: 5\n",
      "Skipping field reference: unsupported OGR type: 13\n"
     ]
    },
    {
     "name": "stdout",
     "output_type": "stream",
     "text": [
      "510939\n",
      "510980\n"
     ]
    },
    {
     "name": "stderr",
     "output_type": "stream",
     "text": [
      "Skipping field informationSystem: unsupported OGR type: 5\n",
      "Skipping field LocalisedCharacterString: unsupported OGR type: 5\n",
      "Skipping field reference: unsupported OGR type: 13\n",
      "Skipping field informationSystem: unsupported OGR type: 5\n",
      "Skipping field LocalisedCharacterString: unsupported OGR type: 5\n",
      "Skipping field reference: unsupported OGR type: 13\n",
      "Skipping field informationSystem: unsupported OGR type: 5\n",
      "Skipping field LocalisedCharacterString: unsupported OGR type: 5\n",
      "Skipping field reference: unsupported OGR type: 13\n"
     ]
    },
    {
     "name": "stdout",
     "output_type": "stream",
     "text": [
      "511021\n",
      "511081\n",
      "511161\n"
     ]
    },
    {
     "name": "stderr",
     "output_type": "stream",
     "text": [
      "Skipping field informationSystem: unsupported OGR type: 5\n",
      "Skipping field LocalisedCharacterString: unsupported OGR type: 5\n",
      "Skipping field reference: unsupported OGR type: 13\n",
      "Skipping field informationSystem: unsupported OGR type: 5\n",
      "Skipping field LocalisedCharacterString: unsupported OGR type: 5\n",
      "Skipping field reference: unsupported OGR type: 13\n"
     ]
    },
    {
     "name": "stdout",
     "output_type": "stream",
     "text": [
      "511242\n",
      "511307\n"
     ]
    },
    {
     "name": "stderr",
     "output_type": "stream",
     "text": [
      "Skipping field informationSystem: unsupported OGR type: 5\n",
      "Skipping field LocalisedCharacterString: unsupported OGR type: 5\n",
      "Skipping field reference: unsupported OGR type: 13\n",
      "Skipping field informationSystem: unsupported OGR type: 5\n",
      "Skipping field LocalisedCharacterString: unsupported OGR type: 5\n",
      "Skipping field reference: unsupported OGR type: 13\n",
      "Skipping field informationSystem: unsupported OGR type: 5\n",
      "Skipping field LocalisedCharacterString: unsupported OGR type: 5\n",
      "Skipping field reference: unsupported OGR type: 13\n"
     ]
    },
    {
     "name": "stdout",
     "output_type": "stream",
     "text": [
      "511382\n",
      "511412\n",
      "511587\n"
     ]
    },
    {
     "name": "stderr",
     "output_type": "stream",
     "text": [
      "Skipping field informationSystem: unsupported OGR type: 5\n",
      "Skipping field LocalisedCharacterString: unsupported OGR type: 5\n",
      "Skipping field reference: unsupported OGR type: 13\n"
     ]
    },
    {
     "name": "stdout",
     "output_type": "stream",
     "text": [
      "511633\n"
     ]
    },
    {
     "name": "stderr",
     "output_type": "stream",
     "text": [
      "Skipping field informationSystem: unsupported OGR type: 5\n",
      "Skipping field LocalisedCharacterString: unsupported OGR type: 5\n",
      "Skipping field reference: unsupported OGR type: 13\n"
     ]
    },
    {
     "name": "stdout",
     "output_type": "stream",
     "text": [
      "512869\n"
     ]
    },
    {
     "name": "stderr",
     "output_type": "stream",
     "text": [
      "Skipping field informationSystem: unsupported OGR type: 5\n",
      "Skipping field LocalisedCharacterString: unsupported OGR type: 5\n",
      "Skipping field reference: unsupported OGR type: 13\n",
      "Skipping field informationSystem: unsupported OGR type: 5\n",
      "Skipping field LocalisedCharacterString: unsupported OGR type: 5\n",
      "Skipping field reference: unsupported OGR type: 13\n"
     ]
    },
    {
     "name": "stdout",
     "output_type": "stream",
     "text": [
      "512877\n",
      "512893\n"
     ]
    },
    {
     "name": "stderr",
     "output_type": "stream",
     "text": [
      "Skipping field informationSystem: unsupported OGR type: 5\n",
      "Skipping field LocalisedCharacterString: unsupported OGR type: 5\n",
      "Skipping field reference: unsupported OGR type: 13\n",
      "Skipping field informationSystem: unsupported OGR type: 5\n",
      "Skipping field LocalisedCharacterString: unsupported OGR type: 5\n",
      "Skipping field reference: unsupported OGR type: 13\n",
      "Skipping field informationSystem: unsupported OGR type: 5\n",
      "Skipping field LocalisedCharacterString: unsupported OGR type: 5\n",
      "Skipping field reference: unsupported OGR type: 13\n"
     ]
    },
    {
     "name": "stdout",
     "output_type": "stream",
     "text": [
      "512907\n",
      "513628\n",
      "513636\n"
     ]
    },
    {
     "name": "stderr",
     "output_type": "stream",
     "text": [
      "Skipping field informationSystem: unsupported OGR type: 5\n",
      "Skipping field LocalisedCharacterString: unsupported OGR type: 5\n",
      "Skipping field reference: unsupported OGR type: 13\n",
      "Skipping field informationSystem: unsupported OGR type: 5\n",
      "Skipping field LocalisedCharacterString: unsupported OGR type: 5\n",
      "Skipping field reference: unsupported OGR type: 13\n",
      "Skipping field informationSystem: unsupported OGR type: 5\n",
      "Skipping field LocalisedCharacterString: unsupported OGR type: 5\n",
      "Skipping field reference: unsupported OGR type: 13\n"
     ]
    },
    {
     "name": "stdout",
     "output_type": "stream",
     "text": [
      "513644\n",
      "513661\n",
      "513695\n"
     ]
    },
    {
     "name": "stderr",
     "output_type": "stream",
     "text": [
      "Skipping field informationSystem: unsupported OGR type: 5\n",
      "Skipping field LocalisedCharacterString: unsupported OGR type: 5\n",
      "Skipping field reference: unsupported OGR type: 13\n",
      "Skipping field informationSystem: unsupported OGR type: 5\n",
      "Skipping field LocalisedCharacterString: unsupported OGR type: 5\n",
      "Skipping field reference: unsupported OGR type: 13\n",
      "Skipping field informationSystem: unsupported OGR type: 5\n",
      "Skipping field LocalisedCharacterString: unsupported OGR type: 5\n",
      "Skipping field reference: unsupported OGR type: 13\n",
      "Skipping field informationSystem: unsupported OGR type: 5\n",
      "Skipping field LocalisedCharacterString: unsupported OGR type: 5\n",
      "Skipping field reference: unsupported OGR type: 13\n"
     ]
    },
    {
     "name": "stdout",
     "output_type": "stream",
     "text": [
      "512974\n",
      "512982\n",
      "512991\n",
      "513032\n"
     ]
    },
    {
     "name": "stderr",
     "output_type": "stream",
     "text": [
      "Skipping field informationSystem: unsupported OGR type: 5\n",
      "Skipping field LocalisedCharacterString: unsupported OGR type: 5\n",
      "Skipping field reference: unsupported OGR type: 13\n"
     ]
    },
    {
     "name": "stdout",
     "output_type": "stream",
     "text": [
      "513041\n"
     ]
    },
    {
     "name": "stderr",
     "output_type": "stream",
     "text": [
      "Skipping field informationSystem: unsupported OGR type: 5\n",
      "Skipping field LocalisedCharacterString: unsupported OGR type: 5\n",
      "Skipping field reference: unsupported OGR type: 13\n"
     ]
    },
    {
     "name": "stdout",
     "output_type": "stream",
     "text": [
      "512231\n"
     ]
    },
    {
     "name": "stderr",
     "output_type": "stream",
     "text": [
      "Skipping field informationSystem: unsupported OGR type: 5\n",
      "Skipping field LocalisedCharacterString: unsupported OGR type: 5\n",
      "Skipping field reference: unsupported OGR type: 13\n",
      "Skipping field informationSystem: unsupported OGR type: 5\n",
      "Skipping field LocalisedCharacterString: unsupported OGR type: 5\n",
      "Skipping field reference: unsupported OGR type: 13\n"
     ]
    },
    {
     "name": "stdout",
     "output_type": "stream",
     "text": [
      "512281\n",
      "512401\n"
     ]
    },
    {
     "name": "stderr",
     "output_type": "stream",
     "text": [
      "Skipping field informationSystem: unsupported OGR type: 5\n",
      "Skipping field LocalisedCharacterString: unsupported OGR type: 5\n",
      "Skipping field reference: unsupported OGR type: 13\n",
      "Skipping field informationSystem: unsupported OGR type: 5\n",
      "Skipping field LocalisedCharacterString: unsupported OGR type: 5\n",
      "Skipping field reference: unsupported OGR type: 13\n"
     ]
    },
    {
     "name": "stdout",
     "output_type": "stream",
     "text": [
      "512532\n",
      "512745\n"
     ]
    },
    {
     "name": "stderr",
     "output_type": "stream",
     "text": [
      "Skipping field informationSystem: unsupported OGR type: 5\n",
      "Skipping field LocalisedCharacterString: unsupported OGR type: 5\n",
      "Skipping field reference: unsupported OGR type: 13\n",
      "Skipping field informationSystem: unsupported OGR type: 5\n",
      "Skipping field LocalisedCharacterString: unsupported OGR type: 5\n",
      "Skipping field reference: unsupported OGR type: 13\n",
      "Skipping field informationSystem: unsupported OGR type: 5\n",
      "Skipping field LocalisedCharacterString: unsupported OGR type: 5\n",
      "Skipping field reference: unsupported OGR type: 13\n"
     ]
    },
    {
     "name": "stdout",
     "output_type": "stream",
     "text": [
      "512800\n",
      "512826\n",
      "513431\n"
     ]
    },
    {
     "name": "stderr",
     "output_type": "stream",
     "text": [
      "Skipping field informationSystem: unsupported OGR type: 5\n",
      "Skipping field LocalisedCharacterString: unsupported OGR type: 5\n",
      "Skipping field reference: unsupported OGR type: 13\n"
     ]
    },
    {
     "name": "stdout",
     "output_type": "stream",
     "text": [
      "513458\n"
     ]
    },
    {
     "name": "stderr",
     "output_type": "stream",
     "text": [
      "Skipping field informationSystem: unsupported OGR type: 5\n",
      "Skipping field LocalisedCharacterString: unsupported OGR type: 5\n",
      "Skipping field reference: unsupported OGR type: 13\n"
     ]
    },
    {
     "name": "stdout",
     "output_type": "stream",
     "text": [
      "513482\n"
     ]
    },
    {
     "name": "stderr",
     "output_type": "stream",
     "text": [
      "Skipping field informationSystem: unsupported OGR type: 5\n",
      "Skipping field LocalisedCharacterString: unsupported OGR type: 5\n",
      "Skipping field reference: unsupported OGR type: 13\n",
      "Skipping field informationSystem: unsupported OGR type: 5\n",
      "Skipping field LocalisedCharacterString: unsupported OGR type: 5\n",
      "Skipping field reference: unsupported OGR type: 13\n"
     ]
    },
    {
     "name": "stdout",
     "output_type": "stream",
     "text": [
      "513491\n",
      "513504\n"
     ]
    },
    {
     "name": "stderr",
     "output_type": "stream",
     "text": [
      "Skipping field informationSystem: unsupported OGR type: 5\n",
      "Skipping field LocalisedCharacterString: unsupported OGR type: 5\n",
      "Skipping field reference: unsupported OGR type: 13\n",
      "Skipping field informationSystem: unsupported OGR type: 5\n",
      "Skipping field LocalisedCharacterString: unsupported OGR type: 5\n",
      "Skipping field reference: unsupported OGR type: 13\n",
      "Skipping field informationSystem: unsupported OGR type: 5\n",
      "Skipping field LocalisedCharacterString: unsupported OGR type: 5\n",
      "Skipping field reference: unsupported OGR type: 13\n"
     ]
    },
    {
     "name": "stdout",
     "output_type": "stream",
     "text": [
      "513512\n",
      "513521\n",
      "513539\n"
     ]
    },
    {
     "name": "stderr",
     "output_type": "stream",
     "text": [
      "Skipping field informationSystem: unsupported OGR type: 5\n",
      "Skipping field LocalisedCharacterString: unsupported OGR type: 5\n",
      "Skipping field reference: unsupported OGR type: 13\n",
      "Skipping field informationSystem: unsupported OGR type: 5\n",
      "Skipping field LocalisedCharacterString: unsupported OGR type: 5\n",
      "Skipping field reference: unsupported OGR type: 13\n",
      "Skipping field informationSystem: unsupported OGR type: 5\n",
      "Skipping field LocalisedCharacterString: unsupported OGR type: 5\n",
      "Skipping field reference: unsupported OGR type: 13\n",
      "Skipping field informationSystem: unsupported OGR type: 5\n",
      "Skipping field LocalisedCharacterString: unsupported OGR type: 5\n",
      "Skipping field reference: unsupported OGR type: 13\n"
     ]
    },
    {
     "name": "stdout",
     "output_type": "stream",
     "text": [
      "513547\n",
      "513555\n",
      "513571\n",
      "513580\n"
     ]
    },
    {
     "name": "stderr",
     "output_type": "stream",
     "text": [
      "Skipping field informationSystem: unsupported OGR type: 5\n",
      "Skipping field LocalisedCharacterString: unsupported OGR type: 5\n",
      "Skipping field reference: unsupported OGR type: 13\n",
      "Skipping field informationSystem: unsupported OGR type: 5\n",
      "Skipping field LocalisedCharacterString: unsupported OGR type: 5\n",
      "Skipping field reference: unsupported OGR type: 13\n",
      "Skipping field informationSystem: unsupported OGR type: 5\n",
      "Skipping field LocalisedCharacterString: unsupported OGR type: 5\n",
      "Skipping field reference: unsupported OGR type: 13\n"
     ]
    },
    {
     "name": "stdout",
     "output_type": "stream",
     "text": [
      "514772\n",
      "514802\n",
      "515191\n"
     ]
    },
    {
     "name": "stderr",
     "output_type": "stream",
     "text": [
      "Skipping field informationSystem: unsupported OGR type: 5\n",
      "Skipping field LocalisedCharacterString: unsupported OGR type: 5\n",
      "Skipping field reference: unsupported OGR type: 13\n",
      "Skipping field informationSystem: unsupported OGR type: 5\n",
      "Skipping field LocalisedCharacterString: unsupported OGR type: 5\n",
      "Skipping field reference: unsupported OGR type: 13\n",
      "Skipping field informationSystem: unsupported OGR type: 5\n",
      "Skipping field LocalisedCharacterString: unsupported OGR type: 5\n",
      "Skipping field reference: unsupported OGR type: 13\n"
     ]
    },
    {
     "name": "stdout",
     "output_type": "stream",
     "text": [
      "515329\n",
      "515418\n",
      "515477\n"
     ]
    },
    {
     "name": "stderr",
     "output_type": "stream",
     "text": [
      "Skipping field informationSystem: unsupported OGR type: 5\n",
      "Skipping field LocalisedCharacterString: unsupported OGR type: 5\n",
      "Skipping field reference: unsupported OGR type: 13\n",
      "Skipping field informationSystem: unsupported OGR type: 5\n",
      "Skipping field LocalisedCharacterString: unsupported OGR type: 5\n",
      "Skipping field reference: unsupported OGR type: 13\n",
      "Skipping field informationSystem: unsupported OGR type: 5\n",
      "Skipping field LocalisedCharacterString: unsupported OGR type: 5\n",
      "Skipping field reference: unsupported OGR type: 13\n"
     ]
    },
    {
     "name": "stdout",
     "output_type": "stream",
     "text": [
      "515787\n",
      "513709\n",
      "513059\n"
     ]
    },
    {
     "name": "stderr",
     "output_type": "stream",
     "text": [
      "Skipping field informationSystem: unsupported OGR type: 5\n",
      "Skipping field LocalisedCharacterString: unsupported OGR type: 5\n",
      "Skipping field reference: unsupported OGR type: 13\n",
      "Skipping field informationSystem: unsupported OGR type: 5\n",
      "Skipping field LocalisedCharacterString: unsupported OGR type: 5\n",
      "Skipping field reference: unsupported OGR type: 13\n",
      "Skipping field informationSystem: unsupported OGR type: 5\n",
      "Skipping field LocalisedCharacterString: unsupported OGR type: 5\n",
      "Skipping field reference: unsupported OGR type: 13\n"
     ]
    },
    {
     "name": "stdout",
     "output_type": "stream",
     "text": [
      "513067\n",
      "513075\n",
      "513105\n"
     ]
    },
    {
     "name": "stderr",
     "output_type": "stream",
     "text": [
      "Skipping field informationSystem: unsupported OGR type: 5\n",
      "Skipping field LocalisedCharacterString: unsupported OGR type: 5\n",
      "Skipping field reference: unsupported OGR type: 13\n",
      "Skipping field informationSystem: unsupported OGR type: 5\n",
      "Skipping field LocalisedCharacterString: unsupported OGR type: 5\n",
      "Skipping field reference: unsupported OGR type: 13\n",
      "Skipping field informationSystem: unsupported OGR type: 5\n",
      "Skipping field LocalisedCharacterString: unsupported OGR type: 5\n",
      "Skipping field reference: unsupported OGR type: 13\n",
      "Skipping field informationSystem: unsupported OGR type: 5\n",
      "Skipping field LocalisedCharacterString: unsupported OGR type: 5\n",
      "Skipping field reference: unsupported OGR type: 13\n"
     ]
    },
    {
     "name": "stdout",
     "output_type": "stream",
     "text": [
      "513113\n",
      "513130\n",
      "513148\n"
     ]
    },
    {
     "name": "stderr",
     "output_type": "stream",
     "text": [
      "Skipping field informationSystem: unsupported OGR type: 5\n",
      "Skipping field LocalisedCharacterString: unsupported OGR type: 5\n",
      "Skipping field reference: unsupported OGR type: 13\n"
     ]
    },
    {
     "name": "stdout",
     "output_type": "stream",
     "text": [
      "513164\n",
      "513181\n"
     ]
    },
    {
     "name": "stderr",
     "output_type": "stream",
     "text": [
      "Skipping field informationSystem: unsupported OGR type: 5\n",
      "Skipping field LocalisedCharacterString: unsupported OGR type: 5\n",
      "Skipping field reference: unsupported OGR type: 13\n",
      "Skipping field informationSystem: unsupported OGR type: 5\n",
      "Skipping field LocalisedCharacterString: unsupported OGR type: 5\n",
      "Skipping field reference: unsupported OGR type: 13\n",
      "Skipping field informationSystem: unsupported OGR type: 5\n",
      "Skipping field LocalisedCharacterString: unsupported OGR type: 5\n",
      "Skipping field reference: unsupported OGR type: 13\n"
     ]
    },
    {
     "name": "stdout",
     "output_type": "stream",
     "text": [
      "513199\n",
      "513202\n",
      "513211\n"
     ]
    },
    {
     "name": "stderr",
     "output_type": "stream",
     "text": [
      "Skipping field informationSystem: unsupported OGR type: 5\n",
      "Skipping field LocalisedCharacterString: unsupported OGR type: 5\n",
      "Skipping field reference: unsupported OGR type: 13\n",
      "Skipping field informationSystem: unsupported OGR type: 5\n",
      "Skipping field LocalisedCharacterString: unsupported OGR type: 5\n",
      "Skipping field reference: unsupported OGR type: 13\n",
      "Skipping field informationSystem: unsupported OGR type: 5\n",
      "Skipping field LocalisedCharacterString: unsupported OGR type: 5\n",
      "Skipping field reference: unsupported OGR type: 13\n",
      "Skipping field informationSystem: unsupported OGR type: 5\n",
      "Skipping field LocalisedCharacterString: unsupported OGR type: 5\n",
      "Skipping field reference: unsupported OGR type: 13\n"
     ]
    },
    {
     "name": "stdout",
     "output_type": "stream",
     "text": [
      "513229\n",
      "513237\n",
      "513261\n"
     ]
    },
    {
     "name": "stderr",
     "output_type": "stream",
     "text": [
      "Skipping field informationSystem: unsupported OGR type: 5\n",
      "Skipping field LocalisedCharacterString: unsupported OGR type: 5\n",
      "Skipping field reference: unsupported OGR type: 13\n"
     ]
    },
    {
     "name": "stdout",
     "output_type": "stream",
     "text": [
      "513270\n",
      "513288\n"
     ]
    },
    {
     "name": "stderr",
     "output_type": "stream",
     "text": [
      "Skipping field informationSystem: unsupported OGR type: 5\n",
      "Skipping field LocalisedCharacterString: unsupported OGR type: 5\n",
      "Skipping field reference: unsupported OGR type: 13\n",
      "Skipping field informationSystem: unsupported OGR type: 5\n",
      "Skipping field LocalisedCharacterString: unsupported OGR type: 5\n",
      "Skipping field reference: unsupported OGR type: 13\n",
      "Skipping field informationSystem: unsupported OGR type: 5\n",
      "Skipping field LocalisedCharacterString: unsupported OGR type: 5\n",
      "Skipping field reference: unsupported OGR type: 13\n"
     ]
    },
    {
     "name": "stdout",
     "output_type": "stream",
     "text": [
      "513369\n",
      "513393\n",
      "513415\n"
     ]
    },
    {
     "name": "stderr",
     "output_type": "stream",
     "text": [
      "Skipping field informationSystem: unsupported OGR type: 5\n",
      "Skipping field LocalisedCharacterString: unsupported OGR type: 5\n",
      "Skipping field reference: unsupported OGR type: 13\n",
      "Skipping field informationSystem: unsupported OGR type: 5\n",
      "Skipping field LocalisedCharacterString: unsupported OGR type: 5\n",
      "Skipping field reference: unsupported OGR type: 13\n"
     ]
    },
    {
     "name": "stdout",
     "output_type": "stream",
     "text": [
      "513423\n",
      "514047\n"
     ]
    },
    {
     "name": "stderr",
     "output_type": "stream",
     "text": [
      "Skipping field informationSystem: unsupported OGR type: 5\n",
      "Skipping field LocalisedCharacterString: unsupported OGR type: 5\n",
      "Skipping field reference: unsupported OGR type: 13\n"
     ]
    },
    {
     "name": "stdout",
     "output_type": "stream",
     "text": [
      "514055\n"
     ]
    },
    {
     "name": "stderr",
     "output_type": "stream",
     "text": [
      "Skipping field informationSystem: unsupported OGR type: 5\n",
      "Skipping field LocalisedCharacterString: unsupported OGR type: 5\n",
      "Skipping field reference: unsupported OGR type: 13\n",
      "Skipping field informationSystem: unsupported OGR type: 5\n",
      "Skipping field LocalisedCharacterString: unsupported OGR type: 5\n",
      "Skipping field reference: unsupported OGR type: 13\n",
      "Skipping field informationSystem: unsupported OGR type: 5\n",
      "Skipping field LocalisedCharacterString: unsupported OGR type: 5\n",
      "Skipping field reference: unsupported OGR type: 13\n",
      "Skipping field informationSystem: unsupported OGR type: 5\n",
      "Skipping field LocalisedCharacterString: unsupported OGR type: 5\n",
      "Skipping field reference: unsupported OGR type: 13\n"
     ]
    },
    {
     "name": "stdout",
     "output_type": "stream",
     "text": [
      "514152\n",
      "514161\n",
      "514195\n",
      "514276\n"
     ]
    },
    {
     "name": "stderr",
     "output_type": "stream",
     "text": [
      "Skipping field informationSystem: unsupported OGR type: 5\n",
      "Skipping field LocalisedCharacterString: unsupported OGR type: 5\n",
      "Skipping field reference: unsupported OGR type: 13\n"
     ]
    },
    {
     "name": "stdout",
     "output_type": "stream",
     "text": [
      "514446\n"
     ]
    },
    {
     "name": "stderr",
     "output_type": "stream",
     "text": [
      "Skipping field informationSystem: unsupported OGR type: 5\n",
      "Skipping field LocalisedCharacterString: unsupported OGR type: 5\n",
      "Skipping field reference: unsupported OGR type: 13\n",
      "Skipping field informationSystem: unsupported OGR type: 5\n",
      "Skipping field LocalisedCharacterString: unsupported OGR type: 5\n",
      "Skipping field reference: unsupported OGR type: 13\n",
      "Skipping field informationSystem: unsupported OGR type: 5\n",
      "Skipping field LocalisedCharacterString: unsupported OGR type: 5\n",
      "Skipping field reference: unsupported OGR type: 13\n"
     ]
    },
    {
     "name": "stdout",
     "output_type": "stream",
     "text": [
      "514471\n",
      "514497\n",
      "514527\n"
     ]
    },
    {
     "name": "stderr",
     "output_type": "stream",
     "text": [
      "Skipping field informationSystem: unsupported OGR type: 5\n",
      "Skipping field LocalisedCharacterString: unsupported OGR type: 5\n",
      "Skipping field reference: unsupported OGR type: 13\n",
      "Skipping field informationSystem: unsupported OGR type: 5\n",
      "Skipping field LocalisedCharacterString: unsupported OGR type: 5\n",
      "Skipping field reference: unsupported OGR type: 13\n"
     ]
    },
    {
     "name": "stdout",
     "output_type": "stream",
     "text": [
      "514705\n",
      "520420\n"
     ]
    },
    {
     "name": "stderr",
     "output_type": "stream",
     "text": [
      "Skipping field informationSystem: unsupported OGR type: 5\n",
      "Skipping field LocalisedCharacterString: unsupported OGR type: 5\n",
      "Skipping field reference: unsupported OGR type: 13\n",
      "Skipping field informationSystem: unsupported OGR type: 5\n",
      "Skipping field LocalisedCharacterString: unsupported OGR type: 5\n",
      "Skipping field reference: unsupported OGR type: 13\n",
      "Skipping field informationSystem: unsupported OGR type: 5\n",
      "Skipping field LocalisedCharacterString: unsupported OGR type: 5\n",
      "Skipping field reference: unsupported OGR type: 13\n",
      "Skipping field informationSystem: unsupported OGR type: 5\n",
      "Skipping field LocalisedCharacterString: unsupported OGR type: 5\n",
      "Skipping field reference: unsupported OGR type: 13\n"
     ]
    },
    {
     "name": "stdout",
     "output_type": "stream",
     "text": [
      "521531\n",
      "522775\n",
      "523453\n",
      "515825\n"
     ]
    },
    {
     "name": "stderr",
     "output_type": "stream",
     "text": [
      "Skipping field informationSystem: unsupported OGR type: 5\n",
      "Skipping field LocalisedCharacterString: unsupported OGR type: 5\n",
      "Skipping field reference: unsupported OGR type: 13\n",
      "Skipping field informationSystem: unsupported OGR type: 5\n",
      "Skipping field LocalisedCharacterString: unsupported OGR type: 5\n",
      "Skipping field reference: unsupported OGR type: 13\n",
      "Skipping field informationSystem: unsupported OGR type: 5\n",
      "Skipping field LocalisedCharacterString: unsupported OGR type: 5\n",
      "Skipping field reference: unsupported OGR type: 13\n"
     ]
    },
    {
     "name": "stdout",
     "output_type": "stream",
     "text": [
      "516201\n",
      "516350\n"
     ]
    },
    {
     "name": "stderr",
     "output_type": "stream",
     "text": [
      "Skipping field informationSystem: unsupported OGR type: 5\n",
      "Skipping field LocalisedCharacterString: unsupported OGR type: 5\n",
      "Skipping field reference: unsupported OGR type: 13\n",
      "Skipping field informationSystem: unsupported OGR type: 5\n",
      "Skipping field LocalisedCharacterString: unsupported OGR type: 5\n",
      "Skipping field reference: unsupported OGR type: 13\n"
     ]
    },
    {
     "name": "stdout",
     "output_type": "stream",
     "text": [
      "516619\n",
      "516635\n",
      "516686\n"
     ]
    },
    {
     "name": "stderr",
     "output_type": "stream",
     "text": [
      "Skipping field informationSystem: unsupported OGR type: 5\n",
      "Skipping field LocalisedCharacterString: unsupported OGR type: 5\n",
      "Skipping field reference: unsupported OGR type: 13\n",
      "Skipping field informationSystem: unsupported OGR type: 5\n",
      "Skipping field LocalisedCharacterString: unsupported OGR type: 5\n",
      "Skipping field reference: unsupported OGR type: 13\n"
     ]
    },
    {
     "name": "stdout",
     "output_type": "stream",
     "text": [
      "516694\n",
      "516864\n"
     ]
    },
    {
     "name": "stderr",
     "output_type": "stream",
     "text": [
      "Skipping field informationSystem: unsupported OGR type: 5\n",
      "Skipping field LocalisedCharacterString: unsupported OGR type: 5\n",
      "Skipping field reference: unsupported OGR type: 13\n"
     ]
    },
    {
     "name": "stdout",
     "output_type": "stream",
     "text": [
      "516899\n"
     ]
    },
    {
     "name": "stderr",
     "output_type": "stream",
     "text": [
      "Skipping field informationSystem: unsupported OGR type: 5\n",
      "Skipping field LocalisedCharacterString: unsupported OGR type: 5\n",
      "Skipping field reference: unsupported OGR type: 13\n",
      "Skipping field informationSystem: unsupported OGR type: 5\n",
      "Skipping field LocalisedCharacterString: unsupported OGR type: 5\n",
      "Skipping field reference: unsupported OGR type: 13\n",
      "Skipping field informationSystem: unsupported OGR type: 5\n",
      "Skipping field LocalisedCharacterString: unsupported OGR type: 5\n",
      "Skipping field reference: unsupported OGR type: 13\n"
     ]
    },
    {
     "name": "stdout",
     "output_type": "stream",
     "text": [
      "516911\n",
      "513717\n",
      "513733\n"
     ]
    },
    {
     "name": "stderr",
     "output_type": "stream",
     "text": [
      "Skipping field informationSystem: unsupported OGR type: 5\n",
      "Skipping field LocalisedCharacterString: unsupported OGR type: 5\n",
      "Skipping field reference: unsupported OGR type: 13\n",
      "Skipping field informationSystem: unsupported OGR type: 5\n",
      "Skipping field LocalisedCharacterString: unsupported OGR type: 5\n",
      "Skipping field reference: unsupported OGR type: 13\n"
     ]
    },
    {
     "name": "stdout",
     "output_type": "stream",
     "text": [
      "513750\n"
     ]
    },
    {
     "name": "stderr",
     "output_type": "stream",
     "text": [
      "Skipping field informationSystem: unsupported OGR type: 5\n",
      "Skipping field LocalisedCharacterString: unsupported OGR type: 5\n",
      "Skipping field reference: unsupported OGR type: 13\n"
     ]
    },
    {
     "name": "stdout",
     "output_type": "stream",
     "text": [
      "513768\n",
      "513873\n"
     ]
    },
    {
     "name": "stderr",
     "output_type": "stream",
     "text": [
      "Skipping field informationSystem: unsupported OGR type: 5\n",
      "Skipping field LocalisedCharacterString: unsupported OGR type: 5\n",
      "Skipping field reference: unsupported OGR type: 13\n"
     ]
    },
    {
     "name": "stdout",
     "output_type": "stream",
     "text": [
      "519146\n"
     ]
    },
    {
     "name": "stderr",
     "output_type": "stream",
     "text": [
      "Skipping field informationSystem: unsupported OGR type: 5\n",
      "Skipping field LocalisedCharacterString: unsupported OGR type: 5\n",
      "Skipping field reference: unsupported OGR type: 13\n",
      "Skipping field informationSystem: unsupported OGR type: 5\n",
      "Skipping field LocalisedCharacterString: unsupported OGR type: 5\n",
      "Skipping field reference: unsupported OGR type: 13\n",
      "Skipping field informationSystem: unsupported OGR type: 5\n",
      "Skipping field LocalisedCharacterString: unsupported OGR type: 5\n",
      "Skipping field reference: unsupported OGR type: 13\n"
     ]
    },
    {
     "name": "stdout",
     "output_type": "stream",
     "text": [
      "519651\n",
      "520047\n",
      "520306\n"
     ]
    },
    {
     "name": "stderr",
     "output_type": "stream",
     "text": [
      "Skipping field informationSystem: unsupported OGR type: 5\n",
      "Skipping field LocalisedCharacterString: unsupported OGR type: 5\n",
      "Skipping field reference: unsupported OGR type: 13\n",
      "Skipping field informationSystem: unsupported OGR type: 5\n",
      "Skipping field LocalisedCharacterString: unsupported OGR type: 5\n",
      "Skipping field reference: unsupported OGR type: 13\n",
      "Skipping field informationSystem: unsupported OGR type: 5\n",
      "Skipping field LocalisedCharacterString: unsupported OGR type: 5\n",
      "Skipping field reference: unsupported OGR type: 13\n"
     ]
    },
    {
     "name": "stdout",
     "output_type": "stream",
     "text": [
      "529818\n",
      "529826\n",
      "529834\n"
     ]
    },
    {
     "name": "stderr",
     "output_type": "stream",
     "text": [
      "Skipping field informationSystem: unsupported OGR type: 5\n",
      "Skipping field LocalisedCharacterString: unsupported OGR type: 5\n",
      "Skipping field reference: unsupported OGR type: 13\n",
      "Skipping field informationSystem: unsupported OGR type: 5\n",
      "Skipping field LocalisedCharacterString: unsupported OGR type: 5\n",
      "Skipping field reference: unsupported OGR type: 13\n",
      "Skipping field informationSystem: unsupported OGR type: 5\n",
      "Skipping field LocalisedCharacterString: unsupported OGR type: 5\n",
      "Skipping field reference: unsupported OGR type: 13\n",
      "Skipping field informationSystem: unsupported OGR type: 5\n",
      "Skipping field LocalisedCharacterString: unsupported OGR type: 5\n",
      "Skipping field reference: unsupported OGR type: 13\n"
     ]
    },
    {
     "name": "stdout",
     "output_type": "stream",
     "text": [
      "529842\n",
      "529851\n",
      "529869\n",
      "529877\n"
     ]
    },
    {
     "name": "stderr",
     "output_type": "stream",
     "text": [
      "Skipping field informationSystem: unsupported OGR type: 5\n",
      "Skipping field LocalisedCharacterString: unsupported OGR type: 5\n",
      "Skipping field reference: unsupported OGR type: 13\n",
      "Skipping field informationSystem: unsupported OGR type: 5\n",
      "Skipping field LocalisedCharacterString: unsupported OGR type: 5\n",
      "Skipping field reference: unsupported OGR type: 13\n",
      "Skipping field informationSystem: unsupported OGR type: 5\n",
      "Skipping field LocalisedCharacterString: unsupported OGR type: 5\n",
      "Skipping field reference: unsupported OGR type: 13\n",
      "Skipping field informationSystem: unsupported OGR type: 5\n",
      "Skipping field LocalisedCharacterString: unsupported OGR type: 5\n",
      "Skipping field reference: unsupported OGR type: 13\n"
     ]
    },
    {
     "name": "stdout",
     "output_type": "stream",
     "text": [
      "529885\n",
      "529893\n",
      "529907\n",
      "529915\n"
     ]
    },
    {
     "name": "stderr",
     "output_type": "stream",
     "text": [
      "Skipping field informationSystem: unsupported OGR type: 5\n",
      "Skipping field LocalisedCharacterString: unsupported OGR type: 5\n",
      "Skipping field reference: unsupported OGR type: 13\n"
     ]
    },
    {
     "name": "stdout",
     "output_type": "stream",
     "text": [
      "529923\n"
     ]
    },
    {
     "name": "stderr",
     "output_type": "stream",
     "text": [
      "Skipping field informationSystem: unsupported OGR type: 5\n",
      "Skipping field LocalisedCharacterString: unsupported OGR type: 5\n",
      "Skipping field reference: unsupported OGR type: 13\n",
      "Skipping field informationSystem: unsupported OGR type: 5\n",
      "Skipping field LocalisedCharacterString: unsupported OGR type: 5\n",
      "Skipping field reference: unsupported OGR type: 13\n",
      "Skipping field informationSystem: unsupported OGR type: 5\n",
      "Skipping field LocalisedCharacterString: unsupported OGR type: 5\n",
      "Skipping field reference: unsupported OGR type: 13\n"
     ]
    },
    {
     "name": "stdout",
     "output_type": "stream",
     "text": [
      "529931\n",
      "529940\n",
      "523640\n"
     ]
    },
    {
     "name": "stderr",
     "output_type": "stream",
     "text": [
      "Skipping field informationSystem: unsupported OGR type: 5\n",
      "Skipping field LocalisedCharacterString: unsupported OGR type: 5\n",
      "Skipping field reference: unsupported OGR type: 13\n"
     ]
    },
    {
     "name": "stdout",
     "output_type": "stream",
     "text": [
      "523704\n"
     ]
    },
    {
     "name": "stderr",
     "output_type": "stream",
     "text": [
      "Skipping field informationSystem: unsupported OGR type: 5\n",
      "Skipping field LocalisedCharacterString: unsupported OGR type: 5\n",
      "Skipping field reference: unsupported OGR type: 13\n",
      "Skipping field informationSystem: unsupported OGR type: 5\n",
      "Skipping field LocalisedCharacterString: unsupported OGR type: 5\n",
      "Skipping field reference: unsupported OGR type: 13\n",
      "Skipping field informationSystem: unsupported OGR type: 5\n",
      "Skipping field LocalisedCharacterString: unsupported OGR type: 5\n",
      "Skipping field reference: unsupported OGR type: 13\n"
     ]
    },
    {
     "name": "stdout",
     "output_type": "stream",
     "text": [
      "523917\n",
      "524891\n",
      "525227\n"
     ]
    },
    {
     "name": "stderr",
     "output_type": "stream",
     "text": [
      "Skipping field informationSystem: unsupported OGR type: 5\n",
      "Skipping field LocalisedCharacterString: unsupported OGR type: 5\n",
      "Skipping field reference: unsupported OGR type: 13\n"
     ]
    },
    {
     "name": "stdout",
     "output_type": "stream",
     "text": [
      "525588\n"
     ]
    },
    {
     "name": "stderr",
     "output_type": "stream",
     "text": [
      "Skipping field informationSystem: unsupported OGR type: 5\n",
      "Skipping field LocalisedCharacterString: unsupported OGR type: 5\n",
      "Skipping field reference: unsupported OGR type: 13\n",
      "Skipping field informationSystem: unsupported OGR type: 5\n",
      "Skipping field LocalisedCharacterString: unsupported OGR type: 5\n",
      "Skipping field reference: unsupported OGR type: 13\n"
     ]
    },
    {
     "name": "stdout",
     "output_type": "stream",
     "text": [
      "525804\n",
      "525880\n"
     ]
    },
    {
     "name": "stderr",
     "output_type": "stream",
     "text": [
      "Skipping field informationSystem: unsupported OGR type: 5\n",
      "Skipping field LocalisedCharacterString: unsupported OGR type: 5\n",
      "Skipping field reference: unsupported OGR type: 13\n"
     ]
    },
    {
     "name": "stdout",
     "output_type": "stream",
     "text": [
      "517101\n"
     ]
    },
    {
     "name": "stderr",
     "output_type": "stream",
     "text": [
      "Skipping field informationSystem: unsupported OGR type: 5\n",
      "Skipping field LocalisedCharacterString: unsupported OGR type: 5\n",
      "Skipping field reference: unsupported OGR type: 13\n",
      "Skipping field informationSystem: unsupported OGR type: 5\n",
      "Skipping field LocalisedCharacterString: unsupported OGR type: 5\n",
      "Skipping field reference: unsupported OGR type: 13\n",
      "Skipping field informationSystem: unsupported OGR type: 5\n",
      "Skipping field LocalisedCharacterString: unsupported OGR type: 5\n",
      "Skipping field reference: unsupported OGR type: 13\n",
      "Skipping field informationSystem: unsupported OGR type: 5\n",
      "Skipping field LocalisedCharacterString: unsupported OGR type: 5\n",
      "Skipping field reference: unsupported OGR type: 13\n"
     ]
    },
    {
     "name": "stdout",
     "output_type": "stream",
     "text": [
      "517151\n",
      "517208\n",
      "517224\n",
      "517275\n"
     ]
    },
    {
     "name": "stderr",
     "output_type": "stream",
     "text": [
      "Skipping field informationSystem: unsupported OGR type: 5\n",
      "Skipping field LocalisedCharacterString: unsupported OGR type: 5\n",
      "Skipping field reference: unsupported OGR type: 13\n",
      "Skipping field informationSystem: unsupported OGR type: 5\n",
      "Skipping field LocalisedCharacterString: unsupported OGR type: 5\n",
      "Skipping field reference: unsupported OGR type: 13\n",
      "Skipping field informationSystem: unsupported OGR type: 5\n",
      "Skipping field LocalisedCharacterString: unsupported OGR type: 5\n",
      "Skipping field reference: unsupported OGR type: 13\n",
      "Skipping field informationSystem: unsupported OGR type: 5\n",
      "Skipping field LocalisedCharacterString: unsupported OGR type: 5\n",
      "Skipping field reference: unsupported OGR type: 13\n"
     ]
    },
    {
     "name": "stdout",
     "output_type": "stream",
     "text": [
      "517321\n",
      "517437\n",
      "517445\n",
      "517534\n"
     ]
    },
    {
     "name": "stderr",
     "output_type": "stream",
     "text": [
      "Skipping field informationSystem: unsupported OGR type: 5\n",
      "Skipping field LocalisedCharacterString: unsupported OGR type: 5\n",
      "Skipping field reference: unsupported OGR type: 13\n",
      "Skipping field informationSystem: unsupported OGR type: 5\n",
      "Skipping field LocalisedCharacterString: unsupported OGR type: 5\n",
      "Skipping field reference: unsupported OGR type: 13\n"
     ]
    },
    {
     "name": "stdout",
     "output_type": "stream",
     "text": [
      "517569\n",
      "517585\n"
     ]
    },
    {
     "name": "stderr",
     "output_type": "stream",
     "text": [
      "Skipping field informationSystem: unsupported OGR type: 5\n",
      "Skipping field LocalisedCharacterString: unsupported OGR type: 5\n",
      "Skipping field reference: unsupported OGR type: 13\n",
      "Skipping field informationSystem: unsupported OGR type: 5\n",
      "Skipping field LocalisedCharacterString: unsupported OGR type: 5\n",
      "Skipping field reference: unsupported OGR type: 13\n",
      "Skipping field informationSystem: unsupported OGR type: 5\n",
      "Skipping field LocalisedCharacterString: unsupported OGR type: 5\n",
      "Skipping field reference: unsupported OGR type: 13\n"
     ]
    },
    {
     "name": "stdout",
     "output_type": "stream",
     "text": [
      "517607\n",
      "517615\n",
      "517666\n"
     ]
    },
    {
     "name": "stderr",
     "output_type": "stream",
     "text": [
      "Skipping field informationSystem: unsupported OGR type: 5\n",
      "Skipping field LocalisedCharacterString: unsupported OGR type: 5\n",
      "Skipping field reference: unsupported OGR type: 13\n",
      "Skipping field informationSystem: unsupported OGR type: 5\n",
      "Skipping field LocalisedCharacterString: unsupported OGR type: 5\n",
      "Skipping field reference: unsupported OGR type: 13\n"
     ]
    },
    {
     "name": "stdout",
     "output_type": "stream",
     "text": [
      "517747\n",
      "517836\n"
     ]
    },
    {
     "name": "stderr",
     "output_type": "stream",
     "text": [
      "Skipping field informationSystem: unsupported OGR type: 5\n",
      "Skipping field LocalisedCharacterString: unsupported OGR type: 5\n",
      "Skipping field reference: unsupported OGR type: 13\n",
      "Skipping field informationSystem: unsupported OGR type: 5\n",
      "Skipping field LocalisedCharacterString: unsupported OGR type: 5\n",
      "Skipping field reference: unsupported OGR type: 13\n"
     ]
    },
    {
     "name": "stdout",
     "output_type": "stream",
     "text": [
      "517844\n",
      "517887\n"
     ]
    },
    {
     "name": "stderr",
     "output_type": "stream",
     "text": [
      "Skipping field informationSystem: unsupported OGR type: 5\n",
      "Skipping field LocalisedCharacterString: unsupported OGR type: 5\n",
      "Skipping field reference: unsupported OGR type: 13\n",
      "Skipping field informationSystem: unsupported OGR type: 5\n",
      "Skipping field LocalisedCharacterString: unsupported OGR type: 5\n",
      "Skipping field reference: unsupported OGR type: 13\n",
      "Skipping field informationSystem: unsupported OGR type: 5\n",
      "Skipping field LocalisedCharacterString: unsupported OGR type: 5\n",
      "Skipping field reference: unsupported OGR type: 13\n",
      "Skipping field informationSystem: unsupported OGR type: 5\n",
      "Skipping field LocalisedCharacterString: unsupported OGR type: 5\n",
      "Skipping field reference: unsupported OGR type: 13\n"
     ]
    },
    {
     "name": "stdout",
     "output_type": "stream",
     "text": [
      "517909\n",
      "518026\n",
      "519031\n"
     ]
    },
    {
     "name": "stderr",
     "output_type": "stream",
     "text": [
      "Skipping field informationSystem: unsupported OGR type: 5\n",
      "Skipping field LocalisedCharacterString: unsupported OGR type: 5\n",
      "Skipping field reference: unsupported OGR type: 13\n",
      "Skipping field informationSystem: unsupported OGR type: 5\n",
      "Skipping field LocalisedCharacterString: unsupported OGR type: 5\n",
      "Skipping field reference: unsupported OGR type: 13\n",
      "Skipping field informationSystem: unsupported OGR type: 5\n",
      "Skipping field LocalisedCharacterString: unsupported OGR type: 5\n",
      "Skipping field reference: unsupported OGR type: 13\n"
     ]
    },
    {
     "name": "stdout",
     "output_type": "stream",
     "text": [
      "529656\n",
      "529664\n",
      "529672\n",
      "529681\n"
     ]
    },
    {
     "name": "stderr",
     "output_type": "stream",
     "text": [
      "Skipping field informationSystem: unsupported OGR type: 5\n",
      "Skipping field LocalisedCharacterString: unsupported OGR type: 5\n",
      "Skipping field reference: unsupported OGR type: 13\n"
     ]
    },
    {
     "name": "stdout",
     "output_type": "stream",
     "text": [
      "529699\n"
     ]
    },
    {
     "name": "stderr",
     "output_type": "stream",
     "text": [
      "Skipping field informationSystem: unsupported OGR type: 5\n",
      "Skipping field LocalisedCharacterString: unsupported OGR type: 5\n",
      "Skipping field reference: unsupported OGR type: 13\n",
      "Skipping field informationSystem: unsupported OGR type: 5\n",
      "Skipping field LocalisedCharacterString: unsupported OGR type: 5\n",
      "Skipping field reference: unsupported OGR type: 13\n",
      "Skipping field informationSystem: unsupported OGR type: 5\n",
      "Skipping field LocalisedCharacterString: unsupported OGR type: 5\n",
      "Skipping field reference: unsupported OGR type: 13\n",
      "Skipping field informationSystem: unsupported OGR type: 5\n",
      "Skipping field LocalisedCharacterString: unsupported OGR type: 5\n",
      "Skipping field reference: unsupported OGR type: 13\n"
     ]
    },
    {
     "name": "stdout",
     "output_type": "stream",
     "text": [
      "529702\n",
      "529711\n",
      "529729\n"
     ]
    },
    {
     "name": "stderr",
     "output_type": "stream",
     "text": [
      "Skipping field informationSystem: unsupported OGR type: 5\n",
      "Skipping field LocalisedCharacterString: unsupported OGR type: 5\n",
      "Skipping field reference: unsupported OGR type: 13\n",
      "Skipping field informationSystem: unsupported OGR type: 5\n",
      "Skipping field LocalisedCharacterString: unsupported OGR type: 5\n",
      "Skipping field reference: unsupported OGR type: 13\n",
      "Skipping field informationSystem: unsupported OGR type: 5\n",
      "Skipping field LocalisedCharacterString: unsupported OGR type: 5\n",
      "Skipping field reference: unsupported OGR type: 13\n"
     ]
    },
    {
     "name": "stdout",
     "output_type": "stream",
     "text": [
      "529737\n",
      "529745\n",
      "529753\n",
      "529761\n"
     ]
    },
    {
     "name": "stderr",
     "output_type": "stream",
     "text": [
      "Skipping field informationSystem: unsupported OGR type: 5\n",
      "Skipping field LocalisedCharacterString: unsupported OGR type: 5\n",
      "Skipping field reference: unsupported OGR type: 13\n",
      "Skipping field informationSystem: unsupported OGR type: 5\n",
      "Skipping field LocalisedCharacterString: unsupported OGR type: 5\n",
      "Skipping field reference: unsupported OGR type: 13\n"
     ]
    },
    {
     "name": "stdout",
     "output_type": "stream",
     "text": [
      "529770\n",
      "529788\n"
     ]
    },
    {
     "name": "stderr",
     "output_type": "stream",
     "text": [
      "Skipping field informationSystem: unsupported OGR type: 5\n",
      "Skipping field LocalisedCharacterString: unsupported OGR type: 5\n",
      "Skipping field reference: unsupported OGR type: 13\n"
     ]
    },
    {
     "name": "stdout",
     "output_type": "stream",
     "text": [
      "529796\n"
     ]
    },
    {
     "name": "stderr",
     "output_type": "stream",
     "text": [
      "Skipping field informationSystem: unsupported OGR type: 5\n",
      "Skipping field LocalisedCharacterString: unsupported OGR type: 5\n",
      "Skipping field reference: unsupported OGR type: 13\n"
     ]
    },
    {
     "name": "stdout",
     "output_type": "stream",
     "text": [
      "530441\n"
     ]
    },
    {
     "name": "stderr",
     "output_type": "stream",
     "text": [
      "Skipping field informationSystem: unsupported OGR type: 5\n",
      "Skipping field LocalisedCharacterString: unsupported OGR type: 5\n",
      "Skipping field reference: unsupported OGR type: 13\n"
     ]
    },
    {
     "name": "stdout",
     "output_type": "stream",
     "text": [
      "530450\n"
     ]
    },
    {
     "name": "stderr",
     "output_type": "stream",
     "text": [
      "Skipping field informationSystem: unsupported OGR type: 5\n",
      "Skipping field LocalisedCharacterString: unsupported OGR type: 5\n",
      "Skipping field reference: unsupported OGR type: 13\n"
     ]
    },
    {
     "name": "stdout",
     "output_type": "stream",
     "text": [
      "530468\n"
     ]
    },
    {
     "name": "stderr",
     "output_type": "stream",
     "text": [
      "Skipping field informationSystem: unsupported OGR type: 5\n",
      "Skipping field LocalisedCharacterString: unsupported OGR type: 5\n",
      "Skipping field reference: unsupported OGR type: 13\n",
      "Skipping field informationSystem: unsupported OGR type: 5\n",
      "Skipping field LocalisedCharacterString: unsupported OGR type: 5\n",
      "Skipping field reference: unsupported OGR type: 13\n"
     ]
    },
    {
     "name": "stdout",
     "output_type": "stream",
     "text": [
      "530484\n",
      "529958\n"
     ]
    },
    {
     "name": "stderr",
     "output_type": "stream",
     "text": [
      "Skipping field informationSystem: unsupported OGR type: 5\n",
      "Skipping field LocalisedCharacterString: unsupported OGR type: 5\n",
      "Skipping field reference: unsupported OGR type: 13\n"
     ]
    },
    {
     "name": "stdout",
     "output_type": "stream",
     "text": [
      "529966\n"
     ]
    },
    {
     "name": "stderr",
     "output_type": "stream",
     "text": [
      "Skipping field informationSystem: unsupported OGR type: 5\n",
      "Skipping field LocalisedCharacterString: unsupported OGR type: 5\n",
      "Skipping field reference: unsupported OGR type: 13\n",
      "Skipping field informationSystem: unsupported OGR type: 5\n",
      "Skipping field LocalisedCharacterString: unsupported OGR type: 5\n",
      "Skipping field reference: unsupported OGR type: 13\n"
     ]
    },
    {
     "name": "stdout",
     "output_type": "stream",
     "text": [
      "529974\n",
      "529982\n"
     ]
    },
    {
     "name": "stderr",
     "output_type": "stream",
     "text": [
      "Skipping field informationSystem: unsupported OGR type: 5\n",
      "Skipping field LocalisedCharacterString: unsupported OGR type: 5\n",
      "Skipping field reference: unsupported OGR type: 13\n"
     ]
    },
    {
     "name": "stdout",
     "output_type": "stream",
     "text": [
      "529991\n"
     ]
    },
    {
     "name": "stderr",
     "output_type": "stream",
     "text": [
      "Skipping field informationSystem: unsupported OGR type: 5\n",
      "Skipping field LocalisedCharacterString: unsupported OGR type: 5\n",
      "Skipping field reference: unsupported OGR type: 13\n",
      "Skipping field informationSystem: unsupported OGR type: 5\n",
      "Skipping field LocalisedCharacterString: unsupported OGR type: 5\n",
      "Skipping field reference: unsupported OGR type: 13\n",
      "Skipping field informationSystem: unsupported OGR type: 5\n",
      "Skipping field LocalisedCharacterString: unsupported OGR type: 5\n",
      "Skipping field reference: unsupported OGR type: 13\n",
      "Skipping field informationSystem: unsupported OGR type: 5\n",
      "Skipping field LocalisedCharacterString: unsupported OGR type: 5\n",
      "Skipping field reference: unsupported OGR type: 13\n"
     ]
    },
    {
     "name": "stdout",
     "output_type": "stream",
     "text": [
      "530000\n",
      "530018\n",
      "530026\n",
      "530034\n"
     ]
    },
    {
     "name": "stderr",
     "output_type": "stream",
     "text": [
      "Skipping field informationSystem: unsupported OGR type: 5\n",
      "Skipping field LocalisedCharacterString: unsupported OGR type: 5\n",
      "Skipping field reference: unsupported OGR type: 13\n"
     ]
    },
    {
     "name": "stdout",
     "output_type": "stream",
     "text": [
      "530042\n"
     ]
    },
    {
     "name": "stderr",
     "output_type": "stream",
     "text": [
      "Skipping field informationSystem: unsupported OGR type: 5\n",
      "Skipping field LocalisedCharacterString: unsupported OGR type: 5\n",
      "Skipping field reference: unsupported OGR type: 13\n",
      "Skipping field informationSystem: unsupported OGR type: 5\n",
      "Skipping field LocalisedCharacterString: unsupported OGR type: 5\n",
      "Skipping field reference: unsupported OGR type: 13\n",
      "Skipping field informationSystem: unsupported OGR type: 5\n",
      "Skipping field LocalisedCharacterString: unsupported OGR type: 5\n",
      "Skipping field reference: unsupported OGR type: 13\n"
     ]
    },
    {
     "name": "stdout",
     "output_type": "stream",
     "text": [
      "530051\n",
      "530069\n",
      "530085\n"
     ]
    },
    {
     "name": "stderr",
     "output_type": "stream",
     "text": [
      "Skipping field informationSystem: unsupported OGR type: 5\n",
      "Skipping field LocalisedCharacterString: unsupported OGR type: 5\n",
      "Skipping field reference: unsupported OGR type: 13\n"
     ]
    },
    {
     "name": "stdout",
     "output_type": "stream",
     "text": [
      "530093\n"
     ]
    },
    {
     "name": "stderr",
     "output_type": "stream",
     "text": [
      "Skipping field informationSystem: unsupported OGR type: 5\n",
      "Skipping field LocalisedCharacterString: unsupported OGR type: 5\n",
      "Skipping field reference: unsupported OGR type: 13\n",
      "Skipping field informationSystem: unsupported OGR type: 5\n",
      "Skipping field LocalisedCharacterString: unsupported OGR type: 5\n",
      "Skipping field reference: unsupported OGR type: 13\n",
      "Skipping field informationSystem: unsupported OGR type: 5\n",
      "Skipping field LocalisedCharacterString: unsupported OGR type: 5\n",
      "Skipping field reference: unsupported OGR type: 13\n",
      "Skipping field informationSystem: unsupported OGR type: 5\n",
      "Skipping field LocalisedCharacterString: unsupported OGR type: 5\n",
      "Skipping field reference: unsupported OGR type: 13\n"
     ]
    },
    {
     "name": "stdout",
     "output_type": "stream",
     "text": [
      "530115\n",
      "530123\n",
      "530131\n",
      "530140\n"
     ]
    },
    {
     "name": "stderr",
     "output_type": "stream",
     "text": [
      "Skipping field informationSystem: unsupported OGR type: 5\n",
      "Skipping field LocalisedCharacterString: unsupported OGR type: 5\n",
      "Skipping field reference: unsupported OGR type: 13\n"
     ]
    },
    {
     "name": "stdout",
     "output_type": "stream",
     "text": [
      "530158\n"
     ]
    },
    {
     "name": "stderr",
     "output_type": "stream",
     "text": [
      "Skipping field informationSystem: unsupported OGR type: 5\n",
      "Skipping field LocalisedCharacterString: unsupported OGR type: 5\n",
      "Skipping field reference: unsupported OGR type: 13\n",
      "Skipping field informationSystem: unsupported OGR type: 5\n",
      "Skipping field LocalisedCharacterString: unsupported OGR type: 5\n",
      "Skipping field reference: unsupported OGR type: 13\n"
     ]
    },
    {
     "name": "stdout",
     "output_type": "stream",
     "text": [
      "530166\n",
      "530174\n"
     ]
    },
    {
     "name": "stderr",
     "output_type": "stream",
     "text": [
      "Skipping field informationSystem: unsupported OGR type: 5\n",
      "Skipping field LocalisedCharacterString: unsupported OGR type: 5\n",
      "Skipping field reference: unsupported OGR type: 13\n"
     ]
    },
    {
     "name": "stdout",
     "output_type": "stream",
     "text": [
      "525979\n"
     ]
    },
    {
     "name": "stderr",
     "output_type": "stream",
     "text": [
      "Skipping field informationSystem: unsupported OGR type: 5\n",
      "Skipping field LocalisedCharacterString: unsupported OGR type: 5\n",
      "Skipping field reference: unsupported OGR type: 13\n",
      "Skipping field informationSystem: unsupported OGR type: 5\n",
      "Skipping field LocalisedCharacterString: unsupported OGR type: 5\n",
      "Skipping field reference: unsupported OGR type: 13\n",
      "Skipping field informationSystem: unsupported OGR type: 5\n",
      "Skipping field LocalisedCharacterString: unsupported OGR type: 5\n",
      "Skipping field reference: unsupported OGR type: 13\n"
     ]
    },
    {
     "name": "stdout",
     "output_type": "stream",
     "text": [
      "526169\n",
      "526622\n",
      "528196\n"
     ]
    },
    {
     "name": "stderr",
     "output_type": "stream",
     "text": [
      "Skipping field informationSystem: unsupported OGR type: 5\n",
      "Skipping field LocalisedCharacterString: unsupported OGR type: 5\n",
      "Skipping field reference: unsupported OGR type: 13\n"
     ]
    },
    {
     "name": "stdout",
     "output_type": "stream",
     "text": [
      "529303\n"
     ]
    },
    {
     "name": "stderr",
     "output_type": "stream",
     "text": [
      "Skipping field informationSystem: unsupported OGR type: 5\n",
      "Skipping field LocalisedCharacterString: unsupported OGR type: 5\n",
      "Skipping field reference: unsupported OGR type: 13\n",
      "Skipping field informationSystem: unsupported OGR type: 5\n",
      "Skipping field LocalisedCharacterString: unsupported OGR type: 5\n",
      "Skipping field reference: unsupported OGR type: 13\n",
      "Skipping field informationSystem: unsupported OGR type: 5\n",
      "Skipping field LocalisedCharacterString: unsupported OGR type: 5\n",
      "Skipping field reference: unsupported OGR type: 13\n"
     ]
    },
    {
     "name": "stdout",
     "output_type": "stream",
     "text": [
      "529451\n",
      "559288\n",
      "529478\n"
     ]
    },
    {
     "name": "stderr",
     "output_type": "stream",
     "text": [
      "Skipping field informationSystem: unsupported OGR type: 5\n",
      "Skipping field LocalisedCharacterString: unsupported OGR type: 5\n",
      "Skipping field reference: unsupported OGR type: 13\n"
     ]
    },
    {
     "name": "stdout",
     "output_type": "stream",
     "text": [
      "529486\n"
     ]
    },
    {
     "name": "stderr",
     "output_type": "stream",
     "text": [
      "Skipping field informationSystem: unsupported OGR type: 5\n",
      "Skipping field LocalisedCharacterString: unsupported OGR type: 5\n",
      "Skipping field reference: unsupported OGR type: 13\n",
      "Skipping field informationSystem: unsupported OGR type: 5\n",
      "Skipping field LocalisedCharacterString: unsupported OGR type: 5\n",
      "Skipping field reference: unsupported OGR type: 13\n",
      "Skipping field informationSystem: unsupported OGR type: 5\n",
      "Skipping field LocalisedCharacterString: unsupported OGR type: 5\n",
      "Skipping field reference: unsupported OGR type: 13\n"
     ]
    },
    {
     "name": "stdout",
     "output_type": "stream",
     "text": [
      "529516\n",
      "529524\n",
      "529532\n"
     ]
    },
    {
     "name": "stderr",
     "output_type": "stream",
     "text": [
      "Skipping field informationSystem: unsupported OGR type: 5\n",
      "Skipping field LocalisedCharacterString: unsupported OGR type: 5\n",
      "Skipping field reference: unsupported OGR type: 13\n",
      "Skipping field informationSystem: unsupported OGR type: 5\n",
      "Skipping field LocalisedCharacterString: unsupported OGR type: 5\n",
      "Skipping field reference: unsupported OGR type: 13\n"
     ]
    },
    {
     "name": "stdout",
     "output_type": "stream",
     "text": [
      "529541\n",
      "529559\n"
     ]
    },
    {
     "name": "stderr",
     "output_type": "stream",
     "text": [
      "Skipping field informationSystem: unsupported OGR type: 5\n",
      "Skipping field LocalisedCharacterString: unsupported OGR type: 5\n",
      "Skipping field reference: unsupported OGR type: 13\n",
      "Skipping field informationSystem: unsupported OGR type: 5\n",
      "Skipping field LocalisedCharacterString: unsupported OGR type: 5\n",
      "Skipping field reference: unsupported OGR type: 13\n"
     ]
    },
    {
     "name": "stdout",
     "output_type": "stream",
     "text": [
      "529567\n",
      "529575\n"
     ]
    },
    {
     "name": "stderr",
     "output_type": "stream",
     "text": [
      "Skipping field informationSystem: unsupported OGR type: 5\n",
      "Skipping field LocalisedCharacterString: unsupported OGR type: 5\n",
      "Skipping field reference: unsupported OGR type: 13\n",
      "Skipping field informationSystem: unsupported OGR type: 5\n",
      "Skipping field LocalisedCharacterString: unsupported OGR type: 5\n",
      "Skipping field reference: unsupported OGR type: 13\n",
      "Skipping field informationSystem: unsupported OGR type: 5\n",
      "Skipping field LocalisedCharacterString: unsupported OGR type: 5\n",
      "Skipping field reference: unsupported OGR type: 13\n",
      "Skipping field informationSystem: unsupported OGR type: 5\n",
      "Skipping field LocalisedCharacterString: unsupported OGR type: 5\n",
      "Skipping field reference: unsupported OGR type: 13\n"
     ]
    },
    {
     "name": "stdout",
     "output_type": "stream",
     "text": [
      "529583\n",
      "529591\n",
      "529605\n",
      "529613\n"
     ]
    },
    {
     "name": "stderr",
     "output_type": "stream",
     "text": [
      "Skipping field informationSystem: unsupported OGR type: 5\n",
      "Skipping field LocalisedCharacterString: unsupported OGR type: 5\n",
      "Skipping field reference: unsupported OGR type: 13\n",
      "Skipping field informationSystem: unsupported OGR type: 5\n",
      "Skipping field LocalisedCharacterString: unsupported OGR type: 5\n",
      "Skipping field reference: unsupported OGR type: 13\n"
     ]
    },
    {
     "name": "stdout",
     "output_type": "stream",
     "text": [
      "529621\n",
      "529630\n"
     ]
    },
    {
     "name": "stderr",
     "output_type": "stream",
     "text": [
      "Skipping field informationSystem: unsupported OGR type: 5\n",
      "Skipping field LocalisedCharacterString: unsupported OGR type: 5\n",
      "Skipping field reference: unsupported OGR type: 13\n"
     ]
    },
    {
     "name": "stdout",
     "output_type": "stream",
     "text": [
      "529648\n"
     ]
    },
    {
     "name": "stderr",
     "output_type": "stream",
     "text": [
      "Skipping field informationSystem: unsupported OGR type: 5\n",
      "Skipping field LocalisedCharacterString: unsupported OGR type: 5\n",
      "Skipping field reference: unsupported OGR type: 13\n",
      "Skipping field informationSystem: unsupported OGR type: 5\n",
      "Skipping field LocalisedCharacterString: unsupported OGR type: 5\n",
      "Skipping field reference: unsupported OGR type: 13\n"
     ]
    },
    {
     "name": "stdout",
     "output_type": "stream",
     "text": [
      "530883\n",
      "530891\n"
     ]
    },
    {
     "name": "stderr",
     "output_type": "stream",
     "text": [
      "Skipping field informationSystem: unsupported OGR type: 5\n",
      "Skipping field LocalisedCharacterString: unsupported OGR type: 5\n",
      "Skipping field reference: unsupported OGR type: 13\n"
     ]
    },
    {
     "name": "stdout",
     "output_type": "stream",
     "text": [
      "530905\n"
     ]
    },
    {
     "name": "stderr",
     "output_type": "stream",
     "text": [
      "Skipping field informationSystem: unsupported OGR type: 5\n",
      "Skipping field LocalisedCharacterString: unsupported OGR type: 5\n",
      "Skipping field reference: unsupported OGR type: 13\n"
     ]
    },
    {
     "name": "stdout",
     "output_type": "stream",
     "text": [
      "530913\n"
     ]
    },
    {
     "name": "stderr",
     "output_type": "stream",
     "text": [
      "Skipping field informationSystem: unsupported OGR type: 5\n",
      "Skipping field LocalisedCharacterString: unsupported OGR type: 5\n",
      "Skipping field reference: unsupported OGR type: 13\n",
      "Skipping field informationSystem: unsupported OGR type: 5\n",
      "Skipping field LocalisedCharacterString: unsupported OGR type: 5\n",
      "Skipping field reference: unsupported OGR type: 13\n"
     ]
    },
    {
     "name": "stdout",
     "output_type": "stream",
     "text": [
      "530921\n",
      "530930\n"
     ]
    },
    {
     "name": "stderr",
     "output_type": "stream",
     "text": [
      "Skipping field informationSystem: unsupported OGR type: 5\n",
      "Skipping field LocalisedCharacterString: unsupported OGR type: 5\n",
      "Skipping field reference: unsupported OGR type: 13\n",
      "Skipping field informationSystem: unsupported OGR type: 5\n",
      "Skipping field LocalisedCharacterString: unsupported OGR type: 5\n",
      "Skipping field reference: unsupported OGR type: 13\n",
      "Skipping field informationSystem: unsupported OGR type: 5\n",
      "Skipping field LocalisedCharacterString: unsupported OGR type: 5\n",
      "Skipping field reference: unsupported OGR type: 13\n",
      "Skipping field informationSystem: unsupported OGR type: 5\n",
      "Skipping field LocalisedCharacterString: unsupported OGR type: 5\n",
      "Skipping field reference: unsupported OGR type: 13\n"
     ]
    },
    {
     "name": "stdout",
     "output_type": "stream",
     "text": [
      "530948\n",
      "530956\n",
      "530964\n",
      "530972\n"
     ]
    },
    {
     "name": "stderr",
     "output_type": "stream",
     "text": [
      "Skipping field informationSystem: unsupported OGR type: 5\n",
      "Skipping field LocalisedCharacterString: unsupported OGR type: 5\n",
      "Skipping field reference: unsupported OGR type: 13\n",
      "Skipping field informationSystem: unsupported OGR type: 5\n",
      "Skipping field LocalisedCharacterString: unsupported OGR type: 5\n",
      "Skipping field reference: unsupported OGR type: 13\n",
      "Skipping field informationSystem: unsupported OGR type: 5\n",
      "Skipping field LocalisedCharacterString: unsupported OGR type: 5\n",
      "Skipping field reference: unsupported OGR type: 13\n"
     ]
    },
    {
     "name": "stdout",
     "output_type": "stream",
     "text": [
      "530981\n",
      "530999\n",
      "531006\n"
     ]
    },
    {
     "name": "stderr",
     "output_type": "stream",
     "text": [
      "Skipping field informationSystem: unsupported OGR type: 5\n",
      "Skipping field LocalisedCharacterString: unsupported OGR type: 5\n",
      "Skipping field reference: unsupported OGR type: 13\n",
      "Skipping field informationSystem: unsupported OGR type: 5\n",
      "Skipping field LocalisedCharacterString: unsupported OGR type: 5\n",
      "Skipping field reference: unsupported OGR type: 13\n",
      "Skipping field informationSystem: unsupported OGR type: 5\n",
      "Skipping field LocalisedCharacterString: unsupported OGR type: 5\n",
      "Skipping field reference: unsupported OGR type: 13\n"
     ]
    },
    {
     "name": "stdout",
     "output_type": "stream",
     "text": [
      "530492\n",
      "530506\n",
      "530514\n"
     ]
    },
    {
     "name": "stderr",
     "output_type": "stream",
     "text": [
      "Skipping field informationSystem: unsupported OGR type: 5\n",
      "Skipping field LocalisedCharacterString: unsupported OGR type: 5\n",
      "Skipping field reference: unsupported OGR type: 13\n"
     ]
    },
    {
     "name": "stdout",
     "output_type": "stream",
     "text": [
      "530522\n"
     ]
    },
    {
     "name": "stderr",
     "output_type": "stream",
     "text": [
      "Skipping field informationSystem: unsupported OGR type: 5\n",
      "Skipping field LocalisedCharacterString: unsupported OGR type: 5\n",
      "Skipping field reference: unsupported OGR type: 13\n"
     ]
    },
    {
     "name": "stdout",
     "output_type": "stream",
     "text": [
      "530531\n"
     ]
    },
    {
     "name": "stderr",
     "output_type": "stream",
     "text": [
      "Skipping field informationSystem: unsupported OGR type: 5\n",
      "Skipping field LocalisedCharacterString: unsupported OGR type: 5\n",
      "Skipping field reference: unsupported OGR type: 13\n",
      "Skipping field informationSystem: unsupported OGR type: 5\n",
      "Skipping field LocalisedCharacterString: unsupported OGR type: 5\n",
      "Skipping field reference: unsupported OGR type: 13\n"
     ]
    },
    {
     "name": "stdout",
     "output_type": "stream",
     "text": [
      "530182\n",
      "530191\n"
     ]
    },
    {
     "name": "stderr",
     "output_type": "stream",
     "text": [
      "Skipping field informationSystem: unsupported OGR type: 5\n",
      "Skipping field LocalisedCharacterString: unsupported OGR type: 5\n",
      "Skipping field reference: unsupported OGR type: 13\n"
     ]
    },
    {
     "name": "stdout",
     "output_type": "stream",
     "text": [
      "530204\n"
     ]
    },
    {
     "name": "stderr",
     "output_type": "stream",
     "text": [
      "Skipping field informationSystem: unsupported OGR type: 5\n",
      "Skipping field LocalisedCharacterString: unsupported OGR type: 5\n",
      "Skipping field reference: unsupported OGR type: 13\n",
      "Skipping field informationSystem: unsupported OGR type: 5\n",
      "Skipping field LocalisedCharacterString: unsupported OGR type: 5\n",
      "Skipping field reference: unsupported OGR type: 13\n",
      "Skipping field informationSystem: unsupported OGR type: 5\n",
      "Skipping field LocalisedCharacterString: unsupported OGR type: 5\n",
      "Skipping field reference: unsupported OGR type: 13\n",
      "Skipping field informationSystem: unsupported OGR type: 5\n",
      "Skipping field LocalisedCharacterString: unsupported OGR type: 5\n",
      "Skipping field reference: unsupported OGR type: 13\n"
     ]
    },
    {
     "name": "stdout",
     "output_type": "stream",
     "text": [
      "530212\n",
      "530221\n",
      "530239\n",
      "530247\n"
     ]
    },
    {
     "name": "stderr",
     "output_type": "stream",
     "text": [
      "Skipping field informationSystem: unsupported OGR type: 5\n",
      "Skipping field LocalisedCharacterString: unsupported OGR type: 5\n",
      "Skipping field reference: unsupported OGR type: 13\n",
      "Skipping field informationSystem: unsupported OGR type: 5\n",
      "Skipping field LocalisedCharacterString: unsupported OGR type: 5\n",
      "Skipping field reference: unsupported OGR type: 13\n",
      "Skipping field informationSystem: unsupported OGR type: 5\n",
      "Skipping field LocalisedCharacterString: unsupported OGR type: 5\n",
      "Skipping field reference: unsupported OGR type: 13\n"
     ]
    },
    {
     "name": "stdout",
     "output_type": "stream",
     "text": [
      "530263\n",
      "530271\n",
      "530280\n"
     ]
    },
    {
     "name": "stderr",
     "output_type": "stream",
     "text": [
      "Skipping field informationSystem: unsupported OGR type: 5\n",
      "Skipping field LocalisedCharacterString: unsupported OGR type: 5\n",
      "Skipping field reference: unsupported OGR type: 13\n"
     ]
    },
    {
     "name": "stdout",
     "output_type": "stream",
     "text": [
      "530298\n"
     ]
    },
    {
     "name": "stderr",
     "output_type": "stream",
     "text": [
      "Skipping field informationSystem: unsupported OGR type: 5\n",
      "Skipping field LocalisedCharacterString: unsupported OGR type: 5\n",
      "Skipping field reference: unsupported OGR type: 13\n"
     ]
    },
    {
     "name": "stdout",
     "output_type": "stream",
     "text": [
      "530301\n"
     ]
    },
    {
     "name": "stderr",
     "output_type": "stream",
     "text": [
      "Skipping field informationSystem: unsupported OGR type: 5\n",
      "Skipping field LocalisedCharacterString: unsupported OGR type: 5\n",
      "Skipping field reference: unsupported OGR type: 13\n"
     ]
    },
    {
     "name": "stdout",
     "output_type": "stream",
     "text": [
      "530310\n"
     ]
    },
    {
     "name": "stderr",
     "output_type": "stream",
     "text": [
      "Skipping field informationSystem: unsupported OGR type: 5\n",
      "Skipping field LocalisedCharacterString: unsupported OGR type: 5\n",
      "Skipping field reference: unsupported OGR type: 13\n"
     ]
    },
    {
     "name": "stdout",
     "output_type": "stream",
     "text": [
      "530328\n"
     ]
    },
    {
     "name": "stderr",
     "output_type": "stream",
     "text": [
      "Skipping field informationSystem: unsupported OGR type: 5\n",
      "Skipping field LocalisedCharacterString: unsupported OGR type: 5\n",
      "Skipping field reference: unsupported OGR type: 13\n"
     ]
    },
    {
     "name": "stdout",
     "output_type": "stream",
     "text": [
      "530336\n"
     ]
    },
    {
     "name": "stderr",
     "output_type": "stream",
     "text": [
      "Skipping field informationSystem: unsupported OGR type: 5\n",
      "Skipping field LocalisedCharacterString: unsupported OGR type: 5\n",
      "Skipping field reference: unsupported OGR type: 13\n"
     ]
    },
    {
     "name": "stdout",
     "output_type": "stream",
     "text": [
      "530344\n"
     ]
    },
    {
     "name": "stderr",
     "output_type": "stream",
     "text": [
      "Skipping field informationSystem: unsupported OGR type: 5\n",
      "Skipping field LocalisedCharacterString: unsupported OGR type: 5\n",
      "Skipping field reference: unsupported OGR type: 13\n",
      "Skipping field informationSystem: unsupported OGR type: 5\n",
      "Skipping field LocalisedCharacterString: unsupported OGR type: 5\n",
      "Skipping field reference: unsupported OGR type: 13\n",
      "Skipping field informationSystem: unsupported OGR type: 5\n",
      "Skipping field LocalisedCharacterString: unsupported OGR type: 5\n",
      "Skipping field reference: unsupported OGR type: 13\n"
     ]
    },
    {
     "name": "stdout",
     "output_type": "stream",
     "text": [
      "530352\n",
      "530361\n",
      "530379\n"
     ]
    },
    {
     "name": "stderr",
     "output_type": "stream",
     "text": [
      "Skipping field informationSystem: unsupported OGR type: 5\n",
      "Skipping field LocalisedCharacterString: unsupported OGR type: 5\n",
      "Skipping field reference: unsupported OGR type: 13\n",
      "Skipping field informationSystem: unsupported OGR type: 5\n",
      "Skipping field LocalisedCharacterString: unsupported OGR type: 5\n",
      "Skipping field reference: unsupported OGR type: 13\n",
      "Skipping field informationSystem: unsupported OGR type: 5\n",
      "Skipping field LocalisedCharacterString: unsupported OGR type: 5\n",
      "Skipping field reference: unsupported OGR type: 13\n"
     ]
    },
    {
     "name": "stdout",
     "output_type": "stream",
     "text": [
      "530387\n",
      "530395\n",
      "530409\n"
     ]
    },
    {
     "name": "stderr",
     "output_type": "stream",
     "text": [
      "Skipping field informationSystem: unsupported OGR type: 5\n",
      "Skipping field LocalisedCharacterString: unsupported OGR type: 5\n",
      "Skipping field reference: unsupported OGR type: 13\n",
      "Skipping field informationSystem: unsupported OGR type: 5\n",
      "Skipping field LocalisedCharacterString: unsupported OGR type: 5\n",
      "Skipping field reference: unsupported OGR type: 13\n",
      "Skipping field informationSystem: unsupported OGR type: 5\n",
      "Skipping field LocalisedCharacterString: unsupported OGR type: 5\n",
      "Skipping field reference: unsupported OGR type: 13\n"
     ]
    },
    {
     "name": "stdout",
     "output_type": "stream",
     "text": [
      "530417\n",
      "530425\n",
      "530433\n"
     ]
    },
    {
     "name": "stderr",
     "output_type": "stream",
     "text": [
      "Skipping field informationSystem: unsupported OGR type: 5\n",
      "Skipping field LocalisedCharacterString: unsupported OGR type: 5\n",
      "Skipping field reference: unsupported OGR type: 13\n",
      "Skipping field informationSystem: unsupported OGR type: 5\n",
      "Skipping field LocalisedCharacterString: unsupported OGR type: 5\n",
      "Skipping field reference: unsupported OGR type: 13\n"
     ]
    },
    {
     "name": "stdout",
     "output_type": "stream",
     "text": [
      "530824\n",
      "530832\n"
     ]
    },
    {
     "name": "stderr",
     "output_type": "stream",
     "text": [
      "Skipping field informationSystem: unsupported OGR type: 5\n",
      "Skipping field LocalisedCharacterString: unsupported OGR type: 5\n",
      "Skipping field reference: unsupported OGR type: 13\n",
      "Skipping field informationSystem: unsupported OGR type: 5\n",
      "Skipping field LocalisedCharacterString: unsupported OGR type: 5\n",
      "Skipping field reference: unsupported OGR type: 13\n",
      "Skipping field informationSystem: unsupported OGR type: 5\n",
      "Skipping field LocalisedCharacterString: unsupported OGR type: 5\n",
      "Skipping field reference: unsupported OGR type: 13\n"
     ]
    },
    {
     "name": "stdout",
     "output_type": "stream",
     "text": [
      "530841\n",
      "530859\n",
      "530867\n"
     ]
    },
    {
     "name": "stderr",
     "output_type": "stream",
     "text": [
      "Skipping field informationSystem: unsupported OGR type: 5\n",
      "Skipping field LocalisedCharacterString: unsupported OGR type: 5\n",
      "Skipping field reference: unsupported OGR type: 13\n"
     ]
    },
    {
     "name": "stdout",
     "output_type": "stream",
     "text": [
      "530875\n"
     ]
    },
    {
     "name": "stderr",
     "output_type": "stream",
     "text": [
      "Skipping field informationSystem: unsupported OGR type: 5\n",
      "Skipping field LocalisedCharacterString: unsupported OGR type: 5\n",
      "Skipping field reference: unsupported OGR type: 13\n"
     ]
    },
    {
     "name": "stdout",
     "output_type": "stream",
     "text": [
      "531197\n"
     ]
    },
    {
     "name": "stderr",
     "output_type": "stream",
     "text": [
      "Skipping field informationSystem: unsupported OGR type: 5\n",
      "Skipping field LocalisedCharacterString: unsupported OGR type: 5\n",
      "Skipping field reference: unsupported OGR type: 13\n",
      "Skipping field informationSystem: unsupported OGR type: 5\n",
      "Skipping field LocalisedCharacterString: unsupported OGR type: 5\n",
      "Skipping field reference: unsupported OGR type: 13\n"
     ]
    },
    {
     "name": "stdout",
     "output_type": "stream",
     "text": [
      "531201\n",
      "531219\n"
     ]
    },
    {
     "name": "stderr",
     "output_type": "stream",
     "text": [
      "Skipping field informationSystem: unsupported OGR type: 5\n",
      "Skipping field LocalisedCharacterString: unsupported OGR type: 5\n",
      "Skipping field reference: unsupported OGR type: 13\n",
      "Skipping field informationSystem: unsupported OGR type: 5\n",
      "Skipping field LocalisedCharacterString: unsupported OGR type: 5\n",
      "Skipping field reference: unsupported OGR type: 13\n"
     ]
    },
    {
     "name": "stdout",
     "output_type": "stream",
     "text": [
      "531227\n",
      "531235\n"
     ]
    },
    {
     "name": "stderr",
     "output_type": "stream",
     "text": [
      "Skipping field informationSystem: unsupported OGR type: 5\n",
      "Skipping field LocalisedCharacterString: unsupported OGR type: 5\n",
      "Skipping field reference: unsupported OGR type: 13\n",
      "Skipping field informationSystem: unsupported OGR type: 5\n",
      "Skipping field LocalisedCharacterString: unsupported OGR type: 5\n",
      "Skipping field reference: unsupported OGR type: 13\n",
      "Skipping field informationSystem: unsupported OGR type: 5\n",
      "Skipping field LocalisedCharacterString: unsupported OGR type: 5\n",
      "Skipping field reference: unsupported OGR type: 13\n"
     ]
    },
    {
     "name": "stdout",
     "output_type": "stream",
     "text": [
      "531243\n",
      "531251\n",
      "531260\n"
     ]
    },
    {
     "name": "stderr",
     "output_type": "stream",
     "text": [
      "Skipping field informationSystem: unsupported OGR type: 5\n",
      "Skipping field LocalisedCharacterString: unsupported OGR type: 5\n",
      "Skipping field reference: unsupported OGR type: 13\n",
      "Skipping field informationSystem: unsupported OGR type: 5\n",
      "Skipping field LocalisedCharacterString: unsupported OGR type: 5\n",
      "Skipping field reference: unsupported OGR type: 13\n"
     ]
    },
    {
     "name": "stdout",
     "output_type": "stream",
     "text": [
      "531278\n",
      "531014\n"
     ]
    },
    {
     "name": "stderr",
     "output_type": "stream",
     "text": [
      "Skipping field informationSystem: unsupported OGR type: 5\n",
      "Skipping field LocalisedCharacterString: unsupported OGR type: 5\n",
      "Skipping field reference: unsupported OGR type: 13\n",
      "Skipping field informationSystem: unsupported OGR type: 5\n",
      "Skipping field LocalisedCharacterString: unsupported OGR type: 5\n",
      "Skipping field reference: unsupported OGR type: 13\n"
     ]
    },
    {
     "name": "stdout",
     "output_type": "stream",
     "text": [
      "531022\n",
      "531031\n"
     ]
    },
    {
     "name": "stderr",
     "output_type": "stream",
     "text": [
      "Skipping field informationSystem: unsupported OGR type: 5\n",
      "Skipping field LocalisedCharacterString: unsupported OGR type: 5\n",
      "Skipping field reference: unsupported OGR type: 13\n",
      "Skipping field informationSystem: unsupported OGR type: 5\n",
      "Skipping field LocalisedCharacterString: unsupported OGR type: 5\n",
      "Skipping field reference: unsupported OGR type: 13\n",
      "Skipping field informationSystem: unsupported OGR type: 5\n",
      "Skipping field LocalisedCharacterString: unsupported OGR type: 5\n",
      "Skipping field reference: unsupported OGR type: 13\n",
      "Skipping field informationSystem: unsupported OGR type: 5\n",
      "Skipping field LocalisedCharacterString: unsupported OGR type: 5\n",
      "Skipping field reference: unsupported OGR type: 13\n"
     ]
    },
    {
     "name": "stdout",
     "output_type": "stream",
     "text": [
      "531049\n",
      "530549\n",
      "530557\n",
      "530565\n"
     ]
    },
    {
     "name": "stderr",
     "output_type": "stream",
     "text": [
      "Skipping field informationSystem: unsupported OGR type: 5\n",
      "Skipping field LocalisedCharacterString: unsupported OGR type: 5\n",
      "Skipping field reference: unsupported OGR type: 13\n",
      "Skipping field informationSystem: unsupported OGR type: 5\n",
      "Skipping field LocalisedCharacterString: unsupported OGR type: 5\n",
      "Skipping field reference: unsupported OGR type: 13\n"
     ]
    },
    {
     "name": "stdout",
     "output_type": "stream",
     "text": [
      "530573\n",
      "530581\n"
     ]
    },
    {
     "name": "stderr",
     "output_type": "stream",
     "text": [
      "Skipping field informationSystem: unsupported OGR type: 5\n",
      "Skipping field LocalisedCharacterString: unsupported OGR type: 5\n",
      "Skipping field reference: unsupported OGR type: 13\n",
      "Skipping field informationSystem: unsupported OGR type: 5\n",
      "Skipping field LocalisedCharacterString: unsupported OGR type: 5\n",
      "Skipping field reference: unsupported OGR type: 13\n",
      "Skipping field informationSystem: unsupported OGR type: 5\n",
      "Skipping field LocalisedCharacterString: unsupported OGR type: 5\n",
      "Skipping field reference: unsupported OGR type: 13\n"
     ]
    },
    {
     "name": "stdout",
     "output_type": "stream",
     "text": [
      "530590\n",
      "530603\n",
      "530620\n"
     ]
    },
    {
     "name": "stderr",
     "output_type": "stream",
     "text": [
      "Skipping field informationSystem: unsupported OGR type: 5\n",
      "Skipping field LocalisedCharacterString: unsupported OGR type: 5\n",
      "Skipping field reference: unsupported OGR type: 13\n",
      "Skipping field informationSystem: unsupported OGR type: 5\n",
      "Skipping field LocalisedCharacterString: unsupported OGR type: 5\n",
      "Skipping field reference: unsupported OGR type: 13\n",
      "Skipping field informationSystem: unsupported OGR type: 5\n",
      "Skipping field LocalisedCharacterString: unsupported OGR type: 5\n",
      "Skipping field reference: unsupported OGR type: 13\n",
      "Skipping field informationSystem: unsupported OGR type: 5\n",
      "Skipping field LocalisedCharacterString: unsupported OGR type: 5\n",
      "Skipping field reference: unsupported OGR type: 13\n"
     ]
    },
    {
     "name": "stdout",
     "output_type": "stream",
     "text": [
      "530638\n",
      "530646\n",
      "530654\n"
     ]
    },
    {
     "name": "stderr",
     "output_type": "stream",
     "text": [
      "Skipping field informationSystem: unsupported OGR type: 5\n",
      "Skipping field LocalisedCharacterString: unsupported OGR type: 5\n",
      "Skipping field reference: unsupported OGR type: 13\n",
      "Skipping field informationSystem: unsupported OGR type: 5\n",
      "Skipping field LocalisedCharacterString: unsupported OGR type: 5\n",
      "Skipping field reference: unsupported OGR type: 13\n"
     ]
    },
    {
     "name": "stdout",
     "output_type": "stream",
     "text": [
      "530662\n",
      "530671\n"
     ]
    },
    {
     "name": "stderr",
     "output_type": "stream",
     "text": [
      "Skipping field informationSystem: unsupported OGR type: 5\n",
      "Skipping field LocalisedCharacterString: unsupported OGR type: 5\n",
      "Skipping field reference: unsupported OGR type: 13\n",
      "Skipping field informationSystem: unsupported OGR type: 5\n",
      "Skipping field LocalisedCharacterString: unsupported OGR type: 5\n",
      "Skipping field reference: unsupported OGR type: 13\n"
     ]
    },
    {
     "name": "stdout",
     "output_type": "stream",
     "text": [
      "530689\n",
      "530697\n",
      "530701\n"
     ]
    },
    {
     "name": "stderr",
     "output_type": "stream",
     "text": [
      "Skipping field informationSystem: unsupported OGR type: 5\n",
      "Skipping field LocalisedCharacterString: unsupported OGR type: 5\n",
      "Skipping field reference: unsupported OGR type: 13\n"
     ]
    },
    {
     "name": "stdout",
     "output_type": "stream",
     "text": [
      "530719\n"
     ]
    },
    {
     "name": "stderr",
     "output_type": "stream",
     "text": [
      "Skipping field informationSystem: unsupported OGR type: 5\n",
      "Skipping field LocalisedCharacterString: unsupported OGR type: 5\n",
      "Skipping field reference: unsupported OGR type: 13\n",
      "Skipping field informationSystem: unsupported OGR type: 5\n",
      "Skipping field LocalisedCharacterString: unsupported OGR type: 5\n",
      "Skipping field reference: unsupported OGR type: 13\n",
      "Skipping field informationSystem: unsupported OGR type: 5\n",
      "Skipping field LocalisedCharacterString: unsupported OGR type: 5\n",
      "Skipping field reference: unsupported OGR type: 13\n"
     ]
    },
    {
     "name": "stdout",
     "output_type": "stream",
     "text": [
      "530727\n",
      "530735\n",
      "530743\n"
     ]
    },
    {
     "name": "stderr",
     "output_type": "stream",
     "text": [
      "Skipping field informationSystem: unsupported OGR type: 5\n",
      "Skipping field LocalisedCharacterString: unsupported OGR type: 5\n",
      "Skipping field reference: unsupported OGR type: 13\n"
     ]
    },
    {
     "name": "stdout",
     "output_type": "stream",
     "text": [
      "530751\n"
     ]
    },
    {
     "name": "stderr",
     "output_type": "stream",
     "text": [
      "Skipping field informationSystem: unsupported OGR type: 5\n",
      "Skipping field LocalisedCharacterString: unsupported OGR type: 5\n",
      "Skipping field reference: unsupported OGR type: 13\n"
     ]
    },
    {
     "name": "stdout",
     "output_type": "stream",
     "text": [
      "530760\n"
     ]
    },
    {
     "name": "stderr",
     "output_type": "stream",
     "text": [
      "Skipping field informationSystem: unsupported OGR type: 5\n",
      "Skipping field LocalisedCharacterString: unsupported OGR type: 5\n",
      "Skipping field reference: unsupported OGR type: 13\n",
      "Skipping field informationSystem: unsupported OGR type: 5\n",
      "Skipping field LocalisedCharacterString: unsupported OGR type: 5\n",
      "Skipping field reference: unsupported OGR type: 13\n",
      "Skipping field informationSystem: unsupported OGR type: 5\n",
      "Skipping field LocalisedCharacterString: unsupported OGR type: 5\n",
      "Skipping field reference: unsupported OGR type: 13\n",
      "Skipping field informationSystem: unsupported OGR type: 5\n",
      "Skipping field LocalisedCharacterString: unsupported OGR type: 5\n",
      "Skipping field reference: unsupported OGR type: 13\n"
     ]
    },
    {
     "name": "stdout",
     "output_type": "stream",
     "text": [
      "530778\n",
      "530786\n",
      "530794\n"
     ]
    },
    {
     "name": "stderr",
     "output_type": "stream",
     "text": [
      "Skipping field informationSystem: unsupported OGR type: 5\n",
      "Skipping field LocalisedCharacterString: unsupported OGR type: 5\n",
      "Skipping field reference: unsupported OGR type: 13\n"
     ]
    },
    {
     "name": "stdout",
     "output_type": "stream",
     "text": [
      "530808\n",
      "530816\n"
     ]
    },
    {
     "name": "stderr",
     "output_type": "stream",
     "text": [
      "Skipping field informationSystem: unsupported OGR type: 5\n",
      "Skipping field LocalisedCharacterString: unsupported OGR type: 5\n",
      "Skipping field reference: unsupported OGR type: 13\n"
     ]
    },
    {
     "name": "stdout",
     "output_type": "stream",
     "text": [
      "531529\n"
     ]
    },
    {
     "name": "stderr",
     "output_type": "stream",
     "text": [
      "Skipping field informationSystem: unsupported OGR type: 5\n",
      "Skipping field LocalisedCharacterString: unsupported OGR type: 5\n",
      "Skipping field reference: unsupported OGR type: 13\n"
     ]
    },
    {
     "name": "stdout",
     "output_type": "stream",
     "text": [
      "531537\n"
     ]
    },
    {
     "name": "stderr",
     "output_type": "stream",
     "text": [
      "Skipping field informationSystem: unsupported OGR type: 5\n",
      "Skipping field LocalisedCharacterString: unsupported OGR type: 5\n",
      "Skipping field reference: unsupported OGR type: 13\n",
      "Skipping field informationSystem: unsupported OGR type: 5\n",
      "Skipping field LocalisedCharacterString: unsupported OGR type: 5\n",
      "Skipping field reference: unsupported OGR type: 13\n"
     ]
    },
    {
     "name": "stdout",
     "output_type": "stream",
     "text": [
      "531545\n",
      "531553\n"
     ]
    },
    {
     "name": "stderr",
     "output_type": "stream",
     "text": [
      "Skipping field informationSystem: unsupported OGR type: 5\n",
      "Skipping field LocalisedCharacterString: unsupported OGR type: 5\n",
      "Skipping field reference: unsupported OGR type: 13\n",
      "Skipping field informationSystem: unsupported OGR type: 5\n",
      "Skipping field LocalisedCharacterString: unsupported OGR type: 5\n",
      "Skipping field reference: unsupported OGR type: 13\n"
     ]
    },
    {
     "name": "stdout",
     "output_type": "stream",
     "text": [
      "531561\n",
      "531570\n"
     ]
    },
    {
     "name": "stderr",
     "output_type": "stream",
     "text": [
      "Skipping field informationSystem: unsupported OGR type: 5\n",
      "Skipping field LocalisedCharacterString: unsupported OGR type: 5\n",
      "Skipping field reference: unsupported OGR type: 13\n"
     ]
    },
    {
     "name": "stdout",
     "output_type": "stream",
     "text": [
      "531588\n"
     ]
    },
    {
     "name": "stderr",
     "output_type": "stream",
     "text": [
      "Skipping field informationSystem: unsupported OGR type: 5\n",
      "Skipping field LocalisedCharacterString: unsupported OGR type: 5\n",
      "Skipping field reference: unsupported OGR type: 13\n"
     ]
    },
    {
     "name": "stdout",
     "output_type": "stream",
     "text": [
      "531596\n"
     ]
    },
    {
     "name": "stderr",
     "output_type": "stream",
     "text": [
      "Skipping field informationSystem: unsupported OGR type: 5\n",
      "Skipping field LocalisedCharacterString: unsupported OGR type: 5\n",
      "Skipping field reference: unsupported OGR type: 13\n"
     ]
    },
    {
     "name": "stdout",
     "output_type": "stream",
     "text": [
      "531618\n"
     ]
    },
    {
     "name": "stderr",
     "output_type": "stream",
     "text": [
      "Skipping field informationSystem: unsupported OGR type: 5\n",
      "Skipping field LocalisedCharacterString: unsupported OGR type: 5\n",
      "Skipping field reference: unsupported OGR type: 13\n",
      "Skipping field informationSystem: unsupported OGR type: 5\n",
      "Skipping field LocalisedCharacterString: unsupported OGR type: 5\n",
      "Skipping field reference: unsupported OGR type: 13\n",
      "Skipping field informationSystem: unsupported OGR type: 5\n",
      "Skipping field LocalisedCharacterString: unsupported OGR type: 5\n",
      "Skipping field reference: unsupported OGR type: 13\n"
     ]
    },
    {
     "name": "stdout",
     "output_type": "stream",
     "text": [
      "531057\n",
      "531065\n",
      "531073\n"
     ]
    },
    {
     "name": "stderr",
     "output_type": "stream",
     "text": [
      "Skipping field informationSystem: unsupported OGR type: 5\n",
      "Skipping field LocalisedCharacterString: unsupported OGR type: 5\n",
      "Skipping field reference: unsupported OGR type: 13\n",
      "Skipping field informationSystem: unsupported OGR type: 5\n",
      "Skipping field LocalisedCharacterString: unsupported OGR type: 5\n",
      "Skipping field reference: unsupported OGR type: 13\n"
     ]
    },
    {
     "name": "stdout",
     "output_type": "stream",
     "text": [
      "531081\n",
      "531090\n"
     ]
    },
    {
     "name": "stderr",
     "output_type": "stream",
     "text": [
      "Skipping field informationSystem: unsupported OGR type: 5\n",
      "Skipping field LocalisedCharacterString: unsupported OGR type: 5\n",
      "Skipping field reference: unsupported OGR type: 13\n",
      "Skipping field informationSystem: unsupported OGR type: 5\n",
      "Skipping field LocalisedCharacterString: unsupported OGR type: 5\n",
      "Skipping field reference: unsupported OGR type: 13\n"
     ]
    },
    {
     "name": "stdout",
     "output_type": "stream",
     "text": [
      "531103\n",
      "531111\n"
     ]
    },
    {
     "name": "stderr",
     "output_type": "stream",
     "text": [
      "Skipping field informationSystem: unsupported OGR type: 5\n",
      "Skipping field LocalisedCharacterString: unsupported OGR type: 5\n",
      "Skipping field reference: unsupported OGR type: 13\n"
     ]
    },
    {
     "name": "stdout",
     "output_type": "stream",
     "text": [
      "536385\n"
     ]
    },
    {
     "name": "stderr",
     "output_type": "stream",
     "text": [
      "Skipping field informationSystem: unsupported OGR type: 5\n",
      "Skipping field LocalisedCharacterString: unsupported OGR type: 5\n",
      "Skipping field reference: unsupported OGR type: 13\n"
     ]
    },
    {
     "name": "stdout",
     "output_type": "stream",
     "text": [
      "531120\n"
     ]
    },
    {
     "name": "stderr",
     "output_type": "stream",
     "text": [
      "Skipping field informationSystem: unsupported OGR type: 5\n",
      "Skipping field LocalisedCharacterString: unsupported OGR type: 5\n",
      "Skipping field reference: unsupported OGR type: 13\n"
     ]
    },
    {
     "name": "stdout",
     "output_type": "stream",
     "text": [
      "531138\n"
     ]
    },
    {
     "name": "stderr",
     "output_type": "stream",
     "text": [
      "Skipping field informationSystem: unsupported OGR type: 5\n",
      "Skipping field LocalisedCharacterString: unsupported OGR type: 5\n",
      "Skipping field reference: unsupported OGR type: 13\n"
     ]
    },
    {
     "name": "stdout",
     "output_type": "stream",
     "text": [
      "531146\n"
     ]
    },
    {
     "name": "stderr",
     "output_type": "stream",
     "text": [
      "Skipping field informationSystem: unsupported OGR type: 5\n",
      "Skipping field LocalisedCharacterString: unsupported OGR type: 5\n",
      "Skipping field reference: unsupported OGR type: 13\n",
      "Skipping field informationSystem: unsupported OGR type: 5\n",
      "Skipping field LocalisedCharacterString: unsupported OGR type: 5\n",
      "Skipping field reference: unsupported OGR type: 13\n"
     ]
    },
    {
     "name": "stdout",
     "output_type": "stream",
     "text": [
      "531154\n",
      "531162\n"
     ]
    },
    {
     "name": "stderr",
     "output_type": "stream",
     "text": [
      "Skipping field informationSystem: unsupported OGR type: 5\n",
      "Skipping field LocalisedCharacterString: unsupported OGR type: 5\n",
      "Skipping field reference: unsupported OGR type: 13\n"
     ]
    },
    {
     "name": "stdout",
     "output_type": "stream",
     "text": [
      "531171\n"
     ]
    },
    {
     "name": "stderr",
     "output_type": "stream",
     "text": [
      "Skipping field informationSystem: unsupported OGR type: 5\n",
      "Skipping field LocalisedCharacterString: unsupported OGR type: 5\n",
      "Skipping field reference: unsupported OGR type: 13\n"
     ]
    },
    {
     "name": "stdout",
     "output_type": "stream",
     "text": [
      "531189\n"
     ]
    },
    {
     "name": "stderr",
     "output_type": "stream",
     "text": [
      "Skipping field informationSystem: unsupported OGR type: 5\n",
      "Skipping field LocalisedCharacterString: unsupported OGR type: 5\n",
      "Skipping field reference: unsupported OGR type: 13\n"
     ]
    },
    {
     "name": "stdout",
     "output_type": "stream",
     "text": [
      "531448\n"
     ]
    },
    {
     "name": "stderr",
     "output_type": "stream",
     "text": [
      "Skipping field informationSystem: unsupported OGR type: 5\n",
      "Skipping field LocalisedCharacterString: unsupported OGR type: 5\n",
      "Skipping field reference: unsupported OGR type: 13\n"
     ]
    },
    {
     "name": "stdout",
     "output_type": "stream",
     "text": [
      "531456\n"
     ]
    },
    {
     "name": "stderr",
     "output_type": "stream",
     "text": [
      "Skipping field informationSystem: unsupported OGR type: 5\n",
      "Skipping field LocalisedCharacterString: unsupported OGR type: 5\n",
      "Skipping field reference: unsupported OGR type: 13\n"
     ]
    },
    {
     "name": "stdout",
     "output_type": "stream",
     "text": [
      "568414\n"
     ]
    },
    {
     "name": "stderr",
     "output_type": "stream",
     "text": [
      "Skipping field informationSystem: unsupported OGR type: 5\n",
      "Skipping field LocalisedCharacterString: unsupported OGR type: 5\n",
      "Skipping field reference: unsupported OGR type: 13\n"
     ]
    },
    {
     "name": "stdout",
     "output_type": "stream",
     "text": [
      "531472\n"
     ]
    },
    {
     "name": "stderr",
     "output_type": "stream",
     "text": [
      "Skipping field informationSystem: unsupported OGR type: 5\n",
      "Skipping field LocalisedCharacterString: unsupported OGR type: 5\n",
      "Skipping field reference: unsupported OGR type: 13\n",
      "Skipping field informationSystem: unsupported OGR type: 5\n",
      "Skipping field LocalisedCharacterString: unsupported OGR type: 5\n",
      "Skipping field reference: unsupported OGR type: 13\n",
      "Skipping field informationSystem: unsupported OGR type: 5\n",
      "Skipping field LocalisedCharacterString: unsupported OGR type: 5\n",
      "Skipping field reference: unsupported OGR type: 13\n"
     ]
    },
    {
     "name": "stdout",
     "output_type": "stream",
     "text": [
      "531481\n",
      "531499\n",
      "531502\n"
     ]
    },
    {
     "name": "stderr",
     "output_type": "stream",
     "text": [
      "Skipping field informationSystem: unsupported OGR type: 5\n",
      "Skipping field LocalisedCharacterString: unsupported OGR type: 5\n",
      "Skipping field reference: unsupported OGR type: 13\n"
     ]
    },
    {
     "name": "stdout",
     "output_type": "stream",
     "text": [
      "531511\n"
     ]
    },
    {
     "name": "stderr",
     "output_type": "stream",
     "text": [
      "Skipping field informationSystem: unsupported OGR type: 5\n",
      "Skipping field LocalisedCharacterString: unsupported OGR type: 5\n",
      "Skipping field reference: unsupported OGR type: 13\n"
     ]
    },
    {
     "name": "stdout",
     "output_type": "stream",
     "text": [
      "531944\n"
     ]
    },
    {
     "name": "stderr",
     "output_type": "stream",
     "text": [
      "Skipping field informationSystem: unsupported OGR type: 5\n",
      "Skipping field LocalisedCharacterString: unsupported OGR type: 5\n",
      "Skipping field reference: unsupported OGR type: 13\n",
      "Skipping field informationSystem: unsupported OGR type: 5\n",
      "Skipping field LocalisedCharacterString: unsupported OGR type: 5\n",
      "Skipping field reference: unsupported OGR type: 13\n"
     ]
    },
    {
     "name": "stdout",
     "output_type": "stream",
     "text": [
      "531952\n",
      "531961\n"
     ]
    },
    {
     "name": "stderr",
     "output_type": "stream",
     "text": [
      "Skipping field informationSystem: unsupported OGR type: 5\n",
      "Skipping field LocalisedCharacterString: unsupported OGR type: 5\n",
      "Skipping field reference: unsupported OGR type: 13\n",
      "Skipping field informationSystem: unsupported OGR type: 5\n",
      "Skipping field LocalisedCharacterString: unsupported OGR type: 5\n",
      "Skipping field reference: unsupported OGR type: 13\n",
      "Skipping field informationSystem: unsupported OGR type: 5\n",
      "Skipping field LocalisedCharacterString: unsupported OGR type: 5\n",
      "Skipping field reference: unsupported OGR type: 13\n"
     ]
    },
    {
     "name": "stdout",
     "output_type": "stream",
     "text": [
      "531979\n",
      "531987\n",
      "531685\n"
     ]
    },
    {
     "name": "stderr",
     "output_type": "stream",
     "text": [
      "Skipping field informationSystem: unsupported OGR type: 5\n",
      "Skipping field LocalisedCharacterString: unsupported OGR type: 5\n",
      "Skipping field reference: unsupported OGR type: 13\n"
     ]
    },
    {
     "name": "stdout",
     "output_type": "stream",
     "text": [
      "531626\n"
     ]
    },
    {
     "name": "stderr",
     "output_type": "stream",
     "text": [
      "Skipping field informationSystem: unsupported OGR type: 5\n",
      "Skipping field LocalisedCharacterString: unsupported OGR type: 5\n",
      "Skipping field reference: unsupported OGR type: 13\n",
      "Skipping field informationSystem: unsupported OGR type: 5\n",
      "Skipping field LocalisedCharacterString: unsupported OGR type: 5\n",
      "Skipping field reference: unsupported OGR type: 13\n",
      "Skipping field informationSystem: unsupported OGR type: 5\n",
      "Skipping field LocalisedCharacterString: unsupported OGR type: 5\n",
      "Skipping field reference: unsupported OGR type: 13\n"
     ]
    },
    {
     "name": "stdout",
     "output_type": "stream",
     "text": [
      "531634\n",
      "531642\n",
      "508004\n"
     ]
    },
    {
     "name": "stderr",
     "output_type": "stream",
     "text": [
      "Skipping field informationSystem: unsupported OGR type: 5\n",
      "Skipping field LocalisedCharacterString: unsupported OGR type: 5\n",
      "Skipping field reference: unsupported OGR type: 13\n",
      "Skipping field informationSystem: unsupported OGR type: 5\n",
      "Skipping field LocalisedCharacterString: unsupported OGR type: 5\n",
      "Skipping field reference: unsupported OGR type: 13\n",
      "Skipping field informationSystem: unsupported OGR type: 5\n",
      "Skipping field LocalisedCharacterString: unsupported OGR type: 5\n",
      "Skipping field reference: unsupported OGR type: 13\n"
     ]
    },
    {
     "name": "stdout",
     "output_type": "stream",
     "text": [
      "583472\n",
      "531669\n",
      "531677\n"
     ]
    },
    {
     "name": "stderr",
     "output_type": "stream",
     "text": [
      "Skipping field informationSystem: unsupported OGR type: 5\n",
      "Skipping field LocalisedCharacterString: unsupported OGR type: 5\n",
      "Skipping field reference: unsupported OGR type: 13\n"
     ]
    },
    {
     "name": "stdout",
     "output_type": "stream",
     "text": [
      "531286\n"
     ]
    },
    {
     "name": "stderr",
     "output_type": "stream",
     "text": [
      "Skipping field informationSystem: unsupported OGR type: 5\n",
      "Skipping field LocalisedCharacterString: unsupported OGR type: 5\n",
      "Skipping field reference: unsupported OGR type: 13\n",
      "Skipping field informationSystem: unsupported OGR type: 5\n",
      "Skipping field LocalisedCharacterString: unsupported OGR type: 5\n",
      "Skipping field reference: unsupported OGR type: 13\n",
      "Skipping field informationSystem: unsupported OGR type: 5\n",
      "Skipping field LocalisedCharacterString: unsupported OGR type: 5\n",
      "Skipping field reference: unsupported OGR type: 13\n"
     ]
    },
    {
     "name": "stdout",
     "output_type": "stream",
     "text": [
      "531294\n",
      "531308\n",
      "531316\n"
     ]
    },
    {
     "name": "stderr",
     "output_type": "stream",
     "text": [
      "Skipping field informationSystem: unsupported OGR type: 5\n",
      "Skipping field LocalisedCharacterString: unsupported OGR type: 5\n",
      "Skipping field reference: unsupported OGR type: 13\n",
      "Skipping field informationSystem: unsupported OGR type: 5\n",
      "Skipping field LocalisedCharacterString: unsupported OGR type: 5\n",
      "Skipping field reference: unsupported OGR type: 13\n",
      "Skipping field informationSystem: unsupported OGR type: 5\n",
      "Skipping field LocalisedCharacterString: unsupported OGR type: 5\n",
      "Skipping field reference: unsupported OGR type: 13\n"
     ]
    },
    {
     "name": "stdout",
     "output_type": "stream",
     "text": [
      "531324\n",
      "531332\n",
      "531341\n"
     ]
    },
    {
     "name": "stderr",
     "output_type": "stream",
     "text": [
      "Skipping field informationSystem: unsupported OGR type: 5\n",
      "Skipping field LocalisedCharacterString: unsupported OGR type: 5\n",
      "Skipping field reference: unsupported OGR type: 13\n",
      "Skipping field informationSystem: unsupported OGR type: 5\n",
      "Skipping field LocalisedCharacterString: unsupported OGR type: 5\n",
      "Skipping field reference: unsupported OGR type: 13\n",
      "Skipping field informationSystem: unsupported OGR type: 5\n",
      "Skipping field LocalisedCharacterString: unsupported OGR type: 5\n",
      "Skipping field reference: unsupported OGR type: 13\n"
     ]
    },
    {
     "name": "stdout",
     "output_type": "stream",
     "text": [
      "531359\n",
      "531367\n",
      "531375\n"
     ]
    },
    {
     "name": "stderr",
     "output_type": "stream",
     "text": [
      "Skipping field informationSystem: unsupported OGR type: 5\n",
      "Skipping field LocalisedCharacterString: unsupported OGR type: 5\n",
      "Skipping field reference: unsupported OGR type: 13\n",
      "Skipping field informationSystem: unsupported OGR type: 5\n",
      "Skipping field LocalisedCharacterString: unsupported OGR type: 5\n",
      "Skipping field reference: unsupported OGR type: 13\n",
      "Skipping field informationSystem: unsupported OGR type: 5\n",
      "Skipping field LocalisedCharacterString: unsupported OGR type: 5\n",
      "Skipping field reference: unsupported OGR type: 13\n",
      "Skipping field informationSystem: unsupported OGR type: 5\n",
      "Skipping field LocalisedCharacterString: unsupported OGR type: 5\n",
      "Skipping field reference: unsupported OGR type: 13\n",
      "Skipping field informationSystem: unsupported OGR type: 5\n",
      "Skipping field LocalisedCharacterString: unsupported OGR type: 5\n",
      "Skipping field reference: unsupported OGR type: 13\n"
     ]
    },
    {
     "name": "stdout",
     "output_type": "stream",
     "text": [
      "531383\n",
      "531391\n",
      "531405\n",
      "531413\n",
      "531421\n"
     ]
    },
    {
     "name": "stderr",
     "output_type": "stream",
     "text": [
      "Skipping field informationSystem: unsupported OGR type: 5\n",
      "Skipping field LocalisedCharacterString: unsupported OGR type: 5\n",
      "Skipping field reference: unsupported OGR type: 13\n",
      "Skipping field informationSystem: unsupported OGR type: 5\n",
      "Skipping field LocalisedCharacterString: unsupported OGR type: 5\n",
      "Skipping field reference: unsupported OGR type: 13\n",
      "Skipping field informationSystem: unsupported OGR type: 5\n",
      "Skipping field LocalisedCharacterString: unsupported OGR type: 5\n",
      "Skipping field reference: unsupported OGR type: 13\n",
      "Skipping field informationSystem: unsupported OGR type: 5\n",
      "Skipping field LocalisedCharacterString: unsupported OGR type: 5\n",
      "Skipping field reference: unsupported OGR type: 13\n"
     ]
    },
    {
     "name": "stdout",
     "output_type": "stream",
     "text": [
      "531430\n",
      "532231\n",
      "532258\n",
      "532266\n"
     ]
    },
    {
     "name": "stderr",
     "output_type": "stream",
     "text": [
      "Skipping field informationSystem: unsupported OGR type: 5\n",
      "Skipping field LocalisedCharacterString: unsupported OGR type: 5\n",
      "Skipping field reference: unsupported OGR type: 13\n",
      "Skipping field informationSystem: unsupported OGR type: 5\n",
      "Skipping field LocalisedCharacterString: unsupported OGR type: 5\n",
      "Skipping field reference: unsupported OGR type: 13\n"
     ]
    },
    {
     "name": "stdout",
     "output_type": "stream",
     "text": [
      "535958\n",
      "532274\n"
     ]
    },
    {
     "name": "stderr",
     "output_type": "stream",
     "text": [
      "Skipping field informationSystem: unsupported OGR type: 5\n",
      "Skipping field LocalisedCharacterString: unsupported OGR type: 5\n",
      "Skipping field reference: unsupported OGR type: 13\n",
      "Skipping field informationSystem: unsupported OGR type: 5\n",
      "Skipping field LocalisedCharacterString: unsupported OGR type: 5\n",
      "Skipping field reference: unsupported OGR type: 13\n",
      "Skipping field informationSystem: unsupported OGR type: 5\n",
      "Skipping field LocalisedCharacterString: unsupported OGR type: 5\n",
      "Skipping field reference: unsupported OGR type: 13\n"
     ]
    },
    {
     "name": "stdout",
     "output_type": "stream",
     "text": [
      "532282\n",
      "532291\n",
      "532304\n"
     ]
    },
    {
     "name": "stderr",
     "output_type": "stream",
     "text": [
      "Skipping field informationSystem: unsupported OGR type: 5\n",
      "Skipping field LocalisedCharacterString: unsupported OGR type: 5\n",
      "Skipping field reference: unsupported OGR type: 13\n",
      "Skipping field informationSystem: unsupported OGR type: 5\n",
      "Skipping field LocalisedCharacterString: unsupported OGR type: 5\n",
      "Skipping field reference: unsupported OGR type: 13\n"
     ]
    },
    {
     "name": "stdout",
     "output_type": "stream",
     "text": [
      "531693\n",
      "531707\n"
     ]
    },
    {
     "name": "stderr",
     "output_type": "stream",
     "text": [
      "Skipping field informationSystem: unsupported OGR type: 5\n",
      "Skipping field LocalisedCharacterString: unsupported OGR type: 5\n",
      "Skipping field reference: unsupported OGR type: 13\n"
     ]
    },
    {
     "name": "stdout",
     "output_type": "stream",
     "text": [
      "531715\n"
     ]
    },
    {
     "name": "stderr",
     "output_type": "stream",
     "text": [
      "Skipping field informationSystem: unsupported OGR type: 5\n",
      "Skipping field LocalisedCharacterString: unsupported OGR type: 5\n",
      "Skipping field reference: unsupported OGR type: 13\n",
      "Skipping field informationSystem: unsupported OGR type: 5\n",
      "Skipping field LocalisedCharacterString: unsupported OGR type: 5\n",
      "Skipping field reference: unsupported OGR type: 13\n"
     ]
    },
    {
     "name": "stdout",
     "output_type": "stream",
     "text": [
      "531723\n",
      "531740\n"
     ]
    },
    {
     "name": "stderr",
     "output_type": "stream",
     "text": [
      "Skipping field informationSystem: unsupported OGR type: 5\n",
      "Skipping field LocalisedCharacterString: unsupported OGR type: 5\n",
      "Skipping field reference: unsupported OGR type: 13\n",
      "Skipping field informationSystem: unsupported OGR type: 5\n",
      "Skipping field LocalisedCharacterString: unsupported OGR type: 5\n",
      "Skipping field reference: unsupported OGR type: 13\n",
      "Skipping field informationSystem: unsupported OGR type: 5\n",
      "Skipping field LocalisedCharacterString: unsupported OGR type: 5\n",
      "Skipping field reference: unsupported OGR type: 13\n"
     ]
    },
    {
     "name": "stdout",
     "output_type": "stream",
     "text": [
      "531758\n",
      "531766\n",
      "531774\n"
     ]
    },
    {
     "name": "stderr",
     "output_type": "stream",
     "text": [
      "Skipping field informationSystem: unsupported OGR type: 5\n",
      "Skipping field LocalisedCharacterString: unsupported OGR type: 5\n",
      "Skipping field reference: unsupported OGR type: 13\n"
     ]
    },
    {
     "name": "stdout",
     "output_type": "stream",
     "text": [
      "531782\n"
     ]
    },
    {
     "name": "stderr",
     "output_type": "stream",
     "text": [
      "Skipping field informationSystem: unsupported OGR type: 5\n",
      "Skipping field LocalisedCharacterString: unsupported OGR type: 5\n",
      "Skipping field reference: unsupported OGR type: 13\n",
      "Skipping field informationSystem: unsupported OGR type: 5\n",
      "Skipping field LocalisedCharacterString: unsupported OGR type: 5\n",
      "Skipping field reference: unsupported OGR type: 13\n"
     ]
    },
    {
     "name": "stdout",
     "output_type": "stream",
     "text": [
      "531791\n",
      "531804\n"
     ]
    },
    {
     "name": "stderr",
     "output_type": "stream",
     "text": [
      "Skipping field informationSystem: unsupported OGR type: 5\n",
      "Skipping field LocalisedCharacterString: unsupported OGR type: 5\n",
      "Skipping field reference: unsupported OGR type: 13\n"
     ]
    },
    {
     "name": "stdout",
     "output_type": "stream",
     "text": [
      "531812\n"
     ]
    },
    {
     "name": "stderr",
     "output_type": "stream",
     "text": [
      "Skipping field informationSystem: unsupported OGR type: 5\n",
      "Skipping field LocalisedCharacterString: unsupported OGR type: 5\n",
      "Skipping field reference: unsupported OGR type: 13\n"
     ]
    },
    {
     "name": "stdout",
     "output_type": "stream",
     "text": [
      "531821\n"
     ]
    },
    {
     "name": "stderr",
     "output_type": "stream",
     "text": [
      "Skipping field informationSystem: unsupported OGR type: 5\n",
      "Skipping field LocalisedCharacterString: unsupported OGR type: 5\n",
      "Skipping field reference: unsupported OGR type: 13\n",
      "Skipping field informationSystem: unsupported OGR type: 5\n",
      "Skipping field LocalisedCharacterString: unsupported OGR type: 5\n",
      "Skipping field reference: unsupported OGR type: 13\n"
     ]
    },
    {
     "name": "stdout",
     "output_type": "stream",
     "text": [
      "531839\n",
      "531847\n"
     ]
    },
    {
     "name": "stderr",
     "output_type": "stream",
     "text": [
      "Skipping field informationSystem: unsupported OGR type: 5\n",
      "Skipping field LocalisedCharacterString: unsupported OGR type: 5\n",
      "Skipping field reference: unsupported OGR type: 13\n",
      "Skipping field informationSystem: unsupported OGR type: 5\n",
      "Skipping field LocalisedCharacterString: unsupported OGR type: 5\n",
      "Skipping field reference: unsupported OGR type: 13\n",
      "Skipping field informationSystem: unsupported OGR type: 5\n",
      "Skipping field LocalisedCharacterString: unsupported OGR type: 5\n",
      "Skipping field reference: unsupported OGR type: 13\n",
      "Skipping field informationSystem: unsupported OGR type: 5\n",
      "Skipping field LocalisedCharacterString: unsupported OGR type: 5\n",
      "Skipping field reference: unsupported OGR type: 13\n"
     ]
    },
    {
     "name": "stdout",
     "output_type": "stream",
     "text": [
      "531855\n",
      "531863\n",
      "531871\n",
      "531880\n"
     ]
    },
    {
     "name": "stderr",
     "output_type": "stream",
     "text": [
      "Skipping field informationSystem: unsupported OGR type: 5\n",
      "Skipping field LocalisedCharacterString: unsupported OGR type: 5\n",
      "Skipping field reference: unsupported OGR type: 13\n"
     ]
    },
    {
     "name": "stdout",
     "output_type": "stream",
     "text": [
      "531898\n"
     ]
    },
    {
     "name": "stderr",
     "output_type": "stream",
     "text": [
      "Skipping field informationSystem: unsupported OGR type: 5\n",
      "Skipping field LocalisedCharacterString: unsupported OGR type: 5\n",
      "Skipping field reference: unsupported OGR type: 13\n",
      "Skipping field informationSystem: unsupported OGR type: 5\n",
      "Skipping field LocalisedCharacterString: unsupported OGR type: 5\n",
      "Skipping field reference: unsupported OGR type: 13\n",
      "Skipping field informationSystem: unsupported OGR type: 5\n",
      "Skipping field LocalisedCharacterString: unsupported OGR type: 5\n",
      "Skipping field reference: unsupported OGR type: 13\n"
     ]
    },
    {
     "name": "stdout",
     "output_type": "stream",
     "text": [
      "531901\n",
      "531928\n",
      "531936\n"
     ]
    },
    {
     "name": "stderr",
     "output_type": "stream",
     "text": [
      "Skipping field informationSystem: unsupported OGR type: 5\n",
      "Skipping field LocalisedCharacterString: unsupported OGR type: 5\n",
      "Skipping field reference: unsupported OGR type: 13\n"
     ]
    },
    {
     "name": "stdout",
     "output_type": "stream",
     "text": [
      "532185\n"
     ]
    },
    {
     "name": "stderr",
     "output_type": "stream",
     "text": [
      "Skipping field informationSystem: unsupported OGR type: 5\n",
      "Skipping field LocalisedCharacterString: unsupported OGR type: 5\n",
      "Skipping field reference: unsupported OGR type: 13\n"
     ]
    },
    {
     "name": "stdout",
     "output_type": "stream",
     "text": [
      "532193\n"
     ]
    },
    {
     "name": "stderr",
     "output_type": "stream",
     "text": [
      "Skipping field informationSystem: unsupported OGR type: 5\n",
      "Skipping field LocalisedCharacterString: unsupported OGR type: 5\n",
      "Skipping field reference: unsupported OGR type: 13\n"
     ]
    },
    {
     "name": "stdout",
     "output_type": "stream",
     "text": [
      "532207\n"
     ]
    },
    {
     "name": "stderr",
     "output_type": "stream",
     "text": [
      "Skipping field informationSystem: unsupported OGR type: 5\n",
      "Skipping field LocalisedCharacterString: unsupported OGR type: 5\n",
      "Skipping field reference: unsupported OGR type: 13\n"
     ]
    },
    {
     "name": "stdout",
     "output_type": "stream",
     "text": [
      "532223\n"
     ]
    },
    {
     "name": "stderr",
     "output_type": "stream",
     "text": [
      "Skipping field informationSystem: unsupported OGR type: 5\n",
      "Skipping field LocalisedCharacterString: unsupported OGR type: 5\n",
      "Skipping field reference: unsupported OGR type: 13\n",
      "Skipping field informationSystem: unsupported OGR type: 5\n",
      "Skipping field LocalisedCharacterString: unsupported OGR type: 5\n",
      "Skipping field reference: unsupported OGR type: 13\n"
     ]
    },
    {
     "name": "stdout",
     "output_type": "stream",
     "text": [
      "532142\n",
      "532151\n"
     ]
    },
    {
     "name": "stderr",
     "output_type": "stream",
     "text": [
      "Skipping field informationSystem: unsupported OGR type: 5\n",
      "Skipping field LocalisedCharacterString: unsupported OGR type: 5\n",
      "Skipping field reference: unsupported OGR type: 13\n",
      "Skipping field informationSystem: unsupported OGR type: 5\n",
      "Skipping field LocalisedCharacterString: unsupported OGR type: 5\n",
      "Skipping field reference: unsupported OGR type: 13\n"
     ]
    },
    {
     "name": "stdout",
     "output_type": "stream",
     "text": [
      "532169\n",
      "532177\n"
     ]
    },
    {
     "name": "stderr",
     "output_type": "stream",
     "text": [
      "Skipping field informationSystem: unsupported OGR type: 5\n",
      "Skipping field LocalisedCharacterString: unsupported OGR type: 5\n",
      "Skipping field reference: unsupported OGR type: 13\n",
      "Skipping field informationSystem: unsupported OGR type: 5\n",
      "Skipping field LocalisedCharacterString: unsupported OGR type: 5\n",
      "Skipping field reference: unsupported OGR type: 13\n",
      "Skipping field informationSystem: unsupported OGR type: 5\n",
      "Skipping field LocalisedCharacterString: unsupported OGR type: 5\n",
      "Skipping field reference: unsupported OGR type: 13\n",
      "Skipping field informationSystem: unsupported OGR type: 5\n",
      "Skipping field LocalisedCharacterString: unsupported OGR type: 5\n",
      "Skipping field reference: unsupported OGR type: 13\n"
     ]
    },
    {
     "name": "stdout",
     "output_type": "stream",
     "text": [
      "536610\n",
      "536628\n",
      "536636\n",
      "536644\n"
     ]
    },
    {
     "name": "stderr",
     "output_type": "stream",
     "text": [
      "Skipping field informationSystem: unsupported OGR type: 5\n",
      "Skipping field LocalisedCharacterString: unsupported OGR type: 5\n",
      "Skipping field reference: unsupported OGR type: 13\n"
     ]
    },
    {
     "name": "stdout",
     "output_type": "stream",
     "text": [
      "536652\n"
     ]
    },
    {
     "name": "stderr",
     "output_type": "stream",
     "text": [
      "Skipping field informationSystem: unsupported OGR type: 5\n",
      "Skipping field LocalisedCharacterString: unsupported OGR type: 5\n",
      "Skipping field reference: unsupported OGR type: 13\n",
      "Skipping field informationSystem: unsupported OGR type: 5\n",
      "Skipping field LocalisedCharacterString: unsupported OGR type: 5\n",
      "Skipping field reference: unsupported OGR type: 13\n",
      "Skipping field informationSystem: unsupported OGR type: 5\n",
      "Skipping field LocalisedCharacterString: unsupported OGR type: 5\n",
      "Skipping field reference: unsupported OGR type: 13\n"
     ]
    },
    {
     "name": "stdout",
     "output_type": "stream",
     "text": [
      "536661\n",
      "536911\n",
      "536920\n"
     ]
    },
    {
     "name": "stderr",
     "output_type": "stream",
     "text": [
      "Skipping field informationSystem: unsupported OGR type: 5\n",
      "Skipping field LocalisedCharacterString: unsupported OGR type: 5\n",
      "Skipping field reference: unsupported OGR type: 13\n",
      "Skipping field informationSystem: unsupported OGR type: 5\n",
      "Skipping field LocalisedCharacterString: unsupported OGR type: 5\n",
      "Skipping field reference: unsupported OGR type: 13\n",
      "Skipping field informationSystem: unsupported OGR type: 5\n",
      "Skipping field LocalisedCharacterString: unsupported OGR type: 5\n",
      "Skipping field reference: unsupported OGR type: 13\n",
      "Skipping field informationSystem: unsupported OGR type: 5\n",
      "Skipping field LocalisedCharacterString: unsupported OGR type: 5\n",
      "Skipping field reference: unsupported OGR type: 13\n"
     ]
    },
    {
     "name": "stdout",
     "output_type": "stream",
     "text": [
      "536938\n",
      "536946\n",
      "536954\n",
      "536962\n"
     ]
    },
    {
     "name": "stderr",
     "output_type": "stream",
     "text": [
      "Skipping field informationSystem: unsupported OGR type: 5\n",
      "Skipping field LocalisedCharacterString: unsupported OGR type: 5\n",
      "Skipping field reference: unsupported OGR type: 13\n"
     ]
    },
    {
     "name": "stdout",
     "output_type": "stream",
     "text": [
      "536971\n"
     ]
    },
    {
     "name": "stderr",
     "output_type": "stream",
     "text": [
      "Skipping field informationSystem: unsupported OGR type: 5\n",
      "Skipping field LocalisedCharacterString: unsupported OGR type: 5\n",
      "Skipping field reference: unsupported OGR type: 13\n",
      "Skipping field informationSystem: unsupported OGR type: 5\n",
      "Skipping field LocalisedCharacterString: unsupported OGR type: 5\n",
      "Skipping field reference: unsupported OGR type: 13\n",
      "Skipping field informationSystem: unsupported OGR type: 5\n",
      "Skipping field LocalisedCharacterString: unsupported OGR type: 5\n",
      "Skipping field reference: unsupported OGR type: 13\n"
     ]
    },
    {
     "name": "stdout",
     "output_type": "stream",
     "text": [
      "532312\n",
      "532321\n",
      "532339\n"
     ]
    },
    {
     "name": "stderr",
     "output_type": "stream",
     "text": [
      "Skipping field informationSystem: unsupported OGR type: 5\n",
      "Skipping field LocalisedCharacterString: unsupported OGR type: 5\n",
      "Skipping field reference: unsupported OGR type: 13\n"
     ]
    },
    {
     "name": "stdout",
     "output_type": "stream",
     "text": [
      "532347\n"
     ]
    },
    {
     "name": "stderr",
     "output_type": "stream",
     "text": [
      "Skipping field informationSystem: unsupported OGR type: 5\n",
      "Skipping field LocalisedCharacterString: unsupported OGR type: 5\n",
      "Skipping field reference: unsupported OGR type: 13\n"
     ]
    },
    {
     "name": "stdout",
     "output_type": "stream",
     "text": [
      "532355\n"
     ]
    },
    {
     "name": "stderr",
     "output_type": "stream",
     "text": [
      "Skipping field informationSystem: unsupported OGR type: 5\n",
      "Skipping field LocalisedCharacterString: unsupported OGR type: 5\n",
      "Skipping field reference: unsupported OGR type: 13\n",
      "Skipping field informationSystem: unsupported OGR type: 5\n",
      "Skipping field LocalisedCharacterString: unsupported OGR type: 5\n",
      "Skipping field reference: unsupported OGR type: 13\n"
     ]
    },
    {
     "name": "stdout",
     "output_type": "stream",
     "text": [
      "531995\n",
      "532002\n"
     ]
    },
    {
     "name": "stderr",
     "output_type": "stream",
     "text": [
      "Skipping field informationSystem: unsupported OGR type: 5\n",
      "Skipping field LocalisedCharacterString: unsupported OGR type: 5\n",
      "Skipping field reference: unsupported OGR type: 13\n"
     ]
    },
    {
     "name": "stdout",
     "output_type": "stream",
     "text": [
      "532011\n"
     ]
    },
    {
     "name": "stderr",
     "output_type": "stream",
     "text": [
      "Skipping field informationSystem: unsupported OGR type: 5\n",
      "Skipping field LocalisedCharacterString: unsupported OGR type: 5\n",
      "Skipping field reference: unsupported OGR type: 13\n",
      "Skipping field informationSystem: unsupported OGR type: 5\n",
      "Skipping field LocalisedCharacterString: unsupported OGR type: 5\n",
      "Skipping field reference: unsupported OGR type: 13\n"
     ]
    },
    {
     "name": "stdout",
     "output_type": "stream",
     "text": [
      "532029\n",
      "532037\n"
     ]
    },
    {
     "name": "stderr",
     "output_type": "stream",
     "text": [
      "Skipping field informationSystem: unsupported OGR type: 5\n",
      "Skipping field LocalisedCharacterString: unsupported OGR type: 5\n",
      "Skipping field reference: unsupported OGR type: 13\n"
     ]
    },
    {
     "name": "stdout",
     "output_type": "stream",
     "text": [
      "532045\n"
     ]
    },
    {
     "name": "stderr",
     "output_type": "stream",
     "text": [
      "Skipping field informationSystem: unsupported OGR type: 5\n",
      "Skipping field LocalisedCharacterString: unsupported OGR type: 5\n",
      "Skipping field reference: unsupported OGR type: 13\n",
      "Skipping field informationSystem: unsupported OGR type: 5\n",
      "Skipping field LocalisedCharacterString: unsupported OGR type: 5\n",
      "Skipping field reference: unsupported OGR type: 13\n",
      "Skipping field informationSystem: unsupported OGR type: 5\n",
      "Skipping field LocalisedCharacterString: unsupported OGR type: 5\n",
      "Skipping field reference: unsupported OGR type: 13\n"
     ]
    },
    {
     "name": "stdout",
     "output_type": "stream",
     "text": [
      "532053\n",
      "532061\n",
      "532070\n"
     ]
    },
    {
     "name": "stderr",
     "output_type": "stream",
     "text": [
      "Skipping field informationSystem: unsupported OGR type: 5\n",
      "Skipping field LocalisedCharacterString: unsupported OGR type: 5\n",
      "Skipping field reference: unsupported OGR type: 13\n",
      "Skipping field informationSystem: unsupported OGR type: 5\n",
      "Skipping field LocalisedCharacterString: unsupported OGR type: 5\n",
      "Skipping field reference: unsupported OGR type: 13\n",
      "Skipping field informationSystem: unsupported OGR type: 5\n",
      "Skipping field LocalisedCharacterString: unsupported OGR type: 5\n",
      "Skipping field reference: unsupported OGR type: 13\n"
     ]
    },
    {
     "name": "stdout",
     "output_type": "stream",
     "text": [
      "532088\n",
      "532096\n",
      "532100\n"
     ]
    },
    {
     "name": "stderr",
     "output_type": "stream",
     "text": [
      "Skipping field informationSystem: unsupported OGR type: 5\n",
      "Skipping field LocalisedCharacterString: unsupported OGR type: 5\n",
      "Skipping field reference: unsupported OGR type: 13\n",
      "Skipping field informationSystem: unsupported OGR type: 5\n",
      "Skipping field LocalisedCharacterString: unsupported OGR type: 5\n",
      "Skipping field reference: unsupported OGR type: 13\n"
     ]
    },
    {
     "name": "stdout",
     "output_type": "stream",
     "text": [
      "532118\n",
      "532126\n"
     ]
    },
    {
     "name": "stderr",
     "output_type": "stream",
     "text": [
      "Skipping field informationSystem: unsupported OGR type: 5\n",
      "Skipping field LocalisedCharacterString: unsupported OGR type: 5\n",
      "Skipping field reference: unsupported OGR type: 13\n",
      "Skipping field informationSystem: unsupported OGR type: 5\n",
      "Skipping field LocalisedCharacterString: unsupported OGR type: 5\n",
      "Skipping field reference: unsupported OGR type: 13\n",
      "Skipping field informationSystem: unsupported OGR type: 5\n",
      "Skipping field LocalisedCharacterString: unsupported OGR type: 5\n",
      "Skipping field reference: unsupported OGR type: 13\n"
     ]
    },
    {
     "name": "stdout",
     "output_type": "stream",
     "text": [
      "532134\n",
      "533882\n",
      "533891\n"
     ]
    },
    {
     "name": "stderr",
     "output_type": "stream",
     "text": [
      "Skipping field informationSystem: unsupported OGR type: 5\n",
      "Skipping field LocalisedCharacterString: unsupported OGR type: 5\n",
      "Skipping field reference: unsupported OGR type: 13\n",
      "Skipping field informationSystem: unsupported OGR type: 5\n",
      "Skipping field LocalisedCharacterString: unsupported OGR type: 5\n",
      "Skipping field reference: unsupported OGR type: 13\n"
     ]
    },
    {
     "name": "stdout",
     "output_type": "stream",
     "text": [
      "533904\n",
      "533912\n"
     ]
    },
    {
     "name": "stderr",
     "output_type": "stream",
     "text": [
      "Skipping field informationSystem: unsupported OGR type: 5\n",
      "Skipping field LocalisedCharacterString: unsupported OGR type: 5\n",
      "Skipping field reference: unsupported OGR type: 13\n",
      "Skipping field informationSystem: unsupported OGR type: 5\n",
      "Skipping field LocalisedCharacterString: unsupported OGR type: 5\n",
      "Skipping field reference: unsupported OGR type: 13\n"
     ]
    },
    {
     "name": "stdout",
     "output_type": "stream",
     "text": [
      "533921\n",
      "533939\n"
     ]
    },
    {
     "name": "stderr",
     "output_type": "stream",
     "text": [
      "Skipping field informationSystem: unsupported OGR type: 5\n",
      "Skipping field LocalisedCharacterString: unsupported OGR type: 5\n",
      "Skipping field reference: unsupported OGR type: 13\n"
     ]
    },
    {
     "name": "stdout",
     "output_type": "stream",
     "text": [
      "533947\n"
     ]
    },
    {
     "name": "stderr",
     "output_type": "stream",
     "text": [
      "Skipping field informationSystem: unsupported OGR type: 5\n",
      "Skipping field LocalisedCharacterString: unsupported OGR type: 5\n",
      "Skipping field reference: unsupported OGR type: 13\n"
     ]
    },
    {
     "name": "stdout",
     "output_type": "stream",
     "text": [
      "533955\n"
     ]
    },
    {
     "name": "stderr",
     "output_type": "stream",
     "text": [
      "Skipping field informationSystem: unsupported OGR type: 5\n",
      "Skipping field LocalisedCharacterString: unsupported OGR type: 5\n",
      "Skipping field reference: unsupported OGR type: 13\n",
      "Skipping field informationSystem: unsupported OGR type: 5\n",
      "Skipping field LocalisedCharacterString: unsupported OGR type: 5\n",
      "Skipping field reference: unsupported OGR type: 13\n"
     ]
    },
    {
     "name": "stdout",
     "output_type": "stream",
     "text": [
      "534153\n",
      "534161\n"
     ]
    },
    {
     "name": "stderr",
     "output_type": "stream",
     "text": [
      "Skipping field informationSystem: unsupported OGR type: 5\n",
      "Skipping field LocalisedCharacterString: unsupported OGR type: 5\n",
      "Skipping field reference: unsupported OGR type: 13\n"
     ]
    },
    {
     "name": "stdout",
     "output_type": "stream",
     "text": [
      "534170\n"
     ]
    },
    {
     "name": "stderr",
     "output_type": "stream",
     "text": [
      "Skipping field informationSystem: unsupported OGR type: 5\n",
      "Skipping field LocalisedCharacterString: unsupported OGR type: 5\n",
      "Skipping field reference: unsupported OGR type: 13\n"
     ]
    },
    {
     "name": "stdout",
     "output_type": "stream",
     "text": [
      "534188\n"
     ]
    },
    {
     "name": "stderr",
     "output_type": "stream",
     "text": [
      "Skipping field informationSystem: unsupported OGR type: 5\n",
      "Skipping field LocalisedCharacterString: unsupported OGR type: 5\n",
      "Skipping field reference: unsupported OGR type: 13\n",
      "Skipping field informationSystem: unsupported OGR type: 5\n",
      "Skipping field LocalisedCharacterString: unsupported OGR type: 5\n",
      "Skipping field reference: unsupported OGR type: 13\n",
      "Skipping field informationSystem: unsupported OGR type: 5\n",
      "Skipping field LocalisedCharacterString: unsupported OGR type: 5\n",
      "Skipping field reference: unsupported OGR type: 13\n"
     ]
    },
    {
     "name": "stdout",
     "output_type": "stream",
     "text": [
      "534196\n",
      "534803\n",
      "534218\n"
     ]
    },
    {
     "name": "stderr",
     "output_type": "stream",
     "text": [
      "Skipping field informationSystem: unsupported OGR type: 5\n",
      "Skipping field LocalisedCharacterString: unsupported OGR type: 5\n",
      "Skipping field reference: unsupported OGR type: 13\n",
      "Skipping field informationSystem: unsupported OGR type: 5\n",
      "Skipping field LocalisedCharacterString: unsupported OGR type: 5\n",
      "Skipping field reference: unsupported OGR type: 13\n",
      "Skipping field informationSystem: unsupported OGR type: 5\n",
      "Skipping field LocalisedCharacterString: unsupported OGR type: 5\n",
      "Skipping field reference: unsupported OGR type: 13\n"
     ]
    },
    {
     "name": "stdout",
     "output_type": "stream",
     "text": [
      "534226\n",
      "534234\n",
      "536377\n"
     ]
    },
    {
     "name": "stderr",
     "output_type": "stream",
     "text": [
      "Skipping field informationSystem: unsupported OGR type: 5\n",
      "Skipping field LocalisedCharacterString: unsupported OGR type: 5\n",
      "Skipping field reference: unsupported OGR type: 13\n",
      "Skipping field informationSystem: unsupported OGR type: 5\n",
      "Skipping field LocalisedCharacterString: unsupported OGR type: 5\n",
      "Skipping field reference: unsupported OGR type: 13\n",
      "Skipping field informationSystem: unsupported OGR type: 5\n",
      "Skipping field LocalisedCharacterString: unsupported OGR type: 5\n",
      "Skipping field reference: unsupported OGR type: 1\n"
     ]
    },
    {
     "name": "stdout",
     "output_type": "stream",
     "text": [
      "536393\n",
      "536407\n",
      "536415\n"
     ]
    },
    {
     "name": "stderr",
     "output_type": "stream",
     "text": [
      "Skipping field informationSystem: unsupported OGR type: 5\n",
      "Skipping field LocalisedCharacterString: unsupported OGR type: 5\n",
      "Skipping field reference: unsupported OGR type: 13\n",
      "Skipping field informationSystem: unsupported OGR type: 5\n",
      "Skipping field LocalisedCharacterString: unsupported OGR type: 5\n",
      "Skipping field reference: unsupported OGR type: 13\n",
      "Skipping field informationSystem: unsupported OGR type: 5\n",
      "Skipping field LocalisedCharacterString: unsupported OGR type: 5\n",
      "Skipping field reference: unsupported OGR type: 13\n",
      "Skipping field informationSystem: unsupported OGR type: 5\n",
      "Skipping field LocalisedCharacterString: unsupported OGR type: 5\n",
      "Skipping field reference: unsupported OGR type: 13\n"
     ]
    },
    {
     "name": "stdout",
     "output_type": "stream",
     "text": [
      "534242\n",
      "534251\n",
      "534269\n"
     ]
    },
    {
     "name": "stderr",
     "output_type": "stream",
     "text": [
      "Skipping field informationSystem: unsupported OGR type: 5\n",
      "Skipping field LocalisedCharacterString: unsupported OGR type: 5\n",
      "Skipping field reference: unsupported OGR type: 13\n",
      "Skipping field informationSystem: unsupported OGR type: 5\n",
      "Skipping field LocalisedCharacterString: unsupported OGR type: 5\n",
      "Skipping field reference: unsupported OGR type: 13\n"
     ]
    },
    {
     "name": "stdout",
     "output_type": "stream",
     "text": [
      "534277\n",
      "534285\n",
      "534293\n"
     ]
    },
    {
     "name": "stderr",
     "output_type": "stream",
     "text": [
      "Skipping field informationSystem: unsupported OGR type: 5\n",
      "Skipping field LocalisedCharacterString: unsupported OGR type: 5\n",
      "Skipping field reference: unsupported OGR type: 13\n"
     ]
    },
    {
     "name": "stdout",
     "output_type": "stream",
     "text": [
      "534307\n"
     ]
    },
    {
     "name": "stderr",
     "output_type": "stream",
     "text": [
      "Skipping field informationSystem: unsupported OGR type: 5\n",
      "Skipping field LocalisedCharacterString: unsupported OGR type: 5\n",
      "Skipping field reference: unsupported OGR type: 13\n",
      "Skipping field informationSystem: unsupported OGR type: 5\n",
      "Skipping field LocalisedCharacterString: unsupported OGR type: 5\n",
      "Skipping field reference: unsupported OGR type: 13\n",
      "Skipping field informationSystem: unsupported OGR type: 5\n",
      "Skipping field LocalisedCharacterString: unsupported OGR type: 5\n",
      "Skipping field reference: unsupported OGR type: 13\n"
     ]
    },
    {
     "name": "stdout",
     "output_type": "stream",
     "text": [
      "534315\n",
      "534323\n",
      "534331\n"
     ]
    },
    {
     "name": "stderr",
     "output_type": "stream",
     "text": [
      "Skipping field informationSystem: unsupported OGR type: 5\n",
      "Skipping field LocalisedCharacterString: unsupported OGR type: 5\n",
      "Skipping field reference: unsupported OGR type: 13\n",
      "Skipping field informationSystem: unsupported OGR type: 5\n",
      "Skipping field LocalisedCharacterString: unsupported OGR type: 5\n",
      "Skipping field reference: unsupported OGR type: 13\n"
     ]
    },
    {
     "name": "stdout",
     "output_type": "stream",
     "text": [
      "534340\n",
      "534358\n"
     ]
    },
    {
     "name": "stderr",
     "output_type": "stream",
     "text": [
      "Skipping field informationSystem: unsupported OGR type: 5\n",
      "Skipping field LocalisedCharacterString: unsupported OGR type: 5\n",
      "Skipping field reference: unsupported OGR type: 13\n"
     ]
    },
    {
     "name": "stdout",
     "output_type": "stream",
     "text": [
      "534366\n"
     ]
    },
    {
     "name": "stderr",
     "output_type": "stream",
     "text": [
      "Skipping field informationSystem: unsupported OGR type: 5\n",
      "Skipping field LocalisedCharacterString: unsupported OGR type: 5\n",
      "Skipping field reference: unsupported OGR type: 13\n"
     ]
    },
    {
     "name": "stdout",
     "output_type": "stream",
     "text": [
      "534374\n"
     ]
    },
    {
     "name": "stderr",
     "output_type": "stream",
     "text": [
      "Skipping field informationSystem: unsupported OGR type: 5\n",
      "Skipping field LocalisedCharacterString: unsupported OGR type: 5\n",
      "Skipping field reference: unsupported OGR type: 13\n",
      "Skipping field informationSystem: unsupported OGR type: 5\n",
      "Skipping field LocalisedCharacterString: unsupported OGR type: 5\n",
      "Skipping field reference: unsupported OGR type: 13\n",
      "Skipping field informationSystem: unsupported OGR type: 5\n",
      "Skipping field LocalisedCharacterString: unsupported OGR type: 5\n",
      "Skipping field reference: unsupported OGR type: 13\n"
     ]
    },
    {
     "name": "stdout",
     "output_type": "stream",
     "text": [
      "534951\n",
      "534960\n",
      "535290\n"
     ]
    },
    {
     "name": "stderr",
     "output_type": "stream",
     "text": [
      "Skipping field informationSystem: unsupported OGR type: 5\n",
      "Skipping field LocalisedCharacterString: unsupported OGR type: 5\n",
      "Skipping field reference: unsupported OGR type: 13\n",
      "Skipping field informationSystem: unsupported OGR type: 5\n",
      "Skipping field LocalisedCharacterString: unsupported OGR type: 5\n",
      "Skipping field reference: unsupported OGR type: 13\n"
     ]
    },
    {
     "name": "stdout",
     "output_type": "stream",
     "text": [
      "535303\n",
      "535311\n"
     ]
    },
    {
     "name": "stderr",
     "output_type": "stream",
     "text": [
      "Skipping field informationSystem: unsupported OGR type: 5\n",
      "Skipping field LocalisedCharacterString: unsupported OGR type: 5\n",
      "Skipping field reference: unsupported OGR type: 13\n"
     ]
    },
    {
     "name": "stdout",
     "output_type": "stream",
     "text": [
      "535320\n"
     ]
    },
    {
     "name": "stderr",
     "output_type": "stream",
     "text": [
      "Skipping field informationSystem: unsupported OGR type: 5\n",
      "Skipping field LocalisedCharacterString: unsupported OGR type: 5\n",
      "Skipping field reference: unsupported OGR type: 13\n"
     ]
    },
    {
     "name": "stdout",
     "output_type": "stream",
     "text": [
      "535338\n"
     ]
    },
    {
     "name": "stderr",
     "output_type": "stream",
     "text": [
      "Skipping field informationSystem: unsupported OGR type: 5\n",
      "Skipping field LocalisedCharacterString: unsupported OGR type: 5\n",
      "Skipping field reference: unsupported OGR type: 13\n",
      "Skipping field informationSystem: unsupported OGR type: 5\n",
      "Skipping field LocalisedCharacterString: unsupported OGR type: 5\n",
      "Skipping field reference: unsupported OGR type: 13\n"
     ]
    },
    {
     "name": "stdout",
     "output_type": "stream",
     "text": [
      "535346\n",
      "535354\n"
     ]
    },
    {
     "name": "stderr",
     "output_type": "stream",
     "text": [
      "Skipping field informationSystem: unsupported OGR type: 5\n",
      "Skipping field LocalisedCharacterString: unsupported OGR type: 5\n",
      "Skipping field reference: unsupported OGR type: 13\n",
      "Skipping field informationSystem: unsupported OGR type: 5\n",
      "Skipping field LocalisedCharacterString: unsupported OGR type: 5\n",
      "Skipping field reference: unsupported OGR type: 13\n",
      "Skipping field informationSystem: unsupported OGR type: 5\n",
      "Skipping field LocalisedCharacterString: unsupported OGR type: 5\n",
      "Skipping field reference: unsupported OGR type: 13\n"
     ]
    },
    {
     "name": "stdout",
     "output_type": "stream",
     "text": [
      "535362\n",
      "535371\n",
      "535389\n"
     ]
    },
    {
     "name": "stderr",
     "output_type": "stream",
     "text": [
      "Skipping field informationSystem: unsupported OGR type: 5\n",
      "Skipping field LocalisedCharacterString: unsupported OGR type: 5\n",
      "Skipping field reference: unsupported OGR type: 13\n",
      "Skipping field informationSystem: unsupported OGR type: 5\n",
      "Skipping field LocalisedCharacterString: unsupported OGR type: 5\n",
      "Skipping field reference: unsupported OGR type: 13\n",
      "Skipping field informationSystem: unsupported OGR type: 5\n",
      "Skipping field LocalisedCharacterString: unsupported OGR type: 5\n",
      "Skipping field reference: unsupported OGR type: 13\n"
     ]
    },
    {
     "name": "stdout",
     "output_type": "stream",
     "text": [
      "535893\n",
      "535907\n",
      "535915\n"
     ]
    },
    {
     "name": "stderr",
     "output_type": "stream",
     "text": [
      "Skipping field informationSystem: unsupported OGR type: 5\n",
      "Skipping field LocalisedCharacterString: unsupported OGR type: 5\n",
      "Skipping field reference: unsupported OGR type: 13\n",
      "Skipping field informationSystem: unsupported OGR type: 5\n",
      "Skipping field LocalisedCharacterString: unsupported OGR type: 5\n",
      "Skipping field reference: unsupported OGR type: 13\n",
      "Skipping field informationSystem: unsupported OGR type: 5\n",
      "Skipping field LocalisedCharacterString: unsupported OGR type: 5\n",
      "Skipping field reference: unsupported OGR type: 13\n"
     ]
    },
    {
     "name": "stdout",
     "output_type": "stream",
     "text": [
      "535923\n",
      "535931\n",
      "535940\n"
     ]
    },
    {
     "name": "stderr",
     "output_type": "stream",
     "text": [
      "Skipping field informationSystem: unsupported OGR type: 5\n",
      "Skipping field LocalisedCharacterString: unsupported OGR type: 5\n",
      "Skipping field reference: unsupported OGR type: 13\n",
      "Skipping field informationSystem: unsupported OGR type: 5\n",
      "Skipping field LocalisedCharacterString: unsupported OGR type: 5\n",
      "Skipping field reference: unsupported OGR type: 13\n",
      "Skipping field informationSystem: unsupported OGR type: 5\n",
      "Skipping field LocalisedCharacterString: unsupported OGR type: 5\n",
      "Skipping field reference: unsupported OGR type: 13\n",
      "Skipping field informationSystem: unsupported OGR type: 5\n",
      "Skipping field LocalisedCharacterString: unsupported OGR type: 5\n",
      "Skipping field reference: unsupported OGR type: 13\n"
     ]
    },
    {
     "name": "stdout",
     "output_type": "stream",
     "text": [
      "534382\n",
      "534391\n",
      "534404\n"
     ]
    },
    {
     "name": "stderr",
     "output_type": "stream",
     "text": [
      "Skipping field informationSystem: unsupported OGR type: 5\n",
      "Skipping field LocalisedCharacterString: unsupported OGR type: 5\n",
      "Skipping field reference: unsupported OGR type: 13\n"
     ]
    },
    {
     "name": "stdout",
     "output_type": "stream",
     "text": [
      "534412\n",
      "534421\n"
     ]
    },
    {
     "name": "stderr",
     "output_type": "stream",
     "text": [
      "Skipping field informationSystem: unsupported OGR type: 5\n",
      "Skipping field LocalisedCharacterString: unsupported OGR type: 5\n",
      "Skipping field reference: unsupported OGR type: 13\n"
     ]
    },
    {
     "name": "stdout",
     "output_type": "stream",
     "text": [
      "534439\n"
     ]
    },
    {
     "name": "stderr",
     "output_type": "stream",
     "text": [
      "Skipping field informationSystem: unsupported OGR type: 5\n",
      "Skipping field LocalisedCharacterString: unsupported OGR type: 5\n",
      "Skipping field reference: unsupported OGR type: 13\n"
     ]
    },
    {
     "name": "stdout",
     "output_type": "stream",
     "text": [
      "534978\n"
     ]
    },
    {
     "name": "stderr",
     "output_type": "stream",
     "text": [
      "Skipping field informationSystem: unsupported OGR type: 5\n",
      "Skipping field LocalisedCharacterString: unsupported OGR type: 5\n",
      "Skipping field reference: unsupported OGR type: 13\n",
      "Skipping field informationSystem: unsupported OGR type: 5\n",
      "Skipping field LocalisedCharacterString: unsupported OGR type: 5\n",
      "Skipping field reference: unsupported OGR type: 13\n"
     ]
    },
    {
     "name": "stdout",
     "output_type": "stream",
     "text": [
      "534986\n",
      "534994\n"
     ]
    },
    {
     "name": "stderr",
     "output_type": "stream",
     "text": [
      "Skipping field informationSystem: unsupported OGR type: 5\n",
      "Skipping field LocalisedCharacterString: unsupported OGR type: 5\n",
      "Skipping field reference: unsupported OGR type: 13\n",
      "Skipping field informationSystem: unsupported OGR type: 5\n",
      "Skipping field LocalisedCharacterString: unsupported OGR type: 5\n",
      "Skipping field reference: unsupported OGR type: 13\n"
     ]
    },
    {
     "name": "stdout",
     "output_type": "stream",
     "text": [
      "535001\n",
      "535010\n"
     ]
    },
    {
     "name": "stderr",
     "output_type": "stream",
     "text": [
      "Skipping field informationSystem: unsupported OGR type: 5\n",
      "Skipping field LocalisedCharacterString: unsupported OGR type: 5\n",
      "Skipping field reference: unsupported OGR type: 13\n",
      "Skipping field informationSystem: unsupported OGR type: 5\n",
      "Skipping field LocalisedCharacterString: unsupported OGR type: 5\n",
      "Skipping field reference: unsupported OGR type: 13\n"
     ]
    },
    {
     "name": "stdout",
     "output_type": "stream",
     "text": [
      "535397\n",
      "535401\n"
     ]
    },
    {
     "name": "stderr",
     "output_type": "stream",
     "text": [
      "Skipping field informationSystem: unsupported OGR type: 5\n",
      "Skipping field LocalisedCharacterString: unsupported OGR type: 5\n",
      "Skipping field reference: unsupported OGR type: 13\n"
     ]
    },
    {
     "name": "stdout",
     "output_type": "stream",
     "text": [
      "535419\n"
     ]
    },
    {
     "name": "stderr",
     "output_type": "stream",
     "text": [
      "Skipping field informationSystem: unsupported OGR type: 5\n",
      "Skipping field LocalisedCharacterString: unsupported OGR type: 5\n",
      "Skipping field reference: unsupported OGR type: 13\n",
      "Skipping field informationSystem: unsupported OGR type: 5\n",
      "Skipping field LocalisedCharacterString: unsupported OGR type: 5\n",
      "Skipping field reference: unsupported OGR type: 13\n"
     ]
    },
    {
     "name": "stdout",
     "output_type": "stream",
     "text": [
      "535427\n",
      "535435\n"
     ]
    },
    {
     "name": "stderr",
     "output_type": "stream",
     "text": [
      "Skipping field informationSystem: unsupported OGR type: 5\n",
      "Skipping field LocalisedCharacterString: unsupported OGR type: 5\n",
      "Skipping field reference: unsupported OGR type: 13\n"
     ]
    },
    {
     "name": "stdout",
     "output_type": "stream",
     "text": [
      "535443\n"
     ]
    },
    {
     "name": "stderr",
     "output_type": "stream",
     "text": [
      "Skipping field informationSystem: unsupported OGR type: 5\n",
      "Skipping field LocalisedCharacterString: unsupported OGR type: 5\n",
      "Skipping field reference: unsupported OGR type: 13\n"
     ]
    },
    {
     "name": "stdout",
     "output_type": "stream",
     "text": [
      "535451\n"
     ]
    },
    {
     "name": "stderr",
     "output_type": "stream",
     "text": [
      "Skipping field informationSystem: unsupported OGR type: 5\n",
      "Skipping field LocalisedCharacterString: unsupported OGR type: 5\n",
      "Skipping field reference: unsupported OGR type: 13\n"
     ]
    },
    {
     "name": "stdout",
     "output_type": "stream",
     "text": [
      "536270\n"
     ]
    },
    {
     "name": "stderr",
     "output_type": "stream",
     "text": [
      "Skipping field informationSystem: unsupported OGR type: 5\n",
      "Skipping field LocalisedCharacterString: unsupported OGR type: 5\n",
      "Skipping field reference: unsupported OGR type: 13\n"
     ]
    },
    {
     "name": "stdout",
     "output_type": "stream",
     "text": [
      "536288\n"
     ]
    },
    {
     "name": "stderr",
     "output_type": "stream",
     "text": [
      "Skipping field informationSystem: unsupported OGR type: 5\n",
      "Skipping field LocalisedCharacterString: unsupported OGR type: 5\n",
      "Skipping field reference: unsupported OGR type: 13\n"
     ]
    },
    {
     "name": "stdout",
     "output_type": "stream",
     "text": [
      "567973\n"
     ]
    },
    {
     "name": "stderr",
     "output_type": "stream",
     "text": [
      "Skipping field informationSystem: unsupported OGR type: 5\n",
      "Skipping field LocalisedCharacterString: unsupported OGR type: 5\n",
      "Skipping field reference: unsupported OGR type: 13\n",
      "Skipping field informationSystem: unsupported OGR type: 5\n",
      "Skipping field LocalisedCharacterString: unsupported OGR type: 5\n",
      "Skipping field reference: unsupported OGR type: 13\n"
     ]
    },
    {
     "name": "stdout",
     "output_type": "stream",
     "text": [
      "536296\n",
      "536300\n"
     ]
    },
    {
     "name": "stderr",
     "output_type": "stream",
     "text": [
      "Skipping field informationSystem: unsupported OGR type: 5\n",
      "Skipping field LocalisedCharacterString: unsupported OGR type: 5\n",
      "Skipping field reference: unsupported OGR type: 13\n",
      "Skipping field informationSystem: unsupported OGR type: 5\n",
      "Skipping field LocalisedCharacterString: unsupported OGR type: 5\n",
      "Skipping field reference: unsupported OGR type: 13\n"
     ]
    },
    {
     "name": "stdout",
     "output_type": "stream",
     "text": [
      "532851\n"
     ]
    },
    {
     "name": "stderr",
     "output_type": "stream",
     "text": [
      "Skipping field informationSystem: unsupported OGR type: 5\n",
      "Skipping field LocalisedCharacterString: unsupported OGR type: 5\n",
      "Skipping field reference: unsupported OGR type: 13\n",
      "Skipping field informationSystem: unsupported OGR type: 5\n",
      "Skipping field LocalisedCharacterString: unsupported OGR type: 5\n",
      "Skipping field reference: unsupported OGR type: 13\n",
      "Skipping field informationSystem: unsupported OGR type: 5\n",
      "Skipping field LocalisedCharacterString: unsupported OGR type: 5\n",
      "Skipping field reference: unsupported OGR type: 13\n"
     ]
    },
    {
     "name": "stdout",
     "output_type": "stream",
     "text": [
      "532860\n",
      "532878\n",
      "532886\n",
      "532894\n"
     ]
    },
    {
     "name": "stderr",
     "output_type": "stream",
     "text": [
      "Skipping field informationSystem: unsupported OGR type: 5\n",
      "Skipping field LocalisedCharacterString: unsupported OGR type: 5\n",
      "Skipping field reference: unsupported OGR type: 13\n",
      "Skipping field informationSystem: unsupported OGR type: 5\n",
      "Skipping field LocalisedCharacterString: unsupported OGR type: 5\n",
      "Skipping field reference: unsupported OGR type: 13\n"
     ]
    },
    {
     "name": "stdout",
     "output_type": "stream",
     "text": [
      "532908\n",
      "532916\n"
     ]
    },
    {
     "name": "stderr",
     "output_type": "stream",
     "text": [
      "Skipping field informationSystem: unsupported OGR type: 5\n",
      "Skipping field LocalisedCharacterString: unsupported OGR type: 5\n",
      "Skipping field reference: unsupported OGR type: 13\n",
      "Skipping field informationSystem: unsupported OGR type: 5\n",
      "Skipping field LocalisedCharacterString: unsupported OGR type: 5\n",
      "Skipping field reference: unsupported OGR type: 13\n",
      "Skipping field informationSystem: unsupported OGR type: 5\n",
      "Skipping field LocalisedCharacterString: unsupported OGR type: 5\n",
      "Skipping field reference: unsupported OGR type: 13\n"
     ]
    },
    {
     "name": "stdout",
     "output_type": "stream",
     "text": [
      "532924\n",
      "532932\n",
      "532941\n"
     ]
    },
    {
     "name": "stderr",
     "output_type": "stream",
     "text": [
      "Skipping field informationSystem: unsupported OGR type: 5\n",
      "Skipping field LocalisedCharacterString: unsupported OGR type: 5\n",
      "Skipping field reference: unsupported OGR type: 13\n"
     ]
    },
    {
     "name": "stdout",
     "output_type": "stream",
     "text": [
      "532959\n"
     ]
    },
    {
     "name": "stderr",
     "output_type": "stream",
     "text": [
      "Skipping field informationSystem: unsupported OGR type: 5\n",
      "Skipping field LocalisedCharacterString: unsupported OGR type: 5\n",
      "Skipping field reference: unsupported OGR type: 13\n",
      "Skipping field informationSystem: unsupported OGR type: 5\n",
      "Skipping field LocalisedCharacterString: unsupported OGR type: 5\n",
      "Skipping field reference: unsupported OGR type: 13\n",
      "Skipping field informationSystem: unsupported OGR type: 5\n",
      "Skipping field LocalisedCharacterString: unsupported OGR type: 5\n",
      "Skipping field reference: unsupported OGR type: 13\n"
     ]
    },
    {
     "name": "stdout",
     "output_type": "stream",
     "text": [
      "534447\n",
      "534455\n",
      "534463\n"
     ]
    },
    {
     "name": "stderr",
     "output_type": "stream",
     "text": [
      "Skipping field informationSystem: unsupported OGR type: 5\n",
      "Skipping field LocalisedCharacterString: unsupported OGR type: 5\n",
      "Skipping field reference: unsupported OGR type: 13\n"
     ]
    },
    {
     "name": "stdout",
     "output_type": "stream",
     "text": [
      "534471\n"
     ]
    },
    {
     "name": "stderr",
     "output_type": "stream",
     "text": [
      "Skipping field informationSystem: unsupported OGR type: 5\n",
      "Skipping field LocalisedCharacterString: unsupported OGR type: 5\n",
      "Skipping field reference: unsupported OGR type: 13\n",
      "Skipping field informationSystem: unsupported OGR type: 5\n",
      "Skipping field LocalisedCharacterString: unsupported OGR type: 5\n",
      "Skipping field reference: unsupported OGR type: 13\n"
     ]
    },
    {
     "name": "stdout",
     "output_type": "stream",
     "text": [
      "534480\n",
      "535591\n"
     ]
    },
    {
     "name": "stderr",
     "output_type": "stream",
     "text": [
      "Skipping field informationSystem: unsupported OGR type: 5\n",
      "Skipping field LocalisedCharacterString: unsupported OGR type: 5\n",
      "Skipping field reference: unsupported OGR type: 13\n",
      "Skipping field informationSystem: unsupported OGR type: 5\n",
      "Skipping field LocalisedCharacterString: unsupported OGR type: 5\n",
      "Skipping field reference: unsupported OGR type: 13\n",
      "Skipping field informationSystem: unsupported OGR type: 5\n",
      "Skipping field LocalisedCharacterString: unsupported OGR type: 5\n",
      "Skipping field reference: unsupported OGR type: 13\n"
     ]
    },
    {
     "name": "stdout",
     "output_type": "stream",
     "text": [
      "535605\n",
      "535613\n",
      "535621\n"
     ]
    },
    {
     "name": "stderr",
     "output_type": "stream",
     "text": [
      "Skipping field informationSystem: unsupported OGR type: 5\n",
      "Skipping field LocalisedCharacterString: unsupported OGR type: 5\n",
      "Skipping field reference: unsupported OGR type: 13\n"
     ]
    },
    {
     "name": "stdout",
     "output_type": "stream",
     "text": [
      "535630\n"
     ]
    },
    {
     "name": "stderr",
     "output_type": "stream",
     "text": [
      "Skipping field informationSystem: unsupported OGR type: 5\n",
      "Skipping field LocalisedCharacterString: unsupported OGR type: 5\n",
      "Skipping field reference: unsupported OGR type: 13\n",
      "Skipping field informationSystem: unsupported OGR type: 5\n",
      "Skipping field LocalisedCharacterString: unsupported OGR type: 5\n",
      "Skipping field reference: unsupported OGR type: 13\n"
     ]
    },
    {
     "name": "stdout",
     "output_type": "stream",
     "text": [
      "535648\n",
      "532363\n"
     ]
    },
    {
     "name": "stderr",
     "output_type": "stream",
     "text": [
      "Skipping field informationSystem: unsupported OGR type: 5\n",
      "Skipping field LocalisedCharacterString: unsupported OGR type: 5\n",
      "Skipping field reference: unsupported OGR type: 13\n",
      "Skipping field informationSystem: unsupported OGR type: 5\n",
      "Skipping field LocalisedCharacterString: unsupported OGR type: 5\n",
      "Skipping field reference: unsupported OGR type: 13\n",
      "Skipping field informationSystem: unsupported OGR type: 5\n",
      "Skipping field LocalisedCharacterString: unsupported OGR type: 5\n",
      "Skipping field reference: unsupported OGR type: 13\n",
      "Skipping field informationSystem: unsupported OGR type: 5\n",
      "Skipping field LocalisedCharacterString: unsupported OGR type: 5\n",
      "Skipping field reference: unsupported OGR type: 13\n"
     ]
    },
    {
     "name": "stdout",
     "output_type": "stream",
     "text": [
      "532371\n",
      "532380\n",
      "532398\n",
      "532401\n"
     ]
    },
    {
     "name": "stderr",
     "output_type": "stream",
     "text": [
      "Skipping field informationSystem: unsupported OGR type: 5\n",
      "Skipping field LocalisedCharacterString: unsupported OGR type: 5\n",
      "Skipping field reference: unsupported OGR type: 13\n",
      "Skipping field informationSystem: unsupported OGR type: 5\n",
      "Skipping field LocalisedCharacterString: unsupported OGR type: 5\n",
      "Skipping field reference: unsupported OGR type: 13\n",
      "Skipping field informationSystem: unsupported OGR type: 5\n",
      "Skipping field LocalisedCharacterString: unsupported OGR type: 5\n",
      "Skipping field reference: unsupported OGR type: 13\n"
     ]
    },
    {
     "name": "stdout",
     "output_type": "stream",
     "text": [
      "544345\n",
      "544353\n"
     ]
    },
    {
     "name": "stderr",
     "output_type": "stream",
     "text": [
      "Skipping field informationSystem: unsupported OGR type: 5\n",
      "Skipping field LocalisedCharacterString: unsupported OGR type: 5\n",
      "Skipping field reference: unsupported OGR type: 13\n"
     ]
    },
    {
     "name": "stdout",
     "output_type": "stream",
     "text": [
      "544361\n",
      "544507\n"
     ]
    },
    {
     "name": "stderr",
     "output_type": "stream",
     "text": [
      "Skipping field informationSystem: unsupported OGR type: 5\n",
      "Skipping field LocalisedCharacterString: unsupported OGR type: 5\n",
      "Skipping field reference: unsupported OGR type: 13\n"
     ]
    },
    {
     "name": "stdout",
     "output_type": "stream",
     "text": [
      "544515\n"
     ]
    },
    {
     "name": "stderr",
     "output_type": "stream",
     "text": [
      "Skipping field informationSystem: unsupported OGR type: 5\n",
      "Skipping field LocalisedCharacterString: unsupported OGR type: 5\n",
      "Skipping field reference: unsupported OGR type: 13\n"
     ]
    },
    {
     "name": "stdout",
     "output_type": "stream",
     "text": [
      "544523\n"
     ]
    },
    {
     "name": "stderr",
     "output_type": "stream",
     "text": [
      "Skipping field informationSystem: unsupported OGR type: 5\n",
      "Skipping field LocalisedCharacterString: unsupported OGR type: 5\n",
      "Skipping field reference: unsupported OGR type: 13\n",
      "Skipping field informationSystem: unsupported OGR type: 5\n",
      "Skipping field LocalisedCharacterString: unsupported OGR type: 5\n",
      "Skipping field reference: unsupported OGR type: 13\n"
     ]
    },
    {
     "name": "stdout",
     "output_type": "stream",
     "text": [
      "544531\n",
      "544540\n"
     ]
    },
    {
     "name": "stderr",
     "output_type": "stream",
     "text": [
      "Skipping field informationSystem: unsupported OGR type: 5\n",
      "Skipping field LocalisedCharacterString: unsupported OGR type: 5\n",
      "Skipping field reference: unsupported OGR type: 13\n"
     ]
    },
    {
     "name": "stdout",
     "output_type": "stream",
     "text": [
      "544558\n"
     ]
    },
    {
     "name": "stderr",
     "output_type": "stream",
     "text": [
      "Skipping field informationSystem: unsupported OGR type: 5\n",
      "Skipping field LocalisedCharacterString: unsupported OGR type: 5\n",
      "Skipping field reference: unsupported OGR type: 13\n",
      "Skipping field informationSystem: unsupported OGR type: 5\n",
      "Skipping field LocalisedCharacterString: unsupported OGR type: 5\n",
      "Skipping field reference: unsupported OGR type: 13\n"
     ]
    },
    {
     "name": "stdout",
     "output_type": "stream",
     "text": [
      "535028\n",
      "535036\n"
     ]
    },
    {
     "name": "stderr",
     "output_type": "stream",
     "text": [
      "Skipping field informationSystem: unsupported OGR type: 5\n",
      "Skipping field LocalisedCharacterString: unsupported OGR type: 5\n",
      "Skipping field reference: unsupported OGR type: 13\n",
      "Skipping field informationSystem: unsupported OGR type: 5\n",
      "Skipping field LocalisedCharacterString: unsupported OGR type: 5\n",
      "Skipping field reference: unsupported OGR type: 13\n",
      "Skipping field informationSystem: unsupported OGR type: 5\n",
      "Skipping field LocalisedCharacterString: unsupported OGR type: 5\n",
      "Skipping field reference: unsupported OGR type: 13\n",
      "Skipping field informationSystem: unsupported OGR type: 5\n",
      "Skipping field LocalisedCharacterString: unsupported OGR type: 5\n",
      "Skipping field reference: unsupported OGR type: 13\n"
     ]
    },
    {
     "name": "stdout",
     "output_type": "stream",
     "text": [
      "536326\n",
      "536334\n",
      "536342\n",
      "536351\n"
     ]
    },
    {
     "name": "stderr",
     "output_type": "stream",
     "text": [
      "Skipping field informationSystem: unsupported OGR type: 5\n",
      "Skipping field LocalisedCharacterString: unsupported OGR type: 5\n",
      "Skipping field reference: unsupported OGR type: 1\n",
      "Skipping field informationSystem: unsupported OGR type: 5\n",
      "Skipping field LocalisedCharacterString: unsupported OGR type: 5\n",
      "Skipping field reference: unsupported OGR type: 13\n",
      "Skipping field informationSystem: unsupported OGR type: 5\n",
      "Skipping field LocalisedCharacterString: unsupported OGR type: 5\n",
      "Skipping field reference: unsupported OGR type: 13\n"
     ]
    },
    {
     "name": "stdout",
     "output_type": "stream",
     "text": [
      "536369\n",
      "532690\n",
      "532711\n"
     ]
    },
    {
     "name": "stderr",
     "output_type": "stream",
     "text": [
      "Skipping field informationSystem: unsupported OGR type: 5\n",
      "Skipping field LocalisedCharacterString: unsupported OGR type: 5\n",
      "Skipping field reference: unsupported OGR type: 13\n",
      "Skipping field informationSystem: unsupported OGR type: 5\n",
      "Skipping field LocalisedCharacterString: unsupported OGR type: 5\n",
      "Skipping field reference: unsupported OGR type: 13\n"
     ]
    },
    {
     "name": "stdout",
     "output_type": "stream",
     "text": [
      "545104\n",
      "545112\n"
     ]
    },
    {
     "name": "stderr",
     "output_type": "stream",
     "text": [
      "Skipping field informationSystem: unsupported OGR type: 5\n",
      "Skipping field LocalisedCharacterString: unsupported OGR type: 5\n",
      "Skipping field reference: unsupported OGR type: 13\n"
     ]
    },
    {
     "name": "stdout",
     "output_type": "stream",
     "text": [
      "545121\n"
     ]
    },
    {
     "name": "stderr",
     "output_type": "stream",
     "text": [
      "Skipping field informationSystem: unsupported OGR type: 5\n",
      "Skipping field LocalisedCharacterString: unsupported OGR type: 5\n",
      "Skipping field reference: unsupported OGR type: 13\n",
      "Skipping field informationSystem: unsupported OGR type: 5\n",
      "Skipping field LocalisedCharacterString: unsupported OGR type: 5\n",
      "Skipping field reference: unsupported OGR type: 13\n"
     ]
    },
    {
     "name": "stdout",
     "output_type": "stream",
     "text": [
      "545139\n",
      "535460\n"
     ]
    },
    {
     "name": "stderr",
     "output_type": "stream",
     "text": [
      "Skipping field informationSystem: unsupported OGR type: 5\n",
      "Skipping field LocalisedCharacterString: unsupported OGR type: 5\n",
      "Skipping field reference: unsupported OGR type: 13\n",
      "Skipping field informationSystem: unsupported OGR type: 5\n",
      "Skipping field LocalisedCharacterString: unsupported OGR type: 5\n",
      "Skipping field reference: unsupported OGR type: 13\n"
     ]
    },
    {
     "name": "stdout",
     "output_type": "stream",
     "text": [
      "535478\n",
      "535486\n"
     ]
    },
    {
     "name": "stderr",
     "output_type": "stream",
     "text": [
      "Skipping field informationSystem: unsupported OGR type: 5\n",
      "Skipping field LocalisedCharacterString: unsupported OGR type: 5\n",
      "Skipping field reference: unsupported OGR type: 13\n",
      "Skipping field informationSystem: unsupported OGR type: 5\n",
      "Skipping field LocalisedCharacterString: unsupported OGR type: 5\n",
      "Skipping field reference: unsupported OGR type: 13\n",
      "Skipping field informationSystem: unsupported OGR type: 5\n",
      "Skipping field LocalisedCharacterString: unsupported OGR type: 5\n",
      "Skipping field reference: unsupported OGR type: 13\n"
     ]
    },
    {
     "name": "stdout",
     "output_type": "stream",
     "text": [
      "541231\n",
      "534684\n",
      "534692\n"
     ]
    },
    {
     "name": "stderr",
     "output_type": "stream",
     "text": [
      "Skipping field informationSystem: unsupported OGR type: 5\n",
      "Skipping field LocalisedCharacterString: unsupported OGR type: 5\n",
      "Skipping field reference: unsupported OGR type: 13\n",
      "Skipping field informationSystem: unsupported OGR type: 5\n",
      "Skipping field LocalisedCharacterString: unsupported OGR type: 5\n",
      "Skipping field reference: unsupported OGR type: 13\n"
     ]
    },
    {
     "name": "stdout",
     "output_type": "stream",
     "text": [
      "534706\n",
      "534714\n"
     ]
    },
    {
     "name": "stderr",
     "output_type": "stream",
     "text": [
      "Skipping field informationSystem: unsupported OGR type: 5\n",
      "Skipping field LocalisedCharacterString: unsupported OGR type: 5\n",
      "Skipping field reference: unsupported OGR type: 13\n"
     ]
    },
    {
     "name": "stdout",
     "output_type": "stream",
     "text": [
      "534722\n"
     ]
    },
    {
     "name": "stderr",
     "output_type": "stream",
     "text": [
      "Skipping field informationSystem: unsupported OGR type: 5\n",
      "Skipping field LocalisedCharacterString: unsupported OGR type: 5\n",
      "Skipping field reference: unsupported OGR type: 13\n"
     ]
    },
    {
     "name": "stdout",
     "output_type": "stream",
     "text": [
      "534731\n"
     ]
    },
    {
     "name": "stderr",
     "output_type": "stream",
     "text": [
      "Skipping field informationSystem: unsupported OGR type: 5\n",
      "Skipping field LocalisedCharacterString: unsupported OGR type: 5\n",
      "Skipping field reference: unsupported OGR type: 13\n",
      "Skipping field informationSystem: unsupported OGR type: 5\n",
      "Skipping field LocalisedCharacterString: unsupported OGR type: 5\n",
      "Skipping field reference: unsupported OGR type: 13\n",
      "Skipping field informationSystem: unsupported OGR type: 5\n",
      "Skipping field LocalisedCharacterString: unsupported OGR type: 5\n",
      "Skipping field reference: unsupported OGR type: 13\n"
     ]
    },
    {
     "name": "stdout",
     "output_type": "stream",
     "text": [
      "533050\n",
      "533068\n",
      "533076\n"
     ]
    },
    {
     "name": "stderr",
     "output_type": "stream",
     "text": [
      "Skipping field informationSystem: unsupported OGR type: 5\n",
      "Skipping field LocalisedCharacterString: unsupported OGR type: 5\n",
      "Skipping field reference: unsupported OGR type: 13\n"
     ]
    },
    {
     "name": "stdout",
     "output_type": "stream",
     "text": [
      "533084\n"
     ]
    },
    {
     "name": "stderr",
     "output_type": "stream",
     "text": [
      "Skipping field informationSystem: unsupported OGR type: 5\n",
      "Skipping field LocalisedCharacterString: unsupported OGR type: 5\n",
      "Skipping field reference: unsupported OGR type: 13\n"
     ]
    },
    {
     "name": "stdout",
     "output_type": "stream",
     "text": [
      "533092\n"
     ]
    },
    {
     "name": "stderr",
     "output_type": "stream",
     "text": [
      "Skipping field informationSystem: unsupported OGR type: 5\n",
      "Skipping field LocalisedCharacterString: unsupported OGR type: 5\n",
      "Skipping field reference: unsupported OGR type: 13\n"
     ]
    },
    {
     "name": "stdout",
     "output_type": "stream",
     "text": [
      "533165\n"
     ]
    },
    {
     "name": "stderr",
     "output_type": "stream",
     "text": [
      "Skipping field informationSystem: unsupported OGR type: 5\n",
      "Skipping field LocalisedCharacterString: unsupported OGR type: 5\n",
      "Skipping field reference: unsupported OGR type: 13\n"
     ]
    },
    {
     "name": "stdout",
     "output_type": "stream",
     "text": [
      "533173\n"
     ]
    },
    {
     "name": "stderr",
     "output_type": "stream",
     "text": [
      "Skipping field informationSystem: unsupported OGR type: 5\n",
      "Skipping field LocalisedCharacterString: unsupported OGR type: 5\n",
      "Skipping field reference: unsupported OGR type: 13\n",
      "Skipping field informationSystem: unsupported OGR type: 5\n",
      "Skipping field LocalisedCharacterString: unsupported OGR type: 5\n",
      "Skipping field reference: unsupported OGR type: 13\n",
      "Skipping field informationSystem: unsupported OGR type: 5\n",
      "Skipping field LocalisedCharacterString: unsupported OGR type: 5\n",
      "Skipping field reference: unsupported OGR type: 13\n"
     ]
    },
    {
     "name": "stdout",
     "output_type": "stream",
     "text": [
      "533181\n",
      "533190\n",
      "536253\n"
     ]
    },
    {
     "name": "stderr",
     "output_type": "stream",
     "text": [
      "Skipping field informationSystem: unsupported OGR type: 5\n",
      "Skipping field LocalisedCharacterString: unsupported OGR type: 5\n",
      "Skipping field reference: unsupported OGR type: 13\n",
      "Skipping field informationSystem: unsupported OGR type: 5\n",
      "Skipping field LocalisedCharacterString: unsupported OGR type: 5\n",
      "Skipping field reference: unsupported OGR type: 13\n"
     ]
    },
    {
     "name": "stdout",
     "output_type": "stream",
     "text": [
      "534498\n",
      "535109\n"
     ]
    },
    {
     "name": "stderr",
     "output_type": "stream",
     "text": [
      "Skipping field informationSystem: unsupported OGR type: 5\n",
      "Skipping field LocalisedCharacterString: unsupported OGR type: 5\n",
      "Skipping field reference: unsupported OGR type: 13\n"
     ]
    },
    {
     "name": "stdout",
     "output_type": "stream",
     "text": [
      "535117\n"
     ]
    },
    {
     "name": "stderr",
     "output_type": "stream",
     "text": [
      "Skipping field informationSystem: unsupported OGR type: 5\n",
      "Skipping field LocalisedCharacterString: unsupported OGR type: 5\n",
      "Skipping field reference: unsupported OGR type: 13\n"
     ]
    },
    {
     "name": "stdout",
     "output_type": "stream",
     "text": [
      "535125\n"
     ]
    },
    {
     "name": "stderr",
     "output_type": "stream",
     "text": [
      "Skipping field informationSystem: unsupported OGR type: 5\n",
      "Skipping field LocalisedCharacterString: unsupported OGR type: 5\n",
      "Skipping field reference: unsupported OGR type: 13\n"
     ]
    },
    {
     "name": "stdout",
     "output_type": "stream",
     "text": [
      "535133\n"
     ]
    },
    {
     "name": "stderr",
     "output_type": "stream",
     "text": [
      "Skipping field informationSystem: unsupported OGR type: 5\n",
      "Skipping field LocalisedCharacterString: unsupported OGR type: 5\n",
      "Skipping field reference: unsupported OGR type: 13\n",
      "Skipping field informationSystem: unsupported OGR type: 5\n",
      "Skipping field LocalisedCharacterString: unsupported OGR type: 5\n",
      "Skipping field reference: unsupported OGR type: 13\n"
     ]
    },
    {
     "name": "stdout",
     "output_type": "stream",
     "text": [
      "535141\n",
      "535150\n"
     ]
    },
    {
     "name": "stderr",
     "output_type": "stream",
     "text": [
      "Skipping field informationSystem: unsupported OGR type: 5\n",
      "Skipping field LocalisedCharacterString: unsupported OGR type: 5\n",
      "Skipping field reference: unsupported OGR type: 13\n",
      "Skipping field informationSystem: unsupported OGR type: 5\n",
      "Skipping field LocalisedCharacterString: unsupported OGR type: 5\n",
      "Skipping field reference: unsupported OGR type: 13\n"
     ]
    },
    {
     "name": "stdout",
     "output_type": "stream",
     "text": [
      "533246\n",
      "550370\n"
     ]
    },
    {
     "name": "stderr",
     "output_type": "stream",
     "text": [
      "Skipping field informationSystem: unsupported OGR type: 5\n",
      "Skipping field LocalisedCharacterString: unsupported OGR type: 5\n",
      "Skipping field reference: unsupported OGR type: 13\n"
     ]
    },
    {
     "name": "stdout",
     "output_type": "stream",
     "text": [
      "533254\n"
     ]
    },
    {
     "name": "stderr",
     "output_type": "stream",
     "text": [
      "Skipping field informationSystem: unsupported OGR type: 5\n",
      "Skipping field LocalisedCharacterString: unsupported OGR type: 5\n",
      "Skipping field reference: unsupported OGR type: 13\n"
     ]
    },
    {
     "name": "stdout",
     "output_type": "stream",
     "text": [
      "533262\n"
     ]
    },
    {
     "name": "stderr",
     "output_type": "stream",
     "text": [
      "Skipping field informationSystem: unsupported OGR type: 5\n",
      "Skipping field LocalisedCharacterString: unsupported OGR type: 5\n",
      "Skipping field reference: unsupported OGR type: 13\n",
      "Skipping field informationSystem: unsupported OGR type: 5\n",
      "Skipping field LocalisedCharacterString: unsupported OGR type: 5\n",
      "Skipping field reference: unsupported OGR type: 13\n",
      "Skipping field informationSystem: unsupported OGR type: 5\n",
      "Skipping field LocalisedCharacterString: unsupported OGR type: 5\n",
      "Skipping field reference: unsupported OGR type: 13\n",
      "Skipping field informationSystem: unsupported OGR type: 5\n",
      "Skipping field LocalisedCharacterString: unsupported OGR type: 5\n",
      "Skipping field reference: unsupported OGR type: 13\n"
     ]
    },
    {
     "name": "stdout",
     "output_type": "stream",
     "text": [
      "533271\n",
      "532410\n",
      "532428\n",
      "532436\n"
     ]
    },
    {
     "name": "stderr",
     "output_type": "stream",
     "text": [
      "Skipping field informationSystem: unsupported OGR type: 5\n",
      "Skipping field LocalisedCharacterString: unsupported OGR type: 5\n",
      "Skipping field reference: unsupported OGR type: 13\n"
     ]
    },
    {
     "name": "stdout",
     "output_type": "stream",
     "text": [
      "544973\n"
     ]
    },
    {
     "name": "stderr",
     "output_type": "stream",
     "text": [
      "Skipping field informationSystem: unsupported OGR type: 5\n",
      "Skipping field LocalisedCharacterString: unsupported OGR type: 5\n",
      "Skipping field reference: unsupported OGR type: 13\n"
     ]
    },
    {
     "name": "stdout",
     "output_type": "stream",
     "text": [
      "544981\n"
     ]
    },
    {
     "name": "stderr",
     "output_type": "stream",
     "text": [
      "Skipping field informationSystem: unsupported OGR type: 5\n",
      "Skipping field LocalisedCharacterString: unsupported OGR type: 5\n",
      "Skipping field reference: unsupported OGR type: 13\n"
     ]
    },
    {
     "name": "stdout",
     "output_type": "stream",
     "text": [
      "544990\n"
     ]
    },
    {
     "name": "stderr",
     "output_type": "stream",
     "text": [
      "Skipping field informationSystem: unsupported OGR type: 5\n",
      "Skipping field LocalisedCharacterString: unsupported OGR type: 5\n",
      "Skipping field reference: unsupported OGR type: 13\n",
      "Skipping field informationSystem: unsupported OGR type: 5\n",
      "Skipping field LocalisedCharacterString: unsupported OGR type: 5\n",
      "Skipping field reference: unsupported OGR type: 13\n"
     ]
    },
    {
     "name": "stdout",
     "output_type": "stream",
     "text": [
      "545007\n",
      "545015\n"
     ]
    },
    {
     "name": "stderr",
     "output_type": "stream",
     "text": [
      "Skipping field informationSystem: unsupported OGR type: 5\n",
      "Skipping field LocalisedCharacterString: unsupported OGR type: 5\n",
      "Skipping field reference: unsupported OGR type: 13\n",
      "Skipping field informationSystem: unsupported OGR type: 5\n",
      "Skipping field LocalisedCharacterString: unsupported OGR type: 5\n",
      "Skipping field reference: unsupported OGR type: 13\n",
      "Skipping field informationSystem: unsupported OGR type: 5\n",
      "Skipping field LocalisedCharacterString: unsupported OGR type: 5\n",
      "Skipping field reference: unsupported OGR type: 13\n"
     ]
    },
    {
     "name": "stdout",
     "output_type": "stream",
     "text": [
      "545023\n",
      "545031\n",
      "545040\n"
     ]
    },
    {
     "name": "stderr",
     "output_type": "stream",
     "text": [
      "Skipping field informationSystem: unsupported OGR type: 5\n",
      "Skipping field LocalisedCharacterString: unsupported OGR type: 5\n",
      "Skipping field reference: unsupported OGR type: 13\n"
     ]
    },
    {
     "name": "stdout",
     "output_type": "stream",
     "text": [
      "545058\n"
     ]
    },
    {
     "name": "stderr",
     "output_type": "stream",
     "text": [
      "Skipping field informationSystem: unsupported OGR type: 5\n",
      "Skipping field LocalisedCharacterString: unsupported OGR type: 5\n",
      "Skipping field reference: unsupported OGR type: 13\n"
     ]
    },
    {
     "name": "stdout",
     "output_type": "stream",
     "text": [
      "534501\n"
     ]
    },
    {
     "name": "stderr",
     "output_type": "stream",
     "text": [
      "Skipping field informationSystem: unsupported OGR type: 5\n",
      "Skipping field LocalisedCharacterString: unsupported OGR type: 5\n",
      "Skipping field reference: unsupported OGR type: 13\n",
      "Skipping field informationSystem: unsupported OGR type: 5\n",
      "Skipping field LocalisedCharacterString: unsupported OGR type: 5\n",
      "Skipping field reference: unsupported OGR type: 13\n",
      "Skipping field informationSystem: unsupported OGR type: 5\n",
      "Skipping field LocalisedCharacterString: unsupported OGR type: 5\n",
      "Skipping field reference: unsupported OGR type: 13\n"
     ]
    },
    {
     "name": "stdout",
     "output_type": "stream",
     "text": [
      "534510\n",
      "534528\n",
      "534536\n"
     ]
    },
    {
     "name": "stderr",
     "output_type": "stream",
     "text": [
      "Skipping field informationSystem: unsupported OGR type: 5\n",
      "Skipping field LocalisedCharacterString: unsupported OGR type: 5\n",
      "Skipping field reference: unsupported OGR type: 13\n",
      "Skipping field informationSystem: unsupported OGR type: 5\n",
      "Skipping field LocalisedCharacterString: unsupported OGR type: 5\n",
      "Skipping field reference: unsupported OGR type: 13\n"
     ]
    },
    {
     "name": "stdout",
     "output_type": "stream",
     "text": [
      "534544\n",
      "534552\n"
     ]
    },
    {
     "name": "stderr",
     "output_type": "stream",
     "text": [
      "Skipping field informationSystem: unsupported OGR type: 5\n",
      "Skipping field LocalisedCharacterString: unsupported OGR type: 5\n",
      "Skipping field reference: unsupported OGR type: 13\n"
     ]
    },
    {
     "name": "stdout",
     "output_type": "stream",
     "text": [
      "534561\n"
     ]
    },
    {
     "name": "stderr",
     "output_type": "stream",
     "text": [
      "Skipping field informationSystem: unsupported OGR type: 5\n",
      "Skipping field LocalisedCharacterString: unsupported OGR type: 5\n",
      "Skipping field reference: unsupported OGR type: 13\n"
     ]
    },
    {
     "name": "stdout",
     "output_type": "stream",
     "text": [
      "534579\n"
     ]
    },
    {
     "name": "stderr",
     "output_type": "stream",
     "text": [
      "Skipping field informationSystem: unsupported OGR type: 5\n",
      "Skipping field LocalisedCharacterString: unsupported OGR type: 5\n",
      "Skipping field reference: unsupported OGR type: 13\n"
     ]
    },
    {
     "name": "stdout",
     "output_type": "stream",
     "text": [
      "535656\n"
     ]
    },
    {
     "name": "stderr",
     "output_type": "stream",
     "text": [
      "Skipping field informationSystem: unsupported OGR type: 5\n",
      "Skipping field LocalisedCharacterString: unsupported OGR type: 5\n",
      "Skipping field reference: unsupported OGR type: 13\n"
     ]
    },
    {
     "name": "stdout",
     "output_type": "stream",
     "text": [
      "535664\n"
     ]
    },
    {
     "name": "stderr",
     "output_type": "stream",
     "text": [
      "Skipping field informationSystem: unsupported OGR type: 5\n",
      "Skipping field LocalisedCharacterString: unsupported OGR type: 5\n",
      "Skipping field reference: unsupported OGR type: 13\n",
      "Skipping field informationSystem: unsupported OGR type: 5\n",
      "Skipping field LocalisedCharacterString: unsupported OGR type: 5\n",
      "Skipping field reference: unsupported OGR type: 13\n"
     ]
    },
    {
     "name": "stdout",
     "output_type": "stream",
     "text": [
      "535672\n",
      "535681\n"
     ]
    },
    {
     "name": "stderr",
     "output_type": "stream",
     "text": [
      "Skipping field informationSystem: unsupported OGR type: 5\n",
      "Skipping field LocalisedCharacterString: unsupported OGR type: 5\n",
      "Skipping field reference: unsupported OGR type: 13\n"
     ]
    },
    {
     "name": "stdout",
     "output_type": "stream",
     "text": [
      "535699\n"
     ]
    },
    {
     "name": "stderr",
     "output_type": "stream",
     "text": [
      "Skipping field informationSystem: unsupported OGR type: 5\n",
      "Skipping field LocalisedCharacterString: unsupported OGR type: 5\n",
      "Skipping field reference: unsupported OGR type: 13\n",
      "Skipping field informationSystem: unsupported OGR type: 5\n",
      "Skipping field LocalisedCharacterString: unsupported OGR type: 5\n",
      "Skipping field reference: unsupported OGR type: 13\n"
     ]
    },
    {
     "name": "stdout",
     "output_type": "stream",
     "text": [
      "535702\n",
      "535711\n"
     ]
    },
    {
     "name": "stderr",
     "output_type": "stream",
     "text": [
      "Skipping field informationSystem: unsupported OGR type: 5\n",
      "Skipping field LocalisedCharacterString: unsupported OGR type: 5\n",
      "Skipping field reference: unsupported OGR type: 13\n"
     ]
    },
    {
     "name": "stdout",
     "output_type": "stream",
     "text": [
      "532444\n"
     ]
    },
    {
     "name": "stderr",
     "output_type": "stream",
     "text": [
      "Skipping field informationSystem: unsupported OGR type: 5\n",
      "Skipping field LocalisedCharacterString: unsupported OGR type: 5\n",
      "Skipping field reference: unsupported OGR type: 13\n"
     ]
    },
    {
     "name": "stdout",
     "output_type": "stream",
     "text": [
      "530107\n"
     ]
    },
    {
     "name": "stderr",
     "output_type": "stream",
     "text": [
      "Skipping field informationSystem: unsupported OGR type: 5\n",
      "Skipping field LocalisedCharacterString: unsupported OGR type: 5\n",
      "Skipping field reference: unsupported OGR type: 13\n"
     ]
    },
    {
     "name": "stdout",
     "output_type": "stream",
     "text": [
      "532720\n"
     ]
    },
    {
     "name": "stderr",
     "output_type": "stream",
     "text": [
      "Skipping field informationSystem: unsupported OGR type: 5\n",
      "Skipping field LocalisedCharacterString: unsupported OGR type: 5\n",
      "Skipping field reference: unsupported OGR type: 13\n",
      "Skipping field informationSystem: unsupported OGR type: 5\n",
      "Skipping field LocalisedCharacterString: unsupported OGR type: 5\n",
      "Skipping field reference: unsupported OGR type: 13\n",
      "Skipping field informationSystem: unsupported OGR type: 5\n",
      "Skipping field LocalisedCharacterString: unsupported OGR type: 5\n",
      "Skipping field reference: unsupported OGR type: 13\n"
     ]
    },
    {
     "name": "stdout",
     "output_type": "stream",
     "text": [
      "532738\n",
      "532746\n",
      "544710\n"
     ]
    },
    {
     "name": "stderr",
     "output_type": "stream",
     "text": [
      "Skipping field informationSystem: unsupported OGR type: 5\n",
      "Skipping field LocalisedCharacterString: unsupported OGR type: 5\n",
      "Skipping field reference: unsupported OGR type: 13\n"
     ]
    },
    {
     "name": "stdout",
     "output_type": "stream",
     "text": [
      "544728\n"
     ]
    },
    {
     "name": "stderr",
     "output_type": "stream",
     "text": [
      "Skipping field informationSystem: unsupported OGR type: 5\n",
      "Skipping field LocalisedCharacterString: unsupported OGR type: 5\n",
      "Skipping field reference: unsupported OGR type: 13\n",
      "Skipping field informationSystem: unsupported OGR type: 5\n",
      "Skipping field LocalisedCharacterString: unsupported OGR type: 5\n",
      "Skipping field reference: unsupported OGR type: 13\n"
     ]
    },
    {
     "name": "stdout",
     "output_type": "stream",
     "text": [
      "544736\n",
      "544744\n"
     ]
    },
    {
     "name": "stderr",
     "output_type": "stream",
     "text": [
      "Skipping field informationSystem: unsupported OGR type: 5\n",
      "Skipping field LocalisedCharacterString: unsupported OGR type: 5\n",
      "Skipping field reference: unsupported OGR type: 13\n",
      "Skipping field informationSystem: unsupported OGR type: 5\n",
      "Skipping field LocalisedCharacterString: unsupported OGR type: 5\n",
      "Skipping field reference: unsupported OGR type: 13\n"
     ]
    },
    {
     "name": "stdout",
     "output_type": "stream",
     "text": [
      "544752\n",
      "544761\n"
     ]
    },
    {
     "name": "stderr",
     "output_type": "stream",
     "text": [
      "Skipping field informationSystem: unsupported OGR type: 5\n",
      "Skipping field LocalisedCharacterString: unsupported OGR type: 5\n",
      "Skipping field reference: unsupported OGR type: 13\n",
      "Skipping field informationSystem: unsupported OGR type: 5\n",
      "Skipping field LocalisedCharacterString: unsupported OGR type: 5\n",
      "Skipping field reference: unsupported OGR type: 13\n"
     ]
    },
    {
     "name": "stdout",
     "output_type": "stream",
     "text": [
      "544779\n",
      "544787\n"
     ]
    },
    {
     "name": "stderr",
     "output_type": "stream",
     "text": [
      "Skipping field informationSystem: unsupported OGR type: 5\n",
      "Skipping field LocalisedCharacterString: unsupported OGR type: 5\n",
      "Skipping field reference: unsupported OGR type: 13\n"
     ]
    },
    {
     "name": "stdout",
     "output_type": "stream",
     "text": [
      "544795\n"
     ]
    },
    {
     "name": "stderr",
     "output_type": "stream",
     "text": [
      "Skipping field informationSystem: unsupported OGR type: 5\n",
      "Skipping field LocalisedCharacterString: unsupported OGR type: 5\n",
      "Skipping field reference: unsupported OGR type: 13\n"
     ]
    },
    {
     "name": "stdout",
     "output_type": "stream",
     "text": [
      "544809\n"
     ]
    },
    {
     "name": "stderr",
     "output_type": "stream",
     "text": [
      "Skipping field informationSystem: unsupported OGR type: 5\n",
      "Skipping field LocalisedCharacterString: unsupported OGR type: 5\n",
      "Skipping field reference: unsupported OGR type: 13\n",
      "Skipping field informationSystem: unsupported OGR type: 5\n",
      "Skipping field LocalisedCharacterString: unsupported OGR type: 5\n",
      "Skipping field reference: unsupported OGR type: 13\n",
      "Skipping field informationSystem: unsupported OGR type: 5\n",
      "Skipping field LocalisedCharacterString: unsupported OGR type: 5\n",
      "Skipping field reference: unsupported OGR type: 13\n"
     ]
    },
    {
     "name": "stdout",
     "output_type": "stream",
     "text": [
      "544817\n",
      "544825\n",
      "544833\n"
     ]
    },
    {
     "name": "stderr",
     "output_type": "stream",
     "text": [
      "Skipping field informationSystem: unsupported OGR type: 5\n",
      "Skipping field LocalisedCharacterString: unsupported OGR type: 5\n",
      "Skipping field reference: unsupported OGR type: 13\n"
     ]
    },
    {
     "name": "stdout",
     "output_type": "stream",
     "text": [
      "535044\n"
     ]
    },
    {
     "name": "stderr",
     "output_type": "stream",
     "text": [
      "Skipping field informationSystem: unsupported OGR type: 5\n",
      "Skipping field LocalisedCharacterString: unsupported OGR type: 5\n",
      "Skipping field reference: unsupported OGR type: 13\n"
     ]
    },
    {
     "name": "stdout",
     "output_type": "stream",
     "text": [
      "539422\n"
     ]
    },
    {
     "name": "stderr",
     "output_type": "stream",
     "text": [
      "Skipping field informationSystem: unsupported OGR type: 5\n",
      "Skipping field LocalisedCharacterString: unsupported OGR type: 5\n",
      "Skipping field reference: unsupported OGR type: 13\n",
      "Skipping field informationSystem: unsupported OGR type: 5\n",
      "Skipping field LocalisedCharacterString: unsupported OGR type: 5\n",
      "Skipping field reference: unsupported OGR type: 13\n"
     ]
    },
    {
     "name": "stdout",
     "output_type": "stream",
     "text": [
      "535061\n",
      "536261\n"
     ]
    },
    {
     "name": "stderr",
     "output_type": "stream",
     "text": [
      "Skipping field informationSystem: unsupported OGR type: 5\n",
      "Skipping field LocalisedCharacterString: unsupported OGR type: 5\n",
      "Skipping field reference: unsupported OGR type: 13\n",
      "Skipping field informationSystem: unsupported OGR type: 5\n",
      "Skipping field LocalisedCharacterString: unsupported OGR type: 5\n",
      "Skipping field reference: unsupported OGR type: 13\n",
      "Skipping field informationSystem: unsupported OGR type: 5\n",
      "Skipping field LocalisedCharacterString: unsupported OGR type: 5\n",
      "Skipping field reference: unsupported OGR type: 13\n"
     ]
    },
    {
     "name": "stdout",
     "output_type": "stream",
     "text": [
      "534749\n",
      "534757\n",
      "532754\n"
     ]
    },
    {
     "name": "stderr",
     "output_type": "stream",
     "text": [
      "Skipping field informationSystem: unsupported OGR type: 5\n",
      "Skipping field LocalisedCharacterString: unsupported OGR type: 5\n",
      "Skipping field reference: unsupported OGR type: 13\n",
      "Skipping field informationSystem: unsupported OGR type: 5\n",
      "Skipping field LocalisedCharacterString: unsupported OGR type: 5\n",
      "Skipping field reference: unsupported OGR type: 13\n"
     ]
    },
    {
     "name": "stdout",
     "output_type": "stream",
     "text": [
      "532762\n",
      "532771\n"
     ]
    },
    {
     "name": "stderr",
     "output_type": "stream",
     "text": [
      "Skipping field informationSystem: unsupported OGR type: 5\n",
      "Skipping field LocalisedCharacterString: unsupported OGR type: 5\n",
      "Skipping field reference: unsupported OGR type: 13\n",
      "Skipping field informationSystem: unsupported OGR type: 5\n",
      "Skipping field LocalisedCharacterString: unsupported OGR type: 5\n",
      "Skipping field reference: unsupported OGR type: 13\n",
      "Skipping field informationSystem: unsupported OGR type: 5\n",
      "Skipping field LocalisedCharacterString: unsupported OGR type: 5\n",
      "Skipping field reference: unsupported OGR type: 13\n"
     ]
    },
    {
     "name": "stdout",
     "output_type": "stream",
     "text": [
      "532789\n",
      "532797\n",
      "532801\n"
     ]
    },
    {
     "name": "stderr",
     "output_type": "stream",
     "text": [
      "Skipping field informationSystem: unsupported OGR type: 5\n",
      "Skipping field LocalisedCharacterString: unsupported OGR type: 5\n",
      "Skipping field reference: unsupported OGR type: 13\n",
      "Skipping field informationSystem: unsupported OGR type: 5\n",
      "Skipping field LocalisedCharacterString: unsupported OGR type: 5\n",
      "Skipping field reference: unsupported OGR type: 13\n"
     ]
    },
    {
     "name": "stdout",
     "output_type": "stream",
     "text": [
      "532819\n",
      "532827\n"
     ]
    },
    {
     "name": "stderr",
     "output_type": "stream",
     "text": [
      "Skipping field informationSystem: unsupported OGR type: 5\n",
      "Skipping field LocalisedCharacterString: unsupported OGR type: 5\n",
      "Skipping field reference: unsupported OGR type: 13\n"
     ]
    },
    {
     "name": "stdout",
     "output_type": "stream",
     "text": [
      "532835\n"
     ]
    },
    {
     "name": "stderr",
     "output_type": "stream",
     "text": [
      "Skipping field informationSystem: unsupported OGR type: 5\n",
      "Skipping field LocalisedCharacterString: unsupported OGR type: 5\n",
      "Skipping field reference: unsupported OGR type: 13\n"
     ]
    },
    {
     "name": "stdout",
     "output_type": "stream",
     "text": [
      "533106\n"
     ]
    },
    {
     "name": "stderr",
     "output_type": "stream",
     "text": [
      "Skipping field informationSystem: unsupported OGR type: 5\n",
      "Skipping field LocalisedCharacterString: unsupported OGR type: 5\n",
      "Skipping field reference: unsupported OGR type: 13\n"
     ]
    },
    {
     "name": "stdout",
     "output_type": "stream",
     "text": [
      "533114\n"
     ]
    },
    {
     "name": "stderr",
     "output_type": "stream",
     "text": [
      "Skipping field informationSystem: unsupported OGR type: 5\n",
      "Skipping field LocalisedCharacterString: unsupported OGR type: 5\n",
      "Skipping field reference: unsupported OGR type: 13\n",
      "Skipping field informationSystem: unsupported OGR type: 5\n",
      "Skipping field LocalisedCharacterString: unsupported OGR type: 5\n",
      "Skipping field reference: unsupported OGR type: 13\n",
      "Skipping field informationSystem: unsupported OGR type: 5\n",
      "Skipping field LocalisedCharacterString: unsupported OGR type: 5\n",
      "Skipping field reference: unsupported OGR type: 13\n"
     ]
    },
    {
     "name": "stdout",
     "output_type": "stream",
     "text": [
      "533122\n",
      "533319\n",
      "533327\n"
     ]
    },
    {
     "name": "stderr",
     "output_type": "stream",
     "text": [
      "Skipping field informationSystem: unsupported OGR type: 5\n",
      "Skipping field LocalisedCharacterString: unsupported OGR type: 5\n",
      "Skipping field reference: unsupported OGR type: 13\n",
      "Skipping field informationSystem: unsupported OGR type: 5\n",
      "Skipping field LocalisedCharacterString: unsupported OGR type: 5\n",
      "Skipping field reference: unsupported OGR type: 13\n",
      "Skipping field informationSystem: unsupported OGR type: 5\n",
      "Skipping field LocalisedCharacterString: unsupported OGR type: 5\n",
      "Skipping field reference: unsupported OGR type: 13\n"
     ]
    },
    {
     "name": "stdout",
     "output_type": "stream",
     "text": [
      "533335\n",
      "532479\n",
      "532487\n"
     ]
    },
    {
     "name": "stderr",
     "output_type": "stream",
     "text": [
      "Skipping field informationSystem: unsupported OGR type: 5\n",
      "Skipping field LocalisedCharacterString: unsupported OGR type: 5\n",
      "Skipping field reference: unsupported OGR type: 13\n",
      "Skipping field informationSystem: unsupported OGR type: 5\n",
      "Skipping field LocalisedCharacterString: unsupported OGR type: 5\n",
      "Skipping field reference: unsupported OGR type: 13\n"
     ]
    },
    {
     "name": "stdout",
     "output_type": "stream",
     "text": [
      "535494\n",
      "535508\n"
     ]
    },
    {
     "name": "stderr",
     "output_type": "stream",
     "text": [
      "Skipping field informationSystem: unsupported OGR type: 5\n",
      "Skipping field LocalisedCharacterString: unsupported OGR type: 5\n",
      "Skipping field reference: unsupported OGR type: 13\n"
     ]
    },
    {
     "name": "stdout",
     "output_type": "stream",
     "text": [
      "535516\n"
     ]
    },
    {
     "name": "stderr",
     "output_type": "stream",
     "text": [
      "Skipping field informationSystem: unsupported OGR type: 5\n",
      "Skipping field LocalisedCharacterString: unsupported OGR type: 5\n",
      "Skipping field reference: unsupported OGR type: 13\n"
     ]
    },
    {
     "name": "stdout",
     "output_type": "stream",
     "text": [
      "535524\n"
     ]
    },
    {
     "name": "stderr",
     "output_type": "stream",
     "text": [
      "Skipping field informationSystem: unsupported OGR type: 5\n",
      "Skipping field LocalisedCharacterString: unsupported OGR type: 5\n",
      "Skipping field reference: unsupported OGR type: 13\n"
     ]
    },
    {
     "name": "stdout",
     "output_type": "stream",
     "text": [
      "534765\n"
     ]
    },
    {
     "name": "stderr",
     "output_type": "stream",
     "text": [
      "Skipping field informationSystem: unsupported OGR type: 5\n",
      "Skipping field LocalisedCharacterString: unsupported OGR type: 5\n",
      "Skipping field reference: unsupported OGR type: 13\n"
     ]
    },
    {
     "name": "stdout",
     "output_type": "stream",
     "text": [
      "534773\n"
     ]
    },
    {
     "name": "stderr",
     "output_type": "stream",
     "text": [
      "Skipping field informationSystem: unsupported OGR type: 5\n",
      "Skipping field LocalisedCharacterString: unsupported OGR type: 5\n",
      "Skipping field reference: unsupported OGR type: 13\n"
     ]
    },
    {
     "name": "stdout",
     "output_type": "stream",
     "text": [
      "534781\n"
     ]
    },
    {
     "name": "stderr",
     "output_type": "stream",
     "text": [
      "Skipping field informationSystem: unsupported OGR type: 5\n",
      "Skipping field LocalisedCharacterString: unsupported OGR type: 5\n",
      "Skipping field reference: unsupported OGR type: 13\n",
      "Skipping field informationSystem: unsupported OGR type: 5\n",
      "Skipping field LocalisedCharacterString: unsupported OGR type: 5\n",
      "Skipping field reference: unsupported OGR type: 13\n"
     ]
    },
    {
     "name": "stdout",
     "output_type": "stream",
     "text": [
      "534790\n",
      "535168\n"
     ]
    },
    {
     "name": "stderr",
     "output_type": "stream",
     "text": [
      "Skipping field informationSystem: unsupported OGR type: 5\n",
      "Skipping field LocalisedCharacterString: unsupported OGR type: 5\n",
      "Skipping field reference: unsupported OGR type: 13\n",
      "Skipping field informationSystem: unsupported OGR type: 5\n",
      "Skipping field LocalisedCharacterString: unsupported OGR type: 5\n",
      "Skipping field reference: unsupported OGR type: 13\n",
      "Skipping field informationSystem: unsupported OGR type: 5\n",
      "Skipping field LocalisedCharacterString: unsupported OGR type: 5\n",
      "Skipping field reference: unsupported OGR type: 13\n"
     ]
    },
    {
     "name": "stdout",
     "output_type": "stream",
     "text": [
      "535176\n",
      "535192\n"
     ]
    },
    {
     "name": "stderr",
     "output_type": "stream",
     "text": [
      "Skipping field informationSystem: unsupported OGR type: 5\n",
      "Skipping field LocalisedCharacterString: unsupported OGR type: 5\n",
      "Skipping field reference: unsupported OGR type: 13\n"
     ]
    },
    {
     "name": "stdout",
     "output_type": "stream",
     "text": [
      "533149\n",
      "533157\n"
     ]
    },
    {
     "name": "stderr",
     "output_type": "stream",
     "text": [
      "Skipping field informationSystem: unsupported OGR type: 5\n",
      "Skipping field LocalisedCharacterString: unsupported OGR type: 5\n",
      "Skipping field reference: unsupported OGR type: 13\n"
     ]
    },
    {
     "name": "stdout",
     "output_type": "stream",
     "text": [
      "545066\n"
     ]
    },
    {
     "name": "stderr",
     "output_type": "stream",
     "text": [
      "Skipping field informationSystem: unsupported OGR type: 5\n",
      "Skipping field LocalisedCharacterString: unsupported OGR type: 5\n",
      "Skipping field reference: unsupported OGR type: 13\n"
     ]
    },
    {
     "name": "stdout",
     "output_type": "stream",
     "text": [
      "545074\n"
     ]
    },
    {
     "name": "stderr",
     "output_type": "stream",
     "text": [
      "Skipping field informationSystem: unsupported OGR type: 5\n",
      "Skipping field LocalisedCharacterString: unsupported OGR type: 5\n",
      "Skipping field reference: unsupported OGR type: 13\n",
      "Skipping field informationSystem: unsupported OGR type: 5\n",
      "Skipping field LocalisedCharacterString: unsupported OGR type: 5\n",
      "Skipping field reference: unsupported OGR type: 13\n"
     ]
    },
    {
     "name": "stdout",
     "output_type": "stream",
     "text": [
      "545082\n",
      "545091\n"
     ]
    },
    {
     "name": "stderr",
     "output_type": "stream",
     "text": [
      "Skipping field informationSystem: unsupported OGR type: 5\n",
      "Skipping field LocalisedCharacterString: unsupported OGR type: 5\n",
      "Skipping field reference: unsupported OGR type: 13\n",
      "Skipping field informationSystem: unsupported OGR type: 5\n",
      "Skipping field LocalisedCharacterString: unsupported OGR type: 5\n",
      "Skipping field reference: unsupported OGR type: 13\n",
      "Skipping field informationSystem: unsupported OGR type: 5\n",
      "Skipping field LocalisedCharacterString: unsupported OGR type: 5\n",
      "Skipping field reference: unsupported OGR type: 13\n"
     ]
    },
    {
     "name": "stdout",
     "output_type": "stream",
     "text": [
      "535966\n",
      "535974\n",
      "535982\n"
     ]
    },
    {
     "name": "stderr",
     "output_type": "stream",
     "text": [
      "Skipping field informationSystem: unsupported OGR type: 5\n",
      "Skipping field LocalisedCharacterString: unsupported OGR type: 5\n",
      "Skipping field reference: unsupported OGR type: 13\n",
      "Skipping field informationSystem: unsupported OGR type: 5\n",
      "Skipping field LocalisedCharacterString: unsupported OGR type: 5\n",
      "Skipping field reference: unsupported OGR type: 13\n",
      "Skipping field informationSystem: unsupported OGR type: 5\n",
      "Skipping field LocalisedCharacterString: unsupported OGR type: 5\n",
      "Skipping field reference: unsupported OGR type: 13\n"
     ]
    },
    {
     "name": "stdout",
     "output_type": "stream",
     "text": [
      "535991\n",
      "536008\n"
     ]
    },
    {
     "name": "stderr",
     "output_type": "stream",
     "text": [
      "Skipping field informationSystem: unsupported OGR type: 5\n",
      "Skipping field LocalisedCharacterString: unsupported OGR type: 5\n",
      "Skipping field reference: unsupported OGR type: 13\n"
     ]
    },
    {
     "name": "stdout",
     "output_type": "stream",
     "text": [
      "536016\n",
      "536032\n"
     ]
    },
    {
     "name": "stderr",
     "output_type": "stream",
     "text": [
      "Skipping field informationSystem: unsupported OGR type: 5\n",
      "Skipping field LocalisedCharacterString: unsupported OGR type: 5\n",
      "Skipping field reference: unsupported OGR type: 13\n",
      "Skipping field informationSystem: unsupported OGR type: 5\n",
      "Skipping field LocalisedCharacterString: unsupported OGR type: 5\n",
      "Skipping field reference: unsupported OGR type: 13\n"
     ]
    },
    {
     "name": "stdout",
     "output_type": "stream",
     "text": [
      "535206\n",
      "535729\n"
     ]
    },
    {
     "name": "stderr",
     "output_type": "stream",
     "text": [
      "Skipping field informationSystem: unsupported OGR type: 5\n",
      "Skipping field LocalisedCharacterString: unsupported OGR type: 5\n",
      "Skipping field reference: unsupported OGR type: 13\n"
     ]
    },
    {
     "name": "stdout",
     "output_type": "stream",
     "text": [
      "533289\n"
     ]
    },
    {
     "name": "stderr",
     "output_type": "stream",
     "text": [
      "Skipping field informationSystem: unsupported OGR type: 5\n",
      "Skipping field LocalisedCharacterString: unsupported OGR type: 5\n",
      "Skipping field reference: unsupported OGR type: 13\n"
     ]
    },
    {
     "name": "stdout",
     "output_type": "stream",
     "text": [
      "533297\n"
     ]
    },
    {
     "name": "stderr",
     "output_type": "stream",
     "text": [
      "Skipping field informationSystem: unsupported OGR type: 5\n",
      "Skipping field LocalisedCharacterString: unsupported OGR type: 5\n",
      "Skipping field reference: unsupported OGR type: 13\n",
      "Skipping field informationSystem: unsupported OGR type: 5\n",
      "Skipping field LocalisedCharacterString: unsupported OGR type: 5\n",
      "Skipping field reference: unsupported OGR type: 13\n"
     ]
    },
    {
     "name": "stdout",
     "output_type": "stream",
     "text": [
      "533301\n"
     ]
    },
    {
     "name": "stderr",
     "output_type": "stream",
     "text": [
      "Skipping field informationSystem: unsupported OGR type: 5\n",
      "Skipping field LocalisedCharacterString: unsupported OGR type: 5\n",
      "Skipping field reference: unsupported OGR type: 13\n",
      "Skipping field informationSystem: unsupported OGR type: 5\n",
      "Skipping field LocalisedCharacterString: unsupported OGR type: 5\n",
      "Skipping field reference: unsupported OGR type: 13\n"
     ]
    },
    {
     "name": "stdout",
     "output_type": "stream",
     "text": [
      "544949\n",
      "544957\n",
      "544965\n"
     ]
    },
    {
     "name": "stderr",
     "output_type": "stream",
     "text": [
      "Skipping field informationSystem: unsupported OGR type: 5\n",
      "Skipping field LocalisedCharacterString: unsupported OGR type: 5\n",
      "Skipping field reference: unsupported OGR type: 13\n",
      "Skipping field informationSystem: unsupported OGR type: 5\n",
      "Skipping field LocalisedCharacterString: unsupported OGR type: 5\n",
      "Skipping field reference: unsupported OGR type: 13\n"
     ]
    },
    {
     "name": "stdout",
     "output_type": "stream",
     "text": [
      "534587\n",
      "534595\n"
     ]
    },
    {
     "name": "stderr",
     "output_type": "stream",
     "text": [
      "Skipping field informationSystem: unsupported OGR type: 5\n",
      "Skipping field LocalisedCharacterString: unsupported OGR type: 5\n",
      "Skipping field reference: unsupported OGR type: 13\n"
     ]
    },
    {
     "name": "stdout",
     "output_type": "stream",
     "text": [
      "534609\n"
     ]
    },
    {
     "name": "stderr",
     "output_type": "stream",
     "text": [
      "Skipping field informationSystem: unsupported OGR type: 5\n",
      "Skipping field LocalisedCharacterString: unsupported OGR type: 5\n",
      "Skipping field reference: unsupported OGR type: 13\n"
     ]
    },
    {
     "name": "stdout",
     "output_type": "stream",
     "text": [
      "534617\n"
     ]
    },
    {
     "name": "stderr",
     "output_type": "stream",
     "text": [
      "Skipping field informationSystem: unsupported OGR type: 5\n",
      "Skipping field LocalisedCharacterString: unsupported OGR type: 5\n",
      "Skipping field reference: unsupported OGR type: 13\n"
     ]
    },
    {
     "name": "stdout",
     "output_type": "stream",
     "text": [
      "534625\n"
     ]
    },
    {
     "name": "stderr",
     "output_type": "stream",
     "text": [
      "Skipping field informationSystem: unsupported OGR type: 5\n",
      "Skipping field LocalisedCharacterString: unsupported OGR type: 5\n",
      "Skipping field reference: unsupported OGR type: 13\n",
      "Skipping field informationSystem: unsupported OGR type: 5\n",
      "Skipping field LocalisedCharacterString: unsupported OGR type: 5\n",
      "Skipping field reference: unsupported OGR type: 13\n",
      "Skipping field informationSystem: unsupported OGR type: 5\n",
      "Skipping field LocalisedCharacterString: unsupported OGR type: 5\n",
      "Skipping field reference: unsupported OGR type: 13\n"
     ]
    },
    {
     "name": "stdout",
     "output_type": "stream",
     "text": [
      "534633\n",
      "534641\n",
      "534650\n"
     ]
    },
    {
     "name": "stderr",
     "output_type": "stream",
     "text": [
      "Skipping field informationSystem: unsupported OGR type: 5\n",
      "Skipping field LocalisedCharacterString: unsupported OGR type: 5\n",
      "Skipping field reference: unsupported OGR type: 13\n"
     ]
    },
    {
     "name": "stdout",
     "output_type": "stream",
     "text": [
      "534668\n"
     ]
    },
    {
     "name": "stderr",
     "output_type": "stream",
     "text": [
      "Skipping field informationSystem: unsupported OGR type: 5\n",
      "Skipping field LocalisedCharacterString: unsupported OGR type: 5\n",
      "Skipping field reference: unsupported OGR type: 13\n"
     ]
    },
    {
     "name": "stdout",
     "output_type": "stream",
     "text": [
      "534676\n"
     ]
    },
    {
     "name": "stderr",
     "output_type": "stream",
     "text": [
      "Skipping field informationSystem: unsupported OGR type: 5\n",
      "Skipping field LocalisedCharacterString: unsupported OGR type: 5\n",
      "Skipping field reference: unsupported OGR type: 13\n",
      "Skipping field informationSystem: unsupported OGR type: 5\n",
      "Skipping field LocalisedCharacterString: unsupported OGR type: 5\n",
      "Skipping field reference: unsupported OGR type: 13\n"
     ]
    },
    {
     "name": "stdout",
     "output_type": "stream",
     "text": [
      "535737\n",
      "535745\n"
     ]
    },
    {
     "name": "stderr",
     "output_type": "stream",
     "text": [
      "Skipping field informationSystem: unsupported OGR type: 5\n",
      "Skipping field LocalisedCharacterString: unsupported OGR type: 5\n",
      "Skipping field reference: unsupported OGR type: 13\n"
     ]
    },
    {
     "name": "stdout",
     "output_type": "stream",
     "text": [
      "535753\n"
     ]
    },
    {
     "name": "stderr",
     "output_type": "stream",
     "text": [
      "Skipping field informationSystem: unsupported OGR type: 5\n",
      "Skipping field LocalisedCharacterString: unsupported OGR type: 5\n",
      "Skipping field reference: unsupported OGR type: 13\n",
      "Skipping field informationSystem: unsupported OGR type: 5\n",
      "Skipping field LocalisedCharacterString: unsupported OGR type: 5\n",
      "Skipping field reference: unsupported OGR type: 13\n"
     ]
    },
    {
     "name": "stdout",
     "output_type": "stream",
     "text": [
      "535761\n",
      "535770\n"
     ]
    },
    {
     "name": "stderr",
     "output_type": "stream",
     "text": [
      "Skipping field informationSystem: unsupported OGR type: 5\n",
      "Skipping field LocalisedCharacterString: unsupported OGR type: 5\n",
      "Skipping field reference: unsupported OGR type: 13\n",
      "Skipping field informationSystem: unsupported OGR type: 5\n",
      "Skipping field LocalisedCharacterString: unsupported OGR type: 5\n",
      "Skipping field reference: unsupported OGR type: 13\n",
      "Skipping field informationSystem: unsupported OGR type: 5\n",
      "Skipping field LocalisedCharacterString: unsupported OGR type: 5\n",
      "Skipping field reference: unsupported OGR type: 13\n"
     ]
    },
    {
     "name": "stdout",
     "output_type": "stream",
     "text": [
      "536041\n",
      "536059\n",
      "536067\n"
     ]
    },
    {
     "name": "stderr",
     "output_type": "stream",
     "text": [
      "Skipping field informationSystem: unsupported OGR type: 5\n",
      "Skipping field LocalisedCharacterString: unsupported OGR type: 5\n",
      "Skipping field reference: unsupported OGR type: 13\n",
      "Skipping field informationSystem: unsupported OGR type: 5\n",
      "Skipping field LocalisedCharacterString: unsupported OGR type: 5\n",
      "Skipping field reference: unsupported OGR type: 13\n"
     ]
    },
    {
     "name": "stdout",
     "output_type": "stream",
     "text": [
      "536075\n",
      "536083\n"
     ]
    },
    {
     "name": "stderr",
     "output_type": "stream",
     "text": [
      "Skipping field informationSystem: unsupported OGR type: 5\n",
      "Skipping field LocalisedCharacterString: unsupported OGR type: 5\n",
      "Skipping field reference: unsupported OGR type: 13\n",
      "Skipping field informationSystem: unsupported OGR type: 5\n",
      "Skipping field LocalisedCharacterString: unsupported OGR type: 5\n",
      "Skipping field reference: unsupported OGR type: 13\n"
     ]
    },
    {
     "name": "stdout",
     "output_type": "stream",
     "text": [
      "532452\n",
      "532461\n"
     ]
    },
    {
     "name": "stderr",
     "output_type": "stream",
     "text": [
      "Skipping field informationSystem: unsupported OGR type: 5\n",
      "Skipping field LocalisedCharacterString: unsupported OGR type: 5\n",
      "Skipping field reference: unsupported OGR type: 13\n"
     ]
    },
    {
     "name": "stdout",
     "output_type": "stream",
     "text": [
      "532843\n"
     ]
    },
    {
     "name": "stderr",
     "output_type": "stream",
     "text": [
      "Skipping field informationSystem: unsupported OGR type: 5\n",
      "Skipping field LocalisedCharacterString: unsupported OGR type: 5\n",
      "Skipping field reference: unsupported OGR type: 13\n",
      "Skipping field informationSystem: unsupported OGR type: 5\n",
      "Skipping field LocalisedCharacterString: unsupported OGR type: 5\n",
      "Skipping field reference: unsupported OGR type: 13\n",
      "Skipping field informationSystem: unsupported OGR type: 5\n",
      "Skipping field LocalisedCharacterString: unsupported OGR type: 5\n",
      "Skipping field reference: unsupported OGR type: 13\n",
      "Skipping field informationSystem: unsupported OGR type: 5\n",
      "Skipping field LocalisedCharacterString: unsupported OGR type: 5\n",
      "Skipping field reference: unsupported OGR type: 13\n"
     ]
    },
    {
     "name": "stdout",
     "output_type": "stream",
     "text": [
      "532495\n",
      "532509\n",
      "532517\n",
      "532525\n"
     ]
    },
    {
     "name": "stderr",
     "output_type": "stream",
     "text": [
      "Skipping field informationSystem: unsupported OGR type: 5\n",
      "Skipping field LocalisedCharacterString: unsupported OGR type: 5\n",
      "Skipping field reference: unsupported OGR type: 13\n",
      "Skipping field informationSystem: unsupported OGR type: 5\n",
      "Skipping field LocalisedCharacterString: unsupported OGR type: 5\n",
      "Skipping field reference: unsupported OGR type: 13\n",
      "Skipping field informationSystem: unsupported OGR type: 5\n",
      "Skipping field LocalisedCharacterString: unsupported OGR type: 5\n",
      "Skipping field reference: unsupported OGR type: 13\n"
     ]
    },
    {
     "name": "stdout",
     "output_type": "stream",
     "text": [
      "532533\n",
      "532541\n",
      "532550\n"
     ]
    },
    {
     "name": "stderr",
     "output_type": "stream",
     "text": [
      "Skipping field informationSystem: unsupported OGR type: 5\n",
      "Skipping field LocalisedCharacterString: unsupported OGR type: 5\n",
      "Skipping field reference: unsupported OGR type: 13\n"
     ]
    },
    {
     "name": "stdout",
     "output_type": "stream",
     "text": [
      "532568\n"
     ]
    },
    {
     "name": "stderr",
     "output_type": "stream",
     "text": [
      "Skipping field informationSystem: unsupported OGR type: 5\n",
      "Skipping field LocalisedCharacterString: unsupported OGR type: 5\n",
      "Skipping field reference: unsupported OGR type: 13\n",
      "Skipping field informationSystem: unsupported OGR type: 5\n",
      "Skipping field LocalisedCharacterString: unsupported OGR type: 5\n",
      "Skipping field reference: unsupported OGR type: 13\n"
     ]
    },
    {
     "name": "stdout",
     "output_type": "stream",
     "text": [
      "532576\n",
      "544337\n"
     ]
    },
    {
     "name": "stderr",
     "output_type": "stream",
     "text": [
      "Skipping field informationSystem: unsupported OGR type: 5\n",
      "Skipping field LocalisedCharacterString: unsupported OGR type: 5\n",
      "Skipping field reference: unsupported OGR type: 13\n"
     ]
    },
    {
     "name": "stdout",
     "output_type": "stream",
     "text": [
      "535079\n"
     ]
    },
    {
     "name": "stderr",
     "output_type": "stream",
     "text": [
      "Skipping field informationSystem: unsupported OGR type: 5\n",
      "Skipping field LocalisedCharacterString: unsupported OGR type: 5\n",
      "Skipping field reference: unsupported OGR type: 13\n",
      "Skipping field informationSystem: unsupported OGR type: 5\n",
      "Skipping field LocalisedCharacterString: unsupported OGR type: 5\n",
      "Skipping field reference: unsupported OGR type: 13\n"
     ]
    },
    {
     "name": "stdout",
     "output_type": "stream",
     "text": [
      "535087\n",
      "535095\n"
     ]
    },
    {
     "name": "stderr",
     "output_type": "stream",
     "text": [
      "Skipping field informationSystem: unsupported OGR type: 5\n",
      "Skipping field LocalisedCharacterString: unsupported OGR type: 5\n",
      "Skipping field reference: unsupported OGR type: 13\n",
      "Skipping field informationSystem: unsupported OGR type: 5\n",
      "Skipping field LocalisedCharacterString: unsupported OGR type: 5\n",
      "Skipping field reference: unsupported OGR type: 13\n"
     ]
    },
    {
     "name": "stdout",
     "output_type": "stream",
     "text": [
      "535532\n",
      "535541\n"
     ]
    },
    {
     "name": "stderr",
     "output_type": "stream",
     "text": [
      "Skipping field informationSystem: unsupported OGR type: 5\n",
      "Skipping field LocalisedCharacterString: unsupported OGR type: 5\n",
      "Skipping field reference: unsupported OGR type: 13\n",
      "Skipping field informationSystem: unsupported OGR type: 5\n",
      "Skipping field LocalisedCharacterString: unsupported OGR type: 5\n",
      "Skipping field reference: unsupported OGR type: 13\n",
      "Skipping field informationSystem: unsupported OGR type: 5\n",
      "Skipping field LocalisedCharacterString: unsupported OGR type: 5\n",
      "Skipping field reference: unsupported OGR type: 13\n"
     ]
    },
    {
     "name": "stdout",
     "output_type": "stream",
     "text": [
      "535559\n",
      "535567\n",
      "535575\n"
     ]
    },
    {
     "name": "stderr",
     "output_type": "stream",
     "text": [
      "Skipping field informationSystem: unsupported OGR type: 5\n",
      "Skipping field LocalisedCharacterString: unsupported OGR type: 5\n",
      "Skipping field reference: unsupported OGR type: 13\n"
     ]
    },
    {
     "name": "stdout",
     "output_type": "stream",
     "text": [
      "535583\n"
     ]
    },
    {
     "name": "stderr",
     "output_type": "stream",
     "text": [
      "Skipping field informationSystem: unsupported OGR type: 5\n",
      "Skipping field LocalisedCharacterString: unsupported OGR type: 5\n",
      "Skipping field reference: unsupported OGR type: 13\n",
      "Skipping field informationSystem: unsupported OGR type: 5\n",
      "Skipping field LocalisedCharacterString: unsupported OGR type: 5\n",
      "Skipping field reference: unsupported OGR type: 13\n"
     ]
    },
    {
     "name": "stdout",
     "output_type": "stream",
     "text": [
      "536091\n",
      "536105\n"
     ]
    },
    {
     "name": "stderr",
     "output_type": "stream",
     "text": [
      "Skipping field informationSystem: unsupported OGR type: 5\n",
      "Skipping field LocalisedCharacterString: unsupported OGR type: 5\n",
      "Skipping field reference: unsupported OGR type: 13\n",
      "Skipping field informationSystem: unsupported OGR type: 5\n",
      "Skipping field LocalisedCharacterString: unsupported OGR type: 5\n",
      "Skipping field reference: unsupported OGR type: 13\n"
     ]
    },
    {
     "name": "stdout",
     "output_type": "stream",
     "text": [
      "536113\n",
      "536121\n"
     ]
    },
    {
     "name": "stderr",
     "output_type": "stream",
     "text": [
      "Skipping field informationSystem: unsupported OGR type: 5\n",
      "Skipping field LocalisedCharacterString: unsupported OGR type: 5\n",
      "Skipping field reference: unsupported OGR type: 13\n"
     ]
    },
    {
     "name": "stdout",
     "output_type": "stream",
     "text": [
      "536130\n"
     ]
    },
    {
     "name": "stderr",
     "output_type": "stream",
     "text": [
      "Skipping field informationSystem: unsupported OGR type: 5\n",
      "Skipping field LocalisedCharacterString: unsupported OGR type: 5\n",
      "Skipping field reference: unsupported OGR type: 13\n",
      "Skipping field informationSystem: unsupported OGR type: 5\n",
      "Skipping field LocalisedCharacterString: unsupported OGR type: 5\n",
      "Skipping field reference: unsupported OGR type: 13\n"
     ]
    },
    {
     "name": "stdout",
     "output_type": "stream",
     "text": [
      "536148\n",
      "533602\n"
     ]
    },
    {
     "name": "stderr",
     "output_type": "stream",
     "text": [
      "Skipping field informationSystem: unsupported OGR type: 5\n",
      "Skipping field LocalisedCharacterString: unsupported OGR type: 5\n",
      "Skipping field reference: unsupported OGR type: 13\n"
     ]
    },
    {
     "name": "stdout",
     "output_type": "stream",
     "text": [
      "533611\n"
     ]
    },
    {
     "name": "stderr",
     "output_type": "stream",
     "text": [
      "Skipping field informationSystem: unsupported OGR type: 5\n",
      "Skipping field LocalisedCharacterString: unsupported OGR type: 5\n",
      "Skipping field reference: unsupported OGR type: 13\n",
      "Skipping field informationSystem: unsupported OGR type: 5\n",
      "Skipping field LocalisedCharacterString: unsupported OGR type: 5\n",
      "Skipping field reference: unsupported OGR type: 13\n",
      "Skipping field informationSystem: unsupported OGR type: 5\n",
      "Skipping field LocalisedCharacterString: unsupported OGR type: 5\n",
      "Skipping field reference: unsupported OGR type: 13\n"
     ]
    },
    {
     "name": "stdout",
     "output_type": "stream",
     "text": [
      "533629\n",
      "533637\n",
      "533645\n"
     ]
    },
    {
     "name": "stderr",
     "output_type": "stream",
     "text": [
      "Skipping field informationSystem: unsupported OGR type: 5\n",
      "Skipping field LocalisedCharacterString: unsupported OGR type: 5\n",
      "Skipping field reference: unsupported OGR type: 13\n",
      "Skipping field informationSystem: unsupported OGR type: 5\n",
      "Skipping field LocalisedCharacterString: unsupported OGR type: 5\n",
      "Skipping field reference: unsupported OGR type: 13\n"
     ]
    },
    {
     "name": "stdout",
     "output_type": "stream",
     "text": [
      "533653\n",
      "533963\n"
     ]
    },
    {
     "name": "stderr",
     "output_type": "stream",
     "text": [
      "Skipping field informationSystem: unsupported OGR type: 5\n",
      "Skipping field LocalisedCharacterString: unsupported OGR type: 5\n",
      "Skipping field reference: unsupported OGR type: 13\n"
     ]
    },
    {
     "name": "stdout",
     "output_type": "stream",
     "text": [
      "533971\n"
     ]
    },
    {
     "name": "stderr",
     "output_type": "stream",
     "text": [
      "Skipping field informationSystem: unsupported OGR type: 5\n",
      "Skipping field LocalisedCharacterString: unsupported OGR type: 5\n",
      "Skipping field reference: unsupported OGR type: 13\n"
     ]
    },
    {
     "name": "stdout",
     "output_type": "stream",
     "text": [
      "533980\n"
     ]
    },
    {
     "name": "stderr",
     "output_type": "stream",
     "text": [
      "Skipping field informationSystem: unsupported OGR type: 5\n",
      "Skipping field LocalisedCharacterString: unsupported OGR type: 5\n",
      "Skipping field reference: unsupported OGR type: 13\n"
     ]
    },
    {
     "name": "stdout",
     "output_type": "stream",
     "text": [
      "533998\n"
     ]
    },
    {
     "name": "stderr",
     "output_type": "stream",
     "text": [
      "Skipping field informationSystem: unsupported OGR type: 5\n",
      "Skipping field LocalisedCharacterString: unsupported OGR type: 5\n",
      "Skipping field reference: unsupported OGR type: 13\n",
      "Skipping field informationSystem: unsupported OGR type: 5\n",
      "Skipping field LocalisedCharacterString: unsupported OGR type: 5\n",
      "Skipping field reference: unsupported OGR type: 13\n"
     ]
    },
    {
     "name": "stdout",
     "output_type": "stream",
     "text": [
      "534005\n",
      "534013\n"
     ]
    },
    {
     "name": "stderr",
     "output_type": "stream",
     "text": [
      "Skipping field informationSystem: unsupported OGR type: 5\n",
      "Skipping field LocalisedCharacterString: unsupported OGR type: 5\n",
      "Skipping field reference: unsupported OGR type: 13\n",
      "Skipping field informationSystem: unsupported OGR type: 5\n",
      "Skipping field LocalisedCharacterString: unsupported OGR type: 5\n",
      "Skipping field reference: unsupported OGR type: 13\n",
      "Skipping field informationSystem: unsupported OGR type: 5\n",
      "Skipping field LocalisedCharacterString: unsupported OGR type: 5\n",
      "Skipping field reference: unsupported OGR type: 13\n"
     ]
    },
    {
     "name": "stdout",
     "output_type": "stream",
     "text": [
      "534811\n",
      "534820\n",
      "593907\n"
     ]
    },
    {
     "name": "stderr",
     "output_type": "stream",
     "text": [
      "Skipping field informationSystem: unsupported OGR type: 5\n",
      "Skipping field LocalisedCharacterString: unsupported OGR type: 5\n",
      "Skipping field reference: unsupported OGR type: 13\n"
     ]
    },
    {
     "name": "stdout",
     "output_type": "stream",
     "text": [
      "531731\n"
     ]
    },
    {
     "name": "stderr",
     "output_type": "stream",
     "text": [
      "Skipping field informationSystem: unsupported OGR type: 5\n",
      "Skipping field LocalisedCharacterString: unsupported OGR type: 5\n",
      "Skipping field reference: unsupported OGR type: 13\n",
      "Skipping field informationSystem: unsupported OGR type: 5\n",
      "Skipping field LocalisedCharacterString: unsupported OGR type: 5\n",
      "Skipping field reference: unsupported OGR type: 13\n",
      "Skipping field informationSystem: unsupported OGR type: 5\n",
      "Skipping field LocalisedCharacterString: unsupported OGR type: 5\n",
      "Skipping field reference: unsupported OGR type: 13\n",
      "Skipping field informationSystem: unsupported OGR type: 5\n",
      "Skipping field LocalisedCharacterString: unsupported OGR type: 5\n",
      "Skipping field reference: unsupported OGR type: 13\n"
     ]
    },
    {
     "name": "stdout",
     "output_type": "stream",
     "text": [
      "534846\n",
      "534854\n",
      "534862\n",
      "534871\n"
     ]
    },
    {
     "name": "stderr",
     "output_type": "stream",
     "text": [
      "Skipping field informationSystem: unsupported OGR type: 5\n",
      "Skipping field LocalisedCharacterString: unsupported OGR type: 5\n",
      "Skipping field reference: unsupported OGR type: 13\n",
      "Skipping field informationSystem: unsupported OGR type: 5\n",
      "Skipping field LocalisedCharacterString: unsupported OGR type: 5\n",
      "Skipping field reference: unsupported OGR type: 13\n"
     ]
    },
    {
     "name": "stdout",
     "output_type": "stream",
     "text": [
      "534889\n",
      "534897\n"
     ]
    },
    {
     "name": "stderr",
     "output_type": "stream",
     "text": [
      "Skipping field informationSystem: unsupported OGR type: 5\n",
      "Skipping field LocalisedCharacterString: unsupported OGR type: 5\n",
      "Skipping field reference: unsupported OGR type: 13\n"
     ]
    },
    {
     "name": "stdout",
     "output_type": "stream",
     "text": [
      "535214\n"
     ]
    },
    {
     "name": "stderr",
     "output_type": "stream",
     "text": [
      "Skipping field informationSystem: unsupported OGR type: 5\n",
      "Skipping field LocalisedCharacterString: unsupported OGR type: 5\n",
      "Skipping field reference: unsupported OGR type: 13\n",
      "Skipping field informationSystem: unsupported OGR type: 5\n",
      "Skipping field LocalisedCharacterString: unsupported OGR type: 5\n",
      "Skipping field reference: unsupported OGR type: 13\n",
      "Skipping field informationSystem: unsupported OGR type: 5\n",
      "Skipping field LocalisedCharacterString: unsupported OGR type: 5\n",
      "Skipping field reference: unsupported OGR type: 13\n"
     ]
    },
    {
     "name": "stdout",
     "output_type": "stream",
     "text": [
      "535222\n",
      "534901\n",
      "534919\n"
     ]
    },
    {
     "name": "stderr",
     "output_type": "stream",
     "text": [
      "Skipping field informationSystem: unsupported OGR type: 5\n",
      "Skipping field LocalisedCharacterString: unsupported OGR type: 5\n",
      "Skipping field reference: unsupported OGR type: 13\n"
     ]
    },
    {
     "name": "stdout",
     "output_type": "stream",
     "text": [
      "534927\n"
     ]
    },
    {
     "name": "stderr",
     "output_type": "stream",
     "text": [
      "Skipping field informationSystem: unsupported OGR type: 5\n",
      "Skipping field LocalisedCharacterString: unsupported OGR type: 5\n",
      "Skipping field reference: unsupported OGR type: 13\n",
      "Skipping field informationSystem: unsupported OGR type: 5\n",
      "Skipping field LocalisedCharacterString: unsupported OGR type: 5\n",
      "Skipping field reference: unsupported OGR type: 13\n",
      "Skipping field informationSystem: unsupported OGR type: 5\n",
      "Skipping field LocalisedCharacterString: unsupported OGR type: 5\n",
      "Skipping field reference: unsupported OGR type: 13\n"
     ]
    },
    {
     "name": "stdout",
     "output_type": "stream",
     "text": [
      "534935\n",
      "534943\n",
      "533661\n"
     ]
    },
    {
     "name": "stderr",
     "output_type": "stream",
     "text": [
      "Skipping field informationSystem: unsupported OGR type: 5\n",
      "Skipping field LocalisedCharacterString: unsupported OGR type: 5\n",
      "Skipping field reference: unsupported OGR type: 13\n",
      "Skipping field informationSystem: unsupported OGR type: 5\n",
      "Skipping field LocalisedCharacterString: unsupported OGR type: 5\n",
      "Skipping field reference: unsupported OGR type: 13\n"
     ]
    },
    {
     "name": "stdout",
     "output_type": "stream",
     "text": [
      "533670\n",
      "533688\n"
     ]
    },
    {
     "name": "stderr",
     "output_type": "stream",
     "text": [
      "Skipping field informationSystem: unsupported OGR type: 5\n",
      "Skipping field LocalisedCharacterString: unsupported OGR type: 5\n",
      "Skipping field reference: unsupported OGR type: 13\n"
     ]
    },
    {
     "name": "stdout",
     "output_type": "stream",
     "text": [
      "533696\n"
     ]
    },
    {
     "name": "stderr",
     "output_type": "stream",
     "text": [
      "Skipping field informationSystem: unsupported OGR type: 5\n",
      "Skipping field LocalisedCharacterString: unsupported OGR type: 5\n",
      "Skipping field reference: unsupported OGR type: 13\n"
     ]
    },
    {
     "name": "stdout",
     "output_type": "stream",
     "text": [
      "533700\n"
     ]
    },
    {
     "name": "stderr",
     "output_type": "stream",
     "text": [
      "Skipping field informationSystem: unsupported OGR type: 5\n",
      "Skipping field LocalisedCharacterString: unsupported OGR type: 5\n",
      "Skipping field reference: unsupported OGR type: 13\n"
     ]
    },
    {
     "name": "stdout",
     "output_type": "stream",
     "text": [
      "533718\n"
     ]
    },
    {
     "name": "stderr",
     "output_type": "stream",
     "text": [
      "Skipping field informationSystem: unsupported OGR type: 5\n",
      "Skipping field LocalisedCharacterString: unsupported OGR type: 5\n",
      "Skipping field reference: unsupported OGR type: 13\n",
      "Skipping field informationSystem: unsupported OGR type: 5\n",
      "Skipping field LocalisedCharacterString: unsupported OGR type: 5\n",
      "Skipping field reference: unsupported OGR type: 13\n",
      "Skipping field informationSystem: unsupported OGR type: 5\n",
      "Skipping field LocalisedCharacterString: unsupported OGR type: 5\n",
      "Skipping field reference: unsupported OGR type: 13\n"
     ]
    },
    {
     "name": "stdout",
     "output_type": "stream",
     "text": [
      "533726\n",
      "533734\n",
      "533742\n"
     ]
    },
    {
     "name": "stderr",
     "output_type": "stream",
     "text": [
      "Skipping field informationSystem: unsupported OGR type: 5\n",
      "Skipping field LocalisedCharacterString: unsupported OGR type: 5\n",
      "Skipping field reference: unsupported OGR type: 13\n"
     ]
    },
    {
     "name": "stdout",
     "output_type": "stream",
     "text": [
      "533751\n"
     ]
    },
    {
     "name": "stderr",
     "output_type": "stream",
     "text": [
      "Skipping field informationSystem: unsupported OGR type: 5\n",
      "Skipping field LocalisedCharacterString: unsupported OGR type: 5\n",
      "Skipping field reference: unsupported OGR type: 13\n",
      "Skipping field informationSystem: unsupported OGR type: 5\n",
      "Skipping field LocalisedCharacterString: unsupported OGR type: 5\n",
      "Skipping field reference: unsupported OGR type: 13\n"
     ]
    },
    {
     "name": "stdout",
     "output_type": "stream",
     "text": [
      "534021\n",
      "534030\n"
     ]
    },
    {
     "name": "stderr",
     "output_type": "stream",
     "text": [
      "Skipping field informationSystem: unsupported OGR type: 5\n",
      "Skipping field LocalisedCharacterString: unsupported OGR type: 5\n",
      "Skipping field reference: unsupported OGR type: 13\n"
     ]
    },
    {
     "name": "stdout",
     "output_type": "stream",
     "text": [
      "534048\n"
     ]
    },
    {
     "name": "stderr",
     "output_type": "stream",
     "text": [
      "Skipping field informationSystem: unsupported OGR type: 5\n",
      "Skipping field LocalisedCharacterString: unsupported OGR type: 5\n",
      "Skipping field reference: unsupported OGR type: 13\n",
      "Skipping field informationSystem: unsupported OGR type: 5\n",
      "Skipping field LocalisedCharacterString: unsupported OGR type: 5\n",
      "Skipping field reference: unsupported OGR type: 13\n"
     ]
    },
    {
     "name": "stdout",
     "output_type": "stream",
     "text": [
      "534056\n",
      "534064\n"
     ]
    },
    {
     "name": "stderr",
     "output_type": "stream",
     "text": [
      "Skipping field informationSystem: unsupported OGR type: 5\n",
      "Skipping field LocalisedCharacterString: unsupported OGR type: 5\n",
      "Skipping field reference: unsupported OGR type: 13\n"
     ]
    },
    {
     "name": "stdout",
     "output_type": "stream",
     "text": [
      "534072\n"
     ]
    },
    {
     "name": "stderr",
     "output_type": "stream",
     "text": [
      "Skipping field informationSystem: unsupported OGR type: 5\n",
      "Skipping field LocalisedCharacterString: unsupported OGR type: 5\n",
      "Skipping field reference: unsupported OGR type: 13\n"
     ]
    },
    {
     "name": "stdout",
     "output_type": "stream",
     "text": [
      "534081\n"
     ]
    },
    {
     "name": "stderr",
     "output_type": "stream",
     "text": [
      "Skipping field informationSystem: unsupported OGR type: 5\n",
      "Skipping field LocalisedCharacterString: unsupported OGR type: 5\n",
      "Skipping field reference: unsupported OGR type: 13\n"
     ]
    },
    {
     "name": "stdout",
     "output_type": "stream",
     "text": [
      "534099\n"
     ]
    },
    {
     "name": "stderr",
     "output_type": "stream",
     "text": [
      "Skipping field informationSystem: unsupported OGR type: 5\n",
      "Skipping field LocalisedCharacterString: unsupported OGR type: 5\n",
      "Skipping field reference: unsupported OGR type: 13\n",
      "Skipping field informationSystem: unsupported OGR type: 5\n",
      "Skipping field LocalisedCharacterString: unsupported OGR type: 5\n",
      "Skipping field reference: unsupported OGR type: 13\n"
     ]
    },
    {
     "name": "stdout",
     "output_type": "stream",
     "text": [
      "534102\n",
      "534111\n"
     ]
    },
    {
     "name": "stderr",
     "output_type": "stream",
     "text": [
      "Skipping field informationSystem: unsupported OGR type: 5\n",
      "Skipping field LocalisedCharacterString: unsupported OGR type: 5\n",
      "Skipping field reference: unsupported OGR type: 13\n"
     ]
    },
    {
     "name": "stdout",
     "output_type": "stream",
     "text": [
      "534129\n"
     ]
    },
    {
     "name": "stderr",
     "output_type": "stream",
     "text": [
      "Skipping field informationSystem: unsupported OGR type: 5\n",
      "Skipping field LocalisedCharacterString: unsupported OGR type: 5\n",
      "Skipping field reference: unsupported OGR type: 13\n",
      "Skipping field informationSystem: unsupported OGR type: 5\n",
      "Skipping field LocalisedCharacterString: unsupported OGR type: 5\n",
      "Skipping field reference: unsupported OGR type: 13\n",
      "Skipping field informationSystem: unsupported OGR type: 5\n",
      "Skipping field LocalisedCharacterString: unsupported OGR type: 5\n",
      "Skipping field reference: unsupported OGR type: 13\n"
     ]
    },
    {
     "name": "stdout",
     "output_type": "stream",
     "text": [
      "534137\n",
      "534145\n",
      "535231\n"
     ]
    },
    {
     "name": "stderr",
     "output_type": "stream",
     "text": [
      "Skipping field informationSystem: unsupported OGR type: 5\n",
      "Skipping field LocalisedCharacterString: unsupported OGR type: 5\n",
      "Skipping field reference: unsupported OGR type: 13\n",
      "Skipping field informationSystem: unsupported OGR type: 5\n",
      "Skipping field LocalisedCharacterString: unsupported OGR type: 5\n",
      "Skipping field reference: unsupported OGR type: 13\n"
     ]
    },
    {
     "name": "stdout",
     "output_type": "stream",
     "text": [
      "535249\n",
      "535257\n"
     ]
    },
    {
     "name": "stderr",
     "output_type": "stream",
     "text": [
      "Skipping field informationSystem: unsupported OGR type: 5\n",
      "Skipping field LocalisedCharacterString: unsupported OGR type: 5\n",
      "Skipping field reference: unsupported OGR type: 13\n"
     ]
    },
    {
     "name": "stdout",
     "output_type": "stream",
     "text": [
      "535265\n"
     ]
    },
    {
     "name": "stderr",
     "output_type": "stream",
     "text": [
      "Skipping field informationSystem: unsupported OGR type: 5\n",
      "Skipping field LocalisedCharacterString: unsupported OGR type: 5\n",
      "Skipping field reference: unsupported OGR type: 13\n",
      "Skipping field informationSystem: unsupported OGR type: 5\n",
      "Skipping field LocalisedCharacterString: unsupported OGR type: 5\n",
      "Skipping field reference: unsupported OGR type: 13\n",
      "Skipping field informationSystem: unsupported OGR type: 5\n",
      "Skipping field LocalisedCharacterString: unsupported OGR type: 5\n",
      "Skipping field reference: unsupported OGR type: 13\n"
     ]
    },
    {
     "name": "stdout",
     "output_type": "stream",
     "text": [
      "535273\n",
      "536156\n",
      "536164\n"
     ]
    },
    {
     "name": "stderr",
     "output_type": "stream",
     "text": [
      "Skipping field informationSystem: unsupported OGR type: 5\n",
      "Skipping field LocalisedCharacterString: unsupported OGR type: 5\n",
      "Skipping field reference: unsupported OGR type: 13\n"
     ]
    },
    {
     "name": "stdout",
     "output_type": "stream",
     "text": [
      "536172\n"
     ]
    },
    {
     "name": "stderr",
     "output_type": "stream",
     "text": [
      "Skipping field informationSystem: unsupported OGR type: 5\n",
      "Skipping field LocalisedCharacterString: unsupported OGR type: 5\n",
      "Skipping field reference: unsupported OGR type: 13\n",
      "Skipping field informationSystem: unsupported OGR type: 5\n",
      "Skipping field LocalisedCharacterString: unsupported OGR type: 5\n",
      "Skipping field reference: unsupported OGR type: 13\n"
     ]
    },
    {
     "name": "stdout",
     "output_type": "stream",
     "text": [
      "536181\n",
      "536199\n"
     ]
    },
    {
     "name": "stderr",
     "output_type": "stream",
     "text": [
      "Skipping field informationSystem: unsupported OGR type: 5\n",
      "Skipping field LocalisedCharacterString: unsupported OGR type: 5\n",
      "Skipping field reference: unsupported OGR type: 13\n",
      "Skipping field informationSystem: unsupported OGR type: 5\n",
      "Skipping field LocalisedCharacterString: unsupported OGR type: 5\n",
      "Skipping field reference: unsupported OGR type: 13\n",
      "Skipping field informationSystem: unsupported OGR type: 5\n",
      "Skipping field LocalisedCharacterString: unsupported OGR type: 5\n",
      "Skipping field reference: unsupported OGR type: 13\n"
     ]
    },
    {
     "name": "stdout",
     "output_type": "stream",
     "text": [
      "536202\n",
      "536211\n",
      "535281\n"
     ]
    },
    {
     "name": "stderr",
     "output_type": "stream",
     "text": [
      "Skipping field informationSystem: unsupported OGR type: 5\n",
      "Skipping field LocalisedCharacterString: unsupported OGR type: 5\n",
      "Skipping field reference: unsupported OGR type: 13\n"
     ]
    },
    {
     "name": "stdout",
     "output_type": "stream",
     "text": [
      "533769\n"
     ]
    },
    {
     "name": "stderr",
     "output_type": "stream",
     "text": [
      "Skipping field informationSystem: unsupported OGR type: 5\n",
      "Skipping field LocalisedCharacterString: unsupported OGR type: 5\n",
      "Skipping field reference: unsupported OGR type: 13\n"
     ]
    },
    {
     "name": "stdout",
     "output_type": "stream",
     "text": [
      "533777\n"
     ]
    },
    {
     "name": "stderr",
     "output_type": "stream",
     "text": [
      "Skipping field informationSystem: unsupported OGR type: 5\n",
      "Skipping field LocalisedCharacterString: unsupported OGR type: 5\n",
      "Skipping field reference: unsupported OGR type: 13\n",
      "Skipping field informationSystem: unsupported OGR type: 5\n",
      "Skipping field LocalisedCharacterString: unsupported OGR type: 5\n",
      "Skipping field reference: unsupported OGR type: 13\n"
     ]
    },
    {
     "name": "stdout",
     "output_type": "stream",
     "text": [
      "533785\n",
      "533793\n"
     ]
    },
    {
     "name": "stderr",
     "output_type": "stream",
     "text": [
      "Skipping field informationSystem: unsupported OGR type: 5\n",
      "Skipping field LocalisedCharacterString: unsupported OGR type: 5\n",
      "Skipping field reference: unsupported OGR type: 13\n",
      "Skipping field informationSystem: unsupported OGR type: 5\n",
      "Skipping field LocalisedCharacterString: unsupported OGR type: 5\n",
      "Skipping field reference: unsupported OGR type: 13\n"
     ]
    },
    {
     "name": "stdout",
     "output_type": "stream",
     "text": [
      "533807\n",
      "533815\n"
     ]
    },
    {
     "name": "stderr",
     "output_type": "stream",
     "text": [
      "Skipping field informationSystem: unsupported OGR type: 5\n",
      "Skipping field LocalisedCharacterString: unsupported OGR type: 5\n",
      "Skipping field reference: unsupported OGR type: 13\n"
     ]
    },
    {
     "name": "stdout",
     "output_type": "stream",
     "text": [
      "533831\n"
     ]
    },
    {
     "name": "stderr",
     "output_type": "stream",
     "text": [
      "Skipping field informationSystem: unsupported OGR type: 5\n",
      "Skipping field LocalisedCharacterString: unsupported OGR type: 5\n",
      "Skipping field reference: unsupported OGR type: 13\n"
     ]
    },
    {
     "name": "stdout",
     "output_type": "stream",
     "text": [
      "533840\n"
     ]
    },
    {
     "name": "stderr",
     "output_type": "stream",
     "text": [
      "Skipping field informationSystem: unsupported OGR type: 5\n",
      "Skipping field LocalisedCharacterString: unsupported OGR type: 5\n",
      "Skipping field reference: unsupported OGR type: 13\n"
     ]
    },
    {
     "name": "stdout",
     "output_type": "stream",
     "text": [
      "533858\n"
     ]
    },
    {
     "name": "stderr",
     "output_type": "stream",
     "text": [
      "Skipping field informationSystem: unsupported OGR type: 5\n",
      "Skipping field LocalisedCharacterString: unsupported OGR type: 5\n",
      "Skipping field reference: unsupported OGR type: 13\n"
     ]
    },
    {
     "name": "stdout",
     "output_type": "stream",
     "text": [
      "533866\n"
     ]
    },
    {
     "name": "stderr",
     "output_type": "stream",
     "text": [
      "Skipping field informationSystem: unsupported OGR type: 5\n",
      "Skipping field LocalisedCharacterString: unsupported OGR type: 5\n",
      "Skipping field reference: unsupported OGR type: 13\n",
      "Skipping field informationSystem: unsupported OGR type: 5\n",
      "Skipping field LocalisedCharacterString: unsupported OGR type: 5\n",
      "Skipping field reference: unsupported OGR type: 13\n",
      "Skipping field informationSystem: unsupported OGR type: 5\n",
      "Skipping field LocalisedCharacterString: unsupported OGR type: 5\n",
      "Skipping field reference: unsupported OGR type: 13\n"
     ]
    },
    {
     "name": "stdout",
     "output_type": "stream",
     "text": [
      "533874\n",
      "535788\n",
      "535796\n"
     ]
    },
    {
     "name": "stderr",
     "output_type": "stream",
     "text": [
      "Skipping field informationSystem: unsupported OGR type: 5\n",
      "Skipping field LocalisedCharacterString: unsupported OGR type: 5\n",
      "Skipping field reference: unsupported OGR type: 13\n"
     ]
    },
    {
     "name": "stdout",
     "output_type": "stream",
     "text": [
      "535800\n"
     ]
    },
    {
     "name": "stderr",
     "output_type": "stream",
     "text": [
      "Skipping field informationSystem: unsupported OGR type: 5\n",
      "Skipping field LocalisedCharacterString: unsupported OGR type: 5\n",
      "Skipping field reference: unsupported OGR type: 13\n",
      "Skipping field informationSystem: unsupported OGR type: 5\n",
      "Skipping field LocalisedCharacterString: unsupported OGR type: 5\n",
      "Skipping field reference: unsupported OGR type: 13\n",
      "Skipping field informationSystem: unsupported OGR type: 5\n",
      "Skipping field LocalisedCharacterString: unsupported OGR type: 5\n",
      "Skipping field reference: unsupported OGR type: 13\n"
     ]
    },
    {
     "name": "stdout",
     "output_type": "stream",
     "text": [
      "535818\n",
      "535826\n"
     ]
    },
    {
     "name": "stderr",
     "output_type": "stream",
     "text": [
      "Skipping field informationSystem: unsupported OGR type: 5\n",
      "Skipping field LocalisedCharacterString: unsupported OGR type: 5\n",
      "Skipping field reference: unsupported OGR type: 13\n",
      "Skipping field informationSystem: unsupported OGR type: 5\n",
      "Skipping field LocalisedCharacterString: unsupported OGR type: 5\n",
      "Skipping field reference: unsupported OGR type: 13\n"
     ]
    },
    {
     "name": "stdout",
     "output_type": "stream",
     "text": [
      "535834\n",
      "535842\n",
      "535851\n"
     ]
    },
    {
     "name": "stderr",
     "output_type": "stream",
     "text": [
      "Skipping field informationSystem: unsupported OGR type: 5\n",
      "Skipping field LocalisedCharacterString: unsupported OGR type: 5\n",
      "Skipping field reference: unsupported OGR type: 13\n"
     ]
    },
    {
     "name": "stdout",
     "output_type": "stream",
     "text": [
      "535869\n"
     ]
    },
    {
     "name": "stderr",
     "output_type": "stream",
     "text": [
      "Skipping field informationSystem: unsupported OGR type: 5\n",
      "Skipping field LocalisedCharacterString: unsupported OGR type: 5\n",
      "Skipping field reference: unsupported OGR type: 13\n",
      "Skipping field informationSystem: unsupported OGR type: 5\n",
      "Skipping field LocalisedCharacterString: unsupported OGR type: 5\n",
      "Skipping field reference: unsupported OGR type: 13\n",
      "Skipping field informationSystem: unsupported OGR type: 5\n",
      "Skipping field LocalisedCharacterString: unsupported OGR type: 5\n",
      "Skipping field reference: unsupported OGR type: 13\n",
      "Skipping field informationSystem: unsupported OGR type: 5\n",
      "Skipping field LocalisedCharacterString: unsupported OGR type: 5\n",
      "Skipping field reference: unsupported OGR type: 13\n"
     ]
    },
    {
     "name": "stdout",
     "output_type": "stream",
     "text": [
      "535877\n",
      "535885\n",
      "536229\n",
      "536237\n"
     ]
    },
    {
     "name": "stderr",
     "output_type": "stream",
     "text": [
      "Skipping field informationSystem: unsupported OGR type: 5\n",
      "Skipping field LocalisedCharacterString: unsupported OGR type: 5\n",
      "Skipping field reference: unsupported OGR type: 13\n"
     ]
    },
    {
     "name": "stdout",
     "output_type": "stream",
     "text": [
      "536245\n"
     ]
    },
    {
     "name": "stderr",
     "output_type": "stream",
     "text": [
      "Skipping field informationSystem: unsupported OGR type: 5\n",
      "Skipping field LocalisedCharacterString: unsupported OGR type: 5\n",
      "Skipping field reference: unsupported OGR type: 13\n"
     ]
    },
    {
     "name": "stdout",
     "output_type": "stream",
     "text": [
      "534200\n"
     ]
    },
    {
     "name": "stderr",
     "output_type": "stream",
     "text": [
      "Skipping field informationSystem: unsupported OGR type: 5\n",
      "Skipping field LocalisedCharacterString: unsupported OGR type: 5\n",
      "Skipping field reference: unsupported OGR type: 13\n",
      "Skipping field informationSystem: unsupported OGR type: 5\n",
      "Skipping field LocalisedCharacterString: unsupported OGR type: 5\n",
      "Skipping field reference: unsupported OGR type: 13\n"
     ]
    },
    {
     "name": "stdout",
     "output_type": "stream",
     "text": [
      "537454\n",
      "537462\n"
     ]
    },
    {
     "name": "stderr",
     "output_type": "stream",
     "text": [
      "Skipping field informationSystem: unsupported OGR type: 5\n",
      "Skipping field LocalisedCharacterString: unsupported OGR type: 5\n",
      "Skipping field reference: unsupported OGR type: 13\n",
      "Skipping field informationSystem: unsupported OGR type: 5\n",
      "Skipping field LocalisedCharacterString: unsupported OGR type: 5\n",
      "Skipping field reference: unsupported OGR type: 13\n",
      "Skipping field informationSystem: unsupported OGR type: 5\n",
      "Skipping field LocalisedCharacterString: unsupported OGR type: 5\n",
      "Skipping field reference: unsupported OGR type: 13\n"
     ]
    },
    {
     "name": "stdout",
     "output_type": "stream",
     "text": [
      "537489\n",
      "537497\n"
     ]
    },
    {
     "name": "stderr",
     "output_type": "stream",
     "text": [
      "Skipping field informationSystem: unsupported OGR type: 5\n",
      "Skipping field LocalisedCharacterString: unsupported OGR type: 5\n",
      "Skipping field reference: unsupported OGR type: 13\n"
     ]
    },
    {
     "name": "stdout",
     "output_type": "stream",
     "text": [
      "537811\n",
      "537829\n"
     ]
    },
    {
     "name": "stderr",
     "output_type": "stream",
     "text": [
      "Skipping field informationSystem: unsupported OGR type: 5\n",
      "Skipping field LocalisedCharacterString: unsupported OGR type: 5\n",
      "Skipping field reference: unsupported OGR type: 13\n",
      "Skipping field informationSystem: unsupported OGR type: 5\n",
      "Skipping field LocalisedCharacterString: unsupported OGR type: 5\n",
      "Skipping field reference: unsupported OGR type: 13\n"
     ]
    },
    {
     "name": "stdout",
     "output_type": "stream",
     "text": [
      "537837\n",
      "537845\n"
     ]
    },
    {
     "name": "stderr",
     "output_type": "stream",
     "text": [
      "Skipping field informationSystem: unsupported OGR type: 5\n",
      "Skipping field LocalisedCharacterString: unsupported OGR type: 5\n",
      "Skipping field reference: unsupported OGR type: 13\n"
     ]
    },
    {
     "name": "stdout",
     "output_type": "stream",
     "text": [
      "537853\n"
     ]
    },
    {
     "name": "stderr",
     "output_type": "stream",
     "text": [
      "Skipping field informationSystem: unsupported OGR type: 5\n",
      "Skipping field LocalisedCharacterString: unsupported OGR type: 5\n",
      "Skipping field reference: unsupported OGR type: 13\n"
     ]
    },
    {
     "name": "stdout",
     "output_type": "stream",
     "text": [
      "538272\n"
     ]
    },
    {
     "name": "stderr",
     "output_type": "stream",
     "text": [
      "Skipping field informationSystem: unsupported OGR type: 5\n",
      "Skipping field LocalisedCharacterString: unsupported OGR type: 5\n",
      "Skipping field reference: unsupported OGR type: 13\n"
     ]
    },
    {
     "name": "stdout",
     "output_type": "stream",
     "text": [
      "538281\n"
     ]
    },
    {
     "name": "stderr",
     "output_type": "stream",
     "text": [
      "Skipping field informationSystem: unsupported OGR type: 5\n",
      "Skipping field LocalisedCharacterString: unsupported OGR type: 5\n",
      "Skipping field reference: unsupported OGR type: 13\n"
     ]
    },
    {
     "name": "stdout",
     "output_type": "stream",
     "text": [
      "538299\n"
     ]
    },
    {
     "name": "stderr",
     "output_type": "stream",
     "text": [
      "Skipping field informationSystem: unsupported OGR type: 5\n",
      "Skipping field LocalisedCharacterString: unsupported OGR type: 5\n",
      "Skipping field reference: unsupported OGR type: 13\n",
      "Skipping field informationSystem: unsupported OGR type: 5\n",
      "Skipping field LocalisedCharacterString: unsupported OGR type: 5\n",
      "Skipping field reference: unsupported OGR type: 13\n"
     ]
    },
    {
     "name": "stdout",
     "output_type": "stream",
     "text": [
      "538311\n",
      "538329\n"
     ]
    },
    {
     "name": "stderr",
     "output_type": "stream",
     "text": [
      "Skipping field informationSystem: unsupported OGR type: 5\n",
      "Skipping field LocalisedCharacterString: unsupported OGR type: 5\n",
      "Skipping field reference: unsupported OGR type: 13\n",
      "Skipping field informationSystem: unsupported OGR type: 5\n",
      "Skipping field LocalisedCharacterString: unsupported OGR type: 5\n",
      "Skipping field reference: unsupported OGR type: 13\n"
     ]
    },
    {
     "name": "stdout",
     "output_type": "stream",
     "text": [
      "538337\n",
      "538370\n"
     ]
    },
    {
     "name": "stderr",
     "output_type": "stream",
     "text": [
      "Skipping field informationSystem: unsupported OGR type: 5\n",
      "Skipping field LocalisedCharacterString: unsupported OGR type: 5\n",
      "Skipping field reference: unsupported OGR type: 13\n"
     ]
    },
    {
     "name": "stdout",
     "output_type": "stream",
     "text": [
      "538957\n"
     ]
    },
    {
     "name": "stderr",
     "output_type": "stream",
     "text": [
      "Skipping field informationSystem: unsupported OGR type: 5\n",
      "Skipping field LocalisedCharacterString: unsupported OGR type: 5\n",
      "Skipping field reference: unsupported OGR type: 13\n",
      "Skipping field informationSystem: unsupported OGR type: 5\n",
      "Skipping field LocalisedCharacterString: unsupported OGR type: 5\n",
      "Skipping field reference: unsupported OGR type: 13\n",
      "Skipping field informationSystem: unsupported OGR type: 5\n",
      "Skipping field LocalisedCharacterString: unsupported OGR type: 5\n",
      "Skipping field reference: unsupported OGR type: 13\n"
     ]
    },
    {
     "name": "stdout",
     "output_type": "stream",
     "text": [
      "538965\n",
      "538973\n"
     ]
    },
    {
     "name": "stderr",
     "output_type": "stream",
     "text": [
      "Skipping field informationSystem: unsupported OGR type: 5\n",
      "Skipping field LocalisedCharacterString: unsupported OGR type: 5\n",
      "Skipping field reference: unsupported OGR type: 13\n",
      "Skipping field informationSystem: unsupported OGR type: 5\n",
      "Skipping field LocalisedCharacterString: unsupported OGR type: 5\n",
      "Skipping field reference: unsupported OGR type: 13\n"
     ]
    },
    {
     "name": "stdout",
     "output_type": "stream",
     "text": [
      "539872\n",
      "538396\n",
      "538418\n"
     ]
    },
    {
     "name": "stderr",
     "output_type": "stream",
     "text": [
      "Skipping field informationSystem: unsupported OGR type: 5\n",
      "Skipping field LocalisedCharacterString: unsupported OGR type: 5\n",
      "Skipping field reference: unsupported OGR type: 13\n"
     ]
    },
    {
     "name": "stdout",
     "output_type": "stream",
     "text": [
      "538426\n"
     ]
    },
    {
     "name": "stderr",
     "output_type": "stream",
     "text": [
      "Skipping field informationSystem: unsupported OGR type: 5\n",
      "Skipping field LocalisedCharacterString: unsupported OGR type: 5\n",
      "Skipping field reference: unsupported OGR type: 13\n"
     ]
    },
    {
     "name": "stdout",
     "output_type": "stream",
     "text": [
      "538434\n"
     ]
    },
    {
     "name": "stderr",
     "output_type": "stream",
     "text": [
      "Skipping field informationSystem: unsupported OGR type: 5\n",
      "Skipping field LocalisedCharacterString: unsupported OGR type: 5\n",
      "Skipping field reference: unsupported OGR type: 13\n"
     ]
    },
    {
     "name": "stdout",
     "output_type": "stream",
     "text": [
      "538442\n"
     ]
    },
    {
     "name": "stderr",
     "output_type": "stream",
     "text": [
      "Skipping field informationSystem: unsupported OGR type: 5\n",
      "Skipping field LocalisedCharacterString: unsupported OGR type: 5\n",
      "Skipping field reference: unsupported OGR type: 13\n"
     ]
    },
    {
     "name": "stdout",
     "output_type": "stream",
     "text": [
      "538981\n"
     ]
    },
    {
     "name": "stderr",
     "output_type": "stream",
     "text": [
      "Skipping field informationSystem: unsupported OGR type: 5\n",
      "Skipping field LocalisedCharacterString: unsupported OGR type: 5\n",
      "Skipping field reference: unsupported OGR type: 13\n"
     ]
    },
    {
     "name": "stdout",
     "output_type": "stream",
     "text": [
      "538990\n"
     ]
    },
    {
     "name": "stderr",
     "output_type": "stream",
     "text": [
      "Skipping field informationSystem: unsupported OGR type: 5\n",
      "Skipping field LocalisedCharacterString: unsupported OGR type: 5\n",
      "Skipping field reference: unsupported OGR type: 13\n"
     ]
    },
    {
     "name": "stdout",
     "output_type": "stream",
     "text": [
      "539015\n"
     ]
    },
    {
     "name": "stderr",
     "output_type": "stream",
     "text": [
      "Skipping field informationSystem: unsupported OGR type: 5\n",
      "Skipping field LocalisedCharacterString: unsupported OGR type: 5\n",
      "Skipping field reference: unsupported OGR type: 13\n"
     ]
    },
    {
     "name": "stdout",
     "output_type": "stream",
     "text": [
      "539023\n"
     ]
    },
    {
     "name": "stderr",
     "output_type": "stream",
     "text": [
      "Skipping field informationSystem: unsupported OGR type: 5\n",
      "Skipping field LocalisedCharacterString: unsupported OGR type: 5\n",
      "Skipping field reference: unsupported OGR type: 13\n"
     ]
    },
    {
     "name": "stdout",
     "output_type": "stream",
     "text": [
      "539031\n"
     ]
    },
    {
     "name": "stderr",
     "output_type": "stream",
     "text": [
      "Skipping field informationSystem: unsupported OGR type: 5\n",
      "Skipping field LocalisedCharacterString: unsupported OGR type: 5\n",
      "Skipping field reference: unsupported OGR type: 13\n"
     ]
    },
    {
     "name": "stdout",
     "output_type": "stream",
     "text": [
      "539040\n"
     ]
    },
    {
     "name": "stderr",
     "output_type": "stream",
     "text": [
      "Skipping field informationSystem: unsupported OGR type: 5\n",
      "Skipping field LocalisedCharacterString: unsupported OGR type: 5\n",
      "Skipping field reference: unsupported OGR type: 13\n"
     ]
    },
    {
     "name": "stdout",
     "output_type": "stream",
     "text": [
      "539058\n"
     ]
    },
    {
     "name": "stderr",
     "output_type": "stream",
     "text": [
      "Skipping field informationSystem: unsupported OGR type: 5\n",
      "Skipping field LocalisedCharacterString: unsupported OGR type: 5\n",
      "Skipping field reference: unsupported OGR type: 13\n"
     ]
    },
    {
     "name": "stdout",
     "output_type": "stream",
     "text": [
      "539350\n"
     ]
    },
    {
     "name": "stderr",
     "output_type": "stream",
     "text": [
      "Skipping field informationSystem: unsupported OGR type: 5\n",
      "Skipping field LocalisedCharacterString: unsupported OGR type: 5\n",
      "Skipping field reference: unsupported OGR type: 13\n"
     ]
    },
    {
     "name": "stdout",
     "output_type": "stream",
     "text": [
      "539368\n"
     ]
    },
    {
     "name": "stderr",
     "output_type": "stream",
     "text": [
      "Skipping field informationSystem: unsupported OGR type: 5\n",
      "Skipping field LocalisedCharacterString: unsupported OGR type: 5\n",
      "Skipping field reference: unsupported OGR type: 13\n",
      "Skipping field informationSystem: unsupported OGR type: 5\n",
      "Skipping field LocalisedCharacterString: unsupported OGR type: 5\n",
      "Skipping field reference: unsupported OGR type: 13\n"
     ]
    },
    {
     "name": "stdout",
     "output_type": "stream",
     "text": [
      "562351\n",
      "539376\n"
     ]
    },
    {
     "name": "stderr",
     "output_type": "stream",
     "text": [
      "Skipping field informationSystem: unsupported OGR type: 5\n",
      "Skipping field LocalisedCharacterString: unsupported OGR type: 5\n",
      "Skipping field reference: unsupported OGR type: 13\n",
      "Skipping field informationSystem: unsupported OGR type: 5\n",
      "Skipping field LocalisedCharacterString: unsupported OGR type: 5\n",
      "Skipping field reference: unsupported OGR type: 13\n"
     ]
    },
    {
     "name": "stdout",
     "output_type": "stream",
     "text": [
      "537969\n",
      "537977\n"
     ]
    },
    {
     "name": "stderr",
     "output_type": "stream",
     "text": [
      "Skipping field informationSystem: unsupported OGR type: 5\n",
      "Skipping field LocalisedCharacterString: unsupported OGR type: 5\n",
      "Skipping field reference: unsupported OGR type: 13\n",
      "Skipping field informationSystem: unsupported OGR type: 5\n",
      "Skipping field LocalisedCharacterString: unsupported OGR type: 5\n",
      "Skipping field reference: unsupported OGR type: 13\n"
     ]
    },
    {
     "name": "stdout",
     "output_type": "stream",
     "text": [
      "537985\n",
      "537993\n"
     ]
    },
    {
     "name": "stderr",
     "output_type": "stream",
     "text": [
      "Skipping field informationSystem: unsupported OGR type: 5\n",
      "Skipping field LocalisedCharacterString: unsupported OGR type: 5\n",
      "Skipping field reference: unsupported OGR type: 13\n",
      "Skipping field informationSystem: unsupported OGR type: 5\n",
      "Skipping field LocalisedCharacterString: unsupported OGR type: 5\n",
      "Skipping field reference: unsupported OGR type: 13\n"
     ]
    },
    {
     "name": "stdout",
     "output_type": "stream",
     "text": [
      "538001\n"
     ]
    },
    {
     "name": "stderr",
     "output_type": "stream",
     "text": [
      "Skipping field informationSystem: unsupported OGR type: 5\n",
      "Skipping field LocalisedCharacterString: unsupported OGR type: 5\n",
      "Skipping field reference: unsupported OGR type: 13\n"
     ]
    },
    {
     "name": "stdout",
     "output_type": "stream",
     "text": [
      "538451\n",
      "538469\n"
     ]
    },
    {
     "name": "stderr",
     "output_type": "stream",
     "text": [
      "Skipping field informationSystem: unsupported OGR type: 5\n",
      "Skipping field LocalisedCharacterString: unsupported OGR type: 5\n",
      "Skipping field reference: unsupported OGR type: 13\n"
     ]
    },
    {
     "name": "stdout",
     "output_type": "stream",
     "text": [
      "538477\n"
     ]
    },
    {
     "name": "stderr",
     "output_type": "stream",
     "text": [
      "Skipping field informationSystem: unsupported OGR type: 5\n",
      "Skipping field LocalisedCharacterString: unsupported OGR type: 5\n",
      "Skipping field reference: unsupported OGR type: 13\n"
     ]
    },
    {
     "name": "stdout",
     "output_type": "stream",
     "text": [
      "538485\n"
     ]
    },
    {
     "name": "stderr",
     "output_type": "stream",
     "text": [
      "Skipping field informationSystem: unsupported OGR type: 5\n",
      "Skipping field LocalisedCharacterString: unsupported OGR type: 5\n",
      "Skipping field reference: unsupported OGR type: 13\n"
     ]
    },
    {
     "name": "stdout",
     "output_type": "stream",
     "text": [
      "538493\n"
     ]
    },
    {
     "name": "stderr",
     "output_type": "stream",
     "text": [
      "Skipping field informationSystem: unsupported OGR type: 5\n",
      "Skipping field LocalisedCharacterString: unsupported OGR type: 5\n",
      "Skipping field reference: unsupported OGR type: 13\n"
     ]
    },
    {
     "name": "stdout",
     "output_type": "stream",
     "text": [
      "538507\n"
     ]
    },
    {
     "name": "stderr",
     "output_type": "stream",
     "text": [
      "Skipping field informationSystem: unsupported OGR type: 5\n",
      "Skipping field LocalisedCharacterString: unsupported OGR type: 5\n",
      "Skipping field reference: unsupported OGR type: 13\n"
     ]
    },
    {
     "name": "stdout",
     "output_type": "stream",
     "text": [
      "538515\n"
     ]
    },
    {
     "name": "stderr",
     "output_type": "stream",
     "text": [
      "Skipping field informationSystem: unsupported OGR type: 5\n",
      "Skipping field LocalisedCharacterString: unsupported OGR type: 5\n",
      "Skipping field reference: unsupported OGR type: 13\n"
     ]
    },
    {
     "name": "stdout",
     "output_type": "stream",
     "text": [
      "538523\n"
     ]
    },
    {
     "name": "stderr",
     "output_type": "stream",
     "text": [
      "Skipping field informationSystem: unsupported OGR type: 5\n",
      "Skipping field LocalisedCharacterString: unsupported OGR type: 5\n",
      "Skipping field reference: unsupported OGR type: 13\n",
      "Skipping field informationSystem: unsupported OGR type: 5\n",
      "Skipping field LocalisedCharacterString: unsupported OGR type: 5\n",
      "Skipping field reference: unsupported OGR type: 13\n"
     ]
    },
    {
     "name": "stdout",
     "output_type": "stream",
     "text": [
      "538540\n",
      "538558\n"
     ]
    },
    {
     "name": "stderr",
     "output_type": "stream",
     "text": [
      "Skipping field informationSystem: unsupported OGR type: 5\n",
      "Skipping field LocalisedCharacterString: unsupported OGR type: 5\n",
      "Skipping field reference: unsupported OGR type: 13\n"
     ]
    },
    {
     "name": "stdout",
     "output_type": "stream",
     "text": [
      "539066\n"
     ]
    },
    {
     "name": "stderr",
     "output_type": "stream",
     "text": [
      "Skipping field informationSystem: unsupported OGR type: 5\n",
      "Skipping field LocalisedCharacterString: unsupported OGR type: 5\n",
      "Skipping field reference: unsupported OGR type: 13\n"
     ]
    },
    {
     "name": "stdout",
     "output_type": "stream",
     "text": [
      "539074\n"
     ]
    },
    {
     "name": "stderr",
     "output_type": "stream",
     "text": [
      "Skipping field informationSystem: unsupported OGR type: 5\n",
      "Skipping field LocalisedCharacterString: unsupported OGR type: 5\n",
      "Skipping field reference: unsupported OGR type: 13\n"
     ]
    },
    {
     "name": "stdout",
     "output_type": "stream",
     "text": [
      "539082\n"
     ]
    },
    {
     "name": "stderr",
     "output_type": "stream",
     "text": [
      "Skipping field informationSystem: unsupported OGR type: 5\n",
      "Skipping field LocalisedCharacterString: unsupported OGR type: 5\n",
      "Skipping field reference: unsupported OGR type: 13\n"
     ]
    },
    {
     "name": "stdout",
     "output_type": "stream",
     "text": [
      "539091\n"
     ]
    },
    {
     "name": "stderr",
     "output_type": "stream",
     "text": [
      "Skipping field informationSystem: unsupported OGR type: 5\n",
      "Skipping field LocalisedCharacterString: unsupported OGR type: 5\n",
      "Skipping field reference: unsupported OGR type: 13\n"
     ]
    },
    {
     "name": "stdout",
     "output_type": "stream",
     "text": [
      "539104\n"
     ]
    },
    {
     "name": "stderr",
     "output_type": "stream",
     "text": [
      "Skipping field informationSystem: unsupported OGR type: 5\n",
      "Skipping field LocalisedCharacterString: unsupported OGR type: 5\n",
      "Skipping field reference: unsupported OGR type: 13\n",
      "Skipping field informationSystem: unsupported OGR type: 5\n",
      "Skipping field LocalisedCharacterString: unsupported OGR type: 5\n",
      "Skipping field reference: unsupported OGR type: 13\n",
      "Skipping field informationSystem: unsupported OGR type: 5\n",
      "Skipping field LocalisedCharacterString: unsupported OGR type: 5\n",
      "Skipping field reference: unsupported OGR type: 13\n"
     ]
    },
    {
     "name": "stdout",
     "output_type": "stream",
     "text": [
      "539112\n",
      "539775\n",
      "539783\n"
     ]
    },
    {
     "name": "stderr",
     "output_type": "stream",
     "text": [
      "Skipping field informationSystem: unsupported OGR type: 5\n",
      "Skipping field LocalisedCharacterString: unsupported OGR type: 5\n",
      "Skipping field reference: unsupported OGR type: 13\n",
      "Skipping field informationSystem: unsupported OGR type: 5\n",
      "Skipping field LocalisedCharacterString: unsupported OGR type: 5\n",
      "Skipping field reference: unsupported OGR type: 13\n"
     ]
    },
    {
     "name": "stdout",
     "output_type": "stream",
     "text": [
      "549576\n",
      "539805\n"
     ]
    },
    {
     "name": "stderr",
     "output_type": "stream",
     "text": [
      "Skipping field informationSystem: unsupported OGR type: 5\n",
      "Skipping field LocalisedCharacterString: unsupported OGR type: 5\n",
      "Skipping field reference: unsupported OGR type: 13\n",
      "Skipping field informationSystem: unsupported OGR type: 5\n",
      "Skipping field LocalisedCharacterString: unsupported OGR type: 5\n",
      "Skipping field reference: unsupported OGR type: 13\n",
      "Skipping field informationSystem: unsupported OGR type: 5\n",
      "Skipping field LocalisedCharacterString: unsupported OGR type: 5\n",
      "Skipping field reference: unsupported OGR type: 13\n"
     ]
    },
    {
     "name": "stdout",
     "output_type": "stream",
     "text": [
      "539813\n",
      "539821\n",
      "538019\n"
     ]
    },
    {
     "name": "stderr",
     "output_type": "stream",
     "text": [
      "Skipping field informationSystem: unsupported OGR type: 5\n",
      "Skipping field LocalisedCharacterString: unsupported OGR type: 5\n",
      "Skipping field reference: unsupported OGR type: 13\n"
     ]
    },
    {
     "name": "stdout",
     "output_type": "stream",
     "text": [
      "538027\n"
     ]
    },
    {
     "name": "stderr",
     "output_type": "stream",
     "text": [
      "Skipping field informationSystem: unsupported OGR type: 5\n",
      "Skipping field LocalisedCharacterString: unsupported OGR type: 5\n",
      "Skipping field reference: unsupported OGR type: 13\n"
     ]
    },
    {
     "name": "stdout",
     "output_type": "stream",
     "text": [
      "538035\n"
     ]
    },
    {
     "name": "stderr",
     "output_type": "stream",
     "text": [
      "Skipping field informationSystem: unsupported OGR type: 5\n",
      "Skipping field LocalisedCharacterString: unsupported OGR type: 5\n",
      "Skipping field reference: unsupported OGR type: 13\n"
     ]
    },
    {
     "name": "stdout",
     "output_type": "stream",
     "text": [
      "538043\n"
     ]
    },
    {
     "name": "stderr",
     "output_type": "stream",
     "text": [
      "Skipping field informationSystem: unsupported OGR type: 5\n",
      "Skipping field LocalisedCharacterString: unsupported OGR type: 5\n",
      "Skipping field reference: unsupported OGR type: 13\n"
     ]
    },
    {
     "name": "stdout",
     "output_type": "stream",
     "text": [
      "538051\n"
     ]
    },
    {
     "name": "stderr",
     "output_type": "stream",
     "text": [
      "Skipping field informationSystem: unsupported OGR type: 5\n",
      "Skipping field LocalisedCharacterString: unsupported OGR type: 5\n",
      "Skipping field reference: unsupported OGR type: 13\n"
     ]
    },
    {
     "name": "stdout",
     "output_type": "stream",
     "text": [
      "538094\n"
     ]
    },
    {
     "name": "stderr",
     "output_type": "stream",
     "text": [
      "Skipping field informationSystem: unsupported OGR type: 5\n",
      "Skipping field LocalisedCharacterString: unsupported OGR type: 5\n",
      "Skipping field reference: unsupported OGR type: 13\n"
     ]
    },
    {
     "name": "stdout",
     "output_type": "stream",
     "text": [
      "538108\n"
     ]
    },
    {
     "name": "stderr",
     "output_type": "stream",
     "text": [
      "Skipping field informationSystem: unsupported OGR type: 5\n",
      "Skipping field LocalisedCharacterString: unsupported OGR type: 5\n",
      "Skipping field reference: unsupported OGR type: 13\n"
     ]
    },
    {
     "name": "stdout",
     "output_type": "stream",
     "text": [
      "538566\n"
     ]
    },
    {
     "name": "stderr",
     "output_type": "stream",
     "text": [
      "Skipping field informationSystem: unsupported OGR type: 5\n",
      "Skipping field LocalisedCharacterString: unsupported OGR type: 5\n",
      "Skipping field reference: unsupported OGR type: 13\n",
      "Skipping field informationSystem: unsupported OGR type: 5\n",
      "Skipping field LocalisedCharacterString: unsupported OGR type: 5\n",
      "Skipping field reference: unsupported OGR type: 13\n",
      "Skipping field informationSystem: unsupported OGR type: 5\n",
      "Skipping field LocalisedCharacterString: unsupported OGR type: 5\n",
      "Skipping field reference: unsupported OGR type: 13\n",
      "Skipping field informationSystem: unsupported OGR type: 5\n",
      "Skipping field LocalisedCharacterString: unsupported OGR type: 5\n",
      "Skipping field reference: unsupported OGR type: 13\n"
     ]
    },
    {
     "name": "stdout",
     "output_type": "stream",
     "text": [
      "536601\n",
      "536776\n",
      "536792\n",
      "536806\n"
     ]
    },
    {
     "name": "stderr",
     "output_type": "stream",
     "text": [
      "Skipping field informationSystem: unsupported OGR type: 5\n",
      "Skipping field LocalisedCharacterString: unsupported OGR type: 5\n",
      "Skipping field reference: unsupported OGR type: 13\n",
      "Skipping field informationSystem: unsupported OGR type: 5\n",
      "Skipping field LocalisedCharacterString: unsupported OGR type: 5\n",
      "Skipping field reference: unsupported OGR type: 13\n",
      "Skipping field informationSystem: unsupported OGR type: 5\n",
      "Skipping field LocalisedCharacterString: unsupported OGR type: 5\n",
      "Skipping field reference: unsupported OGR type: 13\n",
      "Skipping field informationSystem: unsupported OGR type: 5\n",
      "Skipping field LocalisedCharacterString: unsupported OGR type: 5\n",
      "Skipping field reference: unsupported OGR type: 13\n"
     ]
    },
    {
     "name": "stdout",
     "output_type": "stream",
     "text": [
      "536814\n",
      "536822\n",
      "536831\n",
      "536849\n"
     ]
    },
    {
     "name": "stderr",
     "output_type": "stream",
     "text": [
      "Skipping field informationSystem: unsupported OGR type: 5\n",
      "Skipping field LocalisedCharacterString: unsupported OGR type: 5\n",
      "Skipping field reference: unsupported OGR type: 13\n",
      "Skipping field informationSystem: unsupported OGR type: 5\n",
      "Skipping field LocalisedCharacterString: unsupported OGR type: 5\n",
      "Skipping field reference: unsupported OGR type: 13\n",
      "Skipping field informationSystem: unsupported OGR type: 5\n",
      "Skipping field LocalisedCharacterString: unsupported OGR type: 5\n",
      "Skipping field reference: unsupported OGR type: 13\n",
      "Skipping field informationSystem: unsupported OGR type: 5\n",
      "Skipping field LocalisedCharacterString: unsupported OGR type: 5\n",
      "Skipping field reference: unsupported OGR type: 13\n"
     ]
    },
    {
     "name": "stdout",
     "output_type": "stream",
     "text": [
      "536857\n",
      "536865\n",
      "536873\n"
     ]
    },
    {
     "name": "stderr",
     "output_type": "stream",
     "text": [
      "Skipping field informationSystem: unsupported OGR type: 5\n",
      "Skipping field LocalisedCharacterString: unsupported OGR type: 5\n",
      "Skipping field reference: unsupported OGR type: 13\n"
     ]
    },
    {
     "name": "stdout",
     "output_type": "stream",
     "text": [
      "536881\n",
      "536890\n"
     ]
    },
    {
     "name": "stderr",
     "output_type": "stream",
     "text": [
      "Skipping field informationSystem: unsupported OGR type: 5\n",
      "Skipping field LocalisedCharacterString: unsupported OGR type: 5\n",
      "Skipping field reference: unsupported OGR type: 13\n"
     ]
    },
    {
     "name": "stdout",
     "output_type": "stream",
     "text": [
      "538574\n"
     ]
    },
    {
     "name": "stderr",
     "output_type": "stream",
     "text": [
      "Skipping field informationSystem: unsupported OGR type: 5\n",
      "Skipping field LocalisedCharacterString: unsupported OGR type: 5\n",
      "Skipping field reference: unsupported OGR type: 13\n"
     ]
    },
    {
     "name": "stdout",
     "output_type": "stream",
     "text": [
      "538582\n"
     ]
    },
    {
     "name": "stderr",
     "output_type": "stream",
     "text": [
      "Skipping field informationSystem: unsupported OGR type: 5\n",
      "Skipping field LocalisedCharacterString: unsupported OGR type: 5\n",
      "Skipping field reference: unsupported OGR type: 13\n",
      "Skipping field informationSystem: unsupported OGR type: 5\n",
      "Skipping field LocalisedCharacterString: unsupported OGR type: 5\n",
      "Skipping field reference: unsupported OGR type: 13\n"
     ]
    },
    {
     "name": "stdout",
     "output_type": "stream",
     "text": [
      "538591\n",
      "539121\n"
     ]
    },
    {
     "name": "stderr",
     "output_type": "stream",
     "text": [
      "Skipping field informationSystem: unsupported OGR type: 5\n",
      "Skipping field LocalisedCharacterString: unsupported OGR type: 5\n",
      "Skipping field reference: unsupported OGR type: 13\n"
     ]
    },
    {
     "name": "stdout",
     "output_type": "stream",
     "text": [
      "539244\n"
     ]
    },
    {
     "name": "stderr",
     "output_type": "stream",
     "text": [
      "Skipping field informationSystem: unsupported OGR type: 5\n",
      "Skipping field LocalisedCharacterString: unsupported OGR type: 5\n",
      "Skipping field reference: unsupported OGR type: 13\n"
     ]
    },
    {
     "name": "stdout",
     "output_type": "stream",
     "text": [
      "539830\n"
     ]
    },
    {
     "name": "stderr",
     "output_type": "stream",
     "text": [
      "Skipping field informationSystem: unsupported OGR type: 5\n",
      "Skipping field LocalisedCharacterString: unsupported OGR type: 5\n",
      "Skipping field reference: unsupported OGR type: 13\n"
     ]
    },
    {
     "name": "stdout",
     "output_type": "stream",
     "text": [
      "539848\n"
     ]
    },
    {
     "name": "stderr",
     "output_type": "stream",
     "text": [
      "Skipping field informationSystem: unsupported OGR type: 5\n",
      "Skipping field LocalisedCharacterString: unsupported OGR type: 5\n",
      "Skipping field reference: unsupported OGR type: 13\n"
     ]
    },
    {
     "name": "stdout",
     "output_type": "stream",
     "text": [
      "538876\n"
     ]
    },
    {
     "name": "stderr",
     "output_type": "stream",
     "text": [
      "Skipping field informationSystem: unsupported OGR type: 5\n",
      "Skipping field LocalisedCharacterString: unsupported OGR type: 5\n",
      "Skipping field reference: unsupported OGR type: 13\n"
     ]
    },
    {
     "name": "stdout",
     "output_type": "stream",
     "text": [
      "538884\n"
     ]
    },
    {
     "name": "stderr",
     "output_type": "stream",
     "text": [
      "Skipping field informationSystem: unsupported OGR type: 5\n",
      "Skipping field LocalisedCharacterString: unsupported OGR type: 5\n",
      "Skipping field reference: unsupported OGR type: 13\n",
      "Skipping field informationSystem: unsupported OGR type: 5\n",
      "Skipping field LocalisedCharacterString: unsupported OGR type: 5\n",
      "Skipping field reference: unsupported OGR type: 13\n"
     ]
    },
    {
     "name": "stdout",
     "output_type": "stream",
     "text": [
      "533203\n",
      "533211\n"
     ]
    },
    {
     "name": "stderr",
     "output_type": "stream",
     "text": [
      "Skipping field informationSystem: unsupported OGR type: 5\n",
      "Skipping field LocalisedCharacterString: unsupported OGR type: 5\n",
      "Skipping field reference: unsupported OGR type: 13\n"
     ]
    },
    {
     "name": "stdout",
     "output_type": "stream",
     "text": [
      "531600\n"
     ]
    },
    {
     "name": "stderr",
     "output_type": "stream",
     "text": [
      "Skipping field informationSystem: unsupported OGR type: 5\n",
      "Skipping field LocalisedCharacterString: unsupported OGR type: 5\n",
      "Skipping field reference: unsupported OGR type: 13\n"
     ]
    },
    {
     "name": "stdout",
     "output_type": "stream",
     "text": [
      "533220\n"
     ]
    },
    {
     "name": "stderr",
     "output_type": "stream",
     "text": [
      "Skipping field informationSystem: unsupported OGR type: 5\n",
      "Skipping field LocalisedCharacterString: unsupported OGR type: 5\n",
      "Skipping field reference: unsupported OGR type: 13\n"
     ]
    },
    {
     "name": "stdout",
     "output_type": "stream",
     "text": [
      "533238\n"
     ]
    },
    {
     "name": "stderr",
     "output_type": "stream",
     "text": [
      "Skipping field informationSystem: unsupported OGR type: 5\n",
      "Skipping field LocalisedCharacterString: unsupported OGR type: 5\n",
      "Skipping field reference: unsupported OGR type: 13\n",
      "Skipping field informationSystem: unsupported OGR type: 5\n",
      "Skipping field LocalisedCharacterString: unsupported OGR type: 5\n",
      "Skipping field reference: unsupported OGR type: 13\n"
     ]
    },
    {
     "name": "stdout",
     "output_type": "stream",
     "text": [
      "539139\n",
      "539147\n"
     ]
    },
    {
     "name": "stderr",
     "output_type": "stream",
     "text": [
      "Skipping field informationSystem: unsupported OGR type: 5\n",
      "Skipping field LocalisedCharacterString: unsupported OGR type: 5\n",
      "Skipping field reference: unsupported OGR type: 13\n"
     ]
    },
    {
     "name": "stdout",
     "output_type": "stream",
     "text": [
      "538345\n"
     ]
    },
    {
     "name": "stderr",
     "output_type": "stream",
     "text": [
      "Skipping field informationSystem: unsupported OGR type: 5\n",
      "Skipping field LocalisedCharacterString: unsupported OGR type: 5\n",
      "Skipping field reference: unsupported OGR type: 13\n",
      "Skipping field informationSystem: unsupported OGR type: 5\n",
      "Skipping field LocalisedCharacterString: unsupported OGR type: 5\n",
      "Skipping field reference: unsupported OGR type: 13\n"
     ]
    },
    {
     "name": "stdout",
     "output_type": "stream",
     "text": [
      "539554\n",
      "539856\n"
     ]
    },
    {
     "name": "stderr",
     "output_type": "stream",
     "text": [
      "Skipping field informationSystem: unsupported OGR type: 5\n",
      "Skipping field LocalisedCharacterString: unsupported OGR type: 5\n",
      "Skipping field reference: unsupported OGR type: 13\n",
      "Skipping field informationSystem: unsupported OGR type: 5\n",
      "Skipping field LocalisedCharacterString: unsupported OGR type: 5\n",
      "Skipping field reference: unsupported OGR type: 13\n",
      "Skipping field informationSystem: unsupported OGR type: 5\n",
      "Skipping field LocalisedCharacterString: unsupported OGR type: 5\n",
      "Skipping field reference: unsupported OGR type: 13\n"
     ]
    },
    {
     "name": "stdout",
     "output_type": "stream",
     "text": [
      "538230\n",
      "536423\n",
      "536431\n"
     ]
    },
    {
     "name": "stderr",
     "output_type": "stream",
     "text": [
      "Skipping field informationSystem: unsupported OGR type: 5\n",
      "Skipping field LocalisedCharacterString: unsupported OGR type: 5\n",
      "Skipping field reference: unsupported OGR type: 13\n"
     ]
    },
    {
     "name": "stdout",
     "output_type": "stream",
     "text": [
      "536440\n"
     ]
    },
    {
     "name": "stderr",
     "output_type": "stream",
     "text": [
      "Skipping field informationSystem: unsupported OGR type: 5\n",
      "Skipping field LocalisedCharacterString: unsupported OGR type: 5\n",
      "Skipping field reference: unsupported OGR type: 13\n",
      "Skipping field informationSystem: unsupported OGR type: 5\n",
      "Skipping field LocalisedCharacterString: unsupported OGR type: 5\n",
      "Skipping field reference: unsupported OGR type: 13\n",
      "Skipping field informationSystem: unsupported OGR type: 5\n",
      "Skipping field LocalisedCharacterString: unsupported OGR type: 5\n",
      "Skipping field reference: unsupported OGR type: 13\n",
      "Skipping field informationSystem: unsupported OGR type: 5\n",
      "Skipping field LocalisedCharacterString: unsupported OGR type: 5\n",
      "Skipping field reference: unsupported OGR type: 13\n",
      "Skipping field informationSystem: unsupported OGR type: 5\n",
      "Skipping field LocalisedCharacterString: unsupported OGR type: 5\n",
      "Skipping field reference: unsupported OGR type: 1\n"
     ]
    },
    {
     "name": "stdout",
     "output_type": "stream",
     "text": [
      "536458\n",
      "536466\n",
      "536474\n",
      "536482\n"
     ]
    },
    {
     "name": "stderr",
     "output_type": "stream",
     "text": [
      "Skipping field informationSystem: unsupported OGR type: 5\n",
      "Skipping field LocalisedCharacterString: unsupported OGR type: 5\n",
      "Skipping field reference: unsupported OGR type: 13\n"
     ]
    },
    {
     "name": "stdout",
     "output_type": "stream",
     "text": [
      "536679\n",
      "533564\n"
     ]
    },
    {
     "name": "stderr",
     "output_type": "stream",
     "text": [
      "Skipping field informationSystem: unsupported OGR type: 5\n",
      "Skipping field LocalisedCharacterString: unsupported OGR type: 5\n",
      "Skipping field reference: unsupported OGR type: 13\n"
     ]
    },
    {
     "name": "stdout",
     "output_type": "stream",
     "text": [
      "533572\n"
     ]
    },
    {
     "name": "stderr",
     "output_type": "stream",
     "text": [
      "Skipping field informationSystem: unsupported OGR type: 5\n",
      "Skipping field LocalisedCharacterString: unsupported OGR type: 5\n",
      "Skipping field reference: unsupported OGR type: 13\n"
     ]
    },
    {
     "name": "stdout",
     "output_type": "stream",
     "text": [
      "533581\n"
     ]
    },
    {
     "name": "stderr",
     "output_type": "stream",
     "text": [
      "Skipping field informationSystem: unsupported OGR type: 5\n",
      "Skipping field LocalisedCharacterString: unsupported OGR type: 5\n",
      "Skipping field reference: unsupported OGR type: 13\n"
     ]
    },
    {
     "name": "stdout",
     "output_type": "stream",
     "text": [
      "533599\n"
     ]
    },
    {
     "name": "stderr",
     "output_type": "stream",
     "text": [
      "Skipping field informationSystem: unsupported OGR type: 5\n",
      "Skipping field LocalisedCharacterString: unsupported OGR type: 5\n",
      "Skipping field reference: unsupported OGR type: 13\n"
     ]
    },
    {
     "name": "stdout",
     "output_type": "stream",
     "text": [
      "539562\n"
     ]
    },
    {
     "name": "stderr",
     "output_type": "stream",
     "text": [
      "Skipping field informationSystem: unsupported OGR type: 5\n",
      "Skipping field LocalisedCharacterString: unsupported OGR type: 5\n",
      "Skipping field reference: unsupported OGR type: 13\n"
     ]
    },
    {
     "name": "stdout",
     "output_type": "stream",
     "text": [
      "539571\n"
     ]
    },
    {
     "name": "stderr",
     "output_type": "stream",
     "text": [
      "Skipping field informationSystem: unsupported OGR type: 5\n",
      "Skipping field LocalisedCharacterString: unsupported OGR type: 5\n",
      "Skipping field reference: unsupported OGR type: 13\n",
      "Skipping field informationSystem: unsupported OGR type: 5\n",
      "Skipping field LocalisedCharacterString: unsupported OGR type: 5\n",
      "Skipping field reference: unsupported OGR type: 13\n"
     ]
    },
    {
     "name": "stdout",
     "output_type": "stream",
     "text": [
      "539597\n",
      "539619\n"
     ]
    },
    {
     "name": "stderr",
     "output_type": "stream",
     "text": [
      "Skipping field informationSystem: unsupported OGR type: 5\n",
      "Skipping field LocalisedCharacterString: unsupported OGR type: 5\n",
      "Skipping field reference: unsupported OGR type: 13\n"
     ]
    },
    {
     "name": "stdout",
     "output_type": "stream",
     "text": [
      "539627\n"
     ]
    },
    {
     "name": "stderr",
     "output_type": "stream",
     "text": [
      "Skipping field informationSystem: unsupported OGR type: 5\n",
      "Skipping field LocalisedCharacterString: unsupported OGR type: 5\n",
      "Skipping field reference: unsupported OGR type: 13\n"
     ]
    },
    {
     "name": "stdout",
     "output_type": "stream",
     "text": [
      "539643\n"
     ]
    },
    {
     "name": "stderr",
     "output_type": "stream",
     "text": [
      "Skipping field informationSystem: unsupported OGR type: 5\n",
      "Skipping field LocalisedCharacterString: unsupported OGR type: 5\n",
      "Skipping field reference: unsupported OGR type: 13\n"
     ]
    },
    {
     "name": "stdout",
     "output_type": "stream",
     "text": [
      "539651\n"
     ]
    },
    {
     "name": "stderr",
     "output_type": "stream",
     "text": [
      "Skipping field informationSystem: unsupported OGR type: 5\n",
      "Skipping field LocalisedCharacterString: unsupported OGR type: 5\n",
      "Skipping field reference: unsupported OGR type: 13\n"
     ]
    },
    {
     "name": "stdout",
     "output_type": "stream",
     "text": [
      "539660\n"
     ]
    },
    {
     "name": "stderr",
     "output_type": "stream",
     "text": [
      "Skipping field informationSystem: unsupported OGR type: 5\n",
      "Skipping field LocalisedCharacterString: unsupported OGR type: 5\n",
      "Skipping field reference: unsupported OGR type: 13\n"
     ]
    },
    {
     "name": "stdout",
     "output_type": "stream",
     "text": [
      "538728\n"
     ]
    },
    {
     "name": "stderr",
     "output_type": "stream",
     "text": [
      "Skipping field informationSystem: unsupported OGR type: 5\n",
      "Skipping field LocalisedCharacterString: unsupported OGR type: 5\n",
      "Skipping field reference: unsupported OGR type: 13\n"
     ]
    },
    {
     "name": "stdout",
     "output_type": "stream",
     "text": [
      "538744\n"
     ]
    },
    {
     "name": "stderr",
     "output_type": "stream",
     "text": [
      "Skipping field informationSystem: unsupported OGR type: 5\n",
      "Skipping field LocalisedCharacterString: unsupported OGR type: 5\n",
      "Skipping field reference: unsupported OGR type: 13\n"
     ]
    },
    {
     "name": "stdout",
     "output_type": "stream",
     "text": [
      "538752\n"
     ]
    },
    {
     "name": "stderr",
     "output_type": "stream",
     "text": [
      "Skipping field informationSystem: unsupported OGR type: 5\n",
      "Skipping field LocalisedCharacterString: unsupported OGR type: 5\n",
      "Skipping field reference: unsupported OGR type: 13\n"
     ]
    },
    {
     "name": "stdout",
     "output_type": "stream",
     "text": [
      "538761\n"
     ]
    },
    {
     "name": "stderr",
     "output_type": "stream",
     "text": [
      "Skipping field informationSystem: unsupported OGR type: 5\n",
      "Skipping field LocalisedCharacterString: unsupported OGR type: 5\n",
      "Skipping field reference: unsupported OGR type: 13\n"
     ]
    },
    {
     "name": "stdout",
     "output_type": "stream",
     "text": [
      "538779\n"
     ]
    },
    {
     "name": "stderr",
     "output_type": "stream",
     "text": [
      "Skipping field informationSystem: unsupported OGR type: 5\n",
      "Skipping field LocalisedCharacterString: unsupported OGR type: 5\n",
      "Skipping field reference: unsupported OGR type: 13\n",
      "Skipping field informationSystem: unsupported OGR type: 5\n",
      "Skipping field LocalisedCharacterString: unsupported OGR type: 5\n",
      "Skipping field reference: unsupported OGR type: 13\n",
      "Skipping field informationSystem: unsupported OGR type: 5\n",
      "Skipping field LocalisedCharacterString: unsupported OGR type: 5\n",
      "Skipping field reference: unsupported OGR type: 13\n"
     ]
    },
    {
     "name": "stdout",
     "output_type": "stream",
     "text": [
      "536687\n",
      "536695\n",
      "536989\n"
     ]
    },
    {
     "name": "stderr",
     "output_type": "stream",
     "text": [
      "Skipping field informationSystem: unsupported OGR type: 5\n",
      "Skipping field LocalisedCharacterString: unsupported OGR type: 5\n",
      "Skipping field reference: unsupported OGR type: 13\n"
     ]
    },
    {
     "name": "stdout",
     "output_type": "stream",
     "text": [
      "536997\n"
     ]
    },
    {
     "name": "stderr",
     "output_type": "stream",
     "text": [
      "Skipping field informationSystem: unsupported OGR type: 5\n",
      "Skipping field LocalisedCharacterString: unsupported OGR type: 5\n",
      "Skipping field reference: unsupported OGR type: 13\n",
      "Skipping field informationSystem: unsupported OGR type: 5\n",
      "Skipping field LocalisedCharacterString: unsupported OGR type: 5\n",
      "Skipping field reference: unsupported OGR type: 13\n",
      "Skipping field informationSystem: unsupported OGR type: 5\n",
      "Skipping field LocalisedCharacterString: unsupported OGR type: 5\n",
      "Skipping field reference: unsupported OGR type: 13\n"
     ]
    },
    {
     "name": "stdout",
     "output_type": "stream",
     "text": [
      "537004\n",
      "537021\n",
      "536903\n"
     ]
    },
    {
     "name": "stderr",
     "output_type": "stream",
     "text": [
      "Skipping field informationSystem: unsupported OGR type: 5\n",
      "Skipping field LocalisedCharacterString: unsupported OGR type: 5\n",
      "Skipping field reference: unsupported OGR type: 13\n",
      "Skipping field informationSystem: unsupported OGR type: 5\n",
      "Skipping field LocalisedCharacterString: unsupported OGR type: 5\n",
      "Skipping field reference: unsupported OGR type: 13\n",
      "Skipping field informationSystem: unsupported OGR type: 5\n",
      "Skipping field LocalisedCharacterString: unsupported OGR type: 5\n",
      "Skipping field reference: unsupported OGR type: 13\n"
     ]
    },
    {
     "name": "stdout",
     "output_type": "stream",
     "text": [
      "537128\n",
      "537136\n",
      "537144\n"
     ]
    },
    {
     "name": "stderr",
     "output_type": "stream",
     "text": [
      "Skipping field informationSystem: unsupported OGR type: 5\n",
      "Skipping field LocalisedCharacterString: unsupported OGR type: 5\n",
      "Skipping field reference: unsupported OGR type: 13\n"
     ]
    },
    {
     "name": "stdout",
     "output_type": "stream",
     "text": [
      "537152\n"
     ]
    },
    {
     "name": "stderr",
     "output_type": "stream",
     "text": [
      "Skipping field informationSystem: unsupported OGR type: 5\n",
      "Skipping field LocalisedCharacterString: unsupported OGR type: 5\n",
      "Skipping field reference: unsupported OGR type: 13\n",
      "Skipping field informationSystem: unsupported OGR type: 5\n",
      "Skipping field LocalisedCharacterString: unsupported OGR type: 5\n",
      "Skipping field reference: unsupported OGR type: 13\n",
      "Skipping field informationSystem: unsupported OGR type: 5\n",
      "Skipping field LocalisedCharacterString: unsupported OGR type: 5\n",
      "Skipping field reference: unsupported OGR type: 13\n",
      "Skipping field informationSystem: unsupported OGR type: 5\n",
      "Skipping field LocalisedCharacterString: unsupported OGR type: 5\n",
      "Skipping field reference: unsupported OGR type: 13\n"
     ]
    },
    {
     "name": "stdout",
     "output_type": "stream",
     "text": [
      "532584\n",
      "532592\n",
      "532606\n",
      "532614\n"
     ]
    },
    {
     "name": "stderr",
     "output_type": "stream",
     "text": [
      "Skipping field informationSystem: unsupported OGR type: 5\n",
      "Skipping field LocalisedCharacterString: unsupported OGR type: 5\n",
      "Skipping field reference: unsupported OGR type: 13\n",
      "Skipping field informationSystem: unsupported OGR type: 5\n",
      "Skipping field LocalisedCharacterString: unsupported OGR type: 5\n",
      "Skipping field reference: unsupported OGR type: 13\n"
     ]
    },
    {
     "name": "stdout",
     "output_type": "stream",
     "text": [
      "532622\n",
      "538116\n"
     ]
    },
    {
     "name": "stderr",
     "output_type": "stream",
     "text": [
      "Skipping field informationSystem: unsupported OGR type: 5\n",
      "Skipping field LocalisedCharacterString: unsupported OGR type: 5\n",
      "Skipping field reference: unsupported OGR type: 13\n",
      "Skipping field informationSystem: unsupported OGR type: 5\n",
      "Skipping field LocalisedCharacterString: unsupported OGR type: 5\n",
      "Skipping field reference: unsupported OGR type: 13\n"
     ]
    },
    {
     "name": "stdout",
     "output_type": "stream",
     "text": [
      "538132\n",
      "538141\n"
     ]
    },
    {
     "name": "stderr",
     "output_type": "stream",
     "text": [
      "Skipping field informationSystem: unsupported OGR type: 5\n",
      "Skipping field LocalisedCharacterString: unsupported OGR type: 5\n",
      "Skipping field reference: unsupported OGR type: 13\n"
     ]
    },
    {
     "name": "stdout",
     "output_type": "stream",
     "text": [
      "538159\n"
     ]
    },
    {
     "name": "stderr",
     "output_type": "stream",
     "text": [
      "Skipping field informationSystem: unsupported OGR type: 5\n",
      "Skipping field LocalisedCharacterString: unsupported OGR type: 5\n",
      "Skipping field reference: unsupported OGR type: 13\n"
     ]
    },
    {
     "name": "stdout",
     "output_type": "stream",
     "text": [
      "538167\n"
     ]
    },
    {
     "name": "stderr",
     "output_type": "stream",
     "text": [
      "Skipping field informationSystem: unsupported OGR type: 5\n",
      "Skipping field LocalisedCharacterString: unsupported OGR type: 5\n",
      "Skipping field reference: unsupported OGR type: 13\n"
     ]
    },
    {
     "name": "stdout",
     "output_type": "stream",
     "text": [
      "539252\n"
     ]
    },
    {
     "name": "stderr",
     "output_type": "stream",
     "text": [
      "Skipping field informationSystem: unsupported OGR type: 5\n",
      "Skipping field LocalisedCharacterString: unsupported OGR type: 5\n",
      "Skipping field reference: unsupported OGR type: 13\n"
     ]
    },
    {
     "name": "stdout",
     "output_type": "stream",
     "text": [
      "539261\n"
     ]
    },
    {
     "name": "stderr",
     "output_type": "stream",
     "text": [
      "Skipping field informationSystem: unsupported OGR type: 5\n",
      "Skipping field LocalisedCharacterString: unsupported OGR type: 5\n",
      "Skipping field reference: unsupported OGR type: 13\n",
      "Skipping field informationSystem: unsupported OGR type: 5\n",
      "Skipping field LocalisedCharacterString: unsupported OGR type: 5\n",
      "Skipping field reference: unsupported OGR type: 13\n"
     ]
    },
    {
     "name": "stdout",
     "output_type": "stream",
     "text": [
      "539279\n",
      "539287\n"
     ]
    },
    {
     "name": "stderr",
     "output_type": "stream",
     "text": [
      "Skipping field informationSystem: unsupported OGR type: 5\n",
      "Skipping field LocalisedCharacterString: unsupported OGR type: 5\n",
      "Skipping field reference: unsupported OGR type: 13\n",
      "Skipping field informationSystem: unsupported OGR type: 5\n",
      "Skipping field LocalisedCharacterString: unsupported OGR type: 5\n",
      "Skipping field reference: unsupported OGR type: 13\n"
     ]
    },
    {
     "name": "stdout",
     "output_type": "stream",
     "text": [
      "539295\n",
      "539309\n"
     ]
    },
    {
     "name": "stderr",
     "output_type": "stream",
     "text": [
      "Skipping field informationSystem: unsupported OGR type: 5\n",
      "Skipping field LocalisedCharacterString: unsupported OGR type: 5\n",
      "Skipping field reference: unsupported OGR type: 13\n"
     ]
    },
    {
     "name": "stdout",
     "output_type": "stream",
     "text": [
      "539686\n"
     ]
    },
    {
     "name": "stderr",
     "output_type": "stream",
     "text": [
      "Skipping field informationSystem: unsupported OGR type: 5\n",
      "Skipping field LocalisedCharacterString: unsupported OGR type: 5\n",
      "Skipping field reference: unsupported OGR type: 13\n",
      "Skipping field informationSystem: unsupported OGR type: 5\n",
      "Skipping field LocalisedCharacterString: unsupported OGR type: 5\n",
      "Skipping field reference: unsupported OGR type: 13\n",
      "Skipping field informationSystem: unsupported OGR type: 5\n",
      "Skipping field LocalisedCharacterString: unsupported OGR type: 5\n",
      "Skipping field reference: unsupported OGR type: 13\n"
     ]
    },
    {
     "name": "stdout",
     "output_type": "stream",
     "text": [
      "539708\n",
      "537039\n",
      "537217\n"
     ]
    },
    {
     "name": "stderr",
     "output_type": "stream",
     "text": [
      "Skipping field informationSystem: unsupported OGR type: 5\n",
      "Skipping field LocalisedCharacterString: unsupported OGR type: 5\n",
      "Skipping field reference: unsupported OGR type: 13\n",
      "Skipping field informationSystem: unsupported OGR type: 5\n",
      "Skipping field LocalisedCharacterString: unsupported OGR type: 5\n",
      "Skipping field reference: unsupported OGR type: 13\n",
      "Skipping field informationSystem: unsupported OGR type: 5\n",
      "Skipping field LocalisedCharacterString: unsupported OGR type: 5\n",
      "Skipping field reference: unsupported OGR type: 13\n"
     ]
    },
    {
     "name": "stdout",
     "output_type": "stream",
     "text": [
      "533441\n",
      "533459\n",
      "533467\n"
     ]
    },
    {
     "name": "stderr",
     "output_type": "stream",
     "text": [
      "Skipping field informationSystem: unsupported OGR type: 5\n",
      "Skipping field LocalisedCharacterString: unsupported OGR type: 5\n",
      "Skipping field reference: unsupported OGR type: 13\n",
      "Skipping field informationSystem: unsupported OGR type: 5\n",
      "Skipping field LocalisedCharacterString: unsupported OGR type: 5\n",
      "Skipping field reference: unsupported OGR type: 13\n"
     ]
    },
    {
     "name": "stdout",
     "output_type": "stream",
     "text": [
      "533475\n",
      "533483\n"
     ]
    },
    {
     "name": "stderr",
     "output_type": "stream",
     "text": [
      "Skipping field informationSystem: unsupported OGR type: 5\n",
      "Skipping field LocalisedCharacterString: unsupported OGR type: 5\n",
      "Skipping field reference: unsupported OGR type: 13\n"
     ]
    },
    {
     "name": "stdout",
     "output_type": "stream",
     "text": [
      "533491\n"
     ]
    },
    {
     "name": "stderr",
     "output_type": "stream",
     "text": [
      "Skipping field informationSystem: unsupported OGR type: 5\n",
      "Skipping field LocalisedCharacterString: unsupported OGR type: 5\n",
      "Skipping field reference: unsupported OGR type: 13\n",
      "Skipping field informationSystem: unsupported OGR type: 5\n",
      "Skipping field LocalisedCharacterString: unsupported OGR type: 5\n",
      "Skipping field reference: unsupported OGR type: 13\n"
     ]
    },
    {
     "name": "stdout",
     "output_type": "stream",
     "text": [
      "533505\n",
      "538604\n"
     ]
    },
    {
     "name": "stderr",
     "output_type": "stream",
     "text": [
      "Skipping field informationSystem: unsupported OGR type: 5\n",
      "Skipping field LocalisedCharacterString: unsupported OGR type: 5\n",
      "Skipping field reference: unsupported OGR type: 13\n",
      "Skipping field informationSystem: unsupported OGR type: 5\n",
      "Skipping field LocalisedCharacterString: unsupported OGR type: 5\n",
      "Skipping field reference: unsupported OGR type: 13\n",
      "Skipping field informationSystem: unsupported OGR type: 5\n",
      "Skipping field LocalisedCharacterString: unsupported OGR type: 5\n",
      "Skipping field reference: unsupported OGR type: 13\n"
     ]
    },
    {
     "name": "stdout",
     "output_type": "stream",
     "text": [
      "538612\n",
      "538621\n",
      "538639\n"
     ]
    },
    {
     "name": "stderr",
     "output_type": "stream",
     "text": [
      "Skipping field informationSystem: unsupported OGR type: 5\n",
      "Skipping field LocalisedCharacterString: unsupported OGR type: 5\n",
      "Skipping field reference: unsupported OGR type: 13\n"
     ]
    },
    {
     "name": "stdout",
     "output_type": "stream",
     "text": [
      "538647\n"
     ]
    },
    {
     "name": "stderr",
     "output_type": "stream",
     "text": [
      "Skipping field informationSystem: unsupported OGR type: 5\n",
      "Skipping field LocalisedCharacterString: unsupported OGR type: 5\n",
      "Skipping field reference: unsupported OGR type: 13\n",
      "Skipping field informationSystem: unsupported OGR type: 5\n",
      "Skipping field LocalisedCharacterString: unsupported OGR type: 5\n",
      "Skipping field reference: unsupported OGR type: 13\n"
     ]
    },
    {
     "name": "stdout",
     "output_type": "stream",
     "text": [
      "538655\n",
      "538663\n"
     ]
    },
    {
     "name": "stderr",
     "output_type": "stream",
     "text": [
      "Skipping field informationSystem: unsupported OGR type: 5\n",
      "Skipping field LocalisedCharacterString: unsupported OGR type: 5\n",
      "Skipping field reference: unsupported OGR type: 13\n"
     ]
    },
    {
     "name": "stdout",
     "output_type": "stream",
     "text": [
      "539155\n"
     ]
    },
    {
     "name": "stderr",
     "output_type": "stream",
     "text": [
      "Skipping field informationSystem: unsupported OGR type: 5\n",
      "Skipping field LocalisedCharacterString: unsupported OGR type: 5\n",
      "Skipping field reference: unsupported OGR type: 13\n"
     ]
    },
    {
     "name": "stdout",
     "output_type": "stream",
     "text": [
      "539163\n"
     ]
    },
    {
     "name": "stderr",
     "output_type": "stream",
     "text": [
      "Skipping field informationSystem: unsupported OGR type: 5\n",
      "Skipping field LocalisedCharacterString: unsupported OGR type: 5\n",
      "Skipping field reference: unsupported OGR type: 13\n",
      "Skipping field informationSystem: unsupported OGR type: 5\n",
      "Skipping field LocalisedCharacterString: unsupported OGR type: 5\n",
      "Skipping field reference: unsupported OGR type: 13\n"
     ]
    },
    {
     "name": "stdout",
     "output_type": "stream",
     "text": [
      "539171\n",
      "539716\n"
     ]
    },
    {
     "name": "stderr",
     "output_type": "stream",
     "text": [
      "Skipping field informationSystem: unsupported OGR type: 5\n",
      "Skipping field LocalisedCharacterString: unsupported OGR type: 5\n",
      "Skipping field reference: unsupported OGR type: 13\n"
     ]
    },
    {
     "name": "stdout",
     "output_type": "stream",
     "text": [
      "539732\n"
     ]
    },
    {
     "name": "stderr",
     "output_type": "stream",
     "text": [
      "Skipping field informationSystem: unsupported OGR type: 5\n",
      "Skipping field LocalisedCharacterString: unsupported OGR type: 5\n",
      "Skipping field reference: unsupported OGR type: 13\n"
     ]
    },
    {
     "name": "stdout",
     "output_type": "stream",
     "text": [
      "539741\n"
     ]
    },
    {
     "name": "stderr",
     "output_type": "stream",
     "text": [
      "Skipping field informationSystem: unsupported OGR type: 5\n",
      "Skipping field LocalisedCharacterString: unsupported OGR type: 5\n",
      "Skipping field reference: unsupported OGR type: 13\n"
     ]
    },
    {
     "name": "stdout",
     "output_type": "stream",
     "text": [
      "539759\n"
     ]
    },
    {
     "name": "stderr",
     "output_type": "stream",
     "text": [
      "Skipping field informationSystem: unsupported OGR type: 5\n",
      "Skipping field LocalisedCharacterString: unsupported OGR type: 5\n",
      "Skipping field reference: unsupported OGR type: 13\n"
     ]
    },
    {
     "name": "stdout",
     "output_type": "stream",
     "text": [
      "539767\n"
     ]
    },
    {
     "name": "stderr",
     "output_type": "stream",
     "text": [
      "Skipping field informationSystem: unsupported OGR type: 5\n",
      "Skipping field LocalisedCharacterString: unsupported OGR type: 5\n",
      "Skipping field reference: unsupported OGR type: 13\n"
     ]
    },
    {
     "name": "stdout",
     "output_type": "stream",
     "text": [
      "538248\n"
     ]
    },
    {
     "name": "stderr",
     "output_type": "stream",
     "text": [
      "Skipping field informationSystem: unsupported OGR type: 5\n",
      "Skipping field LocalisedCharacterString: unsupported OGR type: 5\n",
      "Skipping field reference: unsupported OGR type: 13\n",
      "Skipping field informationSystem: unsupported OGR type: 5\n",
      "Skipping field LocalisedCharacterString: unsupported OGR type: 5\n",
      "Skipping field reference: unsupported OGR type: 13\n",
      "Skipping field informationSystem: unsupported OGR type: 5\n",
      "Skipping field LocalisedCharacterString: unsupported OGR type: 5\n",
      "Skipping field reference: unsupported OGR type: 13\n"
     ]
    },
    {
     "name": "stdout",
     "output_type": "stream",
     "text": [
      "537225\n",
      "537233\n",
      "537241\n"
     ]
    },
    {
     "name": "stderr",
     "output_type": "stream",
     "text": [
      "Skipping field informationSystem: unsupported OGR type: 5\n",
      "Skipping field LocalisedCharacterString: unsupported OGR type: 5\n",
      "Skipping field reference: unsupported OGR type: 13\n"
     ]
    },
    {
     "name": "stdout",
     "output_type": "stream",
     "text": [
      "537268\n"
     ]
    },
    {
     "name": "stderr",
     "output_type": "stream",
     "text": [
      "Skipping field informationSystem: unsupported OGR type: 5\n",
      "Skipping field LocalisedCharacterString: unsupported OGR type: 5\n",
      "Skipping field reference: unsupported OGR type: 13\n"
     ]
    },
    {
     "name": "stdout",
     "output_type": "stream",
     "text": [
      "537276\n"
     ]
    },
    {
     "name": "stderr",
     "output_type": "stream",
     "text": [
      "Skipping field informationSystem: unsupported OGR type: 5\n",
      "Skipping field LocalisedCharacterString: unsupported OGR type: 5\n",
      "Skipping field reference: unsupported OGR type: 13\n"
     ]
    },
    {
     "name": "stdout",
     "output_type": "stream",
     "text": [
      "537284\n"
     ]
    },
    {
     "name": "stderr",
     "output_type": "stream",
     "text": [
      "Skipping field informationSystem: unsupported OGR type: 5\n",
      "Skipping field LocalisedCharacterString: unsupported OGR type: 5\n",
      "Skipping field reference: unsupported OGR type: 13\n"
     ]
    },
    {
     "name": "stdout",
     "output_type": "stream",
     "text": [
      "537292\n"
     ]
    },
    {
     "name": "stderr",
     "output_type": "stream",
     "text": [
      "Skipping field informationSystem: unsupported OGR type: 5\n",
      "Skipping field LocalisedCharacterString: unsupported OGR type: 5\n",
      "Skipping field reference: unsupported OGR type: 13\n",
      "Skipping field informationSystem: unsupported OGR type: 5\n",
      "Skipping field LocalisedCharacterString: unsupported OGR type: 5\n",
      "Skipping field reference: unsupported OGR type: 13\n",
      "Skipping field informationSystem: unsupported OGR type: 5\n",
      "Skipping field LocalisedCharacterString: unsupported OGR type: 5\n",
      "Skipping field reference: unsupported OGR type: 13\n"
     ]
    },
    {
     "name": "stdout",
     "output_type": "stream",
     "text": [
      "536491\n",
      "536504\n",
      "536512\n"
     ]
    },
    {
     "name": "stderr",
     "output_type": "stream",
     "text": [
      "Skipping field informationSystem: unsupported OGR type: 5\n",
      "Skipping field LocalisedCharacterString: unsupported OGR type: 5\n",
      "Skipping field reference: unsupported OGR type: 13\n",
      "Skipping field informationSystem: unsupported OGR type: 5\n",
      "Skipping field LocalisedCharacterString: unsupported OGR type: 5\n",
      "Skipping field reference: unsupported OGR type: 13\n",
      "Skipping field informationSystem: unsupported OGR type: 5\n",
      "Skipping field LocalisedCharacterString: unsupported OGR type: 5\n",
      "Skipping field reference: unsupported OGR type: 13\n"
     ]
    },
    {
     "name": "stdout",
     "output_type": "stream",
     "text": [
      "536521\n",
      "533343\n"
     ]
    },
    {
     "name": "stderr",
     "output_type": "stream",
     "text": [
      "Skipping field informationSystem: unsupported OGR type: 5\n",
      "Skipping field LocalisedCharacterString: unsupported OGR type: 5\n",
      "Skipping field reference: unsupported OGR type: 13\n"
     ]
    },
    {
     "name": "stdout",
     "output_type": "stream",
     "text": [
      "533351\n",
      "533360\n"
     ]
    },
    {
     "name": "stderr",
     "output_type": "stream",
     "text": [
      "Skipping field informationSystem: unsupported OGR type: 5\n",
      "Skipping field LocalisedCharacterString: unsupported OGR type: 5\n",
      "Skipping field reference: unsupported OGR type: 13\n"
     ]
    },
    {
     "name": "stdout",
     "output_type": "stream",
     "text": [
      "533378\n"
     ]
    },
    {
     "name": "stderr",
     "output_type": "stream",
     "text": [
      "Skipping field informationSystem: unsupported OGR type: 5\n",
      "Skipping field LocalisedCharacterString: unsupported OGR type: 5\n",
      "Skipping field reference: unsupported OGR type: 13\n",
      "Skipping field informationSystem: unsupported OGR type: 5\n",
      "Skipping field LocalisedCharacterString: unsupported OGR type: 5\n",
      "Skipping field reference: unsupported OGR type: 13\n"
     ]
    },
    {
     "name": "stdout",
     "output_type": "stream",
     "text": [
      "533386\n",
      "539180\n"
     ]
    },
    {
     "name": "stderr",
     "output_type": "stream",
     "text": [
      "Skipping field informationSystem: unsupported OGR type: 5\n",
      "Skipping field LocalisedCharacterString: unsupported OGR type: 5\n",
      "Skipping field reference: unsupported OGR type: 13\n"
     ]
    },
    {
     "name": "stdout",
     "output_type": "stream",
     "text": [
      "539198\n"
     ]
    },
    {
     "name": "stderr",
     "output_type": "stream",
     "text": [
      "Skipping field informationSystem: unsupported OGR type: 5\n",
      "Skipping field LocalisedCharacterString: unsupported OGR type: 5\n",
      "Skipping field reference: unsupported OGR type: 13\n"
     ]
    },
    {
     "name": "stdout",
     "output_type": "stream",
     "text": [
      "539201\n"
     ]
    },
    {
     "name": "stderr",
     "output_type": "stream",
     "text": [
      "Skipping field informationSystem: unsupported OGR type: 5\n",
      "Skipping field LocalisedCharacterString: unsupported OGR type: 5\n",
      "Skipping field reference: unsupported OGR type: 13\n",
      "Skipping field informationSystem: unsupported OGR type: 5\n",
      "Skipping field LocalisedCharacterString: unsupported OGR type: 5\n",
      "Skipping field reference: unsupported OGR type: 13\n"
     ]
    },
    {
     "name": "stdout",
     "output_type": "stream",
     "text": [
      "538787\n",
      "538795\n"
     ]
    },
    {
     "name": "stderr",
     "output_type": "stream",
     "text": [
      "Skipping field informationSystem: unsupported OGR type: 5\n",
      "Skipping field LocalisedCharacterString: unsupported OGR type: 5\n",
      "Skipping field reference: unsupported OGR type: 13\n",
      "Skipping field informationSystem: unsupported OGR type: 5\n",
      "Skipping field LocalisedCharacterString: unsupported OGR type: 5\n",
      "Skipping field reference: unsupported OGR type: 13\n"
     ]
    },
    {
     "name": "stdout",
     "output_type": "stream",
     "text": [
      "538809\n",
      "538817\n"
     ]
    },
    {
     "name": "stderr",
     "output_type": "stream",
     "text": [
      "Skipping field informationSystem: unsupported OGR type: 5\n",
      "Skipping field LocalisedCharacterString: unsupported OGR type: 5\n",
      "Skipping field reference: unsupported OGR type: 13\n"
     ]
    },
    {
     "name": "stdout",
     "output_type": "stream",
     "text": [
      "538825\n"
     ]
    },
    {
     "name": "stderr",
     "output_type": "stream",
     "text": [
      "Skipping field informationSystem: unsupported OGR type: 5\n",
      "Skipping field LocalisedCharacterString: unsupported OGR type: 5\n",
      "Skipping field reference: unsupported OGR type: 13\n"
     ]
    },
    {
     "name": "stdout",
     "output_type": "stream",
     "text": [
      "538833\n"
     ]
    },
    {
     "name": "stderr",
     "output_type": "stream",
     "text": [
      "Skipping field informationSystem: unsupported OGR type: 5\n",
      "Skipping field LocalisedCharacterString: unsupported OGR type: 5\n",
      "Skipping field reference: unsupported OGR type: 13\n",
      "Skipping field informationSystem: unsupported OGR type: 5\n",
      "Skipping field LocalisedCharacterString: unsupported OGR type: 5\n",
      "Skipping field reference: unsupported OGR type: 13\n",
      "Skipping field informationSystem: unsupported OGR type: 5\n",
      "Skipping field LocalisedCharacterString: unsupported OGR type: 5\n",
      "Skipping field reference: unsupported OGR type: 13\n",
      "Skipping field informationSystem: unsupported OGR type: 5\n",
      "Skipping field LocalisedCharacterString: unsupported OGR type: 5\n",
      "Skipping field reference: unsupported OGR type: 13\n"
     ]
    },
    {
     "name": "stdout",
     "output_type": "stream",
     "text": [
      "538841\n",
      "536539\n",
      "536547\n",
      "536555\n"
     ]
    },
    {
     "name": "stderr",
     "output_type": "stream",
     "text": [
      "Skipping field informationSystem: unsupported OGR type: 5\n",
      "Skipping field LocalisedCharacterString: unsupported OGR type: 5\n",
      "Skipping field reference: unsupported OGR type: 13\n",
      "Skipping field informationSystem: unsupported OGR type: 5\n",
      "Skipping field LocalisedCharacterString: unsupported OGR type: 5\n",
      "Skipping field reference: unsupported OGR type: 13\n",
      "Skipping field informationSystem: unsupported OGR type: 5\n",
      "Skipping field LocalisedCharacterString: unsupported OGR type: 5\n",
      "Skipping field reference: unsupported OGR type: 13\n"
     ]
    },
    {
     "name": "stdout",
     "output_type": "stream",
     "text": [
      "532631\n",
      "532649\n",
      "532657\n"
     ]
    },
    {
     "name": "stderr",
     "output_type": "stream",
     "text": [
      "Skipping field informationSystem: unsupported OGR type: 5\n",
      "Skipping field LocalisedCharacterString: unsupported OGR type: 5\n",
      "Skipping field reference: unsupported OGR type: 13\n"
     ]
    },
    {
     "name": "stdout",
     "output_type": "stream",
     "text": [
      "532665\n"
     ]
    },
    {
     "name": "stderr",
     "output_type": "stream",
     "text": [
      "Skipping field informationSystem: unsupported OGR type: 5\n",
      "Skipping field LocalisedCharacterString: unsupported OGR type: 5\n",
      "Skipping field reference: unsupported OGR type: 13\n"
     ]
    },
    {
     "name": "stdout",
     "output_type": "stream",
     "text": [
      "532673\n"
     ]
    },
    {
     "name": "stderr",
     "output_type": "stream",
     "text": [
      "Skipping field informationSystem: unsupported OGR type: 5\n",
      "Skipping field LocalisedCharacterString: unsupported OGR type: 5\n",
      "Skipping field reference: unsupported OGR type: 13\n",
      "Skipping field informationSystem: unsupported OGR type: 5\n",
      "Skipping field LocalisedCharacterString: unsupported OGR type: 5\n",
      "Skipping field reference: unsupported OGR type: 13\n",
      "Skipping field informationSystem: unsupported OGR type: 5\n",
      "Skipping field LocalisedCharacterString: unsupported OGR type: 5\n",
      "Skipping field reference: unsupported OGR type: 13\n"
     ]
    },
    {
     "name": "stdout",
     "output_type": "stream",
     "text": [
      "532681\n",
      "532967\n",
      "532975\n"
     ]
    },
    {
     "name": "stderr",
     "output_type": "stream",
     "text": [
      "Skipping field informationSystem: unsupported OGR type: 5\n",
      "Skipping field LocalisedCharacterString: unsupported OGR type: 5\n",
      "Skipping field reference: unsupported OGR type: 13\n",
      "Skipping field informationSystem: unsupported OGR type: 5\n",
      "Skipping field LocalisedCharacterString: unsupported OGR type: 5\n",
      "Skipping field reference: unsupported OGR type: 13\n"
     ]
    },
    {
     "name": "stdout",
     "output_type": "stream",
     "text": [
      "532983\n",
      "539384\n"
     ]
    },
    {
     "name": "stderr",
     "output_type": "stream",
     "text": [
      "Skipping field informationSystem: unsupported OGR type: 5\n",
      "Skipping field LocalisedCharacterString: unsupported OGR type: 5\n",
      "Skipping field reference: unsupported OGR type: 13\n",
      "Skipping field informationSystem: unsupported OGR type: 5\n",
      "Skipping field LocalisedCharacterString: unsupported OGR type: 5\n",
      "Skipping field reference: unsupported OGR type: 13\n"
     ]
    },
    {
     "name": "stdout",
     "output_type": "stream",
     "text": [
      "539392\n",
      "539406\n"
     ]
    },
    {
     "name": "stderr",
     "output_type": "stream",
     "text": [
      "Skipping field informationSystem: unsupported OGR type: 5\n",
      "Skipping field LocalisedCharacterString: unsupported OGR type: 5\n",
      "Skipping field reference: unsupported OGR type: 13\n",
      "Skipping field informationSystem: unsupported OGR type: 5\n",
      "Skipping field LocalisedCharacterString: unsupported OGR type: 5\n",
      "Skipping field reference: unsupported OGR type: 13\n"
     ]
    },
    {
     "name": "stdout",
     "output_type": "stream",
     "text": [
      "539414\n",
      "538183\n"
     ]
    },
    {
     "name": "stderr",
     "output_type": "stream",
     "text": [
      "Skipping field informationSystem: unsupported OGR type: 5\n",
      "Skipping field LocalisedCharacterString: unsupported OGR type: 5\n",
      "Skipping field reference: unsupported OGR type: 13\n"
     ]
    },
    {
     "name": "stdout",
     "output_type": "stream",
     "text": [
      "539317\n"
     ]
    },
    {
     "name": "stderr",
     "output_type": "stream",
     "text": [
      "Skipping field informationSystem: unsupported OGR type: 5\n",
      "Skipping field LocalisedCharacterString: unsupported OGR type: 5\n",
      "Skipping field reference: unsupported OGR type: 13\n",
      "Skipping field informationSystem: unsupported OGR type: 5\n",
      "Skipping field LocalisedCharacterString: unsupported OGR type: 5\n",
      "Skipping field reference: unsupported OGR type: 13\n"
     ]
    },
    {
     "name": "stdout",
     "output_type": "stream",
     "text": [
      "539325\n",
      "539431\n"
     ]
    },
    {
     "name": "stderr",
     "output_type": "stream",
     "text": [
      "Skipping field informationSystem: unsupported OGR type: 5\n",
      "Skipping field LocalisedCharacterString: unsupported OGR type: 5\n",
      "Skipping field reference: unsupported OGR type: 13\n",
      "Skipping field informationSystem: unsupported OGR type: 5\n",
      "Skipping field LocalisedCharacterString: unsupported OGR type: 5\n",
      "Skipping field reference: unsupported OGR type: 13\n",
      "Skipping field informationSystem: unsupported OGR type: 5\n",
      "Skipping field LocalisedCharacterString: unsupported OGR type: 5\n",
      "Skipping field reference: unsupported OGR type: 13\n",
      "Skipping field informationSystem: unsupported OGR type: 5\n",
      "Skipping field LocalisedCharacterString: unsupported OGR type: 5\n",
      "Skipping field reference: unsupported OGR type: 13\n"
     ]
    },
    {
     "name": "stdout",
     "output_type": "stream",
     "text": [
      "539457\n",
      "536709\n",
      "536717\n",
      "536725\n"
     ]
    },
    {
     "name": "stderr",
     "output_type": "stream",
     "text": [
      "Skipping field informationSystem: unsupported OGR type: 5\n",
      "Skipping field LocalisedCharacterString: unsupported OGR type: 5\n",
      "Skipping field reference: unsupported OGR type: 13\n",
      "Skipping field informationSystem: unsupported OGR type: 5\n",
      "Skipping field LocalisedCharacterString: unsupported OGR type: 5\n",
      "Skipping field reference: unsupported OGR type: 13\n",
      "Skipping field informationSystem: unsupported OGR type: 5\n",
      "Skipping field LocalisedCharacterString: unsupported OGR type: 5\n",
      "Skipping field reference: unsupported OGR type: 13\n",
      "Skipping field informationSystem: unsupported OGR type: 5\n",
      "Skipping field LocalisedCharacterString: unsupported OGR type: 5\n",
      "Skipping field reference: unsupported OGR type: 13\n"
     ]
    },
    {
     "name": "stdout",
     "output_type": "stream",
     "text": [
      "536733\n",
      "536741\n",
      "536750\n"
     ]
    },
    {
     "name": "stderr",
     "output_type": "stream",
     "text": [
      "Skipping field informationSystem: unsupported OGR type: 5\n",
      "Skipping field LocalisedCharacterString: unsupported OGR type: 5\n",
      "Skipping field reference: unsupported OGR type: 13\n",
      "Skipping field informationSystem: unsupported OGR type: 5\n",
      "Skipping field LocalisedCharacterString: unsupported OGR type: 5\n",
      "Skipping field reference: unsupported OGR type: 13\n"
     ]
    },
    {
     "name": "stdout",
     "output_type": "stream",
     "text": [
      "536768\n",
      "533513\n",
      "533521\n"
     ]
    },
    {
     "name": "stderr",
     "output_type": "stream",
     "text": [
      "Skipping field informationSystem: unsupported OGR type: 5\n",
      "Skipping field LocalisedCharacterString: unsupported OGR type: 5\n",
      "Skipping field reference: unsupported OGR type: 13\n",
      "Skipping field informationSystem: unsupported OGR type: 5\n",
      "Skipping field LocalisedCharacterString: unsupported OGR type: 5\n",
      "Skipping field reference: unsupported OGR type: 13\n",
      "Skipping field informationSystem: unsupported OGR type: 5\n",
      "Skipping field LocalisedCharacterString: unsupported OGR type: 5\n",
      "Skipping field reference: unsupported OGR type: 13\n"
     ]
    },
    {
     "name": "stdout",
     "output_type": "stream",
     "text": [
      "533530\n",
      "533548\n",
      "533556\n"
     ]
    },
    {
     "name": "stderr",
     "output_type": "stream",
     "text": [
      "Skipping field informationSystem: unsupported OGR type: 5\n",
      "Skipping field LocalisedCharacterString: unsupported OGR type: 5\n",
      "Skipping field reference: unsupported OGR type: 13\n"
     ]
    },
    {
     "name": "stdout",
     "output_type": "stream",
     "text": [
      "538191\n"
     ]
    },
    {
     "name": "stderr",
     "output_type": "stream",
     "text": [
      "Skipping field informationSystem: unsupported OGR type: 5\n",
      "Skipping field LocalisedCharacterString: unsupported OGR type: 5\n",
      "Skipping field reference: unsupported OGR type: 13\n"
     ]
    },
    {
     "name": "stdout",
     "output_type": "stream",
     "text": [
      "538221\n"
     ]
    },
    {
     "name": "stderr",
     "output_type": "stream",
     "text": [
      "Skipping field informationSystem: unsupported OGR type: 5\n",
      "Skipping field LocalisedCharacterString: unsupported OGR type: 5\n",
      "Skipping field reference: unsupported OGR type: 13\n"
     ]
    },
    {
     "name": "stdout",
     "output_type": "stream",
     "text": [
      "538671\n"
     ]
    },
    {
     "name": "stderr",
     "output_type": "stream",
     "text": [
      "Skipping field informationSystem: unsupported OGR type: 5\n",
      "Skipping field LocalisedCharacterString: unsupported OGR type: 5\n",
      "Skipping field reference: unsupported OGR type: 13\n"
     ]
    },
    {
     "name": "stdout",
     "output_type": "stream",
     "text": [
      "538680\n"
     ]
    },
    {
     "name": "stderr",
     "output_type": "stream",
     "text": [
      "Skipping field informationSystem: unsupported OGR type: 5\n",
      "Skipping field LocalisedCharacterString: unsupported OGR type: 5\n",
      "Skipping field reference: unsupported OGR type: 13\n",
      "Skipping field informationSystem: unsupported OGR type: 5\n",
      "Skipping field LocalisedCharacterString: unsupported OGR type: 5\n",
      "Skipping field reference: unsupported OGR type: 13\n",
      "Skipping field informationSystem: unsupported OGR type: 5\n",
      "Skipping field LocalisedCharacterString: unsupported OGR type: 5\n",
      "Skipping field reference: unsupported OGR type: 13\n"
     ]
    },
    {
     "name": "stdout",
     "output_type": "stream",
     "text": [
      "538698\n",
      "539473\n",
      "539481\n"
     ]
    },
    {
     "name": "stderr",
     "output_type": "stream",
     "text": [
      "Skipping field informationSystem: unsupported OGR type: 5\n",
      "Skipping field LocalisedCharacterString: unsupported OGR type: 5\n",
      "Skipping field reference: unsupported OGR type: 13\n"
     ]
    },
    {
     "name": "stdout",
     "output_type": "stream",
     "text": [
      "537047\n"
     ]
    },
    {
     "name": "stderr",
     "output_type": "stream",
     "text": [
      "Skipping field informationSystem: unsupported OGR type: 5\n",
      "Skipping field LocalisedCharacterString: unsupported OGR type: 5\n",
      "Skipping field reference: unsupported OGR type: 13\n",
      "Skipping field informationSystem: unsupported OGR type: 5\n",
      "Skipping field LocalisedCharacterString: unsupported OGR type: 5\n",
      "Skipping field reference: unsupported OGR type: 13\n",
      "Skipping field informationSystem: unsupported OGR type: 5\n",
      "Skipping field LocalisedCharacterString: unsupported OGR type: 5\n",
      "Skipping field reference: unsupported OGR type: 13\n",
      "Skipping field informationSystem: unsupported OGR type: 5\n",
      "Skipping field LocalisedCharacterString: unsupported OGR type: 5\n",
      "Skipping field reference: unsupported OGR type: 13\n"
     ]
    },
    {
     "name": "stdout",
     "output_type": "stream",
     "text": [
      "537055\n",
      "537063\n",
      "537071\n",
      "537080\n"
     ]
    },
    {
     "name": "stderr",
     "output_type": "stream",
     "text": [
      "Skipping field informationSystem: unsupported OGR type: 5\n",
      "Skipping field LocalisedCharacterString: unsupported OGR type: 5\n",
      "Skipping field reference: unsupported OGR type: 13\n"
     ]
    },
    {
     "name": "stdout",
     "output_type": "stream",
     "text": [
      "537098\n"
     ]
    },
    {
     "name": "stderr",
     "output_type": "stream",
     "text": [
      "Skipping field informationSystem: unsupported OGR type: 5\n",
      "Skipping field LocalisedCharacterString: unsupported OGR type: 5\n",
      "Skipping field reference: unsupported OGR type: 13\n"
     ]
    },
    {
     "name": "stdout",
     "output_type": "stream",
     "text": [
      "537101\n"
     ]
    },
    {
     "name": "stderr",
     "output_type": "stream",
     "text": [
      "Skipping field informationSystem: unsupported OGR type: 5\n",
      "Skipping field LocalisedCharacterString: unsupported OGR type: 5\n",
      "Skipping field reference: unsupported OGR type: 13\n",
      "Skipping field informationSystem: unsupported OGR type: 5\n",
      "Skipping field LocalisedCharacterString: unsupported OGR type: 5\n",
      "Skipping field reference: unsupported OGR type: 13\n"
     ]
    },
    {
     "name": "stdout",
     "output_type": "stream",
     "text": [
      "537110\n",
      "533394\n"
     ]
    },
    {
     "name": "stderr",
     "output_type": "stream",
     "text": [
      "Skipping field informationSystem: unsupported OGR type: 5\n",
      "Skipping field LocalisedCharacterString: unsupported OGR type: 5\n",
      "Skipping field reference: unsupported OGR type: 13\n"
     ]
    },
    {
     "name": "stdout",
     "output_type": "stream",
     "text": [
      "533408\n"
     ]
    },
    {
     "name": "stderr",
     "output_type": "stream",
     "text": [
      "Skipping field informationSystem: unsupported OGR type: 5\n",
      "Skipping field LocalisedCharacterString: unsupported OGR type: 5\n",
      "Skipping field reference: unsupported OGR type: 13\n"
     ]
    },
    {
     "name": "stdout",
     "output_type": "stream",
     "text": [
      "533416\n"
     ]
    },
    {
     "name": "stderr",
     "output_type": "stream",
     "text": [
      "Skipping field informationSystem: unsupported OGR type: 5\n",
      "Skipping field LocalisedCharacterString: unsupported OGR type: 5\n",
      "Skipping field reference: unsupported OGR type: 13\n"
     ]
    },
    {
     "name": "stdout",
     "output_type": "stream",
     "text": [
      "533424\n"
     ]
    },
    {
     "name": "stderr",
     "output_type": "stream",
     "text": [
      "Skipping field informationSystem: unsupported OGR type: 5\n",
      "Skipping field LocalisedCharacterString: unsupported OGR type: 5\n",
      "Skipping field reference: unsupported OGR type: 13\n",
      "Skipping field informationSystem: unsupported OGR type: 5\n",
      "Skipping field LocalisedCharacterString: unsupported OGR type: 5\n",
      "Skipping field reference: unsupported OGR type: 13\n"
     ]
    },
    {
     "name": "stdout",
     "output_type": "stream",
     "text": [
      "533432\n",
      "538701\n"
     ]
    },
    {
     "name": "stderr",
     "output_type": "stream",
     "text": [
      "Skipping field informationSystem: unsupported OGR type: 5\n",
      "Skipping field LocalisedCharacterString: unsupported OGR type: 5\n",
      "Skipping field reference: unsupported OGR type: 13\n"
     ]
    },
    {
     "name": "stdout",
     "output_type": "stream",
     "text": [
      "538710\n"
     ]
    },
    {
     "name": "stderr",
     "output_type": "stream",
     "text": [
      "Skipping field informationSystem: unsupported OGR type: 5\n",
      "Skipping field LocalisedCharacterString: unsupported OGR type: 5\n",
      "Skipping field reference: unsupported OGR type: 13\n"
     ]
    },
    {
     "name": "stdout",
     "output_type": "stream",
     "text": [
      "539210\n"
     ]
    },
    {
     "name": "stderr",
     "output_type": "stream",
     "text": [
      "Skipping field informationSystem: unsupported OGR type: 5\n",
      "Skipping field LocalisedCharacterString: unsupported OGR type: 5\n",
      "Skipping field reference: unsupported OGR type: 13\n"
     ]
    },
    {
     "name": "stdout",
     "output_type": "stream",
     "text": [
      "539228\n"
     ]
    },
    {
     "name": "stderr",
     "output_type": "stream",
     "text": [
      "Skipping field informationSystem: unsupported OGR type: 5\n",
      "Skipping field LocalisedCharacterString: unsupported OGR type: 5\n",
      "Skipping field reference: unsupported OGR type: 13\n",
      "Skipping field informationSystem: unsupported OGR type: 5\n",
      "Skipping field LocalisedCharacterString: unsupported OGR type: 5\n",
      "Skipping field reference: unsupported OGR type: 13\n"
     ]
    },
    {
     "name": "stdout",
     "output_type": "stream",
     "text": [
      "539236\n",
      "538256\n"
     ]
    },
    {
     "name": "stderr",
     "output_type": "stream",
     "text": [
      "Skipping field informationSystem: unsupported OGR type: 5\n",
      "Skipping field LocalisedCharacterString: unsupported OGR type: 5\n",
      "Skipping field reference: unsupported OGR type: 13\n",
      "Skipping field informationSystem: unsupported OGR type: 5\n",
      "Skipping field LocalisedCharacterString: unsupported OGR type: 5\n",
      "Skipping field reference: unsupported OGR type: 13\n"
     ]
    },
    {
     "name": "stdout",
     "output_type": "stream",
     "text": [
      "538264\n"
     ]
    },
    {
     "name": "stderr",
     "output_type": "stream",
     "text": [
      "Skipping field informationSystem: unsupported OGR type: 5\n",
      "Skipping field LocalisedCharacterString: unsupported OGR type: 5\n",
      "Skipping field reference: unsupported OGR type: 13\n",
      "Skipping field informationSystem: unsupported OGR type: 5\n",
      "Skipping field LocalisedCharacterString: unsupported OGR type: 5\n",
      "Skipping field reference: unsupported OGR type: 13\n",
      "Skipping field informationSystem: unsupported OGR type: 5\n",
      "Skipping field LocalisedCharacterString: unsupported OGR type: 5\n",
      "Skipping field reference: unsupported OGR type: 13\n"
     ]
    },
    {
     "name": "stdout",
     "output_type": "stream",
     "text": [
      "538850\n",
      "538868\n",
      "537306\n",
      "536563\n"
     ]
    },
    {
     "name": "stderr",
     "output_type": "stream",
     "text": [
      "Skipping field informationSystem: unsupported OGR type: 5\n",
      "Skipping field LocalisedCharacterString: unsupported OGR type: 5\n",
      "Skipping field reference: unsupported OGR type: 13\n",
      "Skipping field informationSystem: unsupported OGR type: 5\n",
      "Skipping field LocalisedCharacterString: unsupported OGR type: 5\n",
      "Skipping field reference: unsupported OGR type: 13\n",
      "Skipping field informationSystem: unsupported OGR type: 5\n",
      "Skipping field LocalisedCharacterString: unsupported OGR type: 5\n",
      "Skipping field reference: unsupported OGR type: 13\n"
     ]
    },
    {
     "name": "stdout",
     "output_type": "stream",
     "text": [
      "536571\n",
      "536580\n",
      "536598\n"
     ]
    },
    {
     "name": "stderr",
     "output_type": "stream",
     "text": [
      "Skipping field informationSystem: unsupported OGR type: 5\n",
      "Skipping field LocalisedCharacterString: unsupported OGR type: 5\n",
      "Skipping field reference: unsupported OGR type: 13\n",
      "Skipping field informationSystem: unsupported OGR type: 5\n",
      "Skipping field LocalisedCharacterString: unsupported OGR type: 5\n",
      "Skipping field reference: unsupported OGR type: 13\n"
     ]
    },
    {
     "name": "stdout",
     "output_type": "stream",
     "text": [
      "532991\n",
      "533009\n"
     ]
    },
    {
     "name": "stderr",
     "output_type": "stream",
     "text": [
      "Skipping field informationSystem: unsupported OGR type: 5\n",
      "Skipping field LocalisedCharacterString: unsupported OGR type: 5\n",
      "Skipping field reference: unsupported OGR type: 13\n"
     ]
    },
    {
     "name": "stdout",
     "output_type": "stream",
     "text": [
      "533017\n"
     ]
    },
    {
     "name": "stderr",
     "output_type": "stream",
     "text": [
      "Skipping field informationSystem: unsupported OGR type: 5\n",
      "Skipping field LocalisedCharacterString: unsupported OGR type: 5\n",
      "Skipping field reference: unsupported OGR type: 13\n",
      "Skipping field informationSystem: unsupported OGR type: 5\n",
      "Skipping field LocalisedCharacterString: unsupported OGR type: 5\n",
      "Skipping field reference: unsupported OGR type: 13\n"
     ]
    },
    {
     "name": "stdout",
     "output_type": "stream",
     "text": [
      "533025\n",
      "533033\n"
     ]
    },
    {
     "name": "stderr",
     "output_type": "stream",
     "text": [
      "Skipping field informationSystem: unsupported OGR type: 5\n",
      "Skipping field LocalisedCharacterString: unsupported OGR type: 5\n",
      "Skipping field reference: unsupported OGR type: 13\n",
      "Skipping field informationSystem: unsupported OGR type: 5\n",
      "Skipping field LocalisedCharacterString: unsupported OGR type: 5\n",
      "Skipping field reference: unsupported OGR type: 13\n"
     ]
    },
    {
     "name": "stdout",
     "output_type": "stream",
     "text": [
      "533041\n",
      "537161\n"
     ]
    },
    {
     "name": "stderr",
     "output_type": "stream",
     "text": [
      "Skipping field informationSystem: unsupported OGR type: 5\n",
      "Skipping field LocalisedCharacterString: unsupported OGR type: 5\n",
      "Skipping field reference: unsupported OGR type: 13\n",
      "Skipping field informationSystem: unsupported OGR type: 5\n",
      "Skipping field LocalisedCharacterString: unsupported OGR type: 5\n",
      "Skipping field reference: unsupported OGR type: 13\n",
      "Skipping field informationSystem: unsupported OGR type: 5\n",
      "Skipping field LocalisedCharacterString: unsupported OGR type: 5\n",
      "Skipping field reference: unsupported OGR type: 13\n",
      "Skipping field informationSystem: unsupported OGR type: 5\n",
      "Skipping field LocalisedCharacterString: unsupported OGR type: 5\n",
      "Skipping field reference: unsupported OGR type: 13\n"
     ]
    },
    {
     "name": "stdout",
     "output_type": "stream",
     "text": [
      "537179\n",
      "537187\n",
      "537195\n",
      "537209\n"
     ]
    },
    {
     "name": "stderr",
     "output_type": "stream",
     "text": [
      "Skipping field informationSystem: unsupported OGR type: 5\n",
      "Skipping field LocalisedCharacterString: unsupported OGR type: 5\n",
      "Skipping field reference: unsupported OGR type: 13\n"
     ]
    },
    {
     "name": "stdout",
     "output_type": "stream",
     "text": [
      "537501\n"
     ]
    },
    {
     "name": "stderr",
     "output_type": "stream",
     "text": [
      "Skipping field informationSystem: unsupported OGR type: 5\n",
      "Skipping field LocalisedCharacterString: unsupported OGR type: 5\n",
      "Skipping field reference: unsupported OGR type: 13\n",
      "Skipping field informationSystem: unsupported OGR type: 5\n",
      "Skipping field LocalisedCharacterString: unsupported OGR type: 5\n",
      "Skipping field reference: unsupported OGR type: 13\n",
      "Skipping field informationSystem: unsupported OGR type: 5\n",
      "Skipping field LocalisedCharacterString: unsupported OGR type: 5\n",
      "Skipping field reference: unsupported OGR type: 13\n",
      "Skipping field informationSystem: unsupported OGR type: 5\n",
      "Skipping field LocalisedCharacterString: unsupported OGR type: 5\n",
      "Skipping field reference: unsupported OGR type: 13\n"
     ]
    },
    {
     "name": "stdout",
     "output_type": "stream",
     "text": [
      "537519\n",
      "537527\n",
      "537535\n",
      "537543\n"
     ]
    },
    {
     "name": "stderr",
     "output_type": "stream",
     "text": [
      "Skipping field informationSystem: unsupported OGR type: 5\n",
      "Skipping field LocalisedCharacterString: unsupported OGR type: 5\n",
      "Skipping field reference: unsupported OGR type: 13\n"
     ]
    },
    {
     "name": "stdout",
     "output_type": "stream",
     "text": [
      "537551\n"
     ]
    },
    {
     "name": "stderr",
     "output_type": "stream",
     "text": [
      "Skipping field informationSystem: unsupported OGR type: 5\n",
      "Skipping field LocalisedCharacterString: unsupported OGR type: 5\n",
      "Skipping field reference: unsupported OGR type: 13\n"
     ]
    },
    {
     "name": "stdout",
     "output_type": "stream",
     "text": [
      "537560\n"
     ]
    },
    {
     "name": "stderr",
     "output_type": "stream",
     "text": [
      "Skipping field informationSystem: unsupported OGR type: 5\n",
      "Skipping field LocalisedCharacterString: unsupported OGR type: 5\n",
      "Skipping field reference: unsupported OGR type: 13\n"
     ]
    },
    {
     "name": "stdout",
     "output_type": "stream",
     "text": [
      "537578\n"
     ]
    },
    {
     "name": "stderr",
     "output_type": "stream",
     "text": [
      "Skipping field informationSystem: unsupported OGR type: 5\n",
      "Skipping field LocalisedCharacterString: unsupported OGR type: 5\n",
      "Skipping field reference: unsupported OGR type: 13\n",
      "Skipping field informationSystem: unsupported OGR type: 5\n",
      "Skipping field LocalisedCharacterString: unsupported OGR type: 5\n",
      "Skipping field reference: unsupported OGR type: 13\n",
      "Skipping field informationSystem: unsupported OGR type: 5\n",
      "Skipping field LocalisedCharacterString: unsupported OGR type: 5\n",
      "Skipping field reference: unsupported OGR type: 13\n"
     ]
    },
    {
     "name": "stdout",
     "output_type": "stream",
     "text": [
      "537586\n",
      "537861\n",
      "537870\n"
     ]
    },
    {
     "name": "stderr",
     "output_type": "stream",
     "text": [
      "Skipping field informationSystem: unsupported OGR type: 5\n",
      "Skipping field LocalisedCharacterString: unsupported OGR type: 5\n",
      "Skipping field reference: unsupported OGR type: 13\n",
      "Skipping field informationSystem: unsupported OGR type: 5\n",
      "Skipping field LocalisedCharacterString: unsupported OGR type: 5\n",
      "Skipping field reference: unsupported OGR type: 13\n"
     ]
    },
    {
     "name": "stdout",
     "output_type": "stream",
     "text": [
      "537888\n",
      "537896\n"
     ]
    },
    {
     "name": "stderr",
     "output_type": "stream",
     "text": [
      "Skipping field informationSystem: unsupported OGR type: 5\n",
      "Skipping field LocalisedCharacterString: unsupported OGR type: 5\n",
      "Skipping field reference: unsupported OGR type: 13\n",
      "Skipping field informationSystem: unsupported OGR type: 5\n",
      "Skipping field LocalisedCharacterString: unsupported OGR type: 5\n",
      "Skipping field reference: unsupported OGR type: 13\n"
     ]
    },
    {
     "name": "stdout",
     "output_type": "stream",
     "text": [
      "537900\n",
      "538892\n"
     ]
    },
    {
     "name": "stderr",
     "output_type": "stream",
     "text": [
      "Skipping field informationSystem: unsupported OGR type: 5\n",
      "Skipping field LocalisedCharacterString: unsupported OGR type: 5\n",
      "Skipping field reference: unsupported OGR type: 13\n"
     ]
    },
    {
     "name": "stdout",
     "output_type": "stream",
     "text": [
      "538906\n"
     ]
    },
    {
     "name": "stderr",
     "output_type": "stream",
     "text": [
      "Skipping field informationSystem: unsupported OGR type: 5\n",
      "Skipping field LocalisedCharacterString: unsupported OGR type: 5\n",
      "Skipping field reference: unsupported OGR type: 13\n",
      "Skipping field informationSystem: unsupported OGR type: 5\n",
      "Skipping field LocalisedCharacterString: unsupported OGR type: 5\n",
      "Skipping field reference: unsupported OGR type: 13\n"
     ]
    },
    {
     "name": "stdout",
     "output_type": "stream",
     "text": [
      "538914\n",
      "538922\n"
     ]
    },
    {
     "name": "stderr",
     "output_type": "stream",
     "text": [
      "Skipping field informationSystem: unsupported OGR type: 5\n",
      "Skipping field LocalisedCharacterString: unsupported OGR type: 5\n",
      "Skipping field reference: unsupported OGR type: 13\n",
      "Skipping field informationSystem: unsupported OGR type: 5\n",
      "Skipping field LocalisedCharacterString: unsupported OGR type: 5\n",
      "Skipping field reference: unsupported OGR type: 13\n",
      "Skipping field informationSystem: unsupported OGR type: 5\n",
      "Skipping field LocalisedCharacterString: unsupported OGR type: 5\n",
      "Skipping field reference: unsupported OGR type: 13\n"
     ]
    },
    {
     "name": "stdout",
     "output_type": "stream",
     "text": [
      "539490\n",
      "537314\n",
      "537322\n"
     ]
    },
    {
     "name": "stderr",
     "output_type": "stream",
     "text": [
      "Skipping field informationSystem: unsupported OGR type: 5\n",
      "Skipping field LocalisedCharacterString: unsupported OGR type: 5\n",
      "Skipping field reference: unsupported OGR type: 13\n",
      "Skipping field informationSystem: unsupported OGR type: 5\n",
      "Skipping field LocalisedCharacterString: unsupported OGR type: 5\n",
      "Skipping field reference: unsupported OGR type: 13\n"
     ]
    },
    {
     "name": "stdout",
     "output_type": "stream",
     "text": [
      "537594\n",
      "537608\n"
     ]
    },
    {
     "name": "stderr",
     "output_type": "stream",
     "text": [
      "Skipping field informationSystem: unsupported OGR type: 5\n",
      "Skipping field LocalisedCharacterString: unsupported OGR type: 5\n",
      "Skipping field reference: unsupported OGR type: 13\n"
     ]
    },
    {
     "name": "stdout",
     "output_type": "stream",
     "text": [
      "537616\n"
     ]
    },
    {
     "name": "stderr",
     "output_type": "stream",
     "text": [
      "Skipping field informationSystem: unsupported OGR type: 5\n",
      "Skipping field LocalisedCharacterString: unsupported OGR type: 5\n",
      "Skipping field reference: unsupported OGR type: 13\n"
     ]
    },
    {
     "name": "stdout",
     "output_type": "stream",
     "text": [
      "537624\n"
     ]
    },
    {
     "name": "stderr",
     "output_type": "stream",
     "text": [
      "Skipping field informationSystem: unsupported OGR type: 5\n",
      "Skipping field LocalisedCharacterString: unsupported OGR type: 5\n",
      "Skipping field reference: unsupported OGR type: 13\n"
     ]
    },
    {
     "name": "stdout",
     "output_type": "stream",
     "text": [
      "537632\n"
     ]
    },
    {
     "name": "stderr",
     "output_type": "stream",
     "text": [
      "Skipping field informationSystem: unsupported OGR type: 5\n",
      "Skipping field LocalisedCharacterString: unsupported OGR type: 5\n",
      "Skipping field reference: unsupported OGR type: 13\n"
     ]
    },
    {
     "name": "stdout",
     "output_type": "stream",
     "text": [
      "537641\n"
     ]
    },
    {
     "name": "stderr",
     "output_type": "stream",
     "text": [
      "Skipping field informationSystem: unsupported OGR type: 5\n",
      "Skipping field LocalisedCharacterString: unsupported OGR type: 5\n",
      "Skipping field reference: unsupported OGR type: 13\n"
     ]
    },
    {
     "name": "stdout",
     "output_type": "stream",
     "text": [
      "537659\n"
     ]
    },
    {
     "name": "stderr",
     "output_type": "stream",
     "text": [
      "Skipping field informationSystem: unsupported OGR type: 5\n",
      "Skipping field LocalisedCharacterString: unsupported OGR type: 5\n",
      "Skipping field reference: unsupported OGR type: 13\n"
     ]
    },
    {
     "name": "stdout",
     "output_type": "stream",
     "text": [
      "537667\n"
     ]
    },
    {
     "name": "stderr",
     "output_type": "stream",
     "text": [
      "Skipping field informationSystem: unsupported OGR type: 5\n",
      "Skipping field LocalisedCharacterString: unsupported OGR type: 5\n",
      "Skipping field reference: unsupported OGR type: 13\n"
     ]
    },
    {
     "name": "stdout",
     "output_type": "stream",
     "text": [
      "537675\n"
     ]
    },
    {
     "name": "stderr",
     "output_type": "stream",
     "text": [
      "Skipping field informationSystem: unsupported OGR type: 5\n",
      "Skipping field LocalisedCharacterString: unsupported OGR type: 5\n",
      "Skipping field reference: unsupported OGR type: 13\n"
     ]
    },
    {
     "name": "stdout",
     "output_type": "stream",
     "text": [
      "537683\n"
     ]
    },
    {
     "name": "stderr",
     "output_type": "stream",
     "text": [
      "Skipping field informationSystem: unsupported OGR type: 5\n",
      "Skipping field LocalisedCharacterString: unsupported OGR type: 5\n",
      "Skipping field reference: unsupported OGR type: 13\n"
     ]
    },
    {
     "name": "stdout",
     "output_type": "stream",
     "text": [
      "555762\n"
     ]
    },
    {
     "name": "stderr",
     "output_type": "stream",
     "text": [
      "Skipping field informationSystem: unsupported OGR type: 5\n",
      "Skipping field LocalisedCharacterString: unsupported OGR type: 5\n",
      "Skipping field reference: unsupported OGR type: 13\n"
     ]
    },
    {
     "name": "stdout",
     "output_type": "stream",
     "text": [
      "555711\n"
     ]
    },
    {
     "name": "stderr",
     "output_type": "stream",
     "text": [
      "Skipping field informationSystem: unsupported OGR type: 5\n",
      "Skipping field LocalisedCharacterString: unsupported OGR type: 5\n",
      "Skipping field reference: unsupported OGR type: 13\n",
      "Skipping field informationSystem: unsupported OGR type: 5\n",
      "Skipping field LocalisedCharacterString: unsupported OGR type: 5\n",
      "Skipping field reference: unsupported OGR type: 13\n"
     ]
    },
    {
     "name": "stdout",
     "output_type": "stream",
     "text": [
      "546291\n",
      "539341\n"
     ]
    },
    {
     "name": "stderr",
     "output_type": "stream",
     "text": [
      "Skipping field informationSystem: unsupported OGR type: 5\n",
      "Skipping field LocalisedCharacterString: unsupported OGR type: 5\n",
      "Skipping field reference: unsupported OGR type: 13\n"
     ]
    },
    {
     "name": "stdout",
     "output_type": "stream",
     "text": [
      "539503\n"
     ]
    },
    {
     "ename": "ConnectTimeout",
     "evalue": "_ssl.c:983: The handshake operation timed out",
     "output_type": "error",
     "traceback": [
      "\u001b[0;31m---------------------------------------------------------------------------\u001b[0m",
      "\u001b[0;31mConnectTimeout\u001b[0m                            Traceback (most recent call last)",
      "File \u001b[0;32m~/miniconda3/envs/urban_taxonomy/lib/python3.12/site-packages/httpx/_transports/default.py:69\u001b[0m, in \u001b[0;36mmap_httpcore_exceptions\u001b[0;34m()\u001b[0m\n\u001b[1;32m     68\u001b[0m \u001b[38;5;28;01mtry\u001b[39;00m:\n\u001b[0;32m---> 69\u001b[0m     \u001b[38;5;28;01myield\u001b[39;00m\n\u001b[1;32m     70\u001b[0m \u001b[38;5;28;01mexcept\u001b[39;00m \u001b[38;5;167;01mException\u001b[39;00m \u001b[38;5;28;01mas\u001b[39;00m exc:\n",
      "File \u001b[0;32m~/miniconda3/envs/urban_taxonomy/lib/python3.12/site-packages/httpx/_transports/default.py:233\u001b[0m, in \u001b[0;36mHTTPTransport.handle_request\u001b[0;34m(self, request)\u001b[0m\n\u001b[1;32m    232\u001b[0m \u001b[38;5;28;01mwith\u001b[39;00m map_httpcore_exceptions():\n\u001b[0;32m--> 233\u001b[0m     resp \u001b[38;5;241m=\u001b[39m \u001b[38;5;28;43mself\u001b[39;49m\u001b[38;5;241;43m.\u001b[39;49m\u001b[43m_pool\u001b[49m\u001b[38;5;241;43m.\u001b[39;49m\u001b[43mhandle_request\u001b[49m\u001b[43m(\u001b[49m\u001b[43mreq\u001b[49m\u001b[43m)\u001b[49m\n\u001b[1;32m    235\u001b[0m \u001b[38;5;28;01massert\u001b[39;00m \u001b[38;5;28misinstance\u001b[39m(resp\u001b[38;5;241m.\u001b[39mstream, typing\u001b[38;5;241m.\u001b[39mIterable)\n",
      "File \u001b[0;32m~/miniconda3/envs/urban_taxonomy/lib/python3.12/site-packages/httpcore/_sync/connection_pool.py:216\u001b[0m, in \u001b[0;36mConnectionPool.handle_request\u001b[0;34m(self, request)\u001b[0m\n\u001b[1;32m    215\u001b[0m     \u001b[38;5;28mself\u001b[39m\u001b[38;5;241m.\u001b[39m_close_connections(closing)\n\u001b[0;32m--> 216\u001b[0m     \u001b[38;5;28;01mraise\u001b[39;00m exc \u001b[38;5;28;01mfrom\u001b[39;00m \u001b[38;5;28;01mNone\u001b[39;00m\n\u001b[1;32m    218\u001b[0m \u001b[38;5;66;03m# Return the response. Note that in this case we still have to manage\u001b[39;00m\n\u001b[1;32m    219\u001b[0m \u001b[38;5;66;03m# the point at which the response is closed.\u001b[39;00m\n",
      "File \u001b[0;32m~/miniconda3/envs/urban_taxonomy/lib/python3.12/site-packages/httpcore/_sync/connection_pool.py:196\u001b[0m, in \u001b[0;36mConnectionPool.handle_request\u001b[0;34m(self, request)\u001b[0m\n\u001b[1;32m    194\u001b[0m \u001b[38;5;28;01mtry\u001b[39;00m:\n\u001b[1;32m    195\u001b[0m     \u001b[38;5;66;03m# Send the request on the assigned connection.\u001b[39;00m\n\u001b[0;32m--> 196\u001b[0m     response \u001b[38;5;241m=\u001b[39m \u001b[43mconnection\u001b[49m\u001b[38;5;241;43m.\u001b[39;49m\u001b[43mhandle_request\u001b[49m\u001b[43m(\u001b[49m\n\u001b[1;32m    197\u001b[0m \u001b[43m        \u001b[49m\u001b[43mpool_request\u001b[49m\u001b[38;5;241;43m.\u001b[39;49m\u001b[43mrequest\u001b[49m\n\u001b[1;32m    198\u001b[0m \u001b[43m    \u001b[49m\u001b[43m)\u001b[49m\n\u001b[1;32m    199\u001b[0m \u001b[38;5;28;01mexcept\u001b[39;00m ConnectionNotAvailable:\n\u001b[1;32m    200\u001b[0m     \u001b[38;5;66;03m# In some cases a connection may initially be available to\u001b[39;00m\n\u001b[1;32m    201\u001b[0m     \u001b[38;5;66;03m# handle a request, but then become unavailable.\u001b[39;00m\n\u001b[1;32m    202\u001b[0m     \u001b[38;5;66;03m#\u001b[39;00m\n\u001b[1;32m    203\u001b[0m     \u001b[38;5;66;03m# In this case we clear the connection and try again.\u001b[39;00m\n",
      "File \u001b[0;32m~/miniconda3/envs/urban_taxonomy/lib/python3.12/site-packages/httpcore/_sync/connection.py:99\u001b[0m, in \u001b[0;36mHTTPConnection.handle_request\u001b[0;34m(self, request)\u001b[0m\n\u001b[1;32m     98\u001b[0m     \u001b[38;5;28mself\u001b[39m\u001b[38;5;241m.\u001b[39m_connect_failed \u001b[38;5;241m=\u001b[39m \u001b[38;5;28;01mTrue\u001b[39;00m\n\u001b[0;32m---> 99\u001b[0m     \u001b[38;5;28;01mraise\u001b[39;00m exc\n\u001b[1;32m    101\u001b[0m \u001b[38;5;28;01mreturn\u001b[39;00m \u001b[38;5;28mself\u001b[39m\u001b[38;5;241m.\u001b[39m_connection\u001b[38;5;241m.\u001b[39mhandle_request(request)\n",
      "File \u001b[0;32m~/miniconda3/envs/urban_taxonomy/lib/python3.12/site-packages/httpcore/_sync/connection.py:76\u001b[0m, in \u001b[0;36mHTTPConnection.handle_request\u001b[0;34m(self, request)\u001b[0m\n\u001b[1;32m     75\u001b[0m \u001b[38;5;28;01mif\u001b[39;00m \u001b[38;5;28mself\u001b[39m\u001b[38;5;241m.\u001b[39m_connection \u001b[38;5;129;01mis\u001b[39;00m \u001b[38;5;28;01mNone\u001b[39;00m:\n\u001b[0;32m---> 76\u001b[0m     stream \u001b[38;5;241m=\u001b[39m \u001b[38;5;28;43mself\u001b[39;49m\u001b[38;5;241;43m.\u001b[39;49m\u001b[43m_connect\u001b[49m\u001b[43m(\u001b[49m\u001b[43mrequest\u001b[49m\u001b[43m)\u001b[49m\n\u001b[1;32m     78\u001b[0m     ssl_object \u001b[38;5;241m=\u001b[39m stream\u001b[38;5;241m.\u001b[39mget_extra_info(\u001b[38;5;124m\"\u001b[39m\u001b[38;5;124mssl_object\u001b[39m\u001b[38;5;124m\"\u001b[39m)\n",
      "File \u001b[0;32m~/miniconda3/envs/urban_taxonomy/lib/python3.12/site-packages/httpcore/_sync/connection.py:154\u001b[0m, in \u001b[0;36mHTTPConnection._connect\u001b[0;34m(self, request)\u001b[0m\n\u001b[1;32m    153\u001b[0m \u001b[38;5;28;01mwith\u001b[39;00m Trace(\u001b[38;5;124m\"\u001b[39m\u001b[38;5;124mstart_tls\u001b[39m\u001b[38;5;124m\"\u001b[39m, logger, request, kwargs) \u001b[38;5;28;01mas\u001b[39;00m trace:\n\u001b[0;32m--> 154\u001b[0m     stream \u001b[38;5;241m=\u001b[39m \u001b[43mstream\u001b[49m\u001b[38;5;241;43m.\u001b[39;49m\u001b[43mstart_tls\u001b[49m\u001b[43m(\u001b[49m\u001b[38;5;241;43m*\u001b[39;49m\u001b[38;5;241;43m*\u001b[39;49m\u001b[43mkwargs\u001b[49m\u001b[43m)\u001b[49m\n\u001b[1;32m    155\u001b[0m     trace\u001b[38;5;241m.\u001b[39mreturn_value \u001b[38;5;241m=\u001b[39m stream\n",
      "File \u001b[0;32m~/miniconda3/envs/urban_taxonomy/lib/python3.12/site-packages/httpcore/_backends/sync.py:152\u001b[0m, in \u001b[0;36mSyncStream.start_tls\u001b[0;34m(self, ssl_context, server_hostname, timeout)\u001b[0m\n\u001b[1;32m    148\u001b[0m exc_map: ExceptionMapping \u001b[38;5;241m=\u001b[39m {\n\u001b[1;32m    149\u001b[0m     socket\u001b[38;5;241m.\u001b[39mtimeout: ConnectTimeout,\n\u001b[1;32m    150\u001b[0m     \u001b[38;5;167;01mOSError\u001b[39;00m: ConnectError,\n\u001b[1;32m    151\u001b[0m }\n\u001b[0;32m--> 152\u001b[0m \u001b[43m\u001b[49m\u001b[38;5;28;43;01mwith\u001b[39;49;00m\u001b[43m \u001b[49m\u001b[43mmap_exceptions\u001b[49m\u001b[43m(\u001b[49m\u001b[43mexc_map\u001b[49m\u001b[43m)\u001b[49m\u001b[43m:\u001b[49m\n\u001b[1;32m    153\u001b[0m \u001b[43m    \u001b[49m\u001b[38;5;28;43;01mtry\u001b[39;49;00m\u001b[43m:\u001b[49m\n",
      "File \u001b[0;32m~/miniconda3/envs/urban_taxonomy/lib/python3.12/contextlib.py:158\u001b[0m, in \u001b[0;36m_GeneratorContextManager.__exit__\u001b[0;34m(self, typ, value, traceback)\u001b[0m\n\u001b[1;32m    157\u001b[0m \u001b[38;5;28;01mtry\u001b[39;00m:\n\u001b[0;32m--> 158\u001b[0m     \u001b[38;5;28;43mself\u001b[39;49m\u001b[38;5;241;43m.\u001b[39;49m\u001b[43mgen\u001b[49m\u001b[38;5;241;43m.\u001b[39;49m\u001b[43mthrow\u001b[49m\u001b[43m(\u001b[49m\u001b[43mvalue\u001b[49m\u001b[43m)\u001b[49m\n\u001b[1;32m    159\u001b[0m \u001b[38;5;28;01mexcept\u001b[39;00m \u001b[38;5;167;01mStopIteration\u001b[39;00m \u001b[38;5;28;01mas\u001b[39;00m exc:\n\u001b[1;32m    160\u001b[0m     \u001b[38;5;66;03m# Suppress StopIteration *unless* it's the same exception that\u001b[39;00m\n\u001b[1;32m    161\u001b[0m     \u001b[38;5;66;03m# was passed to throw().  This prevents a StopIteration\u001b[39;00m\n\u001b[1;32m    162\u001b[0m     \u001b[38;5;66;03m# raised inside the \"with\" statement from being suppressed.\u001b[39;00m\n",
      "File \u001b[0;32m~/miniconda3/envs/urban_taxonomy/lib/python3.12/site-packages/httpcore/_exceptions.py:14\u001b[0m, in \u001b[0;36mmap_exceptions\u001b[0;34m(map)\u001b[0m\n\u001b[1;32m     13\u001b[0m     \u001b[38;5;28;01mif\u001b[39;00m \u001b[38;5;28misinstance\u001b[39m(exc, from_exc):\n\u001b[0;32m---> 14\u001b[0m         \u001b[38;5;28;01mraise\u001b[39;00m to_exc(exc) \u001b[38;5;28;01mfrom\u001b[39;00m \u001b[38;5;21;01mexc\u001b[39;00m\n\u001b[1;32m     15\u001b[0m \u001b[38;5;28;01mraise\u001b[39;00m\n",
      "\u001b[0;31mConnectTimeout\u001b[0m: _ssl.c:983: The handshake operation timed out",
      "\nThe above exception was the direct cause of the following exception:\n",
      "\u001b[0;31mConnectTimeout\u001b[0m                            Traceback (most recent call last)",
      "Cell \u001b[0;32mIn[70], line 3\u001b[0m\n\u001b[1;32m      1\u001b[0m \u001b[38;5;28;01mfor\u001b[39;00m code \u001b[38;5;129;01min\u001b[39;00m obce[\u001b[38;5;124m\"\u001b[39m\u001b[38;5;124mnationalCode\u001b[39m\u001b[38;5;124m\"\u001b[39m]:\n\u001b[1;32m      2\u001b[0m     url_building \u001b[38;5;241m=\u001b[39m \u001b[38;5;124mf\u001b[39m\u001b[38;5;124m\"\u001b[39m\u001b[38;5;124mhttps://services.cuzk.cz/gml/inspire/bu/epsg-4258/\u001b[39m\u001b[38;5;132;01m{\u001b[39;00mcode\u001b[38;5;132;01m}\u001b[39;00m\u001b[38;5;124m.zip\u001b[39m\u001b[38;5;124m\"\u001b[39m\n\u001b[0;32m----> 3\u001b[0m     r \u001b[38;5;241m=\u001b[39m \u001b[43mhttpx\u001b[49m\u001b[38;5;241;43m.\u001b[39;49m\u001b[43mget\u001b[49m\u001b[43m(\u001b[49m\u001b[43murl_building\u001b[49m\u001b[43m,\u001b[49m\u001b[43m \u001b[49m\u001b[43mverify\u001b[49m\u001b[38;5;241;43m=\u001b[39;49m\u001b[38;5;28;43;01mFalse\u001b[39;49;00m\u001b[43m)\u001b[49m\n\u001b[1;32m      5\u001b[0m     gdf \u001b[38;5;241m=\u001b[39m gpd\u001b[38;5;241m.\u001b[39mread_file(BytesIO(r\u001b[38;5;241m.\u001b[39mcontent), layer\u001b[38;5;241m=\u001b[39m\u001b[38;5;124m'\u001b[39m\u001b[38;5;124mBuilding\u001b[39m\u001b[38;5;124m'\u001b[39m)\n\u001b[1;32m      6\u001b[0m     gdf\u001b[38;5;241m.\u001b[39mto_parquet(DATADIR \u001b[38;5;241m+\u001b[39m \u001b[38;5;124mf\u001b[39m\u001b[38;5;124m'\u001b[39m\u001b[38;5;124mbuildings_czechia_\u001b[39m\u001b[38;5;132;01m{\u001b[39;00mcode\u001b[38;5;132;01m}\u001b[39;00m\u001b[38;5;124m.pq\u001b[39m\u001b[38;5;124m'\u001b[39m)\n",
      "File \u001b[0;32m~/miniconda3/envs/urban_taxonomy/lib/python3.12/site-packages/httpx/_api.py:198\u001b[0m, in \u001b[0;36mget\u001b[0;34m(url, params, headers, cookies, auth, proxy, proxies, follow_redirects, cert, verify, timeout, trust_env)\u001b[0m\n\u001b[1;32m    175\u001b[0m \u001b[38;5;28;01mdef\u001b[39;00m \u001b[38;5;21mget\u001b[39m(\n\u001b[1;32m    176\u001b[0m     url: URLTypes,\n\u001b[1;32m    177\u001b[0m     \u001b[38;5;241m*\u001b[39m,\n\u001b[0;32m   (...)\u001b[0m\n\u001b[1;32m    188\u001b[0m     trust_env: \u001b[38;5;28mbool\u001b[39m \u001b[38;5;241m=\u001b[39m \u001b[38;5;28;01mTrue\u001b[39;00m,\n\u001b[1;32m    189\u001b[0m ) \u001b[38;5;241m-\u001b[39m\u001b[38;5;241m>\u001b[39m Response:\n\u001b[1;32m    190\u001b[0m \u001b[38;5;250m    \u001b[39m\u001b[38;5;124;03m\"\"\"\u001b[39;00m\n\u001b[1;32m    191\u001b[0m \u001b[38;5;124;03m    Sends a `GET` request.\u001b[39;00m\n\u001b[1;32m    192\u001b[0m \n\u001b[0;32m   (...)\u001b[0m\n\u001b[1;32m    196\u001b[0m \u001b[38;5;124;03m    on this function, as `GET` requests should not include a request body.\u001b[39;00m\n\u001b[1;32m    197\u001b[0m \u001b[38;5;124;03m    \"\"\"\u001b[39;00m\n\u001b[0;32m--> 198\u001b[0m     \u001b[38;5;28;01mreturn\u001b[39;00m \u001b[43mrequest\u001b[49m\u001b[43m(\u001b[49m\n\u001b[1;32m    199\u001b[0m \u001b[43m        \u001b[49m\u001b[38;5;124;43m\"\u001b[39;49m\u001b[38;5;124;43mGET\u001b[39;49m\u001b[38;5;124;43m\"\u001b[39;49m\u001b[43m,\u001b[49m\n\u001b[1;32m    200\u001b[0m \u001b[43m        \u001b[49m\u001b[43murl\u001b[49m\u001b[43m,\u001b[49m\n\u001b[1;32m    201\u001b[0m \u001b[43m        \u001b[49m\u001b[43mparams\u001b[49m\u001b[38;5;241;43m=\u001b[39;49m\u001b[43mparams\u001b[49m\u001b[43m,\u001b[49m\n\u001b[1;32m    202\u001b[0m \u001b[43m        \u001b[49m\u001b[43mheaders\u001b[49m\u001b[38;5;241;43m=\u001b[39;49m\u001b[43mheaders\u001b[49m\u001b[43m,\u001b[49m\n\u001b[1;32m    203\u001b[0m \u001b[43m        \u001b[49m\u001b[43mcookies\u001b[49m\u001b[38;5;241;43m=\u001b[39;49m\u001b[43mcookies\u001b[49m\u001b[43m,\u001b[49m\n\u001b[1;32m    204\u001b[0m \u001b[43m        \u001b[49m\u001b[43mauth\u001b[49m\u001b[38;5;241;43m=\u001b[39;49m\u001b[43mauth\u001b[49m\u001b[43m,\u001b[49m\n\u001b[1;32m    205\u001b[0m \u001b[43m        \u001b[49m\u001b[43mproxy\u001b[49m\u001b[38;5;241;43m=\u001b[39;49m\u001b[43mproxy\u001b[49m\u001b[43m,\u001b[49m\n\u001b[1;32m    206\u001b[0m \u001b[43m        \u001b[49m\u001b[43mproxies\u001b[49m\u001b[38;5;241;43m=\u001b[39;49m\u001b[43mproxies\u001b[49m\u001b[43m,\u001b[49m\n\u001b[1;32m    207\u001b[0m \u001b[43m        \u001b[49m\u001b[43mfollow_redirects\u001b[49m\u001b[38;5;241;43m=\u001b[39;49m\u001b[43mfollow_redirects\u001b[49m\u001b[43m,\u001b[49m\n\u001b[1;32m    208\u001b[0m \u001b[43m        \u001b[49m\u001b[43mcert\u001b[49m\u001b[38;5;241;43m=\u001b[39;49m\u001b[43mcert\u001b[49m\u001b[43m,\u001b[49m\n\u001b[1;32m    209\u001b[0m \u001b[43m        \u001b[49m\u001b[43mverify\u001b[49m\u001b[38;5;241;43m=\u001b[39;49m\u001b[43mverify\u001b[49m\u001b[43m,\u001b[49m\n\u001b[1;32m    210\u001b[0m \u001b[43m        \u001b[49m\u001b[43mtimeout\u001b[49m\u001b[38;5;241;43m=\u001b[39;49m\u001b[43mtimeout\u001b[49m\u001b[43m,\u001b[49m\n\u001b[1;32m    211\u001b[0m \u001b[43m        \u001b[49m\u001b[43mtrust_env\u001b[49m\u001b[38;5;241;43m=\u001b[39;49m\u001b[43mtrust_env\u001b[49m\u001b[43m,\u001b[49m\n\u001b[1;32m    212\u001b[0m \u001b[43m    \u001b[49m\u001b[43m)\u001b[49m\n",
      "File \u001b[0;32m~/miniconda3/envs/urban_taxonomy/lib/python3.12/site-packages/httpx/_api.py:106\u001b[0m, in \u001b[0;36mrequest\u001b[0;34m(method, url, params, content, data, files, json, headers, cookies, auth, proxy, proxies, timeout, follow_redirects, verify, cert, trust_env)\u001b[0m\n\u001b[1;32m     46\u001b[0m \u001b[38;5;250m\u001b[39m\u001b[38;5;124;03m\"\"\"\u001b[39;00m\n\u001b[1;32m     47\u001b[0m \u001b[38;5;124;03mSends an HTTP request.\u001b[39;00m\n\u001b[1;32m     48\u001b[0m \n\u001b[0;32m   (...)\u001b[0m\n\u001b[1;32m     95\u001b[0m \u001b[38;5;124;03m```\u001b[39;00m\n\u001b[1;32m     96\u001b[0m \u001b[38;5;124;03m\"\"\"\u001b[39;00m\n\u001b[1;32m     97\u001b[0m \u001b[38;5;28;01mwith\u001b[39;00m Client(\n\u001b[1;32m     98\u001b[0m     cookies\u001b[38;5;241m=\u001b[39mcookies,\n\u001b[1;32m     99\u001b[0m     proxy\u001b[38;5;241m=\u001b[39mproxy,\n\u001b[0;32m   (...)\u001b[0m\n\u001b[1;32m    104\u001b[0m     trust_env\u001b[38;5;241m=\u001b[39mtrust_env,\n\u001b[1;32m    105\u001b[0m ) \u001b[38;5;28;01mas\u001b[39;00m client:\n\u001b[0;32m--> 106\u001b[0m     \u001b[38;5;28;01mreturn\u001b[39;00m \u001b[43mclient\u001b[49m\u001b[38;5;241;43m.\u001b[39;49m\u001b[43mrequest\u001b[49m\u001b[43m(\u001b[49m\n\u001b[1;32m    107\u001b[0m \u001b[43m        \u001b[49m\u001b[43mmethod\u001b[49m\u001b[38;5;241;43m=\u001b[39;49m\u001b[43mmethod\u001b[49m\u001b[43m,\u001b[49m\n\u001b[1;32m    108\u001b[0m \u001b[43m        \u001b[49m\u001b[43murl\u001b[49m\u001b[38;5;241;43m=\u001b[39;49m\u001b[43murl\u001b[49m\u001b[43m,\u001b[49m\n\u001b[1;32m    109\u001b[0m \u001b[43m        \u001b[49m\u001b[43mcontent\u001b[49m\u001b[38;5;241;43m=\u001b[39;49m\u001b[43mcontent\u001b[49m\u001b[43m,\u001b[49m\n\u001b[1;32m    110\u001b[0m \u001b[43m        \u001b[49m\u001b[43mdata\u001b[49m\u001b[38;5;241;43m=\u001b[39;49m\u001b[43mdata\u001b[49m\u001b[43m,\u001b[49m\n\u001b[1;32m    111\u001b[0m \u001b[43m        \u001b[49m\u001b[43mfiles\u001b[49m\u001b[38;5;241;43m=\u001b[39;49m\u001b[43mfiles\u001b[49m\u001b[43m,\u001b[49m\n\u001b[1;32m    112\u001b[0m \u001b[43m        \u001b[49m\u001b[43mjson\u001b[49m\u001b[38;5;241;43m=\u001b[39;49m\u001b[43mjson\u001b[49m\u001b[43m,\u001b[49m\n\u001b[1;32m    113\u001b[0m \u001b[43m        \u001b[49m\u001b[43mparams\u001b[49m\u001b[38;5;241;43m=\u001b[39;49m\u001b[43mparams\u001b[49m\u001b[43m,\u001b[49m\n\u001b[1;32m    114\u001b[0m \u001b[43m        \u001b[49m\u001b[43mheaders\u001b[49m\u001b[38;5;241;43m=\u001b[39;49m\u001b[43mheaders\u001b[49m\u001b[43m,\u001b[49m\n\u001b[1;32m    115\u001b[0m \u001b[43m        \u001b[49m\u001b[43mauth\u001b[49m\u001b[38;5;241;43m=\u001b[39;49m\u001b[43mauth\u001b[49m\u001b[43m,\u001b[49m\n\u001b[1;32m    116\u001b[0m \u001b[43m        \u001b[49m\u001b[43mfollow_redirects\u001b[49m\u001b[38;5;241;43m=\u001b[39;49m\u001b[43mfollow_redirects\u001b[49m\u001b[43m,\u001b[49m\n\u001b[1;32m    117\u001b[0m \u001b[43m    \u001b[49m\u001b[43m)\u001b[49m\n",
      "File \u001b[0;32m~/miniconda3/envs/urban_taxonomy/lib/python3.12/site-packages/httpx/_client.py:827\u001b[0m, in \u001b[0;36mClient.request\u001b[0;34m(self, method, url, content, data, files, json, params, headers, cookies, auth, follow_redirects, timeout, extensions)\u001b[0m\n\u001b[1;32m    812\u001b[0m     warnings\u001b[38;5;241m.\u001b[39mwarn(message, \u001b[38;5;167;01mDeprecationWarning\u001b[39;00m)\n\u001b[1;32m    814\u001b[0m request \u001b[38;5;241m=\u001b[39m \u001b[38;5;28mself\u001b[39m\u001b[38;5;241m.\u001b[39mbuild_request(\n\u001b[1;32m    815\u001b[0m     method\u001b[38;5;241m=\u001b[39mmethod,\n\u001b[1;32m    816\u001b[0m     url\u001b[38;5;241m=\u001b[39murl,\n\u001b[0;32m   (...)\u001b[0m\n\u001b[1;32m    825\u001b[0m     extensions\u001b[38;5;241m=\u001b[39mextensions,\n\u001b[1;32m    826\u001b[0m )\n\u001b[0;32m--> 827\u001b[0m \u001b[38;5;28;01mreturn\u001b[39;00m \u001b[38;5;28;43mself\u001b[39;49m\u001b[38;5;241;43m.\u001b[39;49m\u001b[43msend\u001b[49m\u001b[43m(\u001b[49m\u001b[43mrequest\u001b[49m\u001b[43m,\u001b[49m\u001b[43m \u001b[49m\u001b[43mauth\u001b[49m\u001b[38;5;241;43m=\u001b[39;49m\u001b[43mauth\u001b[49m\u001b[43m,\u001b[49m\u001b[43m \u001b[49m\u001b[43mfollow_redirects\u001b[49m\u001b[38;5;241;43m=\u001b[39;49m\u001b[43mfollow_redirects\u001b[49m\u001b[43m)\u001b[49m\n",
      "File \u001b[0;32m~/miniconda3/envs/urban_taxonomy/lib/python3.12/site-packages/httpx/_client.py:914\u001b[0m, in \u001b[0;36mClient.send\u001b[0;34m(self, request, stream, auth, follow_redirects)\u001b[0m\n\u001b[1;32m    906\u001b[0m follow_redirects \u001b[38;5;241m=\u001b[39m (\n\u001b[1;32m    907\u001b[0m     \u001b[38;5;28mself\u001b[39m\u001b[38;5;241m.\u001b[39mfollow_redirects\n\u001b[1;32m    908\u001b[0m     \u001b[38;5;28;01mif\u001b[39;00m \u001b[38;5;28misinstance\u001b[39m(follow_redirects, UseClientDefault)\n\u001b[1;32m    909\u001b[0m     \u001b[38;5;28;01melse\u001b[39;00m follow_redirects\n\u001b[1;32m    910\u001b[0m )\n\u001b[1;32m    912\u001b[0m auth \u001b[38;5;241m=\u001b[39m \u001b[38;5;28mself\u001b[39m\u001b[38;5;241m.\u001b[39m_build_request_auth(request, auth)\n\u001b[0;32m--> 914\u001b[0m response \u001b[38;5;241m=\u001b[39m \u001b[38;5;28;43mself\u001b[39;49m\u001b[38;5;241;43m.\u001b[39;49m\u001b[43m_send_handling_auth\u001b[49m\u001b[43m(\u001b[49m\n\u001b[1;32m    915\u001b[0m \u001b[43m    \u001b[49m\u001b[43mrequest\u001b[49m\u001b[43m,\u001b[49m\n\u001b[1;32m    916\u001b[0m \u001b[43m    \u001b[49m\u001b[43mauth\u001b[49m\u001b[38;5;241;43m=\u001b[39;49m\u001b[43mauth\u001b[49m\u001b[43m,\u001b[49m\n\u001b[1;32m    917\u001b[0m \u001b[43m    \u001b[49m\u001b[43mfollow_redirects\u001b[49m\u001b[38;5;241;43m=\u001b[39;49m\u001b[43mfollow_redirects\u001b[49m\u001b[43m,\u001b[49m\n\u001b[1;32m    918\u001b[0m \u001b[43m    \u001b[49m\u001b[43mhistory\u001b[49m\u001b[38;5;241;43m=\u001b[39;49m\u001b[43m[\u001b[49m\u001b[43m]\u001b[49m\u001b[43m,\u001b[49m\n\u001b[1;32m    919\u001b[0m \u001b[43m\u001b[49m\u001b[43m)\u001b[49m\n\u001b[1;32m    920\u001b[0m \u001b[38;5;28;01mtry\u001b[39;00m:\n\u001b[1;32m    921\u001b[0m     \u001b[38;5;28;01mif\u001b[39;00m \u001b[38;5;129;01mnot\u001b[39;00m stream:\n",
      "File \u001b[0;32m~/miniconda3/envs/urban_taxonomy/lib/python3.12/site-packages/httpx/_client.py:942\u001b[0m, in \u001b[0;36mClient._send_handling_auth\u001b[0;34m(self, request, auth, follow_redirects, history)\u001b[0m\n\u001b[1;32m    939\u001b[0m request \u001b[38;5;241m=\u001b[39m \u001b[38;5;28mnext\u001b[39m(auth_flow)\n\u001b[1;32m    941\u001b[0m \u001b[38;5;28;01mwhile\u001b[39;00m \u001b[38;5;28;01mTrue\u001b[39;00m:\n\u001b[0;32m--> 942\u001b[0m     response \u001b[38;5;241m=\u001b[39m \u001b[38;5;28;43mself\u001b[39;49m\u001b[38;5;241;43m.\u001b[39;49m\u001b[43m_send_handling_redirects\u001b[49m\u001b[43m(\u001b[49m\n\u001b[1;32m    943\u001b[0m \u001b[43m        \u001b[49m\u001b[43mrequest\u001b[49m\u001b[43m,\u001b[49m\n\u001b[1;32m    944\u001b[0m \u001b[43m        \u001b[49m\u001b[43mfollow_redirects\u001b[49m\u001b[38;5;241;43m=\u001b[39;49m\u001b[43mfollow_redirects\u001b[49m\u001b[43m,\u001b[49m\n\u001b[1;32m    945\u001b[0m \u001b[43m        \u001b[49m\u001b[43mhistory\u001b[49m\u001b[38;5;241;43m=\u001b[39;49m\u001b[43mhistory\u001b[49m\u001b[43m,\u001b[49m\n\u001b[1;32m    946\u001b[0m \u001b[43m    \u001b[49m\u001b[43m)\u001b[49m\n\u001b[1;32m    947\u001b[0m     \u001b[38;5;28;01mtry\u001b[39;00m:\n\u001b[1;32m    948\u001b[0m         \u001b[38;5;28;01mtry\u001b[39;00m:\n",
      "File \u001b[0;32m~/miniconda3/envs/urban_taxonomy/lib/python3.12/site-packages/httpx/_client.py:979\u001b[0m, in \u001b[0;36mClient._send_handling_redirects\u001b[0;34m(self, request, follow_redirects, history)\u001b[0m\n\u001b[1;32m    976\u001b[0m \u001b[38;5;28;01mfor\u001b[39;00m hook \u001b[38;5;129;01min\u001b[39;00m \u001b[38;5;28mself\u001b[39m\u001b[38;5;241m.\u001b[39m_event_hooks[\u001b[38;5;124m\"\u001b[39m\u001b[38;5;124mrequest\u001b[39m\u001b[38;5;124m\"\u001b[39m]:\n\u001b[1;32m    977\u001b[0m     hook(request)\n\u001b[0;32m--> 979\u001b[0m response \u001b[38;5;241m=\u001b[39m \u001b[38;5;28;43mself\u001b[39;49m\u001b[38;5;241;43m.\u001b[39;49m\u001b[43m_send_single_request\u001b[49m\u001b[43m(\u001b[49m\u001b[43mrequest\u001b[49m\u001b[43m)\u001b[49m\n\u001b[1;32m    980\u001b[0m \u001b[38;5;28;01mtry\u001b[39;00m:\n\u001b[1;32m    981\u001b[0m     \u001b[38;5;28;01mfor\u001b[39;00m hook \u001b[38;5;129;01min\u001b[39;00m \u001b[38;5;28mself\u001b[39m\u001b[38;5;241m.\u001b[39m_event_hooks[\u001b[38;5;124m\"\u001b[39m\u001b[38;5;124mresponse\u001b[39m\u001b[38;5;124m\"\u001b[39m]:\n",
      "File \u001b[0;32m~/miniconda3/envs/urban_taxonomy/lib/python3.12/site-packages/httpx/_client.py:1015\u001b[0m, in \u001b[0;36mClient._send_single_request\u001b[0;34m(self, request)\u001b[0m\n\u001b[1;32m   1010\u001b[0m     \u001b[38;5;28;01mraise\u001b[39;00m \u001b[38;5;167;01mRuntimeError\u001b[39;00m(\n\u001b[1;32m   1011\u001b[0m         \u001b[38;5;124m\"\u001b[39m\u001b[38;5;124mAttempted to send an async request with a sync Client instance.\u001b[39m\u001b[38;5;124m\"\u001b[39m\n\u001b[1;32m   1012\u001b[0m     )\n\u001b[1;32m   1014\u001b[0m \u001b[38;5;28;01mwith\u001b[39;00m request_context(request\u001b[38;5;241m=\u001b[39mrequest):\n\u001b[0;32m-> 1015\u001b[0m     response \u001b[38;5;241m=\u001b[39m \u001b[43mtransport\u001b[49m\u001b[38;5;241;43m.\u001b[39;49m\u001b[43mhandle_request\u001b[49m\u001b[43m(\u001b[49m\u001b[43mrequest\u001b[49m\u001b[43m)\u001b[49m\n\u001b[1;32m   1017\u001b[0m \u001b[38;5;28;01massert\u001b[39;00m \u001b[38;5;28misinstance\u001b[39m(response\u001b[38;5;241m.\u001b[39mstream, SyncByteStream)\n\u001b[1;32m   1019\u001b[0m response\u001b[38;5;241m.\u001b[39mrequest \u001b[38;5;241m=\u001b[39m request\n",
      "File \u001b[0;32m~/miniconda3/envs/urban_taxonomy/lib/python3.12/site-packages/httpx/_transports/default.py:232\u001b[0m, in \u001b[0;36mHTTPTransport.handle_request\u001b[0;34m(self, request)\u001b[0m\n\u001b[1;32m    218\u001b[0m \u001b[38;5;28;01massert\u001b[39;00m \u001b[38;5;28misinstance\u001b[39m(request\u001b[38;5;241m.\u001b[39mstream, SyncByteStream)\n\u001b[1;32m    220\u001b[0m req \u001b[38;5;241m=\u001b[39m httpcore\u001b[38;5;241m.\u001b[39mRequest(\n\u001b[1;32m    221\u001b[0m     method\u001b[38;5;241m=\u001b[39mrequest\u001b[38;5;241m.\u001b[39mmethod,\n\u001b[1;32m    222\u001b[0m     url\u001b[38;5;241m=\u001b[39mhttpcore\u001b[38;5;241m.\u001b[39mURL(\n\u001b[0;32m   (...)\u001b[0m\n\u001b[1;32m    230\u001b[0m     extensions\u001b[38;5;241m=\u001b[39mrequest\u001b[38;5;241m.\u001b[39mextensions,\n\u001b[1;32m    231\u001b[0m )\n\u001b[0;32m--> 232\u001b[0m \u001b[43m\u001b[49m\u001b[38;5;28;43;01mwith\u001b[39;49;00m\u001b[43m \u001b[49m\u001b[43mmap_httpcore_exceptions\u001b[49m\u001b[43m(\u001b[49m\u001b[43m)\u001b[49m\u001b[43m:\u001b[49m\n\u001b[1;32m    233\u001b[0m \u001b[43m    \u001b[49m\u001b[43mresp\u001b[49m\u001b[43m \u001b[49m\u001b[38;5;241;43m=\u001b[39;49m\u001b[43m \u001b[49m\u001b[38;5;28;43mself\u001b[39;49m\u001b[38;5;241;43m.\u001b[39;49m\u001b[43m_pool\u001b[49m\u001b[38;5;241;43m.\u001b[39;49m\u001b[43mhandle_request\u001b[49m\u001b[43m(\u001b[49m\u001b[43mreq\u001b[49m\u001b[43m)\u001b[49m\n\u001b[1;32m    235\u001b[0m \u001b[38;5;28;01massert\u001b[39;00m \u001b[38;5;28misinstance\u001b[39m(resp\u001b[38;5;241m.\u001b[39mstream, typing\u001b[38;5;241m.\u001b[39mIterable)\n",
      "File \u001b[0;32m~/miniconda3/envs/urban_taxonomy/lib/python3.12/contextlib.py:158\u001b[0m, in \u001b[0;36m_GeneratorContextManager.__exit__\u001b[0;34m(self, typ, value, traceback)\u001b[0m\n\u001b[1;32m    156\u001b[0m     value \u001b[38;5;241m=\u001b[39m typ()\n\u001b[1;32m    157\u001b[0m \u001b[38;5;28;01mtry\u001b[39;00m:\n\u001b[0;32m--> 158\u001b[0m     \u001b[38;5;28;43mself\u001b[39;49m\u001b[38;5;241;43m.\u001b[39;49m\u001b[43mgen\u001b[49m\u001b[38;5;241;43m.\u001b[39;49m\u001b[43mthrow\u001b[49m\u001b[43m(\u001b[49m\u001b[43mvalue\u001b[49m\u001b[43m)\u001b[49m\n\u001b[1;32m    159\u001b[0m \u001b[38;5;28;01mexcept\u001b[39;00m \u001b[38;5;167;01mStopIteration\u001b[39;00m \u001b[38;5;28;01mas\u001b[39;00m exc:\n\u001b[1;32m    160\u001b[0m     \u001b[38;5;66;03m# Suppress StopIteration *unless* it's the same exception that\u001b[39;00m\n\u001b[1;32m    161\u001b[0m     \u001b[38;5;66;03m# was passed to throw().  This prevents a StopIteration\u001b[39;00m\n\u001b[1;32m    162\u001b[0m     \u001b[38;5;66;03m# raised inside the \"with\" statement from being suppressed.\u001b[39;00m\n\u001b[1;32m    163\u001b[0m     \u001b[38;5;28;01mreturn\u001b[39;00m exc \u001b[38;5;129;01mis\u001b[39;00m \u001b[38;5;129;01mnot\u001b[39;00m value\n",
      "File \u001b[0;32m~/miniconda3/envs/urban_taxonomy/lib/python3.12/site-packages/httpx/_transports/default.py:86\u001b[0m, in \u001b[0;36mmap_httpcore_exceptions\u001b[0;34m()\u001b[0m\n\u001b[1;32m     83\u001b[0m     \u001b[38;5;28;01mraise\u001b[39;00m\n\u001b[1;32m     85\u001b[0m message \u001b[38;5;241m=\u001b[39m \u001b[38;5;28mstr\u001b[39m(exc)\n\u001b[0;32m---> 86\u001b[0m \u001b[38;5;28;01mraise\u001b[39;00m mapped_exc(message) \u001b[38;5;28;01mfrom\u001b[39;00m \u001b[38;5;21;01mexc\u001b[39;00m\n",
      "\u001b[0;31mConnectTimeout\u001b[0m: _ssl.c:983: The handshake operation timed out"
     ]
    }
   ],
   "source": [
    "for code in obce[\"nationalCode\"]:\n",
    "    url_building = f\"https://services.cuzk.cz/gml/inspire/bu/epsg-4258/{code}.zip\"\n",
    "    r = httpx.get(url_building, verify=False)\n",
    "\n",
    "    gdf = gpd.read_file(BytesIO(r.content), layer='Building')\n",
    "    gdf.to_parquet(DATADIR + f'buildings_czechia_{code}.pq')\n",
    "    print(code)"
   ]
  },
  {
   "cell_type": "code",
   "execution_count": null,
   "id": "0666bffc-70cc-4df6-8367-0457453664f4",
   "metadata": {},
   "outputs": [],
   "source": []
  },
  {
   "cell_type": "code",
   "execution_count": null,
   "id": "9669fe20-ffa8-4a6e-8874-7262505c926a",
   "metadata": {},
   "outputs": [],
   "source": []
  },
  {
   "cell_type": "markdown",
   "id": "84839633-e8e9-469c-931c-ccf59e687c2c",
   "metadata": {
    "jp-MarkdownHeadingCollapsed": true
   },
   "source": [
    "### Download Slovakia"
   ]
  },
  {
   "cell_type": "code",
   "execution_count": 71,
   "id": "37a4bcda-74e4-47f3-8768-28d25bbd1a0b",
   "metadata": {},
   "outputs": [
    {
     "name": "stdout",
     "output_type": "stream",
     "text": [
      "CPU times: user 1.3 s, sys: 1.05 s, total: 2.35 s\n",
      "Wall time: 1min 1s\n"
     ]
    }
   ],
   "source": [
    "%%time\n",
    "import httpx\n",
    "url = \"https://opendata.skgeodesy.sk/static/INSPIRE/Buildings/inspire_bu_gpkg.zip\"\n",
    "r = httpx.get(url, verify=False)"
   ]
  },
  {
   "cell_type": "code",
   "execution_count": 78,
   "id": "d5583670-f3a7-477c-a9c8-97784ac260bc",
   "metadata": {},
   "outputs": [],
   "source": [
    "with open(\"inspire_bu_gpkg.zip\", \"wb\") as f:\n",
    "    f.write(r.content)"
   ]
  },
  {
   "cell_type": "code",
   "execution_count": 79,
   "id": "5390515f-8fcd-4f78-9e51-600364195ab3",
   "metadata": {},
   "outputs": [
    {
     "name": "stdout",
     "output_type": "stream",
     "text": [
      "Archive:  inspire_bu_gpkg.zip\n",
      "  inflating: INSPIRE_BU.gpkg         \n",
      "  inflating: _license_terms.pdf      \n"
     ]
    }
   ],
   "source": [
    "!unzip inspire_bu_gpkg.zip"
   ]
  },
  {
   "cell_type": "code",
   "execution_count": 80,
   "id": "683479f0-ca02-438f-81e0-ca977c9cbe5b",
   "metadata": {},
   "outputs": [
    {
     "data": {
      "text/html": [
       "<div>\n",
       "<style scoped>\n",
       "    .dataframe tbody tr th:only-of-type {\n",
       "        vertical-align: middle;\n",
       "    }\n",
       "\n",
       "    .dataframe tbody tr th {\n",
       "        vertical-align: top;\n",
       "    }\n",
       "\n",
       "    .dataframe thead th {\n",
       "        text-align: right;\n",
       "    }\n",
       "</style>\n",
       "<table border=\"1\" class=\"dataframe\">\n",
       "  <thead>\n",
       "    <tr style=\"text-align: right;\">\n",
       "      <th></th>\n",
       "      <th>name</th>\n",
       "      <th>geometry_type</th>\n",
       "    </tr>\n",
       "  </thead>\n",
       "  <tbody>\n",
       "    <tr>\n",
       "      <th>0</th>\n",
       "      <td>Building</td>\n",
       "      <td>Unknown</td>\n",
       "    </tr>\n",
       "  </tbody>\n",
       "</table>\n",
       "</div>"
      ],
      "text/plain": [
       "       name geometry_type\n",
       "0  Building       Unknown"
      ]
     },
     "execution_count": 80,
     "metadata": {},
     "output_type": "execute_result"
    }
   ],
   "source": [
    "gpd.list_layers('INSPIRE_BU.gpkg')"
   ]
  },
  {
   "cell_type": "code",
   "execution_count": 81,
   "id": "ea56eb2d-5e1a-4059-aab2-fbb36d6f9cb4",
   "metadata": {},
   "outputs": [],
   "source": [
    "gdf = gpd.read_file('INSPIRE_BU.gpkg')\n",
    "gdf.to_parquet(DATADIR + f'buildings_slovakia_{code}.pq')"
   ]
  },
  {
   "cell_type": "code",
   "execution_count": 84,
   "id": "e000a0ec-6a8e-417f-b9d1-e0ddfc749d45",
   "metadata": {},
   "outputs": [],
   "source": [
    "!rm inspire_bu_gpkg.zip\n",
    "!rm INSPIRE_BU.gpkg \n",
    "!rm _license_terms.pdf"
   ]
  },
  {
   "cell_type": "code",
   "execution_count": null,
   "id": "ae85344b-17be-46b2-85b7-3176470e5cf6",
   "metadata": {},
   "outputs": [],
   "source": []
  }
 ],
 "metadata": {
  "kernelspec": {
   "display_name": "Python 3 (ipykernel)",
   "language": "python",
   "name": "python3"
  },
  "language_info": {
   "codemirror_mode": {
    "name": "ipython",
    "version": 3
   },
   "file_extension": ".py",
   "mimetype": "text/x-python",
   "name": "python",
   "nbconvert_exporter": "python",
   "pygments_lexer": "ipython3",
   "version": "3.12.4"
  }
 },
 "nbformat": 4,
 "nbformat_minor": 5
}
