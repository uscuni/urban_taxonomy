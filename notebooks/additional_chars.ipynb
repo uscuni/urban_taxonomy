{
 "cells": [
  {
   "cell_type": "code",
   "execution_count": 1,
   "id": "6c0d94fc-1179-401f-b372-30a00ad07bc7",
   "metadata": {},
   "outputs": [],
   "source": [
    "import geopandas as gpd\n",
    "import pandas as pd\n",
    "import numpy as np\n",
    "import momepy as mm"
   ]
  },
  {
   "cell_type": "code",
   "execution_count": null,
   "id": "ff31371b-7078-4d97-862a-9e5ecb66f33c",
   "metadata": {},
   "outputs": [],
   "source": []
  },
  {
   "cell_type": "code",
   "execution_count": 37,
   "id": "84c31d9a-d869-45ef-b774-585d31cc8c25",
   "metadata": {},
   "outputs": [],
   "source": [
    "region_id = 69333"
   ]
  },
  {
   "cell_type": "code",
   "execution_count": 38,
   "id": "497f9d0e-1aa4-4e03-9a90-0518dcd2c338",
   "metadata": {},
   "outputs": [],
   "source": [
    "\n",
    "etcs = gpd.read_parquet(f'/data/uscuni-ulce/processed_data/chars/tessellations_chars_{region_id}.parquet')\n",
    "buildings = gpd.read_parquet(f'/data/uscuni-ulce/processed_data/chars/buildings_chars_{region_id}.parquet')\n",
    "streets = gpd.read_parquet(f'/data/uscuni-ulce/processed_data/chars/streets_chars_{region_id}.parquet')\n",
    "nodes = gpd.read_parquet(f'/data/uscuni-ulce/processed_data/chars/nodes_chars_{region_id}.parquet')"
   ]
  },
  {
   "cell_type": "code",
   "execution_count": null,
   "id": "3ac53dd2-d125-4413-a39e-764dda5d5c03",
   "metadata": {},
   "outputs": [],
   "source": []
  },
  {
   "cell_type": "code",
   "execution_count": 39,
   "id": "fa93a647-d21a-44f5-8fef-b98b88728b71",
   "metadata": {},
   "outputs": [],
   "source": []
  },
  {
   "cell_type": "code",
   "execution_count": 40,
   "id": "37005ebf-3fa9-4a54-86dc-3c90245dea0f",
   "metadata": {},
   "outputs": [],
   "source": [
    "### carry out the analysis on connected buildings...\n",
    "\n",
    "# bgraph = read_parquet(f'/data/uscuni-ulce/processed_data/neigh_graphs/building_graph_{region_id}.parquet')\n",
    "# component_labels = bgraph.component_labels\n",
    "\n",
    "# dissolved_tess_cells = etcs.loc[component_labels.index, :].dissolve(component_labels.values, as_index=True)\n",
    "# dissolved_tess_cells = dissolved_tess_cells.geometry\n",
    "# empty_tess_cells = etcs[etcs.index < 0].geometry\n",
    "# etcs = pd.concat((empty_tess_cells, dissolved_tess_cells)).to_frame()\n",
    "\n",
    "\n",
    "# buildings = buildings.dissolve(component_labels)"
   ]
  },
  {
   "cell_type": "code",
   "execution_count": null,
   "id": "aae706ea-b73a-4b5b-879a-c507736137a9",
   "metadata": {
    "scrolled": true
   },
   "outputs": [],
   "source": []
  },
  {
   "cell_type": "code",
   "execution_count": null,
   "id": "776a10e5-bf9a-4bc0-a50e-effa3ef2c4d0",
   "metadata": {},
   "outputs": [],
   "source": []
  },
  {
   "cell_type": "code",
   "execution_count": 41,
   "id": "6b9b67a9-82a5-4064-aff3-ef48e0a21ea2",
   "metadata": {},
   "outputs": [],
   "source": [
    "etcs['barea'] = buildings.area\n",
    "etcs['barea'] = etcs['barea'].fillna(0)"
   ]
  },
  {
   "cell_type": "code",
   "execution_count": 42,
   "id": "76d9dad5-a848-4c5c-8d39-b693b1abb4d7",
   "metadata": {},
   "outputs": [],
   "source": [
    "street_graph = mm.gdf_to_nx(streets, preserve_index=True)\n",
    "nodes, edges = mm.nx_to_gdf(street_graph, spatial_weights=False)\n"
   ]
  },
  {
   "cell_type": "code",
   "execution_count": 43,
   "id": "bb3118ef-fd98-4785-9557-5841aa1d7019",
   "metadata": {},
   "outputs": [],
   "source": [
    "blg_nid = mm.get_nearest_street(\n",
    "    buildings, edges\n",
    ")"
   ]
  },
  {
   "cell_type": "code",
   "execution_count": 44,
   "id": "bb259438-b081-49d7-b786-360a62ac5e34",
   "metadata": {},
   "outputs": [],
   "source": [
    "# %%time\n",
    "# links = mm.get_network_ratio(etcs, edges)\n",
    "# etcs[['edgeID_keys', 'edgeID_values']] = links\n",
    "# keys = etcs.edgeID_values.apply(lambda a: np.argmax(a))\n",
    "# tess_nid = np.array([inds[i] for inds, i in zip(etcs.edgeID_keys, keys)])\n",
    "\n",
    "# etc_nid = pd.Series(tess_nid, index=etcs.index)"
   ]
  },
  {
   "cell_type": "code",
   "execution_count": null,
   "id": "d4b864ee-462b-4221-810b-3b1e55558df4",
   "metadata": {},
   "outputs": [],
   "source": []
  },
  {
   "cell_type": "code",
   "execution_count": 45,
   "id": "0c267f3d-f4c3-4100-9695-0ac568d4a4fb",
   "metadata": {},
   "outputs": [],
   "source": [
    "etc_nid = mm.get_nearest_street(\n",
    "    etcs, edges\n",
    ")"
   ]
  },
  {
   "cell_type": "code",
   "execution_count": null,
   "id": "d560f667-d2b4-499a-85bd-43332d28b8a7",
   "metadata": {},
   "outputs": [],
   "source": []
  },
  {
   "cell_type": "code",
   "execution_count": null,
   "id": "694f0154-9deb-410d-854c-5ce8f4a4891b",
   "metadata": {},
   "outputs": [],
   "source": []
  },
  {
   "cell_type": "code",
   "execution_count": null,
   "id": "363d15d8-bd0f-4dbd-87ed-bf872ac62315",
   "metadata": {},
   "outputs": [],
   "source": []
  },
  {
   "cell_type": "code",
   "execution_count": null,
   "id": "ff5a24e0-a912-4bb9-abbc-a1b71e2003ef",
   "metadata": {},
   "outputs": [],
   "source": []
  },
  {
   "cell_type": "code",
   "execution_count": 46,
   "id": "e1ab604d-bd0b-483d-bf18-05aada92b258",
   "metadata": {},
   "outputs": [
    {
     "name": "stdout",
     "output_type": "stream",
     "text": [
      "CPU times: user 3.37 s, sys: 0 ns, total: 3.37 s\n",
      "Wall time: 3.37 s\n"
     ]
    }
   ],
   "source": [
    "%%time\n",
    "inpidxs, tree_idxs = streets.sindex.query(etcs.geometry, predicate='dwithin', distance=1)"
   ]
  },
  {
   "cell_type": "code",
   "execution_count": null,
   "id": "1371c2a3-8c13-4d23-be10-cca1165a8f36",
   "metadata": {},
   "outputs": [],
   "source": []
  },
  {
   "cell_type": "code",
   "execution_count": 47,
   "id": "d5eac01d-54b3-4bc5-9afc-98d168e2915d",
   "metadata": {},
   "outputs": [],
   "source": [
    "street_etcarea_std = etcs.iloc[inpidxs].area.groupby(streets.index[tree_idxs]).std()\n",
    "street_etcarea_std = street_etcarea_std.fillna(0)\n",
    "etc_street_std = etc_nid.map(lambda x: street_etcarea_std.loc[x] if x in street_etcarea_std else 0)"
   ]
  },
  {
   "cell_type": "code",
   "execution_count": null,
   "id": "3cfe4ec8-5e20-4e4c-963a-5a5ec4addba9",
   "metadata": {},
   "outputs": [],
   "source": []
  },
  {
   "cell_type": "code",
   "execution_count": 48,
   "id": "4198b4d8-74d2-4ee8-bba3-d5dbbdfc9fc5",
   "metadata": {},
   "outputs": [],
   "source": [
    "# graph_dir = '/data/uscuni-ulce/processed_data/neigh_graphs/'\n",
    "# from libpysal.graph import read_parquet, Graph\n",
    "\n",
    "# graph = read_parquet(graph_dir + f'tessellation_graph_{region_id}.parquet')"
   ]
  },
  {
   "cell_type": "code",
   "execution_count": null,
   "id": "56ffec6d-ef2b-4947-a260-dd4533a7fb47",
   "metadata": {},
   "outputs": [],
   "source": [
    "graph = Graph.build_fuzzy_contiguity(etcs.geometry, tolerance=.1) "
   ]
  },
  {
   "cell_type": "code",
   "execution_count": null,
   "id": "c75ed8b4-8654-47b7-aee2-848218ebe6b8",
   "metadata": {},
   "outputs": [],
   "source": [
    "graph3 = graph.higher_order(k=3, lower_order=True, diagonal=True)"
   ]
  },
  {
   "cell_type": "code",
   "execution_count": null,
   "id": "acf36ae1-1051-42d9-b4f8-906c084490f0",
   "metadata": {},
   "outputs": [],
   "source": []
  },
  {
   "cell_type": "code",
   "execution_count": null,
   "id": "9545b8df-b9a9-4cfd-8dc7-89a298f72e60",
   "metadata": {},
   "outputs": [],
   "source": []
  },
  {
   "cell_type": "code",
   "execution_count": null,
   "id": "c3b55967-f6d0-458d-90a1-76322d49494a",
   "metadata": {},
   "outputs": [],
   "source": [
    "## variety stuff"
   ]
  },
  {
   "cell_type": "code",
   "execution_count": null,
   "id": "6582f940-d5b2-470a-af30-0b6ad854699f",
   "metadata": {},
   "outputs": [],
   "source": []
  },
  {
   "cell_type": "code",
   "execution_count": null,
   "id": "7502940e-e9cc-4389-ae11-121004255d90",
   "metadata": {},
   "outputs": [],
   "source": [
    "# good\n",
    "etcs['barea'] = buildings.area\n",
    "etcs['barea'] = etcs['barea'].fillna(0)\n",
    "assert (etcs.loc[buildings.index, 'barea'] == buildings.area).all()\n",
    "\n",
    "res = graph.describe(etcs['barea'])\n",
    "etcs['barea_std'] = res['std']"
   ]
  },
  {
   "cell_type": "code",
   "execution_count": null,
   "id": "7290d244-9092-4665-a821-422f3c32123a",
   "metadata": {},
   "outputs": [],
   "source": [
    "res = graph3.describe(etcs['barea'])\n",
    "etcs['barea3_std'] = res['std']"
   ]
  },
  {
   "cell_type": "code",
   "execution_count": null,
   "id": "38a18b89-f0ec-420e-8cae-024bc1738ccf",
   "metadata": {},
   "outputs": [],
   "source": [
    "res = graph.describe(etcs['sdcAre'])\n",
    "etcs['tarea_std'] = res['std']"
   ]
  },
  {
   "cell_type": "code",
   "execution_count": null,
   "id": "0b260049-0af3-46d3-b5de-5fa1460d5183",
   "metadata": {},
   "outputs": [],
   "source": []
  },
  {
   "cell_type": "code",
   "execution_count": null,
   "id": "b78e7945-73d4-4283-a80c-ebaf5e4148cd",
   "metadata": {},
   "outputs": [],
   "source": [
    "enc_etcarea_std = etcs.area.groupby(etcs['enclosure_index']).std().fillna(0)\n",
    "etcs['enc_etcarea_std'] = etcs['enclosure_index'].map(lambda x: enc_etcarea_std.loc[x])"
   ]
  },
  {
   "cell_type": "code",
   "execution_count": null,
   "id": "aa81d1f1-b938-4869-a515-0e8513bd9a39",
   "metadata": {},
   "outputs": [],
   "source": []
  },
  {
   "cell_type": "code",
   "execution_count": null,
   "id": "7b7d5a75-8dda-49ed-8f64-1f01f9e28493",
   "metadata": {},
   "outputs": [],
   "source": [
    "# not really sensible\n",
    "street_barea_std = buildings.area.groupby(blg_nid).std()\n",
    "street_barea_std = street_barea_std.fillna(0)\n",
    "blg_street_std = blg_nid.map(lambda x: street_barea_std.loc[x])\n",
    "\n",
    "etcs['blg_street_std'] = blg_street_std\n",
    "etcs['blg_street_std'] = etcs['blg_street_std'].fillna(0)"
   ]
  },
  {
   "cell_type": "code",
   "execution_count": null,
   "id": "729ce82a-9d47-4f3c-8178-569a5733ecf0",
   "metadata": {},
   "outputs": [],
   "source": [
    "# not really sensible\n",
    "etcs['etc_street_std'] = etc_street_std.fillna(0)"
   ]
  },
  {
   "cell_type": "code",
   "execution_count": null,
   "id": "6cb44d25-4d3e-4c42-a705-05b14cb68b76",
   "metadata": {},
   "outputs": [],
   "source": []
  },
  {
   "cell_type": "code",
   "execution_count": null,
   "id": "15a87a14-646d-4fae-a7c4-55ac3781bcd0",
   "metadata": {},
   "outputs": [],
   "source": [
    "## doesnt really add much. mean is basically area\n",
    "etcs['cor_std'] = res['std']\n",
    "etcs['cor_mean'] = res['mean']\n",
    "\n",
    "etcs['cor_std'] = etcs['cor_std'].fillna(0)\n",
    "etcs['cor_mean'] = etcs['cor_mean'].fillna(0)\n",
    "\n",
    "res = graph.describe(etcs['cor_std'])\n",
    "etcs['cor_std'] = res['mean']\n",
    "\n",
    "res = graph.describe(etcs['cor_mean'])\n",
    "etcs['cor_mean'] = res['std']"
   ]
  },
  {
   "cell_type": "code",
   "execution_count": null,
   "id": "8ea14e8d-1995-4f4a-adde-3453e6675210",
   "metadata": {},
   "outputs": [],
   "source": []
  },
  {
   "cell_type": "code",
   "execution_count": null,
   "id": "bd43ef05-ae58-41a8-8856-65519f08fe15",
   "metadata": {},
   "outputs": [],
   "source": [
    "## nothing much\n",
    "etcs['sicar'] = etcs['barea'] / etcs.area\n",
    "res = graph.describe(etcs['sicar'])\n",
    "etcs['sicar_std'] = res['mean']"
   ]
  },
  {
   "cell_type": "code",
   "execution_count": null,
   "id": "73091ed0-988a-41f6-8a03-f73dd8b8dcc6",
   "metadata": {},
   "outputs": [],
   "source": []
  },
  {
   "cell_type": "code",
   "execution_count": null,
   "id": "b55f4eaf-9632-4759-a9bc-979704f3d4ae",
   "metadata": {},
   "outputs": [],
   "source": []
  },
  {
   "cell_type": "code",
   "execution_count": null,
   "id": "d434c228-da21-407b-87d8-2e0ca99a83e5",
   "metadata": {},
   "outputs": [],
   "source": [
    "etcs['bperi'] = buildings.length\n",
    "etcs['bperi'] = etcs['bperi'].fillna(0)\n",
    "res = graph.describe(etcs['bperi'])\n",
    "etcs['bperi_std'] = res['std']"
   ]
  },
  {
   "cell_type": "code",
   "execution_count": null,
   "id": "e4d07c06-f19f-4c63-b808-cc576222f26b",
   "metadata": {},
   "outputs": [],
   "source": [
    "import momepy as mm"
   ]
  },
  {
   "cell_type": "code",
   "execution_count": null,
   "id": "e1f53864-ddee-46e5-a4b9-0276056718d4",
   "metadata": {},
   "outputs": [],
   "source": [
    "etcs['fr'] = mm.facade_ratio(etcs)"
   ]
  },
  {
   "cell_type": "code",
   "execution_count": null,
   "id": "a24dfdb7-ca22-4902-9120-0d9639f3f8c1",
   "metadata": {},
   "outputs": [],
   "source": [
    "res = graph.describe(etcs['fr'])\n",
    "etcs['fr_std'] = res['std']"
   ]
  },
  {
   "cell_type": "code",
   "execution_count": null,
   "id": "f6895216-b5b6-4378-9a8e-83364989a659",
   "metadata": {},
   "outputs": [],
   "source": []
  },
  {
   "cell_type": "code",
   "execution_count": null,
   "id": "d281d1d5-3543-484b-bf80-78682b1cc9f1",
   "metadata": {},
   "outputs": [],
   "source": [
    "enc_etcarea_std = etcs.area.groupby(etcs['enclosure_index']).std().fillna(0)\n",
    "etcs['enc_etcarea_std'] = etcs['enclosure_index'].map(lambda x: enc_etcarea_std.loc[x])"
   ]
  },
  {
   "cell_type": "code",
   "execution_count": null,
   "id": "05595d62-8b96-4528-901f-f54bd46d06c5",
   "metadata": {},
   "outputs": [],
   "source": []
  },
  {
   "cell_type": "code",
   "execution_count": null,
   "id": "e8fb8d55-757b-4bb8-add6-81f085dcf82d",
   "metadata": {},
   "outputs": [],
   "source": [
    "from core.cluster_validation import generate_detailed_clusters\n",
    "morphotopes = generate_detailed_clusters(etcs, path = '/data/uscuni-ulce/val_morphotopes/prague_morphotopes.pq')\n",
    "morphotope_etcs = etcs.loc[morphotopes.index]\n",
    "morphotope_etcs['mlabel'] = morphotopes.values\n",
    "\n",
    "types = pd.Series([0,0,0, 1,1, 2,2,2,2, 3,3], index=[8,134,14, 18,31, 7,5,37,36, 57,58])\n",
    "types = types.replace({0: 'houses', 1: 'grid', 2: 'apartment blocks', 3: 'industry'})\n",
    "morphotope_etcs = morphotope_etcs[morphotope_etcs['mlabel'].isin(types.index)]\n",
    "morphotope_etcs['types'] = morphotope_etcs['mlabel'].map(lambda x: types.loc[x])\n",
    "\n"
   ]
  },
  {
   "cell_type": "code",
   "execution_count": null,
   "id": "20118d2a-32a0-4bc4-8f54-66450d376d78",
   "metadata": {},
   "outputs": [],
   "source": []
  },
  {
   "cell_type": "code",
   "execution_count": null,
   "id": "b4ebfe85-1c60-4da6-b6d9-3bd1a6571698",
   "metadata": {},
   "outputs": [],
   "source": [
    "res = morphotope_etcs.iloc[:, 2:-1].groupby(morphotope_etcs['types']).mean()\n",
    "res.style.background_gradient(axis=0, cmap=\"BuGn\")"
   ]
  },
  {
   "cell_type": "code",
   "execution_count": null,
   "id": "2536eff2-508f-4e47-956a-72c55f18be03",
   "metadata": {},
   "outputs": [],
   "source": [
    "# barea_stds and blg_street_stds, might be useful"
   ]
  },
  {
   "cell_type": "code",
   "execution_count": 27,
   "id": "4cef4455-322d-4a77-8d73-4cbf31e0be64",
   "metadata": {},
   "outputs": [],
   "source": [
    "### fixed minimum for buildings and tess area to limit all the weird variability... "
   ]
  },
  {
   "cell_type": "code",
   "execution_count": null,
   "id": "d00d206c-3fa8-4791-8584-527f3e071b30",
   "metadata": {},
   "outputs": [],
   "source": []
  },
  {
   "cell_type": "code",
   "execution_count": null,
   "id": "5967f80c-6b4e-4a0a-b39c-3f7acb8800a9",
   "metadata": {},
   "outputs": [],
   "source": []
  },
  {
   "cell_type": "code",
   "execution_count": 28,
   "id": "20b81030-6b59-4689-8c7b-5ef67b7c789d",
   "metadata": {},
   "outputs": [],
   "source": [
    "import lonboard\n",
    "from sidecar import Sidecar"
   ]
  },
  {
   "cell_type": "code",
   "execution_count": 29,
   "id": "2156bdee-66be-4954-8350-10a2c8b310b1",
   "metadata": {},
   "outputs": [],
   "source": [
    "plotting = etcs[etcs.index >= 0]"
   ]
  },
  {
   "cell_type": "code",
   "execution_count": 30,
   "id": "5e1acfac-02a7-4e06-93c9-c215a99bc8c8",
   "metadata": {},
   "outputs": [],
   "source": [
    "plotting.loc[:, 'barea'] = plotting.barea.clip(1, ).fillna(0)\n",
    "plotting.loc[:, 'barea_std'] = plotting.barea_std.clip(1, )"
   ]
  },
  {
   "cell_type": "code",
   "execution_count": 31,
   "id": "550c41fe-1204-4881-90af-03948bfde09a",
   "metadata": {},
   "outputs": [
    {
     "name": "stderr",
     "output_type": "stream",
     "text": [
      "/home/krasen/urban_taxonomy/.pixi/envs/default/lib/python3.12/site-packages/lonboard/_geoarrow/ops/reproject.py:97: UserWarning: Input being reprojected to EPSG:4326 CRS\n",
      "  warnings.warn(\"Input being reprojected to EPSG:4326 CRS\")\n"
     ]
    }
   ],
   "source": [
    "layer = lonboard.SolidPolygonLayer.from_geopandas(plotting, opacity=.08)"
   ]
  },
  {
   "cell_type": "code",
   "execution_count": 32,
   "id": "d368afc4-7657-4815-88eb-855210d9f7d2",
   "metadata": {},
   "outputs": [],
   "source": [
    "sc = Sidecar(title='tess')\n",
    "m = lonboard.Map(layer)\n",
    "with sc:\n",
    "    display(m)"
   ]
  },
  {
   "cell_type": "code",
   "execution_count": 33,
   "id": "c7463fb9-5e82-4228-ae13-f26f5fcc2d41",
   "metadata": {},
   "outputs": [
    {
     "data": {
      "text/plain": [
       "Index(['enclosure_index', 'geometry', 'stcOri', 'sdcLAL', 'sdcAre', 'sscCCo',\n",
       "       'sscERI', 'mtcWNe', 'mdcAre', 'ltcWRB', 'sicCAR', 'stcSAl', 'nID',\n",
       "       'nodeID', 'barea', 'barea_std', 'barea3_std', 'tarea_std',\n",
       "       'enc_etcarea_std', 'blg_street_std', 'etc_street_std', 'cor_std',\n",
       "       'cor_mean', 'sicar', 'sicar_std', 'bperi', 'bperi_std', 'fr', 'fr_std'],\n",
       "      dtype='object')"
      ]
     },
     "execution_count": 33,
     "metadata": {},
     "output_type": "execute_result"
    }
   ],
   "source": [
    "etcs.columns"
   ]
  },
  {
   "cell_type": "code",
   "execution_count": 34,
   "id": "e5cba8a4-da6d-4873-9b37-ebdee36102be",
   "metadata": {},
   "outputs": [],
   "source": [
    "column = 'barea3_std'"
   ]
  },
  {
   "cell_type": "code",
   "execution_count": null,
   "id": "1feb2480-453b-4d49-9e37-f51f0eb12090",
   "metadata": {},
   "outputs": [],
   "source": []
  },
  {
   "cell_type": "code",
   "execution_count": 40,
   "id": "f27cd775-f7a6-4aaf-925b-72a3f9acd75e",
   "metadata": {},
   "outputs": [],
   "source": [
    "# from lonboard.colormap import apply_continuous_cmap\n",
    "# import matplotlib as mpl\n",
    "# from mapclassify import classify\n",
    "\n",
    "# classifier = classify(plotting[column], 'quantiles', k=100)\n",
    "# normalizer = mpl.colors.Normalize(0, classifier.bins.shape[0])\n",
    "# vals = normalizer(classifier.yb)\n",
    "# layer.get_fill_color = apply_continuous_cmap(vals, mpl.colormaps['viridis'])"
   ]
  },
  {
   "cell_type": "code",
   "execution_count": 46,
   "id": "48bffef1-790e-4303-a0db-9855d50258de",
   "metadata": {},
   "outputs": [],
   "source": [
    "from core.cluster_validation import get_color\n",
    "a = np.log(plotting[column])\n",
    "# quintiles = np.nanpercentile(a, np.arange(1, 100, 1).tolist() + [99.5, 99.9])    \n",
    "quintiles = np.nanpercentile(a, np.arange(1, 100, 2).tolist() + [99.5, 99.9])    \n",
    "vals = np.searchsorted(quintiles, a)\n",
    "layer.get_fill_color = get_color(vals)"
   ]
  },
  {
   "cell_type": "code",
   "execution_count": null,
   "id": "0fb4826f-8e42-4f61-96b0-fcc10ac3ec8e",
   "metadata": {},
   "outputs": [],
   "source": []
  },
  {
   "cell_type": "code",
   "execution_count": null,
   "id": "8a426c4e-d85e-48fe-acf3-b9ef026254ff",
   "metadata": {},
   "outputs": [],
   "source": []
  },
  {
   "cell_type": "code",
   "execution_count": null,
   "id": "37c4c9a8-2598-4821-bf12-1ae02d7e7ff7",
   "metadata": {},
   "outputs": [],
   "source": []
  },
  {
   "cell_type": "code",
   "execution_count": null,
   "id": "bf531c42-f09a-4561-bf7f-fb24f765846b",
   "metadata": {},
   "outputs": [],
   "source": []
  },
  {
   "cell_type": "code",
   "execution_count": 63,
   "id": "bb7ad9a8-232e-4e93-852c-af56e1716649",
   "metadata": {},
   "outputs": [],
   "source": [
    "locs = [445777, 445835, 445963]"
   ]
  },
  {
   "cell_type": "code",
   "execution_count": 64,
   "id": "9bdc092a-156f-4c02-b9bf-e8646530eaa0",
   "metadata": {},
   "outputs": [
    {
     "data": {
      "text/html": [
       "<div style=\"width:100%;\"><div style=\"position:relative;width:100%;height:0;padding-bottom:60%;\"><span style=\"color:#565656\">Make this Notebook Trusted to load map: File -> Trust Notebook</span><iframe srcdoc=\"&lt;!DOCTYPE html&gt;\n",
       "&lt;html&gt;\n",
       "&lt;head&gt;\n",
       "    \n",
       "    &lt;meta http-equiv=&quot;content-type&quot; content=&quot;text/html; charset=UTF-8&quot; /&gt;\n",
       "    \n",
       "        &lt;script&gt;\n",
       "            L_NO_TOUCH = false;\n",
       "            L_DISABLE_3D = false;\n",
       "        &lt;/script&gt;\n",
       "    \n",
       "    &lt;style&gt;html, body {width: 100%;height: 100%;margin: 0;padding: 0;}&lt;/style&gt;\n",
       "    &lt;style&gt;#map {position:absolute;top:0;bottom:0;right:0;left:0;}&lt;/style&gt;\n",
       "    &lt;script src=&quot;https://cdn.jsdelivr.net/npm/leaflet@1.9.3/dist/leaflet.js&quot;&gt;&lt;/script&gt;\n",
       "    &lt;script src=&quot;https://code.jquery.com/jquery-3.7.1.min.js&quot;&gt;&lt;/script&gt;\n",
       "    &lt;script src=&quot;https://cdn.jsdelivr.net/npm/bootstrap@5.2.2/dist/js/bootstrap.bundle.min.js&quot;&gt;&lt;/script&gt;\n",
       "    &lt;script src=&quot;https://cdnjs.cloudflare.com/ajax/libs/Leaflet.awesome-markers/2.0.2/leaflet.awesome-markers.js&quot;&gt;&lt;/script&gt;\n",
       "    &lt;link rel=&quot;stylesheet&quot; href=&quot;https://cdn.jsdelivr.net/npm/leaflet@1.9.3/dist/leaflet.css&quot;/&gt;\n",
       "    &lt;link rel=&quot;stylesheet&quot; href=&quot;https://cdn.jsdelivr.net/npm/bootstrap@5.2.2/dist/css/bootstrap.min.css&quot;/&gt;\n",
       "    &lt;link rel=&quot;stylesheet&quot; href=&quot;https://netdna.bootstrapcdn.com/bootstrap/3.0.0/css/bootstrap-glyphicons.css&quot;/&gt;\n",
       "    &lt;link rel=&quot;stylesheet&quot; href=&quot;https://cdn.jsdelivr.net/npm/@fortawesome/fontawesome-free@6.2.0/css/all.min.css&quot;/&gt;\n",
       "    &lt;link rel=&quot;stylesheet&quot; href=&quot;https://cdnjs.cloudflare.com/ajax/libs/Leaflet.awesome-markers/2.0.2/leaflet.awesome-markers.css&quot;/&gt;\n",
       "    &lt;link rel=&quot;stylesheet&quot; href=&quot;https://cdn.jsdelivr.net/gh/python-visualization/folium/folium/templates/leaflet.awesome.rotate.min.css&quot;/&gt;\n",
       "    \n",
       "            &lt;meta name=&quot;viewport&quot; content=&quot;width=device-width,\n",
       "                initial-scale=1.0, maximum-scale=1.0, user-scalable=no&quot; /&gt;\n",
       "            &lt;style&gt;\n",
       "                #map_14e7ac04a57f1e9d870497cdc9df6836 {\n",
       "                    position: relative;\n",
       "                    width: 100.0%;\n",
       "                    height: 100.0%;\n",
       "                    left: 0.0%;\n",
       "                    top: 0.0%;\n",
       "                }\n",
       "                .leaflet-container { font-size: 1rem; }\n",
       "            &lt;/style&gt;\n",
       "        \n",
       "    \n",
       "                    &lt;style&gt;\n",
       "                        .foliumtooltip {\n",
       "                            \n",
       "                        }\n",
       "                       .foliumtooltip table{\n",
       "                            margin: auto;\n",
       "                        }\n",
       "                        .foliumtooltip tr{\n",
       "                            text-align: left;\n",
       "                        }\n",
       "                        .foliumtooltip th{\n",
       "                            padding: 2px; padding-right: 8px;\n",
       "                        }\n",
       "                    &lt;/style&gt;\n",
       "            \n",
       "&lt;/head&gt;\n",
       "&lt;body&gt;\n",
       "    \n",
       "    \n",
       "            &lt;div class=&quot;folium-map&quot; id=&quot;map_14e7ac04a57f1e9d870497cdc9df6836&quot; &gt;&lt;/div&gt;\n",
       "        \n",
       "&lt;/body&gt;\n",
       "&lt;script&gt;\n",
       "    \n",
       "    \n",
       "            var map_14e7ac04a57f1e9d870497cdc9df6836 = L.map(\n",
       "                &quot;map_14e7ac04a57f1e9d870497cdc9df6836&quot;,\n",
       "                {\n",
       "                    center: [50.03768568674644, 14.338855195017851],\n",
       "                    crs: L.CRS.EPSG3857,\n",
       "                    zoom: 10,\n",
       "                    zoomControl: true,\n",
       "                    preferCanvas: false,\n",
       "                }\n",
       "            );\n",
       "            L.control.scale().addTo(map_14e7ac04a57f1e9d870497cdc9df6836);\n",
       "\n",
       "            \n",
       "\n",
       "        \n",
       "    \n",
       "            var tile_layer_f0b753773ee5ecd034403159429213e1 = L.tileLayer(\n",
       "                &quot;https://tile.openstreetmap.org/{z}/{x}/{y}.png&quot;,\n",
       "                {&quot;attribution&quot;: &quot;\\u0026copy; \\u003ca href=\\&quot;https://www.openstreetmap.org/copyright\\&quot;\\u003eOpenStreetMap\\u003c/a\\u003e contributors&quot;, &quot;detectRetina&quot;: false, &quot;maxNativeZoom&quot;: 19, &quot;maxZoom&quot;: 19, &quot;minZoom&quot;: 0, &quot;noWrap&quot;: false, &quot;opacity&quot;: 1, &quot;subdomains&quot;: &quot;abc&quot;, &quot;tms&quot;: false}\n",
       "            );\n",
       "        \n",
       "    \n",
       "            tile_layer_f0b753773ee5ecd034403159429213e1.addTo(map_14e7ac04a57f1e9d870497cdc9df6836);\n",
       "        \n",
       "    \n",
       "            map_14e7ac04a57f1e9d870497cdc9df6836.fitBounds(\n",
       "                [[50.03667066093367, 14.337216760076819], [50.03870071255922, 14.340493629958884]],\n",
       "                {}\n",
       "            );\n",
       "        \n",
       "    \n",
       "        function geo_json_7f8f779477eb98f5986359cd446d72b1_styler(feature) {\n",
       "            switch(feature.id) {\n",
       "                default:\n",
       "                    return {&quot;fillOpacity&quot;: 0.5, &quot;weight&quot;: 2};\n",
       "            }\n",
       "        }\n",
       "        function geo_json_7f8f779477eb98f5986359cd446d72b1_highlighter(feature) {\n",
       "            switch(feature.id) {\n",
       "                default:\n",
       "                    return {&quot;fillOpacity&quot;: 0.75};\n",
       "            }\n",
       "        }\n",
       "        function geo_json_7f8f779477eb98f5986359cd446d72b1_pointToLayer(feature, latlng) {\n",
       "            var opts = {&quot;bubblingMouseEvents&quot;: true, &quot;color&quot;: &quot;#3388ff&quot;, &quot;dashArray&quot;: null, &quot;dashOffset&quot;: null, &quot;fill&quot;: true, &quot;fillColor&quot;: &quot;#3388ff&quot;, &quot;fillOpacity&quot;: 0.2, &quot;fillRule&quot;: &quot;evenodd&quot;, &quot;lineCap&quot;: &quot;round&quot;, &quot;lineJoin&quot;: &quot;round&quot;, &quot;opacity&quot;: 1.0, &quot;radius&quot;: 2, &quot;stroke&quot;: true, &quot;weight&quot;: 3};\n",
       "            \n",
       "            let style = geo_json_7f8f779477eb98f5986359cd446d72b1_styler(feature)\n",
       "            Object.assign(opts, style)\n",
       "            \n",
       "            return new L.CircleMarker(latlng, opts)\n",
       "        }\n",
       "\n",
       "        function geo_json_7f8f779477eb98f5986359cd446d72b1_onEachFeature(feature, layer) {\n",
       "            layer.on({\n",
       "                mouseout: function(e) {\n",
       "                    if(typeof e.target.setStyle === &quot;function&quot;){\n",
       "                            geo_json_7f8f779477eb98f5986359cd446d72b1.resetStyle(e.target);\n",
       "                    }\n",
       "                },\n",
       "                mouseover: function(e) {\n",
       "                    if(typeof e.target.setStyle === &quot;function&quot;){\n",
       "                        const highlightStyle = geo_json_7f8f779477eb98f5986359cd446d72b1_highlighter(e.target.feature)\n",
       "                        e.target.setStyle(highlightStyle);\n",
       "                    }\n",
       "                },\n",
       "            });\n",
       "        };\n",
       "        var geo_json_7f8f779477eb98f5986359cd446d72b1 = L.geoJson(null, {\n",
       "                onEachFeature: geo_json_7f8f779477eb98f5986359cd446d72b1_onEachFeature,\n",
       "            \n",
       "                style: geo_json_7f8f779477eb98f5986359cd446d72b1_styler,\n",
       "                pointToLayer: geo_json_7f8f779477eb98f5986359cd446d72b1_pointToLayer,\n",
       "        });\n",
       "\n",
       "        function geo_json_7f8f779477eb98f5986359cd446d72b1_add (data) {\n",
       "            geo_json_7f8f779477eb98f5986359cd446d72b1\n",
       "                .addData(data);\n",
       "        }\n",
       "            geo_json_7f8f779477eb98f5986359cd446d72b1_add({&quot;bbox&quot;: [14.337216760076819, 50.03667066093367, 14.340493629958884, 50.03870071255922], &quot;features&quot;: [{&quot;bbox&quot;: [14.338394119034225, 50.03678909690929, 14.340493629958884, 50.03768165255516], &quot;geometry&quot;: {&quot;coordinates&quot;: [[[14.338394119034225, 50.03746702300093], [14.338526517794522, 50.03757962534748], [14.338532522822058, 50.0375844361551], [14.338544692573636, 50.037593290487266], [14.338557085255918, 50.0376011294188], [14.338569695565441, 50.03760794954582], [14.338576084990764, 50.03761097899433], [14.338589025476356, 50.037616273300124], [14.33859558041942, 50.03761853975558], [14.338608850931061, 50.037622308190016], [14.338615570724341, 50.03762381141657], [14.338629171699859, 50.037626054107804], [14.338639381850523, 50.03762702693316], [14.338753545961671, 50.037637211239364], [14.338793901766161, 50.03764078131793], [14.338807198215497, 50.03764262340822], [14.338820289478925, 50.03764542594884], [14.338833174598394, 50.03764918883078], [14.338839541076064, 50.03765143084623], [14.338852115650898, 50.03765663378069], [14.338858325864136, 50.03765959545126], [14.338900753440035, 50.03768165255516], [14.33891111379948, 50.03768117857637], [14.338925222791696, 50.037680054323225], [14.33893232256998, 50.03767929310999], [14.338946599556527, 50.03767737398223], [14.338953782093752, 50.03767621543574], [14.338968232529407, 50.03767350072733], [14.338975500427441, 50.03767194456545], [14.338990121583375, 50.037668434626426], [14.338997478146629, 50.037666479970966], [14.339012266732931, 50.037662175732855], [14.33902717242021, 50.037657340411634], [14.339034667943201, 50.03765472394342], [14.339049744347847, 50.037649093391714], [14.33906493898674, 50.03764293085716], [14.339080238602254, 50.037636241894916], [14.339105088993417, 50.037624498991164], [14.339120880543547, 50.03761730606668], [14.33912906466015, 50.03761373811788], [14.33914600786061, 50.03760665997764], [14.339163722830286, 50.03759965674001], [14.339182203166335, 50.03759273093174], [14.339201455938799, 50.037585879906786], [14.339221473357265, 50.03757910643257], [14.33924226398521, 50.03757240761516], [14.339289719112013, 50.03755765685694], [14.339323801613045, 50.03754748018355], [14.33935254962439, 50.037539345768884], [14.339372583949919, 50.03753430889805], [14.339399492605798, 50.037527812499285], [14.339428256477285, 50.037536557658086], [14.339447822627095, 50.03754289757832], [14.339467346513567, 50.037549540770705], [14.339486787045955, 50.0375564733002], [14.339499718619816, 50.037561261852034], [14.339526441067067, 50.03757161218745], [14.339634485035074, 50.03751887771805], [14.339902079627507, 50.03738831337137], [14.339916866439824, 50.03738091003919], [14.339930849122895, 50.03737343267632], [14.339937540677106, 50.037369665047144], [14.339950308616276, 50.03736208067539], [14.339962267146381, 50.037354424833765], [14.339973416265977, 50.03734669752259], [14.33998375597459, 50.03733889874144], [14.339988620164581, 50.037334974312415], [14.340079727693977, 50.03725793046444], [14.340089795959312, 50.037249997662464], [14.340095141881472, 50.037246058314125], [14.340106454621344, 50.037238235691426], [14.340118597781697, 50.037230485972835], [14.340131570896233, 50.03722280948702], [14.34013836954251, 50.0372189982263], [14.340152586854883, 50.03721143199016], [14.340160007113878, 50.03720767613366], [14.34031541305081, 50.0371305433369], [14.340338126834459, 50.03711890885432], [14.340360986338425, 50.037106531070165], [14.34037629895593, 50.0370978706541], [14.34039938637069, 50.037084262275144], [14.340414852598839, 50.0370747807738], [14.340493629958884, 50.03702537986916], [14.340476999999995, 50.03699589690937], [14.340474099999998, 50.0369402969093], [14.340427900000002, 50.0369360969093], [14.338860300000007, 50.036795396909305], [14.338790299999998, 50.03678909690929], [14.338766499999997, 50.036842596909274], [14.338716999999999, 50.036888196909324], [14.338647300000002, 50.036921296909355], [14.338564799999993, 50.03693809690934], [14.338482312271564, 50.036936953893836], [14.338474305178256, 50.036974647375935], [14.338479721017737, 50.03698979251568], [14.338483834966466, 50.03700367298747], [14.338487115309796, 50.03701747991611], [14.338488839051685, 50.03702664368454], [14.338490192270257, 50.03703577477159], [14.338491527100738, 50.03704940670249], [14.33849202871557, 50.03706297196091], [14.338491696453957, 50.03707646025232], [14.338491011790634, 50.03708541159606], [14.338489290549186, 50.037098774083], [14.338487679015062, 50.03710764698741], [14.338485783442152, 50.037116491527165], [14.338482505265016, 50.03712971998539], [14.338479856685376, 50.03713849810909], [14.338475189047745, 50.03715160403318], [14.33847161420969, 50.03716030045947], [14.338467668867974, 50.03716896420749], [14.338463353022972, 50.037177595276], [14.338458666673864, 50.0371861936662], [14.338453611813854, 50.037194756065276], [14.33844818238034, 50.03720329241882], [14.338442384517228, 50.03721179277138], [14.338431807737102, 50.037225988205854], [14.338433120139968, 50.0372425130845], [14.338433346763665, 50.0372515484409], [14.338433036869427, 50.03726503870574], [14.338432397179483, 50.03727399401577], [14.338431411014195, 50.037282918766905], [14.338429282746926, 50.03729624512785], [14.338424585159988, 50.037318363662386], [14.338422422455928, 50.03732718464129], [14.3384199133001, 50.03733597506199], [14.338415499893635, 50.037349103409525], [14.338412124606148, 50.03735781743632], [14.338408402865749, 50.03736650090609], [14.338404777244236, 50.0373742329202], [14.338405254251706, 50.03738424665804], [14.33840521035219, 50.03739776040127], [14.33840474595889, 50.037406731173085], [14.338403933427019, 50.03741567123862], [14.338402772756314, 50.037424580598184], [14.338400378989716, 50.037437887062374], [14.338394119034225, 50.03746702300093]]], &quot;type&quot;: &quot;Polygon&quot;}, &quot;id&quot;: &quot;445777&quot;, &quot;properties&quot;: {&quot;blg_street_std&quot;: 0.0, &quot;enclosure_index&quot;: 15420, &quot;ltcWRB&quot;: 2.7530229381550984e-05, &quot;mdcAre&quot;: 55004.31075944213, &quot;mtcWNe&quot;: 0.017039237862366146, &quot;nID&quot;: 74420.0, &quot;nodeID&quot;: 49478.0, &quot;sdcAre&quot;: 9638.989602297908, &quot;sdcLAL&quot;: 160.05652187737707, &quot;sicCAR&quot;: 0.23295537692497978, &quot;sscCCo&quot;: 0.47906548221539785, &quot;sscERI&quot;: 0.9744498145955665, &quot;stcOri&quot;: 11.325369652269131, &quot;stcSAl&quot;: 21.19285986692907}, &quot;type&quot;: &quot;Feature&quot;}, {&quot;bbox&quot;: [14.337216760076819, 50.03667066093367, 14.33849202871557, 50.03766814504688], &quot;geometry&quot;: {&quot;coordinates&quot;: [[[14.337216760076819, 50.03740686895265], [14.337229524116001, 50.037416637897365], [14.337247725524875, 50.03743013178576], [14.337259913493442, 50.037438886879], [14.337278268691707, 50.03745165299005], [14.337290558666407, 50.037459922454836], [14.33730289003589, 50.03746799811444], [14.337321465114364, 50.03747974835832], [14.337333902008984, 50.03748734070724], [14.337352631062002, 50.03749836347822], [14.337365170148445, 50.037505470505245], [14.337384056498154, 50.03751576772814], [14.33739163779166, 50.03751976049487], [14.33740871860413, 50.03753193083655], [14.337420980663943, 50.03754032273276], [14.337433297051755, 50.037548469142735], [14.337451870561507, 50.03756022646854], [14.337470563048273, 50.03757142910891], [14.337483091943286, 50.03757859011545], [14.337501981221777, 50.03758886765242], [14.337514640989388, 50.03759541168121], [14.337527353456684, 50.03760170913949], [14.337546521386002, 50.037610693110246], [14.337559367101685, 50.03761637477937], [14.337578731959978, 50.03762443386307], [14.337591708687011, 50.037629498770244], [14.33760473810991, 50.03763431711998], [14.337624381472624, 50.03764108241712], [14.337637544045156, 50.03764528480333], [14.337650757400022, 50.03764924003927], [14.337673599249824, 50.03765557869426], [14.337742034853783, 50.03765555803055], [14.337802073669499, 50.03765443569204], [14.337809130787114, 50.037654376858356], [14.337830191912731, 50.03765464058861], [14.337844152919594, 50.03765518301519], [14.337864977390964, 50.03765654670482], [14.337995702366117, 50.03766814504688], [14.33801106369327, 50.03766460964736], [14.3380257920189, 50.037661590525644], [14.338094718403642, 50.03764874106382], [14.338102200953347, 50.0376434067792], [14.338112645018246, 50.03763541734117], [14.338122312154574, 50.03762736326983], [14.338126859337361, 50.03762330779164], [14.33820828510616, 50.03754714560051], [14.338218389398447, 50.037538386423144], [14.33831032267152, 50.037504532344855], [14.338318008344581, 50.03750158896531], [14.338333443173207, 50.03749533992974], [14.338341208213489, 50.03749202788845], [14.33835680294793, 50.03748504174502], [14.338364648230236, 50.037481360669844], [14.338394119034225, 50.03746702300093], [14.338400378989716, 50.037437887062374], [14.338402772756314, 50.037424580598184], [14.338403933427019, 50.03741567123862], [14.33840474595889, 50.037406731173085], [14.33840521035219, 50.03739776040127], [14.338405254251706, 50.03738424665804], [14.338404777244236, 50.0373742329202], [14.338408402865749, 50.03736650090609], [14.338412124606148, 50.03735781743632], [14.338415499893635, 50.037349103409525], [14.3384199133001, 50.03733597506199], [14.338422422455928, 50.03732718464129], [14.338424585159988, 50.037318363662386], [14.338429282746926, 50.03729624512785], [14.338431411014195, 50.037282918766905], [14.338432397179483, 50.03727399401577], [14.338433036869427, 50.03726503870574], [14.338433346763665, 50.0372515484409], [14.338433120139968, 50.0372425130845], [14.338431807737102, 50.037225988205854], [14.338442384517228, 50.03721179277138], [14.33844818238034, 50.03720329241882], [14.338453611813854, 50.037194756065276], [14.338458666673864, 50.0371861936662], [14.338463353022972, 50.037177595276], [14.338467668867974, 50.03716896420749], [14.33847161420969, 50.03716030045947], [14.338475189047745, 50.03715160403318], [14.338479856685376, 50.03713849810909], [14.338482505265016, 50.03712971998539], [14.338485783442152, 50.037116491527165], [14.338487679015062, 50.03710764698741], [14.338489290549186, 50.037098774083], [14.338491011790634, 50.03708541159606], [14.338491696453957, 50.03707646025232], [14.33849202871557, 50.03706297196091], [14.338491527100738, 50.03704940670249], [14.338490192270257, 50.03703577477159], [14.338488839051685, 50.03702664368454], [14.338487115309796, 50.03701747991611], [14.338483834966466, 50.03700367298747], [14.338479721017737, 50.03698979251568], [14.338474305178256, 50.036974647375935], [14.338482312271564, 50.036936953893836], [14.338478199999994, 50.03693689690939], [14.3384029, 50.03692009690934], [14.338338799999994, 50.03688959690933], [14.338291700000005, 50.0368481969093], [14.338265900000001, 50.03679969690926], [14.3382637, 50.03674849690927], [14.338194300000001, 50.03673999690929], [14.337418200000007, 50.036671596909244], [14.337408542495728, 50.03667066093367], [14.337364162975403, 50.036865223609844], [14.337339614258182, 50.03698065185246], [14.337339539731108, 50.03698134017156], [14.337277496789557, 50.03724895700128], [14.337278672297334, 50.037258776478595], [14.337259606933285, 50.03734530475845], [14.33724370918932, 50.03735680515793], [14.33723489626236, 50.03736300425015], [14.33723035567961, 50.03737094287009], [14.337216760076819, 50.03740686895265]]], &quot;type&quot;: &quot;Polygon&quot;}, &quot;id&quot;: &quot;445835&quot;, &quot;properties&quot;: {&quot;blg_street_std&quot;: 0.0, &quot;enclosure_index&quot;: 15420, &quot;ltcWRB&quot;: 3.550450321340867e-05, &quot;mdcAre&quot;: 52518.531387067414, &quot;mtcWNe&quot;: 0.02070192961241122, &quot;nID&quot;: 27433.0, &quot;nodeID&quot;: 34678.0, &quot;sdcAre&quot;: 7728.275541393561, &quot;sdcLAL&quot;: 119.42731500287886, &quot;sicCAR&quot;: 0.22766990027299663, &quot;sscCCo&quot;: 0.6898987841027353, &quot;sscERI&quot;: 1.0471017202621649, &quot;stcOri&quot;: 12.868513541157839, &quot;stcSAl&quot;: 1.1389315537985851}, &quot;type&quot;: &quot;Feature&quot;}, {&quot;bbox&quot;: [14.337455100819017, 50.03746702300093, 14.339543160400202, 50.03870071255922], &quot;geometry&quot;: {&quot;coordinates&quot;: [[[14.337673599249824, 50.03765557869426], [14.337718578849145, 50.037787766808286], [14.337721016107805, 50.037797008622505], [14.337721870348732, 50.037801599248176], [14.337722848690861, 50.03781071300394], [14.337722854235265, 50.03781973920925], [14.337721886810895, 50.03782868165516], [14.337707742523502, 50.03789512913281], [14.337700144293802, 50.03793056331312], [14.337694335724992, 50.03795712903755], [14.33769148684152, 50.03796590205496], [14.337689696571845, 50.03797025802516], [14.337685386840834, 50.03797890272676], [14.337680104325862, 50.037987459794344], [14.337677096640288, 50.037991707865], [14.337670352880462, 50.038000136666895], [14.337662636843211, 50.03800847771494], [14.337653944422902, 50.038016735198745], [14.337644281687732, 50.03802490338463], [14.337639082300056, 50.038028957401764], [14.337627957270723, 50.03803699758041], [14.337615861370265, 50.038044949634816], [14.337609444061687, 50.03804889592644], [14.337595884985726, 50.0380567202006], [14.337581356207968, 50.03806445606861], [14.337573720676817, 50.03806829468608], [14.337455100819017, 50.038126170362474], [14.337548832300318, 50.038206005234905], [14.337559820426627, 50.0382160068893], [14.337569826540628, 50.03822592141929], [14.337578848630411, 50.03823574670895], [14.337582994143832, 50.038240629881166], [14.337590544954322, 50.03825032662094], [14.337597112478752, 50.03825993448438], [14.337600029608343, 50.03826470839914], [14.3376051251079, 50.03827418734967], [14.337609237863576, 50.03828357769103], [14.337612369654261, 50.03829288391535], [14.337614518492295, 50.03830210017366], [14.33761522496164, 50.03830667766478], [14.337615900883184, 50.03831576459577], [14.337615594749481, 50.038324763172554], [14.33761430630992, 50.03833367683518], [14.3375903043635, 50.038444019075875], [14.337589564256726, 50.038448490245365], [14.337588826039193, 50.038457499747146], [14.337588827998673, 50.03846203935109], [14.337589573912426, 50.038471181871806], [14.337590318156373, 50.03847578870373], [14.337592548296922, 50.03848506663767], [14.337595767494347, 50.03849443318348], [14.337599976382842, 50.03850389035872], [14.337605174686317, 50.0385134370677], [14.337635304567243, 50.038562198382536], [14.337645106369052, 50.03856345684273], [14.337658838412931, 50.03856495464765], [14.337830795006175, 50.03858036967797], [14.337851300123559, 50.03858271555451], [14.337864879795704, 50.03858470701672], [14.337878385273646, 50.03858704033593], [14.337891816557736, 50.03858971551178], [14.337905173648341, 50.038592732543904], [14.337918456545824, 50.038596091431955], [14.337931665250547, 50.03859979217553], [14.337944799762852, 50.03860383477428], [14.337957860083096, 50.038608219227825], [14.337970846211444, 50.03861294553574], [14.337983758148795, 50.038618013697864], [14.337996595894738, 50.03862342371355], [14.338009359450385, 50.038629175582706], [14.338022048815285, 50.03863526930465], [14.338041025302156, 50.03864509551847], [14.338060084147035, 50.03865370151623], [14.338072763264591, 50.03865984251022], [14.338085376524523, 50.038666286965835], [14.338097923927116, 50.03867303488281], [14.338114666344989, 50.038682581008906], [14.33812471485233, 50.03867871563463], [14.338139938343982, 50.038673133087855], [14.338162639478726, 50.038665400797484], [14.338177676578168, 50.03866067618435], [14.338192639225367, 50.03865629465748], [14.338207527420613, 50.03865225621725], [14.33822234116411, 50.03864856086409], [14.338237080456144, 50.038645208598425], [14.33825174529694, 50.03864219942069], [14.338266335686532, 50.03863953333131], [14.338280851625777, 50.038637210330634], [14.338295293114115, 50.03863523041919], [14.33830966015253, 50.03863359359731], [14.338323952740522, 50.03863229986549], [14.338338170879041, 50.03863134922406], [14.338352314567684, 50.038630741673536], [14.338366383807127, 50.03863047721428], [14.338380378597297, 50.038630555846716], [14.338401227658018, 50.03863131689802], [14.338415036354048, 50.03863225317471], [14.338576395284559, 50.038646613281394], [14.338607490232926, 50.03864936017069], [14.338621193558009, 50.03865078200308], [14.33863482236509, 50.0386525472095], [14.33864837665387, 50.03865465578952], [14.338668571881843, 50.038658463217395], [14.338864870502077, 50.03870071255922], [14.338891732636705, 50.03863968334384], [14.338911054188378, 50.03860031140745], [14.338915002489314, 50.03859157414427], [14.33891851357024, 50.038582806646254], [14.338922967452813, 50.03856958135897], [14.338926441308745, 50.03855628094282], [14.338943004470433, 50.038476415256895], [14.33895215255505, 50.03846780019776], [14.338960423859815, 50.03845942467355], [14.338995973441213, 50.03842135030335], [14.339004396271473, 50.03841850270145], [14.33901922295951, 50.03841385186518], [14.339033937851239, 50.038409686394886], [14.33919390300871, 50.03836812033951], [14.33920140807142, 50.03836605179212], [14.339216501949881, 50.038361537758135], [14.339224090765526, 50.038359092271584], [14.3392393521493, 50.03835382435924], [14.339247024717125, 50.038351001933535], [14.33926245360529, 50.038344980142654], [14.33927799908774, 50.038338453662156], [14.339293646241584, 50.038331428961826], [14.339301514228804, 50.03832772701573], [14.339363764229454, 50.03829749748626], [14.33922631462735, 50.03818048799848], [14.339220796684105, 50.03817547326941], [14.339210768728655, 50.03816553790056], [14.339206253378388, 50.03816061194884], [14.339198228063443, 50.03815085220401], [14.339191539018474, 50.038141211170135], [14.339188694363019, 50.038136433069916], [14.339184008638558, 50.03812696794203], [14.339180659131875, 50.03811762184737], [14.339179484926042, 50.03811299147002], [14.339178139121154, 50.03810382225778], [14.339177967113455, 50.03809928045627], [14.339178625209222, 50.03809028725399], [14.339179455206752, 50.03808583490168], [14.33918209097523, 50.03807473155481], [14.339203925147434, 50.037979651330915], [14.33920501552362, 50.037970915712094], [14.339204869318527, 50.03796205701074], [14.33920433242617, 50.03795757895123], [14.339202331689664, 50.03794853168584], [14.33919909452298, 50.03793935840516], [14.339178656946148, 50.03789387864768], [14.339185575384388, 50.0378838785404], [14.339192230529832, 50.037875528287564], [14.33919962640686, 50.03786724266085], [14.33921210755167, 50.03785493722578], [14.339221353552352, 50.03784681519172], [14.33923661037665, 50.03783475468231], [14.339247706673929, 50.0378267960189], [14.339265738256657, 50.03781498086715], [14.339278685710967, 50.03780718499092], [14.339299493538272, 50.037795614349264], [14.339325505763709, 50.0377819986214], [14.339341468300203, 50.03777329353813], [14.33935754399504, 50.03776406293189], [14.339365625544453, 50.037759249802605], [14.339381869543855, 50.03774923179049], [14.33939822813214, 50.03773868738226], [14.339414691659181, 50.03772762302957], [14.339422978178712, 50.03772188530269], [14.339439619658426, 50.03771002707986], [14.339456374292666, 50.037697643333814], [14.339464795919959, 50.03769125296496], [14.339481718235403, 50.03767808252147], [14.339490222851081, 50.03767129943694], [14.339507316945383, 50.03765733912654], [14.339516274313757, 50.037649854497914], [14.339533560570985, 50.03763508702421], [14.339543160400202, 50.03762669698002], [14.339539606141182, 50.037612863697184], [14.33953415353736, 50.03759430364356], [14.339529541554123, 50.037580332422415], [14.339526441067067, 50.03757161218745], [14.339499718619816, 50.037561261852034], [14.339486787045955, 50.0375564733002], [14.339467346513567, 50.037549540770705], [14.339447822627095, 50.03754289757832], [14.339428256477285, 50.037536557658086], [14.339399492605798, 50.037527812499285], [14.339372583949919, 50.03753430889805], [14.33935254962439, 50.037539345768884], [14.339323801613045, 50.03754748018355], [14.339289719112013, 50.03755765685694], [14.33924226398521, 50.03757240761516], [14.339221473357265, 50.03757910643257], [14.339201455938799, 50.037585879906786], [14.339182203166335, 50.03759273093174], [14.339163722830286, 50.03759965674001], [14.33914600786061, 50.03760665997764], [14.33912906466015, 50.03761373811788], [14.339120880543547, 50.03761730606668], [14.339105088993417, 50.037624498991164], [14.339080238602254, 50.037636241894916], [14.33906493898674, 50.03764293085716], [14.339049744347847, 50.037649093391714], [14.339034667943201, 50.03765472394342], [14.33902717242021, 50.037657340411634], [14.339012266732931, 50.037662175732855], [14.338997478146629, 50.037666479970966], [14.338990121583375, 50.037668434626426], [14.338975500427441, 50.03767194456545], [14.338968232529407, 50.03767350072733], [14.338953782093752, 50.03767621543574], [14.338946599556527, 50.03767737398223], [14.33893232256998, 50.03767929310999], [14.338925222791696, 50.037680054323225], [14.33891111379948, 50.03768117857637], [14.338900753440035, 50.03768165255516], [14.338858325864136, 50.03765959545126], [14.338852115650898, 50.03765663378069], [14.338839541076064, 50.03765143084623], [14.338833174598394, 50.03764918883078], [14.338820289478925, 50.03764542594884], [14.338807198215497, 50.03764262340822], [14.338793901766161, 50.03764078131793], [14.338753545961671, 50.037637211239364], [14.338639381850523, 50.03762702693316], [14.338629171699859, 50.037626054107804], [14.338615570724341, 50.03762381141657], [14.338608850931061, 50.037622308190016], [14.33859558041942, 50.03761853975558], [14.338589025476356, 50.037616273300124], [14.338576084990764, 50.03761097899433], [14.338569695565441, 50.03760794954582], [14.338557085255918, 50.0376011294188], [14.338544692573636, 50.037593290487266], [14.338532522822058, 50.0375844361551], [14.338526517794522, 50.03757962534748], [14.338394119034225, 50.03746702300093], [14.338364648230236, 50.037481360669844], [14.33835680294793, 50.03748504174502], [14.338341208213489, 50.03749202788845], [14.338333443173207, 50.03749533992974], [14.338318008344581, 50.03750158896531], [14.33831032267152, 50.037504532344855], [14.338218389398447, 50.037538386423144], [14.33820828510616, 50.03754714560051], [14.338126859337361, 50.03762330779164], [14.338122312154574, 50.03762736326983], [14.338112645018246, 50.03763541734117], [14.338102200953347, 50.0376434067792], [14.338094718403642, 50.03764874106382], [14.3380257920189, 50.037661590525644], [14.33801106369327, 50.03766460964736], [14.337995702366117, 50.03766814504688], [14.337864977390964, 50.03765654670482], [14.337844152919594, 50.03765518301519], [14.337830191912731, 50.03765464058861], [14.337809130787114, 50.037654376858356], [14.337802073669499, 50.03765443569204], [14.337742034853783, 50.03765555803055], [14.337673599249824, 50.03765557869426]]], &quot;type&quot;: &quot;Polygon&quot;}, &quot;id&quot;: &quot;445963&quot;, &quot;properties&quot;: {&quot;blg_street_std&quot;: 0.0, &quot;enclosure_index&quot;: 15420, &quot;ltcWRB&quot;: 3.525105252580245e-05, &quot;mdcAre&quot;: 81926.49759264832, &quot;mtcWNe&quot;: 0.0172638306208348, &quot;nID&quot;: 47646.0, &quot;nodeID&quot;: 49483.0, &quot;sdcAre&quot;: 12914.06220561113, &quot;sdcLAL&quot;: 174.55969483410115, &quot;sicCAR&quot;: 0.5964287533692995, &quot;sscCCo&quot;: 0.5396162811870443, &quot;sscERI&quot;: 0.8722251485476904, &quot;stcOri&quot;: 8.753405812405504, &quot;stcSAl&quot;: 2.0167180507224955}, &quot;type&quot;: &quot;Feature&quot;}], &quot;type&quot;: &quot;FeatureCollection&quot;});\n",
       "\n",
       "        \n",
       "    \n",
       "    geo_json_7f8f779477eb98f5986359cd446d72b1.bindTooltip(\n",
       "    function(layer){\n",
       "    let div = L.DomUtil.create(&#x27;div&#x27;);\n",
       "    \n",
       "    let handleObject = feature=&gt;typeof(feature)==&#x27;object&#x27; ? JSON.stringify(feature) : feature;\n",
       "    let fields = [&quot;enclosure_index&quot;, &quot;stcOri&quot;, &quot;sdcLAL&quot;, &quot;sdcAre&quot;, &quot;sscCCo&quot;, &quot;sscERI&quot;, &quot;mtcWNe&quot;, &quot;mdcAre&quot;, &quot;ltcWRB&quot;, &quot;sicCAR&quot;, &quot;stcSAl&quot;, &quot;nID&quot;, &quot;nodeID&quot;, &quot;blg_street_std&quot;];\n",
       "    let aliases = [&quot;enclosure_index&quot;, &quot;stcOri&quot;, &quot;sdcLAL&quot;, &quot;sdcAre&quot;, &quot;sscCCo&quot;, &quot;sscERI&quot;, &quot;mtcWNe&quot;, &quot;mdcAre&quot;, &quot;ltcWRB&quot;, &quot;sicCAR&quot;, &quot;stcSAl&quot;, &quot;nID&quot;, &quot;nodeID&quot;, &quot;blg_street_std&quot;];\n",
       "    let table = &#x27;&lt;table&gt;&#x27; +\n",
       "        String(\n",
       "        fields.map(\n",
       "        (v,i)=&gt;\n",
       "        `&lt;tr&gt;\n",
       "            &lt;th&gt;${aliases[i]}&lt;/th&gt;\n",
       "            \n",
       "            &lt;td&gt;${handleObject(layer.feature.properties[v])}&lt;/td&gt;\n",
       "        &lt;/tr&gt;`).join(&#x27;&#x27;))\n",
       "    +&#x27;&lt;/table&gt;&#x27;;\n",
       "    div.innerHTML=table;\n",
       "    \n",
       "    return div\n",
       "    }\n",
       "    ,{&quot;className&quot;: &quot;foliumtooltip&quot;, &quot;sticky&quot;: true});\n",
       "                     \n",
       "    \n",
       "            geo_json_7f8f779477eb98f5986359cd446d72b1.addTo(map_14e7ac04a57f1e9d870497cdc9df6836);\n",
       "        \n",
       "&lt;/script&gt;\n",
       "&lt;/html&gt;\" style=\"position:absolute;width:100%;height:100%;left:0;top:0;border:none !important;\" allowfullscreen webkitallowfullscreen mozallowfullscreen></iframe></div></div>"
      ],
      "text/plain": [
       "<folium.folium.Map at 0x7a1b2870b590>"
      ]
     },
     "execution_count": 64,
     "metadata": {},
     "output_type": "execute_result"
    }
   ],
   "source": [
    "etcs.loc[locs].explore()"
   ]
  },
  {
   "cell_type": "code",
   "execution_count": 66,
   "id": "545265fb-f6b5-4488-9f16-5b0a8a03c56b",
   "metadata": {},
   "outputs": [
    {
     "data": {
      "text/plain": [
       "445777    74418.0\n",
       "445835    74417.0\n",
       "445963    47646.0\n",
       "dtype: float64"
      ]
     },
     "execution_count": 66,
     "metadata": {},
     "output_type": "execute_result"
    }
   ],
   "source": [
    "blg_nid.loc[locs]"
   ]
  },
  {
   "cell_type": "code",
   "execution_count": null,
   "id": "0161fecb-0d89-4f16-aef9-c879b57e2fbd",
   "metadata": {},
   "outputs": [],
   "source": []
  }
 ],
 "metadata": {
  "kernelspec": {
   "display_name": "Python 3 (ipykernel)",
   "language": "python",
   "name": "python3"
  },
  "language_info": {
   "codemirror_mode": {
    "name": "ipython",
    "version": 3
   },
   "file_extension": ".py",
   "mimetype": "text/x-python",
   "name": "python",
   "nbconvert_exporter": "python",
   "pygments_lexer": "ipython3",
   "version": "3.12.5"
  }
 },
 "nbformat": 4,
 "nbformat_minor": 5
}
