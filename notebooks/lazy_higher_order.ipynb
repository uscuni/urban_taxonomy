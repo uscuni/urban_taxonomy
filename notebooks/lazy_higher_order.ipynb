{
 "cells": [
  {
   "cell_type": "code",
   "execution_count": 1,
   "id": "c03a3174-19fc-4959-a632-6a6b1a230f36",
   "metadata": {},
   "outputs": [],
   "source": [
    "import gc\n",
    "import glob\n",
    "\n",
    "import geopandas as gpd\n",
    "import momepy as mm\n",
    "import numpy as np\n",
    "import pandas as pd\n",
    "from libpysal.graph import Graph, read_parquet\n",
    "\n",
    "regions_datadir = \"/data/uscuni-ulce/\"\n",
    "data_dir = \"/data/uscuni-ulce/processed_data/\"\n",
    "eubucco_files = glob.glob(regions_datadir + \"eubucco_raw/*\")\n",
    "graph_dir = data_dir + \"neigh_graphs/\""
   ]
  },
  {
   "cell_type": "code",
   "execution_count": 2,
   "id": "405e5489-28dc-452a-a7de-5dea78d4cc76",
   "metadata": {},
   "outputs": [],
   "source": [
    "region_hulls = gpd.read_parquet(regions_datadir + \"regions/\" + \"regions_hull.parquet\")"
   ]
  },
  {
   "cell_type": "code",
   "execution_count": 3,
   "id": "df49f51e-7124-47fe-acc4-801042239a89",
   "metadata": {},
   "outputs": [
    {
     "data": {
      "text/plain": [
       "226"
      ]
     },
     "execution_count": 3,
     "metadata": {},
     "output_type": "execute_result"
    }
   ],
   "source": [
    "# 12199 - hills, small test\n",
    "# 69300 - prague medium\n",
    "# 226 - germany somewhere, largest cluster\n",
    "# 106928 + 1 - big one in poland\n",
    "# 106928 - small test\n",
    "for region_id, region_hull in region_hulls.iterrows():\n",
    "    if region_id < 226:\n",
    "        continue\n",
    "    break\n",
    "region_id"
   ]
  },
  {
   "cell_type": "code",
   "execution_count": null,
   "id": "4aefb369-fc48-4ecb-be51-350018ec3628",
   "metadata": {},
   "outputs": [],
   "source": []
  },
  {
   "cell_type": "code",
   "execution_count": 4,
   "id": "e328fe12-7af8-4721-b842-dbfd9ececa67",
   "metadata": {},
   "outputs": [
    {
     "data": {
      "text/plain": [
       "(3642166, 3)"
      ]
     },
     "execution_count": 4,
     "metadata": {},
     "output_type": "execute_result"
    }
   ],
   "source": [
    "df_buildings = gpd.read_parquet(data_dir + f\"buildings/buildings_{region_id}.parquet\")\n",
    "df_buildings.shape"
   ]
  },
  {
   "cell_type": "code",
   "execution_count": 5,
   "id": "4693c039-6c82-48d8-b0ae-ecb4507f7571",
   "metadata": {},
   "outputs": [
    {
     "data": {
      "text/plain": [
       "(3981984, 2)"
      ]
     },
     "execution_count": 5,
     "metadata": {},
     "output_type": "execute_result"
    }
   ],
   "source": [
    "df_tessellation = gpd.read_parquet(\n",
    "    data_dir + f\"/tessellations/tessellation_{region_id}.parquet\"\n",
    ")\n",
    "df_tessellation.shape"
   ]
  },
  {
   "cell_type": "code",
   "execution_count": 6,
   "id": "f177631f-4af9-4592-a072-9bfe629679d9",
   "metadata": {},
   "outputs": [],
   "source": [
    "queen_1 = read_parquet(graph_dir + f\"tessellation_graph_{region_id}_knn1.parquet\")\n",
    "bgraph = queen_1.subgraph(df_buildings.index.values)"
   ]
  },
  {
   "cell_type": "code",
   "execution_count": 8,
   "id": "cab91cb9-4af9-4b25-be7a-7fc4d30371a5",
   "metadata": {},
   "outputs": [],
   "source": [
    "# %%time\n",
    "# queen_3 = queen_1.higher_order(k=3, lower_order=True, diagonal=True)"
   ]
  },
  {
   "cell_type": "code",
   "execution_count": 9,
   "id": "26715d28-ea73-49cb-b809-f3d950777458",
   "metadata": {},
   "outputs": [],
   "source": [
    "# queen_1._adjacency.shape, queen_3._adjacency.shape"
   ]
  },
  {
   "cell_type": "code",
   "execution_count": 10,
   "id": "df856d84-95d6-44ea-ba32-1e95bbb97dc3",
   "metadata": {},
   "outputs": [],
   "source": [
    "# %%time\n",
    "# queen_3 = queen_1.higher_order(k=3, lower_order=True, diagonal=True)\n",
    "# bgraph3 = queen_3.subgraph(df_buildings.index.values)\n",
    "# mibd = mm.mean_interbuilding_distance(df_buildings, bgraph, bgraph3)"
   ]
  },
  {
   "cell_type": "code",
   "execution_count": null,
   "id": "ed4833b1-4c97-4345-99c0-8ef162450f11",
   "metadata": {},
   "outputs": [],
   "source": []
  },
  {
   "cell_type": "code",
   "execution_count": 11,
   "id": "9459577f-14b4-4722-bdfd-86ad17b1d341",
   "metadata": {},
   "outputs": [],
   "source": [
    "# !conda install -c conda-forge graphblas-algorithms -y"
   ]
  },
  {
   "cell_type": "code",
   "execution_count": 7,
   "id": "0c90ef8a-3d75-444b-a1ba-e2ce7181a838",
   "metadata": {},
   "outputs": [],
   "source": [
    "import graphblas as gb\n",
    "import graphblas_algorithms as ga\n",
    "from graphblas_algorithms import all_pairs_shortest_path_length"
   ]
  },
  {
   "cell_type": "code",
   "execution_count": null,
   "id": "3260cdc0-f3c7-4058-8044-e4b2a1a3e403",
   "metadata": {},
   "outputs": [],
   "source": []
  },
  {
   "cell_type": "code",
   "execution_count": 8,
   "id": "8ad84538-c72a-4609-a347-d4d104e228fd",
   "metadata": {},
   "outputs": [],
   "source": [
    "sorted_ids = df_tessellation.sort_values(\"geometry\").index.values"
   ]
  },
  {
   "cell_type": "code",
   "execution_count": null,
   "id": "3a846442-2d7d-4e27-ae73-302ad7373f4e",
   "metadata": {},
   "outputs": [],
   "source": []
  },
  {
   "cell_type": "code",
   "execution_count": 100,
   "id": "b2e71180-bbc7-442f-aaec-514774f76c84",
   "metadata": {},
   "outputs": [],
   "source": [
    "def lazy_higher_order(graph, k, n_splits, iteration_order=None):\n",
    "    # convert to graphblass graph\n",
    "    G = ga.Graph(gb.io.from_scipy_sparse(graph.sparse))\n",
    "    ids = graph.unique_ids.values\n",
    "    id_to_numeric = pd.Series(np.arange(len(ids)), index=ids)\n",
    "\n",
    "    if iteration_order is None:\n",
    "        iteration_order = ids\n",
    "\n",
    "    for source in np.array_split(iteration_order, n_splits):\n",
    "        nodes = id_to_numeric.loc[source]\n",
    "        knn_matrix = all_pairs_shortest_path_length(\n",
    "            G, nodes=nodes, cutoff=k, expand_output=True\n",
    "        )\n",
    "        wk = gb.io.to_scipy_sparse(knn_matrix)\n",
    "        sparray = wk.tocoo(copy=False)\n",
    "        sorter = sparray.row.argsort()\n",
    "        head = ids[sparray.row][sorter]\n",
    "        tail = ids[sparray.col][sorter]\n",
    "\n",
    "        unique_head = np.unique(head)\n",
    "        unique_tail = np.unique(tail)\n",
    "\n",
    "        buffers = np.setdiff1d(unique_tail, unique_head, assume_unique=True)\n",
    "        buffers.sort()\n",
    "\n",
    "        ## need to add buffers from tail to focals, since graph constructor drops them\n",
    "        graph_head = np.append(head, buffers)\n",
    "        graph_tail = np.append(tail, buffers)\n",
    "        graph_weights = np.ones(len(graph_head))\n",
    "        graph_weights[len(head) :] = 0\n",
    "\n",
    "        partial_higher = Graph.from_arrays(graph_head, graph_tail, graph_weights)\n",
    "\n",
    "        yield partial_higher"
   ]
  },
  {
   "cell_type": "code",
   "execution_count": 10,
   "id": "889eed98-f978-4857-98b7-77fde78b005e",
   "metadata": {},
   "outputs": [],
   "source": []
  },
  {
   "cell_type": "code",
   "execution_count": 11,
   "id": "48367550-bf24-4b36-a74e-ddadd1d13eae",
   "metadata": {},
   "outputs": [
    {
     "name": "stdout",
     "output_type": "stream",
     "text": [
      "processed graph  (70967,)\n",
      "processed graph  (72077,)\n",
      "processed graph  (75049,)\n",
      "processed graph  (72740,)\n",
      "processed graph  (74576,)\n",
      "processed graph  (75443,)\n",
      "processed graph  (73830,)\n",
      "processed graph  (75793,)\n",
      "processed graph  (75656,)\n",
      "processed graph  (74454,)\n",
      "processed graph  (74914,)\n",
      "processed graph  (75424,)\n",
      "processed graph  (75262,)\n",
      "processed graph  (73503,)\n",
      "processed graph  (74093,)\n",
      "processed graph  (75077,)\n",
      "processed graph  (74485,)\n",
      "processed graph  (74319,)\n",
      "processed graph  (74802,)\n",
      "processed graph  (74415,)\n",
      "processed graph  (75822,)\n",
      "processed graph  (73094,)\n",
      "processed graph  (71452,)\n",
      "processed graph  (75341,)\n",
      "processed graph  (73024,)\n",
      "processed graph  (60957,)\n",
      "processed graph  (71187,)\n",
      "processed graph  (66229,)\n",
      "processed graph  (65101,)\n",
      "processed graph  (71116,)\n",
      "processed graph  (72650,)\n",
      "processed graph  (71196,)\n",
      "processed graph  (73668,)\n",
      "processed graph  (73687,)\n",
      "processed graph  (72527,)\n",
      "processed graph  (73474,)\n",
      "processed graph  (72736,)\n",
      "processed graph  (72465,)\n",
      "processed graph  (72651,)\n",
      "processed graph  (73331,)\n",
      "processed graph  (71211,)\n",
      "processed graph  (74309,)\n",
      "processed graph  (74575,)\n",
      "processed graph  (74535,)\n",
      "processed graph  (75059,)\n",
      "processed graph  (74009,)\n",
      "processed graph  (71015,)\n",
      "processed graph  (71227,)\n",
      "processed graph  (73488,)\n",
      "processed graph  (64151,)\n",
      "CPU times: user 26min 12s, sys: 1min, total: 27min 13s\n",
      "Wall time: 25min 54s\n"
     ]
    }
   ],
   "source": [
    "%%time\n",
    "res = pd.Series(np.nan, index=df_buildings.index.values)\n",
    "for partial_higher in lazy_higher_order(\n",
    "    queen_1, k=3, n_splits=50, iteration_order=sorted_ids\n",
    "):\n",
    "    partial_focals = np.setdiff1d(partial_higher.unique_ids, partial_higher.isolates)\n",
    "\n",
    "    # -=-==--=-=\n",
    "    partial_buildings = df_buildings.loc[\n",
    "        partial_higher.unique_ids[partial_higher.unique_ids >= 0]\n",
    "    ]\n",
    "    partial_bgraph = bgraph.subgraph(partial_buildings.index.values)\n",
    "    partial_bgraph3 = partial_higher.subgraph(partial_buildings.index.values)\n",
    "\n",
    "    partial_result = mm.mean_interbuilding_distance(\n",
    "        df_buildings.loc[partial_buildings.index.values],\n",
    "        partial_bgraph,\n",
    "        partial_bgraph3,\n",
    "    )\n",
    "\n",
    "    partial_focal_buildings = partial_buildings.index[\n",
    "        partial_buildings.index.isin(partial_focals)\n",
    "    ]\n",
    "    # -=-=-=-=-=\n",
    "\n",
    "    res.loc[partial_focal_buildings] = partial_result.loc[partial_focal_buildings]\n",
    "\n",
    "    del partial_bgraph\n",
    "    del partial_bgraph3\n",
    "    del partial_buildings\n",
    "    del partial_focal_buildings\n",
    "    del partial_higher\n",
    "    del partial_result\n",
    "    gc.collect()"
   ]
  },
  {
   "cell_type": "code",
   "execution_count": 12,
   "id": "65f96e77-852d-491c-be38-2a4db315c8de",
   "metadata": {},
   "outputs": [],
   "source": [
    "res.to_frame().to_parquet(f\"data/mean_interbuilding_distance_{region_id}.parquet\")"
   ]
  },
  {
   "cell_type": "code",
   "execution_count": null,
   "id": "74124f2a-963f-44d5-8202-1e9f30d85782",
   "metadata": {},
   "outputs": [],
   "source": []
  },
  {
   "cell_type": "code",
   "execution_count": null,
   "id": "a88e9ae8-4013-40c6-b197-5ae2864fcbbf",
   "metadata": {},
   "outputs": [],
   "source": [
    "assert np.allclose(res, mibd)"
   ]
  },
  {
   "cell_type": "code",
   "execution_count": 19,
   "id": "e84f0bc8-9207-40b3-befc-7b8e404f1757",
   "metadata": {},
   "outputs": [
    {
     "data": {
      "text/plain": [
       "1"
      ]
     },
     "execution_count": 19,
     "metadata": {},
     "output_type": "execute_result"
    }
   ],
   "source": []
  },
  {
   "cell_type": "code",
   "execution_count": 14,
   "id": "b64dc53f-48cc-4e8d-8529-c080f580e585",
   "metadata": {},
   "outputs": [
    {
     "data": {
      "text/plain": [
       "(25667238,)"
      ]
     },
     "execution_count": 14,
     "metadata": {},
     "output_type": "execute_result"
    }
   ],
   "source": [
    "queen_1._adjacency.shape"
   ]
  },
  {
   "cell_type": "code",
   "execution_count": null,
   "id": "3e04d97f-9b26-4f02-b66e-f798ac5c001c",
   "metadata": {},
   "outputs": [],
   "source": []
  },
  {
   "cell_type": "code",
   "execution_count": null,
   "id": "d01cbdca-3439-479d-838c-4c3970cf83b3",
   "metadata": {},
   "outputs": [],
   "source": []
  },
  {
   "cell_type": "code",
   "execution_count": null,
   "id": "4f1b2197-60fb-4172-95dc-528b032b9ba7",
   "metadata": {},
   "outputs": [],
   "source": []
  },
  {
   "cell_type": "code",
   "execution_count": null,
   "id": "250a293f-39a9-4686-92da-44421ac0677b",
   "metadata": {},
   "outputs": [],
   "source": []
  },
  {
   "cell_type": "markdown",
   "id": "d1cf074e-6289-4dec-bd05-32201f521e5a",
   "metadata": {},
   "source": [
    "### test function"
   ]
  },
  {
   "cell_type": "code",
   "execution_count": 120,
   "id": "87ddda9a-ab5b-447e-a2d0-b7c550d80117",
   "metadata": {},
   "outputs": [],
   "source": [
    "import geopandas as gpd\n",
    "import momepy as mm\n",
    "import numpy as np\n",
    "import pandas as pd\n",
    "from pandas.testing import assert_series_equal"
   ]
  },
  {
   "cell_type": "code",
   "execution_count": 121,
   "id": "755be984-4f54-44c2-a690-07477a75bbbf",
   "metadata": {},
   "outputs": [],
   "source": [
    "test_file_path = mm.datasets.get_path(\"bubenec\")\n",
    "df_tessellation = gpd.read_file(test_file_path, layer=\"tessellation\")\n",
    "\n",
    "df_tessellation[\"area\"] = df_tessellation.geometry.area\n",
    "cont_graph1 = Graph.build_contiguity(df_tessellation).assign_self_weight()\n",
    "cont_graph3 = cont_graph1.higher_order(k=3, lower_order=True, diagonal=True)\n",
    "\n",
    "fuzzy_graph1 = Graph.build_fuzzy_contiguity(\n",
    "    df_tessellation, buffer=1e-6\n",
    ").assign_self_weight()\n",
    "fuzzy_graph3 = fuzzy_graph1.higher_order(k=3, lower_order=True, diagonal=True)\n",
    "\n",
    "knn_graph1 = Graph.build_knn(df_tessellation.centroid, k=3).assign_self_weight()\n",
    "knn_graph3 = knn_graph1.higher_order(k=3, lower_order=True, diagonal=True)"
   ]
  },
  {
   "cell_type": "code",
   "execution_count": 122,
   "id": "c8c9aec9-0993-4219-9127-d3b5e421f0f7",
   "metadata": {},
   "outputs": [],
   "source": [
    "def lazy_higher_order(graph, k, n_splits, iteration_order=None):\n",
    "    A = graph.transform(\"B\").sparse\n",
    "    ids = graph.unique_ids.values\n",
    "    id_to_numeric = pd.Series(np.arange(len(ids)), index=ids)\n",
    "\n",
    "    if iteration_order is None:\n",
    "        iteration_order = ids\n",
    "\n",
    "    for source in np.array_split(iteration_order, n_splits):\n",
    "        nodes = id_to_numeric.loc[source]\n",
    "\n",
    "        ## get higher order topological neighbours\n",
    "        Q = A[nodes, :].copy()\n",
    "        for _ in range(1, k):\n",
    "            next_step = Q @ A\n",
    "            Q += next_step\n",
    "\n",
    "        sparray = Q.tocoo(copy=False)\n",
    "        sorter = sparray.row.argsort()\n",
    "        head = source[sparray.row][sorter]\n",
    "        tail = ids[sparray.col][sorter]\n",
    "\n",
    "        unique_head = np.unique(head)\n",
    "        unique_tail = np.unique(tail)\n",
    "\n",
    "        buffers = np.setdiff1d(unique_tail, unique_head, assume_unique=True)\n",
    "        buffers.sort()\n",
    "\n",
    "        ## need to add buffers from tail to focals, since graph constructor drops them\n",
    "        graph_head = np.append(head, buffers)\n",
    "        graph_tail = np.append(tail, buffers)\n",
    "        graph_weights = np.ones(len(graph_head))\n",
    "        graph_weights[len(head) :] = 0\n",
    "\n",
    "        partial_higher = Graph.from_arrays(graph_head, graph_tail, graph_weights)\n",
    "\n",
    "        yield partial_higher"
   ]
  },
  {
   "cell_type": "code",
   "execution_count": 123,
   "id": "f852a7a5-2b55-4353-8db4-3f74876bdb1d",
   "metadata": {},
   "outputs": [],
   "source": [
    "higher_order_k = 3"
   ]
  },
  {
   "cell_type": "code",
   "execution_count": 148,
   "id": "eeb11737-04b5-4313-9d51-7db249215a6c",
   "metadata": {},
   "outputs": [],
   "source": [
    "def partial_apply(graph, higher_order_k, n_splits, func, **kwargs):\n",
    "    res = pd.Series(np.nan, index=graph.unique_ids)\n",
    "    for partial_higher in lazy_higher_order(graph, k=higher_order_k, n_splits=n_splits):\n",
    "        partial_focals = np.setdiff1d(\n",
    "            partial_higher.unique_ids, partial_higher.isolates\n",
    "        )\n",
    "\n",
    "        partial_result = func(partial_focals, partial_higher, **kwargs)\n",
    "\n",
    "        res.loc[partial_focals] = partial_result.loc[partial_focals]\n",
    "    return res"
   ]
  },
  {
   "cell_type": "code",
   "execution_count": 149,
   "id": "1ccd8984-dbc0-4b6e-aa91-5a34a3114db8",
   "metadata": {},
   "outputs": [],
   "source": [
    "def sum_area(partical_focals, partial_higher, y):\n",
    "    return partial_higher.describe(\n",
    "        y.loc[partial_higher.unique_ids], statistics=[\"sum\"]\n",
    "    )[\"sum\"]"
   ]
  },
  {
   "cell_type": "code",
   "execution_count": null,
   "id": "defe651f-48a9-41de-9f8b-c8f130713b66",
   "metadata": {},
   "outputs": [],
   "source": []
  },
  {
   "cell_type": "code",
   "execution_count": null,
   "id": "6e74d0bf-7ce6-46b9-8db7-9f73d4bc0e85",
   "metadata": {},
   "outputs": [],
   "source": []
  },
  {
   "cell_type": "code",
   "execution_count": null,
   "id": "981a7aa1-cb41-49e9-aa5c-f0e984e7d933",
   "metadata": {},
   "outputs": [],
   "source": []
  },
  {
   "cell_type": "code",
   "execution_count": 150,
   "id": "8d86c00c-802c-49cc-89ac-6a0814537a83",
   "metadata": {},
   "outputs": [],
   "source": [
    "res = partial_apply(\n",
    "    graph=cont_graph1,\n",
    "    higher_order_k=3,\n",
    "    n_splits=2,\n",
    "    func=sum_area,\n",
    "    y=df_tessellation[\"area\"],\n",
    ")\n",
    "expected = cont_graph3.describe(df_tessellation[\"area\"], statistics=[\"sum\"])[\"sum\"]\n",
    "assert_series_equal(res, expected, check_names=False)"
   ]
  },
  {
   "cell_type": "code",
   "execution_count": 151,
   "id": "b430c5b7-93e3-4b09-8c51-5ea23d1458db",
   "metadata": {},
   "outputs": [],
   "source": [
    "res = partial_apply(\n",
    "    graph=fuzzy_graph1,\n",
    "    higher_order_k=3,\n",
    "    n_splits=2,\n",
    "    func=sum_area,\n",
    "    y=df_tessellation[\"area\"],\n",
    ")\n",
    "expected = fuzzy_graph3.describe(df_tessellation[\"area\"], statistics=[\"sum\"])[\"sum\"]\n",
    "assert_series_equal(res, expected, check_names=False)"
   ]
  },
  {
   "cell_type": "code",
   "execution_count": 152,
   "id": "d53d5a48-7f37-4c15-87e9-9f2f29f2f14f",
   "metadata": {},
   "outputs": [],
   "source": [
    "res = partial_apply(\n",
    "    graph=knn_graph1,\n",
    "    higher_order_k=3,\n",
    "    n_splits=2,\n",
    "    func=sum_area,\n",
    "    y=df_tessellation[\"area\"],\n",
    ")\n",
    "expected = knn_graph3.describe(df_tessellation[\"area\"], statistics=[\"sum\"])[\"sum\"]\n",
    "assert_series_equal(res, expected, check_names=False)"
   ]
  },
  {
   "cell_type": "code",
   "execution_count": null,
   "id": "3b0c05a2-9374-442d-821c-4e0120c9198a",
   "metadata": {},
   "outputs": [],
   "source": []
  },
  {
   "cell_type": "code",
   "execution_count": 153,
   "id": "991a43e9-43bd-4bdf-9ac6-013a7d116a0f",
   "metadata": {},
   "outputs": [],
   "source": [
    "### custom indices\n",
    "\n",
    "\n",
    "# string\n",
    "string_tess = df_tessellation.set_index(map(str, df_tessellation.index.values))\n",
    "graph1 = Graph.build_contiguity(string_tess, rook=False).assign_self_weight()\n",
    "graph3 = graph1.higher_order(k=3, lower_order=True, diagonal=True)\n",
    "\n",
    "old_expected = cont_graph3.describe(df_tessellation[\"area\"], statistics=[\"sum\"])[\"sum\"]\n",
    "new_expected = graph3.describe(string_tess[\"area\"], statistics=[\"sum\"])[\"sum\"]\n",
    "assert_series_equal(old_expected, new_expected, check_index=False)\n",
    "\n",
    "\n",
    "res = partial_apply(\n",
    "    graph=graph1, higher_order_k=3, n_splits=2, func=sum_area, y=string_tess[\"area\"]\n",
    ")\n",
    "assert_series_equal(new_expected, res, check_names=False)"
   ]
  },
  {
   "cell_type": "code",
   "execution_count": null,
   "id": "88650cfc-fd14-4398-94d3-a153622433ea",
   "metadata": {},
   "outputs": [],
   "source": []
  },
  {
   "cell_type": "code",
   "execution_count": 154,
   "id": "7f5f9f99-9be5-49e0-afcd-94701dcb65d6",
   "metadata": {},
   "outputs": [],
   "source": [
    "## negative\n",
    "ii = df_tessellation.index.values\n",
    "ii[:10] = np.arange(-10, 0)\n",
    "neg_tess = df_tessellation.set_index(ii)\n",
    "graph1 = Graph.build_contiguity(neg_tess, rook=False).assign_self_weight()\n",
    "graph3 = graph1.higher_order(k=3, lower_order=True, diagonal=True)\n",
    "\n",
    "new_expected = graph3.describe(neg_tess[\"area\"], statistics=[\"sum\"])[\"sum\"]\n",
    "assert_series_equal(old_expected, new_expected, check_index=False)\n",
    "\n",
    "\n",
    "res = partial_apply(\n",
    "    graph=graph1, higher_order_k=3, n_splits=2, func=sum_area, y=neg_tess[\"area\"]\n",
    ")\n",
    "assert_series_equal(new_expected, res, check_names=False)"
   ]
  },
  {
   "cell_type": "code",
   "execution_count": null,
   "id": "ed74e164-f08a-4ee5-b872-c87f7fe54eb4",
   "metadata": {},
   "outputs": [],
   "source": []
  },
  {
   "cell_type": "code",
   "execution_count": null,
   "id": "5a992107-9d25-48a3-99de-3456d6802df0",
   "metadata": {},
   "outputs": [],
   "source": []
  },
  {
   "cell_type": "code",
   "execution_count": null,
   "id": "292e2b29-7b71-4ffa-9191-bfbe9d22a1d3",
   "metadata": {},
   "outputs": [],
   "source": []
  },
  {
   "cell_type": "code",
   "execution_count": null,
   "id": "9bfb8cc1-651b-436d-a9a1-4ce6c8569253",
   "metadata": {},
   "outputs": [],
   "source": []
  },
  {
   "cell_type": "code",
   "execution_count": 48,
   "id": "a525ddf3-f1ff-4334-9865-02126ba1421c",
   "metadata": {},
   "outputs": [],
   "source": [
    "# m = df_tessellation.explore()\n",
    "# # m = df_tessellation.iloc[[1]].explore(m=m, color='red')\n",
    "# m = df_tessellation.iloc[knn_graph3[1].index.values].explore(m=m, color='red')\n",
    "# m = df_tessellation.iloc[p[1].index.values].explore(m=m, color='green')\n",
    "# m = knn_graph1.explore(df_tessellation, m=m)\n",
    "# m"
   ]
  },
  {
   "cell_type": "code",
   "execution_count": null,
   "id": "3ac5b1bf-8791-4415-aaa0-b554bf51d63b",
   "metadata": {},
   "outputs": [],
   "source": []
  }
 ],
 "metadata": {
  "kernelspec": {
   "display_name": "Python 3 (ipykernel)",
   "language": "python",
   "name": "python3"
  },
  "language_info": {
   "codemirror_mode": {
    "name": "ipython",
    "version": 3
   },
   "file_extension": ".py",
   "mimetype": "text/x-python",
   "name": "python",
   "nbconvert_exporter": "python",
   "pygments_lexer": "ipython3",
   "version": "3.12.4"
  }
 },
 "nbformat": 4,
 "nbformat_minor": 5
}
