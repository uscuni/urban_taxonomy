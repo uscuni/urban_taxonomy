{
 "cells": [
  {
   "cell_type": "code",
   "execution_count": 1,
   "id": "3fb60778-35c8-4164-a5f0-c33f681bbe67",
   "metadata": {},
   "outputs": [],
   "source": [
    "import geopandas as gpd\n",
    "import pandas as pd"
   ]
  },
  {
   "cell_type": "markdown",
   "id": "30d6d4b0-9e31-4ef8-82ac-18d0e81ce9a0",
   "metadata": {
    "jp-MarkdownHeadingCollapsed": true
   },
   "source": [
    "## Download country MS buildings"
   ]
  },
  {
   "cell_type": "code",
   "execution_count": null,
   "id": "cf85ec74-87ba-4d2d-b209-072b58ca7752",
   "metadata": {},
   "outputs": [],
   "source": [
    "country = 'Czechia'"
   ]
  },
  {
   "cell_type": "code",
   "execution_count": 17,
   "id": "a5d61da4-6c54-49de-930c-5711bdd71e5a",
   "metadata": {},
   "outputs": [],
   "source": [
    "def read_ms_buildings(url):\n",
    "    from shapely.geometry import shape\n",
    "    df = pd.read_json(url, lines=True)\n",
    "    df['geometry'] = df['geometry'].apply(shape)\n",
    "    gdf = gpd.GeoDataFrame(df, crs=4326).to_crs(epsg=3035)\n",
    "    return gdf"
   ]
  },
  {
   "cell_type": "code",
   "execution_count": 22,
   "id": "73e08bb1-3e00-42d9-a1f1-b26a7386d359",
   "metadata": {},
   "outputs": [],
   "source": [
    "def read_microsoft_country_data(country):\n",
    "\n",
    "    dataset_links = pd.read_csv(\"https://minedbuildings.blob.core.windows.net/global-buildings/dataset-links.csv\")\n",
    "    location_links = dataset_links[dataset_links.Location == location]\n",
    "\n",
    "    from joblib import Parallel, delayed    \n",
    "    n_jobs = -1\n",
    "    all_data = Parallel(n_jobs=n_jobs)(\n",
    "        delayed(read_ms_buildings)(row.Url) for _, row in location_links.iterrows()\n",
    "    )\n",
    "\n",
    "    return pd.concat(all_data, ignore_index=True)\n"
   ]
  },
  {
   "cell_type": "code",
   "execution_count": 23,
   "id": "8d53b527-7f6b-4759-9c65-780175c75100",
   "metadata": {},
   "outputs": [
    {
     "name": "stdout",
     "output_type": "stream",
     "text": [
      "CPU times: user 2.58 s, sys: 1.33 s, total: 3.91 s\n",
      "Wall time: 3min 5s\n"
     ]
    }
   ],
   "source": [
    "%%time\n",
    "gdf = read_microsoft_country_data(country)"
   ]
  },
  {
   "cell_type": "code",
   "execution_count": 34,
   "id": "27b0f7f5-3ad3-4c8a-86b3-ada18a830fb4",
   "metadata": {},
   "outputs": [],
   "source": [
    "gdf = gdf.sort_values('geometry').reset_index(drop=True)"
   ]
  },
  {
   "cell_type": "code",
   "execution_count": 40,
   "id": "cfc97712-ed78-4741-b4d6-57f12765695b",
   "metadata": {},
   "outputs": [
    {
     "name": "stdout",
     "output_type": "stream",
     "text": [
      "CPU times: user 5.83 s, sys: 724 ms, total: 6.55 s\n",
      "Wall time: 6.53 s\n"
     ]
    }
   ],
   "source": [
    "%%time\n",
    "gdf.to_parquet(f'../data/ms_{country.lower()}.parquet', geometry_encoding='geoarrow', write_covering_bbox=True, schema_version='1.1.0')"
   ]
  },
  {
   "cell_type": "code",
   "execution_count": null,
   "id": "2bbf8d7b-fbcf-4d08-a4ad-e85e91f2ad2b",
   "metadata": {},
   "outputs": [],
   "source": []
  },
  {
   "cell_type": "code",
   "execution_count": null,
   "id": "443e8b14-0253-4ba7-bc8c-d455886b9d9f",
   "metadata": {},
   "outputs": [],
   "source": []
  },
  {
   "cell_type": "code",
   "execution_count": null,
   "id": "b4eaca0f-aaac-4cbb-8616-e47a5bf16d2c",
   "metadata": {},
   "outputs": [],
   "source": []
  },
  {
   "cell_type": "markdown",
   "id": "31649aa2-c752-4c26-acb7-e95799b4aafc",
   "metadata": {},
   "source": [
    "### Read region data"
   ]
  },
  {
   "cell_type": "code",
   "execution_count": 5,
   "id": "0be9fb15-6400-4a2a-b248-ccd612907963",
   "metadata": {},
   "outputs": [],
   "source": [
    "region_name = 69300"
   ]
  },
  {
   "cell_type": "code",
   "execution_count": 6,
   "id": "1b0ffc37-526c-4715-ae37-7794001f9ca5",
   "metadata": {},
   "outputs": [],
   "source": [
    "regions_datadir = \"/data/uscuni-ulce/\"\n",
    "region_hulls = gpd.read_parquet(\n",
    "        regions_datadir + \"regions/\" + \"regions_hull.parquet\"\n",
    "    )"
   ]
  },
  {
   "cell_type": "code",
   "execution_count": 7,
   "id": "36fc29de-2aa6-4184-8429-6af7dd24aa83",
   "metadata": {},
   "outputs": [],
   "source": [
    "region_id, region_hull = region_hulls.loc[region_name].name, region_hulls.loc[region_name].convex_hull"
   ]
  },
  {
   "cell_type": "code",
   "execution_count": null,
   "id": "3e85d8bd-3434-49cc-9583-dc60629b840b",
   "metadata": {},
   "outputs": [],
   "source": [
    "prague_gdf = gpd.read_parquet('../data/ms_czechia.parquet', bbox=region_hull.bounds)\n",
    "prague_gdf = prague_gdf.iloc[prague_gdf.sindex.query(region_hull, predicate='intersects')]\n",
    "prague_gdf.shape"
   ]
  },
  {
   "cell_type": "code",
   "execution_count": null,
   "id": "e20d409b-907f-48d6-aaf6-89953e55dcd3",
   "metadata": {},
   "outputs": [],
   "source": []
  },
  {
   "cell_type": "code",
   "execution_count": 9,
   "id": "9b36f76f-3149-412b-88cf-76f4b40234bf",
   "metadata": {},
   "outputs": [],
   "source": [
    "# import lonboard"
   ]
  },
  {
   "cell_type": "code",
   "execution_count": 10,
   "id": "cfe54b9a-da21-4d06-b465-e2750d53808d",
   "metadata": {},
   "outputs": [],
   "source": [
    "# layer = lonboard.PolygonLayer.from_geopandas(prague_gdf)"
   ]
  },
  {
   "cell_type": "code",
   "execution_count": 11,
   "id": "056248f9-24a6-49d9-b039-362005671431",
   "metadata": {},
   "outputs": [],
   "source": [
    "# m = lonboard.Map(layer)"
   ]
  },
  {
   "cell_type": "code",
   "execution_count": 12,
   "id": "8f7bc5d2-f31a-4c76-9439-d7428f8dd343",
   "metadata": {},
   "outputs": [],
   "source": [
    "# m"
   ]
  },
  {
   "cell_type": "code",
   "execution_count": null,
   "id": "b5cfd0ca-b3ab-4398-944d-bc5e61f6b021",
   "metadata": {},
   "outputs": [],
   "source": [
    "\n"
   ]
  },
  {
   "cell_type": "code",
   "execution_count": null,
   "id": "4ec9e7ab-d3c6-4a8f-942a-723172d75289",
   "metadata": {},
   "outputs": [],
   "source": []
  },
  {
   "cell_type": "markdown",
   "id": "5b0d7e34-b89f-484f-8847-1df1252cb60c",
   "metadata": {},
   "source": [
    "## Define regions on MS data"
   ]
  },
  {
   "cell_type": "code",
   "execution_count": null,
   "id": "44b21373-16d1-43a0-88cf-ff4a8b6fa421",
   "metadata": {},
   "outputs": [],
   "source": []
  },
  {
   "cell_type": "code",
   "execution_count": 92,
   "id": "fd553ab7-0716-45e9-8c28-4b545df8faa0",
   "metadata": {},
   "outputs": [],
   "source": [
    "import dask.dataframe as dd\n",
    "import geopandas as gpd\n",
    "import numpy as np\n",
    "import pandas as pd\n",
    "from sklearn.cluster import DBSCAN"
   ]
  },
  {
   "cell_type": "code",
   "execution_count": 93,
   "id": "3ace2edd-d7e9-4883-a446-26dd2bdcecb0",
   "metadata": {},
   "outputs": [],
   "source": [
    "gdf = gpd.read_parquet('../data/ms_czechia.parquet')"
   ]
  },
  {
   "cell_type": "code",
   "execution_count": 131,
   "id": "c8c0cb3d-1f6e-4cf2-a551-372a1ea392e4",
   "metadata": {},
   "outputs": [],
   "source": [
    "cents = gdf.centroid\n",
    "gdf['x'], gdf['y'] = cents.x, cents.y\n",
    "gdf['id'] = gdf.index.values\n",
    "data = gdf[[\"x\", \"y\", 'id']]"
   ]
  },
  {
   "cell_type": "code",
   "execution_count": null,
   "id": "2b834afa-926c-4766-b230-56a62b15cf4e",
   "metadata": {},
   "outputs": [],
   "source": []
  },
  {
   "cell_type": "code",
   "execution_count": 132,
   "id": "e0439b61-55da-4103-a9ce-5b5ff56d4649",
   "metadata": {},
   "outputs": [
    {
     "name": "stderr",
     "output_type": "stream",
     "text": [
      "/tmp/ipykernel_2572923/4289293720.py:1: SettingWithCopyWarning: \n",
      "A value is trying to be set on a copy of a slice from a DataFrame.\n",
      "Try using .loc[row_indexer,col_indexer] = value instead\n",
      "\n",
      "See the caveats in the documentation: https://pandas.pydata.org/pandas-docs/stable/user_guide/indexing.html#returning-a-view-versus-a-copy\n",
      "  data[[\"x_100\", \"y_100\"]] = np.around(data[[\"x\", \"y\"]], decimals=-2)\n",
      "/tmp/ipykernel_2572923/4289293720.py:1: SettingWithCopyWarning: \n",
      "A value is trying to be set on a copy of a slice from a DataFrame.\n",
      "Try using .loc[row_indexer,col_indexer] = value instead\n",
      "\n",
      "See the caveats in the documentation: https://pandas.pydata.org/pandas-docs/stable/user_guide/indexing.html#returning-a-view-versus-a-copy\n",
      "  data[[\"x_100\", \"y_100\"]] = np.around(data[[\"x\", \"y\"]], decimals=-2)\n"
     ]
    }
   ],
   "source": [
    "data[[\"x_100\", \"y_100\"]] = np.around(data[[\"x\", \"y\"]], decimals=-2)\n",
    "grid = data[[\"id\", \"x_100\", \"y_100\"]].groupby([\"x_100\", \"y_100\"]).count().reset_index()"
   ]
  },
  {
   "cell_type": "code",
   "execution_count": 133,
   "id": "a6f620ed-e80f-4f56-a9ac-e1ad1bd6dfa1",
   "metadata": {},
   "outputs": [],
   "source": [
    "dbscan = DBSCAN(400, n_jobs=-1).fit(grid[[\"x_100\", \"y_100\"]], sample_weight=grid[\"id\"])\n",
    "grid[\"labels\"] = dbscan.labels_"
   ]
  },
  {
   "cell_type": "code",
   "execution_count": 134,
   "id": "5427d56f-83e6-426c-ab81-b842c937a32b",
   "metadata": {},
   "outputs": [],
   "source": [
    "data = pd.merge(data, grid, \"left\", on=[\"x_100\", \"y_100\"])"
   ]
  },
  {
   "cell_type": "code",
   "execution_count": null,
   "id": "062a82de-09f2-4dca-8822-829106a25b59",
   "metadata": {},
   "outputs": [],
   "source": []
  },
  {
   "cell_type": "code",
   "execution_count": 135,
   "id": "1aa0f29c-e573-4f0f-8ad2-c6f3d164281c",
   "metadata": {},
   "outputs": [],
   "source": [
    "counts = data.labels.value_counts()\n",
    "data[\"core\"] = data.labels.isin(counts[counts > 10000].index.drop(-1))"
   ]
  },
  {
   "cell_type": "code",
   "execution_count": 136,
   "id": "6d272bab-8a82-421e-b123-f41d2ed04d7e",
   "metadata": {},
   "outputs": [],
   "source": [
    "cores = data[data.core]"
   ]
  },
  {
   "cell_type": "code",
   "execution_count": null,
   "id": "c5c2495e-acb4-484b-befd-f1332b66fe41",
   "metadata": {},
   "outputs": [],
   "source": []
  },
  {
   "cell_type": "code",
   "execution_count": 137,
   "id": "3cf0abe2-5e35-4a3d-aaeb-b58137ed83f9",
   "metadata": {},
   "outputs": [],
   "source": [
    "grid[\"core\"] = grid.labels.isin(counts[counts > 10000].index.drop(-1))\n",
    "grid_cores = grid[grid.core]\n",
    "grid_cores = gpd.GeoDataFrame(\n",
    "    grid_cores[\"labels\"],\n",
    "    geometry=gpd.points_from_xy(grid_cores[\"x_100\"], grid_cores[\"y_100\"]),\n",
    "    crs=3035,\n",
    ")\n",
    "grid_cores_dissolved = grid_cores.dissolve(\"labels\")"
   ]
  },
  {
   "cell_type": "code",
   "execution_count": 138,
   "id": "fdea5245-5a64-468e-8180-6a28508ed3a4",
   "metadata": {},
   "outputs": [],
   "source": [
    "grid_non_cores = grid[~grid.core]\n",
    "grid_non_cores = gpd.GeoDataFrame(\n",
    "    grid_non_cores[\"labels\"],\n",
    "    geometry=gpd.points_from_xy(grid_non_cores[\"x_100\"], grid_non_cores[\"y_100\"]),\n",
    "    crs=3035,\n",
    ")"
   ]
  },
  {
   "cell_type": "code",
   "execution_count": 139,
   "id": "743537ba-9ecf-4744-9497-ee1bbdae3e3f",
   "metadata": {},
   "outputs": [],
   "source": [
    "grid_non_cores_clustered = grid_non_cores[grid_non_cores.labels != -1]\n",
    "grid_non_cores_outliers = grid_non_cores[grid_non_cores.labels == -1]"
   ]
  },
  {
   "cell_type": "code",
   "execution_count": 140,
   "id": "ea3a8b5d-ea2a-490e-a490-d3b69e6ac7fb",
   "metadata": {},
   "outputs": [],
   "source": [
    "grid_non_cores_clustered_dissolved = grid_non_cores_clustered.dissolve(\"labels\")"
   ]
  },
  {
   "cell_type": "code",
   "execution_count": 141,
   "id": "4afc54da-2620-4215-be0a-a843b94a4808",
   "metadata": {},
   "outputs": [
    {
     "name": "stdout",
     "output_type": "stream",
     "text": [
      "CPU times: user 1.5 s, sys: 0 ns, total: 1.5 s\n",
      "Wall time: 1.5 s\n"
     ]
    }
   ],
   "source": [
    "%%time\n",
    "nearest = grid_cores.sindex.nearest(\n",
    "    grid_non_cores_clustered_dissolved.geometry, return_all=False\n",
    ")"
   ]
  },
  {
   "cell_type": "code",
   "execution_count": 142,
   "id": "7e052512-5743-40ba-beff-c4abbe2e51ae",
   "metadata": {},
   "outputs": [],
   "source": [
    "grid_non_cores_clustered_dissolved[\"nearest_core\"] = grid_cores.labels.values[\n",
    "    nearest[1]\n",
    "]"
   ]
  },
  {
   "cell_type": "code",
   "execution_count": 143,
   "id": "57239e0e-ec17-47e6-8a44-804603bafe47",
   "metadata": {},
   "outputs": [
    {
     "name": "stdout",
     "output_type": "stream",
     "text": [
      "CPU times: user 130 ms, sys: 0 ns, total: 130 ms\n",
      "Wall time: 130 ms\n"
     ]
    }
   ],
   "source": [
    "%%time\n",
    "nearest_outliers = grid_cores.sindex.nearest(\n",
    "    grid_non_cores_outliers.geometry, return_all=False\n",
    ")"
   ]
  },
  {
   "cell_type": "code",
   "execution_count": 144,
   "id": "1ad0d0cf-00ab-412f-ac44-f5232d29c1f3",
   "metadata": {},
   "outputs": [
    {
     "name": "stderr",
     "output_type": "stream",
     "text": [
      "/home/krasen/miniconda3/envs/urban_taxonomy/lib/python3.12/site-packages/geopandas/geodataframe.py:1819: SettingWithCopyWarning: \n",
      "A value is trying to be set on a copy of a slice from a DataFrame.\n",
      "Try using .loc[row_indexer,col_indexer] = value instead\n",
      "\n",
      "See the caveats in the documentation: https://pandas.pydata.org/pandas-docs/stable/user_guide/indexing.html#returning-a-view-versus-a-copy\n",
      "  super().__setitem__(key, value)\n"
     ]
    }
   ],
   "source": [
    "grid_non_cores_outliers[\"nearest_core\"] = grid_cores.labels.values[nearest_outliers[1]]"
   ]
  },
  {
   "cell_type": "code",
   "execution_count": 145,
   "id": "fba79a84-0254-4e6e-a41b-c2da8c3395f3",
   "metadata": {},
   "outputs": [],
   "source": [
    "grid_non_cores = pd.concat(\n",
    "    [\n",
    "        grid_non_cores_clustered_dissolved.reset_index().explode(ignore_index=True),\n",
    "        grid_non_cores_outliers,\n",
    "    ],\n",
    "    ignore_index=True,\n",
    ")"
   ]
  },
  {
   "cell_type": "code",
   "execution_count": 146,
   "id": "76ab0530-4dc9-4148-983f-4379fb6116a6",
   "metadata": {},
   "outputs": [],
   "source": [
    "grid_non_cores[\"x_100\"] = grid_non_cores.geometry.x\n",
    "grid_non_cores[\"y_100\"] = grid_non_cores.geometry.y"
   ]
  },
  {
   "cell_type": "code",
   "execution_count": 147,
   "id": "ffc7b686-c54f-47b3-a296-57fee2710592",
   "metadata": {},
   "outputs": [],
   "source": [
    "data = pd.merge(\n",
    "    data,\n",
    "    grid_non_cores[[\"x_100\", \"y_100\", \"nearest_core\"]],\n",
    "    \"left\",\n",
    "    on=[\"x_100\", \"y_100\"],\n",
    ")"
   ]
  },
  {
   "cell_type": "code",
   "execution_count": 148,
   "id": "ed00a07b-f052-4c6b-a449-75499ab4e60b",
   "metadata": {},
   "outputs": [],
   "source": [
    "data[\"region\"] = data.labels\n",
    "data.loc[~data.core, \"region\"] = data.loc[~data.core, \"nearest_core\"]"
   ]
  },
  {
   "cell_type": "code",
   "execution_count": 149,
   "id": "96ed80c3-e2b7-4f88-b3df-4f28116a1aca",
   "metadata": {},
   "outputs": [],
   "source": [
    "data = data.rename(\n",
    "    columns={\n",
    "        \"id_x\": \"id\",\n",
    "        \"id_y\": \"weight\",\n",
    "        \"labels\": \"dbscan_cluster\",\n",
    "    }\n",
    ")"
   ]
  },
  {
   "cell_type": "code",
   "execution_count": 150,
   "id": "a6a4cf97-4296-4374-add7-245835b0017f",
   "metadata": {},
   "outputs": [
    {
     "data": {
      "text/html": [
       "<div>\n",
       "<style scoped>\n",
       "    .dataframe tbody tr th:only-of-type {\n",
       "        vertical-align: middle;\n",
       "    }\n",
       "\n",
       "    .dataframe tbody tr th {\n",
       "        vertical-align: top;\n",
       "    }\n",
       "\n",
       "    .dataframe thead th {\n",
       "        text-align: right;\n",
       "    }\n",
       "</style>\n",
       "<table border=\"1\" class=\"dataframe\">\n",
       "  <thead>\n",
       "    <tr style=\"text-align: right;\">\n",
       "      <th></th>\n",
       "      <th>x</th>\n",
       "      <th>y</th>\n",
       "      <th>id</th>\n",
       "      <th>x_100</th>\n",
       "      <th>y_100</th>\n",
       "      <th>weight</th>\n",
       "      <th>dbscan_cluster</th>\n",
       "      <th>core</th>\n",
       "      <th>nearest_core</th>\n",
       "      <th>region</th>\n",
       "    </tr>\n",
       "  </thead>\n",
       "  <tbody>\n",
       "    <tr>\n",
       "      <th>0</th>\n",
       "      <td>4.555524e+06</td>\n",
       "      <td>2.895213e+06</td>\n",
       "      <td>0</td>\n",
       "      <td>4555500.0</td>\n",
       "      <td>2895200.0</td>\n",
       "      <td>2</td>\n",
       "      <td>1465</td>\n",
       "      <td>False</td>\n",
       "      <td>1395.0</td>\n",
       "      <td>1395</td>\n",
       "    </tr>\n",
       "    <tr>\n",
       "      <th>1</th>\n",
       "      <td>4.555513e+06</td>\n",
       "      <td>2.895226e+06</td>\n",
       "      <td>1</td>\n",
       "      <td>4555500.0</td>\n",
       "      <td>2895200.0</td>\n",
       "      <td>2</td>\n",
       "      <td>1465</td>\n",
       "      <td>False</td>\n",
       "      <td>1395.0</td>\n",
       "      <td>1395</td>\n",
       "    </tr>\n",
       "    <tr>\n",
       "      <th>2</th>\n",
       "      <td>4.555531e+06</td>\n",
       "      <td>2.895390e+06</td>\n",
       "      <td>2</td>\n",
       "      <td>4555500.0</td>\n",
       "      <td>2895400.0</td>\n",
       "      <td>3</td>\n",
       "      <td>1465</td>\n",
       "      <td>False</td>\n",
       "      <td>1395.0</td>\n",
       "      <td>1395</td>\n",
       "    </tr>\n",
       "    <tr>\n",
       "      <th>3</th>\n",
       "      <td>4.556668e+06</td>\n",
       "      <td>2.895443e+06</td>\n",
       "      <td>3</td>\n",
       "      <td>4556700.0</td>\n",
       "      <td>2895400.0</td>\n",
       "      <td>2</td>\n",
       "      <td>1553</td>\n",
       "      <td>False</td>\n",
       "      <td>1395.0</td>\n",
       "      <td>1395</td>\n",
       "    </tr>\n",
       "    <tr>\n",
       "      <th>4</th>\n",
       "      <td>4.556712e+06</td>\n",
       "      <td>2.895217e+06</td>\n",
       "      <td>4</td>\n",
       "      <td>4556700.0</td>\n",
       "      <td>2895200.0</td>\n",
       "      <td>1</td>\n",
       "      <td>1553</td>\n",
       "      <td>False</td>\n",
       "      <td>1395.0</td>\n",
       "      <td>1395</td>\n",
       "    </tr>\n",
       "    <tr>\n",
       "      <th>...</th>\n",
       "      <td>...</td>\n",
       "      <td>...</td>\n",
       "      <td>...</td>\n",
       "      <td>...</td>\n",
       "      <td>...</td>\n",
       "      <td>...</td>\n",
       "      <td>...</td>\n",
       "      <td>...</td>\n",
       "      <td>...</td>\n",
       "      <td>...</td>\n",
       "    </tr>\n",
       "    <tr>\n",
       "      <th>3397211</th>\n",
       "      <td>4.833569e+06</td>\n",
       "      <td>2.863265e+06</td>\n",
       "      <td>3397211</td>\n",
       "      <td>4833600.0</td>\n",
       "      <td>2863300.0</td>\n",
       "      <td>1</td>\n",
       "      <td>-1</td>\n",
       "      <td>False</td>\n",
       "      <td>9750.0</td>\n",
       "      <td>9750</td>\n",
       "    </tr>\n",
       "    <tr>\n",
       "      <th>3397212</th>\n",
       "      <td>4.832729e+06</td>\n",
       "      <td>2.862271e+06</td>\n",
       "      <td>3397212</td>\n",
       "      <td>4832700.0</td>\n",
       "      <td>2862300.0</td>\n",
       "      <td>1</td>\n",
       "      <td>-1</td>\n",
       "      <td>False</td>\n",
       "      <td>9750.0</td>\n",
       "      <td>9750</td>\n",
       "    </tr>\n",
       "    <tr>\n",
       "      <th>3397213</th>\n",
       "      <td>4.833350e+06</td>\n",
       "      <td>2.861897e+06</td>\n",
       "      <td>3397213</td>\n",
       "      <td>4833400.0</td>\n",
       "      <td>2861900.0</td>\n",
       "      <td>1</td>\n",
       "      <td>-1</td>\n",
       "      <td>False</td>\n",
       "      <td>9750.0</td>\n",
       "      <td>9750</td>\n",
       "    </tr>\n",
       "    <tr>\n",
       "      <th>3397214</th>\n",
       "      <td>4.833168e+06</td>\n",
       "      <td>2.861214e+06</td>\n",
       "      <td>3397214</td>\n",
       "      <td>4833200.0</td>\n",
       "      <td>2861200.0</td>\n",
       "      <td>1</td>\n",
       "      <td>-1</td>\n",
       "      <td>False</td>\n",
       "      <td>9750.0</td>\n",
       "      <td>9750</td>\n",
       "    </tr>\n",
       "    <tr>\n",
       "      <th>3397215</th>\n",
       "      <td>4.833230e+06</td>\n",
       "      <td>2.860820e+06</td>\n",
       "      <td>3397215</td>\n",
       "      <td>4833200.0</td>\n",
       "      <td>2860800.0</td>\n",
       "      <td>1</td>\n",
       "      <td>-1</td>\n",
       "      <td>False</td>\n",
       "      <td>9750.0</td>\n",
       "      <td>9750</td>\n",
       "    </tr>\n",
       "  </tbody>\n",
       "</table>\n",
       "<p>3397216 rows × 10 columns</p>\n",
       "</div>"
      ],
      "text/plain": [
       "                    x             y       id      x_100      y_100  weight  \\\n",
       "0        4.555524e+06  2.895213e+06        0  4555500.0  2895200.0       2   \n",
       "1        4.555513e+06  2.895226e+06        1  4555500.0  2895200.0       2   \n",
       "2        4.555531e+06  2.895390e+06        2  4555500.0  2895400.0       3   \n",
       "3        4.556668e+06  2.895443e+06        3  4556700.0  2895400.0       2   \n",
       "4        4.556712e+06  2.895217e+06        4  4556700.0  2895200.0       1   \n",
       "...               ...           ...      ...        ...        ...     ...   \n",
       "3397211  4.833569e+06  2.863265e+06  3397211  4833600.0  2863300.0       1   \n",
       "3397212  4.832729e+06  2.862271e+06  3397212  4832700.0  2862300.0       1   \n",
       "3397213  4.833350e+06  2.861897e+06  3397213  4833400.0  2861900.0       1   \n",
       "3397214  4.833168e+06  2.861214e+06  3397214  4833200.0  2861200.0       1   \n",
       "3397215  4.833230e+06  2.860820e+06  3397215  4833200.0  2860800.0       1   \n",
       "\n",
       "         dbscan_cluster   core  nearest_core  region  \n",
       "0                  1465  False        1395.0    1395  \n",
       "1                  1465  False        1395.0    1395  \n",
       "2                  1465  False        1395.0    1395  \n",
       "3                  1553  False        1395.0    1395  \n",
       "4                  1553  False        1395.0    1395  \n",
       "...                 ...    ...           ...     ...  \n",
       "3397211              -1  False        9750.0    9750  \n",
       "3397212              -1  False        9750.0    9750  \n",
       "3397213              -1  False        9750.0    9750  \n",
       "3397214              -1  False        9750.0    9750  \n",
       "3397215              -1  False        9750.0    9750  \n",
       "\n",
       "[3397216 rows x 10 columns]"
      ]
     },
     "execution_count": 150,
     "metadata": {},
     "output_type": "execute_result"
    }
   ],
   "source": [
    "data"
   ]
  },
  {
   "cell_type": "code",
   "execution_count": 152,
   "id": "15f90837-2b00-4d58-aa93-11697239c424",
   "metadata": {},
   "outputs": [],
   "source": [
    "pd.concat(\n",
    "    [\n",
    "        grid_cores,\n",
    "        grid_non_cores[[\"nearest_core\", \"geometry\"]].rename(\n",
    "            columns={\"nearest_core\": \"labels\"}\n",
    "        ),\n",
    "    ]\n",
    ").dissolve(\"labels\").convex_hull.to_frame(\"convex_hull\").to_parquet(\n",
    "    \"../data/ms_czechia_regions_hull.parquet\"\n",
    ") "
   ]
  },
  {
   "cell_type": "code",
   "execution_count": null,
   "id": "221f61b7-dbcf-493f-a46a-f46131dab3ae",
   "metadata": {},
   "outputs": [],
   "source": []
  },
  {
   "cell_type": "code",
   "execution_count": null,
   "id": "04d6fb90-7f16-45ef-935d-288ca326a125",
   "metadata": {},
   "outputs": [],
   "source": []
  },
  {
   "cell_type": "code",
   "execution_count": null,
   "id": "bbbd67d4-c831-4a6e-b1b6-eccaf2ae5066",
   "metadata": {},
   "outputs": [],
   "source": []
  },
  {
   "cell_type": "markdown",
   "id": "b8fec160-b62b-4003-a8fd-b630ab67c4a6",
   "metadata": {},
   "source": [
    "----"
   ]
  },
  {
   "cell_type": "markdown",
   "id": "75504ce2-473b-419d-b583-0073f17e76ed",
   "metadata": {},
   "source": [
    "## Processing"
   ]
  },
  {
   "cell_type": "code",
   "execution_count": 1,
   "id": "44580708-fcc0-4e68-a883-46762949814d",
   "metadata": {},
   "outputs": [],
   "source": [
    "import geopandas as gpd\n",
    "import pandas as pd"
   ]
  },
  {
   "cell_type": "code",
   "execution_count": 2,
   "id": "388d8152-e939-45cd-a0cb-ada06390d240",
   "metadata": {},
   "outputs": [],
   "source": [
    "region_name = 4182"
   ]
  },
  {
   "cell_type": "code",
   "execution_count": 3,
   "id": "ebd7825b-1289-467b-8f57-4c1c67bc13b4",
   "metadata": {},
   "outputs": [],
   "source": [
    "buildings_dir = '../data/ms_buildings/'\n",
    "streets_dir = '../data/ms_buildings/'\n",
    "enclosures_dir = '../data/ms_buildings/'\n",
    "tessellations_dir = '../data/ms_buildings/'\n",
    "graph_dir = '../data/ms_buildings/'\n",
    "chars_dir = '../data/ms_buildings/chars/'"
   ]
  },
  {
   "cell_type": "code",
   "execution_count": 4,
   "id": "baa24ea8-cba4-4dee-af7b-862be7831440",
   "metadata": {},
   "outputs": [],
   "source": [
    "region_hulls = gpd.read_parquet(\"../data/ms_buildings/ms_czechia_regions_hull.parquet\")"
   ]
  },
  {
   "cell_type": "code",
   "execution_count": 5,
   "id": "68e07f1e-a9b4-40d7-a097-a42881e7b7ec",
   "metadata": {},
   "outputs": [],
   "source": [
    "region_id, region_hull = region_hulls.loc[region_name].name, region_hulls.loc[region_name].convex_hull"
   ]
  },
  {
   "cell_type": "code",
   "execution_count": null,
   "id": "5adc9525-7ce5-4a5e-8b39-a4cd71f6f5d3",
   "metadata": {},
   "outputs": [],
   "source": []
  },
  {
   "cell_type": "markdown",
   "id": "6979e41f-00a3-4853-94e0-03b64ff939e3",
   "metadata": {},
   "source": [
    "## process buildings"
   ]
  },
  {
   "cell_type": "code",
   "execution_count": null,
   "id": "5b20ef55-ec57-4188-9ae7-476cb38de1cb",
   "metadata": {},
   "outputs": [],
   "source": []
  },
  {
   "cell_type": "code",
   "execution_count": 6,
   "id": "c117b98a-a83a-4ffb-9356-3b0e2f8f048e",
   "metadata": {},
   "outputs": [],
   "source": [
    "from core.generate_buildings import read_region_buildings, process_region_buildings"
   ]
  },
  {
   "cell_type": "code",
   "execution_count": 7,
   "id": "23109258-303b-4720-9115-6c37937139e1",
   "metadata": {},
   "outputs": [
    {
     "data": {
      "text/plain": [
       "(234287, 3)"
      ]
     },
     "execution_count": 7,
     "metadata": {},
     "output_type": "execute_result"
    }
   ],
   "source": [
    "buildings = gpd.read_parquet('../data/ms_buildings/ms_czechia.parquet', bbox=region_hull.bounds)\n",
    "buildings = buildings.iloc[buildings.sindex.query(region_hull, predicate='intersects')]\n",
    "buildings.shape"
   ]
  },
  {
   "cell_type": "code",
   "execution_count": 8,
   "id": "b16dc60e-8359-4ccd-b6d1-17058047dc32",
   "metadata": {},
   "outputs": [
    {
     "name": "stdout",
     "output_type": "stream",
     "text": [
      "Percent polygons:  1.0\n",
      "Final polygons:  231507 , dropped:  0.011865788541404299\n"
     ]
    }
   ],
   "source": [
    "buildings = process_region_buildings(buildings, True, simplification_tolerance=.1, merge_limit=25)"
   ]
  },
  {
   "cell_type": "code",
   "execution_count": 9,
   "id": "b66454b1-f15c-4ee7-b614-c96b1f1cf7b1",
   "metadata": {},
   "outputs": [],
   "source": [
    "buildings.to_parquet(buildings_dir + f\"buildings_{region_id}.parquet\")"
   ]
  },
  {
   "cell_type": "code",
   "execution_count": null,
   "id": "5d065a1d-1263-46f8-9f3d-38aeb8479c9d",
   "metadata": {},
   "outputs": [],
   "source": []
  },
  {
   "cell_type": "code",
   "execution_count": null,
   "id": "dda46749-fca4-4de4-a70d-be39990e3ee9",
   "metadata": {},
   "outputs": [],
   "source": []
  },
  {
   "cell_type": "code",
   "execution_count": null,
   "id": "f2d5eccb-14b3-4185-9b95-df50ebd7f59f",
   "metadata": {},
   "outputs": [],
   "source": []
  },
  {
   "cell_type": "markdown",
   "id": "ae6296a0-1c2a-4ec4-b011-c02e9ef75831",
   "metadata": {},
   "source": [
    "## process streets"
   ]
  },
  {
   "cell_type": "code",
   "execution_count": 14,
   "id": "fb399c37-802b-4bc9-8862-4ae5bdb4000b",
   "metadata": {},
   "outputs": [
    {
     "data": {
      "text/plain": [
       "\u001b[0;31mSignature:\u001b[0m \u001b[0mprocess_region_streets\u001b[0m\u001b[0;34m(\u001b[0m\u001b[0mregion_hull\u001b[0m\u001b[0;34m,\u001b[0m \u001b[0mregion_id\u001b[0m\u001b[0;34m,\u001b[0m \u001b[0mbuildings_dir\u001b[0m\u001b[0;34m)\u001b[0m\u001b[0;34m\u001b[0m\u001b[0;34m\u001b[0m\u001b[0m\n",
       "\u001b[0;31mDocstring:\u001b[0m Download overture streets, filter them, drop tunnels and simplify.\n",
       "\u001b[0;31mFile:\u001b[0m      ~/urban_taxonomy/src/core/generate_streets.py\n",
       "\u001b[0;31mType:\u001b[0m      function"
      ]
     },
     "metadata": {},
     "output_type": "display_data"
    }
   ],
   "source": []
  },
  {
   "cell_type": "code",
   "execution_count": 10,
   "id": "b33cb2a6-1f18-4773-80dc-e95b8da6b14c",
   "metadata": {},
   "outputs": [],
   "source": [
    "from core.generate_streets import process_region_streets"
   ]
  },
  {
   "cell_type": "code",
   "execution_count": 11,
   "id": "e139e0cb-ffeb-407a-8b7e-c06fb71ea7fe",
   "metadata": {},
   "outputs": [],
   "source": [
    "## overture is indexed based on 4326\n",
    "overture_hull = region_hulls.loc[[region_name], ].to_crs(epsg=4326).convex_hull.iloc[0]"
   ]
  },
  {
   "cell_type": "code",
   "execution_count": 15,
   "id": "1b08f2d9-7bb8-4b24-8810-bd32f6cda1fd",
   "metadata": {},
   "outputs": [
    {
     "name": "stderr",
     "output_type": "stream",
     "text": [
      "/home/krasen/urban_taxonomy/manual_deps/sgeop/sgeop/simplify.py:343: UserWarning: An error occured at location POINT (4634734.833449237 3007874.1868347814). The artifact has not been simplified. The original message:\n",
      "can only convert an array of size 1 to a Python scalar\n",
      "  roads_cleaned = simplify_singletons(\n",
      "/home/krasen/urban_taxonomy/manual_deps/sgeop/sgeop/geometry.py:227: UserWarning: Could not create a connection as it would lead outside of the artifact.\n",
      "  additions, splits = snap_to_targets(\n",
      "/home/krasen/urban_taxonomy/manual_deps/sgeop/sgeop/simplify.py:200: UserWarning: Could not create a connection as it would lead outside of the artifact.\n",
      "  nx_gx_cluster(\n"
     ]
    },
    {
     "name": "stdout",
     "output_type": "stream",
     "text": [
      "CPU times: user 3min 23s, sys: 2.31 s, total: 3min 25s\n",
      "Wall time: 6min 1s\n"
     ]
    }
   ],
   "source": [
    "%%time\n",
    "## processs streets\n",
    "streets = process_region_streets(overture_hull, region_id, buildings_dir)"
   ]
  },
  {
   "cell_type": "code",
   "execution_count": 16,
   "id": "0f242ee6-8bda-447e-a96d-92a1bf9d0293",
   "metadata": {},
   "outputs": [
    {
     "data": {
      "text/plain": [
       "<Axes: >"
      ]
     },
     "execution_count": 16,
     "metadata": {},
     "output_type": "execute_result"
    },
    {
     "data": {
      "image/png": "[encoded data removed]",
      "text/plain": [
       "<Figure size 640x480 with 1 Axes>"
      ]
     },
     "metadata": {},
     "output_type": "display_data"
    }
   ],
   "source": [
    "streets.plot()"
   ]
  },
  {
   "cell_type": "code",
   "execution_count": 17,
   "id": "d2070640-c2aa-4da7-b95a-1d43b2db8da2",
   "metadata": {},
   "outputs": [],
   "source": [
    "## save streets\n",
    "streets.to_parquet(streets_dir + f'streets_{region_id}.parquet')"
   ]
  },
  {
   "cell_type": "code",
   "execution_count": null,
   "id": "5e59f863-122d-47db-bc2a-1707fccb2949",
   "metadata": {},
   "outputs": [],
   "source": []
  },
  {
   "cell_type": "markdown",
   "id": "8a9f5337-0f72-481f-9223-4de4a205f0a5",
   "metadata": {},
   "source": [
    "## process elements"
   ]
  },
  {
   "cell_type": "code",
   "execution_count": 18,
   "id": "92a1abbc-ef34-43a6-b1cc-28e3e78d06bc",
   "metadata": {},
   "outputs": [],
   "source": [
    "from core.generate_elements import process_region_elements"
   ]
  },
  {
   "cell_type": "code",
   "execution_count": null,
   "id": "717a949a-7517-4743-8a37-f11a84e11ea6",
   "metadata": {},
   "outputs": [],
   "source": []
  },
  {
   "cell_type": "code",
   "execution_count": 19,
   "id": "d7128e31-3336-45ca-b50f-59bccd6e8b61",
   "metadata": {},
   "outputs": [
    {
     "name": "stdout",
     "output_type": "stream",
     "text": [
      "---- Processing region:  4182 2024-09-16 10:23:21.044287\n"
     ]
    }
   ],
   "source": [
    "enclosures, tesselations = process_region_elements(buildings_dir, streets_dir, region_id)"
   ]
  },
  {
   "cell_type": "code",
   "execution_count": 20,
   "id": "3ee52722-6709-4e0f-bd18-c8afb414846c",
   "metadata": {},
   "outputs": [
    {
     "name": "stdout",
     "output_type": "stream",
     "text": [
      "Processed enclosures\n",
      "processed tesselations\n"
     ]
    }
   ],
   "source": [
    "enclosures.to_parquet(enclosures_dir + f\"enclosure_{region_id}.parquet\")\n",
    "print(\"Processed enclosures\")\n",
    "\n",
    "## save files\n",
    "tesselations.to_parquet(\n",
    "    tessellations_dir + f\"tessellation_{region_id}.parquet\"\n",
    ")\n",
    "print(\"processed tesselations\")"
   ]
  },
  {
   "cell_type": "code",
   "execution_count": null,
   "id": "4484db48-91b1-42a4-9b60-9990bb964595",
   "metadata": {},
   "outputs": [],
   "source": []
  },
  {
   "cell_type": "code",
   "execution_count": null,
   "id": "1a88869d-cf4f-4421-8608-ef84c3b4d9cb",
   "metadata": {},
   "outputs": [],
   "source": []
  },
  {
   "cell_type": "code",
   "execution_count": 17,
   "id": "0740208d-6624-4445-8c0c-803f7f83c172",
   "metadata": {},
   "outputs": [],
   "source": [
    "# import lonboard\n",
    "# layer = lonboard.PolygonLayer.from_geopandas(tesselations, opacity=.15)\n",
    "# m = lonboard.Map(layer)"
   ]
  },
  {
   "cell_type": "code",
   "execution_count": null,
   "id": "74d70eac-c5a1-4dc6-b861-3ee412348402",
   "metadata": {},
   "outputs": [],
   "source": []
  },
  {
   "cell_type": "code",
   "execution_count": 15,
   "id": "84ad3d6c-598b-4b71-b73e-fe85212bf5ac",
   "metadata": {},
   "outputs": [],
   "source": []
  },
  {
   "cell_type": "code",
   "execution_count": null,
   "id": "a7f66118-249e-459f-b8b9-290fa6b7480e",
   "metadata": {},
   "outputs": [],
   "source": []
  },
  {
   "cell_type": "code",
   "execution_count": null,
   "id": "ce6c6d5d-da75-4996-9fd1-d3e86d89ab5d",
   "metadata": {},
   "outputs": [],
   "source": []
  },
  {
   "cell_type": "code",
   "execution_count": null,
   "id": "1deddd99-8b1e-4b5c-83a8-7cc41650f83b",
   "metadata": {},
   "outputs": [],
   "source": []
  },
  {
   "cell_type": "code",
   "execution_count": null,
   "id": "31f7f0b2-b547-4457-837d-f37e9c6f20f9",
   "metadata": {},
   "outputs": [],
   "source": []
  },
  {
   "cell_type": "markdown",
   "id": "803e5634-ddd1-445f-aa90-a0ab10792b60",
   "metadata": {},
   "source": [
    "## process graphs"
   ]
  },
  {
   "cell_type": "code",
   "execution_count": 22,
   "id": "19a41eee-b2fa-4f8b-a499-1a3bf1635e00",
   "metadata": {},
   "outputs": [],
   "source": [
    "from core.generate_ngraphs import process_region_graphs"
   ]
  },
  {
   "cell_type": "code",
   "execution_count": 23,
   "id": "368d5424-85c6-48db-bc36-970cd6de83db",
   "metadata": {},
   "outputs": [
    {
     "name": "stdout",
     "output_type": "stream",
     "text": [
      "Built tess graph knn=1\n",
      "Built buildings graph knn=1\n",
      "Built streets graph knn=1\n",
      "Built enclosure graph knn=1\n"
     ]
    },
    {
     "name": "stderr",
     "output_type": "stream",
     "text": [
      "/home/krasen/urban_taxonomy/.pixi/envs/default/lib/python3.12/site-packages/libpysal/weights/weights.py:1685: UserWarning: The weights matrix is not fully connected: \n",
      " There are 133 disconnected components.\n",
      "  w = W(neighbors, weights, ids, silence_warnings=silence_warnings)\n"
     ]
    },
    {
     "name": "stdout",
     "output_type": "stream",
     "text": [
      "Built nodes graph knn=1\n"
     ]
    }
   ],
   "source": [
    "process_region_graphs(\n",
    "    region_id,\n",
    "    graph_dir,\n",
    "    buildings_dir,\n",
    "    streets_dir,\n",
    "    enclosures_dir,\n",
    "    tessellations_dir,\n",
    ")"
   ]
  },
  {
   "cell_type": "code",
   "execution_count": null,
   "id": "08f7ff05-3ce8-4e8a-81f3-e63f8ef77c89",
   "metadata": {},
   "outputs": [],
   "source": []
  },
  {
   "cell_type": "code",
   "execution_count": null,
   "id": "9ed23207-8616-41d9-86c6-b4c73ed0f36a",
   "metadata": {},
   "outputs": [],
   "source": []
  },
  {
   "cell_type": "markdown",
   "id": "0f7a56d1-a20e-45ad-bc67-f5fdeb26ba17",
   "metadata": {},
   "source": [
    "## process chars"
   ]
  },
  {
   "cell_type": "code",
   "execution_count": 24,
   "id": "8756f081-37f4-446d-99e3-7a98005ac66e",
   "metadata": {},
   "outputs": [],
   "source": [
    "from core.generate_chars import process_single_region_chars"
   ]
  },
  {
   "cell_type": "code",
   "execution_count": 25,
   "id": "a4d284ca-ad4b-43c6-b9a7-d1aee4083e90",
   "metadata": {},
   "outputs": [
    {
     "name": "stdout",
     "output_type": "stream",
     "text": [
      "2024-09-16 10:25:49.094636 ----Processing ------ 4182\n",
      "Processing streets\n",
      "Processing enclosures\n",
      "Processing buildings\n",
      "Processing tessellation\n"
     ]
    }
   ],
   "source": [
    "process_single_region_chars(\n",
    "    region_id,\n",
    "    graph_dir,\n",
    "    buildings_dir,\n",
    "    streets_dir,\n",
    "    enclosures_dir,\n",
    "    tessellations_dir,\n",
    "    chars_dir\n",
    ")"
   ]
  },
  {
   "cell_type": "markdown",
   "id": "ae17249c-1614-49f4-9f39-da8258e8852c",
   "metadata": {},
   "source": [
    "## merge data"
   ]
  },
  {
   "cell_type": "code",
   "execution_count": 26,
   "id": "f77a8110-2606-4c22-9012-e862664f1c6a",
   "metadata": {},
   "outputs": [],
   "source": [
    "tessellation = gpd.read_parquet(chars_dir + f\"tessellations_chars_{region_id}.parquet\")\n",
    "buildings = gpd.read_parquet(chars_dir + f\"buildings_chars_{region_id}.parquet\")\n",
    "enclosures = gpd.read_parquet(chars_dir + f\"enclosures_chars_{region_id}.parquet\")\n",
    "streets = gpd.read_parquet(chars_dir + f\"streets_chars_{region_id}.parquet\")\n",
    "nodes = gpd.read_parquet(chars_dir + f\"nodes_chars_{region_id}.parquet\")\n",
    "\n",
    "merged = pd.merge(\n",
    "    tessellation.drop(columns=[\"geometry\"]),\n",
    "    buildings.drop(columns=[\"nodeID\", \"geometry\", 'nID']),\n",
    "    right_index=True,\n",
    "    left_index=True,\n",
    "    how=\"left\",\n",
    ")\n",
    "\n",
    "merged = merged.merge(\n",
    "    enclosures.drop(columns=\"geometry\"),\n",
    "    right_on=\"eID\",\n",
    "    left_on=\"enclosure_index\",\n",
    "    how=\"left\",\n",
    ")\n",
    "\n",
    "merged = merged.merge(streets.drop(columns=\"geometry\"), on=\"nID\", how=\"left\")\n",
    "merged = merged.merge(nodes.drop(columns=\"geometry\"), on=\"nodeID\", how=\"left\")\n",
    "\n",
    "merged = merged.drop(\n",
    "    columns=[\n",
    "        \"nID\",\n",
    "        \"eID\",\n",
    "        \"nodeID\",\n",
    "        \"mm_len\",\n",
    "        \"cdsbool\",\n",
    "        \"node_start\",\n",
    "        \"node_end\",\n",
    "        \"x\",\n",
    "        \"y\",\n",
    "        \"enclosure_index\",\n",
    "        # \"id\",\n",
    "        # \"osm_id\",\n",
    "    ]\n",
    ")\n",
    "merged = merged.set_index(tessellation.index)\n",
    "\n",
    "from core.utils import used_keys\n",
    "primary = merged[list(used_keys.keys())]\n",
    "primary.to_parquet(chars_dir + f'primary_chars_{region_id}.parquet')"
   ]
  },
  {
   "cell_type": "code",
   "execution_count": null,
   "id": "b2c00024-3c16-4ea6-ad11-cd3d4bde46b2",
   "metadata": {},
   "outputs": [],
   "source": []
  },
  {
   "cell_type": "code",
   "execution_count": null,
   "id": "7901afac-9981-407c-a662-40468fc7a32e",
   "metadata": {},
   "outputs": [],
   "source": []
  },
  {
   "cell_type": "code",
   "execution_count": null,
   "id": "e5c226f3-7522-47e1-b986-1e42668a9e79",
   "metadata": {},
   "outputs": [],
   "source": []
  }
 ],
 "metadata": {
  "kernelspec": {
   "display_name": "Python 3 (ipykernel)",
   "language": "python",
   "name": "python3"
  },
  "language_info": {
   "codemirror_mode": {
    "name": "ipython",
    "version": 3
   },
   "file_extension": ".py",
   "mimetype": "text/x-python",
   "name": "python",
   "nbconvert_exporter": "python",
   "pygments_lexer": "ipython3",
   "version": "3.12.5"
  }
 },
 "nbformat": 4,
 "nbformat_minor": 5
}
