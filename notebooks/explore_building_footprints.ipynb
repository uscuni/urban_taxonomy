{
 "cells": [
  {
   "cell_type": "code",
   "execution_count": null,
   "id": "2acc88ee-1b46-4421-b315-ea9362802508",
   "metadata": {},
   "outputs": [],
   "source": [
    "import geopandas as gpd\n",
    "from glob import glob\n",
    "import pandas as pd\n",
    "import lonboard\n",
    "from sidecar import Sidecar\n",
    "\n",
    "DATADIR = '/data/uscuni-ulce/cadastre_buildings_standardised/'"
   ]
  },
  {
   "cell_type": "code",
   "execution_count": null,
   "id": "7dbd6f7e-2660-418e-913a-7ca8e2778b4b",
   "metadata": {},
   "outputs": [],
   "source": [
    "regions = [\n",
    "\"buildings_austria.pq\",\n",
    "\"buildings_slovakia.pq\",\n",
    "\"buildings_poland.pq\",\n",
    "\"buildings_czechia.pq\",\n",
    "]"
   ]
  },
  {
   "cell_type": "code",
   "execution_count": null,
   "id": "e44edfc1-ab8c-4181-b098-469ffbb4ebfd",
   "metadata": {},
   "outputs": [],
   "source": []
  },
  {
   "cell_type": "markdown",
   "id": "497f2f7f-de12-4b82-b533-041fd0ac2591",
   "metadata": {
    "jp-MarkdownHeadingCollapsed": true
   },
   "source": [
    "### Austria"
   ]
  },
  {
   "cell_type": "code",
   "execution_count": null,
   "id": "f03812f3-52b4-417d-9311-658b1060013f",
   "metadata": {},
   "outputs": [],
   "source": [
    "austria = gpd.read_parquet(DATADIR + regions[0])"
   ]
  },
  {
   "cell_type": "code",
   "execution_count": null,
   "id": "aeb23114-2a6e-4418-bedd-506f986d2061",
   "metadata": {},
   "outputs": [],
   "source": [
    "austria.shape"
   ]
  },
  {
   "cell_type": "code",
   "execution_count": null,
   "id": "647d576f-0e39-4b06-87f5-bce93be0e22c",
   "metadata": {},
   "outputs": [],
   "source": [
    "austria.columns"
   ]
  },
  {
   "cell_type": "code",
   "execution_count": null,
   "id": "5a19d27c-fafd-4c87-ab6b-42eb3b26169e",
   "metadata": {},
   "outputs": [],
   "source": [
    "\"\"\"\n",
    "'F_CODE', 'F_NAME', 'STRUCTURE FUNCTION', 'AGWR_OBJECT NUMBER', 'AGWR_TYPE',\n",
    "'VERIFICATION_LB', 'DEL_FLAG', 'FLIGHT_YEAR', 'AS_DATE',\n",
    "'RECORD_TYPE', 'GROUND_HEIGHT_MIN', 'RECORD_TYPE_GROUND_MIN',\n",
    "'GROUND_HEIGHT_MEDIAN', 'RECORD_TYPE_GROUND_HEIGHT_MEDIAN',\n",
    "'GROUND_HEIGHT_MAX', 'GROUND_TYPE_GROUND_MAX', 'OBJECT_HEIGHT_MEDIAN',\n",
    "'OBJECT_TYPE_HEIGHT_MEDIAN', 'HEIGHT_OBJECT_MAX',\n",
    "'RECORD_TYPE_HEIGHT_OBJECT_MAX', 'HEIGHT_OBJECT_EAVES',\n",
    "'RECORD_TYPE_HEIGHT_OBJECT_EAVES', 'DATA SOURCE', 'DATA SOURCE_EXT_ID',\n",
    "'CREATE_DATE', 'EDIT_DATE', 'OBJECTID', 'GLOBALID', 'SHAPE_AREA',\n",
    "'geometry'\n",
    "\"\"\""
   ]
  },
  {
   "cell_type": "code",
   "execution_count": null,
   "id": "408de570-c21f-45f5-8fa2-4e2d9da265bd",
   "metadata": {},
   "outputs": [],
   "source": [
    "austria['BAUWERKSFUNKTION'].unique()"
   ]
  },
  {
   "cell_type": "code",
   "execution_count": null,
   "id": "f3094f8b-b479-48c9-a6d8-ec70990fe13b",
   "metadata": {},
   "outputs": [],
   "source": [
    "austria['AGWR_TYP'].unique()"
   ]
  },
  {
   "cell_type": "code",
   "execution_count": null,
   "id": "2bc60726-3e7e-4f63-8609-bc9a32c935f7",
   "metadata": {},
   "outputs": [],
   "source": []
  },
  {
   "cell_type": "code",
   "execution_count": null,
   "id": "b6b71d34-4d4d-47ba-bd1f-b8326e3eff2d",
   "metadata": {},
   "outputs": [],
   "source": []
  },
  {
   "cell_type": "code",
   "execution_count": null,
   "id": "ba26dd76-f2f1-46d3-9ff3-dcd3985bc2ec",
   "metadata": {},
   "outputs": [],
   "source": [
    "centroids = austria.geometry.representative_point().to_frame().reset_index()\n",
    "centroids['currentUse'] = austria['BAUWERKSFUNKTION']\n",
    "centroids['buildingNature'] = austria['AGWR_TYP']"
   ]
  },
  {
   "cell_type": "code",
   "execution_count": null,
   "id": "c0ce21cb-3c61-4650-b46f-8ce1a467e36c",
   "metadata": {},
   "outputs": [],
   "source": []
  },
  {
   "cell_type": "code",
   "execution_count": null,
   "id": "71af47ca-6bca-4d3a-b80c-ed6ff2c2cac5",
   "metadata": {},
   "outputs": [],
   "source": []
  },
  {
   "cell_type": "code",
   "execution_count": null,
   "id": "34a737c6-8506-460a-98c9-dc29f0431096",
   "metadata": {},
   "outputs": [],
   "source": [
    "layer = lonboard.ScatterplotLayer.from_geopandas(centroids)\n",
    "sc = Sidecar(title='Final Clusters')\n",
    "m = lonboard.Map(layer, basemap_style=lonboard.basemap.CartoBasemap.Positron)\n",
    "with sc:\n",
    "    display(m)"
   ]
  },
  {
   "cell_type": "code",
   "execution_count": null,
   "id": "f9bfaa11-66ba-4b46-af7a-5dfe70267b39",
   "metadata": {},
   "outputs": [],
   "source": []
  },
  {
   "cell_type": "code",
   "execution_count": null,
   "id": "fa9d3849-b46a-4736-87b9-a56d4c3f333c",
   "metadata": {},
   "outputs": [],
   "source": []
  },
  {
   "cell_type": "code",
   "execution_count": null,
   "id": "def2dafe-5dc8-46c7-bdb2-5dafef3f09b7",
   "metadata": {},
   "outputs": [],
   "source": []
  },
  {
   "cell_type": "code",
   "execution_count": null,
   "id": "0ffe6f09-df4c-48fb-8d73-b701adc4fa4a",
   "metadata": {},
   "outputs": [],
   "source": []
  },
  {
   "cell_type": "markdown",
   "id": "342b91dd-c379-4358-8aa8-add8a553981b",
   "metadata": {
    "jp-MarkdownHeadingCollapsed": true
   },
   "source": [
    "### Slovakia"
   ]
  },
  {
   "cell_type": "code",
   "execution_count": null,
   "id": "8a95e92c-24c2-4cc7-a863-5df6586b63e6",
   "metadata": {},
   "outputs": [],
   "source": [
    "slovakia = gpd.read_parquet(DATADIR + regions[1])"
   ]
  },
  {
   "cell_type": "code",
   "execution_count": null,
   "id": "a03db6ce-89ed-4d3a-9808-8f68c4051b07",
   "metadata": {},
   "outputs": [],
   "source": [
    "slovakia.shape"
   ]
  },
  {
   "cell_type": "code",
   "execution_count": null,
   "id": "e4bdb349-1c4c-4b56-af3c-ca26f3e2accb",
   "metadata": {
    "scrolled": true
   },
   "outputs": [],
   "source": [
    "slovakia.columns"
   ]
  },
  {
   "cell_type": "code",
   "execution_count": null,
   "id": "2eb79114-fbf6-4b15-948d-b52e6029c01d",
   "metadata": {},
   "outputs": [],
   "source": [
    "slovakia['buildingNature'].unique()"
   ]
  },
  {
   "cell_type": "code",
   "execution_count": null,
   "id": "019449ae-67e5-4706-ad36-61dda02ccf4d",
   "metadata": {},
   "outputs": [],
   "source": [
    "slovakia['currentUse'].unique()"
   ]
  },
  {
   "cell_type": "code",
   "execution_count": null,
   "id": "f148c012-bf31-4d10-854b-d195db48b722",
   "metadata": {},
   "outputs": [],
   "source": []
  },
  {
   "cell_type": "code",
   "execution_count": null,
   "id": "61baa97d-5354-4b9f-b0b4-66493db8b878",
   "metadata": {},
   "outputs": [],
   "source": [
    "centroids = slovakia.geometry.representative_point().to_frame().reset_index()\n",
    "centroids['currentUse'] = slovakia['currentUse']\n",
    "centroids['buildingNature'] = slovakia['buildingNature']"
   ]
  },
  {
   "cell_type": "code",
   "execution_count": null,
   "id": "614a87db-10f8-42e7-8211-5e5bd413c23d",
   "metadata": {},
   "outputs": [],
   "source": [
    "\n",
    "layer = lonboard.ScatterplotLayer.from_geopandas(centroids)\n",
    "sc = Sidecar(title='Final Clusters')\n",
    "m = lonboard.Map(layer, basemap_style=lonboard.basemap.CartoBasemap.Positron)\n",
    "with sc:\n",
    "    display(m)"
   ]
  },
  {
   "cell_type": "code",
   "execution_count": null,
   "id": "b7f0fd3a-6c33-439d-b5d8-47dd95614b19",
   "metadata": {},
   "outputs": [],
   "source": []
  },
  {
   "cell_type": "code",
   "execution_count": null,
   "id": "6909e8ef-82aa-4209-afb2-7c040ab624c8",
   "metadata": {},
   "outputs": [],
   "source": []
  },
  {
   "cell_type": "code",
   "execution_count": null,
   "id": "e29e0e84-f926-429e-9b90-cbf5cf415434",
   "metadata": {},
   "outputs": [],
   "source": []
  },
  {
   "cell_type": "markdown",
   "id": "cdd91d74-9625-4d31-b266-6be3daa07931",
   "metadata": {
    "jp-MarkdownHeadingCollapsed": true
   },
   "source": [
    "### Poland"
   ]
  },
  {
   "cell_type": "code",
   "execution_count": null,
   "id": "acc06400-e51a-4bc4-8382-7dcd46b2b7be",
   "metadata": {},
   "outputs": [],
   "source": []
  },
  {
   "cell_type": "code",
   "execution_count": null,
   "id": "8e8a2190-eab8-433c-b7a4-919db18ca48b",
   "metadata": {},
   "outputs": [],
   "source": [
    "poland = gpd.read_parquet(DATADIR + regions[2])"
   ]
  },
  {
   "cell_type": "code",
   "execution_count": null,
   "id": "1330f2ef-201d-4c17-af27-4d25cf68ab5b",
   "metadata": {},
   "outputs": [],
   "source": [
    "poland.shape"
   ]
  },
  {
   "cell_type": "code",
   "execution_count": null,
   "id": "4d2abdc7-259a-40f5-a92d-7fa5c979f146",
   "metadata": {},
   "outputs": [],
   "source": [
    "poland.columns"
   ]
  },
  {
   "cell_type": "code",
   "execution_count": null,
   "id": "2aed1177-9afb-4ef5-8f74-864968f13345",
   "metadata": {},
   "outputs": [],
   "source": []
  },
  {
   "cell_type": "code",
   "execution_count": null,
   "id": "45e29653-0179-4824-a85d-512eaf4d4b66",
   "metadata": {},
   "outputs": [],
   "source": []
  },
  {
   "cell_type": "code",
   "execution_count": null,
   "id": "8718bd8f-8125-43ab-b19f-b8e7c7528878",
   "metadata": {},
   "outputs": [],
   "source": [
    "centroids = poland.geometry.representative_point().to_frame().reset_index()"
   ]
  },
  {
   "cell_type": "code",
   "execution_count": null,
   "id": "6aed23ff-4945-4efe-a8c7-967547e665fa",
   "metadata": {},
   "outputs": [],
   "source": [
    "\n",
    "layer = lonboard.ScatterplotLayer.from_geopandas(centroids)\n",
    "sc = Sidecar(title='Final Clusters')\n",
    "m = lonboard.Map(layer, basemap_style=lonboard.basemap.CartoBasemap.Positron)\n",
    "with sc:\n",
    "    display(m)"
   ]
  },
  {
   "cell_type": "code",
   "execution_count": null,
   "id": "69e6360e-3145-4555-a227-7f74b7b00fb9",
   "metadata": {},
   "outputs": [],
   "source": [
    "sc = Sidecar(title='Final Clusters')\n",
    "m = lonboard.Map(layer, basemap_style=lonboard.basemap.CartoBasemap.Positron)\n",
    "with sc:\n",
    "    display(m)"
   ]
  },
  {
   "cell_type": "markdown",
   "id": "92106dda-c62e-4545-80ff-33929b685fdb",
   "metadata": {},
   "source": [
    "### Czechia"
   ]
  },
  {
   "cell_type": "code",
   "execution_count": null,
   "id": "b7cfdb7c-514b-4516-a0cf-dd2a2e09dfdf",
   "metadata": {},
   "outputs": [],
   "source": [
    "czechia = gpd.read_parquet(DATADIR + regions[3])"
   ]
  },
  {
   "cell_type": "code",
   "execution_count": null,
   "id": "3050bfbc-12bb-4724-96d4-4ed068d26305",
   "metadata": {},
   "outputs": [],
   "source": [
    "czechia.shape"
   ]
  },
  {
   "cell_type": "code",
   "execution_count": null,
   "id": "2e0bfefd-8dec-43c7-8362-0c8cab8429d7",
   "metadata": {},
   "outputs": [],
   "source": [
    "czechia.columns"
   ]
  },
  {
   "cell_type": "code",
   "execution_count": null,
   "id": "7416b6dc-fdc8-4269-9c06-417b7da50df3",
   "metadata": {},
   "outputs": [],
   "source": [
    "czechia['buildingNature'].unique()"
   ]
  },
  {
   "cell_type": "code",
   "execution_count": null,
   "id": "444fe2d7-a27d-4607-b38c-4b7f835c9830",
   "metadata": {},
   "outputs": [],
   "source": [
    "centroids = czechia.geometry.representative_point().to_frame().reset_index()\n",
    "centroids['buildingNature'] = czechia['buildingNature']"
   ]
  },
  {
   "cell_type": "code",
   "execution_count": null,
   "id": "72bfea22-c3bc-4c5f-89c5-75ef4f1eecb5",
   "metadata": {},
   "outputs": [],
   "source": [
    "\n",
    "layer = lonboard.ScatterplotLayer.from_geopandas(centroids)\n",
    "sc = Sidecar(title='Final Clusters')\n",
    "m = lonboard.Map(layer, basemap_style=lonboard.basemap.CartoBasemap.Positron)\n",
    "with sc:\n",
    "    display(m)"
   ]
  },
  {
   "cell_type": "code",
   "execution_count": null,
   "id": "22826eb2-600e-4344-8379-09d40757e7e0",
   "metadata": {},
   "outputs": [],
   "source": []
  },
  {
   "cell_type": "code",
   "execution_count": null,
   "id": "2a2bb4a5-c637-4447-b355-f8957166705f",
   "metadata": {},
   "outputs": [],
   "source": []
  },
  {
   "cell_type": "code",
   "execution_count": null,
   "id": "bb03bd21-a13d-4e56-a733-e9e1da846bac",
   "metadata": {},
   "outputs": [],
   "source": []
  },
  {
   "cell_type": "code",
   "execution_count": null,
   "id": "67c9c051-d9fc-4d44-b439-a3ce1d0c802f",
   "metadata": {},
   "outputs": [],
   "source": []
  },
  {
   "cell_type": "code",
   "execution_count": null,
   "id": "57eee369-1d09-432b-a1f7-b07c2428c943",
   "metadata": {},
   "outputs": [],
   "source": [
    "ger_regions = ['bavaria', 'brandeburg', 'bw', 'hessen', 'mv',\n",
    "       'nrw', 'rlp', 'saarland', 'sachsen', 'sachsen-anhalt', 'sg', \n",
    "       'th', 'ni', 'bremen', 'hamburg', 'berlin']"
   ]
  },
  {
   "cell_type": "code",
   "execution_count": null,
   "id": "3dc6361e-8371-4ea8-a107-ee5bd17df246",
   "metadata": {},
   "outputs": [],
   "source": [
    "bavaria = gpd.read_parquet(f'/data/uscuni-ulce/cadastre_buildings_standardised/buildings_germany_{ger_regions[0]}.pq')"
   ]
  },
  {
   "cell_type": "code",
   "execution_count": null,
   "id": "8ec4dcda-a7e3-4b66-9a5c-684943f76e9a",
   "metadata": {},
   "outputs": [],
   "source": [
    "centroids = bavaria.geometry.representative_point().to_frame().reset_index()"
   ]
  },
  {
   "cell_type": "code",
   "execution_count": null,
   "id": "76fa0c2c-31f6-49dc-ac14-d7f154b525b2",
   "metadata": {},
   "outputs": [],
   "source": [
    "\n",
    "layer = lonboard.ScatterplotLayer.from_geopandas(centroids)\n",
    "sc = Sidecar(title='Final Clusters')\n",
    "m = lonboard.Map(layer, basemap_style=lonboard.basemap.CartoBasemap.Positron)\n",
    "with sc:\n",
    "    display(m)"
   ]
  },
  {
   "cell_type": "code",
   "execution_count": null,
   "id": "cf61c8e6-0ff1-4f4b-8a14-2fd9c3974be7",
   "metadata": {},
   "outputs": [],
   "source": []
  }
 ],
 "metadata": {
  "kernelspec": {
   "display_name": "Python 3 (ipykernel)",
   "language": "python",
   "name": "python3"
  },
  "language_info": {
   "codemirror_mode": {
    "name": "ipython",
    "version": 3
   },
   "file_extension": ".py",
   "mimetype": "text/x-python",
   "name": "python",
   "nbconvert_exporter": "python",
   "pygments_lexer": "ipython3",
   "version": "3.12.5"
  }
 },
 "nbformat": 4,
 "nbformat_minor": 5
}
