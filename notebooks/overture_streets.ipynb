{
 "cells": [
  {
   "cell_type": "code",
   "execution_count": 1,
   "id": "b93f3ae2-1b38-4fd8-896f-305c680d00ed",
   "metadata": {},
   "outputs": [],
   "source": [
    "import glob\n",
    "\n",
    "import geopandas as gpd\n",
    "import matplotlib.pyplot as plt\n",
    "import numba\n",
    "import numpy as np\n",
    "import pandas as pd\n",
    "from libpysal.graph import read_parquet\n",
    "from sklearn.preprocessing import PowerTransformer, RobustScaler, StandardScaler\n",
    "import momepy as mm\n",
    "\n",
    "regions_datadir = \"/data/uscuni-ulce/\"\n",
    "data_dir = \"/data/uscuni-ulce/processed_data/\"\n",
    "eubucco_files = glob.glob(regions_datadir + \"eubucco_raw/*\")\n",
    "graph_dir = data_dir + \"neigh_graphs/\"\n",
    "chars_dir = \"/data/uscuni-ulce/processed_data/chars/\""
   ]
  },
  {
   "cell_type": "code",
   "execution_count": 2,
   "id": "bd7e3178-770b-4dba-985d-414574f5dc4b",
   "metadata": {},
   "outputs": [],
   "source": [
    "from core.cluster_validation import generate_enc_groups\n",
    "from core.utils import used_keys"
   ]
  },
  {
   "cell_type": "code",
   "execution_count": 3,
   "id": "3c030d3b-c4ec-4533-a977-ecfb4ccf632c",
   "metadata": {},
   "outputs": [],
   "source": [
    "region_hulls = gpd.read_parquet(\n",
    "        regions_datadir + \"regions/\" + \"regions_hull.parquet\"\n",
    "    ).to_crs('epsg:4326')"
   ]
  },
  {
   "cell_type": "code",
   "execution_count": 4,
   "id": "0610f843-0bc3-41b4-93d7-e01be302a3c8",
   "metadata": {},
   "outputs": [
    {
     "data": {
      "text/plain": [
       "69300"
      ]
     },
     "execution_count": 4,
     "metadata": {},
     "output_type": "execute_result"
    }
   ],
   "source": [
    "for region_id, region_hull in region_hulls.iterrows():\n",
    "    region_hull = region_hull[\"convex_hull\"]\n",
    "    if region_id == 69300: break\n",
    "region_id"
   ]
  },
  {
   "cell_type": "code",
   "execution_count": 5,
   "id": "1d77ae90-733f-4a13-930f-fe12d9d549bb",
   "metadata": {},
   "outputs": [],
   "source": [
    "hull_boundary = region_hull.bounds"
   ]
  },
  {
   "cell_type": "code",
   "execution_count": null,
   "id": "1fd23cbc-700a-4896-bc89-6277e28f45f6",
   "metadata": {},
   "outputs": [],
   "source": []
  },
  {
   "cell_type": "code",
   "execution_count": null,
   "id": "dbcea60d-b0b2-4097-aca6-667e4a3704f7",
   "metadata": {},
   "outputs": [],
   "source": []
  },
  {
   "cell_type": "code",
   "execution_count": 7,
   "id": "9d8d20fc-058c-4514-b419-e2974f08a380",
   "metadata": {
    "scrolled": true
   },
   "outputs": [],
   "source": [
    "# !conda install -c conda-forge overturemaps -y"
   ]
  },
  {
   "cell_type": "code",
   "execution_count": null,
   "id": "06af8c88-6343-444c-b605-4bcf366a9453",
   "metadata": {},
   "outputs": [],
   "source": []
  },
  {
   "cell_type": "code",
   "execution_count": 8,
   "id": "4f00362b-2a8d-4335-8e4b-0d51b7808c2a",
   "metadata": {},
   "outputs": [],
   "source": [
    "## from overturemaps-py\n",
    "from typing import List, Optional\n",
    "\n",
    "import pyarrow as pa\n",
    "import pyarrow.compute as pc\n",
    "import pyarrow.dataset as ds\n",
    "import pyarrow.fs as fs\n",
    "import json\n",
    "import os\n",
    "import sys\n",
    "from typing import Optional\n",
    "import pyarrow.parquet as pq\n",
    "import shapely.wkb\n",
    "\n",
    "def record_batch_reader(overture_type, bbox=None) -> Optional[pa.RecordBatchReader]:\n",
    "    \"\"\"\n",
    "    Return a pyarrow RecordBatchReader for the desired bounding box and s3 path\n",
    "    \"\"\"\n",
    "    path = _dataset_path(overture_type)\n",
    "\n",
    "    if bbox:\n",
    "        xmin, ymin, xmax, ymax = bbox\n",
    "        filter = (\n",
    "            (pc.field(\"bbox\", \"xmin\") < xmax)\n",
    "            & (pc.field(\"bbox\", \"xmax\") > xmin)\n",
    "            & (pc.field(\"bbox\", \"ymin\") < ymax)\n",
    "            & (pc.field(\"bbox\", \"ymax\") > ymin)\n",
    "        )\n",
    "    else:\n",
    "        filter = None\n",
    "\n",
    "    dataset = ds.dataset(\n",
    "        path, filesystem=fs.S3FileSystem(anonymous=True, region=\"us-west-2\")\n",
    "    )\n",
    "    batches = dataset.to_batches(filter=filter)\n",
    "\n",
    "    # to_batches() can yield many batches with no rows. I've seen\n",
    "    # this cause downstream crashes or other negative effects. For\n",
    "    # example, the ParquetWriter will emit an empty row group for\n",
    "    # each one bloating the size of a parquet file. Just omit\n",
    "    # them so the RecordBatchReader only has non-empty ones. Use\n",
    "    # the generator syntax so the batches are streamed out\n",
    "    non_empty_batches = (b for b in batches if b.num_rows > 0)\n",
    "\n",
    "    geoarrow_schema = geoarrow_schema_adapter(dataset.schema)\n",
    "    reader = pa.RecordBatchReader.from_batches(geoarrow_schema, non_empty_batches)\n",
    "    return reader\n",
    "\n",
    "\n",
    "def geoarrow_schema_adapter(schema: pa.Schema) -> pa.Schema:\n",
    "    \"\"\"\n",
    "    Convert a geoarrow-compatible schema to a proper geoarrow schema\n",
    "\n",
    "    This assumes there is a single \"geometry\" column with WKB formatting\n",
    "\n",
    "    Parameters\n",
    "    ----------\n",
    "    schema: pa.Schema\n",
    "\n",
    "    Returns\n",
    "    -------\n",
    "    pa.Schema\n",
    "    A copy of the input schema with the geometry field replaced with\n",
    "    a new one with the proper geoarrow ARROW:extension metadata\n",
    "\n",
    "    \"\"\"\n",
    "    geometry_field_index = schema.get_field_index(\"geometry\")\n",
    "    geometry_field = schema.field(geometry_field_index)\n",
    "    geoarrow_geometry_field = geometry_field.with_metadata(\n",
    "        {b\"ARROW:extension:name\": b\"geoarrow.wkb\"}\n",
    "    )\n",
    "\n",
    "    geoarrow_schema = schema.set(geometry_field_index, geoarrow_geometry_field)\n",
    "\n",
    "    return geoarrow_schema\n",
    "\n",
    "\n",
    "type_theme_map = {\n",
    "    \"locality\": \"admins\",\n",
    "    \"locality_area\": \"admins\",\n",
    "    \"administrative_boundary\": \"admins\",\n",
    "    \"building\": \"buildings\",\n",
    "    \"building_part\": \"buildings\",\n",
    "    \"division\": \"divisions\",\n",
    "    \"division_area\": \"divisions\",\n",
    "    \"place\": \"places\",\n",
    "    \"segment\": \"transportation\",\n",
    "    \"connector\": \"transportation\",\n",
    "    \"infrastructure\": \"base\",\n",
    "    \"land\": \"base\",\n",
    "    \"land_cover\": \"base\",\n",
    "    \"land_use\": \"base\",\n",
    "    \"water\": \"base\",\n",
    "}\n",
    "\n",
    "\n",
    "def _dataset_path(overture_type: str) -> str:\n",
    "    \"\"\"\n",
    "    Returns the s3 path of the Overture dataset to use. This assumes overture_type has\n",
    "    been validated, e.g. by the CLI\n",
    "\n",
    "    \"\"\"\n",
    "    # Map of sub-partition \"type\" to parent partition \"theme\" for forming the\n",
    "    # complete s3 path. Could be discovered by reading from the top-level s3\n",
    "    # location but this allows to only read the files in the necessary partition.\n",
    "    theme = type_theme_map[overture_type]\n",
    "    return f\"overturemaps-us-west-2/release/2024-06-13-beta.1/theme={theme}/type={overture_type}/\""
   ]
  },
  {
   "cell_type": "code",
   "execution_count": null,
   "id": "8c203395-d9e0-44d6-94d0-4172fcc8dd13",
   "metadata": {},
   "outputs": [],
   "source": []
  },
  {
   "cell_type": "code",
   "execution_count": 9,
   "id": "7605fba8-740f-4bf2-9af6-222504ea58d8",
   "metadata": {},
   "outputs": [
    {
     "name": "stdout",
     "output_type": "stream",
     "text": [
      "CPU times: user 2 μs, sys: 0 ns, total: 2 μs\n",
      "Wall time: 4.05 μs\n"
     ]
    }
   ],
   "source": [
    "%%time\n",
    "\n",
    "type_ = 'segment'\n",
    "output_format = 'geoparquet'\n",
    "\n",
    "# download(hull_boundary, output_format, f'../data/prague_overture_{type_}.{output_format}', type_)"
   ]
  },
  {
   "cell_type": "code",
   "execution_count": 10,
   "id": "2d089edb-5643-4b20-ab5c-1b57863631d3",
   "metadata": {},
   "outputs": [
    {
     "name": "stdout",
     "output_type": "stream",
     "text": [
      "CPU times: user 2.3 s, sys: 1.39 s, total: 3.69 s\n",
      "Wall time: 2min 30s\n"
     ]
    }
   ],
   "source": [
    "%%time\n",
    "batches = record_batch_reader(type_, hull_boundary).read_all()"
   ]
  },
  {
   "cell_type": "code",
   "execution_count": 19,
   "id": "d195e590-fcdf-459f-a739-abbf80cb156d",
   "metadata": {},
   "outputs": [],
   "source": [
    "gdf = gpd.GeoDataFrame.from_arrow(batches).set_crs(epsg=4326).to_crs(epsg=3035)"
   ]
  },
  {
   "cell_type": "code",
   "execution_count": null,
   "id": "a42e9274-ffe1-4fa4-8976-42bdd32944cc",
   "metadata": {},
   "outputs": [],
   "source": []
  },
  {
   "cell_type": "code",
   "execution_count": null,
   "id": "09606d26-6171-47db-bc39-cd551a152015",
   "metadata": {},
   "outputs": [],
   "source": []
  },
  {
   "cell_type": "code",
   "execution_count": null,
   "id": "52161a7a-0cfa-460f-b2fe-69edc5e9d9f2",
   "metadata": {},
   "outputs": [],
   "source": []
  },
  {
   "cell_type": "code",
   "execution_count": 14,
   "id": "ad6dc58d-394b-4717-b393-984f1a2b44dd",
   "metadata": {},
   "outputs": [],
   "source": [
    "gdf = gdf.iloc[gdf.sindex.query(region_hull, predicate='intersects')]"
   ]
  },
  {
   "cell_type": "code",
   "execution_count": 15,
   "id": "053cfa69-18cb-4a07-adc7-9f9630ef89dc",
   "metadata": {},
   "outputs": [],
   "source": [
    "## service road removed\n",
    "query = \"living_street|motorway|motorway_link|pedestrian|primary|primary_link|residential|secondary|secondary_link|tertiary|tertiary_link|trunk|trunk_link|unclassified\"\n",
    "approved_roads = query.split('|')"
   ]
  },
  {
   "cell_type": "code",
   "execution_count": 16,
   "id": "c169b25c-4104-4ee8-9aca-a770dc3bc279",
   "metadata": {},
   "outputs": [],
   "source": [
    "gdf = gdf[gdf['class'].isin(approved_roads)]"
   ]
  },
  {
   "cell_type": "code",
   "execution_count": 17,
   "id": "e813825a-d813-4f4f-a12d-526ecaed460c",
   "metadata": {},
   "outputs": [],
   "source": [
    "gdf = gdf.sort_values('geometry').reset_index(drop=True)"
   ]
  },
  {
   "cell_type": "code",
   "execution_count": 18,
   "id": "3a2210fe-c467-495e-b047-b39c04922e36",
   "metadata": {},
   "outputs": [],
   "source": [
    "gdf = gdf.sort_values('id')[['id', 'geometry', 'class']].reset_index(drop=True)"
   ]
  },
  {
   "cell_type": "code",
   "execution_count": 19,
   "id": "c3b09952-0bf5-477e-b8a2-65573df671f2",
   "metadata": {},
   "outputs": [],
   "source": [
    "gdf.to_parquet(data_dir + f\"streets/streets_{region_id}.parquet\")"
   ]
  },
  {
   "cell_type": "code",
   "execution_count": null,
   "id": "7c913ad4-1ea2-4c76-8e5a-e35e427f0208",
   "metadata": {},
   "outputs": [],
   "source": []
  },
  {
   "cell_type": "code",
   "execution_count": null,
   "id": "a39d45ae-b419-4b02-9949-b2d77b3baa70",
   "metadata": {},
   "outputs": [],
   "source": []
  },
  {
   "cell_type": "code",
   "execution_count": null,
   "id": "6cd62c65-9720-4db1-88a3-f91d89149792",
   "metadata": {},
   "outputs": [],
   "source": []
  },
  {
   "cell_type": "code",
   "execution_count": null,
   "id": "4939a935-cd60-4e61-b39a-fbf5377adc6e",
   "metadata": {},
   "outputs": [],
   "source": []
  },
  {
   "cell_type": "code",
   "execution_count": 12,
   "id": "4a815ef4-218e-496e-9089-74b1a0019973",
   "metadata": {},
   "outputs": [],
   "source": [
    "region_hulls = gpd.read_parquet(regions_datadir + \"regions/\" + \"regions_hull.parquet\")"
   ]
  },
  {
   "cell_type": "code",
   "execution_count": 13,
   "id": "49afba08-37f6-40f6-b8eb-001dab8fbee4",
   "metadata": {
    "scrolled": true
   },
   "outputs": [],
   "source": [
    "for region_id, region_hull in region_hulls.to_crs('epsg:4326').iterrows():\n",
    "        region_hull = region_hull[\"convex_hull\"]\n",
    "\n",
    "        if region_id == 69300: break"
   ]
  },
  {
   "cell_type": "code",
   "execution_count": 14,
   "id": "b4c68127-11c8-4863-bb72-c99f5265355e",
   "metadata": {},
   "outputs": [],
   "source": [
    "from core.generate_streets import process_region_streets, read_overture_region_streets"
   ]
  },
  {
   "cell_type": "code",
   "execution_count": null,
   "id": "df9a5005-5c07-4e2e-9694-964be75358b7",
   "metadata": {},
   "outputs": [],
   "source": []
  },
  {
   "cell_type": "code",
   "execution_count": 16,
   "id": "ff233b9f-844b-44d2-aeb1-a57a05e451a6",
   "metadata": {
    "scrolled": true
   },
   "outputs": [
    {
     "name": "stdout",
     "output_type": "stream",
     "text": [
      "CPU times: user 3.1 s, sys: 1.42 s, total: 4.52 s\n",
      "Wall time: 2min 33s\n"
     ]
    }
   ],
   "source": [
    "%%time\n",
    "streets = process_region_streets(region_hull, region_id)"
   ]
  },
  {
   "cell_type": "code",
   "execution_count": 18,
   "id": "41e00dba-f4a8-4833-a30c-1455dbe0fde6",
   "metadata": {},
   "outputs": [],
   "source": [
    "streets.to_parquet(data_dir + f\"streets/streets_{region_id}.parquet\")"
   ]
  },
  {
   "cell_type": "code",
   "execution_count": null,
   "id": "c47a14ee-cf49-4264-bd67-7b37a76667fa",
   "metadata": {},
   "outputs": [],
   "source": []
  },
  {
   "cell_type": "code",
   "execution_count": 1,
   "id": "d0db4e00-2f69-4752-b42b-72f6a560135f",
   "metadata": {},
   "outputs": [
    {
     "ename": "NameError",
     "evalue": "name 'gpd' is not defined",
     "output_type": "error",
     "traceback": [
      "\u001b[0;31m---------------------------------------------------------------------------\u001b[0m",
      "\u001b[0;31mNameError\u001b[0m                                 Traceback (most recent call last)",
      "Cell \u001b[0;32mIn[1], line 1\u001b[0m\n\u001b[0;32m----> 1\u001b[0m streets \u001b[38;5;241m=\u001b[39m \u001b[43mgpd\u001b[49m\u001b[38;5;241m.\u001b[39mread_parquet(data_dir \u001b[38;5;241m+\u001b[39m \u001b[38;5;124mf\u001b[39m\u001b[38;5;124m\"\u001b[39m\u001b[38;5;124m/streets/streets_\u001b[39m\u001b[38;5;132;01m{\u001b[39;00mregion_id\u001b[38;5;132;01m}\u001b[39;00m\u001b[38;5;124m.parquet\u001b[39m\u001b[38;5;124m\"\u001b[39m)\n",
      "\u001b[0;31mNameError\u001b[0m: name 'gpd' is not defined"
     ]
    }
   ],
   "source": []
  },
  {
   "cell_type": "code",
   "execution_count": null,
   "id": "907d581f-a80e-4748-bac2-a76dc5b8bba7",
   "metadata": {},
   "outputs": [],
   "source": []
  }
 ],
 "metadata": {
  "kernelspec": {
   "display_name": "Python 3 (ipykernel)",
   "language": "python",
   "name": "python3"
  },
  "language_info": {
   "codemirror_mode": {
    "name": "ipython",
    "version": 3
   },
   "file_extension": ".py",
   "mimetype": "text/x-python",
   "name": "python",
   "nbconvert_exporter": "python",
   "pygments_lexer": "ipython3",
   "version": "3.12.4"
  }
 },
 "nbformat": 4,
 "nbformat_minor": 5
}
